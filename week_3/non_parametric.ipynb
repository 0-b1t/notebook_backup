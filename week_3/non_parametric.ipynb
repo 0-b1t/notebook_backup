{
 "cells": [
  {
   "cell_type": "code",
   "execution_count": 1,
   "metadata": {},
   "outputs": [
    {
     "data": {
      "application/javascript": [
       "\n",
       "            setTimeout(function() {\n",
       "                var nbb_cell_id = 1;\n",
       "                var nbb_unformatted_code = \"%reload_ext nb_black\";\n",
       "                var nbb_formatted_code = \"%reload_ext nb_black\";\n",
       "                var nbb_cells = Jupyter.notebook.get_cells();\n",
       "                for (var i = 0; i < nbb_cells.length; ++i) {\n",
       "                    if (nbb_cells[i].input_prompt_number == nbb_cell_id) {\n",
       "                        if (nbb_cells[i].get_text() == nbb_unformatted_code) {\n",
       "                             nbb_cells[i].set_text(nbb_formatted_code);\n",
       "                        }\n",
       "                        break;\n",
       "                    }\n",
       "                }\n",
       "            }, 500);\n",
       "            "
      ],
      "text/plain": [
       "<IPython.core.display.Javascript object>"
      ]
     },
     "metadata": {},
     "output_type": "display_data"
    }
   ],
   "source": [
    "%reload_ext nb_black"
   ]
  },
  {
   "cell_type": "markdown",
   "metadata": {},
   "source": [
    "# Setup\n",
    "\n",
    "Is there a significant difference in the amount pledged between the Performances, Theater, and Music Kickstarter categories?"
   ]
  },
  {
   "cell_type": "code",
   "execution_count": 2,
   "metadata": {},
   "outputs": [
    {
     "name": "stderr",
     "output_type": "stream",
     "text": [
      "/usr/local/lib/python3.7/site-packages/statsmodels/tools/_testing.py:19: FutureWarning: pandas.util.testing is deprecated. Use the functions in the public API at pandas.testing instead.\n",
      "  import pandas.util.testing as tm\n"
     ]
    },
    {
     "data": {
      "application/javascript": [
       "\n",
       "            setTimeout(function() {\n",
       "                var nbb_cell_id = 2;\n",
       "                var nbb_unformatted_code = \"import pandas as pd\\nimport numpy as np\\nfrom scipy import stats\\nfrom statsmodels.graphics.gofplots import qqplot\\nfrom statsmodels.stats.multitest import multipletests\\nimport seaborn as sns\\nimport matplotlib.pyplot as plt\\n\\n%matplotlib inline\\n\\n\\n# Read kickstarter data\\npostgres_user = \\\"dsbc_student\\\"\\npostgres_pw = \\\"7*.8G9QH21\\\"\\npostgres_host = \\\"142.93.121.174\\\"\\npostgres_port = \\\"5432\\\"\\npostgres_db = \\\"kickstarterprojects\\\"\\n\\nconn_str = f\\\"postgresql://{postgres_user}:{postgres_pw}@{postgres_host}:{postgres_port}/{postgres_db}\\\"\";\n",
       "                var nbb_formatted_code = \"import pandas as pd\\nimport numpy as np\\nfrom scipy import stats\\nfrom statsmodels.graphics.gofplots import qqplot\\nfrom statsmodels.stats.multitest import multipletests\\nimport seaborn as sns\\nimport matplotlib.pyplot as plt\\n\\n%matplotlib inline\\n\\n\\n# Read kickstarter data\\npostgres_user = \\\"dsbc_student\\\"\\npostgres_pw = \\\"7*.8G9QH21\\\"\\npostgres_host = \\\"142.93.121.174\\\"\\npostgres_port = \\\"5432\\\"\\npostgres_db = \\\"kickstarterprojects\\\"\\n\\nconn_str = f\\\"postgresql://{postgres_user}:{postgres_pw}@{postgres_host}:{postgres_port}/{postgres_db}\\\"\";\n",
       "                var nbb_cells = Jupyter.notebook.get_cells();\n",
       "                for (var i = 0; i < nbb_cells.length; ++i) {\n",
       "                    if (nbb_cells[i].input_prompt_number == nbb_cell_id) {\n",
       "                        if (nbb_cells[i].get_text() == nbb_unformatted_code) {\n",
       "                             nbb_cells[i].set_text(nbb_formatted_code);\n",
       "                        }\n",
       "                        break;\n",
       "                    }\n",
       "                }\n",
       "            }, 500);\n",
       "            "
      ],
      "text/plain": [
       "<IPython.core.display.Javascript object>"
      ]
     },
     "metadata": {},
     "output_type": "display_data"
    }
   ],
   "source": [
    "import pandas as pd\n",
    "import numpy as np\n",
    "from scipy import stats\n",
    "from statsmodels.graphics.gofplots import qqplot\n",
    "from statsmodels.stats.multitest import multipletests\n",
    "import seaborn as sns\n",
    "import matplotlib.pyplot as plt\n",
    "\n",
    "%matplotlib inline\n",
    "\n",
    "\n",
    "# Read kickstarter data\n",
    "postgres_user = \"dsbc_student\"\n",
    "postgres_pw = \"7*.8G9QH21\"\n",
    "postgres_host = \"142.93.121.174\"\n",
    "postgres_port = \"5432\"\n",
    "postgres_db = \"kickstarterprojects\"\n",
    "\n",
    "conn_str = f\"postgresql://{postgres_user}:{postgres_pw}@{postgres_host}:{postgres_port}/{postgres_db}\""
   ]
  },
  {
   "cell_type": "markdown",
   "metadata": {},
   "source": [
    "Write a query to get the `category` and amount `pledged` for the `Performances`, `Theater`, and `Music` categories from the `ksprojects` table."
   ]
  },
  {
   "cell_type": "code",
   "execution_count": 3,
   "metadata": {},
   "outputs": [
    {
     "data": {
      "application/javascript": [
       "\n",
       "            setTimeout(function() {\n",
       "                var nbb_cell_id = 3;\n",
       "                var nbb_unformatted_code = \"query = \\\"\\\"\\\"\\n    SELECT \\n        category,\\n        pledged\\n    FROM \\n        ksprojects\\n    WHERE category IN ('Performances', 'Theater', 'Music')\\n\\\"\\\"\\\"\";\n",
       "                var nbb_formatted_code = \"query = \\\"\\\"\\\"\\n    SELECT \\n        category,\\n        pledged\\n    FROM \\n        ksprojects\\n    WHERE category IN ('Performances', 'Theater', 'Music')\\n\\\"\\\"\\\"\";\n",
       "                var nbb_cells = Jupyter.notebook.get_cells();\n",
       "                for (var i = 0; i < nbb_cells.length; ++i) {\n",
       "                    if (nbb_cells[i].input_prompt_number == nbb_cell_id) {\n",
       "                        if (nbb_cells[i].get_text() == nbb_unformatted_code) {\n",
       "                             nbb_cells[i].set_text(nbb_formatted_code);\n",
       "                        }\n",
       "                        break;\n",
       "                    }\n",
       "                }\n",
       "            }, 500);\n",
       "            "
      ],
      "text/plain": [
       "<IPython.core.display.Javascript object>"
      ]
     },
     "metadata": {},
     "output_type": "display_data"
    }
   ],
   "source": [
    "query = \"\"\"\n",
    "    SELECT \n",
    "        category,\n",
    "        pledged\n",
    "    FROM \n",
    "        ksprojects\n",
    "    WHERE category IN ('Performances', 'Theater', 'Music')\n",
    "\"\"\""
   ]
  },
  {
   "cell_type": "markdown",
   "metadata": {},
   "source": [
    "Run the query and store the output to a pandas DataFrame."
   ]
  },
  {
   "cell_type": "code",
   "execution_count": 4,
   "metadata": {},
   "outputs": [
    {
     "data": {
      "text/html": [
       "<div>\n",
       "<style scoped>\n",
       "    .dataframe tbody tr th:only-of-type {\n",
       "        vertical-align: middle;\n",
       "    }\n",
       "\n",
       "    .dataframe tbody tr th {\n",
       "        vertical-align: top;\n",
       "    }\n",
       "\n",
       "    .dataframe thead th {\n",
       "        text-align: right;\n",
       "    }\n",
       "</style>\n",
       "<table border=\"1\" class=\"dataframe\">\n",
       "  <thead>\n",
       "    <tr style=\"text-align: right;\">\n",
       "      <th></th>\n",
       "      <th>category</th>\n",
       "      <th>pledged</th>\n",
       "    </tr>\n",
       "  </thead>\n",
       "  <tbody>\n",
       "    <tr>\n",
       "      <th>0</th>\n",
       "      <td>Theater</td>\n",
       "      <td>6575.0</td>\n",
       "    </tr>\n",
       "    <tr>\n",
       "      <th>1</th>\n",
       "      <td>Theater</td>\n",
       "      <td>1515.0</td>\n",
       "    </tr>\n",
       "    <tr>\n",
       "      <th>2</th>\n",
       "      <td>Theater</td>\n",
       "      <td>800.0</td>\n",
       "    </tr>\n",
       "  </tbody>\n",
       "</table>\n",
       "</div>"
      ],
      "text/plain": [
       "  category  pledged\n",
       "0  Theater   6575.0\n",
       "1  Theater   1515.0\n",
       "2  Theater    800.0"
      ]
     },
     "execution_count": 4,
     "metadata": {},
     "output_type": "execute_result"
    },
    {
     "data": {
      "application/javascript": [
       "\n",
       "            setTimeout(function() {\n",
       "                var nbb_cell_id = 4;\n",
       "                var nbb_unformatted_code = \"ks = pd.read_sql_query(query, conn_str)\\nks.head(3)\";\n",
       "                var nbb_formatted_code = \"ks = pd.read_sql_query(query, conn_str)\\nks.head(3)\";\n",
       "                var nbb_cells = Jupyter.notebook.get_cells();\n",
       "                for (var i = 0; i < nbb_cells.length; ++i) {\n",
       "                    if (nbb_cells[i].input_prompt_number == nbb_cell_id) {\n",
       "                        if (nbb_cells[i].get_text() == nbb_unformatted_code) {\n",
       "                             nbb_cells[i].set_text(nbb_formatted_code);\n",
       "                        }\n",
       "                        break;\n",
       "                    }\n",
       "                }\n",
       "            }, 500);\n",
       "            "
      ],
      "text/plain": [
       "<IPython.core.display.Javascript object>"
      ]
     },
     "metadata": {},
     "output_type": "display_data"
    }
   ],
   "source": [
    "ks = pd.read_sql_query(query, conn_str)\n",
    "ks.head(3)"
   ]
  },
  {
   "cell_type": "code",
   "execution_count": 5,
   "metadata": {
    "scrolled": true
   },
   "outputs": [
    {
     "data": {
      "text/plain": [
       "Music           2740\n",
       "Theater         1376\n",
       "Performances     158\n",
       "Name: category, dtype: int64"
      ]
     },
     "execution_count": 5,
     "metadata": {},
     "output_type": "execute_result"
    },
    {
     "data": {
      "application/javascript": [
       "\n",
       "            setTimeout(function() {\n",
       "                var nbb_cell_id = 5;\n",
       "                var nbb_unformatted_code = \"ks[\\\"category\\\"].value_counts()\";\n",
       "                var nbb_formatted_code = \"ks[\\\"category\\\"].value_counts()\";\n",
       "                var nbb_cells = Jupyter.notebook.get_cells();\n",
       "                for (var i = 0; i < nbb_cells.length; ++i) {\n",
       "                    if (nbb_cells[i].input_prompt_number == nbb_cell_id) {\n",
       "                        if (nbb_cells[i].get_text() == nbb_unformatted_code) {\n",
       "                             nbb_cells[i].set_text(nbb_formatted_code);\n",
       "                        }\n",
       "                        break;\n",
       "                    }\n",
       "                }\n",
       "            }, 500);\n",
       "            "
      ],
      "text/plain": [
       "<IPython.core.display.Javascript object>"
      ]
     },
     "metadata": {},
     "output_type": "display_data"
    }
   ],
   "source": [
    "ks[\"category\"].value_counts()"
   ]
  },
  {
   "cell_type": "code",
   "execution_count": 6,
   "metadata": {},
   "outputs": [
    {
     "data": {
      "text/plain": [
       "category    0\n",
       "pledged     0\n",
       "dtype: int64"
      ]
     },
     "execution_count": 6,
     "metadata": {},
     "output_type": "execute_result"
    },
    {
     "data": {
      "application/javascript": [
       "\n",
       "            setTimeout(function() {\n",
       "                var nbb_cell_id = 6;\n",
       "                var nbb_unformatted_code = \"ks.isna().sum()\";\n",
       "                var nbb_formatted_code = \"ks.isna().sum()\";\n",
       "                var nbb_cells = Jupyter.notebook.get_cells();\n",
       "                for (var i = 0; i < nbb_cells.length; ++i) {\n",
       "                    if (nbb_cells[i].input_prompt_number == nbb_cell_id) {\n",
       "                        if (nbb_cells[i].get_text() == nbb_unformatted_code) {\n",
       "                             nbb_cells[i].set_text(nbb_formatted_code);\n",
       "                        }\n",
       "                        break;\n",
       "                    }\n",
       "                }\n",
       "            }, 500);\n",
       "            "
      ],
      "text/plain": [
       "<IPython.core.display.Javascript object>"
      ]
     },
     "metadata": {},
     "output_type": "display_data"
    }
   ],
   "source": [
    "ks.isna().sum()"
   ]
  },
  {
   "cell_type": "markdown",
   "metadata": {},
   "source": [
    "Descriptively, how do the groups compare?  Make some visualization or print out some stats. "
   ]
  },
  {
   "cell_type": "code",
   "execution_count": 7,
   "metadata": {},
   "outputs": [
    {
     "data": {
      "image/png": "[encoded data removed]",
      "text/plain": [
       "<Figure size 432x288 with 1 Axes>"
      ]
     },
     "metadata": {
      "needs_background": "light"
     },
     "output_type": "display_data"
    },
    {
     "data": {
      "application/javascript": [
       "\n",
       "            setTimeout(function() {\n",
       "                var nbb_cell_id = 7;\n",
       "                var nbb_unformatted_code = \"sns.violinplot(\\\"category\\\", \\\"pledged\\\", data=ks)\\nplt.show()\";\n",
       "                var nbb_formatted_code = \"sns.violinplot(\\\"category\\\", \\\"pledged\\\", data=ks)\\nplt.show()\";\n",
       "                var nbb_cells = Jupyter.notebook.get_cells();\n",
       "                for (var i = 0; i < nbb_cells.length; ++i) {\n",
       "                    if (nbb_cells[i].input_prompt_number == nbb_cell_id) {\n",
       "                        if (nbb_cells[i].get_text() == nbb_unformatted_code) {\n",
       "                             nbb_cells[i].set_text(nbb_formatted_code);\n",
       "                        }\n",
       "                        break;\n",
       "                    }\n",
       "                }\n",
       "            }, 500);\n",
       "            "
      ],
      "text/plain": [
       "<IPython.core.display.Javascript object>"
      ]
     },
     "metadata": {},
     "output_type": "display_data"
    }
   ],
   "source": [
    "sns.violinplot(\"category\", \"pledged\", data=ks)\n",
    "plt.show()"
   ]
  },
  {
   "cell_type": "markdown",
   "metadata": {},
   "source": [
    "Let's separate the data into 3 different dataframes for analysis."
   ]
  },
  {
   "cell_type": "code",
   "execution_count": 8,
   "metadata": {},
   "outputs": [
    {
     "data": {
      "application/javascript": [
       "\n",
       "            setTimeout(function() {\n",
       "                var nbb_cell_id = 8;\n",
       "                var nbb_unformatted_code = \"# SELECT *\\n# FROM ks\\n# WHERE category = 'Music'\\nmusic = ks[ks[\\\"category\\\"] == \\\"Music\\\"]\\nthtr = ks[ks[\\\"category\\\"] == \\\"Theater\\\"]\\nperf = ks[ks[\\\"category\\\"] == \\\"Performances\\\"]\";\n",
       "                var nbb_formatted_code = \"# SELECT *\\n# FROM ks\\n# WHERE category = 'Music'\\nmusic = ks[ks[\\\"category\\\"] == \\\"Music\\\"]\\nthtr = ks[ks[\\\"category\\\"] == \\\"Theater\\\"]\\nperf = ks[ks[\\\"category\\\"] == \\\"Performances\\\"]\";\n",
       "                var nbb_cells = Jupyter.notebook.get_cells();\n",
       "                for (var i = 0; i < nbb_cells.length; ++i) {\n",
       "                    if (nbb_cells[i].input_prompt_number == nbb_cell_id) {\n",
       "                        if (nbb_cells[i].get_text() == nbb_unformatted_code) {\n",
       "                             nbb_cells[i].set_text(nbb_formatted_code);\n",
       "                        }\n",
       "                        break;\n",
       "                    }\n",
       "                }\n",
       "            }, 500);\n",
       "            "
      ],
      "text/plain": [
       "<IPython.core.display.Javascript object>"
      ]
     },
     "metadata": {},
     "output_type": "display_data"
    }
   ],
   "source": [
    "# SELECT *\n",
    "# FROM ks\n",
    "# WHERE category = 'Music'\n",
    "music = ks[ks[\"category\"] == \"Music\"]\n",
    "thtr = ks[ks[\"category\"] == \"Theater\"]\n",
    "perf = ks[ks[\"category\"] == \"Performances\"]"
   ]
  },
  {
   "cell_type": "markdown",
   "metadata": {},
   "source": [
    "## ANOVA Assumption Check\n",
    "\n",
    "We have 3 groups and we want to compare their means.  This should trigger your ANOVA neurons to start firing, but we need to make sure our assumption of normality is met before performing this test.  To check for normality we could use any of the methods we've covered.  Here, let's look at QQ plots for each sample."
   ]
  },
  {
   "cell_type": "code",
   "execution_count": 9,
   "metadata": {},
   "outputs": [
    {
     "data": {
      "image/png": "[encoded data removed]",
      "text/plain": [
       "<Figure size 432x288 with 1 Axes>"
      ]
     },
     "metadata": {
      "needs_background": "light"
     },
     "output_type": "display_data"
    },
    {
     "data": {
      "application/javascript": [
       "\n",
       "            setTimeout(function() {\n",
       "                var nbb_cell_id = 9;\n",
       "                var nbb_unformatted_code = \"qqplot(music[\\\"pledged\\\"], line=\\\"s\\\")\\nplt.show()\";\n",
       "                var nbb_formatted_code = \"qqplot(music[\\\"pledged\\\"], line=\\\"s\\\")\\nplt.show()\";\n",
       "                var nbb_cells = Jupyter.notebook.get_cells();\n",
       "                for (var i = 0; i < nbb_cells.length; ++i) {\n",
       "                    if (nbb_cells[i].input_prompt_number == nbb_cell_id) {\n",
       "                        if (nbb_cells[i].get_text() == nbb_unformatted_code) {\n",
       "                             nbb_cells[i].set_text(nbb_formatted_code);\n",
       "                        }\n",
       "                        break;\n",
       "                    }\n",
       "                }\n",
       "            }, 500);\n",
       "            "
      ],
      "text/plain": [
       "<IPython.core.display.Javascript object>"
      ]
     },
     "metadata": {},
     "output_type": "display_data"
    }
   ],
   "source": [
    "qqplot(music[\"pledged\"], line=\"s\")\n",
    "plt.show()"
   ]
  },
  {
   "cell_type": "code",
   "execution_count": 10,
   "metadata": {},
   "outputs": [
    {
     "data": {
      "image/png": "[encoded data removed]",
      "text/plain": [
       "<Figure size 432x288 with 1 Axes>"
      ]
     },
     "metadata": {
      "needs_background": "light"
     },
     "output_type": "display_data"
    },
    {
     "data": {
      "application/javascript": [
       "\n",
       "            setTimeout(function() {\n",
       "                var nbb_cell_id = 10;\n",
       "                var nbb_unformatted_code = \"qqplot(thtr[\\\"pledged\\\"], line=\\\"s\\\")\\nplt.show()\";\n",
       "                var nbb_formatted_code = \"qqplot(thtr[\\\"pledged\\\"], line=\\\"s\\\")\\nplt.show()\";\n",
       "                var nbb_cells = Jupyter.notebook.get_cells();\n",
       "                for (var i = 0; i < nbb_cells.length; ++i) {\n",
       "                    if (nbb_cells[i].input_prompt_number == nbb_cell_id) {\n",
       "                        if (nbb_cells[i].get_text() == nbb_unformatted_code) {\n",
       "                             nbb_cells[i].set_text(nbb_formatted_code);\n",
       "                        }\n",
       "                        break;\n",
       "                    }\n",
       "                }\n",
       "            }, 500);\n",
       "            "
      ],
      "text/plain": [
       "<IPython.core.display.Javascript object>"
      ]
     },
     "metadata": {},
     "output_type": "display_data"
    }
   ],
   "source": [
    "qqplot(thtr[\"pledged\"], line=\"s\")\n",
    "plt.show()"
   ]
  },
  {
   "cell_type": "code",
   "execution_count": 11,
   "metadata": {},
   "outputs": [
    {
     "data": {
      "image/png": "[encoded data removed]",
      "text/plain": [
       "<Figure size 432x288 with 1 Axes>"
      ]
     },
     "metadata": {
      "needs_background": "light"
     },
     "output_type": "display_data"
    },
    {
     "data": {
      "application/javascript": [
       "\n",
       "            setTimeout(function() {\n",
       "                var nbb_cell_id = 11;\n",
       "                var nbb_unformatted_code = \"qqplot(perf[\\\"pledged\\\"], line=\\\"s\\\")\\nplt.show()\";\n",
       "                var nbb_formatted_code = \"qqplot(perf[\\\"pledged\\\"], line=\\\"s\\\")\\nplt.show()\";\n",
       "                var nbb_cells = Jupyter.notebook.get_cells();\n",
       "                for (var i = 0; i < nbb_cells.length; ++i) {\n",
       "                    if (nbb_cells[i].input_prompt_number == nbb_cell_id) {\n",
       "                        if (nbb_cells[i].get_text() == nbb_unformatted_code) {\n",
       "                             nbb_cells[i].set_text(nbb_formatted_code);\n",
       "                        }\n",
       "                        break;\n",
       "                    }\n",
       "                }\n",
       "            }, 500);\n",
       "            "
      ],
      "text/plain": [
       "<IPython.core.display.Javascript object>"
      ]
     },
     "metadata": {},
     "output_type": "display_data"
    }
   ],
   "source": [
    "qqplot(perf[\"pledged\"], line=\"s\")\n",
    "plt.show()"
   ]
  },
  {
   "cell_type": "markdown",
   "metadata": {},
   "source": [
    "## Kruskal Wallis\n",
    "\n",
    "Not looking too normal based on those plots... a non-parametric ANOVA test is the Kruskal Wallis test.  This uses the ranks of our data values rather than the values themselves a good write-up/example of this can be found [here](https://www.statisticshowto.datasciencecentral.com/kruskal-wallis/).  The below list of assumptions is from that linked resource.\n",
    "\n",
    "> #### Assumptions for the Kruskal Wallis Test\n",
    "> Your variables should have:\n",
    ">\n",
    "> * One independent variable with two or more levels (independent groups). The test is more commonly used when you have three or more levels. For two levels, consider using the Mann Whitney U Test instead.\n",
    "> * Ordinal scale, Ratio Scale or Interval scale dependent variables.\n",
    "> * Your observations should be independent. In other words, there should be no relationship between the members in each group or between groups.\n",
    "> * All groups should have the same shape distributions.\n",
    "\n",
    "One way to examine the shape could be a histograms by group.  We're roughly the same shape."
   ]
  },
  {
   "cell_type": "code",
   "execution_count": 12,
   "metadata": {
    "scrolled": false
   },
   "outputs": [
    {
     "data": {
      "image/png": "[encoded data removed]",
      "text/plain": [
       "<Figure size 720x360 with 4 Axes>"
      ]
     },
     "metadata": {
      "needs_background": "light"
     },
     "output_type": "display_data"
    },
    {
     "data": {
      "application/javascript": [
       "\n",
       "            setTimeout(function() {\n",
       "                var nbb_cell_id = 12;\n",
       "                var nbb_unformatted_code = \"# in general, to make it bigger use figure\\n# plt.figure(figsize=(10, 5))\\n\\nks.hist(by=\\\"category\\\", figsize=(10, 5))\\nplt.tight_layout()\\nplt.show()\";\n",
       "                var nbb_formatted_code = \"# in general, to make it bigger use figure\\n# plt.figure(figsize=(10, 5))\\n\\nks.hist(by=\\\"category\\\", figsize=(10, 5))\\nplt.tight_layout()\\nplt.show()\";\n",
       "                var nbb_cells = Jupyter.notebook.get_cells();\n",
       "                for (var i = 0; i < nbb_cells.length; ++i) {\n",
       "                    if (nbb_cells[i].input_prompt_number == nbb_cell_id) {\n",
       "                        if (nbb_cells[i].get_text() == nbb_unformatted_code) {\n",
       "                             nbb_cells[i].set_text(nbb_formatted_code);\n",
       "                        }\n",
       "                        break;\n",
       "                    }\n",
       "                }\n",
       "            }, 500);\n",
       "            "
      ],
      "text/plain": [
       "<IPython.core.display.Javascript object>"
      ]
     },
     "metadata": {},
     "output_type": "display_data"
    }
   ],
   "source": [
    "# in general, to make it bigger use figure\n",
    "# plt.figure(figsize=(10, 5))\n",
    "\n",
    "ks.hist(by=\"category\", figsize=(10, 5))\n",
    "plt.tight_layout()\n",
    "plt.show()"
   ]
  },
  {
   "cell_type": "markdown",
   "metadata": {},
   "source": [
    "Let's move on to performing the test with `scipy.stats`.  Note, that we call this the same way as `stats.f_oneway` (for performing an ANOVA with `scipy.stats`)."
   ]
  },
  {
   "cell_type": "markdown",
   "metadata": {},
   "source": [
    "* $H_o$: there is no difference in medians\n",
    "* $H_a$: there is at least one median that is different"
   ]
  },
  {
   "cell_type": "code",
   "execution_count": 13,
   "metadata": {
    "scrolled": true
   },
   "outputs": [
    {
     "data": {
      "text/plain": [
       "True"
      ]
     },
     "execution_count": 13,
     "metadata": {},
     "output_type": "execute_result"
    },
    {
     "data": {
      "application/javascript": [
       "\n",
       "            setTimeout(function() {\n",
       "                var nbb_cell_id = 13;\n",
       "                var nbb_unformatted_code = \"_, p = stats.kruskal(thtr[\\\"pledged\\\"], music[\\\"pledged\\\"], perf[\\\"pledged\\\"])\\np < 0.05\";\n",
       "                var nbb_formatted_code = \"_, p = stats.kruskal(thtr[\\\"pledged\\\"], music[\\\"pledged\\\"], perf[\\\"pledged\\\"])\\np < 0.05\";\n",
       "                var nbb_cells = Jupyter.notebook.get_cells();\n",
       "                for (var i = 0; i < nbb_cells.length; ++i) {\n",
       "                    if (nbb_cells[i].input_prompt_number == nbb_cell_id) {\n",
       "                        if (nbb_cells[i].get_text() == nbb_unformatted_code) {\n",
       "                             nbb_cells[i].set_text(nbb_formatted_code);\n",
       "                        }\n",
       "                        break;\n",
       "                    }\n",
       "                }\n",
       "            }, 500);\n",
       "            "
      ],
      "text/plain": [
       "<IPython.core.display.Javascript object>"
      ]
     },
     "metadata": {},
     "output_type": "display_data"
    }
   ],
   "source": [
    "_, p = stats.kruskal(thtr[\"pledged\"], music[\"pledged\"], perf[\"pledged\"])\n",
    "p < 0.05"
   ]
  },
  {
   "cell_type": "markdown",
   "metadata": {},
   "source": [
    "## Kruskal Post Hoc\n",
    "\n",
    "So we've concluded at least one median is different.  Time for some post hoc analysis.  We'll be doing multiple tests to determine this, so we need to correct for this compounding chance of a Type I error.\n",
    "\n",
    "Let's use [`stats.mannwhitneyu()`](https://docs.scipy.org/doc/scipy/reference/generated/scipy.stats.mannwhitneyu.html) to perform these follow up tests. We could possibly reuse the kruskal wallis to acheive the same results; kruskal wallis is a generalization of the mann whitney test to extend it to `n_groups > 2`.\n",
    "\n",
    "* Perform 3 `stats.mannwhitneyu()` tests to compare each pair of our 3 groups.\n",
    "* Save all of the outputted p-values to a list."
   ]
  },
  {
   "cell_type": "code",
   "execution_count": 14,
   "metadata": {},
   "outputs": [
    {
     "data": {
      "application/javascript": [
       "\n",
       "            setTimeout(function() {\n",
       "                var nbb_cell_id = 14;\n",
       "                var nbb_unformatted_code = \"_, p1 = stats.mannwhitneyu(thtr[\\\"pledged\\\"], music[\\\"pledged\\\"])\\n_, p2 = stats.mannwhitneyu(thtr[\\\"pledged\\\"], perf[\\\"pledged\\\"])\\n_, p3 = stats.mannwhitneyu(music[\\\"pledged\\\"], perf[\\\"pledged\\\"])\\n\\np_values = [p1, p2, p3]\";\n",
       "                var nbb_formatted_code = \"_, p1 = stats.mannwhitneyu(thtr[\\\"pledged\\\"], music[\\\"pledged\\\"])\\n_, p2 = stats.mannwhitneyu(thtr[\\\"pledged\\\"], perf[\\\"pledged\\\"])\\n_, p3 = stats.mannwhitneyu(music[\\\"pledged\\\"], perf[\\\"pledged\\\"])\\n\\np_values = [p1, p2, p3]\";\n",
       "                var nbb_cells = Jupyter.notebook.get_cells();\n",
       "                for (var i = 0; i < nbb_cells.length; ++i) {\n",
       "                    if (nbb_cells[i].input_prompt_number == nbb_cell_id) {\n",
       "                        if (nbb_cells[i].get_text() == nbb_unformatted_code) {\n",
       "                             nbb_cells[i].set_text(nbb_formatted_code);\n",
       "                        }\n",
       "                        break;\n",
       "                    }\n",
       "                }\n",
       "            }, 500);\n",
       "            "
      ],
      "text/plain": [
       "<IPython.core.display.Javascript object>"
      ]
     },
     "metadata": {},
     "output_type": "display_data"
    }
   ],
   "source": [
    "_, p1 = stats.mannwhitneyu(thtr[\"pledged\"], music[\"pledged\"])\n",
    "_, p2 = stats.mannwhitneyu(thtr[\"pledged\"], perf[\"pledged\"])\n",
    "_, p3 = stats.mannwhitneyu(music[\"pledged\"], perf[\"pledged\"])\n",
    "\n",
    "p_values = [p1, p2, p3]"
   ]
  },
  {
   "cell_type": "code",
   "execution_count": 15,
   "metadata": {},
   "outputs": [
    {
     "data": {
      "text/plain": [
       "[6.683887451901247e-06, 0.30161529865779246, 0.1836774034609001]"
      ]
     },
     "execution_count": 15,
     "metadata": {},
     "output_type": "execute_result"
    },
    {
     "data": {
      "application/javascript": [
       "\n",
       "            setTimeout(function() {\n",
       "                var nbb_cell_id = 15;\n",
       "                var nbb_unformatted_code = \"p_values\";\n",
       "                var nbb_formatted_code = \"p_values\";\n",
       "                var nbb_cells = Jupyter.notebook.get_cells();\n",
       "                for (var i = 0; i < nbb_cells.length; ++i) {\n",
       "                    if (nbb_cells[i].input_prompt_number == nbb_cell_id) {\n",
       "                        if (nbb_cells[i].get_text() == nbb_unformatted_code) {\n",
       "                             nbb_cells[i].set_text(nbb_formatted_code);\n",
       "                        }\n",
       "                        break;\n",
       "                    }\n",
       "                }\n",
       "            }, 500);\n",
       "            "
      ],
      "text/plain": [
       "<IPython.core.display.Javascript object>"
      ]
     },
     "metadata": {},
     "output_type": "display_data"
    }
   ],
   "source": [
    "p_values"
   ]
  },
  {
   "cell_type": "markdown",
   "metadata": {},
   "source": [
    "### Multiple Testing\n",
    "\n",
    "As mentioned above, we have added risk of committing a Type I error when performing repeated tests like this (Type 1 error - rejecting null when there's really no effect).    The `statsmodels` package provides a [`multipletests()`](https://www.statsmodels.org/stable/generated/statsmodels.stats.multitest.multipletests.html) function that can help us mitigate this risk of error (this function was imported at the top of the notebook).\n",
    "\n",
    "* Use `multipletests()` with your list of p-values to correct for multiple tests.\n",
    "* What are our conclusions from this analysis?"
   ]
  },
  {
   "cell_type": "code",
   "execution_count": 16,
   "metadata": {},
   "outputs": [
    {
     "data": {
      "application/javascript": [
       "\n",
       "            setTimeout(function() {\n",
       "                var nbb_cell_id = 16;\n",
       "                var nbb_unformatted_code = \"reject, corr_p, sidak, bonf = multipletests(p_values, alpha=0.05)\";\n",
       "                var nbb_formatted_code = \"reject, corr_p, sidak, bonf = multipletests(p_values, alpha=0.05)\";\n",
       "                var nbb_cells = Jupyter.notebook.get_cells();\n",
       "                for (var i = 0; i < nbb_cells.length; ++i) {\n",
       "                    if (nbb_cells[i].input_prompt_number == nbb_cell_id) {\n",
       "                        if (nbb_cells[i].get_text() == nbb_unformatted_code) {\n",
       "                             nbb_cells[i].set_text(nbb_formatted_code);\n",
       "                        }\n",
       "                        break;\n",
       "                    }\n",
       "                }\n",
       "            }, 500);\n",
       "            "
      ],
      "text/plain": [
       "<IPython.core.display.Javascript object>"
      ]
     },
     "metadata": {},
     "output_type": "display_data"
    }
   ],
   "source": [
    "reject, corr_p, sidak, bonf = multipletests(p_values, alpha=0.05)"
   ]
  },
  {
   "cell_type": "code",
   "execution_count": 17,
   "metadata": {},
   "outputs": [
    {
     "data": {
      "text/plain": [
       "array([ True, False, False])"
      ]
     },
     "execution_count": 17,
     "metadata": {},
     "output_type": "execute_result"
    },
    {
     "data": {
      "application/javascript": [
       "\n",
       "            setTimeout(function() {\n",
       "                var nbb_cell_id = 17;\n",
       "                var nbb_unformatted_code = \"reject\";\n",
       "                var nbb_formatted_code = \"reject\";\n",
       "                var nbb_cells = Jupyter.notebook.get_cells();\n",
       "                for (var i = 0; i < nbb_cells.length; ++i) {\n",
       "                    if (nbb_cells[i].input_prompt_number == nbb_cell_id) {\n",
       "                        if (nbb_cells[i].get_text() == nbb_unformatted_code) {\n",
       "                             nbb_cells[i].set_text(nbb_formatted_code);\n",
       "                        }\n",
       "                        break;\n",
       "                    }\n",
       "                }\n",
       "            }, 500);\n",
       "            "
      ],
      "text/plain": [
       "<IPython.core.display.Javascript object>"
      ]
     },
     "metadata": {},
     "output_type": "display_data"
    }
   ],
   "source": [
    "reject"
   ]
  },
  {
   "cell_type": "code",
   "execution_count": 18,
   "metadata": {},
   "outputs": [
    {
     "data": {
      "text/plain": [
       "array([2.00515283e-05, 3.33617418e-01, 3.33617418e-01])"
      ]
     },
     "execution_count": 18,
     "metadata": {},
     "output_type": "execute_result"
    },
    {
     "data": {
      "application/javascript": [
       "\n",
       "            setTimeout(function() {\n",
       "                var nbb_cell_id = 18;\n",
       "                var nbb_unformatted_code = \"corr_p\";\n",
       "                var nbb_formatted_code = \"corr_p\";\n",
       "                var nbb_cells = Jupyter.notebook.get_cells();\n",
       "                for (var i = 0; i < nbb_cells.length; ++i) {\n",
       "                    if (nbb_cells[i].input_prompt_number == nbb_cell_id) {\n",
       "                        if (nbb_cells[i].get_text() == nbb_unformatted_code) {\n",
       "                             nbb_cells[i].set_text(nbb_formatted_code);\n",
       "                        }\n",
       "                        break;\n",
       "                    }\n",
       "                }\n",
       "            }, 500);\n",
       "            "
      ],
      "text/plain": [
       "<IPython.core.display.Javascript object>"
      ]
     },
     "metadata": {},
     "output_type": "display_data"
    }
   ],
   "source": [
    "corr_p"
   ]
  },
  {
   "cell_type": "code",
   "execution_count": 19,
   "metadata": {},
   "outputs": [
    {
     "data": {
      "text/plain": [
       "0.016952427508441503"
      ]
     },
     "execution_count": 19,
     "metadata": {},
     "output_type": "execute_result"
    },
    {
     "data": {
      "application/javascript": [
       "\n",
       "            setTimeout(function() {\n",
       "                var nbb_cell_id = 19;\n",
       "                var nbb_unformatted_code = \"sidak\";\n",
       "                var nbb_formatted_code = \"sidak\";\n",
       "                var nbb_cells = Jupyter.notebook.get_cells();\n",
       "                for (var i = 0; i < nbb_cells.length; ++i) {\n",
       "                    if (nbb_cells[i].input_prompt_number == nbb_cell_id) {\n",
       "                        if (nbb_cells[i].get_text() == nbb_unformatted_code) {\n",
       "                             nbb_cells[i].set_text(nbb_formatted_code);\n",
       "                        }\n",
       "                        break;\n",
       "                    }\n",
       "                }\n",
       "            }, 500);\n",
       "            "
      ],
      "text/plain": [
       "<IPython.core.display.Javascript object>"
      ]
     },
     "metadata": {},
     "output_type": "display_data"
    }
   ],
   "source": [
    "sidak"
   ]
  },
  {
   "cell_type": "code",
   "execution_count": 20,
   "metadata": {},
   "outputs": [
    {
     "data": {
      "text/plain": [
       "0.016666666666666666"
      ]
     },
     "execution_count": 20,
     "metadata": {},
     "output_type": "execute_result"
    },
    {
     "data": {
      "application/javascript": [
       "\n",
       "            setTimeout(function() {\n",
       "                var nbb_cell_id = 20;\n",
       "                var nbb_unformatted_code = \"bonf\";\n",
       "                var nbb_formatted_code = \"bonf\";\n",
       "                var nbb_cells = Jupyter.notebook.get_cells();\n",
       "                for (var i = 0; i < nbb_cells.length; ++i) {\n",
       "                    if (nbb_cells[i].input_prompt_number == nbb_cell_id) {\n",
       "                        if (nbb_cells[i].get_text() == nbb_unformatted_code) {\n",
       "                             nbb_cells[i].set_text(nbb_formatted_code);\n",
       "                        }\n",
       "                        break;\n",
       "                    }\n",
       "                }\n",
       "            }, 500);\n",
       "            "
      ],
      "text/plain": [
       "<IPython.core.display.Javascript object>"
      ]
     },
     "metadata": {},
     "output_type": "display_data"
    }
   ],
   "source": [
    "bonf"
   ]
  },
  {
   "cell_type": "markdown",
   "metadata": {},
   "source": [
    "Based on our analysis we found:\n",
    "* The mean rank of at least one of our samples is significantly different than the others\n",
    "* There is a significant difference in mean rank between the amount pledged for theater and the amount pledged for music"
   ]
  },
  {
   "cell_type": "markdown",
   "metadata": {},
   "source": [
    "### Confidence Interval"
   ]
  },
  {
   "cell_type": "code",
   "execution_count": 21,
   "metadata": {},
   "outputs": [
    {
     "data": {
      "application/javascript": [
       "\n",
       "            setTimeout(function() {\n",
       "                var nbb_cell_id = 21;\n",
       "                var nbb_unformatted_code = \"def calc_non_param_ci(x1, x2, alpha=0.05):\\n    \\\"\\\"\\\"Calc confidence interval for 2 group median test\\n\\n    Process:\\n      * Find all pairwise diffs\\n      * Sort diffs\\n      * Find appropriate value of k\\n      * Choose lower bound from diffs as: diffs[k]\\n      * Choose upper bound from diffs as: diffs[-k]\\n\\n    Based on: https://www.ncbi.nlm.nih.gov/pmc/articles/PMC2545906/\\n\\n    :param x1: sample 1\\n    :param x2: sample 2\\n    :param alpha: significance level\\n    :return: (tuple) confidence interval bounds\\n    \\\"\\\"\\\"\\n    x1 = np.array(x1)\\n    x2 = np.array(x2)\\n\\n    n1 = x1.size\\n    n2 = x2.size\\n    cv = stats.norm.ppf(1 - alpha / 2)\\n\\n    # Find pairwise differences for every datapoint in each group\\n    diffs = (x1[:, None] - x2).flatten()\\n    diffs.sort()\\n\\n    # For an approximate (1-a)% confidence interval first calculate K:\\n    k = int(round(n1 * n2 / 2 - (cv * (n1 * n2 * (n1 + n2 + 1) / 12) ** 0.5)))\\n\\n    # The Kth smallest to the Kth largest of the n x m differences\\n    # n1 and n2 should be > ~20\\n    ci_lo = diffs[k]\\n    ci_hi = diffs[-k]\\n\\n    return ci_lo, ci_hi\";\n",
       "                var nbb_formatted_code = \"def calc_non_param_ci(x1, x2, alpha=0.05):\\n    \\\"\\\"\\\"Calc confidence interval for 2 group median test\\n\\n    Process:\\n      * Find all pairwise diffs\\n      * Sort diffs\\n      * Find appropriate value of k\\n      * Choose lower bound from diffs as: diffs[k]\\n      * Choose upper bound from diffs as: diffs[-k]\\n\\n    Based on: https://www.ncbi.nlm.nih.gov/pmc/articles/PMC2545906/\\n\\n    :param x1: sample 1\\n    :param x2: sample 2\\n    :param alpha: significance level\\n    :return: (tuple) confidence interval bounds\\n    \\\"\\\"\\\"\\n    x1 = np.array(x1)\\n    x2 = np.array(x2)\\n\\n    n1 = x1.size\\n    n2 = x2.size\\n    cv = stats.norm.ppf(1 - alpha / 2)\\n\\n    # Find pairwise differences for every datapoint in each group\\n    diffs = (x1[:, None] - x2).flatten()\\n    diffs.sort()\\n\\n    # For an approximate (1-a)% confidence interval first calculate K:\\n    k = int(round(n1 * n2 / 2 - (cv * (n1 * n2 * (n1 + n2 + 1) / 12) ** 0.5)))\\n\\n    # The Kth smallest to the Kth largest of the n x m differences\\n    # n1 and n2 should be > ~20\\n    ci_lo = diffs[k]\\n    ci_hi = diffs[-k]\\n\\n    return ci_lo, ci_hi\";\n",
       "                var nbb_cells = Jupyter.notebook.get_cells();\n",
       "                for (var i = 0; i < nbb_cells.length; ++i) {\n",
       "                    if (nbb_cells[i].input_prompt_number == nbb_cell_id) {\n",
       "                        if (nbb_cells[i].get_text() == nbb_unformatted_code) {\n",
       "                             nbb_cells[i].set_text(nbb_formatted_code);\n",
       "                        }\n",
       "                        break;\n",
       "                    }\n",
       "                }\n",
       "            }, 500);\n",
       "            "
      ],
      "text/plain": [
       "<IPython.core.display.Javascript object>"
      ]
     },
     "metadata": {},
     "output_type": "display_data"
    }
   ],
   "source": [
    "def calc_non_param_ci(x1, x2, alpha=0.05):\n",
    "    \"\"\"Calc confidence interval for 2 group median test\n",
    "\n",
    "    Process:\n",
    "      * Find all pairwise diffs\n",
    "      * Sort diffs\n",
    "      * Find appropriate value of k\n",
    "      * Choose lower bound from diffs as: diffs[k]\n",
    "      * Choose upper bound from diffs as: diffs[-k]\n",
    "\n",
    "    Based on: https://www.ncbi.nlm.nih.gov/pmc/articles/PMC2545906/\n",
    "\n",
    "    :param x1: sample 1\n",
    "    :param x2: sample 2\n",
    "    :param alpha: significance level\n",
    "    :return: (tuple) confidence interval bounds\n",
    "    \"\"\"\n",
    "    x1 = np.array(x1)\n",
    "    x2 = np.array(x2)\n",
    "\n",
    "    n1 = x1.size\n",
    "    n2 = x2.size\n",
    "    cv = stats.norm.ppf(1 - alpha / 2)\n",
    "\n",
    "    # Find pairwise differences for every datapoint in each group\n",
    "    diffs = (x1[:, None] - x2).flatten()\n",
    "    diffs.sort()\n",
    "\n",
    "    # For an approximate (1-a)% confidence interval first calculate K:\n",
    "    k = int(round(n1 * n2 / 2 - (cv * (n1 * n2 * (n1 + n2 + 1) / 12) ** 0.5)))\n",
    "\n",
    "    # The Kth smallest to the Kth largest of the n x m differences\n",
    "    # n1 and n2 should be > ~20\n",
    "    ci_lo = diffs[k]\n",
    "    ci_hi = diffs[-k]\n",
    "\n",
    "    return ci_lo, ci_hi"
   ]
  },
  {
   "cell_type": "markdown",
   "metadata": {},
   "source": [
    "The confidence interval formula above has the process of:\n",
    "\n",
    "1. Find the difference between each pair of observations between the 2 groups\n",
    "  * if `x1 = [1, 2]` and `x2 = [1, 2, 3]`\n",
    "  * then it would calculate:\n",
    "    * `[1 - 1, 1 - 2, 1 - 3, 2 - 1, 2 - 2, 2 - 3]`\n",
    "    * `[0, -1, -2, 1, 0, -1]`\n",
    "* Sort the differences\n",
    "  * `[0, -1, -2, 1, 0, -1]` -> `[-2, -1, -1, 0, 0, 1]`\n",
    "* Based on sample size and alpha, choose an appropriate value of `k`, which will be used to choose the start and stop of the CI.\n",
    "  * if `k = 2` in our example our interval would be `(-1, 0)`\n",
    "     * `diffs = [-2, -1, -1, 0, 0, 1]`\n",
    "     * `(diffs[k], diffs[-k])`  \n",
    "  * See function code for details of choosing `k`.  For two samples of size `10`, you would have `100` pairwise differences, and the value of `k` (for an `alpha = 0.05`) would be `24`.  So the confidence interval would be the 24th and the 76th diffs."
   ]
  },
  {
   "cell_type": "code",
   "execution_count": 22,
   "metadata": {
    "scrolled": true
   },
   "outputs": [
    {
     "name": "stdout",
     "output_type": "stream",
     "text": [
      "1604.5\n",
      "952.5\n"
     ]
    },
    {
     "data": {
      "application/javascript": [
       "\n",
       "            setTimeout(function() {\n",
       "                var nbb_cell_id = 22;\n",
       "                var nbb_unformatted_code = \"print(thtr[\\\"pledged\\\"].median())\\nprint(music[\\\"pledged\\\"].median())\";\n",
       "                var nbb_formatted_code = \"print(thtr[\\\"pledged\\\"].median())\\nprint(music[\\\"pledged\\\"].median())\";\n",
       "                var nbb_cells = Jupyter.notebook.get_cells();\n",
       "                for (var i = 0; i < nbb_cells.length; ++i) {\n",
       "                    if (nbb_cells[i].input_prompt_number == nbb_cell_id) {\n",
       "                        if (nbb_cells[i].get_text() == nbb_unformatted_code) {\n",
       "                             nbb_cells[i].set_text(nbb_formatted_code);\n",
       "                        }\n",
       "                        break;\n",
       "                    }\n",
       "                }\n",
       "            }, 500);\n",
       "            "
      ],
      "text/plain": [
       "<IPython.core.display.Javascript object>"
      ]
     },
     "metadata": {},
     "output_type": "display_data"
    }
   ],
   "source": [
    "print(thtr[\"pledged\"].median())\n",
    "print(music[\"pledged\"].median())"
   ]
  },
  {
   "cell_type": "code",
   "execution_count": 23,
   "metadata": {},
   "outputs": [
    {
     "data": {
      "text/plain": [
       "(48.0, 230.0)"
      ]
     },
     "execution_count": 23,
     "metadata": {},
     "output_type": "execute_result"
    },
    {
     "data": {
      "application/javascript": [
       "\n",
       "            setTimeout(function() {\n",
       "                var nbb_cell_id = 23;\n",
       "                var nbb_unformatted_code = \"calc_non_param_ci(thtr[\\\"pledged\\\"], music[\\\"pledged\\\"])\";\n",
       "                var nbb_formatted_code = \"calc_non_param_ci(thtr[\\\"pledged\\\"], music[\\\"pledged\\\"])\";\n",
       "                var nbb_cells = Jupyter.notebook.get_cells();\n",
       "                for (var i = 0; i < nbb_cells.length; ++i) {\n",
       "                    if (nbb_cells[i].input_prompt_number == nbb_cell_id) {\n",
       "                        if (nbb_cells[i].get_text() == nbb_unformatted_code) {\n",
       "                             nbb_cells[i].set_text(nbb_formatted_code);\n",
       "                        }\n",
       "                        break;\n",
       "                    }\n",
       "                }\n",
       "            }, 500);\n",
       "            "
      ],
      "text/plain": [
       "<IPython.core.display.Javascript object>"
      ]
     },
     "metadata": {},
     "output_type": "display_data"
    }
   ],
   "source": [
    "calc_non_param_ci(thtr[\"pledged\"], music[\"pledged\"])"
   ]
  },
  {
   "cell_type": "markdown",
   "metadata": {},
   "source": [
    "### Effect Size"
   ]
  },
  {
   "cell_type": "markdown",
   "metadata": {},
   "source": [
    "#### Common language effect size\n",
    "\n",
    "For the effect size of a Mann Whitney test we might use the 'common-language effect size'.\n",
    "\n",
    "> What is the ‘common-language effect size’?\n",
    "In 1992, [McGraw and Wong](http://psycnet.apa.org/doi/10.1037/0033-2909.111.2.361) introduced the common-language effect size, which they defined as\n",
    ">\n",
    "> \"the probability that a score sampled at random from one distribution will be greater than a score sampled from some other distribution.\""
   ]
  },
  {
   "cell_type": "code",
   "execution_count": 24,
   "metadata": {},
   "outputs": [
    {
     "data": {
      "application/javascript": [
       "\n",
       "            setTimeout(function() {\n",
       "                var nbb_cell_id = 24;\n",
       "                var nbb_unformatted_code = \"def cles_ind(x1, x2):\\n    \\\"\\\"\\\"Calc common language effect size\\n\\n    Interpret as the probability that a score sampled\\n    at random from one distribution will be greater than\\n    a score sampled from some other distribution.\\n\\n    Based on: http://psycnet.apa.org/doi/10.1037/0033-2909.111.2.361\\n\\n    :param x1: sample 1\\n    :param x2: sample 2\\n    :return: (float) common language effect size\\n    \\\"\\\"\\\"\\n    x1 = np.array(x1)\\n    x2 = np.array(x2)\\n\\n    diff = x1[:, None] - x2\\n    cles = max((diff < 0).sum(), (diff > 0).sum()) / diff.size\\n\\n    return cles\";\n",
       "                var nbb_formatted_code = \"def cles_ind(x1, x2):\\n    \\\"\\\"\\\"Calc common language effect size\\n\\n    Interpret as the probability that a score sampled\\n    at random from one distribution will be greater than\\n    a score sampled from some other distribution.\\n\\n    Based on: http://psycnet.apa.org/doi/10.1037/0033-2909.111.2.361\\n\\n    :param x1: sample 1\\n    :param x2: sample 2\\n    :return: (float) common language effect size\\n    \\\"\\\"\\\"\\n    x1 = np.array(x1)\\n    x2 = np.array(x2)\\n\\n    diff = x1[:, None] - x2\\n    cles = max((diff < 0).sum(), (diff > 0).sum()) / diff.size\\n\\n    return cles\";\n",
       "                var nbb_cells = Jupyter.notebook.get_cells();\n",
       "                for (var i = 0; i < nbb_cells.length; ++i) {\n",
       "                    if (nbb_cells[i].input_prompt_number == nbb_cell_id) {\n",
       "                        if (nbb_cells[i].get_text() == nbb_unformatted_code) {\n",
       "                             nbb_cells[i].set_text(nbb_formatted_code);\n",
       "                        }\n",
       "                        break;\n",
       "                    }\n",
       "                }\n",
       "            }, 500);\n",
       "            "
      ],
      "text/plain": [
       "<IPython.core.display.Javascript object>"
      ]
     },
     "metadata": {},
     "output_type": "display_data"
    }
   ],
   "source": [
    "def cles_ind(x1, x2):\n",
    "    \"\"\"Calc common language effect size\n",
    "\n",
    "    Interpret as the probability that a score sampled\n",
    "    at random from one distribution will be greater than\n",
    "    a score sampled from some other distribution.\n",
    "\n",
    "    Based on: http://psycnet.apa.org/doi/10.1037/0033-2909.111.2.361\n",
    "\n",
    "    :param x1: sample 1\n",
    "    :param x2: sample 2\n",
    "    :return: (float) common language effect size\n",
    "    \"\"\"\n",
    "    x1 = np.array(x1)\n",
    "    x2 = np.array(x2)\n",
    "\n",
    "    diff = x1[:, None] - x2\n",
    "    cles = max((diff < 0).sum(), (diff > 0).sum()) / diff.size\n",
    "\n",
    "    return cles"
   ]
  },
  {
   "cell_type": "code",
   "execution_count": 25,
   "metadata": {},
   "outputs": [
    {
     "data": {
      "text/plain": [
       "0.5365979354099474"
      ]
     },
     "execution_count": 25,
     "metadata": {},
     "output_type": "execute_result"
    },
    {
     "data": {
      "application/javascript": [
       "\n",
       "            setTimeout(function() {\n",
       "                var nbb_cell_id = 25;\n",
       "                var nbb_unformatted_code = \"cles_ind(thtr[\\\"pledged\\\"], music[\\\"pledged\\\"])\";\n",
       "                var nbb_formatted_code = \"cles_ind(thtr[\\\"pledged\\\"], music[\\\"pledged\\\"])\";\n",
       "                var nbb_cells = Jupyter.notebook.get_cells();\n",
       "                for (var i = 0; i < nbb_cells.length; ++i) {\n",
       "                    if (nbb_cells[i].input_prompt_number == nbb_cell_id) {\n",
       "                        if (nbb_cells[i].get_text() == nbb_unformatted_code) {\n",
       "                             nbb_cells[i].set_text(nbb_formatted_code);\n",
       "                        }\n",
       "                        break;\n",
       "                    }\n",
       "                }\n",
       "            }, 500);\n",
       "            "
      ],
      "text/plain": [
       "<IPython.core.display.Javascript object>"
      ]
     },
     "metadata": {},
     "output_type": "display_data"
    }
   ],
   "source": [
    "cles_ind(thtr[\"pledged\"], music[\"pledged\"])"
   ]
  },
  {
   "cell_type": "markdown",
   "metadata": {},
   "source": [
    "This effect size is saying that if we randomly choose a pledged amount from theater and randomly choose a pledged amount from music, then there's a 53% chance the theater value is larger.  So although we have a significant test result.  This isn't looking like a huge effect."
   ]
  },
  {
   "cell_type": "markdown",
   "metadata": {},
   "source": [
    "#### Rank-biserial correlation coefficient\n",
    "\n",
    "This sounds intimidating, but it has the same idea as a pearson correlation coefficient (what you think of when you think of a correlation; what you get if you run `df.corr()`).  This is a way to measure a correlation between a binary variable and a numeric variable.  In our mann-whitney test we have 2 groups (binary) and we're comparing numeric data, so this approach to effect size is to indicate the strength of the relationship between the grouping variable and the numeric variable.\n",
    "\n",
    "In the implementation below, the `rbc` ranges from (0, 1).  If the correlation coefficient is close to zero, then it's indicating a weaker relationship.  If the value is closer to one, then it's indicating a stronger relationship."
   ]
  },
  {
   "cell_type": "code",
   "execution_count": 26,
   "metadata": {},
   "outputs": [
    {
     "data": {
      "application/javascript": [
       "\n",
       "            setTimeout(function() {\n",
       "                var nbb_cell_id = 26;\n",
       "                var nbb_unformatted_code = \"def rbc_ind(x1, x2):\\n    \\\"\\\"\\\"Calculate rank-biserial correlation coefficient\\n\\n    Output values range from [0, 1]; interpret as:\\n      * Values closer to 0 are a weaker effect\\n      * Values closer to 1 are a stronger effect\\n\\n    :param x1: sample 1\\n    :param x2: sample 2\\n    :return: (float) rank-biserial correlation coefficient\\n    \\\"\\\"\\\"\\n    n1 = x1.size\\n    n2 = x2.size\\n\\n    u, _ = stats.mannwhitneyu(x1, x2)\\n    rbc = 1 - (2 * u) / (n1 * n2)\\n\\n    return rbc\";\n",
       "                var nbb_formatted_code = \"def rbc_ind(x1, x2):\\n    \\\"\\\"\\\"Calculate rank-biserial correlation coefficient\\n\\n    Output values range from [0, 1]; interpret as:\\n      * Values closer to 0 are a weaker effect\\n      * Values closer to 1 are a stronger effect\\n\\n    :param x1: sample 1\\n    :param x2: sample 2\\n    :return: (float) rank-biserial correlation coefficient\\n    \\\"\\\"\\\"\\n    n1 = x1.size\\n    n2 = x2.size\\n\\n    u, _ = stats.mannwhitneyu(x1, x2)\\n    rbc = 1 - (2 * u) / (n1 * n2)\\n\\n    return rbc\";\n",
       "                var nbb_cells = Jupyter.notebook.get_cells();\n",
       "                for (var i = 0; i < nbb_cells.length; ++i) {\n",
       "                    if (nbb_cells[i].input_prompt_number == nbb_cell_id) {\n",
       "                        if (nbb_cells[i].get_text() == nbb_unformatted_code) {\n",
       "                             nbb_cells[i].set_text(nbb_formatted_code);\n",
       "                        }\n",
       "                        break;\n",
       "                    }\n",
       "                }\n",
       "            }, 500);\n",
       "            "
      ],
      "text/plain": [
       "<IPython.core.display.Javascript object>"
      ]
     },
     "metadata": {},
     "output_type": "display_data"
    }
   ],
   "source": [
    "def rbc_ind(x1, x2):\n",
    "    \"\"\"Calculate rank-biserial correlation coefficient\n",
    "\n",
    "    Output values range from [0, 1]; interpret as:\n",
    "      * Values closer to 0 are a weaker effect\n",
    "      * Values closer to 1 are a stronger effect\n",
    "\n",
    "    :param x1: sample 1\n",
    "    :param x2: sample 2\n",
    "    :return: (float) rank-biserial correlation coefficient\n",
    "    \"\"\"\n",
    "    n1 = x1.size\n",
    "    n2 = x2.size\n",
    "\n",
    "    u, _ = stats.mannwhitneyu(x1, x2)\n",
    "    rbc = 1 - (2 * u) / (n1 * n2)\n",
    "\n",
    "    return rbc\n"
   ]
  },
  {
   "cell_type": "code",
   "execution_count": 27,
   "metadata": {},
   "outputs": [
    {
     "data": {
      "text/plain": [
       "0.08301116109319295"
      ]
     },
     "execution_count": 27,
     "metadata": {},
     "output_type": "execute_result"
    },
    {
     "data": {
      "application/javascript": [
       "\n",
       "            setTimeout(function() {\n",
       "                var nbb_cell_id = 27;\n",
       "                var nbb_unformatted_code = \"rbc_ind(thtr[\\\"pledged\\\"], music[\\\"pledged\\\"])\";\n",
       "                var nbb_formatted_code = \"rbc_ind(thtr[\\\"pledged\\\"], music[\\\"pledged\\\"])\";\n",
       "                var nbb_cells = Jupyter.notebook.get_cells();\n",
       "                for (var i = 0; i < nbb_cells.length; ++i) {\n",
       "                    if (nbb_cells[i].input_prompt_number == nbb_cell_id) {\n",
       "                        if (nbb_cells[i].get_text() == nbb_unformatted_code) {\n",
       "                             nbb_cells[i].set_text(nbb_formatted_code);\n",
       "                        }\n",
       "                        break;\n",
       "                    }\n",
       "                }\n",
       "            }, 500);\n",
       "            "
      ],
      "text/plain": [
       "<IPython.core.display.Javascript object>"
      ]
     },
     "metadata": {},
     "output_type": "display_data"
    }
   ],
   "source": [
    "rbc_ind(thtr[\"pledged\"], music[\"pledged\"])"
   ]
  },
  {
   "cell_type": "markdown",
   "metadata": {},
   "source": [
    "This tells a similar story to the common language effect size.  We have a statistically significant difference, but this difference doesn't appear to be an overwhelmingly large one."
   ]
  },
  {
   "cell_type": "markdown",
   "metadata": {},
   "source": [
    "----\n",
    "\n",
    "**Extra practice**\n",
    "\n",
    "Repeat the post hoc analysis but using the kruskal wallis test in place of the `stats.mannwhitneyu()`.  Remember, you're still performing multiple tests so you should correct for this increased risk of Type 1 error.  Are the conclusions the same?"
   ]
  },
  {
   "cell_type": "code",
   "execution_count": null,
   "metadata": {},
   "outputs": [],
   "source": []
  },
  {
   "cell_type": "markdown",
   "metadata": {},
   "source": [
    "## Non-parametric paired samples\n",
    "\n",
    "In this new setup let's say we have kickstarter data for people at time 1 and time 2.  At time 1 we have donations these people made to music category projects and at time 2 we have donation these same people made to theater projects."
   ]
  },
  {
   "cell_type": "code",
   "execution_count": 28,
   "metadata": {},
   "outputs": [
    {
     "data": {
      "application/javascript": [
       "\n",
       "            setTimeout(function() {\n",
       "                var nbb_cell_id = 28;\n",
       "                var nbb_unformatted_code = \"# reformatting data for new setup\\nn = min(thtr[\\\"pledged\\\"].size, music[\\\"pledged\\\"].size)\\n\\nt1 = thtr[\\\"pledged\\\"].values[:n]\\nt1.sort()\\n\\nt2 = music[\\\"pledged\\\"].values[:n]\\nt2.sort()\\n\\ndf = pd.DataFrame({\\\"theater\\\": t1, \\\"music\\\": t2})\";\n",
       "                var nbb_formatted_code = \"# reformatting data for new setup\\nn = min(thtr[\\\"pledged\\\"].size, music[\\\"pledged\\\"].size)\\n\\nt1 = thtr[\\\"pledged\\\"].values[:n]\\nt1.sort()\\n\\nt2 = music[\\\"pledged\\\"].values[:n]\\nt2.sort()\\n\\ndf = pd.DataFrame({\\\"theater\\\": t1, \\\"music\\\": t2})\";\n",
       "                var nbb_cells = Jupyter.notebook.get_cells();\n",
       "                for (var i = 0; i < nbb_cells.length; ++i) {\n",
       "                    if (nbb_cells[i].input_prompt_number == nbb_cell_id) {\n",
       "                        if (nbb_cells[i].get_text() == nbb_unformatted_code) {\n",
       "                             nbb_cells[i].set_text(nbb_formatted_code);\n",
       "                        }\n",
       "                        break;\n",
       "                    }\n",
       "                }\n",
       "            }, 500);\n",
       "            "
      ],
      "text/plain": [
       "<IPython.core.display.Javascript object>"
      ]
     },
     "metadata": {},
     "output_type": "display_data"
    }
   ],
   "source": [
    "# reformatting data for new setup\n",
    "n = min(thtr[\"pledged\"].size, music[\"pledged\"].size)\n",
    "\n",
    "t1 = thtr[\"pledged\"].values[:n]\n",
    "t1.sort()\n",
    "\n",
    "t2 = music[\"pledged\"].values[:n]\n",
    "t2.sort()\n",
    "\n",
    "df = pd.DataFrame({\"theater\": t1, \"music\": t2})"
   ]
  },
  {
   "cell_type": "markdown",
   "metadata": {},
   "source": [
    "If we were wanting to perform a paired t-test we need to check the normality assumption."
   ]
  },
  {
   "cell_type": "code",
   "execution_count": 29,
   "metadata": {},
   "outputs": [
    {
     "data": {
      "image/png": "[encoded data removed]",
      "text/plain": [
       "<Figure size 432x288 with 1 Axes>"
      ]
     },
     "metadata": {
      "needs_background": "light"
     },
     "output_type": "display_data"
    },
    {
     "data": {
      "image/png": "[encoded data removed]",
      "text/plain": [
       "<Figure size 432x288 with 1 Axes>"
      ]
     },
     "metadata": {
      "needs_background": "light"
     },
     "output_type": "display_data"
    },
    {
     "data": {
      "application/javascript": [
       "\n",
       "            setTimeout(function() {\n",
       "                var nbb_cell_id = 29;\n",
       "                var nbb_unformatted_code = \"df[\\\"diff\\\"] = df[\\\"theater\\\"] - df[\\\"music\\\"]\\n\\nplt.hist(df[\\\"diff\\\"])\\nplt.show()\\n\\nqqplot(df[\\\"diff\\\"], line=\\\"s\\\")\\nplt.show()\";\n",
       "                var nbb_formatted_code = \"df[\\\"diff\\\"] = df[\\\"theater\\\"] - df[\\\"music\\\"]\\n\\nplt.hist(df[\\\"diff\\\"])\\nplt.show()\\n\\nqqplot(df[\\\"diff\\\"], line=\\\"s\\\")\\nplt.show()\";\n",
       "                var nbb_cells = Jupyter.notebook.get_cells();\n",
       "                for (var i = 0; i < nbb_cells.length; ++i) {\n",
       "                    if (nbb_cells[i].input_prompt_number == nbb_cell_id) {\n",
       "                        if (nbb_cells[i].get_text() == nbb_unformatted_code) {\n",
       "                             nbb_cells[i].set_text(nbb_formatted_code);\n",
       "                        }\n",
       "                        break;\n",
       "                    }\n",
       "                }\n",
       "            }, 500);\n",
       "            "
      ],
      "text/plain": [
       "<IPython.core.display.Javascript object>"
      ]
     },
     "metadata": {},
     "output_type": "display_data"
    }
   ],
   "source": [
    "df[\"diff\"] = df[\"theater\"] - df[\"music\"]\n",
    "\n",
    "plt.hist(df[\"diff\"])\n",
    "plt.show()\n",
    "\n",
    "qqplot(df[\"diff\"], line=\"s\")\n",
    "plt.show()"
   ]
  },
  {
   "cell_type": "markdown",
   "metadata": {},
   "source": [
    "A Wilcoxon signed-rank test is a non-parametric version of the paired t-test.  See the `scipy` documentation below for the intuition of the test.\n",
    "\n",
    "> The Wilcoxon signed-rank test tests the null hypothesis that two related paired samples come from the same distribution. In particular, it tests whether the distribution of the differences x - y is symmetric about zero. It is a non-parametric version of the paired T-test."
   ]
  },
  {
   "cell_type": "code",
   "execution_count": 30,
   "metadata": {},
   "outputs": [
    {
     "data": {
      "text/plain": [
       "WilcoxonResult(statistic=303919.5, pvalue=5.8904511169958e-16)"
      ]
     },
     "execution_count": 30,
     "metadata": {},
     "output_type": "execute_result"
    },
    {
     "data": {
      "application/javascript": [
       "\n",
       "            setTimeout(function() {\n",
       "                var nbb_cell_id = 30;\n",
       "                var nbb_unformatted_code = \"stats.wilcoxon(df[\\\"theater\\\"], df[\\\"music\\\"])\";\n",
       "                var nbb_formatted_code = \"stats.wilcoxon(df[\\\"theater\\\"], df[\\\"music\\\"])\";\n",
       "                var nbb_cells = Jupyter.notebook.get_cells();\n",
       "                for (var i = 0; i < nbb_cells.length; ++i) {\n",
       "                    if (nbb_cells[i].input_prompt_number == nbb_cell_id) {\n",
       "                        if (nbb_cells[i].get_text() == nbb_unformatted_code) {\n",
       "                             nbb_cells[i].set_text(nbb_formatted_code);\n",
       "                        }\n",
       "                        break;\n",
       "                    }\n",
       "                }\n",
       "            }, 500);\n",
       "            "
      ],
      "text/plain": [
       "<IPython.core.display.Javascript object>"
      ]
     },
     "metadata": {},
     "output_type": "display_data"
    }
   ],
   "source": [
    "stats.wilcoxon(df[\"theater\"], df[\"music\"])"
   ]
  },
  {
   "cell_type": "markdown",
   "metadata": {},
   "source": [
    "### Effect size\n",
    "\n",
    "For effect size, we can use modified versions of common language effect size and the rank-biserial correlation coefficient."
   ]
  },
  {
   "cell_type": "markdown",
   "metadata": {},
   "source": [
    "#### Common-language effect size"
   ]
  },
  {
   "cell_type": "code",
   "execution_count": 31,
   "metadata": {},
   "outputs": [
    {
     "data": {
      "application/javascript": [
       "\n",
       "            setTimeout(function() {\n",
       "                var nbb_cell_id = 31;\n",
       "                var nbb_unformatted_code = \"def cles_rel(x1, x2):\\n    \\\"\\\"\\\"Calc common language effect size for paired samples\\n\\n    Interpret as the probability that a pair's difference (x1 - x2)\\n    sampled at random will be greater than 0.\\n\\n    :param x1: sample 1\\n    :param x2: sample 2\\n    :return: (float) common language effect size\\n    \\\"\\\"\\\"\\n    x1 = np.array(x1)\\n    x2 = np.array(x2)\\n\\n    diffs = x1 - x2\\n    # Convert differences to 0.0, 0.5, or 1.0:\\n    #   * 0.0 if x1 < x2\\n    #   * 0.5 if x1 == x2\\n    #   * 1.0 if x1 > x2\\n    diffs = np.where(diffs == 0.0, 0.5, diffs > 0)\\n\\n    # Take average of array with [0s, 0.5s, 1s]\\n    # This indicates prob of pulling a random\\n    # diff and it being greater than 0\\n    return diffs.mean()\";\n",
       "                var nbb_formatted_code = \"def cles_rel(x1, x2):\\n    \\\"\\\"\\\"Calc common language effect size for paired samples\\n\\n    Interpret as the probability that a pair's difference (x1 - x2)\\n    sampled at random will be greater than 0.\\n\\n    :param x1: sample 1\\n    :param x2: sample 2\\n    :return: (float) common language effect size\\n    \\\"\\\"\\\"\\n    x1 = np.array(x1)\\n    x2 = np.array(x2)\\n\\n    diffs = x1 - x2\\n    # Convert differences to 0.0, 0.5, or 1.0:\\n    #   * 0.0 if x1 < x2\\n    #   * 0.5 if x1 == x2\\n    #   * 1.0 if x1 > x2\\n    diffs = np.where(diffs == 0.0, 0.5, diffs > 0)\\n\\n    # Take average of array with [0s, 0.5s, 1s]\\n    # This indicates prob of pulling a random\\n    # diff and it being greater than 0\\n    return diffs.mean()\";\n",
       "                var nbb_cells = Jupyter.notebook.get_cells();\n",
       "                for (var i = 0; i < nbb_cells.length; ++i) {\n",
       "                    if (nbb_cells[i].input_prompt_number == nbb_cell_id) {\n",
       "                        if (nbb_cells[i].get_text() == nbb_unformatted_code) {\n",
       "                             nbb_cells[i].set_text(nbb_formatted_code);\n",
       "                        }\n",
       "                        break;\n",
       "                    }\n",
       "                }\n",
       "            }, 500);\n",
       "            "
      ],
      "text/plain": [
       "<IPython.core.display.Javascript object>"
      ]
     },
     "metadata": {},
     "output_type": "display_data"
    }
   ],
   "source": [
    "def cles_rel(x1, x2):\n",
    "    \"\"\"Calc common language effect size for paired samples\n",
    "\n",
    "    Interpret as the probability that a pair's difference (x1 - x2)\n",
    "    sampled at random will be greater than 0.\n",
    "\n",
    "    :param x1: sample 1\n",
    "    :param x2: sample 2\n",
    "    :return: (float) common language effect size\n",
    "    \"\"\"\n",
    "    x1 = np.array(x1)\n",
    "    x2 = np.array(x2)\n",
    "\n",
    "    diffs = x1 - x2\n",
    "    # Convert differences to 0.0, 0.5, or 1.0:\n",
    "    #   * 0.0 if x1 < x2\n",
    "    #   * 0.5 if x1 == x2\n",
    "    #   * 1.0 if x1 > x2\n",
    "    diffs = np.where(diffs == 0.0, 0.5, diffs > 0)\n",
    "\n",
    "    # Take average of array with [0s, 0.5s, 1s]\n",
    "    # This indicates prob of pulling a random\n",
    "    # diff and it being greater than 0\n",
    "    return diffs.mean()"
   ]
  },
  {
   "cell_type": "code",
   "execution_count": 32,
   "metadata": {},
   "outputs": [
    {
     "data": {
      "text/plain": [
       "0.5668604651162791"
      ]
     },
     "execution_count": 32,
     "metadata": {},
     "output_type": "execute_result"
    },
    {
     "data": {
      "application/javascript": [
       "\n",
       "            setTimeout(function() {\n",
       "                var nbb_cell_id = 32;\n",
       "                var nbb_unformatted_code = \"cles_rel(df[\\\"theater\\\"], df[\\\"music\\\"])\";\n",
       "                var nbb_formatted_code = \"cles_rel(df[\\\"theater\\\"], df[\\\"music\\\"])\";\n",
       "                var nbb_cells = Jupyter.notebook.get_cells();\n",
       "                for (var i = 0; i < nbb_cells.length; ++i) {\n",
       "                    if (nbb_cells[i].input_prompt_number == nbb_cell_id) {\n",
       "                        if (nbb_cells[i].get_text() == nbb_unformatted_code) {\n",
       "                             nbb_cells[i].set_text(nbb_formatted_code);\n",
       "                        }\n",
       "                        break;\n",
       "                    }\n",
       "                }\n",
       "            }, 500);\n",
       "            "
      ],
      "text/plain": [
       "<IPython.core.display.Javascript object>"
      ]
     },
     "metadata": {},
     "output_type": "display_data"
    }
   ],
   "source": [
    "cles_rel(df[\"theater\"], df[\"music\"])"
   ]
  },
  {
   "cell_type": "markdown",
   "metadata": {},
   "source": [
    "According to this, if we grab any person from our dataset, theres a 57% chance they pledged more to theather than to music."
   ]
  },
  {
   "cell_type": "markdown",
   "metadata": {},
   "source": [
    "#### Rank-biserial correlation coefficient\n",
    "\n",
    "This implementation outputs values ranging from (-1, 1).  A `-1` indicates that group 2 is larger, `1` indicates that group 1 is larger, & `0` indicates that the groups are not very different."
   ]
  },
  {
   "cell_type": "code",
   "execution_count": 33,
   "metadata": {},
   "outputs": [
    {
     "data": {
      "application/javascript": [
       "\n",
       "            setTimeout(function() {\n",
       "                var nbb_cell_id = 33;\n",
       "                var nbb_unformatted_code = \"def rbc_rel(x1, x2):\\n    \\\"\\\"\\\"Calculate rank-biserial correlation coefficient for paired samples\\n\\n    Output values range from [-1, 1]; interpret as:\\n      * Values closer to 1 indicate that x1 is larger\\n      * Values closer to -1 indicate that x2 is larger\\n\\n    :param x1: sample 1\\n    :param x2: sample 2\\n    :return: (float) rank-biserial correlation coefficient\\n    \\\"\\\"\\\"\\n    x1 = np.array(x1)\\n    x2 = np.array(x2)\\n\\n    diffs = x1 - x2\\n    diffs = diffs[diffs != 0]\\n    diff_ranks = stats.rankdata(abs(diffs))\\n\\n    rank_sum = diff_ranks.sum()\\n    pos_rank_sum = np.sum((diffs > 0) * diff_ranks)\\n    neg_rank_sum = np.sum((diffs < 0) * diff_ranks)\\n    rbc = pos_rank_sum / rank_sum - neg_rank_sum / rank_sum\\n\\n    return rbc\";\n",
       "                var nbb_formatted_code = \"def rbc_rel(x1, x2):\\n    \\\"\\\"\\\"Calculate rank-biserial correlation coefficient for paired samples\\n\\n    Output values range from [-1, 1]; interpret as:\\n      * Values closer to 1 indicate that x1 is larger\\n      * Values closer to -1 indicate that x2 is larger\\n\\n    :param x1: sample 1\\n    :param x2: sample 2\\n    :return: (float) rank-biserial correlation coefficient\\n    \\\"\\\"\\\"\\n    x1 = np.array(x1)\\n    x2 = np.array(x2)\\n\\n    diffs = x1 - x2\\n    diffs = diffs[diffs != 0]\\n    diff_ranks = stats.rankdata(abs(diffs))\\n\\n    rank_sum = diff_ranks.sum()\\n    pos_rank_sum = np.sum((diffs > 0) * diff_ranks)\\n    neg_rank_sum = np.sum((diffs < 0) * diff_ranks)\\n    rbc = pos_rank_sum / rank_sum - neg_rank_sum / rank_sum\\n\\n    return rbc\";\n",
       "                var nbb_cells = Jupyter.notebook.get_cells();\n",
       "                for (var i = 0; i < nbb_cells.length; ++i) {\n",
       "                    if (nbb_cells[i].input_prompt_number == nbb_cell_id) {\n",
       "                        if (nbb_cells[i].get_text() == nbb_unformatted_code) {\n",
       "                             nbb_cells[i].set_text(nbb_formatted_code);\n",
       "                        }\n",
       "                        break;\n",
       "                    }\n",
       "                }\n",
       "            }, 500);\n",
       "            "
      ],
      "text/plain": [
       "<IPython.core.display.Javascript object>"
      ]
     },
     "metadata": {},
     "output_type": "display_data"
    }
   ],
   "source": [
    "def rbc_rel(x1, x2):\n",
    "    \"\"\"Calculate rank-biserial correlation coefficient for paired samples\n",
    "\n",
    "    Output values range from [-1, 1]; interpret as:\n",
    "      * Values closer to 1 indicate that x1 is larger\n",
    "      * Values closer to -1 indicate that x2 is larger\n",
    "\n",
    "    :param x1: sample 1\n",
    "    :param x2: sample 2\n",
    "    :return: (float) rank-biserial correlation coefficient\n",
    "    \"\"\"\n",
    "    x1 = np.array(x1)\n",
    "    x2 = np.array(x2)\n",
    "\n",
    "    diffs = x1 - x2\n",
    "    diffs = diffs[diffs != 0]\n",
    "    diff_ranks = stats.rankdata(abs(diffs))\n",
    "\n",
    "    rank_sum = diff_ranks.sum()\n",
    "    pos_rank_sum = np.sum((diffs > 0) * diff_ranks)\n",
    "    neg_rank_sum = np.sum((diffs < 0) * diff_ranks)\n",
    "    rbc = pos_rank_sum / rank_sum - neg_rank_sum / rank_sum\n",
    "\n",
    "    return rbc"
   ]
  },
  {
   "cell_type": "code",
   "execution_count": 34,
   "metadata": {},
   "outputs": [
    {
     "data": {
      "text/plain": [
       "-0.26089885372499855"
      ]
     },
     "execution_count": 34,
     "metadata": {},
     "output_type": "execute_result"
    },
    {
     "data": {
      "application/javascript": [
       "\n",
       "            setTimeout(function() {\n",
       "                var nbb_cell_id = 34;\n",
       "                var nbb_unformatted_code = \"rbc_rel(df[\\\"theater\\\"], df[\\\"music\\\"])\";\n",
       "                var nbb_formatted_code = \"rbc_rel(df[\\\"theater\\\"], df[\\\"music\\\"])\";\n",
       "                var nbb_cells = Jupyter.notebook.get_cells();\n",
       "                for (var i = 0; i < nbb_cells.length; ++i) {\n",
       "                    if (nbb_cells[i].input_prompt_number == nbb_cell_id) {\n",
       "                        if (nbb_cells[i].get_text() == nbb_unformatted_code) {\n",
       "                             nbb_cells[i].set_text(nbb_formatted_code);\n",
       "                        }\n",
       "                        break;\n",
       "                    }\n",
       "                }\n",
       "            }, 500);\n",
       "            "
      ],
      "text/plain": [
       "<IPython.core.display.Javascript object>"
      ]
     },
     "metadata": {},
     "output_type": "display_data"
    }
   ],
   "source": [
    "rbc_rel(df[\"theater\"], df[\"music\"])"
   ]
  },
  {
   "cell_type": "markdown",
   "metadata": {},
   "source": [
    "When viewing this as paired sample data, we see a stronger effect than when we were working with this data as independent.\n",
    "\n",
    "Note, in reality we have no reason to consider this as paired data.  It was just made up to show an example without introducing a new dataset. In practice, you don't have the luxury of just deciding whether to use paired or independent methods."
   ]
  }
 ],
 "metadata": {
  "kernelspec": {
   "display_name": "Python 3",
   "language": "python",
   "name": "python3"
  },
  "language_info": {
   "codemirror_mode": {
    "name": "ipython",
    "version": 3
   },
   "file_extension": ".py",
   "mimetype": "text/x-python",
   "name": "python",
   "nbconvert_exporter": "python",
   "pygments_lexer": "ipython3",
   "version": "3.7.6"
  }
 },
 "nbformat": 4,
 "nbformat_minor": 2
}
