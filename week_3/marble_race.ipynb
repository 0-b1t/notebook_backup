{
 "cells": [
  {
   "cell_type": "markdown",
   "metadata": {},
   "source": [
    "### [Skip code and jump to racing](#Race-Time)"
   ]
  },
  {
   "cell_type": "code",
   "execution_count": null,
   "metadata": {},
   "outputs": [],
   "source": [
    "%reload_ext nb_black"
   ]
  },
  {
   "cell_type": "code",
   "execution_count": null,
   "metadata": {},
   "outputs": [],
   "source": [
    "import pandas as pd\n",
    "import numpy as np\n",
    "import plotly.graph_objects as go\n",
    "import plotly.express as px"
   ]
  },
  {
   "cell_type": "code",
   "execution_count": null,
   "metadata": {},
   "outputs": [],
   "source": [
    "def _gen_player_data(color, name=\"\", y=0, n_steps=20):\n",
    "    \"\"\"Generate a random race time and split it out over time steps for plotting\"\"\"\n",
    "    # Generate random race times\n",
    "    finish_time = np.random.normal(n_steps * 0.8, 0.3)\n",
    "\n",
    "    # Find x position for each frame of race\n",
    "    rate = 1 / finish_time\n",
    "    step = finish_time / n_steps\n",
    "    time_steps = np.arange(n_steps + 1)\n",
    "    x_pos = time_steps * rate\n",
    "\n",
    "    # Store all plotting info for plotly\n",
    "    race_df = pd.DataFrame(\n",
    "        {\n",
    "            \"time\": time_steps,\n",
    "            \"x\": x_pos,\n",
    "            \"y\": y,\n",
    "            \"color\": color,\n",
    "            \"name\": name,\n",
    "            \"finish_time\": finish_time,\n",
    "        }\n",
    "    )\n",
    "\n",
    "    # Add a little jitter to be less boring\n",
    "    excitement = np.ones_like(x_pos) * 0.01\n",
    "    excitement[: len(excitement) // 2] *= -1\n",
    "    np.random.shuffle(excitement)\n",
    "    race_df[\"x\"] += excitement\n",
    "    race_df.loc[0, \"x\"] = 0\n",
    "\n",
    "    return race_df\n",
    "\n",
    "\n",
    "def _gen_race_data(players, colors=px.colors.qualitative.T10):\n",
    "    \"\"\"'Simulate' a marble race between players\"\"\"\n",
    "    race_dfs = []\n",
    "    name_colors = zip(players, colors)\n",
    "    for i, (name, color) in enumerate(name_colors):\n",
    "        race_df = _gen_player_data(color, name, i * 0.1)\n",
    "        race_dfs.append(race_df)\n",
    "\n",
    "    return pd.concat(race_dfs).reset_index(drop=True)\n",
    "\n",
    "\n",
    "def marble_race(players, seed=None):\n",
    "    \"\"\"'Simulate' a marble race\"\"\"\n",
    "    if isinstance(seed, int):\n",
    "        np.random.seed(seed)\n",
    "    race_df = _gen_race_data(players)\n",
    "\n",
    "    return (\n",
    "        race_df[[\"color\", \"name\", \"finish_time\"]]\n",
    "        .drop_duplicates()\n",
    "        .reset_index(drop=True)\n",
    "    )"
   ]
  },
  {
   "cell_type": "code",
   "execution_count": null,
   "metadata": {},
   "outputs": [],
   "source": [
    "def plot_marble_race(players, seed=None):\n",
    "    \"\"\"'Simulate' and plot a marble race\"\"\"\n",
    "    if isinstance(seed, int):\n",
    "        np.random.seed(seed)\n",
    "    race_df = _gen_race_data(players)\n",
    "\n",
    "    color_df = race_df[[\"color\", \"name\"]].drop_duplicates()\n",
    "    color_discrete_map = {}\n",
    "    for _, row in color_df.iterrows():\n",
    "        color_discrete_map[row[\"name\"]] = row[\"color\"]\n",
    "\n",
    "    fig = px.scatter(\n",
    "        data_frame=race_df,\n",
    "        x=\"x\",\n",
    "        y=\"y\",\n",
    "        color=\"name\",\n",
    "        text=\"name\",\n",
    "        animation_frame=\"time\",\n",
    "        title=\"Thinkful Marble Racing Series\",\n",
    "        color_discrete_map=color_discrete_map,\n",
    "    )\n",
    "\n",
    "    fig.update_traces(marker={\"size\": 20})\n",
    "    fig.update_layout(showlegend=False)\n",
    "\n",
    "    fig.add_trace(\n",
    "        go.Scatter(x=[1, 1], y=[-300, 300], mode=\"lines\", line={\"color\": \"black\"},)\n",
    "    )\n",
    "\n",
    "    fig.update_xaxes(\n",
    "        {\"range\": [-0.1, 1.1], \"showgrid\": False, \"zeroline\": False, \"visible\": False,}\n",
    "    )\n",
    "    fig.update_yaxes(\n",
    "        {\"range\": [-0.1, 1.1], \"showgrid\": False, \"zeroline\": False, \"visible\": False,}\n",
    "    )\n",
    "\n",
    "    return fig"
   ]
  },
  {
   "cell_type": "markdown",
   "metadata": {},
   "source": [
    "# Race Time"
   ]
  },
  {
   "cell_type": "code",
   "execution_count": null,
   "metadata": {},
   "outputs": [],
   "source": [
    "# To get consistent results between\n",
    "# animation and score board.\n",
    "# No editing needed.\n",
    "seed = np.random.randint(0, 1000)"
   ]
  },
  {
   "cell_type": "code",
   "execution_count": null,
   "metadata": {},
   "outputs": [],
   "source": [
    "# Edit this to have the names of who/what is racing.\n",
    "racers = [\"A\", \"B\", \"C\"]"
   ]
  },
  {
   "cell_type": "code",
   "execution_count": null,
   "metadata": {},
   "outputs": [],
   "source": [
    "# Play out race visually.\n",
    "plot_marble_race(racers, seed)"
   ]
  },
  {
   "cell_type": "code",
   "execution_count": null,
   "metadata": {},
   "outputs": [],
   "source": [
    "# Show race results.\n",
    "# Spoiler alert if this cell is run before plot_marble_race().\n",
    "marble_race(racers, seed).sort_values(\"finish_time\")"
   ]
  }
 ],
 "metadata": {
  "kernelspec": {
   "display_name": "Python 3",
   "language": "python",
   "name": "python3"
  },
  "language_info": {
   "codemirror_mode": {
    "name": "ipython",
    "version": 3
   },
   "file_extension": ".py",
   "mimetype": "text/x-python",
   "name": "python",
   "nbconvert_exporter": "python",
   "pygments_lexer": "ipython3",
   "version": "3.7.7"
  }
 },
 "nbformat": 4,
 "nbformat_minor": 2
}
