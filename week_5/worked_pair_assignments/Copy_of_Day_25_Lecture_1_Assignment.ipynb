{
 "cells": [
  {
   "cell_type": "code",
   "execution_count": 6,
   "metadata": {},
   "outputs": [
    {
     "data": {
      "application/javascript": [
       "\n",
       "            setTimeout(function() {\n",
       "                var nbb_cell_id = 6;\n",
       "                var nbb_unformatted_code = \"%reload_ext nb_black\";\n",
       "                var nbb_formatted_code = \"%reload_ext nb_black\";\n",
       "                var nbb_cells = Jupyter.notebook.get_cells();\n",
       "                for (var i = 0; i < nbb_cells.length; ++i) {\n",
       "                    if (nbb_cells[i].input_prompt_number == nbb_cell_id) {\n",
       "                        if (nbb_cells[i].get_text() == nbb_unformatted_code) {\n",
       "                             nbb_cells[i].set_text(nbb_formatted_code);\n",
       "                        }\n",
       "                        break;\n",
       "                    }\n",
       "                }\n",
       "            }, 500);\n",
       "            "
      ],
      "text/plain": [
       "<IPython.core.display.Javascript object>"
      ]
     },
     "metadata": {},
     "output_type": "display_data"
    },
    {
     "data": {
      "application/javascript": [
       "\n",
       "            setTimeout(function() {\n",
       "                var nbb_cell_id = 6;\n",
       "                var nbb_unformatted_code = \"%reload_ext nb_black\";\n",
       "                var nbb_formatted_code = \"%reload_ext nb_black\";\n",
       "                var nbb_cells = Jupyter.notebook.get_cells();\n",
       "                for (var i = 0; i < nbb_cells.length; ++i) {\n",
       "                    if (nbb_cells[i].input_prompt_number == nbb_cell_id) {\n",
       "                        if (nbb_cells[i].get_text() == nbb_unformatted_code) {\n",
       "                             nbb_cells[i].set_text(nbb_formatted_code);\n",
       "                        }\n",
       "                        break;\n",
       "                    }\n",
       "                }\n",
       "            }, 500);\n",
       "            "
      ],
      "text/plain": [
       "<IPython.core.display.Javascript object>"
      ]
     },
     "metadata": {},
     "output_type": "display_data"
    }
   ],
   "source": [
    "%reload_ext nb_black"
   ]
  },
  {
   "cell_type": "markdown",
   "metadata": {
    "colab_type": "text",
    "id": "kOVPVzs51Zbk"
   },
   "source": [
    "## Day 25 Lecture 1 Assignment\n",
    "\n",
    "In this assignment, we will evaluate the performance of the model we built yesterday on the Chicago traffic crash data. We will also perform hyperparameter tuning and evaluate a final model using additional metrics (e.g. AUC-ROC, precision, recall, etc.)"
   ]
  },
  {
   "cell_type": "code",
   "execution_count": 7,
   "metadata": {
    "colab": {},
    "colab_type": "code",
    "id": "pMcAKhJ91Zbl"
   },
   "outputs": [
    {
     "data": {
      "application/javascript": [
       "\n",
       "            setTimeout(function() {\n",
       "                var nbb_cell_id = 7;\n",
       "                var nbb_unformatted_code = \"import numpy as np\\nimport pandas as pd\\n\\n# progress bar\\nfrom tqdm.notebook import tqdm\\n\\nfrom sklearn.model_selection import train_test_split, cross_val_score\\nfrom sklearn.linear_model import LogisticRegression\\nfrom sklearn.metrics import (\\n    log_loss,\\n    classification_report,\\n    confusion_matrix,\\n    roc_curve,\\n    roc_auc_score,\\n    make_scorer,\\n)\\nfrom sklearn.preprocessing import OneHotEncoder\\n\\nimport matplotlib.pyplot as plt\\n\\n%matplotlib inline\";\n",
       "                var nbb_formatted_code = \"import numpy as np\\nimport pandas as pd\\n\\n# progress bar\\nfrom tqdm.notebook import tqdm\\n\\nfrom sklearn.model_selection import train_test_split, cross_val_score\\nfrom sklearn.linear_model import LogisticRegression\\nfrom sklearn.metrics import (\\n    log_loss,\\n    classification_report,\\n    confusion_matrix,\\n    roc_curve,\\n    roc_auc_score,\\n    make_scorer,\\n)\\nfrom sklearn.preprocessing import OneHotEncoder\\n\\nimport matplotlib.pyplot as plt\\n\\n%matplotlib inline\";\n",
       "                var nbb_cells = Jupyter.notebook.get_cells();\n",
       "                for (var i = 0; i < nbb_cells.length; ++i) {\n",
       "                    if (nbb_cells[i].input_prompt_number == nbb_cell_id) {\n",
       "                        if (nbb_cells[i].get_text() == nbb_unformatted_code) {\n",
       "                             nbb_cells[i].set_text(nbb_formatted_code);\n",
       "                        }\n",
       "                        break;\n",
       "                    }\n",
       "                }\n",
       "            }, 500);\n",
       "            "
      ],
      "text/plain": [
       "<IPython.core.display.Javascript object>"
      ]
     },
     "metadata": {},
     "output_type": "display_data"
    },
    {
     "data": {
      "application/javascript": [
       "\n",
       "            setTimeout(function() {\n",
       "                var nbb_cell_id = 7;\n",
       "                var nbb_unformatted_code = \"import numpy as np\\nimport pandas as pd\\n\\n# progress bar\\nfrom tqdm.notebook import tqdm\\n\\nfrom sklearn.model_selection import train_test_split, cross_val_score\\nfrom sklearn.linear_model import LogisticRegression\\nfrom sklearn.metrics import (\\n    log_loss,\\n    classification_report,\\n    confusion_matrix,\\n    roc_curve,\\n    roc_auc_score,\\n    make_scorer,\\n)\\nfrom sklearn.preprocessing import OneHotEncoder\\n\\nimport matplotlib.pyplot as plt\\n\\n%matplotlib inline\";\n",
       "                var nbb_formatted_code = \"import numpy as np\\nimport pandas as pd\\n\\n# progress bar\\nfrom tqdm.notebook import tqdm\\n\\nfrom sklearn.model_selection import train_test_split, cross_val_score\\nfrom sklearn.linear_model import LogisticRegression\\nfrom sklearn.metrics import (\\n    log_loss,\\n    classification_report,\\n    confusion_matrix,\\n    roc_curve,\\n    roc_auc_score,\\n    make_scorer,\\n)\\nfrom sklearn.preprocessing import OneHotEncoder\\n\\nimport matplotlib.pyplot as plt\\n\\n%matplotlib inline\";\n",
       "                var nbb_cells = Jupyter.notebook.get_cells();\n",
       "                for (var i = 0; i < nbb_cells.length; ++i) {\n",
       "                    if (nbb_cells[i].input_prompt_number == nbb_cell_id) {\n",
       "                        if (nbb_cells[i].get_text() == nbb_unformatted_code) {\n",
       "                             nbb_cells[i].set_text(nbb_formatted_code);\n",
       "                        }\n",
       "                        break;\n",
       "                    }\n",
       "                }\n",
       "            }, 500);\n",
       "            "
      ],
      "text/plain": [
       "<IPython.core.display.Javascript object>"
      ]
     },
     "metadata": {},
     "output_type": "display_data"
    }
   ],
   "source": [
    "import numpy as np\n",
    "import pandas as pd\n",
    "\n",
    "# progress bar\n",
    "from tqdm.notebook import tqdm\n",
    "\n",
    "from sklearn.model_selection import train_test_split, cross_val_score\n",
    "from sklearn.linear_model import LogisticRegression\n",
    "from sklearn.metrics import (\n",
    "    log_loss,\n",
    "    classification_report,\n",
    "    confusion_matrix,\n",
    "    roc_curve,\n",
    "    roc_auc_score,\n",
    "    make_scorer,\n",
    ")\n",
    "from sklearn.preprocessing import OneHotEncoder\n",
    "\n",
    "import matplotlib.pyplot as plt\n",
    "\n",
    "%matplotlib inline"
   ]
  },
  {
   "cell_type": "markdown",
   "metadata": {
    "colab_type": "text",
    "id": "UkPoFJCueQZ3"
   },
   "source": [
    "Since we will be building on the model we built in the last assignment, we will need to redo all of the data preparation steps up to the point of model building. These steps include creating the response, missing value imputation, and one-hot encoding our selected categorical variables. The quickest way to get going would be to open last week's assignment, make a copy, and build on it from there."
   ]
  },
  {
   "cell_type": "code",
   "execution_count": 8,
   "metadata": {},
   "outputs": [
    {
     "data": {
      "application/javascript": [
       "\n",
       "            setTimeout(function() {\n",
       "                var nbb_cell_id = 8;\n",
       "                var nbb_unformatted_code = \"# Copy pasted work from `Copy_of_Day_24_Lecture_2_Assignment.ipynb`\\ncrash_data = pd.read_csv(\\n    \\\"https://tf-assets-prod.s3.amazonaws.com/tf-curric/data-science/traffic_crashes_chicago.csv\\\"\\n)\\n\\n# Binarize damage, we will predict if over 1500 or not\\ncrash_data[\\\"is_over_1500\\\"] = crash_data[\\\"DAMAGE\\\"] == \\\"OVER $1,500\\\"\\ncrash_data[\\\"is_over_1500\\\"] = crash_data[\\\"is_over_1500\\\"].astype(int)\\ncrash_data = crash_data.drop(columns=[\\\"DAMAGE\\\"])\\n\\n\\n# Dropping all columns with more than 5% missing data\\nis_na_perc = crash_data.isna().mean()\\ndrop_cols = is_na_perc[is_na_perc > 0.05].index\\ncrash_data = crash_data.drop(columns=drop_cols)\\n\\n# Imputing the median for numeric columns with less than 5% missing data (except for STREET_NO)\\ncol_medians = crash_data.drop(columns=\\\"STREET_NO\\\").median()\\ncrash_data = crash_data.fillna(col_medians)\\n\\n# Dropping rows with missing data for categorical columns that have less than 5% missing data\\ncrash_data = crash_data.dropna()\";\n",
       "                var nbb_formatted_code = \"# Copy pasted work from `Copy_of_Day_24_Lecture_2_Assignment.ipynb`\\ncrash_data = pd.read_csv(\\n    \\\"https://tf-assets-prod.s3.amazonaws.com/tf-curric/data-science/traffic_crashes_chicago.csv\\\"\\n)\\n\\n# Binarize damage, we will predict if over 1500 or not\\ncrash_data[\\\"is_over_1500\\\"] = crash_data[\\\"DAMAGE\\\"] == \\\"OVER $1,500\\\"\\ncrash_data[\\\"is_over_1500\\\"] = crash_data[\\\"is_over_1500\\\"].astype(int)\\ncrash_data = crash_data.drop(columns=[\\\"DAMAGE\\\"])\\n\\n\\n# Dropping all columns with more than 5% missing data\\nis_na_perc = crash_data.isna().mean()\\ndrop_cols = is_na_perc[is_na_perc > 0.05].index\\ncrash_data = crash_data.drop(columns=drop_cols)\\n\\n# Imputing the median for numeric columns with less than 5% missing data (except for STREET_NO)\\ncol_medians = crash_data.drop(columns=\\\"STREET_NO\\\").median()\\ncrash_data = crash_data.fillna(col_medians)\\n\\n# Dropping rows with missing data for categorical columns that have less than 5% missing data\\ncrash_data = crash_data.dropna()\";\n",
       "                var nbb_cells = Jupyter.notebook.get_cells();\n",
       "                for (var i = 0; i < nbb_cells.length; ++i) {\n",
       "                    if (nbb_cells[i].input_prompt_number == nbb_cell_id) {\n",
       "                        if (nbb_cells[i].get_text() == nbb_unformatted_code) {\n",
       "                             nbb_cells[i].set_text(nbb_formatted_code);\n",
       "                        }\n",
       "                        break;\n",
       "                    }\n",
       "                }\n",
       "            }, 500);\n",
       "            "
      ],
      "text/plain": [
       "<IPython.core.display.Javascript object>"
      ]
     },
     "metadata": {},
     "output_type": "display_data"
    },
    {
     "data": {
      "application/javascript": [
       "\n",
       "            setTimeout(function() {\n",
       "                var nbb_cell_id = 8;\n",
       "                var nbb_unformatted_code = \"# Copy pasted work from `Copy_of_Day_24_Lecture_2_Assignment.ipynb`\\ncrash_data = pd.read_csv(\\n    \\\"https://tf-assets-prod.s3.amazonaws.com/tf-curric/data-science/traffic_crashes_chicago.csv\\\"\\n)\\n\\n# Binarize damage, we will predict if over 1500 or not\\ncrash_data[\\\"is_over_1500\\\"] = crash_data[\\\"DAMAGE\\\"] == \\\"OVER $1,500\\\"\\ncrash_data[\\\"is_over_1500\\\"] = crash_data[\\\"is_over_1500\\\"].astype(int)\\ncrash_data = crash_data.drop(columns=[\\\"DAMAGE\\\"])\\n\\n\\n# Dropping all columns with more than 5% missing data\\nis_na_perc = crash_data.isna().mean()\\ndrop_cols = is_na_perc[is_na_perc > 0.05].index\\ncrash_data = crash_data.drop(columns=drop_cols)\\n\\n# Imputing the median for numeric columns with less than 5% missing data (except for STREET_NO)\\ncol_medians = crash_data.drop(columns=\\\"STREET_NO\\\").median()\\ncrash_data = crash_data.fillna(col_medians)\\n\\n# Dropping rows with missing data for categorical columns that have less than 5% missing data\\ncrash_data = crash_data.dropna()\";\n",
       "                var nbb_formatted_code = \"# Copy pasted work from `Copy_of_Day_24_Lecture_2_Assignment.ipynb`\\ncrash_data = pd.read_csv(\\n    \\\"https://tf-assets-prod.s3.amazonaws.com/tf-curric/data-science/traffic_crashes_chicago.csv\\\"\\n)\\n\\n# Binarize damage, we will predict if over 1500 or not\\ncrash_data[\\\"is_over_1500\\\"] = crash_data[\\\"DAMAGE\\\"] == \\\"OVER $1,500\\\"\\ncrash_data[\\\"is_over_1500\\\"] = crash_data[\\\"is_over_1500\\\"].astype(int)\\ncrash_data = crash_data.drop(columns=[\\\"DAMAGE\\\"])\\n\\n\\n# Dropping all columns with more than 5% missing data\\nis_na_perc = crash_data.isna().mean()\\ndrop_cols = is_na_perc[is_na_perc > 0.05].index\\ncrash_data = crash_data.drop(columns=drop_cols)\\n\\n# Imputing the median for numeric columns with less than 5% missing data (except for STREET_NO)\\ncol_medians = crash_data.drop(columns=\\\"STREET_NO\\\").median()\\ncrash_data = crash_data.fillna(col_medians)\\n\\n# Dropping rows with missing data for categorical columns that have less than 5% missing data\\ncrash_data = crash_data.dropna()\";\n",
       "                var nbb_cells = Jupyter.notebook.get_cells();\n",
       "                for (var i = 0; i < nbb_cells.length; ++i) {\n",
       "                    if (nbb_cells[i].input_prompt_number == nbb_cell_id) {\n",
       "                        if (nbb_cells[i].get_text() == nbb_unformatted_code) {\n",
       "                             nbb_cells[i].set_text(nbb_formatted_code);\n",
       "                        }\n",
       "                        break;\n",
       "                    }\n",
       "                }\n",
       "            }, 500);\n",
       "            "
      ],
      "text/plain": [
       "<IPython.core.display.Javascript object>"
      ]
     },
     "metadata": {},
     "output_type": "display_data"
    }
   ],
   "source": [
    "# Copy pasted work from `Copy_of_Day_24_Lecture_2_Assignment.ipynb`\n",
    "crash_data = pd.read_csv(\n",
    "    \"https://tf-assets-prod.s3.amazonaws.com/tf-curric/data-science/traffic_crashes_chicago.csv\"\n",
    ")\n",
    "\n",
    "# Binarize damage, we will predict if over 1500 or not\n",
    "crash_data[\"is_over_1500\"] = crash_data[\"DAMAGE\"] == \"OVER $1,500\"\n",
    "crash_data[\"is_over_1500\"] = crash_data[\"is_over_1500\"].astype(int)\n",
    "crash_data = crash_data.drop(columns=[\"DAMAGE\"])\n",
    "\n",
    "\n",
    "# Dropping all columns with more than 5% missing data\n",
    "is_na_perc = crash_data.isna().mean()\n",
    "drop_cols = is_na_perc[is_na_perc > 0.05].index\n",
    "crash_data = crash_data.drop(columns=drop_cols)\n",
    "\n",
    "# Imputing the median for numeric columns with less than 5% missing data (except for STREET_NO)\n",
    "col_medians = crash_data.drop(columns=\"STREET_NO\").median()\n",
    "crash_data = crash_data.fillna(col_medians)\n",
    "\n",
    "# Dropping rows with missing data for categorical columns that have less than 5% missing data\n",
    "crash_data = crash_data.dropna()"
   ]
  },
  {
   "cell_type": "code",
   "execution_count": 9,
   "metadata": {},
   "outputs": [
    {
     "data": {
      "application/javascript": [
       "\n",
       "            setTimeout(function() {\n",
       "                var nbb_cell_id = 9;\n",
       "                var nbb_unformatted_code = \"x_cols = [\\n    \\\"POSTED_SPEED_LIMIT\\\",\\n    \\\"WEATHER_CONDITION\\\",\\n    \\\"INJURIES_TOTAL\\\",\\n    \\\"FIRST_CRASH_TYPE\\\",\\n]\\nX = crash_data[x_cols]\\ny = crash_data[\\\"is_over_1500\\\"]\";\n",
       "                var nbb_formatted_code = \"x_cols = [\\n    \\\"POSTED_SPEED_LIMIT\\\",\\n    \\\"WEATHER_CONDITION\\\",\\n    \\\"INJURIES_TOTAL\\\",\\n    \\\"FIRST_CRASH_TYPE\\\",\\n]\\nX = crash_data[x_cols]\\ny = crash_data[\\\"is_over_1500\\\"]\";\n",
       "                var nbb_cells = Jupyter.notebook.get_cells();\n",
       "                for (var i = 0; i < nbb_cells.length; ++i) {\n",
       "                    if (nbb_cells[i].input_prompt_number == nbb_cell_id) {\n",
       "                        if (nbb_cells[i].get_text() == nbb_unformatted_code) {\n",
       "                             nbb_cells[i].set_text(nbb_formatted_code);\n",
       "                        }\n",
       "                        break;\n",
       "                    }\n",
       "                }\n",
       "            }, 500);\n",
       "            "
      ],
      "text/plain": [
       "<IPython.core.display.Javascript object>"
      ]
     },
     "metadata": {},
     "output_type": "display_data"
    },
    {
     "data": {
      "application/javascript": [
       "\n",
       "            setTimeout(function() {\n",
       "                var nbb_cell_id = 9;\n",
       "                var nbb_unformatted_code = \"x_cols = [\\n    \\\"POSTED_SPEED_LIMIT\\\",\\n    \\\"WEATHER_CONDITION\\\",\\n    \\\"INJURIES_TOTAL\\\",\\n    \\\"FIRST_CRASH_TYPE\\\",\\n]\\nX = crash_data[x_cols]\\ny = crash_data[\\\"is_over_1500\\\"]\";\n",
       "                var nbb_formatted_code = \"x_cols = [\\n    \\\"POSTED_SPEED_LIMIT\\\",\\n    \\\"WEATHER_CONDITION\\\",\\n    \\\"INJURIES_TOTAL\\\",\\n    \\\"FIRST_CRASH_TYPE\\\",\\n]\\nX = crash_data[x_cols]\\ny = crash_data[\\\"is_over_1500\\\"]\";\n",
       "                var nbb_cells = Jupyter.notebook.get_cells();\n",
       "                for (var i = 0; i < nbb_cells.length; ++i) {\n",
       "                    if (nbb_cells[i].input_prompt_number == nbb_cell_id) {\n",
       "                        if (nbb_cells[i].get_text() == nbb_unformatted_code) {\n",
       "                             nbb_cells[i].set_text(nbb_formatted_code);\n",
       "                        }\n",
       "                        break;\n",
       "                    }\n",
       "                }\n",
       "            }, 500);\n",
       "            "
      ],
      "text/plain": [
       "<IPython.core.display.Javascript object>"
      ]
     },
     "metadata": {},
     "output_type": "display_data"
    }
   ],
   "source": [
    "x_cols = [\n",
    "    \"POSTED_SPEED_LIMIT\",\n",
    "    \"WEATHER_CONDITION\",\n",
    "    \"INJURIES_TOTAL\",\n",
    "    \"FIRST_CRASH_TYPE\",\n",
    "]\n",
    "X = crash_data[x_cols]\n",
    "y = crash_data[\"is_over_1500\"]"
   ]
  },
  {
   "cell_type": "code",
   "execution_count": 5,
   "metadata": {},
   "outputs": [
    {
     "data": {
      "application/javascript": [
       "\n",
       "            setTimeout(function() {\n",
       "                var nbb_cell_id = 5;\n",
       "                var nbb_unformatted_code = \"# This is a sneaky way that the model is 'learning' from the testing data!\\n# pd.get_dummies is convenient, but it's not best practice\\n# We should split the data before transforming in any way\\n\\n# drop_cats = [\\\"WEATHER_CONDITION_CLEAR\\\", \\\"FIRST_CRASH_TYPE_REAR END\\\"]\\n# X_dummies = pd.get_dummies(X)\\n# X_dummies = X_dummies.drop(columns=drop_cats)\";\n",
       "                var nbb_formatted_code = \"# This is a sneaky way that the model is 'learning' from the testing data!\\n# pd.get_dummies is convenient, but it's not best practice\\n# We should split the data before transforming in any way\\n\\n# drop_cats = [\\\"WEATHER_CONDITION_CLEAR\\\", \\\"FIRST_CRASH_TYPE_REAR END\\\"]\\n# X_dummies = pd.get_dummies(X)\\n# X_dummies = X_dummies.drop(columns=drop_cats)\";\n",
       "                var nbb_cells = Jupyter.notebook.get_cells();\n",
       "                for (var i = 0; i < nbb_cells.length; ++i) {\n",
       "                    if (nbb_cells[i].input_prompt_number == nbb_cell_id) {\n",
       "                        if (nbb_cells[i].get_text() == nbb_unformatted_code) {\n",
       "                             nbb_cells[i].set_text(nbb_formatted_code);\n",
       "                        }\n",
       "                        break;\n",
       "                    }\n",
       "                }\n",
       "            }, 500);\n",
       "            "
      ],
      "text/plain": [
       "<IPython.core.display.Javascript object>"
      ]
     },
     "metadata": {},
     "output_type": "display_data"
    }
   ],
   "source": [
    "# This is a sneaky way that the model is 'learning' from the testing data!\n",
    "# pd.get_dummies is convenient, but it's not best practice\n",
    "# We should split the data before transforming in any way\n",
    "\n",
    "# drop_cats = [\"WEATHER_CONDITION_CLEAR\", \"FIRST_CRASH_TYPE_REAR END\"]\n",
    "# X_dummies = pd.get_dummies(X)\n",
    "# X_dummies = X_dummies.drop(columns=drop_cats)"
   ]
  },
  {
   "cell_type": "code",
   "execution_count": 10,
   "metadata": {},
   "outputs": [
    {
     "data": {
      "application/javascript": [
       "\n",
       "            setTimeout(function() {\n",
       "                var nbb_cell_id = 10;\n",
       "                var nbb_unformatted_code = \"X_train, X_test, y_train, y_test = train_test_split(\\n    X, y, test_size=0.2, random_state=42\\n)\";\n",
       "                var nbb_formatted_code = \"X_train, X_test, y_train, y_test = train_test_split(\\n    X, y, test_size=0.2, random_state=42\\n)\";\n",
       "                var nbb_cells = Jupyter.notebook.get_cells();\n",
       "                for (var i = 0; i < nbb_cells.length; ++i) {\n",
       "                    if (nbb_cells[i].input_prompt_number == nbb_cell_id) {\n",
       "                        if (nbb_cells[i].get_text() == nbb_unformatted_code) {\n",
       "                             nbb_cells[i].set_text(nbb_formatted_code);\n",
       "                        }\n",
       "                        break;\n",
       "                    }\n",
       "                }\n",
       "            }, 500);\n",
       "            "
      ],
      "text/plain": [
       "<IPython.core.display.Javascript object>"
      ]
     },
     "metadata": {},
     "output_type": "display_data"
    },
    {
     "data": {
      "application/javascript": [
       "\n",
       "            setTimeout(function() {\n",
       "                var nbb_cell_id = 10;\n",
       "                var nbb_unformatted_code = \"X_train, X_test, y_train, y_test = train_test_split(\\n    X, y, test_size=0.2, random_state=42\\n)\";\n",
       "                var nbb_formatted_code = \"X_train, X_test, y_train, y_test = train_test_split(\\n    X, y, test_size=0.2, random_state=42\\n)\";\n",
       "                var nbb_cells = Jupyter.notebook.get_cells();\n",
       "                for (var i = 0; i < nbb_cells.length; ++i) {\n",
       "                    if (nbb_cells[i].input_prompt_number == nbb_cell_id) {\n",
       "                        if (nbb_cells[i].get_text() == nbb_unformatted_code) {\n",
       "                             nbb_cells[i].set_text(nbb_formatted_code);\n",
       "                        }\n",
       "                        break;\n",
       "                    }\n",
       "                }\n",
       "            }, 500);\n",
       "            "
      ],
      "text/plain": [
       "<IPython.core.display.Javascript object>"
      ]
     },
     "metadata": {},
     "output_type": "display_data"
    }
   ],
   "source": [
    "X_train, X_test, y_train, y_test = train_test_split(\n",
    "    X, y, test_size=0.2, random_state=42\n",
    ")"
   ]
  },
  {
   "cell_type": "code",
   "execution_count": 11,
   "metadata": {},
   "outputs": [
    {
     "data": {
      "text/html": [
       "<div>\n",
       "<style scoped>\n",
       "    .dataframe tbody tr th:only-of-type {\n",
       "        vertical-align: middle;\n",
       "    }\n",
       "\n",
       "    .dataframe tbody tr th {\n",
       "        vertical-align: top;\n",
       "    }\n",
       "\n",
       "    .dataframe thead th {\n",
       "        text-align: right;\n",
       "    }\n",
       "</style>\n",
       "<table border=\"1\" class=\"dataframe\">\n",
       "  <thead>\n",
       "    <tr style=\"text-align: right;\">\n",
       "      <th></th>\n",
       "      <th>WEATHER_CONDITION_BLOWING SNOW</th>\n",
       "      <th>WEATHER_CONDITION_CLOUDY/OVERCAST</th>\n",
       "      <th>WEATHER_CONDITION_FOG/SMOKE/HAZE</th>\n",
       "      <th>WEATHER_CONDITION_FREEZING RAIN/DRIZZLE</th>\n",
       "      <th>WEATHER_CONDITION_OTHER</th>\n",
       "      <th>WEATHER_CONDITION_RAIN</th>\n",
       "      <th>WEATHER_CONDITION_SEVERE CROSS WIND GATE</th>\n",
       "      <th>WEATHER_CONDITION_SLEET/HAIL</th>\n",
       "      <th>WEATHER_CONDITION_SNOW</th>\n",
       "      <th>WEATHER_CONDITION_UNKNOWN</th>\n",
       "      <th>...</th>\n",
       "      <th>FIRST_CRASH_TYPE_PARKED MOTOR VEHICLE</th>\n",
       "      <th>FIRST_CRASH_TYPE_PEDALCYCLIST</th>\n",
       "      <th>FIRST_CRASH_TYPE_PEDESTRIAN</th>\n",
       "      <th>FIRST_CRASH_TYPE_REAR TO FRONT</th>\n",
       "      <th>FIRST_CRASH_TYPE_REAR TO REAR</th>\n",
       "      <th>FIRST_CRASH_TYPE_REAR TO SIDE</th>\n",
       "      <th>FIRST_CRASH_TYPE_SIDESWIPE OPPOSITE DIRECTION</th>\n",
       "      <th>FIRST_CRASH_TYPE_SIDESWIPE SAME DIRECTION</th>\n",
       "      <th>FIRST_CRASH_TYPE_TRAIN</th>\n",
       "      <th>FIRST_CRASH_TYPE_TURNING</th>\n",
       "    </tr>\n",
       "  </thead>\n",
       "  <tbody>\n",
       "    <tr>\n",
       "      <th>145640</th>\n",
       "      <td>0.0</td>\n",
       "      <td>0.0</td>\n",
       "      <td>0.0</td>\n",
       "      <td>0.0</td>\n",
       "      <td>0.0</td>\n",
       "      <td>1.0</td>\n",
       "      <td>0.0</td>\n",
       "      <td>0.0</td>\n",
       "      <td>0.0</td>\n",
       "      <td>0.0</td>\n",
       "      <td>...</td>\n",
       "      <td>0.0</td>\n",
       "      <td>0.0</td>\n",
       "      <td>0.0</td>\n",
       "      <td>0.0</td>\n",
       "      <td>0.0</td>\n",
       "      <td>0.0</td>\n",
       "      <td>0.0</td>\n",
       "      <td>0.0</td>\n",
       "      <td>0.0</td>\n",
       "      <td>0.0</td>\n",
       "    </tr>\n",
       "    <tr>\n",
       "      <th>32781</th>\n",
       "      <td>0.0</td>\n",
       "      <td>0.0</td>\n",
       "      <td>0.0</td>\n",
       "      <td>0.0</td>\n",
       "      <td>0.0</td>\n",
       "      <td>0.0</td>\n",
       "      <td>0.0</td>\n",
       "      <td>0.0</td>\n",
       "      <td>0.0</td>\n",
       "      <td>0.0</td>\n",
       "      <td>...</td>\n",
       "      <td>0.0</td>\n",
       "      <td>0.0</td>\n",
       "      <td>0.0</td>\n",
       "      <td>0.0</td>\n",
       "      <td>0.0</td>\n",
       "      <td>0.0</td>\n",
       "      <td>0.0</td>\n",
       "      <td>0.0</td>\n",
       "      <td>0.0</td>\n",
       "      <td>0.0</td>\n",
       "    </tr>\n",
       "  </tbody>\n",
       "</table>\n",
       "<p>2 rows × 27 columns</p>\n",
       "</div>"
      ],
      "text/plain": [
       "        WEATHER_CONDITION_BLOWING SNOW  WEATHER_CONDITION_CLOUDY/OVERCAST  \\\n",
       "145640                             0.0                                0.0   \n",
       "32781                              0.0                                0.0   \n",
       "\n",
       "        WEATHER_CONDITION_FOG/SMOKE/HAZE  \\\n",
       "145640                               0.0   \n",
       "32781                                0.0   \n",
       "\n",
       "        WEATHER_CONDITION_FREEZING RAIN/DRIZZLE  WEATHER_CONDITION_OTHER  \\\n",
       "145640                                      0.0                      0.0   \n",
       "32781                                       0.0                      0.0   \n",
       "\n",
       "        WEATHER_CONDITION_RAIN  WEATHER_CONDITION_SEVERE CROSS WIND GATE  \\\n",
       "145640                     1.0                                       0.0   \n",
       "32781                      0.0                                       0.0   \n",
       "\n",
       "        WEATHER_CONDITION_SLEET/HAIL  WEATHER_CONDITION_SNOW  \\\n",
       "145640                           0.0                     0.0   \n",
       "32781                            0.0                     0.0   \n",
       "\n",
       "        WEATHER_CONDITION_UNKNOWN  ...  FIRST_CRASH_TYPE_PARKED MOTOR VEHICLE  \\\n",
       "145640                        0.0  ...                                    0.0   \n",
       "32781                         0.0  ...                                    0.0   \n",
       "\n",
       "        FIRST_CRASH_TYPE_PEDALCYCLIST  FIRST_CRASH_TYPE_PEDESTRIAN  \\\n",
       "145640                            0.0                          0.0   \n",
       "32781                             0.0                          0.0   \n",
       "\n",
       "        FIRST_CRASH_TYPE_REAR TO FRONT  FIRST_CRASH_TYPE_REAR TO REAR  \\\n",
       "145640                             0.0                            0.0   \n",
       "32781                              0.0                            0.0   \n",
       "\n",
       "        FIRST_CRASH_TYPE_REAR TO SIDE  \\\n",
       "145640                            0.0   \n",
       "32781                             0.0   \n",
       "\n",
       "        FIRST_CRASH_TYPE_SIDESWIPE OPPOSITE DIRECTION  \\\n",
       "145640                                            0.0   \n",
       "32781                                             0.0   \n",
       "\n",
       "        FIRST_CRASH_TYPE_SIDESWIPE SAME DIRECTION  FIRST_CRASH_TYPE_TRAIN  \\\n",
       "145640                                        0.0                     0.0   \n",
       "32781                                         0.0                     0.0   \n",
       "\n",
       "        FIRST_CRASH_TYPE_TURNING  \n",
       "145640                       0.0  \n",
       "32781                        0.0  \n",
       "\n",
       "[2 rows x 27 columns]"
      ]
     },
     "execution_count": 11,
     "metadata": {},
     "output_type": "execute_result"
    },
    {
     "data": {
      "application/javascript": [
       "\n",
       "            setTimeout(function() {\n",
       "                var nbb_cell_id = 11;\n",
       "                var nbb_unformatted_code = \"# This is a hacky way to use OneHotEncoder compared to its intended usage\\n# We'll eventually look at `sklearn.compose.ColumnTransformer` for a better\\n# streamlined way to do this.\\n\\n# What columns to encode\\ncat_cols = [\\\"WEATHER_CONDITION\\\", \\\"FIRST_CRASH_TYPE\\\"]\\ndrop_cats = [\\\"CLEAR\\\", \\\"REAR END\\\"]\\n\\nencoder = OneHotEncoder(drop=drop_cats, sparse=False)\\nencoder.fit(X_train[cat_cols])\\n\\ntrain_dummies = encoder.transform(X_train[cat_cols])\\ntest_dummies = encoder.transform(X_test[cat_cols])\\n\\n\\ncol_names = encoder.get_feature_names(cat_cols)\\ntrain_dummies = pd.DataFrame(train_dummies, index=X_train.index, columns=col_names)\\ntest_dummies = pd.DataFrame(test_dummies, index=X_test.index, columns=col_names)\\n\\ntrain_dummies.head(2)\";\n",
       "                var nbb_formatted_code = \"# This is a hacky way to use OneHotEncoder compared to its intended usage\\n# We'll eventually look at `sklearn.compose.ColumnTransformer` for a better\\n# streamlined way to do this.\\n\\n# What columns to encode\\ncat_cols = [\\\"WEATHER_CONDITION\\\", \\\"FIRST_CRASH_TYPE\\\"]\\ndrop_cats = [\\\"CLEAR\\\", \\\"REAR END\\\"]\\n\\nencoder = OneHotEncoder(drop=drop_cats, sparse=False)\\nencoder.fit(X_train[cat_cols])\\n\\ntrain_dummies = encoder.transform(X_train[cat_cols])\\ntest_dummies = encoder.transform(X_test[cat_cols])\\n\\n\\ncol_names = encoder.get_feature_names(cat_cols)\\ntrain_dummies = pd.DataFrame(train_dummies, index=X_train.index, columns=col_names)\\ntest_dummies = pd.DataFrame(test_dummies, index=X_test.index, columns=col_names)\\n\\ntrain_dummies.head(2)\";\n",
       "                var nbb_cells = Jupyter.notebook.get_cells();\n",
       "                for (var i = 0; i < nbb_cells.length; ++i) {\n",
       "                    if (nbb_cells[i].input_prompt_number == nbb_cell_id) {\n",
       "                        if (nbb_cells[i].get_text() == nbb_unformatted_code) {\n",
       "                             nbb_cells[i].set_text(nbb_formatted_code);\n",
       "                        }\n",
       "                        break;\n",
       "                    }\n",
       "                }\n",
       "            }, 500);\n",
       "            "
      ],
      "text/plain": [
       "<IPython.core.display.Javascript object>"
      ]
     },
     "metadata": {},
     "output_type": "display_data"
    },
    {
     "data": {
      "application/javascript": [
       "\n",
       "            setTimeout(function() {\n",
       "                var nbb_cell_id = 11;\n",
       "                var nbb_unformatted_code = \"# This is a hacky way to use OneHotEncoder compared to its intended usage\\n# We'll eventually look at `sklearn.compose.ColumnTransformer` for a better\\n# streamlined way to do this.\\n\\n# What columns to encode\\ncat_cols = [\\\"WEATHER_CONDITION\\\", \\\"FIRST_CRASH_TYPE\\\"]\\ndrop_cats = [\\\"CLEAR\\\", \\\"REAR END\\\"]\\n\\nencoder = OneHotEncoder(drop=drop_cats, sparse=False)\\nencoder.fit(X_train[cat_cols])\\n\\ntrain_dummies = encoder.transform(X_train[cat_cols])\\ntest_dummies = encoder.transform(X_test[cat_cols])\\n\\n\\ncol_names = encoder.get_feature_names(cat_cols)\\ntrain_dummies = pd.DataFrame(train_dummies, index=X_train.index, columns=col_names)\\ntest_dummies = pd.DataFrame(test_dummies, index=X_test.index, columns=col_names)\\n\\ntrain_dummies.head(2)\";\n",
       "                var nbb_formatted_code = \"# This is a hacky way to use OneHotEncoder compared to its intended usage\\n# We'll eventually look at `sklearn.compose.ColumnTransformer` for a better\\n# streamlined way to do this.\\n\\n# What columns to encode\\ncat_cols = [\\\"WEATHER_CONDITION\\\", \\\"FIRST_CRASH_TYPE\\\"]\\ndrop_cats = [\\\"CLEAR\\\", \\\"REAR END\\\"]\\n\\nencoder = OneHotEncoder(drop=drop_cats, sparse=False)\\nencoder.fit(X_train[cat_cols])\\n\\ntrain_dummies = encoder.transform(X_train[cat_cols])\\ntest_dummies = encoder.transform(X_test[cat_cols])\\n\\n\\ncol_names = encoder.get_feature_names(cat_cols)\\ntrain_dummies = pd.DataFrame(train_dummies, index=X_train.index, columns=col_names)\\ntest_dummies = pd.DataFrame(test_dummies, index=X_test.index, columns=col_names)\\n\\ntrain_dummies.head(2)\";\n",
       "                var nbb_cells = Jupyter.notebook.get_cells();\n",
       "                for (var i = 0; i < nbb_cells.length; ++i) {\n",
       "                    if (nbb_cells[i].input_prompt_number == nbb_cell_id) {\n",
       "                        if (nbb_cells[i].get_text() == nbb_unformatted_code) {\n",
       "                             nbb_cells[i].set_text(nbb_formatted_code);\n",
       "                        }\n",
       "                        break;\n",
       "                    }\n",
       "                }\n",
       "            }, 500);\n",
       "            "
      ],
      "text/plain": [
       "<IPython.core.display.Javascript object>"
      ]
     },
     "metadata": {},
     "output_type": "display_data"
    }
   ],
   "source": [
    "# This is a hacky way to use OneHotEncoder compared to its intended usage\n",
    "# We'll eventually look at `sklearn.compose.ColumnTransformer` for a better\n",
    "# streamlined way to do this.\n",
    "\n",
    "# What columns to encode\n",
    "cat_cols = [\"WEATHER_CONDITION\", \"FIRST_CRASH_TYPE\"]\n",
    "drop_cats = [\"CLEAR\", \"REAR END\"]\n",
    "\n",
    "encoder = OneHotEncoder(drop=drop_cats, sparse=False)\n",
    "encoder.fit(X_train[cat_cols])\n",
    "\n",
    "train_dummies = encoder.transform(X_train[cat_cols])\n",
    "test_dummies = encoder.transform(X_test[cat_cols])\n",
    "\n",
    "\n",
    "col_names = encoder.get_feature_names(cat_cols)\n",
    "train_dummies = pd.DataFrame(train_dummies, index=X_train.index, columns=col_names)\n",
    "test_dummies = pd.DataFrame(test_dummies, index=X_test.index, columns=col_names)\n",
    "\n",
    "train_dummies.head(2)"
   ]
  },
  {
   "cell_type": "code",
   "execution_count": 12,
   "metadata": {},
   "outputs": [
    {
     "data": {
      "application/javascript": [
       "\n",
       "            setTimeout(function() {\n",
       "                var nbb_cell_id = 12;\n",
       "                var nbb_unformatted_code = \"X_train = X_train.drop(columns=cat_cols)\\nX_test = X_test.drop(columns=cat_cols)\\n\\nX_train = pd.concat((X_train, train_dummies), axis=\\\"columns\\\")\\nX_test = pd.concat((X_test, test_dummies), axis=\\\"columns\\\")\";\n",
       "                var nbb_formatted_code = \"X_train = X_train.drop(columns=cat_cols)\\nX_test = X_test.drop(columns=cat_cols)\\n\\nX_train = pd.concat((X_train, train_dummies), axis=\\\"columns\\\")\\nX_test = pd.concat((X_test, test_dummies), axis=\\\"columns\\\")\";\n",
       "                var nbb_cells = Jupyter.notebook.get_cells();\n",
       "                for (var i = 0; i < nbb_cells.length; ++i) {\n",
       "                    if (nbb_cells[i].input_prompt_number == nbb_cell_id) {\n",
       "                        if (nbb_cells[i].get_text() == nbb_unformatted_code) {\n",
       "                             nbb_cells[i].set_text(nbb_formatted_code);\n",
       "                        }\n",
       "                        break;\n",
       "                    }\n",
       "                }\n",
       "            }, 500);\n",
       "            "
      ],
      "text/plain": [
       "<IPython.core.display.Javascript object>"
      ]
     },
     "metadata": {},
     "output_type": "display_data"
    },
    {
     "data": {
      "application/javascript": [
       "\n",
       "            setTimeout(function() {\n",
       "                var nbb_cell_id = 12;\n",
       "                var nbb_unformatted_code = \"X_train = X_train.drop(columns=cat_cols)\\nX_test = X_test.drop(columns=cat_cols)\\n\\nX_train = pd.concat((X_train, train_dummies), axis=\\\"columns\\\")\\nX_test = pd.concat((X_test, test_dummies), axis=\\\"columns\\\")\";\n",
       "                var nbb_formatted_code = \"X_train = X_train.drop(columns=cat_cols)\\nX_test = X_test.drop(columns=cat_cols)\\n\\nX_train = pd.concat((X_train, train_dummies), axis=\\\"columns\\\")\\nX_test = pd.concat((X_test, test_dummies), axis=\\\"columns\\\")\";\n",
       "                var nbb_cells = Jupyter.notebook.get_cells();\n",
       "                for (var i = 0; i < nbb_cells.length; ++i) {\n",
       "                    if (nbb_cells[i].input_prompt_number == nbb_cell_id) {\n",
       "                        if (nbb_cells[i].get_text() == nbb_unformatted_code) {\n",
       "                             nbb_cells[i].set_text(nbb_formatted_code);\n",
       "                        }\n",
       "                        break;\n",
       "                    }\n",
       "                }\n",
       "            }, 500);\n",
       "            "
      ],
      "text/plain": [
       "<IPython.core.display.Javascript object>"
      ]
     },
     "metadata": {},
     "output_type": "display_data"
    }
   ],
   "source": [
    "X_train = X_train.drop(columns=cat_cols)\n",
    "X_test = X_test.drop(columns=cat_cols)\n",
    "\n",
    "X_train = pd.concat((X_train, train_dummies), axis=\"columns\")\n",
    "X_test = pd.concat((X_test, test_dummies), axis=\"columns\")"
   ]
  },
  {
   "cell_type": "markdown",
   "metadata": {
    "colab_type": "text",
    "id": "P7hI35MY1Zbq"
   },
   "source": [
    "Statsmodels' implementation of logistic has certain advantages over scikit-learn's, such as clean, easy to read model summary output and statistical inference values (e.g. p-values). However, scikit-learn is preferable for model evaluation, so we will switch to the scikit-learn implementation for this exercise. \n",
    "\n",
    "Run logistic regression on the training set and use the resulting model to make predictions on the test set. Calculate the train and test error using logarithmic loss. How do they compare to each other?"
   ]
  },
  {
   "cell_type": "code",
   "execution_count": 13,
   "metadata": {
    "colab": {},
    "colab_type": "code",
    "id": "n7SM7qJ81Zbr"
   },
   "outputs": [
    {
     "data": {
      "text/plain": [
       "LogisticRegression(C=1.0, class_weight=None, dual=False, fit_intercept=True,\n",
       "                   intercept_scaling=1, l1_ratio=None, max_iter=1000,\n",
       "                   multi_class='auto', n_jobs=None, penalty='l2',\n",
       "                   random_state=None, solver='lbfgs', tol=0.0001, verbose=0,\n",
       "                   warm_start=False)"
      ]
     },
     "execution_count": 13,
     "metadata": {},
     "output_type": "execute_result"
    },
    {
     "data": {
      "application/javascript": [
       "\n",
       "            setTimeout(function() {\n",
       "                var nbb_cell_id = 13;\n",
       "                var nbb_unformatted_code = \"model = LogisticRegression(max_iter=1000)\\nmodel.fit(X_train, y_train)\";\n",
       "                var nbb_formatted_code = \"model = LogisticRegression(max_iter=1000)\\nmodel.fit(X_train, y_train)\";\n",
       "                var nbb_cells = Jupyter.notebook.get_cells();\n",
       "                for (var i = 0; i < nbb_cells.length; ++i) {\n",
       "                    if (nbb_cells[i].input_prompt_number == nbb_cell_id) {\n",
       "                        if (nbb_cells[i].get_text() == nbb_unformatted_code) {\n",
       "                             nbb_cells[i].set_text(nbb_formatted_code);\n",
       "                        }\n",
       "                        break;\n",
       "                    }\n",
       "                }\n",
       "            }, 500);\n",
       "            "
      ],
      "text/plain": [
       "<IPython.core.display.Javascript object>"
      ]
     },
     "metadata": {},
     "output_type": "display_data"
    },
    {
     "data": {
      "application/javascript": [
       "\n",
       "            setTimeout(function() {\n",
       "                var nbb_cell_id = 13;\n",
       "                var nbb_unformatted_code = \"model = LogisticRegression(max_iter=1000)\\nmodel.fit(X_train, y_train)\";\n",
       "                var nbb_formatted_code = \"model = LogisticRegression(max_iter=1000)\\nmodel.fit(X_train, y_train)\";\n",
       "                var nbb_cells = Jupyter.notebook.get_cells();\n",
       "                for (var i = 0; i < nbb_cells.length; ++i) {\n",
       "                    if (nbb_cells[i].input_prompt_number == nbb_cell_id) {\n",
       "                        if (nbb_cells[i].get_text() == nbb_unformatted_code) {\n",
       "                             nbb_cells[i].set_text(nbb_formatted_code);\n",
       "                        }\n",
       "                        break;\n",
       "                    }\n",
       "                }\n",
       "            }, 500);\n",
       "            "
      ],
      "text/plain": [
       "<IPython.core.display.Javascript object>"
      ]
     },
     "metadata": {},
     "output_type": "display_data"
    }
   ],
   "source": [
    "model = LogisticRegression(max_iter=1000)\n",
    "model.fit(X_train, y_train)"
   ]
  },
  {
   "cell_type": "code",
   "execution_count": 12,
   "metadata": {},
   "outputs": [
    {
     "data": {
      "text/plain": [
       "0.583093666590801"
      ]
     },
     "execution_count": 12,
     "metadata": {},
     "output_type": "execute_result"
    },
    {
     "data": {
      "application/javascript": [
       "\n",
       "            setTimeout(function() {\n",
       "                var nbb_cell_id = 12;\n",
       "                var nbb_unformatted_code = \"model.score(X_train, y_train)\";\n",
       "                var nbb_formatted_code = \"model.score(X_train, y_train)\";\n",
       "                var nbb_cells = Jupyter.notebook.get_cells();\n",
       "                for (var i = 0; i < nbb_cells.length; ++i) {\n",
       "                    if (nbb_cells[i].input_prompt_number == nbb_cell_id) {\n",
       "                        if (nbb_cells[i].get_text() == nbb_unformatted_code) {\n",
       "                             nbb_cells[i].set_text(nbb_formatted_code);\n",
       "                        }\n",
       "                        break;\n",
       "                    }\n",
       "                }\n",
       "            }, 500);\n",
       "            "
      ],
      "text/plain": [
       "<IPython.core.display.Javascript object>"
      ]
     },
     "metadata": {},
     "output_type": "display_data"
    }
   ],
   "source": [
    "model.score(X_train, y_train)"
   ]
  },
  {
   "cell_type": "code",
   "execution_count": 13,
   "metadata": {},
   "outputs": [
    {
     "data": {
      "text/plain": [
       "0.5858725188628495"
      ]
     },
     "execution_count": 13,
     "metadata": {},
     "output_type": "execute_result"
    },
    {
     "data": {
      "application/javascript": [
       "\n",
       "            setTimeout(function() {\n",
       "                var nbb_cell_id = 13;\n",
       "                var nbb_unformatted_code = \"model.score(X_test, y_test)\";\n",
       "                var nbb_formatted_code = \"model.score(X_test, y_test)\";\n",
       "                var nbb_cells = Jupyter.notebook.get_cells();\n",
       "                for (var i = 0; i < nbb_cells.length; ++i) {\n",
       "                    if (nbb_cells[i].input_prompt_number == nbb_cell_id) {\n",
       "                        if (nbb_cells[i].get_text() == nbb_unformatted_code) {\n",
       "                             nbb_cells[i].set_text(nbb_formatted_code);\n",
       "                        }\n",
       "                        break;\n",
       "                    }\n",
       "                }\n",
       "            }, 500);\n",
       "            "
      ],
      "text/plain": [
       "<IPython.core.display.Javascript object>"
      ]
     },
     "metadata": {},
     "output_type": "display_data"
    }
   ],
   "source": [
    "model.score(X_test, y_test)"
   ]
  },
  {
   "cell_type": "markdown",
   "metadata": {
    "colab_type": "text",
    "id": "27_OUrv11Zbt"
   },
   "source": [
    "Next, evaluate the performance of the same model using 10-fold CV. Use the training data and labels, and print out the mean log loss for each of the 10 CV folds, as well as the overall CV-estimated test error. How do the estimates from the individual folds compare to the result from our previous single holdout set? How much variability in the estimated test error do you see across the 10 folds?\n",
    "\n",
    "Note: scikit-learn's *cross_val_score* function provides a simple, one-line method for doing this. However, be careful - the default score returned by this function may not be log loss!"
   ]
  },
  {
   "cell_type": "code",
   "execution_count": 14,
   "metadata": {
    "colab": {},
    "colab_type": "code",
    "id": "PnyhGzBh1Zbt"
   },
   "outputs": [
    {
     "data": {
      "text/plain": [
       "array([0.58209017, 0.58196603, 0.58652832])"
      ]
     },
     "execution_count": 14,
     "metadata": {},
     "output_type": "execute_result"
    },
    {
     "data": {
      "application/javascript": [
       "\n",
       "            setTimeout(function() {\n",
       "                var nbb_cell_id = 14;\n",
       "                var nbb_unformatted_code = \"# CV of 10 is kinda slow to fit...\\n\\n# This uses model.score (accuracy)\\ncross_val_score(model, X_train, y_train, cv=3)\";\n",
       "                var nbb_formatted_code = \"# CV of 10 is kinda slow to fit...\\n\\n# This uses model.score (accuracy)\\ncross_val_score(model, X_train, y_train, cv=3)\";\n",
       "                var nbb_cells = Jupyter.notebook.get_cells();\n",
       "                for (var i = 0; i < nbb_cells.length; ++i) {\n",
       "                    if (nbb_cells[i].input_prompt_number == nbb_cell_id) {\n",
       "                        if (nbb_cells[i].get_text() == nbb_unformatted_code) {\n",
       "                             nbb_cells[i].set_text(nbb_formatted_code);\n",
       "                        }\n",
       "                        break;\n",
       "                    }\n",
       "                }\n",
       "            }, 500);\n",
       "            "
      ],
      "text/plain": [
       "<IPython.core.display.Javascript object>"
      ]
     },
     "metadata": {},
     "output_type": "display_data"
    }
   ],
   "source": [
    "# CV of 10 is kinda slow to fit...\n",
    "\n",
    "# This uses model.score (accuracy)\n",
    "cross_val_score(model, X_train, y_train, cv=3)"
   ]
  },
  {
   "cell_type": "code",
   "execution_count": 17,
   "metadata": {},
   "outputs": [
    {
     "data": {
      "application/javascript": [
       "\n",
       "            setTimeout(function() {\n",
       "                var nbb_cell_id = 17;\n",
       "                var nbb_unformatted_code = \"# We can use a different scoring metric.\\n\\n# If we do this line of code we get an error:\\n# cross_val_score(model, X_train, y_train, cv=3, scoring=log_loss)\\n\\n# ValueError: scoring value <function log_loss at 0x129452d40> looks\\n# like it is a metric function rather than a scorer. A scorer should \\n# require an estimator as its first parameter. Please use `make_scorer` \\n# to convert a metric to a scorer.\";\n",
       "                var nbb_formatted_code = \"# We can use a different scoring metric.\\n\\n# If we do this line of code we get an error:\\n# cross_val_score(model, X_train, y_train, cv=3, scoring=log_loss)\\n\\n# ValueError: scoring value <function log_loss at 0x129452d40> looks\\n# like it is a metric function rather than a scorer. A scorer should\\n# require an estimator as its first parameter. Please use `make_scorer`\\n# to convert a metric to a scorer.\";\n",
       "                var nbb_cells = Jupyter.notebook.get_cells();\n",
       "                for (var i = 0; i < nbb_cells.length; ++i) {\n",
       "                    if (nbb_cells[i].input_prompt_number == nbb_cell_id) {\n",
       "                        if (nbb_cells[i].get_text() == nbb_unformatted_code) {\n",
       "                             nbb_cells[i].set_text(nbb_formatted_code);\n",
       "                        }\n",
       "                        break;\n",
       "                    }\n",
       "                }\n",
       "            }, 500);\n",
       "            "
      ],
      "text/plain": [
       "<IPython.core.display.Javascript object>"
      ]
     },
     "metadata": {},
     "output_type": "display_data"
    }
   ],
   "source": [
    "# We can use a different scoring metric.\n",
    "\n",
    "# If we do this line of code we get an error:\n",
    "# cross_val_score(model, X_train, y_train, cv=3, scoring=log_loss)\n",
    "\n",
    "# ValueError: scoring value <function log_loss at 0x129452d40> looks\n",
    "# like it is a metric function rather than a scorer. A scorer should\n",
    "# require an estimator as its first parameter. Please use `make_scorer`\n",
    "# to convert a metric to a scorer."
   ]
  },
  {
   "cell_type": "code",
   "execution_count": 20,
   "metadata": {},
   "outputs": [
    {
     "data": {
      "text/plain": [
       "array([0.65822625, 0.65861933, 0.65816977])"
      ]
     },
     "execution_count": 20,
     "metadata": {},
     "output_type": "execute_result"
    },
    {
     "data": {
      "application/javascript": [
       "\n",
       "            setTimeout(function() {\n",
       "                var nbb_cell_id = 20;\n",
       "                var nbb_unformatted_code = \"log_loss_scorer = make_scorer(log_loss, needs_proba=True)\\ncross_val_score(model, X_train, y_train, cv=3, scoring=log_loss_scorer)\";\n",
       "                var nbb_formatted_code = \"log_loss_scorer = make_scorer(log_loss, needs_proba=True)\\ncross_val_score(model, X_train, y_train, cv=3, scoring=log_loss_scorer)\";\n",
       "                var nbb_cells = Jupyter.notebook.get_cells();\n",
       "                for (var i = 0; i < nbb_cells.length; ++i) {\n",
       "                    if (nbb_cells[i].input_prompt_number == nbb_cell_id) {\n",
       "                        if (nbb_cells[i].get_text() == nbb_unformatted_code) {\n",
       "                             nbb_cells[i].set_text(nbb_formatted_code);\n",
       "                        }\n",
       "                        break;\n",
       "                    }\n",
       "                }\n",
       "            }, 500);\n",
       "            "
      ],
      "text/plain": [
       "<IPython.core.display.Javascript object>"
      ]
     },
     "metadata": {},
     "output_type": "display_data"
    }
   ],
   "source": [
    "log_loss_scorer = make_scorer(log_loss, needs_proba=True)\n",
    "cross_val_score(model, X_train, y_train, cv=3, scoring=log_loss_scorer)"
   ]
  },
  {
   "cell_type": "markdown",
   "metadata": {
    "colab_type": "text",
    "id": "K_Kp_W-P1Zbv"
   },
   "source": [
    "Scikit-learn's logistic regression function has a built-in regularization parameter, C (the larger the value of C, the smaller the degree of regularization). Use a loop with values of C, and find the optimum C value by taking the highest average cross validation score."
   ]
  },
  {
   "cell_type": "code",
   "execution_count": 27,
   "metadata": {
    "colab": {},
    "colab_type": "code",
    "id": "Qd4SSFO-1Zbv"
   },
   "outputs": [
    {
     "data": {
      "application/vnd.jupyter.widget-view+json": {
       "model_id": "fca72dfdcae1464e8cd0d562ce8e8214",
       "version_major": 2,
       "version_minor": 0
      },
      "text/plain": [
       "HBox(children=(FloatProgress(value=0.0, max=4.0), HTML(value='')))"
      ]
     },
     "metadata": {},
     "output_type": "display_data"
    },
    {
     "name": "stdout",
     "output_type": "stream",
     "text": [
      "\n"
     ]
    },
    {
     "data": {
      "image/png": "[encoded data removed]",
      "text/plain": [
       "<Figure size 432x288 with 1 Axes>"
      ]
     },
     "metadata": {
      "needs_background": "light"
     },
     "output_type": "display_data"
    },
    {
     "data": {
      "application/javascript": [
       "\n",
       "            setTimeout(function() {\n",
       "                var nbb_cell_id = 27;\n",
       "                var nbb_unformatted_code = \"cs = [1, 10, 100, 1000]\\n\\navg_cv_scores = []\\nfor c in tqdm(cs):\\n    model = LogisticRegression(C=c, max_iter=1000)\\n\\n    # pick your poison\\n    cv_scores = cross_val_score(model, X_train, y_train, cv=3)\\n    #     cv_scores = cross_val_score(model, X_train, y_train, cv=3, scoring=log_loss_scorer)\\n\\n    avg_cv_score = cv_scores.mean()\\n    avg_cv_scores.append(avg_cv_score)\\n\\nplt.plot(cs, avg_cv_scores)\\nplt.show()\";\n",
       "                var nbb_formatted_code = \"cs = [1, 10, 100, 1000]\\n\\navg_cv_scores = []\\nfor c in tqdm(cs):\\n    model = LogisticRegression(C=c, max_iter=1000)\\n\\n    # pick your poison\\n    cv_scores = cross_val_score(model, X_train, y_train, cv=3)\\n    #     cv_scores = cross_val_score(model, X_train, y_train, cv=3, scoring=log_loss_scorer)\\n\\n    avg_cv_score = cv_scores.mean()\\n    avg_cv_scores.append(avg_cv_score)\\n\\nplt.plot(cs, avg_cv_scores)\\nplt.show()\";\n",
       "                var nbb_cells = Jupyter.notebook.get_cells();\n",
       "                for (var i = 0; i < nbb_cells.length; ++i) {\n",
       "                    if (nbb_cells[i].input_prompt_number == nbb_cell_id) {\n",
       "                        if (nbb_cells[i].get_text() == nbb_unformatted_code) {\n",
       "                             nbb_cells[i].set_text(nbb_formatted_code);\n",
       "                        }\n",
       "                        break;\n",
       "                    }\n",
       "                }\n",
       "            }, 500);\n",
       "            "
      ],
      "text/plain": [
       "<IPython.core.display.Javascript object>"
      ]
     },
     "metadata": {},
     "output_type": "display_data"
    }
   ],
   "source": [
    "cs = [1, 10, 100, 1000]\n",
    "\n",
    "avg_cv_scores = []\n",
    "for c in tqdm(cs):\n",
    "    model = LogisticRegression(C=c, max_iter=1000)\n",
    "\n",
    "    # pick your poison\n",
    "    cv_scores = cross_val_score(model, X_train, y_train, cv=3)\n",
    "    #     cv_scores = cross_val_score(model, X_train, y_train, cv=3, scoring=log_loss_scorer)\n",
    "\n",
    "    avg_cv_score = cv_scores.mean()\n",
    "    avg_cv_scores.append(avg_cv_score)\n",
    "\n",
    "plt.plot(cs, avg_cv_scores)\n",
    "plt.show()"
   ]
  },
  {
   "cell_type": "markdown",
   "metadata": {
    "colab_type": "text",
    "id": "eJ-5cPUp1Zbx"
   },
   "source": [
    "Re-train a logistic regression model using the best value of C identified by 10-fold CV on the training data and labels. Afterwards, do the following:\n",
    "\n",
    "- Determine the precision, recall, and F1-score of our model using a cutoff/threshold of 0.5 (hint: scikit-learn's *classification_report* function may be helpful)\n",
    "- Plot or otherwise generate a confusion matrix\n",
    "- Plot the ROC curve for our logistic regression model\n",
    "\n",
    "Note: the performance of our simple logistic regression model with just four features will not be very good, but this is not entirely unexpected. There are many other features that can be incorporated into the model to improve its performance; feel free to experiment!"
   ]
  },
  {
   "cell_type": "code",
   "execution_count": 28,
   "metadata": {
    "colab": {},
    "colab_type": "code",
    "id": "v3A9fUN51Zbx"
   },
   "outputs": [
    {
     "data": {
      "text/plain": [
       "LogisticRegression(C=1, class_weight=None, dual=False, fit_intercept=True,\n",
       "                   intercept_scaling=1, l1_ratio=None, max_iter=1000,\n",
       "                   multi_class='auto', n_jobs=None, penalty='l2',\n",
       "                   random_state=None, solver='lbfgs', tol=0.0001, verbose=0,\n",
       "                   warm_start=False)"
      ]
     },
     "execution_count": 28,
     "metadata": {},
     "output_type": "execute_result"
    },
    {
     "data": {
      "application/javascript": [
       "\n",
       "            setTimeout(function() {\n",
       "                var nbb_cell_id = 28;\n",
       "                var nbb_unformatted_code = \"model = LogisticRegression(C=1, max_iter=1000)\\nmodel.fit(X_train, y_train)\";\n",
       "                var nbb_formatted_code = \"model = LogisticRegression(C=1, max_iter=1000)\\nmodel.fit(X_train, y_train)\";\n",
       "                var nbb_cells = Jupyter.notebook.get_cells();\n",
       "                for (var i = 0; i < nbb_cells.length; ++i) {\n",
       "                    if (nbb_cells[i].input_prompt_number == nbb_cell_id) {\n",
       "                        if (nbb_cells[i].get_text() == nbb_unformatted_code) {\n",
       "                             nbb_cells[i].set_text(nbb_formatted_code);\n",
       "                        }\n",
       "                        break;\n",
       "                    }\n",
       "                }\n",
       "            }, 500);\n",
       "            "
      ],
      "text/plain": [
       "<IPython.core.display.Javascript object>"
      ]
     },
     "metadata": {},
     "output_type": "display_data"
    }
   ],
   "source": [
    "model = LogisticRegression(C=1, max_iter=1000)\n",
    "model.fit(X_train, y_train)"
   ]
  },
  {
   "cell_type": "code",
   "execution_count": 38,
   "metadata": {},
   "outputs": [
    {
     "data": {
      "application/javascript": [
       "\n",
       "            setTimeout(function() {\n",
       "                var nbb_cell_id = 38;\n",
       "                var nbb_unformatted_code = \"y_pred = model.predict(X_test)\\ny_prob = model.predict_proba(X_test)\\ny_prob_1 = y_prob[:, 1]\";\n",
       "                var nbb_formatted_code = \"y_pred = model.predict(X_test)\\ny_prob = model.predict_proba(X_test)\\ny_prob_1 = y_prob[:, 1]\";\n",
       "                var nbb_cells = Jupyter.notebook.get_cells();\n",
       "                for (var i = 0; i < nbb_cells.length; ++i) {\n",
       "                    if (nbb_cells[i].input_prompt_number == nbb_cell_id) {\n",
       "                        if (nbb_cells[i].get_text() == nbb_unformatted_code) {\n",
       "                             nbb_cells[i].set_text(nbb_formatted_code);\n",
       "                        }\n",
       "                        break;\n",
       "                    }\n",
       "                }\n",
       "            }, 500);\n",
       "            "
      ],
      "text/plain": [
       "<IPython.core.display.Javascript object>"
      ]
     },
     "metadata": {},
     "output_type": "display_data"
    }
   ],
   "source": [
    "y_pred = model.predict(X_test)\n",
    "y_prob = model.predict_proba(X_test)\n",
    "y_prob_1 = y_prob[:, 1]"
   ]
  },
  {
   "cell_type": "code",
   "execution_count": 39,
   "metadata": {},
   "outputs": [
    {
     "name": "stdout",
     "output_type": "stream",
     "text": [
      "              precision    recall  f1-score   support\n",
      "\n",
      "           0       0.55      0.30      0.39     31836\n",
      "           1       0.60      0.81      0.69     40661\n",
      "\n",
      "    accuracy                           0.59     72497\n",
      "   macro avg       0.57      0.56      0.54     72497\n",
      "weighted avg       0.58      0.59      0.56     72497\n",
      "\n"
     ]
    },
    {
     "data": {
      "application/javascript": [
       "\n",
       "            setTimeout(function() {\n",
       "                var nbb_cell_id = 39;\n",
       "                var nbb_unformatted_code = \"print(classification_report(y_test, y_pred))\";\n",
       "                var nbb_formatted_code = \"print(classification_report(y_test, y_pred))\";\n",
       "                var nbb_cells = Jupyter.notebook.get_cells();\n",
       "                for (var i = 0; i < nbb_cells.length; ++i) {\n",
       "                    if (nbb_cells[i].input_prompt_number == nbb_cell_id) {\n",
       "                        if (nbb_cells[i].get_text() == nbb_unformatted_code) {\n",
       "                             nbb_cells[i].set_text(nbb_formatted_code);\n",
       "                        }\n",
       "                        break;\n",
       "                    }\n",
       "                }\n",
       "            }, 500);\n",
       "            "
      ],
      "text/plain": [
       "<IPython.core.display.Javascript object>"
      ]
     },
     "metadata": {},
     "output_type": "display_data"
    }
   ],
   "source": [
    "print(classification_report(y_test, y_pred))"
   ]
  },
  {
   "cell_type": "code",
   "execution_count": 40,
   "metadata": {},
   "outputs": [
    {
     "data": {
      "text/plain": [
       "array([[ 9623, 22213],\n",
       "       [ 7810, 32851]])"
      ]
     },
     "execution_count": 40,
     "metadata": {},
     "output_type": "execute_result"
    },
    {
     "data": {
      "application/javascript": [
       "\n",
       "            setTimeout(function() {\n",
       "                var nbb_cell_id = 40;\n",
       "                var nbb_unformatted_code = \"confusion_matrix(y_test, y_pred)\";\n",
       "                var nbb_formatted_code = \"confusion_matrix(y_test, y_pred)\";\n",
       "                var nbb_cells = Jupyter.notebook.get_cells();\n",
       "                for (var i = 0; i < nbb_cells.length; ++i) {\n",
       "                    if (nbb_cells[i].input_prompt_number == nbb_cell_id) {\n",
       "                        if (nbb_cells[i].get_text() == nbb_unformatted_code) {\n",
       "                             nbb_cells[i].set_text(nbb_formatted_code);\n",
       "                        }\n",
       "                        break;\n",
       "                    }\n",
       "                }\n",
       "            }, 500);\n",
       "            "
      ],
      "text/plain": [
       "<IPython.core.display.Javascript object>"
      ]
     },
     "metadata": {},
     "output_type": "display_data"
    }
   ],
   "source": [
    "confusion_matrix(y_test, y_pred)"
   ]
  },
  {
   "cell_type": "code",
   "execution_count": 42,
   "metadata": {},
   "outputs": [
    {
     "data": {
      "text/plain": [
       "0.6199621717724726"
      ]
     },
     "execution_count": 42,
     "metadata": {},
     "output_type": "execute_result"
    },
    {
     "data": {
      "application/javascript": [
       "\n",
       "            setTimeout(function() {\n",
       "                var nbb_cell_id = 42;\n",
       "                var nbb_unformatted_code = \"roc_auc_score(y_test, y_prob_1)\";\n",
       "                var nbb_formatted_code = \"roc_auc_score(y_test, y_prob_1)\";\n",
       "                var nbb_cells = Jupyter.notebook.get_cells();\n",
       "                for (var i = 0; i < nbb_cells.length; ++i) {\n",
       "                    if (nbb_cells[i].input_prompt_number == nbb_cell_id) {\n",
       "                        if (nbb_cells[i].get_text() == nbb_unformatted_code) {\n",
       "                             nbb_cells[i].set_text(nbb_formatted_code);\n",
       "                        }\n",
       "                        break;\n",
       "                    }\n",
       "                }\n",
       "            }, 500);\n",
       "            "
      ],
      "text/plain": [
       "<IPython.core.display.Javascript object>"
      ]
     },
     "metadata": {},
     "output_type": "display_data"
    }
   ],
   "source": [
    "roc_auc_score(y_test, y_prob_1)"
   ]
  },
  {
   "cell_type": "code",
   "execution_count": 54,
   "metadata": {},
   "outputs": [
    {
     "data": {
      "image/png": "[encoded data removed]",
      "text/plain": [
       "<Figure size 432x288 with 1 Axes>"
      ]
     },
     "metadata": {
      "needs_background": "light"
     },
     "output_type": "display_data"
    },
    {
     "data": {
      "application/javascript": [
       "\n",
       "            setTimeout(function() {\n",
       "                var nbb_cell_id = 54;\n",
       "                var nbb_unformatted_code = \"fpr, tpr, thresh = roc_curve(y_test, y_prob_1)\\n\\nplt.plot(fpr, tpr, label=\\\"Model ROC\\\")\\nplt.plot([0, 1], [0, 1], \\\"--\\\", c=\\\"black\\\", label=\\\"Random Guessing\\\")\\nplt.plot([0, 0, 1], [0, 1, 1], \\\"-.\\\", c=\\\"gray\\\", label=\\\"Perfect Model\\\")\\nplt.legend()\\nplt.show()\";\n",
       "                var nbb_formatted_code = \"fpr, tpr, thresh = roc_curve(y_test, y_prob_1)\\n\\nplt.plot(fpr, tpr, label=\\\"Model ROC\\\")\\nplt.plot([0, 1], [0, 1], \\\"--\\\", c=\\\"black\\\", label=\\\"Random Guessing\\\")\\nplt.plot([0, 0, 1], [0, 1, 1], \\\"-.\\\", c=\\\"gray\\\", label=\\\"Perfect Model\\\")\\nplt.legend()\\nplt.show()\";\n",
       "                var nbb_cells = Jupyter.notebook.get_cells();\n",
       "                for (var i = 0; i < nbb_cells.length; ++i) {\n",
       "                    if (nbb_cells[i].input_prompt_number == nbb_cell_id) {\n",
       "                        if (nbb_cells[i].get_text() == nbb_unformatted_code) {\n",
       "                             nbb_cells[i].set_text(nbb_formatted_code);\n",
       "                        }\n",
       "                        break;\n",
       "                    }\n",
       "                }\n",
       "            }, 500);\n",
       "            "
      ],
      "text/plain": [
       "<IPython.core.display.Javascript object>"
      ]
     },
     "metadata": {},
     "output_type": "display_data"
    }
   ],
   "source": [
    "fpr, tpr, thresh = roc_curve(y_test, y_prob_1)\n",
    "\n",
    "plt.plot(fpr, tpr, label=\"Model ROC\")\n",
    "plt.plot([0, 1], [0, 1], \"--\", c=\"black\", label=\"Random Guessing\")\n",
    "plt.plot([0, 0, 1], [0, 1, 1], \"-.\", c=\"gray\", label=\"Perfect Model\")\n",
    "plt.legend()\n",
    "plt.show()"
   ]
  }
 ],
 "metadata": {
  "colab": {
   "collapsed_sections": [],
   "name": "Copy of Day 25 Lecture 1 Assignment.ipynb",
   "provenance": []
  },
  "kernelspec": {
   "display_name": "Python 3",
   "language": "python",
   "name": "python3"
  },
  "language_info": {
   "codemirror_mode": {
    "name": "ipython",
    "version": 3
   },
   "file_extension": ".py",
   "mimetype": "text/x-python",
   "name": "python",
   "nbconvert_exporter": "python",
   "pygments_lexer": "ipython3",
   "version": "3.7.6"
  }
 },
 "nbformat": 4,
 "nbformat_minor": 1
}
