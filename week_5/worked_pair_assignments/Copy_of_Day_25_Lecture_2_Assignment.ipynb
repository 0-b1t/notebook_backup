{
 "cells": [
  {
   "cell_type": "code",
   "execution_count": 1,
   "metadata": {},
   "outputs": [
    {
     "data": {
      "application/javascript": [
       "\n",
       "            setTimeout(function() {\n",
       "                var nbb_cell_id = 1;\n",
       "                var nbb_unformatted_code = \"%reload_ext nb_black\";\n",
       "                var nbb_formatted_code = \"%reload_ext nb_black\";\n",
       "                var nbb_cells = Jupyter.notebook.get_cells();\n",
       "                for (var i = 0; i < nbb_cells.length; ++i) {\n",
       "                    if (nbb_cells[i].input_prompt_number == nbb_cell_id) {\n",
       "                        if (nbb_cells[i].get_text() == nbb_unformatted_code) {\n",
       "                             nbb_cells[i].set_text(nbb_formatted_code);\n",
       "                        }\n",
       "                        break;\n",
       "                    }\n",
       "                }\n",
       "            }, 500);\n",
       "            "
      ],
      "text/plain": [
       "<IPython.core.display.Javascript object>"
      ]
     },
     "metadata": {},
     "output_type": "display_data"
    }
   ],
   "source": [
    "%reload_ext nb_black"
   ]
  },
  {
   "cell_type": "markdown",
   "metadata": {
    "colab_type": "text",
    "id": "dV--vGOPrrED"
   },
   "source": [
    "## Day 25 Lecture 2 Assignment\n",
    "\n",
    "In this assignment, we will extend a previous binary model to a multinomial case with three classes. We will use the FIFA soccer ratings dataset loaded below and analyze the model generated for this dataset."
   ]
  },
  {
   "cell_type": "code",
   "execution_count": 2,
   "metadata": {
    "colab": {},
    "colab_type": "code",
    "id": "msSTydewrrEE"
   },
   "outputs": [
    {
     "data": {
      "application/javascript": [
       "\n",
       "            setTimeout(function() {\n",
       "                var nbb_cell_id = 2;\n",
       "                var nbb_unformatted_code = \"import numpy as np\\nimport pandas as pd\\n\\nimport statsmodels.api as sm\\n\\nfrom sklearn.preprocessing import StandardScaler\\nfrom sklearn.model_selection import train_test_split, cross_val_score\\nfrom sklearn.linear_model import LogisticRegression\\nfrom sklearn.metrics import (\\n    classification_report,\\n    confusion_matrix,\\n    roc_curve,\\n    roc_auc_score,\\n)\\n\\nimport matplotlib.pyplot as plt\\n\\n%matplotlib inline\";\n",
       "                var nbb_formatted_code = \"import numpy as np\\nimport pandas as pd\\n\\nimport statsmodels.api as sm\\n\\nfrom sklearn.preprocessing import StandardScaler\\nfrom sklearn.model_selection import train_test_split, cross_val_score\\nfrom sklearn.linear_model import LogisticRegression\\nfrom sklearn.metrics import (\\n    classification_report,\\n    confusion_matrix,\\n    roc_curve,\\n    roc_auc_score,\\n)\\n\\nimport matplotlib.pyplot as plt\\n\\n%matplotlib inline\";\n",
       "                var nbb_cells = Jupyter.notebook.get_cells();\n",
       "                for (var i = 0; i < nbb_cells.length; ++i) {\n",
       "                    if (nbb_cells[i].input_prompt_number == nbb_cell_id) {\n",
       "                        if (nbb_cells[i].get_text() == nbb_unformatted_code) {\n",
       "                             nbb_cells[i].set_text(nbb_formatted_code);\n",
       "                        }\n",
       "                        break;\n",
       "                    }\n",
       "                }\n",
       "            }, 500);\n",
       "            "
      ],
      "text/plain": [
       "<IPython.core.display.Javascript object>"
      ]
     },
     "metadata": {},
     "output_type": "display_data"
    }
   ],
   "source": [
    "import numpy as np\n",
    "import pandas as pd\n",
    "\n",
    "import statsmodels.api as sm\n",
    "\n",
    "from sklearn.preprocessing import StandardScaler\n",
    "from sklearn.model_selection import train_test_split, cross_val_score\n",
    "from sklearn.linear_model import LogisticRegression\n",
    "from sklearn.metrics import (\n",
    "    classification_report,\n",
    "    confusion_matrix,\n",
    "    roc_curve,\n",
    "    roc_auc_score,\n",
    ")\n",
    "\n",
    "import matplotlib.pyplot as plt\n",
    "\n",
    "%matplotlib inline"
   ]
  },
  {
   "cell_type": "code",
   "execution_count": 3,
   "metadata": {
    "colab": {},
    "colab_type": "code",
    "id": "HOgv7ZGlVYpw"
   },
   "outputs": [
    {
     "data": {
      "application/javascript": [
       "\n",
       "            setTimeout(function() {\n",
       "                var nbb_cell_id = 3;\n",
       "                var nbb_unformatted_code = \"def remove_correlated_features(dataset, threshold):\\n    col_corr = set()\\n    corr_matrix = dataset.corr()\\n    for i in range(len(corr_matrix.columns)):\\n        for j in range(i):\\n            if (corr_matrix.iloc[i, j] >= threshold) and (\\n                corr_matrix.columns[j] not in col_corr\\n            ):\\n                colname = corr_matrix.columns[i]\\n                col_corr.add(colname)\\n                if colname in dataset.columns:\\n                    print(f\\\"Deleted {colname} from dataset.\\\")\\n                    del dataset[colname]\\n\\n    return dataset\";\n",
       "                var nbb_formatted_code = \"def remove_correlated_features(dataset, threshold):\\n    col_corr = set()\\n    corr_matrix = dataset.corr()\\n    for i in range(len(corr_matrix.columns)):\\n        for j in range(i):\\n            if (corr_matrix.iloc[i, j] >= threshold) and (\\n                corr_matrix.columns[j] not in col_corr\\n            ):\\n                colname = corr_matrix.columns[i]\\n                col_corr.add(colname)\\n                if colname in dataset.columns:\\n                    print(f\\\"Deleted {colname} from dataset.\\\")\\n                    del dataset[colname]\\n\\n    return dataset\";\n",
       "                var nbb_cells = Jupyter.notebook.get_cells();\n",
       "                for (var i = 0; i < nbb_cells.length; ++i) {\n",
       "                    if (nbb_cells[i].input_prompt_number == nbb_cell_id) {\n",
       "                        if (nbb_cells[i].get_text() == nbb_unformatted_code) {\n",
       "                             nbb_cells[i].set_text(nbb_formatted_code);\n",
       "                        }\n",
       "                        break;\n",
       "                    }\n",
       "                }\n",
       "            }, 500);\n",
       "            "
      ],
      "text/plain": [
       "<IPython.core.display.Javascript object>"
      ]
     },
     "metadata": {},
     "output_type": "display_data"
    }
   ],
   "source": [
    "def remove_correlated_features(dataset, threshold):\n",
    "    col_corr = set()\n",
    "    corr_matrix = dataset.corr()\n",
    "    for i in range(len(corr_matrix.columns)):\n",
    "        for j in range(i):\n",
    "            if (corr_matrix.iloc[i, j] >= threshold) and (\n",
    "                corr_matrix.columns[j] not in col_corr\n",
    "            ):\n",
    "                colname = corr_matrix.columns[i]\n",
    "                col_corr.add(colname)\n",
    "                if colname in dataset.columns:\n",
    "                    print(f\"Deleted {colname} from dataset.\")\n",
    "                    del dataset[colname]\n",
    "\n",
    "    return dataset"
   ]
  },
  {
   "cell_type": "code",
   "execution_count": 4,
   "metadata": {
    "colab": {},
    "colab_type": "code",
    "id": "i3iAu42VrrEF"
   },
   "outputs": [
    {
     "data": {
      "application/javascript": [
       "\n",
       "            setTimeout(function() {\n",
       "                var nbb_cell_id = 4;\n",
       "                var nbb_unformatted_code = \"soccer_data = pd.read_csv(\\n    \\\"https://tf-assets-prod.s3.amazonaws.com/tf-curric/data-science/fifa_ratings.csv\\\"\\n)\";\n",
       "                var nbb_formatted_code = \"soccer_data = pd.read_csv(\\n    \\\"https://tf-assets-prod.s3.amazonaws.com/tf-curric/data-science/fifa_ratings.csv\\\"\\n)\";\n",
       "                var nbb_cells = Jupyter.notebook.get_cells();\n",
       "                for (var i = 0; i < nbb_cells.length; ++i) {\n",
       "                    if (nbb_cells[i].input_prompt_number == nbb_cell_id) {\n",
       "                        if (nbb_cells[i].get_text() == nbb_unformatted_code) {\n",
       "                             nbb_cells[i].set_text(nbb_formatted_code);\n",
       "                        }\n",
       "                        break;\n",
       "                    }\n",
       "                }\n",
       "            }, 500);\n",
       "            "
      ],
      "text/plain": [
       "<IPython.core.display.Javascript object>"
      ]
     },
     "metadata": {},
     "output_type": "display_data"
    }
   ],
   "source": [
    "soccer_data = pd.read_csv(\n",
    "    \"https://tf-assets-prod.s3.amazonaws.com/tf-curric/data-science/fifa_ratings.csv\"\n",
    ")"
   ]
  },
  {
   "cell_type": "code",
   "execution_count": 5,
   "metadata": {
    "colab": {
     "base_uri": "https://localhost:8080/",
     "height": 255
    },
    "colab_type": "code",
    "id": "SeKz92tErrEH",
    "outputId": "d7d728a2-2fce-4ed7-c221-2f0a2c889136"
   },
   "outputs": [
    {
     "data": {
      "text/html": [
       "<div>\n",
       "<style scoped>\n",
       "    .dataframe tbody tr th:only-of-type {\n",
       "        vertical-align: middle;\n",
       "    }\n",
       "\n",
       "    .dataframe tbody tr th {\n",
       "        vertical-align: top;\n",
       "    }\n",
       "\n",
       "    .dataframe thead th {\n",
       "        text-align: right;\n",
       "    }\n",
       "</style>\n",
       "<table border=\"1\" class=\"dataframe\">\n",
       "  <thead>\n",
       "    <tr style=\"text-align: right;\">\n",
       "      <th></th>\n",
       "      <th>ID</th>\n",
       "      <th>Name</th>\n",
       "      <th>Overall</th>\n",
       "      <th>Crossing</th>\n",
       "      <th>Finishing</th>\n",
       "      <th>HeadingAccuracy</th>\n",
       "      <th>ShortPassing</th>\n",
       "      <th>Volleys</th>\n",
       "      <th>Dribbling</th>\n",
       "      <th>Curve</th>\n",
       "      <th>...</th>\n",
       "      <th>LongShots</th>\n",
       "      <th>Aggression</th>\n",
       "      <th>Interceptions</th>\n",
       "      <th>Positioning</th>\n",
       "      <th>Vision</th>\n",
       "      <th>Penalties</th>\n",
       "      <th>Composure</th>\n",
       "      <th>Marking</th>\n",
       "      <th>StandingTackle</th>\n",
       "      <th>SlidingTackle</th>\n",
       "    </tr>\n",
       "  </thead>\n",
       "  <tbody>\n",
       "    <tr>\n",
       "      <th>0</th>\n",
       "      <td>158023</td>\n",
       "      <td>L. Messi</td>\n",
       "      <td>94</td>\n",
       "      <td>84</td>\n",
       "      <td>95</td>\n",
       "      <td>70</td>\n",
       "      <td>90</td>\n",
       "      <td>86</td>\n",
       "      <td>97</td>\n",
       "      <td>93</td>\n",
       "      <td>...</td>\n",
       "      <td>94</td>\n",
       "      <td>48</td>\n",
       "      <td>22</td>\n",
       "      <td>94</td>\n",
       "      <td>94</td>\n",
       "      <td>75</td>\n",
       "      <td>96</td>\n",
       "      <td>33</td>\n",
       "      <td>28</td>\n",
       "      <td>26</td>\n",
       "    </tr>\n",
       "    <tr>\n",
       "      <th>1</th>\n",
       "      <td>20801</td>\n",
       "      <td>Cristiano Ronaldo</td>\n",
       "      <td>94</td>\n",
       "      <td>84</td>\n",
       "      <td>94</td>\n",
       "      <td>89</td>\n",
       "      <td>81</td>\n",
       "      <td>87</td>\n",
       "      <td>88</td>\n",
       "      <td>81</td>\n",
       "      <td>...</td>\n",
       "      <td>93</td>\n",
       "      <td>63</td>\n",
       "      <td>29</td>\n",
       "      <td>95</td>\n",
       "      <td>82</td>\n",
       "      <td>85</td>\n",
       "      <td>95</td>\n",
       "      <td>28</td>\n",
       "      <td>31</td>\n",
       "      <td>23</td>\n",
       "    </tr>\n",
       "    <tr>\n",
       "      <th>2</th>\n",
       "      <td>190871</td>\n",
       "      <td>Neymar Jr</td>\n",
       "      <td>92</td>\n",
       "      <td>79</td>\n",
       "      <td>87</td>\n",
       "      <td>62</td>\n",
       "      <td>84</td>\n",
       "      <td>84</td>\n",
       "      <td>96</td>\n",
       "      <td>88</td>\n",
       "      <td>...</td>\n",
       "      <td>82</td>\n",
       "      <td>56</td>\n",
       "      <td>36</td>\n",
       "      <td>89</td>\n",
       "      <td>87</td>\n",
       "      <td>81</td>\n",
       "      <td>94</td>\n",
       "      <td>27</td>\n",
       "      <td>24</td>\n",
       "      <td>33</td>\n",
       "    </tr>\n",
       "    <tr>\n",
       "      <th>3</th>\n",
       "      <td>192985</td>\n",
       "      <td>K. De Bruyne</td>\n",
       "      <td>91</td>\n",
       "      <td>93</td>\n",
       "      <td>82</td>\n",
       "      <td>55</td>\n",
       "      <td>92</td>\n",
       "      <td>82</td>\n",
       "      <td>86</td>\n",
       "      <td>85</td>\n",
       "      <td>...</td>\n",
       "      <td>91</td>\n",
       "      <td>76</td>\n",
       "      <td>61</td>\n",
       "      <td>87</td>\n",
       "      <td>94</td>\n",
       "      <td>79</td>\n",
       "      <td>88</td>\n",
       "      <td>68</td>\n",
       "      <td>58</td>\n",
       "      <td>51</td>\n",
       "    </tr>\n",
       "    <tr>\n",
       "      <th>4</th>\n",
       "      <td>183277</td>\n",
       "      <td>E. Hazard</td>\n",
       "      <td>91</td>\n",
       "      <td>81</td>\n",
       "      <td>84</td>\n",
       "      <td>61</td>\n",
       "      <td>89</td>\n",
       "      <td>80</td>\n",
       "      <td>95</td>\n",
       "      <td>83</td>\n",
       "      <td>...</td>\n",
       "      <td>80</td>\n",
       "      <td>54</td>\n",
       "      <td>41</td>\n",
       "      <td>87</td>\n",
       "      <td>89</td>\n",
       "      <td>86</td>\n",
       "      <td>91</td>\n",
       "      <td>34</td>\n",
       "      <td>27</td>\n",
       "      <td>22</td>\n",
       "    </tr>\n",
       "  </tbody>\n",
       "</table>\n",
       "<p>5 rows × 32 columns</p>\n",
       "</div>"
      ],
      "text/plain": [
       "       ID               Name  Overall  Crossing  Finishing  HeadingAccuracy  \\\n",
       "0  158023           L. Messi       94        84         95               70   \n",
       "1   20801  Cristiano Ronaldo       94        84         94               89   \n",
       "2  190871          Neymar Jr       92        79         87               62   \n",
       "3  192985       K. De Bruyne       91        93         82               55   \n",
       "4  183277          E. Hazard       91        81         84               61   \n",
       "\n",
       "   ShortPassing  Volleys  Dribbling  Curve  ...  LongShots  Aggression  \\\n",
       "0            90       86         97     93  ...         94          48   \n",
       "1            81       87         88     81  ...         93          63   \n",
       "2            84       84         96     88  ...         82          56   \n",
       "3            92       82         86     85  ...         91          76   \n",
       "4            89       80         95     83  ...         80          54   \n",
       "\n",
       "   Interceptions  Positioning  Vision  Penalties  Composure  Marking  \\\n",
       "0             22           94      94         75         96       33   \n",
       "1             29           95      82         85         95       28   \n",
       "2             36           89      87         81         94       27   \n",
       "3             61           87      94         79         88       68   \n",
       "4             41           87      89         86         91       34   \n",
       "\n",
       "   StandingTackle  SlidingTackle  \n",
       "0              28             26  \n",
       "1              31             23  \n",
       "2              24             33  \n",
       "3              58             51  \n",
       "4              27             22  \n",
       "\n",
       "[5 rows x 32 columns]"
      ]
     },
     "execution_count": 5,
     "metadata": {},
     "output_type": "execute_result"
    },
    {
     "data": {
      "application/javascript": [
       "\n",
       "            setTimeout(function() {\n",
       "                var nbb_cell_id = 5;\n",
       "                var nbb_unformatted_code = \"soccer_data.head()\";\n",
       "                var nbb_formatted_code = \"soccer_data.head()\";\n",
       "                var nbb_cells = Jupyter.notebook.get_cells();\n",
       "                for (var i = 0; i < nbb_cells.length; ++i) {\n",
       "                    if (nbb_cells[i].input_prompt_number == nbb_cell_id) {\n",
       "                        if (nbb_cells[i].get_text() == nbb_unformatted_code) {\n",
       "                             nbb_cells[i].set_text(nbb_formatted_code);\n",
       "                        }\n",
       "                        break;\n",
       "                    }\n",
       "                }\n",
       "            }, 500);\n",
       "            "
      ],
      "text/plain": [
       "<IPython.core.display.Javascript object>"
      ]
     },
     "metadata": {},
     "output_type": "display_data"
    }
   ],
   "source": [
    "soccer_data.head()"
   ]
  },
  {
   "cell_type": "markdown",
   "metadata": {
    "colab_type": "text",
    "id": "gC9J8aEArrEJ"
   },
   "source": [
    "Our response for our logistic regression model is going to be a new column, \"RankingTier\", that contains three categories:\n",
    "\n",
    "- High: Overall score > 75\n",
    "- Middle: Overall score between 65 and 75\n",
    "- Low: Overall score < 65"
   ]
  },
  {
   "cell_type": "code",
   "execution_count": 6,
   "metadata": {
    "colab": {},
    "colab_type": "code",
    "id": "tTZkLVDnrrEK"
   },
   "outputs": [
    {
     "data": {
      "text/plain": [
       "Middle    0.471219\n",
       "Low       0.441012\n",
       "High      0.087768\n",
       "Name: RankingTier, dtype: float64"
      ]
     },
     "execution_count": 6,
     "metadata": {},
     "output_type": "execute_result"
    },
    {
     "data": {
      "application/javascript": [
       "\n",
       "            setTimeout(function() {\n",
       "                var nbb_cell_id = 6;\n",
       "                var nbb_unformatted_code = \"soccer_data[\\\"RankingTier\\\"] = \\\"High\\\"\\nsoccer_data.loc[soccer_data[\\\"Overall\\\"] <= 75, \\\"RankingTier\\\"] = \\\"Middle\\\"\\nsoccer_data.loc[soccer_data[\\\"Overall\\\"] <= 65, \\\"RankingTier\\\"] = \\\"Low\\\"\\n\\nsoccer_data[\\\"RankingTier\\\"].value_counts(normalize=True)\";\n",
       "                var nbb_formatted_code = \"soccer_data[\\\"RankingTier\\\"] = \\\"High\\\"\\nsoccer_data.loc[soccer_data[\\\"Overall\\\"] <= 75, \\\"RankingTier\\\"] = \\\"Middle\\\"\\nsoccer_data.loc[soccer_data[\\\"Overall\\\"] <= 65, \\\"RankingTier\\\"] = \\\"Low\\\"\\n\\nsoccer_data[\\\"RankingTier\\\"].value_counts(normalize=True)\";\n",
       "                var nbb_cells = Jupyter.notebook.get_cells();\n",
       "                for (var i = 0; i < nbb_cells.length; ++i) {\n",
       "                    if (nbb_cells[i].input_prompt_number == nbb_cell_id) {\n",
       "                        if (nbb_cells[i].get_text() == nbb_unformatted_code) {\n",
       "                             nbb_cells[i].set_text(nbb_formatted_code);\n",
       "                        }\n",
       "                        break;\n",
       "                    }\n",
       "                }\n",
       "            }, 500);\n",
       "            "
      ],
      "text/plain": [
       "<IPython.core.display.Javascript object>"
      ]
     },
     "metadata": {},
     "output_type": "display_data"
    }
   ],
   "source": [
    "soccer_data[\"RankingTier\"] = \"High\"\n",
    "soccer_data.loc[soccer_data[\"Overall\"] <= 75, \"RankingTier\"] = \"Middle\"\n",
    "soccer_data.loc[soccer_data[\"Overall\"] <= 65, \"RankingTier\"] = \"Low\"\n",
    "\n",
    "soccer_data[\"RankingTier\"].value_counts(normalize=True)"
   ]
  },
  {
   "cell_type": "markdown",
   "metadata": {
    "colab_type": "text",
    "id": "NJNKBnVpVYp5"
   },
   "source": [
    "The next few steps until model training are the same as before: identify and remove highly correlated features, and split the data into a training set (80%) and a test set (20%)."
   ]
  },
  {
   "cell_type": "code",
   "execution_count": 7,
   "metadata": {},
   "outputs": [
    {
     "data": {
      "application/javascript": [
       "\n",
       "            setTimeout(function() {\n",
       "                var nbb_cell_id = 7;\n",
       "                var nbb_unformatted_code = \"X = soccer_data.drop(columns=[\\\"RankingTier\\\", \\\"Overall\\\", \\\"ID\\\", \\\"Name\\\"])\\ny = soccer_data[\\\"RankingTier\\\"]\";\n",
       "                var nbb_formatted_code = \"X = soccer_data.drop(columns=[\\\"RankingTier\\\", \\\"Overall\\\", \\\"ID\\\", \\\"Name\\\"])\\ny = soccer_data[\\\"RankingTier\\\"]\";\n",
       "                var nbb_cells = Jupyter.notebook.get_cells();\n",
       "                for (var i = 0; i < nbb_cells.length; ++i) {\n",
       "                    if (nbb_cells[i].input_prompt_number == nbb_cell_id) {\n",
       "                        if (nbb_cells[i].get_text() == nbb_unformatted_code) {\n",
       "                             nbb_cells[i].set_text(nbb_formatted_code);\n",
       "                        }\n",
       "                        break;\n",
       "                    }\n",
       "                }\n",
       "            }, 500);\n",
       "            "
      ],
      "text/plain": [
       "<IPython.core.display.Javascript object>"
      ]
     },
     "metadata": {},
     "output_type": "display_data"
    }
   ],
   "source": [
    "X = soccer_data.drop(columns=[\"RankingTier\", \"Overall\", \"ID\", \"Name\"])\n",
    "y = soccer_data[\"RankingTier\"]"
   ]
  },
  {
   "cell_type": "code",
   "execution_count": 8,
   "metadata": {
    "colab": {},
    "colab_type": "code",
    "id": "NJR6IxK2VYp5"
   },
   "outputs": [
    {
     "data": {
      "application/javascript": [
       "\n",
       "            setTimeout(function() {\n",
       "                var nbb_cell_id = 8;\n",
       "                var nbb_unformatted_code = \"X_train, X_test, y_train, y_test = train_test_split(\\n    X, y, test_size=0.2, random_state=42, stratify=y\\n)\";\n",
       "                var nbb_formatted_code = \"X_train, X_test, y_train, y_test = train_test_split(\\n    X, y, test_size=0.2, random_state=42, stratify=y\\n)\";\n",
       "                var nbb_cells = Jupyter.notebook.get_cells();\n",
       "                for (var i = 0; i < nbb_cells.length; ++i) {\n",
       "                    if (nbb_cells[i].input_prompt_number == nbb_cell_id) {\n",
       "                        if (nbb_cells[i].get_text() == nbb_unformatted_code) {\n",
       "                             nbb_cells[i].set_text(nbb_formatted_code);\n",
       "                        }\n",
       "                        break;\n",
       "                    }\n",
       "                }\n",
       "            }, 500);\n",
       "            "
      ],
      "text/plain": [
       "<IPython.core.display.Javascript object>"
      ]
     },
     "metadata": {},
     "output_type": "display_data"
    }
   ],
   "source": [
    "X_train, X_test, y_train, y_test = train_test_split(\n",
    "    X, y, test_size=0.2, random_state=42, stratify=y\n",
    ")"
   ]
  },
  {
   "cell_type": "code",
   "execution_count": 9,
   "metadata": {},
   "outputs": [
    {
     "name": "stdout",
     "output_type": "stream",
     "text": [
      "Deleted StandingTackle from dataset.\n",
      "Deleted SlidingTackle from dataset.\n"
     ]
    },
    {
     "data": {
      "application/javascript": [
       "\n",
       "            setTimeout(function() {\n",
       "                var nbb_cell_id = 9;\n",
       "                var nbb_unformatted_code = \"X_train = remove_correlated_features(X_train, threshold=0.9)\\nX_test = X_test[X_train.columns]\";\n",
       "                var nbb_formatted_code = \"X_train = remove_correlated_features(X_train, threshold=0.9)\\nX_test = X_test[X_train.columns]\";\n",
       "                var nbb_cells = Jupyter.notebook.get_cells();\n",
       "                for (var i = 0; i < nbb_cells.length; ++i) {\n",
       "                    if (nbb_cells[i].input_prompt_number == nbb_cell_id) {\n",
       "                        if (nbb_cells[i].get_text() == nbb_unformatted_code) {\n",
       "                             nbb_cells[i].set_text(nbb_formatted_code);\n",
       "                        }\n",
       "                        break;\n",
       "                    }\n",
       "                }\n",
       "            }, 500);\n",
       "            "
      ],
      "text/plain": [
       "<IPython.core.display.Javascript object>"
      ]
     },
     "metadata": {},
     "output_type": "display_data"
    }
   ],
   "source": [
    "X_train = remove_correlated_features(X_train, threshold=0.9)\n",
    "X_test = X_test[X_train.columns]"
   ]
  },
  {
   "cell_type": "code",
   "execution_count": 10,
   "metadata": {},
   "outputs": [
    {
     "data": {
      "application/javascript": [
       "\n",
       "            setTimeout(function() {\n",
       "                var nbb_cell_id = 10;\n",
       "                var nbb_unformatted_code = \"scaler = StandardScaler()\\n\\nscaler.fit(X_train)\\n\\nX_train = scaler.transform(X_train)\\nX_test = scaler.transform(X_test)\";\n",
       "                var nbb_formatted_code = \"scaler = StandardScaler()\\n\\nscaler.fit(X_train)\\n\\nX_train = scaler.transform(X_train)\\nX_test = scaler.transform(X_test)\";\n",
       "                var nbb_cells = Jupyter.notebook.get_cells();\n",
       "                for (var i = 0; i < nbb_cells.length; ++i) {\n",
       "                    if (nbb_cells[i].input_prompt_number == nbb_cell_id) {\n",
       "                        if (nbb_cells[i].get_text() == nbb_unformatted_code) {\n",
       "                             nbb_cells[i].set_text(nbb_formatted_code);\n",
       "                        }\n",
       "                        break;\n",
       "                    }\n",
       "                }\n",
       "            }, 500);\n",
       "            "
      ],
      "text/plain": [
       "<IPython.core.display.Javascript object>"
      ]
     },
     "metadata": {},
     "output_type": "display_data"
    }
   ],
   "source": [
    "scaler = StandardScaler()\n",
    "\n",
    "scaler.fit(X_train)\n",
    "\n",
    "X_train = scaler.transform(X_train)\n",
    "X_test = scaler.transform(X_test)"
   ]
  },
  {
   "cell_type": "markdown",
   "metadata": {
    "colab_type": "text",
    "id": "x4vvG5GmrrEL"
   },
   "source": [
    "Fit a multinomial logistic regression model using the statsmodels package and print out the coefficient summary. What is the \"reference\" tier chosen by the model? How do we interpret the coefficients - for example, how does the intepretation of the \"Reactions\" coefficient for RankingTier=Low differ from the \"Reactions\" coefficient for RankingTier=Middle?"
   ]
  },
  {
   "cell_type": "code",
   "execution_count": 11,
   "metadata": {
    "colab": {},
    "colab_type": "code",
    "id": "cwdpwLT6rrEM"
   },
   "outputs": [
    {
     "name": "stdout",
     "output_type": "stream",
     "text": [
      "Optimization terminated successfully.\n",
      "         Current function value: 0.638130\n",
      "         Iterations 8\n",
      "                          MNLogit Regression Results                          \n",
      "==============================================================================\n",
      "Dep. Variable:            RankingTier   No. Observations:                12897\n",
      "Model:                        MNLogit   Df Residuals:                    12843\n",
      "Method:                           MLE   Df Model:                           52\n",
      "Date:                Fri, 28 Aug 2020   Pseudo R-squ.:                  0.3132\n",
      "Time:                        07:13:47   Log-Likelihood:                -8230.0\n",
      "converged:                       True   LL-Null:                       -11983.\n",
      "Covariance Type:            nonrobust   LLR p-value:                     0.000\n",
      "======================================================================================\n",
      "   RankingTier=Low       coef    std err          z      P>|z|      [0.025      0.975]\n",
      "--------------------------------------------------------------------------------------\n",
      "x1                    -0.0222      0.059     -0.378      0.705      -0.137       0.093\n",
      "x2                    -0.3371      0.086     -3.930      0.000      -0.505      -0.169\n",
      "x3                    -0.7595      0.055    -13.921      0.000      -0.866      -0.653\n",
      "x4                    -0.8517      0.087     -9.740      0.000      -1.023      -0.680\n",
      "x5                     0.1131      0.068      1.663      0.096      -0.020       0.246\n",
      "x6                    -0.0331      0.087     -0.380      0.704      -0.204       0.138\n",
      "x7                    -0.0233      0.068     -0.342      0.732      -0.157       0.110\n",
      "x8                    -0.0998      0.061     -1.650      0.099      -0.218       0.019\n",
      "x9                     0.0566      0.072      0.791      0.429      -0.084       0.197\n",
      "x10                   -1.0423      0.095    -10.996      0.000      -1.228      -0.857\n",
      "x11                   -0.2226      0.081     -2.760      0.006      -0.381      -0.065\n",
      "x12                   -0.3921      0.072     -5.429      0.000      -0.534      -0.251\n",
      "x13                    0.0748      0.063      1.184      0.236      -0.049       0.199\n",
      "x14                   -1.6926      0.065    -26.015      0.000      -1.820      -1.565\n",
      "x15                    0.0970      0.057      1.694      0.090      -0.015       0.209\n",
      "x16                   -0.2096      0.065     -3.234      0.001      -0.337      -0.083\n",
      "x17                   -0.0272      0.039     -0.693      0.488      -0.104       0.050\n",
      "x18                   -0.0191      0.043     -0.444      0.657      -0.103       0.065\n",
      "x19                   -0.1565      0.056     -2.811      0.005      -0.266      -0.047\n",
      "x20                    0.2676      0.079      3.367      0.001       0.112       0.423\n",
      "x21                   -0.0791      0.051     -1.548      0.122      -0.179       0.021\n",
      "x22                    0.1333      0.076      1.750      0.080      -0.016       0.282\n",
      "x23                    0.4603      0.072      6.357      0.000       0.318       0.602\n",
      "x24                    0.2929      0.070      4.187      0.000       0.156       0.430\n",
      "x25                   -0.2262      0.057     -3.975      0.000      -0.338      -0.115\n",
      "x26                   -0.9464      0.058    -16.188      0.000      -1.061      -0.832\n",
      "x27                   -0.4487      0.067     -6.685      0.000      -0.580      -0.317\n",
      "--------------------------------------------------------------------------------------\n",
      "RankingTier=Middle       coef    std err          z      P>|z|      [0.025      0.975]\n",
      "--------------------------------------------------------------------------------------\n",
      "x1                     0.2255      0.044      5.171      0.000       0.140       0.311\n",
      "x2                    -0.0531      0.062     -0.864      0.388      -0.174       0.067\n",
      "x3                     0.0416      0.039      1.072      0.284      -0.034       0.118\n",
      "x4                     0.1213      0.069      1.748      0.080      -0.015       0.257\n",
      "x5                    -0.2417      0.047     -5.116      0.000      -0.334      -0.149\n",
      "x6                    -0.2441      0.068     -3.595      0.000      -0.377      -0.111\n",
      "x7                    -0.0461      0.049     -0.950      0.342      -0.141       0.049\n",
      "x8                     0.0743      0.042      1.788      0.074      -0.007       0.156\n",
      "x9                     0.1416      0.055      2.596      0.009       0.035       0.248\n",
      "x10                    0.1349      0.075      1.792      0.073      -0.013       0.282\n",
      "x11                   -0.1091      0.060     -1.826      0.068      -0.226       0.008\n",
      "x12                   -0.0440      0.053     -0.833      0.405      -0.147       0.059\n",
      "x13                    0.3322      0.051      6.510      0.000       0.232       0.432\n",
      "x14                   -0.1417      0.048     -2.973      0.003      -0.235      -0.048\n",
      "x15                   -0.1142      0.043     -2.668      0.008      -0.198      -0.030\n",
      "x16                    0.0823      0.050      1.645      0.100      -0.016       0.180\n",
      "x17                    0.0078      0.028      0.272      0.785      -0.048       0.064\n",
      "x18                    0.1691      0.033      5.138      0.000       0.105       0.234\n",
      "x19                    0.2596      0.044      5.939      0.000       0.174       0.345\n",
      "x20                    0.2318      0.059      3.928      0.000       0.116       0.347\n",
      "x21                    0.0328      0.037      0.878      0.380      -0.040       0.106\n",
      "x22                   -0.0509      0.055     -0.926      0.354      -0.159       0.057\n",
      "x23                   -0.0137      0.055     -0.251      0.802      -0.121       0.093\n",
      "x24                   -0.2608      0.052     -5.007      0.000      -0.363      -0.159\n",
      "x25                   -0.0794      0.040     -2.008      0.045      -0.157      -0.002\n",
      "x26                    0.1881      0.046      4.119      0.000       0.099       0.278\n",
      "x27                   -0.2541      0.048     -5.274      0.000      -0.349      -0.160\n",
      "======================================================================================\n"
     ]
    },
    {
     "data": {
      "application/javascript": [
       "\n",
       "            setTimeout(function() {\n",
       "                var nbb_cell_id = 11;\n",
       "                var nbb_unformatted_code = \"sm_model = sm.MNLogit(y_train, X_train).fit()\\nprint(sm_model.summary())\";\n",
       "                var nbb_formatted_code = \"sm_model = sm.MNLogit(y_train, X_train).fit()\\nprint(sm_model.summary())\";\n",
       "                var nbb_cells = Jupyter.notebook.get_cells();\n",
       "                for (var i = 0; i < nbb_cells.length; ++i) {\n",
       "                    if (nbb_cells[i].input_prompt_number == nbb_cell_id) {\n",
       "                        if (nbb_cells[i].get_text() == nbb_unformatted_code) {\n",
       "                             nbb_cells[i].set_text(nbb_formatted_code);\n",
       "                        }\n",
       "                        break;\n",
       "                    }\n",
       "                }\n",
       "            }, 500);\n",
       "            "
      ],
      "text/plain": [
       "<IPython.core.display.Javascript object>"
      ]
     },
     "metadata": {},
     "output_type": "display_data"
    }
   ],
   "source": [
    "sm_model = sm.MNLogit(y_train, X_train).fit()\n",
    "print(sm_model.summary())"
   ]
  },
  {
   "cell_type": "markdown",
   "metadata": {
    "colab_type": "text",
    "id": "KkMAIoh0rrEP"
   },
   "source": [
    "To evaluate test error using cross-validation, we will switch back to scikit-learn. Estimate the test error of this multinomial logistic regression model using 10-fold CV.\n",
    "\n",
    "Note: scikit-learn's LogisticRegression() function can handle both binary and multinomial regression, and it is automatically able to determine which is appropriate based on the y_train array that is passed. You should be able to reuse previous code with minimal changes required."
   ]
  },
  {
   "cell_type": "code",
   "execution_count": 12,
   "metadata": {
    "colab": {},
    "colab_type": "code",
    "id": "lPRW-I6IrrEQ"
   },
   "outputs": [
    {
     "data": {
      "text/plain": [
       "array([0.83837209, 0.83992248, 0.83598294, 0.83830942, 0.83249321])"
      ]
     },
     "execution_count": 12,
     "metadata": {},
     "output_type": "execute_result"
    },
    {
     "data": {
      "application/javascript": [
       "\n",
       "            setTimeout(function() {\n",
       "                var nbb_cell_id = 12;\n",
       "                var nbb_unformatted_code = \"model = LogisticRegression()\\ncross_val_score(model, X_train, y_train)\";\n",
       "                var nbb_formatted_code = \"model = LogisticRegression()\\ncross_val_score(model, X_train, y_train)\";\n",
       "                var nbb_cells = Jupyter.notebook.get_cells();\n",
       "                for (var i = 0; i < nbb_cells.length; ++i) {\n",
       "                    if (nbb_cells[i].input_prompt_number == nbb_cell_id) {\n",
       "                        if (nbb_cells[i].get_text() == nbb_unformatted_code) {\n",
       "                             nbb_cells[i].set_text(nbb_formatted_code);\n",
       "                        }\n",
       "                        break;\n",
       "                    }\n",
       "                }\n",
       "            }, 500);\n",
       "            "
      ],
      "text/plain": [
       "<IPython.core.display.Javascript object>"
      ]
     },
     "metadata": {},
     "output_type": "display_data"
    }
   ],
   "source": [
    "model = LogisticRegression()\n",
    "cross_val_score(model, X_train, y_train)"
   ]
  },
  {
   "cell_type": "markdown",
   "metadata": {
    "colab_type": "text",
    "id": "2qBq7WCNVYp_"
   },
   "source": [
    "As we did in the previous exercise, train a multinomial logistic regression on the training data, make predictions on the 20% holdout test data, then:\n",
    "\n",
    "- Determine the precision, recall, and F1-score of our model using a cutoff/threshold of 0.5 (hint: scikit-learn's *classification_report* function may be helpful)\n",
    "- Plot or otherwise generate a confusion matrix\n",
    "- Plot the ROC curve for our logistic regression model\n",
    "\n",
    "Comment on the performance of the model."
   ]
  },
  {
   "cell_type": "code",
   "execution_count": 13,
   "metadata": {
    "colab": {},
    "colab_type": "code",
    "id": "FFup74enVYp_"
   },
   "outputs": [
    {
     "data": {
      "text/plain": [
       "LogisticRegression(C=1.0, class_weight=None, dual=False, fit_intercept=True,\n",
       "                   intercept_scaling=1, l1_ratio=None, max_iter=100,\n",
       "                   multi_class='auto', n_jobs=None, penalty='l2',\n",
       "                   random_state=None, solver='lbfgs', tol=0.0001, verbose=0,\n",
       "                   warm_start=False)"
      ]
     },
     "execution_count": 13,
     "metadata": {},
     "output_type": "execute_result"
    },
    {
     "data": {
      "application/javascript": [
       "\n",
       "            setTimeout(function() {\n",
       "                var nbb_cell_id = 13;\n",
       "                var nbb_unformatted_code = \"model = LogisticRegression()\\nmodel.fit(X_train, y_train)\";\n",
       "                var nbb_formatted_code = \"model = LogisticRegression()\\nmodel.fit(X_train, y_train)\";\n",
       "                var nbb_cells = Jupyter.notebook.get_cells();\n",
       "                for (var i = 0; i < nbb_cells.length; ++i) {\n",
       "                    if (nbb_cells[i].input_prompt_number == nbb_cell_id) {\n",
       "                        if (nbb_cells[i].get_text() == nbb_unformatted_code) {\n",
       "                             nbb_cells[i].set_text(nbb_formatted_code);\n",
       "                        }\n",
       "                        break;\n",
       "                    }\n",
       "                }\n",
       "            }, 500);\n",
       "            "
      ],
      "text/plain": [
       "<IPython.core.display.Javascript object>"
      ]
     },
     "metadata": {},
     "output_type": "display_data"
    }
   ],
   "source": [
    "model = LogisticRegression()\n",
    "model.fit(X_train, y_train)"
   ]
  },
  {
   "cell_type": "code",
   "execution_count": 14,
   "metadata": {},
   "outputs": [
    {
     "data": {
      "application/javascript": [
       "\n",
       "            setTimeout(function() {\n",
       "                var nbb_cell_id = 14;\n",
       "                var nbb_unformatted_code = \"y_pred = model.predict(X_test)\\ny_prob = model.predict_proba(X_test)\";\n",
       "                var nbb_formatted_code = \"y_pred = model.predict(X_test)\\ny_prob = model.predict_proba(X_test)\";\n",
       "                var nbb_cells = Jupyter.notebook.get_cells();\n",
       "                for (var i = 0; i < nbb_cells.length; ++i) {\n",
       "                    if (nbb_cells[i].input_prompt_number == nbb_cell_id) {\n",
       "                        if (nbb_cells[i].get_text() == nbb_unformatted_code) {\n",
       "                             nbb_cells[i].set_text(nbb_formatted_code);\n",
       "                        }\n",
       "                        break;\n",
       "                    }\n",
       "                }\n",
       "            }, 500);\n",
       "            "
      ],
      "text/plain": [
       "<IPython.core.display.Javascript object>"
      ]
     },
     "metadata": {},
     "output_type": "display_data"
    }
   ],
   "source": [
    "y_pred = model.predict(X_test)\n",
    "y_prob = model.predict_proba(X_test)"
   ]
  },
  {
   "cell_type": "code",
   "execution_count": 15,
   "metadata": {},
   "outputs": [
    {
     "name": "stdout",
     "output_type": "stream",
     "text": [
      "              precision    recall  f1-score   support\n",
      "\n",
      "        High       0.82      0.75      0.78       283\n",
      "         Low       0.87      0.82      0.85      1422\n",
      "      Middle       0.80      0.86      0.83      1520\n",
      "\n",
      "    accuracy                           0.83      3225\n",
      "   macro avg       0.83      0.81      0.82      3225\n",
      "weighted avg       0.83      0.83      0.83      3225\n",
      "\n"
     ]
    },
    {
     "data": {
      "application/javascript": [
       "\n",
       "            setTimeout(function() {\n",
       "                var nbb_cell_id = 15;\n",
       "                var nbb_unformatted_code = \"print(classification_report(y_test, y_pred))\";\n",
       "                var nbb_formatted_code = \"print(classification_report(y_test, y_pred))\";\n",
       "                var nbb_cells = Jupyter.notebook.get_cells();\n",
       "                for (var i = 0; i < nbb_cells.length; ++i) {\n",
       "                    if (nbb_cells[i].input_prompt_number == nbb_cell_id) {\n",
       "                        if (nbb_cells[i].get_text() == nbb_unformatted_code) {\n",
       "                             nbb_cells[i].set_text(nbb_formatted_code);\n",
       "                        }\n",
       "                        break;\n",
       "                    }\n",
       "                }\n",
       "            }, 500);\n",
       "            "
      ],
      "text/plain": [
       "<IPython.core.display.Javascript object>"
      ]
     },
     "metadata": {},
     "output_type": "display_data"
    }
   ],
   "source": [
    "print(classification_report(y_test, y_pred))"
   ]
  },
  {
   "cell_type": "code",
   "execution_count": 16,
   "metadata": {},
   "outputs": [
    {
     "data": {
      "text/plain": [
       "array([[ 211,    0,   72],\n",
       "       [   0, 1169,  253],\n",
       "       [  45,  174, 1301]])"
      ]
     },
     "execution_count": 16,
     "metadata": {},
     "output_type": "execute_result"
    },
    {
     "data": {
      "application/javascript": [
       "\n",
       "            setTimeout(function() {\n",
       "                var nbb_cell_id = 16;\n",
       "                var nbb_unformatted_code = \"# You can assume these are the same order shown in classification report\\n# high is 1st row/col\\n# low is  2nd row/col\\n# mid is  3rd row/col\\nconfusion_matrix(y_test, y_pred)\";\n",
       "                var nbb_formatted_code = \"# You can assume these are the same order shown in classification report\\n# high is 1st row/col\\n# low is  2nd row/col\\n# mid is  3rd row/col\\nconfusion_matrix(y_test, y_pred)\";\n",
       "                var nbb_cells = Jupyter.notebook.get_cells();\n",
       "                for (var i = 0; i < nbb_cells.length; ++i) {\n",
       "                    if (nbb_cells[i].input_prompt_number == nbb_cell_id) {\n",
       "                        if (nbb_cells[i].get_text() == nbb_unformatted_code) {\n",
       "                             nbb_cells[i].set_text(nbb_formatted_code);\n",
       "                        }\n",
       "                        break;\n",
       "                    }\n",
       "                }\n",
       "            }, 500);\n",
       "            "
      ],
      "text/plain": [
       "<IPython.core.display.Javascript object>"
      ]
     },
     "metadata": {},
     "output_type": "display_data"
    }
   ],
   "source": [
    "# You can assume these are the same order shown in classification report\n",
    "# high is 1st row/col\n",
    "# low is  2nd row/col\n",
    "# mid is  3rd row/col\n",
    "confusion_matrix(y_test, y_pred)"
   ]
  },
  {
   "cell_type": "code",
   "execution_count": 17,
   "metadata": {},
   "outputs": [
    {
     "data": {
      "application/javascript": [
       "\n",
       "            setTimeout(function() {\n",
       "                var nbb_cell_id = 17;\n",
       "                var nbb_unformatted_code = \"y_prob_hi = y_prob[:, 0]\\ny_prob_lo = y_prob[:, 1]\\ny_prob_mid = y_prob[:, 2]\";\n",
       "                var nbb_formatted_code = \"y_prob_hi = y_prob[:, 0]\\ny_prob_lo = y_prob[:, 1]\\ny_prob_mid = y_prob[:, 2]\";\n",
       "                var nbb_cells = Jupyter.notebook.get_cells();\n",
       "                for (var i = 0; i < nbb_cells.length; ++i) {\n",
       "                    if (nbb_cells[i].input_prompt_number == nbb_cell_id) {\n",
       "                        if (nbb_cells[i].get_text() == nbb_unformatted_code) {\n",
       "                             nbb_cells[i].set_text(nbb_formatted_code);\n",
       "                        }\n",
       "                        break;\n",
       "                    }\n",
       "                }\n",
       "            }, 500);\n",
       "            "
      ],
      "text/plain": [
       "<IPython.core.display.Javascript object>"
      ]
     },
     "metadata": {},
     "output_type": "display_data"
    }
   ],
   "source": [
    "y_prob_hi = y_prob[:, 0]\n",
    "y_prob_lo = y_prob[:, 1]\n",
    "y_prob_mid = y_prob[:, 2]"
   ]
  },
  {
   "cell_type": "code",
   "execution_count": 18,
   "metadata": {},
   "outputs": [
    {
     "data": {
      "text/plain": [
       "0.9821279723656174"
      ]
     },
     "execution_count": 18,
     "metadata": {},
     "output_type": "execute_result"
    },
    {
     "data": {
      "application/javascript": [
       "\n",
       "            setTimeout(function() {\n",
       "                var nbb_cell_id = 18;\n",
       "                var nbb_unformatted_code = \"roc_auc_score(y_test == \\\"High\\\", y_prob_hi)\";\n",
       "                var nbb_formatted_code = \"roc_auc_score(y_test == \\\"High\\\", y_prob_hi)\";\n",
       "                var nbb_cells = Jupyter.notebook.get_cells();\n",
       "                for (var i = 0; i < nbb_cells.length; ++i) {\n",
       "                    if (nbb_cells[i].input_prompt_number == nbb_cell_id) {\n",
       "                        if (nbb_cells[i].get_text() == nbb_unformatted_code) {\n",
       "                             nbb_cells[i].set_text(nbb_formatted_code);\n",
       "                        }\n",
       "                        break;\n",
       "                    }\n",
       "                }\n",
       "            }, 500);\n",
       "            "
      ],
      "text/plain": [
       "<IPython.core.display.Javascript object>"
      ]
     },
     "metadata": {},
     "output_type": "display_data"
    }
   ],
   "source": [
    "roc_auc_score(y_test == \"High\", y_prob_hi)"
   ]
  },
  {
   "cell_type": "code",
   "execution_count": 19,
   "metadata": {},
   "outputs": [
    {
     "data": {
      "text/plain": [
       "0.9509174816468569"
      ]
     },
     "execution_count": 19,
     "metadata": {},
     "output_type": "execute_result"
    },
    {
     "data": {
      "application/javascript": [
       "\n",
       "            setTimeout(function() {\n",
       "                var nbb_cell_id = 19;\n",
       "                var nbb_unformatted_code = \"roc_auc_score(y_test == \\\"Low\\\", y_prob_lo)\";\n",
       "                var nbb_formatted_code = \"roc_auc_score(y_test == \\\"Low\\\", y_prob_lo)\";\n",
       "                var nbb_cells = Jupyter.notebook.get_cells();\n",
       "                for (var i = 0; i < nbb_cells.length; ++i) {\n",
       "                    if (nbb_cells[i].input_prompt_number == nbb_cell_id) {\n",
       "                        if (nbb_cells[i].get_text() == nbb_unformatted_code) {\n",
       "                             nbb_cells[i].set_text(nbb_formatted_code);\n",
       "                        }\n",
       "                        break;\n",
       "                    }\n",
       "                }\n",
       "            }, 500);\n",
       "            "
      ],
      "text/plain": [
       "<IPython.core.display.Javascript object>"
      ]
     },
     "metadata": {},
     "output_type": "display_data"
    }
   ],
   "source": [
    "roc_auc_score(y_test == \"Low\", y_prob_lo)"
   ]
  },
  {
   "cell_type": "code",
   "execution_count": 20,
   "metadata": {},
   "outputs": [
    {
     "data": {
      "text/plain": [
       "0.9164485260070998"
      ]
     },
     "execution_count": 20,
     "metadata": {},
     "output_type": "execute_result"
    },
    {
     "data": {
      "application/javascript": [
       "\n",
       "            setTimeout(function() {\n",
       "                var nbb_cell_id = 20;\n",
       "                var nbb_unformatted_code = \"roc_auc_score(y_test == \\\"Middle\\\", y_prob_mid)\";\n",
       "                var nbb_formatted_code = \"roc_auc_score(y_test == \\\"Middle\\\", y_prob_mid)\";\n",
       "                var nbb_cells = Jupyter.notebook.get_cells();\n",
       "                for (var i = 0; i < nbb_cells.length; ++i) {\n",
       "                    if (nbb_cells[i].input_prompt_number == nbb_cell_id) {\n",
       "                        if (nbb_cells[i].get_text() == nbb_unformatted_code) {\n",
       "                             nbb_cells[i].set_text(nbb_formatted_code);\n",
       "                        }\n",
       "                        break;\n",
       "                    }\n",
       "                }\n",
       "            }, 500);\n",
       "            "
      ],
      "text/plain": [
       "<IPython.core.display.Javascript object>"
      ]
     },
     "metadata": {},
     "output_type": "display_data"
    }
   ],
   "source": [
    "roc_auc_score(y_test == \"Middle\", y_prob_mid)"
   ]
  },
  {
   "cell_type": "code",
   "execution_count": 21,
   "metadata": {},
   "outputs": [
    {
     "data": {
      "image/png": "[encoded data removed]",
      "text/plain": [
       "<Figure size 432x288 with 1 Axes>"
      ]
     },
     "metadata": {
      "needs_background": "light"
     },
     "output_type": "display_data"
    },
    {
     "data": {
      "application/javascript": [
       "\n",
       "            setTimeout(function() {\n",
       "                var nbb_cell_id = 21;\n",
       "                var nbb_unformatted_code = \"hi_fpr, hi_tpr, _ = roc_curve(y_test == \\\"High\\\", y_prob_hi)\\nlo_fpr, lo_tpr, _ = roc_curve(y_test == \\\"Low\\\", y_prob_lo)\\nmid_fpr, mid_tpr, _ = roc_curve(y_test == \\\"Middle\\\", y_prob_mid)\\n\\nplt.plot(hi_fpr, hi_tpr, label=\\\"Model ROC High\\\")\\nplt.plot(lo_fpr, lo_tpr, label=\\\"Model ROC Low\\\")\\nplt.plot(mid_fpr, mid_tpr, label=\\\"Model ROC Middle\\\")\\nplt.plot([0, 1], [0, 1], \\\"--\\\", c=\\\"black\\\", label=\\\"Random Guessing\\\")\\nplt.plot([0, 0, 1], [0, 1, 1], \\\"-.\\\", c=\\\"gray\\\", label=\\\"Perfect Model\\\")\\nplt.legend()\\nplt.show()\";\n",
       "                var nbb_formatted_code = \"hi_fpr, hi_tpr, _ = roc_curve(y_test == \\\"High\\\", y_prob_hi)\\nlo_fpr, lo_tpr, _ = roc_curve(y_test == \\\"Low\\\", y_prob_lo)\\nmid_fpr, mid_tpr, _ = roc_curve(y_test == \\\"Middle\\\", y_prob_mid)\\n\\nplt.plot(hi_fpr, hi_tpr, label=\\\"Model ROC High\\\")\\nplt.plot(lo_fpr, lo_tpr, label=\\\"Model ROC Low\\\")\\nplt.plot(mid_fpr, mid_tpr, label=\\\"Model ROC Middle\\\")\\nplt.plot([0, 1], [0, 1], \\\"--\\\", c=\\\"black\\\", label=\\\"Random Guessing\\\")\\nplt.plot([0, 0, 1], [0, 1, 1], \\\"-.\\\", c=\\\"gray\\\", label=\\\"Perfect Model\\\")\\nplt.legend()\\nplt.show()\";\n",
       "                var nbb_cells = Jupyter.notebook.get_cells();\n",
       "                for (var i = 0; i < nbb_cells.length; ++i) {\n",
       "                    if (nbb_cells[i].input_prompt_number == nbb_cell_id) {\n",
       "                        if (nbb_cells[i].get_text() == nbb_unformatted_code) {\n",
       "                             nbb_cells[i].set_text(nbb_formatted_code);\n",
       "                        }\n",
       "                        break;\n",
       "                    }\n",
       "                }\n",
       "            }, 500);\n",
       "            "
      ],
      "text/plain": [
       "<IPython.core.display.Javascript object>"
      ]
     },
     "metadata": {},
     "output_type": "display_data"
    }
   ],
   "source": [
    "hi_fpr, hi_tpr, _ = roc_curve(y_test == \"High\", y_prob_hi)\n",
    "lo_fpr, lo_tpr, _ = roc_curve(y_test == \"Low\", y_prob_lo)\n",
    "mid_fpr, mid_tpr, _ = roc_curve(y_test == \"Middle\", y_prob_mid)\n",
    "\n",
    "plt.plot(hi_fpr, hi_tpr, label=\"Model ROC High\")\n",
    "plt.plot(lo_fpr, lo_tpr, label=\"Model ROC Low\")\n",
    "plt.plot(mid_fpr, mid_tpr, label=\"Model ROC Middle\")\n",
    "plt.plot([0, 1], [0, 1], \"--\", c=\"black\", label=\"Random Guessing\")\n",
    "plt.plot([0, 0, 1], [0, 1, 1], \"-.\", c=\"gray\", label=\"Perfect Model\")\n",
    "plt.legend()\n",
    "plt.show()"
   ]
  }
 ],
 "metadata": {
  "colab": {
   "collapsed_sections": [],
   "name": "Copy of Day 25 Lecture 2 Assignment.ipynb",
   "provenance": []
  },
  "kernelspec": {
   "display_name": "Python 3",
   "language": "python",
   "name": "python3"
  },
  "language_info": {
   "codemirror_mode": {
    "name": "ipython",
    "version": 3
   },
   "file_extension": ".py",
   "mimetype": "text/x-python",
   "name": "python",
   "nbconvert_exporter": "python",
   "pygments_lexer": "ipython3",
   "version": "3.7.6"
  }
 },
 "nbformat": 4,
 "nbformat_minor": 1
}
