{
 "cells": [
  {
   "cell_type": "markdown",
   "metadata": {
    "colab_type": "text",
    "id": "q7OBYmw2rsHe"
   },
   "source": [
    "## Day 24 Lecture 2 Assignment\n",
    "\n",
    "In this assignment, we will build our a more complex logistic regression model, this time on both numeric and categorical data. We will use the Chicago traffic crashes dataset loaded below and analyze the model generated for this dataset."
   ]
  },
  {
   "cell_type": "code",
   "execution_count": 1,
   "metadata": {
    "colab": {
     "base_uri": "https://localhost:8080/",
     "height": 70
    },
    "colab_type": "code",
    "id": "u3rUv9PKrsHf",
    "outputId": "8f7ed7b0-ec9f-4492-b7d5-29d1c0858e67"
   },
   "outputs": [],
   "source": [
    "import numpy as np\n",
    "import pandas as pd\n",
    "\n",
    "import statsmodels.api as sm\n",
    "\n",
    "from sklearn.model_selection import train_test_split\n",
    "from sklearn.linear_model import LogisticRegression\n",
    "from sklearn.calibration import calibration_curve\n",
    "from sklearn.metrics import confusion_matrix\n",
    "\n",
    "import seaborn as sns\n",
    "import matplotlib.pyplot as plt\n",
    "\n",
    "%matplotlib inline"
   ]
  },
  {
   "cell_type": "code",
   "execution_count": 2,
   "metadata": {
    "colab": {},
    "colab_type": "code",
    "id": "V_hlXXYwrsHh"
   },
   "outputs": [],
   "source": [
    "crash_data = pd.read_csv('https://tf-assets-prod.s3.amazonaws.com/tf-curric/data-science/traffic_crashes_chicago.csv')"
   ]
  },
  {
   "cell_type": "code",
   "execution_count": 3,
   "metadata": {
    "colab": {
     "base_uri": "https://localhost:8080/",
     "height": 383
    },
    "colab_type": "code",
    "id": "bJV8A_OQrsHj",
    "outputId": "32014c4d-702b-4c81-9a30-c3ee2372485a"
   },
   "outputs": [
    {
     "data": {
      "text/html": [
       "<div>\n",
       "<style scoped>\n",
       "    .dataframe tbody tr th:only-of-type {\n",
       "        vertical-align: middle;\n",
       "    }\n",
       "\n",
       "    .dataframe tbody tr th {\n",
       "        vertical-align: top;\n",
       "    }\n",
       "\n",
       "    .dataframe thead th {\n",
       "        text-align: right;\n",
       "    }\n",
       "</style>\n",
       "<table border=\"1\" class=\"dataframe\">\n",
       "  <thead>\n",
       "    <tr style=\"text-align: right;\">\n",
       "      <th></th>\n",
       "      <th>RD_NO</th>\n",
       "      <th>CRASH_DATE</th>\n",
       "      <th>POSTED_SPEED_LIMIT</th>\n",
       "      <th>TRAFFIC_CONTROL_DEVICE</th>\n",
       "      <th>DEVICE_CONDITION</th>\n",
       "      <th>WEATHER_CONDITION</th>\n",
       "      <th>LIGHTING_CONDITION</th>\n",
       "      <th>FIRST_CRASH_TYPE</th>\n",
       "      <th>TRAFFICWAY_TYPE</th>\n",
       "      <th>LANE_CNT</th>\n",
       "      <th>...</th>\n",
       "      <th>WORKERS_PRESENT_I</th>\n",
       "      <th>NUM_UNITS</th>\n",
       "      <th>MOST_SEVERE_INJURY</th>\n",
       "      <th>INJURIES_TOTAL</th>\n",
       "      <th>INJURIES_FATAL</th>\n",
       "      <th>INJURIES_INCAPACITATING</th>\n",
       "      <th>INJURIES_NON_INCAPACITATING</th>\n",
       "      <th>INJURIES_REPORTED_NOT_EVIDENT</th>\n",
       "      <th>INJURIES_NO_INDICATION</th>\n",
       "      <th>INJURIES_UNKNOWN</th>\n",
       "    </tr>\n",
       "  </thead>\n",
       "  <tbody>\n",
       "    <tr>\n",
       "      <th>0</th>\n",
       "      <td>JC334993</td>\n",
       "      <td>7/4/2019 22:33</td>\n",
       "      <td>45</td>\n",
       "      <td>NO CONTROLS</td>\n",
       "      <td>NO CONTROLS</td>\n",
       "      <td>CLEAR</td>\n",
       "      <td>DARKNESS, LIGHTED ROAD</td>\n",
       "      <td>REAR END</td>\n",
       "      <td>DIVIDED - W/MEDIAN BARRIER</td>\n",
       "      <td>NaN</td>\n",
       "      <td>...</td>\n",
       "      <td>NaN</td>\n",
       "      <td>NaN</td>\n",
       "      <td>NaN</td>\n",
       "      <td>NaN</td>\n",
       "      <td>NaN</td>\n",
       "      <td>NaN</td>\n",
       "      <td>NaN</td>\n",
       "      <td>NaN</td>\n",
       "      <td>NaN</td>\n",
       "      <td>NaN</td>\n",
       "    </tr>\n",
       "    <tr>\n",
       "      <th>1</th>\n",
       "      <td>JC370822</td>\n",
       "      <td>7/30/2019 10:22</td>\n",
       "      <td>30</td>\n",
       "      <td>NO CONTROLS</td>\n",
       "      <td>NO CONTROLS</td>\n",
       "      <td>CLEAR</td>\n",
       "      <td>DAYLIGHT</td>\n",
       "      <td>TURNING</td>\n",
       "      <td>DIVIDED - W/MEDIAN (NOT RAISED)</td>\n",
       "      <td>NaN</td>\n",
       "      <td>...</td>\n",
       "      <td>NaN</td>\n",
       "      <td>NaN</td>\n",
       "      <td>NaN</td>\n",
       "      <td>NaN</td>\n",
       "      <td>NaN</td>\n",
       "      <td>NaN</td>\n",
       "      <td>NaN</td>\n",
       "      <td>NaN</td>\n",
       "      <td>NaN</td>\n",
       "      <td>NaN</td>\n",
       "    </tr>\n",
       "    <tr>\n",
       "      <th>2</th>\n",
       "      <td>JC387098</td>\n",
       "      <td>8/10/2019 17:00</td>\n",
       "      <td>25</td>\n",
       "      <td>NO CONTROLS</td>\n",
       "      <td>NO CONTROLS</td>\n",
       "      <td>CLEAR</td>\n",
       "      <td>DAYLIGHT</td>\n",
       "      <td>PARKED MOTOR VEHICLE</td>\n",
       "      <td>ONE-WAY</td>\n",
       "      <td>NaN</td>\n",
       "      <td>...</td>\n",
       "      <td>NaN</td>\n",
       "      <td>1.0</td>\n",
       "      <td>NaN</td>\n",
       "      <td>NaN</td>\n",
       "      <td>NaN</td>\n",
       "      <td>NaN</td>\n",
       "      <td>NaN</td>\n",
       "      <td>NaN</td>\n",
       "      <td>NaN</td>\n",
       "      <td>NaN</td>\n",
       "    </tr>\n",
       "    <tr>\n",
       "      <th>3</th>\n",
       "      <td>JC395195</td>\n",
       "      <td>8/16/2019 16:53</td>\n",
       "      <td>30</td>\n",
       "      <td>NO CONTROLS</td>\n",
       "      <td>NO CONTROLS</td>\n",
       "      <td>CLEAR</td>\n",
       "      <td>DAYLIGHT</td>\n",
       "      <td>PARKED MOTOR VEHICLE</td>\n",
       "      <td>NOT DIVIDED</td>\n",
       "      <td>NaN</td>\n",
       "      <td>...</td>\n",
       "      <td>NaN</td>\n",
       "      <td>1.0</td>\n",
       "      <td>NO INDICATION OF INJURY</td>\n",
       "      <td>0.0</td>\n",
       "      <td>0.0</td>\n",
       "      <td>0.0</td>\n",
       "      <td>0.0</td>\n",
       "      <td>0.0</td>\n",
       "      <td>1.0</td>\n",
       "      <td>0.0</td>\n",
       "    </tr>\n",
       "    <tr>\n",
       "      <th>4</th>\n",
       "      <td>JC396604</td>\n",
       "      <td>8/17/2019 16:04</td>\n",
       "      <td>30</td>\n",
       "      <td>NO CONTROLS</td>\n",
       "      <td>NO CONTROLS</td>\n",
       "      <td>CLEAR</td>\n",
       "      <td>DAYLIGHT</td>\n",
       "      <td>PARKED MOTOR VEHICLE</td>\n",
       "      <td>PARKING LOT</td>\n",
       "      <td>NaN</td>\n",
       "      <td>...</td>\n",
       "      <td>NaN</td>\n",
       "      <td>1.0</td>\n",
       "      <td>NO INDICATION OF INJURY</td>\n",
       "      <td>0.0</td>\n",
       "      <td>0.0</td>\n",
       "      <td>0.0</td>\n",
       "      <td>0.0</td>\n",
       "      <td>0.0</td>\n",
       "      <td>1.0</td>\n",
       "      <td>0.0</td>\n",
       "    </tr>\n",
       "  </tbody>\n",
       "</table>\n",
       "<p>5 rows × 41 columns</p>\n",
       "</div>"
      ],
      "text/plain": [
       "      RD_NO       CRASH_DATE  POSTED_SPEED_LIMIT TRAFFIC_CONTROL_DEVICE  \\\n",
       "0  JC334993   7/4/2019 22:33                  45            NO CONTROLS   \n",
       "1  JC370822  7/30/2019 10:22                  30            NO CONTROLS   \n",
       "2  JC387098  8/10/2019 17:00                  25            NO CONTROLS   \n",
       "3  JC395195  8/16/2019 16:53                  30            NO CONTROLS   \n",
       "4  JC396604  8/17/2019 16:04                  30            NO CONTROLS   \n",
       "\n",
       "  DEVICE_CONDITION WEATHER_CONDITION      LIGHTING_CONDITION  \\\n",
       "0      NO CONTROLS             CLEAR  DARKNESS, LIGHTED ROAD   \n",
       "1      NO CONTROLS             CLEAR                DAYLIGHT   \n",
       "2      NO CONTROLS             CLEAR                DAYLIGHT   \n",
       "3      NO CONTROLS             CLEAR                DAYLIGHT   \n",
       "4      NO CONTROLS             CLEAR                DAYLIGHT   \n",
       "\n",
       "       FIRST_CRASH_TYPE                  TRAFFICWAY_TYPE  LANE_CNT  ...  \\\n",
       "0              REAR END       DIVIDED - W/MEDIAN BARRIER       NaN  ...   \n",
       "1               TURNING  DIVIDED - W/MEDIAN (NOT RAISED)       NaN  ...   \n",
       "2  PARKED MOTOR VEHICLE                          ONE-WAY       NaN  ...   \n",
       "3  PARKED MOTOR VEHICLE                      NOT DIVIDED       NaN  ...   \n",
       "4  PARKED MOTOR VEHICLE                      PARKING LOT       NaN  ...   \n",
       "\n",
       "  WORKERS_PRESENT_I NUM_UNITS       MOST_SEVERE_INJURY INJURIES_TOTAL  \\\n",
       "0               NaN       NaN                      NaN            NaN   \n",
       "1               NaN       NaN                      NaN            NaN   \n",
       "2               NaN       1.0                      NaN            NaN   \n",
       "3               NaN       1.0  NO INDICATION OF INJURY            0.0   \n",
       "4               NaN       1.0  NO INDICATION OF INJURY            0.0   \n",
       "\n",
       "  INJURIES_FATAL INJURIES_INCAPACITATING INJURIES_NON_INCAPACITATING  \\\n",
       "0            NaN                     NaN                         NaN   \n",
       "1            NaN                     NaN                         NaN   \n",
       "2            NaN                     NaN                         NaN   \n",
       "3            0.0                     0.0                         0.0   \n",
       "4            0.0                     0.0                         0.0   \n",
       "\n",
       "  INJURIES_REPORTED_NOT_EVIDENT INJURIES_NO_INDICATION INJURIES_UNKNOWN  \n",
       "0                           NaN                    NaN              NaN  \n",
       "1                           NaN                    NaN              NaN  \n",
       "2                           NaN                    NaN              NaN  \n",
       "3                           0.0                    1.0              0.0  \n",
       "4                           0.0                    1.0              0.0  \n",
       "\n",
       "[5 rows x 41 columns]"
      ]
     },
     "execution_count": 3,
     "metadata": {},
     "output_type": "execute_result"
    }
   ],
   "source": [
    "crash_data.head()"
   ]
  },
  {
   "cell_type": "markdown",
   "metadata": {
    "colab_type": "text",
    "id": "I7kel3hRUvwA"
   },
   "source": [
    "First, create a binary response column by modifying the \"DAMAGE\" column. Consider \"OVER \\\\$1500\" to be the positive class, and under \\\\$1500 to be the negative class."
   ]
  },
  {
   "cell_type": "code",
   "execution_count": 3,
   "metadata": {
    "colab": {
     "base_uri": "https://localhost:8080/",
     "height": 67
    },
    "colab_type": "code",
    "id": "lVXRdsWPUvwB",
    "outputId": "63f845cb-904b-4388-edc9-c7fb0e8297ad"
   },
   "outputs": [
    {
     "data": {
      "text/plain": [
       "1    0.563418\n",
       "0    0.436582\n",
       "Name: is_over_1500, dtype: float64"
      ]
     },
     "execution_count": 3,
     "metadata": {},
     "output_type": "execute_result"
    }
   ],
   "source": [
    "crash_data['is_over_1500'] = crash_data['DAMAGE'] == 'OVER $1,500'\n",
    "crash_data['is_over_1500'] = crash_data['is_over_1500'].astype(int)\n",
    "\n",
    "crash_data = crash_data.drop(columns=['DAMAGE'])\n",
    "\n",
    "crash_data['is_over_1500'].value_counts(normalize=True)"
   ]
  },
  {
   "cell_type": "markdown",
   "metadata": {
    "colab_type": "text",
    "id": "5QQUxRPMrsHl"
   },
   "source": [
    "Using the code from Day 21, Lecture 1 as a starting point, devise an appropriate way to address missing values. You have a lot of freedom here; we will proceed by taking the following steps:\n",
    "\n",
    "- Dropping all columns with more than 5% missing data\n",
    "- Imputing the median for numeric columns with less than 5% missing data (except for STREET_NO; imputing it in this manner would not make any sense)\n",
    "- Dropping rows with missing data for categorical columns that have less than 5% missing data"
   ]
  },
  {
   "cell_type": "code",
   "execution_count": 4,
   "metadata": {
    "colab": {},
    "colab_type": "code",
    "id": "X7DmjvgXrsHl"
   },
   "outputs": [],
   "source": [
    "# Dropping all columns with more than 5% missing data\n",
    "is_na_perc = crash_data.isna().mean()\n",
    "drop_cols = is_na_perc[is_na_perc > 0.05].index\n",
    "crash_data = crash_data.drop(columns=drop_cols)\n",
    "\n",
    "# Imputing the median for numeric columns with less than 5% missing data (except for STREET_NO)\n",
    "col_medians = crash_data.drop(columns='STREET_NO').median()\n",
    "crash_data = crash_data.fillna(col_medians)\n",
    "\n",
    "# Dropping rows with missing data for categorical columns that have less than 5% missing data\n",
    "crash_data = crash_data.dropna()"
   ]
  },
  {
   "cell_type": "markdown",
   "metadata": {
    "colab_type": "text",
    "id": "M66r2mytUvwF"
   },
   "source": [
    "Finally, choose a few numeric and categorical features (2-3 of each) to include in the model. (You can definitely include more than this, but too many features, especially categorical ones, will most likely lead to convergence issues). One hot encode the chosen categorical features, being sure to omit one of the categories (which will serve as a \"reference\" level) to avoid perfect multicollinearity.\n",
    "\n",
    "Again, you have a lot of freedom here; we will proceed with the following features, dropping the most commonly occurring category for the two categorical variables (\"CLEAR\" for weather, \"REAR END\" for first crash type):\n",
    "POSTED_SPEED_LIMIT, WEATHER_CONDITION, INJURIES_TOTAL, FIRST_CRASH_TYPE"
   ]
  },
  {
   "cell_type": "code",
   "execution_count": 5,
   "metadata": {
    "colab": {},
    "colab_type": "code",
    "id": "NUk-A-UZKWzY"
   },
   "outputs": [],
   "source": [
    "x_cols = ['POSTED_SPEED_LIMIT', 'WEATHER_CONDITION', 'INJURIES_TOTAL', 'FIRST_CRASH_TYPE']\n",
    "X = crash_data[x_cols]\n",
    "y = crash_data['is_over_1500']"
   ]
  },
  {
   "cell_type": "code",
   "execution_count": 6,
   "metadata": {
    "colab": {},
    "colab_type": "code",
    "id": "ja_Vaq2CUvwF"
   },
   "outputs": [],
   "source": [
    "# Why does it make sense to drop the most occuring category?\n",
    "drop_cats = ['WEATHER_CONDITION_CLEAR', 'FIRST_CRASH_TYPE_REAR END']\n",
    "X_dummies = pd.get_dummies(X)\n",
    "X_dummies = X_dummies.drop(columns=drop_cats)"
   ]
  },
  {
   "cell_type": "markdown",
   "metadata": {
    "colab_type": "text",
    "id": "zRuNJsTSrsHn"
   },
   "source": [
    "Split the data into train and test, with 80% training and 20% testing. By default, the LR output from statsmodels does not include an intercept terms; add a constant column to the training data so that an intercept term is calculated for the LR model (hint: sm.add_constant() is a useful function to accomplish this)."
   ]
  },
  {
   "cell_type": "code",
   "execution_count": 7,
   "metadata": {
    "colab": {},
    "colab_type": "code",
    "id": "fhpHIZBjrsHn"
   },
   "outputs": [],
   "source": [
    "X_train, X_test, y_train, y_test = train_test_split(\n",
    "    X_dummies, y, test_size=0.2, random_state=42\n",
    ")"
   ]
  },
  {
   "cell_type": "markdown",
   "metadata": {
    "colab_type": "text",
    "id": "ggXxmOLTrsHq"
   },
   "source": [
    "Fit the logistic regression model using the statsmodels package and print out the coefficient summary. Which variables (in particular, which categories of our categorical variables) appear to be the most important, and what effect do they have on the probability of a crash resulting in $1500 or more in damages?"
   ]
  },
  {
   "cell_type": "markdown",
   "metadata": {
    "colab_type": "text",
    "id": "e8exgjL1MDvB"
   },
   "source": [
    "### `sklearn`"
   ]
  },
  {
   "cell_type": "code",
   "execution_count": 8,
   "metadata": {
    "colab": {
     "base_uri": "https://localhost:8080/",
     "height": 101
    },
    "colab_type": "code",
    "id": "7pFgRLNErsHq",
    "outputId": "306f9986-9b62-48a0-eff6-a84fccd0f31f"
   },
   "outputs": [
    {
     "data": {
      "text/plain": [
       "LogisticRegression(C=1.0, class_weight=None, dual=False, fit_intercept=True,\n",
       "                   intercept_scaling=1, l1_ratio=None, max_iter=1000,\n",
       "                   multi_class='auto', n_jobs=None, penalty='l2',\n",
       "                   random_state=None, solver='lbfgs', tol=0.0001, verbose=0,\n",
       "                   warm_start=False)"
      ]
     },
     "execution_count": 8,
     "metadata": {},
     "output_type": "execute_result"
    }
   ],
   "source": [
    "model = LogisticRegression(max_iter=1000)\n",
    "model.fit(X_train, y_train)"
   ]
  },
  {
   "cell_type": "code",
   "execution_count": 9,
   "metadata": {
    "colab": {
     "base_uri": "https://localhost:8080/",
     "height": 34
    },
    "colab_type": "code",
    "id": "leFlINy5MMms",
    "outputId": "473da954-f6c1-40ca-d4bf-af67b5a78358"
   },
   "outputs": [
    {
     "data": {
      "text/plain": [
       "0.5831109088024939"
      ]
     },
     "execution_count": 9,
     "metadata": {},
     "output_type": "execute_result"
    }
   ],
   "source": [
    "model.score(X_train, y_train)"
   ]
  },
  {
   "cell_type": "code",
   "execution_count": 10,
   "metadata": {
    "colab": {
     "base_uri": "https://localhost:8080/",
     "height": 34
    },
    "colab_type": "code",
    "id": "dD9gLRT5MPXf",
    "outputId": "4ba186d6-70b1-42d1-c2cb-75e6df124b64"
   },
   "outputs": [
    {
     "data": {
      "text/plain": [
       "0.5857483757948605"
      ]
     },
     "execution_count": 10,
     "metadata": {},
     "output_type": "execute_result"
    }
   ],
   "source": [
    "model.score(X_test, y_test)"
   ]
  },
  {
   "cell_type": "code",
   "execution_count": 11,
   "metadata": {
    "colab": {
     "base_uri": "https://localhost:8080/",
     "height": 106
    },
    "colab_type": "code",
    "id": "CmxU9usPNUK0",
    "outputId": "b5f4ad03-e383-4895-d051-7e0c291b5047"
   },
   "outputs": [
    {
     "data": {
      "text/html": [
       "<div>\n",
       "<style scoped>\n",
       "    .dataframe tbody tr th:only-of-type {\n",
       "        vertical-align: middle;\n",
       "    }\n",
       "\n",
       "    .dataframe tbody tr th {\n",
       "        vertical-align: top;\n",
       "    }\n",
       "\n",
       "    .dataframe thead th {\n",
       "        text-align: right;\n",
       "    }\n",
       "</style>\n",
       "<table border=\"1\" class=\"dataframe\">\n",
       "  <thead>\n",
       "    <tr style=\"text-align: right;\">\n",
       "      <th></th>\n",
       "      <th>Predicted 0</th>\n",
       "      <th>Predicted 1</th>\n",
       "    </tr>\n",
       "  </thead>\n",
       "  <tbody>\n",
       "    <tr>\n",
       "      <th>Actual 0</th>\n",
       "      <td>9633</td>\n",
       "      <td>22203</td>\n",
       "    </tr>\n",
       "    <tr>\n",
       "      <th>Actual 1</th>\n",
       "      <td>7829</td>\n",
       "      <td>32832</td>\n",
       "    </tr>\n",
       "  </tbody>\n",
       "</table>\n",
       "</div>"
      ],
      "text/plain": [
       "          Predicted 0  Predicted 1\n",
       "Actual 0         9633        22203\n",
       "Actual 1         7829        32832"
      ]
     },
     "execution_count": 11,
     "metadata": {},
     "output_type": "execute_result"
    }
   ],
   "source": [
    "y_pred = model.predict(X_test)\n",
    "\n",
    "conf_mat = confusion_matrix(y_test, y_pred)\n",
    "conf_df = pd.DataFrame(conf_mat, columns=['Predicted 0', 'Predicted 1'], index=['Actual 0', 'Actual 1'])\n",
    "conf_df"
   ]
  },
  {
   "cell_type": "markdown",
   "metadata": {
    "colab_type": "text",
    "id": "EO-XektyMFdQ"
   },
   "source": [
    "### `statsmodels`"
   ]
  },
  {
   "cell_type": "code",
   "execution_count": 12,
   "metadata": {
    "colab": {
     "base_uri": "https://localhost:8080/",
     "height": 790
    },
    "colab_type": "code",
    "id": "Ej6sAIS8MIiy",
    "outputId": "715fce57-970d-4c51-868c-db9021293674"
   },
   "outputs": [
    {
     "name": "stdout",
     "output_type": "stream",
     "text": [
      "Optimization terminated successfully.\n",
      "         Current function value: 0.658184\n",
      "         Iterations 6\n",
      "                           Logit Regression Results                           \n",
      "==============================================================================\n",
      "Dep. Variable:           is_over_1500   No. Observations:               289986\n",
      "Model:                          Logit   Df Residuals:                   289956\n",
      "Method:                           MLE   Df Model:                           29\n",
      "Date:                Fri, 28 Aug 2020   Pseudo R-squ.:                 0.03970\n",
      "Time:                        07:52:33   Log-Likelihood:            -1.9086e+05\n",
      "converged:                       True   LL-Null:                   -1.9876e+05\n",
      "Covariance Type:            nonrobust   LLR p-value:                     0.000\n",
      "=================================================================================================================\n",
      "                                                    coef    std err          z      P>|z|      [0.025      0.975]\n",
      "-----------------------------------------------------------------------------------------------------------------\n",
      "const                                            -0.3310      0.019    -17.356      0.000      -0.368      -0.294\n",
      "POSTED_SPEED_LIMIT                                0.0108      0.001     18.316      0.000       0.010       0.012\n",
      "INJURIES_TOTAL                                    0.7496      0.012     62.586      0.000       0.726       0.773\n",
      "WEATHER_CONDITION_BLOWING SNOW                    0.3283      0.575      0.571      0.568      -0.798       1.455\n",
      "WEATHER_CONDITION_CLOUDY/OVERCAST                 0.0932      0.023      4.119      0.000       0.049       0.138\n",
      "WEATHER_CONDITION_FOG/SMOKE/HAZE                  0.2104      0.090      2.330      0.020       0.033       0.387\n",
      "WEATHER_CONDITION_FREEZING RAIN/DRIZZLE           0.6272      0.191      3.284      0.001       0.253       1.002\n",
      "WEATHER_CONDITION_OTHER                           0.2863      0.070      4.066      0.000       0.148       0.424\n",
      "WEATHER_CONDITION_RAIN                            0.1287      0.014      9.521      0.000       0.102       0.155\n",
      "WEATHER_CONDITION_SEVERE CROSS WIND GATE          0.4253      0.285      1.494      0.135      -0.133       0.983\n",
      "WEATHER_CONDITION_SLEET/HAIL                      0.1620      0.100      1.616      0.106      -0.034       0.359\n",
      "WEATHER_CONDITION_SNOW                            0.1266      0.021      5.958      0.000       0.085       0.168\n",
      "WEATHER_CONDITION_UNKNOWN                         0.1571      0.019      8.268      0.000       0.120       0.194\n",
      "FIRST_CRASH_TYPE_ANGLE                            0.6750      0.015     45.530      0.000       0.646       0.704\n",
      "FIRST_CRASH_TYPE_ANIMAL                          -0.3035      0.151     -2.015      0.044      -0.599      -0.008\n",
      "FIRST_CRASH_TYPE_FIXED OBJECT                     0.7202      0.021     33.856      0.000       0.678       0.762\n",
      "FIRST_CRASH_TYPE_HEAD ON                          0.6233      0.046     13.512      0.000       0.533       0.714\n",
      "FIRST_CRASH_TYPE_OTHER NONCOLLISION              -0.4305      0.064     -6.720      0.000      -0.556      -0.305\n",
      "FIRST_CRASH_TYPE_OTHER OBJECT                     0.0375      0.040      0.931      0.352      -0.041       0.117\n",
      "FIRST_CRASH_TYPE_OVERTURNED                       1.5187      0.255      5.945      0.000       1.018       2.019\n",
      "FIRST_CRASH_TYPE_PARKED MOTOR VEHICLE             0.1957      0.011     17.281      0.000       0.174       0.218\n",
      "FIRST_CRASH_TYPE_PEDALCYCLIST                    -1.7883      0.039    -46.212      0.000      -1.864      -1.712\n",
      "FIRST_CRASH_TYPE_PEDESTRIAN                      -1.7069      0.031    -55.536      0.000      -1.767      -1.647\n",
      "FIRST_CRASH_TYPE_REAR TO FRONT                   -0.1169      0.067     -1.733      0.083      -0.249       0.015\n",
      "FIRST_CRASH_TYPE_REAR TO REAR                    -0.2932      0.138     -2.128      0.033      -0.563      -0.023\n",
      "FIRST_CRASH_TYPE_REAR TO SIDE                     0.0653      0.084      0.778      0.437      -0.099       0.230\n",
      "FIRST_CRASH_TYPE_SIDESWIPE OPPOSITE DIRECTION     0.0358      0.032      1.122      0.262      -0.027       0.098\n",
      "FIRST_CRASH_TYPE_SIDESWIPE SAME DIRECTION         0.0222      0.012      1.853      0.064      -0.001       0.046\n",
      "FIRST_CRASH_TYPE_TRAIN                            2.1657      1.046      2.071      0.038       0.116       4.216\n",
      "FIRST_CRASH_TYPE_TURNING                          0.4672      0.013     36.141      0.000       0.442       0.493\n",
      "=================================================================================================================\n"
     ]
    }
   ],
   "source": [
    "X_train_const = sm.add_constant(X_train)\n",
    "X_test_const = sm.add_constant(X_test)\n",
    "\n",
    "sm_model = sm.Logit(y_train, X_train_const).fit()\n",
    "print(sm_model.summary())"
   ]
  },
  {
   "cell_type": "code",
   "execution_count": 13,
   "metadata": {
    "colab": {
     "base_uri": "https://localhost:8080/",
     "height": 106
    },
    "colab_type": "code",
    "id": "rm9aPygdNRCz",
    "outputId": "ab55434b-092e-4aba-ae75-cd1879286b15"
   },
   "outputs": [
    {
     "data": {
      "text/html": [
       "<div>\n",
       "<style scoped>\n",
       "    .dataframe tbody tr th:only-of-type {\n",
       "        vertical-align: middle;\n",
       "    }\n",
       "\n",
       "    .dataframe tbody tr th {\n",
       "        vertical-align: top;\n",
       "    }\n",
       "\n",
       "    .dataframe thead th {\n",
       "        text-align: right;\n",
       "    }\n",
       "</style>\n",
       "<table border=\"1\" class=\"dataframe\">\n",
       "  <thead>\n",
       "    <tr style=\"text-align: right;\">\n",
       "      <th></th>\n",
       "      <th>Predicted 0</th>\n",
       "      <th>Predicted 1</th>\n",
       "    </tr>\n",
       "  </thead>\n",
       "  <tbody>\n",
       "    <tr>\n",
       "      <th>Actual 0</th>\n",
       "      <td>9622</td>\n",
       "      <td>22214</td>\n",
       "    </tr>\n",
       "    <tr>\n",
       "      <th>Actual 1</th>\n",
       "      <td>7809</td>\n",
       "      <td>32852</td>\n",
       "    </tr>\n",
       "  </tbody>\n",
       "</table>\n",
       "</div>"
      ],
      "text/plain": [
       "          Predicted 0  Predicted 1\n",
       "Actual 0         9622        22214\n",
       "Actual 1         7809        32852"
      ]
     },
     "execution_count": 13,
     "metadata": {},
     "output_type": "execute_result"
    }
   ],
   "source": [
    "y_pred = sm_model.predict(X_test_const)\n",
    "y_pred = y_pred > 0.5\n",
    "\n",
    "conf_mat = confusion_matrix(y_test, y_pred)\n",
    "conf_df = pd.DataFrame(conf_mat, columns=['Predicted 0', 'Predicted 1'], index=['Actual 0', 'Actual 1'])\n",
    "conf_df"
   ]
  },
  {
   "cell_type": "markdown",
   "metadata": {
    "colab_type": "text",
    "id": "LyTGuO8KUvwM"
   },
   "source": [
    "As we did on the previous exercise, make predictions on the test set and join them to the corresponding true outcomes, then use the *calibration_curve* function in scikit learn to plot a calibration curve. Is the model well-calibrated?"
   ]
  },
  {
   "cell_type": "code",
   "execution_count": 14,
   "metadata": {
    "colab": {
     "base_uri": "https://localhost:8080/",
     "height": 295
    },
    "colab_type": "code",
    "id": "si6gV51qrsHs",
    "outputId": "2712e8c9-52e6-4371-ca20-a7fd522f2da5",
    "scrolled": true
   },
   "outputs": [
    {
     "data": {
      "image/png": "[encoded data removed]",
      "text/plain": [
       "<Figure size 432x288 with 1 Axes>"
      ]
     },
     "metadata": {
      "needs_background": "light"
     },
     "output_type": "display_data"
    }
   ],
   "source": [
    "y_pred_prob = model.predict_proba(X_test)[:, 1] # sklearn\n",
    "# y_pred_prob = sm_model.predict(X_test_const)  # statsmodels\n",
    "\n",
    "y, x = calibration_curve(y_test, y_pred_prob, n_bins=10)\n",
    "\n",
    "plt.plot(x, y, '-o')\n",
    "plt.plot([0,1], [0,1], '--')\n",
    "plt.title('Made by sklearn')\n",
    "plt.xlabel('Predicted Probability of Class 1')\n",
    "plt.ylabel('Percentage of Class 1s\\n(at the Predicted Probability)')\n",
    "plt.show()"
   ]
  },
  {
   "cell_type": "code",
   "execution_count": 16,
   "metadata": {},
   "outputs": [
    {
     "name": "stdout",
     "output_type": "stream",
     "text": [
      "              precision    recall  f1-score   support\n",
      "\n",
      "           0       0.55      0.30      0.39     31836\n",
      "           1       0.60      0.81      0.69     40661\n",
      "\n",
      "    accuracy                           0.59     72497\n",
      "   macro avg       0.57      0.56      0.54     72497\n",
      "weighted avg       0.58      0.59      0.56     72497\n",
      "\n"
     ]
    }
   ],
   "source": [
    "from sklearn.metrics import confusion_matrix, classification_report\n",
    "y_pred = model.predict(X_test)\n",
    "y_true = y_test\n",
    "\n",
    "print(classification_report(y_test, y_pred))"
   ]
  }
 ],
 "metadata": {
  "colab": {
   "collapsed_sections": [],
   "name": "Copy of Day 24 Lecture 2 Assignment.ipynb",
   "provenance": []
  },
  "kernelspec": {
   "display_name": "Python 3",
   "language": "python",
   "name": "python3"
  },
  "language_info": {
   "codemirror_mode": {
    "name": "ipython",
    "version": 3
   },
   "file_extension": ".py",
   "mimetype": "text/x-python",
   "name": "python",
   "nbconvert_exporter": "python",
   "pygments_lexer": "ipython3",
   "version": "3.7.6"
  }
 },
 "nbformat": 4,
 "nbformat_minor": 1
}
