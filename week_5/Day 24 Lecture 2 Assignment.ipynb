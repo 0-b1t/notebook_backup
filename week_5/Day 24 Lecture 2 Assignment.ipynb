{
 "cells": [
  {
   "cell_type": "code",
   "execution_count": 1,
   "metadata": {},
   "outputs": [
    {
     "data": {
      "application/javascript": [
       "\n",
       "            setTimeout(function() {\n",
       "                var nbb_cell_id = 1;\n",
       "                var nbb_unformatted_code = \"%reload_ext nb_black\";\n",
       "                var nbb_formatted_code = \"%reload_ext nb_black\";\n",
       "                var nbb_cells = Jupyter.notebook.get_cells();\n",
       "                for (var i = 0; i < nbb_cells.length; ++i) {\n",
       "                    if (nbb_cells[i].input_prompt_number == nbb_cell_id) {\n",
       "                        if (nbb_cells[i].get_text() == nbb_unformatted_code) {\n",
       "                             nbb_cells[i].set_text(nbb_formatted_code);\n",
       "                        }\n",
       "                        break;\n",
       "                    }\n",
       "                }\n",
       "            }, 500);\n",
       "            "
      ],
      "text/plain": [
       "<IPython.core.display.Javascript object>"
      ]
     },
     "metadata": {},
     "output_type": "display_data"
    }
   ],
   "source": [
    "%reload_ext nb_black"
   ]
  },
  {
   "cell_type": "markdown",
   "metadata": {
    "colab_type": "text",
    "id": "q7OBYmw2rsHe"
   },
   "source": [
    "## Day 24 Lecture 2 Assignment\n",
    "\n",
    "In this assignment, we will build our a more complex logistic regression model, this time on both numeric and categorical data. We will use the Chicago traffic crashes dataset loaded below and analyze the model generated for this dataset."
   ]
  },
  {
   "cell_type": "code",
   "execution_count": 3,
   "metadata": {
    "colab": {},
    "colab_type": "code",
    "id": "u3rUv9PKrsHf"
   },
   "outputs": [
    {
     "data": {
      "application/javascript": [
       "\n",
       "            setTimeout(function() {\n",
       "                var nbb_cell_id = 3;\n",
       "                var nbb_unformatted_code = \"import numpy as np\\nimport pandas as pd\\n\\nimport statsmodels.api as sm\\n\\nfrom sklearn.model_selection import train_test_split\\nfrom sklearn.linear_model import LogisticRegression\\nfrom sklearn.calibration import calibration_curve\\nfrom sklearn.metrics import confusion_matrix\\n\\nimport seaborn as sns\\nimport matplotlib.pyplot as plt\\n\\n%matplotlib inline\";\n",
       "                var nbb_formatted_code = \"import numpy as np\\nimport pandas as pd\\n\\nimport statsmodels.api as sm\\n\\nfrom sklearn.model_selection import train_test_split\\nfrom sklearn.linear_model import LogisticRegression\\nfrom sklearn.calibration import calibration_curve\\nfrom sklearn.metrics import confusion_matrix\\n\\nimport seaborn as sns\\nimport matplotlib.pyplot as plt\\n\\n%matplotlib inline\";\n",
       "                var nbb_cells = Jupyter.notebook.get_cells();\n",
       "                for (var i = 0; i < nbb_cells.length; ++i) {\n",
       "                    if (nbb_cells[i].input_prompt_number == nbb_cell_id) {\n",
       "                        if (nbb_cells[i].get_text() == nbb_unformatted_code) {\n",
       "                             nbb_cells[i].set_text(nbb_formatted_code);\n",
       "                        }\n",
       "                        break;\n",
       "                    }\n",
       "                }\n",
       "            }, 500);\n",
       "            "
      ],
      "text/plain": [
       "<IPython.core.display.Javascript object>"
      ]
     },
     "metadata": {},
     "output_type": "display_data"
    }
   ],
   "source": [
    "import numpy as np\n",
    "import pandas as pd\n",
    "\n",
    "import statsmodels.api as sm\n",
    "\n",
    "from sklearn.model_selection import train_test_split\n",
    "from sklearn.linear_model import LogisticRegression\n",
    "from sklearn.calibration import calibration_curve\n",
    "from sklearn.metrics import confusion_matrix\n",
    "\n",
    "import seaborn as sns\n",
    "import matplotlib.pyplot as plt\n",
    "\n",
    "%matplotlib inline"
   ]
  },
  {
   "cell_type": "code",
   "execution_count": 3,
   "metadata": {
    "colab": {},
    "colab_type": "code",
    "id": "cJ-qRkctUvv6"
   },
   "outputs": [
    {
     "data": {
      "application/javascript": [
       "\n",
       "            setTimeout(function() {\n",
       "                var nbb_cell_id = 3;\n",
       "                var nbb_unformatted_code = \"def missingness_summary(df, print_log=False, sort='none'):\\n    summary = df.apply(lambda x: x.isna().sum() / x.shape[0])\\n    \\n    if print_log == True:\\n        if sort == 'none':\\n            print(summary)\\n        elif sort == 'ascending':\\n            print(summary.sort_values())\\n        elif sort == 'descending':\\n            print(summary.sort_values(ascending=False))\\n        else:\\n            print('Invalid value for sort parameter.')\\n        \\n    return summary\";\n",
       "                var nbb_formatted_code = \"def missingness_summary(df, print_log=False, sort=\\\"none\\\"):\\n    summary = df.apply(lambda x: x.isna().sum() / x.shape[0])\\n\\n    if print_log == True:\\n        if sort == \\\"none\\\":\\n            print(summary)\\n        elif sort == \\\"ascending\\\":\\n            print(summary.sort_values())\\n        elif sort == \\\"descending\\\":\\n            print(summary.sort_values(ascending=False))\\n        else:\\n            print(\\\"Invalid value for sort parameter.\\\")\\n\\n    return summary\";\n",
       "                var nbb_cells = Jupyter.notebook.get_cells();\n",
       "                for (var i = 0; i < nbb_cells.length; ++i) {\n",
       "                    if (nbb_cells[i].input_prompt_number == nbb_cell_id) {\n",
       "                        if (nbb_cells[i].get_text() == nbb_unformatted_code) {\n",
       "                             nbb_cells[i].set_text(nbb_formatted_code);\n",
       "                        }\n",
       "                        break;\n",
       "                    }\n",
       "                }\n",
       "            }, 500);\n",
       "            "
      ],
      "text/plain": [
       "<IPython.core.display.Javascript object>"
      ]
     },
     "metadata": {},
     "output_type": "display_data"
    }
   ],
   "source": [
    "def missingness_summary(df, print_log=False, sort=\"none\"):\n",
    "    summary = df.apply(lambda x: x.isna().sum() / x.shape[0])\n",
    "\n",
    "    if print_log == True:\n",
    "        if sort == \"none\":\n",
    "            print(summary)\n",
    "        elif sort == \"ascending\":\n",
    "            print(summary.sort_values())\n",
    "        elif sort == \"descending\":\n",
    "            print(summary.sort_values(ascending=False))\n",
    "        else:\n",
    "            print(\"Invalid value for sort parameter.\")\n",
    "\n",
    "    return summary"
   ]
  },
  {
   "cell_type": "code",
   "execution_count": 4,
   "metadata": {
    "colab": {},
    "colab_type": "code",
    "id": "V_hlXXYwrsHh"
   },
   "outputs": [
    {
     "data": {
      "application/javascript": [
       "\n",
       "            setTimeout(function() {\n",
       "                var nbb_cell_id = 4;\n",
       "                var nbb_unformatted_code = \"crash_data = pd.read_csv(\\n    \\\"https://tf-assets-prod.s3.amazonaws.com/tf-curric/data-science/traffic_crashes_chicago.csv\\\"\\n)\";\n",
       "                var nbb_formatted_code = \"crash_data = pd.read_csv(\\n    \\\"https://tf-assets-prod.s3.amazonaws.com/tf-curric/data-science/traffic_crashes_chicago.csv\\\"\\n)\";\n",
       "                var nbb_cells = Jupyter.notebook.get_cells();\n",
       "                for (var i = 0; i < nbb_cells.length; ++i) {\n",
       "                    if (nbb_cells[i].input_prompt_number == nbb_cell_id) {\n",
       "                        if (nbb_cells[i].get_text() == nbb_unformatted_code) {\n",
       "                             nbb_cells[i].set_text(nbb_formatted_code);\n",
       "                        }\n",
       "                        break;\n",
       "                    }\n",
       "                }\n",
       "            }, 500);\n",
       "            "
      ],
      "text/plain": [
       "<IPython.core.display.Javascript object>"
      ]
     },
     "metadata": {},
     "output_type": "display_data"
    }
   ],
   "source": [
    "crash_data = pd.read_csv(\n",
    "    \"https://tf-assets-prod.s3.amazonaws.com/tf-curric/data-science/traffic_crashes_chicago.csv\"\n",
    ")"
   ]
  },
  {
   "cell_type": "code",
   "execution_count": 5,
   "metadata": {
    "colab": {
     "base_uri": "https://localhost:8080/",
     "height": 306
    },
    "colab_type": "code",
    "executionInfo": {
     "elapsed": 2214,
     "status": "ok",
     "timestamp": 1573181563472,
     "user": {
      "displayName": "Mike Swirsky",
      "photoUrl": "https://lh3.googleusercontent.com/a-/AAuE7mAEvj_9k9NYcdWSI5G-tvxoZDUz8RATiP7-zeMD=s64",
      "userId": "09733430627481200667"
     },
     "user_tz": 480
    },
    "id": "bJV8A_OQrsHj",
    "outputId": "9a64e2c5-a17c-429d-f55a-8bc72ce72a75"
   },
   "outputs": [
    {
     "data": {
      "text/html": [
       "<div>\n",
       "<style scoped>\n",
       "    .dataframe tbody tr th:only-of-type {\n",
       "        vertical-align: middle;\n",
       "    }\n",
       "\n",
       "    .dataframe tbody tr th {\n",
       "        vertical-align: top;\n",
       "    }\n",
       "\n",
       "    .dataframe thead th {\n",
       "        text-align: right;\n",
       "    }\n",
       "</style>\n",
       "<table border=\"1\" class=\"dataframe\">\n",
       "  <thead>\n",
       "    <tr style=\"text-align: right;\">\n",
       "      <th></th>\n",
       "      <th>RD_NO</th>\n",
       "      <th>CRASH_DATE</th>\n",
       "      <th>POSTED_SPEED_LIMIT</th>\n",
       "      <th>TRAFFIC_CONTROL_DEVICE</th>\n",
       "      <th>DEVICE_CONDITION</th>\n",
       "      <th>WEATHER_CONDITION</th>\n",
       "      <th>LIGHTING_CONDITION</th>\n",
       "      <th>FIRST_CRASH_TYPE</th>\n",
       "      <th>TRAFFICWAY_TYPE</th>\n",
       "      <th>LANE_CNT</th>\n",
       "      <th>...</th>\n",
       "      <th>WORKERS_PRESENT_I</th>\n",
       "      <th>NUM_UNITS</th>\n",
       "      <th>MOST_SEVERE_INJURY</th>\n",
       "      <th>INJURIES_TOTAL</th>\n",
       "      <th>INJURIES_FATAL</th>\n",
       "      <th>INJURIES_INCAPACITATING</th>\n",
       "      <th>INJURIES_NON_INCAPACITATING</th>\n",
       "      <th>INJURIES_REPORTED_NOT_EVIDENT</th>\n",
       "      <th>INJURIES_NO_INDICATION</th>\n",
       "      <th>INJURIES_UNKNOWN</th>\n",
       "    </tr>\n",
       "  </thead>\n",
       "  <tbody>\n",
       "    <tr>\n",
       "      <th>0</th>\n",
       "      <td>JC334993</td>\n",
       "      <td>7/4/2019 22:33</td>\n",
       "      <td>45</td>\n",
       "      <td>NO CONTROLS</td>\n",
       "      <td>NO CONTROLS</td>\n",
       "      <td>CLEAR</td>\n",
       "      <td>DARKNESS, LIGHTED ROAD</td>\n",
       "      <td>REAR END</td>\n",
       "      <td>DIVIDED - W/MEDIAN BARRIER</td>\n",
       "      <td>NaN</td>\n",
       "      <td>...</td>\n",
       "      <td>NaN</td>\n",
       "      <td>NaN</td>\n",
       "      <td>NaN</td>\n",
       "      <td>NaN</td>\n",
       "      <td>NaN</td>\n",
       "      <td>NaN</td>\n",
       "      <td>NaN</td>\n",
       "      <td>NaN</td>\n",
       "      <td>NaN</td>\n",
       "      <td>NaN</td>\n",
       "    </tr>\n",
       "    <tr>\n",
       "      <th>1</th>\n",
       "      <td>JC370822</td>\n",
       "      <td>7/30/2019 10:22</td>\n",
       "      <td>30</td>\n",
       "      <td>NO CONTROLS</td>\n",
       "      <td>NO CONTROLS</td>\n",
       "      <td>CLEAR</td>\n",
       "      <td>DAYLIGHT</td>\n",
       "      <td>TURNING</td>\n",
       "      <td>DIVIDED - W/MEDIAN (NOT RAISED)</td>\n",
       "      <td>NaN</td>\n",
       "      <td>...</td>\n",
       "      <td>NaN</td>\n",
       "      <td>NaN</td>\n",
       "      <td>NaN</td>\n",
       "      <td>NaN</td>\n",
       "      <td>NaN</td>\n",
       "      <td>NaN</td>\n",
       "      <td>NaN</td>\n",
       "      <td>NaN</td>\n",
       "      <td>NaN</td>\n",
       "      <td>NaN</td>\n",
       "    </tr>\n",
       "    <tr>\n",
       "      <th>2</th>\n",
       "      <td>JC387098</td>\n",
       "      <td>8/10/2019 17:00</td>\n",
       "      <td>25</td>\n",
       "      <td>NO CONTROLS</td>\n",
       "      <td>NO CONTROLS</td>\n",
       "      <td>CLEAR</td>\n",
       "      <td>DAYLIGHT</td>\n",
       "      <td>PARKED MOTOR VEHICLE</td>\n",
       "      <td>ONE-WAY</td>\n",
       "      <td>NaN</td>\n",
       "      <td>...</td>\n",
       "      <td>NaN</td>\n",
       "      <td>1.0</td>\n",
       "      <td>NaN</td>\n",
       "      <td>NaN</td>\n",
       "      <td>NaN</td>\n",
       "      <td>NaN</td>\n",
       "      <td>NaN</td>\n",
       "      <td>NaN</td>\n",
       "      <td>NaN</td>\n",
       "      <td>NaN</td>\n",
       "    </tr>\n",
       "    <tr>\n",
       "      <th>3</th>\n",
       "      <td>JC395195</td>\n",
       "      <td>8/16/2019 16:53</td>\n",
       "      <td>30</td>\n",
       "      <td>NO CONTROLS</td>\n",
       "      <td>NO CONTROLS</td>\n",
       "      <td>CLEAR</td>\n",
       "      <td>DAYLIGHT</td>\n",
       "      <td>PARKED MOTOR VEHICLE</td>\n",
       "      <td>NOT DIVIDED</td>\n",
       "      <td>NaN</td>\n",
       "      <td>...</td>\n",
       "      <td>NaN</td>\n",
       "      <td>1.0</td>\n",
       "      <td>NO INDICATION OF INJURY</td>\n",
       "      <td>0.0</td>\n",
       "      <td>0.0</td>\n",
       "      <td>0.0</td>\n",
       "      <td>0.0</td>\n",
       "      <td>0.0</td>\n",
       "      <td>1.0</td>\n",
       "      <td>0.0</td>\n",
       "    </tr>\n",
       "    <tr>\n",
       "      <th>4</th>\n",
       "      <td>JC396604</td>\n",
       "      <td>8/17/2019 16:04</td>\n",
       "      <td>30</td>\n",
       "      <td>NO CONTROLS</td>\n",
       "      <td>NO CONTROLS</td>\n",
       "      <td>CLEAR</td>\n",
       "      <td>DAYLIGHT</td>\n",
       "      <td>PARKED MOTOR VEHICLE</td>\n",
       "      <td>PARKING LOT</td>\n",
       "      <td>NaN</td>\n",
       "      <td>...</td>\n",
       "      <td>NaN</td>\n",
       "      <td>1.0</td>\n",
       "      <td>NO INDICATION OF INJURY</td>\n",
       "      <td>0.0</td>\n",
       "      <td>0.0</td>\n",
       "      <td>0.0</td>\n",
       "      <td>0.0</td>\n",
       "      <td>0.0</td>\n",
       "      <td>1.0</td>\n",
       "      <td>0.0</td>\n",
       "    </tr>\n",
       "  </tbody>\n",
       "</table>\n",
       "<p>5 rows × 41 columns</p>\n",
       "</div>"
      ],
      "text/plain": [
       "      RD_NO       CRASH_DATE  POSTED_SPEED_LIMIT TRAFFIC_CONTROL_DEVICE  \\\n",
       "0  JC334993   7/4/2019 22:33                  45            NO CONTROLS   \n",
       "1  JC370822  7/30/2019 10:22                  30            NO CONTROLS   \n",
       "2  JC387098  8/10/2019 17:00                  25            NO CONTROLS   \n",
       "3  JC395195  8/16/2019 16:53                  30            NO CONTROLS   \n",
       "4  JC396604  8/17/2019 16:04                  30            NO CONTROLS   \n",
       "\n",
       "  DEVICE_CONDITION WEATHER_CONDITION      LIGHTING_CONDITION  \\\n",
       "0      NO CONTROLS             CLEAR  DARKNESS, LIGHTED ROAD   \n",
       "1      NO CONTROLS             CLEAR                DAYLIGHT   \n",
       "2      NO CONTROLS             CLEAR                DAYLIGHT   \n",
       "3      NO CONTROLS             CLEAR                DAYLIGHT   \n",
       "4      NO CONTROLS             CLEAR                DAYLIGHT   \n",
       "\n",
       "       FIRST_CRASH_TYPE                  TRAFFICWAY_TYPE  LANE_CNT  ...  \\\n",
       "0              REAR END       DIVIDED - W/MEDIAN BARRIER       NaN  ...   \n",
       "1               TURNING  DIVIDED - W/MEDIAN (NOT RAISED)       NaN  ...   \n",
       "2  PARKED MOTOR VEHICLE                          ONE-WAY       NaN  ...   \n",
       "3  PARKED MOTOR VEHICLE                      NOT DIVIDED       NaN  ...   \n",
       "4  PARKED MOTOR VEHICLE                      PARKING LOT       NaN  ...   \n",
       "\n",
       "  WORKERS_PRESENT_I NUM_UNITS       MOST_SEVERE_INJURY INJURIES_TOTAL  \\\n",
       "0               NaN       NaN                      NaN            NaN   \n",
       "1               NaN       NaN                      NaN            NaN   \n",
       "2               NaN       1.0                      NaN            NaN   \n",
       "3               NaN       1.0  NO INDICATION OF INJURY            0.0   \n",
       "4               NaN       1.0  NO INDICATION OF INJURY            0.0   \n",
       "\n",
       "  INJURIES_FATAL INJURIES_INCAPACITATING INJURIES_NON_INCAPACITATING  \\\n",
       "0            NaN                     NaN                         NaN   \n",
       "1            NaN                     NaN                         NaN   \n",
       "2            NaN                     NaN                         NaN   \n",
       "3            0.0                     0.0                         0.0   \n",
       "4            0.0                     0.0                         0.0   \n",
       "\n",
       "  INJURIES_REPORTED_NOT_EVIDENT INJURIES_NO_INDICATION INJURIES_UNKNOWN  \n",
       "0                           NaN                    NaN              NaN  \n",
       "1                           NaN                    NaN              NaN  \n",
       "2                           NaN                    NaN              NaN  \n",
       "3                           0.0                    1.0              0.0  \n",
       "4                           0.0                    1.0              0.0  \n",
       "\n",
       "[5 rows x 41 columns]"
      ]
     },
     "execution_count": 5,
     "metadata": {},
     "output_type": "execute_result"
    },
    {
     "data": {
      "application/javascript": [
       "\n",
       "            setTimeout(function() {\n",
       "                var nbb_cell_id = 5;\n",
       "                var nbb_unformatted_code = \"crash_data.head()\";\n",
       "                var nbb_formatted_code = \"crash_data.head()\";\n",
       "                var nbb_cells = Jupyter.notebook.get_cells();\n",
       "                for (var i = 0; i < nbb_cells.length; ++i) {\n",
       "                    if (nbb_cells[i].input_prompt_number == nbb_cell_id) {\n",
       "                        if (nbb_cells[i].get_text() == nbb_unformatted_code) {\n",
       "                             nbb_cells[i].set_text(nbb_formatted_code);\n",
       "                        }\n",
       "                        break;\n",
       "                    }\n",
       "                }\n",
       "            }, 500);\n",
       "            "
      ],
      "text/plain": [
       "<IPython.core.display.Javascript object>"
      ]
     },
     "metadata": {},
     "output_type": "display_data"
    }
   ],
   "source": [
    "crash_data.head()"
   ]
  },
  {
   "cell_type": "markdown",
   "metadata": {
    "colab_type": "text",
    "id": "I7kel3hRUvwA"
   },
   "source": [
    "First, create a binary response column by modifying the \"DAMAGE\" column. Consider \"OVER \\$1500\" to be the positive class, and under \\$1500 to be the negative class."
   ]
  },
  {
   "cell_type": "code",
   "execution_count": 6,
   "metadata": {},
   "outputs": [
    {
     "data": {
      "text/plain": [
       "0           OVER $1,500\n",
       "1           OVER $1,500\n",
       "2         $501 - $1,500\n",
       "3         $501 - $1,500\n",
       "4         $501 - $1,500\n",
       "              ...      \n",
       "372580    $501 - $1,500\n",
       "372581      OVER $1,500\n",
       "372582      OVER $1,500\n",
       "372583      OVER $1,500\n",
       "372584      OVER $1,500\n",
       "Name: DAMAGE, Length: 372585, dtype: object"
      ]
     },
     "execution_count": 6,
     "metadata": {},
     "output_type": "execute_result"
    },
    {
     "data": {
      "application/javascript": [
       "\n",
       "            setTimeout(function() {\n",
       "                var nbb_cell_id = 6;\n",
       "                var nbb_unformatted_code = \"crash_data['DAMAGE']\";\n",
       "                var nbb_formatted_code = \"crash_data[\\\"DAMAGE\\\"]\";\n",
       "                var nbb_cells = Jupyter.notebook.get_cells();\n",
       "                for (var i = 0; i < nbb_cells.length; ++i) {\n",
       "                    if (nbb_cells[i].input_prompt_number == nbb_cell_id) {\n",
       "                        if (nbb_cells[i].get_text() == nbb_unformatted_code) {\n",
       "                             nbb_cells[i].set_text(nbb_formatted_code);\n",
       "                        }\n",
       "                        break;\n",
       "                    }\n",
       "                }\n",
       "            }, 500);\n",
       "            "
      ],
      "text/plain": [
       "<IPython.core.display.Javascript object>"
      ]
     },
     "metadata": {},
     "output_type": "display_data"
    }
   ],
   "source": [
    "crash_data[\"DAMAGE\"]"
   ]
  },
  {
   "cell_type": "code",
   "execution_count": 12,
   "metadata": {
    "colab": {},
    "colab_type": "code",
    "id": "lVXRdsWPUvwB"
   },
   "outputs": [
    {
     "data": {
      "text/plain": [
       "1    0.563418\n",
       "0    0.436582\n",
       "Name: big_dmg, dtype: float64"
      ]
     },
     "execution_count": 12,
     "metadata": {},
     "output_type": "execute_result"
    },
    {
     "data": {
      "application/javascript": [
       "\n",
       "            setTimeout(function() {\n",
       "                var nbb_cell_id = 12;\n",
       "                var nbb_unformatted_code = \"# answer goes here\\ncrash_data[\\\"big_dmg\\\"] = crash_data[\\\"DAMAGE\\\"] == \\\"OVER $1,500\\\"\\n\\ncrash_data[\\\"big_dmg\\\"] = crash_data[\\\"big_dmg\\\"].astype(int)\\ncrash_data[\\\"big_dmg\\\"].value_counts(normalize=True)\";\n",
       "                var nbb_formatted_code = \"# answer goes here\\ncrash_data[\\\"big_dmg\\\"] = crash_data[\\\"DAMAGE\\\"] == \\\"OVER $1,500\\\"\\n\\ncrash_data[\\\"big_dmg\\\"] = crash_data[\\\"big_dmg\\\"].astype(int)\\ncrash_data[\\\"big_dmg\\\"].value_counts(normalize=True)\";\n",
       "                var nbb_cells = Jupyter.notebook.get_cells();\n",
       "                for (var i = 0; i < nbb_cells.length; ++i) {\n",
       "                    if (nbb_cells[i].input_prompt_number == nbb_cell_id) {\n",
       "                        if (nbb_cells[i].get_text() == nbb_unformatted_code) {\n",
       "                             nbb_cells[i].set_text(nbb_formatted_code);\n",
       "                        }\n",
       "                        break;\n",
       "                    }\n",
       "                }\n",
       "            }, 500);\n",
       "            "
      ],
      "text/plain": [
       "<IPython.core.display.Javascript object>"
      ]
     },
     "metadata": {},
     "output_type": "display_data"
    }
   ],
   "source": [
    "# answer goes here\n",
    "crash_data[\"big_dmg\"] = crash_data[\"DAMAGE\"] == \"OVER $1,500\"\n",
    "\n",
    "crash_data[\"big_dmg\"] = crash_data[\"big_dmg\"].astype(int)\n",
    "crash_data[\"big_dmg\"].value_counts(normalize=True)"
   ]
  },
  {
   "cell_type": "markdown",
   "metadata": {
    "colab_type": "text",
    "id": "5QQUxRPMrsHl"
   },
   "source": [
    "Using the code from Day 21, Lecture 1 as a starting point, devise an appropriate way to address missing values. You have a lot of freedom here; we will proceed by taking the following steps:\n",
    "\n",
    "- Dropping all columns with more than 5% missing data\n",
    "- Imputing the median for numeric columns with less than 5% missing data (except for STREET_NO; imputing it in this manner would not make any sense)\n",
    "- Dropping rows with missing data for categorical columns that have less than 5% missing data"
   ]
  },
  {
   "cell_type": "code",
   "execution_count": 23,
   "metadata": {
    "colab": {},
    "colab_type": "code",
    "id": "X7DmjvgXrsHl"
   },
   "outputs": [
    {
     "name": "stdout",
     "output_type": "stream",
     "text": [
      "object\n",
      "object\n",
      "object\n",
      "float64\n",
      "float64\n",
      "object\n",
      "float64\n",
      "float64\n",
      "float64\n",
      "float64\n",
      "float64\n",
      "float64\n",
      "float64\n"
     ]
    },
    {
     "data": {
      "text/plain": [
       "REPORT_TYPE                      0.023012\n",
       "MOST_SEVERE_INJURY               0.005795\n",
       "INJURIES_UNKNOWN                 0.005776\n",
       "INJURIES_NO_INDICATION           0.005776\n",
       "INJURIES_REPORTED_NOT_EVIDENT    0.005776\n",
       "INJURIES_NON_INCAPACITATING      0.005776\n",
       "INJURIES_INCAPACITATING          0.005776\n",
       "INJURIES_FATAL                   0.005776\n",
       "INJURIES_TOTAL                   0.005776\n",
       "NUM_UNITS                        0.003755\n",
       "BEAT_OF_OCCURRENCE               0.000011\n",
       "STREET_DIRECTION                 0.000005\n",
       "STREET_NAME                      0.000003\n",
       "LIGHTING_CONDITION               0.000000\n",
       "WEATHER_CONDITION                0.000000\n",
       "DEVICE_CONDITION                 0.000000\n",
       "big_dmg                          0.000000\n",
       "TRAFFIC_CONTROL_DEVICE           0.000000\n",
       "POSTED_SPEED_LIMIT               0.000000\n",
       "CRASH_DATE                       0.000000\n",
       "TRAFFICWAY_TYPE                  0.000000\n",
       "FIRST_CRASH_TYPE                 0.000000\n",
       "DATE_POLICE_NOTIFIED             0.000000\n",
       "ALIGNMENT                        0.000000\n",
       "ROADWAY_SURFACE_COND             0.000000\n",
       "ROAD_DEFECT                      0.000000\n",
       "CRASH_TYPE                       0.000000\n",
       "DAMAGE                           0.000000\n",
       "PRIM_CONTRIBUTORY_CAUSE          0.000000\n",
       "SEC_CONTRIBUTORY_CAUSE           0.000000\n",
       "STREET_NO                        0.000000\n",
       "RD_NO                            0.000000\n",
       "dtype: float64"
      ]
     },
     "execution_count": 23,
     "metadata": {},
     "output_type": "execute_result"
    },
    {
     "data": {
      "application/javascript": [
       "\n",
       "            setTimeout(function() {\n",
       "                var nbb_cell_id = 23;\n",
       "                var nbb_unformatted_code = \"# answer goes here\\nmissingness_df = crash_data.isna().mean().sort_values(ascending=False)\\ncrash_data_filtered = crash_data.copy()\\nfor col in crash_data.columns:\\n    rat = crash_data[col].isna().mean()\\n    if rat > 0.05:\\n        crash_data_filtered = crash_data_filtered.drop(columns=col)\\n    elif rat < 0.05 and rat > 0.0:\\n        print(crash_data[col].dtype)\\ncrash_data_filtered.isna().mean().sort_values(ascending=False)\";\n",
       "                var nbb_formatted_code = \"# answer goes here\\nmissingness_df = crash_data.isna().mean().sort_values(ascending=False)\\ncrash_data_filtered = crash_data.copy()\\nfor col in crash_data.columns:\\n    rat = crash_data[col].isna().mean()\\n    if rat > 0.05:\\n        crash_data_filtered = crash_data_filtered.drop(columns=col)\\n    elif rat < 0.05 and rat > 0.0:\\n        print(crash_data[col].dtype)\\ncrash_data_filtered.isna().mean().sort_values(ascending=False)\";\n",
       "                var nbb_cells = Jupyter.notebook.get_cells();\n",
       "                for (var i = 0; i < nbb_cells.length; ++i) {\n",
       "                    if (nbb_cells[i].input_prompt_number == nbb_cell_id) {\n",
       "                        if (nbb_cells[i].get_text() == nbb_unformatted_code) {\n",
       "                             nbb_cells[i].set_text(nbb_formatted_code);\n",
       "                        }\n",
       "                        break;\n",
       "                    }\n",
       "                }\n",
       "            }, 500);\n",
       "            "
      ],
      "text/plain": [
       "<IPython.core.display.Javascript object>"
      ]
     },
     "metadata": {},
     "output_type": "display_data"
    }
   ],
   "source": [
    "# answer goes here\n",
    "missingness_df = crash_data.isna().mean().sort_values(ascending=False)\n",
    "crash_data_filtered = crash_data.copy()\n",
    "for col in crash_data.columns:\n",
    "    rat = crash_data[col].isna().mean()\n",
    "    if rat > 0.05:\n",
    "        crash_data_filtered = crash_data_filtered.drop(columns=col)\n",
    "    elif rat < 0.05 and rat > 0.0:\n",
    "        print(crash_data[col].dtype)\n",
    "crash_data_filtered.isna().mean().sort_values(ascending=False)"
   ]
  },
  {
   "cell_type": "markdown",
   "metadata": {
    "colab_type": "text",
    "id": "M66r2mytUvwF"
   },
   "source": [
    "Finally, choose a few numeric and categorical features (2-3 of each) to include in the model. (You can definitely include more than this, but too many features, especially categorical ones, will most likely lead to convergence issues). One hot encode the chosen categorical features, being sure to omit one of the categories (which will serve as a \"reference\" level) to avoid perfect multicollinearity.\n",
    "\n",
    "Again, you have a lot of freedom here; we will proceed with the following features, dropping the most commonly occurring category for the two categorical variables (\"CLEAR\" for weather, \"REAR END\" for first crash type):\n",
    "POSTED_SPEED_LIMIT, WEATHER_CONDITION, INJURIES_TOTAL, FIRST_CRASH_TYPE"
   ]
  },
  {
   "cell_type": "code",
   "execution_count": 0,
   "metadata": {
    "colab": {},
    "colab_type": "code",
    "id": "ja_Vaq2CUvwF"
   },
   "outputs": [],
   "source": [
    "# answer goes here\n",
    "\n",
    "\n",
    "\n"
   ]
  },
  {
   "cell_type": "markdown",
   "metadata": {
    "colab_type": "text",
    "id": "zRuNJsTSrsHn"
   },
   "source": [
    "Split the data into train and test, with 80% training and 20% testing. By default, the LR output from statsmodels does not include an intercept terms; add a constant column to the training data so that an intercept term is calculated for the LR model (hint: sm.add_constant() is a useful function to accomplish this)."
   ]
  },
  {
   "cell_type": "code",
   "execution_count": 0,
   "metadata": {
    "colab": {},
    "colab_type": "code",
    "id": "fhpHIZBjrsHn"
   },
   "outputs": [],
   "source": [
    "# answer goes here\n",
    "\n",
    "\n",
    "\n"
   ]
  },
  {
   "cell_type": "markdown",
   "metadata": {
    "colab_type": "text",
    "id": "ggXxmOLTrsHq"
   },
   "source": [
    "Fit the logistic regression model using the statsmodels package and print out the coefficient summary. Which variables (in particular, which categories of our categorical variables) appear to be the most important, and what effect do they have on the probability of a crash resulting in $1500 or more in damages?"
   ]
  },
  {
   "cell_type": "code",
   "execution_count": 0,
   "metadata": {
    "colab": {},
    "colab_type": "code",
    "id": "7pFgRLNErsHq"
   },
   "outputs": [],
   "source": [
    "# answer goes here\n",
    "\n",
    "\n",
    "\n"
   ]
  },
  {
   "cell_type": "markdown",
   "metadata": {
    "colab_type": "text",
    "id": "LyTGuO8KUvwM"
   },
   "source": [
    "As we did on the previous exercise, make predictions on the test set and join them to the corresponding true outcomes, then use the *calibration_curve* function in scikit learn to plot a calibration curve. Is the model well-calibrated?"
   ]
  },
  {
   "cell_type": "code",
   "execution_count": 0,
   "metadata": {
    "colab": {},
    "colab_type": "code",
    "id": "si6gV51qrsHs"
   },
   "outputs": [],
   "source": [
    "# answer goes here\n",
    "\n",
    "\n",
    "\n"
   ]
  }
 ],
 "metadata": {
  "colab": {
   "collapsed_sections": [],
   "name": "Day 24 Lecture 2 Assignment.ipynb",
   "provenance": []
  },
  "kernelspec": {
   "display_name": "Python 3",
   "language": "python",
   "name": "python3"
  },
  "language_info": {
   "codemirror_mode": {
    "name": "ipython",
    "version": 3
   },
   "file_extension": ".py",
   "mimetype": "text/x-python",
   "name": "python",
   "nbconvert_exporter": "python",
   "pygments_lexer": "ipython3",
   "version": "3.7.6"
  }
 },
 "nbformat": 4,
 "nbformat_minor": 1
}
