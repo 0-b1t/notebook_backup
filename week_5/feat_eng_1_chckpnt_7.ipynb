{
 "cells": [
  {
   "cell_type": "code",
   "execution_count": 1,
   "metadata": {},
   "outputs": [
    {
     "data": {
      "application/javascript": [
       "\n",
       "            setTimeout(function() {\n",
       "                var nbb_cell_id = 1;\n",
       "                var nbb_unformatted_code = \"%reload_ext nb_black\";\n",
       "                var nbb_formatted_code = \"%reload_ext nb_black\";\n",
       "                var nbb_cells = Jupyter.notebook.get_cells();\n",
       "                for (var i = 0; i < nbb_cells.length; ++i) {\n",
       "                    if (nbb_cells[i].input_prompt_number == nbb_cell_id) {\n",
       "                        if (nbb_cells[i].get_text() == nbb_unformatted_code) {\n",
       "                             nbb_cells[i].set_text(nbb_formatted_code);\n",
       "                        }\n",
       "                        break;\n",
       "                    }\n",
       "                }\n",
       "            }, 500);\n",
       "            "
      ],
      "text/plain": [
       "<IPython.core.display.Javascript object>"
      ]
     },
     "metadata": {},
     "output_type": "display_data"
    }
   ],
   "source": [
    "%reload_ext nb_black"
   ]
  },
  {
   "cell_type": "code",
   "execution_count": 2,
   "metadata": {},
   "outputs": [
    {
     "data": {
      "application/javascript": [
       "\n",
       "            setTimeout(function() {\n",
       "                var nbb_cell_id = 2;\n",
       "                var nbb_unformatted_code = \"import pandas as pd\\nimport numpy as np\\nfrom sqlalchemy import create_engine\\nimport seaborn as sns\\nimport matplotlib.pyplot as plt\\nimport warnings\\nimport scipy.stats as stats\\nfrom scipy.stats import boxcox\\n\\nwarnings.filterwarnings(\\\"ignore\\\")\";\n",
       "                var nbb_formatted_code = \"import pandas as pd\\nimport numpy as np\\nfrom sqlalchemy import create_engine\\nimport seaborn as sns\\nimport matplotlib.pyplot as plt\\nimport warnings\\nimport scipy.stats as stats\\nfrom scipy.stats import boxcox\\n\\nwarnings.filterwarnings(\\\"ignore\\\")\";\n",
       "                var nbb_cells = Jupyter.notebook.get_cells();\n",
       "                for (var i = 0; i < nbb_cells.length; ++i) {\n",
       "                    if (nbb_cells[i].input_prompt_number == nbb_cell_id) {\n",
       "                        if (nbb_cells[i].get_text() == nbb_unformatted_code) {\n",
       "                             nbb_cells[i].set_text(nbb_formatted_code);\n",
       "                        }\n",
       "                        break;\n",
       "                    }\n",
       "                }\n",
       "            }, 500);\n",
       "            "
      ],
      "text/plain": [
       "<IPython.core.display.Javascript object>"
      ]
     },
     "metadata": {},
     "output_type": "display_data"
    }
   ],
   "source": [
    "import pandas as pd\n",
    "import numpy as np\n",
    "from sqlalchemy import create_engine\n",
    "import seaborn as sns\n",
    "import matplotlib.pyplot as plt\n",
    "import warnings\n",
    "import scipy.stats as stats\n",
    "from scipy.stats import boxcox\n",
    "\n",
    "warnings.filterwarnings(\"ignore\")"
   ]
  },
  {
   "cell_type": "code",
   "execution_count": 3,
   "metadata": {},
   "outputs": [
    {
     "data": {
      "application/javascript": [
       "\n",
       "            setTimeout(function() {\n",
       "                var nbb_cell_id = 3;\n",
       "                var nbb_unformatted_code = \"postgres_user = \\\"dsbc_student\\\"\\npostgres_pw = \\\"7*.8G9QH21\\\"\\npostgres_host = \\\"142.93.121.174\\\"\\npostgres_port = \\\"5432\\\"\\npostgres_db = \\\"studentsperformance\\\"\\n\\nengine = create_engine(\\n    \\\"postgresql://{}:{}@{}:{}/{}\\\".format(\\n        postgres_user, postgres_pw, postgres_host, postgres_port, postgres_db\\n    )\\n)\\n\\ndf = pd.read_sql_query(\\\"select * from {}\\\".format(postgres_db), con=engine)\\n\\n# no need for an open connection,\\n# as we're only doing a single query\\nengine.dispose()\";\n",
       "                var nbb_formatted_code = \"postgres_user = \\\"dsbc_student\\\"\\npostgres_pw = \\\"7*.8G9QH21\\\"\\npostgres_host = \\\"142.93.121.174\\\"\\npostgres_port = \\\"5432\\\"\\npostgres_db = \\\"studentsperformance\\\"\\n\\nengine = create_engine(\\n    \\\"postgresql://{}:{}@{}:{}/{}\\\".format(\\n        postgres_user, postgres_pw, postgres_host, postgres_port, postgres_db\\n    )\\n)\\n\\ndf = pd.read_sql_query(\\\"select * from {}\\\".format(postgres_db), con=engine)\\n\\n# no need for an open connection,\\n# as we're only doing a single query\\nengine.dispose()\";\n",
       "                var nbb_cells = Jupyter.notebook.get_cells();\n",
       "                for (var i = 0; i < nbb_cells.length; ++i) {\n",
       "                    if (nbb_cells[i].input_prompt_number == nbb_cell_id) {\n",
       "                        if (nbb_cells[i].get_text() == nbb_unformatted_code) {\n",
       "                             nbb_cells[i].set_text(nbb_formatted_code);\n",
       "                        }\n",
       "                        break;\n",
       "                    }\n",
       "                }\n",
       "            }, 500);\n",
       "            "
      ],
      "text/plain": [
       "<IPython.core.display.Javascript object>"
      ]
     },
     "metadata": {},
     "output_type": "display_data"
    }
   ],
   "source": [
    "postgres_user = \"dsbc_student\"\n",
    "postgres_pw = \"7*.8G9QH21\"\n",
    "postgres_host = \"142.93.121.174\"\n",
    "postgres_port = \"5432\"\n",
    "postgres_db = \"studentsperformance\"\n",
    "\n",
    "engine = create_engine(\n",
    "    \"postgresql://{}:{}@{}:{}/{}\".format(\n",
    "        postgres_user, postgres_pw, postgres_host, postgres_port, postgres_db\n",
    "    )\n",
    ")\n",
    "\n",
    "df = pd.read_sql_query(\"select * from {}\".format(postgres_db), con=engine)\n",
    "\n",
    "# no need for an open connection,\n",
    "# as we're only doing a single query\n",
    "engine.dispose()"
   ]
  },
  {
   "cell_type": "code",
   "execution_count": 40,
   "metadata": {},
   "outputs": [
    {
     "data": {
      "application/javascript": [
       "\n",
       "            setTimeout(function() {\n",
       "                var nbb_cell_id = 40;\n",
       "                var nbb_unformatted_code = \"score_cols = [\\\"math score\\\", \\\"reading score\\\", \\\"writing score\\\"]\\ncat_cols = [\\\"gender\\\", \\\"race/ethnicity\\\", \\\"parental level of education\\\", 'lunch', 'test preparation course']\";\n",
       "                var nbb_formatted_code = \"score_cols = [\\\"math score\\\", \\\"reading score\\\", \\\"writing score\\\"]\\ncat_cols = [\\n    \\\"gender\\\",\\n    \\\"race/ethnicity\\\",\\n    \\\"parental level of education\\\",\\n    \\\"lunch\\\",\\n    \\\"test preparation course\\\",\\n]\";\n",
       "                var nbb_cells = Jupyter.notebook.get_cells();\n",
       "                for (var i = 0; i < nbb_cells.length; ++i) {\n",
       "                    if (nbb_cells[i].input_prompt_number == nbb_cell_id) {\n",
       "                        if (nbb_cells[i].get_text() == nbb_unformatted_code) {\n",
       "                             nbb_cells[i].set_text(nbb_formatted_code);\n",
       "                        }\n",
       "                        break;\n",
       "                    }\n",
       "                }\n",
       "            }, 500);\n",
       "            "
      ],
      "text/plain": [
       "<IPython.core.display.Javascript object>"
      ]
     },
     "metadata": {},
     "output_type": "display_data"
    }
   ],
   "source": [
    "score_cols = [\"math score\", \"reading score\", \"writing score\"]\n",
    "cat_cols = [\n",
    "    \"gender\",\n",
    "    \"race/ethnicity\",\n",
    "    \"parental level of education\",\n",
    "    \"lunch\",\n",
    "    \"test preparation course\",\n",
    "]"
   ]
  },
  {
   "cell_type": "code",
   "execution_count": 39,
   "metadata": {},
   "outputs": [
    {
     "data": {
      "text/plain": [
       "Index(['gender', 'race/ethnicity', 'parental level of education', 'lunch',\n",
       "       'test preparation course', 'math score', 'reading score',\n",
       "       'writing score', 'exam_score'],\n",
       "      dtype='object')"
      ]
     },
     "execution_count": 39,
     "metadata": {},
     "output_type": "execute_result"
    },
    {
     "data": {
      "application/javascript": [
       "\n",
       "            setTimeout(function() {\n",
       "                var nbb_cell_id = 39;\n",
       "                var nbb_unformatted_code = \"df.columns\";\n",
       "                var nbb_formatted_code = \"df.columns\";\n",
       "                var nbb_cells = Jupyter.notebook.get_cells();\n",
       "                for (var i = 0; i < nbb_cells.length; ++i) {\n",
       "                    if (nbb_cells[i].input_prompt_number == nbb_cell_id) {\n",
       "                        if (nbb_cells[i].get_text() == nbb_unformatted_code) {\n",
       "                             nbb_cells[i].set_text(nbb_formatted_code);\n",
       "                        }\n",
       "                        break;\n",
       "                    }\n",
       "                }\n",
       "            }, 500);\n",
       "            "
      ],
      "text/plain": [
       "<IPython.core.display.Javascript object>"
      ]
     },
     "metadata": {},
     "output_type": "display_data"
    }
   ],
   "source": [
    "df.columns"
   ]
  },
  {
   "cell_type": "code",
   "execution_count": 5,
   "metadata": {
    "scrolled": true
   },
   "outputs": [
    {
     "name": "stdout",
     "output_type": "stream",
     "text": [
      "DescribeResult(nobs=1000, minmax=(0, 100), mean=66.089, variance=229.91899799799796, skewness=-0.278516571914075, kurtosis=0.26759715461497846)\n",
      "DescribeResult(nobs=1000, minmax=(17, 100), mean=69.169, variance=213.16560460460462, skewness=-0.25871569927829347, kurtosis=-0.07391861478331307)\n",
      "DescribeResult(nobs=1000, minmax=(10, 100), mean=68.054, variance=230.907991991992, skewness=-0.28900962452114176, kurtosis=-0.03919203131162252)\n"
     ]
    },
    {
     "data": {
      "application/javascript": [
       "\n",
       "            setTimeout(function() {\n",
       "                var nbb_cell_id = 5;\n",
       "                var nbb_unformatted_code = \"for score in score_cols:\\n    print(stats.describe(df[score]))\";\n",
       "                var nbb_formatted_code = \"for score in score_cols:\\n    print(stats.describe(df[score]))\";\n",
       "                var nbb_cells = Jupyter.notebook.get_cells();\n",
       "                for (var i = 0; i < nbb_cells.length; ++i) {\n",
       "                    if (nbb_cells[i].input_prompt_number == nbb_cell_id) {\n",
       "                        if (nbb_cells[i].get_text() == nbb_unformatted_code) {\n",
       "                             nbb_cells[i].set_text(nbb_formatted_code);\n",
       "                        }\n",
       "                        break;\n",
       "                    }\n",
       "                }\n",
       "            }, 500);\n",
       "            "
      ],
      "text/plain": [
       "<IPython.core.display.Javascript object>"
      ]
     },
     "metadata": {},
     "output_type": "display_data"
    }
   ],
   "source": [
    "for score in score_cols:\n",
    "    print(stats.describe(df[score]))"
   ]
  },
  {
   "cell_type": "code",
   "execution_count": 6,
   "metadata": {
    "scrolled": true
   },
   "outputs": [
    {
     "data": {
      "text/plain": [
       "0"
      ]
     },
     "execution_count": 6,
     "metadata": {},
     "output_type": "execute_result"
    },
    {
     "data": {
      "application/javascript": [
       "\n",
       "            setTimeout(function() {\n",
       "                var nbb_cell_id = 6;\n",
       "                var nbb_unformatted_code = \"df[\\\"math score\\\"].min()\";\n",
       "                var nbb_formatted_code = \"df[\\\"math score\\\"].min()\";\n",
       "                var nbb_cells = Jupyter.notebook.get_cells();\n",
       "                for (var i = 0; i < nbb_cells.length; ++i) {\n",
       "                    if (nbb_cells[i].input_prompt_number == nbb_cell_id) {\n",
       "                        if (nbb_cells[i].get_text() == nbb_unformatted_code) {\n",
       "                             nbb_cells[i].set_text(nbb_formatted_code);\n",
       "                        }\n",
       "                        break;\n",
       "                    }\n",
       "                }\n",
       "            }, 500);\n",
       "            "
      ],
      "text/plain": [
       "<IPython.core.display.Javascript object>"
      ]
     },
     "metadata": {},
     "output_type": "display_data"
    }
   ],
   "source": [
    "df[\"math score\"].min()"
   ]
  },
  {
   "cell_type": "code",
   "execution_count": 7,
   "metadata": {},
   "outputs": [
    {
     "data": {
      "text/plain": [
       "0      72.0\n",
       "1      69.0\n",
       "2      90.0\n",
       "3      47.0\n",
       "4      76.0\n",
       "       ... \n",
       "995    88.0\n",
       "996    62.0\n",
       "997    59.0\n",
       "998    68.0\n",
       "999    77.0\n",
       "Name: math score, Length: 1000, dtype: float64"
      ]
     },
     "execution_count": 7,
     "metadata": {},
     "output_type": "execute_result"
    },
    {
     "data": {
      "application/javascript": [
       "\n",
       "            setTimeout(function() {\n",
       "                var nbb_cell_id = 7;\n",
       "                var nbb_unformatted_code = \"df[\\\"math score\\\"].replace(to_replace=0, value=np.nan)\";\n",
       "                var nbb_formatted_code = \"df[\\\"math score\\\"].replace(to_replace=0, value=np.nan)\";\n",
       "                var nbb_cells = Jupyter.notebook.get_cells();\n",
       "                for (var i = 0; i < nbb_cells.length; ++i) {\n",
       "                    if (nbb_cells[i].input_prompt_number == nbb_cell_id) {\n",
       "                        if (nbb_cells[i].get_text() == nbb_unformatted_code) {\n",
       "                             nbb_cells[i].set_text(nbb_formatted_code);\n",
       "                        }\n",
       "                        break;\n",
       "                    }\n",
       "                }\n",
       "            }, 500);\n",
       "            "
      ],
      "text/plain": [
       "<IPython.core.display.Javascript object>"
      ]
     },
     "metadata": {},
     "output_type": "display_data"
    }
   ],
   "source": [
    "df[\"math score\"].replace(to_replace=0, value=np.nan)"
   ]
  },
  {
   "cell_type": "code",
   "execution_count": 18,
   "metadata": {},
   "outputs": [
    {
     "data": {
      "text/plain": [
       "(array([  1.,   6.,  19.,  49., 127., 224., 226., 193., 104.,  50.]),\n",
       " array([  8. ,  17.2,  26.4,  35.6,  44.8,  54. ,  63.2,  72.4,  81.6,\n",
       "         90.8, 100. ]),\n",
       " <a list of 10 Patch objects>)"
      ]
     },
     "execution_count": 18,
     "metadata": {},
     "output_type": "execute_result"
    },
    {
     "data": {
      "image/png": "[encoded data removed]",
      "text/plain": [
       "<Figure size 432x288 with 1 Axes>"
      ]
     },
     "metadata": {
      "needs_background": "light"
     },
     "output_type": "display_data"
    },
    {
     "data": {
      "application/javascript": [
       "\n",
       "            setTimeout(function() {\n",
       "                var nbb_cell_id = 18;\n",
       "                var nbb_unformatted_code = \"plt.hist(df[\\\"math score\\\"].replace(to_replace=0, value=np.nan))\";\n",
       "                var nbb_formatted_code = \"plt.hist(df[\\\"math score\\\"].replace(to_replace=0, value=np.nan))\";\n",
       "                var nbb_cells = Jupyter.notebook.get_cells();\n",
       "                for (var i = 0; i < nbb_cells.length; ++i) {\n",
       "                    if (nbb_cells[i].input_prompt_number == nbb_cell_id) {\n",
       "                        if (nbb_cells[i].get_text() == nbb_unformatted_code) {\n",
       "                             nbb_cells[i].set_text(nbb_formatted_code);\n",
       "                        }\n",
       "                        break;\n",
       "                    }\n",
       "                }\n",
       "            }, 500);\n",
       "            "
      ],
      "text/plain": [
       "<IPython.core.display.Javascript object>"
      ]
     },
     "metadata": {},
     "output_type": "display_data"
    }
   ],
   "source": [
    "plt.hist(df[\"math score\"].replace(to_replace=0, value=np.nan))"
   ]
  },
  {
   "cell_type": "code",
   "execution_count": 23,
   "metadata": {},
   "outputs": [
    {
     "data": {
      "application/javascript": [
       "\n",
       "            setTimeout(function() {\n",
       "                var nbb_cell_id = 23;\n",
       "                var nbb_unformatted_code = \"math_nas = df[\\\"math score\\\"].replace(to_replace=0, value=np.nan).dropna()\\nmath_boxcox, _ = boxcox(math_nas)\";\n",
       "                var nbb_formatted_code = \"math_nas = df[\\\"math score\\\"].replace(to_replace=0, value=np.nan).dropna()\\nmath_boxcox, _ = boxcox(math_nas)\";\n",
       "                var nbb_cells = Jupyter.notebook.get_cells();\n",
       "                for (var i = 0; i < nbb_cells.length; ++i) {\n",
       "                    if (nbb_cells[i].input_prompt_number == nbb_cell_id) {\n",
       "                        if (nbb_cells[i].get_text() == nbb_unformatted_code) {\n",
       "                             nbb_cells[i].set_text(nbb_formatted_code);\n",
       "                        }\n",
       "                        break;\n",
       "                    }\n",
       "                }\n",
       "            }, 500);\n",
       "            "
      ],
      "text/plain": [
       "<IPython.core.display.Javascript object>"
      ]
     },
     "metadata": {},
     "output_type": "display_data"
    }
   ],
   "source": [
    "math_nas = df[\"math score\"].replace(to_replace=0, value=np.nan).dropna()\n",
    "math_boxcox, _ = boxcox(math_nas)\n",
    "plt.hist(math_boxcox)"
   ]
  },
  {
   "cell_type": "code",
   "execution_count": 26,
   "metadata": {
    "scrolled": true
   },
   "outputs": [
    {
     "data": {
      "text/plain": [
       "(array([  6.,  14.,  50., 122., 181., 160., 218., 136.,  73.,  40.]),\n",
       " array([ 34.46931217,  70.6479704 , 106.82662863, 143.00528686,\n",
       "        179.18394509, 215.36260332, 251.54126154, 287.71991977,\n",
       "        323.898578  , 360.07723623, 396.25589446]),\n",
       " <a list of 10 Patch objects>)"
      ]
     },
     "execution_count": 26,
     "metadata": {},
     "output_type": "execute_result"
    },
    {
     "data": {
      "image/png": "[encoded data removed]",
      "text/plain": [
       "<Figure size 432x288 with 1 Axes>"
      ]
     },
     "metadata": {
      "needs_background": "light"
     },
     "output_type": "display_data"
    },
    {
     "data": {
      "application/javascript": [
       "\n",
       "            setTimeout(function() {\n",
       "                var nbb_cell_id = 26;\n",
       "                var nbb_unformatted_code = \"reading_nas = df[\\\"reading score\\\"].replace(to_replace=0, value=np.nan).dropna()\\nreading_boxcox, _ = boxcox(reading_nas)\\nplt.hist(reading_boxcox)\";\n",
       "                var nbb_formatted_code = \"reading_nas = df[\\\"reading score\\\"].replace(to_replace=0, value=np.nan).dropna()\\nreading_boxcox, _ = boxcox(reading_nas)\\nplt.hist(reading_boxcox)\";\n",
       "                var nbb_cells = Jupyter.notebook.get_cells();\n",
       "                for (var i = 0; i < nbb_cells.length; ++i) {\n",
       "                    if (nbb_cells[i].input_prompt_number == nbb_cell_id) {\n",
       "                        if (nbb_cells[i].get_text() == nbb_unformatted_code) {\n",
       "                             nbb_cells[i].set_text(nbb_formatted_code);\n",
       "                        }\n",
       "                        break;\n",
       "                    }\n",
       "                }\n",
       "            }, 500);\n",
       "            "
      ],
      "text/plain": [
       "<IPython.core.display.Javascript object>"
      ]
     },
     "metadata": {},
     "output_type": "display_data"
    }
   ],
   "source": [
    "reading_nas = df[\"reading score\"].replace(to_replace=0, value=np.nan).dropna()\n",
    "reading_boxcox, _ = boxcox(reading_nas)\n",
    "plt.hist(reading_boxcox)"
   ]
  },
  {
   "cell_type": "code",
   "execution_count": 27,
   "metadata": {},
   "outputs": [
    {
     "data": {
      "text/plain": [
       "(array([  5.,  12.,  53., 108., 171., 195., 202., 133.,  73.,  48.]),\n",
       " array([ 16.56448942,  55.99342115,  95.42235287, 134.8512846 ,\n",
       "        174.28021633, 213.70914806, 253.13807978, 292.56701151,\n",
       "        331.99594324, 371.42487497, 410.8538067 ]),\n",
       " <a list of 10 Patch objects>)"
      ]
     },
     "execution_count": 27,
     "metadata": {},
     "output_type": "execute_result"
    },
    {
     "data": {
      "image/png": "[encoded data removed]",
      "text/plain": [
       "<Figure size 432x288 with 1 Axes>"
      ]
     },
     "metadata": {
      "needs_background": "light"
     },
     "output_type": "display_data"
    },
    {
     "data": {
      "application/javascript": [
       "\n",
       "            setTimeout(function() {\n",
       "                var nbb_cell_id = 27;\n",
       "                var nbb_unformatted_code = \"writing_nas = df[\\\"writing score\\\"].replace(to_replace=0, value=np.nan).dropna()\\nwriting_boxcox, _ = boxcox(writing_nas)\\nplt.hist(writing_boxcox)\";\n",
       "                var nbb_formatted_code = \"writing_nas = df[\\\"writing score\\\"].replace(to_replace=0, value=np.nan).dropna()\\nwriting_boxcox, _ = boxcox(writing_nas)\\nplt.hist(writing_boxcox)\";\n",
       "                var nbb_cells = Jupyter.notebook.get_cells();\n",
       "                for (var i = 0; i < nbb_cells.length; ++i) {\n",
       "                    if (nbb_cells[i].input_prompt_number == nbb_cell_id) {\n",
       "                        if (nbb_cells[i].get_text() == nbb_unformatted_code) {\n",
       "                             nbb_cells[i].set_text(nbb_formatted_code);\n",
       "                        }\n",
       "                        break;\n",
       "                    }\n",
       "                }\n",
       "            }, 500);\n",
       "            "
      ],
      "text/plain": [
       "<IPython.core.display.Javascript object>"
      ]
     },
     "metadata": {},
     "output_type": "display_data"
    }
   ],
   "source": [
    "writing_nas = df[\"writing score\"].replace(to_replace=0, value=np.nan).dropna()\n",
    "writing_boxcox, _ = boxcox(writing_nas)\n",
    "plt.hist(writing_boxcox)"
   ]
  },
  {
   "cell_type": "code",
   "execution_count": 11,
   "metadata": {},
   "outputs": [
    {
     "data": {
      "application/javascript": [
       "\n",
       "            setTimeout(function() {\n",
       "                var nbb_cell_id = 11;\n",
       "                var nbb_unformatted_code = \"boxcox?\";\n",
       "                var nbb_formatted_code = \"boxcox?\";\n",
       "                var nbb_cells = Jupyter.notebook.get_cells();\n",
       "                for (var i = 0; i < nbb_cells.length; ++i) {\n",
       "                    if (nbb_cells[i].input_prompt_number == nbb_cell_id) {\n",
       "                        if (nbb_cells[i].get_text() == nbb_unformatted_code) {\n",
       "                             nbb_cells[i].set_text(nbb_formatted_code);\n",
       "                        }\n",
       "                        break;\n",
       "                    }\n",
       "                }\n",
       "            }, 500);\n",
       "            "
      ],
      "text/plain": [
       "<IPython.core.display.Javascript object>"
      ]
     },
     "metadata": {},
     "output_type": "display_data"
    }
   ],
   "source": [
    "boxcox?"
   ]
  },
  {
   "cell_type": "code",
   "execution_count": 32,
   "metadata": {},
   "outputs": [
    {
     "data": {
      "application/javascript": [
       "\n",
       "            setTimeout(function() {\n",
       "                var nbb_cell_id = 32;\n",
       "                var nbb_unformatted_code = \"\\nfrom scipy.stats import jarque_bera\\nfrom scipy.stats import normaltest\";\n",
       "                var nbb_formatted_code = \"from scipy.stats import jarque_bera\\nfrom scipy.stats import normaltest\";\n",
       "                var nbb_cells = Jupyter.notebook.get_cells();\n",
       "                for (var i = 0; i < nbb_cells.length; ++i) {\n",
       "                    if (nbb_cells[i].input_prompt_number == nbb_cell_id) {\n",
       "                        if (nbb_cells[i].get_text() == nbb_unformatted_code) {\n",
       "                             nbb_cells[i].set_text(nbb_formatted_code);\n",
       "                        }\n",
       "                        break;\n",
       "                    }\n",
       "                }\n",
       "            }, 500);\n",
       "            "
      ],
      "text/plain": [
       "<IPython.core.display.Javascript object>"
      ]
     },
     "metadata": {},
     "output_type": "display_data"
    }
   ],
   "source": [
    "from scipy.stats import jarque_bera\n",
    "from scipy.stats import normaltest"
   ]
  },
  {
   "cell_type": "code",
   "execution_count": 30,
   "metadata": {},
   "outputs": [
    {
     "data": {
      "text/plain": [
       "(array([  1.,   5.,  12.,  40., 124., 178., 262., 210., 122.,  46.]),\n",
       " array([  9. ,  18.1,  27.2,  36.3,  45.4,  54.5,  63.6,  72.7,  81.8,\n",
       "         90.9, 100. ]),\n",
       " <a list of 10 Patch objects>)"
      ]
     },
     "execution_count": 30,
     "metadata": {},
     "output_type": "execute_result"
    },
    {
     "data": {
      "image/png": "[encoded data removed]",
      "text/plain": [
       "<Figure size 432x288 with 1 Axes>"
      ]
     },
     "metadata": {
      "needs_background": "light"
     },
     "output_type": "display_data"
    },
    {
     "data": {
      "application/javascript": [
       "\n",
       "            setTimeout(function() {\n",
       "                var nbb_cell_id = 30;\n",
       "                var nbb_unformatted_code = \"exam_score = (df[\\\"math score\\\"] + df[\\\"reading score\\\"] + df[\\\"writing score\\\"]) / 3\\n\\nplt.hist(exam_score)\";\n",
       "                var nbb_formatted_code = \"exam_score = (df[\\\"math score\\\"] + df[\\\"reading score\\\"] + df[\\\"writing score\\\"]) / 3\\n\\nplt.hist(exam_score)\";\n",
       "                var nbb_cells = Jupyter.notebook.get_cells();\n",
       "                for (var i = 0; i < nbb_cells.length; ++i) {\n",
       "                    if (nbb_cells[i].input_prompt_number == nbb_cell_id) {\n",
       "                        if (nbb_cells[i].get_text() == nbb_unformatted_code) {\n",
       "                             nbb_cells[i].set_text(nbb_formatted_code);\n",
       "                        }\n",
       "                        break;\n",
       "                    }\n",
       "                }\n",
       "            }, 500);\n",
       "            "
      ],
      "text/plain": [
       "<IPython.core.display.Javascript object>"
      ]
     },
     "metadata": {},
     "output_type": "display_data"
    }
   ],
   "source": [
    "exam_score = (df[\"math score\"] + df[\"reading score\"] + df[\"writing score\"]) / 3\n",
    "\n",
    "plt.hist(exam_score)"
   ]
  },
  {
   "cell_type": "code",
   "execution_count": 33,
   "metadata": {},
   "outputs": [
    {
     "name": "stdout",
     "output_type": "stream",
     "text": [
      "Jarque-Bera test statistics is 15.453387913085168 and p value is 0.00044089934264401887\n",
      "Normality test statistics is 15.186721327231322 and p value is 0.0005037851534494478\n"
     ]
    },
    {
     "data": {
      "application/javascript": [
       "\n",
       "            setTimeout(function() {\n",
       "                var nbb_cell_id = 33;\n",
       "                var nbb_unformatted_code = \"jb_stats = jarque_bera(exam_score)\\nnorm_stats = normaltest(exam_score)\\n\\nprint(\\n    \\\"Jarque-Bera test statistics is {0} and p value is {1}\\\".format(\\n        jb_stats[0], jb_stats[1]\\n    )\\n)\\nprint(\\n    \\\"Normality test statistics is {0} and p value is {1}\\\".format(\\n        norm_stats[0], norm_stats[1]\\n    )\\n)\";\n",
       "                var nbb_formatted_code = \"jb_stats = jarque_bera(exam_score)\\nnorm_stats = normaltest(exam_score)\\n\\nprint(\\n    \\\"Jarque-Bera test statistics is {0} and p value is {1}\\\".format(\\n        jb_stats[0], jb_stats[1]\\n    )\\n)\\nprint(\\n    \\\"Normality test statistics is {0} and p value is {1}\\\".format(\\n        norm_stats[0], norm_stats[1]\\n    )\\n)\";\n",
       "                var nbb_cells = Jupyter.notebook.get_cells();\n",
       "                for (var i = 0; i < nbb_cells.length; ++i) {\n",
       "                    if (nbb_cells[i].input_prompt_number == nbb_cell_id) {\n",
       "                        if (nbb_cells[i].get_text() == nbb_unformatted_code) {\n",
       "                             nbb_cells[i].set_text(nbb_formatted_code);\n",
       "                        }\n",
       "                        break;\n",
       "                    }\n",
       "                }\n",
       "            }, 500);\n",
       "            "
      ],
      "text/plain": [
       "<IPython.core.display.Javascript object>"
      ]
     },
     "metadata": {},
     "output_type": "display_data"
    }
   ],
   "source": [
    "jb_stats = jarque_bera(exam_score)\n",
    "norm_stats = normaltest(exam_score)\n",
    "\n",
    "print(\n",
    "    \"Jarque-Bera test statistics is {0} and p value is {1}\".format(\n",
    "        jb_stats[0], jb_stats[1]\n",
    "    )\n",
    ")\n",
    "print(\n",
    "    \"Normality test statistics is {0} and p value is {1}\".format(\n",
    "        norm_stats[0], norm_stats[1]\n",
    "    )\n",
    ")"
   ]
  },
  {
   "cell_type": "code",
   "execution_count": 35,
   "metadata": {},
   "outputs": [
    {
     "data": {
      "text/plain": [
       "(array([  4.,  14.,  36., 123., 167., 222., 204., 128.,  73.,  29.]),\n",
       " array([ 14.97225502,  60.0201109 , 105.06796677, 150.11582265,\n",
       "        195.16367852, 240.2115344 , 285.25939027, 330.30724615,\n",
       "        375.35510202, 420.4029579 , 465.45081377]),\n",
       " <a list of 10 Patch objects>)"
      ]
     },
     "execution_count": 35,
     "metadata": {},
     "output_type": "execute_result"
    },
    {
     "data": {
      "image/png": "[encoded data removed]",
      "text/plain": [
       "<Figure size 432x288 with 1 Axes>"
      ]
     },
     "metadata": {
      "needs_background": "light"
     },
     "output_type": "display_data"
    },
    {
     "data": {
      "application/javascript": [
       "\n",
       "            setTimeout(function() {\n",
       "                var nbb_cell_id = 35;\n",
       "                var nbb_unformatted_code = \"exam_score_boxcox, _ = boxcox(exam_score)\\nplt.hist(exam_score_boxcox)\";\n",
       "                var nbb_formatted_code = \"exam_score_boxcox, _ = boxcox(exam_score)\\nplt.hist(exam_score_boxcox)\";\n",
       "                var nbb_cells = Jupyter.notebook.get_cells();\n",
       "                for (var i = 0; i < nbb_cells.length; ++i) {\n",
       "                    if (nbb_cells[i].input_prompt_number == nbb_cell_id) {\n",
       "                        if (nbb_cells[i].get_text() == nbb_unformatted_code) {\n",
       "                             nbb_cells[i].set_text(nbb_formatted_code);\n",
       "                        }\n",
       "                        break;\n",
       "                    }\n",
       "                }\n",
       "            }, 500);\n",
       "            "
      ],
      "text/plain": [
       "<IPython.core.display.Javascript object>"
      ]
     },
     "metadata": {},
     "output_type": "display_data"
    }
   ],
   "source": [
    "exam_score_boxcox, _ = boxcox(exam_score)\n",
    "plt.hist(exam_score_boxcox)"
   ]
  },
  {
   "cell_type": "code",
   "execution_count": 36,
   "metadata": {
    "scrolled": false
   },
   "outputs": [
    {
     "name": "stdout",
     "output_type": "stream",
     "text": [
      "Jarque-Bera test statistics is 2.4353989331279173 and p value is 0.29591013563984203\n",
      "Normality test statistics is 2.779857602227616 and p value is 0.24909303914726724\n"
     ]
    },
    {
     "data": {
      "application/javascript": [
       "\n",
       "            setTimeout(function() {\n",
       "                var nbb_cell_id = 36;\n",
       "                var nbb_unformatted_code = \"jb_stats = jarque_bera(exam_score_boxcox)\\nnorm_stats = normaltest(exam_score_boxcox)\\n\\nprint(\\n    \\\"Jarque-Bera test statistics is {0} and p value is {1}\\\".format(\\n        jb_stats[0], jb_stats[1]\\n    )\\n)\\nprint(\\n    \\\"Normality test statistics is {0} and p value is {1}\\\".format(\\n        norm_stats[0], norm_stats[1]\\n    )\\n)\";\n",
       "                var nbb_formatted_code = \"jb_stats = jarque_bera(exam_score_boxcox)\\nnorm_stats = normaltest(exam_score_boxcox)\\n\\nprint(\\n    \\\"Jarque-Bera test statistics is {0} and p value is {1}\\\".format(\\n        jb_stats[0], jb_stats[1]\\n    )\\n)\\nprint(\\n    \\\"Normality test statistics is {0} and p value is {1}\\\".format(\\n        norm_stats[0], norm_stats[1]\\n    )\\n)\";\n",
       "                var nbb_cells = Jupyter.notebook.get_cells();\n",
       "                for (var i = 0; i < nbb_cells.length; ++i) {\n",
       "                    if (nbb_cells[i].input_prompt_number == nbb_cell_id) {\n",
       "                        if (nbb_cells[i].get_text() == nbb_unformatted_code) {\n",
       "                             nbb_cells[i].set_text(nbb_formatted_code);\n",
       "                        }\n",
       "                        break;\n",
       "                    }\n",
       "                }\n",
       "            }, 500);\n",
       "            "
      ],
      "text/plain": [
       "<IPython.core.display.Javascript object>"
      ]
     },
     "metadata": {},
     "output_type": "display_data"
    }
   ],
   "source": [
    "jb_stats = jarque_bera(exam_score_boxcox)\n",
    "norm_stats = normaltest(exam_score_boxcox)\n",
    "\n",
    "print(\n",
    "    \"Jarque-Bera test statistics is {0} and p value is {1}\".format(\n",
    "        jb_stats[0], jb_stats[1]\n",
    "    )\n",
    ")\n",
    "print(\n",
    "    \"Normality test statistics is {0} and p value is {1}\".format(\n",
    "        norm_stats[0], norm_stats[1]\n",
    "    )\n",
    ")"
   ]
  },
  {
   "cell_type": "code",
   "execution_count": 41,
   "metadata": {
    "scrolled": true
   },
   "outputs": [
    {
     "name": "stdout",
     "output_type": "stream",
     "text": [
      "        math score  reading score  writing score  exam_score\n",
      "gender                                                      \n",
      "female   63.633205      72.608108      72.467181   69.569498\n",
      "male     68.728216      65.473029      63.311203   65.837483\n",
      "                math score  reading score  writing score  exam_score\n",
      "race/ethnicity                                                      \n",
      "group A          61.629213      64.674157      62.674157   62.992509\n",
      "group B          63.452632      67.352632      65.600000   65.468421\n",
      "group C          64.463950      69.103448      67.827586   67.131661\n",
      "group D          67.362595      70.030534      70.145038   69.179389\n",
      "group E          73.821429      73.028571      71.407143   72.752381\n",
      "                             math score  reading score  writing score  \\\n",
      "parental level of education                                             \n",
      "associate's degree            67.882883      70.927928      69.896396   \n",
      "bachelor's degree             69.389831      73.000000      73.381356   \n",
      "high school                   62.137755      64.704082      62.448980   \n",
      "master's degree               69.745763      75.372881      75.677966   \n",
      "some college                  67.128319      69.460177      68.840708   \n",
      "some high school              63.497207      66.938547      64.888268   \n",
      "\n",
      "                             exam_score  \n",
      "parental level of education              \n",
      "associate's degree            69.569069  \n",
      "bachelor's degree             71.923729  \n",
      "high school                   63.096939  \n",
      "master's degree               73.598870  \n",
      "some college                  68.476401  \n",
      "some high school              65.108007  \n",
      "              math score  reading score  writing score  exam_score\n",
      "lunch                                                             \n",
      "free/reduced   58.921127      64.653521      63.022535   62.199061\n",
      "standard       70.034109      71.654264      70.823256   70.837209\n",
      "                         math score  reading score  writing score  exam_score\n",
      "test preparation course                                                      \n",
      "completed                 69.695531      73.893855      74.418994   72.669460\n",
      "none                      64.077882      66.534268      64.504673   65.038941\n"
     ]
    },
    {
     "data": {
      "application/javascript": [
       "\n",
       "            setTimeout(function() {\n",
       "                var nbb_cell_id = 41;\n",
       "                var nbb_unformatted_code = \"df[\\\"exam_score\\\"] = exam_score\\nfor cat in cat_cols:\\n    print(df.groupby(cat).mean())\";\n",
       "                var nbb_formatted_code = \"df[\\\"exam_score\\\"] = exam_score\\nfor cat in cat_cols:\\n    print(df.groupby(cat).mean())\";\n",
       "                var nbb_cells = Jupyter.notebook.get_cells();\n",
       "                for (var i = 0; i < nbb_cells.length; ++i) {\n",
       "                    if (nbb_cells[i].input_prompt_number == nbb_cell_id) {\n",
       "                        if (nbb_cells[i].get_text() == nbb_unformatted_code) {\n",
       "                             nbb_cells[i].set_text(nbb_formatted_code);\n",
       "                        }\n",
       "                        break;\n",
       "                    }\n",
       "                }\n",
       "            }, 500);\n",
       "            "
      ],
      "text/plain": [
       "<IPython.core.display.Javascript object>"
      ]
     },
     "metadata": {},
     "output_type": "display_data"
    }
   ],
   "source": [
    "df[\"exam_score\"] = exam_score\n",
    "for cat in cat_cols:\n",
    "    print(df.groupby(cat).mean())"
   ]
  },
  {
   "cell_type": "code",
   "execution_count": null,
   "metadata": {},
   "outputs": [],
   "source": [
    "# level of education, lunch type, and test prep course seem to be the largest factors"
   ]
  }
 ],
 "metadata": {
  "kernelspec": {
   "display_name": "Python 3",
   "language": "python",
   "name": "python3"
  },
  "language_info": {
   "codemirror_mode": {
    "name": "ipython",
    "version": 3
   },
   "file_extension": ".py",
   "mimetype": "text/x-python",
   "name": "python",
   "nbconvert_exporter": "python",
   "pygments_lexer": "ipython3",
   "version": "3.7.6"
  }
 },
 "nbformat": 4,
 "nbformat_minor": 4
}
