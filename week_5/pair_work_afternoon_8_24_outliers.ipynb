{
 "cells": [
  {
   "cell_type": "markdown",
   "metadata": {
    "colab_type": "text",
    "id": "R76jIygVnkFi"
   },
   "source": [
    "## Day 21 Lecture 2 Assignment\n",
    "\n",
    "In this assignment, we will apply techniques for identifying and dealing with outliers to a dataset containing information about Uber rides."
   ]
  },
  {
   "cell_type": "code",
   "execution_count": null,
   "metadata": {
    "colab": {},
    "colab_type": "code",
    "id": "QEtvln--nkFj"
   },
   "outputs": [],
   "source": [
    "%matplotlib inline\n",
    "\n",
    "import matplotlib.pyplot as plt\n",
    "import numpy as np\n",
    "import pandas as pd\n",
    "import scipy as stats"
   ]
  },
  {
   "cell_type": "code",
   "execution_count": null,
   "metadata": {
    "colab": {},
    "colab_type": "code",
    "id": "4pEWovz1nkFl"
   },
   "outputs": [],
   "source": [
    "uber_data = pd.read_csv('https://tf-assets-prod.s3.amazonaws.com/tf-curric/data-science/uber_rides.csv')"
   ]
  },
  {
   "cell_type": "code",
   "execution_count": null,
   "metadata": {
    "colab": {
     "base_uri": "https://localhost:8080/",
     "height": 198
    },
    "colab_type": "code",
    "id": "pkrBu-8kRS6s",
    "outputId": "fe9fea6e-813a-4842-8770-b6c2e94533d7"
   },
   "outputs": [
    {
     "data": {
      "text/html": [
       "<div>\n",
       "<style scoped>\n",
       "    .dataframe tbody tr th:only-of-type {\n",
       "        vertical-align: middle;\n",
       "    }\n",
       "\n",
       "    .dataframe tbody tr th {\n",
       "        vertical-align: top;\n",
       "    }\n",
       "\n",
       "    .dataframe thead th {\n",
       "        text-align: right;\n",
       "    }\n",
       "</style>\n",
       "<table border=\"1\" class=\"dataframe\">\n",
       "  <thead>\n",
       "    <tr style=\"text-align: right;\">\n",
       "      <th></th>\n",
       "      <th>trip_uid</th>\n",
       "      <th>trip_time</th>\n",
       "      <th>total_time</th>\n",
       "      <th>wait_time</th>\n",
       "      <th>price_rub</th>\n",
       "      <th>price_usd</th>\n",
       "      <th>distance_kms</th>\n",
       "      <th>temperature_value</th>\n",
       "      <th>feels_like</th>\n",
       "      <th>humidity</th>\n",
       "      <th>wind_speed</th>\n",
       "      <th>cloudness</th>\n",
       "    </tr>\n",
       "  </thead>\n",
       "  <tbody>\n",
       "    <tr>\n",
       "      <th>0</th>\n",
       "      <td>ee89076fd9da9bddf5f096b0ca42f8d5</td>\n",
       "      <td>0:21:33</td>\n",
       "      <td>0:29:00</td>\n",
       "      <td>0:07:27</td>\n",
       "      <td>265</td>\n",
       "      <td>5.17</td>\n",
       "      <td>9.29</td>\n",
       "      <td>12</td>\n",
       "      <td>12</td>\n",
       "      <td>0.69</td>\n",
       "      <td>4.81</td>\n",
       "      <td>0.78</td>\n",
       "    </tr>\n",
       "    <tr>\n",
       "      <th>1</th>\n",
       "      <td>518be51d403944a03c47e8d1f2c87311</td>\n",
       "      <td>0:19:27</td>\n",
       "      <td>0:26:00</td>\n",
       "      <td>0:06:33</td>\n",
       "      <td>255</td>\n",
       "      <td>4.97</td>\n",
       "      <td>9.93</td>\n",
       "      <td>10</td>\n",
       "      <td>10</td>\n",
       "      <td>0.70</td>\n",
       "      <td>6.53</td>\n",
       "      <td>0.66</td>\n",
       "    </tr>\n",
       "    <tr>\n",
       "      <th>2</th>\n",
       "      <td>6e460cc8a12c3c6568d0d4a67ac58393</td>\n",
       "      <td>1:06:53</td>\n",
       "      <td>1:23:00</td>\n",
       "      <td>0:16:07</td>\n",
       "      <td>644</td>\n",
       "      <td>13.01</td>\n",
       "      <td>18.01</td>\n",
       "      <td>14</td>\n",
       "      <td>14</td>\n",
       "      <td>0.61</td>\n",
       "      <td>5.25</td>\n",
       "      <td>0.86</td>\n",
       "    </tr>\n",
       "    <tr>\n",
       "      <th>3</th>\n",
       "      <td>49613a86a04e6c15d72b51d1a2935d81</td>\n",
       "      <td>0:13:37</td>\n",
       "      <td>0:20:00</td>\n",
       "      <td>0:06:23</td>\n",
       "      <td>1287</td>\n",
       "      <td>25.99</td>\n",
       "      <td>5.10</td>\n",
       "      <td>3</td>\n",
       "      <td>3</td>\n",
       "      <td>0.84</td>\n",
       "      <td>0.87</td>\n",
       "      <td>0.56</td>\n",
       "    </tr>\n",
       "    <tr>\n",
       "      <th>4</th>\n",
       "      <td>9896148fdecdb4c5d977a8691510bdb6</td>\n",
       "      <td>0:38:54</td>\n",
       "      <td>0:49:00</td>\n",
       "      <td>0:10:06</td>\n",
       "      <td>665</td>\n",
       "      <td>13.43</td>\n",
       "      <td>21.92</td>\n",
       "      <td>3</td>\n",
       "      <td>1</td>\n",
       "      <td>0.90</td>\n",
       "      <td>1.61</td>\n",
       "      <td>0.31</td>\n",
       "    </tr>\n",
       "  </tbody>\n",
       "</table>\n",
       "</div>"
      ],
      "text/plain": [
       "                           trip_uid trip_time  ... wind_speed cloudness\n",
       "0  ee89076fd9da9bddf5f096b0ca42f8d5   0:21:33  ...       4.81      0.78\n",
       "1  518be51d403944a03c47e8d1f2c87311   0:19:27  ...       6.53      0.66\n",
       "2  6e460cc8a12c3c6568d0d4a67ac58393   1:06:53  ...       5.25      0.86\n",
       "3  49613a86a04e6c15d72b51d1a2935d81   0:13:37  ...       0.87      0.56\n",
       "4  9896148fdecdb4c5d977a8691510bdb6   0:38:54  ...       1.61      0.31\n",
       "\n",
       "[5 rows x 12 columns]"
      ]
     },
     "execution_count": 3,
     "metadata": {
      "tags": []
     },
     "output_type": "execute_result"
    }
   ],
   "source": [
    "uber_data.head()"
   ]
  },
  {
   "cell_type": "markdown",
   "metadata": {
    "colab_type": "text",
    "id": "5NS7puiURS6v"
   },
   "source": [
    "Before we identify outliers in the given columns, we need to address three time columns (trip_time, total_time, and wait_time), which are provided as formatted strings (HH:MM:SS) instead of numeric values. Convert the values in these three columns into their numeric equivalents in minutes - \"2:15\" should be converted to \"2.25\", \"1:22:30\" should be converted to \"82.5\", and so on. You may find it helpful to write a function that does this and use the .apply() function to apply it to all of the necessary columns."
   ]
  },
  {
   "cell_type": "code",
   "execution_count": null,
   "metadata": {
    "colab": {
     "base_uri": "https://localhost:8080/",
     "height": 363
    },
    "colab_type": "code",
    "id": "caYPANrJnkFn",
    "outputId": "b01eb256-053c-4c95-b91b-e5ea5cd54eeb"
   },
   "outputs": [
    {
     "name": "stdout",
     "output_type": "stream",
     "text": [
      "<class 'pandas.core.frame.DataFrame'>\n",
      "RangeIndex: 678 entries, 0 to 677\n",
      "Data columns (total 12 columns):\n",
      " #   Column             Non-Null Count  Dtype  \n",
      "---  ------             --------------  -----  \n",
      " 0   trip_uid           678 non-null    object \n",
      " 1   trip_time          678 non-null    object \n",
      " 2   total_time         678 non-null    object \n",
      " 3   wait_time          678 non-null    object \n",
      " 4   price_rub          678 non-null    object \n",
      " 5   price_usd          678 non-null    float64\n",
      " 6   distance_kms       678 non-null    float64\n",
      " 7   temperature_value  678 non-null    int64  \n",
      " 8   feels_like         678 non-null    int64  \n",
      " 9   humidity           678 non-null    float64\n",
      " 10  wind_speed         678 non-null    float64\n",
      " 11  cloudness          678 non-null    object \n",
      "dtypes: float64(4), int64(2), object(6)\n",
      "memory usage: 63.7+ KB\n"
     ]
    }
   ],
   "source": [
    "# answer goes here\n",
    "uber_data.info()"
   ]
  },
  {
   "cell_type": "code",
   "execution_count": null,
   "metadata": {
    "colab": {
     "base_uri": "https://localhost:8080/",
     "height": 380
    },
    "colab_type": "code",
    "id": "aO9jBcu_mTKx",
    "outputId": "1f6911de-ca7c-4e17-b223-de75f9613d72"
   },
   "outputs": [
    {
     "name": "stderr",
     "output_type": "stream",
     "text": [
      "/usr/local/lib/python3.6/dist-packages/ipykernel_launcher.py:13: SettingWithCopyWarning: \n",
      "A value is trying to be set on a copy of a slice from a DataFrame\n",
      "\n",
      "See the caveats in the documentation: https://pandas.pydata.org/pandas-docs/stable/user_guide/indexing.html#returning-a-view-versus-a-copy\n",
      "  del sys.path[0]\n",
      "/usr/local/lib/python3.6/dist-packages/pandas/core/indexing.py:671: SettingWithCopyWarning: \n",
      "A value is trying to be set on a copy of a slice from a DataFrame\n",
      "\n",
      "See the caveats in the documentation: https://pandas.pydata.org/pandas-docs/stable/user_guide/indexing.html#returning-a-view-versus-a-copy\n",
      "  self._setitem_with_indexer(indexer, value)\n"
     ]
    },
    {
     "data": {
      "text/html": [
       "<div>\n",
       "<style scoped>\n",
       "    .dataframe tbody tr th:only-of-type {\n",
       "        vertical-align: middle;\n",
       "    }\n",
       "\n",
       "    .dataframe tbody tr th {\n",
       "        vertical-align: top;\n",
       "    }\n",
       "\n",
       "    .dataframe thead th {\n",
       "        text-align: right;\n",
       "    }\n",
       "</style>\n",
       "<table border=\"1\" class=\"dataframe\">\n",
       "  <thead>\n",
       "    <tr style=\"text-align: right;\">\n",
       "      <th></th>\n",
       "      <th>trip_uid</th>\n",
       "      <th>trip_time</th>\n",
       "      <th>total_time</th>\n",
       "      <th>wait_time</th>\n",
       "      <th>price_rub</th>\n",
       "      <th>price_usd</th>\n",
       "      <th>distance_kms</th>\n",
       "      <th>temperature_value</th>\n",
       "      <th>feels_like</th>\n",
       "      <th>humidity</th>\n",
       "      <th>wind_speed</th>\n",
       "      <th>cloudness</th>\n",
       "    </tr>\n",
       "  </thead>\n",
       "  <tbody>\n",
       "    <tr>\n",
       "      <th>0</th>\n",
       "      <td>ee89076fd9da9bddf5f096b0ca42f8d5</td>\n",
       "      <td>21.55</td>\n",
       "      <td>29</td>\n",
       "      <td>7.45</td>\n",
       "      <td>265</td>\n",
       "      <td>5.17</td>\n",
       "      <td>9.29</td>\n",
       "      <td>12</td>\n",
       "      <td>12</td>\n",
       "      <td>0.69</td>\n",
       "      <td>4.81</td>\n",
       "      <td>0.78</td>\n",
       "    </tr>\n",
       "    <tr>\n",
       "      <th>1</th>\n",
       "      <td>518be51d403944a03c47e8d1f2c87311</td>\n",
       "      <td>19.45</td>\n",
       "      <td>26</td>\n",
       "      <td>6.55</td>\n",
       "      <td>255</td>\n",
       "      <td>4.97</td>\n",
       "      <td>9.93</td>\n",
       "      <td>10</td>\n",
       "      <td>10</td>\n",
       "      <td>0.70</td>\n",
       "      <td>6.53</td>\n",
       "      <td>0.66</td>\n",
       "    </tr>\n",
       "    <tr>\n",
       "      <th>2</th>\n",
       "      <td>6e460cc8a12c3c6568d0d4a67ac58393</td>\n",
       "      <td>66.88</td>\n",
       "      <td>83</td>\n",
       "      <td>16.12</td>\n",
       "      <td>644</td>\n",
       "      <td>13.01</td>\n",
       "      <td>18.01</td>\n",
       "      <td>14</td>\n",
       "      <td>14</td>\n",
       "      <td>0.61</td>\n",
       "      <td>5.25</td>\n",
       "      <td>0.86</td>\n",
       "    </tr>\n",
       "    <tr>\n",
       "      <th>3</th>\n",
       "      <td>49613a86a04e6c15d72b51d1a2935d81</td>\n",
       "      <td>13.62</td>\n",
       "      <td>20</td>\n",
       "      <td>6.38</td>\n",
       "      <td>1287</td>\n",
       "      <td>25.99</td>\n",
       "      <td>5.10</td>\n",
       "      <td>3</td>\n",
       "      <td>3</td>\n",
       "      <td>0.84</td>\n",
       "      <td>0.87</td>\n",
       "      <td>0.56</td>\n",
       "    </tr>\n",
       "    <tr>\n",
       "      <th>4</th>\n",
       "      <td>9896148fdecdb4c5d977a8691510bdb6</td>\n",
       "      <td>38.9</td>\n",
       "      <td>49</td>\n",
       "      <td>10.1</td>\n",
       "      <td>665</td>\n",
       "      <td>13.43</td>\n",
       "      <td>21.92</td>\n",
       "      <td>3</td>\n",
       "      <td>1</td>\n",
       "      <td>0.90</td>\n",
       "      <td>1.61</td>\n",
       "      <td>0.31</td>\n",
       "    </tr>\n",
       "  </tbody>\n",
       "</table>\n",
       "</div>"
      ],
      "text/plain": [
       "                           trip_uid trip_time  ... wind_speed cloudness\n",
       "0  ee89076fd9da9bddf5f096b0ca42f8d5     21.55  ...       4.81      0.78\n",
       "1  518be51d403944a03c47e8d1f2c87311     19.45  ...       6.53      0.66\n",
       "2  6e460cc8a12c3c6568d0d4a67ac58393     66.88  ...       5.25      0.86\n",
       "3  49613a86a04e6c15d72b51d1a2935d81     13.62  ...       0.87      0.56\n",
       "4  9896148fdecdb4c5d977a8691510bdb6      38.9  ...       1.61      0.31\n",
       "\n",
       "[5 rows x 12 columns]"
      ]
     },
     "execution_count": 5,
     "metadata": {
      "tags": []
     },
     "output_type": "execute_result"
    }
   ],
   "source": [
    "time_col = ['trip_time', 'total_time', 'wait_time']\n",
    "\n",
    "for col in time_col:\n",
    "  uber_data[col] = pd.to_datetime(uber_data[col])\n",
    "\n",
    "  hour = uber_data[col].dt.hour\n",
    "  minute = uber_data[col].dt.minute\n",
    "  second = uber_data[col].dt.second\n",
    "  for i in range(len(uber_data[col])):\n",
    "    new_h = hour[i] * 60.0\n",
    "    new_s = second[i] / 60.0\n",
    "    new_m = minute[i] + new_h + new_s\n",
    "    uber_data[col][i] = round(new_m, 2)\n",
    "\n",
    "uber_data.head()"
   ]
  },
  {
   "cell_type": "markdown",
   "metadata": {
    "colab_type": "text",
    "id": "xA9ellO5nkFn"
   },
   "source": [
    "Plot histograms for each of the column, excluding the trip ID. Which features appear to have outliers? What do you suspect the nature of these outliers is (i.e. do you think these are most likely data errors, or correct values that are simply unusually large or small?)"
   ]
  },
  {
   "cell_type": "code",
   "execution_count": null,
   "metadata": {
    "colab": {
     "base_uri": "https://localhost:8080/",
     "height": 1000
    },
    "colab_type": "code",
    "id": "NiYLMnxGnkFp",
    "outputId": "bea8dd5b-87f8-4b53-a354-eed6feb1ba07"
   },
   "outputs": [
    {
     "data": {
      "image/png": "[encoded data removed]",
      "text/plain": [
       "<Figure size 432x288 with 1 Axes>"
      ]
     },
     "metadata": {
      "needs_background": "light",
      "tags": []
     },
     "output_type": "display_data"
    },
    {
     "data": {
      "image/png": "[encoded data removed]",
      "text/plain": [
       "<Figure size 432x288 with 1 Axes>"
      ]
     },
     "metadata": {
      "needs_background": "light",
      "tags": []
     },
     "output_type": "display_data"
    },
    {
     "data": {
      "image/png": "[encoded data removed]",
      "text/plain": [
       "<Figure size 432x288 with 1 Axes>"
      ]
     },
     "metadata": {
      "needs_background": "light",
      "tags": []
     },
     "output_type": "display_data"
    },
    {
     "data": {
      "image/png": "[encoded data removed]",
      "text/plain": [
       "<Figure size 432x288 with 1 Axes>"
      ]
     },
     "metadata": {
      "needs_background": "light",
      "tags": []
     },
     "output_type": "display_data"
    },
    {
     "data": {
      "image/png": "[encoded data removed]",
      "text/plain": [
       "<Figure size 432x288 with 1 Axes>"
      ]
     },
     "metadata": {
      "needs_background": "light",
      "tags": []
     },
     "output_type": "display_data"
    },
    {
     "data": {
      "image/png": "[encoded data removed]",
      "text/plain": [
       "<Figure size 432x288 with 1 Axes>"
      ]
     },
     "metadata": {
      "needs_background": "light",
      "tags": []
     },
     "output_type": "display_data"
    },
    {
     "data": {
      "image/png": "[encoded data removed]",
      "text/plain": [
       "<Figure size 432x288 with 1 Axes>"
      ]
     },
     "metadata": {
      "needs_background": "light",
      "tags": []
     },
     "output_type": "display_data"
    },
    {
     "data": {
      "image/png": "[encoded data removed]",
      "text/plain": [
       "<Figure size 432x288 with 1 Axes>"
      ]
     },
     "metadata": {
      "needs_background": "light",
      "tags": []
     },
     "output_type": "display_data"
    },
    {
     "data": {
      "image/png": "[encoded data removed]",
      "text/plain": [
       "<Figure size 432x288 with 1 Axes>"
      ]
     },
     "metadata": {
      "needs_background": "light",
      "tags": []
     },
     "output_type": "display_data"
    },
    {
     "data": {
      "image/png": "[encoded data removed]",
      "text/plain": [
       "<Figure size 432x288 with 1 Axes>"
      ]
     },
     "metadata": {
      "needs_background": "light",
      "tags": []
     },
     "output_type": "display_data"
    },
    {
     "data": {
      "image/png": "[encoded data removed]",
      "text/plain": [
       "<Figure size 432x288 with 1 Axes>"
      ]
     },
     "metadata": {
      "needs_background": "light",
      "tags": []
     },
     "output_type": "display_data"
    }
   ],
   "source": [
    "# answer goes here\n",
    "for col in uber_data.columns:\n",
    "  if col == 'trip_uid':\n",
    "    pass\n",
    "  else:\n",
    "    plt.hist(uber_data[col])\n",
    "    plt.title(col)\n",
    "    plt.show()\n",
    "\n",
    "\n"
   ]
  },
  {
   "cell_type": "markdown",
   "metadata": {
    "colab_type": "text",
    "id": "ZkttxvvlnkFq"
   },
   "source": [
    "Using Tukey's IQR method and a threshold value of 1.5, how many trips have trip_time values that are identified as outliers? Print these trips out."
   ]
  },
  {
   "cell_type": "code",
   "execution_count": null,
   "metadata": {
    "colab": {
     "base_uri": "https://localhost:8080/",
     "height": 35
    },
    "colab_type": "code",
    "id": "gC5y9EkFnkFr",
    "outputId": "696584cb-09a0-41ac-a0f8-0b7355fbc7b6"
   },
   "outputs": [
    {
     "data": {
      "text/plain": [
       "21.00375"
      ]
     },
     "execution_count": 7,
     "metadata": {
      "tags": []
     },
     "output_type": "execute_result"
    }
   ],
   "source": [
    "# answer goes here\n",
    "uber_data['trip_time'] = pd.to_numeric(uber_data['trip_time'])\n",
    "\n",
    "desc = uber_data[\"trip_time\"].describe()\n",
    "iqr = desc[\"75%\"] - desc[\"25%\"]\n",
    "1.5 * iqr"
   ]
  },
  {
   "cell_type": "code",
   "execution_count": null,
   "metadata": {
    "colab": {
     "base_uri": "https://localhost:8080/",
     "height": 410
    },
    "colab_type": "code",
    "id": "KtqAT-D45HDZ",
    "outputId": "5903876c-4a42-4e51-c828-85b7bf36ba89"
   },
   "outputs": [
    {
     "data": {
      "text/plain": [
       "{'boxes': [<matplotlib.lines.Line2D at 0x7f3dc98cfb00>],\n",
       " 'caps': [<matplotlib.lines.Line2D at 0x7f3dc95c2198>,\n",
       "  <matplotlib.lines.Line2D at 0x7f3dc95c2668>],\n",
       " 'fliers': [<matplotlib.lines.Line2D at 0x7f3dc95c22b0>],\n",
       " 'means': [],\n",
       " 'medians': [<matplotlib.lines.Line2D at 0x7f3dc95c2048>],\n",
       " 'whiskers': [<matplotlib.lines.Line2D at 0x7f3dc98cfe10>,\n",
       "  <matplotlib.lines.Line2D at 0x7f3dc95c2be0>]}"
      ]
     },
     "execution_count": 8,
     "metadata": {
      "tags": []
     },
     "output_type": "execute_result"
    },
    {
     "data": {
      "image/png": "[encoded data removed]",
      "text/plain": [
       "<Figure size 432x288 with 1 Axes>"
      ]
     },
     "metadata": {
      "needs_background": "light",
      "tags": []
     },
     "output_type": "display_data"
    }
   ],
   "source": [
    "plt.boxplot(uber_data['trip_time'])"
   ]
  },
  {
   "cell_type": "code",
   "execution_count": null,
   "metadata": {
    "colab": {
     "base_uri": "https://localhost:8080/",
     "height": 1000
    },
    "colab_type": "code",
    "id": "Yz7Qcjd735D1",
    "outputId": "5090c427-4ba4-4b74-e0f1-5b1f90a7d384"
   },
   "outputs": [
    {
     "data": {
      "text/html": [
       "<div>\n",
       "<style scoped>\n",
       "    .dataframe tbody tr th:only-of-type {\n",
       "        vertical-align: middle;\n",
       "    }\n",
       "\n",
       "    .dataframe tbody tr th {\n",
       "        vertical-align: top;\n",
       "    }\n",
       "\n",
       "    .dataframe thead th {\n",
       "        text-align: right;\n",
       "    }\n",
       "</style>\n",
       "<table border=\"1\" class=\"dataframe\">\n",
       "  <thead>\n",
       "    <tr style=\"text-align: right;\">\n",
       "      <th></th>\n",
       "      <th>trip_uid</th>\n",
       "      <th>trip_time</th>\n",
       "      <th>total_time</th>\n",
       "      <th>wait_time</th>\n",
       "      <th>price_rub</th>\n",
       "      <th>price_usd</th>\n",
       "      <th>distance_kms</th>\n",
       "      <th>temperature_value</th>\n",
       "      <th>feels_like</th>\n",
       "      <th>humidity</th>\n",
       "      <th>wind_speed</th>\n",
       "      <th>cloudness</th>\n",
       "    </tr>\n",
       "  </thead>\n",
       "  <tbody>\n",
       "    <tr>\n",
       "      <th>2</th>\n",
       "      <td>6e460cc8a12c3c6568d0d4a67ac58393</td>\n",
       "      <td>66.88</td>\n",
       "      <td>83</td>\n",
       "      <td>16.12</td>\n",
       "      <td>644</td>\n",
       "      <td>13.01</td>\n",
       "      <td>18.01</td>\n",
       "      <td>14</td>\n",
       "      <td>14</td>\n",
       "      <td>0.61</td>\n",
       "      <td>5.25</td>\n",
       "      <td>0.86</td>\n",
       "    </tr>\n",
       "    <tr>\n",
       "      <th>13</th>\n",
       "      <td>36695e9088a840d3f7476e86294aa846</td>\n",
       "      <td>50.22</td>\n",
       "      <td>64</td>\n",
       "      <td>13.78</td>\n",
       "      <td>228</td>\n",
       "      <td>4.20</td>\n",
       "      <td>9.41</td>\n",
       "      <td>29</td>\n",
       "      <td>31</td>\n",
       "      <td>0.63</td>\n",
       "      <td>5.11</td>\n",
       "      <td>0.75</td>\n",
       "    </tr>\n",
       "    <tr>\n",
       "      <th>22</th>\n",
       "      <td>945269c9502d99bc6065d9c8166760b1</td>\n",
       "      <td>45.67</td>\n",
       "      <td>54</td>\n",
       "      <td>8.33</td>\n",
       "      <td>573</td>\n",
       "      <td>10.39</td>\n",
       "      <td>29.08</td>\n",
       "      <td>20</td>\n",
       "      <td>20</td>\n",
       "      <td>0.59</td>\n",
       "      <td>1.19</td>\n",
       "      <td>0.58</td>\n",
       "    </tr>\n",
       "    <tr>\n",
       "      <th>28</th>\n",
       "      <td>9622fd4e1819f8656c418ffdfcd359a8</td>\n",
       "      <td>45.00</td>\n",
       "      <td>57</td>\n",
       "      <td>12</td>\n",
       "      <td>489</td>\n",
       "      <td>8.90</td>\n",
       "      <td>17.79</td>\n",
       "      <td>15</td>\n",
       "      <td>15</td>\n",
       "      <td>0.74</td>\n",
       "      <td>4.12</td>\n",
       "      <td>0.75</td>\n",
       "    </tr>\n",
       "    <tr>\n",
       "      <th>29</th>\n",
       "      <td>72801dd197d168a38ebaa88875492d60</td>\n",
       "      <td>68.07</td>\n",
       "      <td>88</td>\n",
       "      <td>19.93</td>\n",
       "      <td>1500</td>\n",
       "      <td>27.29</td>\n",
       "      <td>21.22</td>\n",
       "      <td>16</td>\n",
       "      <td>16</td>\n",
       "      <td>0.66</td>\n",
       "      <td>5.75</td>\n",
       "      <td>0.62</td>\n",
       "    </tr>\n",
       "    <tr>\n",
       "      <th>45</th>\n",
       "      <td>f981dcaa5c7120490cdd38357b78c79c</td>\n",
       "      <td>48.22</td>\n",
       "      <td>57</td>\n",
       "      <td>8.78</td>\n",
       "      <td>1800</td>\n",
       "      <td>33.55</td>\n",
       "      <td>19.14</td>\n",
       "      <td>15</td>\n",
       "      <td>15</td>\n",
       "      <td>0.41</td>\n",
       "      <td>5.95</td>\n",
       "      <td>0.46</td>\n",
       "    </tr>\n",
       "    <tr>\n",
       "      <th>47</th>\n",
       "      <td>e4004a6b46e6e1556f76f63f295a3f37</td>\n",
       "      <td>62.02</td>\n",
       "      <td>77</td>\n",
       "      <td>14.98</td>\n",
       "      <td>593</td>\n",
       "      <td>10.46</td>\n",
       "      <td>15.63</td>\n",
       "      <td>14</td>\n",
       "      <td>14</td>\n",
       "      <td>0.91</td>\n",
       "      <td>4.70</td>\n",
       "      <td>0.79</td>\n",
       "    </tr>\n",
       "    <tr>\n",
       "      <th>49</th>\n",
       "      <td>4d92ff7d2ecbae299bb2c85aeeaca576</td>\n",
       "      <td>42.43</td>\n",
       "      <td>55</td>\n",
       "      <td>12.57</td>\n",
       "      <td>521</td>\n",
       "      <td>9.10</td>\n",
       "      <td>24.91</td>\n",
       "      <td>16</td>\n",
       "      <td>16</td>\n",
       "      <td>0.89</td>\n",
       "      <td>2.42</td>\n",
       "      <td>0.83</td>\n",
       "    </tr>\n",
       "    <tr>\n",
       "      <th>79</th>\n",
       "      <td>51785bfdf539132f5304a7ae1e1a6d9e</td>\n",
       "      <td>53.22</td>\n",
       "      <td>60</td>\n",
       "      <td>6.78</td>\n",
       "      <td>518</td>\n",
       "      <td>7.84</td>\n",
       "      <td>13.78</td>\n",
       "      <td>16</td>\n",
       "      <td>16</td>\n",
       "      <td>0.67</td>\n",
       "      <td>4.67</td>\n",
       "      <td>0.75</td>\n",
       "    </tr>\n",
       "    <tr>\n",
       "      <th>106</th>\n",
       "      <td>176e430aa7aafb4472cb09677d05fc2b</td>\n",
       "      <td>51.05</td>\n",
       "      <td>57</td>\n",
       "      <td>5.95</td>\n",
       "      <td>1000</td>\n",
       "      <td>15.43</td>\n",
       "      <td>36.50</td>\n",
       "      <td>9</td>\n",
       "      <td>6</td>\n",
       "      <td>0.65</td>\n",
       "      <td>4.82</td>\n",
       "      <td>0.31</td>\n",
       "    </tr>\n",
       "    <tr>\n",
       "      <th>108</th>\n",
       "      <td>22f1e9c384f584cf65c51555e5428703</td>\n",
       "      <td>85.32</td>\n",
       "      <td>103</td>\n",
       "      <td>17.68</td>\n",
       "      <td>1000</td>\n",
       "      <td>16.00</td>\n",
       "      <td>46.04</td>\n",
       "      <td>-3</td>\n",
       "      <td>-3</td>\n",
       "      <td>0.97</td>\n",
       "      <td>0.95</td>\n",
       "      <td>0.18</td>\n",
       "    </tr>\n",
       "    <tr>\n",
       "      <th>117</th>\n",
       "      <td>ab98f8918dff094689ae1657dadb6bbd</td>\n",
       "      <td>71.20</td>\n",
       "      <td>81</td>\n",
       "      <td>9.8</td>\n",
       "      <td>669</td>\n",
       "      <td>10.17</td>\n",
       "      <td>17.32</td>\n",
       "      <td>-2</td>\n",
       "      <td>-7</td>\n",
       "      <td>0.75</td>\n",
       "      <td>4.86</td>\n",
       "      <td>0.84</td>\n",
       "    </tr>\n",
       "    <tr>\n",
       "      <th>143</th>\n",
       "      <td>73fd8acb11590ed29e32bc9f587ca037</td>\n",
       "      <td>46.03</td>\n",
       "      <td>51</td>\n",
       "      <td>4.97</td>\n",
       "      <td>1818</td>\n",
       "      <td>26.33</td>\n",
       "      <td>46.74</td>\n",
       "      <td>6</td>\n",
       "      <td>6</td>\n",
       "      <td>0.55</td>\n",
       "      <td>0.27</td>\n",
       "      <td>0.31</td>\n",
       "    </tr>\n",
       "    <tr>\n",
       "      <th>201</th>\n",
       "      <td>5383e6be5bc4f5edc74d2a22a422e30f</td>\n",
       "      <td>47.97</td>\n",
       "      <td>57</td>\n",
       "      <td>9.03</td>\n",
       "      <td>349</td>\n",
       "      <td>5.28</td>\n",
       "      <td>9.54</td>\n",
       "      <td>21</td>\n",
       "      <td>21</td>\n",
       "      <td>0.82</td>\n",
       "      <td>2.64</td>\n",
       "      <td>0.8</td>\n",
       "    </tr>\n",
       "    <tr>\n",
       "      <th>206</th>\n",
       "      <td>0d1291c2e4749fc41f43a38fb2242358</td>\n",
       "      <td>42.53</td>\n",
       "      <td>49</td>\n",
       "      <td>6.47</td>\n",
       "      <td>607</td>\n",
       "      <td>9.38</td>\n",
       "      <td>37.16</td>\n",
       "      <td>22</td>\n",
       "      <td>22</td>\n",
       "      <td>0.49</td>\n",
       "      <td>7.53</td>\n",
       "      <td>0.69</td>\n",
       "    </tr>\n",
       "    <tr>\n",
       "      <th>253</th>\n",
       "      <td>3b47b0f524410e22443ca2a5cb2c7f98</td>\n",
       "      <td>84.80</td>\n",
       "      <td>95</td>\n",
       "      <td>10.2</td>\n",
       "      <td>570</td>\n",
       "      <td>9.00</td>\n",
       "      <td>22.63</td>\n",
       "      <td>0</td>\n",
       "      <td>-2</td>\n",
       "      <td>0.87</td>\n",
       "      <td>1.78</td>\n",
       "      <td>0.88</td>\n",
       "    </tr>\n",
       "    <tr>\n",
       "      <th>267</th>\n",
       "      <td>ac1490d5814756a1dfaac1a8b866c710</td>\n",
       "      <td>47.15</td>\n",
       "      <td>59</td>\n",
       "      <td>11.85</td>\n",
       "      <td>471.62</td>\n",
       "      <td>7.27</td>\n",
       "      <td>13.08</td>\n",
       "      <td>0</td>\n",
       "      <td>-3</td>\n",
       "      <td>0.91</td>\n",
       "      <td>2.11</td>\n",
       "      <td>0.78</td>\n",
       "    </tr>\n",
       "    <tr>\n",
       "      <th>277</th>\n",
       "      <td>7177f2d41364690380434e9e6e89878a</td>\n",
       "      <td>61.28</td>\n",
       "      <td>70</td>\n",
       "      <td>8.72</td>\n",
       "      <td>1468.05</td>\n",
       "      <td>22.65</td>\n",
       "      <td>20.41</td>\n",
       "      <td>-6</td>\n",
       "      <td>-13</td>\n",
       "      <td>0.82</td>\n",
       "      <td>6.08</td>\n",
       "      <td>0.99</td>\n",
       "    </tr>\n",
       "    <tr>\n",
       "      <th>291</th>\n",
       "      <td>a4ce13d42de8a2b630313d60daaaba1c</td>\n",
       "      <td>64.98</td>\n",
       "      <td>72</td>\n",
       "      <td>7.02</td>\n",
       "      <td>574</td>\n",
       "      <td>9.38</td>\n",
       "      <td>9.88</td>\n",
       "      <td>2</td>\n",
       "      <td>-2</td>\n",
       "      <td>0.86</td>\n",
       "      <td>5.50</td>\n",
       "      <td>0.83</td>\n",
       "    </tr>\n",
       "    <tr>\n",
       "      <th>315</th>\n",
       "      <td>91059eb567d44cd9ba1658acccd2d0a7</td>\n",
       "      <td>45.15</td>\n",
       "      <td>51</td>\n",
       "      <td>5.85</td>\n",
       "      <td>455.78</td>\n",
       "      <td>7.65</td>\n",
       "      <td>12.83</td>\n",
       "      <td>-7</td>\n",
       "      <td>-11</td>\n",
       "      <td>0.84</td>\n",
       "      <td>2.49</td>\n",
       "      <td>0.57</td>\n",
       "    </tr>\n",
       "    <tr>\n",
       "      <th>339</th>\n",
       "      <td>19a8e15f6031b271c80b6d1260d61f73</td>\n",
       "      <td>77.77</td>\n",
       "      <td>86</td>\n",
       "      <td>8.23</td>\n",
       "      <td>560</td>\n",
       "      <td>9.93</td>\n",
       "      <td>44.90</td>\n",
       "      <td>13</td>\n",
       "      <td>13</td>\n",
       "      <td>0.62</td>\n",
       "      <td>3.13</td>\n",
       "      <td>0.53</td>\n",
       "    </tr>\n",
       "    <tr>\n",
       "      <th>348</th>\n",
       "      <td>fe22aac5e1324702af8c0abd2321b31f</td>\n",
       "      <td>44.98</td>\n",
       "      <td>55</td>\n",
       "      <td>10.02</td>\n",
       "      <td>422</td>\n",
       "      <td>7.47</td>\n",
       "      <td>18.27</td>\n",
       "      <td>15</td>\n",
       "      <td>15</td>\n",
       "      <td>0.71</td>\n",
       "      <td>1.71</td>\n",
       "      <td>0.64</td>\n",
       "    </tr>\n",
       "    <tr>\n",
       "      <th>367</th>\n",
       "      <td>22ea4a2ac44a23f1de9a217d2ac708ee</td>\n",
       "      <td>47.57</td>\n",
       "      <td>59</td>\n",
       "      <td>11.43</td>\n",
       "      <td>450.18</td>\n",
       "      <td>7.55</td>\n",
       "      <td>11.65</td>\n",
       "      <td>12</td>\n",
       "      <td>12</td>\n",
       "      <td>0.79</td>\n",
       "      <td>2.41</td>\n",
       "      <td>0.99</td>\n",
       "    </tr>\n",
       "    <tr>\n",
       "      <th>371</th>\n",
       "      <td>513add45d257cb83ebe0e90ffddcfc65</td>\n",
       "      <td>42.68</td>\n",
       "      <td>55</td>\n",
       "      <td>12.32</td>\n",
       "      <td>262</td>\n",
       "      <td>4.45</td>\n",
       "      <td>9.48</td>\n",
       "      <td>16</td>\n",
       "      <td>16</td>\n",
       "      <td>0.70</td>\n",
       "      <td>5.53</td>\n",
       "      <td>0.41</td>\n",
       "    </tr>\n",
       "    <tr>\n",
       "      <th>399</th>\n",
       "      <td>05f687d8a69aacf2dc9bcabfb0a177ad</td>\n",
       "      <td>46.18</td>\n",
       "      <td>51</td>\n",
       "      <td>4.82</td>\n",
       "      <td>257</td>\n",
       "      <td>4.29</td>\n",
       "      <td>14.27</td>\n",
       "      <td>16</td>\n",
       "      <td>16</td>\n",
       "      <td>0.66</td>\n",
       "      <td>2.40</td>\n",
       "      <td>0.28</td>\n",
       "    </tr>\n",
       "    <tr>\n",
       "      <th>411</th>\n",
       "      <td>fd3509d4404a17c5516e21dbe7c4bfc3</td>\n",
       "      <td>49.93</td>\n",
       "      <td>62</td>\n",
       "      <td>12.07</td>\n",
       "      <td>1588</td>\n",
       "      <td>26.88</td>\n",
       "      <td>31.64</td>\n",
       "      <td>20</td>\n",
       "      <td>20</td>\n",
       "      <td>0.72</td>\n",
       "      <td>3.92</td>\n",
       "      <td>0.42</td>\n",
       "    </tr>\n",
       "    <tr>\n",
       "      <th>412</th>\n",
       "      <td>dddde940eaa1ad7b83a12a0fc706c585</td>\n",
       "      <td>46.93</td>\n",
       "      <td>55</td>\n",
       "      <td>8.07</td>\n",
       "      <td>792</td>\n",
       "      <td>13.41</td>\n",
       "      <td>28.86</td>\n",
       "      <td>18</td>\n",
       "      <td>18</td>\n",
       "      <td>0.81</td>\n",
       "      <td>2.88</td>\n",
       "      <td>0.38</td>\n",
       "    </tr>\n",
       "    <tr>\n",
       "      <th>413</th>\n",
       "      <td>595bd0750d84067687febb818e597053</td>\n",
       "      <td>57.65</td>\n",
       "      <td>69</td>\n",
       "      <td>11.35</td>\n",
       "      <td>610</td>\n",
       "      <td>10.32</td>\n",
       "      <td>34.01</td>\n",
       "      <td>16</td>\n",
       "      <td>17</td>\n",
       "      <td>0.90</td>\n",
       "      <td>1.10</td>\n",
       "      <td>0.92</td>\n",
       "    </tr>\n",
       "    <tr>\n",
       "      <th>414</th>\n",
       "      <td>cbe35217f19505bf2a7682bd4dd8b169</td>\n",
       "      <td>58.35</td>\n",
       "      <td>66</td>\n",
       "      <td>7.65</td>\n",
       "      <td>632</td>\n",
       "      <td>11.00</td>\n",
       "      <td>38.42</td>\n",
       "      <td>19</td>\n",
       "      <td>19</td>\n",
       "      <td>0.78</td>\n",
       "      <td>7.38</td>\n",
       "      <td>0.78</td>\n",
       "    </tr>\n",
       "    <tr>\n",
       "      <th>426</th>\n",
       "      <td>f30ee7ed03a19a9f53f8ce2d31d4441d</td>\n",
       "      <td>47.32</td>\n",
       "      <td>52</td>\n",
       "      <td>4.68</td>\n",
       "      <td>1189</td>\n",
       "      <td>20.59</td>\n",
       "      <td>11.10</td>\n",
       "      <td>-1</td>\n",
       "      <td>-5</td>\n",
       "      <td>0.74</td>\n",
       "      <td>3.92</td>\n",
       "      <td>0.58</td>\n",
       "    </tr>\n",
       "    <tr>\n",
       "      <th>432</th>\n",
       "      <td>5500f638ccdb98952b870f4475311a2a</td>\n",
       "      <td>50.07</td>\n",
       "      <td>56</td>\n",
       "      <td>5.93</td>\n",
       "      <td>857</td>\n",
       "      <td>14.20</td>\n",
       "      <td>42.71</td>\n",
       "      <td>1</td>\n",
       "      <td>-3</td>\n",
       "      <td>0.92</td>\n",
       "      <td>4.05</td>\n",
       "      <td>0.83</td>\n",
       "    </tr>\n",
       "    <tr>\n",
       "      <th>445</th>\n",
       "      <td>e1b37d3633c82d0825c6f0032c13b00a</td>\n",
       "      <td>45.15</td>\n",
       "      <td>48</td>\n",
       "      <td>2.85</td>\n",
       "      <td>479</td>\n",
       "      <td>8.20</td>\n",
       "      <td>14.55</td>\n",
       "      <td>1</td>\n",
       "      <td>-3</td>\n",
       "      <td>0.90</td>\n",
       "      <td>3.51</td>\n",
       "      <td>0.97</td>\n",
       "    </tr>\n",
       "    <tr>\n",
       "      <th>471</th>\n",
       "      <td>7d014aaf6fad127e7185a7983bc3784d</td>\n",
       "      <td>46.43</td>\n",
       "      <td>51</td>\n",
       "      <td>4.57</td>\n",
       "      <td>339</td>\n",
       "      <td>5.81</td>\n",
       "      <td>14.58</td>\n",
       "      <td>1</td>\n",
       "      <td>-2</td>\n",
       "      <td>0.86</td>\n",
       "      <td>3.77</td>\n",
       "      <td>0.99</td>\n",
       "    </tr>\n",
       "    <tr>\n",
       "      <th>472</th>\n",
       "      <td>a7ff19a74cc8470aa6670149beddc76f</td>\n",
       "      <td>52.83</td>\n",
       "      <td>58</td>\n",
       "      <td>5.17</td>\n",
       "      <td>368</td>\n",
       "      <td>6.30</td>\n",
       "      <td>14.66</td>\n",
       "      <td>1</td>\n",
       "      <td>-3</td>\n",
       "      <td>0.81</td>\n",
       "      <td>4.63</td>\n",
       "      <td>0.9</td>\n",
       "    </tr>\n",
       "    <tr>\n",
       "      <th>473</th>\n",
       "      <td>b3347d97abf9fa827f8dd0d6ae27d59f</td>\n",
       "      <td>56.93</td>\n",
       "      <td>66</td>\n",
       "      <td>9.07</td>\n",
       "      <td>525</td>\n",
       "      <td>8.99</td>\n",
       "      <td>16.63</td>\n",
       "      <td>0</td>\n",
       "      <td>-5</td>\n",
       "      <td>0.88</td>\n",
       "      <td>3.93</td>\n",
       "      <td>0.88</td>\n",
       "    </tr>\n",
       "    <tr>\n",
       "      <th>474</th>\n",
       "      <td>8a5a4b9649b5f98d4cebeba4defff548</td>\n",
       "      <td>62.33</td>\n",
       "      <td>73</td>\n",
       "      <td>10.67</td>\n",
       "      <td>469</td>\n",
       "      <td>8.03</td>\n",
       "      <td>18.20</td>\n",
       "      <td>0</td>\n",
       "      <td>-5</td>\n",
       "      <td>0.88</td>\n",
       "      <td>3.88</td>\n",
       "      <td>0.88</td>\n",
       "    </tr>\n",
       "    <tr>\n",
       "      <th>519</th>\n",
       "      <td>f3d2f80129cf62fe5802eba23fb6ba41</td>\n",
       "      <td>53.12</td>\n",
       "      <td>83</td>\n",
       "      <td>29.88</td>\n",
       "      <td>1370</td>\n",
       "      <td>23.44</td>\n",
       "      <td>30.98</td>\n",
       "      <td>-2</td>\n",
       "      <td>-5</td>\n",
       "      <td>0.98</td>\n",
       "      <td>2.76</td>\n",
       "      <td>1</td>\n",
       "    </tr>\n",
       "    <tr>\n",
       "      <th>520</th>\n",
       "      <td>54113e579fd15fee21935a48e5c1f223</td>\n",
       "      <td>61.02</td>\n",
       "      <td>77</td>\n",
       "      <td>15.98</td>\n",
       "      <td>657.23</td>\n",
       "      <td>11.27</td>\n",
       "      <td>32.51</td>\n",
       "      <td>0</td>\n",
       "      <td>-3</td>\n",
       "      <td>0.95</td>\n",
       "      <td>2.62</td>\n",
       "      <td>0.99</td>\n",
       "    </tr>\n",
       "    <tr>\n",
       "      <th>560</th>\n",
       "      <td>1e2ee8153a167b9f49b623ba084df93f</td>\n",
       "      <td>45.25</td>\n",
       "      <td>51</td>\n",
       "      <td>5.75</td>\n",
       "      <td>390.93</td>\n",
       "      <td>6.91</td>\n",
       "      <td>18.01</td>\n",
       "      <td>-11</td>\n",
       "      <td>-19</td>\n",
       "      <td>0.81</td>\n",
       "      <td>5.49</td>\n",
       "      <td>0.95</td>\n",
       "    </tr>\n",
       "    <tr>\n",
       "      <th>590</th>\n",
       "      <td>7093ffa1a1bd8171ca03aac12eb57ba6</td>\n",
       "      <td>74.10</td>\n",
       "      <td>84</td>\n",
       "      <td>9.9</td>\n",
       "      <td>555.5</td>\n",
       "      <td>9.60</td>\n",
       "      <td>24.51</td>\n",
       "      <td>-6</td>\n",
       "      <td>-10</td>\n",
       "      <td>0.82</td>\n",
       "      <td>3.02</td>\n",
       "      <td>0.53</td>\n",
       "    </tr>\n",
       "    <tr>\n",
       "      <th>591</th>\n",
       "      <td>f13a97c23bbbd1b4b80637bd071e4c86</td>\n",
       "      <td>53.02</td>\n",
       "      <td>61</td>\n",
       "      <td>7.98</td>\n",
       "      <td>479</td>\n",
       "      <td>8.20</td>\n",
       "      <td>13.84</td>\n",
       "      <td>-7</td>\n",
       "      <td>-11</td>\n",
       "      <td>0.85</td>\n",
       "      <td>2.27</td>\n",
       "      <td>0.43</td>\n",
       "    </tr>\n",
       "    <tr>\n",
       "      <th>600</th>\n",
       "      <td>1ada6e66db8ad96c9d069e7e1ddcfd2d</td>\n",
       "      <td>62.53</td>\n",
       "      <td>66</td>\n",
       "      <td>3.47</td>\n",
       "      <td>850</td>\n",
       "      <td>14.71</td>\n",
       "      <td>35.79</td>\n",
       "      <td>-4</td>\n",
       "      <td>-8</td>\n",
       "      <td>0.61</td>\n",
       "      <td>3.40</td>\n",
       "      <td>0.61</td>\n",
       "    </tr>\n",
       "    <tr>\n",
       "      <th>601</th>\n",
       "      <td>2e97a3bdf0528bda50ede3a46964d8b6</td>\n",
       "      <td>67.97</td>\n",
       "      <td>74</td>\n",
       "      <td>6.03</td>\n",
       "      <td>1190</td>\n",
       "      <td>20.59</td>\n",
       "      <td>43.15</td>\n",
       "      <td>-11</td>\n",
       "      <td>-15</td>\n",
       "      <td>0.81</td>\n",
       "      <td>1.93</td>\n",
       "      <td>0.25</td>\n",
       "    </tr>\n",
       "    <tr>\n",
       "      <th>602</th>\n",
       "      <td>95d16ac49c665464f91156f71e9b07e1</td>\n",
       "      <td>45.60</td>\n",
       "      <td>48</td>\n",
       "      <td>2.4</td>\n",
       "      <td>651</td>\n",
       "      <td>11.27</td>\n",
       "      <td>33.97</td>\n",
       "      <td>-1</td>\n",
       "      <td>-6</td>\n",
       "      <td>0.88</td>\n",
       "      <td>4.84</td>\n",
       "      <td>0.67</td>\n",
       "    </tr>\n",
       "    <tr>\n",
       "      <th>646</th>\n",
       "      <td>1380490d2dc0b36d6fecab45039bc5c9</td>\n",
       "      <td>89.78</td>\n",
       "      <td>104</td>\n",
       "      <td>14.22</td>\n",
       "      <td>634.92</td>\n",
       "      <td>11.03</td>\n",
       "      <td>27.21</td>\n",
       "      <td>-7</td>\n",
       "      <td>-14</td>\n",
       "      <td>0.49</td>\n",
       "      <td>5.56</td>\n",
       "      <td>0.26</td>\n",
       "    </tr>\n",
       "    <tr>\n",
       "      <th>647</th>\n",
       "      <td>126ee5afe4faddbb38d36d1573a92641</td>\n",
       "      <td>49.65</td>\n",
       "      <td>63</td>\n",
       "      <td>13.35</td>\n",
       "      <td>750</td>\n",
       "      <td>13.03</td>\n",
       "      <td>19.59</td>\n",
       "      <td>-7</td>\n",
       "      <td>-13</td>\n",
       "      <td>0.49</td>\n",
       "      <td>4.36</td>\n",
       "      <td>0.47</td>\n",
       "    </tr>\n",
       "  </tbody>\n",
       "</table>\n",
       "</div>"
      ],
      "text/plain": [
       "                             trip_uid  trip_time  ... wind_speed cloudness\n",
       "2    6e460cc8a12c3c6568d0d4a67ac58393      66.88  ...       5.25      0.86\n",
       "13   36695e9088a840d3f7476e86294aa846      50.22  ...       5.11      0.75\n",
       "22   945269c9502d99bc6065d9c8166760b1      45.67  ...       1.19      0.58\n",
       "28   9622fd4e1819f8656c418ffdfcd359a8      45.00  ...       4.12      0.75\n",
       "29   72801dd197d168a38ebaa88875492d60      68.07  ...       5.75      0.62\n",
       "45   f981dcaa5c7120490cdd38357b78c79c      48.22  ...       5.95      0.46\n",
       "47   e4004a6b46e6e1556f76f63f295a3f37      62.02  ...       4.70      0.79\n",
       "49   4d92ff7d2ecbae299bb2c85aeeaca576      42.43  ...       2.42      0.83\n",
       "79   51785bfdf539132f5304a7ae1e1a6d9e      53.22  ...       4.67      0.75\n",
       "106  176e430aa7aafb4472cb09677d05fc2b      51.05  ...       4.82      0.31\n",
       "108  22f1e9c384f584cf65c51555e5428703      85.32  ...       0.95      0.18\n",
       "117  ab98f8918dff094689ae1657dadb6bbd      71.20  ...       4.86      0.84\n",
       "143  73fd8acb11590ed29e32bc9f587ca037      46.03  ...       0.27      0.31\n",
       "201  5383e6be5bc4f5edc74d2a22a422e30f      47.97  ...       2.64       0.8\n",
       "206  0d1291c2e4749fc41f43a38fb2242358      42.53  ...       7.53      0.69\n",
       "253  3b47b0f524410e22443ca2a5cb2c7f98      84.80  ...       1.78      0.88\n",
       "267  ac1490d5814756a1dfaac1a8b866c710      47.15  ...       2.11      0.78\n",
       "277  7177f2d41364690380434e9e6e89878a      61.28  ...       6.08      0.99\n",
       "291  a4ce13d42de8a2b630313d60daaaba1c      64.98  ...       5.50      0.83\n",
       "315  91059eb567d44cd9ba1658acccd2d0a7      45.15  ...       2.49      0.57\n",
       "339  19a8e15f6031b271c80b6d1260d61f73      77.77  ...       3.13      0.53\n",
       "348  fe22aac5e1324702af8c0abd2321b31f      44.98  ...       1.71      0.64\n",
       "367  22ea4a2ac44a23f1de9a217d2ac708ee      47.57  ...       2.41      0.99\n",
       "371  513add45d257cb83ebe0e90ffddcfc65      42.68  ...       5.53      0.41\n",
       "399  05f687d8a69aacf2dc9bcabfb0a177ad      46.18  ...       2.40      0.28\n",
       "411  fd3509d4404a17c5516e21dbe7c4bfc3      49.93  ...       3.92      0.42\n",
       "412  dddde940eaa1ad7b83a12a0fc706c585      46.93  ...       2.88      0.38\n",
       "413  595bd0750d84067687febb818e597053      57.65  ...       1.10      0.92\n",
       "414  cbe35217f19505bf2a7682bd4dd8b169      58.35  ...       7.38      0.78\n",
       "426  f30ee7ed03a19a9f53f8ce2d31d4441d      47.32  ...       3.92      0.58\n",
       "432  5500f638ccdb98952b870f4475311a2a      50.07  ...       4.05      0.83\n",
       "445  e1b37d3633c82d0825c6f0032c13b00a      45.15  ...       3.51      0.97\n",
       "471  7d014aaf6fad127e7185a7983bc3784d      46.43  ...       3.77      0.99\n",
       "472  a7ff19a74cc8470aa6670149beddc76f      52.83  ...       4.63       0.9\n",
       "473  b3347d97abf9fa827f8dd0d6ae27d59f      56.93  ...       3.93      0.88\n",
       "474  8a5a4b9649b5f98d4cebeba4defff548      62.33  ...       3.88      0.88\n",
       "519  f3d2f80129cf62fe5802eba23fb6ba41      53.12  ...       2.76         1\n",
       "520  54113e579fd15fee21935a48e5c1f223      61.02  ...       2.62      0.99\n",
       "560  1e2ee8153a167b9f49b623ba084df93f      45.25  ...       5.49      0.95\n",
       "590  7093ffa1a1bd8171ca03aac12eb57ba6      74.10  ...       3.02      0.53\n",
       "591  f13a97c23bbbd1b4b80637bd071e4c86      53.02  ...       2.27      0.43\n",
       "600  1ada6e66db8ad96c9d069e7e1ddcfd2d      62.53  ...       3.40      0.61\n",
       "601  2e97a3bdf0528bda50ede3a46964d8b6      67.97  ...       1.93      0.25\n",
       "602  95d16ac49c665464f91156f71e9b07e1      45.60  ...       4.84      0.67\n",
       "646  1380490d2dc0b36d6fecab45039bc5c9      89.78  ...       5.56      0.26\n",
       "647  126ee5afe4faddbb38d36d1573a92641      49.65  ...       4.36      0.47\n",
       "\n",
       "[46 rows x 12 columns]"
      ]
     },
     "execution_count": 9,
     "metadata": {
      "tags": []
     },
     "output_type": "execute_result"
    }
   ],
   "source": [
    "maximum = uber_data['trip_time'].mean() + (1.5 * iqr)\n",
    "minimum = uber_data['trip_time'].mean() - (1.5 * iqr)\n",
    "\n",
    "uber_data[uber_data['trip_time'] > maximum]"
   ]
  },
  {
   "cell_type": "code",
   "execution_count": null,
   "metadata": {
    "colab": {
     "base_uri": "https://localhost:8080/",
     "height": 78
    },
    "colab_type": "code",
    "id": "DKm5emCq5QFD",
    "outputId": "d598d9d5-141b-4b6a-aaf3-0e006a15604f"
   },
   "outputs": [
    {
     "data": {
      "text/html": [
       "<div>\n",
       "<style scoped>\n",
       "    .dataframe tbody tr th:only-of-type {\n",
       "        vertical-align: middle;\n",
       "    }\n",
       "\n",
       "    .dataframe tbody tr th {\n",
       "        vertical-align: top;\n",
       "    }\n",
       "\n",
       "    .dataframe thead th {\n",
       "        text-align: right;\n",
       "    }\n",
       "</style>\n",
       "<table border=\"1\" class=\"dataframe\">\n",
       "  <thead>\n",
       "    <tr style=\"text-align: right;\">\n",
       "      <th></th>\n",
       "      <th>trip_uid</th>\n",
       "      <th>trip_time</th>\n",
       "      <th>total_time</th>\n",
       "      <th>wait_time</th>\n",
       "      <th>price_rub</th>\n",
       "      <th>price_usd</th>\n",
       "      <th>distance_kms</th>\n",
       "      <th>temperature_value</th>\n",
       "      <th>feels_like</th>\n",
       "      <th>humidity</th>\n",
       "      <th>wind_speed</th>\n",
       "      <th>cloudness</th>\n",
       "    </tr>\n",
       "  </thead>\n",
       "  <tbody>\n",
       "    <tr>\n",
       "      <th>121</th>\n",
       "      <td>6ea41ffb88c316d552d2cf9c81226d96</td>\n",
       "      <td>0.15</td>\n",
       "      <td>13</td>\n",
       "      <td>12.85</td>\n",
       "      <td>1500</td>\n",
       "      <td>21.23</td>\n",
       "      <td>0.01</td>\n",
       "      <td>3</td>\n",
       "      <td>-3</td>\n",
       "      <td>0.79</td>\n",
       "      <td>8.67</td>\n",
       "      <td>0.78</td>\n",
       "    </tr>\n",
       "  </tbody>\n",
       "</table>\n",
       "</div>"
      ],
      "text/plain": [
       "                             trip_uid  trip_time  ... wind_speed cloudness\n",
       "121  6ea41ffb88c316d552d2cf9c81226d96       0.15  ...       8.67      0.78\n",
       "\n",
       "[1 rows x 12 columns]"
      ]
     },
     "execution_count": 10,
     "metadata": {
      "tags": []
     },
     "output_type": "execute_result"
    }
   ],
   "source": [
    "uber_data[uber_data['trip_time'] < minimum]"
   ]
  },
  {
   "cell_type": "markdown",
   "metadata": {
    "colab_type": "text",
    "id": "4_btClOuRS61"
   },
   "source": [
    "There are various ways of handling outliers, including \"clipping\" (also called \"winsorizing\"). Clip the outliers to the appropriate upper/lower threshold calculated as part of Tukey's method. Plot the histogram for trip_time after clipping; how does it look different?"
   ]
  },
  {
   "cell_type": "code",
   "execution_count": null,
   "metadata": {
    "colab": {
     "base_uri": "https://localhost:8080/",
     "height": 465
    },
    "colab_type": "code",
    "id": "DZtd4IFn8WsT",
    "outputId": "3e7580bc-5a30-4a01-f895-360babadf357"
   },
   "outputs": [
    {
     "data": {
      "text/plain": [
       "(array([  9.,  32.,  37.,  82.,  76., 105.,  71.,  50.,  62.,  25.,  34.,\n",
       "         19.,  20.,   9.,   4.,  14.,   6.,   5.,   0.,   3.,   5.,   1.,\n",
       "          3.,   1.,   1.,   1.,   0.,   0.,   2.,   1.]),\n",
       " array([ 0.15      ,  3.13766667,  6.12533333,  9.113     , 12.10066667,\n",
       "        15.08833333, 18.076     , 21.06366667, 24.05133333, 27.039     ,\n",
       "        30.02666667, 33.01433333, 36.002     , 38.98966667, 41.97733333,\n",
       "        44.965     , 47.95266667, 50.94033333, 53.928     , 56.91566667,\n",
       "        59.90333333, 62.891     , 65.87866667, 68.86633333, 71.854     ,\n",
       "        74.84166667, 77.82933333, 80.817     , 83.80466667, 86.79233333,\n",
       "        89.78      ]),\n",
       " <a list of 30 Patch objects>)"
      ]
     },
     "execution_count": 11,
     "metadata": {
      "tags": []
     },
     "output_type": "execute_result"
    },
    {
     "data": {
      "image/png": "[encoded data removed]",
      "text/plain": [
       "<Figure size 432x288 with 1 Axes>"
      ]
     },
     "metadata": {
      "needs_background": "light",
      "tags": []
     },
     "output_type": "display_data"
    }
   ],
   "source": [
    "plt.hist(uber_data['trip_time'], bins=30)"
   ]
  },
  {
   "cell_type": "code",
   "execution_count": null,
   "metadata": {
    "colab": {
     "base_uri": "https://localhost:8080/",
     "height": 108
    },
    "colab_type": "code",
    "id": "siXVYqAfnkFt",
    "outputId": "e8cb45bb-9195-40cf-9d75-d9105f93e305"
   },
   "outputs": [
    {
     "name": "stderr",
     "output_type": "stream",
     "text": [
      "/usr/local/lib/python3.6/dist-packages/pandas/core/indexing.py:671: SettingWithCopyWarning: \n",
      "A value is trying to be set on a copy of a slice from a DataFrame\n",
      "\n",
      "See the caveats in the documentation: https://pandas.pydata.org/pandas-docs/stable/user_guide/indexing.html#returning-a-view-versus-a-copy\n",
      "  self._setitem_with_indexer(indexer, value)\n"
     ]
    }
   ],
   "source": [
    "# answer goes here\n",
    "uber_data['trip_time'].loc[uber_data['trip_time'] > maximum] = maximum\n"
   ]
  },
  {
   "cell_type": "code",
   "execution_count": null,
   "metadata": {
    "colab": {
     "base_uri": "https://localhost:8080/",
     "height": 108
    },
    "colab_type": "code",
    "id": "JPsSpD5K72cf",
    "outputId": "bcd5fa97-fcf0-4d19-82cb-208ee472b3cc"
   },
   "outputs": [
    {
     "name": "stderr",
     "output_type": "stream",
     "text": [
      "/usr/local/lib/python3.6/dist-packages/pandas/core/indexing.py:671: SettingWithCopyWarning: \n",
      "A value is trying to be set on a copy of a slice from a DataFrame\n",
      "\n",
      "See the caveats in the documentation: https://pandas.pydata.org/pandas-docs/stable/user_guide/indexing.html#returning-a-view-versus-a-copy\n",
      "  self._setitem_with_indexer(indexer, value)\n"
     ]
    }
   ],
   "source": [
    "uber_data['trip_time'].loc[uber_data['trip_time'] < minimum] = minimum"
   ]
  },
  {
   "cell_type": "code",
   "execution_count": null,
   "metadata": {
    "colab": {
     "base_uri": "https://localhost:8080/",
     "height": 465
    },
    "colab_type": "code",
    "id": "Z0k5uTesp-Te",
    "outputId": "c1c045b8-2473-4169-99e9-aa71776c9024"
   },
   "outputs": [
    {
     "data": {
      "text/plain": [
       "(array([ 6.,  3.,  9., 19., 13., 20., 29., 45., 33., 29., 46., 53., 45.,\n",
       "        36., 28., 22., 26., 22., 33., 13., 15., 17., 17., 10.,  8., 12.,\n",
       "         6.,  7.,  6., 50.]),\n",
       " array([ 0.20346239,  1.60371239,  3.00396239,  4.40421239,  5.80446239,\n",
       "         7.20471239,  8.60496239, 10.00521239, 11.40546239, 12.80571239,\n",
       "        14.20596239, 15.60621239, 17.00646239, 18.40671239, 19.80696239,\n",
       "        21.20721239, 22.60746239, 24.00771239, 25.40796239, 26.80821239,\n",
       "        28.20846239, 29.60871239, 31.00896239, 32.40921239, 33.80946239,\n",
       "        35.20971239, 36.60996239, 38.01021239, 39.41046239, 40.81071239,\n",
       "        42.21096239]),\n",
       " <a list of 30 Patch objects>)"
      ]
     },
     "execution_count": 14,
     "metadata": {
      "tags": []
     },
     "output_type": "execute_result"
    },
    {
     "data": {
      "image/png": "[encoded data removed]",
      "text/plain": [
       "<Figure size 432x288 with 1 Axes>"
      ]
     },
     "metadata": {
      "needs_background": "light",
      "tags": []
     },
     "output_type": "display_data"
    }
   ],
   "source": [
    "plt.hist(uber_data['trip_time'], bins=30)"
   ]
  }
 ],
 "metadata": {
  "colab": {
   "collapsed_sections": [],
   "name": "Copy of Day 21 Lecture 2 Assignment.ipynb",
   "provenance": []
  },
  "kernelspec": {
   "display_name": "Python 3",
   "language": "python",
   "name": "python3"
  },
  "language_info": {
   "codemirror_mode": {
    "name": "ipython",
    "version": 3
   },
   "file_extension": ".py",
   "mimetype": "text/x-python",
   "name": "python",
   "nbconvert_exporter": "python",
   "pygments_lexer": "ipython3",
   "version": "3.7.6"
  }
 },
 "nbformat": 4,
 "nbformat_minor": 1
}
