{
 "cells": [
  {
   "cell_type": "code",
   "execution_count": 1,
   "metadata": {},
   "outputs": [
    {
     "data": {
      "application/javascript": [
       "\n",
       "            setTimeout(function() {\n",
       "                var nbb_cell_id = 1;\n",
       "                var nbb_unformatted_code = \"%reload_ext nb_black\";\n",
       "                var nbb_formatted_code = \"%reload_ext nb_black\";\n",
       "                var nbb_cells = Jupyter.notebook.get_cells();\n",
       "                for (var i = 0; i < nbb_cells.length; ++i) {\n",
       "                    if (nbb_cells[i].input_prompt_number == nbb_cell_id) {\n",
       "                        if (nbb_cells[i].get_text() == nbb_unformatted_code) {\n",
       "                             nbb_cells[i].set_text(nbb_formatted_code);\n",
       "                        }\n",
       "                        break;\n",
       "                    }\n",
       "                }\n",
       "            }, 500);\n",
       "            "
      ],
      "text/plain": [
       "<IPython.core.display.Javascript object>"
      ]
     },
     "metadata": {},
     "output_type": "display_data"
    }
   ],
   "source": [
    "%reload_ext nb_black"
   ]
  },
  {
   "cell_type": "code",
   "execution_count": 5,
   "metadata": {},
   "outputs": [
    {
     "data": {
      "application/javascript": [
       "\n",
       "            setTimeout(function() {\n",
       "                var nbb_cell_id = 5;\n",
       "                var nbb_unformatted_code = \"import pandas as pd\\nimport numpy as np\\nfrom sqlalchemy import create_engine\\nimport seaborn as sns\\nimport matplotlib.pyplot as plt\\nimport warnings\\nimport scipy.stats as stats\\nfrom scipy.stats import boxcox\\n\\nfrom sklearn.preprocessing import StandardScaler\\nfrom sklearn.feature_selection import (\\n    SelectKBest,\\n    f_classif,\\n    f_regression,\\n    mutual_info_regression,\\n)\\nfrom sklearn.decomposition import PCA\\nfrom sklearn.linear_model import LogisticRegression\\n\\nwarnings.filterwarnings(\\\"ignore\\\")\";\n",
       "                var nbb_formatted_code = \"import pandas as pd\\nimport numpy as np\\nfrom sqlalchemy import create_engine\\nimport seaborn as sns\\nimport matplotlib.pyplot as plt\\nimport warnings\\nimport scipy.stats as stats\\nfrom scipy.stats import boxcox\\n\\nfrom sklearn.preprocessing import StandardScaler\\nfrom sklearn.feature_selection import (\\n    SelectKBest,\\n    f_classif,\\n    f_regression,\\n    mutual_info_regression,\\n)\\nfrom sklearn.decomposition import PCA\\nfrom sklearn.linear_model import LogisticRegression\\n\\nwarnings.filterwarnings(\\\"ignore\\\")\";\n",
       "                var nbb_cells = Jupyter.notebook.get_cells();\n",
       "                for (var i = 0; i < nbb_cells.length; ++i) {\n",
       "                    if (nbb_cells[i].input_prompt_number == nbb_cell_id) {\n",
       "                        if (nbb_cells[i].get_text() == nbb_unformatted_code) {\n",
       "                             nbb_cells[i].set_text(nbb_formatted_code);\n",
       "                        }\n",
       "                        break;\n",
       "                    }\n",
       "                }\n",
       "            }, 500);\n",
       "            "
      ],
      "text/plain": [
       "<IPython.core.display.Javascript object>"
      ]
     },
     "metadata": {},
     "output_type": "display_data"
    }
   ],
   "source": [
    "import pandas as pd\n",
    "import numpy as np\n",
    "from sqlalchemy import create_engine\n",
    "import seaborn as sns\n",
    "import matplotlib.pyplot as plt\n",
    "import warnings\n",
    "import scipy.stats as stats\n",
    "from scipy.stats import boxcox\n",
    "\n",
    "from sklearn.preprocessing import StandardScaler\n",
    "from sklearn.feature_selection import (\n",
    "    SelectKBest,\n",
    "    f_classif,\n",
    "    f_regression,\n",
    "    mutual_info_regression,\n",
    ")\n",
    "from sklearn.decomposition import PCA\n",
    "from sklearn.linear_model import LogisticRegression\n",
    "\n",
    "warnings.filterwarnings(\"ignore\")"
   ]
  },
  {
   "cell_type": "code",
   "execution_count": 55,
   "metadata": {},
   "outputs": [
    {
     "data": {
      "application/javascript": [
       "\n",
       "            setTimeout(function() {\n",
       "                var nbb_cell_id = 55;\n",
       "                var nbb_unformatted_code = \"postgres_user = \\\"dsbc_student\\\"\\npostgres_pw = \\\"7*.8G9QH21\\\"\\npostgres_host = \\\"142.93.121.174\\\"\\npostgres_port = \\\"5432\\\"\\npostgres_db = \\\"useducation\\\"\\n\\nengine = create_engine(\\n    \\\"postgresql://{}:{}@{}:{}/{}\\\".format(\\n        postgres_user, postgres_pw, postgres_host, postgres_port, postgres_db\\n    )\\n)\\n\\ndf = pd.read_sql_query(\\\"select * from {}\\\".format(postgres_db), con=engine)\\n\\n# no need for an open connection,\\n# as we're only doing a single query\\nengine.dispose()\";\n",
       "                var nbb_formatted_code = \"postgres_user = \\\"dsbc_student\\\"\\npostgres_pw = \\\"7*.8G9QH21\\\"\\npostgres_host = \\\"142.93.121.174\\\"\\npostgres_port = \\\"5432\\\"\\npostgres_db = \\\"useducation\\\"\\n\\nengine = create_engine(\\n    \\\"postgresql://{}:{}@{}:{}/{}\\\".format(\\n        postgres_user, postgres_pw, postgres_host, postgres_port, postgres_db\\n    )\\n)\\n\\ndf = pd.read_sql_query(\\\"select * from {}\\\".format(postgres_db), con=engine)\\n\\n# no need for an open connection,\\n# as we're only doing a single query\\nengine.dispose()\";\n",
       "                var nbb_cells = Jupyter.notebook.get_cells();\n",
       "                for (var i = 0; i < nbb_cells.length; ++i) {\n",
       "                    if (nbb_cells[i].input_prompt_number == nbb_cell_id) {\n",
       "                        if (nbb_cells[i].get_text() == nbb_unformatted_code) {\n",
       "                             nbb_cells[i].set_text(nbb_formatted_code);\n",
       "                        }\n",
       "                        break;\n",
       "                    }\n",
       "                }\n",
       "            }, 500);\n",
       "            "
      ],
      "text/plain": [
       "<IPython.core.display.Javascript object>"
      ]
     },
     "metadata": {},
     "output_type": "display_data"
    }
   ],
   "source": [
    "postgres_user = \"dsbc_student\"\n",
    "postgres_pw = \"7*.8G9QH21\"\n",
    "postgres_host = \"142.93.121.174\"\n",
    "postgres_port = \"5432\"\n",
    "postgres_db = \"useducation\"\n",
    "\n",
    "engine = create_engine(\n",
    "    \"postgresql://{}:{}@{}:{}/{}\".format(\n",
    "        postgres_user, postgres_pw, postgres_host, postgres_port, postgres_db\n",
    "    )\n",
    ")\n",
    "\n",
    "df = pd.read_sql_query(\"select * from {}\".format(postgres_db), con=engine)\n",
    "\n",
    "# no need for an open connection,\n",
    "# as we're only doing a single query\n",
    "engine.dispose()"
   ]
  },
  {
   "cell_type": "code",
   "execution_count": 6,
   "metadata": {},
   "outputs": [
    {
     "data": {
      "text/html": [
       "<div>\n",
       "<style scoped>\n",
       "    .dataframe tbody tr th:only-of-type {\n",
       "        vertical-align: middle;\n",
       "    }\n",
       "\n",
       "    .dataframe tbody tr th {\n",
       "        vertical-align: top;\n",
       "    }\n",
       "\n",
       "    .dataframe thead th {\n",
       "        text-align: right;\n",
       "    }\n",
       "</style>\n",
       "<table border=\"1\" class=\"dataframe\">\n",
       "  <thead>\n",
       "    <tr style=\"text-align: right;\">\n",
       "      <th></th>\n",
       "      <th>PRIMARY_KEY</th>\n",
       "      <th>STATE</th>\n",
       "      <th>YEAR</th>\n",
       "      <th>ENROLL</th>\n",
       "      <th>TOTAL_REVENUE</th>\n",
       "      <th>FEDERAL_REVENUE</th>\n",
       "      <th>STATE_REVENUE</th>\n",
       "      <th>LOCAL_REVENUE</th>\n",
       "      <th>TOTAL_EXPENDITURE</th>\n",
       "      <th>INSTRUCTION_EXPENDITURE</th>\n",
       "      <th>...</th>\n",
       "      <th>GRADES_4_G</th>\n",
       "      <th>GRADES_8_G</th>\n",
       "      <th>GRADES_12_G</th>\n",
       "      <th>GRADES_1_8_G</th>\n",
       "      <th>GRADES_9_12_G</th>\n",
       "      <th>GRADES_ALL_G</th>\n",
       "      <th>AVG_MATH_4_SCORE</th>\n",
       "      <th>AVG_MATH_8_SCORE</th>\n",
       "      <th>AVG_READING_4_SCORE</th>\n",
       "      <th>AVG_READING_8_SCORE</th>\n",
       "    </tr>\n",
       "  </thead>\n",
       "  <tbody>\n",
       "    <tr>\n",
       "      <th>0</th>\n",
       "      <td>1992_ALABAMA</td>\n",
       "      <td>ALABAMA</td>\n",
       "      <td>1992</td>\n",
       "      <td>NaN</td>\n",
       "      <td>2678885.0</td>\n",
       "      <td>304177.0</td>\n",
       "      <td>1659028.0</td>\n",
       "      <td>715680.0</td>\n",
       "      <td>2653798.0</td>\n",
       "      <td>1481703.0</td>\n",
       "      <td>...</td>\n",
       "      <td>57948.0</td>\n",
       "      <td>58025.0</td>\n",
       "      <td>41167.0</td>\n",
       "      <td>471564.0</td>\n",
       "      <td>196386.0</td>\n",
       "      <td>676174.0</td>\n",
       "      <td>208.327876</td>\n",
       "      <td>252.187522</td>\n",
       "      <td>207.963517</td>\n",
       "      <td>NaN</td>\n",
       "    </tr>\n",
       "    <tr>\n",
       "      <th>1</th>\n",
       "      <td>1992_ALASKA</td>\n",
       "      <td>ALASKA</td>\n",
       "      <td>1992</td>\n",
       "      <td>NaN</td>\n",
       "      <td>1049591.0</td>\n",
       "      <td>106780.0</td>\n",
       "      <td>720711.0</td>\n",
       "      <td>222100.0</td>\n",
       "      <td>972488.0</td>\n",
       "      <td>498362.0</td>\n",
       "      <td>...</td>\n",
       "      <td>9748.0</td>\n",
       "      <td>8789.0</td>\n",
       "      <td>6714.0</td>\n",
       "      <td>79117.0</td>\n",
       "      <td>30847.0</td>\n",
       "      <td>112335.0</td>\n",
       "      <td>NaN</td>\n",
       "      <td>NaN</td>\n",
       "      <td>NaN</td>\n",
       "      <td>258.859712</td>\n",
       "    </tr>\n",
       "    <tr>\n",
       "      <th>2</th>\n",
       "      <td>1992_ARIZONA</td>\n",
       "      <td>ARIZONA</td>\n",
       "      <td>1992</td>\n",
       "      <td>NaN</td>\n",
       "      <td>3258079.0</td>\n",
       "      <td>297888.0</td>\n",
       "      <td>1369815.0</td>\n",
       "      <td>1590376.0</td>\n",
       "      <td>3401580.0</td>\n",
       "      <td>1435908.0</td>\n",
       "      <td>...</td>\n",
       "      <td>55433.0</td>\n",
       "      <td>49081.0</td>\n",
       "      <td>37410.0</td>\n",
       "      <td>437127.0</td>\n",
       "      <td>175210.0</td>\n",
       "      <td>614881.0</td>\n",
       "      <td>215.253932</td>\n",
       "      <td>265.366278</td>\n",
       "      <td>206.212716</td>\n",
       "      <td>262.169895</td>\n",
       "    </tr>\n",
       "    <tr>\n",
       "      <th>3</th>\n",
       "      <td>1992_ARKANSAS</td>\n",
       "      <td>ARKANSAS</td>\n",
       "      <td>1992</td>\n",
       "      <td>NaN</td>\n",
       "      <td>1711959.0</td>\n",
       "      <td>178571.0</td>\n",
       "      <td>958785.0</td>\n",
       "      <td>574603.0</td>\n",
       "      <td>1743022.0</td>\n",
       "      <td>964323.0</td>\n",
       "      <td>...</td>\n",
       "      <td>34632.0</td>\n",
       "      <td>36011.0</td>\n",
       "      <td>27651.0</td>\n",
       "      <td>281338.0</td>\n",
       "      <td>123113.0</td>\n",
       "      <td>405259.0</td>\n",
       "      <td>210.206028</td>\n",
       "      <td>256.312090</td>\n",
       "      <td>208.634458</td>\n",
       "      <td>264.619665</td>\n",
       "    </tr>\n",
       "    <tr>\n",
       "      <th>4</th>\n",
       "      <td>1992_CALIFORNIA</td>\n",
       "      <td>CALIFORNIA</td>\n",
       "      <td>1992</td>\n",
       "      <td>NaN</td>\n",
       "      <td>26260025.0</td>\n",
       "      <td>2072470.0</td>\n",
       "      <td>16546514.0</td>\n",
       "      <td>7641041.0</td>\n",
       "      <td>27138832.0</td>\n",
       "      <td>14358922.0</td>\n",
       "      <td>...</td>\n",
       "      <td>418418.0</td>\n",
       "      <td>363296.0</td>\n",
       "      <td>270675.0</td>\n",
       "      <td>3286034.0</td>\n",
       "      <td>1372011.0</td>\n",
       "      <td>4717112.0</td>\n",
       "      <td>208.398961</td>\n",
       "      <td>260.892247</td>\n",
       "      <td>196.764414</td>\n",
       "      <td>NaN</td>\n",
       "    </tr>\n",
       "  </tbody>\n",
       "</table>\n",
       "<p>5 rows × 25 columns</p>\n",
       "</div>"
      ],
      "text/plain": [
       "       PRIMARY_KEY       STATE  YEAR  ENROLL  TOTAL_REVENUE  FEDERAL_REVENUE  \\\n",
       "0     1992_ALABAMA     ALABAMA  1992     NaN      2678885.0         304177.0   \n",
       "1      1992_ALASKA      ALASKA  1992     NaN      1049591.0         106780.0   \n",
       "2     1992_ARIZONA     ARIZONA  1992     NaN      3258079.0         297888.0   \n",
       "3    1992_ARKANSAS    ARKANSAS  1992     NaN      1711959.0         178571.0   \n",
       "4  1992_CALIFORNIA  CALIFORNIA  1992     NaN     26260025.0        2072470.0   \n",
       "\n",
       "   STATE_REVENUE  LOCAL_REVENUE  TOTAL_EXPENDITURE  INSTRUCTION_EXPENDITURE  \\\n",
       "0      1659028.0       715680.0          2653798.0                1481703.0   \n",
       "1       720711.0       222100.0           972488.0                 498362.0   \n",
       "2      1369815.0      1590376.0          3401580.0                1435908.0   \n",
       "3       958785.0       574603.0          1743022.0                 964323.0   \n",
       "4     16546514.0      7641041.0         27138832.0               14358922.0   \n",
       "\n",
       "   ...  GRADES_4_G  GRADES_8_G  GRADES_12_G  GRADES_1_8_G  GRADES_9_12_G  \\\n",
       "0  ...     57948.0     58025.0      41167.0      471564.0       196386.0   \n",
       "1  ...      9748.0      8789.0       6714.0       79117.0        30847.0   \n",
       "2  ...     55433.0     49081.0      37410.0      437127.0       175210.0   \n",
       "3  ...     34632.0     36011.0      27651.0      281338.0       123113.0   \n",
       "4  ...    418418.0    363296.0     270675.0     3286034.0      1372011.0   \n",
       "\n",
       "   GRADES_ALL_G  AVG_MATH_4_SCORE  AVG_MATH_8_SCORE  AVG_READING_4_SCORE  \\\n",
       "0      676174.0        208.327876        252.187522           207.963517   \n",
       "1      112335.0               NaN               NaN                  NaN   \n",
       "2      614881.0        215.253932        265.366278           206.212716   \n",
       "3      405259.0        210.206028        256.312090           208.634458   \n",
       "4     4717112.0        208.398961        260.892247           196.764414   \n",
       "\n",
       "   AVG_READING_8_SCORE  \n",
       "0                  NaN  \n",
       "1           258.859712  \n",
       "2           262.169895  \n",
       "3           264.619665  \n",
       "4                  NaN  \n",
       "\n",
       "[5 rows x 25 columns]"
      ]
     },
     "execution_count": 6,
     "metadata": {},
     "output_type": "execute_result"
    },
    {
     "data": {
      "application/javascript": [
       "\n",
       "            setTimeout(function() {\n",
       "                var nbb_cell_id = 6;\n",
       "                var nbb_unformatted_code = \"df.head()\";\n",
       "                var nbb_formatted_code = \"df.head()\";\n",
       "                var nbb_cells = Jupyter.notebook.get_cells();\n",
       "                for (var i = 0; i < nbb_cells.length; ++i) {\n",
       "                    if (nbb_cells[i].input_prompt_number == nbb_cell_id) {\n",
       "                        if (nbb_cells[i].get_text() == nbb_unformatted_code) {\n",
       "                             nbb_cells[i].set_text(nbb_formatted_code);\n",
       "                        }\n",
       "                        break;\n",
       "                    }\n",
       "                }\n",
       "            }, 500);\n",
       "            "
      ],
      "text/plain": [
       "<IPython.core.display.Javascript object>"
      ]
     },
     "metadata": {},
     "output_type": "display_data"
    }
   ],
   "source": [
    "df.head()"
   ]
  },
  {
   "cell_type": "code",
   "execution_count": 7,
   "metadata": {
    "scrolled": true
   },
   "outputs": [
    {
     "name": "stdout",
     "output_type": "stream",
     "text": [
      "<class 'pandas.core.frame.DataFrame'>\n",
      "RangeIndex: 1492 entries, 0 to 1491\n",
      "Data columns (total 25 columns):\n",
      " #   Column                        Non-Null Count  Dtype  \n",
      "---  ------                        --------------  -----  \n",
      " 0   PRIMARY_KEY                   1492 non-null   object \n",
      " 1   STATE                         1492 non-null   object \n",
      " 2   YEAR                          1492 non-null   int64  \n",
      " 3   ENROLL                        1229 non-null   float64\n",
      " 4   TOTAL_REVENUE                 1280 non-null   float64\n",
      " 5   FEDERAL_REVENUE               1280 non-null   float64\n",
      " 6   STATE_REVENUE                 1280 non-null   float64\n",
      " 7   LOCAL_REVENUE                 1280 non-null   float64\n",
      " 8   TOTAL_EXPENDITURE             1280 non-null   float64\n",
      " 9   INSTRUCTION_EXPENDITURE       1280 non-null   float64\n",
      " 10  SUPPORT_SERVICES_EXPENDITURE  1280 non-null   float64\n",
      " 11  OTHER_EXPENDITURE             1229 non-null   float64\n",
      " 12  CAPITAL_OUTLAY_EXPENDITURE    1280 non-null   float64\n",
      " 13  GRADES_PK_G                   1319 non-null   float64\n",
      " 14  GRADES_KG_G                   1360 non-null   float64\n",
      " 15  GRADES_4_G                    1361 non-null   float64\n",
      " 16  GRADES_8_G                    1361 non-null   float64\n",
      " 17  GRADES_12_G                   1361 non-null   float64\n",
      " 18  GRADES_1_8_G                  1361 non-null   float64\n",
      " 19  GRADES_9_12_G                 1361 non-null   float64\n",
      " 20  GRADES_ALL_G                  1319 non-null   float64\n",
      " 21  AVG_MATH_4_SCORE              536 non-null    float64\n",
      " 22  AVG_MATH_8_SCORE              532 non-null    float64\n",
      " 23  AVG_READING_4_SCORE           533 non-null    float64\n",
      " 24  AVG_READING_8_SCORE           498 non-null    float64\n",
      "dtypes: float64(22), int64(1), object(2)\n",
      "memory usage: 291.5+ KB\n"
     ]
    },
    {
     "data": {
      "application/javascript": [
       "\n",
       "            setTimeout(function() {\n",
       "                var nbb_cell_id = 7;\n",
       "                var nbb_unformatted_code = \"df.info()\";\n",
       "                var nbb_formatted_code = \"df.info()\";\n",
       "                var nbb_cells = Jupyter.notebook.get_cells();\n",
       "                for (var i = 0; i < nbb_cells.length; ++i) {\n",
       "                    if (nbb_cells[i].input_prompt_number == nbb_cell_id) {\n",
       "                        if (nbb_cells[i].get_text() == nbb_unformatted_code) {\n",
       "                             nbb_cells[i].set_text(nbb_formatted_code);\n",
       "                        }\n",
       "                        break;\n",
       "                    }\n",
       "                }\n",
       "            }, 500);\n",
       "            "
      ],
      "text/plain": [
       "<IPython.core.display.Javascript object>"
      ]
     },
     "metadata": {},
     "output_type": "display_data"
    }
   ],
   "source": [
    "df.info()"
   ]
  },
  {
   "cell_type": "code",
   "execution_count": 8,
   "metadata": {},
   "outputs": [
    {
     "data": {
      "application/javascript": [
       "\n",
       "            setTimeout(function() {\n",
       "                var nbb_cell_id = 8;\n",
       "                var nbb_unformatted_code = \"df['ratio_8_to_4'] = df['GRADES_8_G']/df['GRADES_4_G']\";\n",
       "                var nbb_formatted_code = \"df[\\\"ratio_8_to_4\\\"] = df[\\\"GRADES_8_G\\\"] / df[\\\"GRADES_4_G\\\"]\";\n",
       "                var nbb_cells = Jupyter.notebook.get_cells();\n",
       "                for (var i = 0; i < nbb_cells.length; ++i) {\n",
       "                    if (nbb_cells[i].input_prompt_number == nbb_cell_id) {\n",
       "                        if (nbb_cells[i].get_text() == nbb_unformatted_code) {\n",
       "                             nbb_cells[i].set_text(nbb_formatted_code);\n",
       "                        }\n",
       "                        break;\n",
       "                    }\n",
       "                }\n",
       "            }, 500);\n",
       "            "
      ],
      "text/plain": [
       "<IPython.core.display.Javascript object>"
      ]
     },
     "metadata": {},
     "output_type": "display_data"
    }
   ],
   "source": [
    "df[\"ratio_8_to_4\"] = df[\"GRADES_8_G\"] / df[\"GRADES_4_G\"]"
   ]
  },
  {
   "cell_type": "code",
   "execution_count": 10,
   "metadata": {},
   "outputs": [
    {
     "data": {
      "application/javascript": [
       "\n",
       "            setTimeout(function() {\n",
       "                var nbb_cell_id = 10;\n",
       "                var nbb_unformatted_code = \"df[\\\"avg_overall\\\"] = (\\n    (((df[\\\"AVG_MATH_8_SCORE\\\"] + df[\\\"AVG_MATH_8_SCORE\\\"]) / 2) * df[\\\"ratio_8_to_4\\\"])\\n    + ((df[\\\"AVG_MATH_4_SCORE\\\"] + df[\\\"AVG_MATH_4_SCORE\\\"]) / 2)\\n) / 2\";\n",
       "                var nbb_formatted_code = \"df[\\\"avg_overall\\\"] = (\\n    (((df[\\\"AVG_MATH_8_SCORE\\\"] + df[\\\"AVG_MATH_8_SCORE\\\"]) / 2) * df[\\\"ratio_8_to_4\\\"])\\n    + ((df[\\\"AVG_MATH_4_SCORE\\\"] + df[\\\"AVG_MATH_4_SCORE\\\"]) / 2)\\n) / 2\";\n",
       "                var nbb_cells = Jupyter.notebook.get_cells();\n",
       "                for (var i = 0; i < nbb_cells.length; ++i) {\n",
       "                    if (nbb_cells[i].input_prompt_number == nbb_cell_id) {\n",
       "                        if (nbb_cells[i].get_text() == nbb_unformatted_code) {\n",
       "                             nbb_cells[i].set_text(nbb_formatted_code);\n",
       "                        }\n",
       "                        break;\n",
       "                    }\n",
       "                }\n",
       "            }, 500);\n",
       "            "
      ],
      "text/plain": [
       "<IPython.core.display.Javascript object>"
      ]
     },
     "metadata": {},
     "output_type": "display_data"
    }
   ],
   "source": [
    "df[\"avg_overall\"] = (\n",
    "    (((df[\"AVG_MATH_8_SCORE\"] + df[\"AVG_MATH_8_SCORE\"]) / 2) * df[\"ratio_8_to_4\"])\n",
    "    + ((df[\"AVG_MATH_4_SCORE\"] + df[\"AVG_MATH_4_SCORE\"]) / 2)\n",
    ") / 2"
   ]
  },
  {
   "cell_type": "code",
   "execution_count": 11,
   "metadata": {},
   "outputs": [
    {
     "data": {
      "text/plain": [
       "0       230.425250\n",
       "1              NaN\n",
       "2       225.106106\n",
       "3       238.362062\n",
       "4       217.460752\n",
       "           ...    \n",
       "1487           NaN\n",
       "1488           NaN\n",
       "1489           NaN\n",
       "1490           NaN\n",
       "1491           NaN\n",
       "Name: avg_overall, Length: 1492, dtype: float64"
      ]
     },
     "execution_count": 11,
     "metadata": {},
     "output_type": "execute_result"
    },
    {
     "data": {
      "application/javascript": [
       "\n",
       "            setTimeout(function() {\n",
       "                var nbb_cell_id = 11;\n",
       "                var nbb_unformatted_code = \"df[\\\"avg_overall\\\"]\";\n",
       "                var nbb_formatted_code = \"df[\\\"avg_overall\\\"]\";\n",
       "                var nbb_cells = Jupyter.notebook.get_cells();\n",
       "                for (var i = 0; i < nbb_cells.length; ++i) {\n",
       "                    if (nbb_cells[i].input_prompt_number == nbb_cell_id) {\n",
       "                        if (nbb_cells[i].get_text() == nbb_unformatted_code) {\n",
       "                             nbb_cells[i].set_text(nbb_formatted_code);\n",
       "                        }\n",
       "                        break;\n",
       "                    }\n",
       "                }\n",
       "            }, 500);\n",
       "            "
      ],
      "text/plain": [
       "<IPython.core.display.Javascript object>"
      ]
     },
     "metadata": {},
     "output_type": "display_data"
    }
   ],
   "source": [
    "df[\"avg_overall\"]"
   ]
  },
  {
   "cell_type": "code",
   "execution_count": 26,
   "metadata": {
    "scrolled": true
   },
   "outputs": [
    {
     "data": {
      "text/html": [
       "<div>\n",
       "<style scoped>\n",
       "    .dataframe tbody tr th:only-of-type {\n",
       "        vertical-align: middle;\n",
       "    }\n",
       "\n",
       "    .dataframe tbody tr th {\n",
       "        vertical-align: top;\n",
       "    }\n",
       "\n",
       "    .dataframe thead th {\n",
       "        text-align: right;\n",
       "    }\n",
       "</style>\n",
       "<table border=\"1\" class=\"dataframe\">\n",
       "  <thead>\n",
       "    <tr style=\"text-align: right;\">\n",
       "      <th></th>\n",
       "      <th>INSTRUCTION_EXPENDITURE</th>\n",
       "      <th>SUPPORT_SERVICES_EXPENDITURE</th>\n",
       "      <th>OTHER_EXPENDITURE</th>\n",
       "      <th>CAPITAL_OUTLAY_EXPENDITURE</th>\n",
       "      <th>avg_overall</th>\n",
       "    </tr>\n",
       "  </thead>\n",
       "  <tbody>\n",
       "    <tr>\n",
       "      <th>INSTRUCTION_EXPENDITURE</th>\n",
       "      <td>1.000000</td>\n",
       "      <td>0.976889</td>\n",
       "      <td>0.909340</td>\n",
       "      <td>0.896103</td>\n",
       "      <td>0.096142</td>\n",
       "    </tr>\n",
       "    <tr>\n",
       "      <th>SUPPORT_SERVICES_EXPENDITURE</th>\n",
       "      <td>0.976889</td>\n",
       "      <td>1.000000</td>\n",
       "      <td>0.953091</td>\n",
       "      <td>0.917782</td>\n",
       "      <td>0.098327</td>\n",
       "    </tr>\n",
       "    <tr>\n",
       "      <th>OTHER_EXPENDITURE</th>\n",
       "      <td>0.909340</td>\n",
       "      <td>0.953091</td>\n",
       "      <td>1.000000</td>\n",
       "      <td>0.921932</td>\n",
       "      <td>-0.004175</td>\n",
       "    </tr>\n",
       "    <tr>\n",
       "      <th>CAPITAL_OUTLAY_EXPENDITURE</th>\n",
       "      <td>0.896103</td>\n",
       "      <td>0.917782</td>\n",
       "      <td>0.921932</td>\n",
       "      <td>1.000000</td>\n",
       "      <td>0.037359</td>\n",
       "    </tr>\n",
       "    <tr>\n",
       "      <th>avg_overall</th>\n",
       "      <td>0.096142</td>\n",
       "      <td>0.098327</td>\n",
       "      <td>-0.004175</td>\n",
       "      <td>0.037359</td>\n",
       "      <td>1.000000</td>\n",
       "    </tr>\n",
       "  </tbody>\n",
       "</table>\n",
       "</div>"
      ],
      "text/plain": [
       "                              INSTRUCTION_EXPENDITURE  \\\n",
       "INSTRUCTION_EXPENDITURE                      1.000000   \n",
       "SUPPORT_SERVICES_EXPENDITURE                 0.976889   \n",
       "OTHER_EXPENDITURE                            0.909340   \n",
       "CAPITAL_OUTLAY_EXPENDITURE                   0.896103   \n",
       "avg_overall                                  0.096142   \n",
       "\n",
       "                              SUPPORT_SERVICES_EXPENDITURE  OTHER_EXPENDITURE  \\\n",
       "INSTRUCTION_EXPENDITURE                           0.976889           0.909340   \n",
       "SUPPORT_SERVICES_EXPENDITURE                      1.000000           0.953091   \n",
       "OTHER_EXPENDITURE                                 0.953091           1.000000   \n",
       "CAPITAL_OUTLAY_EXPENDITURE                        0.917782           0.921932   \n",
       "avg_overall                                       0.098327          -0.004175   \n",
       "\n",
       "                              CAPITAL_OUTLAY_EXPENDITURE  avg_overall  \n",
       "INSTRUCTION_EXPENDITURE                         0.896103     0.096142  \n",
       "SUPPORT_SERVICES_EXPENDITURE                    0.917782     0.098327  \n",
       "OTHER_EXPENDITURE                               0.921932    -0.004175  \n",
       "CAPITAL_OUTLAY_EXPENDITURE                      1.000000     0.037359  \n",
       "avg_overall                                     0.037359     1.000000  "
      ]
     },
     "execution_count": 26,
     "metadata": {},
     "output_type": "execute_result"
    },
    {
     "data": {
      "application/javascript": [
       "\n",
       "            setTimeout(function() {\n",
       "                var nbb_cell_id = 26;\n",
       "                var nbb_unformatted_code = \"expend_cols = [\\n\\n    \\\"INSTRUCTION_EXPENDITURE\\\",\\n    \\\"SUPPORT_SERVICES_EXPENDITURE\\\",\\n    \\\"OTHER_EXPENDITURE\\\",\\n    \\\"CAPITAL_OUTLAY_EXPENDITURE\\\",\\n    \\\"avg_overall\\\",\\n]\\n\\ndf[expend_cols].corr()\\n#total and support services but non are super highly correlated\";\n",
       "                var nbb_formatted_code = \"expend_cols = [\\n    \\\"INSTRUCTION_EXPENDITURE\\\",\\n    \\\"SUPPORT_SERVICES_EXPENDITURE\\\",\\n    \\\"OTHER_EXPENDITURE\\\",\\n    \\\"CAPITAL_OUTLAY_EXPENDITURE\\\",\\n    \\\"avg_overall\\\",\\n]\\n\\ndf[expend_cols].corr()\\n# total and support services but non are super highly correlated\";\n",
       "                var nbb_cells = Jupyter.notebook.get_cells();\n",
       "                for (var i = 0; i < nbb_cells.length; ++i) {\n",
       "                    if (nbb_cells[i].input_prompt_number == nbb_cell_id) {\n",
       "                        if (nbb_cells[i].get_text() == nbb_unformatted_code) {\n",
       "                             nbb_cells[i].set_text(nbb_formatted_code);\n",
       "                        }\n",
       "                        break;\n",
       "                    }\n",
       "                }\n",
       "            }, 500);\n",
       "            "
      ],
      "text/plain": [
       "<IPython.core.display.Javascript object>"
      ]
     },
     "metadata": {},
     "output_type": "display_data"
    }
   ],
   "source": [
    "expend_cols = [\n",
    "    \"INSTRUCTION_EXPENDITURE\",\n",
    "    \"SUPPORT_SERVICES_EXPENDITURE\",\n",
    "    \"OTHER_EXPENDITURE\",\n",
    "    \"CAPITAL_OUTLAY_EXPENDITURE\",\n",
    "    \"avg_overall\",\n",
    "]\n",
    "\n",
    "df[expend_cols].corr()\n",
    "# total and support services but non are super highly correlated"
   ]
  },
  {
   "cell_type": "code",
   "execution_count": 27,
   "metadata": {},
   "outputs": [
    {
     "data": {
      "application/javascript": [
       "\n",
       "            setTimeout(function() {\n",
       "                var nbb_cell_id = 27;\n",
       "                var nbb_unformatted_code = \"target_df = df[expend_cols].dropna()\";\n",
       "                var nbb_formatted_code = \"target_df = df[expend_cols].dropna()\";\n",
       "                var nbb_cells = Jupyter.notebook.get_cells();\n",
       "                for (var i = 0; i < nbb_cells.length; ++i) {\n",
       "                    if (nbb_cells[i].input_prompt_number == nbb_cell_id) {\n",
       "                        if (nbb_cells[i].get_text() == nbb_unformatted_code) {\n",
       "                             nbb_cells[i].set_text(nbb_formatted_code);\n",
       "                        }\n",
       "                        break;\n",
       "                    }\n",
       "                }\n",
       "            }, 500);\n",
       "            "
      ],
      "text/plain": [
       "<IPython.core.display.Javascript object>"
      ]
     },
     "metadata": {},
     "output_type": "display_data"
    }
   ],
   "source": [
    "target_df = df[expend_cols].dropna()"
   ]
  },
  {
   "cell_type": "code",
   "execution_count": 28,
   "metadata": {},
   "outputs": [
    {
     "data": {
      "application/javascript": [
       "\n",
       "            setTimeout(function() {\n",
       "                var nbb_cell_id = 28;\n",
       "                var nbb_unformatted_code = \"X = target_df.drop(columns=\\\"avg_overall\\\")\\ny = target_df[\\\"avg_overall\\\"]\";\n",
       "                var nbb_formatted_code = \"X = target_df.drop(columns=\\\"avg_overall\\\")\\ny = target_df[\\\"avg_overall\\\"]\";\n",
       "                var nbb_cells = Jupyter.notebook.get_cells();\n",
       "                for (var i = 0; i < nbb_cells.length; ++i) {\n",
       "                    if (nbb_cells[i].input_prompt_number == nbb_cell_id) {\n",
       "                        if (nbb_cells[i].get_text() == nbb_unformatted_code) {\n",
       "                             nbb_cells[i].set_text(nbb_formatted_code);\n",
       "                        }\n",
       "                        break;\n",
       "                    }\n",
       "                }\n",
       "            }, 500);\n",
       "            "
      ],
      "text/plain": [
       "<IPython.core.display.Javascript object>"
      ]
     },
     "metadata": {},
     "output_type": "display_data"
    }
   ],
   "source": [
    "X = target_df.drop(columns=\"avg_overall\")\n",
    "y = target_df[\"avg_overall\"]"
   ]
  },
  {
   "cell_type": "code",
   "execution_count": 29,
   "metadata": {},
   "outputs": [
    {
     "data": {
      "application/javascript": [
       "\n",
       "            setTimeout(function() {\n",
       "                var nbb_cell_id = 29;\n",
       "                var nbb_unformatted_code = \"scaler = StandardScaler()\\n\\n# 'learn' from the data\\nscaler.fit(X)\\n\\n# apply what the scaler learned\\nscaled_X = scaler.transform(X)\\nscaled_df = pd.DataFrame(scaled_X, columns=X.columns)\";\n",
       "                var nbb_formatted_code = \"scaler = StandardScaler()\\n\\n# 'learn' from the data\\nscaler.fit(X)\\n\\n# apply what the scaler learned\\nscaled_X = scaler.transform(X)\\nscaled_df = pd.DataFrame(scaled_X, columns=X.columns)\";\n",
       "                var nbb_cells = Jupyter.notebook.get_cells();\n",
       "                for (var i = 0; i < nbb_cells.length; ++i) {\n",
       "                    if (nbb_cells[i].input_prompt_number == nbb_cell_id) {\n",
       "                        if (nbb_cells[i].get_text() == nbb_unformatted_code) {\n",
       "                             nbb_cells[i].set_text(nbb_formatted_code);\n",
       "                        }\n",
       "                        break;\n",
       "                    }\n",
       "                }\n",
       "            }, 500);\n",
       "            "
      ],
      "text/plain": [
       "<IPython.core.display.Javascript object>"
      ]
     },
     "metadata": {},
     "output_type": "display_data"
    }
   ],
   "source": [
    "scaler = StandardScaler()\n",
    "\n",
    "# 'learn' from the data\n",
    "scaler.fit(X)\n",
    "\n",
    "# apply what the scaler learned\n",
    "scaled_X = scaler.transform(X)\n",
    "scaled_df = pd.DataFrame(scaled_X, columns=X.columns)\n"
   ]
  },
  {
   "cell_type": "code",
   "execution_count": 30,
   "metadata": {
    "scrolled": true
   },
   "outputs": [
    {
     "data": {
      "image/png": "[encoded data removed]",
      "text/plain": [
       "<Figure size 432x288 with 1 Axes>"
      ]
     },
     "metadata": {
      "needs_background": "light"
     },
     "output_type": "display_data"
    },
    {
     "data": {
      "application/javascript": [
       "\n",
       "            setTimeout(function() {\n",
       "                var nbb_cell_id = 30;\n",
       "                var nbb_unformatted_code = \"pca = PCA()\\n\\n# 'learn' from the data\\npca.fit(scaled_X)\\n\\n# apply what the pca object learned\\npca_X = pca.transform(scaled_X)\\n\\n# What attribute holds the variance explained?\\nplt.plot(pca.explained_variance_ratio_, marker=\\\"o\\\")\\nplt.title(\\\"Variance explained by each component\\\")\\nplt.show()\";\n",
       "                var nbb_formatted_code = \"pca = PCA()\\n\\n# 'learn' from the data\\npca.fit(scaled_X)\\n\\n# apply what the pca object learned\\npca_X = pca.transform(scaled_X)\\n\\n# What attribute holds the variance explained?\\nplt.plot(pca.explained_variance_ratio_, marker=\\\"o\\\")\\nplt.title(\\\"Variance explained by each component\\\")\\nplt.show()\";\n",
       "                var nbb_cells = Jupyter.notebook.get_cells();\n",
       "                for (var i = 0; i < nbb_cells.length; ++i) {\n",
       "                    if (nbb_cells[i].input_prompt_number == nbb_cell_id) {\n",
       "                        if (nbb_cells[i].get_text() == nbb_unformatted_code) {\n",
       "                             nbb_cells[i].set_text(nbb_formatted_code);\n",
       "                        }\n",
       "                        break;\n",
       "                    }\n",
       "                }\n",
       "            }, 500);\n",
       "            "
      ],
      "text/plain": [
       "<IPython.core.display.Javascript object>"
      ]
     },
     "metadata": {},
     "output_type": "display_data"
    }
   ],
   "source": [
    "pca = PCA()\n",
    "\n",
    "# 'learn' from the data\n",
    "pca.fit(scaled_X)\n",
    "\n",
    "# apply what the pca object learned\n",
    "pca_X = pca.transform(scaled_X)\n",
    "\n",
    "# What attribute holds the variance explained?\n",
    "plt.plot(pca.explained_variance_ratio_, marker=\"o\")\n",
    "plt.title(\"Variance explained by each component\")\n",
    "plt.show()\n"
   ]
  },
  {
   "cell_type": "code",
   "execution_count": 41,
   "metadata": {},
   "outputs": [
    {
     "data": {
      "text/html": [
       "<div>\n",
       "<style scoped>\n",
       "    .dataframe tbody tr th:only-of-type {\n",
       "        vertical-align: middle;\n",
       "    }\n",
       "\n",
       "    .dataframe tbody tr th {\n",
       "        vertical-align: top;\n",
       "    }\n",
       "\n",
       "    .dataframe thead th {\n",
       "        text-align: right;\n",
       "    }\n",
       "</style>\n",
       "<table border=\"1\" class=\"dataframe\">\n",
       "  <thead>\n",
       "    <tr style=\"text-align: right;\">\n",
       "      <th></th>\n",
       "      <th>0</th>\n",
       "      <th>1</th>\n",
       "      <th>2</th>\n",
       "      <th>3</th>\n",
       "      <th>avg_overall</th>\n",
       "    </tr>\n",
       "  </thead>\n",
       "  <tbody>\n",
       "    <tr>\n",
       "      <th>0</th>\n",
       "      <td>-0.909797</td>\n",
       "      <td>-0.076093</td>\n",
       "      <td>0.181789</td>\n",
       "      <td>0.127318</td>\n",
       "      <td>NaN</td>\n",
       "    </tr>\n",
       "    <tr>\n",
       "      <th>1</th>\n",
       "      <td>-1.369359</td>\n",
       "      <td>-0.066110</td>\n",
       "      <td>-0.108569</td>\n",
       "      <td>0.001110</td>\n",
       "      <td>NaN</td>\n",
       "    </tr>\n",
       "    <tr>\n",
       "      <th>2</th>\n",
       "      <td>-0.773548</td>\n",
       "      <td>-0.291904</td>\n",
       "      <td>-0.162020</td>\n",
       "      <td>0.002009</td>\n",
       "      <td>NaN</td>\n",
       "    </tr>\n",
       "    <tr>\n",
       "      <th>3</th>\n",
       "      <td>-1.201728</td>\n",
       "      <td>-0.038431</td>\n",
       "      <td>-0.022698</td>\n",
       "      <td>0.035737</td>\n",
       "      <td>NaN</td>\n",
       "    </tr>\n",
       "    <tr>\n",
       "      <th>4</th>\n",
       "      <td>3.861234</td>\n",
       "      <td>-0.031225</td>\n",
       "      <td>1.560322</td>\n",
       "      <td>0.502821</td>\n",
       "      <td>NaN</td>\n",
       "    </tr>\n",
       "    <tr>\n",
       "      <th>5</th>\n",
       "      <td>-0.932675</td>\n",
       "      <td>-0.111978</td>\n",
       "      <td>-0.168141</td>\n",
       "      <td>-0.006270</td>\n",
       "      <td>NaN</td>\n",
       "    </tr>\n",
       "    <tr>\n",
       "      <th>6</th>\n",
       "      <td>-1.004540</td>\n",
       "      <td>0.160332</td>\n",
       "      <td>-0.023483</td>\n",
       "      <td>0.014236</td>\n",
       "      <td>NaN</td>\n",
       "    </tr>\n",
       "    <tr>\n",
       "      <th>7</th>\n",
       "      <td>-1.439331</td>\n",
       "      <td>-0.041598</td>\n",
       "      <td>-0.068443</td>\n",
       "      <td>0.011462</td>\n",
       "      <td>NaN</td>\n",
       "    </tr>\n",
       "    <tr>\n",
       "      <th>8</th>\n",
       "      <td>-1.452665</td>\n",
       "      <td>-0.021906</td>\n",
       "      <td>-0.033580</td>\n",
       "      <td>-0.008371</td>\n",
       "      <td>NaN</td>\n",
       "    </tr>\n",
       "    <tr>\n",
       "      <th>9</th>\n",
       "      <td>1.037033</td>\n",
       "      <td>-0.519374</td>\n",
       "      <td>0.298701</td>\n",
       "      <td>0.077434</td>\n",
       "      <td>NaN</td>\n",
       "    </tr>\n",
       "    <tr>\n",
       "      <th>10</th>\n",
       "      <td>-0.173682</td>\n",
       "      <td>-0.219798</td>\n",
       "      <td>0.080123</td>\n",
       "      <td>0.120814</td>\n",
       "      <td>NaN</td>\n",
       "    </tr>\n",
       "    <tr>\n",
       "      <th>11</th>\n",
       "      <td>-1.333178</td>\n",
       "      <td>-0.072192</td>\n",
       "      <td>-0.006811</td>\n",
       "      <td>0.045737</td>\n",
       "      <td>NaN</td>\n",
       "    </tr>\n",
       "    <tr>\n",
       "      <th>12</th>\n",
       "      <td>-0.595546</td>\n",
       "      <td>-0.025272</td>\n",
       "      <td>-0.007564</td>\n",
       "      <td>0.014409</td>\n",
       "      <td>NaN</td>\n",
       "    </tr>\n",
       "    <tr>\n",
       "      <th>13</th>\n",
       "      <td>-1.111096</td>\n",
       "      <td>0.002491</td>\n",
       "      <td>-0.039110</td>\n",
       "      <td>0.006636</td>\n",
       "      <td>NaN</td>\n",
       "    </tr>\n",
       "    <tr>\n",
       "      <th>14</th>\n",
       "      <td>-0.921839</td>\n",
       "      <td>-0.075892</td>\n",
       "      <td>0.014312</td>\n",
       "      <td>0.031056</td>\n",
       "      <td>NaN</td>\n",
       "    </tr>\n",
       "    <tr>\n",
       "      <th>15</th>\n",
       "      <td>-0.915135</td>\n",
       "      <td>-0.018346</td>\n",
       "      <td>0.168942</td>\n",
       "      <td>0.082722</td>\n",
       "      <td>NaN</td>\n",
       "    </tr>\n",
       "    <tr>\n",
       "      <th>16</th>\n",
       "      <td>-1.366724</td>\n",
       "      <td>-0.000950</td>\n",
       "      <td>-0.041954</td>\n",
       "      <td>0.024758</td>\n",
       "      <td>NaN</td>\n",
       "    </tr>\n",
       "    <tr>\n",
       "      <th>17</th>\n",
       "      <td>-0.701762</td>\n",
       "      <td>0.067524</td>\n",
       "      <td>-0.008918</td>\n",
       "      <td>-0.019692</td>\n",
       "      <td>NaN</td>\n",
       "    </tr>\n",
       "    <tr>\n",
       "      <th>18</th>\n",
       "      <td>-0.673494</td>\n",
       "      <td>0.216714</td>\n",
       "      <td>-0.058315</td>\n",
       "      <td>0.018902</td>\n",
       "      <td>NaN</td>\n",
       "    </tr>\n",
       "    <tr>\n",
       "      <th>19</th>\n",
       "      <td>0.400497</td>\n",
       "      <td>0.140912</td>\n",
       "      <td>0.310236</td>\n",
       "      <td>-0.057137</td>\n",
       "      <td>NaN</td>\n",
       "    </tr>\n",
       "    <tr>\n",
       "      <th>20</th>\n",
       "      <td>-0.381752</td>\n",
       "      <td>-0.241465</td>\n",
       "      <td>0.268174</td>\n",
       "      <td>0.206952</td>\n",
       "      <td>NaN</td>\n",
       "    </tr>\n",
       "    <tr>\n",
       "      <th>21</th>\n",
       "      <td>-1.165244</td>\n",
       "      <td>-0.074472</td>\n",
       "      <td>0.020028</td>\n",
       "      <td>0.062027</td>\n",
       "      <td>NaN</td>\n",
       "    </tr>\n",
       "    <tr>\n",
       "      <th>22</th>\n",
       "      <td>-0.712926</td>\n",
       "      <td>-0.071075</td>\n",
       "      <td>0.003234</td>\n",
       "      <td>0.034197</td>\n",
       "      <td>NaN</td>\n",
       "    </tr>\n",
       "    <tr>\n",
       "      <th>23</th>\n",
       "      <td>-1.432456</td>\n",
       "      <td>-0.019872</td>\n",
       "      <td>-0.059209</td>\n",
       "      <td>0.010424</td>\n",
       "      <td>NaN</td>\n",
       "    </tr>\n",
       "    <tr>\n",
       "      <th>24</th>\n",
       "      <td>-1.269097</td>\n",
       "      <td>-0.062785</td>\n",
       "      <td>-0.108010</td>\n",
       "      <td>0.021204</td>\n",
       "      <td>NaN</td>\n",
       "    </tr>\n",
       "    <tr>\n",
       "      <th>25</th>\n",
       "      <td>-1.285928</td>\n",
       "      <td>-0.075854</td>\n",
       "      <td>-0.069424</td>\n",
       "      <td>0.001788</td>\n",
       "      <td>NaN</td>\n",
       "    </tr>\n",
       "    <tr>\n",
       "      <th>26</th>\n",
       "      <td>1.996354</td>\n",
       "      <td>0.681457</td>\n",
       "      <td>-0.074586</td>\n",
       "      <td>0.192377</td>\n",
       "      <td>NaN</td>\n",
       "    </tr>\n",
       "    <tr>\n",
       "      <th>27</th>\n",
       "      <td>-0.477344</td>\n",
       "      <td>-0.088303</td>\n",
       "      <td>0.087481</td>\n",
       "      <td>0.098255</td>\n",
       "      <td>NaN</td>\n",
       "    </tr>\n",
       "    <tr>\n",
       "      <th>28</th>\n",
       "      <td>-1.449137</td>\n",
       "      <td>-0.056655</td>\n",
       "      <td>-0.034093</td>\n",
       "      <td>0.029211</td>\n",
       "      <td>NaN</td>\n",
       "    </tr>\n",
       "    <tr>\n",
       "      <th>29</th>\n",
       "      <td>-1.067306</td>\n",
       "      <td>0.014115</td>\n",
       "      <td>-0.092501</td>\n",
       "      <td>-0.025865</td>\n",
       "      <td>NaN</td>\n",
       "    </tr>\n",
       "  </tbody>\n",
       "</table>\n",
       "</div>"
      ],
      "text/plain": [
       "           0         1         2         3  avg_overall\n",
       "0  -0.909797 -0.076093  0.181789  0.127318          NaN\n",
       "1  -1.369359 -0.066110 -0.108569  0.001110          NaN\n",
       "2  -0.773548 -0.291904 -0.162020  0.002009          NaN\n",
       "3  -1.201728 -0.038431 -0.022698  0.035737          NaN\n",
       "4   3.861234 -0.031225  1.560322  0.502821          NaN\n",
       "5  -0.932675 -0.111978 -0.168141 -0.006270          NaN\n",
       "6  -1.004540  0.160332 -0.023483  0.014236          NaN\n",
       "7  -1.439331 -0.041598 -0.068443  0.011462          NaN\n",
       "8  -1.452665 -0.021906 -0.033580 -0.008371          NaN\n",
       "9   1.037033 -0.519374  0.298701  0.077434          NaN\n",
       "10 -0.173682 -0.219798  0.080123  0.120814          NaN\n",
       "11 -1.333178 -0.072192 -0.006811  0.045737          NaN\n",
       "12 -0.595546 -0.025272 -0.007564  0.014409          NaN\n",
       "13 -1.111096  0.002491 -0.039110  0.006636          NaN\n",
       "14 -0.921839 -0.075892  0.014312  0.031056          NaN\n",
       "15 -0.915135 -0.018346  0.168942  0.082722          NaN\n",
       "16 -1.366724 -0.000950 -0.041954  0.024758          NaN\n",
       "17 -0.701762  0.067524 -0.008918 -0.019692          NaN\n",
       "18 -0.673494  0.216714 -0.058315  0.018902          NaN\n",
       "19  0.400497  0.140912  0.310236 -0.057137          NaN\n",
       "20 -0.381752 -0.241465  0.268174  0.206952          NaN\n",
       "21 -1.165244 -0.074472  0.020028  0.062027          NaN\n",
       "22 -0.712926 -0.071075  0.003234  0.034197          NaN\n",
       "23 -1.432456 -0.019872 -0.059209  0.010424          NaN\n",
       "24 -1.269097 -0.062785 -0.108010  0.021204          NaN\n",
       "25 -1.285928 -0.075854 -0.069424  0.001788          NaN\n",
       "26  1.996354  0.681457 -0.074586  0.192377          NaN\n",
       "27 -0.477344 -0.088303  0.087481  0.098255          NaN\n",
       "28 -1.449137 -0.056655 -0.034093  0.029211          NaN\n",
       "29 -1.067306  0.014115 -0.092501 -0.025865          NaN"
      ]
     },
     "execution_count": 41,
     "metadata": {},
     "output_type": "execute_result"
    },
    {
     "data": {
      "application/javascript": [
       "\n",
       "            setTimeout(function() {\n",
       "                var nbb_cell_id = 41;\n",
       "                var nbb_unformatted_code = \"pd.concat((pd.DataFrame(pca_X), target_df[\\\"avg_overall\\\"]), axis=1).head(30)\";\n",
       "                var nbb_formatted_code = \"pd.concat((pd.DataFrame(pca_X), target_df[\\\"avg_overall\\\"]), axis=1).head(30)\";\n",
       "                var nbb_cells = Jupyter.notebook.get_cells();\n",
       "                for (var i = 0; i < nbb_cells.length; ++i) {\n",
       "                    if (nbb_cells[i].input_prompt_number == nbb_cell_id) {\n",
       "                        if (nbb_cells[i].get_text() == nbb_unformatted_code) {\n",
       "                             nbb_cells[i].set_text(nbb_formatted_code);\n",
       "                        }\n",
       "                        break;\n",
       "                    }\n",
       "                }\n",
       "            }, 500);\n",
       "            "
      ],
      "text/plain": [
       "<IPython.core.display.Javascript object>"
      ]
     },
     "metadata": {},
     "output_type": "display_data"
    }
   ],
   "source": [
    "pd.concat((pd.DataFrame(pca_X), target_df[\"avg_overall\"]), axis=1)."
   ]
  },
  {
   "cell_type": "code",
   "execution_count": 46,
   "metadata": {},
   "outputs": [
    {
     "data": {
      "text/plain": [
       "(0.026943986797132106, 0.5734131771307325)"
      ]
     },
     "execution_count": 46,
     "metadata": {},
     "output_type": "execute_result"
    },
    {
     "data": {
      "application/javascript": [
       "\n",
       "            setTimeout(function() {\n",
       "                var nbb_cell_id = 46;\n",
       "                var nbb_unformatted_code = \"stats.pearsonr(pca_X[:, 0], y)\";\n",
       "                var nbb_formatted_code = \"stats.pearsonr(pca_X[:, 0], y)\";\n",
       "                var nbb_cells = Jupyter.notebook.get_cells();\n",
       "                for (var i = 0; i < nbb_cells.length; ++i) {\n",
       "                    if (nbb_cells[i].input_prompt_number == nbb_cell_id) {\n",
       "                        if (nbb_cells[i].get_text() == nbb_unformatted_code) {\n",
       "                             nbb_cells[i].set_text(nbb_formatted_code);\n",
       "                        }\n",
       "                        break;\n",
       "                    }\n",
       "                }\n",
       "            }, 500);\n",
       "            "
      ],
      "text/plain": [
       "<IPython.core.display.Javascript object>"
      ]
     },
     "metadata": {},
     "output_type": "display_data"
    }
   ],
   "source": [
    "stats.pearsonr(pca_X[:, 0], y)"
   ]
  },
  {
   "cell_type": "code",
   "execution_count": 56,
   "metadata": {},
   "outputs": [
    {
     "data": {
      "text/plain": [
       "-364571.0"
      ]
     },
     "execution_count": 56,
     "metadata": {},
     "output_type": "execute_result"
    },
    {
     "data": {
      "application/javascript": [
       "\n",
       "            setTimeout(function() {\n",
       "                var nbb_cell_id = 56;\n",
       "                var nbb_unformatted_code = \"df[\\\"GRADES_8_G\\\"].sum() - df[\\\"GRADES_4_G\\\"].sum()\";\n",
       "                var nbb_formatted_code = \"df[\\\"GRADES_8_G\\\"].sum() - df[\\\"GRADES_4_G\\\"].sum()\";\n",
       "                var nbb_cells = Jupyter.notebook.get_cells();\n",
       "                for (var i = 0; i < nbb_cells.length; ++i) {\n",
       "                    if (nbb_cells[i].input_prompt_number == nbb_cell_id) {\n",
       "                        if (nbb_cells[i].get_text() == nbb_unformatted_code) {\n",
       "                             nbb_cells[i].set_text(nbb_formatted_code);\n",
       "                        }\n",
       "                        break;\n",
       "                    }\n",
       "                }\n",
       "            }, 500);\n",
       "            "
      ],
      "text/plain": [
       "<IPython.core.display.Javascript object>"
      ]
     },
     "metadata": {},
     "output_type": "display_data"
    }
   ],
   "source": [
    "df[\"GRADES_8_G\"].sum() - df[\"GRADES_4_G\"].sum()"
   ]
  },
  {
   "cell_type": "code",
   "execution_count": 64,
   "metadata": {},
   "outputs": [
    {
     "name": "stdout",
     "output_type": "stream",
     "text": [
      "The percentage of total variance in the dataset explained by each component from Sklearn PCA.\n",
      " [0.94312987]\n"
     ]
    },
    {
     "data": {
      "application/javascript": [
       "\n",
       "            setTimeout(function() {\n",
       "                var nbb_cell_id = 64;\n",
       "                var nbb_unformatted_code = \"from sklearn.decomposition import PCA\\nfrom sklearn.preprocessing import StandardScaler\\n\\nedu_df = df.copy()\\nedu_df = edu_df.dropna()\\nX = edu_df[\\n    [\\n        \\\"INSTRUCTION_EXPENDITURE\\\",\\n        \\\"SUPPORT_SERVICES_EXPENDITURE\\\",\\n        \\\"OTHER_EXPENDITURE\\\",\\n        \\\"CAPITAL_OUTLAY_EXPENDITURE\\\",\\n    ]\\n]\\n\\nX = StandardScaler().fit_transform(X)\\n\\nsklearn_pca = PCA(n_components=1)\\nedu_df[\\\"pca_1\\\"] = sklearn_pca.fit_transform(X)\\n\\nprint(\\n    \\\"The percentage of total variance in the dataset explained by each\\\",\\n    \\\"component from Sklearn PCA.\\\\n\\\",\\n    sklearn_pca.explained_variance_ratio_,\\n)\";\n",
       "                var nbb_formatted_code = \"from sklearn.decomposition import PCA\\nfrom sklearn.preprocessing import StandardScaler\\n\\nedu_df = df.copy()\\nedu_df = edu_df.dropna()\\nX = edu_df[\\n    [\\n        \\\"INSTRUCTION_EXPENDITURE\\\",\\n        \\\"SUPPORT_SERVICES_EXPENDITURE\\\",\\n        \\\"OTHER_EXPENDITURE\\\",\\n        \\\"CAPITAL_OUTLAY_EXPENDITURE\\\",\\n    ]\\n]\\n\\nX = StandardScaler().fit_transform(X)\\n\\nsklearn_pca = PCA(n_components=1)\\nedu_df[\\\"pca_1\\\"] = sklearn_pca.fit_transform(X)\\n\\nprint(\\n    \\\"The percentage of total variance in the dataset explained by each\\\",\\n    \\\"component from Sklearn PCA.\\\\n\\\",\\n    sklearn_pca.explained_variance_ratio_,\\n)\";\n",
       "                var nbb_cells = Jupyter.notebook.get_cells();\n",
       "                for (var i = 0; i < nbb_cells.length; ++i) {\n",
       "                    if (nbb_cells[i].input_prompt_number == nbb_cell_id) {\n",
       "                        if (nbb_cells[i].get_text() == nbb_unformatted_code) {\n",
       "                             nbb_cells[i].set_text(nbb_formatted_code);\n",
       "                        }\n",
       "                        break;\n",
       "                    }\n",
       "                }\n",
       "            }, 500);\n",
       "            "
      ],
      "text/plain": [
       "<IPython.core.display.Javascript object>"
      ]
     },
     "metadata": {},
     "output_type": "display_data"
    }
   ],
   "source": [
    "from sklearn.decomposition import PCA\n",
    "from sklearn.preprocessing import StandardScaler\n",
    "\n",
    "edu_df = df.copy()\n",
    "edu_df = edu_df.dropna()\n",
    "X = edu_df[\n",
    "    [\n",
    "        \"INSTRUCTION_EXPENDITURE\",\n",
    "        \"SUPPORT_SERVICES_EXPENDITURE\",\n",
    "        \"OTHER_EXPENDITURE\",\n",
    "        \"CAPITAL_OUTLAY_EXPENDITURE\",\n",
    "    ]\n",
    "]\n",
    "\n",
    "X = StandardScaler().fit_transform(X)\n",
    "\n",
    "sklearn_pca = PCA(n_components=1)\n",
    "edu_df[\"pca_1\"] = sklearn_pca.fit_transform(X)\n",
    "\n",
    "print(\n",
    "    \"The percentage of total variance in the dataset explained by each\",\n",
    "    \"component from Sklearn PCA.\\n\",\n",
    "    sklearn_pca.explained_variance_ratio_,\n",
    ")"
   ]
  },
  {
   "cell_type": "code",
   "execution_count": 61,
   "metadata": {},
   "outputs": [
    {
     "data": {
      "text/plain": [
       "nan"
      ]
     },
     "execution_count": 61,
     "metadata": {},
     "output_type": "execute_result"
    },
    {
     "data": {
      "application/javascript": [
       "\n",
       "            setTimeout(function() {\n",
       "                var nbb_cell_id = 61;\n",
       "                var nbb_unformatted_code = \"X.max()\";\n",
       "                var nbb_formatted_code = \"X.max()\";\n",
       "                var nbb_cells = Jupyter.notebook.get_cells();\n",
       "                for (var i = 0; i < nbb_cells.length; ++i) {\n",
       "                    if (nbb_cells[i].input_prompt_number == nbb_cell_id) {\n",
       "                        if (nbb_cells[i].get_text() == nbb_unformatted_code) {\n",
       "                             nbb_cells[i].set_text(nbb_formatted_code);\n",
       "                        }\n",
       "                        break;\n",
       "                    }\n",
       "                }\n",
       "            }, 500);\n",
       "            "
      ],
      "text/plain": [
       "<IPython.core.display.Javascript object>"
      ]
     },
     "metadata": {},
     "output_type": "display_data"
    }
   ],
   "source": [
    "X.max()"
   ]
  },
  {
   "cell_type": "code",
   "execution_count": 65,
   "metadata": {},
   "outputs": [
    {
     "data": {
      "text/plain": [
       "0.6984126984126984"
      ]
     },
     "execution_count": 65,
     "metadata": {},
     "output_type": "execute_result"
    },
    {
     "data": {
      "application/javascript": [
       "\n",
       "            setTimeout(function() {\n",
       "                var nbb_cell_id = 65;\n",
       "                var nbb_unformatted_code = \"(46+42)/(46+42+21+17)\";\n",
       "                var nbb_formatted_code = \"(46 + 42) / (46 + 42 + 21 + 17)\";\n",
       "                var nbb_cells = Jupyter.notebook.get_cells();\n",
       "                for (var i = 0; i < nbb_cells.length; ++i) {\n",
       "                    if (nbb_cells[i].input_prompt_number == nbb_cell_id) {\n",
       "                        if (nbb_cells[i].get_text() == nbb_unformatted_code) {\n",
       "                             nbb_cells[i].set_text(nbb_formatted_code);\n",
       "                        }\n",
       "                        break;\n",
       "                    }\n",
       "                }\n",
       "            }, 500);\n",
       "            "
      ],
      "text/plain": [
       "<IPython.core.display.Javascript object>"
      ]
     },
     "metadata": {},
     "output_type": "display_data"
    }
   ],
   "source": [
    "(46 + 42) / (46 + 42 + 21 + 17)"
   ]
  }
 ],
 "metadata": {
  "kernelspec": {
   "display_name": "Python 3",
   "language": "python",
   "name": "python3"
  },
  "language_info": {
   "codemirror_mode": {
    "name": "ipython",
    "version": 3
   },
   "file_extension": ".py",
   "mimetype": "text/x-python",
   "name": "python",
   "nbconvert_exporter": "python",
   "pygments_lexer": "ipython3",
   "version": "3.7.6"
  }
 },
 "nbformat": 4,
 "nbformat_minor": 4
}
