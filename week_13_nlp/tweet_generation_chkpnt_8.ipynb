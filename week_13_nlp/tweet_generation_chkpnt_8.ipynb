{
 "cells": [
  {
   "cell_type": "code",
   "execution_count": 1,
   "metadata": {},
   "outputs": [
    {
     "data": {
      "application/javascript": [
       "\n",
       "            setTimeout(function() {\n",
       "                var nbb_cell_id = 1;\n",
       "                var nbb_unformatted_code = \"%reload_ext nb_black\";\n",
       "                var nbb_formatted_code = \"%reload_ext nb_black\";\n",
       "                var nbb_cells = Jupyter.notebook.get_cells();\n",
       "                for (var i = 0; i < nbb_cells.length; ++i) {\n",
       "                    if (nbb_cells[i].input_prompt_number == nbb_cell_id) {\n",
       "                        if (nbb_cells[i].get_text() == nbb_unformatted_code) {\n",
       "                             nbb_cells[i].set_text(nbb_formatted_code);\n",
       "                        }\n",
       "                        break;\n",
       "                    }\n",
       "                }\n",
       "            }, 500);\n",
       "            "
      ],
      "text/plain": [
       "<IPython.core.display.Javascript object>"
      ]
     },
     "metadata": {},
     "output_type": "display_data"
    }
   ],
   "source": [
    "%reload_ext nb_black"
   ]
  },
  {
   "cell_type": "code",
   "execution_count": 4,
   "metadata": {},
   "outputs": [
    {
     "data": {
      "application/javascript": [
       "\n",
       "            setTimeout(function() {\n",
       "                var nbb_cell_id = 4;\n",
       "                var nbb_unformatted_code = \"import random\\nimport string\\nimport nltk\\nimport spacy\\nimport re\\nimport matplotlib.pyplot as plt\\nimport numpy as np\\nimport pandas as pd\\nimport markovify\\n\\nfrom sqlalchemy import create_engine\\n\\nfrom sklearn.feature_extraction.text import TfidfVectorizer\\nfrom sklearn.metrics.pairwise import cosine_similarity\\nfrom nltk.corpus import gutenberg\\n\\nfrom chatterbot import ChatBot\\nfrom chatterbot.trainers import ListTrainer, ChatterBotCorpusTrainer\\nfrom chatterbot.conversation import Statement\\n\\nimport warnings\\n\\nwarnings.filterwarnings(action=\\\"ignore\\\")\";\n",
       "                var nbb_formatted_code = \"import random\\nimport string\\nimport nltk\\nimport spacy\\nimport re\\nimport matplotlib.pyplot as plt\\nimport numpy as np\\nimport pandas as pd\\nimport markovify\\n\\nfrom sqlalchemy import create_engine\\n\\nfrom sklearn.feature_extraction.text import TfidfVectorizer\\nfrom sklearn.metrics.pairwise import cosine_similarity\\nfrom nltk.corpus import gutenberg\\n\\nfrom chatterbot import ChatBot\\nfrom chatterbot.trainers import ListTrainer, ChatterBotCorpusTrainer\\nfrom chatterbot.conversation import Statement\\n\\nimport warnings\\n\\nwarnings.filterwarnings(action=\\\"ignore\\\")\";\n",
       "                var nbb_cells = Jupyter.notebook.get_cells();\n",
       "                for (var i = 0; i < nbb_cells.length; ++i) {\n",
       "                    if (nbb_cells[i].input_prompt_number == nbb_cell_id) {\n",
       "                        if (nbb_cells[i].get_text() == nbb_unformatted_code) {\n",
       "                             nbb_cells[i].set_text(nbb_formatted_code);\n",
       "                        }\n",
       "                        break;\n",
       "                    }\n",
       "                }\n",
       "            }, 500);\n",
       "            "
      ],
      "text/plain": [
       "<IPython.core.display.Javascript object>"
      ]
     },
     "metadata": {},
     "output_type": "display_data"
    }
   ],
   "source": [
    "import random\n",
    "import string\n",
    "import nltk\n",
    "import spacy\n",
    "import re\n",
    "import matplotlib.pyplot as plt\n",
    "import numpy as np\n",
    "import pandas as pd\n",
    "import markovify\n",
    "\n",
    "from sqlalchemy import create_engine\n",
    "\n",
    "from sklearn.feature_extraction.text import TfidfVectorizer\n",
    "from sklearn.metrics.pairwise import cosine_similarity\n",
    "from nltk.corpus import gutenberg\n",
    "\n",
    "from chatterbot import ChatBot\n",
    "from chatterbot.trainers import ListTrainer, ChatterBotCorpusTrainer\n",
    "from chatterbot.conversation import Statement\n",
    "\n",
    "import warnings\n",
    "\n",
    "warnings.filterwarnings(action=\"ignore\")"
   ]
  },
  {
   "cell_type": "code",
   "execution_count": 5,
   "metadata": {},
   "outputs": [
    {
     "data": {
      "text/html": [
       "<div>\n",
       "<style scoped>\n",
       "    .dataframe tbody tr th:only-of-type {\n",
       "        vertical-align: middle;\n",
       "    }\n",
       "\n",
       "    .dataframe tbody tr th {\n",
       "        vertical-align: top;\n",
       "    }\n",
       "\n",
       "    .dataframe thead th {\n",
       "        text-align: right;\n",
       "    }\n",
       "</style>\n",
       "<table border=\"1\" class=\"dataframe\">\n",
       "  <thead>\n",
       "    <tr style=\"text-align: right;\">\n",
       "      <th></th>\n",
       "      <th>index</th>\n",
       "      <th>tweet_id</th>\n",
       "      <th>airline_sentiment</th>\n",
       "      <th>airline_sentiment_confidence</th>\n",
       "      <th>negativereason</th>\n",
       "      <th>negativereason_confidence</th>\n",
       "      <th>airline</th>\n",
       "      <th>airline_sentiment_gold</th>\n",
       "      <th>name</th>\n",
       "      <th>negativereason_gold</th>\n",
       "      <th>retweet_count</th>\n",
       "      <th>text</th>\n",
       "      <th>tweet_coord</th>\n",
       "      <th>tweet_created</th>\n",
       "      <th>tweet_location</th>\n",
       "      <th>user_timezone</th>\n",
       "    </tr>\n",
       "  </thead>\n",
       "  <tbody>\n",
       "    <tr>\n",
       "      <th>0</th>\n",
       "      <td>0</td>\n",
       "      <td>570306133677760513</td>\n",
       "      <td>neutral</td>\n",
       "      <td>1.0000</td>\n",
       "      <td>None</td>\n",
       "      <td>NaN</td>\n",
       "      <td>Virgin America</td>\n",
       "      <td>None</td>\n",
       "      <td>cairdin</td>\n",
       "      <td>None</td>\n",
       "      <td>0</td>\n",
       "      <td>@VirginAmerica What @dhepburn said.</td>\n",
       "      <td>None</td>\n",
       "      <td>2015-02-24 11:35:52 -0800</td>\n",
       "      <td>None</td>\n",
       "      <td>Eastern Time (US &amp; Canada)</td>\n",
       "    </tr>\n",
       "    <tr>\n",
       "      <th>1</th>\n",
       "      <td>1</td>\n",
       "      <td>570301130888122368</td>\n",
       "      <td>positive</td>\n",
       "      <td>0.3486</td>\n",
       "      <td>None</td>\n",
       "      <td>0.0000</td>\n",
       "      <td>Virgin America</td>\n",
       "      <td>None</td>\n",
       "      <td>jnardino</td>\n",
       "      <td>None</td>\n",
       "      <td>0</td>\n",
       "      <td>@VirginAmerica plus you've added commercials t...</td>\n",
       "      <td>None</td>\n",
       "      <td>2015-02-24 11:15:59 -0800</td>\n",
       "      <td>None</td>\n",
       "      <td>Pacific Time (US &amp; Canada)</td>\n",
       "    </tr>\n",
       "    <tr>\n",
       "      <th>2</th>\n",
       "      <td>2</td>\n",
       "      <td>570301083672813571</td>\n",
       "      <td>neutral</td>\n",
       "      <td>0.6837</td>\n",
       "      <td>None</td>\n",
       "      <td>NaN</td>\n",
       "      <td>Virgin America</td>\n",
       "      <td>None</td>\n",
       "      <td>yvonnalynn</td>\n",
       "      <td>None</td>\n",
       "      <td>0</td>\n",
       "      <td>@VirginAmerica I didn't today... Must mean I n...</td>\n",
       "      <td>None</td>\n",
       "      <td>2015-02-24 11:15:48 -0800</td>\n",
       "      <td>Lets Play</td>\n",
       "      <td>Central Time (US &amp; Canada)</td>\n",
       "    </tr>\n",
       "    <tr>\n",
       "      <th>3</th>\n",
       "      <td>3</td>\n",
       "      <td>570301031407624196</td>\n",
       "      <td>negative</td>\n",
       "      <td>1.0000</td>\n",
       "      <td>Bad Flight</td>\n",
       "      <td>0.7033</td>\n",
       "      <td>Virgin America</td>\n",
       "      <td>None</td>\n",
       "      <td>jnardino</td>\n",
       "      <td>None</td>\n",
       "      <td>0</td>\n",
       "      <td>@VirginAmerica it's really aggressive to blast...</td>\n",
       "      <td>None</td>\n",
       "      <td>2015-02-24 11:15:36 -0800</td>\n",
       "      <td>None</td>\n",
       "      <td>Pacific Time (US &amp; Canada)</td>\n",
       "    </tr>\n",
       "    <tr>\n",
       "      <th>4</th>\n",
       "      <td>4</td>\n",
       "      <td>570300817074462722</td>\n",
       "      <td>negative</td>\n",
       "      <td>1.0000</td>\n",
       "      <td>Can't Tell</td>\n",
       "      <td>1.0000</td>\n",
       "      <td>Virgin America</td>\n",
       "      <td>None</td>\n",
       "      <td>jnardino</td>\n",
       "      <td>None</td>\n",
       "      <td>0</td>\n",
       "      <td>@VirginAmerica and it's a really big bad thing...</td>\n",
       "      <td>None</td>\n",
       "      <td>2015-02-24 11:14:45 -0800</td>\n",
       "      <td>None</td>\n",
       "      <td>Pacific Time (US &amp; Canada)</td>\n",
       "    </tr>\n",
       "    <tr>\n",
       "      <th>5</th>\n",
       "      <td>5</td>\n",
       "      <td>570300767074181121</td>\n",
       "      <td>negative</td>\n",
       "      <td>1.0000</td>\n",
       "      <td>Can't Tell</td>\n",
       "      <td>0.6842</td>\n",
       "      <td>Virgin America</td>\n",
       "      <td>None</td>\n",
       "      <td>jnardino</td>\n",
       "      <td>None</td>\n",
       "      <td>0</td>\n",
       "      <td>@VirginAmerica seriously would pay $30 a fligh...</td>\n",
       "      <td>None</td>\n",
       "      <td>2015-02-24 11:14:33 -0800</td>\n",
       "      <td>None</td>\n",
       "      <td>Pacific Time (US &amp; Canada)</td>\n",
       "    </tr>\n",
       "    <tr>\n",
       "      <th>6</th>\n",
       "      <td>6</td>\n",
       "      <td>570300616901320704</td>\n",
       "      <td>positive</td>\n",
       "      <td>0.6745</td>\n",
       "      <td>None</td>\n",
       "      <td>0.0000</td>\n",
       "      <td>Virgin America</td>\n",
       "      <td>None</td>\n",
       "      <td>cjmcginnis</td>\n",
       "      <td>None</td>\n",
       "      <td>0</td>\n",
       "      <td>@VirginAmerica yes, nearly every time I fly VX...</td>\n",
       "      <td>None</td>\n",
       "      <td>2015-02-24 11:13:57 -0800</td>\n",
       "      <td>San Francisco CA</td>\n",
       "      <td>Pacific Time (US &amp; Canada)</td>\n",
       "    </tr>\n",
       "    <tr>\n",
       "      <th>7</th>\n",
       "      <td>7</td>\n",
       "      <td>570300248553349120</td>\n",
       "      <td>neutral</td>\n",
       "      <td>0.6340</td>\n",
       "      <td>None</td>\n",
       "      <td>NaN</td>\n",
       "      <td>Virgin America</td>\n",
       "      <td>None</td>\n",
       "      <td>pilot</td>\n",
       "      <td>None</td>\n",
       "      <td>0</td>\n",
       "      <td>@VirginAmerica Really missed a prime opportuni...</td>\n",
       "      <td>None</td>\n",
       "      <td>2015-02-24 11:12:29 -0800</td>\n",
       "      <td>Los Angeles</td>\n",
       "      <td>Pacific Time (US &amp; Canada)</td>\n",
       "    </tr>\n",
       "    <tr>\n",
       "      <th>8</th>\n",
       "      <td>8</td>\n",
       "      <td>570299953286942721</td>\n",
       "      <td>positive</td>\n",
       "      <td>0.6559</td>\n",
       "      <td>None</td>\n",
       "      <td>NaN</td>\n",
       "      <td>Virgin America</td>\n",
       "      <td>None</td>\n",
       "      <td>dhepburn</td>\n",
       "      <td>None</td>\n",
       "      <td>0</td>\n",
       "      <td>@virginamerica Well, I didn't…but NOW I DO! :-D</td>\n",
       "      <td>None</td>\n",
       "      <td>2015-02-24 11:11:19 -0800</td>\n",
       "      <td>San Diego</td>\n",
       "      <td>Pacific Time (US &amp; Canada)</td>\n",
       "    </tr>\n",
       "    <tr>\n",
       "      <th>9</th>\n",
       "      <td>9</td>\n",
       "      <td>570295459631263746</td>\n",
       "      <td>positive</td>\n",
       "      <td>1.0000</td>\n",
       "      <td>None</td>\n",
       "      <td>NaN</td>\n",
       "      <td>Virgin America</td>\n",
       "      <td>None</td>\n",
       "      <td>YupitsTate</td>\n",
       "      <td>None</td>\n",
       "      <td>0</td>\n",
       "      <td>@VirginAmerica it was amazing, and arrived an ...</td>\n",
       "      <td>None</td>\n",
       "      <td>2015-02-24 10:53:27 -0800</td>\n",
       "      <td>Los Angeles</td>\n",
       "      <td>Eastern Time (US &amp; Canada)</td>\n",
       "    </tr>\n",
       "  </tbody>\n",
       "</table>\n",
       "</div>"
      ],
      "text/plain": [
       "   index            tweet_id airline_sentiment  airline_sentiment_confidence  \\\n",
       "0      0  570306133677760513           neutral                        1.0000   \n",
       "1      1  570301130888122368          positive                        0.3486   \n",
       "2      2  570301083672813571           neutral                        0.6837   \n",
       "3      3  570301031407624196          negative                        1.0000   \n",
       "4      4  570300817074462722          negative                        1.0000   \n",
       "5      5  570300767074181121          negative                        1.0000   \n",
       "6      6  570300616901320704          positive                        0.6745   \n",
       "7      7  570300248553349120           neutral                        0.6340   \n",
       "8      8  570299953286942721          positive                        0.6559   \n",
       "9      9  570295459631263746          positive                        1.0000   \n",
       "\n",
       "  negativereason  negativereason_confidence         airline  \\\n",
       "0           None                        NaN  Virgin America   \n",
       "1           None                     0.0000  Virgin America   \n",
       "2           None                        NaN  Virgin America   \n",
       "3     Bad Flight                     0.7033  Virgin America   \n",
       "4     Can't Tell                     1.0000  Virgin America   \n",
       "5     Can't Tell                     0.6842  Virgin America   \n",
       "6           None                     0.0000  Virgin America   \n",
       "7           None                        NaN  Virgin America   \n",
       "8           None                        NaN  Virgin America   \n",
       "9           None                        NaN  Virgin America   \n",
       "\n",
       "  airline_sentiment_gold        name negativereason_gold  retweet_count  \\\n",
       "0                   None     cairdin                None              0   \n",
       "1                   None    jnardino                None              0   \n",
       "2                   None  yvonnalynn                None              0   \n",
       "3                   None    jnardino                None              0   \n",
       "4                   None    jnardino                None              0   \n",
       "5                   None    jnardino                None              0   \n",
       "6                   None  cjmcginnis                None              0   \n",
       "7                   None       pilot                None              0   \n",
       "8                   None    dhepburn                None              0   \n",
       "9                   None  YupitsTate                None              0   \n",
       "\n",
       "                                                text tweet_coord  \\\n",
       "0                @VirginAmerica What @dhepburn said.        None   \n",
       "1  @VirginAmerica plus you've added commercials t...        None   \n",
       "2  @VirginAmerica I didn't today... Must mean I n...        None   \n",
       "3  @VirginAmerica it's really aggressive to blast...        None   \n",
       "4  @VirginAmerica and it's a really big bad thing...        None   \n",
       "5  @VirginAmerica seriously would pay $30 a fligh...        None   \n",
       "6  @VirginAmerica yes, nearly every time I fly VX...        None   \n",
       "7  @VirginAmerica Really missed a prime opportuni...        None   \n",
       "8    @virginamerica Well, I didn't…but NOW I DO! :-D        None   \n",
       "9  @VirginAmerica it was amazing, and arrived an ...        None   \n",
       "\n",
       "               tweet_created    tweet_location               user_timezone  \n",
       "0  2015-02-24 11:35:52 -0800              None  Eastern Time (US & Canada)  \n",
       "1  2015-02-24 11:15:59 -0800              None  Pacific Time (US & Canada)  \n",
       "2  2015-02-24 11:15:48 -0800         Lets Play  Central Time (US & Canada)  \n",
       "3  2015-02-24 11:15:36 -0800              None  Pacific Time (US & Canada)  \n",
       "4  2015-02-24 11:14:45 -0800              None  Pacific Time (US & Canada)  \n",
       "5  2015-02-24 11:14:33 -0800              None  Pacific Time (US & Canada)  \n",
       "6  2015-02-24 11:13:57 -0800  San Francisco CA  Pacific Time (US & Canada)  \n",
       "7  2015-02-24 11:12:29 -0800       Los Angeles  Pacific Time (US & Canada)  \n",
       "8  2015-02-24 11:11:19 -0800         San Diego  Pacific Time (US & Canada)  \n",
       "9  2015-02-24 10:53:27 -0800       Los Angeles  Eastern Time (US & Canada)  "
      ]
     },
     "execution_count": 5,
     "metadata": {},
     "output_type": "execute_result"
    },
    {
     "data": {
      "application/javascript": [
       "\n",
       "            setTimeout(function() {\n",
       "                var nbb_cell_id = 5;\n",
       "                var nbb_unformatted_code = \"postgres_user = 'dsbc_student'\\npostgres_pw = '7*.8G9QH21'\\npostgres_host = '142.93.121.174'\\npostgres_port = '5432'\\npostgres_db = 'twitter_sentiment'\\n\\nengine = create_engine('postgresql://{}:{}@{}:{}/{}'.format(\\n    postgres_user, postgres_pw, postgres_host, postgres_port, postgres_db))\\n\\ntweets_df = pd.read_sql_query('select * from twitter',con=engine)\\n\\n# no need for an open connection, as we're only doing a single query\\nengine.dispose()\\n\\n\\ntweets_df.head(10)\";\n",
       "                var nbb_formatted_code = \"postgres_user = \\\"dsbc_student\\\"\\npostgres_pw = \\\"7*.8G9QH21\\\"\\npostgres_host = \\\"142.93.121.174\\\"\\npostgres_port = \\\"5432\\\"\\npostgres_db = \\\"twitter_sentiment\\\"\\n\\nengine = create_engine(\\n    \\\"postgresql://{}:{}@{}:{}/{}\\\".format(\\n        postgres_user, postgres_pw, postgres_host, postgres_port, postgres_db\\n    )\\n)\\n\\ntweets_df = pd.read_sql_query(\\\"select * from twitter\\\", con=engine)\\n\\n# no need for an open connection, as we're only doing a single query\\nengine.dispose()\\n\\n\\ntweets_df.head(10)\";\n",
       "                var nbb_cells = Jupyter.notebook.get_cells();\n",
       "                for (var i = 0; i < nbb_cells.length; ++i) {\n",
       "                    if (nbb_cells[i].input_prompt_number == nbb_cell_id) {\n",
       "                        if (nbb_cells[i].get_text() == nbb_unformatted_code) {\n",
       "                             nbb_cells[i].set_text(nbb_formatted_code);\n",
       "                        }\n",
       "                        break;\n",
       "                    }\n",
       "                }\n",
       "            }, 500);\n",
       "            "
      ],
      "text/plain": [
       "<IPython.core.display.Javascript object>"
      ]
     },
     "metadata": {},
     "output_type": "display_data"
    }
   ],
   "source": [
    "postgres_user = \"dsbc_student\"\n",
    "postgres_pw = \"7*.8G9QH21\"\n",
    "postgres_host = \"142.93.121.174\"\n",
    "postgres_port = \"5432\"\n",
    "postgres_db = \"twitter_sentiment\"\n",
    "\n",
    "engine = create_engine(\n",
    "    \"postgresql://{}:{}@{}:{}/{}\".format(\n",
    "        postgres_user, postgres_pw, postgres_host, postgres_port, postgres_db\n",
    "    )\n",
    ")\n",
    "\n",
    "tweets_df = pd.read_sql_query(\"select * from twitter\", con=engine)\n",
    "\n",
    "# no need for an open connection, as we're only doing a single query\n",
    "engine.dispose()\n",
    "\n",
    "\n",
    "tweets_df.head(10)"
   ]
  },
  {
   "cell_type": "code",
   "execution_count": 7,
   "metadata": {},
   "outputs": [
    {
     "data": {
      "application/javascript": [
       "\n",
       "            setTimeout(function() {\n",
       "                var nbb_cell_id = 7;\n",
       "                var nbb_unformatted_code = \"pos_tweets_df = tweets_df[tweets_df[\\\"airline_sentiment\\\"] == \\\"positive\\\"]\\nneg_tweets_df = tweets_df[tweets_df[\\\"airline_sentiment\\\"] == \\\"negative\\\"]\\nnlp = spacy.load(\\\"en\\\", disable=[\\\"parser\\\", \\\"ner\\\"])\\nnlp.add_pipe(nlp.create_pipe(\\\"sentencizer\\\"))\\nnlp.max_length = 20000000\\npos_tweets = \\\" \\\".join(pos_tweets_df[\\\"text\\\"])\\nneg_tweets = \\\" \\\".join(neg_tweets_df[\\\"text\\\"])\\n\\npos_tweets_doc = nlp(pos_tweets)\\nneg_tweets_doc = nlp(neg_tweets)\";\n",
       "                var nbb_formatted_code = \"pos_tweets_df = tweets_df[tweets_df[\\\"airline_sentiment\\\"] == \\\"positive\\\"]\\nneg_tweets_df = tweets_df[tweets_df[\\\"airline_sentiment\\\"] == \\\"negative\\\"]\\nnlp = spacy.load(\\\"en\\\", disable=[\\\"parser\\\", \\\"ner\\\"])\\nnlp.add_pipe(nlp.create_pipe(\\\"sentencizer\\\"))\\nnlp.max_length = 20000000\\npos_tweets = \\\" \\\".join(pos_tweets_df[\\\"text\\\"])\\nneg_tweets = \\\" \\\".join(neg_tweets_df[\\\"text\\\"])\\n\\npos_tweets_doc = nlp(pos_tweets)\\nneg_tweets_doc = nlp(neg_tweets)\";\n",
       "                var nbb_cells = Jupyter.notebook.get_cells();\n",
       "                for (var i = 0; i < nbb_cells.length; ++i) {\n",
       "                    if (nbb_cells[i].input_prompt_number == nbb_cell_id) {\n",
       "                        if (nbb_cells[i].get_text() == nbb_unformatted_code) {\n",
       "                             nbb_cells[i].set_text(nbb_formatted_code);\n",
       "                        }\n",
       "                        break;\n",
       "                    }\n",
       "                }\n",
       "            }, 500);\n",
       "            "
      ],
      "text/plain": [
       "<IPython.core.display.Javascript object>"
      ]
     },
     "metadata": {},
     "output_type": "display_data"
    }
   ],
   "source": [
    "pos_tweets_df = tweets_df[tweets_df[\"airline_sentiment\"] == \"positive\"]\n",
    "neg_tweets_df = tweets_df[tweets_df[\"airline_sentiment\"] == \"negative\"]\n",
    "nlp = spacy.load(\"en\", disable=[\"parser\", \"ner\"])\n",
    "nlp.add_pipe(nlp.create_pipe(\"sentencizer\"))\n",
    "nlp.max_length = 20000000\n",
    "pos_tweets = \" \".join(pos_tweets_df[\"text\"])\n",
    "neg_tweets = \" \".join(neg_tweets_df[\"text\"])\n",
    "\n",
    "pos_tweets_doc = nlp(pos_tweets)\n",
    "neg_tweets_doc = nlp(neg_tweets)"
   ]
  },
  {
   "cell_type": "code",
   "execution_count": 9,
   "metadata": {},
   "outputs": [
    {
     "data": {
      "application/javascript": [
       "\n",
       "            setTimeout(function() {\n",
       "                var nbb_cell_id = 9;\n",
       "                var nbb_unformatted_code = \"# Group into sentences\\n# Use the sentences that have more than one character\\npos_tweets_sents = \\\" \\\".join(\\n    [sent.text for sent in pos_tweets_doc.sents if len(sent.text) > 1]\\n)\\nneg_tweets_sents = \\\" \\\".join(\\n    [sent.text for sent in neg_tweets_doc.sents if len(sent.text) > 1]\\n)\";\n",
       "                var nbb_formatted_code = \"# Group into sentences\\n# Use the sentences that have more than one character\\npos_tweets_sents = \\\" \\\".join(\\n    [sent.text for sent in pos_tweets_doc.sents if len(sent.text) > 1]\\n)\\nneg_tweets_sents = \\\" \\\".join(\\n    [sent.text for sent in neg_tweets_doc.sents if len(sent.text) > 1]\\n)\";\n",
       "                var nbb_cells = Jupyter.notebook.get_cells();\n",
       "                for (var i = 0; i < nbb_cells.length; ++i) {\n",
       "                    if (nbb_cells[i].input_prompt_number == nbb_cell_id) {\n",
       "                        if (nbb_cells[i].get_text() == nbb_unformatted_code) {\n",
       "                             nbb_cells[i].set_text(nbb_formatted_code);\n",
       "                        }\n",
       "                        break;\n",
       "                    }\n",
       "                }\n",
       "            }, 500);\n",
       "            "
      ],
      "text/plain": [
       "<IPython.core.display.Javascript object>"
      ]
     },
     "metadata": {},
     "output_type": "display_data"
    }
   ],
   "source": [
    "# Group into sentences\n",
    "# Use the sentences that have more than one character\n",
    "pos_tweets_sents = \" \".join(\n",
    "    [sent.text for sent in pos_tweets_doc.sents if len(sent.text) > 1]\n",
    ")\n",
    "neg_tweets_sents = \" \".join(\n",
    "    [sent.text for sent in neg_tweets_doc.sents if len(sent.text) > 1]\n",
    ")\n"
   ]
  },
  {
   "cell_type": "code",
   "execution_count": 10,
   "metadata": {},
   "outputs": [
    {
     "data": {
      "application/javascript": [
       "\n",
       "            setTimeout(function() {\n",
       "                var nbb_cell_id = 10;\n",
       "                var nbb_unformatted_code = \"pos_tweet_generator = markovify.Text(pos_tweets_sents, state_size = 3)\\nneg_tweet_generator = markovify.Text(neg_tweets_sents, state_size = 3)\";\n",
       "                var nbb_formatted_code = \"pos_tweet_generator = markovify.Text(pos_tweets_sents, state_size=3)\\nneg_tweet_generator = markovify.Text(neg_tweets_sents, state_size=3)\";\n",
       "                var nbb_cells = Jupyter.notebook.get_cells();\n",
       "                for (var i = 0; i < nbb_cells.length; ++i) {\n",
       "                    if (nbb_cells[i].input_prompt_number == nbb_cell_id) {\n",
       "                        if (nbb_cells[i].get_text() == nbb_unformatted_code) {\n",
       "                             nbb_cells[i].set_text(nbb_formatted_code);\n",
       "                        }\n",
       "                        break;\n",
       "                    }\n",
       "                }\n",
       "            }, 500);\n",
       "            "
      ],
      "text/plain": [
       "<IPython.core.display.Javascript object>"
      ]
     },
     "metadata": {},
     "output_type": "display_data"
    }
   ],
   "source": [
    "pos_tweet_generator = markovify.Text(pos_tweets_sents, state_size=3)\n",
    "neg_tweet_generator = markovify.Text(neg_tweets_sents, state_size=3)"
   ]
  },
  {
   "cell_type": "code",
   "execution_count": 13,
   "metadata": {
    "scrolled": true
   },
   "outputs": [
    {
     "name": "stdout",
     "output_type": "stream",
     "text": [
      "@USAirways thanks for the effort!\n",
      "None\n",
      "Looking forward to my global first class flight on your 777 to FRA.\n",
      "-----------------------\n",
      "@AmericanAir Any info for Cancelled Flightled flight was useless to my assistant's trip.\n",
      "@AmericanAir Asked for a waiver of a change fee request from a month ago.\n",
      "Every flight with you guys.\n",
      "-----------------------\n",
      "-----------------------\n",
      "@SouthwestAir crew on flight 475!\n",
      "@AmericanAir Thanks for the help!\n",
      "@united is my favorite airline!\n",
      "-----------------------\n",
      "Now is Late Flight due to mechanical.\n",
      "@united Don't ask me to be loyal if don't let me carry on my bag that had all my ski gear in it.\n",
      "Does that mean I have to wait a whole day to get a refund?\n"
     ]
    },
    {
     "data": {
      "application/javascript": [
       "\n",
       "            setTimeout(function() {\n",
       "                var nbb_cell_id = 13;\n",
       "                var nbb_unformatted_code = \"# Three randomly generated sentences\\nfor i in range(3):\\n    print(pos_tweet_generator.make_sentence())\\nprint(\\\"-----------------------\\\")\\nfor i in range(3):\\n\\n    print(neg_tweet_generator.make_sentence())\\n\\nprint(\\\"-----------------------\\\")\\nprint(\\\"-----------------------\\\")\\n\\n# Three randomly generated sentences of no more than 100 characters\\nfor i in range(3):\\n\\n    print(pos_tweet_generator.make_short_sentence(100))\\nprint(\\\"-----------------------\\\")\\nfor i in range(3):\\n    print(neg_tweet_generator.make_short_sentence(100))\";\n",
       "                var nbb_formatted_code = \"# Three randomly generated sentences\\nfor i in range(3):\\n    print(pos_tweet_generator.make_sentence())\\nprint(\\\"-----------------------\\\")\\nfor i in range(3):\\n\\n    print(neg_tweet_generator.make_sentence())\\n\\nprint(\\\"-----------------------\\\")\\nprint(\\\"-----------------------\\\")\\n\\n# Three randomly generated sentences of no more than 100 characters\\nfor i in range(3):\\n\\n    print(pos_tweet_generator.make_short_sentence(100))\\nprint(\\\"-----------------------\\\")\\nfor i in range(3):\\n    print(neg_tweet_generator.make_short_sentence(100))\";\n",
       "                var nbb_cells = Jupyter.notebook.get_cells();\n",
       "                for (var i = 0; i < nbb_cells.length; ++i) {\n",
       "                    if (nbb_cells[i].input_prompt_number == nbb_cell_id) {\n",
       "                        if (nbb_cells[i].get_text() == nbb_unformatted_code) {\n",
       "                             nbb_cells[i].set_text(nbb_formatted_code);\n",
       "                        }\n",
       "                        break;\n",
       "                    }\n",
       "                }\n",
       "            }, 500);\n",
       "            "
      ],
      "text/plain": [
       "<IPython.core.display.Javascript object>"
      ]
     },
     "metadata": {},
     "output_type": "display_data"
    }
   ],
   "source": [
    "# Three randomly generated sentences\n",
    "for i in range(3):\n",
    "    print(pos_tweet_generator.make_sentence())\n",
    "print(\"-----------------------\")\n",
    "for i in range(3):\n",
    "\n",
    "    print(neg_tweet_generator.make_sentence())\n",
    "\n",
    "print(\"-----------------------\")\n",
    "print(\"-----------------------\")\n",
    "\n",
    "# Three randomly generated sentences of no more than 100 characters\n",
    "for i in range(3):\n",
    "\n",
    "    print(pos_tweet_generator.make_short_sentence(100))\n",
    "print(\"-----------------------\")\n",
    "for i in range(3):\n",
    "    print(neg_tweet_generator.make_short_sentence(100))"
   ]
  },
  {
   "cell_type": "code",
   "execution_count": 14,
   "metadata": {},
   "outputs": [
    {
     "data": {
      "application/javascript": [
       "\n",
       "            setTimeout(function() {\n",
       "                var nbb_cell_id = 14;\n",
       "                var nbb_unformatted_code = \"class POSifiedText(markovify.Text):\\n    \\n    def word_split(self, sentence):\\n        return [\\\"::\\\".join((word.orth_, word.pos_)) for word in nlp(sentence)]\\n\\n    def word_join(self, words):\\n        sentence = \\\" \\\".join(word.split(\\\"::\\\")[0] for word in words)\\n        return sentence\";\n",
       "                var nbb_formatted_code = \"class POSifiedText(markovify.Text):\\n    def word_split(self, sentence):\\n        return [\\\"::\\\".join((word.orth_, word.pos_)) for word in nlp(sentence)]\\n\\n    def word_join(self, words):\\n        sentence = \\\" \\\".join(word.split(\\\"::\\\")[0] for word in words)\\n        return sentence\";\n",
       "                var nbb_cells = Jupyter.notebook.get_cells();\n",
       "                for (var i = 0; i < nbb_cells.length; ++i) {\n",
       "                    if (nbb_cells[i].input_prompt_number == nbb_cell_id) {\n",
       "                        if (nbb_cells[i].get_text() == nbb_unformatted_code) {\n",
       "                             nbb_cells[i].set_text(nbb_formatted_code);\n",
       "                        }\n",
       "                        break;\n",
       "                    }\n",
       "                }\n",
       "            }, 500);\n",
       "            "
      ],
      "text/plain": [
       "<IPython.core.display.Javascript object>"
      ]
     },
     "metadata": {},
     "output_type": "display_data"
    }
   ],
   "source": [
    "class POSifiedText(markovify.Text):\n",
    "    def word_split(self, sentence):\n",
    "        return [\"::\".join((word.orth_, word.pos_)) for word in nlp(sentence)]\n",
    "\n",
    "    def word_join(self, words):\n",
    "        sentence = \" \".join(word.split(\"::\")[0] for word in words)\n",
    "        return sentence"
   ]
  },
  {
   "cell_type": "code",
   "execution_count": 15,
   "metadata": {},
   "outputs": [
    {
     "data": {
      "application/javascript": [
       "\n",
       "            setTimeout(function() {\n",
       "                var nbb_cell_id = 15;\n",
       "                var nbb_unformatted_code = \"pos_tweet_generator = POSifiedText(pos_tweets_sents, state_size = 3)\\nneg_tweet_generator = POSifiedText(neg_tweets_sents, state_size = 3)\";\n",
       "                var nbb_formatted_code = \"pos_tweet_generator = POSifiedText(pos_tweets_sents, state_size=3)\\nneg_tweet_generator = POSifiedText(neg_tweets_sents, state_size=3)\";\n",
       "                var nbb_cells = Jupyter.notebook.get_cells();\n",
       "                for (var i = 0; i < nbb_cells.length; ++i) {\n",
       "                    if (nbb_cells[i].input_prompt_number == nbb_cell_id) {\n",
       "                        if (nbb_cells[i].get_text() == nbb_unformatted_code) {\n",
       "                             nbb_cells[i].set_text(nbb_formatted_code);\n",
       "                        }\n",
       "                        break;\n",
       "                    }\n",
       "                }\n",
       "            }, 500);\n",
       "            "
      ],
      "text/plain": [
       "<IPython.core.display.Javascript object>"
      ]
     },
     "metadata": {},
     "output_type": "display_data"
    }
   ],
   "source": [
    "pos_tweet_generator = POSifiedText(pos_tweets_sents, state_size=3)\n",
    "neg_tweet_generator = POSifiedText(neg_tweets_sents, state_size=3)"
   ]
  },
  {
   "cell_type": "code",
   "execution_count": 19,
   "metadata": {},
   "outputs": [
    {
     "name": "stdout",
     "output_type": "stream",
     "text": [
      "@united Got me home amid snow & amp ; the wifi is appreciated .\n",
      "Thank you ! ! Yayayay ! ! @AmericanAir thx , just sent the DM @AmericanAir Kudos to the captain and crew for handling fustrated people while dealing with the weather !\n",
      "None\n",
      "-----------------------\n",
      "@AmericanAir Now your site is down ?\n",
      "None\n",
      "@USAirways hour 4 at the gate for the broken jetway .\n",
      "-----------------------\n",
      "-----------------------\n",
      "Excited to fly with you guys .\n",
      "Her flight leaves at 2 but she 's arriving to the airport the rebooked ticket was refunded .\n",
      "Y’all have a good one ! ! @AmericanAir Eventually the call got through .\n",
      "-----------------------\n",
      "@united Stuck in Houston because you ca n't even describe .\n",
      "They 're flexible & amp ; asked if I wanted to .\n",
      "@JetBlue trying to charge me an additional $ 200 fee .\n"
     ]
    },
    {
     "data": {
      "application/javascript": [
       "\n",
       "            setTimeout(function() {\n",
       "                var nbb_cell_id = 19;\n",
       "                var nbb_unformatted_code = \"# Three randomly generated sentences\\nfor i in range(3):\\n    print(pos_tweet_generator.make_sentence())\\nprint(\\\"-----------------------\\\")\\nfor i in range(3):\\n\\n    print(neg_tweet_generator.make_sentence())\\n\\nprint(\\\"-----------------------\\\")\\nprint(\\\"-----------------------\\\")\\n\\n# Three randomly generated sentences of no more than 100 characters\\nfor i in range(3):\\n\\n    print(pos_tweet_generator.make_short_sentence(100))\\nprint(\\\"-----------------------\\\")\\nfor i in range(3):\\n    print(neg_tweet_generator.make_short_sentence(100))\";\n",
       "                var nbb_formatted_code = \"# Three randomly generated sentences\\nfor i in range(3):\\n    print(pos_tweet_generator.make_sentence())\\nprint(\\\"-----------------------\\\")\\nfor i in range(3):\\n\\n    print(neg_tweet_generator.make_sentence())\\n\\nprint(\\\"-----------------------\\\")\\nprint(\\\"-----------------------\\\")\\n\\n# Three randomly generated sentences of no more than 100 characters\\nfor i in range(3):\\n\\n    print(pos_tweet_generator.make_short_sentence(100))\\nprint(\\\"-----------------------\\\")\\nfor i in range(3):\\n    print(neg_tweet_generator.make_short_sentence(100))\";\n",
       "                var nbb_cells = Jupyter.notebook.get_cells();\n",
       "                for (var i = 0; i < nbb_cells.length; ++i) {\n",
       "                    if (nbb_cells[i].input_prompt_number == nbb_cell_id) {\n",
       "                        if (nbb_cells[i].get_text() == nbb_unformatted_code) {\n",
       "                             nbb_cells[i].set_text(nbb_formatted_code);\n",
       "                        }\n",
       "                        break;\n",
       "                    }\n",
       "                }\n",
       "            }, 500);\n",
       "            "
      ],
      "text/plain": [
       "<IPython.core.display.Javascript object>"
      ]
     },
     "metadata": {},
     "output_type": "display_data"
    }
   ],
   "source": [
    "# Three randomly generated sentences\n",
    "for i in range(3):\n",
    "    print(pos_tweet_generator.make_sentence())\n",
    "print(\"-----------------------\")\n",
    "for i in range(3):\n",
    "\n",
    "    print(neg_tweet_generator.make_sentence())\n",
    "\n",
    "print(\"-----------------------\")\n",
    "print(\"-----------------------\")\n",
    "\n",
    "# Three randomly generated sentences of no more than 100 characters\n",
    "for i in range(3):\n",
    "\n",
    "    print(pos_tweet_generator.make_short_sentence(100))\n",
    "print(\"-----------------------\")\n",
    "for i in range(3):\n",
    "    print(neg_tweet_generator.make_short_sentence(100))"
   ]
  },
  {
   "cell_type": "code",
   "execution_count": null,
   "metadata": {},
   "outputs": [],
   "source": []
  }
 ],
 "metadata": {
  "kernelspec": {
   "display_name": "Python 3",
   "language": "python",
   "name": "python3"
  },
  "language_info": {
   "codemirror_mode": {
    "name": "ipython",
    "version": 3
   },
   "file_extension": ".py",
   "mimetype": "text/x-python",
   "name": "python",
   "nbconvert_exporter": "python",
   "pygments_lexer": "ipython3",
   "version": "3.7.6"
  }
 },
 "nbformat": 4,
 "nbformat_minor": 4
}
