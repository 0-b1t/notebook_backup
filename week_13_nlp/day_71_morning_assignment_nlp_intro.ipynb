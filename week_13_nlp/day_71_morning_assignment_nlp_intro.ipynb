{
 "cells": [
  {
   "cell_type": "markdown",
   "metadata": {},
   "source": [
    "\n",
    "* What properties of language make it difficult to analyze?\n",
    "* What is the difference between a lexicon and a grammar?\n",
    "* What is the difference between syntax and morphology?\n",
    "* What is the difference between a word stem and a lemma?\n",
    "* Name 4 examples of parts of speech.\n",
    "* What are some examples of named entities?\n",
    "* What are the steps in the NLP workflow?\n",
    "* Provide 3 examples of real-world NLP applications.\n"
   ]
  },
  {
   "cell_type": "markdown",
   "metadata": {},
   "source": [
    "#### What properties of language make it difficult to analyze?\n",
    "\n",
    "Unstructured. Language is fluid. There isn't really a hard rule on the order of words, especially when looking at something like poetry. Also, language is dynamic. Words change. Their meaning changes. People use them in unexpected ways. The main thing being that language is largely arbitrary and doesn't necessarily have a one to one relationship with reality like numbers often do (at least in a prequantum sense)\n",
    "\n",
    "**Language is flexible, ambiguous, and dynamic. This makes it useful for communication but difficult to analyze.**"
   ]
  },
  {
   "cell_type": "markdown",
   "metadata": {},
   "source": [
    "#### What is the difference between a lexicon and a grammar?\n",
    "\n",
    "Lexicon is the body of words being used. Could be more jargon or slang depending on the context. Grammar has more to do with structure.\n",
    "\n",
    "**Lexicon - body of knowledge about a language including the forms, meanings, usage, categories, and relationships of words and phrases.**\n",
    "\n",
    "**Grammar - system and structure of a language, consisting of syntax and morphology (and sometimes also phonology and semantics).**\n"
   ]
  },
  {
   "cell_type": "markdown",
   "metadata": {},
   "source": [
    "#### What is the difference between syntax and morphology?\n",
    "\n",
    "Syntax has more to do with the order of the words and how that changes their meaning or use. Morphology has more to do with how the actual meaning of words changes over time and their use.\n",
    "\n",
    "**Syntax - set of rules, principles, and processes that govern the structure of sentences in a given language.\n",
    "**\n",
    "\n",
    "**Morphology - the study of how words are formed, their structure, and their relationships to other words.**"
   ]
  },
  {
   "cell_type": "markdown",
   "metadata": {},
   "source": [
    "#### What is the difference between a word stem and a lemma?\n",
    "\n",
    "Stem is something that is affixed to. The lemma is the root or base of the word\n",
    "\n",
    "**Stem - form of a word to which affixes (prefix or suffix) can be attached.\n",
    "Word: puppies\n",
    "Stem: puppi**\n",
    "\n",
    "**Lemma - root or base form of a word.\n",
    "Word: puppies\n",
    "Lemma: puppy**"
   ]
  },
  {
   "cell_type": "markdown",
   "metadata": {},
   "source": [
    "#### Name 4 examples of parts of speech.\n",
    "\n",
    "noun, verb, adjective, adverb"
   ]
  },
  {
   "cell_type": "markdown",
   "metadata": {},
   "source": [
    "#### What are some examples of named entities?\n",
    "\n",
    "Names of companies, people, or any other group of nouns.\n",
    "\n",
    "**Named entity - words (or a group of words) in a sentence that indicate a predefined category of objects (entities). These categories include names of people, organizations, locations, time expressions, quantities, monetary values, percentages, etc.**"
   ]
  },
  {
   "cell_type": "markdown",
   "metadata": {},
   "source": [
    "#### What are the steps in the NLP workflow?\n",
    "\n",
    "Analysis, vectorization, feature engineering, modeling, deployment\n",
    "\n",
    "* Text Data Acquisition - getting text data from sources.\n",
    "* Corpus Building and Storage - organizing and storing the data.\n",
    "* Preprocessing - cleaning, tokenizing, and tagging the data.\n",
    "* Text Analysis - exploring and analyzing the data to extract insights.\n",
    "* Vectorization - engineering features and preparing the data for modeling.\n",
    "* Modeling - applying machine learning algorithms to text data.\n",
    "* Operationalization - deploying models and creating language-powered data products.**"
   ]
  },
  {
   "cell_type": "markdown",
   "metadata": {},
   "source": [
    "#### Provide 3 examples of real-world NLP applications.\n",
    "\n",
    "Search engine, chatbot, spam filtering\n",
    "\n",
    "* Spam Filtering\n",
    "* Search Results\n",
    "* Newsfeed Curation\n",
    "* Sentiment Analysis\n",
    "* Chatbots\n",
    "* Digital Assistants (Siri, Alexa, Cortana, etc.)\n",
    "* Language Detection\n",
    "* Machine Translation\n",
    "* Language Generation\n"
   ]
  }
 ],
 "metadata": {
  "kernelspec": {
   "display_name": "Python 3",
   "language": "python",
   "name": "python3"
  },
  "language_info": {
   "codemirror_mode": {
    "name": "ipython",
    "version": 3
   },
   "file_extension": ".py",
   "mimetype": "text/x-python",
   "name": "python",
   "nbconvert_exporter": "python",
   "pygments_lexer": "ipython3",
   "version": "3.7.6"
  }
 },
 "nbformat": 4,
 "nbformat_minor": 4
}
