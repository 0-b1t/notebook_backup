{
 "cells": [
  {
   "cell_type": "code",
   "execution_count": 1,
   "metadata": {},
   "outputs": [
    {
     "data": {
      "application/javascript": [
       "\n",
       "            setTimeout(function() {\n",
       "                var nbb_cell_id = 1;\n",
       "                var nbb_unformatted_code = \"%reload_ext nb_black\";\n",
       "                var nbb_formatted_code = \"%reload_ext nb_black\";\n",
       "                var nbb_cells = Jupyter.notebook.get_cells();\n",
       "                for (var i = 0; i < nbb_cells.length; ++i) {\n",
       "                    if (nbb_cells[i].input_prompt_number == nbb_cell_id) {\n",
       "                        if (nbb_cells[i].get_text() == nbb_unformatted_code) {\n",
       "                             nbb_cells[i].set_text(nbb_formatted_code);\n",
       "                        }\n",
       "                        break;\n",
       "                    }\n",
       "                }\n",
       "            }, 500);\n",
       "            "
      ],
      "text/plain": [
       "<IPython.core.display.Javascript object>"
      ]
     },
     "metadata": {},
     "output_type": "display_data"
    }
   ],
   "source": [
    "%reload_ext nb_black"
   ]
  },
  {
   "cell_type": "markdown",
   "metadata": {
    "colab_type": "text",
    "id": "9pYhNHOMPsIj"
   },
   "source": [
    "# Text Summarization and Natural Language Generation Assignment"
   ]
  },
  {
   "cell_type": "code",
   "execution_count": 2,
   "metadata": {
    "colab": {},
    "colab_type": "code",
    "id": "5f3HWPFkPsIk"
   },
   "outputs": [
    {
     "data": {
      "application/javascript": [
       "\n",
       "            setTimeout(function() {\n",
       "                var nbb_cell_id = 2;\n",
       "                var nbb_unformatted_code = \"import re\\nimport requests\\nfrom bs4 import BeautifulSoup\\nimport markovify\\nimport nltk\\nfrom nltk import pos_tag\\nfrom nltk import sent_tokenize\\nfrom gensim.summarization import summarize\";\n",
       "                var nbb_formatted_code = \"import re\\nimport requests\\nfrom bs4 import BeautifulSoup\\nimport markovify\\nimport nltk\\nfrom nltk import pos_tag\\nfrom nltk import sent_tokenize\\nfrom gensim.summarization import summarize\";\n",
       "                var nbb_cells = Jupyter.notebook.get_cells();\n",
       "                for (var i = 0; i < nbb_cells.length; ++i) {\n",
       "                    if (nbb_cells[i].input_prompt_number == nbb_cell_id) {\n",
       "                        if (nbb_cells[i].get_text() == nbb_unformatted_code) {\n",
       "                             nbb_cells[i].set_text(nbb_formatted_code);\n",
       "                        }\n",
       "                        break;\n",
       "                    }\n",
       "                }\n",
       "            }, 500);\n",
       "            "
      ],
      "text/plain": [
       "<IPython.core.display.Javascript object>"
      ]
     },
     "metadata": {},
     "output_type": "display_data"
    }
   ],
   "source": [
    "import re\n",
    "import requests\n",
    "from bs4 import BeautifulSoup\n",
    "import markovify\n",
    "import nltk\n",
    "from nltk import pos_tag\n",
    "from nltk import sent_tokenize\n",
    "from gensim.summarization import summarize"
   ]
  },
  {
   "cell_type": "markdown",
   "metadata": {
    "colab_type": "text",
    "id": "TClncKT6PsIm"
   },
   "source": [
    "### Scrape and clean the text from the 3 Presidential State of the Union Address URLs below and save them into a list."
   ]
  },
  {
   "cell_type": "code",
   "execution_count": 3,
   "metadata": {
    "colab": {},
    "colab_type": "code",
    "id": "iuF8XmYePsIn"
   },
   "outputs": [
    {
     "data": {
      "application/javascript": [
       "\n",
       "            setTimeout(function() {\n",
       "                var nbb_cell_id = 3;\n",
       "                var nbb_unformatted_code = \"lincoln = \\\"https://en.wikisource.org/wiki/Abraham_Lincoln%27s_First_State_of_the_Union_Address\\\"\\nroosevelt = \\\"https://en.wikisource.org/wiki/Theodore_Roosevelt%27s_First_State_of_the_Union_Address\\\"\\nobama = (\\n    \\\"https://en.wikisource.org/wiki/Barack_Obama%27s_Second_State_of_the_Union_Address\\\"\\n)\\nurls = {\\\"lincoln\\\": lincoln, \\\"roosevelt\\\": roosevelt, \\\"obama\\\": obama}\";\n",
       "                var nbb_formatted_code = \"lincoln = \\\"https://en.wikisource.org/wiki/Abraham_Lincoln%27s_First_State_of_the_Union_Address\\\"\\nroosevelt = \\\"https://en.wikisource.org/wiki/Theodore_Roosevelt%27s_First_State_of_the_Union_Address\\\"\\nobama = (\\n    \\\"https://en.wikisource.org/wiki/Barack_Obama%27s_Second_State_of_the_Union_Address\\\"\\n)\\nurls = {\\\"lincoln\\\": lincoln, \\\"roosevelt\\\": roosevelt, \\\"obama\\\": obama}\";\n",
       "                var nbb_cells = Jupyter.notebook.get_cells();\n",
       "                for (var i = 0; i < nbb_cells.length; ++i) {\n",
       "                    if (nbb_cells[i].input_prompt_number == nbb_cell_id) {\n",
       "                        if (nbb_cells[i].get_text() == nbb_unformatted_code) {\n",
       "                             nbb_cells[i].set_text(nbb_formatted_code);\n",
       "                        }\n",
       "                        break;\n",
       "                    }\n",
       "                }\n",
       "            }, 500);\n",
       "            "
      ],
      "text/plain": [
       "<IPython.core.display.Javascript object>"
      ]
     },
     "metadata": {},
     "output_type": "display_data"
    }
   ],
   "source": [
    "lincoln = \"https://en.wikisource.org/wiki/Abraham_Lincoln%27s_First_State_of_the_Union_Address\"\n",
    "roosevelt = \"https://en.wikisource.org/wiki/Theodore_Roosevelt%27s_First_State_of_the_Union_Address\"\n",
    "obama = (\n",
    "    \"https://en.wikisource.org/wiki/Barack_Obama%27s_Second_State_of_the_Union_Address\"\n",
    ")\n",
    "urls = {\"lincoln\": lincoln, \"roosevelt\": roosevelt, \"obama\": obama}"
   ]
  },
  {
   "cell_type": "code",
   "execution_count": 4,
   "metadata": {},
   "outputs": [
    {
     "data": {
      "application/javascript": [
       "\n",
       "            setTimeout(function() {\n",
       "                var nbb_cell_id = 4;\n",
       "                var nbb_unformatted_code = \"full_texts = {}\\n\\nfor pres, url in urls.items():\\n    response = requests.get(url)\\n    content = response.text\\n    soup = BeautifulSoup(content)\\n    text = [\\n        p.text.replace(\\\"\\\\n\\\", \\\"\\\").strip()\\n        for p in soup.find(\\\"div\\\", class_=\\\"mw-parser-output\\\").find_all(\\\"p\\\")\\n    ]\\n\\n    full_texts[pres] = \\\" \\\".join(text)\";\n",
       "                var nbb_formatted_code = \"full_texts = {}\\n\\nfor pres, url in urls.items():\\n    response = requests.get(url)\\n    content = response.text\\n    soup = BeautifulSoup(content)\\n    text = [\\n        p.text.replace(\\\"\\\\n\\\", \\\"\\\").strip()\\n        for p in soup.find(\\\"div\\\", class_=\\\"mw-parser-output\\\").find_all(\\\"p\\\")\\n    ]\\n\\n    full_texts[pres] = \\\" \\\".join(text)\";\n",
       "                var nbb_cells = Jupyter.notebook.get_cells();\n",
       "                for (var i = 0; i < nbb_cells.length; ++i) {\n",
       "                    if (nbb_cells[i].input_prompt_number == nbb_cell_id) {\n",
       "                        if (nbb_cells[i].get_text() == nbb_unformatted_code) {\n",
       "                             nbb_cells[i].set_text(nbb_formatted_code);\n",
       "                        }\n",
       "                        break;\n",
       "                    }\n",
       "                }\n",
       "            }, 500);\n",
       "            "
      ],
      "text/plain": [
       "<IPython.core.display.Javascript object>"
      ]
     },
     "metadata": {},
     "output_type": "display_data"
    }
   ],
   "source": [
    "full_texts = {}\n",
    "\n",
    "for pres, url in urls.items():\n",
    "    response = requests.get(url)\n",
    "    content = response.text\n",
    "    soup = BeautifulSoup(content)\n",
    "    text = [\n",
    "        p.text.replace(\"\\n\", \"\").strip()\n",
    "        for p in soup.find(\"div\", class_=\"mw-parser-output\").find_all(\"p\")\n",
    "    ]\n",
    "\n",
    "    full_texts[pres] = \" \".join(text)"
   ]
  },
  {
   "cell_type": "markdown",
   "metadata": {
    "colab_type": "text",
    "id": "dl0uAJJDPsIs"
   },
   "source": [
    "### For each State of the Union Address, use the Gensim `summarize` function and print a summary of each address approximately 200 words long."
   ]
  },
  {
   "cell_type": "code",
   "execution_count": 5,
   "metadata": {},
   "outputs": [
    {
     "name": "stdout",
     "output_type": "stream",
     "text": [
      "Lincoln:\n",
      "But the powers of Congress, I suppose, are equal to the anomalous occasion, and therefore I refer the whole matter to Congress, with the hope that a plan may be devised for the administration of justice in all such parts of the insurgent States and Territories as may be under the control of this Government, whether by a voluntary return to allegiance and order or by the power of our arms; this, however, not to be a permanent institution, but a temporary substitute, and to cease as soon as the ordinay courts can be reestablished in peace.\n",
      "In such case I recommend that Congress provide for accepting such persons from such States, according to some mode of valuation, in lieu, pro tanto, of direct taxes, or upon some other plan to be agreed on with such States respectively; that such persons, on such acceptance by the General Government, be at once deemed free, and that in any event steps be taken for colonizing both classes (or the one first mentioned if the other shall not be brought into existence) at some place or places in a climate congenial to them.\n",
      "-------------------------------------\n",
      "Roosevelt:\n",
      "Just how far this is must be determined according to the individual case, remembering always that every application of our tariff policy to meet our shifting national needs must be conditioned upon the cardinal fact that the duties must never be reduced below the point that will cover the difference between the labor cost here and abroad.\n",
      "The Congressmen who voted years in advance the money to lay down the ships, to build the guns, to buy the armor-plate; the Department officials and the business men and wage-workers who furnished what the Congress had authorized; the Secretaries of the Navy who asked for and expended the appropriations; and finally the officers who, in fair weather and foul, on actual sea service, trained and disciplined the crews of the ships when there was no war in sight—all are entitled to a full share in the glory of Manila and Santiago, and the respect accorded by every true American to those who wrought such signal triumph for our country.\n",
      "-------------------------------------\n",
      "Obama:\n",
      "(Applause.) Now, as we stabilized the financial system, we also took steps to get our economy growing again, save as many jobs as possible, and help Americans who had become unemployed.\n",
      "(Laughter and applause.) As a result, millions of Americans had more to spend on gas and food and other necessities, all of which helped businesses keep more workers.\n",
      "(Applause.)  And to encourage these and other businesses to stay within our borders, it is time to finally slash the tax breaks for companies that ship our jobs overseas, and give those tax breaks to companies that create jobs right here in the United States of America.\n",
      "You can see the results of last year's investments in clean energy -– in the North Carolina company that will create 1,200 jobs nationwide helping to make advanced batteries; or in the California business that will put a thousand people to work making solar panels.\n",
      "(Applause.)  So tonight, we set a new goal:  We will double our exports over the next five years, an increase that will support two million jobs in America.\n",
      "(Applause.)  This year, I will work with Congress and our military to finally repeal the law that denies gay Americans the right to serve the country they love because of who they are.\n",
      "-------------------------------------\n"
     ]
    },
    {
     "data": {
      "application/javascript": [
       "\n",
       "            setTimeout(function() {\n",
       "                var nbb_cell_id = 5;\n",
       "                var nbb_unformatted_code = \"for pres, speech in full_texts.items():\\n    print(pres.title() + \\\":\\\")\\n    print(summarize(speech, word_count=200))\\n    print(\\\"-------------------------------------\\\")\";\n",
       "                var nbb_formatted_code = \"for pres, speech in full_texts.items():\\n    print(pres.title() + \\\":\\\")\\n    print(summarize(speech, word_count=200))\\n    print(\\\"-------------------------------------\\\")\";\n",
       "                var nbb_cells = Jupyter.notebook.get_cells();\n",
       "                for (var i = 0; i < nbb_cells.length; ++i) {\n",
       "                    if (nbb_cells[i].input_prompt_number == nbb_cell_id) {\n",
       "                        if (nbb_cells[i].get_text() == nbb_unformatted_code) {\n",
       "                             nbb_cells[i].set_text(nbb_formatted_code);\n",
       "                        }\n",
       "                        break;\n",
       "                    }\n",
       "                }\n",
       "            }, 500);\n",
       "            "
      ],
      "text/plain": [
       "<IPython.core.display.Javascript object>"
      ]
     },
     "metadata": {},
     "output_type": "display_data"
    }
   ],
   "source": [
    "for pres, speech in full_texts.items():\n",
    "    print(pres.title() + \":\")\n",
    "    print(summarize(speech, word_count=200))\n",
    "    print(\"-------------------------------------\")"
   ]
  },
  {
   "cell_type": "markdown",
   "metadata": {
    "colab_type": "text",
    "id": "VIJ9tOFyPsIv"
   },
   "source": [
    "### Sentence tokenize each address and save the tokenized sentences to a separate list."
   ]
  },
  {
   "cell_type": "code",
   "execution_count": 6,
   "metadata": {},
   "outputs": [
    {
     "data": {
      "application/javascript": [
       "\n",
       "            setTimeout(function() {\n",
       "                var nbb_cell_id = 6;\n",
       "                var nbb_unformatted_code = \"speech_sents = {}\\nfor pres, speech in full_texts.items():\\n    speech_sents[pres] = sent_tokenize(speech)\";\n",
       "                var nbb_formatted_code = \"speech_sents = {}\\nfor pres, speech in full_texts.items():\\n    speech_sents[pres] = sent_tokenize(speech)\";\n",
       "                var nbb_cells = Jupyter.notebook.get_cells();\n",
       "                for (var i = 0; i < nbb_cells.length; ++i) {\n",
       "                    if (nbb_cells[i].input_prompt_number == nbb_cell_id) {\n",
       "                        if (nbb_cells[i].get_text() == nbb_unformatted_code) {\n",
       "                             nbb_cells[i].set_text(nbb_formatted_code);\n",
       "                        }\n",
       "                        break;\n",
       "                    }\n",
       "                }\n",
       "            }, 500);\n",
       "            "
      ],
      "text/plain": [
       "<IPython.core.display.Javascript object>"
      ]
     },
     "metadata": {},
     "output_type": "display_data"
    }
   ],
   "source": [
    "speech_sents = {}\n",
    "for pres, speech in full_texts.items():\n",
    "    speech_sents[pres] = sent_tokenize(speech)"
   ]
  },
  {
   "cell_type": "markdown",
   "metadata": {
    "colab_type": "text",
    "id": "vcoMsb_sPsIx"
   },
   "source": [
    "### Train a Markov chain model for each tokenized address and generate 5 sentences based on the language used for each one."
   ]
  },
  {
   "cell_type": "code",
   "execution_count": 7,
   "metadata": {},
   "outputs": [
    {
     "name": "stdout",
     "output_type": "stream",
     "text": [
      "Lincoln:\n",
      "Much of the national loan has been taken by citizens of the United States steamer Massachusetts for a supposed breach of the blockade.\n",
      "Two mates of vessels engaged in the practical administration of them.\n",
      "I repeat the recommendation of the Secretary of the Navy by introducing additional grades in the service.\n",
      "Again, as has already been said, there is not of necessity any such thing as a free man being fixed for life in the condition of the entire Army.\n",
      "I submit, therefore, for your consideration the expediency of regaining that part of the District of Columbia.\n",
      "In those documents we find the abridgment of the existing war, have already been made.\n",
      "---------------------\n",
      "Roosevelt:\n",
      "In all industries carried on directly or indirectly for the United States have been committed to the Smithsonian Institution.\n",
      "For the sake of the welfare of any other portion of our country.\n",
      "The standard of living on our ships is far superior to the standard of living is also higher than ever before.\n",
      "Not only must our labor be protected by the tariff, but it should also be made preserves for the wild forest creatures.\n",
      "As for the present staff and supply departments, they should be promptly deported to the country whence they came; and far-reaching.\n",
      "The shock, the grief of the country, to glory in the valor shown alike by the sons of the South in the times that tried men's souls.\n",
      "---------------------\n",
      "Obama:\n",
      "And this year I'm eager to see it.\n",
      "We find unity in our incredible diversity, drawing on the promise of change –- change we can believe in, the slogan went.\n",
      "I'm absolutely convinced that was the right thing to do for our future -– because the nation that leads the global economy.\n",
      "Instead, let's take that money and give families a $10,000 tax credit for those who start a nest egg.\n",
      "Let's leave behind the fear and division, and do what it took to rescue the economy last year.\n",
      "From the first railroads to the Interstate Highway System, our nation has always been at the core of the American people, that lives on.\n",
      "---------------------\n"
     ]
    },
    {
     "data": {
      "application/javascript": [
       "\n",
       "            setTimeout(function() {\n",
       "                var nbb_cell_id = 7;\n",
       "                var nbb_unformatted_code = \"for pres, sents in speech_sents.items():\\n    model = markovify.Text(sents, state_size=3)\\n    sentence_list = []\\n    print(pres.title() + \\\":\\\")\\n    while len(sentence_list) <= 5:\\n        sentence = model.make_short_sentence(max_chars=200, min_chars=30, tries=100)\\n        if sentence not in sentence_list:\\n            sentence_list.append(sentence)\\n            print(sentence, end=\\\"\\\\n\\\")\\n    print(\\\"---------------------\\\")\";\n",
       "                var nbb_formatted_code = \"for pres, sents in speech_sents.items():\\n    model = markovify.Text(sents, state_size=3)\\n    sentence_list = []\\n    print(pres.title() + \\\":\\\")\\n    while len(sentence_list) <= 5:\\n        sentence = model.make_short_sentence(max_chars=200, min_chars=30, tries=100)\\n        if sentence not in sentence_list:\\n            sentence_list.append(sentence)\\n            print(sentence, end=\\\"\\\\n\\\")\\n    print(\\\"---------------------\\\")\";\n",
       "                var nbb_cells = Jupyter.notebook.get_cells();\n",
       "                for (var i = 0; i < nbb_cells.length; ++i) {\n",
       "                    if (nbb_cells[i].input_prompt_number == nbb_cell_id) {\n",
       "                        if (nbb_cells[i].get_text() == nbb_unformatted_code) {\n",
       "                             nbb_cells[i].set_text(nbb_formatted_code);\n",
       "                        }\n",
       "                        break;\n",
       "                    }\n",
       "                }\n",
       "            }, 500);\n",
       "            "
      ],
      "text/plain": [
       "<IPython.core.display.Javascript object>"
      ]
     },
     "metadata": {},
     "output_type": "display_data"
    }
   ],
   "source": [
    "for pres, sents in speech_sents.items():\n",
    "    model = markovify.Text(sents, state_size=3)\n",
    "    sentence_list = []\n",
    "    print(pres.title() + \":\")\n",
    "    while len(sentence_list) <= 5:\n",
    "        sentence = model.make_short_sentence(max_chars=200, min_chars=30, tries=100)\n",
    "        if sentence not in sentence_list:\n",
    "            sentence_list.append(sentence)\n",
    "            print(sentence, end=\"\\n\")\n",
    "    print(\"---------------------\")"
   ]
  },
  {
   "cell_type": "markdown",
   "metadata": {
    "colab_type": "text",
    "id": "wxM3DVddPsI0"
   },
   "source": [
    "### Add part of speech tags to the Markov chain model and regenerate 5 sentences for each address."
   ]
  },
  {
   "cell_type": "code",
   "execution_count": 8,
   "metadata": {},
   "outputs": [
    {
     "data": {
      "application/javascript": [
       "\n",
       "            setTimeout(function() {\n",
       "                var nbb_cell_id = 8;\n",
       "                var nbb_unformatted_code = \"class POSifiedText(markovify.Text):\\n    def word_split(self, sentence):\\n        words = re.split(self.word_split_pattern, sentence)\\n        words = [\\\"::\\\".join(tag) for tag in nltk.pos_tag(words)]\\n        return words\\n\\n    def word_join(self, words):\\n        sentence = \\\" \\\".join(word.split(\\\"::\\\")[0] for word in words)\\n        return sentence\";\n",
       "                var nbb_formatted_code = \"class POSifiedText(markovify.Text):\\n    def word_split(self, sentence):\\n        words = re.split(self.word_split_pattern, sentence)\\n        words = [\\\"::\\\".join(tag) for tag in nltk.pos_tag(words)]\\n        return words\\n\\n    def word_join(self, words):\\n        sentence = \\\" \\\".join(word.split(\\\"::\\\")[0] for word in words)\\n        return sentence\";\n",
       "                var nbb_cells = Jupyter.notebook.get_cells();\n",
       "                for (var i = 0; i < nbb_cells.length; ++i) {\n",
       "                    if (nbb_cells[i].input_prompt_number == nbb_cell_id) {\n",
       "                        if (nbb_cells[i].get_text() == nbb_unformatted_code) {\n",
       "                             nbb_cells[i].set_text(nbb_formatted_code);\n",
       "                        }\n",
       "                        break;\n",
       "                    }\n",
       "                }\n",
       "            }, 500);\n",
       "            "
      ],
      "text/plain": [
       "<IPython.core.display.Javascript object>"
      ]
     },
     "metadata": {},
     "output_type": "display_data"
    }
   ],
   "source": [
    "class POSifiedText(markovify.Text):\n",
    "    def word_split(self, sentence):\n",
    "        words = re.split(self.word_split_pattern, sentence)\n",
    "        words = [\"::\".join(tag) for tag in nltk.pos_tag(words)]\n",
    "        return words\n",
    "\n",
    "    def word_join(self, words):\n",
    "        sentence = \" \".join(word.split(\"::\")[0] for word in words)\n",
    "        return sentence"
   ]
  },
  {
   "cell_type": "code",
   "execution_count": 9,
   "metadata": {},
   "outputs": [
    {
     "name": "stdout",
     "output_type": "stream",
     "text": [
      "Lincoln:\n",
      "I ask attention to the views of the Secretary of the Navy presents in detail the operations of the Patent and General Land Offices.\n",
      "In the exercise of my best discretion I have adhered to the act of Congress to confiscate property used for insurrectionary purposes.\n",
      "If useful, no State should be denied them; if not useful, no State should be denied them; if not useful, no State should be denied them; if not useful, no State should have them.\n",
      "In most of the Southern States a majority of the whole people of all right to participate in the selection of the country as well as with regiments.\n",
      "I commend their interests and their duties.\n",
      "Much of the national loan has been taken by citizens of the United States steamer Massachusetts for a supposed breach of the blockade.\n",
      "---------------------\n",
      "Roosevelt:\n",
      "The anarchist, and especially the anarchist in the United States, the product of this period.\n",
      "The Congress should provide means whereby it will be covered by this kind of service.\n",
      "But for their steadfast loyalty.\n",
      "A gallant soldier in the great industrial centers has meant a startling increase, not merely in political, but in commercial, matters.\n",
      "In my judgment all laws providing for the building of a canal across the Isthmus connecting North and South America.\n",
      "The forests alone cannot, however, fully regulate and conserve the waters of the arid lands will enrich every portion of our great commerce is carried in our own ships.\n",
      "---------------------\n",
      "Obama:\n",
      "And according to the Congressional Budget Office -– the independent organization that both parties have fed divisions that are deeply entrenched.\n",
      "As the first order of business this year, I urge the Senate to follow the House and pass a bill that helps to correct some of these problems.\n",
      "Here's what I ask Congress, though Don't walk away from these Americans, and neither should the people in this chamber.\n",
      "Now, yesterday, the Senate blocked a bill that helps to correct some of these problems.\n",
      "More importantly, the cost of borrowing, and jeopardize our recovery -– all of which helped businesses keep more workers.\n",
      "So, no, I will not walk away from reform.\n",
      "---------------------\n"
     ]
    },
    {
     "data": {
      "application/javascript": [
       "\n",
       "            setTimeout(function() {\n",
       "                var nbb_cell_id = 9;\n",
       "                var nbb_unformatted_code = \"for pres, sents in speech_sents.items():\\n    model = POSifiedText(sents, state_size=3)\\n    sentence_list = []\\n    print(pres.title() + \\\":\\\")\\n    while len(sentence_list) <= 5:\\n        sentence = model.make_short_sentence(max_chars=200, min_chars=30, tries=100)\\n        if sentence not in sentence_list:\\n            sentence_list.append(sentence)\\n            print(sentence, end=\\\"\\\\n\\\")\\n    print(\\\"---------------------\\\")\";\n",
       "                var nbb_formatted_code = \"for pres, sents in speech_sents.items():\\n    model = POSifiedText(sents, state_size=3)\\n    sentence_list = []\\n    print(pres.title() + \\\":\\\")\\n    while len(sentence_list) <= 5:\\n        sentence = model.make_short_sentence(max_chars=200, min_chars=30, tries=100)\\n        if sentence not in sentence_list:\\n            sentence_list.append(sentence)\\n            print(sentence, end=\\\"\\\\n\\\")\\n    print(\\\"---------------------\\\")\";\n",
       "                var nbb_cells = Jupyter.notebook.get_cells();\n",
       "                for (var i = 0; i < nbb_cells.length; ++i) {\n",
       "                    if (nbb_cells[i].input_prompt_number == nbb_cell_id) {\n",
       "                        if (nbb_cells[i].get_text() == nbb_unformatted_code) {\n",
       "                             nbb_cells[i].set_text(nbb_formatted_code);\n",
       "                        }\n",
       "                        break;\n",
       "                    }\n",
       "                }\n",
       "            }, 500);\n",
       "            "
      ],
      "text/plain": [
       "<IPython.core.display.Javascript object>"
      ]
     },
     "metadata": {},
     "output_type": "display_data"
    }
   ],
   "source": [
    "for pres, sents in speech_sents.items():\n",
    "    model = POSifiedText(sents, state_size=3)\n",
    "    sentence_list = []\n",
    "    print(pres.title() + \":\")\n",
    "    while len(sentence_list) <= 5:\n",
    "        sentence = model.make_short_sentence(max_chars=200, min_chars=30, tries=100)\n",
    "        if sentence not in sentence_list:\n",
    "            sentence_list.append(sentence)\n",
    "            print(sentence, end=\"\\n\")\n",
    "    print(\"---------------------\")"
   ]
  }
 ],
 "metadata": {
  "colab": {
   "collapsed_sections": [],
   "name": "Day 75, Lecture 2: Assignment.ipynb",
   "provenance": []
  },
  "kernelspec": {
   "display_name": "Python 3",
   "language": "python",
   "name": "python3"
  },
  "language_info": {
   "codemirror_mode": {
    "name": "ipython",
    "version": 3
   },
   "file_extension": ".py",
   "mimetype": "text/x-python",
   "name": "python",
   "nbconvert_exporter": "python",
   "pygments_lexer": "ipython3",
   "version": "3.7.6"
  }
 },
 "nbformat": 4,
 "nbformat_minor": 1
}
