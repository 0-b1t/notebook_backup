{
 "cells": [
  {
   "cell_type": "code",
   "execution_count": 1,
   "metadata": {},
   "outputs": [
    {
     "data": {
      "application/javascript": [
       "\n",
       "            setTimeout(function() {\n",
       "                var nbb_cell_id = 1;\n",
       "                var nbb_unformatted_code = \"%reload_ext nb_black\";\n",
       "                var nbb_formatted_code = \"%reload_ext nb_black\";\n",
       "                var nbb_cells = Jupyter.notebook.get_cells();\n",
       "                for (var i = 0; i < nbb_cells.length; ++i) {\n",
       "                    if (nbb_cells[i].input_prompt_number == nbb_cell_id) {\n",
       "                        if (nbb_cells[i].get_text() == nbb_unformatted_code) {\n",
       "                             nbb_cells[i].set_text(nbb_formatted_code);\n",
       "                        }\n",
       "                        break;\n",
       "                    }\n",
       "                }\n",
       "            }, 500);\n",
       "            "
      ],
      "text/plain": [
       "<IPython.core.display.Javascript object>"
      ]
     },
     "metadata": {},
     "output_type": "display_data"
    }
   ],
   "source": [
    "%reload_ext nb_black"
   ]
  },
  {
   "cell_type": "markdown",
   "metadata": {
    "colab_type": "text",
    "id": "xdL0Yz0D1D_q"
   },
   "source": [
    "## Day 47 Lecture 2 Assignment\n",
    "\n",
    "In this assignment, we will perform K-Medoids clustering using responses to a survey about student life at a university."
   ]
  },
  {
   "cell_type": "code",
   "execution_count": 2,
   "metadata": {
    "colab": {},
    "colab_type": "code",
    "id": "OulyiH_C1D_r"
   },
   "outputs": [
    {
     "data": {
      "application/javascript": [
       "\n",
       "            setTimeout(function() {\n",
       "                var nbb_cell_id = 2;\n",
       "                var nbb_unformatted_code = \"%matplotlib inline\\n\\nimport matplotlib.pyplot as plt\\nimport numpy as np\\nimport pandas as pd\\nimport seaborn as sns\\nfrom scipy.spatial.distance import pdist, squareform\\nfrom pyclustering.cluster.kmedoids import kmedoids\\nimport random\";\n",
       "                var nbb_formatted_code = \"%matplotlib inline\\n\\nimport matplotlib.pyplot as plt\\nimport numpy as np\\nimport pandas as pd\\nimport seaborn as sns\\nfrom scipy.spatial.distance import pdist, squareform\\nfrom pyclustering.cluster.kmedoids import kmedoids\\nimport random\";\n",
       "                var nbb_cells = Jupyter.notebook.get_cells();\n",
       "                for (var i = 0; i < nbb_cells.length; ++i) {\n",
       "                    if (nbb_cells[i].input_prompt_number == nbb_cell_id) {\n",
       "                        if (nbb_cells[i].get_text() == nbb_unformatted_code) {\n",
       "                             nbb_cells[i].set_text(nbb_formatted_code);\n",
       "                        }\n",
       "                        break;\n",
       "                    }\n",
       "                }\n",
       "            }, 500);\n",
       "            "
      ],
      "text/plain": [
       "<IPython.core.display.Javascript object>"
      ]
     },
     "metadata": {},
     "output_type": "display_data"
    }
   ],
   "source": [
    "%matplotlib inline\n",
    "\n",
    "import matplotlib.pyplot as plt\n",
    "import numpy as np\n",
    "import pandas as pd\n",
    "import seaborn as sns\n",
    "from scipy.spatial.distance import pdist, squareform\n",
    "from pyclustering.cluster.kmedoids import kmedoids\n",
    "import random"
   ]
  },
  {
   "cell_type": "markdown",
   "metadata": {
    "colab_type": "text",
    "id": "ezMvoRlB1D_t"
   },
   "source": [
    "This dataset consists of 35 binary features, each corresponding to a yes/no question that characterizes the student taking the survey.\n",
    "\n",
    "This dataset contains a large number of features, each corresponding to a survey question. The feature name summarizes the survey question, so we will not list them all out here.\n",
    "\n",
    "Load the dataset."
   ]
  },
  {
   "cell_type": "code",
   "execution_count": 3,
   "metadata": {
    "colab": {},
    "colab_type": "code",
    "id": "wP1U4eQ91D_u"
   },
   "outputs": [
    {
     "data": {
      "text/html": [
       "<div>\n",
       "<style scoped>\n",
       "    .dataframe tbody tr th:only-of-type {\n",
       "        vertical-align: middle;\n",
       "    }\n",
       "\n",
       "    .dataframe tbody tr th {\n",
       "        vertical-align: top;\n",
       "    }\n",
       "\n",
       "    .dataframe thead th {\n",
       "        text-align: right;\n",
       "    }\n",
       "</style>\n",
       "<table border=\"1\" class=\"dataframe\">\n",
       "  <thead>\n",
       "    <tr style=\"text-align: right;\">\n",
       "      <th></th>\n",
       "      <th>Q2-Participated in Societies and Interest Groups</th>\n",
       "      <th>Q2-Participated in Clubs</th>\n",
       "      <th>Q2-Participated in Halls, JCRCs and/or Residential College CSCs</th>\n",
       "      <th>Q2-Participated in University organised events</th>\n",
       "      <th>Q3-Interested in Arts &amp; Culture</th>\n",
       "      <th>Q3-Interested in Science &amp; Technology</th>\n",
       "      <th>Q3-Interested in Research and independent study</th>\n",
       "      <th>Q3-Interested in Sports</th>\n",
       "      <th>Q3-Interested in Other competitions (eg case, debates)</th>\n",
       "      <th>Q3-Interested in Entrepreneurship</th>\n",
       "      <th>...</th>\n",
       "      <th>Q5-Stressed about Academic issues</th>\n",
       "      <th>Q5-Stressed about Financial issues</th>\n",
       "      <th>Q5-Stressed about Family issues</th>\n",
       "      <th>Q5-Stressed about Friendships</th>\n",
       "      <th>Q5-Stressed about Romantic relationships</th>\n",
       "      <th>Q5-Stressed about  Health related issues</th>\n",
       "      <th>Q5-Stressed about Career related issues</th>\n",
       "      <th>Q5-Stressed about My involvement in hostel, clubs, societies, interest groups, etc.</th>\n",
       "      <th>Q5-Stressed about Others</th>\n",
       "      <th>response_id</th>\n",
       "    </tr>\n",
       "  </thead>\n",
       "  <tbody>\n",
       "    <tr>\n",
       "      <th>0</th>\n",
       "      <td>0</td>\n",
       "      <td>1</td>\n",
       "      <td>0</td>\n",
       "      <td>0</td>\n",
       "      <td>0</td>\n",
       "      <td>1</td>\n",
       "      <td>1</td>\n",
       "      <td>0</td>\n",
       "      <td>1</td>\n",
       "      <td>0</td>\n",
       "      <td>...</td>\n",
       "      <td>1</td>\n",
       "      <td>0</td>\n",
       "      <td>0</td>\n",
       "      <td>0</td>\n",
       "      <td>0</td>\n",
       "      <td>0</td>\n",
       "      <td>0</td>\n",
       "      <td>0</td>\n",
       "      <td>0</td>\n",
       "      <td>1</td>\n",
       "    </tr>\n",
       "    <tr>\n",
       "      <th>1</th>\n",
       "      <td>0</td>\n",
       "      <td>1</td>\n",
       "      <td>0</td>\n",
       "      <td>0</td>\n",
       "      <td>1</td>\n",
       "      <td>0</td>\n",
       "      <td>0</td>\n",
       "      <td>1</td>\n",
       "      <td>0</td>\n",
       "      <td>0</td>\n",
       "      <td>...</td>\n",
       "      <td>1</td>\n",
       "      <td>0</td>\n",
       "      <td>0</td>\n",
       "      <td>0</td>\n",
       "      <td>0</td>\n",
       "      <td>0</td>\n",
       "      <td>0</td>\n",
       "      <td>0</td>\n",
       "      <td>0</td>\n",
       "      <td>2</td>\n",
       "    </tr>\n",
       "    <tr>\n",
       "      <th>2</th>\n",
       "      <td>0</td>\n",
       "      <td>0</td>\n",
       "      <td>1</td>\n",
       "      <td>0</td>\n",
       "      <td>0</td>\n",
       "      <td>0</td>\n",
       "      <td>0</td>\n",
       "      <td>1</td>\n",
       "      <td>0</td>\n",
       "      <td>0</td>\n",
       "      <td>...</td>\n",
       "      <td>1</td>\n",
       "      <td>0</td>\n",
       "      <td>0</td>\n",
       "      <td>0</td>\n",
       "      <td>0</td>\n",
       "      <td>0</td>\n",
       "      <td>1</td>\n",
       "      <td>0</td>\n",
       "      <td>0</td>\n",
       "      <td>3</td>\n",
       "    </tr>\n",
       "    <tr>\n",
       "      <th>3</th>\n",
       "      <td>1</td>\n",
       "      <td>1</td>\n",
       "      <td>1</td>\n",
       "      <td>1</td>\n",
       "      <td>0</td>\n",
       "      <td>1</td>\n",
       "      <td>1</td>\n",
       "      <td>0</td>\n",
       "      <td>0</td>\n",
       "      <td>0</td>\n",
       "      <td>...</td>\n",
       "      <td>1</td>\n",
       "      <td>0</td>\n",
       "      <td>1</td>\n",
       "      <td>1</td>\n",
       "      <td>1</td>\n",
       "      <td>1</td>\n",
       "      <td>0</td>\n",
       "      <td>1</td>\n",
       "      <td>0</td>\n",
       "      <td>4</td>\n",
       "    </tr>\n",
       "    <tr>\n",
       "      <th>4</th>\n",
       "      <td>1</td>\n",
       "      <td>0</td>\n",
       "      <td>1</td>\n",
       "      <td>1</td>\n",
       "      <td>0</td>\n",
       "      <td>1</td>\n",
       "      <td>1</td>\n",
       "      <td>0</td>\n",
       "      <td>0</td>\n",
       "      <td>1</td>\n",
       "      <td>...</td>\n",
       "      <td>1</td>\n",
       "      <td>1</td>\n",
       "      <td>0</td>\n",
       "      <td>1</td>\n",
       "      <td>0</td>\n",
       "      <td>0</td>\n",
       "      <td>0</td>\n",
       "      <td>1</td>\n",
       "      <td>0</td>\n",
       "      <td>5</td>\n",
       "    </tr>\n",
       "  </tbody>\n",
       "</table>\n",
       "<p>5 rows × 36 columns</p>\n",
       "</div>"
      ],
      "text/plain": [
       "   Q2-Participated in Societies and Interest Groups  Q2-Participated in Clubs  \\\n",
       "0                                                 0                         1   \n",
       "1                                                 0                         1   \n",
       "2                                                 0                         0   \n",
       "3                                                 1                         1   \n",
       "4                                                 1                         0   \n",
       "\n",
       "   Q2-Participated in Halls, JCRCs and/or Residential College CSCs  \\\n",
       "0                                                  0                 \n",
       "1                                                  0                 \n",
       "2                                                  1                 \n",
       "3                                                  1                 \n",
       "4                                                  1                 \n",
       "\n",
       "   Q2-Participated in University organised events  \\\n",
       "0                                               0   \n",
       "1                                               0   \n",
       "2                                               0   \n",
       "3                                               1   \n",
       "4                                               1   \n",
       "\n",
       "   Q3-Interested in Arts & Culture  Q3-Interested in Science & Technology  \\\n",
       "0                                0                                      1   \n",
       "1                                1                                      0   \n",
       "2                                0                                      0   \n",
       "3                                0                                      1   \n",
       "4                                0                                      1   \n",
       "\n",
       "   Q3-Interested in Research and independent study  Q3-Interested in Sports  \\\n",
       "0                                                1                        0   \n",
       "1                                                0                        1   \n",
       "2                                                0                        1   \n",
       "3                                                1                        0   \n",
       "4                                                1                        0   \n",
       "\n",
       "   Q3-Interested in Other competitions (eg case, debates)  \\\n",
       "0                                                  1        \n",
       "1                                                  0        \n",
       "2                                                  0        \n",
       "3                                                  0        \n",
       "4                                                  0        \n",
       "\n",
       "   Q3-Interested in Entrepreneurship  ...  Q5-Stressed about Academic issues  \\\n",
       "0                                  0  ...                                  1   \n",
       "1                                  0  ...                                  1   \n",
       "2                                  0  ...                                  1   \n",
       "3                                  0  ...                                  1   \n",
       "4                                  1  ...                                  1   \n",
       "\n",
       "   Q5-Stressed about Financial issues  Q5-Stressed about Family issues  \\\n",
       "0                                   0                                0   \n",
       "1                                   0                                0   \n",
       "2                                   0                                0   \n",
       "3                                   0                                1   \n",
       "4                                   1                                0   \n",
       "\n",
       "   Q5-Stressed about Friendships  Q5-Stressed about Romantic relationships  \\\n",
       "0                              0                                         0   \n",
       "1                              0                                         0   \n",
       "2                              0                                         0   \n",
       "3                              1                                         1   \n",
       "4                              1                                         0   \n",
       "\n",
       "   Q5-Stressed about  Health related issues  \\\n",
       "0                                         0   \n",
       "1                                         0   \n",
       "2                                         0   \n",
       "3                                         1   \n",
       "4                                         0   \n",
       "\n",
       "   Q5-Stressed about Career related issues  \\\n",
       "0                                        0   \n",
       "1                                        0   \n",
       "2                                        1   \n",
       "3                                        0   \n",
       "4                                        0   \n",
       "\n",
       "   Q5-Stressed about My involvement in hostel, clubs, societies, interest groups, etc.  \\\n",
       "0                                                  0                                     \n",
       "1                                                  0                                     \n",
       "2                                                  0                                     \n",
       "3                                                  1                                     \n",
       "4                                                  1                                     \n",
       "\n",
       "   Q5-Stressed about Others  response_id  \n",
       "0                         0            1  \n",
       "1                         0            2  \n",
       "2                         0            3  \n",
       "3                         0            4  \n",
       "4                         0            5  \n",
       "\n",
       "[5 rows x 36 columns]"
      ]
     },
     "execution_count": 3,
     "metadata": {},
     "output_type": "execute_result"
    },
    {
     "data": {
      "application/javascript": [
       "\n",
       "            setTimeout(function() {\n",
       "                var nbb_cell_id = 3;\n",
       "                var nbb_unformatted_code = \"# answer goes here\\ndf = pd.read_csv('data/student_life_survey.csv')\\n\\ndf.head()\";\n",
       "                var nbb_formatted_code = \"# answer goes here\\ndf = pd.read_csv(\\\"data/student_life_survey.csv\\\")\\n\\ndf.head()\";\n",
       "                var nbb_cells = Jupyter.notebook.get_cells();\n",
       "                for (var i = 0; i < nbb_cells.length; ++i) {\n",
       "                    if (nbb_cells[i].input_prompt_number == nbb_cell_id) {\n",
       "                        if (nbb_cells[i].get_text() == nbb_unformatted_code) {\n",
       "                             nbb_cells[i].set_text(nbb_formatted_code);\n",
       "                        }\n",
       "                        break;\n",
       "                    }\n",
       "                }\n",
       "            }, 500);\n",
       "            "
      ],
      "text/plain": [
       "<IPython.core.display.Javascript object>"
      ]
     },
     "metadata": {},
     "output_type": "display_data"
    }
   ],
   "source": [
    "# answer goes here\n",
    "df = pd.read_csv('data/student_life_survey.csv')\n",
    "\n",
    "df.head()\n"
   ]
  },
  {
   "cell_type": "markdown",
   "metadata": {
    "colab_type": "text",
    "id": "o_K1eQ0x1D_y"
   },
   "source": [
    "For our analysis, we will focus on a specific subset of the survey that is focused on stress. These questions all begin with the string 'Q5'. Filter the columns that meet this criteria (should be 10 in total)."
   ]
  },
  {
   "cell_type": "code",
   "execution_count": null,
   "metadata": {},
   "outputs": [],
   "source": []
  },
  {
   "cell_type": "code",
   "execution_count": 4,
   "metadata": {
    "colab": {},
    "colab_type": "code",
    "id": "urdZqR8WC4XM"
   },
   "outputs": [
    {
     "data": {
      "text/html": [
       "<div>\n",
       "<style scoped>\n",
       "    .dataframe tbody tr th:only-of-type {\n",
       "        vertical-align: middle;\n",
       "    }\n",
       "\n",
       "    .dataframe tbody tr th {\n",
       "        vertical-align: top;\n",
       "    }\n",
       "\n",
       "    .dataframe thead th {\n",
       "        text-align: right;\n",
       "    }\n",
       "</style>\n",
       "<table border=\"1\" class=\"dataframe\">\n",
       "  <thead>\n",
       "    <tr style=\"text-align: right;\">\n",
       "      <th></th>\n",
       "      <th>Q5-Stressed about Adjustment issues</th>\n",
       "      <th>Q5-Stressed about Academic issues</th>\n",
       "      <th>Q5-Stressed about Financial issues</th>\n",
       "      <th>Q5-Stressed about Family issues</th>\n",
       "      <th>Q5-Stressed about Friendships</th>\n",
       "      <th>Q5-Stressed about Romantic relationships</th>\n",
       "      <th>Q5-Stressed about  Health related issues</th>\n",
       "      <th>Q5-Stressed about Career related issues</th>\n",
       "      <th>Q5-Stressed about My involvement in hostel, clubs, societies, interest groups, etc.</th>\n",
       "      <th>Q5-Stressed about Others</th>\n",
       "    </tr>\n",
       "  </thead>\n",
       "  <tbody>\n",
       "    <tr>\n",
       "      <th>0</th>\n",
       "      <td>0</td>\n",
       "      <td>1</td>\n",
       "      <td>0</td>\n",
       "      <td>0</td>\n",
       "      <td>0</td>\n",
       "      <td>0</td>\n",
       "      <td>0</td>\n",
       "      <td>0</td>\n",
       "      <td>0</td>\n",
       "      <td>0</td>\n",
       "    </tr>\n",
       "    <tr>\n",
       "      <th>1</th>\n",
       "      <td>0</td>\n",
       "      <td>1</td>\n",
       "      <td>0</td>\n",
       "      <td>0</td>\n",
       "      <td>0</td>\n",
       "      <td>0</td>\n",
       "      <td>0</td>\n",
       "      <td>0</td>\n",
       "      <td>0</td>\n",
       "      <td>0</td>\n",
       "    </tr>\n",
       "    <tr>\n",
       "      <th>2</th>\n",
       "      <td>0</td>\n",
       "      <td>1</td>\n",
       "      <td>0</td>\n",
       "      <td>0</td>\n",
       "      <td>0</td>\n",
       "      <td>0</td>\n",
       "      <td>0</td>\n",
       "      <td>1</td>\n",
       "      <td>0</td>\n",
       "      <td>0</td>\n",
       "    </tr>\n",
       "    <tr>\n",
       "      <th>3</th>\n",
       "      <td>1</td>\n",
       "      <td>1</td>\n",
       "      <td>0</td>\n",
       "      <td>1</td>\n",
       "      <td>1</td>\n",
       "      <td>1</td>\n",
       "      <td>1</td>\n",
       "      <td>0</td>\n",
       "      <td>1</td>\n",
       "      <td>0</td>\n",
       "    </tr>\n",
       "    <tr>\n",
       "      <th>4</th>\n",
       "      <td>0</td>\n",
       "      <td>1</td>\n",
       "      <td>1</td>\n",
       "      <td>0</td>\n",
       "      <td>1</td>\n",
       "      <td>0</td>\n",
       "      <td>0</td>\n",
       "      <td>0</td>\n",
       "      <td>1</td>\n",
       "      <td>0</td>\n",
       "    </tr>\n",
       "    <tr>\n",
       "      <th>...</th>\n",
       "      <td>...</td>\n",
       "      <td>...</td>\n",
       "      <td>...</td>\n",
       "      <td>...</td>\n",
       "      <td>...</td>\n",
       "      <td>...</td>\n",
       "      <td>...</td>\n",
       "      <td>...</td>\n",
       "      <td>...</td>\n",
       "      <td>...</td>\n",
       "    </tr>\n",
       "    <tr>\n",
       "      <th>2953</th>\n",
       "      <td>0</td>\n",
       "      <td>1</td>\n",
       "      <td>1</td>\n",
       "      <td>0</td>\n",
       "      <td>0</td>\n",
       "      <td>1</td>\n",
       "      <td>0</td>\n",
       "      <td>0</td>\n",
       "      <td>0</td>\n",
       "      <td>0</td>\n",
       "    </tr>\n",
       "    <tr>\n",
       "      <th>2954</th>\n",
       "      <td>0</td>\n",
       "      <td>1</td>\n",
       "      <td>0</td>\n",
       "      <td>0</td>\n",
       "      <td>0</td>\n",
       "      <td>0</td>\n",
       "      <td>0</td>\n",
       "      <td>0</td>\n",
       "      <td>0</td>\n",
       "      <td>0</td>\n",
       "    </tr>\n",
       "    <tr>\n",
       "      <th>2955</th>\n",
       "      <td>0</td>\n",
       "      <td>1</td>\n",
       "      <td>0</td>\n",
       "      <td>0</td>\n",
       "      <td>0</td>\n",
       "      <td>0</td>\n",
       "      <td>0</td>\n",
       "      <td>0</td>\n",
       "      <td>0</td>\n",
       "      <td>0</td>\n",
       "    </tr>\n",
       "    <tr>\n",
       "      <th>2956</th>\n",
       "      <td>0</td>\n",
       "      <td>1</td>\n",
       "      <td>0</td>\n",
       "      <td>0</td>\n",
       "      <td>0</td>\n",
       "      <td>0</td>\n",
       "      <td>1</td>\n",
       "      <td>1</td>\n",
       "      <td>0</td>\n",
       "      <td>0</td>\n",
       "    </tr>\n",
       "    <tr>\n",
       "      <th>2957</th>\n",
       "      <td>0</td>\n",
       "      <td>1</td>\n",
       "      <td>1</td>\n",
       "      <td>0</td>\n",
       "      <td>0</td>\n",
       "      <td>0</td>\n",
       "      <td>0</td>\n",
       "      <td>1</td>\n",
       "      <td>0</td>\n",
       "      <td>0</td>\n",
       "    </tr>\n",
       "  </tbody>\n",
       "</table>\n",
       "<p>2958 rows × 10 columns</p>\n",
       "</div>"
      ],
      "text/plain": [
       "      Q5-Stressed about Adjustment issues  Q5-Stressed about Academic issues  \\\n",
       "0                                       0                                  1   \n",
       "1                                       0                                  1   \n",
       "2                                       0                                  1   \n",
       "3                                       1                                  1   \n",
       "4                                       0                                  1   \n",
       "...                                   ...                                ...   \n",
       "2953                                    0                                  1   \n",
       "2954                                    0                                  1   \n",
       "2955                                    0                                  1   \n",
       "2956                                    0                                  1   \n",
       "2957                                    0                                  1   \n",
       "\n",
       "      Q5-Stressed about Financial issues  Q5-Stressed about Family issues  \\\n",
       "0                                      0                                0   \n",
       "1                                      0                                0   \n",
       "2                                      0                                0   \n",
       "3                                      0                                1   \n",
       "4                                      1                                0   \n",
       "...                                  ...                              ...   \n",
       "2953                                   1                                0   \n",
       "2954                                   0                                0   \n",
       "2955                                   0                                0   \n",
       "2956                                   0                                0   \n",
       "2957                                   1                                0   \n",
       "\n",
       "      Q5-Stressed about Friendships  Q5-Stressed about Romantic relationships  \\\n",
       "0                                 0                                         0   \n",
       "1                                 0                                         0   \n",
       "2                                 0                                         0   \n",
       "3                                 1                                         1   \n",
       "4                                 1                                         0   \n",
       "...                             ...                                       ...   \n",
       "2953                              0                                         1   \n",
       "2954                              0                                         0   \n",
       "2955                              0                                         0   \n",
       "2956                              0                                         0   \n",
       "2957                              0                                         0   \n",
       "\n",
       "      Q5-Stressed about  Health related issues  \\\n",
       "0                                            0   \n",
       "1                                            0   \n",
       "2                                            0   \n",
       "3                                            1   \n",
       "4                                            0   \n",
       "...                                        ...   \n",
       "2953                                         0   \n",
       "2954                                         0   \n",
       "2955                                         0   \n",
       "2956                                         1   \n",
       "2957                                         0   \n",
       "\n",
       "      Q5-Stressed about Career related issues  \\\n",
       "0                                           0   \n",
       "1                                           0   \n",
       "2                                           1   \n",
       "3                                           0   \n",
       "4                                           0   \n",
       "...                                       ...   \n",
       "2953                                        0   \n",
       "2954                                        0   \n",
       "2955                                        0   \n",
       "2956                                        1   \n",
       "2957                                        1   \n",
       "\n",
       "      Q5-Stressed about My involvement in hostel, clubs, societies, interest groups, etc.  \\\n",
       "0                                                     0                                     \n",
       "1                                                     0                                     \n",
       "2                                                     0                                     \n",
       "3                                                     1                                     \n",
       "4                                                     1                                     \n",
       "...                                                 ...                                     \n",
       "2953                                                  0                                     \n",
       "2954                                                  0                                     \n",
       "2955                                                  0                                     \n",
       "2956                                                  0                                     \n",
       "2957                                                  0                                     \n",
       "\n",
       "      Q5-Stressed about Others  \n",
       "0                            0  \n",
       "1                            0  \n",
       "2                            0  \n",
       "3                            0  \n",
       "4                            0  \n",
       "...                        ...  \n",
       "2953                         0  \n",
       "2954                         0  \n",
       "2955                         0  \n",
       "2956                         0  \n",
       "2957                         0  \n",
       "\n",
       "[2958 rows x 10 columns]"
      ]
     },
     "execution_count": 4,
     "metadata": {},
     "output_type": "execute_result"
    },
    {
     "data": {
      "application/javascript": [
       "\n",
       "            setTimeout(function() {\n",
       "                var nbb_cell_id = 4;\n",
       "                var nbb_unformatted_code = \"q5 = df.filter(like=\\\"Q5\\\")\\nq5\";\n",
       "                var nbb_formatted_code = \"q5 = df.filter(like=\\\"Q5\\\")\\nq5\";\n",
       "                var nbb_cells = Jupyter.notebook.get_cells();\n",
       "                for (var i = 0; i < nbb_cells.length; ++i) {\n",
       "                    if (nbb_cells[i].input_prompt_number == nbb_cell_id) {\n",
       "                        if (nbb_cells[i].get_text() == nbb_unformatted_code) {\n",
       "                             nbb_cells[i].set_text(nbb_formatted_code);\n",
       "                        }\n",
       "                        break;\n",
       "                    }\n",
       "                }\n",
       "            }, 500);\n",
       "            "
      ],
      "text/plain": [
       "<IPython.core.display.Javascript object>"
      ]
     },
     "metadata": {},
     "output_type": "display_data"
    }
   ],
   "source": [
    "q5 = df.filter(like=\"Q5\")\n",
    "q5"
   ]
  },
  {
   "cell_type": "markdown",
   "metadata": {
    "colab_type": "text",
    "id": "OxdvGscfC4XU"
   },
   "source": [
    "The pyclustering implementation of kmedoids supports a variety of distance metrics, but they are primarily for numeric data. We will be using SMC/Hamming dissimilarity and precomputing the similarity matrix (an alternative would be to specify a user-defined function, which you are welcome to try in addition).\n",
    "\n",
    "We'll assume for the next step that a pair of negative values (i.e. both responses are \"no\") is as informative as a pair of positive values. Compute the full distance/dissimilarity matrix for the survey data using matching/hamming distance."
   ]
  },
  {
   "cell_type": "code",
   "execution_count": 5,
   "metadata": {
    "colab": {},
    "colab_type": "code",
    "id": "xfYVreyw1D_y"
   },
   "outputs": [
    {
     "data": {
      "text/plain": [
       "array([[0. , 0. , 0.1, ..., 0. , 0.2, 0.2],\n",
       "       [0. , 0. , 0.1, ..., 0. , 0.2, 0.2],\n",
       "       [0.1, 0.1, 0. , ..., 0.1, 0.1, 0.1],\n",
       "       ...,\n",
       "       [0. , 0. , 0.1, ..., 0. , 0.2, 0.2],\n",
       "       [0.2, 0.2, 0.1, ..., 0.2, 0. , 0.2],\n",
       "       [0.2, 0.2, 0.1, ..., 0.2, 0.2, 0. ]])"
      ]
     },
     "execution_count": 5,
     "metadata": {},
     "output_type": "execute_result"
    },
    {
     "data": {
      "application/javascript": [
       "\n",
       "            setTimeout(function() {\n",
       "                var nbb_cell_id = 5;\n",
       "                var nbb_unformatted_code = \"# answer goes here\\ndist_mat = squareform(pdist(q5, metric=\\\"hamming\\\"))\\ndist_mat \";\n",
       "                var nbb_formatted_code = \"# answer goes here\\ndist_mat = squareform(pdist(q5, metric=\\\"hamming\\\"))\\ndist_mat\";\n",
       "                var nbb_cells = Jupyter.notebook.get_cells();\n",
       "                for (var i = 0; i < nbb_cells.length; ++i) {\n",
       "                    if (nbb_cells[i].input_prompt_number == nbb_cell_id) {\n",
       "                        if (nbb_cells[i].get_text() == nbb_unformatted_code) {\n",
       "                             nbb_cells[i].set_text(nbb_formatted_code);\n",
       "                        }\n",
       "                        break;\n",
       "                    }\n",
       "                }\n",
       "            }, 500);\n",
       "            "
      ],
      "text/plain": [
       "<IPython.core.display.Javascript object>"
      ]
     },
     "metadata": {},
     "output_type": "display_data"
    }
   ],
   "source": [
    "# answer goes here\n",
    "dist_mat = squareform(pdist(q5, metric=\"hamming\"))\n",
    "dist_mat \n"
   ]
  },
  {
   "cell_type": "markdown",
   "metadata": {
    "colab_type": "text",
    "id": "3XUT0a6aC4Xb"
   },
   "source": [
    "Using the dissimilarity matrix, perform kmedoids clustering using k=2. Set the initial medoids randomly. Note that pyclustering expects the distance matrix to be a numpy array; a pandas dataframe may cause errors. \n",
    "\n",
    "Which survey responses are chosen as the cluster representatives? Print out the details of these responses."
   ]
  },
  {
   "cell_type": "code",
   "execution_count": 6,
   "metadata": {},
   "outputs": [
    {
     "data": {
      "application/javascript": [
       "\n",
       "            setTimeout(function() {\n",
       "                var nbb_cell_id = 6;\n",
       "                var nbb_unformatted_code = \"dist_mat_df = pd.DataFrame(dist_mat)\";\n",
       "                var nbb_formatted_code = \"dist_mat_df = pd.DataFrame(dist_mat)\";\n",
       "                var nbb_cells = Jupyter.notebook.get_cells();\n",
       "                for (var i = 0; i < nbb_cells.length; ++i) {\n",
       "                    if (nbb_cells[i].input_prompt_number == nbb_cell_id) {\n",
       "                        if (nbb_cells[i].get_text() == nbb_unformatted_code) {\n",
       "                             nbb_cells[i].set_text(nbb_formatted_code);\n",
       "                        }\n",
       "                        break;\n",
       "                    }\n",
       "                }\n",
       "            }, 500);\n",
       "            "
      ],
      "text/plain": [
       "<IPython.core.display.Javascript object>"
      ]
     },
     "metadata": {},
     "output_type": "display_data"
    }
   ],
   "source": [
    "dist_mat_df = pd.DataFrame(dist_mat)"
   ]
  },
  {
   "cell_type": "code",
   "execution_count": 7,
   "metadata": {
    "scrolled": true
   },
   "outputs": [
    {
     "name": "stdout",
     "output_type": "stream",
     "text": [
      "(4373403, 3)\n"
     ]
    },
    {
     "data": {
      "text/html": [
       "<div>\n",
       "<style scoped>\n",
       "    .dataframe tbody tr th:only-of-type {\n",
       "        vertical-align: middle;\n",
       "    }\n",
       "\n",
       "    .dataframe tbody tr th {\n",
       "        vertical-align: top;\n",
       "    }\n",
       "\n",
       "    .dataframe thead th {\n",
       "        text-align: right;\n",
       "    }\n",
       "</style>\n",
       "<table border=\"1\" class=\"dataframe\">\n",
       "  <thead>\n",
       "    <tr style=\"text-align: right;\">\n",
       "      <th></th>\n",
       "      <th>student_1</th>\n",
       "      <th>student_2</th>\n",
       "      <th>hamming_dist</th>\n",
       "    </tr>\n",
       "  </thead>\n",
       "  <tbody>\n",
       "    <tr>\n",
       "      <th>2958</th>\n",
       "      <td>0</td>\n",
       "      <td>1</td>\n",
       "      <td>0.0</td>\n",
       "    </tr>\n",
       "    <tr>\n",
       "      <th>5916</th>\n",
       "      <td>0</td>\n",
       "      <td>2</td>\n",
       "      <td>0.1</td>\n",
       "    </tr>\n",
       "    <tr>\n",
       "      <th>5917</th>\n",
       "      <td>1</td>\n",
       "      <td>2</td>\n",
       "      <td>0.1</td>\n",
       "    </tr>\n",
       "  </tbody>\n",
       "</table>\n",
       "</div>"
      ],
      "text/plain": [
       "      student_1 student_2  hamming_dist\n",
       "2958          0         1           0.0\n",
       "5916          0         2           0.1\n",
       "5917          1         2           0.1"
      ]
     },
     "execution_count": 7,
     "metadata": {},
     "output_type": "execute_result"
    },
    {
     "data": {
      "application/javascript": [
       "\n",
       "            setTimeout(function() {\n",
       "                var nbb_cell_id = 7;\n",
       "                var nbb_unformatted_code = \"tall_dist_df = pd.melt(dist_mat_df.reset_index(), id_vars=\\\"index\\\")\\ntall_dist_df.columns = [\\\"student_1\\\", \\\"student_2\\\", \\\"hamming_dist\\\"]\\n\\n# removing redundant info\\ntall_dist_df = tall_dist_df[tall_dist_df[\\\"student_1\\\"] < tall_dist_df[\\\"student_2\\\"]]\\nprint(tall_dist_df.shape)\\ntall_dist_df.head(3)\";\n",
       "                var nbb_formatted_code = \"tall_dist_df = pd.melt(dist_mat_df.reset_index(), id_vars=\\\"index\\\")\\ntall_dist_df.columns = [\\\"student_1\\\", \\\"student_2\\\", \\\"hamming_dist\\\"]\\n\\n# removing redundant info\\ntall_dist_df = tall_dist_df[tall_dist_df[\\\"student_1\\\"] < tall_dist_df[\\\"student_2\\\"]]\\nprint(tall_dist_df.shape)\\ntall_dist_df.head(3)\";\n",
       "                var nbb_cells = Jupyter.notebook.get_cells();\n",
       "                for (var i = 0; i < nbb_cells.length; ++i) {\n",
       "                    if (nbb_cells[i].input_prompt_number == nbb_cell_id) {\n",
       "                        if (nbb_cells[i].get_text() == nbb_unformatted_code) {\n",
       "                             nbb_cells[i].set_text(nbb_formatted_code);\n",
       "                        }\n",
       "                        break;\n",
       "                    }\n",
       "                }\n",
       "            }, 500);\n",
       "            "
      ],
      "text/plain": [
       "<IPython.core.display.Javascript object>"
      ]
     },
     "metadata": {},
     "output_type": "display_data"
    }
   ],
   "source": [
    "tall_dist_df = pd.melt(dist_mat_df.reset_index(), id_vars=\"index\")\n",
    "tall_dist_df.columns = [\"student_1\", \"student_2\", \"hamming_dist\"]\n",
    "\n",
    "# removing redundant info\n",
    "tall_dist_df = tall_dist_df[tall_dist_df[\"student_1\"] < tall_dist_df[\"student_2\"]]\n",
    "print(tall_dist_df.shape)\n",
    "tall_dist_df.head(3)"
   ]
  },
  {
   "cell_type": "code",
   "execution_count": 8,
   "metadata": {},
   "outputs": [
    {
     "data": {
      "text/html": [
       "<div>\n",
       "<style scoped>\n",
       "    .dataframe tbody tr th:only-of-type {\n",
       "        vertical-align: middle;\n",
       "    }\n",
       "\n",
       "    .dataframe tbody tr th {\n",
       "        vertical-align: top;\n",
       "    }\n",
       "\n",
       "    .dataframe thead th {\n",
       "        text-align: right;\n",
       "    }\n",
       "</style>\n",
       "<table border=\"1\" class=\"dataframe\">\n",
       "  <thead>\n",
       "    <tr style=\"text-align: right;\">\n",
       "      <th></th>\n",
       "      <th>student_1</th>\n",
       "      <th>student_2</th>\n",
       "      <th>hamming_dist</th>\n",
       "    </tr>\n",
       "  </thead>\n",
       "  <tbody>\n",
       "    <tr>\n",
       "      <th>2958</th>\n",
       "      <td>0</td>\n",
       "      <td>1</td>\n",
       "      <td>0.0</td>\n",
       "    </tr>\n",
       "    <tr>\n",
       "      <th>5916</th>\n",
       "      <td>0</td>\n",
       "      <td>2</td>\n",
       "      <td>0.1</td>\n",
       "    </tr>\n",
       "    <tr>\n",
       "      <th>5917</th>\n",
       "      <td>1</td>\n",
       "      <td>2</td>\n",
       "      <td>0.1</td>\n",
       "    </tr>\n",
       "    <tr>\n",
       "      <th>8874</th>\n",
       "      <td>0</td>\n",
       "      <td>3</td>\n",
       "      <td>0.6</td>\n",
       "    </tr>\n",
       "    <tr>\n",
       "      <th>8875</th>\n",
       "      <td>1</td>\n",
       "      <td>3</td>\n",
       "      <td>0.6</td>\n",
       "    </tr>\n",
       "    <tr>\n",
       "      <th>...</th>\n",
       "      <td>...</td>\n",
       "      <td>...</td>\n",
       "      <td>...</td>\n",
       "    </tr>\n",
       "    <tr>\n",
       "      <th>8749758</th>\n",
       "      <td>2952</td>\n",
       "      <td>2957</td>\n",
       "      <td>0.5</td>\n",
       "    </tr>\n",
       "    <tr>\n",
       "      <th>8749759</th>\n",
       "      <td>2953</td>\n",
       "      <td>2957</td>\n",
       "      <td>0.2</td>\n",
       "    </tr>\n",
       "    <tr>\n",
       "      <th>8749760</th>\n",
       "      <td>2954</td>\n",
       "      <td>2957</td>\n",
       "      <td>0.2</td>\n",
       "    </tr>\n",
       "    <tr>\n",
       "      <th>8749761</th>\n",
       "      <td>2955</td>\n",
       "      <td>2957</td>\n",
       "      <td>0.2</td>\n",
       "    </tr>\n",
       "    <tr>\n",
       "      <th>8749762</th>\n",
       "      <td>2956</td>\n",
       "      <td>2957</td>\n",
       "      <td>0.2</td>\n",
       "    </tr>\n",
       "  </tbody>\n",
       "</table>\n",
       "<p>4373403 rows × 3 columns</p>\n",
       "</div>"
      ],
      "text/plain": [
       "         student_1 student_2  hamming_dist\n",
       "2958             0         1           0.0\n",
       "5916             0         2           0.1\n",
       "5917             1         2           0.1\n",
       "8874             0         3           0.6\n",
       "8875             1         3           0.6\n",
       "...            ...       ...           ...\n",
       "8749758       2952      2957           0.5\n",
       "8749759       2953      2957           0.2\n",
       "8749760       2954      2957           0.2\n",
       "8749761       2955      2957           0.2\n",
       "8749762       2956      2957           0.2\n",
       "\n",
       "[4373403 rows x 3 columns]"
      ]
     },
     "execution_count": 8,
     "metadata": {},
     "output_type": "execute_result"
    },
    {
     "data": {
      "application/javascript": [
       "\n",
       "            setTimeout(function() {\n",
       "                var nbb_cell_id = 8;\n",
       "                var nbb_unformatted_code = \"tall_dist_df\";\n",
       "                var nbb_formatted_code = \"tall_dist_df\";\n",
       "                var nbb_cells = Jupyter.notebook.get_cells();\n",
       "                for (var i = 0; i < nbb_cells.length; ++i) {\n",
       "                    if (nbb_cells[i].input_prompt_number == nbb_cell_id) {\n",
       "                        if (nbb_cells[i].get_text() == nbb_unformatted_code) {\n",
       "                             nbb_cells[i].set_text(nbb_formatted_code);\n",
       "                        }\n",
       "                        break;\n",
       "                    }\n",
       "                }\n",
       "            }, 500);\n",
       "            "
      ],
      "text/plain": [
       "<IPython.core.display.Javascript object>"
      ]
     },
     "metadata": {},
     "output_type": "display_data"
    }
   ],
   "source": [
    "tall_dist_df"
   ]
  },
  {
   "cell_type": "code",
   "execution_count": 9,
   "metadata": {},
   "outputs": [
    {
     "data": {
      "application/javascript": [
       "\n",
       "            setTimeout(function() {\n",
       "                var nbb_cell_id = 9;\n",
       "                var nbb_unformatted_code = \"pick_med = tall_dist_df[tall_dist_df[\\\"hamming_dist\\\"] > 0.8].sample()\\nmed_1 = pick_med[\\\"student_1\\\"].values.astype(int)\\nmed_2 = pick_med[\\\"student_2\\\"].values.astype(int)\\ninit_medoids = [med_1[0], med_2[0]]\";\n",
       "                var nbb_formatted_code = \"pick_med = tall_dist_df[tall_dist_df[\\\"hamming_dist\\\"] > 0.8].sample()\\nmed_1 = pick_med[\\\"student_1\\\"].values.astype(int)\\nmed_2 = pick_med[\\\"student_2\\\"].values.astype(int)\\ninit_medoids = [med_1[0], med_2[0]]\";\n",
       "                var nbb_cells = Jupyter.notebook.get_cells();\n",
       "                for (var i = 0; i < nbb_cells.length; ++i) {\n",
       "                    if (nbb_cells[i].input_prompt_number == nbb_cell_id) {\n",
       "                        if (nbb_cells[i].get_text() == nbb_unformatted_code) {\n",
       "                             nbb_cells[i].set_text(nbb_formatted_code);\n",
       "                        }\n",
       "                        break;\n",
       "                    }\n",
       "                }\n",
       "            }, 500);\n",
       "            "
      ],
      "text/plain": [
       "<IPython.core.display.Javascript object>"
      ]
     },
     "metadata": {},
     "output_type": "display_data"
    }
   ],
   "source": [
    "pick_med = tall_dist_df[tall_dist_df[\"hamming_dist\"] > 0.8].sample()\n",
    "med_1 = pick_med[\"student_1\"].values.astype(int)\n",
    "med_2 = pick_med[\"student_2\"].values.astype(int)\n",
    "init_medoids = [med_1[0], med_2[0]]"
   ]
  },
  {
   "cell_type": "code",
   "execution_count": 10,
   "metadata": {},
   "outputs": [
    {
     "data": {
      "text/plain": [
       "[705, 2179]"
      ]
     },
     "execution_count": 10,
     "metadata": {},
     "output_type": "execute_result"
    },
    {
     "data": {
      "application/javascript": [
       "\n",
       "            setTimeout(function() {\n",
       "                var nbb_cell_id = 10;\n",
       "                var nbb_unformatted_code = \"init_medoids\";\n",
       "                var nbb_formatted_code = \"init_medoids\";\n",
       "                var nbb_cells = Jupyter.notebook.get_cells();\n",
       "                for (var i = 0; i < nbb_cells.length; ++i) {\n",
       "                    if (nbb_cells[i].input_prompt_number == nbb_cell_id) {\n",
       "                        if (nbb_cells[i].get_text() == nbb_unformatted_code) {\n",
       "                             nbb_cells[i].set_text(nbb_formatted_code);\n",
       "                        }\n",
       "                        break;\n",
       "                    }\n",
       "                }\n",
       "            }, 500);\n",
       "            "
      ],
      "text/plain": [
       "<IPython.core.display.Javascript object>"
      ]
     },
     "metadata": {},
     "output_type": "display_data"
    }
   ],
   "source": [
    "init_medoids"
   ]
  },
  {
   "cell_type": "code",
   "execution_count": 11,
   "metadata": {
    "colab": {},
    "colab_type": "code",
    "id": "Nv0mDzNSC4Xd"
   },
   "outputs": [
    {
     "data": {
      "text/plain": [
       "<pyclustering.cluster.kmedoids.kmedoids at 0x24d7364b188>"
      ]
     },
     "execution_count": 11,
     "metadata": {},
     "output_type": "execute_result"
    },
    {
     "data": {
      "application/javascript": [
       "\n",
       "            setTimeout(function() {\n",
       "                var nbb_cell_id = 11;\n",
       "                var nbb_unformatted_code = \"# answer goes here\\n# k = 2\\n#np.random.seed(34)\\n\\n# nrows = dist_mat.shape[0]\\n# init_medoids = np.random.randint(0, nrows+1, k)\\n# init_medoids = tall_dist_df[tall_dist_df[\\\"hamming_dist\\\"] > 0.8].sample().iloc[:, :2].values\\n\\n# init_medoids\\nkmed = kmedoids(\\n    dist_mat, initial_index_medoids=init_medoids, data_type=\\\"distance_matrix\\\"\\n)\\n\\nkmed.process()\";\n",
       "                var nbb_formatted_code = \"# answer goes here\\n# k = 2\\n# np.random.seed(34)\\n\\n# nrows = dist_mat.shape[0]\\n# init_medoids = np.random.randint(0, nrows+1, k)\\n# init_medoids = tall_dist_df[tall_dist_df[\\\"hamming_dist\\\"] > 0.8].sample().iloc[:, :2].values\\n\\n# init_medoids\\nkmed = kmedoids(\\n    dist_mat, initial_index_medoids=init_medoids, data_type=\\\"distance_matrix\\\"\\n)\\n\\nkmed.process()\";\n",
       "                var nbb_cells = Jupyter.notebook.get_cells();\n",
       "                for (var i = 0; i < nbb_cells.length; ++i) {\n",
       "                    if (nbb_cells[i].input_prompt_number == nbb_cell_id) {\n",
       "                        if (nbb_cells[i].get_text() == nbb_unformatted_code) {\n",
       "                             nbb_cells[i].set_text(nbb_formatted_code);\n",
       "                        }\n",
       "                        break;\n",
       "                    }\n",
       "                }\n",
       "            }, 500);\n",
       "            "
      ],
      "text/plain": [
       "<IPython.core.display.Javascript object>"
      ]
     },
     "metadata": {},
     "output_type": "display_data"
    }
   ],
   "source": [
    "# answer goes here\n",
    "# k = 2\n",
    "#np.random.seed(34)\n",
    "\n",
    "# nrows = dist_mat.shape[0]\n",
    "# init_medoids = np.random.randint(0, nrows+1, k)\n",
    "# init_medoids = tall_dist_df[tall_dist_df[\"hamming_dist\"] > 0.8].sample().iloc[:, :2].values\n",
    "\n",
    "# init_medoids\n",
    "kmed = kmedoids(\n",
    "    dist_mat, initial_index_medoids=init_medoids, data_type=\"distance_matrix\"\n",
    ")\n",
    "\n",
    "kmed.process()\n"
   ]
  },
  {
   "cell_type": "code",
   "execution_count": 12,
   "metadata": {},
   "outputs": [
    {
     "data": {
      "text/plain": [
       "[705, 2179]"
      ]
     },
     "execution_count": 12,
     "metadata": {},
     "output_type": "execute_result"
    },
    {
     "data": {
      "application/javascript": [
       "\n",
       "            setTimeout(function() {\n",
       "                var nbb_cell_id = 12;\n",
       "                var nbb_unformatted_code = \"init_medoids\";\n",
       "                var nbb_formatted_code = \"init_medoids\";\n",
       "                var nbb_cells = Jupyter.notebook.get_cells();\n",
       "                for (var i = 0; i < nbb_cells.length; ++i) {\n",
       "                    if (nbb_cells[i].input_prompt_number == nbb_cell_id) {\n",
       "                        if (nbb_cells[i].get_text() == nbb_unformatted_code) {\n",
       "                             nbb_cells[i].set_text(nbb_formatted_code);\n",
       "                        }\n",
       "                        break;\n",
       "                    }\n",
       "                }\n",
       "            }, 500);\n",
       "            "
      ],
      "text/plain": [
       "<IPython.core.display.Javascript object>"
      ]
     },
     "metadata": {},
     "output_type": "display_data"
    }
   ],
   "source": [
    "init_medoids"
   ]
  },
  {
   "cell_type": "code",
   "execution_count": 13,
   "metadata": {},
   "outputs": [
    {
     "data": {
      "text/plain": [
       "[0, 65]"
      ]
     },
     "execution_count": 13,
     "metadata": {},
     "output_type": "execute_result"
    },
    {
     "data": {
      "application/javascript": [
       "\n",
       "            setTimeout(function() {\n",
       "                var nbb_cell_id = 13;\n",
       "                var nbb_unformatted_code = \"medoid_idxs = kmed.get_medoids()\\nmedoid_idxs\";\n",
       "                var nbb_formatted_code = \"medoid_idxs = kmed.get_medoids()\\nmedoid_idxs\";\n",
       "                var nbb_cells = Jupyter.notebook.get_cells();\n",
       "                for (var i = 0; i < nbb_cells.length; ++i) {\n",
       "                    if (nbb_cells[i].input_prompt_number == nbb_cell_id) {\n",
       "                        if (nbb_cells[i].get_text() == nbb_unformatted_code) {\n",
       "                             nbb_cells[i].set_text(nbb_formatted_code);\n",
       "                        }\n",
       "                        break;\n",
       "                    }\n",
       "                }\n",
       "            }, 500);\n",
       "            "
      ],
      "text/plain": [
       "<IPython.core.display.Javascript object>"
      ]
     },
     "metadata": {},
     "output_type": "display_data"
    }
   ],
   "source": [
    "medoid_idxs = kmed.get_medoids()\n",
    "medoid_idxs"
   ]
  },
  {
   "cell_type": "code",
   "execution_count": 14,
   "metadata": {},
   "outputs": [
    {
     "name": "stderr",
     "output_type": "stream",
     "text": [
      "C:\\ProgramData\\Anaconda3\\lib\\site-packages\\ipykernel_launcher.py:2: SettingWithCopyWarning: \n",
      "A value is trying to be set on a copy of a slice from a DataFrame.\n",
      "Try using .loc[row_indexer,col_indexer] = value instead\n",
      "\n",
      "See the caveats in the documentation: https://pandas.pydata.org/pandas-docs/stable/user_guide/indexing.html#returning-a-view-versus-a-copy\n",
      "  \n"
     ]
    },
    {
     "data": {
      "text/html": [
       "<div>\n",
       "<style scoped>\n",
       "    .dataframe tbody tr th:only-of-type {\n",
       "        vertical-align: middle;\n",
       "    }\n",
       "\n",
       "    .dataframe tbody tr th {\n",
       "        vertical-align: top;\n",
       "    }\n",
       "\n",
       "    .dataframe thead th {\n",
       "        text-align: right;\n",
       "    }\n",
       "</style>\n",
       "<table border=\"1\" class=\"dataframe\">\n",
       "  <thead>\n",
       "    <tr style=\"text-align: right;\">\n",
       "      <th></th>\n",
       "      <th>Q5-Stressed about Adjustment issues</th>\n",
       "      <th>Q5-Stressed about Academic issues</th>\n",
       "      <th>Q5-Stressed about Financial issues</th>\n",
       "      <th>Q5-Stressed about Family issues</th>\n",
       "      <th>Q5-Stressed about Friendships</th>\n",
       "      <th>Q5-Stressed about Romantic relationships</th>\n",
       "      <th>Q5-Stressed about  Health related issues</th>\n",
       "      <th>Q5-Stressed about Career related issues</th>\n",
       "      <th>Q5-Stressed about My involvement in hostel, clubs, societies, interest groups, etc.</th>\n",
       "      <th>Q5-Stressed about Others</th>\n",
       "      <th>label</th>\n",
       "    </tr>\n",
       "  </thead>\n",
       "  <tbody>\n",
       "    <tr>\n",
       "      <th>0</th>\n",
       "      <td>0</td>\n",
       "      <td>1</td>\n",
       "      <td>0</td>\n",
       "      <td>0</td>\n",
       "      <td>0</td>\n",
       "      <td>0</td>\n",
       "      <td>0</td>\n",
       "      <td>0</td>\n",
       "      <td>0</td>\n",
       "      <td>0</td>\n",
       "      <td>0</td>\n",
       "    </tr>\n",
       "    <tr>\n",
       "      <th>65</th>\n",
       "      <td>1</td>\n",
       "      <td>1</td>\n",
       "      <td>0</td>\n",
       "      <td>0</td>\n",
       "      <td>1</td>\n",
       "      <td>0</td>\n",
       "      <td>0</td>\n",
       "      <td>1</td>\n",
       "      <td>1</td>\n",
       "      <td>0</td>\n",
       "      <td>1</td>\n",
       "    </tr>\n",
       "  </tbody>\n",
       "</table>\n",
       "</div>"
      ],
      "text/plain": [
       "    Q5-Stressed about Adjustment issues  Q5-Stressed about Academic issues  \\\n",
       "0                                     0                                  1   \n",
       "65                                    1                                  1   \n",
       "\n",
       "    Q5-Stressed about Financial issues  Q5-Stressed about Family issues  \\\n",
       "0                                    0                                0   \n",
       "65                                   0                                0   \n",
       "\n",
       "    Q5-Stressed about Friendships  Q5-Stressed about Romantic relationships  \\\n",
       "0                               0                                         0   \n",
       "65                              1                                         0   \n",
       "\n",
       "    Q5-Stressed about  Health related issues  \\\n",
       "0                                          0   \n",
       "65                                         0   \n",
       "\n",
       "    Q5-Stressed about Career related issues  \\\n",
       "0                                         0   \n",
       "65                                        1   \n",
       "\n",
       "    Q5-Stressed about My involvement in hostel, clubs, societies, interest groups, etc.  \\\n",
       "0                                                   0                                     \n",
       "65                                                  1                                     \n",
       "\n",
       "    Q5-Stressed about Others  label  \n",
       "0                          0      0  \n",
       "65                         0      1  "
      ]
     },
     "execution_count": 14,
     "metadata": {},
     "output_type": "execute_result"
    },
    {
     "data": {
      "application/javascript": [
       "\n",
       "            setTimeout(function() {\n",
       "                var nbb_cell_id = 14;\n",
       "                var nbb_unformatted_code = \"labels = kmed.predict(dist_mat)\\nq5[\\\"label\\\"] = labels\\nq5.iloc[medoid_idxs, :]\";\n",
       "                var nbb_formatted_code = \"labels = kmed.predict(dist_mat)\\nq5[\\\"label\\\"] = labels\\nq5.iloc[medoid_idxs, :]\";\n",
       "                var nbb_cells = Jupyter.notebook.get_cells();\n",
       "                for (var i = 0; i < nbb_cells.length; ++i) {\n",
       "                    if (nbb_cells[i].input_prompt_number == nbb_cell_id) {\n",
       "                        if (nbb_cells[i].get_text() == nbb_unformatted_code) {\n",
       "                             nbb_cells[i].set_text(nbb_formatted_code);\n",
       "                        }\n",
       "                        break;\n",
       "                    }\n",
       "                }\n",
       "            }, 500);\n",
       "            "
      ],
      "text/plain": [
       "<IPython.core.display.Javascript object>"
      ]
     },
     "metadata": {},
     "output_type": "display_data"
    }
   ],
   "source": [
    "labels = kmed.predict(dist_mat)\n",
    "q5[\"label\"] = labels\n",
    "q5.iloc[medoid_idxs, :]"
   ]
  },
  {
   "cell_type": "markdown",
   "metadata": {
    "colab_type": "text",
    "id": "H0tWAoZAC4Xn"
   },
   "source": [
    "If you run the previous cell a few times, you'll probably notice that the medoids are very sensitive to initialization. A common approach to produce well-separated clusters is to choose initial centroids that are far apart. Re-run the previous process, except with a random pair of centroids that have a dissimilarity of 0.8 or higher. Are the results more stable now? How would you describe the typical clusters you see?"
   ]
  },
  {
   "cell_type": "code",
   "execution_count": 15,
   "metadata": {
    "colab": {},
    "colab_type": "code",
    "id": "M9IsvTp3C4Xo"
   },
   "outputs": [
    {
     "data": {
      "text/html": [
       "<style  type=\"text/css\" >\n",
       "    #T_b6804742_0280_11eb_b81d_7085c2a9ca7arow0_col0 {\n",
       "            background-color:  #fff7fb;\n",
       "            color:  #000000;\n",
       "        }    #T_b6804742_0280_11eb_b81d_7085c2a9ca7arow0_col1 {\n",
       "            background-color:  #023858;\n",
       "            color:  #f1f1f1;\n",
       "        }    #T_b6804742_0280_11eb_b81d_7085c2a9ca7arow1_col0 {\n",
       "            background-color:  #fff7fb;\n",
       "            color:  #000000;\n",
       "        }    #T_b6804742_0280_11eb_b81d_7085c2a9ca7arow1_col1 {\n",
       "            background-color:  #023858;\n",
       "            color:  #f1f1f1;\n",
       "        }    #T_b6804742_0280_11eb_b81d_7085c2a9ca7arow2_col0 {\n",
       "            background-color:  #fff7fb;\n",
       "            color:  #000000;\n",
       "        }    #T_b6804742_0280_11eb_b81d_7085c2a9ca7arow2_col1 {\n",
       "            background-color:  #023858;\n",
       "            color:  #f1f1f1;\n",
       "        }    #T_b6804742_0280_11eb_b81d_7085c2a9ca7arow3_col0 {\n",
       "            background-color:  #fff7fb;\n",
       "            color:  #000000;\n",
       "        }    #T_b6804742_0280_11eb_b81d_7085c2a9ca7arow3_col1 {\n",
       "            background-color:  #023858;\n",
       "            color:  #f1f1f1;\n",
       "        }    #T_b6804742_0280_11eb_b81d_7085c2a9ca7arow4_col0 {\n",
       "            background-color:  #fff7fb;\n",
       "            color:  #000000;\n",
       "        }    #T_b6804742_0280_11eb_b81d_7085c2a9ca7arow4_col1 {\n",
       "            background-color:  #023858;\n",
       "            color:  #f1f1f1;\n",
       "        }    #T_b6804742_0280_11eb_b81d_7085c2a9ca7arow5_col0 {\n",
       "            background-color:  #fff7fb;\n",
       "            color:  #000000;\n",
       "        }    #T_b6804742_0280_11eb_b81d_7085c2a9ca7arow5_col1 {\n",
       "            background-color:  #023858;\n",
       "            color:  #f1f1f1;\n",
       "        }    #T_b6804742_0280_11eb_b81d_7085c2a9ca7arow6_col0 {\n",
       "            background-color:  #fff7fb;\n",
       "            color:  #000000;\n",
       "        }    #T_b6804742_0280_11eb_b81d_7085c2a9ca7arow6_col1 {\n",
       "            background-color:  #023858;\n",
       "            color:  #f1f1f1;\n",
       "        }    #T_b6804742_0280_11eb_b81d_7085c2a9ca7arow7_col0 {\n",
       "            background-color:  #fff7fb;\n",
       "            color:  #000000;\n",
       "        }    #T_b6804742_0280_11eb_b81d_7085c2a9ca7arow7_col1 {\n",
       "            background-color:  #023858;\n",
       "            color:  #f1f1f1;\n",
       "        }    #T_b6804742_0280_11eb_b81d_7085c2a9ca7arow8_col0 {\n",
       "            background-color:  #fff7fb;\n",
       "            color:  #000000;\n",
       "        }    #T_b6804742_0280_11eb_b81d_7085c2a9ca7arow8_col1 {\n",
       "            background-color:  #023858;\n",
       "            color:  #f1f1f1;\n",
       "        }    #T_b6804742_0280_11eb_b81d_7085c2a9ca7arow9_col0 {\n",
       "            background-color:  #fff7fb;\n",
       "            color:  #000000;\n",
       "        }    #T_b6804742_0280_11eb_b81d_7085c2a9ca7arow9_col1 {\n",
       "            background-color:  #023858;\n",
       "            color:  #f1f1f1;\n",
       "        }</style><table id=\"T_b6804742_0280_11eb_b81d_7085c2a9ca7a\" ><thead>    <tr>        <th class=\"index_name level0\" >label</th>        <th class=\"col_heading level0 col0\" >0</th>        <th class=\"col_heading level0 col1\" >1</th>    </tr></thead><tbody>\n",
       "                <tr>\n",
       "                        <th id=\"T_b6804742_0280_11eb_b81d_7085c2a9ca7alevel0_row0\" class=\"row_heading level0 row0\" >Q5-Stressed about Adjustment issues</th>\n",
       "                        <td id=\"T_b6804742_0280_11eb_b81d_7085c2a9ca7arow0_col0\" class=\"data row0 col0\" >0.142322</td>\n",
       "                        <td id=\"T_b6804742_0280_11eb_b81d_7085c2a9ca7arow0_col1\" class=\"data row0 col1\" >0.588613</td>\n",
       "            </tr>\n",
       "            <tr>\n",
       "                        <th id=\"T_b6804742_0280_11eb_b81d_7085c2a9ca7alevel0_row1\" class=\"row_heading level0 row1\" >Q5-Stressed about Academic issues</th>\n",
       "                        <td id=\"T_b6804742_0280_11eb_b81d_7085c2a9ca7arow1_col0\" class=\"data row1 col0\" >0.918138</td>\n",
       "                        <td id=\"T_b6804742_0280_11eb_b81d_7085c2a9ca7arow1_col1\" class=\"data row1 col1\" >0.929293</td>\n",
       "            </tr>\n",
       "            <tr>\n",
       "                        <th id=\"T_b6804742_0280_11eb_b81d_7085c2a9ca7alevel0_row2\" class=\"row_heading level0 row2\" >Q5-Stressed about Financial issues</th>\n",
       "                        <td id=\"T_b6804742_0280_11eb_b81d_7085c2a9ca7arow2_col0\" class=\"data row2 col0\" >0.301231</td>\n",
       "                        <td id=\"T_b6804742_0280_11eb_b81d_7085c2a9ca7arow2_col1\" class=\"data row2 col1\" >0.531680</td>\n",
       "            </tr>\n",
       "            <tr>\n",
       "                        <th id=\"T_b6804742_0280_11eb_b81d_7085c2a9ca7alevel0_row3\" class=\"row_heading level0 row3\" >Q5-Stressed about Family issues</th>\n",
       "                        <td id=\"T_b6804742_0280_11eb_b81d_7085c2a9ca7arow3_col0\" class=\"data row3 col0\" >0.061530</td>\n",
       "                        <td id=\"T_b6804742_0280_11eb_b81d_7085c2a9ca7arow3_col1\" class=\"data row3 col1\" >0.294766</td>\n",
       "            </tr>\n",
       "            <tr>\n",
       "                        <th id=\"T_b6804742_0280_11eb_b81d_7085c2a9ca7alevel0_row4\" class=\"row_heading level0 row4\" >Q5-Stressed about Friendships</th>\n",
       "                        <td id=\"T_b6804742_0280_11eb_b81d_7085c2a9ca7arow4_col0\" class=\"data row4 col0\" >0.083467</td>\n",
       "                        <td id=\"T_b6804742_0280_11eb_b81d_7085c2a9ca7arow4_col1\" class=\"data row4 col1\" >0.589532</td>\n",
       "            </tr>\n",
       "            <tr>\n",
       "                        <th id=\"T_b6804742_0280_11eb_b81d_7085c2a9ca7alevel0_row5\" class=\"row_heading level0 row5\" >Q5-Stressed about Romantic relationships</th>\n",
       "                        <td id=\"T_b6804742_0280_11eb_b81d_7085c2a9ca7arow5_col0\" class=\"data row5 col0\" >0.075441</td>\n",
       "                        <td id=\"T_b6804742_0280_11eb_b81d_7085c2a9ca7arow5_col1\" class=\"data row5 col1\" >0.320478</td>\n",
       "            </tr>\n",
       "            <tr>\n",
       "                        <th id=\"T_b6804742_0280_11eb_b81d_7085c2a9ca7alevel0_row6\" class=\"row_heading level0 row6\" >Q5-Stressed about  Health related issues</th>\n",
       "                        <td id=\"T_b6804742_0280_11eb_b81d_7085c2a9ca7arow6_col0\" class=\"data row6 col0\" >0.070626</td>\n",
       "                        <td id=\"T_b6804742_0280_11eb_b81d_7085c2a9ca7arow6_col1\" class=\"data row6 col1\" >0.289256</td>\n",
       "            </tr>\n",
       "            <tr>\n",
       "                        <th id=\"T_b6804742_0280_11eb_b81d_7085c2a9ca7alevel0_row7\" class=\"row_heading level0 row7\" >Q5-Stressed about Career related issues</th>\n",
       "                        <td id=\"T_b6804742_0280_11eb_b81d_7085c2a9ca7arow7_col0\" class=\"data row7 col0\" >0.368646</td>\n",
       "                        <td id=\"T_b6804742_0280_11eb_b81d_7085c2a9ca7arow7_col1\" class=\"data row7 col1\" >0.603306</td>\n",
       "            </tr>\n",
       "            <tr>\n",
       "                        <th id=\"T_b6804742_0280_11eb_b81d_7085c2a9ca7alevel0_row8\" class=\"row_heading level0 row8\" >Q5-Stressed about My involvement in hostel, clubs, societies, interest groups, etc.</th>\n",
       "                        <td id=\"T_b6804742_0280_11eb_b81d_7085c2a9ca7arow8_col0\" class=\"data row8 col0\" >0.106474</td>\n",
       "                        <td id=\"T_b6804742_0280_11eb_b81d_7085c2a9ca7arow8_col1\" class=\"data row8 col1\" >0.561983</td>\n",
       "            </tr>\n",
       "            <tr>\n",
       "                        <th id=\"T_b6804742_0280_11eb_b81d_7085c2a9ca7alevel0_row9\" class=\"row_heading level0 row9\" >Q5-Stressed about Others</th>\n",
       "                        <td id=\"T_b6804742_0280_11eb_b81d_7085c2a9ca7arow9_col0\" class=\"data row9 col0\" >0.013376</td>\n",
       "                        <td id=\"T_b6804742_0280_11eb_b81d_7085c2a9ca7arow9_col1\" class=\"data row9 col1\" >0.014692</td>\n",
       "            </tr>\n",
       "    </tbody></table>"
      ],
      "text/plain": [
       "<pandas.io.formats.style.Styler at 0x24d062309c8>"
      ]
     },
     "execution_count": 15,
     "metadata": {},
     "output_type": "execute_result"
    },
    {
     "data": {
      "application/javascript": [
       "\n",
       "            setTimeout(function() {\n",
       "                var nbb_cell_id = 15;\n",
       "                var nbb_unformatted_code = \"# answer goes here\\n\\nclst_avg = q5.groupby(\\\"label\\\").mean().T\\nclst_avg.style.background_gradient(axis=1)\";\n",
       "                var nbb_formatted_code = \"# answer goes here\\n\\nclst_avg = q5.groupby(\\\"label\\\").mean().T\\nclst_avg.style.background_gradient(axis=1)\";\n",
       "                var nbb_cells = Jupyter.notebook.get_cells();\n",
       "                for (var i = 0; i < nbb_cells.length; ++i) {\n",
       "                    if (nbb_cells[i].input_prompt_number == nbb_cell_id) {\n",
       "                        if (nbb_cells[i].get_text() == nbb_unformatted_code) {\n",
       "                             nbb_cells[i].set_text(nbb_formatted_code);\n",
       "                        }\n",
       "                        break;\n",
       "                    }\n",
       "                }\n",
       "            }, 500);\n",
       "            "
      ],
      "text/plain": [
       "<IPython.core.display.Javascript object>"
      ]
     },
     "metadata": {},
     "output_type": "display_data"
    }
   ],
   "source": [
    "# answer goes here\n",
    "\n",
    "clst_avg = q5.groupby(\"label\").mean().T\n",
    "clst_avg.style.background_gradient(axis=1)\n",
    "\n"
   ]
  },
  {
   "cell_type": "code",
   "execution_count": null,
   "metadata": {},
   "outputs": [],
   "source": []
  }
 ],
 "metadata": {
  "colab": {
   "collapsed_sections": [],
   "name": "Day 47 Lecture 2 Assignment.ipynb",
   "provenance": []
  },
  "kernelspec": {
   "display_name": "Python 3",
   "language": "python",
   "name": "python3"
  },
  "language_info": {
   "codemirror_mode": {
    "name": "ipython",
    "version": 3
   },
   "file_extension": ".py",
   "mimetype": "text/x-python",
   "name": "python",
   "nbconvert_exporter": "python",
   "pygments_lexer": "ipython3",
   "version": "3.7.6"
  }
 },
 "nbformat": 4,
 "nbformat_minor": 1
}
