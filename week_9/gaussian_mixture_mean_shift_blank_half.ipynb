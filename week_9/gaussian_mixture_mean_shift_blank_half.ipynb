{
 "cells": [
  {
   "cell_type": "code",
   "execution_count": 6,
   "metadata": {
    "id": "2gUM1rBuCD0Q"
   },
   "outputs": [
    {
     "data": {
      "application/javascript": [
       "\n",
       "            setTimeout(function() {\n",
       "                var nbb_cell_id = 6;\n",
       "                var nbb_unformatted_code = \"%reload_ext nb_black\";\n",
       "                var nbb_formatted_code = \"%reload_ext nb_black\";\n",
       "                var nbb_cells = Jupyter.notebook.get_cells();\n",
       "                for (var i = 0; i < nbb_cells.length; ++i) {\n",
       "                    if (nbb_cells[i].input_prompt_number == nbb_cell_id) {\n",
       "                        if (nbb_cells[i].get_text() == nbb_unformatted_code) {\n",
       "                             nbb_cells[i].set_text(nbb_formatted_code);\n",
       "                        }\n",
       "                        break;\n",
       "                    }\n",
       "                }\n",
       "            }, 500);\n",
       "            "
      ],
      "text/plain": [
       "<IPython.core.display.Javascript object>"
      ]
     },
     "metadata": {},
     "output_type": "display_data"
    }
   ],
   "source": [
    "%reload_ext nb_black"
   ]
  },
  {
   "cell_type": "code",
   "execution_count": null,
   "metadata": {
    "colab": {
     "base_uri": "https://localhost:8080/",
     "height": 87
    },
    "id": "uZ0KFum_C0fD",
    "outputId": "8018b7fa-cdf8-4893-a9de-b44f236de69f"
   },
   "outputs": [],
   "source": [
    "# !pip install plotly"
   ]
  },
  {
   "cell_type": "code",
   "execution_count": 38,
   "metadata": {
    "id": "qqhx94S6rxlf"
   },
   "outputs": [
    {
     "data": {
      "application/javascript": [
       "\n",
       "            setTimeout(function() {\n",
       "                var nbb_cell_id = 38;\n",
       "                var nbb_unformatted_code = \"import pandas as pd\\nimport numpy as np\\n\\n# from tqdm.notebook import tqdm\\n\\nfrom scipy import stats\\n\\nfrom sklearn.mixture import GaussianMixture\\nfrom sklearn.cluster import KMeans, MeanShift, estimate_bandwidth\\n\\nfrom sklearn.preprocessing import StandardScaler, MinMaxScaler\\n\\nimport plotly.express as px\\nimport plotly.graph_objects as go\\n\\nimport seaborn as sns\\nimport matplotlib.pyplot as plt\\n\\n%matplotlib inline\";\n",
       "                var nbb_formatted_code = \"import pandas as pd\\nimport numpy as np\\n\\n# from tqdm.notebook import tqdm\\n\\nfrom scipy import stats\\n\\nfrom sklearn.mixture import GaussianMixture\\nfrom sklearn.cluster import KMeans, MeanShift, estimate_bandwidth\\n\\nfrom sklearn.preprocessing import StandardScaler, MinMaxScaler\\n\\nimport plotly.express as px\\nimport plotly.graph_objects as go\\n\\nimport seaborn as sns\\nimport matplotlib.pyplot as plt\\n\\n%matplotlib inline\";\n",
       "                var nbb_cells = Jupyter.notebook.get_cells();\n",
       "                for (var i = 0; i < nbb_cells.length; ++i) {\n",
       "                    if (nbb_cells[i].input_prompt_number == nbb_cell_id) {\n",
       "                        if (nbb_cells[i].get_text() == nbb_unformatted_code) {\n",
       "                             nbb_cells[i].set_text(nbb_formatted_code);\n",
       "                        }\n",
       "                        break;\n",
       "                    }\n",
       "                }\n",
       "            }, 500);\n",
       "            "
      ],
      "text/plain": [
       "<IPython.core.display.Javascript object>"
      ]
     },
     "metadata": {},
     "output_type": "display_data"
    }
   ],
   "source": [
    "import pandas as pd\n",
    "import numpy as np\n",
    "\n",
    "# from tqdm.notebook import tqdm\n",
    "\n",
    "from scipy import stats\n",
    "\n",
    "from sklearn.mixture import GaussianMixture\n",
    "from sklearn.cluster import KMeans, MeanShift, estimate_bandwidth\n",
    "\n",
    "from sklearn.preprocessing import StandardScaler, MinMaxScaler\n",
    "\n",
    "import plotly.express as px\n",
    "import plotly.graph_objects as go\n",
    "\n",
    "import seaborn as sns\n",
    "import matplotlib.pyplot as plt\n",
    "\n",
    "%matplotlib inline"
   ]
  },
  {
   "cell_type": "code",
   "execution_count": 39,
   "metadata": {
    "colab": {
     "base_uri": "https://localhost:8080/",
     "height": 274
    },
    "id": "6c0V5ezcCD0Z",
    "outputId": "dbe1b6b5-7b6e-4996-95a7-47a860fd86fd"
   },
   "outputs": [
    {
     "data": {
      "text/html": [
       "<div>\n",
       "<style scoped>\n",
       "    .dataframe tbody tr th:only-of-type {\n",
       "        vertical-align: middle;\n",
       "    }\n",
       "\n",
       "    .dataframe tbody tr th {\n",
       "        vertical-align: top;\n",
       "    }\n",
       "\n",
       "    .dataframe thead th {\n",
       "        text-align: right;\n",
       "    }\n",
       "</style>\n",
       "<table border=\"1\" class=\"dataframe\">\n",
       "  <thead>\n",
       "    <tr style=\"text-align: right;\">\n",
       "      <th></th>\n",
       "      <th>Brand</th>\n",
       "      <th>Store Number</th>\n",
       "      <th>Store Name</th>\n",
       "      <th>Ownership Type</th>\n",
       "      <th>Street Address</th>\n",
       "      <th>City</th>\n",
       "      <th>State/Province</th>\n",
       "      <th>Country</th>\n",
       "      <th>Postcode</th>\n",
       "      <th>Phone Number</th>\n",
       "      <th>Timezone</th>\n",
       "      <th>Longitude</th>\n",
       "      <th>Latitude</th>\n",
       "    </tr>\n",
       "  </thead>\n",
       "  <tbody>\n",
       "    <tr>\n",
       "      <th>22859</th>\n",
       "      <td>Starbucks</td>\n",
       "      <td>3509-142865</td>\n",
       "      <td>TYS Foodcourt (Knoxville)</td>\n",
       "      <td>Licensed</td>\n",
       "      <td>2055 Airport Hwy</td>\n",
       "      <td>Alcoa</td>\n",
       "      <td>TN</td>\n",
       "      <td>US</td>\n",
       "      <td>377013316</td>\n",
       "      <td>NaN</td>\n",
       "      <td>GMT-05:00 America/New_York</td>\n",
       "      <td>-83.99</td>\n",
       "      <td>35.81</td>\n",
       "    </tr>\n",
       "    <tr>\n",
       "      <th>22860</th>\n",
       "      <td>Starbucks</td>\n",
       "      <td>11293-104144</td>\n",
       "      <td>Cusick &amp; Alcoa</td>\n",
       "      <td>Company Owned</td>\n",
       "      <td>121 Cusick Rd</td>\n",
       "      <td>Alcoa</td>\n",
       "      <td>TN</td>\n",
       "      <td>US</td>\n",
       "      <td>377013125</td>\n",
       "      <td>865-982-0642</td>\n",
       "      <td>GMT-05:00 America/New_York</td>\n",
       "      <td>-83.98</td>\n",
       "      <td>35.81</td>\n",
       "    </tr>\n",
       "    <tr>\n",
       "      <th>22895</th>\n",
       "      <td>Starbucks</td>\n",
       "      <td>18984-190185</td>\n",
       "      <td>Ingles Farragut # 91</td>\n",
       "      <td>Licensed</td>\n",
       "      <td>11817 Kingston Pike</td>\n",
       "      <td>Farragut</td>\n",
       "      <td>TN</td>\n",
       "      <td>US</td>\n",
       "      <td>37934</td>\n",
       "      <td>865-777-4360</td>\n",
       "      <td>GMT-05:00 America/New_York</td>\n",
       "      <td>-84.12</td>\n",
       "      <td>35.90</td>\n",
       "    </tr>\n",
       "  </tbody>\n",
       "</table>\n",
       "</div>"
      ],
      "text/plain": [
       "           Brand  Store Number                 Store Name Ownership Type  \\\n",
       "22859  Starbucks   3509-142865  TYS Foodcourt (Knoxville)       Licensed   \n",
       "22860  Starbucks  11293-104144             Cusick & Alcoa  Company Owned   \n",
       "22895  Starbucks  18984-190185       Ingles Farragut # 91       Licensed   \n",
       "\n",
       "            Street Address      City State/Province Country   Postcode  \\\n",
       "22859     2055 Airport Hwy     Alcoa             TN      US  377013316   \n",
       "22860        121 Cusick Rd     Alcoa             TN      US  377013125   \n",
       "22895  11817 Kingston Pike  Farragut             TN      US      37934   \n",
       "\n",
       "       Phone Number                    Timezone  Longitude  Latitude  \n",
       "22859           NaN  GMT-05:00 America/New_York     -83.99     35.81  \n",
       "22860  865-982-0642  GMT-05:00 America/New_York     -83.98     35.81  \n",
       "22895  865-777-4360  GMT-05:00 America/New_York     -84.12     35.90  "
      ]
     },
     "execution_count": 39,
     "metadata": {},
     "output_type": "execute_result"
    },
    {
     "data": {
      "application/javascript": [
       "\n",
       "            setTimeout(function() {\n",
       "                var nbb_cell_id = 39;\n",
       "                var nbb_unformatted_code = \"lat_min = 35.71\\nlat_max = 36.55\\nlon_min = -84.55\\nlon_max = -82.37\\n\\n# Potential extra practice:\\n#  * plot all the starbs locations in one color\\n#  * plot my location in a different color\\nadam_lat = 36.3\\nadam_lon = -82.4\\n\\ndata_url = \\\"https://tf-assets-prod.s3.amazonaws.com/tf-curric/data-science/Data%20Sets%20Clustering/starbucks_locations.csv\\\"\\nstarbs = pd.read_csv(data_url)\\n\\nstarbs = starbs[starbs[\\\"Latitude\\\"].between(lat_min, lat_max)]\\nstarbs = starbs[starbs[\\\"Longitude\\\"].between(lon_min, lon_max)]\\nstarbs.head(3)\";\n",
       "                var nbb_formatted_code = \"lat_min = 35.71\\nlat_max = 36.55\\nlon_min = -84.55\\nlon_max = -82.37\\n\\n# Potential extra practice:\\n#  * plot all the starbs locations in one color\\n#  * plot my location in a different color\\nadam_lat = 36.3\\nadam_lon = -82.4\\n\\ndata_url = \\\"https://tf-assets-prod.s3.amazonaws.com/tf-curric/data-science/Data%20Sets%20Clustering/starbucks_locations.csv\\\"\\nstarbs = pd.read_csv(data_url)\\n\\nstarbs = starbs[starbs[\\\"Latitude\\\"].between(lat_min, lat_max)]\\nstarbs = starbs[starbs[\\\"Longitude\\\"].between(lon_min, lon_max)]\\nstarbs.head(3)\";\n",
       "                var nbb_cells = Jupyter.notebook.get_cells();\n",
       "                for (var i = 0; i < nbb_cells.length; ++i) {\n",
       "                    if (nbb_cells[i].input_prompt_number == nbb_cell_id) {\n",
       "                        if (nbb_cells[i].get_text() == nbb_unformatted_code) {\n",
       "                             nbb_cells[i].set_text(nbb_formatted_code);\n",
       "                        }\n",
       "                        break;\n",
       "                    }\n",
       "                }\n",
       "            }, 500);\n",
       "            "
      ],
      "text/plain": [
       "<IPython.core.display.Javascript object>"
      ]
     },
     "metadata": {},
     "output_type": "display_data"
    }
   ],
   "source": [
    "lat_min = 35.71\n",
    "lat_max = 36.55\n",
    "lon_min = -84.55\n",
    "lon_max = -82.37\n",
    "\n",
    "# Potential extra practice:\n",
    "#  * plot all the starbs locations in one color\n",
    "#  * plot my location in a different color\n",
    "adam_lat = 36.3\n",
    "adam_lon = -82.4\n",
    "\n",
    "data_url = \"https://tf-assets-prod.s3.amazonaws.com/tf-curric/data-science/Data%20Sets%20Clustering/starbucks_locations.csv\"\n",
    "starbs = pd.read_csv(data_url)\n",
    "\n",
    "starbs = starbs[starbs[\"Latitude\"].between(lat_min, lat_max)]\n",
    "starbs = starbs[starbs[\"Longitude\"].between(lon_min, lon_max)]\n",
    "starbs.head(3)"
   ]
  },
  {
   "cell_type": "markdown",
   "metadata": {
    "id": "dAScIXF3CD0c"
   },
   "source": [
    "## 🔥 Warm up 🔥\n",
    "\n",
    "According to the distribution of our filtered data in the `starbs` dataframe.\n",
    "\n",
    "We're most likely to find a starbucks at which of these values of `'Longitude'`?\n",
    "* (A) -81\n",
    "* (B) -83\n",
    "* **(C) -84**\n",
    "* (D) -85"
   ]
  },
  {
   "cell_type": "code",
   "execution_count": 40,
   "metadata": {
    "colab": {
     "base_uri": "https://localhost:8080/",
     "height": 366
    },
    "id": "khL58H95CD0d",
    "outputId": "90740d73-012e-40a2-f6f3-4939fd832b62"
   },
   "outputs": [
    {
     "data": {
      "image/png": "[encoded data removed]",
      "text/plain": [
       "<Figure size 432x288 with 1 Axes>"
      ]
     },
     "metadata": {
      "needs_background": "light"
     },
     "output_type": "display_data"
    },
    {
     "data": {
      "application/javascript": [
       "\n",
       "            setTimeout(function() {\n",
       "                var nbb_cell_id = 40;\n",
       "                var nbb_unformatted_code = \"sns.distplot(starbs[\\\"Longitude\\\"])\\nplt.show()\";\n",
       "                var nbb_formatted_code = \"sns.distplot(starbs[\\\"Longitude\\\"])\\nplt.show()\";\n",
       "                var nbb_cells = Jupyter.notebook.get_cells();\n",
       "                for (var i = 0; i < nbb_cells.length; ++i) {\n",
       "                    if (nbb_cells[i].input_prompt_number == nbb_cell_id) {\n",
       "                        if (nbb_cells[i].get_text() == nbb_unformatted_code) {\n",
       "                             nbb_cells[i].set_text(nbb_formatted_code);\n",
       "                        }\n",
       "                        break;\n",
       "                    }\n",
       "                }\n",
       "            }, 500);\n",
       "            "
      ],
      "text/plain": [
       "<IPython.core.display.Javascript object>"
      ]
     },
     "metadata": {},
     "output_type": "display_data"
    }
   ],
   "source": [
    "sns.distplot(starbs[\"Longitude\"])\n",
    "plt.show()"
   ]
  },
  {
   "cell_type": "markdown",
   "metadata": {
    "id": "xmN9w7LfCD0h"
   },
   "source": [
    "According to the distribution of our filtered data in the `starbs` dataframe.\n",
    "\n",
    "We're most likely to find a starbucks at which of these values of `'Latitude'`?\n",
    "* (A) 35\n",
    "* **(B) 36**\n",
    "* (C) 37\n",
    "* (D) 38"
   ]
  },
  {
   "cell_type": "code",
   "execution_count": 41,
   "metadata": {
    "colab": {
     "base_uri": "https://localhost:8080/",
     "height": 366
    },
    "id": "SjDEi0MxCD0h",
    "outputId": "4bce2c8e-c798-4334-d137-add753912df6"
   },
   "outputs": [
    {
     "data": {
      "image/png": "[encoded data removed]",
      "text/plain": [
       "<Figure size 432x288 with 1 Axes>"
      ]
     },
     "metadata": {
      "needs_background": "light"
     },
     "output_type": "display_data"
    },
    {
     "data": {
      "application/javascript": [
       "\n",
       "            setTimeout(function() {\n",
       "                var nbb_cell_id = 41;\n",
       "                var nbb_unformatted_code = \"sns.distplot(starbs[\\\"Latitude\\\"])\\nplt.show()\";\n",
       "                var nbb_formatted_code = \"sns.distplot(starbs[\\\"Latitude\\\"])\\nplt.show()\";\n",
       "                var nbb_cells = Jupyter.notebook.get_cells();\n",
       "                for (var i = 0; i < nbb_cells.length; ++i) {\n",
       "                    if (nbb_cells[i].input_prompt_number == nbb_cell_id) {\n",
       "                        if (nbb_cells[i].get_text() == nbb_unformatted_code) {\n",
       "                             nbb_cells[i].set_text(nbb_formatted_code);\n",
       "                        }\n",
       "                        break;\n",
       "                    }\n",
       "                }\n",
       "            }, 500);\n",
       "            "
      ],
      "text/plain": [
       "<IPython.core.display.Javascript object>"
      ]
     },
     "metadata": {},
     "output_type": "display_data"
    }
   ],
   "source": [
    "sns.distplot(starbs[\"Latitude\"])\n",
    "plt.show()"
   ]
  },
  {
   "cell_type": "markdown",
   "metadata": {
    "id": "PzkRHuE9z25r"
   },
   "source": [
    "## Gaussian Mixture Model\n",
    "\n",
    "gaussian distribution = normal distribution\n",
    " \n",
    "### MLE\n",
    "\n",
    "We're given the below data, and we're told that the data is measurements of some snail characteristic 🐌.  We want to try and figure out what the *population* distribution looks like.  Remember we just have a *sample*, but the population is all of the snail species we're studying.  Having a good estimate of this population distribution can benefit and guide our analysis."
   ]
  },
  {
   "cell_type": "code",
   "execution_count": 42,
   "metadata": {
    "id": "mYvL1j59CD0l"
   },
   "outputs": [
    {
     "data": {
      "application/javascript": [
       "\n",
       "            setTimeout(function() {\n",
       "                var nbb_cell_id = 42;\n",
       "                var nbb_unformatted_code = \"# fmt: off\\ndata = [ 8.521, 16.586, 11.154,  3.323, 13.662, 14.649,  6.149,  5.528,\\n        18.871, 11.498,  8.921,  5.776,  7.292,  6.638, 13.321,  7.073,\\n         8.827, 10.375,  1.645, 13.566, 19.846,  6.347,  8.617, 14.462,\\n         4.483, 11.170, 11.322,  5.710, 11.311,  7.672,  9.765, 14.443,\\n        18.360,  9.304, 10.247, 10.955, 14.194,  8.344,  5.783, 12.533,\\n        12.937,  0.846,  4.925,  9.006, 11.443, 16.160, 10.751,  8.513,\\n        23.865, 17.228]\";\n",
       "                var nbb_formatted_code = \"# fmt: off\\ndata = [ 8.521, 16.586, 11.154,  3.323, 13.662, 14.649,  6.149,  5.528,\\n        18.871, 11.498,  8.921,  5.776,  7.292,  6.638, 13.321,  7.073,\\n         8.827, 10.375,  1.645, 13.566, 19.846,  6.347,  8.617, 14.462,\\n         4.483, 11.170, 11.322,  5.710, 11.311,  7.672,  9.765, 14.443,\\n        18.360,  9.304, 10.247, 10.955, 14.194,  8.344,  5.783, 12.533,\\n        12.937,  0.846,  4.925,  9.006, 11.443, 16.160, 10.751,  8.513,\\n        23.865, 17.228]\";\n",
       "                var nbb_cells = Jupyter.notebook.get_cells();\n",
       "                for (var i = 0; i < nbb_cells.length; ++i) {\n",
       "                    if (nbb_cells[i].input_prompt_number == nbb_cell_id) {\n",
       "                        if (nbb_cells[i].get_text() == nbb_unformatted_code) {\n",
       "                             nbb_cells[i].set_text(nbb_formatted_code);\n",
       "                        }\n",
       "                        break;\n",
       "                    }\n",
       "                }\n",
       "            }, 500);\n",
       "            "
      ],
      "text/plain": [
       "<IPython.core.display.Javascript object>"
      ]
     },
     "metadata": {},
     "output_type": "display_data"
    }
   ],
   "source": [
    "# fmt: off\n",
    "data = [ 8.521, 16.586, 11.154,  3.323, 13.662, 14.649,  6.149,  5.528,\n",
    "        18.871, 11.498,  8.921,  5.776,  7.292,  6.638, 13.321,  7.073,\n",
    "         8.827, 10.375,  1.645, 13.566, 19.846,  6.347,  8.617, 14.462,\n",
    "         4.483, 11.170, 11.322,  5.710, 11.311,  7.672,  9.765, 14.443,\n",
    "        18.360,  9.304, 10.247, 10.955, 14.194,  8.344,  5.783, 12.533,\n",
    "        12.937,  0.846,  4.925,  9.006, 11.443, 16.160, 10.751,  8.513,\n",
    "        23.865, 17.228]"
   ]
  },
  {
   "cell_type": "markdown",
   "metadata": {
    "id": "amFnO7QICD0o"
   },
   "source": [
    "* Before plotting:\n",
    "    * What kind of distribution do you expect this type of data to follow?\n",
    "    * What 'parameters' does that distribution have?\n",
    "        * i.e. these are what you'd need to give `np.random.<distribution_name>()` so it can know what shape of distribution you want random numbers from\n",
    "\n",
    "\n",
    "* Now let's plot a histogram.  Does the shape of the data's distribution support your hypothesis?"
   ]
  },
  {
   "cell_type": "code",
   "execution_count": 43,
   "metadata": {
    "colab": {
     "base_uri": "https://localhost:8080/",
     "height": 34
    },
    "id": "b-0P6QE-CD0o",
    "outputId": "4537c722-9863-496e-c6e4-cb0875eebff2"
   },
   "outputs": [
    {
     "data": {
      "text/plain": [
       "50"
      ]
     },
     "execution_count": 43,
     "metadata": {},
     "output_type": "execute_result"
    },
    {
     "data": {
      "application/javascript": [
       "\n",
       "            setTimeout(function() {\n",
       "                var nbb_cell_id = 43;\n",
       "                var nbb_unformatted_code = \"len(data)\";\n",
       "                var nbb_formatted_code = \"len(data)\";\n",
       "                var nbb_cells = Jupyter.notebook.get_cells();\n",
       "                for (var i = 0; i < nbb_cells.length; ++i) {\n",
       "                    if (nbb_cells[i].input_prompt_number == nbb_cell_id) {\n",
       "                        if (nbb_cells[i].get_text() == nbb_unformatted_code) {\n",
       "                             nbb_cells[i].set_text(nbb_formatted_code);\n",
       "                        }\n",
       "                        break;\n",
       "                    }\n",
       "                }\n",
       "            }, 500);\n",
       "            "
      ],
      "text/plain": [
       "<IPython.core.display.Javascript object>"
      ]
     },
     "metadata": {},
     "output_type": "display_data"
    }
   ],
   "source": [
    "len(data)"
   ]
  },
  {
   "cell_type": "code",
   "execution_count": 44,
   "metadata": {
    "colab": {
     "base_uri": "https://localhost:8080/",
     "height": 265
    },
    "id": "XHMn-4y-CD0t",
    "outputId": "0246b4af-8ee1-4803-bcdb-e608b3c369c7"
   },
   "outputs": [
    {
     "data": {
      "image/png": "[encoded data removed]",
      "text/plain": [
       "<Figure size 432x288 with 1 Axes>"
      ]
     },
     "metadata": {
      "needs_background": "light"
     },
     "output_type": "display_data"
    },
    {
     "data": {
      "application/javascript": [
       "\n",
       "            setTimeout(function() {\n",
       "                var nbb_cell_id = 44;\n",
       "                var nbb_unformatted_code = \"plt.hist(data)\\nplt.show()\";\n",
       "                var nbb_formatted_code = \"plt.hist(data)\\nplt.show()\";\n",
       "                var nbb_cells = Jupyter.notebook.get_cells();\n",
       "                for (var i = 0; i < nbb_cells.length; ++i) {\n",
       "                    if (nbb_cells[i].input_prompt_number == nbb_cell_id) {\n",
       "                        if (nbb_cells[i].get_text() == nbb_unformatted_code) {\n",
       "                             nbb_cells[i].set_text(nbb_formatted_code);\n",
       "                        }\n",
       "                        break;\n",
       "                    }\n",
       "                }\n",
       "            }, 500);\n",
       "            "
      ],
      "text/plain": [
       "<IPython.core.display.Javascript object>"
      ]
     },
     "metadata": {},
     "output_type": "display_data"
    }
   ],
   "source": [
    "plt.hist(data)\n",
    "plt.show()"
   ]
  },
  {
   "cell_type": "markdown",
   "metadata": {
    "id": "UyVcdJgDCD0v"
   },
   "source": [
    "Remember, we're after the population distribution.\n",
    "\n",
    "* Re-plot the histogram\n",
    "* Add a vertical line at 20 (color it and give it a label for the legend)\n",
    "* Add a vertical line at 10 (color it and give it a label for the legend)\n",
    "* Add a vertical line at  5 (color it and give it a label for the legend)\n",
    "\n",
    "Let's say these are 3 guesses at what the population mean are.  Given our data, which of these is the most *likely*.  Due to the nature of random sampling, it's possible that all 3 of these are valid, but we it's not practical to assume that we got a very unusual random sample."
   ]
  },
  {
   "cell_type": "code",
   "execution_count": 45,
   "metadata": {
    "colab": {
     "base_uri": "https://localhost:8080/",
     "height": 265
    },
    "id": "uCg_O2KSCD0z",
    "outputId": "6e12fba3-bd26-45da-8d2a-6f6014cf84be"
   },
   "outputs": [
    {
     "data": {
      "image/png": "[encoded data removed]",
      "text/plain": [
       "<Figure size 432x288 with 1 Axes>"
      ]
     },
     "metadata": {
      "needs_background": "light"
     },
     "output_type": "display_data"
    },
    {
     "data": {
      "application/javascript": [
       "\n",
       "            setTimeout(function() {\n",
       "                var nbb_cell_id = 45;\n",
       "                var nbb_unformatted_code = \"plt.hist(data)\\nplt.axvline(20, c=\\\"orange\\\", label=\\\"20\\\")\\nplt.axvline(10, c=\\\"red\\\", label=\\\"10\\\")\\nplt.axvline(5, c=\\\"black\\\", label=\\\"5\\\")\\nplt.show()\";\n",
       "                var nbb_formatted_code = \"plt.hist(data)\\nplt.axvline(20, c=\\\"orange\\\", label=\\\"20\\\")\\nplt.axvline(10, c=\\\"red\\\", label=\\\"10\\\")\\nplt.axvline(5, c=\\\"black\\\", label=\\\"5\\\")\\nplt.show()\";\n",
       "                var nbb_cells = Jupyter.notebook.get_cells();\n",
       "                for (var i = 0; i < nbb_cells.length; ++i) {\n",
       "                    if (nbb_cells[i].input_prompt_number == nbb_cell_id) {\n",
       "                        if (nbb_cells[i].get_text() == nbb_unformatted_code) {\n",
       "                             nbb_cells[i].set_text(nbb_formatted_code);\n",
       "                        }\n",
       "                        break;\n",
       "                    }\n",
       "                }\n",
       "            }, 500);\n",
       "            "
      ],
      "text/plain": [
       "<IPython.core.display.Javascript object>"
      ]
     },
     "metadata": {},
     "output_type": "display_data"
    }
   ],
   "source": [
    "plt.hist(data)\n",
    "plt.axvline(20, c=\"orange\", label=\"20\")\n",
    "plt.axvline(10, c=\"red\", label=\"10\")\n",
    "plt.axvline(5, c=\"black\", label=\"5\")\n",
    "plt.show()"
   ]
  },
  {
   "cell_type": "markdown",
   "metadata": {
    "id": "MWxbV8zICD01"
   },
   "source": [
    "We're engaging in a process called Maximum Likelihood Estimation (MLE).  We're trying to Estimate the population mean based on what's most Likely.  We want our Estimate to have the Maximum Likelihood of being correct.\n",
    "\n",
    "Below is a visualization of us trying to find the population mean via MLE.\n",
    "\n",
    "Note, this is why the mean parameter of `np.random.normal` is called `loc`.\n",
    "\n",
    "<img src='images/mean_mle.gif' width=70%>"
   ]
  },
  {
   "cell_type": "markdown",
   "metadata": {
    "id": "eOxfH5J5CD02"
   },
   "source": [
    "There's one more parameter we'd need to esimate in order to fully describe our distribution's shape.  This is why this parameter in `np.random.normal` is called `scale` (we scale the width, the height is derived from the width).\n",
    "\n",
    "<img src='images/std_mle.gif' width=60%>"
   ]
  },
  {
   "cell_type": "markdown",
   "metadata": {
    "id": "heudzjCUCD02"
   },
   "source": [
    "In this case, the maximum likelihood estimates for the population mean and standard deviation are the equal to the sample mean and sample standard deviations.\n",
    "\n",
    "* Generate 1000 random data points from our estimate popuation distribution\n",
    "* Plot this resulting distribution, compare it to our sample"
   ]
  },
  {
   "cell_type": "code",
   "execution_count": 46,
   "metadata": {
    "colab": {
     "base_uri": "https://localhost:8080/",
     "height": 34
    },
    "id": "o1-s4orGCD02",
    "outputId": "ced8b849-acef-49b5-a390-4faed779c7f5"
   },
   "outputs": [
    {
     "data": {
      "text/plain": [
       "10.478339999999998"
      ]
     },
     "execution_count": 46,
     "metadata": {},
     "output_type": "execute_result"
    },
    {
     "data": {
      "application/javascript": [
       "\n",
       "            setTimeout(function() {\n",
       "                var nbb_cell_id = 46;\n",
       "                var nbb_unformatted_code = \"np.mean(data)\";\n",
       "                var nbb_formatted_code = \"np.mean(data)\";\n",
       "                var nbb_cells = Jupyter.notebook.get_cells();\n",
       "                for (var i = 0; i < nbb_cells.length; ++i) {\n",
       "                    if (nbb_cells[i].input_prompt_number == nbb_cell_id) {\n",
       "                        if (nbb_cells[i].get_text() == nbb_unformatted_code) {\n",
       "                             nbb_cells[i].set_text(nbb_formatted_code);\n",
       "                        }\n",
       "                        break;\n",
       "                    }\n",
       "                }\n",
       "            }, 500);\n",
       "            "
      ],
      "text/plain": [
       "<IPython.core.display.Javascript object>"
      ]
     },
     "metadata": {},
     "output_type": "display_data"
    }
   ],
   "source": [
    "np.mean(data)"
   ]
  },
  {
   "cell_type": "code",
   "execution_count": 47,
   "metadata": {
    "colab": {
     "base_uri": "https://localhost:8080/",
     "height": 34
    },
    "id": "9mVWq0zDCD08",
    "outputId": "14a267e0-a84e-4ca7-f239-8a67e5f3305c",
    "scrolled": true
   },
   "outputs": [
    {
     "data": {
      "text/plain": [
       "4.701991733765596"
      ]
     },
     "execution_count": 47,
     "metadata": {},
     "output_type": "execute_result"
    },
    {
     "data": {
      "application/javascript": [
       "\n",
       "            setTimeout(function() {\n",
       "                var nbb_cell_id = 47;\n",
       "                var nbb_unformatted_code = \"np.std(data)\";\n",
       "                var nbb_formatted_code = \"np.std(data)\";\n",
       "                var nbb_cells = Jupyter.notebook.get_cells();\n",
       "                for (var i = 0; i < nbb_cells.length; ++i) {\n",
       "                    if (nbb_cells[i].input_prompt_number == nbb_cell_id) {\n",
       "                        if (nbb_cells[i].get_text() == nbb_unformatted_code) {\n",
       "                             nbb_cells[i].set_text(nbb_formatted_code);\n",
       "                        }\n",
       "                        break;\n",
       "                    }\n",
       "                }\n",
       "            }, 500);\n",
       "            "
      ],
      "text/plain": [
       "<IPython.core.display.Javascript object>"
      ]
     },
     "metadata": {},
     "output_type": "display_data"
    }
   ],
   "source": [
    "np.std(data)"
   ]
  },
  {
   "cell_type": "code",
   "execution_count": 48,
   "metadata": {
    "colab": {
     "base_uri": "https://localhost:8080/",
     "height": 352
    },
    "id": "W45rwfg7CD1S",
    "outputId": "4b8ce1bd-b32e-4eae-aa80-8bc2794e3236"
   },
   "outputs": [
    {
     "data": {
      "image/png": "[encoded data removed]",
      "text/plain": [
       "<Figure size 432x288 with 1 Axes>"
      ]
     },
     "metadata": {
      "needs_background": "light"
     },
     "output_type": "display_data"
    },
    {
     "data": {
      "application/javascript": [
       "\n",
       "            setTimeout(function() {\n",
       "                var nbb_cell_id = 48;\n",
       "                var nbb_unformatted_code = \"sample = np.random.normal(10.478, 4.702, size=10000)\\nsns.distplot(sample, hist=False)\\nplt.show()\";\n",
       "                var nbb_formatted_code = \"sample = np.random.normal(10.478, 4.702, size=10000)\\nsns.distplot(sample, hist=False)\\nplt.show()\";\n",
       "                var nbb_cells = Jupyter.notebook.get_cells();\n",
       "                for (var i = 0; i < nbb_cells.length; ++i) {\n",
       "                    if (nbb_cells[i].input_prompt_number == nbb_cell_id) {\n",
       "                        if (nbb_cells[i].get_text() == nbb_unformatted_code) {\n",
       "                             nbb_cells[i].set_text(nbb_formatted_code);\n",
       "                        }\n",
       "                        break;\n",
       "                    }\n",
       "                }\n",
       "            }, 500);\n",
       "            "
      ],
      "text/plain": [
       "<IPython.core.display.Javascript object>"
      ]
     },
     "metadata": {},
     "output_type": "display_data"
    }
   ],
   "source": [
    "sample = np.random.normal(10.478, 4.702, size=10000)\n",
    "sns.distplot(sample, hist=False)\n",
    "plt.show()"
   ]
  },
  {
   "cell_type": "markdown",
   "metadata": {
    "id": "ucAnUoaCCD1a"
   },
   "source": [
    "### Mixing\n",
    "\n",
    "We just got some new data.  This data was collected from 2 separate species of snails 🐌.\n",
    "\n",
    "We know these snails each follow a normal distribution, and we know that they have different means & standard deviations.  Unfortunately, the scientist in the field didn't write down which species each observation is, so we have to try and figure out these 2 separate distributions from a sample of mixed data.\n",
    "\n",
    "If we knew the species labels, we could perform the same MLE process we did above (filter and perform MLE 1 at a time)."
   ]
  },
  {
   "cell_type": "code",
   "execution_count": 49,
   "metadata": {
    "id": "k3AdzP5CCD1d"
   },
   "outputs": [
    {
     "data": {
      "application/javascript": [
       "\n",
       "            setTimeout(function() {\n",
       "                var nbb_cell_id = 49;\n",
       "                var nbb_unformatted_code = \"# fmt: off\\ndata = [11.83984961, 12.37143473, 26.15417807, 28.58500880, 27.70571253,\\n        24.24028217, 18.33611103, 15.28117383, 14.57235710, 18.49006327,\\n        37.83761751, 18.82148403, 36.62430095, 26.61444903, 15.3433858 ,\\n        24.60865873, 31.67437436, 26.08487739, 14.75279305, 25.63485726,\\n        30.44683604, 29.64163292, 14.91536797, 20.48912193, 27.97187397,\\n        11.41235662, 17.90399557, 33.82514212, 17.71352474, 25.98954934,\\n        19.86878159, 26.92304096, 16.25738730, 29.10667734, 31.06548273,\\n        21.14768063, 29.93913722, 25.32381510, 18.98788655, 16.60772929,\\n        25.00896332, 17.41901911, 14.21902871, 27.90108363, 26.99118323,\\n        26.03784060, 31.83483958, 25.73633429, 31.48278996, 24.23683382,\\n        19.24019041, 14.73365444, 27.70687662, 19.82397780, 14.58054905,\\n        22.51116415, 21.31616800, 26.34025573, 28.45094146, 24.61646750]\";\n",
       "                var nbb_formatted_code = \"# fmt: off\\ndata = [11.83984961, 12.37143473, 26.15417807, 28.58500880, 27.70571253,\\n        24.24028217, 18.33611103, 15.28117383, 14.57235710, 18.49006327,\\n        37.83761751, 18.82148403, 36.62430095, 26.61444903, 15.3433858 ,\\n        24.60865873, 31.67437436, 26.08487739, 14.75279305, 25.63485726,\\n        30.44683604, 29.64163292, 14.91536797, 20.48912193, 27.97187397,\\n        11.41235662, 17.90399557, 33.82514212, 17.71352474, 25.98954934,\\n        19.86878159, 26.92304096, 16.25738730, 29.10667734, 31.06548273,\\n        21.14768063, 29.93913722, 25.32381510, 18.98788655, 16.60772929,\\n        25.00896332, 17.41901911, 14.21902871, 27.90108363, 26.99118323,\\n        26.03784060, 31.83483958, 25.73633429, 31.48278996, 24.23683382,\\n        19.24019041, 14.73365444, 27.70687662, 19.82397780, 14.58054905,\\n        22.51116415, 21.31616800, 26.34025573, 28.45094146, 24.61646750]\";\n",
       "                var nbb_cells = Jupyter.notebook.get_cells();\n",
       "                for (var i = 0; i < nbb_cells.length; ++i) {\n",
       "                    if (nbb_cells[i].input_prompt_number == nbb_cell_id) {\n",
       "                        if (nbb_cells[i].get_text() == nbb_unformatted_code) {\n",
       "                             nbb_cells[i].set_text(nbb_formatted_code);\n",
       "                        }\n",
       "                        break;\n",
       "                    }\n",
       "                }\n",
       "            }, 500);\n",
       "            "
      ],
      "text/plain": [
       "<IPython.core.display.Javascript object>"
      ]
     },
     "metadata": {},
     "output_type": "display_data"
    }
   ],
   "source": [
    "# fmt: off\n",
    "data = [11.83984961, 12.37143473, 26.15417807, 28.58500880, 27.70571253,\n",
    "        24.24028217, 18.33611103, 15.28117383, 14.57235710, 18.49006327,\n",
    "        37.83761751, 18.82148403, 36.62430095, 26.61444903, 15.3433858 ,\n",
    "        24.60865873, 31.67437436, 26.08487739, 14.75279305, 25.63485726,\n",
    "        30.44683604, 29.64163292, 14.91536797, 20.48912193, 27.97187397,\n",
    "        11.41235662, 17.90399557, 33.82514212, 17.71352474, 25.98954934,\n",
    "        19.86878159, 26.92304096, 16.25738730, 29.10667734, 31.06548273,\n",
    "        21.14768063, 29.93913722, 25.32381510, 18.98788655, 16.60772929,\n",
    "        25.00896332, 17.41901911, 14.21902871, 27.90108363, 26.99118323,\n",
    "        26.03784060, 31.83483958, 25.73633429, 31.48278996, 24.23683382,\n",
    "        19.24019041, 14.73365444, 27.70687662, 19.82397780, 14.58054905,\n",
    "        22.51116415, 21.31616800, 26.34025573, 28.45094146, 24.61646750]"
   ]
  },
  {
   "cell_type": "markdown",
   "metadata": {
    "id": "RZZfxnNRCD1o"
   },
   "source": [
    "Plot the distribution of the data.  Do you think we'll be able to separate out 2 normal distributions from it?"
   ]
  },
  {
   "cell_type": "code",
   "execution_count": 50,
   "metadata": {
    "colab": {
     "base_uri": "https://localhost:8080/",
     "height": 352
    },
    "id": "dNa8orBoCD1p",
    "outputId": "44b39810-55ba-4540-cd80-5a7d6442f0c4"
   },
   "outputs": [
    {
     "data": {
      "image/png": "[encoded data removed]",
      "text/plain": [
       "<Figure size 432x288 with 1 Axes>"
      ]
     },
     "metadata": {
      "needs_background": "light"
     },
     "output_type": "display_data"
    },
    {
     "data": {
      "application/javascript": [
       "\n",
       "            setTimeout(function() {\n",
       "                var nbb_cell_id = 50;\n",
       "                var nbb_unformatted_code = \"sns.distplot(data)\\nplt.show()\";\n",
       "                var nbb_formatted_code = \"sns.distplot(data)\\nplt.show()\";\n",
       "                var nbb_cells = Jupyter.notebook.get_cells();\n",
       "                for (var i = 0; i < nbb_cells.length; ++i) {\n",
       "                    if (nbb_cells[i].input_prompt_number == nbb_cell_id) {\n",
       "                        if (nbb_cells[i].get_text() == nbb_unformatted_code) {\n",
       "                             nbb_cells[i].set_text(nbb_formatted_code);\n",
       "                        }\n",
       "                        break;\n",
       "                    }\n",
       "                }\n",
       "            }, 500);\n",
       "            "
      ],
      "text/plain": [
       "<IPython.core.display.Javascript object>"
      ]
     },
     "metadata": {},
     "output_type": "display_data"
    }
   ],
   "source": [
    "sns.distplot(data)\n",
    "plt.show()"
   ]
  },
  {
   "cell_type": "markdown",
   "metadata": {
    "id": "2wt0RMLbCD1r"
   },
   "source": [
    "To figure this out, we'll throw in some initial guesses."
   ]
  },
  {
   "cell_type": "code",
   "execution_count": 51,
   "metadata": {
    "id": "lu0i0l-jCD1s"
   },
   "outputs": [
    {
     "data": {
      "application/javascript": [
       "\n",
       "            setTimeout(function() {\n",
       "                var nbb_cell_id = 51;\n",
       "                var nbb_unformatted_code = \"def plot_guess(\\n    data, x1_mean, x1_std, x2_mean, x2_std, n=int(1e6), prob_1=None, prob_2=None\\n):\\n    \\\"\\\"\\\"Helper function for plotting GMM process\\\"\\\"\\\"\\n    sns.distplot(np.random.normal(x1_mean, x1_std, n), hist=False)\\n    sns.distplot(np.random.normal(x2_mean, x1_std, n), hist=False)\\n\\n    if prob_1 is not None and prob_2 is not None:\\n        prob_1 = MinMaxScaler().fit_transform(prob_1)\\n        prob_2 = MinMaxScaler().fit_transform(prob_2)\\n\\n        for x, p1, p2 in zip(data, prob_1, prob_2):\\n            if p1 > p2:\\n                c = \\\"blue\\\"\\n                alpha = p1[0]\\n            else:\\n                c = \\\"orange\\\"\\n                alpha = p2[0]\\n\\n            plt.scatter(x, 0, alpha=alpha * 0.8, c=c)\\n    else:\\n        plt.scatter(data, [0 for _ in data], c=\\\"black\\\")\\n\\n    plt.yticks([])\";\n",
       "                var nbb_formatted_code = \"def plot_guess(\\n    data, x1_mean, x1_std, x2_mean, x2_std, n=int(1e6), prob_1=None, prob_2=None\\n):\\n    \\\"\\\"\\\"Helper function for plotting GMM process\\\"\\\"\\\"\\n    sns.distplot(np.random.normal(x1_mean, x1_std, n), hist=False)\\n    sns.distplot(np.random.normal(x2_mean, x1_std, n), hist=False)\\n\\n    if prob_1 is not None and prob_2 is not None:\\n        prob_1 = MinMaxScaler().fit_transform(prob_1)\\n        prob_2 = MinMaxScaler().fit_transform(prob_2)\\n\\n        for x, p1, p2 in zip(data, prob_1, prob_2):\\n            if p1 > p2:\\n                c = \\\"blue\\\"\\n                alpha = p1[0]\\n            else:\\n                c = \\\"orange\\\"\\n                alpha = p2[0]\\n\\n            plt.scatter(x, 0, alpha=alpha * 0.8, c=c)\\n    else:\\n        plt.scatter(data, [0 for _ in data], c=\\\"black\\\")\\n\\n    plt.yticks([])\";\n",
       "                var nbb_cells = Jupyter.notebook.get_cells();\n",
       "                for (var i = 0; i < nbb_cells.length; ++i) {\n",
       "                    if (nbb_cells[i].input_prompt_number == nbb_cell_id) {\n",
       "                        if (nbb_cells[i].get_text() == nbb_unformatted_code) {\n",
       "                             nbb_cells[i].set_text(nbb_formatted_code);\n",
       "                        }\n",
       "                        break;\n",
       "                    }\n",
       "                }\n",
       "            }, 500);\n",
       "            "
      ],
      "text/plain": [
       "<IPython.core.display.Javascript object>"
      ]
     },
     "metadata": {},
     "output_type": "display_data"
    }
   ],
   "source": [
    "def plot_guess(\n",
    "    data, x1_mean, x1_std, x2_mean, x2_std, n=int(1e6), prob_1=None, prob_2=None\n",
    "):\n",
    "    \"\"\"Helper function for plotting GMM process\"\"\"\n",
    "    sns.distplot(np.random.normal(x1_mean, x1_std, n), hist=False)\n",
    "    sns.distplot(np.random.normal(x2_mean, x1_std, n), hist=False)\n",
    "\n",
    "    if prob_1 is not None and prob_2 is not None:\n",
    "        prob_1 = MinMaxScaler().fit_transform(prob_1)\n",
    "        prob_2 = MinMaxScaler().fit_transform(prob_2)\n",
    "\n",
    "        for x, p1, p2 in zip(data, prob_1, prob_2):\n",
    "            if p1 > p2:\n",
    "                c = \"blue\"\n",
    "                alpha = p1[0]\n",
    "            else:\n",
    "                c = \"orange\"\n",
    "                alpha = p2[0]\n",
    "\n",
    "            plt.scatter(x, 0, alpha=alpha * 0.8, c=c)\n",
    "    else:\n",
    "        plt.scatter(data, [0 for _ in data], c=\"black\")\n",
    "\n",
    "    plt.yticks([])"
   ]
  },
  {
   "cell_type": "code",
   "execution_count": 52,
   "metadata": {
    "colab": {
     "base_uri": "https://localhost:8080/",
     "height": 435
    },
    "id": "H_X6HWVKCD1x",
    "outputId": "9cba8197-7dde-45d0-e25c-3a0061d94044"
   },
   "outputs": [
    {
     "data": {
      "image/png": "[encoded data removed]",
      "text/plain": [
       "<Figure size 432x288 with 1 Axes>"
      ]
     },
     "metadata": {
      "needs_background": "light"
     },
     "output_type": "display_data"
    },
    {
     "data": {
      "application/javascript": [
       "\n",
       "            setTimeout(function() {\n",
       "                var nbb_cell_id = 52;\n",
       "                var nbb_unformatted_code = \"plot_guess(data, x1_mean=30, x1_std=6, x2_mean=10, x2_std=6)\\nplt.title(\\\"initial guess\\\")\\nplt.show()\";\n",
       "                var nbb_formatted_code = \"plot_guess(data, x1_mean=30, x1_std=6, x2_mean=10, x2_std=6)\\nplt.title(\\\"initial guess\\\")\\nplt.show()\";\n",
       "                var nbb_cells = Jupyter.notebook.get_cells();\n",
       "                for (var i = 0; i < nbb_cells.length; ++i) {\n",
       "                    if (nbb_cells[i].input_prompt_number == nbb_cell_id) {\n",
       "                        if (nbb_cells[i].get_text() == nbb_unformatted_code) {\n",
       "                             nbb_cells[i].set_text(nbb_formatted_code);\n",
       "                        }\n",
       "                        break;\n",
       "                    }\n",
       "                }\n",
       "            }, 500);\n",
       "            "
      ],
      "text/plain": [
       "<IPython.core.display.Javascript object>"
      ]
     },
     "metadata": {},
     "output_type": "display_data"
    }
   ],
   "source": [
    "plot_guess(data, x1_mean=30, x1_std=6, x2_mean=10, x2_std=6)\n",
    "plt.title(\"initial guess\")\n",
    "plt.show()"
   ]
  },
  {
   "cell_type": "markdown",
   "metadata": {
    "id": "AwuRfbnvCD10"
   },
   "source": [
    "Thanks to these distributions, we can now assign a probability (or likelihood) that each point came from each distribution.  Using this, we can split the data into 2 groups:\n",
    "\n",
    "* (1) points more likely to have come from the orange distribution\n",
    "* (2) points more likely to have come from the blue distribution"
   ]
  },
  {
   "cell_type": "code",
   "execution_count": 53,
   "metadata": {
    "colab": {
     "base_uri": "https://localhost:8080/",
     "height": 435
    },
    "id": "eOaLiVMLCD11",
    "outputId": "680da8ac-5eaa-4ec2-ed5e-a80abefed622"
   },
   "outputs": [
    {
     "data": {
      "image/png": "[encoded data removed]",
      "text/plain": [
       "<Figure size 432x288 with 1 Axes>"
      ]
     },
     "metadata": {
      "needs_background": "light"
     },
     "output_type": "display_data"
    },
    {
     "data": {
      "application/javascript": [
       "\n",
       "            setTimeout(function() {\n",
       "                var nbb_cell_id = 53;\n",
       "                var nbb_unformatted_code = \"df = pd.DataFrame(data, columns=[\\\"mixture\\\"])\\ndf[\\\"prob_blue\\\"] = stats.norm(30, 6).pdf(df[\\\"mixture\\\"])\\ndf[\\\"prob_orange\\\"] = stats.norm(10, 6).pdf(df[\\\"mixture\\\"])\\ndf[\\\"label\\\"] = \\\"blue\\\"\\ndf.loc[df[\\\"prob_orange\\\"] > df[\\\"prob_blue\\\"], \\\"label\\\"] = \\\"orange\\\"\\n\\nplot_guess(\\n    data,\\n    x1_mean=30,\\n    x1_std=6,\\n    x2_mean=10,\\n    x2_std=6,\\n    prob_1=df[[\\\"prob_blue\\\"]],\\n    prob_2=df[[\\\"prob_orange\\\"]],\\n)\\nplt.title(\\\"initial guess\\\")\\nplt.show()\";\n",
       "                var nbb_formatted_code = \"df = pd.DataFrame(data, columns=[\\\"mixture\\\"])\\ndf[\\\"prob_blue\\\"] = stats.norm(30, 6).pdf(df[\\\"mixture\\\"])\\ndf[\\\"prob_orange\\\"] = stats.norm(10, 6).pdf(df[\\\"mixture\\\"])\\ndf[\\\"label\\\"] = \\\"blue\\\"\\ndf.loc[df[\\\"prob_orange\\\"] > df[\\\"prob_blue\\\"], \\\"label\\\"] = \\\"orange\\\"\\n\\nplot_guess(\\n    data,\\n    x1_mean=30,\\n    x1_std=6,\\n    x2_mean=10,\\n    x2_std=6,\\n    prob_1=df[[\\\"prob_blue\\\"]],\\n    prob_2=df[[\\\"prob_orange\\\"]],\\n)\\nplt.title(\\\"initial guess\\\")\\nplt.show()\";\n",
       "                var nbb_cells = Jupyter.notebook.get_cells();\n",
       "                for (var i = 0; i < nbb_cells.length; ++i) {\n",
       "                    if (nbb_cells[i].input_prompt_number == nbb_cell_id) {\n",
       "                        if (nbb_cells[i].get_text() == nbb_unformatted_code) {\n",
       "                             nbb_cells[i].set_text(nbb_formatted_code);\n",
       "                        }\n",
       "                        break;\n",
       "                    }\n",
       "                }\n",
       "            }, 500);\n",
       "            "
      ],
      "text/plain": [
       "<IPython.core.display.Javascript object>"
      ]
     },
     "metadata": {},
     "output_type": "display_data"
    }
   ],
   "source": [
    "df = pd.DataFrame(data, columns=[\"mixture\"])\n",
    "df[\"prob_blue\"] = stats.norm(30, 6).pdf(df[\"mixture\"])\n",
    "df[\"prob_orange\"] = stats.norm(10, 6).pdf(df[\"mixture\"])\n",
    "df[\"label\"] = \"blue\"\n",
    "df.loc[df[\"prob_orange\"] > df[\"prob_blue\"], \"label\"] = \"orange\"\n",
    "\n",
    "plot_guess(\n",
    "    data,\n",
    "    x1_mean=30,\n",
    "    x1_std=6,\n",
    "    x2_mean=10,\n",
    "    x2_std=6,\n",
    "    prob_1=df[[\"prob_blue\"]],\n",
    "    prob_2=df[[\"prob_orange\"]],\n",
    ")\n",
    "plt.title(\"initial guess\")\n",
    "plt.show()"
   ]
  },
  {
   "cell_type": "markdown",
   "metadata": {
    "id": "3R3GGxXNCD13"
   },
   "source": [
    "We now have 2 individual groups of data! And just like in the single species example, we can now make a better guess about what each distribution looks like.  We can use this to update our guess of the distribution shapes."
   ]
  },
  {
   "cell_type": "code",
   "execution_count": 54,
   "metadata": {
    "colab": {
     "base_uri": "https://localhost:8080/",
     "height": 166
    },
    "id": "gJW97oJuCD14",
    "outputId": "1e64bb63-cc19-43d2-9d13-d0ca8fe160a5"
   },
   "outputs": [
    {
     "data": {
      "text/html": [
       "<div>\n",
       "<style scoped>\n",
       "    .dataframe tbody tr th:only-of-type {\n",
       "        vertical-align: middle;\n",
       "    }\n",
       "\n",
       "    .dataframe tbody tr th {\n",
       "        vertical-align: top;\n",
       "    }\n",
       "\n",
       "    .dataframe thead tr th {\n",
       "        text-align: left;\n",
       "    }\n",
       "\n",
       "    .dataframe thead tr:last-of-type th {\n",
       "        text-align: right;\n",
       "    }\n",
       "</style>\n",
       "<table border=\"1\" class=\"dataframe\">\n",
       "  <thead>\n",
       "    <tr>\n",
       "      <th></th>\n",
       "      <th colspan=\"2\" halign=\"left\">mixture</th>\n",
       "    </tr>\n",
       "    <tr>\n",
       "      <th></th>\n",
       "      <th>mean</th>\n",
       "      <th>std</th>\n",
       "    </tr>\n",
       "    <tr>\n",
       "      <th>label</th>\n",
       "      <th></th>\n",
       "      <th></th>\n",
       "    </tr>\n",
       "  </thead>\n",
       "  <tbody>\n",
       "    <tr>\n",
       "      <th>blue</th>\n",
       "      <td>27.508272</td>\n",
       "      <td>3.867000</td>\n",
       "    </tr>\n",
       "    <tr>\n",
       "      <th>orange</th>\n",
       "      <td>16.238787</td>\n",
       "      <td>2.525888</td>\n",
       "    </tr>\n",
       "  </tbody>\n",
       "</table>\n",
       "</div>"
      ],
      "text/plain": [
       "          mixture          \n",
       "             mean       std\n",
       "label                      \n",
       "blue    27.508272  3.867000\n",
       "orange  16.238787  2.525888"
      ]
     },
     "execution_count": 54,
     "metadata": {},
     "output_type": "execute_result"
    },
    {
     "data": {
      "application/javascript": [
       "\n",
       "            setTimeout(function() {\n",
       "                var nbb_cell_id = 54;\n",
       "                var nbb_unformatted_code = \"df.groupby(\\\"label\\\").agg({\\\"mixture\\\": [\\\"mean\\\", \\\"std\\\"]})\";\n",
       "                var nbb_formatted_code = \"df.groupby(\\\"label\\\").agg({\\\"mixture\\\": [\\\"mean\\\", \\\"std\\\"]})\";\n",
       "                var nbb_cells = Jupyter.notebook.get_cells();\n",
       "                for (var i = 0; i < nbb_cells.length; ++i) {\n",
       "                    if (nbb_cells[i].input_prompt_number == nbb_cell_id) {\n",
       "                        if (nbb_cells[i].get_text() == nbb_unformatted_code) {\n",
       "                             nbb_cells[i].set_text(nbb_formatted_code);\n",
       "                        }\n",
       "                        break;\n",
       "                    }\n",
       "                }\n",
       "            }, 500);\n",
       "            "
      ],
      "text/plain": [
       "<IPython.core.display.Javascript object>"
      ]
     },
     "metadata": {},
     "output_type": "display_data"
    }
   ],
   "source": [
    "df.groupby(\"label\").agg({\"mixture\": [\"mean\", \"std\"]})"
   ]
  },
  {
   "cell_type": "code",
   "execution_count": 55,
   "metadata": {
    "colab": {
     "base_uri": "https://localhost:8080/",
     "height": 435
    },
    "id": "aHmgtLQECD16",
    "outputId": "0394a45f-498e-404f-f157-e9a8a39ce910"
   },
   "outputs": [
    {
     "data": {
      "image/png": "[encoded data removed]",
      "text/plain": [
       "<Figure size 432x288 with 1 Axes>"
      ]
     },
     "metadata": {
      "needs_background": "light"
     },
     "output_type": "display_data"
    },
    {
     "data": {
      "application/javascript": [
       "\n",
       "            setTimeout(function() {\n",
       "                var nbb_cell_id = 55;\n",
       "                var nbb_unformatted_code = \"plot_guess(\\n    data,\\n    x1_mean=27.508272,\\n    x1_std=3.867000,\\n    x2_mean=16.238787,\\n    x2_std=2.525888,\\n    prob_1=df[[\\\"prob_blue\\\"]],\\n    prob_2=df[[\\\"prob_orange\\\"]],\\n)\\nplt.title(\\\"updated guess\\\")\\nplt.show()\";\n",
       "                var nbb_formatted_code = \"plot_guess(\\n    data,\\n    x1_mean=27.508272,\\n    x1_std=3.867000,\\n    x2_mean=16.238787,\\n    x2_std=2.525888,\\n    prob_1=df[[\\\"prob_blue\\\"]],\\n    prob_2=df[[\\\"prob_orange\\\"]],\\n)\\nplt.title(\\\"updated guess\\\")\\nplt.show()\";\n",
       "                var nbb_cells = Jupyter.notebook.get_cells();\n",
       "                for (var i = 0; i < nbb_cells.length; ++i) {\n",
       "                    if (nbb_cells[i].input_prompt_number == nbb_cell_id) {\n",
       "                        if (nbb_cells[i].get_text() == nbb_unformatted_code) {\n",
       "                             nbb_cells[i].set_text(nbb_formatted_code);\n",
       "                        }\n",
       "                        break;\n",
       "                    }\n",
       "                }\n",
       "            }, 500);\n",
       "            "
      ],
      "text/plain": [
       "<IPython.core.display.Javascript object>"
      ]
     },
     "metadata": {},
     "output_type": "display_data"
    }
   ],
   "source": [
    "plot_guess(\n",
    "    data,\n",
    "    x1_mean=27.508272,\n",
    "    x1_std=3.867000,\n",
    "    x2_mean=16.238787,\n",
    "    x2_std=2.525888,\n",
    "    prob_1=df[[\"prob_blue\"]],\n",
    "    prob_2=df[[\"prob_orange\"]],\n",
    ")\n",
    "plt.title(\"updated guess\")\n",
    "plt.show()"
   ]
  },
  {
   "cell_type": "code",
   "execution_count": 56,
   "metadata": {
    "colab": {
     "base_uri": "https://localhost:8080/",
     "height": 435
    },
    "id": "tN7tkC0KCD18",
    "outputId": "81ef0e03-b6f7-4e17-96aa-d91c8d3e8907"
   },
   "outputs": [
    {
     "data": {
      "image/png": "[encoded data removed]",
      "text/plain": [
       "<Figure size 432x288 with 1 Axes>"
      ]
     },
     "metadata": {
      "needs_background": "light"
     },
     "output_type": "display_data"
    },
    {
     "data": {
      "application/javascript": [
       "\n",
       "            setTimeout(function() {\n",
       "                var nbb_cell_id = 56;\n",
       "                var nbb_unformatted_code = \"plot_guess(\\n    data, x1_mean=27.508272, x1_std=3.867000, x2_mean=16.238787, x2_std=2.525888,\\n)\\nplt.title(\\\"updated guess\\\")\\nplt.show()\";\n",
       "                var nbb_formatted_code = \"plot_guess(\\n    data, x1_mean=27.508272, x1_std=3.867000, x2_mean=16.238787, x2_std=2.525888,\\n)\\nplt.title(\\\"updated guess\\\")\\nplt.show()\";\n",
       "                var nbb_cells = Jupyter.notebook.get_cells();\n",
       "                for (var i = 0; i < nbb_cells.length; ++i) {\n",
       "                    if (nbb_cells[i].input_prompt_number == nbb_cell_id) {\n",
       "                        if (nbb_cells[i].get_text() == nbb_unformatted_code) {\n",
       "                             nbb_cells[i].set_text(nbb_formatted_code);\n",
       "                        }\n",
       "                        break;\n",
       "                    }\n",
       "                }\n",
       "            }, 500);\n",
       "            "
      ],
      "text/plain": [
       "<IPython.core.display.Javascript object>"
      ]
     },
     "metadata": {},
     "output_type": "display_data"
    }
   ],
   "source": [
    "plot_guess(\n",
    "    data, x1_mean=27.508272, x1_std=3.867000, x2_mean=16.238787, x2_std=2.525888,\n",
    ")\n",
    "plt.title(\"updated guess\")\n",
    "plt.show()"
   ]
  },
  {
   "cell_type": "markdown",
   "metadata": {
    "id": "Lrrc8anMCD1_"
   },
   "source": [
    "And repeat! This process we just went through goes by the name Gussian Mixture Modeling.  Gaussian is another name for the normal distribution (named after a dude who contributed a lot to math and statistics).\n",
    "\n",
    "Let's see how we can approach this problem with sklearn."
   ]
  },
  {
   "cell_type": "code",
   "execution_count": 57,
   "metadata": {
    "colab": {
     "base_uri": "https://localhost:8080/",
     "height": 84
    },
    "id": "IBxSE1N2CD1_",
    "outputId": "a9c2716e-e9f4-41a1-c219-b86d3830731a"
   },
   "outputs": [
    {
     "data": {
      "text/plain": [
       "GaussianMixture(covariance_type='full', init_params='kmeans', max_iter=100,\n",
       "                means_init=None, n_components=2, n_init=1, precisions_init=None,\n",
       "                random_state=None, reg_covar=1e-06, tol=0.001, verbose=0,\n",
       "                verbose_interval=10, warm_start=False, weights_init=None)"
      ]
     },
     "execution_count": 57,
     "metadata": {},
     "output_type": "execute_result"
    },
    {
     "data": {
      "application/javascript": [
       "\n",
       "            setTimeout(function() {\n",
       "                var nbb_cell_id = 57;\n",
       "                var nbb_unformatted_code = \"gmm = GaussianMixture(2)\\ngmm.fit(df[[\\\"mixture\\\"]])\";\n",
       "                var nbb_formatted_code = \"gmm = GaussianMixture(2)\\ngmm.fit(df[[\\\"mixture\\\"]])\";\n",
       "                var nbb_cells = Jupyter.notebook.get_cells();\n",
       "                for (var i = 0; i < nbb_cells.length; ++i) {\n",
       "                    if (nbb_cells[i].input_prompt_number == nbb_cell_id) {\n",
       "                        if (nbb_cells[i].get_text() == nbb_unformatted_code) {\n",
       "                             nbb_cells[i].set_text(nbb_formatted_code);\n",
       "                        }\n",
       "                        break;\n",
       "                    }\n",
       "                }\n",
       "            }, 500);\n",
       "            "
      ],
      "text/plain": [
       "<IPython.core.display.Javascript object>"
      ]
     },
     "metadata": {},
     "output_type": "display_data"
    }
   ],
   "source": [
    "gmm = GaussianMixture(2)\n",
    "gmm.fit(df[[\"mixture\"]])"
   ]
  },
  {
   "cell_type": "markdown",
   "metadata": {
    "id": "l1QPTvARCD2C"
   },
   "source": [
    "Here are the means and standard deviations that sklearn settled on after going through that process a couple more iterations.  Note that in this simple case, our 1 iteration algorithm got pretty similar results."
   ]
  },
  {
   "cell_type": "code",
   "execution_count": 58,
   "metadata": {
    "colab": {
     "base_uri": "https://localhost:8080/",
     "height": 469
    },
    "id": "oocgMfIQCD2C",
    "outputId": "93229fd8-9563-4435-bece-58ea360362a6"
   },
   "outputs": [
    {
     "name": "stdout",
     "output_type": "stream",
     "text": [
      "Cluster 1 - mean: 16.57; std: 2.79\n",
      "Cluster 2 - mean: 27.61; std: 3.86\n"
     ]
    },
    {
     "data": {
      "image/png": "[encoded data removed]",
      "text/plain": [
       "<Figure size 432x288 with 1 Axes>"
      ]
     },
     "metadata": {
      "needs_background": "light"
     },
     "output_type": "display_data"
    },
    {
     "data": {
      "application/javascript": [
       "\n",
       "            setTimeout(function() {\n",
       "                var nbb_cell_id = 58;\n",
       "                var nbb_unformatted_code = \"x1_mean, x2_mean = gmm.means_\\nx1_std, x2_std = np.sqrt(gmm.covariances_)\\n\\nx1_mean = x1_mean[0]\\nx2_mean = x2_mean[0]\\nx1_std = x1_std[0][0]\\nx2_std = x2_std[0][0]\\n\\nprint(f\\\"Cluster 1 - mean: {x1_mean:.2f}; std: {x1_std:.2f}\\\")\\nprint(f\\\"Cluster 2 - mean: {x2_mean:.2f}; std: {x2_std:.2f}\\\")\\n\\nplot_guess(\\n    data,\\n    x1_mean=x1_mean,\\n    x1_std=x1_std,\\n    x2_mean=x2_mean,\\n    x2_std=x2_std,\\n    prob_1=df[[\\\"prob_blue\\\"]],\\n    prob_2=df[[\\\"prob_orange\\\"]],\\n)\\nplt.title(\\\"sklearn's guess\\\")\\nplt.show()\";\n",
       "                var nbb_formatted_code = \"x1_mean, x2_mean = gmm.means_\\nx1_std, x2_std = np.sqrt(gmm.covariances_)\\n\\nx1_mean = x1_mean[0]\\nx2_mean = x2_mean[0]\\nx1_std = x1_std[0][0]\\nx2_std = x2_std[0][0]\\n\\nprint(f\\\"Cluster 1 - mean: {x1_mean:.2f}; std: {x1_std:.2f}\\\")\\nprint(f\\\"Cluster 2 - mean: {x2_mean:.2f}; std: {x2_std:.2f}\\\")\\n\\nplot_guess(\\n    data,\\n    x1_mean=x1_mean,\\n    x1_std=x1_std,\\n    x2_mean=x2_mean,\\n    x2_std=x2_std,\\n    prob_1=df[[\\\"prob_blue\\\"]],\\n    prob_2=df[[\\\"prob_orange\\\"]],\\n)\\nplt.title(\\\"sklearn's guess\\\")\\nplt.show()\";\n",
       "                var nbb_cells = Jupyter.notebook.get_cells();\n",
       "                for (var i = 0; i < nbb_cells.length; ++i) {\n",
       "                    if (nbb_cells[i].input_prompt_number == nbb_cell_id) {\n",
       "                        if (nbb_cells[i].get_text() == nbb_unformatted_code) {\n",
       "                             nbb_cells[i].set_text(nbb_formatted_code);\n",
       "                        }\n",
       "                        break;\n",
       "                    }\n",
       "                }\n",
       "            }, 500);\n",
       "            "
      ],
      "text/plain": [
       "<IPython.core.display.Javascript object>"
      ]
     },
     "metadata": {},
     "output_type": "display_data"
    }
   ],
   "source": [
    "x1_mean, x2_mean = gmm.means_\n",
    "x1_std, x2_std = np.sqrt(gmm.covariances_)\n",
    "\n",
    "x1_mean = x1_mean[0]\n",
    "x2_mean = x2_mean[0]\n",
    "x1_std = x1_std[0][0]\n",
    "x2_std = x2_std[0][0]\n",
    "\n",
    "print(f\"Cluster 1 - mean: {x1_mean:.2f}; std: {x1_std:.2f}\")\n",
    "print(f\"Cluster 2 - mean: {x2_mean:.2f}; std: {x2_std:.2f}\")\n",
    "\n",
    "plot_guess(\n",
    "    data,\n",
    "    x1_mean=x1_mean,\n",
    "    x1_std=x1_std,\n",
    "    x2_mean=x2_mean,\n",
    "    x2_std=x2_std,\n",
    "    prob_1=df[[\"prob_blue\"]],\n",
    "    prob_2=df[[\"prob_orange\"]],\n",
    ")\n",
    "plt.title(\"sklearn's guess\")\n",
    "plt.show()"
   ]
  },
  {
   "cell_type": "markdown",
   "metadata": {
    "id": "KQzshiHXCD2H"
   },
   "source": [
    "That's cool and all, but our data almost never has just a single column (i.e. this example was *univariate*).  Let's look at a case with multiple variables (i.e. *multivariate*)."
   ]
  },
  {
   "cell_type": "code",
   "execution_count": 71,
   "metadata": {
    "colab": {
     "base_uri": "https://localhost:8080/",
     "height": 542
    },
    "id": "6JutmvvlCD2H",
    "outputId": "a6094c9c-f92c-4665-ea7c-66e918a55b9a"
   },
   "outputs": [
    {
     "data": {
      "application/vnd.plotly.v1+json": {
       "config": {
        "plotlyServerURL": "https://plot.ly"
       },
       "data": [
        {
         "geo": "geo",
         "hovertemplate": "Latitude=%{lat}<br>Longitude=%{lon}<extra></extra>",
         "lat": [
          35.81,
          35.81,
          35.9,
          35.88,
          36.05,
          35.71,
          35.89,
          36.31,
          36.3,
          36.3,
          36.34,
          36.34,
          36.29,
          36.54,
          36.55,
          35.95,
          35.94,
          35.9,
          35.93,
          35.96,
          36.01,
          35.91,
          35.95,
          35.86,
          35.93,
          35.91,
          35.92,
          35.93,
          36.04,
          35.95,
          35.87,
          35.94,
          35.9,
          35.92,
          35.8,
          35.82,
          35.75,
          35.75,
          36.2,
          36.01,
          36.01,
          35.8,
          35.81,
          36.05,
          36.05,
          36.05,
          35.83,
          35.88
         ],
         "legendgroup": "",
         "lon": [
          -83.99,
          -83.98,
          -84.12,
          -84.18,
          -83.92,
          -83.52,
          -84.55,
          -82.37,
          -82.38,
          -82.37,
          -82.37,
          -82.38,
          -82.49,
          -82.52,
          -82.49,
          -83.94,
          -84.09,
          -84.15,
          -84.04,
          -83.92,
          -83.97,
          -84.09,
          -83.93,
          -84.07,
          -84.04,
          -84.09,
          -84.09,
          -84.04,
          -83.89,
          -83.93,
          -84.1,
          -83.99,
          -84.15,
          -84.05,
          -84.26,
          -84.27,
          -83.99,
          -83.99,
          -83.35,
          -84.26,
          -84.26,
          -83.58,
          -83.58,
          -84,
          -84,
          -84.06,
          -83.57,
          -83.57
         ],
         "marker": {
          "color": "#636efa"
         },
         "name": "",
         "showlegend": false,
         "type": "scattergeo"
        }
       ],
       "layout": {
        "geo": {
         "center": {},
         "domain": {
          "x": [
           0,
           1
          ],
          "y": [
           0,
           1
          ]
         },
         "fitbounds": "locations",
         "scope": "usa"
        },
        "legend": {
         "tracegroupgap": 0
        },
        "margin": {
         "t": 60
        },
        "template": {
         "data": {
          "bar": [
           {
            "error_x": {
             "color": "#2a3f5f"
            },
            "error_y": {
             "color": "#2a3f5f"
            },
            "marker": {
             "line": {
              "color": "#E5ECF6",
              "width": 0.5
             }
            },
            "type": "bar"
           }
          ],
          "barpolar": [
           {
            "marker": {
             "line": {
              "color": "#E5ECF6",
              "width": 0.5
             }
            },
            "type": "barpolar"
           }
          ],
          "carpet": [
           {
            "aaxis": {
             "endlinecolor": "#2a3f5f",
             "gridcolor": "white",
             "linecolor": "white",
             "minorgridcolor": "white",
             "startlinecolor": "#2a3f5f"
            },
            "baxis": {
             "endlinecolor": "#2a3f5f",
             "gridcolor": "white",
             "linecolor": "white",
             "minorgridcolor": "white",
             "startlinecolor": "#2a3f5f"
            },
            "type": "carpet"
           }
          ],
          "choropleth": [
           {
            "colorbar": {
             "outlinewidth": 0,
             "ticks": ""
            },
            "type": "choropleth"
           }
          ],
          "contour": [
           {
            "colorbar": {
             "outlinewidth": 0,
             "ticks": ""
            },
            "colorscale": [
             [
              0,
              "#0d0887"
             ],
             [
              0.1111111111111111,
              "#46039f"
             ],
             [
              0.2222222222222222,
              "#7201a8"
             ],
             [
              0.3333333333333333,
              "#9c179e"
             ],
             [
              0.4444444444444444,
              "#bd3786"
             ],
             [
              0.5555555555555556,
              "#d8576b"
             ],
             [
              0.6666666666666666,
              "#ed7953"
             ],
             [
              0.7777777777777778,
              "#fb9f3a"
             ],
             [
              0.8888888888888888,
              "#fdca26"
             ],
             [
              1,
              "#f0f921"
             ]
            ],
            "type": "contour"
           }
          ],
          "contourcarpet": [
           {
            "colorbar": {
             "outlinewidth": 0,
             "ticks": ""
            },
            "type": "contourcarpet"
           }
          ],
          "heatmap": [
           {
            "colorbar": {
             "outlinewidth": 0,
             "ticks": ""
            },
            "colorscale": [
             [
              0,
              "#0d0887"
             ],
             [
              0.1111111111111111,
              "#46039f"
             ],
             [
              0.2222222222222222,
              "#7201a8"
             ],
             [
              0.3333333333333333,
              "#9c179e"
             ],
             [
              0.4444444444444444,
              "#bd3786"
             ],
             [
              0.5555555555555556,
              "#d8576b"
             ],
             [
              0.6666666666666666,
              "#ed7953"
             ],
             [
              0.7777777777777778,
              "#fb9f3a"
             ],
             [
              0.8888888888888888,
              "#fdca26"
             ],
             [
              1,
              "#f0f921"
             ]
            ],
            "type": "heatmap"
           }
          ],
          "heatmapgl": [
           {
            "colorbar": {
             "outlinewidth": 0,
             "ticks": ""
            },
            "colorscale": [
             [
              0,
              "#0d0887"
             ],
             [
              0.1111111111111111,
              "#46039f"
             ],
             [
              0.2222222222222222,
              "#7201a8"
             ],
             [
              0.3333333333333333,
              "#9c179e"
             ],
             [
              0.4444444444444444,
              "#bd3786"
             ],
             [
              0.5555555555555556,
              "#d8576b"
             ],
             [
              0.6666666666666666,
              "#ed7953"
             ],
             [
              0.7777777777777778,
              "#fb9f3a"
             ],
             [
              0.8888888888888888,
              "#fdca26"
             ],
             [
              1,
              "#f0f921"
             ]
            ],
            "type": "heatmapgl"
           }
          ],
          "histogram": [
           {
            "marker": {
             "colorbar": {
              "outlinewidth": 0,
              "ticks": ""
             }
            },
            "type": "histogram"
           }
          ],
          "histogram2d": [
           {
            "colorbar": {
             "outlinewidth": 0,
             "ticks": ""
            },
            "colorscale": [
             [
              0,
              "#0d0887"
             ],
             [
              0.1111111111111111,
              "#46039f"
             ],
             [
              0.2222222222222222,
              "#7201a8"
             ],
             [
              0.3333333333333333,
              "#9c179e"
             ],
             [
              0.4444444444444444,
              "#bd3786"
             ],
             [
              0.5555555555555556,
              "#d8576b"
             ],
             [
              0.6666666666666666,
              "#ed7953"
             ],
             [
              0.7777777777777778,
              "#fb9f3a"
             ],
             [
              0.8888888888888888,
              "#fdca26"
             ],
             [
              1,
              "#f0f921"
             ]
            ],
            "type": "histogram2d"
           }
          ],
          "histogram2dcontour": [
           {
            "colorbar": {
             "outlinewidth": 0,
             "ticks": ""
            },
            "colorscale": [
             [
              0,
              "#0d0887"
             ],
             [
              0.1111111111111111,
              "#46039f"
             ],
             [
              0.2222222222222222,
              "#7201a8"
             ],
             [
              0.3333333333333333,
              "#9c179e"
             ],
             [
              0.4444444444444444,
              "#bd3786"
             ],
             [
              0.5555555555555556,
              "#d8576b"
             ],
             [
              0.6666666666666666,
              "#ed7953"
             ],
             [
              0.7777777777777778,
              "#fb9f3a"
             ],
             [
              0.8888888888888888,
              "#fdca26"
             ],
             [
              1,
              "#f0f921"
             ]
            ],
            "type": "histogram2dcontour"
           }
          ],
          "mesh3d": [
           {
            "colorbar": {
             "outlinewidth": 0,
             "ticks": ""
            },
            "type": "mesh3d"
           }
          ],
          "parcoords": [
           {
            "line": {
             "colorbar": {
              "outlinewidth": 0,
              "ticks": ""
             }
            },
            "type": "parcoords"
           }
          ],
          "pie": [
           {
            "automargin": true,
            "type": "pie"
           }
          ],
          "scatter": [
           {
            "marker": {
             "colorbar": {
              "outlinewidth": 0,
              "ticks": ""
             }
            },
            "type": "scatter"
           }
          ],
          "scatter3d": [
           {
            "line": {
             "colorbar": {
              "outlinewidth": 0,
              "ticks": ""
             }
            },
            "marker": {
             "colorbar": {
              "outlinewidth": 0,
              "ticks": ""
             }
            },
            "type": "scatter3d"
           }
          ],
          "scattercarpet": [
           {
            "marker": {
             "colorbar": {
              "outlinewidth": 0,
              "ticks": ""
             }
            },
            "type": "scattercarpet"
           }
          ],
          "scattergeo": [
           {
            "marker": {
             "colorbar": {
              "outlinewidth": 0,
              "ticks": ""
             }
            },
            "type": "scattergeo"
           }
          ],
          "scattergl": [
           {
            "marker": {
             "colorbar": {
              "outlinewidth": 0,
              "ticks": ""
             }
            },
            "type": "scattergl"
           }
          ],
          "scattermapbox": [
           {
            "marker": {
             "colorbar": {
              "outlinewidth": 0,
              "ticks": ""
             }
            },
            "type": "scattermapbox"
           }
          ],
          "scatterpolar": [
           {
            "marker": {
             "colorbar": {
              "outlinewidth": 0,
              "ticks": ""
             }
            },
            "type": "scatterpolar"
           }
          ],
          "scatterpolargl": [
           {
            "marker": {
             "colorbar": {
              "outlinewidth": 0,
              "ticks": ""
             }
            },
            "type": "scatterpolargl"
           }
          ],
          "scatterternary": [
           {
            "marker": {
             "colorbar": {
              "outlinewidth": 0,
              "ticks": ""
             }
            },
            "type": "scatterternary"
           }
          ],
          "surface": [
           {
            "colorbar": {
             "outlinewidth": 0,
             "ticks": ""
            },
            "colorscale": [
             [
              0,
              "#0d0887"
             ],
             [
              0.1111111111111111,
              "#46039f"
             ],
             [
              0.2222222222222222,
              "#7201a8"
             ],
             [
              0.3333333333333333,
              "#9c179e"
             ],
             [
              0.4444444444444444,
              "#bd3786"
             ],
             [
              0.5555555555555556,
              "#d8576b"
             ],
             [
              0.6666666666666666,
              "#ed7953"
             ],
             [
              0.7777777777777778,
              "#fb9f3a"
             ],
             [
              0.8888888888888888,
              "#fdca26"
             ],
             [
              1,
              "#f0f921"
             ]
            ],
            "type": "surface"
           }
          ],
          "table": [
           {
            "cells": {
             "fill": {
              "color": "#EBF0F8"
             },
             "line": {
              "color": "white"
             }
            },
            "header": {
             "fill": {
              "color": "#C8D4E3"
             },
             "line": {
              "color": "white"
             }
            },
            "type": "table"
           }
          ]
         },
         "layout": {
          "annotationdefaults": {
           "arrowcolor": "#2a3f5f",
           "arrowhead": 0,
           "arrowwidth": 1
          },
          "coloraxis": {
           "colorbar": {
            "outlinewidth": 0,
            "ticks": ""
           }
          },
          "colorscale": {
           "diverging": [
            [
             0,
             "#8e0152"
            ],
            [
             0.1,
             "#c51b7d"
            ],
            [
             0.2,
             "#de77ae"
            ],
            [
             0.3,
             "#f1b6da"
            ],
            [
             0.4,
             "#fde0ef"
            ],
            [
             0.5,
             "#f7f7f7"
            ],
            [
             0.6,
             "#e6f5d0"
            ],
            [
             0.7,
             "#b8e186"
            ],
            [
             0.8,
             "#7fbc41"
            ],
            [
             0.9,
             "#4d9221"
            ],
            [
             1,
             "#276419"
            ]
           ],
           "sequential": [
            [
             0,
             "#0d0887"
            ],
            [
             0.1111111111111111,
             "#46039f"
            ],
            [
             0.2222222222222222,
             "#7201a8"
            ],
            [
             0.3333333333333333,
             "#9c179e"
            ],
            [
             0.4444444444444444,
             "#bd3786"
            ],
            [
             0.5555555555555556,
             "#d8576b"
            ],
            [
             0.6666666666666666,
             "#ed7953"
            ],
            [
             0.7777777777777778,
             "#fb9f3a"
            ],
            [
             0.8888888888888888,
             "#fdca26"
            ],
            [
             1,
             "#f0f921"
            ]
           ],
           "sequentialminus": [
            [
             0,
             "#0d0887"
            ],
            [
             0.1111111111111111,
             "#46039f"
            ],
            [
             0.2222222222222222,
             "#7201a8"
            ],
            [
             0.3333333333333333,
             "#9c179e"
            ],
            [
             0.4444444444444444,
             "#bd3786"
            ],
            [
             0.5555555555555556,
             "#d8576b"
            ],
            [
             0.6666666666666666,
             "#ed7953"
            ],
            [
             0.7777777777777778,
             "#fb9f3a"
            ],
            [
             0.8888888888888888,
             "#fdca26"
            ],
            [
             1,
             "#f0f921"
            ]
           ]
          },
          "colorway": [
           "#636efa",
           "#EF553B",
           "#00cc96",
           "#ab63fa",
           "#FFA15A",
           "#19d3f3",
           "#FF6692",
           "#B6E880",
           "#FF97FF",
           "#FECB52"
          ],
          "font": {
           "color": "#2a3f5f"
          },
          "geo": {
           "bgcolor": "white",
           "lakecolor": "white",
           "landcolor": "#E5ECF6",
           "showlakes": true,
           "showland": true,
           "subunitcolor": "white"
          },
          "hoverlabel": {
           "align": "left"
          },
          "hovermode": "closest",
          "mapbox": {
           "style": "light"
          },
          "paper_bgcolor": "white",
          "plot_bgcolor": "#E5ECF6",
          "polar": {
           "angularaxis": {
            "gridcolor": "white",
            "linecolor": "white",
            "ticks": ""
           },
           "bgcolor": "#E5ECF6",
           "radialaxis": {
            "gridcolor": "white",
            "linecolor": "white",
            "ticks": ""
           }
          },
          "scene": {
           "xaxis": {
            "backgroundcolor": "#E5ECF6",
            "gridcolor": "white",
            "gridwidth": 2,
            "linecolor": "white",
            "showbackground": true,
            "ticks": "",
            "zerolinecolor": "white"
           },
           "yaxis": {
            "backgroundcolor": "#E5ECF6",
            "gridcolor": "white",
            "gridwidth": 2,
            "linecolor": "white",
            "showbackground": true,
            "ticks": "",
            "zerolinecolor": "white"
           },
           "zaxis": {
            "backgroundcolor": "#E5ECF6",
            "gridcolor": "white",
            "gridwidth": 2,
            "linecolor": "white",
            "showbackground": true,
            "ticks": "",
            "zerolinecolor": "white"
           }
          },
          "shapedefaults": {
           "line": {
            "color": "#2a3f5f"
           }
          },
          "ternary": {
           "aaxis": {
            "gridcolor": "white",
            "linecolor": "white",
            "ticks": ""
           },
           "baxis": {
            "gridcolor": "white",
            "linecolor": "white",
            "ticks": ""
           },
           "bgcolor": "#E5ECF6",
           "caxis": {
            "gridcolor": "white",
            "linecolor": "white",
            "ticks": ""
           }
          },
          "title": {
           "x": 0.05
          },
          "xaxis": {
           "automargin": true,
           "gridcolor": "white",
           "linecolor": "white",
           "ticks": "",
           "title": {
            "standoff": 15
           },
           "zerolinecolor": "white",
           "zerolinewidth": 2
          },
          "yaxis": {
           "automargin": true,
           "gridcolor": "white",
           "linecolor": "white",
           "ticks": "",
           "title": {
            "standoff": 15
           },
           "zerolinecolor": "white",
           "zerolinewidth": 2
          }
         }
        }
       }
      },
      "text/html": [
       "<div>                            <div id=\"6b3429ac-51a2-48c8-9310-113d4b6e405d\" class=\"plotly-graph-div\" style=\"height:525px; width:100%;\"></div>            <script type=\"text/javascript\">                require([\"plotly\"], function(Plotly) {                    window.PLOTLYENV=window.PLOTLYENV || {};                                    if (document.getElementById(\"6b3429ac-51a2-48c8-9310-113d4b6e405d\")) {                    Plotly.newPlot(                        \"6b3429ac-51a2-48c8-9310-113d4b6e405d\",                        [{\"geo\": \"geo\", \"hovertemplate\": \"Latitude=%{lat}<br>Longitude=%{lon}<extra></extra>\", \"lat\": [35.81, 35.81, 35.9, 35.88, 36.05, 35.71, 35.89, 36.31, 36.3, 36.3, 36.34, 36.34, 36.29, 36.54, 36.55, 35.95, 35.94, 35.9, 35.93, 35.96, 36.01, 35.91, 35.95, 35.86, 35.93, 35.91, 35.92, 35.93, 36.04, 35.95, 35.87, 35.94, 35.9, 35.92, 35.8, 35.82, 35.75, 35.75, 36.2, 36.01, 36.01, 35.8, 35.81, 36.05, 36.05, 36.05, 35.83, 35.88], \"legendgroup\": \"\", \"lon\": [-83.99, -83.98, -84.12, -84.18, -83.92, -83.52, -84.55, -82.37, -82.38, -82.37, -82.37, -82.38, -82.49, -82.52, -82.49, -83.94, -84.09, -84.15, -84.04, -83.92, -83.97, -84.09, -83.93, -84.07, -84.04, -84.09, -84.09, -84.04, -83.89, -83.93, -84.1, -83.99, -84.15, -84.05, -84.26, -84.27, -83.99, -83.99, -83.35, -84.26, -84.26, -83.58, -83.58, -84.0, -84.0, -84.06, -83.57, -83.57], \"marker\": {\"color\": \"#636efa\"}, \"name\": \"\", \"showlegend\": false, \"type\": \"scattergeo\"}],                        {\"geo\": {\"center\": {}, \"domain\": {\"x\": [0.0, 1.0], \"y\": [0.0, 1.0]}, \"fitbounds\": \"locations\", \"scope\": \"usa\"}, \"legend\": {\"tracegroupgap\": 0}, \"margin\": {\"t\": 60}, \"template\": {\"data\": {\"bar\": [{\"error_x\": {\"color\": \"#2a3f5f\"}, \"error_y\": {\"color\": \"#2a3f5f\"}, \"marker\": {\"line\": {\"color\": \"#E5ECF6\", \"width\": 0.5}}, \"type\": \"bar\"}], \"barpolar\": [{\"marker\": {\"line\": {\"color\": \"#E5ECF6\", \"width\": 0.5}}, \"type\": \"barpolar\"}], \"carpet\": [{\"aaxis\": {\"endlinecolor\": \"#2a3f5f\", \"gridcolor\": \"white\", \"linecolor\": \"white\", \"minorgridcolor\": \"white\", \"startlinecolor\": \"#2a3f5f\"}, \"baxis\": {\"endlinecolor\": \"#2a3f5f\", \"gridcolor\": \"white\", \"linecolor\": \"white\", \"minorgridcolor\": \"white\", \"startlinecolor\": \"#2a3f5f\"}, \"type\": \"carpet\"}], \"choropleth\": [{\"colorbar\": {\"outlinewidth\": 0, \"ticks\": \"\"}, \"type\": \"choropleth\"}], \"contour\": [{\"colorbar\": {\"outlinewidth\": 0, \"ticks\": \"\"}, \"colorscale\": [[0.0, \"#0d0887\"], [0.1111111111111111, \"#46039f\"], [0.2222222222222222, \"#7201a8\"], [0.3333333333333333, \"#9c179e\"], [0.4444444444444444, \"#bd3786\"], [0.5555555555555556, \"#d8576b\"], [0.6666666666666666, \"#ed7953\"], [0.7777777777777778, \"#fb9f3a\"], [0.8888888888888888, \"#fdca26\"], [1.0, \"#f0f921\"]], \"type\": \"contour\"}], \"contourcarpet\": [{\"colorbar\": {\"outlinewidth\": 0, \"ticks\": \"\"}, \"type\": \"contourcarpet\"}], \"heatmap\": [{\"colorbar\": {\"outlinewidth\": 0, \"ticks\": \"\"}, \"colorscale\": [[0.0, \"#0d0887\"], [0.1111111111111111, \"#46039f\"], [0.2222222222222222, \"#7201a8\"], [0.3333333333333333, \"#9c179e\"], [0.4444444444444444, \"#bd3786\"], [0.5555555555555556, \"#d8576b\"], [0.6666666666666666, \"#ed7953\"], [0.7777777777777778, \"#fb9f3a\"], [0.8888888888888888, \"#fdca26\"], [1.0, \"#f0f921\"]], \"type\": \"heatmap\"}], \"heatmapgl\": [{\"colorbar\": {\"outlinewidth\": 0, \"ticks\": \"\"}, \"colorscale\": [[0.0, \"#0d0887\"], [0.1111111111111111, \"#46039f\"], [0.2222222222222222, \"#7201a8\"], [0.3333333333333333, \"#9c179e\"], [0.4444444444444444, \"#bd3786\"], [0.5555555555555556, \"#d8576b\"], [0.6666666666666666, \"#ed7953\"], [0.7777777777777778, \"#fb9f3a\"], [0.8888888888888888, \"#fdca26\"], [1.0, \"#f0f921\"]], \"type\": \"heatmapgl\"}], \"histogram\": [{\"marker\": {\"colorbar\": {\"outlinewidth\": 0, \"ticks\": \"\"}}, \"type\": \"histogram\"}], \"histogram2d\": [{\"colorbar\": {\"outlinewidth\": 0, \"ticks\": \"\"}, \"colorscale\": [[0.0, \"#0d0887\"], [0.1111111111111111, \"#46039f\"], [0.2222222222222222, \"#7201a8\"], [0.3333333333333333, \"#9c179e\"], [0.4444444444444444, \"#bd3786\"], [0.5555555555555556, \"#d8576b\"], [0.6666666666666666, \"#ed7953\"], [0.7777777777777778, \"#fb9f3a\"], [0.8888888888888888, \"#fdca26\"], [1.0, \"#f0f921\"]], \"type\": \"histogram2d\"}], \"histogram2dcontour\": [{\"colorbar\": {\"outlinewidth\": 0, \"ticks\": \"\"}, \"colorscale\": [[0.0, \"#0d0887\"], [0.1111111111111111, \"#46039f\"], [0.2222222222222222, \"#7201a8\"], [0.3333333333333333, \"#9c179e\"], [0.4444444444444444, \"#bd3786\"], [0.5555555555555556, \"#d8576b\"], [0.6666666666666666, \"#ed7953\"], [0.7777777777777778, \"#fb9f3a\"], [0.8888888888888888, \"#fdca26\"], [1.0, \"#f0f921\"]], \"type\": \"histogram2dcontour\"}], \"mesh3d\": [{\"colorbar\": {\"outlinewidth\": 0, \"ticks\": \"\"}, \"type\": \"mesh3d\"}], \"parcoords\": [{\"line\": {\"colorbar\": {\"outlinewidth\": 0, \"ticks\": \"\"}}, \"type\": \"parcoords\"}], \"pie\": [{\"automargin\": true, \"type\": \"pie\"}], \"scatter\": [{\"marker\": {\"colorbar\": {\"outlinewidth\": 0, \"ticks\": \"\"}}, \"type\": \"scatter\"}], \"scatter3d\": [{\"line\": {\"colorbar\": {\"outlinewidth\": 0, \"ticks\": \"\"}}, \"marker\": {\"colorbar\": {\"outlinewidth\": 0, \"ticks\": \"\"}}, \"type\": \"scatter3d\"}], \"scattercarpet\": [{\"marker\": {\"colorbar\": {\"outlinewidth\": 0, \"ticks\": \"\"}}, \"type\": \"scattercarpet\"}], \"scattergeo\": [{\"marker\": {\"colorbar\": {\"outlinewidth\": 0, \"ticks\": \"\"}}, \"type\": \"scattergeo\"}], \"scattergl\": [{\"marker\": {\"colorbar\": {\"outlinewidth\": 0, \"ticks\": \"\"}}, \"type\": \"scattergl\"}], \"scattermapbox\": [{\"marker\": {\"colorbar\": {\"outlinewidth\": 0, \"ticks\": \"\"}}, \"type\": \"scattermapbox\"}], \"scatterpolar\": [{\"marker\": {\"colorbar\": {\"outlinewidth\": 0, \"ticks\": \"\"}}, \"type\": \"scatterpolar\"}], \"scatterpolargl\": [{\"marker\": {\"colorbar\": {\"outlinewidth\": 0, \"ticks\": \"\"}}, \"type\": \"scatterpolargl\"}], \"scatterternary\": [{\"marker\": {\"colorbar\": {\"outlinewidth\": 0, \"ticks\": \"\"}}, \"type\": \"scatterternary\"}], \"surface\": [{\"colorbar\": {\"outlinewidth\": 0, \"ticks\": \"\"}, \"colorscale\": [[0.0, \"#0d0887\"], [0.1111111111111111, \"#46039f\"], [0.2222222222222222, \"#7201a8\"], [0.3333333333333333, \"#9c179e\"], [0.4444444444444444, \"#bd3786\"], [0.5555555555555556, \"#d8576b\"], [0.6666666666666666, \"#ed7953\"], [0.7777777777777778, \"#fb9f3a\"], [0.8888888888888888, \"#fdca26\"], [1.0, \"#f0f921\"]], \"type\": \"surface\"}], \"table\": [{\"cells\": {\"fill\": {\"color\": \"#EBF0F8\"}, \"line\": {\"color\": \"white\"}}, \"header\": {\"fill\": {\"color\": \"#C8D4E3\"}, \"line\": {\"color\": \"white\"}}, \"type\": \"table\"}]}, \"layout\": {\"annotationdefaults\": {\"arrowcolor\": \"#2a3f5f\", \"arrowhead\": 0, \"arrowwidth\": 1}, \"coloraxis\": {\"colorbar\": {\"outlinewidth\": 0, \"ticks\": \"\"}}, \"colorscale\": {\"diverging\": [[0, \"#8e0152\"], [0.1, \"#c51b7d\"], [0.2, \"#de77ae\"], [0.3, \"#f1b6da\"], [0.4, \"#fde0ef\"], [0.5, \"#f7f7f7\"], [0.6, \"#e6f5d0\"], [0.7, \"#b8e186\"], [0.8, \"#7fbc41\"], [0.9, \"#4d9221\"], [1, \"#276419\"]], \"sequential\": [[0.0, \"#0d0887\"], [0.1111111111111111, \"#46039f\"], [0.2222222222222222, \"#7201a8\"], [0.3333333333333333, \"#9c179e\"], [0.4444444444444444, \"#bd3786\"], [0.5555555555555556, \"#d8576b\"], [0.6666666666666666, \"#ed7953\"], [0.7777777777777778, \"#fb9f3a\"], [0.8888888888888888, \"#fdca26\"], [1.0, \"#f0f921\"]], \"sequentialminus\": [[0.0, \"#0d0887\"], [0.1111111111111111, \"#46039f\"], [0.2222222222222222, \"#7201a8\"], [0.3333333333333333, \"#9c179e\"], [0.4444444444444444, \"#bd3786\"], [0.5555555555555556, \"#d8576b\"], [0.6666666666666666, \"#ed7953\"], [0.7777777777777778, \"#fb9f3a\"], [0.8888888888888888, \"#fdca26\"], [1.0, \"#f0f921\"]]}, \"colorway\": [\"#636efa\", \"#EF553B\", \"#00cc96\", \"#ab63fa\", \"#FFA15A\", \"#19d3f3\", \"#FF6692\", \"#B6E880\", \"#FF97FF\", \"#FECB52\"], \"font\": {\"color\": \"#2a3f5f\"}, \"geo\": {\"bgcolor\": \"white\", \"lakecolor\": \"white\", \"landcolor\": \"#E5ECF6\", \"showlakes\": true, \"showland\": true, \"subunitcolor\": \"white\"}, \"hoverlabel\": {\"align\": \"left\"}, \"hovermode\": \"closest\", \"mapbox\": {\"style\": \"light\"}, \"paper_bgcolor\": \"white\", \"plot_bgcolor\": \"#E5ECF6\", \"polar\": {\"angularaxis\": {\"gridcolor\": \"white\", \"linecolor\": \"white\", \"ticks\": \"\"}, \"bgcolor\": \"#E5ECF6\", \"radialaxis\": {\"gridcolor\": \"white\", \"linecolor\": \"white\", \"ticks\": \"\"}}, \"scene\": {\"xaxis\": {\"backgroundcolor\": \"#E5ECF6\", \"gridcolor\": \"white\", \"gridwidth\": 2, \"linecolor\": \"white\", \"showbackground\": true, \"ticks\": \"\", \"zerolinecolor\": \"white\"}, \"yaxis\": {\"backgroundcolor\": \"#E5ECF6\", \"gridcolor\": \"white\", \"gridwidth\": 2, \"linecolor\": \"white\", \"showbackground\": true, \"ticks\": \"\", \"zerolinecolor\": \"white\"}, \"zaxis\": {\"backgroundcolor\": \"#E5ECF6\", \"gridcolor\": \"white\", \"gridwidth\": 2, \"linecolor\": \"white\", \"showbackground\": true, \"ticks\": \"\", \"zerolinecolor\": \"white\"}}, \"shapedefaults\": {\"line\": {\"color\": \"#2a3f5f\"}}, \"ternary\": {\"aaxis\": {\"gridcolor\": \"white\", \"linecolor\": \"white\", \"ticks\": \"\"}, \"baxis\": {\"gridcolor\": \"white\", \"linecolor\": \"white\", \"ticks\": \"\"}, \"bgcolor\": \"#E5ECF6\", \"caxis\": {\"gridcolor\": \"white\", \"linecolor\": \"white\", \"ticks\": \"\"}}, \"title\": {\"x\": 0.05}, \"xaxis\": {\"automargin\": true, \"gridcolor\": \"white\", \"linecolor\": \"white\", \"ticks\": \"\", \"title\": {\"standoff\": 15}, \"zerolinecolor\": \"white\", \"zerolinewidth\": 2}, \"yaxis\": {\"automargin\": true, \"gridcolor\": \"white\", \"linecolor\": \"white\", \"ticks\": \"\", \"title\": {\"standoff\": 15}, \"zerolinecolor\": \"white\", \"zerolinewidth\": 2}}}},                        {\"responsive\": true}                    ).then(function(){\n",
       "                            \n",
       "var gd = document.getElementById('6b3429ac-51a2-48c8-9310-113d4b6e405d');\n",
       "var x = new MutationObserver(function (mutations, observer) {{\n",
       "        var display = window.getComputedStyle(gd).display;\n",
       "        if (!display || display === 'none') {{\n",
       "            console.log([gd, 'removed!']);\n",
       "            Plotly.purge(gd);\n",
       "            observer.disconnect();\n",
       "        }}\n",
       "}});\n",
       "\n",
       "// Listen for the removal of the full notebook cells\n",
       "var notebookContainer = gd.closest('#notebook-container');\n",
       "if (notebookContainer) {{\n",
       "    x.observe(notebookContainer, {childList: true});\n",
       "}}\n",
       "\n",
       "// Listen for the clearing of the current output cell\n",
       "var outputEl = gd.closest('.output');\n",
       "if (outputEl) {{\n",
       "    x.observe(outputEl, {childList: true});\n",
       "}}\n",
       "\n",
       "                        })                };                });            </script>        </div>"
      ]
     },
     "metadata": {},
     "output_type": "display_data"
    },
    {
     "data": {
      "application/javascript": [
       "\n",
       "            setTimeout(function() {\n",
       "                var nbb_cell_id = 71;\n",
       "                var nbb_unformatted_code = \"lat_lon = starbs[[\\\"Latitude\\\", \\\"Longitude\\\"]].copy()\\n\\nfig = px.scatter_geo(lat_lon, \\\"Latitude\\\", \\\"Longitude\\\", scope=\\\"usa\\\")\\nfig.update_geos(fitbounds=\\\"locations\\\")\\nfig.show()\";\n",
       "                var nbb_formatted_code = \"lat_lon = starbs[[\\\"Latitude\\\", \\\"Longitude\\\"]].copy()\\n\\nfig = px.scatter_geo(lat_lon, \\\"Latitude\\\", \\\"Longitude\\\", scope=\\\"usa\\\")\\nfig.update_geos(fitbounds=\\\"locations\\\")\\nfig.show()\";\n",
       "                var nbb_cells = Jupyter.notebook.get_cells();\n",
       "                for (var i = 0; i < nbb_cells.length; ++i) {\n",
       "                    if (nbb_cells[i].input_prompt_number == nbb_cell_id) {\n",
       "                        if (nbb_cells[i].get_text() == nbb_unformatted_code) {\n",
       "                             nbb_cells[i].set_text(nbb_formatted_code);\n",
       "                        }\n",
       "                        break;\n",
       "                    }\n",
       "                }\n",
       "            }, 500);\n",
       "            "
      ],
      "text/plain": [
       "<IPython.core.display.Javascript object>"
      ]
     },
     "metadata": {},
     "output_type": "display_data"
    }
   ],
   "source": [
    "lat_lon = starbs[[\"Latitude\", \"Longitude\"]].copy()\n",
    "\n",
    "fig = px.scatter_geo(lat_lon, \"Latitude\", \"Longitude\", scope=\"usa\")\n",
    "fig.update_geos(fitbounds=\"locations\")\n",
    "fig.show()"
   ]
  },
  {
   "cell_type": "markdown",
   "metadata": {
    "id": "6sBNV4GWCD2P"
   },
   "source": [
    "We can try and visualize both distributions at once using a couple different methods"
   ]
  },
  {
   "cell_type": "code",
   "execution_count": 60,
   "metadata": {
    "colab": {
     "base_uri": "https://localhost:8080/",
     "height": 542
    },
    "id": "9EeV5BFJCD2P",
    "outputId": "a2bb748e-84da-4ffb-e80f-ed2cfec61555"
   },
   "outputs": [
    {
     "data": {
      "application/vnd.plotly.v1+json": {
       "config": {
        "plotlyServerURL": "https://plot.ly"
       },
       "data": [
        {
         "hovertemplate": "Longitude=%{x}<br>Latitude=%{y}<extra></extra>",
         "legendgroup": "",
         "marker": {
          "color": "#636efa",
          "symbol": "circle"
         },
         "mode": "markers",
         "name": "",
         "orientation": "v",
         "showlegend": false,
         "type": "scatter",
         "x": [
          -83.99,
          -83.98,
          -84.12,
          -84.18,
          -83.92,
          -83.52,
          -84.55,
          -82.37,
          -82.38,
          -82.37,
          -82.37,
          -82.38,
          -82.49,
          -82.52,
          -82.49,
          -83.94,
          -84.09,
          -84.15,
          -84.04,
          -83.92,
          -83.97,
          -84.09,
          -83.93,
          -84.07,
          -84.04,
          -84.09,
          -84.09,
          -84.04,
          -83.89,
          -83.93,
          -84.1,
          -83.99,
          -84.15,
          -84.05,
          -84.26,
          -84.27,
          -83.99,
          -83.99,
          -83.35,
          -84.26,
          -84.26,
          -83.58,
          -83.58,
          -84,
          -84,
          -84.06,
          -83.57,
          -83.57
         ],
         "xaxis": "x",
         "y": [
          35.81,
          35.81,
          35.9,
          35.88,
          36.05,
          35.71,
          35.89,
          36.31,
          36.3,
          36.3,
          36.34,
          36.34,
          36.29,
          36.54,
          36.55,
          35.95,
          35.94,
          35.9,
          35.93,
          35.96,
          36.01,
          35.91,
          35.95,
          35.86,
          35.93,
          35.91,
          35.92,
          35.93,
          36.04,
          35.95,
          35.87,
          35.94,
          35.9,
          35.92,
          35.8,
          35.82,
          35.75,
          35.75,
          36.2,
          36.01,
          36.01,
          35.8,
          35.81,
          36.05,
          36.05,
          36.05,
          35.83,
          35.88
         ],
         "yaxis": "y"
        },
        {
         "alignmentgroup": "True",
         "bingroup": "x",
         "hovertemplate": "Longitude=%{x}<br>count=%{y}<extra></extra>",
         "legendgroup": "",
         "marker": {
          "color": "#636efa"
         },
         "name": "",
         "offsetgroup": "",
         "opacity": 0.5,
         "showlegend": false,
         "type": "histogram",
         "x": [
          -83.99,
          -83.98,
          -84.12,
          -84.18,
          -83.92,
          -83.52,
          -84.55,
          -82.37,
          -82.38,
          -82.37,
          -82.37,
          -82.38,
          -82.49,
          -82.52,
          -82.49,
          -83.94,
          -84.09,
          -84.15,
          -84.04,
          -83.92,
          -83.97,
          -84.09,
          -83.93,
          -84.07,
          -84.04,
          -84.09,
          -84.09,
          -84.04,
          -83.89,
          -83.93,
          -84.1,
          -83.99,
          -84.15,
          -84.05,
          -84.26,
          -84.27,
          -83.99,
          -83.99,
          -83.35,
          -84.26,
          -84.26,
          -83.58,
          -83.58,
          -84,
          -84,
          -84.06,
          -83.57,
          -83.57
         ],
         "xaxis": "x3",
         "yaxis": "y3"
        },
        {
         "alignmentgroup": "True",
         "bingroup": "y",
         "hovertemplate": "Latitude=%{y}<br>count=%{x}<extra></extra>",
         "legendgroup": "",
         "marker": {
          "color": "#636efa"
         },
         "name": "",
         "offsetgroup": "",
         "opacity": 0.5,
         "showlegend": false,
         "type": "histogram",
         "xaxis": "x2",
         "y": [
          35.81,
          35.81,
          35.9,
          35.88,
          36.05,
          35.71,
          35.89,
          36.31,
          36.3,
          36.3,
          36.34,
          36.34,
          36.29,
          36.54,
          36.55,
          35.95,
          35.94,
          35.9,
          35.93,
          35.96,
          36.01,
          35.91,
          35.95,
          35.86,
          35.93,
          35.91,
          35.92,
          35.93,
          36.04,
          35.95,
          35.87,
          35.94,
          35.9,
          35.92,
          35.8,
          35.82,
          35.75,
          35.75,
          36.2,
          36.01,
          36.01,
          35.8,
          35.81,
          36.05,
          36.05,
          36.05,
          35.83,
          35.88
         ],
         "yaxis": "y2"
        }
       ],
       "layout": {
        "barmode": "overlay",
        "legend": {
         "tracegroupgap": 0
        },
        "margin": {
         "t": 60
        },
        "template": {
         "data": {
          "bar": [
           {
            "error_x": {
             "color": "#2a3f5f"
            },
            "error_y": {
             "color": "#2a3f5f"
            },
            "marker": {
             "line": {
              "color": "#E5ECF6",
              "width": 0.5
             }
            },
            "type": "bar"
           }
          ],
          "barpolar": [
           {
            "marker": {
             "line": {
              "color": "#E5ECF6",
              "width": 0.5
             }
            },
            "type": "barpolar"
           }
          ],
          "carpet": [
           {
            "aaxis": {
             "endlinecolor": "#2a3f5f",
             "gridcolor": "white",
             "linecolor": "white",
             "minorgridcolor": "white",
             "startlinecolor": "#2a3f5f"
            },
            "baxis": {
             "endlinecolor": "#2a3f5f",
             "gridcolor": "white",
             "linecolor": "white",
             "minorgridcolor": "white",
             "startlinecolor": "#2a3f5f"
            },
            "type": "carpet"
           }
          ],
          "choropleth": [
           {
            "colorbar": {
             "outlinewidth": 0,
             "ticks": ""
            },
            "type": "choropleth"
           }
          ],
          "contour": [
           {
            "colorbar": {
             "outlinewidth": 0,
             "ticks": ""
            },
            "colorscale": [
             [
              0,
              "#0d0887"
             ],
             [
              0.1111111111111111,
              "#46039f"
             ],
             [
              0.2222222222222222,
              "#7201a8"
             ],
             [
              0.3333333333333333,
              "#9c179e"
             ],
             [
              0.4444444444444444,
              "#bd3786"
             ],
             [
              0.5555555555555556,
              "#d8576b"
             ],
             [
              0.6666666666666666,
              "#ed7953"
             ],
             [
              0.7777777777777778,
              "#fb9f3a"
             ],
             [
              0.8888888888888888,
              "#fdca26"
             ],
             [
              1,
              "#f0f921"
             ]
            ],
            "type": "contour"
           }
          ],
          "contourcarpet": [
           {
            "colorbar": {
             "outlinewidth": 0,
             "ticks": ""
            },
            "type": "contourcarpet"
           }
          ],
          "heatmap": [
           {
            "colorbar": {
             "outlinewidth": 0,
             "ticks": ""
            },
            "colorscale": [
             [
              0,
              "#0d0887"
             ],
             [
              0.1111111111111111,
              "#46039f"
             ],
             [
              0.2222222222222222,
              "#7201a8"
             ],
             [
              0.3333333333333333,
              "#9c179e"
             ],
             [
              0.4444444444444444,
              "#bd3786"
             ],
             [
              0.5555555555555556,
              "#d8576b"
             ],
             [
              0.6666666666666666,
              "#ed7953"
             ],
             [
              0.7777777777777778,
              "#fb9f3a"
             ],
             [
              0.8888888888888888,
              "#fdca26"
             ],
             [
              1,
              "#f0f921"
             ]
            ],
            "type": "heatmap"
           }
          ],
          "heatmapgl": [
           {
            "colorbar": {
             "outlinewidth": 0,
             "ticks": ""
            },
            "colorscale": [
             [
              0,
              "#0d0887"
             ],
             [
              0.1111111111111111,
              "#46039f"
             ],
             [
              0.2222222222222222,
              "#7201a8"
             ],
             [
              0.3333333333333333,
              "#9c179e"
             ],
             [
              0.4444444444444444,
              "#bd3786"
             ],
             [
              0.5555555555555556,
              "#d8576b"
             ],
             [
              0.6666666666666666,
              "#ed7953"
             ],
             [
              0.7777777777777778,
              "#fb9f3a"
             ],
             [
              0.8888888888888888,
              "#fdca26"
             ],
             [
              1,
              "#f0f921"
             ]
            ],
            "type": "heatmapgl"
           }
          ],
          "histogram": [
           {
            "marker": {
             "colorbar": {
              "outlinewidth": 0,
              "ticks": ""
             }
            },
            "type": "histogram"
           }
          ],
          "histogram2d": [
           {
            "colorbar": {
             "outlinewidth": 0,
             "ticks": ""
            },
            "colorscale": [
             [
              0,
              "#0d0887"
             ],
             [
              0.1111111111111111,
              "#46039f"
             ],
             [
              0.2222222222222222,
              "#7201a8"
             ],
             [
              0.3333333333333333,
              "#9c179e"
             ],
             [
              0.4444444444444444,
              "#bd3786"
             ],
             [
              0.5555555555555556,
              "#d8576b"
             ],
             [
              0.6666666666666666,
              "#ed7953"
             ],
             [
              0.7777777777777778,
              "#fb9f3a"
             ],
             [
              0.8888888888888888,
              "#fdca26"
             ],
             [
              1,
              "#f0f921"
             ]
            ],
            "type": "histogram2d"
           }
          ],
          "histogram2dcontour": [
           {
            "colorbar": {
             "outlinewidth": 0,
             "ticks": ""
            },
            "colorscale": [
             [
              0,
              "#0d0887"
             ],
             [
              0.1111111111111111,
              "#46039f"
             ],
             [
              0.2222222222222222,
              "#7201a8"
             ],
             [
              0.3333333333333333,
              "#9c179e"
             ],
             [
              0.4444444444444444,
              "#bd3786"
             ],
             [
              0.5555555555555556,
              "#d8576b"
             ],
             [
              0.6666666666666666,
              "#ed7953"
             ],
             [
              0.7777777777777778,
              "#fb9f3a"
             ],
             [
              0.8888888888888888,
              "#fdca26"
             ],
             [
              1,
              "#f0f921"
             ]
            ],
            "type": "histogram2dcontour"
           }
          ],
          "mesh3d": [
           {
            "colorbar": {
             "outlinewidth": 0,
             "ticks": ""
            },
            "type": "mesh3d"
           }
          ],
          "parcoords": [
           {
            "line": {
             "colorbar": {
              "outlinewidth": 0,
              "ticks": ""
             }
            },
            "type": "parcoords"
           }
          ],
          "pie": [
           {
            "automargin": true,
            "type": "pie"
           }
          ],
          "scatter": [
           {
            "marker": {
             "colorbar": {
              "outlinewidth": 0,
              "ticks": ""
             }
            },
            "type": "scatter"
           }
          ],
          "scatter3d": [
           {
            "line": {
             "colorbar": {
              "outlinewidth": 0,
              "ticks": ""
             }
            },
            "marker": {
             "colorbar": {
              "outlinewidth": 0,
              "ticks": ""
             }
            },
            "type": "scatter3d"
           }
          ],
          "scattercarpet": [
           {
            "marker": {
             "colorbar": {
              "outlinewidth": 0,
              "ticks": ""
             }
            },
            "type": "scattercarpet"
           }
          ],
          "scattergeo": [
           {
            "marker": {
             "colorbar": {
              "outlinewidth": 0,
              "ticks": ""
             }
            },
            "type": "scattergeo"
           }
          ],
          "scattergl": [
           {
            "marker": {
             "colorbar": {
              "outlinewidth": 0,
              "ticks": ""
             }
            },
            "type": "scattergl"
           }
          ],
          "scattermapbox": [
           {
            "marker": {
             "colorbar": {
              "outlinewidth": 0,
              "ticks": ""
             }
            },
            "type": "scattermapbox"
           }
          ],
          "scatterpolar": [
           {
            "marker": {
             "colorbar": {
              "outlinewidth": 0,
              "ticks": ""
             }
            },
            "type": "scatterpolar"
           }
          ],
          "scatterpolargl": [
           {
            "marker": {
             "colorbar": {
              "outlinewidth": 0,
              "ticks": ""
             }
            },
            "type": "scatterpolargl"
           }
          ],
          "scatterternary": [
           {
            "marker": {
             "colorbar": {
              "outlinewidth": 0,
              "ticks": ""
             }
            },
            "type": "scatterternary"
           }
          ],
          "surface": [
           {
            "colorbar": {
             "outlinewidth": 0,
             "ticks": ""
            },
            "colorscale": [
             [
              0,
              "#0d0887"
             ],
             [
              0.1111111111111111,
              "#46039f"
             ],
             [
              0.2222222222222222,
              "#7201a8"
             ],
             [
              0.3333333333333333,
              "#9c179e"
             ],
             [
              0.4444444444444444,
              "#bd3786"
             ],
             [
              0.5555555555555556,
              "#d8576b"
             ],
             [
              0.6666666666666666,
              "#ed7953"
             ],
             [
              0.7777777777777778,
              "#fb9f3a"
             ],
             [
              0.8888888888888888,
              "#fdca26"
             ],
             [
              1,
              "#f0f921"
             ]
            ],
            "type": "surface"
           }
          ],
          "table": [
           {
            "cells": {
             "fill": {
              "color": "#EBF0F8"
             },
             "line": {
              "color": "white"
             }
            },
            "header": {
             "fill": {
              "color": "#C8D4E3"
             },
             "line": {
              "color": "white"
             }
            },
            "type": "table"
           }
          ]
         },
         "layout": {
          "annotationdefaults": {
           "arrowcolor": "#2a3f5f",
           "arrowhead": 0,
           "arrowwidth": 1
          },
          "coloraxis": {
           "colorbar": {
            "outlinewidth": 0,
            "ticks": ""
           }
          },
          "colorscale": {
           "diverging": [
            [
             0,
             "#8e0152"
            ],
            [
             0.1,
             "#c51b7d"
            ],
            [
             0.2,
             "#de77ae"
            ],
            [
             0.3,
             "#f1b6da"
            ],
            [
             0.4,
             "#fde0ef"
            ],
            [
             0.5,
             "#f7f7f7"
            ],
            [
             0.6,
             "#e6f5d0"
            ],
            [
             0.7,
             "#b8e186"
            ],
            [
             0.8,
             "#7fbc41"
            ],
            [
             0.9,
             "#4d9221"
            ],
            [
             1,
             "#276419"
            ]
           ],
           "sequential": [
            [
             0,
             "#0d0887"
            ],
            [
             0.1111111111111111,
             "#46039f"
            ],
            [
             0.2222222222222222,
             "#7201a8"
            ],
            [
             0.3333333333333333,
             "#9c179e"
            ],
            [
             0.4444444444444444,
             "#bd3786"
            ],
            [
             0.5555555555555556,
             "#d8576b"
            ],
            [
             0.6666666666666666,
             "#ed7953"
            ],
            [
             0.7777777777777778,
             "#fb9f3a"
            ],
            [
             0.8888888888888888,
             "#fdca26"
            ],
            [
             1,
             "#f0f921"
            ]
           ],
           "sequentialminus": [
            [
             0,
             "#0d0887"
            ],
            [
             0.1111111111111111,
             "#46039f"
            ],
            [
             0.2222222222222222,
             "#7201a8"
            ],
            [
             0.3333333333333333,
             "#9c179e"
            ],
            [
             0.4444444444444444,
             "#bd3786"
            ],
            [
             0.5555555555555556,
             "#d8576b"
            ],
            [
             0.6666666666666666,
             "#ed7953"
            ],
            [
             0.7777777777777778,
             "#fb9f3a"
            ],
            [
             0.8888888888888888,
             "#fdca26"
            ],
            [
             1,
             "#f0f921"
            ]
           ]
          },
          "colorway": [
           "#636efa",
           "#EF553B",
           "#00cc96",
           "#ab63fa",
           "#FFA15A",
           "#19d3f3",
           "#FF6692",
           "#B6E880",
           "#FF97FF",
           "#FECB52"
          ],
          "font": {
           "color": "#2a3f5f"
          },
          "geo": {
           "bgcolor": "white",
           "lakecolor": "white",
           "landcolor": "#E5ECF6",
           "showlakes": true,
           "showland": true,
           "subunitcolor": "white"
          },
          "hoverlabel": {
           "align": "left"
          },
          "hovermode": "closest",
          "mapbox": {
           "style": "light"
          },
          "paper_bgcolor": "white",
          "plot_bgcolor": "#E5ECF6",
          "polar": {
           "angularaxis": {
            "gridcolor": "white",
            "linecolor": "white",
            "ticks": ""
           },
           "bgcolor": "#E5ECF6",
           "radialaxis": {
            "gridcolor": "white",
            "linecolor": "white",
            "ticks": ""
           }
          },
          "scene": {
           "xaxis": {
            "backgroundcolor": "#E5ECF6",
            "gridcolor": "white",
            "gridwidth": 2,
            "linecolor": "white",
            "showbackground": true,
            "ticks": "",
            "zerolinecolor": "white"
           },
           "yaxis": {
            "backgroundcolor": "#E5ECF6",
            "gridcolor": "white",
            "gridwidth": 2,
            "linecolor": "white",
            "showbackground": true,
            "ticks": "",
            "zerolinecolor": "white"
           },
           "zaxis": {
            "backgroundcolor": "#E5ECF6",
            "gridcolor": "white",
            "gridwidth": 2,
            "linecolor": "white",
            "showbackground": true,
            "ticks": "",
            "zerolinecolor": "white"
           }
          },
          "shapedefaults": {
           "line": {
            "color": "#2a3f5f"
           }
          },
          "ternary": {
           "aaxis": {
            "gridcolor": "white",
            "linecolor": "white",
            "ticks": ""
           },
           "baxis": {
            "gridcolor": "white",
            "linecolor": "white",
            "ticks": ""
           },
           "bgcolor": "#E5ECF6",
           "caxis": {
            "gridcolor": "white",
            "linecolor": "white",
            "ticks": ""
           }
          },
          "title": {
           "x": 0.05
          },
          "xaxis": {
           "automargin": true,
           "gridcolor": "white",
           "linecolor": "white",
           "ticks": "",
           "title": {
            "standoff": 15
           },
           "zerolinecolor": "white",
           "zerolinewidth": 2
          },
          "yaxis": {
           "automargin": true,
           "gridcolor": "white",
           "linecolor": "white",
           "ticks": "",
           "title": {
            "standoff": 15
           },
           "zerolinecolor": "white",
           "zerolinewidth": 2
          }
         }
        },
        "xaxis": {
         "anchor": "y",
         "domain": [
          0,
          0.7363
         ],
         "title": {
          "text": "Longitude"
         }
        },
        "xaxis2": {
         "anchor": "y2",
         "domain": [
          0.7413,
          1
         ],
         "matches": "x2",
         "showgrid": true,
         "showline": false,
         "showticklabels": false,
         "ticks": ""
        },
        "xaxis3": {
         "anchor": "y3",
         "domain": [
          0,
          0.7363
         ],
         "matches": "x",
         "showgrid": true,
         "showticklabels": false
        },
        "xaxis4": {
         "anchor": "y4",
         "domain": [
          0.7413,
          1
         ],
         "matches": "x2",
         "showgrid": true,
         "showline": false,
         "showticklabels": false,
         "ticks": ""
        },
        "yaxis": {
         "anchor": "x",
         "domain": [
          0,
          0.7326
         ],
         "title": {
          "text": "Latitude"
         }
        },
        "yaxis2": {
         "anchor": "x2",
         "domain": [
          0,
          0.7326
         ],
         "matches": "y",
         "showgrid": true,
         "showticklabels": false
        },
        "yaxis3": {
         "anchor": "x3",
         "domain": [
          0.7426,
          1
         ],
         "matches": "y3",
         "showgrid": true,
         "showline": false,
         "showticklabels": false,
         "ticks": ""
        },
        "yaxis4": {
         "anchor": "x4",
         "domain": [
          0.7426,
          1
         ],
         "matches": "y3",
         "showgrid": true,
         "showline": false,
         "showticklabels": false,
         "ticks": ""
        }
       }
      },
      "text/html": [
       "<div>                            <div id=\"f413c43c-c4b7-4958-bbb1-4ff7a4da7c76\" class=\"plotly-graph-div\" style=\"height:525px; width:100%;\"></div>            <script type=\"text/javascript\">                require([\"plotly\"], function(Plotly) {                    window.PLOTLYENV=window.PLOTLYENV || {};                                    if (document.getElementById(\"f413c43c-c4b7-4958-bbb1-4ff7a4da7c76\")) {                    Plotly.newPlot(                        \"f413c43c-c4b7-4958-bbb1-4ff7a4da7c76\",                        [{\"hovertemplate\": \"Longitude=%{x}<br>Latitude=%{y}<extra></extra>\", \"legendgroup\": \"\", \"marker\": {\"color\": \"#636efa\", \"symbol\": \"circle\"}, \"mode\": \"markers\", \"name\": \"\", \"orientation\": \"v\", \"showlegend\": false, \"type\": \"scatter\", \"x\": [-83.99, -83.98, -84.12, -84.18, -83.92, -83.52, -84.55, -82.37, -82.38, -82.37, -82.37, -82.38, -82.49, -82.52, -82.49, -83.94, -84.09, -84.15, -84.04, -83.92, -83.97, -84.09, -83.93, -84.07, -84.04, -84.09, -84.09, -84.04, -83.89, -83.93, -84.1, -83.99, -84.15, -84.05, -84.26, -84.27, -83.99, -83.99, -83.35, -84.26, -84.26, -83.58, -83.58, -84.0, -84.0, -84.06, -83.57, -83.57], \"xaxis\": \"x\", \"y\": [35.81, 35.81, 35.9, 35.88, 36.05, 35.71, 35.89, 36.31, 36.3, 36.3, 36.34, 36.34, 36.29, 36.54, 36.55, 35.95, 35.94, 35.9, 35.93, 35.96, 36.01, 35.91, 35.95, 35.86, 35.93, 35.91, 35.92, 35.93, 36.04, 35.95, 35.87, 35.94, 35.9, 35.92, 35.8, 35.82, 35.75, 35.75, 36.2, 36.01, 36.01, 35.8, 35.81, 36.05, 36.05, 36.05, 35.83, 35.88], \"yaxis\": \"y\"}, {\"alignmentgroup\": \"True\", \"bingroup\": \"x\", \"hovertemplate\": \"Longitude=%{x}<br>count=%{y}<extra></extra>\", \"legendgroup\": \"\", \"marker\": {\"color\": \"#636efa\"}, \"name\": \"\", \"offsetgroup\": \"\", \"opacity\": 0.5, \"showlegend\": false, \"type\": \"histogram\", \"x\": [-83.99, -83.98, -84.12, -84.18, -83.92, -83.52, -84.55, -82.37, -82.38, -82.37, -82.37, -82.38, -82.49, -82.52, -82.49, -83.94, -84.09, -84.15, -84.04, -83.92, -83.97, -84.09, -83.93, -84.07, -84.04, -84.09, -84.09, -84.04, -83.89, -83.93, -84.1, -83.99, -84.15, -84.05, -84.26, -84.27, -83.99, -83.99, -83.35, -84.26, -84.26, -83.58, -83.58, -84.0, -84.0, -84.06, -83.57, -83.57], \"xaxis\": \"x3\", \"yaxis\": \"y3\"}, {\"alignmentgroup\": \"True\", \"bingroup\": \"y\", \"hovertemplate\": \"Latitude=%{y}<br>count=%{x}<extra></extra>\", \"legendgroup\": \"\", \"marker\": {\"color\": \"#636efa\"}, \"name\": \"\", \"offsetgroup\": \"\", \"opacity\": 0.5, \"showlegend\": false, \"type\": \"histogram\", \"xaxis\": \"x2\", \"y\": [35.81, 35.81, 35.9, 35.88, 36.05, 35.71, 35.89, 36.31, 36.3, 36.3, 36.34, 36.34, 36.29, 36.54, 36.55, 35.95, 35.94, 35.9, 35.93, 35.96, 36.01, 35.91, 35.95, 35.86, 35.93, 35.91, 35.92, 35.93, 36.04, 35.95, 35.87, 35.94, 35.9, 35.92, 35.8, 35.82, 35.75, 35.75, 36.2, 36.01, 36.01, 35.8, 35.81, 36.05, 36.05, 36.05, 35.83, 35.88], \"yaxis\": \"y2\"}],                        {\"barmode\": \"overlay\", \"legend\": {\"tracegroupgap\": 0}, \"margin\": {\"t\": 60}, \"template\": {\"data\": {\"bar\": [{\"error_x\": {\"color\": \"#2a3f5f\"}, \"error_y\": {\"color\": \"#2a3f5f\"}, \"marker\": {\"line\": {\"color\": \"#E5ECF6\", \"width\": 0.5}}, \"type\": \"bar\"}], \"barpolar\": [{\"marker\": {\"line\": {\"color\": \"#E5ECF6\", \"width\": 0.5}}, \"type\": \"barpolar\"}], \"carpet\": [{\"aaxis\": {\"endlinecolor\": \"#2a3f5f\", \"gridcolor\": \"white\", \"linecolor\": \"white\", \"minorgridcolor\": \"white\", \"startlinecolor\": \"#2a3f5f\"}, \"baxis\": {\"endlinecolor\": \"#2a3f5f\", \"gridcolor\": \"white\", \"linecolor\": \"white\", \"minorgridcolor\": \"white\", \"startlinecolor\": \"#2a3f5f\"}, \"type\": \"carpet\"}], \"choropleth\": [{\"colorbar\": {\"outlinewidth\": 0, \"ticks\": \"\"}, \"type\": \"choropleth\"}], \"contour\": [{\"colorbar\": {\"outlinewidth\": 0, \"ticks\": \"\"}, \"colorscale\": [[0.0, \"#0d0887\"], [0.1111111111111111, \"#46039f\"], [0.2222222222222222, \"#7201a8\"], [0.3333333333333333, \"#9c179e\"], [0.4444444444444444, \"#bd3786\"], [0.5555555555555556, \"#d8576b\"], [0.6666666666666666, \"#ed7953\"], [0.7777777777777778, \"#fb9f3a\"], [0.8888888888888888, \"#fdca26\"], [1.0, \"#f0f921\"]], \"type\": \"contour\"}], \"contourcarpet\": [{\"colorbar\": {\"outlinewidth\": 0, \"ticks\": \"\"}, \"type\": \"contourcarpet\"}], \"heatmap\": [{\"colorbar\": {\"outlinewidth\": 0, \"ticks\": \"\"}, \"colorscale\": [[0.0, \"#0d0887\"], [0.1111111111111111, \"#46039f\"], [0.2222222222222222, \"#7201a8\"], [0.3333333333333333, \"#9c179e\"], [0.4444444444444444, \"#bd3786\"], [0.5555555555555556, \"#d8576b\"], [0.6666666666666666, \"#ed7953\"], [0.7777777777777778, \"#fb9f3a\"], [0.8888888888888888, \"#fdca26\"], [1.0, \"#f0f921\"]], \"type\": \"heatmap\"}], \"heatmapgl\": [{\"colorbar\": {\"outlinewidth\": 0, \"ticks\": \"\"}, \"colorscale\": [[0.0, \"#0d0887\"], [0.1111111111111111, \"#46039f\"], [0.2222222222222222, \"#7201a8\"], [0.3333333333333333, \"#9c179e\"], [0.4444444444444444, \"#bd3786\"], [0.5555555555555556, \"#d8576b\"], [0.6666666666666666, \"#ed7953\"], [0.7777777777777778, \"#fb9f3a\"], [0.8888888888888888, \"#fdca26\"], [1.0, \"#f0f921\"]], \"type\": \"heatmapgl\"}], \"histogram\": [{\"marker\": {\"colorbar\": {\"outlinewidth\": 0, \"ticks\": \"\"}}, \"type\": \"histogram\"}], \"histogram2d\": [{\"colorbar\": {\"outlinewidth\": 0, \"ticks\": \"\"}, \"colorscale\": [[0.0, \"#0d0887\"], [0.1111111111111111, \"#46039f\"], [0.2222222222222222, \"#7201a8\"], [0.3333333333333333, \"#9c179e\"], [0.4444444444444444, \"#bd3786\"], [0.5555555555555556, \"#d8576b\"], [0.6666666666666666, \"#ed7953\"], [0.7777777777777778, \"#fb9f3a\"], [0.8888888888888888, \"#fdca26\"], [1.0, \"#f0f921\"]], \"type\": \"histogram2d\"}], \"histogram2dcontour\": [{\"colorbar\": {\"outlinewidth\": 0, \"ticks\": \"\"}, \"colorscale\": [[0.0, \"#0d0887\"], [0.1111111111111111, \"#46039f\"], [0.2222222222222222, \"#7201a8\"], [0.3333333333333333, \"#9c179e\"], [0.4444444444444444, \"#bd3786\"], [0.5555555555555556, \"#d8576b\"], [0.6666666666666666, \"#ed7953\"], [0.7777777777777778, \"#fb9f3a\"], [0.8888888888888888, \"#fdca26\"], [1.0, \"#f0f921\"]], \"type\": \"histogram2dcontour\"}], \"mesh3d\": [{\"colorbar\": {\"outlinewidth\": 0, \"ticks\": \"\"}, \"type\": \"mesh3d\"}], \"parcoords\": [{\"line\": {\"colorbar\": {\"outlinewidth\": 0, \"ticks\": \"\"}}, \"type\": \"parcoords\"}], \"pie\": [{\"automargin\": true, \"type\": \"pie\"}], \"scatter\": [{\"marker\": {\"colorbar\": {\"outlinewidth\": 0, \"ticks\": \"\"}}, \"type\": \"scatter\"}], \"scatter3d\": [{\"line\": {\"colorbar\": {\"outlinewidth\": 0, \"ticks\": \"\"}}, \"marker\": {\"colorbar\": {\"outlinewidth\": 0, \"ticks\": \"\"}}, \"type\": \"scatter3d\"}], \"scattercarpet\": [{\"marker\": {\"colorbar\": {\"outlinewidth\": 0, \"ticks\": \"\"}}, \"type\": \"scattercarpet\"}], \"scattergeo\": [{\"marker\": {\"colorbar\": {\"outlinewidth\": 0, \"ticks\": \"\"}}, \"type\": \"scattergeo\"}], \"scattergl\": [{\"marker\": {\"colorbar\": {\"outlinewidth\": 0, \"ticks\": \"\"}}, \"type\": \"scattergl\"}], \"scattermapbox\": [{\"marker\": {\"colorbar\": {\"outlinewidth\": 0, \"ticks\": \"\"}}, \"type\": \"scattermapbox\"}], \"scatterpolar\": [{\"marker\": {\"colorbar\": {\"outlinewidth\": 0, \"ticks\": \"\"}}, \"type\": \"scatterpolar\"}], \"scatterpolargl\": [{\"marker\": {\"colorbar\": {\"outlinewidth\": 0, \"ticks\": \"\"}}, \"type\": \"scatterpolargl\"}], \"scatterternary\": [{\"marker\": {\"colorbar\": {\"outlinewidth\": 0, \"ticks\": \"\"}}, \"type\": \"scatterternary\"}], \"surface\": [{\"colorbar\": {\"outlinewidth\": 0, \"ticks\": \"\"}, \"colorscale\": [[0.0, \"#0d0887\"], [0.1111111111111111, \"#46039f\"], [0.2222222222222222, \"#7201a8\"], [0.3333333333333333, \"#9c179e\"], [0.4444444444444444, \"#bd3786\"], [0.5555555555555556, \"#d8576b\"], [0.6666666666666666, \"#ed7953\"], [0.7777777777777778, \"#fb9f3a\"], [0.8888888888888888, \"#fdca26\"], [1.0, \"#f0f921\"]], \"type\": \"surface\"}], \"table\": [{\"cells\": {\"fill\": {\"color\": \"#EBF0F8\"}, \"line\": {\"color\": \"white\"}}, \"header\": {\"fill\": {\"color\": \"#C8D4E3\"}, \"line\": {\"color\": \"white\"}}, \"type\": \"table\"}]}, \"layout\": {\"annotationdefaults\": {\"arrowcolor\": \"#2a3f5f\", \"arrowhead\": 0, \"arrowwidth\": 1}, \"coloraxis\": {\"colorbar\": {\"outlinewidth\": 0, \"ticks\": \"\"}}, \"colorscale\": {\"diverging\": [[0, \"#8e0152\"], [0.1, \"#c51b7d\"], [0.2, \"#de77ae\"], [0.3, \"#f1b6da\"], [0.4, \"#fde0ef\"], [0.5, \"#f7f7f7\"], [0.6, \"#e6f5d0\"], [0.7, \"#b8e186\"], [0.8, \"#7fbc41\"], [0.9, \"#4d9221\"], [1, \"#276419\"]], \"sequential\": [[0.0, \"#0d0887\"], [0.1111111111111111, \"#46039f\"], [0.2222222222222222, \"#7201a8\"], [0.3333333333333333, \"#9c179e\"], [0.4444444444444444, \"#bd3786\"], [0.5555555555555556, \"#d8576b\"], [0.6666666666666666, \"#ed7953\"], [0.7777777777777778, \"#fb9f3a\"], [0.8888888888888888, \"#fdca26\"], [1.0, \"#f0f921\"]], \"sequentialminus\": [[0.0, \"#0d0887\"], [0.1111111111111111, \"#46039f\"], [0.2222222222222222, \"#7201a8\"], [0.3333333333333333, \"#9c179e\"], [0.4444444444444444, \"#bd3786\"], [0.5555555555555556, \"#d8576b\"], [0.6666666666666666, \"#ed7953\"], [0.7777777777777778, \"#fb9f3a\"], [0.8888888888888888, \"#fdca26\"], [1.0, \"#f0f921\"]]}, \"colorway\": [\"#636efa\", \"#EF553B\", \"#00cc96\", \"#ab63fa\", \"#FFA15A\", \"#19d3f3\", \"#FF6692\", \"#B6E880\", \"#FF97FF\", \"#FECB52\"], \"font\": {\"color\": \"#2a3f5f\"}, \"geo\": {\"bgcolor\": \"white\", \"lakecolor\": \"white\", \"landcolor\": \"#E5ECF6\", \"showlakes\": true, \"showland\": true, \"subunitcolor\": \"white\"}, \"hoverlabel\": {\"align\": \"left\"}, \"hovermode\": \"closest\", \"mapbox\": {\"style\": \"light\"}, \"paper_bgcolor\": \"white\", \"plot_bgcolor\": \"#E5ECF6\", \"polar\": {\"angularaxis\": {\"gridcolor\": \"white\", \"linecolor\": \"white\", \"ticks\": \"\"}, \"bgcolor\": \"#E5ECF6\", \"radialaxis\": {\"gridcolor\": \"white\", \"linecolor\": \"white\", \"ticks\": \"\"}}, \"scene\": {\"xaxis\": {\"backgroundcolor\": \"#E5ECF6\", \"gridcolor\": \"white\", \"gridwidth\": 2, \"linecolor\": \"white\", \"showbackground\": true, \"ticks\": \"\", \"zerolinecolor\": \"white\"}, \"yaxis\": {\"backgroundcolor\": \"#E5ECF6\", \"gridcolor\": \"white\", \"gridwidth\": 2, \"linecolor\": \"white\", \"showbackground\": true, \"ticks\": \"\", \"zerolinecolor\": \"white\"}, \"zaxis\": {\"backgroundcolor\": \"#E5ECF6\", \"gridcolor\": \"white\", \"gridwidth\": 2, \"linecolor\": \"white\", \"showbackground\": true, \"ticks\": \"\", \"zerolinecolor\": \"white\"}}, \"shapedefaults\": {\"line\": {\"color\": \"#2a3f5f\"}}, \"ternary\": {\"aaxis\": {\"gridcolor\": \"white\", \"linecolor\": \"white\", \"ticks\": \"\"}, \"baxis\": {\"gridcolor\": \"white\", \"linecolor\": \"white\", \"ticks\": \"\"}, \"bgcolor\": \"#E5ECF6\", \"caxis\": {\"gridcolor\": \"white\", \"linecolor\": \"white\", \"ticks\": \"\"}}, \"title\": {\"x\": 0.05}, \"xaxis\": {\"automargin\": true, \"gridcolor\": \"white\", \"linecolor\": \"white\", \"ticks\": \"\", \"title\": {\"standoff\": 15}, \"zerolinecolor\": \"white\", \"zerolinewidth\": 2}, \"yaxis\": {\"automargin\": true, \"gridcolor\": \"white\", \"linecolor\": \"white\", \"ticks\": \"\", \"title\": {\"standoff\": 15}, \"zerolinecolor\": \"white\", \"zerolinewidth\": 2}}}, \"xaxis\": {\"anchor\": \"y\", \"domain\": [0.0, 0.7363], \"title\": {\"text\": \"Longitude\"}}, \"xaxis2\": {\"anchor\": \"y2\", \"domain\": [0.7413, 1.0], \"matches\": \"x2\", \"showgrid\": true, \"showline\": false, \"showticklabels\": false, \"ticks\": \"\"}, \"xaxis3\": {\"anchor\": \"y3\", \"domain\": [0.0, 0.7363], \"matches\": \"x\", \"showgrid\": true, \"showticklabels\": false}, \"xaxis4\": {\"anchor\": \"y4\", \"domain\": [0.7413, 1.0], \"matches\": \"x2\", \"showgrid\": true, \"showline\": false, \"showticklabels\": false, \"ticks\": \"\"}, \"yaxis\": {\"anchor\": \"x\", \"domain\": [0.0, 0.7326], \"title\": {\"text\": \"Latitude\"}}, \"yaxis2\": {\"anchor\": \"x2\", \"domain\": [0.0, 0.7326], \"matches\": \"y\", \"showgrid\": true, \"showticklabels\": false}, \"yaxis3\": {\"anchor\": \"x3\", \"domain\": [0.7426, 1.0], \"matches\": \"y3\", \"showgrid\": true, \"showline\": false, \"showticklabels\": false, \"ticks\": \"\"}, \"yaxis4\": {\"anchor\": \"x4\", \"domain\": [0.7426, 1.0], \"matches\": \"y3\", \"showgrid\": true, \"showline\": false, \"showticklabels\": false, \"ticks\": \"\"}},                        {\"responsive\": true}                    ).then(function(){\n",
       "                            \n",
       "var gd = document.getElementById('f413c43c-c4b7-4958-bbb1-4ff7a4da7c76');\n",
       "var x = new MutationObserver(function (mutations, observer) {{\n",
       "        var display = window.getComputedStyle(gd).display;\n",
       "        if (!display || display === 'none') {{\n",
       "            console.log([gd, 'removed!']);\n",
       "            Plotly.purge(gd);\n",
       "            observer.disconnect();\n",
       "        }}\n",
       "}});\n",
       "\n",
       "// Listen for the removal of the full notebook cells\n",
       "var notebookContainer = gd.closest('#notebook-container');\n",
       "if (notebookContainer) {{\n",
       "    x.observe(notebookContainer, {childList: true});\n",
       "}}\n",
       "\n",
       "// Listen for the clearing of the current output cell\n",
       "var outputEl = gd.closest('.output');\n",
       "if (outputEl) {{\n",
       "    x.observe(outputEl, {childList: true});\n",
       "}}\n",
       "\n",
       "                        })                };                });            </script>        </div>"
      ]
     },
     "metadata": {},
     "output_type": "display_data"
    },
    {
     "data": {
      "application/javascript": [
       "\n",
       "            setTimeout(function() {\n",
       "                var nbb_cell_id = 60;\n",
       "                var nbb_unformatted_code = \"px.scatter(\\n    starbs, \\\"Longitude\\\", \\\"Latitude\\\", marginal_x=\\\"histogram\\\", marginal_y=\\\"histogram\\\"\\n)\";\n",
       "                var nbb_formatted_code = \"px.scatter(\\n    starbs, \\\"Longitude\\\", \\\"Latitude\\\", marginal_x=\\\"histogram\\\", marginal_y=\\\"histogram\\\"\\n)\";\n",
       "                var nbb_cells = Jupyter.notebook.get_cells();\n",
       "                for (var i = 0; i < nbb_cells.length; ++i) {\n",
       "                    if (nbb_cells[i].input_prompt_number == nbb_cell_id) {\n",
       "                        if (nbb_cells[i].get_text() == nbb_unformatted_code) {\n",
       "                             nbb_cells[i].set_text(nbb_formatted_code);\n",
       "                        }\n",
       "                        break;\n",
       "                    }\n",
       "                }\n",
       "            }, 500);\n",
       "            "
      ],
      "text/plain": [
       "<IPython.core.display.Javascript object>"
      ]
     },
     "metadata": {},
     "output_type": "display_data"
    }
   ],
   "source": [
    "px.scatter(\n",
    "    starbs, \"Longitude\", \"Latitude\", marginal_x=\"histogram\", marginal_y=\"histogram\"\n",
    ")"
   ]
  },
  {
   "cell_type": "code",
   "execution_count": 61,
   "metadata": {
    "colab": {
     "base_uri": "https://localhost:8080/",
     "height": 542
    },
    "id": "aucj6tK5CD2R",
    "outputId": "b92456e0-f4fb-4edb-dde0-8babd38d58ad",
    "scrolled": false
   },
   "outputs": [
    {
     "data": {
      "application/vnd.plotly.v1+json": {
       "config": {
        "plotlyServerURL": "https://plot.ly"
       },
       "data": [
        {
         "type": "surface",
         "x": [
          -84.55,
          -84.5279797979798,
          -84.5059595959596,
          -84.4839393939394,
          -84.4619191919192,
          -84.43989898989899,
          -84.41787878787879,
          -84.39585858585859,
          -84.37383838383838,
          -84.35181818181817,
          -84.32979797979797,
          -84.30777777777777,
          -84.28575757575757,
          -84.26373737373737,
          -84.24171717171717,
          -84.21969696969697,
          -84.19767676767677,
          -84.17565656565657,
          -84.15363636363637,
          -84.13161616161617,
          -84.10959595959596,
          -84.08757575757576,
          -84.06555555555555,
          -84.04353535353535,
          -84.02151515151515,
          -83.99949494949495,
          -83.97747474747474,
          -83.95545454545454,
          -83.93343434343434,
          -83.91141414141414,
          -83.88939393939394,
          -83.86737373737374,
          -83.84535353535354,
          -83.82333333333334,
          -83.80131313131314,
          -83.77929292929294,
          -83.75727272727272,
          -83.73525252525252,
          -83.71323232323232,
          -83.69121212121212,
          -83.66919191919192,
          -83.64717171717172,
          -83.62515151515152,
          -83.60313131313131,
          -83.58111111111111,
          -83.55909090909091,
          -83.53707070707071,
          -83.51505050505051,
          -83.49303030303031,
          -83.47101010101011,
          -83.4489898989899,
          -83.42696969696969,
          -83.40494949494949,
          -83.38292929292929,
          -83.36090909090909,
          -83.33888888888889,
          -83.31686868686869,
          -83.29484848484849,
          -83.27282828282829,
          -83.25080808080808,
          -83.22878787878788,
          -83.20676767676768,
          -83.18474747474748,
          -83.16272727272728,
          -83.14070707070707,
          -83.11868686868686,
          -83.09666666666666,
          -83.07464646464646,
          -83.05262626262626,
          -83.03060606060606,
          -83.00858585858586,
          -82.98656565656566,
          -82.96454545454546,
          -82.94252525252526,
          -82.92050505050506,
          -82.89848484848486,
          -82.87646464646465,
          -82.85444444444445,
          -82.83242424242424,
          -82.81040404040404,
          -82.78838383838384,
          -82.76636363636364,
          -82.74434343434343,
          -82.72232323232323,
          -82.70030303030303,
          -82.67828282828283,
          -82.65626262626263,
          -82.63424242424243,
          -82.61222222222223,
          -82.59020202020203,
          -82.56818181818183,
          -82.54616161616163,
          -82.52414141414141,
          -82.50212121212121,
          -82.48010101010101,
          -82.45808080808081,
          -82.43606060606061,
          -82.4140404040404,
          -82.3920202020202,
          -82.37
         ],
         "y": [
          35.71,
          35.71848484848485,
          35.7269696969697,
          35.735454545454544,
          35.74393939393939,
          35.75242424242424,
          35.76090909090909,
          35.76939393939394,
          35.77787878787879,
          35.78636363636364,
          35.79484848484849,
          35.803333333333335,
          35.81181818181818,
          35.82030303030303,
          35.82878787878788,
          35.837272727272726,
          35.845757575757574,
          35.85424242424242,
          35.86272727272727,
          35.871212121212125,
          35.87969696969697,
          35.88818181818182,
          35.89666666666667,
          35.905151515151516,
          35.913636363636364,
          35.92212121212121,
          35.93060606060606,
          35.93909090909091,
          35.947575757575756,
          35.9560606060606,
          35.96454545454545,
          35.973030303030306,
          35.981515151515154,
          35.99,
          35.99848484848485,
          36.0069696969697,
          36.015454545454546,
          36.02393939393939,
          36.03242424242424,
          36.04090909090909,
          36.04939393939394,
          36.057878787878785,
          36.06636363636363,
          36.07484848484848,
          36.083333333333336,
          36.091818181818184,
          36.10030303030303,
          36.10878787878788,
          36.11727272727273,
          36.125757575757575,
          36.13424242424242,
          36.14272727272727,
          36.15121212121212,
          36.15969696969697,
          36.168181818181814,
          36.17666666666666,
          36.18515151515152,
          36.193636363636365,
          36.20212121212121,
          36.21060606060606,
          36.21909090909091,
          36.22757575757576,
          36.236060606060605,
          36.24454545454545,
          36.2530303030303,
          36.26151515151515,
          36.269999999999996,
          36.278484848484844,
          36.28696969696969,
          36.29545454545455,
          36.303939393939395,
          36.31242424242424,
          36.32090909090909,
          36.32939393939394,
          36.337878787878786,
          36.346363636363634,
          36.35484848484848,
          36.36333333333333,
          36.37181818181818,
          36.380303030303025,
          36.38878787878787,
          36.39727272727273,
          36.405757575757576,
          36.414242424242424,
          36.42272727272727,
          36.43121212121212,
          36.43969696969697,
          36.448181818181816,
          36.45666666666666,
          36.46515151515151,
          36.47363636363636,
          36.48212121212121,
          36.490606060606055,
          36.49909090909091,
          36.50757575757576,
          36.516060606060606,
          36.52454545454545,
          36.5330303030303,
          36.54151515151515,
          36.55
         ],
         "z": [
          [
           0.7258969621116863,
           0.8038091606338781,
           0.8825093218760821,
           0.959715658413383,
           1.0329515909638227,
           1.0997030704207995,
           1.1575972718537602,
           1.2045857579124388,
           1.2391123193693667,
           1.2602452765510483,
           1.2677565270620519,
           1.2621350379549414,
           1.2445302444422195,
           1.2166298703153993,
           1.1804856247975368,
           1.1383075667202391,
           1.0922523748889765,
           1.0442315082034552,
           0.9957621094866157,
           0.9478770181871427,
           0.901101510212544,
           0.8554948468167204,
           0.8107459397617401,
           0.7663057719394262,
           0.7215355595488236,
           0.6758493447781941,
           0.6288325275373984,
           0.5803230568790229,
           0.5304485710040476,
           0.47961955954687674,
           0.42848458196896577,
           0.37785792781754496,
           0.3286324168219593,
           0.2816902521240057,
           0.23782323213520387,
           0.19767070806270712,
           0.16168007807188373,
           0.13009096866209063,
           0.1029411012909016,
           0.08008954060703535,
           0.06125173565190804,
           0.04604047587304283,
           0.034007421670282145,
           0.024680976860418438,
           0.017597661755260032,
           0.012325558607940061,
           0.008479634997825542,
           0.005729682608034706,
           0.0038021939330425214,
           0.0024777568617906634,
           0.0015855388057438712,
           0.000996240442136712,
           0.0006146076216998708,
           0.0003722694519241096,
           0.00022137235736448475,
           0.0001292344350719338,
           7.406374541193666e-05,
           4.166684236073833e-05,
           2.3010130220061634e-05,
           1.2473210355830759e-05,
           6.636760976032918e-06,
           3.4661059164522974e-06,
           1.7767445241238394e-06,
           8.939149071119033e-07,
           4.4141454975022366e-07,
           2.1392830752121255e-07,
           1.0175446735117025e-07,
           4.750019108877808e-08,
           2.1761428566875873e-08,
           9.784161767783364e-09,
           4.317163182091216e-09,
           1.8694194926280756e-09,
           7.944082594502323e-10,
           3.3128745067547446e-10,
           1.3557710657144515e-10,
           5.444826855647577e-11,
           2.1458264770674863e-11,
           8.298788192949981e-12,
           3.149497785871656e-12,
           1.1729289589817962e-12,
           4.286505046841343e-13,
           1.5372123716440086e-13,
           5.409550609942893e-14,
           1.868028012524373e-14,
           6.3299278890353985e-15,
           2.1047757799638976e-15,
           6.86757395532248e-16,
           2.198822899957263e-16,
           6.908213833568463e-17,
           2.1297537596971003e-17,
           6.442892775314656e-18,
           1.9125836109993678e-18,
           5.571196645069273e-19,
           1.5924508679179497e-19,
           4.466574476008946e-20,
           1.229351868820716e-20,
           3.320272685402769e-21,
           8.799761887609933e-22,
           2.2886134489630664e-22,
           5.840960951894938e-23
          ],
          [
           0.735597114517538,
           0.8185376142835666,
           0.9039353392557355,
           0.9895205840874187,
           1.0727037251405724,
           1.1507232976054071,
           1.2208283097096568,
           1.280479540688068,
           1.3275499211973063,
           1.360501606151728,
           1.3785177995417845,
           1.3815711403910738,
           1.3704173072429264,
           1.3465116412984395,
           1.3118567102818037,
           1.2687982259115675,
           1.2197939826392217,
           1.1671842246604827,
           1.1129913834464025,
           1.0587725090956541,
           1.0055397291260932,
           0.953754068807119,
           0.903387626571137,
           0.8540400724593853,
           0.8050890691357488,
           0.7558513114623259,
           0.7057316134607245,
           0.6543414016505911,
           0.6015741865744221,
           0.5476328950443327,
           0.4930111287285912,
           0.43843641183361,
           0.3847875632765676,
           0.3330001359189454,
           0.28397346407572654,
           0.23849063928787007,
           0.19715930192860653,
           0.160377189728314,
           0.12832258337249394,
           0.10096665646129213,
           0.07810259765350677,
           0.05938533851073459,
           0.044375712373125376,
           0.03258366874030305,
           0.023506480373497948,
           0.016659402178638507,
           0.01159770851114567,
           0.007930259422872163,
           0.005325623042011057,
           0.0035122872221930767,
           0.002274667051836061,
           0.0014465319126658785,
           0.00090322705780247,
           0.0005537362140044512,
           0.00033329290339914635,
           0.00019694638772789749,
           0.000114248860233562,
           6.506119335957598e-05,
           3.6370061905451386e-05,
           1.9957428520682377e-05,
           1.0749575354632879e-05,
           5.683198064331819e-06,
           2.949160786577116e-06,
           1.5020987396185307e-06,
           7.509029324631928e-07,
           3.684223648763063e-07,
           1.7740964680883402e-07,
           8.384367323067341e-08,
           3.888825603894387e-08,
           1.7701721957569264e-08,
           7.907799713615263e-09,
           3.4668379785559007e-09,
           1.4915719100442338e-09,
           6.297714969906096e-10,
           2.6094302058952226e-10,
           1.061031527062963e-10,
           4.2337688627815146e-11,
           1.6578256890697945e-11,
           6.370306439296526e-12,
           2.402086526533206e-12,
           8.888351062668386e-13,
           3.2274207037385023e-13,
           1.1499782315503688e-13,
           4.020882422302835e-14,
           1.379587124511526e-14,
           4.644847104426653e-15,
           1.5345711208441516e-15,
           4.975021583784918e-16,
           1.582685410057953e-16,
           4.940666732924738e-17,
           1.5134492458504546e-17,
           4.549272154873539e-18,
           1.341864360188036e-18,
           3.88391209469487e-19,
           1.1031290289084187e-19,
           3.074554623425841e-20,
           8.408931652632148e-21,
           2.2568720834103052e-21,
           5.944107641805572e-22,
           1.5363409607130665e-22
          ],
          [
           0.7407222581120565,
           0.8275350728819951,
           0.9185395710081442,
           1.0115773013639027,
           1.1040481973401446,
           1.1930394882603825,
           1.2755006893994438,
           1.3484523449172436,
           1.409210012722968,
           1.4556004303384247,
           1.4861449372236673,
           1.5001867915874774,
           1.4979442255603903,
           1.4804794990841692,
           1.4495847598454055,
           1.4075966147267227,
           1.3571611633517071,
           1.3009781526364297,
           1.2415556592763657,
           1.18100478628009,
           1.1208975858631491,
           1.0622018730059104,
           1.0052953968035958,
           0.9500508414658415,
           0.8959740621331868,
           0.8423721193066185,
           0.7885257253895479,
           0.7338426269434467,
           0.6779735592430733,
           0.6208796173345212,
           0.5628478677809636,
           0.5044594872327293,
           0.44652060858347964,
           0.3899697150907039,
           0.33577661824666044,
           0.2848469709440458,
           0.2379434117554006,
           0.1956305099563566,
           0.15824643518852846,
           0.12590038234628834,
           0.0984917397695917,
           0.07574507253194218,
           0.05725425205363619,
           0.0425293582238889,
           0.031041042316785686,
           0.022258542847288752,
           0.01567917546676366,
           0.010848613541622433,
           0.00737246553688037,
           0.004920457844607038,
           0.0032249465516035435,
           0.002075565973471543,
           0.0013116645299235538,
           0.000813876562089573,
           0.0004958188737078483,
           0.00029654950694580273,
           0.00017412591257833182,
           0.00010037034789823555,
           5.6794764000063814e-05,
           3.154700760769944e-05,
           1.7200546159865714e-05,
           9.205526763446855e-06,
           4.835778676365468e-06,
           2.49336223595256e-06,
           1.261816204946032e-06,
           6.267435051633831e-07,
           3.0553325923275764e-07,
           1.4618221207886113e-07,
           6.864216473058775e-08,
           3.1633069787934236e-08,
           1.4306704990072961e-08,
           6.3500952346699225e-09,
           2.766037170499794e-09,
           1.1824101228062935e-09,
           4.960279715950393e-10,
           2.0420575278093702e-10,
           8.249920025565877e-11,
           3.270754451979616e-11,
           1.2725045221323311e-11,
           4.8582620675785605e-12,
           1.8201619455885417e-12,
           6.691818314198235e-13,
           2.4142433926450416e-13,
           8.547100174247752e-14,
           2.969310811751518e-14,
           1.0122556463067426e-14,
           3.3862676659914358e-15,
           1.1115987249884524e-15,
           3.580716752004838e-16,
           1.131844950601598e-16,
           3.510744686482567e-17,
           1.0685815879007032e-17,
           3.191637929081994e-18,
           9.354467451657005e-19,
           2.690461954999285e-19,
           7.593477812159484e-20,
           2.1031272422791348e-20,
           5.716201197597203e-21,
           1.5246648254263121e-21,
           3.9909460748165286e-22
          ],
          [
           0.7417865702961125,
           0.8311869242696416,
           0.9264979120865986,
           1.0257714409046994,
           1.1265074673125546,
           1.2257544984529776,
           1.3202660268134703,
           1.4067046111512362,
           1.4818779662437547,
           1.5429850071541402,
           1.5878455531503346,
           1.6150864111760808,
           1.6242594835945805,
           1.6158744018164743,
           1.591338268869749,
           1.552807018078796,
           1.502964817819234,
           1.4447579014525231,
           1.3811154613242265,
           1.3146917062954309,
           1.2476595709970781,
           1.1815785053063046,
           1.1173476577943025,
           1.0552434802966966,
           0.9950293277189073,
           0.9361157624450501,
           0.8777452004517969,
           0.8191737380763175,
           0.7598262119708271,
           0.6994068810096066,
           0.6379562796599806,
           0.5758533353482397,
           0.5137694387222674,
           0.4525867944206734,
           0.39329649089738283,
           0.33689221336815767,
           0.28427370672551283,
           0.23617060361583994,
           0.19309285234782522,
           0.15530950100931346,
           0.12285368642806539,
           0.0955487985685287,
           0.07304915648224375,
           0.054888121748885216,
           0.040527186740406486,
           0.029400893206724166,
           0.020954110569547425,
           0.014669911162420179,
           0.010087774372329777,
           0.0068129822620125536,
           0.004518780261856463,
           0.0029431907371905756,
           0.001882359821433306,
           0.0011820887746139814,
           0.0007288513486007612,
           0.0004412139845420404,
           0.00026221809169617804,
           0.00015298970293950163,
           8.762586513645105e-05,
           4.926728158386214e-05,
           2.7191159438364835e-05,
           1.4730835303292512e-05,
           7.83332471082238e-06,
           4.088588639994961e-06,
           2.0945919690047538e-06,
           1.0532102705927288e-06,
           5.19770869151916e-07,
           2.5175734762153407e-07,
           1.196791440241503e-07,
           5.5835980652873055e-08,
           2.5566007479320567e-08,
           1.1488384172083849e-08,
           5.066369567328382e-09,
           2.1926618190756654e-09,
           9.312765622771715e-10,
           3.881625439183857e-10,
           1.587714966529727e-10,
           6.373114896801067e-11,
           2.510428660210105e-11,
           9.704158078027006e-12,
           3.681110678522185e-12,
           1.3702770713099178e-12,
           5.005461799782161e-13,
           1.7942550611693596e-13,
           6.3114157608806e-14,
           2.1785653964454156e-14,
           7.3792897288016e-15,
           2.45277652721773e-15,
           8.000194898813867e-16,
           2.5606043530289304e-16,
           8.042376365937366e-17,
           2.4787206262929848e-17,
           7.49676694170897e-18,
           2.2249818234846753e-18,
           6.480204474288309e-19,
           1.8521051721418586e-19,
           5.194736881231046e-20,
           1.4298496347009892e-20,
           3.862388761799857e-21,
           1.0239356564772734e-21
          ],
          [
           0.7394515687515236,
           0.8300906883702014,
           0.9282609677727536,
           1.0323171155034678,
           1.1399703860140726,
           1.2483528580508818,
           1.3541446849147079,
           1.4537609003152225,
           1.5435863421291194,
           1.6202393465648683,
           1.6808383997729954,
           1.723242252903263,
           1.746234175342713,
           1.7496255563377046,
           1.7342627416832868,
           1.7019327871788943,
           1.6551770235190544,
           1.5970338610503618,
           1.5307420152000777,
           1.4594406139072762,
           1.3859025241046925,
           1.3123317236337735,
           1.240245614582245,
           1.1704505410599066,
           1.103105562934258,
           1.0378578683136015,
           0.9740248146708057,
           0.9107935328167263,
           0.8474095662356526,
           0.7833306317828548,
           0.7183291496784562,
           0.6525362243904272,
           0.586428725388509,
           0.5207686814820445,
           0.4565094232805944,
           0.39468533897693525,
           0.3363018003171543,
           0.2822392355689767,
           0.23318121918808404,
           0.18957167190533109,
           0.15160163485656278,
           0.11922224433666594,
           0.09217789463384723,
           0.07005227725974568,
           0.052319933167123835,
           0.03839688599900265,
           0.027685482905445872,
           0.019610385648411943,
           0.013644409409458498,
           0.009324370698505054,
           0.006258154090689664,
           0.004124812008662823,
           0.002669718647621433,
           0.0016967000463787621,
           0.0010587658970633786,
           0.0006486779459609812,
           0.0003901875423474803,
           0.00023041728722963045,
           0.00013357888775782358,
           7.601978930359272e-05,
           4.246857508019491e-05,
           2.3288851095660017e-05,
           1.2535910846123985e-05,
           6.623387520851139e-06,
           3.4348728305390944e-06,
           1.7483883866263623e-06,
           8.734803210645071e-07,
           4.2830006256612665e-07,
           2.061177410458064e-07,
           9.735265445852274e-08,
           4.512725057107687e-08,
           2.052969692045244e-08,
           9.165858694317304e-09,
           4.016109181226962e-09,
           1.7269300957126437e-09,
           7.287463971897294e-10,
           3.017910544697527e-10,
           1.2264808582925281e-10,
           4.8914336025756095e-11,
           1.914385248198136e-11,
           7.352540361537039e-12,
           2.7711358172657606e-12,
           1.0249159262849899e-12,
           3.7198612483130746e-13,
           1.3248651378389529e-13,
           4.6304345644074336e-14,
           1.5880935282247594e-14,
           5.3448333397955895e-15,
           1.7652085566154698e-15,
           5.720871370168262e-16,
           1.8194235324494376e-16,
           5.678227466531663e-17,
           1.7390091186508554e-17,
           5.226425616376766e-18,
           1.541439454667237e-18,
           4.461422113742775e-19,
           1.2672239538630319e-19,
           3.532455895519169e-20,
           9.663979150281965e-21,
           2.5948159321080367e-21
          ],
          [
           0.7344781455100848,
           0.8250122805031153,
           0.9245202369698848,
           1.031739031059598,
           1.1446959381785564,
           1.2607308165117872,
           1.3765850079182393,
           1.4885587435620693,
           1.5927308553052628,
           1.6852257141629625,
           1.7625039890275187,
           1.821647534514216,
           1.8606058795049127,
           1.878373399085507,
           1.8750726333945833,
           1.851929841656595,
           1.8111423774097204,
           1.7556518167492772,
           1.688849640001468,
           1.614251477836521,
           1.5351798861620347,
           1.4544936203148584,
           1.3743937994490836,
           1.2963255231488584,
           1.2209794625282129,
           1.1483840326557344,
           1.0780671509464421,
           1.0092589529420795,
           0.9411040400810705,
           0.8728538682099566,
           0.8040159574184441,
           0.7344453510919257,
           0.6643735388330668,
           0.5943792809876688,
           0.5253131230017105,
           0.45819202664068803,
           0.39408217441433174,
           0.33398683687263,
           0.2787528434007337,
           0.22900451813774017,
           0.18510884871051494,
           0.14717096596370127,
           0.11505533560634464,
           0.08842573401845139,
           0.06679616229623979,
           0.04958517707551869,
           0.036167361371129914,
           0.02591743311634913,
           0.018244414053960663,
           0.012615048471919651,
           0.008567064692703014,
           0.005713816826354207,
           0.0037423302545546043,
           0.002406870315103715,
           0.001519965670338437,
           0.0009424607089505916,
           0.0005737475989263328,
           0.00034291627887415914,
           0.00020120920785302065,
           0.00011590025789398102,
           6.553649952829795e-05,
           3.637734099442348e-05,
           1.9820523380334193e-05,
           1.060044856977421e-05,
           5.564775736173484e-06,
           2.867315622462707e-06,
           1.4501020619185203e-06,
           7.197942202951022e-07,
           3.5066865290492096e-07,
           1.6767062862617318e-07,
           7.86831384590185e-08,
           3.6238036260860566e-08,
           1.637947794573621e-08,
           7.265783011895407e-09,
           3.163054759155199e-09,
           1.3513512502215037e-09,
           5.665819444474083e-10,
           2.331235793542568e-10,
           9.413151443423537e-11,
           3.7299754549015654e-11,
           1.4504275146367489e-11,
           5.534808363610914e-12,
           2.0726375699183207e-12,
           7.616517318604294e-13,
           2.746630513032563e-13,
           9.719717500471889e-14,
           3.3753277193059385e-14,
           1.1502360066619041e-14,
           3.846511690850994e-15,
           1.2622845615919243e-15,
           4.064989122421419e-16,
           1.284624152361018e-16,
           3.9839242850495755e-17,
           1.2124653202832208e-17,
           3.6212396261177055e-18,
           1.0614097782387953e-18,
           3.053212865007968e-19,
           8.619698625911848e-20,
           2.388382717890115e-20,
           6.495492149062218e-21
          ],
          [
           0.7276730186371635,
           0.8168316694018319,
           0.9161584665053708,
           1.0248338775261274,
           1.141292330124693,
           1.263199404909197,
           1.3874954374860629,
           1.5105128651300124,
           1.6281670078274613,
           1.7362107463726015,
           1.83053391229281,
           1.9074796509225918,
           1.9641441895383653,
           1.998624759718166,
           2.0101837657502717,
           1.9993057236606833,
           1.9676361436999037,
           1.917806649462722,
           1.8531658779274887,
           1.7774485729711826,
           1.694423574196822,
           1.6075636779752693,
           1.5197762278017455,
           1.433223525820609,
           1.349248468528185,
           1.2684055406011356,
           1.1905829560354422,
           1.115190514546407,
           1.041381162448644,
           0.9682729346558139,
           0.8951416086761591,
           0.8215619450762146,
           0.7474852354167177,
           0.6732512601330563,
           0.5995420433299762,
           0.5272917350574235,
           0.45757084934417397,
           0.39146381018505155,
           0.32995669244304177,
           0.2738479465794026,
           0.2236897119567998,
           0.17976200571615977,
           0.14207742611895408,
           0.11041058111145483,
           0.08434449987666197,
           0.06332578323519437,
           0.04672095544060932,
           0.033868020413282636,
           0.02411918350943125,
           0.016872695598035076,
           0.011593519220788565,
           0.007823830938703253,
           0.0051851963182290356,
           0.0033746129360773154,
           0.002156601681050303,
           0.0013532551493382308,
           0.000833742323628354,
           0.0005043207886525407,
           0.0002994930960844372,
           0.00017460439818774298,
           9.993019789255873e-05,
           5.6143239886109154e-05,
           3.0963094478323e-05,
           1.6761982375220207e-05,
           8.906957691779106e-06,
           4.645645315717961e-06,
           2.3782952374661092e-06,
           1.195032272111435e-06,
           5.893582685300615e-07,
           2.852708042914878e-07,
           1.3552091870940614e-07,
           6.318584391631177e-08,
           2.8912892565850693e-08,
           1.2984221018651364e-08,
           5.722523598803676e-09,
           2.4751513250258536e-09,
           1.0506399530961116e-09,
           4.3766312418206187e-10,
           1.7891887133999994e-10,
           7.177928296364196e-11,
           2.8259588844611495e-11,
           1.0918266108474118e-11,
           4.1396189213101786e-12,
           1.5402245744558243e-12,
           5.623715092331051e-13,
           2.0150100051782564e-13,
           7.085089250269334e-14,
           2.4447128324048644e-14,
           8.278004497606344e-15,
           2.7506821257299633e-15,
           8.969633133233464e-16,
           2.8703321495301255e-16,
           9.014004859626923e-17,
           2.7780372317411955e-17,
           8.402359945821791e-18,
           2.4941233538521214e-18,
           7.266095244834847e-19,
           2.077624018658963e-19,
           5.830898476251577e-20,
           1.606316280990303e-20
          ],
          [
           0.7198340248616134,
           0.8064824458311103,
           0.9041883057837176,
           1.0126141861278,
           1.130673085149892,
           1.2564601187713902,
           1.387246653956636,
           1.519549268955952,
           1.649279316781055,
           1.771969955429767,
           1.8830672132350357,
           1.9782613846796384,
           2.053826518002765,
           2.106930694427937,
           2.135879597350898,
           2.1402612194958257,
           2.12097020397569,
           2.080104995993456,
           2.020747568003448,
           1.9466513384047848,
           1.861875384779208,
           1.770410019754872,
           1.6758390564542558,
           1.5810776323982165,
           1.4882124586138312,
           1.398455923240116,
           1.312209224193224,
           1.2292152533180731,
           1.1487714502220276,
           1.069967608917915,
           0.9919139884041709,
           0.913930432315605,
           0.8356761811517684,
           0.757210873486299,
           0.6789880150369784,
           0.6017913267014905,
           0.5266307243977313,
           0.4546176937410523,
           0.3868395603115461,
           0.32424918036265715,
           0.26758177708329905,
           0.2173050468450213,
           0.17360322608724255,
           0.13639130809058533,
           0.10535250556042766,
           0.07999053336780006,
           0.059688223024273984,
           0.043765062955567084,
           0.031528067180088326,
           0.02231247746698672,
           0.015510829251636226,
           0.010590594949081393,
           0.007101817517177919,
           0.004676832377226814,
           0.0030244030579479084,
           0.0019204728132130534,
           0.0011973872583383753,
           0.0007329905990888851,
           0.00044053514044115484,
           0.0002599343731644305,
           0.00015056772268710213,
           8.561903150035656e-05,
           4.779311883762589e-05,
           2.6188128096776527e-05,
           1.4085617294703561e-05,
           7.436504202470855e-06,
           3.8536586249321995e-06,
           1.9601070772232294e-06,
           9.785428291386575e-07,
           4.79474291026069e-07,
           2.305838001303319e-07,
           1.0883367909371989e-07,
           5.041531169730484e-08,
           2.2920299120934188e-08,
           1.0226600375985044e-08,
           4.478065081072188e-09,
           1.924389479321901e-09,
           8.115863863710321e-10,
           3.359014561852863e-10,
           1.3643346746024087e-10,
           5.4382452710818974e-11,
           2.1272712487873487e-11,
           8.166029669607678e-12,
           3.076247717300302e-12,
           1.1372414877314348e-12,
           4.125764716819873e-13,
           1.4688469843590707e-13,
           5.1317994020198945e-14,
           1.759483968359552e-14,
           5.920057905778786e-15,
           1.954767883057638e-15,
           6.3342903898496e-16,
           2.0143771861245625e-16,
           6.286835099597804e-17,
           1.9256725627473826e-17,
           5.789022683661999e-18,
           1.70811477874053e-18,
           4.946958252361664e-19,
           1.406351395128399e-19,
           3.92477144869594e-20
          ],
          [
           0.7116986779107726,
           0.7948902659102214,
           0.889684353809914,
           0.9962393381117656,
           1.1139938040229134,
           1.2415552047946794,
           1.3766434598291197,
           1.5161061972612555,
           1.656017233247325,
           1.7918619169689898,
           1.9188027643770875,
           2.032007524544938,
           2.127011123738781,
           2.2000747121448274,
           2.248501088349506,
           2.2708673856261923,
           2.2671435066087207,
           2.238677760802943,
           2.1880478045023066,
           2.1187927969200655,
           2.035058782782634,
           1.941200977585586,
           1.8413918704688748,
           1.7392819951688583,
           1.637751270559209,
           1.5387745977401182,
           1.4434084023329619,
           1.3518878762726219,
           1.2638104738157356,
           1.178371773956135,
           1.0946161998689297,
           1.0116672901295394,
           0.9289092973510429,
           0.8461022124489095,
           0.7634239140637319,
           0.6814441025695911,
           0.601043432846888,
           0.5232968110702955,
           0.44934181726804223,
           0.3802519147509888,
           0.3169302395669919,
           0.2600343361583623,
           0.20993629627168647,
           0.16671732582327564,
           0.13019151512887364,
           0.09995090746132029,
           0.07542291410860351,
           0.0559315094597588,
           0.04075507889770211,
           0.02917583170700518,
           0.020517893528160608,
           0.014173205008861444,
           0.009615942875610262,
           0.006407241274301768,
           0.00419252882144896,
           0.002693891777995974,
           0.0016996488671191159,
           0.0010529101352812326,
           0.0006404074897753391,
           0.0003824160800480928,
           0.000224188676816781,
           0.00012902487837792933,
           7.289557541613012e-05,
           4.0428121009708486e-05,
           2.2009408022706732e-05,
           1.1761540820147549e-05,
           6.169366841919446e-06,
           3.1763452955992534e-06,
           1.6051531751256518e-06,
           7.961565864656594e-07,
           3.875840694415828e-07,
           1.8518743100486978e-07,
           8.684174429940586e-08,
           3.9967850737856015e-08,
           1.8053131270702838e-08,
           8.00292040094261e-09,
           3.4817199535816853e-09,
           1.4865658961049356e-09,
           6.228959784923863e-10,
           2.5614412790491043e-10,
           1.0336838467516852e-10,
           4.0937649835896676e-11,
           1.5910646947310135e-11,
           6.068494598006683e-12,
           2.2714403574519733e-12,
           8.343507240349454e-13,
           3.0076227132049447e-13,
           1.0639636431206193e-13,
           3.6936970373367306e-14,
           1.2584336087699237e-14,
           4.2076420496623505e-15,
           1.3806806284469584e-15,
           4.446334355650969e-16,
           1.4053232891454715e-16,
           4.3594247313414437e-17,
           1.3273267065594027e-17,
           3.966825128531711e-18,
           1.1637252642058586e-18,
           3.351439069903473e-19,
           9.475969850033409e-20
          ],
          [
           0.7038999909373883,
           0.7829150938410236,
           0.873714147651795,
           0.97693944174067,
           1.0925748802053226,
           1.219796723849661,
           1.3568687443227412,
           1.5011018150790403,
           1.6488946387547103,
           1.7958658449119174,
           1.937078302564875,
           2.0673450136783282,
           2.1815938320728927,
           2.2752573841711765,
           2.3446470001214004,
           2.387266988442243,
           2.4020293226250766,
           2.389338862943175,
           2.3510345566155757,
           2.29019051539275,
           2.2107995935843663,
           2.1173779986684718,
           2.0145398642418173,
           1.9065938325949565,
           1.7972090480247798,
           1.6891864433025081,
           1.584354882353238,
           1.4835934267874982,
           1.3869637410060083,
           1.293923088995169,
           1.2035803337280842,
           1.1149555785911438,
           1.0272082345220916,
           0.9398070729990188,
           0.8526273470356494,
           0.7659722331859781,
           0.6805267389779863,
           0.5972603698327184,
           0.5172994361886659,
           0.44179076545719,
           0.3717762251022758,
           0.3080927536353032,
           0.2513066419875015,
           0.20168471392405624,
           0.15919974572432533,
           0.12356356905376158,
           0.09427910015790501,
           0.07070199521293229,
           0.05210345944386443,
           0.03772750251340346,
           0.026838157819524894,
           0.01875443739838132,
           0.012872750863636274,
           0.008677981496355281,
           0.005745318620034427,
           0.0037353294044930032,
           0.002384719283373345,
           0.0014949125856377015,
           0.0009201173566516287,
           0.0005560323864676682,
           0.00032988955280981836,
           0.00019214640016655625,
           0.00010986922271985047,
           6.167171312896029e-05,
           3.3982023356244606e-05,
           1.8380349785943628e-05,
           9.758623331097549e-06,
           5.085613084862655e-06,
           2.60140833472022e-06,
           1.3060967561401094e-06,
           6.436289764837539e-07,
           3.1130180643646726e-07,
           1.4777687443631324e-07,
           6.884994533574034e-08,
           3.1482341618358625e-08,
           1.4128344363279452e-08,
           6.2225920602315835e-09,
           2.6896927892371454e-09,
           1.1409885130975618e-09,
           4.750108795470748e-10,
           1.9407361088721282e-10,
           7.781575792119416e-11,
           3.061997427027742e-11,
           1.1824342343312581e-11,
           4.481088027849276e-12,
           1.6665734463622463e-12,
           6.082765090602544e-13,
           2.1787900666274264e-13,
           7.658978605427438e-14,
           2.642240008606157e-14,
           8.945942848920116e-15,
           2.9726306203600715e-15,
           9.694550445646625e-16,
           3.103130905562101e-16,
           9.749344826497521e-17,
           3.006595411290228e-17,
           9.101751491000387e-18,
           2.7049386011472844e-18,
           7.892439711823184e-19,
           2.261172829473446e-19
          ],
          [
           0.6969327608536142,
           0.7713016552038866,
           0.8572735531407474,
           0.9559382555657162,
           1.0678165593222837,
           1.192680332020958,
           1.329404259269076,
           1.4758713499769316,
           1.628952934682524,
           1.7845793336599585,
           1.9379094456906156,
           2.08359665116611,
           2.2161357484648168,
           2.3302628806264565,
           2.4213696832212386,
           2.48588634190173,
           2.5215876144073217,
           2.5277820185271573,
           2.505357030949199,
           2.456670761343289,
           2.38530058947442,
           2.295678491968664,
           2.1926580337834047,
           2.0810666677654943,
           1.9652976221780176,
           1.8489882361559138,
           1.7348175210039125,
           1.62443749540239,
           1.518533585331558,
           1.4169922130453478,
           1.3191411716303667,
           1.22402205667057,
           1.1306542950057197,
           1.0382564385933546,
           0.9464007704779798,
           0.8550897946643,
           0.7647556689183698,
           0.6761942035002901,
           0.5904523732041488,
           0.5086917622595145,
           0.4320500673499657,
           0.36151938430906183,
           0.2978545347922906,
           0.24151832973297005,
           0.19266452267737222,
           0.15115414388946058,
           0.1165974546392761,
           0.08841209218379852,
           0.06588794858407591,
           0.0482505762915379,
           0.03471696187941473,
           0.024539868775241308,
           0.0170392059411077,
           0.01162074054906245,
           0.007783785678962678,
           0.005120231574639416,
           0.0033075182924173392,
           0.0020979917951754034,
           0.0013066867553934874,
           0.0007990697341483039,
           0.00047976045482392557,
           0.00028279611160500316,
           0.00016364987396435377,
           9.296863437235675e-05,
           5.1846824854680745e-05,
           2.8383126689646223e-05,
           1.525242906022085e-05,
           8.045401123366309e-06,
           4.165587765905265e-06,
           2.116973855515644e-06,
           1.055982489671871e-06,
           5.17001725915378e-07,
           2.48435676684069e-07,
           1.1716984120041149e-07,
           5.423646735384836e-08,
           2.4639672160071392e-08,
           1.0986042234671605e-08,
           4.807350304534628e-09,
           2.064544903006158e-09,
           8.701485420558875e-10,
           3.599233162610915e-10,
           1.4610723627602506e-10,
           5.8207230992340045e-11,
           2.2757506585198452e-11,
           8.732022107900476e-12,
           3.288124306522235e-12,
           1.2151413902084212e-12,
           4.4071090184025503e-13,
           1.5686782210583302e-13,
           5.479910875848119e-14,
           1.8788029233908794e-14,
           6.3221980187638175e-15,
           2.0880845853499144e-15,
           6.769221573598752e-16,
           2.1540796803626499e-16,
           6.728898332486634e-17,
           2.0635648197317494e-17,
           6.213325765366461e-18,
           1.8370051231448356e-18,
           5.333781298192104e-19
          ],
          [
           0.6911324314726612,
           0.7606415903578687,
           0.8412314071699682,
           0.9343811904013302,
           1.0411131929241855,
           1.1617908887347927,
           1.2959348461928668,
           1.4420790162535735,
           1.5976908777862642,
           1.7591764694249792,
           1.9219853818567774,
           2.080821300571451,
           2.2299513720509134,
           2.3635939320733605,
           2.476350996958667,
           2.5636416938828264,
           2.622087684880399,
           2.6498032016340094,
           2.6465511023532606,
           2.6137416520178265,
           2.5542705002508623,
           2.4722135891254853,
           2.3724160149949602,
           2.2600259525568496,
           2.1400312405289736,
           2.0168540771824635,
           1.8940489701214438,
           1.7741325389134344,
           1.6585539091904538,
           1.5477946158024911,
           1.4415702870080307,
           1.339095277154556,
           1.2393670867252051,
           1.1414298482731255,
           1.0445842454464198,
           0.9485230588961617,
           0.8533848170525604,
           0.7597305548732988,
           0.6684586588342458,
           0.5806790729631144,
           0.49757037990965125,
           0.4202417708244878,
           0.34961752963972065,
           0.2863555392229314,
           0.23080469223549008,
           0.18300003613445562,
           0.14268978264908197,
           0.10938538398977705,
           0.08242477617744577,
           0.0610393738656441,
           0.04441703840264026,
           0.031755521563149224,
           0.022303325797588838,
           0.015387130750015979,
           0.010426664682389168,
           0.006939039202885382,
           0.004535127297340516,
           0.0029106428273854685,
           0.001834312512107692,
           0.0011350647782648493,
           0.00068962142237718,
           0.0004113629702567166,
           0.0002409057059643908,
           0.0001385035318345306,
           7.817216073055558e-05,
           4.331193828695511e-05,
           2.3556734075680162e-05,
           1.2576596468188102e-05,
           6.590846993196431e-06,
           3.3903117491463437e-06,
           1.711785378813169e-06,
           8.483243158648138e-07,
           4.126384961767393e-07,
           1.9699976505847666e-07,
           9.23088472235073e-08,
           4.245185746378494e-08,
           1.9161102565550586e-08,
           8.488090153084359e-09,
           3.690294462190356e-09,
           1.5745994422236885e-09,
           6.593778370699655e-10,
           2.7098898705246396e-10,
           1.0930011834426062e-10,
           4.326541250518276e-11,
           1.680787542039126e-11,
           6.408231922237028e-12,
           2.3978391765784825e-12,
           8.805679297516753e-13,
           3.173752371470851e-13,
           1.1226880832786257e-13,
           3.897913465299048e-14,
           1.3283314070433311e-14,
           4.443238863493676e-15,
           1.4589284892624891e-15,
           4.70258668685948e-16,
           1.4881324526330775e-16,
           4.623695105027619e-17,
           1.410682093564164e-17,
           4.226893230610218e-18,
           1.2440486850664805e-18
          ],
          [
           0.6866674133130983,
           0.751349577332353,
           0.8262872063718696,
           0.9132737020435765,
           1.0137733247814111,
           1.1287074551716643,
           1.2582439874150881,
           1.4016121046961891,
           1.556967128484414,
           1.721329919182773,
           1.8906216435944476,
           2.059807227497235,
           2.223149712892643,
           2.3745640281560916,
           2.5080440874074243,
           2.6181239448450047,
           2.7003244046847,
           2.75153318857003,
           2.770270843941385,
           2.7568061876128684,
           2.7131029819217094,
           2.642601223369849,
           2.549858498791683,
           2.4400956938217906,
           2.3187037445957968,
           2.1907720247275515,
           2.060693786745269,
           1.9318908735930826,
           1.8066811028729268,
           1.6862905973290807,
           1.5709933982441313,
           1.4603450204925925,
           1.353467291997321,
           1.2493397148332934,
           1.1470572589165784,
           1.0460244554719758,
           0.9460687178768925,
           0.8474695789251951,
           0.7509128035891495,
           0.6573874702023126,
           0.5680492064091938,
           0.48407369210890705,
           0.40652184841910927,
           0.3362328435473559,
           0.27375441561104974,
           0.21931327492358804,
           0.17282252496043213,
           0.13391881145335544,
           0.10201956610682332,
           0.07639019300211979,
           0.05621201954844213,
           0.04064381182681449,
           0.02887210873893128,
           0.020148089618257342,
           0.013810804952512344,
           0.009298165039310437,
           0.006148032444009448,
           0.0039921480614869866,
           0.0025455555853240905,
           0.0015938239367311712,
           0.0009798473728914684,
           0.0005914489074072638,
           0.0003505086838947503,
           0.0002039325598413597,
           0.00011648376450271653,
           6.531624902719342e-05,
           3.595349595628181e-05,
           1.9427328308109975e-05,
           1.0304478274089493e-05,
           5.364999081468061e-06,
           2.741792152300371e-06,
           1.3753457440288878e-06,
           6.771637049701925e-07,
           3.2724460468428365e-07,
           1.5521783354327863e-07,
           7.22594983755989e-08,
           3.3016194435111896e-08,
           1.4805839149587359e-08,
           6.516416797714729e-09,
           2.8148229339604043e-09,
           1.1933203746041696e-09,
           4.965065316775247e-10,
           2.027467626764625e-10,
           8.125387989859172e-11,
           3.195927124850747e-11,
           1.2337153137092427e-11,
           4.674150931678077e-12,
           1.7380667538965894e-12,
           6.343290619892973e-13,
           2.2722616963176344e-13,
           7.989359567504545e-14,
           2.7573603487357006e-14,
           9.341692353173713e-15,
           3.1069620323404213e-15,
           1.0145160217168413e-15,
           3.252641688041039e-16,
           1.0240439314433569e-16,
           3.1664105562595093e-17,
           9.617355750795525e-18,
           2.8699335382212718e-18
          ],
          [
           0.6835444763814016,
           0.743654313976976,
           0.8129442660956799,
           0.8934341872600019,
           0.986951407487348,
           1.0949149591439116,
           1.2181089958027262,
           1.3564659151111391,
           1.5088836732248172,
           1.6731036355965136,
           1.8456740593112608,
           2.0220192128763026,
           2.196624987080158,
           2.3633391311159127,
           2.515769272352856,
           2.6477466962517484,
           2.7538109952443786,
           2.829662693178837,
           2.872529865795864,
           2.8814016503883377,
           2.8570960508044063,
           2.8021498261578475,
           2.7205415019454002,
           2.617280942634958,
           2.4979167428239504,
           2.368022921152854,
           2.2327273565206522,
           2.0963360668858178,
           1.9620914148804545,
           1.832081536759294,
           1.7072963242302432,
           1.5878057176294957,
           1.473021798789178,
           1.3619989678499573,
           1.2537267667256866,
           1.147376807451286,
           1.0424769247011496,
           0.9389996996322388,
           0.8373664304717245,
           0.7383793448390644,
           0.6431029090821326,
           0.5527188409710602,
           0.46837900736153526,
           0.3910765566124467,
           0.3215495687662099,
           0.2602245189971924,
           0.2072001575970548,
           0.16226694982282217,
           0.12495354941644035,
           0.09459006391736437,
           0.0703779318003629,
           0.051457657573393954,
           0.036967912112954415,
           0.02609207109460338,
           0.018090690021015068,
           0.012320393052013533,
           0.008241029006540477,
           0.005413701184106262,
           0.0034924876371331924,
           0.002212472222738282,
           0.001376258823653481,
           0.0008405833900645939,
           0.0005040814973720259,
           0.0002967853332969589,
           0.00017154960293363285,
           9.734816132592784e-05,
           5.423040430780932e-05,
           2.9656666414856816e-05,
           1.592042047703594e-05,
           8.389356522196347e-06,
           4.339450338242782e-06,
           2.203248969112509e-06,
           1.0980112491760837e-06,
           5.371018773223458e-07,
           2.578732154602172e-07,
           1.2152040534498048e-07,
           5.620565723906902e-08,
           2.5514900059333257e-08,
           1.1368068293782669e-08,
           4.97113090294752e-09,
           2.1335218758028438e-09,
           8.986922831539038e-10,
           3.7153238579381425e-10,
           1.5074922471016044e-10,
           6.003281182466955e-11,
           2.3463975130123216e-11,
           9.001189092385081e-12,
           3.3891592346708557e-12,
           1.252532490942494e-12,
           4.5436551839155094e-13,
           1.6179285766930043e-13,
           5.6555367959903445e-14,
           1.940784033922323e-14,
           6.538895562227444e-15,
           2.1632069824055545e-15,
           7.027649264865993e-16,
           2.242348168969598e-16,
           7.02833171834818e-17,
           2.164450402226126e-17,
           6.5508255971175725e-18
          ],
          [
           0.6816256812407624,
           0.7376038614281071,
           0.8014992436923359,
           0.8754639626232199,
           0.9615955908086113,
           1.0617288309858728,
           1.177203786469877,
           1.3086286319781926,
           1.455659638216144,
           1.6168251530448443,
           1.7894212211794542,
           1.9695040422406818,
           2.151997792090964,
           2.3309254532695443,
           2.499756014136265,
           2.651845353986313,
           2.7809326898071234,
           2.881642333147633,
           2.9499342578674557,
           2.9834484641168695,
           2.9816979894736924,
           2.946082822098841,
           2.879719592572494,
           2.7871063052813327,
           2.673663545131023,
           2.545209839301706,
           2.4074364372539088,
           2.2654445041342144,
           2.1233961754249173,
           1.9843122861076663,
           1.8500272068754453,
           1.721288902469207,
           1.5979736177137323,
           1.479372148182563,
           1.3644998252325922,
           1.2523850921709765,
           1.1423005752955655,
           1.0339136908164466,
           0.9273485144680835,
           0.823164409329989,
           0.7222677914674891,
           0.6257801985304917,
           0.5348881390322618,
           0.45069843317760333,
           0.37411788000220886,
           0.30576938966091055,
           0.24594954509183098,
           0.1946260676638587,
           0.15146868579948988,
           0.11590386799209097,
           0.08718281400276781,
           0.06445271797164144,
           0.04682314389167139,
           0.03342183284106176,
           0.023436873287468234,
           0.016144503377389298,
           0.010923620086298007,
           0.007259238961429324,
           0.0047377011625788015,
           0.0030364693349559085,
           0.0019110413198404742,
           0.0011809969414320067,
           0.0007166127957597098,
           0.000426932047597547,
           0.0002497205227260346,
           0.00014340201286837902,
           8.084390620107577e-05,
           4.4742164657801526e-05,
           2.43081565053835e-05,
           1.2964059607069977e-05,
           6.786932241518247e-06,
           3.487706220294394e-06,
           1.759265454120955e-06,
           8.710437173462204e-07,
           4.233098907563548e-07,
           2.0192046456729268e-07,
           9.453662374604614e-08,
           4.344230648205028e-08,
           1.959362470438253e-08,
           8.673669221377288e-09,
           3.768557688187684e-09,
           1.6070558336627254e-09,
           6.726216030260045e-10,
           2.7631011120840016e-10,
           1.1140705222164324e-10,
           4.408840519179919e-11,
           1.7125377654480833e-11,
           6.529367063397493e-12,
           2.443608507680453e-12,
           8.977186451577517e-13,
           3.237577275038161e-13,
           1.1463049941148109e-13,
           3.9848864613928947e-14,
           1.3602257545075268e-14,
           4.559721018127422e-15,
           1.501280422202491e-15,
           4.855775760303835e-16,
           1.543194531910284e-16,
           4.820113118522268e-17,
           1.480120613892753e-17
          ],
          [
           0.6806543884892878,
           0.7330836009438285,
           0.7920473992356836,
           0.8597352160821279,
           0.938414317090369,
           1.0302373903046744,
           1.1370160601691328,
           1.2599747790186273,
           1.399505409789435,
           1.5549478616141852,
           1.7244252852738855,
           1.9047624338145104,
           2.0915118901638805,
           2.2791044757088,
           2.4611275282086553,
           2.6307190047365814,
           2.781048523055749,
           2.9058411394998975,
           2.9998887199585855,
           3.059489688163106,
           3.082762296428251,
           3.0697895369894295,
           3.022573988861728,
           2.944805412115558,
           2.84146890481361,
           2.7183427975776167,
           2.5814495800969426,
           2.4365276896836834,
           2.288586319180249,
           2.141590716585613,
           1.9983044946121131,
           1.860291954266879,
           1.728061283488774,
           1.6013121329853093,
           1.4792408120065028,
           1.360854088803619,
           1.2452477975327443,
           1.1318174440241748,
           1.020382329458821,
           0.9112197139504795,
           0.805018822537167,
           0.7027742826776979,
           0.6056439323820686,
           0.5147967642909722,
           0.43127371676406523,
           0.3558782334591132,
           0.2891063592951305,
           0.23111895480535016,
           0.18175247356451912,
           0.14056035965421768,
           0.10687476600757802,
           0.07987787371994293,
           0.05867323013892547,
           0.04234968744805304,
           0.030033149889716813,
           0.020923932269162615,
           0.014319733555948568,
           0.009625833333301808,
           0.006355069495716942,
           0.004120512021975053,
           0.002623640563041283,
           0.0016404223548791578,
           0.0010071249333418728,
           0.0006071100303304918,
           0.0003593268102674031,
           0.00020880133081911575,
           0.00011911952592345741,
           6.671516456602911e-05,
           3.668132908383663e-05,
           1.9798509239828114e-05,
           1.0490008811004497e-05,
           5.455883513603041e-06,
           2.7854222063954584e-06,
           1.3958713537050452e-06,
           6.866267994042168e-07,
           3.315206280474401e-07,
           1.5711193425878737e-07,
           7.3082251666162e-08,
           3.336684308960815e-08,
           1.495258271472086e-08,
           6.576788447050422e-09,
           2.8392795155135983e-09,
           1.2030970919553743e-09,
           5.003742022104112e-10,
           2.0426616041214004e-10,
           8.184898235209009e-11,
           3.2192631708253483e-11,
           1.24291229180159e-11,
           4.710682953045257e-12,
           1.7527103062668474e-12,
           6.402485113039789e-13,
           2.296335784078497e-13,
           8.087512766742867e-14,
           2.797315078510553e-14,
           9.503422139532811e-15,
           3.1718274279376314e-15,
           1.0402171434005895e-15,
           3.353011530694094e-16,
           1.0626109368408132e-16,
           3.3120398267368863e-17
          ],
          [
           0.6802872724619445,
           0.7298440675216358,
           0.7845016139762564,
           0.8463961604430896,
           0.9178626005271745,
           1.0012648735680632,
           1.0987840240922142,
           1.212174622744805,
           1.342506410247631,
           1.4899140121291434,
           1.6533823823907376,
           1.8305980807437805,
           2.0178954013925865,
           2.2103208770483715,
           2.40182949562691,
           2.5856116362798964,
           2.754532742788749,
           2.901650442134674,
           3.0207590575677616,
           3.1069021652917206,
           3.156792335785898,
           3.169084671545565,
           3.1444668464198915,
           3.085551071676587,
           2.9965793830127274,
           2.88297868620319,
           2.7508219386091897,
           2.60626332554882,
           2.4550164573690045,
           2.3019354649000485,
           2.150741234461914,
           2.0039121464573326,
           1.8627345553831998,
           1.727486821585284,
           1.5977151573673893,
           1.472551783781978,
           1.3510263141797858,
           1.2323288828638932,
           1.115996251264564,
           1.00200730563427,
           0.8907893223135631,
           0.7831488521291892,
           0.6801495372752082,
           0.5829629758892323,
           0.49271809225795105,
           0.4103702279128464,
           0.3366046276513413,
           0.2717815694119547,
           0.21592336426500083,
           0.16873780349798947,
           0.12966891182816465,
           0.0979642167041189,
           0.072747947122893,
           0.05309117481471145,
           0.03807233958271564,
           0.026824302295231205,
           0.018566585848574724,
           0.01262348759746337,
           0.008430127360425812,
           0.005529224094327127,
           0.0035615637418917297,
           0.00225287863945547,
           0.0013993680669341657,
           0.0008534967743577904,
           0.0005111261727894316,
           0.0003005334877302154,
           0.00017349214819681636,
           9.832727573113037e-05,
           5.4709364876392176e-05,
           2.988341435226196e-05,
           1.60238953142769e-05,
           8.434605982810547e-06,
           4.358236387628884e-06,
           2.210535427628881e-06,
           1.1005690449715928e-06,
           5.378530257830612e-07,
           2.580066322765529e-07,
           1.2148273787454794e-07,
           5.614504297058287e-08,
           2.546944104816477e-08,
           1.1340651820704538e-08,
           4.956422743833032e-09,
           2.1262454675719644e-09,
           8.953202658656342e-10,
           3.7005917884416696e-10,
           1.5014211473131056e-10,
           5.979802943901317e-11,
           2.337991214428789e-11,
           8.974168881967466e-12,
           3.381977005517555e-12,
           1.2514367347068046e-12,
           4.54730594277857e-13,
           1.6227872249258336e-13,
           5.68850126016796e-14,
           1.959040130368767e-14,
           6.629702488207339e-15,
           2.205281408983439e-15,
           7.212530129059638e-16,
           2.320181155052605e-16,
           7.344265104877935e-17
          ],
          [
           0.6801290078319892,
           0.7275352847942168,
           0.7786221340294488,
           0.8353911587769064,
           0.9001470603296973,
           0.9753559567545441,
           1.0634556923939786,
           1.1666250016297124,
           1.286524450784006,
           1.4240285289959131,
           1.5789742458628069,
           1.7499559906949467,
           1.9341979509228082,
           2.12753291939096,
           2.3245090962250576,
           2.5186344733171144,
           2.702752462245686,
           2.869524443058639,
           3.0119775232509176,
           3.1240620551483156,
           3.20115624672815,
           3.240456593131697,
           3.2412035800068866,
           3.20471122512619,
           3.1341939473709317,
           3.0344111437899057,
           2.911174317105638,
           2.770779521161093,
           2.619436286085509,
           2.462761763776554,
           2.305396260169328,
           2.150776032163295,
           2.001074908368304,
           1.857302117263166,
           1.719523528876186,
           1.5871601905010848,
           1.4593129885864458,
           1.3350653840259032,
           1.2137259862004481,
           1.0949868645171918,
           0.9789891643204315,
           0.8663021549797391,
           0.7578332173314729,
           0.6546932321989135,
           0.5580440259613307,
           0.46895244223621024,
           0.38827031664183437,
           0.31655252453390853,
           0.25401776764961526,
           0.20055007192262878,
           0.1557339236460923,
           0.11891298016891093,
           0.08926135045959353,
           0.06585722598825387,
           0.04775063448117234,
           0.03401970552458726,
           0.023812542957881093,
           0.016374183691930715,
           0.011059934344022157,
           0.0073375214651131325,
           0.0047810021169767064,
           0.003059378494612613,
           0.001922502760681502,
           0.0011863077512923046,
           0.0007187926260484664,
           0.0004276286044927711,
           0.00024978677461061317,
           0.00014325039447175256,
           8.065501693602667e-05,
           4.458233855261612e-05,
           2.4192352361909227e-05,
           1.2887425408041473e-05,
           6.7393365802151575e-06,
           3.4595708566592805e-06,
           1.7433062541437315e-06,
           8.62312969485132e-07,
           4.186879838112904e-07,
           1.995474896281415e-07,
           9.33532539611035e-08,
           4.2868554406320436e-08,
           1.932301563318167e-08,
           8.549488791650063e-09,
           3.7131230867205825e-09,
           1.5829965066493796e-09,
           6.624796959881957e-10,
           2.721645068059132e-10,
           1.0976790515339333e-10,
           4.346384069843102e-11,
           1.6897391996804428e-11,
           6.4504115751948134e-12,
           2.4181168351413013e-12,
           8.903184030782895e-13,
           3.2200281653184304e-13,
           1.1442006168557527e-13,
           3.9954976281939856e-14,
           1.3714568575253044e-14,
           4.628850004050465e-15,
           1.536752197397833e-15,
           5.020643248753564e-16,
           1.6149195870087135e-16
          ],
          [
           0.6797664015984336,
           0.7257439810115487,
           0.7740533451883793,
           0.8264924743654346,
           0.8852472092374226,
           0.952780668829512,
           1.031671588136741,
           1.1244047718319659,
           1.2331224912639511,
           1.3593521104921502,
           1.5037318692241417,
           1.6657625892114851,
           1.8436168615508601,
           2.034037704144158,
           2.232354652123433,
           2.4326361928785527,
           2.6279836363587146,
           2.8109541677203516,
           2.974082179494772,
           3.1104509512475897,
           3.2142544933439923,
           3.2812846598650838,
           3.309283190840693,
           3.2981123596493656,
           3.2497198238711418,
           3.167899958772719,
           3.0578811682875044,
           2.925791908368408,
           2.7780735121337026,
           2.620912849689962,
           2.459761744427004,
           2.2989942404010395,
           2.141730279310528,
           1.9898291336741607,
           1.8440322989477997,
           1.7042171241051014,
           1.56971169894088,
           1.4396193199068625,
           1.3131065907851824,
           1.1896210002132404,
           1.0690190150869108,
           0.9516014965474711,
           0.8380670581490852,
           0.729404016169307,
           0.6267468996622984,
           0.5312240707478313,
           0.443819591267797,
           0.3652663031562275,
           0.295979618420512,
           0.23603412273287613,
           0.1851788820351654,
           0.14288299281799338,
           0.10840068342785707,
           0.08084501860782788,
           0.05926056629587354,
           0.04268769194312292,
           0.03021387004610023,
           0.021010045822699212,
           0.01435228578792892,
           0.009630531894212034,
           0.006347177518791076,
           0.0041084866936844785,
           0.0026117210532367436,
           0.0016303874082863586,
           0.0009994284463703206,
           0.0006015742589334514,
           0.000355537156392061,
           0.0002063108834256372,
           0.0001175399050803042,
           6.574467953888426e-05,
           3.610233471944078e-05,
           1.946246836059235e-05,
           1.030002491356844e-05,
           5.351152568021789e-06,
           2.729086521765449e-06,
           1.366286196973853e-06,
           6.714525328973901e-07,
           3.239175963330907e-07,
           1.5339009362281382e-07,
           7.13022795529099e-08,
           3.253529189470485e-08,
           1.4573217296731888e-08,
           6.407854460897936e-09,
           2.7659006517520115e-09,
           1.1720370701651954e-09,
           4.875796406962662e-10,
           1.991467272667379e-10,
           7.986462595720314e-11,
           3.1450474524990365e-11,
           1.2162924836339298e-11,
           4.620021291705029e-12,
           1.7239090010383375e-12,
           6.320225923999293e-13,
           2.2771870119425253e-13,
           8.065500126562566e-14,
           2.8091195024317495e-14,
           9.624509266576339e-15,
           3.2452252673257696e-15,
           1.0774170613633108e-15,
           3.524009622212102e-16
          ],
          [
           0.678799170250227,
           0.7240302130681228,
           0.7703636562362571,
           0.8193396155320102,
           0.8729493166356694,
           0.9335569111921898,
           1.0037695533403126,
           1.0862556483720054,
           1.1835161412205286,
           1.297619798498911,
           1.4299202326422826,
           1.5807791363397556,
           1.7493257153796942,
           1.9332852892947154,
           2.1289091503004927,
           2.3310320381361214,
           2.533272664586627,
           2.728377192884149,
           2.9086870687064628,
           3.066693670904937,
           3.1956260480854253,
           3.290007709485104,
           3.346116590291355,
           3.3622902005178164,
           3.3390351980312016,
           3.2789250259019886,
           3.1862971578602095,
           3.066788390466962,
           2.9267680087031147,
           2.7727409442115056,
           2.6107942815237895,
           2.446150691411854,
           2.28287358389469,
           2.123744485367403,
           1.9703076327403284,
           1.8230542399098806,
           1.6817026745084604,
           1.5455228432589347,
           1.4136537758680983,
           1.28537158390977,
           1.1602784072509709,
           1.0383988288486894,
           0.9201857169140841,
           0.8064501995299164,
           0.6982389542924967,
           0.5966856045826001,
           0.5028620371748773,
           0.4176508596264303,
           0.34165336886990333,
           0.2751397749067167,
           0.21804132464508044,
           0.16997836389559015,
           0.13031478810185612,
           0.09822786071629999,
           0.0727827643962456,
           0.053003004673850995,
           0.03793032180707614,
           0.02667052094106393,
           0.018424150788187557,
           0.012502950368929948,
           0.008334308364826858,
           0.00545664588348581,
           0.003508744387430767,
           0.0022157513852323423,
           0.0013740730342891915,
           0.0008367514746233867,
           0.0005003356145564791,
           0.00029375601925385984,
           0.0001693387497154842,
           9.584190679870448e-05,
           5.325627636813016e-05,
           2.905296872892822e-05,
           1.555980212766153e-05,
           8.180922685308733e-06,
           4.2225753239679244e-06,
           2.1395533861248843e-06,
           1.0642281478820095e-06,
           5.19648004134529e-07,
           2.490838876133862e-07,
           1.1720468576872177e-07,
           5.413908254324948e-08,
           2.4549908604767424e-08,
           1.0928782813171142e-08,
           4.776287317688876e-09,
           2.04938844921009e-09,
           8.63370637514035e-10,
           3.5714114008353897e-10,
           1.450742260144224e-10,
           5.787562076446606e-11,
           2.2678483513234676e-11,
           8.730030269645735e-12,
           3.3020669738232715e-12,
           1.2275132137170843e-12,
           4.485982385073528e-13,
           1.6122132028742106e-13,
           5.700160380094512e-14,
           1.983549849463044e-14,
           6.796871529722016e-15,
           2.294721896873472e-15,
           7.63794217262754e-16
          ],
          [
           0.6768652400208963,
           0.7219604176799388,
           0.7670847631697715,
           0.8134820370222601,
           0.8628884647181622,
           0.9174865513525474,
           0.9798085791167127,
           1.0525869451372485,
           1.1385526276676492,
           1.2401884886303682,
           1.3594506277924419,
           1.4974780500110436,
           1.6543175628672175,
           1.8286958356974696,
           2.0178725164615496,
           2.2176059311750116,
           2.4222553440929615,
           2.6250309752220558,
           2.8183859023861886,
           2.9945246209744645,
           3.145984262936555,
           3.266229583402459,
           3.350194912937925,
           3.394707576503857,
           3.398738567697904,
           3.3634465187621636,
           3.2920074457326214,
           3.189251266247516,
           3.0611519962789338,
           2.9142374758793044,
           2.754993302324387,
           2.589333043440615,
           2.4221935173959137,
           2.257292584267537,
           2.0970614220477066,
           1.9427380623123978,
           1.7945880727263004,
           1.6522046406317241,
           1.5148353544906752,
           1.3816864955198243,
           1.252166038401289,
           1.1260412738627403,
           1.003503093280114,
           0.885143789667935,
           0.7718666314944829,
           0.6647522436177133,
           0.5649087185628465,
           0.4733299483968838,
           0.3907810709766609,
           0.3177226142676864,
           0.2542773447822999,
           0.20023718410636987,
           0.15510266021304167,
           0.11814457027333625,
           0.08847679983907182,
           0.06513020781309592,
           0.047119604469472005,
           0.033498529386623156,
           0.023399247136551476,
           0.016057723655272152,
           0.010825091427868215,
           0.007168179949490999,
           0.004662127359588307,
           0.002978028127458457,
           0.0018681738055633167,
           0.0011508705463105127,
           0.0006962023526442291,
           0.00041354749056811624,
           0.0002412009803438704,
           0.00013812779637782088,
           7.766361195809961e-05,
           4.2872248761371384e-05,
           2.323519590395369e-05,
           1.2362849233374852e-05,
           6.457811103242182e-06,
           3.311621584491293e-06,
           1.6671727093427096e-06,
           8.239539804226253e-07,
           3.997680087354368e-07,
           1.904139140400207e-07,
           8.903909352771094e-08,
           4.087554119410201e-08,
           1.8423004027354284e-08,
           8.152479799950857e-09,
           3.5422176061305025e-09,
           1.5112889990550991e-09,
           6.332060248768156e-10,
           2.6056468917733035e-10,
           1.0532168821929655e-10,
           4.182378398708116e-11,
           1.631993830354724e-11,
           6.259028728790726e-12,
           2.3599983935412037e-12,
           8.751405236357018e-13,
           3.1928191694595415e-13,
           1.146558769875922e-13,
           4.0547657005619827e-14,
           1.4129650406035913e-14,
           4.8547513653548454e-15,
           1.6457623446527741e-15
          ],
          [
           0.6736592791888111,
           0.7191346621873157,
           0.7637471281510378,
           0.8084212068492197,
           0.8545942308381584,
           0.9042003418926265,
           0.9596072566952555,
           1.0235008069203342,
           1.0987155164573006,
           1.1880140425109023,
           1.2938241802398676,
           1.4179490051212569,
           1.561272916116304,
           1.723492772589451,
           1.9029076270134397,
           2.0963013053448507,
           2.298948068795779,
           2.504762173838161,
           2.7065975894209466,
           2.896685758279496,
           3.0671794687312555,
           3.210752757196371,
           3.3211936516784184,
           3.3939214249302454,
           3.4263646766964513,
           3.4181511989197717,
           3.3710835368460637,
           3.2889021048987206,
           3.176866191331369,
           3.0412074512139973,
           2.8885264600018608,
           2.7252079717102666,
           2.556924075907955,
           2.3882779322646823,
           2.22261736743856,
           2.062021577637724,
           1.9074399048507023,
           1.7589429042643383,
           1.6160351608895889,
           1.477977394582986,
           1.3440715707230664,
           1.2138749948535787,
           1.0873249496501203,
           0.9647714048332391,
           0.8469291368366371,
           0.7347704285817526,
           0.6293845134657672,
           0.5318301443340951,
           0.4430039291976275,
           0.3635406879055088,
           0.293754532910674,
           0.23362204450614119,
           0.1828028657835331,
           0.14068892779675699,
           0.10647153005038373,
           0.07921546413202181,
           0.05793083284368485,
           0.0416356080001762,
           0.02940470869041466,
           0.020403983186703025,
           0.01390960599074956,
           0.009314885279458422,
           0.006127290599583807,
           0.003958739953004935,
           0.002511975888281292,
           0.001565377972161601,
           0.000957956863137331,
           0.0005756726510674854,
           0.00033969572829593,
           0.00019682180968031562,
           0.00011197229608286223,
           6.254455227215177e-05,
           3.430038325496566e-05,
           1.8468424288564284e-05,
           9.762808127844532e-06,
           5.066736726818227e-06,
           2.5815907420496146e-06,
           1.2913713058794549e-06,
           6.341930598052532e-07,
           3.0577608222937436e-07,
           1.4474577190935605e-07,
           6.727310932435488e-08,
           3.0699280368610275e-08,
           1.3755919821161416e-08,
           6.052800533824239e-09,
           2.6155740628179245e-09,
           1.1101197119574028e-09,
           4.628328281763101e-10,
           1.8958438823673018e-10,
           7.631199517232192e-11,
           3.019257275690162e-11,
           1.1744909621098734e-11,
           4.493543552331375e-12,
           1.691569832559352e-12,
           6.26831540869612e-13,
           2.2876896541212645e-13,
           8.227748989146203e-14,
           2.9179626817961416e-14,
           1.0211529565461548e-14,
           3.5287854422053493e-15
          ],
          [
           0.6689440449952481,
           0.715206772932212,
           0.7599093391323868,
           0.8036486822459152,
           0.847535732662088,
           0.8932067571882696,
           0.9427917187215132,
           0.9988331519755598,
           1.0641514476436458,
           1.1416560601160715,
           1.2341071567344883,
           1.3438385252288194,
           1.4724597220079827,
           1.6205626443737746,
           1.787463734609759,
           1.971016426773899,
           2.167527798088336,
           2.3718076075686887,
           2.577366619411145,
           2.776764926040513,
           2.962091616143801,
           3.125537273725663,
           3.2600037562062556,
           3.359684818164135,
           3.4205490835075114,
           3.440664957026306,
           3.4203248755552575,
           3.361951541667689,
           3.2697976281706684,
           3.1494781937744896,
           3.007397052731265,
           2.8501409064710175,
           2.683916193866698,
           2.5140934549542906,
           2.34490465643577,
           2.1793140575863257,
           2.0190572230679646,
           1.8648200117528653,
           1.7165131696899731,
           1.5735904563659653,
           1.4353593039173786,
           1.3012415984231365,
           1.1709559236841904,
           1.0446086214550403,
           0.9226964407615627,
           0.8060360474215148,
           0.695643766358615,
           0.5925921186908674,
           0.497868363253991,
           0.41225539563829605,
           0.33624840577867515,
           0.2700131223726054,
           0.21338456076909054,
           0.16589985463380288,
           0.12685546117126287,
           0.09537782848628182,
           0.0704972054267765,
           0.051216149606919455,
           0.036566860746830535,
           0.025654184713530512,
           0.017683568719535983,
           0.011975128818284464,
           0.007966205988592627,
           0.005205358696213115,
           0.003340780507188194,
           0.0021057987877898476,
           0.0013035680108099232,
           0.0007924595799496544,
           0.00047307293098489454,
           0.0002773126449703095,
           0.00015961984433446062,
           9.021250106804362e-05,
           5.006084258537688e-05,
           2.7275465042830483e-05,
           1.4590893142607902e-05,
           7.66342186217313e-06,
           3.951779692932962e-06,
           2.000749447865448e-06,
           9.945503834401747e-07,
           4.854034340754635e-07,
           2.3261252994199154e-07,
           1.0945482427999812e-07,
           5.057449905910844e-08,
           2.29484600350314e-08,
           1.022679377708576e-08,
           4.47649342779992e-09,
           1.924903223899157e-09,
           8.132531443292843e-10,
           3.376583289193653e-10,
           1.3780687572005847e-10,
           5.530102172431065e-11,
           2.1828009091684125e-11,
           8.477905110172727e-12,
           3.241587746291059e-12,
           1.2208171184007193e-12,
           4.531299894437508e-13,
           1.6586502771589288e-13,
           5.991660228949381e-14,
           2.137533891852842e-14,
           7.536465390239882e-15
          ],
          [
           0.6625549352463755,
           0.7098969564983207,
           0.7551799980988193,
           0.798677752334851,
           0.8411624844162937,
           0.8839402036815168,
           0.9288478114377599,
           0.9782048001010313,
           1.034713708176052,
           1.1013062280042019,
           1.180935875879945,
           1.2763235696737378,
           1.3896691379158825,
           1.522349143921921,
           1.674628469040805,
           1.8454185291293033,
           2.0321172990284784,
           2.2305641157806044,
           2.4351346248568957,
           2.638988147142771,
           2.834462158260072,
           3.0135885695220748,
           3.1686870623965384,
           3.2929752752284602,
           3.381127382912785,
           3.4297138421852207,
           3.437466574690532,
           3.4053345529009182,
           3.3363217604223614,
           3.2351285837773,
           3.1076440482497727,
           2.9603554949984696,
           2.7997511296501356,
           2.631788066430058,
           2.4614848811973675,
           2.2926760076169725,
           2.1279395938654893,
           1.968685167542874,
           1.8153666961628403,
           1.6677732977387587,
           1.5253452957992262,
           1.3874672213550119,
           1.2537000366569928,
           1.1239296715713742,
           0.9984249757581705,
           0.8778126886287088,
           0.7629879760087283,
           0.6549853543138927,
           0.5548362505551965,
           0.46343667749016487,
           0.38144274631100555,
           0.30920445639278477,
           0.24674081452786556,
           0.19375299653531755,
           0.14966771693338446,
           0.1137005169250289,
           0.08492821842936889,
           0.062360931175879215,
           0.045006190490187684,
           0.031920465155090415,
           0.02224590115523378,
           0.0152323900890979,
           0.0102466644497667,
           0.006771070781375653,
           0.00439501768815313,
           0.0028019728065868804,
           0.0017544536073438408,
           0.001078877089079594,
           0.0006515295264087172,
           0.0003863763844235772,
           0.00022500176820899637,
           0.00012866100426413055,
           7.224080940085256e-05,
           3.982761293832606e-05,
           2.1559853176765793e-05,
           1.1459448578736114e-05,
           5.980501635226056e-06,
           3.064576467395211e-06,
           1.5419459728769522e-06,
           7.61807261376723e-07,
           3.6958556016811624e-07,
           1.7607661161105705e-07,
           8.238255378686749e-08,
           3.785771321483142e-08,
           1.7088649032313975e-08,
           7.578020008780352e-09,
           3.3019658919949425e-09,
           1.4139963349205e-09,
           5.952386824539564e-10,
           2.463940232336443e-10,
           1.0032691678686258e-10,
           4.020040703844293e-11,
           1.5858915652482883e-11,
           6.1628082567997626e-12,
           2.360506030477761e-12,
           8.917366345152389e-13,
           3.3248842502528634e-13,
           1.224447431183809e-13,
           4.45701185654399e-14,
           1.604690479292341e-14
          ],
          [
           0.6543987826878652,
           0.7029973822085813,
           0.7492317874539591,
           0.7930672653389923,
           0.8349385109222811,
           0.8758048512227072,
           0.9171726646510021,
           0.9610771650437784,
           1.0100167118473424,
           1.066834661237523,
           1.1345467839717092,
           1.2161166863269681,
           1.314187518348447,
           1.4307852471243847,
           1.5670162068146016,
           1.7227883901637446,
           1.8965905878990226,
           2.085364500066325,
           2.284501064788519,
           2.4879828065006677,
           2.688679252304448,
           2.8787837623513797,
           3.0503598978210147,
           3.1959469102986917,
           3.3091605174639565,
           3.38521981923604,
           3.4213358494820585,
           3.4169120228334515,
           3.373529910643458,
           3.2947219535010075,
           3.185561359861238,
           3.0521237615649666,
           2.900891099679205,
           2.7381731172948114,
           2.569615181168932,
           2.3998444778265866,
           2.2322831955021454,
           2.069131392204166,
           1.91149828378988,
           1.7596423836083954,
           1.6132706735896931,
           1.4718455332950602,
           1.3348546539489965,
           1.2020115294611853,
           1.073369549577488,
           0.9493483132058171,
           0.8306840392540793,
           0.7183251681085555,
           0.6132986591206799,
           0.5165722559560793,
           0.4289339984979213,
           0.3509038381464924,
           0.28268483010518225,
           0.22415436209906864,
           0.17489023236955425,
           0.13422267918724426,
           0.10130182533852068,
           0.07517021040378266,
           0.054831677471021016,
           0.0393102893214321,
           0.02769561648285222,
           0.01917321290366233,
           0.01304107188729375,
           0.008714192347330306,
           0.005720078580051235,
           0.0036881396796374123,
           0.002335695497383757,
           0.0014527961078425286,
           0.0008874657608142055,
           0.0005324006845670833,
           0.0003136532429392207,
           0.00018145618987065835,
           0.00010308461509677101,
           5.75053062081463e-05,
           3.149987555713892e-05,
           1.694316954673596e-05,
           8.948845485580134e-06,
           4.641214108122743e-06,
           2.363735273079011e-06,
           1.1821825561597988e-06,
           5.8064532758744e-07,
           2.80096485137019e-07,
           1.3271289697702402e-07,
           6.176977749161664e-08,
           2.8246009688760457e-08,
           1.2692029590822643e-08,
           5.605171880315697e-09,
           2.433550052865755e-09,
           1.039000668763134e-09,
           4.3638499126674397e-10,
           1.8037741678233435e-10,
           7.3410835572121e-11,
           2.9433307954691904e-11,
           1.1632722489479961e-11,
           4.5349659372823995e-12,
           1.745112048602196e-12,
           6.633559539625896e-13,
           2.492650122843708e-13,
           9.26553929573763e-14,
           3.409165236154456e-14
          ],
          [
           0.6444483524028779,
           0.6943718656253293,
           0.7418082618907056,
           0.7864373241897431,
           0.828368305793922,
           0.8682114178993239,
           0.9071217006886724,
           0.9468073819009729,
           0.989495395169902,
           1.037847895588278,
           1.0948257008879525,
           1.163497931266911,
           1.246801927848113,
           1.3472637533161769,
           1.4666968005758845,
           1.6059034053675443,
           1.7644106259772856,
           1.940275017699119,
           2.1299908085001418,
           2.328530255706549,
           2.529533735245719,
           2.725650896502933,
           2.9090147415233405,
           3.071810490533018,
           3.206883924595864,
           3.3083229124003717,
           3.3719437002535204,
           3.3956215932422698,
           3.3794234203506464,
           3.3255243334398172,
           3.237920180381111,
           3.12197421246533,
           2.983858599466125,
           2.8299634937768956,
           2.666347297320821,
           2.4982915211306387,
           2.3300043723503108,
           2.1644926454442905,
           2.00359603799559,
           1.8481558919997791,
           1.698274862482811,
           1.5536169455051851,
           1.4136988130087524,
           1.2781321687994014,
           1.1467904643359015,
           1.0198889134084712,
           0.8979815335189056,
           0.7818907003048295,
           0.6725920752603404,
           0.5710803552376496,
           0.4782395496096171,
           0.39473649614991724,
           0.3209494824905812,
           0.25693657405053294,
           0.202441768715857,
           0.15693223251519073,
           0.11965701145076842,
           0.08971674776828358,
           0.06613472654819366,
           0.047921527273143666,
           0.034128086019461365,
           0.023884570755510117,
           0.01642474299615871,
           0.011097187865811048,
           0.007365857429180652,
           0.004802827357596675,
           0.003076133200767826,
           0.0019351849710056602,
           0.0011957128495151351,
           0.0007256033255523613,
           0.00043243753081208036,
           0.00025309637834811013,
           0.0001454710560420963,
           8.210851238732627e-05,
           4.551105937761618e-05,
           2.477210400001e-05,
           1.3241290601337677e-05,
           6.950697212483584e-06,
           3.5832065525955886e-06,
           1.8141871279135957e-06,
           9.021693957919993e-07,
           4.406845867302135e-07,
           2.1147055665267703e-07,
           9.970456845529164e-08,
           4.6195371916920994e-08,
           2.1037390798457597e-08,
           9.419026412434548e-09,
           4.147373351897313e-09,
           1.7965918731992312e-09,
           7.659796592199927e-10,
           3.215781905344914e-10,
           1.330135276630159e-10,
           5.4238870049860695e-11,
           2.181831616179798e-11,
           8.664364782433093e-12,
           3.3991999768300853e-12,
           1.318437834026241e-12,
           5.059277733721037e-13,
           1.9219163279789673e-13,
           7.231362478032938e-14
          ],
          [
           0.6327341673126191,
           0.6839512153181279,
           0.7327246058523069,
           0.7784774758696253,
           0.8210143505571905,
           0.8606054606938862,
           0.8980482963893698,
           0.9346986988988161,
           0.9724640972881811,
           1.0137521623068833,
           1.061369473977895,
           1.1183671434095046,
           1.1878340178364735,
           1.272643287872559,
           1.375164860778531,
           1.4969632090598657,
           1.6385075561611104,
           1.7989268601673363,
           1.975844568674862,
           2.1653261364625136,
           2.3619649025544276,
           2.5591190267791686,
           2.7492947674737604,
           2.9246515277331886,
           3.0775847875240068,
           3.2013276818371477,
           3.2905037690428958,
           3.34156472207851,
           3.353058012863129,
           3.3256900509877267,
           3.262176801075548,
           3.166902434737226,
           3.0454323256798497,
           2.903945317285588,
           2.7486585996522837,
           2.5853155320877796,
           2.418793235965072,
           2.2528655170064553,
           2.0901316518190525,
           1.9320971892110634,
           1.7793731087245026,
           1.6319472204548995,
           1.4894777898731226,
           1.351563620702284,
           1.2179554721845587,
           1.088688114496436,
           0.9641276607191359,
           0.8449424619345602,
           0.7320159150279228,
           0.6263250242476763,
           0.5288094179356876,
           0.4402524638537223,
           0.36119037127068093,
           0.2918581404521879,
           0.23217426807775643,
           0.1817602990167908,
           0.1399872826330795,
           0.10603916852901848,
           0.07898301466826393,
           0.057837171123321575,
           0.0416308049387902,
           0.029450696042717817,
           0.020473695176362657,
           0.013985266009217939,
           0.009385963921419785,
           0.006188502442112576,
           0.004008298881904332,
           0.002550208728478155,
           0.001593710111420385,
           0.000978230454906557,
           0.0005897322554134373,
           0.0003491703598761357,
           0.00020303879742952565,
           0.00011595084995674863,
           6.503096089595726e-05,
           3.581956508467738e-05,
           1.937679761074114e-05,
           1.0294819734079695e-05,
           5.372182912913144e-06,
           2.7536343553630968e-06,
           1.3865084961305997e-06,
           6.858793221519966e-07,
           3.3338228062426487e-07,
           1.5925105081058205e-07,
           7.477550882110279e-08,
           3.4521160857224626e-08,
           1.5674508734908223e-08,
           7.002336791451619e-09,
           3.079052558593804e-09,
           1.333303175285142e-09,
           5.68878750044758e-10,
           2.393086386801852e-10,
           9.932035128185049e-11,
           4.0697837868331023e-11,
           1.6477051882480885e-11,
           6.596028122810978e-12,
           2.612661541443858e-12,
           1.0245916454137007e-12,
           3.9801950691713305e-13,
           1.5321345650518748e-13
          ],
          [
           0.6193352009294422,
           0.6717259499760816,
           0.7218640172071326,
           0.7689487321745334,
           0.8125068954671266,
           0.8524869186711431,
           0.8893346126451337,
           0.924043224540268,
           0.9581705362876803,
           0.9938162060431786,
           1.0335532920581545,
           1.0803093914966018,
           1.1371954385579282,
           1.207284241713058,
           1.293346385500856,
           1.397557915597743,
           1.5212015712464144,
           1.6643900998200696,
           1.8258449409043513,
           2.002764774953825,
           2.1908148109601773,
           2.38425856206777,
           2.576239473946355,
           2.759201473084752,
           2.9254176919397823,
           3.0675784618363835,
           3.179376520901668,
           3.2560221840026116,
           3.294625749199871,
           3.2943988070899035,
           3.2566486653894295,
           3.184567440514783,
           3.0828450676055423,
           2.957158882795429,
           2.81360758502713,
           2.6581618421153683,
           2.496197103142806,
           2.33215788768402,
           2.1693801697421806,
           2.01007363868787,
           1.8554428678262636,
           1.7059092924614359,
           1.5613866049160396,
           1.4215613219817278,
           1.286136945838547,
           1.155012224689539,
           1.0283787907516921,
           0.9067381234122448,
           0.7908500164853979,
           0.6816329723724106,
           0.5800405820736655,
           0.486937231397977,
           0.40299232491923187,
           0.32860595201390386,
           0.2638719340961065,
           0.2085777226420086,
           0.1622355564630583,
           0.12413610757839863,
           0.09341461458480323,
           0.0691199608991002,
           0.05027883593951061,
           0.03594947408715013,
           0.02526198409352415,
           0.01744455395709581,
           0.011836583600349131,
           0.007890949783457201,
           0.0051681596547385675,
           0.0033252024151380235,
           0.0021016078107087034,
           0.0013047174328325928,
           0.0007956023358785886,
           0.0004765164120003192,
           0.0002803195313528174,
           0.00016196392820353464,
           9.191220872940606e-05,
           5.122994585978898e-05,
           2.8046733259368828e-05,
           1.508228878454125e-05,
           7.967201466388723e-06,
           4.134608370815831e-06,
           2.108145033967672e-06,
           1.056244557861151e-06,
           5.201177808163193e-07,
           2.5177043742962404e-07,
           1.1983562636805382e-07,
           5.610222074610781e-08,
           2.584321738829836e-08,
           1.1718501716541163e-08,
           5.233252317319769e-09,
           2.302976147081178e-09,
           9.99303326513664e-10,
           4.278502855650725e-10,
           1.8087888237017021e-10,
           7.556309039953508e-11,
           3.1216095298732715e-11,
           1.2761375384123786e-11,
           5.165760938536824e-12,
           2.0715938825898485e-12,
           8.232967415671995e-13,
           3.24308688689435e-13
          ],
          [
           0.6043696821671941,
           0.6577379718750197,
           0.7091715003435043,
           0.7576811760530909,
           0.8025474330474277,
           0.8434216807514114,
           0.8804133636699789,
           0.914155501907979,
           0.9458418447511876,
           0.9772290366602161,
           1.0105976094189861,
           1.0486664645764683,
           1.094457185008078,
           1.1511074063350843,
           1.2216368549488934,
           1.3086755178404383,
           1.4141703604086553,
           1.5390942158197063,
           1.683186690079408,
           1.8447606666301917,
           2.020607776547279,
           2.206030911415168,
           2.3950210984831437,
           2.5805804264974217,
           2.755173899323049,
           2.9112737676938965,
           3.0419433012680486,
           3.1413963680906827,
           3.2054671540198285,
           3.2319321298340737,
           3.2206434774297312,
           3.173457340488177,
           3.093967723213077,
           2.9870830872629455,
           2.858503252404863,
           2.7141656426614826,
           2.5597304747368335,
           2.4001644155130446,
           2.2394637128995587,
           2.0805344165814734,
           1.9252232830174323,
           1.7744723217455314,
           1.6285557501684165,
           1.487352002032222,
           1.3506054115546746,
           1.2181408936943114,
           1.0900080096138045,
           0.9665454795067089,
           0.8483708610294979,
           0.7363107172988734,
           0.6312929713066932,
           0.5342250136672052,
           0.44587902480081204,
           0.36680097678341395,
           0.2972532456483698,
           0.23719402580511248,
           0.18629088739483993,
           0.14396157211982039,
           0.109432784885893,
           0.08180723496073349,
           0.06013016258606046,
           0.04344855390177099,
           0.030858665758904835,
           0.02153988454069037,
           0.014774987054692067,
           0.009958362816449549,
           0.006594640578183102,
           0.004290490925665281,
           0.00274227187449538,
           0.001721793768280319,
           0.0010619465655419488,
           0.0006433738047486933,
           0.0003828742966261854,
           0.0002238098499942468,
           0.00012850971400844586,
           7.248304913082806e-05,
           4.0160386783967486e-05,
           2.185978126149684e-05,
           1.1690026515706006e-05,
           6.14261807327458e-06,
           3.17190082028858e-06,
           1.6098624380606371e-06,
           8.032554046955519e-07,
           3.9411871723836914e-07,
           1.902149029753557e-07,
           9.033726680000513e-08,
           4.2235984288219726e-08,
           1.9449520955051143e-08,
           8.826582372604888e-09,
           3.950104196230414e-09,
           1.7444415104506082e-09,
           7.607712784728648e-10,
           3.2789021902745774e-10,
           1.3976628979091324e-10,
           5.896300274520449e-11,
           2.4633537971724443e-11,
           1.0196633866052575e-11,
           4.1832425306240815e-12,
           1.7012108215501874e-12,
           6.85754655550247e-13
          ],
          [
           0.5879868248493816,
           0.6420724451095441,
           0.6946466941378756,
           0.7445690063536093,
           0.7909077061655924,
           0.8330466968185714,
           0.8707813636594153,
           0.9043967019175807,
           0.9347210877868783,
           0.9631494444418222,
           0.9916298453310415,
           1.0226080442481873,
           1.0589253696385215,
           1.1036672911437886,
           1.1599631458540447,
           1.2307422103943813,
           1.3184574171727603,
           1.4247950147796076,
           1.5503953941178188,
           1.6946158068288129,
           1.85536828327257,
           2.0290643324943707,
           2.2106910739599006,
           2.394031219735538,
           2.5720227406953327,
           2.737235122046729,
           2.88242070683698,
           3.001085006881703,
           3.0880120686575547,
           3.139682157002558,
           3.1545298391050736,
           3.133009930828127,
           3.077463928405269,
           2.9918064693644935,
           2.8810755372481522,
           2.75090744295434,
           2.6070052177745393,
           2.4546658864856306,
           2.29841909094113,
           2.141809387753651,
           1.9873310716694823,
           1.8365017366446104,
           1.6900426496277692,
           1.548122906048843,
           1.4106212854432127,
           1.277364227233345,
           1.1483086491094592,
           1.0236519204942263,
           0.9038654704965913,
           0.7896608629059174,
           0.6819060149340561,
           0.5815137555128544,
           0.4893251660083842,
           0.4060068764528618,
           0.3319758985728034,
           0.2673590061938715,
           0.21198735581061143,
           0.16542190858921307,
           0.1270018097909579,
           0.09590634403383179,
           0.07122122408971605,
           0.05200137330987214,
           0.03732451344879648,
           0.026332267216587938,
           0.018257716382970992,
           0.012440145237809532,
           0.00832891338579257,
           0.005479034212094087,
           0.0035411689440175914,
           0.0022485136997907234,
           0.00140260382245945,
           0.0008595172417309247,
           0.0005174271913116108,
           0.00030599894798161175,
           0.00017777645674318265,
           0.00010146758146497691,
           5.6898770096384336e-05,
           3.134979423342533e-05,
           1.697337009253597e-05,
           9.03154025818909e-06,
           4.723786957223951e-06,
           2.4291027634507208e-06,
           1.2284047688222383e-06,
           6.111013397481787e-07,
           2.991734115415486e-07,
           1.4419846319110052e-07,
           6.846136035657984e-08,
           3.203516213155468e-08,
           1.4783682672667559e-08,
           6.733104011402229e-09,
           3.0286287426307804e-09,
           1.346493864050573e-09,
           5.921277135655495e-10,
           2.577410668972341e-10,
           1.1111571454686859e-10,
           4.746807163482138e-11,
           2.010024322885532e-11,
           8.437847812280217e-12,
           3.511255116400796e-12,
           1.448030050852757e-12
          ],
          [
           0.5703598116545711,
           0.6248506511172783,
           0.6783369788439709,
           0.7295646785039019,
           0.7774261661503172,
           0.821070554843292,
           0.8600064504393072,
           0.8941903317338962,
           0.9240940678764362,
           0.9507456468435642,
           0.9757375502010758,
           1.001197496657478,
           1.0297167502204732,
           1.0642322440670946,
           1.1078608515920085,
           1.163687603633844,
           1.2345146411895827,
           1.3225839838007334,
           1.4292941256712113,
           1.5549369550723342,
           1.6984861268115974,
           1.8574693216330447,
           2.027953558057342,
           2.204664226609101,
           2.3812450259625084,
           2.550648777048642,
           2.7056304577038324,
           2.8392967292955285,
           2.9456539072445826,
           3.020091500847283,
           3.0597427681859353,
           3.0636772893210296,
           3.032901705381994,
           2.970170310422602,
           2.8796329389385322,
           2.76636920671206,
           2.6358719743910477,
           2.4935466895880185,
           2.3442866767345203,
           2.1921690406159597,
           2.040294714136912,
           1.8907732471955052,
           1.7448321687521613,
           1.6030153959268023,
           1.4654271721912069,
           1.331977837277924,
           1.202594387448496,
           1.0773702370881757,
           0.956642258471974,
           0.8409964785958487,
           0.731214641867333,
           0.6281808665500905,
           0.532770368321149,
           0.44574103492829176,
           0.3676444450027919,
           0.29876698363958276,
           0.2391053091409821,
           0.18837467083588144,
           0.146044230069677,
           0.11139096307944703,
           0.08356292378275805,
           0.06164333034992268,
           0.04470865655295535,
           0.03187615044633311,
           0.02233850801541451,
           0.015385447699754048,
           0.010413451749653621,
           0.006925886126368502,
           0.00452611522929978,
           0.002906195937647466,
           0.0018334050995319838,
           0.0011363640646026866,
           0.0006919898682814433,
           0.0004140090899012899,
           0.00024336633044472875,
           0.00014056367916752863,
           7.977734027271847e-05,
           4.449625898867268e-05,
           2.439284282536617e-05,
           1.3145275707453592e-05,
           6.965255945059746e-06,
           3.629754419493494e-06,
           1.8609149195959138e-06,
           9.389608513907799e-07,
           4.6647807323362373e-07,
           2.282963176446798e-07,
           1.1012908955284523e-07,
           5.239878441394681e-08,
           2.460719807953169e-08,
           1.1414296660378389e-08,
           5.233772196488219e-09,
           2.3740326312073258e-09,
           1.0660335107358599e-09,
           4.74169853433204e-10,
           2.0901868266884562e-10,
           9.133989431469265e-11,
           3.957420676657974e-11,
           1.6998223181267323e-11,
           7.236211128214044e-12,
           3.0516495014259713e-12
          ],
          [
           0.551679917883908,
           0.6062240741499672,
           0.66033158691964,
           0.7126733736409337,
           0.7620035634829668,
           0.8072714950216251,
           0.8477297821297904,
           0.8830311308337289,
           0.9133073630452645,
           0.9392248756466332,
           0.9620113445624563,
           0.9834488326218241,
           1.0058287229077651,
           1.0318643988194003,
           1.0645587680749078,
           1.1070260296949566,
           1.1622708301213025,
           1.2329331916007051,
           1.3210139757134585,
           1.4276023769962567,
           1.5526328365802333,
           1.6947023919796598,
           1.850979424267566,
           2.0172299648781102,
           2.1879778017167477,
           2.3568001379061094,
           2.5167430995095432,
           2.6608234599527867,
           2.782567589219124,
           2.8765288718028716,
           2.9387230386064163,
           2.966928152392071,
           2.9608118847205547,
           2.9218710678222384,
           2.85319379277029,
           2.7590783440389037,
           2.6445619208814706,
           2.5149222606404114,
           2.3752153974237182,
           2.229903189091249,
           2.0826070169636552,
           1.9360025756537018,
           1.7918488445497383,
           1.6511258409618308,
           1.5142433407526281,
           1.3812777960082145,
           1.2521970860834186,
           1.1270411318358127,
           1.006038546870027,
           0.8896528295346273,
           0.7785637384091589,
           0.6735986528268163,
           0.5756339199683701,
           0.4854872963712779,
           0.40382018440773754,
           0.33106350252563477,
           0.26737497247931463,
           0.21262956093789726,
           0.16643972776252386,
           0.1281985983087239,
           0.09713739905089937,
           0.07238835011050188,
           0.053045337296960406,
           0.03821661547509102,
           0.02706604136906241,
           0.018841488428503788,
           0.012890872805702702,
           0.008667468095873477,
           0.005726880473641589,
           0.0037182602171276623,
           0.0023721592529721974,
           0.001487044385450757,
           0.0009159699180704163,
           0.000554402447474205,
           0.0003297421742843172,
           0.0001927341583918486,
           0.00011071828222864233,
           6.251901859162221e-05,
           3.470636365384333e-05,
           1.8945275124530958e-05,
           1.0171842196568972e-05,
           5.373303311848211e-06,
           2.79375971794749e-06,
           1.4303248009223143e-06,
           7.214410022099565e-07,
           3.58708048625771e-07,
           1.7592953034860832e-07,
           8.51731157687363e-08,
           4.073428441388902e-08,
           1.925960553955588e-08,
           9.009380716273805e-09,
           4.172641127180496e-09,
           1.914534788684922e-09,
           8.706833171071688e-10,
           3.9258681911574696e-10,
           1.755244767585951e-10,
           7.780790405574957e-11,
           3.418721575970337e-11,
           1.4881597561027834e-11,
           6.413715724223469e-12
          ],
          [
           0.532151331553705,
           0.5863695005551306,
           0.6407568875500136,
           0.6939484678208713,
           0.74459888598048,
           0.7914945619607836,
           0.8336655261134152,
           0.870489216023619,
           0.9017793348704012,
           0.9278538920850045,
           0.9495774355488114,
           0.9683730732018889,
           0.9862001826869783,
           1.005493932720866,
           1.0290632721954864,
           1.0599453551102263,
           1.1012168999082241,
           1.1557669893240246,
           1.2260412414640505,
           1.3137736492611014,
           1.41972878300272,
           1.543482215240369,
           1.6832695333596805,
           1.8359328495656886,
           1.9969874523025601,
           2.1608200809822153,
           2.321015126317852,
           2.470787727688332,
           2.603485906071526,
           2.7131105433934177,
           2.794794980145264,
           2.845187191999972,
           2.8626875052679868,
           2.8475125811211526,
           2.801579353229134,
           2.728227036240536,
           2.6318171088812763,
           2.517266598204802,
           2.3895764986847468,
           2.2534138761714093,
           2.1127940805226255,
           1.9708910475465453,
           1.8299824434130056,
           1.6915161820231206,
           1.5562689211953755,
           1.4245577257795166,
           1.2964639876840283,
           1.1720333341748914,
           1.051424943946075,
           0.934996083295004,
           0.8233203052274437,
           0.7171485001529312,
           0.6173293992121545,
           0.5247095811979304,
           0.44003267945625846,
           0.36385409821975245,
           0.2964822619344306,
           0.23795146171935377,
           0.18802581612480965,
           0.1462295172310083,
           0.11189580770532022,
           0.08422609144446994,
           0.06235099515177523,
           0.045386665194000315,
           0.032481629424562536,
           0.022851731532236286,
           0.015802605197891492,
           0.010740674144335294,
           0.007174648719872837,
           0.004709954654172832,
           0.0030385637746191793,
           0.0019264258313964428,
           0.001200256716012711,
           0.0007349356368210957,
           0.00044228703146562484,
           0.00026162416220570217,
           0.00015213309636190371,
           8.697848928081483e-05,
           4.8902549662267654e-05,
           2.7045411416807228e-05,
           1.4717486793127136e-05,
           7.883416982354613e-06,
           4.158422212370914e-06,
           2.1612233205108084e-06,
           1.1073453971313653e-06,
           5.597119822230416e-07,
           2.7929043204132535e-07,
           1.376856158750877e-07,
           6.71122536089186e-08,
           3.236904371923981e-08,
           1.5459091010085448e-08,
           7.3153241101002496e-09,
           3.4315297135424996e-09,
           1.5961694811011334e-09,
           7.362953500256591e-10,
           3.3679031061577694e-10,
           1.5270920659517488e-10,
           6.860465428112237e-11,
           3.051726867243072e-11,
           1.3431274869986661e-11
          ],
          [
           0.5119860650315795,
           0.5654845785740863,
           0.6197725237092097,
           0.6734880844729991,
           0.7252262586617931,
           0.7736490875218502,
           0.8175996541186584,
           0.8562115359691272,
           0.8890062245161918,
           0.9159722209770345,
           0.9376207295759229,
           0.955013812079842,
           0.9697614131276227,
           0.9839838890691266,
           1.000236855080157,
           1.0213957426436864,
           1.0504989232006494,
           1.0905510135917331,
           1.1442922159493927,
           1.2139450847447522,
           1.30095635548767,
           1.405757398788139,
           1.5275711711873172,
           1.6642948388928676,
           1.8124843970727373,
           1.9674599889511606,
           2.123538459622919,
           2.2743841368760664,
           2.4134520051489052,
           2.5344820568348827,
           2.6319925608522703,
           2.701715751340908,
           2.740923476214678,
           2.7486026942314465,
           2.725459830762402,
           2.6737559719828785,
           2.5969979013591726,
           2.49952913686501,
           2.386077152024547,
           2.2613159279477757,
           2.1294966654047793,
           1.9941853798069966,
           1.8581270578785631,
           1.7232356481805142,
           1.590690943426779,
           1.4611102382584478,
           1.334756169932912,
           1.2117426481354177,
           1.0922072573952213,
           0.9764290504271688,
           0.864882882001248,
           0.7582330599390507,
           0.6572782840630657,
           0.5628655035542086,
           0.4757921463465414,
           0.39671456906972385,
           0.3260764555731082,
           0.2640654151556989,
           0.21060035092314655,
           0.16534723122943765,
           0.12775732432692624,
           0.09712000849717448,
           0.07262188345189563,
           0.053404782338487604,
           0.03861698620622311,
           0.02745401812651548,
           0.0191874438322083,
           0.013181840179699181,
           0.00890134977643273,
           0.005907976159125885,
           0.003854036974207219,
           0.0024710873937395773,
           0.001557279687777388,
           0.0009646597440522553,
           0.0005874169553518498,
           0.000351669097438017,
           0.0002070165111982979,
           0.00011985218339685241,
           6.826002538064931e-05,
           3.8256114876939796e-05,
           2.1106266850115034e-05,
           1.1468077674343224e-05,
           6.13992324693834e-06,
           3.2410466911532283e-06,
           1.6878956412662215e-06,
           8.678782693342097e-07,
           4.409199524861219e-07,
           2.2150941760432334e-07,
           1.1012715006223308e-07,
           5.42227388056721e-08,
           2.6456099742319502e-08,
           1.2797884067443532e-08,
           6.139752455543208e-09,
           2.9215046433563485e-09,
           1.3786498854543984e-09,
           6.449871410821466e-10,
           2.990030078563488e-10,
           1.3725905372008398e-10,
           6.234700562773914e-11,
           2.7998952619421884e-11
          ],
          [
           0.49139837891803395,
           0.5437831330524512,
           0.5975677378104112,
           0.6514323029089609,
           0.7039528005552534,
           0.7537070590941252,
           0.7993890105928823,
           0.8399223570866504,
           0.874565431973465,
           0.9030002704001909,
           0.9254003768440904,
           0.9424730143210036,
           0.9554727744355828,
           0.96618364481427,
           0.9768669158033066,
           0.9901724104815571,
           1.009011160901658,
           1.0363892823263474,
           1.0752057787872973,
           1.1280214367865184,
           1.1968115358535136,
           1.2827211056196086,
           1.3858467928525147,
           1.5050727477713313,
           1.6379879974758114,
           1.7809085713449138,
           1.929018832872021,
           2.076633564432381,
           2.217566789945891,
           2.345577360683125,
           2.454847703383791,
           2.540443541340644,
           2.598700945985505,
           2.627493729682345,
           2.6263484655978333,
           2.596394345221677,
           2.54015749650897,
           2.4612305192946935,
           2.3638642263098792,
           2.252537167881078,
           2.131558167599092,
           2.0047481916824013,
           1.875232365735309,
           1.7453538985828576,
           1.616702578444077,
           1.4902346054248872,
           1.3664501740921609,
           1.2455915336429335,
           1.1278270211297183,
           1.013394451258665,
           0.9026881936752926,
           0.7962859747211611,
           0.6949218266658992,
           0.599419163002639,
           0.5106019214887829,
           0.42920208000965077,
           0.35577922498914044,
           0.29066324087876416,
           0.23392573261642247,
           0.18538054048323677,
           0.14460945319282972,
           0.111006427387317,
           0.08383239579903089,
           0.062272925129955754,
           0.045492213537731994,
           0.032678759894705575,
           0.02308006818761482,
           0.016025626057327772,
           0.01093888809554596,
           0.0073399956792917645,
           0.0048414744108418156,
           0.003139240891857295,
           0.00200103626280028,
           0.0012540080235335237,
           0.0007726944210116407,
           0.0004682112821561155,
           0.0002790532401290025,
           0.00016362531136498943,
           9.442017445457463e-05,
           5.364028611293879e-05,
           3.001382607967655e-05,
           1.6549328761461035e-05,
           8.997590078959211e-06,
           4.82668342620452e-06,
           2.556620028739279e-06,
           1.3381875897686978e-06,
           6.927070576143744e-07,
           3.5490100625709396e-07,
           1.8009837571923218e-07,
           9.058035282483667e-08,
           4.517451929321993e-08,
           2.2347144139676548e-08,
           1.0966332110883401e-08,
           5.3377393471770245e-09,
           2.5761017165914915e-09,
           1.232110471616502e-09,
           5.836108395150732e-10,
           2.7355489319680354e-10,
           1.2677914362314744e-10,
           5.804446611567986e-11
          ],
          [
           0.47059833489079855,
           0.5214895796759235,
           0.5743570811988034,
           0.6279602500184582,
           0.6808969069231715,
           0.7317022819260419,
           0.7789611499894215,
           0.8214239211417226,
           0.8581177047802959,
           0.8884444605874708,
           0.9122599540771904,
           0.9299289216053063,
           0.9423532398520913,
           0.9509707614844803,
           0.9577228105626409,
           0.9649883481607139,
           0.9754829318035105,
           0.9921213117123653,
           1.0178443102718777,
           1.0554138172129048,
           1.10718428821364,
           1.1748646461076895,
           1.259290127604663,
           1.3602282423900585,
           1.4762453176711718,
           1.6046589077924924,
           1.741595889384225,
           1.8821662615903036,
           2.0207493181086575,
           2.151373621158409,
           2.268157444182684,
           2.365764722097827,
           2.439825502561053,
           2.4872711124430675,
           2.506543211464017,
           2.4976516338833408,
           2.4620760946464384,
           2.4025281651268044,
           2.3226087734700416,
           2.2264096173618317,
           2.1181121136758985,
           2.0016341696286797,
           1.8803640739189855,
           1.7570044767642972,
           1.6335309089738177,
           1.511251914026777,
           1.3909444775426825,
           1.273030882108785,
           1.1577619851605836,
           1.0453765801371606,
           0.9362153683503599,
           0.8307790254407925,
           0.7297307208234333,
           0.6338524259376984,
           0.5439702448286818,
           0.46086637700611854,
           0.3851944251284714,
           0.31741135296199663,
           0.25773452695875954,
           0.20612702164584404,
           0.1623096589916135,
           0.12579472166791553,
           0.0959342311281433,
           0.07197510354096714,
           0.0531141423002505,
           0.038547309099061865,
           0.027509611523515425,
           0.01930387139110034,
           0.013318307542085227,
           0.009034109727947083,
           0.006024939608367387,
           0.003950603468438887,
           0.0025470899064147555,
           0.001614870966598556,
           0.0010069426024846978,
           0.0006176265892364956,
           0.0003727398557357385,
           0.00022139843436898006,
           0.00012947663862457266,
           7.458429366194523e-05,
           4.234156935239589e-05,
           2.3703304222643706e-05,
           1.3093778413443193e-05,
           7.142597039606061e-06,
           3.85057099833085e-06,
           2.0531722592068314e-06,
           1.0836920583827438e-06,
           5.666209326265018e-07,
           2.936756396487634e-07,
           1.5095590725943632e-07,
           7.697961869769648e-08,
           3.894821181015072e-08,
           1.9549222500767116e-08,
           9.730848947557407e-09,
           4.800832927663779e-09,
           2.3459877721937213e-09,
           1.1345676826368164e-09,
           5.425715879484057e-10,
           2.563452352480944e-10,
           1.1955378469166858e-10
          ],
          [
           0.44978441292598914,
           0.4988320161562806,
           0.5503747797725586,
           0.6032861753606893,
           0.6562260795885405,
           0.7077297041861276,
           0.7563147689325486,
           0.8005977136357181,
           0.839409350162995,
           0.8719010903593224,
           0.8976344322207984,
           0.9166483019922796,
           0.9295006749254551,
           0.9372822697150628,
           0.9416008562450395,
           0.9445348954443608,
           0.948555138074535,
           0.9564129106647922,
           0.9709946360845106,
           0.9951441176106567,
           1.0314574784158792,
           1.0820602701764421,
           1.1483816181016713,
           1.2309454447394426,
           1.3292026328458437,
           1.4414292076253505,
           1.5647132078929835,
           1.6950463353965008,
           1.8275259142107463,
           1.9566592013445332,
           2.0767475072963206,
           2.1823143032614394,
           2.2685320325103167,
           2.331598842097991,
           2.3690201505544284,
           2.379760853575832,
           2.364250652544695,
           2.3242448837551373,
           2.2625630098771135,
           2.182743208169732,
           2.08866146384887,
           1.984165650230186,
           1.8727691520066974,
           1.7574360570103884,
           1.6404733546070223,
           1.5235280756238134,
           1.4076719614443496,
           1.2935454657117986,
           1.181528005432035,
           1.071902504806902,
           0.9649884304801405,
           0.8612269436716309,
           0.7612124008980424,
           0.6656742357686545,
           0.5754207249918778,
           0.49126042359377947,
           0.41391799710256316,
           0.3439592393586386,
           0.2817361115704885,
           0.22735771402260904,
           0.18068820315726922,
           0.1413685777735683,
           0.10885645867220702,
           0.08247663574261777,
           0.061475140078313784,
           0.04507061084522334,
           0.03249836994864268,
           0.023044492980849984,
           0.016068939281803543,
           0.011018248074888229,
           0.007429306057641566,
           0.004926229726289206,
           0.0032125422033814884,
           0.0020606608007321405,
           0.0013003623528529123,
           0.0008074635292996813,
           0.0004935250476879303,
           0.000297016106522029,
           0.00017608586077029256,
           0.00010288837155405285,
           5.928767241174606e-05,
           3.37141366813381e-05,
           1.893358962762331e-05,
           1.0509309233859526e-05,
           5.7702514456996395e-06,
           3.1365366220014836e-06,
           1.6891739047864007e-06,
           9.018959289428541e-07,
           4.776627220632992e-07,
           2.510213044166888e-07,
           1.3090896056589155e-07,
           6.773945093392418e-08,
           3.4767515235102185e-08,
           1.7689896275847775e-08,
           8.916367183602794e-09,
           4.448415523188228e-09,
           2.194800090477512e-09,
           1.0699600442298278e-09,
           5.1492410192057e-10,
           2.4443497544157123e-10
          ],
          [
           0.4291354995414231,
           0.47603393005851713,
           0.5258672989980979,
           0.5776537153313798,
           0.6301533170860645,
           0.6819439302437197,
           0.7315200095288883,
           0.7774060929628839,
           0.8182748580806789,
           0.8530600308700099,
           0.8810556583081764,
           0.9019952092626892,
           0.9161061215251369,
           0.9241372966128044,
           0.9273583294111524,
           0.9275298371612599,
           0.9268442628516811,
           0.9278363364076929,
           0.9332624887111847,
           0.9459494501526053,
           0.9686144205161719,
           1.0036626992040558,
           1.0529732796662237,
           1.1176880089552608,
           1.198024518323016,
           1.2931360694658143,
           1.4010415824149565,
           1.5186455572347946,
           1.641860071603764,
           1.765829979683478,
           1.8852491161708866,
           1.994741682597867,
           2.08927142112943,
           2.164533984793659,
           2.217286872526105,
           2.2455772069075843,
           2.2488400252766905,
           2.2278568863071446,
           2.1845837116303755,
           2.1218746399123622,
           2.043142180246236,
           1.9520008175929586,
           1.8519404152646601,
           1.7460677077325146,
           1.6369406451078792,
           1.526504027587892,
           1.4161187812462006,
           1.3066641189760382,
           1.198683645703118,
           1.092544046295659,
           0.9885780321548852,
           0.8871904610779247,
           0.788916139883367,
           0.6944277704389401,
           0.6045010517760097,
           0.519949882463504,
           0.44154736797746424,
           0.369948031658647,
           0.30562387477846176,
           0.24882265593721187,
           0.19955196548806903,
           0.15758824313396091,
           0.12250646340443452,
           0.09372412470064895,
           0.07055245784314128,
           0.05224822131773488,
           0.03806073102998575,
           0.027270490813245406,
           0.0192175836968258,
           0.013319572941316507,
           0.009079872990557408,
           0.006088316716961328,
           0.0040159864246988785,
           0.0026063699206560174,
           0.0016646554398424183,
           0.0010465985178357408,
           0.0006479726651577898,
           0.0003952215666089929,
           0.0002376041397204543,
           0.00014088194990089225,
           8.244018191775667e-05,
           4.764651615965486e-05,
           2.7219705170655516e-05,
           1.538370617645494e-05,
           8.608495673148002e-06,
           4.773362734127498e-06,
           2.624529143954937e-06,
           1.431665760114509e-06,
           7.750750864995293e-07,
           4.164931165328579e-07,
           2.221158061800064e-07,
           1.175177134210399e-07,
           6.16502435416602e-08,
           3.204484032280584e-08,
           1.648952465000374e-08,
           8.392523749414396e-09,
           4.220970196070032e-09,
           2.095935531155469e-09,
           1.0266497836011006e-09,
           4.956881847891695e-10
          ],
          [
           0.4088028982739344,
           0.4533048785223445,
           0.5010840580116743,
           0.5513278619406763,
           0.6029312113574735,
           0.6545558543898343,
           0.7047175720994355,
           0.7518934743915213,
           0.7946396184704005,
           0.8317085897392154,
           0.8621574211017455,
           0.8854379820174402,
           0.9014642660097979,
           0.9106533142953465,
           0.9139383753997367,
           0.9127540368671992,
           0.9089934415114043,
           0.9049375384504668,
           0.9031560454930463,
           0.9063799458616021,
           0.9173464098714713,
           0.9386193481513345,
           0.9723923969285109,
           1.020285664830486,
           1.0831523156163623,
           1.1609150096574652,
           1.2524542398815266,
           1.3555696433387774,
           1.4670307835799608,
           1.58272561972315,
           1.6979035912964062,
           1.8074973905742764,
           1.9064950845380708,
           1.990324552227069,
           2.055207285838479,
           2.098439863817909,
           2.1185691954581234,
           2.1154410871776146,
           2.0901187710903466,
           2.044685943561617,
           1.9819645040723486,
           1.9051878510040021,
           1.817674500752024,
           1.7225434644313684,
           1.6225031293046408,
           1.5197313873440048,
           1.4158491570050615,
           1.3119750857838408,
           1.2088384646894332,
           1.1069217050789444,
           1.0066035062485352,
           0.9082784173901328,
           0.8124364196788344,
           0.7196955668976552,
           0.6307897750947491,
           0.5465210467157048,
           0.4676898339540866,
           0.39501862216642447,
           0.32908246413667397,
           0.27025685477915584,
           0.2186889421955301,
           0.17429355700713084,
           0.13677166766714918,
           0.10564612484677931,
           0.08030813586522832,
           0.06006774026572071,
           0.04420238053933566,
           0.03199911926612937,
           0.022787774023127875,
           0.01596390585187489,
           0.011001979976041505,
           0.007459997891690234,
           0.004977452534997601,
           0.0032686296976675504,
           0.002113159039962569,
           0.0013454122308243375,
           0.0008439530180127966,
           0.0005218436701554081,
           0.00031825791700638165,
           0.00019157082129310884,
           0.0001138989177055932,
           6.69431049841085e-05,
           3.89278202701309e-05,
           2.2415816041437292e-05,
           1.2792101253035669e-05,
           7.239896792520095e-06,
           4.066031492558755e-06,
           2.266811936973186e-06,
           1.2546541877093123e-06,
           6.893599930166706e-07,
           3.758602778345967e-07,
           2.0324361034273135e-07,
           1.0891681704889952e-07,
           5.7794460955643035e-08,
           3.033806147704017e-08,
           1.57394484258839e-08,
           8.062896545089973e-09,
           4.074885163742247e-09,
           2.0300959404614398e-09,
           9.962875163843445e-10
          ],
          [
           0.38890325793023456,
           0.43083087892178396,
           0.47626670227273765,
           0.5245846021128479,
           0.5748432464021552,
           0.6258265122146371,
           0.6761155013364337,
           0.7241859324837537,
           0.7685218573322967,
           0.8077351738963932,
           0.840680408402786,
           0.8665555375394106,
           0.8849818238952685,
           0.896058200187489,
           0.9003881156077398,
           0.8990785209273081,
           0.8937116034785766,
           0.8862900371619958,
           0.8791561849553766,
           0.874885360122992,
           0.876153458298416,
           0.8855804790179183,
           0.9055539101781042,
           0.9380395791090596,
           0.9843919356729158,
           1.0451800376420162,
           1.1200487328563555,
           1.2076356022958827,
           1.3055622547447039,
           1.4105130885646513,
           1.5184058287204913,
           1.6246469003678685,
           1.7244525778617772,
           1.813205868192715,
           1.886811363944478,
           1.9420076030613551,
           1.9765998055603622,
           1.9895851593139193,
           1.9811568804162456,
           1.95258986846904,
           1.9060271113112095,
           1.8441992286566218,
           1.770117390044741,
           1.6867810350539938,
           1.5969363770707092,
           1.5029108495248729,
           1.4065346679391053,
           1.309146201497621,
           1.2116654366844521,
           1.1147114277613697,
           1.0187362801368942,
           0.92414987615219,
           0.8314152830816411,
           0.741103014225139,
           0.6539012447610526,
           0.570587056729932,
           0.4919695800617963,
           0.41881888156410396,
           0.3517946135790033,
           0.29138625418774483,
           0.2378730564461943,
           0.1913074904503564,
           0.15152184654945608,
           0.11815439636007566,
           0.09068942855800989,
           0.06850465988212973,
           0.05091981379528992,
           0.03724125987559463,
           0.02679915808989351,
           0.01897521300099292,
           0.013220643634333805,
           0.009065142111883692,
           0.006118354211147476,
           0.004065776804294519,
           0.0026609971018926202,
           0.0017159925309232738,
           0.0010908685858205796,
           0.0006840231352226847,
           0.0004233551580286594,
           0.0002588244332672408,
           0.0001564344558334367,
           9.355466638128723e-05,
           5.5409798282616474e-05,
           3.252824712107404e-05,
           1.894138916775404e-05,
           1.0947097130122088e-05,
           6.281939080616923e-06,
           3.5798437259987913e-06,
           2.0256600282681484e-06,
           1.1377541405897626e-06,
           6.339562656299189e-07,
           3.501631013368527e-07,
           1.9155694401729433e-07,
           1.0368775145676144e-07,
           5.547998611339397e-08,
           2.931648844183181e-08,
           1.528499725336627e-08,
           7.85670119925774e-09,
           3.97848241291432e-09,
           1.9834282558032637e-09
          ],
          [
           0.36951340377306024,
           0.40876552307930103,
           0.45163776662453886,
           0.49769869644432213,
           0.5461922875486759,
           0.5960576335466778,
           0.6459827046822292,
           0.6944880311112844,
           0.7400325954876498,
           0.7811318214873847,
           0.8164766432206657,
           0.845043244130716,
           0.8661848883380373,
           0.8796998457332776,
           0.8858721521895001,
           0.8854843046570048,
           0.8798025852862558,
           0.870536401167362,
           0.8597729500903162,
           0.8498880472124953,
           0.8434335875903713,
           0.8430024078041073,
           0.8510726557305415,
           0.8698363406094486,
           0.9010203406608955,
           0.9457122601261458,
           1.0042073158925784,
           1.0758948886025812,
           1.1592035120442827,
           1.2516201711646406,
           1.3497935833889363,
           1.4497220347748063,
           1.5470153955337707,
           1.637209788339133,
           1.7161039892241297,
           1.7800809172791328,
           1.8263769625581585,
           1.853267025862127,
           1.8601435605162115,
           1.8474821198254756,
           1.8167016096519983,
           1.7699419263047838,
           1.709792392141523,
           1.6390095428901819,
           1.5602616045430673,
           1.475929878269801,
           1.387985782050156,
           1.2979487704734542,
           1.2069172997183548,
           1.1156546674423906,
           1.0247054709777843,
           0.9345171773057808,
           0.8455445063254515,
           0.7583208390443016,
           0.6734890651463075,
           0.5917924905567119,
           0.5140332017471225,
           0.4410096852641998,
           0.373447170679548,
           0.311933297069077,
           0.25686890681236507,
           0.20843987960305532,
           0.16661179499055745,
           0.13114557981283917,
           0.10162964689795566,
           0.07752258029427012,
           0.0582001375246441,
           0.04300100276003307,
           0.03126701492736753,
           0.022375167746310192,
           0.015760232581463116,
           0.010928169756627557,
           0.007461446117209488,
           0.005017932755117679,
           0.0033252532355522854,
           0.0021723688548227235,
           0.0013999200805827224,
           0.0008904854206193788,
           0.0005595464118065867,
           0.00034761276473197487,
           0.0002136939983265118,
           0.00013011252861753537,
           7.853353358709264e-05,
           4.7026319661439246e-05,
           2.7954590504353044e-05,
           1.6503654192415914e-05,
           9.678418419898177e-06,
           5.637582637983475e-06,
           3.26060506670614e-06,
           1.8714129481795398e-06,
           1.0650575314610997e-06,
           6.005030810709254e-07,
           3.350960984181967e-07,
           1.8488379727633458e-07,
           1.007573712196099e-07,
           5.4187700890239203e-08,
           2.873437177254781e-08,
           1.501238478005341e-08,
           7.722445319329961e-09,
           3.909008430344585e-09
          ],
          [
           0.35066796613056367,
           0.38722293326447293,
           0.4273898625783311,
           0.4709305259503768,
           0.5172867944609156,
           0.565578915029121,
           0.6146386847472975,
           0.6630759139107462,
           0.7093723994768998,
           0.7519943637497947,
           0.7895124319301209,
           0.8207179335416311,
           0.8447255143625507,
           0.8610543610996353,
           0.8696832140328856,
           0.8710771664984548,
           0.8661865045894999,
           0.8564192064811205,
           0.8435891448643534,
           0.8298417347199649,
           0.8175581714950231,
           0.8092390472386904,
           0.8073685214351841,
           0.8142617012083804,
           0.8319005182371392,
           0.8617669050735082,
           0.904685866209218,
           0.9606942497186388,
           1.0289526894959997,
           1.107717438145722,
           1.1943850938464016,
           1.2856164953207263,
           1.3775368937302273,
           1.4659991026186199,
           1.5468863410607259,
           1.6164237745875405,
           1.6714639962824367,
           1.7097129859961309,
           1.7298696804031755,
           1.7316634139538531,
           1.7157874517155776,
           1.6837412921448462,
           1.6376068515713604,
           1.579791869760641,
           1.5127765095390686,
           1.4388958579670712,
           1.3601826968715147,
           1.2782832504343402,
           1.1944459223593102,
           1.1095716290810413,
           1.0243061110379257,
           0.939150679441194,
           0.8545684270855411,
           0.771067332655579,
           0.689248624497266,
           0.6098166536932078,
           0.5335538245120197,
           0.4612696523758622,
           0.3937360909023166,
           0.3316217737116947,
           0.27543611892678804,
           0.22549103531303596,
           0.181884074635456,
           0.14450307743468513,
           0.11304926451997895,
           0.08707369107247781,
           0.06602110390393377,
           0.04927540822512513,
           0.03620189625488221,
           0.026182789758462173,
           0.018644183590877578,
           0.013073889049668849,
           0.009030793521477481,
           0.006147097935648709,
           0.004125166480352542,
           0.0027307804968481034,
           0.0017844171217438008,
           0.0011518666394316362,
           0.000735143990757481,
           0.00046430282819274663,
           0.0002904651403698422,
           0.00018015467924397392,
           0.00011087047511629303,
           6.77490062578242e-05,
           4.11260063150509e-05,
           2.48060929447778e-05,
           1.4866551206152195e-05,
           8.849803870131352e-06,
           5.229744456647168e-06,
           3.065580057616319e-06,
           1.7808514961936194e-06,
           1.0242021297926512e-06,
           5.825517624018002e-07,
           3.273641606010585e-07,
           1.8157541140967687e-07,
           9.931816183202872e-08,
           5.353069345582336e-08,
           2.841047856962583e-08,
           1.4838695631266592e-08,
           7.623120060178553e-09
          ],
          [
           0.3323604375931743,
           0.3662735889656845,
           0.4036766444287259,
           0.4445132641942548,
           0.4884257856031016,
           0.5347326135671585,
           0.5824395398071371,
           0.630286144869589,
           0.6768239450264368,
           0.7205189632053093,
           0.7598685607983285,
           0.7935210679472939,
           0.8203870916943631,
           0.8397331493760399,
           0.8512510004763609,
           0.8550991246536814,
           0.8519156063483799,
           0.8428037602062259,
           0.8292929230580758,
           0.813276982244882,
           0.7969327008726805,
           0.7826192142817369,
           0.7727597476480783,
           0.7697071075234563,
           0.7755960946654377,
           0.7921886428168669,
           0.8207208486959261,
           0.8617644628507583,
           0.915118000442889,
           0.9797435087504835,
           1.0537634585275333,
           1.1345278354537196,
           1.2187544422755014,
           1.3027364202070908,
           1.382601339941346,
           1.4545975372580842,
           1.5153773769832057,
           1.5622452282207104,
           1.5933408944034069,
           1.6077369625417508,
           1.6054399803056743,
           1.5872987092575355,
           1.55483565370161,
           1.510028345105941,
           1.4550726679579182,
           1.3921608997220363,
           1.3233022132263719,
           1.2502042736677077,
           1.174223122650485,
           1.0963769789500741,
           1.0174099662799774,
           0.9378856266539731,
           0.8582881171454319,
           0.7791110742443733,
           0.700919376944875,
           0.6243760824519513,
           0.5502341348003862,
           0.47929871268454216,
           0.41237034728669447,
           0.350180782124861,
           0.2933330554917083,
           0.24225495713060735,
           0.19717157660736187,
           0.15809890884959446,
           0.12485709913133969,
           0.09709937673379362,
           0.07435127685592381,
           0.05605438265741246,
           0.04160935169030271,
           0.030414135794461592,
           0.021894743292251898,
           0.015527341754790373,
           0.010851745813709714,
           0.007477253285719047,
           0.005082344927014947,
           0.0034099761864616776,
           0.002260133927798768,
           0.0014810962004913639,
           0.0009605061317945256,
           0.0006170243388981635,
           0.0003930090096811711,
           0.0002484180362789767,
           0.0001559435864325516,
           9.727296278384367e-05,
           6.0309185400163634e-05,
           3.716582107733514e-05,
           2.2758748358725494e-05,
           1.3840616120011204e-05,
           8.352668149449858e-06,
           4.997430939726945e-06,
           2.9611918688140824e-06,
           1.7358629892295992e-06,
           1.0056154166550101e-06,
           5.751472982937566e-07,
           3.2445616701100476e-07,
           1.8038649613778622e-07,
           9.876622629625788e-08,
           5.3222828816631655e-08,
           2.821249194518936e-08,
           1.4704298313502052e-08
          ],
          [
           0.314547893078182,
           0.3459437776439354,
           0.38060672044082644,
           0.41864176693067984,
           0.45988393554387974,
           0.5038565885372475,
           0.5497609047102827,
           0.5965003952711643,
           0.6427399008671268,
           0.6869940504349232,
           0.7277364816635025,
           0.7635187927789937,
           0.7930875214783644,
           0.8154884119310779,
           0.8301495116893257,
           0.8369376904320375,
           0.8361863497159462,
           0.8286948040129941,
           0.8157016409563115,
           0.798835154555761,
           0.7800438119540185,
           0.7615090244456748,
           0.7455417543316828,
           0.7344642260073052,
           0.7304786320370635,
           0.7355264128827407,
           0.7511443216709753,
           0.7783266290026333,
           0.8174057842585039,
           0.8679657947615544,
           0.9288027041969298,
           0.9979442553140553,
           1.0727359120512667,
           1.1499932129811286,
           1.2262117976904756,
           1.2978177129026545,
           1.3614333342836153,
           1.4141299461550163,
           1.4536378286564642,
           1.4784890547733227,
           1.4880766942330104,
           1.482625513249721,
           1.463081664326054,
           1.4309401151876535,
           1.3880366704580998,
           1.3363349801766287,
           1.2777373781051842,
           1.2139422122654477,
           1.1463608555890887,
           1.0760967181544783,
           1.0039783754317222,
           0.9306311519882415,
           0.8565673132357216,
           0.7822747797678834,
           0.7082875626879955,
           0.6352268825942867,
           0.5638088054831387,
           0.49482081400282424,
           0.4290748978293961,
           0.367347796792089,
           0.3103197714998803,
           0.25852196961662777,
           0.2122996865755625,
           0.17179532608525816,
           0.13695137316909917,
           0.10753078074432774,
           0.08315019929171358,
           0.06332056951387878,
           0.04748966522311017,
           0.03508198979397933,
           0.025532697076008765,
           0.018313629027409378,
           0.012950890665656967,
           0.009034450738069787,
           0.006220982217409775,
           0.004231534129356109,
           0.0028457037433398925,
           0.0018938346838315136,
           0.001248489313950007,
           0.0008161118791893514,
           0.0005294734147280321,
           0.0003412098004781552,
           0.00021854982654421017,
           0.00013918391217635566,
           8.81387379378811e-05,
           5.548550216596698e-05,
           3.470535279734435e-05,
           2.155161608093884e-05,
           1.3274306679423119e-05,
           8.10074881620594e-06,
           4.892517756274185e-06,
           2.921132440199424e-06,
           1.7223583553974019e-06,
           1.0019083328136927e-06,
           5.744965399533252e-07,
           3.2446735387822724e-07,
           1.803821627564755e-07,
           9.86535395826965e-08,
           5.3054752645841474e-08,
           2.8045190818814605e-08
          ],
          [
           0.2971591397142728,
           0.3262190018705542,
           0.3582413869323846,
           0.39346448317197547,
           0.431898333536514,
           0.4732672963935956,
           0.516979059519691,
           0.5621267222621493,
           0.6075262769908619,
           0.6517871954864264,
           0.6934095254425721,
           0.7308976286837346,
           0.7628789430709638,
           0.7882161208966172,
           0.8061024538985418,
           0.8161332164674446,
           0.8183488364471385,
           0.8132489834811291,
           0.8017791919278578,
           0.7852931653881156,
           0.7654943747207227,
           0.7443601671648413,
           0.7240507688546067,
           0.7068048084237378,
           0.6948228107892049,
           0.6901408501422559,
           0.6944983024632081,
           0.7092061948805305,
           0.7350255192944893,
           0.7720673555813599,
           0.8197279473204003,
           0.8766712870719203,
           0.9408688574044077,
           1.0097009093348113,
           1.080116511454214,
           1.148841528508527,
           1.2126160095741219,
           1.2684366415006854,
           1.3137772519234439,
           1.346761665411756,
           1.3662686668559443,
           1.371957749172955,
           1.3642153304457547,
           1.3440323461395445,
           1.3128335674001972,
           1.2722849785103003,
           1.2241070373190912,
           1.169918492398634,
           1.1111283912455931,
           1.0488844593078173,
           0.9840760244592911,
           0.9173809565646741,
           0.8493401462297302,
           0.7804406618582517,
           0.711189940015344,
           0.6421675297741899,
           0.5740468935129917,
           0.5075862338009504,
           0.44359303057349014,
           0.38287101961413667,
           0.3261602594968205,
           0.2740807254538377,
           0.22708792888934576,
           0.185446027912636,
           0.14922048273248742,
           0.11828916455018565,
           0.09236841645522312,
           0.07104913387798564,
           0.05383750463022936,
           0.04019547417081054,
           0.029577023069805003,
           0.0214576672145725,
           0.01535594740781489,
           0.010846857834533222,
           0.0075680483732634765,
           0.005220179939220546,
           0.003563035697352305,
           0.002408957168668829,
           0.0016149654242040685,
           0.0010746262500609778,
           0.000710393811125161,
           0.00046686963054478334,
           0.0003051714959515858,
           0.0001984310146882071,
           0.00012832654440971902,
           8.249971453672655e-05,
           5.268494616424117e-05,
           3.338851362959538e-05,
           2.0975090951386835e-05,
           1.3046682515089482e-05,
           8.025653641825829e-06,
           4.877107261283685e-06,
           2.9248311403148775e-06,
           1.729405053533577e-06,
           1.0073952447782664e-06,
           5.777082009566915e-07,
           3.259614615027529e-07,
           1.8086633564839684e-07,
           9.865151606349812e-08,
           5.287571172525425e-08
          ],
          [
           0.280105601283136,
           0.307051176172204,
           0.33659661851791506,
           0.36907939041132803,
           0.4046583428466687,
           0.44324439867989845,
           0.48445182778349405,
           0.5275787632315101,
           0.571622056068236,
           0.6153271107452193,
           0.6572687175988727,
           0.6959548721802603,
           0.7299427947265807,
           0.7579552397410423,
           0.7789857957632611,
           0.7923839718222149,
           0.7979139414882365,
           0.7957842188797007,
           0.7866486295281646,
           0.7715812114331397,
           0.7520288784907478,
           0.7297458225852199,
           0.7067130030240845,
           0.6850451315354236,
           0.6668868270071431,
           0.6542995372758673,
           0.6491416732225157,
           0.6529461798828708,
           0.6668022000612033,
           0.6912500343390559,
           0.7262005708479263,
           0.7708910260924433,
           0.8238876181210912,
           0.8831423943037574,
           0.9461059831944902,
           1.009891125156743,
           1.07147447136578,
           1.127917607398538,
           1.1765838714491574,
           1.2153263667862493,
           1.2426251713989769,
           1.2576579932387293,
           1.2602975456949652,
           1.2510392576388616,
           1.2308727847747005,
           1.201118385551339,
           1.16325320391851,
           1.118752202172207,
           1.0689640903635063,
           1.0150350769405614,
           0.9578841591989036,
           0.8982247474615077,
           0.8366202874559441,
           0.7735573513611002,
           0.7095188808263428,
           0.6450426528337083,
           0.5807547856407754,
           0.5173740382969918,
           0.45568853931667375,
           0.3965113462738655,
           0.3406241923062254,
           0.28871966782088365,
           0.24135108858819088,
           0.1988969045567595,
           0.16154336375121628,
           0.1292859306962664,
           0.1019472213565584,
           0.07920731447511016,
           0.06064137132073527,
           0.04575948499667913,
           0.03404438813438557,
           0.024983802674489006,
           0.018095538620669923,
           0.012944703838663635,
           0.009153409810607246,
           0.006404064793671251,
           0.004437724259610399,
           0.0030490604262821967,
           0.002079390585298906,
           0.0014089499313059645,
           0.0009492843175067501,
           0.0006363309490184777,
           0.0004244893131776308,
           0.00028178002810403795,
           0.0001860495588695057,
           0.00012209716265006688,
           7.956466575232092e-05,
           5.142587404614558e-05,
           3.29278653612786e-05,
           2.0861015234491385e-05,
           1.3061324336620738e-05,
           8.073212023373251e-06,
           4.92139072725943e-06,
           2.9562307324075235e-06,
           1.7485417026334578e-06,
           1.0177184149476095e-06,
           5.825913785837788e-07,
           3.278648207703805e-07,
           1.8132716684613865e-07,
           9.85234124378646e-08
          ],
          [
           0.2632938594202832,
           0.28836894939295504,
           0.3156492173709899,
           0.3455344888882451,
           0.37829968634991945,
           0.4140185537525764,
           0.4525010516988902,
           0.49325457985041754,
           0.5354765246290618,
           0.5780816765661883,
           0.6197634490547215,
           0.6590833263794598,
           0.6945793226097334,
           0.7248820238413267,
           0.7488263108867736,
           0.7655480794336719,
           0.7745578379332051,
           0.7757863927797327,
           0.7696012566965215,
           0.7567953259829776,
           0.738551334132808,
           0.7163864341741075,
           0.6920811002547131,
           0.6675957149106919,
           0.6449772055988732,
           0.6262574129077665,
           0.613344907674757,
           0.6079129135020872,
           0.6112877602018066,
           0.6243445508646914,
           0.6474189142998688,
           0.6802451673176186,
           0.7219312861458014,
           0.7709793205088568,
           0.8253561310979721,
           0.8826138518576078,
           0.9400529560067283,
           0.9949142683723767,
           1.0445809233969379,
           1.0867682664797989,
           1.1196798679030147,
           1.1421114582560887,
           1.1534913366521475,
           1.153854638570278,
           1.1437582909701214,
           1.1241518503942676,
           1.0962251954668452,
           1.061256194454656,
           1.020479668486693,
           0.974993677329477,
           0.9257114938464011,
           0.8733591472375994,
           0.8185107217813932,
           0.7616480510293997,
           0.7032288758394208,
           0.6437481137193555,
           0.5837801636760496,
           0.5239952210322675,
           0.4651482461490815,
           0.4080443957836615,
           0.3534885127566597,
           0.3022281931751275,
           0.25489994890691436,
           0.21198636175640662,
           0.1737894358411622,
           0.14042224319803645,
           0.11181802746360414,
           0.0877536357764714,
           0.06788274158200781,
           0.051773846932861085,
           0.03894838969508731,
           0.02891519819264306,
           0.021198760961864783,
           0.015360056289601456,
           0.011009815222965205,
           0.007814948555118812,
           0.005499404796890247,
           0.003840957040843792,
           0.002665398846270591,
           0.0018394400867661853,
           0.0012633119440958144,
           0.0008637831621289417,
           0.0005880060461313092,
           0.0003983792682701785,
           0.0002684464892507852,
           0.00017974321928427523,
           0.00011944931016915187,
           7.86876232481692e-05,
           5.131731712415987e-05,
           3.309142605146284e-05,
           2.1074478513319292e-05,
           1.32413608754448e-05,
           8.200529590282727e-06,
           5.001943340243527e-06,
           3.0028219953120937e-06,
           1.77324305145362e-06,
           1.0295575465113468e-06,
           5.875009900681137e-07,
           3.2938567285318864e-07,
           1.8139569774343958e-07
          ],
          [
           0.24663853166400562,
           0.270090071232683,
           0.29534649199957025,
           0.3228328288945555,
           0.3529033935391519,
           0.385763635895976,
           0.421398337922088,
           0.45951705640056495,
           0.49952614120183597,
           0.5405334923237296,
           0.581387964044845,
           0.6207506746616772,
           0.657191214940319,
           0.6892985734082945,
           0.715795002992876,
           0.7356412229759071,
           0.7481231283910129,
           0.7529131216787537,
           0.7501026619049784,
           0.7402059777096146,
           0.7241375465034335,
           0.7031675542965016,
           0.6788600410330345,
           0.6529979960038478,
           0.6274986905888189,
           0.6043215127346778,
           0.5853699660838619,
           0.5723896455011761,
           0.5668650085427839,
           0.5699194811641919,
           0.5822254775431098,
           0.6039327179647088,
           0.6346241728113271,
           0.6733084958192217,
           0.7184555985805002,
           0.7680780485365125,
           0.8198556177610353,
           0.8712943134402297,
           0.9199055960987345,
           0.96338734129133,
           0.9997863897698734,
           1.0276238579253392,
           1.0459688004700698,
           1.0544527746452905,
           1.0532262457825339,
           1.042866142699945,
           1.024250703221127,
           0.9984217916097313,
           0.9664554030198951,
           0.9293580715619408,
           0.8880010417636388,
           0.8430965643646299,
           0.79521302298347,
           0.7448192215820523,
           0.6923441482856363,
           0.6382374138229483,
           0.5830172622370056,
           0.527296945720075,
           0.4717853644356729,
           0.41726309787338317,
           0.3645393166506733,
           0.31439788133742064,
           0.2675419176276024,
           0.22454540344092055,
           0.18581821834684414,
           0.15158827011983417,
           0.1219013415613577,
           0.09663671791675017,
           0.07553481603394172,
           0.058232094541503895,
           0.044298447063865376,
           0.03327289594614209,
           0.024694463774533368,
           0.018126341414868807,
           0.013172666633661479,
           0.00948821420296767,
           0.006781990027870576,
           0.004816101198556653,
           0.003401376698958142,
           0.0023911070788485787,
           0.0016740340671712952,
           0.0011674261863220527,
           0.0008107820380712995,
           0.0005604477274598823,
           0.00038523853050759303,
           0.00026302157644453875,
           0.00017813959732253305,
           0.00011952360005675883,
           7.934088965203243e-05,
           5.204159682493939e-05,
           3.36917531992883e-05,
           2.1507128080069892e-05,
           1.3525465073859488e-05,
           8.37364565663227e-06,
           5.100383270243289e-06,
           3.0548921327875505e-06,
           1.798507150893768e-06,
           1.04040739025041e-06,
           5.912201775329088e-07,
           3.299530877150475e-07
          ],
          [
           0.23007410178970206,
           0.25213444923401324,
           0.2756183845263296,
           0.3009414789014637,
           0.3284996540478832,
           0.35859411369559974,
           0.3913554287331198,
           0.4266776596011636,
           0.46417295203175707,
           0.5031548826167835,
           0.5426552454232028,
           0.5814745251207507,
           0.6182617350439839,
           0.6516153780101435,
           0.6801946558254486,
           0.702829099342594,
           0.718615578274836,
           0.7269939158041709,
           0.7277955572705821,
           0.7212632697215877,
           0.7080430347615152,
           0.6891516405695486,
           0.6659247187385392,
           0.6399501207870129,
           0.6129908480602537,
           0.5869006648886755,
           0.5635345216151021,
           0.544655412285952,
           0.5318395495010593,
           0.5263827878077268,
           0.5292128564472902,
           0.5408137535977605,
           0.5611700605875224,
           0.5897393936332956,
           0.6254602732862757,
           0.6668001428731224,
           0.7118442141607934,
           0.7584207227805438,
           0.8042528112562919,
           0.8471225901721607,
           0.8850299346531002,
           0.9163280278217637,
           0.939819940327224,
           0.9548054826375946,
           0.9610744825139126,
           0.9588503766635407,
           0.9486951863206299,
           0.9313922489650073,
           0.9078255204129162,
           0.8788734197973911,
           0.8453312957971598,
           0.8078704792903297,
           0.7670348029723563,
           0.7232687970719184,
           0.6769667364419482,
           0.6285291347169183,
           0.578413423270893,
           0.5271681237793688,
           0.4754440830436836,
           0.4239812977213577,
           0.3735745057946388,
           0.3250242394135449,
           0.2790819259830592,
           0.23639777590799774,
           0.19747883533419155,
           0.16266218355913514,
           0.13210540150237451,
           0.1057936929947169,
           0.08356084444223034,
           0.06511981885198911,
           0.050098263337857475,
           0.038074467946930465,
           0.028610141470290288,
           0.02127751302722961,
           0.015679481583648097,
           0.011462623331663311,
           0.008323703397798074,
           0.006010870936200176,
           0.004320954288705958,
           0.0030942672362495585,
           0.002208161776973982,
           0.0015702938455585543,
           0.00111227222032666,
           0.0007840862444286738,
           0.0005494840538012201,
           0.0003823113608178637,
           0.00026371985469546635,
           0.00018010409799671488,
           0.00012161294880097752,
           8.109242142409832e-05,
           5.3339980892795955e-05,
           3.457706609446311e-05,
           2.20718015386267e-05,
           1.386468109516961e-05,
           8.5656974677293e-06,
           5.20233126280093e-06,
           3.1049466176257957e-06,
           1.8205400363104079e-06,
           1.0484088090169306e-06,
           5.928713153304981e-07
          ],
          [
           0.21356443865694255,
           0.23443645454661377,
           0.25639066266787464,
           0.2798033572620323,
           0.3050760242737999,
           0.332567702161594,
           0.36252002146353146,
           0.39498501611964815,
           0.42976646258897344,
           0.4663844615577052,
           0.5040703068599725,
           0.541794774211939,
           0.5783284420610968,
           0.6123282874425059,
           0.6424413150270809,
           0.6674139386829645,
           0.6861955200731575,
           0.6980258252419785,
           0.7024988281090591,
           0.6995986921965752,
           0.6897072365837139,
           0.6735851352182718,
           0.6523310865679176,
           0.6273240533224916,
           0.6001535063111194,
           0.5725417298273272,
           0.5462611024484559,
           0.5230483184750723,
           0.5045171254014248,
           0.4920715074210544,
           0.4868223045495605,
           0.4895117607834612,
           0.5004520099027984,
           0.5194845163066351,
           0.5459674997299289,
           0.5787970403742587,
           0.6164647846657924,
           0.6571511608733296,
           0.6988482922885949,
           0.7395021383590883,
           0.7771596953314983,
           0.8101051821353437,
           0.8369696070240389,
           0.8568011260863727,
           0.8690888390691822,
           0.8737393181900577,
           0.87101208746769,
           0.8614262024089929,
           0.8456539112105237,
           0.8244183925668503,
           0.7984106035395365,
           0.7682357721571735,
           0.7343939713208284,
           0.6972927406768523,
           0.6572841285388109,
           0.6147148088999966,
           0.5699766495816074,
           0.5235462988175146,
           0.47600555910737113,
           0.42803871741543936,
           0.38040763978778896,
           0.3339094208369838,
           0.2893240473238822,
           0.24736057231112948,
           0.2086097385361702,
           0.1735091668598312,
           0.1423246500344361,
           0.11514832788950717,
           0.0919120665245452,
           0.07241257310179088,
           0.05634381706907867,
           0.04333218849460941,
           0.03297035739360865,
           0.024846776724568483,
           0.018568947046924786,
           0.013779711106556736,
           0.010166809399916713,
           0.007466612305769866,
           0.005463327835853208,
           0.003985096614915758,
           0.002898290410072557,
           0.0021011032765380156,
           0.0015172376145846718,
           0.0010901994764361805,
           0.0007784676915739851,
           0.0005516101689628491,
           0.0003872926826734831,
           0.0002690541718980694,
           0.00018469570063257533,
           0.00012513353268986624,
           8.358723555335209e-05,
           5.5001065925386085e-05,
           3.562415375188606e-05,
           2.269829241476388e-05,
           1.4219949069882439e-05,
           8.755502043573093e-06,
           5.296613414175285e-06,
           3.147268968080303e-06,
           1.8365166821797369e-06,
           1.0522209996239978e-06
          ],
          [
           0.19710902488645157,
           0.21695514073176775,
           0.23759768071412457,
           0.2593505174365307,
           0.28258891656412294,
           0.30769277440506576,
           0.33497721668297387,
           0.3646192139714713,
           0.3965905107256093,
           0.4306072496672932,
           0.4661050714309869,
           0.502245364111667,
           0.537954204200901,
           0.571991051872148,
           0.6030401964110707,
           0.6298149712504352,
           0.6511633387041642,
           0.6661637452654426,
           0.6742020063883671,
           0.6750229538689597,
           0.6687540556308472,
           0.6559015484599353,
           0.6373222626989703,
           0.614175925199861,
           0.5878632235078943,
           0.5599544715020535,
           0.5321126932252802,
           0.5060137844886383,
           0.4832655454219613,
           0.4653271042056103,
           0.4534306859760876,
           0.44850871954739086,
           0.4511306211071436,
           0.4614548167864376,
           0.47920218977000734,
           0.5036567503449255,
           0.5336976841091348,
           0.5678640382255222,
           0.6044494496854144,
           0.6416200644282536,
           0.677544891918554,
           0.7105250882568732,
           0.7391077458458244,
           0.7621710871212715,
           0.7789715023368963,
           0.7891481720627689,
           0.7926872133402816,
           0.7898532833296497,
           0.7811012481959443,
           0.7669829857153116,
           0.7480641725124736,
           0.7248630826446878,
           0.6978185905311228,
           0.667288718748097,
           0.633575364519546,
           0.5969663620671278,
           0.5577835686333704,
           0.5164255235699572,
           0.4733952554796287,
           0.42930741871973505,
           0.38487328699650414,
           0.3408663199066089,
           0.29807428248316764,
           0.2572457446647117,
           0.21903905968568743,
           0.18398078039589982,
           0.15243832318724737,
           0.12460905640060632,
           0.10052540046105493,
           0.0800734073303733,
           0.06302090224163821,
           0.04905070676227387,
           0.037794646314328544,
           0.02886479338588819,
           0.02187947237575016,
           0.016482716911324836,
           0.012356931289440976,
           0.009229335330139707,
           0.006873307713053945,
           0.005105989568413015,
           0.003783514513504929,
           0.0027950639415442566,
           0.0020566827848624335,
           0.0015054980089191305,
           0.0010947096803108581,
           0.0007895029953867762,
           0.0005638715962465791,
           0.0003982464269430533,
           0.00027778010740937484,
           0.00019113015970142645,
           0.00012960102150508842,
           8.653242724259184e-05,
           5.685154763113666e-05,
           3.673281204481438e-05,
           2.3330065966082455e-05,
           1.4560203476661704e-05,
           8.926474867398827e-06,
           5.374656544411239e-06,
           3.1775878570978477e-06,
           1.8444003168040657e-06
          ],
          [
           0.18074532066562676,
           0.19968131876593306,
           0.21919330367556225,
           0.23951734064298605,
           0.2609769385711897,
           0.28393947147403026,
           0.30875611948792187,
           0.33569206934291634,
           0.3648561213351519,
           0.3961399650914242,
           0.4291769008063131,
           0.4633276723951053,
           0.49769762799903494,
           0.531185179801545,
           0.5625572096826166,
           0.5905433924319513,
           0.6139389915206219,
           0.6317048853514591,
           0.6430544532540801,
           0.6475192280219662,
           0.6449884008797335,
           0.6357207161886395,
           0.620330401239346,
           0.5997510651016295,
           0.5751827196612664,
           0.5480272316728302,
           0.5198168403354559,
           0.49213925556575927,
           0.4665617218473929,
           0.44455566945785024,
           0.4274234159738119,
           0.4162288717231613,
           0.411735189488482,
           0.4143534620838777,
           0.4241074952883063,
           0.440619946040505,
           0.4631243874534718,
           0.4905059950544386,
           0.5213706367720786,
           0.5541385457113525,
           0.5871550343426692,
           0.618807574534214,
           0.6476367146670494,
           0.6724282634606231,
           0.6922761661823705,
           0.7066093662318595,
           0.7151811180070677,
           0.718024816723698,
           0.7153854131804185,
           0.7076389312482996,
           0.6952138293424713,
           0.6785267086899881,
           0.6579414339170128,
           0.6337558037619776,
           0.6062144896578582,
           0.5755421149391702,
           0.541986983428234,
           0.5058646414990361,
           0.4675912841826344,
           0.42769966518046576,
           0.38683397779942025,
           0.3457243056115351,
           0.3051448856878018,
           0.2658629562798606,
           0.2285860380319726,
           0.19391510709541548,
           0.1623095230842353,
           0.13406722375948832,
           0.10932110972355397,
           0.08805019194252701,
           0.07010231289750195,
           0.05522426104013241,
           0.043094891562550204,
           0.03335732106519895,
           0.02564717106891048,
           0.01961495801136273,
           0.014941847549985725,
           0.011348943664176424,
           0.008600971277350841,
           0.006505604951755296,
           0.004909819815011093,
           0.0036945535678973504,
           0.0027687448132469195,
           0.0020635261864367254,
           0.0015270610221424612,
           0.0011202609806423647,
           0.0008134311354783515,
           0.0005837638341599188,
           0.0004135366726756034,
           0.0002888499898636257,
           0.00019875006793882948,
           0.00013461155186803185,
           8.968535010168426e-05,
           5.8749034178413513e-05,
           3.7821560955826145e-05,
           2.3921753937619292e-05,
           1.4860932374835694e-05,
           9.0658139550002e-06,
           5.430032466399896e-06,
           3.1928257070164544e-06
          ],
          [
           0.1645471498388602,
           0.1826408370546175,
           0.20115885980097548,
           0.22025216276950324,
           0.24017449047325454,
           0.2612530595988648,
           0.283840543589399,
           0.30825292001374677,
           0.33470063868124333,
           0.3632225313251179,
           0.3936324570987033,
           0.4254876497401152,
           0.4580851824815359,
           0.4904892690116703,
           0.5215878760048301,
           0.5501730520102528,
           0.575036167240697,
           0.5950674303382031,
           0.6093488535233365,
           0.6172312162957071,
           0.6183881825760055,
           0.6128440083494903,
           0.600974612032541,
           0.583484601423558,
           0.5613647624037222,
           0.5358353543210359,
           0.508280408323501,
           0.48017736969119396,
           0.4530252593148839,
           0.42827346084353257,
           0.40725259314832807,
           0.39110887346573636,
           0.380743899282647,
           0.3767626826409068,
           0.37943373152474746,
           0.3886656011298124,
           0.4040042719731843,
           0.42465470588137766,
           0.4495279258634645,
           0.47731213067063544,
           0.5065630834800069,
           0.5358058726917548,
           0.563637769547601,
           0.5888208806902686,
           0.6103539946161066,
           0.6275155204590711,
           0.6398734233929841,
           0.6472629423209909,
           0.6497377704374326,
           0.647504366151874,
           0.6408513586267893,
           0.6300861547152745,
           0.615488809416396,
           0.5972894046679498,
           0.5756703668951902,
           0.5507903085872493,
           0.522822048287744,
           0.49199516790436965,
           0.45863315867256577,
           0.423176816300389,
           0.38618861977624497,
           0.34833665820390697,
           0.31036046035665404,
           0.27302412320528585,
           0.23706394164873562,
           0.2031381202542045,
           0.17178520309074036,
           0.14339592833384068,
           0.11820077227375676,
           0.09627298554764195,
           0.07754485850501848,
           0.06183355593500295,
           0.048872240217912206,
           0.03834230849135988,
           0.029903241914588468,
           0.02321758134199265,
           0.017969673892876372,
           0.013877883770584507,
           0.010700793082209278,
           0.008238467505686083,
           0.00633012267922565,
           0.004849541733781053,
           0.0036994307204130366,
           0.0028056328913816033,
           0.002111823979331655,
           0.0015750316684271291,
           0.0011620963966906415,
           0.0008470315617225095,
           0.0006091481559681166,
           0.0004317710186556251,
           0.0003013757660124876,
           0.00020700108678093094,
           0.00013982685061974593,
           9.284449903155536e-05,
           6.057656579319393e-05,
           3.8824407416582045e-05,
           2.4437271965503296e-05,
           1.5103097334914567e-05,
           9.163887407486978e-06,
           5.458114176761849e-06
          ],
          [
           0.1486194491667662,
           0.16589388509676256,
           0.18350739204767233,
           0.2015261241060316,
           0.2201240832647604,
           0.23956790109214549,
           0.2601823531396551,
           0.28229890764688936,
           0.306192731764577,
           0.3320161445844704,
           0.3597379891923265,
           0.38909843122646076,
           0.4195871661263221,
           0.45045010997094154,
           0.48072580827802425,
           0.5093086613803115,
           0.5350323368479181,
           0.5567640456352472,
           0.5734991243553738,
           0.5844457333991375,
           0.5890912893868536,
           0.5872450847459628,
           0.5790548347955289,
           0.5649980327230588,
           0.5458514811412075,
           0.5226438929015603,
           0.496596937311298,
           0.4690597001384045,
           0.4414405423628354,
           0.41513917565087205,
           0.3914807930950473,
           0.37165356808260264,
           0.3566508694541252,
           0.3472200692500115,
           0.3438206182686323,
           0.34659481137030906,
           0.35535500879986043,
           0.3695907261818062,
           0.3884977887638266,
           0.411029684752314,
           0.43596857554062,
           0.462010542331722,
           0.48785710756063505,
           0.5123034253615192,
           0.5343132463484745,
           0.5530720672829013,
           0.5680127125240249,
           0.5788115729447312,
           0.585358186446959,
           0.5877049665950329,
           0.586006872128937,
           0.5804620537195707,
           0.5712637459381423,
           0.5585710313770683,
           0.5425021169550286,
           0.5231492323220487,
           0.5006100897786117,
           0.4750278399706259,
           0.4466301555020026,
           0.4157586407216574,
           0.38288197718458916,
           0.34858953098232065,
           0.3135658509300436,
           0.278549841571322,
           0.24428480664806515,
           0.21146667725869628,
           0.18069750260132253,
           0.15244989234229794,
           0.12704594881013012,
           0.10465178926817661,
           0.08528648776853583,
           0.06884251297261837,
           0.055113701594583314,
           0.04382652489076924,
           0.03467077953779335,
           0.02732667506339067,
           0.021486370734390026,
           0.01686911919552519,
           0.013230131925170181,
           0.01036398687245185,
           0.008103812167436124,
           0.0063176184488291385,
           0.004903071556570985,
           0.0037817713259888286,
           0.0028938064778047563,
           0.0021930540474855115,
           0.0016434297238226412,
           0.0012160977689009201,
           0.0008875226863038115,
           0.0006381829307225326,
           0.0004517552834438705,
           0.00031459982820629585,
           0.00021541357411545745,
           0.00014496289886677783,
           9.584264338981343e-05,
           6.223852166956387e-05,
           3.9688438692866786e-05,
           2.4848420313283896e-05,
           1.527232708045574e-05,
           9.213771990531266e-06
          ],
          [
           0.13309010687826822,
           0.14953060547194708,
           0.16628395492289233,
           0.18333843370834443,
           0.20078609252369328,
           0.21882044313318394,
           0.23771577241508782,
           0.25778827370034285,
           0.2793422486365295,
           0.3026075269491606,
           0.3276764249909667,
           0.3544495489471214,
           0.3825992679623618,
           0.4115577217998316,
           0.4405330540589044,
           0.46855368300418243,
           0.494536490625368,
           0.5173714958957424,
           0.536013431309072,
           0.5495699859308636,
           0.5573773496133516,
           0.5590558445686217,
           0.5545413962133958,
           0.5440917988140457,
           0.5282696120922287,
           0.507905650468087,
           0.4840481695986167,
           0.45790301702188463,
           0.4307693977244174,
           0.4039748456850212,
           0.37881186420809715,
           0.3564778271443183,
           0.33801932622869085,
           0.32428225524721804,
           0.3158694287966409,
           0.3131082042543218,
           0.31603110320997063,
           0.3243725086932024,
           0.33758391880568345,
           0.3548688757383578,
           0.3752366484111328,
           0.3975712961981648,
           0.4207102982389282,
           0.4435249926656042,
           0.46499410466642427,
           0.4842619902990713,
           0.5006749938418187,
           0.5137923348801221,
           0.5233717514433592,
           0.5293340622908518,
           0.5317141291943017,
           0.5306077318432827,
           0.5261241790218573,
           0.5183529755777955,
           0.5073498252582668,
           0.4931432762936206,
           0.47575920474191646,
           0.4552568948359643,
           0.4317683731861492,
           0.40553224667730764,
           0.37691458251921184,
           0.34641200950775064,
           0.3146356181560096,
           0.28227769221391974,
           0.250066160553782,
           0.21871343934221102,
           0.18886681919042358,
           0.16106679168672466,
           0.13571798332312351,
           0.11307509360682659,
           0.09324387918236314,
           0.0761951932765351,
           0.06178866302310676,
           0.0498018949879825,
           0.039961120288791556,
           0.03196978666566791,
           0.025532568658970183,
           0.020373374257376616,
           0.016246978408133068,
           0.012944766454603192,
           0.010295646014036229,
           0.008163469490514073,
           0.006442336578102595,
           0.005050982906240534,
           0.003927185179197641,
           0.00302279804594365,
           0.0022997414698708845,
           0.00172701710504024,
           0.0012786652012954558,
           0.0009324799424965502,
           0.0006692693386120221,
           0.0004724583946473247,
           0.0003278728008992742,
           0.00022358880667971382,
           0.0001497815328403621,
           9.854177948607167e-05,
           6.365762027567515e-05,
           4.037205385796088e-05,
           2.5133846580832334e-05,
           1.5358310991934354e-05
          ],
          [
           0.11809988747786618,
           0.1336636986402472,
           0.14956217973439268,
           0.1657177200670804,
           0.1821450614614274,
           0.1989598684153845,
           0.2163710142288105,
           0.234654968821819,
           0.25411343843759576,
           0.275018355556423,
           0.2975509223883955,
           0.321743156247743,
           0.3474308720127237,
           0.3742260797136052,
           0.4015144532452099,
           0.42848018237099533,
           0.45415670285387294,
           0.47749815687513886,
           0.49746358659151013,
           0.5131042726091873,
           0.5236445164167844,
           0.528547469766103,
           0.5275600158574727,
           0.5207337100605228,
           0.5084218297618066,
           0.4912551563122023,
           0.4701008625296972,
           0.44600966193249786,
           0.4201562607176733,
           0.393777382693149,
           0.36811054990470465,
           0.3443357449435655,
           0.32352133031184477,
           0.30657530321079707,
           0.29420311731964605,
           0.2868737637764514,
           0.28479632979079084,
           0.28790956381089017,
           0.2958868176920156,
           0.3081579471667269,
           0.32394831015456466,
           0.34233304898605754,
           0.3623026721310726,
           0.3828339679145522,
           0.40295892601264494,
           0.4218239913306617,
           0.4387328528245462,
           0.45316807168906337,
           0.46478991490296634,
           0.4734142856176178,
           0.478974989695838,
           0.48147809003685016,
           0.480957248745232,
           0.4774384691787386,
           0.470920583095835,
           0.46137457080401556,
           0.4487609965145625,
           0.43306124550265457,
           0.41431557335585717,
           0.3926597270173314,
           0.36835227162202866,
           0.3417866162117218,
           0.31348464173730756,
           0.2840721777956208,
           0.254239689035204,
           0.22469385452616708,
           0.19610689446229518,
           0.16907041574899268,
           0.14405935714517018,
           0.12140965064078389,
           0.10131091215259813,
           0.08381326560779176,
           0.06884564207619707,
           0.056241796762281436,
           0.04576991626961623,
           0.03716197515876313,
           0.030139775614413205,
           0.024435650423365506,
           0.01980691124416886,
           0.01604410313902057,
           0.012973864550591064,
           0.010457637678819517,
           0.008387634989386251,
           0.006681393982564792,
           0.0052760186483479425,
           0.004122891580470408,
           0.0031833153971544946,
           0.0024252573858657292,
           0.0018211569478238997,
           0.0013466210172834174,
           0.000979772008462518,
           0.0007010100333650516,
           0.000492986176435411,
           0.0003406372345836518,
           0.00023118899560117335,
           0.00015408440261426167,
           0.00010082950309780256,
           6.477274886311232e-05,
           4.0843665171734366e-05,
           2.5278267168937795e-05
          ],
          [
           0.10379157041190903,
           0.11841899087387128,
           0.13343774445494236,
           0.14871962513437728,
           0.16421214896482098,
           0.17995544558703447,
           0.1960858055794079,
           0.21282287979416334,
           0.23043981715827352,
           0.24921838494691104,
           0.26939388408886644,
           0.29109693855490004,
           0.3143005344008462,
           0.33878068995794075,
           0.36409775885781703,
           0.3896027667774777,
           0.4144697652110733,
           0.4377515216413215,
           0.45845258025504293,
           0.4756113750762642,
           0.48838203059475244,
           0.4961068634139968,
           0.49837225388930423,
           0.4950431158116227,
           0.4862741457591143,
           0.4724988501715996,
           0.4543995834224463,
           0.4328632094626565,
           0.4089274548145498,
           0.3837226782275563,
           0.3584129098645227,
           0.3341389410951089,
           0.31196528554261194,
           0.2928322050245232,
           0.2775137923719128,
           0.2665832797859983,
           0.2603871324211618,
           0.25902985694026626,
           0.2623715560623845,
           0.27003989338663326,
           0.2814571998971194,
           0.29588199195215226,
           0.31246236211000045,
           0.3302968539594083,
           0.3484969173159384,
           0.3662442347258266,
           0.3828363989345165,
           0.3977157203449463,
           0.4104782502815423,
           0.4208630900862221,
           0.4287252069107132,
           0.433997697557045,
           0.436651174258457,
           0.4366583007242338,
           0.4339703592117356,
           0.42851026474145315,
           0.4201831267177779,
           0.40890194351268966,
           0.39462300068361345,
           0.37738362106116874,
           0.35733444391267016,
           0.3347594434903065,
           0.3100791797208253,
           0.2838358108457175,
           0.256661572142059,
           0.22923513321572814,
           0.20223202288758724,
           0.1762759096867024,
           0.15189694952006466,
           0.1295018824376643,
           0.10935844967624127,
           0.09159444049670355,
           0.07620966331202546,
           0.06309766198720157,
           0.05207321946397042,
           0.042901615026452136,
           0.035326115770560614,
           0.029091096537681962,
           0.023959276365707348,
           0.019722629622394305,
           0.016207420192326738,
           0.013274424999502656,
           0.010815731330105273,
           0.008749537713663538,
           0.007014223944809567,
           0.005562662438377188,
           0.004357399900110322,
           0.0033670108151979765,
           0.002563657076109591,
           0.0019217032181718103,
           0.0014171364915864773,
           0.0010275133649662775,
           0.0007321790918574624,
           0.0005125626640956585,
           0.00035241614857120903,
           0.0002379303213254283,
           0.00015770874914207444,
           0.00010261644142894168,
           6.553739054442024e-05,
           4.1080726066934094e-05
          ],
          [
           0.0902994168440085,
           0.10392508019007338,
           0.11801968465176989,
           0.13242122387565877,
           0.14702381055902025,
           0.16180009940741225,
           0.17681377612016938,
           0.192218193235774,
           0.20823894181493546,
           0.22514052156813077,
           0.24317995609604107,
           0.26255273107163535,
           0.283338325460946,
           0.3054534505382886,
           0.32862066918090244,
           0.3523583309682387,
           0.37599496632288915,
           0.3987078843539175,
           0.4195822884964336,
           0.43768434724199473,
           0.4521398136177696,
           0.4622092545926669,
           0.4673517562850074,
           0.46727089168846475,
           0.4619393643719477,
           0.45160157039449,
           0.4367558636347775,
           0.41812019259761457,
           0.39658580299324275,
           0.3731638700386389,
           0.34892940771115505,
           0.324965878548141,
           0.30231290812079165,
           0.28191866077826766,
           0.26459792605746296,
           0.25099683994772565,
           0.2415653404204361,
           0.23653875763588114,
           0.23593014651476185,
           0.23953487439550428,
           0.24694843486309193,
           0.2575974311795781,
           0.27078224613605245,
           0.28572829938479455,
           0.3016412902243762,
           0.3177607718910748,
           0.33340610570052936,
           0.3480094920654125,
           0.3611323901460415,
           0.3724640351538898,
           0.3818035684216344,
           0.3890300063812083,
           0.39406635496535697,
           0.39684517541246783,
           0.39728256927128025,
           0.3952658826860248,
           0.39065771960003526,
           0.3833156150603805,
           0.3731235899424215,
           0.3600294085654936,
           0.344080161711038,
           0.3254490188250427,
           0.3044475599580603,
           0.2815206661126575,
           0.25722398636747584,
           0.2321869166248962,
           0.20706628548806255,
           0.18249718153711617,
           0.15904743323679105,
           0.13718126007038167,
           0.1172358322504227,
           0.09941229910200024,
           0.08378068722970254,
           0.07029628315577457,
           0.05882393815557791,
           0.04916625983857415,
           0.04109184409342856,
           0.034360406394972565,
           0.028742688080844715,
           0.024034124286359405,
           0.020062277346992227,
           0.016688829054115926,
           0.013807419396282647,
           0.01133881316978134,
           0.009224813042039903,
           0.007422092374066391,
           0.005896777846061744,
           0.004620248881480278,
           0.003566298499256213,
           0.002709555866908537,
           0.0020249187080434573,
           0.0014876790491684475,
           0.001074031061045859,
           0.000761701470383928,
           0.0005305175536761507,
           0.0003628053933284193,
           0.00024357826249491943,
           0.00016052451005869845,
           0.00010383442728305014,
           6.591845122500224e-05
          ],
          [
           0.07773993786696566,
           0.09030317361434935,
           0.1034206405504605,
           0.11691316539715206,
           0.13063723571863037,
           0.1445102176057401,
           0.15852915520025165,
           0.17277879420538161,
           0.18742556026555468,
           0.20269608398494646,
           0.21884125917493047,
           0.23608937037392005,
           0.2545940725106189,
           0.2743845026326818,
           0.2953252086826904,
           0.3170927360909083,
           0.33917369242102174,
           0.36088621439160284,
           0.38142346727511534,
           0.39991467500345496,
           0.4154967433017719,
           0.42738819571523207,
           0.4349570786571752,
           0.43777564860304613,
           0.4356567538801019,
           0.4286694355641161,
           0.4171339138192894,
           0.40159836371015056,
           0.3828014164509427,
           0.3616250252707607,
           0.33904226746485633,
           0.3160640165318383,
           0.2936874891634377,
           0.2728487336528542,
           0.2543804000257662,
           0.23897573454468038,
           0.22715967027639508,
           0.2192680345294428,
           0.21543608767925596,
           0.21559765032209183,
           0.21949580151187517,
           0.2267054493171655,
           0.2366669994103607,
           0.24872900434317444,
           0.2621962908714444,
           0.27637892164494665,
           0.2906367417751533,
           0.30441441926761226,
           0.317262915051149,
           0.328845148099001,
           0.3389260080218378,
           0.34734941460823626,
           0.35400735280042983,
           0.358807260689109,
           0.36164447703392755,
           0.362385531686459,
           0.36086600869937935,
           0.3569038916634731,
           0.35032625145478785,
           0.3410044575718006,
           0.3288913177024565,
           0.3140530249187983,
           0.2966896091131776,
           0.2771395669323023,
           0.2558670732922726,
           0.2334331157575282,
           0.21045448537350017,
           0.18755635002931442,
           0.16532486114502476,
           0.1442658574467901,
           0.12477439809245737,
           0.10711790481307372,
           0.09143351788237032,
           0.07773826237827114,
           0.06594908639504102,
           0.055908951946150184,
           0.047414972650824484,
           0.040245016046902005,
           0.0341800508031584,
           0.029020606787403626,
           0.0245968187851218,
           0.020772471490144877,
           0.01744414335921322,
           0.014536915709915717,
           0.011998186360984901,
           0.009790963278742883,
           0.007887696072105297,
           0.0062653190727313115,
           0.004901805106237501,
           0.003774218610251306,
           0.002858040204841832,
           0.0021274185112067786,
           0.0015559772170431834,
           0.0011178433839958638,
           0.0007886401444906002,
           0.0005462784232347925,
           0.0003714688613347404,
           0.0002479445572843938,
           0.00016243232204305816,
           0.00010443514421552175
          ],
          [
           0.06620470088575056,
           0.07765809734112795,
           0.08974714642837203,
           0.10229060432412188,
           0.11512339147993873,
           0.128122155589975,
           0.14122772309066117,
           0.1544600743513325,
           0.1679219736115397,
           0.18178867241616897,
           0.19628306461876685,
           0.21163802714119848,
           0.2280500421207757,
           0.2456301239641296,
           0.2643591704558698,
           0.28405484909445394,
           0.30435594057238724,
           0.3247278352016627,
           0.3444899631822847,
           0.362862824146242,
           0.3790294979858351,
           0.39220453759488666,
           0.4017022782830623,
           0.4069969458437729,
           0.4077683756630717,
           0.4039293492966301,
           0.39563308017453364,
           0.3832617875332099,
           0.3673992142851933,
           0.3487911408821695,
           0.32829836675733987,
           0.30684637777398005,
           0.28537521061795107,
           0.26479212982508604,
           0.24592889691442194,
           0.229504806687209,
           0.21609636186308176,
           0.20611441605414244,
           0.1997897144216355,
           0.1971678337992827,
           0.19811440361478677,
           0.20233105559590733,
           0.2093817643976596,
           0.21872816184716362,
           0.22977119004687643,
           0.24189533233783994,
           0.2545108868940275,
           0.26708956251926835,
           0.27918923449351174,
           0.29046502228392085,
           0.3006658034297892,
           0.3096175681061769,
           0.31719724515946396,
           0.323302355461426,
           0.32782269254608853,
           0.330619962189832,
           0.3315199135779349,
           0.3303191805905195,
           0.3268062396893522,
           0.3207931184745301,
           0.312152301702398,
           0.30085211492926434,
           0.2869839506481911,
           0.27077601459164896,
           0.2525905419440059,
           0.23290421264658584,
           0.21227424747028278,
           0.19129488916365314,
           0.17055029452997844,
           0.15057010932528053,
           0.13179320907625788,
           0.11454349293355076,
           0.0990195655837365,
           0.08529802740278272,
           0.07334827175377885,
           0.06305541862087145,
           0.05424742210690029,
           0.046722467727722414,
           0.04027340442566046,
           0.03470694462132238,
           0.02985649651610836,
           0.025588565805908403,
           0.02180352625427803,
           0.01843212188397606,
           0.015429305915231404,
           0.012766977293994107,
           0.010426917418878906,
           0.008394847908395365,
           0.006656113842199373,
           0.005193118619787416,
           0.003984344655055056,
           0.003004610256207434,
           0.0022261355240886767,
           0.0016200003583487959,
           0.0011576480544567935,
           0.0008121891331536825,
           0.0005593664312547717,
           0.0003781356565679585,
           0.0002508852111528264,
           0.00016336204961470155
          ],
          [
           0.055755619488159804,
           0.06607123114589508,
           0.0770909473593671,
           0.0886440155392152,
           0.10055870864108982,
           0.1126862381174954,
           0.12492441296428125,
           0.13723702481532482,
           0.14966491917449748,
           0.16232543079543002,
           0.17539830362619954,
           0.18909821862667003,
           0.203636314926876,
           0.21917521942967963,
           0.2357836874040837,
           0.25339765877573056,
           0.27179415260893763,
           0.29058295235979065,
           0.309218681511648,
           0.3270330133101629,
           0.34328388328224,
           0.3572161704352135,
           0.3681267825874021,
           0.3754266529263178,
           0.378692846736784,
           0.3777056012243041,
           0.3724673328776826,
           0.3632030254296258,
           0.3503435524125888,
           0.3344950829942846,
           0.3163986075746853,
           0.296883801312341,
           0.27682105750894853,
           0.2570747923920333,
           0.23846029347017164,
           0.22170566179390808,
           0.20741990930316048,
           0.19606804199444253,
           0.18795392244822717,
           0.18321173263875304,
           0.1818067983759549,
           0.1835462588553426,
           0.18809949455615382,
           0.1950273717962142,
           0.20381831946725787,
           0.21392819740287813,
           0.22482006909291272,
           0.23599958057203207,
           0.2470418509458238,
           0.25760667952458666,
           0.2674404182894877,
           0.27636485075505496,
           0.2842555400732379,
           0.2910139703886549,
           0.2965390218043186,
           0.3007035980525302,
           0.30334144002835883,
           0.30424738987719674,
           0.30319190943854696,
           0.2999479521892774,
           0.2943258577071912,
           0.2862102610235416,
           0.2755924219943933,
           0.26259200153200085,
           0.24746401992380643,
           0.23058919183077964,
           0.21244856846501775,
           0.19358591910877257,
           0.1745631099061362,
           0.15591459989584844,
           0.13810698488338938,
           0.12150839242402756,
           0.1063707400698667,
           0.09282578019359948,
           0.08089384680286897,
           0.07050261204475661,
           0.06151216152808812,
           0.05374238427898356,
           0.04699899428305432,
           0.041095307046667126,
           0.035867981023582435,
           0.03118608349187296,
           0.02695386490306785,
           0.023108391337458095,
           0.019613625408971658,
           0.016452661268499695,
           0.013619661326184645,
           0.011112695981213016,
           0.00892824964704761,
           0.007057716043366101,
           0.005485831673458348,
           0.004190729641215595,
           0.0031451496442752836,
           0.0023183041526905206,
           0.0016779500942497372,
           0.0011923175810458003,
           0.0008316706884238696,
           0.0005693943000125664,
           0.0003825984315316288,
           0.0002522990484295633
          ],
          [
           0.04642286861404094,
           0.05559583075508531,
           0.06552210629677366,
           0.07605087604270926,
           0.08701648498568781,
           0.0982592565394315,
           0.10964830819592726,
           0.12110294486665366,
           0.13260878120542183,
           0.1442249484620579,
           0.1560796482757646,
           0.16835286590194962,
           0.18124704876038925,
           0.19494867586990636,
           0.20958550863705502,
           0.22518555213674998,
           0.24164408551643096,
           0.25870441219687756,
           0.2759562985124399,
           0.29285366563184456,
           0.30875037126160393,
           0.32295033005020135,
           0.3347662149886053,
           0.34357988318680455,
           0.3488976281061608,
           0.35039432572278156,
           0.3479422824846193,
           0.34162275398375697,
           0.3317202891614686,
           0.31870191225863587,
           0.30318444002345113,
           0.2858938471895886,
           0.26762058669972244,
           0.24917430268173146,
           0.2313406620138457,
           0.21484229080919492,
           0.20030519897168478,
           0.18823168908905985,
           0.17898056497634815,
           0.1727553955345825,
           0.16960152462960978,
           0.1694123184491356,
           0.1719447149401683,
           0.17684345663993123,
           0.18367249869509306,
           0.19195111491158556,
           0.20119136011672353,
           0.21093299351195405,
           0.22077191032726853,
           0.23037868574527123,
           0.2395050171841542,
           0.2479775420919653,
           0.2556804677220599,
           0.26253034485263,
           0.2684477845641815,
           0.2733316340445677,
           0.27704088974340624,
           0.27938840464554376,
           0.28014840925896456,
           0.27907735872028655,
           0.27594510177290293,
           0.27057132438515324,
           0.2628610552469186,
           0.2528329691906665,
           0.2406353055503301,
           0.22654622623206863,
           0.21095798908329833,
           0.19434692652961902,
           0.1772334227009034,
           0.16013749948794498,
           0.14353604667960024,
           0.1278271544032397,
           0.11330560190870884,
           0.10015163342104749,
           0.08843307979779275,
           0.07811902107849499,
           0.06910180924464285,
           0.06122354370954066,
           0.05430304386055292,
           0.04815990487161587,
           0.0426331813645216,
           0.0375934028899523,
           0.032947772211009245,
           0.028639356790163505,
           0.024641741922720017,
           0.02095092661607845,
           0.017576230924744973,
           0.014531714988604278,
           0.011829181801155999,
           0.009473349474608634,
           0.007459323131593628,
           0.005772134870413987,
           0.0043878854460652345,
           0.0032759174296470503,
           0.00240145821432313,
           0.0017282603145647318,
           0.0012208995006061155,
           0.0008465350596428124,
           0.0005760655205662884,
           0.0003847122125727168
          ],
          [
           0.03820528954325421,
           0.04625489991729758,
           0.05508438254789868,
           0.06456898548123126,
           0.0745589834557483,
           0.08489651224281639,
           0.09543599142222793,
           0.10606545366779105,
           0.11672539497104682,
           0.1274215442484977,
           0.1382283572628476,
           0.14928109809224183,
           0.16075598146752548,
           0.17283978406495726,
           0.1856922698550491,
           0.19940635339057886,
           0.21397181906511076,
           0.22924840298805513,
           0.2449530657577275,
           0.26066445967432966,
           0.27584520956685044,
           0.2898800826045356,
           0.3021258540911025,
           0.3119670654202069,
           0.3188711702643136,
           0.32243685238465797,
           0.3224304651902586,
           0.3188073286048298,
           0.31171667274373693,
           0.30149097920349865,
           0.2886220417425231,
           0.2737270679064806,
           0.25750852923541184,
           0.24071132377079726,
           0.22408031111868068,
           0.2083206205508758,
           0.1940624986709841,
           0.18183197527271847,
           0.1720283228086933,
           0.16490912669433827,
           0.16058367510294805,
           0.1590152012236004,
           0.16003216730151765,
           0.16334821498797586,
           0.168589635238882,
           0.17532832054138603,
           0.18311730124248032,
           0.19152532005771897,
           0.2001666465742425,
           0.20872261526202252,
           0.21695224214406014,
           0.22469068285463803,
           0.2318360665395349,
           0.2383271033581385,
           0.24411548727854088,
           0.24913817315593462,
           0.2532948444481204,
           0.25643518883969296,
           0.2583590231945138,
           0.25883009626336656,
           0.2576019306106862,
           0.25445179955889446,
           0.24921730598461483,
           0.24182936106761785,
           0.23233579383283218,
           0.22091128362763643,
           0.20785152501767507,
           0.19355209337829515,
           0.1784749098858909,
           0.16310707740874858,
           0.14791786832008408,
           0.13331966233680104,
           0.11963771762066891,
           0.10709203556720966,
           0.09579258006274273,
           0.08574710179572044,
           0.07687912792160677,
           0.06905254568013114,
           0.06209875060409071,
           0.05584253271620437,
           0.0501236158764933,
           0.04481185226139554,
           0.039815283674350055,
           0.03508140604801962,
           0.030592852609186816,
           0.026359251285447735,
           0.02240719116679947,
           0.01877009206439641,
           0.015479395668171452,
           0.012557993163130388,
           0.010016278062901948,
           0.00785075115594442,
           0.006044763697351515,
           0.0045707891465245456,
           0.003393557151942527,
           0.002473438988818435,
           0.0017696027803793223,
           0.0012426193896325393,
           0.0008563614089540805,
           0.0005791738655051076
          ],
          [
           0.031072927297143605,
           0.038041496423294775,
           0.04579306412964613,
           0.054231922494292914,
           0.06323100225423141,
           0.07264437400831285,
           0.08232426755961657,
           0.09214071579057756,
           0.10200107293896675,
           0.11186613477294037,
           0.12175956963895875,
           0.13176795077839984,
           0.14202984999836402,
           0.15271407661062184,
           0.1639889783056848,
           0.17598644425354212,
           0.18876553356580444,
           0.2022812175256606,
           0.216363412233288,
           0.23071028875882904,
           0.24489794765112544,
           0.2584062417347519,
           0.27065821591396544,
           0.28106870019824587,
           0.28909636252539045,
           0.29429318348186645,
           0.29634586794417345,
           0.29510500674610035,
           0.2905995688996954,
           0.28303620759115894,
           0.2727845820427031,
           0.26035119170491877,
           0.24634496640998552,
           0.23143805972780165,
           0.2163250612641009,
           0.2016833472168815,
           0.1881367076156074,
           0.1762238677094673,
           0.16637313786404398,
           0.15888418339932775,
           0.15391774156972415,
           0.15149392935308523,
           0.15149948308655484,
           0.15370378103423799,
           0.15778281073124042,
           0.1633494098811643,
           0.1699872511886514,
           0.17728532010488773,
           0.18486922520306664,
           0.19242573404831168,
           0.19971753055883557,
           0.20658633750797634,
           0.21294412606996885,
           0.21875392608178035,
           0.2240034642110104,
           0.22867617528501288,
           0.2327247742649824,
           0.23605236210578306,
           0.23850493620965738,
           0.2398773242859787,
           0.23993225537589408,
           0.23842992772088403,
           0.23516346537009022,
           0.22999445215455183,
           0.22288253408506975,
           0.21390394056729128,
           0.20325553932878118,
           0.19124338527037713,
           0.17825721942191766,
           0.16473457261668129,
           0.15111965198659028,
           0.13782280066521832,
           0.1251859648802223,
           0.11345839892601328,
           0.10278505063556136,
           0.09320804271227838,
           0.08467975413609115,
           0.07708451144921202,
           0.07026501977068388,
           0.06404946932527651,
           0.058275692896668105,
           0.052809671761646755,
           0.047556881380994405,
           0.04246620716025412,
           0.037527244329682866,
           0.03276257993601931,
           0.028217066763345868,
           0.023946139359138346,
           0.02000495259127741,
           0.016439644295884865,
           0.013281451660770459,
           0.01054385428035804,
           0.008222458574350848,
           0.006297027479357468,
           0.004734909640379153,
           0.0034951176727250465,
           0.0025324094856405527,
           0.0018008955198338963,
           0.0012568847498490032,
           0.0008608586541044537
          ],
          [
           0.02497119387845775,
           0.03092113293267197,
           0.037635160364272176,
           0.045046840634220695,
           0.05305542865718291,
           0.06153412854584134,
           0.07034321417204055,
           0.07934687021458421,
           0.08843171508317561,
           0.09752425654784652,
           0.10660418716908267,
           0.11571058819224256,
           0.12493883571062113,
           0.13442724322718982,
           0.14433406932450943,
           0.15480721365422123,
           0.1659504139739205,
           0.17779074506703593,
           0.190252482162348,
           0.20314182603040715,
           0.2161456463715606,
           0.22884548667721177,
           0.24074590418326977,
           0.25131416246358623,
           0.26002669998290984,
           0.26641692278921775,
           0.2701188300782735,
           0.2709017356247104,
           0.2686927125221694,
           0.2635850851810545,
           0.25583301288380356,
           0.24583368101809652,
           0.23409965456225637,
           0.2212244825285644,
           0.20784471183265546,
           0.19460119679776836,
           0.18210213674627,
           0.17088979051593006,
           0.16141240821425376,
           0.15400262524934996,
           0.1488633535757085,
           0.1460620045750991,
           0.1455335942800239,
           0.1470928381876685,
           0.1504547076635396,
           0.15526212225636377,
           0.16111858500292145,
           0.16762277430642084,
           0.17440155409673902,
           0.18113771189832303,
           0.18758909401759036,
           0.19359671183898886,
           0.19908077779809494,
           0.20402532644003316,
           0.20845383289066885,
           0.21239975916436227,
           0.21587694581810224,
           0.21885499670627942,
           0.22124417198242255,
           0.22289285723568877,
           0.22359862231231714,
           0.22313156031652012,
           0.22126641560694807,
           0.2178183724307165,
           0.2126765975848335,
           0.20582987037309636,
           0.1973798595351307,
           0.18753960140354925,
           0.17661713441993376,
           0.16498661976231432,
           0.15305120899668742,
           0.14120308571109172,
           0.12978634044747536,
           0.11906764527658965,
           0.10921824882293082,
           0.10030890791792212,
           0.09231735923074905,
           0.08514615295524244,
           0.07864738970068794,
           0.07265027837436398,
           0.06698749692474293,
           0.06151700085551898,
           0.05613700875827462,
           0.05079317442972062,
           0.04547820326316956,
           0.04022519504065291,
           0.03509666896926352,
           0.03017149973651778,
           0.02553188937982834,
           0.021252100861106647,
           0.017390101655279957,
           0.013982633743948024,
           0.01104364946064255,
           0.008565608757366934,
           0.006522862209427525,
           0.004876247748280586,
           0.003578080678498424,
           0.0025768712382898667,
           0.0018213114997954276,
           0.001263288136029339
          ],
          [
           0.019826079570595116,
           0.02483578202884927,
           0.030571637371387454,
           0.036994534373532915,
           0.044031001748128455,
           0.051577648942412006,
           0.059510337588210456,
           0.06769759805444932,
           0.07601695714611217,
           0.0843720534268238,
           0.09270785640660693,
           0.10102113230698152,
           0.10936361868879925,
           0.11783620555338503,
           0.12657369181225767,
           0.13572121319146854,
           0.14540496574288012,
           0.1557010938360899,
           0.1666073160569613,
           0.17802185384928135,
           0.18973345888660362,
           0.20142490204977329,
           0.21269041549484793,
           0.22306558369513943,
           0.23206639959066994,
           0.2392329356837037,
           0.24417252305580434,
           0.2465975419359864,
           0.24635382048887527,
           0.2434370116340708,
           0.2379959016860991,
           0.2303231244119193,
           0.2208349861899002,
           0.21004291996573063,
           0.1985194506864161,
           0.18686153897241098,
           0.17565389904884715,
           0.16543450425828377,
           0.15666411728984062,
           0.1497013779677921,
           0.14478475120712964,
           0.14202242961169048,
           0.14139101726216738,
           0.14274341336248775,
           0.14582571886274495,
           0.15030221279799574,
           0.15578655782367754,
           0.16187652246135972,
           0.16818881225211305,
           0.17439024860344976,
           0.18022165592892916,
           0.18551148243027207,
           0.19017736494179466,
           0.1942154308134581,
           0.1976788956785581,
           0.20064918814069335,
           0.20320411632943508,
           0.20538822969968887,
           0.20719035704697125,
           0.20853228728788756,
           0.20927082538264996,
           0.20921326700729936,
           0.20814405898762603,
           0.20585845076082007,
           0.20219765628099776,
           0.19707968224260386,
           0.1905206169021247,
           0.18264270797804477,
           0.17366771516706228,
           0.16389641633579505,
           0.15367735256077938,
           0.14336953662364707,
           0.1333046582869421,
           0.12375419378472567,
           0.11490583400285209,
           0.10685200222060894,
           0.09959125393242,
           0.093041389118832,
           0.08706148181106631,
           0.08147897863352493,
           0.07611765462051727,
           0.07082253106168315,
           0.06547873390380113,
           0.060022500425004656,
           0.054443888951683055,
           0.048781983238818216,
           0.043114329358389165,
           0.037542890776887494,
           0.03217893044921552,
           0.027128975268342688,
           0.022483490890531692,
           0.01830922464019904,
           0.01464549209013019,
           0.011504097475423527,
           0.00887216027340177,
           0.006716898475368344,
           0.004991383108664447,
           0.0036403900053927655,
           0.00260568030132802,
           0.0018302854079851737
          ],
          [
           0.015549835736312285,
           0.019708921025495717,
           0.024541226065788485,
           0.030031482830028912,
           0.0361322403818056,
           0.042765127522015424,
           0.04982637057093969,
           0.05719660344219457,
           0.06475427046947015,
           0.07239114452524537,
           0.08002781045557561,
           0.08762655295530315,
           0.0951990712310679,
           0.10280689485831238,
           0.1105532864885354,
           0.11856668229873227,
           0.12697714870216478,
           0.13588867595591342,
           0.14535112801127845,
           0.15533610864477346,
           0.16572076359601362,
           0.17628261749032437,
           0.18670707304310014,
           0.19660741722412825,
           0.20555538622862557,
           0.2131188422676844,
           0.21890215565845234,
           0.22258460408188455,
           0.22395250529979757,
           0.22292177313747158,
           0.2195489196850658,
           0.21402996828823379,
           0.20668805517248037,
           0.19795150752201449,
           0.18832480751793687,
           0.1783550936869025,
           0.16859679516557843,
           0.15957676177228416,
           0.1517619617371651,
           0.14553155213366817,
           0.14115491159133023,
           0.1387770316513209,
           0.13841242334096263,
           0.13994832875091429,
           0.14315747307754395,
           0.14771983677183595,
           0.15325201773384384,
           0.1593417989059084,
           0.16558469184014263,
           0.1716186640399356,
           0.17715313148666398,
           0.1819887086727935,
           0.18602517515324485,
           0.18925656017744188,
           0.19175398850489722,
           0.19363871783107653,
           0.19504933990277556,
           0.1961081339413987,
           0.19689183891746234,
           0.19741155006876426,
           0.19760508716625844,
           0.19734321677237632,
           0.19644884964026002,
           0.19472615968421694,
           0.1919948661657615,
           0.18812399707845937,
           0.1830594854952701,
           0.17684094585938812,
           0.16960476196327243,
           0.1615728766879562,
           0.1530290060548579,
           0.14428600061193933,
           0.13564940920075605,
           0.12738275755962017,
           0.11967959406518383,
           0.11264609759590131,
           0.10629624097655353,
           0.10055948962571543,
           0.09529913520797341,
           0.0903379167457598,
           0.08548676866844249,
           0.08057243474317537,
           0.07546025023742049,
           0.07006946697599634,
           0.06437985276351177,
           0.05842969008243653,
           0.05230650322579568,
           0.04613269104501774,
           0.04004864806140049,
           0.03419591912393882,
           0.028702525424422885,
           0.02367194619129952,
           0.019176485218184196,
           0.015255030777021356,
           0.011914636766996802,
           0.009134973702950314,
           0.00687453582970113,
           0.005077521551778614,
           0.0036804784168879864,
           0.002618059591215686
          ],
          [
           0.012046612650507422,
           0.015451050444092802,
           0.01946525584474193,
           0.024093424850599697,
           0.029311271719120943,
           0.0350648564005957,
           0.04127297877896388,
           0.04783355235129523,
           0.05463378079733799,
           0.061563261458547514,
           0.06852844467245964,
           0.0754663271412857,
           0.08235499005500951,
           0.08921871515844491,
           0.09612596890217015,
           0.10317949852171457,
           0.11049901005779302,
           0.11819820109905405,
           0.1263590661096912,
           0.1350071523543476,
           0.14409164773795552,
           0.15347375175712505,
           0.16292575771992587,
           0.17214181334985174,
           0.18075966943822255,
           0.18839115329531012,
           0.19465787913893812,
           0.19922802504177475,
           0.2018499525820794,
           0.20237898845417146,
           0.20079468929290517,
           0.19720716545466066,
           0.19185232063299193,
           0.18507697603576057,
           0.17731566181403424,
           0.16906133043277632,
           0.16083241150422217,
           0.15313857405790107,
           0.1464473973324715,
           0.1411539642835996,
           0.13755522848660526,
           0.13583085632335376,
           0.1360320574919529,
           0.138079609669096,
           0.14177178633434603,
           0.146802176062047,
           0.1527864610502966,
           0.1592961917816297,
           0.16589659916175953,
           0.17218470293550697,
           0.1778235809383827,
           0.18256879292139822,
           0.1862836665195216,
           0.18894141629312508,
           0.19061374220197885,
           0.19144741479372324,
           0.19163211678179562,
           0.19136417906215097,
           0.19081156955343437,
           0.1900854033730253,
           0.1892223101819462,
           0.1881803323230441,
           0.1868488843714858,
           0.18507102763274566,
           0.18267428757457355,
           0.17950482247981148,
           0.17545919324222709,
           0.17050839307181404,
           0.1647101052960408,
           0.15820713882286958,
           0.15121229586039617,
           0.14398215270916898,
           0.13678400056877354,
           0.12986120891795555,
           0.12340238998936107,
           0.1175189731159768,
           0.11223430972176979,
           0.10748550687268582,
           0.10313717231156644,
           0.09900448482459959,
           0.09488175505317321,
           0.09057208073879527,
           0.08591386566736584,
           0.0808007767568934,
           0.07519297225420778,
           0.0691189003849544,
           0.06266838584342413,
           0.055978870171769494,
           0.04921740055054751,
           0.04256120785256099,
           0.03617950606199828,
           0.030218580982834725,
           0.024791460897682666,
           0.019972632082982278,
           0.015797516785835238,
           0.012265869998945772,
           0.009347923847364546,
           0.006992015410283464,
           0.0051325372442962225,
           0.0036972880808842437
          ],
          [
           0.009217636680047738,
           0.011965177438718411,
           0.015252962453454828,
           0.01909994033717134,
           0.023501141411976113,
           0.028424821019204082,
           0.03381238696618996,
           0.03958175641041564,
           0.045634357554626026,
           0.05186541231461979,
           0.05817648761711951,
           0.06448869933411813,
           0.0707545240633041,
           0.07696603980675157,
           0.08315765783846073,
           0.08940204158056568,
           0.09579887312625866,
           0.1024572871262336,
           0.10947395155535691,
           0.11690971999307494,
           0.12476831642148178,
           0.1329805108154501,
           0.14139666685316515,
           0.14978946462978604,
           0.15786719148269296,
           0.16529648859779117,
           0.1717320942239325,
           0.17685015765658368,
           0.18038125670448737,
           0.18213937739026864,
           0.18204374487687372,
           0.18013138091188133,
           0.17655941076858886,
           0.1715972563498413,
           0.16560977734522944,
           0.1590330729567855,
           0.15234502218415708,
           0.14603277298844636,
           0.1405593762326659,
           0.13633168565015769,
           0.13367156657329546,
           0.132792382023576,
           0.13378261421782153,
           0.13659825837827272,
           0.1410652138628768,
           0.14689224065740147,
           0.15369414539744983,
           0.16102377600632117,
           0.1684102693606406,
           0.17539999114953578,
           0.18159592554548779,
           0.1866910845512832,
           0.19049192017558553,
           0.19292875151209976,
           0.19405177097284698,
           0.19401307514232718,
           0.19303710499889745,
           0.19138357162976619,
           0.1893080980486643,
           0.18702620643753406,
           0.18468581878934193,
           0.1823521544715855,
           0.18000698114914218,
           0.17756190554127257,
           0.1748831485097377,
           0.17182341286715053,
           0.16825533852235597,
           0.1641008437520121,
           0.15935140997882988,
           0.15407594895526913,
           0.14841501921974198,
           0.14256246224339636,
           0.13673761079400149,
           0.13115273182740905,
           0.12598106118823912,
           0.12133057390655301,
           0.11722757881223396,
           0.11361253894576892,
           0.11034850864935564,
           0.10724059365167712,
           0.10406320870688217,
           0.1005908769084807,
           0.0966280172061175,
           0.09203360089427284,
           0.08673759937635922,
           0.08074757686554843,
           0.07414533773932458,
           0.0670749568543104,
           0.05972458910731343,
           0.05230504076966335,
           0.04502815510376601,
           0.03808767551861877,
           0.03164452783143862,
           0.02581757334214289,
           0.020679993092070838,
           0.016260709674294372,
           0.012549727091191376,
           0.009506006769058325,
           0.007066483397745291,
           0.005155004704885329
          ],
          [
           0.006965633113817894,
           0.009151853717236973,
           0.011806772536439568,
           0.014959504690119677,
           0.018620105655126416,
           0.022775718065747425,
           0.027388721814199216,
           0.03239764048067385,
           0.03772127914139948,
           0.043266128152232616,
           0.04893651182714066,
           0.05464637412682699,
           0.06033108598393129,
           0.06595734819530165,
           0.07152924937582684,
           0.0770888761775209,
           0.08271055531836728,
           0.08848875479503644,
           0.09452074128521021,
           0.10088609665203531,
           0.10762594601454363,
           0.11472508308363946,
           0.12210000398594324,
           0.1295951790840683,
           0.13698880017634166,
           0.14400791472840932,
           0.15035152195501994,
           0.15571908110397087,
           0.1598411496514475,
           0.1625086289714686,
           0.1635973528072325,
           0.1630854250182516,
           0.16106164829036398,
           0.15772440875155586,
           0.15337133093383892,
           0.14838077904238708,
           0.14318680513952461,
           0.13824944766191508,
           0.13402242491463728,
           0.13092032372105253,
           0.1292874135423396,
           0.12937024211944562,
           0.13129616248745635,
           0.13505983468402166,
           0.14051945192976145,
           0.14740388661699086,
           0.15533110615760606,
           0.16383710910466578,
           0.1724133881892053,
           0.180549712017539,
           0.18777803915038033,
           0.1937128406390467,
           0.19808316572285348,
           0.20075251091748525,
           0.2017239065089622,
           0.2011294641112121,
           0.19920568538711828,
           0.19625780629062994,
           0.1926180249452851,
           0.18860336265740882,
           0.18447896201987365,
           0.18043179268969983,
           0.17655812113418554,
           0.17286594835926353,
           0.1692912712461016,
           0.1657248628316154,
           0.16204465463459114,
           0.15814801134430076,
           0.15397834786045544,
           0.14954162003099108,
           0.14491003331619848,
           0.14021254219466336,
           0.1356139727505541,
           0.13128650703958664,
           0.12737850427555422,
           0.123986007024526,
           0.12113175050169384,
           0.11875517598664616,
           0.11671509235960649,
           0.11480456295142073,
           0.11277567088394942,
           0.11037034768976911,
           0.10735265770771295,
           0.1035379087138454,
           0.09881466545945954,
           0.09315701418102998,
           0.08662601484177317,
           0.07936090085688903,
           0.07156197820664703,
           0.06346813577406885,
           0.05533229907742214,
           0.04739803665903114,
           0.03987995134021431,
           0.03294961165329696,
           0.026727784812583272,
           0.021282795655094406,
           0.01663409135097543,
           0.01275961811266334,
           0.009605432098366293,
           0.007096038955340706
          ],
          [
           0.005198326231604413,
           0.006913477316912516,
           0.009027162340161196,
           0.011574533379857544,
           0.014576393833025983,
           0.01803492649047956,
           0.021930715462350817,
           0.0262218235821914,
           0.030845540487059668,
           0.03572311437791468,
           0.04076734193694039,
           0.045892370270042504,
           0.05102454732046113,
           0.05611274692955749,
           0.06113639471070026,
           0.06610951008104639,
           0.07107949098053076,
           0.07612007285635083,
           0.08131880031108257,
           0.08676031361296811,
           0.09250760017519777,
           0.09858392575529568,
           0.10495831511614964,
           0.11153714103028435,
           0.11816363342602379,
           0.12462605024585406,
           0.13067403404607653,
           0.1360415172695972,
           0.14047362493725962,
           0.14375449537386067,
           0.1457328594036187,
           0.1463425629757798,
           0.14561589070817024,
           0.14368840585050027,
           0.14079491345059506,
           0.13725695113021677,
           0.13346283907194223,
           0.12984175975078288,
           0.1268336210094091,
           0.1248566432228137,
           0.12427476071552374,
           0.12536706879853932,
           0.1283016653547085,
           0.13311626892009762,
           0.1397078532320512,
           0.1478331296295941,
           0.1571209740876932,
           0.1670968370498425,
           0.17721787168684577,
           0.18691612649728556,
           0.1956458838163725,
           0.2029303181677455,
           0.20840230176485933,
           0.21183453088615095,
           0.21315521144488925,
           0.21244722695374907,
           0.20993080312821402,
           0.20593187989436992,
           0.20084036417620182,
           0.1950638452022994,
           0.18898296414690954,
           0.1829143200629824,
           0.17708559114332068,
           0.17162563043925,
           0.16656995784588585,
           0.16187969016211393,
           0.1574699153427638,
           0.1532421584247549,
           0.14911512538106572,
           0.1450484162618783,
           0.1410552753907987,
           0.13720245165120123,
           0.13359752889558602,
           0.13036626451824332,
           0.12762417719459135,
           0.1254475743136079,
           0.12384926149970575,
           0.12276334288123059,
           0.12204196398180797,
           0.12146485049792119,
           0.12076040382825612,
           0.11963528075837525,
           0.11780810625340356,
           0.11504243472046984,
           0.11117434083444461,
           0.10613100132695472,
           0.09993812169526783,
           0.0927157890450352,
           0.08466399575360899,
           0.07604041406931265,
           0.06713382421036465,
           0.0582368289469887,
           0.049621156813098026,
           0.0415180869212141,
           0.03410550231373445,
           0.027501995002426314,
           0.021767482311555772,
           0.016909078758002724,
           0.012890563780958398,
           0.009643692423112717
          ],
          [
           0.003830962419611763,
           0.00515769106758493,
           0.00681680476268166,
           0.008846024546490156,
           0.011272976263145655,
           0.014110945241784679,
           0.017355329542225503,
           0.020981491597050202,
           0.024944665605470918,
           0.029182399838204285,
           0.03361969728723684,
           0.03817659267259056,
           0.04277742748954273,
           0.04736064130413214,
           0.05188758214206027,
           0.05634873920728543,
           0.06076597627196302,
           0.06518980609534135,
           0.06969145046969026,
           0.07435027690552569,
           0.07923805051107943,
           0.08440213157718324,
           0.0898501447749397,
           0.09553865012080193,
           0.10136793336356624,
           0.10718425635799694,
           0.1127898883274676,
           0.11796014517972589,
           0.12246567730391451,
           0.12609752353511974,
           0.12869209231394663,
           0.13015326996805093,
           0.1304692467999431,
           0.12972229365031984,
           0.12809048564196696,
           0.12584113093038748,
           0.1233163280677577,
           0.12091160265484452,
           0.11904896867187735,
           0.11814606374214788,
           0.11858327222508398,
           0.12067100967962026,
           0.12461959227551359,
           0.13051430341241244,
           0.13829830646070013,
           0.14776583107010144,
           0.15856749255331085,
           0.1702286530336298,
           0.1821804406239984,
           0.19380153722551144,
           0.20446733079757357,
           0.21360175298410533,
           0.2207263354540776,
           0.22550091370118627,
           0.22775108323559096,
           0.2274789409713046,
           0.22485566177760286,
           0.22019679041161105,
           0.21392342481081028,
           0.20651436710253548,
           0.19845551240319326,
           0.19019302704629637,
           0.1820961764109195,
           0.1744340958890384,
           0.16736859987699146,
           0.1609626424636755,
           0.1552016776039583,
           0.15002329554612823,
           0.14534943323352015,
           0.14111533382184427,
           0.13729026875264158,
           0.13388667932183307,
           0.1309565550701721,
           0.12857617263905446,
           0.1268223810658936,
           0.12574509520727772,
           0.12534131010063,
           0.12553568103684726,
           0.12617158951070281,
           0.12701484049658474,
           0.12777002417372643,
           0.12810748825527613,
           0.12769715520835703,
           0.12624435796360703,
           0.12352261413510647,
           0.11939882407023504,
           0.11384763258665154,
           0.10695339581196972,
           0.09890003722101996,
           0.08995075011894241,
           0.08042074891709435,
           0.07064692555711793,
           0.060958284570901786,
           0.051650479062178005,
           0.0429668082292081,
           0.03508687234434671,
           0.02812292571446733,
           0.02212299981997105,
           0.017079203893543216,
           0.012939293107589893
          ],
          [
           0.002787895537998157,
           0.0037998233710663876,
           0.005083839737822413,
           0.006677520338609615,
           0.008611957679132726,
           0.01090785236315445,
           0.013571840814389259,
           0.016593654687636752,
           0.019944739014283917,
           0.02357887938150147,
           0.027435187085397154,
           0.031443471991044664,
           0.035531630090256866,
           0.039634247430423784,
           0.04370125413177351,
           0.04770523653038012,
           0.05164600386877152,
           0.05555124864443634,
           0.05947263120401002,
           0.06347730235997134,
           0.06763564930239514,
           0.07200677658257623,
           0.0766237772505686,
           0.08148109468827987,
           0.08652615772840687,
           0.0916569901831281,
           0.09672671911495748,
           0.10155495853288972,
           0.10594508282215619,
           0.10970558318850389,
           0.11267314528454747,
           0.11473486634646608,
           0.11584714946251015,
           0.11604921470644669,
           0.11546975447234517,
           0.114325922677631,
           0.1129144886683071,
           0.11159554694762638,
           0.11076963822132678,
           0.11084952897044975,
           0.11222825831806424,
           0.1152454282786007,
           0.12015409155129315,
           0.12709093890692846,
           0.13605271918467857,
           0.14688182322240004,
           0.15926361431178931,
           0.1727373157232919,
           0.18672106580123013,
           0.20055021061287187,
           0.213526203521644,
           0.22497187158085113,
           0.23428757056551253,
           0.24100213918889002,
           0.24481275446574358,
           0.24560883726502214,
           0.24347696805783614,
           0.23868611671617446,
           0.23165502990353976,
           0.2229059671200382,
           0.21301075966932254,
           0.20253609525157626,
           0.1919948481766091,
           0.18180918820436456,
           0.17228928051341824,
           0.163628942059333,
           0.15591703722335465,
           0.14916108917899062,
           0.14331791498792604,
           0.13832531597157094,
           0.1341290752673101,
           0.13070067201551547,
           0.1280430040885892,
           0.126183690821577,
           0.12515781599945144,
           0.12498388638559746,
           0.12563800744832032,
           0.12703162031661183,
           0.12899755780276959,
           0.1312877747021882,
           0.13358413698524887,
           0.1355214572963282,
           0.1367199152868491,
           0.13682244402395585,
           0.1355318501483624,
           0.1326424835343445,
           0.12806214741536565,
           0.12182146550818783,
           0.11406981629817405,
           0.10505887433399178,
           0.095116445783778,
           0.08461440372286669,
           0.07393498263671273,
           0.06343947392436922,
           0.05344258397017451,
           0.04419456667270781,
           0.03587195430100673,
           0.02857650571991241,
           0.022341042138121606,
           0.017140247908704085
          ],
          [
           0.0020033413355932516,
           0.002764409276030589,
           0.003744213547033524,
           0.004978224987497845,
           0.006498325222155883,
           0.008329420896949758,
           0.01048596545164863,
           0.012968860059266356,
           0.015763283512953297,
           0.018837999622953287,
           0.022146586154157887,
           0.025630813271480805,
           0.029226085837593594,
           0.032868491579493016,
           0.03650262706622686,
           0.04008907984905464,
           0.04361030152959118,
           0.047073669140087204,
           0.05051082435262718,
           0.05397288162654617,
           0.05752174202054408,
           0.06121843632597192,
           0.065110026951739,
           0.06921700416108328,
           0.07352322937964016,
           0.07797026632234404,
           0.0824574196887298,
           0.08684804930137842,
           0.09098186621268724,
           0.0946920865976358,
           0.09782564940639166,
           0.10026428920121294,
           0.10194413807256238,
           0.10287169514185267,
           0.10313438723044406,
           0.10290446187481647,
           0.10243551525335531,
           0.1020514963144242,
           0.10212851443891069,
           0.10307021881399633,
           0.10527794596748745,
           0.10911728325696562,
           0.11488318407562463,
           0.12276626659199465,
           0.13282335370949572,
           0.1449555484558354,
           0.15889705124972933,
           0.17421739909278328,
           0.19033878688731823,
           0.2065686536034352,
           0.22214592111427808,
           0.2362973961906531,
           0.24829918258991207,
           0.25753680539958806,
           0.26355737671336604,
           0.266107674783068,
           0.2651534650971989,
           0.26087759923875686,
           0.2536570836651444,
           0.2440220210144268,
           0.2326016710508006,
           0.22006448515073462,
           0.20705957994307253,
           0.19416663529301922,
           0.1818597097502518,
           0.17048820693910757,
           0.1602755647357702,
           0.15133360052062933,
           0.14368824412096798,
           0.1373109605349284,
           0.1321497110973063,
           0.1281538668646133,
           0.12528894918262684,
           0.12353916526518419,
           0.12289807000479905,
           0.123349920930337,
           0.12484603066256483,
           0.12728137715225132,
           0.13047675585528073,
           0.13417085584685545,
           0.1380249748186997,
           0.14164094493619214,
           0.14459059052586243,
           0.1464530631174717,
           0.1468550321054525,
           0.14550817352887585,
           0.14223877026301157,
           0.13700542955224115,
           0.12990271239370083,
           0.12115053208489278,
           0.11107116164511494,
           0.10005727153475623,
           0.08853537173582843,
           0.07692925535772126,
           0.06562757005674745,
           0.05495863063714074,
           0.04517425858980583,
           0.03644304342843624,
           0.028852192264402266,
           0.02241623061686517
          ],
          [
           0.00142144873752258,
           0.0019858967176549012,
           0.002723123350630925,
           0.0036652253053781874,
           0.00484289273105251,
           0.006282629800706084,
           0.008003673991921152,
           0.010014961360950744,
           0.012312586000953358,
           0.014878250771584662,
           0.017679176683384694,
           0.020669812683827515,
           0.023795464806822993,
           0.026997663423928522,
           0.030220751194828106,
           0.03341886132543796,
           0.036562233000330395,
           0.03964174001828396,
           0.042670631155509245,
           0.04568280516751281,
           0.04872743828790904,
           0.051860377536869555,
           0.05513331047436883,
           0.05858221174108272,
           0.06221685037237681,
           0.06601315323976971,
           0.06990994057809058,
           0.07381101437824689,
           0.07759287211621088,
           0.08111755075812675,
           0.08424940101484779,
           0.08687405422603535,
           0.08891754160426832,
           0.09036347748342952,
           0.09126639776850734,
           0.09175969140136404,
           0.09205700267901523,
           0.09244645120910101,
           0.09327747621217963,
           0.09494055844734649,
           0.09784052985313689,
           0.10236468242886126,
           0.1088474552713307,
           0.11753409727135931,
           0.12854630748793328,
           0.14185333026494606,
           0.15725218001787214,
           0.17436044423488983,
           0.19262435754915233,
           0.21134353126966104,
           0.22971194646033147,
           0.2468727729679459,
           0.26198255241658835,
           0.27427861724157826,
           0.2831426313837666,
           0.28815306984783207,
           0.2891204042915081,
           0.2861006605318397,
           0.2793856222941862,
           0.2694708995772921,
           0.2570059126359132,
           0.24273212184387422,
           0.2274172010671835,
           0.21179309599316595,
           0.19650500089849093,
           0.1820763862218455,
           0.16889263118590528,
           0.15720297865226227,
           0.14713788229907124,
           0.13873676514487873,
           0.13198005267176482,
           0.1268192314276483,
           0.12319959316326455,
           0.12107207190325082,
           0.12039285506073708,
           0.12111186143568364,
           0.12315332624060625,
           0.1263932632624942,
           0.1306392390684906,
           0.1356175902863157,
           0.1409720000486801,
           0.14627543358486195,
           0.1510551438555789,
           0.1548281878286129,
           0.15714303079681535,
           0.1576216768475609,
           0.15599653689483584,
           0.15213695832388818,
           0.14606185342552044,
           0.13793690106613113,
           0.12805699819884667,
           0.11681663254824207,
           0.10467231995890683,
           0.09210199730453414,
           0.0795662252556271,
           0.0674753174400724,
           0.05616526924658631,
           0.045883870173308326,
           0.03678691530281238,
           0.028943208443001474
          ],
          [
           0.0009958528085850882,
           0.001408683427481359,
           0.001955668999904134,
           0.0026648477707654616,
           0.0035643872345130783,
           0.00468041616738358,
           0.006034445802648514,
           0.00764061479307784,
           0.009503098289610556,
           0.011614098231172768,
           0.013952854416063264,
           0.016486062667868406,
           0.019169946256081163,
           0.021954004456871335,
           0.024786181694467488,
           0.02761890455362762,
           0.03041517771155342,
           0.03315377251125952,
           0.03583253332736885,
           0.03846899498215934,
           0.04109784547620074,
           0.043765242787682616,
           0.046520531107338454,
           0.04940640870429397,
           0.05244898142089295,
           0.05564931349669681,
           0.05897801545092554,
           0.06237408598603009,
           0.06574869624410301,
           0.06899395272406984,
           0.07199600286176717,
           0.07465125704696629,
           0.07688407363142259,
           0.07866403395310982,
           0.08002092577041306,
           0.0810557230870362,
           0.08194614425841182,
           0.08294573280174354,
           0.08437579721900917,
           0.086609955851999,
           0.0900514768254843,
           0.09510411441915072,
           0.10213775026587037,
           0.11145085062537655,
           0.12323250147468004,
           0.13752747717956254,
           0.15420828510583198,
           0.17295823666745977,
           0.19326917415714576,
           0.21445644664578217,
           0.23569209531941568,
           0.2560551211149403,
           0.2745954263928777,
           0.29040589320901755,
           0.3026954553042924,
           0.31085526550638726,
           0.3145103656247148,
           0.31355067513460994,
           0.3081374814574781,
           0.2986846176598585,
           0.2858167084958629,
           0.2703097613821804,
           0.2530215235551503,
           0.23482008898238652,
           0.21651906516432112,
           0.19882624988030695,
           0.18231046080720784,
           0.16738829194678573,
           0.15432960267163612,
           0.1432779402045991,
           0.13428024215768114,
           0.12731931707031333,
           0.12234284494704861,
           0.11928388946532767,
           0.11806992709918744,
           0.1186198216733197,
           0.1208305963781833,
           0.12455787833925837,
           0.12959518325758332,
           0.13565756083621042,
           0.14237448175467327,
           0.14929532430848189,
           0.15590867214474813,
           0.1616742296380883,
           0.16606391078429397,
           0.1686069491132969,
           0.1689330047293151,
           0.16680735757389195,
           0.16215334600774725,
           0.15505904031935852,
           0.14576740479141917,
           0.13465150613895932,
           0.12217828700399708,
           0.10886573904529685,
           0.09523881326860457,
           0.08178908395289372,
           0.06894217019277854,
           0.05703545466503146,
           0.04630701066716014,
           0.036895132810667114
          ],
          [
           0.0006888717137459594,
           0.0009866468547222386,
           0.0013868541943269112,
           0.0019132506164537641,
           0.002590709270710477,
           0.003443614975726322,
           0.004493814467330969,
           0.005758262402543481,
           0.007246602167470258,
           0.008959007553180513,
           0.010884665450688025,
           0.013001279126882875,
           0.015275899934331434,
           0.017667246876511056,
           0.020129457956368762,
           0.02261696142400395,
           0.02508990079949358,
           0.0275193458289651,
           0.02989142275378275,
           0.03220953995187046,
           0.034494085152357225,
           0.03677931442499121,
           0.039107596477769256,
           0.04152164859522115,
           0.04405581955175534,
           0.046727759485483404,
           0.049531905980465,
           0.052436081535131206,
           0.055382152258710945,
           0.05829119141584878,
           0.06107300280598889,
           0.0636392780047465,
           0.06591917114902676,
           0.0678757346590643,
           0.06952149527526087,
           0.07093145447397395,
           0.07225193799635485,
           0.07370395329160899,
           0.07558000590754925,
           0.07823366198672504,
           0.08206153584958294,
           0.08747786097607971,
           0.09488240467302467,
           0.10462322655212421,
           0.11695663088917421,
           0.13200753727547615,
           0.14973424891369935,
           0.1699020499197322,
           0.19207002446614013,
           0.21559481653157694,
           0.23965368417123037,
           0.26328721639731906,
           0.2854596808830851,
           0.30513248292086076,
           0.3213440376653729,
           0.333287886387731,
           0.3403804418398057,
           0.3423104963023785,
           0.3390645408743698,
           0.3309247936220451,
           0.318440212096314,
           0.3023741620305236,
           0.2836353030383229,
           0.26320018674100415,
           0.2420367534692522,
           0.2210372774330928,
           0.20096748057147018,
           0.18243583364502783,
           0.16588393874132923,
           0.15159583830574475,
           0.13972158650762725,
           0.13030880788116478,
           0.12333545793792103,
           0.11873761313359106,
           0.11642770067800726,
           0.11630083538308697,
           0.1182294697496818,
           0.12204896040187999,
           0.12753851578731001,
           0.13440301445109132,
           0.14226120484227786,
           0.15064481500860963,
           0.15901127845093357,
           0.16677042810218642,
           0.17332302526924726,
           0.17810680327342984,
           0.1806441980760495,
           0.1805853755585656,
           0.17774064609911952,
           0.17209779444887918,
           0.16382198987334212,
           0.15323840173618147,
           0.1408000069535973,
           0.12704495156270512,
           0.1125489400594903,
           0.09787834830570262,
           0.08354913032989568,
           0.06999530203876478,
           0.05754911601280556,
           0.046433302503309314
          ],
          [
           0.000470493606920152,
           0.0006823270149585827,
           0.0009710956632645463,
           0.001356388480158346,
           0.0018594610286086074,
           0.0025021150927854105,
           0.003305150743308878,
           0.004286459620433706,
           0.005458911636691037,
           0.006828272011501809,
           0.008391454390461232,
           0.010135449249789862,
           0.012037246818828194,
           0.014064988639730932,
           0.016180430846541412,
           0.018342598704251475,
           0.02051228409203983,
           0.022656825489692053,
           0.02475445907676474,
           0.02679748151522964,
           0.02879354791287193,
           0.0307646482404209,
           0.03274364113771402,
           0.03476862862054966,
           0.03687586255243426,
           0.03909221045729334,
           0.04142840818250852,
           0.04387434521193004,
           0.046397451533291216,
           0.04894490415701131,
           0.05144989858977111,
           0.0538417073275464,
           0.056058749606799956,
           0.058063488689219775,
           0.05985769584430473,
           0.0614964863365529,
           0.06309952915078167,
           0.06485793119797184,
           0.06703547070444359,
           0.06996309004464739,
           0.07402586487031163,
           0.07964207520046294,
           0.08723455618881341,
           0.09719523164073192,
           0.10984462668909337,
           0.12538915602365616,
           0.14387996432889558,
           0.1651778731869654,
           0.188929352127176,
           0.21455818483294561,
           0.24127651638594638,
           0.26811723048568487,
           0.2939872482858537,
           0.3177386404773053,
           0.3382517933002765,
           0.3545227105510394,
           0.36574527967333553,
           0.37137927669569065,
           0.3711961426773101,
           0.365297022525821,
           0.3541008899988444,
           0.33830430072418405,
           0.31881784898058435,
           0.2966872067734569,
           0.27300826839486814,
           0.2488461774934679,
           0.22516687513081707,
           0.2027874995734453,
           0.18234889368363655,
           0.1643101399487293,
           0.14896196916667176,
           0.13645353134746407,
           0.1268256958022375,
           0.12004390421566015,
           0.1160245900088311,
           0.11465108245583867,
           0.11577738675504103,
           0.11922084887264173,
           0.12474704344474208,
           0.13205188514176577,
           0.1407466895425768,
           0.15035158099581433,
           0.1603013160883458,
           0.16996548272056955,
           0.17868250166556493,
           0.18580433380617578,
           0.190746721740978,
           0.19303853678406946,
           0.19236358880006357,
           0.18858912924869298,
           0.18177708506034268,
           0.17217648416127893,
           0.16019815010853233,
           0.1463751094656349,
           0.13131389141628133,
           0.11564275842944892,
           0.09996281567519306,
           0.08480700488036155,
           0.07061043389278301,
           0.05769364431631064
          ],
          [
           0.00031727463526713315,
           0.0004659059890861844,
           0.0006713967285206044,
           0.00094950349906815,
           0.0013178743843885697,
           0.0017953204058999894,
           0.002400708596373137,
           0.0031514942080156485,
           0.004061975449158501,
           0.005141428744386948,
           0.006392353614291205,
           0.007809107950022153,
           0.009377229712139718,
           0.01107370556677273,
           0.01286835324571469,
           0.014726335722777982,
           0.016611637711209975,
           0.01849113694714073,
           0.02033873143566399,
           0.022138878745929808,
           0.023888897866331728,
           0.02559949678854161,
           0.02729321752633584,
           0.0290008086975296,
           0.030755896954418063,
           0.03258867168708616,
           0.03451955951744941,
           0.03655399358043298,
           0.038679346529209305,
           0.04086489320641545,
           0.04306532583112886,
           0.045227911594335424,
           0.04730292228898774,
           0.04925653935529809,
           0.05108509314195578,
           0.052829258287380144,
           0.054586701176805266,
           0.05652164707217239,
           0.05886988536567819,
           0.06193785148638739,
           0.0660946221818146,
           0.07175596808460787,
           0.07936006950227002,
           0.08933516189760753,
           0.10206025416814286,
           0.11782112283649986,
           0.13676492871600573,
           0.15885786061488116,
           0.18385096323947445,
           0.21125952042994078,
           0.24036084581464823,
           0.27021398105634736,
           0.299702657358919,
           0.3276001410445902,
           0.3526516113745266,
           0.3736669636701367,
           0.38961487378795906,
           0.39970801412456386,
           0.40346973348426285,
           0.4007743403483264,
           0.39185615550460473,
           0.37728630223407095,
           0.357920209325337,
           0.3348223965275206,
           0.30917774061381714,
           0.2821996928915946,
           0.2550456746152185,
           0.2287482049746377,
           0.20416753304623936,
           0.18196812912425128,
           0.16261789637482202,
           0.14640592619098286,
           0.13347247294023443,
           0.12384383597685093,
           0.11746508551671711,
           0.11422493850242289,
           0.11396930114841815,
           0.11650265171732149,
           0.1215790922567984,
           0.12888711648824797,
           0.13803356373339404,
           0.1485326253991861,
           0.1598050755059497,
           0.17119122248864826,
           0.18197870339416802,
           0.19144356546254754,
           0.1989005660834367,
           0.20375671388639377,
           0.20556111607902156,
           0.2040443702267664,
           0.19914202103051426,
           0.1909987729782933,
           0.17995282862480935,
           0.16650244634342506,
           0.15125912416948975,
           0.13489335548897502,
           0.11807946451743777,
           0.10144559922121402,
           0.08553369700803701,
           0.07077243373629846
          ],
          [
           0.00021124102968272484,
           0.00031410333735190535,
           0.00045832574127342604,
           0.0006562945545109794,
           0.0009222868675356867,
           0.0012720417899087287,
           0.0017220174717373922,
           0.002288318647993057,
           0.0029853277149158985,
           0.003824132999294747,
           0.004810913029870561,
           0.005945493386810939,
           0.007220328658016397,
           0.008620161797107439,
           0.010122565911737144,
           0.011699475547777886,
           0.013319672300955581,
           0.01495202078369621,
           0.016569083284046306,
           0.018150608515006685,
           0.019686324944626594,
           0.021177497772459156,
           0.022636841356212,
           0.02408660707865878,
           0.02555496134419643,
           0.02707108411845165,
           0.028659700897115496,
           0.030335957550838337,
           0.03210161784081698,
           0.033943488121845236,
           0.035834758458530104,
           0.03773962327662313,
           0.03962115375837369,
           0.041451990806767994,
           0.043227058835591664,
           0.0449772000022739,
           0.04678241057296013,
           0.048783224593448894,
           0.05118872570735382,
           0.054279670308232095,
           0.05840528363068203,
           0.0639724753861563,
           0.07142656230584173,
           0.08122313654930641,
           0.09379152073274703,
           0.10949130011972108,
           0.12856465372654735,
           0.1510884762098524,
           0.17693137957623697,
           0.20572133487710545,
           0.23682971230005376,
           0.2693766218944049,
           0.302260687934871,
           0.33421381310107184,
           0.36387838503478603,
           0.38990117682177067,
           0.4110354082368637,
           0.4262405724070369,
           0.43476909033019023,
           0.43622983357406525,
           0.43062100156980965,
           0.4183284438899143,
           0.40008975678960335,
           0.376928711467505,
           0.35006813648070945,
           0.3208317368196828,
           0.2905461515209007,
           0.2604537546533041,
           0.23164447960516749,
           0.2050117028129462,
           0.1812335097654343,
           0.16077707439160666,
           0.14392094789800786,
           0.13078817371395024,
           0.121382532843264,
           0.11562088432173176,
           0.11335631208621058,
           0.11438928269606652,
           0.11846682192998231,
           0.1252723656993577,
           0.13441100194207417,
           0.14539596299674223,
           0.15764226686475827,
           0.1704723319473008,
           0.18313637713458766,
           0.1948478021273035,
           0.2048309673087471,
           0.21237634287788718,
           0.21689631221492217,
           0.21797430654789862,
           0.21540054042294962,
           0.20918931801871343,
           0.1995753960256961,
           0.18698978191918397,
           0.17201812039668493,
           0.1553470172450554,
           0.13770493583656052,
           0.1198045264160345,
           0.10229246120430685,
           0.08571127160969699
          ],
          [
           0.0001388603781454454,
           0.0002090788057016867,
           0.00030891589756911825,
           0.0004479009684847565,
           0.0006373116079509163,
           0.0008899611573556193,
           0.001219739376648593,
           0.001640872928377755,
           0.0021669049657984836,
           0.0028094389486387596,
           0.003576746491515761,
           0.004472394534745214,
           0.0054940922271973745,
           0.0066329798839052205,
           0.007873569481207965,
           0.009194490755462598,
           0.010570098609522224,
           0.011972864993049765,
           0.013376330115571442,
           0.014758249891816793,
           0.01610347852953215,
           0.017406094367399684,
           0.018670331813560224,
           0.019910026550406957,
           0.021146501757065287,
           0.02240508988679886,
           0.02371075508587191,
           0.025083508434102,
           0.0265344490310219,
           0.028063288903349054,
           0.029658118379636444,
           0.031297951687380754,
           0.0329582889496655,
           0.03461958042326457,
           0.03627812336400786,
           0.03795859571108644,
           0.039727155121444785,
           0.04170381416695861,
           0.04407264119584612,
           0.04708823033514531,
           0.05107684349702956,
           0.056430681644216024,
           0.06359394254510904,
           0.07303973127904155,
           0.08523756612853577,
           0.10061219404638291,
           0.11949566738780522,
           0.14207603092308904,
           0.16834733737827293,
           0.19806679732431481,
           0.23072539467031908,
           0.26553801180355485,
           0.3014578525242481,
           0.33721772206277356,
           0.37139770313634934,
           0.40251532044553756,
           0.42913091843232587,
           0.4499582522107026,
           0.46396872647558446,
           0.47047767545725266,
           0.46920268378491986,
           0.4602870485262037,
           0.4442856549311033,
           0.4221151619064048,
           0.3949747579947572,
           0.3642471837094199,
           0.3313917100547709,
           0.29784105191492877,
           0.2649128008302533,
           0.23374317710906287,
           0.20524722586261474,
           0.18010562642534725,
           0.15877466498361759,
           0.14151315713022614,
           0.12841855345745415,
           0.11946426172509102,
           0.11453130452380239,
           0.11342954482205979,
           0.1159064576486165,
           0.12164433312737233,
           0.13024938613938958,
           0.1412381034798074,
           0.15402698224579556,
           0.16793146867949807,
           0.18217844740033814,
           0.1959342944408976,
           0.2083476848734682,
           0.21860352249015744,
           0.22598203421741245,
           0.2299156697929335,
           0.23003623594959313,
           0.22620573141131248,
           0.2185264657066255,
           0.20732887611070078,
           0.19313851209637956,
           0.17662641550979402,
           0.15854913956572814,
           0.13968562882990443,
           0.12077803720445172,
           0.1024824091707213
          ],
          [
           9.012226188757051e-05,
           0.0001374061629876839,
           0.00020557557832365906,
           0.00030181360783049016,
           0.0004348324895773317,
           0.0006148070892175548,
           0.0008531244219815421,
           0.0011619085330626805,
           0.0015533000303826802,
           0.00203850169107801,
           0.0026266441355232498,
           0.003323573782833712,
           0.004130711252511445,
           0.0050441617947197155,
           0.006054269271658073,
           0.007145782456257859,
           0.008298742204305532,
           0.009490102516198041,
           0.010695978014993116,
           0.011894283254574062,
           0.013067419487567674,
           0.014204597464902118,
           0.015303381996397492,
           0.016370117555503185,
           0.017419042923470334,
           0.018470110463936325,
           0.019545762368034705,
           0.02066714368867527,
           0.02185041015116971,
           0.023103883791041644,
           0.024426800652739927,
           0.02581027829011213,
           0.02724091989604182,
           0.028707192948648045,
           0.030208405967045417,
           0.03176578842762818,
           0.033434879237702664,
           0.03531816081131429,
           0.037576642613636746,
           0.04043890228107232,
           0.04420594445319631,
           0.04925016498573902,
           0.05600676097102681,
           0.0649561731561479,
           0.07659665991657902,
           0.09140693584501822,
           0.10979997215248836,
           0.13207048733535687,
           0.15834020443330749,
           0.1885063810158506,
           0.22220013763524263,
           0.25876141982334255,
           0.29723678527898884,
           0.3364044949011985,
           0.3748286669361962,
           0.41094079476019507,
           0.44314318373919376,
           0.4699254078700242,
           0.48998232430902544,
           0.5023210239687996,
           0.506344648981251,
           0.5019033053017236,
           0.48930607099569123,
           0.4692928111344972,
           0.44296944632325347,
           0.41171472338871107,
           0.37706973334879407,
           0.3406229522748969,
           0.3039032694626873,
           0.2682914445846899,
           0.234957100073367,
           0.20482429158462265,
           0.17856456935521534,
           0.156612871734439,
           0.13919907202963008,
           0.12638682666779105,
           0.11811161710175977,
           0.11421139367026963,
           0.11444569141987422,
           0.11850204904380826,
           0.12599152305171266,
           0.13643756851989192,
           0.1492641581444015,
           0.16378947588310336,
           0.17923077263543108,
           0.19472412739087894,
           0.20936022071828875,
           0.22223424383600623,
           0.23250525484893866,
           0.23945815858747038,
           0.24256042566446107,
           0.24150589310905757,
           0.2362394860378972,
           0.22695921822566628,
           0.21409493408263328,
           0.19826640926994177,
           0.1802261004647876,
           0.16079360282068753,
           0.14078949764487983,
           0.12097573401784928
          ],
          [
           5.774795188387338e-05,
           8.915740544905367e-05,
           0.000135071350047132,
           0.00020079971396332906,
           0.0002929331963894486,
           0.00041936740573171745,
           0.000589196989304534,
           0.0008124390122529163,
           0.0010995552837004144,
           0.0014607639439624738,
           0.001905161437759059,
           0.002439714691805134,
           0.0030682248617636774,
           0.003790400851898861,
           0.004601203765995224,
           0.005490623396220018,
           0.006444017929021849,
           0.007443085948206159,
           0.008467449663280491,
           0.009496721361925272,
           0.010512818986645779,
           0.011502212856595176,
           0.012457745075644459,
           0.013379682355528728,
           0.014275748831765557,
           0.015160032787364467,
           0.016050852175651782,
           0.016967870201629702,
           0.017928940126683886,
           0.018947294789429855,
           0.02002975516148458,
           0.02117659980305435,
           0.022383613882525997,
           0.023646636069439467,
           0.0249686664048326,
           0.026369313033730513,
           0.0278960617543655,
           0.029636563648846065,
           0.03173085931013499,
           0.034382197433976365,
           0.03786487045353407,
           0.04252730506854588,
           0.04878855743225491,
           0.05712644028071788,
           0.06805583487836388,
           0.08209639133004266,
           0.09972984112564835,
           0.12134851830440231,
           0.14719830702243042,
           0.1773209050313873,
           0.21150173358214197,
           0.2492307090115106,
           0.28968311000353203,
           0.33172670601249943,
           0.3739590934137774,
           0.4147759596923485,
           0.45246712248065657,
           0.4853332105331144,
           0.5118124079218153,
           0.5306043954282245,
           0.5407779782632681,
           0.5418501225279598,
           0.5338271569357894,
           0.5172033368938498,
           0.492917163958064,
           0.46227101089998307,
           0.42682392805199415,
           0.3882703516150924,
           0.3483184084358524,
           0.3085805423756955,
           0.27048652038958687,
           0.23522501576647115,
           0.20371557279276772,
           0.1766085294175559,
           0.1543070319776558,
           0.1370030693752294,
           0.12471871114358772,
           0.11734444558735235,
           0.11466845653413371,
           0.11639345970155537,
           0.12214085079228806,
           0.13144487724405482,
           0.1437418575202789,
           0.1583607675842501,
           0.17452158567803594,
           0.19134661917091647,
           0.20788781836078618,
           0.22317017950444723,
           0.23624824884451626,
           0.2462700056486328,
           0.2525405239516498,
           0.2545771489651036,
           0.252148622085257,
           0.2452925489160836,
           0.23430849674896098,
           0.21972733127974348,
           0.2022605858462271,
           0.18273617071230297,
           0.1620281888056674,
           0.14098885298405392
          ],
          [
           3.653334322559731e-05,
           5.711635876046623e-05,
           8.762164554478797e-05,
           0.00013190147931419797,
           0.00019484309681942817,
           0.00028244245173082445,
           0.0004017913365400174,
           0.0005609413256661351,
           0.0007686118466353383,
           0.001033721397351339,
           0.001364741511040268,
           0.0017689019353794467,
           0.002251309908134352,
           0.0028140813228469982,
           0.003455609960686479,
           0.004170114829591808,
           0.0049475976474863724,
           0.005774307877360116,
           0.006633751207961766,
           0.00750819452022519,
           0.008380527758733948,
           0.009236257143913369,
           0.0100653434273568,
           0.010863580554238033,
           0.011633245825139341,
           0.012382845258283046,
           0.013125919447978656,
           0.013879047534320845,
           0.01465936398885672,
           0.01548205569962277,
           0.016358408564270885,
           0.017295004120072278,
           0.018294619032343883,
           0.019359256350435054,
           0.020495549463438453,
           0.02172254477113708,
           0.023081604191000984,
           0.024647886438173207,
           0.026542573661357878,
           0.028944711688367226,
           0.03210123562219962,
           0.036333478069145955,
           0.04203824582107809,
           0.04968146792745378,
           0.05978254994698454,
           0.07288800832067227,
           0.08953378012654979,
           0.11019683379584412,
           0.1352382947052565,
           0.16484209684358966,
           0.19895492919840577,
           0.23723463806176076,
           0.2790149225892852,
           0.32329381309504956,
           0.36875186433707247,
           0.41380323436014393,
           0.45667908747045394,
           0.4955385155961181,
           0.5285980412413828,
           0.5542674392201775,
           0.5712777221359049,
           0.5787871118423568,
           0.5764528068836814,
           0.5644601526911469,
           0.5435059029695715,
           0.514737866666874,
           0.47965850390044845,
           0.4400041609685161,
           0.3976140146183458,
           0.35430312819563303,
           0.311752351547509,
           0.2714244876594906,
           0.23451180629536347,
           0.20191533427051345,
           0.17425211259330348,
           0.15188338070400648,
           0.13495482241316017,
           0.12343973792979032,
           0.11717719913781595,
           0.11589960000327786,
           0.11924707983250267,
           0.12676954511232136,
           0.13791991420086655,
           0.15204429569756786,
           0.16837575504046198,
           0.18603797306627276,
           0.2040635088361902,
           0.22142880572774715,
           0.23710495594275857,
           0.2501201043181538,
           0.2596267878771495,
           0.26496595311926613,
           0.2657191762803282,
           0.2617418033177186,
           0.2531721397163626,
           0.24041504368680755,
           0.22410175228009857,
           0.20503090495468865,
           0.1840980106853559,
           0.16222169799968436
          ],
          [
           2.281857592997389e-05,
           3.612541696768675e-05,
           5.611935276447125e-05,
           8.554492143404315e-05,
           0.0001279574995010704,
           0.00018781818989062901,
           0.0002705349546821599,
           0.00038241966420294584,
           0.0005305304546580083,
           0.0007223741365111955,
           0.0009654558248690973,
           0.001266682936398238,
           0.0016316571448843976,
           0.002063917829463554,
           0.002564229077069824,
           0.003130023058858693,
           0.0037551188223359415,
           0.0044298215393713996,
           0.0051414701084480895,
           0.005875442075333156,
           0.006616550568509589,
           0.007350689720717145,
           0.00806651773070008,
           0.008756926096180782,
           0.009420043046669175,
           0.010059566590471412,
           0.010684317466982694,
           0.011307035112571138,
           0.011942592742168719,
           0.012605957662838781,
           0.0133103455673018,
           0.01406609166115429,
           0.014880772904847628,
           0.01576105918972592,
           0.01671665026452031,
           0.017766479000629255,
           0.018947141471617742,
           0.0203232598461554,
           0.021999200885854695,
           0.024131263739866144,
           0.026939120616175552,
           0.030714957578351507,
           0.03582845367930352,
           0.042725513582901095,
           0.05191861592256891,
           0.06396685762215233,
           0.07944436092070442,
           0.09889673086946771,
           0.12278670823125834,
           0.15143196467491662,
           0.1849399347186055,
           0.2231463725705062,
           0.2655655973400116,
           0.31136077922290595,
           0.3593418304952992,
           0.407996364333935,
           0.45555585856929987,
           0.5000949448092888,
           0.5396571933202857,
           0.5723965833897918,
           0.5967207652550397,
           0.6114208447161824,
           0.6157731198969909,
           0.6096009983736442,
           0.593289884872349,
           0.567753499992284,
           0.5343560086718215,
           0.4947995932948264,
           0.45099090618766097,
           0.40490164227749276,
           0.35843809185205056,
           0.3133321361960937,
           0.271062220159529,
           0.23280807173496998,
           0.19943811569148331,
           0.17152436949794123,
           0.1493766756827221,
           0.13308674219406474,
           0.12257269809894238,
           0.1176165482810611,
           0.11788965251468876,
           0.12296465648231596,
           0.13231560702396813,
           0.14531075727051534,
           0.16120437043129782,
           0.17913437931440213,
           0.1981319640301331,
           0.2171470996757512,
           0.23509123013641148,
           0.2508949346481365,
           0.26357534667002924,
           0.27230572376596246,
           0.2764784006484102,
           0.2757526287234811,
           0.27008049965274095,
           0.2597069910610002,
           0.2451436714483575,
           0.22711915414138045,
           0.20651239570765995,
           0.18427691246822236
          ],
          [
           1.4071235749073229e-05,
           2.2558607984664573e-05,
           3.548658218957377e-05,
           5.4776360658828024e-05,
           8.296713924836671e-05,
           0.00012331381976019576,
           0.00017985450677033884,
           0.00025742414959255283,
           0.00036158816002042067,
           0.0004984710269845291,
           0.0006744613716740577,
           0.0008957875424038758,
           0.0011679767438469932,
           0.0014952344093140336,
           0.001879805977379379,
           0.00232140580167439,
           0.0028168120027725063,
           0.003359726101704921,
           0.003940978081300961,
           0.004549119731209475,
           0.00517139429466121,
           0.005795005474686421,
           0.0064085445732237345,
           0.007003384055495401,
           0.007574822196270124,
           0.008122776795311553,
           0.008651880819704244,
           0.009170926528533734,
           0.009691726843947205,
           0.01022759685033033,
           0.010791784204347007,
           0.011396274863553326,
           0.012051453429733324,
           0.012767095224188186,
           0.013555106577790799,
           0.014434313143927843,
           0.015437428849482585,
           0.016620125782044994,
           0.018071870785674526,
           0.01992789822566398,
           0.022381351515054913,
           0.025694257231340143,
           0.030205619743057188,
           0.03633459014706211,
           0.044576448074661386,
           0.05548914000013542,
           0.06966845471597596,
           0.08771068263938725,
           0.11016285046189724,
           0.13746231531851014,
           0.1698695053849305,
           0.2073996543042606,
           0.2497611465585362,
           0.296309172814891,
           0.3460234161417714,
           0.3975171911405976,
           0.4490827712243353,
           0.49877374615546555,
           0.5445205933780677,
           0.5842708770548549,
           0.6161413763585072,
           0.6385667336692948,
           0.6504284749521022,
           0.6511497595648919,
           0.6407448611781164,
           0.6198176849683369,
           0.5895098069302767,
           0.5514046336099325,
           0.5073993879806328,
           0.45955997109450025,
           0.4099748813573377,
           0.3606232241031077,
           0.31326871622367636,
           0.26938708461055316,
           0.23012914942323567,
           0.19631698340590722,
           0.16846655605923372,
           0.14682771363305647,
           0.13143146016402357,
           0.12213526845442059,
           0.11865929993184916,
           0.12060950408235396,
           0.12748705035420238,
           0.1386868406289398,
           0.15349043257085243,
           0.17106016797324547,
           0.19044141603218373,
           0.2105785912420362,
           0.23034819245638585,
           0.248608935798181,
           0.26426566468320967,
           0.27634071710877317,
           0.28404436752687445,
           0.2868352397604065,
           0.2844623758356456,
           0.27698283642479965,
           0.2647519353850125,
           0.24838691655788803,
           0.22870842750643836,
           0.20666693964393876
          ],
          [
           8.566809165929974e-06,
           1.3907752839527654e-05,
           2.2154584463607698e-05,
           3.462928066344773e-05,
           5.3113173828582684e-05,
           7.993689713642186e-05,
           0.00011805597708147269,
           0.00017109464870745705,
           0.00024333700769921688,
           0.0003396433805847916,
           0.0004652721430241136,
           0.0006255943183168052,
           0.0008257007515117736,
           0.0010699191169646132,
           0.0013612788260661734,
           0.0017009830039213581,
           0.0020879638632440188,
           0.0025186062102534323,
           0.00298671905333816,
           0.003483814507208621,
           0.0039997162666678705,
           0.004523470244429093,
           0.00504447454613344,
           0.005553694740160617,
           0.006044794680551428,
           0.006515003443795253,
           0.006965562527055624,
           0.007401656399005287,
           0.007831819556964457,
           0.008266924050767888,
           0.008718967979806478,
           0.009199990658816564,
           0.009721517751572659,
           0.010294976918124267,
           0.010933513579702245,
           0.011655574318780917,
           0.012490512535180388,
           0.01348630841862395,
           0.01471928275208487,
           0.016305419008731732,
           0.018412587926925673,
           0.021272595578593703,
           0.025191565265443,
           0.03055675267246648,
           0.03783754848554219,
           0.0475782385212428,
           0.060380184787253474,
           0.07687157984646638,
           0.09766390133810005,
           0.12329567981992909,
           0.15416612043938183,
           0.1904632981249257,
           0.23209377040133305,
           0.2786221278565154,
           0.3292298095271211,
           0.3827020862335896,
           0.4374502457405351,
           0.49157271441956957,
           0.5429544078274416,
           0.5893985674867119,
           0.6287804579735831,
           0.6592083851978177,
           0.6791752918146636,
           0.6876841948135244,
           0.6843331088076774,
           0.6693495976587129,
           0.6435710904783157,
           0.6083736861302698,
           0.5655583416924598,
           0.5172081563298929,
           0.465533225463988,
           0.41271991288574955,
           0.3607994363063479,
           0.3115468212978196,
           0.266416258202894,
           0.22651353756199455,
           0.19260136643886544,
           0.16512965809033014,
           0.14428077995980162,
           0.13001939913078306,
           0.12213786482896885,
           0.12029066833893744,
           0.12401491407742264,
           0.1327373330328934,
           0.14577158478007982,
           0.1623119193669916,
           0.18143034350757126,
           0.2020840903060561,
           0.22313848565112407,
           0.24340751832824292,
           0.26171102494846765,
           0.27694398582555435,
           0.28815060902043954,
           0.294594186307728,
           0.29581347804138985,
           0.2916577046139344,
           0.28229488733981584,
           0.2681918383572426,
           0.25006793206974304,
           0.22882824355039397
          ],
          [
           5.149296500980579e-06,
           8.465358053477556e-06,
           1.3655543425668977e-05,
           2.1614370314791645e-05,
           3.356996658958432e-05,
           5.116112484109356e-05,
           7.650996295063607e-05,
           0.00011227802142491893,
           0.00016169007595771904,
           0.00022850754425336387,
           0.0003169332138760085,
           0.00043143222736379065,
           0.00057646169346609,
           0.0007561132225524571,
           0.000973688468385112,
           0.0012312456194035102,
           0.0015291717969740317,
           0.001865848706544912,
           0.002237482633031118,
           0.0026381616073233617,
           0.0030601805861806717,
           0.0034946406174480235,
           0.003932284089713764,
           0.004364482111932142,
           0.004784250755980237,
           0.005187149839983619,
           0.00557191932174078,
           0.005940739143803297,
           0.00629905873945157,
           0.006655027275944667,
           0.007018655173002021,
           0.0074009383085342955,
           0.007813264356331584,
           0.008267482857611816,
           0.008777046812778811,
           0.009359617242129036,
           0.010041459605985905,
           0.010863849617291138,
           0.01189154236654088,
           0.013223137350099216,
           0.015002886440760156,
           0.01743313841392893,
           0.020786198486321385,
           0.02541392925257785,
           0.03175298237861928,
           0.04032321220638521,
           0.0517166957867605,
           0.06657499713914411,
           0.08555298589181852,
           0.10926872777261384,
           0.13824070190483295,
           0.1728157504630703,
           0.21309348569182915,
           0.25885500754723717,
           0.30950528974764113,
           0.36403904113847174,
           0.4210389052005129,
           0.47871237362523694,
           0.5349698711546573,
           0.5875415183995418,
           0.6341247554590457,
           0.6725501359039282,
           0.7009490260131863,
           0.7179053756415262,
           0.7225745803372385,
           0.7147557496706608,
           0.6949090309828544,
           0.6641162412679872,
           0.6239899297379967,
           0.5765420755583733,
           0.5240280058882716,
           0.4687831877960841,
           0.41307009394276967,
           0.358949575401912,
           0.3081866632288068,
           0.26219526777501506,
           0.22202073928878918,
           0.18835451456176608,
           0.16157172974177098,
           0.1417810872012677,
           0.12887648845926894,
           0.12258177696682598,
           0.12248294968266037,
           0.1280458321550952,
           0.13862085283637648,
           0.1534396140539642,
           0.1716099614363309,
           0.1921168916441956,
           0.21383581420420922,
           0.2355625340337422,
           0.2560612049926336,
           0.27412795390997063,
           0.28866451496722556,
           0.29875366018530725,
           0.3037269525923539,
           0.3032156519710679,
           0.2971774550353769,
           0.2858948523019459,
           0.26994470058897857,
           0.25014248263026617
          ],
          [
           3.055748846170927e-06,
           5.087168391210886e-06,
           8.309954740961137e-06,
           1.3319514882099535e-05,
           2.0948327737699823e-05,
           3.2328581581909265e-05,
           4.8956106715757836e-05,
           7.274757102700121e-05,
           0.00010607973000414762,
           0.0001517967877607339,
           0.0002131704456412569,
           0.0002937979291530947,
           0.0003974270798907165,
           0.0005277050630984899,
           0.0006878583738702096,
           0.0008803257871634228,
           0.001106380876740609,
           0.001365794010328886,
           0.0016565920276510996,
           0.001974973869914269,
           0.0023154298217331016,
           0.0026710899701844534,
           0.003034295513373038,
           0.003397348776067459,
           0.0037533606205065067,
           0.004097085187447033,
           0.004425619388211746,
           0.004738854493088227,
           0.005039602592256398,
           0.0053333805721128245,
           0.005627913135316261,
           0.005932505217880403,
           0.0062575216121458265,
           0.006614285946968553,
           0.0070157618577711255,
           0.007478397789310882,
           0.008025497060849445,
           0.008692411209412271,
           0.009533741186152439,
           0.010632559755193999,
           0.012111429713342394,
           0.014144677485100158,
           0.016970987982088147,
           0.020904926917055627,
           0.026345507715701495,
           0.033779470036854255,
           0.0437766275247536,
           0.05697460208605423,
           0.07405062692601187,
           0.09567898497646693,
           0.12247410768849627,
           0.15492134825477935,
           0.19329979434492095,
           0.2376038971595449,
           0.28747275577401815,
           0.3421371458649006,
           0.4003943906914517,
           0.4606196435566678,
           0.5208190153384481,
           0.5787254571659571,
           0.631932914266079,
           0.6780587631904277,
           0.7149198186738118,
           0.7407041029674118,
           0.7541197601205228,
           0.7545042718743118,
           0.7418813598229382,
           0.7169590781108451,
           0.6810697075323209,
           0.6360590687465358,
           0.5841387089200162,
           0.5277182221391017,
           0.46923623825398675,
           0.4110072903002224,
           0.3550982034829955,
           0.30324253012898367,
           0.2567957693968591,
           0.21672857258216016,
           0.18365063877199628,
           0.15785511222421436,
           0.13937226856709378,
           0.12802208618037778,
           0.12345764184436964,
           0.12519464972209482,
           0.1326262721694401,
           0.14502593866255767,
           0.16154374440352604,
           0.18120362518479932,
           0.20290867300135243,
           0.2254606486969027,
           0.2475971822073848,
           0.2680467602110656,
           0.28559797174798035,
           0.29917626298121247,
           0.3079192404837992,
           0.3112407927213494,
           0.3088751538716628,
           0.3008943989059153,
           0.28769633928837357,
           0.26996378341659655
          ],
          [
           1.7903070519512414e-06,
           3.0182014999024037e-06,
           4.99265133352865e-06,
           8.103621608384866e-06,
           1.2906108978583891e-05,
           2.0168985749837924e-05,
           3.092793095917732e-05,
           4.65374777446263e-05,
           6.871461055742936e-05,
           9.95637654233139e-05,
           0.00014157108141815274,
           0.0001975550445642994,
           0.00027056204162956337,
           0.00036369947934938385,
           0.00047990637453401724,
           0.000621671469557388,
           0.0007907210148426898,
           0.0009877106140205965,
           0.0012119654954398306,
           0.0014613184748534446,
           0.0017320921618443263,
           0.002019260010247852,
           0.0023167995767527545,
           0.0026182228308565445,
           0.0029172366783685013,
           0.0032084578695974384,
           0.0034880868504270587,
           0.0037544411658492717,
           0.00400826527934419,
           0.004252771780294438,
           0.004493427048123296,
           0.004737567193078287,
           0.004994009449013095,
           0.005272900621013748,
           0.005586108022371369,
           0.005948500772527423,
           0.006380482723040175,
           0.006912115551244831,
           0.007589103953062193,
           0.008480794658085981,
           0.00969015511690202,
           0.011365433326261137,
           0.013712848054837494,
           0.01700922016794311,
           0.021612952294043558,
           0.027971246362845426,
           0.03662100218904179,
           0.04818058457091502,
           0.06332972251216763,
           0.08277535135173043,
           0.10720232933110606,
           0.1372096800384449,
           0.1732352428911053,
           0.2154741305863896,
           0.26379883726982695,
           0.3176907592723374,
           0.37619380056751656,
           0.43790022632131165,
           0.5009767629062787,
           0.5632351471680543,
           0.6222462378766829,
           0.6754910527829215,
           0.7205365382678681,
           0.7552194465517952,
           0.7778192233495688,
           0.7872008634524572,
           0.7829114387318759,
           0.7652191489234138,
           0.7350905702858167,
           0.6941092552460992,
           0.6443458209415387,
           0.5881950982235413,
           0.5281990155358093,
           0.46687429352036885,
           0.40656181208771974,
           0.3493101834936753,
           0.2968004255374222,
           0.250312623710548,
           0.21073001971425132,
           0.17857181522412247,
           0.1540436132869146,
           0.1370940014857361,
           0.12746717449623238,
           0.12474431171529478,
           0.1283701088675384,
           0.1376647690070824,
           0.15182525347585796,
           0.16992213171830223,
           0.1908995634418829,
           0.2135856208424451,
           0.23671837487133396,
           0.25899022800231786,
           0.27910937818337583,
           0.29587367474470144,
           0.30824913320379727,
           0.31544357750081703,
           0.31696564024033014,
           0.3126607612688025,
           0.30271866644738693,
           0.287650598855073
          ],
          [
           1.0355636382776766e-06,
           1.7679125535553527e-06,
           2.9614579252198056e-06,
           4.867582717274554e-06,
           7.850311782733565e-06,
           1.242309658669821e-05,
           1.9290648620534554e-05,
           2.9392988565411567e-05,
           4.39468984338918e-05,
           6.447778005284167e-05,
           9.28328896287051e-05,
           0.00013116554855936778,
           0.00018187985202330165,
           0.00024752724682791796,
           0.00033065062023185474,
           0.0004335783862919045,
           0.0005581801061691794,
           0.0007056054146845402,
           0.0008760377750920464,
           0.00106850168971204,
           0.0012807641669807847,
           0.0015093665755758746,
           0.0017498105487031095,
           0.001996901846898073,
           0.002245231313949491,
           0.0024897462394855973,
           0.0027263437842281507,
           0.002952406241942323,
           0.003167200749729845,
           0.0033720868185138034,
           0.0035705143813991947,
           0.0037678506804078755,
           0.00397114126507746,
           0.004188981706321058,
           0.004431744370507469,
           0.004712460661396842,
           0.005048695741842903,
           0.0054657621758411505,
           0.006001592619349178,
           0.006713519029606506,
           0.007687073466594258,
           0.00904671791513103,
           0.01096811304139899,
           0.013691140586086023,
           0.01753240869324816,
           0.02289542651827128,
           0.030276100179208208,
           0.040260779880304666,
           0.053513913182883774,
           0.07075258242152674,
           0.09270596166869212,
           0.12005910419245172,
           0.15338245438532178,
           0.1930509292973843,
           0.2391590509967646,
           0.29144101975661313,
           0.3492063085570332,
           0.41130184550503385,
           0.47611075620521237,
           0.5415948016759712,
           0.6053832030681592,
           0.6649049512003015,
           0.7175557040066092,
           0.7608849079222473,
           0.7927847914547664,
           0.8116611595222584,
           0.8165669227333476,
           0.8072830383443179,
           0.7843375563847429,
           0.7489608848422801,
           0.7029830848495537,
           0.6486858019696771,
           0.5886263175642881,
           0.5254534918947847,
           0.4617348449892877,
           0.39981092638308996,
           0.34168810064942845,
           0.28897482042691114,
           0.24286035725492075,
           0.2041297155030501,
           0.1732047509903809,
           0.15019973839680095,
           0.13497984084846745,
           0.12721289503504865,
           0.12640816845603406,
           0.13193965965878704,
           0.14305543385222108,
           0.158877789341104,
           0.17840122651530768,
           0.20049591425158078,
           0.223923518954004,
           0.24737002548411338,
           0.26949691627067307,
           0.2890083475965819,
           0.30472843136438454,
           0.315680044841868,
           0.3211552669094006,
           0.3207678599506657,
           0.31448016759388037,
           0.3026000636178039
          ],
          [
           5.913776087669898e-07,
           1.0223815503253093e-06,
           1.7342858267364357e-06,
           2.8866207032194796e-06,
           4.714357303734067e-06,
           7.554783231635313e-06,
           1.187933500614388e-05,
           1.8328960249573366e-05,
           2.775015965032095e-05,
           4.1227148332173296e-05,
           6.010378048638397e-05,
           8.598733730599302e-05,
           0.00012072544691402615,
           0.00016634781672637648,
           0.00022496661426541086,
           0.00029863356159773714,
           0.00038915810959473136,
           0.0004978989558088317,
           0.0006255496401240044,
           0.0007719464641029009,
           0.0009359316841249982,
           0.0011153049986123648,
           0.0013068904305027385,
           0.0015067333839841896,
           0.0017104248325864198,
           0.0019135286524498613,
           0.002112067753552139,
           0.002303009427280111,
           0.0024846848463170954,
           0.0026570857366931613,
           0.0028220050694298124,
           0.0029830281714190014,
           0.0031454335652475428,
           0.003316124683395194,
           0.0035037784651124437,
           0.003719458043039204,
           0.003977987217073547,
           0.0043004167421217855,
           0.004717918113678494,
           0.005277408894635249,
           0.0060491309956373475,
           0.007136252907564357,
           0.008686330624262462,
           0.010904125019244815,
           0.014064831435470413,
           0.0185262460043189,
           0.02473781851760617,
           0.03324400649815571,
           0.04467897025007965,
           0.059749583218105765,
           0.07920413130142524,
           0.10378506634277031,
           0.13416582049153036,
           0.1708739257498987,
           0.2142053217732254,
           0.26413743285540064,
           0.32025089051888744,
           0.38167115489215336,
           0.44704127050469733,
           0.514535256495997,
           0.5819181082790312,
           0.6466533299980113,
           0.7060529075808624,
           0.7574585210996704,
           0.7984375691819929,
           0.8269741824541823,
           0.8416345514421404,
           0.8416879109324669,
           0.8271692514485453,
           0.7988766368206206,
           0.7583038870607938,
           0.7075171339491695,
           0.6489901926285668,
           0.5854178731332107,
           0.5195277381431592,
           0.4539093341787087,
           0.3908759847633027,
           0.33236860266540474,
           0.2799046280062723,
           0.2345691308738245,
           0.19704019455724536,
           0.1676375226024797,
           0.1463820703217728,
           0.1330553418134451,
           0.12724948555827767,
           0.12840292658134317,
           0.13582033779839756,
           0.14867960477156789,
           0.16603147253194017,
           0.18679932036707145,
           0.20978673333737252,
           0.23369921026196505,
           0.25718369781837713,
           0.27888612275141716,
           0.2975233224038035,
           0.3119624250259974,
           0.32129842947226933,
           0.32491993225679244,
           0.32255383851509517,
           0.3142823534537424
          ],
          [
           3.3341971814260426e-07,
           5.837195894590121e-07,
           1.0027109293237191e-06,
           1.6900799740714956e-06,
           2.795121931571545e-06,
           4.5358509998094085e-06,
           7.2224502939027346e-06,
           1.1284498486040219e-05,
           1.7300442976555235e-05,
           2.602653204353831e-05,
           3.842096920497211e-05,
           5.565761417954254e-05,
           7.912243920139875e-05,
           0.00011038556033054633,
           0.00015114243833037083,
           0.00020312016008907228,
           0.0002679487632600033,
           0.0003470032336350869,
           0.0004412285501427168,
           0.000550966989745306,
           0.0006758124701707669,
           0.0008145194601142845,
           0.0009649925180580583,
           0.001124375945701927,
           0.0012892513655527937,
           0.0014559354126229677,
           0.0016208525337669149,
           0.0017809424806876546,
           0.0019340523568823808,
           0.002079262791415043,
           0.002217109863758396,
           0.0023496902250252187,
           0.0024806760549934835,
           0.00261531681070896,
           0.00276056233254152,
           0.00292550180327064,
           0.003122369538743414,
           0.0033684150925823108,
           0.0036889639214227306,
           0.004121995978900025,
           0.004724530002694798,
           0.005581004128810795,
           0.006813669118197305,
           0.008594739394073337,
           0.011159665813118525,
           0.01482040387328447,
           0.019976978058211647,
           0.027125047791028797,
           0.036856663268656324,
           0.049851097401682753,
           0.06685271290027738,
           0.08863342620246517,
           0.11593857410159224,
           0.14941689886576848,
           0.1895378403923712,
           0.2365021059497534,
           0.29015418025416917,
           0.34990753795252616,
           0.4146942984303223,
           0.48295047102789534,
           0.5526455234910975,
           0.6213608045404274,
           0.6864157406910077,
           0.7450344112116717,
           0.7945390222706809,
           0.8325519721617336,
           0.857185534411389,
           0.8671982963638899,
           0.8621005480438848,
           0.8421964876033363,
           0.8085585993873463,
           0.7629377428209554,
           0.7076201124911072,
           0.6452481417196793,
           0.5786257813796467,
           0.5105289989845307,
           0.44353991388669867,
           0.3799182666358452,
           0.32151779152756693,
           0.269748547904122,
           0.22558036119575878,
           0.1895780325760493,
           0.16195640508655726,
           0.1426428941502691,
           0.13133654715128174,
           0.12755567042477087,
           0.13066995364008982,
           0.13991714998649352,
           0.1544080674343037,
           0.1731263214137296,
           0.1949305910982201,
           0.21856682930811436,
           0.2426960674261401,
           0.26594044478289597,
           0.2869463968194744,
           0.30446020957634967,
           0.3174080671709121,
           0.3249708668964556,
           0.3266438294379281,
           0.32227237902817096
          ],
          [
           1.855904339311602e-07,
           3.290288972440556e-07,
           5.723610960379169e-07,
           9.769336469760494e-07,
           1.6361404196016522e-06,
           2.688677668032834e-06,
           4.3353311871849915e-06,
           6.859219111650325e-06,
           1.0648793364867004e-05,
           1.6222029712126875e-05,
           2.4249144976735594e-05,
           3.556997739737276e-05,
           5.120104785467225e-05,
           7.232656890256965e-05,
           0.00010026763021089429,
           0.0001364248135822962,
           0.00018219184777215633,
           0.00023884168660650348,
           0.0003073913789833728,
           0.0003884577354699256,
           0.0004821211652050007,
           0.0005878189763840662,
           0.0007042906537289279,
           0.0008295951111164441,
           0.0009612131643419791,
           0.0010962377928997442,
           0.001231641460796277,
           0.0013645961115083367,
           0.0014928104370000594,
           0.001614843933279785,
           0.0017303611168689036,
           0.0018403042802220453,
           0.00194699023566387,
           0.002054175081908448,
           0.002167179122234076,
           0.002293218430107353,
           0.00244214594914919,
           0.00262785820881917,
           0.002870667198531729,
           0.003200962044293165,
           0.003664480113278643,
           0.004329456275678427,
           0.0052958025589076455,
           0.0067062664525565805,
           0.008759204961138214,
           0.011722182875804425,
           0.015945066453532865,
           0.02187067614526192,
           0.03004046070491331,
           0.04109217736344613,
           0.05574636030673644,
           0.07477859876207565,
           0.09897547526338595,
           0.12907352289956683,
           0.16568273157822355,
           0.20919881052656608,
           0.2597112842684735,
           0.31691711039833736,
           0.38005132512638984,
           0.4478467210423174,
           0.5185333376352607,
           0.5898854316164284,
           0.6593187450258825,
           0.7240348100576927,
           0.7812025357443587,
           0.8281614215758689,
           0.8626264640684334,
           0.8828730108383486,
           0.8878809573163903,
           0.8774217753333262,
           0.8520784001811376,
           0.8131960359975771,
           0.7627702490498132,
           0.7032860351753287,
           0.6375267827267316,
           0.5683744899146246,
           0.4986220054928181,
           0.4308147160926145,
           0.36713369690937686,
           0.3093258424106281,
           0.2586799554488768,
           0.21604215848922786,
           0.1818600245117498,
           0.15624290949813027,
           0.13902615933573967,
           0.12982890408939368,
           0.12809854314048486,
           0.13313911903586154,
           0.14412488061192183,
           0.16010379642177974,
           0.17999807309346263,
           0.2026095261810699,
           0.22663684429461065,
           0.2507095341465375,
           0.2734400254418948,
           0.2934916268956359,
           0.30965643346536265,
           0.3209345513280223,
           0.3266046575795441,
           0.32627623346184537
          ],
          [
           1.019899668148286e-07,
           1.8310570623216878e-07,
           3.2255455382796484e-07,
           5.575225338059571e-07,
           9.455423893940125e-07,
           1.573478031532713e-06,
           2.569234465809144e-06,
           4.116357508339162e-06,
           6.471313933027594e-06,
           9.982669481891057e-06,
           1.5110607700610207e-05,
           2.2444302572050074e-05,
           3.271368262688064e-05,
           4.679128720420888e-05,
           6.567946709478559e-05,
           9.047840994168361e-05,
           0.00012233164686911564,
           0.00016234799903428585,
           0.0002115023492545621,
           0.00027052191592237383,
           0.0003397693087822697,
           0.0004191377300421093,
           0.0005079762517014377,
           0.0006050631696931021,
           0.0007086422882957933,
           0.0008165304255684684,
           0.0009262949827351793,
           0.0010354894417359676,
           0.0011419242560193475,
           0.0012439434041699004,
           0.0013406756359630953,
           0.0014322365803499362,
           0.0015198750770749202,
           0.0016060849578056872,
           0.0016947414825331732,
           0.0017913680384486076,
           0.001903690800646336,
           0.002042693072981093,
           0.0022244319073724864,
           0.0024729203211784744,
           0.0028243990332258322,
           0.003333308173937114,
           0.004080203423217356,
           0.005181720234445236,
           0.00680245103454042,
           0.009168245073312544,
           0.012579963616928374,
           0.017426142709262165,
           0.024192383937367928,
           0.03346470362603475,
           0.045923656416896996,
           0.062325973454110555,
           0.08347088652705041,
           0.11014938348612738,
           0.1430764158708617,
           0.18280849461611878,
           0.22965194949153206,
           0.2835700210852169,
           0.3440994030962502,
           0.41028830400519284,
           0.48066804449728967,
           0.553268309721535,
           0.625682367627735,
           0.6951831252461641,
           0.7588844548593887,
           0.8139356952719301,
           0.8577316747942468,
           0.8881170177082837,
           0.9035626392929773,
           0.9032945411510168,
           0.8873601109681125,
           0.856624425050656,
           0.8126974677493412,
           0.7578014349538855,
           0.6945941255602727,
           0.6259688486130127,
           0.5548527165238147,
           0.48402359904289055,
           0.41596181372845786,
           0.35274664591857613,
           0.2960010589432612,
           0.24688153162856094,
           0.20610475287530441,
           0.1739995424479757,
           0.15057114059299181,
           0.1355658592184225,
           0.12852666076387806,
           0.12883396132511957,
           0.1357301614810175,
           0.14833039602523498,
           0.16562514242880985,
           0.186482169058121,
           0.20965557919905878,
           0.23380840173753542,
           0.25755253124476407,
           0.27950629047173386,
           0.2983660978052813,
           0.3129853545015275,
           0.32245134975588563,
           0.3261501714587474
          ],
          [
           5.533457493602425e-08,
           1.006021830774215e-07,
           1.794628179869749e-07,
           3.1412226137757606e-07,
           5.394873431584692e-07,
           9.091250035482933e-07,
           1.5032376530814246e-06,
           2.4389103249673703e-06,
           3.882677306435691e-06,
           6.065101381608017e-06,
           9.296539134259098e-06,
           1.3982590734968247e-05,
           2.0636955432548013e-05,
           2.988864330354326e-05,
           4.247989760469022e-05,
           5.925097650157528e-05,
           8.110836223310385e-05,
           0.00010897421160791465,
           0.00014371703720760125,
           0.00018606664874000695,
           0.0002365200010377635,
           0.00029524826188037634,
           0.0003620184019241647,
           0.00043614410109436136,
           0.0005164800191467747,
           0.0006014700367506879,
           0.000689253970231867,
           0.0007778291660845493,
           0.0008652546342470635,
           0.0009498779058281312,
           0.001030560875382167,
           0.001106882806381841,
           0.0011793084023423764,
           0.0012493276904689034,
           0.0013196028970431015,
           0.0013941950551931964,
           0.001478988388435468,
           0.0015824812010042247,
           0.0017171645262044804,
           0.0019017588438258078,
           0.0021646168470870818,
           0.002548614851251897,
           0.0031178306724864656,
           0.00396622061606582,
           0.005228338372065476,
           0.007091860709011962,
           0.009811283142979505,
           0.01372162467695323,
           0.019250363700613938,
           0.02692518433950397,
           0.03737455367774259,
           0.05131782385504411,
           0.06954163033440008,
           0.0928600031363373,
           0.1220569380910844,
           0.15781221231208364,
           0.20061385837530799,
           0.2506636617701459,
           0.30778488983324453,
           0.37134366358121523,
           0.44019638869563454,
           0.5126749987705855,
           0.5866191715901099,
           0.6594602049874158,
           0.7283552903082497,
           0.7903642477851088,
           0.8426543832997402,
           0.8827140652451045,
           0.908552857913493,
           0.918866219839578,
           0.9131460504941827,
           0.8917243861357694,
           0.8557454589778292,
           0.8070699539436234,
           0.7481233069519005,
           0.6817060831949086,
           0.6107879761330024,
           0.538307374002451,
           0.466995868626744,
           0.39924211946549526,
           0.33700305772730654,
           0.28176359648793037,
           0.23453983883351848,
           0.1959160804270931,
           0.16610320834302353,
           0.1450055734887082,
           0.13228489214048922,
           0.12741277341306737,
           0.12970745332713116,
           0.13835454245246392,
           0.15241538109424604,
           0.17082936642322366,
           0.19241796711057907,
           0.21589789474669085,
           0.23990912943235349,
           0.26306051641237094,
           0.2839919835577023,
           0.3014487271057476,
           0.31435965036157976,
           0.32191049649842884
          ],
          [
           2.963962643336212e-08,
           5.456954186724862e-08,
           9.857882132360669e-08,
           1.7473239244933017e-07,
           3.038929919642838e-07,
           5.1859299975911e-07,
           8.683462117048666e-07,
           1.4266634083207875e-06,
           2.2999325551589146e-06,
           3.6381199848394605e-06,
           5.6469195455868e-06,
           8.60051391790771e-06,
           1.2853534382406412e-05,
           1.885016921919089e-05,
           2.7127780290152627e-05,
           3.831199207508581e-05,
           5.310019990021286e-05,
           7.223098932002479e-05,
           9.643820863842751e-05,
           0.0001263904350329375,
           0.00016261921324403893,
           0.00020544242818307793,
           0.00025489201547117826,
           0.00031065729598382647,
           0.0003720558889357421,
           0.00043804287858331946,
           0.0005072654383323756,
           0.0005781646546775812,
           0.0006491195861133515,
           0.0007186219286085063,
           0.0007854647678595247,
           0.0008489277404246258,
           0.0009089454277612871,
           0.0009662575896797463,
           0.0010225599997042117,
           0.001080703599993445,
           0.0011450271328500331,
           0.001221953195729992,
           0.0013210276538281923,
           0.0014566339038620554,
           0.0016506607345586038,
           0.0019364362692355181,
           0.0023642470658329358,
           0.0030087221567372245,
           0.003978253303614532,
           0.0054264195621310535,
           0.007565063940739567,
           0.010678221060274988,
           0.01513552716864404,
           0.02140309972354985,
           0.030049235802515135,
           0.0417417725917479,
           0.05723374000503,
           0.07733419012791574,
           0.1028619655460697,
           0.1345817590899475,
           0.17312410050319074,
           0.21889371223883364,
           0.27197367543302886,
           0.332035563207832,
           0.39826757305552823,
           0.4693331766725641,
           0.5433714888000736,
           0.6180472695999878,
           0.6906533870713811,
           0.7582622119774186,
           0.817915652740551,
           0.8668374139656804,
           0.9026466465824096,
           0.9235503243042716,
           0.9284929242605707,
           0.9172462997083308,
           0.8904294691203951,
           0.8494564169554598,
           0.7964186374523545,
           0.7339167373548944,
           0.6648608225658724,
           0.5922618931269196,
           0.5190358316246128,
           0.4478380823183098,
           0.38094150751897404,
           0.32016317797767985,
           0.26683909532823713,
           0.2218400462491921,
           0.18561769121228627,
           0.15826800179348047,
           0.13959932968210084,
           0.12919444760680568,
           0.12645933338133936,
           0.13065561272897194,
           0.14091772958876117,
           0.156259419643965,
           0.17557640030357088,
           0.1976530287299708,
           0.22117992449491553,
           0.2447873612202268,
           0.2670959919218709,
           0.2867827568882204,
           0.302656296955651,
           0.31373350916734827
          ],
          [
           1.5674210963358668e-08,
           2.9223371833568133e-08,
           5.346016019823738e-08,
           9.595908945930846e-08,
           1.6900467773411513e-07,
           2.920580082523176e-07,
           4.952205254627363e-07,
           8.239274874300832e-07,
           1.345062247574695e-06,
           2.154575081229146e-06,
           3.3864943988795005e-06,
           5.222918159386804e-06,
           7.904168380221808e-06,
           1.1737805918028703e-05,
           1.71046939021689e-05,
           2.4459862332528356e-05,
           3.4325694071565474e-05,
           4.727507395160913e-05,
           6.39027592742101e-05,
           8.478443411750534e-05,
           0.00011042470018009,
           0.0001411974983807832,
           0.0001772848592043787,
           0.0002186220158658126,
           0.00026485826709702156,
           0.00031534304291474814,
           0.0003691450473021223,
           0.0004251090480770324,
           0.0004819501747210738,
           0.000538380243884075,
           0.0005932558697247167,
           0.0006457354724710247,
           0.0006954334690372429,
           0.0007425665555507188,
           0.0007881004601829297,
           0.0008339268310458711,
           0.0008831294819184641,
           0.0009404368788575302,
           0.001013002541296892,
           0.0011117048067252073,
           0.001253208188001971,
           0.0014630735444293198,
           0.0017802327222282944,
           0.0022631394341040153,
           0.002997850890728305,
           0.004108158915592646,
           0.005767649159601249,
           0.0082132023784046,
           0.01175895698077188,
           0.01680914711062449,
           0.023867571240720045,
           0.03354083122251495,
           0.04653205141976736,
           0.06362171202251739,
           0.08563268371827289,
           0.11337767157948701,
           0.14758912206960698,
           0.1888341500485816,
           0.2374199769258821,
           0.2932983497720584,
           0.35597991922755434,
           0.4244710215354999,
           0.4972452187405336,
           0.5722599564424332,
           0.6470247406452836,
           0.7187216098587271,
           0.7843720421110333,
           0.841037732933724,
           0.8860369944881183,
           0.9171548870427998,
           0.9328243689176322,
           0.9322580735031948,
           0.9155155987911369,
           0.8834987149991128,
           0.8378755454453862,
           0.7809432366584417,
           0.7154456239410895,
           0.6443669039801382,
           0.5707237735513823,
           0.49737683332094573,
           0.42687774106876003,
           0.36136247198735405,
           0.3024941631896967,
           0.2514524633179689,
           0.20896099706217208,
           0.1753411235280532,
           0.15057890162373175,
           0.1343930096689577,
           0.12629393714123402,
           0.12562849914178487,
           0.1316079335279238,
           0.14332183151099867,
           0.15974330988689486,
           0.17973269650412388,
           0.20204731918568009,
           0.22536375279284518,
           0.24831632588335495,
           0.2695522709485508,
           0.28780022727754245,
           0.30194553823235476
          ],
          [
           8.183428501711346e-09,
           1.5450667036658418e-08,
           2.8622931082120068e-08,
           5.2027917026028956e-08,
           9.27929363742885e-08,
           1.623866848558085e-07,
           2.7883292367892267e-07,
           4.6978296481585654e-07,
           7.766259417298684e-07,
           1.2597672155176872e-06,
           2.0050976280789388e-06,
           3.1314930368858353e-06,
           4.798915282493402e-06,
           7.216337636750637e-06,
           1.064831740590025e-05,
           1.5418641872611286e-05,
           2.1909167737296912e-05,
           3.0551869983379715e-05,
           4.181233409999153e-05,
           5.6163569407960064e-05,
           7.40501435758041e-05,
           9.58442055673456e-05,
           0.00012179682841683677,
           0.00015198999414816513,
           0.00018629608948385226,
           0.00022435256677206877,
           0.00026555907848624475,
           0.00030910269885742387,
           0.00035401384949950825,
           0.00039925164059525787,
           0.00044381329775013557,
           0.00048685928651127973,
           0.0005278450428373537,
           0.0005666533497451254,
           0.0006037298017563793,
           0.0006402387116016942,
           0.00067827917051377,
           0.0007212312893616065,
           0.0007743408632058212,
           0.0008456958844809671,
           0.0009477981347812343,
           0.0010999829061167916,
           0.001331981754767728,
           0.0016889445288911598,
           0.0022382198065623742,
           0.0030781142039112636,
           0.004348684392056903,
           0.00624433594557958,
           0.009027593738545775,
           0.01304287133470958,
           0.018728432965077008,
           0.02662408158322918,
           0.03737153410704112,
           0.05170411342827262,
           0.0704224715193705,
           0.09435372613395027,
           0.12429276195907328,
           0.16092653487278247,
           0.2047449052059226,
           0.2559445302136216,
           0.3143352304096323,
           0.3792604645472565,
           0.44954453790698984,
           0.5234784551053703,
           0.5988536532529086,
           0.6730482703543448,
           0.7431645395029891,
           0.8062091186539143,
           0.8593016805424961,
           0.8998919872957678,
           0.9259629219403587,
           0.9361971799965007,
           0.9300886988602667,
           0.9079860449837293,
           0.8710630234544794,
           0.8212205131244809,
           0.7609316299735825,
           0.6930485674437445,
           0.620592975477911,
           0.5465521204941752,
           0.4737004444107183,
           0.40446111281015695,
           0.3408156462537906,
           0.2842628496323311,
           0.23582203313139785,
           0.1960707884068115,
           0.16520486364051798,
           0.14310713373303058,
           0.12941411305230285,
           0.12357146397134633,
           0.12487389435958202,
           0.13248901638223728,
           0.1454684856466016,
           0.16275248965101863,
           0.18317501785278556,
           0.20547715361204635,
           0.22833395499523107,
           0.25039764718898816,
           0.2703563400575375,
           0.28700393784525235
          ],
          [
           4.218143935491676e-09,
           8.064934629553671e-09,
           1.512986077622686e-08,
           2.7849928346433317e-08,
           5.030010305616981e-08,
           8.913946896447702e-08,
           1.549988671259953e-07,
           2.6445118815885074e-07,
           4.427133125212251e-07,
           7.272130771593651e-07,
           1.1721018668817263e-06,
           1.8536890063430012e-06,
           2.876606220658688e-06,
           4.380274792705724e-06,
           6.544954088324713e-06,
           9.596326926059096e-06,
           1.380727762984642e-05,
           1.949531873856722e-05,
           2.7014114896649316e-05,
           3.673783125788868e-05,
           4.903767071873245e-05,
           6.425098139544285e-05,
           8.264465786889879e-05,
           0.00010437607697098593,
           0.00012945625730141307,
           0.00015772099952073064,
           0.0001888161269703845,
           0.0002222023441458712,
           0.0002571835610595467,
           0.0002929599323514443,
           0.0003287037677401054,
           0.00036365363558304596,
           0.0003972204332829322,
           0.00042910016505412246,
           0.000459392967572204,
           0.0004887378517750596,
           0.0005184888502100315,
           0.0005509817106237559,
           0.0005899715347804397,
           0.0006413608111957825,
           0.0007143830976794267,
           0.0008234574194625272,
           0.0009909767831686829,
           0.0012513316625275028,
           0.0016564814426842192,
           0.002283353598359697,
           0.0032432469892791694,
           0.004693215231392439,
           0.006849085255989088,
           0.009999313285005267,
           0.01451830615348819,
           0.020877183907783245,
           0.02964931496003604,
           0.04150744606513421,
           0.057209039064634655,
           0.07756669101780472,
           0.10340140869948533,
           0.13547812093539333,
           0.17442511860483345,
           0.2206419386845125,
           0.2742032185922388,
           0.3347687609348805,
           0.40151190531603187,
           0.4730787571084653,
           0.5475894614537972,
           0.6226893743125443,
           0.6956528491768733,
           0.7635359719855664,
           0.8233677999252567,
           0.8723635477818161,
           0.9081387839770318,
           0.9289019157662999,
           0.933603544027353,
           0.9220256323267919,
           0.8948003121959142,
           0.8533565385056954,
           0.7998014439481521,
           0.7367508063564084,
           0.6671284199013302,
           0.593956626088661,
           0.5201595931884816,
           0.44839743052656017,
           0.38094361583737246,
           0.319611502380881,
           0.2657289422791874,
           0.22015429397802713,
           0.18332300572360105,
           0.1553119798941539,
           0.13590906786004167,
           0.12467704901621911,
           0.12100479999422133,
           0.12414241003567507,
           0.13322105649513596,
           0.14726188476904606,
           0.1651804354922398,
           0.18579401495863174,
           0.2078387266076958,
           0.23000082598278945,
           0.25096400423646503,
           0.26947069171428273
          ]
         ]
        }
       ],
       "layout": {
        "template": {
         "data": {
          "bar": [
           {
            "error_x": {
             "color": "#2a3f5f"
            },
            "error_y": {
             "color": "#2a3f5f"
            },
            "marker": {
             "line": {
              "color": "#E5ECF6",
              "width": 0.5
             }
            },
            "type": "bar"
           }
          ],
          "barpolar": [
           {
            "marker": {
             "line": {
              "color": "#E5ECF6",
              "width": 0.5
             }
            },
            "type": "barpolar"
           }
          ],
          "carpet": [
           {
            "aaxis": {
             "endlinecolor": "#2a3f5f",
             "gridcolor": "white",
             "linecolor": "white",
             "minorgridcolor": "white",
             "startlinecolor": "#2a3f5f"
            },
            "baxis": {
             "endlinecolor": "#2a3f5f",
             "gridcolor": "white",
             "linecolor": "white",
             "minorgridcolor": "white",
             "startlinecolor": "#2a3f5f"
            },
            "type": "carpet"
           }
          ],
          "choropleth": [
           {
            "colorbar": {
             "outlinewidth": 0,
             "ticks": ""
            },
            "type": "choropleth"
           }
          ],
          "contour": [
           {
            "colorbar": {
             "outlinewidth": 0,
             "ticks": ""
            },
            "colorscale": [
             [
              0,
              "#0d0887"
             ],
             [
              0.1111111111111111,
              "#46039f"
             ],
             [
              0.2222222222222222,
              "#7201a8"
             ],
             [
              0.3333333333333333,
              "#9c179e"
             ],
             [
              0.4444444444444444,
              "#bd3786"
             ],
             [
              0.5555555555555556,
              "#d8576b"
             ],
             [
              0.6666666666666666,
              "#ed7953"
             ],
             [
              0.7777777777777778,
              "#fb9f3a"
             ],
             [
              0.8888888888888888,
              "#fdca26"
             ],
             [
              1,
              "#f0f921"
             ]
            ],
            "type": "contour"
           }
          ],
          "contourcarpet": [
           {
            "colorbar": {
             "outlinewidth": 0,
             "ticks": ""
            },
            "type": "contourcarpet"
           }
          ],
          "heatmap": [
           {
            "colorbar": {
             "outlinewidth": 0,
             "ticks": ""
            },
            "colorscale": [
             [
              0,
              "#0d0887"
             ],
             [
              0.1111111111111111,
              "#46039f"
             ],
             [
              0.2222222222222222,
              "#7201a8"
             ],
             [
              0.3333333333333333,
              "#9c179e"
             ],
             [
              0.4444444444444444,
              "#bd3786"
             ],
             [
              0.5555555555555556,
              "#d8576b"
             ],
             [
              0.6666666666666666,
              "#ed7953"
             ],
             [
              0.7777777777777778,
              "#fb9f3a"
             ],
             [
              0.8888888888888888,
              "#fdca26"
             ],
             [
              1,
              "#f0f921"
             ]
            ],
            "type": "heatmap"
           }
          ],
          "heatmapgl": [
           {
            "colorbar": {
             "outlinewidth": 0,
             "ticks": ""
            },
            "colorscale": [
             [
              0,
              "#0d0887"
             ],
             [
              0.1111111111111111,
              "#46039f"
             ],
             [
              0.2222222222222222,
              "#7201a8"
             ],
             [
              0.3333333333333333,
              "#9c179e"
             ],
             [
              0.4444444444444444,
              "#bd3786"
             ],
             [
              0.5555555555555556,
              "#d8576b"
             ],
             [
              0.6666666666666666,
              "#ed7953"
             ],
             [
              0.7777777777777778,
              "#fb9f3a"
             ],
             [
              0.8888888888888888,
              "#fdca26"
             ],
             [
              1,
              "#f0f921"
             ]
            ],
            "type": "heatmapgl"
           }
          ],
          "histogram": [
           {
            "marker": {
             "colorbar": {
              "outlinewidth": 0,
              "ticks": ""
             }
            },
            "type": "histogram"
           }
          ],
          "histogram2d": [
           {
            "colorbar": {
             "outlinewidth": 0,
             "ticks": ""
            },
            "colorscale": [
             [
              0,
              "#0d0887"
             ],
             [
              0.1111111111111111,
              "#46039f"
             ],
             [
              0.2222222222222222,
              "#7201a8"
             ],
             [
              0.3333333333333333,
              "#9c179e"
             ],
             [
              0.4444444444444444,
              "#bd3786"
             ],
             [
              0.5555555555555556,
              "#d8576b"
             ],
             [
              0.6666666666666666,
              "#ed7953"
             ],
             [
              0.7777777777777778,
              "#fb9f3a"
             ],
             [
              0.8888888888888888,
              "#fdca26"
             ],
             [
              1,
              "#f0f921"
             ]
            ],
            "type": "histogram2d"
           }
          ],
          "histogram2dcontour": [
           {
            "colorbar": {
             "outlinewidth": 0,
             "ticks": ""
            },
            "colorscale": [
             [
              0,
              "#0d0887"
             ],
             [
              0.1111111111111111,
              "#46039f"
             ],
             [
              0.2222222222222222,
              "#7201a8"
             ],
             [
              0.3333333333333333,
              "#9c179e"
             ],
             [
              0.4444444444444444,
              "#bd3786"
             ],
             [
              0.5555555555555556,
              "#d8576b"
             ],
             [
              0.6666666666666666,
              "#ed7953"
             ],
             [
              0.7777777777777778,
              "#fb9f3a"
             ],
             [
              0.8888888888888888,
              "#fdca26"
             ],
             [
              1,
              "#f0f921"
             ]
            ],
            "type": "histogram2dcontour"
           }
          ],
          "mesh3d": [
           {
            "colorbar": {
             "outlinewidth": 0,
             "ticks": ""
            },
            "type": "mesh3d"
           }
          ],
          "parcoords": [
           {
            "line": {
             "colorbar": {
              "outlinewidth": 0,
              "ticks": ""
             }
            },
            "type": "parcoords"
           }
          ],
          "pie": [
           {
            "automargin": true,
            "type": "pie"
           }
          ],
          "scatter": [
           {
            "marker": {
             "colorbar": {
              "outlinewidth": 0,
              "ticks": ""
             }
            },
            "type": "scatter"
           }
          ],
          "scatter3d": [
           {
            "line": {
             "colorbar": {
              "outlinewidth": 0,
              "ticks": ""
             }
            },
            "marker": {
             "colorbar": {
              "outlinewidth": 0,
              "ticks": ""
             }
            },
            "type": "scatter3d"
           }
          ],
          "scattercarpet": [
           {
            "marker": {
             "colorbar": {
              "outlinewidth": 0,
              "ticks": ""
             }
            },
            "type": "scattercarpet"
           }
          ],
          "scattergeo": [
           {
            "marker": {
             "colorbar": {
              "outlinewidth": 0,
              "ticks": ""
             }
            },
            "type": "scattergeo"
           }
          ],
          "scattergl": [
           {
            "marker": {
             "colorbar": {
              "outlinewidth": 0,
              "ticks": ""
             }
            },
            "type": "scattergl"
           }
          ],
          "scattermapbox": [
           {
            "marker": {
             "colorbar": {
              "outlinewidth": 0,
              "ticks": ""
             }
            },
            "type": "scattermapbox"
           }
          ],
          "scatterpolar": [
           {
            "marker": {
             "colorbar": {
              "outlinewidth": 0,
              "ticks": ""
             }
            },
            "type": "scatterpolar"
           }
          ],
          "scatterpolargl": [
           {
            "marker": {
             "colorbar": {
              "outlinewidth": 0,
              "ticks": ""
             }
            },
            "type": "scatterpolargl"
           }
          ],
          "scatterternary": [
           {
            "marker": {
             "colorbar": {
              "outlinewidth": 0,
              "ticks": ""
             }
            },
            "type": "scatterternary"
           }
          ],
          "surface": [
           {
            "colorbar": {
             "outlinewidth": 0,
             "ticks": ""
            },
            "colorscale": [
             [
              0,
              "#0d0887"
             ],
             [
              0.1111111111111111,
              "#46039f"
             ],
             [
              0.2222222222222222,
              "#7201a8"
             ],
             [
              0.3333333333333333,
              "#9c179e"
             ],
             [
              0.4444444444444444,
              "#bd3786"
             ],
             [
              0.5555555555555556,
              "#d8576b"
             ],
             [
              0.6666666666666666,
              "#ed7953"
             ],
             [
              0.7777777777777778,
              "#fb9f3a"
             ],
             [
              0.8888888888888888,
              "#fdca26"
             ],
             [
              1,
              "#f0f921"
             ]
            ],
            "type": "surface"
           }
          ],
          "table": [
           {
            "cells": {
             "fill": {
              "color": "#EBF0F8"
             },
             "line": {
              "color": "white"
             }
            },
            "header": {
             "fill": {
              "color": "#C8D4E3"
             },
             "line": {
              "color": "white"
             }
            },
            "type": "table"
           }
          ]
         },
         "layout": {
          "annotationdefaults": {
           "arrowcolor": "#2a3f5f",
           "arrowhead": 0,
           "arrowwidth": 1
          },
          "coloraxis": {
           "colorbar": {
            "outlinewidth": 0,
            "ticks": ""
           }
          },
          "colorscale": {
           "diverging": [
            [
             0,
             "#8e0152"
            ],
            [
             0.1,
             "#c51b7d"
            ],
            [
             0.2,
             "#de77ae"
            ],
            [
             0.3,
             "#f1b6da"
            ],
            [
             0.4,
             "#fde0ef"
            ],
            [
             0.5,
             "#f7f7f7"
            ],
            [
             0.6,
             "#e6f5d0"
            ],
            [
             0.7,
             "#b8e186"
            ],
            [
             0.8,
             "#7fbc41"
            ],
            [
             0.9,
             "#4d9221"
            ],
            [
             1,
             "#276419"
            ]
           ],
           "sequential": [
            [
             0,
             "#0d0887"
            ],
            [
             0.1111111111111111,
             "#46039f"
            ],
            [
             0.2222222222222222,
             "#7201a8"
            ],
            [
             0.3333333333333333,
             "#9c179e"
            ],
            [
             0.4444444444444444,
             "#bd3786"
            ],
            [
             0.5555555555555556,
             "#d8576b"
            ],
            [
             0.6666666666666666,
             "#ed7953"
            ],
            [
             0.7777777777777778,
             "#fb9f3a"
            ],
            [
             0.8888888888888888,
             "#fdca26"
            ],
            [
             1,
             "#f0f921"
            ]
           ],
           "sequentialminus": [
            [
             0,
             "#0d0887"
            ],
            [
             0.1111111111111111,
             "#46039f"
            ],
            [
             0.2222222222222222,
             "#7201a8"
            ],
            [
             0.3333333333333333,
             "#9c179e"
            ],
            [
             0.4444444444444444,
             "#bd3786"
            ],
            [
             0.5555555555555556,
             "#d8576b"
            ],
            [
             0.6666666666666666,
             "#ed7953"
            ],
            [
             0.7777777777777778,
             "#fb9f3a"
            ],
            [
             0.8888888888888888,
             "#fdca26"
            ],
            [
             1,
             "#f0f921"
            ]
           ]
          },
          "colorway": [
           "#636efa",
           "#EF553B",
           "#00cc96",
           "#ab63fa",
           "#FFA15A",
           "#19d3f3",
           "#FF6692",
           "#B6E880",
           "#FF97FF",
           "#FECB52"
          ],
          "font": {
           "color": "#2a3f5f"
          },
          "geo": {
           "bgcolor": "white",
           "lakecolor": "white",
           "landcolor": "#E5ECF6",
           "showlakes": true,
           "showland": true,
           "subunitcolor": "white"
          },
          "hoverlabel": {
           "align": "left"
          },
          "hovermode": "closest",
          "mapbox": {
           "style": "light"
          },
          "paper_bgcolor": "white",
          "plot_bgcolor": "#E5ECF6",
          "polar": {
           "angularaxis": {
            "gridcolor": "white",
            "linecolor": "white",
            "ticks": ""
           },
           "bgcolor": "#E5ECF6",
           "radialaxis": {
            "gridcolor": "white",
            "linecolor": "white",
            "ticks": ""
           }
          },
          "scene": {
           "xaxis": {
            "backgroundcolor": "#E5ECF6",
            "gridcolor": "white",
            "gridwidth": 2,
            "linecolor": "white",
            "showbackground": true,
            "ticks": "",
            "zerolinecolor": "white"
           },
           "yaxis": {
            "backgroundcolor": "#E5ECF6",
            "gridcolor": "white",
            "gridwidth": 2,
            "linecolor": "white",
            "showbackground": true,
            "ticks": "",
            "zerolinecolor": "white"
           },
           "zaxis": {
            "backgroundcolor": "#E5ECF6",
            "gridcolor": "white",
            "gridwidth": 2,
            "linecolor": "white",
            "showbackground": true,
            "ticks": "",
            "zerolinecolor": "white"
           }
          },
          "shapedefaults": {
           "line": {
            "color": "#2a3f5f"
           }
          },
          "ternary": {
           "aaxis": {
            "gridcolor": "white",
            "linecolor": "white",
            "ticks": ""
           },
           "baxis": {
            "gridcolor": "white",
            "linecolor": "white",
            "ticks": ""
           },
           "bgcolor": "#E5ECF6",
           "caxis": {
            "gridcolor": "white",
            "linecolor": "white",
            "ticks": ""
           }
          },
          "title": {
           "x": 0.05
          },
          "xaxis": {
           "automargin": true,
           "gridcolor": "white",
           "linecolor": "white",
           "ticks": "",
           "title": {
            "standoff": 15
           },
           "zerolinecolor": "white",
           "zerolinewidth": 2
          },
          "yaxis": {
           "automargin": true,
           "gridcolor": "white",
           "linecolor": "white",
           "ticks": "",
           "title": {
            "standoff": 15
           },
           "zerolinecolor": "white",
           "zerolinewidth": 2
          }
         }
        }
       }
      },
      "text/html": [
       "<div>                            <div id=\"d1340e87-1f63-4162-b229-87d6736f4e27\" class=\"plotly-graph-div\" style=\"height:525px; width:100%;\"></div>            <script type=\"text/javascript\">                require([\"plotly\"], function(Plotly) {                    window.PLOTLYENV=window.PLOTLYENV || {};                                    if (document.getElementById(\"d1340e87-1f63-4162-b229-87d6736f4e27\")) {                    Plotly.newPlot(                        \"d1340e87-1f63-4162-b229-87d6736f4e27\",                        [{\"type\": \"surface\", \"x\": [-84.55, -84.5279797979798, -84.5059595959596, -84.4839393939394, -84.4619191919192, -84.43989898989899, -84.41787878787879, -84.39585858585859, -84.37383838383838, -84.35181818181817, -84.32979797979797, -84.30777777777777, -84.28575757575757, -84.26373737373737, -84.24171717171717, -84.21969696969697, -84.19767676767677, -84.17565656565657, -84.15363636363637, -84.13161616161617, -84.10959595959596, -84.08757575757576, -84.06555555555555, -84.04353535353535, -84.02151515151515, -83.99949494949495, -83.97747474747474, -83.95545454545454, -83.93343434343434, -83.91141414141414, -83.88939393939394, -83.86737373737374, -83.84535353535354, -83.82333333333334, -83.80131313131314, -83.77929292929294, -83.75727272727272, -83.73525252525252, -83.71323232323232, -83.69121212121212, -83.66919191919192, -83.64717171717172, -83.62515151515152, -83.60313131313131, -83.58111111111111, -83.55909090909091, -83.53707070707071, -83.51505050505051, -83.49303030303031, -83.47101010101011, -83.4489898989899, -83.42696969696969, -83.40494949494949, -83.38292929292929, -83.36090909090909, -83.33888888888889, -83.31686868686869, -83.29484848484849, -83.27282828282829, -83.25080808080808, -83.22878787878788, -83.20676767676768, -83.18474747474748, -83.16272727272728, -83.14070707070707, -83.11868686868686, -83.09666666666666, -83.07464646464646, -83.05262626262626, -83.03060606060606, -83.00858585858586, -82.98656565656566, -82.96454545454546, -82.94252525252526, -82.92050505050506, -82.89848484848486, -82.87646464646465, -82.85444444444445, -82.83242424242424, -82.81040404040404, -82.78838383838384, -82.76636363636364, -82.74434343434343, -82.72232323232323, -82.70030303030303, -82.67828282828283, -82.65626262626263, -82.63424242424243, -82.61222222222223, -82.59020202020203, -82.56818181818183, -82.54616161616163, -82.52414141414141, -82.50212121212121, -82.48010101010101, -82.45808080808081, -82.43606060606061, -82.4140404040404, -82.3920202020202, -82.37], \"y\": [35.71, 35.71848484848485, 35.7269696969697, 35.735454545454544, 35.74393939393939, 35.75242424242424, 35.76090909090909, 35.76939393939394, 35.77787878787879, 35.78636363636364, 35.79484848484849, 35.803333333333335, 35.81181818181818, 35.82030303030303, 35.82878787878788, 35.837272727272726, 35.845757575757574, 35.85424242424242, 35.86272727272727, 35.871212121212125, 35.87969696969697, 35.88818181818182, 35.89666666666667, 35.905151515151516, 35.913636363636364, 35.92212121212121, 35.93060606060606, 35.93909090909091, 35.947575757575756, 35.9560606060606, 35.96454545454545, 35.973030303030306, 35.981515151515154, 35.99, 35.99848484848485, 36.0069696969697, 36.015454545454546, 36.02393939393939, 36.03242424242424, 36.04090909090909, 36.04939393939394, 36.057878787878785, 36.06636363636363, 36.07484848484848, 36.083333333333336, 36.091818181818184, 36.10030303030303, 36.10878787878788, 36.11727272727273, 36.125757575757575, 36.13424242424242, 36.14272727272727, 36.15121212121212, 36.15969696969697, 36.168181818181814, 36.17666666666666, 36.18515151515152, 36.193636363636365, 36.20212121212121, 36.21060606060606, 36.21909090909091, 36.22757575757576, 36.236060606060605, 36.24454545454545, 36.2530303030303, 36.26151515151515, 36.269999999999996, 36.278484848484844, 36.28696969696969, 36.29545454545455, 36.303939393939395, 36.31242424242424, 36.32090909090909, 36.32939393939394, 36.337878787878786, 36.346363636363634, 36.35484848484848, 36.36333333333333, 36.37181818181818, 36.380303030303025, 36.38878787878787, 36.39727272727273, 36.405757575757576, 36.414242424242424, 36.42272727272727, 36.43121212121212, 36.43969696969697, 36.448181818181816, 36.45666666666666, 36.46515151515151, 36.47363636363636, 36.48212121212121, 36.490606060606055, 36.49909090909091, 36.50757575757576, 36.516060606060606, 36.52454545454545, 36.5330303030303, 36.54151515151515, 36.55], \"z\": [[0.7258969621116863, 0.8038091606338781, 0.8825093218760821, 0.959715658413383, 1.0329515909638227, 1.0997030704207995, 1.1575972718537602, 1.2045857579124388, 1.2391123193693667, 1.2602452765510483, 1.2677565270620519, 1.2621350379549414, 1.2445302444422195, 1.2166298703153993, 1.1804856247975368, 1.1383075667202391, 1.0922523748889765, 1.0442315082034552, 0.9957621094866157, 0.9478770181871427, 0.901101510212544, 0.8554948468167204, 0.8107459397617401, 0.7663057719394262, 0.7215355595488236, 0.6758493447781941, 0.6288325275373984, 0.5803230568790229, 0.5304485710040476, 0.47961955954687674, 0.42848458196896577, 0.37785792781754496, 0.3286324168219593, 0.2816902521240057, 0.23782323213520387, 0.19767070806270712, 0.16168007807188373, 0.13009096866209063, 0.1029411012909016, 0.08008954060703535, 0.06125173565190804, 0.04604047587304283, 0.034007421670282145, 0.024680976860418438, 0.017597661755260032, 0.012325558607940061, 0.008479634997825542, 0.005729682608034706, 0.0038021939330425214, 0.0024777568617906634, 0.0015855388057438712, 0.000996240442136712, 0.0006146076216998708, 0.0003722694519241096, 0.00022137235736448475, 0.0001292344350719338, 7.406374541193666e-05, 4.166684236073833e-05, 2.3010130220061634e-05, 1.2473210355830759e-05, 6.636760976032918e-06, 3.4661059164522974e-06, 1.7767445241238394e-06, 8.939149071119033e-07, 4.4141454975022366e-07, 2.1392830752121255e-07, 1.0175446735117025e-07, 4.750019108877808e-08, 2.1761428566875873e-08, 9.784161767783364e-09, 4.317163182091216e-09, 1.8694194926280756e-09, 7.944082594502323e-10, 3.3128745067547446e-10, 1.3557710657144515e-10, 5.444826855647577e-11, 2.1458264770674863e-11, 8.298788192949981e-12, 3.149497785871656e-12, 1.1729289589817962e-12, 4.286505046841343e-13, 1.5372123716440086e-13, 5.409550609942893e-14, 1.868028012524373e-14, 6.3299278890353985e-15, 2.1047757799638976e-15, 6.86757395532248e-16, 2.198822899957263e-16, 6.908213833568463e-17, 2.1297537596971003e-17, 6.442892775314656e-18, 1.9125836109993678e-18, 5.571196645069273e-19, 1.5924508679179497e-19, 4.466574476008946e-20, 1.229351868820716e-20, 3.320272685402769e-21, 8.799761887609933e-22, 2.2886134489630664e-22, 5.840960951894938e-23], [0.735597114517538, 0.8185376142835666, 0.9039353392557355, 0.9895205840874187, 1.0727037251405724, 1.1507232976054071, 1.2208283097096568, 1.280479540688068, 1.3275499211973063, 1.360501606151728, 1.3785177995417845, 1.3815711403910738, 1.3704173072429264, 1.3465116412984395, 1.3118567102818037, 1.2687982259115675, 1.2197939826392217, 1.1671842246604827, 1.1129913834464025, 1.0587725090956541, 1.0055397291260932, 0.953754068807119, 0.903387626571137, 0.8540400724593853, 0.8050890691357488, 0.7558513114623259, 0.7057316134607245, 0.6543414016505911, 0.6015741865744221, 0.5476328950443327, 0.4930111287285912, 0.43843641183361, 0.3847875632765676, 0.3330001359189454, 0.28397346407572654, 0.23849063928787007, 0.19715930192860653, 0.160377189728314, 0.12832258337249394, 0.10096665646129213, 0.07810259765350677, 0.05938533851073459, 0.044375712373125376, 0.03258366874030305, 0.023506480373497948, 0.016659402178638507, 0.01159770851114567, 0.007930259422872163, 0.005325623042011057, 0.0035122872221930767, 0.002274667051836061, 0.0014465319126658785, 0.00090322705780247, 0.0005537362140044512, 0.00033329290339914635, 0.00019694638772789749, 0.000114248860233562, 6.506119335957598e-05, 3.6370061905451386e-05, 1.9957428520682377e-05, 1.0749575354632879e-05, 5.683198064331819e-06, 2.949160786577116e-06, 1.5020987396185307e-06, 7.509029324631928e-07, 3.684223648763063e-07, 1.7740964680883402e-07, 8.384367323067341e-08, 3.888825603894387e-08, 1.7701721957569264e-08, 7.907799713615263e-09, 3.4668379785559007e-09, 1.4915719100442338e-09, 6.297714969906096e-10, 2.6094302058952226e-10, 1.061031527062963e-10, 4.2337688627815146e-11, 1.6578256890697945e-11, 6.370306439296526e-12, 2.402086526533206e-12, 8.888351062668386e-13, 3.2274207037385023e-13, 1.1499782315503688e-13, 4.020882422302835e-14, 1.379587124511526e-14, 4.644847104426653e-15, 1.5345711208441516e-15, 4.975021583784918e-16, 1.582685410057953e-16, 4.940666732924738e-17, 1.5134492458504546e-17, 4.549272154873539e-18, 1.341864360188036e-18, 3.88391209469487e-19, 1.1031290289084187e-19, 3.074554623425841e-20, 8.408931652632148e-21, 2.2568720834103052e-21, 5.944107641805572e-22, 1.5363409607130665e-22], [0.7407222581120565, 0.8275350728819951, 0.9185395710081442, 1.0115773013639027, 1.1040481973401446, 1.1930394882603825, 1.2755006893994438, 1.3484523449172436, 1.409210012722968, 1.4556004303384247, 1.4861449372236673, 1.5001867915874774, 1.4979442255603903, 1.4804794990841692, 1.4495847598454055, 1.4075966147267227, 1.3571611633517071, 1.3009781526364297, 1.2415556592763657, 1.18100478628009, 1.1208975858631491, 1.0622018730059104, 1.0052953968035958, 0.9500508414658415, 0.8959740621331868, 0.8423721193066185, 0.7885257253895479, 0.7338426269434467, 0.6779735592430733, 0.6208796173345212, 0.5628478677809636, 0.5044594872327293, 0.44652060858347964, 0.3899697150907039, 0.33577661824666044, 0.2848469709440458, 0.2379434117554006, 0.1956305099563566, 0.15824643518852846, 0.12590038234628834, 0.0984917397695917, 0.07574507253194218, 0.05725425205363619, 0.0425293582238889, 0.031041042316785686, 0.022258542847288752, 0.01567917546676366, 0.010848613541622433, 0.00737246553688037, 0.004920457844607038, 0.0032249465516035435, 0.002075565973471543, 0.0013116645299235538, 0.000813876562089573, 0.0004958188737078483, 0.00029654950694580273, 0.00017412591257833182, 0.00010037034789823555, 5.6794764000063814e-05, 3.154700760769944e-05, 1.7200546159865714e-05, 9.205526763446855e-06, 4.835778676365468e-06, 2.49336223595256e-06, 1.261816204946032e-06, 6.267435051633831e-07, 3.0553325923275764e-07, 1.4618221207886113e-07, 6.864216473058775e-08, 3.1633069787934236e-08, 1.4306704990072961e-08, 6.3500952346699225e-09, 2.766037170499794e-09, 1.1824101228062935e-09, 4.960279715950393e-10, 2.0420575278093702e-10, 8.249920025565877e-11, 3.270754451979616e-11, 1.2725045221323311e-11, 4.8582620675785605e-12, 1.8201619455885417e-12, 6.691818314198235e-13, 2.4142433926450416e-13, 8.547100174247752e-14, 2.969310811751518e-14, 1.0122556463067426e-14, 3.3862676659914358e-15, 1.1115987249884524e-15, 3.580716752004838e-16, 1.131844950601598e-16, 3.510744686482567e-17, 1.0685815879007032e-17, 3.191637929081994e-18, 9.354467451657005e-19, 2.690461954999285e-19, 7.593477812159484e-20, 2.1031272422791348e-20, 5.716201197597203e-21, 1.5246648254263121e-21, 3.9909460748165286e-22], [0.7417865702961125, 0.8311869242696416, 0.9264979120865986, 1.0257714409046994, 1.1265074673125546, 1.2257544984529776, 1.3202660268134703, 1.4067046111512362, 1.4818779662437547, 1.5429850071541402, 1.5878455531503346, 1.6150864111760808, 1.6242594835945805, 1.6158744018164743, 1.591338268869749, 1.552807018078796, 1.502964817819234, 1.4447579014525231, 1.3811154613242265, 1.3146917062954309, 1.2476595709970781, 1.1815785053063046, 1.1173476577943025, 1.0552434802966966, 0.9950293277189073, 0.9361157624450501, 0.8777452004517969, 0.8191737380763175, 0.7598262119708271, 0.6994068810096066, 0.6379562796599806, 0.5758533353482397, 0.5137694387222674, 0.4525867944206734, 0.39329649089738283, 0.33689221336815767, 0.28427370672551283, 0.23617060361583994, 0.19309285234782522, 0.15530950100931346, 0.12285368642806539, 0.0955487985685287, 0.07304915648224375, 0.054888121748885216, 0.040527186740406486, 0.029400893206724166, 0.020954110569547425, 0.014669911162420179, 0.010087774372329777, 0.0068129822620125536, 0.004518780261856463, 0.0029431907371905756, 0.001882359821433306, 0.0011820887746139814, 0.0007288513486007612, 0.0004412139845420404, 0.00026221809169617804, 0.00015298970293950163, 8.762586513645105e-05, 4.926728158386214e-05, 2.7191159438364835e-05, 1.4730835303292512e-05, 7.83332471082238e-06, 4.088588639994961e-06, 2.0945919690047538e-06, 1.0532102705927288e-06, 5.19770869151916e-07, 2.5175734762153407e-07, 1.196791440241503e-07, 5.5835980652873055e-08, 2.5566007479320567e-08, 1.1488384172083849e-08, 5.066369567328382e-09, 2.1926618190756654e-09, 9.312765622771715e-10, 3.881625439183857e-10, 1.587714966529727e-10, 6.373114896801067e-11, 2.510428660210105e-11, 9.704158078027006e-12, 3.681110678522185e-12, 1.3702770713099178e-12, 5.005461799782161e-13, 1.7942550611693596e-13, 6.3114157608806e-14, 2.1785653964454156e-14, 7.3792897288016e-15, 2.45277652721773e-15, 8.000194898813867e-16, 2.5606043530289304e-16, 8.042376365937366e-17, 2.4787206262929848e-17, 7.49676694170897e-18, 2.2249818234846753e-18, 6.480204474288309e-19, 1.8521051721418586e-19, 5.194736881231046e-20, 1.4298496347009892e-20, 3.862388761799857e-21, 1.0239356564772734e-21], [0.7394515687515236, 0.8300906883702014, 0.9282609677727536, 1.0323171155034678, 1.1399703860140726, 1.2483528580508818, 1.3541446849147079, 1.4537609003152225, 1.5435863421291194, 1.6202393465648683, 1.6808383997729954, 1.723242252903263, 1.746234175342713, 1.7496255563377046, 1.7342627416832868, 1.7019327871788943, 1.6551770235190544, 1.5970338610503618, 1.5307420152000777, 1.4594406139072762, 1.3859025241046925, 1.3123317236337735, 1.240245614582245, 1.1704505410599066, 1.103105562934258, 1.0378578683136015, 0.9740248146708057, 0.9107935328167263, 0.8474095662356526, 0.7833306317828548, 0.7183291496784562, 0.6525362243904272, 0.586428725388509, 0.5207686814820445, 0.4565094232805944, 0.39468533897693525, 0.3363018003171543, 0.2822392355689767, 0.23318121918808404, 0.18957167190533109, 0.15160163485656278, 0.11922224433666594, 0.09217789463384723, 0.07005227725974568, 0.052319933167123835, 0.03839688599900265, 0.027685482905445872, 0.019610385648411943, 0.013644409409458498, 0.009324370698505054, 0.006258154090689664, 0.004124812008662823, 0.002669718647621433, 0.0016967000463787621, 0.0010587658970633786, 0.0006486779459609812, 0.0003901875423474803, 0.00023041728722963045, 0.00013357888775782358, 7.601978930359272e-05, 4.246857508019491e-05, 2.3288851095660017e-05, 1.2535910846123985e-05, 6.623387520851139e-06, 3.4348728305390944e-06, 1.7483883866263623e-06, 8.734803210645071e-07, 4.2830006256612665e-07, 2.061177410458064e-07, 9.735265445852274e-08, 4.512725057107687e-08, 2.052969692045244e-08, 9.165858694317304e-09, 4.016109181226962e-09, 1.7269300957126437e-09, 7.287463971897294e-10, 3.017910544697527e-10, 1.2264808582925281e-10, 4.8914336025756095e-11, 1.914385248198136e-11, 7.352540361537039e-12, 2.7711358172657606e-12, 1.0249159262849899e-12, 3.7198612483130746e-13, 1.3248651378389529e-13, 4.6304345644074336e-14, 1.5880935282247594e-14, 5.3448333397955895e-15, 1.7652085566154698e-15, 5.720871370168262e-16, 1.8194235324494376e-16, 5.678227466531663e-17, 1.7390091186508554e-17, 5.226425616376766e-18, 1.541439454667237e-18, 4.461422113742775e-19, 1.2672239538630319e-19, 3.532455895519169e-20, 9.663979150281965e-21, 2.5948159321080367e-21], [0.7344781455100848, 0.8250122805031153, 0.9245202369698848, 1.031739031059598, 1.1446959381785564, 1.2607308165117872, 1.3765850079182393, 1.4885587435620693, 1.5927308553052628, 1.6852257141629625, 1.7625039890275187, 1.821647534514216, 1.8606058795049127, 1.878373399085507, 1.8750726333945833, 1.851929841656595, 1.8111423774097204, 1.7556518167492772, 1.688849640001468, 1.614251477836521, 1.5351798861620347, 1.4544936203148584, 1.3743937994490836, 1.2963255231488584, 1.2209794625282129, 1.1483840326557344, 1.0780671509464421, 1.0092589529420795, 0.9411040400810705, 0.8728538682099566, 0.8040159574184441, 0.7344453510919257, 0.6643735388330668, 0.5943792809876688, 0.5253131230017105, 0.45819202664068803, 0.39408217441433174, 0.33398683687263, 0.2787528434007337, 0.22900451813774017, 0.18510884871051494, 0.14717096596370127, 0.11505533560634464, 0.08842573401845139, 0.06679616229623979, 0.04958517707551869, 0.036167361371129914, 0.02591743311634913, 0.018244414053960663, 0.012615048471919651, 0.008567064692703014, 0.005713816826354207, 0.0037423302545546043, 0.002406870315103715, 0.001519965670338437, 0.0009424607089505916, 0.0005737475989263328, 0.00034291627887415914, 0.00020120920785302065, 0.00011590025789398102, 6.553649952829795e-05, 3.637734099442348e-05, 1.9820523380334193e-05, 1.060044856977421e-05, 5.564775736173484e-06, 2.867315622462707e-06, 1.4501020619185203e-06, 7.197942202951022e-07, 3.5066865290492096e-07, 1.6767062862617318e-07, 7.86831384590185e-08, 3.6238036260860566e-08, 1.637947794573621e-08, 7.265783011895407e-09, 3.163054759155199e-09, 1.3513512502215037e-09, 5.665819444474083e-10, 2.331235793542568e-10, 9.413151443423537e-11, 3.7299754549015654e-11, 1.4504275146367489e-11, 5.534808363610914e-12, 2.0726375699183207e-12, 7.616517318604294e-13, 2.746630513032563e-13, 9.719717500471889e-14, 3.3753277193059385e-14, 1.1502360066619041e-14, 3.846511690850994e-15, 1.2622845615919243e-15, 4.064989122421419e-16, 1.284624152361018e-16, 3.9839242850495755e-17, 1.2124653202832208e-17, 3.6212396261177055e-18, 1.0614097782387953e-18, 3.053212865007968e-19, 8.619698625911848e-20, 2.388382717890115e-20, 6.495492149062218e-21], [0.7276730186371635, 0.8168316694018319, 0.9161584665053708, 1.0248338775261274, 1.141292330124693, 1.263199404909197, 1.3874954374860629, 1.5105128651300124, 1.6281670078274613, 1.7362107463726015, 1.83053391229281, 1.9074796509225918, 1.9641441895383653, 1.998624759718166, 2.0101837657502717, 1.9993057236606833, 1.9676361436999037, 1.917806649462722, 1.8531658779274887, 1.7774485729711826, 1.694423574196822, 1.6075636779752693, 1.5197762278017455, 1.433223525820609, 1.349248468528185, 1.2684055406011356, 1.1905829560354422, 1.115190514546407, 1.041381162448644, 0.9682729346558139, 0.8951416086761591, 0.8215619450762146, 0.7474852354167177, 0.6732512601330563, 0.5995420433299762, 0.5272917350574235, 0.45757084934417397, 0.39146381018505155, 0.32995669244304177, 0.2738479465794026, 0.2236897119567998, 0.17976200571615977, 0.14207742611895408, 0.11041058111145483, 0.08434449987666197, 0.06332578323519437, 0.04672095544060932, 0.033868020413282636, 0.02411918350943125, 0.016872695598035076, 0.011593519220788565, 0.007823830938703253, 0.0051851963182290356, 0.0033746129360773154, 0.002156601681050303, 0.0013532551493382308, 0.000833742323628354, 0.0005043207886525407, 0.0002994930960844372, 0.00017460439818774298, 9.993019789255873e-05, 5.6143239886109154e-05, 3.0963094478323e-05, 1.6761982375220207e-05, 8.906957691779106e-06, 4.645645315717961e-06, 2.3782952374661092e-06, 1.195032272111435e-06, 5.893582685300615e-07, 2.852708042914878e-07, 1.3552091870940614e-07, 6.318584391631177e-08, 2.8912892565850693e-08, 1.2984221018651364e-08, 5.722523598803676e-09, 2.4751513250258536e-09, 1.0506399530961116e-09, 4.3766312418206187e-10, 1.7891887133999994e-10, 7.177928296364196e-11, 2.8259588844611495e-11, 1.0918266108474118e-11, 4.1396189213101786e-12, 1.5402245744558243e-12, 5.623715092331051e-13, 2.0150100051782564e-13, 7.085089250269334e-14, 2.4447128324048644e-14, 8.278004497606344e-15, 2.7506821257299633e-15, 8.969633133233464e-16, 2.8703321495301255e-16, 9.014004859626923e-17, 2.7780372317411955e-17, 8.402359945821791e-18, 2.4941233538521214e-18, 7.266095244834847e-19, 2.077624018658963e-19, 5.830898476251577e-20, 1.606316280990303e-20], [0.7198340248616134, 0.8064824458311103, 0.9041883057837176, 1.0126141861278, 1.130673085149892, 1.2564601187713902, 1.387246653956636, 1.519549268955952, 1.649279316781055, 1.771969955429767, 1.8830672132350357, 1.9782613846796384, 2.053826518002765, 2.106930694427937, 2.135879597350898, 2.1402612194958257, 2.12097020397569, 2.080104995993456, 2.020747568003448, 1.9466513384047848, 1.861875384779208, 1.770410019754872, 1.6758390564542558, 1.5810776323982165, 1.4882124586138312, 1.398455923240116, 1.312209224193224, 1.2292152533180731, 1.1487714502220276, 1.069967608917915, 0.9919139884041709, 0.913930432315605, 0.8356761811517684, 0.757210873486299, 0.6789880150369784, 0.6017913267014905, 0.5266307243977313, 0.4546176937410523, 0.3868395603115461, 0.32424918036265715, 0.26758177708329905, 0.2173050468450213, 0.17360322608724255, 0.13639130809058533, 0.10535250556042766, 0.07999053336780006, 0.059688223024273984, 0.043765062955567084, 0.031528067180088326, 0.02231247746698672, 0.015510829251636226, 0.010590594949081393, 0.007101817517177919, 0.004676832377226814, 0.0030244030579479084, 0.0019204728132130534, 0.0011973872583383753, 0.0007329905990888851, 0.00044053514044115484, 0.0002599343731644305, 0.00015056772268710213, 8.561903150035656e-05, 4.779311883762589e-05, 2.6188128096776527e-05, 1.4085617294703561e-05, 7.436504202470855e-06, 3.8536586249321995e-06, 1.9601070772232294e-06, 9.785428291386575e-07, 4.79474291026069e-07, 2.305838001303319e-07, 1.0883367909371989e-07, 5.041531169730484e-08, 2.2920299120934188e-08, 1.0226600375985044e-08, 4.478065081072188e-09, 1.924389479321901e-09, 8.115863863710321e-10, 3.359014561852863e-10, 1.3643346746024087e-10, 5.4382452710818974e-11, 2.1272712487873487e-11, 8.166029669607678e-12, 3.076247717300302e-12, 1.1372414877314348e-12, 4.125764716819873e-13, 1.4688469843590707e-13, 5.1317994020198945e-14, 1.759483968359552e-14, 5.920057905778786e-15, 1.954767883057638e-15, 6.3342903898496e-16, 2.0143771861245625e-16, 6.286835099597804e-17, 1.9256725627473826e-17, 5.789022683661999e-18, 1.70811477874053e-18, 4.946958252361664e-19, 1.406351395128399e-19, 3.92477144869594e-20], [0.7116986779107726, 0.7948902659102214, 0.889684353809914, 0.9962393381117656, 1.1139938040229134, 1.2415552047946794, 1.3766434598291197, 1.5161061972612555, 1.656017233247325, 1.7918619169689898, 1.9188027643770875, 2.032007524544938, 2.127011123738781, 2.2000747121448274, 2.248501088349506, 2.2708673856261923, 2.2671435066087207, 2.238677760802943, 2.1880478045023066, 2.1187927969200655, 2.035058782782634, 1.941200977585586, 1.8413918704688748, 1.7392819951688583, 1.637751270559209, 1.5387745977401182, 1.4434084023329619, 1.3518878762726219, 1.2638104738157356, 1.178371773956135, 1.0946161998689297, 1.0116672901295394, 0.9289092973510429, 0.8461022124489095, 0.7634239140637319, 0.6814441025695911, 0.601043432846888, 0.5232968110702955, 0.44934181726804223, 0.3802519147509888, 0.3169302395669919, 0.2600343361583623, 0.20993629627168647, 0.16671732582327564, 0.13019151512887364, 0.09995090746132029, 0.07542291410860351, 0.0559315094597588, 0.04075507889770211, 0.02917583170700518, 0.020517893528160608, 0.014173205008861444, 0.009615942875610262, 0.006407241274301768, 0.00419252882144896, 0.002693891777995974, 0.0016996488671191159, 0.0010529101352812326, 0.0006404074897753391, 0.0003824160800480928, 0.000224188676816781, 0.00012902487837792933, 7.289557541613012e-05, 4.0428121009708486e-05, 2.2009408022706732e-05, 1.1761540820147549e-05, 6.169366841919446e-06, 3.1763452955992534e-06, 1.6051531751256518e-06, 7.961565864656594e-07, 3.875840694415828e-07, 1.8518743100486978e-07, 8.684174429940586e-08, 3.9967850737856015e-08, 1.8053131270702838e-08, 8.00292040094261e-09, 3.4817199535816853e-09, 1.4865658961049356e-09, 6.228959784923863e-10, 2.5614412790491043e-10, 1.0336838467516852e-10, 4.0937649835896676e-11, 1.5910646947310135e-11, 6.068494598006683e-12, 2.2714403574519733e-12, 8.343507240349454e-13, 3.0076227132049447e-13, 1.0639636431206193e-13, 3.6936970373367306e-14, 1.2584336087699237e-14, 4.2076420496623505e-15, 1.3806806284469584e-15, 4.446334355650969e-16, 1.4053232891454715e-16, 4.3594247313414437e-17, 1.3273267065594027e-17, 3.966825128531711e-18, 1.1637252642058586e-18, 3.351439069903473e-19, 9.475969850033409e-20], [0.7038999909373883, 0.7829150938410236, 0.873714147651795, 0.97693944174067, 1.0925748802053226, 1.219796723849661, 1.3568687443227412, 1.5011018150790403, 1.6488946387547103, 1.7958658449119174, 1.937078302564875, 2.0673450136783282, 2.1815938320728927, 2.2752573841711765, 2.3446470001214004, 2.387266988442243, 2.4020293226250766, 2.389338862943175, 2.3510345566155757, 2.29019051539275, 2.2107995935843663, 2.1173779986684718, 2.0145398642418173, 1.9065938325949565, 1.7972090480247798, 1.6891864433025081, 1.584354882353238, 1.4835934267874982, 1.3869637410060083, 1.293923088995169, 1.2035803337280842, 1.1149555785911438, 1.0272082345220916, 0.9398070729990188, 0.8526273470356494, 0.7659722331859781, 0.6805267389779863, 0.5972603698327184, 0.5172994361886659, 0.44179076545719, 0.3717762251022758, 0.3080927536353032, 0.2513066419875015, 0.20168471392405624, 0.15919974572432533, 0.12356356905376158, 0.09427910015790501, 0.07070199521293229, 0.05210345944386443, 0.03772750251340346, 0.026838157819524894, 0.01875443739838132, 0.012872750863636274, 0.008677981496355281, 0.005745318620034427, 0.0037353294044930032, 0.002384719283373345, 0.0014949125856377015, 0.0009201173566516287, 0.0005560323864676682, 0.00032988955280981836, 0.00019214640016655625, 0.00010986922271985047, 6.167171312896029e-05, 3.3982023356244606e-05, 1.8380349785943628e-05, 9.758623331097549e-06, 5.085613084862655e-06, 2.60140833472022e-06, 1.3060967561401094e-06, 6.436289764837539e-07, 3.1130180643646726e-07, 1.4777687443631324e-07, 6.884994533574034e-08, 3.1482341618358625e-08, 1.4128344363279452e-08, 6.2225920602315835e-09, 2.6896927892371454e-09, 1.1409885130975618e-09, 4.750108795470748e-10, 1.9407361088721282e-10, 7.781575792119416e-11, 3.061997427027742e-11, 1.1824342343312581e-11, 4.481088027849276e-12, 1.6665734463622463e-12, 6.082765090602544e-13, 2.1787900666274264e-13, 7.658978605427438e-14, 2.642240008606157e-14, 8.945942848920116e-15, 2.9726306203600715e-15, 9.694550445646625e-16, 3.103130905562101e-16, 9.749344826497521e-17, 3.006595411290228e-17, 9.101751491000387e-18, 2.7049386011472844e-18, 7.892439711823184e-19, 2.261172829473446e-19], [0.6969327608536142, 0.7713016552038866, 0.8572735531407474, 0.9559382555657162, 1.0678165593222837, 1.192680332020958, 1.329404259269076, 1.4758713499769316, 1.628952934682524, 1.7845793336599585, 1.9379094456906156, 2.08359665116611, 2.2161357484648168, 2.3302628806264565, 2.4213696832212386, 2.48588634190173, 2.5215876144073217, 2.5277820185271573, 2.505357030949199, 2.456670761343289, 2.38530058947442, 2.295678491968664, 2.1926580337834047, 2.0810666677654943, 1.9652976221780176, 1.8489882361559138, 1.7348175210039125, 1.62443749540239, 1.518533585331558, 1.4169922130453478, 1.3191411716303667, 1.22402205667057, 1.1306542950057197, 1.0382564385933546, 0.9464007704779798, 0.8550897946643, 0.7647556689183698, 0.6761942035002901, 0.5904523732041488, 0.5086917622595145, 0.4320500673499657, 0.36151938430906183, 0.2978545347922906, 0.24151832973297005, 0.19266452267737222, 0.15115414388946058, 0.1165974546392761, 0.08841209218379852, 0.06588794858407591, 0.0482505762915379, 0.03471696187941473, 0.024539868775241308, 0.0170392059411077, 0.01162074054906245, 0.007783785678962678, 0.005120231574639416, 0.0033075182924173392, 0.0020979917951754034, 0.0013066867553934874, 0.0007990697341483039, 0.00047976045482392557, 0.00028279611160500316, 0.00016364987396435377, 9.296863437235675e-05, 5.1846824854680745e-05, 2.8383126689646223e-05, 1.525242906022085e-05, 8.045401123366309e-06, 4.165587765905265e-06, 2.116973855515644e-06, 1.055982489671871e-06, 5.17001725915378e-07, 2.48435676684069e-07, 1.1716984120041149e-07, 5.423646735384836e-08, 2.4639672160071392e-08, 1.0986042234671605e-08, 4.807350304534628e-09, 2.064544903006158e-09, 8.701485420558875e-10, 3.599233162610915e-10, 1.4610723627602506e-10, 5.8207230992340045e-11, 2.2757506585198452e-11, 8.732022107900476e-12, 3.288124306522235e-12, 1.2151413902084212e-12, 4.4071090184025503e-13, 1.5686782210583302e-13, 5.479910875848119e-14, 1.8788029233908794e-14, 6.3221980187638175e-15, 2.0880845853499144e-15, 6.769221573598752e-16, 2.1540796803626499e-16, 6.728898332486634e-17, 2.0635648197317494e-17, 6.213325765366461e-18, 1.8370051231448356e-18, 5.333781298192104e-19], [0.6911324314726612, 0.7606415903578687, 0.8412314071699682, 0.9343811904013302, 1.0411131929241855, 1.1617908887347927, 1.2959348461928668, 1.4420790162535735, 1.5976908777862642, 1.7591764694249792, 1.9219853818567774, 2.080821300571451, 2.2299513720509134, 2.3635939320733605, 2.476350996958667, 2.5636416938828264, 2.622087684880399, 2.6498032016340094, 2.6465511023532606, 2.6137416520178265, 2.5542705002508623, 2.4722135891254853, 2.3724160149949602, 2.2600259525568496, 2.1400312405289736, 2.0168540771824635, 1.8940489701214438, 1.7741325389134344, 1.6585539091904538, 1.5477946158024911, 1.4415702870080307, 1.339095277154556, 1.2393670867252051, 1.1414298482731255, 1.0445842454464198, 0.9485230588961617, 0.8533848170525604, 0.7597305548732988, 0.6684586588342458, 0.5806790729631144, 0.49757037990965125, 0.4202417708244878, 0.34961752963972065, 0.2863555392229314, 0.23080469223549008, 0.18300003613445562, 0.14268978264908197, 0.10938538398977705, 0.08242477617744577, 0.0610393738656441, 0.04441703840264026, 0.031755521563149224, 0.022303325797588838, 0.015387130750015979, 0.010426664682389168, 0.006939039202885382, 0.004535127297340516, 0.0029106428273854685, 0.001834312512107692, 0.0011350647782648493, 0.00068962142237718, 0.0004113629702567166, 0.0002409057059643908, 0.0001385035318345306, 7.817216073055558e-05, 4.331193828695511e-05, 2.3556734075680162e-05, 1.2576596468188102e-05, 6.590846993196431e-06, 3.3903117491463437e-06, 1.711785378813169e-06, 8.483243158648138e-07, 4.126384961767393e-07, 1.9699976505847666e-07, 9.23088472235073e-08, 4.245185746378494e-08, 1.9161102565550586e-08, 8.488090153084359e-09, 3.690294462190356e-09, 1.5745994422236885e-09, 6.593778370699655e-10, 2.7098898705246396e-10, 1.0930011834426062e-10, 4.326541250518276e-11, 1.680787542039126e-11, 6.408231922237028e-12, 2.3978391765784825e-12, 8.805679297516753e-13, 3.173752371470851e-13, 1.1226880832786257e-13, 3.897913465299048e-14, 1.3283314070433311e-14, 4.443238863493676e-15, 1.4589284892624891e-15, 4.70258668685948e-16, 1.4881324526330775e-16, 4.623695105027619e-17, 1.410682093564164e-17, 4.226893230610218e-18, 1.2440486850664805e-18], [0.6866674133130983, 0.751349577332353, 0.8262872063718696, 0.9132737020435765, 1.0137733247814111, 1.1287074551716643, 1.2582439874150881, 1.4016121046961891, 1.556967128484414, 1.721329919182773, 1.8906216435944476, 2.059807227497235, 2.223149712892643, 2.3745640281560916, 2.5080440874074243, 2.6181239448450047, 2.7003244046847, 2.75153318857003, 2.770270843941385, 2.7568061876128684, 2.7131029819217094, 2.642601223369849, 2.549858498791683, 2.4400956938217906, 2.3187037445957968, 2.1907720247275515, 2.060693786745269, 1.9318908735930826, 1.8066811028729268, 1.6862905973290807, 1.5709933982441313, 1.4603450204925925, 1.353467291997321, 1.2493397148332934, 1.1470572589165784, 1.0460244554719758, 0.9460687178768925, 0.8474695789251951, 0.7509128035891495, 0.6573874702023126, 0.5680492064091938, 0.48407369210890705, 0.40652184841910927, 0.3362328435473559, 0.27375441561104974, 0.21931327492358804, 0.17282252496043213, 0.13391881145335544, 0.10201956610682332, 0.07639019300211979, 0.05621201954844213, 0.04064381182681449, 0.02887210873893128, 0.020148089618257342, 0.013810804952512344, 0.009298165039310437, 0.006148032444009448, 0.0039921480614869866, 0.0025455555853240905, 0.0015938239367311712, 0.0009798473728914684, 0.0005914489074072638, 0.0003505086838947503, 0.0002039325598413597, 0.00011648376450271653, 6.531624902719342e-05, 3.595349595628181e-05, 1.9427328308109975e-05, 1.0304478274089493e-05, 5.364999081468061e-06, 2.741792152300371e-06, 1.3753457440288878e-06, 6.771637049701925e-07, 3.2724460468428365e-07, 1.5521783354327863e-07, 7.22594983755989e-08, 3.3016194435111896e-08, 1.4805839149587359e-08, 6.516416797714729e-09, 2.8148229339604043e-09, 1.1933203746041696e-09, 4.965065316775247e-10, 2.027467626764625e-10, 8.125387989859172e-11, 3.195927124850747e-11, 1.2337153137092427e-11, 4.674150931678077e-12, 1.7380667538965894e-12, 6.343290619892973e-13, 2.2722616963176344e-13, 7.989359567504545e-14, 2.7573603487357006e-14, 9.341692353173713e-15, 3.1069620323404213e-15, 1.0145160217168413e-15, 3.252641688041039e-16, 1.0240439314433569e-16, 3.1664105562595093e-17, 9.617355750795525e-18, 2.8699335382212718e-18], [0.6835444763814016, 0.743654313976976, 0.8129442660956799, 0.8934341872600019, 0.986951407487348, 1.0949149591439116, 1.2181089958027262, 1.3564659151111391, 1.5088836732248172, 1.6731036355965136, 1.8456740593112608, 2.0220192128763026, 2.196624987080158, 2.3633391311159127, 2.515769272352856, 2.6477466962517484, 2.7538109952443786, 2.829662693178837, 2.872529865795864, 2.8814016503883377, 2.8570960508044063, 2.8021498261578475, 2.7205415019454002, 2.617280942634958, 2.4979167428239504, 2.368022921152854, 2.2327273565206522, 2.0963360668858178, 1.9620914148804545, 1.832081536759294, 1.7072963242302432, 1.5878057176294957, 1.473021798789178, 1.3619989678499573, 1.2537267667256866, 1.147376807451286, 1.0424769247011496, 0.9389996996322388, 0.8373664304717245, 0.7383793448390644, 0.6431029090821326, 0.5527188409710602, 0.46837900736153526, 0.3910765566124467, 0.3215495687662099, 0.2602245189971924, 0.2072001575970548, 0.16226694982282217, 0.12495354941644035, 0.09459006391736437, 0.0703779318003629, 0.051457657573393954, 0.036967912112954415, 0.02609207109460338, 0.018090690021015068, 0.012320393052013533, 0.008241029006540477, 0.005413701184106262, 0.0034924876371331924, 0.002212472222738282, 0.001376258823653481, 0.0008405833900645939, 0.0005040814973720259, 0.0002967853332969589, 0.00017154960293363285, 9.734816132592784e-05, 5.423040430780932e-05, 2.9656666414856816e-05, 1.592042047703594e-05, 8.389356522196347e-06, 4.339450338242782e-06, 2.203248969112509e-06, 1.0980112491760837e-06, 5.371018773223458e-07, 2.578732154602172e-07, 1.2152040534498048e-07, 5.620565723906902e-08, 2.5514900059333257e-08, 1.1368068293782669e-08, 4.97113090294752e-09, 2.1335218758028438e-09, 8.986922831539038e-10, 3.7153238579381425e-10, 1.5074922471016044e-10, 6.003281182466955e-11, 2.3463975130123216e-11, 9.001189092385081e-12, 3.3891592346708557e-12, 1.252532490942494e-12, 4.5436551839155094e-13, 1.6179285766930043e-13, 5.6555367959903445e-14, 1.940784033922323e-14, 6.538895562227444e-15, 2.1632069824055545e-15, 7.027649264865993e-16, 2.242348168969598e-16, 7.02833171834818e-17, 2.164450402226126e-17, 6.5508255971175725e-18], [0.6816256812407624, 0.7376038614281071, 0.8014992436923359, 0.8754639626232199, 0.9615955908086113, 1.0617288309858728, 1.177203786469877, 1.3086286319781926, 1.455659638216144, 1.6168251530448443, 1.7894212211794542, 1.9695040422406818, 2.151997792090964, 2.3309254532695443, 2.499756014136265, 2.651845353986313, 2.7809326898071234, 2.881642333147633, 2.9499342578674557, 2.9834484641168695, 2.9816979894736924, 2.946082822098841, 2.879719592572494, 2.7871063052813327, 2.673663545131023, 2.545209839301706, 2.4074364372539088, 2.2654445041342144, 2.1233961754249173, 1.9843122861076663, 1.8500272068754453, 1.721288902469207, 1.5979736177137323, 1.479372148182563, 1.3644998252325922, 1.2523850921709765, 1.1423005752955655, 1.0339136908164466, 0.9273485144680835, 0.823164409329989, 0.7222677914674891, 0.6257801985304917, 0.5348881390322618, 0.45069843317760333, 0.37411788000220886, 0.30576938966091055, 0.24594954509183098, 0.1946260676638587, 0.15146868579948988, 0.11590386799209097, 0.08718281400276781, 0.06445271797164144, 0.04682314389167139, 0.03342183284106176, 0.023436873287468234, 0.016144503377389298, 0.010923620086298007, 0.007259238961429324, 0.0047377011625788015, 0.0030364693349559085, 0.0019110413198404742, 0.0011809969414320067, 0.0007166127957597098, 0.000426932047597547, 0.0002497205227260346, 0.00014340201286837902, 8.084390620107577e-05, 4.4742164657801526e-05, 2.43081565053835e-05, 1.2964059607069977e-05, 6.786932241518247e-06, 3.487706220294394e-06, 1.759265454120955e-06, 8.710437173462204e-07, 4.233098907563548e-07, 2.0192046456729268e-07, 9.453662374604614e-08, 4.344230648205028e-08, 1.959362470438253e-08, 8.673669221377288e-09, 3.768557688187684e-09, 1.6070558336627254e-09, 6.726216030260045e-10, 2.7631011120840016e-10, 1.1140705222164324e-10, 4.408840519179919e-11, 1.7125377654480833e-11, 6.529367063397493e-12, 2.443608507680453e-12, 8.977186451577517e-13, 3.237577275038161e-13, 1.1463049941148109e-13, 3.9848864613928947e-14, 1.3602257545075268e-14, 4.559721018127422e-15, 1.501280422202491e-15, 4.855775760303835e-16, 1.543194531910284e-16, 4.820113118522268e-17, 1.480120613892753e-17], [0.6806543884892878, 0.7330836009438285, 0.7920473992356836, 0.8597352160821279, 0.938414317090369, 1.0302373903046744, 1.1370160601691328, 1.2599747790186273, 1.399505409789435, 1.5549478616141852, 1.7244252852738855, 1.9047624338145104, 2.0915118901638805, 2.2791044757088, 2.4611275282086553, 2.6307190047365814, 2.781048523055749, 2.9058411394998975, 2.9998887199585855, 3.059489688163106, 3.082762296428251, 3.0697895369894295, 3.022573988861728, 2.944805412115558, 2.84146890481361, 2.7183427975776167, 2.5814495800969426, 2.4365276896836834, 2.288586319180249, 2.141590716585613, 1.9983044946121131, 1.860291954266879, 1.728061283488774, 1.6013121329853093, 1.4792408120065028, 1.360854088803619, 1.2452477975327443, 1.1318174440241748, 1.020382329458821, 0.9112197139504795, 0.805018822537167, 0.7027742826776979, 0.6056439323820686, 0.5147967642909722, 0.43127371676406523, 0.3558782334591132, 0.2891063592951305, 0.23111895480535016, 0.18175247356451912, 0.14056035965421768, 0.10687476600757802, 0.07987787371994293, 0.05867323013892547, 0.04234968744805304, 0.030033149889716813, 0.020923932269162615, 0.014319733555948568, 0.009625833333301808, 0.006355069495716942, 0.004120512021975053, 0.002623640563041283, 0.0016404223548791578, 0.0010071249333418728, 0.0006071100303304918, 0.0003593268102674031, 0.00020880133081911575, 0.00011911952592345741, 6.671516456602911e-05, 3.668132908383663e-05, 1.9798509239828114e-05, 1.0490008811004497e-05, 5.455883513603041e-06, 2.7854222063954584e-06, 1.3958713537050452e-06, 6.866267994042168e-07, 3.315206280474401e-07, 1.5711193425878737e-07, 7.3082251666162e-08, 3.336684308960815e-08, 1.495258271472086e-08, 6.576788447050422e-09, 2.8392795155135983e-09, 1.2030970919553743e-09, 5.003742022104112e-10, 2.0426616041214004e-10, 8.184898235209009e-11, 3.2192631708253483e-11, 1.24291229180159e-11, 4.710682953045257e-12, 1.7527103062668474e-12, 6.402485113039789e-13, 2.296335784078497e-13, 8.087512766742867e-14, 2.797315078510553e-14, 9.503422139532811e-15, 3.1718274279376314e-15, 1.0402171434005895e-15, 3.353011530694094e-16, 1.0626109368408132e-16, 3.3120398267368863e-17], [0.6802872724619445, 0.7298440675216358, 0.7845016139762564, 0.8463961604430896, 0.9178626005271745, 1.0012648735680632, 1.0987840240922142, 1.212174622744805, 1.342506410247631, 1.4899140121291434, 1.6533823823907376, 1.8305980807437805, 2.0178954013925865, 2.2103208770483715, 2.40182949562691, 2.5856116362798964, 2.754532742788749, 2.901650442134674, 3.0207590575677616, 3.1069021652917206, 3.156792335785898, 3.169084671545565, 3.1444668464198915, 3.085551071676587, 2.9965793830127274, 2.88297868620319, 2.7508219386091897, 2.60626332554882, 2.4550164573690045, 2.3019354649000485, 2.150741234461914, 2.0039121464573326, 1.8627345553831998, 1.727486821585284, 1.5977151573673893, 1.472551783781978, 1.3510263141797858, 1.2323288828638932, 1.115996251264564, 1.00200730563427, 0.8907893223135631, 0.7831488521291892, 0.6801495372752082, 0.5829629758892323, 0.49271809225795105, 0.4103702279128464, 0.3366046276513413, 0.2717815694119547, 0.21592336426500083, 0.16873780349798947, 0.12966891182816465, 0.0979642167041189, 0.072747947122893, 0.05309117481471145, 0.03807233958271564, 0.026824302295231205, 0.018566585848574724, 0.01262348759746337, 0.008430127360425812, 0.005529224094327127, 0.0035615637418917297, 0.00225287863945547, 0.0013993680669341657, 0.0008534967743577904, 0.0005111261727894316, 0.0003005334877302154, 0.00017349214819681636, 9.832727573113037e-05, 5.4709364876392176e-05, 2.988341435226196e-05, 1.60238953142769e-05, 8.434605982810547e-06, 4.358236387628884e-06, 2.210535427628881e-06, 1.1005690449715928e-06, 5.378530257830612e-07, 2.580066322765529e-07, 1.2148273787454794e-07, 5.614504297058287e-08, 2.546944104816477e-08, 1.1340651820704538e-08, 4.956422743833032e-09, 2.1262454675719644e-09, 8.953202658656342e-10, 3.7005917884416696e-10, 1.5014211473131056e-10, 5.979802943901317e-11, 2.337991214428789e-11, 8.974168881967466e-12, 3.381977005517555e-12, 1.2514367347068046e-12, 4.54730594277857e-13, 1.6227872249258336e-13, 5.68850126016796e-14, 1.959040130368767e-14, 6.629702488207339e-15, 2.205281408983439e-15, 7.212530129059638e-16, 2.320181155052605e-16, 7.344265104877935e-17], [0.6801290078319892, 0.7275352847942168, 0.7786221340294488, 0.8353911587769064, 0.9001470603296973, 0.9753559567545441, 1.0634556923939786, 1.1666250016297124, 1.286524450784006, 1.4240285289959131, 1.5789742458628069, 1.7499559906949467, 1.9341979509228082, 2.12753291939096, 2.3245090962250576, 2.5186344733171144, 2.702752462245686, 2.869524443058639, 3.0119775232509176, 3.1240620551483156, 3.20115624672815, 3.240456593131697, 3.2412035800068866, 3.20471122512619, 3.1341939473709317, 3.0344111437899057, 2.911174317105638, 2.770779521161093, 2.619436286085509, 2.462761763776554, 2.305396260169328, 2.150776032163295, 2.001074908368304, 1.857302117263166, 1.719523528876186, 1.5871601905010848, 1.4593129885864458, 1.3350653840259032, 1.2137259862004481, 1.0949868645171918, 0.9789891643204315, 0.8663021549797391, 0.7578332173314729, 0.6546932321989135, 0.5580440259613307, 0.46895244223621024, 0.38827031664183437, 0.31655252453390853, 0.25401776764961526, 0.20055007192262878, 0.1557339236460923, 0.11891298016891093, 0.08926135045959353, 0.06585722598825387, 0.04775063448117234, 0.03401970552458726, 0.023812542957881093, 0.016374183691930715, 0.011059934344022157, 0.0073375214651131325, 0.0047810021169767064, 0.003059378494612613, 0.001922502760681502, 0.0011863077512923046, 0.0007187926260484664, 0.0004276286044927711, 0.00024978677461061317, 0.00014325039447175256, 8.065501693602667e-05, 4.458233855261612e-05, 2.4192352361909227e-05, 1.2887425408041473e-05, 6.7393365802151575e-06, 3.4595708566592805e-06, 1.7433062541437315e-06, 8.62312969485132e-07, 4.186879838112904e-07, 1.995474896281415e-07, 9.33532539611035e-08, 4.2868554406320436e-08, 1.932301563318167e-08, 8.549488791650063e-09, 3.7131230867205825e-09, 1.5829965066493796e-09, 6.624796959881957e-10, 2.721645068059132e-10, 1.0976790515339333e-10, 4.346384069843102e-11, 1.6897391996804428e-11, 6.4504115751948134e-12, 2.4181168351413013e-12, 8.903184030782895e-13, 3.2200281653184304e-13, 1.1442006168557527e-13, 3.9954976281939856e-14, 1.3714568575253044e-14, 4.628850004050465e-15, 1.536752197397833e-15, 5.020643248753564e-16, 1.6149195870087135e-16], [0.6797664015984336, 0.7257439810115487, 0.7740533451883793, 0.8264924743654346, 0.8852472092374226, 0.952780668829512, 1.031671588136741, 1.1244047718319659, 1.2331224912639511, 1.3593521104921502, 1.5037318692241417, 1.6657625892114851, 1.8436168615508601, 2.034037704144158, 2.232354652123433, 2.4326361928785527, 2.6279836363587146, 2.8109541677203516, 2.974082179494772, 3.1104509512475897, 3.2142544933439923, 3.2812846598650838, 3.309283190840693, 3.2981123596493656, 3.2497198238711418, 3.167899958772719, 3.0578811682875044, 2.925791908368408, 2.7780735121337026, 2.620912849689962, 2.459761744427004, 2.2989942404010395, 2.141730279310528, 1.9898291336741607, 1.8440322989477997, 1.7042171241051014, 1.56971169894088, 1.4396193199068625, 1.3131065907851824, 1.1896210002132404, 1.0690190150869108, 0.9516014965474711, 0.8380670581490852, 0.729404016169307, 0.6267468996622984, 0.5312240707478313, 0.443819591267797, 0.3652663031562275, 0.295979618420512, 0.23603412273287613, 0.1851788820351654, 0.14288299281799338, 0.10840068342785707, 0.08084501860782788, 0.05926056629587354, 0.04268769194312292, 0.03021387004610023, 0.021010045822699212, 0.01435228578792892, 0.009630531894212034, 0.006347177518791076, 0.0041084866936844785, 0.0026117210532367436, 0.0016303874082863586, 0.0009994284463703206, 0.0006015742589334514, 0.000355537156392061, 0.0002063108834256372, 0.0001175399050803042, 6.574467953888426e-05, 3.610233471944078e-05, 1.946246836059235e-05, 1.030002491356844e-05, 5.351152568021789e-06, 2.729086521765449e-06, 1.366286196973853e-06, 6.714525328973901e-07, 3.239175963330907e-07, 1.5339009362281382e-07, 7.13022795529099e-08, 3.253529189470485e-08, 1.4573217296731888e-08, 6.407854460897936e-09, 2.7659006517520115e-09, 1.1720370701651954e-09, 4.875796406962662e-10, 1.991467272667379e-10, 7.986462595720314e-11, 3.1450474524990365e-11, 1.2162924836339298e-11, 4.620021291705029e-12, 1.7239090010383375e-12, 6.320225923999293e-13, 2.2771870119425253e-13, 8.065500126562566e-14, 2.8091195024317495e-14, 9.624509266576339e-15, 3.2452252673257696e-15, 1.0774170613633108e-15, 3.524009622212102e-16], [0.678799170250227, 0.7240302130681228, 0.7703636562362571, 0.8193396155320102, 0.8729493166356694, 0.9335569111921898, 1.0037695533403126, 1.0862556483720054, 1.1835161412205286, 1.297619798498911, 1.4299202326422826, 1.5807791363397556, 1.7493257153796942, 1.9332852892947154, 2.1289091503004927, 2.3310320381361214, 2.533272664586627, 2.728377192884149, 2.9086870687064628, 3.066693670904937, 3.1956260480854253, 3.290007709485104, 3.346116590291355, 3.3622902005178164, 3.3390351980312016, 3.2789250259019886, 3.1862971578602095, 3.066788390466962, 2.9267680087031147, 2.7727409442115056, 2.6107942815237895, 2.446150691411854, 2.28287358389469, 2.123744485367403, 1.9703076327403284, 1.8230542399098806, 1.6817026745084604, 1.5455228432589347, 1.4136537758680983, 1.28537158390977, 1.1602784072509709, 1.0383988288486894, 0.9201857169140841, 0.8064501995299164, 0.6982389542924967, 0.5966856045826001, 0.5028620371748773, 0.4176508596264303, 0.34165336886990333, 0.2751397749067167, 0.21804132464508044, 0.16997836389559015, 0.13031478810185612, 0.09822786071629999, 0.0727827643962456, 0.053003004673850995, 0.03793032180707614, 0.02667052094106393, 0.018424150788187557, 0.012502950368929948, 0.008334308364826858, 0.00545664588348581, 0.003508744387430767, 0.0022157513852323423, 0.0013740730342891915, 0.0008367514746233867, 0.0005003356145564791, 0.00029375601925385984, 0.0001693387497154842, 9.584190679870448e-05, 5.325627636813016e-05, 2.905296872892822e-05, 1.555980212766153e-05, 8.180922685308733e-06, 4.2225753239679244e-06, 2.1395533861248843e-06, 1.0642281478820095e-06, 5.19648004134529e-07, 2.490838876133862e-07, 1.1720468576872177e-07, 5.413908254324948e-08, 2.4549908604767424e-08, 1.0928782813171142e-08, 4.776287317688876e-09, 2.04938844921009e-09, 8.63370637514035e-10, 3.5714114008353897e-10, 1.450742260144224e-10, 5.787562076446606e-11, 2.2678483513234676e-11, 8.730030269645735e-12, 3.3020669738232715e-12, 1.2275132137170843e-12, 4.485982385073528e-13, 1.6122132028742106e-13, 5.700160380094512e-14, 1.983549849463044e-14, 6.796871529722016e-15, 2.294721896873472e-15, 7.63794217262754e-16], [0.6768652400208963, 0.7219604176799388, 0.7670847631697715, 0.8134820370222601, 0.8628884647181622, 0.9174865513525474, 0.9798085791167127, 1.0525869451372485, 1.1385526276676492, 1.2401884886303682, 1.3594506277924419, 1.4974780500110436, 1.6543175628672175, 1.8286958356974696, 2.0178725164615496, 2.2176059311750116, 2.4222553440929615, 2.6250309752220558, 2.8183859023861886, 2.9945246209744645, 3.145984262936555, 3.266229583402459, 3.350194912937925, 3.394707576503857, 3.398738567697904, 3.3634465187621636, 3.2920074457326214, 3.189251266247516, 3.0611519962789338, 2.9142374758793044, 2.754993302324387, 2.589333043440615, 2.4221935173959137, 2.257292584267537, 2.0970614220477066, 1.9427380623123978, 1.7945880727263004, 1.6522046406317241, 1.5148353544906752, 1.3816864955198243, 1.252166038401289, 1.1260412738627403, 1.003503093280114, 0.885143789667935, 0.7718666314944829, 0.6647522436177133, 0.5649087185628465, 0.4733299483968838, 0.3907810709766609, 0.3177226142676864, 0.2542773447822999, 0.20023718410636987, 0.15510266021304167, 0.11814457027333625, 0.08847679983907182, 0.06513020781309592, 0.047119604469472005, 0.033498529386623156, 0.023399247136551476, 0.016057723655272152, 0.010825091427868215, 0.007168179949490999, 0.004662127359588307, 0.002978028127458457, 0.0018681738055633167, 0.0011508705463105127, 0.0006962023526442291, 0.00041354749056811624, 0.0002412009803438704, 0.00013812779637782088, 7.766361195809961e-05, 4.2872248761371384e-05, 2.323519590395369e-05, 1.2362849233374852e-05, 6.457811103242182e-06, 3.311621584491293e-06, 1.6671727093427096e-06, 8.239539804226253e-07, 3.997680087354368e-07, 1.904139140400207e-07, 8.903909352771094e-08, 4.087554119410201e-08, 1.8423004027354284e-08, 8.152479799950857e-09, 3.5422176061305025e-09, 1.5112889990550991e-09, 6.332060248768156e-10, 2.6056468917733035e-10, 1.0532168821929655e-10, 4.182378398708116e-11, 1.631993830354724e-11, 6.259028728790726e-12, 2.3599983935412037e-12, 8.751405236357018e-13, 3.1928191694595415e-13, 1.146558769875922e-13, 4.0547657005619827e-14, 1.4129650406035913e-14, 4.8547513653548454e-15, 1.6457623446527741e-15], [0.6736592791888111, 0.7191346621873157, 0.7637471281510378, 0.8084212068492197, 0.8545942308381584, 0.9042003418926265, 0.9596072566952555, 1.0235008069203342, 1.0987155164573006, 1.1880140425109023, 1.2938241802398676, 1.4179490051212569, 1.561272916116304, 1.723492772589451, 1.9029076270134397, 2.0963013053448507, 2.298948068795779, 2.504762173838161, 2.7065975894209466, 2.896685758279496, 3.0671794687312555, 3.210752757196371, 3.3211936516784184, 3.3939214249302454, 3.4263646766964513, 3.4181511989197717, 3.3710835368460637, 3.2889021048987206, 3.176866191331369, 3.0412074512139973, 2.8885264600018608, 2.7252079717102666, 2.556924075907955, 2.3882779322646823, 2.22261736743856, 2.062021577637724, 1.9074399048507023, 1.7589429042643383, 1.6160351608895889, 1.477977394582986, 1.3440715707230664, 1.2138749948535787, 1.0873249496501203, 0.9647714048332391, 0.8469291368366371, 0.7347704285817526, 0.6293845134657672, 0.5318301443340951, 0.4430039291976275, 0.3635406879055088, 0.293754532910674, 0.23362204450614119, 0.1828028657835331, 0.14068892779675699, 0.10647153005038373, 0.07921546413202181, 0.05793083284368485, 0.0416356080001762, 0.02940470869041466, 0.020403983186703025, 0.01390960599074956, 0.009314885279458422, 0.006127290599583807, 0.003958739953004935, 0.002511975888281292, 0.001565377972161601, 0.000957956863137331, 0.0005756726510674854, 0.00033969572829593, 0.00019682180968031562, 0.00011197229608286223, 6.254455227215177e-05, 3.430038325496566e-05, 1.8468424288564284e-05, 9.762808127844532e-06, 5.066736726818227e-06, 2.5815907420496146e-06, 1.2913713058794549e-06, 6.341930598052532e-07, 3.0577608222937436e-07, 1.4474577190935605e-07, 6.727310932435488e-08, 3.0699280368610275e-08, 1.3755919821161416e-08, 6.052800533824239e-09, 2.6155740628179245e-09, 1.1101197119574028e-09, 4.628328281763101e-10, 1.8958438823673018e-10, 7.631199517232192e-11, 3.019257275690162e-11, 1.1744909621098734e-11, 4.493543552331375e-12, 1.691569832559352e-12, 6.26831540869612e-13, 2.2876896541212645e-13, 8.227748989146203e-14, 2.9179626817961416e-14, 1.0211529565461548e-14, 3.5287854422053493e-15], [0.6689440449952481, 0.715206772932212, 0.7599093391323868, 0.8036486822459152, 0.847535732662088, 0.8932067571882696, 0.9427917187215132, 0.9988331519755598, 1.0641514476436458, 1.1416560601160715, 1.2341071567344883, 1.3438385252288194, 1.4724597220079827, 1.6205626443737746, 1.787463734609759, 1.971016426773899, 2.167527798088336, 2.3718076075686887, 2.577366619411145, 2.776764926040513, 2.962091616143801, 3.125537273725663, 3.2600037562062556, 3.359684818164135, 3.4205490835075114, 3.440664957026306, 3.4203248755552575, 3.361951541667689, 3.2697976281706684, 3.1494781937744896, 3.007397052731265, 2.8501409064710175, 2.683916193866698, 2.5140934549542906, 2.34490465643577, 2.1793140575863257, 2.0190572230679646, 1.8648200117528653, 1.7165131696899731, 1.5735904563659653, 1.4353593039173786, 1.3012415984231365, 1.1709559236841904, 1.0446086214550403, 0.9226964407615627, 0.8060360474215148, 0.695643766358615, 0.5925921186908674, 0.497868363253991, 0.41225539563829605, 0.33624840577867515, 0.2700131223726054, 0.21338456076909054, 0.16589985463380288, 0.12685546117126287, 0.09537782848628182, 0.0704972054267765, 0.051216149606919455, 0.036566860746830535, 0.025654184713530512, 0.017683568719535983, 0.011975128818284464, 0.007966205988592627, 0.005205358696213115, 0.003340780507188194, 0.0021057987877898476, 0.0013035680108099232, 0.0007924595799496544, 0.00047307293098489454, 0.0002773126449703095, 0.00015961984433446062, 9.021250106804362e-05, 5.006084258537688e-05, 2.7275465042830483e-05, 1.4590893142607902e-05, 7.66342186217313e-06, 3.951779692932962e-06, 2.000749447865448e-06, 9.945503834401747e-07, 4.854034340754635e-07, 2.3261252994199154e-07, 1.0945482427999812e-07, 5.057449905910844e-08, 2.29484600350314e-08, 1.022679377708576e-08, 4.47649342779992e-09, 1.924903223899157e-09, 8.132531443292843e-10, 3.376583289193653e-10, 1.3780687572005847e-10, 5.530102172431065e-11, 2.1828009091684125e-11, 8.477905110172727e-12, 3.241587746291059e-12, 1.2208171184007193e-12, 4.531299894437508e-13, 1.6586502771589288e-13, 5.991660228949381e-14, 2.137533891852842e-14, 7.536465390239882e-15], [0.6625549352463755, 0.7098969564983207, 0.7551799980988193, 0.798677752334851, 0.8411624844162937, 0.8839402036815168, 0.9288478114377599, 0.9782048001010313, 1.034713708176052, 1.1013062280042019, 1.180935875879945, 1.2763235696737378, 1.3896691379158825, 1.522349143921921, 1.674628469040805, 1.8454185291293033, 2.0321172990284784, 2.2305641157806044, 2.4351346248568957, 2.638988147142771, 2.834462158260072, 3.0135885695220748, 3.1686870623965384, 3.2929752752284602, 3.381127382912785, 3.4297138421852207, 3.437466574690532, 3.4053345529009182, 3.3363217604223614, 3.2351285837773, 3.1076440482497727, 2.9603554949984696, 2.7997511296501356, 2.631788066430058, 2.4614848811973675, 2.2926760076169725, 2.1279395938654893, 1.968685167542874, 1.8153666961628403, 1.6677732977387587, 1.5253452957992262, 1.3874672213550119, 1.2537000366569928, 1.1239296715713742, 0.9984249757581705, 0.8778126886287088, 0.7629879760087283, 0.6549853543138927, 0.5548362505551965, 0.46343667749016487, 0.38144274631100555, 0.30920445639278477, 0.24674081452786556, 0.19375299653531755, 0.14966771693338446, 0.1137005169250289, 0.08492821842936889, 0.062360931175879215, 0.045006190490187684, 0.031920465155090415, 0.02224590115523378, 0.0152323900890979, 0.0102466644497667, 0.006771070781375653, 0.00439501768815313, 0.0028019728065868804, 0.0017544536073438408, 0.001078877089079594, 0.0006515295264087172, 0.0003863763844235772, 0.00022500176820899637, 0.00012866100426413055, 7.224080940085256e-05, 3.982761293832606e-05, 2.1559853176765793e-05, 1.1459448578736114e-05, 5.980501635226056e-06, 3.064576467395211e-06, 1.5419459728769522e-06, 7.61807261376723e-07, 3.6958556016811624e-07, 1.7607661161105705e-07, 8.238255378686749e-08, 3.785771321483142e-08, 1.7088649032313975e-08, 7.578020008780352e-09, 3.3019658919949425e-09, 1.4139963349205e-09, 5.952386824539564e-10, 2.463940232336443e-10, 1.0032691678686258e-10, 4.020040703844293e-11, 1.5858915652482883e-11, 6.1628082567997626e-12, 2.360506030477761e-12, 8.917366345152389e-13, 3.3248842502528634e-13, 1.224447431183809e-13, 4.45701185654399e-14, 1.604690479292341e-14], [0.6543987826878652, 0.7029973822085813, 0.7492317874539591, 0.7930672653389923, 0.8349385109222811, 0.8758048512227072, 0.9171726646510021, 0.9610771650437784, 1.0100167118473424, 1.066834661237523, 1.1345467839717092, 1.2161166863269681, 1.314187518348447, 1.4307852471243847, 1.5670162068146016, 1.7227883901637446, 1.8965905878990226, 2.085364500066325, 2.284501064788519, 2.4879828065006677, 2.688679252304448, 2.8787837623513797, 3.0503598978210147, 3.1959469102986917, 3.3091605174639565, 3.38521981923604, 3.4213358494820585, 3.4169120228334515, 3.373529910643458, 3.2947219535010075, 3.185561359861238, 3.0521237615649666, 2.900891099679205, 2.7381731172948114, 2.569615181168932, 2.3998444778265866, 2.2322831955021454, 2.069131392204166, 1.91149828378988, 1.7596423836083954, 1.6132706735896931, 1.4718455332950602, 1.3348546539489965, 1.2020115294611853, 1.073369549577488, 0.9493483132058171, 0.8306840392540793, 0.7183251681085555, 0.6132986591206799, 0.5165722559560793, 0.4289339984979213, 0.3509038381464924, 0.28268483010518225, 0.22415436209906864, 0.17489023236955425, 0.13422267918724426, 0.10130182533852068, 0.07517021040378266, 0.054831677471021016, 0.0393102893214321, 0.02769561648285222, 0.01917321290366233, 0.01304107188729375, 0.008714192347330306, 0.005720078580051235, 0.0036881396796374123, 0.002335695497383757, 0.0014527961078425286, 0.0008874657608142055, 0.0005324006845670833, 0.0003136532429392207, 0.00018145618987065835, 0.00010308461509677101, 5.75053062081463e-05, 3.149987555713892e-05, 1.694316954673596e-05, 8.948845485580134e-06, 4.641214108122743e-06, 2.363735273079011e-06, 1.1821825561597988e-06, 5.8064532758744e-07, 2.80096485137019e-07, 1.3271289697702402e-07, 6.176977749161664e-08, 2.8246009688760457e-08, 1.2692029590822643e-08, 5.605171880315697e-09, 2.433550052865755e-09, 1.039000668763134e-09, 4.3638499126674397e-10, 1.8037741678233435e-10, 7.3410835572121e-11, 2.9433307954691904e-11, 1.1632722489479961e-11, 4.5349659372823995e-12, 1.745112048602196e-12, 6.633559539625896e-13, 2.492650122843708e-13, 9.26553929573763e-14, 3.409165236154456e-14], [0.6444483524028779, 0.6943718656253293, 0.7418082618907056, 0.7864373241897431, 0.828368305793922, 0.8682114178993239, 0.9071217006886724, 0.9468073819009729, 0.989495395169902, 1.037847895588278, 1.0948257008879525, 1.163497931266911, 1.246801927848113, 1.3472637533161769, 1.4666968005758845, 1.6059034053675443, 1.7644106259772856, 1.940275017699119, 2.1299908085001418, 2.328530255706549, 2.529533735245719, 2.725650896502933, 2.9090147415233405, 3.071810490533018, 3.206883924595864, 3.3083229124003717, 3.3719437002535204, 3.3956215932422698, 3.3794234203506464, 3.3255243334398172, 3.237920180381111, 3.12197421246533, 2.983858599466125, 2.8299634937768956, 2.666347297320821, 2.4982915211306387, 2.3300043723503108, 2.1644926454442905, 2.00359603799559, 1.8481558919997791, 1.698274862482811, 1.5536169455051851, 1.4136988130087524, 1.2781321687994014, 1.1467904643359015, 1.0198889134084712, 0.8979815335189056, 0.7818907003048295, 0.6725920752603404, 0.5710803552376496, 0.4782395496096171, 0.39473649614991724, 0.3209494824905812, 0.25693657405053294, 0.202441768715857, 0.15693223251519073, 0.11965701145076842, 0.08971674776828358, 0.06613472654819366, 0.047921527273143666, 0.034128086019461365, 0.023884570755510117, 0.01642474299615871, 0.011097187865811048, 0.007365857429180652, 0.004802827357596675, 0.003076133200767826, 0.0019351849710056602, 0.0011957128495151351, 0.0007256033255523613, 0.00043243753081208036, 0.00025309637834811013, 0.0001454710560420963, 8.210851238732627e-05, 4.551105937761618e-05, 2.477210400001e-05, 1.3241290601337677e-05, 6.950697212483584e-06, 3.5832065525955886e-06, 1.8141871279135957e-06, 9.021693957919993e-07, 4.406845867302135e-07, 2.1147055665267703e-07, 9.970456845529164e-08, 4.6195371916920994e-08, 2.1037390798457597e-08, 9.419026412434548e-09, 4.147373351897313e-09, 1.7965918731992312e-09, 7.659796592199927e-10, 3.215781905344914e-10, 1.330135276630159e-10, 5.4238870049860695e-11, 2.181831616179798e-11, 8.664364782433093e-12, 3.3991999768300853e-12, 1.318437834026241e-12, 5.059277733721037e-13, 1.9219163279789673e-13, 7.231362478032938e-14], [0.6327341673126191, 0.6839512153181279, 0.7327246058523069, 0.7784774758696253, 0.8210143505571905, 0.8606054606938862, 0.8980482963893698, 0.9346986988988161, 0.9724640972881811, 1.0137521623068833, 1.061369473977895, 1.1183671434095046, 1.1878340178364735, 1.272643287872559, 1.375164860778531, 1.4969632090598657, 1.6385075561611104, 1.7989268601673363, 1.975844568674862, 2.1653261364625136, 2.3619649025544276, 2.5591190267791686, 2.7492947674737604, 2.9246515277331886, 3.0775847875240068, 3.2013276818371477, 3.2905037690428958, 3.34156472207851, 3.353058012863129, 3.3256900509877267, 3.262176801075548, 3.166902434737226, 3.0454323256798497, 2.903945317285588, 2.7486585996522837, 2.5853155320877796, 2.418793235965072, 2.2528655170064553, 2.0901316518190525, 1.9320971892110634, 1.7793731087245026, 1.6319472204548995, 1.4894777898731226, 1.351563620702284, 1.2179554721845587, 1.088688114496436, 0.9641276607191359, 0.8449424619345602, 0.7320159150279228, 0.6263250242476763, 0.5288094179356876, 0.4402524638537223, 0.36119037127068093, 0.2918581404521879, 0.23217426807775643, 0.1817602990167908, 0.1399872826330795, 0.10603916852901848, 0.07898301466826393, 0.057837171123321575, 0.0416308049387902, 0.029450696042717817, 0.020473695176362657, 0.013985266009217939, 0.009385963921419785, 0.006188502442112576, 0.004008298881904332, 0.002550208728478155, 0.001593710111420385, 0.000978230454906557, 0.0005897322554134373, 0.0003491703598761357, 0.00020303879742952565, 0.00011595084995674863, 6.503096089595726e-05, 3.581956508467738e-05, 1.937679761074114e-05, 1.0294819734079695e-05, 5.372182912913144e-06, 2.7536343553630968e-06, 1.3865084961305997e-06, 6.858793221519966e-07, 3.3338228062426487e-07, 1.5925105081058205e-07, 7.477550882110279e-08, 3.4521160857224626e-08, 1.5674508734908223e-08, 7.002336791451619e-09, 3.079052558593804e-09, 1.333303175285142e-09, 5.68878750044758e-10, 2.393086386801852e-10, 9.932035128185049e-11, 4.0697837868331023e-11, 1.6477051882480885e-11, 6.596028122810978e-12, 2.612661541443858e-12, 1.0245916454137007e-12, 3.9801950691713305e-13, 1.5321345650518748e-13], [0.6193352009294422, 0.6717259499760816, 0.7218640172071326, 0.7689487321745334, 0.8125068954671266, 0.8524869186711431, 0.8893346126451337, 0.924043224540268, 0.9581705362876803, 0.9938162060431786, 1.0335532920581545, 1.0803093914966018, 1.1371954385579282, 1.207284241713058, 1.293346385500856, 1.397557915597743, 1.5212015712464144, 1.6643900998200696, 1.8258449409043513, 2.002764774953825, 2.1908148109601773, 2.38425856206777, 2.576239473946355, 2.759201473084752, 2.9254176919397823, 3.0675784618363835, 3.179376520901668, 3.2560221840026116, 3.294625749199871, 3.2943988070899035, 3.2566486653894295, 3.184567440514783, 3.0828450676055423, 2.957158882795429, 2.81360758502713, 2.6581618421153683, 2.496197103142806, 2.33215788768402, 2.1693801697421806, 2.01007363868787, 1.8554428678262636, 1.7059092924614359, 1.5613866049160396, 1.4215613219817278, 1.286136945838547, 1.155012224689539, 1.0283787907516921, 0.9067381234122448, 0.7908500164853979, 0.6816329723724106, 0.5800405820736655, 0.486937231397977, 0.40299232491923187, 0.32860595201390386, 0.2638719340961065, 0.2085777226420086, 0.1622355564630583, 0.12413610757839863, 0.09341461458480323, 0.0691199608991002, 0.05027883593951061, 0.03594947408715013, 0.02526198409352415, 0.01744455395709581, 0.011836583600349131, 0.007890949783457201, 0.0051681596547385675, 0.0033252024151380235, 0.0021016078107087034, 0.0013047174328325928, 0.0007956023358785886, 0.0004765164120003192, 0.0002803195313528174, 0.00016196392820353464, 9.191220872940606e-05, 5.122994585978898e-05, 2.8046733259368828e-05, 1.508228878454125e-05, 7.967201466388723e-06, 4.134608370815831e-06, 2.108145033967672e-06, 1.056244557861151e-06, 5.201177808163193e-07, 2.5177043742962404e-07, 1.1983562636805382e-07, 5.610222074610781e-08, 2.584321738829836e-08, 1.1718501716541163e-08, 5.233252317319769e-09, 2.302976147081178e-09, 9.99303326513664e-10, 4.278502855650725e-10, 1.8087888237017021e-10, 7.556309039953508e-11, 3.1216095298732715e-11, 1.2761375384123786e-11, 5.165760938536824e-12, 2.0715938825898485e-12, 8.232967415671995e-13, 3.24308688689435e-13], [0.6043696821671941, 0.6577379718750197, 0.7091715003435043, 0.7576811760530909, 0.8025474330474277, 0.8434216807514114, 0.8804133636699789, 0.914155501907979, 0.9458418447511876, 0.9772290366602161, 1.0105976094189861, 1.0486664645764683, 1.094457185008078, 1.1511074063350843, 1.2216368549488934, 1.3086755178404383, 1.4141703604086553, 1.5390942158197063, 1.683186690079408, 1.8447606666301917, 2.020607776547279, 2.206030911415168, 2.3950210984831437, 2.5805804264974217, 2.755173899323049, 2.9112737676938965, 3.0419433012680486, 3.1413963680906827, 3.2054671540198285, 3.2319321298340737, 3.2206434774297312, 3.173457340488177, 3.093967723213077, 2.9870830872629455, 2.858503252404863, 2.7141656426614826, 2.5597304747368335, 2.4001644155130446, 2.2394637128995587, 2.0805344165814734, 1.9252232830174323, 1.7744723217455314, 1.6285557501684165, 1.487352002032222, 1.3506054115546746, 1.2181408936943114, 1.0900080096138045, 0.9665454795067089, 0.8483708610294979, 0.7363107172988734, 0.6312929713066932, 0.5342250136672052, 0.44587902480081204, 0.36680097678341395, 0.2972532456483698, 0.23719402580511248, 0.18629088739483993, 0.14396157211982039, 0.109432784885893, 0.08180723496073349, 0.06013016258606046, 0.04344855390177099, 0.030858665758904835, 0.02153988454069037, 0.014774987054692067, 0.009958362816449549, 0.006594640578183102, 0.004290490925665281, 0.00274227187449538, 0.001721793768280319, 0.0010619465655419488, 0.0006433738047486933, 0.0003828742966261854, 0.0002238098499942468, 0.00012850971400844586, 7.248304913082806e-05, 4.0160386783967486e-05, 2.185978126149684e-05, 1.1690026515706006e-05, 6.14261807327458e-06, 3.17190082028858e-06, 1.6098624380606371e-06, 8.032554046955519e-07, 3.9411871723836914e-07, 1.902149029753557e-07, 9.033726680000513e-08, 4.2235984288219726e-08, 1.9449520955051143e-08, 8.826582372604888e-09, 3.950104196230414e-09, 1.7444415104506082e-09, 7.607712784728648e-10, 3.2789021902745774e-10, 1.3976628979091324e-10, 5.896300274520449e-11, 2.4633537971724443e-11, 1.0196633866052575e-11, 4.1832425306240815e-12, 1.7012108215501874e-12, 6.85754655550247e-13], [0.5879868248493816, 0.6420724451095441, 0.6946466941378756, 0.7445690063536093, 0.7909077061655924, 0.8330466968185714, 0.8707813636594153, 0.9043967019175807, 0.9347210877868783, 0.9631494444418222, 0.9916298453310415, 1.0226080442481873, 1.0589253696385215, 1.1036672911437886, 1.1599631458540447, 1.2307422103943813, 1.3184574171727603, 1.4247950147796076, 1.5503953941178188, 1.6946158068288129, 1.85536828327257, 2.0290643324943707, 2.2106910739599006, 2.394031219735538, 2.5720227406953327, 2.737235122046729, 2.88242070683698, 3.001085006881703, 3.0880120686575547, 3.139682157002558, 3.1545298391050736, 3.133009930828127, 3.077463928405269, 2.9918064693644935, 2.8810755372481522, 2.75090744295434, 2.6070052177745393, 2.4546658864856306, 2.29841909094113, 2.141809387753651, 1.9873310716694823, 1.8365017366446104, 1.6900426496277692, 1.548122906048843, 1.4106212854432127, 1.277364227233345, 1.1483086491094592, 1.0236519204942263, 0.9038654704965913, 0.7896608629059174, 0.6819060149340561, 0.5815137555128544, 0.4893251660083842, 0.4060068764528618, 0.3319758985728034, 0.2673590061938715, 0.21198735581061143, 0.16542190858921307, 0.1270018097909579, 0.09590634403383179, 0.07122122408971605, 0.05200137330987214, 0.03732451344879648, 0.026332267216587938, 0.018257716382970992, 0.012440145237809532, 0.00832891338579257, 0.005479034212094087, 0.0035411689440175914, 0.0022485136997907234, 0.00140260382245945, 0.0008595172417309247, 0.0005174271913116108, 0.00030599894798161175, 0.00017777645674318265, 0.00010146758146497691, 5.6898770096384336e-05, 3.134979423342533e-05, 1.697337009253597e-05, 9.03154025818909e-06, 4.723786957223951e-06, 2.4291027634507208e-06, 1.2284047688222383e-06, 6.111013397481787e-07, 2.991734115415486e-07, 1.4419846319110052e-07, 6.846136035657984e-08, 3.203516213155468e-08, 1.4783682672667559e-08, 6.733104011402229e-09, 3.0286287426307804e-09, 1.346493864050573e-09, 5.921277135655495e-10, 2.577410668972341e-10, 1.1111571454686859e-10, 4.746807163482138e-11, 2.010024322885532e-11, 8.437847812280217e-12, 3.511255116400796e-12, 1.448030050852757e-12], [0.5703598116545711, 0.6248506511172783, 0.6783369788439709, 0.7295646785039019, 0.7774261661503172, 0.821070554843292, 0.8600064504393072, 0.8941903317338962, 0.9240940678764362, 0.9507456468435642, 0.9757375502010758, 1.001197496657478, 1.0297167502204732, 1.0642322440670946, 1.1078608515920085, 1.163687603633844, 1.2345146411895827, 1.3225839838007334, 1.4292941256712113, 1.5549369550723342, 1.6984861268115974, 1.8574693216330447, 2.027953558057342, 2.204664226609101, 2.3812450259625084, 2.550648777048642, 2.7056304577038324, 2.8392967292955285, 2.9456539072445826, 3.020091500847283, 3.0597427681859353, 3.0636772893210296, 3.032901705381994, 2.970170310422602, 2.8796329389385322, 2.76636920671206, 2.6358719743910477, 2.4935466895880185, 2.3442866767345203, 2.1921690406159597, 2.040294714136912, 1.8907732471955052, 1.7448321687521613, 1.6030153959268023, 1.4654271721912069, 1.331977837277924, 1.202594387448496, 1.0773702370881757, 0.956642258471974, 0.8409964785958487, 0.731214641867333, 0.6281808665500905, 0.532770368321149, 0.44574103492829176, 0.3676444450027919, 0.29876698363958276, 0.2391053091409821, 0.18837467083588144, 0.146044230069677, 0.11139096307944703, 0.08356292378275805, 0.06164333034992268, 0.04470865655295535, 0.03187615044633311, 0.02233850801541451, 0.015385447699754048, 0.010413451749653621, 0.006925886126368502, 0.00452611522929978, 0.002906195937647466, 0.0018334050995319838, 0.0011363640646026866, 0.0006919898682814433, 0.0004140090899012899, 0.00024336633044472875, 0.00014056367916752863, 7.977734027271847e-05, 4.449625898867268e-05, 2.439284282536617e-05, 1.3145275707453592e-05, 6.965255945059746e-06, 3.629754419493494e-06, 1.8609149195959138e-06, 9.389608513907799e-07, 4.6647807323362373e-07, 2.282963176446798e-07, 1.1012908955284523e-07, 5.239878441394681e-08, 2.460719807953169e-08, 1.1414296660378389e-08, 5.233772196488219e-09, 2.3740326312073258e-09, 1.0660335107358599e-09, 4.74169853433204e-10, 2.0901868266884562e-10, 9.133989431469265e-11, 3.957420676657974e-11, 1.6998223181267323e-11, 7.236211128214044e-12, 3.0516495014259713e-12], [0.551679917883908, 0.6062240741499672, 0.66033158691964, 0.7126733736409337, 0.7620035634829668, 0.8072714950216251, 0.8477297821297904, 0.8830311308337289, 0.9133073630452645, 0.9392248756466332, 0.9620113445624563, 0.9834488326218241, 1.0058287229077651, 1.0318643988194003, 1.0645587680749078, 1.1070260296949566, 1.1622708301213025, 1.2329331916007051, 1.3210139757134585, 1.4276023769962567, 1.5526328365802333, 1.6947023919796598, 1.850979424267566, 2.0172299648781102, 2.1879778017167477, 2.3568001379061094, 2.5167430995095432, 2.6608234599527867, 2.782567589219124, 2.8765288718028716, 2.9387230386064163, 2.966928152392071, 2.9608118847205547, 2.9218710678222384, 2.85319379277029, 2.7590783440389037, 2.6445619208814706, 2.5149222606404114, 2.3752153974237182, 2.229903189091249, 2.0826070169636552, 1.9360025756537018, 1.7918488445497383, 1.6511258409618308, 1.5142433407526281, 1.3812777960082145, 1.2521970860834186, 1.1270411318358127, 1.006038546870027, 0.8896528295346273, 0.7785637384091589, 0.6735986528268163, 0.5756339199683701, 0.4854872963712779, 0.40382018440773754, 0.33106350252563477, 0.26737497247931463, 0.21262956093789726, 0.16643972776252386, 0.1281985983087239, 0.09713739905089937, 0.07238835011050188, 0.053045337296960406, 0.03821661547509102, 0.02706604136906241, 0.018841488428503788, 0.012890872805702702, 0.008667468095873477, 0.005726880473641589, 0.0037182602171276623, 0.0023721592529721974, 0.001487044385450757, 0.0009159699180704163, 0.000554402447474205, 0.0003297421742843172, 0.0001927341583918486, 0.00011071828222864233, 6.251901859162221e-05, 3.470636365384333e-05, 1.8945275124530958e-05, 1.0171842196568972e-05, 5.373303311848211e-06, 2.79375971794749e-06, 1.4303248009223143e-06, 7.214410022099565e-07, 3.58708048625771e-07, 1.7592953034860832e-07, 8.51731157687363e-08, 4.073428441388902e-08, 1.925960553955588e-08, 9.009380716273805e-09, 4.172641127180496e-09, 1.914534788684922e-09, 8.706833171071688e-10, 3.9258681911574696e-10, 1.755244767585951e-10, 7.780790405574957e-11, 3.418721575970337e-11, 1.4881597561027834e-11, 6.413715724223469e-12], [0.532151331553705, 0.5863695005551306, 0.6407568875500136, 0.6939484678208713, 0.74459888598048, 0.7914945619607836, 0.8336655261134152, 0.870489216023619, 0.9017793348704012, 0.9278538920850045, 0.9495774355488114, 0.9683730732018889, 0.9862001826869783, 1.005493932720866, 1.0290632721954864, 1.0599453551102263, 1.1012168999082241, 1.1557669893240246, 1.2260412414640505, 1.3137736492611014, 1.41972878300272, 1.543482215240369, 1.6832695333596805, 1.8359328495656886, 1.9969874523025601, 2.1608200809822153, 2.321015126317852, 2.470787727688332, 2.603485906071526, 2.7131105433934177, 2.794794980145264, 2.845187191999972, 2.8626875052679868, 2.8475125811211526, 2.801579353229134, 2.728227036240536, 2.6318171088812763, 2.517266598204802, 2.3895764986847468, 2.2534138761714093, 2.1127940805226255, 1.9708910475465453, 1.8299824434130056, 1.6915161820231206, 1.5562689211953755, 1.4245577257795166, 1.2964639876840283, 1.1720333341748914, 1.051424943946075, 0.934996083295004, 0.8233203052274437, 0.7171485001529312, 0.6173293992121545, 0.5247095811979304, 0.44003267945625846, 0.36385409821975245, 0.2964822619344306, 0.23795146171935377, 0.18802581612480965, 0.1462295172310083, 0.11189580770532022, 0.08422609144446994, 0.06235099515177523, 0.045386665194000315, 0.032481629424562536, 0.022851731532236286, 0.015802605197891492, 0.010740674144335294, 0.007174648719872837, 0.004709954654172832, 0.0030385637746191793, 0.0019264258313964428, 0.001200256716012711, 0.0007349356368210957, 0.00044228703146562484, 0.00026162416220570217, 0.00015213309636190371, 8.697848928081483e-05, 4.8902549662267654e-05, 2.7045411416807228e-05, 1.4717486793127136e-05, 7.883416982354613e-06, 4.158422212370914e-06, 2.1612233205108084e-06, 1.1073453971313653e-06, 5.597119822230416e-07, 2.7929043204132535e-07, 1.376856158750877e-07, 6.71122536089186e-08, 3.236904371923981e-08, 1.5459091010085448e-08, 7.3153241101002496e-09, 3.4315297135424996e-09, 1.5961694811011334e-09, 7.362953500256591e-10, 3.3679031061577694e-10, 1.5270920659517488e-10, 6.860465428112237e-11, 3.051726867243072e-11, 1.3431274869986661e-11], [0.5119860650315795, 0.5654845785740863, 0.6197725237092097, 0.6734880844729991, 0.7252262586617931, 0.7736490875218502, 0.8175996541186584, 0.8562115359691272, 0.8890062245161918, 0.9159722209770345, 0.9376207295759229, 0.955013812079842, 0.9697614131276227, 0.9839838890691266, 1.000236855080157, 1.0213957426436864, 1.0504989232006494, 1.0905510135917331, 1.1442922159493927, 1.2139450847447522, 1.30095635548767, 1.405757398788139, 1.5275711711873172, 1.6642948388928676, 1.8124843970727373, 1.9674599889511606, 2.123538459622919, 2.2743841368760664, 2.4134520051489052, 2.5344820568348827, 2.6319925608522703, 2.701715751340908, 2.740923476214678, 2.7486026942314465, 2.725459830762402, 2.6737559719828785, 2.5969979013591726, 2.49952913686501, 2.386077152024547, 2.2613159279477757, 2.1294966654047793, 1.9941853798069966, 1.8581270578785631, 1.7232356481805142, 1.590690943426779, 1.4611102382584478, 1.334756169932912, 1.2117426481354177, 1.0922072573952213, 0.9764290504271688, 0.864882882001248, 0.7582330599390507, 0.6572782840630657, 0.5628655035542086, 0.4757921463465414, 0.39671456906972385, 0.3260764555731082, 0.2640654151556989, 0.21060035092314655, 0.16534723122943765, 0.12775732432692624, 0.09712000849717448, 0.07262188345189563, 0.053404782338487604, 0.03861698620622311, 0.02745401812651548, 0.0191874438322083, 0.013181840179699181, 0.00890134977643273, 0.005907976159125885, 0.003854036974207219, 0.0024710873937395773, 0.001557279687777388, 0.0009646597440522553, 0.0005874169553518498, 0.000351669097438017, 0.0002070165111982979, 0.00011985218339685241, 6.826002538064931e-05, 3.8256114876939796e-05, 2.1106266850115034e-05, 1.1468077674343224e-05, 6.13992324693834e-06, 3.2410466911532283e-06, 1.6878956412662215e-06, 8.678782693342097e-07, 4.409199524861219e-07, 2.2150941760432334e-07, 1.1012715006223308e-07, 5.42227388056721e-08, 2.6456099742319502e-08, 1.2797884067443532e-08, 6.139752455543208e-09, 2.9215046433563485e-09, 1.3786498854543984e-09, 6.449871410821466e-10, 2.990030078563488e-10, 1.3725905372008398e-10, 6.234700562773914e-11, 2.7998952619421884e-11], [0.49139837891803395, 0.5437831330524512, 0.5975677378104112, 0.6514323029089609, 0.7039528005552534, 0.7537070590941252, 0.7993890105928823, 0.8399223570866504, 0.874565431973465, 0.9030002704001909, 0.9254003768440904, 0.9424730143210036, 0.9554727744355828, 0.96618364481427, 0.9768669158033066, 0.9901724104815571, 1.009011160901658, 1.0363892823263474, 1.0752057787872973, 1.1280214367865184, 1.1968115358535136, 1.2827211056196086, 1.3858467928525147, 1.5050727477713313, 1.6379879974758114, 1.7809085713449138, 1.929018832872021, 2.076633564432381, 2.217566789945891, 2.345577360683125, 2.454847703383791, 2.540443541340644, 2.598700945985505, 2.627493729682345, 2.6263484655978333, 2.596394345221677, 2.54015749650897, 2.4612305192946935, 2.3638642263098792, 2.252537167881078, 2.131558167599092, 2.0047481916824013, 1.875232365735309, 1.7453538985828576, 1.616702578444077, 1.4902346054248872, 1.3664501740921609, 1.2455915336429335, 1.1278270211297183, 1.013394451258665, 0.9026881936752926, 0.7962859747211611, 0.6949218266658992, 0.599419163002639, 0.5106019214887829, 0.42920208000965077, 0.35577922498914044, 0.29066324087876416, 0.23392573261642247, 0.18538054048323677, 0.14460945319282972, 0.111006427387317, 0.08383239579903089, 0.062272925129955754, 0.045492213537731994, 0.032678759894705575, 0.02308006818761482, 0.016025626057327772, 0.01093888809554596, 0.0073399956792917645, 0.0048414744108418156, 0.003139240891857295, 0.00200103626280028, 0.0012540080235335237, 0.0007726944210116407, 0.0004682112821561155, 0.0002790532401290025, 0.00016362531136498943, 9.442017445457463e-05, 5.364028611293879e-05, 3.001382607967655e-05, 1.6549328761461035e-05, 8.997590078959211e-06, 4.82668342620452e-06, 2.556620028739279e-06, 1.3381875897686978e-06, 6.927070576143744e-07, 3.5490100625709396e-07, 1.8009837571923218e-07, 9.058035282483667e-08, 4.517451929321993e-08, 2.2347144139676548e-08, 1.0966332110883401e-08, 5.3377393471770245e-09, 2.5761017165914915e-09, 1.232110471616502e-09, 5.836108395150732e-10, 2.7355489319680354e-10, 1.2677914362314744e-10, 5.804446611567986e-11], [0.47059833489079855, 0.5214895796759235, 0.5743570811988034, 0.6279602500184582, 0.6808969069231715, 0.7317022819260419, 0.7789611499894215, 0.8214239211417226, 0.8581177047802959, 0.8884444605874708, 0.9122599540771904, 0.9299289216053063, 0.9423532398520913, 0.9509707614844803, 0.9577228105626409, 0.9649883481607139, 0.9754829318035105, 0.9921213117123653, 1.0178443102718777, 1.0554138172129048, 1.10718428821364, 1.1748646461076895, 1.259290127604663, 1.3602282423900585, 1.4762453176711718, 1.6046589077924924, 1.741595889384225, 1.8821662615903036, 2.0207493181086575, 2.151373621158409, 2.268157444182684, 2.365764722097827, 2.439825502561053, 2.4872711124430675, 2.506543211464017, 2.4976516338833408, 2.4620760946464384, 2.4025281651268044, 2.3226087734700416, 2.2264096173618317, 2.1181121136758985, 2.0016341696286797, 1.8803640739189855, 1.7570044767642972, 1.6335309089738177, 1.511251914026777, 1.3909444775426825, 1.273030882108785, 1.1577619851605836, 1.0453765801371606, 0.9362153683503599, 0.8307790254407925, 0.7297307208234333, 0.6338524259376984, 0.5439702448286818, 0.46086637700611854, 0.3851944251284714, 0.31741135296199663, 0.25773452695875954, 0.20612702164584404, 0.1623096589916135, 0.12579472166791553, 0.0959342311281433, 0.07197510354096714, 0.0531141423002505, 0.038547309099061865, 0.027509611523515425, 0.01930387139110034, 0.013318307542085227, 0.009034109727947083, 0.006024939608367387, 0.003950603468438887, 0.0025470899064147555, 0.001614870966598556, 0.0010069426024846978, 0.0006176265892364956, 0.0003727398557357385, 0.00022139843436898006, 0.00012947663862457266, 7.458429366194523e-05, 4.234156935239589e-05, 2.3703304222643706e-05, 1.3093778413443193e-05, 7.142597039606061e-06, 3.85057099833085e-06, 2.0531722592068314e-06, 1.0836920583827438e-06, 5.666209326265018e-07, 2.936756396487634e-07, 1.5095590725943632e-07, 7.697961869769648e-08, 3.894821181015072e-08, 1.9549222500767116e-08, 9.730848947557407e-09, 4.800832927663779e-09, 2.3459877721937213e-09, 1.1345676826368164e-09, 5.425715879484057e-10, 2.563452352480944e-10, 1.1955378469166858e-10], [0.44978441292598914, 0.4988320161562806, 0.5503747797725586, 0.6032861753606893, 0.6562260795885405, 0.7077297041861276, 0.7563147689325486, 0.8005977136357181, 0.839409350162995, 0.8719010903593224, 0.8976344322207984, 0.9166483019922796, 0.9295006749254551, 0.9372822697150628, 0.9416008562450395, 0.9445348954443608, 0.948555138074535, 0.9564129106647922, 0.9709946360845106, 0.9951441176106567, 1.0314574784158792, 1.0820602701764421, 1.1483816181016713, 1.2309454447394426, 1.3292026328458437, 1.4414292076253505, 1.5647132078929835, 1.6950463353965008, 1.8275259142107463, 1.9566592013445332, 2.0767475072963206, 2.1823143032614394, 2.2685320325103167, 2.331598842097991, 2.3690201505544284, 2.379760853575832, 2.364250652544695, 2.3242448837551373, 2.2625630098771135, 2.182743208169732, 2.08866146384887, 1.984165650230186, 1.8727691520066974, 1.7574360570103884, 1.6404733546070223, 1.5235280756238134, 1.4076719614443496, 1.2935454657117986, 1.181528005432035, 1.071902504806902, 0.9649884304801405, 0.8612269436716309, 0.7612124008980424, 0.6656742357686545, 0.5754207249918778, 0.49126042359377947, 0.41391799710256316, 0.3439592393586386, 0.2817361115704885, 0.22735771402260904, 0.18068820315726922, 0.1413685777735683, 0.10885645867220702, 0.08247663574261777, 0.061475140078313784, 0.04507061084522334, 0.03249836994864268, 0.023044492980849984, 0.016068939281803543, 0.011018248074888229, 0.007429306057641566, 0.004926229726289206, 0.0032125422033814884, 0.0020606608007321405, 0.0013003623528529123, 0.0008074635292996813, 0.0004935250476879303, 0.000297016106522029, 0.00017608586077029256, 0.00010288837155405285, 5.928767241174606e-05, 3.37141366813381e-05, 1.893358962762331e-05, 1.0509309233859526e-05, 5.7702514456996395e-06, 3.1365366220014836e-06, 1.6891739047864007e-06, 9.018959289428541e-07, 4.776627220632992e-07, 2.510213044166888e-07, 1.3090896056589155e-07, 6.773945093392418e-08, 3.4767515235102185e-08, 1.7689896275847775e-08, 8.916367183602794e-09, 4.448415523188228e-09, 2.194800090477512e-09, 1.0699600442298278e-09, 5.1492410192057e-10, 2.4443497544157123e-10], [0.4291354995414231, 0.47603393005851713, 0.5258672989980979, 0.5776537153313798, 0.6301533170860645, 0.6819439302437197, 0.7315200095288883, 0.7774060929628839, 0.8182748580806789, 0.8530600308700099, 0.8810556583081764, 0.9019952092626892, 0.9161061215251369, 0.9241372966128044, 0.9273583294111524, 0.9275298371612599, 0.9268442628516811, 0.9278363364076929, 0.9332624887111847, 0.9459494501526053, 0.9686144205161719, 1.0036626992040558, 1.0529732796662237, 1.1176880089552608, 1.198024518323016, 1.2931360694658143, 1.4010415824149565, 1.5186455572347946, 1.641860071603764, 1.765829979683478, 1.8852491161708866, 1.994741682597867, 2.08927142112943, 2.164533984793659, 2.217286872526105, 2.2455772069075843, 2.2488400252766905, 2.2278568863071446, 2.1845837116303755, 2.1218746399123622, 2.043142180246236, 1.9520008175929586, 1.8519404152646601, 1.7460677077325146, 1.6369406451078792, 1.526504027587892, 1.4161187812462006, 1.3066641189760382, 1.198683645703118, 1.092544046295659, 0.9885780321548852, 0.8871904610779247, 0.788916139883367, 0.6944277704389401, 0.6045010517760097, 0.519949882463504, 0.44154736797746424, 0.369948031658647, 0.30562387477846176, 0.24882265593721187, 0.19955196548806903, 0.15758824313396091, 0.12250646340443452, 0.09372412470064895, 0.07055245784314128, 0.05224822131773488, 0.03806073102998575, 0.027270490813245406, 0.0192175836968258, 0.013319572941316507, 0.009079872990557408, 0.006088316716961328, 0.0040159864246988785, 0.0026063699206560174, 0.0016646554398424183, 0.0010465985178357408, 0.0006479726651577898, 0.0003952215666089929, 0.0002376041397204543, 0.00014088194990089225, 8.244018191775667e-05, 4.764651615965486e-05, 2.7219705170655516e-05, 1.538370617645494e-05, 8.608495673148002e-06, 4.773362734127498e-06, 2.624529143954937e-06, 1.431665760114509e-06, 7.750750864995293e-07, 4.164931165328579e-07, 2.221158061800064e-07, 1.175177134210399e-07, 6.16502435416602e-08, 3.204484032280584e-08, 1.648952465000374e-08, 8.392523749414396e-09, 4.220970196070032e-09, 2.095935531155469e-09, 1.0266497836011006e-09, 4.956881847891695e-10], [0.4088028982739344, 0.4533048785223445, 0.5010840580116743, 0.5513278619406763, 0.6029312113574735, 0.6545558543898343, 0.7047175720994355, 0.7518934743915213, 0.7946396184704005, 0.8317085897392154, 0.8621574211017455, 0.8854379820174402, 0.9014642660097979, 0.9106533142953465, 0.9139383753997367, 0.9127540368671992, 0.9089934415114043, 0.9049375384504668, 0.9031560454930463, 0.9063799458616021, 0.9173464098714713, 0.9386193481513345, 0.9723923969285109, 1.020285664830486, 1.0831523156163623, 1.1609150096574652, 1.2524542398815266, 1.3555696433387774, 1.4670307835799608, 1.58272561972315, 1.6979035912964062, 1.8074973905742764, 1.9064950845380708, 1.990324552227069, 2.055207285838479, 2.098439863817909, 2.1185691954581234, 2.1154410871776146, 2.0901187710903466, 2.044685943561617, 1.9819645040723486, 1.9051878510040021, 1.817674500752024, 1.7225434644313684, 1.6225031293046408, 1.5197313873440048, 1.4158491570050615, 1.3119750857838408, 1.2088384646894332, 1.1069217050789444, 1.0066035062485352, 0.9082784173901328, 0.8124364196788344, 0.7196955668976552, 0.6307897750947491, 0.5465210467157048, 0.4676898339540866, 0.39501862216642447, 0.32908246413667397, 0.27025685477915584, 0.2186889421955301, 0.17429355700713084, 0.13677166766714918, 0.10564612484677931, 0.08030813586522832, 0.06006774026572071, 0.04420238053933566, 0.03199911926612937, 0.022787774023127875, 0.01596390585187489, 0.011001979976041505, 0.007459997891690234, 0.004977452534997601, 0.0032686296976675504, 0.002113159039962569, 0.0013454122308243375, 0.0008439530180127966, 0.0005218436701554081, 0.00031825791700638165, 0.00019157082129310884, 0.0001138989177055932, 6.69431049841085e-05, 3.89278202701309e-05, 2.2415816041437292e-05, 1.2792101253035669e-05, 7.239896792520095e-06, 4.066031492558755e-06, 2.266811936973186e-06, 1.2546541877093123e-06, 6.893599930166706e-07, 3.758602778345967e-07, 2.0324361034273135e-07, 1.0891681704889952e-07, 5.7794460955643035e-08, 3.033806147704017e-08, 1.57394484258839e-08, 8.062896545089973e-09, 4.074885163742247e-09, 2.0300959404614398e-09, 9.962875163843445e-10], [0.38890325793023456, 0.43083087892178396, 0.47626670227273765, 0.5245846021128479, 0.5748432464021552, 0.6258265122146371, 0.6761155013364337, 0.7241859324837537, 0.7685218573322967, 0.8077351738963932, 0.840680408402786, 0.8665555375394106, 0.8849818238952685, 0.896058200187489, 0.9003881156077398, 0.8990785209273081, 0.8937116034785766, 0.8862900371619958, 0.8791561849553766, 0.874885360122992, 0.876153458298416, 0.8855804790179183, 0.9055539101781042, 0.9380395791090596, 0.9843919356729158, 1.0451800376420162, 1.1200487328563555, 1.2076356022958827, 1.3055622547447039, 1.4105130885646513, 1.5184058287204913, 1.6246469003678685, 1.7244525778617772, 1.813205868192715, 1.886811363944478, 1.9420076030613551, 1.9765998055603622, 1.9895851593139193, 1.9811568804162456, 1.95258986846904, 1.9060271113112095, 1.8441992286566218, 1.770117390044741, 1.6867810350539938, 1.5969363770707092, 1.5029108495248729, 1.4065346679391053, 1.309146201497621, 1.2116654366844521, 1.1147114277613697, 1.0187362801368942, 0.92414987615219, 0.8314152830816411, 0.741103014225139, 0.6539012447610526, 0.570587056729932, 0.4919695800617963, 0.41881888156410396, 0.3517946135790033, 0.29138625418774483, 0.2378730564461943, 0.1913074904503564, 0.15152184654945608, 0.11815439636007566, 0.09068942855800989, 0.06850465988212973, 0.05091981379528992, 0.03724125987559463, 0.02679915808989351, 0.01897521300099292, 0.013220643634333805, 0.009065142111883692, 0.006118354211147476, 0.004065776804294519, 0.0026609971018926202, 0.0017159925309232738, 0.0010908685858205796, 0.0006840231352226847, 0.0004233551580286594, 0.0002588244332672408, 0.0001564344558334367, 9.355466638128723e-05, 5.5409798282616474e-05, 3.252824712107404e-05, 1.894138916775404e-05, 1.0947097130122088e-05, 6.281939080616923e-06, 3.5798437259987913e-06, 2.0256600282681484e-06, 1.1377541405897626e-06, 6.339562656299189e-07, 3.501631013368527e-07, 1.9155694401729433e-07, 1.0368775145676144e-07, 5.547998611339397e-08, 2.931648844183181e-08, 1.528499725336627e-08, 7.85670119925774e-09, 3.97848241291432e-09, 1.9834282558032637e-09], [0.36951340377306024, 0.40876552307930103, 0.45163776662453886, 0.49769869644432213, 0.5461922875486759, 0.5960576335466778, 0.6459827046822292, 0.6944880311112844, 0.7400325954876498, 0.7811318214873847, 0.8164766432206657, 0.845043244130716, 0.8661848883380373, 0.8796998457332776, 0.8858721521895001, 0.8854843046570048, 0.8798025852862558, 0.870536401167362, 0.8597729500903162, 0.8498880472124953, 0.8434335875903713, 0.8430024078041073, 0.8510726557305415, 0.8698363406094486, 0.9010203406608955, 0.9457122601261458, 1.0042073158925784, 1.0758948886025812, 1.1592035120442827, 1.2516201711646406, 1.3497935833889363, 1.4497220347748063, 1.5470153955337707, 1.637209788339133, 1.7161039892241297, 1.7800809172791328, 1.8263769625581585, 1.853267025862127, 1.8601435605162115, 1.8474821198254756, 1.8167016096519983, 1.7699419263047838, 1.709792392141523, 1.6390095428901819, 1.5602616045430673, 1.475929878269801, 1.387985782050156, 1.2979487704734542, 1.2069172997183548, 1.1156546674423906, 1.0247054709777843, 0.9345171773057808, 0.8455445063254515, 0.7583208390443016, 0.6734890651463075, 0.5917924905567119, 0.5140332017471225, 0.4410096852641998, 0.373447170679548, 0.311933297069077, 0.25686890681236507, 0.20843987960305532, 0.16661179499055745, 0.13114557981283917, 0.10162964689795566, 0.07752258029427012, 0.0582001375246441, 0.04300100276003307, 0.03126701492736753, 0.022375167746310192, 0.015760232581463116, 0.010928169756627557, 0.007461446117209488, 0.005017932755117679, 0.0033252532355522854, 0.0021723688548227235, 0.0013999200805827224, 0.0008904854206193788, 0.0005595464118065867, 0.00034761276473197487, 0.0002136939983265118, 0.00013011252861753537, 7.853353358709264e-05, 4.7026319661439246e-05, 2.7954590504353044e-05, 1.6503654192415914e-05, 9.678418419898177e-06, 5.637582637983475e-06, 3.26060506670614e-06, 1.8714129481795398e-06, 1.0650575314610997e-06, 6.005030810709254e-07, 3.350960984181967e-07, 1.8488379727633458e-07, 1.007573712196099e-07, 5.4187700890239203e-08, 2.873437177254781e-08, 1.501238478005341e-08, 7.722445319329961e-09, 3.909008430344585e-09], [0.35066796613056367, 0.38722293326447293, 0.4273898625783311, 0.4709305259503768, 0.5172867944609156, 0.565578915029121, 0.6146386847472975, 0.6630759139107462, 0.7093723994768998, 0.7519943637497947, 0.7895124319301209, 0.8207179335416311, 0.8447255143625507, 0.8610543610996353, 0.8696832140328856, 0.8710771664984548, 0.8661865045894999, 0.8564192064811205, 0.8435891448643534, 0.8298417347199649, 0.8175581714950231, 0.8092390472386904, 0.8073685214351841, 0.8142617012083804, 0.8319005182371392, 0.8617669050735082, 0.904685866209218, 0.9606942497186388, 1.0289526894959997, 1.107717438145722, 1.1943850938464016, 1.2856164953207263, 1.3775368937302273, 1.4659991026186199, 1.5468863410607259, 1.6164237745875405, 1.6714639962824367, 1.7097129859961309, 1.7298696804031755, 1.7316634139538531, 1.7157874517155776, 1.6837412921448462, 1.6376068515713604, 1.579791869760641, 1.5127765095390686, 1.4388958579670712, 1.3601826968715147, 1.2782832504343402, 1.1944459223593102, 1.1095716290810413, 1.0243061110379257, 0.939150679441194, 0.8545684270855411, 0.771067332655579, 0.689248624497266, 0.6098166536932078, 0.5335538245120197, 0.4612696523758622, 0.3937360909023166, 0.3316217737116947, 0.27543611892678804, 0.22549103531303596, 0.181884074635456, 0.14450307743468513, 0.11304926451997895, 0.08707369107247781, 0.06602110390393377, 0.04927540822512513, 0.03620189625488221, 0.026182789758462173, 0.018644183590877578, 0.013073889049668849, 0.009030793521477481, 0.006147097935648709, 0.004125166480352542, 0.0027307804968481034, 0.0017844171217438008, 0.0011518666394316362, 0.000735143990757481, 0.00046430282819274663, 0.0002904651403698422, 0.00018015467924397392, 0.00011087047511629303, 6.77490062578242e-05, 4.11260063150509e-05, 2.48060929447778e-05, 1.4866551206152195e-05, 8.849803870131352e-06, 5.229744456647168e-06, 3.065580057616319e-06, 1.7808514961936194e-06, 1.0242021297926512e-06, 5.825517624018002e-07, 3.273641606010585e-07, 1.8157541140967687e-07, 9.931816183202872e-08, 5.353069345582336e-08, 2.841047856962583e-08, 1.4838695631266592e-08, 7.623120060178553e-09], [0.3323604375931743, 0.3662735889656845, 0.4036766444287259, 0.4445132641942548, 0.4884257856031016, 0.5347326135671585, 0.5824395398071371, 0.630286144869589, 0.6768239450264368, 0.7205189632053093, 0.7598685607983285, 0.7935210679472939, 0.8203870916943631, 0.8397331493760399, 0.8512510004763609, 0.8550991246536814, 0.8519156063483799, 0.8428037602062259, 0.8292929230580758, 0.813276982244882, 0.7969327008726805, 0.7826192142817369, 0.7727597476480783, 0.7697071075234563, 0.7755960946654377, 0.7921886428168669, 0.8207208486959261, 0.8617644628507583, 0.915118000442889, 0.9797435087504835, 1.0537634585275333, 1.1345278354537196, 1.2187544422755014, 1.3027364202070908, 1.382601339941346, 1.4545975372580842, 1.5153773769832057, 1.5622452282207104, 1.5933408944034069, 1.6077369625417508, 1.6054399803056743, 1.5872987092575355, 1.55483565370161, 1.510028345105941, 1.4550726679579182, 1.3921608997220363, 1.3233022132263719, 1.2502042736677077, 1.174223122650485, 1.0963769789500741, 1.0174099662799774, 0.9378856266539731, 0.8582881171454319, 0.7791110742443733, 0.700919376944875, 0.6243760824519513, 0.5502341348003862, 0.47929871268454216, 0.41237034728669447, 0.350180782124861, 0.2933330554917083, 0.24225495713060735, 0.19717157660736187, 0.15809890884959446, 0.12485709913133969, 0.09709937673379362, 0.07435127685592381, 0.05605438265741246, 0.04160935169030271, 0.030414135794461592, 0.021894743292251898, 0.015527341754790373, 0.010851745813709714, 0.007477253285719047, 0.005082344927014947, 0.0034099761864616776, 0.002260133927798768, 0.0014810962004913639, 0.0009605061317945256, 0.0006170243388981635, 0.0003930090096811711, 0.0002484180362789767, 0.0001559435864325516, 9.727296278384367e-05, 6.0309185400163634e-05, 3.716582107733514e-05, 2.2758748358725494e-05, 1.3840616120011204e-05, 8.352668149449858e-06, 4.997430939726945e-06, 2.9611918688140824e-06, 1.7358629892295992e-06, 1.0056154166550101e-06, 5.751472982937566e-07, 3.2445616701100476e-07, 1.8038649613778622e-07, 9.876622629625788e-08, 5.3222828816631655e-08, 2.821249194518936e-08, 1.4704298313502052e-08], [0.314547893078182, 0.3459437776439354, 0.38060672044082644, 0.41864176693067984, 0.45988393554387974, 0.5038565885372475, 0.5497609047102827, 0.5965003952711643, 0.6427399008671268, 0.6869940504349232, 0.7277364816635025, 0.7635187927789937, 0.7930875214783644, 0.8154884119310779, 0.8301495116893257, 0.8369376904320375, 0.8361863497159462, 0.8286948040129941, 0.8157016409563115, 0.798835154555761, 0.7800438119540185, 0.7615090244456748, 0.7455417543316828, 0.7344642260073052, 0.7304786320370635, 0.7355264128827407, 0.7511443216709753, 0.7783266290026333, 0.8174057842585039, 0.8679657947615544, 0.9288027041969298, 0.9979442553140553, 1.0727359120512667, 1.1499932129811286, 1.2262117976904756, 1.2978177129026545, 1.3614333342836153, 1.4141299461550163, 1.4536378286564642, 1.4784890547733227, 1.4880766942330104, 1.482625513249721, 1.463081664326054, 1.4309401151876535, 1.3880366704580998, 1.3363349801766287, 1.2777373781051842, 1.2139422122654477, 1.1463608555890887, 1.0760967181544783, 1.0039783754317222, 0.9306311519882415, 0.8565673132357216, 0.7822747797678834, 0.7082875626879955, 0.6352268825942867, 0.5638088054831387, 0.49482081400282424, 0.4290748978293961, 0.367347796792089, 0.3103197714998803, 0.25852196961662777, 0.2122996865755625, 0.17179532608525816, 0.13695137316909917, 0.10753078074432774, 0.08315019929171358, 0.06332056951387878, 0.04748966522311017, 0.03508198979397933, 0.025532697076008765, 0.018313629027409378, 0.012950890665656967, 0.009034450738069787, 0.006220982217409775, 0.004231534129356109, 0.0028457037433398925, 0.0018938346838315136, 0.001248489313950007, 0.0008161118791893514, 0.0005294734147280321, 0.0003412098004781552, 0.00021854982654421017, 0.00013918391217635566, 8.81387379378811e-05, 5.548550216596698e-05, 3.470535279734435e-05, 2.155161608093884e-05, 1.3274306679423119e-05, 8.10074881620594e-06, 4.892517756274185e-06, 2.921132440199424e-06, 1.7223583553974019e-06, 1.0019083328136927e-06, 5.744965399533252e-07, 3.2446735387822724e-07, 1.803821627564755e-07, 9.86535395826965e-08, 5.3054752645841474e-08, 2.8045190818814605e-08], [0.2971591397142728, 0.3262190018705542, 0.3582413869323846, 0.39346448317197547, 0.431898333536514, 0.4732672963935956, 0.516979059519691, 0.5621267222621493, 0.6075262769908619, 0.6517871954864264, 0.6934095254425721, 0.7308976286837346, 0.7628789430709638, 0.7882161208966172, 0.8061024538985418, 0.8161332164674446, 0.8183488364471385, 0.8132489834811291, 0.8017791919278578, 0.7852931653881156, 0.7654943747207227, 0.7443601671648413, 0.7240507688546067, 0.7068048084237378, 0.6948228107892049, 0.6901408501422559, 0.6944983024632081, 0.7092061948805305, 0.7350255192944893, 0.7720673555813599, 0.8197279473204003, 0.8766712870719203, 0.9408688574044077, 1.0097009093348113, 1.080116511454214, 1.148841528508527, 1.2126160095741219, 1.2684366415006854, 1.3137772519234439, 1.346761665411756, 1.3662686668559443, 1.371957749172955, 1.3642153304457547, 1.3440323461395445, 1.3128335674001972, 1.2722849785103003, 1.2241070373190912, 1.169918492398634, 1.1111283912455931, 1.0488844593078173, 0.9840760244592911, 0.9173809565646741, 0.8493401462297302, 0.7804406618582517, 0.711189940015344, 0.6421675297741899, 0.5740468935129917, 0.5075862338009504, 0.44359303057349014, 0.38287101961413667, 0.3261602594968205, 0.2740807254538377, 0.22708792888934576, 0.185446027912636, 0.14922048273248742, 0.11828916455018565, 0.09236841645522312, 0.07104913387798564, 0.05383750463022936, 0.04019547417081054, 0.029577023069805003, 0.0214576672145725, 0.01535594740781489, 0.010846857834533222, 0.0075680483732634765, 0.005220179939220546, 0.003563035697352305, 0.002408957168668829, 0.0016149654242040685, 0.0010746262500609778, 0.000710393811125161, 0.00046686963054478334, 0.0003051714959515858, 0.0001984310146882071, 0.00012832654440971902, 8.249971453672655e-05, 5.268494616424117e-05, 3.338851362959538e-05, 2.0975090951386835e-05, 1.3046682515089482e-05, 8.025653641825829e-06, 4.877107261283685e-06, 2.9248311403148775e-06, 1.729405053533577e-06, 1.0073952447782664e-06, 5.777082009566915e-07, 3.259614615027529e-07, 1.8086633564839684e-07, 9.865151606349812e-08, 5.287571172525425e-08], [0.280105601283136, 0.307051176172204, 0.33659661851791506, 0.36907939041132803, 0.4046583428466687, 0.44324439867989845, 0.48445182778349405, 0.5275787632315101, 0.571622056068236, 0.6153271107452193, 0.6572687175988727, 0.6959548721802603, 0.7299427947265807, 0.7579552397410423, 0.7789857957632611, 0.7923839718222149, 0.7979139414882365, 0.7957842188797007, 0.7866486295281646, 0.7715812114331397, 0.7520288784907478, 0.7297458225852199, 0.7067130030240845, 0.6850451315354236, 0.6668868270071431, 0.6542995372758673, 0.6491416732225157, 0.6529461798828708, 0.6668022000612033, 0.6912500343390559, 0.7262005708479263, 0.7708910260924433, 0.8238876181210912, 0.8831423943037574, 0.9461059831944902, 1.009891125156743, 1.07147447136578, 1.127917607398538, 1.1765838714491574, 1.2153263667862493, 1.2426251713989769, 1.2576579932387293, 1.2602975456949652, 1.2510392576388616, 1.2308727847747005, 1.201118385551339, 1.16325320391851, 1.118752202172207, 1.0689640903635063, 1.0150350769405614, 0.9578841591989036, 0.8982247474615077, 0.8366202874559441, 0.7735573513611002, 0.7095188808263428, 0.6450426528337083, 0.5807547856407754, 0.5173740382969918, 0.45568853931667375, 0.3965113462738655, 0.3406241923062254, 0.28871966782088365, 0.24135108858819088, 0.1988969045567595, 0.16154336375121628, 0.1292859306962664, 0.1019472213565584, 0.07920731447511016, 0.06064137132073527, 0.04575948499667913, 0.03404438813438557, 0.024983802674489006, 0.018095538620669923, 0.012944703838663635, 0.009153409810607246, 0.006404064793671251, 0.004437724259610399, 0.0030490604262821967, 0.002079390585298906, 0.0014089499313059645, 0.0009492843175067501, 0.0006363309490184777, 0.0004244893131776308, 0.00028178002810403795, 0.0001860495588695057, 0.00012209716265006688, 7.956466575232092e-05, 5.142587404614558e-05, 3.29278653612786e-05, 2.0861015234491385e-05, 1.3061324336620738e-05, 8.073212023373251e-06, 4.92139072725943e-06, 2.9562307324075235e-06, 1.7485417026334578e-06, 1.0177184149476095e-06, 5.825913785837788e-07, 3.278648207703805e-07, 1.8132716684613865e-07, 9.85234124378646e-08], [0.2632938594202832, 0.28836894939295504, 0.3156492173709899, 0.3455344888882451, 0.37829968634991945, 0.4140185537525764, 0.4525010516988902, 0.49325457985041754, 0.5354765246290618, 0.5780816765661883, 0.6197634490547215, 0.6590833263794598, 0.6945793226097334, 0.7248820238413267, 0.7488263108867736, 0.7655480794336719, 0.7745578379332051, 0.7757863927797327, 0.7696012566965215, 0.7567953259829776, 0.738551334132808, 0.7163864341741075, 0.6920811002547131, 0.6675957149106919, 0.6449772055988732, 0.6262574129077665, 0.613344907674757, 0.6079129135020872, 0.6112877602018066, 0.6243445508646914, 0.6474189142998688, 0.6802451673176186, 0.7219312861458014, 0.7709793205088568, 0.8253561310979721, 0.8826138518576078, 0.9400529560067283, 0.9949142683723767, 1.0445809233969379, 1.0867682664797989, 1.1196798679030147, 1.1421114582560887, 1.1534913366521475, 1.153854638570278, 1.1437582909701214, 1.1241518503942676, 1.0962251954668452, 1.061256194454656, 1.020479668486693, 0.974993677329477, 0.9257114938464011, 0.8733591472375994, 0.8185107217813932, 0.7616480510293997, 0.7032288758394208, 0.6437481137193555, 0.5837801636760496, 0.5239952210322675, 0.4651482461490815, 0.4080443957836615, 0.3534885127566597, 0.3022281931751275, 0.25489994890691436, 0.21198636175640662, 0.1737894358411622, 0.14042224319803645, 0.11181802746360414, 0.0877536357764714, 0.06788274158200781, 0.051773846932861085, 0.03894838969508731, 0.02891519819264306, 0.021198760961864783, 0.015360056289601456, 0.011009815222965205, 0.007814948555118812, 0.005499404796890247, 0.003840957040843792, 0.002665398846270591, 0.0018394400867661853, 0.0012633119440958144, 0.0008637831621289417, 0.0005880060461313092, 0.0003983792682701785, 0.0002684464892507852, 0.00017974321928427523, 0.00011944931016915187, 7.86876232481692e-05, 5.131731712415987e-05, 3.309142605146284e-05, 2.1074478513319292e-05, 1.32413608754448e-05, 8.200529590282727e-06, 5.001943340243527e-06, 3.0028219953120937e-06, 1.77324305145362e-06, 1.0295575465113468e-06, 5.875009900681137e-07, 3.2938567285318864e-07, 1.8139569774343958e-07], [0.24663853166400562, 0.270090071232683, 0.29534649199957025, 0.3228328288945555, 0.3529033935391519, 0.385763635895976, 0.421398337922088, 0.45951705640056495, 0.49952614120183597, 0.5405334923237296, 0.581387964044845, 0.6207506746616772, 0.657191214940319, 0.6892985734082945, 0.715795002992876, 0.7356412229759071, 0.7481231283910129, 0.7529131216787537, 0.7501026619049784, 0.7402059777096146, 0.7241375465034335, 0.7031675542965016, 0.6788600410330345, 0.6529979960038478, 0.6274986905888189, 0.6043215127346778, 0.5853699660838619, 0.5723896455011761, 0.5668650085427839, 0.5699194811641919, 0.5822254775431098, 0.6039327179647088, 0.6346241728113271, 0.6733084958192217, 0.7184555985805002, 0.7680780485365125, 0.8198556177610353, 0.8712943134402297, 0.9199055960987345, 0.96338734129133, 0.9997863897698734, 1.0276238579253392, 1.0459688004700698, 1.0544527746452905, 1.0532262457825339, 1.042866142699945, 1.024250703221127, 0.9984217916097313, 0.9664554030198951, 0.9293580715619408, 0.8880010417636388, 0.8430965643646299, 0.79521302298347, 0.7448192215820523, 0.6923441482856363, 0.6382374138229483, 0.5830172622370056, 0.527296945720075, 0.4717853644356729, 0.41726309787338317, 0.3645393166506733, 0.31439788133742064, 0.2675419176276024, 0.22454540344092055, 0.18581821834684414, 0.15158827011983417, 0.1219013415613577, 0.09663671791675017, 0.07553481603394172, 0.058232094541503895, 0.044298447063865376, 0.03327289594614209, 0.024694463774533368, 0.018126341414868807, 0.013172666633661479, 0.00948821420296767, 0.006781990027870576, 0.004816101198556653, 0.003401376698958142, 0.0023911070788485787, 0.0016740340671712952, 0.0011674261863220527, 0.0008107820380712995, 0.0005604477274598823, 0.00038523853050759303, 0.00026302157644453875, 0.00017813959732253305, 0.00011952360005675883, 7.934088965203243e-05, 5.204159682493939e-05, 3.36917531992883e-05, 2.1507128080069892e-05, 1.3525465073859488e-05, 8.37364565663227e-06, 5.100383270243289e-06, 3.0548921327875505e-06, 1.798507150893768e-06, 1.04040739025041e-06, 5.912201775329088e-07, 3.299530877150475e-07], [0.23007410178970206, 0.25213444923401324, 0.2756183845263296, 0.3009414789014637, 0.3284996540478832, 0.35859411369559974, 0.3913554287331198, 0.4266776596011636, 0.46417295203175707, 0.5031548826167835, 0.5426552454232028, 0.5814745251207507, 0.6182617350439839, 0.6516153780101435, 0.6801946558254486, 0.702829099342594, 0.718615578274836, 0.7269939158041709, 0.7277955572705821, 0.7212632697215877, 0.7080430347615152, 0.6891516405695486, 0.6659247187385392, 0.6399501207870129, 0.6129908480602537, 0.5869006648886755, 0.5635345216151021, 0.544655412285952, 0.5318395495010593, 0.5263827878077268, 0.5292128564472902, 0.5408137535977605, 0.5611700605875224, 0.5897393936332956, 0.6254602732862757, 0.6668001428731224, 0.7118442141607934, 0.7584207227805438, 0.8042528112562919, 0.8471225901721607, 0.8850299346531002, 0.9163280278217637, 0.939819940327224, 0.9548054826375946, 0.9610744825139126, 0.9588503766635407, 0.9486951863206299, 0.9313922489650073, 0.9078255204129162, 0.8788734197973911, 0.8453312957971598, 0.8078704792903297, 0.7670348029723563, 0.7232687970719184, 0.6769667364419482, 0.6285291347169183, 0.578413423270893, 0.5271681237793688, 0.4754440830436836, 0.4239812977213577, 0.3735745057946388, 0.3250242394135449, 0.2790819259830592, 0.23639777590799774, 0.19747883533419155, 0.16266218355913514, 0.13210540150237451, 0.1057936929947169, 0.08356084444223034, 0.06511981885198911, 0.050098263337857475, 0.038074467946930465, 0.028610141470290288, 0.02127751302722961, 0.015679481583648097, 0.011462623331663311, 0.008323703397798074, 0.006010870936200176, 0.004320954288705958, 0.0030942672362495585, 0.002208161776973982, 0.0015702938455585543, 0.00111227222032666, 0.0007840862444286738, 0.0005494840538012201, 0.0003823113608178637, 0.00026371985469546635, 0.00018010409799671488, 0.00012161294880097752, 8.109242142409832e-05, 5.3339980892795955e-05, 3.457706609446311e-05, 2.20718015386267e-05, 1.386468109516961e-05, 8.5656974677293e-06, 5.20233126280093e-06, 3.1049466176257957e-06, 1.8205400363104079e-06, 1.0484088090169306e-06, 5.928713153304981e-07], [0.21356443865694255, 0.23443645454661377, 0.25639066266787464, 0.2798033572620323, 0.3050760242737999, 0.332567702161594, 0.36252002146353146, 0.39498501611964815, 0.42976646258897344, 0.4663844615577052, 0.5040703068599725, 0.541794774211939, 0.5783284420610968, 0.6123282874425059, 0.6424413150270809, 0.6674139386829645, 0.6861955200731575, 0.6980258252419785, 0.7024988281090591, 0.6995986921965752, 0.6897072365837139, 0.6735851352182718, 0.6523310865679176, 0.6273240533224916, 0.6001535063111194, 0.5725417298273272, 0.5462611024484559, 0.5230483184750723, 0.5045171254014248, 0.4920715074210544, 0.4868223045495605, 0.4895117607834612, 0.5004520099027984, 0.5194845163066351, 0.5459674997299289, 0.5787970403742587, 0.6164647846657924, 0.6571511608733296, 0.6988482922885949, 0.7395021383590883, 0.7771596953314983, 0.8101051821353437, 0.8369696070240389, 0.8568011260863727, 0.8690888390691822, 0.8737393181900577, 0.87101208746769, 0.8614262024089929, 0.8456539112105237, 0.8244183925668503, 0.7984106035395365, 0.7682357721571735, 0.7343939713208284, 0.6972927406768523, 0.6572841285388109, 0.6147148088999966, 0.5699766495816074, 0.5235462988175146, 0.47600555910737113, 0.42803871741543936, 0.38040763978778896, 0.3339094208369838, 0.2893240473238822, 0.24736057231112948, 0.2086097385361702, 0.1735091668598312, 0.1423246500344361, 0.11514832788950717, 0.0919120665245452, 0.07241257310179088, 0.05634381706907867, 0.04333218849460941, 0.03297035739360865, 0.024846776724568483, 0.018568947046924786, 0.013779711106556736, 0.010166809399916713, 0.007466612305769866, 0.005463327835853208, 0.003985096614915758, 0.002898290410072557, 0.0021011032765380156, 0.0015172376145846718, 0.0010901994764361805, 0.0007784676915739851, 0.0005516101689628491, 0.0003872926826734831, 0.0002690541718980694, 0.00018469570063257533, 0.00012513353268986624, 8.358723555335209e-05, 5.5001065925386085e-05, 3.562415375188606e-05, 2.269829241476388e-05, 1.4219949069882439e-05, 8.755502043573093e-06, 5.296613414175285e-06, 3.147268968080303e-06, 1.8365166821797369e-06, 1.0522209996239978e-06], [0.19710902488645157, 0.21695514073176775, 0.23759768071412457, 0.2593505174365307, 0.28258891656412294, 0.30769277440506576, 0.33497721668297387, 0.3646192139714713, 0.3965905107256093, 0.4306072496672932, 0.4661050714309869, 0.502245364111667, 0.537954204200901, 0.571991051872148, 0.6030401964110707, 0.6298149712504352, 0.6511633387041642, 0.6661637452654426, 0.6742020063883671, 0.6750229538689597, 0.6687540556308472, 0.6559015484599353, 0.6373222626989703, 0.614175925199861, 0.5878632235078943, 0.5599544715020535, 0.5321126932252802, 0.5060137844886383, 0.4832655454219613, 0.4653271042056103, 0.4534306859760876, 0.44850871954739086, 0.4511306211071436, 0.4614548167864376, 0.47920218977000734, 0.5036567503449255, 0.5336976841091348, 0.5678640382255222, 0.6044494496854144, 0.6416200644282536, 0.677544891918554, 0.7105250882568732, 0.7391077458458244, 0.7621710871212715, 0.7789715023368963, 0.7891481720627689, 0.7926872133402816, 0.7898532833296497, 0.7811012481959443, 0.7669829857153116, 0.7480641725124736, 0.7248630826446878, 0.6978185905311228, 0.667288718748097, 0.633575364519546, 0.5969663620671278, 0.5577835686333704, 0.5164255235699572, 0.4733952554796287, 0.42930741871973505, 0.38487328699650414, 0.3408663199066089, 0.29807428248316764, 0.2572457446647117, 0.21903905968568743, 0.18398078039589982, 0.15243832318724737, 0.12460905640060632, 0.10052540046105493, 0.0800734073303733, 0.06302090224163821, 0.04905070676227387, 0.037794646314328544, 0.02886479338588819, 0.02187947237575016, 0.016482716911324836, 0.012356931289440976, 0.009229335330139707, 0.006873307713053945, 0.005105989568413015, 0.003783514513504929, 0.0027950639415442566, 0.0020566827848624335, 0.0015054980089191305, 0.0010947096803108581, 0.0007895029953867762, 0.0005638715962465791, 0.0003982464269430533, 0.00027778010740937484, 0.00019113015970142645, 0.00012960102150508842, 8.653242724259184e-05, 5.685154763113666e-05, 3.673281204481438e-05, 2.3330065966082455e-05, 1.4560203476661704e-05, 8.926474867398827e-06, 5.374656544411239e-06, 3.1775878570978477e-06, 1.8444003168040657e-06], [0.18074532066562676, 0.19968131876593306, 0.21919330367556225, 0.23951734064298605, 0.2609769385711897, 0.28393947147403026, 0.30875611948792187, 0.33569206934291634, 0.3648561213351519, 0.3961399650914242, 0.4291769008063131, 0.4633276723951053, 0.49769762799903494, 0.531185179801545, 0.5625572096826166, 0.5905433924319513, 0.6139389915206219, 0.6317048853514591, 0.6430544532540801, 0.6475192280219662, 0.6449884008797335, 0.6357207161886395, 0.620330401239346, 0.5997510651016295, 0.5751827196612664, 0.5480272316728302, 0.5198168403354559, 0.49213925556575927, 0.4665617218473929, 0.44455566945785024, 0.4274234159738119, 0.4162288717231613, 0.411735189488482, 0.4143534620838777, 0.4241074952883063, 0.440619946040505, 0.4631243874534718, 0.4905059950544386, 0.5213706367720786, 0.5541385457113525, 0.5871550343426692, 0.618807574534214, 0.6476367146670494, 0.6724282634606231, 0.6922761661823705, 0.7066093662318595, 0.7151811180070677, 0.718024816723698, 0.7153854131804185, 0.7076389312482996, 0.6952138293424713, 0.6785267086899881, 0.6579414339170128, 0.6337558037619776, 0.6062144896578582, 0.5755421149391702, 0.541986983428234, 0.5058646414990361, 0.4675912841826344, 0.42769966518046576, 0.38683397779942025, 0.3457243056115351, 0.3051448856878018, 0.2658629562798606, 0.2285860380319726, 0.19391510709541548, 0.1623095230842353, 0.13406722375948832, 0.10932110972355397, 0.08805019194252701, 0.07010231289750195, 0.05522426104013241, 0.043094891562550204, 0.03335732106519895, 0.02564717106891048, 0.01961495801136273, 0.014941847549985725, 0.011348943664176424, 0.008600971277350841, 0.006505604951755296, 0.004909819815011093, 0.0036945535678973504, 0.0027687448132469195, 0.0020635261864367254, 0.0015270610221424612, 0.0011202609806423647, 0.0008134311354783515, 0.0005837638341599188, 0.0004135366726756034, 0.0002888499898636257, 0.00019875006793882948, 0.00013461155186803185, 8.968535010168426e-05, 5.8749034178413513e-05, 3.7821560955826145e-05, 2.3921753937619292e-05, 1.4860932374835694e-05, 9.0658139550002e-06, 5.430032466399896e-06, 3.1928257070164544e-06], [0.1645471498388602, 0.1826408370546175, 0.20115885980097548, 0.22025216276950324, 0.24017449047325454, 0.2612530595988648, 0.283840543589399, 0.30825292001374677, 0.33470063868124333, 0.3632225313251179, 0.3936324570987033, 0.4254876497401152, 0.4580851824815359, 0.4904892690116703, 0.5215878760048301, 0.5501730520102528, 0.575036167240697, 0.5950674303382031, 0.6093488535233365, 0.6172312162957071, 0.6183881825760055, 0.6128440083494903, 0.600974612032541, 0.583484601423558, 0.5613647624037222, 0.5358353543210359, 0.508280408323501, 0.48017736969119396, 0.4530252593148839, 0.42827346084353257, 0.40725259314832807, 0.39110887346573636, 0.380743899282647, 0.3767626826409068, 0.37943373152474746, 0.3886656011298124, 0.4040042719731843, 0.42465470588137766, 0.4495279258634645, 0.47731213067063544, 0.5065630834800069, 0.5358058726917548, 0.563637769547601, 0.5888208806902686, 0.6103539946161066, 0.6275155204590711, 0.6398734233929841, 0.6472629423209909, 0.6497377704374326, 0.647504366151874, 0.6408513586267893, 0.6300861547152745, 0.615488809416396, 0.5972894046679498, 0.5756703668951902, 0.5507903085872493, 0.522822048287744, 0.49199516790436965, 0.45863315867256577, 0.423176816300389, 0.38618861977624497, 0.34833665820390697, 0.31036046035665404, 0.27302412320528585, 0.23706394164873562, 0.2031381202542045, 0.17178520309074036, 0.14339592833384068, 0.11820077227375676, 0.09627298554764195, 0.07754485850501848, 0.06183355593500295, 0.048872240217912206, 0.03834230849135988, 0.029903241914588468, 0.02321758134199265, 0.017969673892876372, 0.013877883770584507, 0.010700793082209278, 0.008238467505686083, 0.00633012267922565, 0.004849541733781053, 0.0036994307204130366, 0.0028056328913816033, 0.002111823979331655, 0.0015750316684271291, 0.0011620963966906415, 0.0008470315617225095, 0.0006091481559681166, 0.0004317710186556251, 0.0003013757660124876, 0.00020700108678093094, 0.00013982685061974593, 9.284449903155536e-05, 6.057656579319393e-05, 3.8824407416582045e-05, 2.4437271965503296e-05, 1.5103097334914567e-05, 9.163887407486978e-06, 5.458114176761849e-06], [0.1486194491667662, 0.16589388509676256, 0.18350739204767233, 0.2015261241060316, 0.2201240832647604, 0.23956790109214549, 0.2601823531396551, 0.28229890764688936, 0.306192731764577, 0.3320161445844704, 0.3597379891923265, 0.38909843122646076, 0.4195871661263221, 0.45045010997094154, 0.48072580827802425, 0.5093086613803115, 0.5350323368479181, 0.5567640456352472, 0.5734991243553738, 0.5844457333991375, 0.5890912893868536, 0.5872450847459628, 0.5790548347955289, 0.5649980327230588, 0.5458514811412075, 0.5226438929015603, 0.496596937311298, 0.4690597001384045, 0.4414405423628354, 0.41513917565087205, 0.3914807930950473, 0.37165356808260264, 0.3566508694541252, 0.3472200692500115, 0.3438206182686323, 0.34659481137030906, 0.35535500879986043, 0.3695907261818062, 0.3884977887638266, 0.411029684752314, 0.43596857554062, 0.462010542331722, 0.48785710756063505, 0.5123034253615192, 0.5343132463484745, 0.5530720672829013, 0.5680127125240249, 0.5788115729447312, 0.585358186446959, 0.5877049665950329, 0.586006872128937, 0.5804620537195707, 0.5712637459381423, 0.5585710313770683, 0.5425021169550286, 0.5231492323220487, 0.5006100897786117, 0.4750278399706259, 0.4466301555020026, 0.4157586407216574, 0.38288197718458916, 0.34858953098232065, 0.3135658509300436, 0.278549841571322, 0.24428480664806515, 0.21146667725869628, 0.18069750260132253, 0.15244989234229794, 0.12704594881013012, 0.10465178926817661, 0.08528648776853583, 0.06884251297261837, 0.055113701594583314, 0.04382652489076924, 0.03467077953779335, 0.02732667506339067, 0.021486370734390026, 0.01686911919552519, 0.013230131925170181, 0.01036398687245185, 0.008103812167436124, 0.0063176184488291385, 0.004903071556570985, 0.0037817713259888286, 0.0028938064778047563, 0.0021930540474855115, 0.0016434297238226412, 0.0012160977689009201, 0.0008875226863038115, 0.0006381829307225326, 0.0004517552834438705, 0.00031459982820629585, 0.00021541357411545745, 0.00014496289886677783, 9.584264338981343e-05, 6.223852166956387e-05, 3.9688438692866786e-05, 2.4848420313283896e-05, 1.527232708045574e-05, 9.213771990531266e-06], [0.13309010687826822, 0.14953060547194708, 0.16628395492289233, 0.18333843370834443, 0.20078609252369328, 0.21882044313318394, 0.23771577241508782, 0.25778827370034285, 0.2793422486365295, 0.3026075269491606, 0.3276764249909667, 0.3544495489471214, 0.3825992679623618, 0.4115577217998316, 0.4405330540589044, 0.46855368300418243, 0.494536490625368, 0.5173714958957424, 0.536013431309072, 0.5495699859308636, 0.5573773496133516, 0.5590558445686217, 0.5545413962133958, 0.5440917988140457, 0.5282696120922287, 0.507905650468087, 0.4840481695986167, 0.45790301702188463, 0.4307693977244174, 0.4039748456850212, 0.37881186420809715, 0.3564778271443183, 0.33801932622869085, 0.32428225524721804, 0.3158694287966409, 0.3131082042543218, 0.31603110320997063, 0.3243725086932024, 0.33758391880568345, 0.3548688757383578, 0.3752366484111328, 0.3975712961981648, 0.4207102982389282, 0.4435249926656042, 0.46499410466642427, 0.4842619902990713, 0.5006749938418187, 0.5137923348801221, 0.5233717514433592, 0.5293340622908518, 0.5317141291943017, 0.5306077318432827, 0.5261241790218573, 0.5183529755777955, 0.5073498252582668, 0.4931432762936206, 0.47575920474191646, 0.4552568948359643, 0.4317683731861492, 0.40553224667730764, 0.37691458251921184, 0.34641200950775064, 0.3146356181560096, 0.28227769221391974, 0.250066160553782, 0.21871343934221102, 0.18886681919042358, 0.16106679168672466, 0.13571798332312351, 0.11307509360682659, 0.09324387918236314, 0.0761951932765351, 0.06178866302310676, 0.0498018949879825, 0.039961120288791556, 0.03196978666566791, 0.025532568658970183, 0.020373374257376616, 0.016246978408133068, 0.012944766454603192, 0.010295646014036229, 0.008163469490514073, 0.006442336578102595, 0.005050982906240534, 0.003927185179197641, 0.00302279804594365, 0.0022997414698708845, 0.00172701710504024, 0.0012786652012954558, 0.0009324799424965502, 0.0006692693386120221, 0.0004724583946473247, 0.0003278728008992742, 0.00022358880667971382, 0.0001497815328403621, 9.854177948607167e-05, 6.365762027567515e-05, 4.037205385796088e-05, 2.5133846580832334e-05, 1.5358310991934354e-05], [0.11809988747786618, 0.1336636986402472, 0.14956217973439268, 0.1657177200670804, 0.1821450614614274, 0.1989598684153845, 0.2163710142288105, 0.234654968821819, 0.25411343843759576, 0.275018355556423, 0.2975509223883955, 0.321743156247743, 0.3474308720127237, 0.3742260797136052, 0.4015144532452099, 0.42848018237099533, 0.45415670285387294, 0.47749815687513886, 0.49746358659151013, 0.5131042726091873, 0.5236445164167844, 0.528547469766103, 0.5275600158574727, 0.5207337100605228, 0.5084218297618066, 0.4912551563122023, 0.4701008625296972, 0.44600966193249786, 0.4201562607176733, 0.393777382693149, 0.36811054990470465, 0.3443357449435655, 0.32352133031184477, 0.30657530321079707, 0.29420311731964605, 0.2868737637764514, 0.28479632979079084, 0.28790956381089017, 0.2958868176920156, 0.3081579471667269, 0.32394831015456466, 0.34233304898605754, 0.3623026721310726, 0.3828339679145522, 0.40295892601264494, 0.4218239913306617, 0.4387328528245462, 0.45316807168906337, 0.46478991490296634, 0.4734142856176178, 0.478974989695838, 0.48147809003685016, 0.480957248745232, 0.4774384691787386, 0.470920583095835, 0.46137457080401556, 0.4487609965145625, 0.43306124550265457, 0.41431557335585717, 0.3926597270173314, 0.36835227162202866, 0.3417866162117218, 0.31348464173730756, 0.2840721777956208, 0.254239689035204, 0.22469385452616708, 0.19610689446229518, 0.16907041574899268, 0.14405935714517018, 0.12140965064078389, 0.10131091215259813, 0.08381326560779176, 0.06884564207619707, 0.056241796762281436, 0.04576991626961623, 0.03716197515876313, 0.030139775614413205, 0.024435650423365506, 0.01980691124416886, 0.01604410313902057, 0.012973864550591064, 0.010457637678819517, 0.008387634989386251, 0.006681393982564792, 0.0052760186483479425, 0.004122891580470408, 0.0031833153971544946, 0.0024252573858657292, 0.0018211569478238997, 0.0013466210172834174, 0.000979772008462518, 0.0007010100333650516, 0.000492986176435411, 0.0003406372345836518, 0.00023118899560117335, 0.00015408440261426167, 0.00010082950309780256, 6.477274886311232e-05, 4.0843665171734366e-05, 2.5278267168937795e-05], [0.10379157041190903, 0.11841899087387128, 0.13343774445494236, 0.14871962513437728, 0.16421214896482098, 0.17995544558703447, 0.1960858055794079, 0.21282287979416334, 0.23043981715827352, 0.24921838494691104, 0.26939388408886644, 0.29109693855490004, 0.3143005344008462, 0.33878068995794075, 0.36409775885781703, 0.3896027667774777, 0.4144697652110733, 0.4377515216413215, 0.45845258025504293, 0.4756113750762642, 0.48838203059475244, 0.4961068634139968, 0.49837225388930423, 0.4950431158116227, 0.4862741457591143, 0.4724988501715996, 0.4543995834224463, 0.4328632094626565, 0.4089274548145498, 0.3837226782275563, 0.3584129098645227, 0.3341389410951089, 0.31196528554261194, 0.2928322050245232, 0.2775137923719128, 0.2665832797859983, 0.2603871324211618, 0.25902985694026626, 0.2623715560623845, 0.27003989338663326, 0.2814571998971194, 0.29588199195215226, 0.31246236211000045, 0.3302968539594083, 0.3484969173159384, 0.3662442347258266, 0.3828363989345165, 0.3977157203449463, 0.4104782502815423, 0.4208630900862221, 0.4287252069107132, 0.433997697557045, 0.436651174258457, 0.4366583007242338, 0.4339703592117356, 0.42851026474145315, 0.4201831267177779, 0.40890194351268966, 0.39462300068361345, 0.37738362106116874, 0.35733444391267016, 0.3347594434903065, 0.3100791797208253, 0.2838358108457175, 0.256661572142059, 0.22923513321572814, 0.20223202288758724, 0.1762759096867024, 0.15189694952006466, 0.1295018824376643, 0.10935844967624127, 0.09159444049670355, 0.07620966331202546, 0.06309766198720157, 0.05207321946397042, 0.042901615026452136, 0.035326115770560614, 0.029091096537681962, 0.023959276365707348, 0.019722629622394305, 0.016207420192326738, 0.013274424999502656, 0.010815731330105273, 0.008749537713663538, 0.007014223944809567, 0.005562662438377188, 0.004357399900110322, 0.0033670108151979765, 0.002563657076109591, 0.0019217032181718103, 0.0014171364915864773, 0.0010275133649662775, 0.0007321790918574624, 0.0005125626640956585, 0.00035241614857120903, 0.0002379303213254283, 0.00015770874914207444, 0.00010261644142894168, 6.553739054442024e-05, 4.1080726066934094e-05], [0.0902994168440085, 0.10392508019007338, 0.11801968465176989, 0.13242122387565877, 0.14702381055902025, 0.16180009940741225, 0.17681377612016938, 0.192218193235774, 0.20823894181493546, 0.22514052156813077, 0.24317995609604107, 0.26255273107163535, 0.283338325460946, 0.3054534505382886, 0.32862066918090244, 0.3523583309682387, 0.37599496632288915, 0.3987078843539175, 0.4195822884964336, 0.43768434724199473, 0.4521398136177696, 0.4622092545926669, 0.4673517562850074, 0.46727089168846475, 0.4619393643719477, 0.45160157039449, 0.4367558636347775, 0.41812019259761457, 0.39658580299324275, 0.3731638700386389, 0.34892940771115505, 0.324965878548141, 0.30231290812079165, 0.28191866077826766, 0.26459792605746296, 0.25099683994772565, 0.2415653404204361, 0.23653875763588114, 0.23593014651476185, 0.23953487439550428, 0.24694843486309193, 0.2575974311795781, 0.27078224613605245, 0.28572829938479455, 0.3016412902243762, 0.3177607718910748, 0.33340610570052936, 0.3480094920654125, 0.3611323901460415, 0.3724640351538898, 0.3818035684216344, 0.3890300063812083, 0.39406635496535697, 0.39684517541246783, 0.39728256927128025, 0.3952658826860248, 0.39065771960003526, 0.3833156150603805, 0.3731235899424215, 0.3600294085654936, 0.344080161711038, 0.3254490188250427, 0.3044475599580603, 0.2815206661126575, 0.25722398636747584, 0.2321869166248962, 0.20706628548806255, 0.18249718153711617, 0.15904743323679105, 0.13718126007038167, 0.1172358322504227, 0.09941229910200024, 0.08378068722970254, 0.07029628315577457, 0.05882393815557791, 0.04916625983857415, 0.04109184409342856, 0.034360406394972565, 0.028742688080844715, 0.024034124286359405, 0.020062277346992227, 0.016688829054115926, 0.013807419396282647, 0.01133881316978134, 0.009224813042039903, 0.007422092374066391, 0.005896777846061744, 0.004620248881480278, 0.003566298499256213, 0.002709555866908537, 0.0020249187080434573, 0.0014876790491684475, 0.001074031061045859, 0.000761701470383928, 0.0005305175536761507, 0.0003628053933284193, 0.00024357826249491943, 0.00016052451005869845, 0.00010383442728305014, 6.591845122500224e-05], [0.07773993786696566, 0.09030317361434935, 0.1034206405504605, 0.11691316539715206, 0.13063723571863037, 0.1445102176057401, 0.15852915520025165, 0.17277879420538161, 0.18742556026555468, 0.20269608398494646, 0.21884125917493047, 0.23608937037392005, 0.2545940725106189, 0.2743845026326818, 0.2953252086826904, 0.3170927360909083, 0.33917369242102174, 0.36088621439160284, 0.38142346727511534, 0.39991467500345496, 0.4154967433017719, 0.42738819571523207, 0.4349570786571752, 0.43777564860304613, 0.4356567538801019, 0.4286694355641161, 0.4171339138192894, 0.40159836371015056, 0.3828014164509427, 0.3616250252707607, 0.33904226746485633, 0.3160640165318383, 0.2936874891634377, 0.2728487336528542, 0.2543804000257662, 0.23897573454468038, 0.22715967027639508, 0.2192680345294428, 0.21543608767925596, 0.21559765032209183, 0.21949580151187517, 0.2267054493171655, 0.2366669994103607, 0.24872900434317444, 0.2621962908714444, 0.27637892164494665, 0.2906367417751533, 0.30441441926761226, 0.317262915051149, 0.328845148099001, 0.3389260080218378, 0.34734941460823626, 0.35400735280042983, 0.358807260689109, 0.36164447703392755, 0.362385531686459, 0.36086600869937935, 0.3569038916634731, 0.35032625145478785, 0.3410044575718006, 0.3288913177024565, 0.3140530249187983, 0.2966896091131776, 0.2771395669323023, 0.2558670732922726, 0.2334331157575282, 0.21045448537350017, 0.18755635002931442, 0.16532486114502476, 0.1442658574467901, 0.12477439809245737, 0.10711790481307372, 0.09143351788237032, 0.07773826237827114, 0.06594908639504102, 0.055908951946150184, 0.047414972650824484, 0.040245016046902005, 0.0341800508031584, 0.029020606787403626, 0.0245968187851218, 0.020772471490144877, 0.01744414335921322, 0.014536915709915717, 0.011998186360984901, 0.009790963278742883, 0.007887696072105297, 0.0062653190727313115, 0.004901805106237501, 0.003774218610251306, 0.002858040204841832, 0.0021274185112067786, 0.0015559772170431834, 0.0011178433839958638, 0.0007886401444906002, 0.0005462784232347925, 0.0003714688613347404, 0.0002479445572843938, 0.00016243232204305816, 0.00010443514421552175], [0.06620470088575056, 0.07765809734112795, 0.08974714642837203, 0.10229060432412188, 0.11512339147993873, 0.128122155589975, 0.14122772309066117, 0.1544600743513325, 0.1679219736115397, 0.18178867241616897, 0.19628306461876685, 0.21163802714119848, 0.2280500421207757, 0.2456301239641296, 0.2643591704558698, 0.28405484909445394, 0.30435594057238724, 0.3247278352016627, 0.3444899631822847, 0.362862824146242, 0.3790294979858351, 0.39220453759488666, 0.4017022782830623, 0.4069969458437729, 0.4077683756630717, 0.4039293492966301, 0.39563308017453364, 0.3832617875332099, 0.3673992142851933, 0.3487911408821695, 0.32829836675733987, 0.30684637777398005, 0.28537521061795107, 0.26479212982508604, 0.24592889691442194, 0.229504806687209, 0.21609636186308176, 0.20611441605414244, 0.1997897144216355, 0.1971678337992827, 0.19811440361478677, 0.20233105559590733, 0.2093817643976596, 0.21872816184716362, 0.22977119004687643, 0.24189533233783994, 0.2545108868940275, 0.26708956251926835, 0.27918923449351174, 0.29046502228392085, 0.3006658034297892, 0.3096175681061769, 0.31719724515946396, 0.323302355461426, 0.32782269254608853, 0.330619962189832, 0.3315199135779349, 0.3303191805905195, 0.3268062396893522, 0.3207931184745301, 0.312152301702398, 0.30085211492926434, 0.2869839506481911, 0.27077601459164896, 0.2525905419440059, 0.23290421264658584, 0.21227424747028278, 0.19129488916365314, 0.17055029452997844, 0.15057010932528053, 0.13179320907625788, 0.11454349293355076, 0.0990195655837365, 0.08529802740278272, 0.07334827175377885, 0.06305541862087145, 0.05424742210690029, 0.046722467727722414, 0.04027340442566046, 0.03470694462132238, 0.02985649651610836, 0.025588565805908403, 0.02180352625427803, 0.01843212188397606, 0.015429305915231404, 0.012766977293994107, 0.010426917418878906, 0.008394847908395365, 0.006656113842199373, 0.005193118619787416, 0.003984344655055056, 0.003004610256207434, 0.0022261355240886767, 0.0016200003583487959, 0.0011576480544567935, 0.0008121891331536825, 0.0005593664312547717, 0.0003781356565679585, 0.0002508852111528264, 0.00016336204961470155], [0.055755619488159804, 0.06607123114589508, 0.0770909473593671, 0.0886440155392152, 0.10055870864108982, 0.1126862381174954, 0.12492441296428125, 0.13723702481532482, 0.14966491917449748, 0.16232543079543002, 0.17539830362619954, 0.18909821862667003, 0.203636314926876, 0.21917521942967963, 0.2357836874040837, 0.25339765877573056, 0.27179415260893763, 0.29058295235979065, 0.309218681511648, 0.3270330133101629, 0.34328388328224, 0.3572161704352135, 0.3681267825874021, 0.3754266529263178, 0.378692846736784, 0.3777056012243041, 0.3724673328776826, 0.3632030254296258, 0.3503435524125888, 0.3344950829942846, 0.3163986075746853, 0.296883801312341, 0.27682105750894853, 0.2570747923920333, 0.23846029347017164, 0.22170566179390808, 0.20741990930316048, 0.19606804199444253, 0.18795392244822717, 0.18321173263875304, 0.1818067983759549, 0.1835462588553426, 0.18809949455615382, 0.1950273717962142, 0.20381831946725787, 0.21392819740287813, 0.22482006909291272, 0.23599958057203207, 0.2470418509458238, 0.25760667952458666, 0.2674404182894877, 0.27636485075505496, 0.2842555400732379, 0.2910139703886549, 0.2965390218043186, 0.3007035980525302, 0.30334144002835883, 0.30424738987719674, 0.30319190943854696, 0.2999479521892774, 0.2943258577071912, 0.2862102610235416, 0.2755924219943933, 0.26259200153200085, 0.24746401992380643, 0.23058919183077964, 0.21244856846501775, 0.19358591910877257, 0.1745631099061362, 0.15591459989584844, 0.13810698488338938, 0.12150839242402756, 0.1063707400698667, 0.09282578019359948, 0.08089384680286897, 0.07050261204475661, 0.06151216152808812, 0.05374238427898356, 0.04699899428305432, 0.041095307046667126, 0.035867981023582435, 0.03118608349187296, 0.02695386490306785, 0.023108391337458095, 0.019613625408971658, 0.016452661268499695, 0.013619661326184645, 0.011112695981213016, 0.00892824964704761, 0.007057716043366101, 0.005485831673458348, 0.004190729641215595, 0.0031451496442752836, 0.0023183041526905206, 0.0016779500942497372, 0.0011923175810458003, 0.0008316706884238696, 0.0005693943000125664, 0.0003825984315316288, 0.0002522990484295633], [0.04642286861404094, 0.05559583075508531, 0.06552210629677366, 0.07605087604270926, 0.08701648498568781, 0.0982592565394315, 0.10964830819592726, 0.12110294486665366, 0.13260878120542183, 0.1442249484620579, 0.1560796482757646, 0.16835286590194962, 0.18124704876038925, 0.19494867586990636, 0.20958550863705502, 0.22518555213674998, 0.24164408551643096, 0.25870441219687756, 0.2759562985124399, 0.29285366563184456, 0.30875037126160393, 0.32295033005020135, 0.3347662149886053, 0.34357988318680455, 0.3488976281061608, 0.35039432572278156, 0.3479422824846193, 0.34162275398375697, 0.3317202891614686, 0.31870191225863587, 0.30318444002345113, 0.2858938471895886, 0.26762058669972244, 0.24917430268173146, 0.2313406620138457, 0.21484229080919492, 0.20030519897168478, 0.18823168908905985, 0.17898056497634815, 0.1727553955345825, 0.16960152462960978, 0.1694123184491356, 0.1719447149401683, 0.17684345663993123, 0.18367249869509306, 0.19195111491158556, 0.20119136011672353, 0.21093299351195405, 0.22077191032726853, 0.23037868574527123, 0.2395050171841542, 0.2479775420919653, 0.2556804677220599, 0.26253034485263, 0.2684477845641815, 0.2733316340445677, 0.27704088974340624, 0.27938840464554376, 0.28014840925896456, 0.27907735872028655, 0.27594510177290293, 0.27057132438515324, 0.2628610552469186, 0.2528329691906665, 0.2406353055503301, 0.22654622623206863, 0.21095798908329833, 0.19434692652961902, 0.1772334227009034, 0.16013749948794498, 0.14353604667960024, 0.1278271544032397, 0.11330560190870884, 0.10015163342104749, 0.08843307979779275, 0.07811902107849499, 0.06910180924464285, 0.06122354370954066, 0.05430304386055292, 0.04815990487161587, 0.0426331813645216, 0.0375934028899523, 0.032947772211009245, 0.028639356790163505, 0.024641741922720017, 0.02095092661607845, 0.017576230924744973, 0.014531714988604278, 0.011829181801155999, 0.009473349474608634, 0.007459323131593628, 0.005772134870413987, 0.0043878854460652345, 0.0032759174296470503, 0.00240145821432313, 0.0017282603145647318, 0.0012208995006061155, 0.0008465350596428124, 0.0005760655205662884, 0.0003847122125727168], [0.03820528954325421, 0.04625489991729758, 0.05508438254789868, 0.06456898548123126, 0.0745589834557483, 0.08489651224281639, 0.09543599142222793, 0.10606545366779105, 0.11672539497104682, 0.1274215442484977, 0.1382283572628476, 0.14928109809224183, 0.16075598146752548, 0.17283978406495726, 0.1856922698550491, 0.19940635339057886, 0.21397181906511076, 0.22924840298805513, 0.2449530657577275, 0.26066445967432966, 0.27584520956685044, 0.2898800826045356, 0.3021258540911025, 0.3119670654202069, 0.3188711702643136, 0.32243685238465797, 0.3224304651902586, 0.3188073286048298, 0.31171667274373693, 0.30149097920349865, 0.2886220417425231, 0.2737270679064806, 0.25750852923541184, 0.24071132377079726, 0.22408031111868068, 0.2083206205508758, 0.1940624986709841, 0.18183197527271847, 0.1720283228086933, 0.16490912669433827, 0.16058367510294805, 0.1590152012236004, 0.16003216730151765, 0.16334821498797586, 0.168589635238882, 0.17532832054138603, 0.18311730124248032, 0.19152532005771897, 0.2001666465742425, 0.20872261526202252, 0.21695224214406014, 0.22469068285463803, 0.2318360665395349, 0.2383271033581385, 0.24411548727854088, 0.24913817315593462, 0.2532948444481204, 0.25643518883969296, 0.2583590231945138, 0.25883009626336656, 0.2576019306106862, 0.25445179955889446, 0.24921730598461483, 0.24182936106761785, 0.23233579383283218, 0.22091128362763643, 0.20785152501767507, 0.19355209337829515, 0.1784749098858909, 0.16310707740874858, 0.14791786832008408, 0.13331966233680104, 0.11963771762066891, 0.10709203556720966, 0.09579258006274273, 0.08574710179572044, 0.07687912792160677, 0.06905254568013114, 0.06209875060409071, 0.05584253271620437, 0.0501236158764933, 0.04481185226139554, 0.039815283674350055, 0.03508140604801962, 0.030592852609186816, 0.026359251285447735, 0.02240719116679947, 0.01877009206439641, 0.015479395668171452, 0.012557993163130388, 0.010016278062901948, 0.00785075115594442, 0.006044763697351515, 0.0045707891465245456, 0.003393557151942527, 0.002473438988818435, 0.0017696027803793223, 0.0012426193896325393, 0.0008563614089540805, 0.0005791738655051076], [0.031072927297143605, 0.038041496423294775, 0.04579306412964613, 0.054231922494292914, 0.06323100225423141, 0.07264437400831285, 0.08232426755961657, 0.09214071579057756, 0.10200107293896675, 0.11186613477294037, 0.12175956963895875, 0.13176795077839984, 0.14202984999836402, 0.15271407661062184, 0.1639889783056848, 0.17598644425354212, 0.18876553356580444, 0.2022812175256606, 0.216363412233288, 0.23071028875882904, 0.24489794765112544, 0.2584062417347519, 0.27065821591396544, 0.28106870019824587, 0.28909636252539045, 0.29429318348186645, 0.29634586794417345, 0.29510500674610035, 0.2905995688996954, 0.28303620759115894, 0.2727845820427031, 0.26035119170491877, 0.24634496640998552, 0.23143805972780165, 0.2163250612641009, 0.2016833472168815, 0.1881367076156074, 0.1762238677094673, 0.16637313786404398, 0.15888418339932775, 0.15391774156972415, 0.15149392935308523, 0.15149948308655484, 0.15370378103423799, 0.15778281073124042, 0.1633494098811643, 0.1699872511886514, 0.17728532010488773, 0.18486922520306664, 0.19242573404831168, 0.19971753055883557, 0.20658633750797634, 0.21294412606996885, 0.21875392608178035, 0.2240034642110104, 0.22867617528501288, 0.2327247742649824, 0.23605236210578306, 0.23850493620965738, 0.2398773242859787, 0.23993225537589408, 0.23842992772088403, 0.23516346537009022, 0.22999445215455183, 0.22288253408506975, 0.21390394056729128, 0.20325553932878118, 0.19124338527037713, 0.17825721942191766, 0.16473457261668129, 0.15111965198659028, 0.13782280066521832, 0.1251859648802223, 0.11345839892601328, 0.10278505063556136, 0.09320804271227838, 0.08467975413609115, 0.07708451144921202, 0.07026501977068388, 0.06404946932527651, 0.058275692896668105, 0.052809671761646755, 0.047556881380994405, 0.04246620716025412, 0.037527244329682866, 0.03276257993601931, 0.028217066763345868, 0.023946139359138346, 0.02000495259127741, 0.016439644295884865, 0.013281451660770459, 0.01054385428035804, 0.008222458574350848, 0.006297027479357468, 0.004734909640379153, 0.0034951176727250465, 0.0025324094856405527, 0.0018008955198338963, 0.0012568847498490032, 0.0008608586541044537], [0.02497119387845775, 0.03092113293267197, 0.037635160364272176, 0.045046840634220695, 0.05305542865718291, 0.06153412854584134, 0.07034321417204055, 0.07934687021458421, 0.08843171508317561, 0.09752425654784652, 0.10660418716908267, 0.11571058819224256, 0.12493883571062113, 0.13442724322718982, 0.14433406932450943, 0.15480721365422123, 0.1659504139739205, 0.17779074506703593, 0.190252482162348, 0.20314182603040715, 0.2161456463715606, 0.22884548667721177, 0.24074590418326977, 0.25131416246358623, 0.26002669998290984, 0.26641692278921775, 0.2701188300782735, 0.2709017356247104, 0.2686927125221694, 0.2635850851810545, 0.25583301288380356, 0.24583368101809652, 0.23409965456225637, 0.2212244825285644, 0.20784471183265546, 0.19460119679776836, 0.18210213674627, 0.17088979051593006, 0.16141240821425376, 0.15400262524934996, 0.1488633535757085, 0.1460620045750991, 0.1455335942800239, 0.1470928381876685, 0.1504547076635396, 0.15526212225636377, 0.16111858500292145, 0.16762277430642084, 0.17440155409673902, 0.18113771189832303, 0.18758909401759036, 0.19359671183898886, 0.19908077779809494, 0.20402532644003316, 0.20845383289066885, 0.21239975916436227, 0.21587694581810224, 0.21885499670627942, 0.22124417198242255, 0.22289285723568877, 0.22359862231231714, 0.22313156031652012, 0.22126641560694807, 0.2178183724307165, 0.2126765975848335, 0.20582987037309636, 0.1973798595351307, 0.18753960140354925, 0.17661713441993376, 0.16498661976231432, 0.15305120899668742, 0.14120308571109172, 0.12978634044747536, 0.11906764527658965, 0.10921824882293082, 0.10030890791792212, 0.09231735923074905, 0.08514615295524244, 0.07864738970068794, 0.07265027837436398, 0.06698749692474293, 0.06151700085551898, 0.05613700875827462, 0.05079317442972062, 0.04547820326316956, 0.04022519504065291, 0.03509666896926352, 0.03017149973651778, 0.02553188937982834, 0.021252100861106647, 0.017390101655279957, 0.013982633743948024, 0.01104364946064255, 0.008565608757366934, 0.006522862209427525, 0.004876247748280586, 0.003578080678498424, 0.0025768712382898667, 0.0018213114997954276, 0.001263288136029339], [0.019826079570595116, 0.02483578202884927, 0.030571637371387454, 0.036994534373532915, 0.044031001748128455, 0.051577648942412006, 0.059510337588210456, 0.06769759805444932, 0.07601695714611217, 0.0843720534268238, 0.09270785640660693, 0.10102113230698152, 0.10936361868879925, 0.11783620555338503, 0.12657369181225767, 0.13572121319146854, 0.14540496574288012, 0.1557010938360899, 0.1666073160569613, 0.17802185384928135, 0.18973345888660362, 0.20142490204977329, 0.21269041549484793, 0.22306558369513943, 0.23206639959066994, 0.2392329356837037, 0.24417252305580434, 0.2465975419359864, 0.24635382048887527, 0.2434370116340708, 0.2379959016860991, 0.2303231244119193, 0.2208349861899002, 0.21004291996573063, 0.1985194506864161, 0.18686153897241098, 0.17565389904884715, 0.16543450425828377, 0.15666411728984062, 0.1497013779677921, 0.14478475120712964, 0.14202242961169048, 0.14139101726216738, 0.14274341336248775, 0.14582571886274495, 0.15030221279799574, 0.15578655782367754, 0.16187652246135972, 0.16818881225211305, 0.17439024860344976, 0.18022165592892916, 0.18551148243027207, 0.19017736494179466, 0.1942154308134581, 0.1976788956785581, 0.20064918814069335, 0.20320411632943508, 0.20538822969968887, 0.20719035704697125, 0.20853228728788756, 0.20927082538264996, 0.20921326700729936, 0.20814405898762603, 0.20585845076082007, 0.20219765628099776, 0.19707968224260386, 0.1905206169021247, 0.18264270797804477, 0.17366771516706228, 0.16389641633579505, 0.15367735256077938, 0.14336953662364707, 0.1333046582869421, 0.12375419378472567, 0.11490583400285209, 0.10685200222060894, 0.09959125393242, 0.093041389118832, 0.08706148181106631, 0.08147897863352493, 0.07611765462051727, 0.07082253106168315, 0.06547873390380113, 0.060022500425004656, 0.054443888951683055, 0.048781983238818216, 0.043114329358389165, 0.037542890776887494, 0.03217893044921552, 0.027128975268342688, 0.022483490890531692, 0.01830922464019904, 0.01464549209013019, 0.011504097475423527, 0.00887216027340177, 0.006716898475368344, 0.004991383108664447, 0.0036403900053927655, 0.00260568030132802, 0.0018302854079851737], [0.015549835736312285, 0.019708921025495717, 0.024541226065788485, 0.030031482830028912, 0.0361322403818056, 0.042765127522015424, 0.04982637057093969, 0.05719660344219457, 0.06475427046947015, 0.07239114452524537, 0.08002781045557561, 0.08762655295530315, 0.0951990712310679, 0.10280689485831238, 0.1105532864885354, 0.11856668229873227, 0.12697714870216478, 0.13588867595591342, 0.14535112801127845, 0.15533610864477346, 0.16572076359601362, 0.17628261749032437, 0.18670707304310014, 0.19660741722412825, 0.20555538622862557, 0.2131188422676844, 0.21890215565845234, 0.22258460408188455, 0.22395250529979757, 0.22292177313747158, 0.2195489196850658, 0.21402996828823379, 0.20668805517248037, 0.19795150752201449, 0.18832480751793687, 0.1783550936869025, 0.16859679516557843, 0.15957676177228416, 0.1517619617371651, 0.14553155213366817, 0.14115491159133023, 0.1387770316513209, 0.13841242334096263, 0.13994832875091429, 0.14315747307754395, 0.14771983677183595, 0.15325201773384384, 0.1593417989059084, 0.16558469184014263, 0.1716186640399356, 0.17715313148666398, 0.1819887086727935, 0.18602517515324485, 0.18925656017744188, 0.19175398850489722, 0.19363871783107653, 0.19504933990277556, 0.1961081339413987, 0.19689183891746234, 0.19741155006876426, 0.19760508716625844, 0.19734321677237632, 0.19644884964026002, 0.19472615968421694, 0.1919948661657615, 0.18812399707845937, 0.1830594854952701, 0.17684094585938812, 0.16960476196327243, 0.1615728766879562, 0.1530290060548579, 0.14428600061193933, 0.13564940920075605, 0.12738275755962017, 0.11967959406518383, 0.11264609759590131, 0.10629624097655353, 0.10055948962571543, 0.09529913520797341, 0.0903379167457598, 0.08548676866844249, 0.08057243474317537, 0.07546025023742049, 0.07006946697599634, 0.06437985276351177, 0.05842969008243653, 0.05230650322579568, 0.04613269104501774, 0.04004864806140049, 0.03419591912393882, 0.028702525424422885, 0.02367194619129952, 0.019176485218184196, 0.015255030777021356, 0.011914636766996802, 0.009134973702950314, 0.00687453582970113, 0.005077521551778614, 0.0036804784168879864, 0.002618059591215686], [0.012046612650507422, 0.015451050444092802, 0.01946525584474193, 0.024093424850599697, 0.029311271719120943, 0.0350648564005957, 0.04127297877896388, 0.04783355235129523, 0.05463378079733799, 0.061563261458547514, 0.06852844467245964, 0.0754663271412857, 0.08235499005500951, 0.08921871515844491, 0.09612596890217015, 0.10317949852171457, 0.11049901005779302, 0.11819820109905405, 0.1263590661096912, 0.1350071523543476, 0.14409164773795552, 0.15347375175712505, 0.16292575771992587, 0.17214181334985174, 0.18075966943822255, 0.18839115329531012, 0.19465787913893812, 0.19922802504177475, 0.2018499525820794, 0.20237898845417146, 0.20079468929290517, 0.19720716545466066, 0.19185232063299193, 0.18507697603576057, 0.17731566181403424, 0.16906133043277632, 0.16083241150422217, 0.15313857405790107, 0.1464473973324715, 0.1411539642835996, 0.13755522848660526, 0.13583085632335376, 0.1360320574919529, 0.138079609669096, 0.14177178633434603, 0.146802176062047, 0.1527864610502966, 0.1592961917816297, 0.16589659916175953, 0.17218470293550697, 0.1778235809383827, 0.18256879292139822, 0.1862836665195216, 0.18894141629312508, 0.19061374220197885, 0.19144741479372324, 0.19163211678179562, 0.19136417906215097, 0.19081156955343437, 0.1900854033730253, 0.1892223101819462, 0.1881803323230441, 0.1868488843714858, 0.18507102763274566, 0.18267428757457355, 0.17950482247981148, 0.17545919324222709, 0.17050839307181404, 0.1647101052960408, 0.15820713882286958, 0.15121229586039617, 0.14398215270916898, 0.13678400056877354, 0.12986120891795555, 0.12340238998936107, 0.1175189731159768, 0.11223430972176979, 0.10748550687268582, 0.10313717231156644, 0.09900448482459959, 0.09488175505317321, 0.09057208073879527, 0.08591386566736584, 0.0808007767568934, 0.07519297225420778, 0.0691189003849544, 0.06266838584342413, 0.055978870171769494, 0.04921740055054751, 0.04256120785256099, 0.03617950606199828, 0.030218580982834725, 0.024791460897682666, 0.019972632082982278, 0.015797516785835238, 0.012265869998945772, 0.009347923847364546, 0.006992015410283464, 0.0051325372442962225, 0.0036972880808842437], [0.009217636680047738, 0.011965177438718411, 0.015252962453454828, 0.01909994033717134, 0.023501141411976113, 0.028424821019204082, 0.03381238696618996, 0.03958175641041564, 0.045634357554626026, 0.05186541231461979, 0.05817648761711951, 0.06448869933411813, 0.0707545240633041, 0.07696603980675157, 0.08315765783846073, 0.08940204158056568, 0.09579887312625866, 0.1024572871262336, 0.10947395155535691, 0.11690971999307494, 0.12476831642148178, 0.1329805108154501, 0.14139666685316515, 0.14978946462978604, 0.15786719148269296, 0.16529648859779117, 0.1717320942239325, 0.17685015765658368, 0.18038125670448737, 0.18213937739026864, 0.18204374487687372, 0.18013138091188133, 0.17655941076858886, 0.1715972563498413, 0.16560977734522944, 0.1590330729567855, 0.15234502218415708, 0.14603277298844636, 0.1405593762326659, 0.13633168565015769, 0.13367156657329546, 0.132792382023576, 0.13378261421782153, 0.13659825837827272, 0.1410652138628768, 0.14689224065740147, 0.15369414539744983, 0.16102377600632117, 0.1684102693606406, 0.17539999114953578, 0.18159592554548779, 0.1866910845512832, 0.19049192017558553, 0.19292875151209976, 0.19405177097284698, 0.19401307514232718, 0.19303710499889745, 0.19138357162976619, 0.1893080980486643, 0.18702620643753406, 0.18468581878934193, 0.1823521544715855, 0.18000698114914218, 0.17756190554127257, 0.1748831485097377, 0.17182341286715053, 0.16825533852235597, 0.1641008437520121, 0.15935140997882988, 0.15407594895526913, 0.14841501921974198, 0.14256246224339636, 0.13673761079400149, 0.13115273182740905, 0.12598106118823912, 0.12133057390655301, 0.11722757881223396, 0.11361253894576892, 0.11034850864935564, 0.10724059365167712, 0.10406320870688217, 0.1005908769084807, 0.0966280172061175, 0.09203360089427284, 0.08673759937635922, 0.08074757686554843, 0.07414533773932458, 0.0670749568543104, 0.05972458910731343, 0.05230504076966335, 0.04502815510376601, 0.03808767551861877, 0.03164452783143862, 0.02581757334214289, 0.020679993092070838, 0.016260709674294372, 0.012549727091191376, 0.009506006769058325, 0.007066483397745291, 0.005155004704885329], [0.006965633113817894, 0.009151853717236973, 0.011806772536439568, 0.014959504690119677, 0.018620105655126416, 0.022775718065747425, 0.027388721814199216, 0.03239764048067385, 0.03772127914139948, 0.043266128152232616, 0.04893651182714066, 0.05464637412682699, 0.06033108598393129, 0.06595734819530165, 0.07152924937582684, 0.0770888761775209, 0.08271055531836728, 0.08848875479503644, 0.09452074128521021, 0.10088609665203531, 0.10762594601454363, 0.11472508308363946, 0.12210000398594324, 0.1295951790840683, 0.13698880017634166, 0.14400791472840932, 0.15035152195501994, 0.15571908110397087, 0.1598411496514475, 0.1625086289714686, 0.1635973528072325, 0.1630854250182516, 0.16106164829036398, 0.15772440875155586, 0.15337133093383892, 0.14838077904238708, 0.14318680513952461, 0.13824944766191508, 0.13402242491463728, 0.13092032372105253, 0.1292874135423396, 0.12937024211944562, 0.13129616248745635, 0.13505983468402166, 0.14051945192976145, 0.14740388661699086, 0.15533110615760606, 0.16383710910466578, 0.1724133881892053, 0.180549712017539, 0.18777803915038033, 0.1937128406390467, 0.19808316572285348, 0.20075251091748525, 0.2017239065089622, 0.2011294641112121, 0.19920568538711828, 0.19625780629062994, 0.1926180249452851, 0.18860336265740882, 0.18447896201987365, 0.18043179268969983, 0.17655812113418554, 0.17286594835926353, 0.1692912712461016, 0.1657248628316154, 0.16204465463459114, 0.15814801134430076, 0.15397834786045544, 0.14954162003099108, 0.14491003331619848, 0.14021254219466336, 0.1356139727505541, 0.13128650703958664, 0.12737850427555422, 0.123986007024526, 0.12113175050169384, 0.11875517598664616, 0.11671509235960649, 0.11480456295142073, 0.11277567088394942, 0.11037034768976911, 0.10735265770771295, 0.1035379087138454, 0.09881466545945954, 0.09315701418102998, 0.08662601484177317, 0.07936090085688903, 0.07156197820664703, 0.06346813577406885, 0.05533229907742214, 0.04739803665903114, 0.03987995134021431, 0.03294961165329696, 0.026727784812583272, 0.021282795655094406, 0.01663409135097543, 0.01275961811266334, 0.009605432098366293, 0.007096038955340706], [0.005198326231604413, 0.006913477316912516, 0.009027162340161196, 0.011574533379857544, 0.014576393833025983, 0.01803492649047956, 0.021930715462350817, 0.0262218235821914, 0.030845540487059668, 0.03572311437791468, 0.04076734193694039, 0.045892370270042504, 0.05102454732046113, 0.05611274692955749, 0.06113639471070026, 0.06610951008104639, 0.07107949098053076, 0.07612007285635083, 0.08131880031108257, 0.08676031361296811, 0.09250760017519777, 0.09858392575529568, 0.10495831511614964, 0.11153714103028435, 0.11816363342602379, 0.12462605024585406, 0.13067403404607653, 0.1360415172695972, 0.14047362493725962, 0.14375449537386067, 0.1457328594036187, 0.1463425629757798, 0.14561589070817024, 0.14368840585050027, 0.14079491345059506, 0.13725695113021677, 0.13346283907194223, 0.12984175975078288, 0.1268336210094091, 0.1248566432228137, 0.12427476071552374, 0.12536706879853932, 0.1283016653547085, 0.13311626892009762, 0.1397078532320512, 0.1478331296295941, 0.1571209740876932, 0.1670968370498425, 0.17721787168684577, 0.18691612649728556, 0.1956458838163725, 0.2029303181677455, 0.20840230176485933, 0.21183453088615095, 0.21315521144488925, 0.21244722695374907, 0.20993080312821402, 0.20593187989436992, 0.20084036417620182, 0.1950638452022994, 0.18898296414690954, 0.1829143200629824, 0.17708559114332068, 0.17162563043925, 0.16656995784588585, 0.16187969016211393, 0.1574699153427638, 0.1532421584247549, 0.14911512538106572, 0.1450484162618783, 0.1410552753907987, 0.13720245165120123, 0.13359752889558602, 0.13036626451824332, 0.12762417719459135, 0.1254475743136079, 0.12384926149970575, 0.12276334288123059, 0.12204196398180797, 0.12146485049792119, 0.12076040382825612, 0.11963528075837525, 0.11780810625340356, 0.11504243472046984, 0.11117434083444461, 0.10613100132695472, 0.09993812169526783, 0.0927157890450352, 0.08466399575360899, 0.07604041406931265, 0.06713382421036465, 0.0582368289469887, 0.049621156813098026, 0.0415180869212141, 0.03410550231373445, 0.027501995002426314, 0.021767482311555772, 0.016909078758002724, 0.012890563780958398, 0.009643692423112717], [0.003830962419611763, 0.00515769106758493, 0.00681680476268166, 0.008846024546490156, 0.011272976263145655, 0.014110945241784679, 0.017355329542225503, 0.020981491597050202, 0.024944665605470918, 0.029182399838204285, 0.03361969728723684, 0.03817659267259056, 0.04277742748954273, 0.04736064130413214, 0.05188758214206027, 0.05634873920728543, 0.06076597627196302, 0.06518980609534135, 0.06969145046969026, 0.07435027690552569, 0.07923805051107943, 0.08440213157718324, 0.0898501447749397, 0.09553865012080193, 0.10136793336356624, 0.10718425635799694, 0.1127898883274676, 0.11796014517972589, 0.12246567730391451, 0.12609752353511974, 0.12869209231394663, 0.13015326996805093, 0.1304692467999431, 0.12972229365031984, 0.12809048564196696, 0.12584113093038748, 0.1233163280677577, 0.12091160265484452, 0.11904896867187735, 0.11814606374214788, 0.11858327222508398, 0.12067100967962026, 0.12461959227551359, 0.13051430341241244, 0.13829830646070013, 0.14776583107010144, 0.15856749255331085, 0.1702286530336298, 0.1821804406239984, 0.19380153722551144, 0.20446733079757357, 0.21360175298410533, 0.2207263354540776, 0.22550091370118627, 0.22775108323559096, 0.2274789409713046, 0.22485566177760286, 0.22019679041161105, 0.21392342481081028, 0.20651436710253548, 0.19845551240319326, 0.19019302704629637, 0.1820961764109195, 0.1744340958890384, 0.16736859987699146, 0.1609626424636755, 0.1552016776039583, 0.15002329554612823, 0.14534943323352015, 0.14111533382184427, 0.13729026875264158, 0.13388667932183307, 0.1309565550701721, 0.12857617263905446, 0.1268223810658936, 0.12574509520727772, 0.12534131010063, 0.12553568103684726, 0.12617158951070281, 0.12701484049658474, 0.12777002417372643, 0.12810748825527613, 0.12769715520835703, 0.12624435796360703, 0.12352261413510647, 0.11939882407023504, 0.11384763258665154, 0.10695339581196972, 0.09890003722101996, 0.08995075011894241, 0.08042074891709435, 0.07064692555711793, 0.060958284570901786, 0.051650479062178005, 0.0429668082292081, 0.03508687234434671, 0.02812292571446733, 0.02212299981997105, 0.017079203893543216, 0.012939293107589893], [0.002787895537998157, 0.0037998233710663876, 0.005083839737822413, 0.006677520338609615, 0.008611957679132726, 0.01090785236315445, 0.013571840814389259, 0.016593654687636752, 0.019944739014283917, 0.02357887938150147, 0.027435187085397154, 0.031443471991044664, 0.035531630090256866, 0.039634247430423784, 0.04370125413177351, 0.04770523653038012, 0.05164600386877152, 0.05555124864443634, 0.05947263120401002, 0.06347730235997134, 0.06763564930239514, 0.07200677658257623, 0.0766237772505686, 0.08148109468827987, 0.08652615772840687, 0.0916569901831281, 0.09672671911495748, 0.10155495853288972, 0.10594508282215619, 0.10970558318850389, 0.11267314528454747, 0.11473486634646608, 0.11584714946251015, 0.11604921470644669, 0.11546975447234517, 0.114325922677631, 0.1129144886683071, 0.11159554694762638, 0.11076963822132678, 0.11084952897044975, 0.11222825831806424, 0.1152454282786007, 0.12015409155129315, 0.12709093890692846, 0.13605271918467857, 0.14688182322240004, 0.15926361431178931, 0.1727373157232919, 0.18672106580123013, 0.20055021061287187, 0.213526203521644, 0.22497187158085113, 0.23428757056551253, 0.24100213918889002, 0.24481275446574358, 0.24560883726502214, 0.24347696805783614, 0.23868611671617446, 0.23165502990353976, 0.2229059671200382, 0.21301075966932254, 0.20253609525157626, 0.1919948481766091, 0.18180918820436456, 0.17228928051341824, 0.163628942059333, 0.15591703722335465, 0.14916108917899062, 0.14331791498792604, 0.13832531597157094, 0.1341290752673101, 0.13070067201551547, 0.1280430040885892, 0.126183690821577, 0.12515781599945144, 0.12498388638559746, 0.12563800744832032, 0.12703162031661183, 0.12899755780276959, 0.1312877747021882, 0.13358413698524887, 0.1355214572963282, 0.1367199152868491, 0.13682244402395585, 0.1355318501483624, 0.1326424835343445, 0.12806214741536565, 0.12182146550818783, 0.11406981629817405, 0.10505887433399178, 0.095116445783778, 0.08461440372286669, 0.07393498263671273, 0.06343947392436922, 0.05344258397017451, 0.04419456667270781, 0.03587195430100673, 0.02857650571991241, 0.022341042138121606, 0.017140247908704085], [0.0020033413355932516, 0.002764409276030589, 0.003744213547033524, 0.004978224987497845, 0.006498325222155883, 0.008329420896949758, 0.01048596545164863, 0.012968860059266356, 0.015763283512953297, 0.018837999622953287, 0.022146586154157887, 0.025630813271480805, 0.029226085837593594, 0.032868491579493016, 0.03650262706622686, 0.04008907984905464, 0.04361030152959118, 0.047073669140087204, 0.05051082435262718, 0.05397288162654617, 0.05752174202054408, 0.06121843632597192, 0.065110026951739, 0.06921700416108328, 0.07352322937964016, 0.07797026632234404, 0.0824574196887298, 0.08684804930137842, 0.09098186621268724, 0.0946920865976358, 0.09782564940639166, 0.10026428920121294, 0.10194413807256238, 0.10287169514185267, 0.10313438723044406, 0.10290446187481647, 0.10243551525335531, 0.1020514963144242, 0.10212851443891069, 0.10307021881399633, 0.10527794596748745, 0.10911728325696562, 0.11488318407562463, 0.12276626659199465, 0.13282335370949572, 0.1449555484558354, 0.15889705124972933, 0.17421739909278328, 0.19033878688731823, 0.2065686536034352, 0.22214592111427808, 0.2362973961906531, 0.24829918258991207, 0.25753680539958806, 0.26355737671336604, 0.266107674783068, 0.2651534650971989, 0.26087759923875686, 0.2536570836651444, 0.2440220210144268, 0.2326016710508006, 0.22006448515073462, 0.20705957994307253, 0.19416663529301922, 0.1818597097502518, 0.17048820693910757, 0.1602755647357702, 0.15133360052062933, 0.14368824412096798, 0.1373109605349284, 0.1321497110973063, 0.1281538668646133, 0.12528894918262684, 0.12353916526518419, 0.12289807000479905, 0.123349920930337, 0.12484603066256483, 0.12728137715225132, 0.13047675585528073, 0.13417085584685545, 0.1380249748186997, 0.14164094493619214, 0.14459059052586243, 0.1464530631174717, 0.1468550321054525, 0.14550817352887585, 0.14223877026301157, 0.13700542955224115, 0.12990271239370083, 0.12115053208489278, 0.11107116164511494, 0.10005727153475623, 0.08853537173582843, 0.07692925535772126, 0.06562757005674745, 0.05495863063714074, 0.04517425858980583, 0.03644304342843624, 0.028852192264402266, 0.02241623061686517], [0.00142144873752258, 0.0019858967176549012, 0.002723123350630925, 0.0036652253053781874, 0.00484289273105251, 0.006282629800706084, 0.008003673991921152, 0.010014961360950744, 0.012312586000953358, 0.014878250771584662, 0.017679176683384694, 0.020669812683827515, 0.023795464806822993, 0.026997663423928522, 0.030220751194828106, 0.03341886132543796, 0.036562233000330395, 0.03964174001828396, 0.042670631155509245, 0.04568280516751281, 0.04872743828790904, 0.051860377536869555, 0.05513331047436883, 0.05858221174108272, 0.06221685037237681, 0.06601315323976971, 0.06990994057809058, 0.07381101437824689, 0.07759287211621088, 0.08111755075812675, 0.08424940101484779, 0.08687405422603535, 0.08891754160426832, 0.09036347748342952, 0.09126639776850734, 0.09175969140136404, 0.09205700267901523, 0.09244645120910101, 0.09327747621217963, 0.09494055844734649, 0.09784052985313689, 0.10236468242886126, 0.1088474552713307, 0.11753409727135931, 0.12854630748793328, 0.14185333026494606, 0.15725218001787214, 0.17436044423488983, 0.19262435754915233, 0.21134353126966104, 0.22971194646033147, 0.2468727729679459, 0.26198255241658835, 0.27427861724157826, 0.2831426313837666, 0.28815306984783207, 0.2891204042915081, 0.2861006605318397, 0.2793856222941862, 0.2694708995772921, 0.2570059126359132, 0.24273212184387422, 0.2274172010671835, 0.21179309599316595, 0.19650500089849093, 0.1820763862218455, 0.16889263118590528, 0.15720297865226227, 0.14713788229907124, 0.13873676514487873, 0.13198005267176482, 0.1268192314276483, 0.12319959316326455, 0.12107207190325082, 0.12039285506073708, 0.12111186143568364, 0.12315332624060625, 0.1263932632624942, 0.1306392390684906, 0.1356175902863157, 0.1409720000486801, 0.14627543358486195, 0.1510551438555789, 0.1548281878286129, 0.15714303079681535, 0.1576216768475609, 0.15599653689483584, 0.15213695832388818, 0.14606185342552044, 0.13793690106613113, 0.12805699819884667, 0.11681663254824207, 0.10467231995890683, 0.09210199730453414, 0.0795662252556271, 0.0674753174400724, 0.05616526924658631, 0.045883870173308326, 0.03678691530281238, 0.028943208443001474], [0.0009958528085850882, 0.001408683427481359, 0.001955668999904134, 0.0026648477707654616, 0.0035643872345130783, 0.00468041616738358, 0.006034445802648514, 0.00764061479307784, 0.009503098289610556, 0.011614098231172768, 0.013952854416063264, 0.016486062667868406, 0.019169946256081163, 0.021954004456871335, 0.024786181694467488, 0.02761890455362762, 0.03041517771155342, 0.03315377251125952, 0.03583253332736885, 0.03846899498215934, 0.04109784547620074, 0.043765242787682616, 0.046520531107338454, 0.04940640870429397, 0.05244898142089295, 0.05564931349669681, 0.05897801545092554, 0.06237408598603009, 0.06574869624410301, 0.06899395272406984, 0.07199600286176717, 0.07465125704696629, 0.07688407363142259, 0.07866403395310982, 0.08002092577041306, 0.0810557230870362, 0.08194614425841182, 0.08294573280174354, 0.08437579721900917, 0.086609955851999, 0.0900514768254843, 0.09510411441915072, 0.10213775026587037, 0.11145085062537655, 0.12323250147468004, 0.13752747717956254, 0.15420828510583198, 0.17295823666745977, 0.19326917415714576, 0.21445644664578217, 0.23569209531941568, 0.2560551211149403, 0.2745954263928777, 0.29040589320901755, 0.3026954553042924, 0.31085526550638726, 0.3145103656247148, 0.31355067513460994, 0.3081374814574781, 0.2986846176598585, 0.2858167084958629, 0.2703097613821804, 0.2530215235551503, 0.23482008898238652, 0.21651906516432112, 0.19882624988030695, 0.18231046080720784, 0.16738829194678573, 0.15432960267163612, 0.1432779402045991, 0.13428024215768114, 0.12731931707031333, 0.12234284494704861, 0.11928388946532767, 0.11806992709918744, 0.1186198216733197, 0.1208305963781833, 0.12455787833925837, 0.12959518325758332, 0.13565756083621042, 0.14237448175467327, 0.14929532430848189, 0.15590867214474813, 0.1616742296380883, 0.16606391078429397, 0.1686069491132969, 0.1689330047293151, 0.16680735757389195, 0.16215334600774725, 0.15505904031935852, 0.14576740479141917, 0.13465150613895932, 0.12217828700399708, 0.10886573904529685, 0.09523881326860457, 0.08178908395289372, 0.06894217019277854, 0.05703545466503146, 0.04630701066716014, 0.036895132810667114], [0.0006888717137459594, 0.0009866468547222386, 0.0013868541943269112, 0.0019132506164537641, 0.002590709270710477, 0.003443614975726322, 0.004493814467330969, 0.005758262402543481, 0.007246602167470258, 0.008959007553180513, 0.010884665450688025, 0.013001279126882875, 0.015275899934331434, 0.017667246876511056, 0.020129457956368762, 0.02261696142400395, 0.02508990079949358, 0.0275193458289651, 0.02989142275378275, 0.03220953995187046, 0.034494085152357225, 0.03677931442499121, 0.039107596477769256, 0.04152164859522115, 0.04405581955175534, 0.046727759485483404, 0.049531905980465, 0.052436081535131206, 0.055382152258710945, 0.05829119141584878, 0.06107300280598889, 0.0636392780047465, 0.06591917114902676, 0.0678757346590643, 0.06952149527526087, 0.07093145447397395, 0.07225193799635485, 0.07370395329160899, 0.07558000590754925, 0.07823366198672504, 0.08206153584958294, 0.08747786097607971, 0.09488240467302467, 0.10462322655212421, 0.11695663088917421, 0.13200753727547615, 0.14973424891369935, 0.1699020499197322, 0.19207002446614013, 0.21559481653157694, 0.23965368417123037, 0.26328721639731906, 0.2854596808830851, 0.30513248292086076, 0.3213440376653729, 0.333287886387731, 0.3403804418398057, 0.3423104963023785, 0.3390645408743698, 0.3309247936220451, 0.318440212096314, 0.3023741620305236, 0.2836353030383229, 0.26320018674100415, 0.2420367534692522, 0.2210372774330928, 0.20096748057147018, 0.18243583364502783, 0.16588393874132923, 0.15159583830574475, 0.13972158650762725, 0.13030880788116478, 0.12333545793792103, 0.11873761313359106, 0.11642770067800726, 0.11630083538308697, 0.1182294697496818, 0.12204896040187999, 0.12753851578731001, 0.13440301445109132, 0.14226120484227786, 0.15064481500860963, 0.15901127845093357, 0.16677042810218642, 0.17332302526924726, 0.17810680327342984, 0.1806441980760495, 0.1805853755585656, 0.17774064609911952, 0.17209779444887918, 0.16382198987334212, 0.15323840173618147, 0.1408000069535973, 0.12704495156270512, 0.1125489400594903, 0.09787834830570262, 0.08354913032989568, 0.06999530203876478, 0.05754911601280556, 0.046433302503309314], [0.000470493606920152, 0.0006823270149585827, 0.0009710956632645463, 0.001356388480158346, 0.0018594610286086074, 0.0025021150927854105, 0.003305150743308878, 0.004286459620433706, 0.005458911636691037, 0.006828272011501809, 0.008391454390461232, 0.010135449249789862, 0.012037246818828194, 0.014064988639730932, 0.016180430846541412, 0.018342598704251475, 0.02051228409203983, 0.022656825489692053, 0.02475445907676474, 0.02679748151522964, 0.02879354791287193, 0.0307646482404209, 0.03274364113771402, 0.03476862862054966, 0.03687586255243426, 0.03909221045729334, 0.04142840818250852, 0.04387434521193004, 0.046397451533291216, 0.04894490415701131, 0.05144989858977111, 0.0538417073275464, 0.056058749606799956, 0.058063488689219775, 0.05985769584430473, 0.0614964863365529, 0.06309952915078167, 0.06485793119797184, 0.06703547070444359, 0.06996309004464739, 0.07402586487031163, 0.07964207520046294, 0.08723455618881341, 0.09719523164073192, 0.10984462668909337, 0.12538915602365616, 0.14387996432889558, 0.1651778731869654, 0.188929352127176, 0.21455818483294561, 0.24127651638594638, 0.26811723048568487, 0.2939872482858537, 0.3177386404773053, 0.3382517933002765, 0.3545227105510394, 0.36574527967333553, 0.37137927669569065, 0.3711961426773101, 0.365297022525821, 0.3541008899988444, 0.33830430072418405, 0.31881784898058435, 0.2966872067734569, 0.27300826839486814, 0.2488461774934679, 0.22516687513081707, 0.2027874995734453, 0.18234889368363655, 0.1643101399487293, 0.14896196916667176, 0.13645353134746407, 0.1268256958022375, 0.12004390421566015, 0.1160245900088311, 0.11465108245583867, 0.11577738675504103, 0.11922084887264173, 0.12474704344474208, 0.13205188514176577, 0.1407466895425768, 0.15035158099581433, 0.1603013160883458, 0.16996548272056955, 0.17868250166556493, 0.18580433380617578, 0.190746721740978, 0.19303853678406946, 0.19236358880006357, 0.18858912924869298, 0.18177708506034268, 0.17217648416127893, 0.16019815010853233, 0.1463751094656349, 0.13131389141628133, 0.11564275842944892, 0.09996281567519306, 0.08480700488036155, 0.07061043389278301, 0.05769364431631064], [0.00031727463526713315, 0.0004659059890861844, 0.0006713967285206044, 0.00094950349906815, 0.0013178743843885697, 0.0017953204058999894, 0.002400708596373137, 0.0031514942080156485, 0.004061975449158501, 0.005141428744386948, 0.006392353614291205, 0.007809107950022153, 0.009377229712139718, 0.01107370556677273, 0.01286835324571469, 0.014726335722777982, 0.016611637711209975, 0.01849113694714073, 0.02033873143566399, 0.022138878745929808, 0.023888897866331728, 0.02559949678854161, 0.02729321752633584, 0.0290008086975296, 0.030755896954418063, 0.03258867168708616, 0.03451955951744941, 0.03655399358043298, 0.038679346529209305, 0.04086489320641545, 0.04306532583112886, 0.045227911594335424, 0.04730292228898774, 0.04925653935529809, 0.05108509314195578, 0.052829258287380144, 0.054586701176805266, 0.05652164707217239, 0.05886988536567819, 0.06193785148638739, 0.0660946221818146, 0.07175596808460787, 0.07936006950227002, 0.08933516189760753, 0.10206025416814286, 0.11782112283649986, 0.13676492871600573, 0.15885786061488116, 0.18385096323947445, 0.21125952042994078, 0.24036084581464823, 0.27021398105634736, 0.299702657358919, 0.3276001410445902, 0.3526516113745266, 0.3736669636701367, 0.38961487378795906, 0.39970801412456386, 0.40346973348426285, 0.4007743403483264, 0.39185615550460473, 0.37728630223407095, 0.357920209325337, 0.3348223965275206, 0.30917774061381714, 0.2821996928915946, 0.2550456746152185, 0.2287482049746377, 0.20416753304623936, 0.18196812912425128, 0.16261789637482202, 0.14640592619098286, 0.13347247294023443, 0.12384383597685093, 0.11746508551671711, 0.11422493850242289, 0.11396930114841815, 0.11650265171732149, 0.1215790922567984, 0.12888711648824797, 0.13803356373339404, 0.1485326253991861, 0.1598050755059497, 0.17119122248864826, 0.18197870339416802, 0.19144356546254754, 0.1989005660834367, 0.20375671388639377, 0.20556111607902156, 0.2040443702267664, 0.19914202103051426, 0.1909987729782933, 0.17995282862480935, 0.16650244634342506, 0.15125912416948975, 0.13489335548897502, 0.11807946451743777, 0.10144559922121402, 0.08553369700803701, 0.07077243373629846], [0.00021124102968272484, 0.00031410333735190535, 0.00045832574127342604, 0.0006562945545109794, 0.0009222868675356867, 0.0012720417899087287, 0.0017220174717373922, 0.002288318647993057, 0.0029853277149158985, 0.003824132999294747, 0.004810913029870561, 0.005945493386810939, 0.007220328658016397, 0.008620161797107439, 0.010122565911737144, 0.011699475547777886, 0.013319672300955581, 0.01495202078369621, 0.016569083284046306, 0.018150608515006685, 0.019686324944626594, 0.021177497772459156, 0.022636841356212, 0.02408660707865878, 0.02555496134419643, 0.02707108411845165, 0.028659700897115496, 0.030335957550838337, 0.03210161784081698, 0.033943488121845236, 0.035834758458530104, 0.03773962327662313, 0.03962115375837369, 0.041451990806767994, 0.043227058835591664, 0.0449772000022739, 0.04678241057296013, 0.048783224593448894, 0.05118872570735382, 0.054279670308232095, 0.05840528363068203, 0.0639724753861563, 0.07142656230584173, 0.08122313654930641, 0.09379152073274703, 0.10949130011972108, 0.12856465372654735, 0.1510884762098524, 0.17693137957623697, 0.20572133487710545, 0.23682971230005376, 0.2693766218944049, 0.302260687934871, 0.33421381310107184, 0.36387838503478603, 0.38990117682177067, 0.4110354082368637, 0.4262405724070369, 0.43476909033019023, 0.43622983357406525, 0.43062100156980965, 0.4183284438899143, 0.40008975678960335, 0.376928711467505, 0.35006813648070945, 0.3208317368196828, 0.2905461515209007, 0.2604537546533041, 0.23164447960516749, 0.2050117028129462, 0.1812335097654343, 0.16077707439160666, 0.14392094789800786, 0.13078817371395024, 0.121382532843264, 0.11562088432173176, 0.11335631208621058, 0.11438928269606652, 0.11846682192998231, 0.1252723656993577, 0.13441100194207417, 0.14539596299674223, 0.15764226686475827, 0.1704723319473008, 0.18313637713458766, 0.1948478021273035, 0.2048309673087471, 0.21237634287788718, 0.21689631221492217, 0.21797430654789862, 0.21540054042294962, 0.20918931801871343, 0.1995753960256961, 0.18698978191918397, 0.17201812039668493, 0.1553470172450554, 0.13770493583656052, 0.1198045264160345, 0.10229246120430685, 0.08571127160969699], [0.0001388603781454454, 0.0002090788057016867, 0.00030891589756911825, 0.0004479009684847565, 0.0006373116079509163, 0.0008899611573556193, 0.001219739376648593, 0.001640872928377755, 0.0021669049657984836, 0.0028094389486387596, 0.003576746491515761, 0.004472394534745214, 0.0054940922271973745, 0.0066329798839052205, 0.007873569481207965, 0.009194490755462598, 0.010570098609522224, 0.011972864993049765, 0.013376330115571442, 0.014758249891816793, 0.01610347852953215, 0.017406094367399684, 0.018670331813560224, 0.019910026550406957, 0.021146501757065287, 0.02240508988679886, 0.02371075508587191, 0.025083508434102, 0.0265344490310219, 0.028063288903349054, 0.029658118379636444, 0.031297951687380754, 0.0329582889496655, 0.03461958042326457, 0.03627812336400786, 0.03795859571108644, 0.039727155121444785, 0.04170381416695861, 0.04407264119584612, 0.04708823033514531, 0.05107684349702956, 0.056430681644216024, 0.06359394254510904, 0.07303973127904155, 0.08523756612853577, 0.10061219404638291, 0.11949566738780522, 0.14207603092308904, 0.16834733737827293, 0.19806679732431481, 0.23072539467031908, 0.26553801180355485, 0.3014578525242481, 0.33721772206277356, 0.37139770313634934, 0.40251532044553756, 0.42913091843232587, 0.4499582522107026, 0.46396872647558446, 0.47047767545725266, 0.46920268378491986, 0.4602870485262037, 0.4442856549311033, 0.4221151619064048, 0.3949747579947572, 0.3642471837094199, 0.3313917100547709, 0.29784105191492877, 0.2649128008302533, 0.23374317710906287, 0.20524722586261474, 0.18010562642534725, 0.15877466498361759, 0.14151315713022614, 0.12841855345745415, 0.11946426172509102, 0.11453130452380239, 0.11342954482205979, 0.1159064576486165, 0.12164433312737233, 0.13024938613938958, 0.1412381034798074, 0.15402698224579556, 0.16793146867949807, 0.18217844740033814, 0.1959342944408976, 0.2083476848734682, 0.21860352249015744, 0.22598203421741245, 0.2299156697929335, 0.23003623594959313, 0.22620573141131248, 0.2185264657066255, 0.20732887611070078, 0.19313851209637956, 0.17662641550979402, 0.15854913956572814, 0.13968562882990443, 0.12077803720445172, 0.1024824091707213], [9.012226188757051e-05, 0.0001374061629876839, 0.00020557557832365906, 0.00030181360783049016, 0.0004348324895773317, 0.0006148070892175548, 0.0008531244219815421, 0.0011619085330626805, 0.0015533000303826802, 0.00203850169107801, 0.0026266441355232498, 0.003323573782833712, 0.004130711252511445, 0.0050441617947197155, 0.006054269271658073, 0.007145782456257859, 0.008298742204305532, 0.009490102516198041, 0.010695978014993116, 0.011894283254574062, 0.013067419487567674, 0.014204597464902118, 0.015303381996397492, 0.016370117555503185, 0.017419042923470334, 0.018470110463936325, 0.019545762368034705, 0.02066714368867527, 0.02185041015116971, 0.023103883791041644, 0.024426800652739927, 0.02581027829011213, 0.02724091989604182, 0.028707192948648045, 0.030208405967045417, 0.03176578842762818, 0.033434879237702664, 0.03531816081131429, 0.037576642613636746, 0.04043890228107232, 0.04420594445319631, 0.04925016498573902, 0.05600676097102681, 0.0649561731561479, 0.07659665991657902, 0.09140693584501822, 0.10979997215248836, 0.13207048733535687, 0.15834020443330749, 0.1885063810158506, 0.22220013763524263, 0.25876141982334255, 0.29723678527898884, 0.3364044949011985, 0.3748286669361962, 0.41094079476019507, 0.44314318373919376, 0.4699254078700242, 0.48998232430902544, 0.5023210239687996, 0.506344648981251, 0.5019033053017236, 0.48930607099569123, 0.4692928111344972, 0.44296944632325347, 0.41171472338871107, 0.37706973334879407, 0.3406229522748969, 0.3039032694626873, 0.2682914445846899, 0.234957100073367, 0.20482429158462265, 0.17856456935521534, 0.156612871734439, 0.13919907202963008, 0.12638682666779105, 0.11811161710175977, 0.11421139367026963, 0.11444569141987422, 0.11850204904380826, 0.12599152305171266, 0.13643756851989192, 0.1492641581444015, 0.16378947588310336, 0.17923077263543108, 0.19472412739087894, 0.20936022071828875, 0.22223424383600623, 0.23250525484893866, 0.23945815858747038, 0.24256042566446107, 0.24150589310905757, 0.2362394860378972, 0.22695921822566628, 0.21409493408263328, 0.19826640926994177, 0.1802261004647876, 0.16079360282068753, 0.14078949764487983, 0.12097573401784928], [5.774795188387338e-05, 8.915740544905367e-05, 0.000135071350047132, 0.00020079971396332906, 0.0002929331963894486, 0.00041936740573171745, 0.000589196989304534, 0.0008124390122529163, 0.0010995552837004144, 0.0014607639439624738, 0.001905161437759059, 0.002439714691805134, 0.0030682248617636774, 0.003790400851898861, 0.004601203765995224, 0.005490623396220018, 0.006444017929021849, 0.007443085948206159, 0.008467449663280491, 0.009496721361925272, 0.010512818986645779, 0.011502212856595176, 0.012457745075644459, 0.013379682355528728, 0.014275748831765557, 0.015160032787364467, 0.016050852175651782, 0.016967870201629702, 0.017928940126683886, 0.018947294789429855, 0.02002975516148458, 0.02117659980305435, 0.022383613882525997, 0.023646636069439467, 0.0249686664048326, 0.026369313033730513, 0.0278960617543655, 0.029636563648846065, 0.03173085931013499, 0.034382197433976365, 0.03786487045353407, 0.04252730506854588, 0.04878855743225491, 0.05712644028071788, 0.06805583487836388, 0.08209639133004266, 0.09972984112564835, 0.12134851830440231, 0.14719830702243042, 0.1773209050313873, 0.21150173358214197, 0.2492307090115106, 0.28968311000353203, 0.33172670601249943, 0.3739590934137774, 0.4147759596923485, 0.45246712248065657, 0.4853332105331144, 0.5118124079218153, 0.5306043954282245, 0.5407779782632681, 0.5418501225279598, 0.5338271569357894, 0.5172033368938498, 0.492917163958064, 0.46227101089998307, 0.42682392805199415, 0.3882703516150924, 0.3483184084358524, 0.3085805423756955, 0.27048652038958687, 0.23522501576647115, 0.20371557279276772, 0.1766085294175559, 0.1543070319776558, 0.1370030693752294, 0.12471871114358772, 0.11734444558735235, 0.11466845653413371, 0.11639345970155537, 0.12214085079228806, 0.13144487724405482, 0.1437418575202789, 0.1583607675842501, 0.17452158567803594, 0.19134661917091647, 0.20788781836078618, 0.22317017950444723, 0.23624824884451626, 0.2462700056486328, 0.2525405239516498, 0.2545771489651036, 0.252148622085257, 0.2452925489160836, 0.23430849674896098, 0.21972733127974348, 0.2022605858462271, 0.18273617071230297, 0.1620281888056674, 0.14098885298405392], [3.653334322559731e-05, 5.711635876046623e-05, 8.762164554478797e-05, 0.00013190147931419797, 0.00019484309681942817, 0.00028244245173082445, 0.0004017913365400174, 0.0005609413256661351, 0.0007686118466353383, 0.001033721397351339, 0.001364741511040268, 0.0017689019353794467, 0.002251309908134352, 0.0028140813228469982, 0.003455609960686479, 0.004170114829591808, 0.0049475976474863724, 0.005774307877360116, 0.006633751207961766, 0.00750819452022519, 0.008380527758733948, 0.009236257143913369, 0.0100653434273568, 0.010863580554238033, 0.011633245825139341, 0.012382845258283046, 0.013125919447978656, 0.013879047534320845, 0.01465936398885672, 0.01548205569962277, 0.016358408564270885, 0.017295004120072278, 0.018294619032343883, 0.019359256350435054, 0.020495549463438453, 0.02172254477113708, 0.023081604191000984, 0.024647886438173207, 0.026542573661357878, 0.028944711688367226, 0.03210123562219962, 0.036333478069145955, 0.04203824582107809, 0.04968146792745378, 0.05978254994698454, 0.07288800832067227, 0.08953378012654979, 0.11019683379584412, 0.1352382947052565, 0.16484209684358966, 0.19895492919840577, 0.23723463806176076, 0.2790149225892852, 0.32329381309504956, 0.36875186433707247, 0.41380323436014393, 0.45667908747045394, 0.4955385155961181, 0.5285980412413828, 0.5542674392201775, 0.5712777221359049, 0.5787871118423568, 0.5764528068836814, 0.5644601526911469, 0.5435059029695715, 0.514737866666874, 0.47965850390044845, 0.4400041609685161, 0.3976140146183458, 0.35430312819563303, 0.311752351547509, 0.2714244876594906, 0.23451180629536347, 0.20191533427051345, 0.17425211259330348, 0.15188338070400648, 0.13495482241316017, 0.12343973792979032, 0.11717719913781595, 0.11589960000327786, 0.11924707983250267, 0.12676954511232136, 0.13791991420086655, 0.15204429569756786, 0.16837575504046198, 0.18603797306627276, 0.2040635088361902, 0.22142880572774715, 0.23710495594275857, 0.2501201043181538, 0.2596267878771495, 0.26496595311926613, 0.2657191762803282, 0.2617418033177186, 0.2531721397163626, 0.24041504368680755, 0.22410175228009857, 0.20503090495468865, 0.1840980106853559, 0.16222169799968436], [2.281857592997389e-05, 3.612541696768675e-05, 5.611935276447125e-05, 8.554492143404315e-05, 0.0001279574995010704, 0.00018781818989062901, 0.0002705349546821599, 0.00038241966420294584, 0.0005305304546580083, 0.0007223741365111955, 0.0009654558248690973, 0.001266682936398238, 0.0016316571448843976, 0.002063917829463554, 0.002564229077069824, 0.003130023058858693, 0.0037551188223359415, 0.0044298215393713996, 0.0051414701084480895, 0.005875442075333156, 0.006616550568509589, 0.007350689720717145, 0.00806651773070008, 0.008756926096180782, 0.009420043046669175, 0.010059566590471412, 0.010684317466982694, 0.011307035112571138, 0.011942592742168719, 0.012605957662838781, 0.0133103455673018, 0.01406609166115429, 0.014880772904847628, 0.01576105918972592, 0.01671665026452031, 0.017766479000629255, 0.018947141471617742, 0.0203232598461554, 0.021999200885854695, 0.024131263739866144, 0.026939120616175552, 0.030714957578351507, 0.03582845367930352, 0.042725513582901095, 0.05191861592256891, 0.06396685762215233, 0.07944436092070442, 0.09889673086946771, 0.12278670823125834, 0.15143196467491662, 0.1849399347186055, 0.2231463725705062, 0.2655655973400116, 0.31136077922290595, 0.3593418304952992, 0.407996364333935, 0.45555585856929987, 0.5000949448092888, 0.5396571933202857, 0.5723965833897918, 0.5967207652550397, 0.6114208447161824, 0.6157731198969909, 0.6096009983736442, 0.593289884872349, 0.567753499992284, 0.5343560086718215, 0.4947995932948264, 0.45099090618766097, 0.40490164227749276, 0.35843809185205056, 0.3133321361960937, 0.271062220159529, 0.23280807173496998, 0.19943811569148331, 0.17152436949794123, 0.1493766756827221, 0.13308674219406474, 0.12257269809894238, 0.1176165482810611, 0.11788965251468876, 0.12296465648231596, 0.13231560702396813, 0.14531075727051534, 0.16120437043129782, 0.17913437931440213, 0.1981319640301331, 0.2171470996757512, 0.23509123013641148, 0.2508949346481365, 0.26357534667002924, 0.27230572376596246, 0.2764784006484102, 0.2757526287234811, 0.27008049965274095, 0.2597069910610002, 0.2451436714483575, 0.22711915414138045, 0.20651239570765995, 0.18427691246822236], [1.4071235749073229e-05, 2.2558607984664573e-05, 3.548658218957377e-05, 5.4776360658828024e-05, 8.296713924836671e-05, 0.00012331381976019576, 0.00017985450677033884, 0.00025742414959255283, 0.00036158816002042067, 0.0004984710269845291, 0.0006744613716740577, 0.0008957875424038758, 0.0011679767438469932, 0.0014952344093140336, 0.001879805977379379, 0.00232140580167439, 0.0028168120027725063, 0.003359726101704921, 0.003940978081300961, 0.004549119731209475, 0.00517139429466121, 0.005795005474686421, 0.0064085445732237345, 0.007003384055495401, 0.007574822196270124, 0.008122776795311553, 0.008651880819704244, 0.009170926528533734, 0.009691726843947205, 0.01022759685033033, 0.010791784204347007, 0.011396274863553326, 0.012051453429733324, 0.012767095224188186, 0.013555106577790799, 0.014434313143927843, 0.015437428849482585, 0.016620125782044994, 0.018071870785674526, 0.01992789822566398, 0.022381351515054913, 0.025694257231340143, 0.030205619743057188, 0.03633459014706211, 0.044576448074661386, 0.05548914000013542, 0.06966845471597596, 0.08771068263938725, 0.11016285046189724, 0.13746231531851014, 0.1698695053849305, 0.2073996543042606, 0.2497611465585362, 0.296309172814891, 0.3460234161417714, 0.3975171911405976, 0.4490827712243353, 0.49877374615546555, 0.5445205933780677, 0.5842708770548549, 0.6161413763585072, 0.6385667336692948, 0.6504284749521022, 0.6511497595648919, 0.6407448611781164, 0.6198176849683369, 0.5895098069302767, 0.5514046336099325, 0.5073993879806328, 0.45955997109450025, 0.4099748813573377, 0.3606232241031077, 0.31326871622367636, 0.26938708461055316, 0.23012914942323567, 0.19631698340590722, 0.16846655605923372, 0.14682771363305647, 0.13143146016402357, 0.12213526845442059, 0.11865929993184916, 0.12060950408235396, 0.12748705035420238, 0.1386868406289398, 0.15349043257085243, 0.17106016797324547, 0.19044141603218373, 0.2105785912420362, 0.23034819245638585, 0.248608935798181, 0.26426566468320967, 0.27634071710877317, 0.28404436752687445, 0.2868352397604065, 0.2844623758356456, 0.27698283642479965, 0.2647519353850125, 0.24838691655788803, 0.22870842750643836, 0.20666693964393876], [8.566809165929974e-06, 1.3907752839527654e-05, 2.2154584463607698e-05, 3.462928066344773e-05, 5.3113173828582684e-05, 7.993689713642186e-05, 0.00011805597708147269, 0.00017109464870745705, 0.00024333700769921688, 0.0003396433805847916, 0.0004652721430241136, 0.0006255943183168052, 0.0008257007515117736, 0.0010699191169646132, 0.0013612788260661734, 0.0017009830039213581, 0.0020879638632440188, 0.0025186062102534323, 0.00298671905333816, 0.003483814507208621, 0.0039997162666678705, 0.004523470244429093, 0.00504447454613344, 0.005553694740160617, 0.006044794680551428, 0.006515003443795253, 0.006965562527055624, 0.007401656399005287, 0.007831819556964457, 0.008266924050767888, 0.008718967979806478, 0.009199990658816564, 0.009721517751572659, 0.010294976918124267, 0.010933513579702245, 0.011655574318780917, 0.012490512535180388, 0.01348630841862395, 0.01471928275208487, 0.016305419008731732, 0.018412587926925673, 0.021272595578593703, 0.025191565265443, 0.03055675267246648, 0.03783754848554219, 0.0475782385212428, 0.060380184787253474, 0.07687157984646638, 0.09766390133810005, 0.12329567981992909, 0.15416612043938183, 0.1904632981249257, 0.23209377040133305, 0.2786221278565154, 0.3292298095271211, 0.3827020862335896, 0.4374502457405351, 0.49157271441956957, 0.5429544078274416, 0.5893985674867119, 0.6287804579735831, 0.6592083851978177, 0.6791752918146636, 0.6876841948135244, 0.6843331088076774, 0.6693495976587129, 0.6435710904783157, 0.6083736861302698, 0.5655583416924598, 0.5172081563298929, 0.465533225463988, 0.41271991288574955, 0.3607994363063479, 0.3115468212978196, 0.266416258202894, 0.22651353756199455, 0.19260136643886544, 0.16512965809033014, 0.14428077995980162, 0.13001939913078306, 0.12213786482896885, 0.12029066833893744, 0.12401491407742264, 0.1327373330328934, 0.14577158478007982, 0.1623119193669916, 0.18143034350757126, 0.2020840903060561, 0.22313848565112407, 0.24340751832824292, 0.26171102494846765, 0.27694398582555435, 0.28815060902043954, 0.294594186307728, 0.29581347804138985, 0.2916577046139344, 0.28229488733981584, 0.2681918383572426, 0.25006793206974304, 0.22882824355039397], [5.149296500980579e-06, 8.465358053477556e-06, 1.3655543425668977e-05, 2.1614370314791645e-05, 3.356996658958432e-05, 5.116112484109356e-05, 7.650996295063607e-05, 0.00011227802142491893, 0.00016169007595771904, 0.00022850754425336387, 0.0003169332138760085, 0.00043143222736379065, 0.00057646169346609, 0.0007561132225524571, 0.000973688468385112, 0.0012312456194035102, 0.0015291717969740317, 0.001865848706544912, 0.002237482633031118, 0.0026381616073233617, 0.0030601805861806717, 0.0034946406174480235, 0.003932284089713764, 0.004364482111932142, 0.004784250755980237, 0.005187149839983619, 0.00557191932174078, 0.005940739143803297, 0.00629905873945157, 0.006655027275944667, 0.007018655173002021, 0.0074009383085342955, 0.007813264356331584, 0.008267482857611816, 0.008777046812778811, 0.009359617242129036, 0.010041459605985905, 0.010863849617291138, 0.01189154236654088, 0.013223137350099216, 0.015002886440760156, 0.01743313841392893, 0.020786198486321385, 0.02541392925257785, 0.03175298237861928, 0.04032321220638521, 0.0517166957867605, 0.06657499713914411, 0.08555298589181852, 0.10926872777261384, 0.13824070190483295, 0.1728157504630703, 0.21309348569182915, 0.25885500754723717, 0.30950528974764113, 0.36403904113847174, 0.4210389052005129, 0.47871237362523694, 0.5349698711546573, 0.5875415183995418, 0.6341247554590457, 0.6725501359039282, 0.7009490260131863, 0.7179053756415262, 0.7225745803372385, 0.7147557496706608, 0.6949090309828544, 0.6641162412679872, 0.6239899297379967, 0.5765420755583733, 0.5240280058882716, 0.4687831877960841, 0.41307009394276967, 0.358949575401912, 0.3081866632288068, 0.26219526777501506, 0.22202073928878918, 0.18835451456176608, 0.16157172974177098, 0.1417810872012677, 0.12887648845926894, 0.12258177696682598, 0.12248294968266037, 0.1280458321550952, 0.13862085283637648, 0.1534396140539642, 0.1716099614363309, 0.1921168916441956, 0.21383581420420922, 0.2355625340337422, 0.2560612049926336, 0.27412795390997063, 0.28866451496722556, 0.29875366018530725, 0.3037269525923539, 0.3032156519710679, 0.2971774550353769, 0.2858948523019459, 0.26994470058897857, 0.25014248263026617], [3.055748846170927e-06, 5.087168391210886e-06, 8.309954740961137e-06, 1.3319514882099535e-05, 2.0948327737699823e-05, 3.2328581581909265e-05, 4.8956106715757836e-05, 7.274757102700121e-05, 0.00010607973000414762, 0.0001517967877607339, 0.0002131704456412569, 0.0002937979291530947, 0.0003974270798907165, 0.0005277050630984899, 0.0006878583738702096, 0.0008803257871634228, 0.001106380876740609, 0.001365794010328886, 0.0016565920276510996, 0.001974973869914269, 0.0023154298217331016, 0.0026710899701844534, 0.003034295513373038, 0.003397348776067459, 0.0037533606205065067, 0.004097085187447033, 0.004425619388211746, 0.004738854493088227, 0.005039602592256398, 0.0053333805721128245, 0.005627913135316261, 0.005932505217880403, 0.0062575216121458265, 0.006614285946968553, 0.0070157618577711255, 0.007478397789310882, 0.008025497060849445, 0.008692411209412271, 0.009533741186152439, 0.010632559755193999, 0.012111429713342394, 0.014144677485100158, 0.016970987982088147, 0.020904926917055627, 0.026345507715701495, 0.033779470036854255, 0.0437766275247536, 0.05697460208605423, 0.07405062692601187, 0.09567898497646693, 0.12247410768849627, 0.15492134825477935, 0.19329979434492095, 0.2376038971595449, 0.28747275577401815, 0.3421371458649006, 0.4003943906914517, 0.4606196435566678, 0.5208190153384481, 0.5787254571659571, 0.631932914266079, 0.6780587631904277, 0.7149198186738118, 0.7407041029674118, 0.7541197601205228, 0.7545042718743118, 0.7418813598229382, 0.7169590781108451, 0.6810697075323209, 0.6360590687465358, 0.5841387089200162, 0.5277182221391017, 0.46923623825398675, 0.4110072903002224, 0.3550982034829955, 0.30324253012898367, 0.2567957693968591, 0.21672857258216016, 0.18365063877199628, 0.15785511222421436, 0.13937226856709378, 0.12802208618037778, 0.12345764184436964, 0.12519464972209482, 0.1326262721694401, 0.14502593866255767, 0.16154374440352604, 0.18120362518479932, 0.20290867300135243, 0.2254606486969027, 0.2475971822073848, 0.2680467602110656, 0.28559797174798035, 0.29917626298121247, 0.3079192404837992, 0.3112407927213494, 0.3088751538716628, 0.3008943989059153, 0.28769633928837357, 0.26996378341659655], [1.7903070519512414e-06, 3.0182014999024037e-06, 4.99265133352865e-06, 8.103621608384866e-06, 1.2906108978583891e-05, 2.0168985749837924e-05, 3.092793095917732e-05, 4.65374777446263e-05, 6.871461055742936e-05, 9.95637654233139e-05, 0.00014157108141815274, 0.0001975550445642994, 0.00027056204162956337, 0.00036369947934938385, 0.00047990637453401724, 0.000621671469557388, 0.0007907210148426898, 0.0009877106140205965, 0.0012119654954398306, 0.0014613184748534446, 0.0017320921618443263, 0.002019260010247852, 0.0023167995767527545, 0.0026182228308565445, 0.0029172366783685013, 0.0032084578695974384, 0.0034880868504270587, 0.0037544411658492717, 0.00400826527934419, 0.004252771780294438, 0.004493427048123296, 0.004737567193078287, 0.004994009449013095, 0.005272900621013748, 0.005586108022371369, 0.005948500772527423, 0.006380482723040175, 0.006912115551244831, 0.007589103953062193, 0.008480794658085981, 0.00969015511690202, 0.011365433326261137, 0.013712848054837494, 0.01700922016794311, 0.021612952294043558, 0.027971246362845426, 0.03662100218904179, 0.04818058457091502, 0.06332972251216763, 0.08277535135173043, 0.10720232933110606, 0.1372096800384449, 0.1732352428911053, 0.2154741305863896, 0.26379883726982695, 0.3176907592723374, 0.37619380056751656, 0.43790022632131165, 0.5009767629062787, 0.5632351471680543, 0.6222462378766829, 0.6754910527829215, 0.7205365382678681, 0.7552194465517952, 0.7778192233495688, 0.7872008634524572, 0.7829114387318759, 0.7652191489234138, 0.7350905702858167, 0.6941092552460992, 0.6443458209415387, 0.5881950982235413, 0.5281990155358093, 0.46687429352036885, 0.40656181208771974, 0.3493101834936753, 0.2968004255374222, 0.250312623710548, 0.21073001971425132, 0.17857181522412247, 0.1540436132869146, 0.1370940014857361, 0.12746717449623238, 0.12474431171529478, 0.1283701088675384, 0.1376647690070824, 0.15182525347585796, 0.16992213171830223, 0.1908995634418829, 0.2135856208424451, 0.23671837487133396, 0.25899022800231786, 0.27910937818337583, 0.29587367474470144, 0.30824913320379727, 0.31544357750081703, 0.31696564024033014, 0.3126607612688025, 0.30271866644738693, 0.287650598855073], [1.0355636382776766e-06, 1.7679125535553527e-06, 2.9614579252198056e-06, 4.867582717274554e-06, 7.850311782733565e-06, 1.242309658669821e-05, 1.9290648620534554e-05, 2.9392988565411567e-05, 4.39468984338918e-05, 6.447778005284167e-05, 9.28328896287051e-05, 0.00013116554855936778, 0.00018187985202330165, 0.00024752724682791796, 0.00033065062023185474, 0.0004335783862919045, 0.0005581801061691794, 0.0007056054146845402, 0.0008760377750920464, 0.00106850168971204, 0.0012807641669807847, 0.0015093665755758746, 0.0017498105487031095, 0.001996901846898073, 0.002245231313949491, 0.0024897462394855973, 0.0027263437842281507, 0.002952406241942323, 0.003167200749729845, 0.0033720868185138034, 0.0035705143813991947, 0.0037678506804078755, 0.00397114126507746, 0.004188981706321058, 0.004431744370507469, 0.004712460661396842, 0.005048695741842903, 0.0054657621758411505, 0.006001592619349178, 0.006713519029606506, 0.007687073466594258, 0.00904671791513103, 0.01096811304139899, 0.013691140586086023, 0.01753240869324816, 0.02289542651827128, 0.030276100179208208, 0.040260779880304666, 0.053513913182883774, 0.07075258242152674, 0.09270596166869212, 0.12005910419245172, 0.15338245438532178, 0.1930509292973843, 0.2391590509967646, 0.29144101975661313, 0.3492063085570332, 0.41130184550503385, 0.47611075620521237, 0.5415948016759712, 0.6053832030681592, 0.6649049512003015, 0.7175557040066092, 0.7608849079222473, 0.7927847914547664, 0.8116611595222584, 0.8165669227333476, 0.8072830383443179, 0.7843375563847429, 0.7489608848422801, 0.7029830848495537, 0.6486858019696771, 0.5886263175642881, 0.5254534918947847, 0.4617348449892877, 0.39981092638308996, 0.34168810064942845, 0.28897482042691114, 0.24286035725492075, 0.2041297155030501, 0.1732047509903809, 0.15019973839680095, 0.13497984084846745, 0.12721289503504865, 0.12640816845603406, 0.13193965965878704, 0.14305543385222108, 0.158877789341104, 0.17840122651530768, 0.20049591425158078, 0.223923518954004, 0.24737002548411338, 0.26949691627067307, 0.2890083475965819, 0.30472843136438454, 0.315680044841868, 0.3211552669094006, 0.3207678599506657, 0.31448016759388037, 0.3026000636178039], [5.913776087669898e-07, 1.0223815503253093e-06, 1.7342858267364357e-06, 2.8866207032194796e-06, 4.714357303734067e-06, 7.554783231635313e-06, 1.187933500614388e-05, 1.8328960249573366e-05, 2.775015965032095e-05, 4.1227148332173296e-05, 6.010378048638397e-05, 8.598733730599302e-05, 0.00012072544691402615, 0.00016634781672637648, 0.00022496661426541086, 0.00029863356159773714, 0.00038915810959473136, 0.0004978989558088317, 0.0006255496401240044, 0.0007719464641029009, 0.0009359316841249982, 0.0011153049986123648, 0.0013068904305027385, 0.0015067333839841896, 0.0017104248325864198, 0.0019135286524498613, 0.002112067753552139, 0.002303009427280111, 0.0024846848463170954, 0.0026570857366931613, 0.0028220050694298124, 0.0029830281714190014, 0.0031454335652475428, 0.003316124683395194, 0.0035037784651124437, 0.003719458043039204, 0.003977987217073547, 0.0043004167421217855, 0.004717918113678494, 0.005277408894635249, 0.0060491309956373475, 0.007136252907564357, 0.008686330624262462, 0.010904125019244815, 0.014064831435470413, 0.0185262460043189, 0.02473781851760617, 0.03324400649815571, 0.04467897025007965, 0.059749583218105765, 0.07920413130142524, 0.10378506634277031, 0.13416582049153036, 0.1708739257498987, 0.2142053217732254, 0.26413743285540064, 0.32025089051888744, 0.38167115489215336, 0.44704127050469733, 0.514535256495997, 0.5819181082790312, 0.6466533299980113, 0.7060529075808624, 0.7574585210996704, 0.7984375691819929, 0.8269741824541823, 0.8416345514421404, 0.8416879109324669, 0.8271692514485453, 0.7988766368206206, 0.7583038870607938, 0.7075171339491695, 0.6489901926285668, 0.5854178731332107, 0.5195277381431592, 0.4539093341787087, 0.3908759847633027, 0.33236860266540474, 0.2799046280062723, 0.2345691308738245, 0.19704019455724536, 0.1676375226024797, 0.1463820703217728, 0.1330553418134451, 0.12724948555827767, 0.12840292658134317, 0.13582033779839756, 0.14867960477156789, 0.16603147253194017, 0.18679932036707145, 0.20978673333737252, 0.23369921026196505, 0.25718369781837713, 0.27888612275141716, 0.2975233224038035, 0.3119624250259974, 0.32129842947226933, 0.32491993225679244, 0.32255383851509517, 0.3142823534537424], [3.3341971814260426e-07, 5.837195894590121e-07, 1.0027109293237191e-06, 1.6900799740714956e-06, 2.795121931571545e-06, 4.5358509998094085e-06, 7.2224502939027346e-06, 1.1284498486040219e-05, 1.7300442976555235e-05, 2.602653204353831e-05, 3.842096920497211e-05, 5.565761417954254e-05, 7.912243920139875e-05, 0.00011038556033054633, 0.00015114243833037083, 0.00020312016008907228, 0.0002679487632600033, 0.0003470032336350869, 0.0004412285501427168, 0.000550966989745306, 0.0006758124701707669, 0.0008145194601142845, 0.0009649925180580583, 0.001124375945701927, 0.0012892513655527937, 0.0014559354126229677, 0.0016208525337669149, 0.0017809424806876546, 0.0019340523568823808, 0.002079262791415043, 0.002217109863758396, 0.0023496902250252187, 0.0024806760549934835, 0.00261531681070896, 0.00276056233254152, 0.00292550180327064, 0.003122369538743414, 0.0033684150925823108, 0.0036889639214227306, 0.004121995978900025, 0.004724530002694798, 0.005581004128810795, 0.006813669118197305, 0.008594739394073337, 0.011159665813118525, 0.01482040387328447, 0.019976978058211647, 0.027125047791028797, 0.036856663268656324, 0.049851097401682753, 0.06685271290027738, 0.08863342620246517, 0.11593857410159224, 0.14941689886576848, 0.1895378403923712, 0.2365021059497534, 0.29015418025416917, 0.34990753795252616, 0.4146942984303223, 0.48295047102789534, 0.5526455234910975, 0.6213608045404274, 0.6864157406910077, 0.7450344112116717, 0.7945390222706809, 0.8325519721617336, 0.857185534411389, 0.8671982963638899, 0.8621005480438848, 0.8421964876033363, 0.8085585993873463, 0.7629377428209554, 0.7076201124911072, 0.6452481417196793, 0.5786257813796467, 0.5105289989845307, 0.44353991388669867, 0.3799182666358452, 0.32151779152756693, 0.269748547904122, 0.22558036119575878, 0.1895780325760493, 0.16195640508655726, 0.1426428941502691, 0.13133654715128174, 0.12755567042477087, 0.13066995364008982, 0.13991714998649352, 0.1544080674343037, 0.1731263214137296, 0.1949305910982201, 0.21856682930811436, 0.2426960674261401, 0.26594044478289597, 0.2869463968194744, 0.30446020957634967, 0.3174080671709121, 0.3249708668964556, 0.3266438294379281, 0.32227237902817096], [1.855904339311602e-07, 3.290288972440556e-07, 5.723610960379169e-07, 9.769336469760494e-07, 1.6361404196016522e-06, 2.688677668032834e-06, 4.3353311871849915e-06, 6.859219111650325e-06, 1.0648793364867004e-05, 1.6222029712126875e-05, 2.4249144976735594e-05, 3.556997739737276e-05, 5.120104785467225e-05, 7.232656890256965e-05, 0.00010026763021089429, 0.0001364248135822962, 0.00018219184777215633, 0.00023884168660650348, 0.0003073913789833728, 0.0003884577354699256, 0.0004821211652050007, 0.0005878189763840662, 0.0007042906537289279, 0.0008295951111164441, 0.0009612131643419791, 0.0010962377928997442, 0.001231641460796277, 0.0013645961115083367, 0.0014928104370000594, 0.001614843933279785, 0.0017303611168689036, 0.0018403042802220453, 0.00194699023566387, 0.002054175081908448, 0.002167179122234076, 0.002293218430107353, 0.00244214594914919, 0.00262785820881917, 0.002870667198531729, 0.003200962044293165, 0.003664480113278643, 0.004329456275678427, 0.0052958025589076455, 0.0067062664525565805, 0.008759204961138214, 0.011722182875804425, 0.015945066453532865, 0.02187067614526192, 0.03004046070491331, 0.04109217736344613, 0.05574636030673644, 0.07477859876207565, 0.09897547526338595, 0.12907352289956683, 0.16568273157822355, 0.20919881052656608, 0.2597112842684735, 0.31691711039833736, 0.38005132512638984, 0.4478467210423174, 0.5185333376352607, 0.5898854316164284, 0.6593187450258825, 0.7240348100576927, 0.7812025357443587, 0.8281614215758689, 0.8626264640684334, 0.8828730108383486, 0.8878809573163903, 0.8774217753333262, 0.8520784001811376, 0.8131960359975771, 0.7627702490498132, 0.7032860351753287, 0.6375267827267316, 0.5683744899146246, 0.4986220054928181, 0.4308147160926145, 0.36713369690937686, 0.3093258424106281, 0.2586799554488768, 0.21604215848922786, 0.1818600245117498, 0.15624290949813027, 0.13902615933573967, 0.12982890408939368, 0.12809854314048486, 0.13313911903586154, 0.14412488061192183, 0.16010379642177974, 0.17999807309346263, 0.2026095261810699, 0.22663684429461065, 0.2507095341465375, 0.2734400254418948, 0.2934916268956359, 0.30965643346536265, 0.3209345513280223, 0.3266046575795441, 0.32627623346184537], [1.019899668148286e-07, 1.8310570623216878e-07, 3.2255455382796484e-07, 5.575225338059571e-07, 9.455423893940125e-07, 1.573478031532713e-06, 2.569234465809144e-06, 4.116357508339162e-06, 6.471313933027594e-06, 9.982669481891057e-06, 1.5110607700610207e-05, 2.2444302572050074e-05, 3.271368262688064e-05, 4.679128720420888e-05, 6.567946709478559e-05, 9.047840994168361e-05, 0.00012233164686911564, 0.00016234799903428585, 0.0002115023492545621, 0.00027052191592237383, 0.0003397693087822697, 0.0004191377300421093, 0.0005079762517014377, 0.0006050631696931021, 0.0007086422882957933, 0.0008165304255684684, 0.0009262949827351793, 0.0010354894417359676, 0.0011419242560193475, 0.0012439434041699004, 0.0013406756359630953, 0.0014322365803499362, 0.0015198750770749202, 0.0016060849578056872, 0.0016947414825331732, 0.0017913680384486076, 0.001903690800646336, 0.002042693072981093, 0.0022244319073724864, 0.0024729203211784744, 0.0028243990332258322, 0.003333308173937114, 0.004080203423217356, 0.005181720234445236, 0.00680245103454042, 0.009168245073312544, 0.012579963616928374, 0.017426142709262165, 0.024192383937367928, 0.03346470362603475, 0.045923656416896996, 0.062325973454110555, 0.08347088652705041, 0.11014938348612738, 0.1430764158708617, 0.18280849461611878, 0.22965194949153206, 0.2835700210852169, 0.3440994030962502, 0.41028830400519284, 0.48066804449728967, 0.553268309721535, 0.625682367627735, 0.6951831252461641, 0.7588844548593887, 0.8139356952719301, 0.8577316747942468, 0.8881170177082837, 0.9035626392929773, 0.9032945411510168, 0.8873601109681125, 0.856624425050656, 0.8126974677493412, 0.7578014349538855, 0.6945941255602727, 0.6259688486130127, 0.5548527165238147, 0.48402359904289055, 0.41596181372845786, 0.35274664591857613, 0.2960010589432612, 0.24688153162856094, 0.20610475287530441, 0.1739995424479757, 0.15057114059299181, 0.1355658592184225, 0.12852666076387806, 0.12883396132511957, 0.1357301614810175, 0.14833039602523498, 0.16562514242880985, 0.186482169058121, 0.20965557919905878, 0.23380840173753542, 0.25755253124476407, 0.27950629047173386, 0.2983660978052813, 0.3129853545015275, 0.32245134975588563, 0.3261501714587474], [5.533457493602425e-08, 1.006021830774215e-07, 1.794628179869749e-07, 3.1412226137757606e-07, 5.394873431584692e-07, 9.091250035482933e-07, 1.5032376530814246e-06, 2.4389103249673703e-06, 3.882677306435691e-06, 6.065101381608017e-06, 9.296539134259098e-06, 1.3982590734968247e-05, 2.0636955432548013e-05, 2.988864330354326e-05, 4.247989760469022e-05, 5.925097650157528e-05, 8.110836223310385e-05, 0.00010897421160791465, 0.00014371703720760125, 0.00018606664874000695, 0.0002365200010377635, 0.00029524826188037634, 0.0003620184019241647, 0.00043614410109436136, 0.0005164800191467747, 0.0006014700367506879, 0.000689253970231867, 0.0007778291660845493, 0.0008652546342470635, 0.0009498779058281312, 0.001030560875382167, 0.001106882806381841, 0.0011793084023423764, 0.0012493276904689034, 0.0013196028970431015, 0.0013941950551931964, 0.001478988388435468, 0.0015824812010042247, 0.0017171645262044804, 0.0019017588438258078, 0.0021646168470870818, 0.002548614851251897, 0.0031178306724864656, 0.00396622061606582, 0.005228338372065476, 0.007091860709011962, 0.009811283142979505, 0.01372162467695323, 0.019250363700613938, 0.02692518433950397, 0.03737455367774259, 0.05131782385504411, 0.06954163033440008, 0.0928600031363373, 0.1220569380910844, 0.15781221231208364, 0.20061385837530799, 0.2506636617701459, 0.30778488983324453, 0.37134366358121523, 0.44019638869563454, 0.5126749987705855, 0.5866191715901099, 0.6594602049874158, 0.7283552903082497, 0.7903642477851088, 0.8426543832997402, 0.8827140652451045, 0.908552857913493, 0.918866219839578, 0.9131460504941827, 0.8917243861357694, 0.8557454589778292, 0.8070699539436234, 0.7481233069519005, 0.6817060831949086, 0.6107879761330024, 0.538307374002451, 0.466995868626744, 0.39924211946549526, 0.33700305772730654, 0.28176359648793037, 0.23453983883351848, 0.1959160804270931, 0.16610320834302353, 0.1450055734887082, 0.13228489214048922, 0.12741277341306737, 0.12970745332713116, 0.13835454245246392, 0.15241538109424604, 0.17082936642322366, 0.19241796711057907, 0.21589789474669085, 0.23990912943235349, 0.26306051641237094, 0.2839919835577023, 0.3014487271057476, 0.31435965036157976, 0.32191049649842884], [2.963962643336212e-08, 5.456954186724862e-08, 9.857882132360669e-08, 1.7473239244933017e-07, 3.038929919642838e-07, 5.1859299975911e-07, 8.683462117048666e-07, 1.4266634083207875e-06, 2.2999325551589146e-06, 3.6381199848394605e-06, 5.6469195455868e-06, 8.60051391790771e-06, 1.2853534382406412e-05, 1.885016921919089e-05, 2.7127780290152627e-05, 3.831199207508581e-05, 5.310019990021286e-05, 7.223098932002479e-05, 9.643820863842751e-05, 0.0001263904350329375, 0.00016261921324403893, 0.00020544242818307793, 0.00025489201547117826, 0.00031065729598382647, 0.0003720558889357421, 0.00043804287858331946, 0.0005072654383323756, 0.0005781646546775812, 0.0006491195861133515, 0.0007186219286085063, 0.0007854647678595247, 0.0008489277404246258, 0.0009089454277612871, 0.0009662575896797463, 0.0010225599997042117, 0.001080703599993445, 0.0011450271328500331, 0.001221953195729992, 0.0013210276538281923, 0.0014566339038620554, 0.0016506607345586038, 0.0019364362692355181, 0.0023642470658329358, 0.0030087221567372245, 0.003978253303614532, 0.0054264195621310535, 0.007565063940739567, 0.010678221060274988, 0.01513552716864404, 0.02140309972354985, 0.030049235802515135, 0.0417417725917479, 0.05723374000503, 0.07733419012791574, 0.1028619655460697, 0.1345817590899475, 0.17312410050319074, 0.21889371223883364, 0.27197367543302886, 0.332035563207832, 0.39826757305552823, 0.4693331766725641, 0.5433714888000736, 0.6180472695999878, 0.6906533870713811, 0.7582622119774186, 0.817915652740551, 0.8668374139656804, 0.9026466465824096, 0.9235503243042716, 0.9284929242605707, 0.9172462997083308, 0.8904294691203951, 0.8494564169554598, 0.7964186374523545, 0.7339167373548944, 0.6648608225658724, 0.5922618931269196, 0.5190358316246128, 0.4478380823183098, 0.38094150751897404, 0.32016317797767985, 0.26683909532823713, 0.2218400462491921, 0.18561769121228627, 0.15826800179348047, 0.13959932968210084, 0.12919444760680568, 0.12645933338133936, 0.13065561272897194, 0.14091772958876117, 0.156259419643965, 0.17557640030357088, 0.1976530287299708, 0.22117992449491553, 0.2447873612202268, 0.2670959919218709, 0.2867827568882204, 0.302656296955651, 0.31373350916734827], [1.5674210963358668e-08, 2.9223371833568133e-08, 5.346016019823738e-08, 9.595908945930846e-08, 1.6900467773411513e-07, 2.920580082523176e-07, 4.952205254627363e-07, 8.239274874300832e-07, 1.345062247574695e-06, 2.154575081229146e-06, 3.3864943988795005e-06, 5.222918159386804e-06, 7.904168380221808e-06, 1.1737805918028703e-05, 1.71046939021689e-05, 2.4459862332528356e-05, 3.4325694071565474e-05, 4.727507395160913e-05, 6.39027592742101e-05, 8.478443411750534e-05, 0.00011042470018009, 0.0001411974983807832, 0.0001772848592043787, 0.0002186220158658126, 0.00026485826709702156, 0.00031534304291474814, 0.0003691450473021223, 0.0004251090480770324, 0.0004819501747210738, 0.000538380243884075, 0.0005932558697247167, 0.0006457354724710247, 0.0006954334690372429, 0.0007425665555507188, 0.0007881004601829297, 0.0008339268310458711, 0.0008831294819184641, 0.0009404368788575302, 0.001013002541296892, 0.0011117048067252073, 0.001253208188001971, 0.0014630735444293198, 0.0017802327222282944, 0.0022631394341040153, 0.002997850890728305, 0.004108158915592646, 0.005767649159601249, 0.0082132023784046, 0.01175895698077188, 0.01680914711062449, 0.023867571240720045, 0.03354083122251495, 0.04653205141976736, 0.06362171202251739, 0.08563268371827289, 0.11337767157948701, 0.14758912206960698, 0.1888341500485816, 0.2374199769258821, 0.2932983497720584, 0.35597991922755434, 0.4244710215354999, 0.4972452187405336, 0.5722599564424332, 0.6470247406452836, 0.7187216098587271, 0.7843720421110333, 0.841037732933724, 0.8860369944881183, 0.9171548870427998, 0.9328243689176322, 0.9322580735031948, 0.9155155987911369, 0.8834987149991128, 0.8378755454453862, 0.7809432366584417, 0.7154456239410895, 0.6443669039801382, 0.5707237735513823, 0.49737683332094573, 0.42687774106876003, 0.36136247198735405, 0.3024941631896967, 0.2514524633179689, 0.20896099706217208, 0.1753411235280532, 0.15057890162373175, 0.1343930096689577, 0.12629393714123402, 0.12562849914178487, 0.1316079335279238, 0.14332183151099867, 0.15974330988689486, 0.17973269650412388, 0.20204731918568009, 0.22536375279284518, 0.24831632588335495, 0.2695522709485508, 0.28780022727754245, 0.30194553823235476], [8.183428501711346e-09, 1.5450667036658418e-08, 2.8622931082120068e-08, 5.2027917026028956e-08, 9.27929363742885e-08, 1.623866848558085e-07, 2.7883292367892267e-07, 4.6978296481585654e-07, 7.766259417298684e-07, 1.2597672155176872e-06, 2.0050976280789388e-06, 3.1314930368858353e-06, 4.798915282493402e-06, 7.216337636750637e-06, 1.064831740590025e-05, 1.5418641872611286e-05, 2.1909167737296912e-05, 3.0551869983379715e-05, 4.181233409999153e-05, 5.6163569407960064e-05, 7.40501435758041e-05, 9.58442055673456e-05, 0.00012179682841683677, 0.00015198999414816513, 0.00018629608948385226, 0.00022435256677206877, 0.00026555907848624475, 0.00030910269885742387, 0.00035401384949950825, 0.00039925164059525787, 0.00044381329775013557, 0.00048685928651127973, 0.0005278450428373537, 0.0005666533497451254, 0.0006037298017563793, 0.0006402387116016942, 0.00067827917051377, 0.0007212312893616065, 0.0007743408632058212, 0.0008456958844809671, 0.0009477981347812343, 0.0010999829061167916, 0.001331981754767728, 0.0016889445288911598, 0.0022382198065623742, 0.0030781142039112636, 0.004348684392056903, 0.00624433594557958, 0.009027593738545775, 0.01304287133470958, 0.018728432965077008, 0.02662408158322918, 0.03737153410704112, 0.05170411342827262, 0.0704224715193705, 0.09435372613395027, 0.12429276195907328, 0.16092653487278247, 0.2047449052059226, 0.2559445302136216, 0.3143352304096323, 0.3792604645472565, 0.44954453790698984, 0.5234784551053703, 0.5988536532529086, 0.6730482703543448, 0.7431645395029891, 0.8062091186539143, 0.8593016805424961, 0.8998919872957678, 0.9259629219403587, 0.9361971799965007, 0.9300886988602667, 0.9079860449837293, 0.8710630234544794, 0.8212205131244809, 0.7609316299735825, 0.6930485674437445, 0.620592975477911, 0.5465521204941752, 0.4737004444107183, 0.40446111281015695, 0.3408156462537906, 0.2842628496323311, 0.23582203313139785, 0.1960707884068115, 0.16520486364051798, 0.14310713373303058, 0.12941411305230285, 0.12357146397134633, 0.12487389435958202, 0.13248901638223728, 0.1454684856466016, 0.16275248965101863, 0.18317501785278556, 0.20547715361204635, 0.22833395499523107, 0.25039764718898816, 0.2703563400575375, 0.28700393784525235], [4.218143935491676e-09, 8.064934629553671e-09, 1.512986077622686e-08, 2.7849928346433317e-08, 5.030010305616981e-08, 8.913946896447702e-08, 1.549988671259953e-07, 2.6445118815885074e-07, 4.427133125212251e-07, 7.272130771593651e-07, 1.1721018668817263e-06, 1.8536890063430012e-06, 2.876606220658688e-06, 4.380274792705724e-06, 6.544954088324713e-06, 9.596326926059096e-06, 1.380727762984642e-05, 1.949531873856722e-05, 2.7014114896649316e-05, 3.673783125788868e-05, 4.903767071873245e-05, 6.425098139544285e-05, 8.264465786889879e-05, 0.00010437607697098593, 0.00012945625730141307, 0.00015772099952073064, 0.0001888161269703845, 0.0002222023441458712, 0.0002571835610595467, 0.0002929599323514443, 0.0003287037677401054, 0.00036365363558304596, 0.0003972204332829322, 0.00042910016505412246, 0.000459392967572204, 0.0004887378517750596, 0.0005184888502100315, 0.0005509817106237559, 0.0005899715347804397, 0.0006413608111957825, 0.0007143830976794267, 0.0008234574194625272, 0.0009909767831686829, 0.0012513316625275028, 0.0016564814426842192, 0.002283353598359697, 0.0032432469892791694, 0.004693215231392439, 0.006849085255989088, 0.009999313285005267, 0.01451830615348819, 0.020877183907783245, 0.02964931496003604, 0.04150744606513421, 0.057209039064634655, 0.07756669101780472, 0.10340140869948533, 0.13547812093539333, 0.17442511860483345, 0.2206419386845125, 0.2742032185922388, 0.3347687609348805, 0.40151190531603187, 0.4730787571084653, 0.5475894614537972, 0.6226893743125443, 0.6956528491768733, 0.7635359719855664, 0.8233677999252567, 0.8723635477818161, 0.9081387839770318, 0.9289019157662999, 0.933603544027353, 0.9220256323267919, 0.8948003121959142, 0.8533565385056954, 0.7998014439481521, 0.7367508063564084, 0.6671284199013302, 0.593956626088661, 0.5201595931884816, 0.44839743052656017, 0.38094361583737246, 0.319611502380881, 0.2657289422791874, 0.22015429397802713, 0.18332300572360105, 0.1553119798941539, 0.13590906786004167, 0.12467704901621911, 0.12100479999422133, 0.12414241003567507, 0.13322105649513596, 0.14726188476904606, 0.1651804354922398, 0.18579401495863174, 0.2078387266076958, 0.23000082598278945, 0.25096400423646503, 0.26947069171428273]]}],                        {\"template\": {\"data\": {\"bar\": [{\"error_x\": {\"color\": \"#2a3f5f\"}, \"error_y\": {\"color\": \"#2a3f5f\"}, \"marker\": {\"line\": {\"color\": \"#E5ECF6\", \"width\": 0.5}}, \"type\": \"bar\"}], \"barpolar\": [{\"marker\": {\"line\": {\"color\": \"#E5ECF6\", \"width\": 0.5}}, \"type\": \"barpolar\"}], \"carpet\": [{\"aaxis\": {\"endlinecolor\": \"#2a3f5f\", \"gridcolor\": \"white\", \"linecolor\": \"white\", \"minorgridcolor\": \"white\", \"startlinecolor\": \"#2a3f5f\"}, \"baxis\": {\"endlinecolor\": \"#2a3f5f\", \"gridcolor\": \"white\", \"linecolor\": \"white\", \"minorgridcolor\": \"white\", \"startlinecolor\": \"#2a3f5f\"}, \"type\": \"carpet\"}], \"choropleth\": [{\"colorbar\": {\"outlinewidth\": 0, \"ticks\": \"\"}, \"type\": \"choropleth\"}], \"contour\": [{\"colorbar\": {\"outlinewidth\": 0, \"ticks\": \"\"}, \"colorscale\": [[0.0, \"#0d0887\"], [0.1111111111111111, \"#46039f\"], [0.2222222222222222, \"#7201a8\"], [0.3333333333333333, \"#9c179e\"], [0.4444444444444444, \"#bd3786\"], [0.5555555555555556, \"#d8576b\"], [0.6666666666666666, \"#ed7953\"], [0.7777777777777778, \"#fb9f3a\"], [0.8888888888888888, \"#fdca26\"], [1.0, \"#f0f921\"]], \"type\": \"contour\"}], \"contourcarpet\": [{\"colorbar\": {\"outlinewidth\": 0, \"ticks\": \"\"}, \"type\": \"contourcarpet\"}], \"heatmap\": [{\"colorbar\": {\"outlinewidth\": 0, \"ticks\": \"\"}, \"colorscale\": [[0.0, \"#0d0887\"], [0.1111111111111111, \"#46039f\"], [0.2222222222222222, \"#7201a8\"], [0.3333333333333333, \"#9c179e\"], [0.4444444444444444, \"#bd3786\"], [0.5555555555555556, \"#d8576b\"], [0.6666666666666666, \"#ed7953\"], [0.7777777777777778, \"#fb9f3a\"], [0.8888888888888888, \"#fdca26\"], [1.0, \"#f0f921\"]], \"type\": \"heatmap\"}], \"heatmapgl\": [{\"colorbar\": {\"outlinewidth\": 0, \"ticks\": \"\"}, \"colorscale\": [[0.0, \"#0d0887\"], [0.1111111111111111, \"#46039f\"], [0.2222222222222222, \"#7201a8\"], [0.3333333333333333, \"#9c179e\"], [0.4444444444444444, \"#bd3786\"], [0.5555555555555556, \"#d8576b\"], [0.6666666666666666, \"#ed7953\"], [0.7777777777777778, \"#fb9f3a\"], [0.8888888888888888, \"#fdca26\"], [1.0, \"#f0f921\"]], \"type\": \"heatmapgl\"}], \"histogram\": [{\"marker\": {\"colorbar\": {\"outlinewidth\": 0, \"ticks\": \"\"}}, \"type\": \"histogram\"}], \"histogram2d\": [{\"colorbar\": {\"outlinewidth\": 0, \"ticks\": \"\"}, \"colorscale\": [[0.0, \"#0d0887\"], [0.1111111111111111, \"#46039f\"], [0.2222222222222222, \"#7201a8\"], [0.3333333333333333, \"#9c179e\"], [0.4444444444444444, \"#bd3786\"], [0.5555555555555556, \"#d8576b\"], [0.6666666666666666, \"#ed7953\"], [0.7777777777777778, \"#fb9f3a\"], [0.8888888888888888, \"#fdca26\"], [1.0, \"#f0f921\"]], \"type\": \"histogram2d\"}], \"histogram2dcontour\": [{\"colorbar\": {\"outlinewidth\": 0, \"ticks\": \"\"}, \"colorscale\": [[0.0, \"#0d0887\"], [0.1111111111111111, \"#46039f\"], [0.2222222222222222, \"#7201a8\"], [0.3333333333333333, \"#9c179e\"], [0.4444444444444444, \"#bd3786\"], [0.5555555555555556, \"#d8576b\"], [0.6666666666666666, \"#ed7953\"], [0.7777777777777778, \"#fb9f3a\"], [0.8888888888888888, \"#fdca26\"], [1.0, \"#f0f921\"]], \"type\": \"histogram2dcontour\"}], \"mesh3d\": [{\"colorbar\": {\"outlinewidth\": 0, \"ticks\": \"\"}, \"type\": \"mesh3d\"}], \"parcoords\": [{\"line\": {\"colorbar\": {\"outlinewidth\": 0, \"ticks\": \"\"}}, \"type\": \"parcoords\"}], \"pie\": [{\"automargin\": true, \"type\": \"pie\"}], \"scatter\": [{\"marker\": {\"colorbar\": {\"outlinewidth\": 0, \"ticks\": \"\"}}, \"type\": \"scatter\"}], \"scatter3d\": [{\"line\": {\"colorbar\": {\"outlinewidth\": 0, \"ticks\": \"\"}}, \"marker\": {\"colorbar\": {\"outlinewidth\": 0, \"ticks\": \"\"}}, \"type\": \"scatter3d\"}], \"scattercarpet\": [{\"marker\": {\"colorbar\": {\"outlinewidth\": 0, \"ticks\": \"\"}}, \"type\": \"scattercarpet\"}], \"scattergeo\": [{\"marker\": {\"colorbar\": {\"outlinewidth\": 0, \"ticks\": \"\"}}, \"type\": \"scattergeo\"}], \"scattergl\": [{\"marker\": {\"colorbar\": {\"outlinewidth\": 0, \"ticks\": \"\"}}, \"type\": \"scattergl\"}], \"scattermapbox\": [{\"marker\": {\"colorbar\": {\"outlinewidth\": 0, \"ticks\": \"\"}}, \"type\": \"scattermapbox\"}], \"scatterpolar\": [{\"marker\": {\"colorbar\": {\"outlinewidth\": 0, \"ticks\": \"\"}}, \"type\": \"scatterpolar\"}], \"scatterpolargl\": [{\"marker\": {\"colorbar\": {\"outlinewidth\": 0, \"ticks\": \"\"}}, \"type\": \"scatterpolargl\"}], \"scatterternary\": [{\"marker\": {\"colorbar\": {\"outlinewidth\": 0, \"ticks\": \"\"}}, \"type\": \"scatterternary\"}], \"surface\": [{\"colorbar\": {\"outlinewidth\": 0, \"ticks\": \"\"}, \"colorscale\": [[0.0, \"#0d0887\"], [0.1111111111111111, \"#46039f\"], [0.2222222222222222, \"#7201a8\"], [0.3333333333333333, \"#9c179e\"], [0.4444444444444444, \"#bd3786\"], [0.5555555555555556, \"#d8576b\"], [0.6666666666666666, \"#ed7953\"], [0.7777777777777778, \"#fb9f3a\"], [0.8888888888888888, \"#fdca26\"], [1.0, \"#f0f921\"]], \"type\": \"surface\"}], \"table\": [{\"cells\": {\"fill\": {\"color\": \"#EBF0F8\"}, \"line\": {\"color\": \"white\"}}, \"header\": {\"fill\": {\"color\": \"#C8D4E3\"}, \"line\": {\"color\": \"white\"}}, \"type\": \"table\"}]}, \"layout\": {\"annotationdefaults\": {\"arrowcolor\": \"#2a3f5f\", \"arrowhead\": 0, \"arrowwidth\": 1}, \"coloraxis\": {\"colorbar\": {\"outlinewidth\": 0, \"ticks\": \"\"}}, \"colorscale\": {\"diverging\": [[0, \"#8e0152\"], [0.1, \"#c51b7d\"], [0.2, \"#de77ae\"], [0.3, \"#f1b6da\"], [0.4, \"#fde0ef\"], [0.5, \"#f7f7f7\"], [0.6, \"#e6f5d0\"], [0.7, \"#b8e186\"], [0.8, \"#7fbc41\"], [0.9, \"#4d9221\"], [1, \"#276419\"]], \"sequential\": [[0.0, \"#0d0887\"], [0.1111111111111111, \"#46039f\"], [0.2222222222222222, \"#7201a8\"], [0.3333333333333333, \"#9c179e\"], [0.4444444444444444, \"#bd3786\"], [0.5555555555555556, \"#d8576b\"], [0.6666666666666666, \"#ed7953\"], [0.7777777777777778, \"#fb9f3a\"], [0.8888888888888888, \"#fdca26\"], [1.0, \"#f0f921\"]], \"sequentialminus\": [[0.0, \"#0d0887\"], [0.1111111111111111, \"#46039f\"], [0.2222222222222222, \"#7201a8\"], [0.3333333333333333, \"#9c179e\"], [0.4444444444444444, \"#bd3786\"], [0.5555555555555556, \"#d8576b\"], [0.6666666666666666, \"#ed7953\"], [0.7777777777777778, \"#fb9f3a\"], [0.8888888888888888, \"#fdca26\"], [1.0, \"#f0f921\"]]}, \"colorway\": [\"#636efa\", \"#EF553B\", \"#00cc96\", \"#ab63fa\", \"#FFA15A\", \"#19d3f3\", \"#FF6692\", \"#B6E880\", \"#FF97FF\", \"#FECB52\"], \"font\": {\"color\": \"#2a3f5f\"}, \"geo\": {\"bgcolor\": \"white\", \"lakecolor\": \"white\", \"landcolor\": \"#E5ECF6\", \"showlakes\": true, \"showland\": true, \"subunitcolor\": \"white\"}, \"hoverlabel\": {\"align\": \"left\"}, \"hovermode\": \"closest\", \"mapbox\": {\"style\": \"light\"}, \"paper_bgcolor\": \"white\", \"plot_bgcolor\": \"#E5ECF6\", \"polar\": {\"angularaxis\": {\"gridcolor\": \"white\", \"linecolor\": \"white\", \"ticks\": \"\"}, \"bgcolor\": \"#E5ECF6\", \"radialaxis\": {\"gridcolor\": \"white\", \"linecolor\": \"white\", \"ticks\": \"\"}}, \"scene\": {\"xaxis\": {\"backgroundcolor\": \"#E5ECF6\", \"gridcolor\": \"white\", \"gridwidth\": 2, \"linecolor\": \"white\", \"showbackground\": true, \"ticks\": \"\", \"zerolinecolor\": \"white\"}, \"yaxis\": {\"backgroundcolor\": \"#E5ECF6\", \"gridcolor\": \"white\", \"gridwidth\": 2, \"linecolor\": \"white\", \"showbackground\": true, \"ticks\": \"\", \"zerolinecolor\": \"white\"}, \"zaxis\": {\"backgroundcolor\": \"#E5ECF6\", \"gridcolor\": \"white\", \"gridwidth\": 2, \"linecolor\": \"white\", \"showbackground\": true, \"ticks\": \"\", \"zerolinecolor\": \"white\"}}, \"shapedefaults\": {\"line\": {\"color\": \"#2a3f5f\"}}, \"ternary\": {\"aaxis\": {\"gridcolor\": \"white\", \"linecolor\": \"white\", \"ticks\": \"\"}, \"baxis\": {\"gridcolor\": \"white\", \"linecolor\": \"white\", \"ticks\": \"\"}, \"bgcolor\": \"#E5ECF6\", \"caxis\": {\"gridcolor\": \"white\", \"linecolor\": \"white\", \"ticks\": \"\"}}, \"title\": {\"x\": 0.05}, \"xaxis\": {\"automargin\": true, \"gridcolor\": \"white\", \"linecolor\": \"white\", \"ticks\": \"\", \"title\": {\"standoff\": 15}, \"zerolinecolor\": \"white\", \"zerolinewidth\": 2}, \"yaxis\": {\"automargin\": true, \"gridcolor\": \"white\", \"linecolor\": \"white\", \"ticks\": \"\", \"title\": {\"standoff\": 15}, \"zerolinecolor\": \"white\", \"zerolinewidth\": 2}}}},                        {\"responsive\": true}                    ).then(function(){\n",
       "                            \n",
       "var gd = document.getElementById('d1340e87-1f63-4162-b229-87d6736f4e27');\n",
       "var x = new MutationObserver(function (mutations, observer) {{\n",
       "        var display = window.getComputedStyle(gd).display;\n",
       "        if (!display || display === 'none') {{\n",
       "            console.log([gd, 'removed!']);\n",
       "            Plotly.purge(gd);\n",
       "            observer.disconnect();\n",
       "        }}\n",
       "}});\n",
       "\n",
       "// Listen for the removal of the full notebook cells\n",
       "var notebookContainer = gd.closest('#notebook-container');\n",
       "if (notebookContainer) {{\n",
       "    x.observe(notebookContainer, {childList: true});\n",
       "}}\n",
       "\n",
       "// Listen for the clearing of the current output cell\n",
       "var outputEl = gd.closest('.output');\n",
       "if (outputEl) {{\n",
       "    x.observe(outputEl, {childList: true});\n",
       "}}\n",
       "\n",
       "                        })                };                });            </script>        </div>"
      ]
     },
     "metadata": {},
     "output_type": "display_data"
    },
    {
     "data": {
      "application/javascript": [
       "\n",
       "            setTimeout(function() {\n",
       "                var nbb_cell_id = 61;\n",
       "                var nbb_unformatted_code = \"x = starbs[\\\"Longitude\\\"]\\ny = starbs[\\\"Latitude\\\"]\\nkernel = stats.gaussian_kde((x, y))\\n\\nx = np.linspace(x.min(), x.max(), 100)\\ny = np.linspace(y.min(), y.max(), 100)\\n\\nz = []\\nfor xi in x:\\n    zi = []\\n    for yi in y:\\n        zi.append(kernel((xi, yi))[0])\\n\\n    z.append(zi)\\n\\nz = np.array(z)\\nz.reshape((x.shape[0], y.shape[0]))\\n\\nfig = go.Figure(data=[go.Surface(z=z, x=x, y=y)])\\nfig.show()\";\n",
       "                var nbb_formatted_code = \"x = starbs[\\\"Longitude\\\"]\\ny = starbs[\\\"Latitude\\\"]\\nkernel = stats.gaussian_kde((x, y))\\n\\nx = np.linspace(x.min(), x.max(), 100)\\ny = np.linspace(y.min(), y.max(), 100)\\n\\nz = []\\nfor xi in x:\\n    zi = []\\n    for yi in y:\\n        zi.append(kernel((xi, yi))[0])\\n\\n    z.append(zi)\\n\\nz = np.array(z)\\nz.reshape((x.shape[0], y.shape[0]))\\n\\nfig = go.Figure(data=[go.Surface(z=z, x=x, y=y)])\\nfig.show()\";\n",
       "                var nbb_cells = Jupyter.notebook.get_cells();\n",
       "                for (var i = 0; i < nbb_cells.length; ++i) {\n",
       "                    if (nbb_cells[i].input_prompt_number == nbb_cell_id) {\n",
       "                        if (nbb_cells[i].get_text() == nbb_unformatted_code) {\n",
       "                             nbb_cells[i].set_text(nbb_formatted_code);\n",
       "                        }\n",
       "                        break;\n",
       "                    }\n",
       "                }\n",
       "            }, 500);\n",
       "            "
      ],
      "text/plain": [
       "<IPython.core.display.Javascript object>"
      ]
     },
     "metadata": {},
     "output_type": "display_data"
    }
   ],
   "source": [
    "x = starbs[\"Longitude\"]\n",
    "y = starbs[\"Latitude\"]\n",
    "kernel = stats.gaussian_kde((x, y))\n",
    "\n",
    "x = np.linspace(x.min(), x.max(), 100)\n",
    "y = np.linspace(y.min(), y.max(), 100)\n",
    "\n",
    "z = []\n",
    "for xi in x:\n",
    "    zi = []\n",
    "    for yi in y:\n",
    "        zi.append(kernel((xi, yi))[0])\n",
    "\n",
    "    z.append(zi)\n",
    "\n",
    "z = np.array(z)\n",
    "z.reshape((x.shape[0], y.shape[0]))\n",
    "\n",
    "fig = go.Figure(data=[go.Surface(z=z, x=x, y=y)])\n",
    "fig.show()"
   ]
  },
  {
   "cell_type": "markdown",
   "metadata": {
    "id": "4SHIpSD0CD2W"
   },
   "source": [
    "Just like KMeans, we need to decide up front how many clusters we want the clustering process to find."
   ]
  },
  {
   "cell_type": "code",
   "execution_count": 62,
   "metadata": {
    "id": "yAu-thrM0ICo"
   },
   "outputs": [
    {
     "data": {
      "application/javascript": [
       "\n",
       "            setTimeout(function() {\n",
       "                var nbb_cell_id = 62;\n",
       "                var nbb_unformatted_code = \"k = 4\";\n",
       "                var nbb_formatted_code = \"k = 4\";\n",
       "                var nbb_cells = Jupyter.notebook.get_cells();\n",
       "                for (var i = 0; i < nbb_cells.length; ++i) {\n",
       "                    if (nbb_cells[i].input_prompt_number == nbb_cell_id) {\n",
       "                        if (nbb_cells[i].get_text() == nbb_unformatted_code) {\n",
       "                             nbb_cells[i].set_text(nbb_formatted_code);\n",
       "                        }\n",
       "                        break;\n",
       "                    }\n",
       "                }\n",
       "            }, 500);\n",
       "            "
      ],
      "text/plain": [
       "<IPython.core.display.Javascript object>"
      ]
     },
     "metadata": {},
     "output_type": "display_data"
    }
   ],
   "source": [
    "k = 4"
   ]
  },
  {
   "cell_type": "markdown",
   "metadata": {
    "id": "JZb2i-ihCD2Y"
   },
   "source": [
    "* Create and fit a `GaussianMixture()` model"
   ]
  },
  {
   "cell_type": "code",
   "execution_count": 63,
   "metadata": {
    "colab": {
     "base_uri": "https://localhost:8080/",
     "height": 84
    },
    "id": "KWEriFCTCD2Z",
    "outputId": "04c32633-c997-43d2-b70d-c6084a098464"
   },
   "outputs": [
    {
     "data": {
      "text/plain": [
       "GaussianMixture(covariance_type='full', init_params='kmeans', max_iter=100,\n",
       "                means_init=None, n_components=4, n_init=1, precisions_init=None,\n",
       "                random_state=42, reg_covar=1e-06, tol=0.001, verbose=0,\n",
       "                verbose_interval=10, warm_start=False, weights_init=None)"
      ]
     },
     "execution_count": 63,
     "metadata": {},
     "output_type": "execute_result"
    },
    {
     "data": {
      "application/javascript": [
       "\n",
       "            setTimeout(function() {\n",
       "                var nbb_cell_id = 63;\n",
       "                var nbb_unformatted_code = \"gauss = GaussianMixture(n_components=k, random_state=42)\\ngauss.fit(lat_lon)\";\n",
       "                var nbb_formatted_code = \"gauss = GaussianMixture(n_components=k, random_state=42)\\ngauss.fit(lat_lon)\";\n",
       "                var nbb_cells = Jupyter.notebook.get_cells();\n",
       "                for (var i = 0; i < nbb_cells.length; ++i) {\n",
       "                    if (nbb_cells[i].input_prompt_number == nbb_cell_id) {\n",
       "                        if (nbb_cells[i].get_text() == nbb_unformatted_code) {\n",
       "                             nbb_cells[i].set_text(nbb_formatted_code);\n",
       "                        }\n",
       "                        break;\n",
       "                    }\n",
       "                }\n",
       "            }, 500);\n",
       "            "
      ],
      "text/plain": [
       "<IPython.core.display.Javascript object>"
      ]
     },
     "metadata": {},
     "output_type": "display_data"
    }
   ],
   "source": [
    "gauss = GaussianMixture(n_components=k, random_state=42)\n",
    "gauss.fit(lat_lon)"
   ]
  },
  {
   "cell_type": "markdown",
   "metadata": {
    "id": "6DphHLmMCD2b"
   },
   "source": [
    "Let's compare `GaussianMixture()` to `KMeans()`.\n",
    "\n",
    "* Create and fit a `KMeans()` model"
   ]
  },
  {
   "cell_type": "code",
   "execution_count": 64,
   "metadata": {
    "colab": {
     "base_uri": "https://localhost:8080/",
     "height": 67
    },
    "id": "nclmcAceCD2c",
    "outputId": "accdf787-0ff0-43f1-8fdf-2cd298821d0f"
   },
   "outputs": [
    {
     "data": {
      "text/plain": [
       "KMeans(algorithm='auto', copy_x=True, init='k-means++', max_iter=300,\n",
       "       n_clusters=4, n_init=10, n_jobs=None, precompute_distances='auto',\n",
       "       random_state=42, tol=0.0001, verbose=0)"
      ]
     },
     "execution_count": 64,
     "metadata": {},
     "output_type": "execute_result"
    },
    {
     "data": {
      "application/javascript": [
       "\n",
       "            setTimeout(function() {\n",
       "                var nbb_cell_id = 64;\n",
       "                var nbb_unformatted_code = \"kmeans = KMeans(n_clusters=k, random_state=42)\\nkmeans.fit(lat_lon)\";\n",
       "                var nbb_formatted_code = \"kmeans = KMeans(n_clusters=k, random_state=42)\\nkmeans.fit(lat_lon)\";\n",
       "                var nbb_cells = Jupyter.notebook.get_cells();\n",
       "                for (var i = 0; i < nbb_cells.length; ++i) {\n",
       "                    if (nbb_cells[i].input_prompt_number == nbb_cell_id) {\n",
       "                        if (nbb_cells[i].get_text() == nbb_unformatted_code) {\n",
       "                             nbb_cells[i].set_text(nbb_formatted_code);\n",
       "                        }\n",
       "                        break;\n",
       "                    }\n",
       "                }\n",
       "            }, 500);\n",
       "            "
      ],
      "text/plain": [
       "<IPython.core.display.Javascript object>"
      ]
     },
     "metadata": {},
     "output_type": "display_data"
    }
   ],
   "source": [
    "kmeans = KMeans(n_clusters=k, random_state=42)\n",
    "kmeans.fit(lat_lon)"
   ]
  },
  {
   "cell_type": "markdown",
   "metadata": {
    "id": "bIn1aOJRCD2e"
   },
   "source": [
    "* Print the resulting centroids from each method"
   ]
  },
  {
   "cell_type": "code",
   "execution_count": 65,
   "metadata": {
    "colab": {
     "base_uri": "https://localhost:8080/",
     "height": 84
    },
    "id": "n6arQSpGCD2f",
    "outputId": "0fb2fea1-9d21-484f-eeea-e68cac89fe9f"
   },
   "outputs": [
    {
     "data": {
      "text/plain": [
       "array([[ 35.92205702, -84.0705724 ],\n",
       "       [ 36.37125   , -82.42125   ],\n",
       "       [ 35.80598724, -83.56399839],\n",
       "       [ 36.2       , -83.35      ]])"
      ]
     },
     "execution_count": 65,
     "metadata": {},
     "output_type": "execute_result"
    },
    {
     "data": {
      "application/javascript": [
       "\n",
       "            setTimeout(function() {\n",
       "                var nbb_cell_id = 65;\n",
       "                var nbb_unformatted_code = \"gauss.means_\";\n",
       "                var nbb_formatted_code = \"gauss.means_\";\n",
       "                var nbb_cells = Jupyter.notebook.get_cells();\n",
       "                for (var i = 0; i < nbb_cells.length; ++i) {\n",
       "                    if (nbb_cells[i].input_prompt_number == nbb_cell_id) {\n",
       "                        if (nbb_cells[i].get_text() == nbb_unformatted_code) {\n",
       "                             nbb_cells[i].set_text(nbb_formatted_code);\n",
       "                        }\n",
       "                        break;\n",
       "                    }\n",
       "                }\n",
       "            }, 500);\n",
       "            "
      ],
      "text/plain": [
       "<IPython.core.display.Javascript object>"
      ]
     },
     "metadata": {},
     "output_type": "display_data"
    }
   ],
   "source": [
    "gauss.means_"
   ]
  },
  {
   "cell_type": "code",
   "execution_count": 66,
   "metadata": {
    "colab": {
     "base_uri": "https://localhost:8080/",
     "height": 84
    },
    "id": "UMNetyiACD2j",
    "outputId": "70d9d978-69d2-4713-e93f-8905bb3d64a0"
   },
   "outputs": [
    {
     "data": {
      "text/plain": [
       "array([[ 35.92846154, -84.01230769],\n",
       "       [ 36.37125   , -82.42125   ],\n",
       "       [ 35.90125   , -84.26      ],\n",
       "       [ 35.87166667, -83.52833333]])"
      ]
     },
     "execution_count": 66,
     "metadata": {},
     "output_type": "execute_result"
    },
    {
     "data": {
      "application/javascript": [
       "\n",
       "            setTimeout(function() {\n",
       "                var nbb_cell_id = 66;\n",
       "                var nbb_unformatted_code = \"kmeans.cluster_centers_\";\n",
       "                var nbb_formatted_code = \"kmeans.cluster_centers_\";\n",
       "                var nbb_cells = Jupyter.notebook.get_cells();\n",
       "                for (var i = 0; i < nbb_cells.length; ++i) {\n",
       "                    if (nbb_cells[i].input_prompt_number == nbb_cell_id) {\n",
       "                        if (nbb_cells[i].get_text() == nbb_unformatted_code) {\n",
       "                             nbb_cells[i].set_text(nbb_formatted_code);\n",
       "                        }\n",
       "                        break;\n",
       "                    }\n",
       "                }\n",
       "            }, 500);\n",
       "            "
      ],
      "text/plain": [
       "<IPython.core.display.Javascript object>"
      ]
     },
     "metadata": {},
     "output_type": "display_data"
    }
   ],
   "source": [
    "kmeans.cluster_centers_"
   ]
  },
  {
   "cell_type": "code",
   "execution_count": 67,
   "metadata": {
    "id": "N21aFwcZCD2n"
   },
   "outputs": [
    {
     "data": {
      "application/javascript": [
       "\n",
       "            setTimeout(function() {\n",
       "                var nbb_cell_id = 67;\n",
       "                var nbb_unformatted_code = \"starbs[\\\"label\\\"] = gauss.predict(lat_lon)\";\n",
       "                var nbb_formatted_code = \"starbs[\\\"label\\\"] = gauss.predict(lat_lon)\";\n",
       "                var nbb_cells = Jupyter.notebook.get_cells();\n",
       "                for (var i = 0; i < nbb_cells.length; ++i) {\n",
       "                    if (nbb_cells[i].input_prompt_number == nbb_cell_id) {\n",
       "                        if (nbb_cells[i].get_text() == nbb_unformatted_code) {\n",
       "                             nbb_cells[i].set_text(nbb_formatted_code);\n",
       "                        }\n",
       "                        break;\n",
       "                    }\n",
       "                }\n",
       "            }, 500);\n",
       "            "
      ],
      "text/plain": [
       "<IPython.core.display.Javascript object>"
      ]
     },
     "metadata": {},
     "output_type": "display_data"
    }
   ],
   "source": [
    "starbs[\"label\"] = gauss.predict(lat_lon)"
   ]
  },
  {
   "cell_type": "code",
   "execution_count": 68,
   "metadata": {
    "id": "wWa9kmoeCD2q"
   },
   "outputs": [
    {
     "data": {
      "application/javascript": [
       "\n",
       "            setTimeout(function() {\n",
       "                var nbb_cell_id = 68;\n",
       "                var nbb_unformatted_code = \"# starbs[starbs[\\\"label\\\"] == 0]\";\n",
       "                var nbb_formatted_code = \"# starbs[starbs[\\\"label\\\"] == 0]\";\n",
       "                var nbb_cells = Jupyter.notebook.get_cells();\n",
       "                for (var i = 0; i < nbb_cells.length; ++i) {\n",
       "                    if (nbb_cells[i].input_prompt_number == nbb_cell_id) {\n",
       "                        if (nbb_cells[i].get_text() == nbb_unformatted_code) {\n",
       "                             nbb_cells[i].set_text(nbb_formatted_code);\n",
       "                        }\n",
       "                        break;\n",
       "                    }\n",
       "                }\n",
       "            }, 500);\n",
       "            "
      ],
      "text/plain": [
       "<IPython.core.display.Javascript object>"
      ]
     },
     "metadata": {},
     "output_type": "display_data"
    }
   ],
   "source": [
    "# starbs[starbs[\"label\"] == 0]"
   ]
  },
  {
   "cell_type": "markdown",
   "metadata": {
    "id": "WqHkS3_rCD2u"
   },
   "source": [
    "* Use the `GaussianMixture.predict_proba()` method.\n",
    "* What are the top 3 observations we are least confident about?\n",
    "* What are the top 3 observations we are most confident about?"
   ]
  },
  {
   "cell_type": "code",
   "execution_count": 69,
   "metadata": {
    "colab": {
     "base_uri": "https://localhost:8080/",
     "height": 195
    },
    "id": "d6HjnWGrFO-q",
    "outputId": "0ccce550-6385-43e4-e9f9-62efe923a587",
    "scrolled": true
   },
   "outputs": [
    {
     "data": {
      "text/html": [
       "<div>\n",
       "<style scoped>\n",
       "    .dataframe tbody tr th:only-of-type {\n",
       "        vertical-align: middle;\n",
       "    }\n",
       "\n",
       "    .dataframe tbody tr th {\n",
       "        vertical-align: top;\n",
       "    }\n",
       "\n",
       "    .dataframe thead th {\n",
       "        text-align: right;\n",
       "    }\n",
       "</style>\n",
       "<table border=\"1\" class=\"dataframe\">\n",
       "  <thead>\n",
       "    <tr style=\"text-align: right;\">\n",
       "      <th></th>\n",
       "      <th>0</th>\n",
       "      <th>1</th>\n",
       "      <th>2</th>\n",
       "      <th>3</th>\n",
       "    </tr>\n",
       "  </thead>\n",
       "  <tbody>\n",
       "    <tr>\n",
       "      <th>0</th>\n",
       "      <td>1.0</td>\n",
       "      <td>0.000000e+00</td>\n",
       "      <td>2.767721e-189</td>\n",
       "      <td>0.0</td>\n",
       "    </tr>\n",
       "    <tr>\n",
       "      <th>1</th>\n",
       "      <td>1.0</td>\n",
       "      <td>0.000000e+00</td>\n",
       "      <td>1.945353e-180</td>\n",
       "      <td>0.0</td>\n",
       "    </tr>\n",
       "    <tr>\n",
       "      <th>2</th>\n",
       "      <td>1.0</td>\n",
       "      <td>0.000000e+00</td>\n",
       "      <td>2.787396e-292</td>\n",
       "      <td>0.0</td>\n",
       "    </tr>\n",
       "    <tr>\n",
       "      <th>3</th>\n",
       "      <td>1.0</td>\n",
       "      <td>0.000000e+00</td>\n",
       "      <td>0.000000e+00</td>\n",
       "      <td>0.0</td>\n",
       "    </tr>\n",
       "    <tr>\n",
       "      <th>4</th>\n",
       "      <td>1.0</td>\n",
       "      <td>6.171589e-316</td>\n",
       "      <td>3.185780e-86</td>\n",
       "      <td>0.0</td>\n",
       "    </tr>\n",
       "  </tbody>\n",
       "</table>\n",
       "</div>"
      ],
      "text/plain": [
       "     0              1              2    3\n",
       "0  1.0   0.000000e+00  2.767721e-189  0.0\n",
       "1  1.0   0.000000e+00  1.945353e-180  0.0\n",
       "2  1.0   0.000000e+00  2.787396e-292  0.0\n",
       "3  1.0   0.000000e+00   0.000000e+00  0.0\n",
       "4  1.0  6.171589e-316   3.185780e-86  0.0"
      ]
     },
     "execution_count": 69,
     "metadata": {},
     "output_type": "execute_result"
    },
    {
     "data": {
      "application/javascript": [
       "\n",
       "            setTimeout(function() {\n",
       "                var nbb_cell_id = 69;\n",
       "                var nbb_unformatted_code = \"prob_df = pd.DataFrame(gauss.predict_proba(lat_lon))\\nprob_df.head()\";\n",
       "                var nbb_formatted_code = \"prob_df = pd.DataFrame(gauss.predict_proba(lat_lon))\\nprob_df.head()\";\n",
       "                var nbb_cells = Jupyter.notebook.get_cells();\n",
       "                for (var i = 0; i < nbb_cells.length; ++i) {\n",
       "                    if (nbb_cells[i].input_prompt_number == nbb_cell_id) {\n",
       "                        if (nbb_cells[i].get_text() == nbb_unformatted_code) {\n",
       "                             nbb_cells[i].set_text(nbb_formatted_code);\n",
       "                        }\n",
       "                        break;\n",
       "                    }\n",
       "                }\n",
       "            }, 500);\n",
       "            "
      ],
      "text/plain": [
       "<IPython.core.display.Javascript object>"
      ]
     },
     "metadata": {},
     "output_type": "display_data"
    }
   ],
   "source": [
    "prob_df = pd.DataFrame(gauss.predict_proba(lat_lon))\n",
    "prob_df.head()"
   ]
  },
  {
   "cell_type": "markdown",
   "metadata": {
    "id": "OU5DuIxvCD2z"
   },
   "source": [
    "Visualizing the results comparison:"
   ]
  },
  {
   "cell_type": "code",
   "execution_count": 70,
   "metadata": {
    "colab": {
     "base_uri": "https://localhost:8080/",
     "height": 1000
    },
    "id": "bvauiLwZ0m3v",
    "outputId": "446a42da-2e8b-4ecc-fc82-88e99b6ef6a5",
    "scrolled": false
   },
   "outputs": [
    {
     "data": {
      "application/vnd.plotly.v1+json": {
       "config": {
        "plotlyServerURL": "https://plot.ly"
       },
       "data": [
        {
         "geo": "geo",
         "hovertemplate": "<b>%{hovertext}</b><br><br>label=0<br>Latitude=%{lat}<br>Longitude=%{lon}<extra></extra>",
         "hovertext": [
          22859,
          22945,
          22946,
          22947,
          22948,
          22949,
          22950,
          22951,
          22952,
          22944,
          22953,
          22958,
          22961,
          22962,
          23025,
          23026,
          23029,
          23030,
          23031,
          22957,
          22942,
          22943,
          22940,
          22860,
          22939,
          22938,
          22937,
          22936,
          22935,
          22895,
          22896,
          22897,
          22913,
          22941
         ],
         "lat": [
          35.81,
          35.91,
          35.92,
          35.93,
          36.04,
          35.95,
          35.87,
          35.94,
          35.9,
          35.93,
          35.92,
          35.82,
          35.75,
          35.75,
          36.01,
          36.01,
          36.05,
          36.05,
          36.05,
          35.8,
          35.95,
          35.86,
          36.01,
          35.81,
          35.96,
          35.93,
          35.9,
          35.94,
          35.95,
          35.9,
          35.88,
          36.05,
          35.89,
          35.91
         ],
         "legendgroup": "0",
         "lon": [
          -83.99,
          -84.09,
          -84.09,
          -84.04,
          -83.89,
          -83.93,
          -84.1,
          -83.99,
          -84.15,
          -84.04,
          -84.05,
          -84.27,
          -83.99,
          -83.99,
          -84.26,
          -84.26,
          -84,
          -84,
          -84.06,
          -84.26,
          -83.93,
          -84.07,
          -83.97,
          -83.98,
          -83.92,
          -84.04,
          -84.15,
          -84.09,
          -83.94,
          -84.12,
          -84.18,
          -83.92,
          -84.55,
          -84.09
         ],
         "marker": {
          "color": "#636efa"
         },
         "name": "0",
         "showlegend": true,
         "type": "scattergeo"
        },
        {
         "geo": "geo",
         "hovertemplate": "<b>%{hovertext}</b><br><br>label=1<br>Latitude=%{lat}<br>Longitude=%{lon}<extra></extra>",
         "hovertext": [
          22927,
          22929,
          22930,
          22931,
          22932,
          22933,
          22934,
          22928
         ],
         "lat": [
          36.31,
          36.3,
          36.34,
          36.34,
          36.29,
          36.54,
          36.55,
          36.3
         ],
         "legendgroup": "1",
         "lon": [
          -82.37,
          -82.37,
          -82.37,
          -82.38,
          -82.49,
          -82.52,
          -82.49,
          -82.38
         ],
         "marker": {
          "color": "#EF553B"
         },
         "name": "1",
         "showlegend": true,
         "type": "scattergeo"
        },
        {
         "geo": "geo",
         "hovertemplate": "<b>%{hovertext}</b><br><br>label=2<br>Latitude=%{lat}<br>Longitude=%{lon}<extra></extra>",
         "hovertext": [
          22908,
          23027,
          23028,
          23032,
          23033
         ],
         "lat": [
          35.71,
          35.8,
          35.81,
          35.83,
          35.88
         ],
         "legendgroup": "2",
         "lon": [
          -83.52,
          -83.58,
          -83.58,
          -83.57,
          -83.57
         ],
         "marker": {
          "color": "#00cc96"
         },
         "name": "2",
         "showlegend": true,
         "type": "scattergeo"
        },
        {
         "geo": "geo",
         "hovertemplate": "<b>%{hovertext}</b><br><br>label=3<br>Latitude=%{lat}<br>Longitude=%{lon}<extra></extra>",
         "hovertext": [
          22987
         ],
         "lat": [
          36.2
         ],
         "legendgroup": "3",
         "lon": [
          -83.35
         ],
         "marker": {
          "color": "#ab63fa"
         },
         "name": "3",
         "showlegend": true,
         "type": "scattergeo"
        },
        {
         "geo": "geo",
         "hovertemplate": "<b>%{hovertext}</b><br><br>label=Cluster center<br>Latitude=%{lat}<br>Longitude=%{lon}<extra></extra>",
         "hovertext": [
          0,
          1,
          2,
          3
         ],
         "lat": [
          35.92205701820715,
          36.371249999999996,
          35.80598723929048,
          36.19999999999992
         ],
         "legendgroup": "Cluster center",
         "lon": [
          -84.07057240334616,
          -82.42124999999999,
          -83.56399838636075,
          -83.34999999999981
         ],
         "marker": {
          "color": "#FFA15A"
         },
         "name": "Cluster center",
         "showlegend": true,
         "type": "scattergeo"
        }
       ],
       "layout": {
        "geo": {
         "center": {},
         "domain": {
          "x": [
           0,
           1
          ],
          "y": [
           0,
           1
          ]
         },
         "fitbounds": "locations",
         "scope": "usa"
        },
        "legend": {
         "title": {
          "text": "label"
         },
         "tracegroupgap": 0
        },
        "template": {
         "data": {
          "bar": [
           {
            "error_x": {
             "color": "#2a3f5f"
            },
            "error_y": {
             "color": "#2a3f5f"
            },
            "marker": {
             "line": {
              "color": "#E5ECF6",
              "width": 0.5
             }
            },
            "type": "bar"
           }
          ],
          "barpolar": [
           {
            "marker": {
             "line": {
              "color": "#E5ECF6",
              "width": 0.5
             }
            },
            "type": "barpolar"
           }
          ],
          "carpet": [
           {
            "aaxis": {
             "endlinecolor": "#2a3f5f",
             "gridcolor": "white",
             "linecolor": "white",
             "minorgridcolor": "white",
             "startlinecolor": "#2a3f5f"
            },
            "baxis": {
             "endlinecolor": "#2a3f5f",
             "gridcolor": "white",
             "linecolor": "white",
             "minorgridcolor": "white",
             "startlinecolor": "#2a3f5f"
            },
            "type": "carpet"
           }
          ],
          "choropleth": [
           {
            "colorbar": {
             "outlinewidth": 0,
             "ticks": ""
            },
            "type": "choropleth"
           }
          ],
          "contour": [
           {
            "colorbar": {
             "outlinewidth": 0,
             "ticks": ""
            },
            "colorscale": [
             [
              0,
              "#0d0887"
             ],
             [
              0.1111111111111111,
              "#46039f"
             ],
             [
              0.2222222222222222,
              "#7201a8"
             ],
             [
              0.3333333333333333,
              "#9c179e"
             ],
             [
              0.4444444444444444,
              "#bd3786"
             ],
             [
              0.5555555555555556,
              "#d8576b"
             ],
             [
              0.6666666666666666,
              "#ed7953"
             ],
             [
              0.7777777777777778,
              "#fb9f3a"
             ],
             [
              0.8888888888888888,
              "#fdca26"
             ],
             [
              1,
              "#f0f921"
             ]
            ],
            "type": "contour"
           }
          ],
          "contourcarpet": [
           {
            "colorbar": {
             "outlinewidth": 0,
             "ticks": ""
            },
            "type": "contourcarpet"
           }
          ],
          "heatmap": [
           {
            "colorbar": {
             "outlinewidth": 0,
             "ticks": ""
            },
            "colorscale": [
             [
              0,
              "#0d0887"
             ],
             [
              0.1111111111111111,
              "#46039f"
             ],
             [
              0.2222222222222222,
              "#7201a8"
             ],
             [
              0.3333333333333333,
              "#9c179e"
             ],
             [
              0.4444444444444444,
              "#bd3786"
             ],
             [
              0.5555555555555556,
              "#d8576b"
             ],
             [
              0.6666666666666666,
              "#ed7953"
             ],
             [
              0.7777777777777778,
              "#fb9f3a"
             ],
             [
              0.8888888888888888,
              "#fdca26"
             ],
             [
              1,
              "#f0f921"
             ]
            ],
            "type": "heatmap"
           }
          ],
          "heatmapgl": [
           {
            "colorbar": {
             "outlinewidth": 0,
             "ticks": ""
            },
            "colorscale": [
             [
              0,
              "#0d0887"
             ],
             [
              0.1111111111111111,
              "#46039f"
             ],
             [
              0.2222222222222222,
              "#7201a8"
             ],
             [
              0.3333333333333333,
              "#9c179e"
             ],
             [
              0.4444444444444444,
              "#bd3786"
             ],
             [
              0.5555555555555556,
              "#d8576b"
             ],
             [
              0.6666666666666666,
              "#ed7953"
             ],
             [
              0.7777777777777778,
              "#fb9f3a"
             ],
             [
              0.8888888888888888,
              "#fdca26"
             ],
             [
              1,
              "#f0f921"
             ]
            ],
            "type": "heatmapgl"
           }
          ],
          "histogram": [
           {
            "marker": {
             "colorbar": {
              "outlinewidth": 0,
              "ticks": ""
             }
            },
            "type": "histogram"
           }
          ],
          "histogram2d": [
           {
            "colorbar": {
             "outlinewidth": 0,
             "ticks": ""
            },
            "colorscale": [
             [
              0,
              "#0d0887"
             ],
             [
              0.1111111111111111,
              "#46039f"
             ],
             [
              0.2222222222222222,
              "#7201a8"
             ],
             [
              0.3333333333333333,
              "#9c179e"
             ],
             [
              0.4444444444444444,
              "#bd3786"
             ],
             [
              0.5555555555555556,
              "#d8576b"
             ],
             [
              0.6666666666666666,
              "#ed7953"
             ],
             [
              0.7777777777777778,
              "#fb9f3a"
             ],
             [
              0.8888888888888888,
              "#fdca26"
             ],
             [
              1,
              "#f0f921"
             ]
            ],
            "type": "histogram2d"
           }
          ],
          "histogram2dcontour": [
           {
            "colorbar": {
             "outlinewidth": 0,
             "ticks": ""
            },
            "colorscale": [
             [
              0,
              "#0d0887"
             ],
             [
              0.1111111111111111,
              "#46039f"
             ],
             [
              0.2222222222222222,
              "#7201a8"
             ],
             [
              0.3333333333333333,
              "#9c179e"
             ],
             [
              0.4444444444444444,
              "#bd3786"
             ],
             [
              0.5555555555555556,
              "#d8576b"
             ],
             [
              0.6666666666666666,
              "#ed7953"
             ],
             [
              0.7777777777777778,
              "#fb9f3a"
             ],
             [
              0.8888888888888888,
              "#fdca26"
             ],
             [
              1,
              "#f0f921"
             ]
            ],
            "type": "histogram2dcontour"
           }
          ],
          "mesh3d": [
           {
            "colorbar": {
             "outlinewidth": 0,
             "ticks": ""
            },
            "type": "mesh3d"
           }
          ],
          "parcoords": [
           {
            "line": {
             "colorbar": {
              "outlinewidth": 0,
              "ticks": ""
             }
            },
            "type": "parcoords"
           }
          ],
          "pie": [
           {
            "automargin": true,
            "type": "pie"
           }
          ],
          "scatter": [
           {
            "marker": {
             "colorbar": {
              "outlinewidth": 0,
              "ticks": ""
             }
            },
            "type": "scatter"
           }
          ],
          "scatter3d": [
           {
            "line": {
             "colorbar": {
              "outlinewidth": 0,
              "ticks": ""
             }
            },
            "marker": {
             "colorbar": {
              "outlinewidth": 0,
              "ticks": ""
             }
            },
            "type": "scatter3d"
           }
          ],
          "scattercarpet": [
           {
            "marker": {
             "colorbar": {
              "outlinewidth": 0,
              "ticks": ""
             }
            },
            "type": "scattercarpet"
           }
          ],
          "scattergeo": [
           {
            "marker": {
             "colorbar": {
              "outlinewidth": 0,
              "ticks": ""
             }
            },
            "type": "scattergeo"
           }
          ],
          "scattergl": [
           {
            "marker": {
             "colorbar": {
              "outlinewidth": 0,
              "ticks": ""
             }
            },
            "type": "scattergl"
           }
          ],
          "scattermapbox": [
           {
            "marker": {
             "colorbar": {
              "outlinewidth": 0,
              "ticks": ""
             }
            },
            "type": "scattermapbox"
           }
          ],
          "scatterpolar": [
           {
            "marker": {
             "colorbar": {
              "outlinewidth": 0,
              "ticks": ""
             }
            },
            "type": "scatterpolar"
           }
          ],
          "scatterpolargl": [
           {
            "marker": {
             "colorbar": {
              "outlinewidth": 0,
              "ticks": ""
             }
            },
            "type": "scatterpolargl"
           }
          ],
          "scatterternary": [
           {
            "marker": {
             "colorbar": {
              "outlinewidth": 0,
              "ticks": ""
             }
            },
            "type": "scatterternary"
           }
          ],
          "surface": [
           {
            "colorbar": {
             "outlinewidth": 0,
             "ticks": ""
            },
            "colorscale": [
             [
              0,
              "#0d0887"
             ],
             [
              0.1111111111111111,
              "#46039f"
             ],
             [
              0.2222222222222222,
              "#7201a8"
             ],
             [
              0.3333333333333333,
              "#9c179e"
             ],
             [
              0.4444444444444444,
              "#bd3786"
             ],
             [
              0.5555555555555556,
              "#d8576b"
             ],
             [
              0.6666666666666666,
              "#ed7953"
             ],
             [
              0.7777777777777778,
              "#fb9f3a"
             ],
             [
              0.8888888888888888,
              "#fdca26"
             ],
             [
              1,
              "#f0f921"
             ]
            ],
            "type": "surface"
           }
          ],
          "table": [
           {
            "cells": {
             "fill": {
              "color": "#EBF0F8"
             },
             "line": {
              "color": "white"
             }
            },
            "header": {
             "fill": {
              "color": "#C8D4E3"
             },
             "line": {
              "color": "white"
             }
            },
            "type": "table"
           }
          ]
         },
         "layout": {
          "annotationdefaults": {
           "arrowcolor": "#2a3f5f",
           "arrowhead": 0,
           "arrowwidth": 1
          },
          "coloraxis": {
           "colorbar": {
            "outlinewidth": 0,
            "ticks": ""
           }
          },
          "colorscale": {
           "diverging": [
            [
             0,
             "#8e0152"
            ],
            [
             0.1,
             "#c51b7d"
            ],
            [
             0.2,
             "#de77ae"
            ],
            [
             0.3,
             "#f1b6da"
            ],
            [
             0.4,
             "#fde0ef"
            ],
            [
             0.5,
             "#f7f7f7"
            ],
            [
             0.6,
             "#e6f5d0"
            ],
            [
             0.7,
             "#b8e186"
            ],
            [
             0.8,
             "#7fbc41"
            ],
            [
             0.9,
             "#4d9221"
            ],
            [
             1,
             "#276419"
            ]
           ],
           "sequential": [
            [
             0,
             "#0d0887"
            ],
            [
             0.1111111111111111,
             "#46039f"
            ],
            [
             0.2222222222222222,
             "#7201a8"
            ],
            [
             0.3333333333333333,
             "#9c179e"
            ],
            [
             0.4444444444444444,
             "#bd3786"
            ],
            [
             0.5555555555555556,
             "#d8576b"
            ],
            [
             0.6666666666666666,
             "#ed7953"
            ],
            [
             0.7777777777777778,
             "#fb9f3a"
            ],
            [
             0.8888888888888888,
             "#fdca26"
            ],
            [
             1,
             "#f0f921"
            ]
           ],
           "sequentialminus": [
            [
             0,
             "#0d0887"
            ],
            [
             0.1111111111111111,
             "#46039f"
            ],
            [
             0.2222222222222222,
             "#7201a8"
            ],
            [
             0.3333333333333333,
             "#9c179e"
            ],
            [
             0.4444444444444444,
             "#bd3786"
            ],
            [
             0.5555555555555556,
             "#d8576b"
            ],
            [
             0.6666666666666666,
             "#ed7953"
            ],
            [
             0.7777777777777778,
             "#fb9f3a"
            ],
            [
             0.8888888888888888,
             "#fdca26"
            ],
            [
             1,
             "#f0f921"
            ]
           ]
          },
          "colorway": [
           "#636efa",
           "#EF553B",
           "#00cc96",
           "#ab63fa",
           "#FFA15A",
           "#19d3f3",
           "#FF6692",
           "#B6E880",
           "#FF97FF",
           "#FECB52"
          ],
          "font": {
           "color": "#2a3f5f"
          },
          "geo": {
           "bgcolor": "white",
           "lakecolor": "white",
           "landcolor": "#E5ECF6",
           "showlakes": true,
           "showland": true,
           "subunitcolor": "white"
          },
          "hoverlabel": {
           "align": "left"
          },
          "hovermode": "closest",
          "mapbox": {
           "style": "light"
          },
          "paper_bgcolor": "white",
          "plot_bgcolor": "#E5ECF6",
          "polar": {
           "angularaxis": {
            "gridcolor": "white",
            "linecolor": "white",
            "ticks": ""
           },
           "bgcolor": "#E5ECF6",
           "radialaxis": {
            "gridcolor": "white",
            "linecolor": "white",
            "ticks": ""
           }
          },
          "scene": {
           "xaxis": {
            "backgroundcolor": "#E5ECF6",
            "gridcolor": "white",
            "gridwidth": 2,
            "linecolor": "white",
            "showbackground": true,
            "ticks": "",
            "zerolinecolor": "white"
           },
           "yaxis": {
            "backgroundcolor": "#E5ECF6",
            "gridcolor": "white",
            "gridwidth": 2,
            "linecolor": "white",
            "showbackground": true,
            "ticks": "",
            "zerolinecolor": "white"
           },
           "zaxis": {
            "backgroundcolor": "#E5ECF6",
            "gridcolor": "white",
            "gridwidth": 2,
            "linecolor": "white",
            "showbackground": true,
            "ticks": "",
            "zerolinecolor": "white"
           }
          },
          "shapedefaults": {
           "line": {
            "color": "#2a3f5f"
           }
          },
          "ternary": {
           "aaxis": {
            "gridcolor": "white",
            "linecolor": "white",
            "ticks": ""
           },
           "baxis": {
            "gridcolor": "white",
            "linecolor": "white",
            "ticks": ""
           },
           "bgcolor": "#E5ECF6",
           "caxis": {
            "gridcolor": "white",
            "linecolor": "white",
            "ticks": ""
           }
          },
          "title": {
           "x": 0.05
          },
          "xaxis": {
           "automargin": true,
           "gridcolor": "white",
           "linecolor": "white",
           "ticks": "",
           "title": {
            "standoff": 15
           },
           "zerolinecolor": "white",
           "zerolinewidth": 2
          },
          "yaxis": {
           "automargin": true,
           "gridcolor": "white",
           "linecolor": "white",
           "ticks": "",
           "title": {
            "standoff": 15
           },
           "zerolinecolor": "white",
           "zerolinewidth": 2
          }
         }
        },
        "title": {
         "text": "Gaussian Mixture Model Results"
        }
       }
      },
      "text/html": [
       "<div>                            <div id=\"be50cacf-c701-40f7-b1c6-2252e2afcfb5\" class=\"plotly-graph-div\" style=\"height:525px; width:100%;\"></div>            <script type=\"text/javascript\">                require([\"plotly\"], function(Plotly) {                    window.PLOTLYENV=window.PLOTLYENV || {};                                    if (document.getElementById(\"be50cacf-c701-40f7-b1c6-2252e2afcfb5\")) {                    Plotly.newPlot(                        \"be50cacf-c701-40f7-b1c6-2252e2afcfb5\",                        [{\"geo\": \"geo\", \"hovertemplate\": \"<b>%{hovertext}</b><br><br>label=0<br>Latitude=%{lat}<br>Longitude=%{lon}<extra></extra>\", \"hovertext\": [22859.0, 22945.0, 22946.0, 22947.0, 22948.0, 22949.0, 22950.0, 22951.0, 22952.0, 22944.0, 22953.0, 22958.0, 22961.0, 22962.0, 23025.0, 23026.0, 23029.0, 23030.0, 23031.0, 22957.0, 22942.0, 22943.0, 22940.0, 22860.0, 22939.0, 22938.0, 22937.0, 22936.0, 22935.0, 22895.0, 22896.0, 22897.0, 22913.0, 22941.0], \"lat\": [35.81, 35.91, 35.92, 35.93, 36.04, 35.95, 35.87, 35.94, 35.9, 35.93, 35.92, 35.82, 35.75, 35.75, 36.01, 36.01, 36.05, 36.05, 36.05, 35.8, 35.95, 35.86, 36.01, 35.81, 35.96, 35.93, 35.9, 35.94, 35.95, 35.9, 35.88, 36.05, 35.89, 35.91], \"legendgroup\": \"0\", \"lon\": [-83.99, -84.09, -84.09, -84.04, -83.89, -83.93, -84.1, -83.99, -84.15, -84.04, -84.05, -84.27, -83.99, -83.99, -84.26, -84.26, -84.0, -84.0, -84.06, -84.26, -83.93, -84.07, -83.97, -83.98, -83.92, -84.04, -84.15, -84.09, -83.94, -84.12, -84.18, -83.92, -84.55, -84.09], \"marker\": {\"color\": \"#636efa\"}, \"name\": \"0\", \"showlegend\": true, \"type\": \"scattergeo\"}, {\"geo\": \"geo\", \"hovertemplate\": \"<b>%{hovertext}</b><br><br>label=1<br>Latitude=%{lat}<br>Longitude=%{lon}<extra></extra>\", \"hovertext\": [22927.0, 22929.0, 22930.0, 22931.0, 22932.0, 22933.0, 22934.0, 22928.0], \"lat\": [36.31, 36.3, 36.34, 36.34, 36.29, 36.54, 36.55, 36.3], \"legendgroup\": \"1\", \"lon\": [-82.37, -82.37, -82.37, -82.38, -82.49, -82.52, -82.49, -82.38], \"marker\": {\"color\": \"#EF553B\"}, \"name\": \"1\", \"showlegend\": true, \"type\": \"scattergeo\"}, {\"geo\": \"geo\", \"hovertemplate\": \"<b>%{hovertext}</b><br><br>label=2<br>Latitude=%{lat}<br>Longitude=%{lon}<extra></extra>\", \"hovertext\": [22908.0, 23027.0, 23028.0, 23032.0, 23033.0], \"lat\": [35.71, 35.8, 35.81, 35.83, 35.88], \"legendgroup\": \"2\", \"lon\": [-83.52, -83.58, -83.58, -83.57, -83.57], \"marker\": {\"color\": \"#00cc96\"}, \"name\": \"2\", \"showlegend\": true, \"type\": \"scattergeo\"}, {\"geo\": \"geo\", \"hovertemplate\": \"<b>%{hovertext}</b><br><br>label=3<br>Latitude=%{lat}<br>Longitude=%{lon}<extra></extra>\", \"hovertext\": [22987.0], \"lat\": [36.2], \"legendgroup\": \"3\", \"lon\": [-83.35], \"marker\": {\"color\": \"#ab63fa\"}, \"name\": \"3\", \"showlegend\": true, \"type\": \"scattergeo\"}, {\"geo\": \"geo\", \"hovertemplate\": \"<b>%{hovertext}</b><br><br>label=Cluster center<br>Latitude=%{lat}<br>Longitude=%{lon}<extra></extra>\", \"hovertext\": [0.0, 1.0, 2.0, 3.0], \"lat\": [35.92205701820715, 36.371249999999996, 35.80598723929048, 36.19999999999992], \"legendgroup\": \"Cluster center\", \"lon\": [-84.07057240334616, -82.42124999999999, -83.56399838636075, -83.34999999999981], \"marker\": {\"color\": \"#FFA15A\"}, \"name\": \"Cluster center\", \"showlegend\": true, \"type\": \"scattergeo\"}],                        {\"geo\": {\"center\": {}, \"domain\": {\"x\": [0.0, 1.0], \"y\": [0.0, 1.0]}, \"fitbounds\": \"locations\", \"scope\": \"usa\"}, \"legend\": {\"title\": {\"text\": \"label\"}, \"tracegroupgap\": 0}, \"template\": {\"data\": {\"bar\": [{\"error_x\": {\"color\": \"#2a3f5f\"}, \"error_y\": {\"color\": \"#2a3f5f\"}, \"marker\": {\"line\": {\"color\": \"#E5ECF6\", \"width\": 0.5}}, \"type\": \"bar\"}], \"barpolar\": [{\"marker\": {\"line\": {\"color\": \"#E5ECF6\", \"width\": 0.5}}, \"type\": \"barpolar\"}], \"carpet\": [{\"aaxis\": {\"endlinecolor\": \"#2a3f5f\", \"gridcolor\": \"white\", \"linecolor\": \"white\", \"minorgridcolor\": \"white\", \"startlinecolor\": \"#2a3f5f\"}, \"baxis\": {\"endlinecolor\": \"#2a3f5f\", \"gridcolor\": \"white\", \"linecolor\": \"white\", \"minorgridcolor\": \"white\", \"startlinecolor\": \"#2a3f5f\"}, \"type\": \"carpet\"}], \"choropleth\": [{\"colorbar\": {\"outlinewidth\": 0, \"ticks\": \"\"}, \"type\": \"choropleth\"}], \"contour\": [{\"colorbar\": {\"outlinewidth\": 0, \"ticks\": \"\"}, \"colorscale\": [[0.0, \"#0d0887\"], [0.1111111111111111, \"#46039f\"], [0.2222222222222222, \"#7201a8\"], [0.3333333333333333, \"#9c179e\"], [0.4444444444444444, \"#bd3786\"], [0.5555555555555556, \"#d8576b\"], [0.6666666666666666, \"#ed7953\"], [0.7777777777777778, \"#fb9f3a\"], [0.8888888888888888, \"#fdca26\"], [1.0, \"#f0f921\"]], \"type\": \"contour\"}], \"contourcarpet\": [{\"colorbar\": {\"outlinewidth\": 0, \"ticks\": \"\"}, \"type\": \"contourcarpet\"}], \"heatmap\": [{\"colorbar\": {\"outlinewidth\": 0, \"ticks\": \"\"}, \"colorscale\": [[0.0, \"#0d0887\"], [0.1111111111111111, \"#46039f\"], [0.2222222222222222, \"#7201a8\"], [0.3333333333333333, \"#9c179e\"], [0.4444444444444444, \"#bd3786\"], [0.5555555555555556, \"#d8576b\"], [0.6666666666666666, \"#ed7953\"], [0.7777777777777778, \"#fb9f3a\"], [0.8888888888888888, \"#fdca26\"], [1.0, \"#f0f921\"]], \"type\": \"heatmap\"}], \"heatmapgl\": [{\"colorbar\": {\"outlinewidth\": 0, \"ticks\": \"\"}, \"colorscale\": [[0.0, \"#0d0887\"], [0.1111111111111111, \"#46039f\"], [0.2222222222222222, \"#7201a8\"], [0.3333333333333333, \"#9c179e\"], [0.4444444444444444, \"#bd3786\"], [0.5555555555555556, \"#d8576b\"], [0.6666666666666666, \"#ed7953\"], [0.7777777777777778, \"#fb9f3a\"], [0.8888888888888888, \"#fdca26\"], [1.0, \"#f0f921\"]], \"type\": \"heatmapgl\"}], \"histogram\": [{\"marker\": {\"colorbar\": {\"outlinewidth\": 0, \"ticks\": \"\"}}, \"type\": \"histogram\"}], \"histogram2d\": [{\"colorbar\": {\"outlinewidth\": 0, \"ticks\": \"\"}, \"colorscale\": [[0.0, \"#0d0887\"], [0.1111111111111111, \"#46039f\"], [0.2222222222222222, \"#7201a8\"], [0.3333333333333333, \"#9c179e\"], [0.4444444444444444, \"#bd3786\"], [0.5555555555555556, \"#d8576b\"], [0.6666666666666666, \"#ed7953\"], [0.7777777777777778, \"#fb9f3a\"], [0.8888888888888888, \"#fdca26\"], [1.0, \"#f0f921\"]], \"type\": \"histogram2d\"}], \"histogram2dcontour\": [{\"colorbar\": {\"outlinewidth\": 0, \"ticks\": \"\"}, \"colorscale\": [[0.0, \"#0d0887\"], [0.1111111111111111, \"#46039f\"], [0.2222222222222222, \"#7201a8\"], [0.3333333333333333, \"#9c179e\"], [0.4444444444444444, \"#bd3786\"], [0.5555555555555556, \"#d8576b\"], [0.6666666666666666, \"#ed7953\"], [0.7777777777777778, \"#fb9f3a\"], [0.8888888888888888, \"#fdca26\"], [1.0, \"#f0f921\"]], \"type\": \"histogram2dcontour\"}], \"mesh3d\": [{\"colorbar\": {\"outlinewidth\": 0, \"ticks\": \"\"}, \"type\": \"mesh3d\"}], \"parcoords\": [{\"line\": {\"colorbar\": {\"outlinewidth\": 0, \"ticks\": \"\"}}, \"type\": \"parcoords\"}], \"pie\": [{\"automargin\": true, \"type\": \"pie\"}], \"scatter\": [{\"marker\": {\"colorbar\": {\"outlinewidth\": 0, \"ticks\": \"\"}}, \"type\": \"scatter\"}], \"scatter3d\": [{\"line\": {\"colorbar\": {\"outlinewidth\": 0, \"ticks\": \"\"}}, \"marker\": {\"colorbar\": {\"outlinewidth\": 0, \"ticks\": \"\"}}, \"type\": \"scatter3d\"}], \"scattercarpet\": [{\"marker\": {\"colorbar\": {\"outlinewidth\": 0, \"ticks\": \"\"}}, \"type\": \"scattercarpet\"}], \"scattergeo\": [{\"marker\": {\"colorbar\": {\"outlinewidth\": 0, \"ticks\": \"\"}}, \"type\": \"scattergeo\"}], \"scattergl\": [{\"marker\": {\"colorbar\": {\"outlinewidth\": 0, \"ticks\": \"\"}}, \"type\": \"scattergl\"}], \"scattermapbox\": [{\"marker\": {\"colorbar\": {\"outlinewidth\": 0, \"ticks\": \"\"}}, \"type\": \"scattermapbox\"}], \"scatterpolar\": [{\"marker\": {\"colorbar\": {\"outlinewidth\": 0, \"ticks\": \"\"}}, \"type\": \"scatterpolar\"}], \"scatterpolargl\": [{\"marker\": {\"colorbar\": {\"outlinewidth\": 0, \"ticks\": \"\"}}, \"type\": \"scatterpolargl\"}], \"scatterternary\": [{\"marker\": {\"colorbar\": {\"outlinewidth\": 0, \"ticks\": \"\"}}, \"type\": \"scatterternary\"}], \"surface\": [{\"colorbar\": {\"outlinewidth\": 0, \"ticks\": \"\"}, \"colorscale\": [[0.0, \"#0d0887\"], [0.1111111111111111, \"#46039f\"], [0.2222222222222222, \"#7201a8\"], [0.3333333333333333, \"#9c179e\"], [0.4444444444444444, \"#bd3786\"], [0.5555555555555556, \"#d8576b\"], [0.6666666666666666, \"#ed7953\"], [0.7777777777777778, \"#fb9f3a\"], [0.8888888888888888, \"#fdca26\"], [1.0, \"#f0f921\"]], \"type\": \"surface\"}], \"table\": [{\"cells\": {\"fill\": {\"color\": \"#EBF0F8\"}, \"line\": {\"color\": \"white\"}}, \"header\": {\"fill\": {\"color\": \"#C8D4E3\"}, \"line\": {\"color\": \"white\"}}, \"type\": \"table\"}]}, \"layout\": {\"annotationdefaults\": {\"arrowcolor\": \"#2a3f5f\", \"arrowhead\": 0, \"arrowwidth\": 1}, \"coloraxis\": {\"colorbar\": {\"outlinewidth\": 0, \"ticks\": \"\"}}, \"colorscale\": {\"diverging\": [[0, \"#8e0152\"], [0.1, \"#c51b7d\"], [0.2, \"#de77ae\"], [0.3, \"#f1b6da\"], [0.4, \"#fde0ef\"], [0.5, \"#f7f7f7\"], [0.6, \"#e6f5d0\"], [0.7, \"#b8e186\"], [0.8, \"#7fbc41\"], [0.9, \"#4d9221\"], [1, \"#276419\"]], \"sequential\": [[0.0, \"#0d0887\"], [0.1111111111111111, \"#46039f\"], [0.2222222222222222, \"#7201a8\"], [0.3333333333333333, \"#9c179e\"], [0.4444444444444444, \"#bd3786\"], [0.5555555555555556, \"#d8576b\"], [0.6666666666666666, \"#ed7953\"], [0.7777777777777778, \"#fb9f3a\"], [0.8888888888888888, \"#fdca26\"], [1.0, \"#f0f921\"]], \"sequentialminus\": [[0.0, \"#0d0887\"], [0.1111111111111111, \"#46039f\"], [0.2222222222222222, \"#7201a8\"], [0.3333333333333333, \"#9c179e\"], [0.4444444444444444, \"#bd3786\"], [0.5555555555555556, \"#d8576b\"], [0.6666666666666666, \"#ed7953\"], [0.7777777777777778, \"#fb9f3a\"], [0.8888888888888888, \"#fdca26\"], [1.0, \"#f0f921\"]]}, \"colorway\": [\"#636efa\", \"#EF553B\", \"#00cc96\", \"#ab63fa\", \"#FFA15A\", \"#19d3f3\", \"#FF6692\", \"#B6E880\", \"#FF97FF\", \"#FECB52\"], \"font\": {\"color\": \"#2a3f5f\"}, \"geo\": {\"bgcolor\": \"white\", \"lakecolor\": \"white\", \"landcolor\": \"#E5ECF6\", \"showlakes\": true, \"showland\": true, \"subunitcolor\": \"white\"}, \"hoverlabel\": {\"align\": \"left\"}, \"hovermode\": \"closest\", \"mapbox\": {\"style\": \"light\"}, \"paper_bgcolor\": \"white\", \"plot_bgcolor\": \"#E5ECF6\", \"polar\": {\"angularaxis\": {\"gridcolor\": \"white\", \"linecolor\": \"white\", \"ticks\": \"\"}, \"bgcolor\": \"#E5ECF6\", \"radialaxis\": {\"gridcolor\": \"white\", \"linecolor\": \"white\", \"ticks\": \"\"}}, \"scene\": {\"xaxis\": {\"backgroundcolor\": \"#E5ECF6\", \"gridcolor\": \"white\", \"gridwidth\": 2, \"linecolor\": \"white\", \"showbackground\": true, \"ticks\": \"\", \"zerolinecolor\": \"white\"}, \"yaxis\": {\"backgroundcolor\": \"#E5ECF6\", \"gridcolor\": \"white\", \"gridwidth\": 2, \"linecolor\": \"white\", \"showbackground\": true, \"ticks\": \"\", \"zerolinecolor\": \"white\"}, \"zaxis\": {\"backgroundcolor\": \"#E5ECF6\", \"gridcolor\": \"white\", \"gridwidth\": 2, \"linecolor\": \"white\", \"showbackground\": true, \"ticks\": \"\", \"zerolinecolor\": \"white\"}}, \"shapedefaults\": {\"line\": {\"color\": \"#2a3f5f\"}}, \"ternary\": {\"aaxis\": {\"gridcolor\": \"white\", \"linecolor\": \"white\", \"ticks\": \"\"}, \"baxis\": {\"gridcolor\": \"white\", \"linecolor\": \"white\", \"ticks\": \"\"}, \"bgcolor\": \"#E5ECF6\", \"caxis\": {\"gridcolor\": \"white\", \"linecolor\": \"white\", \"ticks\": \"\"}}, \"title\": {\"x\": 0.05}, \"xaxis\": {\"automargin\": true, \"gridcolor\": \"white\", \"linecolor\": \"white\", \"ticks\": \"\", \"title\": {\"standoff\": 15}, \"zerolinecolor\": \"white\", \"zerolinewidth\": 2}, \"yaxis\": {\"automargin\": true, \"gridcolor\": \"white\", \"linecolor\": \"white\", \"ticks\": \"\", \"title\": {\"standoff\": 15}, \"zerolinecolor\": \"white\", \"zerolinewidth\": 2}}}, \"title\": {\"text\": \"Gaussian Mixture Model Results\"}},                        {\"responsive\": true}                    ).then(function(){\n",
       "                            \n",
       "var gd = document.getElementById('be50cacf-c701-40f7-b1c6-2252e2afcfb5');\n",
       "var x = new MutationObserver(function (mutations, observer) {{\n",
       "        var display = window.getComputedStyle(gd).display;\n",
       "        if (!display || display === 'none') {{\n",
       "            console.log([gd, 'removed!']);\n",
       "            Plotly.purge(gd);\n",
       "            observer.disconnect();\n",
       "        }}\n",
       "}});\n",
       "\n",
       "// Listen for the removal of the full notebook cells\n",
       "var notebookContainer = gd.closest('#notebook-container');\n",
       "if (notebookContainer) {{\n",
       "    x.observe(notebookContainer, {childList: true});\n",
       "}}\n",
       "\n",
       "// Listen for the clearing of the current output cell\n",
       "var outputEl = gd.closest('.output');\n",
       "if (outputEl) {{\n",
       "    x.observe(outputEl, {childList: true});\n",
       "}}\n",
       "\n",
       "                        })                };                });            </script>        </div>"
      ]
     },
     "metadata": {},
     "output_type": "display_data"
    },
    {
     "data": {
      "application/vnd.plotly.v1+json": {
       "config": {
        "plotlyServerURL": "https://plot.ly"
       },
       "data": [
        {
         "geo": "geo",
         "hovertemplate": "<b>%{hovertext}</b><br><br>label=0<br>Latitude=%{lat}<br>Longitude=%{lon}<extra></extra>",
         "hovertext": [
          22859,
          22941,
          22942,
          22944,
          22945,
          22946,
          22947,
          22948,
          22940,
          22949,
          22951,
          22953,
          22961,
          22962,
          23029,
          23030,
          23031,
          22950,
          22939,
          22943,
          22897,
          22936,
          22935,
          22860,
          22938,
          22895
         ],
         "lat": [
          35.81,
          35.91,
          35.95,
          35.93,
          35.91,
          35.92,
          35.93,
          36.04,
          36.01,
          35.95,
          35.94,
          35.92,
          35.75,
          35.75,
          36.05,
          36.05,
          36.05,
          35.87,
          35.96,
          35.86,
          36.05,
          35.94,
          35.95,
          35.81,
          35.93,
          35.9
         ],
         "legendgroup": "0",
         "lon": [
          -83.99,
          -84.09,
          -83.93,
          -84.04,
          -84.09,
          -84.09,
          -84.04,
          -83.89,
          -83.97,
          -83.93,
          -83.99,
          -84.05,
          -83.99,
          -83.99,
          -84,
          -84,
          -84.06,
          -84.1,
          -83.92,
          -84.07,
          -83.92,
          -84.09,
          -83.94,
          -83.98,
          -84.04,
          -84.12
         ],
         "marker": {
          "color": "#636efa"
         },
         "name": "0",
         "showlegend": true,
         "type": "scattergeo"
        },
        {
         "geo": "geo",
         "hovertemplate": "<b>%{hovertext}</b><br><br>label=1<br>Latitude=%{lat}<br>Longitude=%{lon}<extra></extra>",
         "hovertext": [
          22927,
          22928,
          22929,
          22930,
          22931,
          22932,
          22933,
          22934
         ],
         "lat": [
          36.31,
          36.3,
          36.3,
          36.34,
          36.34,
          36.29,
          36.54,
          36.55
         ],
         "legendgroup": "1",
         "lon": [
          -82.37,
          -82.38,
          -82.37,
          -82.37,
          -82.38,
          -82.49,
          -82.52,
          -82.49
         ],
         "marker": {
          "color": "#EF553B"
         },
         "name": "1",
         "showlegend": true,
         "type": "scattergeo"
        },
        {
         "geo": "geo",
         "hovertemplate": "<b>%{hovertext}</b><br><br>label=2<br>Latitude=%{lat}<br>Longitude=%{lon}<extra></extra>",
         "hovertext": [
          22896,
          23026,
          23025,
          22937,
          22913,
          22958,
          22957,
          22952
         ],
         "lat": [
          35.88,
          36.01,
          36.01,
          35.9,
          35.89,
          35.82,
          35.8,
          35.9
         ],
         "legendgroup": "2",
         "lon": [
          -84.18,
          -84.26,
          -84.26,
          -84.15,
          -84.55,
          -84.27,
          -84.26,
          -84.15
         ],
         "marker": {
          "color": "#00cc96"
         },
         "name": "2",
         "showlegend": true,
         "type": "scattergeo"
        },
        {
         "geo": "geo",
         "hovertemplate": "<b>%{hovertext}</b><br><br>label=3<br>Latitude=%{lat}<br>Longitude=%{lon}<extra></extra>",
         "hovertext": [
          22908,
          23027,
          23028,
          23032,
          22987,
          23033
         ],
         "lat": [
          35.71,
          35.8,
          35.81,
          35.83,
          36.2,
          35.88
         ],
         "legendgroup": "3",
         "lon": [
          -83.52,
          -83.58,
          -83.58,
          -83.57,
          -83.35,
          -83.57
         ],
         "marker": {
          "color": "#ab63fa"
         },
         "name": "3",
         "showlegend": true,
         "type": "scattergeo"
        },
        {
         "geo": "geo",
         "hovertemplate": "<b>%{hovertext}</b><br><br>label=Cluster center<br>Latitude=%{lat}<br>Longitude=%{lon}<extra></extra>",
         "hovertext": [
          0,
          1,
          2,
          3
         ],
         "lat": [
          35.92846153846154,
          36.37125,
          35.90125,
          35.87166666666667
         ],
         "legendgroup": "Cluster center",
         "lon": [
          -84.01230769230769,
          -82.42125,
          -84.26,
          -83.52833333333334
         ],
         "marker": {
          "color": "#FFA15A"
         },
         "name": "Cluster center",
         "showlegend": true,
         "type": "scattergeo"
        }
       ],
       "layout": {
        "geo": {
         "center": {},
         "domain": {
          "x": [
           0,
           1
          ],
          "y": [
           0,
           1
          ]
         },
         "fitbounds": "locations",
         "scope": "usa"
        },
        "legend": {
         "title": {
          "text": "label"
         },
         "tracegroupgap": 0
        },
        "template": {
         "data": {
          "bar": [
           {
            "error_x": {
             "color": "#2a3f5f"
            },
            "error_y": {
             "color": "#2a3f5f"
            },
            "marker": {
             "line": {
              "color": "#E5ECF6",
              "width": 0.5
             }
            },
            "type": "bar"
           }
          ],
          "barpolar": [
           {
            "marker": {
             "line": {
              "color": "#E5ECF6",
              "width": 0.5
             }
            },
            "type": "barpolar"
           }
          ],
          "carpet": [
           {
            "aaxis": {
             "endlinecolor": "#2a3f5f",
             "gridcolor": "white",
             "linecolor": "white",
             "minorgridcolor": "white",
             "startlinecolor": "#2a3f5f"
            },
            "baxis": {
             "endlinecolor": "#2a3f5f",
             "gridcolor": "white",
             "linecolor": "white",
             "minorgridcolor": "white",
             "startlinecolor": "#2a3f5f"
            },
            "type": "carpet"
           }
          ],
          "choropleth": [
           {
            "colorbar": {
             "outlinewidth": 0,
             "ticks": ""
            },
            "type": "choropleth"
           }
          ],
          "contour": [
           {
            "colorbar": {
             "outlinewidth": 0,
             "ticks": ""
            },
            "colorscale": [
             [
              0,
              "#0d0887"
             ],
             [
              0.1111111111111111,
              "#46039f"
             ],
             [
              0.2222222222222222,
              "#7201a8"
             ],
             [
              0.3333333333333333,
              "#9c179e"
             ],
             [
              0.4444444444444444,
              "#bd3786"
             ],
             [
              0.5555555555555556,
              "#d8576b"
             ],
             [
              0.6666666666666666,
              "#ed7953"
             ],
             [
              0.7777777777777778,
              "#fb9f3a"
             ],
             [
              0.8888888888888888,
              "#fdca26"
             ],
             [
              1,
              "#f0f921"
             ]
            ],
            "type": "contour"
           }
          ],
          "contourcarpet": [
           {
            "colorbar": {
             "outlinewidth": 0,
             "ticks": ""
            },
            "type": "contourcarpet"
           }
          ],
          "heatmap": [
           {
            "colorbar": {
             "outlinewidth": 0,
             "ticks": ""
            },
            "colorscale": [
             [
              0,
              "#0d0887"
             ],
             [
              0.1111111111111111,
              "#46039f"
             ],
             [
              0.2222222222222222,
              "#7201a8"
             ],
             [
              0.3333333333333333,
              "#9c179e"
             ],
             [
              0.4444444444444444,
              "#bd3786"
             ],
             [
              0.5555555555555556,
              "#d8576b"
             ],
             [
              0.6666666666666666,
              "#ed7953"
             ],
             [
              0.7777777777777778,
              "#fb9f3a"
             ],
             [
              0.8888888888888888,
              "#fdca26"
             ],
             [
              1,
              "#f0f921"
             ]
            ],
            "type": "heatmap"
           }
          ],
          "heatmapgl": [
           {
            "colorbar": {
             "outlinewidth": 0,
             "ticks": ""
            },
            "colorscale": [
             [
              0,
              "#0d0887"
             ],
             [
              0.1111111111111111,
              "#46039f"
             ],
             [
              0.2222222222222222,
              "#7201a8"
             ],
             [
              0.3333333333333333,
              "#9c179e"
             ],
             [
              0.4444444444444444,
              "#bd3786"
             ],
             [
              0.5555555555555556,
              "#d8576b"
             ],
             [
              0.6666666666666666,
              "#ed7953"
             ],
             [
              0.7777777777777778,
              "#fb9f3a"
             ],
             [
              0.8888888888888888,
              "#fdca26"
             ],
             [
              1,
              "#f0f921"
             ]
            ],
            "type": "heatmapgl"
           }
          ],
          "histogram": [
           {
            "marker": {
             "colorbar": {
              "outlinewidth": 0,
              "ticks": ""
             }
            },
            "type": "histogram"
           }
          ],
          "histogram2d": [
           {
            "colorbar": {
             "outlinewidth": 0,
             "ticks": ""
            },
            "colorscale": [
             [
              0,
              "#0d0887"
             ],
             [
              0.1111111111111111,
              "#46039f"
             ],
             [
              0.2222222222222222,
              "#7201a8"
             ],
             [
              0.3333333333333333,
              "#9c179e"
             ],
             [
              0.4444444444444444,
              "#bd3786"
             ],
             [
              0.5555555555555556,
              "#d8576b"
             ],
             [
              0.6666666666666666,
              "#ed7953"
             ],
             [
              0.7777777777777778,
              "#fb9f3a"
             ],
             [
              0.8888888888888888,
              "#fdca26"
             ],
             [
              1,
              "#f0f921"
             ]
            ],
            "type": "histogram2d"
           }
          ],
          "histogram2dcontour": [
           {
            "colorbar": {
             "outlinewidth": 0,
             "ticks": ""
            },
            "colorscale": [
             [
              0,
              "#0d0887"
             ],
             [
              0.1111111111111111,
              "#46039f"
             ],
             [
              0.2222222222222222,
              "#7201a8"
             ],
             [
              0.3333333333333333,
              "#9c179e"
             ],
             [
              0.4444444444444444,
              "#bd3786"
             ],
             [
              0.5555555555555556,
              "#d8576b"
             ],
             [
              0.6666666666666666,
              "#ed7953"
             ],
             [
              0.7777777777777778,
              "#fb9f3a"
             ],
             [
              0.8888888888888888,
              "#fdca26"
             ],
             [
              1,
              "#f0f921"
             ]
            ],
            "type": "histogram2dcontour"
           }
          ],
          "mesh3d": [
           {
            "colorbar": {
             "outlinewidth": 0,
             "ticks": ""
            },
            "type": "mesh3d"
           }
          ],
          "parcoords": [
           {
            "line": {
             "colorbar": {
              "outlinewidth": 0,
              "ticks": ""
             }
            },
            "type": "parcoords"
           }
          ],
          "pie": [
           {
            "automargin": true,
            "type": "pie"
           }
          ],
          "scatter": [
           {
            "marker": {
             "colorbar": {
              "outlinewidth": 0,
              "ticks": ""
             }
            },
            "type": "scatter"
           }
          ],
          "scatter3d": [
           {
            "line": {
             "colorbar": {
              "outlinewidth": 0,
              "ticks": ""
             }
            },
            "marker": {
             "colorbar": {
              "outlinewidth": 0,
              "ticks": ""
             }
            },
            "type": "scatter3d"
           }
          ],
          "scattercarpet": [
           {
            "marker": {
             "colorbar": {
              "outlinewidth": 0,
              "ticks": ""
             }
            },
            "type": "scattercarpet"
           }
          ],
          "scattergeo": [
           {
            "marker": {
             "colorbar": {
              "outlinewidth": 0,
              "ticks": ""
             }
            },
            "type": "scattergeo"
           }
          ],
          "scattergl": [
           {
            "marker": {
             "colorbar": {
              "outlinewidth": 0,
              "ticks": ""
             }
            },
            "type": "scattergl"
           }
          ],
          "scattermapbox": [
           {
            "marker": {
             "colorbar": {
              "outlinewidth": 0,
              "ticks": ""
             }
            },
            "type": "scattermapbox"
           }
          ],
          "scatterpolar": [
           {
            "marker": {
             "colorbar": {
              "outlinewidth": 0,
              "ticks": ""
             }
            },
            "type": "scatterpolar"
           }
          ],
          "scatterpolargl": [
           {
            "marker": {
             "colorbar": {
              "outlinewidth": 0,
              "ticks": ""
             }
            },
            "type": "scatterpolargl"
           }
          ],
          "scatterternary": [
           {
            "marker": {
             "colorbar": {
              "outlinewidth": 0,
              "ticks": ""
             }
            },
            "type": "scatterternary"
           }
          ],
          "surface": [
           {
            "colorbar": {
             "outlinewidth": 0,
             "ticks": ""
            },
            "colorscale": [
             [
              0,
              "#0d0887"
             ],
             [
              0.1111111111111111,
              "#46039f"
             ],
             [
              0.2222222222222222,
              "#7201a8"
             ],
             [
              0.3333333333333333,
              "#9c179e"
             ],
             [
              0.4444444444444444,
              "#bd3786"
             ],
             [
              0.5555555555555556,
              "#d8576b"
             ],
             [
              0.6666666666666666,
              "#ed7953"
             ],
             [
              0.7777777777777778,
              "#fb9f3a"
             ],
             [
              0.8888888888888888,
              "#fdca26"
             ],
             [
              1,
              "#f0f921"
             ]
            ],
            "type": "surface"
           }
          ],
          "table": [
           {
            "cells": {
             "fill": {
              "color": "#EBF0F8"
             },
             "line": {
              "color": "white"
             }
            },
            "header": {
             "fill": {
              "color": "#C8D4E3"
             },
             "line": {
              "color": "white"
             }
            },
            "type": "table"
           }
          ]
         },
         "layout": {
          "annotationdefaults": {
           "arrowcolor": "#2a3f5f",
           "arrowhead": 0,
           "arrowwidth": 1
          },
          "coloraxis": {
           "colorbar": {
            "outlinewidth": 0,
            "ticks": ""
           }
          },
          "colorscale": {
           "diverging": [
            [
             0,
             "#8e0152"
            ],
            [
             0.1,
             "#c51b7d"
            ],
            [
             0.2,
             "#de77ae"
            ],
            [
             0.3,
             "#f1b6da"
            ],
            [
             0.4,
             "#fde0ef"
            ],
            [
             0.5,
             "#f7f7f7"
            ],
            [
             0.6,
             "#e6f5d0"
            ],
            [
             0.7,
             "#b8e186"
            ],
            [
             0.8,
             "#7fbc41"
            ],
            [
             0.9,
             "#4d9221"
            ],
            [
             1,
             "#276419"
            ]
           ],
           "sequential": [
            [
             0,
             "#0d0887"
            ],
            [
             0.1111111111111111,
             "#46039f"
            ],
            [
             0.2222222222222222,
             "#7201a8"
            ],
            [
             0.3333333333333333,
             "#9c179e"
            ],
            [
             0.4444444444444444,
             "#bd3786"
            ],
            [
             0.5555555555555556,
             "#d8576b"
            ],
            [
             0.6666666666666666,
             "#ed7953"
            ],
            [
             0.7777777777777778,
             "#fb9f3a"
            ],
            [
             0.8888888888888888,
             "#fdca26"
            ],
            [
             1,
             "#f0f921"
            ]
           ],
           "sequentialminus": [
            [
             0,
             "#0d0887"
            ],
            [
             0.1111111111111111,
             "#46039f"
            ],
            [
             0.2222222222222222,
             "#7201a8"
            ],
            [
             0.3333333333333333,
             "#9c179e"
            ],
            [
             0.4444444444444444,
             "#bd3786"
            ],
            [
             0.5555555555555556,
             "#d8576b"
            ],
            [
             0.6666666666666666,
             "#ed7953"
            ],
            [
             0.7777777777777778,
             "#fb9f3a"
            ],
            [
             0.8888888888888888,
             "#fdca26"
            ],
            [
             1,
             "#f0f921"
            ]
           ]
          },
          "colorway": [
           "#636efa",
           "#EF553B",
           "#00cc96",
           "#ab63fa",
           "#FFA15A",
           "#19d3f3",
           "#FF6692",
           "#B6E880",
           "#FF97FF",
           "#FECB52"
          ],
          "font": {
           "color": "#2a3f5f"
          },
          "geo": {
           "bgcolor": "white",
           "lakecolor": "white",
           "landcolor": "#E5ECF6",
           "showlakes": true,
           "showland": true,
           "subunitcolor": "white"
          },
          "hoverlabel": {
           "align": "left"
          },
          "hovermode": "closest",
          "mapbox": {
           "style": "light"
          },
          "paper_bgcolor": "white",
          "plot_bgcolor": "#E5ECF6",
          "polar": {
           "angularaxis": {
            "gridcolor": "white",
            "linecolor": "white",
            "ticks": ""
           },
           "bgcolor": "#E5ECF6",
           "radialaxis": {
            "gridcolor": "white",
            "linecolor": "white",
            "ticks": ""
           }
          },
          "scene": {
           "xaxis": {
            "backgroundcolor": "#E5ECF6",
            "gridcolor": "white",
            "gridwidth": 2,
            "linecolor": "white",
            "showbackground": true,
            "ticks": "",
            "zerolinecolor": "white"
           },
           "yaxis": {
            "backgroundcolor": "#E5ECF6",
            "gridcolor": "white",
            "gridwidth": 2,
            "linecolor": "white",
            "showbackground": true,
            "ticks": "",
            "zerolinecolor": "white"
           },
           "zaxis": {
            "backgroundcolor": "#E5ECF6",
            "gridcolor": "white",
            "gridwidth": 2,
            "linecolor": "white",
            "showbackground": true,
            "ticks": "",
            "zerolinecolor": "white"
           }
          },
          "shapedefaults": {
           "line": {
            "color": "#2a3f5f"
           }
          },
          "ternary": {
           "aaxis": {
            "gridcolor": "white",
            "linecolor": "white",
            "ticks": ""
           },
           "baxis": {
            "gridcolor": "white",
            "linecolor": "white",
            "ticks": ""
           },
           "bgcolor": "#E5ECF6",
           "caxis": {
            "gridcolor": "white",
            "linecolor": "white",
            "ticks": ""
           }
          },
          "title": {
           "x": 0.05
          },
          "xaxis": {
           "automargin": true,
           "gridcolor": "white",
           "linecolor": "white",
           "ticks": "",
           "title": {
            "standoff": 15
           },
           "zerolinecolor": "white",
           "zerolinewidth": 2
          },
          "yaxis": {
           "automargin": true,
           "gridcolor": "white",
           "linecolor": "white",
           "ticks": "",
           "title": {
            "standoff": 15
           },
           "zerolinecolor": "white",
           "zerolinewidth": 2
          }
         }
        },
        "title": {
         "text": "KMeans Results"
        }
       }
      },
      "text/html": [
       "<div>                            <div id=\"fb4b8134-a2b4-4d3a-b5da-714899270e29\" class=\"plotly-graph-div\" style=\"height:525px; width:100%;\"></div>            <script type=\"text/javascript\">                require([\"plotly\"], function(Plotly) {                    window.PLOTLYENV=window.PLOTLYENV || {};                                    if (document.getElementById(\"fb4b8134-a2b4-4d3a-b5da-714899270e29\")) {                    Plotly.newPlot(                        \"fb4b8134-a2b4-4d3a-b5da-714899270e29\",                        [{\"geo\": \"geo\", \"hovertemplate\": \"<b>%{hovertext}</b><br><br>label=0<br>Latitude=%{lat}<br>Longitude=%{lon}<extra></extra>\", \"hovertext\": [22859.0, 22941.0, 22942.0, 22944.0, 22945.0, 22946.0, 22947.0, 22948.0, 22940.0, 22949.0, 22951.0, 22953.0, 22961.0, 22962.0, 23029.0, 23030.0, 23031.0, 22950.0, 22939.0, 22943.0, 22897.0, 22936.0, 22935.0, 22860.0, 22938.0, 22895.0], \"lat\": [35.81, 35.91, 35.95, 35.93, 35.91, 35.92, 35.93, 36.04, 36.01, 35.95, 35.94, 35.92, 35.75, 35.75, 36.05, 36.05, 36.05, 35.87, 35.96, 35.86, 36.05, 35.94, 35.95, 35.81, 35.93, 35.9], \"legendgroup\": \"0\", \"lon\": [-83.99, -84.09, -83.93, -84.04, -84.09, -84.09, -84.04, -83.89, -83.97, -83.93, -83.99, -84.05, -83.99, -83.99, -84.0, -84.0, -84.06, -84.1, -83.92, -84.07, -83.92, -84.09, -83.94, -83.98, -84.04, -84.12], \"marker\": {\"color\": \"#636efa\"}, \"name\": \"0\", \"showlegend\": true, \"type\": \"scattergeo\"}, {\"geo\": \"geo\", \"hovertemplate\": \"<b>%{hovertext}</b><br><br>label=1<br>Latitude=%{lat}<br>Longitude=%{lon}<extra></extra>\", \"hovertext\": [22927.0, 22928.0, 22929.0, 22930.0, 22931.0, 22932.0, 22933.0, 22934.0], \"lat\": [36.31, 36.3, 36.3, 36.34, 36.34, 36.29, 36.54, 36.55], \"legendgroup\": \"1\", \"lon\": [-82.37, -82.38, -82.37, -82.37, -82.38, -82.49, -82.52, -82.49], \"marker\": {\"color\": \"#EF553B\"}, \"name\": \"1\", \"showlegend\": true, \"type\": \"scattergeo\"}, {\"geo\": \"geo\", \"hovertemplate\": \"<b>%{hovertext}</b><br><br>label=2<br>Latitude=%{lat}<br>Longitude=%{lon}<extra></extra>\", \"hovertext\": [22896.0, 23026.0, 23025.0, 22937.0, 22913.0, 22958.0, 22957.0, 22952.0], \"lat\": [35.88, 36.01, 36.01, 35.9, 35.89, 35.82, 35.8, 35.9], \"legendgroup\": \"2\", \"lon\": [-84.18, -84.26, -84.26, -84.15, -84.55, -84.27, -84.26, -84.15], \"marker\": {\"color\": \"#00cc96\"}, \"name\": \"2\", \"showlegend\": true, \"type\": \"scattergeo\"}, {\"geo\": \"geo\", \"hovertemplate\": \"<b>%{hovertext}</b><br><br>label=3<br>Latitude=%{lat}<br>Longitude=%{lon}<extra></extra>\", \"hovertext\": [22908.0, 23027.0, 23028.0, 23032.0, 22987.0, 23033.0], \"lat\": [35.71, 35.8, 35.81, 35.83, 36.2, 35.88], \"legendgroup\": \"3\", \"lon\": [-83.52, -83.58, -83.58, -83.57, -83.35, -83.57], \"marker\": {\"color\": \"#ab63fa\"}, \"name\": \"3\", \"showlegend\": true, \"type\": \"scattergeo\"}, {\"geo\": \"geo\", \"hovertemplate\": \"<b>%{hovertext}</b><br><br>label=Cluster center<br>Latitude=%{lat}<br>Longitude=%{lon}<extra></extra>\", \"hovertext\": [0.0, 1.0, 2.0, 3.0], \"lat\": [35.92846153846154, 36.37125, 35.90125, 35.87166666666667], \"legendgroup\": \"Cluster center\", \"lon\": [-84.01230769230769, -82.42125, -84.26, -83.52833333333334], \"marker\": {\"color\": \"#FFA15A\"}, \"name\": \"Cluster center\", \"showlegend\": true, \"type\": \"scattergeo\"}],                        {\"geo\": {\"center\": {}, \"domain\": {\"x\": [0.0, 1.0], \"y\": [0.0, 1.0]}, \"fitbounds\": \"locations\", \"scope\": \"usa\"}, \"legend\": {\"title\": {\"text\": \"label\"}, \"tracegroupgap\": 0}, \"template\": {\"data\": {\"bar\": [{\"error_x\": {\"color\": \"#2a3f5f\"}, \"error_y\": {\"color\": \"#2a3f5f\"}, \"marker\": {\"line\": {\"color\": \"#E5ECF6\", \"width\": 0.5}}, \"type\": \"bar\"}], \"barpolar\": [{\"marker\": {\"line\": {\"color\": \"#E5ECF6\", \"width\": 0.5}}, \"type\": \"barpolar\"}], \"carpet\": [{\"aaxis\": {\"endlinecolor\": \"#2a3f5f\", \"gridcolor\": \"white\", \"linecolor\": \"white\", \"minorgridcolor\": \"white\", \"startlinecolor\": \"#2a3f5f\"}, \"baxis\": {\"endlinecolor\": \"#2a3f5f\", \"gridcolor\": \"white\", \"linecolor\": \"white\", \"minorgridcolor\": \"white\", \"startlinecolor\": \"#2a3f5f\"}, \"type\": \"carpet\"}], \"choropleth\": [{\"colorbar\": {\"outlinewidth\": 0, \"ticks\": \"\"}, \"type\": \"choropleth\"}], \"contour\": [{\"colorbar\": {\"outlinewidth\": 0, \"ticks\": \"\"}, \"colorscale\": [[0.0, \"#0d0887\"], [0.1111111111111111, \"#46039f\"], [0.2222222222222222, \"#7201a8\"], [0.3333333333333333, \"#9c179e\"], [0.4444444444444444, \"#bd3786\"], [0.5555555555555556, \"#d8576b\"], [0.6666666666666666, \"#ed7953\"], [0.7777777777777778, \"#fb9f3a\"], [0.8888888888888888, \"#fdca26\"], [1.0, \"#f0f921\"]], \"type\": \"contour\"}], \"contourcarpet\": [{\"colorbar\": {\"outlinewidth\": 0, \"ticks\": \"\"}, \"type\": \"contourcarpet\"}], \"heatmap\": [{\"colorbar\": {\"outlinewidth\": 0, \"ticks\": \"\"}, \"colorscale\": [[0.0, \"#0d0887\"], [0.1111111111111111, \"#46039f\"], [0.2222222222222222, \"#7201a8\"], [0.3333333333333333, \"#9c179e\"], [0.4444444444444444, \"#bd3786\"], [0.5555555555555556, \"#d8576b\"], [0.6666666666666666, \"#ed7953\"], [0.7777777777777778, \"#fb9f3a\"], [0.8888888888888888, \"#fdca26\"], [1.0, \"#f0f921\"]], \"type\": \"heatmap\"}], \"heatmapgl\": [{\"colorbar\": {\"outlinewidth\": 0, \"ticks\": \"\"}, \"colorscale\": [[0.0, \"#0d0887\"], [0.1111111111111111, \"#46039f\"], [0.2222222222222222, \"#7201a8\"], [0.3333333333333333, \"#9c179e\"], [0.4444444444444444, \"#bd3786\"], [0.5555555555555556, \"#d8576b\"], [0.6666666666666666, \"#ed7953\"], [0.7777777777777778, \"#fb9f3a\"], [0.8888888888888888, \"#fdca26\"], [1.0, \"#f0f921\"]], \"type\": \"heatmapgl\"}], \"histogram\": [{\"marker\": {\"colorbar\": {\"outlinewidth\": 0, \"ticks\": \"\"}}, \"type\": \"histogram\"}], \"histogram2d\": [{\"colorbar\": {\"outlinewidth\": 0, \"ticks\": \"\"}, \"colorscale\": [[0.0, \"#0d0887\"], [0.1111111111111111, \"#46039f\"], [0.2222222222222222, \"#7201a8\"], [0.3333333333333333, \"#9c179e\"], [0.4444444444444444, \"#bd3786\"], [0.5555555555555556, \"#d8576b\"], [0.6666666666666666, \"#ed7953\"], [0.7777777777777778, \"#fb9f3a\"], [0.8888888888888888, \"#fdca26\"], [1.0, \"#f0f921\"]], \"type\": \"histogram2d\"}], \"histogram2dcontour\": [{\"colorbar\": {\"outlinewidth\": 0, \"ticks\": \"\"}, \"colorscale\": [[0.0, \"#0d0887\"], [0.1111111111111111, \"#46039f\"], [0.2222222222222222, \"#7201a8\"], [0.3333333333333333, \"#9c179e\"], [0.4444444444444444, \"#bd3786\"], [0.5555555555555556, \"#d8576b\"], [0.6666666666666666, \"#ed7953\"], [0.7777777777777778, \"#fb9f3a\"], [0.8888888888888888, \"#fdca26\"], [1.0, \"#f0f921\"]], \"type\": \"histogram2dcontour\"}], \"mesh3d\": [{\"colorbar\": {\"outlinewidth\": 0, \"ticks\": \"\"}, \"type\": \"mesh3d\"}], \"parcoords\": [{\"line\": {\"colorbar\": {\"outlinewidth\": 0, \"ticks\": \"\"}}, \"type\": \"parcoords\"}], \"pie\": [{\"automargin\": true, \"type\": \"pie\"}], \"scatter\": [{\"marker\": {\"colorbar\": {\"outlinewidth\": 0, \"ticks\": \"\"}}, \"type\": \"scatter\"}], \"scatter3d\": [{\"line\": {\"colorbar\": {\"outlinewidth\": 0, \"ticks\": \"\"}}, \"marker\": {\"colorbar\": {\"outlinewidth\": 0, \"ticks\": \"\"}}, \"type\": \"scatter3d\"}], \"scattercarpet\": [{\"marker\": {\"colorbar\": {\"outlinewidth\": 0, \"ticks\": \"\"}}, \"type\": \"scattercarpet\"}], \"scattergeo\": [{\"marker\": {\"colorbar\": {\"outlinewidth\": 0, \"ticks\": \"\"}}, \"type\": \"scattergeo\"}], \"scattergl\": [{\"marker\": {\"colorbar\": {\"outlinewidth\": 0, \"ticks\": \"\"}}, \"type\": \"scattergl\"}], \"scattermapbox\": [{\"marker\": {\"colorbar\": {\"outlinewidth\": 0, \"ticks\": \"\"}}, \"type\": \"scattermapbox\"}], \"scatterpolar\": [{\"marker\": {\"colorbar\": {\"outlinewidth\": 0, \"ticks\": \"\"}}, \"type\": \"scatterpolar\"}], \"scatterpolargl\": [{\"marker\": {\"colorbar\": {\"outlinewidth\": 0, \"ticks\": \"\"}}, \"type\": \"scatterpolargl\"}], \"scatterternary\": [{\"marker\": {\"colorbar\": {\"outlinewidth\": 0, \"ticks\": \"\"}}, \"type\": \"scatterternary\"}], \"surface\": [{\"colorbar\": {\"outlinewidth\": 0, \"ticks\": \"\"}, \"colorscale\": [[0.0, \"#0d0887\"], [0.1111111111111111, \"#46039f\"], [0.2222222222222222, \"#7201a8\"], [0.3333333333333333, \"#9c179e\"], [0.4444444444444444, \"#bd3786\"], [0.5555555555555556, \"#d8576b\"], [0.6666666666666666, \"#ed7953\"], [0.7777777777777778, \"#fb9f3a\"], [0.8888888888888888, \"#fdca26\"], [1.0, \"#f0f921\"]], \"type\": \"surface\"}], \"table\": [{\"cells\": {\"fill\": {\"color\": \"#EBF0F8\"}, \"line\": {\"color\": \"white\"}}, \"header\": {\"fill\": {\"color\": \"#C8D4E3\"}, \"line\": {\"color\": \"white\"}}, \"type\": \"table\"}]}, \"layout\": {\"annotationdefaults\": {\"arrowcolor\": \"#2a3f5f\", \"arrowhead\": 0, \"arrowwidth\": 1}, \"coloraxis\": {\"colorbar\": {\"outlinewidth\": 0, \"ticks\": \"\"}}, \"colorscale\": {\"diverging\": [[0, \"#8e0152\"], [0.1, \"#c51b7d\"], [0.2, \"#de77ae\"], [0.3, \"#f1b6da\"], [0.4, \"#fde0ef\"], [0.5, \"#f7f7f7\"], [0.6, \"#e6f5d0\"], [0.7, \"#b8e186\"], [0.8, \"#7fbc41\"], [0.9, \"#4d9221\"], [1, \"#276419\"]], \"sequential\": [[0.0, \"#0d0887\"], [0.1111111111111111, \"#46039f\"], [0.2222222222222222, \"#7201a8\"], [0.3333333333333333, \"#9c179e\"], [0.4444444444444444, \"#bd3786\"], [0.5555555555555556, \"#d8576b\"], [0.6666666666666666, \"#ed7953\"], [0.7777777777777778, \"#fb9f3a\"], [0.8888888888888888, \"#fdca26\"], [1.0, \"#f0f921\"]], \"sequentialminus\": [[0.0, \"#0d0887\"], [0.1111111111111111, \"#46039f\"], [0.2222222222222222, \"#7201a8\"], [0.3333333333333333, \"#9c179e\"], [0.4444444444444444, \"#bd3786\"], [0.5555555555555556, \"#d8576b\"], [0.6666666666666666, \"#ed7953\"], [0.7777777777777778, \"#fb9f3a\"], [0.8888888888888888, \"#fdca26\"], [1.0, \"#f0f921\"]]}, \"colorway\": [\"#636efa\", \"#EF553B\", \"#00cc96\", \"#ab63fa\", \"#FFA15A\", \"#19d3f3\", \"#FF6692\", \"#B6E880\", \"#FF97FF\", \"#FECB52\"], \"font\": {\"color\": \"#2a3f5f\"}, \"geo\": {\"bgcolor\": \"white\", \"lakecolor\": \"white\", \"landcolor\": \"#E5ECF6\", \"showlakes\": true, \"showland\": true, \"subunitcolor\": \"white\"}, \"hoverlabel\": {\"align\": \"left\"}, \"hovermode\": \"closest\", \"mapbox\": {\"style\": \"light\"}, \"paper_bgcolor\": \"white\", \"plot_bgcolor\": \"#E5ECF6\", \"polar\": {\"angularaxis\": {\"gridcolor\": \"white\", \"linecolor\": \"white\", \"ticks\": \"\"}, \"bgcolor\": \"#E5ECF6\", \"radialaxis\": {\"gridcolor\": \"white\", \"linecolor\": \"white\", \"ticks\": \"\"}}, \"scene\": {\"xaxis\": {\"backgroundcolor\": \"#E5ECF6\", \"gridcolor\": \"white\", \"gridwidth\": 2, \"linecolor\": \"white\", \"showbackground\": true, \"ticks\": \"\", \"zerolinecolor\": \"white\"}, \"yaxis\": {\"backgroundcolor\": \"#E5ECF6\", \"gridcolor\": \"white\", \"gridwidth\": 2, \"linecolor\": \"white\", \"showbackground\": true, \"ticks\": \"\", \"zerolinecolor\": \"white\"}, \"zaxis\": {\"backgroundcolor\": \"#E5ECF6\", \"gridcolor\": \"white\", \"gridwidth\": 2, \"linecolor\": \"white\", \"showbackground\": true, \"ticks\": \"\", \"zerolinecolor\": \"white\"}}, \"shapedefaults\": {\"line\": {\"color\": \"#2a3f5f\"}}, \"ternary\": {\"aaxis\": {\"gridcolor\": \"white\", \"linecolor\": \"white\", \"ticks\": \"\"}, \"baxis\": {\"gridcolor\": \"white\", \"linecolor\": \"white\", \"ticks\": \"\"}, \"bgcolor\": \"#E5ECF6\", \"caxis\": {\"gridcolor\": \"white\", \"linecolor\": \"white\", \"ticks\": \"\"}}, \"title\": {\"x\": 0.05}, \"xaxis\": {\"automargin\": true, \"gridcolor\": \"white\", \"linecolor\": \"white\", \"ticks\": \"\", \"title\": {\"standoff\": 15}, \"zerolinecolor\": \"white\", \"zerolinewidth\": 2}, \"yaxis\": {\"automargin\": true, \"gridcolor\": \"white\", \"linecolor\": \"white\", \"ticks\": \"\", \"title\": {\"standoff\": 15}, \"zerolinecolor\": \"white\", \"zerolinewidth\": 2}}}, \"title\": {\"text\": \"KMeans Results\"}},                        {\"responsive\": true}                    ).then(function(){\n",
       "                            \n",
       "var gd = document.getElementById('fb4b8134-a2b4-4d3a-b5da-714899270e29');\n",
       "var x = new MutationObserver(function (mutations, observer) {{\n",
       "        var display = window.getComputedStyle(gd).display;\n",
       "        if (!display || display === 'none') {{\n",
       "            console.log([gd, 'removed!']);\n",
       "            Plotly.purge(gd);\n",
       "            observer.disconnect();\n",
       "        }}\n",
       "}});\n",
       "\n",
       "// Listen for the removal of the full notebook cells\n",
       "var notebookContainer = gd.closest('#notebook-container');\n",
       "if (notebookContainer) {{\n",
       "    x.observe(notebookContainer, {childList: true});\n",
       "}}\n",
       "\n",
       "// Listen for the clearing of the current output cell\n",
       "var outputEl = gd.closest('.output');\n",
       "if (outputEl) {{\n",
       "    x.observe(outputEl, {childList: true});\n",
       "}}\n",
       "\n",
       "                        })                };                });            </script>        </div>"
      ]
     },
     "metadata": {},
     "output_type": "display_data"
    },
    {
     "data": {
      "application/javascript": [
       "\n",
       "            setTimeout(function() {\n",
       "                var nbb_cell_id = 70;\n",
       "                var nbb_unformatted_code = \"plot_df = lat_lon.copy()\\nplot_df[\\\"label\\\"] = gauss.predict(lat_lon)\\nplot_df = plot_df.sort_values(\\\"label\\\")\\n\\ncenters_df = pd.DataFrame(gauss.means_, columns=[\\\"Latitude\\\", \\\"Longitude\\\"])\\ncenters_df[\\\"label\\\"] = \\\"Cluster center\\\"\\n\\nplot_df = pd.concat((plot_df, centers_df), sort=False)\\n\\nfig = px.scatter_geo(\\n    plot_df,\\n    \\\"Latitude\\\",\\n    \\\"Longitude\\\",\\n    color=\\\"label\\\",\\n    scope=\\\"usa\\\",\\n    title=\\\"Gaussian Mixture Model Results\\\",\\n    hover_name=plot_df.index,\\n)\\n\\nfig.update_geos(fitbounds=\\\"locations\\\")\\nfig.show()\\n\\n# ----------------------------------------------------------------------------\\n\\nplot_df = lat_lon.copy()\\nplot_df[\\\"label\\\"] = kmeans.labels_\\nplot_df = plot_df.sort_values(\\\"label\\\")\\n\\ncenters_df = pd.DataFrame(kmeans.cluster_centers_, columns=[\\\"Latitude\\\", \\\"Longitude\\\"])\\ncenters_df[\\\"label\\\"] = \\\"Cluster center\\\"\\n\\nplot_df = pd.concat((plot_df, centers_df), sort=False)\\n\\nfig = px.scatter_geo(\\n    plot_df,\\n    \\\"Latitude\\\",\\n    \\\"Longitude\\\",\\n    color=\\\"label\\\",\\n    scope=\\\"usa\\\",\\n    title=\\\"KMeans Results\\\",\\n    hover_name=plot_df.index,\\n)\\n\\nfig.update_geos(fitbounds=\\\"locations\\\")\\nfig.show()\";\n",
       "                var nbb_formatted_code = \"plot_df = lat_lon.copy()\\nplot_df[\\\"label\\\"] = gauss.predict(lat_lon)\\nplot_df = plot_df.sort_values(\\\"label\\\")\\n\\ncenters_df = pd.DataFrame(gauss.means_, columns=[\\\"Latitude\\\", \\\"Longitude\\\"])\\ncenters_df[\\\"label\\\"] = \\\"Cluster center\\\"\\n\\nplot_df = pd.concat((plot_df, centers_df), sort=False)\\n\\nfig = px.scatter_geo(\\n    plot_df,\\n    \\\"Latitude\\\",\\n    \\\"Longitude\\\",\\n    color=\\\"label\\\",\\n    scope=\\\"usa\\\",\\n    title=\\\"Gaussian Mixture Model Results\\\",\\n    hover_name=plot_df.index,\\n)\\n\\nfig.update_geos(fitbounds=\\\"locations\\\")\\nfig.show()\\n\\n# ----------------------------------------------------------------------------\\n\\nplot_df = lat_lon.copy()\\nplot_df[\\\"label\\\"] = kmeans.labels_\\nplot_df = plot_df.sort_values(\\\"label\\\")\\n\\ncenters_df = pd.DataFrame(kmeans.cluster_centers_, columns=[\\\"Latitude\\\", \\\"Longitude\\\"])\\ncenters_df[\\\"label\\\"] = \\\"Cluster center\\\"\\n\\nplot_df = pd.concat((plot_df, centers_df), sort=False)\\n\\nfig = px.scatter_geo(\\n    plot_df,\\n    \\\"Latitude\\\",\\n    \\\"Longitude\\\",\\n    color=\\\"label\\\",\\n    scope=\\\"usa\\\",\\n    title=\\\"KMeans Results\\\",\\n    hover_name=plot_df.index,\\n)\\n\\nfig.update_geos(fitbounds=\\\"locations\\\")\\nfig.show()\";\n",
       "                var nbb_cells = Jupyter.notebook.get_cells();\n",
       "                for (var i = 0; i < nbb_cells.length; ++i) {\n",
       "                    if (nbb_cells[i].input_prompt_number == nbb_cell_id) {\n",
       "                        if (nbb_cells[i].get_text() == nbb_unformatted_code) {\n",
       "                             nbb_cells[i].set_text(nbb_formatted_code);\n",
       "                        }\n",
       "                        break;\n",
       "                    }\n",
       "                }\n",
       "            }, 500);\n",
       "            "
      ],
      "text/plain": [
       "<IPython.core.display.Javascript object>"
      ]
     },
     "metadata": {},
     "output_type": "display_data"
    }
   ],
   "source": [
    "plot_df = lat_lon.copy()\n",
    "plot_df[\"label\"] = gauss.predict(lat_lon)\n",
    "plot_df = plot_df.sort_values(\"label\")\n",
    "\n",
    "centers_df = pd.DataFrame(gauss.means_, columns=[\"Latitude\", \"Longitude\"])\n",
    "centers_df[\"label\"] = \"Cluster center\"\n",
    "\n",
    "plot_df = pd.concat((plot_df, centers_df), sort=False)\n",
    "\n",
    "fig = px.scatter_geo(\n",
    "    plot_df,\n",
    "    \"Latitude\",\n",
    "    \"Longitude\",\n",
    "    color=\"label\",\n",
    "    scope=\"usa\",\n",
    "    title=\"Gaussian Mixture Model Results\",\n",
    "    hover_name=plot_df.index,\n",
    ")\n",
    "\n",
    "fig.update_geos(fitbounds=\"locations\")\n",
    "fig.show()\n",
    "\n",
    "# ----------------------------------------------------------------------------\n",
    "\n",
    "plot_df = lat_lon.copy()\n",
    "plot_df[\"label\"] = kmeans.labels_\n",
    "plot_df = plot_df.sort_values(\"label\")\n",
    "\n",
    "centers_df = pd.DataFrame(kmeans.cluster_centers_, columns=[\"Latitude\", \"Longitude\"])\n",
    "centers_df[\"label\"] = \"Cluster center\"\n",
    "\n",
    "plot_df = pd.concat((plot_df, centers_df), sort=False)\n",
    "\n",
    "fig = px.scatter_geo(\n",
    "    plot_df,\n",
    "    \"Latitude\",\n",
    "    \"Longitude\",\n",
    "    color=\"label\",\n",
    "    scope=\"usa\",\n",
    "    title=\"KMeans Results\",\n",
    "    hover_name=plot_df.index,\n",
    ")\n",
    "\n",
    "fig.update_geos(fitbounds=\"locations\")\n",
    "fig.show()"
   ]
  },
  {
   "cell_type": "markdown",
   "metadata": {
    "id": "HVwJByXZztt_"
   },
   "source": [
    "## Mean-shift"
   ]
  },
  {
   "cell_type": "markdown",
   "metadata": {
    "id": "LDjszg1QCD24"
   },
   "source": [
    "* Use `matplotlib` to plot the East TN Starbucks\n",
    "* Label the `x` and `y` axes\n",
    "* Give the plot a title"
   ]
  },
  {
   "cell_type": "code",
   "execution_count": null,
   "metadata": {
    "id": "EnPvZhaqih5R"
   },
   "outputs": [],
   "source": []
  },
  {
   "cell_type": "markdown",
   "metadata": {
    "id": "oT8TbHT1CD26"
   },
   "source": [
    "* Use `sns.kdeplot()` to show the distribution of Latitude and Longitude separately.\n",
    "* How many clusters do you expect to find if clustering only on one of these variables?\n",
    "* Play with the `bw` parameter of `sns.kdeplot()`.  How does this change how many clusters you expect?"
   ]
  },
  {
   "cell_type": "code",
   "execution_count": null,
   "metadata": {
    "colab": {
     "base_uri": "https://localhost:8080/",
     "height": 537
    },
    "id": "4xNvhNFzCD28",
    "outputId": "8a3587a3-f802-44d1-edde-fce54bab2618"
   },
   "outputs": [],
   "source": [
    "fig, axes = plt.subplots(1, 2, figsize=(10, 5))\n",
    "\n",
    "sns.kdeplot(____, ax=axes[0])\n",
    "sns.kdeplot(____, ax=axes[1])\n",
    "plt.show()"
   ]
  },
  {
   "cell_type": "markdown",
   "metadata": {
    "id": "wO5yT6YPCD2_"
   },
   "source": [
    "* Use `sns.kdeplot()` to show the 2d distribution of Latitude and Longitude.\n",
    "* Add the starbucks locations to the plot.\n",
    "* How many clusters do you expect to find if clustering only on one of these variables?\n",
    "* Play with the `bw` parameter of `sns.kdeplot()`.  How does this change how many clusters you expect?"
   ]
  },
  {
   "cell_type": "code",
   "execution_count": null,
   "metadata": {
    "id": "IAAWE0zNybug"
   },
   "outputs": [],
   "source": [
    "sns.kdeplot(____)\n",
    "plt.scatter(____)\n",
    "plt.show()"
   ]
  },
  {
   "cell_type": "markdown",
   "metadata": {
    "id": "MkQ9kkfpCD3T"
   },
   "source": [
    "A slightly different view of the same plot."
   ]
  },
  {
   "cell_type": "code",
   "execution_count": null,
   "metadata": {
    "id": "jJfhwe-sCD3Z"
   },
   "outputs": [],
   "source": [
    "bw = 0.1\n",
    "\n",
    "x = starbs[\"Longitude\"]\n",
    "y = starbs[\"Latitude\"]\n",
    "kernel = stats.gaussian_kde((x, y), bw_method=bw)\n",
    "\n",
    "x = np.linspace(x.min(), x.max(), 100)\n",
    "y = np.linspace(y.min(), y.max(), 100)\n",
    "\n",
    "z = []\n",
    "for xi in x:\n",
    "    zi = []\n",
    "    for yi in y:\n",
    "        zi.append(kernel((xi, yi))[0])\n",
    "\n",
    "    z.append(zi)\n",
    "\n",
    "z = np.array(z)\n",
    "z.reshape((x.shape[0], y.shape[0]))\n",
    "\n",
    "fig = go.Figure(data=[go.Surface(z=z, x=x, y=y)])\n",
    "fig.show()"
   ]
  },
  {
   "cell_type": "markdown",
   "metadata": {
    "id": "-dqBBxA-CD3m"
   },
   "source": [
    "* Use `MeanShift()` to cluster the observations\n",
    "* The default `bandwidth` used by `MeanShift()` is calculated using `sklearn.cluster.estimate_bandwidth()` (shown below)"
   ]
  },
  {
   "cell_type": "code",
   "execution_count": null,
   "metadata": {
    "id": "NmT9dzkhCD3m"
   },
   "outputs": [],
   "source": [
    "default_bw = estimate_bandwidth(lat_lon)\n",
    "print(f\"Default bandwidth: {default_bw}\")"
   ]
  },
  {
   "cell_type": "code",
   "execution_count": null,
   "metadata": {
    "id": "BLxIF9rXq_l-"
   },
   "outputs": [],
   "source": [
    "# Define a variable to hold the selected bw for use in plotting later\n",
    "bw = _____\n",
    "\n",
    "____"
   ]
  },
  {
   "cell_type": "markdown",
   "metadata": {
    "id": "Y6zM-HxrCD3r"
   },
   "source": [
    "* Show the resulting cluster centers.  How many clusters were found?"
   ]
  },
  {
   "cell_type": "code",
   "execution_count": null,
   "metadata": {
    "id": "eISiQxOeCD3s"
   },
   "outputs": [],
   "source": []
  },
  {
   "cell_type": "markdown",
   "metadata": {
    "id": "EmebbI9JCD3u"
   },
   "source": [
    "* Redo the above plot colored by cluster label"
   ]
  },
  {
   "cell_type": "code",
   "execution_count": null,
   "metadata": {
    "id": "87AxYSJtCD3u"
   },
   "outputs": [],
   "source": [
    "# seaborn converts all columns that look like numbers to numeric\n",
    "# we dont want a color bar to represent cluster labels as they're purely\n",
    "# categorical. to stop seaborn from thinking of our labels as continuous\n",
    "# we're adding cluster labels as strings and adding an underscore\n",
    "\n",
    "lat_lon[\"label\"] = mean_shift.labels_.astype(str)\n",
    "lat_lon[\"label\"] += \"_\""
   ]
  },
  {
   "cell_type": "code",
   "execution_count": null,
   "metadata": {
    "id": "O5fJMUE8CD3x"
   },
   "outputs": [],
   "source": [
    "sns.kdeplot(____)\n",
    "sns.scatterplot(____)\n",
    "\n",
    "plt.title(\"Clustered East TN Starbucks\")\n",
    "plt.legend(loc=\"lower right\")\n",
    "plt.show()"
   ]
  },
  {
   "cell_type": "markdown",
   "metadata": {
    "id": "p3M2EAG6CD30"
   },
   "source": [
    "#### Extra practice in case we have time:\n",
    "\n",
    "* The nba dataset is loaded & cleaned for you below.\n",
    "* Apply mean shift and interpret the clusters.\n",
    "* Based on your interpretation, are these good clusters?"
   ]
  },
  {
   "cell_type": "code",
   "execution_count": null,
   "metadata": {
    "id": "RKRcPc43CD30"
   },
   "outputs": [],
   "source": [
    "data_url = \"https://tf-assets-prod.s3.amazonaws.com/tf-curric/data-science/Data%20Sets%20Clustering/nba_player_seasons.csv\"\n",
    "nba = pd.read_csv(data_url)\n",
    "\n",
    "nba = nba[(nba[\"GS\"] >= 20) & (nba[\"MP\"] >= 10)]\n",
    "nba = nba.dropna().reset_index(drop=True)\n",
    "nba_og = nba.copy()\n",
    "\n",
    "nba = nba[[\"PTS\", \"TRB\", \"TOV\", \"AST\", \"BLK\", \"Age\"]]\n",
    "nba.head(3)"
   ]
  },
  {
   "cell_type": "code",
   "execution_count": null,
   "metadata": {
    "id": "w6YXwpF3CD4H"
   },
   "outputs": [],
   "source": []
  }
 ],
 "metadata": {
  "colab": {
   "collapsed_sections": [],
   "name": "gaussian_mixture_mean_shift_blank.ipynb",
   "provenance": []
  },
  "kernelspec": {
   "display_name": "Python 3",
   "language": "python",
   "name": "python3"
  },
  "language_info": {
   "codemirror_mode": {
    "name": "ipython",
    "version": 3
   },
   "file_extension": ".py",
   "mimetype": "text/x-python",
   "name": "python",
   "nbconvert_exporter": "python",
   "pygments_lexer": "ipython3",
   "version": "3.7.6"
  }
 },
 "nbformat": 4,
 "nbformat_minor": 1
}
