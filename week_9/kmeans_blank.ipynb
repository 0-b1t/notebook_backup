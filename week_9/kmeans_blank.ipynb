{
 "cells": [
  {
   "cell_type": "code",
   "execution_count": 1,
   "metadata": {},
   "outputs": [
    {
     "data": {
      "application/javascript": [
       "\n",
       "            setTimeout(function() {\n",
       "                var nbb_cell_id = 1;\n",
       "                var nbb_unformatted_code = \"%reload_ext nb_black\";\n",
       "                var nbb_formatted_code = \"%reload_ext nb_black\";\n",
       "                var nbb_cells = Jupyter.notebook.get_cells();\n",
       "                for (var i = 0; i < nbb_cells.length; ++i) {\n",
       "                    if (nbb_cells[i].input_prompt_number == nbb_cell_id) {\n",
       "                        if (nbb_cells[i].get_text() == nbb_unformatted_code) {\n",
       "                             nbb_cells[i].set_text(nbb_formatted_code);\n",
       "                        }\n",
       "                        break;\n",
       "                    }\n",
       "                }\n",
       "            }, 500);\n",
       "            "
      ],
      "text/plain": [
       "<IPython.core.display.Javascript object>"
      ]
     },
     "metadata": {},
     "output_type": "display_data"
    }
   ],
   "source": [
    "%reload_ext nb_black"
   ]
  },
  {
   "cell_type": "code",
   "execution_count": 2,
   "metadata": {},
   "outputs": [
    {
     "data": {
      "application/javascript": [
       "\n",
       "            setTimeout(function() {\n",
       "                var nbb_cell_id = 2;\n",
       "                var nbb_unformatted_code = \"import pandas as pd\\nimport numpy as np\\n\\nfrom sklearn.preprocessing import StandardScaler\\nfrom sklearn.cluster import KMeans\\n\\nimport seaborn as sns\\nimport matplotlib.pyplot as plt\\n\\n%matplotlib inline\";\n",
       "                var nbb_formatted_code = \"import pandas as pd\\nimport numpy as np\\n\\nfrom sklearn.preprocessing import StandardScaler\\nfrom sklearn.cluster import KMeans\\n\\nimport seaborn as sns\\nimport matplotlib.pyplot as plt\\n\\n%matplotlib inline\";\n",
       "                var nbb_cells = Jupyter.notebook.get_cells();\n",
       "                for (var i = 0; i < nbb_cells.length; ++i) {\n",
       "                    if (nbb_cells[i].input_prompt_number == nbb_cell_id) {\n",
       "                        if (nbb_cells[i].get_text() == nbb_unformatted_code) {\n",
       "                             nbb_cells[i].set_text(nbb_formatted_code);\n",
       "                        }\n",
       "                        break;\n",
       "                    }\n",
       "                }\n",
       "            }, 500);\n",
       "            "
      ],
      "text/plain": [
       "<IPython.core.display.Javascript object>"
      ]
     },
     "metadata": {},
     "output_type": "display_data"
    }
   ],
   "source": [
    "import pandas as pd\n",
    "import numpy as np\n",
    "\n",
    "from sklearn.preprocessing import StandardScaler\n",
    "from sklearn.cluster import KMeans\n",
    "\n",
    "import seaborn as sns\n",
    "import matplotlib.pyplot as plt\n",
    "\n",
    "%matplotlib inline"
   ]
  },
  {
   "cell_type": "code",
   "execution_count": 3,
   "metadata": {},
   "outputs": [
    {
     "data": {
      "text/html": [
       "<div>\n",
       "<style scoped>\n",
       "    .dataframe tbody tr th:only-of-type {\n",
       "        vertical-align: middle;\n",
       "    }\n",
       "\n",
       "    .dataframe tbody tr th {\n",
       "        vertical-align: top;\n",
       "    }\n",
       "\n",
       "    .dataframe thead th {\n",
       "        text-align: right;\n",
       "    }\n",
       "</style>\n",
       "<table border=\"1\" class=\"dataframe\">\n",
       "  <thead>\n",
       "    <tr style=\"text-align: right;\">\n",
       "      <th></th>\n",
       "      <th>x</th>\n",
       "      <th>y</th>\n",
       "    </tr>\n",
       "  </thead>\n",
       "  <tbody>\n",
       "    <tr>\n",
       "      <th>0</th>\n",
       "      <td>0.496714</td>\n",
       "      <td>0</td>\n",
       "    </tr>\n",
       "    <tr>\n",
       "      <th>1</th>\n",
       "      <td>-0.138264</td>\n",
       "      <td>0</td>\n",
       "    </tr>\n",
       "    <tr>\n",
       "      <th>2</th>\n",
       "      <td>0.647689</td>\n",
       "      <td>0</td>\n",
       "    </tr>\n",
       "    <tr>\n",
       "      <th>3</th>\n",
       "      <td>1.523030</td>\n",
       "      <td>0</td>\n",
       "    </tr>\n",
       "    <tr>\n",
       "      <th>4</th>\n",
       "      <td>-0.234153</td>\n",
       "      <td>0</td>\n",
       "    </tr>\n",
       "  </tbody>\n",
       "</table>\n",
       "</div>"
      ],
      "text/plain": [
       "          x  y\n",
       "0  0.496714  0\n",
       "1 -0.138264  0\n",
       "2  0.647689  0\n",
       "3  1.523030  0\n",
       "4 -0.234153  0"
      ]
     },
     "metadata": {},
     "output_type": "display_data"
    },
    {
     "data": {
      "image/png": "[encoded data removed]",
      "text/plain": [
       "<Figure size 432x288 with 1 Axes>"
      ]
     },
     "metadata": {
      "needs_background": "light"
     },
     "output_type": "display_data"
    },
    {
     "data": {
      "application/javascript": [
       "\n",
       "            setTimeout(function() {\n",
       "                var nbb_cell_id = 3;\n",
       "                var nbb_unformatted_code = \"np.random.seed(42)\\na = np.random.normal(0, 1, 5)\\nb = np.random.normal(4, 1, 5)\\n\\ndf = pd.DataFrame({\\\"x\\\": np.hstack((a, b))})\\ndf[\\\"y\\\"] = 0\\n\\ndisplay(df.head())\\n\\nsns.scatterplot(\\\"x\\\", \\\"y\\\", data=df)\\nplt.show()\";\n",
       "                var nbb_formatted_code = \"np.random.seed(42)\\na = np.random.normal(0, 1, 5)\\nb = np.random.normal(4, 1, 5)\\n\\ndf = pd.DataFrame({\\\"x\\\": np.hstack((a, b))})\\ndf[\\\"y\\\"] = 0\\n\\ndisplay(df.head())\\n\\nsns.scatterplot(\\\"x\\\", \\\"y\\\", data=df)\\nplt.show()\";\n",
       "                var nbb_cells = Jupyter.notebook.get_cells();\n",
       "                for (var i = 0; i < nbb_cells.length; ++i) {\n",
       "                    if (nbb_cells[i].input_prompt_number == nbb_cell_id) {\n",
       "                        if (nbb_cells[i].get_text() == nbb_unformatted_code) {\n",
       "                             nbb_cells[i].set_text(nbb_formatted_code);\n",
       "                        }\n",
       "                        break;\n",
       "                    }\n",
       "                }\n",
       "            }, 500);\n",
       "            "
      ],
      "text/plain": [
       "<IPython.core.display.Javascript object>"
      ]
     },
     "metadata": {},
     "output_type": "display_data"
    }
   ],
   "source": [
    "np.random.seed(42)\n",
    "a = np.random.normal(0, 1, 5)\n",
    "b = np.random.normal(4, 1, 5)\n",
    "\n",
    "df = pd.DataFrame({\"x\": np.hstack((a, b))})\n",
    "df[\"y\"] = 0\n",
    "\n",
    "display(df.head())\n",
    "\n",
    "sns.scatterplot(\"x\", \"y\", data=df)\n",
    "plt.show()"
   ]
  },
  {
   "cell_type": "markdown",
   "metadata": {},
   "source": [
    "* Choose `k` rows from the dataframe at random to be the initial centroids.\n",
    "    * Note, that [other implementations](https://en.wikipedia.org/wiki/K-means%2B%2B) will do this a little more rigorously than `k` random points.\n",
    "* Convert the centroids to a numpy array"
   ]
  },
  {
   "cell_type": "code",
   "execution_count": 4,
   "metadata": {},
   "outputs": [
    {
     "data": {
      "application/javascript": [
       "\n",
       "            setTimeout(function() {\n",
       "                var nbb_cell_id = 4;\n",
       "                var nbb_unformatted_code = \"k = 2\";\n",
       "                var nbb_formatted_code = \"k = 2\";\n",
       "                var nbb_cells = Jupyter.notebook.get_cells();\n",
       "                for (var i = 0; i < nbb_cells.length; ++i) {\n",
       "                    if (nbb_cells[i].input_prompt_number == nbb_cell_id) {\n",
       "                        if (nbb_cells[i].get_text() == nbb_unformatted_code) {\n",
       "                             nbb_cells[i].set_text(nbb_formatted_code);\n",
       "                        }\n",
       "                        break;\n",
       "                    }\n",
       "                }\n",
       "            }, 500);\n",
       "            "
      ],
      "text/plain": [
       "<IPython.core.display.Javascript object>"
      ]
     },
     "metadata": {},
     "output_type": "display_data"
    }
   ],
   "source": [
    "k = 2"
   ]
  },
  {
   "cell_type": "code",
   "execution_count": 10,
   "metadata": {
    "hideOutput": true
   },
   "outputs": [
    {
     "data": {
      "text/plain": [
       "array([[-0.1382643 ,  0.        ],\n",
       "       [ 0.64768854,  0.        ]])"
      ]
     },
     "execution_count": 10,
     "metadata": {},
     "output_type": "execute_result"
    },
    {
     "data": {
      "application/javascript": [
       "\n",
       "            setTimeout(function() {\n",
       "                var nbb_cell_id = 10;\n",
       "                var nbb_unformatted_code = \"centroids = df.sample(k, random_state=21)\\ncentroids = np.array(centroids)\\ncentroids\";\n",
       "                var nbb_formatted_code = \"centroids = df.sample(k, random_state=21)\\ncentroids = np.array(centroids)\\ncentroids\";\n",
       "                var nbb_cells = Jupyter.notebook.get_cells();\n",
       "                for (var i = 0; i < nbb_cells.length; ++i) {\n",
       "                    if (nbb_cells[i].input_prompt_number == nbb_cell_id) {\n",
       "                        if (nbb_cells[i].get_text() == nbb_unformatted_code) {\n",
       "                             nbb_cells[i].set_text(nbb_formatted_code);\n",
       "                        }\n",
       "                        break;\n",
       "                    }\n",
       "                }\n",
       "            }, 500);\n",
       "            "
      ],
      "text/plain": [
       "<IPython.core.display.Javascript object>"
      ]
     },
     "metadata": {},
     "output_type": "display_data"
    }
   ],
   "source": [
    "centroids = df.sample(k, random_state=21)\n",
    "centroids = np.array(centroids)\n",
    "centroids"
   ]
  },
  {
   "cell_type": "markdown",
   "metadata": {},
   "source": [
    "Here are where the centroids are located that we randomly selected"
   ]
  },
  {
   "cell_type": "code",
   "execution_count": 11,
   "metadata": {},
   "outputs": [
    {
     "data": {
      "image/png": "[encoded data removed]",
      "text/plain": [
       "<Figure size 432x288 with 1 Axes>"
      ]
     },
     "metadata": {
      "needs_background": "light"
     },
     "output_type": "display_data"
    },
    {
     "data": {
      "application/javascript": [
       "\n",
       "            setTimeout(function() {\n",
       "                var nbb_cell_id = 11;\n",
       "                var nbb_unformatted_code = \"sns.scatterplot(\\\"x\\\", \\\"y\\\", data=df)\\nplt.scatter(centroids[:, 0], centroids[:, 1], marker=\\\"x\\\", s=100, c=\\\"black\\\")\\nplt.show()\";\n",
       "                var nbb_formatted_code = \"sns.scatterplot(\\\"x\\\", \\\"y\\\", data=df)\\nplt.scatter(centroids[:, 0], centroids[:, 1], marker=\\\"x\\\", s=100, c=\\\"black\\\")\\nplt.show()\";\n",
       "                var nbb_cells = Jupyter.notebook.get_cells();\n",
       "                for (var i = 0; i < nbb_cells.length; ++i) {\n",
       "                    if (nbb_cells[i].input_prompt_number == nbb_cell_id) {\n",
       "                        if (nbb_cells[i].get_text() == nbb_unformatted_code) {\n",
       "                             nbb_cells[i].set_text(nbb_formatted_code);\n",
       "                        }\n",
       "                        break;\n",
       "                    }\n",
       "                }\n",
       "            }, 500);\n",
       "            "
      ],
      "text/plain": [
       "<IPython.core.display.Javascript object>"
      ]
     },
     "metadata": {},
     "output_type": "display_data"
    }
   ],
   "source": [
    "sns.scatterplot(\"x\", \"y\", data=df)\n",
    "plt.scatter(centroids[:, 0], centroids[:, 1], marker=\"x\", s=100, c=\"black\")\n",
    "plt.show()"
   ]
  },
  {
   "cell_type": "markdown",
   "metadata": {},
   "source": [
    "We want to build towards a for loop to assign each point to a centroid.  For this, we'll use the sum of the squared differences (formula below).\n",
    "\n",
    "$$\\sum_{i=0}^{n}{(x_i - y_i)^2}$$\n",
    "\n",
    "* $n$ is the total number of features\n",
    "* $i$ is the current feature index\n",
    "* $x_i$ is the current feature value for observation $x$\n",
    "* $y_i$ is the current feature value for observation $y$\n",
    "\n",
    "The below code chunks have the beginnings of logic we'll use in a `for` loop to compute euclidean distance between each row and each centroid."
   ]
  },
  {
   "cell_type": "code",
   "execution_count": 12,
   "metadata": {},
   "outputs": [
    {
     "data": {
      "text/plain": [
       "array([0.49671415, 0.        ])"
      ]
     },
     "execution_count": 12,
     "metadata": {},
     "output_type": "execute_result"
    },
    {
     "data": {
      "application/javascript": [
       "\n",
       "            setTimeout(function() {\n",
       "                var nbb_cell_id = 12;\n",
       "                var nbb_unformatted_code = \"X = np.array(df)\\n\\n# create a variable named x\\n# put the first item from X in x\\n# this is to 'pretend' we're in the for loop\\n\\n#for x in X:\\n#  do_stuff()\\nx = X[0]\\nx\";\n",
       "                var nbb_formatted_code = \"X = np.array(df)\\n\\n# create a variable named x\\n# put the first item from X in x\\n# this is to 'pretend' we're in the for loop\\n\\n# for x in X:\\n#  do_stuff()\\nx = X[0]\\nx\";\n",
       "                var nbb_cells = Jupyter.notebook.get_cells();\n",
       "                for (var i = 0; i < nbb_cells.length; ++i) {\n",
       "                    if (nbb_cells[i].input_prompt_number == nbb_cell_id) {\n",
       "                        if (nbb_cells[i].get_text() == nbb_unformatted_code) {\n",
       "                             nbb_cells[i].set_text(nbb_formatted_code);\n",
       "                        }\n",
       "                        break;\n",
       "                    }\n",
       "                }\n",
       "            }, 500);\n",
       "            "
      ],
      "text/plain": [
       "<IPython.core.display.Javascript object>"
      ]
     },
     "metadata": {},
     "output_type": "display_data"
    }
   ],
   "source": [
    "X = np.array(df)\n",
    "\n",
    "# create a variable named x\n",
    "# put the first item from X in x\n",
    "# this is to 'pretend' we're in the for loop\n",
    "\n",
    "# for x in X:\n",
    "#  do_stuff()\n",
    "x = X[0]\n",
    "x"
   ]
  },
  {
   "cell_type": "code",
   "execution_count": 13,
   "metadata": {},
   "outputs": [
    {
     "data": {
      "text/plain": [
       "array([[ 0.63497845,  0.        ],\n",
       "       [-0.15097439,  0.        ]])"
      ]
     },
     "execution_count": 13,
     "metadata": {},
     "output_type": "execute_result"
    },
    {
     "data": {
      "application/javascript": [
       "\n",
       "            setTimeout(function() {\n",
       "                var nbb_cell_id = 13;\n",
       "                var nbb_unformatted_code = \"# Take difference between x and centroids\\ndiffs = x-centroids\\ndiffs\";\n",
       "                var nbb_formatted_code = \"# Take difference between x and centroids\\ndiffs = x - centroids\\ndiffs\";\n",
       "                var nbb_cells = Jupyter.notebook.get_cells();\n",
       "                for (var i = 0; i < nbb_cells.length; ++i) {\n",
       "                    if (nbb_cells[i].input_prompt_number == nbb_cell_id) {\n",
       "                        if (nbb_cells[i].get_text() == nbb_unformatted_code) {\n",
       "                             nbb_cells[i].set_text(nbb_formatted_code);\n",
       "                        }\n",
       "                        break;\n",
       "                    }\n",
       "                }\n",
       "            }, 500);\n",
       "            "
      ],
      "text/plain": [
       "<IPython.core.display.Javascript object>"
      ]
     },
     "metadata": {},
     "output_type": "display_data"
    }
   ],
   "source": [
    "# Take difference between x and centroids\n",
    "diffs = x - centroids\n",
    "diffs"
   ]
  },
  {
   "cell_type": "code",
   "execution_count": 14,
   "metadata": {},
   "outputs": [
    {
     "data": {
      "text/plain": [
       "array([[0.40319764, 0.        ],\n",
       "       [0.02279326, 0.        ]])"
      ]
     },
     "execution_count": 14,
     "metadata": {},
     "output_type": "execute_result"
    },
    {
     "data": {
      "application/javascript": [
       "\n",
       "            setTimeout(function() {\n",
       "                var nbb_cell_id = 14;\n",
       "                var nbb_unformatted_code = \"# Square the differences\\nsq_diffs = diffs**2\\nsq_diffs\";\n",
       "                var nbb_formatted_code = \"# Square the differences\\nsq_diffs = diffs ** 2\\nsq_diffs\";\n",
       "                var nbb_cells = Jupyter.notebook.get_cells();\n",
       "                for (var i = 0; i < nbb_cells.length; ++i) {\n",
       "                    if (nbb_cells[i].input_prompt_number == nbb_cell_id) {\n",
       "                        if (nbb_cells[i].get_text() == nbb_unformatted_code) {\n",
       "                             nbb_cells[i].set_text(nbb_formatted_code);\n",
       "                        }\n",
       "                        break;\n",
       "                    }\n",
       "                }\n",
       "            }, 500);\n",
       "            "
      ],
      "text/plain": [
       "<IPython.core.display.Javascript object>"
      ]
     },
     "metadata": {},
     "output_type": "display_data"
    }
   ],
   "source": [
    "# Square the differences\n",
    "sq_diffs = diffs ** 2\n",
    "sq_diffs"
   ]
  },
  {
   "cell_type": "code",
   "execution_count": 16,
   "metadata": {},
   "outputs": [
    {
     "data": {
      "text/plain": [
       "array([0.40319764, 0.02279326])"
      ]
     },
     "execution_count": 16,
     "metadata": {},
     "output_type": "execute_result"
    },
    {
     "data": {
      "application/javascript": [
       "\n",
       "            setTimeout(function() {\n",
       "                var nbb_cell_id = 16;\n",
       "                var nbb_unformatted_code = \"# Sum the squared differences by row\\ndists = sq_diffs.sum(axis=1)\\ndists\";\n",
       "                var nbb_formatted_code = \"# Sum the squared differences by row\\ndists = sq_diffs.sum(axis=1)\\ndists\";\n",
       "                var nbb_cells = Jupyter.notebook.get_cells();\n",
       "                for (var i = 0; i < nbb_cells.length; ++i) {\n",
       "                    if (nbb_cells[i].input_prompt_number == nbb_cell_id) {\n",
       "                        if (nbb_cells[i].get_text() == nbb_unformatted_code) {\n",
       "                             nbb_cells[i].set_text(nbb_formatted_code);\n",
       "                        }\n",
       "                        break;\n",
       "                    }\n",
       "                }\n",
       "            }, 500);\n",
       "            "
      ],
      "text/plain": [
       "<IPython.core.display.Javascript object>"
      ]
     },
     "metadata": {},
     "output_type": "display_data"
    }
   ],
   "source": [
    "# Sum the squared differences by row\n",
    "dists = sq_diffs.sum(axis=1)\n",
    "dists"
   ]
  },
  {
   "cell_type": "code",
   "execution_count": 18,
   "metadata": {},
   "outputs": [
    {
     "data": {
      "text/plain": [
       "1"
      ]
     },
     "execution_count": 18,
     "metadata": {},
     "output_type": "execute_result"
    },
    {
     "data": {
      "application/javascript": [
       "\n",
       "            setTimeout(function() {\n",
       "                var nbb_cell_id = 18;\n",
       "                var nbb_unformatted_code = \"# Find the index of the centroid closest to x\\nlabel = np.argmin(dists)\\nlabel\";\n",
       "                var nbb_formatted_code = \"# Find the index of the centroid closest to x\\nlabel = np.argmin(dists)\\nlabel\";\n",
       "                var nbb_cells = Jupyter.notebook.get_cells();\n",
       "                for (var i = 0; i < nbb_cells.length; ++i) {\n",
       "                    if (nbb_cells[i].input_prompt_number == nbb_cell_id) {\n",
       "                        if (nbb_cells[i].get_text() == nbb_unformatted_code) {\n",
       "                             nbb_cells[i].set_text(nbb_formatted_code);\n",
       "                        }\n",
       "                        break;\n",
       "                    }\n",
       "                }\n",
       "            }, 500);\n",
       "            "
      ],
      "text/plain": [
       "<IPython.core.display.Javascript object>"
      ]
     },
     "metadata": {},
     "output_type": "display_data"
    }
   ],
   "source": [
    "# Find the index of the centroid closest to x\n",
    "label = np.argmin(dists) #equivalent to idxmin() in pandas\n",
    "label"
   ]
  },
  {
   "cell_type": "code",
   "execution_count": 20,
   "metadata": {},
   "outputs": [
    {
     "data": {
      "text/plain": [
       "[1, 0, 1, 1, 0, 1, 1, 1, 1, 1]"
      ]
     },
     "execution_count": 20,
     "metadata": {},
     "output_type": "execute_result"
    },
    {
     "data": {
      "application/javascript": [
       "\n",
       "            setTimeout(function() {\n",
       "                var nbb_cell_id = 20;\n",
       "                var nbb_unformatted_code = \"# Use all of the components you just made to build a for loop\\n# that assigns a label to each row of X\\nlabels = []\\nfor x in X:\\n#     label = np.argmin(((x - centroids) ** 2).sum(axis=1))\\n    diffs = x - centroids\\n    sq_diffs = diffs ** 2\\n    dists = sq_diffs.sum(axis=1)\\n    label = np.argmin(dists) \\n\\n    labels.append(label)\\n\\nlabels\";\n",
       "                var nbb_formatted_code = \"# Use all of the components you just made to build a for loop\\n# that assigns a label to each row of X\\nlabels = []\\nfor x in X:\\n    #     label = np.argmin(((x - centroids) ** 2).sum(axis=1))\\n    diffs = x - centroids\\n    sq_diffs = diffs ** 2\\n    dists = sq_diffs.sum(axis=1)\\n    label = np.argmin(dists)\\n\\n    labels.append(label)\\n\\nlabels\";\n",
       "                var nbb_cells = Jupyter.notebook.get_cells();\n",
       "                for (var i = 0; i < nbb_cells.length; ++i) {\n",
       "                    if (nbb_cells[i].input_prompt_number == nbb_cell_id) {\n",
       "                        if (nbb_cells[i].get_text() == nbb_unformatted_code) {\n",
       "                             nbb_cells[i].set_text(nbb_formatted_code);\n",
       "                        }\n",
       "                        break;\n",
       "                    }\n",
       "                }\n",
       "            }, 500);\n",
       "            "
      ],
      "text/plain": [
       "<IPython.core.display.Javascript object>"
      ]
     },
     "metadata": {},
     "output_type": "display_data"
    }
   ],
   "source": [
    "# Use all of the components you just made to build a for loop\n",
    "# that assigns a label to each row of X\n",
    "labels = []\n",
    "for x in X:\n",
    "    #     label = np.argmin(((x - centroids) ** 2).sum(axis=1))\n",
    "    diffs = x - centroids\n",
    "    sq_diffs = diffs ** 2\n",
    "    dists = sq_diffs.sum(axis=1)\n",
    "    label = np.argmin(dists)\n",
    "\n",
    "    labels.append(label)\n",
    "\n",
    "labels"
   ]
  },
  {
   "cell_type": "markdown",
   "metadata": {},
   "source": [
    "Add the assigned labels as a column in the below dataframe named `assigned_df`."
   ]
  },
  {
   "cell_type": "code",
   "execution_count": 21,
   "metadata": {},
   "outputs": [
    {
     "data": {
      "text/html": [
       "<div>\n",
       "<style scoped>\n",
       "    .dataframe tbody tr th:only-of-type {\n",
       "        vertical-align: middle;\n",
       "    }\n",
       "\n",
       "    .dataframe tbody tr th {\n",
       "        vertical-align: top;\n",
       "    }\n",
       "\n",
       "    .dataframe thead th {\n",
       "        text-align: right;\n",
       "    }\n",
       "</style>\n",
       "<table border=\"1\" class=\"dataframe\">\n",
       "  <thead>\n",
       "    <tr style=\"text-align: right;\">\n",
       "      <th></th>\n",
       "      <th>x</th>\n",
       "      <th>y</th>\n",
       "      <th>label</th>\n",
       "    </tr>\n",
       "  </thead>\n",
       "  <tbody>\n",
       "    <tr>\n",
       "      <th>0</th>\n",
       "      <td>0.496714</td>\n",
       "      <td>0</td>\n",
       "      <td>1</td>\n",
       "    </tr>\n",
       "    <tr>\n",
       "      <th>1</th>\n",
       "      <td>-0.138264</td>\n",
       "      <td>0</td>\n",
       "      <td>0</td>\n",
       "    </tr>\n",
       "    <tr>\n",
       "      <th>2</th>\n",
       "      <td>0.647689</td>\n",
       "      <td>0</td>\n",
       "      <td>1</td>\n",
       "    </tr>\n",
       "    <tr>\n",
       "      <th>3</th>\n",
       "      <td>1.523030</td>\n",
       "      <td>0</td>\n",
       "      <td>1</td>\n",
       "    </tr>\n",
       "    <tr>\n",
       "      <th>4</th>\n",
       "      <td>-0.234153</td>\n",
       "      <td>0</td>\n",
       "      <td>0</td>\n",
       "    </tr>\n",
       "  </tbody>\n",
       "</table>\n",
       "</div>"
      ],
      "text/plain": [
       "          x  y  label\n",
       "0  0.496714  0      1\n",
       "1 -0.138264  0      0\n",
       "2  0.647689  0      1\n",
       "3  1.523030  0      1\n",
       "4 -0.234153  0      0"
      ]
     },
     "execution_count": 21,
     "metadata": {},
     "output_type": "execute_result"
    },
    {
     "data": {
      "application/javascript": [
       "\n",
       "            setTimeout(function() {\n",
       "                var nbb_cell_id = 21;\n",
       "                var nbb_unformatted_code = \"assigned_df = df.copy()\\nassigned_df[\\\"label\\\"] = labels\\nassigned_df.head()\";\n",
       "                var nbb_formatted_code = \"assigned_df = df.copy()\\nassigned_df[\\\"label\\\"] = labels\\nassigned_df.head()\";\n",
       "                var nbb_cells = Jupyter.notebook.get_cells();\n",
       "                for (var i = 0; i < nbb_cells.length; ++i) {\n",
       "                    if (nbb_cells[i].input_prompt_number == nbb_cell_id) {\n",
       "                        if (nbb_cells[i].get_text() == nbb_unformatted_code) {\n",
       "                             nbb_cells[i].set_text(nbb_formatted_code);\n",
       "                        }\n",
       "                        break;\n",
       "                    }\n",
       "                }\n",
       "            }, 500);\n",
       "            "
      ],
      "text/plain": [
       "<IPython.core.display.Javascript object>"
      ]
     },
     "metadata": {},
     "output_type": "display_data"
    }
   ],
   "source": [
    "assigned_df = df.copy()\n",
    "assigned_df[\"label\"] = labels\n",
    "assigned_df.head()"
   ]
  },
  {
   "cell_type": "markdown",
   "metadata": {},
   "source": [
    "Replot the data with the points colored by cluster assignment"
   ]
  },
  {
   "cell_type": "code",
   "execution_count": 22,
   "metadata": {},
   "outputs": [
    {
     "data": {
      "image/png": "[encoded data removed]",
      "text/plain": [
       "<Figure size 432x288 with 1 Axes>"
      ]
     },
     "metadata": {
      "needs_background": "light"
     },
     "output_type": "display_data"
    },
    {
     "data": {
      "application/javascript": [
       "\n",
       "            setTimeout(function() {\n",
       "                var nbb_cell_id = 22;\n",
       "                var nbb_unformatted_code = \"sns.scatterplot(\\\"x\\\", \\\"y\\\", hue=\\\"label\\\", data=assigned_df)\\nplt.scatter(centroids[:, 0], centroids[:, 1], c=\\\"black\\\", marker=\\\"x\\\", s=100)\\nplt.show()\";\n",
       "                var nbb_formatted_code = \"sns.scatterplot(\\\"x\\\", \\\"y\\\", hue=\\\"label\\\", data=assigned_df)\\nplt.scatter(centroids[:, 0], centroids[:, 1], c=\\\"black\\\", marker=\\\"x\\\", s=100)\\nplt.show()\";\n",
       "                var nbb_cells = Jupyter.notebook.get_cells();\n",
       "                for (var i = 0; i < nbb_cells.length; ++i) {\n",
       "                    if (nbb_cells[i].input_prompt_number == nbb_cell_id) {\n",
       "                        if (nbb_cells[i].get_text() == nbb_unformatted_code) {\n",
       "                             nbb_cells[i].set_text(nbb_formatted_code);\n",
       "                        }\n",
       "                        break;\n",
       "                    }\n",
       "                }\n",
       "            }, 500);\n",
       "            "
      ],
      "text/plain": [
       "<IPython.core.display.Javascript object>"
      ]
     },
     "metadata": {},
     "output_type": "display_data"
    }
   ],
   "source": [
    "sns.scatterplot(\"x\", \"y\", hue=\"label\", data=assigned_df)\n",
    "plt.scatter(centroids[:, 0], centroids[:, 1], c=\"black\", marker=\"x\", s=100)\n",
    "plt.show()"
   ]
  },
  {
   "cell_type": "markdown",
   "metadata": {},
   "source": [
    "Aggregate `assigned_df` to update the centroids.\n",
    "* Group by the `'label'` column and take the mean of every other column.\n",
    "* Convert this output to a numpy array and assign it to `centroids`"
   ]
  },
  {
   "cell_type": "code",
   "execution_count": 24,
   "metadata": {},
   "outputs": [
    {
     "data": {
      "text/plain": [
       "array([[-0.18620884,  0.        ],\n",
       "       [ 3.1066286 ,  0.        ]])"
      ]
     },
     "execution_count": 24,
     "metadata": {},
     "output_type": "execute_result"
    },
    {
     "data": {
      "application/javascript": [
       "\n",
       "            setTimeout(function() {\n",
       "                var nbb_cell_id = 24;\n",
       "                var nbb_unformatted_code = \"agg_df = assigned_df.groupby(\\\"label\\\").mean()\\ncentroids = np.array(agg_df)\\ncentroids\";\n",
       "                var nbb_formatted_code = \"agg_df = assigned_df.groupby(\\\"label\\\").mean()\\ncentroids = np.array(agg_df)\\ncentroids\";\n",
       "                var nbb_cells = Jupyter.notebook.get_cells();\n",
       "                for (var i = 0; i < nbb_cells.length; ++i) {\n",
       "                    if (nbb_cells[i].input_prompt_number == nbb_cell_id) {\n",
       "                        if (nbb_cells[i].get_text() == nbb_unformatted_code) {\n",
       "                             nbb_cells[i].set_text(nbb_formatted_code);\n",
       "                        }\n",
       "                        break;\n",
       "                    }\n",
       "                }\n",
       "            }, 500);\n",
       "            "
      ],
      "text/plain": [
       "<IPython.core.display.Javascript object>"
      ]
     },
     "metadata": {},
     "output_type": "display_data"
    }
   ],
   "source": [
    "agg_df = assigned_df.groupby(\"label\").mean()\n",
    "centroids = np.array(agg_df)\n",
    "centroids"
   ]
  },
  {
   "cell_type": "markdown",
   "metadata": {},
   "source": [
    "Replot the data colored by `'label'` with the new centroids."
   ]
  },
  {
   "cell_type": "code",
   "execution_count": 25,
   "metadata": {},
   "outputs": [
    {
     "data": {
      "image/png": "[encoded data removed]",
      "text/plain": [
       "<Figure size 432x288 with 1 Axes>"
      ]
     },
     "metadata": {
      "needs_background": "light"
     },
     "output_type": "display_data"
    },
    {
     "data": {
      "application/javascript": [
       "\n",
       "            setTimeout(function() {\n",
       "                var nbb_cell_id = 25;\n",
       "                var nbb_unformatted_code = \"sns.scatterplot(\\\"x\\\", \\\"y\\\", hue=\\\"label\\\", data=assigned_df)\\nplt.scatter(centroids[:, 0], centroids[:, 1], c=\\\"black\\\", marker=\\\"x\\\", s=100)\\nplt.show()\";\n",
       "                var nbb_formatted_code = \"sns.scatterplot(\\\"x\\\", \\\"y\\\", hue=\\\"label\\\", data=assigned_df)\\nplt.scatter(centroids[:, 0], centroids[:, 1], c=\\\"black\\\", marker=\\\"x\\\", s=100)\\nplt.show()\";\n",
       "                var nbb_cells = Jupyter.notebook.get_cells();\n",
       "                for (var i = 0; i < nbb_cells.length; ++i) {\n",
       "                    if (nbb_cells[i].input_prompt_number == nbb_cell_id) {\n",
       "                        if (nbb_cells[i].get_text() == nbb_unformatted_code) {\n",
       "                             nbb_cells[i].set_text(nbb_formatted_code);\n",
       "                        }\n",
       "                        break;\n",
       "                    }\n",
       "                }\n",
       "            }, 500);\n",
       "            "
      ],
      "text/plain": [
       "<IPython.core.display.Javascript object>"
      ]
     },
     "metadata": {},
     "output_type": "display_data"
    }
   ],
   "source": [
    "sns.scatterplot(\"x\", \"y\", hue=\"label\", data=assigned_df)\n",
    "plt.scatter(centroids[:, 0], centroids[:, 1], c=\"black\", marker=\"x\", s=100)\n",
    "plt.show()"
   ]
  },
  {
   "cell_type": "markdown",
   "metadata": {},
   "source": [
    "The process we've been doing is rewritten as functions below.  Take a minute to read over the functions and confirm you understand the logic."
   ]
  },
  {
   "cell_type": "code",
   "execution_count": 26,
   "metadata": {},
   "outputs": [
    {
     "data": {
      "application/javascript": [
       "\n",
       "            setTimeout(function() {\n",
       "                var nbb_cell_id = 26;\n",
       "                var nbb_unformatted_code = \"def init_centroids(df, k):\\n    centroids = np.array(df.sample(k))\\n    return centroids\";\n",
       "                var nbb_formatted_code = \"def init_centroids(df, k):\\n    centroids = np.array(df.sample(k))\\n    return centroids\";\n",
       "                var nbb_cells = Jupyter.notebook.get_cells();\n",
       "                for (var i = 0; i < nbb_cells.length; ++i) {\n",
       "                    if (nbb_cells[i].input_prompt_number == nbb_cell_id) {\n",
       "                        if (nbb_cells[i].get_text() == nbb_unformatted_code) {\n",
       "                             nbb_cells[i].set_text(nbb_formatted_code);\n",
       "                        }\n",
       "                        break;\n",
       "                    }\n",
       "                }\n",
       "            }, 500);\n",
       "            "
      ],
      "text/plain": [
       "<IPython.core.display.Javascript object>"
      ]
     },
     "metadata": {},
     "output_type": "display_data"
    }
   ],
   "source": [
    "def init_centroids(df, k):\n",
    "    centroids = np.array(df.sample(k))\n",
    "    return centroids"
   ]
  },
  {
   "cell_type": "code",
   "execution_count": 27,
   "metadata": {},
   "outputs": [
    {
     "data": {
      "application/javascript": [
       "\n",
       "            setTimeout(function() {\n",
       "                var nbb_cell_id = 27;\n",
       "                var nbb_unformatted_code = \"def assign_centroids(X, centroids):\\n    X = np.array(X)\\n    centroids = np.array(centroids)\\n\\n    labels = []\\n    for x in X:\\n        diffs = x - centroids\\n        sq_diffs = diffs ** 2\\n        dists = np.sum(sq_diffs, axis=1)\\n        label = dists.argmin()\\n        labels.append(label)\\n\\n    return labels\";\n",
       "                var nbb_formatted_code = \"def assign_centroids(X, centroids):\\n    X = np.array(X)\\n    centroids = np.array(centroids)\\n\\n    labels = []\\n    for x in X:\\n        diffs = x - centroids\\n        sq_diffs = diffs ** 2\\n        dists = np.sum(sq_diffs, axis=1)\\n        label = dists.argmin()\\n        labels.append(label)\\n\\n    return labels\";\n",
       "                var nbb_cells = Jupyter.notebook.get_cells();\n",
       "                for (var i = 0; i < nbb_cells.length; ++i) {\n",
       "                    if (nbb_cells[i].input_prompt_number == nbb_cell_id) {\n",
       "                        if (nbb_cells[i].get_text() == nbb_unformatted_code) {\n",
       "                             nbb_cells[i].set_text(nbb_formatted_code);\n",
       "                        }\n",
       "                        break;\n",
       "                    }\n",
       "                }\n",
       "            }, 500);\n",
       "            "
      ],
      "text/plain": [
       "<IPython.core.display.Javascript object>"
      ]
     },
     "metadata": {},
     "output_type": "display_data"
    }
   ],
   "source": [
    "def assign_centroids(X, centroids):\n",
    "    X = np.array(X)\n",
    "    centroids = np.array(centroids)\n",
    "\n",
    "    labels = []\n",
    "    for x in X:\n",
    "        diffs = x - centroids\n",
    "        sq_diffs = diffs ** 2\n",
    "        dists = np.sum(sq_diffs, axis=1)\n",
    "        label = dists.argmin()\n",
    "        labels.append(label)\n",
    "\n",
    "    return labels"
   ]
  },
  {
   "cell_type": "code",
   "execution_count": 28,
   "metadata": {},
   "outputs": [
    {
     "data": {
      "application/javascript": [
       "\n",
       "            setTimeout(function() {\n",
       "                var nbb_cell_id = 28;\n",
       "                var nbb_unformatted_code = \"def update_centroids(assigned_df):\\n    centroid_agg = assigned_df.groupby(\\\"label\\\").mean()\\n    centroids = centroid_agg.values\\n    return centroids\";\n",
       "                var nbb_formatted_code = \"def update_centroids(assigned_df):\\n    centroid_agg = assigned_df.groupby(\\\"label\\\").mean()\\n    centroids = centroid_agg.values\\n    return centroids\";\n",
       "                var nbb_cells = Jupyter.notebook.get_cells();\n",
       "                for (var i = 0; i < nbb_cells.length; ++i) {\n",
       "                    if (nbb_cells[i].input_prompt_number == nbb_cell_id) {\n",
       "                        if (nbb_cells[i].get_text() == nbb_unformatted_code) {\n",
       "                             nbb_cells[i].set_text(nbb_formatted_code);\n",
       "                        }\n",
       "                        break;\n",
       "                    }\n",
       "                }\n",
       "            }, 500);\n",
       "            "
      ],
      "text/plain": [
       "<IPython.core.display.Javascript object>"
      ]
     },
     "metadata": {},
     "output_type": "display_data"
    }
   ],
   "source": [
    "def update_centroids(assigned_df):\n",
    "    centroid_agg = assigned_df.groupby(\"label\").mean()\n",
    "    centroids = centroid_agg.values\n",
    "    return centroids"
   ]
  },
  {
   "cell_type": "code",
   "execution_count": 29,
   "metadata": {},
   "outputs": [
    {
     "data": {
      "application/javascript": [
       "\n",
       "            setTimeout(function() {\n",
       "                var nbb_cell_id = 29;\n",
       "                var nbb_unformatted_code = \"def plot_kmeans(df, centroids):\\n    sns.scatterplot(\\\"x\\\", \\\"y\\\", hue=\\\"label\\\", data=df)\\n    plt.scatter(centroids[:, 0], centroids[:, 1], c=\\\"black\\\", marker=\\\"x\\\", s=100)\\n    plt.show()\";\n",
       "                var nbb_formatted_code = \"def plot_kmeans(df, centroids):\\n    sns.scatterplot(\\\"x\\\", \\\"y\\\", hue=\\\"label\\\", data=df)\\n    plt.scatter(centroids[:, 0], centroids[:, 1], c=\\\"black\\\", marker=\\\"x\\\", s=100)\\n    plt.show()\";\n",
       "                var nbb_cells = Jupyter.notebook.get_cells();\n",
       "                for (var i = 0; i < nbb_cells.length; ++i) {\n",
       "                    if (nbb_cells[i].input_prompt_number == nbb_cell_id) {\n",
       "                        if (nbb_cells[i].get_text() == nbb_unformatted_code) {\n",
       "                             nbb_cells[i].set_text(nbb_formatted_code);\n",
       "                        }\n",
       "                        break;\n",
       "                    }\n",
       "                }\n",
       "            }, 500);\n",
       "            "
      ],
      "text/plain": [
       "<IPython.core.display.Javascript object>"
      ]
     },
     "metadata": {},
     "output_type": "display_data"
    }
   ],
   "source": [
    "def plot_kmeans(df, centroids):\n",
    "    sns.scatterplot(\"x\", \"y\", hue=\"label\", data=df)\n",
    "    plt.scatter(centroids[:, 0], centroids[:, 1], c=\"black\", marker=\"x\", s=100)\n",
    "    plt.show()"
   ]
  },
  {
   "cell_type": "markdown",
   "metadata": {},
   "source": [
    "Use the functions to: \n",
    "1. Initialize centroids\n",
    "* Assign points to centroids\n",
    "* Plot the current step\n",
    "* Update centroids"
   ]
  },
  {
   "cell_type": "code",
   "execution_count": 43,
   "metadata": {},
   "outputs": [
    {
     "data": {
      "image/png": "[encoded data removed]",
      "text/plain": [
       "<Figure size 432x288 with 1 Axes>"
      ]
     },
     "metadata": {
      "needs_background": "light"
     },
     "output_type": "display_data"
    },
    {
     "data": {
      "application/javascript": [
       "\n",
       "            setTimeout(function() {\n",
       "                var nbb_cell_id = 43;\n",
       "                var nbb_unformatted_code = \"# Initialize centroids\\ncentroids = init_centroids(df, k)\\n\\nX = np.array(df)\\n\\n# Assign points to centroids\\nlabels = assign_centroids(X, centroids)\\nassigned_df = df.copy()\\nassigned_df[\\\"label\\\"] = labels\\n\\n# Plot the current step\\nplot_kmeans(assigned_df, centroids)\\n\\n# Update centroids\\ncentroids = update_centroids(assigned_df)\";\n",
       "                var nbb_formatted_code = \"# Initialize centroids\\ncentroids = init_centroids(df, k)\\n\\nX = np.array(df)\\n\\n# Assign points to centroids\\nlabels = assign_centroids(X, centroids)\\nassigned_df = df.copy()\\nassigned_df[\\\"label\\\"] = labels\\n\\n# Plot the current step\\nplot_kmeans(assigned_df, centroids)\\n\\n# Update centroids\\ncentroids = update_centroids(assigned_df)\";\n",
       "                var nbb_cells = Jupyter.notebook.get_cells();\n",
       "                for (var i = 0; i < nbb_cells.length; ++i) {\n",
       "                    if (nbb_cells[i].input_prompt_number == nbb_cell_id) {\n",
       "                        if (nbb_cells[i].get_text() == nbb_unformatted_code) {\n",
       "                             nbb_cells[i].set_text(nbb_formatted_code);\n",
       "                        }\n",
       "                        break;\n",
       "                    }\n",
       "                }\n",
       "            }, 500);\n",
       "            "
      ],
      "text/plain": [
       "<IPython.core.display.Javascript object>"
      ]
     },
     "metadata": {},
     "output_type": "display_data"
    }
   ],
   "source": [
    "# Initialize centroids\n",
    "centroids = init_centroids(df, k)\n",
    "\n",
    "X = np.array(df)\n",
    "\n",
    "# Assign points to centroids\n",
    "labels = assign_centroids(X, centroids)\n",
    "assigned_df = df.copy()\n",
    "assigned_df[\"label\"] = labels\n",
    "\n",
    "# Plot the current step\n",
    "plot_kmeans(assigned_df, centroids)\n",
    "\n",
    "# Update centroids\n",
    "centroids = update_centroids(assigned_df)"
   ]
  },
  {
   "cell_type": "markdown",
   "metadata": {},
   "source": [
    "Write a for loop to perform the assigning, plotting, and updating `n` times."
   ]
  },
  {
   "cell_type": "code",
   "execution_count": 44,
   "metadata": {},
   "outputs": [
    {
     "data": {
      "application/javascript": [
       "\n",
       "            setTimeout(function() {\n",
       "                var nbb_cell_id = 44;\n",
       "                var nbb_unformatted_code = \"n = 4\\ncentroids = init_centroids(df, 2)\";\n",
       "                var nbb_formatted_code = \"n = 4\\ncentroids = init_centroids(df, 2)\";\n",
       "                var nbb_cells = Jupyter.notebook.get_cells();\n",
       "                for (var i = 0; i < nbb_cells.length; ++i) {\n",
       "                    if (nbb_cells[i].input_prompt_number == nbb_cell_id) {\n",
       "                        if (nbb_cells[i].get_text() == nbb_unformatted_code) {\n",
       "                             nbb_cells[i].set_text(nbb_formatted_code);\n",
       "                        }\n",
       "                        break;\n",
       "                    }\n",
       "                }\n",
       "            }, 500);\n",
       "            "
      ],
      "text/plain": [
       "<IPython.core.display.Javascript object>"
      ]
     },
     "metadata": {},
     "output_type": "display_data"
    }
   ],
   "source": [
    "n = 4\n",
    "centroids = init_centroids(df, 2)"
   ]
  },
  {
   "cell_type": "code",
   "execution_count": 45,
   "metadata": {
    "scrolled": true
   },
   "outputs": [
    {
     "data": {
      "image/png": "[encoded data removed]",
      "text/plain": [
       "<Figure size 432x288 with 1 Axes>"
      ]
     },
     "metadata": {
      "needs_background": "light"
     },
     "output_type": "display_data"
    },
    {
     "data": {
      "image/png": "[encoded data removed]",
      "text/plain": [
       "<Figure size 432x288 with 1 Axes>"
      ]
     },
     "metadata": {
      "needs_background": "light"
     },
     "output_type": "display_data"
    },
    {
     "data": {
      "image/png": "[encoded data removed]",
      "text/plain": [
       "<Figure size 432x288 with 1 Axes>"
      ]
     },
     "metadata": {
      "needs_background": "light"
     },
     "output_type": "display_data"
    },
    {
     "data": {
      "image/png": "[encoded data removed]",
      "text/plain": [
       "<Figure size 432x288 with 1 Axes>"
      ]
     },
     "metadata": {
      "needs_background": "light"
     },
     "output_type": "display_data"
    },
    {
     "data": {
      "application/javascript": [
       "\n",
       "            setTimeout(function() {\n",
       "                var nbb_cell_id = 45;\n",
       "                var nbb_unformatted_code = \"for _ in range(n):\\n    labels = assign_centroids(df, centroids)\\n\\n    assigned_df = df.copy()\\n    assigned_df[\\\"label\\\"] = labels\\n\\n    plot_kmeans(assigned_df, centroids)\\n    centroids = update_centroids(assigned_df)\";\n",
       "                var nbb_formatted_code = \"for _ in range(n):\\n    labels = assign_centroids(df, centroids)\\n\\n    assigned_df = df.copy()\\n    assigned_df[\\\"label\\\"] = labels\\n\\n    plot_kmeans(assigned_df, centroids)\\n    centroids = update_centroids(assigned_df)\";\n",
       "                var nbb_cells = Jupyter.notebook.get_cells();\n",
       "                for (var i = 0; i < nbb_cells.length; ++i) {\n",
       "                    if (nbb_cells[i].input_prompt_number == nbb_cell_id) {\n",
       "                        if (nbb_cells[i].get_text() == nbb_unformatted_code) {\n",
       "                             nbb_cells[i].set_text(nbb_formatted_code);\n",
       "                        }\n",
       "                        break;\n",
       "                    }\n",
       "                }\n",
       "            }, 500);\n",
       "            "
      ],
      "text/plain": [
       "<IPython.core.display.Javascript object>"
      ]
     },
     "metadata": {},
     "output_type": "display_data"
    }
   ],
   "source": [
    "for _ in range(n):\n",
    "    labels = assign_centroids(df, centroids)\n",
    "\n",
    "    assigned_df = df.copy()\n",
    "    assigned_df[\"label\"] = labels\n",
    "\n",
    "    plot_kmeans(assigned_df, centroids)\n",
    "    centroids = update_centroids(assigned_df)"
   ]
  },
  {
   "cell_type": "markdown",
   "metadata": {},
   "source": [
    "Boom! That's a bonified k-means algorithm.  For extra practice you might:\n",
    "* Re-do the process with random `y` values instead of all 0s\n",
    "    * The same code should work\n",
    "* Re-do the process with a 3rd feature, `z`\n",
    "    * The same code should work (i think), but the plotting will only show `x` and `y`\n",
    "* Wrap the whole process up in a single function or class.  Feature requests below:\n",
    "    * Give the user the option to turn plots on/off\n",
    "    * Give the user the option to pass in a `random_state` that is used during centroid initialization\n",
    "    * Give the user the option to specify a maximum number of iterations before the algorithm stops\n",
    "    * Cause the algorithm to stop early if the centroids didn't change (i.e. it's converged)"
   ]
  },
  {
   "cell_type": "markdown",
   "metadata": {},
   "source": [
    "Now let's do it the `sklearn` way."
   ]
  },
  {
   "cell_type": "code",
   "execution_count": 59,
   "metadata": {},
   "outputs": [
    {
     "data": {
      "text/html": [
       "<div>\n",
       "<style scoped>\n",
       "    .dataframe tbody tr th:only-of-type {\n",
       "        vertical-align: middle;\n",
       "    }\n",
       "\n",
       "    .dataframe tbody tr th {\n",
       "        vertical-align: top;\n",
       "    }\n",
       "\n",
       "    .dataframe thead th {\n",
       "        text-align: right;\n",
       "    }\n",
       "</style>\n",
       "<table border=\"1\" class=\"dataframe\">\n",
       "  <thead>\n",
       "    <tr style=\"text-align: right;\">\n",
       "      <th></th>\n",
       "      <th>R&amp;D Spend</th>\n",
       "      <th>Administration</th>\n",
       "      <th>Marketing Spend</th>\n",
       "      <th>Profit</th>\n",
       "    </tr>\n",
       "  </thead>\n",
       "  <tbody>\n",
       "    <tr>\n",
       "      <th>0</th>\n",
       "      <td>165349.20</td>\n",
       "      <td>136897.80</td>\n",
       "      <td>471784.10</td>\n",
       "      <td>192261.83</td>\n",
       "    </tr>\n",
       "    <tr>\n",
       "      <th>1</th>\n",
       "      <td>162597.70</td>\n",
       "      <td>151377.59</td>\n",
       "      <td>443898.53</td>\n",
       "      <td>191792.06</td>\n",
       "    </tr>\n",
       "    <tr>\n",
       "      <th>2</th>\n",
       "      <td>153441.51</td>\n",
       "      <td>101145.55</td>\n",
       "      <td>407934.54</td>\n",
       "      <td>191050.39</td>\n",
       "    </tr>\n",
       "    <tr>\n",
       "      <th>3</th>\n",
       "      <td>144372.41</td>\n",
       "      <td>118671.85</td>\n",
       "      <td>383199.62</td>\n",
       "      <td>182901.99</td>\n",
       "    </tr>\n",
       "    <tr>\n",
       "      <th>4</th>\n",
       "      <td>142107.34</td>\n",
       "      <td>91391.77</td>\n",
       "      <td>366168.42</td>\n",
       "      <td>166187.94</td>\n",
       "    </tr>\n",
       "  </tbody>\n",
       "</table>\n",
       "</div>"
      ],
      "text/plain": [
       "   R&D Spend  Administration  Marketing Spend     Profit\n",
       "0  165349.20       136897.80        471784.10  192261.83\n",
       "1  162597.70       151377.59        443898.53  191792.06\n",
       "2  153441.51       101145.55        407934.54  191050.39\n",
       "3  144372.41       118671.85        383199.62  182901.99\n",
       "4  142107.34        91391.77        366168.42  166187.94"
      ]
     },
     "execution_count": 59,
     "metadata": {},
     "output_type": "execute_result"
    },
    {
     "data": {
      "application/javascript": [
       "\n",
       "            setTimeout(function() {\n",
       "                var nbb_cell_id = 59;\n",
       "                var nbb_unformatted_code = \"data_url = \\\"https://docs.google.com/spreadsheets/d/1RJrLftlRnj6gmrYewqxykVKSyl7aV-Ktd3sUNQILidM/export?format=csv\\\"\\nstartup = pd.read_csv(data_url)\\nstartup = startup.drop(columns=\\\"State\\\")\\nstartup_og = startup.copy()\\nstartup.head()\";\n",
       "                var nbb_formatted_code = \"data_url = \\\"https://docs.google.com/spreadsheets/d/1RJrLftlRnj6gmrYewqxykVKSyl7aV-Ktd3sUNQILidM/export?format=csv\\\"\\nstartup = pd.read_csv(data_url)\\nstartup = startup.drop(columns=\\\"State\\\")\\nstartup_og = startup.copy()\\nstartup.head()\";\n",
       "                var nbb_cells = Jupyter.notebook.get_cells();\n",
       "                for (var i = 0; i < nbb_cells.length; ++i) {\n",
       "                    if (nbb_cells[i].input_prompt_number == nbb_cell_id) {\n",
       "                        if (nbb_cells[i].get_text() == nbb_unformatted_code) {\n",
       "                             nbb_cells[i].set_text(nbb_formatted_code);\n",
       "                        }\n",
       "                        break;\n",
       "                    }\n",
       "                }\n",
       "            }, 500);\n",
       "            "
      ],
      "text/plain": [
       "<IPython.core.display.Javascript object>"
      ]
     },
     "metadata": {},
     "output_type": "display_data"
    }
   ],
   "source": [
    "data_url = \"https://docs.google.com/spreadsheets/d/1RJrLftlRnj6gmrYewqxykVKSyl7aV-Ktd3sUNQILidM/export?format=csv\"\n",
    "startup = pd.read_csv(data_url)\n",
    "startup = startup.drop(columns=\"State\")\n",
    "startup_og = startup.copy()\n",
    "startup.head()"
   ]
  },
  {
   "cell_type": "markdown",
   "metadata": {},
   "source": [
    "* Create a scaled version of the data with `StandardScaler()`\n",
    "* Initialize a `KMeans` instance with `k` clusters.\n",
    "* `.fit()` it to the `scaled` data"
   ]
  },
  {
   "cell_type": "code",
   "execution_count": 60,
   "metadata": {},
   "outputs": [
    {
     "data": {
      "text/plain": [
       "(50, 4)"
      ]
     },
     "execution_count": 60,
     "metadata": {},
     "output_type": "execute_result"
    },
    {
     "data": {
      "application/javascript": [
       "\n",
       "            setTimeout(function() {\n",
       "                var nbb_cell_id = 60;\n",
       "                var nbb_unformatted_code = \"startup.shape\";\n",
       "                var nbb_formatted_code = \"startup.shape\";\n",
       "                var nbb_cells = Jupyter.notebook.get_cells();\n",
       "                for (var i = 0; i < nbb_cells.length; ++i) {\n",
       "                    if (nbb_cells[i].input_prompt_number == nbb_cell_id) {\n",
       "                        if (nbb_cells[i].get_text() == nbb_unformatted_code) {\n",
       "                             nbb_cells[i].set_text(nbb_formatted_code);\n",
       "                        }\n",
       "                        break;\n",
       "                    }\n",
       "                }\n",
       "            }, 500);\n",
       "            "
      ],
      "text/plain": [
       "<IPython.core.display.Javascript object>"
      ]
     },
     "metadata": {},
     "output_type": "display_data"
    }
   ],
   "source": [
    "startup.shape"
   ]
  },
  {
   "cell_type": "code",
   "execution_count": 85,
   "metadata": {},
   "outputs": [
    {
     "data": {
      "application/javascript": [
       "\n",
       "            setTimeout(function() {\n",
       "                var nbb_cell_id = 85;\n",
       "                var nbb_unformatted_code = \"k = 4\";\n",
       "                var nbb_formatted_code = \"k = 4\";\n",
       "                var nbb_cells = Jupyter.notebook.get_cells();\n",
       "                for (var i = 0; i < nbb_cells.length; ++i) {\n",
       "                    if (nbb_cells[i].input_prompt_number == nbb_cell_id) {\n",
       "                        if (nbb_cells[i].get_text() == nbb_unformatted_code) {\n",
       "                             nbb_cells[i].set_text(nbb_formatted_code);\n",
       "                        }\n",
       "                        break;\n",
       "                    }\n",
       "                }\n",
       "            }, 500);\n",
       "            "
      ],
      "text/plain": [
       "<IPython.core.display.Javascript object>"
      ]
     },
     "metadata": {},
     "output_type": "display_data"
    }
   ],
   "source": [
    "k = 4"
   ]
  },
  {
   "cell_type": "code",
   "execution_count": 86,
   "metadata": {},
   "outputs": [
    {
     "data": {
      "application/javascript": [
       "\n",
       "            setTimeout(function() {\n",
       "                var nbb_cell_id = 86;\n",
       "                var nbb_unformatted_code = \"# Scale the data\\nscaler = StandardScaler()\\nscaled = scaler.fit_transform(startup)\";\n",
       "                var nbb_formatted_code = \"# Scale the data\\nscaler = StandardScaler()\\nscaled = scaler.fit_transform(startup)\";\n",
       "                var nbb_cells = Jupyter.notebook.get_cells();\n",
       "                for (var i = 0; i < nbb_cells.length; ++i) {\n",
       "                    if (nbb_cells[i].input_prompt_number == nbb_cell_id) {\n",
       "                        if (nbb_cells[i].get_text() == nbb_unformatted_code) {\n",
       "                             nbb_cells[i].set_text(nbb_formatted_code);\n",
       "                        }\n",
       "                        break;\n",
       "                    }\n",
       "                }\n",
       "            }, 500);\n",
       "            "
      ],
      "text/plain": [
       "<IPython.core.display.Javascript object>"
      ]
     },
     "metadata": {},
     "output_type": "display_data"
    }
   ],
   "source": [
    "# Scale the data\n",
    "scaler = StandardScaler()\n",
    "scaled = scaler.fit_transform(startup)"
   ]
  },
  {
   "cell_type": "code",
   "execution_count": 87,
   "metadata": {},
   "outputs": [
    {
     "data": {
      "text/plain": [
       "KMeans(algorithm='auto', copy_x=True, init='k-means++', max_iter=300,\n",
       "       n_clusters=4, n_init=10, n_jobs=None, precompute_distances='auto',\n",
       "       random_state=42, tol=0.0001, verbose=0)"
      ]
     },
     "execution_count": 87,
     "metadata": {},
     "output_type": "execute_result"
    },
    {
     "data": {
      "application/javascript": [
       "\n",
       "            setTimeout(function() {\n",
       "                var nbb_cell_id = 87;\n",
       "                var nbb_unformatted_code = \"# Fit kmeans\\nk_means = KMeans(n_clusters=k, random_state=42)\\nk_means.fit(scaled)\";\n",
       "                var nbb_formatted_code = \"# Fit kmeans\\nk_means = KMeans(n_clusters=k, random_state=42)\\nk_means.fit(scaled)\";\n",
       "                var nbb_cells = Jupyter.notebook.get_cells();\n",
       "                for (var i = 0; i < nbb_cells.length; ++i) {\n",
       "                    if (nbb_cells[i].input_prompt_number == nbb_cell_id) {\n",
       "                        if (nbb_cells[i].get_text() == nbb_unformatted_code) {\n",
       "                             nbb_cells[i].set_text(nbb_formatted_code);\n",
       "                        }\n",
       "                        break;\n",
       "                    }\n",
       "                }\n",
       "            }, 500);\n",
       "            "
      ],
      "text/plain": [
       "<IPython.core.display.Javascript object>"
      ]
     },
     "metadata": {},
     "output_type": "display_data"
    }
   ],
   "source": [
    "# Fit kmeans\n",
    "k_means = KMeans(n_clusters=k, random_state=42)\n",
    "k_means.fit(scaled)"
   ]
  },
  {
   "cell_type": "markdown",
   "metadata": {},
   "source": [
    "* Unscale the `clst.cluster_centers_` using your `StandardScaler` instance.  We do this for interpretation purposes; it's much easier to translate the numbers back in their original dollars and cents values.\n",
    "* Save the unscaled centroids to a dataframe with the same names as the `startup` dataframe"
   ]
  },
  {
   "cell_type": "code",
   "execution_count": 88,
   "metadata": {},
   "outputs": [
    {
     "data": {
      "text/plain": [
       "array([[-0.587449  ,  0.76778761, -1.03484826, -0.54287837],\n",
       "       [ 0.53476939,  0.23070113,  0.53735396,  0.49695817],\n",
       "       [-0.95564328, -1.15536886, -0.40387626, -0.96650353],\n",
       "       [ 1.67769275, -0.1728701 ,  1.61033659,  1.70884876]])"
      ]
     },
     "execution_count": 88,
     "metadata": {},
     "output_type": "execute_result"
    },
    {
     "data": {
      "application/javascript": [
       "\n",
       "            setTimeout(function() {\n",
       "                var nbb_cell_id = 88;\n",
       "                var nbb_unformatted_code = \"k_means.cluster_centers_\";\n",
       "                var nbb_formatted_code = \"k_means.cluster_centers_\";\n",
       "                var nbb_cells = Jupyter.notebook.get_cells();\n",
       "                for (var i = 0; i < nbb_cells.length; ++i) {\n",
       "                    if (nbb_cells[i].input_prompt_number == nbb_cell_id) {\n",
       "                        if (nbb_cells[i].get_text() == nbb_unformatted_code) {\n",
       "                             nbb_cells[i].set_text(nbb_formatted_code);\n",
       "                        }\n",
       "                        break;\n",
       "                    }\n",
       "                }\n",
       "            }, 500);\n",
       "            "
      ],
      "text/plain": [
       "<IPython.core.display.Javascript object>"
      ]
     },
     "metadata": {},
     "output_type": "display_data"
    }
   ],
   "source": [
    "k_means.cluster_centers_"
   ]
  },
  {
   "cell_type": "code",
   "execution_count": 89,
   "metadata": {},
   "outputs": [
    {
     "data": {
      "text/html": [
       "<style  type=\"text/css\" >\n",
       "    #T_84d1af86_0264_11eb_b9f6_7085c2a9ca7arow0_col0 {\n",
       "            background-color:  #e9e5f1;\n",
       "            color:  #000000;\n",
       "        }    #T_84d1af86_0264_11eb_b9f6_7085c2a9ca7arow0_col1 {\n",
       "            background-color:  #023858;\n",
       "            color:  #f1f1f1;\n",
       "        }    #T_84d1af86_0264_11eb_b9f6_7085c2a9ca7arow0_col2 {\n",
       "            background-color:  #fff7fb;\n",
       "            color:  #000000;\n",
       "        }    #T_84d1af86_0264_11eb_b9f6_7085c2a9ca7arow0_col3 {\n",
       "            background-color:  #e5e1ef;\n",
       "            color:  #000000;\n",
       "        }    #T_84d1af86_0264_11eb_b9f6_7085c2a9ca7arow1_col0 {\n",
       "            background-color:  #549cc7;\n",
       "            color:  #000000;\n",
       "        }    #T_84d1af86_0264_11eb_b9f6_7085c2a9ca7arow1_col1 {\n",
       "            background-color:  #1077b4;\n",
       "            color:  #f1f1f1;\n",
       "        }    #T_84d1af86_0264_11eb_b9f6_7085c2a9ca7arow1_col2 {\n",
       "            background-color:  #4496c3;\n",
       "            color:  #000000;\n",
       "        }    #T_84d1af86_0264_11eb_b9f6_7085c2a9ca7arow1_col3 {\n",
       "            background-color:  #5c9fc9;\n",
       "            color:  #000000;\n",
       "        }    #T_84d1af86_0264_11eb_b9f6_7085c2a9ca7arow2_col0 {\n",
       "            background-color:  #fff7fb;\n",
       "            color:  #000000;\n",
       "        }    #T_84d1af86_0264_11eb_b9f6_7085c2a9ca7arow2_col1 {\n",
       "            background-color:  #fff7fb;\n",
       "            color:  #000000;\n",
       "        }    #T_84d1af86_0264_11eb_b9f6_7085c2a9ca7arow2_col2 {\n",
       "            background-color:  #d2d3e7;\n",
       "            color:  #000000;\n",
       "        }    #T_84d1af86_0264_11eb_b9f6_7085c2a9ca7arow2_col3 {\n",
       "            background-color:  #fff7fb;\n",
       "            color:  #000000;\n",
       "        }    #T_84d1af86_0264_11eb_b9f6_7085c2a9ca7arow3_col0 {\n",
       "            background-color:  #023858;\n",
       "            color:  #f1f1f1;\n",
       "        }    #T_84d1af86_0264_11eb_b9f6_7085c2a9ca7arow3_col1 {\n",
       "            background-color:  #6fa7ce;\n",
       "            color:  #000000;\n",
       "        }    #T_84d1af86_0264_11eb_b9f6_7085c2a9ca7arow3_col2 {\n",
       "            background-color:  #023858;\n",
       "            color:  #f1f1f1;\n",
       "        }    #T_84d1af86_0264_11eb_b9f6_7085c2a9ca7arow3_col3 {\n",
       "            background-color:  #023858;\n",
       "            color:  #f1f1f1;\n",
       "        }</style><table id=\"T_84d1af86_0264_11eb_b9f6_7085c2a9ca7a\" ><thead>    <tr>        <th class=\"blank level0\" ></th>        <th class=\"col_heading level0 col0\" >R&D Spend</th>        <th class=\"col_heading level0 col1\" >Administration</th>        <th class=\"col_heading level0 col2\" >Marketing Spend</th>        <th class=\"col_heading level0 col3\" >Profit</th>    </tr></thead><tbody>\n",
       "                <tr>\n",
       "                        <th id=\"T_84d1af86_0264_11eb_b9f6_7085c2a9ca7alevel0_row0\" class=\"row_heading level0 row0\" >0</th>\n",
       "                        <td id=\"T_84d1af86_0264_11eb_b9f6_7085c2a9ca7arow0_col0\" class=\"data row0 col0\" >47027.395000</td>\n",
       "                        <td id=\"T_84d1af86_0264_11eb_b9f6_7085c2a9ca7arow0_col1\" class=\"data row0 col1\" >142640.157857</td>\n",
       "                        <td id=\"T_84d1af86_0264_11eb_b9f6_7085c2a9ca7arow0_col2\" class=\"data row0 col2\" >85745.092857</td>\n",
       "                        <td id=\"T_84d1af86_0264_11eb_b9f6_7085c2a9ca7arow0_col3\" class=\"data row0 col3\" >90351.204286</td>\n",
       "            </tr>\n",
       "            <tr>\n",
       "                        <th id=\"T_84d1af86_0264_11eb_b9f6_7085c2a9ca7alevel0_row1\" class=\"row_heading level0 row1\" >1</th>\n",
       "                        <td id=\"T_84d1af86_0264_11eb_b9f6_7085c2a9ca7arow1_col0\" class=\"data row1 col0\" >98022.026111</td>\n",
       "                        <td id=\"T_84d1af86_0264_11eb_b9f6_7085c2a9ca7arow1_col1\" class=\"data row1 col1\" >127743.414444</td>\n",
       "                        <td id=\"T_84d1af86_0264_11eb_b9f6_7085c2a9ca7arow1_col2\" class=\"data row1 col2\" >276077.829444</td>\n",
       "                        <td id=\"T_84d1af86_0264_11eb_b9f6_7085c2a9ca7arow1_col3\" class=\"data row1 col3\" >131841.808333</td>\n",
       "            </tr>\n",
       "            <tr>\n",
       "                        <th id=\"T_84d1af86_0264_11eb_b9f6_7085c2a9ca7alevel0_row2\" class=\"row_heading level0 row2\" >2</th>\n",
       "                        <td id=\"T_84d1af86_0264_11eb_b9f6_7085c2a9ca7arow2_col0\" class=\"data row2 col0\" >30296.310000</td>\n",
       "                        <td id=\"T_84d1af86_0264_11eb_b9f6_7085c2a9ca7arow2_col1\" class=\"data row2 col1\" >89299.086667</td>\n",
       "                        <td id=\"T_84d1af86_0264_11eb_b9f6_7085c2a9ca7arow2_col2\" class=\"data row2 col2\" >162131.340833</td>\n",
       "                        <td id=\"T_84d1af86_0264_11eb_b9f6_7085c2a9ca7arow2_col3\" class=\"data row2 col3\" >73448.101667</td>\n",
       "            </tr>\n",
       "            <tr>\n",
       "                        <th id=\"T_84d1af86_0264_11eb_b9f6_7085c2a9ca7alevel0_row3\" class=\"row_heading level0 row3\" >3</th>\n",
       "                        <td id=\"T_84d1af86_0264_11eb_b9f6_7085c2a9ca7arow3_col0\" class=\"data row3 col0\" >149957.510000</td>\n",
       "                        <td id=\"T_84d1af86_0264_11eb_b9f6_7085c2a9ca7arow3_col1\" class=\"data row3 col1\" >116549.878333</td>\n",
       "                        <td id=\"T_84d1af86_0264_11eb_b9f6_7085c2a9ca7arow3_col2\" class=\"data row3 col2\" >405974.428333</td>\n",
       "                        <td id=\"T_84d1af86_0264_11eb_b9f6_7085c2a9ca7arow3_col3\" class=\"data row3 col3\" >180197.555000</td>\n",
       "            </tr>\n",
       "    </tbody></table>"
      ],
      "text/plain": [
       "<pandas.io.formats.style.Styler at 0x22d69300148>"
      ]
     },
     "execution_count": 89,
     "metadata": {},
     "output_type": "execute_result"
    },
    {
     "data": {
      "application/javascript": [
       "\n",
       "            setTimeout(function() {\n",
       "                var nbb_cell_id = 89;\n",
       "                var nbb_unformatted_code = \"centroids = scaler.inverse_transform(k_means.cluster_centers_)\\ncentroids_df = pd.DataFrame(centroids, columns=startup.columns)\\ncentroids_df.style.background_gradient()\";\n",
       "                var nbb_formatted_code = \"centroids = scaler.inverse_transform(k_means.cluster_centers_)\\ncentroids_df = pd.DataFrame(centroids, columns=startup.columns)\\ncentroids_df.style.background_gradient()\";\n",
       "                var nbb_cells = Jupyter.notebook.get_cells();\n",
       "                for (var i = 0; i < nbb_cells.length; ++i) {\n",
       "                    if (nbb_cells[i].input_prompt_number == nbb_cell_id) {\n",
       "                        if (nbb_cells[i].get_text() == nbb_unformatted_code) {\n",
       "                             nbb_cells[i].set_text(nbb_formatted_code);\n",
       "                        }\n",
       "                        break;\n",
       "                    }\n",
       "                }\n",
       "            }, 500);\n",
       "            "
      ],
      "text/plain": [
       "<IPython.core.display.Javascript object>"
      ]
     },
     "metadata": {},
     "output_type": "display_data"
    }
   ],
   "source": [
    "centroids = scaler.inverse_transform(k_means.cluster_centers_)\n",
    "centroids_df = pd.DataFrame(centroids, columns=startup.columns)\n",
    "centroids_df.style.background_gradient()"
   ]
  },
  {
   "cell_type": "markdown",
   "metadata": {},
   "source": [
    "* Interpret the output; try and give names to these clusters that represent their members\n",
    "* Don't just look at the numbers; visualize the centroids somehow.  \n",
    "    * A plot?\n",
    "    * A formatted table?"
   ]
  },
  {
   "cell_type": "code",
   "execution_count": 90,
   "metadata": {},
   "outputs": [
    {
     "data": {
      "text/html": [
       "<div>\n",
       "<style scoped>\n",
       "    .dataframe tbody tr th:only-of-type {\n",
       "        vertical-align: middle;\n",
       "    }\n",
       "\n",
       "    .dataframe tbody tr th {\n",
       "        vertical-align: top;\n",
       "    }\n",
       "\n",
       "    .dataframe thead th {\n",
       "        text-align: right;\n",
       "    }\n",
       "</style>\n",
       "<table border=\"1\" class=\"dataframe\">\n",
       "  <thead>\n",
       "    <tr style=\"text-align: right;\">\n",
       "      <th></th>\n",
       "      <th>R&amp;D Spend</th>\n",
       "      <th>Administration</th>\n",
       "      <th>Marketing Spend</th>\n",
       "      <th>Profit</th>\n",
       "      <th>cluster_label</th>\n",
       "    </tr>\n",
       "  </thead>\n",
       "  <tbody>\n",
       "    <tr>\n",
       "      <th>0</th>\n",
       "      <td>165349.20</td>\n",
       "      <td>136897.80</td>\n",
       "      <td>471784.10</td>\n",
       "      <td>192261.83</td>\n",
       "      <td>3</td>\n",
       "    </tr>\n",
       "    <tr>\n",
       "      <th>1</th>\n",
       "      <td>162597.70</td>\n",
       "      <td>151377.59</td>\n",
       "      <td>443898.53</td>\n",
       "      <td>191792.06</td>\n",
       "      <td>3</td>\n",
       "    </tr>\n",
       "    <tr>\n",
       "      <th>2</th>\n",
       "      <td>153441.51</td>\n",
       "      <td>101145.55</td>\n",
       "      <td>407934.54</td>\n",
       "      <td>191050.39</td>\n",
       "      <td>3</td>\n",
       "    </tr>\n",
       "    <tr>\n",
       "      <th>3</th>\n",
       "      <td>144372.41</td>\n",
       "      <td>118671.85</td>\n",
       "      <td>383199.62</td>\n",
       "      <td>182901.99</td>\n",
       "      <td>3</td>\n",
       "    </tr>\n",
       "    <tr>\n",
       "      <th>4</th>\n",
       "      <td>142107.34</td>\n",
       "      <td>91391.77</td>\n",
       "      <td>366168.42</td>\n",
       "      <td>166187.94</td>\n",
       "      <td>3</td>\n",
       "    </tr>\n",
       "  </tbody>\n",
       "</table>\n",
       "</div>"
      ],
      "text/plain": [
       "   R&D Spend  Administration  Marketing Spend     Profit  cluster_label\n",
       "0  165349.20       136897.80        471784.10  192261.83              3\n",
       "1  162597.70       151377.59        443898.53  191792.06              3\n",
       "2  153441.51       101145.55        407934.54  191050.39              3\n",
       "3  144372.41       118671.85        383199.62  182901.99              3\n",
       "4  142107.34        91391.77        366168.42  166187.94              3"
      ]
     },
     "execution_count": 90,
     "metadata": {},
     "output_type": "execute_result"
    },
    {
     "data": {
      "application/javascript": [
       "\n",
       "            setTimeout(function() {\n",
       "                var nbb_cell_id = 90;\n",
       "                var nbb_unformatted_code = \"startup_og[\\\"cluster_label\\\"] = k_means.labels_\\nstartup_og.head()\";\n",
       "                var nbb_formatted_code = \"startup_og[\\\"cluster_label\\\"] = k_means.labels_\\nstartup_og.head()\";\n",
       "                var nbb_cells = Jupyter.notebook.get_cells();\n",
       "                for (var i = 0; i < nbb_cells.length; ++i) {\n",
       "                    if (nbb_cells[i].input_prompt_number == nbb_cell_id) {\n",
       "                        if (nbb_cells[i].get_text() == nbb_unformatted_code) {\n",
       "                             nbb_cells[i].set_text(nbb_formatted_code);\n",
       "                        }\n",
       "                        break;\n",
       "                    }\n",
       "                }\n",
       "            }, 500);\n",
       "            "
      ],
      "text/plain": [
       "<IPython.core.display.Javascript object>"
      ]
     },
     "metadata": {},
     "output_type": "display_data"
    }
   ],
   "source": [
    "startup_og[\"cluster_label\"] = k_means.labels_\n",
    "startup_og.head()"
   ]
  },
  {
   "cell_type": "code",
   "execution_count": 91,
   "metadata": {
    "scrolled": true
   },
   "outputs": [
    {
     "data": {
      "text/html": [
       "<div>\n",
       "<style scoped>\n",
       "    .dataframe tbody tr th:only-of-type {\n",
       "        vertical-align: middle;\n",
       "    }\n",
       "\n",
       "    .dataframe tbody tr th {\n",
       "        vertical-align: top;\n",
       "    }\n",
       "\n",
       "    .dataframe thead th {\n",
       "        text-align: right;\n",
       "    }\n",
       "</style>\n",
       "<table border=\"1\" class=\"dataframe\">\n",
       "  <thead>\n",
       "    <tr style=\"text-align: right;\">\n",
       "      <th></th>\n",
       "      <th>R&amp;D Spend</th>\n",
       "      <th>Administration</th>\n",
       "      <th>Marketing Spend</th>\n",
       "      <th>Profit</th>\n",
       "    </tr>\n",
       "    <tr>\n",
       "      <th>cluster_label</th>\n",
       "      <th></th>\n",
       "      <th></th>\n",
       "      <th></th>\n",
       "      <th></th>\n",
       "    </tr>\n",
       "  </thead>\n",
       "  <tbody>\n",
       "    <tr>\n",
       "      <th>0</th>\n",
       "      <td>47027.395000</td>\n",
       "      <td>142640.157857</td>\n",
       "      <td>85745.092857</td>\n",
       "      <td>90351.204286</td>\n",
       "    </tr>\n",
       "    <tr>\n",
       "      <th>1</th>\n",
       "      <td>98022.026111</td>\n",
       "      <td>127743.414444</td>\n",
       "      <td>276077.829444</td>\n",
       "      <td>131841.808333</td>\n",
       "    </tr>\n",
       "    <tr>\n",
       "      <th>2</th>\n",
       "      <td>30296.310000</td>\n",
       "      <td>89299.086667</td>\n",
       "      <td>162131.340833</td>\n",
       "      <td>73448.101667</td>\n",
       "    </tr>\n",
       "    <tr>\n",
       "      <th>3</th>\n",
       "      <td>149957.510000</td>\n",
       "      <td>116549.878333</td>\n",
       "      <td>405974.428333</td>\n",
       "      <td>180197.555000</td>\n",
       "    </tr>\n",
       "  </tbody>\n",
       "</table>\n",
       "</div>"
      ],
      "text/plain": [
       "                   R&D Spend  Administration  Marketing Spend         Profit\n",
       "cluster_label                                                               \n",
       "0               47027.395000   142640.157857     85745.092857   90351.204286\n",
       "1               98022.026111   127743.414444    276077.829444  131841.808333\n",
       "2               30296.310000    89299.086667    162131.340833   73448.101667\n",
       "3              149957.510000   116549.878333    405974.428333  180197.555000"
      ]
     },
     "execution_count": 91,
     "metadata": {},
     "output_type": "execute_result"
    },
    {
     "data": {
      "application/javascript": [
       "\n",
       "            setTimeout(function() {\n",
       "                var nbb_cell_id = 91;\n",
       "                var nbb_unformatted_code = \"startup_og.groupby(\\\"cluster_label\\\").mean()\";\n",
       "                var nbb_formatted_code = \"startup_og.groupby(\\\"cluster_label\\\").mean()\";\n",
       "                var nbb_cells = Jupyter.notebook.get_cells();\n",
       "                for (var i = 0; i < nbb_cells.length; ++i) {\n",
       "                    if (nbb_cells[i].input_prompt_number == nbb_cell_id) {\n",
       "                        if (nbb_cells[i].get_text() == nbb_unformatted_code) {\n",
       "                             nbb_cells[i].set_text(nbb_formatted_code);\n",
       "                        }\n",
       "                        break;\n",
       "                    }\n",
       "                }\n",
       "            }, 500);\n",
       "            "
      ],
      "text/plain": [
       "<IPython.core.display.Javascript object>"
      ]
     },
     "metadata": {},
     "output_type": "display_data"
    }
   ],
   "source": [
    "startup_og.groupby(\"cluster_label\").mean()"
   ]
  },
  {
   "cell_type": "code",
   "execution_count": null,
   "metadata": {},
   "outputs": [],
   "source": [
    "# Cluster 0 'Admin isn't everything ''\n",
    "#   *Spend the most on Admin\n",
    "#   *Profit the 2nd least\n",
    "\n",
    "#Cluster 1: 'middle child'\n",
    "#   *\n",
    "\n",
    "#Cluster 3: 'Spend Money to Make Money'\n",
    "\n",
    "#Cluster 2: 'Low Risk, Low Reward'"
   ]
  },
  {
   "cell_type": "code",
   "execution_count": 92,
   "metadata": {},
   "outputs": [
    {
     "data": {
      "text/plain": [
       "<seaborn.axisgrid.PairGrid at 0x22d69ca5b88>"
      ]
     },
     "execution_count": 92,
     "metadata": {},
     "output_type": "execute_result"
    },
    {
     "data": {
      "image/png": "[encoded data removed]",
      "text/plain": [
       "<Figure size 791.375x720 with 20 Axes>"
      ]
     },
     "metadata": {
      "needs_background": "light"
     },
     "output_type": "display_data"
    },
    {
     "data": {
      "application/javascript": [
       "\n",
       "            setTimeout(function() {\n",
       "                var nbb_cell_id = 92;\n",
       "                var nbb_unformatted_code = \"sns.pairplot(startup_og, hue=\\\"cluster_label\\\")\";\n",
       "                var nbb_formatted_code = \"sns.pairplot(startup_og, hue=\\\"cluster_label\\\")\";\n",
       "                var nbb_cells = Jupyter.notebook.get_cells();\n",
       "                for (var i = 0; i < nbb_cells.length; ++i) {\n",
       "                    if (nbb_cells[i].input_prompt_number == nbb_cell_id) {\n",
       "                        if (nbb_cells[i].get_text() == nbb_unformatted_code) {\n",
       "                             nbb_cells[i].set_text(nbb_formatted_code);\n",
       "                        }\n",
       "                        break;\n",
       "                    }\n",
       "                }\n",
       "            }, 500);\n",
       "            "
      ],
      "text/plain": [
       "<IPython.core.display.Javascript object>"
      ]
     },
     "metadata": {},
     "output_type": "display_data"
    }
   ],
   "source": [
    "sns.pairplot(startup_og, hue=\"cluster_label\")"
   ]
  },
  {
   "cell_type": "code",
   "execution_count": null,
   "metadata": {},
   "outputs": [],
   "source": []
  }
 ],
 "metadata": {
  "kernelspec": {
   "display_name": "Python 3",
   "language": "python",
   "name": "python3"
  },
  "language_info": {
   "codemirror_mode": {
    "name": "ipython",
    "version": 3
   },
   "file_extension": ".py",
   "mimetype": "text/x-python",
   "name": "python",
   "nbconvert_exporter": "python",
   "pygments_lexer": "ipython3",
   "version": "3.7.6"
  }
 },
 "nbformat": 4,
 "nbformat_minor": 2
}
