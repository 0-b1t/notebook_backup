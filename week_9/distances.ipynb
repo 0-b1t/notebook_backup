{
 "cells": [
  {
   "cell_type": "code",
   "execution_count": 1,
   "metadata": {
    "hideCode": false,
    "hidePrompt": false
   },
   "outputs": [
    {
     "data": {
      "application/javascript": [
       "\n",
       "            setTimeout(function() {\n",
       "                var nbb_cell_id = 1;\n",
       "                var nbb_unformatted_code = \"%reload_ext nb_black\";\n",
       "                var nbb_formatted_code = \"%reload_ext nb_black\";\n",
       "                var nbb_cells = Jupyter.notebook.get_cells();\n",
       "                for (var i = 0; i < nbb_cells.length; ++i) {\n",
       "                    if (nbb_cells[i].input_prompt_number == nbb_cell_id) {\n",
       "                        if (nbb_cells[i].get_text() == nbb_unformatted_code) {\n",
       "                             nbb_cells[i].set_text(nbb_formatted_code);\n",
       "                        }\n",
       "                        break;\n",
       "                    }\n",
       "                }\n",
       "            }, 500);\n",
       "            "
      ],
      "text/plain": [
       "<IPython.core.display.Javascript object>"
      ]
     },
     "metadata": {},
     "output_type": "display_data"
    }
   ],
   "source": [
    "%reload_ext nb_black"
   ]
  },
  {
   "cell_type": "markdown",
   "metadata": {
    "hideCode": false,
    "hidePrompt": false
   },
   "source": [
    "### Warm-up"
   ]
  },
  {
   "cell_type": "markdown",
   "metadata": {
    "hideCode": false,
    "hidePrompt": false
   },
   "source": [
    "* Which supervised learning method's loss function is shown below? ($SSE$ is Sum of Squared Errors & $\\beta_i$ is the $i$th coefficient of the model)\n",
    "    * (A) Logisitic Regression\n",
    "    * (__B__) LASSO Regression\n",
    "    * (C) Ridge Regression\n",
    "    * (D) ElasticNet Regression\n",
    "\n",
    "$$SSE + \\lambda \\sum_{i=1}|\\beta_i|$$\n",
    "\n",
    "* Bonus for above, this method can also be referenced as \"\\_\\_\\_\\_\\_ Regularization\"\n",
    "    * (__A__) L1\n",
    "    * (B) L2\n",
    "    * (C) A1\n",
    "    * (D) B4\n",
    "\n",
    "---"
   ]
  },
  {
   "cell_type": "markdown",
   "metadata": {
    "hideCode": false,
    "hidePrompt": false
   },
   "source": [
    "* Which supervised learning method's loss function is shown below? ($SSE$ is Sum of Squared Errors & $\\beta_i$ is the $i$th coefficient of the model)\n",
    "    * (A) Logisitic Regression\n",
    "    * (B) LASSO Regression\n",
    "    * (__C__) Ridge Regression\n",
    "    * (D) ElasticNet Regression\n",
    "\n",
    "$$SSE + \\lambda \\sum_{i=1}\\beta_i^2$$\n",
    "\n",
    "* Bonus for above, this method can also be referenced as \"\\_\\_\\_\\_\\_ Regularization\"\n",
    "    * (A) L1\n",
    "    * (__B__) L2\n",
    "    * (C) A1\n",
    "    * (D) B4\n",
    "\n",
    "----"
   ]
  },
  {
   "cell_type": "markdown",
   "metadata": {
    "hideCode": false,
    "hidePrompt": false
   },
   "source": [
    "Some code for the remaining questions:\n",
    "\n",
    "```python\n",
    "import numpy as np\n",
    "\n",
    "y_test = np.array([ 6, -2, -4, 6,  -7])\n",
    "y_pred = np.array([ 4,  4, -3, 9, -30])\n",
    "\n",
    "mae = np.mean(np.abs(y_pred - y_test))\n",
    "rmse = np.sqrt(np.mean((y_pred - y_test) ** 2))\n",
    "```\n",
    "\n",
    "* What are the differences between the 2 in general?\n",
    "  * RMSE adds a bigger penalty for larger mistakes ($L_2$).  MAE weights all mistakes equally ($L_1$).\n",
    "* Why do we have multiple metrics for error?\n",
    "  * Sometimes we want to care more about minimizing big mistakes.  Other times we care about minimizing all mistakes even if it means some big ones show up every now and then.  This is the same reason we'll see multiple distances today. \n",
    "----"
   ]
  },
  {
   "cell_type": "markdown",
   "metadata": {
    "hideCode": false,
    "hidePrompt": false
   },
   "source": [
    "We're talking about distances today as if they're something new, but keep in mind you've been doing some distance calculations already: \n",
    "* Sometimes more explicitly - like when checking model performance by calculating MAE/RMSE (average distance between `y_pred` & `y_test`)\n",
    "* Sometimes less explicitly - like when using LASSO/Ridge/ElasticNet (distance between coefficients and 0)\n",
    "* Sometimes it was the whole point of the method - KNN (distance between observation and its nearest neighbors)"
   ]
  },
  {
   "cell_type": "code",
   "execution_count": 2,
   "metadata": {
    "hideCode": false,
    "hidePrompt": false
   },
   "outputs": [
    {
     "data": {
      "application/javascript": [
       "\n",
       "            setTimeout(function() {\n",
       "                var nbb_cell_id = 2;\n",
       "                var nbb_unformatted_code = \"import numpy as np\\nimport pandas as pd\\n\\nfrom sklearn.preprocessing import scale\\nfrom scipy.spatial.distance import pdist, squareform\\n\\nimport matplotlib.pyplot as plt\\n\\n%matplotlib inline\";\n",
       "                var nbb_formatted_code = \"import numpy as np\\nimport pandas as pd\\n\\nfrom sklearn.preprocessing import scale\\nfrom scipy.spatial.distance import pdist, squareform\\n\\nimport matplotlib.pyplot as plt\\n\\n%matplotlib inline\";\n",
       "                var nbb_cells = Jupyter.notebook.get_cells();\n",
       "                for (var i = 0; i < nbb_cells.length; ++i) {\n",
       "                    if (nbb_cells[i].input_prompt_number == nbb_cell_id) {\n",
       "                        if (nbb_cells[i].get_text() == nbb_unformatted_code) {\n",
       "                             nbb_cells[i].set_text(nbb_formatted_code);\n",
       "                        }\n",
       "                        break;\n",
       "                    }\n",
       "                }\n",
       "            }, 500);\n",
       "            "
      ],
      "text/plain": [
       "<IPython.core.display.Javascript object>"
      ]
     },
     "metadata": {},
     "output_type": "display_data"
    }
   ],
   "source": [
    "import numpy as np\n",
    "import pandas as pd\n",
    "\n",
    "from sklearn.preprocessing import scale\n",
    "from scipy.spatial.distance import pdist, squareform\n",
    "\n",
    "import matplotlib.pyplot as plt\n",
    "\n",
    "%matplotlib inline"
   ]
  },
  {
   "cell_type": "markdown",
   "metadata": {},
   "source": [
    "## Distances for continuous data"
   ]
  },
  {
   "cell_type": "markdown",
   "metadata": {
    "hideCode": false,
    "hidePrompt": false
   },
   "source": [
    "Resource that has plans to include all the distances we'll cover: https://adamspannbauer.github.io/distance_metrics_demo/"
   ]
  },
  {
   "cell_type": "code",
   "execution_count": 3,
   "metadata": {
    "hideCode": false,
    "hidePrompt": false
   },
   "outputs": [
    {
     "data": {
      "text/html": [
       "<div>\n",
       "<style scoped>\n",
       "    .dataframe tbody tr th:only-of-type {\n",
       "        vertical-align: middle;\n",
       "    }\n",
       "\n",
       "    .dataframe tbody tr th {\n",
       "        vertical-align: top;\n",
       "    }\n",
       "\n",
       "    .dataframe thead th {\n",
       "        text-align: right;\n",
       "    }\n",
       "</style>\n",
       "<table border=\"1\" class=\"dataframe\">\n",
       "  <thead>\n",
       "    <tr style=\"text-align: right;\">\n",
       "      <th></th>\n",
       "      <th>id</th>\n",
       "      <th>age</th>\n",
       "      <th>n_children</th>\n",
       "      <th>education</th>\n",
       "      <th>income</th>\n",
       "    </tr>\n",
       "  </thead>\n",
       "  <tbody>\n",
       "    <tr>\n",
       "      <th>0</th>\n",
       "      <td>1</td>\n",
       "      <td>30</td>\n",
       "      <td>0</td>\n",
       "      <td>3</td>\n",
       "      <td>80000</td>\n",
       "    </tr>\n",
       "    <tr>\n",
       "      <th>1</th>\n",
       "      <td>2</td>\n",
       "      <td>32</td>\n",
       "      <td>0</td>\n",
       "      <td>4</td>\n",
       "      <td>77000</td>\n",
       "    </tr>\n",
       "    <tr>\n",
       "      <th>2</th>\n",
       "      <td>3</td>\n",
       "      <td>55</td>\n",
       "      <td>3</td>\n",
       "      <td>12</td>\n",
       "      <td>81000</td>\n",
       "    </tr>\n",
       "  </tbody>\n",
       "</table>\n",
       "</div>"
      ],
      "text/plain": [
       "   id  age  n_children  education  income\n",
       "0   1   30           0          3   80000\n",
       "1   2   32           0          4   77000\n",
       "2   3   55           3         12   81000"
      ]
     },
     "execution_count": 3,
     "metadata": {},
     "output_type": "execute_result"
    },
    {
     "data": {
      "application/javascript": [
       "\n",
       "            setTimeout(function() {\n",
       "                var nbb_cell_id = 3;\n",
       "                var nbb_unformatted_code = \"df = pd.DataFrame(\\n    [[1, 30, 0, 3, 80000], [2, 32, 0, 4, 77000], [3, 55, 3, 12, 81000]],\\n    columns=[\\\"id\\\", \\\"age\\\", \\\"n_children\\\", \\\"education\\\", \\\"income\\\"],\\n)\\n\\ndf\";\n",
       "                var nbb_formatted_code = \"df = pd.DataFrame(\\n    [[1, 30, 0, 3, 80000], [2, 32, 0, 4, 77000], [3, 55, 3, 12, 81000]],\\n    columns=[\\\"id\\\", \\\"age\\\", \\\"n_children\\\", \\\"education\\\", \\\"income\\\"],\\n)\\n\\ndf\";\n",
       "                var nbb_cells = Jupyter.notebook.get_cells();\n",
       "                for (var i = 0; i < nbb_cells.length; ++i) {\n",
       "                    if (nbb_cells[i].input_prompt_number == nbb_cell_id) {\n",
       "                        if (nbb_cells[i].get_text() == nbb_unformatted_code) {\n",
       "                             nbb_cells[i].set_text(nbb_formatted_code);\n",
       "                        }\n",
       "                        break;\n",
       "                    }\n",
       "                }\n",
       "            }, 500);\n",
       "            "
      ],
      "text/plain": [
       "<IPython.core.display.Javascript object>"
      ]
     },
     "metadata": {},
     "output_type": "display_data"
    }
   ],
   "source": [
    "df = pd.DataFrame(\n",
    "    [[1, 30, 0, 3, 80000], [2, 32, 0, 4, 77000], [3, 55, 3, 12, 81000]],\n",
    "    columns=[\"id\", \"age\", \"n_children\", \"education\", \"income\"],\n",
    ")\n",
    "\n",
    "df"
   ]
  },
  {
   "cell_type": "markdown",
   "metadata": {
    "hideCode": false,
    "hidePrompt": false
   },
   "source": [
    "* Who are the most similar intuitively?\n",
    "* Calculate the distance between each row to support/refute your intuition.\n",
    "    * We'll calculate these first few 'by hand' and then use an imported function later."
   ]
  },
  {
   "cell_type": "code",
   "execution_count": 4,
   "metadata": {},
   "outputs": [
    {
     "data": {
      "application/javascript": [
       "\n",
       "            setTimeout(function() {\n",
       "                var nbb_cell_id = 4;\n",
       "                var nbb_unformatted_code = \"scaled_df = scale(df)\\n\\nfirst_row = scaled_df[0, :]\\nsecond_row = scaled_df[1, :]\\nthird_row = scaled_df[2, :]\";\n",
       "                var nbb_formatted_code = \"scaled_df = scale(df)\\n\\nfirst_row = scaled_df[0, :]\\nsecond_row = scaled_df[1, :]\\nthird_row = scaled_df[2, :]\";\n",
       "                var nbb_cells = Jupyter.notebook.get_cells();\n",
       "                for (var i = 0; i < nbb_cells.length; ++i) {\n",
       "                    if (nbb_cells[i].input_prompt_number == nbb_cell_id) {\n",
       "                        if (nbb_cells[i].get_text() == nbb_unformatted_code) {\n",
       "                             nbb_cells[i].set_text(nbb_formatted_code);\n",
       "                        }\n",
       "                        break;\n",
       "                    }\n",
       "                }\n",
       "            }, 500);\n",
       "            "
      ],
      "text/plain": [
       "<IPython.core.display.Javascript object>"
      ]
     },
     "metadata": {},
     "output_type": "display_data"
    }
   ],
   "source": [
    "scaled_df = scale(df)\n",
    "\n",
    "first_row = scaled_df[0, :]\n",
    "second_row = scaled_df[1, :]\n",
    "third_row = scaled_df[2, :]"
   ]
  },
  {
   "cell_type": "code",
   "execution_count": 5,
   "metadata": {},
   "outputs": [
    {
     "data": {
      "text/plain": [
       "2.169819470348307"
      ]
     },
     "execution_count": 5,
     "metadata": {},
     "output_type": "execute_result"
    },
    {
     "data": {
      "application/javascript": [
       "\n",
       "            setTimeout(function() {\n",
       "                var nbb_cell_id = 5;\n",
       "                var nbb_unformatted_code = \"np.sqrt(np.sum((first_row - second_row) ** 2))\";\n",
       "                var nbb_formatted_code = \"np.sqrt(np.sum((first_row - second_row) ** 2))\";\n",
       "                var nbb_cells = Jupyter.notebook.get_cells();\n",
       "                for (var i = 0; i < nbb_cells.length; ++i) {\n",
       "                    if (nbb_cells[i].input_prompt_number == nbb_cell_id) {\n",
       "                        if (nbb_cells[i].get_text() == nbb_unformatted_code) {\n",
       "                             nbb_cells[i].set_text(nbb_formatted_code);\n",
       "                        }\n",
       "                        break;\n",
       "                    }\n",
       "                }\n",
       "            }, 500);\n",
       "            "
      ],
      "text/plain": [
       "<IPython.core.display.Javascript object>"
      ]
     },
     "metadata": {},
     "output_type": "display_data"
    }
   ],
   "source": [
    "np.sqrt(np.sum((first_row - second_row) ** 2))"
   ]
  },
  {
   "cell_type": "code",
   "execution_count": 6,
   "metadata": {},
   "outputs": [
    {
     "data": {
      "text/plain": [
       "4.549375504885614"
      ]
     },
     "execution_count": 6,
     "metadata": {},
     "output_type": "execute_result"
    },
    {
     "data": {
      "application/javascript": [
       "\n",
       "            setTimeout(function() {\n",
       "                var nbb_cell_id = 6;\n",
       "                var nbb_unformatted_code = \"np.sqrt(np.sum((first_row - third_row) ** 2))\";\n",
       "                var nbb_formatted_code = \"np.sqrt(np.sum((first_row - third_row) ** 2))\";\n",
       "                var nbb_cells = Jupyter.notebook.get_cells();\n",
       "                for (var i = 0; i < nbb_cells.length; ++i) {\n",
       "                    if (nbb_cells[i].input_prompt_number == nbb_cell_id) {\n",
       "                        if (nbb_cells[i].get_text() == nbb_unformatted_code) {\n",
       "                             nbb_cells[i].set_text(nbb_formatted_code);\n",
       "                        }\n",
       "                        break;\n",
       "                    }\n",
       "                }\n",
       "            }, 500);\n",
       "            "
      ],
      "text/plain": [
       "<IPython.core.display.Javascript object>"
      ]
     },
     "metadata": {},
     "output_type": "display_data"
    }
   ],
   "source": [
    "np.sqrt(np.sum((first_row - third_row) ** 2))"
   ]
  },
  {
   "cell_type": "code",
   "execution_count": 7,
   "metadata": {},
   "outputs": [
    {
     "data": {
      "text/plain": [
       "4.426631448589792"
      ]
     },
     "execution_count": 7,
     "metadata": {},
     "output_type": "execute_result"
    },
    {
     "data": {
      "application/javascript": [
       "\n",
       "            setTimeout(function() {\n",
       "                var nbb_cell_id = 7;\n",
       "                var nbb_unformatted_code = \"np.sqrt(np.sum((second_row - third_row) ** 2))\";\n",
       "                var nbb_formatted_code = \"np.sqrt(np.sum((second_row - third_row) ** 2))\";\n",
       "                var nbb_cells = Jupyter.notebook.get_cells();\n",
       "                for (var i = 0; i < nbb_cells.length; ++i) {\n",
       "                    if (nbb_cells[i].input_prompt_number == nbb_cell_id) {\n",
       "                        if (nbb_cells[i].get_text() == nbb_unformatted_code) {\n",
       "                             nbb_cells[i].set_text(nbb_formatted_code);\n",
       "                        }\n",
       "                        break;\n",
       "                    }\n",
       "                }\n",
       "            }, 500);\n",
       "            "
      ],
      "text/plain": [
       "<IPython.core.display.Javascript object>"
      ]
     },
     "metadata": {},
     "output_type": "display_data"
    }
   ],
   "source": [
    "np.sqrt(np.sum((second_row - third_row) ** 2))"
   ]
  },
  {
   "cell_type": "markdown",
   "metadata": {
    "hideCode": false,
    "hidePrompt": false
   },
   "source": [
    "A more practical solution is use the `pdist` function from `scipy.spatial.distance`."
   ]
  },
  {
   "cell_type": "code",
   "execution_count": 8,
   "metadata": {
    "hideCode": false,
    "hidePrompt": false
   },
   "outputs": [
    {
     "data": {
      "text/plain": [
       "array([2.16981947, 4.5493755 , 4.42663145])"
      ]
     },
     "execution_count": 8,
     "metadata": {},
     "output_type": "execute_result"
    },
    {
     "data": {
      "application/javascript": [
       "\n",
       "            setTimeout(function() {\n",
       "                var nbb_cell_id = 8;\n",
       "                var nbb_unformatted_code = \"pdist(scaled_df)\";\n",
       "                var nbb_formatted_code = \"pdist(scaled_df)\";\n",
       "                var nbb_cells = Jupyter.notebook.get_cells();\n",
       "                for (var i = 0; i < nbb_cells.length; ++i) {\n",
       "                    if (nbb_cells[i].input_prompt_number == nbb_cell_id) {\n",
       "                        if (nbb_cells[i].get_text() == nbb_unformatted_code) {\n",
       "                             nbb_cells[i].set_text(nbb_formatted_code);\n",
       "                        }\n",
       "                        break;\n",
       "                    }\n",
       "                }\n",
       "            }, 500);\n",
       "            "
      ],
      "text/plain": [
       "<IPython.core.display.Javascript object>"
      ]
     },
     "metadata": {},
     "output_type": "display_data"
    }
   ],
   "source": [
    "pdist(scaled_df)"
   ]
  },
  {
   "cell_type": "markdown",
   "metadata": {
    "hideCode": false,
    "hidePrompt": false
   },
   "source": [
    "Its often paired with the `squareform` function."
   ]
  },
  {
   "cell_type": "code",
   "execution_count": 9,
   "metadata": {
    "hideCode": false,
    "hidePrompt": false
   },
   "outputs": [
    {
     "data": {
      "text/plain": [
       "array([[0.        , 2.16981947, 4.5493755 ],\n",
       "       [2.16981947, 0.        , 4.42663145],\n",
       "       [4.5493755 , 4.42663145, 0.        ]])"
      ]
     },
     "execution_count": 9,
     "metadata": {},
     "output_type": "execute_result"
    },
    {
     "data": {
      "application/javascript": [
       "\n",
       "            setTimeout(function() {\n",
       "                var nbb_cell_id = 9;\n",
       "                var nbb_unformatted_code = \"squareform(pdist(scaled_df))\";\n",
       "                var nbb_formatted_code = \"squareform(pdist(scaled_df))\";\n",
       "                var nbb_cells = Jupyter.notebook.get_cells();\n",
       "                for (var i = 0; i < nbb_cells.length; ++i) {\n",
       "                    if (nbb_cells[i].input_prompt_number == nbb_cell_id) {\n",
       "                        if (nbb_cells[i].get_text() == nbb_unformatted_code) {\n",
       "                             nbb_cells[i].set_text(nbb_formatted_code);\n",
       "                        }\n",
       "                        break;\n",
       "                    }\n",
       "                }\n",
       "            }, 500);\n",
       "            "
      ],
      "text/plain": [
       "<IPython.core.display.Javascript object>"
      ]
     },
     "metadata": {},
     "output_type": "display_data"
    }
   ],
   "source": [
    "squareform(pdist(scaled_df))"
   ]
  },
  {
   "cell_type": "markdown",
   "metadata": {
    "hideCode": false,
    "hidePrompt": false
   },
   "source": [
    "For a prettier print in jupyter you can convert to a dataframe."
   ]
  },
  {
   "cell_type": "code",
   "execution_count": 10,
   "metadata": {
    "hideCode": false,
    "hidePrompt": false
   },
   "outputs": [
    {
     "data": {
      "text/html": [
       "<div>\n",
       "<style scoped>\n",
       "    .dataframe tbody tr th:only-of-type {\n",
       "        vertical-align: middle;\n",
       "    }\n",
       "\n",
       "    .dataframe tbody tr th {\n",
       "        vertical-align: top;\n",
       "    }\n",
       "\n",
       "    .dataframe thead th {\n",
       "        text-align: right;\n",
       "    }\n",
       "</style>\n",
       "<table border=\"1\" class=\"dataframe\">\n",
       "  <thead>\n",
       "    <tr style=\"text-align: right;\">\n",
       "      <th></th>\n",
       "      <th>0</th>\n",
       "      <th>1</th>\n",
       "      <th>2</th>\n",
       "    </tr>\n",
       "  </thead>\n",
       "  <tbody>\n",
       "    <tr>\n",
       "      <th>0</th>\n",
       "      <td>0.000000</td>\n",
       "      <td>2.169819</td>\n",
       "      <td>4.549376</td>\n",
       "    </tr>\n",
       "    <tr>\n",
       "      <th>1</th>\n",
       "      <td>2.169819</td>\n",
       "      <td>0.000000</td>\n",
       "      <td>4.426631</td>\n",
       "    </tr>\n",
       "    <tr>\n",
       "      <th>2</th>\n",
       "      <td>4.549376</td>\n",
       "      <td>4.426631</td>\n",
       "      <td>0.000000</td>\n",
       "    </tr>\n",
       "  </tbody>\n",
       "</table>\n",
       "</div>"
      ],
      "text/plain": [
       "          0         1         2\n",
       "0  0.000000  2.169819  4.549376\n",
       "1  2.169819  0.000000  4.426631\n",
       "2  4.549376  4.426631  0.000000"
      ]
     },
     "execution_count": 10,
     "metadata": {},
     "output_type": "execute_result"
    },
    {
     "data": {
      "application/javascript": [
       "\n",
       "            setTimeout(function() {\n",
       "                var nbb_cell_id = 10;\n",
       "                var nbb_unformatted_code = \"pd.DataFrame(squareform(pdist(scaled_df)))\";\n",
       "                var nbb_formatted_code = \"pd.DataFrame(squareform(pdist(scaled_df)))\";\n",
       "                var nbb_cells = Jupyter.notebook.get_cells();\n",
       "                for (var i = 0; i < nbb_cells.length; ++i) {\n",
       "                    if (nbb_cells[i].input_prompt_number == nbb_cell_id) {\n",
       "                        if (nbb_cells[i].get_text() == nbb_unformatted_code) {\n",
       "                             nbb_cells[i].set_text(nbb_formatted_code);\n",
       "                        }\n",
       "                        break;\n",
       "                    }\n",
       "                }\n",
       "            }, 500);\n",
       "            "
      ],
      "text/plain": [
       "<IPython.core.display.Javascript object>"
      ]
     },
     "metadata": {},
     "output_type": "display_data"
    }
   ],
   "source": [
    "pd.DataFrame(squareform(pdist(scaled_df)))"
   ]
  },
  {
   "cell_type": "markdown",
   "metadata": {
    "hideCode": false,
    "hidePrompt": false
   },
   "source": [
    "* What is the default method used in `pdist`?\n",
    "* What other distance methods does `pdist` provide?"
   ]
  },
  {
   "cell_type": "code",
   "execution_count": 11,
   "metadata": {
    "hideCode": false,
    "hidePrompt": false
   },
   "outputs": [
    {
     "data": {
      "text/html": [
       "<div>\n",
       "<style scoped>\n",
       "    .dataframe tbody tr th:only-of-type {\n",
       "        vertical-align: middle;\n",
       "    }\n",
       "\n",
       "    .dataframe tbody tr th {\n",
       "        vertical-align: top;\n",
       "    }\n",
       "\n",
       "    .dataframe thead th {\n",
       "        text-align: right;\n",
       "    }\n",
       "</style>\n",
       "<table border=\"1\" class=\"dataframe\">\n",
       "  <thead>\n",
       "    <tr style=\"text-align: right;\">\n",
       "      <th></th>\n",
       "      <th>0</th>\n",
       "      <th>1</th>\n",
       "      <th>2</th>\n",
       "    </tr>\n",
       "  </thead>\n",
       "  <tbody>\n",
       "    <tr>\n",
       "      <th>0</th>\n",
       "      <td>0.000000</td>\n",
       "      <td>3.414390</td>\n",
       "      <td>9.597671</td>\n",
       "    </tr>\n",
       "    <tr>\n",
       "      <th>1</th>\n",
       "      <td>3.414390</td>\n",
       "      <td>0.000000</td>\n",
       "      <td>9.713371</td>\n",
       "    </tr>\n",
       "    <tr>\n",
       "      <th>2</th>\n",
       "      <td>9.597671</td>\n",
       "      <td>9.713371</td>\n",
       "      <td>0.000000</td>\n",
       "    </tr>\n",
       "  </tbody>\n",
       "</table>\n",
       "</div>"
      ],
      "text/plain": [
       "          0         1         2\n",
       "0  0.000000  3.414390  9.597671\n",
       "1  3.414390  0.000000  9.713371\n",
       "2  9.597671  9.713371  0.000000"
      ]
     },
     "execution_count": 11,
     "metadata": {},
     "output_type": "execute_result"
    },
    {
     "data": {
      "application/javascript": [
       "\n",
       "            setTimeout(function() {\n",
       "                var nbb_cell_id = 11;\n",
       "                var nbb_unformatted_code = \"pd.DataFrame(squareform(pdist(scaled_df, metric=\\\"cityblock\\\")))\";\n",
       "                var nbb_formatted_code = \"pd.DataFrame(squareform(pdist(scaled_df, metric=\\\"cityblock\\\")))\";\n",
       "                var nbb_cells = Jupyter.notebook.get_cells();\n",
       "                for (var i = 0; i < nbb_cells.length; ++i) {\n",
       "                    if (nbb_cells[i].input_prompt_number == nbb_cell_id) {\n",
       "                        if (nbb_cells[i].get_text() == nbb_unformatted_code) {\n",
       "                             nbb_cells[i].set_text(nbb_formatted_code);\n",
       "                        }\n",
       "                        break;\n",
       "                    }\n",
       "                }\n",
       "            }, 500);\n",
       "            "
      ],
      "text/plain": [
       "<IPython.core.display.Javascript object>"
      ]
     },
     "metadata": {},
     "output_type": "display_data"
    }
   ],
   "source": [
    "pd.DataFrame(squareform(pdist(scaled_df, metric=\"cityblock\")))"
   ]
  },
  {
   "cell_type": "markdown",
   "metadata": {
    "hideCode": false,
    "hidePrompt": false
   },
   "source": [
    "An example to show why cosine distance makes sense.\n",
    "\n",
    "Let's say the below data is some features made from 2 different blogs.  The way we created this data is by counting the number of times each word appeared in each blog.\n",
    "\n",
    "One was a political blog talking about Donald Trump; the other was a game blog talking about the intricacies of a card game's 'trump card' mechanic."
   ]
  },
  {
   "cell_type": "code",
   "execution_count": 12,
   "metadata": {
    "hideCode": false,
    "hidePrompt": false
   },
   "outputs": [
    {
     "data": {
      "text/html": [
       "<div>\n",
       "<style scoped>\n",
       "    .dataframe tbody tr th:only-of-type {\n",
       "        vertical-align: middle;\n",
       "    }\n",
       "\n",
       "    .dataframe tbody tr th {\n",
       "        vertical-align: top;\n",
       "    }\n",
       "\n",
       "    .dataframe thead th {\n",
       "        text-align: right;\n",
       "    }\n",
       "</style>\n",
       "<table border=\"1\" class=\"dataframe\">\n",
       "  <thead>\n",
       "    <tr style=\"text-align: right;\">\n",
       "      <th></th>\n",
       "      <th>trump</th>\n",
       "      <th>card</th>\n",
       "      <th>donald</th>\n",
       "    </tr>\n",
       "  </thead>\n",
       "  <tbody>\n",
       "    <tr>\n",
       "      <th>blog1</th>\n",
       "      <td>20</td>\n",
       "      <td>1</td>\n",
       "      <td>17</td>\n",
       "    </tr>\n",
       "    <tr>\n",
       "      <th>blog2</th>\n",
       "      <td>40</td>\n",
       "      <td>45</td>\n",
       "      <td>0</td>\n",
       "    </tr>\n",
       "  </tbody>\n",
       "</table>\n",
       "</div>"
      ],
      "text/plain": [
       "       trump  card  donald\n",
       "blog1     20     1      17\n",
       "blog2     40    45       0"
      ]
     },
     "execution_count": 12,
     "metadata": {},
     "output_type": "execute_result"
    },
    {
     "data": {
      "application/javascript": [
       "\n",
       "            setTimeout(function() {\n",
       "                var nbb_cell_id = 12;\n",
       "                var nbb_unformatted_code = \"text_df = pd.DataFrame({\\\"trump\\\": [20, 40], \\\"card\\\": [1, 45], \\\"donald\\\": [17, 0]})\\ntext_df.index = [\\\"blog1\\\", \\\"blog2\\\"]\\ntext_df\";\n",
       "                var nbb_formatted_code = \"text_df = pd.DataFrame({\\\"trump\\\": [20, 40], \\\"card\\\": [1, 45], \\\"donald\\\": [17, 0]})\\ntext_df.index = [\\\"blog1\\\", \\\"blog2\\\"]\\ntext_df\";\n",
       "                var nbb_cells = Jupyter.notebook.get_cells();\n",
       "                for (var i = 0; i < nbb_cells.length; ++i) {\n",
       "                    if (nbb_cells[i].input_prompt_number == nbb_cell_id) {\n",
       "                        if (nbb_cells[i].get_text() == nbb_unformatted_code) {\n",
       "                             nbb_cells[i].set_text(nbb_formatted_code);\n",
       "                        }\n",
       "                        break;\n",
       "                    }\n",
       "                }\n",
       "            }, 500);\n",
       "            "
      ],
      "text/plain": [
       "<IPython.core.display.Javascript object>"
      ]
     },
     "metadata": {},
     "output_type": "display_data"
    }
   ],
   "source": [
    "text_df = pd.DataFrame({\"trump\": [20, 40], \"card\": [1, 45], \"donald\": [17, 0]})\n",
    "text_df.index = [\"blog1\", \"blog2\"]\n",
    "text_df"
   ]
  },
  {
   "cell_type": "markdown",
   "metadata": {
    "hideCode": false,
    "hidePrompt": false
   },
   "source": [
    "The option to visualize that we've been using so far together:"
   ]
  },
  {
   "cell_type": "code",
   "execution_count": 13,
   "metadata": {
    "hideCode": false,
    "hidePrompt": false
   },
   "outputs": [
    {
     "data": {
      "image/png": "[encoded data removed]",
      "text/plain": [
       "<Figure size 432x288 with 1 Axes>"
      ]
     },
     "metadata": {
      "needs_background": "light"
     },
     "output_type": "display_data"
    },
    {
     "data": {
      "application/javascript": [
       "\n",
       "            setTimeout(function() {\n",
       "                var nbb_cell_id = 13;\n",
       "                var nbb_unformatted_code = \"plt.scatter(text_df[\\\"trump\\\"][0], text_df[\\\"card\\\"][0], color=\\\"blue\\\", label=\\\"blog1\\\")\\nplt.scatter(text_df[\\\"trump\\\"][1], text_df[\\\"card\\\"][1], color=\\\"orange\\\", label=\\\"blog2\\\")\\n\\nplt.axis(\\\"square\\\")\\nplt.xlabel(\\\"n(trump)\\\")\\nplt.ylabel(\\\"n(card)\\\")\\nplt.xlim(-1, 48)\\nplt.ylim(-1, 48)\\nplt.legend(loc=\\\"upper left\\\")\\nplt.show()\";\n",
       "                var nbb_formatted_code = \"plt.scatter(text_df[\\\"trump\\\"][0], text_df[\\\"card\\\"][0], color=\\\"blue\\\", label=\\\"blog1\\\")\\nplt.scatter(text_df[\\\"trump\\\"][1], text_df[\\\"card\\\"][1], color=\\\"orange\\\", label=\\\"blog2\\\")\\n\\nplt.axis(\\\"square\\\")\\nplt.xlabel(\\\"n(trump)\\\")\\nplt.ylabel(\\\"n(card)\\\")\\nplt.xlim(-1, 48)\\nplt.ylim(-1, 48)\\nplt.legend(loc=\\\"upper left\\\")\\nplt.show()\";\n",
       "                var nbb_cells = Jupyter.notebook.get_cells();\n",
       "                for (var i = 0; i < nbb_cells.length; ++i) {\n",
       "                    if (nbb_cells[i].input_prompt_number == nbb_cell_id) {\n",
       "                        if (nbb_cells[i].get_text() == nbb_unformatted_code) {\n",
       "                             nbb_cells[i].set_text(nbb_formatted_code);\n",
       "                        }\n",
       "                        break;\n",
       "                    }\n",
       "                }\n",
       "            }, 500);\n",
       "            "
      ],
      "text/plain": [
       "<IPython.core.display.Javascript object>"
      ]
     },
     "metadata": {},
     "output_type": "display_data"
    }
   ],
   "source": [
    "plt.scatter(text_df[\"trump\"][0], text_df[\"card\"][0], color=\"blue\", label=\"blog1\")\n",
    "plt.scatter(text_df[\"trump\"][1], text_df[\"card\"][1], color=\"orange\", label=\"blog2\")\n",
    "\n",
    "plt.axis(\"square\")\n",
    "plt.xlabel(\"n(trump)\")\n",
    "plt.ylabel(\"n(card)\")\n",
    "plt.xlim(-1, 48)\n",
    "plt.ylim(-1, 48)\n",
    "plt.legend(loc=\"upper left\")\n",
    "plt.show()"
   ]
  },
  {
   "cell_type": "markdown",
   "metadata": {
    "hideCode": false,
    "hidePrompt": false
   },
   "source": [
    "Another way to visualize/think about this is the data as vectors.  The beginnings of the vectors originate from the origin, and the tips of the vectors point to the location of our data as shown in the scatter plot."
   ]
  },
  {
   "cell_type": "code",
   "execution_count": 14,
   "metadata": {
    "hideCode": false,
    "hidePrompt": false
   },
   "outputs": [
    {
     "data": {
      "image/png": "[encoded data removed]",
      "text/plain": [
       "<Figure size 432x288 with 1 Axes>"
      ]
     },
     "metadata": {
      "needs_background": "light"
     },
     "output_type": "display_data"
    },
    {
     "data": {
      "application/javascript": [
       "\n",
       "            setTimeout(function() {\n",
       "                var nbb_cell_id = 14;\n",
       "                var nbb_unformatted_code = \"# fmt: off\\nplt.quiver(\\n    [0], [0],\\n    text_df[\\\"trump\\\"][0], text_df[\\\"card\\\"][0],\\n    color=\\\"blue\\\", label=\\\"blog1\\\",\\n    angles=\\\"xy\\\", scale_units=\\\"xy\\\", scale=1,\\n)\\nplt.quiver(\\n    [0], [0],\\n    text_df[\\\"trump\\\"][1], text_df[\\\"card\\\"][1],\\n    color=\\\"orange\\\", label=\\\"blog2\\\",\\n    angles=\\\"xy\\\", scale_units=\\\"xy\\\", scale=1,\\n)\\n# fmt: on\\nplt.axis(\\\"square\\\")\\nplt.xlabel(\\\"n(trump)\\\")\\nplt.ylabel(\\\"n(card)\\\")\\nplt.xlim(-1, 48)\\nplt.ylim(-1, 48)\\nplt.legend(loc=\\\"upper left\\\")\\nplt.show()\";\n",
       "                var nbb_formatted_code = \"# fmt: off\\nplt.quiver(\\n    [0], [0],\\n    text_df[\\\"trump\\\"][0], text_df[\\\"card\\\"][0],\\n    color=\\\"blue\\\", label=\\\"blog1\\\",\\n    angles=\\\"xy\\\", scale_units=\\\"xy\\\", scale=1,\\n)\\nplt.quiver(\\n    [0], [0],\\n    text_df[\\\"trump\\\"][1], text_df[\\\"card\\\"][1],\\n    color=\\\"orange\\\", label=\\\"blog2\\\",\\n    angles=\\\"xy\\\", scale_units=\\\"xy\\\", scale=1,\\n)\\n# fmt: on\\nplt.axis(\\\"square\\\")\\nplt.xlabel(\\\"n(trump)\\\")\\nplt.ylabel(\\\"n(card)\\\")\\nplt.xlim(-1, 48)\\nplt.ylim(-1, 48)\\nplt.legend(loc=\\\"upper left\\\")\\nplt.show()\";\n",
       "                var nbb_cells = Jupyter.notebook.get_cells();\n",
       "                for (var i = 0; i < nbb_cells.length; ++i) {\n",
       "                    if (nbb_cells[i].input_prompt_number == nbb_cell_id) {\n",
       "                        if (nbb_cells[i].get_text() == nbb_unformatted_code) {\n",
       "                             nbb_cells[i].set_text(nbb_formatted_code);\n",
       "                        }\n",
       "                        break;\n",
       "                    }\n",
       "                }\n",
       "            }, 500);\n",
       "            "
      ],
      "text/plain": [
       "<IPython.core.display.Javascript object>"
      ]
     },
     "metadata": {},
     "output_type": "display_data"
    }
   ],
   "source": [
    "# fmt: off\n",
    "plt.quiver(\n",
    "    [0], [0],\n",
    "    text_df[\"trump\"][0], text_df[\"card\"][0],\n",
    "    color=\"blue\", label=\"blog1\",\n",
    "    angles=\"xy\", scale_units=\"xy\", scale=1,\n",
    ")\n",
    "plt.quiver(\n",
    "    [0], [0],\n",
    "    text_df[\"trump\"][1], text_df[\"card\"][1],\n",
    "    color=\"orange\", label=\"blog2\",\n",
    "    angles=\"xy\", scale_units=\"xy\", scale=1,\n",
    ")\n",
    "# fmt: on\n",
    "plt.axis(\"square\")\n",
    "plt.xlabel(\"n(trump)\")\n",
    "plt.ylabel(\"n(card)\")\n",
    "plt.xlim(-1, 48)\n",
    "plt.ylim(-1, 48)\n",
    "plt.legend(loc=\"upper left\")\n",
    "plt.show()"
   ]
  },
  {
   "cell_type": "markdown",
   "metadata": {
    "hideCode": false,
    "hidePrompt": false
   },
   "source": [
    "We now have the same style of data but for a shorter post.  Which blog is the post most similar to?"
   ]
  },
  {
   "cell_type": "code",
   "execution_count": 15,
   "metadata": {
    "hideCode": false,
    "hidePrompt": false
   },
   "outputs": [
    {
     "data": {
      "text/html": [
       "<div>\n",
       "<style scoped>\n",
       "    .dataframe tbody tr th:only-of-type {\n",
       "        vertical-align: middle;\n",
       "    }\n",
       "\n",
       "    .dataframe tbody tr th {\n",
       "        vertical-align: top;\n",
       "    }\n",
       "\n",
       "    .dataframe thead th {\n",
       "        text-align: right;\n",
       "    }\n",
       "</style>\n",
       "<table border=\"1\" class=\"dataframe\">\n",
       "  <thead>\n",
       "    <tr style=\"text-align: right;\">\n",
       "      <th></th>\n",
       "      <th>trump</th>\n",
       "      <th>card</th>\n",
       "      <th>donald</th>\n",
       "    </tr>\n",
       "  </thead>\n",
       "  <tbody>\n",
       "    <tr>\n",
       "      <th>blog1</th>\n",
       "      <td>20</td>\n",
       "      <td>1</td>\n",
       "      <td>17</td>\n",
       "    </tr>\n",
       "    <tr>\n",
       "      <th>blog2</th>\n",
       "      <td>40</td>\n",
       "      <td>45</td>\n",
       "      <td>0</td>\n",
       "    </tr>\n",
       "    <tr>\n",
       "      <th>new_post</th>\n",
       "      <td>5</td>\n",
       "      <td>6</td>\n",
       "      <td>0</td>\n",
       "    </tr>\n",
       "  </tbody>\n",
       "</table>\n",
       "</div>"
      ],
      "text/plain": [
       "          trump  card  donald\n",
       "blog1        20     1      17\n",
       "blog2        40    45       0\n",
       "new_post      5     6       0"
      ]
     },
     "execution_count": 15,
     "metadata": {},
     "output_type": "execute_result"
    },
    {
     "data": {
      "application/javascript": [
       "\n",
       "            setTimeout(function() {\n",
       "                var nbb_cell_id = 15;\n",
       "                var nbb_unformatted_code = \"new_observation = pd.DataFrame(\\n    {\\\"trump\\\": [5], \\\"card\\\": [6], \\\"donald\\\": [0]}, index=[\\\"new_post\\\"]\\n)\\n\\nfull_df = pd.concat((text_df, new_observation))\\nfull_df\";\n",
       "                var nbb_formatted_code = \"new_observation = pd.DataFrame(\\n    {\\\"trump\\\": [5], \\\"card\\\": [6], \\\"donald\\\": [0]}, index=[\\\"new_post\\\"]\\n)\\n\\nfull_df = pd.concat((text_df, new_observation))\\nfull_df\";\n",
       "                var nbb_cells = Jupyter.notebook.get_cells();\n",
       "                for (var i = 0; i < nbb_cells.length; ++i) {\n",
       "                    if (nbb_cells[i].input_prompt_number == nbb_cell_id) {\n",
       "                        if (nbb_cells[i].get_text() == nbb_unformatted_code) {\n",
       "                             nbb_cells[i].set_text(nbb_formatted_code);\n",
       "                        }\n",
       "                        break;\n",
       "                    }\n",
       "                }\n",
       "            }, 500);\n",
       "            "
      ],
      "text/plain": [
       "<IPython.core.display.Javascript object>"
      ]
     },
     "metadata": {},
     "output_type": "display_data"
    }
   ],
   "source": [
    "new_observation = pd.DataFrame(\n",
    "    {\"trump\": [5], \"card\": [6], \"donald\": [0]}, index=[\"new_post\"]\n",
    ")\n",
    "\n",
    "full_df = pd.concat((text_df, new_observation))\n",
    "full_df"
   ]
  },
  {
   "cell_type": "markdown",
   "metadata": {},
   "source": [
    "A scatter plot makes our minds think more in terms of euclidean distance."
   ]
  },
  {
   "cell_type": "code",
   "execution_count": 16,
   "metadata": {
    "hideCode": false,
    "hidePrompt": false
   },
   "outputs": [
    {
     "data": {
      "image/png": "[encoded data removed]",
      "text/plain": [
       "<Figure size 432x288 with 1 Axes>"
      ]
     },
     "metadata": {
      "needs_background": "light"
     },
     "output_type": "display_data"
    },
    {
     "data": {
      "application/javascript": [
       "\n",
       "            setTimeout(function() {\n",
       "                var nbb_cell_id = 16;\n",
       "                var nbb_unformatted_code = \"plt.scatter(full_df[\\\"trump\\\"][0], full_df[\\\"card\\\"][0], color=\\\"blue\\\", label=\\\"blog1\\\")\\nplt.scatter(full_df[\\\"trump\\\"][1], full_df[\\\"card\\\"][1], color=\\\"orange\\\", label=\\\"blog2\\\")\\nplt.scatter(\\n    full_df[\\\"trump\\\"][2], full_df[\\\"card\\\"][2], color=\\\"black\\\", label=\\\"new_post\\\",\\n)\\n\\nplt.axis(\\\"square\\\")\\nplt.xlabel(\\\"n(trump)\\\")\\nplt.ylabel(\\\"n(card)\\\")\\nplt.xlim(-1, 48)\\nplt.ylim(-1, 48)\\nplt.legend(loc=\\\"upper left\\\")\\nplt.show()\";\n",
       "                var nbb_formatted_code = \"plt.scatter(full_df[\\\"trump\\\"][0], full_df[\\\"card\\\"][0], color=\\\"blue\\\", label=\\\"blog1\\\")\\nplt.scatter(full_df[\\\"trump\\\"][1], full_df[\\\"card\\\"][1], color=\\\"orange\\\", label=\\\"blog2\\\")\\nplt.scatter(\\n    full_df[\\\"trump\\\"][2], full_df[\\\"card\\\"][2], color=\\\"black\\\", label=\\\"new_post\\\",\\n)\\n\\nplt.axis(\\\"square\\\")\\nplt.xlabel(\\\"n(trump)\\\")\\nplt.ylabel(\\\"n(card)\\\")\\nplt.xlim(-1, 48)\\nplt.ylim(-1, 48)\\nplt.legend(loc=\\\"upper left\\\")\\nplt.show()\";\n",
       "                var nbb_cells = Jupyter.notebook.get_cells();\n",
       "                for (var i = 0; i < nbb_cells.length; ++i) {\n",
       "                    if (nbb_cells[i].input_prompt_number == nbb_cell_id) {\n",
       "                        if (nbb_cells[i].get_text() == nbb_unformatted_code) {\n",
       "                             nbb_cells[i].set_text(nbb_formatted_code);\n",
       "                        }\n",
       "                        break;\n",
       "                    }\n",
       "                }\n",
       "            }, 500);\n",
       "            "
      ],
      "text/plain": [
       "<IPython.core.display.Javascript object>"
      ]
     },
     "metadata": {},
     "output_type": "display_data"
    }
   ],
   "source": [
    "plt.scatter(full_df[\"trump\"][0], full_df[\"card\"][0], color=\"blue\", label=\"blog1\")\n",
    "plt.scatter(full_df[\"trump\"][1], full_df[\"card\"][1], color=\"orange\", label=\"blog2\")\n",
    "plt.scatter(\n",
    "    full_df[\"trump\"][2], full_df[\"card\"][2], color=\"black\", label=\"new_post\",\n",
    ")\n",
    "\n",
    "plt.axis(\"square\")\n",
    "plt.xlabel(\"n(trump)\")\n",
    "plt.ylabel(\"n(card)\")\n",
    "plt.xlim(-1, 48)\n",
    "plt.ylim(-1, 48)\n",
    "plt.legend(loc=\"upper left\")\n",
    "plt.show()"
   ]
  },
  {
   "cell_type": "markdown",
   "metadata": {},
   "source": [
    "A visual with a more vector representation of this data tells a different story of similarity/distance."
   ]
  },
  {
   "cell_type": "code",
   "execution_count": 17,
   "metadata": {
    "hideCode": false,
    "hidePrompt": false
   },
   "outputs": [
    {
     "data": {
      "image/png": "[encoded data removed]",
      "text/plain": [
       "<Figure size 432x288 with 1 Axes>"
      ]
     },
     "metadata": {
      "needs_background": "light"
     },
     "output_type": "display_data"
    },
    {
     "data": {
      "application/javascript": [
       "\n",
       "            setTimeout(function() {\n",
       "                var nbb_cell_id = 17;\n",
       "                var nbb_unformatted_code = \"# fmt: off\\nplt.quiver(\\n    full_df[\\\"trump\\\"][0], full_df[\\\"card\\\"][0],\\n    color=\\\"blue\\\", label=\\\"blog1\\\",\\n    angles=\\\"xy\\\", scale_units=\\\"xy\\\", scale=1,\\n)\\nplt.quiver(\\n    full_df[\\\"trump\\\"][1], full_df[\\\"card\\\"][1],\\n    color=\\\"orange\\\", label=\\\"blog2\\\",\\n    angles=\\\"xy\\\", scale_units=\\\"xy\\\", scale=1,\\n)\\nplt.quiver(\\n    full_df[\\\"trump\\\"][2], full_df[\\\"card\\\"][2],\\n    color=\\\"black\\\", label=\\\"new_post\\\",\\n    angles=\\\"xy\\\", scale_units=\\\"xy\\\", scale=1,\\n)\\n# fmt: on\\nplt.axis(\\\"square\\\")\\nplt.xlabel(\\\"n(trump)\\\")\\nplt.ylabel(\\\"n(card)\\\")\\nplt.xlim(-1, 48)\\nplt.ylim(-1, 48)\\nplt.legend(loc=\\\"upper left\\\")\\nplt.show()\";\n",
       "                var nbb_formatted_code = \"# fmt: off\\nplt.quiver(\\n    full_df[\\\"trump\\\"][0], full_df[\\\"card\\\"][0],\\n    color=\\\"blue\\\", label=\\\"blog1\\\",\\n    angles=\\\"xy\\\", scale_units=\\\"xy\\\", scale=1,\\n)\\nplt.quiver(\\n    full_df[\\\"trump\\\"][1], full_df[\\\"card\\\"][1],\\n    color=\\\"orange\\\", label=\\\"blog2\\\",\\n    angles=\\\"xy\\\", scale_units=\\\"xy\\\", scale=1,\\n)\\nplt.quiver(\\n    full_df[\\\"trump\\\"][2], full_df[\\\"card\\\"][2],\\n    color=\\\"black\\\", label=\\\"new_post\\\",\\n    angles=\\\"xy\\\", scale_units=\\\"xy\\\", scale=1,\\n)\\n# fmt: on\\nplt.axis(\\\"square\\\")\\nplt.xlabel(\\\"n(trump)\\\")\\nplt.ylabel(\\\"n(card)\\\")\\nplt.xlim(-1, 48)\\nplt.ylim(-1, 48)\\nplt.legend(loc=\\\"upper left\\\")\\nplt.show()\";\n",
       "                var nbb_cells = Jupyter.notebook.get_cells();\n",
       "                for (var i = 0; i < nbb_cells.length; ++i) {\n",
       "                    if (nbb_cells[i].input_prompt_number == nbb_cell_id) {\n",
       "                        if (nbb_cells[i].get_text() == nbb_unformatted_code) {\n",
       "                             nbb_cells[i].set_text(nbb_formatted_code);\n",
       "                        }\n",
       "                        break;\n",
       "                    }\n",
       "                }\n",
       "            }, 500);\n",
       "            "
      ],
      "text/plain": [
       "<IPython.core.display.Javascript object>"
      ]
     },
     "metadata": {},
     "output_type": "display_data"
    }
   ],
   "source": [
    "# fmt: off\n",
    "plt.quiver(\n",
    "    full_df[\"trump\"][0], full_df[\"card\"][0],\n",
    "    color=\"blue\", label=\"blog1\",\n",
    "    angles=\"xy\", scale_units=\"xy\", scale=1,\n",
    ")\n",
    "plt.quiver(\n",
    "    full_df[\"trump\"][1], full_df[\"card\"][1],\n",
    "    color=\"orange\", label=\"blog2\",\n",
    "    angles=\"xy\", scale_units=\"xy\", scale=1,\n",
    ")\n",
    "plt.quiver(\n",
    "    full_df[\"trump\"][2], full_df[\"card\"][2],\n",
    "    color=\"black\", label=\"new_post\",\n",
    "    angles=\"xy\", scale_units=\"xy\", scale=1,\n",
    ")\n",
    "# fmt: on\n",
    "plt.axis(\"square\")\n",
    "plt.xlabel(\"n(trump)\")\n",
    "plt.ylabel(\"n(card)\")\n",
    "plt.xlim(-1, 48)\n",
    "plt.ylim(-1, 48)\n",
    "plt.legend(loc=\"upper left\")\n",
    "plt.show()"
   ]
  },
  {
   "cell_type": "code",
   "execution_count": 18,
   "metadata": {
    "hideCode": false,
    "hidePrompt": false
   },
   "outputs": [
    {
     "name": "stdout",
     "output_type": "stream",
     "text": [
      "Original Data\n"
     ]
    },
    {
     "data": {
      "text/html": [
       "<div>\n",
       "<style scoped>\n",
       "    .dataframe tbody tr th:only-of-type {\n",
       "        vertical-align: middle;\n",
       "    }\n",
       "\n",
       "    .dataframe tbody tr th {\n",
       "        vertical-align: top;\n",
       "    }\n",
       "\n",
       "    .dataframe thead th {\n",
       "        text-align: right;\n",
       "    }\n",
       "</style>\n",
       "<table border=\"1\" class=\"dataframe\">\n",
       "  <thead>\n",
       "    <tr style=\"text-align: right;\">\n",
       "      <th></th>\n",
       "      <th>trump</th>\n",
       "      <th>card</th>\n",
       "      <th>donald</th>\n",
       "    </tr>\n",
       "  </thead>\n",
       "  <tbody>\n",
       "    <tr>\n",
       "      <th>blog1</th>\n",
       "      <td>20</td>\n",
       "      <td>1</td>\n",
       "      <td>17</td>\n",
       "    </tr>\n",
       "    <tr>\n",
       "      <th>blog2</th>\n",
       "      <td>40</td>\n",
       "      <td>45</td>\n",
       "      <td>0</td>\n",
       "    </tr>\n",
       "    <tr>\n",
       "      <th>new_post</th>\n",
       "      <td>5</td>\n",
       "      <td>6</td>\n",
       "      <td>0</td>\n",
       "    </tr>\n",
       "  </tbody>\n",
       "</table>\n",
       "</div>"
      ],
      "text/plain": [
       "          trump  card  donald\n",
       "blog1        20     1      17\n",
       "blog2        40    45       0\n",
       "new_post      5     6       0"
      ]
     },
     "metadata": {},
     "output_type": "display_data"
    },
    {
     "name": "stdout",
     "output_type": "stream",
     "text": [
      "\n",
      "Euclidean Distance\n"
     ]
    },
    {
     "data": {
      "text/html": [
       "<div>\n",
       "<style scoped>\n",
       "    .dataframe tbody tr th:only-of-type {\n",
       "        vertical-align: middle;\n",
       "    }\n",
       "\n",
       "    .dataframe tbody tr th {\n",
       "        vertical-align: top;\n",
       "    }\n",
       "\n",
       "    .dataframe thead th {\n",
       "        text-align: right;\n",
       "    }\n",
       "</style>\n",
       "<table border=\"1\" class=\"dataframe\">\n",
       "  <thead>\n",
       "    <tr style=\"text-align: right;\">\n",
       "      <th></th>\n",
       "      <th>blog1</th>\n",
       "      <th>blog2</th>\n",
       "      <th>new_post</th>\n",
       "    </tr>\n",
       "  </thead>\n",
       "  <tbody>\n",
       "    <tr>\n",
       "      <th>blog1</th>\n",
       "      <td>0.000000</td>\n",
       "      <td>51.234754</td>\n",
       "      <td>23.216374</td>\n",
       "    </tr>\n",
       "    <tr>\n",
       "      <th>blog2</th>\n",
       "      <td>51.234754</td>\n",
       "      <td>0.000000</td>\n",
       "      <td>52.402290</td>\n",
       "    </tr>\n",
       "    <tr>\n",
       "      <th>new_post</th>\n",
       "      <td>23.216374</td>\n",
       "      <td>52.402290</td>\n",
       "      <td>0.000000</td>\n",
       "    </tr>\n",
       "  </tbody>\n",
       "</table>\n",
       "</div>"
      ],
      "text/plain": [
       "              blog1      blog2   new_post\n",
       "blog1      0.000000  51.234754  23.216374\n",
       "blog2     51.234754   0.000000  52.402290\n",
       "new_post  23.216374  52.402290   0.000000"
      ]
     },
     "metadata": {},
     "output_type": "display_data"
    },
    {
     "name": "stdout",
     "output_type": "stream",
     "text": [
      "\n",
      "1 - Cosine Similarity\n"
     ]
    },
    {
     "data": {
      "text/html": [
       "<div>\n",
       "<style scoped>\n",
       "    .dataframe tbody tr th:only-of-type {\n",
       "        vertical-align: middle;\n",
       "    }\n",
       "\n",
       "    .dataframe tbody tr th {\n",
       "        vertical-align: top;\n",
       "    }\n",
       "\n",
       "    .dataframe thead th {\n",
       "        text-align: right;\n",
       "    }\n",
       "</style>\n",
       "<table border=\"1\" class=\"dataframe\">\n",
       "  <thead>\n",
       "    <tr style=\"text-align: right;\">\n",
       "      <th></th>\n",
       "      <th>blog1</th>\n",
       "      <th>blog2</th>\n",
       "      <th>new_post</th>\n",
       "    </tr>\n",
       "  </thead>\n",
       "  <tbody>\n",
       "    <tr>\n",
       "      <th>blog1</th>\n",
       "      <td>0.000000</td>\n",
       "      <td>0.465709</td>\n",
       "      <td>0.483326</td>\n",
       "    </tr>\n",
       "    <tr>\n",
       "      <th>blog2</th>\n",
       "      <td>0.465709</td>\n",
       "      <td>0.000000</td>\n",
       "      <td>0.000509</td>\n",
       "    </tr>\n",
       "    <tr>\n",
       "      <th>new_post</th>\n",
       "      <td>0.483326</td>\n",
       "      <td>0.000509</td>\n",
       "      <td>0.000000</td>\n",
       "    </tr>\n",
       "  </tbody>\n",
       "</table>\n",
       "</div>"
      ],
      "text/plain": [
       "             blog1     blog2  new_post\n",
       "blog1     0.000000  0.465709  0.483326\n",
       "blog2     0.465709  0.000000  0.000509\n",
       "new_post  0.483326  0.000509  0.000000"
      ]
     },
     "metadata": {},
     "output_type": "display_data"
    },
    {
     "data": {
      "application/javascript": [
       "\n",
       "            setTimeout(function() {\n",
       "                var nbb_cell_id = 18;\n",
       "                var nbb_unformatted_code = \"euclid_dist = squareform(pdist(full_df))\\ncosine_dist = squareform(pdist(full_df, metric=\\\"cosine\\\"))\\n\\neuclid_dist = pd.DataFrame(euclid_dist, columns=full_df.index, index=full_df.index)\\ncosine_dist = pd.DataFrame(cosine_dist, columns=full_df.index, index=full_df.index)\\n\\nprint(\\\"Original Data\\\")\\ndisplay(full_df)\\n\\nprint(\\\"\\\\nEuclidean Distance\\\")\\ndisplay(euclid_dist)\\n\\nprint(\\\"\\\\n1 - Cosine Similarity\\\")\\ndisplay(cosine_dist)\";\n",
       "                var nbb_formatted_code = \"euclid_dist = squareform(pdist(full_df))\\ncosine_dist = squareform(pdist(full_df, metric=\\\"cosine\\\"))\\n\\neuclid_dist = pd.DataFrame(euclid_dist, columns=full_df.index, index=full_df.index)\\ncosine_dist = pd.DataFrame(cosine_dist, columns=full_df.index, index=full_df.index)\\n\\nprint(\\\"Original Data\\\")\\ndisplay(full_df)\\n\\nprint(\\\"\\\\nEuclidean Distance\\\")\\ndisplay(euclid_dist)\\n\\nprint(\\\"\\\\n1 - Cosine Similarity\\\")\\ndisplay(cosine_dist)\";\n",
       "                var nbb_cells = Jupyter.notebook.get_cells();\n",
       "                for (var i = 0; i < nbb_cells.length; ++i) {\n",
       "                    if (nbb_cells[i].input_prompt_number == nbb_cell_id) {\n",
       "                        if (nbb_cells[i].get_text() == nbb_unformatted_code) {\n",
       "                             nbb_cells[i].set_text(nbb_formatted_code);\n",
       "                        }\n",
       "                        break;\n",
       "                    }\n",
       "                }\n",
       "            }, 500);\n",
       "            "
      ],
      "text/plain": [
       "<IPython.core.display.Javascript object>"
      ]
     },
     "metadata": {},
     "output_type": "display_data"
    }
   ],
   "source": [
    "euclid_dist = squareform(pdist(full_df))\n",
    "cosine_dist = squareform(pdist(full_df, metric=\"cosine\"))\n",
    "\n",
    "euclid_dist = pd.DataFrame(euclid_dist, columns=full_df.index, index=full_df.index)\n",
    "cosine_dist = pd.DataFrame(cosine_dist, columns=full_df.index, index=full_df.index)\n",
    "\n",
    "print(\"Original Data\")\n",
    "display(full_df)\n",
    "\n",
    "print(\"\\nEuclidean Distance\")\n",
    "display(euclid_dist)\n",
    "\n",
    "print(\"\\n1 - Cosine Similarity\")\n",
    "display(cosine_dist)"
   ]
  },
  {
   "cell_type": "code",
   "execution_count": 19,
   "metadata": {},
   "outputs": [
    {
     "data": {
      "text/plain": [
       "array([5.])"
      ]
     },
     "execution_count": 19,
     "metadata": {},
     "output_type": "execute_result"
    },
    {
     "data": {
      "application/javascript": [
       "\n",
       "            setTimeout(function() {\n",
       "                var nbb_cell_id = 19;\n",
       "                var nbb_unformatted_code = \"pdist([[2, 3], [4, 6]], metric=\\\"cityblock\\\")\";\n",
       "                var nbb_formatted_code = \"pdist([[2, 3], [4, 6]], metric=\\\"cityblock\\\")\";\n",
       "                var nbb_cells = Jupyter.notebook.get_cells();\n",
       "                for (var i = 0; i < nbb_cells.length; ++i) {\n",
       "                    if (nbb_cells[i].input_prompt_number == nbb_cell_id) {\n",
       "                        if (nbb_cells[i].get_text() == nbb_unformatted_code) {\n",
       "                             nbb_cells[i].set_text(nbb_formatted_code);\n",
       "                        }\n",
       "                        break;\n",
       "                    }\n",
       "                }\n",
       "            }, 500);\n",
       "            "
      ],
      "text/plain": [
       "<IPython.core.display.Javascript object>"
      ]
     },
     "metadata": {},
     "output_type": "display_data"
    }
   ],
   "source": [
    "pdist([[2, 3], [4, 6]], metric=\"cityblock\")"
   ]
  },
  {
   "cell_type": "markdown",
   "metadata": {},
   "source": [
    "### Numeric distance cheat sheet:\n",
    "\n",
    "#### Manhattan distance\n",
    "\n",
    "$$\\sum_{i=0}^n|x_i - y_i|$$\n",
    "\n",
    "* Intuition: \"Taxi cab/city block distance\" This metric will be less affected by outlier differences in the calculation than euclidean.\n",
    "* Examples:\n",
    "    * `manhattan([0,0], [3,4])` is 7\n",
    "    * `manhattan([0,0], [3,10])` is 13\n",
    "    * `manhattan([2,3], [4,6])` is 5\n",
    "* Code: `pdist(x)` or `pdist(x, metric='euclidean')`\n",
    "* \"$L_1$ norm\" (is minkowski distance ($L_p$) with $p=1$)\n",
    "\n",
    "\n",
    "#### Euclidean distance\n",
    "\n",
    "$$\\sqrt{\\sum_{i=0}^n(x_i - y_i)^2}$$\n",
    "\n",
    "* Intuition: \"Straight line distance.\" This metric will be more affected by outlier differences in the calculation than Manahattan (due to being squared).\n",
    "* Examples:\n",
    "    * `euclidean([0,0], [3,4])` is 5\n",
    "    * `euclidean([0,0], [3,10])` is 10.44\n",
    "    * `euclidean([2,3], [4,6])` is 3.606\n",
    "* Code: `pdist(x)` or `pdist(x, metric='euclidean')`\n",
    "* \"$L_2$ norm\" (is minkowski distance ($L_p$) with $p=2$)\n",
    "\n",
    "\n",
    "#### Chebyshev distance\n",
    "\n",
    "$$max(|x_i - y_i|)$$\n",
    "\n",
    "* Intuition: \"The biggest difference between the 2 rows.\" This metric is only affected by outlier differences in the calculation.  (it's only the max)\n",
    "* Examples:\n",
    "    * `chebyshev([0,0], [3,4])` is 4\n",
    "    * `chebyshev([0,0], [3,10])` is 10\n",
    "    * `chebyshev([2,3], [4,6])` is 3\n",
    "* Code: `pdist(x)` or `pdist(x, metric='euclidean')`\n",
    "* \"$L_\\infty$ norm\" (is minkowski distance ($L_p$) with $p=\\infty$)\n",
    "\n",
    "#### Minkowski\n",
    "\n",
    "All the above distances are versions of minkowski.  Plug in $p=1$ and $p=2$ to prove that's true ($p=\\infty$ is a little tougher to prove).\n",
    "\n",
    "$$\\sqrt[p]{\\sum_{i=0}^n|x_i - y_i|^p}$$\n",
    "\n",
    "* As $p$ gets larger the greater the focus is on the biggest difference between $x$ and $y$.\n",
    "    * In manahattan, $p=1$ and we weight each absolute difference the same.  For example, if we compare `[0, 0]` to `[3, 4]`, the differences are $3$ and $4$ and we simply add them up to get a distance of $7$.\n",
    "    * In euclidean, $p=2$ and by squaring each difference we but a greater emphasis on larger differences.  For example, if we compare `[0, 0]` to `[3, 4]`, the differences are $2$ and $4$.  Squaring these leads to $2^2 = 4$ and $4^2 = 16$; this exagerates the importance of the larger difference and the final result is \n",
    "    * In chebyshev, $p=\\infty$ and we *only* care about the biggest difference\n",
    "\n",
    "#### Cosine disimilarity\n",
    "\n",
    "Cosine similarity ranges from [-1, 1]; to convert this to a 'distance' we do 1 - cosine similarity.  So the new range is [2, 0].\n",
    "\n",
    "$$cos(\\theta) = \\frac{x \\cdotp y}{||x|| ||y||}$$\n",
    "\n",
    "See [this YouTube playlist](https://www.youtube.com/playlist?list=PLZHQObOWTQDPD3MizzM2xVFitgF8hE_ab) for a deeper intuition of vectors and linear algebra.\n",
    "\n",
    "* Intuition: \"Angle between the vectors defined by each observation.\"  Focuses more on how each column relates to one another within each observation; if their relationships between columns are similar then this is a small distance.\n",
    "* Examples:\n",
    "    * `cosine_dis([0,0], [3,4])` is nan*\n",
    "    * `cosine_dis([0,0], [3,10])` is nan*\n",
    "    * `cosine_dis([0,0,1], [3,10,1])` is 0.904\n",
    "    * `cosine_dis([2,3], [4,6])` is 0\n",
    "* Code: `pdist(x, metric='cosine')`\n",
    "\n",
    "*think about our plot above; we can't really draw a vector from (0, 0) to (0, 0) and measure the angle between that and another vector"
   ]
  },
  {
   "cell_type": "markdown",
   "metadata": {},
   "source": [
    "## Distances for categorical data"
   ]
  },
  {
   "cell_type": "markdown",
   "metadata": {
    "hidePrompt": false
   },
   "source": [
    "### Scenario 1:\n",
    "\n",
    "Which users are the most similar?"
   ]
  },
  {
   "cell_type": "code",
   "execution_count": 20,
   "metadata": {},
   "outputs": [
    {
     "data": {
      "text/html": [
       "<div>\n",
       "<style scoped>\n",
       "    .dataframe tbody tr th:only-of-type {\n",
       "        vertical-align: middle;\n",
       "    }\n",
       "\n",
       "    .dataframe tbody tr th {\n",
       "        vertical-align: top;\n",
       "    }\n",
       "\n",
       "    .dataframe thead th {\n",
       "        text-align: right;\n",
       "    }\n",
       "</style>\n",
       "<table border=\"1\" class=\"dataframe\">\n",
       "  <thead>\n",
       "    <tr style=\"text-align: right;\">\n",
       "      <th></th>\n",
       "      <th>subscriber</th>\n",
       "      <th>dog_owner</th>\n",
       "      <th>cat_owner</th>\n",
       "      <th>smoker</th>\n",
       "    </tr>\n",
       "  </thead>\n",
       "  <tbody>\n",
       "    <tr>\n",
       "      <th>user_1</th>\n",
       "      <td>yes</td>\n",
       "      <td>yes</td>\n",
       "      <td>yes</td>\n",
       "      <td>yes</td>\n",
       "    </tr>\n",
       "    <tr>\n",
       "      <th>user_2</th>\n",
       "      <td>no</td>\n",
       "      <td>yes</td>\n",
       "      <td>yes</td>\n",
       "      <td>yes</td>\n",
       "    </tr>\n",
       "    <tr>\n",
       "      <th>user_3</th>\n",
       "      <td>no</td>\n",
       "      <td>no</td>\n",
       "      <td>no</td>\n",
       "      <td>yes</td>\n",
       "    </tr>\n",
       "  </tbody>\n",
       "</table>\n",
       "</div>"
      ],
      "text/plain": [
       "       subscriber dog_owner cat_owner smoker\n",
       "user_1        yes       yes       yes    yes\n",
       "user_2         no       yes       yes    yes\n",
       "user_3         no        no        no    yes"
      ]
     },
     "execution_count": 20,
     "metadata": {},
     "output_type": "execute_result"
    },
    {
     "data": {
      "application/javascript": [
       "\n",
       "            setTimeout(function() {\n",
       "                var nbb_cell_id = 20;\n",
       "                var nbb_unformatted_code = \"df = pd.DataFrame(\\n    {\\n        \\\"subscriber\\\": [\\\"yes\\\", \\\"no\\\", \\\"no\\\"],\\n        \\\"dog_owner\\\": [\\\"yes\\\", \\\"yes\\\", \\\"no\\\"],\\n        \\\"cat_owner\\\": [\\\"yes\\\", \\\"yes\\\", \\\"no\\\"],\\n        \\\"smoker\\\": [\\\"yes\\\", \\\"yes\\\", \\\"yes\\\"],\\n    },\\n    index=[\\\"user_1\\\", \\\"user_2\\\", \\\"user_3\\\"],\\n)\\ndf\";\n",
       "                var nbb_formatted_code = \"df = pd.DataFrame(\\n    {\\n        \\\"subscriber\\\": [\\\"yes\\\", \\\"no\\\", \\\"no\\\"],\\n        \\\"dog_owner\\\": [\\\"yes\\\", \\\"yes\\\", \\\"no\\\"],\\n        \\\"cat_owner\\\": [\\\"yes\\\", \\\"yes\\\", \\\"no\\\"],\\n        \\\"smoker\\\": [\\\"yes\\\", \\\"yes\\\", \\\"yes\\\"],\\n    },\\n    index=[\\\"user_1\\\", \\\"user_2\\\", \\\"user_3\\\"],\\n)\\ndf\";\n",
       "                var nbb_cells = Jupyter.notebook.get_cells();\n",
       "                for (var i = 0; i < nbb_cells.length; ++i) {\n",
       "                    if (nbb_cells[i].input_prompt_number == nbb_cell_id) {\n",
       "                        if (nbb_cells[i].get_text() == nbb_unformatted_code) {\n",
       "                             nbb_cells[i].set_text(nbb_formatted_code);\n",
       "                        }\n",
       "                        break;\n",
       "                    }\n",
       "                }\n",
       "            }, 500);\n",
       "            "
      ],
      "text/plain": [
       "<IPython.core.display.Javascript object>"
      ]
     },
     "metadata": {},
     "output_type": "display_data"
    }
   ],
   "source": [
    "df = pd.DataFrame(\n",
    "    {\n",
    "        \"subscriber\": [\"yes\", \"no\", \"no\"],\n",
    "        \"dog_owner\": [\"yes\", \"yes\", \"no\"],\n",
    "        \"cat_owner\": [\"yes\", \"yes\", \"no\"],\n",
    "        \"smoker\": [\"yes\", \"yes\", \"yes\"],\n",
    "    },\n",
    "    index=[\"user_1\", \"user_2\", \"user_3\"],\n",
    ")\n",
    "df"
   ]
  },
  {
   "cell_type": "markdown",
   "metadata": {},
   "source": [
    "Encode the data for an ML model to consume it:"
   ]
  },
  {
   "cell_type": "code",
   "execution_count": null,
   "metadata": {},
   "outputs": [],
   "source": []
  },
  {
   "cell_type": "markdown",
   "metadata": {},
   "source": [
    "* Does this encoding change how similar things look?\n",
    "* In regards to comparing rows:\n",
    "    * what does it mean when both rows have a `0`?\n",
    "    * what does it mean when both rows have a `1`?\n",
    "    * what does it mean when one row has a `0` and one row has a `1`?"
   ]
  },
  {
   "cell_type": "markdown",
   "metadata": {},
   "source": [
    "### Scenario 2:\n",
    "\n",
    "Which users are most similiar?"
   ]
  },
  {
   "cell_type": "code",
   "execution_count": 21,
   "metadata": {},
   "outputs": [
    {
     "data": {
      "text/html": [
       "<div>\n",
       "<style scoped>\n",
       "    .dataframe tbody tr th:only-of-type {\n",
       "        vertical-align: middle;\n",
       "    }\n",
       "\n",
       "    .dataframe tbody tr th {\n",
       "        vertical-align: top;\n",
       "    }\n",
       "\n",
       "    .dataframe thead th {\n",
       "        text-align: right;\n",
       "    }\n",
       "</style>\n",
       "<table border=\"1\" class=\"dataframe\">\n",
       "  <thead>\n",
       "    <tr style=\"text-align: right;\">\n",
       "      <th></th>\n",
       "      <th>region</th>\n",
       "      <th>favorite_show</th>\n",
       "      <th>music_service</th>\n",
       "      <th>favorite_planet</th>\n",
       "    </tr>\n",
       "  </thead>\n",
       "  <tbody>\n",
       "    <tr>\n",
       "      <th>user_1</th>\n",
       "      <td>west</td>\n",
       "      <td>office</td>\n",
       "      <td>spotify</td>\n",
       "      <td>earth</td>\n",
       "    </tr>\n",
       "    <tr>\n",
       "      <th>user_2</th>\n",
       "      <td>south</td>\n",
       "      <td>sportscenter</td>\n",
       "      <td>apple</td>\n",
       "      <td>pluto</td>\n",
       "    </tr>\n",
       "    <tr>\n",
       "      <th>user_3</th>\n",
       "      <td>south</td>\n",
       "      <td>office</td>\n",
       "      <td>spotify</td>\n",
       "      <td>earth</td>\n",
       "    </tr>\n",
       "    <tr>\n",
       "      <th>user_4</th>\n",
       "      <td>north</td>\n",
       "      <td>sportscenter</td>\n",
       "      <td>pandora</td>\n",
       "      <td>pandora</td>\n",
       "    </tr>\n",
       "    <tr>\n",
       "      <th>user_5</th>\n",
       "      <td>east</td>\n",
       "      <td>bachelor</td>\n",
       "      <td>apple</td>\n",
       "      <td>pluto</td>\n",
       "    </tr>\n",
       "  </tbody>\n",
       "</table>\n",
       "</div>"
      ],
      "text/plain": [
       "       region favorite_show music_service favorite_planet\n",
       "user_1   west        office       spotify           earth\n",
       "user_2  south  sportscenter         apple           pluto\n",
       "user_3  south        office       spotify           earth\n",
       "user_4  north  sportscenter       pandora         pandora\n",
       "user_5   east      bachelor         apple           pluto"
      ]
     },
     "execution_count": 21,
     "metadata": {},
     "output_type": "execute_result"
    },
    {
     "data": {
      "application/javascript": [
       "\n",
       "            setTimeout(function() {\n",
       "                var nbb_cell_id = 21;\n",
       "                var nbb_unformatted_code = \"df = pd.DataFrame(\\n    {\\n        \\\"region\\\": [\\\"west\\\", \\\"south\\\", \\\"south\\\", \\\"north\\\", \\\"east\\\"],\\n        \\\"favorite_show\\\": [\\n            \\\"office\\\",\\n            \\\"sportscenter\\\",\\n            \\\"office\\\",\\n            \\\"sportscenter\\\",\\n            \\\"bachelor\\\",\\n        ],\\n        \\\"music_service\\\": [\\\"spotify\\\", \\\"apple\\\", \\\"spotify\\\", \\\"pandora\\\", \\\"apple\\\"],\\n        \\\"favorite_planet\\\": [\\\"earth\\\", \\\"pluto\\\", \\\"earth\\\", \\\"pandora\\\", \\\"pluto\\\"],\\n    },\\n    index=[\\\"user_1\\\", \\\"user_2\\\", \\\"user_3\\\", \\\"user_4\\\", \\\"user_5\\\"],\\n)\\n\\ndf\";\n",
       "                var nbb_formatted_code = \"df = pd.DataFrame(\\n    {\\n        \\\"region\\\": [\\\"west\\\", \\\"south\\\", \\\"south\\\", \\\"north\\\", \\\"east\\\"],\\n        \\\"favorite_show\\\": [\\n            \\\"office\\\",\\n            \\\"sportscenter\\\",\\n            \\\"office\\\",\\n            \\\"sportscenter\\\",\\n            \\\"bachelor\\\",\\n        ],\\n        \\\"music_service\\\": [\\\"spotify\\\", \\\"apple\\\", \\\"spotify\\\", \\\"pandora\\\", \\\"apple\\\"],\\n        \\\"favorite_planet\\\": [\\\"earth\\\", \\\"pluto\\\", \\\"earth\\\", \\\"pandora\\\", \\\"pluto\\\"],\\n    },\\n    index=[\\\"user_1\\\", \\\"user_2\\\", \\\"user_3\\\", \\\"user_4\\\", \\\"user_5\\\"],\\n)\\n\\ndf\";\n",
       "                var nbb_cells = Jupyter.notebook.get_cells();\n",
       "                for (var i = 0; i < nbb_cells.length; ++i) {\n",
       "                    if (nbb_cells[i].input_prompt_number == nbb_cell_id) {\n",
       "                        if (nbb_cells[i].get_text() == nbb_unformatted_code) {\n",
       "                             nbb_cells[i].set_text(nbb_formatted_code);\n",
       "                        }\n",
       "                        break;\n",
       "                    }\n",
       "                }\n",
       "            }, 500);\n",
       "            "
      ],
      "text/plain": [
       "<IPython.core.display.Javascript object>"
      ]
     },
     "metadata": {},
     "output_type": "display_data"
    }
   ],
   "source": [
    "df = pd.DataFrame(\n",
    "    {\n",
    "        \"region\": [\"west\", \"south\", \"south\", \"north\", \"east\"],\n",
    "        \"favorite_show\": [\n",
    "            \"office\",\n",
    "            \"sportscenter\",\n",
    "            \"office\",\n",
    "            \"sportscenter\",\n",
    "            \"bachelor\",\n",
    "        ],\n",
    "        \"music_service\": [\"spotify\", \"apple\", \"spotify\", \"pandora\", \"apple\"],\n",
    "        \"favorite_planet\": [\"earth\", \"pluto\", \"earth\", \"pandora\", \"pluto\"],\n",
    "    },\n",
    "    index=[\"user_1\", \"user_2\", \"user_3\", \"user_4\", \"user_5\"],\n",
    ")\n",
    "\n",
    "df"
   ]
  },
  {
   "cell_type": "markdown",
   "metadata": {},
   "source": [
    "Encode the data for an ML model to consume it:"
   ]
  },
  {
   "cell_type": "code",
   "execution_count": null,
   "metadata": {},
   "outputs": [],
   "source": []
  },
  {
   "cell_type": "markdown",
   "metadata": {},
   "source": [
    "* Does this encoding change how similar things look?\n",
    "* In regards to comparing rows:\n",
    "    * what does it mean when both rows have a `0`?\n",
    "    * what does it mean when both rows have a `1`?\n",
    "    * what does it mean when one row has a `0` and one row has a `1`?\n",
    "    \n",
    "-----"
   ]
  },
  {
   "cell_type": "markdown",
   "metadata": {},
   "source": [
    "### Categorical distance cheat sheet:\n",
    "\n",
    "#### Hamming distance\n",
    "\n",
    "$$\\frac{n_{misses}}{n_{columns}}$$\n",
    "\n",
    "* **Makes a lot of sense for binary columns where a `0` is a meaningful response.**\n",
    "* Intuition: \"What fraction of the elements between the 2 rows are differnt?\"\n",
    "* Examples:\n",
    "    * `hamming([0,0,0], [1,1,1])` is $\\frac{3}{3}$ = 1\n",
    "    * `hamming([1,0,0], [1,1,1])` is $\\frac{2}{3}$\n",
    "    * `hamming([1,1,0], [1,1,1])` is $\\frac{1}{3}$\n",
    "    * `hamming([1,1,1], [1,1,1])` is $\\frac{0}{3}$ = 0\n",
    "    * `hamming([0,0,1], [0,0,0])` is $\\frac{1}{3}$\n",
    "    * `hamming([0,0,1], [0,1,1])` is $\\frac{1}{3}$\n",
    "* Code: `pdist(x, metric='hamming')` or `pdist(x, metric='matching')`\n",
    "\n",
    "\n",
    "#### Dice dissimilarity\n",
    "\n",
    "$$\\frac{n_{misses}}{2n_{one\\_matches} + n_{misses}}$$\n",
    "\n",
    "* **Makes a lot of sense for dummy columns where a `0` is a less meaningful response, but matching on a 1 means a lot (i.e. a dummy matching on 1 means the original input categorical data matched).**\n",
    "* Intuition: \"Hamming distance but... ignore matches of `0`s and extra count matches of `1`s\"\n",
    "* Examples:\n",
    "    * `dice([0,0,0], [1,1,1])` is $\\frac{3}{2(0) + 3}$ = 1\n",
    "    * `dice([1,0,0], [1,1,1])` is $\\frac{2}{2(1) + 2}$ = $\\frac{1}{2}$\n",
    "    * `dice([1,1,0], [1,1,1])` is $\\frac{1}{2(2) + 1}$ = $\\frac{1}{5}$\n",
    "    * `dice([1,1,1], [1,1,1])` is $\\frac{0}{2(3) + 0}$ = 0\n",
    "    * `dice([0,0,1], [0,0,0])` is $\\frac{1}{2(0) + 1}$ = 1\n",
    "    * `dice([0,0,1], [0,1,1])` is $\\frac{1}{2(1) + 1}$ = $\\frac{1}{3}$\n",
    "* Code: `pdist(x, metric='dice')`\n",
    "\n",
    "\n",
    "#### Jaccard distance\n",
    "\n",
    "$$\\frac{n_{misses}}{n_{one\\_matches} + n_{misses}}$$\n",
    "\n",
    "* **Makes a lot of sense for a mix of binary and dummy columns**\n",
    "* Intuition: \"What if there was a middle ground between hamming and dice?\"\n",
    "* Examples:\n",
    "    * `jaccard([0,0,0], [1,1,1])` is $\\frac{3}{0 + 3}$ = 1\n",
    "    * `jaccard([1,0,0], [1,1,1])` is $\\frac{2}{1 + 2}$ = $\\frac{2}{3}$\n",
    "    * `jaccard([1,1,0], [1,1,1])` is $\\frac{1}{2 + 1}$ = $\\frac{1}{3}$\n",
    "    * `jaccard([1,1,1], [1,1,1])` is $\\frac{0}{0 + 3}$ = 0\n",
    "    * `jaccard([0,0,1], [0,0,0])` is $\\frac{1}{0 + 1}$ = 1\n",
    "    * `jaccard([0,0,1], [0,1,1])` is $\\frac{1}{1 + 1}$ = $\\frac{1}{2}$\n",
    "* Code: `pdist(x, metric='jaccard')`"
   ]
  },
  {
   "cell_type": "markdown",
   "metadata": {},
   "source": [
    "## Distances for mixed data\n",
    "\n",
    "p much all gower\n",
    "\n",
    "Gower distance is essentially a combination of manhattan distance and jaccard distance.  It applies manhattan to continuous variables and jaccard to binary variables."
   ]
  },
  {
   "cell_type": "code",
   "execution_count": 22,
   "metadata": {},
   "outputs": [
    {
     "data": {
      "application/javascript": [
       "\n",
       "            setTimeout(function() {\n",
       "                var nbb_cell_id = 22;\n",
       "                var nbb_unformatted_code = \"# !pip install gower\\nimport gower\";\n",
       "                var nbb_formatted_code = \"# !pip install gower\\nimport gower\";\n",
       "                var nbb_cells = Jupyter.notebook.get_cells();\n",
       "                for (var i = 0; i < nbb_cells.length; ++i) {\n",
       "                    if (nbb_cells[i].input_prompt_number == nbb_cell_id) {\n",
       "                        if (nbb_cells[i].get_text() == nbb_unformatted_code) {\n",
       "                             nbb_cells[i].set_text(nbb_formatted_code);\n",
       "                        }\n",
       "                        break;\n",
       "                    }\n",
       "                }\n",
       "            }, 500);\n",
       "            "
      ],
      "text/plain": [
       "<IPython.core.display.Javascript object>"
      ]
     },
     "metadata": {},
     "output_type": "display_data"
    }
   ],
   "source": [
    "# !pip install gower\n",
    "import gower"
   ]
  },
  {
   "cell_type": "code",
   "execution_count": 23,
   "metadata": {},
   "outputs": [
    {
     "data": {
      "text/html": [
       "<div>\n",
       "<style scoped>\n",
       "    .dataframe tbody tr th:only-of-type {\n",
       "        vertical-align: middle;\n",
       "    }\n",
       "\n",
       "    .dataframe tbody tr th {\n",
       "        vertical-align: top;\n",
       "    }\n",
       "\n",
       "    .dataframe thead th {\n",
       "        text-align: right;\n",
       "    }\n",
       "</style>\n",
       "<table border=\"1\" class=\"dataframe\">\n",
       "  <thead>\n",
       "    <tr style=\"text-align: right;\">\n",
       "      <th></th>\n",
       "      <th>age</th>\n",
       "      <th>account_age</th>\n",
       "      <th>region</th>\n",
       "      <th>late_payments</th>\n",
       "    </tr>\n",
       "  </thead>\n",
       "  <tbody>\n",
       "    <tr>\n",
       "      <th>0</th>\n",
       "      <td>21</td>\n",
       "      <td>2</td>\n",
       "      <td>west</td>\n",
       "      <td>y</td>\n",
       "    </tr>\n",
       "    <tr>\n",
       "      <th>1</th>\n",
       "      <td>24</td>\n",
       "      <td>3</td>\n",
       "      <td>south</td>\n",
       "      <td>n</td>\n",
       "    </tr>\n",
       "    <tr>\n",
       "      <th>2</th>\n",
       "      <td>35</td>\n",
       "      <td>12</td>\n",
       "      <td>west</td>\n",
       "      <td>y</td>\n",
       "    </tr>\n",
       "    <tr>\n",
       "      <th>3</th>\n",
       "      <td>52</td>\n",
       "      <td>20</td>\n",
       "      <td>east</td>\n",
       "      <td>n</td>\n",
       "    </tr>\n",
       "    <tr>\n",
       "      <th>4</th>\n",
       "      <td>55</td>\n",
       "      <td>18</td>\n",
       "      <td>east</td>\n",
       "      <td>y</td>\n",
       "    </tr>\n",
       "  </tbody>\n",
       "</table>\n",
       "</div>"
      ],
      "text/plain": [
       "   age  account_age region late_payments\n",
       "0   21            2   west             y\n",
       "1   24            3  south             n\n",
       "2   35           12   west             y\n",
       "3   52           20   east             n\n",
       "4   55           18   east             y"
      ]
     },
     "execution_count": 23,
     "metadata": {},
     "output_type": "execute_result"
    },
    {
     "data": {
      "application/javascript": [
       "\n",
       "            setTimeout(function() {\n",
       "                var nbb_cell_id = 23;\n",
       "                var nbb_unformatted_code = \"df = pd.DataFrame(\\n    {\\n        \\\"age\\\": [21, 24, 35, 52, 55],\\n        \\\"account_age\\\": [2, 3, 12, 20, 18],\\n        \\\"region\\\": [\\\"west\\\", \\\"south\\\", \\\"west\\\", \\\"east\\\", \\\"east\\\"],\\n        \\\"late_payments\\\": [\\\"y\\\", \\\"n\\\", \\\"y\\\", \\\"n\\\", \\\"y\\\"],\\n    }\\n)\\ndf\";\n",
       "                var nbb_formatted_code = \"df = pd.DataFrame(\\n    {\\n        \\\"age\\\": [21, 24, 35, 52, 55],\\n        \\\"account_age\\\": [2, 3, 12, 20, 18],\\n        \\\"region\\\": [\\\"west\\\", \\\"south\\\", \\\"west\\\", \\\"east\\\", \\\"east\\\"],\\n        \\\"late_payments\\\": [\\\"y\\\", \\\"n\\\", \\\"y\\\", \\\"n\\\", \\\"y\\\"],\\n    }\\n)\\ndf\";\n",
       "                var nbb_cells = Jupyter.notebook.get_cells();\n",
       "                for (var i = 0; i < nbb_cells.length; ++i) {\n",
       "                    if (nbb_cells[i].input_prompt_number == nbb_cell_id) {\n",
       "                        if (nbb_cells[i].get_text() == nbb_unformatted_code) {\n",
       "                             nbb_cells[i].set_text(nbb_formatted_code);\n",
       "                        }\n",
       "                        break;\n",
       "                    }\n",
       "                }\n",
       "            }, 500);\n",
       "            "
      ],
      "text/plain": [
       "<IPython.core.display.Javascript object>"
      ]
     },
     "metadata": {},
     "output_type": "display_data"
    }
   ],
   "source": [
    "df = pd.DataFrame(\n",
    "    {\n",
    "        \"age\": [21, 24, 35, 52, 55],\n",
    "        \"account_age\": [2, 3, 12, 20, 18],\n",
    "        \"region\": [\"west\", \"south\", \"west\", \"east\", \"east\"],\n",
    "        \"late_payments\": [\"y\", \"n\", \"y\", \"n\", \"y\"],\n",
    "    }\n",
    ")\n",
    "df"
   ]
  },
  {
   "cell_type": "markdown",
   "metadata": {},
   "source": [
    "The imported `gower` package wants to do all the preprocessing for us."
   ]
  },
  {
   "cell_type": "code",
   "execution_count": 24,
   "metadata": {},
   "outputs": [
    {
     "data": {
      "text/html": [
       "<div>\n",
       "<style scoped>\n",
       "    .dataframe tbody tr th:only-of-type {\n",
       "        vertical-align: middle;\n",
       "    }\n",
       "\n",
       "    .dataframe tbody tr th {\n",
       "        vertical-align: top;\n",
       "    }\n",
       "\n",
       "    .dataframe thead th {\n",
       "        text-align: right;\n",
       "    }\n",
       "</style>\n",
       "<table border=\"1\" class=\"dataframe\">\n",
       "  <thead>\n",
       "    <tr style=\"text-align: right;\">\n",
       "      <th></th>\n",
       "      <th>0</th>\n",
       "      <th>1</th>\n",
       "      <th>2</th>\n",
       "      <th>3</th>\n",
       "      <th>4</th>\n",
       "    </tr>\n",
       "  </thead>\n",
       "  <tbody>\n",
       "    <tr>\n",
       "      <th>0</th>\n",
       "      <td>0.000000</td>\n",
       "      <td>0.535948</td>\n",
       "      <td>0.241830</td>\n",
       "      <td>0.977941</td>\n",
       "      <td>0.722222</td>\n",
       "    </tr>\n",
       "    <tr>\n",
       "      <th>1</th>\n",
       "      <td>0.535948</td>\n",
       "      <td>0.000000</td>\n",
       "      <td>0.705882</td>\n",
       "      <td>0.691993</td>\n",
       "      <td>0.936275</td>\n",
       "    </tr>\n",
       "    <tr>\n",
       "      <th>2</th>\n",
       "      <td>0.241830</td>\n",
       "      <td>0.705882</td>\n",
       "      <td>0.000000</td>\n",
       "      <td>0.736111</td>\n",
       "      <td>0.480392</td>\n",
       "    </tr>\n",
       "    <tr>\n",
       "      <th>3</th>\n",
       "      <td>0.977941</td>\n",
       "      <td>0.691993</td>\n",
       "      <td>0.736111</td>\n",
       "      <td>0.000000</td>\n",
       "      <td>0.299837</td>\n",
       "    </tr>\n",
       "    <tr>\n",
       "      <th>4</th>\n",
       "      <td>0.722222</td>\n",
       "      <td>0.936275</td>\n",
       "      <td>0.480392</td>\n",
       "      <td>0.299837</td>\n",
       "      <td>0.000000</td>\n",
       "    </tr>\n",
       "  </tbody>\n",
       "</table>\n",
       "</div>"
      ],
      "text/plain": [
       "          0         1         2         3         4\n",
       "0  0.000000  0.535948  0.241830  0.977941  0.722222\n",
       "1  0.535948  0.000000  0.705882  0.691993  0.936275\n",
       "2  0.241830  0.705882  0.000000  0.736111  0.480392\n",
       "3  0.977941  0.691993  0.736111  0.000000  0.299837\n",
       "4  0.722222  0.936275  0.480392  0.299837  0.000000"
      ]
     },
     "execution_count": 24,
     "metadata": {},
     "output_type": "execute_result"
    },
    {
     "data": {
      "application/javascript": [
       "\n",
       "            setTimeout(function() {\n",
       "                var nbb_cell_id = 24;\n",
       "                var nbb_unformatted_code = \"pd.DataFrame(gower.gower_matrix(df))\";\n",
       "                var nbb_formatted_code = \"pd.DataFrame(gower.gower_matrix(df))\";\n",
       "                var nbb_cells = Jupyter.notebook.get_cells();\n",
       "                for (var i = 0; i < nbb_cells.length; ++i) {\n",
       "                    if (nbb_cells[i].input_prompt_number == nbb_cell_id) {\n",
       "                        if (nbb_cells[i].get_text() == nbb_unformatted_code) {\n",
       "                             nbb_cells[i].set_text(nbb_formatted_code);\n",
       "                        }\n",
       "                        break;\n",
       "                    }\n",
       "                }\n",
       "            }, 500);\n",
       "            "
      ],
      "text/plain": [
       "<IPython.core.display.Javascript object>"
      ]
     },
     "metadata": {},
     "output_type": "display_data"
    }
   ],
   "source": [
    "pd.DataFrame(gower.gower_matrix(df))"
   ]
  },
  {
   "cell_type": "markdown",
   "metadata": {},
   "source": [
    "With this metric we also have the ability to assign weights to show how important each feature should be in the distance calculation."
   ]
  },
  {
   "cell_type": "code",
   "execution_count": 26,
   "metadata": {},
   "outputs": [
    {
     "data": {
      "text/html": [
       "<div>\n",
       "<style scoped>\n",
       "    .dataframe tbody tr th:only-of-type {\n",
       "        vertical-align: middle;\n",
       "    }\n",
       "\n",
       "    .dataframe tbody tr th {\n",
       "        vertical-align: top;\n",
       "    }\n",
       "\n",
       "    .dataframe thead th {\n",
       "        text-align: right;\n",
       "    }\n",
       "</style>\n",
       "<table border=\"1\" class=\"dataframe\">\n",
       "  <thead>\n",
       "    <tr style=\"text-align: right;\">\n",
       "      <th></th>\n",
       "      <th>0</th>\n",
       "      <th>1</th>\n",
       "      <th>2</th>\n",
       "      <th>3</th>\n",
       "      <th>4</th>\n",
       "    </tr>\n",
       "  </thead>\n",
       "  <tbody>\n",
       "    <tr>\n",
       "      <th>0</th>\n",
       "      <td>0.000000</td>\n",
       "      <td>0.767974</td>\n",
       "      <td>0.120915</td>\n",
       "      <td>0.988971</td>\n",
       "      <td>0.361111</td>\n",
       "    </tr>\n",
       "    <tr>\n",
       "      <th>1</th>\n",
       "      <td>0.767974</td>\n",
       "      <td>0.000000</td>\n",
       "      <td>0.852941</td>\n",
       "      <td>0.345997</td>\n",
       "      <td>0.968137</td>\n",
       "    </tr>\n",
       "    <tr>\n",
       "      <th>2</th>\n",
       "      <td>0.120915</td>\n",
       "      <td>0.852941</td>\n",
       "      <td>0.000000</td>\n",
       "      <td>0.868056</td>\n",
       "      <td>0.240196</td>\n",
       "    </tr>\n",
       "    <tr>\n",
       "      <th>3</th>\n",
       "      <td>0.988971</td>\n",
       "      <td>0.345997</td>\n",
       "      <td>0.868056</td>\n",
       "      <td>0.000000</td>\n",
       "      <td>0.649918</td>\n",
       "    </tr>\n",
       "    <tr>\n",
       "      <th>4</th>\n",
       "      <td>0.361111</td>\n",
       "      <td>0.968137</td>\n",
       "      <td>0.240196</td>\n",
       "      <td>0.649918</td>\n",
       "      <td>0.000000</td>\n",
       "    </tr>\n",
       "  </tbody>\n",
       "</table>\n",
       "</div>"
      ],
      "text/plain": [
       "          0         1         2         3         4\n",
       "0  0.000000  0.767974  0.120915  0.988971  0.361111\n",
       "1  0.767974  0.000000  0.852941  0.345997  0.968137\n",
       "2  0.120915  0.852941  0.000000  0.868056  0.240196\n",
       "3  0.988971  0.345997  0.868056  0.000000  0.649918\n",
       "4  0.361111  0.968137  0.240196  0.649918  0.000000"
      ]
     },
     "execution_count": 26,
     "metadata": {},
     "output_type": "execute_result"
    },
    {
     "data": {
      "application/javascript": [
       "\n",
       "            setTimeout(function() {\n",
       "                var nbb_cell_id = 26;\n",
       "                var nbb_unformatted_code = \"# I think late payments should be 5 times as important as the\\n# rest of the features (idk why, just made it up to use weights)\\nw = np.array([1, 1, 1, 5])\\npd.DataFrame(gower.gower_matrix(df, weight=w))\";\n",
       "                var nbb_formatted_code = \"# I think late payments should be 5 times as important as the\\n# rest of the features (idk why, just made it up to use weights)\\nw = np.array([1, 1, 1, 5])\\npd.DataFrame(gower.gower_matrix(df, weight=w))\";\n",
       "                var nbb_cells = Jupyter.notebook.get_cells();\n",
       "                for (var i = 0; i < nbb_cells.length; ++i) {\n",
       "                    if (nbb_cells[i].input_prompt_number == nbb_cell_id) {\n",
       "                        if (nbb_cells[i].get_text() == nbb_unformatted_code) {\n",
       "                             nbb_cells[i].set_text(nbb_formatted_code);\n",
       "                        }\n",
       "                        break;\n",
       "                    }\n",
       "                }\n",
       "            }, 500);\n",
       "            "
      ],
      "text/plain": [
       "<IPython.core.display.Javascript object>"
      ]
     },
     "metadata": {},
     "output_type": "display_data"
    }
   ],
   "source": [
    "# I think late payments should be 5 times as important as the\n",
    "# rest of the features (idk why, just made it up to use weights)\n",
    "w = np.array([1, 1, 1, 5])\n",
    "pd.DataFrame(gower.gower_matrix(df, weight=w))"
   ]
  },
  {
   "cell_type": "markdown",
   "metadata": {},
   "source": [
    "Compare the 2 outputs.\n",
    "\n",
    "`[0, 2, 4]` all had the same value for the more heavily weighted `late_payments` feature.  The distances between `[0, 2]`, `[0, 4]`, and `[2, 4]` all got smaller when we weighted that feature.\n",
    "\n",
    "\n",
    "`[1, 3]` had the same value for `late_payments` feature.  The distances between `[1, 3]` got smaller.\n",
    "\n",
    "We also see larger distances between these 2 groups (`[0, 2, 4]` <-> `[1, 3]`)"
   ]
  },
  {
   "cell_type": "code",
   "execution_count": 2,
   "metadata": {},
   "outputs": [
    {
     "ename": "NameError",
     "evalue": "name 'num_cols' is not defined",
     "output_type": "error",
     "traceback": [
      "\u001b[1;31m---------------------------------------------------------------------------\u001b[0m",
      "\u001b[1;31mNameError\u001b[0m                                 Traceback (most recent call last)",
      "\u001b[1;32m<ipython-input-2-30d62632f606>\u001b[0m in \u001b[0;36m<module>\u001b[1;34m\u001b[0m\n\u001b[1;32m----> 1\u001b[1;33m \u001b[0mnum_cols\u001b[0m\u001b[1;33m+\u001b[0m\u001b[1;33m[\u001b[0m\u001b[1;34m'cluster_label'\u001b[0m\u001b[1;33m]\u001b[0m\u001b[1;33m\u001b[0m\u001b[1;33m\u001b[0m\u001b[0m\n\u001b[0m",
      "\u001b[1;31mNameError\u001b[0m: name 'num_cols' is not defined"
     ]
    }
   ],
   "source": [
    "num_cols+['cluster_label']"
   ]
  },
  {
   "cell_type": "code",
   "execution_count": null,
   "metadata": {},
   "outputs": [],
   "source": [
    "sns.pairplot(nba[], hue=\"cluster_label\")"
   ]
  }
 ],
 "metadata": {
  "hide_code_all_hidden": false,
  "kernelspec": {
   "display_name": "Python 3",
   "language": "python",
   "name": "python3"
  },
  "language_info": {
   "codemirror_mode": {
    "name": "ipython",
    "version": 3
   },
   "file_extension": ".py",
   "mimetype": "text/x-python",
   "name": "python",
   "nbconvert_exporter": "python",
   "pygments_lexer": "ipython3",
   "version": "3.7.6"
  }
 },
 "nbformat": 4,
 "nbformat_minor": 2
}
