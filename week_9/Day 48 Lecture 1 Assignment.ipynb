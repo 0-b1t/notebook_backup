{
 "cells": [
  {
   "cell_type": "code",
   "execution_count": 1,
   "metadata": {},
   "outputs": [
    {
     "data": {
      "application/javascript": [
       "\n",
       "            setTimeout(function() {\n",
       "                var nbb_cell_id = 1;\n",
       "                var nbb_unformatted_code = \"%reload_ext nb_black\";\n",
       "                var nbb_formatted_code = \"%reload_ext nb_black\";\n",
       "                var nbb_cells = Jupyter.notebook.get_cells();\n",
       "                for (var i = 0; i < nbb_cells.length; ++i) {\n",
       "                    if (nbb_cells[i].input_prompt_number == nbb_cell_id) {\n",
       "                        if (nbb_cells[i].get_text() == nbb_unformatted_code) {\n",
       "                             nbb_cells[i].set_text(nbb_formatted_code);\n",
       "                        }\n",
       "                        break;\n",
       "                    }\n",
       "                }\n",
       "            }, 500);\n",
       "            "
      ],
      "text/plain": [
       "<IPython.core.display.Javascript object>"
      ]
     },
     "metadata": {},
     "output_type": "display_data"
    }
   ],
   "source": [
    "%reload_ext nb_black"
   ]
  },
  {
   "cell_type": "markdown",
   "metadata": {
    "colab_type": "text",
    "id": "xdL0Yz0D1D_q"
   },
   "source": [
    "## Day 48 Lecture 1 Assignment\n",
    "\n",
    "In this assignment, we will apply hierarchical clustering to a dataset containing the locations of all Starbucks in the U.S.\n",
    "\n",
    "Note: this assignment uses geographical data and maps, which will require the use of two specific packages: haversine and plotly. Both of these can be pip installed."
   ]
  },
  {
   "cell_type": "code",
   "execution_count": 2,
   "metadata": {
    "colab": {},
    "colab_type": "code",
    "id": "OulyiH_C1D_r"
   },
   "outputs": [
    {
     "data": {
      "application/javascript": [
       "\n",
       "            setTimeout(function() {\n",
       "                var nbb_cell_id = 2;\n",
       "                var nbb_unformatted_code = \"%matplotlib inline\\n\\nimport matplotlib.pyplot as plt\\nimport numpy as np\\nimport pandas as pd\\nfrom sklearn.cluster import AgglomerativeClustering\\nfrom scipy.cluster.hierarchy import dendrogram\\nfrom haversine import haversine\\nimport plotly.express as px\";\n",
       "                var nbb_formatted_code = \"%matplotlib inline\\n\\nimport matplotlib.pyplot as plt\\nimport numpy as np\\nimport pandas as pd\\nfrom sklearn.cluster import AgglomerativeClustering\\nfrom scipy.cluster.hierarchy import dendrogram\\nfrom haversine import haversine\\nimport plotly.express as px\";\n",
       "                var nbb_cells = Jupyter.notebook.get_cells();\n",
       "                for (var i = 0; i < nbb_cells.length; ++i) {\n",
       "                    if (nbb_cells[i].input_prompt_number == nbb_cell_id) {\n",
       "                        if (nbb_cells[i].get_text() == nbb_unformatted_code) {\n",
       "                             nbb_cells[i].set_text(nbb_formatted_code);\n",
       "                        }\n",
       "                        break;\n",
       "                    }\n",
       "                }\n",
       "            }, 500);\n",
       "            "
      ],
      "text/plain": [
       "<IPython.core.display.Javascript object>"
      ]
     },
     "metadata": {},
     "output_type": "display_data"
    }
   ],
   "source": [
    "%matplotlib inline\n",
    "\n",
    "import matplotlib.pyplot as plt\n",
    "import numpy as np\n",
    "import pandas as pd\n",
    "from sklearn.cluster import AgglomerativeClustering\n",
    "from scipy.cluster.hierarchy import dendrogram\n",
    "from haversine import haversine\n",
    "import plotly.express as px"
   ]
  },
  {
   "cell_type": "markdown",
   "metadata": {
    "colab_type": "text",
    "id": "NFHYqtgvglMA"
   },
   "source": [
    "Below are some convenience functions for calculating geographical distance matrices using lat-long data and plotting a dendrogram by combining a scikit-learn model with scipy's dendrogram plotting functionality."
   ]
  },
  {
   "cell_type": "code",
   "execution_count": 3,
   "metadata": {
    "colab": {},
    "colab_type": "code",
    "id": "jjPmbcf1glMB"
   },
   "outputs": [
    {
     "data": {
      "application/javascript": [
       "\n",
       "            setTimeout(function() {\n",
       "                var nbb_cell_id = 3;\n",
       "                var nbb_unformatted_code = \"def geo_sim_matrix(df, col_name=\\\"Coordinates\\\"):\\n    \\\"\\\"\\\"\\n    A function that computes a geographical distance matrix (in miles).\\n    Each row in the dataframe should correspond to one location.\\n    In addition, the dataframe must have a column containing the lat-long of each location as a tuple (i.e. (lat, long)).\\n    \\n    Parameters:\\n        df (pandas dataframe): an nxm dataframe containing the locations to compute similarities between.\\n        col (string): the name of the column containing the lat-long tuples.\\n        \\n    Returns:\\n        distance (pandas dataframe): an nxn distance matrix between the geographical coordinates of each location.\\n    \\\"\\\"\\\"\\n\\n    df = df.copy()\\n    df.reset_index(inplace=True)\\n    haver_vec = np.vectorize(haversine, otypes=[np.float32])\\n    distance = df.groupby(\\\"index\\\").apply(\\n        lambda x: pd.Series(haver_vec(df[col_name], x[col_name]))\\n    )\\n    distance = distance / 1.609344\\n    distance.columns = distance.index\\n\\n    return distance\\n\\n\\ndef plot_dendrogram(model, **kwargs):\\n    \\\"\\\"\\\"\\n    A basic function for plotting a dendrogram. Sourced from the following link:\\n    https://github.com/scikit-learn/scikit-learn/blob/70cf4a676caa2d2dad2e3f6e4478d64bcb0506f7/examples/cluster/plot_hierarchical_clustering_dendrogram.py\\n    \\n    Parameters:\\n        model (object of class sklearn.cluster.hierarchical.AgglomerativeClustering): a fitted scikit-learn hierarchical clustering model.\\n    \\n    Output: a dendrogram based on the model based in the parameters.\\n    \\n    Returns: N/A    \\n    \\\"\\\"\\\"\\n    # Children of hierarchical clustering\\n    children = model.children_\\n\\n    # Distances between each pair of children\\n    # Since we don't have this information, we can use a uniform one for plotting\\n    distance = np.arange(children.shape[0])\\n\\n    # The number of observations contained in each cluster level\\n    no_of_observations = np.arange(2, children.shape[0] + 2)\\n\\n    # Create linkage matrix and then plot the dendrogram\\n    linkage_matrix = np.column_stack([children, distance, no_of_observations]).astype(\\n        float\\n    )\\n\\n    # Plot the corresponding dendrogram\\n    dendrogram(linkage_matrix, **kwargs)\";\n",
       "                var nbb_formatted_code = \"def geo_sim_matrix(df, col_name=\\\"Coordinates\\\"):\\n    \\\"\\\"\\\"\\n    A function that computes a geographical distance matrix (in miles).\\n    Each row in the dataframe should correspond to one location.\\n    In addition, the dataframe must have a column containing the lat-long of each location as a tuple (i.e. (lat, long)).\\n    \\n    Parameters:\\n        df (pandas dataframe): an nxm dataframe containing the locations to compute similarities between.\\n        col (string): the name of the column containing the lat-long tuples.\\n        \\n    Returns:\\n        distance (pandas dataframe): an nxn distance matrix between the geographical coordinates of each location.\\n    \\\"\\\"\\\"\\n\\n    df = df.copy()\\n    df.reset_index(inplace=True)\\n    haver_vec = np.vectorize(haversine, otypes=[np.float32])\\n    distance = df.groupby(\\\"index\\\").apply(\\n        lambda x: pd.Series(haver_vec(df[col_name], x[col_name]))\\n    )\\n    distance = distance / 1.609344\\n    distance.columns = distance.index\\n\\n    return distance\\n\\n\\ndef plot_dendrogram(model, **kwargs):\\n    \\\"\\\"\\\"\\n    A basic function for plotting a dendrogram. Sourced from the following link:\\n    https://github.com/scikit-learn/scikit-learn/blob/70cf4a676caa2d2dad2e3f6e4478d64bcb0506f7/examples/cluster/plot_hierarchical_clustering_dendrogram.py\\n    \\n    Parameters:\\n        model (object of class sklearn.cluster.hierarchical.AgglomerativeClustering): a fitted scikit-learn hierarchical clustering model.\\n    \\n    Output: a dendrogram based on the model based in the parameters.\\n    \\n    Returns: N/A    \\n    \\\"\\\"\\\"\\n    # Children of hierarchical clustering\\n    children = model.children_\\n\\n    # Distances between each pair of children\\n    # Since we don't have this information, we can use a uniform one for plotting\\n    distance = np.arange(children.shape[0])\\n\\n    # The number of observations contained in each cluster level\\n    no_of_observations = np.arange(2, children.shape[0] + 2)\\n\\n    # Create linkage matrix and then plot the dendrogram\\n    linkage_matrix = np.column_stack([children, distance, no_of_observations]).astype(\\n        float\\n    )\\n\\n    # Plot the corresponding dendrogram\\n    dendrogram(linkage_matrix, **kwargs)\";\n",
       "                var nbb_cells = Jupyter.notebook.get_cells();\n",
       "                for (var i = 0; i < nbb_cells.length; ++i) {\n",
       "                    if (nbb_cells[i].input_prompt_number == nbb_cell_id) {\n",
       "                        if (nbb_cells[i].get_text() == nbb_unformatted_code) {\n",
       "                             nbb_cells[i].set_text(nbb_formatted_code);\n",
       "                        }\n",
       "                        break;\n",
       "                    }\n",
       "                }\n",
       "            }, 500);\n",
       "            "
      ],
      "text/plain": [
       "<IPython.core.display.Javascript object>"
      ]
     },
     "metadata": {},
     "output_type": "display_data"
    }
   ],
   "source": [
    "def geo_sim_matrix(df, col_name=\"Coordinates\"):\n",
    "    \"\"\"\n",
    "    A function that computes a geographical distance matrix (in miles).\n",
    "    Each row in the dataframe should correspond to one location.\n",
    "    In addition, the dataframe must have a column containing the lat-long of each location as a tuple (i.e. (lat, long)).\n",
    "    \n",
    "    Parameters:\n",
    "        df (pandas dataframe): an nxm dataframe containing the locations to compute similarities between.\n",
    "        col (string): the name of the column containing the lat-long tuples.\n",
    "        \n",
    "    Returns:\n",
    "        distance (pandas dataframe): an nxn distance matrix between the geographical coordinates of each location.\n",
    "    \"\"\"\n",
    "\n",
    "    df = df.copy()\n",
    "    df.reset_index(inplace=True)\n",
    "    haver_vec = np.vectorize(haversine, otypes=[np.float32])\n",
    "    distance = df.groupby(\"index\").apply(\n",
    "        lambda x: pd.Series(haver_vec(df[col_name], x[col_name]))\n",
    "    )\n",
    "    distance = distance / 1.609344\n",
    "    distance.columns = distance.index\n",
    "\n",
    "    return distance\n",
    "\n",
    "\n",
    "def plot_dendrogram(model, **kwargs):\n",
    "    \"\"\"\n",
    "    A basic function for plotting a dendrogram. Sourced from the following link:\n",
    "    https://github.com/scikit-learn/scikit-learn/blob/70cf4a676caa2d2dad2e3f6e4478d64bcb0506f7/examples/cluster/plot_hierarchical_clustering_dendrogram.py\n",
    "    \n",
    "    Parameters:\n",
    "        model (object of class sklearn.cluster.hierarchical.AgglomerativeClustering): a fitted scikit-learn hierarchical clustering model.\n",
    "    \n",
    "    Output: a dendrogram based on the model based in the parameters.\n",
    "    \n",
    "    Returns: N/A    \n",
    "    \"\"\"\n",
    "    # Children of hierarchical clustering\n",
    "    children = model.children_\n",
    "\n",
    "    # Distances between each pair of children\n",
    "    # Since we don't have this information, we can use a uniform one for plotting\n",
    "    distance = np.arange(children.shape[0])\n",
    "\n",
    "    # The number of observations contained in each cluster level\n",
    "    no_of_observations = np.arange(2, children.shape[0] + 2)\n",
    "\n",
    "    # Create linkage matrix and then plot the dendrogram\n",
    "    linkage_matrix = np.column_stack([children, distance, no_of_observations]).astype(\n",
    "        float\n",
    "    )\n",
    "\n",
    "    # Plot the corresponding dendrogram\n",
    "    dendrogram(linkage_matrix, **kwargs)"
   ]
  },
  {
   "cell_type": "markdown",
   "metadata": {
    "colab_type": "text",
    "id": "ezMvoRlB1D_t"
   },
   "source": [
    "This dataset contains the latitude and longitude (as well as several other details we will not be using) of every Starbucks in the world as of February 2017. Each row consists of the following features, which are generally self-explanatory:\n",
    "\n",
    "- Brand\n",
    "- Store Number\n",
    "- Store Name\n",
    "- Ownership Type\n",
    "- Street Address\n",
    "- City\n",
    "- State/Province\n",
    "- Country\n",
    "- Postcode\n",
    "- Phone Number\n",
    "- Timezone\n",
    "- Longitude\n",
    "- Latitude\n",
    "\n",
    "Load in the dataset."
   ]
  },
  {
   "cell_type": "code",
   "execution_count": 4,
   "metadata": {
    "colab": {},
    "colab_type": "code",
    "id": "wP1U4eQ91D_u"
   },
   "outputs": [
    {
     "data": {
      "text/html": [
       "<div>\n",
       "<style scoped>\n",
       "    .dataframe tbody tr th:only-of-type {\n",
       "        vertical-align: middle;\n",
       "    }\n",
       "\n",
       "    .dataframe tbody tr th {\n",
       "        vertical-align: top;\n",
       "    }\n",
       "\n",
       "    .dataframe thead th {\n",
       "        text-align: right;\n",
       "    }\n",
       "</style>\n",
       "<table border=\"1\" class=\"dataframe\">\n",
       "  <thead>\n",
       "    <tr style=\"text-align: right;\">\n",
       "      <th></th>\n",
       "      <th>Brand</th>\n",
       "      <th>Store Number</th>\n",
       "      <th>Store Name</th>\n",
       "      <th>Ownership Type</th>\n",
       "      <th>Street Address</th>\n",
       "      <th>City</th>\n",
       "      <th>State/Province</th>\n",
       "      <th>Country</th>\n",
       "      <th>Postcode</th>\n",
       "      <th>Phone Number</th>\n",
       "      <th>Timezone</th>\n",
       "      <th>Longitude</th>\n",
       "      <th>Latitude</th>\n",
       "    </tr>\n",
       "  </thead>\n",
       "  <tbody>\n",
       "    <tr>\n",
       "      <th>0</th>\n",
       "      <td>Starbucks</td>\n",
       "      <td>47370-257954</td>\n",
       "      <td>Meritxell, 96</td>\n",
       "      <td>Licensed</td>\n",
       "      <td>Av. Meritxell, 96</td>\n",
       "      <td>Andorra la Vella</td>\n",
       "      <td>7</td>\n",
       "      <td>AD</td>\n",
       "      <td>AD500</td>\n",
       "      <td>376818720</td>\n",
       "      <td>GMT+1:00 Europe/Andorra</td>\n",
       "      <td>1.53</td>\n",
       "      <td>42.51</td>\n",
       "    </tr>\n",
       "    <tr>\n",
       "      <th>1</th>\n",
       "      <td>Starbucks</td>\n",
       "      <td>22331-212325</td>\n",
       "      <td>Ajman Drive Thru</td>\n",
       "      <td>Licensed</td>\n",
       "      <td>1 Street 69, Al Jarf</td>\n",
       "      <td>Ajman</td>\n",
       "      <td>AJ</td>\n",
       "      <td>AE</td>\n",
       "      <td>NaN</td>\n",
       "      <td>NaN</td>\n",
       "      <td>GMT+04:00 Asia/Dubai</td>\n",
       "      <td>55.47</td>\n",
       "      <td>25.42</td>\n",
       "    </tr>\n",
       "    <tr>\n",
       "      <th>2</th>\n",
       "      <td>Starbucks</td>\n",
       "      <td>47089-256771</td>\n",
       "      <td>Dana Mall</td>\n",
       "      <td>Licensed</td>\n",
       "      <td>Sheikh Khalifa Bin Zayed St.</td>\n",
       "      <td>Ajman</td>\n",
       "      <td>AJ</td>\n",
       "      <td>AE</td>\n",
       "      <td>NaN</td>\n",
       "      <td>NaN</td>\n",
       "      <td>GMT+04:00 Asia/Dubai</td>\n",
       "      <td>55.47</td>\n",
       "      <td>25.39</td>\n",
       "    </tr>\n",
       "    <tr>\n",
       "      <th>3</th>\n",
       "      <td>Starbucks</td>\n",
       "      <td>22126-218024</td>\n",
       "      <td>Twofour 54</td>\n",
       "      <td>Licensed</td>\n",
       "      <td>Al Salam Street</td>\n",
       "      <td>Abu Dhabi</td>\n",
       "      <td>AZ</td>\n",
       "      <td>AE</td>\n",
       "      <td>NaN</td>\n",
       "      <td>NaN</td>\n",
       "      <td>GMT+04:00 Asia/Dubai</td>\n",
       "      <td>54.38</td>\n",
       "      <td>24.48</td>\n",
       "    </tr>\n",
       "    <tr>\n",
       "      <th>4</th>\n",
       "      <td>Starbucks</td>\n",
       "      <td>17127-178586</td>\n",
       "      <td>Al Ain Tower</td>\n",
       "      <td>Licensed</td>\n",
       "      <td>Khaldiya Area, Abu Dhabi Island</td>\n",
       "      <td>Abu Dhabi</td>\n",
       "      <td>AZ</td>\n",
       "      <td>AE</td>\n",
       "      <td>NaN</td>\n",
       "      <td>NaN</td>\n",
       "      <td>GMT+04:00 Asia/Dubai</td>\n",
       "      <td>54.54</td>\n",
       "      <td>24.51</td>\n",
       "    </tr>\n",
       "  </tbody>\n",
       "</table>\n",
       "</div>"
      ],
      "text/plain": [
       "       Brand  Store Number        Store Name Ownership Type  \\\n",
       "0  Starbucks  47370-257954     Meritxell, 96       Licensed   \n",
       "1  Starbucks  22331-212325  Ajman Drive Thru       Licensed   \n",
       "2  Starbucks  47089-256771         Dana Mall       Licensed   \n",
       "3  Starbucks  22126-218024        Twofour 54       Licensed   \n",
       "4  Starbucks  17127-178586      Al Ain Tower       Licensed   \n",
       "\n",
       "                    Street Address              City State/Province Country  \\\n",
       "0                Av. Meritxell, 96  Andorra la Vella              7      AD   \n",
       "1             1 Street 69, Al Jarf             Ajman             AJ      AE   \n",
       "2     Sheikh Khalifa Bin Zayed St.             Ajman             AJ      AE   \n",
       "3                  Al Salam Street         Abu Dhabi             AZ      AE   \n",
       "4  Khaldiya Area, Abu Dhabi Island         Abu Dhabi             AZ      AE   \n",
       "\n",
       "  Postcode Phone Number                 Timezone  Longitude  Latitude  \n",
       "0    AD500    376818720  GMT+1:00 Europe/Andorra       1.53     42.51  \n",
       "1      NaN          NaN     GMT+04:00 Asia/Dubai      55.47     25.42  \n",
       "2      NaN          NaN     GMT+04:00 Asia/Dubai      55.47     25.39  \n",
       "3      NaN          NaN     GMT+04:00 Asia/Dubai      54.38     24.48  \n",
       "4      NaN          NaN     GMT+04:00 Asia/Dubai      54.54     24.51  "
      ]
     },
     "execution_count": 4,
     "metadata": {},
     "output_type": "execute_result"
    },
    {
     "data": {
      "application/javascript": [
       "\n",
       "            setTimeout(function() {\n",
       "                var nbb_cell_id = 4;\n",
       "                var nbb_unformatted_code = \"# answer goes here\\n\\nsbux = pd.read_csv('data/starbucks_locations.csv')\\n\\nsbux.head()\";\n",
       "                var nbb_formatted_code = \"# answer goes here\\n\\nsbux = pd.read_csv(\\\"data/starbucks_locations.csv\\\")\\n\\nsbux.head()\";\n",
       "                var nbb_cells = Jupyter.notebook.get_cells();\n",
       "                for (var i = 0; i < nbb_cells.length; ++i) {\n",
       "                    if (nbb_cells[i].input_prompt_number == nbb_cell_id) {\n",
       "                        if (nbb_cells[i].get_text() == nbb_unformatted_code) {\n",
       "                             nbb_cells[i].set_text(nbb_formatted_code);\n",
       "                        }\n",
       "                        break;\n",
       "                    }\n",
       "                }\n",
       "            }, 500);\n",
       "            "
      ],
      "text/plain": [
       "<IPython.core.display.Javascript object>"
      ]
     },
     "metadata": {},
     "output_type": "display_data"
    }
   ],
   "source": [
    "# answer goes here\n",
    "\n",
    "sbux = pd.read_csv('data/starbucks_locations.csv')\n",
    "\n",
    "sbux.head()\n",
    "\n"
   ]
  },
  {
   "cell_type": "markdown",
   "metadata": {
    "colab_type": "text",
    "id": "o_K1eQ0x1D_y"
   },
   "source": [
    "Begin by narrowing down the dataset to a specific geographic area of interest. Since we will need to manually compute a distance matrix, which will be on the order of $n^{2}$ in terms of size, we would recommend choosing an area with 3000 or less locations. In this example, we will use California, which has about 2800 locations. Feel free to choose a different region that is of more interest to you, if desired.\n",
    "\n",
    "Subset the dataframe to only include records for Starbucks locations in California."
   ]
  },
  {
   "cell_type": "code",
   "execution_count": 5,
   "metadata": {
    "colab": {},
    "colab_type": "code",
    "id": "xaPTv22LglMK"
   },
   "outputs": [
    {
     "data": {
      "application/javascript": [
       "\n",
       "            setTimeout(function() {\n",
       "                var nbb_cell_id = 5;\n",
       "                var nbb_unformatted_code = \"# answer goes here\\nsbux = sbux[sbux['State/Province']=='WI']\";\n",
       "                var nbb_formatted_code = \"# answer goes here\\nsbux = sbux[sbux[\\\"State/Province\\\"] == \\\"WI\\\"]\";\n",
       "                var nbb_cells = Jupyter.notebook.get_cells();\n",
       "                for (var i = 0; i < nbb_cells.length; ++i) {\n",
       "                    if (nbb_cells[i].input_prompt_number == nbb_cell_id) {\n",
       "                        if (nbb_cells[i].get_text() == nbb_unformatted_code) {\n",
       "                             nbb_cells[i].set_text(nbb_formatted_code);\n",
       "                        }\n",
       "                        break;\n",
       "                    }\n",
       "                }\n",
       "            }, 500);\n",
       "            "
      ],
      "text/plain": [
       "<IPython.core.display.Javascript object>"
      ]
     },
     "metadata": {},
     "output_type": "display_data"
    }
   ],
   "source": [
    "# answer goes here\n",
    "sbux = sbux[sbux['State/Province']=='WI']\n",
    "\n",
    "\n"
   ]
  },
  {
   "cell_type": "markdown",
   "metadata": {
    "colab_type": "text",
    "id": "JP466YhlglMN"
   },
   "source": [
    "The haversine package takes tuples with 2 numeric elements and interprets them as lat-long to calculate distance, so add a new column called \"Coordinates\" that converts the lat and long in each row into a tuple. In other words, the last two columns of the dataframe should initially look like this:\n",
    "\n",
    "**Latitude, Longitude**  \n",
    "-121.64, 39.14  \n",
    "-116.40, 34.13  \n",
    "...\n",
    "\n",
    "After adding the new column, the last three columns should look like this:\n",
    "\n",
    "**Latitude, Longitude, Coordinates**  \n",
    "-121.64, 39.14, (-121.64, 39.14)  \n",
    "-116.40, 34.13, (-116.40, 34.13)  \n",
    "..."
   ]
  },
  {
   "cell_type": "code",
   "execution_count": 6,
   "metadata": {
    "colab": {},
    "colab_type": "code",
    "id": "xfYVreyw1D_y"
   },
   "outputs": [
    {
     "data": {
      "text/html": [
       "<div>\n",
       "<style scoped>\n",
       "    .dataframe tbody tr th:only-of-type {\n",
       "        vertical-align: middle;\n",
       "    }\n",
       "\n",
       "    .dataframe tbody tr th {\n",
       "        vertical-align: top;\n",
       "    }\n",
       "\n",
       "    .dataframe thead th {\n",
       "        text-align: right;\n",
       "    }\n",
       "</style>\n",
       "<table border=\"1\" class=\"dataframe\">\n",
       "  <thead>\n",
       "    <tr style=\"text-align: right;\">\n",
       "      <th></th>\n",
       "      <th>Brand</th>\n",
       "      <th>Store Number</th>\n",
       "      <th>Store Name</th>\n",
       "      <th>Ownership Type</th>\n",
       "      <th>Street Address</th>\n",
       "      <th>City</th>\n",
       "      <th>State/Province</th>\n",
       "      <th>Country</th>\n",
       "      <th>Postcode</th>\n",
       "      <th>Phone Number</th>\n",
       "      <th>Timezone</th>\n",
       "      <th>Longitude</th>\n",
       "      <th>Latitude</th>\n",
       "      <th>Coordinates</th>\n",
       "    </tr>\n",
       "  </thead>\n",
       "  <tbody>\n",
       "    <tr>\n",
       "      <th>25379</th>\n",
       "      <td>Starbucks</td>\n",
       "      <td>8616-94042</td>\n",
       "      <td>West Wisconsin &amp; West Greenville</td>\n",
       "      <td>Company Owned</td>\n",
       "      <td>4339 W Wisconsin Avenue</td>\n",
       "      <td>Appleton</td>\n",
       "      <td>WI</td>\n",
       "      <td>US</td>\n",
       "      <td>549138632</td>\n",
       "      <td>920-954-1482</td>\n",
       "      <td>GMT-06:00 America/Chicago</td>\n",
       "      <td>-88.47</td>\n",
       "      <td>44.27</td>\n",
       "      <td>(44.27, -88.47)</td>\n",
       "    </tr>\n",
       "    <tr>\n",
       "      <th>25380</th>\n",
       "      <td>Starbucks</td>\n",
       "      <td>9379-103131</td>\n",
       "      <td>Northland &amp; Richmond</td>\n",
       "      <td>Company Owned</td>\n",
       "      <td>631 W. Northland Ave.</td>\n",
       "      <td>Appleton</td>\n",
       "      <td>WI</td>\n",
       "      <td>US</td>\n",
       "      <td>549111929</td>\n",
       "      <td>920-739-2518</td>\n",
       "      <td>GMT-06:00 America/Chicago</td>\n",
       "      <td>-88.41</td>\n",
       "      <td>44.29</td>\n",
       "      <td>(44.29, -88.41)</td>\n",
       "    </tr>\n",
       "    <tr>\n",
       "      <th>25381</th>\n",
       "      <td>Starbucks</td>\n",
       "      <td>2903-92686</td>\n",
       "      <td>Highway 441 &amp; Calumet</td>\n",
       "      <td>Company Owned</td>\n",
       "      <td>3420 E Calumet Ave., Fox River Mall</td>\n",
       "      <td>Appleton</td>\n",
       "      <td>WI</td>\n",
       "      <td>US</td>\n",
       "      <td>549154185</td>\n",
       "      <td>920-954-1462</td>\n",
       "      <td>GMT-06:00 America/Chicago</td>\n",
       "      <td>-88.36</td>\n",
       "      <td>44.24</td>\n",
       "      <td>(44.24, -88.36)</td>\n",
       "    </tr>\n",
       "    <tr>\n",
       "      <th>25382</th>\n",
       "      <td>Teavana</td>\n",
       "      <td>28531-249953</td>\n",
       "      <td>Teavana - Fox River Mall</td>\n",
       "      <td>Company Owned</td>\n",
       "      <td>4301 W. Wisconsin Ave., #326</td>\n",
       "      <td>Appleton</td>\n",
       "      <td>WI</td>\n",
       "      <td>US</td>\n",
       "      <td>54913</td>\n",
       "      <td>920-733-2532</td>\n",
       "      <td>GMT-06:00 America/Chicago</td>\n",
       "      <td>-88.47</td>\n",
       "      <td>44.27</td>\n",
       "      <td>(44.27, -88.47)</td>\n",
       "    </tr>\n",
       "    <tr>\n",
       "      <th>25383</th>\n",
       "      <td>Starbucks</td>\n",
       "      <td>10624-101632</td>\n",
       "      <td>Oneida &amp; Ramada</td>\n",
       "      <td>Company Owned</td>\n",
       "      <td>2883 S. Oneida St.</td>\n",
       "      <td>Ashwaubenon</td>\n",
       "      <td>WI</td>\n",
       "      <td>US</td>\n",
       "      <td>543045754</td>\n",
       "      <td>920-499-4532</td>\n",
       "      <td>GMT-06:00 America/Chicago</td>\n",
       "      <td>-88.08</td>\n",
       "      <td>44.47</td>\n",
       "      <td>(44.47, -88.08)</td>\n",
       "    </tr>\n",
       "  </tbody>\n",
       "</table>\n",
       "</div>"
      ],
      "text/plain": [
       "           Brand  Store Number                        Store Name  \\\n",
       "25379  Starbucks    8616-94042  West Wisconsin & West Greenville   \n",
       "25380  Starbucks   9379-103131              Northland & Richmond   \n",
       "25381  Starbucks    2903-92686             Highway 441 & Calumet   \n",
       "25382    Teavana  28531-249953          Teavana - Fox River Mall   \n",
       "25383  Starbucks  10624-101632                   Oneida & Ramada   \n",
       "\n",
       "      Ownership Type                       Street Address         City  \\\n",
       "25379  Company Owned              4339 W Wisconsin Avenue     Appleton   \n",
       "25380  Company Owned                631 W. Northland Ave.     Appleton   \n",
       "25381  Company Owned  3420 E Calumet Ave., Fox River Mall     Appleton   \n",
       "25382  Company Owned         4301 W. Wisconsin Ave., #326     Appleton   \n",
       "25383  Company Owned                   2883 S. Oneida St.  Ashwaubenon   \n",
       "\n",
       "      State/Province Country   Postcode  Phone Number  \\\n",
       "25379             WI      US  549138632  920-954-1482   \n",
       "25380             WI      US  549111929  920-739-2518   \n",
       "25381             WI      US  549154185  920-954-1462   \n",
       "25382             WI      US      54913  920-733-2532   \n",
       "25383             WI      US  543045754  920-499-4532   \n",
       "\n",
       "                        Timezone  Longitude  Latitude      Coordinates  \n",
       "25379  GMT-06:00 America/Chicago     -88.47     44.27  (44.27, -88.47)  \n",
       "25380  GMT-06:00 America/Chicago     -88.41     44.29  (44.29, -88.41)  \n",
       "25381  GMT-06:00 America/Chicago     -88.36     44.24  (44.24, -88.36)  \n",
       "25382  GMT-06:00 America/Chicago     -88.47     44.27  (44.27, -88.47)  \n",
       "25383  GMT-06:00 America/Chicago     -88.08     44.47  (44.47, -88.08)  "
      ]
     },
     "execution_count": 6,
     "metadata": {},
     "output_type": "execute_result"
    },
    {
     "data": {
      "application/javascript": [
       "\n",
       "            setTimeout(function() {\n",
       "                var nbb_cell_id = 6;\n",
       "                var nbb_unformatted_code = \"# answer goes here\\nsbux['Coordinates']=sbux[['Latitude', 'Longitude']].apply(tuple,1)\\n\\nsbux.head()\";\n",
       "                var nbb_formatted_code = \"# answer goes here\\nsbux[\\\"Coordinates\\\"] = sbux[[\\\"Latitude\\\", \\\"Longitude\\\"]].apply(tuple, 1)\\n\\nsbux.head()\";\n",
       "                var nbb_cells = Jupyter.notebook.get_cells();\n",
       "                for (var i = 0; i < nbb_cells.length; ++i) {\n",
       "                    if (nbb_cells[i].input_prompt_number == nbb_cell_id) {\n",
       "                        if (nbb_cells[i].get_text() == nbb_unformatted_code) {\n",
       "                             nbb_cells[i].set_text(nbb_formatted_code);\n",
       "                        }\n",
       "                        break;\n",
       "                    }\n",
       "                }\n",
       "            }, 500);\n",
       "            "
      ],
      "text/plain": [
       "<IPython.core.display.Javascript object>"
      ]
     },
     "metadata": {},
     "output_type": "display_data"
    }
   ],
   "source": [
    "# answer goes here\n",
    "sbux['Coordinates']=sbux[['Latitude', 'Longitude']].apply(tuple,1)\n",
    "\n",
    "sbux.head()\n"
   ]
  },
  {
   "cell_type": "markdown",
   "metadata": {
    "colab_type": "text",
    "id": "ufXIZ40WglMQ"
   },
   "source": [
    "Calculate the distance matrix using the starter code/function geo_sim_matrix() provided earlier in the notebook. It assumes the column containing the coordinates for each location is called \"Coordinates\"; examine the docstring for more details."
   ]
  },
  {
   "cell_type": "code",
   "execution_count": 7,
   "metadata": {
    "colab": {},
    "colab_type": "code",
    "id": "Xn6hPlyGglMR"
   },
   "outputs": [
    {
     "data": {
      "text/html": [
       "<div>\n",
       "<style scoped>\n",
       "    .dataframe tbody tr th:only-of-type {\n",
       "        vertical-align: middle;\n",
       "    }\n",
       "\n",
       "    .dataframe tbody tr th {\n",
       "        vertical-align: top;\n",
       "    }\n",
       "\n",
       "    .dataframe thead th {\n",
       "        text-align: right;\n",
       "    }\n",
       "</style>\n",
       "<table border=\"1\" class=\"dataframe\">\n",
       "  <thead>\n",
       "    <tr style=\"text-align: right;\">\n",
       "      <th>index</th>\n",
       "      <th>25379</th>\n",
       "      <th>25380</th>\n",
       "      <th>25381</th>\n",
       "      <th>25382</th>\n",
       "      <th>25383</th>\n",
       "      <th>25384</th>\n",
       "      <th>25385</th>\n",
       "      <th>25386</th>\n",
       "      <th>25387</th>\n",
       "      <th>25388</th>\n",
       "      <th>...</th>\n",
       "      <th>25514</th>\n",
       "      <th>25515</th>\n",
       "      <th>25516</th>\n",
       "      <th>25517</th>\n",
       "      <th>25518</th>\n",
       "      <th>25519</th>\n",
       "      <th>25520</th>\n",
       "      <th>25521</th>\n",
       "      <th>25522</th>\n",
       "      <th>25523</th>\n",
       "    </tr>\n",
       "    <tr>\n",
       "      <th>index</th>\n",
       "      <th></th>\n",
       "      <th></th>\n",
       "      <th></th>\n",
       "      <th></th>\n",
       "      <th></th>\n",
       "      <th></th>\n",
       "      <th></th>\n",
       "      <th></th>\n",
       "      <th></th>\n",
       "      <th></th>\n",
       "      <th></th>\n",
       "      <th></th>\n",
       "      <th></th>\n",
       "      <th></th>\n",
       "      <th></th>\n",
       "      <th></th>\n",
       "      <th></th>\n",
       "      <th></th>\n",
       "      <th></th>\n",
       "      <th></th>\n",
       "      <th></th>\n",
       "    </tr>\n",
       "  </thead>\n",
       "  <tbody>\n",
       "    <tr>\n",
       "      <th>25379</th>\n",
       "      <td>0.000000</td>\n",
       "      <td>3.273916</td>\n",
       "      <td>5.824913</td>\n",
       "      <td>0.000000</td>\n",
       "      <td>23.706379</td>\n",
       "      <td>27.101229</td>\n",
       "      <td>123.594064</td>\n",
       "      <td>87.305279</td>\n",
       "      <td>88.222146</td>\n",
       "      <td>87.305279</td>\n",
       "      <td>...</td>\n",
       "      <td>87.373298</td>\n",
       "      <td>88.210977</td>\n",
       "      <td>85.527512</td>\n",
       "      <td>89.554545</td>\n",
       "      <td>90.899259</td>\n",
       "      <td>61.824376</td>\n",
       "      <td>89.911499</td>\n",
       "      <td>89.911499</td>\n",
       "      <td>84.237856</td>\n",
       "      <td>79.554106</td>\n",
       "    </tr>\n",
       "    <tr>\n",
       "      <th>25380</th>\n",
       "      <td>3.273916</td>\n",
       "      <td>0.000000</td>\n",
       "      <td>4.249142</td>\n",
       "      <td>3.273916</td>\n",
       "      <td>20.499689</td>\n",
       "      <td>23.837091</td>\n",
       "      <td>125.596918</td>\n",
       "      <td>88.022507</td>\n",
       "      <td>89.020772</td>\n",
       "      <td>88.022507</td>\n",
       "      <td>...</td>\n",
       "      <td>87.976854</td>\n",
       "      <td>88.897742</td>\n",
       "      <td>86.191796</td>\n",
       "      <td>90.252032</td>\n",
       "      <td>91.607138</td>\n",
       "      <td>62.552024</td>\n",
       "      <td>90.462983</td>\n",
       "      <td>90.462983</td>\n",
       "      <td>84.608587</td>\n",
       "      <td>82.789965</td>\n",
       "    </tr>\n",
       "    <tr>\n",
       "      <th>25381</th>\n",
       "      <td>5.824913</td>\n",
       "      <td>4.249142</td>\n",
       "      <td>0.000000</td>\n",
       "      <td>5.824913</td>\n",
       "      <td>21.068651</td>\n",
       "      <td>23.774813</td>\n",
       "      <td>122.850468</td>\n",
       "      <td>84.170405</td>\n",
       "      <td>85.216002</td>\n",
       "      <td>84.170405</td>\n",
       "      <td>...</td>\n",
       "      <td>84.062507</td>\n",
       "      <td>85.027910</td>\n",
       "      <td>82.311070</td>\n",
       "      <td>86.387444</td>\n",
       "      <td>87.747680</td>\n",
       "      <td>58.728021</td>\n",
       "      <td>86.520695</td>\n",
       "      <td>86.520695</td>\n",
       "      <td>80.584987</td>\n",
       "      <td>83.054894</td>\n",
       "    </tr>\n",
       "    <tr>\n",
       "      <th>25382</th>\n",
       "      <td>0.000000</td>\n",
       "      <td>3.273916</td>\n",
       "      <td>5.824913</td>\n",
       "      <td>0.000000</td>\n",
       "      <td>23.706379</td>\n",
       "      <td>27.101229</td>\n",
       "      <td>123.594064</td>\n",
       "      <td>87.305279</td>\n",
       "      <td>88.222146</td>\n",
       "      <td>87.305279</td>\n",
       "      <td>...</td>\n",
       "      <td>87.373298</td>\n",
       "      <td>88.210977</td>\n",
       "      <td>85.527512</td>\n",
       "      <td>89.554545</td>\n",
       "      <td>90.899259</td>\n",
       "      <td>61.824376</td>\n",
       "      <td>89.911499</td>\n",
       "      <td>89.911499</td>\n",
       "      <td>84.237856</td>\n",
       "      <td>79.554106</td>\n",
       "    </tr>\n",
       "    <tr>\n",
       "      <th>25383</th>\n",
       "      <td>23.706379</td>\n",
       "      <td>20.499689</td>\n",
       "      <td>21.068651</td>\n",
       "      <td>23.706379</td>\n",
       "      <td>0.000000</td>\n",
       "      <td>4.491406</td>\n",
       "      <td>142.080843</td>\n",
       "      <td>98.804846</td>\n",
       "      <td>100.196645</td>\n",
       "      <td>98.804846</td>\n",
       "      <td>...</td>\n",
       "      <td>98.174809</td>\n",
       "      <td>99.505785</td>\n",
       "      <td>96.742363</td>\n",
       "      <td>100.887505</td>\n",
       "      <td>102.269226</td>\n",
       "      <td>74.097183</td>\n",
       "      <td>100.335775</td>\n",
       "      <td>100.335775</td>\n",
       "      <td>93.660586</td>\n",
       "      <td>103.250633</td>\n",
       "    </tr>\n",
       "    <tr>\n",
       "      <th>...</th>\n",
       "      <td>...</td>\n",
       "      <td>...</td>\n",
       "      <td>...</td>\n",
       "      <td>...</td>\n",
       "      <td>...</td>\n",
       "      <td>...</td>\n",
       "      <td>...</td>\n",
       "      <td>...</td>\n",
       "      <td>...</td>\n",
       "      <td>...</td>\n",
       "      <td>...</td>\n",
       "      <td>...</td>\n",
       "      <td>...</td>\n",
       "      <td>...</td>\n",
       "      <td>...</td>\n",
       "      <td>...</td>\n",
       "      <td>...</td>\n",
       "      <td>...</td>\n",
       "      <td>...</td>\n",
       "      <td>...</td>\n",
       "      <td>...</td>\n",
       "    </tr>\n",
       "    <tr>\n",
       "      <th>25519</th>\n",
       "      <td>61.824376</td>\n",
       "      <td>62.552024</td>\n",
       "      <td>58.728021</td>\n",
       "      <td>61.824376</td>\n",
       "      <td>74.097183</td>\n",
       "      <td>73.846675</td>\n",
       "      <td>73.028210</td>\n",
       "      <td>25.482792</td>\n",
       "      <td>26.491084</td>\n",
       "      <td>25.482792</td>\n",
       "      <td>...</td>\n",
       "      <td>25.652606</td>\n",
       "      <td>26.389348</td>\n",
       "      <td>23.721309</td>\n",
       "      <td>27.730398</td>\n",
       "      <td>29.075272</td>\n",
       "      <td>0.000000</td>\n",
       "      <td>28.305249</td>\n",
       "      <td>28.305249</td>\n",
       "      <td>23.639867</td>\n",
       "      <td>82.095644</td>\n",
       "    </tr>\n",
       "    <tr>\n",
       "      <th>25520</th>\n",
       "      <td>89.911499</td>\n",
       "      <td>90.462983</td>\n",
       "      <td>86.520695</td>\n",
       "      <td>89.911499</td>\n",
       "      <td>100.335775</td>\n",
       "      <td>99.499537</td>\n",
       "      <td>61.787214</td>\n",
       "      <td>5.236332</td>\n",
       "      <td>7.072138</td>\n",
       "      <td>5.236332</td>\n",
       "      <td>...</td>\n",
       "      <td>2.894371</td>\n",
       "      <td>4.099537</td>\n",
       "      <td>5.315348</td>\n",
       "      <td>4.100186</td>\n",
       "      <td>4.542682</td>\n",
       "      <td>28.305249</td>\n",
       "      <td>0.000000</td>\n",
       "      <td>0.000000</td>\n",
       "      <td>7.543904</td>\n",
       "      <td>100.438657</td>\n",
       "    </tr>\n",
       "    <tr>\n",
       "      <th>25521</th>\n",
       "      <td>89.911499</td>\n",
       "      <td>90.462983</td>\n",
       "      <td>86.520695</td>\n",
       "      <td>89.911499</td>\n",
       "      <td>100.335775</td>\n",
       "      <td>99.499537</td>\n",
       "      <td>61.787214</td>\n",
       "      <td>5.236332</td>\n",
       "      <td>7.072138</td>\n",
       "      <td>5.236332</td>\n",
       "      <td>...</td>\n",
       "      <td>2.894371</td>\n",
       "      <td>4.099537</td>\n",
       "      <td>5.315348</td>\n",
       "      <td>4.100186</td>\n",
       "      <td>4.542682</td>\n",
       "      <td>28.305249</td>\n",
       "      <td>0.000000</td>\n",
       "      <td>0.000000</td>\n",
       "      <td>7.543904</td>\n",
       "      <td>100.438657</td>\n",
       "    </tr>\n",
       "    <tr>\n",
       "      <th>25522</th>\n",
       "      <td>84.237856</td>\n",
       "      <td>84.608587</td>\n",
       "      <td>80.584987</td>\n",
       "      <td>84.237856</td>\n",
       "      <td>93.660586</td>\n",
       "      <td>92.671110</td>\n",
       "      <td>68.257198</td>\n",
       "      <td>9.785251</td>\n",
       "      <td>12.232921</td>\n",
       "      <td>9.785251</td>\n",
       "      <td>...</td>\n",
       "      <td>6.989707</td>\n",
       "      <td>9.412443</td>\n",
       "      <td>7.863058</td>\n",
       "      <td>10.378149</td>\n",
       "      <td>11.429653</td>\n",
       "      <td>23.639867</td>\n",
       "      <td>7.543904</td>\n",
       "      <td>7.543904</td>\n",
       "      <td>0.000000</td>\n",
       "      <td>100.543929</td>\n",
       "    </tr>\n",
       "    <tr>\n",
       "      <th>25523</th>\n",
       "      <td>79.554106</td>\n",
       "      <td>82.789965</td>\n",
       "      <td>83.054894</td>\n",
       "      <td>79.554106</td>\n",
       "      <td>103.250633</td>\n",
       "      <td>106.585326</td>\n",
       "      <td>86.300206</td>\n",
       "      <td>95.280687</td>\n",
       "      <td>94.073917</td>\n",
       "      <td>95.280687</td>\n",
       "      <td>...</td>\n",
       "      <td>97.737443</td>\n",
       "      <td>96.489874</td>\n",
       "      <td>95.328918</td>\n",
       "      <td>97.094653</td>\n",
       "      <td>97.715218</td>\n",
       "      <td>82.095644</td>\n",
       "      <td>100.438657</td>\n",
       "      <td>100.438657</td>\n",
       "      <td>100.543929</td>\n",
       "      <td>0.000000</td>\n",
       "    </tr>\n",
       "  </tbody>\n",
       "</table>\n",
       "<p>145 rows × 145 columns</p>\n",
       "</div>"
      ],
      "text/plain": [
       "index      25379      25380      25381      25382       25383       25384  \\\n",
       "index                                                                       \n",
       "25379   0.000000   3.273916   5.824913   0.000000   23.706379   27.101229   \n",
       "25380   3.273916   0.000000   4.249142   3.273916   20.499689   23.837091   \n",
       "25381   5.824913   4.249142   0.000000   5.824913   21.068651   23.774813   \n",
       "25382   0.000000   3.273916   5.824913   0.000000   23.706379   27.101229   \n",
       "25383  23.706379  20.499689  21.068651  23.706379    0.000000    4.491406   \n",
       "...          ...        ...        ...        ...         ...         ...   \n",
       "25519  61.824376  62.552024  58.728021  61.824376   74.097183   73.846675   \n",
       "25520  89.911499  90.462983  86.520695  89.911499  100.335775   99.499537   \n",
       "25521  89.911499  90.462983  86.520695  89.911499  100.335775   99.499537   \n",
       "25522  84.237856  84.608587  80.584987  84.237856   93.660586   92.671110   \n",
       "25523  79.554106  82.789965  83.054894  79.554106  103.250633  106.585326   \n",
       "\n",
       "index       25385      25386       25387      25388  ...      25514  \\\n",
       "index                                                ...              \n",
       "25379  123.594064  87.305279   88.222146  87.305279  ...  87.373298   \n",
       "25380  125.596918  88.022507   89.020772  88.022507  ...  87.976854   \n",
       "25381  122.850468  84.170405   85.216002  84.170405  ...  84.062507   \n",
       "25382  123.594064  87.305279   88.222146  87.305279  ...  87.373298   \n",
       "25383  142.080843  98.804846  100.196645  98.804846  ...  98.174809   \n",
       "...           ...        ...         ...        ...  ...        ...   \n",
       "25519   73.028210  25.482792   26.491084  25.482792  ...  25.652606   \n",
       "25520   61.787214   5.236332    7.072138   5.236332  ...   2.894371   \n",
       "25521   61.787214   5.236332    7.072138   5.236332  ...   2.894371   \n",
       "25522   68.257198   9.785251   12.232921   9.785251  ...   6.989707   \n",
       "25523   86.300206  95.280687   94.073917  95.280687  ...  97.737443   \n",
       "\n",
       "index      25515      25516       25517       25518      25519       25520  \\\n",
       "index                                                                        \n",
       "25379  88.210977  85.527512   89.554545   90.899259  61.824376   89.911499   \n",
       "25380  88.897742  86.191796   90.252032   91.607138  62.552024   90.462983   \n",
       "25381  85.027910  82.311070   86.387444   87.747680  58.728021   86.520695   \n",
       "25382  88.210977  85.527512   89.554545   90.899259  61.824376   89.911499   \n",
       "25383  99.505785  96.742363  100.887505  102.269226  74.097183  100.335775   \n",
       "...          ...        ...         ...         ...        ...         ...   \n",
       "25519  26.389348  23.721309   27.730398   29.075272   0.000000   28.305249   \n",
       "25520   4.099537   5.315348    4.100186    4.542682  28.305249    0.000000   \n",
       "25521   4.099537   5.315348    4.100186    4.542682  28.305249    0.000000   \n",
       "25522   9.412443   7.863058   10.378149   11.429653  23.639867    7.543904   \n",
       "25523  96.489874  95.328918   97.094653   97.715218  82.095644  100.438657   \n",
       "\n",
       "index       25521       25522       25523  \n",
       "index                                      \n",
       "25379   89.911499   84.237856   79.554106  \n",
       "25380   90.462983   84.608587   82.789965  \n",
       "25381   86.520695   80.584987   83.054894  \n",
       "25382   89.911499   84.237856   79.554106  \n",
       "25383  100.335775   93.660586  103.250633  \n",
       "...           ...         ...         ...  \n",
       "25519   28.305249   23.639867   82.095644  \n",
       "25520    0.000000    7.543904  100.438657  \n",
       "25521    0.000000    7.543904  100.438657  \n",
       "25522    7.543904    0.000000  100.543929  \n",
       "25523  100.438657  100.543929    0.000000  \n",
       "\n",
       "[145 rows x 145 columns]"
      ]
     },
     "execution_count": 7,
     "metadata": {},
     "output_type": "execute_result"
    },
    {
     "data": {
      "application/javascript": [
       "\n",
       "            setTimeout(function() {\n",
       "                var nbb_cell_id = 7;\n",
       "                var nbb_unformatted_code = \"# answer goes here\\n\\ndist_mat = geo_sim_matrix(sbux)\\ndist_mat\";\n",
       "                var nbb_formatted_code = \"# answer goes here\\n\\ndist_mat = geo_sim_matrix(sbux)\\ndist_mat\";\n",
       "                var nbb_cells = Jupyter.notebook.get_cells();\n",
       "                for (var i = 0; i < nbb_cells.length; ++i) {\n",
       "                    if (nbb_cells[i].input_prompt_number == nbb_cell_id) {\n",
       "                        if (nbb_cells[i].get_text() == nbb_unformatted_code) {\n",
       "                             nbb_cells[i].set_text(nbb_formatted_code);\n",
       "                        }\n",
       "                        break;\n",
       "                    }\n",
       "                }\n",
       "            }, 500);\n",
       "            "
      ],
      "text/plain": [
       "<IPython.core.display.Javascript object>"
      ]
     },
     "metadata": {},
     "output_type": "display_data"
    }
   ],
   "source": [
    "# answer goes here\n",
    "\n",
    "dist_mat = geo_sim_matrix(sbux)\n",
    "dist_mat\n"
   ]
  },
  {
   "cell_type": "markdown",
   "metadata": {
    "colab_type": "text",
    "id": "86lfEP_91D_0"
   },
   "source": [
    "Build the hierarchical clustering model using n_clusters = 5 and average linkage. Bear in mind that we are passing a precomputed distance matrix, which will require an additional parameter to be manually specified. \n",
    "\n",
    "Additionally, save the predicted cluster assignments as a new column in your dataframe."
   ]
  },
  {
   "cell_type": "code",
   "execution_count": 24,
   "metadata": {
    "colab": {},
    "colab_type": "code",
    "id": "o3PUI4l61D_0",
    "scrolled": true
   },
   "outputs": [
    {
     "data": {
      "application/javascript": [
       "\n",
       "            setTimeout(function() {\n",
       "                var nbb_cell_id = 24;\n",
       "                var nbb_unformatted_code = \"# answer goes here\\n\\nclst = AgglomerativeClustering(n_clusters=5, affinity=\\\"precomputed\\\", linkage=\\\"complete\\\")\\nclst.fit(dist_mat)\\nsbux[\\\"label\\\"] = clst.labels_\";\n",
       "                var nbb_formatted_code = \"# answer goes here\\n\\nclst = AgglomerativeClustering(n_clusters=5, affinity=\\\"precomputed\\\", linkage=\\\"complete\\\")\\nclst.fit(dist_mat)\\nsbux[\\\"label\\\"] = clst.labels_\";\n",
       "                var nbb_cells = Jupyter.notebook.get_cells();\n",
       "                for (var i = 0; i < nbb_cells.length; ++i) {\n",
       "                    if (nbb_cells[i].input_prompt_number == nbb_cell_id) {\n",
       "                        if (nbb_cells[i].get_text() == nbb_unformatted_code) {\n",
       "                             nbb_cells[i].set_text(nbb_formatted_code);\n",
       "                        }\n",
       "                        break;\n",
       "                    }\n",
       "                }\n",
       "            }, 500);\n",
       "            "
      ],
      "text/plain": [
       "<IPython.core.display.Javascript object>"
      ]
     },
     "metadata": {},
     "output_type": "display_data"
    }
   ],
   "source": [
    "# answer goes here\n",
    "\n",
    "clst = AgglomerativeClustering(n_clusters=5, affinity=\"precomputed\", linkage=\"complete\")\n",
    "clst.fit(dist_mat)\n",
    "sbux[\"label\"] = clst.labels_\n"
   ]
  },
  {
   "cell_type": "code",
   "execution_count": 25,
   "metadata": {},
   "outputs": [
    {
     "data": {
      "text/plain": [
       "1    91\n",
       "2    23\n",
       "4    20\n",
       "0     7\n",
       "3     4\n",
       "Name: label, dtype: int64"
      ]
     },
     "execution_count": 25,
     "metadata": {},
     "output_type": "execute_result"
    },
    {
     "data": {
      "application/javascript": [
       "\n",
       "            setTimeout(function() {\n",
       "                var nbb_cell_id = 25;\n",
       "                var nbb_unformatted_code = \"sbux[\\\"label\\\"].value_counts()\";\n",
       "                var nbb_formatted_code = \"sbux[\\\"label\\\"].value_counts()\";\n",
       "                var nbb_cells = Jupyter.notebook.get_cells();\n",
       "                for (var i = 0; i < nbb_cells.length; ++i) {\n",
       "                    if (nbb_cells[i].input_prompt_number == nbb_cell_id) {\n",
       "                        if (nbb_cells[i].get_text() == nbb_unformatted_code) {\n",
       "                             nbb_cells[i].set_text(nbb_formatted_code);\n",
       "                        }\n",
       "                        break;\n",
       "                    }\n",
       "                }\n",
       "            }, 500);\n",
       "            "
      ],
      "text/plain": [
       "<IPython.core.display.Javascript object>"
      ]
     },
     "metadata": {},
     "output_type": "display_data"
    }
   ],
   "source": [
    "sbux[\"label\"].value_counts()"
   ]
  },
  {
   "cell_type": "markdown",
   "metadata": {
    "colab_type": "text",
    "id": "MUjcLMMk1D_2"
   },
   "source": [
    "Plot the dendrogram using the provided starter code/function \"plot_dendrogram\". The dendrogram will be difficult to read because there are so many leaf nodes; try experimenting with smaller geographical areas for easier to read dendrograms."
   ]
  },
  {
   "cell_type": "code",
   "execution_count": 28,
   "metadata": {
    "colab": {},
    "colab_type": "code",
    "id": "6OTdN8oF1D_2"
   },
   "outputs": [
    {
     "data": {
      "image/png": "[encoded data removed]",
      "text/plain": [
       "<Figure size 432x288 with 1 Axes>"
      ]
     },
     "metadata": {
      "needs_background": "light"
     },
     "output_type": "display_data"
    },
    {
     "data": {
      "application/javascript": [
       "\n",
       "            setTimeout(function() {\n",
       "                var nbb_cell_id = 28;\n",
       "                var nbb_unformatted_code = \"# answer goes here\\n\\nplot_dendrogram(clst)\";\n",
       "                var nbb_formatted_code = \"# answer goes here\\n\\nplot_dendrogram(clst)\";\n",
       "                var nbb_cells = Jupyter.notebook.get_cells();\n",
       "                for (var i = 0; i < nbb_cells.length; ++i) {\n",
       "                    if (nbb_cells[i].input_prompt_number == nbb_cell_id) {\n",
       "                        if (nbb_cells[i].get_text() == nbb_unformatted_code) {\n",
       "                             nbb_cells[i].set_text(nbb_formatted_code);\n",
       "                        }\n",
       "                        break;\n",
       "                    }\n",
       "                }\n",
       "            }, 500);\n",
       "            "
      ],
      "text/plain": [
       "<IPython.core.display.Javascript object>"
      ]
     },
     "metadata": {},
     "output_type": "display_data"
    }
   ],
   "source": [
    "# answer goes here\n",
    "\n",
    "plot_dendrogram(clst)\n",
    "\n"
   ]
  },
  {
   "cell_type": "markdown",
   "metadata": {
    "colab_type": "text",
    "id": "ao3Y5FVp1D_4"
   },
   "source": [
    "Finally, plot the resulting clusters on a map using the \"scatter_geo\" function from plotly.express. The map defaults to the entire world; the \"scope\" parameter is useful for narrowing down the region plotted in the map. The documentation can be found here:\n",
    "\n",
    "https://www.plotly.express/plotly_express/#plotly_express.scatter_geo\n",
    "\n",
    "Tip: If the markers on the map are too large, their size can be changed with the following line of code:\n",
    "\n",
    "*fig.update_traces(marker=dict(size=...)))*\n",
    "\n",
    "Do the clusters correspond to geographic areas you would expect? Experiment with other values for n_cluster and linkage and see how they affect the results."
   ]
  },
  {
   "cell_type": "code",
   "execution_count": 36,
   "metadata": {},
   "outputs": [
    {
     "data": {
      "application/javascript": [
       "\n",
       "            setTimeout(function() {\n",
       "                var nbb_cell_id = 36;\n",
       "                var nbb_unformatted_code = \"sbux['string_label'] = 'cluster '+sbux[\\\"label\\\"].astype(str)\";\n",
       "                var nbb_formatted_code = \"sbux[\\\"string_label\\\"] = \\\"cluster \\\" + sbux[\\\"label\\\"].astype(str)\";\n",
       "                var nbb_cells = Jupyter.notebook.get_cells();\n",
       "                for (var i = 0; i < nbb_cells.length; ++i) {\n",
       "                    if (nbb_cells[i].input_prompt_number == nbb_cell_id) {\n",
       "                        if (nbb_cells[i].get_text() == nbb_unformatted_code) {\n",
       "                             nbb_cells[i].set_text(nbb_formatted_code);\n",
       "                        }\n",
       "                        break;\n",
       "                    }\n",
       "                }\n",
       "            }, 500);\n",
       "            "
      ],
      "text/plain": [
       "<IPython.core.display.Javascript object>"
      ]
     },
     "metadata": {},
     "output_type": "display_data"
    }
   ],
   "source": [
    "sbux[\"string_label\"] = \"cluster \" + sbux[\"label\"].astype(str)"
   ]
  },
  {
   "cell_type": "code",
   "execution_count": 37,
   "metadata": {
    "colab": {},
    "colab_type": "code",
    "id": "sUhMxZdL1D_4",
    "scrolled": false
   },
   "outputs": [
    {
     "data": {
      "application/vnd.plotly.v1+json": {
       "config": {
        "plotlyServerURL": "https://plot.ly"
       },
       "data": [
        {
         "geo": "geo",
         "hovertemplate": "string_label=cluster 2<br>Latitude=%{lat}<br>Longitude=%{lon}<extra></extra>",
         "lat": [
          44.27,
          44.29,
          44.24,
          44.27,
          44.47,
          44.46,
          44.45,
          43.78,
          43.79,
          43.78,
          44.26,
          44.46,
          44.48,
          44.52,
          44.07,
          44.18,
          44.04,
          44.01,
          44,
          43.76,
          43.71,
          43.72,
          44.82
         ],
         "legendgroup": "cluster 2",
         "lon": [
          -88.47,
          -88.41,
          -88.36,
          -88.47,
          -88.08,
          -87.99,
          -88.09,
          -88.48,
          -88.48,
          -88.41,
          -88.46,
          -87.98,
          -87.97,
          -88.06,
          -87.7,
          -88.48,
          -88.54,
          -88.58,
          -88.58,
          -87.72,
          -87.76,
          -87.75,
          -87.4
         ],
         "marker": {
          "color": "#636efa"
         },
         "name": "cluster 2",
         "showlegend": true,
         "type": "scattergeo"
        },
        {
         "geo": "geo",
         "hovertemplate": "string_label=cluster 1<br>Latitude=%{lat}<br>Longitude=%{lon}<extra></extra>",
         "lat": [
          42.52,
          43.04,
          43.02,
          43.04,
          43.03,
          43.03,
          43.04,
          43.04,
          43.29,
          43.05,
          43.05,
          42.63,
          43.18,
          42.93,
          42.91,
          43.19,
          43.22,
          43.12,
          43.32,
          43.34,
          42.95,
          42.95,
          42.96,
          42.94,
          42.72,
          42.72,
          42.62,
          42.56,
          42.57,
          42.57,
          42.6,
          42.59,
          43.19,
          43.17,
          43.22,
          42.95,
          42.96,
          43.04,
          42.99,
          42.99,
          43.04,
          42.98,
          42.99,
          43.04,
          42.98,
          43.09,
          43.15,
          43.09,
          43.05,
          42.95,
          43.03,
          43.05,
          43,
          43.04,
          43.07,
          43.06,
          42.92,
          42.98,
          42.96,
          42.88,
          42.87,
          42.9,
          42.89,
          42.88,
          43.07,
          43.08,
          43.1,
          42.57,
          42.52,
          42.7,
          42.72,
          43.09,
          43.14,
          43.02,
          42.99,
          43.03,
          42.99,
          43.07,
          43.09,
          43.09,
          43.07,
          43.06,
          43.05,
          43.03,
          43.07,
          43.01,
          42.99,
          43.4,
          43.02,
          43.02,
          43.12
         ],
         "legendgroup": "cluster 1",
         "lon": [
          -88.98,
          -88.07,
          -88.11,
          -88.07,
          -88.11,
          -88.18,
          -88.1,
          -88.14,
          -87.99,
          -88.37,
          -88.38,
          -88.61,
          -87.91,
          -87.95,
          -88.04,
          -88.13,
          -88.11,
          -87.91,
          -87.93,
          -87.93,
          -88,
          -88.01,
          -88.01,
          -88.05,
          -89,
          -88.98,
          -87.82,
          -87.89,
          -87.86,
          -87.95,
          -88.41,
          -88.43,
          -88.13,
          -88.11,
          -87.92,
          -87.91,
          -87.92,
          -87.91,
          -87.91,
          -87.95,
          -87.92,
          -87.95,
          -87.88,
          -87.91,
          -87.91,
          -87.89,
          -88,
          -87.98,
          -87.89,
          -87.9,
          -87.91,
          -87.91,
          -88.04,
          -87.93,
          -87.88,
          -88.04,
          -88.11,
          -88.11,
          -88.11,
          -87.92,
          -87.94,
          -87.92,
          -87.91,
          -87.91,
          -88.47,
          -88.23,
          -88.16,
          -87.93,
          -87.91,
          -87.85,
          -87.85,
          -87.89,
          -88.24,
          -88.24,
          -88.22,
          -88.18,
          -88.26,
          -88.05,
          -88.07,
          -88.07,
          -88.05,
          -88.05,
          -88.01,
          -88.05,
          -88.05,
          -88.05,
          -88.05,
          -88.18,
          -87.97,
          -87.97,
          -87.91
         ],
         "marker": {
          "color": "#EF553B"
         },
         "name": "cluster 1",
         "showlegend": true,
         "type": "scattergeo"
        },
        {
         "geo": "geo",
         "hovertemplate": "string_label=cluster 3<br>Latitude=%{lat}<br>Longitude=%{lon}<extra></extra>",
         "lat": [
          44.78,
          44.8,
          44.79,
          44.96
         ],
         "legendgroup": "cluster 3",
         "lon": [
          -91.43,
          -91.47,
          -91.51,
          -92.72
         ],
         "marker": {
          "color": "#00cc96"
         },
         "name": "cluster 3",
         "showlegend": true,
         "type": "scattergeo"
        },
        {
         "geo": "geo",
         "hovertemplate": "string_label=cluster 4<br>Latitude=%{lat}<br>Longitude=%{lon}<extra></extra>",
         "lat": [
          43.02,
          43.02,
          43.58,
          43.07,
          43.12,
          43.06,
          43.06,
          43.05,
          43.07,
          43.08,
          43.07,
          43.03,
          43.13,
          43.08,
          43.1,
          43.09,
          43.05,
          43.17,
          43.17,
          43.62
         ],
         "legendgroup": "cluster 4",
         "lon": [
          -89.48,
          -89.43,
          -89.78,
          -89.38,
          -89.31,
          -89.52,
          -89.5,
          -89.47,
          -89.45,
          -89.45,
          -89.4,
          -89.52,
          -89.31,
          -89.39,
          -89.49,
          -89.53,
          -89.32,
          -89.27,
          -89.27,
          -89.79
         ],
         "marker": {
          "color": "#ab63fa"
         },
         "name": "cluster 4",
         "showlegend": true,
         "type": "scattergeo"
        },
        {
         "geo": "geo",
         "hovertemplate": "string_label=cluster 0<br>Latitude=%{lat}<br>Longitude=%{lon}<extra></extra>",
         "lat": [
          44.68,
          43.87,
          44.5,
          44.53,
          44.02,
          44.96,
          44.91
         ],
         "legendgroup": "cluster 0",
         "lon": [
          -90.16,
          -91.19,
          -89.51,
          -89.57,
          -90.51,
          -89.66,
          -89.65
         ],
         "marker": {
          "color": "#FFA15A"
         },
         "name": "cluster 0",
         "showlegend": true,
         "type": "scattergeo"
        }
       ],
       "layout": {
        "geo": {
         "center": {},
         "domain": {
          "x": [
           0,
           1
          ],
          "y": [
           0,
           1
          ]
         },
         "scope": "usa"
        },
        "legend": {
         "title": {
          "text": "string_label"
         },
         "tracegroupgap": 0
        },
        "margin": {
         "t": 60
        },
        "template": {
         "data": {
          "bar": [
           {
            "error_x": {
             "color": "#2a3f5f"
            },
            "error_y": {
             "color": "#2a3f5f"
            },
            "marker": {
             "line": {
              "color": "#E5ECF6",
              "width": 0.5
             }
            },
            "type": "bar"
           }
          ],
          "barpolar": [
           {
            "marker": {
             "line": {
              "color": "#E5ECF6",
              "width": 0.5
             }
            },
            "type": "barpolar"
           }
          ],
          "carpet": [
           {
            "aaxis": {
             "endlinecolor": "#2a3f5f",
             "gridcolor": "white",
             "linecolor": "white",
             "minorgridcolor": "white",
             "startlinecolor": "#2a3f5f"
            },
            "baxis": {
             "endlinecolor": "#2a3f5f",
             "gridcolor": "white",
             "linecolor": "white",
             "minorgridcolor": "white",
             "startlinecolor": "#2a3f5f"
            },
            "type": "carpet"
           }
          ],
          "choropleth": [
           {
            "colorbar": {
             "outlinewidth": 0,
             "ticks": ""
            },
            "type": "choropleth"
           }
          ],
          "contour": [
           {
            "colorbar": {
             "outlinewidth": 0,
             "ticks": ""
            },
            "colorscale": [
             [
              0,
              "#0d0887"
             ],
             [
              0.1111111111111111,
              "#46039f"
             ],
             [
              0.2222222222222222,
              "#7201a8"
             ],
             [
              0.3333333333333333,
              "#9c179e"
             ],
             [
              0.4444444444444444,
              "#bd3786"
             ],
             [
              0.5555555555555556,
              "#d8576b"
             ],
             [
              0.6666666666666666,
              "#ed7953"
             ],
             [
              0.7777777777777778,
              "#fb9f3a"
             ],
             [
              0.8888888888888888,
              "#fdca26"
             ],
             [
              1,
              "#f0f921"
             ]
            ],
            "type": "contour"
           }
          ],
          "contourcarpet": [
           {
            "colorbar": {
             "outlinewidth": 0,
             "ticks": ""
            },
            "type": "contourcarpet"
           }
          ],
          "heatmap": [
           {
            "colorbar": {
             "outlinewidth": 0,
             "ticks": ""
            },
            "colorscale": [
             [
              0,
              "#0d0887"
             ],
             [
              0.1111111111111111,
              "#46039f"
             ],
             [
              0.2222222222222222,
              "#7201a8"
             ],
             [
              0.3333333333333333,
              "#9c179e"
             ],
             [
              0.4444444444444444,
              "#bd3786"
             ],
             [
              0.5555555555555556,
              "#d8576b"
             ],
             [
              0.6666666666666666,
              "#ed7953"
             ],
             [
              0.7777777777777778,
              "#fb9f3a"
             ],
             [
              0.8888888888888888,
              "#fdca26"
             ],
             [
              1,
              "#f0f921"
             ]
            ],
            "type": "heatmap"
           }
          ],
          "heatmapgl": [
           {
            "colorbar": {
             "outlinewidth": 0,
             "ticks": ""
            },
            "colorscale": [
             [
              0,
              "#0d0887"
             ],
             [
              0.1111111111111111,
              "#46039f"
             ],
             [
              0.2222222222222222,
              "#7201a8"
             ],
             [
              0.3333333333333333,
              "#9c179e"
             ],
             [
              0.4444444444444444,
              "#bd3786"
             ],
             [
              0.5555555555555556,
              "#d8576b"
             ],
             [
              0.6666666666666666,
              "#ed7953"
             ],
             [
              0.7777777777777778,
              "#fb9f3a"
             ],
             [
              0.8888888888888888,
              "#fdca26"
             ],
             [
              1,
              "#f0f921"
             ]
            ],
            "type": "heatmapgl"
           }
          ],
          "histogram": [
           {
            "marker": {
             "colorbar": {
              "outlinewidth": 0,
              "ticks": ""
             }
            },
            "type": "histogram"
           }
          ],
          "histogram2d": [
           {
            "colorbar": {
             "outlinewidth": 0,
             "ticks": ""
            },
            "colorscale": [
             [
              0,
              "#0d0887"
             ],
             [
              0.1111111111111111,
              "#46039f"
             ],
             [
              0.2222222222222222,
              "#7201a8"
             ],
             [
              0.3333333333333333,
              "#9c179e"
             ],
             [
              0.4444444444444444,
              "#bd3786"
             ],
             [
              0.5555555555555556,
              "#d8576b"
             ],
             [
              0.6666666666666666,
              "#ed7953"
             ],
             [
              0.7777777777777778,
              "#fb9f3a"
             ],
             [
              0.8888888888888888,
              "#fdca26"
             ],
             [
              1,
              "#f0f921"
             ]
            ],
            "type": "histogram2d"
           }
          ],
          "histogram2dcontour": [
           {
            "colorbar": {
             "outlinewidth": 0,
             "ticks": ""
            },
            "colorscale": [
             [
              0,
              "#0d0887"
             ],
             [
              0.1111111111111111,
              "#46039f"
             ],
             [
              0.2222222222222222,
              "#7201a8"
             ],
             [
              0.3333333333333333,
              "#9c179e"
             ],
             [
              0.4444444444444444,
              "#bd3786"
             ],
             [
              0.5555555555555556,
              "#d8576b"
             ],
             [
              0.6666666666666666,
              "#ed7953"
             ],
             [
              0.7777777777777778,
              "#fb9f3a"
             ],
             [
              0.8888888888888888,
              "#fdca26"
             ],
             [
              1,
              "#f0f921"
             ]
            ],
            "type": "histogram2dcontour"
           }
          ],
          "mesh3d": [
           {
            "colorbar": {
             "outlinewidth": 0,
             "ticks": ""
            },
            "type": "mesh3d"
           }
          ],
          "parcoords": [
           {
            "line": {
             "colorbar": {
              "outlinewidth": 0,
              "ticks": ""
             }
            },
            "type": "parcoords"
           }
          ],
          "pie": [
           {
            "automargin": true,
            "type": "pie"
           }
          ],
          "scatter": [
           {
            "marker": {
             "colorbar": {
              "outlinewidth": 0,
              "ticks": ""
             }
            },
            "type": "scatter"
           }
          ],
          "scatter3d": [
           {
            "line": {
             "colorbar": {
              "outlinewidth": 0,
              "ticks": ""
             }
            },
            "marker": {
             "colorbar": {
              "outlinewidth": 0,
              "ticks": ""
             }
            },
            "type": "scatter3d"
           }
          ],
          "scattercarpet": [
           {
            "marker": {
             "colorbar": {
              "outlinewidth": 0,
              "ticks": ""
             }
            },
            "type": "scattercarpet"
           }
          ],
          "scattergeo": [
           {
            "marker": {
             "colorbar": {
              "outlinewidth": 0,
              "ticks": ""
             }
            },
            "type": "scattergeo"
           }
          ],
          "scattergl": [
           {
            "marker": {
             "colorbar": {
              "outlinewidth": 0,
              "ticks": ""
             }
            },
            "type": "scattergl"
           }
          ],
          "scattermapbox": [
           {
            "marker": {
             "colorbar": {
              "outlinewidth": 0,
              "ticks": ""
             }
            },
            "type": "scattermapbox"
           }
          ],
          "scatterpolar": [
           {
            "marker": {
             "colorbar": {
              "outlinewidth": 0,
              "ticks": ""
             }
            },
            "type": "scatterpolar"
           }
          ],
          "scatterpolargl": [
           {
            "marker": {
             "colorbar": {
              "outlinewidth": 0,
              "ticks": ""
             }
            },
            "type": "scatterpolargl"
           }
          ],
          "scatterternary": [
           {
            "marker": {
             "colorbar": {
              "outlinewidth": 0,
              "ticks": ""
             }
            },
            "type": "scatterternary"
           }
          ],
          "surface": [
           {
            "colorbar": {
             "outlinewidth": 0,
             "ticks": ""
            },
            "colorscale": [
             [
              0,
              "#0d0887"
             ],
             [
              0.1111111111111111,
              "#46039f"
             ],
             [
              0.2222222222222222,
              "#7201a8"
             ],
             [
              0.3333333333333333,
              "#9c179e"
             ],
             [
              0.4444444444444444,
              "#bd3786"
             ],
             [
              0.5555555555555556,
              "#d8576b"
             ],
             [
              0.6666666666666666,
              "#ed7953"
             ],
             [
              0.7777777777777778,
              "#fb9f3a"
             ],
             [
              0.8888888888888888,
              "#fdca26"
             ],
             [
              1,
              "#f0f921"
             ]
            ],
            "type": "surface"
           }
          ],
          "table": [
           {
            "cells": {
             "fill": {
              "color": "#EBF0F8"
             },
             "line": {
              "color": "white"
             }
            },
            "header": {
             "fill": {
              "color": "#C8D4E3"
             },
             "line": {
              "color": "white"
             }
            },
            "type": "table"
           }
          ]
         },
         "layout": {
          "annotationdefaults": {
           "arrowcolor": "#2a3f5f",
           "arrowhead": 0,
           "arrowwidth": 1
          },
          "coloraxis": {
           "colorbar": {
            "outlinewidth": 0,
            "ticks": ""
           }
          },
          "colorscale": {
           "diverging": [
            [
             0,
             "#8e0152"
            ],
            [
             0.1,
             "#c51b7d"
            ],
            [
             0.2,
             "#de77ae"
            ],
            [
             0.3,
             "#f1b6da"
            ],
            [
             0.4,
             "#fde0ef"
            ],
            [
             0.5,
             "#f7f7f7"
            ],
            [
             0.6,
             "#e6f5d0"
            ],
            [
             0.7,
             "#b8e186"
            ],
            [
             0.8,
             "#7fbc41"
            ],
            [
             0.9,
             "#4d9221"
            ],
            [
             1,
             "#276419"
            ]
           ],
           "sequential": [
            [
             0,
             "#0d0887"
            ],
            [
             0.1111111111111111,
             "#46039f"
            ],
            [
             0.2222222222222222,
             "#7201a8"
            ],
            [
             0.3333333333333333,
             "#9c179e"
            ],
            [
             0.4444444444444444,
             "#bd3786"
            ],
            [
             0.5555555555555556,
             "#d8576b"
            ],
            [
             0.6666666666666666,
             "#ed7953"
            ],
            [
             0.7777777777777778,
             "#fb9f3a"
            ],
            [
             0.8888888888888888,
             "#fdca26"
            ],
            [
             1,
             "#f0f921"
            ]
           ],
           "sequentialminus": [
            [
             0,
             "#0d0887"
            ],
            [
             0.1111111111111111,
             "#46039f"
            ],
            [
             0.2222222222222222,
             "#7201a8"
            ],
            [
             0.3333333333333333,
             "#9c179e"
            ],
            [
             0.4444444444444444,
             "#bd3786"
            ],
            [
             0.5555555555555556,
             "#d8576b"
            ],
            [
             0.6666666666666666,
             "#ed7953"
            ],
            [
             0.7777777777777778,
             "#fb9f3a"
            ],
            [
             0.8888888888888888,
             "#fdca26"
            ],
            [
             1,
             "#f0f921"
            ]
           ]
          },
          "colorway": [
           "#636efa",
           "#EF553B",
           "#00cc96",
           "#ab63fa",
           "#FFA15A",
           "#19d3f3",
           "#FF6692",
           "#B6E880",
           "#FF97FF",
           "#FECB52"
          ],
          "font": {
           "color": "#2a3f5f"
          },
          "geo": {
           "bgcolor": "white",
           "lakecolor": "white",
           "landcolor": "#E5ECF6",
           "showlakes": true,
           "showland": true,
           "subunitcolor": "white"
          },
          "hoverlabel": {
           "align": "left"
          },
          "hovermode": "closest",
          "mapbox": {
           "style": "light"
          },
          "paper_bgcolor": "white",
          "plot_bgcolor": "#E5ECF6",
          "polar": {
           "angularaxis": {
            "gridcolor": "white",
            "linecolor": "white",
            "ticks": ""
           },
           "bgcolor": "#E5ECF6",
           "radialaxis": {
            "gridcolor": "white",
            "linecolor": "white",
            "ticks": ""
           }
          },
          "scene": {
           "xaxis": {
            "backgroundcolor": "#E5ECF6",
            "gridcolor": "white",
            "gridwidth": 2,
            "linecolor": "white",
            "showbackground": true,
            "ticks": "",
            "zerolinecolor": "white"
           },
           "yaxis": {
            "backgroundcolor": "#E5ECF6",
            "gridcolor": "white",
            "gridwidth": 2,
            "linecolor": "white",
            "showbackground": true,
            "ticks": "",
            "zerolinecolor": "white"
           },
           "zaxis": {
            "backgroundcolor": "#E5ECF6",
            "gridcolor": "white",
            "gridwidth": 2,
            "linecolor": "white",
            "showbackground": true,
            "ticks": "",
            "zerolinecolor": "white"
           }
          },
          "shapedefaults": {
           "line": {
            "color": "#2a3f5f"
           }
          },
          "ternary": {
           "aaxis": {
            "gridcolor": "white",
            "linecolor": "white",
            "ticks": ""
           },
           "baxis": {
            "gridcolor": "white",
            "linecolor": "white",
            "ticks": ""
           },
           "bgcolor": "#E5ECF6",
           "caxis": {
            "gridcolor": "white",
            "linecolor": "white",
            "ticks": ""
           }
          },
          "title": {
           "x": 0.05
          },
          "xaxis": {
           "automargin": true,
           "gridcolor": "white",
           "linecolor": "white",
           "ticks": "",
           "title": {
            "standoff": 15
           },
           "zerolinecolor": "white",
           "zerolinewidth": 2
          },
          "yaxis": {
           "automargin": true,
           "gridcolor": "white",
           "linecolor": "white",
           "ticks": "",
           "title": {
            "standoff": 15
           },
           "zerolinecolor": "white",
           "zerolinewidth": 2
          }
         }
        }
       }
      },
      "text/html": [
       "<div>\n",
       "        \n",
       "        \n",
       "            <div id=\"8953ce26-5720-4ba0-b908-73300d20ade3\" class=\"plotly-graph-div\" style=\"height:525px; width:100%;\"></div>\n",
       "            <script type=\"text/javascript\">\n",
       "                require([\"plotly\"], function(Plotly) {\n",
       "                    window.PLOTLYENV=window.PLOTLYENV || {};\n",
       "                    \n",
       "                if (document.getElementById(\"8953ce26-5720-4ba0-b908-73300d20ade3\")) {\n",
       "                    Plotly.newPlot(\n",
       "                        '8953ce26-5720-4ba0-b908-73300d20ade3',\n",
       "                        [{\"geo\": \"geo\", \"hovertemplate\": \"string_label=cluster 2<br>Latitude=%{lat}<br>Longitude=%{lon}<extra></extra>\", \"lat\": [44.27, 44.29, 44.24, 44.27, 44.47, 44.46, 44.45, 43.78, 43.79, 43.78, 44.26, 44.46, 44.48, 44.52, 44.07, 44.18, 44.04, 44.01, 44.0, 43.76, 43.71, 43.72, 44.82], \"legendgroup\": \"cluster 2\", \"lon\": [-88.47, -88.41, -88.36, -88.47, -88.08, -87.99, -88.09, -88.48, -88.48, -88.41, -88.46, -87.98, -87.97, -88.06, -87.7, -88.48, -88.54, -88.58, -88.58, -87.72, -87.76, -87.75, -87.4], \"marker\": {\"color\": \"#636efa\"}, \"name\": \"cluster 2\", \"showlegend\": true, \"type\": \"scattergeo\"}, {\"geo\": \"geo\", \"hovertemplate\": \"string_label=cluster 1<br>Latitude=%{lat}<br>Longitude=%{lon}<extra></extra>\", \"lat\": [42.52, 43.04, 43.02, 43.04, 43.03, 43.03, 43.04, 43.04, 43.29, 43.05, 43.05, 42.63, 43.18, 42.93, 42.91, 43.19, 43.22, 43.12, 43.32, 43.34, 42.95, 42.95, 42.96, 42.94, 42.72, 42.72, 42.62, 42.56, 42.57, 42.57, 42.6, 42.59, 43.19, 43.17, 43.22, 42.95, 42.96, 43.04, 42.99, 42.99, 43.04, 42.98, 42.99, 43.04, 42.98, 43.09, 43.15, 43.09, 43.05, 42.95, 43.03, 43.05, 43.0, 43.04, 43.07, 43.06, 42.92, 42.98, 42.96, 42.88, 42.87, 42.9, 42.89, 42.88, 43.07, 43.08, 43.1, 42.57, 42.52, 42.7, 42.72, 43.09, 43.14, 43.02, 42.99, 43.03, 42.99, 43.07, 43.09, 43.09, 43.07, 43.06, 43.05, 43.03, 43.07, 43.01, 42.99, 43.4, 43.02, 43.02, 43.12], \"legendgroup\": \"cluster 1\", \"lon\": [-88.98, -88.07, -88.11, -88.07, -88.11, -88.18, -88.1, -88.14, -87.99, -88.37, -88.38, -88.61, -87.91, -87.95, -88.04, -88.13, -88.11, -87.91, -87.93, -87.93, -88.0, -88.01, -88.01, -88.05, -89.0, -88.98, -87.82, -87.89, -87.86, -87.95, -88.41, -88.43, -88.13, -88.11, -87.92, -87.91, -87.92, -87.91, -87.91, -87.95, -87.92, -87.95, -87.88, -87.91, -87.91, -87.89, -88.0, -87.98, -87.89, -87.9, -87.91, -87.91, -88.04, -87.93, -87.88, -88.04, -88.11, -88.11, -88.11, -87.92, -87.94, -87.92, -87.91, -87.91, -88.47, -88.23, -88.16, -87.93, -87.91, -87.85, -87.85, -87.89, -88.24, -88.24, -88.22, -88.18, -88.26, -88.05, -88.07, -88.07, -88.05, -88.05, -88.01, -88.05, -88.05, -88.05, -88.05, -88.18, -87.97, -87.97, -87.91], \"marker\": {\"color\": \"#EF553B\"}, \"name\": \"cluster 1\", \"showlegend\": true, \"type\": \"scattergeo\"}, {\"geo\": \"geo\", \"hovertemplate\": \"string_label=cluster 3<br>Latitude=%{lat}<br>Longitude=%{lon}<extra></extra>\", \"lat\": [44.78, 44.8, 44.79, 44.96], \"legendgroup\": \"cluster 3\", \"lon\": [-91.43, -91.47, -91.51, -92.72], \"marker\": {\"color\": \"#00cc96\"}, \"name\": \"cluster 3\", \"showlegend\": true, \"type\": \"scattergeo\"}, {\"geo\": \"geo\", \"hovertemplate\": \"string_label=cluster 4<br>Latitude=%{lat}<br>Longitude=%{lon}<extra></extra>\", \"lat\": [43.02, 43.02, 43.58, 43.07, 43.12, 43.06, 43.06, 43.05, 43.07, 43.08, 43.07, 43.03, 43.13, 43.08, 43.1, 43.09, 43.05, 43.17, 43.17, 43.62], \"legendgroup\": \"cluster 4\", \"lon\": [-89.48, -89.43, -89.78, -89.38, -89.31, -89.52, -89.5, -89.47, -89.45, -89.45, -89.4, -89.52, -89.31, -89.39, -89.49, -89.53, -89.32, -89.27, -89.27, -89.79], \"marker\": {\"color\": \"#ab63fa\"}, \"name\": \"cluster 4\", \"showlegend\": true, \"type\": \"scattergeo\"}, {\"geo\": \"geo\", \"hovertemplate\": \"string_label=cluster 0<br>Latitude=%{lat}<br>Longitude=%{lon}<extra></extra>\", \"lat\": [44.68, 43.87, 44.5, 44.53, 44.02, 44.96, 44.91], \"legendgroup\": \"cluster 0\", \"lon\": [-90.16, -91.19, -89.51, -89.57, -90.51, -89.66, -89.65], \"marker\": {\"color\": \"#FFA15A\"}, \"name\": \"cluster 0\", \"showlegend\": true, \"type\": \"scattergeo\"}],\n",
       "                        {\"geo\": {\"center\": {}, \"domain\": {\"x\": [0.0, 1.0], \"y\": [0.0, 1.0]}, \"scope\": \"usa\"}, \"legend\": {\"title\": {\"text\": \"string_label\"}, \"tracegroupgap\": 0}, \"margin\": {\"t\": 60}, \"template\": {\"data\": {\"bar\": [{\"error_x\": {\"color\": \"#2a3f5f\"}, \"error_y\": {\"color\": \"#2a3f5f\"}, \"marker\": {\"line\": {\"color\": \"#E5ECF6\", \"width\": 0.5}}, \"type\": \"bar\"}], \"barpolar\": [{\"marker\": {\"line\": {\"color\": \"#E5ECF6\", \"width\": 0.5}}, \"type\": \"barpolar\"}], \"carpet\": [{\"aaxis\": {\"endlinecolor\": \"#2a3f5f\", \"gridcolor\": \"white\", \"linecolor\": \"white\", \"minorgridcolor\": \"white\", \"startlinecolor\": \"#2a3f5f\"}, \"baxis\": {\"endlinecolor\": \"#2a3f5f\", \"gridcolor\": \"white\", \"linecolor\": \"white\", \"minorgridcolor\": \"white\", \"startlinecolor\": \"#2a3f5f\"}, \"type\": \"carpet\"}], \"choropleth\": [{\"colorbar\": {\"outlinewidth\": 0, \"ticks\": \"\"}, \"type\": \"choropleth\"}], \"contour\": [{\"colorbar\": {\"outlinewidth\": 0, \"ticks\": \"\"}, \"colorscale\": [[0.0, \"#0d0887\"], [0.1111111111111111, \"#46039f\"], [0.2222222222222222, \"#7201a8\"], [0.3333333333333333, \"#9c179e\"], [0.4444444444444444, \"#bd3786\"], [0.5555555555555556, \"#d8576b\"], [0.6666666666666666, \"#ed7953\"], [0.7777777777777778, \"#fb9f3a\"], [0.8888888888888888, \"#fdca26\"], [1.0, \"#f0f921\"]], \"type\": \"contour\"}], \"contourcarpet\": [{\"colorbar\": {\"outlinewidth\": 0, \"ticks\": \"\"}, \"type\": \"contourcarpet\"}], \"heatmap\": [{\"colorbar\": {\"outlinewidth\": 0, \"ticks\": \"\"}, \"colorscale\": [[0.0, \"#0d0887\"], [0.1111111111111111, \"#46039f\"], [0.2222222222222222, \"#7201a8\"], [0.3333333333333333, \"#9c179e\"], [0.4444444444444444, \"#bd3786\"], [0.5555555555555556, \"#d8576b\"], [0.6666666666666666, \"#ed7953\"], [0.7777777777777778, \"#fb9f3a\"], [0.8888888888888888, \"#fdca26\"], [1.0, \"#f0f921\"]], \"type\": \"heatmap\"}], \"heatmapgl\": [{\"colorbar\": {\"outlinewidth\": 0, \"ticks\": \"\"}, \"colorscale\": [[0.0, \"#0d0887\"], [0.1111111111111111, \"#46039f\"], [0.2222222222222222, \"#7201a8\"], [0.3333333333333333, \"#9c179e\"], [0.4444444444444444, \"#bd3786\"], [0.5555555555555556, \"#d8576b\"], [0.6666666666666666, \"#ed7953\"], [0.7777777777777778, \"#fb9f3a\"], [0.8888888888888888, \"#fdca26\"], [1.0, \"#f0f921\"]], \"type\": \"heatmapgl\"}], \"histogram\": [{\"marker\": {\"colorbar\": {\"outlinewidth\": 0, \"ticks\": \"\"}}, \"type\": \"histogram\"}], \"histogram2d\": [{\"colorbar\": {\"outlinewidth\": 0, \"ticks\": \"\"}, \"colorscale\": [[0.0, \"#0d0887\"], [0.1111111111111111, \"#46039f\"], [0.2222222222222222, \"#7201a8\"], [0.3333333333333333, \"#9c179e\"], [0.4444444444444444, \"#bd3786\"], [0.5555555555555556, \"#d8576b\"], [0.6666666666666666, \"#ed7953\"], [0.7777777777777778, \"#fb9f3a\"], [0.8888888888888888, \"#fdca26\"], [1.0, \"#f0f921\"]], \"type\": \"histogram2d\"}], \"histogram2dcontour\": [{\"colorbar\": {\"outlinewidth\": 0, \"ticks\": \"\"}, \"colorscale\": [[0.0, \"#0d0887\"], [0.1111111111111111, \"#46039f\"], [0.2222222222222222, \"#7201a8\"], [0.3333333333333333, \"#9c179e\"], [0.4444444444444444, \"#bd3786\"], [0.5555555555555556, \"#d8576b\"], [0.6666666666666666, \"#ed7953\"], [0.7777777777777778, \"#fb9f3a\"], [0.8888888888888888, \"#fdca26\"], [1.0, \"#f0f921\"]], \"type\": \"histogram2dcontour\"}], \"mesh3d\": [{\"colorbar\": {\"outlinewidth\": 0, \"ticks\": \"\"}, \"type\": \"mesh3d\"}], \"parcoords\": [{\"line\": {\"colorbar\": {\"outlinewidth\": 0, \"ticks\": \"\"}}, \"type\": \"parcoords\"}], \"pie\": [{\"automargin\": true, \"type\": \"pie\"}], \"scatter\": [{\"marker\": {\"colorbar\": {\"outlinewidth\": 0, \"ticks\": \"\"}}, \"type\": \"scatter\"}], \"scatter3d\": [{\"line\": {\"colorbar\": {\"outlinewidth\": 0, \"ticks\": \"\"}}, \"marker\": {\"colorbar\": {\"outlinewidth\": 0, \"ticks\": \"\"}}, \"type\": \"scatter3d\"}], \"scattercarpet\": [{\"marker\": {\"colorbar\": {\"outlinewidth\": 0, \"ticks\": \"\"}}, \"type\": \"scattercarpet\"}], \"scattergeo\": [{\"marker\": {\"colorbar\": {\"outlinewidth\": 0, \"ticks\": \"\"}}, \"type\": \"scattergeo\"}], \"scattergl\": [{\"marker\": {\"colorbar\": {\"outlinewidth\": 0, \"ticks\": \"\"}}, \"type\": \"scattergl\"}], \"scattermapbox\": [{\"marker\": {\"colorbar\": {\"outlinewidth\": 0, \"ticks\": \"\"}}, \"type\": \"scattermapbox\"}], \"scatterpolar\": [{\"marker\": {\"colorbar\": {\"outlinewidth\": 0, \"ticks\": \"\"}}, \"type\": \"scatterpolar\"}], \"scatterpolargl\": [{\"marker\": {\"colorbar\": {\"outlinewidth\": 0, \"ticks\": \"\"}}, \"type\": \"scatterpolargl\"}], \"scatterternary\": [{\"marker\": {\"colorbar\": {\"outlinewidth\": 0, \"ticks\": \"\"}}, \"type\": \"scatterternary\"}], \"surface\": [{\"colorbar\": {\"outlinewidth\": 0, \"ticks\": \"\"}, \"colorscale\": [[0.0, \"#0d0887\"], [0.1111111111111111, \"#46039f\"], [0.2222222222222222, \"#7201a8\"], [0.3333333333333333, \"#9c179e\"], [0.4444444444444444, \"#bd3786\"], [0.5555555555555556, \"#d8576b\"], [0.6666666666666666, \"#ed7953\"], [0.7777777777777778, \"#fb9f3a\"], [0.8888888888888888, \"#fdca26\"], [1.0, \"#f0f921\"]], \"type\": \"surface\"}], \"table\": [{\"cells\": {\"fill\": {\"color\": \"#EBF0F8\"}, \"line\": {\"color\": \"white\"}}, \"header\": {\"fill\": {\"color\": \"#C8D4E3\"}, \"line\": {\"color\": \"white\"}}, \"type\": \"table\"}]}, \"layout\": {\"annotationdefaults\": {\"arrowcolor\": \"#2a3f5f\", \"arrowhead\": 0, \"arrowwidth\": 1}, \"coloraxis\": {\"colorbar\": {\"outlinewidth\": 0, \"ticks\": \"\"}}, \"colorscale\": {\"diverging\": [[0, \"#8e0152\"], [0.1, \"#c51b7d\"], [0.2, \"#de77ae\"], [0.3, \"#f1b6da\"], [0.4, \"#fde0ef\"], [0.5, \"#f7f7f7\"], [0.6, \"#e6f5d0\"], [0.7, \"#b8e186\"], [0.8, \"#7fbc41\"], [0.9, \"#4d9221\"], [1, \"#276419\"]], \"sequential\": [[0.0, \"#0d0887\"], [0.1111111111111111, \"#46039f\"], [0.2222222222222222, \"#7201a8\"], [0.3333333333333333, \"#9c179e\"], [0.4444444444444444, \"#bd3786\"], [0.5555555555555556, \"#d8576b\"], [0.6666666666666666, \"#ed7953\"], [0.7777777777777778, \"#fb9f3a\"], [0.8888888888888888, \"#fdca26\"], [1.0, \"#f0f921\"]], \"sequentialminus\": [[0.0, \"#0d0887\"], [0.1111111111111111, \"#46039f\"], [0.2222222222222222, \"#7201a8\"], [0.3333333333333333, \"#9c179e\"], [0.4444444444444444, \"#bd3786\"], [0.5555555555555556, \"#d8576b\"], [0.6666666666666666, \"#ed7953\"], [0.7777777777777778, \"#fb9f3a\"], [0.8888888888888888, \"#fdca26\"], [1.0, \"#f0f921\"]]}, \"colorway\": [\"#636efa\", \"#EF553B\", \"#00cc96\", \"#ab63fa\", \"#FFA15A\", \"#19d3f3\", \"#FF6692\", \"#B6E880\", \"#FF97FF\", \"#FECB52\"], \"font\": {\"color\": \"#2a3f5f\"}, \"geo\": {\"bgcolor\": \"white\", \"lakecolor\": \"white\", \"landcolor\": \"#E5ECF6\", \"showlakes\": true, \"showland\": true, \"subunitcolor\": \"white\"}, \"hoverlabel\": {\"align\": \"left\"}, \"hovermode\": \"closest\", \"mapbox\": {\"style\": \"light\"}, \"paper_bgcolor\": \"white\", \"plot_bgcolor\": \"#E5ECF6\", \"polar\": {\"angularaxis\": {\"gridcolor\": \"white\", \"linecolor\": \"white\", \"ticks\": \"\"}, \"bgcolor\": \"#E5ECF6\", \"radialaxis\": {\"gridcolor\": \"white\", \"linecolor\": \"white\", \"ticks\": \"\"}}, \"scene\": {\"xaxis\": {\"backgroundcolor\": \"#E5ECF6\", \"gridcolor\": \"white\", \"gridwidth\": 2, \"linecolor\": \"white\", \"showbackground\": true, \"ticks\": \"\", \"zerolinecolor\": \"white\"}, \"yaxis\": {\"backgroundcolor\": \"#E5ECF6\", \"gridcolor\": \"white\", \"gridwidth\": 2, \"linecolor\": \"white\", \"showbackground\": true, \"ticks\": \"\", \"zerolinecolor\": \"white\"}, \"zaxis\": {\"backgroundcolor\": \"#E5ECF6\", \"gridcolor\": \"white\", \"gridwidth\": 2, \"linecolor\": \"white\", \"showbackground\": true, \"ticks\": \"\", \"zerolinecolor\": \"white\"}}, \"shapedefaults\": {\"line\": {\"color\": \"#2a3f5f\"}}, \"ternary\": {\"aaxis\": {\"gridcolor\": \"white\", \"linecolor\": \"white\", \"ticks\": \"\"}, \"baxis\": {\"gridcolor\": \"white\", \"linecolor\": \"white\", \"ticks\": \"\"}, \"bgcolor\": \"#E5ECF6\", \"caxis\": {\"gridcolor\": \"white\", \"linecolor\": \"white\", \"ticks\": \"\"}}, \"title\": {\"x\": 0.05}, \"xaxis\": {\"automargin\": true, \"gridcolor\": \"white\", \"linecolor\": \"white\", \"ticks\": \"\", \"title\": {\"standoff\": 15}, \"zerolinecolor\": \"white\", \"zerolinewidth\": 2}, \"yaxis\": {\"automargin\": true, \"gridcolor\": \"white\", \"linecolor\": \"white\", \"ticks\": \"\", \"title\": {\"standoff\": 15}, \"zerolinecolor\": \"white\", \"zerolinewidth\": 2}}}},\n",
       "                        {\"responsive\": true}\n",
       "                    ).then(function(){\n",
       "                            \n",
       "var gd = document.getElementById('8953ce26-5720-4ba0-b908-73300d20ade3');\n",
       "var x = new MutationObserver(function (mutations, observer) {{\n",
       "        var display = window.getComputedStyle(gd).display;\n",
       "        if (!display || display === 'none') {{\n",
       "            console.log([gd, 'removed!']);\n",
       "            Plotly.purge(gd);\n",
       "            observer.disconnect();\n",
       "        }}\n",
       "}});\n",
       "\n",
       "// Listen for the removal of the full notebook cells\n",
       "var notebookContainer = gd.closest('#notebook-container');\n",
       "if (notebookContainer) {{\n",
       "    x.observe(notebookContainer, {childList: true});\n",
       "}}\n",
       "\n",
       "// Listen for the clearing of the current output cell\n",
       "var outputEl = gd.closest('.output');\n",
       "if (outputEl) {{\n",
       "    x.observe(outputEl, {childList: true});\n",
       "}}\n",
       "\n",
       "                        })\n",
       "                };\n",
       "                });\n",
       "            </script>\n",
       "        </div>"
      ]
     },
     "metadata": {},
     "output_type": "display_data"
    },
    {
     "data": {
      "application/javascript": [
       "\n",
       "            setTimeout(function() {\n",
       "                var nbb_cell_id = 37;\n",
       "                var nbb_unformatted_code = \"# answer goes here\\n\\npx.scatter_geo(data_frame=sbux, lat='Latitude', lon='Longitude', color='string_label', scope='usa')\";\n",
       "                var nbb_formatted_code = \"# answer goes here\\n\\npx.scatter_geo(\\n    data_frame=sbux, lat=\\\"Latitude\\\", lon=\\\"Longitude\\\", color=\\\"string_label\\\", scope=\\\"usa\\\"\\n)\";\n",
       "                var nbb_cells = Jupyter.notebook.get_cells();\n",
       "                for (var i = 0; i < nbb_cells.length; ++i) {\n",
       "                    if (nbb_cells[i].input_prompt_number == nbb_cell_id) {\n",
       "                        if (nbb_cells[i].get_text() == nbb_unformatted_code) {\n",
       "                             nbb_cells[i].set_text(nbb_formatted_code);\n",
       "                        }\n",
       "                        break;\n",
       "                    }\n",
       "                }\n",
       "            }, 500);\n",
       "            "
      ],
      "text/plain": [
       "<IPython.core.display.Javascript object>"
      ]
     },
     "metadata": {},
     "output_type": "display_data"
    }
   ],
   "source": [
    "# answer goes here\n",
    "\n",
    "px.scatter_geo(data_frame=sbux, lat='Latitude', lon='Longitude', color='string_label', scope='usa')\n",
    "\n"
   ]
  },
  {
   "cell_type": "code",
   "execution_count": null,
   "metadata": {},
   "outputs": [],
   "source": []
  },
  {
   "cell_type": "code",
   "execution_count": null,
   "metadata": {},
   "outputs": [],
   "source": []
  }
 ],
 "metadata": {
  "colab": {
   "collapsed_sections": [],
   "name": "Day 48 Lecture 1 Assignment.ipynb",
   "provenance": []
  },
  "kernelspec": {
   "display_name": "Python 3",
   "language": "python",
   "name": "python3"
  },
  "language_info": {
   "codemirror_mode": {
    "name": "ipython",
    "version": 3
   },
   "file_extension": ".py",
   "mimetype": "text/x-python",
   "name": "python",
   "nbconvert_exporter": "python",
   "pygments_lexer": "ipython3",
   "version": "3.7.6"
  }
 },
 "nbformat": 4,
 "nbformat_minor": 1
}
