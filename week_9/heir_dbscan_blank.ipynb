{
 "cells": [
  {
   "cell_type": "code",
   "execution_count": 1,
   "metadata": {},
   "outputs": [
    {
     "data": {
      "application/javascript": [
       "\n",
       "            setTimeout(function() {\n",
       "                var nbb_cell_id = 1;\n",
       "                var nbb_unformatted_code = \"%reload_ext nb_black\";\n",
       "                var nbb_formatted_code = \"%reload_ext nb_black\";\n",
       "                var nbb_cells = Jupyter.notebook.get_cells();\n",
       "                for (var i = 0; i < nbb_cells.length; ++i) {\n",
       "                    if (nbb_cells[i].input_prompt_number == nbb_cell_id) {\n",
       "                        if (nbb_cells[i].get_text() == nbb_unformatted_code) {\n",
       "                             nbb_cells[i].set_text(nbb_formatted_code);\n",
       "                        }\n",
       "                        break;\n",
       "                    }\n",
       "                }\n",
       "            }, 500);\n",
       "            "
      ],
      "text/plain": [
       "<IPython.core.display.Javascript object>"
      ]
     },
     "metadata": {},
     "output_type": "display_data"
    }
   ],
   "source": [
    "%reload_ext nb_black"
   ]
  },
  {
   "cell_type": "markdown",
   "metadata": {
    "colab_type": "text",
    "id": "onblHDz_LiO4"
   },
   "source": [
    "# Zillow\n",
    "\n",
    "Data provided by Zillow * Kaggle (see [here](https://www.kaggle.com/pratyushakar/zillow-zestimate#properties_2017.csv))"
   ]
  },
  {
   "cell_type": "code",
   "execution_count": 2,
   "metadata": {
    "colab": {},
    "colab_type": "code",
    "id": "mM4--G_zipCj"
   },
   "outputs": [
    {
     "data": {
      "application/javascript": [
       "\n",
       "            setTimeout(function() {\n",
       "                var nbb_cell_id = 2;\n",
       "                var nbb_unformatted_code = \"data_url = \\\"https://docs.google.com/spreadsheets/d/198EG3tckqzD1uOKSYxAY62i5v_0LIZQMgzaIae6u1vo/export?format=csv\\\"\";\n",
       "                var nbb_formatted_code = \"data_url = \\\"https://docs.google.com/spreadsheets/d/198EG3tckqzD1uOKSYxAY62i5v_0LIZQMgzaIae6u1vo/export?format=csv\\\"\";\n",
       "                var nbb_cells = Jupyter.notebook.get_cells();\n",
       "                for (var i = 0; i < nbb_cells.length; ++i) {\n",
       "                    if (nbb_cells[i].input_prompt_number == nbb_cell_id) {\n",
       "                        if (nbb_cells[i].get_text() == nbb_unformatted_code) {\n",
       "                             nbb_cells[i].set_text(nbb_formatted_code);\n",
       "                        }\n",
       "                        break;\n",
       "                    }\n",
       "                }\n",
       "            }, 500);\n",
       "            "
      ],
      "text/plain": [
       "<IPython.core.display.Javascript object>"
      ]
     },
     "metadata": {},
     "output_type": "display_data"
    }
   ],
   "source": [
    "data_url = \"https://docs.google.com/spreadsheets/d/198EG3tckqzD1uOKSYxAY62i5v_0LIZQMgzaIae6u1vo/export?format=csv\""
   ]
  },
  {
   "cell_type": "markdown",
   "metadata": {
    "colab_type": "text",
    "id": "97m5nEXWir7a"
   },
   "source": [
    "Load all the usual suspects and some new ones including: `AgglomerativeClustering`, `DBSCAN`, `dendrogram`."
   ]
  },
  {
   "cell_type": "code",
   "execution_count": 3,
   "metadata": {
    "colab": {},
    "colab_type": "code",
    "id": "W8FU94m0Jx83"
   },
   "outputs": [
    {
     "data": {
      "application/javascript": [
       "\n",
       "            setTimeout(function() {\n",
       "                var nbb_cell_id = 3;\n",
       "                var nbb_unformatted_code = \"import numpy as np\\nimport pandas as pd\\n\\nfrom sklearn.preprocessing import StandardScaler\\nfrom sklearn.cluster import AgglomerativeClustering, DBSCAN\\n\\nfrom scipy.cluster.hierarchy import dendrogram\\nfrom scipy.spatial.distance import pdist, squareform\\n\\nimport matplotlib.pyplot as plt\\n\\n%matplotlib inline\";\n",
       "                var nbb_formatted_code = \"import numpy as np\\nimport pandas as pd\\n\\nfrom sklearn.preprocessing import StandardScaler\\nfrom sklearn.cluster import AgglomerativeClustering, DBSCAN\\n\\nfrom scipy.cluster.hierarchy import dendrogram\\nfrom scipy.spatial.distance import pdist, squareform\\n\\nimport matplotlib.pyplot as plt\\n\\n%matplotlib inline\";\n",
       "                var nbb_cells = Jupyter.notebook.get_cells();\n",
       "                for (var i = 0; i < nbb_cells.length; ++i) {\n",
       "                    if (nbb_cells[i].input_prompt_number == nbb_cell_id) {\n",
       "                        if (nbb_cells[i].get_text() == nbb_unformatted_code) {\n",
       "                             nbb_cells[i].set_text(nbb_formatted_code);\n",
       "                        }\n",
       "                        break;\n",
       "                    }\n",
       "                }\n",
       "            }, 500);\n",
       "            "
      ],
      "text/plain": [
       "<IPython.core.display.Javascript object>"
      ]
     },
     "metadata": {},
     "output_type": "display_data"
    }
   ],
   "source": [
    "import numpy as np\n",
    "import pandas as pd\n",
    "\n",
    "from sklearn.preprocessing import StandardScaler\n",
    "from sklearn.cluster import AgglomerativeClustering, DBSCAN\n",
    "\n",
    "from scipy.cluster.hierarchy import dendrogram\n",
    "from scipy.spatial.distance import pdist, squareform\n",
    "\n",
    "import matplotlib.pyplot as plt\n",
    "\n",
    "%matplotlib inline"
   ]
  },
  {
   "cell_type": "markdown",
   "metadata": {
    "colab_type": "text",
    "id": "58b310hxikJF"
   },
   "source": [
    "Function that will also be used in your exercise to produce a dendrogram from our `AgglomerativeClustering` object."
   ]
  },
  {
   "cell_type": "code",
   "execution_count": 4,
   "metadata": {
    "colab": {},
    "colab_type": "code",
    "id": "Ky5AfTm0ijeN"
   },
   "outputs": [
    {
     "data": {
      "application/javascript": [
       "\n",
       "            setTimeout(function() {\n",
       "                var nbb_cell_id = 4;\n",
       "                var nbb_unformatted_code = \"def plot_dendrogram(model, **kwargs):\\n    \\\"\\\"\\\"\\n    A function for plotting a dendrogram. Sourced from the following link:\\n    https://github.com/scikit-learn/scikit-learn/blob/70cf4a676caa2d2dad2e3f6e4478d64bcb0506f7/examples/cluster/plot_hierarchical_clustering_dendrogram.py\\n    \\n    Parameters:\\n        model (object of class sklearn.cluster.hierarchical.AgglomerativeClustering): a fitted scikit-learn hierarchical clustering model.\\n    \\n    Output: a dendrogram based on the model based in the parameters.\\n    \\n    Returns: None   \\n    \\\"\\\"\\\"\\n    # Children of hierarchical clustering\\n    children = model.children_\\n\\n    # Distances between each pair of children\\n    # Since we don't have this information, we can use a uniform one for plotting\\n    distance = np.arange(children.shape[0])\\n\\n    # The number of observations contained in each cluster level\\n    no_of_observations = np.arange(2, children.shape[0] + 2)\\n\\n    # Create linkage matrix and then plot the dendrogram\\n    linkage_matrix = np.column_stack([children, distance, no_of_observations]).astype(\\n        float\\n    )\\n\\n    # Plot the corresponding dendrogram\\n    dendrogram(linkage_matrix, **kwargs)\";\n",
       "                var nbb_formatted_code = \"def plot_dendrogram(model, **kwargs):\\n    \\\"\\\"\\\"\\n    A function for plotting a dendrogram. Sourced from the following link:\\n    https://github.com/scikit-learn/scikit-learn/blob/70cf4a676caa2d2dad2e3f6e4478d64bcb0506f7/examples/cluster/plot_hierarchical_clustering_dendrogram.py\\n    \\n    Parameters:\\n        model (object of class sklearn.cluster.hierarchical.AgglomerativeClustering): a fitted scikit-learn hierarchical clustering model.\\n    \\n    Output: a dendrogram based on the model based in the parameters.\\n    \\n    Returns: None   \\n    \\\"\\\"\\\"\\n    # Children of hierarchical clustering\\n    children = model.children_\\n\\n    # Distances between each pair of children\\n    # Since we don't have this information, we can use a uniform one for plotting\\n    distance = np.arange(children.shape[0])\\n\\n    # The number of observations contained in each cluster level\\n    no_of_observations = np.arange(2, children.shape[0] + 2)\\n\\n    # Create linkage matrix and then plot the dendrogram\\n    linkage_matrix = np.column_stack([children, distance, no_of_observations]).astype(\\n        float\\n    )\\n\\n    # Plot the corresponding dendrogram\\n    dendrogram(linkage_matrix, **kwargs)\";\n",
       "                var nbb_cells = Jupyter.notebook.get_cells();\n",
       "                for (var i = 0; i < nbb_cells.length; ++i) {\n",
       "                    if (nbb_cells[i].input_prompt_number == nbb_cell_id) {\n",
       "                        if (nbb_cells[i].get_text() == nbb_unformatted_code) {\n",
       "                             nbb_cells[i].set_text(nbb_formatted_code);\n",
       "                        }\n",
       "                        break;\n",
       "                    }\n",
       "                }\n",
       "            }, 500);\n",
       "            "
      ],
      "text/plain": [
       "<IPython.core.display.Javascript object>"
      ]
     },
     "metadata": {},
     "output_type": "display_data"
    }
   ],
   "source": [
    "def plot_dendrogram(model, **kwargs):\n",
    "    \"\"\"\n",
    "    A function for plotting a dendrogram. Sourced from the following link:\n",
    "    https://github.com/scikit-learn/scikit-learn/blob/70cf4a676caa2d2dad2e3f6e4478d64bcb0506f7/examples/cluster/plot_hierarchical_clustering_dendrogram.py\n",
    "    \n",
    "    Parameters:\n",
    "        model (object of class sklearn.cluster.hierarchical.AgglomerativeClustering): a fitted scikit-learn hierarchical clustering model.\n",
    "    \n",
    "    Output: a dendrogram based on the model based in the parameters.\n",
    "    \n",
    "    Returns: None   \n",
    "    \"\"\"\n",
    "    # Children of hierarchical clustering\n",
    "    children = model.children_\n",
    "\n",
    "    # Distances between each pair of children\n",
    "    # Since we don't have this information, we can use a uniform one for plotting\n",
    "    distance = np.arange(children.shape[0])\n",
    "\n",
    "    # The number of observations contained in each cluster level\n",
    "    no_of_observations = np.arange(2, children.shape[0] + 2)\n",
    "\n",
    "    # Create linkage matrix and then plot the dendrogram\n",
    "    linkage_matrix = np.column_stack([children, distance, no_of_observations]).astype(\n",
    "        float\n",
    "    )\n",
    "\n",
    "    # Plot the corresponding dendrogram\n",
    "    dendrogram(linkage_matrix, **kwargs)"
   ]
  },
  {
   "cell_type": "markdown",
   "metadata": {
    "colab_type": "text",
    "id": "bphdy-BGjAwi"
   },
   "source": [
    "Read data and do some inspection & cleaning."
   ]
  },
  {
   "cell_type": "code",
   "execution_count": 5,
   "metadata": {
    "colab": {
     "base_uri": "https://localhost:8080/",
     "height": 224
    },
    "colab_type": "code",
    "id": "kxGpm68dLxuX",
    "outputId": "d4a04517-b481-44ca-906e-c415bfa48845"
   },
   "outputs": [
    {
     "data": {
      "text/html": [
       "<div>\n",
       "<style scoped>\n",
       "    .dataframe tbody tr th:only-of-type {\n",
       "        vertical-align: middle;\n",
       "    }\n",
       "\n",
       "    .dataframe tbody tr th {\n",
       "        vertical-align: top;\n",
       "    }\n",
       "\n",
       "    .dataframe thead th {\n",
       "        text-align: right;\n",
       "    }\n",
       "</style>\n",
       "<table border=\"1\" class=\"dataframe\">\n",
       "  <thead>\n",
       "    <tr style=\"text-align: right;\">\n",
       "      <th></th>\n",
       "      <th>parcelid</th>\n",
       "      <th>airconditioningtypeid</th>\n",
       "      <th>architecturalstyletypeid</th>\n",
       "      <th>basementsqft</th>\n",
       "      <th>bathroomcnt</th>\n",
       "      <th>bedroomcnt</th>\n",
       "      <th>buildingclasstypeid</th>\n",
       "      <th>buildingqualitytypeid</th>\n",
       "      <th>calculatedbathnbr</th>\n",
       "      <th>decktypeid</th>\n",
       "      <th>...</th>\n",
       "      <th>numberofstories</th>\n",
       "      <th>fireplaceflag</th>\n",
       "      <th>structuretaxvaluedollarcnt</th>\n",
       "      <th>taxvaluedollarcnt</th>\n",
       "      <th>assessmentyear</th>\n",
       "      <th>landtaxvaluedollarcnt</th>\n",
       "      <th>taxamount</th>\n",
       "      <th>taxdelinquencyflag</th>\n",
       "      <th>taxdelinquencyyear</th>\n",
       "      <th>censustractandblock</th>\n",
       "    </tr>\n",
       "  </thead>\n",
       "  <tbody>\n",
       "    <tr>\n",
       "      <th>0</th>\n",
       "      <td>17291058</td>\n",
       "      <td>NaN</td>\n",
       "      <td>NaN</td>\n",
       "      <td>8516.0</td>\n",
       "      <td>9.5</td>\n",
       "      <td>6</td>\n",
       "      <td>NaN</td>\n",
       "      <td>NaN</td>\n",
       "      <td>9.5</td>\n",
       "      <td>66.0</td>\n",
       "      <td>...</td>\n",
       "      <td>2.0</td>\n",
       "      <td>NaN</td>\n",
       "      <td>12956457</td>\n",
       "      <td>26879210</td>\n",
       "      <td>2016</td>\n",
       "      <td>13922753</td>\n",
       "      <td>283062.46</td>\n",
       "      <td>NaN</td>\n",
       "      <td>NaN</td>\n",
       "      <td>6.111007e+13</td>\n",
       "    </tr>\n",
       "    <tr>\n",
       "      <th>1</th>\n",
       "      <td>17214945</td>\n",
       "      <td>NaN</td>\n",
       "      <td>NaN</td>\n",
       "      <td>296.0</td>\n",
       "      <td>2.5</td>\n",
       "      <td>3</td>\n",
       "      <td>NaN</td>\n",
       "      <td>NaN</td>\n",
       "      <td>2.5</td>\n",
       "      <td>66.0</td>\n",
       "      <td>...</td>\n",
       "      <td>2.0</td>\n",
       "      <td>NaN</td>\n",
       "      <td>321000</td>\n",
       "      <td>1074000</td>\n",
       "      <td>2016</td>\n",
       "      <td>753000</td>\n",
       "      <td>11525.74</td>\n",
       "      <td>NaN</td>\n",
       "      <td>NaN</td>\n",
       "      <td>6.111005e+13</td>\n",
       "    </tr>\n",
       "    <tr>\n",
       "      <th>2</th>\n",
       "      <td>17060678</td>\n",
       "      <td>NaN</td>\n",
       "      <td>NaN</td>\n",
       "      <td>1146.0</td>\n",
       "      <td>6.5</td>\n",
       "      <td>4</td>\n",
       "      <td>NaN</td>\n",
       "      <td>NaN</td>\n",
       "      <td>6.5</td>\n",
       "      <td>66.0</td>\n",
       "      <td>...</td>\n",
       "      <td>2.0</td>\n",
       "      <td>NaN</td>\n",
       "      <td>1804157</td>\n",
       "      <td>2275709</td>\n",
       "      <td>2016</td>\n",
       "      <td>471552</td>\n",
       "      <td>24503.28</td>\n",
       "      <td>NaN</td>\n",
       "      <td>NaN</td>\n",
       "      <td>6.111001e+13</td>\n",
       "    </tr>\n",
       "    <tr>\n",
       "      <th>3</th>\n",
       "      <td>17284901</td>\n",
       "      <td>NaN</td>\n",
       "      <td>NaN</td>\n",
       "      <td>2322.0</td>\n",
       "      <td>1.5</td>\n",
       "      <td>6</td>\n",
       "      <td>NaN</td>\n",
       "      <td>NaN</td>\n",
       "      <td>1.5</td>\n",
       "      <td>66.0</td>\n",
       "      <td>...</td>\n",
       "      <td>3.0</td>\n",
       "      <td>NaN</td>\n",
       "      <td>4481348</td>\n",
       "      <td>7138171</td>\n",
       "      <td>2016</td>\n",
       "      <td>2656823</td>\n",
       "      <td>75722.34</td>\n",
       "      <td>NaN</td>\n",
       "      <td>NaN</td>\n",
       "      <td>6.111007e+13</td>\n",
       "    </tr>\n",
       "    <tr>\n",
       "      <th>4</th>\n",
       "      <td>17277746</td>\n",
       "      <td>NaN</td>\n",
       "      <td>NaN</td>\n",
       "      <td>182.0</td>\n",
       "      <td>3.5</td>\n",
       "      <td>4</td>\n",
       "      <td>NaN</td>\n",
       "      <td>NaN</td>\n",
       "      <td>3.5</td>\n",
       "      <td>66.0</td>\n",
       "      <td>...</td>\n",
       "      <td>2.0</td>\n",
       "      <td>NaN</td>\n",
       "      <td>254934</td>\n",
       "      <td>420023</td>\n",
       "      <td>2016</td>\n",
       "      <td>165089</td>\n",
       "      <td>4427.28</td>\n",
       "      <td>NaN</td>\n",
       "      <td>NaN</td>\n",
       "      <td>6.111006e+13</td>\n",
       "    </tr>\n",
       "  </tbody>\n",
       "</table>\n",
       "<p>5 rows × 58 columns</p>\n",
       "</div>"
      ],
      "text/plain": [
       "   parcelid  airconditioningtypeid  architecturalstyletypeid  basementsqft  \\\n",
       "0  17291058                    NaN                       NaN        8516.0   \n",
       "1  17214945                    NaN                       NaN         296.0   \n",
       "2  17060678                    NaN                       NaN        1146.0   \n",
       "3  17284901                    NaN                       NaN        2322.0   \n",
       "4  17277746                    NaN                       NaN         182.0   \n",
       "\n",
       "   bathroomcnt  bedroomcnt  buildingclasstypeid  buildingqualitytypeid  \\\n",
       "0          9.5           6                  NaN                    NaN   \n",
       "1          2.5           3                  NaN                    NaN   \n",
       "2          6.5           4                  NaN                    NaN   \n",
       "3          1.5           6                  NaN                    NaN   \n",
       "4          3.5           4                  NaN                    NaN   \n",
       "\n",
       "   calculatedbathnbr  decktypeid  ...  numberofstories  fireplaceflag  \\\n",
       "0                9.5        66.0  ...              2.0            NaN   \n",
       "1                2.5        66.0  ...              2.0            NaN   \n",
       "2                6.5        66.0  ...              2.0            NaN   \n",
       "3                1.5        66.0  ...              3.0            NaN   \n",
       "4                3.5        66.0  ...              2.0            NaN   \n",
       "\n",
       "   structuretaxvaluedollarcnt  taxvaluedollarcnt  assessmentyear  \\\n",
       "0                    12956457           26879210            2016   \n",
       "1                      321000            1074000            2016   \n",
       "2                     1804157            2275709            2016   \n",
       "3                     4481348            7138171            2016   \n",
       "4                      254934             420023            2016   \n",
       "\n",
       "   landtaxvaluedollarcnt  taxamount  taxdelinquencyflag  taxdelinquencyyear  \\\n",
       "0               13922753  283062.46                 NaN                 NaN   \n",
       "1                 753000   11525.74                 NaN                 NaN   \n",
       "2                 471552   24503.28                 NaN                 NaN   \n",
       "3                2656823   75722.34                 NaN                 NaN   \n",
       "4                 165089    4427.28                 NaN                 NaN   \n",
       "\n",
       "   censustractandblock  \n",
       "0         6.111007e+13  \n",
       "1         6.111005e+13  \n",
       "2         6.111001e+13  \n",
       "3         6.111007e+13  \n",
       "4         6.111006e+13  \n",
       "\n",
       "[5 rows x 58 columns]"
      ]
     },
     "execution_count": 5,
     "metadata": {},
     "output_type": "execute_result"
    },
    {
     "data": {
      "application/javascript": [
       "\n",
       "            setTimeout(function() {\n",
       "                var nbb_cell_id = 5;\n",
       "                var nbb_unformatted_code = \"zillow = pd.read_csv(data_url)\\nzillow.head()\";\n",
       "                var nbb_formatted_code = \"zillow = pd.read_csv(data_url)\\nzillow.head()\";\n",
       "                var nbb_cells = Jupyter.notebook.get_cells();\n",
       "                for (var i = 0; i < nbb_cells.length; ++i) {\n",
       "                    if (nbb_cells[i].input_prompt_number == nbb_cell_id) {\n",
       "                        if (nbb_cells[i].get_text() == nbb_unformatted_code) {\n",
       "                             nbb_cells[i].set_text(nbb_formatted_code);\n",
       "                        }\n",
       "                        break;\n",
       "                    }\n",
       "                }\n",
       "            }, 500);\n",
       "            "
      ],
      "text/plain": [
       "<IPython.core.display.Javascript object>"
      ]
     },
     "metadata": {},
     "output_type": "display_data"
    }
   ],
   "source": [
    "zillow = pd.read_csv(data_url)\n",
    "zillow.head()"
   ]
  },
  {
   "cell_type": "markdown",
   "metadata": {
    "colab_type": "text",
    "id": "ibTTfwWEjGPW"
   },
   "source": [
    "Drop columns that have more than 20% of their values missing.  How many columns does this remove?"
   ]
  },
  {
   "cell_type": "code",
   "execution_count": 6,
   "metadata": {},
   "outputs": [
    {
     "data": {
      "text/plain": [
       "58"
      ]
     },
     "execution_count": 6,
     "metadata": {},
     "output_type": "execute_result"
    },
    {
     "data": {
      "application/javascript": [
       "\n",
       "            setTimeout(function() {\n",
       "                var nbb_cell_id = 6;\n",
       "                var nbb_unformatted_code = \"len(zillow.columns)\";\n",
       "                var nbb_formatted_code = \"len(zillow.columns)\";\n",
       "                var nbb_cells = Jupyter.notebook.get_cells();\n",
       "                for (var i = 0; i < nbb_cells.length; ++i) {\n",
       "                    if (nbb_cells[i].input_prompt_number == nbb_cell_id) {\n",
       "                        if (nbb_cells[i].get_text() == nbb_unformatted_code) {\n",
       "                             nbb_cells[i].set_text(nbb_formatted_code);\n",
       "                        }\n",
       "                        break;\n",
       "                    }\n",
       "                }\n",
       "            }, 500);\n",
       "            "
      ],
      "text/plain": [
       "<IPython.core.display.Javascript object>"
      ]
     },
     "metadata": {},
     "output_type": "display_data"
    }
   ],
   "source": [
    "len(zillow.columns)"
   ]
  },
  {
   "cell_type": "code",
   "execution_count": 7,
   "metadata": {},
   "outputs": [
    {
     "data": {
      "text/plain": [
       "24"
      ]
     },
     "execution_count": 7,
     "metadata": {},
     "output_type": "execute_result"
    },
    {
     "data": {
      "application/javascript": [
       "\n",
       "            setTimeout(function() {\n",
       "                var nbb_cell_id = 7;\n",
       "                var nbb_unformatted_code = \"perc_na = zillow.isna().mean()\\ncols_over_20 = perc_na > 0.2\\ncols_over_20.sum()\";\n",
       "                var nbb_formatted_code = \"perc_na = zillow.isna().mean()\\ncols_over_20 = perc_na > 0.2\\ncols_over_20.sum()\";\n",
       "                var nbb_cells = Jupyter.notebook.get_cells();\n",
       "                for (var i = 0; i < nbb_cells.length; ++i) {\n",
       "                    if (nbb_cells[i].input_prompt_number == nbb_cell_id) {\n",
       "                        if (nbb_cells[i].get_text() == nbb_unformatted_code) {\n",
       "                             nbb_cells[i].set_text(nbb_formatted_code);\n",
       "                        }\n",
       "                        break;\n",
       "                    }\n",
       "                }\n",
       "            }, 500);\n",
       "            "
      ],
      "text/plain": [
       "<IPython.core.display.Javascript object>"
      ]
     },
     "metadata": {},
     "output_type": "display_data"
    }
   ],
   "source": [
    "perc_na = zillow.isna().mean()\n",
    "cols_over_20 = perc_na > 0.2\n",
    "cols_over_20.sum()"
   ]
  },
  {
   "cell_type": "code",
   "execution_count": 8,
   "metadata": {},
   "outputs": [
    {
     "data": {
      "application/javascript": [
       "\n",
       "            setTimeout(function() {\n",
       "                var nbb_cell_id = 8;\n",
       "                var nbb_unformatted_code = \"zillow = zillow.loc[:, ~cols_over_20]\";\n",
       "                var nbb_formatted_code = \"zillow = zillow.loc[:, ~cols_over_20]\";\n",
       "                var nbb_cells = Jupyter.notebook.get_cells();\n",
       "                for (var i = 0; i < nbb_cells.length; ++i) {\n",
       "                    if (nbb_cells[i].input_prompt_number == nbb_cell_id) {\n",
       "                        if (nbb_cells[i].get_text() == nbb_unformatted_code) {\n",
       "                             nbb_cells[i].set_text(nbb_formatted_code);\n",
       "                        }\n",
       "                        break;\n",
       "                    }\n",
       "                }\n",
       "            }, 500);\n",
       "            "
      ],
      "text/plain": [
       "<IPython.core.display.Javascript object>"
      ]
     },
     "metadata": {},
     "output_type": "display_data"
    }
   ],
   "source": [
    "zillow = zillow.loc[:, ~cols_over_20]"
   ]
  },
  {
   "cell_type": "markdown",
   "metadata": {},
   "source": [
    "Drop all NAs from the dataframe.  How many rows does this remove?"
   ]
  },
  {
   "cell_type": "code",
   "execution_count": 9,
   "metadata": {
    "colab": {
     "base_uri": "https://localhost:8080/",
     "height": 241
    },
    "colab_type": "code",
    "id": "MrbxUB9jL1_t",
    "outputId": "f7f482d6-be64-478b-ca61-4c8e471ff9f1"
   },
   "outputs": [
    {
     "data": {
      "text/plain": [
       "2575"
      ]
     },
     "execution_count": 9,
     "metadata": {},
     "output_type": "execute_result"
    },
    {
     "data": {
      "application/javascript": [
       "\n",
       "            setTimeout(function() {\n",
       "                var nbb_cell_id = 9;\n",
       "                var nbb_unformatted_code = \"pre_dropna_rowcount = zillow.shape[0]\\nzillow = zillow.dropna()\\npost_dropna_rowcount = zillow.shape[0]\\n\\nn_dropped = pre_dropna_rowcount - post_dropna_rowcount\\nn_dropped\";\n",
       "                var nbb_formatted_code = \"pre_dropna_rowcount = zillow.shape[0]\\nzillow = zillow.dropna()\\npost_dropna_rowcount = zillow.shape[0]\\n\\nn_dropped = pre_dropna_rowcount - post_dropna_rowcount\\nn_dropped\";\n",
       "                var nbb_cells = Jupyter.notebook.get_cells();\n",
       "                for (var i = 0; i < nbb_cells.length; ++i) {\n",
       "                    if (nbb_cells[i].input_prompt_number == nbb_cell_id) {\n",
       "                        if (nbb_cells[i].get_text() == nbb_unformatted_code) {\n",
       "                             nbb_cells[i].set_text(nbb_formatted_code);\n",
       "                        }\n",
       "                        break;\n",
       "                    }\n",
       "                }\n",
       "            }, 500);\n",
       "            "
      ],
      "text/plain": [
       "<IPython.core.display.Javascript object>"
      ]
     },
     "metadata": {},
     "output_type": "display_data"
    }
   ],
   "source": [
    "pre_dropna_rowcount = zillow.shape[0]\n",
    "zillow = zillow.dropna()\n",
    "post_dropna_rowcount = zillow.shape[0]\n",
    "\n",
    "n_dropped = pre_dropna_rowcount - post_dropna_rowcount\n",
    "n_dropped"
   ]
  },
  {
   "cell_type": "markdown",
   "metadata": {
    "colab_type": "text",
    "id": "YYPhn06mjhR6"
   },
   "source": [
    "For the sake of time & plotting, downsample to 100 random records in the `zillow` dataframe.  Use a random seed of `42` to obtain consistent results."
   ]
  },
  {
   "cell_type": "code",
   "execution_count": 10,
   "metadata": {
    "colab": {},
    "colab_type": "code",
    "id": "tZLSy9UkL7nB"
   },
   "outputs": [
    {
     "data": {
      "application/javascript": [
       "\n",
       "            setTimeout(function() {\n",
       "                var nbb_cell_id = 10;\n",
       "                var nbb_unformatted_code = \"# If we calc a distance matrix it will be 12425 * 12425 (154,380,625) elements large\\n# Let's down sample to have a quicker demo and a prettier dendrogram to look at\\nzillow = zillow.sample(100, random_state=42)\";\n",
       "                var nbb_formatted_code = \"# If we calc a distance matrix it will be 12425 * 12425 (154,380,625) elements large\\n# Let's down sample to have a quicker demo and a prettier dendrogram to look at\\nzillow = zillow.sample(100, random_state=42)\";\n",
       "                var nbb_cells = Jupyter.notebook.get_cells();\n",
       "                for (var i = 0; i < nbb_cells.length; ++i) {\n",
       "                    if (nbb_cells[i].input_prompt_number == nbb_cell_id) {\n",
       "                        if (nbb_cells[i].get_text() == nbb_unformatted_code) {\n",
       "                             nbb_cells[i].set_text(nbb_formatted_code);\n",
       "                        }\n",
       "                        break;\n",
       "                    }\n",
       "                }\n",
       "            }, 500);\n",
       "            "
      ],
      "text/plain": [
       "<IPython.core.display.Javascript object>"
      ]
     },
     "metadata": {},
     "output_type": "display_data"
    }
   ],
   "source": [
    "# If we calc a distance matrix it will be 12425 * 12425 (154,380,625) elements large\n",
    "# Let's down sample to have a quicker demo and a prettier dendrogram to look at\n",
    "zillow = zillow.sample(100, random_state=42)"
   ]
  },
  {
   "cell_type": "markdown",
   "metadata": {
    "colab_type": "text",
    "id": "siio9UX5j7Z-"
   },
   "source": [
    "Dropping a lot of columns based on being ID, having 0 variance, or being collinear (based on my understanding... rather than analysis... might be wrong)."
   ]
  },
  {
   "cell_type": "code",
   "execution_count": 11,
   "metadata": {
    "colab": {
     "base_uri": "https://localhost:8080/",
     "height": 224
    },
    "colab_type": "code",
    "id": "tNnwfPxSj5ih",
    "outputId": "22d9b902-d7f7-46be-ccab-87775b4e820f"
   },
   "outputs": [
    {
     "data": {
      "text/html": [
       "<div>\n",
       "<style scoped>\n",
       "    .dataframe tbody tr th:only-of-type {\n",
       "        vertical-align: middle;\n",
       "    }\n",
       "\n",
       "    .dataframe tbody tr th {\n",
       "        vertical-align: top;\n",
       "    }\n",
       "\n",
       "    .dataframe thead th {\n",
       "        text-align: right;\n",
       "    }\n",
       "</style>\n",
       "<table border=\"1\" class=\"dataframe\">\n",
       "  <thead>\n",
       "    <tr style=\"text-align: right;\">\n",
       "      <th></th>\n",
       "      <th>bathroomcnt</th>\n",
       "      <th>bedroomcnt</th>\n",
       "      <th>calculatedfinishedsquarefeet</th>\n",
       "      <th>fireplacecnt</th>\n",
       "      <th>fullbathcnt</th>\n",
       "      <th>garagetotalsqft</th>\n",
       "      <th>lotsizesquarefeet</th>\n",
       "      <th>poolsizesum</th>\n",
       "      <th>roomcnt</th>\n",
       "      <th>yearbuilt</th>\n",
       "      <th>numberofstories</th>\n",
       "      <th>taxamount</th>\n",
       "    </tr>\n",
       "  </thead>\n",
       "  <tbody>\n",
       "    <tr>\n",
       "      <th>11325</th>\n",
       "      <td>4.0</td>\n",
       "      <td>5</td>\n",
       "      <td>3705</td>\n",
       "      <td>2.0</td>\n",
       "      <td>4.0</td>\n",
       "      <td>948.0</td>\n",
       "      <td>59349.0</td>\n",
       "      <td>684.0</td>\n",
       "      <td>10</td>\n",
       "      <td>2001.0</td>\n",
       "      <td>2.0</td>\n",
       "      <td>15108.92</td>\n",
       "    </tr>\n",
       "    <tr>\n",
       "      <th>1766</th>\n",
       "      <td>3.0</td>\n",
       "      <td>5</td>\n",
       "      <td>3642</td>\n",
       "      <td>2.0</td>\n",
       "      <td>3.0</td>\n",
       "      <td>471.0</td>\n",
       "      <td>7720.0</td>\n",
       "      <td>640.0</td>\n",
       "      <td>10</td>\n",
       "      <td>1998.0</td>\n",
       "      <td>2.0</td>\n",
       "      <td>8078.32</td>\n",
       "    </tr>\n",
       "    <tr>\n",
       "      <th>14591</th>\n",
       "      <td>3.0</td>\n",
       "      <td>3</td>\n",
       "      <td>2779</td>\n",
       "      <td>2.0</td>\n",
       "      <td>3.0</td>\n",
       "      <td>659.0</td>\n",
       "      <td>11610.0</td>\n",
       "      <td>420.0</td>\n",
       "      <td>8</td>\n",
       "      <td>1988.0</td>\n",
       "      <td>2.0</td>\n",
       "      <td>7340.82</td>\n",
       "    </tr>\n",
       "    <tr>\n",
       "      <th>14939</th>\n",
       "      <td>3.0</td>\n",
       "      <td>3</td>\n",
       "      <td>2902</td>\n",
       "      <td>2.0</td>\n",
       "      <td>3.0</td>\n",
       "      <td>774.0</td>\n",
       "      <td>43560.0</td>\n",
       "      <td>525.0</td>\n",
       "      <td>7</td>\n",
       "      <td>1977.0</td>\n",
       "      <td>2.0</td>\n",
       "      <td>11795.98</td>\n",
       "    </tr>\n",
       "    <tr>\n",
       "      <th>12049</th>\n",
       "      <td>3.0</td>\n",
       "      <td>4</td>\n",
       "      <td>2295</td>\n",
       "      <td>2.0</td>\n",
       "      <td>3.0</td>\n",
       "      <td>487.0</td>\n",
       "      <td>8539.0</td>\n",
       "      <td>396.0</td>\n",
       "      <td>8</td>\n",
       "      <td>1979.0</td>\n",
       "      <td>2.0</td>\n",
       "      <td>4799.22</td>\n",
       "    </tr>\n",
       "  </tbody>\n",
       "</table>\n",
       "</div>"
      ],
      "text/plain": [
       "       bathroomcnt  bedroomcnt  calculatedfinishedsquarefeet  fireplacecnt  \\\n",
       "11325          4.0           5                          3705           2.0   \n",
       "1766           3.0           5                          3642           2.0   \n",
       "14591          3.0           3                          2779           2.0   \n",
       "14939          3.0           3                          2902           2.0   \n",
       "12049          3.0           4                          2295           2.0   \n",
       "\n",
       "       fullbathcnt  garagetotalsqft  lotsizesquarefeet  poolsizesum  roomcnt  \\\n",
       "11325          4.0            948.0            59349.0        684.0       10   \n",
       "1766           3.0            471.0             7720.0        640.0       10   \n",
       "14591          3.0            659.0            11610.0        420.0        8   \n",
       "14939          3.0            774.0            43560.0        525.0        7   \n",
       "12049          3.0            487.0             8539.0        396.0        8   \n",
       "\n",
       "       yearbuilt  numberofstories  taxamount  \n",
       "11325     2001.0              2.0   15108.92  \n",
       "1766      1998.0              2.0    8078.32  \n",
       "14591     1988.0              2.0    7340.82  \n",
       "14939     1977.0              2.0   11795.98  \n",
       "12049     1979.0              2.0    4799.22  "
      ]
     },
     "execution_count": 11,
     "metadata": {},
     "output_type": "execute_result"
    },
    {
     "data": {
      "application/javascript": [
       "\n",
       "            setTimeout(function() {\n",
       "                var nbb_cell_id = 11;\n",
       "                var nbb_unformatted_code = \"# Id columns aren't too useful for clustering but we might want them later\\n# fmt: off\\nid_cols = [\\\"parcelid\\\", \\\"pooltypeid7\\\", \\\"propertycountylandusecode\\\", \\n           \\\"propertylandusetypeid\\\", \\\"regionidcity\\\", \\\"regionidcounty\\\", \\\"regionidzip\\\",\\n           \\\"latitude\\\", \\\"longitude\\\", \\\"fips\\\",\\n           \\\"rawcensustractandblock\\\", \\\"censustractandblock\\\"]\\nzillow_sub = zillow.drop(columns=id_cols)\\n\\n# Some columns that duplicate info\\n# Idk much about real estate so some of these might be bad assumptions\\ndup_cols = [\\\"calculatedbathnbr\\\", \\\"finishedsquarefeet50\\\", \\\"finishedsquarefeet12\\\",\\n            \\\"finishedfloor1squarefeet\\\", \\\"structuretaxvaluedollarcnt\\\", \\n            \\\"taxvaluedollarcnt\\\", \\\"landtaxvaluedollarcnt\\\"]\\n# fmt: on\\nzillow_sub = zillow_sub.drop(columns=dup_cols)\\n\\n# My random sample (using 42 as seed) had 0 variance in these 2 columns\\nno_var_cols = [\\\"poolcnt\\\", \\\"assessmentyear\\\", 'garagecarcnt']\\nzillow_sub = zillow_sub.drop(columns=no_var_cols)\\n\\nzillow_sub.head()\";\n",
       "                var nbb_formatted_code = \"# Id columns aren't too useful for clustering but we might want them later\\n# fmt: off\\nid_cols = [\\\"parcelid\\\", \\\"pooltypeid7\\\", \\\"propertycountylandusecode\\\", \\n           \\\"propertylandusetypeid\\\", \\\"regionidcity\\\", \\\"regionidcounty\\\", \\\"regionidzip\\\",\\n           \\\"latitude\\\", \\\"longitude\\\", \\\"fips\\\",\\n           \\\"rawcensustractandblock\\\", \\\"censustractandblock\\\"]\\nzillow_sub = zillow.drop(columns=id_cols)\\n\\n# Some columns that duplicate info\\n# Idk much about real estate so some of these might be bad assumptions\\ndup_cols = [\\\"calculatedbathnbr\\\", \\\"finishedsquarefeet50\\\", \\\"finishedsquarefeet12\\\",\\n            \\\"finishedfloor1squarefeet\\\", \\\"structuretaxvaluedollarcnt\\\", \\n            \\\"taxvaluedollarcnt\\\", \\\"landtaxvaluedollarcnt\\\"]\\n# fmt: on\\nzillow_sub = zillow_sub.drop(columns=dup_cols)\\n\\n# My random sample (using 42 as seed) had 0 variance in these 2 columns\\nno_var_cols = [\\\"poolcnt\\\", \\\"assessmentyear\\\", \\\"garagecarcnt\\\"]\\nzillow_sub = zillow_sub.drop(columns=no_var_cols)\\n\\nzillow_sub.head()\";\n",
       "                var nbb_cells = Jupyter.notebook.get_cells();\n",
       "                for (var i = 0; i < nbb_cells.length; ++i) {\n",
       "                    if (nbb_cells[i].input_prompt_number == nbb_cell_id) {\n",
       "                        if (nbb_cells[i].get_text() == nbb_unformatted_code) {\n",
       "                             nbb_cells[i].set_text(nbb_formatted_code);\n",
       "                        }\n",
       "                        break;\n",
       "                    }\n",
       "                }\n",
       "            }, 500);\n",
       "            "
      ],
      "text/plain": [
       "<IPython.core.display.Javascript object>"
      ]
     },
     "metadata": {},
     "output_type": "display_data"
    }
   ],
   "source": [
    "# Id columns aren't too useful for clustering but we might want them later\n",
    "# fmt: off\n",
    "id_cols = [\"parcelid\", \"pooltypeid7\", \"propertycountylandusecode\", \n",
    "           \"propertylandusetypeid\", \"regionidcity\", \"regionidcounty\", \"regionidzip\",\n",
    "           \"latitude\", \"longitude\", \"fips\",\n",
    "           \"rawcensustractandblock\", \"censustractandblock\"]\n",
    "zillow_sub = zillow.drop(columns=id_cols)\n",
    "\n",
    "# Some columns that duplicate info\n",
    "# Idk much about real estate so some of these might be bad assumptions\n",
    "dup_cols = [\"calculatedbathnbr\", \"finishedsquarefeet50\", \"finishedsquarefeet12\",\n",
    "            \"finishedfloor1squarefeet\", \"structuretaxvaluedollarcnt\", \n",
    "            \"taxvaluedollarcnt\", \"landtaxvaluedollarcnt\"]\n",
    "# fmt: on\n",
    "zillow_sub = zillow_sub.drop(columns=dup_cols)\n",
    "\n",
    "# My random sample (using 42 as seed) had 0 variance in these 2 columns\n",
    "no_var_cols = [\"poolcnt\", \"assessmentyear\", \"garagecarcnt\"]\n",
    "zillow_sub = zillow_sub.drop(columns=no_var_cols)\n",
    "\n",
    "zillow_sub.head()"
   ]
  },
  {
   "cell_type": "markdown",
   "metadata": {
    "colab_type": "text",
    "id": "UqLa0chVfimW"
   },
   "source": [
    "## Heirarchical Clustering\n",
    "\n",
    "Links:\n",
    "* [Greate resource here explaining an example in depth](http://www.econ.upf.edu/~michael/stanford/maeb7.pdf)\n",
    "* [StatQuest video](https://www.youtube.com/watch?v=7xHsRkOdVwo): admittedly not his best work and not his best \"bams\""
   ]
  },
  {
   "cell_type": "markdown",
   "metadata": {
    "colab_type": "text",
    "id": "bveQM2RjlPsY"
   },
   "source": [
    "Prep data for clustering"
   ]
  },
  {
   "cell_type": "code",
   "execution_count": 12,
   "metadata": {
    "colab": {},
    "colab_type": "code",
    "id": "qnJHCNWYNskO"
   },
   "outputs": [
    {
     "data": {
      "application/javascript": [
       "\n",
       "            setTimeout(function() {\n",
       "                var nbb_cell_id = 12;\n",
       "                var nbb_unformatted_code = \"scaler = StandardScaler()\\nscaled = scaler.fit_transform(zillow_sub)\\nscaled_df = pd.DataFrame(scaled, index=zillow_sub.index, columns=zillow_sub.columns)\";\n",
       "                var nbb_formatted_code = \"scaler = StandardScaler()\\nscaled = scaler.fit_transform(zillow_sub)\\nscaled_df = pd.DataFrame(scaled, index=zillow_sub.index, columns=zillow_sub.columns)\";\n",
       "                var nbb_cells = Jupyter.notebook.get_cells();\n",
       "                for (var i = 0; i < nbb_cells.length; ++i) {\n",
       "                    if (nbb_cells[i].input_prompt_number == nbb_cell_id) {\n",
       "                        if (nbb_cells[i].get_text() == nbb_unformatted_code) {\n",
       "                             nbb_cells[i].set_text(nbb_formatted_code);\n",
       "                        }\n",
       "                        break;\n",
       "                    }\n",
       "                }\n",
       "            }, 500);\n",
       "            "
      ],
      "text/plain": [
       "<IPython.core.display.Javascript object>"
      ]
     },
     "metadata": {},
     "output_type": "display_data"
    }
   ],
   "source": [
    "scaler = StandardScaler()\n",
    "scaled = scaler.fit_transform(zillow_sub)\n",
    "scaled_df = pd.DataFrame(scaled, index=zillow_sub.index, columns=zillow_sub.columns)"
   ]
  },
  {
   "cell_type": "markdown",
   "metadata": {
    "colab_type": "text",
    "id": "GfFgoSBulT_W"
   },
   "source": [
    "Calculate distance matrix using euclidean distance"
   ]
  },
  {
   "cell_type": "code",
   "execution_count": 13,
   "metadata": {
    "colab": {},
    "colab_type": "code",
    "id": "FW6IRyyeN7LG"
   },
   "outputs": [
    {
     "data": {
      "application/javascript": [
       "\n",
       "            setTimeout(function() {\n",
       "                var nbb_cell_id = 13;\n",
       "                var nbb_unformatted_code = \"dist_mat_arr = squareform(pdist(scaled_df, metric=\\\"cityblock\\\"))\\ndist_mat_df = pd.DataFrame(dist_mat_arr, index=scaled_df.index, columns=scaled_df.index)\";\n",
       "                var nbb_formatted_code = \"dist_mat_arr = squareform(pdist(scaled_df, metric=\\\"cityblock\\\"))\\ndist_mat_df = pd.DataFrame(dist_mat_arr, index=scaled_df.index, columns=scaled_df.index)\";\n",
       "                var nbb_cells = Jupyter.notebook.get_cells();\n",
       "                for (var i = 0; i < nbb_cells.length; ++i) {\n",
       "                    if (nbb_cells[i].input_prompt_number == nbb_cell_id) {\n",
       "                        if (nbb_cells[i].get_text() == nbb_unformatted_code) {\n",
       "                             nbb_cells[i].set_text(nbb_formatted_code);\n",
       "                        }\n",
       "                        break;\n",
       "                    }\n",
       "                }\n",
       "            }, 500);\n",
       "            "
      ],
      "text/plain": [
       "<IPython.core.display.Javascript object>"
      ]
     },
     "metadata": {},
     "output_type": "display_data"
    }
   ],
   "source": [
    "dist_mat_arr = squareform(pdist(scaled_df, metric=\"cityblock\"))\n",
    "dist_mat_df = pd.DataFrame(dist_mat_arr, index=scaled_df.index, columns=scaled_df.index)"
   ]
  },
  {
   "cell_type": "code",
   "execution_count": 14,
   "metadata": {},
   "outputs": [
    {
     "data": {
      "text/html": [
       "<div>\n",
       "<style scoped>\n",
       "    .dataframe tbody tr th:only-of-type {\n",
       "        vertical-align: middle;\n",
       "    }\n",
       "\n",
       "    .dataframe tbody tr th {\n",
       "        vertical-align: top;\n",
       "    }\n",
       "\n",
       "    .dataframe thead th {\n",
       "        text-align: right;\n",
       "    }\n",
       "</style>\n",
       "<table border=\"1\" class=\"dataframe\">\n",
       "  <thead>\n",
       "    <tr style=\"text-align: right;\">\n",
       "      <th></th>\n",
       "      <th>11325</th>\n",
       "      <th>1766</th>\n",
       "      <th>14591</th>\n",
       "      <th>14939</th>\n",
       "      <th>12049</th>\n",
       "      <th>6551</th>\n",
       "      <th>12445</th>\n",
       "      <th>1176</th>\n",
       "      <th>7006</th>\n",
       "      <th>3980</th>\n",
       "      <th>...</th>\n",
       "      <th>9060</th>\n",
       "      <th>1351</th>\n",
       "      <th>12753</th>\n",
       "      <th>13125</th>\n",
       "      <th>2452</th>\n",
       "      <th>2869</th>\n",
       "      <th>5163</th>\n",
       "      <th>4317</th>\n",
       "      <th>9151</th>\n",
       "      <th>2153</th>\n",
       "    </tr>\n",
       "  </thead>\n",
       "  <tbody>\n",
       "    <tr>\n",
       "      <th>11325</th>\n",
       "      <td>0.000000</td>\n",
       "      <td>6.133614</td>\n",
       "      <td>11.766457</td>\n",
       "      <td>10.582870</td>\n",
       "      <td>12.620758</td>\n",
       "      <td>11.965275</td>\n",
       "      <td>18.006859</td>\n",
       "      <td>13.333124</td>\n",
       "      <td>8.562665</td>\n",
       "      <td>14.476535</td>\n",
       "      <td>...</td>\n",
       "      <td>20.630178</td>\n",
       "      <td>9.790534</td>\n",
       "      <td>26.104946</td>\n",
       "      <td>9.301654</td>\n",
       "      <td>12.015474</td>\n",
       "      <td>12.130775</td>\n",
       "      <td>13.533670</td>\n",
       "      <td>6.607718</td>\n",
       "      <td>15.480510</td>\n",
       "      <td>12.665146</td>\n",
       "    </tr>\n",
       "    <tr>\n",
       "      <th>1766</th>\n",
       "      <td>6.133614</td>\n",
       "      <td>0.000000</td>\n",
       "      <td>7.206605</td>\n",
       "      <td>9.195021</td>\n",
       "      <td>6.643523</td>\n",
       "      <td>8.879718</td>\n",
       "      <td>12.548180</td>\n",
       "      <td>8.440920</td>\n",
       "      <td>4.179217</td>\n",
       "      <td>13.219310</td>\n",
       "      <td>...</td>\n",
       "      <td>14.780729</td>\n",
       "      <td>8.704136</td>\n",
       "      <td>20.121271</td>\n",
       "      <td>7.841647</td>\n",
       "      <td>7.172835</td>\n",
       "      <td>13.973720</td>\n",
       "      <td>9.711865</td>\n",
       "      <td>12.578106</td>\n",
       "      <td>9.396477</td>\n",
       "      <td>13.392515</td>\n",
       "    </tr>\n",
       "    <tr>\n",
       "      <th>14591</th>\n",
       "      <td>11.766457</td>\n",
       "      <td>7.206605</td>\n",
       "      <td>0.000000</td>\n",
       "      <td>3.821257</td>\n",
       "      <td>3.291152</td>\n",
       "      <td>7.390463</td>\n",
       "      <td>10.273153</td>\n",
       "      <td>4.930565</td>\n",
       "      <td>4.097653</td>\n",
       "      <td>6.021876</td>\n",
       "      <td>...</td>\n",
       "      <td>10.024376</td>\n",
       "      <td>11.653249</td>\n",
       "      <td>15.861848</td>\n",
       "      <td>4.992300</td>\n",
       "      <td>3.858931</td>\n",
       "      <td>13.626939</td>\n",
       "      <td>5.619495</td>\n",
       "      <td>14.657371</td>\n",
       "      <td>6.150904</td>\n",
       "      <td>11.554795</td>\n",
       "    </tr>\n",
       "    <tr>\n",
       "      <th>14939</th>\n",
       "      <td>10.582870</td>\n",
       "      <td>9.195021</td>\n",
       "      <td>3.821257</td>\n",
       "      <td>0.000000</td>\n",
       "      <td>5.868001</td>\n",
       "      <td>8.169643</td>\n",
       "      <td>9.933381</td>\n",
       "      <td>7.686508</td>\n",
       "      <td>6.331359</td>\n",
       "      <td>5.990283</td>\n",
       "      <td>...</td>\n",
       "      <td>10.047309</td>\n",
       "      <td>14.669616</td>\n",
       "      <td>15.522076</td>\n",
       "      <td>5.894452</td>\n",
       "      <td>5.613768</td>\n",
       "      <td>11.798544</td>\n",
       "      <td>8.163590</td>\n",
       "      <td>13.473784</td>\n",
       "      <td>8.589485</td>\n",
       "      <td>10.371208</td>\n",
       "    </tr>\n",
       "    <tr>\n",
       "      <th>12049</th>\n",
       "      <td>12.620758</td>\n",
       "      <td>6.643523</td>\n",
       "      <td>3.291152</td>\n",
       "      <td>5.868001</td>\n",
       "      <td>0.000000</td>\n",
       "      <td>7.462491</td>\n",
       "      <td>7.848753</td>\n",
       "      <td>4.581145</td>\n",
       "      <td>4.058093</td>\n",
       "      <td>7.554487</td>\n",
       "      <td>...</td>\n",
       "      <td>9.926469</td>\n",
       "      <td>11.550685</td>\n",
       "      <td>15.468014</td>\n",
       "      <td>3.733907</td>\n",
       "      <td>3.156289</td>\n",
       "      <td>12.969733</td>\n",
       "      <td>5.894096</td>\n",
       "      <td>15.511672</td>\n",
       "      <td>3.002238</td>\n",
       "      <td>14.845947</td>\n",
       "    </tr>\n",
       "    <tr>\n",
       "      <th>...</th>\n",
       "      <td>...</td>\n",
       "      <td>...</td>\n",
       "      <td>...</td>\n",
       "      <td>...</td>\n",
       "      <td>...</td>\n",
       "      <td>...</td>\n",
       "      <td>...</td>\n",
       "      <td>...</td>\n",
       "      <td>...</td>\n",
       "      <td>...</td>\n",
       "      <td>...</td>\n",
       "      <td>...</td>\n",
       "      <td>...</td>\n",
       "      <td>...</td>\n",
       "      <td>...</td>\n",
       "      <td>...</td>\n",
       "      <td>...</td>\n",
       "      <td>...</td>\n",
       "      <td>...</td>\n",
       "      <td>...</td>\n",
       "      <td>...</td>\n",
       "    </tr>\n",
       "    <tr>\n",
       "      <th>2869</th>\n",
       "      <td>12.130775</td>\n",
       "      <td>13.973720</td>\n",
       "      <td>13.626939</td>\n",
       "      <td>11.798544</td>\n",
       "      <td>12.969733</td>\n",
       "      <td>9.813104</td>\n",
       "      <td>10.691083</td>\n",
       "      <td>12.312113</td>\n",
       "      <td>13.566640</td>\n",
       "      <td>9.077658</td>\n",
       "      <td>...</td>\n",
       "      <td>12.623064</td>\n",
       "      <td>16.597099</td>\n",
       "      <td>16.438619</td>\n",
       "      <td>9.235827</td>\n",
       "      <td>10.328084</td>\n",
       "      <td>0.000000</td>\n",
       "      <td>11.346066</td>\n",
       "      <td>9.519347</td>\n",
       "      <td>13.215090</td>\n",
       "      <td>11.763209</td>\n",
       "    </tr>\n",
       "    <tr>\n",
       "      <th>5163</th>\n",
       "      <td>13.533670</td>\n",
       "      <td>9.711865</td>\n",
       "      <td>5.619495</td>\n",
       "      <td>8.163590</td>\n",
       "      <td>5.894096</td>\n",
       "      <td>2.597164</td>\n",
       "      <td>5.633843</td>\n",
       "      <td>4.582456</td>\n",
       "      <td>6.200728</td>\n",
       "      <td>6.508253</td>\n",
       "      <td>...</td>\n",
       "      <td>7.821917</td>\n",
       "      <td>14.593754</td>\n",
       "      <td>13.659389</td>\n",
       "      <td>7.427109</td>\n",
       "      <td>6.293740</td>\n",
       "      <td>11.346066</td>\n",
       "      <td>0.000000</td>\n",
       "      <td>12.342102</td>\n",
       "      <td>6.029323</td>\n",
       "      <td>8.951851</td>\n",
       "    </tr>\n",
       "    <tr>\n",
       "      <th>4317</th>\n",
       "      <td>6.607718</td>\n",
       "      <td>12.578106</td>\n",
       "      <td>14.657371</td>\n",
       "      <td>13.473784</td>\n",
       "      <td>15.511672</td>\n",
       "      <td>10.773707</td>\n",
       "      <td>16.815291</td>\n",
       "      <td>16.224038</td>\n",
       "      <td>13.890431</td>\n",
       "      <td>13.284967</td>\n",
       "      <td>...</td>\n",
       "      <td>19.438610</td>\n",
       "      <td>15.337460</td>\n",
       "      <td>24.913377</td>\n",
       "      <td>12.192569</td>\n",
       "      <td>14.906389</td>\n",
       "      <td>9.519347</td>\n",
       "      <td>12.342102</td>\n",
       "      <td>0.000000</td>\n",
       "      <td>18.371425</td>\n",
       "      <td>10.790932</td>\n",
       "    </tr>\n",
       "    <tr>\n",
       "      <th>9151</th>\n",
       "      <td>15.480510</td>\n",
       "      <td>9.396477</td>\n",
       "      <td>6.150904</td>\n",
       "      <td>8.589485</td>\n",
       "      <td>3.002238</td>\n",
       "      <td>7.597718</td>\n",
       "      <td>5.032000</td>\n",
       "      <td>2.147386</td>\n",
       "      <td>6.917845</td>\n",
       "      <td>7.872385</td>\n",
       "      <td>...</td>\n",
       "      <td>7.161786</td>\n",
       "      <td>14.552923</td>\n",
       "      <td>12.488058</td>\n",
       "      <td>6.455391</td>\n",
       "      <td>3.551826</td>\n",
       "      <td>13.215090</td>\n",
       "      <td>6.029323</td>\n",
       "      <td>18.371425</td>\n",
       "      <td>0.000000</td>\n",
       "      <td>12.505046</td>\n",
       "    </tr>\n",
       "    <tr>\n",
       "      <th>2153</th>\n",
       "      <td>12.665146</td>\n",
       "      <td>13.392515</td>\n",
       "      <td>11.554795</td>\n",
       "      <td>10.371208</td>\n",
       "      <td>14.845947</td>\n",
       "      <td>7.383456</td>\n",
       "      <td>10.948912</td>\n",
       "      <td>10.357660</td>\n",
       "      <td>14.341431</td>\n",
       "      <td>8.603828</td>\n",
       "      <td>...</td>\n",
       "      <td>11.135381</td>\n",
       "      <td>20.673818</td>\n",
       "      <td>16.610148</td>\n",
       "      <td>15.148934</td>\n",
       "      <td>11.764536</td>\n",
       "      <td>11.763209</td>\n",
       "      <td>8.951851</td>\n",
       "      <td>10.790932</td>\n",
       "      <td>12.505046</td>\n",
       "      <td>0.000000</td>\n",
       "    </tr>\n",
       "  </tbody>\n",
       "</table>\n",
       "<p>100 rows × 100 columns</p>\n",
       "</div>"
      ],
      "text/plain": [
       "           11325      1766       14591      14939      12049      6551   \\\n",
       "11325   0.000000   6.133614  11.766457  10.582870  12.620758  11.965275   \n",
       "1766    6.133614   0.000000   7.206605   9.195021   6.643523   8.879718   \n",
       "14591  11.766457   7.206605   0.000000   3.821257   3.291152   7.390463   \n",
       "14939  10.582870   9.195021   3.821257   0.000000   5.868001   8.169643   \n",
       "12049  12.620758   6.643523   3.291152   5.868001   0.000000   7.462491   \n",
       "...          ...        ...        ...        ...        ...        ...   \n",
       "2869   12.130775  13.973720  13.626939  11.798544  12.969733   9.813104   \n",
       "5163   13.533670   9.711865   5.619495   8.163590   5.894096   2.597164   \n",
       "4317    6.607718  12.578106  14.657371  13.473784  15.511672  10.773707   \n",
       "9151   15.480510   9.396477   6.150904   8.589485   3.002238   7.597718   \n",
       "2153   12.665146  13.392515  11.554795  10.371208  14.845947   7.383456   \n",
       "\n",
       "           12445      1176       7006       3980   ...      9060       1351   \\\n",
       "11325  18.006859  13.333124   8.562665  14.476535  ...  20.630178   9.790534   \n",
       "1766   12.548180   8.440920   4.179217  13.219310  ...  14.780729   8.704136   \n",
       "14591  10.273153   4.930565   4.097653   6.021876  ...  10.024376  11.653249   \n",
       "14939   9.933381   7.686508   6.331359   5.990283  ...  10.047309  14.669616   \n",
       "12049   7.848753   4.581145   4.058093   7.554487  ...   9.926469  11.550685   \n",
       "...          ...        ...        ...        ...  ...        ...        ...   \n",
       "2869   10.691083  12.312113  13.566640   9.077658  ...  12.623064  16.597099   \n",
       "5163    5.633843   4.582456   6.200728   6.508253  ...   7.821917  14.593754   \n",
       "4317   16.815291  16.224038  13.890431  13.284967  ...  19.438610  15.337460   \n",
       "9151    5.032000   2.147386   6.917845   7.872385  ...   7.161786  14.552923   \n",
       "2153   10.948912  10.357660  14.341431   8.603828  ...  11.135381  20.673818   \n",
       "\n",
       "           12753      13125      2452       2869       5163       4317   \\\n",
       "11325  26.104946   9.301654  12.015474  12.130775  13.533670   6.607718   \n",
       "1766   20.121271   7.841647   7.172835  13.973720   9.711865  12.578106   \n",
       "14591  15.861848   4.992300   3.858931  13.626939   5.619495  14.657371   \n",
       "14939  15.522076   5.894452   5.613768  11.798544   8.163590  13.473784   \n",
       "12049  15.468014   3.733907   3.156289  12.969733   5.894096  15.511672   \n",
       "...          ...        ...        ...        ...        ...        ...   \n",
       "2869   16.438619   9.235827  10.328084   0.000000  11.346066   9.519347   \n",
       "5163   13.659389   7.427109   6.293740  11.346066   0.000000  12.342102   \n",
       "4317   24.913377  12.192569  14.906389   9.519347  12.342102   0.000000   \n",
       "9151   12.488058   6.455391   3.551826  13.215090   6.029323  18.371425   \n",
       "2153   16.610148  15.148934  11.764536  11.763209   8.951851  10.790932   \n",
       "\n",
       "           9151       2153   \n",
       "11325  15.480510  12.665146  \n",
       "1766    9.396477  13.392515  \n",
       "14591   6.150904  11.554795  \n",
       "14939   8.589485  10.371208  \n",
       "12049   3.002238  14.845947  \n",
       "...          ...        ...  \n",
       "2869   13.215090  11.763209  \n",
       "5163    6.029323   8.951851  \n",
       "4317   18.371425  10.790932  \n",
       "9151    0.000000  12.505046  \n",
       "2153   12.505046   0.000000  \n",
       "\n",
       "[100 rows x 100 columns]"
      ]
     },
     "execution_count": 14,
     "metadata": {},
     "output_type": "execute_result"
    },
    {
     "data": {
      "application/javascript": [
       "\n",
       "            setTimeout(function() {\n",
       "                var nbb_cell_id = 14;\n",
       "                var nbb_unformatted_code = \"dist_mat_df\";\n",
       "                var nbb_formatted_code = \"dist_mat_df\";\n",
       "                var nbb_cells = Jupyter.notebook.get_cells();\n",
       "                for (var i = 0; i < nbb_cells.length; ++i) {\n",
       "                    if (nbb_cells[i].input_prompt_number == nbb_cell_id) {\n",
       "                        if (nbb_cells[i].get_text() == nbb_unformatted_code) {\n",
       "                             nbb_cells[i].set_text(nbb_formatted_code);\n",
       "                        }\n",
       "                        break;\n",
       "                    }\n",
       "                }\n",
       "            }, 500);\n",
       "            "
      ],
      "text/plain": [
       "<IPython.core.display.Javascript object>"
      ]
     },
     "metadata": {},
     "output_type": "display_data"
    }
   ],
   "source": [
    "dist_mat_df"
   ]
  },
  {
   "cell_type": "markdown",
   "metadata": {
    "colab_type": "text",
    "id": "F4lK-6P3labM"
   },
   "source": [
    "Perform heirarchical clustering with the distance matrix and [`sklearn.cluster.AgglomerativeClustering`](https://scikit-learn.org/stable/modules/generated/sklearn.cluster.AgglomerativeClustering.html)."
   ]
  },
  {
   "cell_type": "code",
   "execution_count": 15,
   "metadata": {
    "colab": {
     "base_uri": "https://localhost:8080/",
     "height": 68
    },
    "colab_type": "code",
    "id": "XfGryvX-PF2V",
    "outputId": "e1aa028a-e636-40da-90e8-b95602de7ef4"
   },
   "outputs": [
    {
     "data": {
      "text/plain": [
       "AgglomerativeClustering(affinity='precomputed', compute_full_tree='auto',\n",
       "                        connectivity=None, distance_threshold=None,\n",
       "                        linkage='complete', memory=None, n_clusters=10)"
      ]
     },
     "execution_count": 15,
     "metadata": {},
     "output_type": "execute_result"
    },
    {
     "data": {
      "application/javascript": [
       "\n",
       "            setTimeout(function() {\n",
       "                var nbb_cell_id = 15;\n",
       "                var nbb_unformatted_code = \"clst = AgglomerativeClustering(\\n    n_clusters=10, affinity=\\\"precomputed\\\", linkage=\\\"complete\\\"\\n)\\nclst.fit(dist_mat_df)\";\n",
       "                var nbb_formatted_code = \"clst = AgglomerativeClustering(\\n    n_clusters=10, affinity=\\\"precomputed\\\", linkage=\\\"complete\\\"\\n)\\nclst.fit(dist_mat_df)\";\n",
       "                var nbb_cells = Jupyter.notebook.get_cells();\n",
       "                for (var i = 0; i < nbb_cells.length; ++i) {\n",
       "                    if (nbb_cells[i].input_prompt_number == nbb_cell_id) {\n",
       "                        if (nbb_cells[i].get_text() == nbb_unformatted_code) {\n",
       "                             nbb_cells[i].set_text(nbb_formatted_code);\n",
       "                        }\n",
       "                        break;\n",
       "                    }\n",
       "                }\n",
       "            }, 500);\n",
       "            "
      ],
      "text/plain": [
       "<IPython.core.display.Javascript object>"
      ]
     },
     "metadata": {},
     "output_type": "display_data"
    }
   ],
   "source": [
    "clst = AgglomerativeClustering(\n",
    "    n_clusters=10, affinity=\"precomputed\", linkage=\"complete\"\n",
    ")\n",
    "clst.fit(dist_mat_df)"
   ]
  },
  {
   "cell_type": "markdown",
   "metadata": {
    "colab_type": "text",
    "id": "yHEGxCXrlpkL"
   },
   "source": [
    "Use the `plot_dendrogram()` helper function to plot the heirarchical clusters."
   ]
  },
  {
   "cell_type": "code",
   "execution_count": 16,
   "metadata": {
    "colab": {
     "base_uri": "https://localhost:8080/",
     "height": 585
    },
    "colab_type": "code",
    "id": "r_A8wFeLPU62",
    "outputId": "93e0ec6b-6918-4712-8634-9d7267bf3794"
   },
   "outputs": [
    {
     "data": {
      "application/javascript": [
       "\n",
       "            setTimeout(function() {\n",
       "                var nbb_cell_id = 16;\n",
       "                var nbb_unformatted_code = \"# plt.figure(figsize=(20, 10))\\n# plot_dendrogram(clst)\";\n",
       "                var nbb_formatted_code = \"# plt.figure(figsize=(20, 10))\\n# plot_dendrogram(clst)\";\n",
       "                var nbb_cells = Jupyter.notebook.get_cells();\n",
       "                for (var i = 0; i < nbb_cells.length; ++i) {\n",
       "                    if (nbb_cells[i].input_prompt_number == nbb_cell_id) {\n",
       "                        if (nbb_cells[i].get_text() == nbb_unformatted_code) {\n",
       "                             nbb_cells[i].set_text(nbb_formatted_code);\n",
       "                        }\n",
       "                        break;\n",
       "                    }\n",
       "                }\n",
       "            }, 500);\n",
       "            "
      ],
      "text/plain": [
       "<IPython.core.display.Javascript object>"
      ]
     },
     "metadata": {},
     "output_type": "display_data"
    }
   ],
   "source": [
    "# plt.figure(figsize=(20, 10))\n",
    "# plot_dendrogram(clst)"
   ]
  },
  {
   "cell_type": "markdown",
   "metadata": {
    "colab_type": "text",
    "id": "iM7eMeD5lzp4"
   },
   "source": [
    "Assign the cluster labels to a column in our original dataframe."
   ]
  },
  {
   "cell_type": "code",
   "execution_count": 17,
   "metadata": {
    "colab": {},
    "colab_type": "code",
    "id": "IP9cOceDP6Xw"
   },
   "outputs": [
    {
     "data": {
      "text/plain": [
       "2    30\n",
       "6    19\n",
       "3    19\n",
       "0    12\n",
       "4     9\n",
       "1     5\n",
       "7     3\n",
       "9     1\n",
       "8     1\n",
       "5     1\n",
       "Name: label, dtype: int64"
      ]
     },
     "execution_count": 17,
     "metadata": {},
     "output_type": "execute_result"
    },
    {
     "data": {
      "application/javascript": [
       "\n",
       "            setTimeout(function() {\n",
       "                var nbb_cell_id = 17;\n",
       "                var nbb_unformatted_code = \"zillow_sub[\\\"label\\\"] = clst.labels_\\nzillow_sub[\\\"label\\\"].value_counts()\";\n",
       "                var nbb_formatted_code = \"zillow_sub[\\\"label\\\"] = clst.labels_\\nzillow_sub[\\\"label\\\"].value_counts()\";\n",
       "                var nbb_cells = Jupyter.notebook.get_cells();\n",
       "                for (var i = 0; i < nbb_cells.length; ++i) {\n",
       "                    if (nbb_cells[i].input_prompt_number == nbb_cell_id) {\n",
       "                        if (nbb_cells[i].get_text() == nbb_unformatted_code) {\n",
       "                             nbb_cells[i].set_text(nbb_formatted_code);\n",
       "                        }\n",
       "                        break;\n",
       "                    }\n",
       "                }\n",
       "            }, 500);\n",
       "            "
      ],
      "text/plain": [
       "<IPython.core.display.Javascript object>"
      ]
     },
     "metadata": {},
     "output_type": "display_data"
    }
   ],
   "source": [
    "zillow_sub[\"label\"] = clst.labels_\n",
    "zillow_sub[\"label\"].value_counts()"
   ]
  },
  {
   "cell_type": "markdown",
   "metadata": {
    "colab_type": "text",
    "id": "tdHy6u_8l5y3"
   },
   "source": [
    "Interpret the clusters"
   ]
  },
  {
   "cell_type": "code",
   "execution_count": 18,
   "metadata": {
    "colab": {
     "base_uri": "https://localhost:8080/",
     "height": 255
    },
    "colab_type": "code",
    "id": "tJwjQsjbQKRr",
    "outputId": "34461db4-c1c7-464a-bbcc-a8d51fcf8658"
   },
   "outputs": [
    {
     "data": {
      "text/html": [
       "<style  type=\"text/css\" >\n",
       "    #T_7af93906_0344_11eb_a266_7085c2a9ca7arow0_col0 {\n",
       "            background-color:  #9fbad9;\n",
       "            color:  #000000;\n",
       "        }    #T_7af93906_0344_11eb_a266_7085c2a9ca7arow0_col1 {\n",
       "            background-color:  #c9cee4;\n",
       "            color:  #000000;\n",
       "        }    #T_7af93906_0344_11eb_a266_7085c2a9ca7arow0_col2 {\n",
       "            background-color:  #dbdaeb;\n",
       "            color:  #000000;\n",
       "        }    #T_7af93906_0344_11eb_a266_7085c2a9ca7arow0_col3 {\n",
       "            background-color:  #b8c6e0;\n",
       "            color:  #000000;\n",
       "        }    #T_7af93906_0344_11eb_a266_7085c2a9ca7arow0_col4 {\n",
       "            background-color:  #b0c2de;\n",
       "            color:  #000000;\n",
       "        }    #T_7af93906_0344_11eb_a266_7085c2a9ca7arow0_col5 {\n",
       "            background-color:  #d2d3e7;\n",
       "            color:  #000000;\n",
       "        }    #T_7af93906_0344_11eb_a266_7085c2a9ca7arow0_col6 {\n",
       "            background-color:  #d7d6e9;\n",
       "            color:  #000000;\n",
       "        }    #T_7af93906_0344_11eb_a266_7085c2a9ca7arow0_col7 {\n",
       "            background-color:  #9ebad9;\n",
       "            color:  #000000;\n",
       "        }    #T_7af93906_0344_11eb_a266_7085c2a9ca7arow0_col8 {\n",
       "            background-color:  #e6e2ef;\n",
       "            color:  #000000;\n",
       "        }    #T_7af93906_0344_11eb_a266_7085c2a9ca7arow0_col9 {\n",
       "            background-color:  #056caa;\n",
       "            color:  #f1f1f1;\n",
       "        }    #T_7af93906_0344_11eb_a266_7085c2a9ca7arow0_col10 {\n",
       "            background-color:  #73a9cf;\n",
       "            color:  #000000;\n",
       "        }    #T_7af93906_0344_11eb_a266_7085c2a9ca7arow0_col11 {\n",
       "            background-color:  #e7e3f0;\n",
       "            color:  #000000;\n",
       "        }    #T_7af93906_0344_11eb_a266_7085c2a9ca7arow1_col0 {\n",
       "            background-color:  #dfddec;\n",
       "            color:  #000000;\n",
       "        }    #T_7af93906_0344_11eb_a266_7085c2a9ca7arow1_col1 {\n",
       "            background-color:  #f0eaf4;\n",
       "            color:  #000000;\n",
       "        }    #T_7af93906_0344_11eb_a266_7085c2a9ca7arow1_col2 {\n",
       "            background-color:  #efe9f3;\n",
       "            color:  #000000;\n",
       "        }    #T_7af93906_0344_11eb_a266_7085c2a9ca7arow1_col3 {\n",
       "            background-color:  #f8f1f8;\n",
       "            color:  #000000;\n",
       "        }    #T_7af93906_0344_11eb_a266_7085c2a9ca7arow1_col4 {\n",
       "            background-color:  #eae6f1;\n",
       "            color:  #000000;\n",
       "        }    #T_7af93906_0344_11eb_a266_7085c2a9ca7arow1_col5 {\n",
       "            background-color:  #e7e3f0;\n",
       "            color:  #000000;\n",
       "        }    #T_7af93906_0344_11eb_a266_7085c2a9ca7arow1_col6 {\n",
       "            background-color:  #cacee5;\n",
       "            color:  #000000;\n",
       "        }    #T_7af93906_0344_11eb_a266_7085c2a9ca7arow1_col7 {\n",
       "            background-color:  #2484ba;\n",
       "            color:  #000000;\n",
       "        }    #T_7af93906_0344_11eb_a266_7085c2a9ca7arow1_col8 {\n",
       "            background-color:  #f7f0f7;\n",
       "            color:  #000000;\n",
       "        }    #T_7af93906_0344_11eb_a266_7085c2a9ca7arow1_col9 {\n",
       "            background-color:  #b0c2de;\n",
       "            color:  #000000;\n",
       "        }    #T_7af93906_0344_11eb_a266_7085c2a9ca7arow1_col10 {\n",
       "            background-color:  #fff7fb;\n",
       "            color:  #000000;\n",
       "        }    #T_7af93906_0344_11eb_a266_7085c2a9ca7arow1_col11 {\n",
       "            background-color:  #e7e3f0;\n",
       "            color:  #000000;\n",
       "        }    #T_7af93906_0344_11eb_a266_7085c2a9ca7arow2_col0 {\n",
       "            background-color:  #d6d6e9;\n",
       "            color:  #000000;\n",
       "        }    #T_7af93906_0344_11eb_a266_7085c2a9ca7arow2_col1 {\n",
       "            background-color:  #9fbad9;\n",
       "            color:  #000000;\n",
       "        }    #T_7af93906_0344_11eb_a266_7085c2a9ca7arow2_col2 {\n",
       "            background-color:  #f0eaf4;\n",
       "            color:  #000000;\n",
       "        }    #T_7af93906_0344_11eb_a266_7085c2a9ca7arow2_col3 {\n",
       "            background-color:  #b8c6e0;\n",
       "            color:  #000000;\n",
       "        }    #T_7af93906_0344_11eb_a266_7085c2a9ca7arow2_col4 {\n",
       "            background-color:  #d9d8ea;\n",
       "            color:  #000000;\n",
       "        }    #T_7af93906_0344_11eb_a266_7085c2a9ca7arow2_col5 {\n",
       "            background-color:  #f0eaf4;\n",
       "            color:  #000000;\n",
       "        }    #T_7af93906_0344_11eb_a266_7085c2a9ca7arow2_col6 {\n",
       "            background-color:  #fcf4fa;\n",
       "            color:  #000000;\n",
       "        }    #T_7af93906_0344_11eb_a266_7085c2a9ca7arow2_col7 {\n",
       "            background-color:  #dcdaeb;\n",
       "            color:  #000000;\n",
       "        }    #T_7af93906_0344_11eb_a266_7085c2a9ca7arow2_col8 {\n",
       "            background-color:  #eae6f1;\n",
       "            color:  #000000;\n",
       "        }    #T_7af93906_0344_11eb_a266_7085c2a9ca7arow2_col9 {\n",
       "            background-color:  #3790c0;\n",
       "            color:  #000000;\n",
       "        }    #T_7af93906_0344_11eb_a266_7085c2a9ca7arow2_col10 {\n",
       "            background-color:  #034165;\n",
       "            color:  #f1f1f1;\n",
       "        }    #T_7af93906_0344_11eb_a266_7085c2a9ca7arow2_col11 {\n",
       "            background-color:  #f6eff7;\n",
       "            color:  #000000;\n",
       "        }    #T_7af93906_0344_11eb_a266_7085c2a9ca7arow3_col0 {\n",
       "            background-color:  #f8f1f8;\n",
       "            color:  #000000;\n",
       "        }    #T_7af93906_0344_11eb_a266_7085c2a9ca7arow3_col1 {\n",
       "            background-color:  #e2dfee;\n",
       "            color:  #000000;\n",
       "        }    #T_7af93906_0344_11eb_a266_7085c2a9ca7arow3_col2 {\n",
       "            background-color:  #fbf4f9;\n",
       "            color:  #000000;\n",
       "        }    #T_7af93906_0344_11eb_a266_7085c2a9ca7arow3_col3 {\n",
       "            background-color:  #e8e4f0;\n",
       "            color:  #000000;\n",
       "        }    #T_7af93906_0344_11eb_a266_7085c2a9ca7arow3_col4 {\n",
       "            background-color:  #fdf5fa;\n",
       "            color:  #000000;\n",
       "        }    #T_7af93906_0344_11eb_a266_7085c2a9ca7arow3_col5 {\n",
       "            background-color:  #f8f1f8;\n",
       "            color:  #000000;\n",
       "        }    #T_7af93906_0344_11eb_a266_7085c2a9ca7arow3_col6 {\n",
       "            background-color:  #fff7fb;\n",
       "            color:  #000000;\n",
       "        }    #T_7af93906_0344_11eb_a266_7085c2a9ca7arow3_col7 {\n",
       "            background-color:  #fff7fb;\n",
       "            color:  #000000;\n",
       "        }    #T_7af93906_0344_11eb_a266_7085c2a9ca7arow3_col8 {\n",
       "            background-color:  #fbf4f9;\n",
       "            color:  #000000;\n",
       "        }    #T_7af93906_0344_11eb_a266_7085c2a9ca7arow3_col9 {\n",
       "            background-color:  #d7d6e9;\n",
       "            color:  #000000;\n",
       "        }    #T_7af93906_0344_11eb_a266_7085c2a9ca7arow3_col10 {\n",
       "            background-color:  #023858;\n",
       "            color:  #f1f1f1;\n",
       "        }    #T_7af93906_0344_11eb_a266_7085c2a9ca7arow3_col11 {\n",
       "            background-color:  #fff7fb;\n",
       "            color:  #000000;\n",
       "        }    #T_7af93906_0344_11eb_a266_7085c2a9ca7arow4_col0 {\n",
       "            background-color:  #ebe6f2;\n",
       "            color:  #000000;\n",
       "        }    #T_7af93906_0344_11eb_a266_7085c2a9ca7arow4_col1 {\n",
       "            background-color:  #b4c4df;\n",
       "            color:  #000000;\n",
       "        }    #T_7af93906_0344_11eb_a266_7085c2a9ca7arow4_col2 {\n",
       "            background-color:  #f6eff7;\n",
       "            color:  #000000;\n",
       "        }    #T_7af93906_0344_11eb_a266_7085c2a9ca7arow4_col3 {\n",
       "            background-color:  #d9d8ea;\n",
       "            color:  #000000;\n",
       "        }    #T_7af93906_0344_11eb_a266_7085c2a9ca7arow4_col4 {\n",
       "            background-color:  #eee9f3;\n",
       "            color:  #000000;\n",
       "        }    #T_7af93906_0344_11eb_a266_7085c2a9ca7arow4_col5 {\n",
       "            background-color:  #f2ecf5;\n",
       "            color:  #000000;\n",
       "        }    #T_7af93906_0344_11eb_a266_7085c2a9ca7arow4_col6 {\n",
       "            background-color:  #faf3f9;\n",
       "            color:  #000000;\n",
       "        }    #T_7af93906_0344_11eb_a266_7085c2a9ca7arow4_col7 {\n",
       "            background-color:  #d8d7e9;\n",
       "            color:  #000000;\n",
       "        }    #T_7af93906_0344_11eb_a266_7085c2a9ca7arow4_col8 {\n",
       "            background-color:  #f2ecf5;\n",
       "            color:  #000000;\n",
       "        }    #T_7af93906_0344_11eb_a266_7085c2a9ca7arow4_col9 {\n",
       "            background-color:  #71a8ce;\n",
       "            color:  #000000;\n",
       "        }    #T_7af93906_0344_11eb_a266_7085c2a9ca7arow4_col10 {\n",
       "            background-color:  #fff7fb;\n",
       "            color:  #000000;\n",
       "        }    #T_7af93906_0344_11eb_a266_7085c2a9ca7arow4_col11 {\n",
       "            background-color:  #f8f1f8;\n",
       "            color:  #000000;\n",
       "        }    #T_7af93906_0344_11eb_a266_7085c2a9ca7arow5_col0 {\n",
       "            background-color:  #0872b1;\n",
       "            color:  #f1f1f1;\n",
       "        }    #T_7af93906_0344_11eb_a266_7085c2a9ca7arow5_col1 {\n",
       "            background-color:  #73a9cf;\n",
       "            color:  #000000;\n",
       "        }    #T_7af93906_0344_11eb_a266_7085c2a9ca7arow5_col2 {\n",
       "            background-color:  #3991c1;\n",
       "            color:  #000000;\n",
       "        }    #T_7af93906_0344_11eb_a266_7085c2a9ca7arow5_col3 {\n",
       "            background-color:  #023858;\n",
       "            color:  #f1f1f1;\n",
       "        }    #T_7af93906_0344_11eb_a266_7085c2a9ca7arow5_col4 {\n",
       "            background-color:  #2685bb;\n",
       "            color:  #000000;\n",
       "        }    #T_7af93906_0344_11eb_a266_7085c2a9ca7arow5_col5 {\n",
       "            background-color:  #023858;\n",
       "            color:  #f1f1f1;\n",
       "        }    #T_7af93906_0344_11eb_a266_7085c2a9ca7arow5_col6 {\n",
       "            background-color:  #b8c6e0;\n",
       "            color:  #000000;\n",
       "        }    #T_7af93906_0344_11eb_a266_7085c2a9ca7arow5_col7 {\n",
       "            background-color:  #023858;\n",
       "            color:  #f1f1f1;\n",
       "        }    #T_7af93906_0344_11eb_a266_7085c2a9ca7arow5_col8 {\n",
       "            background-color:  #acc0dd;\n",
       "            color:  #000000;\n",
       "        }    #T_7af93906_0344_11eb_a266_7085c2a9ca7arow5_col9 {\n",
       "            background-color:  #023858;\n",
       "            color:  #f1f1f1;\n",
       "        }    #T_7af93906_0344_11eb_a266_7085c2a9ca7arow5_col10 {\n",
       "            background-color:  #023858;\n",
       "            color:  #f1f1f1;\n",
       "        }    #T_7af93906_0344_11eb_a266_7085c2a9ca7arow5_col11 {\n",
       "            background-color:  #023858;\n",
       "            color:  #f1f1f1;\n",
       "        }    #T_7af93906_0344_11eb_a266_7085c2a9ca7arow6_col0 {\n",
       "            background-color:  #fff7fb;\n",
       "            color:  #000000;\n",
       "        }    #T_7af93906_0344_11eb_a266_7085c2a9ca7arow6_col1 {\n",
       "            background-color:  #f0eaf4;\n",
       "            color:  #000000;\n",
       "        }    #T_7af93906_0344_11eb_a266_7085c2a9ca7arow6_col2 {\n",
       "            background-color:  #fff7fb;\n",
       "            color:  #000000;\n",
       "        }    #T_7af93906_0344_11eb_a266_7085c2a9ca7arow6_col3 {\n",
       "            background-color:  #fff7fb;\n",
       "            color:  #000000;\n",
       "        }    #T_7af93906_0344_11eb_a266_7085c2a9ca7arow6_col4 {\n",
       "            background-color:  #fff7fb;\n",
       "            color:  #000000;\n",
       "        }    #T_7af93906_0344_11eb_a266_7085c2a9ca7arow6_col5 {\n",
       "            background-color:  #fff7fb;\n",
       "            color:  #000000;\n",
       "        }    #T_7af93906_0344_11eb_a266_7085c2a9ca7arow6_col6 {\n",
       "            background-color:  #fdf5fa;\n",
       "            color:  #000000;\n",
       "        }    #T_7af93906_0344_11eb_a266_7085c2a9ca7arow6_col7 {\n",
       "            background-color:  #ede8f3;\n",
       "            color:  #000000;\n",
       "        }    #T_7af93906_0344_11eb_a266_7085c2a9ca7arow6_col8 {\n",
       "            background-color:  #fff7fb;\n",
       "            color:  #000000;\n",
       "        }    #T_7af93906_0344_11eb_a266_7085c2a9ca7arow6_col9 {\n",
       "            background-color:  #fff7fb;\n",
       "            color:  #000000;\n",
       "        }    #T_7af93906_0344_11eb_a266_7085c2a9ca7arow6_col10 {\n",
       "            background-color:  #fff7fb;\n",
       "            color:  #000000;\n",
       "        }    #T_7af93906_0344_11eb_a266_7085c2a9ca7arow6_col11 {\n",
       "            background-color:  #fff7fb;\n",
       "            color:  #000000;\n",
       "        }    #T_7af93906_0344_11eb_a266_7085c2a9ca7arow7_col0 {\n",
       "            background-color:  #6fa7ce;\n",
       "            color:  #000000;\n",
       "        }    #T_7af93906_0344_11eb_a266_7085c2a9ca7arow7_col1 {\n",
       "            background-color:  #4a98c5;\n",
       "            color:  #000000;\n",
       "        }    #T_7af93906_0344_11eb_a266_7085c2a9ca7arow7_col2 {\n",
       "            background-color:  #d2d3e7;\n",
       "            color:  #000000;\n",
       "        }    #T_7af93906_0344_11eb_a266_7085c2a9ca7arow7_col3 {\n",
       "            background-color:  #2786bb;\n",
       "            color:  #000000;\n",
       "        }    #T_7af93906_0344_11eb_a266_7085c2a9ca7arow7_col4 {\n",
       "            background-color:  #8bb2d4;\n",
       "            color:  #000000;\n",
       "        }    #T_7af93906_0344_11eb_a266_7085c2a9ca7arow7_col5 {\n",
       "            background-color:  #69a5cc;\n",
       "            color:  #000000;\n",
       "        }    #T_7af93906_0344_11eb_a266_7085c2a9ca7arow7_col6 {\n",
       "            background-color:  #187cb6;\n",
       "            color:  #000000;\n",
       "        }    #T_7af93906_0344_11eb_a266_7085c2a9ca7arow7_col7 {\n",
       "            background-color:  #046096;\n",
       "            color:  #f1f1f1;\n",
       "        }    #T_7af93906_0344_11eb_a266_7085c2a9ca7arow7_col8 {\n",
       "            background-color:  #c4cbe3;\n",
       "            color:  #000000;\n",
       "        }    #T_7af93906_0344_11eb_a266_7085c2a9ca7arow7_col9 {\n",
       "            background-color:  #2383ba;\n",
       "            color:  #000000;\n",
       "        }    #T_7af93906_0344_11eb_a266_7085c2a9ca7arow7_col10 {\n",
       "            background-color:  #023858;\n",
       "            color:  #f1f1f1;\n",
       "        }    #T_7af93906_0344_11eb_a266_7085c2a9ca7arow7_col11 {\n",
       "            background-color:  #e2dfee;\n",
       "            color:  #000000;\n",
       "        }    #T_7af93906_0344_11eb_a266_7085c2a9ca7arow8_col0 {\n",
       "            background-color:  #7dacd1;\n",
       "            color:  #000000;\n",
       "        }    #T_7af93906_0344_11eb_a266_7085c2a9ca7arow8_col1 {\n",
       "            background-color:  #fff7fb;\n",
       "            color:  #000000;\n",
       "        }    #T_7af93906_0344_11eb_a266_7085c2a9ca7arow8_col2 {\n",
       "            background-color:  #e0dded;\n",
       "            color:  #000000;\n",
       "        }    #T_7af93906_0344_11eb_a266_7085c2a9ca7arow8_col3 {\n",
       "            background-color:  #023858;\n",
       "            color:  #f1f1f1;\n",
       "        }    #T_7af93906_0344_11eb_a266_7085c2a9ca7arow8_col4 {\n",
       "            background-color:  #73a9cf;\n",
       "            color:  #000000;\n",
       "        }    #T_7af93906_0344_11eb_a266_7085c2a9ca7arow8_col5 {\n",
       "            background-color:  #d4d4e8;\n",
       "            color:  #000000;\n",
       "        }    #T_7af93906_0344_11eb_a266_7085c2a9ca7arow8_col6 {\n",
       "            background-color:  #023858;\n",
       "            color:  #f1f1f1;\n",
       "        }    #T_7af93906_0344_11eb_a266_7085c2a9ca7arow8_col7 {\n",
       "            background-color:  #023858;\n",
       "            color:  #f1f1f1;\n",
       "        }    #T_7af93906_0344_11eb_a266_7085c2a9ca7arow8_col8 {\n",
       "            background-color:  #fff7fb;\n",
       "            color:  #000000;\n",
       "        }    #T_7af93906_0344_11eb_a266_7085c2a9ca7arow8_col9 {\n",
       "            background-color:  #67a4cc;\n",
       "            color:  #000000;\n",
       "        }    #T_7af93906_0344_11eb_a266_7085c2a9ca7arow8_col10 {\n",
       "            background-color:  #023858;\n",
       "            color:  #f1f1f1;\n",
       "        }    #T_7af93906_0344_11eb_a266_7085c2a9ca7arow8_col11 {\n",
       "            background-color:  #c1cae2;\n",
       "            color:  #000000;\n",
       "        }    #T_7af93906_0344_11eb_a266_7085c2a9ca7arow9_col0 {\n",
       "            background-color:  #023858;\n",
       "            color:  #f1f1f1;\n",
       "        }    #T_7af93906_0344_11eb_a266_7085c2a9ca7arow9_col1 {\n",
       "            background-color:  #023858;\n",
       "            color:  #f1f1f1;\n",
       "        }    #T_7af93906_0344_11eb_a266_7085c2a9ca7arow9_col2 {\n",
       "            background-color:  #023858;\n",
       "            color:  #f1f1f1;\n",
       "        }    #T_7af93906_0344_11eb_a266_7085c2a9ca7arow9_col3 {\n",
       "            background-color:  #023858;\n",
       "            color:  #f1f1f1;\n",
       "        }    #T_7af93906_0344_11eb_a266_7085c2a9ca7arow9_col4 {\n",
       "            background-color:  #023858;\n",
       "            color:  #f1f1f1;\n",
       "        }    #T_7af93906_0344_11eb_a266_7085c2a9ca7arow9_col5 {\n",
       "            background-color:  #3d93c2;\n",
       "            color:  #000000;\n",
       "        }    #T_7af93906_0344_11eb_a266_7085c2a9ca7arow9_col6 {\n",
       "            background-color:  #bfc9e1;\n",
       "            color:  #000000;\n",
       "        }    #T_7af93906_0344_11eb_a266_7085c2a9ca7arow9_col7 {\n",
       "            background-color:  #97b7d7;\n",
       "            color:  #000000;\n",
       "        }    #T_7af93906_0344_11eb_a266_7085c2a9ca7arow9_col8 {\n",
       "            background-color:  #023858;\n",
       "            color:  #f1f1f1;\n",
       "        }    #T_7af93906_0344_11eb_a266_7085c2a9ca7arow9_col9 {\n",
       "            background-color:  #1077b4;\n",
       "            color:  #f1f1f1;\n",
       "        }    #T_7af93906_0344_11eb_a266_7085c2a9ca7arow9_col10 {\n",
       "            background-color:  #023858;\n",
       "            color:  #f1f1f1;\n",
       "        }    #T_7af93906_0344_11eb_a266_7085c2a9ca7arow9_col11 {\n",
       "            background-color:  #65a3cb;\n",
       "            color:  #000000;\n",
       "        }</style><table id=\"T_7af93906_0344_11eb_a266_7085c2a9ca7a\" ><thead>    <tr>        <th class=\"blank level0\" ></th>        <th class=\"col_heading level0 col0\" >bathroomcnt</th>        <th class=\"col_heading level0 col1\" >bedroomcnt</th>        <th class=\"col_heading level0 col2\" >calculatedfinishedsquarefeet</th>        <th class=\"col_heading level0 col3\" >fireplacecnt</th>        <th class=\"col_heading level0 col4\" >fullbathcnt</th>        <th class=\"col_heading level0 col5\" >garagetotalsqft</th>        <th class=\"col_heading level0 col6\" >lotsizesquarefeet</th>        <th class=\"col_heading level0 col7\" >poolsizesum</th>        <th class=\"col_heading level0 col8\" >roomcnt</th>        <th class=\"col_heading level0 col9\" >yearbuilt</th>        <th class=\"col_heading level0 col10\" >numberofstories</th>        <th class=\"col_heading level0 col11\" >taxamount</th>    </tr>    <tr>        <th class=\"index_name level0\" >label</th>        <th class=\"blank\" ></th>        <th class=\"blank\" ></th>        <th class=\"blank\" ></th>        <th class=\"blank\" ></th>        <th class=\"blank\" ></th>        <th class=\"blank\" ></th>        <th class=\"blank\" ></th>        <th class=\"blank\" ></th>        <th class=\"blank\" ></th>        <th class=\"blank\" ></th>        <th class=\"blank\" ></th>        <th class=\"blank\" ></th>    </tr></thead><tbody>\n",
       "                <tr>\n",
       "                        <th id=\"T_7af93906_0344_11eb_a266_7085c2a9ca7alevel0_row0\" class=\"row_heading level0 row0\" >0</th>\n",
       "                        <td id=\"T_7af93906_0344_11eb_a266_7085c2a9ca7arow0_col0\" class=\"data row0 col0\" >4.500000</td>\n",
       "                        <td id=\"T_7af93906_0344_11eb_a266_7085c2a9ca7arow0_col1\" class=\"data row0 col1\" >4.083333</td>\n",
       "                        <td id=\"T_7af93906_0344_11eb_a266_7085c2a9ca7arow0_col2\" class=\"data row0 col2\" >4594.000000</td>\n",
       "                        <td id=\"T_7af93906_0344_11eb_a266_7085c2a9ca7arow0_col3\" class=\"data row0 col3\" >2.000000</td>\n",
       "                        <td id=\"T_7af93906_0344_11eb_a266_7085c2a9ca7arow0_col4\" class=\"data row0 col4\" >4.083333</td>\n",
       "                        <td id=\"T_7af93906_0344_11eb_a266_7085c2a9ca7arow0_col5\" class=\"data row0 col5\" >875.666667</td>\n",
       "                        <td id=\"T_7af93906_0344_11eb_a266_7085c2a9ca7arow0_col6\" class=\"data row0 col6\" >58822.083333</td>\n",
       "                        <td id=\"T_7af93906_0344_11eb_a266_7085c2a9ca7arow0_col7\" class=\"data row0 col7\" >595.333333</td>\n",
       "                        <td id=\"T_7af93906_0344_11eb_a266_7085c2a9ca7arow0_col8\" class=\"data row0 col8\" >9.166667</td>\n",
       "                        <td id=\"T_7af93906_0344_11eb_a266_7085c2a9ca7arow0_col9\" class=\"data row0 col9\" >1995.833333</td>\n",
       "                        <td id=\"T_7af93906_0344_11eb_a266_7085c2a9ca7arow0_col10\" class=\"data row0 col10\" >1.500000</td>\n",
       "                        <td id=\"T_7af93906_0344_11eb_a266_7085c2a9ca7arow0_col11\" class=\"data row0 col11\" >15082.486667</td>\n",
       "            </tr>\n",
       "            <tr>\n",
       "                        <th id=\"T_7af93906_0344_11eb_a266_7085c2a9ca7alevel0_row1\" class=\"row_heading level0 row1\" >1</th>\n",
       "                        <td id=\"T_7af93906_0344_11eb_a266_7085c2a9ca7arow1_col0\" class=\"data row1 col0\" >3.300000</td>\n",
       "                        <td id=\"T_7af93906_0344_11eb_a266_7085c2a9ca7arow1_col1\" class=\"data row1 col1\" >3.400000</td>\n",
       "                        <td id=\"T_7af93906_0344_11eb_a266_7085c2a9ca7arow1_col2\" class=\"data row1 col2\" >3345.800000</td>\n",
       "                        <td id=\"T_7af93906_0344_11eb_a266_7085c2a9ca7arow1_col3\" class=\"data row1 col3\" >1.200000</td>\n",
       "                        <td id=\"T_7af93906_0344_11eb_a266_7085c2a9ca7arow1_col4\" class=\"data row1 col4\" >2.800000</td>\n",
       "                        <td id=\"T_7af93906_0344_11eb_a266_7085c2a9ca7arow1_col5\" class=\"data row1 col5\" >722.600000</td>\n",
       "                        <td id=\"T_7af93906_0344_11eb_a266_7085c2a9ca7arow1_col6\" class=\"data row1 col6\" >69203.800000</td>\n",
       "                        <td id=\"T_7af93906_0344_11eb_a266_7085c2a9ca7arow1_col7\" class=\"data row1 col7\" >688.000000</td>\n",
       "                        <td id=\"T_7af93906_0344_11eb_a266_7085c2a9ca7arow1_col8\" class=\"data row1 col8\" >7.800000</td>\n",
       "                        <td id=\"T_7af93906_0344_11eb_a266_7085c2a9ca7arow1_col9\" class=\"data row1 col9\" >1980.600000</td>\n",
       "                        <td id=\"T_7af93906_0344_11eb_a266_7085c2a9ca7arow1_col10\" class=\"data row1 col10\" >1.000000</td>\n",
       "                        <td id=\"T_7af93906_0344_11eb_a266_7085c2a9ca7arow1_col11\" class=\"data row1 col11\" >14605.300000</td>\n",
       "            </tr>\n",
       "            <tr>\n",
       "                        <th id=\"T_7af93906_0344_11eb_a266_7085c2a9ca7alevel0_row2\" class=\"row_heading level0 row2\" >2</th>\n",
       "                        <td id=\"T_7af93906_0344_11eb_a266_7085c2a9ca7arow2_col0\" class=\"data row2 col0\" >3.533333</td>\n",
       "                        <td id=\"T_7af93906_0344_11eb_a266_7085c2a9ca7arow2_col1\" class=\"data row2 col1\" >4.566667</td>\n",
       "                        <td id=\"T_7af93906_0344_11eb_a266_7085c2a9ca7arow2_col2\" class=\"data row2 col2\" >3282.633333</td>\n",
       "                        <td id=\"T_7af93906_0344_11eb_a266_7085c2a9ca7arow2_col3\" class=\"data row2 col3\" >2.000000</td>\n",
       "                        <td id=\"T_7af93906_0344_11eb_a266_7085c2a9ca7arow2_col4\" class=\"data row2 col4\" >3.266667</td>\n",
       "                        <td id=\"T_7af93906_0344_11eb_a266_7085c2a9ca7arow2_col5\" class=\"data row2 col5\" >633.900000</td>\n",
       "                        <td id=\"T_7af93906_0344_11eb_a266_7085c2a9ca7arow2_col6\" class=\"data row2 col6\" >14750.533333</td>\n",
       "                        <td id=\"T_7af93906_0344_11eb_a266_7085c2a9ca7arow2_col7\" class=\"data row2 col7\" >527.600000</td>\n",
       "                        <td id=\"T_7af93906_0344_11eb_a266_7085c2a9ca7arow2_col8\" class=\"data row2 col8\" >8.866667</td>\n",
       "                        <td id=\"T_7af93906_0344_11eb_a266_7085c2a9ca7arow2_col9\" class=\"data row2 col9\" >1990.466667</td>\n",
       "                        <td id=\"T_7af93906_0344_11eb_a266_7085c2a9ca7arow2_col10\" class=\"data row2 col10\" >1.966667</td>\n",
       "                        <td id=\"T_7af93906_0344_11eb_a266_7085c2a9ca7arow2_col11\" class=\"data row2 col11\" >8883.807333</td>\n",
       "            </tr>\n",
       "            <tr>\n",
       "                        <th id=\"T_7af93906_0344_11eb_a266_7085c2a9ca7alevel0_row3\" class=\"row_heading level0 row3\" >3</th>\n",
       "                        <td id=\"T_7af93906_0344_11eb_a266_7085c2a9ca7arow3_col0\" class=\"data row3 col0\" >2.500000</td>\n",
       "                        <td id=\"T_7af93906_0344_11eb_a266_7085c2a9ca7arow3_col1\" class=\"data row3 col1\" >3.684211</td>\n",
       "                        <td id=\"T_7af93906_0344_11eb_a266_7085c2a9ca7arow3_col2\" class=\"data row3 col2\" >2261.157895</td>\n",
       "                        <td id=\"T_7af93906_0344_11eb_a266_7085c2a9ca7arow3_col3\" class=\"data row3 col3\" >1.473684</td>\n",
       "                        <td id=\"T_7af93906_0344_11eb_a266_7085c2a9ca7arow3_col4\" class=\"data row3 col4\" >2.105263</td>\n",
       "                        <td id=\"T_7af93906_0344_11eb_a266_7085c2a9ca7arow3_col5\" class=\"data row3 col5\" >536.631579</td>\n",
       "                        <td id=\"T_7af93906_0344_11eb_a266_7085c2a9ca7arow3_col6\" class=\"data row3 col6\" >10386.684211</td>\n",
       "                        <td id=\"T_7af93906_0344_11eb_a266_7085c2a9ca7arow3_col7\" class=\"data row3 col7\" >460.842105</td>\n",
       "                        <td id=\"T_7af93906_0344_11eb_a266_7085c2a9ca7arow3_col8\" class=\"data row3 col8\" >7.368421</td>\n",
       "                        <td id=\"T_7af93906_0344_11eb_a266_7085c2a9ca7arow3_col9\" class=\"data row3 col9\" >1976.000000</td>\n",
       "                        <td id=\"T_7af93906_0344_11eb_a266_7085c2a9ca7arow3_col10\" class=\"data row3 col10\" >2.000000</td>\n",
       "                        <td id=\"T_7af93906_0344_11eb_a266_7085c2a9ca7arow3_col11\" class=\"data row3 col11\" >4945.589474</td>\n",
       "            </tr>\n",
       "            <tr>\n",
       "                        <th id=\"T_7af93906_0344_11eb_a266_7085c2a9ca7alevel0_row4\" class=\"row_heading level0 row4\" >4</th>\n",
       "                        <td id=\"T_7af93906_0344_11eb_a266_7085c2a9ca7arow4_col0\" class=\"data row4 col0\" >3.000000</td>\n",
       "                        <td id=\"T_7af93906_0344_11eb_a266_7085c2a9ca7arow4_col1\" class=\"data row4 col1\" >4.333333</td>\n",
       "                        <td id=\"T_7af93906_0344_11eb_a266_7085c2a9ca7arow4_col2\" class=\"data row4 col2\" >2732.444444</td>\n",
       "                        <td id=\"T_7af93906_0344_11eb_a266_7085c2a9ca7arow4_col3\" class=\"data row4 col3\" >1.666667</td>\n",
       "                        <td id=\"T_7af93906_0344_11eb_a266_7085c2a9ca7arow4_col4\" class=\"data row4 col4\" >2.666667</td>\n",
       "                        <td id=\"T_7af93906_0344_11eb_a266_7085c2a9ca7arow4_col5\" class=\"data row4 col5\" >603.666667</td>\n",
       "                        <td id=\"T_7af93906_0344_11eb_a266_7085c2a9ca7arow4_col6\" class=\"data row4 col6\" >17618.777778</td>\n",
       "                        <td id=\"T_7af93906_0344_11eb_a266_7085c2a9ca7arow4_col7\" class=\"data row4 col7\" >534.888889</td>\n",
       "                        <td id=\"T_7af93906_0344_11eb_a266_7085c2a9ca7arow4_col8\" class=\"data row4 col8\" >8.222222</td>\n",
       "                        <td id=\"T_7af93906_0344_11eb_a266_7085c2a9ca7arow4_col9\" class=\"data row4 col9\" >1986.333333</td>\n",
       "                        <td id=\"T_7af93906_0344_11eb_a266_7085c2a9ca7arow4_col10\" class=\"data row4 col10\" >1.000000</td>\n",
       "                        <td id=\"T_7af93906_0344_11eb_a266_7085c2a9ca7arow4_col11\" class=\"data row4 col11\" >7846.440000</td>\n",
       "            </tr>\n",
       "            <tr>\n",
       "                        <th id=\"T_7af93906_0344_11eb_a266_7085c2a9ca7alevel0_row5\" class=\"row_heading level0 row5\" >5</th>\n",
       "                        <td id=\"T_7af93906_0344_11eb_a266_7085c2a9ca7arow5_col0\" class=\"data row5 col0\" >6.500000</td>\n",
       "                        <td id=\"T_7af93906_0344_11eb_a266_7085c2a9ca7arow5_col1\" class=\"data row5 col1\" >5.000000</td>\n",
       "                        <td id=\"T_7af93906_0344_11eb_a266_7085c2a9ca7arow5_col2\" class=\"data row5 col2\" >10188.000000</td>\n",
       "                        <td id=\"T_7af93906_0344_11eb_a266_7085c2a9ca7arow5_col3\" class=\"data row5 col3\" >4.000000</td>\n",
       "                        <td id=\"T_7af93906_0344_11eb_a266_7085c2a9ca7arow5_col4\" class=\"data row5 col4\" >6.000000</td>\n",
       "                        <td id=\"T_7af93906_0344_11eb_a266_7085c2a9ca7arow5_col5\" class=\"data row5 col5\" >2204.000000</td>\n",
       "                        <td id=\"T_7af93906_0344_11eb_a266_7085c2a9ca7arow5_col6\" class=\"data row5 col6\" >81022.000000</td>\n",
       "                        <td id=\"T_7af93906_0344_11eb_a266_7085c2a9ca7arow5_col7\" class=\"data row5 col7\" >800.000000</td>\n",
       "                        <td id=\"T_7af93906_0344_11eb_a266_7085c2a9ca7arow5_col8\" class=\"data row5 col8\" >12.000000</td>\n",
       "                        <td id=\"T_7af93906_0344_11eb_a266_7085c2a9ca7arow5_col9\" class=\"data row5 col9\" >2004.000000</td>\n",
       "                        <td id=\"T_7af93906_0344_11eb_a266_7085c2a9ca7arow5_col10\" class=\"data row5 col10\" >2.000000</td>\n",
       "                        <td id=\"T_7af93906_0344_11eb_a266_7085c2a9ca7arow5_col11\" class=\"data row5 col11\" >72020.940000</td>\n",
       "            </tr>\n",
       "            <tr>\n",
       "                        <th id=\"T_7af93906_0344_11eb_a266_7085c2a9ca7alevel0_row6\" class=\"row_heading level0 row6\" >6</th>\n",
       "                        <td id=\"T_7af93906_0344_11eb_a266_7085c2a9ca7arow6_col0\" class=\"data row6 col0\" >2.236842</td>\n",
       "                        <td id=\"T_7af93906_0344_11eb_a266_7085c2a9ca7arow6_col1\" class=\"data row6 col1\" >3.421053</td>\n",
       "                        <td id=\"T_7af93906_0344_11eb_a266_7085c2a9ca7arow6_col2\" class=\"data row6 col2\" >1918.157895</td>\n",
       "                        <td id=\"T_7af93906_0344_11eb_a266_7085c2a9ca7arow6_col3\" class=\"data row6 col3\" >1.052632</td>\n",
       "                        <td id=\"T_7af93906_0344_11eb_a266_7085c2a9ca7arow6_col4\" class=\"data row6 col4\" >2.000000</td>\n",
       "                        <td id=\"T_7af93906_0344_11eb_a266_7085c2a9ca7arow6_col5\" class=\"data row6 col5\" >457.315789</td>\n",
       "                        <td id=\"T_7af93906_0344_11eb_a266_7085c2a9ca7arow6_col6\" class=\"data row6 col6\" >14017.684211</td>\n",
       "                        <td id=\"T_7af93906_0344_11eb_a266_7085c2a9ca7arow6_col7\" class=\"data row6 col7\" >501.157895</td>\n",
       "                        <td id=\"T_7af93906_0344_11eb_a266_7085c2a9ca7arow6_col8\" class=\"data row6 col8\" >7.000000</td>\n",
       "                        <td id=\"T_7af93906_0344_11eb_a266_7085c2a9ca7arow6_col9\" class=\"data row6 col9\" >1968.157895</td>\n",
       "                        <td id=\"T_7af93906_0344_11eb_a266_7085c2a9ca7arow6_col10\" class=\"data row6 col10\" >1.000000</td>\n",
       "                        <td id=\"T_7af93906_0344_11eb_a266_7085c2a9ca7arow6_col11\" class=\"data row6 col11\" >4895.765263</td>\n",
       "            </tr>\n",
       "            <tr>\n",
       "                        <th id=\"T_7af93906_0344_11eb_a266_7085c2a9ca7alevel0_row7\" class=\"row_heading level0 row7\" >7</th>\n",
       "                        <td id=\"T_7af93906_0344_11eb_a266_7085c2a9ca7arow7_col0\" class=\"data row7 col0\" >5.166667</td>\n",
       "                        <td id=\"T_7af93906_0344_11eb_a266_7085c2a9ca7arow7_col1\" class=\"data row7 col1\" >5.333333</td>\n",
       "                        <td id=\"T_7af93906_0344_11eb_a266_7085c2a9ca7arow7_col2\" class=\"data row7 col2\" >5123.666667</td>\n",
       "                        <td id=\"T_7af93906_0344_11eb_a266_7085c2a9ca7arow7_col3\" class=\"data row7 col3\" >3.000000</td>\n",
       "                        <td id=\"T_7af93906_0344_11eb_a266_7085c2a9ca7arow7_col4\" class=\"data row7 col4\" >4.666667</td>\n",
       "                        <td id=\"T_7af93906_0344_11eb_a266_7085c2a9ca7arow7_col5\" class=\"data row7 col5\" >1368.333333</td>\n",
       "                        <td id=\"T_7af93906_0344_11eb_a266_7085c2a9ca7arow7_col6\" class=\"data row7 col6\" >164657.000000</td>\n",
       "                        <td id=\"T_7af93906_0344_11eb_a266_7085c2a9ca7arow7_col7\" class=\"data row7 col7\" >746.666667</td>\n",
       "                        <td id=\"T_7af93906_0344_11eb_a266_7085c2a9ca7arow7_col8\" class=\"data row7 col8\" >11.000000</td>\n",
       "                        <td id=\"T_7af93906_0344_11eb_a266_7085c2a9ca7arow7_col9\" class=\"data row7 col9\" >1992.333333</td>\n",
       "                        <td id=\"T_7af93906_0344_11eb_a266_7085c2a9ca7arow7_col10\" class=\"data row7 col10\" >2.000000</td>\n",
       "                        <td id=\"T_7af93906_0344_11eb_a266_7085c2a9ca7arow7_col11\" class=\"data row7 col11\" >16223.740000</td>\n",
       "            </tr>\n",
       "            <tr>\n",
       "                        <th id=\"T_7af93906_0344_11eb_a266_7085c2a9ca7alevel0_row8\" class=\"row_heading level0 row8\" >8</th>\n",
       "                        <td id=\"T_7af93906_0344_11eb_a266_7085c2a9ca7arow8_col0\" class=\"data row8 col0\" >5.000000</td>\n",
       "                        <td id=\"T_7af93906_0344_11eb_a266_7085c2a9ca7arow8_col1\" class=\"data row8 col1\" >3.000000</td>\n",
       "                        <td id=\"T_7af93906_0344_11eb_a266_7085c2a9ca7arow8_col2\" class=\"data row8 col2\" >4361.000000</td>\n",
       "                        <td id=\"T_7af93906_0344_11eb_a266_7085c2a9ca7arow8_col3\" class=\"data row8 col3\" >4.000000</td>\n",
       "                        <td id=\"T_7af93906_0344_11eb_a266_7085c2a9ca7arow8_col4\" class=\"data row8 col4\" >5.000000</td>\n",
       "                        <td id=\"T_7af93906_0344_11eb_a266_7085c2a9ca7arow8_col5\" class=\"data row8 col5\" >864.000000</td>\n",
       "                        <td id=\"T_7af93906_0344_11eb_a266_7085c2a9ca7arow8_col6\" class=\"data row8 col6\" >230432.000000</td>\n",
       "                        <td id=\"T_7af93906_0344_11eb_a266_7085c2a9ca7arow8_col7\" class=\"data row8 col7\" >800.000000</td>\n",
       "                        <td id=\"T_7af93906_0344_11eb_a266_7085c2a9ca7arow8_col8\" class=\"data row8 col8\" >7.000000</td>\n",
       "                        <td id=\"T_7af93906_0344_11eb_a266_7085c2a9ca7arow8_col9\" class=\"data row8 col9\" >1987.000000</td>\n",
       "                        <td id=\"T_7af93906_0344_11eb_a266_7085c2a9ca7arow8_col10\" class=\"data row8 col10\" >2.000000</td>\n",
       "                        <td id=\"T_7af93906_0344_11eb_a266_7085c2a9ca7arow8_col11\" class=\"data row8 col11\" >24757.640000</td>\n",
       "            </tr>\n",
       "            <tr>\n",
       "                        <th id=\"T_7af93906_0344_11eb_a266_7085c2a9ca7alevel0_row9\" class=\"row_heading level0 row9\" >9</th>\n",
       "                        <td id=\"T_7af93906_0344_11eb_a266_7085c2a9ca7arow9_col0\" class=\"data row9 col0\" >8.000000</td>\n",
       "                        <td id=\"T_7af93906_0344_11eb_a266_7085c2a9ca7arow9_col1\" class=\"data row9 col1\" >7.000000</td>\n",
       "                        <td id=\"T_7af93906_0344_11eb_a266_7085c2a9ca7arow9_col2\" class=\"data row9 col2\" >15279.000000</td>\n",
       "                        <td id=\"T_7af93906_0344_11eb_a266_7085c2a9ca7arow9_col3\" class=\"data row9 col3\" >4.000000</td>\n",
       "                        <td id=\"T_7af93906_0344_11eb_a266_7085c2a9ca7arow9_col4\" class=\"data row9 col4\" >8.000000</td>\n",
       "                        <td id=\"T_7af93906_0344_11eb_a266_7085c2a9ca7arow9_col5\" class=\"data row9 col5\" >1523.000000</td>\n",
       "                        <td id=\"T_7af93906_0344_11eb_a266_7085c2a9ca7arow9_col6\" class=\"data row9 col6\" >76666.000000</td>\n",
       "                        <td id=\"T_7af93906_0344_11eb_a266_7085c2a9ca7arow9_col7\" class=\"data row9 col7\" >600.000000</td>\n",
       "                        <td id=\"T_7af93906_0344_11eb_a266_7085c2a9ca7arow9_col8\" class=\"data row9 col8\" >21.000000</td>\n",
       "                        <td id=\"T_7af93906_0344_11eb_a266_7085c2a9ca7arow9_col9\" class=\"data row9 col9\" >1994.000000</td>\n",
       "                        <td id=\"T_7af93906_0344_11eb_a266_7085c2a9ca7arow9_col10\" class=\"data row9 col10\" >2.000000</td>\n",
       "                        <td id=\"T_7af93906_0344_11eb_a266_7085c2a9ca7arow9_col11\" class=\"data row9 col11\" >40354.840000</td>\n",
       "            </tr>\n",
       "    </tbody></table>"
      ],
      "text/plain": [
       "<pandas.io.formats.style.Styler at 0x1f5f4e8ac48>"
      ]
     },
     "execution_count": 18,
     "metadata": {},
     "output_type": "execute_result"
    },
    {
     "data": {
      "application/javascript": [
       "\n",
       "            setTimeout(function() {\n",
       "                var nbb_cell_id = 18;\n",
       "                var nbb_unformatted_code = \"clst_avgs = zillow_sub.groupby(\\\"label\\\").mean()\\nclst_avgs.style.background_gradient()\";\n",
       "                var nbb_formatted_code = \"clst_avgs = zillow_sub.groupby(\\\"label\\\").mean()\\nclst_avgs.style.background_gradient()\";\n",
       "                var nbb_cells = Jupyter.notebook.get_cells();\n",
       "                for (var i = 0; i < nbb_cells.length; ++i) {\n",
       "                    if (nbb_cells[i].input_prompt_number == nbb_cell_id) {\n",
       "                        if (nbb_cells[i].get_text() == nbb_unformatted_code) {\n",
       "                             nbb_cells[i].set_text(nbb_formatted_code);\n",
       "                        }\n",
       "                        break;\n",
       "                    }\n",
       "                }\n",
       "            }, 500);\n",
       "            "
      ],
      "text/plain": [
       "<IPython.core.display.Javascript object>"
      ]
     },
     "metadata": {},
     "output_type": "display_data"
    }
   ],
   "source": [
    "clst_avgs = zillow_sub.groupby(\"label\").mean()\n",
    "clst_avgs.style.background_gradient()"
   ]
  },
  {
   "cell_type": "markdown",
   "metadata": {
    "colab_type": "text",
    "id": "31YU3r06fp9i"
   },
   "source": [
    "## DBSCAN Clustering\n",
    "\n",
    "Links:\n",
    "* [A cool demo animation](https://www.youtube.com/watch?v=h53WMIImUuc&feature=youtu.be&t=2)\n",
    "* [Video to try and slow down and discuss the process shown in the animation animation](https://drive.google.com/file/d/1qXsccjEWXYUi1SNJQWRCNrySegjWjnPN/view?usp=sharing)"
   ]
  },
  {
   "cell_type": "markdown",
   "metadata": {
    "colab_type": "text",
    "id": "Y0rnvLQvmEOI"
   },
   "source": [
    "Perform clustering with [`sklearn.cluster.DBSCAN`](https://scikit-learn.org/stable/modules/generated/sklearn.cluster.DBSCAN.html)."
   ]
  },
  {
   "cell_type": "code",
   "execution_count": 19,
   "metadata": {},
   "outputs": [
    {
     "data": {
      "text/plain": [
       "DBSCAN(algorithm='auto', eps=0.5, leaf_size=30, metric='precomputed',\n",
       "       metric_params=None, min_samples=5, n_jobs=None, p=None)"
      ]
     },
     "execution_count": 19,
     "metadata": {},
     "output_type": "execute_result"
    },
    {
     "data": {
      "application/javascript": [
       "\n",
       "            setTimeout(function() {\n",
       "                var nbb_cell_id = 19;\n",
       "                var nbb_unformatted_code = \"clst = DBSCAN(metric=\\\"precomputed\\\")\\nclst.fit(dist_mat_df)\";\n",
       "                var nbb_formatted_code = \"clst = DBSCAN(metric=\\\"precomputed\\\")\\nclst.fit(dist_mat_df)\";\n",
       "                var nbb_cells = Jupyter.notebook.get_cells();\n",
       "                for (var i = 0; i < nbb_cells.length; ++i) {\n",
       "                    if (nbb_cells[i].input_prompt_number == nbb_cell_id) {\n",
       "                        if (nbb_cells[i].get_text() == nbb_unformatted_code) {\n",
       "                             nbb_cells[i].set_text(nbb_formatted_code);\n",
       "                        }\n",
       "                        break;\n",
       "                    }\n",
       "                }\n",
       "            }, 500);\n",
       "            "
      ],
      "text/plain": [
       "<IPython.core.display.Javascript object>"
      ]
     },
     "metadata": {},
     "output_type": "display_data"
    }
   ],
   "source": [
    "clst = DBSCAN(metric=\"precomputed\")\n",
    "clst.fit(dist_mat_df)"
   ]
  },
  {
   "cell_type": "code",
   "execution_count": 20,
   "metadata": {
    "colab": {
     "base_uri": "https://localhost:8080/",
     "height": 51
    },
    "colab_type": "code",
    "id": "Uq8aembmd2MC",
    "outputId": "54160fed-d335-47ca-b4d6-717ba45db663"
   },
   "outputs": [
    {
     "data": {
      "text/plain": [
       "DBSCAN(algorithm='auto', eps=1.5, leaf_size=30, metric='euclidean',\n",
       "       metric_params=None, min_samples=5, n_jobs=None, p=None)"
      ]
     },
     "execution_count": 20,
     "metadata": {},
     "output_type": "execute_result"
    },
    {
     "data": {
      "application/javascript": [
       "\n",
       "            setTimeout(function() {\n",
       "                var nbb_cell_id = 20;\n",
       "                var nbb_unformatted_code = \"clst = DBSCAN(eps=1.5, metric=\\\"euclidean\\\", min_samples=5)\\nclst.fit(scaled_df)\";\n",
       "                var nbb_formatted_code = \"clst = DBSCAN(eps=1.5, metric=\\\"euclidean\\\", min_samples=5)\\nclst.fit(scaled_df)\";\n",
       "                var nbb_cells = Jupyter.notebook.get_cells();\n",
       "                for (var i = 0; i < nbb_cells.length; ++i) {\n",
       "                    if (nbb_cells[i].input_prompt_number == nbb_cell_id) {\n",
       "                        if (nbb_cells[i].get_text() == nbb_unformatted_code) {\n",
       "                             nbb_cells[i].set_text(nbb_formatted_code);\n",
       "                        }\n",
       "                        break;\n",
       "                    }\n",
       "                }\n",
       "            }, 500);\n",
       "            "
      ],
      "text/plain": [
       "<IPython.core.display.Javascript object>"
      ]
     },
     "metadata": {},
     "output_type": "display_data"
    }
   ],
   "source": [
    "clst = DBSCAN(eps=1.5, metric=\"euclidean\", min_samples=5)\n",
    "clst.fit(scaled_df)"
   ]
  },
  {
   "cell_type": "code",
   "execution_count": 21,
   "metadata": {
    "colab": {},
    "colab_type": "code",
    "id": "GaKLFy69gXMy",
    "scrolled": true
   },
   "outputs": [
    {
     "data": {
      "text/plain": [
       "-1    64\n",
       " 0    17\n",
       " 1    14\n",
       " 2     5\n",
       "dtype: int64"
      ]
     },
     "execution_count": 21,
     "metadata": {},
     "output_type": "execute_result"
    },
    {
     "data": {
      "application/javascript": [
       "\n",
       "            setTimeout(function() {\n",
       "                var nbb_cell_id = 21;\n",
       "                var nbb_unformatted_code = \"pd.Series(clst.labels_).value_counts()\";\n",
       "                var nbb_formatted_code = \"pd.Series(clst.labels_).value_counts()\";\n",
       "                var nbb_cells = Jupyter.notebook.get_cells();\n",
       "                for (var i = 0; i < nbb_cells.length; ++i) {\n",
       "                    if (nbb_cells[i].input_prompt_number == nbb_cell_id) {\n",
       "                        if (nbb_cells[i].get_text() == nbb_unformatted_code) {\n",
       "                             nbb_cells[i].set_text(nbb_formatted_code);\n",
       "                        }\n",
       "                        break;\n",
       "                    }\n",
       "                }\n",
       "            }, 500);\n",
       "            "
      ],
      "text/plain": [
       "<IPython.core.display.Javascript object>"
      ]
     },
     "metadata": {},
     "output_type": "display_data"
    }
   ],
   "source": [
    "pd.Series(clst.labels_).value_counts()"
   ]
  },
  {
   "cell_type": "code",
   "execution_count": 22,
   "metadata": {
    "scrolled": true
   },
   "outputs": [
    {
     "data": {
      "text/plain": [
       "-1    64\n",
       " 0    17\n",
       " 1    14\n",
       " 2     5\n",
       "Name: label, dtype: int64"
      ]
     },
     "execution_count": 22,
     "metadata": {},
     "output_type": "execute_result"
    },
    {
     "data": {
      "application/javascript": [
       "\n",
       "            setTimeout(function() {\n",
       "                var nbb_cell_id = 22;\n",
       "                var nbb_unformatted_code = \"zillow_sub[\\\"label\\\"] = clst.labels_\\nzillow_sub[\\\"label\\\"].value_counts()\";\n",
       "                var nbb_formatted_code = \"zillow_sub[\\\"label\\\"] = clst.labels_\\nzillow_sub[\\\"label\\\"].value_counts()\";\n",
       "                var nbb_cells = Jupyter.notebook.get_cells();\n",
       "                for (var i = 0; i < nbb_cells.length; ++i) {\n",
       "                    if (nbb_cells[i].input_prompt_number == nbb_cell_id) {\n",
       "                        if (nbb_cells[i].get_text() == nbb_unformatted_code) {\n",
       "                             nbb_cells[i].set_text(nbb_formatted_code);\n",
       "                        }\n",
       "                        break;\n",
       "                    }\n",
       "                }\n",
       "            }, 500);\n",
       "            "
      ],
      "text/plain": [
       "<IPython.core.display.Javascript object>"
      ]
     },
     "metadata": {},
     "output_type": "display_data"
    }
   ],
   "source": [
    "zillow_sub[\"label\"] = clst.labels_\n",
    "zillow_sub[\"label\"].value_counts()"
   ]
  },
  {
   "cell_type": "code",
   "execution_count": 23,
   "metadata": {},
   "outputs": [
    {
     "data": {
      "text/html": [
       "<style  type=\"text/css\" >\n",
       "    #T_7bb428cc_0344_11eb_a71e_7085c2a9ca7arow0_col0 {\n",
       "            background-color:  #023858;\n",
       "            color:  #f1f1f1;\n",
       "        }    #T_7bb428cc_0344_11eb_a71e_7085c2a9ca7arow0_col1 {\n",
       "            background-color:  #91b5d6;\n",
       "            color:  #000000;\n",
       "        }    #T_7bb428cc_0344_11eb_a71e_7085c2a9ca7arow0_col2 {\n",
       "            background-color:  #023858;\n",
       "            color:  #f1f1f1;\n",
       "        }    #T_7bb428cc_0344_11eb_a71e_7085c2a9ca7arow0_col3 {\n",
       "            background-color:  #023858;\n",
       "            color:  #f1f1f1;\n",
       "        }    #T_7bb428cc_0344_11eb_a71e_7085c2a9ca7arow0_col4 {\n",
       "            background-color:  #023858;\n",
       "            color:  #f1f1f1;\n",
       "        }    #T_7bb428cc_0344_11eb_a71e_7085c2a9ca7arow0_col5 {\n",
       "            background-color:  #023858;\n",
       "            color:  #f1f1f1;\n",
       "        }    #T_7bb428cc_0344_11eb_a71e_7085c2a9ca7arow0_col6 {\n",
       "            background-color:  #023858;\n",
       "            color:  #f1f1f1;\n",
       "        }    #T_7bb428cc_0344_11eb_a71e_7085c2a9ca7arow0_col7 {\n",
       "            background-color:  #023858;\n",
       "            color:  #f1f1f1;\n",
       "        }    #T_7bb428cc_0344_11eb_a71e_7085c2a9ca7arow0_col8 {\n",
       "            background-color:  #157ab5;\n",
       "            color:  #000000;\n",
       "        }    #T_7bb428cc_0344_11eb_a71e_7085c2a9ca7arow0_col9 {\n",
       "            background-color:  #034369;\n",
       "            color:  #f1f1f1;\n",
       "        }    #T_7bb428cc_0344_11eb_a71e_7085c2a9ca7arow0_col10 {\n",
       "            background-color:  #2f8bbe;\n",
       "            color:  #000000;\n",
       "        }    #T_7bb428cc_0344_11eb_a71e_7085c2a9ca7arow0_col11 {\n",
       "            background-color:  #023858;\n",
       "            color:  #f1f1f1;\n",
       "        }    #T_7bb428cc_0344_11eb_a71e_7085c2a9ca7arow1_col0 {\n",
       "            background-color:  #fff7fb;\n",
       "            color:  #000000;\n",
       "        }    #T_7bb428cc_0344_11eb_a71e_7085c2a9ca7arow1_col1 {\n",
       "            background-color:  #fff7fb;\n",
       "            color:  #000000;\n",
       "        }    #T_7bb428cc_0344_11eb_a71e_7085c2a9ca7arow1_col2 {\n",
       "            background-color:  #fff7fb;\n",
       "            color:  #000000;\n",
       "        }    #T_7bb428cc_0344_11eb_a71e_7085c2a9ca7arow1_col3 {\n",
       "            background-color:  #fff7fb;\n",
       "            color:  #000000;\n",
       "        }    #T_7bb428cc_0344_11eb_a71e_7085c2a9ca7arow1_col4 {\n",
       "            background-color:  #fff7fb;\n",
       "            color:  #000000;\n",
       "        }    #T_7bb428cc_0344_11eb_a71e_7085c2a9ca7arow1_col5 {\n",
       "            background-color:  #fff7fb;\n",
       "            color:  #000000;\n",
       "        }    #T_7bb428cc_0344_11eb_a71e_7085c2a9ca7arow1_col6 {\n",
       "            background-color:  #dfddec;\n",
       "            color:  #000000;\n",
       "        }    #T_7bb428cc_0344_11eb_a71e_7085c2a9ca7arow1_col7 {\n",
       "            background-color:  #b3c3de;\n",
       "            color:  #000000;\n",
       "        }    #T_7bb428cc_0344_11eb_a71e_7085c2a9ca7arow1_col8 {\n",
       "            background-color:  #fff7fb;\n",
       "            color:  #000000;\n",
       "        }    #T_7bb428cc_0344_11eb_a71e_7085c2a9ca7arow1_col9 {\n",
       "            background-color:  #fff7fb;\n",
       "            color:  #000000;\n",
       "        }    #T_7bb428cc_0344_11eb_a71e_7085c2a9ca7arow1_col10 {\n",
       "            background-color:  #fff7fb;\n",
       "            color:  #000000;\n",
       "        }    #T_7bb428cc_0344_11eb_a71e_7085c2a9ca7arow1_col11 {\n",
       "            background-color:  #fff7fb;\n",
       "            color:  #000000;\n",
       "        }    #T_7bb428cc_0344_11eb_a71e_7085c2a9ca7arow2_col0 {\n",
       "            background-color:  #e8e4f0;\n",
       "            color:  #000000;\n",
       "        }    #T_7bb428cc_0344_11eb_a71e_7085c2a9ca7arow2_col1 {\n",
       "            background-color:  #a8bedc;\n",
       "            color:  #000000;\n",
       "        }    #T_7bb428cc_0344_11eb_a71e_7085c2a9ca7arow2_col2 {\n",
       "            background-color:  #dddbec;\n",
       "            color:  #000000;\n",
       "        }    #T_7bb428cc_0344_11eb_a71e_7085c2a9ca7arow2_col3 {\n",
       "            background-color:  #eae6f1;\n",
       "            color:  #000000;\n",
       "        }    #T_7bb428cc_0344_11eb_a71e_7085c2a9ca7arow2_col4 {\n",
       "            background-color:  #f5eff6;\n",
       "            color:  #000000;\n",
       "        }    #T_7bb428cc_0344_11eb_a71e_7085c2a9ca7arow2_col5 {\n",
       "            background-color:  #dad9ea;\n",
       "            color:  #000000;\n",
       "        }    #T_7bb428cc_0344_11eb_a71e_7085c2a9ca7arow2_col6 {\n",
       "            background-color:  #fff7fb;\n",
       "            color:  #000000;\n",
       "        }    #T_7bb428cc_0344_11eb_a71e_7085c2a9ca7arow2_col7 {\n",
       "            background-color:  #fff7fb;\n",
       "            color:  #000000;\n",
       "        }    #T_7bb428cc_0344_11eb_a71e_7085c2a9ca7arow2_col8 {\n",
       "            background-color:  #cdd0e5;\n",
       "            color:  #000000;\n",
       "        }    #T_7bb428cc_0344_11eb_a71e_7085c2a9ca7arow2_col9 {\n",
       "            background-color:  #abbfdc;\n",
       "            color:  #000000;\n",
       "        }    #T_7bb428cc_0344_11eb_a71e_7085c2a9ca7arow2_col10 {\n",
       "            background-color:  #023858;\n",
       "            color:  #f1f1f1;\n",
       "        }    #T_7bb428cc_0344_11eb_a71e_7085c2a9ca7arow2_col11 {\n",
       "            background-color:  #f6eff7;\n",
       "            color:  #000000;\n",
       "        }    #T_7bb428cc_0344_11eb_a71e_7085c2a9ca7arow3_col0 {\n",
       "            background-color:  #569dc8;\n",
       "            color:  #000000;\n",
       "        }    #T_7bb428cc_0344_11eb_a71e_7085c2a9ca7arow3_col1 {\n",
       "            background-color:  #023858;\n",
       "            color:  #f1f1f1;\n",
       "        }    #T_7bb428cc_0344_11eb_a71e_7085c2a9ca7arow3_col2 {\n",
       "            background-color:  #056ead;\n",
       "            color:  #f1f1f1;\n",
       "        }    #T_7bb428cc_0344_11eb_a71e_7085c2a9ca7arow3_col3 {\n",
       "            background-color:  #03446a;\n",
       "            color:  #f1f1f1;\n",
       "        }    #T_7bb428cc_0344_11eb_a71e_7085c2a9ca7arow3_col4 {\n",
       "            background-color:  #1278b4;\n",
       "            color:  #f1f1f1;\n",
       "        }    #T_7bb428cc_0344_11eb_a71e_7085c2a9ca7arow3_col5 {\n",
       "            background-color:  #78abd0;\n",
       "            color:  #000000;\n",
       "        }    #T_7bb428cc_0344_11eb_a71e_7085c2a9ca7arow3_col6 {\n",
       "            background-color:  #adc1dd;\n",
       "            color:  #000000;\n",
       "        }    #T_7bb428cc_0344_11eb_a71e_7085c2a9ca7arow3_col7 {\n",
       "            background-color:  #6da6cd;\n",
       "            color:  #000000;\n",
       "        }    #T_7bb428cc_0344_11eb_a71e_7085c2a9ca7arow3_col8 {\n",
       "            background-color:  #023858;\n",
       "            color:  #f1f1f1;\n",
       "        }    #T_7bb428cc_0344_11eb_a71e_7085c2a9ca7arow3_col9 {\n",
       "            background-color:  #023858;\n",
       "            color:  #f1f1f1;\n",
       "        }    #T_7bb428cc_0344_11eb_a71e_7085c2a9ca7arow3_col10 {\n",
       "            background-color:  #023858;\n",
       "            color:  #f1f1f1;\n",
       "        }    #T_7bb428cc_0344_11eb_a71e_7085c2a9ca7arow3_col11 {\n",
       "            background-color:  #1077b4;\n",
       "            color:  #f1f1f1;\n",
       "        }</style><table id=\"T_7bb428cc_0344_11eb_a71e_7085c2a9ca7a\" ><thead>    <tr>        <th class=\"blank level0\" ></th>        <th class=\"col_heading level0 col0\" >bathroomcnt</th>        <th class=\"col_heading level0 col1\" >bedroomcnt</th>        <th class=\"col_heading level0 col2\" >calculatedfinishedsquarefeet</th>        <th class=\"col_heading level0 col3\" >fireplacecnt</th>        <th class=\"col_heading level0 col4\" >fullbathcnt</th>        <th class=\"col_heading level0 col5\" >garagetotalsqft</th>        <th class=\"col_heading level0 col6\" >lotsizesquarefeet</th>        <th class=\"col_heading level0 col7\" >poolsizesum</th>        <th class=\"col_heading level0 col8\" >roomcnt</th>        <th class=\"col_heading level0 col9\" >yearbuilt</th>        <th class=\"col_heading level0 col10\" >numberofstories</th>        <th class=\"col_heading level0 col11\" >taxamount</th>    </tr>    <tr>        <th class=\"index_name level0\" >label</th>        <th class=\"blank\" ></th>        <th class=\"blank\" ></th>        <th class=\"blank\" ></th>        <th class=\"blank\" ></th>        <th class=\"blank\" ></th>        <th class=\"blank\" ></th>        <th class=\"blank\" ></th>        <th class=\"blank\" ></th>        <th class=\"blank\" ></th>        <th class=\"blank\" ></th>        <th class=\"blank\" ></th>        <th class=\"blank\" ></th>    </tr></thead><tbody>\n",
       "                <tr>\n",
       "                        <th id=\"T_7bb428cc_0344_11eb_a71e_7085c2a9ca7alevel0_row0\" class=\"row_heading level0 row0\" >-1</th>\n",
       "                        <td id=\"T_7bb428cc_0344_11eb_a71e_7085c2a9ca7arow0_col0\" class=\"data row0 col0\" >3.734375</td>\n",
       "                        <td id=\"T_7bb428cc_0344_11eb_a71e_7085c2a9ca7arow0_col1\" class=\"data row0 col1\" >4.156250</td>\n",
       "                        <td id=\"T_7bb428cc_0344_11eb_a71e_7085c2a9ca7arow0_col2\" class=\"data row0 col2\" >3735.578125</td>\n",
       "                        <td id=\"T_7bb428cc_0344_11eb_a71e_7085c2a9ca7arow0_col3\" class=\"data row0 col3\" >2.046875</td>\n",
       "                        <td id=\"T_7bb428cc_0344_11eb_a71e_7085c2a9ca7arow0_col4\" class=\"data row0 col4\" >3.375000</td>\n",
       "                        <td id=\"T_7bb428cc_0344_11eb_a71e_7085c2a9ca7arow0_col5\" class=\"data row0 col5\" >750.296875</td>\n",
       "                        <td id=\"T_7bb428cc_0344_11eb_a71e_7085c2a9ca7arow0_col6\" class=\"data row0 col6\" >39553.078125</td>\n",
       "                        <td id=\"T_7bb428cc_0344_11eb_a71e_7085c2a9ca7arow0_col7\" class=\"data row0 col7\" >562.546875</td>\n",
       "                        <td id=\"T_7bb428cc_0344_11eb_a71e_7085c2a9ca7arow0_col8\" class=\"data row0 col8\" >8.734375</td>\n",
       "                        <td id=\"T_7bb428cc_0344_11eb_a71e_7085c2a9ca7arow0_col9\" class=\"data row0 col9\" >1988.531250</td>\n",
       "                        <td id=\"T_7bb428cc_0344_11eb_a71e_7085c2a9ca7arow0_col10\" class=\"data row0 col10\" >1.640625</td>\n",
       "                        <td id=\"T_7bb428cc_0344_11eb_a71e_7085c2a9ca7arow0_col11\" class=\"data row0 col11\" >11917.768438</td>\n",
       "            </tr>\n",
       "            <tr>\n",
       "                        <th id=\"T_7bb428cc_0344_11eb_a71e_7085c2a9ca7alevel0_row1\" class=\"row_heading level0 row1\" >0</th>\n",
       "                        <td id=\"T_7bb428cc_0344_11eb_a71e_7085c2a9ca7arow1_col0\" class=\"data row1 col0\" >2.294118</td>\n",
       "                        <td id=\"T_7bb428cc_0344_11eb_a71e_7085c2a9ca7arow1_col1\" class=\"data row1 col1\" >3.529412</td>\n",
       "                        <td id=\"T_7bb428cc_0344_11eb_a71e_7085c2a9ca7arow1_col2\" class=\"data row1 col2\" >1902.941176</td>\n",
       "                        <td id=\"T_7bb428cc_0344_11eb_a71e_7085c2a9ca7arow1_col3\" class=\"data row1 col3\" >1.000000</td>\n",
       "                        <td id=\"T_7bb428cc_0344_11eb_a71e_7085c2a9ca7arow1_col4\" class=\"data row1 col4\" >2.058824</td>\n",
       "                        <td id=\"T_7bb428cc_0344_11eb_a71e_7085c2a9ca7arow1_col5\" class=\"data row1 col5\" >460.823529</td>\n",
       "                        <td id=\"T_7bb428cc_0344_11eb_a71e_7085c2a9ca7arow1_col6\" class=\"data row1 col6\" >14505.588235</td>\n",
       "                        <td id=\"T_7bb428cc_0344_11eb_a71e_7085c2a9ca7arow1_col7\" class=\"data row1 col7\" >507.352941</td>\n",
       "                        <td id=\"T_7bb428cc_0344_11eb_a71e_7085c2a9ca7arow1_col8\" class=\"data row1 col8\" >7.117647</td>\n",
       "                        <td id=\"T_7bb428cc_0344_11eb_a71e_7085c2a9ca7arow1_col9\" class=\"data row1 col9\" >1968.588235</td>\n",
       "                        <td id=\"T_7bb428cc_0344_11eb_a71e_7085c2a9ca7arow1_col10\" class=\"data row1 col10\" >1.000000</td>\n",
       "                        <td id=\"T_7bb428cc_0344_11eb_a71e_7085c2a9ca7arow1_col11\" class=\"data row1 col11\" >4691.009412</td>\n",
       "            </tr>\n",
       "            <tr>\n",
       "                        <th id=\"T_7bb428cc_0344_11eb_a71e_7085c2a9ca7alevel0_row2\" class=\"row_heading level0 row2\" >1</th>\n",
       "                        <td id=\"T_7bb428cc_0344_11eb_a71e_7085c2a9ca7arow2_col0\" class=\"data row2 col0\" >2.500000</td>\n",
       "                        <td id=\"T_7bb428cc_0344_11eb_a71e_7085c2a9ca7arow2_col1\" class=\"data row2 col1\" >4.071429</td>\n",
       "                        <td id=\"T_7bb428cc_0344_11eb_a71e_7085c2a9ca7arow2_col2\" class=\"data row2 col2\" >2259.714286</td>\n",
       "                        <td id=\"T_7bb428cc_0344_11eb_a71e_7085c2a9ca7arow2_col3\" class=\"data row2 col3\" >1.142857</td>\n",
       "                        <td id=\"T_7bb428cc_0344_11eb_a71e_7085c2a9ca7arow2_col4\" class=\"data row2 col4\" >2.142857</td>\n",
       "                        <td id=\"T_7bb428cc_0344_11eb_a71e_7085c2a9ca7arow2_col5\" class=\"data row2 col5\" >520.428571</td>\n",
       "                        <td id=\"T_7bb428cc_0344_11eb_a71e_7085c2a9ca7arow2_col6\" class=\"data row2 col6\" >8736.000000</td>\n",
       "                        <td id=\"T_7bb428cc_0344_11eb_a71e_7085c2a9ca7arow2_col7\" class=\"data row2 col7\" >479.071429</td>\n",
       "                        <td id=\"T_7bb428cc_0344_11eb_a71e_7085c2a9ca7arow2_col8\" class=\"data row2 col8\" >7.714286</td>\n",
       "                        <td id=\"T_7bb428cc_0344_11eb_a71e_7085c2a9ca7arow2_col9\" class=\"data row2 col9\" >1976.142857</td>\n",
       "                        <td id=\"T_7bb428cc_0344_11eb_a71e_7085c2a9ca7arow2_col10\" class=\"data row2 col10\" >2.000000</td>\n",
       "                        <td id=\"T_7bb428cc_0344_11eb_a71e_7085c2a9ca7arow2_col11\" class=\"data row2 col11\" >5135.968571</td>\n",
       "            </tr>\n",
       "            <tr>\n",
       "                        <th id=\"T_7bb428cc_0344_11eb_a71e_7085c2a9ca7alevel0_row3\" class=\"row_heading level0 row3\" >2</th>\n",
       "                        <td id=\"T_7bb428cc_0344_11eb_a71e_7085c2a9ca7arow3_col0\" class=\"data row3 col0\" >3.100000</td>\n",
       "                        <td id=\"T_7bb428cc_0344_11eb_a71e_7085c2a9ca7arow3_col1\" class=\"data row3 col1\" >5.000000</td>\n",
       "                        <td id=\"T_7bb428cc_0344_11eb_a71e_7085c2a9ca7arow3_col2\" class=\"data row3 col2\" >3294.200000</td>\n",
       "                        <td id=\"T_7bb428cc_0344_11eb_a71e_7085c2a9ca7arow3_col3\" class=\"data row3 col3\" >2.000000</td>\n",
       "                        <td id=\"T_7bb428cc_0344_11eb_a71e_7085c2a9ca7arow3_col4\" class=\"data row3 col4\" >3.000000</td>\n",
       "                        <td id=\"T_7bb428cc_0344_11eb_a71e_7085c2a9ca7arow3_col5\" class=\"data row3 col5\" >602.600000</td>\n",
       "                        <td id=\"T_7bb428cc_0344_11eb_a71e_7085c2a9ca7arow3_col6\" class=\"data row3 col6\" >19689.400000</td>\n",
       "                        <td id=\"T_7bb428cc_0344_11eb_a71e_7085c2a9ca7arow3_col7\" class=\"data row3 col7\" >521.800000</td>\n",
       "                        <td id=\"T_7bb428cc_0344_11eb_a71e_7085c2a9ca7arow3_col8\" class=\"data row3 col8\" >9.400000</td>\n",
       "                        <td id=\"T_7bb428cc_0344_11eb_a71e_7085c2a9ca7arow3_col9\" class=\"data row3 col9\" >1989.400000</td>\n",
       "                        <td id=\"T_7bb428cc_0344_11eb_a71e_7085c2a9ca7arow3_col10\" class=\"data row3 col10\" >2.000000</td>\n",
       "                        <td id=\"T_7bb428cc_0344_11eb_a71e_7085c2a9ca7arow3_col11\" class=\"data row3 col11\" >9910.200000</td>\n",
       "            </tr>\n",
       "    </tbody></table>"
      ],
      "text/plain": [
       "<pandas.io.formats.style.Styler at 0x1f5f4f8a5c8>"
      ]
     },
     "execution_count": 23,
     "metadata": {},
     "output_type": "execute_result"
    },
    {
     "data": {
      "application/javascript": [
       "\n",
       "            setTimeout(function() {\n",
       "                var nbb_cell_id = 23;\n",
       "                var nbb_unformatted_code = \"clst_avgs = zillow_sub.groupby(\\\"label\\\").mean()\\nclst_avgs.style.background_gradient()\";\n",
       "                var nbb_formatted_code = \"clst_avgs = zillow_sub.groupby(\\\"label\\\").mean()\\nclst_avgs.style.background_gradient()\";\n",
       "                var nbb_cells = Jupyter.notebook.get_cells();\n",
       "                for (var i = 0; i < nbb_cells.length; ++i) {\n",
       "                    if (nbb_cells[i].input_prompt_number == nbb_cell_id) {\n",
       "                        if (nbb_cells[i].get_text() == nbb_unformatted_code) {\n",
       "                             nbb_cells[i].set_text(nbb_formatted_code);\n",
       "                        }\n",
       "                        break;\n",
       "                    }\n",
       "                }\n",
       "            }, 500);\n",
       "            "
      ],
      "text/plain": [
       "<IPython.core.display.Javascript object>"
      ]
     },
     "metadata": {},
     "output_type": "display_data"
    }
   ],
   "source": [
    "clst_avgs = zillow_sub.groupby(\"label\").mean()\n",
    "clst_avgs.style.background_gradient()"
   ]
  },
  {
   "cell_type": "markdown",
   "metadata": {
    "colab_type": "text",
    "id": "EEPF55HamK2m"
   },
   "source": [
    "Assign the labels to the dataframe"
   ]
  },
  {
   "cell_type": "markdown",
   "metadata": {
    "colab_type": "text",
    "id": "-3XraG3UmVEA"
   },
   "source": [
    "Perform clustering with DBSCAN using the distance matrix (with the same `eps` and `min_samples`."
   ]
  },
  {
   "cell_type": "code",
   "execution_count": null,
   "metadata": {
    "colab": {
     "base_uri": "https://localhost:8080/",
     "height": 51
    },
    "colab_type": "code",
    "id": "-yLUZrp8mZeh",
    "outputId": "a6068aba-79d8-442c-b362-8949d89d7b26"
   },
   "outputs": [],
   "source": []
  },
  {
   "cell_type": "markdown",
   "metadata": {
    "colab_type": "text",
    "id": "7xeAZn6pmaTR"
   },
   "source": [
    "Confirm you get the same results"
   ]
  },
  {
   "cell_type": "code",
   "execution_count": null,
   "metadata": {
    "colab": {},
    "colab_type": "code",
    "id": "jcejCrMymhFu"
   },
   "outputs": [],
   "source": []
  },
  {
   "cell_type": "markdown",
   "metadata": {
    "colab_type": "text",
    "id": "plzprhoPmhZP"
   },
   "source": [
    "Interpret the clusters"
   ]
  },
  {
   "cell_type": "code",
   "execution_count": null,
   "metadata": {
    "colab": {
     "base_uri": "https://localhost:8080/",
     "height": 204
    },
    "colab_type": "code",
    "id": "AbWifg-1gflL",
    "outputId": "c96feb38-5490-4b41-a723-9c892f9bf602"
   },
   "outputs": [],
   "source": []
  },
  {
   "cell_type": "markdown",
   "metadata": {},
   "source": [
    "Change the values of `eps` and `min_samples` and repeat the analysis."
   ]
  }
 ],
 "metadata": {
  "colab": {
   "collapsed_sections": [],
   "name": "Copy of zillow_clustering.ipynb",
   "provenance": []
  },
  "kernelspec": {
   "display_name": "Python 3",
   "language": "python",
   "name": "python3"
  },
  "language_info": {
   "codemirror_mode": {
    "name": "ipython",
    "version": 3
   },
   "file_extension": ".py",
   "mimetype": "text/x-python",
   "name": "python",
   "nbconvert_exporter": "python",
   "pygments_lexer": "ipython3",
   "version": "3.7.6"
  }
 },
 "nbformat": 4,
 "nbformat_minor": 1
}
