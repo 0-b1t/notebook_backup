{
 "cells": [
  {
   "cell_type": "code",
   "execution_count": 1,
   "metadata": {
    "hideCode": true,
    "hidePrompt": true,
    "scrolled": true
   },
   "outputs": [
    {
     "data": {
      "application/javascript": [
       "\n",
       "            setTimeout(function() {\n",
       "                var nbb_cell_id = 1;\n",
       "                var nbb_unformatted_code = \"%reload_ext nb_black\";\n",
       "                var nbb_formatted_code = \"%reload_ext nb_black\";\n",
       "                var nbb_cells = Jupyter.notebook.get_cells();\n",
       "                for (var i = 0; i < nbb_cells.length; ++i) {\n",
       "                    if (nbb_cells[i].input_prompt_number == nbb_cell_id) {\n",
       "                        if (nbb_cells[i].get_text() == nbb_unformatted_code) {\n",
       "                             nbb_cells[i].set_text(nbb_formatted_code);\n",
       "                        }\n",
       "                        break;\n",
       "                    }\n",
       "                }\n",
       "            }, 500);\n",
       "            "
      ],
      "text/plain": [
       "<IPython.core.display.Javascript object>"
      ]
     },
     "metadata": {},
     "output_type": "display_data"
    }
   ],
   "source": [
    "%reload_ext nb_black"
   ]
  },
  {
   "cell_type": "markdown",
   "metadata": {
    "hideCode": true,
    "hidePrompt": true
   },
   "source": [
    "# Heirarchical Clustering Step by Step\n",
    "\n",
    "----\n",
    "\n",
    "The focus here isn't on the code but the concepts behind the clustering method.\n",
    "\n",
    "If viewing this in Jupyter, toggle off the code cells so they're hidden.  To do this toggling, you can click in the margin of the notebook and then press the <kbd>T</kbd> key on your keyboard.\n",
    "\n",
    "----"
   ]
  },
  {
   "cell_type": "code",
   "execution_count": 2,
   "metadata": {
    "hideCode": true,
    "hidePrompt": true
   },
   "outputs": [
    {
     "data": {
      "application/javascript": [
       "\n",
       "            setTimeout(function() {\n",
       "                var nbb_cell_id = 2;\n",
       "                var nbb_unformatted_code = \"from IPython.display import display_html\\n\\nimport numpy as np\\nimport pandas as pd\\n\\nfrom scipy.cluster import hierarchy\\nfrom scipy.cluster.hierarchy import dendrogram\\nfrom scipy.spatial.distance import pdist, squareform\\n\\nimport seaborn as sns\\nimport matplotlib.pyplot as plt\\n\\nfrom heir_demo_utils import label_scatter, dist_mat_to_tall, merge_closest_pair\\n\\n%matplotlib inline\";\n",
       "                var nbb_formatted_code = \"from IPython.display import display_html\\n\\nimport numpy as np\\nimport pandas as pd\\n\\nfrom scipy.cluster import hierarchy\\nfrom scipy.cluster.hierarchy import dendrogram\\nfrom scipy.spatial.distance import pdist, squareform\\n\\nimport seaborn as sns\\nimport matplotlib.pyplot as plt\\n\\nfrom heir_demo_utils import label_scatter, dist_mat_to_tall, merge_closest_pair\\n\\n%matplotlib inline\";\n",
       "                var nbb_cells = Jupyter.notebook.get_cells();\n",
       "                for (var i = 0; i < nbb_cells.length; ++i) {\n",
       "                    if (nbb_cells[i].input_prompt_number == nbb_cell_id) {\n",
       "                        if (nbb_cells[i].get_text() == nbb_unformatted_code) {\n",
       "                             nbb_cells[i].set_text(nbb_formatted_code);\n",
       "                        }\n",
       "                        break;\n",
       "                    }\n",
       "                }\n",
       "            }, 500);\n",
       "            "
      ],
      "text/plain": [
       "<IPython.core.display.Javascript object>"
      ]
     },
     "metadata": {},
     "output_type": "display_data"
    }
   ],
   "source": [
    "from IPython.display import display_html\n",
    "\n",
    "import numpy as np\n",
    "import pandas as pd\n",
    "\n",
    "from scipy.cluster import hierarchy\n",
    "from scipy.cluster.hierarchy import dendrogram\n",
    "from scipy.spatial.distance import pdist, squareform\n",
    "\n",
    "import seaborn as sns\n",
    "import matplotlib.pyplot as plt\n",
    "\n",
    "from heir_demo_utils import label_scatter, dist_mat_to_tall, merge_closest_pair\n",
    "\n",
    "%matplotlib inline"
   ]
  },
  {
   "cell_type": "code",
   "execution_count": 3,
   "metadata": {
    "hideCode": true,
    "hidePrompt": true
   },
   "outputs": [
    {
     "data": {
      "application/javascript": [
       "\n",
       "            setTimeout(function() {\n",
       "                var nbb_cell_id = 3;\n",
       "                var nbb_unformatted_code = \"def display_side_by_side(*dfs):\\n    html_str = \\\"\\\"\\n    for df in dfs:\\n        html_str += df.to_html()\\n    display_html(html_str.replace(\\\"table\\\", 'table style=\\\"display:inline\\\"'), raw=True)\";\n",
       "                var nbb_formatted_code = \"def display_side_by_side(*dfs):\\n    html_str = \\\"\\\"\\n    for df in dfs:\\n        html_str += df.to_html()\\n    display_html(html_str.replace(\\\"table\\\", 'table style=\\\"display:inline\\\"'), raw=True)\";\n",
       "                var nbb_cells = Jupyter.notebook.get_cells();\n",
       "                for (var i = 0; i < nbb_cells.length; ++i) {\n",
       "                    if (nbb_cells[i].input_prompt_number == nbb_cell_id) {\n",
       "                        if (nbb_cells[i].get_text() == nbb_unformatted_code) {\n",
       "                             nbb_cells[i].set_text(nbb_formatted_code);\n",
       "                        }\n",
       "                        break;\n",
       "                    }\n",
       "                }\n",
       "            }, 500);\n",
       "            "
      ],
      "text/plain": [
       "<IPython.core.display.Javascript object>"
      ]
     },
     "metadata": {},
     "output_type": "display_data"
    }
   ],
   "source": [
    "def display_side_by_side(*dfs):\n",
    "    html_str = \"\"\n",
    "    for df in dfs:\n",
    "        html_str += df.to_html()\n",
    "    display_html(html_str.replace(\"table\", 'table style=\"display:inline\"'), raw=True)"
   ]
  },
  {
   "cell_type": "markdown",
   "metadata": {
    "hideCode": true,
    "hidePrompt": true
   },
   "source": [
    "Our data:"
   ]
  },
  {
   "cell_type": "code",
   "execution_count": 4,
   "metadata": {
    "hideCode": true,
    "hidePrompt": true
   },
   "outputs": [
    {
     "data": {
      "text/html": [
       "<div>\n",
       "<style scoped>\n",
       "    .dataframe tbody tr th:only-of-type {\n",
       "        vertical-align: middle;\n",
       "    }\n",
       "\n",
       "    .dataframe tbody tr th {\n",
       "        vertical-align: top;\n",
       "    }\n",
       "\n",
       "    .dataframe thead th {\n",
       "        text-align: right;\n",
       "    }\n",
       "</style>\n",
       "<table border=\"1\" class=\"dataframe\">\n",
       "  <thead>\n",
       "    <tr style=\"text-align: right;\">\n",
       "      <th></th>\n",
       "      <th>x</th>\n",
       "      <th>y</th>\n",
       "    </tr>\n",
       "  </thead>\n",
       "  <tbody>\n",
       "    <tr>\n",
       "      <th>A</th>\n",
       "      <td>5.942870</td>\n",
       "      <td>2.618049</td>\n",
       "    </tr>\n",
       "    <tr>\n",
       "      <th>B</th>\n",
       "      <td>7.865414</td>\n",
       "      <td>4.374696</td>\n",
       "    </tr>\n",
       "    <tr>\n",
       "      <th>C</th>\n",
       "      <td>3.558823</td>\n",
       "      <td>6.774326</td>\n",
       "    </tr>\n",
       "    <tr>\n",
       "      <th>D</th>\n",
       "      <td>6.719177</td>\n",
       "      <td>3.726953</td>\n",
       "    </tr>\n",
       "    <tr>\n",
       "      <th>E</th>\n",
       "      <td>5.031393</td>\n",
       "      <td>0.514630</td>\n",
       "    </tr>\n",
       "    <tr>\n",
       "      <th>F</th>\n",
       "      <td>7.300071</td>\n",
       "      <td>6.983892</td>\n",
       "    </tr>\n",
       "    <tr>\n",
       "      <th>G</th>\n",
       "      <td>6.906648</td>\n",
       "      <td>0.957490</td>\n",
       "    </tr>\n",
       "  </tbody>\n",
       "</table>\n",
       "</div>"
      ],
      "text/plain": [
       "          x         y\n",
       "A  5.942870  2.618049\n",
       "B  7.865414  4.374696\n",
       "C  3.558823  6.774326\n",
       "D  6.719177  3.726953\n",
       "E  5.031393  0.514630\n",
       "F  7.300071  6.983892\n",
       "G  6.906648  0.957490"
      ]
     },
     "execution_count": 4,
     "metadata": {},
     "output_type": "execute_result"
    },
    {
     "data": {
      "application/javascript": [
       "\n",
       "            setTimeout(function() {\n",
       "                var nbb_cell_id = 4;\n",
       "                var nbb_unformatted_code = \"np.random.seed(1234)\\n\\ndata = np.random.normal(5, 2, size=14).reshape(7, 2)\\ndf = pd.DataFrame(data, index=[\\\"A\\\", \\\"B\\\", \\\"C\\\", \\\"D\\\", \\\"E\\\", \\\"F\\\", \\\"G\\\"], columns=[\\\"x\\\", \\\"y\\\"])\\ndf\";\n",
       "                var nbb_formatted_code = \"np.random.seed(1234)\\n\\ndata = np.random.normal(5, 2, size=14).reshape(7, 2)\\ndf = pd.DataFrame(data, index=[\\\"A\\\", \\\"B\\\", \\\"C\\\", \\\"D\\\", \\\"E\\\", \\\"F\\\", \\\"G\\\"], columns=[\\\"x\\\", \\\"y\\\"])\\ndf\";\n",
       "                var nbb_cells = Jupyter.notebook.get_cells();\n",
       "                for (var i = 0; i < nbb_cells.length; ++i) {\n",
       "                    if (nbb_cells[i].input_prompt_number == nbb_cell_id) {\n",
       "                        if (nbb_cells[i].get_text() == nbb_unformatted_code) {\n",
       "                             nbb_cells[i].set_text(nbb_formatted_code);\n",
       "                        }\n",
       "                        break;\n",
       "                    }\n",
       "                }\n",
       "            }, 500);\n",
       "            "
      ],
      "text/plain": [
       "<IPython.core.display.Javascript object>"
      ]
     },
     "metadata": {},
     "output_type": "display_data"
    }
   ],
   "source": [
    "np.random.seed(1234)\n",
    "\n",
    "data = np.random.normal(5, 2, size=14).reshape(7, 2)\n",
    "df = pd.DataFrame(data, index=[\"A\", \"B\", \"C\", \"D\", \"E\", \"F\", \"G\"], columns=[\"x\", \"y\"])\n",
    "df"
   ]
  },
  {
   "cell_type": "markdown",
   "metadata": {
    "hideCode": true,
    "hidePrompt": true
   },
   "source": [
    "Our data visualized:"
   ]
  },
  {
   "cell_type": "code",
   "execution_count": 5,
   "metadata": {
    "hideCode": true,
    "hidePrompt": true
   },
   "outputs": [
    {
     "data": {
      "image/png": "[encoded data removed]",
      "text/plain": [
       "<Figure size 360x360 with 1 Axes>"
      ]
     },
     "metadata": {
      "needs_background": "light"
     },
     "output_type": "display_data"
    },
    {
     "data": {
      "application/javascript": [
       "\n",
       "            setTimeout(function() {\n",
       "                var nbb_cell_id = 5;\n",
       "                var nbb_unformatted_code = \"mn = df.min().min() - 1\\nmx = df.max().max() + 1\\n\\nplt.figure(figsize=(5, 5))\\n\\nsns.scatterplot(\\\"x\\\", \\\"y\\\", data=df, s=200)\\nlabel_scatter(\\\"x\\\", \\\"y\\\", df.index, data=df)\\n\\nplt.axis(\\\"square\\\")\\nplt.xlim(mn, mx)\\nplt.ylim(mn, mx)\\n\\nplt.tight_layout()\\nplt.show()\";\n",
       "                var nbb_formatted_code = \"mn = df.min().min() - 1\\nmx = df.max().max() + 1\\n\\nplt.figure(figsize=(5, 5))\\n\\nsns.scatterplot(\\\"x\\\", \\\"y\\\", data=df, s=200)\\nlabel_scatter(\\\"x\\\", \\\"y\\\", df.index, data=df)\\n\\nplt.axis(\\\"square\\\")\\nplt.xlim(mn, mx)\\nplt.ylim(mn, mx)\\n\\nplt.tight_layout()\\nplt.show()\";\n",
       "                var nbb_cells = Jupyter.notebook.get_cells();\n",
       "                for (var i = 0; i < nbb_cells.length; ++i) {\n",
       "                    if (nbb_cells[i].input_prompt_number == nbb_cell_id) {\n",
       "                        if (nbb_cells[i].get_text() == nbb_unformatted_code) {\n",
       "                             nbb_cells[i].set_text(nbb_formatted_code);\n",
       "                        }\n",
       "                        break;\n",
       "                    }\n",
       "                }\n",
       "            }, 500);\n",
       "            "
      ],
      "text/plain": [
       "<IPython.core.display.Javascript object>"
      ]
     },
     "metadata": {},
     "output_type": "display_data"
    }
   ],
   "source": [
    "mn = df.min().min() - 1\n",
    "mx = df.max().max() + 1\n",
    "\n",
    "plt.figure(figsize=(5, 5))\n",
    "\n",
    "sns.scatterplot(\"x\", \"y\", data=df, s=200)\n",
    "label_scatter(\"x\", \"y\", df.index, data=df)\n",
    "\n",
    "plt.axis(\"square\")\n",
    "plt.xlim(mn, mx)\n",
    "plt.ylim(mn, mx)\n",
    "\n",
    "plt.tight_layout()\n",
    "plt.show()"
   ]
  },
  {
   "cell_type": "markdown",
   "metadata": {
    "hideCode": true,
    "hidePrompt": true
   },
   "source": [
    "## Clustering Step 0:\n",
    "\n",
    "* Measure the distance between each pair of observations\n",
    "\n",
    "Here, euclidean distance was used."
   ]
  },
  {
   "cell_type": "code",
   "execution_count": 6,
   "metadata": {
    "hideCode": true,
    "hidePrompt": true
   },
   "outputs": [
    {
     "data": {
      "text/html": [
       "<style  type=\"text/css\" >\n",
       "    #T_17aa3b0a_0328_11eb_8007_7085c2a9ca7arow0_col0 {\n",
       "            background-color:  #fff7fb;\n",
       "            color:  #000000;\n",
       "        }    #T_17aa3b0a_0328_11eb_8007_7085c2a9ca7arow0_col1 {\n",
       "            background-color:  #a4bcda;\n",
       "            color:  #000000;\n",
       "        }    #T_17aa3b0a_0328_11eb_8007_7085c2a9ca7arow0_col2 {\n",
       "            background-color:  #197db7;\n",
       "            color:  #000000;\n",
       "        }    #T_17aa3b0a_0328_11eb_8007_7085c2a9ca7arow0_col3 {\n",
       "            background-color:  #dcdaeb;\n",
       "            color:  #000000;\n",
       "        }    #T_17aa3b0a_0328_11eb_8007_7085c2a9ca7arow0_col4 {\n",
       "            background-color:  #b4c4df;\n",
       "            color:  #000000;\n",
       "        }    #T_17aa3b0a_0328_11eb_8007_7085c2a9ca7arow0_col5 {\n",
       "            background-color:  #2685bb;\n",
       "            color:  #000000;\n",
       "        }    #T_17aa3b0a_0328_11eb_8007_7085c2a9ca7arow0_col6 {\n",
       "            background-color:  #c6cce3;\n",
       "            color:  #000000;\n",
       "        }    #T_17aa3b0a_0328_11eb_8007_7085c2a9ca7arow1_col0 {\n",
       "            background-color:  #a4bcda;\n",
       "            color:  #000000;\n",
       "        }    #T_17aa3b0a_0328_11eb_8007_7085c2a9ca7arow1_col1 {\n",
       "            background-color:  #fff7fb;\n",
       "            color:  #000000;\n",
       "        }    #T_17aa3b0a_0328_11eb_8007_7085c2a9ca7arow1_col2 {\n",
       "            background-color:  #1077b4;\n",
       "            color:  #f1f1f1;\n",
       "        }    #T_17aa3b0a_0328_11eb_8007_7085c2a9ca7arow1_col3 {\n",
       "            background-color:  #dddbec;\n",
       "            color:  #000000;\n",
       "        }    #T_17aa3b0a_0328_11eb_8007_7085c2a9ca7arow1_col4 {\n",
       "            background-color:  #197db7;\n",
       "            color:  #000000;\n",
       "        }    #T_17aa3b0a_0328_11eb_8007_7085c2a9ca7arow1_col5 {\n",
       "            background-color:  #a1bbda;\n",
       "            color:  #000000;\n",
       "        }    #T_17aa3b0a_0328_11eb_8007_7085c2a9ca7arow1_col6 {\n",
       "            background-color:  #6ba5cd;\n",
       "            color:  #000000;\n",
       "        }    #T_17aa3b0a_0328_11eb_8007_7085c2a9ca7arow2_col0 {\n",
       "            background-color:  #197db7;\n",
       "            color:  #000000;\n",
       "        }    #T_17aa3b0a_0328_11eb_8007_7085c2a9ca7arow2_col1 {\n",
       "            background-color:  #1077b4;\n",
       "            color:  #f1f1f1;\n",
       "        }    #T_17aa3b0a_0328_11eb_8007_7085c2a9ca7arow2_col2 {\n",
       "            background-color:  #fff7fb;\n",
       "            color:  #000000;\n",
       "        }    #T_17aa3b0a_0328_11eb_8007_7085c2a9ca7arow2_col3 {\n",
       "            background-color:  #308cbe;\n",
       "            color:  #000000;\n",
       "        }    #T_17aa3b0a_0328_11eb_8007_7085c2a9ca7arow2_col4 {\n",
       "            background-color:  #034871;\n",
       "            color:  #f1f1f1;\n",
       "        }    #T_17aa3b0a_0328_11eb_8007_7085c2a9ca7arow2_col5 {\n",
       "            background-color:  #5ea0ca;\n",
       "            color:  #000000;\n",
       "        }    #T_17aa3b0a_0328_11eb_8007_7085c2a9ca7arow2_col6 {\n",
       "            background-color:  #023d60;\n",
       "            color:  #f1f1f1;\n",
       "        }    #T_17aa3b0a_0328_11eb_8007_7085c2a9ca7arow3_col0 {\n",
       "            background-color:  #dcdaeb;\n",
       "            color:  #000000;\n",
       "        }    #T_17aa3b0a_0328_11eb_8007_7085c2a9ca7arow3_col1 {\n",
       "            background-color:  #dddbec;\n",
       "            color:  #000000;\n",
       "        }    #T_17aa3b0a_0328_11eb_8007_7085c2a9ca7arow3_col2 {\n",
       "            background-color:  #308cbe;\n",
       "            color:  #000000;\n",
       "        }    #T_17aa3b0a_0328_11eb_8007_7085c2a9ca7arow3_col3 {\n",
       "            background-color:  #fff7fb;\n",
       "            color:  #000000;\n",
       "        }    #T_17aa3b0a_0328_11eb_8007_7085c2a9ca7arow3_col4 {\n",
       "            background-color:  #65a3cb;\n",
       "            color:  #000000;\n",
       "        }    #T_17aa3b0a_0328_11eb_8007_7085c2a9ca7arow3_col5 {\n",
       "            background-color:  #7bacd1;\n",
       "            color:  #000000;\n",
       "        }    #T_17aa3b0a_0328_11eb_8007_7085c2a9ca7arow3_col6 {\n",
       "            background-color:  #9ab8d8;\n",
       "            color:  #000000;\n",
       "        }    #T_17aa3b0a_0328_11eb_8007_7085c2a9ca7arow4_col0 {\n",
       "            background-color:  #b4c4df;\n",
       "            color:  #000000;\n",
       "        }    #T_17aa3b0a_0328_11eb_8007_7085c2a9ca7arow4_col1 {\n",
       "            background-color:  #197db7;\n",
       "            color:  #000000;\n",
       "        }    #T_17aa3b0a_0328_11eb_8007_7085c2a9ca7arow4_col2 {\n",
       "            background-color:  #034871;\n",
       "            color:  #f1f1f1;\n",
       "        }    #T_17aa3b0a_0328_11eb_8007_7085c2a9ca7arow4_col3 {\n",
       "            background-color:  #65a3cb;\n",
       "            color:  #000000;\n",
       "        }    #T_17aa3b0a_0328_11eb_8007_7085c2a9ca7arow4_col4 {\n",
       "            background-color:  #fff7fb;\n",
       "            color:  #000000;\n",
       "        }    #T_17aa3b0a_0328_11eb_8007_7085c2a9ca7arow4_col5 {\n",
       "            background-color:  #023858;\n",
       "            color:  #f1f1f1;\n",
       "        }    #T_17aa3b0a_0328_11eb_8007_7085c2a9ca7arow4_col6 {\n",
       "            background-color:  #c6cce3;\n",
       "            color:  #000000;\n",
       "        }    #T_17aa3b0a_0328_11eb_8007_7085c2a9ca7arow5_col0 {\n",
       "            background-color:  #2685bb;\n",
       "            color:  #000000;\n",
       "        }    #T_17aa3b0a_0328_11eb_8007_7085c2a9ca7arow5_col1 {\n",
       "            background-color:  #a1bbda;\n",
       "            color:  #000000;\n",
       "        }    #T_17aa3b0a_0328_11eb_8007_7085c2a9ca7arow5_col2 {\n",
       "            background-color:  #5ea0ca;\n",
       "            color:  #000000;\n",
       "        }    #T_17aa3b0a_0328_11eb_8007_7085c2a9ca7arow5_col3 {\n",
       "            background-color:  #7bacd1;\n",
       "            color:  #000000;\n",
       "        }    #T_17aa3b0a_0328_11eb_8007_7085c2a9ca7arow5_col4 {\n",
       "            background-color:  #023858;\n",
       "            color:  #f1f1f1;\n",
       "        }    #T_17aa3b0a_0328_11eb_8007_7085c2a9ca7arow5_col5 {\n",
       "            background-color:  #fff7fb;\n",
       "            color:  #000000;\n",
       "        }    #T_17aa3b0a_0328_11eb_8007_7085c2a9ca7arow5_col6 {\n",
       "            background-color:  #04588a;\n",
       "            color:  #f1f1f1;\n",
       "        }    #T_17aa3b0a_0328_11eb_8007_7085c2a9ca7arow6_col0 {\n",
       "            background-color:  #c6cce3;\n",
       "            color:  #000000;\n",
       "        }    #T_17aa3b0a_0328_11eb_8007_7085c2a9ca7arow6_col1 {\n",
       "            background-color:  #6ba5cd;\n",
       "            color:  #000000;\n",
       "        }    #T_17aa3b0a_0328_11eb_8007_7085c2a9ca7arow6_col2 {\n",
       "            background-color:  #023d60;\n",
       "            color:  #f1f1f1;\n",
       "        }    #T_17aa3b0a_0328_11eb_8007_7085c2a9ca7arow6_col3 {\n",
       "            background-color:  #9ab8d8;\n",
       "            color:  #000000;\n",
       "        }    #T_17aa3b0a_0328_11eb_8007_7085c2a9ca7arow6_col4 {\n",
       "            background-color:  #c6cce3;\n",
       "            color:  #000000;\n",
       "        }    #T_17aa3b0a_0328_11eb_8007_7085c2a9ca7arow6_col5 {\n",
       "            background-color:  #04588a;\n",
       "            color:  #f1f1f1;\n",
       "        }    #T_17aa3b0a_0328_11eb_8007_7085c2a9ca7arow6_col6 {\n",
       "            background-color:  #fff7fb;\n",
       "            color:  #000000;\n",
       "        }</style><table id=\"T_17aa3b0a_0328_11eb_8007_7085c2a9ca7a\" ><thead>    <tr>        <th class=\"blank level0\" ></th>        <th class=\"col_heading level0 col0\" >A</th>        <th class=\"col_heading level0 col1\" >B</th>        <th class=\"col_heading level0 col2\" >C</th>        <th class=\"col_heading level0 col3\" >D</th>        <th class=\"col_heading level0 col4\" >E</th>        <th class=\"col_heading level0 col5\" >F</th>        <th class=\"col_heading level0 col6\" >G</th>    </tr></thead><tbody>\n",
       "                <tr>\n",
       "                        <th id=\"T_17aa3b0a_0328_11eb_8007_7085c2a9ca7alevel0_row0\" class=\"row_heading level0 row0\" >A</th>\n",
       "                        <td id=\"T_17aa3b0a_0328_11eb_8007_7085c2a9ca7arow0_col0\" class=\"data row0 col0\" >0.000000</td>\n",
       "                        <td id=\"T_17aa3b0a_0328_11eb_8007_7085c2a9ca7arow0_col1\" class=\"data row0 col1\" >2.604224</td>\n",
       "                        <td id=\"T_17aa3b0a_0328_11eb_8007_7085c2a9ca7arow0_col2\" class=\"data row0 col2\" >4.791485</td>\n",
       "                        <td id=\"T_17aa3b0a_0328_11eb_8007_7085c2a9ca7arow0_col3\" class=\"data row0 col3\" >1.353632</td>\n",
       "                        <td id=\"T_17aa3b0a_0328_11eb_8007_7085c2a9ca7arow0_col4\" class=\"data row0 col4\" >2.292414</td>\n",
       "                        <td id=\"T_17aa3b0a_0328_11eb_8007_7085c2a9ca7arow0_col5\" class=\"data row0 col5\" >4.571934</td>\n",
       "                        <td id=\"T_17aa3b0a_0328_11eb_8007_7085c2a9ca7arow0_col6\" class=\"data row0 col6\" >1.919980</td>\n",
       "            </tr>\n",
       "            <tr>\n",
       "                        <th id=\"T_17aa3b0a_0328_11eb_8007_7085c2a9ca7alevel0_row1\" class=\"row_heading level0 row1\" >B</th>\n",
       "                        <td id=\"T_17aa3b0a_0328_11eb_8007_7085c2a9ca7arow1_col0\" class=\"data row1 col0\" >2.604224</td>\n",
       "                        <td id=\"T_17aa3b0a_0328_11eb_8007_7085c2a9ca7arow1_col1\" class=\"data row1 col1\" >0.000000</td>\n",
       "                        <td id=\"T_17aa3b0a_0328_11eb_8007_7085c2a9ca7arow1_col2\" class=\"data row1 col2\" >4.930005</td>\n",
       "                        <td id=\"T_17aa3b0a_0328_11eb_8007_7085c2a9ca7arow1_col3\" class=\"data row1 col3\" >1.316598</td>\n",
       "                        <td id=\"T_17aa3b0a_0328_11eb_8007_7085c2a9ca7arow1_col4\" class=\"data row1 col4\" >4.788714</td>\n",
       "                        <td id=\"T_17aa3b0a_0328_11eb_8007_7085c2a9ca7arow1_col5\" class=\"data row1 col5\" >2.669741</td>\n",
       "                        <td id=\"T_17aa3b0a_0328_11eb_8007_7085c2a9ca7arow1_col6\" class=\"data row1 col6\" >3.549159</td>\n",
       "            </tr>\n",
       "            <tr>\n",
       "                        <th id=\"T_17aa3b0a_0328_11eb_8007_7085c2a9ca7alevel0_row2\" class=\"row_heading level0 row2\" >C</th>\n",
       "                        <td id=\"T_17aa3b0a_0328_11eb_8007_7085c2a9ca7arow2_col0\" class=\"data row2 col0\" >4.791485</td>\n",
       "                        <td id=\"T_17aa3b0a_0328_11eb_8007_7085c2a9ca7arow2_col1\" class=\"data row2 col1\" >4.930005</td>\n",
       "                        <td id=\"T_17aa3b0a_0328_11eb_8007_7085c2a9ca7arow2_col2\" class=\"data row2 col2\" >0.000000</td>\n",
       "                        <td id=\"T_17aa3b0a_0328_11eb_8007_7085c2a9ca7arow2_col3\" class=\"data row2 col3\" >4.390253</td>\n",
       "                        <td id=\"T_17aa3b0a_0328_11eb_8007_7085c2a9ca7arow2_col4\" class=\"data row2 col4\" >6.430572</td>\n",
       "                        <td id=\"T_17aa3b0a_0328_11eb_8007_7085c2a9ca7arow2_col5\" class=\"data row2 col5\" >3.747114</td>\n",
       "                        <td id=\"T_17aa3b0a_0328_11eb_8007_7085c2a9ca7arow2_col6\" class=\"data row2 col6\" >6.711446</td>\n",
       "            </tr>\n",
       "            <tr>\n",
       "                        <th id=\"T_17aa3b0a_0328_11eb_8007_7085c2a9ca7alevel0_row3\" class=\"row_heading level0 row3\" >D</th>\n",
       "                        <td id=\"T_17aa3b0a_0328_11eb_8007_7085c2a9ca7arow3_col0\" class=\"data row3 col0\" >1.353632</td>\n",
       "                        <td id=\"T_17aa3b0a_0328_11eb_8007_7085c2a9ca7arow3_col1\" class=\"data row3 col1\" >1.316598</td>\n",
       "                        <td id=\"T_17aa3b0a_0328_11eb_8007_7085c2a9ca7arow3_col2\" class=\"data row3 col2\" >4.390253</td>\n",
       "                        <td id=\"T_17aa3b0a_0328_11eb_8007_7085c2a9ca7arow3_col3\" class=\"data row3 col3\" >0.000000</td>\n",
       "                        <td id=\"T_17aa3b0a_0328_11eb_8007_7085c2a9ca7arow3_col4\" class=\"data row3 col4\" >3.628723</td>\n",
       "                        <td id=\"T_17aa3b0a_0328_11eb_8007_7085c2a9ca7arow3_col5\" class=\"data row3 col5\" >3.308337</td>\n",
       "                        <td id=\"T_17aa3b0a_0328_11eb_8007_7085c2a9ca7arow3_col6\" class=\"data row3 col6\" >2.775801</td>\n",
       "            </tr>\n",
       "            <tr>\n",
       "                        <th id=\"T_17aa3b0a_0328_11eb_8007_7085c2a9ca7alevel0_row4\" class=\"row_heading level0 row4\" >E</th>\n",
       "                        <td id=\"T_17aa3b0a_0328_11eb_8007_7085c2a9ca7arow4_col0\" class=\"data row4 col0\" >2.292414</td>\n",
       "                        <td id=\"T_17aa3b0a_0328_11eb_8007_7085c2a9ca7arow4_col1\" class=\"data row4 col1\" >4.788714</td>\n",
       "                        <td id=\"T_17aa3b0a_0328_11eb_8007_7085c2a9ca7arow4_col2\" class=\"data row4 col2\" >6.430572</td>\n",
       "                        <td id=\"T_17aa3b0a_0328_11eb_8007_7085c2a9ca7arow4_col3\" class=\"data row4 col3\" >3.628723</td>\n",
       "                        <td id=\"T_17aa3b0a_0328_11eb_8007_7085c2a9ca7arow4_col4\" class=\"data row4 col4\" >0.000000</td>\n",
       "                        <td id=\"T_17aa3b0a_0328_11eb_8007_7085c2a9ca7arow4_col5\" class=\"data row4 col5\" >6.855527</td>\n",
       "                        <td id=\"T_17aa3b0a_0328_11eb_8007_7085c2a9ca7arow4_col6\" class=\"data row4 col6\" >1.926839</td>\n",
       "            </tr>\n",
       "            <tr>\n",
       "                        <th id=\"T_17aa3b0a_0328_11eb_8007_7085c2a9ca7alevel0_row5\" class=\"row_heading level0 row5\" >F</th>\n",
       "                        <td id=\"T_17aa3b0a_0328_11eb_8007_7085c2a9ca7arow5_col0\" class=\"data row5 col0\" >4.571934</td>\n",
       "                        <td id=\"T_17aa3b0a_0328_11eb_8007_7085c2a9ca7arow5_col1\" class=\"data row5 col1\" >2.669741</td>\n",
       "                        <td id=\"T_17aa3b0a_0328_11eb_8007_7085c2a9ca7arow5_col2\" class=\"data row5 col2\" >3.747114</td>\n",
       "                        <td id=\"T_17aa3b0a_0328_11eb_8007_7085c2a9ca7arow5_col3\" class=\"data row5 col3\" >3.308337</td>\n",
       "                        <td id=\"T_17aa3b0a_0328_11eb_8007_7085c2a9ca7arow5_col4\" class=\"data row5 col4\" >6.855527</td>\n",
       "                        <td id=\"T_17aa3b0a_0328_11eb_8007_7085c2a9ca7arow5_col5\" class=\"data row5 col5\" >0.000000</td>\n",
       "                        <td id=\"T_17aa3b0a_0328_11eb_8007_7085c2a9ca7arow5_col6\" class=\"data row5 col6\" >6.039230</td>\n",
       "            </tr>\n",
       "            <tr>\n",
       "                        <th id=\"T_17aa3b0a_0328_11eb_8007_7085c2a9ca7alevel0_row6\" class=\"row_heading level0 row6\" >G</th>\n",
       "                        <td id=\"T_17aa3b0a_0328_11eb_8007_7085c2a9ca7arow6_col0\" class=\"data row6 col0\" >1.919980</td>\n",
       "                        <td id=\"T_17aa3b0a_0328_11eb_8007_7085c2a9ca7arow6_col1\" class=\"data row6 col1\" >3.549159</td>\n",
       "                        <td id=\"T_17aa3b0a_0328_11eb_8007_7085c2a9ca7arow6_col2\" class=\"data row6 col2\" >6.711446</td>\n",
       "                        <td id=\"T_17aa3b0a_0328_11eb_8007_7085c2a9ca7arow6_col3\" class=\"data row6 col3\" >2.775801</td>\n",
       "                        <td id=\"T_17aa3b0a_0328_11eb_8007_7085c2a9ca7arow6_col4\" class=\"data row6 col4\" >1.926839</td>\n",
       "                        <td id=\"T_17aa3b0a_0328_11eb_8007_7085c2a9ca7arow6_col5\" class=\"data row6 col5\" >6.039230</td>\n",
       "                        <td id=\"T_17aa3b0a_0328_11eb_8007_7085c2a9ca7arow6_col6\" class=\"data row6 col6\" >0.000000</td>\n",
       "            </tr>\n",
       "    </tbody></table>"
      ],
      "text/plain": [
       "<pandas.io.formats.style.Styler at 0x18dd66ad0c8>"
      ]
     },
     "execution_count": 6,
     "metadata": {},
     "output_type": "execute_result"
    },
    {
     "data": {
      "application/javascript": [
       "\n",
       "            setTimeout(function() {\n",
       "                var nbb_cell_id = 6;\n",
       "                var nbb_unformatted_code = \"dist_mat = squareform(pdist(df))\\ndist_mat = pd.DataFrame(dist_mat, columns=df.index, index=df.index)\\n\\n# Make a tall version of the distance matrix for later\\ndist_df = dist_mat_to_tall(dist_mat)\\n\\ndist_mat.style.background_gradient(axis=None)\";\n",
       "                var nbb_formatted_code = \"dist_mat = squareform(pdist(df))\\ndist_mat = pd.DataFrame(dist_mat, columns=df.index, index=df.index)\\n\\n# Make a tall version of the distance matrix for later\\ndist_df = dist_mat_to_tall(dist_mat)\\n\\ndist_mat.style.background_gradient(axis=None)\";\n",
       "                var nbb_cells = Jupyter.notebook.get_cells();\n",
       "                for (var i = 0; i < nbb_cells.length; ++i) {\n",
       "                    if (nbb_cells[i].input_prompt_number == nbb_cell_id) {\n",
       "                        if (nbb_cells[i].get_text() == nbb_unformatted_code) {\n",
       "                             nbb_cells[i].set_text(nbb_formatted_code);\n",
       "                        }\n",
       "                        break;\n",
       "                    }\n",
       "                }\n",
       "            }, 500);\n",
       "            "
      ],
      "text/plain": [
       "<IPython.core.display.Javascript object>"
      ]
     },
     "metadata": {},
     "output_type": "display_data"
    }
   ],
   "source": [
    "dist_mat = squareform(pdist(df))\n",
    "dist_mat = pd.DataFrame(dist_mat, columns=df.index, index=df.index)\n",
    "\n",
    "# Make a tall version of the distance matrix for later\n",
    "dist_df = dist_mat_to_tall(dist_mat)\n",
    "\n",
    "dist_mat.style.background_gradient(axis=None)"
   ]
  },
  {
   "cell_type": "markdown",
   "metadata": {
    "hideCode": true,
    "hidePrompt": true
   },
   "source": [
    "## Clustering Step 1:\n",
    "\n",
    "* Find the closest 2 observations in the distance matrix:"
   ]
  },
  {
   "cell_type": "code",
   "execution_count": 7,
   "metadata": {
    "hideCode": true,
    "hidePrompt": true
   },
   "outputs": [
    {
     "data": {
      "text/html": [
       "<div>\n",
       "<style scoped>\n",
       "    .dataframe tbody tr th:only-of-type {\n",
       "        vertical-align: middle;\n",
       "    }\n",
       "\n",
       "    .dataframe tbody tr th {\n",
       "        vertical-align: top;\n",
       "    }\n",
       "\n",
       "    .dataframe thead th {\n",
       "        text-align: right;\n",
       "    }\n",
       "</style>\n",
       "<table border=\"1\" class=\"dataframe\">\n",
       "  <thead>\n",
       "    <tr style=\"text-align: right;\">\n",
       "      <th></th>\n",
       "      <th>sample_1</th>\n",
       "      <th>sample_2</th>\n",
       "      <th>dist</th>\n",
       "    </tr>\n",
       "  </thead>\n",
       "  <tbody>\n",
       "    <tr>\n",
       "      <th>4</th>\n",
       "      <td>B</td>\n",
       "      <td>D</td>\n",
       "      <td>1.316598</td>\n",
       "    </tr>\n",
       "  </tbody>\n",
       "</table>\n",
       "</div>"
      ],
      "text/plain": [
       "  sample_1 sample_2      dist\n",
       "4        B        D  1.316598"
      ]
     },
     "execution_count": 7,
     "metadata": {},
     "output_type": "execute_result"
    },
    {
     "data": {
      "application/javascript": [
       "\n",
       "            setTimeout(function() {\n",
       "                var nbb_cell_id = 7;\n",
       "                var nbb_unformatted_code = \"two_closest = dist_df.sort_values(\\\"dist\\\").head(1)\\ntwo_closest\";\n",
       "                var nbb_formatted_code = \"two_closest = dist_df.sort_values(\\\"dist\\\").head(1)\\ntwo_closest\";\n",
       "                var nbb_cells = Jupyter.notebook.get_cells();\n",
       "                for (var i = 0; i < nbb_cells.length; ++i) {\n",
       "                    if (nbb_cells[i].input_prompt_number == nbb_cell_id) {\n",
       "                        if (nbb_cells[i].get_text() == nbb_unformatted_code) {\n",
       "                             nbb_cells[i].set_text(nbb_formatted_code);\n",
       "                        }\n",
       "                        break;\n",
       "                    }\n",
       "                }\n",
       "            }, 500);\n",
       "            "
      ],
      "text/plain": [
       "<IPython.core.display.Javascript object>"
      ]
     },
     "metadata": {},
     "output_type": "display_data"
    }
   ],
   "source": [
    "two_closest = dist_df.sort_values(\"dist\").head(1)\n",
    "two_closest"
   ]
  },
  {
   "cell_type": "markdown",
   "metadata": {
    "hideCode": true,
    "hidePrompt": true
   },
   "source": [
    "## Clustering Step 2:\n",
    "\n",
    "* In the distance matrix, combine the rows/columns of the 2 closest samples so that they become 1 combined observation (see matrix below)\n",
    "\n",
    "...but how do we handle the distances for the combined observation?"
   ]
  },
  {
   "cell_type": "code",
   "execution_count": 8,
   "metadata": {
    "hideCode": true,
    "hidePrompt": true
   },
   "outputs": [
    {
     "name": "stderr",
     "output_type": "stream",
     "text": [
      "C:\\ProgramData\\Anaconda3\\lib\\site-packages\\matplotlib\\colors.py:527: RuntimeWarning: invalid value encountered in less\n",
      "  xa[xa < 0] = -1\n"
     ]
    },
    {
     "data": {
      "text/html": [
       "<style  type=\"text/css\" >\n",
       "    #T_17b3bc64_0328_11eb_835b_7085c2a9ca7arow0_col0 {\n",
       "            background-color:  #fff7fb;\n",
       "            color:  #000000;\n",
       "        }    #T_17b3bc64_0328_11eb_835b_7085c2a9ca7arow0_col1 {\n",
       "            background-color:  #fff7fb;\n",
       "            color:  #000000;\n",
       "        }    #T_17b3bc64_0328_11eb_835b_7085c2a9ca7arow0_col2 {\n",
       "            background-color:  #197db7;\n",
       "            color:  #000000;\n",
       "        }    #T_17b3bc64_0328_11eb_835b_7085c2a9ca7arow0_col3 {\n",
       "            background-color:  #b4c4df;\n",
       "            color:  #000000;\n",
       "        }    #T_17b3bc64_0328_11eb_835b_7085c2a9ca7arow0_col4 {\n",
       "            background-color:  #2685bb;\n",
       "            color:  #000000;\n",
       "        }    #T_17b3bc64_0328_11eb_835b_7085c2a9ca7arow0_col5 {\n",
       "            background-color:  #c6cce3;\n",
       "            color:  #000000;\n",
       "        }    #T_17b3bc64_0328_11eb_835b_7085c2a9ca7arow1_col0 {\n",
       "            background-color:  #fff7fb;\n",
       "            color:  #000000;\n",
       "        }    #T_17b3bc64_0328_11eb_835b_7085c2a9ca7arow1_col1 {\n",
       "            background-color:  #fff7fb;\n",
       "            color:  #000000;\n",
       "        }    #T_17b3bc64_0328_11eb_835b_7085c2a9ca7arow1_col2 {\n",
       "            background-color:  #fff7fb;\n",
       "            color:  #000000;\n",
       "        }    #T_17b3bc64_0328_11eb_835b_7085c2a9ca7arow1_col3 {\n",
       "            background-color:  #fff7fb;\n",
       "            color:  #000000;\n",
       "        }    #T_17b3bc64_0328_11eb_835b_7085c2a9ca7arow1_col4 {\n",
       "            background-color:  #fff7fb;\n",
       "            color:  #000000;\n",
       "        }    #T_17b3bc64_0328_11eb_835b_7085c2a9ca7arow1_col5 {\n",
       "            background-color:  #fff7fb;\n",
       "            color:  #000000;\n",
       "        }    #T_17b3bc64_0328_11eb_835b_7085c2a9ca7arow2_col0 {\n",
       "            background-color:  #197db7;\n",
       "            color:  #000000;\n",
       "        }    #T_17b3bc64_0328_11eb_835b_7085c2a9ca7arow2_col1 {\n",
       "            background-color:  #fff7fb;\n",
       "            color:  #000000;\n",
       "        }    #T_17b3bc64_0328_11eb_835b_7085c2a9ca7arow2_col2 {\n",
       "            background-color:  #fff7fb;\n",
       "            color:  #000000;\n",
       "        }    #T_17b3bc64_0328_11eb_835b_7085c2a9ca7arow2_col3 {\n",
       "            background-color:  #034871;\n",
       "            color:  #f1f1f1;\n",
       "        }    #T_17b3bc64_0328_11eb_835b_7085c2a9ca7arow2_col4 {\n",
       "            background-color:  #5ea0ca;\n",
       "            color:  #000000;\n",
       "        }    #T_17b3bc64_0328_11eb_835b_7085c2a9ca7arow2_col5 {\n",
       "            background-color:  #023d60;\n",
       "            color:  #f1f1f1;\n",
       "        }    #T_17b3bc64_0328_11eb_835b_7085c2a9ca7arow3_col0 {\n",
       "            background-color:  #b4c4df;\n",
       "            color:  #000000;\n",
       "        }    #T_17b3bc64_0328_11eb_835b_7085c2a9ca7arow3_col1 {\n",
       "            background-color:  #fff7fb;\n",
       "            color:  #000000;\n",
       "        }    #T_17b3bc64_0328_11eb_835b_7085c2a9ca7arow3_col2 {\n",
       "            background-color:  #034871;\n",
       "            color:  #f1f1f1;\n",
       "        }    #T_17b3bc64_0328_11eb_835b_7085c2a9ca7arow3_col3 {\n",
       "            background-color:  #fff7fb;\n",
       "            color:  #000000;\n",
       "        }    #T_17b3bc64_0328_11eb_835b_7085c2a9ca7arow3_col4 {\n",
       "            background-color:  #023858;\n",
       "            color:  #f1f1f1;\n",
       "        }    #T_17b3bc64_0328_11eb_835b_7085c2a9ca7arow3_col5 {\n",
       "            background-color:  #c6cce3;\n",
       "            color:  #000000;\n",
       "        }    #T_17b3bc64_0328_11eb_835b_7085c2a9ca7arow4_col0 {\n",
       "            background-color:  #2685bb;\n",
       "            color:  #000000;\n",
       "        }    #T_17b3bc64_0328_11eb_835b_7085c2a9ca7arow4_col1 {\n",
       "            background-color:  #fff7fb;\n",
       "            color:  #000000;\n",
       "        }    #T_17b3bc64_0328_11eb_835b_7085c2a9ca7arow4_col2 {\n",
       "            background-color:  #5ea0ca;\n",
       "            color:  #000000;\n",
       "        }    #T_17b3bc64_0328_11eb_835b_7085c2a9ca7arow4_col3 {\n",
       "            background-color:  #023858;\n",
       "            color:  #f1f1f1;\n",
       "        }    #T_17b3bc64_0328_11eb_835b_7085c2a9ca7arow4_col4 {\n",
       "            background-color:  #fff7fb;\n",
       "            color:  #000000;\n",
       "        }    #T_17b3bc64_0328_11eb_835b_7085c2a9ca7arow4_col5 {\n",
       "            background-color:  #04588a;\n",
       "            color:  #f1f1f1;\n",
       "        }    #T_17b3bc64_0328_11eb_835b_7085c2a9ca7arow5_col0 {\n",
       "            background-color:  #c6cce3;\n",
       "            color:  #000000;\n",
       "        }    #T_17b3bc64_0328_11eb_835b_7085c2a9ca7arow5_col1 {\n",
       "            background-color:  #fff7fb;\n",
       "            color:  #000000;\n",
       "        }    #T_17b3bc64_0328_11eb_835b_7085c2a9ca7arow5_col2 {\n",
       "            background-color:  #023d60;\n",
       "            color:  #f1f1f1;\n",
       "        }    #T_17b3bc64_0328_11eb_835b_7085c2a9ca7arow5_col3 {\n",
       "            background-color:  #c6cce3;\n",
       "            color:  #000000;\n",
       "        }    #T_17b3bc64_0328_11eb_835b_7085c2a9ca7arow5_col4 {\n",
       "            background-color:  #04588a;\n",
       "            color:  #f1f1f1;\n",
       "        }    #T_17b3bc64_0328_11eb_835b_7085c2a9ca7arow5_col5 {\n",
       "            background-color:  #fff7fb;\n",
       "            color:  #000000;\n",
       "        }</style><table id=\"T_17b3bc64_0328_11eb_835b_7085c2a9ca7a\" ><thead>    <tr>        <th class=\"blank level0\" ></th>        <th class=\"col_heading level0 col0\" >A</th>        <th class=\"col_heading level0 col1\" >(B, D)</th>        <th class=\"col_heading level0 col2\" >C</th>        <th class=\"col_heading level0 col3\" >E</th>        <th class=\"col_heading level0 col4\" >F</th>        <th class=\"col_heading level0 col5\" >G</th>    </tr></thead><tbody>\n",
       "                <tr>\n",
       "                        <th id=\"T_17b3bc64_0328_11eb_835b_7085c2a9ca7alevel0_row0\" class=\"row_heading level0 row0\" >A</th>\n",
       "                        <td id=\"T_17b3bc64_0328_11eb_835b_7085c2a9ca7arow0_col0\" class=\"data row0 col0\" >0.000000</td>\n",
       "                        <td id=\"T_17b3bc64_0328_11eb_835b_7085c2a9ca7arow0_col1\" class=\"data row0 col1\" >nan</td>\n",
       "                        <td id=\"T_17b3bc64_0328_11eb_835b_7085c2a9ca7arow0_col2\" class=\"data row0 col2\" >4.791485</td>\n",
       "                        <td id=\"T_17b3bc64_0328_11eb_835b_7085c2a9ca7arow0_col3\" class=\"data row0 col3\" >2.292414</td>\n",
       "                        <td id=\"T_17b3bc64_0328_11eb_835b_7085c2a9ca7arow0_col4\" class=\"data row0 col4\" >4.571934</td>\n",
       "                        <td id=\"T_17b3bc64_0328_11eb_835b_7085c2a9ca7arow0_col5\" class=\"data row0 col5\" >1.919980</td>\n",
       "            </tr>\n",
       "            <tr>\n",
       "                        <th id=\"T_17b3bc64_0328_11eb_835b_7085c2a9ca7alevel0_row1\" class=\"row_heading level0 row1\" >(B, D)</th>\n",
       "                        <td id=\"T_17b3bc64_0328_11eb_835b_7085c2a9ca7arow1_col0\" class=\"data row1 col0\" >nan</td>\n",
       "                        <td id=\"T_17b3bc64_0328_11eb_835b_7085c2a9ca7arow1_col1\" class=\"data row1 col1\" >0.000000</td>\n",
       "                        <td id=\"T_17b3bc64_0328_11eb_835b_7085c2a9ca7arow1_col2\" class=\"data row1 col2\" >nan</td>\n",
       "                        <td id=\"T_17b3bc64_0328_11eb_835b_7085c2a9ca7arow1_col3\" class=\"data row1 col3\" >nan</td>\n",
       "                        <td id=\"T_17b3bc64_0328_11eb_835b_7085c2a9ca7arow1_col4\" class=\"data row1 col4\" >nan</td>\n",
       "                        <td id=\"T_17b3bc64_0328_11eb_835b_7085c2a9ca7arow1_col5\" class=\"data row1 col5\" >nan</td>\n",
       "            </tr>\n",
       "            <tr>\n",
       "                        <th id=\"T_17b3bc64_0328_11eb_835b_7085c2a9ca7alevel0_row2\" class=\"row_heading level0 row2\" >C</th>\n",
       "                        <td id=\"T_17b3bc64_0328_11eb_835b_7085c2a9ca7arow2_col0\" class=\"data row2 col0\" >4.791485</td>\n",
       "                        <td id=\"T_17b3bc64_0328_11eb_835b_7085c2a9ca7arow2_col1\" class=\"data row2 col1\" >nan</td>\n",
       "                        <td id=\"T_17b3bc64_0328_11eb_835b_7085c2a9ca7arow2_col2\" class=\"data row2 col2\" >0.000000</td>\n",
       "                        <td id=\"T_17b3bc64_0328_11eb_835b_7085c2a9ca7arow2_col3\" class=\"data row2 col3\" >6.430572</td>\n",
       "                        <td id=\"T_17b3bc64_0328_11eb_835b_7085c2a9ca7arow2_col4\" class=\"data row2 col4\" >3.747114</td>\n",
       "                        <td id=\"T_17b3bc64_0328_11eb_835b_7085c2a9ca7arow2_col5\" class=\"data row2 col5\" >6.711446</td>\n",
       "            </tr>\n",
       "            <tr>\n",
       "                        <th id=\"T_17b3bc64_0328_11eb_835b_7085c2a9ca7alevel0_row3\" class=\"row_heading level0 row3\" >E</th>\n",
       "                        <td id=\"T_17b3bc64_0328_11eb_835b_7085c2a9ca7arow3_col0\" class=\"data row3 col0\" >2.292414</td>\n",
       "                        <td id=\"T_17b3bc64_0328_11eb_835b_7085c2a9ca7arow3_col1\" class=\"data row3 col1\" >nan</td>\n",
       "                        <td id=\"T_17b3bc64_0328_11eb_835b_7085c2a9ca7arow3_col2\" class=\"data row3 col2\" >6.430572</td>\n",
       "                        <td id=\"T_17b3bc64_0328_11eb_835b_7085c2a9ca7arow3_col3\" class=\"data row3 col3\" >0.000000</td>\n",
       "                        <td id=\"T_17b3bc64_0328_11eb_835b_7085c2a9ca7arow3_col4\" class=\"data row3 col4\" >6.855527</td>\n",
       "                        <td id=\"T_17b3bc64_0328_11eb_835b_7085c2a9ca7arow3_col5\" class=\"data row3 col5\" >1.926839</td>\n",
       "            </tr>\n",
       "            <tr>\n",
       "                        <th id=\"T_17b3bc64_0328_11eb_835b_7085c2a9ca7alevel0_row4\" class=\"row_heading level0 row4\" >F</th>\n",
       "                        <td id=\"T_17b3bc64_0328_11eb_835b_7085c2a9ca7arow4_col0\" class=\"data row4 col0\" >4.571934</td>\n",
       "                        <td id=\"T_17b3bc64_0328_11eb_835b_7085c2a9ca7arow4_col1\" class=\"data row4 col1\" >nan</td>\n",
       "                        <td id=\"T_17b3bc64_0328_11eb_835b_7085c2a9ca7arow4_col2\" class=\"data row4 col2\" >3.747114</td>\n",
       "                        <td id=\"T_17b3bc64_0328_11eb_835b_7085c2a9ca7arow4_col3\" class=\"data row4 col3\" >6.855527</td>\n",
       "                        <td id=\"T_17b3bc64_0328_11eb_835b_7085c2a9ca7arow4_col4\" class=\"data row4 col4\" >0.000000</td>\n",
       "                        <td id=\"T_17b3bc64_0328_11eb_835b_7085c2a9ca7arow4_col5\" class=\"data row4 col5\" >6.039230</td>\n",
       "            </tr>\n",
       "            <tr>\n",
       "                        <th id=\"T_17b3bc64_0328_11eb_835b_7085c2a9ca7alevel0_row5\" class=\"row_heading level0 row5\" >G</th>\n",
       "                        <td id=\"T_17b3bc64_0328_11eb_835b_7085c2a9ca7arow5_col0\" class=\"data row5 col0\" >1.919980</td>\n",
       "                        <td id=\"T_17b3bc64_0328_11eb_835b_7085c2a9ca7arow5_col1\" class=\"data row5 col1\" >nan</td>\n",
       "                        <td id=\"T_17b3bc64_0328_11eb_835b_7085c2a9ca7arow5_col2\" class=\"data row5 col2\" >6.711446</td>\n",
       "                        <td id=\"T_17b3bc64_0328_11eb_835b_7085c2a9ca7arow5_col3\" class=\"data row5 col3\" >1.926839</td>\n",
       "                        <td id=\"T_17b3bc64_0328_11eb_835b_7085c2a9ca7arow5_col4\" class=\"data row5 col4\" >6.039230</td>\n",
       "                        <td id=\"T_17b3bc64_0328_11eb_835b_7085c2a9ca7arow5_col5\" class=\"data row5 col5\" >0.000000</td>\n",
       "            </tr>\n",
       "    </tbody></table>"
      ],
      "text/plain": [
       "<pandas.io.formats.style.Styler at 0x18dd6fbaac8>"
      ]
     },
     "execution_count": 8,
     "metadata": {},
     "output_type": "execute_result"
    },
    {
     "data": {
      "application/javascript": [
       "\n",
       "            setTimeout(function() {\n",
       "                var nbb_cell_id = 8;\n",
       "                var nbb_unformatted_code = \"merge = sorted([two_closest.iloc[0, 0], two_closest.iloc[0, 1]])\\nmerged_name = f\\\"({merge[0]}, {merge[1]})\\\"\\n\\n# Make a new distance matrix\\nmerged_dist_mat = dist_mat.drop(index=[merge[1]], columns=[merge[1]])\\nmerged_dist_mat = merged_dist_mat.rename(\\n    index={merge[0]: merged_name}, columns={merge[0]: merged_name}\\n)\\nmerged_dist_mat.loc[:, merged_name] = np.nan\\nmerged_dist_mat.loc[merged_name, :] = np.nan\\nmerged_dist_mat.loc[merged_name, merged_name] = 0\\nmerged_dist_mat.style.background_gradient(axis=None)\";\n",
       "                var nbb_formatted_code = \"merge = sorted([two_closest.iloc[0, 0], two_closest.iloc[0, 1]])\\nmerged_name = f\\\"({merge[0]}, {merge[1]})\\\"\\n\\n# Make a new distance matrix\\nmerged_dist_mat = dist_mat.drop(index=[merge[1]], columns=[merge[1]])\\nmerged_dist_mat = merged_dist_mat.rename(\\n    index={merge[0]: merged_name}, columns={merge[0]: merged_name}\\n)\\nmerged_dist_mat.loc[:, merged_name] = np.nan\\nmerged_dist_mat.loc[merged_name, :] = np.nan\\nmerged_dist_mat.loc[merged_name, merged_name] = 0\\nmerged_dist_mat.style.background_gradient(axis=None)\";\n",
       "                var nbb_cells = Jupyter.notebook.get_cells();\n",
       "                for (var i = 0; i < nbb_cells.length; ++i) {\n",
       "                    if (nbb_cells[i].input_prompt_number == nbb_cell_id) {\n",
       "                        if (nbb_cells[i].get_text() == nbb_unformatted_code) {\n",
       "                             nbb_cells[i].set_text(nbb_formatted_code);\n",
       "                        }\n",
       "                        break;\n",
       "                    }\n",
       "                }\n",
       "            }, 500);\n",
       "            "
      ],
      "text/plain": [
       "<IPython.core.display.Javascript object>"
      ]
     },
     "metadata": {},
     "output_type": "display_data"
    }
   ],
   "source": [
    "merge = sorted([two_closest.iloc[0, 0], two_closest.iloc[0, 1]])\n",
    "merged_name = f\"({merge[0]}, {merge[1]})\"\n",
    "\n",
    "# Make a new distance matrix\n",
    "merged_dist_mat = dist_mat.drop(index=[merge[1]], columns=[merge[1]])\n",
    "merged_dist_mat = merged_dist_mat.rename(\n",
    "    index={merge[0]: merged_name}, columns={merge[0]: merged_name}\n",
    ")\n",
    "merged_dist_mat.loc[:, merged_name] = np.nan\n",
    "merged_dist_mat.loc[merged_name, :] = np.nan\n",
    "merged_dist_mat.loc[merged_name, merged_name] = 0\n",
    "merged_dist_mat.style.background_gradient(axis=None)"
   ]
  },
  {
   "cell_type": "markdown",
   "metadata": {
    "hideCode": true,
    "hidePrompt": true
   },
   "source": [
    "Below are all the relationships that we need to address.  How do we combine the duplicated pairs of rows into a single record?"
   ]
  },
  {
   "cell_type": "code",
   "execution_count": 9,
   "metadata": {
    "hideCode": true,
    "hidePrompt": true,
    "scrolled": true
   },
   "outputs": [
    {
     "data": {
      "text/html": [
       "<div>\n",
       "<style scoped>\n",
       "    .dataframe tbody tr th:only-of-type {\n",
       "        vertical-align: middle;\n",
       "    }\n",
       "\n",
       "    .dataframe tbody tr th {\n",
       "        vertical-align: top;\n",
       "    }\n",
       "\n",
       "    .dataframe thead th {\n",
       "        text-align: right;\n",
       "    }\n",
       "</style>\n",
       "<table border=\"1\" class=\"dataframe\">\n",
       "  <thead>\n",
       "    <tr style=\"text-align: right;\">\n",
       "      <th></th>\n",
       "      <th>sample_1</th>\n",
       "      <th>sample_2</th>\n",
       "      <th>dist</th>\n",
       "    </tr>\n",
       "  </thead>\n",
       "  <tbody>\n",
       "    <tr>\n",
       "      <th>0</th>\n",
       "      <td>A</td>\n",
       "      <td>(B, D)</td>\n",
       "      <td>2.604224</td>\n",
       "    </tr>\n",
       "    <tr>\n",
       "      <th>3</th>\n",
       "      <td>A</td>\n",
       "      <td>(B, D)</td>\n",
       "      <td>1.353632</td>\n",
       "    </tr>\n",
       "    <tr>\n",
       "      <th>2</th>\n",
       "      <td>C</td>\n",
       "      <td>(B, D)</td>\n",
       "      <td>4.930005</td>\n",
       "    </tr>\n",
       "    <tr>\n",
       "      <th>5</th>\n",
       "      <td>C</td>\n",
       "      <td>(B, D)</td>\n",
       "      <td>4.390253</td>\n",
       "    </tr>\n",
       "    <tr>\n",
       "      <th>7</th>\n",
       "      <td>E</td>\n",
       "      <td>(B, D)</td>\n",
       "      <td>4.788714</td>\n",
       "    </tr>\n",
       "    <tr>\n",
       "      <th>9</th>\n",
       "      <td>E</td>\n",
       "      <td>(B, D)</td>\n",
       "      <td>3.628723</td>\n",
       "    </tr>\n",
       "    <tr>\n",
       "      <th>11</th>\n",
       "      <td>F</td>\n",
       "      <td>(B, D)</td>\n",
       "      <td>2.669741</td>\n",
       "    </tr>\n",
       "    <tr>\n",
       "      <th>13</th>\n",
       "      <td>F</td>\n",
       "      <td>(B, D)</td>\n",
       "      <td>3.308337</td>\n",
       "    </tr>\n",
       "    <tr>\n",
       "      <th>16</th>\n",
       "      <td>G</td>\n",
       "      <td>(B, D)</td>\n",
       "      <td>3.549159</td>\n",
       "    </tr>\n",
       "    <tr>\n",
       "      <th>18</th>\n",
       "      <td>G</td>\n",
       "      <td>(B, D)</td>\n",
       "      <td>2.775801</td>\n",
       "    </tr>\n",
       "  </tbody>\n",
       "</table>\n",
       "</div>"
      ],
      "text/plain": [
       "   sample_1 sample_2      dist\n",
       "0         A   (B, D)  2.604224\n",
       "3         A   (B, D)  1.353632\n",
       "2         C   (B, D)  4.930005\n",
       "5         C   (B, D)  4.390253\n",
       "7         E   (B, D)  4.788714\n",
       "9         E   (B, D)  3.628723\n",
       "11        F   (B, D)  2.669741\n",
       "13        F   (B, D)  3.308337\n",
       "16        G   (B, D)  3.549159\n",
       "18        G   (B, D)  2.775801"
      ]
     },
     "execution_count": 9,
     "metadata": {},
     "output_type": "execute_result"
    },
    {
     "data": {
      "application/javascript": [
       "\n",
       "            setTimeout(function() {\n",
       "                var nbb_cell_id = 9;\n",
       "                var nbb_unformatted_code = \"# Filter to rows that concern the merging pair\\n# Remove row for the pair\\nmerge_dist_df = dist_df[\\n    dist_df[\\\"sample_1\\\"].isin(merge) | dist_df[\\\"sample_2\\\"].isin(merge)\\n]\\nmerge_dist_df = merge_dist_df[\\n    ~(merge_dist_df[\\\"sample_1\\\"].isin(merge) & merge_dist_df[\\\"sample_2\\\"].isin(merge))\\n]\\n\\n# Swap values so sample_2 is always the merge pair\\nswap_rows = merge_dist_df[\\\"sample_1\\\"].isin(merge)\\ncopy = merge_dist_df.copy()\\nmerge_dist_df.loc[swap_rows, \\\"sample_1\\\"] = copy.loc[swap_rows, \\\"sample_2\\\"]\\nmerge_dist_df.loc[swap_rows, \\\"sample_2\\\"] = copy.loc[swap_rows, \\\"sample_1\\\"]\\nmerge_dist_df.loc[:, \\\"sample_2\\\"] = merged_name\\n\\nmerge_dist_df = merge_dist_df.sort_values(\\\"sample_1\\\")\\nmerge_dist_df\";\n",
       "                var nbb_formatted_code = \"# Filter to rows that concern the merging pair\\n# Remove row for the pair\\nmerge_dist_df = dist_df[\\n    dist_df[\\\"sample_1\\\"].isin(merge) | dist_df[\\\"sample_2\\\"].isin(merge)\\n]\\nmerge_dist_df = merge_dist_df[\\n    ~(merge_dist_df[\\\"sample_1\\\"].isin(merge) & merge_dist_df[\\\"sample_2\\\"].isin(merge))\\n]\\n\\n# Swap values so sample_2 is always the merge pair\\nswap_rows = merge_dist_df[\\\"sample_1\\\"].isin(merge)\\ncopy = merge_dist_df.copy()\\nmerge_dist_df.loc[swap_rows, \\\"sample_1\\\"] = copy.loc[swap_rows, \\\"sample_2\\\"]\\nmerge_dist_df.loc[swap_rows, \\\"sample_2\\\"] = copy.loc[swap_rows, \\\"sample_1\\\"]\\nmerge_dist_df.loc[:, \\\"sample_2\\\"] = merged_name\\n\\nmerge_dist_df = merge_dist_df.sort_values(\\\"sample_1\\\")\\nmerge_dist_df\";\n",
       "                var nbb_cells = Jupyter.notebook.get_cells();\n",
       "                for (var i = 0; i < nbb_cells.length; ++i) {\n",
       "                    if (nbb_cells[i].input_prompt_number == nbb_cell_id) {\n",
       "                        if (nbb_cells[i].get_text() == nbb_unformatted_code) {\n",
       "                             nbb_cells[i].set_text(nbb_formatted_code);\n",
       "                        }\n",
       "                        break;\n",
       "                    }\n",
       "                }\n",
       "            }, 500);\n",
       "            "
      ],
      "text/plain": [
       "<IPython.core.display.Javascript object>"
      ]
     },
     "metadata": {},
     "output_type": "display_data"
    }
   ],
   "source": [
    "# Filter to rows that concern the merging pair\n",
    "# Remove row for the pair\n",
    "merge_dist_df = dist_df[\n",
    "    dist_df[\"sample_1\"].isin(merge) | dist_df[\"sample_2\"].isin(merge)\n",
    "]\n",
    "merge_dist_df = merge_dist_df[\n",
    "    ~(merge_dist_df[\"sample_1\"].isin(merge) & merge_dist_df[\"sample_2\"].isin(merge))\n",
    "]\n",
    "\n",
    "# Swap values so sample_2 is always the merge pair\n",
    "swap_rows = merge_dist_df[\"sample_1\"].isin(merge)\n",
    "copy = merge_dist_df.copy()\n",
    "merge_dist_df.loc[swap_rows, \"sample_1\"] = copy.loc[swap_rows, \"sample_2\"]\n",
    "merge_dist_df.loc[swap_rows, \"sample_2\"] = copy.loc[swap_rows, \"sample_1\"]\n",
    "merge_dist_df.loc[:, \"sample_2\"] = merged_name\n",
    "\n",
    "merge_dist_df = merge_dist_df.sort_values(\"sample_1\")\n",
    "merge_dist_df"
   ]
  },
  {
   "cell_type": "markdown",
   "metadata": {
    "hideCode": true,
    "hidePrompt": true
   },
   "source": [
    "We could:\n",
    "* Combine by taking the **minimum** dist from each collapsing pair.\n",
    "    * This is also referred to as 'single linkage'.\n",
    "    * This has the effect of making the merged pair closer to every other observation.\n",
    "    \n",
    "    \n",
    "* Combine by taking the **maximum** dist from each collapsing pair.\n",
    "    * This is also referred to as 'complete linkage'.\n",
    "    * This has the effect of making the merged pair further from every other observation.\n",
    "    \n",
    "    \n",
    "* Combine by taking the **mean** dist from each collapsing pair.\n",
    "    * This is also referred to as 'average linkage'."
   ]
  },
  {
   "cell_type": "code",
   "execution_count": 10,
   "metadata": {
    "hideCode": true,
    "hidePrompt": true
   },
   "outputs": [
    {
     "data": {
      "text/html": [
       "<div>\n",
       "<style scoped>\n",
       "    .dataframe tbody tr th:only-of-type {\n",
       "        vertical-align: middle;\n",
       "    }\n",
       "\n",
       "    .dataframe tbody tr th {\n",
       "        vertical-align: top;\n",
       "    }\n",
       "\n",
       "    .dataframe thead th {\n",
       "        text-align: right;\n",
       "    }\n",
       "</style>\n",
       "<table border=\"1\" class=\"dataframe\">\n",
       "  <thead>\n",
       "    <tr style=\"text-align: right;\">\n",
       "      <th></th>\n",
       "      <th>single_linkage</th>\n",
       "      <th>compete_linkage</th>\n",
       "      <th>avg_linkage</th>\n",
       "    </tr>\n",
       "    <tr>\n",
       "      <th>sample_1</th>\n",
       "      <th></th>\n",
       "      <th></th>\n",
       "      <th></th>\n",
       "    </tr>\n",
       "  </thead>\n",
       "  <tbody>\n",
       "    <tr>\n",
       "      <th>A</th>\n",
       "      <td>1.353632</td>\n",
       "      <td>2.604224</td>\n",
       "      <td>1.978928</td>\n",
       "    </tr>\n",
       "    <tr>\n",
       "      <th>C</th>\n",
       "      <td>4.390253</td>\n",
       "      <td>4.930005</td>\n",
       "      <td>4.660129</td>\n",
       "    </tr>\n",
       "    <tr>\n",
       "      <th>E</th>\n",
       "      <td>3.628723</td>\n",
       "      <td>4.788714</td>\n",
       "      <td>4.208719</td>\n",
       "    </tr>\n",
       "    <tr>\n",
       "      <th>F</th>\n",
       "      <td>2.669741</td>\n",
       "      <td>3.308337</td>\n",
       "      <td>2.989039</td>\n",
       "    </tr>\n",
       "    <tr>\n",
       "      <th>G</th>\n",
       "      <td>2.775801</td>\n",
       "      <td>3.549159</td>\n",
       "      <td>3.162480</td>\n",
       "    </tr>\n",
       "  </tbody>\n",
       "</table>\n",
       "</div>"
      ],
      "text/plain": [
       "          single_linkage  compete_linkage  avg_linkage\n",
       "sample_1                                              \n",
       "A               1.353632         2.604224     1.978928\n",
       "C               4.390253         4.930005     4.660129\n",
       "E               3.628723         4.788714     4.208719\n",
       "F               2.669741         3.308337     2.989039\n",
       "G               2.775801         3.549159     3.162480"
      ]
     },
     "execution_count": 10,
     "metadata": {},
     "output_type": "execute_result"
    },
    {
     "data": {
      "application/javascript": [
       "\n",
       "            setTimeout(function() {\n",
       "                var nbb_cell_id = 10;\n",
       "                var nbb_unformatted_code = \"merged_dists_min = merge_dist_df.groupby(\\\"sample_1\\\").agg({\\\"dist\\\": \\\"min\\\"})\\nmerged_dists_max = merge_dist_df.groupby(\\\"sample_1\\\").agg({\\\"dist\\\": \\\"max\\\"})\\nmerged_dists = merge_dist_df.groupby(\\\"sample_1\\\").agg({\\\"dist\\\": \\\"mean\\\"})\\n\\nmerged_dists_min.columns = [\\\"single_linkage\\\"]\\nmerged_dists_max.columns = [\\\"compete_linkage\\\"]\\nmerged_dists.columns = [\\\"avg_linkage\\\"]\\n\\npd.concat((merged_dists_min, merged_dists_max, merged_dists), axis=1)\";\n",
       "                var nbb_formatted_code = \"merged_dists_min = merge_dist_df.groupby(\\\"sample_1\\\").agg({\\\"dist\\\": \\\"min\\\"})\\nmerged_dists_max = merge_dist_df.groupby(\\\"sample_1\\\").agg({\\\"dist\\\": \\\"max\\\"})\\nmerged_dists = merge_dist_df.groupby(\\\"sample_1\\\").agg({\\\"dist\\\": \\\"mean\\\"})\\n\\nmerged_dists_min.columns = [\\\"single_linkage\\\"]\\nmerged_dists_max.columns = [\\\"compete_linkage\\\"]\\nmerged_dists.columns = [\\\"avg_linkage\\\"]\\n\\npd.concat((merged_dists_min, merged_dists_max, merged_dists), axis=1)\";\n",
       "                var nbb_cells = Jupyter.notebook.get_cells();\n",
       "                for (var i = 0; i < nbb_cells.length; ++i) {\n",
       "                    if (nbb_cells[i].input_prompt_number == nbb_cell_id) {\n",
       "                        if (nbb_cells[i].get_text() == nbb_unformatted_code) {\n",
       "                             nbb_cells[i].set_text(nbb_formatted_code);\n",
       "                        }\n",
       "                        break;\n",
       "                    }\n",
       "                }\n",
       "            }, 500);\n",
       "            "
      ],
      "text/plain": [
       "<IPython.core.display.Javascript object>"
      ]
     },
     "metadata": {},
     "output_type": "display_data"
    }
   ],
   "source": [
    "merged_dists_min = merge_dist_df.groupby(\"sample_1\").agg({\"dist\": \"min\"})\n",
    "merged_dists_max = merge_dist_df.groupby(\"sample_1\").agg({\"dist\": \"max\"})\n",
    "merged_dists = merge_dist_df.groupby(\"sample_1\").agg({\"dist\": \"mean\"})\n",
    "\n",
    "merged_dists_min.columns = [\"single_linkage\"]\n",
    "merged_dists_max.columns = [\"compete_linkage\"]\n",
    "merged_dists.columns = [\"avg_linkage\"]\n",
    "\n",
    "pd.concat((merged_dists_min, merged_dists_max, merged_dists), axis=1)"
   ]
  },
  {
   "cell_type": "markdown",
   "metadata": {
    "hideCode": true,
    "hidePrompt": true
   },
   "source": [
    "Let's take the middle ground for now and use average linkage."
   ]
  },
  {
   "cell_type": "code",
   "execution_count": 11,
   "metadata": {
    "hideCode": true,
    "hidePrompt": true
   },
   "outputs": [
    {
     "data": {
      "text/html": [
       "<style  type=\"text/css\" >\n",
       "    #T_1887b2d2_0328_11eb_9fc3_7085c2a9ca7arow0_col0 {\n",
       "            background-color:  #fff7fb;\n",
       "            color:  #000000;\n",
       "        }    #T_1887b2d2_0328_11eb_9fc3_7085c2a9ca7arow0_col1 {\n",
       "            background-color:  #c4cbe3;\n",
       "            color:  #000000;\n",
       "        }    #T_1887b2d2_0328_11eb_9fc3_7085c2a9ca7arow0_col2 {\n",
       "            background-color:  #197db7;\n",
       "            color:  #000000;\n",
       "        }    #T_1887b2d2_0328_11eb_9fc3_7085c2a9ca7arow0_col3 {\n",
       "            background-color:  #b4c4df;\n",
       "            color:  #000000;\n",
       "        }    #T_1887b2d2_0328_11eb_9fc3_7085c2a9ca7arow0_col4 {\n",
       "            background-color:  #2685bb;\n",
       "            color:  #000000;\n",
       "        }    #T_1887b2d2_0328_11eb_9fc3_7085c2a9ca7arow0_col5 {\n",
       "            background-color:  #c6cce3;\n",
       "            color:  #000000;\n",
       "        }    #T_1887b2d2_0328_11eb_9fc3_7085c2a9ca7arow1_col0 {\n",
       "            background-color:  #c4cbe3;\n",
       "            color:  #000000;\n",
       "        }    #T_1887b2d2_0328_11eb_9fc3_7085c2a9ca7arow1_col1 {\n",
       "            background-color:  #fff7fb;\n",
       "            color:  #000000;\n",
       "        }    #T_1887b2d2_0328_11eb_9fc3_7085c2a9ca7arow1_col2 {\n",
       "            background-color:  #2081b9;\n",
       "            color:  #000000;\n",
       "        }    #T_1887b2d2_0328_11eb_9fc3_7085c2a9ca7arow1_col3 {\n",
       "            background-color:  #3b92c1;\n",
       "            color:  #000000;\n",
       "        }    #T_1887b2d2_0328_11eb_9fc3_7085c2a9ca7arow1_col4 {\n",
       "            background-color:  #8eb3d5;\n",
       "            color:  #000000;\n",
       "        }    #T_1887b2d2_0328_11eb_9fc3_7085c2a9ca7arow1_col5 {\n",
       "            background-color:  #83afd3;\n",
       "            color:  #000000;\n",
       "        }    #T_1887b2d2_0328_11eb_9fc3_7085c2a9ca7arow2_col0 {\n",
       "            background-color:  #197db7;\n",
       "            color:  #000000;\n",
       "        }    #T_1887b2d2_0328_11eb_9fc3_7085c2a9ca7arow2_col1 {\n",
       "            background-color:  #2081b9;\n",
       "            color:  #000000;\n",
       "        }    #T_1887b2d2_0328_11eb_9fc3_7085c2a9ca7arow2_col2 {\n",
       "            background-color:  #fff7fb;\n",
       "            color:  #000000;\n",
       "        }    #T_1887b2d2_0328_11eb_9fc3_7085c2a9ca7arow2_col3 {\n",
       "            background-color:  #034871;\n",
       "            color:  #f1f1f1;\n",
       "        }    #T_1887b2d2_0328_11eb_9fc3_7085c2a9ca7arow2_col4 {\n",
       "            background-color:  #5ea0ca;\n",
       "            color:  #000000;\n",
       "        }    #T_1887b2d2_0328_11eb_9fc3_7085c2a9ca7arow2_col5 {\n",
       "            background-color:  #023d60;\n",
       "            color:  #f1f1f1;\n",
       "        }    #T_1887b2d2_0328_11eb_9fc3_7085c2a9ca7arow3_col0 {\n",
       "            background-color:  #b4c4df;\n",
       "            color:  #000000;\n",
       "        }    #T_1887b2d2_0328_11eb_9fc3_7085c2a9ca7arow3_col1 {\n",
       "            background-color:  #3b92c1;\n",
       "            color:  #000000;\n",
       "        }    #T_1887b2d2_0328_11eb_9fc3_7085c2a9ca7arow3_col2 {\n",
       "            background-color:  #034871;\n",
       "            color:  #f1f1f1;\n",
       "        }    #T_1887b2d2_0328_11eb_9fc3_7085c2a9ca7arow3_col3 {\n",
       "            background-color:  #fff7fb;\n",
       "            color:  #000000;\n",
       "        }    #T_1887b2d2_0328_11eb_9fc3_7085c2a9ca7arow3_col4 {\n",
       "            background-color:  #023858;\n",
       "            color:  #f1f1f1;\n",
       "        }    #T_1887b2d2_0328_11eb_9fc3_7085c2a9ca7arow3_col5 {\n",
       "            background-color:  #c6cce3;\n",
       "            color:  #000000;\n",
       "        }    #T_1887b2d2_0328_11eb_9fc3_7085c2a9ca7arow4_col0 {\n",
       "            background-color:  #2685bb;\n",
       "            color:  #000000;\n",
       "        }    #T_1887b2d2_0328_11eb_9fc3_7085c2a9ca7arow4_col1 {\n",
       "            background-color:  #8eb3d5;\n",
       "            color:  #000000;\n",
       "        }    #T_1887b2d2_0328_11eb_9fc3_7085c2a9ca7arow4_col2 {\n",
       "            background-color:  #5ea0ca;\n",
       "            color:  #000000;\n",
       "        }    #T_1887b2d2_0328_11eb_9fc3_7085c2a9ca7arow4_col3 {\n",
       "            background-color:  #023858;\n",
       "            color:  #f1f1f1;\n",
       "        }    #T_1887b2d2_0328_11eb_9fc3_7085c2a9ca7arow4_col4 {\n",
       "            background-color:  #fff7fb;\n",
       "            color:  #000000;\n",
       "        }    #T_1887b2d2_0328_11eb_9fc3_7085c2a9ca7arow4_col5 {\n",
       "            background-color:  #04588a;\n",
       "            color:  #f1f1f1;\n",
       "        }    #T_1887b2d2_0328_11eb_9fc3_7085c2a9ca7arow5_col0 {\n",
       "            background-color:  #c6cce3;\n",
       "            color:  #000000;\n",
       "        }    #T_1887b2d2_0328_11eb_9fc3_7085c2a9ca7arow5_col1 {\n",
       "            background-color:  #83afd3;\n",
       "            color:  #000000;\n",
       "        }    #T_1887b2d2_0328_11eb_9fc3_7085c2a9ca7arow5_col2 {\n",
       "            background-color:  #023d60;\n",
       "            color:  #f1f1f1;\n",
       "        }    #T_1887b2d2_0328_11eb_9fc3_7085c2a9ca7arow5_col3 {\n",
       "            background-color:  #c6cce3;\n",
       "            color:  #000000;\n",
       "        }    #T_1887b2d2_0328_11eb_9fc3_7085c2a9ca7arow5_col4 {\n",
       "            background-color:  #04588a;\n",
       "            color:  #f1f1f1;\n",
       "        }    #T_1887b2d2_0328_11eb_9fc3_7085c2a9ca7arow5_col5 {\n",
       "            background-color:  #fff7fb;\n",
       "            color:  #000000;\n",
       "        }</style><table id=\"T_1887b2d2_0328_11eb_9fc3_7085c2a9ca7a\" ><thead>    <tr>        <th class=\"blank level0\" ></th>        <th class=\"col_heading level0 col0\" >A</th>        <th class=\"col_heading level0 col1\" >(B, D)</th>        <th class=\"col_heading level0 col2\" >C</th>        <th class=\"col_heading level0 col3\" >E</th>        <th class=\"col_heading level0 col4\" >F</th>        <th class=\"col_heading level0 col5\" >G</th>    </tr></thead><tbody>\n",
       "                <tr>\n",
       "                        <th id=\"T_1887b2d2_0328_11eb_9fc3_7085c2a9ca7alevel0_row0\" class=\"row_heading level0 row0\" >A</th>\n",
       "                        <td id=\"T_1887b2d2_0328_11eb_9fc3_7085c2a9ca7arow0_col0\" class=\"data row0 col0\" >0.000000</td>\n",
       "                        <td id=\"T_1887b2d2_0328_11eb_9fc3_7085c2a9ca7arow0_col1\" class=\"data row0 col1\" >1.978928</td>\n",
       "                        <td id=\"T_1887b2d2_0328_11eb_9fc3_7085c2a9ca7arow0_col2\" class=\"data row0 col2\" >4.791485</td>\n",
       "                        <td id=\"T_1887b2d2_0328_11eb_9fc3_7085c2a9ca7arow0_col3\" class=\"data row0 col3\" >2.292414</td>\n",
       "                        <td id=\"T_1887b2d2_0328_11eb_9fc3_7085c2a9ca7arow0_col4\" class=\"data row0 col4\" >4.571934</td>\n",
       "                        <td id=\"T_1887b2d2_0328_11eb_9fc3_7085c2a9ca7arow0_col5\" class=\"data row0 col5\" >1.919980</td>\n",
       "            </tr>\n",
       "            <tr>\n",
       "                        <th id=\"T_1887b2d2_0328_11eb_9fc3_7085c2a9ca7alevel0_row1\" class=\"row_heading level0 row1\" >(B, D)</th>\n",
       "                        <td id=\"T_1887b2d2_0328_11eb_9fc3_7085c2a9ca7arow1_col0\" class=\"data row1 col0\" >1.978928</td>\n",
       "                        <td id=\"T_1887b2d2_0328_11eb_9fc3_7085c2a9ca7arow1_col1\" class=\"data row1 col1\" >0.000000</td>\n",
       "                        <td id=\"T_1887b2d2_0328_11eb_9fc3_7085c2a9ca7arow1_col2\" class=\"data row1 col2\" >4.660129</td>\n",
       "                        <td id=\"T_1887b2d2_0328_11eb_9fc3_7085c2a9ca7arow1_col3\" class=\"data row1 col3\" >4.208719</td>\n",
       "                        <td id=\"T_1887b2d2_0328_11eb_9fc3_7085c2a9ca7arow1_col4\" class=\"data row1 col4\" >2.989039</td>\n",
       "                        <td id=\"T_1887b2d2_0328_11eb_9fc3_7085c2a9ca7arow1_col5\" class=\"data row1 col5\" >3.162480</td>\n",
       "            </tr>\n",
       "            <tr>\n",
       "                        <th id=\"T_1887b2d2_0328_11eb_9fc3_7085c2a9ca7alevel0_row2\" class=\"row_heading level0 row2\" >C</th>\n",
       "                        <td id=\"T_1887b2d2_0328_11eb_9fc3_7085c2a9ca7arow2_col0\" class=\"data row2 col0\" >4.791485</td>\n",
       "                        <td id=\"T_1887b2d2_0328_11eb_9fc3_7085c2a9ca7arow2_col1\" class=\"data row2 col1\" >4.660129</td>\n",
       "                        <td id=\"T_1887b2d2_0328_11eb_9fc3_7085c2a9ca7arow2_col2\" class=\"data row2 col2\" >0.000000</td>\n",
       "                        <td id=\"T_1887b2d2_0328_11eb_9fc3_7085c2a9ca7arow2_col3\" class=\"data row2 col3\" >6.430572</td>\n",
       "                        <td id=\"T_1887b2d2_0328_11eb_9fc3_7085c2a9ca7arow2_col4\" class=\"data row2 col4\" >3.747114</td>\n",
       "                        <td id=\"T_1887b2d2_0328_11eb_9fc3_7085c2a9ca7arow2_col5\" class=\"data row2 col5\" >6.711446</td>\n",
       "            </tr>\n",
       "            <tr>\n",
       "                        <th id=\"T_1887b2d2_0328_11eb_9fc3_7085c2a9ca7alevel0_row3\" class=\"row_heading level0 row3\" >E</th>\n",
       "                        <td id=\"T_1887b2d2_0328_11eb_9fc3_7085c2a9ca7arow3_col0\" class=\"data row3 col0\" >2.292414</td>\n",
       "                        <td id=\"T_1887b2d2_0328_11eb_9fc3_7085c2a9ca7arow3_col1\" class=\"data row3 col1\" >4.208719</td>\n",
       "                        <td id=\"T_1887b2d2_0328_11eb_9fc3_7085c2a9ca7arow3_col2\" class=\"data row3 col2\" >6.430572</td>\n",
       "                        <td id=\"T_1887b2d2_0328_11eb_9fc3_7085c2a9ca7arow3_col3\" class=\"data row3 col3\" >0.000000</td>\n",
       "                        <td id=\"T_1887b2d2_0328_11eb_9fc3_7085c2a9ca7arow3_col4\" class=\"data row3 col4\" >6.855527</td>\n",
       "                        <td id=\"T_1887b2d2_0328_11eb_9fc3_7085c2a9ca7arow3_col5\" class=\"data row3 col5\" >1.926839</td>\n",
       "            </tr>\n",
       "            <tr>\n",
       "                        <th id=\"T_1887b2d2_0328_11eb_9fc3_7085c2a9ca7alevel0_row4\" class=\"row_heading level0 row4\" >F</th>\n",
       "                        <td id=\"T_1887b2d2_0328_11eb_9fc3_7085c2a9ca7arow4_col0\" class=\"data row4 col0\" >4.571934</td>\n",
       "                        <td id=\"T_1887b2d2_0328_11eb_9fc3_7085c2a9ca7arow4_col1\" class=\"data row4 col1\" >2.989039</td>\n",
       "                        <td id=\"T_1887b2d2_0328_11eb_9fc3_7085c2a9ca7arow4_col2\" class=\"data row4 col2\" >3.747114</td>\n",
       "                        <td id=\"T_1887b2d2_0328_11eb_9fc3_7085c2a9ca7arow4_col3\" class=\"data row4 col3\" >6.855527</td>\n",
       "                        <td id=\"T_1887b2d2_0328_11eb_9fc3_7085c2a9ca7arow4_col4\" class=\"data row4 col4\" >0.000000</td>\n",
       "                        <td id=\"T_1887b2d2_0328_11eb_9fc3_7085c2a9ca7arow4_col5\" class=\"data row4 col5\" >6.039230</td>\n",
       "            </tr>\n",
       "            <tr>\n",
       "                        <th id=\"T_1887b2d2_0328_11eb_9fc3_7085c2a9ca7alevel0_row5\" class=\"row_heading level0 row5\" >G</th>\n",
       "                        <td id=\"T_1887b2d2_0328_11eb_9fc3_7085c2a9ca7arow5_col0\" class=\"data row5 col0\" >1.919980</td>\n",
       "                        <td id=\"T_1887b2d2_0328_11eb_9fc3_7085c2a9ca7arow5_col1\" class=\"data row5 col1\" >3.162480</td>\n",
       "                        <td id=\"T_1887b2d2_0328_11eb_9fc3_7085c2a9ca7arow5_col2\" class=\"data row5 col2\" >6.711446</td>\n",
       "                        <td id=\"T_1887b2d2_0328_11eb_9fc3_7085c2a9ca7arow5_col3\" class=\"data row5 col3\" >1.926839</td>\n",
       "                        <td id=\"T_1887b2d2_0328_11eb_9fc3_7085c2a9ca7arow5_col4\" class=\"data row5 col4\" >6.039230</td>\n",
       "                        <td id=\"T_1887b2d2_0328_11eb_9fc3_7085c2a9ca7arow5_col5\" class=\"data row5 col5\" >0.000000</td>\n",
       "            </tr>\n",
       "    </tbody></table>"
      ],
      "text/plain": [
       "<pandas.io.formats.style.Styler at 0x18dd70a4088>"
      ]
     },
     "execution_count": 11,
     "metadata": {},
     "output_type": "execute_result"
    },
    {
     "data": {
      "application/javascript": [
       "\n",
       "            setTimeout(function() {\n",
       "                var nbb_cell_id = 11;\n",
       "                var nbb_unformatted_code = \"for name, row in merged_dists.iterrows():\\n    merged_dist_mat.loc[name, merged_name] = row[\\\"avg_linkage\\\"]\\n    merged_dist_mat.loc[merged_name, name] = row[\\\"avg_linkage\\\"]\\n\\nmerged_dist_mat.style.background_gradient(axis=None)\";\n",
       "                var nbb_formatted_code = \"for name, row in merged_dists.iterrows():\\n    merged_dist_mat.loc[name, merged_name] = row[\\\"avg_linkage\\\"]\\n    merged_dist_mat.loc[merged_name, name] = row[\\\"avg_linkage\\\"]\\n\\nmerged_dist_mat.style.background_gradient(axis=None)\";\n",
       "                var nbb_cells = Jupyter.notebook.get_cells();\n",
       "                for (var i = 0; i < nbb_cells.length; ++i) {\n",
       "                    if (nbb_cells[i].input_prompt_number == nbb_cell_id) {\n",
       "                        if (nbb_cells[i].get_text() == nbb_unformatted_code) {\n",
       "                             nbb_cells[i].set_text(nbb_formatted_code);\n",
       "                        }\n",
       "                        break;\n",
       "                    }\n",
       "                }\n",
       "            }, 500);\n",
       "            "
      ],
      "text/plain": [
       "<IPython.core.display.Javascript object>"
      ]
     },
     "metadata": {},
     "output_type": "display_data"
    }
   ],
   "source": [
    "for name, row in merged_dists.iterrows():\n",
    "    merged_dist_mat.loc[name, merged_name] = row[\"avg_linkage\"]\n",
    "    merged_dist_mat.loc[merged_name, name] = row[\"avg_linkage\"]\n",
    "\n",
    "merged_dist_mat.style.background_gradient(axis=None)"
   ]
  },
  {
   "cell_type": "markdown",
   "metadata": {
    "hideCode": true,
    "hidePrompt": true
   },
   "source": [
    "## Clustering Step 3:\n",
    "\n",
    "And repeat!\n",
    "\n",
    "Note, if we know we want to end up with `k` clusters.  We can stop this process as soon as we get to `k` clusters."
   ]
  },
  {
   "cell_type": "code",
   "execution_count": 12,
   "metadata": {
    "hideCode": true,
    "hidePrompt": true
   },
   "outputs": [
    {
     "name": "stdout",
     "output_type": "stream",
     "text": [
      "\n",
      "Second merge:\n"
     ]
    },
    {
     "data": {
      "text/html": [
       "<style  type=\"text/css\" >\n",
       "    #T_1911c666_0328_11eb_8318_7085c2a9ca7arow0_col0 {\n",
       "            background-color:  #fff7fb;\n",
       "            color:  #000000;\n",
       "        }    #T_1911c666_0328_11eb_8318_7085c2a9ca7arow0_col1 {\n",
       "            background-color:  #a7bddb;\n",
       "            color:  #000000;\n",
       "        }    #T_1911c666_0328_11eb_8318_7085c2a9ca7arow0_col2 {\n",
       "            background-color:  #046097;\n",
       "            color:  #f1f1f1;\n",
       "        }    #T_1911c666_0328_11eb_8318_7085c2a9ca7arow0_col3 {\n",
       "            background-color:  #bdc8e1;\n",
       "            color:  #000000;\n",
       "        }    #T_1911c666_0328_11eb_8318_7085c2a9ca7arow0_col4 {\n",
       "            background-color:  #056ba9;\n",
       "            color:  #f1f1f1;\n",
       "        }    #T_1911c666_0328_11eb_8318_7085c2a9ca7arow1_col0 {\n",
       "            background-color:  #a7bddb;\n",
       "            color:  #000000;\n",
       "        }    #T_1911c666_0328_11eb_8318_7085c2a9ca7arow1_col1 {\n",
       "            background-color:  #fff7fb;\n",
       "            color:  #000000;\n",
       "        }    #T_1911c666_0328_11eb_8318_7085c2a9ca7arow1_col2 {\n",
       "            background-color:  #2081b9;\n",
       "            color:  #000000;\n",
       "        }    #T_1911c666_0328_11eb_8318_7085c2a9ca7arow1_col3 {\n",
       "            background-color:  #3b92c1;\n",
       "            color:  #000000;\n",
       "        }    #T_1911c666_0328_11eb_8318_7085c2a9ca7arow1_col4 {\n",
       "            background-color:  #8eb3d5;\n",
       "            color:  #000000;\n",
       "        }    #T_1911c666_0328_11eb_8318_7085c2a9ca7arow2_col0 {\n",
       "            background-color:  #046097;\n",
       "            color:  #f1f1f1;\n",
       "        }    #T_1911c666_0328_11eb_8318_7085c2a9ca7arow2_col1 {\n",
       "            background-color:  #2081b9;\n",
       "            color:  #000000;\n",
       "        }    #T_1911c666_0328_11eb_8318_7085c2a9ca7arow2_col2 {\n",
       "            background-color:  #fff7fb;\n",
       "            color:  #000000;\n",
       "        }    #T_1911c666_0328_11eb_8318_7085c2a9ca7arow2_col3 {\n",
       "            background-color:  #034871;\n",
       "            color:  #f1f1f1;\n",
       "        }    #T_1911c666_0328_11eb_8318_7085c2a9ca7arow2_col4 {\n",
       "            background-color:  #5ea0ca;\n",
       "            color:  #000000;\n",
       "        }    #T_1911c666_0328_11eb_8318_7085c2a9ca7arow3_col0 {\n",
       "            background-color:  #bdc8e1;\n",
       "            color:  #000000;\n",
       "        }    #T_1911c666_0328_11eb_8318_7085c2a9ca7arow3_col1 {\n",
       "            background-color:  #3b92c1;\n",
       "            color:  #000000;\n",
       "        }    #T_1911c666_0328_11eb_8318_7085c2a9ca7arow3_col2 {\n",
       "            background-color:  #034871;\n",
       "            color:  #f1f1f1;\n",
       "        }    #T_1911c666_0328_11eb_8318_7085c2a9ca7arow3_col3 {\n",
       "            background-color:  #fff7fb;\n",
       "            color:  #000000;\n",
       "        }    #T_1911c666_0328_11eb_8318_7085c2a9ca7arow3_col4 {\n",
       "            background-color:  #023858;\n",
       "            color:  #f1f1f1;\n",
       "        }    #T_1911c666_0328_11eb_8318_7085c2a9ca7arow4_col0 {\n",
       "            background-color:  #056ba9;\n",
       "            color:  #f1f1f1;\n",
       "        }    #T_1911c666_0328_11eb_8318_7085c2a9ca7arow4_col1 {\n",
       "            background-color:  #8eb3d5;\n",
       "            color:  #000000;\n",
       "        }    #T_1911c666_0328_11eb_8318_7085c2a9ca7arow4_col2 {\n",
       "            background-color:  #5ea0ca;\n",
       "            color:  #000000;\n",
       "        }    #T_1911c666_0328_11eb_8318_7085c2a9ca7arow4_col3 {\n",
       "            background-color:  #023858;\n",
       "            color:  #f1f1f1;\n",
       "        }    #T_1911c666_0328_11eb_8318_7085c2a9ca7arow4_col4 {\n",
       "            background-color:  #fff7fb;\n",
       "            color:  #000000;\n",
       "        }</style><table id=\"T_1911c666_0328_11eb_8318_7085c2a9ca7a\" ><thead>    <tr>        <th class=\"blank level0\" ></th>        <th class=\"col_heading level0 col0\" >(A, G)</th>        <th class=\"col_heading level0 col1\" >(B, D)</th>        <th class=\"col_heading level0 col2\" >C</th>        <th class=\"col_heading level0 col3\" >E</th>        <th class=\"col_heading level0 col4\" >F</th>    </tr></thead><tbody>\n",
       "                <tr>\n",
       "                        <th id=\"T_1911c666_0328_11eb_8318_7085c2a9ca7alevel0_row0\" class=\"row_heading level0 row0\" >(A, G)</th>\n",
       "                        <td id=\"T_1911c666_0328_11eb_8318_7085c2a9ca7arow0_col0\" class=\"data row0 col0\" >0.000000</td>\n",
       "                        <td id=\"T_1911c666_0328_11eb_8318_7085c2a9ca7arow0_col1\" class=\"data row0 col1\" >2.570704</td>\n",
       "                        <td id=\"T_1911c666_0328_11eb_8318_7085c2a9ca7arow0_col2\" class=\"data row0 col2\" >5.751465</td>\n",
       "                        <td id=\"T_1911c666_0328_11eb_8318_7085c2a9ca7arow0_col3\" class=\"data row0 col3\" >2.109626</td>\n",
       "                        <td id=\"T_1911c666_0328_11eb_8318_7085c2a9ca7arow0_col4\" class=\"data row0 col4\" >5.305582</td>\n",
       "            </tr>\n",
       "            <tr>\n",
       "                        <th id=\"T_1911c666_0328_11eb_8318_7085c2a9ca7alevel0_row1\" class=\"row_heading level0 row1\" >(B, D)</th>\n",
       "                        <td id=\"T_1911c666_0328_11eb_8318_7085c2a9ca7arow1_col0\" class=\"data row1 col0\" >2.570704</td>\n",
       "                        <td id=\"T_1911c666_0328_11eb_8318_7085c2a9ca7arow1_col1\" class=\"data row1 col1\" >0.000000</td>\n",
       "                        <td id=\"T_1911c666_0328_11eb_8318_7085c2a9ca7arow1_col2\" class=\"data row1 col2\" >4.660129</td>\n",
       "                        <td id=\"T_1911c666_0328_11eb_8318_7085c2a9ca7arow1_col3\" class=\"data row1 col3\" >4.208719</td>\n",
       "                        <td id=\"T_1911c666_0328_11eb_8318_7085c2a9ca7arow1_col4\" class=\"data row1 col4\" >2.989039</td>\n",
       "            </tr>\n",
       "            <tr>\n",
       "                        <th id=\"T_1911c666_0328_11eb_8318_7085c2a9ca7alevel0_row2\" class=\"row_heading level0 row2\" >C</th>\n",
       "                        <td id=\"T_1911c666_0328_11eb_8318_7085c2a9ca7arow2_col0\" class=\"data row2 col0\" >5.751465</td>\n",
       "                        <td id=\"T_1911c666_0328_11eb_8318_7085c2a9ca7arow2_col1\" class=\"data row2 col1\" >4.660129</td>\n",
       "                        <td id=\"T_1911c666_0328_11eb_8318_7085c2a9ca7arow2_col2\" class=\"data row2 col2\" >0.000000</td>\n",
       "                        <td id=\"T_1911c666_0328_11eb_8318_7085c2a9ca7arow2_col3\" class=\"data row2 col3\" >6.430572</td>\n",
       "                        <td id=\"T_1911c666_0328_11eb_8318_7085c2a9ca7arow2_col4\" class=\"data row2 col4\" >3.747114</td>\n",
       "            </tr>\n",
       "            <tr>\n",
       "                        <th id=\"T_1911c666_0328_11eb_8318_7085c2a9ca7alevel0_row3\" class=\"row_heading level0 row3\" >E</th>\n",
       "                        <td id=\"T_1911c666_0328_11eb_8318_7085c2a9ca7arow3_col0\" class=\"data row3 col0\" >2.109626</td>\n",
       "                        <td id=\"T_1911c666_0328_11eb_8318_7085c2a9ca7arow3_col1\" class=\"data row3 col1\" >4.208719</td>\n",
       "                        <td id=\"T_1911c666_0328_11eb_8318_7085c2a9ca7arow3_col2\" class=\"data row3 col2\" >6.430572</td>\n",
       "                        <td id=\"T_1911c666_0328_11eb_8318_7085c2a9ca7arow3_col3\" class=\"data row3 col3\" >0.000000</td>\n",
       "                        <td id=\"T_1911c666_0328_11eb_8318_7085c2a9ca7arow3_col4\" class=\"data row3 col4\" >6.855527</td>\n",
       "            </tr>\n",
       "            <tr>\n",
       "                        <th id=\"T_1911c666_0328_11eb_8318_7085c2a9ca7alevel0_row4\" class=\"row_heading level0 row4\" >F</th>\n",
       "                        <td id=\"T_1911c666_0328_11eb_8318_7085c2a9ca7arow4_col0\" class=\"data row4 col0\" >5.305582</td>\n",
       "                        <td id=\"T_1911c666_0328_11eb_8318_7085c2a9ca7arow4_col1\" class=\"data row4 col1\" >2.989039</td>\n",
       "                        <td id=\"T_1911c666_0328_11eb_8318_7085c2a9ca7arow4_col2\" class=\"data row4 col2\" >3.747114</td>\n",
       "                        <td id=\"T_1911c666_0328_11eb_8318_7085c2a9ca7arow4_col3\" class=\"data row4 col3\" >6.855527</td>\n",
       "                        <td id=\"T_1911c666_0328_11eb_8318_7085c2a9ca7arow4_col4\" class=\"data row4 col4\" >0.000000</td>\n",
       "            </tr>\n",
       "    </tbody></table>"
      ],
      "text/plain": [
       "<pandas.io.formats.style.Styler at 0x18dd708c5c8>"
      ]
     },
     "metadata": {},
     "output_type": "display_data"
    },
    {
     "name": "stdout",
     "output_type": "stream",
     "text": [
      "\n",
      "Third merge:\n"
     ]
    },
    {
     "data": {
      "text/html": [
       "<style  type=\"text/css\" >\n",
       "    #T_19169f14_0328_11eb_b826_7085c2a9ca7arow0_col0 {\n",
       "            background-color:  #fff7fb;\n",
       "            color:  #000000;\n",
       "        }    #T_19169f14_0328_11eb_b826_7085c2a9ca7arow0_col1 {\n",
       "            background-color:  #056dac;\n",
       "            color:  #f1f1f1;\n",
       "        }    #T_19169f14_0328_11eb_b826_7085c2a9ca7arow0_col2 {\n",
       "            background-color:  #589ec8;\n",
       "            color:  #000000;\n",
       "        }    #T_19169f14_0328_11eb_b826_7085c2a9ca7arow0_col3 {\n",
       "            background-color:  #78abd0;\n",
       "            color:  #000000;\n",
       "        }    #T_19169f14_0328_11eb_b826_7085c2a9ca7arow1_col0 {\n",
       "            background-color:  #056dac;\n",
       "            color:  #f1f1f1;\n",
       "        }    #T_19169f14_0328_11eb_b826_7085c2a9ca7arow1_col1 {\n",
       "            background-color:  #fff7fb;\n",
       "            color:  #000000;\n",
       "        }    #T_19169f14_0328_11eb_b826_7085c2a9ca7arow1_col2 {\n",
       "            background-color:  #023858;\n",
       "            color:  #f1f1f1;\n",
       "        }    #T_19169f14_0328_11eb_b826_7085c2a9ca7arow1_col3 {\n",
       "            background-color:  #3b92c1;\n",
       "            color:  #000000;\n",
       "        }    #T_19169f14_0328_11eb_b826_7085c2a9ca7arow2_col0 {\n",
       "            background-color:  #589ec8;\n",
       "            color:  #000000;\n",
       "        }    #T_19169f14_0328_11eb_b826_7085c2a9ca7arow2_col1 {\n",
       "            background-color:  #023858;\n",
       "            color:  #f1f1f1;\n",
       "        }    #T_19169f14_0328_11eb_b826_7085c2a9ca7arow2_col2 {\n",
       "            background-color:  #fff7fb;\n",
       "            color:  #000000;\n",
       "        }    #T_19169f14_0328_11eb_b826_7085c2a9ca7arow2_col3 {\n",
       "            background-color:  #023858;\n",
       "            color:  #f1f1f1;\n",
       "        }    #T_19169f14_0328_11eb_b826_7085c2a9ca7arow3_col0 {\n",
       "            background-color:  #78abd0;\n",
       "            color:  #000000;\n",
       "        }    #T_19169f14_0328_11eb_b826_7085c2a9ca7arow3_col1 {\n",
       "            background-color:  #3b92c1;\n",
       "            color:  #000000;\n",
       "        }    #T_19169f14_0328_11eb_b826_7085c2a9ca7arow3_col2 {\n",
       "            background-color:  #023858;\n",
       "            color:  #f1f1f1;\n",
       "        }    #T_19169f14_0328_11eb_b826_7085c2a9ca7arow3_col3 {\n",
       "            background-color:  #fff7fb;\n",
       "            color:  #000000;\n",
       "        }</style><table id=\"T_19169f14_0328_11eb_b826_7085c2a9ca7a\" ><thead>    <tr>        <th class=\"blank level0\" ></th>        <th class=\"col_heading level0 col0\" >(B, D)</th>        <th class=\"col_heading level0 col1\" >C</th>        <th class=\"col_heading level0 col2\" >(E, (A, G))</th>        <th class=\"col_heading level0 col3\" >F</th>    </tr></thead><tbody>\n",
       "                <tr>\n",
       "                        <th id=\"T_19169f14_0328_11eb_b826_7085c2a9ca7alevel0_row0\" class=\"row_heading level0 row0\" >(B, D)</th>\n",
       "                        <td id=\"T_19169f14_0328_11eb_b826_7085c2a9ca7arow0_col0\" class=\"data row0 col0\" >0.000000</td>\n",
       "                        <td id=\"T_19169f14_0328_11eb_b826_7085c2a9ca7arow0_col1\" class=\"data row0 col1\" >4.660129</td>\n",
       "                        <td id=\"T_19169f14_0328_11eb_b826_7085c2a9ca7arow0_col2\" class=\"data row0 col2\" >3.389711</td>\n",
       "                        <td id=\"T_19169f14_0328_11eb_b826_7085c2a9ca7arow0_col3\" class=\"data row0 col3\" >2.989039</td>\n",
       "            </tr>\n",
       "            <tr>\n",
       "                        <th id=\"T_19169f14_0328_11eb_b826_7085c2a9ca7alevel0_row1\" class=\"row_heading level0 row1\" >C</th>\n",
       "                        <td id=\"T_19169f14_0328_11eb_b826_7085c2a9ca7arow1_col0\" class=\"data row1 col0\" >4.660129</td>\n",
       "                        <td id=\"T_19169f14_0328_11eb_b826_7085c2a9ca7arow1_col1\" class=\"data row1 col1\" >0.000000</td>\n",
       "                        <td id=\"T_19169f14_0328_11eb_b826_7085c2a9ca7arow1_col2\" class=\"data row1 col2\" >6.091019</td>\n",
       "                        <td id=\"T_19169f14_0328_11eb_b826_7085c2a9ca7arow1_col3\" class=\"data row1 col3\" >3.747114</td>\n",
       "            </tr>\n",
       "            <tr>\n",
       "                        <th id=\"T_19169f14_0328_11eb_b826_7085c2a9ca7alevel0_row2\" class=\"row_heading level0 row2\" >(E, (A, G))</th>\n",
       "                        <td id=\"T_19169f14_0328_11eb_b826_7085c2a9ca7arow2_col0\" class=\"data row2 col0\" >3.389711</td>\n",
       "                        <td id=\"T_19169f14_0328_11eb_b826_7085c2a9ca7arow2_col1\" class=\"data row2 col1\" >6.091019</td>\n",
       "                        <td id=\"T_19169f14_0328_11eb_b826_7085c2a9ca7arow2_col2\" class=\"data row2 col2\" >0.000000</td>\n",
       "                        <td id=\"T_19169f14_0328_11eb_b826_7085c2a9ca7arow2_col3\" class=\"data row2 col3\" >6.080555</td>\n",
       "            </tr>\n",
       "            <tr>\n",
       "                        <th id=\"T_19169f14_0328_11eb_b826_7085c2a9ca7alevel0_row3\" class=\"row_heading level0 row3\" >F</th>\n",
       "                        <td id=\"T_19169f14_0328_11eb_b826_7085c2a9ca7arow3_col0\" class=\"data row3 col0\" >2.989039</td>\n",
       "                        <td id=\"T_19169f14_0328_11eb_b826_7085c2a9ca7arow3_col1\" class=\"data row3 col1\" >3.747114</td>\n",
       "                        <td id=\"T_19169f14_0328_11eb_b826_7085c2a9ca7arow3_col2\" class=\"data row3 col2\" >6.080555</td>\n",
       "                        <td id=\"T_19169f14_0328_11eb_b826_7085c2a9ca7arow3_col3\" class=\"data row3 col3\" >0.000000</td>\n",
       "            </tr>\n",
       "    </tbody></table>"
      ],
      "text/plain": [
       "<pandas.io.formats.style.Styler at 0x18dd70b3108>"
      ]
     },
     "metadata": {},
     "output_type": "display_data"
    },
    {
     "name": "stdout",
     "output_type": "stream",
     "text": [
      "\n",
      "Fourth merge:\n"
     ]
    },
    {
     "data": {
      "text/html": [
       "<style  type=\"text/css\" >\n",
       "    #T_191bb8b4_0328_11eb_b25d_7085c2a9ca7arow0_col0 {\n",
       "            background-color:  #fff7fb;\n",
       "            color:  #000000;\n",
       "        }    #T_191bb8b4_0328_11eb_b25d_7085c2a9ca7arow0_col1 {\n",
       "            background-color:  #023858;\n",
       "            color:  #f1f1f1;\n",
       "        }    #T_191bb8b4_0328_11eb_b25d_7085c2a9ca7arow0_col2 {\n",
       "            background-color:  #1c7fb8;\n",
       "            color:  #000000;\n",
       "        }    #T_191bb8b4_0328_11eb_b25d_7085c2a9ca7arow1_col0 {\n",
       "            background-color:  #023858;\n",
       "            color:  #f1f1f1;\n",
       "        }    #T_191bb8b4_0328_11eb_b25d_7085c2a9ca7arow1_col1 {\n",
       "            background-color:  #fff7fb;\n",
       "            color:  #000000;\n",
       "        }    #T_191bb8b4_0328_11eb_b25d_7085c2a9ca7arow1_col2 {\n",
       "            background-color:  #056ba7;\n",
       "            color:  #f1f1f1;\n",
       "        }    #T_191bb8b4_0328_11eb_b25d_7085c2a9ca7arow2_col0 {\n",
       "            background-color:  #1c7fb8;\n",
       "            color:  #000000;\n",
       "        }    #T_191bb8b4_0328_11eb_b25d_7085c2a9ca7arow2_col1 {\n",
       "            background-color:  #056ba7;\n",
       "            color:  #f1f1f1;\n",
       "        }    #T_191bb8b4_0328_11eb_b25d_7085c2a9ca7arow2_col2 {\n",
       "            background-color:  #fff7fb;\n",
       "            color:  #000000;\n",
       "        }</style><table id=\"T_191bb8b4_0328_11eb_b25d_7085c2a9ca7a\" ><thead>    <tr>        <th class=\"blank level0\" ></th>        <th class=\"col_heading level0 col0\" >C</th>        <th class=\"col_heading level0 col1\" >(E, (A, G))</th>        <th class=\"col_heading level0 col2\" >(F, (B, D))</th>    </tr></thead><tbody>\n",
       "                <tr>\n",
       "                        <th id=\"T_191bb8b4_0328_11eb_b25d_7085c2a9ca7alevel0_row0\" class=\"row_heading level0 row0\" >C</th>\n",
       "                        <td id=\"T_191bb8b4_0328_11eb_b25d_7085c2a9ca7arow0_col0\" class=\"data row0 col0\" >0.000000</td>\n",
       "                        <td id=\"T_191bb8b4_0328_11eb_b25d_7085c2a9ca7arow0_col1\" class=\"data row0 col1\" >6.091019</td>\n",
       "                        <td id=\"T_191bb8b4_0328_11eb_b25d_7085c2a9ca7arow0_col2\" class=\"data row0 col2\" >4.203621</td>\n",
       "            </tr>\n",
       "            <tr>\n",
       "                        <th id=\"T_191bb8b4_0328_11eb_b25d_7085c2a9ca7alevel0_row1\" class=\"row_heading level0 row1\" >(E, (A, G))</th>\n",
       "                        <td id=\"T_191bb8b4_0328_11eb_b25d_7085c2a9ca7arow1_col0\" class=\"data row1 col0\" >6.091019</td>\n",
       "                        <td id=\"T_191bb8b4_0328_11eb_b25d_7085c2a9ca7arow1_col1\" class=\"data row1 col1\" >0.000000</td>\n",
       "                        <td id=\"T_191bb8b4_0328_11eb_b25d_7085c2a9ca7arow1_col2\" class=\"data row1 col2\" >4.735133</td>\n",
       "            </tr>\n",
       "            <tr>\n",
       "                        <th id=\"T_191bb8b4_0328_11eb_b25d_7085c2a9ca7alevel0_row2\" class=\"row_heading level0 row2\" >(F, (B, D))</th>\n",
       "                        <td id=\"T_191bb8b4_0328_11eb_b25d_7085c2a9ca7arow2_col0\" class=\"data row2 col0\" >4.203621</td>\n",
       "                        <td id=\"T_191bb8b4_0328_11eb_b25d_7085c2a9ca7arow2_col1\" class=\"data row2 col1\" >4.735133</td>\n",
       "                        <td id=\"T_191bb8b4_0328_11eb_b25d_7085c2a9ca7arow2_col2\" class=\"data row2 col2\" >0.000000</td>\n",
       "            </tr>\n",
       "    </tbody></table>"
      ],
      "text/plain": [
       "<pandas.io.formats.style.Styler at 0x18dd66e2708>"
      ]
     },
     "metadata": {},
     "output_type": "display_data"
    },
    {
     "name": "stdout",
     "output_type": "stream",
     "text": [
      "\n",
      "Fifth merge:\n"
     ]
    },
    {
     "data": {
      "text/html": [
       "<style  type=\"text/css\" >\n",
       "    #T_191fd4ac_0328_11eb_b608_7085c2a9ca7arow0_col0 {\n",
       "            background-color:  #fff7fb;\n",
       "            color:  #000000;\n",
       "        }    #T_191fd4ac_0328_11eb_b608_7085c2a9ca7arow0_col1 {\n",
       "            background-color:  #023858;\n",
       "            color:  #f1f1f1;\n",
       "        }    #T_191fd4ac_0328_11eb_b608_7085c2a9ca7arow1_col0 {\n",
       "            background-color:  #023858;\n",
       "            color:  #f1f1f1;\n",
       "        }    #T_191fd4ac_0328_11eb_b608_7085c2a9ca7arow1_col1 {\n",
       "            background-color:  #fff7fb;\n",
       "            color:  #000000;\n",
       "        }</style><table id=\"T_191fd4ac_0328_11eb_b608_7085c2a9ca7a\" ><thead>    <tr>        <th class=\"blank level0\" ></th>        <th class=\"col_heading level0 col0\" >(C, (F, (B, D)))</th>        <th class=\"col_heading level0 col1\" >(E, (A, G))</th>    </tr></thead><tbody>\n",
       "                <tr>\n",
       "                        <th id=\"T_191fd4ac_0328_11eb_b608_7085c2a9ca7alevel0_row0\" class=\"row_heading level0 row0\" >(C, (F, (B, D)))</th>\n",
       "                        <td id=\"T_191fd4ac_0328_11eb_b608_7085c2a9ca7arow0_col0\" class=\"data row0 col0\" >0.000000</td>\n",
       "                        <td id=\"T_191fd4ac_0328_11eb_b608_7085c2a9ca7arow0_col1\" class=\"data row0 col1\" >5.413076</td>\n",
       "            </tr>\n",
       "            <tr>\n",
       "                        <th id=\"T_191fd4ac_0328_11eb_b608_7085c2a9ca7alevel0_row1\" class=\"row_heading level0 row1\" >(E, (A, G))</th>\n",
       "                        <td id=\"T_191fd4ac_0328_11eb_b608_7085c2a9ca7arow1_col0\" class=\"data row1 col0\" >5.413076</td>\n",
       "                        <td id=\"T_191fd4ac_0328_11eb_b608_7085c2a9ca7arow1_col1\" class=\"data row1 col1\" >0.000000</td>\n",
       "            </tr>\n",
       "    </tbody></table>"
      ],
      "text/plain": [
       "<pandas.io.formats.style.Styler at 0x18dd709ab88>"
      ]
     },
     "metadata": {},
     "output_type": "display_data"
    },
    {
     "name": "stdout",
     "output_type": "stream",
     "text": [
      "\n",
      "Sixth (Final) merge:\n"
     ]
    },
    {
     "data": {
      "text/html": [
       "<style  type=\"text/css\" >\n",
       "    #T_19232dac_0328_11eb_9f76_7085c2a9ca7arow0_col0 {\n",
       "            background-color:  #fff7fb;\n",
       "            color:  #000000;\n",
       "        }</style><table id=\"T_19232dac_0328_11eb_9f76_7085c2a9ca7a\" ><thead>    <tr>        <th class=\"blank level0\" ></th>        <th class=\"col_heading level0 col0\" >((C, (F, (B, D))), (E, (A, G)))</th>    </tr></thead><tbody>\n",
       "                <tr>\n",
       "                        <th id=\"T_19232dac_0328_11eb_9f76_7085c2a9ca7alevel0_row0\" class=\"row_heading level0 row0\" >((C, (F, (B, D))), (E, (A, G)))</th>\n",
       "                        <td id=\"T_19232dac_0328_11eb_9f76_7085c2a9ca7arow0_col0\" class=\"data row0 col0\" >0.000000</td>\n",
       "            </tr>\n",
       "    </tbody></table>"
      ],
      "text/plain": [
       "<pandas.io.formats.style.Styler at 0x18dd70b3cc8>"
      ]
     },
     "metadata": {},
     "output_type": "display_data"
    },
    {
     "data": {
      "application/javascript": [
       "\n",
       "            setTimeout(function() {\n",
       "                var nbb_cell_id = 12;\n",
       "                var nbb_unformatted_code = \"ordinal_nums = [\\\"Second\\\", \\\"Third\\\", \\\"Fourth\\\", \\\"Fifth\\\", \\\"Sixth (Final)\\\"]\\nfor num in ordinal_nums:\\n    print(f\\\"\\\\n{num} merge:\\\")\\n    merged_dist_mat = merge_closest_pair(merged_dist_mat)\\n    display(merged_dist_mat.style.background_gradient(axis=None))\";\n",
       "                var nbb_formatted_code = \"ordinal_nums = [\\\"Second\\\", \\\"Third\\\", \\\"Fourth\\\", \\\"Fifth\\\", \\\"Sixth (Final)\\\"]\\nfor num in ordinal_nums:\\n    print(f\\\"\\\\n{num} merge:\\\")\\n    merged_dist_mat = merge_closest_pair(merged_dist_mat)\\n    display(merged_dist_mat.style.background_gradient(axis=None))\";\n",
       "                var nbb_cells = Jupyter.notebook.get_cells();\n",
       "                for (var i = 0; i < nbb_cells.length; ++i) {\n",
       "                    if (nbb_cells[i].input_prompt_number == nbb_cell_id) {\n",
       "                        if (nbb_cells[i].get_text() == nbb_unformatted_code) {\n",
       "                             nbb_cells[i].set_text(nbb_formatted_code);\n",
       "                        }\n",
       "                        break;\n",
       "                    }\n",
       "                }\n",
       "            }, 500);\n",
       "            "
      ],
      "text/plain": [
       "<IPython.core.display.Javascript object>"
      ]
     },
     "metadata": {},
     "output_type": "display_data"
    }
   ],
   "source": [
    "ordinal_nums = [\"Second\", \"Third\", \"Fourth\", \"Fifth\", \"Sixth (Final)\"]\n",
    "for num in ordinal_nums:\n",
    "    print(f\"\\n{num} merge:\")\n",
    "    merged_dist_mat = merge_closest_pair(merged_dist_mat)\n",
    "    display(merged_dist_mat.style.background_gradient(axis=None))"
   ]
  },
  {
   "cell_type": "markdown",
   "metadata": {
    "hideCode": true,
    "hidePrompt": true
   },
   "source": [
    "## Visualizing results\n",
    "\n",
    "One way to visualize this process is with the below plot (called a 'dendrogram').  Depending on where we 'cut' this, we can get a different number of clusters.\n",
    "\n",
    "For example, we might cut in a way to end up with clusters:\n",
    "* `(E, (A, G))`\n",
    "* `(F, (B, D))`\n",
    "* `C`"
   ]
  },
  {
   "cell_type": "code",
   "execution_count": 13,
   "metadata": {
    "hideCode": true,
    "hidePrompt": true
   },
   "outputs": [
    {
     "data": {
      "image/png": "[encoded data removed]",
      "text/plain": [
       "<Figure size 432x288 with 1 Axes>"
      ]
     },
     "metadata": {
      "needs_background": "light"
     },
     "output_type": "display_data"
    },
    {
     "data": {
      "application/javascript": [
       "\n",
       "            setTimeout(function() {\n",
       "                var nbb_cell_id = 13;\n",
       "                var nbb_unformatted_code = \"avg_linkage = hierarchy.linkage(df, method=\\\"average\\\")\\nhierarchy.dendrogram(avg_linkage, labels=df.index, color_threshold=0)\\nplt.show()\";\n",
       "                var nbb_formatted_code = \"avg_linkage = hierarchy.linkage(df, method=\\\"average\\\")\\nhierarchy.dendrogram(avg_linkage, labels=df.index, color_threshold=0)\\nplt.show()\";\n",
       "                var nbb_cells = Jupyter.notebook.get_cells();\n",
       "                for (var i = 0; i < nbb_cells.length; ++i) {\n",
       "                    if (nbb_cells[i].input_prompt_number == nbb_cell_id) {\n",
       "                        if (nbb_cells[i].get_text() == nbb_unformatted_code) {\n",
       "                             nbb_cells[i].set_text(nbb_formatted_code);\n",
       "                        }\n",
       "                        break;\n",
       "                    }\n",
       "                }\n",
       "            }, 500);\n",
       "            "
      ],
      "text/plain": [
       "<IPython.core.display.Javascript object>"
      ]
     },
     "metadata": {},
     "output_type": "display_data"
    }
   ],
   "source": [
    "avg_linkage = hierarchy.linkage(df, method=\"average\")\n",
    "hierarchy.dendrogram(avg_linkage, labels=df.index, color_threshold=0)\n",
    "plt.show()"
   ]
  },
  {
   "cell_type": "markdown",
   "metadata": {
    "hideCode": true,
    "hidePrompt": true
   },
   "source": [
    "Here's a visualization of this in context of our 2d scatter plot:\n",
    "\n",
    "<img src='images/average_linkage.gif' width='30%'>"
   ]
  },
  {
   "cell_type": "markdown",
   "metadata": {
    "hideCode": true,
    "hidePrompt": true
   },
   "source": [
    "##  Step 2 revisited with single linkage\n",
    "\n",
    "We get a different build up of parts.  In average linkage, we first merged `(B, D)` and then `(A, G)` - despite `A` and `D` being so close.  The average distance of `B->A` and `D->A` pushed `A->F` to be closer than `(B, D)->A`.  However, using the minimum distance we end up with `(B, D)->A` being closer together."
   ]
  },
  {
   "cell_type": "code",
   "execution_count": 14,
   "metadata": {
    "hideCode": true,
    "hidePrompt": true
   },
   "outputs": [
    {
     "data": {
      "image/png": "[encoded data removed]",
      "text/plain": [
       "<Figure size 432x288 with 1 Axes>"
      ]
     },
     "metadata": {
      "needs_background": "light"
     },
     "output_type": "display_data"
    },
    {
     "data": {
      "application/javascript": [
       "\n",
       "            setTimeout(function() {\n",
       "                var nbb_cell_id = 14;\n",
       "                var nbb_unformatted_code = \"single_linkage = hierarchy.linkage(df, method=\\\"single\\\")\\nhierarchy.dendrogram(single_linkage, labels=df.index, color_threshold=0)\\nplt.show()\";\n",
       "                var nbb_formatted_code = \"single_linkage = hierarchy.linkage(df, method=\\\"single\\\")\\nhierarchy.dendrogram(single_linkage, labels=df.index, color_threshold=0)\\nplt.show()\";\n",
       "                var nbb_cells = Jupyter.notebook.get_cells();\n",
       "                for (var i = 0; i < nbb_cells.length; ++i) {\n",
       "                    if (nbb_cells[i].input_prompt_number == nbb_cell_id) {\n",
       "                        if (nbb_cells[i].get_text() == nbb_unformatted_code) {\n",
       "                             nbb_cells[i].set_text(nbb_formatted_code);\n",
       "                        }\n",
       "                        break;\n",
       "                    }\n",
       "                }\n",
       "            }, 500);\n",
       "            "
      ],
      "text/plain": [
       "<IPython.core.display.Javascript object>"
      ]
     },
     "metadata": {},
     "output_type": "display_data"
    }
   ],
   "source": [
    "single_linkage = hierarchy.linkage(df, method=\"single\")\n",
    "hierarchy.dendrogram(single_linkage, labels=df.index, color_threshold=0)\n",
    "plt.show()"
   ]
  },
  {
   "cell_type": "markdown",
   "metadata": {
    "hideCode": true,
    "hidePrompt": true
   },
   "source": [
    "Here's a visualization of this in context of our 2d scatter plot:\n",
    "\n",
    "<img src='images/single_linkage.gif' width='30%'>"
   ]
  },
  {
   "cell_type": "markdown",
   "metadata": {
    "hideCode": true,
    "hidePrompt": true
   },
   "source": [
    "##  Step 2 revisited with complete linkage\n",
    "\n",
    "We get a different build up of parts again, on your own, compare and contrast what happened with complete linkage to the other methods."
   ]
  },
  {
   "cell_type": "code",
   "execution_count": 15,
   "metadata": {
    "hideCode": true,
    "hidePrompt": true
   },
   "outputs": [
    {
     "data": {
      "image/png": "[encoded data removed]",
      "text/plain": [
       "<Figure size 432x288 with 1 Axes>"
      ]
     },
     "metadata": {
      "needs_background": "light"
     },
     "output_type": "display_data"
    },
    {
     "data": {
      "application/javascript": [
       "\n",
       "            setTimeout(function() {\n",
       "                var nbb_cell_id = 15;\n",
       "                var nbb_unformatted_code = \"complete_linkage = hierarchy.linkage(df, method=\\\"complete\\\")\\nhierarchy.dendrogram(complete_linkage, labels=df.index, color_threshold=0)\\nplt.show()\";\n",
       "                var nbb_formatted_code = \"complete_linkage = hierarchy.linkage(df, method=\\\"complete\\\")\\nhierarchy.dendrogram(complete_linkage, labels=df.index, color_threshold=0)\\nplt.show()\";\n",
       "                var nbb_cells = Jupyter.notebook.get_cells();\n",
       "                for (var i = 0; i < nbb_cells.length; ++i) {\n",
       "                    if (nbb_cells[i].input_prompt_number == nbb_cell_id) {\n",
       "                        if (nbb_cells[i].get_text() == nbb_unformatted_code) {\n",
       "                             nbb_cells[i].set_text(nbb_formatted_code);\n",
       "                        }\n",
       "                        break;\n",
       "                    }\n",
       "                }\n",
       "            }, 500);\n",
       "            "
      ],
      "text/plain": [
       "<IPython.core.display.Javascript object>"
      ]
     },
     "metadata": {},
     "output_type": "display_data"
    }
   ],
   "source": [
    "complete_linkage = hierarchy.linkage(df, method=\"complete\")\n",
    "hierarchy.dendrogram(complete_linkage, labels=df.index, color_threshold=0)\n",
    "plt.show()"
   ]
  },
  {
   "cell_type": "markdown",
   "metadata": {
    "hideCode": true,
    "hidePrompt": true
   },
   "source": [
    "Here's a visualization of this in context of our 2d scatter plot:\n",
    "\n",
    "<img src='images/complete_linkage.gif' width='30%'>"
   ]
  },
  {
   "cell_type": "markdown",
   "metadata": {
    "hideCode": true,
    "hidePrompt": true
   },
   "source": [
    "## Linkage Comparison"
   ]
  },
  {
   "cell_type": "code",
   "execution_count": 16,
   "metadata": {
    "hideCode": true,
    "hidePrompt": true
   },
   "outputs": [
    {
     "data": {
      "image/png": "[encoded data removed]",
      "text/plain": [
       "<Figure size 1080x360 with 3 Axes>"
      ]
     },
     "metadata": {
      "needs_background": "light"
     },
     "output_type": "display_data"
    },
    {
     "data": {
      "application/javascript": [
       "\n",
       "            setTimeout(function() {\n",
       "                var nbb_cell_id = 16;\n",
       "                var nbb_unformatted_code = \"cut_point = 0\\n\\nfig, axes = plt.subplots(1, 3, figsize=(15, 5))\\n\\nhierarchy.dendrogram(\\n    avg_linkage, labels=df.index, color_threshold=cut_point, ax=axes[0]\\n)\\nhierarchy.dendrogram(\\n    single_linkage, labels=df.index, color_threshold=cut_point, ax=axes[1]\\n)\\nhierarchy.dendrogram(\\n    complete_linkage, labels=df.index, color_threshold=cut_point, ax=axes[2]\\n)\\naxes[0].set_title(\\\"Average Linkage\\\")\\naxes[1].set_title(\\\"Single Linkage (min)\\\")\\naxes[2].set_title(\\\"Complete Linkage (max)\\\")\\nplt.tight_layout()\\nplt.show()\";\n",
       "                var nbb_formatted_code = \"cut_point = 0\\n\\nfig, axes = plt.subplots(1, 3, figsize=(15, 5))\\n\\nhierarchy.dendrogram(\\n    avg_linkage, labels=df.index, color_threshold=cut_point, ax=axes[0]\\n)\\nhierarchy.dendrogram(\\n    single_linkage, labels=df.index, color_threshold=cut_point, ax=axes[1]\\n)\\nhierarchy.dendrogram(\\n    complete_linkage, labels=df.index, color_threshold=cut_point, ax=axes[2]\\n)\\naxes[0].set_title(\\\"Average Linkage\\\")\\naxes[1].set_title(\\\"Single Linkage (min)\\\")\\naxes[2].set_title(\\\"Complete Linkage (max)\\\")\\nplt.tight_layout()\\nplt.show()\";\n",
       "                var nbb_cells = Jupyter.notebook.get_cells();\n",
       "                for (var i = 0; i < nbb_cells.length; ++i) {\n",
       "                    if (nbb_cells[i].input_prompt_number == nbb_cell_id) {\n",
       "                        if (nbb_cells[i].get_text() == nbb_unformatted_code) {\n",
       "                             nbb_cells[i].set_text(nbb_formatted_code);\n",
       "                        }\n",
       "                        break;\n",
       "                    }\n",
       "                }\n",
       "            }, 500);\n",
       "            "
      ],
      "text/plain": [
       "<IPython.core.display.Javascript object>"
      ]
     },
     "metadata": {},
     "output_type": "display_data"
    }
   ],
   "source": [
    "cut_point = 0\n",
    "\n",
    "fig, axes = plt.subplots(1, 3, figsize=(15, 5))\n",
    "\n",
    "hierarchy.dendrogram(\n",
    "    avg_linkage, labels=df.index, color_threshold=cut_point, ax=axes[0]\n",
    ")\n",
    "hierarchy.dendrogram(\n",
    "    single_linkage, labels=df.index, color_threshold=cut_point, ax=axes[1]\n",
    ")\n",
    "hierarchy.dendrogram(\n",
    "    complete_linkage, labels=df.index, color_threshold=cut_point, ax=axes[2]\n",
    ")\n",
    "axes[0].set_title(\"Average Linkage\")\n",
    "axes[1].set_title(\"Single Linkage (min)\")\n",
    "axes[2].set_title(\"Complete Linkage (max)\")\n",
    "plt.tight_layout()\n",
    "plt.show()"
   ]
  },
  {
   "cell_type": "markdown",
   "metadata": {
    "hideCode": true,
    "hidePrompt": true
   },
   "source": [
    "These linkages can change how things are grouped.  Here's what would happen in each case if we 'cut' our dendrogram tree at the value 3."
   ]
  },
  {
   "cell_type": "code",
   "execution_count": 17,
   "metadata": {
    "hideCode": true,
    "hidePrompt": true
   },
   "outputs": [
    {
     "data": {
      "image/png": "[encoded data removed]",
      "text/plain": [
       "<Figure size 1080x360 with 3 Axes>"
      ]
     },
     "metadata": {
      "needs_background": "light"
     },
     "output_type": "display_data"
    },
    {
     "data": {
      "application/javascript": [
       "\n",
       "            setTimeout(function() {\n",
       "                var nbb_cell_id = 17;\n",
       "                var nbb_unformatted_code = \"cut_point = 3\\n\\nfig, axes = plt.subplots(1, 3, figsize=(15, 5))\\n\\nhierarchy.dendrogram(\\n    avg_linkage, labels=df.index, color_threshold=cut_point, ax=axes[0]\\n)\\nhierarchy.dendrogram(\\n    single_linkage, labels=df.index, color_threshold=cut_point, ax=axes[1]\\n)\\nhierarchy.dendrogram(\\n    complete_linkage, labels=df.index, color_threshold=cut_point, ax=axes[2]\\n)\\naxes[0].axhline(cut_point, ls=\\\"--\\\", c=\\\"gray\\\")\\naxes[1].axhline(cut_point, ls=\\\"--\\\", c=\\\"gray\\\")\\naxes[2].axhline(cut_point, ls=\\\"--\\\", c=\\\"gray\\\")\\n\\naxes[0].set_title(\\\"Average Linkage\\\")\\naxes[1].set_title(\\\"Single Linkage (min)\\\")\\naxes[2].set_title(\\\"Complete Linkage (max)\\\")\\nplt.tight_layout()\\nplt.show()\";\n",
       "                var nbb_formatted_code = \"cut_point = 3\\n\\nfig, axes = plt.subplots(1, 3, figsize=(15, 5))\\n\\nhierarchy.dendrogram(\\n    avg_linkage, labels=df.index, color_threshold=cut_point, ax=axes[0]\\n)\\nhierarchy.dendrogram(\\n    single_linkage, labels=df.index, color_threshold=cut_point, ax=axes[1]\\n)\\nhierarchy.dendrogram(\\n    complete_linkage, labels=df.index, color_threshold=cut_point, ax=axes[2]\\n)\\naxes[0].axhline(cut_point, ls=\\\"--\\\", c=\\\"gray\\\")\\naxes[1].axhline(cut_point, ls=\\\"--\\\", c=\\\"gray\\\")\\naxes[2].axhline(cut_point, ls=\\\"--\\\", c=\\\"gray\\\")\\n\\naxes[0].set_title(\\\"Average Linkage\\\")\\naxes[1].set_title(\\\"Single Linkage (min)\\\")\\naxes[2].set_title(\\\"Complete Linkage (max)\\\")\\nplt.tight_layout()\\nplt.show()\";\n",
       "                var nbb_cells = Jupyter.notebook.get_cells();\n",
       "                for (var i = 0; i < nbb_cells.length; ++i) {\n",
       "                    if (nbb_cells[i].input_prompt_number == nbb_cell_id) {\n",
       "                        if (nbb_cells[i].get_text() == nbb_unformatted_code) {\n",
       "                             nbb_cells[i].set_text(nbb_formatted_code);\n",
       "                        }\n",
       "                        break;\n",
       "                    }\n",
       "                }\n",
       "            }, 500);\n",
       "            "
      ],
      "text/plain": [
       "<IPython.core.display.Javascript object>"
      ]
     },
     "metadata": {},
     "output_type": "display_data"
    }
   ],
   "source": [
    "cut_point = 3\n",
    "\n",
    "fig, axes = plt.subplots(1, 3, figsize=(15, 5))\n",
    "\n",
    "hierarchy.dendrogram(\n",
    "    avg_linkage, labels=df.index, color_threshold=cut_point, ax=axes[0]\n",
    ")\n",
    "hierarchy.dendrogram(\n",
    "    single_linkage, labels=df.index, color_threshold=cut_point, ax=axes[1]\n",
    ")\n",
    "hierarchy.dendrogram(\n",
    "    complete_linkage, labels=df.index, color_threshold=cut_point, ax=axes[2]\n",
    ")\n",
    "axes[0].axhline(cut_point, ls=\"--\", c=\"gray\")\n",
    "axes[1].axhline(cut_point, ls=\"--\", c=\"gray\")\n",
    "axes[2].axhline(cut_point, ls=\"--\", c=\"gray\")\n",
    "\n",
    "axes[0].set_title(\"Average Linkage\")\n",
    "axes[1].set_title(\"Single Linkage (min)\")\n",
    "axes[2].set_title(\"Complete Linkage (max)\")\n",
    "plt.tight_layout()\n",
    "plt.show()"
   ]
  },
  {
   "cell_type": "markdown",
   "metadata": {},
   "source": [
    "## Ward Linkage\n",
    "\n",
    "There's a final common linkage to use in this clustering method.  This method collapses the distances in our distance matrix using the original locations of the data.  This method, just like k-Means, is only applicable if euclidean distance is a good distance metric for your data.  It also uses a notion of an average centroid being a good middle point of a cluster.\n",
    "\n",
    "For example, if we merge `B` and `D`, then we place an imaginary point in the middle of these 2 observations.  Instead of using min/max/avg, we'll measure the new distance from every other point to this new cluster center point.\n",
    "\n",
    "If we continue after merging `(B, D)`, maybe the next step is to merge `(B, D)` and `A`.  We now find the middle point of `B`, `D`, and `A` as our new cluster center and remeasure distances."
   ]
  },
  {
   "cell_type": "code",
   "execution_count": 18,
   "metadata": {},
   "outputs": [
    {
     "data": {
      "application/javascript": [
       "\n",
       "            setTimeout(function() {\n",
       "                var nbb_cell_id = 18;\n",
       "                var nbb_unformatted_code = \"# TODO: add image for this to make point clearer\";\n",
       "                var nbb_formatted_code = \"# TODO: add image for this to make point clearer\";\n",
       "                var nbb_cells = Jupyter.notebook.get_cells();\n",
       "                for (var i = 0; i < nbb_cells.length; ++i) {\n",
       "                    if (nbb_cells[i].input_prompt_number == nbb_cell_id) {\n",
       "                        if (nbb_cells[i].get_text() == nbb_unformatted_code) {\n",
       "                             nbb_cells[i].set_text(nbb_formatted_code);\n",
       "                        }\n",
       "                        break;\n",
       "                    }\n",
       "                }\n",
       "            }, 500);\n",
       "            "
      ],
      "text/plain": [
       "<IPython.core.display.Javascript object>"
      ]
     },
     "metadata": {},
     "output_type": "display_data"
    }
   ],
   "source": [
    "# TODO: add image for this to make point clearer"
   ]
  }
 ],
 "metadata": {
  "hide_code_all_hidden": true,
  "kernelspec": {
   "display_name": "Python 3",
   "language": "python",
   "name": "python3"
  },
  "language_info": {
   "codemirror_mode": {
    "name": "ipython",
    "version": 3
   },
   "file_extension": ".py",
   "mimetype": "text/x-python",
   "name": "python",
   "nbconvert_exporter": "python",
   "pygments_lexer": "ipython3",
   "version": "3.7.6"
  }
 },
 "nbformat": 4,
 "nbformat_minor": 2
}
