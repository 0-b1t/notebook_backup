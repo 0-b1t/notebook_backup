{
 "cells": [
  {
   "cell_type": "code",
   "execution_count": 1,
   "metadata": {},
   "outputs": [
    {
     "data": {
      "application/javascript": [
       "\n",
       "            setTimeout(function() {\n",
       "                var nbb_cell_id = 1;\n",
       "                var nbb_unformatted_code = \"%reload_ext nb_black\";\n",
       "                var nbb_formatted_code = \"%reload_ext nb_black\";\n",
       "                var nbb_cells = Jupyter.notebook.get_cells();\n",
       "                for (var i = 0; i < nbb_cells.length; ++i) {\n",
       "                    if (nbb_cells[i].input_prompt_number == nbb_cell_id) {\n",
       "                        if (nbb_cells[i].get_text() == nbb_unformatted_code) {\n",
       "                             nbb_cells[i].set_text(nbb_formatted_code);\n",
       "                        }\n",
       "                        break;\n",
       "                    }\n",
       "                }\n",
       "            }, 500);\n",
       "            "
      ],
      "text/plain": [
       "<IPython.core.display.Javascript object>"
      ]
     },
     "metadata": {},
     "output_type": "display_data"
    }
   ],
   "source": [
    "%reload_ext nb_black"
   ]
  },
  {
   "cell_type": "code",
   "execution_count": 2,
   "metadata": {},
   "outputs": [
    {
     "data": {
      "application/javascript": [
       "\n",
       "            setTimeout(function() {\n",
       "                var nbb_cell_id = 2;\n",
       "                var nbb_unformatted_code = \"input_str = \\\"if this is our    string how    can i split it into words\\\"\\n\\nwords = input_str.split(\\\" \\\")\";\n",
       "                var nbb_formatted_code = \"input_str = \\\"if this is our    string how    can i split it into words\\\"\\n\\nwords = input_str.split(\\\" \\\")\";\n",
       "                var nbb_cells = Jupyter.notebook.get_cells();\n",
       "                for (var i = 0; i < nbb_cells.length; ++i) {\n",
       "                    if (nbb_cells[i].input_prompt_number == nbb_cell_id) {\n",
       "                        if (nbb_cells[i].get_text() == nbb_unformatted_code) {\n",
       "                             nbb_cells[i].set_text(nbb_formatted_code);\n",
       "                        }\n",
       "                        break;\n",
       "                    }\n",
       "                }\n",
       "            }, 500);\n",
       "            "
      ],
      "text/plain": [
       "<IPython.core.display.Javascript object>"
      ]
     },
     "metadata": {},
     "output_type": "display_data"
    }
   ],
   "source": [
    "input_str = \"if this is our    string how    can i split it into words\"\n",
    "\n",
    "words = input_str.split(\" \")"
   ]
  },
  {
   "cell_type": "code",
   "execution_count": null,
   "metadata": {},
   "outputs": [],
   "source": [
    "\n"
   ]
  },
  {
   "cell_type": "code",
   "execution_count": 3,
   "metadata": {},
   "outputs": [
    {
     "data": {
      "text/plain": [
       "[('if', 1), ('this', 1), ('is', 1)]"
      ]
     },
     "execution_count": 3,
     "metadata": {},
     "output_type": "execute_result"
    },
    {
     "data": {
      "application/javascript": [
       "\n",
       "            setTimeout(function() {\n",
       "                var nbb_cell_id = 3;\n",
       "                var nbb_unformatted_code = \"word_counts = {}\\nn = 3\\nfor word in words:\\n    if word != \\\"\\\":\\n\\n        if word in word_counts:\\n            word_counts[word] += 1\\n        else:\\n            word_counts[word] = 1\\n\\n# word_counts\\n\\ntop_words = sorted(word_counts, key=word_counts.get, reverse=True)[:n]\\n\\ntop_words_list = []\\nfor top in top_words:\\n    word_count = (top, word_counts[top])\\n    top_words_list.append(word_count)\\n\\ntop_words_list\";\n",
       "                var nbb_formatted_code = \"word_counts = {}\\nn = 3\\nfor word in words:\\n    if word != \\\"\\\":\\n\\n        if word in word_counts:\\n            word_counts[word] += 1\\n        else:\\n            word_counts[word] = 1\\n\\n# word_counts\\n\\ntop_words = sorted(word_counts, key=word_counts.get, reverse=True)[:n]\\n\\ntop_words_list = []\\nfor top in top_words:\\n    word_count = (top, word_counts[top])\\n    top_words_list.append(word_count)\\n\\ntop_words_list\";\n",
       "                var nbb_cells = Jupyter.notebook.get_cells();\n",
       "                for (var i = 0; i < nbb_cells.length; ++i) {\n",
       "                    if (nbb_cells[i].input_prompt_number == nbb_cell_id) {\n",
       "                        if (nbb_cells[i].get_text() == nbb_unformatted_code) {\n",
       "                             nbb_cells[i].set_text(nbb_formatted_code);\n",
       "                        }\n",
       "                        break;\n",
       "                    }\n",
       "                }\n",
       "            }, 500);\n",
       "            "
      ],
      "text/plain": [
       "<IPython.core.display.Javascript object>"
      ]
     },
     "metadata": {},
     "output_type": "display_data"
    }
   ],
   "source": [
    "word_counts = {}\n",
    "n = 3\n",
    "for word in words:\n",
    "    if word != \"\":\n",
    "\n",
    "        if word in word_counts:\n",
    "            word_counts[word] += 1\n",
    "        else:\n",
    "            word_counts[word] = 1\n",
    "\n",
    "# word_counts\n",
    "\n",
    "top_words = sorted(word_counts, key=word_counts.get, reverse=True)[:n]\n",
    "\n",
    "top_words_list = []\n",
    "for top in top_words:\n",
    "    word_count = (top, word_counts[top])\n",
    "    top_words_list.append(word_count)\n",
    "\n",
    "top_words_list"
   ]
  },
  {
   "cell_type": "code",
   "execution_count": null,
   "metadata": {
    "scrolled": true
   },
   "outputs": [],
   "source": []
  },
  {
   "cell_type": "code",
   "execution_count": null,
   "metadata": {},
   "outputs": [],
   "source": []
  },
  {
   "cell_type": "markdown",
   "metadata": {},
   "source": [
    "You are given a table, in which every key is a stringified number, and each corresponding value is an array of characters, e.g.\n",
    "\n",
    "``` python\n",
    "{\n",
    "  \"1\": [\"A\", \"B\", \"C\"],\n",
    "  \"2\": [\"A\", \"B\", \"D\", \"A\"],\n",
    "}\n",
    "```\n",
    "Create a function that returns a table with the same keys, but each character should appear only once among the value-arrays, e.g.\n",
    "``` python\n",
    "{\n",
    "  \"1\": [\"C\"],\n",
    "  \"2\": [\"A\", \"B\", \"D\"],\n",
    "}\n",
    "```\n",
    "### Rules\n",
    "\n",
    "Whenever two keys share the same character, they should be compared numerically, and the larger key will keep that character. That's why in the example above the array under the key \"2\" contains \"A\" and \"B\", as 2 > 1.\n",
    "If duplicate characters are found in the same array, the first occurance should be kept.\n",
    "\n",
    "### Example 1\n",
    "``` python\n",
    "input = {\n",
    "  \"1\": [\"C\", \"F\", \"G\"],\n",
    "  \"2\": [\"A\", \"B\", \"C\"],\n",
    "  \"3\": [\"A\", \"B\", \"D\"],\n",
    "}\n",
    "\n",
    "output = {\n",
    "  \"1\": [\"F\", \"G\"],\n",
    "  \"2\": [\"C\"],\n",
    "  \"3\": [\"A\", \"B\", \"D\"],\n",
    "}\n",
    "```\n",
    "### Example 2\n",
    "``` python\n",
    "input = {\n",
    "  \"1\": [\"A\"],\n",
    "  \"2\": [\"A\"],\n",
    "  \"3\": [\"A\"],\n",
    "}\n",
    "\n",
    "output = {\n",
    "  \"1\": [],\n",
    "  \"2\": [],\n",
    "  \"3\": [\"A\"],\n",
    "}\n",
    "```\n",
    "###  Example 3\n",
    "``` python\n",
    "input = {\n",
    "  \"432\": [\"A\", \"A\", \"B\", \"D\"],\n",
    "  \"53\": [\"L\", \"G\", \"B\", \"C\"],\n",
    "  \"236\": [\"L\", \"A\", \"X\", \"G\", \"H\", \"X\"],\n",
    "  \"11\": [\"P\", \"R\", \"S\", \"D\"],\n",
    "}\n",
    "\n",
    "output = {\n",
    "  \"11\": [\"P\", \"R\", \"S\"],\n",
    "  \"53\": [\"C\"],\n",
    "  \"236\": [\"L\", \"X\", \"G\", \"H\"],\n",
    "  \"432\": [\"A\", \"B\", \"D\"],\n",
    "}\n",
    "```\n"
   ]
  },
  {
   "cell_type": "code",
   "execution_count": 4,
   "metadata": {},
   "outputs": [
    {
     "data": {
      "application/javascript": [
       "\n",
       "            setTimeout(function() {\n",
       "                var nbb_cell_id = 4;\n",
       "                var nbb_unformatted_code = \"x = {\\n    \\\"1\\\": [\\\"A\\\", \\\"B\\\", \\\"C\\\"],\\n    \\\"2\\\": [\\\"A\\\", \\\"B\\\", \\\"D\\\", \\\"A\\\"],\\n}\\n\\nexpected = {\\n    \\\"1\\\": [\\\"C\\\"],\\n    \\\"2\\\": [\\\"A\\\", \\\"B\\\", \\\"D\\\"],\\n}\";\n",
       "                var nbb_formatted_code = \"x = {\\n    \\\"1\\\": [\\\"A\\\", \\\"B\\\", \\\"C\\\"],\\n    \\\"2\\\": [\\\"A\\\", \\\"B\\\", \\\"D\\\", \\\"A\\\"],\\n}\\n\\nexpected = {\\n    \\\"1\\\": [\\\"C\\\"],\\n    \\\"2\\\": [\\\"A\\\", \\\"B\\\", \\\"D\\\"],\\n}\";\n",
       "                var nbb_cells = Jupyter.notebook.get_cells();\n",
       "                for (var i = 0; i < nbb_cells.length; ++i) {\n",
       "                    if (nbb_cells[i].input_prompt_number == nbb_cell_id) {\n",
       "                        if (nbb_cells[i].get_text() == nbb_unformatted_code) {\n",
       "                             nbb_cells[i].set_text(nbb_formatted_code);\n",
       "                        }\n",
       "                        break;\n",
       "                    }\n",
       "                }\n",
       "            }, 500);\n",
       "            "
      ],
      "text/plain": [
       "<IPython.core.display.Javascript object>"
      ]
     },
     "metadata": {},
     "output_type": "display_data"
    }
   ],
   "source": [
    "x = {\n",
    "    \"1\": [\"A\", \"B\", \"C\"],\n",
    "    \"2\": [\"A\", \"B\", \"D\", \"A\"],\n",
    "}\n",
    "\n",
    "expected = {\n",
    "    \"1\": [\"C\"],\n",
    "    \"2\": [\"A\", \"B\", \"D\"],\n",
    "}"
   ]
  },
  {
   "cell_type": "code",
   "execution_count": 5,
   "metadata": {},
   "outputs": [
    {
     "data": {
      "application/javascript": [
       "\n",
       "            setTimeout(function() {\n",
       "                var nbb_cell_id = 5;\n",
       "                var nbb_unformatted_code = \"import numpy as np\";\n",
       "                var nbb_formatted_code = \"import numpy as np\";\n",
       "                var nbb_cells = Jupyter.notebook.get_cells();\n",
       "                for (var i = 0; i < nbb_cells.length; ++i) {\n",
       "                    if (nbb_cells[i].input_prompt_number == nbb_cell_id) {\n",
       "                        if (nbb_cells[i].get_text() == nbb_unformatted_code) {\n",
       "                             nbb_cells[i].set_text(nbb_formatted_code);\n",
       "                        }\n",
       "                        break;\n",
       "                    }\n",
       "                }\n",
       "            }, 500);\n",
       "            "
      ],
      "text/plain": [
       "<IPython.core.display.Javascript object>"
      ]
     },
     "metadata": {},
     "output_type": "display_data"
    }
   ],
   "source": [
    "import numpy as np"
   ]
  },
  {
   "cell_type": "code",
   "execution_count": 6,
   "metadata": {},
   "outputs": [
    {
     "data": {
      "text/plain": [
       "{'1': ['A', 'B', 'C'], '2': ['A', 'B', 'D']}"
      ]
     },
     "execution_count": 6,
     "metadata": {},
     "output_type": "execute_result"
    },
    {
     "data": {
      "application/javascript": [
       "\n",
       "            setTimeout(function() {\n",
       "                var nbb_cell_id = 6;\n",
       "                var nbb_unformatted_code = \"deduped = {}\\nfor a, v in x.items():\\n    deduped[a] = list(np.unique(v))\\n\\ndeduped\";\n",
       "                var nbb_formatted_code = \"deduped = {}\\nfor a, v in x.items():\\n    deduped[a] = list(np.unique(v))\\n\\ndeduped\";\n",
       "                var nbb_cells = Jupyter.notebook.get_cells();\n",
       "                for (var i = 0; i < nbb_cells.length; ++i) {\n",
       "                    if (nbb_cells[i].input_prompt_number == nbb_cell_id) {\n",
       "                        if (nbb_cells[i].get_text() == nbb_unformatted_code) {\n",
       "                             nbb_cells[i].set_text(nbb_formatted_code);\n",
       "                        }\n",
       "                        break;\n",
       "                    }\n",
       "                }\n",
       "            }, 500);\n",
       "            "
      ],
      "text/plain": [
       "<IPython.core.display.Javascript object>"
      ]
     },
     "metadata": {},
     "output_type": "display_data"
    }
   ],
   "source": [
    "deduped = {}\n",
    "for a, v in x.items():\n",
    "    deduped[a] = list(np.unique(v))\n",
    "\n",
    "deduped"
   ]
  },
  {
   "cell_type": "code",
   "execution_count": 7,
   "metadata": {},
   "outputs": [
    {
     "data": {
      "application/javascript": [
       "\n",
       "            setTimeout(function() {\n",
       "                var nbb_cell_id = 7;\n",
       "                var nbb_unformatted_code = \"num_keys = np.array(list(x.keys()))\\nnum_keys.astype(int)\\nnum_keys.sort()\\n\\n\\n#for k in reversed(num_keys):\\ni = 2\\ni = str(i)\\n\\ni_values = x[i]\\n\\nfor j in num_keys:\\n    if j >= i:\\n        continue\\n        \\n    str_j = str(j)\\n    \\n    for k, value in enumerate(x[str_j]):\\n        if value in i_values:\\n            del x[str_j][k]\";\n",
       "                var nbb_formatted_code = \"num_keys = np.array(list(x.keys()))\\nnum_keys.astype(int)\\nnum_keys.sort()\\n\\n\\n# for k in reversed(num_keys):\\ni = 2\\ni = str(i)\\n\\ni_values = x[i]\\n\\nfor j in num_keys:\\n    if j >= i:\\n        continue\\n\\n    str_j = str(j)\\n\\n    for k, value in enumerate(x[str_j]):\\n        if value in i_values:\\n            del x[str_j][k]\";\n",
       "                var nbb_cells = Jupyter.notebook.get_cells();\n",
       "                for (var i = 0; i < nbb_cells.length; ++i) {\n",
       "                    if (nbb_cells[i].input_prompt_number == nbb_cell_id) {\n",
       "                        if (nbb_cells[i].get_text() == nbb_unformatted_code) {\n",
       "                             nbb_cells[i].set_text(nbb_formatted_code);\n",
       "                        }\n",
       "                        break;\n",
       "                    }\n",
       "                }\n",
       "            }, 500);\n",
       "            "
      ],
      "text/plain": [
       "<IPython.core.display.Javascript object>"
      ]
     },
     "metadata": {},
     "output_type": "display_data"
    }
   ],
   "source": [
    "num_keys = np.array(list(x.keys()))\n",
    "num_keys.astype(int)\n",
    "num_keys.sort()\n",
    "\n",
    "\n",
    "#for k in reversed(num_keys):\n",
    "i = 2\n",
    "i = str(i)\n",
    "\n",
    "i_values = x[i]\n",
    "\n",
    "for j in num_keys:\n",
    "    if j >= i:\n",
    "        continue\n",
    "        \n",
    "    str_j = str(j)\n",
    "    \n",
    "    for k, value in enumerate(x[str_j]):\n",
    "        if value in i_values:\n",
    "            del x[str_j][k]\n"
   ]
  },
  {
   "cell_type": "code",
   "execution_count": 8,
   "metadata": {},
   "outputs": [
    {
     "data": {
      "text/plain": [
       "{'1': ['B', 'C'], '2': ['A', 'B', 'D', 'A']}"
      ]
     },
     "execution_count": 8,
     "metadata": {},
     "output_type": "execute_result"
    },
    {
     "data": {
      "application/javascript": [
       "\n",
       "            setTimeout(function() {\n",
       "                var nbb_cell_id = 8;\n",
       "                var nbb_unformatted_code = \"x\";\n",
       "                var nbb_formatted_code = \"x\";\n",
       "                var nbb_cells = Jupyter.notebook.get_cells();\n",
       "                for (var i = 0; i < nbb_cells.length; ++i) {\n",
       "                    if (nbb_cells[i].input_prompt_number == nbb_cell_id) {\n",
       "                        if (nbb_cells[i].get_text() == nbb_unformatted_code) {\n",
       "                             nbb_cells[i].set_text(nbb_formatted_code);\n",
       "                        }\n",
       "                        break;\n",
       "                    }\n",
       "                }\n",
       "            }, 500);\n",
       "            "
      ],
      "text/plain": [
       "<IPython.core.display.Javascript object>"
      ]
     },
     "metadata": {},
     "output_type": "display_data"
    }
   ],
   "source": [
    "x"
   ]
  },
  {
   "cell_type": "code",
   "execution_count": 16,
   "metadata": {},
   "outputs": [
    {
     "data": {
      "application/javascript": [
       "\n",
       "            setTimeout(function() {\n",
       "                var nbb_cell_id = 16;\n",
       "                var nbb_unformatted_code = \"import pandas as pd\\n\\ndata_url = \\\"https://docs.google.com/spreadsheets/d/1w1BfAGjEJk_Ywglo0nWKUk5gKmqEmfFb101IoXtj8D8/export?format=csv\\\"\";\n",
       "                var nbb_formatted_code = \"import pandas as pd\\n\\ndata_url = \\\"https://docs.google.com/spreadsheets/d/1w1BfAGjEJk_Ywglo0nWKUk5gKmqEmfFb101IoXtj8D8/export?format=csv\\\"\";\n",
       "                var nbb_cells = Jupyter.notebook.get_cells();\n",
       "                for (var i = 0; i < nbb_cells.length; ++i) {\n",
       "                    if (nbb_cells[i].input_prompt_number == nbb_cell_id) {\n",
       "                        if (nbb_cells[i].get_text() == nbb_unformatted_code) {\n",
       "                             nbb_cells[i].set_text(nbb_formatted_code);\n",
       "                        }\n",
       "                        break;\n",
       "                    }\n",
       "                }\n",
       "            }, 500);\n",
       "            "
      ],
      "text/plain": [
       "<IPython.core.display.Javascript object>"
      ]
     },
     "metadata": {},
     "output_type": "display_data"
    }
   ],
   "source": [
    "import pandas as pd\n",
    "\n",
    "data_url = \"https://docs.google.com/spreadsheets/d/1w1BfAGjEJk_Ywglo0nWKUk5gKmqEmfFb101IoXtj8D8/export?format=csv\""
   ]
  },
  {
   "cell_type": "code",
   "execution_count": 25,
   "metadata": {},
   "outputs": [
    {
     "data": {
      "application/javascript": [
       "\n",
       "            setTimeout(function() {\n",
       "                var nbb_cell_id = 25;\n",
       "                var nbb_unformatted_code = \"fort = pd.read_csv(data_url)\";\n",
       "                var nbb_formatted_code = \"fort = pd.read_csv(data_url)\";\n",
       "                var nbb_cells = Jupyter.notebook.get_cells();\n",
       "                for (var i = 0; i < nbb_cells.length; ++i) {\n",
       "                    if (nbb_cells[i].input_prompt_number == nbb_cell_id) {\n",
       "                        if (nbb_cells[i].get_text() == nbb_unformatted_code) {\n",
       "                             nbb_cells[i].set_text(nbb_formatted_code);\n",
       "                        }\n",
       "                        break;\n",
       "                    }\n",
       "                }\n",
       "            }, 500);\n",
       "            "
      ],
      "text/plain": [
       "<IPython.core.display.Javascript object>"
      ]
     },
     "metadata": {},
     "output_type": "display_data"
    }
   ],
   "source": [
    "fort = pd.read_csv(data_url)"
   ]
  },
  {
   "cell_type": "code",
   "execution_count": 18,
   "metadata": {
    "scrolled": true
   },
   "outputs": [
    {
     "name": "stdout",
     "output_type": "stream",
     "text": [
      "(1000, 19)\n"
     ]
    },
    {
     "data": {
      "text/html": [
       "<div>\n",
       "<style scoped>\n",
       "    .dataframe tbody tr th:only-of-type {\n",
       "        vertical-align: middle;\n",
       "    }\n",
       "\n",
       "    .dataframe tbody tr th {\n",
       "        vertical-align: top;\n",
       "    }\n",
       "\n",
       "    .dataframe thead th {\n",
       "        text-align: right;\n",
       "    }\n",
       "</style>\n",
       "<table border=\"1\" class=\"dataframe\">\n",
       "  <thead>\n",
       "    <tr style=\"text-align: right;\">\n",
       "      <th></th>\n",
       "      <th>rank</th>\n",
       "      <th>title</th>\n",
       "      <th>Previous Rank</th>\n",
       "      <th>Revenues ($M)</th>\n",
       "      <th>Revenue Change</th>\n",
       "      <th>Profits ($M)</th>\n",
       "      <th>Profit Change</th>\n",
       "      <th>Assets ($M)</th>\n",
       "      <th>Mkt Value as of 3/29/18 ($M)</th>\n",
       "      <th>Employees</th>\n",
       "      <th>CEO</th>\n",
       "      <th>CEO Title</th>\n",
       "      <th>Sector</th>\n",
       "      <th>Industry</th>\n",
       "      <th>Years on Fortune 500 List</th>\n",
       "      <th>City</th>\n",
       "      <th>State</th>\n",
       "      <th>Latitude</th>\n",
       "      <th>Longitude</th>\n",
       "    </tr>\n",
       "  </thead>\n",
       "  <tbody>\n",
       "    <tr>\n",
       "      <th>0</th>\n",
       "      <td>1</td>\n",
       "      <td>Walmart</td>\n",
       "      <td>1</td>\n",
       "      <td>$500,343</td>\n",
       "      <td>3.00%</td>\n",
       "      <td>$9,862.00</td>\n",
       "      <td>-27.70%</td>\n",
       "      <td>$204,522</td>\n",
       "      <td>$263,563</td>\n",
       "      <td>2,300,000</td>\n",
       "      <td>C. Douglas McMillon</td>\n",
       "      <td>President, Chief Executive Officer &amp;  Director</td>\n",
       "      <td>Retailing</td>\n",
       "      <td>General Merchandisers</td>\n",
       "      <td>24</td>\n",
       "      <td>Bentonville</td>\n",
       "      <td>AR</td>\n",
       "      <td>36.372854</td>\n",
       "      <td>-94.208817</td>\n",
       "    </tr>\n",
       "    <tr>\n",
       "      <th>1</th>\n",
       "      <td>2</td>\n",
       "      <td>Exxon Mobil</td>\n",
       "      <td>4</td>\n",
       "      <td>$244,363</td>\n",
       "      <td>17.40%</td>\n",
       "      <td>$19,710.00</td>\n",
       "      <td>151.40%</td>\n",
       "      <td>$348,691</td>\n",
       "      <td>$316,157</td>\n",
       "      <td>71,200</td>\n",
       "      <td>Darren W. Woods</td>\n",
       "      <td>Chairman &amp;  Chief Executive Officer</td>\n",
       "      <td>Energy</td>\n",
       "      <td>Petroleum Refining</td>\n",
       "      <td>24</td>\n",
       "      <td>Irving</td>\n",
       "      <td>TX</td>\n",
       "      <td>32.814018</td>\n",
       "      <td>-96.948894</td>\n",
       "    </tr>\n",
       "  </tbody>\n",
       "</table>\n",
       "</div>"
      ],
      "text/plain": [
       "   rank        title Previous Rank Revenues ($M) Revenue Change Profits ($M)  \\\n",
       "0     1      Walmart             1      $500,343          3.00%    $9,862.00   \n",
       "1     2  Exxon Mobil             4      $244,363         17.40%   $19,710.00   \n",
       "\n",
       "  Profit Change Assets ($M) Mkt Value as of 3/29/18 ($M)  Employees  \\\n",
       "0       -27.70%    $204,522                     $263,563  2,300,000   \n",
       "1       151.40%    $348,691                     $316,157     71,200   \n",
       "\n",
       "                   CEO                                       CEO Title  \\\n",
       "0  C. Douglas McMillon  President, Chief Executive Officer &  Director   \n",
       "1      Darren W. Woods             Chairman &  Chief Executive Officer   \n",
       "\n",
       "      Sector               Industry Years on Fortune 500 List         City  \\\n",
       "0  Retailing  General Merchandisers                        24  Bentonville   \n",
       "1     Energy     Petroleum Refining                        24       Irving   \n",
       "\n",
       "  State   Latitude  Longitude  \n",
       "0    AR  36.372854 -94.208817  \n",
       "1    TX  32.814018 -96.948894  "
      ]
     },
     "execution_count": 18,
     "metadata": {},
     "output_type": "execute_result"
    },
    {
     "data": {
      "application/javascript": [
       "\n",
       "            setTimeout(function() {\n",
       "                var nbb_cell_id = 18;\n",
       "                var nbb_unformatted_code = \"print(fort.shape)\\nfort.head(2)\";\n",
       "                var nbb_formatted_code = \"print(fort.shape)\\nfort.head(2)\";\n",
       "                var nbb_cells = Jupyter.notebook.get_cells();\n",
       "                for (var i = 0; i < nbb_cells.length; ++i) {\n",
       "                    if (nbb_cells[i].input_prompt_number == nbb_cell_id) {\n",
       "                        if (nbb_cells[i].get_text() == nbb_unformatted_code) {\n",
       "                             nbb_cells[i].set_text(nbb_formatted_code);\n",
       "                        }\n",
       "                        break;\n",
       "                    }\n",
       "                }\n",
       "            }, 500);\n",
       "            "
      ],
      "text/plain": [
       "<IPython.core.display.Javascript object>"
      ]
     },
     "metadata": {},
     "output_type": "display_data"
    }
   ],
   "source": [
    "print(fort.shape)\n",
    "fort.head(2)"
   ]
  },
  {
   "cell_type": "code",
   "execution_count": 26,
   "metadata": {},
   "outputs": [
    {
     "data": {
      "application/javascript": [
       "\n",
       "            setTimeout(function() {\n",
       "                var nbb_cell_id = 26;\n",
       "                var nbb_unformatted_code = \"# Dashes are used as missing value indicator in some columns\\n# replacing these dashes with NaN\\nfort[fort == \\\"-\\\"] = np.nan\";\n",
       "                var nbb_formatted_code = \"# Dashes are used as missing value indicator in some columns\\n# replacing these dashes with NaN\\nfort[fort == \\\"-\\\"] = np.nan\";\n",
       "                var nbb_cells = Jupyter.notebook.get_cells();\n",
       "                for (var i = 0; i < nbb_cells.length; ++i) {\n",
       "                    if (nbb_cells[i].input_prompt_number == nbb_cell_id) {\n",
       "                        if (nbb_cells[i].get_text() == nbb_unformatted_code) {\n",
       "                             nbb_cells[i].set_text(nbb_formatted_code);\n",
       "                        }\n",
       "                        break;\n",
       "                    }\n",
       "                }\n",
       "            }, 500);\n",
       "            "
      ],
      "text/plain": [
       "<IPython.core.display.Javascript object>"
      ]
     },
     "metadata": {},
     "output_type": "display_data"
    }
   ],
   "source": [
    "# Dashes are used as missing value indicator in some columns\n",
    "# replacing these dashes with NaN\n",
    "fort[fort == \"-\"] = np.nan"
   ]
  },
  {
   "cell_type": "code",
   "execution_count": 13,
   "metadata": {},
   "outputs": [
    {
     "data": {
      "text/plain": [
       "0        1.0\n",
       "1        4.0\n",
       "2        2.0\n",
       "3        3.0\n",
       "4        6.0\n",
       "       ...  \n",
       "995      NaN\n",
       "996      NaN\n",
       "997    952.0\n",
       "998      NaN\n",
       "999    798.0\n",
       "Name: Previous Rank, Length: 1000, dtype: float64"
      ]
     },
     "execution_count": 13,
     "metadata": {},
     "output_type": "execute_result"
    },
    {
     "data": {
      "application/javascript": [
       "\n",
       "            setTimeout(function() {\n",
       "                var nbb_cell_id = 13;\n",
       "                var nbb_unformatted_code = \"pd.to_numeric(fort[\\\"Previous Rank\\\"])\";\n",
       "                var nbb_formatted_code = \"pd.to_numeric(fort[\\\"Previous Rank\\\"])\";\n",
       "                var nbb_cells = Jupyter.notebook.get_cells();\n",
       "                for (var i = 0; i < nbb_cells.length; ++i) {\n",
       "                    if (nbb_cells[i].input_prompt_number == nbb_cell_id) {\n",
       "                        if (nbb_cells[i].get_text() == nbb_unformatted_code) {\n",
       "                             nbb_cells[i].set_text(nbb_formatted_code);\n",
       "                        }\n",
       "                        break;\n",
       "                    }\n",
       "                }\n",
       "            }, 500);\n",
       "            "
      ],
      "text/plain": [
       "<IPython.core.display.Javascript object>"
      ]
     },
     "metadata": {},
     "output_type": "display_data"
    }
   ],
   "source": [
    "pd.to_numeric(fort[\"Previous Rank\"])"
   ]
  },
  {
   "cell_type": "code",
   "execution_count": 27,
   "metadata": {},
   "outputs": [
    {
     "data": {
      "application/javascript": [
       "\n",
       "            setTimeout(function() {\n",
       "                var nbb_cell_id = 27;\n",
       "                var nbb_unformatted_code = \"money_cols = [\\n    \\\"Revenues ($M)\\\",\\n    \\\"Profits ($M)\\\",\\n    \\\"Assets ($M)\\\",\\n    \\\"Mkt Value as of 3/29/18 ($M)\\\",\\n]\\n\\nfor money_col in money_cols:\\n\\n    fort[money_col] = fort[money_col].str.replace(\\\"$\\\", \\\"\\\", regex=False)\\n    fort[money_col] = fort[money_col].str.replace(\\\",\\\", \\\"\\\", regex=False)\\n    fort[money_col] = pd.to_numeric(fort[money_col])\\n    \";\n",
       "                var nbb_formatted_code = \"money_cols = [\\n    \\\"Revenues ($M)\\\",\\n    \\\"Profits ($M)\\\",\\n    \\\"Assets ($M)\\\",\\n    \\\"Mkt Value as of 3/29/18 ($M)\\\",\\n]\\n\\nfor money_col in money_cols:\\n\\n    fort[money_col] = fort[money_col].str.replace(\\\"$\\\", \\\"\\\", regex=False)\\n    fort[money_col] = fort[money_col].str.replace(\\\",\\\", \\\"\\\", regex=False)\\n    fort[money_col] = pd.to_numeric(fort[money_col])\";\n",
       "                var nbb_cells = Jupyter.notebook.get_cells();\n",
       "                for (var i = 0; i < nbb_cells.length; ++i) {\n",
       "                    if (nbb_cells[i].input_prompt_number == nbb_cell_id) {\n",
       "                        if (nbb_cells[i].get_text() == nbb_unformatted_code) {\n",
       "                             nbb_cells[i].set_text(nbb_formatted_code);\n",
       "                        }\n",
       "                        break;\n",
       "                    }\n",
       "                }\n",
       "            }, 500);\n",
       "            "
      ],
      "text/plain": [
       "<IPython.core.display.Javascript object>"
      ]
     },
     "metadata": {},
     "output_type": "display_data"
    }
   ],
   "source": [
    "money_cols = [\n",
    "    \"Revenues ($M)\",\n",
    "    \"Profits ($M)\",\n",
    "    \"Assets ($M)\",\n",
    "    \"Mkt Value as of 3/29/18 ($M)\",\n",
    "]\n",
    "\n",
    "for money_col in money_cols:\n",
    "\n",
    "    fort[money_col] = fort[money_col].str.replace(\"$\", \"\", regex=False)\n",
    "    fort[money_col] = fort[money_col].str.replace(\",\", \"\", regex=False)\n",
    "    fort[money_col] = pd.to_numeric(fort[money_col])\n",
    "    \n"
   ]
  },
  {
   "cell_type": "code",
   "execution_count": null,
   "metadata": {},
   "outputs": [],
   "source": [
    "pd.__version__"
   ]
  }
 ],
 "metadata": {
  "kernelspec": {
   "display_name": "Python 3",
   "language": "python",
   "name": "python3"
  },
  "language_info": {
   "codemirror_mode": {
    "name": "ipython",
    "version": 3
   },
   "file_extension": ".py",
   "mimetype": "text/x-python",
   "name": "python",
   "nbconvert_exporter": "python",
   "pygments_lexer": "ipython3",
   "version": "3.7.6"
  }
 },
 "nbformat": 4,
 "nbformat_minor": 4
}
