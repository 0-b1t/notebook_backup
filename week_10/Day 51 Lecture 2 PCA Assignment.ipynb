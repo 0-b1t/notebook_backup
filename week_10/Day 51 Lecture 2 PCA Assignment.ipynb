{
 "cells": [
  {
   "cell_type": "code",
   "execution_count": 1,
   "metadata": {},
   "outputs": [
    {
     "data": {
      "application/javascript": [
       "\n",
       "            setTimeout(function() {\n",
       "                var nbb_cell_id = 1;\n",
       "                var nbb_unformatted_code = \"%reload_ext nb_black\";\n",
       "                var nbb_formatted_code = \"%reload_ext nb_black\";\n",
       "                var nbb_cells = Jupyter.notebook.get_cells();\n",
       "                for (var i = 0; i < nbb_cells.length; ++i) {\n",
       "                    if (nbb_cells[i].input_prompt_number == nbb_cell_id) {\n",
       "                        if (nbb_cells[i].get_text() == nbb_unformatted_code) {\n",
       "                             nbb_cells[i].set_text(nbb_formatted_code);\n",
       "                        }\n",
       "                        break;\n",
       "                    }\n",
       "                }\n",
       "            }, 500);\n",
       "            "
      ],
      "text/plain": [
       "<IPython.core.display.Javascript object>"
      ]
     },
     "metadata": {},
     "output_type": "display_data"
    }
   ],
   "source": [
    "%reload_ext nb_black"
   ]
  },
  {
   "cell_type": "markdown",
   "metadata": {
    "id": "Dl7sU6r-kMdW"
   },
   "source": [
    "# Principal Component Analysis Assignment"
   ]
  },
  {
   "cell_type": "code",
   "execution_count": 2,
   "metadata": {
    "id": "o-K7WD2akMdY"
   },
   "outputs": [
    {
     "data": {
      "application/javascript": [
       "\n",
       "            setTimeout(function() {\n",
       "                var nbb_cell_id = 2;\n",
       "                var nbb_unformatted_code = \"import numpy as np\\nimport pandas as pd\\n\\nfrom sklearn.decomposition import PCA\\nfrom sklearn.ensemble import RandomForestClassifier\\nfrom sklearn.model_selection import train_test_split\\nfrom sklearn.preprocessing import StandardScaler\\n\\nimport seaborn as sns\\nimport matplotlib.pyplot as plt\\n\\n%matplotlib inline\";\n",
       "                var nbb_formatted_code = \"import numpy as np\\nimport pandas as pd\\n\\nfrom sklearn.decomposition import PCA\\nfrom sklearn.ensemble import RandomForestClassifier\\nfrom sklearn.model_selection import train_test_split\\nfrom sklearn.preprocessing import StandardScaler\\n\\nimport seaborn as sns\\nimport matplotlib.pyplot as plt\\n\\n%matplotlib inline\";\n",
       "                var nbb_cells = Jupyter.notebook.get_cells();\n",
       "                for (var i = 0; i < nbb_cells.length; ++i) {\n",
       "                    if (nbb_cells[i].input_prompt_number == nbb_cell_id) {\n",
       "                        if (nbb_cells[i].get_text() == nbb_unformatted_code) {\n",
       "                             nbb_cells[i].set_text(nbb_formatted_code);\n",
       "                        }\n",
       "                        break;\n",
       "                    }\n",
       "                }\n",
       "            }, 500);\n",
       "            "
      ],
      "text/plain": [
       "<IPython.core.display.Javascript object>"
      ]
     },
     "metadata": {},
     "output_type": "display_data"
    }
   ],
   "source": [
    "import numpy as np\n",
    "import pandas as pd\n",
    "\n",
    "from sklearn.decomposition import PCA\n",
    "from sklearn.ensemble import RandomForestClassifier\n",
    "from sklearn.model_selection import train_test_split\n",
    "from sklearn.preprocessing import StandardScaler\n",
    "\n",
    "import seaborn as sns\n",
    "import matplotlib.pyplot as plt\n",
    "\n",
    "%matplotlib inline"
   ]
  },
  {
   "cell_type": "markdown",
   "metadata": {
    "id": "iMXplj9FkMdh"
   },
   "source": [
    "### Import the [PitchFX data set](https://docs.google.com/spreadsheets/d/1pmBtSw7v_tU_dIX1-4E8_Q7wC43fDs6LGDQzN49-ffk/export?format=csv)."
   ]
  },
  {
   "cell_type": "code",
   "execution_count": 3,
   "metadata": {
    "id": "XrExc5-BkMdi"
   },
   "outputs": [
    {
     "data": {
      "application/javascript": [
       "\n",
       "            setTimeout(function() {\n",
       "                var nbb_cell_id = 3;\n",
       "                var nbb_unformatted_code = \"df = pd.read_csv(\\\"data/baseball_pitchfx.csv\\\")\";\n",
       "                var nbb_formatted_code = \"df = pd.read_csv(\\\"data/baseball_pitchfx.csv\\\")\";\n",
       "                var nbb_cells = Jupyter.notebook.get_cells();\n",
       "                for (var i = 0; i < nbb_cells.length; ++i) {\n",
       "                    if (nbb_cells[i].input_prompt_number == nbb_cell_id) {\n",
       "                        if (nbb_cells[i].get_text() == nbb_unformatted_code) {\n",
       "                             nbb_cells[i].set_text(nbb_formatted_code);\n",
       "                        }\n",
       "                        break;\n",
       "                    }\n",
       "                }\n",
       "            }, 500);\n",
       "            "
      ],
      "text/plain": [
       "<IPython.core.display.Javascript object>"
      ]
     },
     "metadata": {},
     "output_type": "display_data"
    }
   ],
   "source": [
    "df = pd.read_csv(\"data/baseball_pitchfx.csv\")"
   ]
  },
  {
   "cell_type": "code",
   "execution_count": 4,
   "metadata": {},
   "outputs": [
    {
     "data": {
      "text/html": [
       "<div>\n",
       "<style scoped>\n",
       "    .dataframe tbody tr th:only-of-type {\n",
       "        vertical-align: middle;\n",
       "    }\n",
       "\n",
       "    .dataframe tbody tr th {\n",
       "        vertical-align: top;\n",
       "    }\n",
       "\n",
       "    .dataframe thead th {\n",
       "        text-align: right;\n",
       "    }\n",
       "</style>\n",
       "<table border=\"1\" class=\"dataframe\">\n",
       "  <thead>\n",
       "    <tr style=\"text-align: right;\">\n",
       "      <th></th>\n",
       "      <th>gameString</th>\n",
       "      <th>gameDate</th>\n",
       "      <th>visitor</th>\n",
       "      <th>home</th>\n",
       "      <th>inning</th>\n",
       "      <th>side</th>\n",
       "      <th>balls</th>\n",
       "      <th>strikes</th>\n",
       "      <th>outs</th>\n",
       "      <th>batterId</th>\n",
       "      <th>...</th>\n",
       "      <th>spinRate</th>\n",
       "      <th>spinDir</th>\n",
       "      <th>locationHoriz</th>\n",
       "      <th>locationVert</th>\n",
       "      <th>movementHoriz</th>\n",
       "      <th>movementVert</th>\n",
       "      <th>battedBallType</th>\n",
       "      <th>battedBallAngle</th>\n",
       "      <th>battedBallDistance</th>\n",
       "      <th>paResult</th>\n",
       "    </tr>\n",
       "  </thead>\n",
       "  <tbody>\n",
       "    <tr>\n",
       "      <th>0</th>\n",
       "      <td>gid_2016_04_04_sfnmlb_milmlb_1</td>\n",
       "      <td>2016-04-04</td>\n",
       "      <td>SF</td>\n",
       "      <td>MIL</td>\n",
       "      <td>1</td>\n",
       "      <td>T</td>\n",
       "      <td>0</td>\n",
       "      <td>0</td>\n",
       "      <td>0</td>\n",
       "      <td>452655</td>\n",
       "      <td>...</td>\n",
       "      <td>2044.22</td>\n",
       "      <td>205.477</td>\n",
       "      <td>-0.374</td>\n",
       "      <td>2.933</td>\n",
       "      <td>-6.93</td>\n",
       "      <td>8.28</td>\n",
       "      <td>NaN</td>\n",
       "      <td>NaN</td>\n",
       "      <td>NaN</td>\n",
       "      <td>NaN</td>\n",
       "    </tr>\n",
       "    <tr>\n",
       "      <th>1</th>\n",
       "      <td>gid_2016_04_04_sfnmlb_milmlb_1</td>\n",
       "      <td>2016-04-04</td>\n",
       "      <td>SF</td>\n",
       "      <td>MIL</td>\n",
       "      <td>1</td>\n",
       "      <td>T</td>\n",
       "      <td>0</td>\n",
       "      <td>1</td>\n",
       "      <td>0</td>\n",
       "      <td>452655</td>\n",
       "      <td>...</td>\n",
       "      <td>1966.32</td>\n",
       "      <td>220.143</td>\n",
       "      <td>0.342</td>\n",
       "      <td>3.223</td>\n",
       "      <td>-7.48</td>\n",
       "      <td>7.35</td>\n",
       "      <td>NaN</td>\n",
       "      <td>NaN</td>\n",
       "      <td>NaN</td>\n",
       "      <td>NaN</td>\n",
       "    </tr>\n",
       "    <tr>\n",
       "      <th>2</th>\n",
       "      <td>gid_2016_04_04_sfnmlb_milmlb_1</td>\n",
       "      <td>2016-04-04</td>\n",
       "      <td>SF</td>\n",
       "      <td>MIL</td>\n",
       "      <td>1</td>\n",
       "      <td>T</td>\n",
       "      <td>0</td>\n",
       "      <td>2</td>\n",
       "      <td>0</td>\n",
       "      <td>452655</td>\n",
       "      <td>...</td>\n",
       "      <td>2127.17</td>\n",
       "      <td>198.816</td>\n",
       "      <td>0.389</td>\n",
       "      <td>2.266</td>\n",
       "      <td>-5.22</td>\n",
       "      <td>9.79</td>\n",
       "      <td>FB</td>\n",
       "      <td>27.78</td>\n",
       "      <td>323.03</td>\n",
       "      <td>IP_OUT</td>\n",
       "    </tr>\n",
       "    <tr>\n",
       "      <th>3</th>\n",
       "      <td>gid_2016_04_04_sfnmlb_milmlb_1</td>\n",
       "      <td>2016-04-04</td>\n",
       "      <td>SF</td>\n",
       "      <td>MIL</td>\n",
       "      <td>1</td>\n",
       "      <td>T</td>\n",
       "      <td>0</td>\n",
       "      <td>0</td>\n",
       "      <td>1</td>\n",
       "      <td>605412</td>\n",
       "      <td>...</td>\n",
       "      <td>1947.11</td>\n",
       "      <td>198.734</td>\n",
       "      <td>-0.004</td>\n",
       "      <td>2.380</td>\n",
       "      <td>-7.24</td>\n",
       "      <td>8.40</td>\n",
       "      <td>NaN</td>\n",
       "      <td>NaN</td>\n",
       "      <td>NaN</td>\n",
       "      <td>NaN</td>\n",
       "    </tr>\n",
       "    <tr>\n",
       "      <th>4</th>\n",
       "      <td>gid_2016_04_04_sfnmlb_milmlb_1</td>\n",
       "      <td>2016-04-04</td>\n",
       "      <td>SF</td>\n",
       "      <td>MIL</td>\n",
       "      <td>1</td>\n",
       "      <td>T</td>\n",
       "      <td>0</td>\n",
       "      <td>1</td>\n",
       "      <td>1</td>\n",
       "      <td>605412</td>\n",
       "      <td>...</td>\n",
       "      <td>1903.08</td>\n",
       "      <td>205.503</td>\n",
       "      <td>0.272</td>\n",
       "      <td>2.421</td>\n",
       "      <td>-6.79</td>\n",
       "      <td>9.37</td>\n",
       "      <td>NaN</td>\n",
       "      <td>NaN</td>\n",
       "      <td>NaN</td>\n",
       "      <td>NaN</td>\n",
       "    </tr>\n",
       "  </tbody>\n",
       "</table>\n",
       "<p>5 rows × 35 columns</p>\n",
       "</div>"
      ],
      "text/plain": [
       "                       gameString    gameDate visitor home  inning side  \\\n",
       "0  gid_2016_04_04_sfnmlb_milmlb_1  2016-04-04      SF  MIL       1    T   \n",
       "1  gid_2016_04_04_sfnmlb_milmlb_1  2016-04-04      SF  MIL       1    T   \n",
       "2  gid_2016_04_04_sfnmlb_milmlb_1  2016-04-04      SF  MIL       1    T   \n",
       "3  gid_2016_04_04_sfnmlb_milmlb_1  2016-04-04      SF  MIL       1    T   \n",
       "4  gid_2016_04_04_sfnmlb_milmlb_1  2016-04-04      SF  MIL       1    T   \n",
       "\n",
       "   balls  strikes  outs  batterId  ... spinRate  spinDir locationHoriz  \\\n",
       "0      0        0     0    452655  ...  2044.22  205.477        -0.374   \n",
       "1      0        1     0    452655  ...  1966.32  220.143         0.342   \n",
       "2      0        2     0    452655  ...  2127.17  198.816         0.389   \n",
       "3      0        0     1    605412  ...  1947.11  198.734        -0.004   \n",
       "4      0        1     1    605412  ...  1903.08  205.503         0.272   \n",
       "\n",
       "   locationVert movementHoriz movementVert  battedBallType  battedBallAngle  \\\n",
       "0         2.933         -6.93         8.28             NaN              NaN   \n",
       "1         3.223         -7.48         7.35             NaN              NaN   \n",
       "2         2.266         -5.22         9.79              FB            27.78   \n",
       "3         2.380         -7.24         8.40             NaN              NaN   \n",
       "4         2.421         -6.79         9.37             NaN              NaN   \n",
       "\n",
       "  battedBallDistance  paResult  \n",
       "0                NaN       NaN  \n",
       "1                NaN       NaN  \n",
       "2             323.03    IP_OUT  \n",
       "3                NaN       NaN  \n",
       "4                NaN       NaN  \n",
       "\n",
       "[5 rows x 35 columns]"
      ]
     },
     "execution_count": 4,
     "metadata": {},
     "output_type": "execute_result"
    },
    {
     "data": {
      "application/javascript": [
       "\n",
       "            setTimeout(function() {\n",
       "                var nbb_cell_id = 4;\n",
       "                var nbb_unformatted_code = \"df.head()\";\n",
       "                var nbb_formatted_code = \"df.head()\";\n",
       "                var nbb_cells = Jupyter.notebook.get_cells();\n",
       "                for (var i = 0; i < nbb_cells.length; ++i) {\n",
       "                    if (nbb_cells[i].input_prompt_number == nbb_cell_id) {\n",
       "                        if (nbb_cells[i].get_text() == nbb_unformatted_code) {\n",
       "                             nbb_cells[i].set_text(nbb_formatted_code);\n",
       "                        }\n",
       "                        break;\n",
       "                    }\n",
       "                }\n",
       "            }, 500);\n",
       "            "
      ],
      "text/plain": [
       "<IPython.core.display.Javascript object>"
      ]
     },
     "metadata": {},
     "output_type": "display_data"
    }
   ],
   "source": [
    "df.head()"
   ]
  },
  {
   "cell_type": "markdown",
   "metadata": {
    "id": "v1Da9H9SkMdm"
   },
   "source": [
    "### Keep only the pitch type and the numeric columns (exluding ID fields).\n",
    "\n",
    "* Drop any remaining records that contain null values.\n",
    "* Consider `pitchType` as `y`/target and the remaining columns to be `X`/features."
   ]
  },
  {
   "cell_type": "code",
   "execution_count": 5,
   "metadata": {},
   "outputs": [
    {
     "name": "stdout",
     "output_type": "stream",
     "text": [
      "<class 'pandas.core.frame.DataFrame'>\n",
      "RangeIndex: 79931 entries, 0 to 79930\n",
      "Data columns (total 35 columns):\n",
      " #   Column              Non-Null Count  Dtype  \n",
      "---  ------              --------------  -----  \n",
      " 0   gameString          79931 non-null  object \n",
      " 1   gameDate            79931 non-null  object \n",
      " 2   visitor             79931 non-null  object \n",
      " 3   home                79931 non-null  object \n",
      " 4   inning              79931 non-null  int64  \n",
      " 5   side                79931 non-null  object \n",
      " 6   balls               79931 non-null  int64  \n",
      " 7   strikes             79931 non-null  int64  \n",
      " 8   outs                79931 non-null  int64  \n",
      " 9   batterId            79931 non-null  int64  \n",
      " 10  batterName          79931 non-null  object \n",
      " 11  batterHand          79931 non-null  object \n",
      " 12  batterPosition      79931 non-null  object \n",
      " 13  pitcherId           79931 non-null  int64  \n",
      " 14  pitcherName         79931 non-null  object \n",
      " 15  pitcherHand         79931 non-null  object \n",
      " 16  timesFaced          79931 non-null  int64  \n",
      " 17  catcherId           79931 non-null  int64  \n",
      " 18  catcher             79931 non-null  object \n",
      " 19  umpireId            79931 non-null  int64  \n",
      " 20  umpire              79931 non-null  object \n",
      " 21  probCalledStrike    79921 non-null  float64\n",
      " 22  pitchResult         79931 non-null  object \n",
      " 23  pitchType           79931 non-null  object \n",
      " 24  releaseVelocity     79931 non-null  float64\n",
      " 25  spinRate            73734 non-null  float64\n",
      " 26  spinDir             79620 non-null  float64\n",
      " 27  locationHoriz       79931 non-null  float64\n",
      " 28  locationVert        79931 non-null  float64\n",
      " 29  movementHoriz       79931 non-null  float64\n",
      " 30  movementVert        79931 non-null  float64\n",
      " 31  battedBallType      14499 non-null  object \n",
      " 32  battedBallAngle     14499 non-null  float64\n",
      " 33  battedBallDistance  14499 non-null  float64\n",
      " 34  paResult            20591 non-null  object \n",
      "dtypes: float64(10), int64(9), object(16)\n",
      "memory usage: 21.3+ MB\n"
     ]
    },
    {
     "data": {
      "application/javascript": [
       "\n",
       "            setTimeout(function() {\n",
       "                var nbb_cell_id = 5;\n",
       "                var nbb_unformatted_code = \"df.info()\";\n",
       "                var nbb_formatted_code = \"df.info()\";\n",
       "                var nbb_cells = Jupyter.notebook.get_cells();\n",
       "                for (var i = 0; i < nbb_cells.length; ++i) {\n",
       "                    if (nbb_cells[i].input_prompt_number == nbb_cell_id) {\n",
       "                        if (nbb_cells[i].get_text() == nbb_unformatted_code) {\n",
       "                             nbb_cells[i].set_text(nbb_formatted_code);\n",
       "                        }\n",
       "                        break;\n",
       "                    }\n",
       "                }\n",
       "            }, 500);\n",
       "            "
      ],
      "text/plain": [
       "<IPython.core.display.Javascript object>"
      ]
     },
     "metadata": {},
     "output_type": "display_data"
    }
   ],
   "source": [
    "df.info()"
   ]
  },
  {
   "cell_type": "code",
   "execution_count": 6,
   "metadata": {},
   "outputs": [
    {
     "data": {
      "text/plain": [
       "0          NaN\n",
       "1          NaN\n",
       "2        27.78\n",
       "3          NaN\n",
       "4          NaN\n",
       "         ...  \n",
       "79926      NaN\n",
       "79927      NaN\n",
       "79928      NaN\n",
       "79929      NaN\n",
       "79930    24.95\n",
       "Name: battedBallAngle, Length: 79931, dtype: float64"
      ]
     },
     "execution_count": 6,
     "metadata": {},
     "output_type": "execute_result"
    },
    {
     "data": {
      "application/javascript": [
       "\n",
       "            setTimeout(function() {\n",
       "                var nbb_cell_id = 6;\n",
       "                var nbb_unformatted_code = \"df[\\\"battedBallAngle\\\"]\";\n",
       "                var nbb_formatted_code = \"df[\\\"battedBallAngle\\\"]\";\n",
       "                var nbb_cells = Jupyter.notebook.get_cells();\n",
       "                for (var i = 0; i < nbb_cells.length; ++i) {\n",
       "                    if (nbb_cells[i].input_prompt_number == nbb_cell_id) {\n",
       "                        if (nbb_cells[i].get_text() == nbb_unformatted_code) {\n",
       "                             nbb_cells[i].set_text(nbb_formatted_code);\n",
       "                        }\n",
       "                        break;\n",
       "                    }\n",
       "                }\n",
       "            }, 500);\n",
       "            "
      ],
      "text/plain": [
       "<IPython.core.display.Javascript object>"
      ]
     },
     "metadata": {},
     "output_type": "display_data"
    }
   ],
   "source": [
    "df[\"battedBallAngle\"]"
   ]
  },
  {
   "cell_type": "code",
   "execution_count": 7,
   "metadata": {
    "id": "yoWXyJLWkMdm"
   },
   "outputs": [
    {
     "data": {
      "application/javascript": [
       "\n",
       "            setTimeout(function() {\n",
       "                var nbb_cell_id = 7;\n",
       "                var nbb_unformatted_code = \"drop_cols = [\\n    \\\"gameString\\\",\\n    \\\"gameDate\\\",\\n    \\\"visitor\\\",\\n    \\\"home\\\",\\n    \\\"side\\\",\\n    \\\"batterId\\\",\\n    \\\"batterName\\\",\\n    \\\"batterHand\\\",\\n    \\\"batterPosition\\\",\\n    \\\"pitcherId\\\",\\n    \\\"pitcherName\\\",\\n    \\\"pitcherHand\\\",\\n    \\\"catcherId\\\",\\n    \\\"catcher\\\",\\n    \\\"umpireId\\\",\\n    \\\"umpire\\\",\\n    \\\"pitchResult\\\",\\n    \\\"battedBallType\\\",\\n    \\\"battedBallAngle\\\",\\n    \\\"battedBallDistance\\\",\\n    \\\"paResult\\\",\\n    \\\"side\\\",\\n]\\ndf = df.drop(drop_cols, 1)\\ndf = df.dropna()\\nX = df.drop(\\\"pitchType\\\", 1)\\ny = df[\\\"pitchType\\\"]\";\n",
       "                var nbb_formatted_code = \"drop_cols = [\\n    \\\"gameString\\\",\\n    \\\"gameDate\\\",\\n    \\\"visitor\\\",\\n    \\\"home\\\",\\n    \\\"side\\\",\\n    \\\"batterId\\\",\\n    \\\"batterName\\\",\\n    \\\"batterHand\\\",\\n    \\\"batterPosition\\\",\\n    \\\"pitcherId\\\",\\n    \\\"pitcherName\\\",\\n    \\\"pitcherHand\\\",\\n    \\\"catcherId\\\",\\n    \\\"catcher\\\",\\n    \\\"umpireId\\\",\\n    \\\"umpire\\\",\\n    \\\"pitchResult\\\",\\n    \\\"battedBallType\\\",\\n    \\\"battedBallAngle\\\",\\n    \\\"battedBallDistance\\\",\\n    \\\"paResult\\\",\\n    \\\"side\\\",\\n]\\ndf = df.drop(drop_cols, 1)\\ndf = df.dropna()\\nX = df.drop(\\\"pitchType\\\", 1)\\ny = df[\\\"pitchType\\\"]\";\n",
       "                var nbb_cells = Jupyter.notebook.get_cells();\n",
       "                for (var i = 0; i < nbb_cells.length; ++i) {\n",
       "                    if (nbb_cells[i].input_prompt_number == nbb_cell_id) {\n",
       "                        if (nbb_cells[i].get_text() == nbb_unformatted_code) {\n",
       "                             nbb_cells[i].set_text(nbb_formatted_code);\n",
       "                        }\n",
       "                        break;\n",
       "                    }\n",
       "                }\n",
       "            }, 500);\n",
       "            "
      ],
      "text/plain": [
       "<IPython.core.display.Javascript object>"
      ]
     },
     "metadata": {},
     "output_type": "display_data"
    }
   ],
   "source": [
    "drop_cols = [\n",
    "    \"gameString\",\n",
    "    \"gameDate\",\n",
    "    \"visitor\",\n",
    "    \"home\",\n",
    "    \"side\",\n",
    "    \"batterId\",\n",
    "    \"batterName\",\n",
    "    \"batterHand\",\n",
    "    \"batterPosition\",\n",
    "    \"pitcherId\",\n",
    "    \"pitcherName\",\n",
    "    \"pitcherHand\",\n",
    "    \"catcherId\",\n",
    "    \"catcher\",\n",
    "    \"umpireId\",\n",
    "    \"umpire\",\n",
    "    \"pitchResult\",\n",
    "    \"battedBallType\",\n",
    "    \"battedBallAngle\",\n",
    "    \"battedBallDistance\",\n",
    "    \"paResult\",\n",
    "    \"side\",\n",
    "]\n",
    "df = df.drop(drop_cols, 1)\n",
    "df = df.dropna()\n"
   ]
  },
  {
   "cell_type": "code",
   "execution_count": 25,
   "metadata": {},
   "outputs": [
    {
     "data": {
      "application/javascript": [
       "\n",
       "            setTimeout(function() {\n",
       "                var nbb_cell_id = 25;\n",
       "                var nbb_unformatted_code = \"pitches = df[\\\"pitchType\\\"].value_counts()\\nkeep_pitches = pitches > 1000\\nkeeps = keep_pitches.index[keep_pitches.values]\\ndf = df[df[\\\"pitchType\\\"].isin(keeps)]\";\n",
       "                var nbb_formatted_code = \"pitches = df[\\\"pitchType\\\"].value_counts()\\nkeep_pitches = pitches > 1000\\nkeeps = keep_pitches.index[keep_pitches.values]\\ndf = df[df[\\\"pitchType\\\"].isin(keeps)]\";\n",
       "                var nbb_cells = Jupyter.notebook.get_cells();\n",
       "                for (var i = 0; i < nbb_cells.length; ++i) {\n",
       "                    if (nbb_cells[i].input_prompt_number == nbb_cell_id) {\n",
       "                        if (nbb_cells[i].get_text() == nbb_unformatted_code) {\n",
       "                             nbb_cells[i].set_text(nbb_formatted_code);\n",
       "                        }\n",
       "                        break;\n",
       "                    }\n",
       "                }\n",
       "            }, 500);\n",
       "            "
      ],
      "text/plain": [
       "<IPython.core.display.Javascript object>"
      ]
     },
     "metadata": {},
     "output_type": "display_data"
    }
   ],
   "source": [
    "pitches = df[\"pitchType\"].value_counts()\n",
    "keep_pitches = pitches > 1000\n",
    "keeps = keep_pitches.index[keep_pitches.values]\n",
    "df = df[df[\"pitchType\"].isin(keeps)]"
   ]
  },
  {
   "cell_type": "code",
   "execution_count": 26,
   "metadata": {},
   "outputs": [
    {
     "data": {
      "text/plain": [
       "FF    28615\n",
       "FT    10277\n",
       "SL     8709\n",
       "CH     8309\n",
       "CU     6027\n",
       "SI     5252\n",
       "FC     3741\n",
       "KC     1624\n",
       "Name: pitchType, dtype: int64"
      ]
     },
     "execution_count": 26,
     "metadata": {},
     "output_type": "execute_result"
    },
    {
     "data": {
      "application/javascript": [
       "\n",
       "            setTimeout(function() {\n",
       "                var nbb_cell_id = 26;\n",
       "                var nbb_unformatted_code = \"df[\\\"pitchType\\\"].value_counts()\";\n",
       "                var nbb_formatted_code = \"df[\\\"pitchType\\\"].value_counts()\";\n",
       "                var nbb_cells = Jupyter.notebook.get_cells();\n",
       "                for (var i = 0; i < nbb_cells.length; ++i) {\n",
       "                    if (nbb_cells[i].input_prompt_number == nbb_cell_id) {\n",
       "                        if (nbb_cells[i].get_text() == nbb_unformatted_code) {\n",
       "                             nbb_cells[i].set_text(nbb_formatted_code);\n",
       "                        }\n",
       "                        break;\n",
       "                    }\n",
       "                }\n",
       "            }, 500);\n",
       "            "
      ],
      "text/plain": [
       "<IPython.core.display.Javascript object>"
      ]
     },
     "metadata": {},
     "output_type": "display_data"
    }
   ],
   "source": [
    "df[\"pitchType\"].value_counts()"
   ]
  },
  {
   "cell_type": "code",
   "execution_count": 27,
   "metadata": {},
   "outputs": [
    {
     "data": {
      "application/javascript": [
       "\n",
       "            setTimeout(function() {\n",
       "                var nbb_cell_id = 27;\n",
       "                var nbb_unformatted_code = \"X = df.drop(\\\"pitchType\\\", 1)\\ny = df[\\\"pitchType\\\"]\";\n",
       "                var nbb_formatted_code = \"X = df.drop(\\\"pitchType\\\", 1)\\ny = df[\\\"pitchType\\\"]\";\n",
       "                var nbb_cells = Jupyter.notebook.get_cells();\n",
       "                for (var i = 0; i < nbb_cells.length; ++i) {\n",
       "                    if (nbb_cells[i].input_prompt_number == nbb_cell_id) {\n",
       "                        if (nbb_cells[i].get_text() == nbb_unformatted_code) {\n",
       "                             nbb_cells[i].set_text(nbb_formatted_code);\n",
       "                        }\n",
       "                        break;\n",
       "                    }\n",
       "                }\n",
       "            }, 500);\n",
       "            "
      ],
      "text/plain": [
       "<IPython.core.display.Javascript object>"
      ]
     },
     "metadata": {},
     "output_type": "display_data"
    }
   ],
   "source": [
    "X = df.drop(\"pitchType\", 1)\n",
    "y = df[\"pitchType\"]"
   ]
  },
  {
   "cell_type": "code",
   "execution_count": 28,
   "metadata": {},
   "outputs": [
    {
     "data": {
      "text/plain": [
       "inning              0\n",
       "balls               0\n",
       "strikes             0\n",
       "outs                0\n",
       "timesFaced          0\n",
       "probCalledStrike    0\n",
       "releaseVelocity     0\n",
       "spinRate            0\n",
       "spinDir             0\n",
       "locationHoriz       0\n",
       "locationVert        0\n",
       "movementHoriz       0\n",
       "movementVert        0\n",
       "dtype: int64"
      ]
     },
     "execution_count": 28,
     "metadata": {},
     "output_type": "execute_result"
    },
    {
     "data": {
      "application/javascript": [
       "\n",
       "            setTimeout(function() {\n",
       "                var nbb_cell_id = 28;\n",
       "                var nbb_unformatted_code = \"X.isna().sum()\";\n",
       "                var nbb_formatted_code = \"X.isna().sum()\";\n",
       "                var nbb_cells = Jupyter.notebook.get_cells();\n",
       "                for (var i = 0; i < nbb_cells.length; ++i) {\n",
       "                    if (nbb_cells[i].input_prompt_number == nbb_cell_id) {\n",
       "                        if (nbb_cells[i].get_text() == nbb_unformatted_code) {\n",
       "                             nbb_cells[i].set_text(nbb_formatted_code);\n",
       "                        }\n",
       "                        break;\n",
       "                    }\n",
       "                }\n",
       "            }, 500);\n",
       "            "
      ],
      "text/plain": [
       "<IPython.core.display.Javascript object>"
      ]
     },
     "metadata": {},
     "output_type": "display_data"
    }
   ],
   "source": [
    "X.isna().sum()"
   ]
  },
  {
   "cell_type": "code",
   "execution_count": 9,
   "metadata": {
    "scrolled": true
   },
   "outputs": [
    {
     "data": {
      "text/html": [
       "<div>\n",
       "<style scoped>\n",
       "    .dataframe tbody tr th:only-of-type {\n",
       "        vertical-align: middle;\n",
       "    }\n",
       "\n",
       "    .dataframe tbody tr th {\n",
       "        vertical-align: top;\n",
       "    }\n",
       "\n",
       "    .dataframe thead th {\n",
       "        text-align: right;\n",
       "    }\n",
       "</style>\n",
       "<table border=\"1\" class=\"dataframe\">\n",
       "  <thead>\n",
       "    <tr style=\"text-align: right;\">\n",
       "      <th></th>\n",
       "      <th>inning</th>\n",
       "      <th>balls</th>\n",
       "      <th>strikes</th>\n",
       "      <th>outs</th>\n",
       "      <th>timesFaced</th>\n",
       "      <th>probCalledStrike</th>\n",
       "      <th>releaseVelocity</th>\n",
       "      <th>spinRate</th>\n",
       "      <th>spinDir</th>\n",
       "      <th>locationHoriz</th>\n",
       "      <th>locationVert</th>\n",
       "      <th>movementHoriz</th>\n",
       "      <th>movementVert</th>\n",
       "    </tr>\n",
       "  </thead>\n",
       "  <tbody>\n",
       "    <tr>\n",
       "      <th>0</th>\n",
       "      <td>1</td>\n",
       "      <td>0</td>\n",
       "      <td>0</td>\n",
       "      <td>0</td>\n",
       "      <td>1</td>\n",
       "      <td>0.975</td>\n",
       "      <td>94.2</td>\n",
       "      <td>2044.22</td>\n",
       "      <td>205.477</td>\n",
       "      <td>-0.374</td>\n",
       "      <td>2.933</td>\n",
       "      <td>-6.93</td>\n",
       "      <td>8.28</td>\n",
       "    </tr>\n",
       "    <tr>\n",
       "      <th>1</th>\n",
       "      <td>1</td>\n",
       "      <td>0</td>\n",
       "      <td>1</td>\n",
       "      <td>0</td>\n",
       "      <td>1</td>\n",
       "      <td>0.745</td>\n",
       "      <td>97.1</td>\n",
       "      <td>1966.32</td>\n",
       "      <td>220.143</td>\n",
       "      <td>0.342</td>\n",
       "      <td>3.223</td>\n",
       "      <td>-7.48</td>\n",
       "      <td>7.35</td>\n",
       "    </tr>\n",
       "    <tr>\n",
       "      <th>2</th>\n",
       "      <td>1</td>\n",
       "      <td>0</td>\n",
       "      <td>2</td>\n",
       "      <td>0</td>\n",
       "      <td>1</td>\n",
       "      <td>0.968</td>\n",
       "      <td>96.5</td>\n",
       "      <td>2127.17</td>\n",
       "      <td>198.816</td>\n",
       "      <td>0.389</td>\n",
       "      <td>2.266</td>\n",
       "      <td>-5.22</td>\n",
       "      <td>9.79</td>\n",
       "    </tr>\n",
       "    <tr>\n",
       "      <th>3</th>\n",
       "      <td>1</td>\n",
       "      <td>0</td>\n",
       "      <td>0</td>\n",
       "      <td>1</td>\n",
       "      <td>1</td>\n",
       "      <td>1.000</td>\n",
       "      <td>95.6</td>\n",
       "      <td>1947.11</td>\n",
       "      <td>198.734</td>\n",
       "      <td>-0.004</td>\n",
       "      <td>2.380</td>\n",
       "      <td>-7.24</td>\n",
       "      <td>8.40</td>\n",
       "    </tr>\n",
       "    <tr>\n",
       "      <th>4</th>\n",
       "      <td>1</td>\n",
       "      <td>0</td>\n",
       "      <td>1</td>\n",
       "      <td>1</td>\n",
       "      <td>1</td>\n",
       "      <td>1.000</td>\n",
       "      <td>95.6</td>\n",
       "      <td>1903.08</td>\n",
       "      <td>205.503</td>\n",
       "      <td>0.272</td>\n",
       "      <td>2.421</td>\n",
       "      <td>-6.79</td>\n",
       "      <td>9.37</td>\n",
       "    </tr>\n",
       "  </tbody>\n",
       "</table>\n",
       "</div>"
      ],
      "text/plain": [
       "   inning  balls  strikes  outs  timesFaced  probCalledStrike  \\\n",
       "0       1      0        0     0           1             0.975   \n",
       "1       1      0        1     0           1             0.745   \n",
       "2       1      0        2     0           1             0.968   \n",
       "3       1      0        0     1           1             1.000   \n",
       "4       1      0        1     1           1             1.000   \n",
       "\n",
       "   releaseVelocity  spinRate  spinDir  locationHoriz  locationVert  \\\n",
       "0             94.2   2044.22  205.477         -0.374         2.933   \n",
       "1             97.1   1966.32  220.143          0.342         3.223   \n",
       "2             96.5   2127.17  198.816          0.389         2.266   \n",
       "3             95.6   1947.11  198.734         -0.004         2.380   \n",
       "4             95.6   1903.08  205.503          0.272         2.421   \n",
       "\n",
       "   movementHoriz  movementVert  \n",
       "0          -6.93          8.28  \n",
       "1          -7.48          7.35  \n",
       "2          -5.22          9.79  \n",
       "3          -7.24          8.40  \n",
       "4          -6.79          9.37  "
      ]
     },
     "execution_count": 9,
     "metadata": {},
     "output_type": "execute_result"
    },
    {
     "data": {
      "application/javascript": [
       "\n",
       "            setTimeout(function() {\n",
       "                var nbb_cell_id = 9;\n",
       "                var nbb_unformatted_code = \"X.head()\";\n",
       "                var nbb_formatted_code = \"X.head()\";\n",
       "                var nbb_cells = Jupyter.notebook.get_cells();\n",
       "                for (var i = 0; i < nbb_cells.length; ++i) {\n",
       "                    if (nbb_cells[i].input_prompt_number == nbb_cell_id) {\n",
       "                        if (nbb_cells[i].get_text() == nbb_unformatted_code) {\n",
       "                             nbb_cells[i].set_text(nbb_formatted_code);\n",
       "                        }\n",
       "                        break;\n",
       "                    }\n",
       "                }\n",
       "            }, 500);\n",
       "            "
      ],
      "text/plain": [
       "<IPython.core.display.Javascript object>"
      ]
     },
     "metadata": {},
     "output_type": "display_data"
    }
   ],
   "source": [
    "X.head()"
   ]
  },
  {
   "cell_type": "code",
   "execution_count": 29,
   "metadata": {},
   "outputs": [
    {
     "data": {
      "text/plain": [
       "FF    28615\n",
       "FT    10277\n",
       "SL     8709\n",
       "CH     8309\n",
       "CU     6027\n",
       "SI     5252\n",
       "FC     3741\n",
       "KC     1624\n",
       "Name: pitchType, dtype: int64"
      ]
     },
     "execution_count": 29,
     "metadata": {},
     "output_type": "execute_result"
    },
    {
     "data": {
      "application/javascript": [
       "\n",
       "            setTimeout(function() {\n",
       "                var nbb_cell_id = 29;\n",
       "                var nbb_unformatted_code = \"y.value_counts()\";\n",
       "                var nbb_formatted_code = \"y.value_counts()\";\n",
       "                var nbb_cells = Jupyter.notebook.get_cells();\n",
       "                for (var i = 0; i < nbb_cells.length; ++i) {\n",
       "                    if (nbb_cells[i].input_prompt_number == nbb_cell_id) {\n",
       "                        if (nbb_cells[i].get_text() == nbb_unformatted_code) {\n",
       "                             nbb_cells[i].set_text(nbb_formatted_code);\n",
       "                        }\n",
       "                        break;\n",
       "                    }\n",
       "                }\n",
       "            }, 500);\n",
       "            "
      ],
      "text/plain": [
       "<IPython.core.display.Javascript object>"
      ]
     },
     "metadata": {},
     "output_type": "display_data"
    }
   ],
   "source": [
    "y.value_counts()"
   ]
  },
  {
   "cell_type": "code",
   "execution_count": 10,
   "metadata": {},
   "outputs": [
    {
     "data": {
      "application/javascript": [
       "\n",
       "            setTimeout(function() {\n",
       "                var nbb_cell_id = 10;\n",
       "                var nbb_unformatted_code = \"X_train, X_test, y_train, y_test = train_test_split(X,y)\";\n",
       "                var nbb_formatted_code = \"X_train, X_test, y_train, y_test = train_test_split(X, y)\";\n",
       "                var nbb_cells = Jupyter.notebook.get_cells();\n",
       "                for (var i = 0; i < nbb_cells.length; ++i) {\n",
       "                    if (nbb_cells[i].input_prompt_number == nbb_cell_id) {\n",
       "                        if (nbb_cells[i].get_text() == nbb_unformatted_code) {\n",
       "                             nbb_cells[i].set_text(nbb_formatted_code);\n",
       "                        }\n",
       "                        break;\n",
       "                    }\n",
       "                }\n",
       "            }, 500);\n",
       "            "
      ],
      "text/plain": [
       "<IPython.core.display.Javascript object>"
      ]
     },
     "metadata": {},
     "output_type": "display_data"
    }
   ],
   "source": [
    "X_train, X_test, y_train, y_test = train_test_split(X, y, test_size=0.2, random_state=34, stratify=y)"
   ]
  },
  {
   "cell_type": "markdown",
   "metadata": {
    "id": "OG5KI6rokMdq"
   },
   "source": [
    "### Reduce the dimensionality of the data using PCA to two components.\n",
    "\n",
    "Don't forget to scale."
   ]
  },
  {
   "cell_type": "code",
   "execution_count": 47,
   "metadata": {
    "id": "0q4zR46ekMdr"
   },
   "outputs": [
    {
     "data": {
      "application/javascript": [
       "\n",
       "            setTimeout(function() {\n",
       "                var nbb_cell_id = 47;\n",
       "                var nbb_unformatted_code = \"scaler = StandardScaler()\\nscaler.fit(X_train)\\n\\nstd_X_train = scaler.transform(X_train)\\nstd_X_test = scaler.transform(X_test)\";\n",
       "                var nbb_formatted_code = \"scaler = StandardScaler()\\nscaler.fit(X_train)\\n\\nstd_X_train = scaler.transform(X_train)\\nstd_X_test = scaler.transform(X_test)\";\n",
       "                var nbb_cells = Jupyter.notebook.get_cells();\n",
       "                for (var i = 0; i < nbb_cells.length; ++i) {\n",
       "                    if (nbb_cells[i].input_prompt_number == nbb_cell_id) {\n",
       "                        if (nbb_cells[i].get_text() == nbb_unformatted_code) {\n",
       "                             nbb_cells[i].set_text(nbb_formatted_code);\n",
       "                        }\n",
       "                        break;\n",
       "                    }\n",
       "                }\n",
       "            }, 500);\n",
       "            "
      ],
      "text/plain": [
       "<IPython.core.display.Javascript object>"
      ]
     },
     "metadata": {},
     "output_type": "display_data"
    }
   ],
   "source": [
    "scaler = StandardScaler()\n",
    "scaler.fit(X_train)\n",
    "\n",
    "std_X_train = scaler.transform(X_train)\n",
    "std_X_test = scaler.transform(X_test)"
   ]
  },
  {
   "cell_type": "code",
   "execution_count": 36,
   "metadata": {},
   "outputs": [
    {
     "data": {
      "application/javascript": [
       "\n",
       "            setTimeout(function() {\n",
       "                var nbb_cell_id = 36;\n",
       "                var nbb_unformatted_code = \"pca = PCA(n_components=2)\\npcs = pca.fit_transform(std_X_train)\";\n",
       "                var nbb_formatted_code = \"pca = PCA(n_components=2)\\npcs = pca.fit_transform(std_X_train)\";\n",
       "                var nbb_cells = Jupyter.notebook.get_cells();\n",
       "                for (var i = 0; i < nbb_cells.length; ++i) {\n",
       "                    if (nbb_cells[i].input_prompt_number == nbb_cell_id) {\n",
       "                        if (nbb_cells[i].get_text() == nbb_unformatted_code) {\n",
       "                             nbb_cells[i].set_text(nbb_formatted_code);\n",
       "                        }\n",
       "                        break;\n",
       "                    }\n",
       "                }\n",
       "            }, 500);\n",
       "            "
      ],
      "text/plain": [
       "<IPython.core.display.Javascript object>"
      ]
     },
     "metadata": {},
     "output_type": "display_data"
    }
   ],
   "source": [
    "pca = PCA(n_components=2)\n",
    "pcs = pca.fit_transform(std_X_train)"
   ]
  },
  {
   "cell_type": "code",
   "execution_count": 43,
   "metadata": {},
   "outputs": [
    {
     "data": {
      "text/plain": [
       "array([ 3.91708312,  0.7930811 , -0.52039556, ..., -1.20187401,\n",
       "       -0.08161474, -0.49962871])"
      ]
     },
     "execution_count": 43,
     "metadata": {},
     "output_type": "execute_result"
    },
    {
     "data": {
      "application/javascript": [
       "\n",
       "            setTimeout(function() {\n",
       "                var nbb_cell_id = 43;\n",
       "                var nbb_unformatted_code = \"pcs[:,0]\";\n",
       "                var nbb_formatted_code = \"pcs[:, 0]\";\n",
       "                var nbb_cells = Jupyter.notebook.get_cells();\n",
       "                for (var i = 0; i < nbb_cells.length; ++i) {\n",
       "                    if (nbb_cells[i].input_prompt_number == nbb_cell_id) {\n",
       "                        if (nbb_cells[i].get_text() == nbb_unformatted_code) {\n",
       "                             nbb_cells[i].set_text(nbb_formatted_code);\n",
       "                        }\n",
       "                        break;\n",
       "                    }\n",
       "                }\n",
       "            }, 500);\n",
       "            "
      ],
      "text/plain": [
       "<IPython.core.display.Javascript object>"
      ]
     },
     "metadata": {},
     "output_type": "display_data"
    }
   ],
   "source": [
    "pcs[:, 0]"
   ]
  },
  {
   "cell_type": "markdown",
   "metadata": {
    "id": "t8robVz0kMdu"
   },
   "source": [
    "### Compute the explained variance for new data set."
   ]
  },
  {
   "cell_type": "code",
   "execution_count": 38,
   "metadata": {
    "id": "vXoOSvKbkMdv"
   },
   "outputs": [
    {
     "data": {
      "text/plain": [
       "0.29911147840719565"
      ]
     },
     "execution_count": 38,
     "metadata": {},
     "output_type": "execute_result"
    },
    {
     "data": {
      "application/javascript": [
       "\n",
       "            setTimeout(function() {\n",
       "                var nbb_cell_id = 38;\n",
       "                var nbb_unformatted_code = \"pca.explained_variance_ratio_.sum()\";\n",
       "                var nbb_formatted_code = \"pca.explained_variance_ratio_.sum()\";\n",
       "                var nbb_cells = Jupyter.notebook.get_cells();\n",
       "                for (var i = 0; i < nbb_cells.length; ++i) {\n",
       "                    if (nbb_cells[i].input_prompt_number == nbb_cell_id) {\n",
       "                        if (nbb_cells[i].get_text() == nbb_unformatted_code) {\n",
       "                             nbb_cells[i].set_text(nbb_formatted_code);\n",
       "                        }\n",
       "                        break;\n",
       "                    }\n",
       "                }\n",
       "            }, 500);\n",
       "            "
      ],
      "text/plain": [
       "<IPython.core.display.Javascript object>"
      ]
     },
     "metadata": {},
     "output_type": "display_data"
    }
   ],
   "source": [
    "pca.explained_variance_ratio_.sum()"
   ]
  },
  {
   "cell_type": "markdown",
   "metadata": {
    "id": "qxawC8DrkMd1"
   },
   "source": [
    "### Generate a scatter plot that visualizes how the component values are distributed."
   ]
  },
  {
   "cell_type": "code",
   "execution_count": 44,
   "metadata": {
    "id": "kEsUKRK3kMd1"
   },
   "outputs": [
    {
     "data": {
      "text/plain": [
       "<matplotlib.axes._subplots.AxesSubplot at 0x1add3a71508>"
      ]
     },
     "execution_count": 44,
     "metadata": {},
     "output_type": "execute_result"
    },
    {
     "data": {
      "image/png": "[encoded data removed]",
      "text/plain": [
       "<Figure size 432x288 with 1 Axes>"
      ]
     },
     "metadata": {
      "needs_background": "light"
     },
     "output_type": "display_data"
    },
    {
     "data": {
      "application/javascript": [
       "\n",
       "            setTimeout(function() {\n",
       "                var nbb_cell_id = 44;\n",
       "                var nbb_unformatted_code = \"sns.scatterplot(pcs[:,0], pcs[:,1])\";\n",
       "                var nbb_formatted_code = \"sns.scatterplot(pcs[:, 0], pcs[:, 1])\";\n",
       "                var nbb_cells = Jupyter.notebook.get_cells();\n",
       "                for (var i = 0; i < nbb_cells.length; ++i) {\n",
       "                    if (nbb_cells[i].input_prompt_number == nbb_cell_id) {\n",
       "                        if (nbb_cells[i].get_text() == nbb_unformatted_code) {\n",
       "                             nbb_cells[i].set_text(nbb_formatted_code);\n",
       "                        }\n",
       "                        break;\n",
       "                    }\n",
       "                }\n",
       "            }, 500);\n",
       "            "
      ],
      "text/plain": [
       "<IPython.core.display.Javascript object>"
      ]
     },
     "metadata": {},
     "output_type": "display_data"
    }
   ],
   "source": [
    "sns.scatterplot(pcs[:, 0], pcs[:, 1])"
   ]
  },
  {
   "cell_type": "markdown",
   "metadata": {
    "id": "tv6PFBWukMd5"
   },
   "source": [
    "### Create a line plot that shows the explained variance by number of components."
   ]
  },
  {
   "cell_type": "code",
   "execution_count": 46,
   "metadata": {
    "id": "mNeShOrJkMd5"
   },
   "outputs": [
    {
     "data": {
      "text/plain": [
       "[<matplotlib.lines.Line2D at 0x1add3ba22c8>]"
      ]
     },
     "execution_count": 46,
     "metadata": {},
     "output_type": "execute_result"
    },
    {
     "data": {
      "image/png": "[encoded data removed]",
      "text/plain": [
       "<Figure size 432x288 with 1 Axes>"
      ]
     },
     "metadata": {
      "needs_background": "light"
     },
     "output_type": "display_data"
    },
    {
     "data": {
      "application/javascript": [
       "\n",
       "            setTimeout(function() {\n",
       "                var nbb_cell_id = 46;\n",
       "                var nbb_unformatted_code = \"cumsum = np.cumsum(pca.explained_variance_ratio_)\\n\\nplt.plot(cumsum)\";\n",
       "                var nbb_formatted_code = \"cumsum = np.cumsum(pca.explained_variance_ratio_)\\n\\nplt.plot(cumsum)\";\n",
       "                var nbb_cells = Jupyter.notebook.get_cells();\n",
       "                for (var i = 0; i < nbb_cells.length; ++i) {\n",
       "                    if (nbb_cells[i].input_prompt_number == nbb_cell_id) {\n",
       "                        if (nbb_cells[i].get_text() == nbb_unformatted_code) {\n",
       "                             nbb_cells[i].set_text(nbb_formatted_code);\n",
       "                        }\n",
       "                        break;\n",
       "                    }\n",
       "                }\n",
       "            }, 500);\n",
       "            "
      ],
      "text/plain": [
       "<IPython.core.display.Javascript object>"
      ]
     },
     "metadata": {},
     "output_type": "display_data"
    }
   ],
   "source": [
    "cumsum = np.cumsum(pca.explained_variance_ratio_)\n",
    "\n",
    "plt.plot(cumsum)"
   ]
  },
  {
   "cell_type": "markdown",
   "metadata": {
    "id": "jvKzrBEBkMd9"
   },
   "source": [
    "### Iteratively train and score a Random Forest Classifier (to predict `pitchType`).\n",
    "\n",
    "* In each iteration:\n",
    "    * Increase the number of principal components (start with `2`)\n",
    "    * Store the number of components and model score"
   ]
  },
  {
   "cell_type": "code",
   "execution_count": 53,
   "metadata": {},
   "outputs": [
    {
     "data": {
      "text/html": [
       "<div>\n",
       "<style scoped>\n",
       "    .dataframe tbody tr th:only-of-type {\n",
       "        vertical-align: middle;\n",
       "    }\n",
       "\n",
       "    .dataframe tbody tr th {\n",
       "        vertical-align: top;\n",
       "    }\n",
       "\n",
       "    .dataframe thead th {\n",
       "        text-align: right;\n",
       "    }\n",
       "</style>\n",
       "<table border=\"1\" class=\"dataframe\">\n",
       "  <thead>\n",
       "    <tr style=\"text-align: right;\">\n",
       "      <th></th>\n",
       "      <th>0</th>\n",
       "      <th>1</th>\n",
       "    </tr>\n",
       "  </thead>\n",
       "  <tbody>\n",
       "    <tr>\n",
       "      <th>0</th>\n",
       "      <td>3.916826</td>\n",
       "      <td>0.444874</td>\n",
       "    </tr>\n",
       "    <tr>\n",
       "      <th>1</th>\n",
       "      <td>0.793100</td>\n",
       "      <td>-1.538132</td>\n",
       "    </tr>\n",
       "    <tr>\n",
       "      <th>2</th>\n",
       "      <td>-0.520334</td>\n",
       "      <td>2.348563</td>\n",
       "    </tr>\n",
       "    <tr>\n",
       "      <th>3</th>\n",
       "      <td>-1.295492</td>\n",
       "      <td>0.763776</td>\n",
       "    </tr>\n",
       "    <tr>\n",
       "      <th>4</th>\n",
       "      <td>-0.554841</td>\n",
       "      <td>-0.484039</td>\n",
       "    </tr>\n",
       "    <tr>\n",
       "      <th>...</th>\n",
       "      <td>...</td>\n",
       "      <td>...</td>\n",
       "    </tr>\n",
       "    <tr>\n",
       "      <th>55288</th>\n",
       "      <td>0.833799</td>\n",
       "      <td>-0.178285</td>\n",
       "    </tr>\n",
       "    <tr>\n",
       "      <th>55289</th>\n",
       "      <td>-0.192765</td>\n",
       "      <td>2.310951</td>\n",
       "    </tr>\n",
       "    <tr>\n",
       "      <th>55290</th>\n",
       "      <td>-1.201815</td>\n",
       "      <td>-1.326649</td>\n",
       "    </tr>\n",
       "    <tr>\n",
       "      <th>55291</th>\n",
       "      <td>-0.081572</td>\n",
       "      <td>0.470380</td>\n",
       "    </tr>\n",
       "    <tr>\n",
       "      <th>55292</th>\n",
       "      <td>-0.499637</td>\n",
       "      <td>-2.581672</td>\n",
       "    </tr>\n",
       "  </tbody>\n",
       "</table>\n",
       "<p>55293 rows × 2 columns</p>\n",
       "</div>"
      ],
      "text/plain": [
       "              0         1\n",
       "0      3.916826  0.444874\n",
       "1      0.793100 -1.538132\n",
       "2     -0.520334  2.348563\n",
       "3     -1.295492  0.763776\n",
       "4     -0.554841 -0.484039\n",
       "...         ...       ...\n",
       "55288  0.833799 -0.178285\n",
       "55289 -0.192765  2.310951\n",
       "55290 -1.201815 -1.326649\n",
       "55291 -0.081572  0.470380\n",
       "55292 -0.499637 -2.581672\n",
       "\n",
       "[55293 rows x 2 columns]"
      ]
     },
     "execution_count": 53,
     "metadata": {},
     "output_type": "execute_result"
    },
    {
     "data": {
      "application/javascript": [
       "\n",
       "            setTimeout(function() {\n",
       "                var nbb_cell_id = 53;\n",
       "                var nbb_unformatted_code = \"pca = PCA(n_components=2)\\npd.DataFrame(pca.fit_transform(std_X_train))\";\n",
       "                var nbb_formatted_code = \"pca = PCA(n_components=2)\\npd.DataFrame(pca.fit_transform(std_X_train))\";\n",
       "                var nbb_cells = Jupyter.notebook.get_cells();\n",
       "                for (var i = 0; i < nbb_cells.length; ++i) {\n",
       "                    if (nbb_cells[i].input_prompt_number == nbb_cell_id) {\n",
       "                        if (nbb_cells[i].get_text() == nbb_unformatted_code) {\n",
       "                             nbb_cells[i].set_text(nbb_formatted_code);\n",
       "                        }\n",
       "                        break;\n",
       "                    }\n",
       "                }\n",
       "            }, 500);\n",
       "            "
      ],
      "text/plain": [
       "<IPython.core.display.Javascript object>"
      ]
     },
     "metadata": {},
     "output_type": "display_data"
    }
   ],
   "source": [
    "pca = PCA(n_components=2)\n",
    "pd.DataFrame(pca.fit_transform(std_X_train))"
   ]
  },
  {
   "cell_type": "code",
   "execution_count": 57,
   "metadata": {
    "scrolled": true
   },
   "outputs": [
    {
     "data": {
      "text/html": [
       "<div>\n",
       "<style scoped>\n",
       "    .dataframe tbody tr th:only-of-type {\n",
       "        vertical-align: middle;\n",
       "    }\n",
       "\n",
       "    .dataframe tbody tr th {\n",
       "        vertical-align: top;\n",
       "    }\n",
       "\n",
       "    .dataframe thead th {\n",
       "        text-align: right;\n",
       "    }\n",
       "</style>\n",
       "<table border=\"1\" class=\"dataframe\">\n",
       "  <thead>\n",
       "    <tr style=\"text-align: right;\">\n",
       "      <th></th>\n",
       "      <th>0</th>\n",
       "      <th>1</th>\n",
       "      <th>2</th>\n",
       "      <th>3</th>\n",
       "      <th>4</th>\n",
       "      <th>5</th>\n",
       "      <th>6</th>\n",
       "      <th>7</th>\n",
       "      <th>8</th>\n",
       "      <th>9</th>\n",
       "      <th>10</th>\n",
       "      <th>11</th>\n",
       "      <th>12</th>\n",
       "    </tr>\n",
       "  </thead>\n",
       "  <tbody>\n",
       "    <tr>\n",
       "      <th>0</th>\n",
       "      <td>3.916817</td>\n",
       "      <td>0.444781</td>\n",
       "      <td>0.081009</td>\n",
       "      <td>0.161501</td>\n",
       "      <td>0.074900</td>\n",
       "      <td>0.086766</td>\n",
       "      <td>-0.117143</td>\n",
       "      <td>-0.162845</td>\n",
       "      <td>-0.031941</td>\n",
       "      <td>-0.127106</td>\n",
       "      <td>0.255286</td>\n",
       "      <td>-1.467962</td>\n",
       "      <td>0.311708</td>\n",
       "    </tr>\n",
       "    <tr>\n",
       "      <th>1</th>\n",
       "      <td>0.793122</td>\n",
       "      <td>-1.537897</td>\n",
       "      <td>-1.041447</td>\n",
       "      <td>-0.599054</td>\n",
       "      <td>-1.745886</td>\n",
       "      <td>-0.927243</td>\n",
       "      <td>-0.730054</td>\n",
       "      <td>0.770784</td>\n",
       "      <td>0.237537</td>\n",
       "      <td>0.397489</td>\n",
       "      <td>0.321990</td>\n",
       "      <td>0.155433</td>\n",
       "      <td>-0.397249</td>\n",
       "    </tr>\n",
       "    <tr>\n",
       "      <th>2</th>\n",
       "      <td>-0.520339</td>\n",
       "      <td>2.348513</td>\n",
       "      <td>2.117172</td>\n",
       "      <td>0.381462</td>\n",
       "      <td>-0.116668</td>\n",
       "      <td>-0.641306</td>\n",
       "      <td>-0.094540</td>\n",
       "      <td>0.082258</td>\n",
       "      <td>-0.239743</td>\n",
       "      <td>-0.830477</td>\n",
       "      <td>0.471860</td>\n",
       "      <td>0.355129</td>\n",
       "      <td>0.027562</td>\n",
       "    </tr>\n",
       "    <tr>\n",
       "      <th>3</th>\n",
       "      <td>-1.295520</td>\n",
       "      <td>0.763473</td>\n",
       "      <td>-1.519323</td>\n",
       "      <td>-0.250344</td>\n",
       "      <td>-0.045254</td>\n",
       "      <td>1.301265</td>\n",
       "      <td>0.155395</td>\n",
       "      <td>0.850548</td>\n",
       "      <td>-0.943800</td>\n",
       "      <td>-1.107974</td>\n",
       "      <td>0.181548</td>\n",
       "      <td>-0.331077</td>\n",
       "      <td>0.513515</td>\n",
       "    </tr>\n",
       "    <tr>\n",
       "      <th>4</th>\n",
       "      <td>-0.554858</td>\n",
       "      <td>-0.484221</td>\n",
       "      <td>2.447152</td>\n",
       "      <td>0.584484</td>\n",
       "      <td>-0.608503</td>\n",
       "      <td>1.667150</td>\n",
       "      <td>-1.123287</td>\n",
       "      <td>-0.861368</td>\n",
       "      <td>0.301977</td>\n",
       "      <td>0.600837</td>\n",
       "      <td>0.421415</td>\n",
       "      <td>0.244421</td>\n",
       "      <td>0.263496</td>\n",
       "    </tr>\n",
       "    <tr>\n",
       "      <th>...</th>\n",
       "      <td>...</td>\n",
       "      <td>...</td>\n",
       "      <td>...</td>\n",
       "      <td>...</td>\n",
       "      <td>...</td>\n",
       "      <td>...</td>\n",
       "      <td>...</td>\n",
       "      <td>...</td>\n",
       "      <td>...</td>\n",
       "      <td>...</td>\n",
       "      <td>...</td>\n",
       "      <td>...</td>\n",
       "      <td>...</td>\n",
       "    </tr>\n",
       "    <tr>\n",
       "      <th>55288</th>\n",
       "      <td>0.833816</td>\n",
       "      <td>-0.178099</td>\n",
       "      <td>0.397113</td>\n",
       "      <td>-0.660202</td>\n",
       "      <td>1.938463</td>\n",
       "      <td>-1.006781</td>\n",
       "      <td>-0.567833</td>\n",
       "      <td>-0.067372</td>\n",
       "      <td>-0.837318</td>\n",
       "      <td>-0.474597</td>\n",
       "      <td>-0.175058</td>\n",
       "      <td>-0.048841</td>\n",
       "      <td>-0.291538</td>\n",
       "    </tr>\n",
       "    <tr>\n",
       "      <th>55289</th>\n",
       "      <td>-0.192714</td>\n",
       "      <td>2.311500</td>\n",
       "      <td>-0.639063</td>\n",
       "      <td>1.860616</td>\n",
       "      <td>0.399463</td>\n",
       "      <td>1.102740</td>\n",
       "      <td>-1.725779</td>\n",
       "      <td>-0.280978</td>\n",
       "      <td>-0.321497</td>\n",
       "      <td>0.122349</td>\n",
       "      <td>-0.373194</td>\n",
       "      <td>-0.508230</td>\n",
       "      <td>-0.810065</td>\n",
       "    </tr>\n",
       "    <tr>\n",
       "      <th>55290</th>\n",
       "      <td>-1.201850</td>\n",
       "      <td>-1.327026</td>\n",
       "      <td>0.060495</td>\n",
       "      <td>1.197607</td>\n",
       "      <td>1.268527</td>\n",
       "      <td>-0.398952</td>\n",
       "      <td>-1.126361</td>\n",
       "      <td>-0.233636</td>\n",
       "      <td>-1.167053</td>\n",
       "      <td>-0.706369</td>\n",
       "      <td>0.914904</td>\n",
       "      <td>0.303043</td>\n",
       "      <td>0.543822</td>\n",
       "    </tr>\n",
       "    <tr>\n",
       "      <th>55291</th>\n",
       "      <td>-0.081587</td>\n",
       "      <td>0.470222</td>\n",
       "      <td>1.964795</td>\n",
       "      <td>-0.686658</td>\n",
       "      <td>2.153193</td>\n",
       "      <td>-0.565171</td>\n",
       "      <td>-0.273773</td>\n",
       "      <td>0.423922</td>\n",
       "      <td>-0.789378</td>\n",
       "      <td>-0.789869</td>\n",
       "      <td>-0.199276</td>\n",
       "      <td>0.210090</td>\n",
       "      <td>0.233140</td>\n",
       "    </tr>\n",
       "    <tr>\n",
       "      <th>55292</th>\n",
       "      <td>-0.499617</td>\n",
       "      <td>-2.581464</td>\n",
       "      <td>-0.700878</td>\n",
       "      <td>-0.253718</td>\n",
       "      <td>1.189381</td>\n",
       "      <td>-1.393019</td>\n",
       "      <td>0.691548</td>\n",
       "      <td>1.692529</td>\n",
       "      <td>-0.468699</td>\n",
       "      <td>2.443325</td>\n",
       "      <td>1.081979</td>\n",
       "      <td>0.037522</td>\n",
       "      <td>-0.362320</td>\n",
       "    </tr>\n",
       "  </tbody>\n",
       "</table>\n",
       "<p>55293 rows × 13 columns</p>\n",
       "</div>"
      ],
      "text/plain": [
       "              0         1         2         3         4         5         6  \\\n",
       "0      3.916817  0.444781  0.081009  0.161501  0.074900  0.086766 -0.117143   \n",
       "1      0.793122 -1.537897 -1.041447 -0.599054 -1.745886 -0.927243 -0.730054   \n",
       "2     -0.520339  2.348513  2.117172  0.381462 -0.116668 -0.641306 -0.094540   \n",
       "3     -1.295520  0.763473 -1.519323 -0.250344 -0.045254  1.301265  0.155395   \n",
       "4     -0.554858 -0.484221  2.447152  0.584484 -0.608503  1.667150 -1.123287   \n",
       "...         ...       ...       ...       ...       ...       ...       ...   \n",
       "55288  0.833816 -0.178099  0.397113 -0.660202  1.938463 -1.006781 -0.567833   \n",
       "55289 -0.192714  2.311500 -0.639063  1.860616  0.399463  1.102740 -1.725779   \n",
       "55290 -1.201850 -1.327026  0.060495  1.197607  1.268527 -0.398952 -1.126361   \n",
       "55291 -0.081587  0.470222  1.964795 -0.686658  2.153193 -0.565171 -0.273773   \n",
       "55292 -0.499617 -2.581464 -0.700878 -0.253718  1.189381 -1.393019  0.691548   \n",
       "\n",
       "              7         8         9        10        11        12  \n",
       "0     -0.162845 -0.031941 -0.127106  0.255286 -1.467962  0.311708  \n",
       "1      0.770784  0.237537  0.397489  0.321990  0.155433 -0.397249  \n",
       "2      0.082258 -0.239743 -0.830477  0.471860  0.355129  0.027562  \n",
       "3      0.850548 -0.943800 -1.107974  0.181548 -0.331077  0.513515  \n",
       "4     -0.861368  0.301977  0.600837  0.421415  0.244421  0.263496  \n",
       "...         ...       ...       ...       ...       ...       ...  \n",
       "55288 -0.067372 -0.837318 -0.474597 -0.175058 -0.048841 -0.291538  \n",
       "55289 -0.280978 -0.321497  0.122349 -0.373194 -0.508230 -0.810065  \n",
       "55290 -0.233636 -1.167053 -0.706369  0.914904  0.303043  0.543822  \n",
       "55291  0.423922 -0.789378 -0.789869 -0.199276  0.210090  0.233140  \n",
       "55292  1.692529 -0.468699  2.443325  1.081979  0.037522 -0.362320  \n",
       "\n",
       "[55293 rows x 13 columns]"
      ]
     },
     "execution_count": 57,
     "metadata": {},
     "output_type": "execute_result"
    },
    {
     "data": {
      "application/javascript": [
       "\n",
       "            setTimeout(function() {\n",
       "                var nbb_cell_id = 57;\n",
       "                var nbb_unformatted_code = \"pca = PCA(n_components=13)\\npd.DataFrame(pca.fit_transform(std_X_train))\";\n",
       "                var nbb_formatted_code = \"pca = PCA(n_components=13)\\npd.DataFrame(pca.fit_transform(std_X_train))\";\n",
       "                var nbb_cells = Jupyter.notebook.get_cells();\n",
       "                for (var i = 0; i < nbb_cells.length; ++i) {\n",
       "                    if (nbb_cells[i].input_prompt_number == nbb_cell_id) {\n",
       "                        if (nbb_cells[i].get_text() == nbb_unformatted_code) {\n",
       "                             nbb_cells[i].set_text(nbb_formatted_code);\n",
       "                        }\n",
       "                        break;\n",
       "                    }\n",
       "                }\n",
       "            }, 500);\n",
       "            "
      ],
      "text/plain": [
       "<IPython.core.display.Javascript object>"
      ]
     },
     "metadata": {},
     "output_type": "display_data"
    }
   ],
   "source": [
    "pca = PCA(n_components=13)\n",
    "pd.DataFrame(pca.fit_transform(std_X_train))"
   ]
  },
  {
   "cell_type": "code",
   "execution_count": 58,
   "metadata": {},
   "outputs": [
    {
     "data": {
      "text/plain": [
       "[<matplotlib.lines.Line2D at 0x1add3d7d888>]"
      ]
     },
     "execution_count": 58,
     "metadata": {},
     "output_type": "execute_result"
    },
    {
     "data": {
      "image/png": "[encoded data removed]",
      "text/plain": [
       "<Figure size 432x288 with 1 Axes>"
      ]
     },
     "metadata": {
      "needs_background": "light"
     },
     "output_type": "display_data"
    },
    {
     "data": {
      "application/javascript": [
       "\n",
       "            setTimeout(function() {\n",
       "                var nbb_cell_id = 58;\n",
       "                var nbb_unformatted_code = \"cumsum = np.cumsum(pca.explained_variance_ratio_)\\n\\nplt.plot(cumsum)\";\n",
       "                var nbb_formatted_code = \"cumsum = np.cumsum(pca.explained_variance_ratio_)\\n\\nplt.plot(cumsum)\";\n",
       "                var nbb_cells = Jupyter.notebook.get_cells();\n",
       "                for (var i = 0; i < nbb_cells.length; ++i) {\n",
       "                    if (nbb_cells[i].input_prompt_number == nbb_cell_id) {\n",
       "                        if (nbb_cells[i].get_text() == nbb_unformatted_code) {\n",
       "                             nbb_cells[i].set_text(nbb_formatted_code);\n",
       "                        }\n",
       "                        break;\n",
       "                    }\n",
       "                }\n",
       "            }, 500);\n",
       "            "
      ],
      "text/plain": [
       "<IPython.core.display.Javascript object>"
      ]
     },
     "metadata": {},
     "output_type": "display_data"
    }
   ],
   "source": [
    "cumsum = np.cumsum(pca.explained_variance_ratio_)\n",
    "\n",
    "plt.plot(cumsum)"
   ]
  },
  {
   "cell_type": "code",
   "execution_count": 59,
   "metadata": {
    "id": "gAjfoq-ckMd-"
   },
   "outputs": [
    {
     "data": {
      "application/javascript": [
       "\n",
       "            setTimeout(function() {\n",
       "                var nbb_cell_id = 59;\n",
       "                var nbb_unformatted_code = \"model = RandomForestClassifier(max_depth=4, random_state=1, n_jobs=-1)\";\n",
       "                var nbb_formatted_code = \"model = RandomForestClassifier(max_depth=4, random_state=1, n_jobs=-1)\";\n",
       "                var nbb_cells = Jupyter.notebook.get_cells();\n",
       "                for (var i = 0; i < nbb_cells.length; ++i) {\n",
       "                    if (nbb_cells[i].input_prompt_number == nbb_cell_id) {\n",
       "                        if (nbb_cells[i].get_text() == nbb_unformatted_code) {\n",
       "                             nbb_cells[i].set_text(nbb_formatted_code);\n",
       "                        }\n",
       "                        break;\n",
       "                    }\n",
       "                }\n",
       "            }, 500);\n",
       "            "
      ],
      "text/plain": [
       "<IPython.core.display.Javascript object>"
      ]
     },
     "metadata": {},
     "output_type": "display_data"
    }
   ],
   "source": [
    "model = RandomForestClassifier(max_depth=4, random_state=1, n_jobs=-1)"
   ]
  },
  {
   "cell_type": "code",
   "execution_count": 61,
   "metadata": {
    "id": "3gyrJuR-kMeB"
   },
   "outputs": [
    {
     "data": {
      "image/png": "[encoded data removed]",
      "text/plain": [
       "<Figure size 432x288 with 1 Axes>"
      ]
     },
     "metadata": {
      "needs_background": "light"
     },
     "output_type": "display_data"
    },
    {
     "data": {
      "application/javascript": [
       "\n",
       "            setTimeout(function() {\n",
       "                var nbb_cell_id = 61;\n",
       "                var nbb_unformatted_code = \"train_scores = []\\ntest_scores = []\\n\\nfor n in range(2, 13):\\n    pca = PCA(n_components=n)\\n    pcs = pca.fit_transform(std_X_train)\\n    pcs_test = pca.transform(std_X_test)\\n    model.fit(pcs, y_train)\\n    train_score = model.score(pcs, y_train)\\n    train_scores.append(train_score)\\n    test_score = model.score(pcs_test, y_test)\\n    test_scores.append(test_score)\\n\\nplt.plot(range(2, 13), train_scores)\\nplt.plot(range(2, 13), test_scores)\\nplt.show()\";\n",
       "                var nbb_formatted_code = \"train_scores = []\\ntest_scores = []\\n\\nfor n in range(2, 13):\\n    pca = PCA(n_components=n)\\n    pcs = pca.fit_transform(std_X_train)\\n    pcs_test = pca.transform(std_X_test)\\n    model.fit(pcs, y_train)\\n    train_score = model.score(pcs, y_train)\\n    train_scores.append(train_score)\\n    test_score = model.score(pcs_test, y_test)\\n    test_scores.append(test_score)\\n\\nplt.plot(range(2, 13), train_scores)\\nplt.plot(range(2, 13), test_scores)\\nplt.show()\";\n",
       "                var nbb_cells = Jupyter.notebook.get_cells();\n",
       "                for (var i = 0; i < nbb_cells.length; ++i) {\n",
       "                    if (nbb_cells[i].input_prompt_number == nbb_cell_id) {\n",
       "                        if (nbb_cells[i].get_text() == nbb_unformatted_code) {\n",
       "                             nbb_cells[i].set_text(nbb_formatted_code);\n",
       "                        }\n",
       "                        break;\n",
       "                    }\n",
       "                }\n",
       "            }, 500);\n",
       "            "
      ],
      "text/plain": [
       "<IPython.core.display.Javascript object>"
      ]
     },
     "metadata": {},
     "output_type": "display_data"
    }
   ],
   "source": [
    "train_scores = []\n",
    "test_scores = []\n",
    "\n",
    "for n in range(2, 13):\n",
    "    pca = PCA(n_components=n)\n",
    "    pcs = pca.fit_transform(std_X_train)\n",
    "    pcs_test = pca.transform(std_X_test)\n",
    "    model.fit(pcs, y_train)\n",
    "    train_score = model.score(pcs, y_train)\n",
    "    train_scores.append(train_score)\n",
    "    test_score = model.score(pcs_test, y_test)\n",
    "    test_scores.append(test_score)\n",
    "\n",
    "plt.plot(range(2, 13), train_scores)\n",
    "plt.plot(range(2, 13), test_scores)\n",
    "plt.show()"
   ]
  },
  {
   "cell_type": "markdown",
   "metadata": {
    "id": "n-wxVTKUkMeD"
   },
   "source": [
    "### Create a line plot that shows the training scores across the different numbers of principal components."
   ]
  },
  {
   "cell_type": "code",
   "execution_count": null,
   "metadata": {
    "id": "k8p_nUackMeE"
   },
   "outputs": [],
   "source": []
  },
  {
   "cell_type": "markdown",
   "metadata": {
    "id": "4gMQsKHmkMeG"
   },
   "source": [
    "### Based on the analysis you conducted, what is the optimal number of principal components?"
   ]
  },
  {
   "cell_type": "code",
   "execution_count": null,
   "metadata": {
    "id": "tmGcmaR3kMeH"
   },
   "outputs": [],
   "source": []
  }
 ],
 "metadata": {
  "colab": {
   "name": "Day 51 Lecture 2 PCA Assignment.ipynb",
   "provenance": []
  },
  "kernelspec": {
   "display_name": "Python 3",
   "language": "python",
   "name": "python3"
  },
  "language_info": {
   "codemirror_mode": {
    "name": "ipython",
    "version": 3
   },
   "file_extension": ".py",
   "mimetype": "text/x-python",
   "name": "python",
   "nbconvert_exporter": "python",
   "pygments_lexer": "ipython3",
   "version": "3.7.6"
  }
 },
 "nbformat": 4,
 "nbformat_minor": 1
}
