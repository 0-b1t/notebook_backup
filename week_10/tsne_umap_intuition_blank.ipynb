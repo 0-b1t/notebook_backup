{
 "cells": [
  {
   "cell_type": "code",
   "execution_count": 1,
   "metadata": {},
   "outputs": [
    {
     "data": {
      "application/javascript": [
       "\n",
       "            setTimeout(function() {\n",
       "                var nbb_cell_id = 1;\n",
       "                var nbb_unformatted_code = \"%reload_ext nb_black\";\n",
       "                var nbb_formatted_code = \"%reload_ext nb_black\";\n",
       "                var nbb_cells = Jupyter.notebook.get_cells();\n",
       "                for (var i = 0; i < nbb_cells.length; ++i) {\n",
       "                    if (nbb_cells[i].input_prompt_number == nbb_cell_id) {\n",
       "                        if (nbb_cells[i].get_text() == nbb_unformatted_code) {\n",
       "                             nbb_cells[i].set_text(nbb_formatted_code);\n",
       "                        }\n",
       "                        break;\n",
       "                    }\n",
       "                }\n",
       "            }, 500);\n",
       "            "
      ],
      "text/plain": [
       "<IPython.core.display.Javascript object>"
      ]
     },
     "metadata": {},
     "output_type": "display_data"
    }
   ],
   "source": [
    "%reload_ext nb_black"
   ]
  },
  {
   "cell_type": "code",
   "execution_count": 2,
   "metadata": {},
   "outputs": [
    {
     "data": {
      "application/javascript": [
       "\n",
       "            setTimeout(function() {\n",
       "                var nbb_cell_id = 2;\n",
       "                var nbb_unformatted_code = \"import pandas as pd\\nimport numpy as np\\n\\nfrom scipy.spatial.distance import pdist, squareform\\n\\nfrom sklearn.datasets import make_blobs\\nfrom sklearn.manifold import TSNE\\nfrom umap import UMAP\\n\\nimport seaborn as sns\\nimport matplotlib.pyplot as plt\\n\\n%matplotlib inline\";\n",
       "                var nbb_formatted_code = \"import pandas as pd\\nimport numpy as np\\n\\nfrom scipy.spatial.distance import pdist, squareform\\n\\nfrom sklearn.datasets import make_blobs\\nfrom sklearn.manifold import TSNE\\nfrom umap import UMAP\\n\\nimport seaborn as sns\\nimport matplotlib.pyplot as plt\\n\\n%matplotlib inline\";\n",
       "                var nbb_cells = Jupyter.notebook.get_cells();\n",
       "                for (var i = 0; i < nbb_cells.length; ++i) {\n",
       "                    if (nbb_cells[i].input_prompt_number == nbb_cell_id) {\n",
       "                        if (nbb_cells[i].get_text() == nbb_unformatted_code) {\n",
       "                             nbb_cells[i].set_text(nbb_formatted_code);\n",
       "                        }\n",
       "                        break;\n",
       "                    }\n",
       "                }\n",
       "            }, 500);\n",
       "            "
      ],
      "text/plain": [
       "<IPython.core.display.Javascript object>"
      ]
     },
     "metadata": {},
     "output_type": "display_data"
    }
   ],
   "source": [
    "import pandas as pd\n",
    "import numpy as np\n",
    "\n",
    "from scipy.spatial.distance import pdist, squareform\n",
    "\n",
    "from sklearn.datasets import make_blobs\n",
    "from sklearn.manifold import TSNE\n",
    "from umap import UMAP\n",
    "\n",
    "import seaborn as sns\n",
    "import matplotlib.pyplot as plt\n",
    "\n",
    "%matplotlib inline"
   ]
  },
  {
   "cell_type": "markdown",
   "metadata": {},
   "source": [
    "Helper functions"
   ]
  },
  {
   "cell_type": "code",
   "execution_count": 3,
   "metadata": {},
   "outputs": [
    {
     "data": {
      "application/javascript": [
       "\n",
       "            setTimeout(function() {\n",
       "                var nbb_cell_id = 3;\n",
       "                var nbb_unformatted_code = \"def min_max_scale(x):\\n    \\\"\\\"\\\"Does same thing as sklearn.preprocessing.MinMaxScaler().fit_transform(x)\\\"\\\"\\\"\\n    return (x - x.min()) / (x.max() - x.min())\\n\\n\\ndef calc_dist_df(X, metric=\\\"euclidean\\\"):\\n    \\\"\\\"\\\"Calc square distance matrix with pdist and convert to a dataframe\\\"\\\"\\\"\\n    dist_mat = squareform(pdist(X, metric=metric))\\n    dist_df = pd.DataFrame(dist_mat, index=X.index, columns=X.index)\\n\\n    return dist_df\\n\\n\\ndef plot_dist_compare(X_hi_d, X_lo_d):\\n    \\\"\\\"\\\"Given 2 input data samples, plot heatmaps of their distance matrices side by side\\\"\\\"\\\"\\n    dist_df_hi_d = calc_dist_df(X_hi_d)\\n    dist_df_lo_d = calc_dist_df(X_lo_d)\\n\\n    fig, axes = plt.subplots(1, 2, figsize=(10, 5))\\n\\n    sns.heatmap(dist_df_hi_d, ax=axes[0], cbar=False)\\n    axes[0].set_title(\\\"High-d\\\")\\n\\n    sns.heatmap(dist_df_lo_d, ax=axes[1], cbar=False)\\n    axes[1].set_title(\\\"Low-d\\\")\\n\\n    plt.suptitle(\\\"Comparing Distances in High Dim vs Low Dim\\\\n(darker means closer)\\\")\\n\\n    plt.tight_layout()\";\n",
       "                var nbb_formatted_code = \"def min_max_scale(x):\\n    \\\"\\\"\\\"Does same thing as sklearn.preprocessing.MinMaxScaler().fit_transform(x)\\\"\\\"\\\"\\n    return (x - x.min()) / (x.max() - x.min())\\n\\n\\ndef calc_dist_df(X, metric=\\\"euclidean\\\"):\\n    \\\"\\\"\\\"Calc square distance matrix with pdist and convert to a dataframe\\\"\\\"\\\"\\n    dist_mat = squareform(pdist(X, metric=metric))\\n    dist_df = pd.DataFrame(dist_mat, index=X.index, columns=X.index)\\n\\n    return dist_df\\n\\n\\ndef plot_dist_compare(X_hi_d, X_lo_d):\\n    \\\"\\\"\\\"Given 2 input data samples, plot heatmaps of their distance matrices side by side\\\"\\\"\\\"\\n    dist_df_hi_d = calc_dist_df(X_hi_d)\\n    dist_df_lo_d = calc_dist_df(X_lo_d)\\n\\n    fig, axes = plt.subplots(1, 2, figsize=(10, 5))\\n\\n    sns.heatmap(dist_df_hi_d, ax=axes[0], cbar=False)\\n    axes[0].set_title(\\\"High-d\\\")\\n\\n    sns.heatmap(dist_df_lo_d, ax=axes[1], cbar=False)\\n    axes[1].set_title(\\\"Low-d\\\")\\n\\n    plt.suptitle(\\\"Comparing Distances in High Dim vs Low Dim\\\\n(darker means closer)\\\")\\n\\n    plt.tight_layout()\";\n",
       "                var nbb_cells = Jupyter.notebook.get_cells();\n",
       "                for (var i = 0; i < nbb_cells.length; ++i) {\n",
       "                    if (nbb_cells[i].input_prompt_number == nbb_cell_id) {\n",
       "                        if (nbb_cells[i].get_text() == nbb_unformatted_code) {\n",
       "                             nbb_cells[i].set_text(nbb_formatted_code);\n",
       "                        }\n",
       "                        break;\n",
       "                    }\n",
       "                }\n",
       "            }, 500);\n",
       "            "
      ],
      "text/plain": [
       "<IPython.core.display.Javascript object>"
      ]
     },
     "metadata": {},
     "output_type": "display_data"
    }
   ],
   "source": [
    "def min_max_scale(x):\n",
    "    \"\"\"Does same thing as sklearn.preprocessing.MinMaxScaler().fit_transform(x)\"\"\"\n",
    "    return (x - x.min()) / (x.max() - x.min())\n",
    "\n",
    "\n",
    "def calc_dist_df(X, metric=\"euclidean\"):\n",
    "    \"\"\"Calc square distance matrix with pdist and convert to a dataframe\"\"\"\n",
    "    dist_mat = squareform(pdist(X, metric=metric))\n",
    "    dist_df = pd.DataFrame(dist_mat, index=X.index, columns=X.index)\n",
    "\n",
    "    return dist_df\n",
    "\n",
    "\n",
    "def plot_dist_compare(X_hi_d, X_lo_d):\n",
    "    \"\"\"Given 2 input data samples, plot heatmaps of their distance matrices side by side\"\"\"\n",
    "    dist_df_hi_d = calc_dist_df(X_hi_d)\n",
    "    dist_df_lo_d = calc_dist_df(X_lo_d)\n",
    "\n",
    "    fig, axes = plt.subplots(1, 2, figsize=(10, 5))\n",
    "\n",
    "    sns.heatmap(dist_df_hi_d, ax=axes[0], cbar=False)\n",
    "    axes[0].set_title(\"High-d\")\n",
    "\n",
    "    sns.heatmap(dist_df_lo_d, ax=axes[1], cbar=False)\n",
    "    axes[1].set_title(\"Low-d\")\n",
    "\n",
    "    plt.suptitle(\"Comparing Distances in High Dim vs Low Dim\\n(darker means closer)\")\n",
    "\n",
    "    plt.tight_layout()"
   ]
  },
  {
   "cell_type": "code",
   "execution_count": 4,
   "metadata": {},
   "outputs": [
    {
     "data": {
      "application/javascript": [
       "\n",
       "            setTimeout(function() {\n",
       "                var nbb_cell_id = 4;\n",
       "                var nbb_unformatted_code = \"def plot_scatter_compare():\\n    fig, axes = plt.subplots(1, 2, figsize=(10, 5))\\n\\n    sns.scatterplot(\\n        \\\"x1\\\", \\\"x2\\\", hue=\\\"color\\\", data=df_small, hue_order=hue_order, ax=axes[0]\\n    )\\n    axes[0].legend().remove()\\n    axes[0].set_title(\\\"Input Data\\\")\\n\\n    sns.scatterplot(\\n        \\\"one_d\\\", \\\"zero\\\", hue=\\\"color\\\", data=df_small, hue_order=hue_order, ax=axes[1]\\n    )\\n    axes[1].legend().remove()\\n    axes[1].set_title(\\\"Reduced Data\\\")\\n    axes[1].set_yticks([])\\n    axes[1].set_ylabel(\\\"\\\")\";\n",
       "                var nbb_formatted_code = \"def plot_scatter_compare():\\n    fig, axes = plt.subplots(1, 2, figsize=(10, 5))\\n\\n    sns.scatterplot(\\n        \\\"x1\\\", \\\"x2\\\", hue=\\\"color\\\", data=df_small, hue_order=hue_order, ax=axes[0]\\n    )\\n    axes[0].legend().remove()\\n    axes[0].set_title(\\\"Input Data\\\")\\n\\n    sns.scatterplot(\\n        \\\"one_d\\\", \\\"zero\\\", hue=\\\"color\\\", data=df_small, hue_order=hue_order, ax=axes[1]\\n    )\\n    axes[1].legend().remove()\\n    axes[1].set_title(\\\"Reduced Data\\\")\\n    axes[1].set_yticks([])\\n    axes[1].set_ylabel(\\\"\\\")\";\n",
       "                var nbb_cells = Jupyter.notebook.get_cells();\n",
       "                for (var i = 0; i < nbb_cells.length; ++i) {\n",
       "                    if (nbb_cells[i].input_prompt_number == nbb_cell_id) {\n",
       "                        if (nbb_cells[i].get_text() == nbb_unformatted_code) {\n",
       "                             nbb_cells[i].set_text(nbb_formatted_code);\n",
       "                        }\n",
       "                        break;\n",
       "                    }\n",
       "                }\n",
       "            }, 500);\n",
       "            "
      ],
      "text/plain": [
       "<IPython.core.display.Javascript object>"
      ]
     },
     "metadata": {},
     "output_type": "display_data"
    }
   ],
   "source": [
    "def plot_scatter_compare():\n",
    "    fig, axes = plt.subplots(1, 2, figsize=(10, 5))\n",
    "\n",
    "    sns.scatterplot(\n",
    "        \"x1\", \"x2\", hue=\"color\", data=df_small, hue_order=hue_order, ax=axes[0]\n",
    "    )\n",
    "    axes[0].legend().remove()\n",
    "    axes[0].set_title(\"Input Data\")\n",
    "\n",
    "    sns.scatterplot(\n",
    "        \"one_d\", \"zero\", hue=\"color\", data=df_small, hue_order=hue_order, ax=axes[1]\n",
    "    )\n",
    "    axes[1].legend().remove()\n",
    "    axes[1].set_title(\"Reduced Data\")\n",
    "    axes[1].set_yticks([])\n",
    "    axes[1].set_ylabel(\"\")"
   ]
  },
  {
   "cell_type": "markdown",
   "metadata": {},
   "source": [
    "Make up some data to play with."
   ]
  },
  {
   "cell_type": "code",
   "execution_count": 5,
   "metadata": {},
   "outputs": [
    {
     "data": {
      "application/javascript": [
       "\n",
       "            setTimeout(function() {\n",
       "                var nbb_cell_id = 5;\n",
       "                var nbb_unformatted_code = \"X, y = make_blobs(n_samples=1000, n_features=2, centers=4, random_state=42)\\n\\n# Full data\\ndf = pd.DataFrame(X, columns=[\\\"x1\\\", \\\"x2\\\"])\\ndf[\\\"label\\\"] = y\\n\\ncolor_map = {0: \\\"blue\\\", 1: \\\"orange\\\", 2: \\\"green\\\", 3: \\\"red\\\"}\\nhue_order = list(color_map.values())\\ndf[\\\"color\\\"] = df[\\\"label\\\"].replace({0: \\\"blue\\\", 1: \\\"orange\\\", 2: \\\"green\\\", 3: \\\"red\\\"})\\ndf[\\\"zero\\\"] = 0\\n\\n# Sample for demo\\ndf_small = df.sample(8, random_state=1337)\\ndf_small = df_small.sort_values(\\\"color\\\")\\ndf_small = df_small.reset_index(drop=True)\\ndf_small.index = df_small[\\\"color\\\"] + \\\"_\\\" + df_small.index.astype(str)\";\n",
       "                var nbb_formatted_code = \"X, y = make_blobs(n_samples=1000, n_features=2, centers=4, random_state=42)\\n\\n# Full data\\ndf = pd.DataFrame(X, columns=[\\\"x1\\\", \\\"x2\\\"])\\ndf[\\\"label\\\"] = y\\n\\ncolor_map = {0: \\\"blue\\\", 1: \\\"orange\\\", 2: \\\"green\\\", 3: \\\"red\\\"}\\nhue_order = list(color_map.values())\\ndf[\\\"color\\\"] = df[\\\"label\\\"].replace({0: \\\"blue\\\", 1: \\\"orange\\\", 2: \\\"green\\\", 3: \\\"red\\\"})\\ndf[\\\"zero\\\"] = 0\\n\\n# Sample for demo\\ndf_small = df.sample(8, random_state=1337)\\ndf_small = df_small.sort_values(\\\"color\\\")\\ndf_small = df_small.reset_index(drop=True)\\ndf_small.index = df_small[\\\"color\\\"] + \\\"_\\\" + df_small.index.astype(str)\";\n",
       "                var nbb_cells = Jupyter.notebook.get_cells();\n",
       "                for (var i = 0; i < nbb_cells.length; ++i) {\n",
       "                    if (nbb_cells[i].input_prompt_number == nbb_cell_id) {\n",
       "                        if (nbb_cells[i].get_text() == nbb_unformatted_code) {\n",
       "                             nbb_cells[i].set_text(nbb_formatted_code);\n",
       "                        }\n",
       "                        break;\n",
       "                    }\n",
       "                }\n",
       "            }, 500);\n",
       "            "
      ],
      "text/plain": [
       "<IPython.core.display.Javascript object>"
      ]
     },
     "metadata": {},
     "output_type": "display_data"
    }
   ],
   "source": [
    "X, y = make_blobs(n_samples=1000, n_features=2, centers=4, random_state=42)\n",
    "\n",
    "# Full data\n",
    "df = pd.DataFrame(X, columns=[\"x1\", \"x2\"])\n",
    "df[\"label\"] = y\n",
    "\n",
    "color_map = {0: \"blue\", 1: \"orange\", 2: \"green\", 3: \"red\"}\n",
    "hue_order = list(color_map.values())\n",
    "df[\"color\"] = df[\"label\"].replace({0: \"blue\", 1: \"orange\", 2: \"green\", 3: \"red\"})\n",
    "df[\"zero\"] = 0\n",
    "\n",
    "# Sample for demo\n",
    "df_small = df.sample(8, random_state=1337)\n",
    "df_small = df_small.sort_values(\"color\")\n",
    "df_small = df_small.reset_index(drop=True)\n",
    "df_small.index = df_small[\"color\"] + \"_\" + df_small.index.astype(str)"
   ]
  },
  {
   "cell_type": "markdown",
   "metadata": {},
   "source": [
    "Full dataset that we'll get to:"
   ]
  },
  {
   "cell_type": "code",
   "execution_count": 6,
   "metadata": {},
   "outputs": [
    {
     "data": {
      "image/png": "[encoded data removed]",
      "text/plain": [
       "<Figure size 432x288 with 1 Axes>"
      ]
     },
     "metadata": {
      "needs_background": "light"
     },
     "output_type": "display_data"
    },
    {
     "data": {
      "application/javascript": [
       "\n",
       "            setTimeout(function() {\n",
       "                var nbb_cell_id = 6;\n",
       "                var nbb_unformatted_code = \"sns.scatterplot(\\\"x1\\\", \\\"x2\\\", hue=\\\"color\\\", data=df, hue_order=hue_order)\\nplt.legend().remove()\\nplt.show()\";\n",
       "                var nbb_formatted_code = \"sns.scatterplot(\\\"x1\\\", \\\"x2\\\", hue=\\\"color\\\", data=df, hue_order=hue_order)\\nplt.legend().remove()\\nplt.show()\";\n",
       "                var nbb_cells = Jupyter.notebook.get_cells();\n",
       "                for (var i = 0; i < nbb_cells.length; ++i) {\n",
       "                    if (nbb_cells[i].input_prompt_number == nbb_cell_id) {\n",
       "                        if (nbb_cells[i].get_text() == nbb_unformatted_code) {\n",
       "                             nbb_cells[i].set_text(nbb_formatted_code);\n",
       "                        }\n",
       "                        break;\n",
       "                    }\n",
       "                }\n",
       "            }, 500);\n",
       "            "
      ],
      "text/plain": [
       "<IPython.core.display.Javascript object>"
      ]
     },
     "metadata": {},
     "output_type": "display_data"
    }
   ],
   "source": [
    "sns.scatterplot(\"x1\", \"x2\", hue=\"color\", data=df, hue_order=hue_order)\n",
    "plt.legend().remove()\n",
    "plt.show()"
   ]
  },
  {
   "cell_type": "markdown",
   "metadata": {},
   "source": [
    "More manageable data size to visualize pairwise distances:"
   ]
  },
  {
   "cell_type": "code",
   "execution_count": 7,
   "metadata": {},
   "outputs": [
    {
     "data": {
      "image/png": "[encoded data removed]",
      "text/plain": [
       "<Figure size 432x288 with 1 Axes>"
      ]
     },
     "metadata": {
      "needs_background": "light"
     },
     "output_type": "display_data"
    },
    {
     "data": {
      "application/javascript": [
       "\n",
       "            setTimeout(function() {\n",
       "                var nbb_cell_id = 7;\n",
       "                var nbb_unformatted_code = \"sns.scatterplot(\\\"x1\\\", \\\"x2\\\", hue=\\\"color\\\", data=df_small, hue_order=hue_order)\\nplt.legend().remove()\\nplt.show()\";\n",
       "                var nbb_formatted_code = \"sns.scatterplot(\\\"x1\\\", \\\"x2\\\", hue=\\\"color\\\", data=df_small, hue_order=hue_order)\\nplt.legend().remove()\\nplt.show()\";\n",
       "                var nbb_cells = Jupyter.notebook.get_cells();\n",
       "                for (var i = 0; i < nbb_cells.length; ++i) {\n",
       "                    if (nbb_cells[i].input_prompt_number == nbb_cell_id) {\n",
       "                        if (nbb_cells[i].get_text() == nbb_unformatted_code) {\n",
       "                             nbb_cells[i].set_text(nbb_formatted_code);\n",
       "                        }\n",
       "                        break;\n",
       "                    }\n",
       "                }\n",
       "            }, 500);\n",
       "            "
      ],
      "text/plain": [
       "<IPython.core.display.Javascript object>"
      ]
     },
     "metadata": {},
     "output_type": "display_data"
    }
   ],
   "source": [
    "sns.scatterplot(\"x1\", \"x2\", hue=\"color\", data=df_small, hue_order=hue_order)\n",
    "plt.legend().remove()\n",
    "plt.show()"
   ]
  },
  {
   "cell_type": "markdown",
   "metadata": {},
   "source": [
    "## t-SNE and UMAP High Level Steps\n",
    "\n",
    "#### Very very high level:\n",
    "\n",
    "1. Make a bad guess of how to place points.\n",
    "2. Compare low-d distances to high-d distances.\n",
    "3. Update guess of how to place points until high & low dim distances are similar.\n",
    "\n",
    "---\n",
    "\n",
    "#### A little more detail:\n",
    "\n",
    "1. Measure the distance/similarity between points in high dimension.\n",
    "2. Make a (bad) guess at the locations of the points in low-d.\n",
    "3. Measure the distance/similarity between points in low-d.\n",
    "4. Compare the distances between high and low dimensions (calculated in 1 and 3).  Use a measure of how good we did (this is called the *loss*).\n",
    "5. Nudge low-d points to make the distances more similar between high and low dimensions.\n",
    "6. Repeat steps 3-5 until it's as good as it's gonna be."
   ]
  },
  {
   "cell_type": "markdown",
   "metadata": {},
   "source": [
    "### 1. Measure the distance/similarity between points in high dimension\n",
    "\n",
    "Calculate the distance between each observation and display the info:\n",
    "* using `.style.background_gradient` with `axis=None`\n",
    "* using `sns.heatmap`"
   ]
  },
  {
   "cell_type": "code",
   "execution_count": 8,
   "metadata": {},
   "outputs": [
    {
     "data": {
      "text/html": [
       "<style  type=\"text/css\" >\n",
       "#T_0c3cfcc0_08c3_11eb_a105_7085c2a9ca7arow0_col0,#T_0c3cfcc0_08c3_11eb_a105_7085c2a9ca7arow1_col1,#T_0c3cfcc0_08c3_11eb_a105_7085c2a9ca7arow2_col2,#T_0c3cfcc0_08c3_11eb_a105_7085c2a9ca7arow3_col3,#T_0c3cfcc0_08c3_11eb_a105_7085c2a9ca7arow4_col4,#T_0c3cfcc0_08c3_11eb_a105_7085c2a9ca7arow5_col5,#T_0c3cfcc0_08c3_11eb_a105_7085c2a9ca7arow6_col6,#T_0c3cfcc0_08c3_11eb_a105_7085c2a9ca7arow7_col7{\n",
       "            background-color:  #fff7fb;\n",
       "            color:  #000000;\n",
       "        }#T_0c3cfcc0_08c3_11eb_a105_7085c2a9ca7arow0_col1,#T_0c3cfcc0_08c3_11eb_a105_7085c2a9ca7arow1_col0{\n",
       "            background-color:  #f5eff6;\n",
       "            color:  #000000;\n",
       "        }#T_0c3cfcc0_08c3_11eb_a105_7085c2a9ca7arow0_col2,#T_0c3cfcc0_08c3_11eb_a105_7085c2a9ca7arow2_col0{\n",
       "            background-color:  #034369;\n",
       "            color:  #f1f1f1;\n",
       "        }#T_0c3cfcc0_08c3_11eb_a105_7085c2a9ca7arow0_col3,#T_0c3cfcc0_08c3_11eb_a105_7085c2a9ca7arow0_col4,#T_0c3cfcc0_08c3_11eb_a105_7085c2a9ca7arow3_col0,#T_0c3cfcc0_08c3_11eb_a105_7085c2a9ca7arow4_col0{\n",
       "            background-color:  #023858;\n",
       "            color:  #f1f1f1;\n",
       "        }#T_0c3cfcc0_08c3_11eb_a105_7085c2a9ca7arow0_col5,#T_0c3cfcc0_08c3_11eb_a105_7085c2a9ca7arow5_col0{\n",
       "            background-color:  #1c7fb8;\n",
       "            color:  #000000;\n",
       "        }#T_0c3cfcc0_08c3_11eb_a105_7085c2a9ca7arow0_col6,#T_0c3cfcc0_08c3_11eb_a105_7085c2a9ca7arow6_col0{\n",
       "            background-color:  #1e80b8;\n",
       "            color:  #000000;\n",
       "        }#T_0c3cfcc0_08c3_11eb_a105_7085c2a9ca7arow0_col7,#T_0c3cfcc0_08c3_11eb_a105_7085c2a9ca7arow7_col0{\n",
       "            background-color:  #9ebad9;\n",
       "            color:  #000000;\n",
       "        }#T_0c3cfcc0_08c3_11eb_a105_7085c2a9ca7arow1_col2,#T_0c3cfcc0_08c3_11eb_a105_7085c2a9ca7arow2_col1,#T_0c3cfcc0_08c3_11eb_a105_7085c2a9ca7arow6_col7,#T_0c3cfcc0_08c3_11eb_a105_7085c2a9ca7arow7_col6{\n",
       "            background-color:  #034f7d;\n",
       "            color:  #f1f1f1;\n",
       "        }#T_0c3cfcc0_08c3_11eb_a105_7085c2a9ca7arow1_col3,#T_0c3cfcc0_08c3_11eb_a105_7085c2a9ca7arow1_col4,#T_0c3cfcc0_08c3_11eb_a105_7085c2a9ca7arow3_col1,#T_0c3cfcc0_08c3_11eb_a105_7085c2a9ca7arow4_col1{\n",
       "            background-color:  #03456c;\n",
       "            color:  #f1f1f1;\n",
       "        }#T_0c3cfcc0_08c3_11eb_a105_7085c2a9ca7arow1_col5,#T_0c3cfcc0_08c3_11eb_a105_7085c2a9ca7arow1_col6,#T_0c3cfcc0_08c3_11eb_a105_7085c2a9ca7arow5_col1,#T_0c3cfcc0_08c3_11eb_a105_7085c2a9ca7arow6_col1{\n",
       "            background-color:  #3790c0;\n",
       "            color:  #000000;\n",
       "        }#T_0c3cfcc0_08c3_11eb_a105_7085c2a9ca7arow1_col7,#T_0c3cfcc0_08c3_11eb_a105_7085c2a9ca7arow7_col1{\n",
       "            background-color:  #97b7d7;\n",
       "            color:  #000000;\n",
       "        }#T_0c3cfcc0_08c3_11eb_a105_7085c2a9ca7arow2_col3,#T_0c3cfcc0_08c3_11eb_a105_7085c2a9ca7arow3_col2{\n",
       "            background-color:  #f5eef6;\n",
       "            color:  #000000;\n",
       "        }#T_0c3cfcc0_08c3_11eb_a105_7085c2a9ca7arow2_col4,#T_0c3cfcc0_08c3_11eb_a105_7085c2a9ca7arow4_col2{\n",
       "            background-color:  #f9f2f8;\n",
       "            color:  #000000;\n",
       "        }#T_0c3cfcc0_08c3_11eb_a105_7085c2a9ca7arow2_col5,#T_0c3cfcc0_08c3_11eb_a105_7085c2a9ca7arow5_col2{\n",
       "            background-color:  #056dac;\n",
       "            color:  #f1f1f1;\n",
       "        }#T_0c3cfcc0_08c3_11eb_a105_7085c2a9ca7arow2_col6,#T_0c3cfcc0_08c3_11eb_a105_7085c2a9ca7arow6_col2{\n",
       "            background-color:  #056aa6;\n",
       "            color:  #f1f1f1;\n",
       "        }#T_0c3cfcc0_08c3_11eb_a105_7085c2a9ca7arow2_col7,#T_0c3cfcc0_08c3_11eb_a105_7085c2a9ca7arow7_col2{\n",
       "            background-color:  #04639b;\n",
       "            color:  #f1f1f1;\n",
       "        }#T_0c3cfcc0_08c3_11eb_a105_7085c2a9ca7arow3_col4,#T_0c3cfcc0_08c3_11eb_a105_7085c2a9ca7arow4_col3{\n",
       "            background-color:  #f7f0f7;\n",
       "            color:  #000000;\n",
       "        }#T_0c3cfcc0_08c3_11eb_a105_7085c2a9ca7arow3_col5,#T_0c3cfcc0_08c3_11eb_a105_7085c2a9ca7arow5_col3{\n",
       "            background-color:  #046299;\n",
       "            color:  #f1f1f1;\n",
       "        }#T_0c3cfcc0_08c3_11eb_a105_7085c2a9ca7arow3_col6,#T_0c3cfcc0_08c3_11eb_a105_7085c2a9ca7arow6_col3{\n",
       "            background-color:  #045e94;\n",
       "            color:  #f1f1f1;\n",
       "        }#T_0c3cfcc0_08c3_11eb_a105_7085c2a9ca7arow3_col7,#T_0c3cfcc0_08c3_11eb_a105_7085c2a9ca7arow7_col3{\n",
       "            background-color:  #046198;\n",
       "            color:  #f1f1f1;\n",
       "        }#T_0c3cfcc0_08c3_11eb_a105_7085c2a9ca7arow4_col5,#T_0c3cfcc0_08c3_11eb_a105_7085c2a9ca7arow5_col4{\n",
       "            background-color:  #0568a3;\n",
       "            color:  #f1f1f1;\n",
       "        }#T_0c3cfcc0_08c3_11eb_a105_7085c2a9ca7arow4_col6,#T_0c3cfcc0_08c3_11eb_a105_7085c2a9ca7arow6_col4{\n",
       "            background-color:  #04649e;\n",
       "            color:  #f1f1f1;\n",
       "        }#T_0c3cfcc0_08c3_11eb_a105_7085c2a9ca7arow4_col7,#T_0c3cfcc0_08c3_11eb_a105_7085c2a9ca7arow7_col4{\n",
       "            background-color:  #045d92;\n",
       "            color:  #f1f1f1;\n",
       "        }#T_0c3cfcc0_08c3_11eb_a105_7085c2a9ca7arow5_col6,#T_0c3cfcc0_08c3_11eb_a105_7085c2a9ca7arow6_col5{\n",
       "            background-color:  #fdf5fa;\n",
       "            color:  #000000;\n",
       "        }#T_0c3cfcc0_08c3_11eb_a105_7085c2a9ca7arow5_col7,#T_0c3cfcc0_08c3_11eb_a105_7085c2a9ca7arow7_col5{\n",
       "            background-color:  #03517e;\n",
       "            color:  #f1f1f1;\n",
       "        }</style><table id=\"T_0c3cfcc0_08c3_11eb_a105_7085c2a9ca7a\" ><thead>    <tr>        <th class=\"blank level0\" ></th>        <th class=\"col_heading level0 col0\" >blue_0</th>        <th class=\"col_heading level0 col1\" >blue_1</th>        <th class=\"col_heading level0 col2\" >green_2</th>        <th class=\"col_heading level0 col3\" >green_3</th>        <th class=\"col_heading level0 col4\" >green_4</th>        <th class=\"col_heading level0 col5\" >orange_5</th>        <th class=\"col_heading level0 col6\" >orange_6</th>        <th class=\"col_heading level0 col7\" >red_7</th>    </tr></thead><tbody>\n",
       "                <tr>\n",
       "                        <th id=\"T_0c3cfcc0_08c3_11eb_a105_7085c2a9ca7alevel0_row0\" class=\"row_heading level0 row0\" >blue_0</th>\n",
       "                        <td id=\"T_0c3cfcc0_08c3_11eb_a105_7085c2a9ca7arow0_col0\" class=\"data row0 col0\" >0.000000</td>\n",
       "                        <td id=\"T_0c3cfcc0_08c3_11eb_a105_7085c2a9ca7arow0_col1\" class=\"data row0 col1\" >1.113998</td>\n",
       "                        <td id=\"T_0c3cfcc0_08c3_11eb_a105_7085c2a9ca7arow0_col2\" class=\"data row0 col2\" >16.360960</td>\n",
       "                        <td id=\"T_0c3cfcc0_08c3_11eb_a105_7085c2a9ca7arow0_col3\" class=\"data row0 col3\" >17.001226</td>\n",
       "                        <td id=\"T_0c3cfcc0_08c3_11eb_a105_7085c2a9ca7arow0_col4\" class=\"data row0 col4\" >17.053449</td>\n",
       "                        <td id=\"T_0c3cfcc0_08c3_11eb_a105_7085c2a9ca7arow0_col5\" class=\"data row0 col5\" >11.742061</td>\n",
       "                        <td id=\"T_0c3cfcc0_08c3_11eb_a105_7085c2a9ca7arow0_col6\" class=\"data row0 col6\" >11.694310</td>\n",
       "                        <td id=\"T_0c3cfcc0_08c3_11eb_a105_7085c2a9ca7arow0_col7\" class=\"data row0 col7\" >6.785447</td>\n",
       "            </tr>\n",
       "            <tr>\n",
       "                        <th id=\"T_0c3cfcc0_08c3_11eb_a105_7085c2a9ca7alevel0_row1\" class=\"row_heading level0 row1\" >blue_1</th>\n",
       "                        <td id=\"T_0c3cfcc0_08c3_11eb_a105_7085c2a9ca7arow1_col0\" class=\"data row1 col0\" >1.113998</td>\n",
       "                        <td id=\"T_0c3cfcc0_08c3_11eb_a105_7085c2a9ca7arow1_col1\" class=\"data row1 col1\" >0.000000</td>\n",
       "                        <td id=\"T_0c3cfcc0_08c3_11eb_a105_7085c2a9ca7arow1_col2\" class=\"data row1 col2\" >15.522499</td>\n",
       "                        <td id=\"T_0c3cfcc0_08c3_11eb_a105_7085c2a9ca7arow1_col3\" class=\"data row1 col3\" >16.207532</td>\n",
       "                        <td id=\"T_0c3cfcc0_08c3_11eb_a105_7085c2a9ca7arow1_col4\" class=\"data row1 col4\" >16.217620</td>\n",
       "                        <td id=\"T_0c3cfcc0_08c3_11eb_a105_7085c2a9ca7arow1_col5\" class=\"data row1 col5\" >10.655749</td>\n",
       "                        <td id=\"T_0c3cfcc0_08c3_11eb_a105_7085c2a9ca7arow1_col6\" class=\"data row1 col6\" >10.615712</td>\n",
       "                        <td id=\"T_0c3cfcc0_08c3_11eb_a105_7085c2a9ca7arow1_col7\" class=\"data row1 col7\" >7.027258</td>\n",
       "            </tr>\n",
       "            <tr>\n",
       "                        <th id=\"T_0c3cfcc0_08c3_11eb_a105_7085c2a9ca7alevel0_row2\" class=\"row_heading level0 row2\" >green_2</th>\n",
       "                        <td id=\"T_0c3cfcc0_08c3_11eb_a105_7085c2a9ca7arow2_col0\" class=\"data row2 col0\" >16.360960</td>\n",
       "                        <td id=\"T_0c3cfcc0_08c3_11eb_a105_7085c2a9ca7arow2_col1\" class=\"data row2 col1\" >15.522499</td>\n",
       "                        <td id=\"T_0c3cfcc0_08c3_11eb_a105_7085c2a9ca7arow2_col2\" class=\"data row2 col2\" >0.000000</td>\n",
       "                        <td id=\"T_0c3cfcc0_08c3_11eb_a105_7085c2a9ca7arow2_col3\" class=\"data row2 col3\" >1.167161</td>\n",
       "                        <td id=\"T_0c3cfcc0_08c3_11eb_a105_7085c2a9ca7arow2_col4\" class=\"data row2 col4\" >0.696427</td>\n",
       "                        <td id=\"T_0c3cfcc0_08c3_11eb_a105_7085c2a9ca7arow2_col5\" class=\"data row2 col5\" >13.012633</td>\n",
       "                        <td id=\"T_0c3cfcc0_08c3_11eb_a105_7085c2a9ca7arow2_col6\" class=\"data row2 col6\" >13.329981</td>\n",
       "                        <td id=\"T_0c3cfcc0_08c3_11eb_a105_7085c2a9ca7arow2_col7\" class=\"data row2 col7\" >14.014447</td>\n",
       "            </tr>\n",
       "            <tr>\n",
       "                        <th id=\"T_0c3cfcc0_08c3_11eb_a105_7085c2a9ca7alevel0_row3\" class=\"row_heading level0 row3\" >green_3</th>\n",
       "                        <td id=\"T_0c3cfcc0_08c3_11eb_a105_7085c2a9ca7arow3_col0\" class=\"data row3 col0\" >17.001226</td>\n",
       "                        <td id=\"T_0c3cfcc0_08c3_11eb_a105_7085c2a9ca7arow3_col1\" class=\"data row3 col1\" >16.207532</td>\n",
       "                        <td id=\"T_0c3cfcc0_08c3_11eb_a105_7085c2a9ca7arow3_col2\" class=\"data row3 col2\" >1.167161</td>\n",
       "                        <td id=\"T_0c3cfcc0_08c3_11eb_a105_7085c2a9ca7arow3_col3\" class=\"data row3 col3\" >0.000000</td>\n",
       "                        <td id=\"T_0c3cfcc0_08c3_11eb_a105_7085c2a9ca7arow3_col4\" class=\"data row3 col4\" >0.922419</td>\n",
       "                        <td id=\"T_0c3cfcc0_08c3_11eb_a105_7085c2a9ca7arow3_col5\" class=\"data row3 col5\" >14.152088</td>\n",
       "                        <td id=\"T_0c3cfcc0_08c3_11eb_a105_7085c2a9ca7arow3_col6\" class=\"data row3 col6\" >14.467642</td>\n",
       "                        <td id=\"T_0c3cfcc0_08c3_11eb_a105_7085c2a9ca7arow3_col7\" class=\"data row3 col7\" >14.210074</td>\n",
       "            </tr>\n",
       "            <tr>\n",
       "                        <th id=\"T_0c3cfcc0_08c3_11eb_a105_7085c2a9ca7alevel0_row4\" class=\"row_heading level0 row4\" >green_4</th>\n",
       "                        <td id=\"T_0c3cfcc0_08c3_11eb_a105_7085c2a9ca7arow4_col0\" class=\"data row4 col0\" >17.053449</td>\n",
       "                        <td id=\"T_0c3cfcc0_08c3_11eb_a105_7085c2a9ca7arow4_col1\" class=\"data row4 col1\" >16.217620</td>\n",
       "                        <td id=\"T_0c3cfcc0_08c3_11eb_a105_7085c2a9ca7arow4_col2\" class=\"data row4 col2\" >0.696427</td>\n",
       "                        <td id=\"T_0c3cfcc0_08c3_11eb_a105_7085c2a9ca7arow4_col3\" class=\"data row4 col3\" >0.922419</td>\n",
       "                        <td id=\"T_0c3cfcc0_08c3_11eb_a105_7085c2a9ca7arow4_col4\" class=\"data row4 col4\" >0.000000</td>\n",
       "                        <td id=\"T_0c3cfcc0_08c3_11eb_a105_7085c2a9ca7arow4_col5\" class=\"data row4 col5\" >13.559875</td>\n",
       "                        <td id=\"T_0c3cfcc0_08c3_11eb_a105_7085c2a9ca7arow4_col6\" class=\"data row4 col6\" >13.880029</td>\n",
       "                        <td id=\"T_0c3cfcc0_08c3_11eb_a105_7085c2a9ca7arow4_col7\" class=\"data row4 col7\" >14.618802</td>\n",
       "            </tr>\n",
       "            <tr>\n",
       "                        <th id=\"T_0c3cfcc0_08c3_11eb_a105_7085c2a9ca7alevel0_row5\" class=\"row_heading level0 row5\" >orange_5</th>\n",
       "                        <td id=\"T_0c3cfcc0_08c3_11eb_a105_7085c2a9ca7arow5_col0\" class=\"data row5 col0\" >11.742061</td>\n",
       "                        <td id=\"T_0c3cfcc0_08c3_11eb_a105_7085c2a9ca7arow5_col1\" class=\"data row5 col1\" >10.655749</td>\n",
       "                        <td id=\"T_0c3cfcc0_08c3_11eb_a105_7085c2a9ca7arow5_col2\" class=\"data row5 col2\" >13.012633</td>\n",
       "                        <td id=\"T_0c3cfcc0_08c3_11eb_a105_7085c2a9ca7arow5_col3\" class=\"data row5 col3\" >14.152088</td>\n",
       "                        <td id=\"T_0c3cfcc0_08c3_11eb_a105_7085c2a9ca7arow5_col4\" class=\"data row5 col4\" >13.559875</td>\n",
       "                        <td id=\"T_0c3cfcc0_08c3_11eb_a105_7085c2a9ca7arow5_col5\" class=\"data row5 col5\" >0.000000</td>\n",
       "                        <td id=\"T_0c3cfcc0_08c3_11eb_a105_7085c2a9ca7arow5_col6\" class=\"data row5 col6\" >0.330688</td>\n",
       "                        <td id=\"T_0c3cfcc0_08c3_11eb_a105_7085c2a9ca7arow5_col7\" class=\"data row5 col7\" >15.454759</td>\n",
       "            </tr>\n",
       "            <tr>\n",
       "                        <th id=\"T_0c3cfcc0_08c3_11eb_a105_7085c2a9ca7alevel0_row6\" class=\"row_heading level0 row6\" >orange_6</th>\n",
       "                        <td id=\"T_0c3cfcc0_08c3_11eb_a105_7085c2a9ca7arow6_col0\" class=\"data row6 col0\" >11.694310</td>\n",
       "                        <td id=\"T_0c3cfcc0_08c3_11eb_a105_7085c2a9ca7arow6_col1\" class=\"data row6 col1\" >10.615712</td>\n",
       "                        <td id=\"T_0c3cfcc0_08c3_11eb_a105_7085c2a9ca7arow6_col2\" class=\"data row6 col2\" >13.329981</td>\n",
       "                        <td id=\"T_0c3cfcc0_08c3_11eb_a105_7085c2a9ca7arow6_col3\" class=\"data row6 col3\" >14.467642</td>\n",
       "                        <td id=\"T_0c3cfcc0_08c3_11eb_a105_7085c2a9ca7arow6_col4\" class=\"data row6 col4\" >13.880029</td>\n",
       "                        <td id=\"T_0c3cfcc0_08c3_11eb_a105_7085c2a9ca7arow6_col5\" class=\"data row6 col5\" >0.330688</td>\n",
       "                        <td id=\"T_0c3cfcc0_08c3_11eb_a105_7085c2a9ca7arow6_col6\" class=\"data row6 col6\" >0.000000</td>\n",
       "                        <td id=\"T_0c3cfcc0_08c3_11eb_a105_7085c2a9ca7arow6_col7\" class=\"data row6 col7\" >15.544947</td>\n",
       "            </tr>\n",
       "            <tr>\n",
       "                        <th id=\"T_0c3cfcc0_08c3_11eb_a105_7085c2a9ca7alevel0_row7\" class=\"row_heading level0 row7\" >red_7</th>\n",
       "                        <td id=\"T_0c3cfcc0_08c3_11eb_a105_7085c2a9ca7arow7_col0\" class=\"data row7 col0\" >6.785447</td>\n",
       "                        <td id=\"T_0c3cfcc0_08c3_11eb_a105_7085c2a9ca7arow7_col1\" class=\"data row7 col1\" >7.027258</td>\n",
       "                        <td id=\"T_0c3cfcc0_08c3_11eb_a105_7085c2a9ca7arow7_col2\" class=\"data row7 col2\" >14.014447</td>\n",
       "                        <td id=\"T_0c3cfcc0_08c3_11eb_a105_7085c2a9ca7arow7_col3\" class=\"data row7 col3\" >14.210074</td>\n",
       "                        <td id=\"T_0c3cfcc0_08c3_11eb_a105_7085c2a9ca7arow7_col4\" class=\"data row7 col4\" >14.618802</td>\n",
       "                        <td id=\"T_0c3cfcc0_08c3_11eb_a105_7085c2a9ca7arow7_col5\" class=\"data row7 col5\" >15.454759</td>\n",
       "                        <td id=\"T_0c3cfcc0_08c3_11eb_a105_7085c2a9ca7arow7_col6\" class=\"data row7 col6\" >15.544947</td>\n",
       "                        <td id=\"T_0c3cfcc0_08c3_11eb_a105_7085c2a9ca7arow7_col7\" class=\"data row7 col7\" >0.000000</td>\n",
       "            </tr>\n",
       "    </tbody></table>"
      ],
      "text/plain": [
       "<pandas.io.formats.style.Styler at 0x1ae3dd53808>"
      ]
     },
     "execution_count": 8,
     "metadata": {},
     "output_type": "execute_result"
    },
    {
     "data": {
      "application/javascript": [
       "\n",
       "            setTimeout(function() {\n",
       "                var nbb_cell_id = 8;\n",
       "                var nbb_unformatted_code = \"X = df_small[[\\\"x1\\\", \\\"x2\\\"]]\\ndist_mat = squareform(pdist(X))\\ndist_df_2d = pd.DataFrame(dist_mat, columns=X.index, index=X.index)\\ndist_df_2d.style.background_gradient(axis=None)\";\n",
       "                var nbb_formatted_code = \"X = df_small[[\\\"x1\\\", \\\"x2\\\"]]\\ndist_mat = squareform(pdist(X))\\ndist_df_2d = pd.DataFrame(dist_mat, columns=X.index, index=X.index)\\ndist_df_2d.style.background_gradient(axis=None)\";\n",
       "                var nbb_cells = Jupyter.notebook.get_cells();\n",
       "                for (var i = 0; i < nbb_cells.length; ++i) {\n",
       "                    if (nbb_cells[i].input_prompt_number == nbb_cell_id) {\n",
       "                        if (nbb_cells[i].get_text() == nbb_unformatted_code) {\n",
       "                             nbb_cells[i].set_text(nbb_formatted_code);\n",
       "                        }\n",
       "                        break;\n",
       "                    }\n",
       "                }\n",
       "            }, 500);\n",
       "            "
      ],
      "text/plain": [
       "<IPython.core.display.Javascript object>"
      ]
     },
     "metadata": {},
     "output_type": "display_data"
    }
   ],
   "source": [
    "X = df_small[[\"x1\", \"x2\"]]\n",
    "dist_mat = squareform(pdist(X))\n",
    "dist_df_2d = pd.DataFrame(dist_mat, columns=X.index, index=X.index)\n",
    "dist_df_2d.style.background_gradient(axis=None)"
   ]
  },
  {
   "cell_type": "code",
   "execution_count": 9,
   "metadata": {},
   "outputs": [
    {
     "data": {
      "text/plain": [
       "<matplotlib.axes._subplots.AxesSubplot at 0x1ae3f67ed08>"
      ]
     },
     "execution_count": 9,
     "metadata": {},
     "output_type": "execute_result"
    },
    {
     "data": {
      "image/png": "[encoded data removed]",
      "text/plain": [
       "<Figure size 432x288 with 2 Axes>"
      ]
     },
     "metadata": {
      "needs_background": "light"
     },
     "output_type": "display_data"
    },
    {
     "data": {
      "application/javascript": [
       "\n",
       "            setTimeout(function() {\n",
       "                var nbb_cell_id = 9;\n",
       "                var nbb_unformatted_code = \"sns.heatmap(dist_df_2d)\";\n",
       "                var nbb_formatted_code = \"sns.heatmap(dist_df_2d)\";\n",
       "                var nbb_cells = Jupyter.notebook.get_cells();\n",
       "                for (var i = 0; i < nbb_cells.length; ++i) {\n",
       "                    if (nbb_cells[i].input_prompt_number == nbb_cell_id) {\n",
       "                        if (nbb_cells[i].get_text() == nbb_unformatted_code) {\n",
       "                             nbb_cells[i].set_text(nbb_formatted_code);\n",
       "                        }\n",
       "                        break;\n",
       "                    }\n",
       "                }\n",
       "            }, 500);\n",
       "            "
      ],
      "text/plain": [
       "<IPython.core.display.Javascript object>"
      ]
     },
     "metadata": {},
     "output_type": "display_data"
    }
   ],
   "source": [
    "sns.heatmap(dist_df_2d)"
   ]
  },
  {
   "cell_type": "markdown",
   "metadata": {},
   "source": [
    "### 2. Make a (bad) guess at the locations of the points in low-d\n",
    "\n",
    "Here, we'll just randomly place the points in 1d space."
   ]
  },
  {
   "cell_type": "code",
   "execution_count": 10,
   "metadata": {},
   "outputs": [
    {
     "data": {
      "image/png": "[encoded data removed]",
      "text/plain": [
       "<Figure size 720x360 with 2 Axes>"
      ]
     },
     "metadata": {
      "needs_background": "light"
     },
     "output_type": "display_data"
    },
    {
     "data": {
      "application/javascript": [
       "\n",
       "            setTimeout(function() {\n",
       "                var nbb_cell_id = 10;\n",
       "                var nbb_unformatted_code = \"np.random.seed(42)\\n\\ndf_small[\\\"one_d\\\"] = np.random.normal(size=df_small.shape[0])\\n\\nplot_scatter_compare()\\nplt.show()\";\n",
       "                var nbb_formatted_code = \"np.random.seed(42)\\n\\ndf_small[\\\"one_d\\\"] = np.random.normal(size=df_small.shape[0])\\n\\nplot_scatter_compare()\\nplt.show()\";\n",
       "                var nbb_cells = Jupyter.notebook.get_cells();\n",
       "                for (var i = 0; i < nbb_cells.length; ++i) {\n",
       "                    if (nbb_cells[i].input_prompt_number == nbb_cell_id) {\n",
       "                        if (nbb_cells[i].get_text() == nbb_unformatted_code) {\n",
       "                             nbb_cells[i].set_text(nbb_formatted_code);\n",
       "                        }\n",
       "                        break;\n",
       "                    }\n",
       "                }\n",
       "            }, 500);\n",
       "            "
      ],
      "text/plain": [
       "<IPython.core.display.Javascript object>"
      ]
     },
     "metadata": {},
     "output_type": "display_data"
    }
   ],
   "source": [
    "np.random.seed(42)\n",
    "\n",
    "df_small[\"one_d\"] = np.random.normal(size=df_small.shape[0])\n",
    "\n",
    "plot_scatter_compare()\n",
    "plt.show()"
   ]
  },
  {
   "cell_type": "markdown",
   "metadata": {},
   "source": [
    "### 3. Measure the distance/similarity between points in low-d.\n",
    "\n",
    "Repeating distance calc from before."
   ]
  },
  {
   "cell_type": "code",
   "execution_count": 11,
   "metadata": {},
   "outputs": [
    {
     "data": {
      "text/html": [
       "<style  type=\"text/css\" >\n",
       "#T_0c8a5066_08c3_11eb_98d5_7085c2a9ca7arow0_col0,#T_0c8a5066_08c3_11eb_98d5_7085c2a9ca7arow1_col1,#T_0c8a5066_08c3_11eb_98d5_7085c2a9ca7arow2_col2,#T_0c8a5066_08c3_11eb_98d5_7085c2a9ca7arow3_col3,#T_0c8a5066_08c3_11eb_98d5_7085c2a9ca7arow4_col4,#T_0c8a5066_08c3_11eb_98d5_7085c2a9ca7arow4_col5,#T_0c8a5066_08c3_11eb_98d5_7085c2a9ca7arow5_col4,#T_0c8a5066_08c3_11eb_98d5_7085c2a9ca7arow5_col5,#T_0c8a5066_08c3_11eb_98d5_7085c2a9ca7arow6_col6,#T_0c8a5066_08c3_11eb_98d5_7085c2a9ca7arow7_col7{\n",
       "            background-color:  #fff7fb;\n",
       "            color:  #000000;\n",
       "        }#T_0c8a5066_08c3_11eb_98d5_7085c2a9ca7arow0_col1,#T_0c8a5066_08c3_11eb_98d5_7085c2a9ca7arow1_col0{\n",
       "            background-color:  #afc1dd;\n",
       "            color:  #000000;\n",
       "        }#T_0c8a5066_08c3_11eb_98d5_7085c2a9ca7arow0_col2,#T_0c8a5066_08c3_11eb_98d5_7085c2a9ca7arow2_col0{\n",
       "            background-color:  #f2ecf5;\n",
       "            color:  #000000;\n",
       "        }#T_0c8a5066_08c3_11eb_98d5_7085c2a9ca7arow0_col3,#T_0c8a5066_08c3_11eb_98d5_7085c2a9ca7arow3_col0{\n",
       "            background-color:  #549cc7;\n",
       "            color:  #000000;\n",
       "        }#T_0c8a5066_08c3_11eb_98d5_7085c2a9ca7arow0_col4,#T_0c8a5066_08c3_11eb_98d5_7085c2a9ca7arow0_col5,#T_0c8a5066_08c3_11eb_98d5_7085c2a9ca7arow4_col0,#T_0c8a5066_08c3_11eb_98d5_7085c2a9ca7arow5_col0{\n",
       "            background-color:  #9ab8d8;\n",
       "            color:  #000000;\n",
       "        }#T_0c8a5066_08c3_11eb_98d5_7085c2a9ca7arow0_col6,#T_0c8a5066_08c3_11eb_98d5_7085c2a9ca7arow6_col0{\n",
       "            background-color:  #4496c3;\n",
       "            color:  #000000;\n",
       "        }#T_0c8a5066_08c3_11eb_98d5_7085c2a9ca7arow0_col7,#T_0c8a5066_08c3_11eb_98d5_7085c2a9ca7arow7_col0{\n",
       "            background-color:  #e7e3f0;\n",
       "            color:  #000000;\n",
       "        }#T_0c8a5066_08c3_11eb_98d5_7085c2a9ca7arow1_col2,#T_0c8a5066_08c3_11eb_98d5_7085c2a9ca7arow2_col1{\n",
       "            background-color:  #8fb4d6;\n",
       "            color:  #000000;\n",
       "        }#T_0c8a5066_08c3_11eb_98d5_7085c2a9ca7arow1_col3,#T_0c8a5066_08c3_11eb_98d5_7085c2a9ca7arow3_col1{\n",
       "            background-color:  #034e7b;\n",
       "            color:  #f1f1f1;\n",
       "        }#T_0c8a5066_08c3_11eb_98d5_7085c2a9ca7arow1_col4,#T_0c8a5066_08c3_11eb_98d5_7085c2a9ca7arow1_col5,#T_0c8a5066_08c3_11eb_98d5_7085c2a9ca7arow4_col1,#T_0c8a5066_08c3_11eb_98d5_7085c2a9ca7arow5_col1{\n",
       "            background-color:  #f7f0f7;\n",
       "            color:  #000000;\n",
       "        }#T_0c8a5066_08c3_11eb_98d5_7085c2a9ca7arow1_col6,#T_0c8a5066_08c3_11eb_98d5_7085c2a9ca7arow6_col1{\n",
       "            background-color:  #03466e;\n",
       "            color:  #f1f1f1;\n",
       "        }#T_0c8a5066_08c3_11eb_98d5_7085c2a9ca7arow1_col7,#T_0c8a5066_08c3_11eb_98d5_7085c2a9ca7arow7_col1{\n",
       "            background-color:  #75a9cf;\n",
       "            color:  #000000;\n",
       "        }#T_0c8a5066_08c3_11eb_98d5_7085c2a9ca7arow2_col3,#T_0c8a5066_08c3_11eb_98d5_7085c2a9ca7arow3_col2{\n",
       "            background-color:  #7bacd1;\n",
       "            color:  #000000;\n",
       "        }#T_0c8a5066_08c3_11eb_98d5_7085c2a9ca7arow2_col4,#T_0c8a5066_08c3_11eb_98d5_7085c2a9ca7arow2_col5,#T_0c8a5066_08c3_11eb_98d5_7085c2a9ca7arow4_col2,#T_0c8a5066_08c3_11eb_98d5_7085c2a9ca7arow5_col2{\n",
       "            background-color:  #79abd0;\n",
       "            color:  #000000;\n",
       "        }#T_0c8a5066_08c3_11eb_98d5_7085c2a9ca7arow2_col6,#T_0c8a5066_08c3_11eb_98d5_7085c2a9ca7arow6_col2{\n",
       "            background-color:  #6da6cd;\n",
       "            color:  #000000;\n",
       "        }#T_0c8a5066_08c3_11eb_98d5_7085c2a9ca7arow2_col7,#T_0c8a5066_08c3_11eb_98d5_7085c2a9ca7arow7_col2{\n",
       "            background-color:  #f5eff6;\n",
       "            color:  #000000;\n",
       "        }#T_0c8a5066_08c3_11eb_98d5_7085c2a9ca7arow3_col4,#T_0c8a5066_08c3_11eb_98d5_7085c2a9ca7arow3_col5,#T_0c8a5066_08c3_11eb_98d5_7085c2a9ca7arow4_col3,#T_0c8a5066_08c3_11eb_98d5_7085c2a9ca7arow5_col3{\n",
       "            background-color:  #023f64;\n",
       "            color:  #f1f1f1;\n",
       "        }#T_0c8a5066_08c3_11eb_98d5_7085c2a9ca7arow3_col6,#T_0c8a5066_08c3_11eb_98d5_7085c2a9ca7arow6_col3{\n",
       "            background-color:  #fbf3f9;\n",
       "            color:  #000000;\n",
       "        }#T_0c8a5066_08c3_11eb_98d5_7085c2a9ca7arow3_col7,#T_0c8a5066_08c3_11eb_98d5_7085c2a9ca7arow7_col3{\n",
       "            background-color:  #96b6d7;\n",
       "            color:  #000000;\n",
       "        }#T_0c8a5066_08c3_11eb_98d5_7085c2a9ca7arow4_col6,#T_0c8a5066_08c3_11eb_98d5_7085c2a9ca7arow5_col6,#T_0c8a5066_08c3_11eb_98d5_7085c2a9ca7arow6_col4,#T_0c8a5066_08c3_11eb_98d5_7085c2a9ca7arow6_col5{\n",
       "            background-color:  #023858;\n",
       "            color:  #f1f1f1;\n",
       "        }#T_0c8a5066_08c3_11eb_98d5_7085c2a9ca7arow4_col7,#T_0c8a5066_08c3_11eb_98d5_7085c2a9ca7arow5_col7,#T_0c8a5066_08c3_11eb_98d5_7085c2a9ca7arow7_col4,#T_0c8a5066_08c3_11eb_98d5_7085c2a9ca7arow7_col5{\n",
       "            background-color:  #5a9ec9;\n",
       "            color:  #000000;\n",
       "        }#T_0c8a5066_08c3_11eb_98d5_7085c2a9ca7arow6_col7,#T_0c8a5066_08c3_11eb_98d5_7085c2a9ca7arow7_col6{\n",
       "            background-color:  #89b1d4;\n",
       "            color:  #000000;\n",
       "        }</style><table id=\"T_0c8a5066_08c3_11eb_98d5_7085c2a9ca7a\" ><thead>    <tr>        <th class=\"blank level0\" ></th>        <th class=\"col_heading level0 col0\" >blue_0</th>        <th class=\"col_heading level0 col1\" >blue_1</th>        <th class=\"col_heading level0 col2\" >green_2</th>        <th class=\"col_heading level0 col3\" >green_3</th>        <th class=\"col_heading level0 col4\" >green_4</th>        <th class=\"col_heading level0 col5\" >orange_5</th>        <th class=\"col_heading level0 col6\" >orange_6</th>        <th class=\"col_heading level0 col7\" >red_7</th>    </tr></thead><tbody>\n",
       "                <tr>\n",
       "                        <th id=\"T_0c8a5066_08c3_11eb_98d5_7085c2a9ca7alevel0_row0\" class=\"row_heading level0 row0\" >blue_0</th>\n",
       "                        <td id=\"T_0c8a5066_08c3_11eb_98d5_7085c2a9ca7arow0_col0\" class=\"data row0 col0\" >0.000000</td>\n",
       "                        <td id=\"T_0c8a5066_08c3_11eb_98d5_7085c2a9ca7arow0_col1\" class=\"data row0 col1\" >0.634978</td>\n",
       "                        <td id=\"T_0c8a5066_08c3_11eb_98d5_7085c2a9ca7arow0_col2\" class=\"data row0 col2\" >0.150974</td>\n",
       "                        <td id=\"T_0c8a5066_08c3_11eb_98d5_7085c2a9ca7arow0_col3\" class=\"data row0 col3\" >1.026316</td>\n",
       "                        <td id=\"T_0c8a5066_08c3_11eb_98d5_7085c2a9ca7arow0_col4\" class=\"data row0 col4\" >0.730868</td>\n",
       "                        <td id=\"T_0c8a5066_08c3_11eb_98d5_7085c2a9ca7arow0_col5\" class=\"data row0 col5\" >0.730851</td>\n",
       "                        <td id=\"T_0c8a5066_08c3_11eb_98d5_7085c2a9ca7arow0_col6\" class=\"data row0 col6\" >1.082499</td>\n",
       "                        <td id=\"T_0c8a5066_08c3_11eb_98d5_7085c2a9ca7arow0_col7\" class=\"data row0 col7\" >0.270721</td>\n",
       "            </tr>\n",
       "            <tr>\n",
       "                        <th id=\"T_0c8a5066_08c3_11eb_98d5_7085c2a9ca7alevel0_row1\" class=\"row_heading level0 row1\" >blue_1</th>\n",
       "                        <td id=\"T_0c8a5066_08c3_11eb_98d5_7085c2a9ca7arow1_col0\" class=\"data row1 col0\" >0.634978</td>\n",
       "                        <td id=\"T_0c8a5066_08c3_11eb_98d5_7085c2a9ca7arow1_col1\" class=\"data row1 col1\" >0.000000</td>\n",
       "                        <td id=\"T_0c8a5066_08c3_11eb_98d5_7085c2a9ca7arow1_col2\" class=\"data row1 col2\" >0.785953</td>\n",
       "                        <td id=\"T_0c8a5066_08c3_11eb_98d5_7085c2a9ca7arow1_col3\" class=\"data row1 col3\" >1.661294</td>\n",
       "                        <td id=\"T_0c8a5066_08c3_11eb_98d5_7085c2a9ca7arow1_col4\" class=\"data row1 col4\" >0.095889</td>\n",
       "                        <td id=\"T_0c8a5066_08c3_11eb_98d5_7085c2a9ca7arow1_col5\" class=\"data row1 col5\" >0.095873</td>\n",
       "                        <td id=\"T_0c8a5066_08c3_11eb_98d5_7085c2a9ca7arow1_col6\" class=\"data row1 col6\" >1.717477</td>\n",
       "                        <td id=\"T_0c8a5066_08c3_11eb_98d5_7085c2a9ca7arow1_col7\" class=\"data row1 col7\" >0.905699</td>\n",
       "            </tr>\n",
       "            <tr>\n",
       "                        <th id=\"T_0c8a5066_08c3_11eb_98d5_7085c2a9ca7alevel0_row2\" class=\"row_heading level0 row2\" >green_2</th>\n",
       "                        <td id=\"T_0c8a5066_08c3_11eb_98d5_7085c2a9ca7arow2_col0\" class=\"data row2 col0\" >0.150974</td>\n",
       "                        <td id=\"T_0c8a5066_08c3_11eb_98d5_7085c2a9ca7arow2_col1\" class=\"data row2 col1\" >0.785953</td>\n",
       "                        <td id=\"T_0c8a5066_08c3_11eb_98d5_7085c2a9ca7arow2_col2\" class=\"data row2 col2\" >0.000000</td>\n",
       "                        <td id=\"T_0c8a5066_08c3_11eb_98d5_7085c2a9ca7arow2_col3\" class=\"data row2 col3\" >0.875341</td>\n",
       "                        <td id=\"T_0c8a5066_08c3_11eb_98d5_7085c2a9ca7arow2_col4\" class=\"data row2 col4\" >0.881842</td>\n",
       "                        <td id=\"T_0c8a5066_08c3_11eb_98d5_7085c2a9ca7arow2_col5\" class=\"data row2 col5\" >0.881825</td>\n",
       "                        <td id=\"T_0c8a5066_08c3_11eb_98d5_7085c2a9ca7arow2_col6\" class=\"data row2 col6\" >0.931524</td>\n",
       "                        <td id=\"T_0c8a5066_08c3_11eb_98d5_7085c2a9ca7arow2_col7\" class=\"data row2 col7\" >0.119746</td>\n",
       "            </tr>\n",
       "            <tr>\n",
       "                        <th id=\"T_0c8a5066_08c3_11eb_98d5_7085c2a9ca7alevel0_row3\" class=\"row_heading level0 row3\" >green_3</th>\n",
       "                        <td id=\"T_0c8a5066_08c3_11eb_98d5_7085c2a9ca7arow3_col0\" class=\"data row3 col0\" >1.026316</td>\n",
       "                        <td id=\"T_0c8a5066_08c3_11eb_98d5_7085c2a9ca7arow3_col1\" class=\"data row3 col1\" >1.661294</td>\n",
       "                        <td id=\"T_0c8a5066_08c3_11eb_98d5_7085c2a9ca7arow3_col2\" class=\"data row3 col2\" >0.875341</td>\n",
       "                        <td id=\"T_0c8a5066_08c3_11eb_98d5_7085c2a9ca7arow3_col3\" class=\"data row3 col3\" >0.000000</td>\n",
       "                        <td id=\"T_0c8a5066_08c3_11eb_98d5_7085c2a9ca7arow3_col4\" class=\"data row3 col4\" >1.757183</td>\n",
       "                        <td id=\"T_0c8a5066_08c3_11eb_98d5_7085c2a9ca7arow3_col5\" class=\"data row3 col5\" >1.757167</td>\n",
       "                        <td id=\"T_0c8a5066_08c3_11eb_98d5_7085c2a9ca7arow3_col6\" class=\"data row3 col6\" >0.056183</td>\n",
       "                        <td id=\"T_0c8a5066_08c3_11eb_98d5_7085c2a9ca7arow3_col7\" class=\"data row3 col7\" >0.755595</td>\n",
       "            </tr>\n",
       "            <tr>\n",
       "                        <th id=\"T_0c8a5066_08c3_11eb_98d5_7085c2a9ca7alevel0_row4\" class=\"row_heading level0 row4\" >green_4</th>\n",
       "                        <td id=\"T_0c8a5066_08c3_11eb_98d5_7085c2a9ca7arow4_col0\" class=\"data row4 col0\" >0.730868</td>\n",
       "                        <td id=\"T_0c8a5066_08c3_11eb_98d5_7085c2a9ca7arow4_col1\" class=\"data row4 col1\" >0.095889</td>\n",
       "                        <td id=\"T_0c8a5066_08c3_11eb_98d5_7085c2a9ca7arow4_col2\" class=\"data row4 col2\" >0.881842</td>\n",
       "                        <td id=\"T_0c8a5066_08c3_11eb_98d5_7085c2a9ca7arow4_col3\" class=\"data row4 col3\" >1.757183</td>\n",
       "                        <td id=\"T_0c8a5066_08c3_11eb_98d5_7085c2a9ca7arow4_col4\" class=\"data row4 col4\" >0.000000</td>\n",
       "                        <td id=\"T_0c8a5066_08c3_11eb_98d5_7085c2a9ca7arow4_col5\" class=\"data row4 col5\" >0.000016</td>\n",
       "                        <td id=\"T_0c8a5066_08c3_11eb_98d5_7085c2a9ca7arow4_col6\" class=\"data row4 col6\" >1.813366</td>\n",
       "                        <td id=\"T_0c8a5066_08c3_11eb_98d5_7085c2a9ca7arow4_col7\" class=\"data row4 col7\" >1.001588</td>\n",
       "            </tr>\n",
       "            <tr>\n",
       "                        <th id=\"T_0c8a5066_08c3_11eb_98d5_7085c2a9ca7alevel0_row5\" class=\"row_heading level0 row5\" >orange_5</th>\n",
       "                        <td id=\"T_0c8a5066_08c3_11eb_98d5_7085c2a9ca7arow5_col0\" class=\"data row5 col0\" >0.730851</td>\n",
       "                        <td id=\"T_0c8a5066_08c3_11eb_98d5_7085c2a9ca7arow5_col1\" class=\"data row5 col1\" >0.095873</td>\n",
       "                        <td id=\"T_0c8a5066_08c3_11eb_98d5_7085c2a9ca7arow5_col2\" class=\"data row5 col2\" >0.881825</td>\n",
       "                        <td id=\"T_0c8a5066_08c3_11eb_98d5_7085c2a9ca7arow5_col3\" class=\"data row5 col3\" >1.757167</td>\n",
       "                        <td id=\"T_0c8a5066_08c3_11eb_98d5_7085c2a9ca7arow5_col4\" class=\"data row5 col4\" >0.000016</td>\n",
       "                        <td id=\"T_0c8a5066_08c3_11eb_98d5_7085c2a9ca7arow5_col5\" class=\"data row5 col5\" >0.000000</td>\n",
       "                        <td id=\"T_0c8a5066_08c3_11eb_98d5_7085c2a9ca7arow5_col6\" class=\"data row5 col6\" >1.813350</td>\n",
       "                        <td id=\"T_0c8a5066_08c3_11eb_98d5_7085c2a9ca7arow5_col7\" class=\"data row5 col7\" >1.001572</td>\n",
       "            </tr>\n",
       "            <tr>\n",
       "                        <th id=\"T_0c8a5066_08c3_11eb_98d5_7085c2a9ca7alevel0_row6\" class=\"row_heading level0 row6\" >orange_6</th>\n",
       "                        <td id=\"T_0c8a5066_08c3_11eb_98d5_7085c2a9ca7arow6_col0\" class=\"data row6 col0\" >1.082499</td>\n",
       "                        <td id=\"T_0c8a5066_08c3_11eb_98d5_7085c2a9ca7arow6_col1\" class=\"data row6 col1\" >1.717477</td>\n",
       "                        <td id=\"T_0c8a5066_08c3_11eb_98d5_7085c2a9ca7arow6_col2\" class=\"data row6 col2\" >0.931524</td>\n",
       "                        <td id=\"T_0c8a5066_08c3_11eb_98d5_7085c2a9ca7arow6_col3\" class=\"data row6 col3\" >0.056183</td>\n",
       "                        <td id=\"T_0c8a5066_08c3_11eb_98d5_7085c2a9ca7arow6_col4\" class=\"data row6 col4\" >1.813366</td>\n",
       "                        <td id=\"T_0c8a5066_08c3_11eb_98d5_7085c2a9ca7arow6_col5\" class=\"data row6 col5\" >1.813350</td>\n",
       "                        <td id=\"T_0c8a5066_08c3_11eb_98d5_7085c2a9ca7arow6_col6\" class=\"data row6 col6\" >0.000000</td>\n",
       "                        <td id=\"T_0c8a5066_08c3_11eb_98d5_7085c2a9ca7arow6_col7\" class=\"data row6 col7\" >0.811778</td>\n",
       "            </tr>\n",
       "            <tr>\n",
       "                        <th id=\"T_0c8a5066_08c3_11eb_98d5_7085c2a9ca7alevel0_row7\" class=\"row_heading level0 row7\" >red_7</th>\n",
       "                        <td id=\"T_0c8a5066_08c3_11eb_98d5_7085c2a9ca7arow7_col0\" class=\"data row7 col0\" >0.270721</td>\n",
       "                        <td id=\"T_0c8a5066_08c3_11eb_98d5_7085c2a9ca7arow7_col1\" class=\"data row7 col1\" >0.905699</td>\n",
       "                        <td id=\"T_0c8a5066_08c3_11eb_98d5_7085c2a9ca7arow7_col2\" class=\"data row7 col2\" >0.119746</td>\n",
       "                        <td id=\"T_0c8a5066_08c3_11eb_98d5_7085c2a9ca7arow7_col3\" class=\"data row7 col3\" >0.755595</td>\n",
       "                        <td id=\"T_0c8a5066_08c3_11eb_98d5_7085c2a9ca7arow7_col4\" class=\"data row7 col4\" >1.001588</td>\n",
       "                        <td id=\"T_0c8a5066_08c3_11eb_98d5_7085c2a9ca7arow7_col5\" class=\"data row7 col5\" >1.001572</td>\n",
       "                        <td id=\"T_0c8a5066_08c3_11eb_98d5_7085c2a9ca7arow7_col6\" class=\"data row7 col6\" >0.811778</td>\n",
       "                        <td id=\"T_0c8a5066_08c3_11eb_98d5_7085c2a9ca7arow7_col7\" class=\"data row7 col7\" >0.000000</td>\n",
       "            </tr>\n",
       "    </tbody></table>"
      ],
      "text/plain": [
       "<pandas.io.formats.style.Styler at 0x1ae3f74cc08>"
      ]
     },
     "execution_count": 11,
     "metadata": {},
     "output_type": "execute_result"
    },
    {
     "data": {
      "application/javascript": [
       "\n",
       "            setTimeout(function() {\n",
       "                var nbb_cell_id = 11;\n",
       "                var nbb_unformatted_code = \"dist_mat = squareform(pdist(df_small[[\\\"one_d\\\"]]))\\n\\ndist_df_1d = pd.DataFrame(dist_mat, index=df_small.index, columns=df_small.index)\\ndist_df_1d.style.background_gradient(axis=None)\";\n",
       "                var nbb_formatted_code = \"dist_mat = squareform(pdist(df_small[[\\\"one_d\\\"]]))\\n\\ndist_df_1d = pd.DataFrame(dist_mat, index=df_small.index, columns=df_small.index)\\ndist_df_1d.style.background_gradient(axis=None)\";\n",
       "                var nbb_cells = Jupyter.notebook.get_cells();\n",
       "                for (var i = 0; i < nbb_cells.length; ++i) {\n",
       "                    if (nbb_cells[i].input_prompt_number == nbb_cell_id) {\n",
       "                        if (nbb_cells[i].get_text() == nbb_unformatted_code) {\n",
       "                             nbb_cells[i].set_text(nbb_formatted_code);\n",
       "                        }\n",
       "                        break;\n",
       "                    }\n",
       "                }\n",
       "            }, 500);\n",
       "            "
      ],
      "text/plain": [
       "<IPython.core.display.Javascript object>"
      ]
     },
     "metadata": {},
     "output_type": "display_data"
    }
   ],
   "source": [
    "dist_mat = squareform(pdist(df_small[[\"one_d\"]]))\n",
    "\n",
    "dist_df_1d = pd.DataFrame(dist_mat, index=df_small.index, columns=df_small.index)\n",
    "dist_df_1d.style.background_gradient(axis=None)"
   ]
  },
  {
   "cell_type": "markdown",
   "metadata": {},
   "source": [
    "### 4. Compare the distances between high and low dimensions. Use a measure of how good we did (this is called the loss).\n",
    "\n",
    "We won't use an actual loss measure for this demo.  We'll use heatmaps and judge how well they match.  If we do perfectly, the heatmaps will be identical."
   ]
  },
  {
   "cell_type": "code",
   "execution_count": 12,
   "metadata": {},
   "outputs": [
    {
     "data": {
      "image/png": "[encoded data removed]",
      "text/plain": [
       "<Figure size 720x360 with 2 Axes>"
      ]
     },
     "metadata": {
      "needs_background": "light"
     },
     "output_type": "display_data"
    },
    {
     "data": {
      "application/javascript": [
       "\n",
       "            setTimeout(function() {\n",
       "                var nbb_cell_id = 12;\n",
       "                var nbb_unformatted_code = \"plot_dist_compare(df_small[[\\\"x1\\\", \\\"x2\\\"]], df_small[[\\\"one_d\\\"]])\\nplt.show()\";\n",
       "                var nbb_formatted_code = \"plot_dist_compare(df_small[[\\\"x1\\\", \\\"x2\\\"]], df_small[[\\\"one_d\\\"]])\\nplt.show()\";\n",
       "                var nbb_cells = Jupyter.notebook.get_cells();\n",
       "                for (var i = 0; i < nbb_cells.length; ++i) {\n",
       "                    if (nbb_cells[i].input_prompt_number == nbb_cell_id) {\n",
       "                        if (nbb_cells[i].get_text() == nbb_unformatted_code) {\n",
       "                             nbb_cells[i].set_text(nbb_formatted_code);\n",
       "                        }\n",
       "                        break;\n",
       "                    }\n",
       "                }\n",
       "            }, 500);\n",
       "            "
      ],
      "text/plain": [
       "<IPython.core.display.Javascript object>"
      ]
     },
     "metadata": {},
     "output_type": "display_data"
    }
   ],
   "source": [
    "plot_dist_compare(df_small[[\"x1\", \"x2\"]], df_small[[\"one_d\"]])\n",
    "plt.show()"
   ]
  },
  {
   "cell_type": "markdown",
   "metadata": {},
   "source": [
    "If you wanted to make up a loss, maybe you normalize the distance matrices and calculate the difference between the 2."
   ]
  },
  {
   "cell_type": "code",
   "execution_count": 13,
   "metadata": {},
   "outputs": [
    {
     "data": {
      "application/javascript": [
       "\n",
       "            setTimeout(function() {\n",
       "                var nbb_cell_id = 13;\n",
       "                var nbb_unformatted_code = \"def made_up_loss(X1, X2):\\n    # Calc square dist matrix for each data set\\n    dist_df_1 = calc_dist_df(X1)\\n    dist_df_2 = calc_dist_df(X2)\\n\\n    # Scale to have max distance be 1 and min distance be 0\\n    dist_df_1 = min_max_scale(dist_df_1)\\n    dist_df_2 = min_max_scale(dist_df_2)\\n\\n    # Find the difference between the 2\\n    diffs = dist_df_1 - dist_df_2\\n\\n    # Taking absolute value of differences and summing\\n    # aka: calculating L1 distance\\n    return diffs.abs().sum().sum()\";\n",
       "                var nbb_formatted_code = \"def made_up_loss(X1, X2):\\n    # Calc square dist matrix for each data set\\n    dist_df_1 = calc_dist_df(X1)\\n    dist_df_2 = calc_dist_df(X2)\\n\\n    # Scale to have max distance be 1 and min distance be 0\\n    dist_df_1 = min_max_scale(dist_df_1)\\n    dist_df_2 = min_max_scale(dist_df_2)\\n\\n    # Find the difference between the 2\\n    diffs = dist_df_1 - dist_df_2\\n\\n    # Taking absolute value of differences and summing\\n    # aka: calculating L1 distance\\n    return diffs.abs().sum().sum()\";\n",
       "                var nbb_cells = Jupyter.notebook.get_cells();\n",
       "                for (var i = 0; i < nbb_cells.length; ++i) {\n",
       "                    if (nbb_cells[i].input_prompt_number == nbb_cell_id) {\n",
       "                        if (nbb_cells[i].get_text() == nbb_unformatted_code) {\n",
       "                             nbb_cells[i].set_text(nbb_formatted_code);\n",
       "                        }\n",
       "                        break;\n",
       "                    }\n",
       "                }\n",
       "            }, 500);\n",
       "            "
      ],
      "text/plain": [
       "<IPython.core.display.Javascript object>"
      ]
     },
     "metadata": {},
     "output_type": "display_data"
    }
   ],
   "source": [
    "def made_up_loss(X1, X2):\n",
    "    # Calc square dist matrix for each data set\n",
    "    dist_df_1 = calc_dist_df(X1)\n",
    "    dist_df_2 = calc_dist_df(X2)\n",
    "\n",
    "    # Scale to have max distance be 1 and min distance be 0\n",
    "    dist_df_1 = min_max_scale(dist_df_1)\n",
    "    dist_df_2 = min_max_scale(dist_df_2)\n",
    "\n",
    "    # Find the difference between the 2\n",
    "    diffs = dist_df_1 - dist_df_2\n",
    "\n",
    "    # Taking absolute value of differences and summing\n",
    "    # aka: calculating L1 distance\n",
    "    return diffs.abs().sum().sum()"
   ]
  },
  {
   "cell_type": "code",
   "execution_count": 14,
   "metadata": {},
   "outputs": [
    {
     "data": {
      "text/plain": [
       "24.943040574180245"
      ]
     },
     "execution_count": 14,
     "metadata": {},
     "output_type": "execute_result"
    },
    {
     "data": {
      "application/javascript": [
       "\n",
       "            setTimeout(function() {\n",
       "                var nbb_cell_id = 14;\n",
       "                var nbb_unformatted_code = \"made_up_loss(df_small[[\\\"x1\\\", \\\"x2\\\"]], df_small[[\\\"one_d\\\"]])\";\n",
       "                var nbb_formatted_code = \"made_up_loss(df_small[[\\\"x1\\\", \\\"x2\\\"]], df_small[[\\\"one_d\\\"]])\";\n",
       "                var nbb_cells = Jupyter.notebook.get_cells();\n",
       "                for (var i = 0; i < nbb_cells.length; ++i) {\n",
       "                    if (nbb_cells[i].input_prompt_number == nbb_cell_id) {\n",
       "                        if (nbb_cells[i].get_text() == nbb_unformatted_code) {\n",
       "                             nbb_cells[i].set_text(nbb_formatted_code);\n",
       "                        }\n",
       "                        break;\n",
       "                    }\n",
       "                }\n",
       "            }, 500);\n",
       "            "
      ],
      "text/plain": [
       "<IPython.core.display.Javascript object>"
      ]
     },
     "metadata": {},
     "output_type": "display_data"
    }
   ],
   "source": [
    "made_up_loss(df_small[[\"x1\", \"x2\"]], df_small[[\"one_d\"]])"
   ]
  },
  {
   "cell_type": "markdown",
   "metadata": {},
   "source": [
    "### 5. Nudge low-d points to make the distances more similar between high and low dimensions.\n",
    "\n",
    "For this demo, we're not going to intelligently nudge the points in the right direction.  Instead, we'll randomly generate locations again with a preset seed that I know works better."
   ]
  },
  {
   "cell_type": "code",
   "execution_count": 15,
   "metadata": {},
   "outputs": [
    {
     "data": {
      "image/png": "[encoded data removed]",
      "text/plain": [
       "<Figure size 720x360 with 2 Axes>"
      ]
     },
     "metadata": {
      "needs_background": "light"
     },
     "output_type": "display_data"
    },
    {
     "data": {
      "application/javascript": [
       "\n",
       "            setTimeout(function() {\n",
       "                var nbb_cell_id = 15;\n",
       "                var nbb_unformatted_code = \"np.random.seed(8)\\n\\ndf_small[\\\"one_d\\\"] = np.random.normal(size=df_small.shape[0])\\n\\nplot_scatter_compare()\\nplt.show()\";\n",
       "                var nbb_formatted_code = \"np.random.seed(8)\\n\\ndf_small[\\\"one_d\\\"] = np.random.normal(size=df_small.shape[0])\\n\\nplot_scatter_compare()\\nplt.show()\";\n",
       "                var nbb_cells = Jupyter.notebook.get_cells();\n",
       "                for (var i = 0; i < nbb_cells.length; ++i) {\n",
       "                    if (nbb_cells[i].input_prompt_number == nbb_cell_id) {\n",
       "                        if (nbb_cells[i].get_text() == nbb_unformatted_code) {\n",
       "                             nbb_cells[i].set_text(nbb_formatted_code);\n",
       "                        }\n",
       "                        break;\n",
       "                    }\n",
       "                }\n",
       "            }, 500);\n",
       "            "
      ],
      "text/plain": [
       "<IPython.core.display.Javascript object>"
      ]
     },
     "metadata": {},
     "output_type": "display_data"
    }
   ],
   "source": [
    "np.random.seed(8)\n",
    "\n",
    "df_small[\"one_d\"] = np.random.normal(size=df_small.shape[0])\n",
    "\n",
    "plot_scatter_compare()\n",
    "plt.show()"
   ]
  },
  {
   "cell_type": "markdown",
   "metadata": {},
   "source": [
    "### Repeat 3 & 4:\n",
    "  * 3. Measure dist in low-d.\n",
    "  * 4. Compare to hi-d"
   ]
  },
  {
   "cell_type": "code",
   "execution_count": 16,
   "metadata": {},
   "outputs": [
    {
     "data": {
      "image/png": "[encoded data removed]",
      "text/plain": [
       "<Figure size 720x360 with 2 Axes>"
      ]
     },
     "metadata": {
      "needs_background": "light"
     },
     "output_type": "display_data"
    },
    {
     "data": {
      "application/javascript": [
       "\n",
       "            setTimeout(function() {\n",
       "                var nbb_cell_id = 16;\n",
       "                var nbb_unformatted_code = \"plot_dist_compare(df_small[[\\\"x1\\\", \\\"x2\\\"]], df_small[[\\\"one_d\\\"]])\";\n",
       "                var nbb_formatted_code = \"plot_dist_compare(df_small[[\\\"x1\\\", \\\"x2\\\"]], df_small[[\\\"one_d\\\"]])\";\n",
       "                var nbb_cells = Jupyter.notebook.get_cells();\n",
       "                for (var i = 0; i < nbb_cells.length; ++i) {\n",
       "                    if (nbb_cells[i].input_prompt_number == nbb_cell_id) {\n",
       "                        if (nbb_cells[i].get_text() == nbb_unformatted_code) {\n",
       "                             nbb_cells[i].set_text(nbb_formatted_code);\n",
       "                        }\n",
       "                        break;\n",
       "                    }\n",
       "                }\n",
       "            }, 500);\n",
       "            "
      ],
      "text/plain": [
       "<IPython.core.display.Javascript object>"
      ]
     },
     "metadata": {},
     "output_type": "display_data"
    }
   ],
   "source": [
    "plot_dist_compare(df_small[[\"x1\", \"x2\"]], df_small[[\"one_d\"]])"
   ]
  },
  {
   "cell_type": "code",
   "execution_count": 17,
   "metadata": {},
   "outputs": [
    {
     "data": {
      "text/plain": [
       "13.504354076049227"
      ]
     },
     "execution_count": 17,
     "metadata": {},
     "output_type": "execute_result"
    },
    {
     "data": {
      "application/javascript": [
       "\n",
       "            setTimeout(function() {\n",
       "                var nbb_cell_id = 17;\n",
       "                var nbb_unformatted_code = \"made_up_loss(df_small[[\\\"x1\\\", \\\"x2\\\"]], df_small[[\\\"one_d\\\"]])\";\n",
       "                var nbb_formatted_code = \"made_up_loss(df_small[[\\\"x1\\\", \\\"x2\\\"]], df_small[[\\\"one_d\\\"]])\";\n",
       "                var nbb_cells = Jupyter.notebook.get_cells();\n",
       "                for (var i = 0; i < nbb_cells.length; ++i) {\n",
       "                    if (nbb_cells[i].input_prompt_number == nbb_cell_id) {\n",
       "                        if (nbb_cells[i].get_text() == nbb_unformatted_code) {\n",
       "                             nbb_cells[i].set_text(nbb_formatted_code);\n",
       "                        }\n",
       "                        break;\n",
       "                    }\n",
       "                }\n",
       "            }, 500);\n",
       "            "
      ],
      "text/plain": [
       "<IPython.core.display.Javascript object>"
      ]
     },
     "metadata": {},
     "output_type": "display_data"
    }
   ],
   "source": [
    "made_up_loss(df_small[[\"x1\", \"x2\"]], df_small[[\"one_d\"]])"
   ]
  },
  {
   "cell_type": "markdown",
   "metadata": {},
   "source": [
    "### Repeat 5:\n",
    "  * Nudge points\n",
    "  \n",
    "Reminder that we are not actually doing t-SNE or UMAP here.  They both would intelligently nudge the points.  I just kept re-running this random placement untils the results were good enough."
   ]
  },
  {
   "cell_type": "code",
   "execution_count": 18,
   "metadata": {},
   "outputs": [
    {
     "data": {
      "image/png": "[encoded data removed]",
      "text/plain": [
       "<Figure size 720x360 with 2 Axes>"
      ]
     },
     "metadata": {
      "needs_background": "light"
     },
     "output_type": "display_data"
    },
    {
     "data": {
      "application/javascript": [
       "\n",
       "            setTimeout(function() {\n",
       "                var nbb_cell_id = 18;\n",
       "                var nbb_unformatted_code = \"np.random.seed(444)\\n\\ndf_small[\\\"one_d\\\"] = np.random.normal(size=df_small.shape[0])\\n\\nplot_scatter_compare()\\nplt.show()\";\n",
       "                var nbb_formatted_code = \"np.random.seed(444)\\n\\ndf_small[\\\"one_d\\\"] = np.random.normal(size=df_small.shape[0])\\n\\nplot_scatter_compare()\\nplt.show()\";\n",
       "                var nbb_cells = Jupyter.notebook.get_cells();\n",
       "                for (var i = 0; i < nbb_cells.length; ++i) {\n",
       "                    if (nbb_cells[i].input_prompt_number == nbb_cell_id) {\n",
       "                        if (nbb_cells[i].get_text() == nbb_unformatted_code) {\n",
       "                             nbb_cells[i].set_text(nbb_formatted_code);\n",
       "                        }\n",
       "                        break;\n",
       "                    }\n",
       "                }\n",
       "            }, 500);\n",
       "            "
      ],
      "text/plain": [
       "<IPython.core.display.Javascript object>"
      ]
     },
     "metadata": {},
     "output_type": "display_data"
    }
   ],
   "source": [
    "np.random.seed(444)\n",
    "\n",
    "df_small[\"one_d\"] = np.random.normal(size=df_small.shape[0])\n",
    "\n",
    "plot_scatter_compare()\n",
    "plt.show()"
   ]
  },
  {
   "cell_type": "markdown",
   "metadata": {},
   "source": [
    "### Repeat:\n",
    "  * 3. Measure dist in low-d.\n",
    "  * 4. Compare to hi-d"
   ]
  },
  {
   "cell_type": "code",
   "execution_count": 19,
   "metadata": {},
   "outputs": [
    {
     "data": {
      "image/png": "[encoded data removed]",
      "text/plain": [
       "<Figure size 720x360 with 2 Axes>"
      ]
     },
     "metadata": {
      "needs_background": "light"
     },
     "output_type": "display_data"
    },
    {
     "data": {
      "application/javascript": [
       "\n",
       "            setTimeout(function() {\n",
       "                var nbb_cell_id = 19;\n",
       "                var nbb_unformatted_code = \"plot_dist_compare(df_small[[\\\"x1\\\", \\\"x2\\\"]], df_small[[\\\"one_d\\\"]])\";\n",
       "                var nbb_formatted_code = \"plot_dist_compare(df_small[[\\\"x1\\\", \\\"x2\\\"]], df_small[[\\\"one_d\\\"]])\";\n",
       "                var nbb_cells = Jupyter.notebook.get_cells();\n",
       "                for (var i = 0; i < nbb_cells.length; ++i) {\n",
       "                    if (nbb_cells[i].input_prompt_number == nbb_cell_id) {\n",
       "                        if (nbb_cells[i].get_text() == nbb_unformatted_code) {\n",
       "                             nbb_cells[i].set_text(nbb_formatted_code);\n",
       "                        }\n",
       "                        break;\n",
       "                    }\n",
       "                }\n",
       "            }, 500);\n",
       "            "
      ],
      "text/plain": [
       "<IPython.core.display.Javascript object>"
      ]
     },
     "metadata": {},
     "output_type": "display_data"
    }
   ],
   "source": [
    "plot_dist_compare(df_small[[\"x1\", \"x2\"]], df_small[[\"one_d\"]])"
   ]
  },
  {
   "cell_type": "code",
   "execution_count": 20,
   "metadata": {},
   "outputs": [
    {
     "data": {
      "text/plain": [
       "20.05190992192088"
      ]
     },
     "execution_count": 20,
     "metadata": {},
     "output_type": "execute_result"
    },
    {
     "data": {
      "application/javascript": [
       "\n",
       "            setTimeout(function() {\n",
       "                var nbb_cell_id = 20;\n",
       "                var nbb_unformatted_code = \"made_up_loss(df_small[[\\\"x1\\\", \\\"x2\\\"]], df_small[[\\\"one_d\\\"]])\";\n",
       "                var nbb_formatted_code = \"made_up_loss(df_small[[\\\"x1\\\", \\\"x2\\\"]], df_small[[\\\"one_d\\\"]])\";\n",
       "                var nbb_cells = Jupyter.notebook.get_cells();\n",
       "                for (var i = 0; i < nbb_cells.length; ++i) {\n",
       "                    if (nbb_cells[i].input_prompt_number == nbb_cell_id) {\n",
       "                        if (nbb_cells[i].get_text() == nbb_unformatted_code) {\n",
       "                             nbb_cells[i].set_text(nbb_formatted_code);\n",
       "                        }\n",
       "                        break;\n",
       "                    }\n",
       "                }\n",
       "            }, 500);\n",
       "            "
      ],
      "text/plain": [
       "<IPython.core.display.Javascript object>"
      ]
     },
     "metadata": {},
     "output_type": "display_data"
    }
   ],
   "source": [
    "made_up_loss(df_small[[\"x1\", \"x2\"]], df_small[[\"one_d\"]])"
   ]
  },
  {
   "cell_type": "markdown",
   "metadata": {},
   "source": [
    "### Global vs Local Structure\n",
    "\n",
    "The main thing we'll be managing with both of these algorithms (t-SNE & UMAP) is how much they should care about global structure.  Should they just focus on preserving local neighborhoods or should they try and preserve everything?\n",
    "\n",
    "In our example, preserving local neighborhoods means that all the colors stay togehter.\n",
    "\n",
    "In our example, preserving global structure means the clusters should stay about the same distance apart and this might come at the cost of mixing up clusters that are close to each other.\n",
    "\n",
    "---\n",
    "\n",
    "Below shows an arrangement of our points that is a little more focused on global structure.  Notice that the red and blue now overlap, but in the original data data the red and blue data were close to each other.\n",
    "\n",
    "Being more global means that you consider people further away from you to be your neighbors.\n",
    "\n",
    "The closest cluster to red/blue in the original data is orange and green is the furthest from red/blue.  Both of these more global relationships are reflected in the reduction."
   ]
  },
  {
   "cell_type": "code",
   "execution_count": 21,
   "metadata": {},
   "outputs": [
    {
     "data": {
      "text/plain": [
       "1181"
      ]
     },
     "execution_count": 21,
     "metadata": {},
     "output_type": "execute_result"
    },
    {
     "data": {
      "application/javascript": [
       "\n",
       "            setTimeout(function() {\n",
       "                var nbb_cell_id = 21;\n",
       "                var nbb_unformatted_code = \"best_score = 100\\nbest_seed = 0\\nfor i in range(1000, 3000):\\n    np.random.seed(i)\\n    df_small[\\\"one_d\\\"] = np.random.normal(size=df_small.shape[0])\\n    loss = made_up_loss(df_small[[\\\"x1\\\", \\\"x2\\\"]], df_small[[\\\"one_d\\\"]])\\n    if loss < best_score:\\n        best_seed = i\\n        best_score = loss\\n\\nbest_seed\";\n",
       "                var nbb_formatted_code = \"best_score = 100\\nbest_seed = 0\\nfor i in range(1000, 3000):\\n    np.random.seed(i)\\n    df_small[\\\"one_d\\\"] = np.random.normal(size=df_small.shape[0])\\n    loss = made_up_loss(df_small[[\\\"x1\\\", \\\"x2\\\"]], df_small[[\\\"one_d\\\"]])\\n    if loss < best_score:\\n        best_seed = i\\n        best_score = loss\\n\\nbest_seed\";\n",
       "                var nbb_cells = Jupyter.notebook.get_cells();\n",
       "                for (var i = 0; i < nbb_cells.length; ++i) {\n",
       "                    if (nbb_cells[i].input_prompt_number == nbb_cell_id) {\n",
       "                        if (nbb_cells[i].get_text() == nbb_unformatted_code) {\n",
       "                             nbb_cells[i].set_text(nbb_formatted_code);\n",
       "                        }\n",
       "                        break;\n",
       "                    }\n",
       "                }\n",
       "            }, 500);\n",
       "            "
      ],
      "text/plain": [
       "<IPython.core.display.Javascript object>"
      ]
     },
     "metadata": {},
     "output_type": "display_data"
    }
   ],
   "source": [
    "best_score = 100\n",
    "best_seed = 0\n",
    "for i in range(1000, 3000):\n",
    "    np.random.seed(i)\n",
    "    df_small[\"one_d\"] = np.random.normal(size=df_small.shape[0])\n",
    "    loss = made_up_loss(df_small[[\"x1\", \"x2\"]], df_small[[\"one_d\"]])\n",
    "    if loss < best_score:\n",
    "        best_seed = i\n",
    "        best_score = loss\n",
    "\n",
    "best_seed"
   ]
  },
  {
   "cell_type": "code",
   "execution_count": 22,
   "metadata": {},
   "outputs": [
    {
     "data": {
      "image/png": "[encoded data removed]",
      "text/plain": [
       "<Figure size 720x360 with 2 Axes>"
      ]
     },
     "metadata": {
      "needs_background": "light"
     },
     "output_type": "display_data"
    },
    {
     "data": {
      "application/javascript": [
       "\n",
       "            setTimeout(function() {\n",
       "                var nbb_cell_id = 22;\n",
       "                var nbb_unformatted_code = \"np.random.seed(best_seed)\\n\\ndf_small[\\\"one_d\\\"] = np.random.normal(size=df_small.shape[0])\\n\\nplot_scatter_compare()\\nplt.show()\";\n",
       "                var nbb_formatted_code = \"np.random.seed(best_seed)\\n\\ndf_small[\\\"one_d\\\"] = np.random.normal(size=df_small.shape[0])\\n\\nplot_scatter_compare()\\nplt.show()\";\n",
       "                var nbb_cells = Jupyter.notebook.get_cells();\n",
       "                for (var i = 0; i < nbb_cells.length; ++i) {\n",
       "                    if (nbb_cells[i].input_prompt_number == nbb_cell_id) {\n",
       "                        if (nbb_cells[i].get_text() == nbb_unformatted_code) {\n",
       "                             nbb_cells[i].set_text(nbb_formatted_code);\n",
       "                        }\n",
       "                        break;\n",
       "                    }\n",
       "                }\n",
       "            }, 500);\n",
       "            "
      ],
      "text/plain": [
       "<IPython.core.display.Javascript object>"
      ]
     },
     "metadata": {},
     "output_type": "display_data"
    }
   ],
   "source": [
    "np.random.seed(best_seed)\n",
    "\n",
    "df_small[\"one_d\"] = np.random.normal(size=df_small.shape[0])\n",
    "\n",
    "plot_scatter_compare()\n",
    "plt.show()"
   ]
  },
  {
   "cell_type": "markdown",
   "metadata": {},
   "source": [
    "## Actually applying TSNE"
   ]
  },
  {
   "cell_type": "code",
   "execution_count": 23,
   "metadata": {},
   "outputs": [
    {
     "data": {
      "text/html": [
       "<div>\n",
       "<style scoped>\n",
       "    .dataframe tbody tr th:only-of-type {\n",
       "        vertical-align: middle;\n",
       "    }\n",
       "\n",
       "    .dataframe tbody tr th {\n",
       "        vertical-align: top;\n",
       "    }\n",
       "\n",
       "    .dataframe thead th {\n",
       "        text-align: right;\n",
       "    }\n",
       "</style>\n",
       "<table border=\"1\" class=\"dataframe\">\n",
       "  <thead>\n",
       "    <tr style=\"text-align: right;\">\n",
       "      <th></th>\n",
       "      <th>x1</th>\n",
       "      <th>x2</th>\n",
       "      <th>label</th>\n",
       "      <th>color</th>\n",
       "      <th>zero</th>\n",
       "    </tr>\n",
       "  </thead>\n",
       "  <tbody>\n",
       "    <tr>\n",
       "      <th>0</th>\n",
       "      <td>-8.555040</td>\n",
       "      <td>7.064618</td>\n",
       "      <td>3</td>\n",
       "      <td>red</td>\n",
       "      <td>0</td>\n",
       "    </tr>\n",
       "    <tr>\n",
       "      <th>1</th>\n",
       "      <td>-6.137532</td>\n",
       "      <td>-6.580817</td>\n",
       "      <td>2</td>\n",
       "      <td>green</td>\n",
       "      <td>0</td>\n",
       "    </tr>\n",
       "    <tr>\n",
       "      <th>2</th>\n",
       "      <td>-6.321300</td>\n",
       "      <td>-6.804104</td>\n",
       "      <td>2</td>\n",
       "      <td>green</td>\n",
       "      <td>0</td>\n",
       "    </tr>\n",
       "    <tr>\n",
       "      <th>3</th>\n",
       "      <td>4.180518</td>\n",
       "      <td>1.123325</td>\n",
       "      <td>1</td>\n",
       "      <td>orange</td>\n",
       "      <td>0</td>\n",
       "    </tr>\n",
       "    <tr>\n",
       "      <th>4</th>\n",
       "      <td>4.380287</td>\n",
       "      <td>0.470027</td>\n",
       "      <td>1</td>\n",
       "      <td>orange</td>\n",
       "      <td>0</td>\n",
       "    </tr>\n",
       "  </tbody>\n",
       "</table>\n",
       "</div>"
      ],
      "text/plain": [
       "         x1        x2  label   color  zero\n",
       "0 -8.555040  7.064618      3     red     0\n",
       "1 -6.137532 -6.580817      2   green     0\n",
       "2 -6.321300 -6.804104      2   green     0\n",
       "3  4.180518  1.123325      1  orange     0\n",
       "4  4.380287  0.470027      1  orange     0"
      ]
     },
     "execution_count": 23,
     "metadata": {},
     "output_type": "execute_result"
    },
    {
     "data": {
      "application/javascript": [
       "\n",
       "            setTimeout(function() {\n",
       "                var nbb_cell_id = 23;\n",
       "                var nbb_unformatted_code = \"df.head()\";\n",
       "                var nbb_formatted_code = \"df.head()\";\n",
       "                var nbb_cells = Jupyter.notebook.get_cells();\n",
       "                for (var i = 0; i < nbb_cells.length; ++i) {\n",
       "                    if (nbb_cells[i].input_prompt_number == nbb_cell_id) {\n",
       "                        if (nbb_cells[i].get_text() == nbb_unformatted_code) {\n",
       "                             nbb_cells[i].set_text(nbb_formatted_code);\n",
       "                        }\n",
       "                        break;\n",
       "                    }\n",
       "                }\n",
       "            }, 500);\n",
       "            "
      ],
      "text/plain": [
       "<IPython.core.display.Javascript object>"
      ]
     },
     "metadata": {},
     "output_type": "display_data"
    }
   ],
   "source": [
    "df.head()"
   ]
  },
  {
   "cell_type": "markdown",
   "metadata": {},
   "source": [
    "* Group 1: only use `perplexity` values in the range [1, 20]\n",
    "* Group 2: only use `perplexity` values in the range [41, 60]"
   ]
  },
  {
   "cell_type": "markdown",
   "metadata": {},
   "source": [
    "* Create a scatter plot of `df`.\n",
    "    * Use `x1` as the x-axis, `x2` as the y-axis, & color by the `color` column.\n",
    "* Apply `TSNE` to `df` (only use the `x1` and `x2` columns).\n",
    "    * set `n_components` to 1 to get 1 d data out\n",
    "    * set the `perplexity` to manage the trade-off between global vs. local\n",
    "* Save the transformed 1-dimensional data from `TSNE` as a new column in `df`\n",
    "* Recreate a scatter plot of `df`.\n",
    "    * Use your newly added column as the x-axis, the `zero` column as the y-axis, & color by the `color` column.\n",
    "    \n",
    "    \n",
    "* How do you think it did?\n",
    "    * How well did it preserve local structure?\n",
    "    * How well did it preserve global structure?"
   ]
  },
  {
   "cell_type": "code",
   "execution_count": 24,
   "metadata": {},
   "outputs": [
    {
     "data": {
      "text/plain": [
       "<matplotlib.axes._subplots.AxesSubplot at 0x1ae3fb2f948>"
      ]
     },
     "execution_count": 24,
     "metadata": {},
     "output_type": "execute_result"
    },
    {
     "data": {
      "image/png": "[encoded data removed]",
      "text/plain": [
       "<Figure size 432x288 with 1 Axes>"
      ]
     },
     "metadata": {
      "needs_background": "light"
     },
     "output_type": "display_data"
    },
    {
     "data": {
      "application/javascript": [
       "\n",
       "            setTimeout(function() {\n",
       "                var nbb_cell_id = 24;\n",
       "                var nbb_unformatted_code = \"# Create a scatterplot of df\\n# Use x1 as the x-axis,\\n#     x2 as the y-axis, &\\n#     color by the color column.\\nsns.scatterplot(\\\"x1\\\", \\\"x2\\\", hue=\\\"color\\\", data=df)\";\n",
       "                var nbb_formatted_code = \"# Create a scatterplot of df\\n# Use x1 as the x-axis,\\n#     x2 as the y-axis, &\\n#     color by the color column.\\nsns.scatterplot(\\\"x1\\\", \\\"x2\\\", hue=\\\"color\\\", data=df)\";\n",
       "                var nbb_cells = Jupyter.notebook.get_cells();\n",
       "                for (var i = 0; i < nbb_cells.length; ++i) {\n",
       "                    if (nbb_cells[i].input_prompt_number == nbb_cell_id) {\n",
       "                        if (nbb_cells[i].get_text() == nbb_unformatted_code) {\n",
       "                             nbb_cells[i].set_text(nbb_formatted_code);\n",
       "                        }\n",
       "                        break;\n",
       "                    }\n",
       "                }\n",
       "            }, 500);\n",
       "            "
      ],
      "text/plain": [
       "<IPython.core.display.Javascript object>"
      ]
     },
     "metadata": {},
     "output_type": "display_data"
    }
   ],
   "source": [
    "# Create a scatterplot of df\n",
    "# Use x1 as the x-axis,\n",
    "#     x2 as the y-axis, &\n",
    "#     color by the color column.\n",
    "sns.scatterplot(\"x1\", \"x2\", hue=\"color\", data=df)"
   ]
  },
  {
   "cell_type": "code",
   "execution_count": 25,
   "metadata": {},
   "outputs": [
    {
     "data": {
      "application/javascript": [
       "\n",
       "            setTimeout(function() {\n",
       "                var nbb_cell_id = 25;\n",
       "                var nbb_unformatted_code = \"# Apply TSNE to df (only use the x1 and x2 columns)\\n# Save the transformed 1-dimensional data from TSNE as a new column in df\\ntsne = TSNE(perplexity=7, n_components=1)\\ndf[\\\"tsne\\\"] = tsne.fit_transform(df[[\\\"x1\\\", \\\"x2\\\"]])\";\n",
       "                var nbb_formatted_code = \"# Apply TSNE to df (only use the x1 and x2 columns)\\n# Save the transformed 1-dimensional data from TSNE as a new column in df\\ntsne = TSNE(perplexity=7, n_components=1)\\ndf[\\\"tsne\\\"] = tsne.fit_transform(df[[\\\"x1\\\", \\\"x2\\\"]])\";\n",
       "                var nbb_cells = Jupyter.notebook.get_cells();\n",
       "                for (var i = 0; i < nbb_cells.length; ++i) {\n",
       "                    if (nbb_cells[i].input_prompt_number == nbb_cell_id) {\n",
       "                        if (nbb_cells[i].get_text() == nbb_unformatted_code) {\n",
       "                             nbb_cells[i].set_text(nbb_formatted_code);\n",
       "                        }\n",
       "                        break;\n",
       "                    }\n",
       "                }\n",
       "            }, 500);\n",
       "            "
      ],
      "text/plain": [
       "<IPython.core.display.Javascript object>"
      ]
     },
     "metadata": {},
     "output_type": "display_data"
    }
   ],
   "source": [
    "# Apply TSNE to df (only use the x1 and x2 columns)\n",
    "# Save the transformed 1-dimensional data from TSNE as a new column in df\n",
    "tsne = TSNE(perplexity=7, n_components=1)\n",
    "df[\"tsne\"] = tsne.fit_transform(df[[\"x1\", \"x2\"]])"
   ]
  },
  {
   "cell_type": "code",
   "execution_count": 26,
   "metadata": {},
   "outputs": [
    {
     "data": {
      "text/plain": [
       "<matplotlib.axes._subplots.AxesSubplot at 0x1ae3fb61808>"
      ]
     },
     "execution_count": 26,
     "metadata": {},
     "output_type": "execute_result"
    },
    {
     "data": {
      "image/png": "[encoded data removed]",
      "text/plain": [
       "<Figure size 432x288 with 1 Axes>"
      ]
     },
     "metadata": {
      "needs_background": "light"
     },
     "output_type": "display_data"
    },
    {
     "data": {
      "application/javascript": [
       "\n",
       "            setTimeout(function() {\n",
       "                var nbb_cell_id = 26;\n",
       "                var nbb_unformatted_code = \"# Recreate a scatter plot of df\\n# Use your newly added column as the x-axis,\\n#     the zero column as the y-axis, &\\n#     color by the color column.\\nsns.scatterplot(\\\"tsne\\\", \\\"zero\\\", hue=\\\"color\\\", data=df)\";\n",
       "                var nbb_formatted_code = \"# Recreate a scatter plot of df\\n# Use your newly added column as the x-axis,\\n#     the zero column as the y-axis, &\\n#     color by the color column.\\nsns.scatterplot(\\\"tsne\\\", \\\"zero\\\", hue=\\\"color\\\", data=df)\";\n",
       "                var nbb_cells = Jupyter.notebook.get_cells();\n",
       "                for (var i = 0; i < nbb_cells.length; ++i) {\n",
       "                    if (nbb_cells[i].input_prompt_number == nbb_cell_id) {\n",
       "                        if (nbb_cells[i].get_text() == nbb_unformatted_code) {\n",
       "                             nbb_cells[i].set_text(nbb_formatted_code);\n",
       "                        }\n",
       "                        break;\n",
       "                    }\n",
       "                }\n",
       "            }, 500);\n",
       "            "
      ],
      "text/plain": [
       "<IPython.core.display.Javascript object>"
      ]
     },
     "metadata": {},
     "output_type": "display_data"
    }
   ],
   "source": [
    "# Recreate a scatter plot of df\n",
    "# Use your newly added column as the x-axis,\n",
    "#     the zero column as the y-axis, &\n",
    "#     color by the color column.\n",
    "sns.scatterplot(\"tsne\", \"zero\", hue=\"color\", data=df)"
   ]
  },
  {
   "cell_type": "code",
   "execution_count": 27,
   "metadata": {},
   "outputs": [
    {
     "data": {
      "application/javascript": [
       "\n",
       "            setTimeout(function() {\n",
       "                var nbb_cell_id = 27;\n",
       "                var nbb_unformatted_code = \"# How do you think it did?\\n#    * How well did it preserve local structure?\\n#    * How well did it preserve global structure?\";\n",
       "                var nbb_formatted_code = \"# How do you think it did?\\n#    * How well did it preserve local structure?\\n#    * How well did it preserve global structure?\";\n",
       "                var nbb_cells = Jupyter.notebook.get_cells();\n",
       "                for (var i = 0; i < nbb_cells.length; ++i) {\n",
       "                    if (nbb_cells[i].input_prompt_number == nbb_cell_id) {\n",
       "                        if (nbb_cells[i].get_text() == nbb_unformatted_code) {\n",
       "                             nbb_cells[i].set_text(nbb_formatted_code);\n",
       "                        }\n",
       "                        break;\n",
       "                    }\n",
       "                }\n",
       "            }, 500);\n",
       "            "
      ],
      "text/plain": [
       "<IPython.core.display.Javascript object>"
      ]
     },
     "metadata": {},
     "output_type": "display_data"
    }
   ],
   "source": [
    "# How do you think it did?\n",
    "#    * How well did it preserve local structure?\n",
    "#    * How well did it preserve global structure?"
   ]
  },
  {
   "cell_type": "code",
   "execution_count": 28,
   "metadata": {},
   "outputs": [
    {
     "data": {
      "text/plain": [
       "<matplotlib.axes._subplots.AxesSubplot at 0x1ae3fbf7dc8>"
      ]
     },
     "execution_count": 28,
     "metadata": {},
     "output_type": "execute_result"
    },
    {
     "data": {
      "image/png": "[encoded data removed]",
      "text/plain": [
       "<Figure size 432x288 with 1 Axes>"
      ]
     },
     "metadata": {
      "needs_background": "light"
     },
     "output_type": "display_data"
    },
    {
     "data": {
      "application/javascript": [
       "\n",
       "            setTimeout(function() {\n",
       "                var nbb_cell_id = 28;\n",
       "                var nbb_unformatted_code = \"sns.scatterplot(\\\"x1\\\", \\\"x2\\\", hue=\\\"color\\\", data=df)\";\n",
       "                var nbb_formatted_code = \"sns.scatterplot(\\\"x1\\\", \\\"x2\\\", hue=\\\"color\\\", data=df)\";\n",
       "                var nbb_cells = Jupyter.notebook.get_cells();\n",
       "                for (var i = 0; i < nbb_cells.length; ++i) {\n",
       "                    if (nbb_cells[i].input_prompt_number == nbb_cell_id) {\n",
       "                        if (nbb_cells[i].get_text() == nbb_unformatted_code) {\n",
       "                             nbb_cells[i].set_text(nbb_formatted_code);\n",
       "                        }\n",
       "                        break;\n",
       "                    }\n",
       "                }\n",
       "            }, 500);\n",
       "            "
      ],
      "text/plain": [
       "<IPython.core.display.Javascript object>"
      ]
     },
     "metadata": {},
     "output_type": "display_data"
    }
   ],
   "source": [
    "sns.scatterplot(\"x1\", \"x2\", hue=\"color\", data=df)"
   ]
  },
  {
   "cell_type": "code",
   "execution_count": 39,
   "metadata": {},
   "outputs": [
    {
     "data": {
      "application/javascript": [
       "\n",
       "            setTimeout(function() {\n",
       "                var nbb_cell_id = 39;\n",
       "                var nbb_unformatted_code = \"umap = UMAP(n_components=1, min_dist=0.5, n_neighbors=50)\\ndf[\\\"umap\\\"] = umap.fit_transform(df[[\\\"x1\\\", \\\"x2\\\"]])\";\n",
       "                var nbb_formatted_code = \"umap = UMAP(n_components=1, min_dist=0.5, n_neighbors=50)\\ndf[\\\"umap\\\"] = umap.fit_transform(df[[\\\"x1\\\", \\\"x2\\\"]])\";\n",
       "                var nbb_cells = Jupyter.notebook.get_cells();\n",
       "                for (var i = 0; i < nbb_cells.length; ++i) {\n",
       "                    if (nbb_cells[i].input_prompt_number == nbb_cell_id) {\n",
       "                        if (nbb_cells[i].get_text() == nbb_unformatted_code) {\n",
       "                             nbb_cells[i].set_text(nbb_formatted_code);\n",
       "                        }\n",
       "                        break;\n",
       "                    }\n",
       "                }\n",
       "            }, 500);\n",
       "            "
      ],
      "text/plain": [
       "<IPython.core.display.Javascript object>"
      ]
     },
     "metadata": {},
     "output_type": "display_data"
    }
   ],
   "source": [
    "umap = UMAP(n_components=1, min_dist=0.5, n_neighbors=50)\n",
    "df[\"umap\"] = umap.fit_transform(df[[\"x1\", \"x2\"]])"
   ]
  },
  {
   "cell_type": "code",
   "execution_count": 40,
   "metadata": {},
   "outputs": [
    {
     "data": {
      "text/plain": [
       "<matplotlib.axes._subplots.AxesSubplot at 0x1ae40a913c8>"
      ]
     },
     "execution_count": 40,
     "metadata": {},
     "output_type": "execute_result"
    },
    {
     "data": {
      "image/png": "[encoded data removed]",
      "text/plain": [
       "<Figure size 432x288 with 1 Axes>"
      ]
     },
     "metadata": {
      "needs_background": "light"
     },
     "output_type": "display_data"
    },
    {
     "data": {
      "application/javascript": [
       "\n",
       "            setTimeout(function() {\n",
       "                var nbb_cell_id = 40;\n",
       "                var nbb_unformatted_code = \"sns.scatterplot(\\\"umap\\\", \\\"zero\\\", hue=\\\"color\\\", data=df)\";\n",
       "                var nbb_formatted_code = \"sns.scatterplot(\\\"umap\\\", \\\"zero\\\", hue=\\\"color\\\", data=df)\";\n",
       "                var nbb_cells = Jupyter.notebook.get_cells();\n",
       "                for (var i = 0; i < nbb_cells.length; ++i) {\n",
       "                    if (nbb_cells[i].input_prompt_number == nbb_cell_id) {\n",
       "                        if (nbb_cells[i].get_text() == nbb_unformatted_code) {\n",
       "                             nbb_cells[i].set_text(nbb_formatted_code);\n",
       "                        }\n",
       "                        break;\n",
       "                    }\n",
       "                }\n",
       "            }, 500);\n",
       "            "
      ],
      "text/plain": [
       "<IPython.core.display.Javascript object>"
      ]
     },
     "metadata": {},
     "output_type": "display_data"
    }
   ],
   "source": [
    "sns.scatterplot(\"umap\", \"zero\", hue=\"color\", data=df)"
   ]
  },
  {
   "cell_type": "code",
   "execution_count": null,
   "metadata": {},
   "outputs": [],
   "source": []
  }
 ],
 "metadata": {
  "kernelspec": {
   "display_name": "Python 3",
   "language": "python",
   "name": "python3"
  },
  "language_info": {
   "codemirror_mode": {
    "name": "ipython",
    "version": 3
   },
   "file_extension": ".py",
   "mimetype": "text/x-python",
   "name": "python",
   "nbconvert_exporter": "python",
   "pygments_lexer": "ipython3",
   "version": "3.7.6"
  }
 },
 "nbformat": 4,
 "nbformat_minor": 2
}
