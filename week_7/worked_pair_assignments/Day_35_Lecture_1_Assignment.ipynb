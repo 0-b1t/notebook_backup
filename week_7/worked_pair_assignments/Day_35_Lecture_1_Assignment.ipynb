{
 "cells": [
  {
   "cell_type": "code",
   "execution_count": 1,
   "metadata": {},
   "outputs": [
    {
     "data": {
      "application/javascript": [
       "\n",
       "            setTimeout(function() {\n",
       "                var nbb_cell_id = 1;\n",
       "                var nbb_unformatted_code = \"%reload_ext nb_black\";\n",
       "                var nbb_formatted_code = \"%reload_ext nb_black\";\n",
       "                var nbb_cells = Jupyter.notebook.get_cells();\n",
       "                for (var i = 0; i < nbb_cells.length; ++i) {\n",
       "                    if (nbb_cells[i].input_prompt_number == nbb_cell_id) {\n",
       "                        if (nbb_cells[i].get_text() == nbb_unformatted_code) {\n",
       "                             nbb_cells[i].set_text(nbb_formatted_code);\n",
       "                        }\n",
       "                        break;\n",
       "                    }\n",
       "                }\n",
       "            }, 500);\n",
       "            "
      ],
      "text/plain": [
       "<IPython.core.display.Javascript object>"
      ]
     },
     "metadata": {},
     "output_type": "display_data"
    }
   ],
   "source": [
    "%reload_ext nb_black"
   ]
  },
  {
   "cell_type": "markdown",
   "metadata": {
    "colab_type": "text",
    "id": "fekXcsQ31Y5o"
   },
   "source": [
    "## Day 35 Lecture 1 Assignment\n",
    "\n",
    "In this assignment, we will learn about gradient boosting. We will use a dataset describing survival rates after breast cancer surgery loaded below and analyze the model generated for this dataset."
   ]
  },
  {
   "cell_type": "code",
   "execution_count": 2,
   "metadata": {
    "colab": {
     "base_uri": "https://localhost:8080/",
     "height": 70
    },
    "colab_type": "code",
    "id": "R5mR8fdy1Y5p",
    "outputId": "0929d7c5-a527-4412-d6d8-bdddf6cd2f02"
   },
   "outputs": [
    {
     "data": {
      "application/javascript": [
       "\n",
       "            setTimeout(function() {\n",
       "                var nbb_cell_id = 2;\n",
       "                var nbb_unformatted_code = \"import numpy as np\\nimport pandas as pd\\n\\nfrom sklearn.model_selection import train_test_split, GridSearchCV\\nfrom sklearn.preprocessing import StandardScaler\\nfrom sklearn.pipeline import Pipeline\\nfrom sklearn.metrics import confusion_matrix, classification_report\\n\\nfrom xgboost import XGBClassifier\\n\\nimport seaborn as sns\\nimport matplotlib.pyplot as plt\\n%matplotlib inline\";\n",
       "                var nbb_formatted_code = \"import numpy as np\\nimport pandas as pd\\n\\nfrom sklearn.model_selection import train_test_split, GridSearchCV\\nfrom sklearn.preprocessing import StandardScaler\\nfrom sklearn.pipeline import Pipeline\\nfrom sklearn.metrics import confusion_matrix, classification_report\\n\\nfrom xgboost import XGBClassifier\\n\\nimport seaborn as sns\\nimport matplotlib.pyplot as plt\\n\\n%matplotlib inline\";\n",
       "                var nbb_cells = Jupyter.notebook.get_cells();\n",
       "                for (var i = 0; i < nbb_cells.length; ++i) {\n",
       "                    if (nbb_cells[i].input_prompt_number == nbb_cell_id) {\n",
       "                        if (nbb_cells[i].get_text() == nbb_unformatted_code) {\n",
       "                             nbb_cells[i].set_text(nbb_formatted_code);\n",
       "                        }\n",
       "                        break;\n",
       "                    }\n",
       "                }\n",
       "            }, 500);\n",
       "            "
      ],
      "text/plain": [
       "<IPython.core.display.Javascript object>"
      ]
     },
     "metadata": {},
     "output_type": "display_data"
    }
   ],
   "source": [
    "import numpy as np\n",
    "import pandas as pd\n",
    "\n",
    "from sklearn.model_selection import train_test_split, GridSearchCV\n",
    "from sklearn.preprocessing import StandardScaler\n",
    "from sklearn.pipeline import Pipeline\n",
    "from sklearn.metrics import confusion_matrix, classification_report\n",
    "\n",
    "from xgboost import XGBClassifier\n",
    "\n",
    "import seaborn as sns\n",
    "import matplotlib.pyplot as plt\n",
    "\n",
    "%matplotlib inline"
   ]
  },
  {
   "cell_type": "code",
   "execution_count": 3,
   "metadata": {
    "colab": {
     "base_uri": "https://localhost:8080/",
     "height": 195
    },
    "colab_type": "code",
    "id": "xFdOjNYx1Y5r",
    "outputId": "943c590d-0c04-4b2a-8d13-a9c2b60db145"
   },
   "outputs": [
    {
     "data": {
      "text/html": [
       "<div>\n",
       "<style scoped>\n",
       "    .dataframe tbody tr th:only-of-type {\n",
       "        vertical-align: middle;\n",
       "    }\n",
       "\n",
       "    .dataframe tbody tr th {\n",
       "        vertical-align: top;\n",
       "    }\n",
       "\n",
       "    .dataframe thead th {\n",
       "        text-align: right;\n",
       "    }\n",
       "</style>\n",
       "<table border=\"1\" class=\"dataframe\">\n",
       "  <thead>\n",
       "    <tr style=\"text-align: right;\">\n",
       "      <th></th>\n",
       "      <th>age</th>\n",
       "      <th>op_year</th>\n",
       "      <th>nodes</th>\n",
       "      <th>lost_battle</th>\n",
       "    </tr>\n",
       "  </thead>\n",
       "  <tbody>\n",
       "    <tr>\n",
       "      <th>0</th>\n",
       "      <td>30</td>\n",
       "      <td>64</td>\n",
       "      <td>1</td>\n",
       "      <td>0</td>\n",
       "    </tr>\n",
       "    <tr>\n",
       "      <th>1</th>\n",
       "      <td>30</td>\n",
       "      <td>62</td>\n",
       "      <td>3</td>\n",
       "      <td>0</td>\n",
       "    </tr>\n",
       "    <tr>\n",
       "      <th>2</th>\n",
       "      <td>30</td>\n",
       "      <td>65</td>\n",
       "      <td>0</td>\n",
       "      <td>0</td>\n",
       "    </tr>\n",
       "    <tr>\n",
       "      <th>3</th>\n",
       "      <td>31</td>\n",
       "      <td>59</td>\n",
       "      <td>2</td>\n",
       "      <td>0</td>\n",
       "    </tr>\n",
       "    <tr>\n",
       "      <th>4</th>\n",
       "      <td>31</td>\n",
       "      <td>65</td>\n",
       "      <td>4</td>\n",
       "      <td>0</td>\n",
       "    </tr>\n",
       "  </tbody>\n",
       "</table>\n",
       "</div>"
      ],
      "text/plain": [
       "   age  op_year  nodes  lost_battle\n",
       "0   30       64      1            0\n",
       "1   30       62      3            0\n",
       "2   30       65      0            0\n",
       "3   31       59      2            0\n",
       "4   31       65      4            0"
      ]
     },
     "execution_count": 3,
     "metadata": {},
     "output_type": "execute_result"
    },
    {
     "data": {
      "application/javascript": [
       "\n",
       "            setTimeout(function() {\n",
       "                var nbb_cell_id = 3;\n",
       "                var nbb_unformatted_code = \"# Attributes:\\n# Age of patient at time of operation (numerical)\\n# Patient's year of operation (year - 1900, numerical)\\n# Number of positive axillary nodes detected (numerical)\\n# Survival status (class attribute)\\n#  -- 1 = the patient survived 5 years or longer\\n#  -- 2 = the patient died within 5 year\\n\\ncols = ['age', 'op_year', 'nodes', 'survival']\\ncancer = pd.read_csv(\\n    'https://tf-assets-prod.s3.amazonaws.com/tf-curric/data-science/haberman.data', \\n    names=cols\\n)\\n\\ncancer = cancer.dropna()\\n\\n# Re-encoding survival as 1s & 0s:\\n#  * 2 -> 1 (the patient died within 5 year)\\n#  * 1 -> 0 (the patient survived 5 years or longer)\\ncancer['survival'] -= 1\\n\\n# Renaming to reflect update\\ncancer = cancer.rename(columns={'survival': 'lost_battle'})\\n\\ncancer.head()\";\n",
       "                var nbb_formatted_code = \"# Attributes:\\n# Age of patient at time of operation (numerical)\\n# Patient's year of operation (year - 1900, numerical)\\n# Number of positive axillary nodes detected (numerical)\\n# Survival status (class attribute)\\n#  -- 1 = the patient survived 5 years or longer\\n#  -- 2 = the patient died within 5 year\\n\\ncols = [\\\"age\\\", \\\"op_year\\\", \\\"nodes\\\", \\\"survival\\\"]\\ncancer = pd.read_csv(\\n    \\\"https://tf-assets-prod.s3.amazonaws.com/tf-curric/data-science/haberman.data\\\",\\n    names=cols,\\n)\\n\\ncancer = cancer.dropna()\\n\\n# Re-encoding survival as 1s & 0s:\\n#  * 2 -> 1 (the patient died within 5 year)\\n#  * 1 -> 0 (the patient survived 5 years or longer)\\ncancer[\\\"survival\\\"] -= 1\\n\\n# Renaming to reflect update\\ncancer = cancer.rename(columns={\\\"survival\\\": \\\"lost_battle\\\"})\\n\\ncancer.head()\";\n",
       "                var nbb_cells = Jupyter.notebook.get_cells();\n",
       "                for (var i = 0; i < nbb_cells.length; ++i) {\n",
       "                    if (nbb_cells[i].input_prompt_number == nbb_cell_id) {\n",
       "                        if (nbb_cells[i].get_text() == nbb_unformatted_code) {\n",
       "                             nbb_cells[i].set_text(nbb_formatted_code);\n",
       "                        }\n",
       "                        break;\n",
       "                    }\n",
       "                }\n",
       "            }, 500);\n",
       "            "
      ],
      "text/plain": [
       "<IPython.core.display.Javascript object>"
      ]
     },
     "metadata": {},
     "output_type": "display_data"
    }
   ],
   "source": [
    "# Attributes:\n",
    "# Age of patient at time of operation (numerical)\n",
    "# Patient's year of operation (year - 1900, numerical)\n",
    "# Number of positive axillary nodes detected (numerical)\n",
    "# Survival status (class attribute)\n",
    "#  -- 1 = the patient survived 5 years or longer\n",
    "#  -- 2 = the patient died within 5 year\n",
    "\n",
    "cols = [\"age\", \"op_year\", \"nodes\", \"survival\"]\n",
    "cancer = pd.read_csv(\n",
    "    \"https://tf-assets-prod.s3.amazonaws.com/tf-curric/data-science/haberman.data\",\n",
    "    names=cols,\n",
    ")\n",
    "\n",
    "cancer = cancer.dropna()\n",
    "\n",
    "# Re-encoding survival as 1s & 0s:\n",
    "#  * 2 -> 1 (the patient died within 5 year)\n",
    "#  * 1 -> 0 (the patient survived 5 years or longer)\n",
    "cancer[\"survival\"] -= 1\n",
    "\n",
    "# Renaming to reflect update\n",
    "cancer = cancer.rename(columns={\"survival\": \"lost_battle\"})\n",
    "\n",
    "cancer.head()"
   ]
  },
  {
   "cell_type": "code",
   "execution_count": 4,
   "metadata": {
    "colab": {
     "base_uri": "https://localhost:8080/",
     "height": 280
    },
    "colab_type": "code",
    "id": "zbb_iZShaN7L",
    "outputId": "d881d242-1afe-4afa-be49-bf8bcd529d41"
   },
   "outputs": [
    {
     "data": {
      "image/png": "[encoded data removed]",
      "text/plain": [
       "<Figure size 432x288 with 1 Axes>"
      ]
     },
     "metadata": {
      "needs_background": "light"
     },
     "output_type": "display_data"
    },
    {
     "data": {
      "application/javascript": [
       "\n",
       "            setTimeout(function() {\n",
       "                var nbb_cell_id = 4;\n",
       "                var nbb_unformatted_code = \"sns.countplot(cancer['lost_battle'])\\nplt.show()\";\n",
       "                var nbb_formatted_code = \"sns.countplot(cancer[\\\"lost_battle\\\"])\\nplt.show()\";\n",
       "                var nbb_cells = Jupyter.notebook.get_cells();\n",
       "                for (var i = 0; i < nbb_cells.length; ++i) {\n",
       "                    if (nbb_cells[i].input_prompt_number == nbb_cell_id) {\n",
       "                        if (nbb_cells[i].get_text() == nbb_unformatted_code) {\n",
       "                             nbb_cells[i].set_text(nbb_formatted_code);\n",
       "                        }\n",
       "                        break;\n",
       "                    }\n",
       "                }\n",
       "            }, 500);\n",
       "            "
      ],
      "text/plain": [
       "<IPython.core.display.Javascript object>"
      ]
     },
     "metadata": {},
     "output_type": "display_data"
    }
   ],
   "source": [
    "sns.countplot(cancer[\"lost_battle\"])\n",
    "plt.show()"
   ]
  },
  {
   "cell_type": "code",
   "execution_count": 5,
   "metadata": {
    "colab": {
     "base_uri": "https://localhost:8080/",
     "height": 567
    },
    "colab_type": "code",
    "id": "hNNxyehFZIHI",
    "outputId": "aea31130-c968-4650-db93-5df8893f8a6b"
   },
   "outputs": [
    {
     "data": {
      "image/png": "[encoded data removed]",
      "text/plain": [
       "<Figure size 600.125x540 with 12 Axes>"
      ]
     },
     "metadata": {
      "needs_background": "light"
     },
     "output_type": "display_data"
    },
    {
     "data": {
      "application/javascript": [
       "\n",
       "            setTimeout(function() {\n",
       "                var nbb_cell_id = 5;\n",
       "                var nbb_unformatted_code = \"sns.pairplot(cancer, hue='lost_battle')\\nplt.show()\";\n",
       "                var nbb_formatted_code = \"sns.pairplot(cancer, hue=\\\"lost_battle\\\")\\nplt.show()\";\n",
       "                var nbb_cells = Jupyter.notebook.get_cells();\n",
       "                for (var i = 0; i < nbb_cells.length; ++i) {\n",
       "                    if (nbb_cells[i].input_prompt_number == nbb_cell_id) {\n",
       "                        if (nbb_cells[i].get_text() == nbb_unformatted_code) {\n",
       "                             nbb_cells[i].set_text(nbb_formatted_code);\n",
       "                        }\n",
       "                        break;\n",
       "                    }\n",
       "                }\n",
       "            }, 500);\n",
       "            "
      ],
      "text/plain": [
       "<IPython.core.display.Javascript object>"
      ]
     },
     "metadata": {},
     "output_type": "display_data"
    }
   ],
   "source": [
    "sns.pairplot(cancer, hue=\"lost_battle\")\n",
    "plt.show()"
   ]
  },
  {
   "cell_type": "markdown",
   "metadata": {
    "colab_type": "text",
    "id": "FIUepkWi2c8r"
   },
   "source": [
    "Nodes has a lot of variation.  Let's investigate.\n",
    "\n",
    "The table and scatter plot show that there's some relationship, but once we get past a certain number of nodes we don't have a lot of evidence supporting this claim."
   ]
  },
  {
   "cell_type": "code",
   "execution_count": 6,
   "metadata": {
    "colab": {
     "base_uri": "https://localhost:8080/",
     "height": 458
    },
    "colab_type": "code",
    "id": "1H07y2ZY2nTF",
    "outputId": "808db43e-4c03-4493-9e57-3b812488c5fe"
   },
   "outputs": [
    {
     "data": {
      "text/html": [
       "<div>\n",
       "<style scoped>\n",
       "    .dataframe tbody tr th:only-of-type {\n",
       "        vertical-align: middle;\n",
       "    }\n",
       "\n",
       "    .dataframe tbody tr th {\n",
       "        vertical-align: top;\n",
       "    }\n",
       "\n",
       "    .dataframe thead th {\n",
       "        text-align: right;\n",
       "    }\n",
       "</style>\n",
       "<table border=\"1\" class=\"dataframe\">\n",
       "  <thead>\n",
       "    <tr style=\"text-align: right;\">\n",
       "      <th></th>\n",
       "      <th>nodes</th>\n",
       "      <th>death_rate</th>\n",
       "      <th>count</th>\n",
       "    </tr>\n",
       "  </thead>\n",
       "  <tbody>\n",
       "    <tr>\n",
       "      <th>0</th>\n",
       "      <td>0</td>\n",
       "      <td>0.139706</td>\n",
       "      <td>136</td>\n",
       "    </tr>\n",
       "    <tr>\n",
       "      <th>1</th>\n",
       "      <td>1</td>\n",
       "      <td>0.195122</td>\n",
       "      <td>41</td>\n",
       "    </tr>\n",
       "    <tr>\n",
       "      <th>2</th>\n",
       "      <td>2</td>\n",
       "      <td>0.250000</td>\n",
       "      <td>20</td>\n",
       "    </tr>\n",
       "    <tr>\n",
       "      <th>3</th>\n",
       "      <td>3</td>\n",
       "      <td>0.350000</td>\n",
       "      <td>20</td>\n",
       "    </tr>\n",
       "    <tr>\n",
       "      <th>4</th>\n",
       "      <td>4</td>\n",
       "      <td>0.230769</td>\n",
       "      <td>13</td>\n",
       "    </tr>\n",
       "  </tbody>\n",
       "</table>\n",
       "</div>"
      ],
      "text/plain": [
       "   nodes  death_rate  count\n",
       "0      0    0.139706    136\n",
       "1      1    0.195122     41\n",
       "2      2    0.250000     20\n",
       "3      3    0.350000     20\n",
       "4      4    0.230769     13"
      ]
     },
     "metadata": {},
     "output_type": "display_data"
    },
    {
     "data": {
      "image/png": "[encoded data removed]",
      "text/plain": [
       "<Figure size 432x288 with 1 Axes>"
      ]
     },
     "metadata": {
      "needs_background": "light"
     },
     "output_type": "display_data"
    },
    {
     "data": {
      "application/javascript": [
       "\n",
       "            setTimeout(function() {\n",
       "                var nbb_cell_id = 6;\n",
       "                var nbb_unformatted_code = \"nodes = cancer[['nodes', 'lost_battle']]\\n\\ndeath_rate_by_nodes = nodes.groupby('nodes').agg(['mean', 'count'])\\ndeath_rate_by_nodes.columns = ['death_rate', 'count']\\ndeath_rate_by_nodes = death_rate_by_nodes.reset_index()\\n\\n# Removing 1-offs that might skew pattern\\nviz_df = death_rate_by_nodes[death_rate_by_nodes['count'] > 1]\\ndisplay(viz_df.head())\\n\\nsns.scatterplot(x='nodes', y='death_rate', size='count', data=viz_df)\\nplt.show()\";\n",
       "                var nbb_formatted_code = \"nodes = cancer[[\\\"nodes\\\", \\\"lost_battle\\\"]]\\n\\ndeath_rate_by_nodes = nodes.groupby(\\\"nodes\\\").agg([\\\"mean\\\", \\\"count\\\"])\\ndeath_rate_by_nodes.columns = [\\\"death_rate\\\", \\\"count\\\"]\\ndeath_rate_by_nodes = death_rate_by_nodes.reset_index()\\n\\n# Removing 1-offs that might skew pattern\\nviz_df = death_rate_by_nodes[death_rate_by_nodes[\\\"count\\\"] > 1]\\ndisplay(viz_df.head())\\n\\nsns.scatterplot(x=\\\"nodes\\\", y=\\\"death_rate\\\", size=\\\"count\\\", data=viz_df)\\nplt.show()\";\n",
       "                var nbb_cells = Jupyter.notebook.get_cells();\n",
       "                for (var i = 0; i < nbb_cells.length; ++i) {\n",
       "                    if (nbb_cells[i].input_prompt_number == nbb_cell_id) {\n",
       "                        if (nbb_cells[i].get_text() == nbb_unformatted_code) {\n",
       "                             nbb_cells[i].set_text(nbb_formatted_code);\n",
       "                        }\n",
       "                        break;\n",
       "                    }\n",
       "                }\n",
       "            }, 500);\n",
       "            "
      ],
      "text/plain": [
       "<IPython.core.display.Javascript object>"
      ]
     },
     "metadata": {},
     "output_type": "display_data"
    }
   ],
   "source": [
    "nodes = cancer[[\"nodes\", \"lost_battle\"]]\n",
    "\n",
    "death_rate_by_nodes = nodes.groupby(\"nodes\").agg([\"mean\", \"count\"])\n",
    "death_rate_by_nodes.columns = [\"death_rate\", \"count\"]\n",
    "death_rate_by_nodes = death_rate_by_nodes.reset_index()\n",
    "\n",
    "# Removing 1-offs that might skew pattern\n",
    "viz_df = death_rate_by_nodes[death_rate_by_nodes[\"count\"] > 1]\n",
    "display(viz_df.head())\n",
    "\n",
    "sns.scatterplot(x=\"nodes\", y=\"death_rate\", size=\"count\", data=viz_df)\n",
    "plt.show()"
   ]
  },
  {
   "cell_type": "markdown",
   "metadata": {
    "colab_type": "text",
    "id": "b5Q3DG0d1Y52"
   },
   "source": [
    "Split the data into train and test (20% in test)"
   ]
  },
  {
   "cell_type": "code",
   "execution_count": 7,
   "metadata": {
    "colab": {},
    "colab_type": "code",
    "id": "oXWw6ZNJ1Y52"
   },
   "outputs": [
    {
     "data": {
      "application/javascript": [
       "\n",
       "            setTimeout(function() {\n",
       "                var nbb_cell_id = 7;\n",
       "                var nbb_unformatted_code = \"X = cancer.drop(columns=['lost_battle'])\\ny = cancer['lost_battle']\\n\\nX_train, X_test, y_train, y_test = train_test_split(\\n    X, y, test_size=0.2, random_state=42, stratify=y \\n)\";\n",
       "                var nbb_formatted_code = \"X = cancer.drop(columns=[\\\"lost_battle\\\"])\\ny = cancer[\\\"lost_battle\\\"]\\n\\nX_train, X_test, y_train, y_test = train_test_split(\\n    X, y, test_size=0.2, random_state=42, stratify=y\\n)\";\n",
       "                var nbb_cells = Jupyter.notebook.get_cells();\n",
       "                for (var i = 0; i < nbb_cells.length; ++i) {\n",
       "                    if (nbb_cells[i].input_prompt_number == nbb_cell_id) {\n",
       "                        if (nbb_cells[i].get_text() == nbb_unformatted_code) {\n",
       "                             nbb_cells[i].set_text(nbb_formatted_code);\n",
       "                        }\n",
       "                        break;\n",
       "                    }\n",
       "                }\n",
       "            }, 500);\n",
       "            "
      ],
      "text/plain": [
       "<IPython.core.display.Javascript object>"
      ]
     },
     "metadata": {},
     "output_type": "display_data"
    }
   ],
   "source": [
    "X = cancer.drop(columns=[\"lost_battle\"])\n",
    "y = cancer[\"lost_battle\"]\n",
    "\n",
    "X_train, X_test, y_train, y_test = train_test_split(\n",
    "    X, y, test_size=0.2, random_state=42, stratify=y\n",
    ")"
   ]
  },
  {
   "cell_type": "code",
   "execution_count": 8,
   "metadata": {
    "colab": {
     "base_uri": "https://localhost:8080/",
     "height": 67
    },
    "colab_type": "code",
    "id": "UfCOjlA_a8cB",
    "outputId": "78ce615f-04e1-400f-f659-41f5d4cb580a"
   },
   "outputs": [
    {
     "data": {
      "text/plain": [
       "0    0.733607\n",
       "1    0.266393\n",
       "Name: lost_battle, dtype: float64"
      ]
     },
     "execution_count": 8,
     "metadata": {},
     "output_type": "execute_result"
    },
    {
     "data": {
      "application/javascript": [
       "\n",
       "            setTimeout(function() {\n",
       "                var nbb_cell_id = 8;\n",
       "                var nbb_unformatted_code = \"y_train.value_counts(normalize=True)\";\n",
       "                var nbb_formatted_code = \"y_train.value_counts(normalize=True)\";\n",
       "                var nbb_cells = Jupyter.notebook.get_cells();\n",
       "                for (var i = 0; i < nbb_cells.length; ++i) {\n",
       "                    if (nbb_cells[i].input_prompt_number == nbb_cell_id) {\n",
       "                        if (nbb_cells[i].get_text() == nbb_unformatted_code) {\n",
       "                             nbb_cells[i].set_text(nbb_formatted_code);\n",
       "                        }\n",
       "                        break;\n",
       "                    }\n",
       "                }\n",
       "            }, 500);\n",
       "            "
      ],
      "text/plain": [
       "<IPython.core.display.Javascript object>"
      ]
     },
     "metadata": {},
     "output_type": "display_data"
    }
   ],
   "source": [
    "y_train.value_counts(normalize=True)"
   ]
  },
  {
   "cell_type": "markdown",
   "metadata": {
    "colab_type": "text",
    "id": "fM7H5aHv1Y54"
   },
   "source": [
    "Create a gradient boosted classification algorithm with a learning rate of 0.01 and max depth of 5. Report the accuracy."
   ]
  },
  {
   "cell_type": "code",
   "execution_count": 9,
   "metadata": {
    "colab": {},
    "colab_type": "code",
    "id": "rhxEJj1S6eN7"
   },
   "outputs": [
    {
     "data": {
      "application/javascript": [
       "\n",
       "            setTimeout(function() {\n",
       "                var nbb_cell_id = 9;\n",
       "                var nbb_unformatted_code = \"bin_cols = []\\nnum_cols = ['age','op_year','nodes']\";\n",
       "                var nbb_formatted_code = \"bin_cols = []\\nnum_cols = [\\\"age\\\", \\\"op_year\\\", \\\"nodes\\\"]\";\n",
       "                var nbb_cells = Jupyter.notebook.get_cells();\n",
       "                for (var i = 0; i < nbb_cells.length; ++i) {\n",
       "                    if (nbb_cells[i].input_prompt_number == nbb_cell_id) {\n",
       "                        if (nbb_cells[i].get_text() == nbb_unformatted_code) {\n",
       "                             nbb_cells[i].set_text(nbb_formatted_code);\n",
       "                        }\n",
       "                        break;\n",
       "                    }\n",
       "                }\n",
       "            }, 500);\n",
       "            "
      ],
      "text/plain": [
       "<IPython.core.display.Javascript object>"
      ]
     },
     "metadata": {},
     "output_type": "display_data"
    }
   ],
   "source": [
    "bin_cols = []\n",
    "num_cols = [\"age\", \"op_year\", \"nodes\"]"
   ]
  },
  {
   "cell_type": "code",
   "execution_count": 10,
   "metadata": {
    "colab": {},
    "colab_type": "code",
    "id": "D2e7QtO1bnmy"
   },
   "outputs": [
    {
     "data": {
      "application/javascript": [
       "\n",
       "            setTimeout(function() {\n",
       "                var nbb_cell_id = 10;\n",
       "                var nbb_unformatted_code = \"pipeline = Pipeline([\\n    ('scale', StandardScaler()),\\n    ('xgb', XGBClassifier()),\\n])\";\n",
       "                var nbb_formatted_code = \"pipeline = Pipeline([(\\\"scale\\\", StandardScaler()), (\\\"xgb\\\", XGBClassifier()),])\";\n",
       "                var nbb_cells = Jupyter.notebook.get_cells();\n",
       "                for (var i = 0; i < nbb_cells.length; ++i) {\n",
       "                    if (nbb_cells[i].input_prompt_number == nbb_cell_id) {\n",
       "                        if (nbb_cells[i].get_text() == nbb_unformatted_code) {\n",
       "                             nbb_cells[i].set_text(nbb_formatted_code);\n",
       "                        }\n",
       "                        break;\n",
       "                    }\n",
       "                }\n",
       "            }, 500);\n",
       "            "
      ],
      "text/plain": [
       "<IPython.core.display.Javascript object>"
      ]
     },
     "metadata": {},
     "output_type": "display_data"
    }
   ],
   "source": [
    "pipeline = Pipeline([(\"scale\", StandardScaler()), (\"xgb\", XGBClassifier()),])"
   ]
  },
  {
   "cell_type": "code",
   "execution_count": 11,
   "metadata": {
    "colab": {
     "base_uri": "https://localhost:8080/",
     "height": 50
    },
    "colab_type": "code",
    "id": "lNZT-Xtcb4os",
    "outputId": "23668076-2e96-49c7-f382-861f86794f99"
   },
   "outputs": [
    {
     "name": "stdout",
     "output_type": "stream",
     "text": [
      "train_score: 0.8278688524590164\n",
      "test_score: 0.6290322580645161\n"
     ]
    },
    {
     "data": {
      "application/javascript": [
       "\n",
       "            setTimeout(function() {\n",
       "                var nbb_cell_id = 11;\n",
       "                var nbb_unformatted_code = \"pipeline['xgb'].learning_rate = 0.01\\npipeline['xgb'].max_depth = 5\\n\\npipeline.fit(X_train, y_train)\\n\\ntrain_score = pipeline.score(X_train, y_train)\\ntest_score = pipeline.score(X_test, y_test)\\n\\nprint(f'train_score: {train_score}')\\nprint(f'test_score: {test_score}')\";\n",
       "                var nbb_formatted_code = \"pipeline[\\\"xgb\\\"].learning_rate = 0.01\\npipeline[\\\"xgb\\\"].max_depth = 5\\n\\npipeline.fit(X_train, y_train)\\n\\ntrain_score = pipeline.score(X_train, y_train)\\ntest_score = pipeline.score(X_test, y_test)\\n\\nprint(f\\\"train_score: {train_score}\\\")\\nprint(f\\\"test_score: {test_score}\\\")\";\n",
       "                var nbb_cells = Jupyter.notebook.get_cells();\n",
       "                for (var i = 0; i < nbb_cells.length; ++i) {\n",
       "                    if (nbb_cells[i].input_prompt_number == nbb_cell_id) {\n",
       "                        if (nbb_cells[i].get_text() == nbb_unformatted_code) {\n",
       "                             nbb_cells[i].set_text(nbb_formatted_code);\n",
       "                        }\n",
       "                        break;\n",
       "                    }\n",
       "                }\n",
       "            }, 500);\n",
       "            "
      ],
      "text/plain": [
       "<IPython.core.display.Javascript object>"
      ]
     },
     "metadata": {},
     "output_type": "display_data"
    }
   ],
   "source": [
    "pipeline[\"xgb\"].learning_rate = 0.01\n",
    "pipeline[\"xgb\"].max_depth = 5\n",
    "\n",
    "pipeline.fit(X_train, y_train)\n",
    "\n",
    "train_score = pipeline.score(X_train, y_train)\n",
    "test_score = pipeline.score(X_test, y_test)\n",
    "\n",
    "print(f\"train_score: {train_score}\")\n",
    "print(f\"test_score: {test_score}\")"
   ]
  },
  {
   "cell_type": "markdown",
   "metadata": {
    "colab_type": "text",
    "id": "Esd0b5Bm1Y55"
   },
   "source": [
    "Print the confusion matrix for the test data. What do you notice about our predictions?"
   ]
  },
  {
   "cell_type": "code",
   "execution_count": 12,
   "metadata": {
    "colab": {
     "base_uri": "https://localhost:8080/",
     "height": 50
    },
    "colab_type": "code",
    "id": "JIvrO5T11Y56",
    "outputId": "534881c4-b9be-42b9-98b9-92987aae1717"
   },
   "outputs": [
    {
     "data": {
      "text/plain": [
       "array([[38,  8],\n",
       "       [15,  1]])"
      ]
     },
     "execution_count": 12,
     "metadata": {},
     "output_type": "execute_result"
    },
    {
     "data": {
      "application/javascript": [
       "\n",
       "            setTimeout(function() {\n",
       "                var nbb_cell_id = 12;\n",
       "                var nbb_unformatted_code = \"y_pred = pipeline.predict(X_test)\\nconfusion_matrix(y_test, y_pred)\";\n",
       "                var nbb_formatted_code = \"y_pred = pipeline.predict(X_test)\\nconfusion_matrix(y_test, y_pred)\";\n",
       "                var nbb_cells = Jupyter.notebook.get_cells();\n",
       "                for (var i = 0; i < nbb_cells.length; ++i) {\n",
       "                    if (nbb_cells[i].input_prompt_number == nbb_cell_id) {\n",
       "                        if (nbb_cells[i].get_text() == nbb_unformatted_code) {\n",
       "                             nbb_cells[i].set_text(nbb_formatted_code);\n",
       "                        }\n",
       "                        break;\n",
       "                    }\n",
       "                }\n",
       "            }, 500);\n",
       "            "
      ],
      "text/plain": [
       "<IPython.core.display.Javascript object>"
      ]
     },
     "metadata": {},
     "output_type": "display_data"
    }
   ],
   "source": [
    "y_pred = pipeline.predict(X_test)\n",
    "confusion_matrix(y_test, y_pred)"
   ]
  },
  {
   "cell_type": "code",
   "execution_count": 13,
   "metadata": {
    "colab": {
     "base_uri": "https://localhost:8080/",
     "height": 168
    },
    "colab_type": "code",
    "id": "Kr2T6LG2erCS",
    "outputId": "0b6ba233-49b6-42c8-83b8-1fd2a0e0b796"
   },
   "outputs": [
    {
     "name": "stdout",
     "output_type": "stream",
     "text": [
      "              precision    recall  f1-score   support\n",
      "\n",
      "           0       0.72      0.83      0.77        46\n",
      "           1       0.11      0.06      0.08        16\n",
      "\n",
      "    accuracy                           0.63        62\n",
      "   macro avg       0.41      0.44      0.42        62\n",
      "weighted avg       0.56      0.63      0.59        62\n",
      "\n"
     ]
    },
    {
     "data": {
      "application/javascript": [
       "\n",
       "            setTimeout(function() {\n",
       "                var nbb_cell_id = 13;\n",
       "                var nbb_unformatted_code = \"print(classification_report(y_test, y_pred))\";\n",
       "                var nbb_formatted_code = \"print(classification_report(y_test, y_pred))\";\n",
       "                var nbb_cells = Jupyter.notebook.get_cells();\n",
       "                for (var i = 0; i < nbb_cells.length; ++i) {\n",
       "                    if (nbb_cells[i].input_prompt_number == nbb_cell_id) {\n",
       "                        if (nbb_cells[i].get_text() == nbb_unformatted_code) {\n",
       "                             nbb_cells[i].set_text(nbb_formatted_code);\n",
       "                        }\n",
       "                        break;\n",
       "                    }\n",
       "                }\n",
       "            }, 500);\n",
       "            "
      ],
      "text/plain": [
       "<IPython.core.display.Javascript object>"
      ]
     },
     "metadata": {},
     "output_type": "display_data"
    }
   ],
   "source": [
    "print(classification_report(y_test, y_pred))"
   ]
  },
  {
   "cell_type": "markdown",
   "metadata": {
    "colab_type": "text",
    "id": "ovaWOAlx1Y57"
   },
   "source": [
    "Print the confusion matrix for a learning rate of 1 and a learning rate of 0.5. What do you see now that stands out to you in the confusion matrix?"
   ]
  },
  {
   "cell_type": "code",
   "execution_count": 14,
   "metadata": {
    "colab": {
     "base_uri": "https://localhost:8080/",
     "height": 50
    },
    "colab_type": "code",
    "id": "Y4XpeJr4y1wR",
    "outputId": "de4e6119-49a6-4201-8d97-e237fcdd43d8"
   },
   "outputs": [
    {
     "data": {
      "text/plain": [
       "array([[37,  9],\n",
       "       [12,  4]])"
      ]
     },
     "execution_count": 14,
     "metadata": {},
     "output_type": "execute_result"
    },
    {
     "data": {
      "application/javascript": [
       "\n",
       "            setTimeout(function() {\n",
       "                var nbb_cell_id = 14;\n",
       "                var nbb_unformatted_code = \"pipeline['xgb'].learning_rate = 1.0\\npipeline.fit(X_train, y_train)\\n\\ny_pred = pipeline.predict(X_test)\\nconfusion_matrix(y_test, y_pred)\";\n",
       "                var nbb_formatted_code = \"pipeline[\\\"xgb\\\"].learning_rate = 1.0\\npipeline.fit(X_train, y_train)\\n\\ny_pred = pipeline.predict(X_test)\\nconfusion_matrix(y_test, y_pred)\";\n",
       "                var nbb_cells = Jupyter.notebook.get_cells();\n",
       "                for (var i = 0; i < nbb_cells.length; ++i) {\n",
       "                    if (nbb_cells[i].input_prompt_number == nbb_cell_id) {\n",
       "                        if (nbb_cells[i].get_text() == nbb_unformatted_code) {\n",
       "                             nbb_cells[i].set_text(nbb_formatted_code);\n",
       "                        }\n",
       "                        break;\n",
       "                    }\n",
       "                }\n",
       "            }, 500);\n",
       "            "
      ],
      "text/plain": [
       "<IPython.core.display.Javascript object>"
      ]
     },
     "metadata": {},
     "output_type": "display_data"
    }
   ],
   "source": [
    "pipeline[\"xgb\"].learning_rate = 1.0\n",
    "pipeline.fit(X_train, y_train)\n",
    "\n",
    "y_pred = pipeline.predict(X_test)\n",
    "confusion_matrix(y_test, y_pred)"
   ]
  },
  {
   "cell_type": "code",
   "execution_count": 15,
   "metadata": {
    "colab": {
     "base_uri": "https://localhost:8080/",
     "height": 50
    },
    "colab_type": "code",
    "id": "KmDWFQ6W1Y58",
    "outputId": "9c02ee2e-eef0-4627-cb03-2bc16e4e1cbe"
   },
   "outputs": [
    {
     "data": {
      "text/plain": [
       "array([[37,  9],\n",
       "       [12,  4]])"
      ]
     },
     "execution_count": 15,
     "metadata": {},
     "output_type": "execute_result"
    },
    {
     "data": {
      "application/javascript": [
       "\n",
       "            setTimeout(function() {\n",
       "                var nbb_cell_id = 15;\n",
       "                var nbb_unformatted_code = \"pipeline['xgb'].learning_rate = 0.5\\npipeline.fit(X_train, y_train)\\n\\ny_pred = pipeline.predict(X_test)\\nconfusion_matrix(y_test, y_pred)\";\n",
       "                var nbb_formatted_code = \"pipeline[\\\"xgb\\\"].learning_rate = 0.5\\npipeline.fit(X_train, y_train)\\n\\ny_pred = pipeline.predict(X_test)\\nconfusion_matrix(y_test, y_pred)\";\n",
       "                var nbb_cells = Jupyter.notebook.get_cells();\n",
       "                for (var i = 0; i < nbb_cells.length; ++i) {\n",
       "                    if (nbb_cells[i].input_prompt_number == nbb_cell_id) {\n",
       "                        if (nbb_cells[i].get_text() == nbb_unformatted_code) {\n",
       "                             nbb_cells[i].set_text(nbb_formatted_code);\n",
       "                        }\n",
       "                        break;\n",
       "                    }\n",
       "                }\n",
       "            }, 500);\n",
       "            "
      ],
      "text/plain": [
       "<IPython.core.display.Javascript object>"
      ]
     },
     "metadata": {},
     "output_type": "display_data"
    }
   ],
   "source": [
    "pipeline[\"xgb\"].learning_rate = 0.5\n",
    "pipeline.fit(X_train, y_train)\n",
    "\n",
    "y_pred = pipeline.predict(X_test)\n",
    "confusion_matrix(y_test, y_pred)"
   ]
  },
  {
   "cell_type": "markdown",
   "metadata": {
    "colab_type": "text",
    "id": "Febdo34L1Y59"
   },
   "source": [
    "Perform a grid search for the optimal learning rate."
   ]
  },
  {
   "cell_type": "markdown",
   "metadata": {
    "colab_type": "text",
    "id": "hvTSvw6Y5JD7"
   },
   "source": [
    "Down sampling majority class (an attempt to address class imbalance)"
   ]
  },
  {
   "cell_type": "code",
   "execution_count": 16,
   "metadata": {
    "colab": {},
    "colab_type": "code",
    "id": "CHiCceLG5PAF"
   },
   "outputs": [
    {
     "data": {
      "application/javascript": [
       "\n",
       "            setTimeout(function() {\n",
       "                var nbb_cell_id = 16;\n",
       "                var nbb_unformatted_code = \"# Isolating the 2 classes predictors\\nX_train_0 = X_train[y_train == 0]\\nX_train_1 = X_train[y_train == 1]\\n\\n# Making up a limit to how many observations\\n# the majority class will have.\\n# Played with the number to end up with 1.3\\nn_0 = round(X_train_1.shape[0] * 1.2)\\nn_1 = X_train_1.shape[0]\\n\\n# Sample majority class to have less observations\\nX_train_0_sample = X_train_0.sample(n_0, replace=False, random_state=42)\\n\\n# Re-combine data (using the downsampled X for majority class)\\nX_train_downsample = pd.concat((X_train_1, X_train_0_sample))\\nX_train_downsample = X_train_downsample.reset_index(drop=True)\\n\\ny_train_downsample = np.array([1] * n_1 + [0] * n_0)\";\n",
       "                var nbb_formatted_code = \"# Isolating the 2 classes predictors\\nX_train_0 = X_train[y_train == 0]\\nX_train_1 = X_train[y_train == 1]\\n\\n# Making up a limit to how many observations\\n# the majority class will have.\\n# Played with the number to end up with 1.3\\nn_0 = round(X_train_1.shape[0] * 1.2)\\nn_1 = X_train_1.shape[0]\\n\\n# Sample majority class to have less observations\\nX_train_0_sample = X_train_0.sample(n_0, replace=False, random_state=42)\\n\\n# Re-combine data (using the downsampled X for majority class)\\nX_train_downsample = pd.concat((X_train_1, X_train_0_sample))\\nX_train_downsample = X_train_downsample.reset_index(drop=True)\\n\\ny_train_downsample = np.array([1] * n_1 + [0] * n_0)\";\n",
       "                var nbb_cells = Jupyter.notebook.get_cells();\n",
       "                for (var i = 0; i < nbb_cells.length; ++i) {\n",
       "                    if (nbb_cells[i].input_prompt_number == nbb_cell_id) {\n",
       "                        if (nbb_cells[i].get_text() == nbb_unformatted_code) {\n",
       "                             nbb_cells[i].set_text(nbb_formatted_code);\n",
       "                        }\n",
       "                        break;\n",
       "                    }\n",
       "                }\n",
       "            }, 500);\n",
       "            "
      ],
      "text/plain": [
       "<IPython.core.display.Javascript object>"
      ]
     },
     "metadata": {},
     "output_type": "display_data"
    }
   ],
   "source": [
    "# Isolating the 2 classes predictors\n",
    "X_train_0 = X_train[y_train == 0]\n",
    "X_train_1 = X_train[y_train == 1]\n",
    "\n",
    "# Making up a limit to how many observations\n",
    "# the majority class will have.\n",
    "# Played with the number to end up with 1.3\n",
    "n_0 = round(X_train_1.shape[0] * 1.2)\n",
    "n_1 = X_train_1.shape[0]\n",
    "\n",
    "# Sample majority class to have less observations\n",
    "X_train_0_sample = X_train_0.sample(n_0, replace=False, random_state=42)\n",
    "\n",
    "# Re-combine data (using the downsampled X for majority class)\n",
    "X_train_downsample = pd.concat((X_train_1, X_train_0_sample))\n",
    "X_train_downsample = X_train_downsample.reset_index(drop=True)\n",
    "\n",
    "y_train_downsample = np.array([1] * n_1 + [0] * n_0)"
   ]
  },
  {
   "cell_type": "code",
   "execution_count": 17,
   "metadata": {
    "colab": {},
    "colab_type": "code",
    "id": "byTD8bwQzYCc"
   },
   "outputs": [
    {
     "data": {
      "application/javascript": [
       "\n",
       "            setTimeout(function() {\n",
       "                var nbb_cell_id = 17;\n",
       "                var nbb_unformatted_code = \"params = {\\n    \\\"xgb__subsample\\\": [0.5, 0.75, 1.0],\\n    \\\"xgb__max_features\\\": [0.3, 0.6, 1.0],\\n    \\\"xgb__max_depth\\\": [3, 4, 5],\\n}\\n\\nn_trees = 50\\nlearning_rate = 2 / n_trees\\n\\npipeline['xgb'].n_estimators = n_trees\\npipeline['xgb'].learning_rate = learning_rate\";\n",
       "                var nbb_formatted_code = \"params = {\\n    \\\"xgb__subsample\\\": [0.5, 0.75, 1.0],\\n    \\\"xgb__max_features\\\": [0.3, 0.6, 1.0],\\n    \\\"xgb__max_depth\\\": [3, 4, 5],\\n}\\n\\nn_trees = 50\\nlearning_rate = 2 / n_trees\\n\\npipeline[\\\"xgb\\\"].n_estimators = n_trees\\npipeline[\\\"xgb\\\"].learning_rate = learning_rate\";\n",
       "                var nbb_cells = Jupyter.notebook.get_cells();\n",
       "                for (var i = 0; i < nbb_cells.length; ++i) {\n",
       "                    if (nbb_cells[i].input_prompt_number == nbb_cell_id) {\n",
       "                        if (nbb_cells[i].get_text() == nbb_unformatted_code) {\n",
       "                             nbb_cells[i].set_text(nbb_formatted_code);\n",
       "                        }\n",
       "                        break;\n",
       "                    }\n",
       "                }\n",
       "            }, 500);\n",
       "            "
      ],
      "text/plain": [
       "<IPython.core.display.Javascript object>"
      ]
     },
     "metadata": {},
     "output_type": "display_data"
    }
   ],
   "source": [
    "params = {\n",
    "    \"xgb__subsample\": [0.5, 0.75, 1.0],\n",
    "    \"xgb__max_features\": [0.3, 0.6, 1.0],\n",
    "    \"xgb__max_depth\": [3, 4, 5],\n",
    "}\n",
    "\n",
    "n_trees = 50\n",
    "learning_rate = 2 / n_trees\n",
    "\n",
    "pipeline[\"xgb\"].n_estimators = n_trees\n",
    "pipeline[\"xgb\"].learning_rate = learning_rate"
   ]
  },
  {
   "cell_type": "markdown",
   "metadata": {
    "colab_type": "text",
    "id": "Wm70fxa1jS8t"
   },
   "source": [
    "After all that, we were able to barely improve both precision and recall of the minority class by tuning."
   ]
  },
  {
   "cell_type": "code",
   "execution_count": 18,
   "metadata": {
    "colab": {
     "base_uri": "https://localhost:8080/",
     "height": 302
    },
    "colab_type": "code",
    "id": "THIm25lt1Y5-",
    "outputId": "8e751373-afac-468a-9ab9-5596eddc062b"
   },
   "outputs": [
    {
     "name": "stdout",
     "output_type": "stream",
     "text": [
      "{'xgb__max_depth': 4, 'xgb__max_features': 0.3, 'xgb__subsample': 0.5}\n",
      "\n",
      "Downsampled train score: 0.76\n",
      "Full train score: 0.80\n",
      "Test score: 0.66\n",
      "\n",
      "[[35 11]\n",
      " [10  6]]\n",
      "              precision    recall  f1-score   support\n",
      "\n",
      "           0       0.78      0.76      0.77        46\n",
      "           1       0.35      0.38      0.36        16\n",
      "\n",
      "    accuracy                           0.66        62\n",
      "   macro avg       0.57      0.57      0.57        62\n",
      "weighted avg       0.67      0.66      0.66        62\n",
      "\n"
     ]
    },
    {
     "data": {
      "application/javascript": [
       "\n",
       "            setTimeout(function() {\n",
       "                var nbb_cell_id = 18;\n",
       "                var nbb_unformatted_code = \"pipeline_cv = GridSearchCV(pipeline, params, n_jobs=-1)\\npipeline_cv.fit(X_train_downsample, y_train_downsample)\\n\\nprint(pipeline_cv.best_params_)\\n\\nprint(f'\\\\nDownsampled train score: {pipeline_cv.score(X_train_downsample, y_train_downsample):.2f}')\\nprint(f'Full train score: {pipeline_cv.score(X_train, y_train):.2f}')\\nprint(f'Test score: {pipeline_cv.score(X_test, y_test):.2f}\\\\n')\\n\\ny_pred = pipeline_cv.predict(X_test)\\n\\nprint(confusion_matrix(y_test, y_pred))\\nprint(classification_report(y_test, y_pred))\";\n",
       "                var nbb_formatted_code = \"pipeline_cv = GridSearchCV(pipeline, params, n_jobs=-1)\\npipeline_cv.fit(X_train_downsample, y_train_downsample)\\n\\nprint(pipeline_cv.best_params_)\\n\\nprint(\\n    f\\\"\\\\nDownsampled train score: {pipeline_cv.score(X_train_downsample, y_train_downsample):.2f}\\\"\\n)\\nprint(f\\\"Full train score: {pipeline_cv.score(X_train, y_train):.2f}\\\")\\nprint(f\\\"Test score: {pipeline_cv.score(X_test, y_test):.2f}\\\\n\\\")\\n\\ny_pred = pipeline_cv.predict(X_test)\\n\\nprint(confusion_matrix(y_test, y_pred))\\nprint(classification_report(y_test, y_pred))\";\n",
       "                var nbb_cells = Jupyter.notebook.get_cells();\n",
       "                for (var i = 0; i < nbb_cells.length; ++i) {\n",
       "                    if (nbb_cells[i].input_prompt_number == nbb_cell_id) {\n",
       "                        if (nbb_cells[i].get_text() == nbb_unformatted_code) {\n",
       "                             nbb_cells[i].set_text(nbb_formatted_code);\n",
       "                        }\n",
       "                        break;\n",
       "                    }\n",
       "                }\n",
       "            }, 500);\n",
       "            "
      ],
      "text/plain": [
       "<IPython.core.display.Javascript object>"
      ]
     },
     "metadata": {},
     "output_type": "display_data"
    }
   ],
   "source": [
    "pipeline_cv = GridSearchCV(pipeline, params, n_jobs=-1)\n",
    "pipeline_cv.fit(X_train_downsample, y_train_downsample)\n",
    "\n",
    "print(pipeline_cv.best_params_)\n",
    "\n",
    "print(\n",
    "    f\"\\nDownsampled train score: {pipeline_cv.score(X_train_downsample, y_train_downsample):.2f}\"\n",
    ")\n",
    "print(f\"Full train score: {pipeline_cv.score(X_train, y_train):.2f}\")\n",
    "print(f\"Test score: {pipeline_cv.score(X_test, y_test):.2f}\\n\")\n",
    "\n",
    "y_pred = pipeline_cv.predict(X_test)\n",
    "\n",
    "print(confusion_matrix(y_test, y_pred))\n",
    "print(classification_report(y_test, y_pred))"
   ]
  },
  {
   "cell_type": "markdown",
   "metadata": {
    "colab_type": "text",
    "id": "1mA0V4c-1Y5_"
   },
   "source": [
    "List the feature importances for the model with the optimal learning rate."
   ]
  },
  {
   "cell_type": "code",
   "execution_count": 19,
   "metadata": {
    "colab": {
     "base_uri": "https://localhost:8080/",
     "height": 136
    },
    "colab_type": "code",
    "id": "AtEFL3vex2zj",
    "outputId": "79dae7d4-801e-42c8-cc47-3cc2c29e3fdc"
   },
   "outputs": [
    {
     "data": {
      "text/html": [
       "<div>\n",
       "<style scoped>\n",
       "    .dataframe tbody tr th:only-of-type {\n",
       "        vertical-align: middle;\n",
       "    }\n",
       "\n",
       "    .dataframe tbody tr th {\n",
       "        vertical-align: top;\n",
       "    }\n",
       "\n",
       "    .dataframe thead th {\n",
       "        text-align: right;\n",
       "    }\n",
       "</style>\n",
       "<table border=\"1\" class=\"dataframe\">\n",
       "  <thead>\n",
       "    <tr style=\"text-align: right;\">\n",
       "      <th></th>\n",
       "      <th>feat</th>\n",
       "      <th>importance</th>\n",
       "    </tr>\n",
       "  </thead>\n",
       "  <tbody>\n",
       "    <tr>\n",
       "      <th>2</th>\n",
       "      <td>nodes</td>\n",
       "      <td>0.483304</td>\n",
       "    </tr>\n",
       "    <tr>\n",
       "      <th>0</th>\n",
       "      <td>age</td>\n",
       "      <td>0.287160</td>\n",
       "    </tr>\n",
       "    <tr>\n",
       "      <th>1</th>\n",
       "      <td>op_year</td>\n",
       "      <td>0.229536</td>\n",
       "    </tr>\n",
       "  </tbody>\n",
       "</table>\n",
       "</div>"
      ],
      "text/plain": [
       "      feat  importance\n",
       "2    nodes    0.483304\n",
       "0      age    0.287160\n",
       "1  op_year    0.229536"
      ]
     },
     "execution_count": 19,
     "metadata": {},
     "output_type": "execute_result"
    },
    {
     "data": {
      "application/javascript": [
       "\n",
       "            setTimeout(function() {\n",
       "                var nbb_cell_id = 19;\n",
       "                var nbb_unformatted_code = \"importance_df = pd.DataFrame()\\nimportance_df['feat'] = ['age', 'op_year', 'nodes']\\nimportance_df['importance'] = pipeline_cv.best_estimator_['xgb'].feature_importances_\\nimportance_df = importance_df.sort_values('importance', ascending=False)\\n\\nimportance_df\";\n",
       "                var nbb_formatted_code = \"importance_df = pd.DataFrame()\\nimportance_df[\\\"feat\\\"] = [\\\"age\\\", \\\"op_year\\\", \\\"nodes\\\"]\\nimportance_df[\\\"importance\\\"] = pipeline_cv.best_estimator_[\\\"xgb\\\"].feature_importances_\\nimportance_df = importance_df.sort_values(\\\"importance\\\", ascending=False)\\n\\nimportance_df\";\n",
       "                var nbb_cells = Jupyter.notebook.get_cells();\n",
       "                for (var i = 0; i < nbb_cells.length; ++i) {\n",
       "                    if (nbb_cells[i].input_prompt_number == nbb_cell_id) {\n",
       "                        if (nbb_cells[i].get_text() == nbb_unformatted_code) {\n",
       "                             nbb_cells[i].set_text(nbb_formatted_code);\n",
       "                        }\n",
       "                        break;\n",
       "                    }\n",
       "                }\n",
       "            }, 500);\n",
       "            "
      ],
      "text/plain": [
       "<IPython.core.display.Javascript object>"
      ]
     },
     "metadata": {},
     "output_type": "display_data"
    }
   ],
   "source": [
    "importance_df = pd.DataFrame()\n",
    "importance_df[\"feat\"] = [\"age\", \"op_year\", \"nodes\"]\n",
    "importance_df[\"importance\"] = pipeline_cv.best_estimator_[\"xgb\"].feature_importances_\n",
    "importance_df = importance_df.sort_values(\"importance\", ascending=False)\n",
    "\n",
    "importance_df"
   ]
  }
 ],
 "metadata": {
  "colab": {
   "collapsed_sections": [],
   "name": "Copy of Day 35 Lecture 1 Assignment.ipynb",
   "provenance": []
  },
  "kernelspec": {
   "display_name": "Python 3",
   "language": "python",
   "name": "python3"
  },
  "language_info": {
   "codemirror_mode": {
    "name": "ipython",
    "version": 3
   },
   "file_extension": ".py",
   "mimetype": "text/x-python",
   "name": "python",
   "nbconvert_exporter": "python",
   "pygments_lexer": "ipython3",
   "version": "3.7.7"
  }
 },
 "nbformat": 4,
 "nbformat_minor": 1
}
