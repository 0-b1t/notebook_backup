{
 "cells": [
  {
   "cell_type": "code",
   "execution_count": 1,
   "metadata": {},
   "outputs": [
    {
     "data": {
      "application/javascript": [
       "\n",
       "            setTimeout(function() {\n",
       "                var nbb_cell_id = 1;\n",
       "                var nbb_unformatted_code = \"%reload_ext nb_black\";\n",
       "                var nbb_formatted_code = \"%reload_ext nb_black\";\n",
       "                var nbb_cells = Jupyter.notebook.get_cells();\n",
       "                for (var i = 0; i < nbb_cells.length; ++i) {\n",
       "                    if (nbb_cells[i].input_prompt_number == nbb_cell_id) {\n",
       "                        if (nbb_cells[i].get_text() == nbb_unformatted_code) {\n",
       "                             nbb_cells[i].set_text(nbb_formatted_code);\n",
       "                        }\n",
       "                        break;\n",
       "                    }\n",
       "                }\n",
       "            }, 500);\n",
       "            "
      ],
      "text/plain": [
       "<IPython.core.display.Javascript object>"
      ]
     },
     "metadata": {},
     "output_type": "display_data"
    }
   ],
   "source": [
    "%reload_ext nb_black"
   ]
  },
  {
   "cell_type": "markdown",
   "metadata": {
    "colab_type": "text",
    "id": "UZ0PB7OotRiv"
   },
   "source": [
    "## Day 34 Lecture 2 Assignment\n",
    "\n",
    "In this assignment, we will learn about gradient boosting. We will use a dataset of house information in Ames, Iowa, predicting sale price."
   ]
  },
  {
   "cell_type": "code",
   "execution_count": 2,
   "metadata": {
    "colab": {
     "base_uri": "https://localhost:8080/",
     "height": 71
    },
    "colab_type": "code",
    "id": "C0UOmpNaoxY3",
    "outputId": "4e3113c4-9c88-4cfa-ebef-fe71bf8d46fe"
   },
   "outputs": [
    {
     "data": {
      "application/javascript": [
       "\n",
       "            setTimeout(function() {\n",
       "                var nbb_cell_id = 2;\n",
       "                var nbb_unformatted_code = \"import numpy as np\\nimport pandas as pd\\n\\nfrom sklearn.model_selection import train_test_split, GridSearchCV\\nfrom sklearn.compose import ColumnTransformer\\nfrom sklearn.preprocessing import StandardScaler\\nfrom sklearn.pipeline import Pipeline\\nfrom sklearn.ensemble import GradientBoostingRegressor\\n\\nfrom category_encoders import LeaveOneOutEncoder\\n\\nimport seaborn as sns\\nimport matplotlib.pyplot as plt\\n\\n%matplotlib inline\";\n",
       "                var nbb_formatted_code = \"import numpy as np\\nimport pandas as pd\\n\\nfrom sklearn.model_selection import train_test_split, GridSearchCV\\nfrom sklearn.compose import ColumnTransformer\\nfrom sklearn.preprocessing import StandardScaler\\nfrom sklearn.pipeline import Pipeline\\nfrom sklearn.ensemble import GradientBoostingRegressor\\n\\nfrom category_encoders import LeaveOneOutEncoder\\n\\nimport seaborn as sns\\nimport matplotlib.pyplot as plt\\n\\n%matplotlib inline\";\n",
       "                var nbb_cells = Jupyter.notebook.get_cells();\n",
       "                for (var i = 0; i < nbb_cells.length; ++i) {\n",
       "                    if (nbb_cells[i].input_prompt_number == nbb_cell_id) {\n",
       "                        if (nbb_cells[i].get_text() == nbb_unformatted_code) {\n",
       "                             nbb_cells[i].set_text(nbb_formatted_code);\n",
       "                        }\n",
       "                        break;\n",
       "                    }\n",
       "                }\n",
       "            }, 500);\n",
       "            "
      ],
      "text/plain": [
       "<IPython.core.display.Javascript object>"
      ]
     },
     "metadata": {},
     "output_type": "display_data"
    }
   ],
   "source": [
    "import numpy as np\n",
    "import pandas as pd\n",
    "\n",
    "from sklearn.model_selection import train_test_split, GridSearchCV\n",
    "from sklearn.compose import ColumnTransformer\n",
    "from sklearn.preprocessing import StandardScaler\n",
    "from sklearn.pipeline import Pipeline\n",
    "from sklearn.ensemble import GradientBoostingRegressor\n",
    "\n",
    "from category_encoders import LeaveOneOutEncoder\n",
    "\n",
    "import seaborn as sns\n",
    "import matplotlib.pyplot as plt\n",
    "\n",
    "%matplotlib inline"
   ]
  },
  {
   "cell_type": "code",
   "execution_count": 3,
   "metadata": {
    "colab": {
     "base_uri": "https://localhost:8080/",
     "height": 270
    },
    "colab_type": "code",
    "id": "w7Kds8QGozo9",
    "outputId": "58b472a2-9eaa-4277-b9c5-7a10e48ce6f3"
   },
   "outputs": [
    {
     "name": "stdout",
     "output_type": "stream",
     "text": [
      "(1460, 80)\n"
     ]
    },
    {
     "data": {
      "text/html": [
       "<div>\n",
       "<style scoped>\n",
       "    .dataframe tbody tr th:only-of-type {\n",
       "        vertical-align: middle;\n",
       "    }\n",
       "\n",
       "    .dataframe tbody tr th {\n",
       "        vertical-align: top;\n",
       "    }\n",
       "\n",
       "    .dataframe thead th {\n",
       "        text-align: right;\n",
       "    }\n",
       "</style>\n",
       "<table border=\"1\" class=\"dataframe\">\n",
       "  <thead>\n",
       "    <tr style=\"text-align: right;\">\n",
       "      <th></th>\n",
       "      <th>mssubclass</th>\n",
       "      <th>mszoning</th>\n",
       "      <th>lotfrontage</th>\n",
       "      <th>lotarea</th>\n",
       "      <th>street</th>\n",
       "      <th>alley</th>\n",
       "      <th>lotshape</th>\n",
       "      <th>landcontour</th>\n",
       "      <th>utilities</th>\n",
       "      <th>lotconfig</th>\n",
       "      <th>...</th>\n",
       "      <th>poolarea</th>\n",
       "      <th>poolqc</th>\n",
       "      <th>fence</th>\n",
       "      <th>miscfeature</th>\n",
       "      <th>miscval</th>\n",
       "      <th>mosold</th>\n",
       "      <th>yrsold</th>\n",
       "      <th>saletype</th>\n",
       "      <th>salecondition</th>\n",
       "      <th>saleprice</th>\n",
       "    </tr>\n",
       "  </thead>\n",
       "  <tbody>\n",
       "    <tr>\n",
       "      <th>0</th>\n",
       "      <td>60</td>\n",
       "      <td>RL</td>\n",
       "      <td>65.0</td>\n",
       "      <td>8450</td>\n",
       "      <td>Pave</td>\n",
       "      <td>NaN</td>\n",
       "      <td>Reg</td>\n",
       "      <td>Lvl</td>\n",
       "      <td>AllPub</td>\n",
       "      <td>Inside</td>\n",
       "      <td>...</td>\n",
       "      <td>0</td>\n",
       "      <td>NaN</td>\n",
       "      <td>NaN</td>\n",
       "      <td>NaN</td>\n",
       "      <td>0</td>\n",
       "      <td>2</td>\n",
       "      <td>2008</td>\n",
       "      <td>WD</td>\n",
       "      <td>Normal</td>\n",
       "      <td>208500</td>\n",
       "    </tr>\n",
       "    <tr>\n",
       "      <th>1</th>\n",
       "      <td>20</td>\n",
       "      <td>RL</td>\n",
       "      <td>80.0</td>\n",
       "      <td>9600</td>\n",
       "      <td>Pave</td>\n",
       "      <td>NaN</td>\n",
       "      <td>Reg</td>\n",
       "      <td>Lvl</td>\n",
       "      <td>AllPub</td>\n",
       "      <td>FR2</td>\n",
       "      <td>...</td>\n",
       "      <td>0</td>\n",
       "      <td>NaN</td>\n",
       "      <td>NaN</td>\n",
       "      <td>NaN</td>\n",
       "      <td>0</td>\n",
       "      <td>5</td>\n",
       "      <td>2007</td>\n",
       "      <td>WD</td>\n",
       "      <td>Normal</td>\n",
       "      <td>181500</td>\n",
       "    </tr>\n",
       "    <tr>\n",
       "      <th>2</th>\n",
       "      <td>60</td>\n",
       "      <td>RL</td>\n",
       "      <td>68.0</td>\n",
       "      <td>11250</td>\n",
       "      <td>Pave</td>\n",
       "      <td>NaN</td>\n",
       "      <td>IR1</td>\n",
       "      <td>Lvl</td>\n",
       "      <td>AllPub</td>\n",
       "      <td>Inside</td>\n",
       "      <td>...</td>\n",
       "      <td>0</td>\n",
       "      <td>NaN</td>\n",
       "      <td>NaN</td>\n",
       "      <td>NaN</td>\n",
       "      <td>0</td>\n",
       "      <td>9</td>\n",
       "      <td>2008</td>\n",
       "      <td>WD</td>\n",
       "      <td>Normal</td>\n",
       "      <td>223500</td>\n",
       "    </tr>\n",
       "    <tr>\n",
       "      <th>3</th>\n",
       "      <td>70</td>\n",
       "      <td>RL</td>\n",
       "      <td>60.0</td>\n",
       "      <td>9550</td>\n",
       "      <td>Pave</td>\n",
       "      <td>NaN</td>\n",
       "      <td>IR1</td>\n",
       "      <td>Lvl</td>\n",
       "      <td>AllPub</td>\n",
       "      <td>Corner</td>\n",
       "      <td>...</td>\n",
       "      <td>0</td>\n",
       "      <td>NaN</td>\n",
       "      <td>NaN</td>\n",
       "      <td>NaN</td>\n",
       "      <td>0</td>\n",
       "      <td>2</td>\n",
       "      <td>2006</td>\n",
       "      <td>WD</td>\n",
       "      <td>Abnorml</td>\n",
       "      <td>140000</td>\n",
       "    </tr>\n",
       "    <tr>\n",
       "      <th>4</th>\n",
       "      <td>60</td>\n",
       "      <td>RL</td>\n",
       "      <td>84.0</td>\n",
       "      <td>14260</td>\n",
       "      <td>Pave</td>\n",
       "      <td>NaN</td>\n",
       "      <td>IR1</td>\n",
       "      <td>Lvl</td>\n",
       "      <td>AllPub</td>\n",
       "      <td>FR2</td>\n",
       "      <td>...</td>\n",
       "      <td>0</td>\n",
       "      <td>NaN</td>\n",
       "      <td>NaN</td>\n",
       "      <td>NaN</td>\n",
       "      <td>0</td>\n",
       "      <td>12</td>\n",
       "      <td>2008</td>\n",
       "      <td>WD</td>\n",
       "      <td>Normal</td>\n",
       "      <td>250000</td>\n",
       "    </tr>\n",
       "  </tbody>\n",
       "</table>\n",
       "<p>5 rows × 80 columns</p>\n",
       "</div>"
      ],
      "text/plain": [
       "   mssubclass mszoning  lotfrontage  lotarea street alley lotshape  \\\n",
       "0          60       RL         65.0     8450   Pave   NaN      Reg   \n",
       "1          20       RL         80.0     9600   Pave   NaN      Reg   \n",
       "2          60       RL         68.0    11250   Pave   NaN      IR1   \n",
       "3          70       RL         60.0     9550   Pave   NaN      IR1   \n",
       "4          60       RL         84.0    14260   Pave   NaN      IR1   \n",
       "\n",
       "  landcontour utilities lotconfig  ... poolarea poolqc fence miscfeature  \\\n",
       "0         Lvl    AllPub    Inside  ...        0    NaN   NaN         NaN   \n",
       "1         Lvl    AllPub       FR2  ...        0    NaN   NaN         NaN   \n",
       "2         Lvl    AllPub    Inside  ...        0    NaN   NaN         NaN   \n",
       "3         Lvl    AllPub    Corner  ...        0    NaN   NaN         NaN   \n",
       "4         Lvl    AllPub       FR2  ...        0    NaN   NaN         NaN   \n",
       "\n",
       "  miscval mosold  yrsold  saletype  salecondition  saleprice  \n",
       "0       0      2    2008        WD         Normal     208500  \n",
       "1       0      5    2007        WD         Normal     181500  \n",
       "2       0      9    2008        WD         Normal     223500  \n",
       "3       0      2    2006        WD        Abnorml     140000  \n",
       "4       0     12    2008        WD         Normal     250000  \n",
       "\n",
       "[5 rows x 80 columns]"
      ]
     },
     "execution_count": 3,
     "metadata": {},
     "output_type": "execute_result"
    },
    {
     "data": {
      "application/javascript": [
       "\n",
       "            setTimeout(function() {\n",
       "                var nbb_cell_id = 3;\n",
       "                var nbb_unformatted_code = \"house = pd.read_csv(\\n    \\\"https://tf-assets-prod.s3.amazonaws.com/tf-curric/data-science/houseprices.csv\\\"\\n).drop(columns=\\\"id\\\")\\nprint(house.shape)\\nhouse.head()\";\n",
       "                var nbb_formatted_code = \"house = pd.read_csv(\\n    \\\"https://tf-assets-prod.s3.amazonaws.com/tf-curric/data-science/houseprices.csv\\\"\\n).drop(columns=\\\"id\\\")\\nprint(house.shape)\\nhouse.head()\";\n",
       "                var nbb_cells = Jupyter.notebook.get_cells();\n",
       "                for (var i = 0; i < nbb_cells.length; ++i) {\n",
       "                    if (nbb_cells[i].input_prompt_number == nbb_cell_id) {\n",
       "                        if (nbb_cells[i].get_text() == nbb_unformatted_code) {\n",
       "                             nbb_cells[i].set_text(nbb_formatted_code);\n",
       "                        }\n",
       "                        break;\n",
       "                    }\n",
       "                }\n",
       "            }, 500);\n",
       "            "
      ],
      "text/plain": [
       "<IPython.core.display.Javascript object>"
      ]
     },
     "metadata": {},
     "output_type": "display_data"
    }
   ],
   "source": [
    "house = pd.read_csv(\n",
    "    \"https://tf-assets-prod.s3.amazonaws.com/tf-curric/data-science/houseprices.csv\"\n",
    ").drop(columns=\"id\")\n",
    "print(house.shape)\n",
    "house.head()"
   ]
  },
  {
   "cell_type": "markdown",
   "metadata": {
    "colab_type": "text",
    "id": "kFkhcftVtgoB"
   },
   "source": [
    "Check for nulls. Remove any columns with more than 100 nulls, then drop any remaining rows with nulls after that."
   ]
  },
  {
   "cell_type": "code",
   "execution_count": 4,
   "metadata": {
    "colab": {},
    "colab_type": "code",
    "id": "1La2yiOHo-Ws"
   },
   "outputs": [
    {
     "data": {
      "application/javascript": [
       "\n",
       "            setTimeout(function() {\n",
       "                var nbb_cell_id = 4;\n",
       "                var nbb_unformatted_code = \"na_counts = house.isna().sum()\\nhi_na_counts = na_counts[na_counts > 100]\\nhi_na_count_cols = hi_na_counts.index\\n\\nhouse = house.drop(columns=hi_na_count_cols)\\nhouse = house.dropna()\";\n",
       "                var nbb_formatted_code = \"na_counts = house.isna().sum()\\nhi_na_counts = na_counts[na_counts > 100]\\nhi_na_count_cols = hi_na_counts.index\\n\\nhouse = house.drop(columns=hi_na_count_cols)\\nhouse = house.dropna()\";\n",
       "                var nbb_cells = Jupyter.notebook.get_cells();\n",
       "                for (var i = 0; i < nbb_cells.length; ++i) {\n",
       "                    if (nbb_cells[i].input_prompt_number == nbb_cell_id) {\n",
       "                        if (nbb_cells[i].get_text() == nbb_unformatted_code) {\n",
       "                             nbb_cells[i].set_text(nbb_formatted_code);\n",
       "                        }\n",
       "                        break;\n",
       "                    }\n",
       "                }\n",
       "            }, 500);\n",
       "            "
      ],
      "text/plain": [
       "<IPython.core.display.Javascript object>"
      ]
     },
     "metadata": {},
     "output_type": "display_data"
    }
   ],
   "source": [
    "na_counts = house.isna().sum()\n",
    "hi_na_counts = na_counts[na_counts > 100]\n",
    "hi_na_count_cols = hi_na_counts.index\n",
    "\n",
    "house = house.drop(columns=hi_na_count_cols)\n",
    "house = house.dropna()"
   ]
  },
  {
   "cell_type": "markdown",
   "metadata": {
    "colab_type": "text",
    "id": "L9B6bZJJ6TMj"
   },
   "source": [
    "Take a look at your outcome variable. It is highly skewed, and has a few very rare large outliers.\n",
    "\n",
    "Let's try log transforming the y variable."
   ]
  },
  {
   "cell_type": "code",
   "execution_count": 5,
   "metadata": {
    "colab": {},
    "colab_type": "code",
    "id": "hBmQkLi4t6HV"
   },
   "outputs": [
    {
     "data": {
      "image/png": "[encoded data removed]",
      "text/plain": [
       "<Figure size 432x288 with 1 Axes>"
      ]
     },
     "metadata": {
      "needs_background": "light"
     },
     "output_type": "display_data"
    },
    {
     "data": {
      "application/javascript": [
       "\n",
       "            setTimeout(function() {\n",
       "                var nbb_cell_id = 5;\n",
       "                var nbb_unformatted_code = \"sns.boxplot(\\\"saleprice\\\", data=house)\\nplt.show()\";\n",
       "                var nbb_formatted_code = \"sns.boxplot(\\\"saleprice\\\", data=house)\\nplt.show()\";\n",
       "                var nbb_cells = Jupyter.notebook.get_cells();\n",
       "                for (var i = 0; i < nbb_cells.length; ++i) {\n",
       "                    if (nbb_cells[i].input_prompt_number == nbb_cell_id) {\n",
       "                        if (nbb_cells[i].get_text() == nbb_unformatted_code) {\n",
       "                             nbb_cells[i].set_text(nbb_formatted_code);\n",
       "                        }\n",
       "                        break;\n",
       "                    }\n",
       "                }\n",
       "            }, 500);\n",
       "            "
      ],
      "text/plain": [
       "<IPython.core.display.Javascript object>"
      ]
     },
     "metadata": {},
     "output_type": "display_data"
    }
   ],
   "source": [
    "sns.boxplot(\"saleprice\", data=house)\n",
    "plt.show()"
   ]
  },
  {
   "cell_type": "code",
   "execution_count": 6,
   "metadata": {},
   "outputs": [
    {
     "data": {
      "application/javascript": [
       "\n",
       "            setTimeout(function() {\n",
       "                var nbb_cell_id = 6;\n",
       "                var nbb_unformatted_code = \"house[\\\"saleprice\\\"] = np.log(house[\\\"saleprice\\\"])\";\n",
       "                var nbb_formatted_code = \"house[\\\"saleprice\\\"] = np.log(house[\\\"saleprice\\\"])\";\n",
       "                var nbb_cells = Jupyter.notebook.get_cells();\n",
       "                for (var i = 0; i < nbb_cells.length; ++i) {\n",
       "                    if (nbb_cells[i].input_prompt_number == nbb_cell_id) {\n",
       "                        if (nbb_cells[i].get_text() == nbb_unformatted_code) {\n",
       "                             nbb_cells[i].set_text(nbb_formatted_code);\n",
       "                        }\n",
       "                        break;\n",
       "                    }\n",
       "                }\n",
       "            }, 500);\n",
       "            "
      ],
      "text/plain": [
       "<IPython.core.display.Javascript object>"
      ]
     },
     "metadata": {},
     "output_type": "display_data"
    }
   ],
   "source": [
    "house[\"saleprice\"] = np.log(house[\"saleprice\"])"
   ]
  },
  {
   "cell_type": "code",
   "execution_count": 7,
   "metadata": {},
   "outputs": [
    {
     "data": {
      "image/png": "[encoded data removed]",
      "text/plain": [
       "<Figure size 432x288 with 1 Axes>"
      ]
     },
     "metadata": {
      "needs_background": "light"
     },
     "output_type": "display_data"
    },
    {
     "data": {
      "application/javascript": [
       "\n",
       "            setTimeout(function() {\n",
       "                var nbb_cell_id = 7;\n",
       "                var nbb_unformatted_code = \"sns.boxplot(\\\"saleprice\\\", data=house)\\nplt.show()\";\n",
       "                var nbb_formatted_code = \"sns.boxplot(\\\"saleprice\\\", data=house)\\nplt.show()\";\n",
       "                var nbb_cells = Jupyter.notebook.get_cells();\n",
       "                for (var i = 0; i < nbb_cells.length; ++i) {\n",
       "                    if (nbb_cells[i].input_prompt_number == nbb_cell_id) {\n",
       "                        if (nbb_cells[i].get_text() == nbb_unformatted_code) {\n",
       "                             nbb_cells[i].set_text(nbb_formatted_code);\n",
       "                        }\n",
       "                        break;\n",
       "                    }\n",
       "                }\n",
       "            }, 500);\n",
       "            "
      ],
      "text/plain": [
       "<IPython.core.display.Javascript object>"
      ]
     },
     "metadata": {},
     "output_type": "display_data"
    }
   ],
   "source": [
    "sns.boxplot(\"saleprice\", data=house)\n",
    "plt.show()"
   ]
  },
  {
   "cell_type": "markdown",
   "metadata": {
    "colab_type": "text",
    "id": "xpuxhGGKvT_Y"
   },
   "source": [
    "We know that there are some rare large values. We can make sure that the training and test sets have about the same distribution by stratifying the train-test split.\n",
    "\n",
    "Split your training and test sets, with a test size of 0.2. Use the given helper function to stratify the continuous outcome. Remember that the outcome variable is now the **log of sale price**."
   ]
  },
  {
   "cell_type": "code",
   "execution_count": 8,
   "metadata": {
    "colab": {},
    "colab_type": "code",
    "id": "I2771hM9FLuS"
   },
   "outputs": [
    {
     "data": {
      "application/javascript": [
       "\n",
       "            setTimeout(function() {\n",
       "                var nbb_cell_id = 8;\n",
       "                var nbb_unformatted_code = \"def binned(y, num_bins=10):\\n    # Creates an object to put in the stratify keyword in train_test_split\\n    # Specify number of bins to separate your y variable\\n    ymin, ymax = y.min(), y.max()\\n    bins = np.linspace(ymin, ymax, num_bins + 1)[:-1]\\n    y_binned = np.digitize(y, bins)\\n    return y_binned\";\n",
       "                var nbb_formatted_code = \"def binned(y, num_bins=10):\\n    # Creates an object to put in the stratify keyword in train_test_split\\n    # Specify number of bins to separate your y variable\\n    ymin, ymax = y.min(), y.max()\\n    bins = np.linspace(ymin, ymax, num_bins + 1)[:-1]\\n    y_binned = np.digitize(y, bins)\\n    return y_binned\";\n",
       "                var nbb_cells = Jupyter.notebook.get_cells();\n",
       "                for (var i = 0; i < nbb_cells.length; ++i) {\n",
       "                    if (nbb_cells[i].input_prompt_number == nbb_cell_id) {\n",
       "                        if (nbb_cells[i].get_text() == nbb_unformatted_code) {\n",
       "                             nbb_cells[i].set_text(nbb_formatted_code);\n",
       "                        }\n",
       "                        break;\n",
       "                    }\n",
       "                }\n",
       "            }, 500);\n",
       "            "
      ],
      "text/plain": [
       "<IPython.core.display.Javascript object>"
      ]
     },
     "metadata": {},
     "output_type": "display_data"
    }
   ],
   "source": [
    "def binned(y, num_bins=10):\n",
    "    # Creates an object to put in the stratify keyword in train_test_split\n",
    "    # Specify number of bins to separate your y variable\n",
    "    ymin, ymax = y.min(), y.max()\n",
    "    bins = np.linspace(ymin, ymax, num_bins + 1)[:-1]\n",
    "    y_binned = np.digitize(y, bins)\n",
    "    return y_binned"
   ]
  },
  {
   "cell_type": "code",
   "execution_count": 9,
   "metadata": {},
   "outputs": [
    {
     "data": {
      "application/javascript": [
       "\n",
       "            setTimeout(function() {\n",
       "                var nbb_cell_id = 9;\n",
       "                var nbb_unformatted_code = \"X = house.drop(columns=\\\"saleprice\\\")\\ny = house[\\\"saleprice\\\"]\";\n",
       "                var nbb_formatted_code = \"X = house.drop(columns=\\\"saleprice\\\")\\ny = house[\\\"saleprice\\\"]\";\n",
       "                var nbb_cells = Jupyter.notebook.get_cells();\n",
       "                for (var i = 0; i < nbb_cells.length; ++i) {\n",
       "                    if (nbb_cells[i].input_prompt_number == nbb_cell_id) {\n",
       "                        if (nbb_cells[i].get_text() == nbb_unformatted_code) {\n",
       "                             nbb_cells[i].set_text(nbb_formatted_code);\n",
       "                        }\n",
       "                        break;\n",
       "                    }\n",
       "                }\n",
       "            }, 500);\n",
       "            "
      ],
      "text/plain": [
       "<IPython.core.display.Javascript object>"
      ]
     },
     "metadata": {},
     "output_type": "display_data"
    }
   ],
   "source": [
    "X = house.drop(columns=\"saleprice\")\n",
    "y = house[\"saleprice\"]"
   ]
  },
  {
   "cell_type": "code",
   "execution_count": 10,
   "metadata": {
    "colab": {},
    "colab_type": "code",
    "id": "mkTVsoRWp5ca"
   },
   "outputs": [
    {
     "data": {
      "application/javascript": [
       "\n",
       "            setTimeout(function() {\n",
       "                var nbb_cell_id = 10;\n",
       "                var nbb_unformatted_code = \"X_train, X_test, y_train, y_test = train_test_split(\\n    X, y, test_size=0.2, random_state=42, stratify=binned(y)\\n)\";\n",
       "                var nbb_formatted_code = \"X_train, X_test, y_train, y_test = train_test_split(\\n    X, y, test_size=0.2, random_state=42, stratify=binned(y)\\n)\";\n",
       "                var nbb_cells = Jupyter.notebook.get_cells();\n",
       "                for (var i = 0; i < nbb_cells.length; ++i) {\n",
       "                    if (nbb_cells[i].input_prompt_number == nbb_cell_id) {\n",
       "                        if (nbb_cells[i].get_text() == nbb_unformatted_code) {\n",
       "                             nbb_cells[i].set_text(nbb_formatted_code);\n",
       "                        }\n",
       "                        break;\n",
       "                    }\n",
       "                }\n",
       "            }, 500);\n",
       "            "
      ],
      "text/plain": [
       "<IPython.core.display.Javascript object>"
      ]
     },
     "metadata": {},
     "output_type": "display_data"
    }
   ],
   "source": [
    "X_train, X_test, y_train, y_test = train_test_split(\n",
    "    X, y, test_size=0.2, random_state=42, stratify=binned(y)\n",
    ")"
   ]
  },
  {
   "cell_type": "code",
   "execution_count": 11,
   "metadata": {},
   "outputs": [
    {
     "data": {
      "text/plain": [
       "Index(['mssubclass', 'lotarea', 'overallqual', 'overallcond', 'yearbuilt',\n",
       "       'yearremodadd', 'masvnrarea', 'bsmtfinsf1', 'bsmtfinsf2', 'bsmtunfsf',\n",
       "       'totalbsmtsf', 'firstflrsf', 'secondflrsf', 'lowqualfinsf', 'grlivarea',\n",
       "       'bsmtfullbath', 'bsmthalfbath', 'fullbath', 'halfbath', 'bedroomabvgr',\n",
       "       'kitchenabvgr', 'totrmsabvgrd', 'fireplaces', 'garageyrblt',\n",
       "       'garagecars', 'garagearea', 'wooddecksf', 'openporchsf',\n",
       "       'enclosedporch', 'threessnporch', 'screenporch', 'poolarea', 'miscval',\n",
       "       'mosold', 'yrsold'],\n",
       "      dtype='object')"
      ]
     },
     "execution_count": 11,
     "metadata": {},
     "output_type": "execute_result"
    },
    {
     "data": {
      "application/javascript": [
       "\n",
       "            setTimeout(function() {\n",
       "                var nbb_cell_id = 11;\n",
       "                var nbb_unformatted_code = \"X_train.select_dtypes(\\\"number\\\").columns\";\n",
       "                var nbb_formatted_code = \"X_train.select_dtypes(\\\"number\\\").columns\";\n",
       "                var nbb_cells = Jupyter.notebook.get_cells();\n",
       "                for (var i = 0; i < nbb_cells.length; ++i) {\n",
       "                    if (nbb_cells[i].input_prompt_number == nbb_cell_id) {\n",
       "                        if (nbb_cells[i].get_text() == nbb_unformatted_code) {\n",
       "                             nbb_cells[i].set_text(nbb_formatted_code);\n",
       "                        }\n",
       "                        break;\n",
       "                    }\n",
       "                }\n",
       "            }, 500);\n",
       "            "
      ],
      "text/plain": [
       "<IPython.core.display.Javascript object>"
      ]
     },
     "metadata": {},
     "output_type": "display_data"
    }
   ],
   "source": [
    "X_train.select_dtypes(\"number\").columns"
   ]
  },
  {
   "cell_type": "code",
   "execution_count": 12,
   "metadata": {},
   "outputs": [
    {
     "data": {
      "application/javascript": [
       "\n",
       "            setTimeout(function() {\n",
       "                var nbb_cell_id = 12;\n",
       "                var nbb_unformatted_code = \"# fmt: off\\ncat_cols = [\\n    \\\"mssubclass\\\", \\\"street\\\", \\\"lotshape\\\", \\\"landcontour\\\", \\\"utilities\\\",\\n    \\\"lotconfig\\\", \\\"landslope\\\", \\\"neighborhood\\\", \\\"condition1\\\", \\\"condition2\\\",\\n    \\\"bldgtype\\\", \\\"housestyle\\\", \\\"roofstyle\\\", \\\"roofmatl\\\", \\\"exterior1st\\\",\\n    \\\"exterior2nd\\\", \\\"masvnrtype\\\", \\\"exterqual\\\", \\\"extercond\\\", \\\"foundation\\\",\\n    \\\"bsmtqual\\\", \\\"bsmtcond\\\", \\\"bsmtexposure\\\", \\\"bsmtfintype1\\\", \\\"bsmtfintype2\\\",\\n    \\\"heating\\\", \\\"heatingqc\\\", \\\"centralair\\\", \\\"electrical\\\", \\\"kitchenqual\\\",\\n    \\\"functional\\\", \\\"garagetype\\\", \\\"garagefinish\\\", \\\"garagequal\\\", \\\"garagecond\\\",\\n    \\\"paveddrive\\\", \\\"saletype\\\", \\\"salecondition\\\"\\n]\\n\\nnum_cols = [\\\"lotarea\\\", \\\"overallqual\\\", \\\"overallcond\\\", \\\"yearbuilt\\\",\\n            \\\"yearremodadd\\\", \\\"masvnrarea\\\", \\\"bsmtfinsf1\\\", \\\"bsmtfinsf2\\\", \\\"bsmtunfsf\\\",\\n            \\\"totalbsmtsf\\\", \\\"firstflrsf\\\", \\\"secondflrsf\\\", \\\"lowqualfinsf\\\", \\\"grlivarea\\\",\\n            \\\"bsmtfullbath\\\", \\\"bsmthalfbath\\\", \\\"fullbath\\\", \\\"halfbath\\\", \\\"bedroomabvgr\\\",\\n            \\\"kitchenabvgr\\\", \\\"totrmsabvgrd\\\", \\\"fireplaces\\\", \\\"garageyrblt\\\",\\n            \\\"garagecars\\\", \\\"garagearea\\\", \\\"wooddecksf\\\", \\\"openporchsf\\\",\\n            \\\"enclosedporch\\\", \\\"threessnporch\\\", \\\"screenporch\\\", \\\"poolarea\\\", \\\"miscval\\\",\\n            \\\"mosold\\\", \\\"yrsold\\\"]\\n# fmt: on\";\n",
       "                var nbb_formatted_code = \"# fmt: off\\ncat_cols = [\\n    \\\"mssubclass\\\", \\\"street\\\", \\\"lotshape\\\", \\\"landcontour\\\", \\\"utilities\\\",\\n    \\\"lotconfig\\\", \\\"landslope\\\", \\\"neighborhood\\\", \\\"condition1\\\", \\\"condition2\\\",\\n    \\\"bldgtype\\\", \\\"housestyle\\\", \\\"roofstyle\\\", \\\"roofmatl\\\", \\\"exterior1st\\\",\\n    \\\"exterior2nd\\\", \\\"masvnrtype\\\", \\\"exterqual\\\", \\\"extercond\\\", \\\"foundation\\\",\\n    \\\"bsmtqual\\\", \\\"bsmtcond\\\", \\\"bsmtexposure\\\", \\\"bsmtfintype1\\\", \\\"bsmtfintype2\\\",\\n    \\\"heating\\\", \\\"heatingqc\\\", \\\"centralair\\\", \\\"electrical\\\", \\\"kitchenqual\\\",\\n    \\\"functional\\\", \\\"garagetype\\\", \\\"garagefinish\\\", \\\"garagequal\\\", \\\"garagecond\\\",\\n    \\\"paveddrive\\\", \\\"saletype\\\", \\\"salecondition\\\"\\n]\\n\\nnum_cols = [\\\"lotarea\\\", \\\"overallqual\\\", \\\"overallcond\\\", \\\"yearbuilt\\\",\\n            \\\"yearremodadd\\\", \\\"masvnrarea\\\", \\\"bsmtfinsf1\\\", \\\"bsmtfinsf2\\\", \\\"bsmtunfsf\\\",\\n            \\\"totalbsmtsf\\\", \\\"firstflrsf\\\", \\\"secondflrsf\\\", \\\"lowqualfinsf\\\", \\\"grlivarea\\\",\\n            \\\"bsmtfullbath\\\", \\\"bsmthalfbath\\\", \\\"fullbath\\\", \\\"halfbath\\\", \\\"bedroomabvgr\\\",\\n            \\\"kitchenabvgr\\\", \\\"totrmsabvgrd\\\", \\\"fireplaces\\\", \\\"garageyrblt\\\",\\n            \\\"garagecars\\\", \\\"garagearea\\\", \\\"wooddecksf\\\", \\\"openporchsf\\\",\\n            \\\"enclosedporch\\\", \\\"threessnporch\\\", \\\"screenporch\\\", \\\"poolarea\\\", \\\"miscval\\\",\\n            \\\"mosold\\\", \\\"yrsold\\\"]\\n# fmt: on\";\n",
       "                var nbb_cells = Jupyter.notebook.get_cells();\n",
       "                for (var i = 0; i < nbb_cells.length; ++i) {\n",
       "                    if (nbb_cells[i].input_prompt_number == nbb_cell_id) {\n",
       "                        if (nbb_cells[i].get_text() == nbb_unformatted_code) {\n",
       "                             nbb_cells[i].set_text(nbb_formatted_code);\n",
       "                        }\n",
       "                        break;\n",
       "                    }\n",
       "                }\n",
       "            }, 500);\n",
       "            "
      ],
      "text/plain": [
       "<IPython.core.display.Javascript object>"
      ]
     },
     "metadata": {},
     "output_type": "display_data"
    }
   ],
   "source": [
    "# fmt: off\n",
    "cat_cols = [\n",
    "    \"mssubclass\", \"street\", \"lotshape\", \"landcontour\", \"utilities\",\n",
    "    \"lotconfig\", \"landslope\", \"neighborhood\", \"condition1\", \"condition2\",\n",
    "    \"bldgtype\", \"housestyle\", \"roofstyle\", \"roofmatl\", \"exterior1st\",\n",
    "    \"exterior2nd\", \"masvnrtype\", \"exterqual\", \"extercond\", \"foundation\",\n",
    "    \"bsmtqual\", \"bsmtcond\", \"bsmtexposure\", \"bsmtfintype1\", \"bsmtfintype2\",\n",
    "    \"heating\", \"heatingqc\", \"centralair\", \"electrical\", \"kitchenqual\",\n",
    "    \"functional\", \"garagetype\", \"garagefinish\", \"garagequal\", \"garagecond\",\n",
    "    \"paveddrive\", \"saletype\", \"salecondition\"\n",
    "]\n",
    "\n",
    "num_cols = [\"lotarea\", \"overallqual\", \"overallcond\", \"yearbuilt\",\n",
    "            \"yearremodadd\", \"masvnrarea\", \"bsmtfinsf1\", \"bsmtfinsf2\", \"bsmtunfsf\",\n",
    "            \"totalbsmtsf\", \"firstflrsf\", \"secondflrsf\", \"lowqualfinsf\", \"grlivarea\",\n",
    "            \"bsmtfullbath\", \"bsmthalfbath\", \"fullbath\", \"halfbath\", \"bedroomabvgr\",\n",
    "            \"kitchenabvgr\", \"totrmsabvgrd\", \"fireplaces\", \"garageyrblt\",\n",
    "            \"garagecars\", \"garagearea\", \"wooddecksf\", \"openporchsf\",\n",
    "            \"enclosedporch\", \"threessnporch\", \"screenporch\", \"poolarea\", \"miscval\",\n",
    "            \"mosold\", \"yrsold\"]\n",
    "# fmt: on"
   ]
  },
  {
   "cell_type": "markdown",
   "metadata": {
    "colab_type": "text",
    "id": "ZXya_EaZvcbS"
   },
   "source": [
    "Create a Gradient Boosting Regressor model. Measure the MAE (Mean Absolute Error) for the training and testing sets."
   ]
  },
  {
   "cell_type": "code",
   "execution_count": 13,
   "metadata": {},
   "outputs": [
    {
     "data": {
      "application/javascript": [
       "\n",
       "            setTimeout(function() {\n",
       "                var nbb_cell_id = 13;\n",
       "                var nbb_unformatted_code = \"preprocessing = ColumnTransformer(\\n    [\\n        (\\\"leave_one_out_encode\\\", LeaveOneOutEncoder(), cat_cols),\\n        (\\\"scale\\\", StandardScaler(), num_cols),\\n    ]\\n)\";\n",
       "                var nbb_formatted_code = \"preprocessing = ColumnTransformer(\\n    [\\n        (\\\"leave_one_out_encode\\\", LeaveOneOutEncoder(), cat_cols),\\n        (\\\"scale\\\", StandardScaler(), num_cols),\\n    ]\\n)\";\n",
       "                var nbb_cells = Jupyter.notebook.get_cells();\n",
       "                for (var i = 0; i < nbb_cells.length; ++i) {\n",
       "                    if (nbb_cells[i].input_prompt_number == nbb_cell_id) {\n",
       "                        if (nbb_cells[i].get_text() == nbb_unformatted_code) {\n",
       "                             nbb_cells[i].set_text(nbb_formatted_code);\n",
       "                        }\n",
       "                        break;\n",
       "                    }\n",
       "                }\n",
       "            }, 500);\n",
       "            "
      ],
      "text/plain": [
       "<IPython.core.display.Javascript object>"
      ]
     },
     "metadata": {},
     "output_type": "display_data"
    }
   ],
   "source": [
    "preprocessing = ColumnTransformer(\n",
    "    [\n",
    "        (\"leave_one_out_encode\", LeaveOneOutEncoder(), cat_cols),\n",
    "        (\"scale\", StandardScaler(), num_cols),\n",
    "    ]\n",
    ")"
   ]
  },
  {
   "cell_type": "code",
   "execution_count": 14,
   "metadata": {
    "colab": {},
    "colab_type": "code",
    "id": "01CUTwn9p-WC"
   },
   "outputs": [
    {
     "data": {
      "application/javascript": [
       "\n",
       "            setTimeout(function() {\n",
       "                var nbb_cell_id = 14;\n",
       "                var nbb_unformatted_code = \"pipeline = Pipeline(\\n    [(\\\"preprocessing\\\", preprocessing), (\\\"gbtree\\\", GradientBoostingRegressor())]\\n)\";\n",
       "                var nbb_formatted_code = \"pipeline = Pipeline(\\n    [(\\\"preprocessing\\\", preprocessing), (\\\"gbtree\\\", GradientBoostingRegressor())]\\n)\";\n",
       "                var nbb_cells = Jupyter.notebook.get_cells();\n",
       "                for (var i = 0; i < nbb_cells.length; ++i) {\n",
       "                    if (nbb_cells[i].input_prompt_number == nbb_cell_id) {\n",
       "                        if (nbb_cells[i].get_text() == nbb_unformatted_code) {\n",
       "                             nbb_cells[i].set_text(nbb_formatted_code);\n",
       "                        }\n",
       "                        break;\n",
       "                    }\n",
       "                }\n",
       "            }, 500);\n",
       "            "
      ],
      "text/plain": [
       "<IPython.core.display.Javascript object>"
      ]
     },
     "metadata": {},
     "output_type": "display_data"
    }
   ],
   "source": [
    "pipeline = Pipeline(\n",
    "    [(\"preprocessing\", preprocessing), (\"gbtree\", GradientBoostingRegressor())]\n",
    ")"
   ]
  },
  {
   "cell_type": "code",
   "execution_count": 15,
   "metadata": {},
   "outputs": [
    {
     "data": {
      "text/plain": [
       "-0.003064517907918285"
      ]
     },
     "execution_count": 15,
     "metadata": {},
     "output_type": "execute_result"
    },
    {
     "data": {
      "application/javascript": [
       "\n",
       "            setTimeout(function() {\n",
       "                var nbb_cell_id = 15;\n",
       "                var nbb_unformatted_code = \"pipeline.fit(X_train, y_train)\\n\\npipeline.score(X_train, y_train)\";\n",
       "                var nbb_formatted_code = \"pipeline.fit(X_train, y_train)\\n\\npipeline.score(X_train, y_train)\";\n",
       "                var nbb_cells = Jupyter.notebook.get_cells();\n",
       "                for (var i = 0; i < nbb_cells.length; ++i) {\n",
       "                    if (nbb_cells[i].input_prompt_number == nbb_cell_id) {\n",
       "                        if (nbb_cells[i].get_text() == nbb_unformatted_code) {\n",
       "                             nbb_cells[i].set_text(nbb_formatted_code);\n",
       "                        }\n",
       "                        break;\n",
       "                    }\n",
       "                }\n",
       "            }, 500);\n",
       "            "
      ],
      "text/plain": [
       "<IPython.core.display.Javascript object>"
      ]
     },
     "metadata": {},
     "output_type": "display_data"
    }
   ],
   "source": [
    "pipeline.fit(X_train, y_train)\n",
    "\n",
    "pipeline.score(X_train, y_train)"
   ]
  },
  {
   "cell_type": "code",
   "execution_count": 16,
   "metadata": {},
   "outputs": [
    {
     "data": {
      "text/plain": [
       "-0.004384041167653452"
      ]
     },
     "execution_count": 16,
     "metadata": {},
     "output_type": "execute_result"
    },
    {
     "data": {
      "application/javascript": [
       "\n",
       "            setTimeout(function() {\n",
       "                var nbb_cell_id = 16;\n",
       "                var nbb_unformatted_code = \"pipeline.score(X_test, y_test)\";\n",
       "                var nbb_formatted_code = \"pipeline.score(X_test, y_test)\";\n",
       "                var nbb_cells = Jupyter.notebook.get_cells();\n",
       "                for (var i = 0; i < nbb_cells.length; ++i) {\n",
       "                    if (nbb_cells[i].input_prompt_number == nbb_cell_id) {\n",
       "                        if (nbb_cells[i].get_text() == nbb_unformatted_code) {\n",
       "                             nbb_cells[i].set_text(nbb_formatted_code);\n",
       "                        }\n",
       "                        break;\n",
       "                    }\n",
       "                }\n",
       "            }, 500);\n",
       "            "
      ],
      "text/plain": [
       "<IPython.core.display.Javascript object>"
      ]
     },
     "metadata": {},
     "output_type": "display_data"
    }
   ],
   "source": [
    "pipeline.score(X_test, y_test)"
   ]
  },
  {
   "cell_type": "code",
   "execution_count": 17,
   "metadata": {},
   "outputs": [
    {
     "data": {
      "text/plain": [
       "54962.51455238165"
      ]
     },
     "execution_count": 17,
     "metadata": {},
     "output_type": "execute_result"
    },
    {
     "data": {
      "application/javascript": [
       "\n",
       "            setTimeout(function() {\n",
       "                var nbb_cell_id = 17;\n",
       "                var nbb_unformatted_code = \"# MAE in dollars\\ny_pred = pipeline.predict(X_test)\\n\\nresid = np.exp(y_pred) - np.exp(y_test)\\nnp.mean(np.abs(resid))\";\n",
       "                var nbb_formatted_code = \"# MAE in dollars\\ny_pred = pipeline.predict(X_test)\\n\\nresid = np.exp(y_pred) - np.exp(y_test)\\nnp.mean(np.abs(resid))\";\n",
       "                var nbb_cells = Jupyter.notebook.get_cells();\n",
       "                for (var i = 0; i < nbb_cells.length; ++i) {\n",
       "                    if (nbb_cells[i].input_prompt_number == nbb_cell_id) {\n",
       "                        if (nbb_cells[i].get_text() == nbb_unformatted_code) {\n",
       "                             nbb_cells[i].set_text(nbb_formatted_code);\n",
       "                        }\n",
       "                        break;\n",
       "                    }\n",
       "                }\n",
       "            }, 500);\n",
       "            "
      ],
      "text/plain": [
       "<IPython.core.display.Javascript object>"
      ]
     },
     "metadata": {},
     "output_type": "display_data"
    }
   ],
   "source": [
    "# MAE in dollars\n",
    "y_pred = pipeline.predict(X_test)\n",
    "\n",
    "resid = np.exp(y_pred) - np.exp(y_test)\n",
    "np.mean(np.abs(resid))"
   ]
  },
  {
   "cell_type": "code",
   "execution_count": 18,
   "metadata": {},
   "outputs": [
    {
     "data": {
      "text/plain": [
       "54865.41259637141"
      ]
     },
     "execution_count": 18,
     "metadata": {},
     "output_type": "execute_result"
    },
    {
     "data": {
      "application/javascript": [
       "\n",
       "            setTimeout(function() {\n",
       "                var nbb_cell_id = 18;\n",
       "                var nbb_unformatted_code = \"# MAE in dollars if we just guessed the average price\\n# This is a better prediction than the untuned model\\n# thats why theres a negative R^2\\ny_pred = np.mean(y_train)\\n\\nresid = np.exp(y_pred) - np.exp(y_test)\\nnp.mean(np.abs(resid))\";\n",
       "                var nbb_formatted_code = \"# MAE in dollars if we just guessed the average price\\n# This is a better prediction than the untuned model\\n# thats why theres a negative R^2\\ny_pred = np.mean(y_train)\\n\\nresid = np.exp(y_pred) - np.exp(y_test)\\nnp.mean(np.abs(resid))\";\n",
       "                var nbb_cells = Jupyter.notebook.get_cells();\n",
       "                for (var i = 0; i < nbb_cells.length; ++i) {\n",
       "                    if (nbb_cells[i].input_prompt_number == nbb_cell_id) {\n",
       "                        if (nbb_cells[i].get_text() == nbb_unformatted_code) {\n",
       "                             nbb_cells[i].set_text(nbb_formatted_code);\n",
       "                        }\n",
       "                        break;\n",
       "                    }\n",
       "                }\n",
       "            }, 500);\n",
       "            "
      ],
      "text/plain": [
       "<IPython.core.display.Javascript object>"
      ]
     },
     "metadata": {},
     "output_type": "display_data"
    }
   ],
   "source": [
    "# MAE in dollars if we just guessed the average price\n",
    "# This is a better prediction than the untuned model\n",
    "# thats why theres a negative R^2\n",
    "y_pred = np.mean(y_train)\n",
    "\n",
    "resid = np.exp(y_pred) - np.exp(y_test)\n",
    "np.mean(np.abs(resid))"
   ]
  },
  {
   "cell_type": "markdown",
   "metadata": {
    "colab_type": "text",
    "id": "plksTuo0zvpp"
   },
   "source": [
    "Create a grid search. Try varying subsample, learning rate, and max features. Use MAE as your scoring metric."
   ]
  },
  {
   "cell_type": "code",
   "execution_count": 19,
   "metadata": {
    "colab": {},
    "colab_type": "code",
    "id": "X24FBB0ZwCju"
   },
   "outputs": [
    {
     "name": "stdout",
     "output_type": "stream",
     "text": [
      "Fitting 2 folds for each of 108 candidates, totalling 216 fits\n"
     ]
    },
    {
     "name": "stderr",
     "output_type": "stream",
     "text": [
      "[Parallel(n_jobs=-1)]: Using backend LokyBackend with 8 concurrent workers.\n",
      "[Parallel(n_jobs=-1)]: Done  34 tasks      | elapsed:    9.4s\n",
      "[Parallel(n_jobs=-1)]: Done 184 tasks      | elapsed:   39.4s\n",
      "[Parallel(n_jobs=-1)]: Done 216 out of 216 | elapsed:   45.7s finished\n"
     ]
    },
    {
     "data": {
      "text/plain": [
       "{'gbtree__learning_rate': 0.5,\n",
       " 'gbtree__max_depth': 3,\n",
       " 'gbtree__max_features': 0.5,\n",
       " 'gbtree__n_estimators': 100,\n",
       " 'gbtree__subsample': 0.7}"
      ]
     },
     "execution_count": 19,
     "metadata": {},
     "output_type": "execute_result"
    },
    {
     "data": {
      "application/javascript": [
       "\n",
       "            setTimeout(function() {\n",
       "                var nbb_cell_id = 19;\n",
       "                var nbb_unformatted_code = \"grid = {\\n    \\\"gbtree__learning_rate\\\": [0.01, 0.1, 0.5],\\n    \\\"gbtree__n_estimators\\\": [50, 100, 150],\\n    \\\"gbtree__max_features\\\": [0.5, 0.7, 0.9],\\n    \\\"gbtree__subsample\\\": [0.7, 0.9],\\n    \\\"gbtree__max_depth\\\": [3, 5],\\n}\\n\\npipeline_cv = GridSearchCV(pipeline, grid, verbose=1, cv=2, n_jobs=-1)\\npipeline_cv.fit(X_train, y_train)\\n\\npipeline_cv.best_params_\";\n",
       "                var nbb_formatted_code = \"grid = {\\n    \\\"gbtree__learning_rate\\\": [0.01, 0.1, 0.5],\\n    \\\"gbtree__n_estimators\\\": [50, 100, 150],\\n    \\\"gbtree__max_features\\\": [0.5, 0.7, 0.9],\\n    \\\"gbtree__subsample\\\": [0.7, 0.9],\\n    \\\"gbtree__max_depth\\\": [3, 5],\\n}\\n\\npipeline_cv = GridSearchCV(pipeline, grid, verbose=1, cv=2, n_jobs=-1)\\npipeline_cv.fit(X_train, y_train)\\n\\npipeline_cv.best_params_\";\n",
       "                var nbb_cells = Jupyter.notebook.get_cells();\n",
       "                for (var i = 0; i < nbb_cells.length; ++i) {\n",
       "                    if (nbb_cells[i].input_prompt_number == nbb_cell_id) {\n",
       "                        if (nbb_cells[i].get_text() == nbb_unformatted_code) {\n",
       "                             nbb_cells[i].set_text(nbb_formatted_code);\n",
       "                        }\n",
       "                        break;\n",
       "                    }\n",
       "                }\n",
       "            }, 500);\n",
       "            "
      ],
      "text/plain": [
       "<IPython.core.display.Javascript object>"
      ]
     },
     "metadata": {},
     "output_type": "display_data"
    }
   ],
   "source": [
    "grid = {\n",
    "    \"gbtree__learning_rate\": [0.01, 0.1, 0.5],\n",
    "    \"gbtree__n_estimators\": [50, 100, 150],\n",
    "    \"gbtree__max_features\": [0.5, 0.7, 0.9],\n",
    "    \"gbtree__subsample\": [0.7, 0.9],\n",
    "    \"gbtree__max_depth\": [3, 5],\n",
    "}\n",
    "\n",
    "pipeline_cv = GridSearchCV(pipeline, grid, verbose=1, cv=2, n_jobs=-1)\n",
    "pipeline_cv.fit(X_train, y_train)\n",
    "\n",
    "pipeline_cv.best_params_"
   ]
  },
  {
   "cell_type": "code",
   "execution_count": 20,
   "metadata": {},
   "outputs": [
    {
     "data": {
      "text/plain": [
       "-0.0181970805222349"
      ]
     },
     "execution_count": 20,
     "metadata": {},
     "output_type": "execute_result"
    },
    {
     "data": {
      "application/javascript": [
       "\n",
       "            setTimeout(function() {\n",
       "                var nbb_cell_id = 20;\n",
       "                var nbb_unformatted_code = \"pipeline_cv.score(X_train, y_train)\";\n",
       "                var nbb_formatted_code = \"pipeline_cv.score(X_train, y_train)\";\n",
       "                var nbb_cells = Jupyter.notebook.get_cells();\n",
       "                for (var i = 0; i < nbb_cells.length; ++i) {\n",
       "                    if (nbb_cells[i].input_prompt_number == nbb_cell_id) {\n",
       "                        if (nbb_cells[i].get_text() == nbb_unformatted_code) {\n",
       "                             nbb_cells[i].set_text(nbb_formatted_code);\n",
       "                        }\n",
       "                        break;\n",
       "                    }\n",
       "                }\n",
       "            }, 500);\n",
       "            "
      ],
      "text/plain": [
       "<IPython.core.display.Javascript object>"
      ]
     },
     "metadata": {},
     "output_type": "display_data"
    }
   ],
   "source": [
    "pipeline_cv.score(X_train, y_train)"
   ]
  },
  {
   "cell_type": "code",
   "execution_count": 21,
   "metadata": {},
   "outputs": [
    {
     "data": {
      "text/plain": [
       "-0.010824020079087227"
      ]
     },
     "execution_count": 21,
     "metadata": {},
     "output_type": "execute_result"
    },
    {
     "data": {
      "application/javascript": [
       "\n",
       "            setTimeout(function() {\n",
       "                var nbb_cell_id = 21;\n",
       "                var nbb_unformatted_code = \"pipeline_cv.score(X_test, y_test)\";\n",
       "                var nbb_formatted_code = \"pipeline_cv.score(X_test, y_test)\";\n",
       "                var nbb_cells = Jupyter.notebook.get_cells();\n",
       "                for (var i = 0; i < nbb_cells.length; ++i) {\n",
       "                    if (nbb_cells[i].input_prompt_number == nbb_cell_id) {\n",
       "                        if (nbb_cells[i].get_text() == nbb_unformatted_code) {\n",
       "                             nbb_cells[i].set_text(nbb_formatted_code);\n",
       "                        }\n",
       "                        break;\n",
       "                    }\n",
       "                }\n",
       "            }, 500);\n",
       "            "
      ],
      "text/plain": [
       "<IPython.core.display.Javascript object>"
      ]
     },
     "metadata": {},
     "output_type": "display_data"
    }
   ],
   "source": [
    "pipeline_cv.score(X_test, y_test)"
   ]
  },
  {
   "cell_type": "markdown",
   "metadata": {
    "colab_type": "text",
    "id": "s-lx4vuW3rKv"
   },
   "source": [
    "Create residual plots of the training and test sets and interpret your results."
   ]
  },
  {
   "cell_type": "code",
   "execution_count": 22,
   "metadata": {},
   "outputs": [
    {
     "data": {
      "text/plain": [
       "55192.45215544249"
      ]
     },
     "execution_count": 22,
     "metadata": {},
     "output_type": "execute_result"
    },
    {
     "data": {
      "application/javascript": [
       "\n",
       "            setTimeout(function() {\n",
       "                var nbb_cell_id = 22;\n",
       "                var nbb_unformatted_code = \"# MAE in dollars\\n# Compare to MAE of predicting the average: 54865\\ny_pred = pipeline_cv.predict(X_test)\\n\\nresid = np.exp(y_pred) - np.exp(y_test)\\nnp.mean(np.abs(resid))\";\n",
       "                var nbb_formatted_code = \"# MAE in dollars\\n# Compare to MAE of predicting the average: 54865\\ny_pred = pipeline_cv.predict(X_test)\\n\\nresid = np.exp(y_pred) - np.exp(y_test)\\nnp.mean(np.abs(resid))\";\n",
       "                var nbb_cells = Jupyter.notebook.get_cells();\n",
       "                for (var i = 0; i < nbb_cells.length; ++i) {\n",
       "                    if (nbb_cells[i].input_prompt_number == nbb_cell_id) {\n",
       "                        if (nbb_cells[i].get_text() == nbb_unformatted_code) {\n",
       "                             nbb_cells[i].set_text(nbb_formatted_code);\n",
       "                        }\n",
       "                        break;\n",
       "                    }\n",
       "                }\n",
       "            }, 500);\n",
       "            "
      ],
      "text/plain": [
       "<IPython.core.display.Javascript object>"
      ]
     },
     "metadata": {},
     "output_type": "display_data"
    }
   ],
   "source": [
    "# MAE in dollars\n",
    "# Compare to MAE of predicting the average: 54865\n",
    "y_pred = pipeline_cv.predict(X_test)\n",
    "\n",
    "resid = np.exp(y_pred) - np.exp(y_test)\n",
    "np.mean(np.abs(resid))"
   ]
  },
  {
   "cell_type": "code",
   "execution_count": 23,
   "metadata": {
    "colab": {},
    "colab_type": "code",
    "id": "RSdk76JfsdvX"
   },
   "outputs": [
    {
     "data": {
      "image/png": "[encoded data removed]",
      "text/plain": [
       "<Figure size 432x288 with 1 Axes>"
      ]
     },
     "metadata": {
      "needs_background": "light"
     },
     "output_type": "display_data"
    },
    {
     "data": {
      "application/javascript": [
       "\n",
       "            setTimeout(function() {\n",
       "                var nbb_cell_id = 23;\n",
       "                var nbb_unformatted_code = \"y_pred = pipeline_cv.predict(X_test)\\n\\n# Convert to dollars\\ny_true = np.exp(y_test)\\ny_pred = np.exp(y_pred)\\n\\nmn = y_true.min()\\nmx = y_true.max()\\n\\nplt.scatter(y_true, y_pred)\\nplt.plot([mn, mx], [mn, mx], \\\"--\\\", c=\\\"red\\\")\\nplt.xlabel(\\\"Actual\\\")\\nplt.ylabel(\\\"Predicted\\\")\\nplt.show()\";\n",
       "                var nbb_formatted_code = \"y_pred = pipeline_cv.predict(X_test)\\n\\n# Convert to dollars\\ny_true = np.exp(y_test)\\ny_pred = np.exp(y_pred)\\n\\nmn = y_true.min()\\nmx = y_true.max()\\n\\nplt.scatter(y_true, y_pred)\\nplt.plot([mn, mx], [mn, mx], \\\"--\\\", c=\\\"red\\\")\\nplt.xlabel(\\\"Actual\\\")\\nplt.ylabel(\\\"Predicted\\\")\\nplt.show()\";\n",
       "                var nbb_cells = Jupyter.notebook.get_cells();\n",
       "                for (var i = 0; i < nbb_cells.length; ++i) {\n",
       "                    if (nbb_cells[i].input_prompt_number == nbb_cell_id) {\n",
       "                        if (nbb_cells[i].get_text() == nbb_unformatted_code) {\n",
       "                             nbb_cells[i].set_text(nbb_formatted_code);\n",
       "                        }\n",
       "                        break;\n",
       "                    }\n",
       "                }\n",
       "            }, 500);\n",
       "            "
      ],
      "text/plain": [
       "<IPython.core.display.Javascript object>"
      ]
     },
     "metadata": {},
     "output_type": "display_data"
    }
   ],
   "source": [
    "y_pred = pipeline_cv.predict(X_test)\n",
    "\n",
    "# Convert to dollars\n",
    "y_true = np.exp(y_test)\n",
    "y_pred = np.exp(y_pred)\n",
    "\n",
    "mn = y_true.min()\n",
    "mx = y_true.max()\n",
    "\n",
    "plt.scatter(y_true, y_pred)\n",
    "plt.plot([mn, mx], [mn, mx], \"--\", c=\"red\")\n",
    "plt.xlabel(\"Actual\")\n",
    "plt.ylabel(\"Predicted\")\n",
    "plt.show()"
   ]
  },
  {
   "cell_type": "markdown",
   "metadata": {},
   "source": [
    "Really poor model, more time should be spent with the features."
   ]
  }
 ],
 "metadata": {
  "colab": {
   "collapsed_sections": [],
   "name": "Day 34 Lecture 2 Assignment.ipynb",
   "provenance": []
  },
  "kernelspec": {
   "display_name": "Python 3",
   "language": "python",
   "name": "python3"
  },
  "language_info": {
   "codemirror_mode": {
    "name": "ipython",
    "version": 3
   },
   "file_extension": ".py",
   "mimetype": "text/x-python",
   "name": "python",
   "nbconvert_exporter": "python",
   "pygments_lexer": "ipython3",
   "version": "3.7.7"
  }
 },
 "nbformat": 4,
 "nbformat_minor": 1
}
