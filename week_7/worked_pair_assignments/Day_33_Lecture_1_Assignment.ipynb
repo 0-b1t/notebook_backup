{
 "cells": [
  {
   "cell_type": "code",
   "execution_count": 1,
   "metadata": {},
   "outputs": [
    {
     "data": {
      "application/javascript": [
       "\n",
       "            setTimeout(function() {\n",
       "                var nbb_cell_id = 1;\n",
       "                var nbb_unformatted_code = \"%reload_ext nb_black\";\n",
       "                var nbb_formatted_code = \"%reload_ext nb_black\";\n",
       "                var nbb_cells = Jupyter.notebook.get_cells();\n",
       "                for (var i = 0; i < nbb_cells.length; ++i) {\n",
       "                    if (nbb_cells[i].input_prompt_number == nbb_cell_id) {\n",
       "                        if (nbb_cells[i].get_text() == nbb_unformatted_code) {\n",
       "                             nbb_cells[i].set_text(nbb_formatted_code);\n",
       "                        }\n",
       "                        break;\n",
       "                    }\n",
       "                }\n",
       "            }, 500);\n",
       "            "
      ],
      "text/plain": [
       "<IPython.core.display.Javascript object>"
      ]
     },
     "metadata": {},
     "output_type": "display_data"
    }
   ],
   "source": [
    "%reload_ext nb_black"
   ]
  },
  {
   "cell_type": "markdown",
   "metadata": {
    "colab_type": "text",
    "id": "N-dUAbfgpuRb"
   },
   "source": [
    "# Linear SVC Assignment"
   ]
  },
  {
   "cell_type": "code",
   "execution_count": 2,
   "metadata": {
    "colab": {},
    "colab_type": "code",
    "id": "frNvugKHpuRd"
   },
   "outputs": [
    {
     "data": {
      "application/javascript": [
       "\n",
       "            setTimeout(function() {\n",
       "                var nbb_cell_id = 2;\n",
       "                var nbb_unformatted_code = \"import numpy as np\\nimport pandas as pd\\n\\nfrom sklearn.svm import SVC\\nfrom sklearn.preprocessing import StandardScaler\\n\\nfrom sklearn.model_selection import train_test_split, GridSearchCV\\nfrom sklearn.metrics import classification_report, confusion_matrix\\n\\nfrom sklearn.compose import ColumnTransformer\\nfrom sklearn.pipeline import Pipeline\\n\\nimport matplotlib.pyplot as plt\\n\\n%matplotlib inline\";\n",
       "                var nbb_formatted_code = \"import numpy as np\\nimport pandas as pd\\n\\nfrom sklearn.svm import SVC\\nfrom sklearn.preprocessing import StandardScaler\\n\\nfrom sklearn.model_selection import train_test_split, GridSearchCV\\nfrom sklearn.metrics import classification_report, confusion_matrix\\n\\nfrom sklearn.compose import ColumnTransformer\\nfrom sklearn.pipeline import Pipeline\\n\\nimport matplotlib.pyplot as plt\\n\\n%matplotlib inline\";\n",
       "                var nbb_cells = Jupyter.notebook.get_cells();\n",
       "                for (var i = 0; i < nbb_cells.length; ++i) {\n",
       "                    if (nbb_cells[i].input_prompt_number == nbb_cell_id) {\n",
       "                        if (nbb_cells[i].get_text() == nbb_unformatted_code) {\n",
       "                             nbb_cells[i].set_text(nbb_formatted_code);\n",
       "                        }\n",
       "                        break;\n",
       "                    }\n",
       "                }\n",
       "            }, 500);\n",
       "            "
      ],
      "text/plain": [
       "<IPython.core.display.Javascript object>"
      ]
     },
     "metadata": {},
     "output_type": "display_data"
    }
   ],
   "source": [
    "import numpy as np\n",
    "import pandas as pd\n",
    "\n",
    "from sklearn.svm import SVC\n",
    "from sklearn.preprocessing import StandardScaler\n",
    "\n",
    "from sklearn.model_selection import train_test_split, GridSearchCV\n",
    "from sklearn.metrics import classification_report, confusion_matrix\n",
    "\n",
    "from sklearn.compose import ColumnTransformer\n",
    "from sklearn.pipeline import Pipeline\n",
    "\n",
    "import matplotlib.pyplot as plt\n",
    "\n",
    "%matplotlib inline"
   ]
  },
  {
   "cell_type": "markdown",
   "metadata": {
    "colab_type": "text",
    "id": "GePJHOhaPuNE"
   },
   "source": [
    "### Import the admissions data set (admissions.csv)."
   ]
  },
  {
   "cell_type": "code",
   "execution_count": 3,
   "metadata": {
    "colab": {},
    "colab_type": "code",
    "id": "B_1e4lobpuRf"
   },
   "outputs": [
    {
     "data": {
      "text/html": [
       "<div>\n",
       "<style scoped>\n",
       "    .dataframe tbody tr th:only-of-type {\n",
       "        vertical-align: middle;\n",
       "    }\n",
       "\n",
       "    .dataframe tbody tr th {\n",
       "        vertical-align: top;\n",
       "    }\n",
       "\n",
       "    .dataframe thead th {\n",
       "        text-align: right;\n",
       "    }\n",
       "</style>\n",
       "<table border=\"1\" class=\"dataframe\">\n",
       "  <thead>\n",
       "    <tr style=\"text-align: right;\">\n",
       "      <th></th>\n",
       "      <th>GRE</th>\n",
       "      <th>TOEFL</th>\n",
       "      <th>SchoolRank</th>\n",
       "      <th>SOP</th>\n",
       "      <th>LOR</th>\n",
       "      <th>GPA</th>\n",
       "      <th>Research</th>\n",
       "      <th>Admitted</th>\n",
       "    </tr>\n",
       "  </thead>\n",
       "  <tbody>\n",
       "    <tr>\n",
       "      <th>0</th>\n",
       "      <td>337</td>\n",
       "      <td>118</td>\n",
       "      <td>4</td>\n",
       "      <td>4.5</td>\n",
       "      <td>4.5</td>\n",
       "      <td>9.65</td>\n",
       "      <td>1</td>\n",
       "      <td>1</td>\n",
       "    </tr>\n",
       "    <tr>\n",
       "      <th>1</th>\n",
       "      <td>324</td>\n",
       "      <td>107</td>\n",
       "      <td>4</td>\n",
       "      <td>4.0</td>\n",
       "      <td>4.5</td>\n",
       "      <td>8.87</td>\n",
       "      <td>1</td>\n",
       "      <td>1</td>\n",
       "    </tr>\n",
       "    <tr>\n",
       "      <th>2</th>\n",
       "      <td>316</td>\n",
       "      <td>104</td>\n",
       "      <td>3</td>\n",
       "      <td>3.0</td>\n",
       "      <td>3.5</td>\n",
       "      <td>8.00</td>\n",
       "      <td>1</td>\n",
       "      <td>1</td>\n",
       "    </tr>\n",
       "    <tr>\n",
       "      <th>3</th>\n",
       "      <td>322</td>\n",
       "      <td>110</td>\n",
       "      <td>3</td>\n",
       "      <td>3.5</td>\n",
       "      <td>2.5</td>\n",
       "      <td>8.67</td>\n",
       "      <td>1</td>\n",
       "      <td>1</td>\n",
       "    </tr>\n",
       "    <tr>\n",
       "      <th>4</th>\n",
       "      <td>314</td>\n",
       "      <td>103</td>\n",
       "      <td>2</td>\n",
       "      <td>2.0</td>\n",
       "      <td>3.0</td>\n",
       "      <td>8.21</td>\n",
       "      <td>0</td>\n",
       "      <td>0</td>\n",
       "    </tr>\n",
       "  </tbody>\n",
       "</table>\n",
       "</div>"
      ],
      "text/plain": [
       "   GRE  TOEFL  SchoolRank  SOP  LOR   GPA  Research  Admitted\n",
       "0  337    118           4  4.5  4.5  9.65         1         1\n",
       "1  324    107           4  4.0  4.5  8.87         1         1\n",
       "2  316    104           3  3.0  3.5  8.00         1         1\n",
       "3  322    110           3  3.5  2.5  8.67         1         1\n",
       "4  314    103           2  2.0  3.0  8.21         0         0"
      ]
     },
     "execution_count": 3,
     "metadata": {},
     "output_type": "execute_result"
    },
    {
     "data": {
      "application/javascript": [
       "\n",
       "            setTimeout(function() {\n",
       "                var nbb_cell_id = 3;\n",
       "                var nbb_unformatted_code = \"data = pd.read_csv(\\n    \\\"https://tf-assets-prod.s3.amazonaws.com/tf-curric/data-science/admissions.csv\\\"\\n)\\ndata.head()\";\n",
       "                var nbb_formatted_code = \"data = pd.read_csv(\\n    \\\"https://tf-assets-prod.s3.amazonaws.com/tf-curric/data-science/admissions.csv\\\"\\n)\\ndata.head()\";\n",
       "                var nbb_cells = Jupyter.notebook.get_cells();\n",
       "                for (var i = 0; i < nbb_cells.length; ++i) {\n",
       "                    if (nbb_cells[i].input_prompt_number == nbb_cell_id) {\n",
       "                        if (nbb_cells[i].get_text() == nbb_unformatted_code) {\n",
       "                             nbb_cells[i].set_text(nbb_formatted_code);\n",
       "                        }\n",
       "                        break;\n",
       "                    }\n",
       "                }\n",
       "            }, 500);\n",
       "            "
      ],
      "text/plain": [
       "<IPython.core.display.Javascript object>"
      ]
     },
     "metadata": {},
     "output_type": "display_data"
    }
   ],
   "source": [
    "data = pd.read_csv(\n",
    "    \"https://tf-assets-prod.s3.amazonaws.com/tf-curric/data-science/admissions.csv\"\n",
    ")\n",
    "data.head()"
   ]
  },
  {
   "cell_type": "code",
   "execution_count": 4,
   "metadata": {},
   "outputs": [
    {
     "data": {
      "application/javascript": [
       "\n",
       "            setTimeout(function() {\n",
       "                var nbb_cell_id = 4;\n",
       "                var nbb_unformatted_code = \"num_cols = [\\\"GRE\\\", \\\"TOEFL\\\", \\\"SchoolRank\\\", \\\"SOP\\\", \\\"LOR\\\", \\\"GPA\\\"]\\nbin_cols = [\\\"Research\\\"]\";\n",
       "                var nbb_formatted_code = \"num_cols = [\\\"GRE\\\", \\\"TOEFL\\\", \\\"SchoolRank\\\", \\\"SOP\\\", \\\"LOR\\\", \\\"GPA\\\"]\\nbin_cols = [\\\"Research\\\"]\";\n",
       "                var nbb_cells = Jupyter.notebook.get_cells();\n",
       "                for (var i = 0; i < nbb_cells.length; ++i) {\n",
       "                    if (nbb_cells[i].input_prompt_number == nbb_cell_id) {\n",
       "                        if (nbb_cells[i].get_text() == nbb_unformatted_code) {\n",
       "                             nbb_cells[i].set_text(nbb_formatted_code);\n",
       "                        }\n",
       "                        break;\n",
       "                    }\n",
       "                }\n",
       "            }, 500);\n",
       "            "
      ],
      "text/plain": [
       "<IPython.core.display.Javascript object>"
      ]
     },
     "metadata": {},
     "output_type": "display_data"
    }
   ],
   "source": [
    "num_cols = [\"GRE\", \"TOEFL\", \"SchoolRank\", \"SOP\", \"LOR\", \"GPA\"]\n",
    "bin_cols = [\"Research\"]"
   ]
  },
  {
   "cell_type": "markdown",
   "metadata": {
    "colab_type": "text",
    "id": "PqbIpTOyPuNM"
   },
   "source": [
    "### Split the data into training and test sets, with the test set comprising 30% of the data."
   ]
  },
  {
   "cell_type": "code",
   "execution_count": 5,
   "metadata": {},
   "outputs": [
    {
     "data": {
      "application/javascript": [
       "\n",
       "            setTimeout(function() {\n",
       "                var nbb_cell_id = 5;\n",
       "                var nbb_unformatted_code = \"X = data.drop(columns=\\\"Admitted\\\")\\ny = data[\\\"Admitted\\\"]\";\n",
       "                var nbb_formatted_code = \"X = data.drop(columns=\\\"Admitted\\\")\\ny = data[\\\"Admitted\\\"]\";\n",
       "                var nbb_cells = Jupyter.notebook.get_cells();\n",
       "                for (var i = 0; i < nbb_cells.length; ++i) {\n",
       "                    if (nbb_cells[i].input_prompt_number == nbb_cell_id) {\n",
       "                        if (nbb_cells[i].get_text() == nbb_unformatted_code) {\n",
       "                             nbb_cells[i].set_text(nbb_formatted_code);\n",
       "                        }\n",
       "                        break;\n",
       "                    }\n",
       "                }\n",
       "            }, 500);\n",
       "            "
      ],
      "text/plain": [
       "<IPython.core.display.Javascript object>"
      ]
     },
     "metadata": {},
     "output_type": "display_data"
    }
   ],
   "source": [
    "X = data.drop(columns=\"Admitted\")\n",
    "y = data[\"Admitted\"]"
   ]
  },
  {
   "cell_type": "code",
   "execution_count": 6,
   "metadata": {
    "colab": {},
    "colab_type": "code",
    "id": "uFiTXMGrPuNM"
   },
   "outputs": [
    {
     "data": {
      "application/javascript": [
       "\n",
       "            setTimeout(function() {\n",
       "                var nbb_cell_id = 6;\n",
       "                var nbb_unformatted_code = \"X_train, X_test, y_train, y_test = train_test_split(\\n    X, y, test_size=0.3, random_state=42\\n)\";\n",
       "                var nbb_formatted_code = \"X_train, X_test, y_train, y_test = train_test_split(\\n    X, y, test_size=0.3, random_state=42\\n)\";\n",
       "                var nbb_cells = Jupyter.notebook.get_cells();\n",
       "                for (var i = 0; i < nbb_cells.length; ++i) {\n",
       "                    if (nbb_cells[i].input_prompt_number == nbb_cell_id) {\n",
       "                        if (nbb_cells[i].get_text() == nbb_unformatted_code) {\n",
       "                             nbb_cells[i].set_text(nbb_formatted_code);\n",
       "                        }\n",
       "                        break;\n",
       "                    }\n",
       "                }\n",
       "            }, 500);\n",
       "            "
      ],
      "text/plain": [
       "<IPython.core.display.Javascript object>"
      ]
     },
     "metadata": {},
     "output_type": "display_data"
    }
   ],
   "source": [
    "X_train, X_test, y_train, y_test = train_test_split(\n",
    "    X, y, test_size=0.3, random_state=42\n",
    ")"
   ]
  },
  {
   "cell_type": "code",
   "execution_count": 7,
   "metadata": {},
   "outputs": [
    {
     "data": {
      "application/javascript": [
       "\n",
       "            setTimeout(function() {\n",
       "                var nbb_cell_id = 7;\n",
       "                var nbb_unformatted_code = \"scaler = StandardScaler()\\nscaler.fit(X_train)\\n\\nX_train = scaler.transform(X_train)\\nX_test = scaler.transform(X_test)\";\n",
       "                var nbb_formatted_code = \"scaler = StandardScaler()\\nscaler.fit(X_train)\\n\\nX_train = scaler.transform(X_train)\\nX_test = scaler.transform(X_test)\";\n",
       "                var nbb_cells = Jupyter.notebook.get_cells();\n",
       "                for (var i = 0; i < nbb_cells.length; ++i) {\n",
       "                    if (nbb_cells[i].input_prompt_number == nbb_cell_id) {\n",
       "                        if (nbb_cells[i].get_text() == nbb_unformatted_code) {\n",
       "                             nbb_cells[i].set_text(nbb_formatted_code);\n",
       "                        }\n",
       "                        break;\n",
       "                    }\n",
       "                }\n",
       "            }, 500);\n",
       "            "
      ],
      "text/plain": [
       "<IPython.core.display.Javascript object>"
      ]
     },
     "metadata": {},
     "output_type": "display_data"
    }
   ],
   "source": [
    "scaler = StandardScaler()\n",
    "scaler.fit(X_train)\n",
    "\n",
    "X_train = scaler.transform(X_train)\n",
    "X_test = scaler.transform(X_test)"
   ]
  },
  {
   "cell_type": "markdown",
   "metadata": {
    "colab_type": "text",
    "id": "P_h8WYktpuRj"
   },
   "source": [
    "### Generate an SVC model with a linear kernel. Set the regularization parameter (C) = 10. Check the score for both train and test sets. "
   ]
  },
  {
   "cell_type": "code",
   "execution_count": 8,
   "metadata": {
    "colab": {},
    "colab_type": "code",
    "id": "s7ZPqXMGpuRj"
   },
   "outputs": [
    {
     "data": {
      "text/plain": [
       "SVC(C=10, break_ties=False, cache_size=200, class_weight=None, coef0=0.0,\n",
       "    decision_function_shape='ovr', degree=3, gamma='scale', kernel='linear',\n",
       "    max_iter=-1, probability=False, random_state=None, shrinking=True,\n",
       "    tol=0.001, verbose=False)"
      ]
     },
     "execution_count": 8,
     "metadata": {},
     "output_type": "execute_result"
    },
    {
     "data": {
      "application/javascript": [
       "\n",
       "            setTimeout(function() {\n",
       "                var nbb_cell_id = 8;\n",
       "                var nbb_unformatted_code = \"model = SVC(C=10, kernel=\\\"linear\\\")\\nmodel.fit(X_train, y_train)\";\n",
       "                var nbb_formatted_code = \"model = SVC(C=10, kernel=\\\"linear\\\")\\nmodel.fit(X_train, y_train)\";\n",
       "                var nbb_cells = Jupyter.notebook.get_cells();\n",
       "                for (var i = 0; i < nbb_cells.length; ++i) {\n",
       "                    if (nbb_cells[i].input_prompt_number == nbb_cell_id) {\n",
       "                        if (nbb_cells[i].get_text() == nbb_unformatted_code) {\n",
       "                             nbb_cells[i].set_text(nbb_formatted_code);\n",
       "                        }\n",
       "                        break;\n",
       "                    }\n",
       "                }\n",
       "            }, 500);\n",
       "            "
      ],
      "text/plain": [
       "<IPython.core.display.Javascript object>"
      ]
     },
     "metadata": {},
     "output_type": "display_data"
    }
   ],
   "source": [
    "model = SVC(C=10, kernel=\"linear\")\n",
    "model.fit(X_train, y_train)"
   ]
  },
  {
   "cell_type": "code",
   "execution_count": 9,
   "metadata": {},
   "outputs": [
    {
     "name": "stdout",
     "output_type": "stream",
     "text": [
      "Train score: 0.88\n",
      "Test score: 0.87\n"
     ]
    },
    {
     "data": {
      "application/javascript": [
       "\n",
       "            setTimeout(function() {\n",
       "                var nbb_cell_id = 9;\n",
       "                var nbb_unformatted_code = \"train_score = model.score(X_train, y_train)\\ntest_score = model.score(X_test, y_test)\\n\\nprint(f\\\"Train score: {train_score:.2f}\\\")\\nprint(f\\\"Test score: {test_score:.2f}\\\")\";\n",
       "                var nbb_formatted_code = \"train_score = model.score(X_train, y_train)\\ntest_score = model.score(X_test, y_test)\\n\\nprint(f\\\"Train score: {train_score:.2f}\\\")\\nprint(f\\\"Test score: {test_score:.2f}\\\")\";\n",
       "                var nbb_cells = Jupyter.notebook.get_cells();\n",
       "                for (var i = 0; i < nbb_cells.length; ++i) {\n",
       "                    if (nbb_cells[i].input_prompt_number == nbb_cell_id) {\n",
       "                        if (nbb_cells[i].get_text() == nbb_unformatted_code) {\n",
       "                             nbb_cells[i].set_text(nbb_formatted_code);\n",
       "                        }\n",
       "                        break;\n",
       "                    }\n",
       "                }\n",
       "            }, 500);\n",
       "            "
      ],
      "text/plain": [
       "<IPython.core.display.Javascript object>"
      ]
     },
     "metadata": {},
     "output_type": "display_data"
    }
   ],
   "source": [
    "train_score = model.score(X_train, y_train)\n",
    "test_score = model.score(X_test, y_test)\n",
    "\n",
    "print(f\"Train score: {train_score:.2f}\")\n",
    "print(f\"Test score: {test_score:.2f}\")"
   ]
  },
  {
   "cell_type": "markdown",
   "metadata": {
    "colab_type": "text",
    "id": "ahsyvz1LpuRn"
   },
   "source": [
    "### Choose some other values for C and show the difference between the scores for the train and test sets."
   ]
  },
  {
   "cell_type": "code",
   "execution_count": 10,
   "metadata": {},
   "outputs": [
    {
     "name": "stdout",
     "output_type": "stream",
     "text": [
      "Train score: 0.68\n",
      "Test score: 0.62\n"
     ]
    },
    {
     "data": {
      "application/javascript": [
       "\n",
       "            setTimeout(function() {\n",
       "                var nbb_cell_id = 10;\n",
       "                var nbb_unformatted_code = \"model = SVC(C=0.001, kernel=\\\"linear\\\")\\nmodel.fit(X_train, y_train)\\n\\n\\ntrain_score = model.score(X_train, y_train)\\ntest_score = model.score(X_test, y_test)\\n\\nprint(f\\\"Train score: {train_score:.2f}\\\")\\nprint(f\\\"Test score: {test_score:.2f}\\\")\";\n",
       "                var nbb_formatted_code = \"model = SVC(C=0.001, kernel=\\\"linear\\\")\\nmodel.fit(X_train, y_train)\\n\\n\\ntrain_score = model.score(X_train, y_train)\\ntest_score = model.score(X_test, y_test)\\n\\nprint(f\\\"Train score: {train_score:.2f}\\\")\\nprint(f\\\"Test score: {test_score:.2f}\\\")\";\n",
       "                var nbb_cells = Jupyter.notebook.get_cells();\n",
       "                for (var i = 0; i < nbb_cells.length; ++i) {\n",
       "                    if (nbb_cells[i].input_prompt_number == nbb_cell_id) {\n",
       "                        if (nbb_cells[i].get_text() == nbb_unformatted_code) {\n",
       "                             nbb_cells[i].set_text(nbb_formatted_code);\n",
       "                        }\n",
       "                        break;\n",
       "                    }\n",
       "                }\n",
       "            }, 500);\n",
       "            "
      ],
      "text/plain": [
       "<IPython.core.display.Javascript object>"
      ]
     },
     "metadata": {},
     "output_type": "display_data"
    }
   ],
   "source": [
    "model = SVC(C=0.001, kernel=\"linear\")\n",
    "model.fit(X_train, y_train)\n",
    "\n",
    "\n",
    "train_score = model.score(X_train, y_train)\n",
    "test_score = model.score(X_test, y_test)\n",
    "\n",
    "print(f\"Train score: {train_score:.2f}\")\n",
    "print(f\"Test score: {test_score:.2f}\")"
   ]
  },
  {
   "cell_type": "code",
   "execution_count": 11,
   "metadata": {
    "colab": {},
    "colab_type": "code",
    "id": "tE_-fqFcpuRo"
   },
   "outputs": [
    {
     "name": "stdout",
     "output_type": "stream",
     "text": [
      "Train score: 0.88\n",
      "Test score: 0.87\n"
     ]
    },
    {
     "data": {
      "application/javascript": [
       "\n",
       "            setTimeout(function() {\n",
       "                var nbb_cell_id = 11;\n",
       "                var nbb_unformatted_code = \"model = SVC(C=1000, kernel=\\\"linear\\\")\\nmodel.fit(X_train, y_train)\\n\\n\\ntrain_score = model.score(X_train, y_train)\\ntest_score = model.score(X_test, y_test)\\n\\nprint(f\\\"Train score: {train_score:.2f}\\\")\\nprint(f\\\"Test score: {test_score:.2f}\\\")\";\n",
       "                var nbb_formatted_code = \"model = SVC(C=1000, kernel=\\\"linear\\\")\\nmodel.fit(X_train, y_train)\\n\\n\\ntrain_score = model.score(X_train, y_train)\\ntest_score = model.score(X_test, y_test)\\n\\nprint(f\\\"Train score: {train_score:.2f}\\\")\\nprint(f\\\"Test score: {test_score:.2f}\\\")\";\n",
       "                var nbb_cells = Jupyter.notebook.get_cells();\n",
       "                for (var i = 0; i < nbb_cells.length; ++i) {\n",
       "                    if (nbb_cells[i].input_prompt_number == nbb_cell_id) {\n",
       "                        if (nbb_cells[i].get_text() == nbb_unformatted_code) {\n",
       "                             nbb_cells[i].set_text(nbb_formatted_code);\n",
       "                        }\n",
       "                        break;\n",
       "                    }\n",
       "                }\n",
       "            }, 500);\n",
       "            "
      ],
      "text/plain": [
       "<IPython.core.display.Javascript object>"
      ]
     },
     "metadata": {},
     "output_type": "display_data"
    }
   ],
   "source": [
    "model = SVC(C=1000, kernel=\"linear\")\n",
    "model.fit(X_train, y_train)\n",
    "\n",
    "\n",
    "train_score = model.score(X_train, y_train)\n",
    "test_score = model.score(X_test, y_test)\n",
    "\n",
    "print(f\"Train score: {train_score:.2f}\")\n",
    "print(f\"Test score: {test_score:.2f}\")"
   ]
  },
  {
   "cell_type": "code",
   "execution_count": 12,
   "metadata": {},
   "outputs": [
    {
     "data": {
      "image/png": "[encoded data removed]",
      "text/plain": [
       "<Figure size 432x288 with 1 Axes>"
      ]
     },
     "metadata": {
      "needs_background": "light"
     },
     "output_type": "display_data"
    },
    {
     "data": {
      "application/javascript": [
       "\n",
       "            setTimeout(function() {\n",
       "                var nbb_cell_id = 12;\n",
       "                var nbb_unformatted_code = \"# Why not visualize?\\n# fmt: off\\ncs = [0.001, 0.01, 0.1, 1.0, 10.0, 100.0, 1000.0, 10000.0, 100000.0]\\n# fmt: on\\n\\ntrain_scores = []\\ntest_scores = []\\nfor c in cs:\\n    model = SVC(C=c, kernel=\\\"linear\\\")\\n    model.fit(X_train, y_train)\\n\\n    train_score = model.score(X_train, y_train)\\n    test_score = model.score(X_test, y_test)\\n\\n    train_scores.append(train_score)\\n    test_scores.append(test_score)\\n\\n\\nplt.plot(cs, train_scores, label=\\\"Train\\\")\\nplt.plot(cs, test_scores, label=\\\"Test\\\")\\nplt.xscale(\\\"log\\\")\\nplt.xlabel(\\\"C\\\")\\nplt.ylabel(\\\"Fit SVC Accuracy\\\")\\nplt.legend()\\nplt.show()\";\n",
       "                var nbb_formatted_code = \"# Why not visualize?\\n# fmt: off\\ncs = [0.001, 0.01, 0.1, 1.0, 10.0, 100.0, 1000.0, 10000.0, 100000.0]\\n# fmt: on\\n\\ntrain_scores = []\\ntest_scores = []\\nfor c in cs:\\n    model = SVC(C=c, kernel=\\\"linear\\\")\\n    model.fit(X_train, y_train)\\n\\n    train_score = model.score(X_train, y_train)\\n    test_score = model.score(X_test, y_test)\\n\\n    train_scores.append(train_score)\\n    test_scores.append(test_score)\\n\\n\\nplt.plot(cs, train_scores, label=\\\"Train\\\")\\nplt.plot(cs, test_scores, label=\\\"Test\\\")\\nplt.xscale(\\\"log\\\")\\nplt.xlabel(\\\"C\\\")\\nplt.ylabel(\\\"Fit SVC Accuracy\\\")\\nplt.legend()\\nplt.show()\";\n",
       "                var nbb_cells = Jupyter.notebook.get_cells();\n",
       "                for (var i = 0; i < nbb_cells.length; ++i) {\n",
       "                    if (nbb_cells[i].input_prompt_number == nbb_cell_id) {\n",
       "                        if (nbb_cells[i].get_text() == nbb_unformatted_code) {\n",
       "                             nbb_cells[i].set_text(nbb_formatted_code);\n",
       "                        }\n",
       "                        break;\n",
       "                    }\n",
       "                }\n",
       "            }, 500);\n",
       "            "
      ],
      "text/plain": [
       "<IPython.core.display.Javascript object>"
      ]
     },
     "metadata": {},
     "output_type": "display_data"
    }
   ],
   "source": [
    "# Why not visualize?\n",
    "# fmt: off\n",
    "cs = [0.001, 0.01, 0.1, 1.0, 10.0, 100.0, 1000.0, 10000.0, 100000.0]\n",
    "# fmt: on\n",
    "\n",
    "train_scores = []\n",
    "test_scores = []\n",
    "for c in cs:\n",
    "    model = SVC(C=c, kernel=\"linear\")\n",
    "    model.fit(X_train, y_train)\n",
    "\n",
    "    train_score = model.score(X_train, y_train)\n",
    "    test_score = model.score(X_test, y_test)\n",
    "\n",
    "    train_scores.append(train_score)\n",
    "    test_scores.append(test_score)\n",
    "\n",
    "\n",
    "plt.plot(cs, train_scores, label=\"Train\")\n",
    "plt.plot(cs, test_scores, label=\"Test\")\n",
    "plt.xscale(\"log\")\n",
    "plt.xlabel(\"C\")\n",
    "plt.ylabel(\"Fit SVC Accuracy\")\n",
    "plt.legend()\n",
    "plt.show()"
   ]
  },
  {
   "cell_type": "markdown",
   "metadata": {
    "colab_type": "text",
    "id": "oUzyujbwpuRr"
   },
   "source": [
    "### What if we switched up the target variable? Let assume that we know whether a student was admitted. Let's try to predict what their SchoolRank was. \n",
    "\n",
    "Create an SVC model with a linear kernel with the SchoolRank field as the target variable. Report both the train and the test scores."
   ]
  },
  {
   "cell_type": "code",
   "execution_count": 13,
   "metadata": {},
   "outputs": [
    {
     "data": {
      "application/javascript": [
       "\n",
       "            setTimeout(function() {\n",
       "                var nbb_cell_id = 13;\n",
       "                var nbb_unformatted_code = \"num_cols = [\\\"GRE\\\", \\\"TOEFL\\\", \\\"SOP\\\", \\\"LOR\\\", \\\"GPA\\\"]\\nbin_cols = [\\\"Research\\\", \\\"Admitted\\\"]\";\n",
       "                var nbb_formatted_code = \"num_cols = [\\\"GRE\\\", \\\"TOEFL\\\", \\\"SOP\\\", \\\"LOR\\\", \\\"GPA\\\"]\\nbin_cols = [\\\"Research\\\", \\\"Admitted\\\"]\";\n",
       "                var nbb_cells = Jupyter.notebook.get_cells();\n",
       "                for (var i = 0; i < nbb_cells.length; ++i) {\n",
       "                    if (nbb_cells[i].input_prompt_number == nbb_cell_id) {\n",
       "                        if (nbb_cells[i].get_text() == nbb_unformatted_code) {\n",
       "                             nbb_cells[i].set_text(nbb_formatted_code);\n",
       "                        }\n",
       "                        break;\n",
       "                    }\n",
       "                }\n",
       "            }, 500);\n",
       "            "
      ],
      "text/plain": [
       "<IPython.core.display.Javascript object>"
      ]
     },
     "metadata": {},
     "output_type": "display_data"
    }
   ],
   "source": [
    "num_cols = [\"GRE\", \"TOEFL\", \"SOP\", \"LOR\", \"GPA\"]\n",
    "bin_cols = [\"Research\", \"Admitted\"]"
   ]
  },
  {
   "cell_type": "code",
   "execution_count": 14,
   "metadata": {
    "colab": {},
    "colab_type": "code",
    "id": "lKPF7TSdpuRs"
   },
   "outputs": [
    {
     "data": {
      "application/javascript": [
       "\n",
       "            setTimeout(function() {\n",
       "                var nbb_cell_id = 14;\n",
       "                var nbb_unformatted_code = \"X = data.drop(columns=\\\"SchoolRank\\\")\\ny = data[\\\"SchoolRank\\\"]\\n\\nX_train, X_test, y_train, y_test = train_test_split(\\n    X, y, test_size=0.3, random_state=42\\n)\";\n",
       "                var nbb_formatted_code = \"X = data.drop(columns=\\\"SchoolRank\\\")\\ny = data[\\\"SchoolRank\\\"]\\n\\nX_train, X_test, y_train, y_test = train_test_split(\\n    X, y, test_size=0.3, random_state=42\\n)\";\n",
       "                var nbb_cells = Jupyter.notebook.get_cells();\n",
       "                for (var i = 0; i < nbb_cells.length; ++i) {\n",
       "                    if (nbb_cells[i].input_prompt_number == nbb_cell_id) {\n",
       "                        if (nbb_cells[i].get_text() == nbb_unformatted_code) {\n",
       "                             nbb_cells[i].set_text(nbb_formatted_code);\n",
       "                        }\n",
       "                        break;\n",
       "                    }\n",
       "                }\n",
       "            }, 500);\n",
       "            "
      ],
      "text/plain": [
       "<IPython.core.display.Javascript object>"
      ]
     },
     "metadata": {},
     "output_type": "display_data"
    }
   ],
   "source": [
    "X = data.drop(columns=\"SchoolRank\")\n",
    "y = data[\"SchoolRank\"]\n",
    "\n",
    "X_train, X_test, y_train, y_test = train_test_split(\n",
    "    X, y, test_size=0.3, random_state=42\n",
    ")"
   ]
  },
  {
   "cell_type": "code",
   "execution_count": 15,
   "metadata": {},
   "outputs": [
    {
     "data": {
      "application/javascript": [
       "\n",
       "            setTimeout(function() {\n",
       "                var nbb_cell_id = 15;\n",
       "                var nbb_unformatted_code = \"preprocessing = ColumnTransformer(\\n    [(\\\"scale\\\", StandardScaler(), num_cols)], remainder=\\\"passthrough\\\"\\n)\";\n",
       "                var nbb_formatted_code = \"preprocessing = ColumnTransformer(\\n    [(\\\"scale\\\", StandardScaler(), num_cols)], remainder=\\\"passthrough\\\"\\n)\";\n",
       "                var nbb_cells = Jupyter.notebook.get_cells();\n",
       "                for (var i = 0; i < nbb_cells.length; ++i) {\n",
       "                    if (nbb_cells[i].input_prompt_number == nbb_cell_id) {\n",
       "                        if (nbb_cells[i].get_text() == nbb_unformatted_code) {\n",
       "                             nbb_cells[i].set_text(nbb_formatted_code);\n",
       "                        }\n",
       "                        break;\n",
       "                    }\n",
       "                }\n",
       "            }, 500);\n",
       "            "
      ],
      "text/plain": [
       "<IPython.core.display.Javascript object>"
      ]
     },
     "metadata": {},
     "output_type": "display_data"
    }
   ],
   "source": [
    "preprocessing = ColumnTransformer(\n",
    "    [(\"scale\", StandardScaler(), num_cols)], remainder=\"passthrough\"\n",
    ")"
   ]
  },
  {
   "cell_type": "code",
   "execution_count": 16,
   "metadata": {},
   "outputs": [
    {
     "data": {
      "application/javascript": [
       "\n",
       "            setTimeout(function() {\n",
       "                var nbb_cell_id = 16;\n",
       "                var nbb_unformatted_code = \"pipeline = Pipeline([(\\\"preprocessing\\\", preprocessing), (\\\"svm\\\", SVC(kernel=\\\"linear\\\"))])\";\n",
       "                var nbb_formatted_code = \"pipeline = Pipeline([(\\\"preprocessing\\\", preprocessing), (\\\"svm\\\", SVC(kernel=\\\"linear\\\"))])\";\n",
       "                var nbb_cells = Jupyter.notebook.get_cells();\n",
       "                for (var i = 0; i < nbb_cells.length; ++i) {\n",
       "                    if (nbb_cells[i].input_prompt_number == nbb_cell_id) {\n",
       "                        if (nbb_cells[i].get_text() == nbb_unformatted_code) {\n",
       "                             nbb_cells[i].set_text(nbb_formatted_code);\n",
       "                        }\n",
       "                        break;\n",
       "                    }\n",
       "                }\n",
       "            }, 500);\n",
       "            "
      ],
      "text/plain": [
       "<IPython.core.display.Javascript object>"
      ]
     },
     "metadata": {},
     "output_type": "display_data"
    }
   ],
   "source": [
    "pipeline = Pipeline([(\"preprocessing\", preprocessing), (\"svm\", SVC(kernel=\"linear\"))])"
   ]
  },
  {
   "cell_type": "code",
   "execution_count": 17,
   "metadata": {},
   "outputs": [
    {
     "data": {
      "text/plain": [
       "{'svm__C': 0.1}"
      ]
     },
     "execution_count": 17,
     "metadata": {},
     "output_type": "execute_result"
    },
    {
     "data": {
      "application/javascript": [
       "\n",
       "            setTimeout(function() {\n",
       "                var nbb_cell_id = 17;\n",
       "                var nbb_unformatted_code = \"grid = {\\\"svm__C\\\": [0.001, 0.01, 0.1, 1, 10, 100, 1000]}\\n\\npipeline_cv = GridSearchCV(pipeline, grid,)\\npipeline_cv.fit(X_train, y_train)\\n\\npipeline_cv.best_params_\";\n",
       "                var nbb_formatted_code = \"grid = {\\\"svm__C\\\": [0.001, 0.01, 0.1, 1, 10, 100, 1000]}\\n\\npipeline_cv = GridSearchCV(pipeline, grid,)\\npipeline_cv.fit(X_train, y_train)\\n\\npipeline_cv.best_params_\";\n",
       "                var nbb_cells = Jupyter.notebook.get_cells();\n",
       "                for (var i = 0; i < nbb_cells.length; ++i) {\n",
       "                    if (nbb_cells[i].input_prompt_number == nbb_cell_id) {\n",
       "                        if (nbb_cells[i].get_text() == nbb_unformatted_code) {\n",
       "                             nbb_cells[i].set_text(nbb_formatted_code);\n",
       "                        }\n",
       "                        break;\n",
       "                    }\n",
       "                }\n",
       "            }, 500);\n",
       "            "
      ],
      "text/plain": [
       "<IPython.core.display.Javascript object>"
      ]
     },
     "metadata": {},
     "output_type": "display_data"
    }
   ],
   "source": [
    "grid = {\"svm__C\": [0.001, 0.01, 0.1, 1, 10, 100, 1000]}\n",
    "\n",
    "pipeline_cv = GridSearchCV(pipeline, grid,)\n",
    "pipeline_cv.fit(X_train, y_train)\n",
    "\n",
    "pipeline_cv.best_params_"
   ]
  },
  {
   "cell_type": "code",
   "execution_count": 18,
   "metadata": {},
   "outputs": [
    {
     "name": "stdout",
     "output_type": "stream",
     "text": [
      "Train score: 0.59\n",
      "Test score: 0.61\n"
     ]
    },
    {
     "data": {
      "application/javascript": [
       "\n",
       "            setTimeout(function() {\n",
       "                var nbb_cell_id = 18;\n",
       "                var nbb_unformatted_code = \"train_score = pipeline_cv.score(X_train, y_train)\\ntest_score = pipeline_cv.score(X_test, y_test)\\n\\nprint(f\\\"Train score: {train_score:.2f}\\\")\\nprint(f\\\"Test score: {test_score:.2f}\\\")\";\n",
       "                var nbb_formatted_code = \"train_score = pipeline_cv.score(X_train, y_train)\\ntest_score = pipeline_cv.score(X_test, y_test)\\n\\nprint(f\\\"Train score: {train_score:.2f}\\\")\\nprint(f\\\"Test score: {test_score:.2f}\\\")\";\n",
       "                var nbb_cells = Jupyter.notebook.get_cells();\n",
       "                for (var i = 0; i < nbb_cells.length; ++i) {\n",
       "                    if (nbb_cells[i].input_prompt_number == nbb_cell_id) {\n",
       "                        if (nbb_cells[i].get_text() == nbb_unformatted_code) {\n",
       "                             nbb_cells[i].set_text(nbb_formatted_code);\n",
       "                        }\n",
       "                        break;\n",
       "                    }\n",
       "                }\n",
       "            }, 500);\n",
       "            "
      ],
      "text/plain": [
       "<IPython.core.display.Javascript object>"
      ]
     },
     "metadata": {},
     "output_type": "display_data"
    }
   ],
   "source": [
    "train_score = pipeline_cv.score(X_train, y_train)\n",
    "test_score = pipeline_cv.score(X_test, y_test)\n",
    "\n",
    "print(f\"Train score: {train_score:.2f}\")\n",
    "print(f\"Test score: {test_score:.2f}\")"
   ]
  },
  {
   "cell_type": "markdown",
   "metadata": {
    "colab_type": "text",
    "id": "EQKgbtUm4psY"
   },
   "source": [
    "### Show confusion matrices for the training and test sets, and a classification report for the test set. What trends do you notice?"
   ]
  },
  {
   "cell_type": "code",
   "execution_count": 19,
   "metadata": {},
   "outputs": [
    {
     "data": {
      "application/javascript": [
       "\n",
       "            setTimeout(function() {\n",
       "                var nbb_cell_id = 19;\n",
       "                var nbb_unformatted_code = \"# We're actually not performing too poorly.  Most of our mistakes are 1 off from the\\n# right answer (we never mistook a 5 for a 1 or a 1 for a 5).  Associating a cost\\n# with each type of mistake could help further clarify perfomance.\";\n",
       "                var nbb_formatted_code = \"# We're actually not performing too poorly.  Most of our mistakes are 1 off from the\\n# right answer (we never mistook a 5 for a 1 or a 1 for a 5).  Associating a cost\\n# with each type of mistake could help further clarify perfomance.\";\n",
       "                var nbb_cells = Jupyter.notebook.get_cells();\n",
       "                for (var i = 0; i < nbb_cells.length; ++i) {\n",
       "                    if (nbb_cells[i].input_prompt_number == nbb_cell_id) {\n",
       "                        if (nbb_cells[i].get_text() == nbb_unformatted_code) {\n",
       "                             nbb_cells[i].set_text(nbb_formatted_code);\n",
       "                        }\n",
       "                        break;\n",
       "                    }\n",
       "                }\n",
       "            }, 500);\n",
       "            "
      ],
      "text/plain": [
       "<IPython.core.display.Javascript object>"
      ]
     },
     "metadata": {},
     "output_type": "display_data"
    }
   ],
   "source": [
    "# We're actually not performing too poorly.  Most of our mistakes are 1 off from the\n",
    "# right answer (we never mistook a 5 for a 1 or a 1 for a 5).  Associating a cost\n",
    "# with each type of mistake could help further clarify perfomance."
   ]
  },
  {
   "cell_type": "code",
   "execution_count": 20,
   "metadata": {
    "colab": {},
    "colab_type": "code",
    "id": "rBSLoqCSpuRt"
   },
   "outputs": [
    {
     "data": {
      "application/javascript": [
       "\n",
       "            setTimeout(function() {\n",
       "                var nbb_cell_id = 20;\n",
       "                var nbb_unformatted_code = \"y_pred = pipeline_cv.predict(X_test)\";\n",
       "                var nbb_formatted_code = \"y_pred = pipeline_cv.predict(X_test)\";\n",
       "                var nbb_cells = Jupyter.notebook.get_cells();\n",
       "                for (var i = 0; i < nbb_cells.length; ++i) {\n",
       "                    if (nbb_cells[i].input_prompt_number == nbb_cell_id) {\n",
       "                        if (nbb_cells[i].get_text() == nbb_unformatted_code) {\n",
       "                             nbb_cells[i].set_text(nbb_formatted_code);\n",
       "                        }\n",
       "                        break;\n",
       "                    }\n",
       "                }\n",
       "            }, 500);\n",
       "            "
      ],
      "text/plain": [
       "<IPython.core.display.Javascript object>"
      ]
     },
     "metadata": {},
     "output_type": "display_data"
    }
   ],
   "source": [
    "y_pred = pipeline_cv.predict(X_test)"
   ]
  },
  {
   "cell_type": "code",
   "execution_count": 21,
   "metadata": {},
   "outputs": [
    {
     "data": {
      "application/javascript": [
       "\n",
       "            setTimeout(function() {\n",
       "                var nbb_cell_id = 21;\n",
       "                var nbb_unformatted_code = \"# [f\\\"Actually Rank {r}\\\" for r in sorted(y.unique())]\\n# [f\\\"Predicted Rank {r}\\\" for r in sorted(y.unique())]\";\n",
       "                var nbb_formatted_code = \"# [f\\\"Actually Rank {r}\\\" for r in sorted(y.unique())]\\n# [f\\\"Predicted Rank {r}\\\" for r in sorted(y.unique())]\";\n",
       "                var nbb_cells = Jupyter.notebook.get_cells();\n",
       "                for (var i = 0; i < nbb_cells.length; ++i) {\n",
       "                    if (nbb_cells[i].input_prompt_number == nbb_cell_id) {\n",
       "                        if (nbb_cells[i].get_text() == nbb_unformatted_code) {\n",
       "                             nbb_cells[i].set_text(nbb_formatted_code);\n",
       "                        }\n",
       "                        break;\n",
       "                    }\n",
       "                }\n",
       "            }, 500);\n",
       "            "
      ],
      "text/plain": [
       "<IPython.core.display.Javascript object>"
      ]
     },
     "metadata": {},
     "output_type": "display_data"
    }
   ],
   "source": [
    "# [f\"Actually Rank {r}\" for r in sorted(y.unique())]\n",
    "# [f\"Predicted Rank {r}\" for r in sorted(y.unique())]"
   ]
  },
  {
   "cell_type": "code",
   "execution_count": 22,
   "metadata": {},
   "outputs": [
    {
     "data": {
      "text/html": [
       "<style  type=\"text/css\" >\n",
       "#T_a0656ade_f281_11ea_be10_a683e7ada4efrow0_col0,#T_a0656ade_f281_11ea_be10_a683e7ada4efrow0_col1,#T_a0656ade_f281_11ea_be10_a683e7ada4efrow2_col3{\n",
       "            background-color:  #f5eef6;\n",
       "            color:  #000000;\n",
       "        }#T_a0656ade_f281_11ea_be10_a683e7ada4efrow0_col2,#T_a0656ade_f281_11ea_be10_a683e7ada4efrow0_col3,#T_a0656ade_f281_11ea_be10_a683e7ada4efrow0_col4,#T_a0656ade_f281_11ea_be10_a683e7ada4efrow2_col0,#T_a0656ade_f281_11ea_be10_a683e7ada4efrow3_col0,#T_a0656ade_f281_11ea_be10_a683e7ada4efrow4_col0,#T_a0656ade_f281_11ea_be10_a683e7ada4efrow4_col1{\n",
       "            background-color:  #fff7fb;\n",
       "            color:  #000000;\n",
       "        }#T_a0656ade_f281_11ea_be10_a683e7ada4efrow1_col0,#T_a0656ade_f281_11ea_be10_a683e7ada4efrow4_col3{\n",
       "            background-color:  #dbdaeb;\n",
       "            color:  #000000;\n",
       "        }#T_a0656ade_f281_11ea_be10_a683e7ada4efrow1_col1{\n",
       "            background-color:  #056dab;\n",
       "            color:  #f1f1f1;\n",
       "        }#T_a0656ade_f281_11ea_be10_a683e7ada4efrow1_col2{\n",
       "            background-color:  #a9bfdc;\n",
       "            color:  #000000;\n",
       "        }#T_a0656ade_f281_11ea_be10_a683e7ada4efrow1_col3,#T_a0656ade_f281_11ea_be10_a683e7ada4efrow1_col4,#T_a0656ade_f281_11ea_be10_a683e7ada4efrow2_col4,#T_a0656ade_f281_11ea_be10_a683e7ada4efrow3_col1,#T_a0656ade_f281_11ea_be10_a683e7ada4efrow3_col2{\n",
       "            background-color:  #faf3f9;\n",
       "            color:  #000000;\n",
       "        }#T_a0656ade_f281_11ea_be10_a683e7ada4efrow2_col1{\n",
       "            background-color:  #d4d4e8;\n",
       "            color:  #000000;\n",
       "        }#T_a0656ade_f281_11ea_be10_a683e7ada4efrow2_col2{\n",
       "            background-color:  #023858;\n",
       "            color:  #f1f1f1;\n",
       "        }#T_a0656ade_f281_11ea_be10_a683e7ada4efrow3_col3{\n",
       "            background-color:  #cacee5;\n",
       "            color:  #000000;\n",
       "        }#T_a0656ade_f281_11ea_be10_a683e7ada4efrow3_col4,#T_a0656ade_f281_11ea_be10_a683e7ada4efrow4_col2{\n",
       "            background-color:  #eae6f1;\n",
       "            color:  #000000;\n",
       "        }#T_a0656ade_f281_11ea_be10_a683e7ada4efrow4_col4{\n",
       "            background-color:  #b4c4df;\n",
       "            color:  #000000;\n",
       "        }</style><table id=\"T_a0656ade_f281_11ea_be10_a683e7ada4ef\" ><thead>    <tr>        <th class=\"blank level0\" ></th>        <th class=\"col_heading level0 col0\" >Predicted Rank 1</th>        <th class=\"col_heading level0 col1\" >Predicted Rank 2</th>        <th class=\"col_heading level0 col2\" >Predicted Rank 3</th>        <th class=\"col_heading level0 col3\" >Predicted Rank 4</th>        <th class=\"col_heading level0 col4\" >Predicted Rank 5</th>    </tr></thead><tbody>\n",
       "                <tr>\n",
       "                        <th id=\"T_a0656ade_f281_11ea_be10_a683e7ada4eflevel0_row0\" class=\"row_heading level0 row0\" >Actually Rank 1</th>\n",
       "                        <td id=\"T_a0656ade_f281_11ea_be10_a683e7ada4efrow0_col0\" class=\"data row0 col0\" >2</td>\n",
       "                        <td id=\"T_a0656ade_f281_11ea_be10_a683e7ada4efrow0_col1\" class=\"data row0 col1\" >2</td>\n",
       "                        <td id=\"T_a0656ade_f281_11ea_be10_a683e7ada4efrow0_col2\" class=\"data row0 col2\" >0</td>\n",
       "                        <td id=\"T_a0656ade_f281_11ea_be10_a683e7ada4efrow0_col3\" class=\"data row0 col3\" >0</td>\n",
       "                        <td id=\"T_a0656ade_f281_11ea_be10_a683e7ada4efrow0_col4\" class=\"data row0 col4\" >0</td>\n",
       "            </tr>\n",
       "            <tr>\n",
       "                        <th id=\"T_a0656ade_f281_11ea_be10_a683e7ada4eflevel0_row1\" class=\"row_heading level0 row1\" >Actually Rank 2</th>\n",
       "                        <td id=\"T_a0656ade_f281_11ea_be10_a683e7ada4efrow1_col0\" class=\"data row1 col0\" >6</td>\n",
       "                        <td id=\"T_a0656ade_f281_11ea_be10_a683e7ada4efrow1_col1\" class=\"data row1 col1\" >23</td>\n",
       "                        <td id=\"T_a0656ade_f281_11ea_be10_a683e7ada4efrow1_col2\" class=\"data row1 col2\" >11</td>\n",
       "                        <td id=\"T_a0656ade_f281_11ea_be10_a683e7ada4efrow1_col3\" class=\"data row1 col3\" >1</td>\n",
       "                        <td id=\"T_a0656ade_f281_11ea_be10_a683e7ada4efrow1_col4\" class=\"data row1 col4\" >1</td>\n",
       "            </tr>\n",
       "            <tr>\n",
       "                        <th id=\"T_a0656ade_f281_11ea_be10_a683e7ada4eflevel0_row2\" class=\"row_heading level0 row2\" >Actually Rank 3</th>\n",
       "                        <td id=\"T_a0656ade_f281_11ea_be10_a683e7ada4efrow2_col0\" class=\"data row2 col0\" >0</td>\n",
       "                        <td id=\"T_a0656ade_f281_11ea_be10_a683e7ada4efrow2_col1\" class=\"data row2 col1\" >7</td>\n",
       "                        <td id=\"T_a0656ade_f281_11ea_be10_a683e7ada4efrow2_col2\" class=\"data row2 col2\" >30</td>\n",
       "                        <td id=\"T_a0656ade_f281_11ea_be10_a683e7ada4efrow2_col3\" class=\"data row2 col3\" >2</td>\n",
       "                        <td id=\"T_a0656ade_f281_11ea_be10_a683e7ada4efrow2_col4\" class=\"data row2 col4\" >1</td>\n",
       "            </tr>\n",
       "            <tr>\n",
       "                        <th id=\"T_a0656ade_f281_11ea_be10_a683e7ada4eflevel0_row3\" class=\"row_heading level0 row3\" >Actually Rank 4</th>\n",
       "                        <td id=\"T_a0656ade_f281_11ea_be10_a683e7ada4efrow3_col0\" class=\"data row3 col0\" >0</td>\n",
       "                        <td id=\"T_a0656ade_f281_11ea_be10_a683e7ada4efrow3_col1\" class=\"data row3 col1\" >1</td>\n",
       "                        <td id=\"T_a0656ade_f281_11ea_be10_a683e7ada4efrow3_col2\" class=\"data row3 col2\" >1</td>\n",
       "                        <td id=\"T_a0656ade_f281_11ea_be10_a683e7ada4efrow3_col3\" class=\"data row3 col3\" >8</td>\n",
       "                        <td id=\"T_a0656ade_f281_11ea_be10_a683e7ada4efrow3_col4\" class=\"data row3 col4\" >4</td>\n",
       "            </tr>\n",
       "            <tr>\n",
       "                        <th id=\"T_a0656ade_f281_11ea_be10_a683e7ada4eflevel0_row4\" class=\"row_heading level0 row4\" >Actually Rank 5</th>\n",
       "                        <td id=\"T_a0656ade_f281_11ea_be10_a683e7ada4efrow4_col0\" class=\"data row4 col0\" >0</td>\n",
       "                        <td id=\"T_a0656ade_f281_11ea_be10_a683e7ada4efrow4_col1\" class=\"data row4 col1\" >0</td>\n",
       "                        <td id=\"T_a0656ade_f281_11ea_be10_a683e7ada4efrow4_col2\" class=\"data row4 col2\" >4</td>\n",
       "                        <td id=\"T_a0656ade_f281_11ea_be10_a683e7ada4efrow4_col3\" class=\"data row4 col3\" >6</td>\n",
       "                        <td id=\"T_a0656ade_f281_11ea_be10_a683e7ada4efrow4_col4\" class=\"data row4 col4\" >10</td>\n",
       "            </tr>\n",
       "    </tbody></table>"
      ],
      "text/plain": [
       "<pandas.io.formats.style.Styler at 0x129daef90>"
      ]
     },
     "execution_count": 22,
     "metadata": {},
     "output_type": "execute_result"
    },
    {
     "data": {
      "application/javascript": [
       "\n",
       "            setTimeout(function() {\n",
       "                var nbb_cell_id = 22;\n",
       "                var nbb_unformatted_code = \"confusion_df = pd.DataFrame(\\n    confusion_matrix(y_test, y_pred),\\n    index=[\\n        \\\"Actually Rank 1\\\",\\n        \\\"Actually Rank 2\\\",\\n        \\\"Actually Rank 3\\\",\\n        \\\"Actually Rank 4\\\",\\n        \\\"Actually Rank 5\\\",\\n    ],\\n    columns=[\\n        \\\"Predicted Rank 1\\\",\\n        \\\"Predicted Rank 2\\\",\\n        \\\"Predicted Rank 3\\\",\\n        \\\"Predicted Rank 4\\\",\\n        \\\"Predicted Rank 5\\\",\\n    ],\\n)\\n\\nconfusion_df.style.background_gradient(axis=None)\";\n",
       "                var nbb_formatted_code = \"confusion_df = pd.DataFrame(\\n    confusion_matrix(y_test, y_pred),\\n    index=[\\n        \\\"Actually Rank 1\\\",\\n        \\\"Actually Rank 2\\\",\\n        \\\"Actually Rank 3\\\",\\n        \\\"Actually Rank 4\\\",\\n        \\\"Actually Rank 5\\\",\\n    ],\\n    columns=[\\n        \\\"Predicted Rank 1\\\",\\n        \\\"Predicted Rank 2\\\",\\n        \\\"Predicted Rank 3\\\",\\n        \\\"Predicted Rank 4\\\",\\n        \\\"Predicted Rank 5\\\",\\n    ],\\n)\\n\\nconfusion_df.style.background_gradient(axis=None)\";\n",
       "                var nbb_cells = Jupyter.notebook.get_cells();\n",
       "                for (var i = 0; i < nbb_cells.length; ++i) {\n",
       "                    if (nbb_cells[i].input_prompt_number == nbb_cell_id) {\n",
       "                        if (nbb_cells[i].get_text() == nbb_unformatted_code) {\n",
       "                             nbb_cells[i].set_text(nbb_formatted_code);\n",
       "                        }\n",
       "                        break;\n",
       "                    }\n",
       "                }\n",
       "            }, 500);\n",
       "            "
      ],
      "text/plain": [
       "<IPython.core.display.Javascript object>"
      ]
     },
     "metadata": {},
     "output_type": "display_data"
    }
   ],
   "source": [
    "confusion_df = pd.DataFrame(\n",
    "    confusion_matrix(y_test, y_pred),\n",
    "    index=[\n",
    "        \"Actually Rank 1\",\n",
    "        \"Actually Rank 2\",\n",
    "        \"Actually Rank 3\",\n",
    "        \"Actually Rank 4\",\n",
    "        \"Actually Rank 5\",\n",
    "    ],\n",
    "    columns=[\n",
    "        \"Predicted Rank 1\",\n",
    "        \"Predicted Rank 2\",\n",
    "        \"Predicted Rank 3\",\n",
    "        \"Predicted Rank 4\",\n",
    "        \"Predicted Rank 5\",\n",
    "    ],\n",
    ")\n",
    "\n",
    "confusion_df.style.background_gradient(axis=None)"
   ]
  },
  {
   "cell_type": "code",
   "execution_count": 23,
   "metadata": {},
   "outputs": [
    {
     "name": "stdout",
     "output_type": "stream",
     "text": [
      "              precision    recall  f1-score   support\n",
      "\n",
      "           1       0.25      0.50      0.33         4\n",
      "           2       0.70      0.55      0.61        42\n",
      "           3       0.65      0.75      0.70        40\n",
      "           4       0.47      0.57      0.52        14\n",
      "           5       0.62      0.50      0.56        20\n",
      "\n",
      "    accuracy                           0.61       120\n",
      "   macro avg       0.54      0.57      0.54       120\n",
      "weighted avg       0.63      0.61      0.61       120\n",
      "\n"
     ]
    },
    {
     "data": {
      "application/javascript": [
       "\n",
       "            setTimeout(function() {\n",
       "                var nbb_cell_id = 23;\n",
       "                var nbb_unformatted_code = \"print(classification_report(y_test, y_pred))\";\n",
       "                var nbb_formatted_code = \"print(classification_report(y_test, y_pred))\";\n",
       "                var nbb_cells = Jupyter.notebook.get_cells();\n",
       "                for (var i = 0; i < nbb_cells.length; ++i) {\n",
       "                    if (nbb_cells[i].input_prompt_number == nbb_cell_id) {\n",
       "                        if (nbb_cells[i].get_text() == nbb_unformatted_code) {\n",
       "                             nbb_cells[i].set_text(nbb_formatted_code);\n",
       "                        }\n",
       "                        break;\n",
       "                    }\n",
       "                }\n",
       "            }, 500);\n",
       "            "
      ],
      "text/plain": [
       "<IPython.core.display.Javascript object>"
      ]
     },
     "metadata": {},
     "output_type": "display_data"
    }
   ],
   "source": [
    "print(classification_report(y_test, y_pred))"
   ]
  }
 ],
 "metadata": {
  "colab": {
   "collapsed_sections": [],
   "name": "Day 33 Lecture 1 Assignment.ipynb",
   "provenance": []
  },
  "kernelspec": {
   "display_name": "Python 3",
   "language": "python",
   "name": "python3"
  },
  "language_info": {
   "codemirror_mode": {
    "name": "ipython",
    "version": 3
   },
   "file_extension": ".py",
   "mimetype": "text/x-python",
   "name": "python",
   "nbconvert_exporter": "python",
   "pygments_lexer": "ipython3",
   "version": "3.7.7"
  }
 },
 "nbformat": 4,
 "nbformat_minor": 1
}
