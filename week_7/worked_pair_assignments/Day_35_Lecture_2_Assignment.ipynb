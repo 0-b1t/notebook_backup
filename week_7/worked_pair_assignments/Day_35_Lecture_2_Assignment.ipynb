{
 "cells": [
  {
   "cell_type": "code",
   "execution_count": 1,
   "metadata": {},
   "outputs": [
    {
     "data": {
      "application/javascript": [
       "\n",
       "            setTimeout(function() {\n",
       "                var nbb_cell_id = 1;\n",
       "                var nbb_unformatted_code = \"%reload_ext nb_black\";\n",
       "                var nbb_formatted_code = \"%reload_ext nb_black\";\n",
       "                var nbb_cells = Jupyter.notebook.get_cells();\n",
       "                for (var i = 0; i < nbb_cells.length; ++i) {\n",
       "                    if (nbb_cells[i].input_prompt_number == nbb_cell_id) {\n",
       "                        if (nbb_cells[i].get_text() == nbb_unformatted_code) {\n",
       "                             nbb_cells[i].set_text(nbb_formatted_code);\n",
       "                        }\n",
       "                        break;\n",
       "                    }\n",
       "                }\n",
       "            }, 500);\n",
       "            "
      ],
      "text/plain": [
       "<IPython.core.display.Javascript object>"
      ]
     },
     "metadata": {},
     "output_type": "display_data"
    }
   ],
   "source": [
    "%reload_ext nb_black"
   ]
  },
  {
   "cell_type": "markdown",
   "metadata": {
    "colab_type": "text",
    "id": "dSoIEkGEtESB"
   },
   "source": [
    "## Day 35 Lecture 2 Assignment\n",
    "\n",
    "In this assignment, we will combine what we have learned so far about classification algorithms this week."
   ]
  },
  {
   "cell_type": "code",
   "execution_count": 2,
   "metadata": {
    "colab": {},
    "colab_type": "code",
    "id": "-5YT-oMVtESC"
   },
   "outputs": [
    {
     "data": {
      "application/javascript": [
       "\n",
       "            setTimeout(function() {\n",
       "                var nbb_cell_id = 2;\n",
       "                var nbb_unformatted_code = \"import numpy as np\\nimport pandas as pd\\n\\nfrom sklearn.preprocessing import StandardScaler\\nfrom sklearn.pipeline import Pipeline\\nfrom sklearn.compose import ColumnTransformer\\nfrom sklearn.model_selection import GridSearchCV, train_test_split\\nfrom sklearn.svm import SVC\\nfrom sklearn.metrics import confusion_matrix, classification_report\\n\\nfrom xgboost import XGBClassifier\\n\\nimport seaborn as sns\\nimport matplotlib.pyplot as plt\\n\\n%matplotlib inline\";\n",
       "                var nbb_formatted_code = \"import numpy as np\\nimport pandas as pd\\n\\nfrom sklearn.preprocessing import StandardScaler\\nfrom sklearn.pipeline import Pipeline\\nfrom sklearn.compose import ColumnTransformer\\nfrom sklearn.model_selection import GridSearchCV, train_test_split\\nfrom sklearn.svm import SVC\\nfrom sklearn.metrics import confusion_matrix, classification_report\\n\\nfrom xgboost import XGBClassifier\\n\\nimport seaborn as sns\\nimport matplotlib.pyplot as plt\\n\\n%matplotlib inline\";\n",
       "                var nbb_cells = Jupyter.notebook.get_cells();\n",
       "                for (var i = 0; i < nbb_cells.length; ++i) {\n",
       "                    if (nbb_cells[i].input_prompt_number == nbb_cell_id) {\n",
       "                        if (nbb_cells[i].get_text() == nbb_unformatted_code) {\n",
       "                             nbb_cells[i].set_text(nbb_formatted_code);\n",
       "                        }\n",
       "                        break;\n",
       "                    }\n",
       "                }\n",
       "            }, 500);\n",
       "            "
      ],
      "text/plain": [
       "<IPython.core.display.Javascript object>"
      ]
     },
     "metadata": {},
     "output_type": "display_data"
    }
   ],
   "source": [
    "import numpy as np\n",
    "import pandas as pd\n",
    "\n",
    "from sklearn.preprocessing import StandardScaler\n",
    "from sklearn.pipeline import Pipeline\n",
    "from sklearn.compose import ColumnTransformer\n",
    "from sklearn.model_selection import GridSearchCV, train_test_split\n",
    "from sklearn.svm import SVC\n",
    "from sklearn.metrics import confusion_matrix, classification_report\n",
    "\n",
    "from xgboost import XGBClassifier\n",
    "\n",
    "import seaborn as sns\n",
    "import matplotlib.pyplot as plt\n",
    "\n",
    "%matplotlib inline"
   ]
  },
  {
   "cell_type": "code",
   "execution_count": 4,
   "metadata": {
    "colab": {},
    "colab_type": "code",
    "id": "B_y2kppttESD"
   },
   "outputs": [
    {
     "data": {
      "text/html": [
       "<div>\n",
       "<style scoped>\n",
       "    .dataframe tbody tr th:only-of-type {\n",
       "        vertical-align: middle;\n",
       "    }\n",
       "\n",
       "    .dataframe tbody tr th {\n",
       "        vertical-align: top;\n",
       "    }\n",
       "\n",
       "    .dataframe thead th {\n",
       "        text-align: right;\n",
       "    }\n",
       "</style>\n",
       "<table border=\"1\" class=\"dataframe\">\n",
       "  <thead>\n",
       "    <tr style=\"text-align: right;\">\n",
       "      <th></th>\n",
       "      <th>gre</th>\n",
       "      <th>toefl</th>\n",
       "      <th>school_rank</th>\n",
       "      <th>sop</th>\n",
       "      <th>lor</th>\n",
       "      <th>cgpa</th>\n",
       "      <th>research</th>\n",
       "      <th>admit</th>\n",
       "    </tr>\n",
       "  </thead>\n",
       "  <tbody>\n",
       "    <tr>\n",
       "      <th>0</th>\n",
       "      <td>337</td>\n",
       "      <td>118</td>\n",
       "      <td>4</td>\n",
       "      <td>4.5</td>\n",
       "      <td>4.5</td>\n",
       "      <td>9.65</td>\n",
       "      <td>1</td>\n",
       "      <td>0.92</td>\n",
       "    </tr>\n",
       "    <tr>\n",
       "      <th>1</th>\n",
       "      <td>324</td>\n",
       "      <td>107</td>\n",
       "      <td>4</td>\n",
       "      <td>4.0</td>\n",
       "      <td>4.5</td>\n",
       "      <td>8.87</td>\n",
       "      <td>1</td>\n",
       "      <td>0.76</td>\n",
       "    </tr>\n",
       "    <tr>\n",
       "      <th>2</th>\n",
       "      <td>316</td>\n",
       "      <td>104</td>\n",
       "      <td>3</td>\n",
       "      <td>3.0</td>\n",
       "      <td>3.5</td>\n",
       "      <td>8.00</td>\n",
       "      <td>1</td>\n",
       "      <td>0.72</td>\n",
       "    </tr>\n",
       "    <tr>\n",
       "      <th>3</th>\n",
       "      <td>322</td>\n",
       "      <td>110</td>\n",
       "      <td>3</td>\n",
       "      <td>3.5</td>\n",
       "      <td>2.5</td>\n",
       "      <td>8.67</td>\n",
       "      <td>1</td>\n",
       "      <td>0.80</td>\n",
       "    </tr>\n",
       "    <tr>\n",
       "      <th>4</th>\n",
       "      <td>314</td>\n",
       "      <td>103</td>\n",
       "      <td>2</td>\n",
       "      <td>2.0</td>\n",
       "      <td>3.0</td>\n",
       "      <td>8.21</td>\n",
       "      <td>0</td>\n",
       "      <td>0.65</td>\n",
       "    </tr>\n",
       "  </tbody>\n",
       "</table>\n",
       "</div>"
      ],
      "text/plain": [
       "   gre  toefl  school_rank  sop  lor  cgpa  research  admit\n",
       "0  337    118            4  4.5  4.5  9.65         1   0.92\n",
       "1  324    107            4  4.0  4.5  8.87         1   0.76\n",
       "2  316    104            3  3.0  3.5  8.00         1   0.72\n",
       "3  322    110            3  3.5  2.5  8.67         1   0.80\n",
       "4  314    103            2  2.0  3.0  8.21         0   0.65"
      ]
     },
     "execution_count": 4,
     "metadata": {},
     "output_type": "execute_result"
    },
    {
     "data": {
      "application/javascript": [
       "\n",
       "            setTimeout(function() {\n",
       "                var nbb_cell_id = 4;\n",
       "                var nbb_unformatted_code = \"admission = pd.read_csv(\\n    \\\"https://tf-assets-prod.s3.amazonaws.com/tf-curric/data-science/Admission_Predict.csv\\\"\\n)\\n\\nadmission = admission.drop(columns=\\\"Serial No.\\\")\\nadmission = admission.rename(\\n    columns={\\n        \\\"GRE Score\\\": \\\"gre\\\",\\n        \\\"TOEFL Score\\\": \\\"toefl\\\",\\n        \\\"University Rating\\\": \\\"school_rank\\\",\\n        \\\"SOP\\\": \\\"sop\\\",\\n        \\\"LOR \\\": \\\"lor\\\",\\n        \\\"CGPA\\\": \\\"cgpa\\\",\\n        \\\"Research\\\": \\\"research\\\",\\n        \\\"Chance of Admit \\\": \\\"admit\\\",\\n    }\\n)\\n\\n# Keeping a copy to reference later\\nadmission_copy = admission.copy()\\n\\nadmission.head()\";\n",
       "                var nbb_formatted_code = \"admission = pd.read_csv(\\n    \\\"https://tf-assets-prod.s3.amazonaws.com/tf-curric/data-science/Admission_Predict.csv\\\"\\n)\\n\\nadmission = admission.drop(columns=\\\"Serial No.\\\")\\nadmission = admission.rename(\\n    columns={\\n        \\\"GRE Score\\\": \\\"gre\\\",\\n        \\\"TOEFL Score\\\": \\\"toefl\\\",\\n        \\\"University Rating\\\": \\\"school_rank\\\",\\n        \\\"SOP\\\": \\\"sop\\\",\\n        \\\"LOR \\\": \\\"lor\\\",\\n        \\\"CGPA\\\": \\\"cgpa\\\",\\n        \\\"Research\\\": \\\"research\\\",\\n        \\\"Chance of Admit \\\": \\\"admit\\\",\\n    }\\n)\\n\\n# Keeping a copy to reference later\\nadmission_copy = admission.copy()\\n\\nadmission.head()\";\n",
       "                var nbb_cells = Jupyter.notebook.get_cells();\n",
       "                for (var i = 0; i < nbb_cells.length; ++i) {\n",
       "                    if (nbb_cells[i].input_prompt_number == nbb_cell_id) {\n",
       "                        if (nbb_cells[i].get_text() == nbb_unformatted_code) {\n",
       "                             nbb_cells[i].set_text(nbb_formatted_code);\n",
       "                        }\n",
       "                        break;\n",
       "                    }\n",
       "                }\n",
       "            }, 500);\n",
       "            "
      ],
      "text/plain": [
       "<IPython.core.display.Javascript object>"
      ]
     },
     "metadata": {},
     "output_type": "display_data"
    }
   ],
   "source": [
    "admission = pd.read_csv(\n",
    "    \"https://tf-assets-prod.s3.amazonaws.com/tf-curric/data-science/Admission_Predict.csv\"\n",
    ")\n",
    "\n",
    "admission = admission.drop(columns=\"Serial No.\")\n",
    "admission = admission.rename(\n",
    "    columns={\n",
    "        \"GRE Score\": \"gre\",\n",
    "        \"TOEFL Score\": \"toefl\",\n",
    "        \"University Rating\": \"school_rank\",\n",
    "        \"SOP\": \"sop\",\n",
    "        \"LOR \": \"lor\",\n",
    "        \"CGPA\": \"cgpa\",\n",
    "        \"Research\": \"research\",\n",
    "        \"Chance of Admit \": \"admit\",\n",
    "    }\n",
    ")\n",
    "\n",
    "# Keeping a copy to reference later\n",
    "admission_copy = admission.copy()\n",
    "\n",
    "admission.head()"
   ]
  },
  {
   "cell_type": "code",
   "execution_count": 6,
   "metadata": {},
   "outputs": [
    {
     "data": {
      "text/plain": [
       "gre            0\n",
       "toefl          0\n",
       "school_rank    0\n",
       "sop            0\n",
       "lor            0\n",
       "cgpa           0\n",
       "research       0\n",
       "admit          0\n",
       "dtype: int64"
      ]
     },
     "execution_count": 6,
     "metadata": {},
     "output_type": "execute_result"
    },
    {
     "data": {
      "application/javascript": [
       "\n",
       "            setTimeout(function() {\n",
       "                var nbb_cell_id = 6;\n",
       "                var nbb_unformatted_code = \"admission.isna().sum()\\n#admission.dtypes\";\n",
       "                var nbb_formatted_code = \"admission.isna().sum()\\n# admission.dtypes\";\n",
       "                var nbb_cells = Jupyter.notebook.get_cells();\n",
       "                for (var i = 0; i < nbb_cells.length; ++i) {\n",
       "                    if (nbb_cells[i].input_prompt_number == nbb_cell_id) {\n",
       "                        if (nbb_cells[i].get_text() == nbb_unformatted_code) {\n",
       "                             nbb_cells[i].set_text(nbb_formatted_code);\n",
       "                        }\n",
       "                        break;\n",
       "                    }\n",
       "                }\n",
       "            }, 500);\n",
       "            "
      ],
      "text/plain": [
       "<IPython.core.display.Javascript object>"
      ]
     },
     "metadata": {},
     "output_type": "display_data"
    }
   ],
   "source": [
    "admission.isna().sum()\n",
    "# admission.dtypes"
   ]
  },
  {
   "cell_type": "markdown",
   "metadata": {
    "colab_type": "text",
    "id": "jcRQ0iIQtESH"
   },
   "source": [
    "In this assignment, we will predict the probability of a student being admitted to a PhD program given their stats. To make the predictions, find the median for the Chance of Admit column. Create an admit column where all probabilities above the median will receive a 1 for that column and all probabilities below the median will be a zero.\n",
    "\n",
    "Below you will process and clean the data, try the SVM classifier, the gradient boosted decision tree classifier and XGBoost, and compare your results.\n",
    "\n",
    "Have fun!"
   ]
  },
  {
   "cell_type": "code",
   "execution_count": 7,
   "metadata": {
    "colab": {},
    "colab_type": "code",
    "id": "BccfFh0JtESH"
   },
   "outputs": [
    {
     "data": {
      "text/plain": [
       "0.73"
      ]
     },
     "execution_count": 7,
     "metadata": {},
     "output_type": "execute_result"
    },
    {
     "data": {
      "application/javascript": [
       "\n",
       "            setTimeout(function() {\n",
       "                var nbb_cell_id = 7;\n",
       "                var nbb_unformatted_code = \"median_admit = admission_copy[\\\"admit\\\"].median()\\nmedian_admit\";\n",
       "                var nbb_formatted_code = \"median_admit = admission_copy[\\\"admit\\\"].median()\\nmedian_admit\";\n",
       "                var nbb_cells = Jupyter.notebook.get_cells();\n",
       "                for (var i = 0; i < nbb_cells.length; ++i) {\n",
       "                    if (nbb_cells[i].input_prompt_number == nbb_cell_id) {\n",
       "                        if (nbb_cells[i].get_text() == nbb_unformatted_code) {\n",
       "                             nbb_cells[i].set_text(nbb_formatted_code);\n",
       "                        }\n",
       "                        break;\n",
       "                    }\n",
       "                }\n",
       "            }, 500);\n",
       "            "
      ],
      "text/plain": [
       "<IPython.core.display.Javascript object>"
      ]
     },
     "metadata": {},
     "output_type": "display_data"
    }
   ],
   "source": [
    "median_admit = admission_copy[\"admit\"].median()\n",
    "median_admit"
   ]
  },
  {
   "cell_type": "code",
   "execution_count": 8,
   "metadata": {
    "colab": {},
    "colab_type": "code",
    "id": "Zz03Y407tESJ"
   },
   "outputs": [
    {
     "data": {
      "application/javascript": [
       "\n",
       "            setTimeout(function() {\n",
       "                var nbb_cell_id = 8;\n",
       "                var nbb_unformatted_code = \"admission[\\\"admit\\\"] = admission[\\\"admit\\\"] > median_admit\\nadmission[\\\"admit\\\"] = admission[\\\"admit\\\"].astype(int)\";\n",
       "                var nbb_formatted_code = \"admission[\\\"admit\\\"] = admission[\\\"admit\\\"] > median_admit\\nadmission[\\\"admit\\\"] = admission[\\\"admit\\\"].astype(int)\";\n",
       "                var nbb_cells = Jupyter.notebook.get_cells();\n",
       "                for (var i = 0; i < nbb_cells.length; ++i) {\n",
       "                    if (nbb_cells[i].input_prompt_number == nbb_cell_id) {\n",
       "                        if (nbb_cells[i].get_text() == nbb_unformatted_code) {\n",
       "                             nbb_cells[i].set_text(nbb_formatted_code);\n",
       "                        }\n",
       "                        break;\n",
       "                    }\n",
       "                }\n",
       "            }, 500);\n",
       "            "
      ],
      "text/plain": [
       "<IPython.core.display.Javascript object>"
      ]
     },
     "metadata": {},
     "output_type": "display_data"
    }
   ],
   "source": [
    "admission[\"admit\"] = admission[\"admit\"] > median_admit\n",
    "admission[\"admit\"] = admission[\"admit\"].astype(int)"
   ]
  },
  {
   "cell_type": "markdown",
   "metadata": {},
   "source": [
    "# Results write-up\n",
    "\n",
    "\n",
    "An `SVC` and `XGBClassifier` were fit below.\n",
    "\n",
    "The `SVC` performed slightly better on overall accuracy (87.5% compared to 86.3%), had higher recall (85% compared to 79%), and lower precision (89% compared to 91%).  In this context, I think we'd value overall accuracy instead of focusing on precision.\n",
    "\n",
    "Both `SVC` and `XGBClassifier` only made mistakes for observations close to the median threshold used to create the classes.  The `XGBClassifier` was more likely to make the mistake of of calling a 1 a 0, but the `SVC` had about an equal chance of both mistakes (this is reflected in the recall/precision scores).\n",
    "\n",
    "Both methods agree that CGPA and GRE are the two most important predictors.  See plot below for how these relate to chance of admission."
   ]
  },
  {
   "cell_type": "code",
   "execution_count": 9,
   "metadata": {},
   "outputs": [
    {
     "data": {
      "image/png": "[encoded data removed]",
      "text/plain": [
       "<Figure size 432x288 with 1 Axes>"
      ]
     },
     "metadata": {
      "needs_background": "light"
     },
     "output_type": "display_data"
    },
    {
     "data": {
      "application/javascript": [
       "\n",
       "            setTimeout(function() {\n",
       "                var nbb_cell_id = 9;\n",
       "                var nbb_unformatted_code = \"sns.scatterplot(\\\"cgpa\\\", \\\"gre\\\", hue=\\\"admit\\\", data=admission)\\nplt.show()\";\n",
       "                var nbb_formatted_code = \"sns.scatterplot(\\\"cgpa\\\", \\\"gre\\\", hue=\\\"admit\\\", data=admission)\\nplt.show()\";\n",
       "                var nbb_cells = Jupyter.notebook.get_cells();\n",
       "                for (var i = 0; i < nbb_cells.length; ++i) {\n",
       "                    if (nbb_cells[i].input_prompt_number == nbb_cell_id) {\n",
       "                        if (nbb_cells[i].get_text() == nbb_unformatted_code) {\n",
       "                             nbb_cells[i].set_text(nbb_formatted_code);\n",
       "                        }\n",
       "                        break;\n",
       "                    }\n",
       "                }\n",
       "            }, 500);\n",
       "            "
      ],
      "text/plain": [
       "<IPython.core.display.Javascript object>"
      ]
     },
     "metadata": {},
     "output_type": "display_data"
    }
   ],
   "source": [
    "sns.scatterplot(\"cgpa\", \"gre\", hue=\"admit\", data=admission)\n",
    "plt.show()"
   ]
  },
  {
   "cell_type": "markdown",
   "metadata": {},
   "source": [
    "# Modeling"
   ]
  },
  {
   "cell_type": "code",
   "execution_count": 10,
   "metadata": {},
   "outputs": [
    {
     "data": {
      "application/javascript": [
       "\n",
       "            setTimeout(function() {\n",
       "                var nbb_cell_id = 10;\n",
       "                var nbb_unformatted_code = \"X = admission.drop(columns=\\\"admit\\\")\\ny = admission[\\\"admit\\\"]\\n\\nX_train, X_test, y_train, y_test = train_test_split(\\n    X, y, test_size=0.2, stratify=y, random_state=42\\n)\";\n",
       "                var nbb_formatted_code = \"X = admission.drop(columns=\\\"admit\\\")\\ny = admission[\\\"admit\\\"]\\n\\nX_train, X_test, y_train, y_test = train_test_split(\\n    X, y, test_size=0.2, stratify=y, random_state=42\\n)\";\n",
       "                var nbb_cells = Jupyter.notebook.get_cells();\n",
       "                for (var i = 0; i < nbb_cells.length; ++i) {\n",
       "                    if (nbb_cells[i].input_prompt_number == nbb_cell_id) {\n",
       "                        if (nbb_cells[i].get_text() == nbb_unformatted_code) {\n",
       "                             nbb_cells[i].set_text(nbb_formatted_code);\n",
       "                        }\n",
       "                        break;\n",
       "                    }\n",
       "                }\n",
       "            }, 500);\n",
       "            "
      ],
      "text/plain": [
       "<IPython.core.display.Javascript object>"
      ]
     },
     "metadata": {},
     "output_type": "display_data"
    }
   ],
   "source": [
    "X = admission.drop(columns=\"admit\")\n",
    "y = admission[\"admit\"]\n",
    "\n",
    "X_train, X_test, y_train, y_test = train_test_split(\n",
    "    X, y, test_size=0.2, stratify=y, random_state=42\n",
    ")"
   ]
  },
  {
   "cell_type": "code",
   "execution_count": 11,
   "metadata": {},
   "outputs": [
    {
     "data": {
      "application/javascript": [
       "\n",
       "            setTimeout(function() {\n",
       "                var nbb_cell_id = 11;\n",
       "                var nbb_unformatted_code = \"# fmt: off\\nbin_cols = [\\\"research\\\"]\\nnum_cols = [\\\"gre\\\", \\\"toefl\\\", \\\"school_rank\\\", \\\"sop\\\", \\\"lor\\\", \\\"cgpa\\\"]\\n\\npreprocessing = ColumnTransformer([\\n    (\\\"scale\\\", StandardScaler(), num_cols)\\n], remainder=\\\"passthrough\\\")\";\n",
       "                var nbb_formatted_code = \"# fmt: off\\nbin_cols = [\\\"research\\\"]\\nnum_cols = [\\\"gre\\\", \\\"toefl\\\", \\\"school_rank\\\", \\\"sop\\\", \\\"lor\\\", \\\"cgpa\\\"]\\n\\npreprocessing = ColumnTransformer([\\n    (\\\"scale\\\", StandardScaler(), num_cols)\\n], remainder=\\\"passthrough\\\")\";\n",
       "                var nbb_cells = Jupyter.notebook.get_cells();\n",
       "                for (var i = 0; i < nbb_cells.length; ++i) {\n",
       "                    if (nbb_cells[i].input_prompt_number == nbb_cell_id) {\n",
       "                        if (nbb_cells[i].get_text() == nbb_unformatted_code) {\n",
       "                             nbb_cells[i].set_text(nbb_formatted_code);\n",
       "                        }\n",
       "                        break;\n",
       "                    }\n",
       "                }\n",
       "            }, 500);\n",
       "            "
      ],
      "text/plain": [
       "<IPython.core.display.Javascript object>"
      ]
     },
     "metadata": {},
     "output_type": "display_data"
    }
   ],
   "source": [
    "# fmt: off\n",
    "bin_cols = [\"research\"]\n",
    "num_cols = [\"gre\", \"toefl\", \"school_rank\", \"sop\", \"lor\", \"cgpa\"]\n",
    "\n",
    "preprocessing = ColumnTransformer([\n",
    "    (\"scale\", StandardScaler(), num_cols)\n",
    "], remainder=\"passthrough\")"
   ]
  },
  {
   "cell_type": "markdown",
   "metadata": {},
   "source": [
    "## SVC"
   ]
  },
  {
   "cell_type": "markdown",
   "metadata": {},
   "source": [
    "### Pipeline setup"
   ]
  },
  {
   "cell_type": "code",
   "execution_count": 12,
   "metadata": {},
   "outputs": [
    {
     "data": {
      "application/javascript": [
       "\n",
       "            setTimeout(function() {\n",
       "                var nbb_cell_id = 12;\n",
       "                var nbb_unformatted_code = \"# fmt: off\\npipeline = Pipeline([\\n    (\\\"preprocessing\\\", preprocessing), \\n    (\\\"svc\\\", SVC())\\n])\\n# fmt: on\\n\\ngrid = {\\n    \\\"svc__kernel\\\": [\\\"linear\\\", \\\"poly\\\", \\\"rbf\\\"],\\n    \\\"svc__degree\\\": [2, 3],\\n    \\\"svc__C\\\": [0.001, 0.01, 0.1, 1.0],\\n}\\n\\npipeline_cv = GridSearchCV(pipeline, grid, cv=2, n_jobs=-1)\";\n",
       "                var nbb_formatted_code = \"# fmt: off\\npipeline = Pipeline([\\n    (\\\"preprocessing\\\", preprocessing), \\n    (\\\"svc\\\", SVC())\\n])\\n# fmt: on\\n\\ngrid = {\\n    \\\"svc__kernel\\\": [\\\"linear\\\", \\\"poly\\\", \\\"rbf\\\"],\\n    \\\"svc__degree\\\": [2, 3],\\n    \\\"svc__C\\\": [0.001, 0.01, 0.1, 1.0],\\n}\\n\\npipeline_cv = GridSearchCV(pipeline, grid, cv=2, n_jobs=-1)\";\n",
       "                var nbb_cells = Jupyter.notebook.get_cells();\n",
       "                for (var i = 0; i < nbb_cells.length; ++i) {\n",
       "                    if (nbb_cells[i].input_prompt_number == nbb_cell_id) {\n",
       "                        if (nbb_cells[i].get_text() == nbb_unformatted_code) {\n",
       "                             nbb_cells[i].set_text(nbb_formatted_code);\n",
       "                        }\n",
       "                        break;\n",
       "                    }\n",
       "                }\n",
       "            }, 500);\n",
       "            "
      ],
      "text/plain": [
       "<IPython.core.display.Javascript object>"
      ]
     },
     "metadata": {},
     "output_type": "display_data"
    }
   ],
   "source": [
    "# fmt: off\n",
    "pipeline = Pipeline([\n",
    "    (\"preprocessing\", preprocessing), \n",
    "    (\"svc\", SVC())\n",
    "])\n",
    "# fmt: on\n",
    "\n",
    "grid = {\n",
    "    \"svc__kernel\": [\"linear\", \"poly\", \"rbf\"],\n",
    "    \"svc__degree\": [2, 3],\n",
    "    \"svc__C\": [0.001, 0.01, 0.1, 1.0],\n",
    "}\n",
    "\n",
    "pipeline_cv = GridSearchCV(pipeline, grid, cv=2, n_jobs=-1)"
   ]
  },
  {
   "cell_type": "markdown",
   "metadata": {},
   "source": [
    "### Fit and eval"
   ]
  },
  {
   "cell_type": "code",
   "execution_count": 13,
   "metadata": {},
   "outputs": [
    {
     "name": "stdout",
     "output_type": "stream",
     "text": [
      "Best params:\n",
      "{'svc__C': 0.1, 'svc__degree': 2, 'svc__kernel': 'linear'}\n",
      "\n",
      "train score: 0.878\n",
      "test score: 0.875\n",
      "\n",
      "[[38  4]\n",
      " [ 6 32]]\n",
      "              precision    recall  f1-score   support\n",
      "\n",
      "           0       0.86      0.90      0.88        42\n",
      "           1       0.89      0.84      0.86        38\n",
      "\n",
      "    accuracy                           0.88        80\n",
      "   macro avg       0.88      0.87      0.87        80\n",
      "weighted avg       0.88      0.88      0.87        80\n",
      "\n"
     ]
    },
    {
     "data": {
      "application/javascript": [
       "\n",
       "            setTimeout(function() {\n",
       "                var nbb_cell_id = 13;\n",
       "                var nbb_unformatted_code = \"pipeline_cv.fit(X_train, y_train)\\n\\nprint(\\\"Best params:\\\")\\nprint(pipeline_cv.best_params_)\\n\\nprint(f\\\"\\\\ntrain score: {pipeline_cv.score(X_train, y_train):.3f}\\\")\\nprint(f\\\"test score: {pipeline_cv.score(X_test, y_test):.3f}\\\\n\\\")\\n\\ny_pred = pipeline_cv.predict(X_test)\\nprint(confusion_matrix(y_test, y_pred))\\nprint(classification_report(y_test, y_pred))\";\n",
       "                var nbb_formatted_code = \"pipeline_cv.fit(X_train, y_train)\\n\\nprint(\\\"Best params:\\\")\\nprint(pipeline_cv.best_params_)\\n\\nprint(f\\\"\\\\ntrain score: {pipeline_cv.score(X_train, y_train):.3f}\\\")\\nprint(f\\\"test score: {pipeline_cv.score(X_test, y_test):.3f}\\\\n\\\")\\n\\ny_pred = pipeline_cv.predict(X_test)\\nprint(confusion_matrix(y_test, y_pred))\\nprint(classification_report(y_test, y_pred))\";\n",
       "                var nbb_cells = Jupyter.notebook.get_cells();\n",
       "                for (var i = 0; i < nbb_cells.length; ++i) {\n",
       "                    if (nbb_cells[i].input_prompt_number == nbb_cell_id) {\n",
       "                        if (nbb_cells[i].get_text() == nbb_unformatted_code) {\n",
       "                             nbb_cells[i].set_text(nbb_formatted_code);\n",
       "                        }\n",
       "                        break;\n",
       "                    }\n",
       "                }\n",
       "            }, 500);\n",
       "            "
      ],
      "text/plain": [
       "<IPython.core.display.Javascript object>"
      ]
     },
     "metadata": {},
     "output_type": "display_data"
    }
   ],
   "source": [
    "pipeline_cv.fit(X_train, y_train)\n",
    "\n",
    "print(\"Best params:\")\n",
    "print(pipeline_cv.best_params_)\n",
    "\n",
    "print(f\"\\ntrain score: {pipeline_cv.score(X_train, y_train):.3f}\")\n",
    "print(f\"test score: {pipeline_cv.score(X_test, y_test):.3f}\\n\")\n",
    "\n",
    "y_pred = pipeline_cv.predict(X_test)\n",
    "print(confusion_matrix(y_test, y_pred))\n",
    "print(classification_report(y_test, y_pred))"
   ]
  },
  {
   "cell_type": "markdown",
   "metadata": {},
   "source": [
    "### Feat importance"
   ]
  },
  {
   "cell_type": "code",
   "execution_count": 15,
   "metadata": {},
   "outputs": [
    {
     "data": {
      "text/html": [
       "<div>\n",
       "<style scoped>\n",
       "    .dataframe tbody tr th:only-of-type {\n",
       "        vertical-align: middle;\n",
       "    }\n",
       "\n",
       "    .dataframe tbody tr th {\n",
       "        vertical-align: top;\n",
       "    }\n",
       "\n",
       "    .dataframe thead th {\n",
       "        text-align: right;\n",
       "    }\n",
       "</style>\n",
       "<table border=\"1\" class=\"dataframe\">\n",
       "  <thead>\n",
       "    <tr style=\"text-align: right;\">\n",
       "      <th></th>\n",
       "      <th>feat</th>\n",
       "      <th>coef_sq</th>\n",
       "    </tr>\n",
       "  </thead>\n",
       "  <tbody>\n",
       "    <tr>\n",
       "      <th>5</th>\n",
       "      <td>cgpa</td>\n",
       "      <td>0.632630</td>\n",
       "    </tr>\n",
       "    <tr>\n",
       "      <th>0</th>\n",
       "      <td>gre</td>\n",
       "      <td>0.244104</td>\n",
       "    </tr>\n",
       "    <tr>\n",
       "      <th>6</th>\n",
       "      <td>research</td>\n",
       "      <td>0.123721</td>\n",
       "    </tr>\n",
       "    <tr>\n",
       "      <th>2</th>\n",
       "      <td>school_rank</td>\n",
       "      <td>0.100121</td>\n",
       "    </tr>\n",
       "    <tr>\n",
       "      <th>4</th>\n",
       "      <td>lor</td>\n",
       "      <td>0.094635</td>\n",
       "    </tr>\n",
       "    <tr>\n",
       "      <th>1</th>\n",
       "      <td>toefl</td>\n",
       "      <td>0.029304</td>\n",
       "    </tr>\n",
       "    <tr>\n",
       "      <th>3</th>\n",
       "      <td>sop</td>\n",
       "      <td>0.018753</td>\n",
       "    </tr>\n",
       "  </tbody>\n",
       "</table>\n",
       "</div>"
      ],
      "text/plain": [
       "          feat   coef_sq\n",
       "5         cgpa  0.632630\n",
       "0          gre  0.244104\n",
       "6     research  0.123721\n",
       "2  school_rank  0.100121\n",
       "4          lor  0.094635\n",
       "1        toefl  0.029304\n",
       "3          sop  0.018753"
      ]
     },
     "execution_count": 15,
     "metadata": {},
     "output_type": "execute_result"
    },
    {
     "data": {
      "application/javascript": [
       "\n",
       "            setTimeout(function() {\n",
       "                var nbb_cell_id = 15;\n",
       "                var nbb_unformatted_code = \"# Only if linear kernel is chosen\\ncoef = pipeline_cv.best_estimator_[\\\"svc\\\"].coef_[0]\\nim_df = pd.DataFrame({\\\"feat\\\": X_train.columns, \\\"coef_sq\\\": coef ** 2})\\nim_df.sort_values(\\\"coef_sq\\\", ascending=False)\";\n",
       "                var nbb_formatted_code = \"# Only if linear kernel is chosen\\ncoef = pipeline_cv.best_estimator_[\\\"svc\\\"].coef_[0]\\nim_df = pd.DataFrame({\\\"feat\\\": X_train.columns, \\\"coef_sq\\\": coef ** 2})\\nim_df.sort_values(\\\"coef_sq\\\", ascending=False)\";\n",
       "                var nbb_cells = Jupyter.notebook.get_cells();\n",
       "                for (var i = 0; i < nbb_cells.length; ++i) {\n",
       "                    if (nbb_cells[i].input_prompt_number == nbb_cell_id) {\n",
       "                        if (nbb_cells[i].get_text() == nbb_unformatted_code) {\n",
       "                             nbb_cells[i].set_text(nbb_formatted_code);\n",
       "                        }\n",
       "                        break;\n",
       "                    }\n",
       "                }\n",
       "            }, 500);\n",
       "            "
      ],
      "text/plain": [
       "<IPython.core.display.Javascript object>"
      ]
     },
     "metadata": {},
     "output_type": "display_data"
    }
   ],
   "source": [
    "# Only if linear kernel is chosen\n",
    "coef = pipeline_cv.best_estimator_[\"svc\"].coef_[0]\n",
    "im_df = pd.DataFrame({\"feat\": X_train.columns, \"coef_sq\": coef ** 2})\n",
    "im_df.sort_values(\"coef_sq\", ascending=False)"
   ]
  },
  {
   "cell_type": "markdown",
   "metadata": {},
   "source": [
    "### Error analysis"
   ]
  },
  {
   "cell_type": "code",
   "execution_count": 16,
   "metadata": {},
   "outputs": [
    {
     "name": "stdout",
     "output_type": "stream",
     "text": [
      "mean prob of admit for errors: 0.749\n"
     ]
    },
    {
     "data": {
      "image/png": "[encoded data removed]",
      "text/plain": [
       "<Figure size 432x288 with 1 Axes>"
      ]
     },
     "metadata": {
      "needs_background": "light"
     },
     "output_type": "display_data"
    },
    {
     "data": {
      "application/javascript": [
       "\n",
       "            setTimeout(function() {\n",
       "                var nbb_cell_id = 16;\n",
       "                var nbb_unformatted_code = \"errors = admission_copy.copy()\\nerrors = errors.loc[y_test.index, :]\\n\\nerrors[\\\"y_true\\\"] = y_test\\nerrors[\\\"y_pred\\\"] = y_pred\\n\\nerrors = errors[errors[\\\"y_true\\\"] != errors[\\\"y_pred\\\"]]\\n\\n# We based admit off of 0.73 if our errors have around that\\n# prob of admit then i feel we did pretty good\\nprint(f'mean prob of admit for errors: {errors[\\\"admit\\\"].mean()}')\\n\\nsns.swarmplot(y=errors[\\\"admit\\\"])\\nplt.show()\";\n",
       "                var nbb_formatted_code = \"errors = admission_copy.copy()\\nerrors = errors.loc[y_test.index, :]\\n\\nerrors[\\\"y_true\\\"] = y_test\\nerrors[\\\"y_pred\\\"] = y_pred\\n\\nerrors = errors[errors[\\\"y_true\\\"] != errors[\\\"y_pred\\\"]]\\n\\n# We based admit off of 0.73 if our errors have around that\\n# prob of admit then i feel we did pretty good\\nprint(f'mean prob of admit for errors: {errors[\\\"admit\\\"].mean()}')\\n\\nsns.swarmplot(y=errors[\\\"admit\\\"])\\nplt.show()\";\n",
       "                var nbb_cells = Jupyter.notebook.get_cells();\n",
       "                for (var i = 0; i < nbb_cells.length; ++i) {\n",
       "                    if (nbb_cells[i].input_prompt_number == nbb_cell_id) {\n",
       "                        if (nbb_cells[i].get_text() == nbb_unformatted_code) {\n",
       "                             nbb_cells[i].set_text(nbb_formatted_code);\n",
       "                        }\n",
       "                        break;\n",
       "                    }\n",
       "                }\n",
       "            }, 500);\n",
       "            "
      ],
      "text/plain": [
       "<IPython.core.display.Javascript object>"
      ]
     },
     "metadata": {},
     "output_type": "display_data"
    }
   ],
   "source": [
    "errors = admission_copy.copy()\n",
    "errors = errors.loc[y_test.index, :]\n",
    "\n",
    "errors[\"y_true\"] = y_test\n",
    "errors[\"y_pred\"] = y_pred\n",
    "\n",
    "errors = errors[errors[\"y_true\"] != errors[\"y_pred\"]]\n",
    "\n",
    "# We based admit off of 0.73 if our errors have around that\n",
    "# prob of admit then i feel we did pretty good\n",
    "print(f'mean prob of admit for errors: {errors[\"admit\"].mean()}')\n",
    "\n",
    "sns.swarmplot(y=errors[\"admit\"])\n",
    "plt.show()"
   ]
  },
  {
   "cell_type": "markdown",
   "metadata": {},
   "source": [
    "## XGBoost"
   ]
  },
  {
   "cell_type": "markdown",
   "metadata": {},
   "source": [
    "### Pipeline setup"
   ]
  },
  {
   "cell_type": "code",
   "execution_count": 20,
   "metadata": {},
   "outputs": [
    {
     "data": {
      "application/javascript": [
       "\n",
       "            setTimeout(function() {\n",
       "                var nbb_cell_id = 20;\n",
       "                var nbb_unformatted_code = \"# fmt: off\\nn_trees = 100\\n\\npipeline = Pipeline([\\n    (\\\"preprocessing\\\", preprocessing), \\n    (\\\"xgb\\\", XGBClassifier(n_estimators = n_trees, learning_rate=2 / n_trees))\\n])\\n# fmt: on\\n\\ngrid = {\\n    \\\"xgb__subsample\\\": [0.5, 0.75, 1.0],\\n    \\\"xgb__colsample_bytree\\\": [0.5, 0.75, 1.0],\\n    \\\"xgb__max_depth\\\": [2, 3, 4, 5],\\n}\\n\\npipeline_cv = GridSearchCV(pipeline, grid, cv=2, n_jobs=-1)\";\n",
       "                var nbb_formatted_code = \"# fmt: off\\nn_trees = 100\\n\\npipeline = Pipeline([\\n    (\\\"preprocessing\\\", preprocessing), \\n    (\\\"xgb\\\", XGBClassifier(n_estimators = n_trees, learning_rate=2 / n_trees))\\n])\\n# fmt: on\\n\\ngrid = {\\n    \\\"xgb__subsample\\\": [0.5, 0.75, 1.0],\\n    \\\"xgb__colsample_bytree\\\": [0.5, 0.75, 1.0],\\n    \\\"xgb__max_depth\\\": [2, 3, 4, 5],\\n}\\n\\npipeline_cv = GridSearchCV(pipeline, grid, cv=2, n_jobs=-1)\";\n",
       "                var nbb_cells = Jupyter.notebook.get_cells();\n",
       "                for (var i = 0; i < nbb_cells.length; ++i) {\n",
       "                    if (nbb_cells[i].input_prompt_number == nbb_cell_id) {\n",
       "                        if (nbb_cells[i].get_text() == nbb_unformatted_code) {\n",
       "                             nbb_cells[i].set_text(nbb_formatted_code);\n",
       "                        }\n",
       "                        break;\n",
       "                    }\n",
       "                }\n",
       "            }, 500);\n",
       "            "
      ],
      "text/plain": [
       "<IPython.core.display.Javascript object>"
      ]
     },
     "metadata": {},
     "output_type": "display_data"
    }
   ],
   "source": [
    "# fmt: off\n",
    "n_trees = 100\n",
    "\n",
    "pipeline = Pipeline([\n",
    "    (\"preprocessing\", preprocessing), \n",
    "    (\"xgb\", XGBClassifier(n_estimators = n_trees, learning_rate=2 / n_trees))\n",
    "])\n",
    "# fmt: on\n",
    "\n",
    "grid = {\n",
    "    \"xgb__subsample\": [0.5, 0.75, 1.0],\n",
    "    \"xgb__colsample_bytree\": [0.5, 0.75, 1.0],\n",
    "    \"xgb__max_depth\": [2, 3, 4, 5],\n",
    "}\n",
    "\n",
    "pipeline_cv = GridSearchCV(pipeline, grid, cv=2, n_jobs=-1)"
   ]
  },
  {
   "cell_type": "markdown",
   "metadata": {},
   "source": [
    "### Fit and eval"
   ]
  },
  {
   "cell_type": "code",
   "execution_count": 21,
   "metadata": {},
   "outputs": [
    {
     "name": "stdout",
     "output_type": "stream",
     "text": [
      "Best params:\n",
      "{'xgb__colsample_bytree': 0.75, 'xgb__max_depth': 4, 'xgb__subsample': 0.5}\n",
      "\n",
      "train score: 0.903\n",
      "test score: 0.875\n",
      "\n",
      "[[39  3]\n",
      " [ 7 31]]\n",
      "              precision    recall  f1-score   support\n",
      "\n",
      "           0       0.85      0.93      0.89        42\n",
      "           1       0.91      0.82      0.86        38\n",
      "\n",
      "    accuracy                           0.88        80\n",
      "   macro avg       0.88      0.87      0.87        80\n",
      "weighted avg       0.88      0.88      0.87        80\n",
      "\n"
     ]
    },
    {
     "data": {
      "application/javascript": [
       "\n",
       "            setTimeout(function() {\n",
       "                var nbb_cell_id = 21;\n",
       "                var nbb_unformatted_code = \"pipeline_cv.fit(X_train, y_train)\\n\\nprint(\\\"Best params:\\\")\\nprint(pipeline_cv.best_params_)\\n\\nprint(f\\\"\\\\ntrain score: {pipeline_cv.score(X_train, y_train):.3f}\\\")\\nprint(f\\\"test score: {pipeline_cv.score(X_test, y_test):.3f}\\\\n\\\")\\n\\ny_pred = pipeline_cv.predict(X_test)\\nprint(confusion_matrix(y_test, y_pred))\\nprint(classification_report(y_test, y_pred))\";\n",
       "                var nbb_formatted_code = \"pipeline_cv.fit(X_train, y_train)\\n\\nprint(\\\"Best params:\\\")\\nprint(pipeline_cv.best_params_)\\n\\nprint(f\\\"\\\\ntrain score: {pipeline_cv.score(X_train, y_train):.3f}\\\")\\nprint(f\\\"test score: {pipeline_cv.score(X_test, y_test):.3f}\\\\n\\\")\\n\\ny_pred = pipeline_cv.predict(X_test)\\nprint(confusion_matrix(y_test, y_pred))\\nprint(classification_report(y_test, y_pred))\";\n",
       "                var nbb_cells = Jupyter.notebook.get_cells();\n",
       "                for (var i = 0; i < nbb_cells.length; ++i) {\n",
       "                    if (nbb_cells[i].input_prompt_number == nbb_cell_id) {\n",
       "                        if (nbb_cells[i].get_text() == nbb_unformatted_code) {\n",
       "                             nbb_cells[i].set_text(nbb_formatted_code);\n",
       "                        }\n",
       "                        break;\n",
       "                    }\n",
       "                }\n",
       "            }, 500);\n",
       "            "
      ],
      "text/plain": [
       "<IPython.core.display.Javascript object>"
      ]
     },
     "metadata": {},
     "output_type": "display_data"
    }
   ],
   "source": [
    "pipeline_cv.fit(X_train, y_train)\n",
    "\n",
    "print(\"Best params:\")\n",
    "print(pipeline_cv.best_params_)\n",
    "\n",
    "print(f\"\\ntrain score: {pipeline_cv.score(X_train, y_train):.3f}\")\n",
    "print(f\"test score: {pipeline_cv.score(X_test, y_test):.3f}\\n\")\n",
    "\n",
    "y_pred = pipeline_cv.predict(X_test)\n",
    "print(confusion_matrix(y_test, y_pred))\n",
    "print(classification_report(y_test, y_pred))"
   ]
  },
  {
   "cell_type": "markdown",
   "metadata": {},
   "source": [
    "### Feat importance"
   ]
  },
  {
   "cell_type": "code",
   "execution_count": 22,
   "metadata": {},
   "outputs": [
    {
     "data": {
      "text/html": [
       "<div>\n",
       "<style scoped>\n",
       "    .dataframe tbody tr th:only-of-type {\n",
       "        vertical-align: middle;\n",
       "    }\n",
       "\n",
       "    .dataframe tbody tr th {\n",
       "        vertical-align: top;\n",
       "    }\n",
       "\n",
       "    .dataframe thead th {\n",
       "        text-align: right;\n",
       "    }\n",
       "</style>\n",
       "<table border=\"1\" class=\"dataframe\">\n",
       "  <thead>\n",
       "    <tr style=\"text-align: right;\">\n",
       "      <th></th>\n",
       "      <th>feat</th>\n",
       "      <th>importance</th>\n",
       "    </tr>\n",
       "  </thead>\n",
       "  <tbody>\n",
       "    <tr>\n",
       "      <th>5</th>\n",
       "      <td>cgpa</td>\n",
       "      <td>0.358977</td>\n",
       "    </tr>\n",
       "    <tr>\n",
       "      <th>0</th>\n",
       "      <td>gre</td>\n",
       "      <td>0.179830</td>\n",
       "    </tr>\n",
       "    <tr>\n",
       "      <th>1</th>\n",
       "      <td>toefl</td>\n",
       "      <td>0.131125</td>\n",
       "    </tr>\n",
       "    <tr>\n",
       "      <th>2</th>\n",
       "      <td>school_rank</td>\n",
       "      <td>0.117858</td>\n",
       "    </tr>\n",
       "    <tr>\n",
       "      <th>4</th>\n",
       "      <td>lor</td>\n",
       "      <td>0.084819</td>\n",
       "    </tr>\n",
       "    <tr>\n",
       "      <th>6</th>\n",
       "      <td>research</td>\n",
       "      <td>0.066140</td>\n",
       "    </tr>\n",
       "    <tr>\n",
       "      <th>3</th>\n",
       "      <td>sop</td>\n",
       "      <td>0.061252</td>\n",
       "    </tr>\n",
       "  </tbody>\n",
       "</table>\n",
       "</div>"
      ],
      "text/plain": [
       "          feat  importance\n",
       "5         cgpa    0.358977\n",
       "0          gre    0.179830\n",
       "1        toefl    0.131125\n",
       "2  school_rank    0.117858\n",
       "4          lor    0.084819\n",
       "6     research    0.066140\n",
       "3          sop    0.061252"
      ]
     },
     "execution_count": 22,
     "metadata": {},
     "output_type": "execute_result"
    },
    {
     "data": {
      "application/javascript": [
       "\n",
       "            setTimeout(function() {\n",
       "                var nbb_cell_id = 22;\n",
       "                var nbb_unformatted_code = \"importances = pipeline_cv.best_estimator_[\\\"xgb\\\"].feature_importances_\\nim_df = pd.DataFrame({\\\"feat\\\": X_train.columns, \\\"importance\\\": importances})\\nim_df.sort_values(\\\"importance\\\", ascending=False)\";\n",
       "                var nbb_formatted_code = \"importances = pipeline_cv.best_estimator_[\\\"xgb\\\"].feature_importances_\\nim_df = pd.DataFrame({\\\"feat\\\": X_train.columns, \\\"importance\\\": importances})\\nim_df.sort_values(\\\"importance\\\", ascending=False)\";\n",
       "                var nbb_cells = Jupyter.notebook.get_cells();\n",
       "                for (var i = 0; i < nbb_cells.length; ++i) {\n",
       "                    if (nbb_cells[i].input_prompt_number == nbb_cell_id) {\n",
       "                        if (nbb_cells[i].get_text() == nbb_unformatted_code) {\n",
       "                             nbb_cells[i].set_text(nbb_formatted_code);\n",
       "                        }\n",
       "                        break;\n",
       "                    }\n",
       "                }\n",
       "            }, 500);\n",
       "            "
      ],
      "text/plain": [
       "<IPython.core.display.Javascript object>"
      ]
     },
     "metadata": {},
     "output_type": "display_data"
    }
   ],
   "source": [
    "importances = pipeline_cv.best_estimator_[\"xgb\"].feature_importances_\n",
    "im_df = pd.DataFrame({\"feat\": X_train.columns, \"importance\": importances})\n",
    "im_df.sort_values(\"importance\", ascending=False)"
   ]
  },
  {
   "cell_type": "markdown",
   "metadata": {},
   "source": [
    "### Error analysis"
   ]
  },
  {
   "cell_type": "code",
   "execution_count": 23,
   "metadata": {},
   "outputs": [
    {
     "name": "stdout",
     "output_type": "stream",
     "text": [
      "mean prob of admit for errors: 0.749\n"
     ]
    },
    {
     "data": {
      "image/png": "[encoded data removed]",
      "text/plain": [
       "<Figure size 432x288 with 1 Axes>"
      ]
     },
     "metadata": {
      "needs_background": "light"
     },
     "output_type": "display_data"
    },
    {
     "data": {
      "application/javascript": [
       "\n",
       "            setTimeout(function() {\n",
       "                var nbb_cell_id = 23;\n",
       "                var nbb_unformatted_code = \"errors = admission_copy.copy()\\nerrors = errors.loc[y_test.index, :]\\n\\nerrors[\\\"y_true\\\"] = y_test\\nerrors[\\\"y_pred\\\"] = y_pred\\n\\nerrors = errors[errors[\\\"y_true\\\"] != errors[\\\"y_pred\\\"]]\\n\\n# We based admit off of 0.73 if our errors have around that\\n# prob of admit then i feel we did pretty good\\nprint(f'mean prob of admit for errors: {errors[\\\"admit\\\"].mean()}')\\n\\nsns.swarmplot(y=errors[\\\"admit\\\"])\\nplt.show()\";\n",
       "                var nbb_formatted_code = \"errors = admission_copy.copy()\\nerrors = errors.loc[y_test.index, :]\\n\\nerrors[\\\"y_true\\\"] = y_test\\nerrors[\\\"y_pred\\\"] = y_pred\\n\\nerrors = errors[errors[\\\"y_true\\\"] != errors[\\\"y_pred\\\"]]\\n\\n# We based admit off of 0.73 if our errors have around that\\n# prob of admit then i feel we did pretty good\\nprint(f'mean prob of admit for errors: {errors[\\\"admit\\\"].mean()}')\\n\\nsns.swarmplot(y=errors[\\\"admit\\\"])\\nplt.show()\";\n",
       "                var nbb_cells = Jupyter.notebook.get_cells();\n",
       "                for (var i = 0; i < nbb_cells.length; ++i) {\n",
       "                    if (nbb_cells[i].input_prompt_number == nbb_cell_id) {\n",
       "                        if (nbb_cells[i].get_text() == nbb_unformatted_code) {\n",
       "                             nbb_cells[i].set_text(nbb_formatted_code);\n",
       "                        }\n",
       "                        break;\n",
       "                    }\n",
       "                }\n",
       "            }, 500);\n",
       "            "
      ],
      "text/plain": [
       "<IPython.core.display.Javascript object>"
      ]
     },
     "metadata": {},
     "output_type": "display_data"
    }
   ],
   "source": [
    "errors = admission_copy.copy()\n",
    "errors = errors.loc[y_test.index, :]\n",
    "\n",
    "errors[\"y_true\"] = y_test\n",
    "errors[\"y_pred\"] = y_pred\n",
    "\n",
    "errors = errors[errors[\"y_true\"] != errors[\"y_pred\"]]\n",
    "\n",
    "# We based admit off of 0.73 if our errors have around that\n",
    "# prob of admit then i feel we did pretty good\n",
    "print(f'mean prob of admit for errors: {errors[\"admit\"].mean()}')\n",
    "\n",
    "sns.swarmplot(y=errors[\"admit\"])\n",
    "plt.show()"
   ]
  }
 ],
 "metadata": {
  "colab": {
   "collapsed_sections": [],
   "name": "Day 35 Lecture 2 Assignment.ipynb",
   "provenance": []
  },
  "kernelspec": {
   "display_name": "Python 3",
   "language": "python",
   "name": "python3"
  },
  "language_info": {
   "codemirror_mode": {
    "name": "ipython",
    "version": 3
   },
   "file_extension": ".py",
   "mimetype": "text/x-python",
   "name": "python",
   "nbconvert_exporter": "python",
   "pygments_lexer": "ipython3",
   "version": "3.7.6"
  }
 },
 "nbformat": 4,
 "nbformat_minor": 1
}
