{
 "cells": [
  {
   "cell_type": "code",
   "execution_count": 1,
   "metadata": {},
   "outputs": [
    {
     "data": {
      "application/javascript": [
       "\n",
       "            setTimeout(function() {\n",
       "                var nbb_cell_id = 1;\n",
       "                var nbb_unformatted_code = \"%reload_ext nb_black\";\n",
       "                var nbb_formatted_code = \"%reload_ext nb_black\";\n",
       "                var nbb_cells = Jupyter.notebook.get_cells();\n",
       "                for (var i = 0; i < nbb_cells.length; ++i) {\n",
       "                    if (nbb_cells[i].input_prompt_number == nbb_cell_id) {\n",
       "                        if (nbb_cells[i].get_text() == nbb_unformatted_code) {\n",
       "                             nbb_cells[i].set_text(nbb_formatted_code);\n",
       "                        }\n",
       "                        break;\n",
       "                    }\n",
       "                }\n",
       "            }, 500);\n",
       "            "
      ],
      "text/plain": [
       "<IPython.core.display.Javascript object>"
      ]
     },
     "metadata": {},
     "output_type": "display_data"
    }
   ],
   "source": [
    "%reload_ext nb_black"
   ]
  },
  {
   "cell_type": "code",
   "execution_count": 5,
   "metadata": {},
   "outputs": [
    {
     "data": {
      "application/javascript": [
       "\n",
       "            setTimeout(function() {\n",
       "                var nbb_cell_id = 5;\n",
       "                var nbb_unformatted_code = \"import pandas as pd\\nimport numpy as np\\nimport scipy\\nimport matplotlib.pyplot as plt\\nfrom sklearn.neighbors import KNeighborsRegressor\\nfrom sklearn.model_selection import train_test_split, cross_val_score, GridSearchCV\\n\\n%matplotlib inline\\n\\nmusic = pd.DataFrame()\\nmusic[\\\"duration\\\"] = [\\n    184,\\n    134,\\n    243,\\n    186,\\n    122,\\n    197,\\n    294,\\n    382,\\n    102,\\n    264,\\n    205,\\n    110,\\n    307,\\n    110,\\n    397,\\n    153,\\n    190,\\n    192,\\n    210,\\n    403,\\n    164,\\n    198,\\n    204,\\n    253,\\n    234,\\n    190,\\n    182,\\n    401,\\n    376,\\n    102,\\n]\\nmusic[\\\"loudness\\\"] = [\\n    18,\\n    34,\\n    43,\\n    36,\\n    22,\\n    9,\\n    29,\\n    22,\\n    10,\\n    24,\\n    20,\\n    10,\\n    17,\\n    51,\\n    7,\\n    13,\\n    19,\\n    12,\\n    21,\\n    22,\\n    16,\\n    18,\\n    4,\\n    23,\\n    34,\\n    19,\\n    14,\\n    11,\\n    37,\\n    42,\\n]\\nmusic[\\\"bpm\\\"] = [\\n    105,\\n    90,\\n    78,\\n    75,\\n    120,\\n    110,\\n    80,\\n    100,\\n    105,\\n    60,\\n    70,\\n    105,\\n    95,\\n    70,\\n    90,\\n    105,\\n    70,\\n    75,\\n    102,\\n    100,\\n    100,\\n    95,\\n    90,\\n    80,\\n    90,\\n    80,\\n    100,\\n    105,\\n    70,\\n    65,\\n]\";\n",
       "                var nbb_formatted_code = \"import pandas as pd\\nimport numpy as np\\nimport scipy\\nimport matplotlib.pyplot as plt\\nfrom sklearn.neighbors import KNeighborsRegressor\\nfrom sklearn.model_selection import train_test_split, cross_val_score, GridSearchCV\\n\\n%matplotlib inline\\n\\nmusic = pd.DataFrame()\\nmusic[\\\"duration\\\"] = [\\n    184,\\n    134,\\n    243,\\n    186,\\n    122,\\n    197,\\n    294,\\n    382,\\n    102,\\n    264,\\n    205,\\n    110,\\n    307,\\n    110,\\n    397,\\n    153,\\n    190,\\n    192,\\n    210,\\n    403,\\n    164,\\n    198,\\n    204,\\n    253,\\n    234,\\n    190,\\n    182,\\n    401,\\n    376,\\n    102,\\n]\\nmusic[\\\"loudness\\\"] = [\\n    18,\\n    34,\\n    43,\\n    36,\\n    22,\\n    9,\\n    29,\\n    22,\\n    10,\\n    24,\\n    20,\\n    10,\\n    17,\\n    51,\\n    7,\\n    13,\\n    19,\\n    12,\\n    21,\\n    22,\\n    16,\\n    18,\\n    4,\\n    23,\\n    34,\\n    19,\\n    14,\\n    11,\\n    37,\\n    42,\\n]\\nmusic[\\\"bpm\\\"] = [\\n    105,\\n    90,\\n    78,\\n    75,\\n    120,\\n    110,\\n    80,\\n    100,\\n    105,\\n    60,\\n    70,\\n    105,\\n    95,\\n    70,\\n    90,\\n    105,\\n    70,\\n    75,\\n    102,\\n    100,\\n    100,\\n    95,\\n    90,\\n    80,\\n    90,\\n    80,\\n    100,\\n    105,\\n    70,\\n    65,\\n]\";\n",
       "                var nbb_cells = Jupyter.notebook.get_cells();\n",
       "                for (var i = 0; i < nbb_cells.length; ++i) {\n",
       "                    if (nbb_cells[i].input_prompt_number == nbb_cell_id) {\n",
       "                        if (nbb_cells[i].get_text() == nbb_unformatted_code) {\n",
       "                             nbb_cells[i].set_text(nbb_formatted_code);\n",
       "                        }\n",
       "                        break;\n",
       "                    }\n",
       "                }\n",
       "            }, 500);\n",
       "            "
      ],
      "text/plain": [
       "<IPython.core.display.Javascript object>"
      ]
     },
     "metadata": {},
     "output_type": "display_data"
    }
   ],
   "source": [
    "import pandas as pd\n",
    "import numpy as np\n",
    "import scipy\n",
    "import matplotlib.pyplot as plt\n",
    "from sklearn.neighbors import KNeighborsRegressor\n",
    "from sklearn.model_selection import train_test_split, cross_val_score, GridSearchCV\n",
    "\n",
    "%matplotlib inline\n",
    "\n",
    "music = pd.DataFrame()\n",
    "music[\"duration\"] = [\n",
    "    184,\n",
    "    134,\n",
    "    243,\n",
    "    186,\n",
    "    122,\n",
    "    197,\n",
    "    294,\n",
    "    382,\n",
    "    102,\n",
    "    264,\n",
    "    205,\n",
    "    110,\n",
    "    307,\n",
    "    110,\n",
    "    397,\n",
    "    153,\n",
    "    190,\n",
    "    192,\n",
    "    210,\n",
    "    403,\n",
    "    164,\n",
    "    198,\n",
    "    204,\n",
    "    253,\n",
    "    234,\n",
    "    190,\n",
    "    182,\n",
    "    401,\n",
    "    376,\n",
    "    102,\n",
    "]\n",
    "music[\"loudness\"] = [\n",
    "    18,\n",
    "    34,\n",
    "    43,\n",
    "    36,\n",
    "    22,\n",
    "    9,\n",
    "    29,\n",
    "    22,\n",
    "    10,\n",
    "    24,\n",
    "    20,\n",
    "    10,\n",
    "    17,\n",
    "    51,\n",
    "    7,\n",
    "    13,\n",
    "    19,\n",
    "    12,\n",
    "    21,\n",
    "    22,\n",
    "    16,\n",
    "    18,\n",
    "    4,\n",
    "    23,\n",
    "    34,\n",
    "    19,\n",
    "    14,\n",
    "    11,\n",
    "    37,\n",
    "    42,\n",
    "]\n",
    "music[\"bpm\"] = [\n",
    "    105,\n",
    "    90,\n",
    "    78,\n",
    "    75,\n",
    "    120,\n",
    "    110,\n",
    "    80,\n",
    "    100,\n",
    "    105,\n",
    "    60,\n",
    "    70,\n",
    "    105,\n",
    "    95,\n",
    "    70,\n",
    "    90,\n",
    "    105,\n",
    "    70,\n",
    "    75,\n",
    "    102,\n",
    "    100,\n",
    "    100,\n",
    "    95,\n",
    "    90,\n",
    "    80,\n",
    "    90,\n",
    "    80,\n",
    "    100,\n",
    "    105,\n",
    "    70,\n",
    "    65,\n",
    "]"
   ]
  },
  {
   "cell_type": "code",
   "execution_count": 6,
   "metadata": {},
   "outputs": [
    {
     "data": {
      "application/javascript": [
       "\n",
       "            setTimeout(function() {\n",
       "                var nbb_cell_id = 6;\n",
       "                var nbb_unformatted_code = \"X = music.drop('bpm',1)\\ny = music['bpm']\";\n",
       "                var nbb_formatted_code = \"X = music.drop(\\\"bpm\\\", 1)\\ny = music[\\\"bpm\\\"]\";\n",
       "                var nbb_cells = Jupyter.notebook.get_cells();\n",
       "                for (var i = 0; i < nbb_cells.length; ++i) {\n",
       "                    if (nbb_cells[i].input_prompt_number == nbb_cell_id) {\n",
       "                        if (nbb_cells[i].get_text() == nbb_unformatted_code) {\n",
       "                             nbb_cells[i].set_text(nbb_formatted_code);\n",
       "                        }\n",
       "                        break;\n",
       "                    }\n",
       "                }\n",
       "            }, 500);\n",
       "            "
      ],
      "text/plain": [
       "<IPython.core.display.Javascript object>"
      ]
     },
     "metadata": {},
     "output_type": "display_data"
    }
   ],
   "source": [
    "X = music.drop(\"bpm\", 1)\n",
    "y = music[\"bpm\"]"
   ]
  },
  {
   "cell_type": "code",
   "execution_count": 8,
   "metadata": {},
   "outputs": [
    {
     "name": "stdout",
     "output_type": "stream",
     "text": [
      "Fitting 5 folds for each of 12 candidates, totalling 60 fits\n"
     ]
    },
    {
     "name": "stderr",
     "output_type": "stream",
     "text": [
      "[Parallel(n_jobs=-1)]: Using backend LokyBackend with 6 concurrent workers.\n",
      "[Parallel(n_jobs=-1)]: Done  60 out of  60 | elapsed:    1.6s finished\n"
     ]
    },
    {
     "data": {
      "text/plain": [
       "GridSearchCV(cv=None, error_score=nan,\n",
       "             estimator=KNeighborsRegressor(algorithm='auto', leaf_size=30,\n",
       "                                           metric='minkowski',\n",
       "                                           metric_params=None, n_jobs=None,\n",
       "                                           n_neighbors=5, p=2,\n",
       "                                           weights='uniform'),\n",
       "             iid='deprecated', n_jobs=-1,\n",
       "             param_grid={'n_neighbors': array([ 1,  3,  5,  7,  9, 11]),\n",
       "                         'weights': ['uniform', 'distance']},\n",
       "             pre_dispatch='2*n_jobs', refit=True, return_train_score=False,\n",
       "             scoring=None, verbose=1)"
      ]
     },
     "execution_count": 8,
     "metadata": {},
     "output_type": "execute_result"
    },
    {
     "data": {
      "application/javascript": [
       "\n",
       "            setTimeout(function() {\n",
       "                var nbb_cell_id = 8;\n",
       "                var nbb_unformatted_code = \"grid={'n_neighbors':np.arange(1,13,2), 'weights':['uniform', 'distance']}\\nmodel_cv =GridSearchCV(KNeighborsRegressor(), grid, verbose=1, n_jobs=-1)\\nmodel_cv.fit(X,y)\";\n",
       "                var nbb_formatted_code = \"grid = {\\\"n_neighbors\\\": np.arange(1, 13, 2), \\\"weights\\\": [\\\"uniform\\\", \\\"distance\\\"]}\\nmodel_cv = GridSearchCV(KNeighborsRegressor(), grid, verbose=1, n_jobs=-1)\\nmodel_cv.fit(X, y)\";\n",
       "                var nbb_cells = Jupyter.notebook.get_cells();\n",
       "                for (var i = 0; i < nbb_cells.length; ++i) {\n",
       "                    if (nbb_cells[i].input_prompt_number == nbb_cell_id) {\n",
       "                        if (nbb_cells[i].get_text() == nbb_unformatted_code) {\n",
       "                             nbb_cells[i].set_text(nbb_formatted_code);\n",
       "                        }\n",
       "                        break;\n",
       "                    }\n",
       "                }\n",
       "            }, 500);\n",
       "            "
      ],
      "text/plain": [
       "<IPython.core.display.Javascript object>"
      ]
     },
     "metadata": {},
     "output_type": "display_data"
    }
   ],
   "source": [
    "grid = {\"n_neighbors\": np.arange(1, 13, 2), \"weights\": [\"uniform\", \"distance\"]}\n",
    "model_cv = GridSearchCV(KNeighborsRegressor(), grid, verbose=1, n_jobs=-1)\n",
    "model_cv.fit(X, y)"
   ]
  },
  {
   "cell_type": "code",
   "execution_count": 11,
   "metadata": {},
   "outputs": [
    {
     "data": {
      "text/plain": [
       "{'n_neighbors': 11, 'weights': 'distance'}"
      ]
     },
     "execution_count": 11,
     "metadata": {},
     "output_type": "execute_result"
    },
    {
     "data": {
      "application/javascript": [
       "\n",
       "            setTimeout(function() {\n",
       "                var nbb_cell_id = 11;\n",
       "                var nbb_unformatted_code = \"model_cv.best_params_\";\n",
       "                var nbb_formatted_code = \"model_cv.best_params_\";\n",
       "                var nbb_cells = Jupyter.notebook.get_cells();\n",
       "                for (var i = 0; i < nbb_cells.length; ++i) {\n",
       "                    if (nbb_cells[i].input_prompt_number == nbb_cell_id) {\n",
       "                        if (nbb_cells[i].get_text() == nbb_unformatted_code) {\n",
       "                             nbb_cells[i].set_text(nbb_formatted_code);\n",
       "                        }\n",
       "                        break;\n",
       "                    }\n",
       "                }\n",
       "            }, 500);\n",
       "            "
      ],
      "text/plain": [
       "<IPython.core.display.Javascript object>"
      ]
     },
     "metadata": {},
     "output_type": "display_data"
    }
   ],
   "source": [
    "model_cv.best_params_"
   ]
  },
  {
   "cell_type": "code",
   "execution_count": 10,
   "metadata": {},
   "outputs": [
    {
     "data": {
      "text/plain": [
       "0.9928822245420897"
      ]
     },
     "execution_count": 10,
     "metadata": {},
     "output_type": "execute_result"
    },
    {
     "data": {
      "application/javascript": [
       "\n",
       "            setTimeout(function() {\n",
       "                var nbb_cell_id = 10;\n",
       "                var nbb_unformatted_code = \"model_cv.score(X,y)\";\n",
       "                var nbb_formatted_code = \"model_cv.score(X, y)\";\n",
       "                var nbb_cells = Jupyter.notebook.get_cells();\n",
       "                for (var i = 0; i < nbb_cells.length; ++i) {\n",
       "                    if (nbb_cells[i].input_prompt_number == nbb_cell_id) {\n",
       "                        if (nbb_cells[i].get_text() == nbb_unformatted_code) {\n",
       "                             nbb_cells[i].set_text(nbb_formatted_code);\n",
       "                        }\n",
       "                        break;\n",
       "                    }\n",
       "                }\n",
       "            }, 500);\n",
       "            "
      ],
      "text/plain": [
       "<IPython.core.display.Javascript object>"
      ]
     },
     "metadata": {},
     "output_type": "display_data"
    }
   ],
   "source": [
    "model_cv.score(X, y)"
   ]
  }
 ],
 "metadata": {
  "kernelspec": {
   "display_name": "Python 3",
   "language": "python",
   "name": "python3"
  },
  "language_info": {
   "codemirror_mode": {
    "name": "ipython",
    "version": 3
   },
   "file_extension": ".py",
   "mimetype": "text/x-python",
   "name": "python",
   "nbconvert_exporter": "python",
   "pygments_lexer": "ipython3",
   "version": "3.7.6"
  }
 },
 "nbformat": 4,
 "nbformat_minor": 4
}
