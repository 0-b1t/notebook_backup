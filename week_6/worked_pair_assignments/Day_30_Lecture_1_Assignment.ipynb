{
 "cells": [
  {
   "cell_type": "code",
   "execution_count": 1,
   "metadata": {},
   "outputs": [
    {
     "data": {
      "application/javascript": [
       "\n",
       "            setTimeout(function() {\n",
       "                var nbb_cell_id = 1;\n",
       "                var nbb_unformatted_code = \"%reload_ext nb_black\";\n",
       "                var nbb_formatted_code = \"%reload_ext nb_black\";\n",
       "                var nbb_cells = Jupyter.notebook.get_cells();\n",
       "                for (var i = 0; i < nbb_cells.length; ++i) {\n",
       "                    if (nbb_cells[i].input_prompt_number == nbb_cell_id) {\n",
       "                        if (nbb_cells[i].get_text() == nbb_unformatted_code) {\n",
       "                             nbb_cells[i].set_text(nbb_formatted_code);\n",
       "                        }\n",
       "                        break;\n",
       "                    }\n",
       "                }\n",
       "            }, 500);\n",
       "            "
      ],
      "text/plain": [
       "<IPython.core.display.Javascript object>"
      ]
     },
     "metadata": {},
     "output_type": "display_data"
    }
   ],
   "source": [
    "%reload_ext nb_black"
   ]
  },
  {
   "cell_type": "markdown",
   "metadata": {
    "colab_type": "text",
    "id": "3DPEH2GvdWEc"
   },
   "source": [
    "## Day 30 Lecture 1 Assignment\n",
    "\n",
    "In this assignment, we will build our first random forest model. We will use a dataset containing churn information for a telephone company's customers."
   ]
  },
  {
   "cell_type": "code",
   "execution_count": 2,
   "metadata": {
    "colab": {},
    "colab_type": "code",
    "id": "yx3zL4jfdWEc"
   },
   "outputs": [
    {
     "data": {
      "application/javascript": [
       "\n",
       "            setTimeout(function() {\n",
       "                var nbb_cell_id = 2;\n",
       "                var nbb_unformatted_code = \"import numpy as np\\nimport pandas as pd\\n\\nfrom sklearn.model_selection import train_test_split, GridSearchCV\\nfrom sklearn.preprocessing import OneHotEncoder\\nfrom sklearn.feature_selection import SelectKBest\\nfrom sklearn.ensemble import RandomForestClassifier\\nfrom sklearn.metrics import (\\n    classification_report,\\n    confusion_matrix,\\n    roc_curve,\\n    roc_auc_score,\\n    f1_score,\\n    make_scorer,\\n)\\n\\nfrom category_encoders import LeaveOneOutEncoder\\n\\nimport matplotlib.pyplot as plt\\n\\n%matplotlib inline\";\n",
       "                var nbb_formatted_code = \"import numpy as np\\nimport pandas as pd\\n\\nfrom sklearn.model_selection import train_test_split, GridSearchCV\\nfrom sklearn.preprocessing import OneHotEncoder\\nfrom sklearn.feature_selection import SelectKBest\\nfrom sklearn.ensemble import RandomForestClassifier\\nfrom sklearn.metrics import (\\n    classification_report,\\n    confusion_matrix,\\n    roc_curve,\\n    roc_auc_score,\\n    f1_score,\\n    make_scorer,\\n)\\n\\nfrom category_encoders import LeaveOneOutEncoder\\n\\nimport matplotlib.pyplot as plt\\n\\n%matplotlib inline\";\n",
       "                var nbb_cells = Jupyter.notebook.get_cells();\n",
       "                for (var i = 0; i < nbb_cells.length; ++i) {\n",
       "                    if (nbb_cells[i].input_prompt_number == nbb_cell_id) {\n",
       "                        if (nbb_cells[i].get_text() == nbb_unformatted_code) {\n",
       "                             nbb_cells[i].set_text(nbb_formatted_code);\n",
       "                        }\n",
       "                        break;\n",
       "                    }\n",
       "                }\n",
       "            }, 500);\n",
       "            "
      ],
      "text/plain": [
       "<IPython.core.display.Javascript object>"
      ]
     },
     "metadata": {},
     "output_type": "display_data"
    }
   ],
   "source": [
    "import numpy as np\n",
    "import pandas as pd\n",
    "\n",
    "from sklearn.model_selection import train_test_split, GridSearchCV\n",
    "from sklearn.preprocessing import OneHotEncoder\n",
    "from sklearn.feature_selection import SelectKBest\n",
    "from sklearn.ensemble import RandomForestClassifier\n",
    "from sklearn.metrics import (\n",
    "    classification_report,\n",
    "    confusion_matrix,\n",
    "    roc_curve,\n",
    "    roc_auc_score,\n",
    "    f1_score,\n",
    "    make_scorer,\n",
    ")\n",
    "\n",
    "from category_encoders import LeaveOneOutEncoder\n",
    "\n",
    "import matplotlib.pyplot as plt\n",
    "\n",
    "%matplotlib inline"
   ]
  },
  {
   "cell_type": "markdown",
   "metadata": {
    "colab_type": "text",
    "id": "m2vkGnLGKV9X"
   },
   "source": [
    "Read in the telecom churn dataset.\n",
    "\n",
    "https://raw.githubusercontent.com/Thinkful-Ed/data-science-lectures/master/telecom_churn.csv"
   ]
  },
  {
   "cell_type": "code",
   "execution_count": 3,
   "metadata": {
    "colab": {},
    "colab_type": "code",
    "id": "3NO2s06udWEg"
   },
   "outputs": [
    {
     "data": {
      "text/html": [
       "<div>\n",
       "<style scoped>\n",
       "    .dataframe tbody tr th:only-of-type {\n",
       "        vertical-align: middle;\n",
       "    }\n",
       "\n",
       "    .dataframe tbody tr th {\n",
       "        vertical-align: top;\n",
       "    }\n",
       "\n",
       "    .dataframe thead th {\n",
       "        text-align: right;\n",
       "    }\n",
       "</style>\n",
       "<table border=\"1\" class=\"dataframe\">\n",
       "  <thead>\n",
       "    <tr style=\"text-align: right;\">\n",
       "      <th></th>\n",
       "      <th>CustomerID</th>\n",
       "      <th>Churn</th>\n",
       "      <th>MonthlyRevenue</th>\n",
       "      <th>MonthlyMinutes</th>\n",
       "      <th>TotalRecurringCharge</th>\n",
       "      <th>DirectorAssistedCalls</th>\n",
       "      <th>OverageMinutes</th>\n",
       "      <th>RoamingCalls</th>\n",
       "      <th>PercChangeMinutes</th>\n",
       "      <th>PercChangeRevenues</th>\n",
       "      <th>...</th>\n",
       "      <th>ReferralsMadeBySubscriber</th>\n",
       "      <th>IncomeGroup</th>\n",
       "      <th>OwnsMotorcycle</th>\n",
       "      <th>AdjustmentsToCreditRating</th>\n",
       "      <th>HandsetPrice</th>\n",
       "      <th>MadeCallToRetentionTeam</th>\n",
       "      <th>CreditRating</th>\n",
       "      <th>PrizmCode</th>\n",
       "      <th>Occupation</th>\n",
       "      <th>MaritalStatus</th>\n",
       "    </tr>\n",
       "  </thead>\n",
       "  <tbody>\n",
       "    <tr>\n",
       "      <th>0</th>\n",
       "      <td>3000002</td>\n",
       "      <td>Yes</td>\n",
       "      <td>24.00</td>\n",
       "      <td>219.0</td>\n",
       "      <td>22.0</td>\n",
       "      <td>0.25</td>\n",
       "      <td>0.0</td>\n",
       "      <td>0.0</td>\n",
       "      <td>-157.0</td>\n",
       "      <td>-19.0</td>\n",
       "      <td>...</td>\n",
       "      <td>0</td>\n",
       "      <td>4</td>\n",
       "      <td>No</td>\n",
       "      <td>0</td>\n",
       "      <td>30</td>\n",
       "      <td>Yes</td>\n",
       "      <td>1-Highest</td>\n",
       "      <td>Suburban</td>\n",
       "      <td>Professional</td>\n",
       "      <td>No</td>\n",
       "    </tr>\n",
       "    <tr>\n",
       "      <th>1</th>\n",
       "      <td>3000010</td>\n",
       "      <td>Yes</td>\n",
       "      <td>16.99</td>\n",
       "      <td>10.0</td>\n",
       "      <td>17.0</td>\n",
       "      <td>0.00</td>\n",
       "      <td>0.0</td>\n",
       "      <td>0.0</td>\n",
       "      <td>-4.0</td>\n",
       "      <td>0.0</td>\n",
       "      <td>...</td>\n",
       "      <td>0</td>\n",
       "      <td>5</td>\n",
       "      <td>No</td>\n",
       "      <td>0</td>\n",
       "      <td>30</td>\n",
       "      <td>No</td>\n",
       "      <td>4-Medium</td>\n",
       "      <td>Suburban</td>\n",
       "      <td>Professional</td>\n",
       "      <td>Yes</td>\n",
       "    </tr>\n",
       "    <tr>\n",
       "      <th>2</th>\n",
       "      <td>3000014</td>\n",
       "      <td>No</td>\n",
       "      <td>38.00</td>\n",
       "      <td>8.0</td>\n",
       "      <td>38.0</td>\n",
       "      <td>0.00</td>\n",
       "      <td>0.0</td>\n",
       "      <td>0.0</td>\n",
       "      <td>-2.0</td>\n",
       "      <td>0.0</td>\n",
       "      <td>...</td>\n",
       "      <td>0</td>\n",
       "      <td>6</td>\n",
       "      <td>No</td>\n",
       "      <td>0</td>\n",
       "      <td>Unknown</td>\n",
       "      <td>No</td>\n",
       "      <td>3-Good</td>\n",
       "      <td>Town</td>\n",
       "      <td>Crafts</td>\n",
       "      <td>Yes</td>\n",
       "    </tr>\n",
       "  </tbody>\n",
       "</table>\n",
       "<p>3 rows × 58 columns</p>\n",
       "</div>"
      ],
      "text/plain": [
       "   CustomerID Churn  MonthlyRevenue  MonthlyMinutes  TotalRecurringCharge  \\\n",
       "0     3000002   Yes           24.00           219.0                  22.0   \n",
       "1     3000010   Yes           16.99            10.0                  17.0   \n",
       "2     3000014    No           38.00             8.0                  38.0   \n",
       "\n",
       "   DirectorAssistedCalls  OverageMinutes  RoamingCalls  PercChangeMinutes  \\\n",
       "0                   0.25             0.0           0.0             -157.0   \n",
       "1                   0.00             0.0           0.0               -4.0   \n",
       "2                   0.00             0.0           0.0               -2.0   \n",
       "\n",
       "   PercChangeRevenues  ...  ReferralsMadeBySubscriber  IncomeGroup  \\\n",
       "0               -19.0  ...                          0            4   \n",
       "1                 0.0  ...                          0            5   \n",
       "2                 0.0  ...                          0            6   \n",
       "\n",
       "   OwnsMotorcycle  AdjustmentsToCreditRating  HandsetPrice  \\\n",
       "0              No                          0            30   \n",
       "1              No                          0            30   \n",
       "2              No                          0       Unknown   \n",
       "\n",
       "   MadeCallToRetentionTeam  CreditRating  PrizmCode    Occupation  \\\n",
       "0                      Yes     1-Highest   Suburban  Professional   \n",
       "1                       No      4-Medium   Suburban  Professional   \n",
       "2                       No        3-Good       Town        Crafts   \n",
       "\n",
       "   MaritalStatus  \n",
       "0             No  \n",
       "1            Yes  \n",
       "2            Yes  \n",
       "\n",
       "[3 rows x 58 columns]"
      ]
     },
     "execution_count": 3,
     "metadata": {},
     "output_type": "execute_result"
    },
    {
     "data": {
      "application/javascript": [
       "\n",
       "            setTimeout(function() {\n",
       "                var nbb_cell_id = 3;\n",
       "                var nbb_unformatted_code = \"data_url = \\\"https://raw.githubusercontent.com/Thinkful-Ed/data-science-lectures/master/telecom_churn.csv\\\"\\ndf = pd.read_csv(data_url)\\ndf.head(3)\";\n",
       "                var nbb_formatted_code = \"data_url = \\\"https://raw.githubusercontent.com/Thinkful-Ed/data-science-lectures/master/telecom_churn.csv\\\"\\ndf = pd.read_csv(data_url)\\ndf.head(3)\";\n",
       "                var nbb_cells = Jupyter.notebook.get_cells();\n",
       "                for (var i = 0; i < nbb_cells.length; ++i) {\n",
       "                    if (nbb_cells[i].input_prompt_number == nbb_cell_id) {\n",
       "                        if (nbb_cells[i].get_text() == nbb_unformatted_code) {\n",
       "                             nbb_cells[i].set_text(nbb_formatted_code);\n",
       "                        }\n",
       "                        break;\n",
       "                    }\n",
       "                }\n",
       "            }, 500);\n",
       "            "
      ],
      "text/plain": [
       "<IPython.core.display.Javascript object>"
      ]
     },
     "metadata": {},
     "output_type": "display_data"
    }
   ],
   "source": [
    "data_url = \"https://raw.githubusercontent.com/Thinkful-Ed/data-science-lectures/master/telecom_churn.csv\"\n",
    "df = pd.read_csv(data_url)\n",
    "df.head(3)"
   ]
  },
  {
   "cell_type": "code",
   "execution_count": 4,
   "metadata": {},
   "outputs": [
    {
     "data": {
      "application/javascript": [
       "\n",
       "            setTimeout(function() {\n",
       "                var nbb_cell_id = 4;\n",
       "                var nbb_unformatted_code = \"# Convert Yes/No columns to bool\\ndf = df.replace({\\\"Yes\\\": True, \\\"No\\\": False})\";\n",
       "                var nbb_formatted_code = \"# Convert Yes/No columns to bool\\ndf = df.replace({\\\"Yes\\\": True, \\\"No\\\": False})\";\n",
       "                var nbb_cells = Jupyter.notebook.get_cells();\n",
       "                for (var i = 0; i < nbb_cells.length; ++i) {\n",
       "                    if (nbb_cells[i].input_prompt_number == nbb_cell_id) {\n",
       "                        if (nbb_cells[i].get_text() == nbb_unformatted_code) {\n",
       "                             nbb_cells[i].set_text(nbb_formatted_code);\n",
       "                        }\n",
       "                        break;\n",
       "                    }\n",
       "                }\n",
       "            }, 500);\n",
       "            "
      ],
      "text/plain": [
       "<IPython.core.display.Javascript object>"
      ]
     },
     "metadata": {},
     "output_type": "display_data"
    }
   ],
   "source": [
    "# Convert Yes/No columns to bool\n",
    "df = df.replace({\"Yes\": True, \"No\": False})"
   ]
  },
  {
   "cell_type": "code",
   "execution_count": 5,
   "metadata": {},
   "outputs": [
    {
     "data": {
      "application/javascript": [
       "\n",
       "            setTimeout(function() {\n",
       "                var nbb_cell_id = 5;\n",
       "                var nbb_unformatted_code = \"# Convert 'Unknown' to NaN in HandsetPrice column and make numeric\\ndf[\\\"HandsetPrice\\\"] = pd.to_numeric(df[\\\"HandsetPrice\\\"], errors=\\\"coerce\\\")\";\n",
       "                var nbb_formatted_code = \"# Convert 'Unknown' to NaN in HandsetPrice column and make numeric\\ndf[\\\"HandsetPrice\\\"] = pd.to_numeric(df[\\\"HandsetPrice\\\"], errors=\\\"coerce\\\")\";\n",
       "                var nbb_cells = Jupyter.notebook.get_cells();\n",
       "                for (var i = 0; i < nbb_cells.length; ++i) {\n",
       "                    if (nbb_cells[i].input_prompt_number == nbb_cell_id) {\n",
       "                        if (nbb_cells[i].get_text() == nbb_unformatted_code) {\n",
       "                             nbb_cells[i].set_text(nbb_formatted_code);\n",
       "                        }\n",
       "                        break;\n",
       "                    }\n",
       "                }\n",
       "            }, 500);\n",
       "            "
      ],
      "text/plain": [
       "<IPython.core.display.Javascript object>"
      ]
     },
     "metadata": {},
     "output_type": "display_data"
    }
   ],
   "source": [
    "# Convert 'Unknown' to NaN in HandsetPrice column and make numeric\n",
    "df[\"HandsetPrice\"] = pd.to_numeric(df[\"HandsetPrice\"], errors=\"coerce\")"
   ]
  },
  {
   "cell_type": "code",
   "execution_count": 6,
   "metadata": {},
   "outputs": [
    {
     "data": {
      "application/javascript": [
       "\n",
       "            setTimeout(function() {\n",
       "                var nbb_cell_id = 6;\n",
       "                var nbb_unformatted_code = \"# Convert credit rating to int\\n# Example inputs: '1-Highest', '4-Medium', '3-Good'\\ndf[\\\"CreditRating\\\"] = pd.to_numeric(df[\\\"CreditRating\\\"].str.split(\\\"-\\\").str[0])\";\n",
       "                var nbb_formatted_code = \"# Convert credit rating to int\\n# Example inputs: '1-Highest', '4-Medium', '3-Good'\\ndf[\\\"CreditRating\\\"] = pd.to_numeric(df[\\\"CreditRating\\\"].str.split(\\\"-\\\").str[0])\";\n",
       "                var nbb_cells = Jupyter.notebook.get_cells();\n",
       "                for (var i = 0; i < nbb_cells.length; ++i) {\n",
       "                    if (nbb_cells[i].input_prompt_number == nbb_cell_id) {\n",
       "                        if (nbb_cells[i].get_text() == nbb_unformatted_code) {\n",
       "                             nbb_cells[i].set_text(nbb_formatted_code);\n",
       "                        }\n",
       "                        break;\n",
       "                    }\n",
       "                }\n",
       "            }, 500);\n",
       "            "
      ],
      "text/plain": [
       "<IPython.core.display.Javascript object>"
      ]
     },
     "metadata": {},
     "output_type": "display_data"
    }
   ],
   "source": [
    "# Convert credit rating to int\n",
    "# Example inputs: '1-Highest', '4-Medium', '3-Good'\n",
    "df[\"CreditRating\"] = pd.to_numeric(df[\"CreditRating\"].str.split(\"-\").str[0])"
   ]
  },
  {
   "cell_type": "code",
   "execution_count": 7,
   "metadata": {},
   "outputs": [
    {
     "data": {
      "application/javascript": [
       "\n",
       "            setTimeout(function() {\n",
       "                var nbb_cell_id = 7;\n",
       "                var nbb_unformatted_code = \"# Convert Homeownership to bool that indicates True if known home owner\\ndf[\\\"Homeownership\\\"] = df[\\\"Homeownership\\\"] == \\\"Known\\\"\";\n",
       "                var nbb_formatted_code = \"# Convert Homeownership to bool that indicates True if known home owner\\ndf[\\\"Homeownership\\\"] = df[\\\"Homeownership\\\"] == \\\"Known\\\"\";\n",
       "                var nbb_cells = Jupyter.notebook.get_cells();\n",
       "                for (var i = 0; i < nbb_cells.length; ++i) {\n",
       "                    if (nbb_cells[i].input_prompt_number == nbb_cell_id) {\n",
       "                        if (nbb_cells[i].get_text() == nbb_unformatted_code) {\n",
       "                             nbb_cells[i].set_text(nbb_formatted_code);\n",
       "                        }\n",
       "                        break;\n",
       "                    }\n",
       "                }\n",
       "            }, 500);\n",
       "            "
      ],
      "text/plain": [
       "<IPython.core.display.Javascript object>"
      ]
     },
     "metadata": {},
     "output_type": "display_data"
    }
   ],
   "source": [
    "# Convert Homeownership to bool that indicates True if known home owner\n",
    "df[\"Homeownership\"] = df[\"Homeownership\"] == \"Known\""
   ]
  },
  {
   "cell_type": "code",
   "execution_count": 8,
   "metadata": {},
   "outputs": [
    {
     "data": {
      "text/plain": [
       "HandsetPrice             0.567751\n",
       "AgeHH2                   0.017807\n",
       "AgeHH1                   0.017807\n",
       "PercChangeMinutes        0.007189\n",
       "PercChangeRevenues       0.007189\n",
       "MonthlyRevenue           0.003056\n",
       "MonthlyMinutes           0.003056\n",
       "TotalRecurringCharge     0.003056\n",
       "DirectorAssistedCalls    0.003056\n",
       "OverageMinutes           0.003056\n",
       "RoamingCalls             0.003056\n",
       "ServiceArea              0.000470\n",
       "Handsets                 0.000020\n",
       "CurrentEquipmentDays     0.000020\n",
       "HandsetModels            0.000020\n",
       "dtype: float64"
      ]
     },
     "execution_count": 8,
     "metadata": {},
     "output_type": "execute_result"
    },
    {
     "data": {
      "application/javascript": [
       "\n",
       "            setTimeout(function() {\n",
       "                var nbb_cell_id = 8;\n",
       "                var nbb_unformatted_code = \"df.isna().mean().sort_values(ascending=False).head(15)\";\n",
       "                var nbb_formatted_code = \"df.isna().mean().sort_values(ascending=False).head(15)\";\n",
       "                var nbb_cells = Jupyter.notebook.get_cells();\n",
       "                for (var i = 0; i < nbb_cells.length; ++i) {\n",
       "                    if (nbb_cells[i].input_prompt_number == nbb_cell_id) {\n",
       "                        if (nbb_cells[i].get_text() == nbb_unformatted_code) {\n",
       "                             nbb_cells[i].set_text(nbb_formatted_code);\n",
       "                        }\n",
       "                        break;\n",
       "                    }\n",
       "                }\n",
       "            }, 500);\n",
       "            "
      ],
      "text/plain": [
       "<IPython.core.display.Javascript object>"
      ]
     },
     "metadata": {},
     "output_type": "display_data"
    }
   ],
   "source": [
    "df.isna().mean().sort_values(ascending=False).head(15)"
   ]
  },
  {
   "cell_type": "code",
   "execution_count": 9,
   "metadata": {},
   "outputs": [
    {
     "data": {
      "application/javascript": [
       "\n",
       "            setTimeout(function() {\n",
       "                var nbb_cell_id = 9;\n",
       "                var nbb_unformatted_code = \"# Dropping handsetprice due to 57% missing values\\ndf = df.drop(columns=\\\"HandsetPrice\\\")\\n\\n# Remove remaining NaN rows\\ndf = df.dropna()\";\n",
       "                var nbb_formatted_code = \"# Dropping handsetprice due to 57% missing values\\ndf = df.drop(columns=\\\"HandsetPrice\\\")\\n\\n# Remove remaining NaN rows\\ndf = df.dropna()\";\n",
       "                var nbb_cells = Jupyter.notebook.get_cells();\n",
       "                for (var i = 0; i < nbb_cells.length; ++i) {\n",
       "                    if (nbb_cells[i].input_prompt_number == nbb_cell_id) {\n",
       "                        if (nbb_cells[i].get_text() == nbb_unformatted_code) {\n",
       "                             nbb_cells[i].set_text(nbb_formatted_code);\n",
       "                        }\n",
       "                        break;\n",
       "                    }\n",
       "                }\n",
       "            }, 500);\n",
       "            "
      ],
      "text/plain": [
       "<IPython.core.display.Javascript object>"
      ]
     },
     "metadata": {},
     "output_type": "display_data"
    }
   ],
   "source": [
    "# Dropping handsetprice due to 57% missing values\n",
    "df = df.drop(columns=\"HandsetPrice\")\n",
    "\n",
    "# Remove remaining NaN rows\n",
    "df = df.dropna()"
   ]
  },
  {
   "cell_type": "markdown",
   "metadata": {
    "colab_type": "text",
    "id": "Do4wf0HedWEi"
   },
   "source": [
    "Perform the following preprocessing steps:\n",
    "\n",
    "- This dataset has many columns; identify a subset of 10-15 features that you think could affect a customer's propensity to churn (also called \"customer loss\" or \"customer attrition\"). Include at least 1 categorical variable.\n",
    "- Drop all rows that containing any missing values (this should be a fairly small number of rows)\n",
    "- Convert the response from a string to a binary 1-0 encoding."
   ]
  },
  {
   "cell_type": "markdown",
   "metadata": {
    "colab_type": "text",
    "id": "9or_wHIEdWEk"
   },
   "source": [
    "Although some implementations of tree-based models support categorical variables directly, scikit-learn's implementation does not, so we will need to convert our categorical variable(s) into numbers. In linear regression, we used one-hot/dummy encoding, but this has drawbacks that can be particularly problematic in the context of trees. Namely, dummy encoding can lead to very sparse columns when dealing with high-dimensional categorical features; the tree treats these levels as indepedent features is very unlikely to make a split on any of the individual levels, since the corresponding columns consist almost entirely consist of a single value.\n",
    "\n",
    "Ideally, we would consider all of the levels simultaneously, which trees can do efficiently. However, sklearn does not implement this efficient algorithm for splitting on categorical variables. In this situation, a better alternative to dummy encoding is leave-one-out-encoding. This transforms each categorical into its conditional probability of the positive class, excluding the observation itself to avoid potential data leakage. Perform the following steps:\n",
    "\n",
    "- Create an 80-20 train/test split on the data\n",
    "- Fit a leave-one-out encoder to the training data and encode the categorical variables in the training data. The category_encoders package is helpful for this task. (Note that this ordering is important; if we fitted the encoder to the full dataset before making the train/test split, we would introduce data leakage by allowing the test data to affecting the estimates of the category-conditional probabilities.)"
   ]
  },
  {
   "cell_type": "code",
   "execution_count": 10,
   "metadata": {},
   "outputs": [
    {
     "data": {
      "application/javascript": [
       "\n",
       "            setTimeout(function() {\n",
       "                var nbb_cell_id = 10;\n",
       "                var nbb_unformatted_code = \"# fmt: off\\nnum_cols = [\\n    \\\"MonthlyRevenue\\\", \\\"MonthlyMinutes\\\", \\\"TotalRecurringCharge\\\", \\n    \\\"DirectorAssistedCalls\\\", \\\"OverageMinutes\\\", \\\"RoamingCalls\\\", \\n    \\\"PercChangeMinutes\\\", \\\"PercChangeRevenues\\\", \\\"DroppedCalls\\\", \\n    \\\"BlockedCalls\\\", \\\"UnansweredCalls\\\", \\\"CustomerCareCalls\\\",\\n    \\\"ThreewayCalls\\\", \\\"ReceivedCalls\\\", \\\"OutboundCalls\\\", \\\"InboundCalls\\\",\\n    \\\"PeakCallsInOut\\\", \\\"OffPeakCallsInOut\\\", \\\"DroppedBlockedCalls\\\",\\n    \\\"CallForwardingCalls\\\", \\\"CallWaitingCalls\\\", \\\"MonthsInService\\\",\\n    \\\"UniqueSubs\\\", \\\"ActiveSubs\\\", \\\"Handsets\\\", \\\"HandsetModels\\\",\\n    \\\"CurrentEquipmentDays\\\", \\\"AgeHH1\\\", \\\"AgeHH2\\\", \\\"RetentionCalls\\\",\\n    \\\"RetentionOffersAccepted\\\", \\\"ReferralsMadeBySubscriber\\\", \\\"IncomeGroup\\\",\\n    \\\"AdjustmentsToCreditRating\\\", \\\"CreditRating\\\",\\n]\\n\\nbin_cols = [\\n    \\\"ChildrenInHH\\\", \\\"HandsetRefurbished\\\", \\\"HandsetWebCapable\\\",\\n    \\\"TruckOwner\\\", \\\"RVOwner\\\", \\\"Homeownership\\\", \\\"BuysViaMailOrder\\\",\\n    \\\"RespondsToMailOffers\\\", \\\"OptOutMailings\\\", \\\"NonUSTravel\\\",\\n    \\\"OwnsComputer\\\", \\\"HasCreditCard\\\", \\\"NewCellphoneUser\\\",\\n    \\\"NotNewCellphoneUser\\\", \\\"OwnsMotorcycle\\\", \\\"MadeCallToRetentionTeam\\\",\\n]\\n# fmt: on\\n\\ncat_cols = [\\\"ServiceArea\\\", \\\"PrizmCode\\\", \\\"Occupation\\\", \\\"MaritalStatus\\\"]\";\n",
       "                var nbb_formatted_code = \"# fmt: off\\nnum_cols = [\\n    \\\"MonthlyRevenue\\\", \\\"MonthlyMinutes\\\", \\\"TotalRecurringCharge\\\", \\n    \\\"DirectorAssistedCalls\\\", \\\"OverageMinutes\\\", \\\"RoamingCalls\\\", \\n    \\\"PercChangeMinutes\\\", \\\"PercChangeRevenues\\\", \\\"DroppedCalls\\\", \\n    \\\"BlockedCalls\\\", \\\"UnansweredCalls\\\", \\\"CustomerCareCalls\\\",\\n    \\\"ThreewayCalls\\\", \\\"ReceivedCalls\\\", \\\"OutboundCalls\\\", \\\"InboundCalls\\\",\\n    \\\"PeakCallsInOut\\\", \\\"OffPeakCallsInOut\\\", \\\"DroppedBlockedCalls\\\",\\n    \\\"CallForwardingCalls\\\", \\\"CallWaitingCalls\\\", \\\"MonthsInService\\\",\\n    \\\"UniqueSubs\\\", \\\"ActiveSubs\\\", \\\"Handsets\\\", \\\"HandsetModels\\\",\\n    \\\"CurrentEquipmentDays\\\", \\\"AgeHH1\\\", \\\"AgeHH2\\\", \\\"RetentionCalls\\\",\\n    \\\"RetentionOffersAccepted\\\", \\\"ReferralsMadeBySubscriber\\\", \\\"IncomeGroup\\\",\\n    \\\"AdjustmentsToCreditRating\\\", \\\"CreditRating\\\",\\n]\\n\\nbin_cols = [\\n    \\\"ChildrenInHH\\\", \\\"HandsetRefurbished\\\", \\\"HandsetWebCapable\\\",\\n    \\\"TruckOwner\\\", \\\"RVOwner\\\", \\\"Homeownership\\\", \\\"BuysViaMailOrder\\\",\\n    \\\"RespondsToMailOffers\\\", \\\"OptOutMailings\\\", \\\"NonUSTravel\\\",\\n    \\\"OwnsComputer\\\", \\\"HasCreditCard\\\", \\\"NewCellphoneUser\\\",\\n    \\\"NotNewCellphoneUser\\\", \\\"OwnsMotorcycle\\\", \\\"MadeCallToRetentionTeam\\\",\\n]\\n# fmt: on\\n\\ncat_cols = [\\\"ServiceArea\\\", \\\"PrizmCode\\\", \\\"Occupation\\\", \\\"MaritalStatus\\\"]\";\n",
       "                var nbb_cells = Jupyter.notebook.get_cells();\n",
       "                for (var i = 0; i < nbb_cells.length; ++i) {\n",
       "                    if (nbb_cells[i].input_prompt_number == nbb_cell_id) {\n",
       "                        if (nbb_cells[i].get_text() == nbb_unformatted_code) {\n",
       "                             nbb_cells[i].set_text(nbb_formatted_code);\n",
       "                        }\n",
       "                        break;\n",
       "                    }\n",
       "                }\n",
       "            }, 500);\n",
       "            "
      ],
      "text/plain": [
       "<IPython.core.display.Javascript object>"
      ]
     },
     "metadata": {},
     "output_type": "display_data"
    }
   ],
   "source": [
    "# fmt: off\n",
    "num_cols = [\n",
    "    \"MonthlyRevenue\", \"MonthlyMinutes\", \"TotalRecurringCharge\", \n",
    "    \"DirectorAssistedCalls\", \"OverageMinutes\", \"RoamingCalls\", \n",
    "    \"PercChangeMinutes\", \"PercChangeRevenues\", \"DroppedCalls\", \n",
    "    \"BlockedCalls\", \"UnansweredCalls\", \"CustomerCareCalls\",\n",
    "    \"ThreewayCalls\", \"ReceivedCalls\", \"OutboundCalls\", \"InboundCalls\",\n",
    "    \"PeakCallsInOut\", \"OffPeakCallsInOut\", \"DroppedBlockedCalls\",\n",
    "    \"CallForwardingCalls\", \"CallWaitingCalls\", \"MonthsInService\",\n",
    "    \"UniqueSubs\", \"ActiveSubs\", \"Handsets\", \"HandsetModels\",\n",
    "    \"CurrentEquipmentDays\", \"AgeHH1\", \"AgeHH2\", \"RetentionCalls\",\n",
    "    \"RetentionOffersAccepted\", \"ReferralsMadeBySubscriber\", \"IncomeGroup\",\n",
    "    \"AdjustmentsToCreditRating\", \"CreditRating\",\n",
    "]\n",
    "\n",
    "bin_cols = [\n",
    "    \"ChildrenInHH\", \"HandsetRefurbished\", \"HandsetWebCapable\",\n",
    "    \"TruckOwner\", \"RVOwner\", \"Homeownership\", \"BuysViaMailOrder\",\n",
    "    \"RespondsToMailOffers\", \"OptOutMailings\", \"NonUSTravel\",\n",
    "    \"OwnsComputer\", \"HasCreditCard\", \"NewCellphoneUser\",\n",
    "    \"NotNewCellphoneUser\", \"OwnsMotorcycle\", \"MadeCallToRetentionTeam\",\n",
    "]\n",
    "# fmt: on\n",
    "\n",
    "cat_cols = [\"ServiceArea\", \"PrizmCode\", \"Occupation\", \"MaritalStatus\"]"
   ]
  },
  {
   "cell_type": "code",
   "execution_count": 11,
   "metadata": {},
   "outputs": [
    {
     "data": {
      "application/javascript": [
       "\n",
       "            setTimeout(function() {\n",
       "                var nbb_cell_id = 11;\n",
       "                var nbb_unformatted_code = \"X = df.drop(columns=[\\\"Churn\\\", \\\"CustomerID\\\"])\\ny = df[\\\"Churn\\\"]\";\n",
       "                var nbb_formatted_code = \"X = df.drop(columns=[\\\"Churn\\\", \\\"CustomerID\\\"])\\ny = df[\\\"Churn\\\"]\";\n",
       "                var nbb_cells = Jupyter.notebook.get_cells();\n",
       "                for (var i = 0; i < nbb_cells.length; ++i) {\n",
       "                    if (nbb_cells[i].input_prompt_number == nbb_cell_id) {\n",
       "                        if (nbb_cells[i].get_text() == nbb_unformatted_code) {\n",
       "                             nbb_cells[i].set_text(nbb_formatted_code);\n",
       "                        }\n",
       "                        break;\n",
       "                    }\n",
       "                }\n",
       "            }, 500);\n",
       "            "
      ],
      "text/plain": [
       "<IPython.core.display.Javascript object>"
      ]
     },
     "metadata": {},
     "output_type": "display_data"
    }
   ],
   "source": [
    "X = df.drop(columns=[\"Churn\", \"CustomerID\"])\n",
    "y = df[\"Churn\"]"
   ]
  },
  {
   "cell_type": "code",
   "execution_count": 12,
   "metadata": {},
   "outputs": [
    {
     "data": {
      "text/plain": [
       "False    0.71368\n",
       "True     0.28632\n",
       "Name: Churn, dtype: float64"
      ]
     },
     "execution_count": 12,
     "metadata": {},
     "output_type": "execute_result"
    },
    {
     "data": {
      "application/javascript": [
       "\n",
       "            setTimeout(function() {\n",
       "                var nbb_cell_id = 12;\n",
       "                var nbb_unformatted_code = \"y.value_counts(normalize=True)\";\n",
       "                var nbb_formatted_code = \"y.value_counts(normalize=True)\";\n",
       "                var nbb_cells = Jupyter.notebook.get_cells();\n",
       "                for (var i = 0; i < nbb_cells.length; ++i) {\n",
       "                    if (nbb_cells[i].input_prompt_number == nbb_cell_id) {\n",
       "                        if (nbb_cells[i].get_text() == nbb_unformatted_code) {\n",
       "                             nbb_cells[i].set_text(nbb_formatted_code);\n",
       "                        }\n",
       "                        break;\n",
       "                    }\n",
       "                }\n",
       "            }, 500);\n",
       "            "
      ],
      "text/plain": [
       "<IPython.core.display.Javascript object>"
      ]
     },
     "metadata": {},
     "output_type": "display_data"
    }
   ],
   "source": [
    "y.value_counts(normalize=True)"
   ]
  },
  {
   "cell_type": "code",
   "execution_count": 13,
   "metadata": {},
   "outputs": [
    {
     "data": {
      "application/javascript": [
       "\n",
       "            setTimeout(function() {\n",
       "                var nbb_cell_id = 13;\n",
       "                var nbb_unformatted_code = \"X_train, X_test, y_train, y_test = train_test_split(\\n    X, y, test_size=0.2, random_state=42, stratify=y\\n)\";\n",
       "                var nbb_formatted_code = \"X_train, X_test, y_train, y_test = train_test_split(\\n    X, y, test_size=0.2, random_state=42, stratify=y\\n)\";\n",
       "                var nbb_cells = Jupyter.notebook.get_cells();\n",
       "                for (var i = 0; i < nbb_cells.length; ++i) {\n",
       "                    if (nbb_cells[i].input_prompt_number == nbb_cell_id) {\n",
       "                        if (nbb_cells[i].get_text() == nbb_unformatted_code) {\n",
       "                             nbb_cells[i].set_text(nbb_formatted_code);\n",
       "                        }\n",
       "                        break;\n",
       "                    }\n",
       "                }\n",
       "            }, 500);\n",
       "            "
      ],
      "text/plain": [
       "<IPython.core.display.Javascript object>"
      ]
     },
     "metadata": {},
     "output_type": "display_data"
    }
   ],
   "source": [
    "X_train, X_test, y_train, y_test = train_test_split(\n",
    "    X, y, test_size=0.2, random_state=42, stratify=y\n",
    ")"
   ]
  },
  {
   "cell_type": "code",
   "execution_count": 14,
   "metadata": {},
   "outputs": [
    {
     "name": "stderr",
     "output_type": "stream",
     "text": [
      "/usr/local/lib/python3.7/site-packages/category_encoders/utils.py:21: FutureWarning: is_categorical is deprecated and will be removed in a future version.  Use is_categorical_dtype instead\n",
      "  elif pd.api.types.is_categorical(cols):\n"
     ]
    },
    {
     "data": {
      "text/html": [
       "<div>\n",
       "<style scoped>\n",
       "    .dataframe tbody tr th:only-of-type {\n",
       "        vertical-align: middle;\n",
       "    }\n",
       "\n",
       "    .dataframe tbody tr th {\n",
       "        vertical-align: top;\n",
       "    }\n",
       "\n",
       "    .dataframe thead th {\n",
       "        text-align: right;\n",
       "    }\n",
       "</style>\n",
       "<table border=\"1\" class=\"dataframe\">\n",
       "  <thead>\n",
       "    <tr style=\"text-align: right;\">\n",
       "      <th></th>\n",
       "      <th>MonthlyRevenue</th>\n",
       "      <th>MonthlyMinutes</th>\n",
       "      <th>TotalRecurringCharge</th>\n",
       "      <th>DirectorAssistedCalls</th>\n",
       "      <th>OverageMinutes</th>\n",
       "      <th>RoamingCalls</th>\n",
       "      <th>PercChangeMinutes</th>\n",
       "      <th>PercChangeRevenues</th>\n",
       "      <th>DroppedCalls</th>\n",
       "      <th>BlockedCalls</th>\n",
       "      <th>...</th>\n",
       "      <th>NotNewCellphoneUser</th>\n",
       "      <th>ReferralsMadeBySubscriber</th>\n",
       "      <th>IncomeGroup</th>\n",
       "      <th>OwnsMotorcycle</th>\n",
       "      <th>AdjustmentsToCreditRating</th>\n",
       "      <th>MadeCallToRetentionTeam</th>\n",
       "      <th>CreditRating</th>\n",
       "      <th>PrizmCode</th>\n",
       "      <th>Occupation</th>\n",
       "      <th>MaritalStatus</th>\n",
       "    </tr>\n",
       "  </thead>\n",
       "  <tbody>\n",
       "    <tr>\n",
       "      <th>6896</th>\n",
       "      <td>40.18</td>\n",
       "      <td>193.0</td>\n",
       "      <td>45.0</td>\n",
       "      <td>0.0</td>\n",
       "      <td>0.0</td>\n",
       "      <td>1.9</td>\n",
       "      <td>-12.0</td>\n",
       "      <td>-1.2</td>\n",
       "      <td>4.0</td>\n",
       "      <td>1.3</td>\n",
       "      <td>...</td>\n",
       "      <td>False</td>\n",
       "      <td>0</td>\n",
       "      <td>7</td>\n",
       "      <td>False</td>\n",
       "      <td>0</td>\n",
       "      <td>False</td>\n",
       "      <td>1</td>\n",
       "      <td>0.303253</td>\n",
       "      <td>0.288</td>\n",
       "      <td>0.284326</td>\n",
       "    </tr>\n",
       "    <tr>\n",
       "      <th>34669</th>\n",
       "      <td>67.97</td>\n",
       "      <td>596.0</td>\n",
       "      <td>40.0</td>\n",
       "      <td>0.0</td>\n",
       "      <td>108.0</td>\n",
       "      <td>0.0</td>\n",
       "      <td>-33.0</td>\n",
       "      <td>-15.9</td>\n",
       "      <td>2.0</td>\n",
       "      <td>0.0</td>\n",
       "      <td>...</td>\n",
       "      <td>False</td>\n",
       "      <td>0</td>\n",
       "      <td>8</td>\n",
       "      <td>False</td>\n",
       "      <td>0</td>\n",
       "      <td>False</td>\n",
       "      <td>1</td>\n",
       "      <td>0.279723</td>\n",
       "      <td>0.288</td>\n",
       "      <td>0.284326</td>\n",
       "    </tr>\n",
       "  </tbody>\n",
       "</table>\n",
       "<p>2 rows × 55 columns</p>\n",
       "</div>"
      ],
      "text/plain": [
       "       MonthlyRevenue  MonthlyMinutes  TotalRecurringCharge  \\\n",
       "6896            40.18           193.0                  45.0   \n",
       "34669           67.97           596.0                  40.0   \n",
       "\n",
       "       DirectorAssistedCalls  OverageMinutes  RoamingCalls  PercChangeMinutes  \\\n",
       "6896                     0.0             0.0           1.9              -12.0   \n",
       "34669                    0.0           108.0           0.0              -33.0   \n",
       "\n",
       "       PercChangeRevenues  DroppedCalls  BlockedCalls  ...  \\\n",
       "6896                 -1.2           4.0           1.3  ...   \n",
       "34669               -15.9           2.0           0.0  ...   \n",
       "\n",
       "       NotNewCellphoneUser  ReferralsMadeBySubscriber  IncomeGroup  \\\n",
       "6896                 False                          0            7   \n",
       "34669                False                          0            8   \n",
       "\n",
       "       OwnsMotorcycle  AdjustmentsToCreditRating  MadeCallToRetentionTeam  \\\n",
       "6896            False                          0                    False   \n",
       "34669           False                          0                    False   \n",
       "\n",
       "       CreditRating  PrizmCode  Occupation  MaritalStatus  \n",
       "6896              1   0.303253       0.288       0.284326  \n",
       "34669             1   0.279723       0.288       0.284326  \n",
       "\n",
       "[2 rows x 55 columns]"
      ]
     },
     "execution_count": 14,
     "metadata": {},
     "output_type": "execute_result"
    },
    {
     "data": {
      "application/javascript": [
       "\n",
       "            setTimeout(function() {\n",
       "                var nbb_cell_id = 14;\n",
       "                var nbb_unformatted_code = \"# Categorical feature encoding\\nencoder = LeaveOneOutEncoder(cols=cat_cols)\\nencoder.fit(X_train, y_train)\\n\\nX_train = encoder.transform(X_train)\\nX_test = encoder.transform(X_test)\\n\\nX_train.head(2)\";\n",
       "                var nbb_formatted_code = \"# Categorical feature encoding\\nencoder = LeaveOneOutEncoder(cols=cat_cols)\\nencoder.fit(X_train, y_train)\\n\\nX_train = encoder.transform(X_train)\\nX_test = encoder.transform(X_test)\\n\\nX_train.head(2)\";\n",
       "                var nbb_cells = Jupyter.notebook.get_cells();\n",
       "                for (var i = 0; i < nbb_cells.length; ++i) {\n",
       "                    if (nbb_cells[i].input_prompt_number == nbb_cell_id) {\n",
       "                        if (nbb_cells[i].get_text() == nbb_unformatted_code) {\n",
       "                             nbb_cells[i].set_text(nbb_formatted_code);\n",
       "                        }\n",
       "                        break;\n",
       "                    }\n",
       "                }\n",
       "            }, 500);\n",
       "            "
      ],
      "text/plain": [
       "<IPython.core.display.Javascript object>"
      ]
     },
     "metadata": {},
     "output_type": "display_data"
    }
   ],
   "source": [
    "# Categorical feature encoding\n",
    "encoder = LeaveOneOutEncoder(cols=cat_cols)\n",
    "encoder.fit(X_train, y_train)\n",
    "\n",
    "X_train = encoder.transform(X_train)\n",
    "X_test = encoder.transform(X_test)\n",
    "\n",
    "X_train.head(2)"
   ]
  },
  {
   "cell_type": "code",
   "execution_count": 15,
   "metadata": {},
   "outputs": [
    {
     "data": {
      "application/javascript": [
       "\n",
       "            setTimeout(function() {\n",
       "                var nbb_cell_id = 15;\n",
       "                var nbb_unformatted_code = \"# Features selection\\nselector = SelectKBest(k=13)\\nselector.fit(X_train, y_train)\\n\\ncol_names = X_train.columns\\n\\nX_train = selector.transform(X_train)\\nX_test = selector.transform(X_test)\";\n",
       "                var nbb_formatted_code = \"# Features selection\\nselector = SelectKBest(k=13)\\nselector.fit(X_train, y_train)\\n\\ncol_names = X_train.columns\\n\\nX_train = selector.transform(X_train)\\nX_test = selector.transform(X_test)\";\n",
       "                var nbb_cells = Jupyter.notebook.get_cells();\n",
       "                for (var i = 0; i < nbb_cells.length; ++i) {\n",
       "                    if (nbb_cells[i].input_prompt_number == nbb_cell_id) {\n",
       "                        if (nbb_cells[i].get_text() == nbb_unformatted_code) {\n",
       "                             nbb_cells[i].set_text(nbb_formatted_code);\n",
       "                        }\n",
       "                        break;\n",
       "                    }\n",
       "                }\n",
       "            }, 500);\n",
       "            "
      ],
      "text/plain": [
       "<IPython.core.display.Javascript object>"
      ]
     },
     "metadata": {},
     "output_type": "display_data"
    }
   ],
   "source": [
    "# Features selection\n",
    "selector = SelectKBest(k=13)\n",
    "selector.fit(X_train, y_train)\n",
    "\n",
    "col_names = X_train.columns\n",
    "\n",
    "X_train = selector.transform(X_train)\n",
    "X_test = selector.transform(X_test)"
   ]
  },
  {
   "cell_type": "code",
   "execution_count": 16,
   "metadata": {},
   "outputs": [
    {
     "data": {
      "text/html": [
       "<div>\n",
       "<style scoped>\n",
       "    .dataframe tbody tr th:only-of-type {\n",
       "        vertical-align: middle;\n",
       "    }\n",
       "\n",
       "    .dataframe tbody tr th {\n",
       "        vertical-align: top;\n",
       "    }\n",
       "\n",
       "    .dataframe thead th {\n",
       "        text-align: right;\n",
       "    }\n",
       "</style>\n",
       "<table border=\"1\" class=\"dataframe\">\n",
       "  <thead>\n",
       "    <tr style=\"text-align: right;\">\n",
       "      <th></th>\n",
       "      <th>MonthlyMinutes</th>\n",
       "      <th>TotalRecurringCharge</th>\n",
       "      <th>ReceivedCalls</th>\n",
       "      <th>InboundCalls</th>\n",
       "      <th>PeakCallsInOut</th>\n",
       "      <th>OffPeakCallsInOut</th>\n",
       "      <th>ServiceArea</th>\n",
       "      <th>HandsetModels</th>\n",
       "      <th>CurrentEquipmentDays</th>\n",
       "      <th>HandsetWebCapable</th>\n",
       "      <th>RetentionCalls</th>\n",
       "      <th>MadeCallToRetentionTeam</th>\n",
       "      <th>CreditRating</th>\n",
       "    </tr>\n",
       "  </thead>\n",
       "  <tbody>\n",
       "    <tr>\n",
       "      <th>0</th>\n",
       "      <td>193</td>\n",
       "      <td>45</td>\n",
       "      <td>13.3</td>\n",
       "      <td>1.7</td>\n",
       "      <td>41</td>\n",
       "      <td>30</td>\n",
       "      <td>0.371429</td>\n",
       "      <td>1</td>\n",
       "      <td>946</td>\n",
       "      <td>False</td>\n",
       "      <td>0</td>\n",
       "      <td>False</td>\n",
       "      <td>1</td>\n",
       "    </tr>\n",
       "    <tr>\n",
       "      <th>1</th>\n",
       "      <td>596</td>\n",
       "      <td>40</td>\n",
       "      <td>62.9</td>\n",
       "      <td>9</td>\n",
       "      <td>129.3</td>\n",
       "      <td>77</td>\n",
       "      <td>0.278135</td>\n",
       "      <td>2</td>\n",
       "      <td>365</td>\n",
       "      <td>True</td>\n",
       "      <td>0</td>\n",
       "      <td>False</td>\n",
       "      <td>1</td>\n",
       "    </tr>\n",
       "  </tbody>\n",
       "</table>\n",
       "</div>"
      ],
      "text/plain": [
       "  MonthlyMinutes TotalRecurringCharge ReceivedCalls InboundCalls  \\\n",
       "0            193                   45          13.3          1.7   \n",
       "1            596                   40          62.9            9   \n",
       "\n",
       "  PeakCallsInOut OffPeakCallsInOut ServiceArea HandsetModels  \\\n",
       "0             41                30    0.371429             1   \n",
       "1          129.3                77    0.278135             2   \n",
       "\n",
       "  CurrentEquipmentDays HandsetWebCapable RetentionCalls  \\\n",
       "0                  946             False              0   \n",
       "1                  365              True              0   \n",
       "\n",
       "  MadeCallToRetentionTeam CreditRating  \n",
       "0                   False            1  \n",
       "1                   False            1  "
      ]
     },
     "execution_count": 16,
     "metadata": {},
     "output_type": "execute_result"
    },
    {
     "data": {
      "application/javascript": [
       "\n",
       "            setTimeout(function() {\n",
       "                var nbb_cell_id = 16;\n",
       "                var nbb_unformatted_code = \"X_train = pd.DataFrame(X_train, columns=col_names[selector.get_support()])\\nX_test = pd.DataFrame(X_test, columns=col_names[selector.get_support()])\\n\\nX_train.head(2)\";\n",
       "                var nbb_formatted_code = \"X_train = pd.DataFrame(X_train, columns=col_names[selector.get_support()])\\nX_test = pd.DataFrame(X_test, columns=col_names[selector.get_support()])\\n\\nX_train.head(2)\";\n",
       "                var nbb_cells = Jupyter.notebook.get_cells();\n",
       "                for (var i = 0; i < nbb_cells.length; ++i) {\n",
       "                    if (nbb_cells[i].input_prompt_number == nbb_cell_id) {\n",
       "                        if (nbb_cells[i].get_text() == nbb_unformatted_code) {\n",
       "                             nbb_cells[i].set_text(nbb_formatted_code);\n",
       "                        }\n",
       "                        break;\n",
       "                    }\n",
       "                }\n",
       "            }, 500);\n",
       "            "
      ],
      "text/plain": [
       "<IPython.core.display.Javascript object>"
      ]
     },
     "metadata": {},
     "output_type": "display_data"
    }
   ],
   "source": [
    "X_train = pd.DataFrame(X_train, columns=col_names[selector.get_support()])\n",
    "X_test = pd.DataFrame(X_test, columns=col_names[selector.get_support()])\n",
    "\n",
    "X_train.head(2)"
   ]
  },
  {
   "cell_type": "markdown",
   "metadata": {
    "colab_type": "text",
    "id": "k4_2MdfddWEo"
   },
   "source": [
    "Next, fit the random forest model. You can tinker with or tune the parameters if you like, although we will use the default parameter values."
   ]
  },
  {
   "cell_type": "code",
   "execution_count": 17,
   "metadata": {
    "colab": {},
    "colab_type": "code",
    "id": "tLpHIpL1dWEp"
   },
   "outputs": [
    {
     "name": "stdout",
     "output_type": "stream",
     "text": [
      "Fitting 2 folds for each of 9 candidates, totalling 18 fits\n"
     ]
    },
    {
     "name": "stderr",
     "output_type": "stream",
     "text": [
      "[Parallel(n_jobs=1)]: Using backend SequentialBackend with 1 concurrent workers.\n",
      "[Parallel(n_jobs=1)]: Done  18 out of  18 | elapsed:   20.7s finished\n"
     ]
    },
    {
     "data": {
      "text/plain": [
       "GridSearchCV(cv=2, error_score=nan,\n",
       "             estimator=RandomForestClassifier(bootstrap=True, ccp_alpha=0.0,\n",
       "                                              class_weight=None,\n",
       "                                              criterion='gini', max_depth=None,\n",
       "                                              max_features='auto',\n",
       "                                              max_leaf_nodes=None,\n",
       "                                              max_samples=None,\n",
       "                                              min_impurity_decrease=0.0,\n",
       "                                              min_impurity_split=None,\n",
       "                                              min_samples_leaf=1,\n",
       "                                              min_samples_split=2,\n",
       "                                              min_weight_fraction_leaf=0.0,\n",
       "                                              n_estimators=100, n_jobs=None,\n",
       "                                              oob_score=False,\n",
       "                                              random_state=None, verbose=0,\n",
       "                                              warm_start=False),\n",
       "             iid='deprecated', n_jobs=None,\n",
       "             param_grid={'max_depth': [4, 5, 6],\n",
       "                         'n_estimators': [50, 100, 200]},\n",
       "             pre_dispatch='2*n_jobs', refit=True, return_train_score=False,\n",
       "             scoring=make_scorer(roc_auc_score), verbose=1)"
      ]
     },
     "execution_count": 17,
     "metadata": {},
     "output_type": "execute_result"
    },
    {
     "data": {
      "application/javascript": [
       "\n",
       "            setTimeout(function() {\n",
       "                var nbb_cell_id = 17;\n",
       "                var nbb_unformatted_code = \"grid = {\\\"max_depth\\\": [4, 5, 6], \\\"n_estimators\\\": [50, 100, 200]}\\nmodel = GridSearchCV(\\n    RandomForestClassifier(),\\n    param_grid=grid,\\n    cv=2,\\n    #     scoring=make_scorer(f1_score),\\n    scoring=make_scorer(roc_auc_score),\\n    verbose=1,\\n)\\nmodel.fit(X_train, y_train)\";\n",
       "                var nbb_formatted_code = \"grid = {\\\"max_depth\\\": [4, 5, 6], \\\"n_estimators\\\": [50, 100, 200]}\\nmodel = GridSearchCV(\\n    RandomForestClassifier(),\\n    param_grid=grid,\\n    cv=2,\\n    #     scoring=make_scorer(f1_score),\\n    scoring=make_scorer(roc_auc_score),\\n    verbose=1,\\n)\\nmodel.fit(X_train, y_train)\";\n",
       "                var nbb_cells = Jupyter.notebook.get_cells();\n",
       "                for (var i = 0; i < nbb_cells.length; ++i) {\n",
       "                    if (nbb_cells[i].input_prompt_number == nbb_cell_id) {\n",
       "                        if (nbb_cells[i].get_text() == nbb_unformatted_code) {\n",
       "                             nbb_cells[i].set_text(nbb_formatted_code);\n",
       "                        }\n",
       "                        break;\n",
       "                    }\n",
       "                }\n",
       "            }, 500);\n",
       "            "
      ],
      "text/plain": [
       "<IPython.core.display.Javascript object>"
      ]
     },
     "metadata": {},
     "output_type": "display_data"
    }
   ],
   "source": [
    "grid = {\"max_depth\": [4, 5, 6], \"n_estimators\": [50, 100, 200]}\n",
    "model = GridSearchCV(\n",
    "    RandomForestClassifier(),\n",
    "    param_grid=grid,\n",
    "    cv=2,\n",
    "    #     scoring=make_scorer(f1_score),\n",
    "    scoring=make_scorer(roc_auc_score),\n",
    "    verbose=1,\n",
    ")\n",
    "model.fit(X_train, y_train)"
   ]
  },
  {
   "cell_type": "code",
   "execution_count": 18,
   "metadata": {},
   "outputs": [
    {
     "data": {
      "text/plain": [
       "{'max_depth': 6, 'n_estimators': 200}"
      ]
     },
     "execution_count": 18,
     "metadata": {},
     "output_type": "execute_result"
    },
    {
     "data": {
      "application/javascript": [
       "\n",
       "            setTimeout(function() {\n",
       "                var nbb_cell_id = 18;\n",
       "                var nbb_unformatted_code = \"model.best_params_\";\n",
       "                var nbb_formatted_code = \"model.best_params_\";\n",
       "                var nbb_cells = Jupyter.notebook.get_cells();\n",
       "                for (var i = 0; i < nbb_cells.length; ++i) {\n",
       "                    if (nbb_cells[i].input_prompt_number == nbb_cell_id) {\n",
       "                        if (nbb_cells[i].get_text() == nbb_unformatted_code) {\n",
       "                             nbb_cells[i].set_text(nbb_formatted_code);\n",
       "                        }\n",
       "                        break;\n",
       "                    }\n",
       "                }\n",
       "            }, 500);\n",
       "            "
      ],
      "text/plain": [
       "<IPython.core.display.Javascript object>"
      ]
     },
     "metadata": {},
     "output_type": "display_data"
    }
   ],
   "source": [
    "model.best_params_"
   ]
  },
  {
   "cell_type": "code",
   "execution_count": 19,
   "metadata": {},
   "outputs": [
    {
     "data": {
      "text/plain": [
       "0.5167883820057733"
      ]
     },
     "execution_count": 19,
     "metadata": {},
     "output_type": "execute_result"
    },
    {
     "data": {
      "application/javascript": [
       "\n",
       "            setTimeout(function() {\n",
       "                var nbb_cell_id = 19;\n",
       "                var nbb_unformatted_code = \"model.score(X_train, y_train)\";\n",
       "                var nbb_formatted_code = \"model.score(X_train, y_train)\";\n",
       "                var nbb_cells = Jupyter.notebook.get_cells();\n",
       "                for (var i = 0; i < nbb_cells.length; ++i) {\n",
       "                    if (nbb_cells[i].input_prompt_number == nbb_cell_id) {\n",
       "                        if (nbb_cells[i].get_text() == nbb_unformatted_code) {\n",
       "                             nbb_cells[i].set_text(nbb_formatted_code);\n",
       "                        }\n",
       "                        break;\n",
       "                    }\n",
       "                }\n",
       "            }, 500);\n",
       "            "
      ],
      "text/plain": [
       "<IPython.core.display.Javascript object>"
      ]
     },
     "metadata": {},
     "output_type": "display_data"
    }
   ],
   "source": [
    "model.score(X_train, y_train)"
   ]
  },
  {
   "cell_type": "code",
   "execution_count": 20,
   "metadata": {},
   "outputs": [
    {
     "data": {
      "text/plain": [
       "0.5098882808682865"
      ]
     },
     "execution_count": 20,
     "metadata": {},
     "output_type": "execute_result"
    },
    {
     "data": {
      "application/javascript": [
       "\n",
       "            setTimeout(function() {\n",
       "                var nbb_cell_id = 20;\n",
       "                var nbb_unformatted_code = \"model.score(X_test, y_test)\";\n",
       "                var nbb_formatted_code = \"model.score(X_test, y_test)\";\n",
       "                var nbb_cells = Jupyter.notebook.get_cells();\n",
       "                for (var i = 0; i < nbb_cells.length; ++i) {\n",
       "                    if (nbb_cells[i].input_prompt_number == nbb_cell_id) {\n",
       "                        if (nbb_cells[i].get_text() == nbb_unformatted_code) {\n",
       "                             nbb_cells[i].set_text(nbb_formatted_code);\n",
       "                        }\n",
       "                        break;\n",
       "                    }\n",
       "                }\n",
       "            }, 500);\n",
       "            "
      ],
      "text/plain": [
       "<IPython.core.display.Javascript object>"
      ]
     },
     "metadata": {},
     "output_type": "display_data"
    }
   ],
   "source": [
    "model.score(X_test, y_test)"
   ]
  },
  {
   "cell_type": "markdown",
   "metadata": {
    "colab_type": "text",
    "id": "ClKz91ajdWEq"
   },
   "source": [
    "To evaluate our model, produce the predicted values for the test sample. Remember to apply our previously fitted encoder to the test data prior to making predictions."
   ]
  },
  {
   "cell_type": "code",
   "execution_count": 21,
   "metadata": {
    "colab": {},
    "colab_type": "code",
    "id": "p9tiXUV2dWEr"
   },
   "outputs": [
    {
     "data": {
      "application/javascript": [
       "\n",
       "            setTimeout(function() {\n",
       "                var nbb_cell_id = 21;\n",
       "                var nbb_unformatted_code = \"y_pred = model.predict(X_test)\\ny_prob = model.predict_proba(X_test)\";\n",
       "                var nbb_formatted_code = \"y_pred = model.predict(X_test)\\ny_prob = model.predict_proba(X_test)\";\n",
       "                var nbb_cells = Jupyter.notebook.get_cells();\n",
       "                for (var i = 0; i < nbb_cells.length; ++i) {\n",
       "                    if (nbb_cells[i].input_prompt_number == nbb_cell_id) {\n",
       "                        if (nbb_cells[i].get_text() == nbb_unformatted_code) {\n",
       "                             nbb_cells[i].set_text(nbb_formatted_code);\n",
       "                        }\n",
       "                        break;\n",
       "                    }\n",
       "                }\n",
       "            }, 500);\n",
       "            "
      ],
      "text/plain": [
       "<IPython.core.display.Javascript object>"
      ]
     },
     "metadata": {},
     "output_type": "display_data"
    }
   ],
   "source": [
    "y_pred = model.predict(X_test)\n",
    "y_prob = model.predict_proba(X_test)"
   ]
  },
  {
   "cell_type": "markdown",
   "metadata": {
    "colab_type": "text",
    "id": "M4QYFoevdWEs"
   },
   "source": [
    "After making the predictions, print out the classification report (sklearn.metrics.classification_report). In addition, plot the confusion matrix and ROC curve. How did our model perform?"
   ]
  },
  {
   "cell_type": "code",
   "execution_count": null,
   "metadata": {},
   "outputs": [],
   "source": [
    "# not performing well, recall for class 1 is very poor.\n",
    "# something would need to be done to improve this before deploying the model"
   ]
  },
  {
   "cell_type": "code",
   "execution_count": 22,
   "metadata": {
    "colab": {},
    "colab_type": "code",
    "id": "wmzoxEQsdWEs"
   },
   "outputs": [
    {
     "data": {
      "text/html": [
       "<div>\n",
       "<style scoped>\n",
       "    .dataframe tbody tr th:only-of-type {\n",
       "        vertical-align: middle;\n",
       "    }\n",
       "\n",
       "    .dataframe tbody tr th {\n",
       "        vertical-align: top;\n",
       "    }\n",
       "\n",
       "    .dataframe thead th {\n",
       "        text-align: right;\n",
       "    }\n",
       "</style>\n",
       "<table border=\"1\" class=\"dataframe\">\n",
       "  <thead>\n",
       "    <tr style=\"text-align: right;\">\n",
       "      <th></th>\n",
       "      <th>Predicted No Churn</th>\n",
       "      <th>Predicted Churn</th>\n",
       "    </tr>\n",
       "  </thead>\n",
       "  <tbody>\n",
       "    <tr>\n",
       "      <th>No Churn</th>\n",
       "      <td>7053</td>\n",
       "      <td>49</td>\n",
       "    </tr>\n",
       "    <tr>\n",
       "      <th>Churn</th>\n",
       "      <td>2773</td>\n",
       "      <td>76</td>\n",
       "    </tr>\n",
       "  </tbody>\n",
       "</table>\n",
       "</div>"
      ],
      "text/plain": [
       "          Predicted No Churn  Predicted Churn\n",
       "No Churn                7053               49\n",
       "Churn                   2773               76"
      ]
     },
     "execution_count": 22,
     "metadata": {},
     "output_type": "execute_result"
    },
    {
     "data": {
      "application/javascript": [
       "\n",
       "            setTimeout(function() {\n",
       "                var nbb_cell_id = 22;\n",
       "                var nbb_unformatted_code = \"pd.DataFrame(\\n    confusion_matrix(y_test, y_pred),\\n    columns=[\\\"Predicted No Churn\\\", \\\"Predicted Churn\\\"],\\n    index=[\\\"No Churn\\\", \\\"Churn\\\"],\\n)\";\n",
       "                var nbb_formatted_code = \"pd.DataFrame(\\n    confusion_matrix(y_test, y_pred),\\n    columns=[\\\"Predicted No Churn\\\", \\\"Predicted Churn\\\"],\\n    index=[\\\"No Churn\\\", \\\"Churn\\\"],\\n)\";\n",
       "                var nbb_cells = Jupyter.notebook.get_cells();\n",
       "                for (var i = 0; i < nbb_cells.length; ++i) {\n",
       "                    if (nbb_cells[i].input_prompt_number == nbb_cell_id) {\n",
       "                        if (nbb_cells[i].get_text() == nbb_unformatted_code) {\n",
       "                             nbb_cells[i].set_text(nbb_formatted_code);\n",
       "                        }\n",
       "                        break;\n",
       "                    }\n",
       "                }\n",
       "            }, 500);\n",
       "            "
      ],
      "text/plain": [
       "<IPython.core.display.Javascript object>"
      ]
     },
     "metadata": {},
     "output_type": "display_data"
    }
   ],
   "source": [
    "pd.DataFrame(\n",
    "    confusion_matrix(y_test, y_pred),\n",
    "    columns=[\"Predicted No Churn\", \"Predicted Churn\"],\n",
    "    index=[\"No Churn\", \"Churn\"],\n",
    ")"
   ]
  },
  {
   "cell_type": "code",
   "execution_count": 23,
   "metadata": {},
   "outputs": [
    {
     "name": "stdout",
     "output_type": "stream",
     "text": [
      "              precision    recall  f1-score   support\n",
      "\n",
      "       False       0.72      0.99      0.83      7102\n",
      "        True       0.61      0.03      0.05      2849\n",
      "\n",
      "    accuracy                           0.72      9951\n",
      "   macro avg       0.66      0.51      0.44      9951\n",
      "weighted avg       0.69      0.72      0.61      9951\n",
      "\n"
     ]
    },
    {
     "data": {
      "application/javascript": [
       "\n",
       "            setTimeout(function() {\n",
       "                var nbb_cell_id = 23;\n",
       "                var nbb_unformatted_code = \"print(classification_report(y_test, y_pred))\";\n",
       "                var nbb_formatted_code = \"print(classification_report(y_test, y_pred))\";\n",
       "                var nbb_cells = Jupyter.notebook.get_cells();\n",
       "                for (var i = 0; i < nbb_cells.length; ++i) {\n",
       "                    if (nbb_cells[i].input_prompt_number == nbb_cell_id) {\n",
       "                        if (nbb_cells[i].get_text() == nbb_unformatted_code) {\n",
       "                             nbb_cells[i].set_text(nbb_formatted_code);\n",
       "                        }\n",
       "                        break;\n",
       "                    }\n",
       "                }\n",
       "            }, 500);\n",
       "            "
      ],
      "text/plain": [
       "<IPython.core.display.Javascript object>"
      ]
     },
     "metadata": {},
     "output_type": "display_data"
    }
   ],
   "source": [
    "print(classification_report(y_test, y_pred))"
   ]
  },
  {
   "cell_type": "code",
   "execution_count": 24,
   "metadata": {},
   "outputs": [
    {
     "data": {
      "text/plain": [
       "0.6224712727810446"
      ]
     },
     "execution_count": 24,
     "metadata": {},
     "output_type": "execute_result"
    },
    {
     "data": {
      "application/javascript": [
       "\n",
       "            setTimeout(function() {\n",
       "                var nbb_cell_id = 24;\n",
       "                var nbb_unformatted_code = \"fpr, tpr, _ = roc_curve(y_test, y_prob[:, 1])\\nroc_auc_score(y_test, y_prob[:, 1])\";\n",
       "                var nbb_formatted_code = \"fpr, tpr, _ = roc_curve(y_test, y_prob[:, 1])\\nroc_auc_score(y_test, y_prob[:, 1])\";\n",
       "                var nbb_cells = Jupyter.notebook.get_cells();\n",
       "                for (var i = 0; i < nbb_cells.length; ++i) {\n",
       "                    if (nbb_cells[i].input_prompt_number == nbb_cell_id) {\n",
       "                        if (nbb_cells[i].get_text() == nbb_unformatted_code) {\n",
       "                             nbb_cells[i].set_text(nbb_formatted_code);\n",
       "                        }\n",
       "                        break;\n",
       "                    }\n",
       "                }\n",
       "            }, 500);\n",
       "            "
      ],
      "text/plain": [
       "<IPython.core.display.Javascript object>"
      ]
     },
     "metadata": {},
     "output_type": "display_data"
    }
   ],
   "source": [
    "fpr, tpr, _ = roc_curve(y_test, y_prob[:, 1])\n",
    "roc_auc_score(y_test, y_prob[:, 1])"
   ]
  },
  {
   "cell_type": "code",
   "execution_count": 25,
   "metadata": {},
   "outputs": [
    {
     "data": {
      "image/png": "[encoded data removed]",
      "text/plain": [
       "<Figure size 432x288 with 1 Axes>"
      ]
     },
     "metadata": {
      "needs_background": "light"
     },
     "output_type": "display_data"
    },
    {
     "data": {
      "application/javascript": [
       "\n",
       "            setTimeout(function() {\n",
       "                var nbb_cell_id = 25;\n",
       "                var nbb_unformatted_code = \"plt.plot(fpr, tpr, label=\\\"Model ROC\\\")\\nplt.plot([0, 1], [0, 1], \\\"--\\\", c=\\\"black\\\", label=\\\"Random Guessing\\\")\\nplt.plot([0, 0, 1], [0, 1, 1], \\\"--\\\", c=\\\"gray\\\", label=\\\"Perfect Separation\\\")\\nplt.legend()\\nplt.show()\";\n",
       "                var nbb_formatted_code = \"plt.plot(fpr, tpr, label=\\\"Model ROC\\\")\\nplt.plot([0, 1], [0, 1], \\\"--\\\", c=\\\"black\\\", label=\\\"Random Guessing\\\")\\nplt.plot([0, 0, 1], [0, 1, 1], \\\"--\\\", c=\\\"gray\\\", label=\\\"Perfect Separation\\\")\\nplt.legend()\\nplt.show()\";\n",
       "                var nbb_cells = Jupyter.notebook.get_cells();\n",
       "                for (var i = 0; i < nbb_cells.length; ++i) {\n",
       "                    if (nbb_cells[i].input_prompt_number == nbb_cell_id) {\n",
       "                        if (nbb_cells[i].get_text() == nbb_unformatted_code) {\n",
       "                             nbb_cells[i].set_text(nbb_formatted_code);\n",
       "                        }\n",
       "                        break;\n",
       "                    }\n",
       "                }\n",
       "            }, 500);\n",
       "            "
      ],
      "text/plain": [
       "<IPython.core.display.Javascript object>"
      ]
     },
     "metadata": {},
     "output_type": "display_data"
    }
   ],
   "source": [
    "plt.plot(fpr, tpr, label=\"Model ROC\")\n",
    "plt.plot([0, 1], [0, 1], \"--\", c=\"black\", label=\"Random Guessing\")\n",
    "plt.plot([0, 0, 1], [0, 1, 1], \"--\", c=\"gray\", label=\"Perfect Separation\")\n",
    "plt.legend()\n",
    "plt.show()"
   ]
  },
  {
   "cell_type": "markdown",
   "metadata": {
    "colab_type": "text",
    "id": "_CEPHhIwdWEu"
   },
   "source": [
    "Print the feature importances, ordered by importance from high to low. What is the default sklearn feature importance metric?"
   ]
  },
  {
   "cell_type": "code",
   "execution_count": 26,
   "metadata": {},
   "outputs": [
    {
     "data": {
      "application/javascript": [
       "\n",
       "            setTimeout(function() {\n",
       "                var nbb_cell_id = 26;\n",
       "                var nbb_unformatted_code = \"# best sklearn specific write-up i could find:\\n# https://stackoverflow.com/a/15821880/5731525\";\n",
       "                var nbb_formatted_code = \"# best sklearn specific write-up i could find:\\n# https://stackoverflow.com/a/15821880/5731525\";\n",
       "                var nbb_cells = Jupyter.notebook.get_cells();\n",
       "                for (var i = 0; i < nbb_cells.length; ++i) {\n",
       "                    if (nbb_cells[i].input_prompt_number == nbb_cell_id) {\n",
       "                        if (nbb_cells[i].get_text() == nbb_unformatted_code) {\n",
       "                             nbb_cells[i].set_text(nbb_formatted_code);\n",
       "                        }\n",
       "                        break;\n",
       "                    }\n",
       "                }\n",
       "            }, 500);\n",
       "            "
      ],
      "text/plain": [
       "<IPython.core.display.Javascript object>"
      ]
     },
     "metadata": {},
     "output_type": "display_data"
    }
   ],
   "source": [
    "# best sklearn specific write-up i could find:\n",
    "# https://stackoverflow.com/a/15821880/5731525"
   ]
  },
  {
   "cell_type": "code",
   "execution_count": 27,
   "metadata": {
    "colab": {},
    "colab_type": "code",
    "id": "W1b3f-i-dWEv"
   },
   "outputs": [
    {
     "data": {
      "text/html": [
       "<div>\n",
       "<style scoped>\n",
       "    .dataframe tbody tr th:only-of-type {\n",
       "        vertical-align: middle;\n",
       "    }\n",
       "\n",
       "    .dataframe tbody tr th {\n",
       "        vertical-align: top;\n",
       "    }\n",
       "\n",
       "    .dataframe thead th {\n",
       "        text-align: right;\n",
       "    }\n",
       "</style>\n",
       "<table border=\"1\" class=\"dataframe\">\n",
       "  <thead>\n",
       "    <tr style=\"text-align: right;\">\n",
       "      <th></th>\n",
       "      <th>feat</th>\n",
       "      <th>importance</th>\n",
       "    </tr>\n",
       "  </thead>\n",
       "  <tbody>\n",
       "    <tr>\n",
       "      <th>8</th>\n",
       "      <td>CurrentEquipmentDays</td>\n",
       "      <td>0.349766</td>\n",
       "    </tr>\n",
       "    <tr>\n",
       "      <th>6</th>\n",
       "      <td>ServiceArea</td>\n",
       "      <td>0.226261</td>\n",
       "    </tr>\n",
       "    <tr>\n",
       "      <th>0</th>\n",
       "      <td>MonthlyMinutes</td>\n",
       "      <td>0.109464</td>\n",
       "    </tr>\n",
       "    <tr>\n",
       "      <th>1</th>\n",
       "      <td>TotalRecurringCharge</td>\n",
       "      <td>0.049286</td>\n",
       "    </tr>\n",
       "    <tr>\n",
       "      <th>9</th>\n",
       "      <td>HandsetWebCapable</td>\n",
       "      <td>0.037995</td>\n",
       "    </tr>\n",
       "    <tr>\n",
       "      <th>12</th>\n",
       "      <td>CreditRating</td>\n",
       "      <td>0.035419</td>\n",
       "    </tr>\n",
       "    <tr>\n",
       "      <th>11</th>\n",
       "      <td>MadeCallToRetentionTeam</td>\n",
       "      <td>0.031446</td>\n",
       "    </tr>\n",
       "    <tr>\n",
       "      <th>4</th>\n",
       "      <td>PeakCallsInOut</td>\n",
       "      <td>0.030385</td>\n",
       "    </tr>\n",
       "    <tr>\n",
       "      <th>5</th>\n",
       "      <td>OffPeakCallsInOut</td>\n",
       "      <td>0.029998</td>\n",
       "    </tr>\n",
       "    <tr>\n",
       "      <th>10</th>\n",
       "      <td>RetentionCalls</td>\n",
       "      <td>0.028031</td>\n",
       "    </tr>\n",
       "    <tr>\n",
       "      <th>7</th>\n",
       "      <td>HandsetModels</td>\n",
       "      <td>0.027713</td>\n",
       "    </tr>\n",
       "    <tr>\n",
       "      <th>2</th>\n",
       "      <td>ReceivedCalls</td>\n",
       "      <td>0.023500</td>\n",
       "    </tr>\n",
       "    <tr>\n",
       "      <th>3</th>\n",
       "      <td>InboundCalls</td>\n",
       "      <td>0.020736</td>\n",
       "    </tr>\n",
       "  </tbody>\n",
       "</table>\n",
       "</div>"
      ],
      "text/plain": [
       "                       feat  importance\n",
       "8      CurrentEquipmentDays    0.349766\n",
       "6               ServiceArea    0.226261\n",
       "0            MonthlyMinutes    0.109464\n",
       "1      TotalRecurringCharge    0.049286\n",
       "9         HandsetWebCapable    0.037995\n",
       "12             CreditRating    0.035419\n",
       "11  MadeCallToRetentionTeam    0.031446\n",
       "4            PeakCallsInOut    0.030385\n",
       "5         OffPeakCallsInOut    0.029998\n",
       "10           RetentionCalls    0.028031\n",
       "7             HandsetModels    0.027713\n",
       "2             ReceivedCalls    0.023500\n",
       "3              InboundCalls    0.020736"
      ]
     },
     "execution_count": 27,
     "metadata": {},
     "output_type": "execute_result"
    },
    {
     "data": {
      "application/javascript": [
       "\n",
       "            setTimeout(function() {\n",
       "                var nbb_cell_id = 27;\n",
       "                var nbb_unformatted_code = \"# Most important features are:\\n#   * How long have customers had the equipment?\\n#   * Where are they located?\\n#   * How much do they use the service?\\nimportance_df = pd.DataFrame(\\n    {\\\"feat\\\": X_train.columns, \\\"importance\\\": model.best_estimator_.feature_importances_}\\n)\\n\\nimportance_df = importance_df.sort_values(\\\"importance\\\", ascending=False)\\nimportance_df\";\n",
       "                var nbb_formatted_code = \"# Most important features are:\\n#   * How long have customers had the equipment?\\n#   * Where are they located?\\n#   * How much do they use the service?\\nimportance_df = pd.DataFrame(\\n    {\\\"feat\\\": X_train.columns, \\\"importance\\\": model.best_estimator_.feature_importances_}\\n)\\n\\nimportance_df = importance_df.sort_values(\\\"importance\\\", ascending=False)\\nimportance_df\";\n",
       "                var nbb_cells = Jupyter.notebook.get_cells();\n",
       "                for (var i = 0; i < nbb_cells.length; ++i) {\n",
       "                    if (nbb_cells[i].input_prompt_number == nbb_cell_id) {\n",
       "                        if (nbb_cells[i].get_text() == nbb_unformatted_code) {\n",
       "                             nbb_cells[i].set_text(nbb_formatted_code);\n",
       "                        }\n",
       "                        break;\n",
       "                    }\n",
       "                }\n",
       "            }, 500);\n",
       "            "
      ],
      "text/plain": [
       "<IPython.core.display.Javascript object>"
      ]
     },
     "metadata": {},
     "output_type": "display_data"
    }
   ],
   "source": [
    "# Most important features are:\n",
    "#   * How long have customers had the equipment?\n",
    "#   * Where are they located?\n",
    "#   * How much do they use the service?\n",
    "importance_df = pd.DataFrame(\n",
    "    {\"feat\": X_train.columns, \"importance\": model.best_estimator_.feature_importances_}\n",
    ")\n",
    "\n",
    "importance_df = importance_df.sort_values(\"importance\", ascending=False)\n",
    "importance_df"
   ]
  }
 ],
 "metadata": {
  "colab": {
   "collapsed_sections": [],
   "name": "Day 30 Lecture 1 Assignment.ipynb",
   "provenance": []
  },
  "kernelspec": {
   "display_name": "Python 3",
   "language": "python",
   "name": "python3"
  },
  "language_info": {
   "codemirror_mode": {
    "name": "ipython",
    "version": 3
   },
   "file_extension": ".py",
   "mimetype": "text/x-python",
   "name": "python",
   "nbconvert_exporter": "python",
   "pygments_lexer": "ipython3",
   "version": "3.7.6"
  }
 },
 "nbformat": 4,
 "nbformat_minor": 1
}
