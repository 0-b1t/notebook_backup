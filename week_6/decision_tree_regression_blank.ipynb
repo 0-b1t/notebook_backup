{
 "cells": [
  {
   "cell_type": "code",
   "execution_count": 1,
   "metadata": {},
   "outputs": [
    {
     "data": {
      "application/javascript": [
       "\n",
       "            setTimeout(function() {\n",
       "                var nbb_cell_id = 1;\n",
       "                var nbb_unformatted_code = \"%reload_ext nb_black\";\n",
       "                var nbb_formatted_code = \"%reload_ext nb_black\";\n",
       "                var nbb_cells = Jupyter.notebook.get_cells();\n",
       "                for (var i = 0; i < nbb_cells.length; ++i) {\n",
       "                    if (nbb_cells[i].input_prompt_number == nbb_cell_id) {\n",
       "                        if (nbb_cells[i].get_text() == nbb_unformatted_code) {\n",
       "                             nbb_cells[i].set_text(nbb_formatted_code);\n",
       "                        }\n",
       "                        break;\n",
       "                    }\n",
       "                }\n",
       "            }, 500);\n",
       "            "
      ],
      "text/plain": [
       "<IPython.core.display.Javascript object>"
      ]
     },
     "metadata": {},
     "output_type": "display_data"
    }
   ],
   "source": [
    "%reload_ext nb_black"
   ]
  },
  {
   "cell_type": "code",
   "execution_count": 2,
   "metadata": {},
   "outputs": [
    {
     "data": {
      "application/javascript": [
       "\n",
       "            setTimeout(function() {\n",
       "                var nbb_cell_id = 2;\n",
       "                var nbb_unformatted_code = \"import numpy as np\\nimport pandas as pd\\n\\nfrom sklearn.datasets import load_boston\\nfrom sklearn.model_selection import train_test_split\\nfrom sklearn.tree import DecisionTreeRegressor, plot_tree\\n\\nimport seaborn as sns\\nimport matplotlib.pyplot as plt\\n\\n%matplotlib inline\\n\\nboston_data = load_boston()\";\n",
       "                var nbb_formatted_code = \"import numpy as np\\nimport pandas as pd\\n\\nfrom sklearn.datasets import load_boston\\nfrom sklearn.model_selection import train_test_split\\nfrom sklearn.tree import DecisionTreeRegressor, plot_tree\\n\\nimport seaborn as sns\\nimport matplotlib.pyplot as plt\\n\\n%matplotlib inline\\n\\nboston_data = load_boston()\";\n",
       "                var nbb_cells = Jupyter.notebook.get_cells();\n",
       "                for (var i = 0; i < nbb_cells.length; ++i) {\n",
       "                    if (nbb_cells[i].input_prompt_number == nbb_cell_id) {\n",
       "                        if (nbb_cells[i].get_text() == nbb_unformatted_code) {\n",
       "                             nbb_cells[i].set_text(nbb_formatted_code);\n",
       "                        }\n",
       "                        break;\n",
       "                    }\n",
       "                }\n",
       "            }, 500);\n",
       "            "
      ],
      "text/plain": [
       "<IPython.core.display.Javascript object>"
      ]
     },
     "metadata": {},
     "output_type": "display_data"
    }
   ],
   "source": [
    "import numpy as np\n",
    "import pandas as pd\n",
    "\n",
    "from sklearn.datasets import load_boston\n",
    "from sklearn.model_selection import train_test_split\n",
    "from sklearn.tree import DecisionTreeRegressor, plot_tree\n",
    "\n",
    "import seaborn as sns\n",
    "import matplotlib.pyplot as plt\n",
    "\n",
    "%matplotlib inline\n",
    "\n",
    "boston_data = load_boston()"
   ]
  },
  {
   "cell_type": "code",
   "execution_count": 3,
   "metadata": {},
   "outputs": [
    {
     "data": {
      "application/javascript": [
       "\n",
       "            setTimeout(function() {\n",
       "                var nbb_cell_id = 3;\n",
       "                var nbb_unformatted_code = \"def eval_preds(y_true, y_pred):\\n    \\\"\\\"\\\"Display some metrics for evaluating regression predictions\\\"\\\"\\\"\\n    error = y_true - y_pred\\n\\n    rmse = np.mean(np.sqrt((error ** 2)))\\n    mae = np.mean(np.abs(error))\\n    mape = np.mean(np.abs((error / y_true)))\\n\\n    print(f\\\"rmse {rmse:.2f}\\\")\\n    print(f\\\"mae {mae:.2f}\\\")\\n    print(f\\\"mape {mape:.2f}\\\")\\n\\n    line_pts = [np.min(y_true), np.max(y_true)]\\n    plt.scatter(y_true, y_pred)\\n    plt.plot(line_pts, line_pts, c=\\\"red\\\", ls=\\\"--\\\", alpha=0.5)\\n    plt.xlabel(\\\"Actual\\\")\\n    plt.ylabel(\\\"Fit\\\")\\n    plt.show()\";\n",
       "                var nbb_formatted_code = \"def eval_preds(y_true, y_pred):\\n    \\\"\\\"\\\"Display some metrics for evaluating regression predictions\\\"\\\"\\\"\\n    error = y_true - y_pred\\n\\n    rmse = np.mean(np.sqrt((error ** 2)))\\n    mae = np.mean(np.abs(error))\\n    mape = np.mean(np.abs((error / y_true)))\\n\\n    print(f\\\"rmse {rmse:.2f}\\\")\\n    print(f\\\"mae {mae:.2f}\\\")\\n    print(f\\\"mape {mape:.2f}\\\")\\n\\n    line_pts = [np.min(y_true), np.max(y_true)]\\n    plt.scatter(y_true, y_pred)\\n    plt.plot(line_pts, line_pts, c=\\\"red\\\", ls=\\\"--\\\", alpha=0.5)\\n    plt.xlabel(\\\"Actual\\\")\\n    plt.ylabel(\\\"Fit\\\")\\n    plt.show()\";\n",
       "                var nbb_cells = Jupyter.notebook.get_cells();\n",
       "                for (var i = 0; i < nbb_cells.length; ++i) {\n",
       "                    if (nbb_cells[i].input_prompt_number == nbb_cell_id) {\n",
       "                        if (nbb_cells[i].get_text() == nbb_unformatted_code) {\n",
       "                             nbb_cells[i].set_text(nbb_formatted_code);\n",
       "                        }\n",
       "                        break;\n",
       "                    }\n",
       "                }\n",
       "            }, 500);\n",
       "            "
      ],
      "text/plain": [
       "<IPython.core.display.Javascript object>"
      ]
     },
     "metadata": {},
     "output_type": "display_data"
    }
   ],
   "source": [
    "def eval_preds(y_true, y_pred):\n",
    "    \"\"\"Display some metrics for evaluating regression predictions\"\"\"\n",
    "    error = y_true - y_pred\n",
    "\n",
    "    rmse = np.mean(np.sqrt((error ** 2)))\n",
    "    mae = np.mean(np.abs(error))\n",
    "    mape = np.mean(np.abs((error / y_true)))\n",
    "\n",
    "    print(f\"rmse {rmse:.2f}\")\n",
    "    print(f\"mae {mae:.2f}\")\n",
    "    print(f\"mape {mape:.2f}\")\n",
    "\n",
    "    line_pts = [np.min(y_true), np.max(y_true)]\n",
    "    plt.scatter(y_true, y_pred)\n",
    "    plt.plot(line_pts, line_pts, c=\"red\", ls=\"--\", alpha=0.5)\n",
    "    plt.xlabel(\"Actual\")\n",
    "    plt.ylabel(\"Fit\")\n",
    "    plt.show()"
   ]
  },
  {
   "cell_type": "markdown",
   "metadata": {},
   "source": [
    "* Investigate `boston_data` what are we working with.\n",
    "* How could we put this in a dataframe with column names?\n",
    "* What are we predicting?"
   ]
  },
  {
   "cell_type": "code",
   "execution_count": 4,
   "metadata": {},
   "outputs": [
    {
     "data": {
      "text/plain": [
       "True"
      ]
     },
     "execution_count": 4,
     "metadata": {},
     "output_type": "execute_result"
    },
    {
     "data": {
      "application/javascript": [
       "\n",
       "            setTimeout(function() {\n",
       "                var nbb_cell_id = 4;\n",
       "                var nbb_unformatted_code = \"isinstance(boston_data, dict)\";\n",
       "                var nbb_formatted_code = \"isinstance(boston_data, dict)\";\n",
       "                var nbb_cells = Jupyter.notebook.get_cells();\n",
       "                for (var i = 0; i < nbb_cells.length; ++i) {\n",
       "                    if (nbb_cells[i].input_prompt_number == nbb_cell_id) {\n",
       "                        if (nbb_cells[i].get_text() == nbb_unformatted_code) {\n",
       "                             nbb_cells[i].set_text(nbb_formatted_code);\n",
       "                        }\n",
       "                        break;\n",
       "                    }\n",
       "                }\n",
       "            }, 500);\n",
       "            "
      ],
      "text/plain": [
       "<IPython.core.display.Javascript object>"
      ]
     },
     "metadata": {},
     "output_type": "display_data"
    }
   ],
   "source": [
    "isinstance(boston_data, dict)"
   ]
  },
  {
   "cell_type": "code",
   "execution_count": 5,
   "metadata": {},
   "outputs": [
    {
     "data": {
      "text/plain": [
       "dict_keys(['data', 'target', 'feature_names', 'DESCR', 'filename'])"
      ]
     },
     "execution_count": 5,
     "metadata": {},
     "output_type": "execute_result"
    },
    {
     "data": {
      "application/javascript": [
       "\n",
       "            setTimeout(function() {\n",
       "                var nbb_cell_id = 5;\n",
       "                var nbb_unformatted_code = \"boston_data.keys()\";\n",
       "                var nbb_formatted_code = \"boston_data.keys()\";\n",
       "                var nbb_cells = Jupyter.notebook.get_cells();\n",
       "                for (var i = 0; i < nbb_cells.length; ++i) {\n",
       "                    if (nbb_cells[i].input_prompt_number == nbb_cell_id) {\n",
       "                        if (nbb_cells[i].get_text() == nbb_unformatted_code) {\n",
       "                             nbb_cells[i].set_text(nbb_formatted_code);\n",
       "                        }\n",
       "                        break;\n",
       "                    }\n",
       "                }\n",
       "            }, 500);\n",
       "            "
      ],
      "text/plain": [
       "<IPython.core.display.Javascript object>"
      ]
     },
     "metadata": {},
     "output_type": "display_data"
    }
   ],
   "source": [
    "boston_data.keys()"
   ]
  },
  {
   "cell_type": "code",
   "execution_count": 12,
   "metadata": {},
   "outputs": [
    {
     "data": {
      "application/javascript": [
       "\n",
       "            setTimeout(function() {\n",
       "                var nbb_cell_id = 12;\n",
       "                var nbb_unformatted_code = \"X = pd.DataFrame(boston_data[\\\"data\\\"], columns=boston_data[\\\"feature_names\\\"])\\ny = boston_data[\\\"target\\\"]\";\n",
       "                var nbb_formatted_code = \"X = pd.DataFrame(boston_data[\\\"data\\\"], columns=boston_data[\\\"feature_names\\\"])\\ny = boston_data[\\\"target\\\"]\";\n",
       "                var nbb_cells = Jupyter.notebook.get_cells();\n",
       "                for (var i = 0; i < nbb_cells.length; ++i) {\n",
       "                    if (nbb_cells[i].input_prompt_number == nbb_cell_id) {\n",
       "                        if (nbb_cells[i].get_text() == nbb_unformatted_code) {\n",
       "                             nbb_cells[i].set_text(nbb_formatted_code);\n",
       "                        }\n",
       "                        break;\n",
       "                    }\n",
       "                }\n",
       "            }, 500);\n",
       "            "
      ],
      "text/plain": [
       "<IPython.core.display.Javascript object>"
      ]
     },
     "metadata": {},
     "output_type": "display_data"
    }
   ],
   "source": [
    "X = pd.DataFrame(boston_data[\"data\"], columns=boston_data[\"feature_names\"])\n",
    "y = boston_data[\"target\"]"
   ]
  },
  {
   "cell_type": "markdown",
   "metadata": {},
   "source": [
    "* Train test split"
   ]
  },
  {
   "cell_type": "code",
   "execution_count": 13,
   "metadata": {},
   "outputs": [
    {
     "data": {
      "application/javascript": [
       "\n",
       "            setTimeout(function() {\n",
       "                var nbb_cell_id = 13;\n",
       "                var nbb_unformatted_code = \"X_train, X_test, y_train, y_test = train_test_split(\\n    X, y, test_size=0.2, random_state=42\\n)\";\n",
       "                var nbb_formatted_code = \"X_train, X_test, y_train, y_test = train_test_split(\\n    X, y, test_size=0.2, random_state=42\\n)\";\n",
       "                var nbb_cells = Jupyter.notebook.get_cells();\n",
       "                for (var i = 0; i < nbb_cells.length; ++i) {\n",
       "                    if (nbb_cells[i].input_prompt_number == nbb_cell_id) {\n",
       "                        if (nbb_cells[i].get_text() == nbb_unformatted_code) {\n",
       "                             nbb_cells[i].set_text(nbb_formatted_code);\n",
       "                        }\n",
       "                        break;\n",
       "                    }\n",
       "                }\n",
       "            }, 500);\n",
       "            "
      ],
      "text/plain": [
       "<IPython.core.display.Javascript object>"
      ]
     },
     "metadata": {},
     "output_type": "display_data"
    }
   ],
   "source": [
    "X_train, X_test, y_train, y_test = train_test_split(\n",
    "    X, y, test_size=0.2, random_state=42\n",
    ")"
   ]
  },
  {
   "cell_type": "code",
   "execution_count": null,
   "metadata": {},
   "outputs": [],
   "source": []
  },
  {
   "cell_type": "markdown",
   "metadata": {},
   "source": [
    "* Fit a `DecisionTreeRegressor` with default hyperparameters and report the train and test scores"
   ]
  },
  {
   "cell_type": "code",
   "execution_count": 14,
   "metadata": {},
   "outputs": [
    {
     "data": {
      "text/plain": [
       "DecisionTreeRegressor(ccp_alpha=0.0, criterion='mse', max_depth=None,\n",
       "                      max_features=None, max_leaf_nodes=None,\n",
       "                      min_impurity_decrease=0.0, min_impurity_split=None,\n",
       "                      min_samples_leaf=1, min_samples_split=2,\n",
       "                      min_weight_fraction_leaf=0.0, presort='deprecated',\n",
       "                      random_state=None, splitter='best')"
      ]
     },
     "execution_count": 14,
     "metadata": {},
     "output_type": "execute_result"
    },
    {
     "data": {
      "application/javascript": [
       "\n",
       "            setTimeout(function() {\n",
       "                var nbb_cell_id = 14;\n",
       "                var nbb_unformatted_code = \"model = DecisionTreeRegressor()\\nmodel.fit(X_train, y_train)\";\n",
       "                var nbb_formatted_code = \"model = DecisionTreeRegressor()\\nmodel.fit(X_train, y_train)\";\n",
       "                var nbb_cells = Jupyter.notebook.get_cells();\n",
       "                for (var i = 0; i < nbb_cells.length; ++i) {\n",
       "                    if (nbb_cells[i].input_prompt_number == nbb_cell_id) {\n",
       "                        if (nbb_cells[i].get_text() == nbb_unformatted_code) {\n",
       "                             nbb_cells[i].set_text(nbb_formatted_code);\n",
       "                        }\n",
       "                        break;\n",
       "                    }\n",
       "                }\n",
       "            }, 500);\n",
       "            "
      ],
      "text/plain": [
       "<IPython.core.display.Javascript object>"
      ]
     },
     "metadata": {},
     "output_type": "display_data"
    }
   ],
   "source": [
    "model = DecisionTreeRegressor()\n",
    "model.fit(X_train, y_train)"
   ]
  },
  {
   "cell_type": "markdown",
   "metadata": {},
   "source": [
    "* How are we performing?"
   ]
  },
  {
   "cell_type": "code",
   "execution_count": 15,
   "metadata": {},
   "outputs": [
    {
     "data": {
      "text/plain": [
       "1.0"
      ]
     },
     "execution_count": 15,
     "metadata": {},
     "output_type": "execute_result"
    },
    {
     "data": {
      "application/javascript": [
       "\n",
       "            setTimeout(function() {\n",
       "                var nbb_cell_id = 15;\n",
       "                var nbb_unformatted_code = \"model.score(X_train, y_train)\";\n",
       "                var nbb_formatted_code = \"model.score(X_train, y_train)\";\n",
       "                var nbb_cells = Jupyter.notebook.get_cells();\n",
       "                for (var i = 0; i < nbb_cells.length; ++i) {\n",
       "                    if (nbb_cells[i].input_prompt_number == nbb_cell_id) {\n",
       "                        if (nbb_cells[i].get_text() == nbb_unformatted_code) {\n",
       "                             nbb_cells[i].set_text(nbb_formatted_code);\n",
       "                        }\n",
       "                        break;\n",
       "                    }\n",
       "                }\n",
       "            }, 500);\n",
       "            "
      ],
      "text/plain": [
       "<IPython.core.display.Javascript object>"
      ]
     },
     "metadata": {},
     "output_type": "display_data"
    }
   ],
   "source": [
    "model.score(X_train, y_train)"
   ]
  },
  {
   "cell_type": "code",
   "execution_count": 16,
   "metadata": {},
   "outputs": [
    {
     "data": {
      "text/plain": [
       "0.6967077427489828"
      ]
     },
     "execution_count": 16,
     "metadata": {},
     "output_type": "execute_result"
    },
    {
     "data": {
      "application/javascript": [
       "\n",
       "            setTimeout(function() {\n",
       "                var nbb_cell_id = 16;\n",
       "                var nbb_unformatted_code = \"model.score(X_test, y_test)\";\n",
       "                var nbb_formatted_code = \"model.score(X_test, y_test)\";\n",
       "                var nbb_cells = Jupyter.notebook.get_cells();\n",
       "                for (var i = 0; i < nbb_cells.length; ++i) {\n",
       "                    if (nbb_cells[i].input_prompt_number == nbb_cell_id) {\n",
       "                        if (nbb_cells[i].get_text() == nbb_unformatted_code) {\n",
       "                             nbb_cells[i].set_text(nbb_formatted_code);\n",
       "                        }\n",
       "                        break;\n",
       "                    }\n",
       "                }\n",
       "            }, 500);\n",
       "            "
      ],
      "text/plain": [
       "<IPython.core.display.Javascript object>"
      ]
     },
     "metadata": {},
     "output_type": "display_data"
    }
   ],
   "source": [
    "model.score(X_test, y_test)"
   ]
  },
  {
   "cell_type": "markdown",
   "metadata": {},
   "source": [
    "* I put a helper function named `eval_preds()` at the top of this notebook.  Apply it to evaluate our model."
   ]
  },
  {
   "cell_type": "code",
   "execution_count": 17,
   "metadata": {},
   "outputs": [
    {
     "name": "stdout",
     "output_type": "stream",
     "text": [
      "rmse 2.69\n",
      "mae 2.69\n",
      "mape 0.14\n"
     ]
    },
    {
     "data": {
      "image/png": "[encoded data removed]",
      "text/plain": [
       "<Figure size 432x288 with 1 Axes>"
      ]
     },
     "metadata": {
      "needs_background": "light"
     },
     "output_type": "display_data"
    },
    {
     "data": {
      "application/javascript": [
       "\n",
       "            setTimeout(function() {\n",
       "                var nbb_cell_id = 17;\n",
       "                var nbb_unformatted_code = \"y_pred = model.predict(X_test)\\neval_preds(y_test, y_pred)\";\n",
       "                var nbb_formatted_code = \"y_pred = model.predict(X_test)\\neval_preds(y_test, y_pred)\";\n",
       "                var nbb_cells = Jupyter.notebook.get_cells();\n",
       "                for (var i = 0; i < nbb_cells.length; ++i) {\n",
       "                    if (nbb_cells[i].input_prompt_number == nbb_cell_id) {\n",
       "                        if (nbb_cells[i].get_text() == nbb_unformatted_code) {\n",
       "                             nbb_cells[i].set_text(nbb_formatted_code);\n",
       "                        }\n",
       "                        break;\n",
       "                    }\n",
       "                }\n",
       "            }, 500);\n",
       "            "
      ],
      "text/plain": [
       "<IPython.core.display.Javascript object>"
      ]
     },
     "metadata": {},
     "output_type": "display_data"
    }
   ],
   "source": [
    "y_pred = model.predict(X_test)\n",
    "eval_preds(y_test, y_pred)"
   ]
  },
  {
   "cell_type": "markdown",
   "metadata": {},
   "source": [
    "* Plot the decision tree (we'll just use `plot_tree` here instead of pydotplus). This will take a while..."
   ]
  },
  {
   "cell_type": "code",
   "execution_count": null,
   "metadata": {},
   "outputs": [],
   "source": [
    "%%time\n",
    "plt.figure(figsize=(10, 10))\n",
    "plot_tree(model, filled=True, feature_names=X_train.columns)\n",
    "plt.show()"
   ]
  },
  {
   "cell_type": "markdown",
   "metadata": {},
   "source": [
    "-----\n",
    "\n",
    "#### Group 1\n",
    "\n",
    "* Adjust the hyperparameters of `max_depth` & `min_samples_leaf`\n",
    "* Re-fit, re-score, and re-plot the model.  How did these change the output?\n",
    "* Be prepared for someone to try and explain what these hyperparameters are doing (things you might tell us about)\n",
    "  * how the params relate to over/under fitting (i.e. the higher/lower the `max_depth` the more over/under fit the model becomes)\n",
    "  * how the params change the look of the tree in the plot\n",
    "  * how the params are described in the sklearn documentation (paraphrased to plainer english)\n",
    "\n",
    "#### Group 2\n",
    "\n",
    "* Adjust the hyperparameters of `max_leaf_nodes` & `min_samples_split`\n",
    "* Re-fit, re-score, and re-plot the model.  How did these change the output?\n",
    "* Be prepared for someone to try and explain what these hyperparameters are doing (things you might tell us about)\n",
    "  * how the params relate to over/under fitting (i.e. the higher/lower the `max_leaf_nodes` the more over/under fit the model becomes)\n",
    "  * how the params change the look of the tree\n",
    "  * how the params are described in the sklearn documentation (paraphrased to plainer english)"
   ]
  },
  {
   "cell_type": "code",
   "execution_count": 18,
   "metadata": {},
   "outputs": [
    {
     "data": {
      "text/plain": [
       "DecisionTreeRegressor(ccp_alpha=0.0, criterion='mse', max_depth=10,\n",
       "                      max_features=None, max_leaf_nodes=None,\n",
       "                      min_impurity_decrease=0.0, min_impurity_split=None,\n",
       "                      min_samples_leaf=5, min_samples_split=2,\n",
       "                      min_weight_fraction_leaf=0.0, presort='deprecated',\n",
       "                      random_state=None, splitter='best')"
      ]
     },
     "execution_count": 18,
     "metadata": {},
     "output_type": "execute_result"
    },
    {
     "data": {
      "application/javascript": [
       "\n",
       "            setTimeout(function() {\n",
       "                var nbb_cell_id = 18;\n",
       "                var nbb_unformatted_code = \"model = DecisionTreeRegressor(max_depth=10,min_samples_leaf=5 )\\nmodel.fit(X_train, y_train)\";\n",
       "                var nbb_formatted_code = \"model = DecisionTreeRegressor(max_depth=10, min_samples_leaf=5)\\nmodel.fit(X_train, y_train)\";\n",
       "                var nbb_cells = Jupyter.notebook.get_cells();\n",
       "                for (var i = 0; i < nbb_cells.length; ++i) {\n",
       "                    if (nbb_cells[i].input_prompt_number == nbb_cell_id) {\n",
       "                        if (nbb_cells[i].get_text() == nbb_unformatted_code) {\n",
       "                             nbb_cells[i].set_text(nbb_formatted_code);\n",
       "                        }\n",
       "                        break;\n",
       "                    }\n",
       "                }\n",
       "            }, 500);\n",
       "            "
      ],
      "text/plain": [
       "<IPython.core.display.Javascript object>"
      ]
     },
     "metadata": {},
     "output_type": "display_data"
    }
   ],
   "source": [
    "model = DecisionTreeRegressor(max_depth=10, min_samples_leaf=5)\n",
    "model.fit(X_train, y_train)"
   ]
  },
  {
   "cell_type": "code",
   "execution_count": 19,
   "metadata": {
    "scrolled": true
   },
   "outputs": [
    {
     "data": {
      "text/plain": [
       "0.9017254632574068"
      ]
     },
     "execution_count": 19,
     "metadata": {},
     "output_type": "execute_result"
    },
    {
     "data": {
      "application/javascript": [
       "\n",
       "            setTimeout(function() {\n",
       "                var nbb_cell_id = 19;\n",
       "                var nbb_unformatted_code = \"model.score(X_train, y_train)\";\n",
       "                var nbb_formatted_code = \"model.score(X_train, y_train)\";\n",
       "                var nbb_cells = Jupyter.notebook.get_cells();\n",
       "                for (var i = 0; i < nbb_cells.length; ++i) {\n",
       "                    if (nbb_cells[i].input_prompt_number == nbb_cell_id) {\n",
       "                        if (nbb_cells[i].get_text() == nbb_unformatted_code) {\n",
       "                             nbb_cells[i].set_text(nbb_formatted_code);\n",
       "                        }\n",
       "                        break;\n",
       "                    }\n",
       "                }\n",
       "            }, 500);\n",
       "            "
      ],
      "text/plain": [
       "<IPython.core.display.Javascript object>"
      ]
     },
     "metadata": {},
     "output_type": "display_data"
    }
   ],
   "source": [
    "model.score(X_train, y_train)"
   ]
  },
  {
   "cell_type": "code",
   "execution_count": 20,
   "metadata": {},
   "outputs": [
    {
     "data": {
      "text/plain": [
       "0.7962743498014492"
      ]
     },
     "execution_count": 20,
     "metadata": {},
     "output_type": "execute_result"
    },
    {
     "data": {
      "application/javascript": [
       "\n",
       "            setTimeout(function() {\n",
       "                var nbb_cell_id = 20;\n",
       "                var nbb_unformatted_code = \"model.score(X_test, y_test)\";\n",
       "                var nbb_formatted_code = \"model.score(X_test, y_test)\";\n",
       "                var nbb_cells = Jupyter.notebook.get_cells();\n",
       "                for (var i = 0; i < nbb_cells.length; ++i) {\n",
       "                    if (nbb_cells[i].input_prompt_number == nbb_cell_id) {\n",
       "                        if (nbb_cells[i].get_text() == nbb_unformatted_code) {\n",
       "                             nbb_cells[i].set_text(nbb_formatted_code);\n",
       "                        }\n",
       "                        break;\n",
       "                    }\n",
       "                }\n",
       "            }, 500);\n",
       "            "
      ],
      "text/plain": [
       "<IPython.core.display.Javascript object>"
      ]
     },
     "metadata": {},
     "output_type": "display_data"
    }
   ],
   "source": [
    "model.score(X_test, y_test)"
   ]
  },
  {
   "cell_type": "code",
   "execution_count": 22,
   "metadata": {},
   "outputs": [
    {
     "name": "stdout",
     "output_type": "stream",
     "text": [
      "1 1\n",
      "0.4702641397327912\n",
      "0.36021569828883965\n",
      "1 2\n",
      "0.4702641397327912\n",
      "0.36021569828883965\n",
      "1 3\n",
      "0.4702641397327912\n",
      "0.36021569828883965\n",
      "1 4\n",
      "0.4702641397327912\n",
      "0.36021569828883965\n",
      "1 5\n",
      "0.4702641397327912\n",
      "0.36021569828883965\n",
      "1 6\n",
      "0.4702641397327912\n",
      "0.36021569828883965\n",
      "1 7\n",
      "0.4702641397327912\n",
      "0.36021569828883965\n",
      "1 8\n",
      "0.4702641397327912\n",
      "0.36021569828883965\n",
      "1 9\n",
      "0.4702641397327912\n",
      "0.36021569828883965\n",
      "1 10\n",
      "0.4702641397327912\n",
      "0.36021569828883965\n",
      "1 11\n",
      "0.4702641397327912\n",
      "0.36021569828883965\n",
      "2 1\n",
      "0.7046893968727066\n",
      "0.6455495710736121\n",
      "2 2\n",
      "0.7046893968727066\n",
      "0.6455495710736121\n",
      "2 3\n",
      "0.7046893968727066\n",
      "0.6455495710736121\n",
      "2 4\n",
      "0.7046893968727066\n",
      "0.6455495710736121\n",
      "2 5\n",
      "0.7046893968727066\n",
      "0.6455495710736121\n",
      "2 6\n",
      "0.7046893968727066\n",
      "0.6455495710736121\n",
      "2 7\n",
      "0.7046893968727066\n",
      "0.6455495710736121\n",
      "2 8\n",
      "0.7046893968727066\n",
      "0.6455495710736121\n",
      "2 9\n",
      "0.7046893968727066\n",
      "0.6455495710736121\n",
      "2 10\n",
      "0.7046893968727066\n",
      "0.6455495710736121\n",
      "2 11\n",
      "0.7046893968727066\n",
      "0.6455495710736121\n",
      "3 1\n",
      "0.8169563604769107\n",
      "0.8160292234821611\n",
      "3 2\n",
      "0.8140675348193656\n",
      "0.8173438281980067\n",
      "3 3\n",
      "0.809030936207273\n",
      "0.8146180247150895\n",
      "3 4\n",
      "0.8066801715941105\n",
      "0.8054731143673699\n",
      "3 5\n",
      "0.7911155358497179\n",
      "0.7175975744790715\n",
      "3 6\n",
      "0.7858039576321607\n",
      "0.7161671862080097\n",
      "3 7\n",
      "0.7854572691605429\n",
      "0.7150691941546131\n",
      "3 8\n",
      "0.7823924875254005\n",
      "0.7059559544268819\n",
      "3 9\n",
      "0.7823924875254005\n",
      "0.7059559544268819\n",
      "3 10\n",
      "0.7823924875254005\n",
      "0.7059559544268819\n",
      "3 11\n",
      "0.7823924875254005\n",
      "0.7059559544268819\n",
      "4 1\n",
      "0.8882016055749843\n",
      "0.7306868217984426\n",
      "4 2\n",
      "0.8766034864267744\n",
      "0.7166596457158037\n",
      "4 3\n",
      "0.8665525237598641\n",
      "0.8515697370212985\n",
      "4 4\n",
      "0.8634506237480688\n",
      "0.8422561316932944\n",
      "4 5\n",
      "0.8381563078794853\n",
      "0.720749483840083\n",
      "4 6\n",
      "0.8290465246896144\n",
      "0.7194250316711903\n",
      "4 7\n",
      "0.826668640127262\n",
      "0.7162909330804763\n",
      "4 8\n",
      "0.8309301004662276\n",
      "0.7317802197918226\n",
      "4 9\n",
      "0.8304010364964909\n",
      "0.7288179929051464\n",
      "4 10\n",
      "0.8281010200678749\n",
      "0.7281719240484352\n",
      "4 11\n",
      "0.8155524937750313\n",
      "0.7169854716311872\n",
      "5 1\n",
      "0.9185171013474737\n",
      "0.885137272531848\n",
      "5 2\n",
      "0.9031333061028965\n",
      "0.8725859780866059\n",
      "5 3\n",
      "0.892910737853746\n",
      "0.8811870110876299\n",
      "5 4\n",
      "0.8889390981524\n",
      "0.8589377481123502\n",
      "5 5\n",
      "0.8630774623540253\n",
      "0.7504161912384189\n",
      "5 6\n",
      "0.8517019398410617\n",
      "0.7571542990428448\n",
      "5 7\n",
      "0.8477858703187746\n",
      "0.7574981523651678\n",
      "5 8\n",
      "0.8482641207222953\n",
      "0.7721688298945274\n",
      "5 9\n",
      "0.8443850929997889\n",
      "0.7647076562431313\n",
      "5 10\n",
      "0.8417751710231924\n",
      "0.7650921612754652\n",
      "5 11\n",
      "0.8257684902177129\n",
      "0.7411986799557058\n",
      "6 1\n",
      "0.9416892544596489\n",
      "0.7160094557868852\n",
      "6 2\n",
      "0.926442269397139\n",
      "0.718490643077737\n",
      "6 3\n",
      "0.9187361012620088\n",
      "0.8664678873733683\n",
      "6 4\n",
      "0.91249897801646\n",
      "0.8468766058928396\n",
      "6 5\n",
      "0.8809140531645883\n",
      "0.7847733466702213\n",
      "6 6\n",
      "0.8672315380703943\n",
      "0.7844882498336115\n",
      "6 7\n",
      "0.8598830908134473\n",
      "0.7732744733471233\n",
      "6 8\n",
      "0.856943961793058\n",
      "0.7780257901553016\n",
      "6 9\n",
      "0.8530649340705516\n",
      "0.7705646165039055\n",
      "6 10\n",
      "0.8521190389094591\n",
      "0.7757176678925989\n",
      "6 11\n",
      "0.8351114738441514\n",
      "0.7510038901628734\n",
      "7 1\n",
      "0.9625182307864071\n",
      "0.7164654142009415\n",
      "7 2\n",
      "0.9442894290790642\n",
      "0.8660158864132048\n",
      "7 3\n",
      "0.9353702385699579\n",
      "0.8847578253578586\n",
      "7 4\n",
      "0.9262476395183441\n",
      "0.8562193037155563\n",
      "7 5\n",
      "0.8910644946227735\n",
      "0.7954674077016992\n",
      "7 6\n",
      "0.8766859955447028\n",
      "0.7941117969883807\n",
      "7 7\n",
      "0.8684218446380422\n",
      "0.783067340836966\n",
      "7 8\n",
      "0.8686834160219663\n",
      "0.7828927482888242\n",
      "7 9\n",
      "0.8648043882994599\n",
      "0.7754315746374281\n",
      "7 10\n",
      "0.8608704538954662\n",
      "0.7812474562261831\n",
      "7 11\n",
      "0.8421592093487759\n",
      "0.7560846579966896\n",
      "8 1\n",
      "0.9775648342004628\n",
      "0.7092935106779841\n",
      "8 2\n",
      "0.9563686879797412\n",
      "0.7306491418041832\n",
      "8 3\n",
      "0.9439058213533733\n",
      "0.8780674268043432\n",
      "8 4\n",
      "0.9335029092482743\n",
      "0.8451169579507329\n",
      "8 5\n",
      "0.896842800551345\n",
      "0.7925178567063104\n",
      "8 6\n",
      "0.8819375212478523\n",
      "0.7990442089185623\n",
      "8 7\n",
      "0.8723382250451386\n",
      "0.7867157637763631\n",
      "8 8\n",
      "0.8713089192377512\n",
      "0.7864922278662488\n",
      "8 9\n",
      "0.8663667487323352\n",
      "0.7769802581031233\n",
      "8 10\n",
      "0.8619834401898074\n",
      "0.784047966356166\n",
      "8 11\n",
      "0.8428752192383175\n",
      "0.7576682705661573\n",
      "9 1\n",
      "0.9869725918192362\n",
      "0.7090795309859068\n",
      "9 2\n",
      "0.964196632837903\n",
      "0.7290725938661488\n",
      "9 3\n",
      "0.9507059712492403\n",
      "0.8724933406640725\n",
      "9 4\n",
      "0.937055644454348\n",
      "0.837765334535315\n",
      "9 5\n",
      "0.8989961946555148\n",
      "0.7944591456335977\n",
      "9 6\n",
      "0.8857029555175883\n",
      "0.790753972598783\n",
      "9 7\n",
      "0.8755769799641483\n",
      "0.7826016343666871\n",
      "9 8\n",
      "0.8723198717849532\n",
      "0.7853339849369968\n",
      "9 9\n",
      "0.8673777012795372\n",
      "0.7758220151738714\n",
      "9 10\n",
      "0.8629943927370094\n",
      "0.782889723426914\n",
      "9 11\n",
      "0.8438861717855195\n",
      "0.7565100276369051\n",
      "10 1\n",
      "0.9936489412009597\n",
      "0.6875317413657688\n",
      "10 2\n",
      "0.9691704312264012\n",
      "0.7176812765243527\n",
      "10 3\n",
      "0.9536804004442949\n",
      "0.8594524161408104\n",
      "10 4\n",
      "0.9385226467898382\n",
      "0.8343728976707332\n",
      "10 5\n",
      "0.9017254632574068\n",
      "0.7962743498014493\n",
      "10 6\n",
      "0.888212582808532\n",
      "0.7924150217811509\n",
      "10 7\n",
      "0.8762632119994662\n",
      "0.7808418262285916\n",
      "10 8\n",
      "0.8729303746094454\n",
      "0.7829974996639725\n",
      "10 9\n",
      "0.8679882041040294\n",
      "0.7734855299008471\n",
      "10 10\n",
      "0.8636048955615017\n",
      "0.7805532381538896\n",
      "10 11\n",
      "0.8444966746100118\n",
      "0.7541735423638808\n",
      "11 1\n",
      "0.9967218958978314\n",
      "0.6673749190016355\n",
      "11 2\n",
      "0.971882145701336\n",
      "0.7155908271012816\n",
      "11 3\n",
      "0.9549708569249777\n",
      "0.8626010943895248\n",
      "11 4\n",
      "0.9394677970055287\n",
      "0.831001069946433\n",
      "11 5\n",
      "0.9030168065771333\n",
      "0.7967456856279261\n",
      "11 6\n",
      "0.888993935849377\n",
      "0.7932943166737754\n",
      "11 7\n",
      "0.8767329307459177\n",
      "0.7789599164537011\n",
      "11 8\n",
      "0.8732827068810558\n",
      "0.7812547665908791\n",
      "11 9\n",
      "0.8682839437774194\n",
      "0.7721619853916575\n",
      "11 10\n",
      "0.8638162813649215\n",
      "0.7791001720915263\n",
      "11 11\n",
      "0.8447080604134316\n",
      "0.7527204763015175\n"
     ]
    },
    {
     "data": {
      "application/javascript": [
       "\n",
       "            setTimeout(function() {\n",
       "                var nbb_cell_id = 22;\n",
       "                var nbb_unformatted_code = \"for i in range(1, 12):\\n    for j in range(1, 12):\\n        model = DecisionTreeRegressor(max_depth=i, min_samples_leaf=j, random_state=34)\\n        model.fit(X_train, y_train)\\n        print(i, j)\\n        print(model.score(X_train, y_train))\\n        print(model.score(X_test, y_test))\";\n",
       "                var nbb_formatted_code = \"for i in range(1, 12):\\n    for j in range(1, 12):\\n        model = DecisionTreeRegressor(max_depth=i, min_samples_leaf=j, random_state=34)\\n        model.fit(X_train, y_train)\\n        print(i, j)\\n        print(model.score(X_train, y_train))\\n        print(model.score(X_test, y_test))\";\n",
       "                var nbb_cells = Jupyter.notebook.get_cells();\n",
       "                for (var i = 0; i < nbb_cells.length; ++i) {\n",
       "                    if (nbb_cells[i].input_prompt_number == nbb_cell_id) {\n",
       "                        if (nbb_cells[i].get_text() == nbb_unformatted_code) {\n",
       "                             nbb_cells[i].set_text(nbb_formatted_code);\n",
       "                        }\n",
       "                        break;\n",
       "                    }\n",
       "                }\n",
       "            }, 500);\n",
       "            "
      ],
      "text/plain": [
       "<IPython.core.display.Javascript object>"
      ]
     },
     "metadata": {},
     "output_type": "display_data"
    }
   ],
   "source": [
    "for i in range(1, 12):\n",
    "    for j in range(1, 12):\n",
    "        model = DecisionTreeRegressor(max_depth=i, min_samples_leaf=j, random_state=34)\n",
    "        model.fit(X_train, y_train)\n",
    "        print(i, j)\n",
    "        print(model.score(X_train, y_train))\n",
    "        print(model.score(X_test, y_test))"
   ]
  }
 ],
 "metadata": {
  "kernelspec": {
   "display_name": "Python 3",
   "language": "python",
   "name": "python3"
  },
  "language_info": {
   "codemirror_mode": {
    "name": "ipython",
    "version": 3
   },
   "file_extension": ".py",
   "mimetype": "text/x-python",
   "name": "python",
   "nbconvert_exporter": "python",
   "pygments_lexer": "ipython3",
   "version": "3.7.6"
  }
 },
 "nbformat": 4,
 "nbformat_minor": 2
}
