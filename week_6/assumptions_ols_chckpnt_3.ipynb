{
 "cells": [
  {
   "cell_type": "code",
   "execution_count": 1,
   "metadata": {},
   "outputs": [
    {
     "data": {
      "application/javascript": [
       "\n",
       "            setTimeout(function() {\n",
       "                var nbb_cell_id = 1;\n",
       "                var nbb_unformatted_code = \"%reload_ext nb_black\";\n",
       "                var nbb_formatted_code = \"%reload_ext nb_black\";\n",
       "                var nbb_cells = Jupyter.notebook.get_cells();\n",
       "                for (var i = 0; i < nbb_cells.length; ++i) {\n",
       "                    if (nbb_cells[i].input_prompt_number == nbb_cell_id) {\n",
       "                        if (nbb_cells[i].get_text() == nbb_unformatted_code) {\n",
       "                             nbb_cells[i].set_text(nbb_formatted_code);\n",
       "                        }\n",
       "                        break;\n",
       "                    }\n",
       "                }\n",
       "            }, 500);\n",
       "            "
      ],
      "text/plain": [
       "<IPython.core.display.Javascript object>"
      ]
     },
     "metadata": {},
     "output_type": "display_data"
    }
   ],
   "source": [
    "%reload_ext nb_black"
   ]
  },
  {
   "cell_type": "code",
   "execution_count": 2,
   "metadata": {},
   "outputs": [
    {
     "data": {
      "application/javascript": [
       "\n",
       "            setTimeout(function() {\n",
       "                var nbb_cell_id = 2;\n",
       "                var nbb_unformatted_code = \"import pandas as pd\\nimport numpy as np\\nimport matplotlib.pyplot as plt\\nimport seaborn as sns\\nfrom scipy import stats\\nfrom sqlalchemy import create_engine\\nimport warnings\\n\\nfrom sklearn.linear_model import LinearRegression\\nfrom sklearn.model_selection import train_test_split\\nimport statsmodels.api as sm\\n\\nwarnings.filterwarnings(\\\"ignore\\\")\";\n",
       "                var nbb_formatted_code = \"import pandas as pd\\nimport numpy as np\\nimport matplotlib.pyplot as plt\\nimport seaborn as sns\\nfrom scipy import stats\\nfrom sqlalchemy import create_engine\\nimport warnings\\n\\nfrom sklearn.linear_model import LinearRegression\\nfrom sklearn.model_selection import train_test_split\\nimport statsmodels.api as sm\\n\\nwarnings.filterwarnings(\\\"ignore\\\")\";\n",
       "                var nbb_cells = Jupyter.notebook.get_cells();\n",
       "                for (var i = 0; i < nbb_cells.length; ++i) {\n",
       "                    if (nbb_cells[i].input_prompt_number == nbb_cell_id) {\n",
       "                        if (nbb_cells[i].get_text() == nbb_unformatted_code) {\n",
       "                             nbb_cells[i].set_text(nbb_formatted_code);\n",
       "                        }\n",
       "                        break;\n",
       "                    }\n",
       "                }\n",
       "            }, 500);\n",
       "            "
      ],
      "text/plain": [
       "<IPython.core.display.Javascript object>"
      ]
     },
     "metadata": {},
     "output_type": "display_data"
    }
   ],
   "source": [
    "import pandas as pd\n",
    "import numpy as np\n",
    "import matplotlib.pyplot as plt\n",
    "import seaborn as sns\n",
    "from scipy import stats\n",
    "from sqlalchemy import create_engine\n",
    "import warnings\n",
    "\n",
    "from sklearn.linear_model import LinearRegression\n",
    "from sklearn.model_selection import train_test_split\n",
    "import statsmodels.api as sm\n",
    "\n",
    "warnings.filterwarnings(\"ignore\")"
   ]
  },
  {
   "cell_type": "code",
   "execution_count": 3,
   "metadata": {},
   "outputs": [
    {
     "data": {
      "application/javascript": [
       "\n",
       "            setTimeout(function() {\n",
       "                var nbb_cell_id = 3;\n",
       "                var nbb_unformatted_code = \"postgres_user = \\\"dsbc_student\\\"\\npostgres_pw = \\\"7*.8G9QH21\\\"\\npostgres_host = \\\"142.93.121.174\\\"\\npostgres_port = \\\"5432\\\"\\npostgres_db = \\\"weatherinszeged\\\"\\ntable_name = \\\"weatherinszeged\\\"\\n\\nengine = create_engine(\\n    \\\"postgresql://{}:{}@{}:{}/{}\\\".format(\\n        postgres_user, postgres_pw, postgres_host, postgres_port, postgres_db\\n    )\\n)\\n\\ndf = pd.read_sql_query(\\\"select * from {}\\\".format(table_name), con=engine)\\n\\n# no need for an open connection,\\n# as we're only doing a single query\\nengine.dispose()\";\n",
       "                var nbb_formatted_code = \"postgres_user = \\\"dsbc_student\\\"\\npostgres_pw = \\\"7*.8G9QH21\\\"\\npostgres_host = \\\"142.93.121.174\\\"\\npostgres_port = \\\"5432\\\"\\npostgres_db = \\\"weatherinszeged\\\"\\ntable_name = \\\"weatherinszeged\\\"\\n\\nengine = create_engine(\\n    \\\"postgresql://{}:{}@{}:{}/{}\\\".format(\\n        postgres_user, postgres_pw, postgres_host, postgres_port, postgres_db\\n    )\\n)\\n\\ndf = pd.read_sql_query(\\\"select * from {}\\\".format(table_name), con=engine)\\n\\n# no need for an open connection,\\n# as we're only doing a single query\\nengine.dispose()\";\n",
       "                var nbb_cells = Jupyter.notebook.get_cells();\n",
       "                for (var i = 0; i < nbb_cells.length; ++i) {\n",
       "                    if (nbb_cells[i].input_prompt_number == nbb_cell_id) {\n",
       "                        if (nbb_cells[i].get_text() == nbb_unformatted_code) {\n",
       "                             nbb_cells[i].set_text(nbb_formatted_code);\n",
       "                        }\n",
       "                        break;\n",
       "                    }\n",
       "                }\n",
       "            }, 500);\n",
       "            "
      ],
      "text/plain": [
       "<IPython.core.display.Javascript object>"
      ]
     },
     "metadata": {},
     "output_type": "display_data"
    }
   ],
   "source": [
    "postgres_user = \"dsbc_student\"\n",
    "postgres_pw = \"7*.8G9QH21\"\n",
    "postgres_host = \"142.93.121.174\"\n",
    "postgres_port = \"5432\"\n",
    "postgres_db = \"weatherinszeged\"\n",
    "table_name = \"weatherinszeged\"\n",
    "\n",
    "engine = create_engine(\n",
    "    \"postgresql://{}:{}@{}:{}/{}\".format(\n",
    "        postgres_user, postgres_pw, postgres_host, postgres_port, postgres_db\n",
    "    )\n",
    ")\n",
    "\n",
    "df = pd.read_sql_query(\"select * from {}\".format(table_name), con=engine)\n",
    "\n",
    "# no need for an open connection,\n",
    "# as we're only doing a single query\n",
    "engine.dispose()"
   ]
  },
  {
   "cell_type": "code",
   "execution_count": 4,
   "metadata": {},
   "outputs": [
    {
     "data": {
      "text/html": [
       "<div>\n",
       "<style scoped>\n",
       "    .dataframe tbody tr th:only-of-type {\n",
       "        vertical-align: middle;\n",
       "    }\n",
       "\n",
       "    .dataframe tbody tr th {\n",
       "        vertical-align: top;\n",
       "    }\n",
       "\n",
       "    .dataframe thead th {\n",
       "        text-align: right;\n",
       "    }\n",
       "</style>\n",
       "<table border=\"1\" class=\"dataframe\">\n",
       "  <thead>\n",
       "    <tr style=\"text-align: right;\">\n",
       "      <th></th>\n",
       "      <th>date</th>\n",
       "      <th>summary</th>\n",
       "      <th>preciptype</th>\n",
       "      <th>temperature</th>\n",
       "      <th>apparenttemperature</th>\n",
       "      <th>humidity</th>\n",
       "      <th>windspeed</th>\n",
       "      <th>windbearing</th>\n",
       "      <th>visibility</th>\n",
       "      <th>loudcover</th>\n",
       "      <th>pressure</th>\n",
       "      <th>dailysummary</th>\n",
       "    </tr>\n",
       "  </thead>\n",
       "  <tbody>\n",
       "    <tr>\n",
       "      <th>0</th>\n",
       "      <td>2006-03-31 22:00:00+00:00</td>\n",
       "      <td>Partly Cloudy</td>\n",
       "      <td>rain</td>\n",
       "      <td>9.472222</td>\n",
       "      <td>7.388889</td>\n",
       "      <td>0.89</td>\n",
       "      <td>14.1197</td>\n",
       "      <td>251.0</td>\n",
       "      <td>15.8263</td>\n",
       "      <td>0.0</td>\n",
       "      <td>1015.13</td>\n",
       "      <td>Partly cloudy throughout the day.</td>\n",
       "    </tr>\n",
       "    <tr>\n",
       "      <th>1</th>\n",
       "      <td>2006-03-31 23:00:00+00:00</td>\n",
       "      <td>Partly Cloudy</td>\n",
       "      <td>rain</td>\n",
       "      <td>9.355556</td>\n",
       "      <td>7.227778</td>\n",
       "      <td>0.86</td>\n",
       "      <td>14.2646</td>\n",
       "      <td>259.0</td>\n",
       "      <td>15.8263</td>\n",
       "      <td>0.0</td>\n",
       "      <td>1015.63</td>\n",
       "      <td>Partly cloudy throughout the day.</td>\n",
       "    </tr>\n",
       "    <tr>\n",
       "      <th>2</th>\n",
       "      <td>2006-04-01 00:00:00+00:00</td>\n",
       "      <td>Mostly Cloudy</td>\n",
       "      <td>rain</td>\n",
       "      <td>9.377778</td>\n",
       "      <td>9.377778</td>\n",
       "      <td>0.89</td>\n",
       "      <td>3.9284</td>\n",
       "      <td>204.0</td>\n",
       "      <td>14.9569</td>\n",
       "      <td>0.0</td>\n",
       "      <td>1015.94</td>\n",
       "      <td>Partly cloudy throughout the day.</td>\n",
       "    </tr>\n",
       "    <tr>\n",
       "      <th>3</th>\n",
       "      <td>2006-04-01 01:00:00+00:00</td>\n",
       "      <td>Partly Cloudy</td>\n",
       "      <td>rain</td>\n",
       "      <td>8.288889</td>\n",
       "      <td>5.944444</td>\n",
       "      <td>0.83</td>\n",
       "      <td>14.1036</td>\n",
       "      <td>269.0</td>\n",
       "      <td>15.8263</td>\n",
       "      <td>0.0</td>\n",
       "      <td>1016.41</td>\n",
       "      <td>Partly cloudy throughout the day.</td>\n",
       "    </tr>\n",
       "    <tr>\n",
       "      <th>4</th>\n",
       "      <td>2006-04-01 02:00:00+00:00</td>\n",
       "      <td>Mostly Cloudy</td>\n",
       "      <td>rain</td>\n",
       "      <td>8.755556</td>\n",
       "      <td>6.977778</td>\n",
       "      <td>0.83</td>\n",
       "      <td>11.0446</td>\n",
       "      <td>259.0</td>\n",
       "      <td>15.8263</td>\n",
       "      <td>0.0</td>\n",
       "      <td>1016.51</td>\n",
       "      <td>Partly cloudy throughout the day.</td>\n",
       "    </tr>\n",
       "  </tbody>\n",
       "</table>\n",
       "</div>"
      ],
      "text/plain": [
       "                       date        summary preciptype  temperature  \\\n",
       "0 2006-03-31 22:00:00+00:00  Partly Cloudy       rain     9.472222   \n",
       "1 2006-03-31 23:00:00+00:00  Partly Cloudy       rain     9.355556   \n",
       "2 2006-04-01 00:00:00+00:00  Mostly Cloudy       rain     9.377778   \n",
       "3 2006-04-01 01:00:00+00:00  Partly Cloudy       rain     8.288889   \n",
       "4 2006-04-01 02:00:00+00:00  Mostly Cloudy       rain     8.755556   \n",
       "\n",
       "   apparenttemperature  humidity  windspeed  windbearing  visibility  \\\n",
       "0             7.388889      0.89    14.1197        251.0     15.8263   \n",
       "1             7.227778      0.86    14.2646        259.0     15.8263   \n",
       "2             9.377778      0.89     3.9284        204.0     14.9569   \n",
       "3             5.944444      0.83    14.1036        269.0     15.8263   \n",
       "4             6.977778      0.83    11.0446        259.0     15.8263   \n",
       "\n",
       "   loudcover  pressure                       dailysummary  \n",
       "0        0.0   1015.13  Partly cloudy throughout the day.  \n",
       "1        0.0   1015.63  Partly cloudy throughout the day.  \n",
       "2        0.0   1015.94  Partly cloudy throughout the day.  \n",
       "3        0.0   1016.41  Partly cloudy throughout the day.  \n",
       "4        0.0   1016.51  Partly cloudy throughout the day.  "
      ]
     },
     "execution_count": 4,
     "metadata": {},
     "output_type": "execute_result"
    },
    {
     "data": {
      "application/javascript": [
       "\n",
       "            setTimeout(function() {\n",
       "                var nbb_cell_id = 4;\n",
       "                var nbb_unformatted_code = \"df.head()\";\n",
       "                var nbb_formatted_code = \"df.head()\";\n",
       "                var nbb_cells = Jupyter.notebook.get_cells();\n",
       "                for (var i = 0; i < nbb_cells.length; ++i) {\n",
       "                    if (nbb_cells[i].input_prompt_number == nbb_cell_id) {\n",
       "                        if (nbb_cells[i].get_text() == nbb_unformatted_code) {\n",
       "                             nbb_cells[i].set_text(nbb_formatted_code);\n",
       "                        }\n",
       "                        break;\n",
       "                    }\n",
       "                }\n",
       "            }, 500);\n",
       "            "
      ],
      "text/plain": [
       "<IPython.core.display.Javascript object>"
      ]
     },
     "metadata": {},
     "output_type": "display_data"
    }
   ],
   "source": [
    "df.head()"
   ]
  },
  {
   "cell_type": "code",
   "execution_count": 5,
   "metadata": {},
   "outputs": [
    {
     "data": {
      "application/javascript": [
       "\n",
       "            setTimeout(function() {\n",
       "                var nbb_cell_id = 5;\n",
       "                var nbb_unformatted_code = \"X = df[[\\\"humidity\\\", \\\"windspeed\\\", \\\"windbearing\\\", \\\"pressure\\\"]]\\ny = df[\\\"temperature\\\"]\";\n",
       "                var nbb_formatted_code = \"X = df[[\\\"humidity\\\", \\\"windspeed\\\", \\\"windbearing\\\", \\\"pressure\\\"]]\\ny = df[\\\"temperature\\\"]\";\n",
       "                var nbb_cells = Jupyter.notebook.get_cells();\n",
       "                for (var i = 0; i < nbb_cells.length; ++i) {\n",
       "                    if (nbb_cells[i].input_prompt_number == nbb_cell_id) {\n",
       "                        if (nbb_cells[i].get_text() == nbb_unformatted_code) {\n",
       "                             nbb_cells[i].set_text(nbb_formatted_code);\n",
       "                        }\n",
       "                        break;\n",
       "                    }\n",
       "                }\n",
       "            }, 500);\n",
       "            "
      ],
      "text/plain": [
       "<IPython.core.display.Javascript object>"
      ]
     },
     "metadata": {},
     "output_type": "display_data"
    }
   ],
   "source": [
    "X = df[[\"humidity\", \"windspeed\", \"windbearing\", \"pressure\"]]\n",
    "y = df[\"temperature\"]"
   ]
  },
  {
   "cell_type": "code",
   "execution_count": 6,
   "metadata": {
    "scrolled": true
   },
   "outputs": [
    {
     "data": {
      "text/plain": [
       "LinearRegression(copy_X=True, fit_intercept=True, n_jobs=None, normalize=False)"
      ]
     },
     "execution_count": 6,
     "metadata": {},
     "output_type": "execute_result"
    },
    {
     "data": {
      "application/javascript": [
       "\n",
       "            setTimeout(function() {\n",
       "                var nbb_cell_id = 6;\n",
       "                var nbb_unformatted_code = \"model = LinearRegression()\\nmodel.fit(X,y)\";\n",
       "                var nbb_formatted_code = \"model = LinearRegression()\\nmodel.fit(X, y)\";\n",
       "                var nbb_cells = Jupyter.notebook.get_cells();\n",
       "                for (var i = 0; i < nbb_cells.length; ++i) {\n",
       "                    if (nbb_cells[i].input_prompt_number == nbb_cell_id) {\n",
       "                        if (nbb_cells[i].get_text() == nbb_unformatted_code) {\n",
       "                             nbb_cells[i].set_text(nbb_formatted_code);\n",
       "                        }\n",
       "                        break;\n",
       "                    }\n",
       "                }\n",
       "            }, 500);\n",
       "            "
      ],
      "text/plain": [
       "<IPython.core.display.Javascript object>"
      ]
     },
     "metadata": {},
     "output_type": "display_data"
    }
   ],
   "source": [
    "model = LinearRegression()\n",
    "model.fit(X,y)\n",
    "\n"
   ]
  },
  {
   "cell_type": "markdown",
   "metadata": {},
   "source": [
    "## Assumption one: Linearity of the model in its coefficients"
   ]
  },
  {
   "cell_type": "code",
   "execution_count": 7,
   "metadata": {
    "scrolled": false
   },
   "outputs": [
    {
     "data": {
      "text/plain": [
       "<matplotlib.collections.PathCollection at 0x21525096d48>"
      ]
     },
     "execution_count": 7,
     "metadata": {},
     "output_type": "execute_result"
    },
    {
     "data": {
      "image/png": "[encoded data removed]",
      "text/plain": [
       "<Figure size 432x288 with 1 Axes>"
      ]
     },
     "metadata": {
      "needs_background": "light"
     },
     "output_type": "display_data"
    },
    {
     "data": {
      "application/javascript": [
       "\n",
       "            setTimeout(function() {\n",
       "                var nbb_cell_id = 7;\n",
       "                var nbb_unformatted_code = \"y_pred = model.predict(X)\\nplt.scatter(y, y_pred)\";\n",
       "                var nbb_formatted_code = \"y_pred = model.predict(X)\\nplt.scatter(y, y_pred)\";\n",
       "                var nbb_cells = Jupyter.notebook.get_cells();\n",
       "                for (var i = 0; i < nbb_cells.length; ++i) {\n",
       "                    if (nbb_cells[i].input_prompt_number == nbb_cell_id) {\n",
       "                        if (nbb_cells[i].get_text() == nbb_unformatted_code) {\n",
       "                             nbb_cells[i].set_text(nbb_formatted_code);\n",
       "                        }\n",
       "                        break;\n",
       "                    }\n",
       "                }\n",
       "            }, 500);\n",
       "            "
      ],
      "text/plain": [
       "<IPython.core.display.Javascript object>"
      ]
     },
     "metadata": {},
     "output_type": "display_data"
    }
   ],
   "source": [
    "y_pred = model.predict(X)\n",
    "plt.scatter(y, y_pred)"
   ]
  },
  {
   "cell_type": "code",
   "execution_count": 8,
   "metadata": {},
   "outputs": [
    {
     "data": {
      "application/javascript": [
       "\n",
       "            setTimeout(function() {\n",
       "                var nbb_cell_id = 8;\n",
       "                var nbb_unformatted_code = \"# not entirely sure the best way to check this.\";\n",
       "                var nbb_formatted_code = \"# not entirely sure the best way to check this.\";\n",
       "                var nbb_cells = Jupyter.notebook.get_cells();\n",
       "                for (var i = 0; i < nbb_cells.length; ++i) {\n",
       "                    if (nbb_cells[i].input_prompt_number == nbb_cell_id) {\n",
       "                        if (nbb_cells[i].get_text() == nbb_unformatted_code) {\n",
       "                             nbb_cells[i].set_text(nbb_formatted_code);\n",
       "                        }\n",
       "                        break;\n",
       "                    }\n",
       "                }\n",
       "            }, 500);\n",
       "            "
      ],
      "text/plain": [
       "<IPython.core.display.Javascript object>"
      ]
     },
     "metadata": {},
     "output_type": "display_data"
    }
   ],
   "source": [
    "# not entirely sure the best way to check this."
   ]
  },
  {
   "cell_type": "markdown",
   "metadata": {},
   "source": [
    "## Assumption two: the error term should be zero on average"
   ]
  },
  {
   "cell_type": "code",
   "execution_count": 9,
   "metadata": {
    "scrolled": true
   },
   "outputs": [
    {
     "data": {
      "text/plain": [
       "-3.568957307638909e-15"
      ]
     },
     "execution_count": 9,
     "metadata": {},
     "output_type": "execute_result"
    },
    {
     "data": {
      "application/javascript": [
       "\n",
       "            setTimeout(function() {\n",
       "                var nbb_cell_id = 9;\n",
       "                var nbb_unformatted_code = \"errors = y - y_pred\\nerrors.mean()\\n#yup\";\n",
       "                var nbb_formatted_code = \"errors = y - y_pred\\nerrors.mean()\\n# yup\";\n",
       "                var nbb_cells = Jupyter.notebook.get_cells();\n",
       "                for (var i = 0; i < nbb_cells.length; ++i) {\n",
       "                    if (nbb_cells[i].input_prompt_number == nbb_cell_id) {\n",
       "                        if (nbb_cells[i].get_text() == nbb_unformatted_code) {\n",
       "                             nbb_cells[i].set_text(nbb_formatted_code);\n",
       "                        }\n",
       "                        break;\n",
       "                    }\n",
       "                }\n",
       "            }, 500);\n",
       "            "
      ],
      "text/plain": [
       "<IPython.core.display.Javascript object>"
      ]
     },
     "metadata": {},
     "output_type": "display_data"
    }
   ],
   "source": [
    "errors = y - y_pred\n",
    "errors.mean()\n",
    "# yup"
   ]
  },
  {
   "cell_type": "markdown",
   "metadata": {},
   "source": [
    "## Assumption three: homoscedasticity"
   ]
  },
  {
   "cell_type": "code",
   "execution_count": 10,
   "metadata": {
    "scrolled": true
   },
   "outputs": [
    {
     "name": "stdout",
     "output_type": "stream",
     "text": [
      "Bartlett test statistic value is 2464.84 and p value is 0\n",
      "Levene test statistic value is 2321.24 and p value is 0\n"
     ]
    },
    {
     "data": {
      "application/javascript": [
       "\n",
       "            setTimeout(function() {\n",
       "                var nbb_cell_id = 10;\n",
       "                var nbb_unformatted_code = \"from scipy.stats import bartlett\\nfrom scipy.stats import levene\\n\\nbart_stats = bartlett(y_pred, errors)\\nlev_stats = levene(y_pred, errors)\\n\\nprint(\\n    \\\"Bartlett test statistic value is {0:3g} and p value is {1:.3g}\\\".format(\\n        bart_stats[0], bart_stats[1]\\n    )\\n)\\nprint(\\n    \\\"Levene test statistic value is {0:3g} and p value is {1:.3g}\\\".format(\\n        lev_stats[0], lev_stats[1]\\n    )\\n)\";\n",
       "                var nbb_formatted_code = \"from scipy.stats import bartlett\\nfrom scipy.stats import levene\\n\\nbart_stats = bartlett(y_pred, errors)\\nlev_stats = levene(y_pred, errors)\\n\\nprint(\\n    \\\"Bartlett test statistic value is {0:3g} and p value is {1:.3g}\\\".format(\\n        bart_stats[0], bart_stats[1]\\n    )\\n)\\nprint(\\n    \\\"Levene test statistic value is {0:3g} and p value is {1:.3g}\\\".format(\\n        lev_stats[0], lev_stats[1]\\n    )\\n)\";\n",
       "                var nbb_cells = Jupyter.notebook.get_cells();\n",
       "                for (var i = 0; i < nbb_cells.length; ++i) {\n",
       "                    if (nbb_cells[i].input_prompt_number == nbb_cell_id) {\n",
       "                        if (nbb_cells[i].get_text() == nbb_unformatted_code) {\n",
       "                             nbb_cells[i].set_text(nbb_formatted_code);\n",
       "                        }\n",
       "                        break;\n",
       "                    }\n",
       "                }\n",
       "            }, 500);\n",
       "            "
      ],
      "text/plain": [
       "<IPython.core.display.Javascript object>"
      ]
     },
     "metadata": {},
     "output_type": "display_data"
    }
   ],
   "source": [
    "from scipy.stats import bartlett\n",
    "from scipy.stats import levene\n",
    "\n",
    "bart_stats = bartlett(y_pred, errors)\n",
    "lev_stats = levene(y_pred, errors)\n",
    "\n",
    "print(\n",
    "    \"Bartlett test statistic value is {0:3g} and p value is {1:.3g}\".format(\n",
    "        bart_stats[0], bart_stats[1]\n",
    "    )\n",
    ")\n",
    "print(\n",
    "    \"Levene test statistic value is {0:3g} and p value is {1:.3g}\".format(\n",
    "        lev_stats[0], lev_stats[1]\n",
    "    )\n",
    ")"
   ]
  },
  {
   "cell_type": "markdown",
   "metadata": {},
   "source": [
    "We reject the null so our errors are heteroskedastic"
   ]
  },
  {
   "cell_type": "markdown",
   "metadata": {},
   "source": [
    "## Assumption four: low multicollinearity"
   ]
  },
  {
   "cell_type": "code",
   "execution_count": 11,
   "metadata": {
    "scrolled": true
   },
   "outputs": [
    {
     "data": {
      "text/html": [
       "<table class=\"simpletable\">\n",
       "<caption>OLS Regression Results</caption>\n",
       "<tr>\n",
       "  <th>Dep. Variable:</th>       <td>temperature</td>   <th>  R-squared:         </th>  <td>   0.421</td>  \n",
       "</tr>\n",
       "<tr>\n",
       "  <th>Model:</th>                   <td>OLS</td>       <th>  Adj. R-squared:    </th>  <td>   0.421</td>  \n",
       "</tr>\n",
       "<tr>\n",
       "  <th>Method:</th>             <td>Least Squares</td>  <th>  F-statistic:       </th>  <td>1.750e+04</td> \n",
       "</tr>\n",
       "<tr>\n",
       "  <th>Date:</th>             <td>Mon, 31 Aug 2020</td> <th>  Prob (F-statistic):</th>   <td>  0.00</td>   \n",
       "</tr>\n",
       "<tr>\n",
       "  <th>Time:</th>                 <td>15:52:13</td>     <th>  Log-Likelihood:    </th> <td>-3.2821e+05</td>\n",
       "</tr>\n",
       "<tr>\n",
       "  <th>No. Observations:</th>      <td> 96453</td>      <th>  AIC:               </th>  <td>6.564e+05</td> \n",
       "</tr>\n",
       "<tr>\n",
       "  <th>Df Residuals:</th>          <td> 96448</td>      <th>  BIC:               </th>  <td>6.565e+05</td> \n",
       "</tr>\n",
       "<tr>\n",
       "  <th>Df Model:</th>              <td>     4</td>      <th>                     </th>      <td> </td>     \n",
       "</tr>\n",
       "<tr>\n",
       "  <th>Covariance Type:</th>      <td>nonrobust</td>    <th>                     </th>      <td> </td>     \n",
       "</tr>\n",
       "</table>\n",
       "<table class=\"simpletable\">\n",
       "<tr>\n",
       "       <td></td>          <th>coef</th>     <th>std err</th>      <th>t</th>      <th>P>|t|</th>  <th>[0.025</th>    <th>0.975]</th>  \n",
       "</tr>\n",
       "<tr>\n",
       "  <th>const</th>       <td>   37.9264</td> <td>    0.233</td> <td>  162.709</td> <td> 0.000</td> <td>   37.470</td> <td>   38.383</td>\n",
       "</tr>\n",
       "<tr>\n",
       "  <th>humidity</th>    <td>  -32.4962</td> <td>    0.123</td> <td> -264.288</td> <td> 0.000</td> <td>  -32.737</td> <td>  -32.255</td>\n",
       "</tr>\n",
       "<tr>\n",
       "  <th>windspeed</th>   <td>   -0.2014</td> <td>    0.003</td> <td>  -57.557</td> <td> 0.000</td> <td>   -0.208</td> <td>   -0.195</td>\n",
       "</tr>\n",
       "<tr>\n",
       "  <th>windbearing</th> <td>    0.0040</td> <td>    0.000</td> <td>   18.463</td> <td> 0.000</td> <td>    0.004</td> <td>    0.004</td>\n",
       "</tr>\n",
       "<tr>\n",
       "  <th>pressure</th>    <td>   -0.0007</td> <td>    0.000</td> <td>   -3.452</td> <td> 0.001</td> <td>   -0.001</td> <td>   -0.000</td>\n",
       "</tr>\n",
       "</table>\n",
       "<table class=\"simpletable\">\n",
       "<tr>\n",
       "  <th>Omnibus:</th>       <td>3375.432</td> <th>  Durbin-Watson:     </th> <td>   0.059</td>\n",
       "</tr>\n",
       "<tr>\n",
       "  <th>Prob(Omnibus):</th>  <td> 0.000</td>  <th>  Jarque-Bera (JB):  </th> <td>3793.297</td>\n",
       "</tr>\n",
       "<tr>\n",
       "  <th>Skew:</th>           <td>-0.455</td>  <th>  Prob(JB):          </th> <td>    0.00</td>\n",
       "</tr>\n",
       "<tr>\n",
       "  <th>Kurtosis:</th>       <td> 3.339</td>  <th>  Cond. No.          </th> <td>1.06e+04</td>\n",
       "</tr>\n",
       "</table><br/><br/>Warnings:<br/>[1] Standard Errors assume that the covariance matrix of the errors is correctly specified.<br/>[2] The condition number is large, 1.06e+04. This might indicate that there are<br/>strong multicollinearity or other numerical problems."
      ],
      "text/plain": [
       "<class 'statsmodels.iolib.summary.Summary'>\n",
       "\"\"\"\n",
       "                            OLS Regression Results                            \n",
       "==============================================================================\n",
       "Dep. Variable:            temperature   R-squared:                       0.421\n",
       "Model:                            OLS   Adj. R-squared:                  0.421\n",
       "Method:                 Least Squares   F-statistic:                 1.750e+04\n",
       "Date:                Mon, 31 Aug 2020   Prob (F-statistic):               0.00\n",
       "Time:                        15:52:13   Log-Likelihood:            -3.2821e+05\n",
       "No. Observations:               96453   AIC:                         6.564e+05\n",
       "Df Residuals:                   96448   BIC:                         6.565e+05\n",
       "Df Model:                           4                                         \n",
       "Covariance Type:            nonrobust                                         \n",
       "===============================================================================\n",
       "                  coef    std err          t      P>|t|      [0.025      0.975]\n",
       "-------------------------------------------------------------------------------\n",
       "const          37.9264      0.233    162.709      0.000      37.470      38.383\n",
       "humidity      -32.4962      0.123   -264.288      0.000     -32.737     -32.255\n",
       "windspeed      -0.2014      0.003    -57.557      0.000      -0.208      -0.195\n",
       "windbearing     0.0040      0.000     18.463      0.000       0.004       0.004\n",
       "pressure       -0.0007      0.000     -3.452      0.001      -0.001      -0.000\n",
       "==============================================================================\n",
       "Omnibus:                     3375.432   Durbin-Watson:                   0.059\n",
       "Prob(Omnibus):                  0.000   Jarque-Bera (JB):             3793.297\n",
       "Skew:                          -0.455   Prob(JB):                         0.00\n",
       "Kurtosis:                       3.339   Cond. No.                     1.06e+04\n",
       "==============================================================================\n",
       "\n",
       "Warnings:\n",
       "[1] Standard Errors assume that the covariance matrix of the errors is correctly specified.\n",
       "[2] The condition number is large, 1.06e+04. This might indicate that there are\n",
       "strong multicollinearity or other numerical problems.\n",
       "\"\"\""
      ]
     },
     "execution_count": 11,
     "metadata": {},
     "output_type": "execute_result"
    },
    {
     "data": {
      "application/javascript": [
       "\n",
       "            setTimeout(function() {\n",
       "                var nbb_cell_id = 11;\n",
       "                var nbb_unformatted_code = \"X_const = sm.add_constant(X)\\n\\nresults = sm.OLS(y, X_const).fit()\\n\\nresults.summary()\";\n",
       "                var nbb_formatted_code = \"X_const = sm.add_constant(X)\\n\\nresults = sm.OLS(y, X_const).fit()\\n\\nresults.summary()\";\n",
       "                var nbb_cells = Jupyter.notebook.get_cells();\n",
       "                for (var i = 0; i < nbb_cells.length; ++i) {\n",
       "                    if (nbb_cells[i].input_prompt_number == nbb_cell_id) {\n",
       "                        if (nbb_cells[i].get_text() == nbb_unformatted_code) {\n",
       "                             nbb_cells[i].set_text(nbb_formatted_code);\n",
       "                        }\n",
       "                        break;\n",
       "                    }\n",
       "                }\n",
       "            }, 500);\n",
       "            "
      ],
      "text/plain": [
       "<IPython.core.display.Javascript object>"
      ]
     },
     "metadata": {},
     "output_type": "display_data"
    }
   ],
   "source": [
    "X_const = sm.add_constant(X)\n",
    "\n",
    "results = sm.OLS(y, X_const).fit()\n",
    "\n",
    "results.summary()"
   ]
  },
  {
   "cell_type": "code",
   "execution_count": 19,
   "metadata": {},
   "outputs": [
    {
     "data": {
      "text/plain": [
       "<matplotlib.axes._subplots.AxesSubplot at 0x21525217048>"
      ]
     },
     "execution_count": 19,
     "metadata": {},
     "output_type": "execute_result"
    },
    {
     "data": {
      "image/png": "[encoded data removed]",
      "text/plain": [
       "<Figure size 432x288 with 2 Axes>"
      ]
     },
     "metadata": {
      "needs_background": "light"
     },
     "output_type": "display_data"
    },
    {
     "data": {
      "application/javascript": [
       "\n",
       "            setTimeout(function() {\n",
       "                var nbb_cell_id = 19;\n",
       "                var nbb_unformatted_code = \"sns.heatmap(X.corr(), vmin=-1, vmax=1, annot=True)\";\n",
       "                var nbb_formatted_code = \"sns.heatmap(X.corr(), vmin=-1, vmax=1, annot=True)\";\n",
       "                var nbb_cells = Jupyter.notebook.get_cells();\n",
       "                for (var i = 0; i < nbb_cells.length; ++i) {\n",
       "                    if (nbb_cells[i].input_prompt_number == nbb_cell_id) {\n",
       "                        if (nbb_cells[i].get_text() == nbb_unformatted_code) {\n",
       "                             nbb_cells[i].set_text(nbb_formatted_code);\n",
       "                        }\n",
       "                        break;\n",
       "                    }\n",
       "                }\n",
       "            }, 500);\n",
       "            "
      ],
      "text/plain": [
       "<IPython.core.display.Javascript object>"
      ]
     },
     "metadata": {},
     "output_type": "display_data"
    }
   ],
   "source": [
    "sns.heatmap(X.corr(), vmin=-1, vmax=1, annot=True)\n",
    "#none of the features are highly correlated."
   ]
  },
  {
   "cell_type": "markdown",
   "metadata": {},
   "source": [
    "## Assumption five: error terms should be uncorrelated with one another"
   ]
  },
  {
   "cell_type": "code",
   "execution_count": 12,
   "metadata": {
    "scrolled": false
   },
   "outputs": [
    {
     "data": {
      "text/plain": [
       "[<matplotlib.lines.Line2D at 0x21524c77bc8>]"
      ]
     },
     "execution_count": 12,
     "metadata": {},
     "output_type": "execute_result"
    },
    {
     "data": {
      "image/png": "[encoded data removed]",
      "text/plain": [
       "<Figure size 432x288 with 1 Axes>"
      ]
     },
     "metadata": {
      "needs_background": "light"
     },
     "output_type": "display_data"
    },
    {
     "data": {
      "application/javascript": [
       "\n",
       "            setTimeout(function() {\n",
       "                var nbb_cell_id = 12;\n",
       "                var nbb_unformatted_code = \"plt.plot(errors)\";\n",
       "                var nbb_formatted_code = \"plt.plot(errors)\";\n",
       "                var nbb_cells = Jupyter.notebook.get_cells();\n",
       "                for (var i = 0; i < nbb_cells.length; ++i) {\n",
       "                    if (nbb_cells[i].input_prompt_number == nbb_cell_id) {\n",
       "                        if (nbb_cells[i].get_text() == nbb_unformatted_code) {\n",
       "                             nbb_cells[i].set_text(nbb_formatted_code);\n",
       "                        }\n",
       "                        break;\n",
       "                    }\n",
       "                }\n",
       "            }, 500);\n",
       "            "
      ],
      "text/plain": [
       "<IPython.core.display.Javascript object>"
      ]
     },
     "metadata": {},
     "output_type": "display_data"
    }
   ],
   "source": [
    "plt.plot(errors)\n",
    "#they appear to be uncorrelated"
   ]
  },
  {
   "cell_type": "code",
   "execution_count": 13,
   "metadata": {
    "scrolled": true
   },
   "outputs": [
    {
     "data": {
      "image/png": "[encoded data removed]",
      "text/plain": [
       "<Figure size 432x288 with 1 Axes>"
      ]
     },
     "metadata": {
      "needs_background": "light"
     },
     "output_type": "display_data"
    },
    {
     "data": {
      "application/javascript": [
       "\n",
       "            setTimeout(function() {\n",
       "                var nbb_cell_id = 13;\n",
       "                var nbb_unformatted_code = \"from statsmodels.tsa.stattools import acf\\n\\nacf_data = acf(errors)\\n\\nplt.plot(acf_data[1:])\\nplt.show()\";\n",
       "                var nbb_formatted_code = \"from statsmodels.tsa.stattools import acf\\n\\nacf_data = acf(errors)\\n\\nplt.plot(acf_data[1:])\\nplt.show()\";\n",
       "                var nbb_cells = Jupyter.notebook.get_cells();\n",
       "                for (var i = 0; i < nbb_cells.length; ++i) {\n",
       "                    if (nbb_cells[i].input_prompt_number == nbb_cell_id) {\n",
       "                        if (nbb_cells[i].get_text() == nbb_unformatted_code) {\n",
       "                             nbb_cells[i].set_text(nbb_formatted_code);\n",
       "                        }\n",
       "                        break;\n",
       "                    }\n",
       "                }\n",
       "            }, 500);\n",
       "            "
      ],
      "text/plain": [
       "<IPython.core.display.Javascript object>"
      ]
     },
     "metadata": {},
     "output_type": "display_data"
    }
   ],
   "source": [
    "from statsmodels.tsa.stattools import acf\n",
    "\n",
    "acf_data = acf(errors)\n",
    "\n",
    "plt.plot(acf_data[1:])\n",
    "plt.show()\n",
    "#nevermind, acf says our correlation is very high for the errors"
   ]
  },
  {
   "cell_type": "markdown",
   "metadata": {},
   "source": [
    "## Assumption six: features shouldn't be correlated with the errors"
   ]
  },
  {
   "cell_type": "code",
   "execution_count": 25,
   "metadata": {},
   "outputs": [
    {
     "data": {
      "text/plain": [
       "<matplotlib.axes._subplots.AxesSubplot at 0x21528b81408>"
      ]
     },
     "execution_count": 25,
     "metadata": {},
     "output_type": "execute_result"
    },
    {
     "data": {
      "image/png": "[encoded data removed]",
      "text/plain": [
       "<Figure size 432x288 with 2 Axes>"
      ]
     },
     "metadata": {
      "needs_background": "light"
     },
     "output_type": "display_data"
    },
    {
     "data": {
      "application/javascript": [
       "\n",
       "            setTimeout(function() {\n",
       "                var nbb_cell_id = 25;\n",
       "                var nbb_unformatted_code = \"errors_df = pd.concat([X, pd.DataFrame(errors)], axis=1)\\nsns.heatmap(errors_df.corr(),vmin=-1, vmax=1, annot=True)\";\n",
       "                var nbb_formatted_code = \"errors_df = pd.concat([X, pd.DataFrame(errors)], axis=1)\\nsns.heatmap(errors_df.corr(), vmin=-1, vmax=1, annot=True)\";\n",
       "                var nbb_cells = Jupyter.notebook.get_cells();\n",
       "                for (var i = 0; i < nbb_cells.length; ++i) {\n",
       "                    if (nbb_cells[i].input_prompt_number == nbb_cell_id) {\n",
       "                        if (nbb_cells[i].get_text() == nbb_unformatted_code) {\n",
       "                             nbb_cells[i].set_text(nbb_formatted_code);\n",
       "                        }\n",
       "                        break;\n",
       "                    }\n",
       "                }\n",
       "            }, 500);\n",
       "            "
      ],
      "text/plain": [
       "<IPython.core.display.Javascript object>"
      ]
     },
     "metadata": {},
     "output_type": "display_data"
    }
   ],
   "source": [
    "errors_df = pd.concat([X, pd.DataFrame(errors)], axis=1)\n",
    "sns.heatmap(errors_df.corr(), vmin=-1, vmax=1, annot=True)\n",
    "#there doesn't seem to be high correlation of errors with features"
   ]
  },
  {
   "cell_type": "markdown",
   "metadata": {},
   "source": [
    "## Discussion\n",
    "\n",
    "The data is not homoskedastic which means it will be overconfident in its predictions. We may need to use more data or deal with outliers (transforms)\n",
    "\n",
    "Error terms are correlated which, again shows that we may be ommitting an important feature.\n",
    "\n",
    "Sounds like the best course of action is to decide which features to add into the model."
   ]
  },
  {
   "cell_type": "markdown",
   "metadata": {},
   "source": [
    "# Part 2: houseprices"
   ]
  },
  {
   "cell_type": "code",
   "execution_count": 27,
   "metadata": {},
   "outputs": [
    {
     "data": {
      "application/javascript": [
       "\n",
       "            setTimeout(function() {\n",
       "                var nbb_cell_id = 27;\n",
       "                var nbb_unformatted_code = \"postgres_user = \\\"dsbc_student\\\"\\npostgres_pw = \\\"7*.8G9QH21\\\"\\npostgres_host = \\\"142.93.121.174\\\"\\npostgres_port = \\\"5432\\\"\\npostgres_db = \\\"houseprices\\\"\\ntable_name = \\\"houseprices\\\"\\n\\nengine = create_engine(\\n    \\\"postgresql://{}:{}@{}:{}/{}\\\".format(\\n        postgres_user, postgres_pw, postgres_host, postgres_port, postgres_db\\n    )\\n)\\n\\ndf = pd.read_sql_query(\\\"select * from {}\\\".format(table_name), con=engine)\\n\\n# no need for an open connection,\\n# as we're only doing a single query\\nengine.dispose()\";\n",
       "                var nbb_formatted_code = \"postgres_user = \\\"dsbc_student\\\"\\npostgres_pw = \\\"7*.8G9QH21\\\"\\npostgres_host = \\\"142.93.121.174\\\"\\npostgres_port = \\\"5432\\\"\\npostgres_db = \\\"houseprices\\\"\\ntable_name = \\\"houseprices\\\"\\n\\nengine = create_engine(\\n    \\\"postgresql://{}:{}@{}:{}/{}\\\".format(\\n        postgres_user, postgres_pw, postgres_host, postgres_port, postgres_db\\n    )\\n)\\n\\ndf = pd.read_sql_query(\\\"select * from {}\\\".format(table_name), con=engine)\\n\\n# no need for an open connection,\\n# as we're only doing a single query\\nengine.dispose()\";\n",
       "                var nbb_cells = Jupyter.notebook.get_cells();\n",
       "                for (var i = 0; i < nbb_cells.length; ++i) {\n",
       "                    if (nbb_cells[i].input_prompt_number == nbb_cell_id) {\n",
       "                        if (nbb_cells[i].get_text() == nbb_unformatted_code) {\n",
       "                             nbb_cells[i].set_text(nbb_formatted_code);\n",
       "                        }\n",
       "                        break;\n",
       "                    }\n",
       "                }\n",
       "            }, 500);\n",
       "            "
      ],
      "text/plain": [
       "<IPython.core.display.Javascript object>"
      ]
     },
     "metadata": {},
     "output_type": "display_data"
    }
   ],
   "source": [
    "postgres_user = \"dsbc_student\"\n",
    "postgres_pw = \"7*.8G9QH21\"\n",
    "postgres_host = \"142.93.121.174\"\n",
    "postgres_port = \"5432\"\n",
    "postgres_db = \"houseprices\"\n",
    "table_name = \"houseprices\"\n",
    "\n",
    "engine = create_engine(\n",
    "    \"postgresql://{}:{}@{}:{}/{}\".format(\n",
    "        postgres_user, postgres_pw, postgres_host, postgres_port, postgres_db\n",
    "    )\n",
    ")\n",
    "\n",
    "df = pd.read_sql_query(\"select * from {}\".format(table_name), con=engine)\n",
    "\n",
    "# no need for an open connection,\n",
    "# as we're only doing a single query\n",
    "engine.dispose()"
   ]
  },
  {
   "cell_type": "code",
   "execution_count": 28,
   "metadata": {},
   "outputs": [
    {
     "data": {
      "application/javascript": [
       "\n",
       "            setTimeout(function() {\n",
       "                var nbb_cell_id = 28;\n",
       "                var nbb_unformatted_code = \"df = df.drop(columns=[\\\"poolqc\\\", \\\"miscfeature\\\", \\\"alley\\\", \\\"fence\\\"])\\ndf[\\\"fireplacequ\\\"] = df[\\\"fireplacequ\\\"].fillna(\\\"None\\\")\\ndf[\\\"lotfrontage\\\"] = df[\\\"lotfrontage\\\"].fillna(df[\\\"lotfrontage\\\"].median())\\ndf = df.drop(columns=[\\\"garagecars\\\", \\\"garagequal\\\", \\\"garagecond\\\"])\\ndf[\\\"garageyrblt\\\"] = df[\\\"garageyrblt\\\"].fillna(df[\\\"garageyrblt\\\"].median())\\ndf[\\\"garagefinish\\\"] = df[\\\"garagefinish\\\"].fillna(\\\"None\\\")\\ndf[\\\"garagetype\\\"] = df[\\\"garagetype\\\"].fillna(\\\"None\\\")\\nbsmt_cols = [\\\"bsmtfintype2\\\", \\\"bsmtexposure\\\", \\\"bsmtfintype1\\\", \\\"bsmtcond\\\", \\\"bsmtqual\\\"]\\nfor col in bsmt_cols:\\n    df[col] = df[col].fillna(\\\"None\\\")\\ndf[\\\"masvnrarea\\\"] = df[\\\"masvnrarea\\\"].fillna(0.0)\\ndf[\\\"masvnrtype\\\"] = df[\\\"masvnrtype\\\"].fillna(\\\"None\\\")\\ndf = df.dropna()\\ndf = df.drop(columns=[\\\"lotconfig\\\", \\\"utilities\\\"])\\n\\ndummy_df = df.copy()\\nfor col in df.columns:\\n    if df[col].dtype == \\\"object\\\":\\n        dummy_df = pd.concat(\\n            [dummy_df, pd.get_dummies(df[col], drop_first=True)], axis=1\\n        )\\n        dummy_df = dummy_df.drop(columns=col)\";\n",
       "                var nbb_formatted_code = \"df = df.drop(columns=[\\\"poolqc\\\", \\\"miscfeature\\\", \\\"alley\\\", \\\"fence\\\"])\\ndf[\\\"fireplacequ\\\"] = df[\\\"fireplacequ\\\"].fillna(\\\"None\\\")\\ndf[\\\"lotfrontage\\\"] = df[\\\"lotfrontage\\\"].fillna(df[\\\"lotfrontage\\\"].median())\\ndf = df.drop(columns=[\\\"garagecars\\\", \\\"garagequal\\\", \\\"garagecond\\\"])\\ndf[\\\"garageyrblt\\\"] = df[\\\"garageyrblt\\\"].fillna(df[\\\"garageyrblt\\\"].median())\\ndf[\\\"garagefinish\\\"] = df[\\\"garagefinish\\\"].fillna(\\\"None\\\")\\ndf[\\\"garagetype\\\"] = df[\\\"garagetype\\\"].fillna(\\\"None\\\")\\nbsmt_cols = [\\\"bsmtfintype2\\\", \\\"bsmtexposure\\\", \\\"bsmtfintype1\\\", \\\"bsmtcond\\\", \\\"bsmtqual\\\"]\\nfor col in bsmt_cols:\\n    df[col] = df[col].fillna(\\\"None\\\")\\ndf[\\\"masvnrarea\\\"] = df[\\\"masvnrarea\\\"].fillna(0.0)\\ndf[\\\"masvnrtype\\\"] = df[\\\"masvnrtype\\\"].fillna(\\\"None\\\")\\ndf = df.dropna()\\ndf = df.drop(columns=[\\\"lotconfig\\\", \\\"utilities\\\"])\\n\\ndummy_df = df.copy()\\nfor col in df.columns:\\n    if df[col].dtype == \\\"object\\\":\\n        dummy_df = pd.concat(\\n            [dummy_df, pd.get_dummies(df[col], drop_first=True)], axis=1\\n        )\\n        dummy_df = dummy_df.drop(columns=col)\";\n",
       "                var nbb_cells = Jupyter.notebook.get_cells();\n",
       "                for (var i = 0; i < nbb_cells.length; ++i) {\n",
       "                    if (nbb_cells[i].input_prompt_number == nbb_cell_id) {\n",
       "                        if (nbb_cells[i].get_text() == nbb_unformatted_code) {\n",
       "                             nbb_cells[i].set_text(nbb_formatted_code);\n",
       "                        }\n",
       "                        break;\n",
       "                    }\n",
       "                }\n",
       "            }, 500);\n",
       "            "
      ],
      "text/plain": [
       "<IPython.core.display.Javascript object>"
      ]
     },
     "metadata": {},
     "output_type": "display_data"
    }
   ],
   "source": [
    "df = df.drop(columns=[\"poolqc\", \"miscfeature\", \"alley\", \"fence\"])\n",
    "df[\"fireplacequ\"] = df[\"fireplacequ\"].fillna(\"None\")\n",
    "df[\"lotfrontage\"] = df[\"lotfrontage\"].fillna(df[\"lotfrontage\"].median())\n",
    "df = df.drop(columns=[\"garagecars\", \"garagequal\", \"garagecond\"])\n",
    "df[\"garageyrblt\"] = df[\"garageyrblt\"].fillna(df[\"garageyrblt\"].median())\n",
    "df[\"garagefinish\"] = df[\"garagefinish\"].fillna(\"None\")\n",
    "df[\"garagetype\"] = df[\"garagetype\"].fillna(\"None\")\n",
    "bsmt_cols = [\"bsmtfintype2\", \"bsmtexposure\", \"bsmtfintype1\", \"bsmtcond\", \"bsmtqual\"]\n",
    "for col in bsmt_cols:\n",
    "    df[col] = df[col].fillna(\"None\")\n",
    "df[\"masvnrarea\"] = df[\"masvnrarea\"].fillna(0.0)\n",
    "df[\"masvnrtype\"] = df[\"masvnrtype\"].fillna(\"None\")\n",
    "df = df.dropna()\n",
    "df = df.drop(columns=[\"lotconfig\", \"utilities\"])\n",
    "\n",
    "dummy_df = df.copy()\n",
    "for col in df.columns:\n",
    "    if df[col].dtype == \"object\":\n",
    "        dummy_df = pd.concat(\n",
    "            [dummy_df, pd.get_dummies(df[col], drop_first=True)], axis=1\n",
    "        )\n",
    "        dummy_df = dummy_df.drop(columns=col)"
   ]
  },
  {
   "cell_type": "code",
   "execution_count": 29,
   "metadata": {},
   "outputs": [
    {
     "data": {
      "application/javascript": [
       "\n",
       "            setTimeout(function() {\n",
       "                var nbb_cell_id = 29;\n",
       "                var nbb_unformatted_code = \"X = dummy_df.drop(columns=[\\\"id\\\", \\\"saleprice\\\"])\\ny = dummy_df[\\\"saleprice\\\"]\";\n",
       "                var nbb_formatted_code = \"X = dummy_df.drop(columns=[\\\"id\\\", \\\"saleprice\\\"])\\ny = dummy_df[\\\"saleprice\\\"]\";\n",
       "                var nbb_cells = Jupyter.notebook.get_cells();\n",
       "                for (var i = 0; i < nbb_cells.length; ++i) {\n",
       "                    if (nbb_cells[i].input_prompt_number == nbb_cell_id) {\n",
       "                        if (nbb_cells[i].get_text() == nbb_unformatted_code) {\n",
       "                             nbb_cells[i].set_text(nbb_formatted_code);\n",
       "                        }\n",
       "                        break;\n",
       "                    }\n",
       "                }\n",
       "            }, 500);\n",
       "            "
      ],
      "text/plain": [
       "<IPython.core.display.Javascript object>"
      ]
     },
     "metadata": {},
     "output_type": "display_data"
    }
   ],
   "source": [
    "X = dummy_df.drop(columns=[\"id\", \"saleprice\"])\n",
    "y = dummy_df[\"saleprice\"]"
   ]
  },
  {
   "cell_type": "markdown",
   "metadata": {},
   "source": [
    "## Assumption one: Linearity of the model in its coefficients"
   ]
  },
  {
   "cell_type": "code",
   "execution_count": 31,
   "metadata": {
    "scrolled": true
   },
   "outputs": [
    {
     "data": {
      "application/javascript": [
       "\n",
       "            setTimeout(function() {\n",
       "                var nbb_cell_id = 31;\n",
       "                var nbb_unformatted_code = \"X_const = sm.add_constant(X)\\n\\nresults = sm.OLS(y, X_const).fit()\";\n",
       "                var nbb_formatted_code = \"X_const = sm.add_constant(X)\\n\\nresults = sm.OLS(y, X_const).fit()\";\n",
       "                var nbb_cells = Jupyter.notebook.get_cells();\n",
       "                for (var i = 0; i < nbb_cells.length; ++i) {\n",
       "                    if (nbb_cells[i].input_prompt_number == nbb_cell_id) {\n",
       "                        if (nbb_cells[i].get_text() == nbb_unformatted_code) {\n",
       "                             nbb_cells[i].set_text(nbb_formatted_code);\n",
       "                        }\n",
       "                        break;\n",
       "                    }\n",
       "                }\n",
       "            }, 500);\n",
       "            "
      ],
      "text/plain": [
       "<IPython.core.display.Javascript object>"
      ]
     },
     "metadata": {},
     "output_type": "display_data"
    }
   ],
   "source": [
    "X_const = sm.add_constant(X)\n",
    "\n",
    "results = sm.OLS(y, X_const).fit()\n"
   ]
  },
  {
   "cell_type": "code",
   "execution_count": 34,
   "metadata": {
    "scrolled": true
   },
   "outputs": [
    {
     "data": {
      "text/plain": [
       "<matplotlib.collections.PathCollection at 0x21526af0b88>"
      ]
     },
     "execution_count": 34,
     "metadata": {},
     "output_type": "execute_result"
    },
    {
     "data": {
      "image/png": "[encoded data removed]",
      "text/plain": [
       "<Figure size 432x288 with 1 Axes>"
      ]
     },
     "metadata": {
      "needs_background": "light"
     },
     "output_type": "display_data"
    },
    {
     "data": {
      "application/javascript": [
       "\n",
       "            setTimeout(function() {\n",
       "                var nbb_cell_id = 34;\n",
       "                var nbb_unformatted_code = \"y_pred = results.predict(X_const)\\nplt.scatter(y, y_pred)\";\n",
       "                var nbb_formatted_code = \"y_pred = results.predict(X_const)\\nplt.scatter(y, y_pred)\";\n",
       "                var nbb_cells = Jupyter.notebook.get_cells();\n",
       "                for (var i = 0; i < nbb_cells.length; ++i) {\n",
       "                    if (nbb_cells[i].input_prompt_number == nbb_cell_id) {\n",
       "                        if (nbb_cells[i].get_text() == nbb_unformatted_code) {\n",
       "                             nbb_cells[i].set_text(nbb_formatted_code);\n",
       "                        }\n",
       "                        break;\n",
       "                    }\n",
       "                }\n",
       "            }, 500);\n",
       "            "
      ],
      "text/plain": [
       "<IPython.core.display.Javascript object>"
      ]
     },
     "metadata": {},
     "output_type": "display_data"
    }
   ],
   "source": [
    "y_pred = results.predict(X_const)\n",
    "plt.scatter(y, y_pred)"
   ]
  },
  {
   "cell_type": "markdown",
   "metadata": {},
   "source": [
    "Looks linear to me"
   ]
  },
  {
   "cell_type": "markdown",
   "metadata": {},
   "source": [
    "## Assumption two: the error term should be zero on average"
   ]
  },
  {
   "cell_type": "code",
   "execution_count": 35,
   "metadata": {},
   "outputs": [
    {
     "data": {
      "text/plain": [
       "-3.539573350465506e-08"
      ]
     },
     "execution_count": 35,
     "metadata": {},
     "output_type": "execute_result"
    },
    {
     "data": {
      "application/javascript": [
       "\n",
       "            setTimeout(function() {\n",
       "                var nbb_cell_id = 35;\n",
       "                var nbb_unformatted_code = \"errors = y - y_pred\\nerrors.mean()\";\n",
       "                var nbb_formatted_code = \"errors = y - y_pred\\nerrors.mean()\";\n",
       "                var nbb_cells = Jupyter.notebook.get_cells();\n",
       "                for (var i = 0; i < nbb_cells.length; ++i) {\n",
       "                    if (nbb_cells[i].input_prompt_number == nbb_cell_id) {\n",
       "                        if (nbb_cells[i].get_text() == nbb_unformatted_code) {\n",
       "                             nbb_cells[i].set_text(nbb_formatted_code);\n",
       "                        }\n",
       "                        break;\n",
       "                    }\n",
       "                }\n",
       "            }, 500);\n",
       "            "
      ],
      "text/plain": [
       "<IPython.core.display.Javascript object>"
      ]
     },
     "metadata": {},
     "output_type": "display_data"
    }
   ],
   "source": [
    "errors = y - y_pred\n",
    "errors.mean()\n",
    "#good"
   ]
  },
  {
   "cell_type": "markdown",
   "metadata": {},
   "source": [
    "## Assumption three: homoscedasticity"
   ]
  },
  {
   "cell_type": "code",
   "execution_count": 36,
   "metadata": {},
   "outputs": [
    {
     "name": "stdout",
     "output_type": "stream",
     "text": [
      "Bartlett test statistic value is 1946.36 and p value is 0\n",
      "Levene test statistic value is 817.685 and p value is 9.6e-159\n"
     ]
    },
    {
     "data": {
      "application/javascript": [
       "\n",
       "            setTimeout(function() {\n",
       "                var nbb_cell_id = 36;\n",
       "                var nbb_unformatted_code = \"bart_stats = bartlett(y_pred, errors)\\nlev_stats = levene(y_pred, errors)\\n\\nprint(\\n    \\\"Bartlett test statistic value is {0:3g} and p value is {1:.3g}\\\".format(\\n        bart_stats[0], bart_stats[1]\\n    )\\n)\\nprint(\\n    \\\"Levene test statistic value is {0:3g} and p value is {1:.3g}\\\".format(\\n        lev_stats[0], lev_stats[1]\\n    )\\n)\";\n",
       "                var nbb_formatted_code = \"bart_stats = bartlett(y_pred, errors)\\nlev_stats = levene(y_pred, errors)\\n\\nprint(\\n    \\\"Bartlett test statistic value is {0:3g} and p value is {1:.3g}\\\".format(\\n        bart_stats[0], bart_stats[1]\\n    )\\n)\\nprint(\\n    \\\"Levene test statistic value is {0:3g} and p value is {1:.3g}\\\".format(\\n        lev_stats[0], lev_stats[1]\\n    )\\n)\";\n",
       "                var nbb_cells = Jupyter.notebook.get_cells();\n",
       "                for (var i = 0; i < nbb_cells.length; ++i) {\n",
       "                    if (nbb_cells[i].input_prompt_number == nbb_cell_id) {\n",
       "                        if (nbb_cells[i].get_text() == nbb_unformatted_code) {\n",
       "                             nbb_cells[i].set_text(nbb_formatted_code);\n",
       "                        }\n",
       "                        break;\n",
       "                    }\n",
       "                }\n",
       "            }, 500);\n",
       "            "
      ],
      "text/plain": [
       "<IPython.core.display.Javascript object>"
      ]
     },
     "metadata": {},
     "output_type": "display_data"
    }
   ],
   "source": [
    "bart_stats = bartlett(y_pred, errors)\n",
    "lev_stats = levene(y_pred, errors)\n",
    "\n",
    "print(\n",
    "    \"Bartlett test statistic value is {0:3g} and p value is {1:.3g}\".format(\n",
    "        bart_stats[0], bart_stats[1]\n",
    "    )\n",
    ")\n",
    "print(\n",
    "    \"Levene test statistic value is {0:3g} and p value is {1:.3g}\".format(\n",
    "        lev_stats[0], lev_stats[1]\n",
    "    )\n",
    ")"
   ]
  },
  {
   "cell_type": "markdown",
   "metadata": {},
   "source": [
    "We have heteroskedastic errors"
   ]
  },
  {
   "cell_type": "markdown",
   "metadata": {},
   "source": [
    "## Assumption four: low multicollinearity"
   ]
  },
  {
   "cell_type": "code",
   "execution_count": 37,
   "metadata": {},
   "outputs": [
    {
     "data": {
      "text/html": [
       "<table class=\"simpletable\">\n",
       "<caption>OLS Regression Results</caption>\n",
       "<tr>\n",
       "  <th>Dep. Variable:</th>        <td>saleprice</td>    <th>  R-squared:         </th> <td>   0.929</td> \n",
       "</tr>\n",
       "<tr>\n",
       "  <th>Model:</th>                   <td>OLS</td>       <th>  Adj. R-squared:    </th> <td>   0.916</td> \n",
       "</tr>\n",
       "<tr>\n",
       "  <th>Method:</th>             <td>Least Squares</td>  <th>  F-statistic:       </th> <td>   72.33</td> \n",
       "</tr>\n",
       "<tr>\n",
       "  <th>Date:</th>             <td>Mon, 31 Aug 2020</td> <th>  Prob (F-statistic):</th>  <td>  0.00</td>  \n",
       "</tr>\n",
       "<tr>\n",
       "  <th>Time:</th>                 <td>16:15:21</td>     <th>  Log-Likelihood:    </th> <td> -16600.</td> \n",
       "</tr>\n",
       "<tr>\n",
       "  <th>No. Observations:</th>      <td>  1459</td>      <th>  AIC:               </th> <td>3.365e+04</td>\n",
       "</tr>\n",
       "<tr>\n",
       "  <th>Df Residuals:</th>          <td>  1234</td>      <th>  BIC:               </th> <td>3.484e+04</td>\n",
       "</tr>\n",
       "<tr>\n",
       "  <th>Df Model:</th>              <td>   224</td>      <th>                     </th>     <td> </td>    \n",
       "</tr>\n",
       "<tr>\n",
       "  <th>Covariance Type:</th>      <td>nonrobust</td>    <th>                     </th>     <td> </td>    \n",
       "</tr>\n",
       "</table>\n",
       "<table class=\"simpletable\">\n",
       "<tr>\n",
       "        <td></td>           <th>coef</th>     <th>std err</th>      <th>t</th>      <th>P>|t|</th>  <th>[0.025</th>    <th>0.975]</th>  \n",
       "</tr>\n",
       "<tr>\n",
       "  <th>const</th>         <td>-8.194e+05</td> <td> 1.05e+06</td> <td>   -0.779</td> <td> 0.436</td> <td>-2.88e+06</td> <td> 1.25e+06</td>\n",
       "</tr>\n",
       "<tr>\n",
       "  <th>mssubclass</th>    <td>   -0.9465</td> <td>   81.574</td> <td>   -0.012</td> <td> 0.991</td> <td> -160.986</td> <td>  159.093</td>\n",
       "</tr>\n",
       "<tr>\n",
       "  <th>lotfrontage</th>   <td>   40.7739</td> <td>   41.959</td> <td>    0.972</td> <td> 0.331</td> <td>  -41.545</td> <td>  123.093</td>\n",
       "</tr>\n",
       "<tr>\n",
       "  <th>lotarea</th>       <td>    0.7543</td> <td>    0.109</td> <td>    6.890</td> <td> 0.000</td> <td>    0.540</td> <td>    0.969</td>\n",
       "</tr>\n",
       "<tr>\n",
       "  <th>overallqual</th>   <td> 6943.9227</td> <td> 1016.423</td> <td>    6.832</td> <td> 0.000</td> <td> 4949.814</td> <td> 8938.031</td>\n",
       "</tr>\n",
       "<tr>\n",
       "  <th>overallcond</th>   <td> 5959.6384</td> <td>  872.249</td> <td>    6.832</td> <td> 0.000</td> <td> 4248.383</td> <td> 7670.894</td>\n",
       "</tr>\n",
       "<tr>\n",
       "  <th>yearbuilt</th>     <td>  335.6633</td> <td>   77.263</td> <td>    4.344</td> <td> 0.000</td> <td>  184.081</td> <td>  487.245</td>\n",
       "</tr>\n",
       "<tr>\n",
       "  <th>yearremodadd</th>  <td>  100.0175</td> <td>   55.380</td> <td>    1.806</td> <td> 0.071</td> <td>   -8.633</td> <td>  208.668</td>\n",
       "</tr>\n",
       "<tr>\n",
       "  <th>masvnrarea</th>    <td>   18.9795</td> <td>    5.776</td> <td>    3.286</td> <td> 0.001</td> <td>    7.649</td> <td>   30.310</td>\n",
       "</tr>\n",
       "<tr>\n",
       "  <th>bsmtfinsf1</th>    <td>   17.1622</td> <td>    2.896</td> <td>    5.926</td> <td> 0.000</td> <td>   11.480</td> <td>   22.844</td>\n",
       "</tr>\n",
       "<tr>\n",
       "  <th>bsmtfinsf2</th>    <td>    6.5395</td> <td>    5.998</td> <td>    1.090</td> <td> 0.276</td> <td>   -5.228</td> <td>   18.307</td>\n",
       "</tr>\n",
       "<tr>\n",
       "  <th>bsmtunfsf</th>     <td>   -1.6734</td> <td>    2.776</td> <td>   -0.603</td> <td> 0.547</td> <td>   -7.119</td> <td>    3.772</td>\n",
       "</tr>\n",
       "<tr>\n",
       "  <th>totalbsmtsf</th>   <td>   22.0282</td> <td>    4.070</td> <td>    5.412</td> <td> 0.000</td> <td>   14.043</td> <td>   30.014</td>\n",
       "</tr>\n",
       "<tr>\n",
       "  <th>firstflrsf</th>    <td>   12.8223</td> <td>    6.222</td> <td>    2.061</td> <td> 0.040</td> <td>    0.615</td> <td>   25.029</td>\n",
       "</tr>\n",
       "<tr>\n",
       "  <th>secondflrsf</th>   <td>   33.0497</td> <td>    5.452</td> <td>    6.062</td> <td> 0.000</td> <td>   22.353</td> <td>   43.747</td>\n",
       "</tr>\n",
       "<tr>\n",
       "  <th>lowqualfinsf</th>  <td>  -10.9910</td> <td>   13.466</td> <td>   -0.816</td> <td> 0.415</td> <td>  -37.409</td> <td>   15.427</td>\n",
       "</tr>\n",
       "<tr>\n",
       "  <th>grlivarea</th>     <td>   34.8806</td> <td>    5.481</td> <td>    6.364</td> <td> 0.000</td> <td>   24.127</td> <td>   45.634</td>\n",
       "</tr>\n",
       "<tr>\n",
       "  <th>bsmtfullbath</th>  <td>  666.8708</td> <td> 1985.796</td> <td>    0.336</td> <td> 0.737</td> <td>-3229.039</td> <td> 4562.780</td>\n",
       "</tr>\n",
       "<tr>\n",
       "  <th>bsmthalfbath</th>  <td> -985.7100</td> <td> 3033.854</td> <td>   -0.325</td> <td> 0.745</td> <td>-6937.792</td> <td> 4966.372</td>\n",
       "</tr>\n",
       "<tr>\n",
       "  <th>fullbath</th>      <td> 3132.6199</td> <td> 2208.427</td> <td>    1.418</td> <td> 0.156</td> <td>-1200.067</td> <td> 7465.307</td>\n",
       "</tr>\n",
       "<tr>\n",
       "  <th>halfbath</th>      <td> 1252.5421</td> <td> 2098.675</td> <td>    0.597</td> <td> 0.551</td> <td>-2864.823</td> <td> 5369.907</td>\n",
       "</tr>\n",
       "<tr>\n",
       "  <th>bedroomabvgr</th>  <td>-3804.2996</td> <td> 1368.574</td> <td>   -2.780</td> <td> 0.006</td> <td>-6489.289</td> <td>-1119.310</td>\n",
       "</tr>\n",
       "<tr>\n",
       "  <th>kitchenabvgr</th>  <td>-1.398e+04</td> <td> 5621.863</td> <td>   -2.487</td> <td> 0.013</td> <td> -2.5e+04</td> <td>-2953.485</td>\n",
       "</tr>\n",
       "<tr>\n",
       "  <th>totrmsabvgrd</th>  <td> 1191.7514</td> <td>  951.890</td> <td>    1.252</td> <td> 0.211</td> <td> -675.750</td> <td> 3059.253</td>\n",
       "</tr>\n",
       "<tr>\n",
       "  <th>fireplaces</th>    <td> 7162.5957</td> <td> 2560.430</td> <td>    2.797</td> <td> 0.005</td> <td> 2139.318</td> <td> 1.22e+04</td>\n",
       "</tr>\n",
       "<tr>\n",
       "  <th>garageyrblt</th>   <td>   23.3912</td> <td>   58.896</td> <td>    0.397</td> <td> 0.691</td> <td>  -92.155</td> <td>  138.938</td>\n",
       "</tr>\n",
       "<tr>\n",
       "  <th>garagearea</th>    <td>   28.0341</td> <td>    5.842</td> <td>    4.799</td> <td> 0.000</td> <td>   16.573</td> <td>   39.496</td>\n",
       "</tr>\n",
       "<tr>\n",
       "  <th>wooddecksf</th>    <td>   12.8161</td> <td>    5.869</td> <td>    2.184</td> <td> 0.029</td> <td>    1.302</td> <td>   24.330</td>\n",
       "</tr>\n",
       "<tr>\n",
       "  <th>openporchsf</th>   <td>    2.9579</td> <td>   11.540</td> <td>    0.256</td> <td> 0.798</td> <td>  -19.682</td> <td>   25.598</td>\n",
       "</tr>\n",
       "<tr>\n",
       "  <th>enclosedporch</th> <td>    5.1479</td> <td>   12.442</td> <td>    0.414</td> <td> 0.679</td> <td>  -19.262</td> <td>   29.558</td>\n",
       "</tr>\n",
       "<tr>\n",
       "  <th>threessnporch</th> <td>   32.3784</td> <td>   22.603</td> <td>    1.433</td> <td> 0.152</td> <td>  -11.966</td> <td>   76.722</td>\n",
       "</tr>\n",
       "<tr>\n",
       "  <th>screenporch</th>   <td>   34.9838</td> <td>   12.130</td> <td>    2.884</td> <td> 0.004</td> <td>   11.186</td> <td>   58.782</td>\n",
       "</tr>\n",
       "<tr>\n",
       "  <th>poolarea</th>      <td>   79.8529</td> <td>   18.408</td> <td>    4.338</td> <td> 0.000</td> <td>   43.739</td> <td>  115.967</td>\n",
       "</tr>\n",
       "<tr>\n",
       "  <th>miscval</th>       <td>    0.1297</td> <td>    1.425</td> <td>    0.091</td> <td> 0.927</td> <td>   -2.666</td> <td>    2.925</td>\n",
       "</tr>\n",
       "<tr>\n",
       "  <th>mosold</th>        <td> -446.7559</td> <td>  245.992</td> <td>   -1.816</td> <td> 0.070</td> <td> -929.365</td> <td>   35.853</td>\n",
       "</tr>\n",
       "<tr>\n",
       "  <th>yrsold</th>        <td> -434.9908</td> <td>  516.247</td> <td>   -0.843</td> <td> 0.400</td> <td>-1447.810</td> <td>  577.828</td>\n",
       "</tr>\n",
       "<tr>\n",
       "  <th>FV</th>            <td> 3.017e+04</td> <td>  1.2e+04</td> <td>    2.517</td> <td> 0.012</td> <td> 6649.093</td> <td> 5.37e+04</td>\n",
       "</tr>\n",
       "<tr>\n",
       "  <th>RH</th>            <td> 2.301e+04</td> <td>  1.2e+04</td> <td>    1.924</td> <td> 0.055</td> <td> -452.890</td> <td> 4.65e+04</td>\n",
       "</tr>\n",
       "<tr>\n",
       "  <th>RL</th>            <td> 2.511e+04</td> <td> 1.02e+04</td> <td>    2.457</td> <td> 0.014</td> <td> 5062.485</td> <td> 4.52e+04</td>\n",
       "</tr>\n",
       "<tr>\n",
       "  <th>RM</th>            <td> 2.171e+04</td> <td> 9573.463</td> <td>    2.268</td> <td> 0.024</td> <td> 2929.334</td> <td> 4.05e+04</td>\n",
       "</tr>\n",
       "<tr>\n",
       "  <th>Pave</th>          <td>  3.31e+04</td> <td> 1.21e+04</td> <td>    2.725</td> <td> 0.007</td> <td> 9266.700</td> <td> 5.69e+04</td>\n",
       "</tr>\n",
       "<tr>\n",
       "  <th>IR2</th>           <td> 7520.5015</td> <td> 4171.024</td> <td>    1.803</td> <td> 0.072</td> <td> -662.581</td> <td> 1.57e+04</td>\n",
       "</tr>\n",
       "<tr>\n",
       "  <th>IR3</th>           <td> 7612.8013</td> <td> 8926.071</td> <td>    0.853</td> <td> 0.394</td> <td>-9899.152</td> <td> 2.51e+04</td>\n",
       "</tr>\n",
       "<tr>\n",
       "  <th>Reg</th>           <td>   18.8144</td> <td> 1561.293</td> <td>    0.012</td> <td> 0.990</td> <td>-3044.267</td> <td> 3081.896</td>\n",
       "</tr>\n",
       "<tr>\n",
       "  <th>HLS</th>           <td> 8985.7593</td> <td> 5163.957</td> <td>    1.740</td> <td> 0.082</td> <td>-1145.347</td> <td> 1.91e+04</td>\n",
       "</tr>\n",
       "<tr>\n",
       "  <th>Low</th>           <td>-1.186e+04</td> <td> 6423.511</td> <td>   -1.846</td> <td> 0.065</td> <td>-2.45e+04</td> <td>  747.171</td>\n",
       "</tr>\n",
       "<tr>\n",
       "  <th>Lvl</th>           <td> 6106.4351</td> <td> 3698.044</td> <td>    1.651</td> <td> 0.099</td> <td>-1148.714</td> <td> 1.34e+04</td>\n",
       "</tr>\n",
       "<tr>\n",
       "  <th>Mod</th>           <td> 7209.0153</td> <td> 4001.447</td> <td>    1.802</td> <td> 0.072</td> <td> -641.377</td> <td> 1.51e+04</td>\n",
       "</tr>\n",
       "<tr>\n",
       "  <th>Sev</th>           <td>-4.228e+04</td> <td> 1.15e+04</td> <td>   -3.669</td> <td> 0.000</td> <td>-6.49e+04</td> <td>-1.97e+04</td>\n",
       "</tr>\n",
       "<tr>\n",
       "  <th>Blueste</th>       <td>   56.5302</td> <td> 1.92e+04</td> <td>    0.003</td> <td> 0.998</td> <td>-3.76e+04</td> <td> 3.77e+04</td>\n",
       "</tr>\n",
       "<tr>\n",
       "  <th>BrDale</th>        <td>-1019.9709</td> <td>  1.1e+04</td> <td>   -0.093</td> <td> 0.926</td> <td>-2.26e+04</td> <td> 2.06e+04</td>\n",
       "</tr>\n",
       "<tr>\n",
       "  <th>BrkSide</th>       <td>-4627.1290</td> <td> 9466.593</td> <td>   -0.489</td> <td> 0.625</td> <td>-2.32e+04</td> <td> 1.39e+04</td>\n",
       "</tr>\n",
       "<tr>\n",
       "  <th>ClearCr</th>       <td>-1.736e+04</td> <td> 9294.801</td> <td>   -1.867</td> <td> 0.062</td> <td>-3.56e+04</td> <td>  880.262</td>\n",
       "</tr>\n",
       "<tr>\n",
       "  <th>CollgCr</th>       <td>-1.157e+04</td> <td> 7288.929</td> <td>   -1.588</td> <td> 0.113</td> <td>-2.59e+04</td> <td> 2725.644</td>\n",
       "</tr>\n",
       "<tr>\n",
       "  <th>Crawfor</th>       <td> 9001.4337</td> <td> 8602.133</td> <td>    1.046</td> <td> 0.296</td> <td>-7874.990</td> <td> 2.59e+04</td>\n",
       "</tr>\n",
       "<tr>\n",
       "  <th>Edwards</th>       <td>-2.089e+04</td> <td> 8028.126</td> <td>   -2.602</td> <td> 0.009</td> <td>-3.66e+04</td> <td>-5135.603</td>\n",
       "</tr>\n",
       "<tr>\n",
       "  <th>Gilbert</th>       <td> -1.17e+04</td> <td> 7747.773</td> <td>   -1.510</td> <td> 0.131</td> <td>-2.69e+04</td> <td> 3502.657</td>\n",
       "</tr>\n",
       "<tr>\n",
       "  <th>IDOTRR</th>        <td>-1.135e+04</td> <td> 1.07e+04</td> <td>   -1.065</td> <td> 0.287</td> <td>-3.23e+04</td> <td> 9567.326</td>\n",
       "</tr>\n",
       "<tr>\n",
       "  <th>MeadowV</th>       <td>-6680.7746</td> <td> 1.12e+04</td> <td>   -0.595</td> <td> 0.552</td> <td>-2.87e+04</td> <td> 1.53e+04</td>\n",
       "</tr>\n",
       "<tr>\n",
       "  <th>Mitchel</th>       <td>-2.185e+04</td> <td> 8212.216</td> <td>   -2.661</td> <td> 0.008</td> <td> -3.8e+04</td> <td>-5737.375</td>\n",
       "</tr>\n",
       "<tr>\n",
       "  <th>NAmes</th>         <td>-1.758e+04</td> <td> 7842.906</td> <td>   -2.242</td> <td> 0.025</td> <td> -3.3e+04</td> <td>-2194.796</td>\n",
       "</tr>\n",
       "<tr>\n",
       "  <th>NPkVill</th>       <td> 1.406e+04</td> <td> 1.42e+04</td> <td>    0.989</td> <td> 0.323</td> <td>-1.38e+04</td> <td>  4.2e+04</td>\n",
       "</tr>\n",
       "<tr>\n",
       "  <th>NWAmes</th>        <td>-1.855e+04</td> <td> 8048.743</td> <td>   -2.305</td> <td> 0.021</td> <td>-3.43e+04</td> <td>-2763.820</td>\n",
       "</tr>\n",
       "<tr>\n",
       "  <th>NoRidge</th>       <td> 2.429e+04</td> <td> 8475.480</td> <td>    2.866</td> <td> 0.004</td> <td> 7660.381</td> <td> 4.09e+04</td>\n",
       "</tr>\n",
       "<tr>\n",
       "  <th>NridgHt</th>       <td> 1.508e+04</td> <td> 7535.227</td> <td>    2.002</td> <td> 0.046</td> <td>  298.704</td> <td> 2.99e+04</td>\n",
       "</tr>\n",
       "<tr>\n",
       "  <th>OldTown</th>       <td>-1.484e+04</td> <td> 9613.308</td> <td>   -1.543</td> <td> 0.123</td> <td>-3.37e+04</td> <td> 4022.168</td>\n",
       "</tr>\n",
       "<tr>\n",
       "  <th>SWISU</th>         <td>-1.057e+04</td> <td> 9726.904</td> <td>   -1.086</td> <td> 0.278</td> <td>-2.96e+04</td> <td> 8516.551</td>\n",
       "</tr>\n",
       "<tr>\n",
       "  <th>Sawyer</th>        <td>-1.102e+04</td> <td> 8182.650</td> <td>   -1.347</td> <td> 0.178</td> <td>-2.71e+04</td> <td> 5032.913</td>\n",
       "</tr>\n",
       "<tr>\n",
       "  <th>SawyerW</th>       <td>-4879.0308</td> <td> 7843.926</td> <td>   -0.622</td> <td> 0.534</td> <td>-2.03e+04</td> <td> 1.05e+04</td>\n",
       "</tr>\n",
       "<tr>\n",
       "  <th>Somerst</th>       <td>-2376.4321</td> <td> 9067.989</td> <td>   -0.262</td> <td> 0.793</td> <td>-2.02e+04</td> <td> 1.54e+04</td>\n",
       "</tr>\n",
       "<tr>\n",
       "  <th>StoneBr</th>       <td>   3.8e+04</td> <td> 8371.580</td> <td>    4.539</td> <td> 0.000</td> <td> 2.16e+04</td> <td> 5.44e+04</td>\n",
       "</tr>\n",
       "<tr>\n",
       "  <th>Timber</th>        <td>-1.223e+04</td> <td> 8197.432</td> <td>   -1.492</td> <td> 0.136</td> <td>-2.83e+04</td> <td> 3855.493</td>\n",
       "</tr>\n",
       "<tr>\n",
       "  <th>Veenker</th>       <td>-2045.9319</td> <td> 1.05e+04</td> <td>   -0.195</td> <td> 0.846</td> <td>-2.27e+04</td> <td> 1.86e+04</td>\n",
       "</tr>\n",
       "<tr>\n",
       "  <th>Feedr</th>         <td> 1802.5256</td> <td> 4926.603</td> <td>    0.366</td> <td> 0.715</td> <td>-7862.919</td> <td> 1.15e+04</td>\n",
       "</tr>\n",
       "<tr>\n",
       "  <th>Norm</th>          <td> 1.203e+04</td> <td> 4092.642</td> <td>    2.940</td> <td> 0.003</td> <td> 4001.360</td> <td> 2.01e+04</td>\n",
       "</tr>\n",
       "<tr>\n",
       "  <th>PosA</th>          <td> 2330.4671</td> <td>    1e+04</td> <td>    0.232</td> <td> 0.816</td> <td>-1.73e+04</td> <td>  2.2e+04</td>\n",
       "</tr>\n",
       "<tr>\n",
       "  <th>PosN</th>          <td> 1.055e+04</td> <td> 7389.610</td> <td>    1.428</td> <td> 0.154</td> <td>-3948.809</td> <td>  2.5e+04</td>\n",
       "</tr>\n",
       "<tr>\n",
       "  <th>RRAe</th>          <td>-1.709e+04</td> <td> 9086.423</td> <td>   -1.881</td> <td> 0.060</td> <td>-3.49e+04</td> <td>  732.391</td>\n",
       "</tr>\n",
       "<tr>\n",
       "  <th>RRAn</th>          <td> 6106.2738</td> <td> 6844.584</td> <td>    0.892</td> <td> 0.372</td> <td>-7322.035</td> <td> 1.95e+04</td>\n",
       "</tr>\n",
       "<tr>\n",
       "  <th>RRNe</th>          <td>-1674.5684</td> <td> 1.77e+04</td> <td>   -0.095</td> <td> 0.924</td> <td>-3.63e+04</td> <td>  3.3e+04</td>\n",
       "</tr>\n",
       "<tr>\n",
       "  <th>RRNn</th>          <td> 1307.1622</td> <td> 1.26e+04</td> <td>    0.104</td> <td> 0.918</td> <td>-2.35e+04</td> <td> 2.61e+04</td>\n",
       "</tr>\n",
       "<tr>\n",
       "  <th>Feedr</th>         <td>-7750.5117</td> <td> 2.29e+04</td> <td>   -0.339</td> <td> 0.735</td> <td>-5.27e+04</td> <td> 3.72e+04</td>\n",
       "</tr>\n",
       "<tr>\n",
       "  <th>Norm</th>          <td>-4792.1401</td> <td> 1.97e+04</td> <td>   -0.243</td> <td> 0.808</td> <td>-4.35e+04</td> <td> 3.39e+04</td>\n",
       "</tr>\n",
       "<tr>\n",
       "  <th>PosA</th>          <td> 3.088e+04</td> <td> 3.71e+04</td> <td>    0.832</td> <td> 0.406</td> <td>-4.19e+04</td> <td> 1.04e+05</td>\n",
       "</tr>\n",
       "<tr>\n",
       "  <th>PosN</th>          <td>-2.405e+05</td> <td> 2.73e+04</td> <td>   -8.799</td> <td> 0.000</td> <td>-2.94e+05</td> <td>-1.87e+05</td>\n",
       "</tr>\n",
       "<tr>\n",
       "  <th>RRAe</th>          <td>-1.274e+05</td> <td> 4.62e+04</td> <td>   -2.760</td> <td> 0.006</td> <td>-2.18e+05</td> <td>-3.68e+04</td>\n",
       "</tr>\n",
       "<tr>\n",
       "  <th>RRAn</th>          <td> -1.72e+04</td> <td> 3.14e+04</td> <td>   -0.548</td> <td> 0.584</td> <td>-7.88e+04</td> <td> 4.44e+04</td>\n",
       "</tr>\n",
       "<tr>\n",
       "  <th>RRNn</th>          <td> -313.8369</td> <td> 2.67e+04</td> <td>   -0.012</td> <td> 0.991</td> <td>-5.26e+04</td> <td>  5.2e+04</td>\n",
       "</tr>\n",
       "<tr>\n",
       "  <th>2fmCon</th>        <td>-8573.6879</td> <td> 1.23e+04</td> <td>   -0.695</td> <td> 0.487</td> <td>-3.28e+04</td> <td> 1.56e+04</td>\n",
       "</tr>\n",
       "<tr>\n",
       "  <th>Duplex</th>        <td>-9479.4330</td> <td> 7303.467</td> <td>   -1.298</td> <td> 0.195</td> <td>-2.38e+04</td> <td> 4849.152</td>\n",
       "</tr>\n",
       "<tr>\n",
       "  <th>Twnhs</th>         <td>-2.382e+04</td> <td> 9902.738</td> <td>   -2.405</td> <td> 0.016</td> <td>-4.32e+04</td> <td>-4387.514</td>\n",
       "</tr>\n",
       "<tr>\n",
       "  <th>TwnhsE</th>        <td>-1.945e+04</td> <td> 8901.750</td> <td>   -2.185</td> <td> 0.029</td> <td>-3.69e+04</td> <td>-1981.843</td>\n",
       "</tr>\n",
       "<tr>\n",
       "  <th>1.5Unf</th>        <td> 1.316e+04</td> <td> 7741.652</td> <td>    1.700</td> <td> 0.089</td> <td>-2030.113</td> <td> 2.83e+04</td>\n",
       "</tr>\n",
       "<tr>\n",
       "  <th>1Story</th>        <td> 9195.0378</td> <td> 4323.764</td> <td>    2.127</td> <td> 0.034</td> <td>  712.296</td> <td> 1.77e+04</td>\n",
       "</tr>\n",
       "<tr>\n",
       "  <th>2.5Fin</th>        <td>-1.755e+04</td> <td> 1.22e+04</td> <td>   -1.442</td> <td> 0.150</td> <td>-4.14e+04</td> <td> 6323.438</td>\n",
       "</tr>\n",
       "<tr>\n",
       "  <th>2.5Unf</th>        <td>-8043.0316</td> <td> 9166.241</td> <td>   -0.877</td> <td> 0.380</td> <td> -2.6e+04</td> <td> 9940.110</td>\n",
       "</tr>\n",
       "<tr>\n",
       "  <th>2Story</th>        <td>-5939.5051</td> <td> 3505.089</td> <td>   -1.695</td> <td> 0.090</td> <td>-1.28e+04</td> <td>  937.089</td>\n",
       "</tr>\n",
       "<tr>\n",
       "  <th>SFoyer</th>        <td> 2711.3097</td> <td> 6272.580</td> <td>    0.432</td> <td> 0.666</td> <td>-9594.791</td> <td>  1.5e+04</td>\n",
       "</tr>\n",
       "<tr>\n",
       "  <th>SLvl</th>          <td> 2591.0967</td> <td> 5541.858</td> <td>    0.468</td> <td> 0.640</td> <td>-8281.409</td> <td> 1.35e+04</td>\n",
       "</tr>\n",
       "<tr>\n",
       "  <th>Gable</th>         <td> 4895.5128</td> <td> 1.86e+04</td> <td>    0.264</td> <td> 0.792</td> <td>-3.15e+04</td> <td> 4.13e+04</td>\n",
       "</tr>\n",
       "<tr>\n",
       "  <th>Gambrel</th>       <td> 8325.4336</td> <td> 2.03e+04</td> <td>    0.411</td> <td> 0.681</td> <td>-3.14e+04</td> <td> 4.81e+04</td>\n",
       "</tr>\n",
       "<tr>\n",
       "  <th>Hip</th>           <td> 4921.2681</td> <td> 1.86e+04</td> <td>    0.264</td> <td> 0.792</td> <td>-3.16e+04</td> <td> 4.15e+04</td>\n",
       "</tr>\n",
       "<tr>\n",
       "  <th>Mansard</th>       <td> 1.836e+04</td> <td> 2.16e+04</td> <td>    0.851</td> <td> 0.395</td> <td> -2.4e+04</td> <td> 6.07e+04</td>\n",
       "</tr>\n",
       "<tr>\n",
       "  <th>Shed</th>          <td> 9.929e+04</td> <td>  3.5e+04</td> <td>    2.836</td> <td> 0.005</td> <td> 3.06e+04</td> <td> 1.68e+05</td>\n",
       "</tr>\n",
       "<tr>\n",
       "  <th>CompShg</th>       <td> 6.972e+05</td> <td> 3.34e+04</td> <td>   20.895</td> <td> 0.000</td> <td> 6.32e+05</td> <td> 7.63e+05</td>\n",
       "</tr>\n",
       "<tr>\n",
       "  <th>Membran</th>       <td> 8.001e+05</td> <td> 4.79e+04</td> <td>   16.721</td> <td> 0.000</td> <td> 7.06e+05</td> <td> 8.94e+05</td>\n",
       "</tr>\n",
       "<tr>\n",
       "  <th>Metal</th>         <td> 7.699e+05</td> <td> 4.68e+04</td> <td>   16.436</td> <td> 0.000</td> <td> 6.78e+05</td> <td> 8.62e+05</td>\n",
       "</tr>\n",
       "<tr>\n",
       "  <th>Roll</th>          <td> 6.902e+05</td> <td> 4.15e+04</td> <td>   16.639</td> <td> 0.000</td> <td> 6.09e+05</td> <td> 7.72e+05</td>\n",
       "</tr>\n",
       "<tr>\n",
       "  <th>Tar&Grv</th>       <td> 7.043e+05</td> <td> 3.82e+04</td> <td>   18.437</td> <td> 0.000</td> <td> 6.29e+05</td> <td> 7.79e+05</td>\n",
       "</tr>\n",
       "<tr>\n",
       "  <th>WdShake</th>       <td> 6.879e+05</td> <td>  3.7e+04</td> <td>   18.578</td> <td> 0.000</td> <td> 6.15e+05</td> <td> 7.61e+05</td>\n",
       "</tr>\n",
       "<tr>\n",
       "  <th>WdShngl</th>       <td> 7.644e+05</td> <td> 3.45e+04</td> <td>   22.157</td> <td> 0.000</td> <td> 6.97e+05</td> <td> 8.32e+05</td>\n",
       "</tr>\n",
       "<tr>\n",
       "  <th>AsphShn</th>       <td>-2.505e+04</td> <td> 3.34e+04</td> <td>   -0.750</td> <td> 0.453</td> <td>-9.06e+04</td> <td> 4.05e+04</td>\n",
       "</tr>\n",
       "<tr>\n",
       "  <th>BrkComm</th>       <td>-1.338e+04</td> <td> 2.79e+04</td> <td>   -0.480</td> <td> 0.632</td> <td>-6.81e+04</td> <td> 4.13e+04</td>\n",
       "</tr>\n",
       "<tr>\n",
       "  <th>BrkFace</th>       <td> 5728.0338</td> <td> 1.28e+04</td> <td>    0.449</td> <td> 0.654</td> <td>-1.93e+04</td> <td> 3.08e+04</td>\n",
       "</tr>\n",
       "<tr>\n",
       "  <th>CBlock</th>        <td>-9693.2408</td> <td> 1.37e+04</td> <td>   -0.707</td> <td> 0.480</td> <td>-3.66e+04</td> <td> 1.72e+04</td>\n",
       "</tr>\n",
       "<tr>\n",
       "  <th>CemntBd</th>       <td>-1.342e+04</td> <td> 1.91e+04</td> <td>   -0.703</td> <td> 0.482</td> <td>-5.08e+04</td> <td>  2.4e+04</td>\n",
       "</tr>\n",
       "<tr>\n",
       "  <th>HdBoard</th>       <td>-1.537e+04</td> <td> 1.29e+04</td> <td>   -1.191</td> <td> 0.234</td> <td>-4.07e+04</td> <td> 9944.192</td>\n",
       "</tr>\n",
       "<tr>\n",
       "  <th>ImStucc</th>       <td>-4.076e+04</td> <td>  2.8e+04</td> <td>   -1.454</td> <td> 0.146</td> <td>-9.57e+04</td> <td> 1.42e+04</td>\n",
       "</tr>\n",
       "<tr>\n",
       "  <th>MetalSd</th>       <td>-7725.9151</td> <td> 1.46e+04</td> <td>   -0.528</td> <td> 0.598</td> <td>-3.64e+04</td> <td>  2.1e+04</td>\n",
       "</tr>\n",
       "<tr>\n",
       "  <th>Plywood</th>       <td> -1.87e+04</td> <td> 1.28e+04</td> <td>   -1.464</td> <td> 0.143</td> <td>-4.38e+04</td> <td> 6361.060</td>\n",
       "</tr>\n",
       "<tr>\n",
       "  <th>Stone</th>         <td>-5240.3792</td> <td> 2.44e+04</td> <td>   -0.215</td> <td> 0.830</td> <td>-5.31e+04</td> <td> 4.26e+04</td>\n",
       "</tr>\n",
       "<tr>\n",
       "  <th>Stucco</th>        <td>-8983.8312</td> <td> 1.41e+04</td> <td>   -0.639</td> <td> 0.523</td> <td>-3.66e+04</td> <td> 1.86e+04</td>\n",
       "</tr>\n",
       "<tr>\n",
       "  <th>VinylSd</th>       <td>-1.541e+04</td> <td> 1.33e+04</td> <td>   -1.161</td> <td> 0.246</td> <td>-4.15e+04</td> <td> 1.06e+04</td>\n",
       "</tr>\n",
       "<tr>\n",
       "  <th>Wd Sdng</th>       <td>-1.537e+04</td> <td> 1.23e+04</td> <td>   -1.246</td> <td> 0.213</td> <td>-3.96e+04</td> <td> 8825.051</td>\n",
       "</tr>\n",
       "<tr>\n",
       "  <th>WdShing</th>       <td>-1.171e+04</td> <td> 1.33e+04</td> <td>   -0.880</td> <td> 0.379</td> <td>-3.78e+04</td> <td> 1.44e+04</td>\n",
       "</tr>\n",
       "<tr>\n",
       "  <th>AsphShn</th>       <td> 6865.5667</td> <td> 2.24e+04</td> <td>    0.307</td> <td> 0.759</td> <td> -3.7e+04</td> <td> 5.07e+04</td>\n",
       "</tr>\n",
       "<tr>\n",
       "  <th>Brk Cmn</th>       <td> 9057.8444</td> <td> 2.03e+04</td> <td>    0.447</td> <td> 0.655</td> <td>-3.07e+04</td> <td> 4.88e+04</td>\n",
       "</tr>\n",
       "<tr>\n",
       "  <th>BrkFace</th>       <td> 4105.0980</td> <td> 1.33e+04</td> <td>    0.310</td> <td> 0.757</td> <td>-2.19e+04</td> <td> 3.01e+04</td>\n",
       "</tr>\n",
       "<tr>\n",
       "  <th>CBlock</th>        <td>-9693.2408</td> <td> 1.37e+04</td> <td>   -0.707</td> <td> 0.480</td> <td>-3.66e+04</td> <td> 1.72e+04</td>\n",
       "</tr>\n",
       "<tr>\n",
       "  <th>CmentBd</th>       <td> 1.183e+04</td> <td> 1.88e+04</td> <td>    0.630</td> <td> 0.529</td> <td> -2.5e+04</td> <td> 4.87e+04</td>\n",
       "</tr>\n",
       "<tr>\n",
       "  <th>HdBoard</th>       <td> 9279.1462</td> <td> 1.24e+04</td> <td>    0.748</td> <td> 0.455</td> <td>-1.51e+04</td> <td> 3.36e+04</td>\n",
       "</tr>\n",
       "<tr>\n",
       "  <th>ImStucc</th>       <td> 2.683e+04</td> <td> 1.43e+04</td> <td>    1.880</td> <td> 0.060</td> <td>-1166.921</td> <td> 5.48e+04</td>\n",
       "</tr>\n",
       "<tr>\n",
       "  <th>MetalSd</th>       <td> 6065.4216</td> <td> 1.43e+04</td> <td>    0.425</td> <td> 0.671</td> <td>-2.19e+04</td> <td> 3.41e+04</td>\n",
       "</tr>\n",
       "<tr>\n",
       "  <th>Other</th>         <td>-1.811e+04</td> <td> 2.74e+04</td> <td>   -0.661</td> <td> 0.509</td> <td>-7.19e+04</td> <td> 3.57e+04</td>\n",
       "</tr>\n",
       "<tr>\n",
       "  <th>Plywood</th>       <td> 8749.7753</td> <td> 1.21e+04</td> <td>    0.725</td> <td> 0.468</td> <td>-1.49e+04</td> <td> 3.24e+04</td>\n",
       "</tr>\n",
       "<tr>\n",
       "  <th>Stone</th>         <td>-9645.0867</td> <td> 1.71e+04</td> <td>   -0.564</td> <td> 0.573</td> <td>-4.32e+04</td> <td> 2.39e+04</td>\n",
       "</tr>\n",
       "<tr>\n",
       "  <th>Stucco</th>        <td> 8385.3608</td> <td> 1.36e+04</td> <td>    0.619</td> <td> 0.536</td> <td>-1.82e+04</td> <td>  3.5e+04</td>\n",
       "</tr>\n",
       "<tr>\n",
       "  <th>VinylSd</th>       <td> 1.313e+04</td> <td> 1.28e+04</td> <td>    1.024</td> <td> 0.306</td> <td> -1.2e+04</td> <td> 3.83e+04</td>\n",
       "</tr>\n",
       "<tr>\n",
       "  <th>Wd Sdng</th>       <td> 1.203e+04</td> <td> 1.19e+04</td> <td>    1.008</td> <td> 0.314</td> <td>-1.14e+04</td> <td> 3.54e+04</td>\n",
       "</tr>\n",
       "<tr>\n",
       "  <th>Wd Shng</th>       <td> 7171.1820</td> <td> 1.24e+04</td> <td>    0.579</td> <td> 0.562</td> <td>-1.71e+04</td> <td> 3.15e+04</td>\n",
       "</tr>\n",
       "<tr>\n",
       "  <th>BrkFace</th>       <td> 4932.8312</td> <td> 6865.637</td> <td>    0.718</td> <td> 0.473</td> <td>-8536.781</td> <td> 1.84e+04</td>\n",
       "</tr>\n",
       "<tr>\n",
       "  <th>None</th>          <td> 7775.3626</td> <td> 6924.532</td> <td>    1.123</td> <td> 0.262</td> <td>-5809.795</td> <td> 2.14e+04</td>\n",
       "</tr>\n",
       "<tr>\n",
       "  <th>Stone</th>         <td> 1.006e+04</td> <td> 7260.410</td> <td>    1.386</td> <td> 0.166</td> <td>-4182.019</td> <td> 2.43e+04</td>\n",
       "</tr>\n",
       "<tr>\n",
       "  <th>Fa</th>            <td>-6465.9117</td> <td>  1.1e+04</td> <td>   -0.587</td> <td> 0.557</td> <td>-2.81e+04</td> <td> 1.51e+04</td>\n",
       "</tr>\n",
       "<tr>\n",
       "  <th>Gd</th>            <td>-1.955e+04</td> <td> 4816.902</td> <td>   -4.058</td> <td> 0.000</td> <td> -2.9e+04</td> <td>-1.01e+04</td>\n",
       "</tr>\n",
       "<tr>\n",
       "  <th>TA</th>            <td>-2.034e+04</td> <td> 5323.521</td> <td>   -3.821</td> <td> 0.000</td> <td>-3.08e+04</td> <td>-9895.221</td>\n",
       "</tr>\n",
       "<tr>\n",
       "  <th>Fa</th>            <td>-5767.0764</td> <td> 1.82e+04</td> <td>   -0.317</td> <td> 0.752</td> <td>-4.15e+04</td> <td>    3e+04</td>\n",
       "</tr>\n",
       "<tr>\n",
       "  <th>Gd</th>            <td>-8765.9286</td> <td> 1.74e+04</td> <td>   -0.504</td> <td> 0.615</td> <td>-4.29e+04</td> <td> 2.54e+04</td>\n",
       "</tr>\n",
       "<tr>\n",
       "  <th>Po</th>            <td> 1176.9927</td> <td> 3.17e+04</td> <td>    0.037</td> <td> 0.970</td> <td>-6.09e+04</td> <td> 6.33e+04</td>\n",
       "</tr>\n",
       "<tr>\n",
       "  <th>TA</th>            <td>-7014.3533</td> <td> 1.74e+04</td> <td>   -0.404</td> <td> 0.686</td> <td>-4.11e+04</td> <td> 2.71e+04</td>\n",
       "</tr>\n",
       "<tr>\n",
       "  <th>CBlock</th>        <td> 3214.7060</td> <td> 3173.597</td> <td>    1.013</td> <td> 0.311</td> <td>-3011.537</td> <td> 9440.949</td>\n",
       "</tr>\n",
       "<tr>\n",
       "  <th>PConc</th>         <td> 3608.1661</td> <td> 3423.884</td> <td>    1.054</td> <td> 0.292</td> <td>-3109.111</td> <td> 1.03e+04</td>\n",
       "</tr>\n",
       "<tr>\n",
       "  <th>Slab</th>          <td>-9342.7693</td> <td> 1.01e+04</td> <td>   -0.925</td> <td> 0.355</td> <td>-2.92e+04</td> <td> 1.05e+04</td>\n",
       "</tr>\n",
       "<tr>\n",
       "  <th>Stone</th>         <td> 6846.0672</td> <td> 1.08e+04</td> <td>    0.632</td> <td> 0.528</td> <td>-1.44e+04</td> <td> 2.81e+04</td>\n",
       "</tr>\n",
       "<tr>\n",
       "  <th>Wood</th>          <td>-3.155e+04</td> <td> 1.49e+04</td> <td>   -2.121</td> <td> 0.034</td> <td>-6.07e+04</td> <td>-2364.437</td>\n",
       "</tr>\n",
       "<tr>\n",
       "  <th>Fa</th>            <td> -1.33e+04</td> <td> 6356.476</td> <td>   -2.092</td> <td> 0.037</td> <td>-2.58e+04</td> <td> -824.980</td>\n",
       "</tr>\n",
       "<tr>\n",
       "  <th>Gd</th>            <td>-1.828e+04</td> <td> 3365.517</td> <td>   -5.431</td> <td> 0.000</td> <td>-2.49e+04</td> <td>-1.17e+04</td>\n",
       "</tr>\n",
       "<tr>\n",
       "  <th>None</th>          <td> 1.296e+04</td> <td> 1.24e+04</td> <td>    1.048</td> <td> 0.295</td> <td>-1.13e+04</td> <td> 3.72e+04</td>\n",
       "</tr>\n",
       "<tr>\n",
       "  <th>TA</th>            <td>-1.508e+04</td> <td> 4134.891</td> <td>   -3.647</td> <td> 0.000</td> <td>-2.32e+04</td> <td>-6966.095</td>\n",
       "</tr>\n",
       "<tr>\n",
       "  <th>Gd</th>            <td> -118.1134</td> <td> 5275.649</td> <td>   -0.022</td> <td> 0.982</td> <td>-1.05e+04</td> <td> 1.02e+04</td>\n",
       "</tr>\n",
       "<tr>\n",
       "  <th>None</th>          <td> 1.296e+04</td> <td> 1.24e+04</td> <td>    1.048</td> <td> 0.295</td> <td>-1.13e+04</td> <td> 3.72e+04</td>\n",
       "</tr>\n",
       "<tr>\n",
       "  <th>Po</th>            <td> 7.245e+04</td> <td> 3.02e+04</td> <td>    2.400</td> <td> 0.017</td> <td> 1.32e+04</td> <td> 1.32e+05</td>\n",
       "</tr>\n",
       "<tr>\n",
       "  <th>TA</th>            <td> 3176.1437</td> <td> 4222.073</td> <td>    0.752</td> <td> 0.452</td> <td>-5107.091</td> <td> 1.15e+04</td>\n",
       "</tr>\n",
       "<tr>\n",
       "  <th>Gd</th>            <td> 1.268e+04</td> <td> 3018.782</td> <td>    4.200</td> <td> 0.000</td> <td> 6756.159</td> <td> 1.86e+04</td>\n",
       "</tr>\n",
       "<tr>\n",
       "  <th>Mn</th>            <td>-3824.1517</td> <td> 3027.670</td> <td>   -1.263</td> <td> 0.207</td> <td>-9764.102</td> <td> 2115.799</td>\n",
       "</tr>\n",
       "<tr>\n",
       "  <th>No</th>            <td>-6083.8983</td> <td> 2194.373</td> <td>   -2.772</td> <td> 0.006</td> <td>-1.04e+04</td> <td>-1778.783</td>\n",
       "</tr>\n",
       "<tr>\n",
       "  <th>None</th>          <td>-1.358e+04</td> <td> 2.34e+04</td> <td>   -0.581</td> <td> 0.561</td> <td>-5.94e+04</td> <td> 3.22e+04</td>\n",
       "</tr>\n",
       "<tr>\n",
       "  <th>BLQ</th>           <td> 2542.0553</td> <td> 2805.042</td> <td>    0.906</td> <td> 0.365</td> <td>-2961.123</td> <td> 8045.233</td>\n",
       "</tr>\n",
       "<tr>\n",
       "  <th>GLQ</th>           <td> 5170.8595</td> <td> 2527.718</td> <td>    2.046</td> <td> 0.041</td> <td>  211.759</td> <td> 1.01e+04</td>\n",
       "</tr>\n",
       "<tr>\n",
       "  <th>LwQ</th>           <td>-2868.8540</td> <td> 3771.236</td> <td>   -0.761</td> <td> 0.447</td> <td>-1.03e+04</td> <td> 4529.889</td>\n",
       "</tr>\n",
       "<tr>\n",
       "  <th>None</th>          <td> 1.296e+04</td> <td> 1.24e+04</td> <td>    1.048</td> <td> 0.295</td> <td>-1.13e+04</td> <td> 3.72e+04</td>\n",
       "</tr>\n",
       "<tr>\n",
       "  <th>Rec</th>           <td>   49.2268</td> <td> 2998.391</td> <td>    0.016</td> <td> 0.987</td> <td>-5833.281</td> <td> 5931.734</td>\n",
       "</tr>\n",
       "<tr>\n",
       "  <th>Unf</th>           <td> 3499.9170</td> <td> 2932.292</td> <td>    1.194</td> <td> 0.233</td> <td>-2252.912</td> <td> 9252.746</td>\n",
       "</tr>\n",
       "<tr>\n",
       "  <th>BLQ</th>           <td>-1.243e+04</td> <td> 7606.574</td> <td>   -1.635</td> <td> 0.102</td> <td>-2.74e+04</td> <td> 2489.251</td>\n",
       "</tr>\n",
       "<tr>\n",
       "  <th>GLQ</th>           <td>-1817.6968</td> <td> 9383.865</td> <td>   -0.194</td> <td> 0.846</td> <td>-2.02e+04</td> <td> 1.66e+04</td>\n",
       "</tr>\n",
       "<tr>\n",
       "  <th>LwQ</th>           <td>-1.444e+04</td> <td> 7411.595</td> <td>   -1.949</td> <td> 0.052</td> <td> -2.9e+04</td> <td>   95.743</td>\n",
       "</tr>\n",
       "<tr>\n",
       "  <th>None</th>          <td>-2.658e+04</td> <td> 2.53e+04</td> <td>   -1.049</td> <td> 0.294</td> <td>-7.63e+04</td> <td> 2.31e+04</td>\n",
       "</tr>\n",
       "<tr>\n",
       "  <th>Rec</th>           <td>-9638.5007</td> <td> 7139.371</td> <td>   -1.350</td> <td> 0.177</td> <td>-2.36e+04</td> <td> 4368.148</td>\n",
       "</tr>\n",
       "<tr>\n",
       "  <th>Unf</th>           <td>-8772.6745</td> <td> 7595.774</td> <td>   -1.155</td> <td> 0.248</td> <td>-2.37e+04</td> <td> 6129.386</td>\n",
       "</tr>\n",
       "<tr>\n",
       "  <th>GasA</th>          <td> 1.411e+04</td> <td> 2.54e+04</td> <td>    0.555</td> <td> 0.579</td> <td>-3.57e+04</td> <td>  6.4e+04</td>\n",
       "</tr>\n",
       "<tr>\n",
       "  <th>GasW</th>          <td> 9555.3893</td> <td> 2.61e+04</td> <td>    0.366</td> <td> 0.715</td> <td>-4.17e+04</td> <td> 6.08e+04</td>\n",
       "</tr>\n",
       "<tr>\n",
       "  <th>Grav</th>          <td> 5191.7671</td> <td> 2.76e+04</td> <td>    0.188</td> <td> 0.851</td> <td>-4.89e+04</td> <td> 5.93e+04</td>\n",
       "</tr>\n",
       "<tr>\n",
       "  <th>OthW</th>          <td>-1.453e+04</td> <td> 3.15e+04</td> <td>   -0.462</td> <td> 0.644</td> <td>-7.63e+04</td> <td> 4.72e+04</td>\n",
       "</tr>\n",
       "<tr>\n",
       "  <th>Wall</th>          <td> 2.958e+04</td> <td> 2.95e+04</td> <td>    1.003</td> <td> 0.316</td> <td>-2.83e+04</td> <td> 8.74e+04</td>\n",
       "</tr>\n",
       "<tr>\n",
       "  <th>Fa</th>            <td> 1286.7073</td> <td> 4696.920</td> <td>    0.274</td> <td> 0.784</td> <td>-7928.126</td> <td> 1.05e+04</td>\n",
       "</tr>\n",
       "<tr>\n",
       "  <th>Gd</th>            <td>-3457.7853</td> <td> 2078.752</td> <td>   -1.663</td> <td> 0.096</td> <td>-7536.065</td> <td>  620.495</td>\n",
       "</tr>\n",
       "<tr>\n",
       "  <th>Po</th>            <td> 4528.3405</td> <td> 2.68e+04</td> <td>    0.169</td> <td> 0.866</td> <td> -4.8e+04</td> <td>  5.7e+04</td>\n",
       "</tr>\n",
       "<tr>\n",
       "  <th>TA</th>            <td>-3617.9045</td> <td> 2067.687</td> <td>   -1.750</td> <td> 0.080</td> <td>-7674.476</td> <td>  438.667</td>\n",
       "</tr>\n",
       "<tr>\n",
       "  <th>Y</th>             <td> -656.2247</td> <td> 3880.756</td> <td>   -0.169</td> <td> 0.866</td> <td>-8269.834</td> <td> 6957.385</td>\n",
       "</tr>\n",
       "<tr>\n",
       "  <th>FuseF</th>         <td>  208.4995</td> <td> 5815.268</td> <td>    0.036</td> <td> 0.971</td> <td>-1.12e+04</td> <td> 1.16e+04</td>\n",
       "</tr>\n",
       "<tr>\n",
       "  <th>FuseP</th>         <td>-1.663e+04</td> <td> 1.73e+04</td> <td>   -0.962</td> <td> 0.336</td> <td>-5.05e+04</td> <td> 1.73e+04</td>\n",
       "</tr>\n",
       "<tr>\n",
       "  <th>Mix</th>           <td>-6.086e+04</td> <td> 4.03e+04</td> <td>   -1.509</td> <td> 0.132</td> <td> -1.4e+05</td> <td> 1.83e+04</td>\n",
       "</tr>\n",
       "<tr>\n",
       "  <th>SBrkr</th>         <td> -977.7593</td> <td> 2957.967</td> <td>   -0.331</td> <td> 0.741</td> <td>-6780.961</td> <td> 4825.442</td>\n",
       "</tr>\n",
       "<tr>\n",
       "  <th>Fa</th>            <td>-1.989e+04</td> <td> 6240.607</td> <td>   -3.187</td> <td> 0.001</td> <td>-3.21e+04</td> <td>-7644.773</td>\n",
       "</tr>\n",
       "<tr>\n",
       "  <th>Gd</th>            <td>-2.483e+04</td> <td> 3477.841</td> <td>   -7.139</td> <td> 0.000</td> <td>-3.16e+04</td> <td> -1.8e+04</td>\n",
       "</tr>\n",
       "<tr>\n",
       "  <th>TA</th>            <td>-2.271e+04</td> <td> 3923.068</td> <td>   -5.788</td> <td> 0.000</td> <td>-3.04e+04</td> <td> -1.5e+04</td>\n",
       "</tr>\n",
       "<tr>\n",
       "  <th>Maj2</th>          <td>-1627.1131</td> <td> 1.45e+04</td> <td>   -0.112</td> <td> 0.911</td> <td>-3.02e+04</td> <td> 2.69e+04</td>\n",
       "</tr>\n",
       "<tr>\n",
       "  <th>Min1</th>          <td> 8450.1892</td> <td> 8683.351</td> <td>    0.973</td> <td> 0.331</td> <td>-8585.576</td> <td> 2.55e+04</td>\n",
       "</tr>\n",
       "<tr>\n",
       "  <th>Min2</th>          <td> 1.117e+04</td> <td> 8662.485</td> <td>    1.289</td> <td> 0.198</td> <td>-5827.735</td> <td> 2.82e+04</td>\n",
       "</tr>\n",
       "<tr>\n",
       "  <th>Mod</th>           <td>-1953.8729</td> <td> 1.05e+04</td> <td>   -0.186</td> <td> 0.852</td> <td>-2.26e+04</td> <td> 1.87e+04</td>\n",
       "</tr>\n",
       "<tr>\n",
       "  <th>Sev</th>           <td>-4.973e+04</td> <td> 2.97e+04</td> <td>   -1.675</td> <td> 0.094</td> <td>-1.08e+05</td> <td> 8523.331</td>\n",
       "</tr>\n",
       "<tr>\n",
       "  <th>Typ</th>           <td> 2.006e+04</td> <td> 7517.685</td> <td>    2.668</td> <td> 0.008</td> <td> 5307.901</td> <td> 3.48e+04</td>\n",
       "</tr>\n",
       "<tr>\n",
       "  <th>Fa</th>            <td> -700.1931</td> <td> 6888.966</td> <td>   -0.102</td> <td> 0.919</td> <td>-1.42e+04</td> <td> 1.28e+04</td>\n",
       "</tr>\n",
       "<tr>\n",
       "  <th>Gd</th>            <td> 3133.1388</td> <td> 5337.373</td> <td>    0.587</td> <td> 0.557</td> <td>-7338.191</td> <td> 1.36e+04</td>\n",
       "</tr>\n",
       "<tr>\n",
       "  <th>None</th>          <td> 9953.6592</td> <td> 6241.143</td> <td>    1.595</td> <td> 0.111</td> <td>-2290.766</td> <td> 2.22e+04</td>\n",
       "</tr>\n",
       "<tr>\n",
       "  <th>Po</th>            <td> 9781.2322</td> <td> 7875.113</td> <td>    1.242</td> <td> 0.214</td> <td>-5668.859</td> <td> 2.52e+04</td>\n",
       "</tr>\n",
       "<tr>\n",
       "  <th>TA</th>            <td> 4589.7128</td> <td> 5537.851</td> <td>    0.829</td> <td> 0.407</td> <td>-6274.932</td> <td> 1.55e+04</td>\n",
       "</tr>\n",
       "<tr>\n",
       "  <th>Attchd</th>        <td>  2.04e+04</td> <td> 1.11e+04</td> <td>    1.843</td> <td> 0.066</td> <td>-1314.464</td> <td> 4.21e+04</td>\n",
       "</tr>\n",
       "<tr>\n",
       "  <th>Basment</th>       <td> 2.167e+04</td> <td> 1.27e+04</td> <td>    1.709</td> <td> 0.088</td> <td>-3213.526</td> <td> 4.66e+04</td>\n",
       "</tr>\n",
       "<tr>\n",
       "  <th>BuiltIn</th>       <td> 1.894e+04</td> <td> 1.15e+04</td> <td>    1.644</td> <td> 0.100</td> <td>-3656.988</td> <td> 4.15e+04</td>\n",
       "</tr>\n",
       "<tr>\n",
       "  <th>CarPort</th>       <td> 2.383e+04</td> <td> 1.47e+04</td> <td>    1.619</td> <td> 0.106</td> <td>-5050.145</td> <td> 5.27e+04</td>\n",
       "</tr>\n",
       "<tr>\n",
       "  <th>Detchd</th>        <td> 2.307e+04</td> <td> 1.11e+04</td> <td>    2.082</td> <td> 0.038</td> <td> 1328.947</td> <td> 4.48e+04</td>\n",
       "</tr>\n",
       "<tr>\n",
       "  <th>None</th>          <td> 1.354e+04</td> <td> 6125.635</td> <td>    2.211</td> <td> 0.027</td> <td> 1524.779</td> <td> 2.56e+04</td>\n",
       "</tr>\n",
       "<tr>\n",
       "  <th>None</th>          <td> 1.354e+04</td> <td> 6125.635</td> <td>    2.211</td> <td> 0.027</td> <td> 1524.779</td> <td> 2.56e+04</td>\n",
       "</tr>\n",
       "<tr>\n",
       "  <th>RFn</th>           <td>-2408.2369</td> <td> 1969.441</td> <td>   -1.223</td> <td> 0.222</td> <td>-6272.060</td> <td> 1455.586</td>\n",
       "</tr>\n",
       "<tr>\n",
       "  <th>Unf</th>           <td>  523.3180</td> <td> 2437.474</td> <td>    0.215</td> <td> 0.830</td> <td>-4258.734</td> <td> 5305.370</td>\n",
       "</tr>\n",
       "<tr>\n",
       "  <th>P</th>             <td>-3197.1896</td> <td> 5469.901</td> <td>   -0.585</td> <td> 0.559</td> <td>-1.39e+04</td> <td> 7534.146</td>\n",
       "</tr>\n",
       "<tr>\n",
       "  <th>Y</th>             <td> -155.5977</td> <td> 3435.826</td> <td>   -0.045</td> <td> 0.964</td> <td>-6896.305</td> <td> 6585.109</td>\n",
       "</tr>\n",
       "<tr>\n",
       "  <th>CWD</th>           <td> 1.929e+04</td> <td>  1.3e+04</td> <td>    1.486</td> <td> 0.137</td> <td>-6173.225</td> <td> 4.48e+04</td>\n",
       "</tr>\n",
       "<tr>\n",
       "  <th>Con</th>           <td> 3.173e+04</td> <td> 1.78e+04</td> <td>    1.787</td> <td> 0.074</td> <td>-3108.186</td> <td> 6.66e+04</td>\n",
       "</tr>\n",
       "<tr>\n",
       "  <th>ConLD</th>         <td> 1.724e+04</td> <td> 9765.318</td> <td>    1.765</td> <td> 0.078</td> <td>-1922.575</td> <td> 3.64e+04</td>\n",
       "</tr>\n",
       "<tr>\n",
       "  <th>ConLI</th>         <td> 4246.6674</td> <td> 1.16e+04</td> <td>    0.365</td> <td> 0.715</td> <td>-1.86e+04</td> <td> 2.71e+04</td>\n",
       "</tr>\n",
       "<tr>\n",
       "  <th>ConLw</th>         <td> 3183.1607</td> <td> 1.22e+04</td> <td>    0.261</td> <td> 0.794</td> <td>-2.08e+04</td> <td> 2.71e+04</td>\n",
       "</tr>\n",
       "<tr>\n",
       "  <th>New</th>           <td> 2.815e+04</td> <td> 1.55e+04</td> <td>    1.811</td> <td> 0.070</td> <td>-2337.681</td> <td> 5.86e+04</td>\n",
       "</tr>\n",
       "<tr>\n",
       "  <th>Oth</th>           <td> 9166.1099</td> <td> 1.45e+04</td> <td>    0.630</td> <td> 0.528</td> <td>-1.94e+04</td> <td> 3.77e+04</td>\n",
       "</tr>\n",
       "<tr>\n",
       "  <th>WD</th>            <td>  637.7745</td> <td> 4210.205</td> <td>    0.151</td> <td> 0.880</td> <td>-7622.177</td> <td> 8897.726</td>\n",
       "</tr>\n",
       "<tr>\n",
       "  <th>AdjLand</th>       <td> 1.005e+04</td> <td> 1.45e+04</td> <td>    0.692</td> <td> 0.489</td> <td>-1.84e+04</td> <td> 3.85e+04</td>\n",
       "</tr>\n",
       "<tr>\n",
       "  <th>Alloca</th>        <td> 7947.9257</td> <td> 8632.429</td> <td>    0.921</td> <td> 0.357</td> <td>-8987.936</td> <td> 2.49e+04</td>\n",
       "</tr>\n",
       "<tr>\n",
       "  <th>Family</th>        <td>-1045.0145</td> <td> 6139.346</td> <td>   -0.170</td> <td> 0.865</td> <td>-1.31e+04</td> <td>  1.1e+04</td>\n",
       "</tr>\n",
       "<tr>\n",
       "  <th>Normal</th>        <td> 5473.4666</td> <td> 2898.170</td> <td>    1.889</td> <td> 0.059</td> <td> -212.419</td> <td> 1.12e+04</td>\n",
       "</tr>\n",
       "<tr>\n",
       "  <th>Partial</th>       <td>-7060.5804</td> <td>  1.5e+04</td> <td>   -0.472</td> <td> 0.637</td> <td>-3.64e+04</td> <td> 2.23e+04</td>\n",
       "</tr>\n",
       "</table>\n",
       "<table class=\"simpletable\">\n",
       "<tr>\n",
       "  <th>Omnibus:</th>       <td>405.061</td> <th>  Durbin-Watson:     </th> <td>   1.929</td> \n",
       "</tr>\n",
       "<tr>\n",
       "  <th>Prob(Omnibus):</th> <td> 0.000</td>  <th>  Jarque-Bera (JB):  </th> <td>14125.074</td>\n",
       "</tr>\n",
       "<tr>\n",
       "  <th>Skew:</th>          <td> 0.596</td>  <th>  Prob(JB):          </th> <td>    0.00</td> \n",
       "</tr>\n",
       "<tr>\n",
       "  <th>Kurtosis:</th>      <td>18.196</td>  <th>  Cond. No.          </th> <td>8.15e+16</td> \n",
       "</tr>\n",
       "</table><br/><br/>Warnings:<br/>[1] Standard Errors assume that the covariance matrix of the errors is correctly specified.<br/>[2] The smallest eigenvalue is 4.89e-23. This might indicate that there are<br/>strong multicollinearity problems or that the design matrix is singular."
      ],
      "text/plain": [
       "<class 'statsmodels.iolib.summary.Summary'>\n",
       "\"\"\"\n",
       "                            OLS Regression Results                            \n",
       "==============================================================================\n",
       "Dep. Variable:              saleprice   R-squared:                       0.929\n",
       "Model:                            OLS   Adj. R-squared:                  0.916\n",
       "Method:                 Least Squares   F-statistic:                     72.33\n",
       "Date:                Mon, 31 Aug 2020   Prob (F-statistic):               0.00\n",
       "Time:                        16:15:21   Log-Likelihood:                -16600.\n",
       "No. Observations:                1459   AIC:                         3.365e+04\n",
       "Df Residuals:                    1234   BIC:                         3.484e+04\n",
       "Df Model:                         224                                         \n",
       "Covariance Type:            nonrobust                                         \n",
       "=================================================================================\n",
       "                    coef    std err          t      P>|t|      [0.025      0.975]\n",
       "---------------------------------------------------------------------------------\n",
       "const         -8.194e+05   1.05e+06     -0.779      0.436   -2.88e+06    1.25e+06\n",
       "mssubclass       -0.9465     81.574     -0.012      0.991    -160.986     159.093\n",
       "lotfrontage      40.7739     41.959      0.972      0.331     -41.545     123.093\n",
       "lotarea           0.7543      0.109      6.890      0.000       0.540       0.969\n",
       "overallqual    6943.9227   1016.423      6.832      0.000    4949.814    8938.031\n",
       "overallcond    5959.6384    872.249      6.832      0.000    4248.383    7670.894\n",
       "yearbuilt       335.6633     77.263      4.344      0.000     184.081     487.245\n",
       "yearremodadd    100.0175     55.380      1.806      0.071      -8.633     208.668\n",
       "masvnrarea       18.9795      5.776      3.286      0.001       7.649      30.310\n",
       "bsmtfinsf1       17.1622      2.896      5.926      0.000      11.480      22.844\n",
       "bsmtfinsf2        6.5395      5.998      1.090      0.276      -5.228      18.307\n",
       "bsmtunfsf        -1.6734      2.776     -0.603      0.547      -7.119       3.772\n",
       "totalbsmtsf      22.0282      4.070      5.412      0.000      14.043      30.014\n",
       "firstflrsf       12.8223      6.222      2.061      0.040       0.615      25.029\n",
       "secondflrsf      33.0497      5.452      6.062      0.000      22.353      43.747\n",
       "lowqualfinsf    -10.9910     13.466     -0.816      0.415     -37.409      15.427\n",
       "grlivarea        34.8806      5.481      6.364      0.000      24.127      45.634\n",
       "bsmtfullbath    666.8708   1985.796      0.336      0.737   -3229.039    4562.780\n",
       "bsmthalfbath   -985.7100   3033.854     -0.325      0.745   -6937.792    4966.372\n",
       "fullbath       3132.6199   2208.427      1.418      0.156   -1200.067    7465.307\n",
       "halfbath       1252.5421   2098.675      0.597      0.551   -2864.823    5369.907\n",
       "bedroomabvgr  -3804.2996   1368.574     -2.780      0.006   -6489.289   -1119.310\n",
       "kitchenabvgr  -1.398e+04   5621.863     -2.487      0.013    -2.5e+04   -2953.485\n",
       "totrmsabvgrd   1191.7514    951.890      1.252      0.211    -675.750    3059.253\n",
       "fireplaces     7162.5957   2560.430      2.797      0.005    2139.318    1.22e+04\n",
       "garageyrblt      23.3912     58.896      0.397      0.691     -92.155     138.938\n",
       "garagearea       28.0341      5.842      4.799      0.000      16.573      39.496\n",
       "wooddecksf       12.8161      5.869      2.184      0.029       1.302      24.330\n",
       "openporchsf       2.9579     11.540      0.256      0.798     -19.682      25.598\n",
       "enclosedporch     5.1479     12.442      0.414      0.679     -19.262      29.558\n",
       "threessnporch    32.3784     22.603      1.433      0.152     -11.966      76.722\n",
       "screenporch      34.9838     12.130      2.884      0.004      11.186      58.782\n",
       "poolarea         79.8529     18.408      4.338      0.000      43.739     115.967\n",
       "miscval           0.1297      1.425      0.091      0.927      -2.666       2.925\n",
       "mosold         -446.7559    245.992     -1.816      0.070    -929.365      35.853\n",
       "yrsold         -434.9908    516.247     -0.843      0.400   -1447.810     577.828\n",
       "FV             3.017e+04    1.2e+04      2.517      0.012    6649.093    5.37e+04\n",
       "RH             2.301e+04    1.2e+04      1.924      0.055    -452.890    4.65e+04\n",
       "RL             2.511e+04   1.02e+04      2.457      0.014    5062.485    4.52e+04\n",
       "RM             2.171e+04   9573.463      2.268      0.024    2929.334    4.05e+04\n",
       "Pave            3.31e+04   1.21e+04      2.725      0.007    9266.700    5.69e+04\n",
       "IR2            7520.5015   4171.024      1.803      0.072    -662.581    1.57e+04\n",
       "IR3            7612.8013   8926.071      0.853      0.394   -9899.152    2.51e+04\n",
       "Reg              18.8144   1561.293      0.012      0.990   -3044.267    3081.896\n",
       "HLS            8985.7593   5163.957      1.740      0.082   -1145.347    1.91e+04\n",
       "Low           -1.186e+04   6423.511     -1.846      0.065   -2.45e+04     747.171\n",
       "Lvl            6106.4351   3698.044      1.651      0.099   -1148.714    1.34e+04\n",
       "Mod            7209.0153   4001.447      1.802      0.072    -641.377    1.51e+04\n",
       "Sev           -4.228e+04   1.15e+04     -3.669      0.000   -6.49e+04   -1.97e+04\n",
       "Blueste          56.5302   1.92e+04      0.003      0.998   -3.76e+04    3.77e+04\n",
       "BrDale        -1019.9709    1.1e+04     -0.093      0.926   -2.26e+04    2.06e+04\n",
       "BrkSide       -4627.1290   9466.593     -0.489      0.625   -2.32e+04    1.39e+04\n",
       "ClearCr       -1.736e+04   9294.801     -1.867      0.062   -3.56e+04     880.262\n",
       "CollgCr       -1.157e+04   7288.929     -1.588      0.113   -2.59e+04    2725.644\n",
       "Crawfor        9001.4337   8602.133      1.046      0.296   -7874.990    2.59e+04\n",
       "Edwards       -2.089e+04   8028.126     -2.602      0.009   -3.66e+04   -5135.603\n",
       "Gilbert        -1.17e+04   7747.773     -1.510      0.131   -2.69e+04    3502.657\n",
       "IDOTRR        -1.135e+04   1.07e+04     -1.065      0.287   -3.23e+04    9567.326\n",
       "MeadowV       -6680.7746   1.12e+04     -0.595      0.552   -2.87e+04    1.53e+04\n",
       "Mitchel       -2.185e+04   8212.216     -2.661      0.008    -3.8e+04   -5737.375\n",
       "NAmes         -1.758e+04   7842.906     -2.242      0.025    -3.3e+04   -2194.796\n",
       "NPkVill        1.406e+04   1.42e+04      0.989      0.323   -1.38e+04     4.2e+04\n",
       "NWAmes        -1.855e+04   8048.743     -2.305      0.021   -3.43e+04   -2763.820\n",
       "NoRidge        2.429e+04   8475.480      2.866      0.004    7660.381    4.09e+04\n",
       "NridgHt        1.508e+04   7535.227      2.002      0.046     298.704    2.99e+04\n",
       "OldTown       -1.484e+04   9613.308     -1.543      0.123   -3.37e+04    4022.168\n",
       "SWISU         -1.057e+04   9726.904     -1.086      0.278   -2.96e+04    8516.551\n",
       "Sawyer        -1.102e+04   8182.650     -1.347      0.178   -2.71e+04    5032.913\n",
       "SawyerW       -4879.0308   7843.926     -0.622      0.534   -2.03e+04    1.05e+04\n",
       "Somerst       -2376.4321   9067.989     -0.262      0.793   -2.02e+04    1.54e+04\n",
       "StoneBr          3.8e+04   8371.580      4.539      0.000    2.16e+04    5.44e+04\n",
       "Timber        -1.223e+04   8197.432     -1.492      0.136   -2.83e+04    3855.493\n",
       "Veenker       -2045.9319   1.05e+04     -0.195      0.846   -2.27e+04    1.86e+04\n",
       "Feedr          1802.5256   4926.603      0.366      0.715   -7862.919    1.15e+04\n",
       "Norm           1.203e+04   4092.642      2.940      0.003    4001.360    2.01e+04\n",
       "PosA           2330.4671      1e+04      0.232      0.816   -1.73e+04     2.2e+04\n",
       "PosN           1.055e+04   7389.610      1.428      0.154   -3948.809     2.5e+04\n",
       "RRAe          -1.709e+04   9086.423     -1.881      0.060   -3.49e+04     732.391\n",
       "RRAn           6106.2738   6844.584      0.892      0.372   -7322.035    1.95e+04\n",
       "RRNe          -1674.5684   1.77e+04     -0.095      0.924   -3.63e+04     3.3e+04\n",
       "RRNn           1307.1622   1.26e+04      0.104      0.918   -2.35e+04    2.61e+04\n",
       "Feedr         -7750.5117   2.29e+04     -0.339      0.735   -5.27e+04    3.72e+04\n",
       "Norm          -4792.1401   1.97e+04     -0.243      0.808   -4.35e+04    3.39e+04\n",
       "PosA           3.088e+04   3.71e+04      0.832      0.406   -4.19e+04    1.04e+05\n",
       "PosN          -2.405e+05   2.73e+04     -8.799      0.000   -2.94e+05   -1.87e+05\n",
       "RRAe          -1.274e+05   4.62e+04     -2.760      0.006   -2.18e+05   -3.68e+04\n",
       "RRAn           -1.72e+04   3.14e+04     -0.548      0.584   -7.88e+04    4.44e+04\n",
       "RRNn           -313.8369   2.67e+04     -0.012      0.991   -5.26e+04     5.2e+04\n",
       "2fmCon        -8573.6879   1.23e+04     -0.695      0.487   -3.28e+04    1.56e+04\n",
       "Duplex        -9479.4330   7303.467     -1.298      0.195   -2.38e+04    4849.152\n",
       "Twnhs         -2.382e+04   9902.738     -2.405      0.016   -4.32e+04   -4387.514\n",
       "TwnhsE        -1.945e+04   8901.750     -2.185      0.029   -3.69e+04   -1981.843\n",
       "1.5Unf         1.316e+04   7741.652      1.700      0.089   -2030.113    2.83e+04\n",
       "1Story         9195.0378   4323.764      2.127      0.034     712.296    1.77e+04\n",
       "2.5Fin        -1.755e+04   1.22e+04     -1.442      0.150   -4.14e+04    6323.438\n",
       "2.5Unf        -8043.0316   9166.241     -0.877      0.380    -2.6e+04    9940.110\n",
       "2Story        -5939.5051   3505.089     -1.695      0.090   -1.28e+04     937.089\n",
       "SFoyer         2711.3097   6272.580      0.432      0.666   -9594.791     1.5e+04\n",
       "SLvl           2591.0967   5541.858      0.468      0.640   -8281.409    1.35e+04\n",
       "Gable          4895.5128   1.86e+04      0.264      0.792   -3.15e+04    4.13e+04\n",
       "Gambrel        8325.4336   2.03e+04      0.411      0.681   -3.14e+04    4.81e+04\n",
       "Hip            4921.2681   1.86e+04      0.264      0.792   -3.16e+04    4.15e+04\n",
       "Mansard        1.836e+04   2.16e+04      0.851      0.395    -2.4e+04    6.07e+04\n",
       "Shed           9.929e+04    3.5e+04      2.836      0.005    3.06e+04    1.68e+05\n",
       "CompShg        6.972e+05   3.34e+04     20.895      0.000    6.32e+05    7.63e+05\n",
       "Membran        8.001e+05   4.79e+04     16.721      0.000    7.06e+05    8.94e+05\n",
       "Metal          7.699e+05   4.68e+04     16.436      0.000    6.78e+05    8.62e+05\n",
       "Roll           6.902e+05   4.15e+04     16.639      0.000    6.09e+05    7.72e+05\n",
       "Tar&Grv        7.043e+05   3.82e+04     18.437      0.000    6.29e+05    7.79e+05\n",
       "WdShake        6.879e+05    3.7e+04     18.578      0.000    6.15e+05    7.61e+05\n",
       "WdShngl        7.644e+05   3.45e+04     22.157      0.000    6.97e+05    8.32e+05\n",
       "AsphShn       -2.505e+04   3.34e+04     -0.750      0.453   -9.06e+04    4.05e+04\n",
       "BrkComm       -1.338e+04   2.79e+04     -0.480      0.632   -6.81e+04    4.13e+04\n",
       "BrkFace        5728.0338   1.28e+04      0.449      0.654   -1.93e+04    3.08e+04\n",
       "CBlock        -9693.2408   1.37e+04     -0.707      0.480   -3.66e+04    1.72e+04\n",
       "CemntBd       -1.342e+04   1.91e+04     -0.703      0.482   -5.08e+04     2.4e+04\n",
       "HdBoard       -1.537e+04   1.29e+04     -1.191      0.234   -4.07e+04    9944.192\n",
       "ImStucc       -4.076e+04    2.8e+04     -1.454      0.146   -9.57e+04    1.42e+04\n",
       "MetalSd       -7725.9151   1.46e+04     -0.528      0.598   -3.64e+04     2.1e+04\n",
       "Plywood        -1.87e+04   1.28e+04     -1.464      0.143   -4.38e+04    6361.060\n",
       "Stone         -5240.3792   2.44e+04     -0.215      0.830   -5.31e+04    4.26e+04\n",
       "Stucco        -8983.8312   1.41e+04     -0.639      0.523   -3.66e+04    1.86e+04\n",
       "VinylSd       -1.541e+04   1.33e+04     -1.161      0.246   -4.15e+04    1.06e+04\n",
       "Wd Sdng       -1.537e+04   1.23e+04     -1.246      0.213   -3.96e+04    8825.051\n",
       "WdShing       -1.171e+04   1.33e+04     -0.880      0.379   -3.78e+04    1.44e+04\n",
       "AsphShn        6865.5667   2.24e+04      0.307      0.759    -3.7e+04    5.07e+04\n",
       "Brk Cmn        9057.8444   2.03e+04      0.447      0.655   -3.07e+04    4.88e+04\n",
       "BrkFace        4105.0980   1.33e+04      0.310      0.757   -2.19e+04    3.01e+04\n",
       "CBlock        -9693.2408   1.37e+04     -0.707      0.480   -3.66e+04    1.72e+04\n",
       "CmentBd        1.183e+04   1.88e+04      0.630      0.529    -2.5e+04    4.87e+04\n",
       "HdBoard        9279.1462   1.24e+04      0.748      0.455   -1.51e+04    3.36e+04\n",
       "ImStucc        2.683e+04   1.43e+04      1.880      0.060   -1166.921    5.48e+04\n",
       "MetalSd        6065.4216   1.43e+04      0.425      0.671   -2.19e+04    3.41e+04\n",
       "Other         -1.811e+04   2.74e+04     -0.661      0.509   -7.19e+04    3.57e+04\n",
       "Plywood        8749.7753   1.21e+04      0.725      0.468   -1.49e+04    3.24e+04\n",
       "Stone         -9645.0867   1.71e+04     -0.564      0.573   -4.32e+04    2.39e+04\n",
       "Stucco         8385.3608   1.36e+04      0.619      0.536   -1.82e+04     3.5e+04\n",
       "VinylSd        1.313e+04   1.28e+04      1.024      0.306    -1.2e+04    3.83e+04\n",
       "Wd Sdng        1.203e+04   1.19e+04      1.008      0.314   -1.14e+04    3.54e+04\n",
       "Wd Shng        7171.1820   1.24e+04      0.579      0.562   -1.71e+04    3.15e+04\n",
       "BrkFace        4932.8312   6865.637      0.718      0.473   -8536.781    1.84e+04\n",
       "None           7775.3626   6924.532      1.123      0.262   -5809.795    2.14e+04\n",
       "Stone          1.006e+04   7260.410      1.386      0.166   -4182.019    2.43e+04\n",
       "Fa            -6465.9117    1.1e+04     -0.587      0.557   -2.81e+04    1.51e+04\n",
       "Gd            -1.955e+04   4816.902     -4.058      0.000    -2.9e+04   -1.01e+04\n",
       "TA            -2.034e+04   5323.521     -3.821      0.000   -3.08e+04   -9895.221\n",
       "Fa            -5767.0764   1.82e+04     -0.317      0.752   -4.15e+04       3e+04\n",
       "Gd            -8765.9286   1.74e+04     -0.504      0.615   -4.29e+04    2.54e+04\n",
       "Po             1176.9927   3.17e+04      0.037      0.970   -6.09e+04    6.33e+04\n",
       "TA            -7014.3533   1.74e+04     -0.404      0.686   -4.11e+04    2.71e+04\n",
       "CBlock         3214.7060   3173.597      1.013      0.311   -3011.537    9440.949\n",
       "PConc          3608.1661   3423.884      1.054      0.292   -3109.111    1.03e+04\n",
       "Slab          -9342.7693   1.01e+04     -0.925      0.355   -2.92e+04    1.05e+04\n",
       "Stone          6846.0672   1.08e+04      0.632      0.528   -1.44e+04    2.81e+04\n",
       "Wood          -3.155e+04   1.49e+04     -2.121      0.034   -6.07e+04   -2364.437\n",
       "Fa             -1.33e+04   6356.476     -2.092      0.037   -2.58e+04    -824.980\n",
       "Gd            -1.828e+04   3365.517     -5.431      0.000   -2.49e+04   -1.17e+04\n",
       "None           1.296e+04   1.24e+04      1.048      0.295   -1.13e+04    3.72e+04\n",
       "TA            -1.508e+04   4134.891     -3.647      0.000   -2.32e+04   -6966.095\n",
       "Gd             -118.1134   5275.649     -0.022      0.982   -1.05e+04    1.02e+04\n",
       "None           1.296e+04   1.24e+04      1.048      0.295   -1.13e+04    3.72e+04\n",
       "Po             7.245e+04   3.02e+04      2.400      0.017    1.32e+04    1.32e+05\n",
       "TA             3176.1437   4222.073      0.752      0.452   -5107.091    1.15e+04\n",
       "Gd             1.268e+04   3018.782      4.200      0.000    6756.159    1.86e+04\n",
       "Mn            -3824.1517   3027.670     -1.263      0.207   -9764.102    2115.799\n",
       "No            -6083.8983   2194.373     -2.772      0.006   -1.04e+04   -1778.783\n",
       "None          -1.358e+04   2.34e+04     -0.581      0.561   -5.94e+04    3.22e+04\n",
       "BLQ            2542.0553   2805.042      0.906      0.365   -2961.123    8045.233\n",
       "GLQ            5170.8595   2527.718      2.046      0.041     211.759    1.01e+04\n",
       "LwQ           -2868.8540   3771.236     -0.761      0.447   -1.03e+04    4529.889\n",
       "None           1.296e+04   1.24e+04      1.048      0.295   -1.13e+04    3.72e+04\n",
       "Rec              49.2268   2998.391      0.016      0.987   -5833.281    5931.734\n",
       "Unf            3499.9170   2932.292      1.194      0.233   -2252.912    9252.746\n",
       "BLQ           -1.243e+04   7606.574     -1.635      0.102   -2.74e+04    2489.251\n",
       "GLQ           -1817.6968   9383.865     -0.194      0.846   -2.02e+04    1.66e+04\n",
       "LwQ           -1.444e+04   7411.595     -1.949      0.052    -2.9e+04      95.743\n",
       "None          -2.658e+04   2.53e+04     -1.049      0.294   -7.63e+04    2.31e+04\n",
       "Rec           -9638.5007   7139.371     -1.350      0.177   -2.36e+04    4368.148\n",
       "Unf           -8772.6745   7595.774     -1.155      0.248   -2.37e+04    6129.386\n",
       "GasA           1.411e+04   2.54e+04      0.555      0.579   -3.57e+04     6.4e+04\n",
       "GasW           9555.3893   2.61e+04      0.366      0.715   -4.17e+04    6.08e+04\n",
       "Grav           5191.7671   2.76e+04      0.188      0.851   -4.89e+04    5.93e+04\n",
       "OthW          -1.453e+04   3.15e+04     -0.462      0.644   -7.63e+04    4.72e+04\n",
       "Wall           2.958e+04   2.95e+04      1.003      0.316   -2.83e+04    8.74e+04\n",
       "Fa             1286.7073   4696.920      0.274      0.784   -7928.126    1.05e+04\n",
       "Gd            -3457.7853   2078.752     -1.663      0.096   -7536.065     620.495\n",
       "Po             4528.3405   2.68e+04      0.169      0.866    -4.8e+04     5.7e+04\n",
       "TA            -3617.9045   2067.687     -1.750      0.080   -7674.476     438.667\n",
       "Y              -656.2247   3880.756     -0.169      0.866   -8269.834    6957.385\n",
       "FuseF           208.4995   5815.268      0.036      0.971   -1.12e+04    1.16e+04\n",
       "FuseP         -1.663e+04   1.73e+04     -0.962      0.336   -5.05e+04    1.73e+04\n",
       "Mix           -6.086e+04   4.03e+04     -1.509      0.132    -1.4e+05    1.83e+04\n",
       "SBrkr          -977.7593   2957.967     -0.331      0.741   -6780.961    4825.442\n",
       "Fa            -1.989e+04   6240.607     -3.187      0.001   -3.21e+04   -7644.773\n",
       "Gd            -2.483e+04   3477.841     -7.139      0.000   -3.16e+04    -1.8e+04\n",
       "TA            -2.271e+04   3923.068     -5.788      0.000   -3.04e+04    -1.5e+04\n",
       "Maj2          -1627.1131   1.45e+04     -0.112      0.911   -3.02e+04    2.69e+04\n",
       "Min1           8450.1892   8683.351      0.973      0.331   -8585.576    2.55e+04\n",
       "Min2           1.117e+04   8662.485      1.289      0.198   -5827.735    2.82e+04\n",
       "Mod           -1953.8729   1.05e+04     -0.186      0.852   -2.26e+04    1.87e+04\n",
       "Sev           -4.973e+04   2.97e+04     -1.675      0.094   -1.08e+05    8523.331\n",
       "Typ            2.006e+04   7517.685      2.668      0.008    5307.901    3.48e+04\n",
       "Fa             -700.1931   6888.966     -0.102      0.919   -1.42e+04    1.28e+04\n",
       "Gd             3133.1388   5337.373      0.587      0.557   -7338.191    1.36e+04\n",
       "None           9953.6592   6241.143      1.595      0.111   -2290.766    2.22e+04\n",
       "Po             9781.2322   7875.113      1.242      0.214   -5668.859    2.52e+04\n",
       "TA             4589.7128   5537.851      0.829      0.407   -6274.932    1.55e+04\n",
       "Attchd          2.04e+04   1.11e+04      1.843      0.066   -1314.464    4.21e+04\n",
       "Basment        2.167e+04   1.27e+04      1.709      0.088   -3213.526    4.66e+04\n",
       "BuiltIn        1.894e+04   1.15e+04      1.644      0.100   -3656.988    4.15e+04\n",
       "CarPort        2.383e+04   1.47e+04      1.619      0.106   -5050.145    5.27e+04\n",
       "Detchd         2.307e+04   1.11e+04      2.082      0.038    1328.947    4.48e+04\n",
       "None           1.354e+04   6125.635      2.211      0.027    1524.779    2.56e+04\n",
       "None           1.354e+04   6125.635      2.211      0.027    1524.779    2.56e+04\n",
       "RFn           -2408.2369   1969.441     -1.223      0.222   -6272.060    1455.586\n",
       "Unf             523.3180   2437.474      0.215      0.830   -4258.734    5305.370\n",
       "P             -3197.1896   5469.901     -0.585      0.559   -1.39e+04    7534.146\n",
       "Y              -155.5977   3435.826     -0.045      0.964   -6896.305    6585.109\n",
       "CWD            1.929e+04    1.3e+04      1.486      0.137   -6173.225    4.48e+04\n",
       "Con            3.173e+04   1.78e+04      1.787      0.074   -3108.186    6.66e+04\n",
       "ConLD          1.724e+04   9765.318      1.765      0.078   -1922.575    3.64e+04\n",
       "ConLI          4246.6674   1.16e+04      0.365      0.715   -1.86e+04    2.71e+04\n",
       "ConLw          3183.1607   1.22e+04      0.261      0.794   -2.08e+04    2.71e+04\n",
       "New            2.815e+04   1.55e+04      1.811      0.070   -2337.681    5.86e+04\n",
       "Oth            9166.1099   1.45e+04      0.630      0.528   -1.94e+04    3.77e+04\n",
       "WD              637.7745   4210.205      0.151      0.880   -7622.177    8897.726\n",
       "AdjLand        1.005e+04   1.45e+04      0.692      0.489   -1.84e+04    3.85e+04\n",
       "Alloca         7947.9257   8632.429      0.921      0.357   -8987.936    2.49e+04\n",
       "Family        -1045.0145   6139.346     -0.170      0.865   -1.31e+04     1.1e+04\n",
       "Normal         5473.4666   2898.170      1.889      0.059    -212.419    1.12e+04\n",
       "Partial       -7060.5804    1.5e+04     -0.472      0.637   -3.64e+04    2.23e+04\n",
       "==============================================================================\n",
       "Omnibus:                      405.061   Durbin-Watson:                   1.929\n",
       "Prob(Omnibus):                  0.000   Jarque-Bera (JB):            14125.074\n",
       "Skew:                           0.596   Prob(JB):                         0.00\n",
       "Kurtosis:                      18.196   Cond. No.                     8.15e+16\n",
       "==============================================================================\n",
       "\n",
       "Warnings:\n",
       "[1] Standard Errors assume that the covariance matrix of the errors is correctly specified.\n",
       "[2] The smallest eigenvalue is 4.89e-23. This might indicate that there are\n",
       "strong multicollinearity problems or that the design matrix is singular.\n",
       "\"\"\""
      ]
     },
     "execution_count": 37,
     "metadata": {},
     "output_type": "execute_result"
    },
    {
     "data": {
      "application/javascript": [
       "\n",
       "            setTimeout(function() {\n",
       "                var nbb_cell_id = 37;\n",
       "                var nbb_unformatted_code = \"results.summary()\";\n",
       "                var nbb_formatted_code = \"results.summary()\";\n",
       "                var nbb_cells = Jupyter.notebook.get_cells();\n",
       "                for (var i = 0; i < nbb_cells.length; ++i) {\n",
       "                    if (nbb_cells[i].input_prompt_number == nbb_cell_id) {\n",
       "                        if (nbb_cells[i].get_text() == nbb_unformatted_code) {\n",
       "                             nbb_cells[i].set_text(nbb_formatted_code);\n",
       "                        }\n",
       "                        break;\n",
       "                    }\n",
       "                }\n",
       "            }, 500);\n",
       "            "
      ],
      "text/plain": [
       "<IPython.core.display.Javascript object>"
      ]
     },
     "metadata": {},
     "output_type": "display_data"
    }
   ],
   "source": [
    "results.summary()\n",
    "#there is a lot of colinearity in this model. Need to do better feature selection"
   ]
  },
  {
   "cell_type": "markdown",
   "metadata": {},
   "source": [
    "## Assumption five: error terms should be uncorrelated with one another"
   ]
  },
  {
   "cell_type": "code",
   "execution_count": 38,
   "metadata": {},
   "outputs": [
    {
     "data": {
      "text/plain": [
       "[<matplotlib.lines.Line2D at 0x215249ffd08>]"
      ]
     },
     "execution_count": 38,
     "metadata": {},
     "output_type": "execute_result"
    },
    {
     "data": {
      "image/png": "[encoded data removed]",
      "text/plain": [
       "<Figure size 432x288 with 1 Axes>"
      ]
     },
     "metadata": {
      "needs_background": "light"
     },
     "output_type": "display_data"
    },
    {
     "data": {
      "application/javascript": [
       "\n",
       "            setTimeout(function() {\n",
       "                var nbb_cell_id = 38;\n",
       "                var nbb_unformatted_code = \"plt.plot(errors)\\n#they appear to be uncorrelated\";\n",
       "                var nbb_formatted_code = \"plt.plot(errors)\\n# they appear to be uncorrelated\";\n",
       "                var nbb_cells = Jupyter.notebook.get_cells();\n",
       "                for (var i = 0; i < nbb_cells.length; ++i) {\n",
       "                    if (nbb_cells[i].input_prompt_number == nbb_cell_id) {\n",
       "                        if (nbb_cells[i].get_text() == nbb_unformatted_code) {\n",
       "                             nbb_cells[i].set_text(nbb_formatted_code);\n",
       "                        }\n",
       "                        break;\n",
       "                    }\n",
       "                }\n",
       "            }, 500);\n",
       "            "
      ],
      "text/plain": [
       "<IPython.core.display.Javascript object>"
      ]
     },
     "metadata": {},
     "output_type": "display_data"
    }
   ],
   "source": [
    "plt.plot(errors)\n",
    "# they appear to be uncorrelated"
   ]
  },
  {
   "cell_type": "code",
   "execution_count": 39,
   "metadata": {
    "scrolled": true
   },
   "outputs": [
    {
     "data": {
      "image/png": "[encoded data removed]",
      "text/plain": [
       "<Figure size 432x288 with 1 Axes>"
      ]
     },
     "metadata": {
      "needs_background": "light"
     },
     "output_type": "display_data"
    },
    {
     "data": {
      "application/javascript": [
       "\n",
       "            setTimeout(function() {\n",
       "                var nbb_cell_id = 39;\n",
       "                var nbb_unformatted_code = \"\\nacf_data = acf(errors)\\n\\nplt.plot(acf_data[1:])\\nplt.show()\\n#nevermind, acf says our correlation is very high for the errors\";\n",
       "                var nbb_formatted_code = \"acf_data = acf(errors)\\n\\nplt.plot(acf_data[1:])\\nplt.show()\\n# nevermind, acf says our correlation is very high for the errors\";\n",
       "                var nbb_cells = Jupyter.notebook.get_cells();\n",
       "                for (var i = 0; i < nbb_cells.length; ++i) {\n",
       "                    if (nbb_cells[i].input_prompt_number == nbb_cell_id) {\n",
       "                        if (nbb_cells[i].get_text() == nbb_unformatted_code) {\n",
       "                             nbb_cells[i].set_text(nbb_formatted_code);\n",
       "                        }\n",
       "                        break;\n",
       "                    }\n",
       "                }\n",
       "            }, 500);\n",
       "            "
      ],
      "text/plain": [
       "<IPython.core.display.Javascript object>"
      ]
     },
     "metadata": {},
     "output_type": "display_data"
    }
   ],
   "source": [
    "acf_data = acf(errors)\n",
    "\n",
    "plt.plot(acf_data[1:])\n",
    "plt.show()\n",
    "# acf shows relatively low correlation in errors"
   ]
  },
  {
   "cell_type": "code",
   "execution_count": 40,
   "metadata": {
    "scrolled": true
   },
   "outputs": [
    {
     "ename": "KeyboardInterrupt",
     "evalue": "",
     "output_type": "error",
     "traceback": [
      "\u001b[1;31m---------------------------------------------------------------------------\u001b[0m",
      "\u001b[1;31mKeyboardInterrupt\u001b[0m                         Traceback (most recent call last)",
      "\u001b[1;32m<ipython-input-40-49a93d67da72>\u001b[0m in \u001b[0;36m<module>\u001b[1;34m\u001b[0m\n\u001b[0;32m      1\u001b[0m \u001b[0merrors_df\u001b[0m \u001b[1;33m=\u001b[0m \u001b[0mpd\u001b[0m\u001b[1;33m.\u001b[0m\u001b[0mconcat\u001b[0m\u001b[1;33m(\u001b[0m\u001b[1;33m[\u001b[0m\u001b[0mX\u001b[0m\u001b[1;33m,\u001b[0m \u001b[0mpd\u001b[0m\u001b[1;33m.\u001b[0m\u001b[0mDataFrame\u001b[0m\u001b[1;33m(\u001b[0m\u001b[0merrors\u001b[0m\u001b[1;33m)\u001b[0m\u001b[1;33m]\u001b[0m\u001b[1;33m,\u001b[0m \u001b[0maxis\u001b[0m\u001b[1;33m=\u001b[0m\u001b[1;36m1\u001b[0m\u001b[1;33m)\u001b[0m\u001b[1;33m\u001b[0m\u001b[1;33m\u001b[0m\u001b[0m\n\u001b[1;32m----> 2\u001b[1;33m \u001b[0msns\u001b[0m\u001b[1;33m.\u001b[0m\u001b[0mheatmap\u001b[0m\u001b[1;33m(\u001b[0m\u001b[0merrors_df\u001b[0m\u001b[1;33m.\u001b[0m\u001b[0mcorr\u001b[0m\u001b[1;33m(\u001b[0m\u001b[1;33m)\u001b[0m\u001b[1;33m,\u001b[0m \u001b[0mvmin\u001b[0m\u001b[1;33m=\u001b[0m\u001b[1;33m-\u001b[0m\u001b[1;36m1\u001b[0m\u001b[1;33m,\u001b[0m \u001b[0mvmax\u001b[0m\u001b[1;33m=\u001b[0m\u001b[1;36m1\u001b[0m\u001b[1;33m,\u001b[0m \u001b[0mannot\u001b[0m\u001b[1;33m=\u001b[0m\u001b[1;32mTrue\u001b[0m\u001b[1;33m)\u001b[0m\u001b[1;33m\u001b[0m\u001b[1;33m\u001b[0m\u001b[0m\n\u001b[0m",
      "\u001b[1;32mC:\\ProgramData\\Anaconda3\\lib\\site-packages\\seaborn\\matrix.py\u001b[0m in \u001b[0;36mheatmap\u001b[1;34m(data, vmin, vmax, cmap, center, robust, annot, fmt, annot_kws, linewidths, linecolor, cbar, cbar_kws, cbar_ax, square, xticklabels, yticklabels, mask, ax, **kwargs)\u001b[0m\n\u001b[0;32m    521\u001b[0m     \u001b[1;32mif\u001b[0m \u001b[0msquare\u001b[0m\u001b[1;33m:\u001b[0m\u001b[1;33m\u001b[0m\u001b[1;33m\u001b[0m\u001b[0m\n\u001b[0;32m    522\u001b[0m         \u001b[0max\u001b[0m\u001b[1;33m.\u001b[0m\u001b[0mset_aspect\u001b[0m\u001b[1;33m(\u001b[0m\u001b[1;34m\"equal\"\u001b[0m\u001b[1;33m)\u001b[0m\u001b[1;33m\u001b[0m\u001b[1;33m\u001b[0m\u001b[0m\n\u001b[1;32m--> 523\u001b[1;33m     \u001b[0mplotter\u001b[0m\u001b[1;33m.\u001b[0m\u001b[0mplot\u001b[0m\u001b[1;33m(\u001b[0m\u001b[0max\u001b[0m\u001b[1;33m,\u001b[0m \u001b[0mcbar_ax\u001b[0m\u001b[1;33m,\u001b[0m \u001b[0mkwargs\u001b[0m\u001b[1;33m)\u001b[0m\u001b[1;33m\u001b[0m\u001b[1;33m\u001b[0m\u001b[0m\n\u001b[0m\u001b[0;32m    524\u001b[0m     \u001b[1;32mreturn\u001b[0m \u001b[0max\u001b[0m\u001b[1;33m\u001b[0m\u001b[1;33m\u001b[0m\u001b[0m\n\u001b[0;32m    525\u001b[0m \u001b[1;33m\u001b[0m\u001b[0m\n",
      "\u001b[1;32mC:\\ProgramData\\Anaconda3\\lib\\site-packages\\seaborn\\matrix.py\u001b[0m in \u001b[0;36mplot\u001b[1;34m(self, ax, cax, kws)\u001b[0m\n\u001b[0;32m    320\u001b[0m         \u001b[1;31m# Annotate the cells with the formatted values\u001b[0m\u001b[1;33m\u001b[0m\u001b[1;33m\u001b[0m\u001b[1;33m\u001b[0m\u001b[0m\n\u001b[0;32m    321\u001b[0m         \u001b[1;32mif\u001b[0m \u001b[0mself\u001b[0m\u001b[1;33m.\u001b[0m\u001b[0mannot\u001b[0m\u001b[1;33m:\u001b[0m\u001b[1;33m\u001b[0m\u001b[1;33m\u001b[0m\u001b[0m\n\u001b[1;32m--> 322\u001b[1;33m             \u001b[0mself\u001b[0m\u001b[1;33m.\u001b[0m\u001b[0m_annotate_heatmap\u001b[0m\u001b[1;33m(\u001b[0m\u001b[0max\u001b[0m\u001b[1;33m,\u001b[0m \u001b[0mmesh\u001b[0m\u001b[1;33m)\u001b[0m\u001b[1;33m\u001b[0m\u001b[1;33m\u001b[0m\u001b[0m\n\u001b[0m\u001b[0;32m    323\u001b[0m \u001b[1;33m\u001b[0m\u001b[0m\n\u001b[0;32m    324\u001b[0m \u001b[1;33m\u001b[0m\u001b[0m\n",
      "\u001b[1;32mC:\\ProgramData\\Anaconda3\\lib\\site-packages\\seaborn\\matrix.py\u001b[0m in \u001b[0;36m_annotate_heatmap\u001b[1;34m(self, ax, mesh)\u001b[0m\n\u001b[0;32m    237\u001b[0m                 \u001b[0mtext_kwargs\u001b[0m \u001b[1;33m=\u001b[0m \u001b[0mdict\u001b[0m\u001b[1;33m(\u001b[0m\u001b[0mcolor\u001b[0m\u001b[1;33m=\u001b[0m\u001b[0mtext_color\u001b[0m\u001b[1;33m,\u001b[0m \u001b[0mha\u001b[0m\u001b[1;33m=\u001b[0m\u001b[1;34m\"center\"\u001b[0m\u001b[1;33m,\u001b[0m \u001b[0mva\u001b[0m\u001b[1;33m=\u001b[0m\u001b[1;34m\"center\"\u001b[0m\u001b[1;33m)\u001b[0m\u001b[1;33m\u001b[0m\u001b[1;33m\u001b[0m\u001b[0m\n\u001b[0;32m    238\u001b[0m                 \u001b[0mtext_kwargs\u001b[0m\u001b[1;33m.\u001b[0m\u001b[0mupdate\u001b[0m\u001b[1;33m(\u001b[0m\u001b[0mself\u001b[0m\u001b[1;33m.\u001b[0m\u001b[0mannot_kws\u001b[0m\u001b[1;33m)\u001b[0m\u001b[1;33m\u001b[0m\u001b[1;33m\u001b[0m\u001b[0m\n\u001b[1;32m--> 239\u001b[1;33m                 \u001b[0max\u001b[0m\u001b[1;33m.\u001b[0m\u001b[0mtext\u001b[0m\u001b[1;33m(\u001b[0m\u001b[0mx\u001b[0m\u001b[1;33m,\u001b[0m \u001b[0my\u001b[0m\u001b[1;33m,\u001b[0m \u001b[0mannotation\u001b[0m\u001b[1;33m,\u001b[0m \u001b[1;33m**\u001b[0m\u001b[0mtext_kwargs\u001b[0m\u001b[1;33m)\u001b[0m\u001b[1;33m\u001b[0m\u001b[1;33m\u001b[0m\u001b[0m\n\u001b[0m\u001b[0;32m    240\u001b[0m \u001b[1;33m\u001b[0m\u001b[0m\n\u001b[0;32m    241\u001b[0m     \u001b[1;32mdef\u001b[0m \u001b[0m_skip_ticks\u001b[0m\u001b[1;33m(\u001b[0m\u001b[0mself\u001b[0m\u001b[1;33m,\u001b[0m \u001b[0mlabels\u001b[0m\u001b[1;33m,\u001b[0m \u001b[0mtickevery\u001b[0m\u001b[1;33m)\u001b[0m\u001b[1;33m:\u001b[0m\u001b[1;33m\u001b[0m\u001b[1;33m\u001b[0m\u001b[0m\n",
      "\u001b[1;32mC:\\ProgramData\\Anaconda3\\lib\\site-packages\\matplotlib\\cbook\\deprecation.py\u001b[0m in \u001b[0;36mwrapper\u001b[1;34m(*args, **kwargs)\u001b[0m\n\u001b[0;32m    367\u001b[0m                 \u001b[1;34mf\"%(removal)s.  If any parameter follows {name!r}, they \"\u001b[0m\u001b[1;33m\u001b[0m\u001b[1;33m\u001b[0m\u001b[0m\n\u001b[0;32m    368\u001b[0m                 f\"should be pass as keyword, not positionally.\")\n\u001b[1;32m--> 369\u001b[1;33m         \u001b[1;32mreturn\u001b[0m \u001b[0mfunc\u001b[0m\u001b[1;33m(\u001b[0m\u001b[1;33m*\u001b[0m\u001b[0margs\u001b[0m\u001b[1;33m,\u001b[0m \u001b[1;33m**\u001b[0m\u001b[0mkwargs\u001b[0m\u001b[1;33m)\u001b[0m\u001b[1;33m\u001b[0m\u001b[1;33m\u001b[0m\u001b[0m\n\u001b[0m\u001b[0;32m    370\u001b[0m \u001b[1;33m\u001b[0m\u001b[0m\n\u001b[0;32m    371\u001b[0m     \u001b[1;32mreturn\u001b[0m \u001b[0mwrapper\u001b[0m\u001b[1;33m\u001b[0m\u001b[1;33m\u001b[0m\u001b[0m\n",
      "\u001b[1;32mC:\\ProgramData\\Anaconda3\\lib\\site-packages\\matplotlib\\axes\\_axes.py\u001b[0m in \u001b[0;36mtext\u001b[1;34m(self, x, y, s, fontdict, withdash, **kwargs)\u001b[0m\n\u001b[0;32m    781\u001b[0m         \u001b[1;32melse\u001b[0m\u001b[1;33m:\u001b[0m\u001b[1;33m\u001b[0m\u001b[1;33m\u001b[0m\u001b[0m\n\u001b[0;32m    782\u001b[0m             \u001b[0mt\u001b[0m \u001b[1;33m=\u001b[0m \u001b[0mmtext\u001b[0m\u001b[1;33m.\u001b[0m\u001b[0mText\u001b[0m\u001b[1;33m(\u001b[0m\u001b[0mx\u001b[0m\u001b[1;33m,\u001b[0m \u001b[0my\u001b[0m\u001b[1;33m,\u001b[0m \u001b[0mtext\u001b[0m\u001b[1;33m=\u001b[0m\u001b[0ms\u001b[0m\u001b[1;33m)\u001b[0m\u001b[1;33m\u001b[0m\u001b[1;33m\u001b[0m\u001b[0m\n\u001b[1;32m--> 783\u001b[1;33m         \u001b[0mt\u001b[0m\u001b[1;33m.\u001b[0m\u001b[0mupdate\u001b[0m\u001b[1;33m(\u001b[0m\u001b[0meffective_kwargs\u001b[0m\u001b[1;33m)\u001b[0m\u001b[1;33m\u001b[0m\u001b[1;33m\u001b[0m\u001b[0m\n\u001b[0m\u001b[0;32m    784\u001b[0m \u001b[1;33m\u001b[0m\u001b[0m\n\u001b[0;32m    785\u001b[0m         \u001b[0mt\u001b[0m\u001b[1;33m.\u001b[0m\u001b[0mset_clip_path\u001b[0m\u001b[1;33m(\u001b[0m\u001b[0mself\u001b[0m\u001b[1;33m.\u001b[0m\u001b[0mpatch\u001b[0m\u001b[1;33m)\u001b[0m\u001b[1;33m\u001b[0m\u001b[1;33m\u001b[0m\u001b[0m\n",
      "\u001b[1;32mC:\\ProgramData\\Anaconda3\\lib\\site-packages\\matplotlib\\text.py\u001b[0m in \u001b[0;36mupdate\u001b[1;34m(self, kwargs)\u001b[0m\n\u001b[0;32m    175\u001b[0m         \u001b[0msentinel\u001b[0m \u001b[1;33m=\u001b[0m \u001b[0mobject\u001b[0m\u001b[1;33m(\u001b[0m\u001b[1;33m)\u001b[0m  \u001b[1;31m# bbox can be None, so use another sentinel.\u001b[0m\u001b[1;33m\u001b[0m\u001b[1;33m\u001b[0m\u001b[0m\n\u001b[0;32m    176\u001b[0m         \u001b[0mbbox\u001b[0m \u001b[1;33m=\u001b[0m \u001b[0mkwargs\u001b[0m\u001b[1;33m.\u001b[0m\u001b[0mpop\u001b[0m\u001b[1;33m(\u001b[0m\u001b[1;34m\"bbox\"\u001b[0m\u001b[1;33m,\u001b[0m \u001b[0msentinel\u001b[0m\u001b[1;33m)\u001b[0m\u001b[1;33m\u001b[0m\u001b[1;33m\u001b[0m\u001b[0m\n\u001b[1;32m--> 177\u001b[1;33m         \u001b[0msuper\u001b[0m\u001b[1;33m(\u001b[0m\u001b[1;33m)\u001b[0m\u001b[1;33m.\u001b[0m\u001b[0mupdate\u001b[0m\u001b[1;33m(\u001b[0m\u001b[0mkwargs\u001b[0m\u001b[1;33m)\u001b[0m\u001b[1;33m\u001b[0m\u001b[1;33m\u001b[0m\u001b[0m\n\u001b[0m\u001b[0;32m    178\u001b[0m         \u001b[1;32mif\u001b[0m \u001b[0mbbox\u001b[0m \u001b[1;32mis\u001b[0m \u001b[1;32mnot\u001b[0m \u001b[0msentinel\u001b[0m\u001b[1;33m:\u001b[0m\u001b[1;33m\u001b[0m\u001b[1;33m\u001b[0m\u001b[0m\n\u001b[0;32m    179\u001b[0m             \u001b[0mself\u001b[0m\u001b[1;33m.\u001b[0m\u001b[0mset_bbox\u001b[0m\u001b[1;33m(\u001b[0m\u001b[0mbbox\u001b[0m\u001b[1;33m)\u001b[0m\u001b[1;33m\u001b[0m\u001b[1;33m\u001b[0m\u001b[0m\n",
      "\u001b[1;32mC:\\ProgramData\\Anaconda3\\lib\\site-packages\\matplotlib\\artist.py\u001b[0m in \u001b[0;36mupdate\u001b[1;34m(self, props)\u001b[0m\n\u001b[0;32m    972\u001b[0m \u001b[1;33m\u001b[0m\u001b[0m\n\u001b[0;32m    973\u001b[0m         \u001b[1;32mwith\u001b[0m \u001b[0mcbook\u001b[0m\u001b[1;33m.\u001b[0m\u001b[0m_setattr_cm\u001b[0m\u001b[1;33m(\u001b[0m\u001b[0mself\u001b[0m\u001b[1;33m,\u001b[0m \u001b[0meventson\u001b[0m\u001b[1;33m=\u001b[0m\u001b[1;32mFalse\u001b[0m\u001b[1;33m)\u001b[0m\u001b[1;33m:\u001b[0m\u001b[1;33m\u001b[0m\u001b[1;33m\u001b[0m\u001b[0m\n\u001b[1;32m--> 974\u001b[1;33m             \u001b[0mret\u001b[0m \u001b[1;33m=\u001b[0m \u001b[1;33m[\u001b[0m\u001b[0m_update_property\u001b[0m\u001b[1;33m(\u001b[0m\u001b[0mself\u001b[0m\u001b[1;33m,\u001b[0m \u001b[0mk\u001b[0m\u001b[1;33m,\u001b[0m \u001b[0mv\u001b[0m\u001b[1;33m)\u001b[0m \u001b[1;32mfor\u001b[0m \u001b[0mk\u001b[0m\u001b[1;33m,\u001b[0m \u001b[0mv\u001b[0m \u001b[1;32min\u001b[0m \u001b[0mprops\u001b[0m\u001b[1;33m.\u001b[0m\u001b[0mitems\u001b[0m\u001b[1;33m(\u001b[0m\u001b[1;33m)\u001b[0m\u001b[1;33m]\u001b[0m\u001b[1;33m\u001b[0m\u001b[1;33m\u001b[0m\u001b[0m\n\u001b[0m\u001b[0;32m    975\u001b[0m \u001b[1;33m\u001b[0m\u001b[0m\n\u001b[0;32m    976\u001b[0m         \u001b[1;32mif\u001b[0m \u001b[0mlen\u001b[0m\u001b[1;33m(\u001b[0m\u001b[0mret\u001b[0m\u001b[1;33m)\u001b[0m\u001b[1;33m:\u001b[0m\u001b[1;33m\u001b[0m\u001b[1;33m\u001b[0m\u001b[0m\n",
      "\u001b[1;32mC:\\ProgramData\\Anaconda3\\lib\\site-packages\\matplotlib\\artist.py\u001b[0m in \u001b[0;36m<listcomp>\u001b[1;34m(.0)\u001b[0m\n\u001b[0;32m    972\u001b[0m \u001b[1;33m\u001b[0m\u001b[0m\n\u001b[0;32m    973\u001b[0m         \u001b[1;32mwith\u001b[0m \u001b[0mcbook\u001b[0m\u001b[1;33m.\u001b[0m\u001b[0m_setattr_cm\u001b[0m\u001b[1;33m(\u001b[0m\u001b[0mself\u001b[0m\u001b[1;33m,\u001b[0m \u001b[0meventson\u001b[0m\u001b[1;33m=\u001b[0m\u001b[1;32mFalse\u001b[0m\u001b[1;33m)\u001b[0m\u001b[1;33m:\u001b[0m\u001b[1;33m\u001b[0m\u001b[1;33m\u001b[0m\u001b[0m\n\u001b[1;32m--> 974\u001b[1;33m             \u001b[0mret\u001b[0m \u001b[1;33m=\u001b[0m \u001b[1;33m[\u001b[0m\u001b[0m_update_property\u001b[0m\u001b[1;33m(\u001b[0m\u001b[0mself\u001b[0m\u001b[1;33m,\u001b[0m \u001b[0mk\u001b[0m\u001b[1;33m,\u001b[0m \u001b[0mv\u001b[0m\u001b[1;33m)\u001b[0m \u001b[1;32mfor\u001b[0m \u001b[0mk\u001b[0m\u001b[1;33m,\u001b[0m \u001b[0mv\u001b[0m \u001b[1;32min\u001b[0m \u001b[0mprops\u001b[0m\u001b[1;33m.\u001b[0m\u001b[0mitems\u001b[0m\u001b[1;33m(\u001b[0m\u001b[1;33m)\u001b[0m\u001b[1;33m]\u001b[0m\u001b[1;33m\u001b[0m\u001b[1;33m\u001b[0m\u001b[0m\n\u001b[0m\u001b[0;32m    975\u001b[0m \u001b[1;33m\u001b[0m\u001b[0m\n\u001b[0;32m    976\u001b[0m         \u001b[1;32mif\u001b[0m \u001b[0mlen\u001b[0m\u001b[1;33m(\u001b[0m\u001b[0mret\u001b[0m\u001b[1;33m)\u001b[0m\u001b[1;33m:\u001b[0m\u001b[1;33m\u001b[0m\u001b[1;33m\u001b[0m\u001b[0m\n",
      "\u001b[1;32mC:\\ProgramData\\Anaconda3\\lib\\site-packages\\matplotlib\\artist.py\u001b[0m in \u001b[0;36m_update_property\u001b[1;34m(self, k, v)\u001b[0m\n\u001b[0;32m    969\u001b[0m                     raise AttributeError('{!r} object has no property {!r}'\n\u001b[0;32m    970\u001b[0m                                          .format(type(self).__name__, k))\n\u001b[1;32m--> 971\u001b[1;33m                 \u001b[1;32mreturn\u001b[0m \u001b[0mfunc\u001b[0m\u001b[1;33m(\u001b[0m\u001b[0mv\u001b[0m\u001b[1;33m)\u001b[0m\u001b[1;33m\u001b[0m\u001b[1;33m\u001b[0m\u001b[0m\n\u001b[0m\u001b[0;32m    972\u001b[0m \u001b[1;33m\u001b[0m\u001b[0m\n\u001b[0;32m    973\u001b[0m         \u001b[1;32mwith\u001b[0m \u001b[0mcbook\u001b[0m\u001b[1;33m.\u001b[0m\u001b[0m_setattr_cm\u001b[0m\u001b[1;33m(\u001b[0m\u001b[0mself\u001b[0m\u001b[1;33m,\u001b[0m \u001b[0meventson\u001b[0m\u001b[1;33m=\u001b[0m\u001b[1;32mFalse\u001b[0m\u001b[1;33m)\u001b[0m\u001b[1;33m:\u001b[0m\u001b[1;33m\u001b[0m\u001b[1;33m\u001b[0m\u001b[0m\n",
      "\u001b[1;32mC:\\ProgramData\\Anaconda3\\lib\\site-packages\\matplotlib\\cbook\\__init__.py\u001b[0m in \u001b[0;36mmethod\u001b[1;34m(self, *args, **kwargs)\u001b[0m\n\u001b[0;32m   1976\u001b[0m         \u001b[1;33m@\u001b[0m\u001b[0mfunctools\u001b[0m\u001b[1;33m.\u001b[0m\u001b[0mwraps\u001b[0m\u001b[1;33m(\u001b[0m\u001b[0mgetattr\u001b[0m\u001b[1;33m(\u001b[0m\u001b[0mcls\u001b[0m\u001b[1;33m,\u001b[0m \u001b[0mname\u001b[0m\u001b[1;33m)\u001b[0m\u001b[1;33m)\u001b[0m\u001b[1;33m\u001b[0m\u001b[1;33m\u001b[0m\u001b[0m\n\u001b[0;32m   1977\u001b[0m         \u001b[1;32mdef\u001b[0m \u001b[0mmethod\u001b[0m\u001b[1;33m(\u001b[0m\u001b[0mself\u001b[0m\u001b[1;33m,\u001b[0m \u001b[1;33m*\u001b[0m\u001b[0margs\u001b[0m\u001b[1;33m,\u001b[0m \u001b[1;33m**\u001b[0m\u001b[0mkwargs\u001b[0m\u001b[1;33m)\u001b[0m\u001b[1;33m:\u001b[0m\u001b[1;33m\u001b[0m\u001b[1;33m\u001b[0m\u001b[0m\n\u001b[1;32m-> 1978\u001b[1;33m             \u001b[1;32mreturn\u001b[0m \u001b[0mgetattr\u001b[0m\u001b[1;33m(\u001b[0m\u001b[0mself\u001b[0m\u001b[1;33m,\u001b[0m \u001b[0mname\u001b[0m\u001b[1;33m)\u001b[0m\u001b[1;33m(\u001b[0m\u001b[1;33m*\u001b[0m\u001b[0margs\u001b[0m\u001b[1;33m,\u001b[0m \u001b[1;33m**\u001b[0m\u001b[0mkwargs\u001b[0m\u001b[1;33m)\u001b[0m\u001b[1;33m\u001b[0m\u001b[1;33m\u001b[0m\u001b[0m\n\u001b[0m\u001b[0;32m   1979\u001b[0m         \u001b[1;32mreturn\u001b[0m \u001b[0mmethod\u001b[0m\u001b[1;33m\u001b[0m\u001b[1;33m\u001b[0m\u001b[0m\n\u001b[0;32m   1980\u001b[0m \u001b[1;33m\u001b[0m\u001b[0m\n",
      "\u001b[1;32mC:\\ProgramData\\Anaconda3\\lib\\site-packages\\matplotlib\\text.py\u001b[0m in \u001b[0;36mset_horizontalalignment\u001b[1;34m(self, align)\u001b[0m\n\u001b[0;32m    940\u001b[0m         \u001b[0malign\u001b[0m \u001b[1;33m:\u001b[0m \u001b[1;33m{\u001b[0m\u001b[1;34m'center'\u001b[0m\u001b[1;33m,\u001b[0m \u001b[1;34m'right'\u001b[0m\u001b[1;33m,\u001b[0m \u001b[1;34m'left'\u001b[0m\u001b[1;33m}\u001b[0m\u001b[1;33m\u001b[0m\u001b[1;33m\u001b[0m\u001b[0m\n\u001b[0;32m    941\u001b[0m         \"\"\"\n\u001b[1;32m--> 942\u001b[1;33m         \u001b[0mcbook\u001b[0m\u001b[1;33m.\u001b[0m\u001b[0m_check_in_list\u001b[0m\u001b[1;33m(\u001b[0m\u001b[1;33m[\u001b[0m\u001b[1;34m'center'\u001b[0m\u001b[1;33m,\u001b[0m \u001b[1;34m'right'\u001b[0m\u001b[1;33m,\u001b[0m \u001b[1;34m'left'\u001b[0m\u001b[1;33m]\u001b[0m\u001b[1;33m,\u001b[0m \u001b[0malign\u001b[0m\u001b[1;33m=\u001b[0m\u001b[0malign\u001b[0m\u001b[1;33m)\u001b[0m\u001b[1;33m\u001b[0m\u001b[1;33m\u001b[0m\u001b[0m\n\u001b[0m\u001b[0;32m    943\u001b[0m         \u001b[0mself\u001b[0m\u001b[1;33m.\u001b[0m\u001b[0m_horizontalalignment\u001b[0m \u001b[1;33m=\u001b[0m \u001b[0malign\u001b[0m\u001b[1;33m\u001b[0m\u001b[1;33m\u001b[0m\u001b[0m\n\u001b[0;32m    944\u001b[0m         \u001b[0mself\u001b[0m\u001b[1;33m.\u001b[0m\u001b[0mstale\u001b[0m \u001b[1;33m=\u001b[0m \u001b[1;32mTrue\u001b[0m\u001b[1;33m\u001b[0m\u001b[1;33m\u001b[0m\u001b[0m\n",
      "\u001b[1;32mC:\\ProgramData\\Anaconda3\\lib\\site-packages\\matplotlib\\cbook\\__init__.py\u001b[0m in \u001b[0;36m_check_in_list\u001b[1;34m(values, **kwargs)\u001b[0m\n\u001b[0;32m   2187\u001b[0m     \u001b[1;33m>>\u001b[0m\u001b[1;33m>\u001b[0m \u001b[0mcbook\u001b[0m\u001b[1;33m.\u001b[0m\u001b[0m_check_in_list\u001b[0m\u001b[1;33m(\u001b[0m\u001b[1;33m[\u001b[0m\u001b[1;34m\"foo\"\u001b[0m\u001b[1;33m,\u001b[0m \u001b[1;34m\"bar\"\u001b[0m\u001b[1;33m]\u001b[0m\u001b[1;33m,\u001b[0m \u001b[0marg\u001b[0m\u001b[1;33m=\u001b[0m\u001b[0marg\u001b[0m\u001b[1;33m,\u001b[0m \u001b[0mother_arg\u001b[0m\u001b[1;33m=\u001b[0m\u001b[0mother_arg\u001b[0m\u001b[1;33m)\u001b[0m\u001b[1;33m\u001b[0m\u001b[1;33m\u001b[0m\u001b[0m\n\u001b[0;32m   2188\u001b[0m     \"\"\"\n\u001b[1;32m-> 2189\u001b[1;33m     \u001b[1;32mfor\u001b[0m \u001b[0mk\u001b[0m\u001b[1;33m,\u001b[0m \u001b[0mv\u001b[0m \u001b[1;32min\u001b[0m \u001b[0mkwargs\u001b[0m\u001b[1;33m.\u001b[0m\u001b[0mitems\u001b[0m\u001b[1;33m(\u001b[0m\u001b[1;33m)\u001b[0m\u001b[1;33m:\u001b[0m\u001b[1;33m\u001b[0m\u001b[1;33m\u001b[0m\u001b[0m\n\u001b[0m\u001b[0;32m   2190\u001b[0m         \u001b[1;32mif\u001b[0m \u001b[0mv\u001b[0m \u001b[1;32mnot\u001b[0m \u001b[1;32min\u001b[0m \u001b[0mvalues\u001b[0m\u001b[1;33m:\u001b[0m\u001b[1;33m\u001b[0m\u001b[1;33m\u001b[0m\u001b[0m\n\u001b[0;32m   2191\u001b[0m             raise ValueError(\n",
      "\u001b[1;31mKeyboardInterrupt\u001b[0m: "
     ]
    },
    {
     "name": "stdout",
     "output_type": "stream",
     "text": [
      "Error in callback <function flush_figures at 0x000002151E507B88> (for post_execute):\n"
     ]
    },
    {
     "ename": "KeyboardInterrupt",
     "evalue": "",
     "output_type": "error",
     "traceback": [
      "\u001b[1;31m---------------------------------------------------------------------------\u001b[0m",
      "\u001b[1;31mKeyboardInterrupt\u001b[0m                         Traceback (most recent call last)",
      "\u001b[1;32mC:\\ProgramData\\Anaconda3\\lib\\site-packages\\ipykernel\\pylab\\backend_inline.py\u001b[0m in \u001b[0;36mflush_figures\u001b[1;34m()\u001b[0m\n\u001b[0;32m    119\u001b[0m         \u001b[1;31m# ignore the tracking, just draw and close all figures\u001b[0m\u001b[1;33m\u001b[0m\u001b[1;33m\u001b[0m\u001b[1;33m\u001b[0m\u001b[0m\n\u001b[0;32m    120\u001b[0m         \u001b[1;32mtry\u001b[0m\u001b[1;33m:\u001b[0m\u001b[1;33m\u001b[0m\u001b[1;33m\u001b[0m\u001b[0m\n\u001b[1;32m--> 121\u001b[1;33m             \u001b[1;32mreturn\u001b[0m \u001b[0mshow\u001b[0m\u001b[1;33m(\u001b[0m\u001b[1;32mTrue\u001b[0m\u001b[1;33m)\u001b[0m\u001b[1;33m\u001b[0m\u001b[1;33m\u001b[0m\u001b[0m\n\u001b[0m\u001b[0;32m    122\u001b[0m         \u001b[1;32mexcept\u001b[0m \u001b[0mException\u001b[0m \u001b[1;32mas\u001b[0m \u001b[0me\u001b[0m\u001b[1;33m:\u001b[0m\u001b[1;33m\u001b[0m\u001b[1;33m\u001b[0m\u001b[0m\n\u001b[0;32m    123\u001b[0m             \u001b[1;31m# safely show traceback if in IPython, else raise\u001b[0m\u001b[1;33m\u001b[0m\u001b[1;33m\u001b[0m\u001b[1;33m\u001b[0m\u001b[0m\n",
      "\u001b[1;32mC:\\ProgramData\\Anaconda3\\lib\\site-packages\\ipykernel\\pylab\\backend_inline.py\u001b[0m in \u001b[0;36mshow\u001b[1;34m(close, block)\u001b[0m\n\u001b[0;32m     41\u001b[0m             display(\n\u001b[0;32m     42\u001b[0m                 \u001b[0mfigure_manager\u001b[0m\u001b[1;33m.\u001b[0m\u001b[0mcanvas\u001b[0m\u001b[1;33m.\u001b[0m\u001b[0mfigure\u001b[0m\u001b[1;33m,\u001b[0m\u001b[1;33m\u001b[0m\u001b[1;33m\u001b[0m\u001b[0m\n\u001b[1;32m---> 43\u001b[1;33m                 \u001b[0mmetadata\u001b[0m\u001b[1;33m=\u001b[0m\u001b[0m_fetch_figure_metadata\u001b[0m\u001b[1;33m(\u001b[0m\u001b[0mfigure_manager\u001b[0m\u001b[1;33m.\u001b[0m\u001b[0mcanvas\u001b[0m\u001b[1;33m.\u001b[0m\u001b[0mfigure\u001b[0m\u001b[1;33m)\u001b[0m\u001b[1;33m\u001b[0m\u001b[1;33m\u001b[0m\u001b[0m\n\u001b[0m\u001b[0;32m     44\u001b[0m             )\n\u001b[0;32m     45\u001b[0m     \u001b[1;32mfinally\u001b[0m\u001b[1;33m:\u001b[0m\u001b[1;33m\u001b[0m\u001b[1;33m\u001b[0m\u001b[0m\n",
      "\u001b[1;32mC:\\ProgramData\\Anaconda3\\lib\\site-packages\\IPython\\core\\display.py\u001b[0m in \u001b[0;36mdisplay\u001b[1;34m(include, exclude, metadata, transient, display_id, *objs, **kwargs)\u001b[0m\n\u001b[0;32m    311\u001b[0m             \u001b[0mpublish_display_data\u001b[0m\u001b[1;33m(\u001b[0m\u001b[0mdata\u001b[0m\u001b[1;33m=\u001b[0m\u001b[0mobj\u001b[0m\u001b[1;33m,\u001b[0m \u001b[0mmetadata\u001b[0m\u001b[1;33m=\u001b[0m\u001b[0mmetadata\u001b[0m\u001b[1;33m,\u001b[0m \u001b[1;33m**\u001b[0m\u001b[0mkwargs\u001b[0m\u001b[1;33m)\u001b[0m\u001b[1;33m\u001b[0m\u001b[1;33m\u001b[0m\u001b[0m\n\u001b[0;32m    312\u001b[0m         \u001b[1;32melse\u001b[0m\u001b[1;33m:\u001b[0m\u001b[1;33m\u001b[0m\u001b[1;33m\u001b[0m\u001b[0m\n\u001b[1;32m--> 313\u001b[1;33m             \u001b[0mformat_dict\u001b[0m\u001b[1;33m,\u001b[0m \u001b[0mmd_dict\u001b[0m \u001b[1;33m=\u001b[0m \u001b[0mformat\u001b[0m\u001b[1;33m(\u001b[0m\u001b[0mobj\u001b[0m\u001b[1;33m,\u001b[0m \u001b[0minclude\u001b[0m\u001b[1;33m=\u001b[0m\u001b[0minclude\u001b[0m\u001b[1;33m,\u001b[0m \u001b[0mexclude\u001b[0m\u001b[1;33m=\u001b[0m\u001b[0mexclude\u001b[0m\u001b[1;33m)\u001b[0m\u001b[1;33m\u001b[0m\u001b[1;33m\u001b[0m\u001b[0m\n\u001b[0m\u001b[0;32m    314\u001b[0m             \u001b[1;32mif\u001b[0m \u001b[1;32mnot\u001b[0m \u001b[0mformat_dict\u001b[0m\u001b[1;33m:\u001b[0m\u001b[1;33m\u001b[0m\u001b[1;33m\u001b[0m\u001b[0m\n\u001b[0;32m    315\u001b[0m                 \u001b[1;31m# nothing to display (e.g. _ipython_display_ took over)\u001b[0m\u001b[1;33m\u001b[0m\u001b[1;33m\u001b[0m\u001b[1;33m\u001b[0m\u001b[0m\n",
      "\u001b[1;32mC:\\ProgramData\\Anaconda3\\lib\\site-packages\\IPython\\core\\formatters.py\u001b[0m in \u001b[0;36mformat\u001b[1;34m(self, obj, include, exclude)\u001b[0m\n\u001b[0;32m    178\u001b[0m             \u001b[0mmd\u001b[0m \u001b[1;33m=\u001b[0m \u001b[1;32mNone\u001b[0m\u001b[1;33m\u001b[0m\u001b[1;33m\u001b[0m\u001b[0m\n\u001b[0;32m    179\u001b[0m             \u001b[1;32mtry\u001b[0m\u001b[1;33m:\u001b[0m\u001b[1;33m\u001b[0m\u001b[1;33m\u001b[0m\u001b[0m\n\u001b[1;32m--> 180\u001b[1;33m                 \u001b[0mdata\u001b[0m \u001b[1;33m=\u001b[0m \u001b[0mformatter\u001b[0m\u001b[1;33m(\u001b[0m\u001b[0mobj\u001b[0m\u001b[1;33m)\u001b[0m\u001b[1;33m\u001b[0m\u001b[1;33m\u001b[0m\u001b[0m\n\u001b[0m\u001b[0;32m    181\u001b[0m             \u001b[1;32mexcept\u001b[0m\u001b[1;33m:\u001b[0m\u001b[1;33m\u001b[0m\u001b[1;33m\u001b[0m\u001b[0m\n\u001b[0;32m    182\u001b[0m                 \u001b[1;31m# FIXME: log the exception\u001b[0m\u001b[1;33m\u001b[0m\u001b[1;33m\u001b[0m\u001b[1;33m\u001b[0m\u001b[0m\n",
      "\u001b[1;32m<C:\\ProgramData\\Anaconda3\\lib\\site-packages\\decorator.py:decorator-gen-9>\u001b[0m in \u001b[0;36m__call__\u001b[1;34m(self, obj)\u001b[0m\n",
      "\u001b[1;32mC:\\ProgramData\\Anaconda3\\lib\\site-packages\\IPython\\core\\formatters.py\u001b[0m in \u001b[0;36mcatch_format_error\u001b[1;34m(method, self, *args, **kwargs)\u001b[0m\n\u001b[0;32m    222\u001b[0m     \u001b[1;34m\"\"\"show traceback on failed format call\"\"\"\u001b[0m\u001b[1;33m\u001b[0m\u001b[1;33m\u001b[0m\u001b[0m\n\u001b[0;32m    223\u001b[0m     \u001b[1;32mtry\u001b[0m\u001b[1;33m:\u001b[0m\u001b[1;33m\u001b[0m\u001b[1;33m\u001b[0m\u001b[0m\n\u001b[1;32m--> 224\u001b[1;33m         \u001b[0mr\u001b[0m \u001b[1;33m=\u001b[0m \u001b[0mmethod\u001b[0m\u001b[1;33m(\u001b[0m\u001b[0mself\u001b[0m\u001b[1;33m,\u001b[0m \u001b[1;33m*\u001b[0m\u001b[0margs\u001b[0m\u001b[1;33m,\u001b[0m \u001b[1;33m**\u001b[0m\u001b[0mkwargs\u001b[0m\u001b[1;33m)\u001b[0m\u001b[1;33m\u001b[0m\u001b[1;33m\u001b[0m\u001b[0m\n\u001b[0m\u001b[0;32m    225\u001b[0m     \u001b[1;32mexcept\u001b[0m \u001b[0mNotImplementedError\u001b[0m\u001b[1;33m:\u001b[0m\u001b[1;33m\u001b[0m\u001b[1;33m\u001b[0m\u001b[0m\n\u001b[0;32m    226\u001b[0m         \u001b[1;31m# don't warn on NotImplementedErrors\u001b[0m\u001b[1;33m\u001b[0m\u001b[1;33m\u001b[0m\u001b[1;33m\u001b[0m\u001b[0m\n",
      "\u001b[1;32mC:\\ProgramData\\Anaconda3\\lib\\site-packages\\IPython\\core\\formatters.py\u001b[0m in \u001b[0;36m__call__\u001b[1;34m(self, obj)\u001b[0m\n\u001b[0;32m    339\u001b[0m                 \u001b[1;32mpass\u001b[0m\u001b[1;33m\u001b[0m\u001b[1;33m\u001b[0m\u001b[0m\n\u001b[0;32m    340\u001b[0m             \u001b[1;32melse\u001b[0m\u001b[1;33m:\u001b[0m\u001b[1;33m\u001b[0m\u001b[1;33m\u001b[0m\u001b[0m\n\u001b[1;32m--> 341\u001b[1;33m                 \u001b[1;32mreturn\u001b[0m \u001b[0mprinter\u001b[0m\u001b[1;33m(\u001b[0m\u001b[0mobj\u001b[0m\u001b[1;33m)\u001b[0m\u001b[1;33m\u001b[0m\u001b[1;33m\u001b[0m\u001b[0m\n\u001b[0m\u001b[0;32m    342\u001b[0m             \u001b[1;31m# Finally look for special method names\u001b[0m\u001b[1;33m\u001b[0m\u001b[1;33m\u001b[0m\u001b[1;33m\u001b[0m\u001b[0m\n\u001b[0;32m    343\u001b[0m             \u001b[0mmethod\u001b[0m \u001b[1;33m=\u001b[0m \u001b[0mget_real_method\u001b[0m\u001b[1;33m(\u001b[0m\u001b[0mobj\u001b[0m\u001b[1;33m,\u001b[0m \u001b[0mself\u001b[0m\u001b[1;33m.\u001b[0m\u001b[0mprint_method\u001b[0m\u001b[1;33m)\u001b[0m\u001b[1;33m\u001b[0m\u001b[1;33m\u001b[0m\u001b[0m\n",
      "\u001b[1;32mC:\\ProgramData\\Anaconda3\\lib\\site-packages\\IPython\\core\\pylabtools.py\u001b[0m in \u001b[0;36m<lambda>\u001b[1;34m(fig)\u001b[0m\n\u001b[0;32m    246\u001b[0m \u001b[1;33m\u001b[0m\u001b[0m\n\u001b[0;32m    247\u001b[0m     \u001b[1;32mif\u001b[0m \u001b[1;34m'png'\u001b[0m \u001b[1;32min\u001b[0m \u001b[0mformats\u001b[0m\u001b[1;33m:\u001b[0m\u001b[1;33m\u001b[0m\u001b[1;33m\u001b[0m\u001b[0m\n\u001b[1;32m--> 248\u001b[1;33m         \u001b[0mpng_formatter\u001b[0m\u001b[1;33m.\u001b[0m\u001b[0mfor_type\u001b[0m\u001b[1;33m(\u001b[0m\u001b[0mFigure\u001b[0m\u001b[1;33m,\u001b[0m \u001b[1;32mlambda\u001b[0m \u001b[0mfig\u001b[0m\u001b[1;33m:\u001b[0m \u001b[0mprint_figure\u001b[0m\u001b[1;33m(\u001b[0m\u001b[0mfig\u001b[0m\u001b[1;33m,\u001b[0m \u001b[1;34m'png'\u001b[0m\u001b[1;33m,\u001b[0m \u001b[1;33m**\u001b[0m\u001b[0mkwargs\u001b[0m\u001b[1;33m)\u001b[0m\u001b[1;33m)\u001b[0m\u001b[1;33m\u001b[0m\u001b[1;33m\u001b[0m\u001b[0m\n\u001b[0m\u001b[0;32m    249\u001b[0m     \u001b[1;32mif\u001b[0m \u001b[1;34m'retina'\u001b[0m \u001b[1;32min\u001b[0m \u001b[0mformats\u001b[0m \u001b[1;32mor\u001b[0m \u001b[1;34m'png2x'\u001b[0m \u001b[1;32min\u001b[0m \u001b[0mformats\u001b[0m\u001b[1;33m:\u001b[0m\u001b[1;33m\u001b[0m\u001b[1;33m\u001b[0m\u001b[0m\n\u001b[0;32m    250\u001b[0m         \u001b[0mpng_formatter\u001b[0m\u001b[1;33m.\u001b[0m\u001b[0mfor_type\u001b[0m\u001b[1;33m(\u001b[0m\u001b[0mFigure\u001b[0m\u001b[1;33m,\u001b[0m \u001b[1;32mlambda\u001b[0m \u001b[0mfig\u001b[0m\u001b[1;33m:\u001b[0m \u001b[0mretina_figure\u001b[0m\u001b[1;33m(\u001b[0m\u001b[0mfig\u001b[0m\u001b[1;33m,\u001b[0m \u001b[1;33m**\u001b[0m\u001b[0mkwargs\u001b[0m\u001b[1;33m)\u001b[0m\u001b[1;33m)\u001b[0m\u001b[1;33m\u001b[0m\u001b[1;33m\u001b[0m\u001b[0m\n",
      "\u001b[1;32mC:\\ProgramData\\Anaconda3\\lib\\site-packages\\IPython\\core\\pylabtools.py\u001b[0m in \u001b[0;36mprint_figure\u001b[1;34m(fig, fmt, bbox_inches, **kwargs)\u001b[0m\n\u001b[0;32m    130\u001b[0m         \u001b[0mFigureCanvasBase\u001b[0m\u001b[1;33m(\u001b[0m\u001b[0mfig\u001b[0m\u001b[1;33m)\u001b[0m\u001b[1;33m\u001b[0m\u001b[1;33m\u001b[0m\u001b[0m\n\u001b[0;32m    131\u001b[0m \u001b[1;33m\u001b[0m\u001b[0m\n\u001b[1;32m--> 132\u001b[1;33m     \u001b[0mfig\u001b[0m\u001b[1;33m.\u001b[0m\u001b[0mcanvas\u001b[0m\u001b[1;33m.\u001b[0m\u001b[0mprint_figure\u001b[0m\u001b[1;33m(\u001b[0m\u001b[0mbytes_io\u001b[0m\u001b[1;33m,\u001b[0m \u001b[1;33m**\u001b[0m\u001b[0mkw\u001b[0m\u001b[1;33m)\u001b[0m\u001b[1;33m\u001b[0m\u001b[1;33m\u001b[0m\u001b[0m\n\u001b[0m\u001b[0;32m    133\u001b[0m     \u001b[0mdata\u001b[0m \u001b[1;33m=\u001b[0m \u001b[0mbytes_io\u001b[0m\u001b[1;33m.\u001b[0m\u001b[0mgetvalue\u001b[0m\u001b[1;33m(\u001b[0m\u001b[1;33m)\u001b[0m\u001b[1;33m\u001b[0m\u001b[1;33m\u001b[0m\u001b[0m\n\u001b[0;32m    134\u001b[0m     \u001b[1;32mif\u001b[0m \u001b[0mfmt\u001b[0m \u001b[1;33m==\u001b[0m \u001b[1;34m'svg'\u001b[0m\u001b[1;33m:\u001b[0m\u001b[1;33m\u001b[0m\u001b[1;33m\u001b[0m\u001b[0m\n",
      "\u001b[1;32mC:\\ProgramData\\Anaconda3\\lib\\site-packages\\matplotlib\\backend_bases.py\u001b[0m in \u001b[0;36mprint_figure\u001b[1;34m(self, filename, dpi, facecolor, edgecolor, orientation, format, bbox_inches, **kwargs)\u001b[0m\n\u001b[0;32m   2089\u001b[0m                     \u001b[0morientation\u001b[0m\u001b[1;33m=\u001b[0m\u001b[0morientation\u001b[0m\u001b[1;33m,\u001b[0m\u001b[1;33m\u001b[0m\u001b[1;33m\u001b[0m\u001b[0m\n\u001b[0;32m   2090\u001b[0m                     \u001b[0mbbox_inches_restore\u001b[0m\u001b[1;33m=\u001b[0m\u001b[0m_bbox_inches_restore\u001b[0m\u001b[1;33m,\u001b[0m\u001b[1;33m\u001b[0m\u001b[1;33m\u001b[0m\u001b[0m\n\u001b[1;32m-> 2091\u001b[1;33m                     **kwargs)\n\u001b[0m\u001b[0;32m   2092\u001b[0m             \u001b[1;32mfinally\u001b[0m\u001b[1;33m:\u001b[0m\u001b[1;33m\u001b[0m\u001b[1;33m\u001b[0m\u001b[0m\n\u001b[0;32m   2093\u001b[0m                 \u001b[1;32mif\u001b[0m \u001b[0mbbox_inches\u001b[0m \u001b[1;32mand\u001b[0m \u001b[0mrestore_bbox\u001b[0m\u001b[1;33m:\u001b[0m\u001b[1;33m\u001b[0m\u001b[1;33m\u001b[0m\u001b[0m\n",
      "\u001b[1;32mC:\\ProgramData\\Anaconda3\\lib\\site-packages\\matplotlib\\backends\\backend_agg.py\u001b[0m in \u001b[0;36mprint_png\u001b[1;34m(self, filename_or_obj, metadata, pil_kwargs, *args, **kwargs)\u001b[0m\n\u001b[0;32m    525\u001b[0m \u001b[1;33m\u001b[0m\u001b[0m\n\u001b[0;32m    526\u001b[0m         \u001b[1;32melse\u001b[0m\u001b[1;33m:\u001b[0m\u001b[1;33m\u001b[0m\u001b[1;33m\u001b[0m\u001b[0m\n\u001b[1;32m--> 527\u001b[1;33m             \u001b[0mFigureCanvasAgg\u001b[0m\u001b[1;33m.\u001b[0m\u001b[0mdraw\u001b[0m\u001b[1;33m(\u001b[0m\u001b[0mself\u001b[0m\u001b[1;33m)\u001b[0m\u001b[1;33m\u001b[0m\u001b[1;33m\u001b[0m\u001b[0m\n\u001b[0m\u001b[0;32m    528\u001b[0m             \u001b[0mrenderer\u001b[0m \u001b[1;33m=\u001b[0m \u001b[0mself\u001b[0m\u001b[1;33m.\u001b[0m\u001b[0mget_renderer\u001b[0m\u001b[1;33m(\u001b[0m\u001b[1;33m)\u001b[0m\u001b[1;33m\u001b[0m\u001b[1;33m\u001b[0m\u001b[0m\n\u001b[0;32m    529\u001b[0m             \u001b[1;32mwith\u001b[0m \u001b[0mcbook\u001b[0m\u001b[1;33m.\u001b[0m\u001b[0m_setattr_cm\u001b[0m\u001b[1;33m(\u001b[0m\u001b[0mrenderer\u001b[0m\u001b[1;33m,\u001b[0m \u001b[0mdpi\u001b[0m\u001b[1;33m=\u001b[0m\u001b[0mself\u001b[0m\u001b[1;33m.\u001b[0m\u001b[0mfigure\u001b[0m\u001b[1;33m.\u001b[0m\u001b[0mdpi\u001b[0m\u001b[1;33m)\u001b[0m\u001b[1;33m,\u001b[0m\u001b[0;31m \u001b[0m\u001b[0;31m\\\u001b[0m\u001b[1;33m\u001b[0m\u001b[1;33m\u001b[0m\u001b[0m\n",
      "\u001b[1;32mC:\\ProgramData\\Anaconda3\\lib\\site-packages\\matplotlib\\backends\\backend_agg.py\u001b[0m in \u001b[0;36mdraw\u001b[1;34m(self)\u001b[0m\n\u001b[0;32m    386\u001b[0m         \u001b[0mself\u001b[0m\u001b[1;33m.\u001b[0m\u001b[0mrenderer\u001b[0m \u001b[1;33m=\u001b[0m \u001b[0mself\u001b[0m\u001b[1;33m.\u001b[0m\u001b[0mget_renderer\u001b[0m\u001b[1;33m(\u001b[0m\u001b[0mcleared\u001b[0m\u001b[1;33m=\u001b[0m\u001b[1;32mTrue\u001b[0m\u001b[1;33m)\u001b[0m\u001b[1;33m\u001b[0m\u001b[1;33m\u001b[0m\u001b[0m\n\u001b[0;32m    387\u001b[0m         \u001b[1;32mwith\u001b[0m \u001b[0mRendererAgg\u001b[0m\u001b[1;33m.\u001b[0m\u001b[0mlock\u001b[0m\u001b[1;33m:\u001b[0m\u001b[1;33m\u001b[0m\u001b[1;33m\u001b[0m\u001b[0m\n\u001b[1;32m--> 388\u001b[1;33m             \u001b[0mself\u001b[0m\u001b[1;33m.\u001b[0m\u001b[0mfigure\u001b[0m\u001b[1;33m.\u001b[0m\u001b[0mdraw\u001b[0m\u001b[1;33m(\u001b[0m\u001b[0mself\u001b[0m\u001b[1;33m.\u001b[0m\u001b[0mrenderer\u001b[0m\u001b[1;33m)\u001b[0m\u001b[1;33m\u001b[0m\u001b[1;33m\u001b[0m\u001b[0m\n\u001b[0m\u001b[0;32m    389\u001b[0m             \u001b[1;31m# A GUI class may be need to update a window using this draw, so\u001b[0m\u001b[1;33m\u001b[0m\u001b[1;33m\u001b[0m\u001b[1;33m\u001b[0m\u001b[0m\n\u001b[0;32m    390\u001b[0m             \u001b[1;31m# don't forget to call the superclass.\u001b[0m\u001b[1;33m\u001b[0m\u001b[1;33m\u001b[0m\u001b[1;33m\u001b[0m\u001b[0m\n",
      "\u001b[1;32mC:\\ProgramData\\Anaconda3\\lib\\site-packages\\matplotlib\\artist.py\u001b[0m in \u001b[0;36mdraw_wrapper\u001b[1;34m(artist, renderer, *args, **kwargs)\u001b[0m\n\u001b[0;32m     36\u001b[0m                 \u001b[0mrenderer\u001b[0m\u001b[1;33m.\u001b[0m\u001b[0mstart_filter\u001b[0m\u001b[1;33m(\u001b[0m\u001b[1;33m)\u001b[0m\u001b[1;33m\u001b[0m\u001b[1;33m\u001b[0m\u001b[0m\n\u001b[0;32m     37\u001b[0m \u001b[1;33m\u001b[0m\u001b[0m\n\u001b[1;32m---> 38\u001b[1;33m             \u001b[1;32mreturn\u001b[0m \u001b[0mdraw\u001b[0m\u001b[1;33m(\u001b[0m\u001b[0martist\u001b[0m\u001b[1;33m,\u001b[0m \u001b[0mrenderer\u001b[0m\u001b[1;33m,\u001b[0m \u001b[1;33m*\u001b[0m\u001b[0margs\u001b[0m\u001b[1;33m,\u001b[0m \u001b[1;33m**\u001b[0m\u001b[0mkwargs\u001b[0m\u001b[1;33m)\u001b[0m\u001b[1;33m\u001b[0m\u001b[1;33m\u001b[0m\u001b[0m\n\u001b[0m\u001b[0;32m     39\u001b[0m         \u001b[1;32mfinally\u001b[0m\u001b[1;33m:\u001b[0m\u001b[1;33m\u001b[0m\u001b[1;33m\u001b[0m\u001b[0m\n\u001b[0;32m     40\u001b[0m             \u001b[1;32mif\u001b[0m \u001b[0martist\u001b[0m\u001b[1;33m.\u001b[0m\u001b[0mget_agg_filter\u001b[0m\u001b[1;33m(\u001b[0m\u001b[1;33m)\u001b[0m \u001b[1;32mis\u001b[0m \u001b[1;32mnot\u001b[0m \u001b[1;32mNone\u001b[0m\u001b[1;33m:\u001b[0m\u001b[1;33m\u001b[0m\u001b[1;33m\u001b[0m\u001b[0m\n",
      "\u001b[1;32mC:\\ProgramData\\Anaconda3\\lib\\site-packages\\matplotlib\\figure.py\u001b[0m in \u001b[0;36mdraw\u001b[1;34m(self, renderer)\u001b[0m\n\u001b[0;32m   1707\u001b[0m             \u001b[0mself\u001b[0m\u001b[1;33m.\u001b[0m\u001b[0mpatch\u001b[0m\u001b[1;33m.\u001b[0m\u001b[0mdraw\u001b[0m\u001b[1;33m(\u001b[0m\u001b[0mrenderer\u001b[0m\u001b[1;33m)\u001b[0m\u001b[1;33m\u001b[0m\u001b[1;33m\u001b[0m\u001b[0m\n\u001b[0;32m   1708\u001b[0m             mimage._draw_list_compositing_images(\n\u001b[1;32m-> 1709\u001b[1;33m                 renderer, self, artists, self.suppressComposite)\n\u001b[0m\u001b[0;32m   1710\u001b[0m \u001b[1;33m\u001b[0m\u001b[0m\n\u001b[0;32m   1711\u001b[0m             \u001b[0mrenderer\u001b[0m\u001b[1;33m.\u001b[0m\u001b[0mclose_group\u001b[0m\u001b[1;33m(\u001b[0m\u001b[1;34m'figure'\u001b[0m\u001b[1;33m)\u001b[0m\u001b[1;33m\u001b[0m\u001b[1;33m\u001b[0m\u001b[0m\n",
      "\u001b[1;32mC:\\ProgramData\\Anaconda3\\lib\\site-packages\\matplotlib\\image.py\u001b[0m in \u001b[0;36m_draw_list_compositing_images\u001b[1;34m(renderer, parent, artists, suppress_composite)\u001b[0m\n\u001b[0;32m    133\u001b[0m     \u001b[1;32mif\u001b[0m \u001b[0mnot_composite\u001b[0m \u001b[1;32mor\u001b[0m \u001b[1;32mnot\u001b[0m \u001b[0mhas_images\u001b[0m\u001b[1;33m:\u001b[0m\u001b[1;33m\u001b[0m\u001b[1;33m\u001b[0m\u001b[0m\n\u001b[0;32m    134\u001b[0m         \u001b[1;32mfor\u001b[0m \u001b[0ma\u001b[0m \u001b[1;32min\u001b[0m \u001b[0martists\u001b[0m\u001b[1;33m:\u001b[0m\u001b[1;33m\u001b[0m\u001b[1;33m\u001b[0m\u001b[0m\n\u001b[1;32m--> 135\u001b[1;33m             \u001b[0ma\u001b[0m\u001b[1;33m.\u001b[0m\u001b[0mdraw\u001b[0m\u001b[1;33m(\u001b[0m\u001b[0mrenderer\u001b[0m\u001b[1;33m)\u001b[0m\u001b[1;33m\u001b[0m\u001b[1;33m\u001b[0m\u001b[0m\n\u001b[0m\u001b[0;32m    136\u001b[0m     \u001b[1;32melse\u001b[0m\u001b[1;33m:\u001b[0m\u001b[1;33m\u001b[0m\u001b[1;33m\u001b[0m\u001b[0m\n\u001b[0;32m    137\u001b[0m         \u001b[1;31m# Composite any adjacent images together\u001b[0m\u001b[1;33m\u001b[0m\u001b[1;33m\u001b[0m\u001b[1;33m\u001b[0m\u001b[0m\n",
      "\u001b[1;32mC:\\ProgramData\\Anaconda3\\lib\\site-packages\\matplotlib\\artist.py\u001b[0m in \u001b[0;36mdraw_wrapper\u001b[1;34m(artist, renderer, *args, **kwargs)\u001b[0m\n\u001b[0;32m     36\u001b[0m                 \u001b[0mrenderer\u001b[0m\u001b[1;33m.\u001b[0m\u001b[0mstart_filter\u001b[0m\u001b[1;33m(\u001b[0m\u001b[1;33m)\u001b[0m\u001b[1;33m\u001b[0m\u001b[1;33m\u001b[0m\u001b[0m\n\u001b[0;32m     37\u001b[0m \u001b[1;33m\u001b[0m\u001b[0m\n\u001b[1;32m---> 38\u001b[1;33m             \u001b[1;32mreturn\u001b[0m \u001b[0mdraw\u001b[0m\u001b[1;33m(\u001b[0m\u001b[0martist\u001b[0m\u001b[1;33m,\u001b[0m \u001b[0mrenderer\u001b[0m\u001b[1;33m,\u001b[0m \u001b[1;33m*\u001b[0m\u001b[0margs\u001b[0m\u001b[1;33m,\u001b[0m \u001b[1;33m**\u001b[0m\u001b[0mkwargs\u001b[0m\u001b[1;33m)\u001b[0m\u001b[1;33m\u001b[0m\u001b[1;33m\u001b[0m\u001b[0m\n\u001b[0m\u001b[0;32m     39\u001b[0m         \u001b[1;32mfinally\u001b[0m\u001b[1;33m:\u001b[0m\u001b[1;33m\u001b[0m\u001b[1;33m\u001b[0m\u001b[0m\n\u001b[0;32m     40\u001b[0m             \u001b[1;32mif\u001b[0m \u001b[0martist\u001b[0m\u001b[1;33m.\u001b[0m\u001b[0mget_agg_filter\u001b[0m\u001b[1;33m(\u001b[0m\u001b[1;33m)\u001b[0m \u001b[1;32mis\u001b[0m \u001b[1;32mnot\u001b[0m \u001b[1;32mNone\u001b[0m\u001b[1;33m:\u001b[0m\u001b[1;33m\u001b[0m\u001b[1;33m\u001b[0m\u001b[0m\n",
      "\u001b[1;32mC:\\ProgramData\\Anaconda3\\lib\\site-packages\\matplotlib\\axes\\_base.py\u001b[0m in \u001b[0;36mdraw\u001b[1;34m(self, renderer, inframe)\u001b[0m\n\u001b[0;32m   2645\u001b[0m             \u001b[0mrenderer\u001b[0m\u001b[1;33m.\u001b[0m\u001b[0mstop_rasterizing\u001b[0m\u001b[1;33m(\u001b[0m\u001b[1;33m)\u001b[0m\u001b[1;33m\u001b[0m\u001b[1;33m\u001b[0m\u001b[0m\n\u001b[0;32m   2646\u001b[0m \u001b[1;33m\u001b[0m\u001b[0m\n\u001b[1;32m-> 2647\u001b[1;33m         \u001b[0mmimage\u001b[0m\u001b[1;33m.\u001b[0m\u001b[0m_draw_list_compositing_images\u001b[0m\u001b[1;33m(\u001b[0m\u001b[0mrenderer\u001b[0m\u001b[1;33m,\u001b[0m \u001b[0mself\u001b[0m\u001b[1;33m,\u001b[0m \u001b[0martists\u001b[0m\u001b[1;33m)\u001b[0m\u001b[1;33m\u001b[0m\u001b[1;33m\u001b[0m\u001b[0m\n\u001b[0m\u001b[0;32m   2648\u001b[0m \u001b[1;33m\u001b[0m\u001b[0m\n\u001b[0;32m   2649\u001b[0m         \u001b[0mrenderer\u001b[0m\u001b[1;33m.\u001b[0m\u001b[0mclose_group\u001b[0m\u001b[1;33m(\u001b[0m\u001b[1;34m'axes'\u001b[0m\u001b[1;33m)\u001b[0m\u001b[1;33m\u001b[0m\u001b[1;33m\u001b[0m\u001b[0m\n",
      "\u001b[1;32mC:\\ProgramData\\Anaconda3\\lib\\site-packages\\matplotlib\\image.py\u001b[0m in \u001b[0;36m_draw_list_compositing_images\u001b[1;34m(renderer, parent, artists, suppress_composite)\u001b[0m\n\u001b[0;32m    133\u001b[0m     \u001b[1;32mif\u001b[0m \u001b[0mnot_composite\u001b[0m \u001b[1;32mor\u001b[0m \u001b[1;32mnot\u001b[0m \u001b[0mhas_images\u001b[0m\u001b[1;33m:\u001b[0m\u001b[1;33m\u001b[0m\u001b[1;33m\u001b[0m\u001b[0m\n\u001b[0;32m    134\u001b[0m         \u001b[1;32mfor\u001b[0m \u001b[0ma\u001b[0m \u001b[1;32min\u001b[0m \u001b[0martists\u001b[0m\u001b[1;33m:\u001b[0m\u001b[1;33m\u001b[0m\u001b[1;33m\u001b[0m\u001b[0m\n\u001b[1;32m--> 135\u001b[1;33m             \u001b[0ma\u001b[0m\u001b[1;33m.\u001b[0m\u001b[0mdraw\u001b[0m\u001b[1;33m(\u001b[0m\u001b[0mrenderer\u001b[0m\u001b[1;33m)\u001b[0m\u001b[1;33m\u001b[0m\u001b[1;33m\u001b[0m\u001b[0m\n\u001b[0m\u001b[0;32m    136\u001b[0m     \u001b[1;32melse\u001b[0m\u001b[1;33m:\u001b[0m\u001b[1;33m\u001b[0m\u001b[1;33m\u001b[0m\u001b[0m\n\u001b[0;32m    137\u001b[0m         \u001b[1;31m# Composite any adjacent images together\u001b[0m\u001b[1;33m\u001b[0m\u001b[1;33m\u001b[0m\u001b[1;33m\u001b[0m\u001b[0m\n",
      "\u001b[1;32mC:\\ProgramData\\Anaconda3\\lib\\site-packages\\matplotlib\\artist.py\u001b[0m in \u001b[0;36mdraw_wrapper\u001b[1;34m(artist, renderer, *args, **kwargs)\u001b[0m\n\u001b[0;32m     36\u001b[0m                 \u001b[0mrenderer\u001b[0m\u001b[1;33m.\u001b[0m\u001b[0mstart_filter\u001b[0m\u001b[1;33m(\u001b[0m\u001b[1;33m)\u001b[0m\u001b[1;33m\u001b[0m\u001b[1;33m\u001b[0m\u001b[0m\n\u001b[0;32m     37\u001b[0m \u001b[1;33m\u001b[0m\u001b[0m\n\u001b[1;32m---> 38\u001b[1;33m             \u001b[1;32mreturn\u001b[0m \u001b[0mdraw\u001b[0m\u001b[1;33m(\u001b[0m\u001b[0martist\u001b[0m\u001b[1;33m,\u001b[0m \u001b[0mrenderer\u001b[0m\u001b[1;33m,\u001b[0m \u001b[1;33m*\u001b[0m\u001b[0margs\u001b[0m\u001b[1;33m,\u001b[0m \u001b[1;33m**\u001b[0m\u001b[0mkwargs\u001b[0m\u001b[1;33m)\u001b[0m\u001b[1;33m\u001b[0m\u001b[1;33m\u001b[0m\u001b[0m\n\u001b[0m\u001b[0;32m     39\u001b[0m         \u001b[1;32mfinally\u001b[0m\u001b[1;33m:\u001b[0m\u001b[1;33m\u001b[0m\u001b[1;33m\u001b[0m\u001b[0m\n\u001b[0;32m     40\u001b[0m             \u001b[1;32mif\u001b[0m \u001b[0martist\u001b[0m\u001b[1;33m.\u001b[0m\u001b[0mget_agg_filter\u001b[0m\u001b[1;33m(\u001b[0m\u001b[1;33m)\u001b[0m \u001b[1;32mis\u001b[0m \u001b[1;32mnot\u001b[0m \u001b[1;32mNone\u001b[0m\u001b[1;33m:\u001b[0m\u001b[1;33m\u001b[0m\u001b[1;33m\u001b[0m\u001b[0m\n",
      "\u001b[1;32mC:\\ProgramData\\Anaconda3\\lib\\site-packages\\matplotlib\\text.py\u001b[0m in \u001b[0;36mdraw\u001b[1;34m(self, renderer)\u001b[0m\n\u001b[0;32m    668\u001b[0m \u001b[1;33m\u001b[0m\u001b[0m\n\u001b[0;32m    669\u001b[0m         \u001b[1;32mwith\u001b[0m \u001b[0m_wrap_text\u001b[0m\u001b[1;33m(\u001b[0m\u001b[0mself\u001b[0m\u001b[1;33m)\u001b[0m \u001b[1;32mas\u001b[0m \u001b[0mtextobj\u001b[0m\u001b[1;33m:\u001b[0m\u001b[1;33m\u001b[0m\u001b[1;33m\u001b[0m\u001b[0m\n\u001b[1;32m--> 670\u001b[1;33m             \u001b[0mbbox\u001b[0m\u001b[1;33m,\u001b[0m \u001b[0minfo\u001b[0m\u001b[1;33m,\u001b[0m \u001b[0mdescent\u001b[0m \u001b[1;33m=\u001b[0m \u001b[0mtextobj\u001b[0m\u001b[1;33m.\u001b[0m\u001b[0m_get_layout\u001b[0m\u001b[1;33m(\u001b[0m\u001b[0mrenderer\u001b[0m\u001b[1;33m)\u001b[0m\u001b[1;33m\u001b[0m\u001b[1;33m\u001b[0m\u001b[0m\n\u001b[0m\u001b[0;32m    671\u001b[0m             \u001b[0mtrans\u001b[0m \u001b[1;33m=\u001b[0m \u001b[0mtextobj\u001b[0m\u001b[1;33m.\u001b[0m\u001b[0mget_transform\u001b[0m\u001b[1;33m(\u001b[0m\u001b[1;33m)\u001b[0m\u001b[1;33m\u001b[0m\u001b[1;33m\u001b[0m\u001b[0m\n\u001b[0;32m    672\u001b[0m \u001b[1;33m\u001b[0m\u001b[0m\n",
      "\u001b[1;32mC:\\ProgramData\\Anaconda3\\lib\\site-packages\\matplotlib\\text.py\u001b[0m in \u001b[0;36m_get_layout\u001b[1;34m(self, renderer)\u001b[0m\n\u001b[0;32m    336\u001b[0m \u001b[1;33m\u001b[0m\u001b[0m\n\u001b[0;32m    337\u001b[0m         \u001b[1;31m# get the rotation matrix\u001b[0m\u001b[1;33m\u001b[0m\u001b[1;33m\u001b[0m\u001b[1;33m\u001b[0m\u001b[0m\n\u001b[1;32m--> 338\u001b[1;33m         \u001b[0mM\u001b[0m \u001b[1;33m=\u001b[0m \u001b[0mAffine2D\u001b[0m\u001b[1;33m(\u001b[0m\u001b[1;33m)\u001b[0m\u001b[1;33m.\u001b[0m\u001b[0mrotate_deg\u001b[0m\u001b[1;33m(\u001b[0m\u001b[0mself\u001b[0m\u001b[1;33m.\u001b[0m\u001b[0mget_rotation\u001b[0m\u001b[1;33m(\u001b[0m\u001b[1;33m)\u001b[0m\u001b[1;33m)\u001b[0m\u001b[1;33m\u001b[0m\u001b[1;33m\u001b[0m\u001b[0m\n\u001b[0m\u001b[0;32m    339\u001b[0m \u001b[1;33m\u001b[0m\u001b[0m\n\u001b[0;32m    340\u001b[0m         \u001b[1;31m# now offset the individual text lines within the box\u001b[0m\u001b[1;33m\u001b[0m\u001b[1;33m\u001b[0m\u001b[1;33m\u001b[0m\u001b[0m\n",
      "\u001b[1;32mC:\\ProgramData\\Anaconda3\\lib\\site-packages\\matplotlib\\transforms.py\u001b[0m in \u001b[0;36mrotate_deg\u001b[1;34m(self, degrees)\u001b[0m\n\u001b[0;32m   1936\u001b[0m         \u001b[1;32mand\u001b[0m \u001b[1;33m:\u001b[0m\u001b[0mmeth\u001b[0m\u001b[1;33m:\u001b[0m\u001b[0;31m`\u001b[0m\u001b[0mscale\u001b[0m\u001b[0;31m`\u001b[0m\u001b[1;33m.\u001b[0m\u001b[1;33m\u001b[0m\u001b[1;33m\u001b[0m\u001b[0m\n\u001b[0;32m   1937\u001b[0m         \"\"\"\n\u001b[1;32m-> 1938\u001b[1;33m         \u001b[1;32mreturn\u001b[0m \u001b[0mself\u001b[0m\u001b[1;33m.\u001b[0m\u001b[0mrotate\u001b[0m\u001b[1;33m(\u001b[0m\u001b[0mnp\u001b[0m\u001b[1;33m.\u001b[0m\u001b[0mdeg2rad\u001b[0m\u001b[1;33m(\u001b[0m\u001b[0mdegrees\u001b[0m\u001b[1;33m)\u001b[0m\u001b[1;33m)\u001b[0m\u001b[1;33m\u001b[0m\u001b[1;33m\u001b[0m\u001b[0m\n\u001b[0m\u001b[0;32m   1939\u001b[0m \u001b[1;33m\u001b[0m\u001b[0m\n\u001b[0;32m   1940\u001b[0m     \u001b[1;32mdef\u001b[0m \u001b[0mrotate_around\u001b[0m\u001b[1;33m(\u001b[0m\u001b[0mself\u001b[0m\u001b[1;33m,\u001b[0m \u001b[0mx\u001b[0m\u001b[1;33m,\u001b[0m \u001b[0my\u001b[0m\u001b[1;33m,\u001b[0m \u001b[0mtheta\u001b[0m\u001b[1;33m)\u001b[0m\u001b[1;33m:\u001b[0m\u001b[1;33m\u001b[0m\u001b[1;33m\u001b[0m\u001b[0m\n",
      "\u001b[1;32mC:\\ProgramData\\Anaconda3\\lib\\site-packages\\matplotlib\\transforms.py\u001b[0m in \u001b[0;36mrotate\u001b[1;34m(self, theta)\u001b[0m\n\u001b[0;32m   1924\u001b[0m         rotate_mtx = np.array([[a, -b, 0.0], [b, a, 0.0], [0.0, 0.0, 1.0]],\n\u001b[0;32m   1925\u001b[0m                               float)\n\u001b[1;32m-> 1926\u001b[1;33m         \u001b[0mself\u001b[0m\u001b[1;33m.\u001b[0m\u001b[0m_mtx\u001b[0m \u001b[1;33m=\u001b[0m \u001b[0mnp\u001b[0m\u001b[1;33m.\u001b[0m\u001b[0mdot\u001b[0m\u001b[1;33m(\u001b[0m\u001b[0mrotate_mtx\u001b[0m\u001b[1;33m,\u001b[0m \u001b[0mself\u001b[0m\u001b[1;33m.\u001b[0m\u001b[0m_mtx\u001b[0m\u001b[1;33m)\u001b[0m\u001b[1;33m\u001b[0m\u001b[1;33m\u001b[0m\u001b[0m\n\u001b[0m\u001b[0;32m   1927\u001b[0m         \u001b[0mself\u001b[0m\u001b[1;33m.\u001b[0m\u001b[0minvalidate\u001b[0m\u001b[1;33m(\u001b[0m\u001b[1;33m)\u001b[0m\u001b[1;33m\u001b[0m\u001b[1;33m\u001b[0m\u001b[0m\n\u001b[0;32m   1928\u001b[0m         \u001b[1;32mreturn\u001b[0m \u001b[0mself\u001b[0m\u001b[1;33m\u001b[0m\u001b[1;33m\u001b[0m\u001b[0m\n",
      "\u001b[1;32m<__array_function__ internals>\u001b[0m in \u001b[0;36mdot\u001b[1;34m(*args, **kwargs)\u001b[0m\n",
      "\u001b[1;31mKeyboardInterrupt\u001b[0m: "
     ]
    },
    {
     "data": {
      "application/javascript": [
       "\n",
       "            setTimeout(function() {\n",
       "                var nbb_cell_id = 40;\n",
       "                var nbb_unformatted_code = \"errors_df = pd.concat([X, pd.DataFrame(errors)], axis=1)\\nsns.heatmap(errors_df.corr(), vmin=-1, vmax=1, annot=True)\";\n",
       "                var nbb_formatted_code = \"errors_df = pd.concat([X, pd.DataFrame(errors)], axis=1)\\nsns.heatmap(errors_df.corr(), vmin=-1, vmax=1, annot=True)\";\n",
       "                var nbb_cells = Jupyter.notebook.get_cells();\n",
       "                for (var i = 0; i < nbb_cells.length; ++i) {\n",
       "                    if (nbb_cells[i].input_prompt_number == nbb_cell_id) {\n",
       "                        if (nbb_cells[i].get_text() == nbb_unformatted_code) {\n",
       "                             nbb_cells[i].set_text(nbb_formatted_code);\n",
       "                        }\n",
       "                        break;\n",
       "                    }\n",
       "                }\n",
       "            }, 500);\n",
       "            "
      ],
      "text/plain": [
       "<IPython.core.display.Javascript object>"
      ]
     },
     "metadata": {},
     "output_type": "display_data"
    }
   ],
   "source": [
    "errors_df = pd.concat([X, pd.DataFrame(errors)], axis=1)\n",
    "sns.heatmap(errors_df.corr(), vmin=-1, vmax=1, annot=True)"
   ]
  },
  {
   "cell_type": "code",
   "execution_count": 49,
   "metadata": {},
   "outputs": [
    {
     "data": {
      "text/plain": [
       "0              1.000000e+00\n",
       "lotarea        2.354117e-12\n",
       "Sev            1.328198e-12\n",
       "Low            8.889382e-13\n",
       "ClearCr        7.786451e-13\n",
       "                   ...     \n",
       "RRNe           1.580811e-15\n",
       "RRAe           1.507268e-15\n",
       "mosold         1.132612e-15\n",
       "secondflrsf    4.628266e-16\n",
       "ImStucc        2.830482e-16\n",
       "Name: 0, Length: 231, dtype: float64"
      ]
     },
     "execution_count": 49,
     "metadata": {},
     "output_type": "execute_result"
    },
    {
     "data": {
      "application/javascript": [
       "\n",
       "            setTimeout(function() {\n",
       "                var nbb_cell_id = 49;\n",
       "                var nbb_unformatted_code = \"abs(errors_df.corr()[0]).sort_values(ascending=False)\";\n",
       "                var nbb_formatted_code = \"abs(errors_df.corr()[0]).sort_values(ascending=False)\";\n",
       "                var nbb_cells = Jupyter.notebook.get_cells();\n",
       "                for (var i = 0; i < nbb_cells.length; ++i) {\n",
       "                    if (nbb_cells[i].input_prompt_number == nbb_cell_id) {\n",
       "                        if (nbb_cells[i].get_text() == nbb_unformatted_code) {\n",
       "                             nbb_cells[i].set_text(nbb_formatted_code);\n",
       "                        }\n",
       "                        break;\n",
       "                    }\n",
       "                }\n",
       "            }, 500);\n",
       "            "
      ],
      "text/plain": [
       "<IPython.core.display.Javascript object>"
      ]
     },
     "metadata": {},
     "output_type": "display_data"
    }
   ],
   "source": [
    "abs(errors_df.corr()[0]).sort_values(ascending=False)\n",
    "#doesn't seem to be a high correlation between errors and features"
   ]
  }
 ],
 "metadata": {
  "kernelspec": {
   "display_name": "Python 3",
   "language": "python",
   "name": "python3"
  },
  "language_info": {
   "codemirror_mode": {
    "name": "ipython",
    "version": 3
   },
   "file_extension": ".py",
   "mimetype": "text/x-python",
   "name": "python",
   "nbconvert_exporter": "python",
   "pygments_lexer": "ipython3",
   "version": "3.7.6"
  }
 },
 "nbformat": 4,
 "nbformat_minor": 4
}
