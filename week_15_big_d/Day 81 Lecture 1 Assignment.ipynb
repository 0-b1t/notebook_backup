{
 "cells": [
  {
   "cell_type": "code",
   "execution_count": 1,
   "metadata": {},
   "outputs": [
    {
     "data": {
      "application/javascript": [
       "\n",
       "            setTimeout(function() {\n",
       "                var nbb_cell_id = 1;\n",
       "                var nbb_unformatted_code = \"%reload_ext nb_black\";\n",
       "                var nbb_formatted_code = \"%reload_ext nb_black\";\n",
       "                var nbb_cells = Jupyter.notebook.get_cells();\n",
       "                for (var i = 0; i < nbb_cells.length; ++i) {\n",
       "                    if (nbb_cells[i].input_prompt_number == nbb_cell_id) {\n",
       "                        if (nbb_cells[i].get_text() == nbb_unformatted_code) {\n",
       "                             nbb_cells[i].set_text(nbb_formatted_code);\n",
       "                        }\n",
       "                        break;\n",
       "                    }\n",
       "                }\n",
       "            }, 500);\n",
       "            "
      ],
      "text/plain": [
       "<IPython.core.display.Javascript object>"
      ]
     },
     "metadata": {},
     "output_type": "display_data"
    }
   ],
   "source": [
    "%reload_ext nb_black"
   ]
  },
  {
   "cell_type": "markdown",
   "metadata": {
    "colab_type": "text",
    "id": "087S2B-zux_6"
   },
   "source": [
    "## Day 76 Lecture 1 Assignment\n",
    "\n",
    "In this assignment, we will learn about the Dask library. We will use a json file containing the novel War and Peace loaded below and analyze the text."
   ]
  },
  {
   "cell_type": "code",
   "execution_count": 3,
   "metadata": {
    "colab": {
     "base_uri": "https://localhost:8080/",
     "height": 34
    },
    "colab_type": "code",
    "executionInfo": {
     "elapsed": 700,
     "status": "ok",
     "timestamp": 1597072027786,
     "user": {
      "displayName": "Dennis Tran",
      "photoUrl": "https://lh3.googleusercontent.com/a-/AOh14Gh4jmvNC7SsJIBkUCGrPDwTRU-4MoXuoJ6RtrZM=s64",
      "userId": "03151481835436749126"
     },
     "user_tz": 420
    },
    "id": "IYIQ_BxAux_7",
    "outputId": "0e42e94b-07ca-4033-d30c-31e66c872a83"
   },
   "outputs": [
    {
     "data": {
      "text/plain": [
       "dask.bag<bag-from-delayed, npartitions=1>"
      ]
     },
     "execution_count": 3,
     "metadata": {},
     "output_type": "execute_result"
    },
    {
     "data": {
      "application/javascript": [
       "\n",
       "            setTimeout(function() {\n",
       "                var nbb_cell_id = 3;\n",
       "                var nbb_unformatted_code = \"import dask.bag as db\\nimport json\\n\\ntolstoy = db.read_text(\\\"data/2600-0.txt\\\")\\ntolstoy\";\n",
       "                var nbb_formatted_code = \"import dask.bag as db\\nimport json\\n\\ntolstoy = db.read_text(\\\"data/2600-0.txt\\\")\\ntolstoy\";\n",
       "                var nbb_cells = Jupyter.notebook.get_cells();\n",
       "                for (var i = 0; i < nbb_cells.length; ++i) {\n",
       "                    if (nbb_cells[i].input_prompt_number == nbb_cell_id) {\n",
       "                        if (nbb_cells[i].get_text() == nbb_unformatted_code) {\n",
       "                             nbb_cells[i].set_text(nbb_formatted_code);\n",
       "                        }\n",
       "                        break;\n",
       "                    }\n",
       "                }\n",
       "            }, 500);\n",
       "            "
      ],
      "text/plain": [
       "<IPython.core.display.Javascript object>"
      ]
     },
     "metadata": {},
     "output_type": "display_data"
    }
   ],
   "source": [
    "import dask.bag as db\n",
    "import json\n",
    "\n",
    "tolstoy = db.read_text(\"data/2600-0.txt\")\n",
    "tolstoy"
   ]
  },
  {
   "cell_type": "code",
   "execution_count": 4,
   "metadata": {
    "colab": {
     "base_uri": "https://localhost:8080/",
     "height": 187
    },
    "colab_type": "code",
    "executionInfo": {
     "elapsed": 2510,
     "status": "ok",
     "timestamp": 1597072032410,
     "user": {
      "displayName": "Dennis Tran",
      "photoUrl": "https://lh3.googleusercontent.com/a-/AOh14Gh4jmvNC7SsJIBkUCGrPDwTRU-4MoXuoJ6RtrZM=s64",
      "userId": "03151481835436749126"
     },
     "user_tz": 420
    },
    "id": "iaIoIkW25DKu",
    "outputId": "8abbe077-1131-417f-801f-7d78c2fd2ea9"
   },
   "outputs": [
    {
     "data": {
      "text/plain": [
       "('\\ufeffBOOK ONE: 1805\\n',\n",
       " '\\n',\n",
       " '\\n',\n",
       " '\\n',\n",
       " '\\n',\n",
       " '\\n',\n",
       " 'CHAPTER I\\n',\n",
       " '\\n',\n",
       " '“Well, Prince, so Genoa and Lucca are now just family estates of the\\n',\n",
       " 'Buonapartes. But I warn you, if you don’t tell me that this means war,\\n')"
      ]
     },
     "execution_count": 4,
     "metadata": {},
     "output_type": "execute_result"
    },
    {
     "data": {
      "application/javascript": [
       "\n",
       "            setTimeout(function() {\n",
       "                var nbb_cell_id = 4;\n",
       "                var nbb_unformatted_code = \"tolstoy.take(10)\";\n",
       "                var nbb_formatted_code = \"tolstoy.take(10)\";\n",
       "                var nbb_cells = Jupyter.notebook.get_cells();\n",
       "                for (var i = 0; i < nbb_cells.length; ++i) {\n",
       "                    if (nbb_cells[i].input_prompt_number == nbb_cell_id) {\n",
       "                        if (nbb_cells[i].get_text() == nbb_unformatted_code) {\n",
       "                             nbb_cells[i].set_text(nbb_formatted_code);\n",
       "                        }\n",
       "                        break;\n",
       "                    }\n",
       "                }\n",
       "            }, 500);\n",
       "            "
      ],
      "text/plain": [
       "<IPython.core.display.Javascript object>"
      ]
     },
     "metadata": {},
     "output_type": "display_data"
    }
   ],
   "source": [
    "tolstoy.take(10)"
   ]
  },
  {
   "cell_type": "markdown",
   "metadata": {
    "colab_type": "text",
    "id": "WBxjwKSnux_-"
   },
   "source": [
    "Above, we have loaded the novel War and Peace by Tolstoy into a Dask bag. Print the first 10 rows in the novel using the Dask bag."
   ]
  },
  {
   "cell_type": "code",
   "execution_count": null,
   "metadata": {
    "colab": {},
    "colab_type": "code",
    "executionInfo": {
     "elapsed": 134860,
     "status": "aborted",
     "timestamp": 1597071921431,
     "user": {
      "displayName": "Dennis Tran",
      "photoUrl": "https://lh3.googleusercontent.com/a-/AOh14Gh4jmvNC7SsJIBkUCGrPDwTRU-4MoXuoJ6RtrZM=s64",
      "userId": "03151481835436749126"
     },
     "user_tz": 420
    },
    "id": "L28YX6uuux__"
   },
   "outputs": [],
   "source": [
    "#Answer below:\n",
    "\n"
   ]
  },
  {
   "cell_type": "markdown",
   "metadata": {
    "colab_type": "text",
    "id": "uN65kINLuyAB"
   },
   "source": [
    "You may notice that there are many blank rows (rows containing only `\\n`) Filter these rows and print the first 10 non blank rows in the novel."
   ]
  },
  {
   "cell_type": "code",
   "execution_count": 11,
   "metadata": {
    "colab": {},
    "colab_type": "code",
    "executionInfo": {
     "elapsed": 134858,
     "status": "aborted",
     "timestamp": 1597071921432,
     "user": {
      "displayName": "Dennis Tran",
      "photoUrl": "https://lh3.googleusercontent.com/a-/AOh14Gh4jmvNC7SsJIBkUCGrPDwTRU-4MoXuoJ6RtrZM=s64",
      "userId": "03151481835436749126"
     },
     "user_tz": 420
    },
    "id": "jGlMSK5suyAC"
   },
   "outputs": [
    {
     "data": {
      "text/plain": [
       "('\\ufeffBOOK ONE: 1805\\n',\n",
       " 'CHAPTER I\\n',\n",
       " '“Well, Prince, so Genoa and Lucca are now just family estates of the\\n',\n",
       " 'Buonapartes. But I warn you, if you don’t tell me that this means war,\\n',\n",
       " 'if you still try to defend the infamies and horrors perpetrated by that\\n',\n",
       " 'Antichrist—I really believe he is Antichrist—I will have nothing\\n',\n",
       " 'more to do with you and you are no longer my friend, no longer my\\n',\n",
       " '‘faithful slave,’ as you call yourself! But how do you do? I see I\\n',\n",
       " 'have frightened you—sit down and tell me all the news.”\\n',\n",
       " 'It was in July, 1805, and the speaker was the well-known Anna Pávlovna\\n')"
      ]
     },
     "execution_count": 11,
     "metadata": {},
     "output_type": "execute_result"
    },
    {
     "data": {
      "application/javascript": [
       "\n",
       "            setTimeout(function() {\n",
       "                var nbb_cell_id = 11;\n",
       "                var nbb_unformatted_code = \"# Answer below:\\nfiltered = tolstoy.filter(lambda line: line != \\\"\\\\n\\\")\\nfiltered.take(10)\";\n",
       "                var nbb_formatted_code = \"# Answer below:\\nfiltered = tolstoy.filter(lambda line: line != \\\"\\\\n\\\")\\nfiltered.take(10)\";\n",
       "                var nbb_cells = Jupyter.notebook.get_cells();\n",
       "                for (var i = 0; i < nbb_cells.length; ++i) {\n",
       "                    if (nbb_cells[i].input_prompt_number == nbb_cell_id) {\n",
       "                        if (nbb_cells[i].get_text() == nbb_unformatted_code) {\n",
       "                             nbb_cells[i].set_text(nbb_formatted_code);\n",
       "                        }\n",
       "                        break;\n",
       "                    }\n",
       "                }\n",
       "            }, 500);\n",
       "            "
      ],
      "text/plain": [
       "<IPython.core.display.Javascript object>"
      ]
     },
     "metadata": {},
     "output_type": "display_data"
    }
   ],
   "source": [
    "# Answer below:\n",
    "filtered = tolstoy.filter(lambda line: line != \"\\n\")\n",
    "filtered.take(10)"
   ]
  },
  {
   "cell_type": "markdown",
   "metadata": {
    "colab_type": "text",
    "id": "kjIeJ8ZFuyAD"
   },
   "source": [
    "We would like to count the frequency of all words in the novel. The first step is to remove the `\\n` from the end of each string. Do this using the map function. Inside the map function write a lambda that will replace the string `\\n` with `''`."
   ]
  },
  {
   "cell_type": "code",
   "execution_count": 12,
   "metadata": {
    "colab": {},
    "colab_type": "code",
    "executionInfo": {
     "elapsed": 134857,
     "status": "aborted",
     "timestamp": 1597071921433,
     "user": {
      "displayName": "Dennis Tran",
      "photoUrl": "https://lh3.googleusercontent.com/a-/AOh14Gh4jmvNC7SsJIBkUCGrPDwTRU-4MoXuoJ6RtrZM=s64",
      "userId": "03151481835436749126"
     },
     "user_tz": 420
    },
    "id": "bGaXglIsuyAE"
   },
   "outputs": [
    {
     "data": {
      "text/plain": [
       "('\\ufeffBOOK ONE: 1805',\n",
       " 'CHAPTER I',\n",
       " '“Well, Prince, so Genoa and Lucca are now just family estates of the',\n",
       " 'Buonapartes. But I warn you, if you don’t tell me that this means war,',\n",
       " 'if you still try to defend the infamies and horrors perpetrated by that',\n",
       " 'Antichrist—I really believe he is Antichrist—I will have nothing',\n",
       " 'more to do with you and you are no longer my friend, no longer my',\n",
       " '‘faithful slave,’ as you call yourself! But how do you do? I see I',\n",
       " 'have frightened you—sit down and tell me all the news.”',\n",
       " 'It was in July, 1805, and the speaker was the well-known Anna Pávlovna')"
      ]
     },
     "execution_count": 12,
     "metadata": {},
     "output_type": "execute_result"
    },
    {
     "data": {
      "application/javascript": [
       "\n",
       "            setTimeout(function() {\n",
       "                var nbb_cell_id = 12;\n",
       "                var nbb_unformatted_code = \"#Answer below:\\nmapped = filtered.map(lambda line: line.replace('\\\\n', ''))\\nmapped.take(10)\";\n",
       "                var nbb_formatted_code = \"# Answer below:\\nmapped = filtered.map(lambda line: line.replace(\\\"\\\\n\\\", \\\"\\\"))\\nmapped.take(10)\";\n",
       "                var nbb_cells = Jupyter.notebook.get_cells();\n",
       "                for (var i = 0; i < nbb_cells.length; ++i) {\n",
       "                    if (nbb_cells[i].input_prompt_number == nbb_cell_id) {\n",
       "                        if (nbb_cells[i].get_text() == nbb_unformatted_code) {\n",
       "                             nbb_cells[i].set_text(nbb_formatted_code);\n",
       "                        }\n",
       "                        break;\n",
       "                    }\n",
       "                }\n",
       "            }, 500);\n",
       "            "
      ],
      "text/plain": [
       "<IPython.core.display.Javascript object>"
      ]
     },
     "metadata": {},
     "output_type": "display_data"
    }
   ],
   "source": [
    "# Answer below:\n",
    "mapped = filtered.map(lambda line: line.replace(\"\\n\", \"\"))\n",
    "mapped.take(10)"
   ]
  },
  {
   "cell_type": "markdown",
   "metadata": {
    "colab_type": "text",
    "id": "JIA08wDYuyAF"
   },
   "source": [
    "Next, split each row on the space (use a lambda function inside a map). Then apply the flatten function to create a list of all words in the novel."
   ]
  },
  {
   "cell_type": "code",
   "execution_count": 15,
   "metadata": {
    "colab": {},
    "colab_type": "code",
    "executionInfo": {
     "elapsed": 134854,
     "status": "aborted",
     "timestamp": 1597071921434,
     "user": {
      "displayName": "Dennis Tran",
      "photoUrl": "https://lh3.googleusercontent.com/a-/AOh14Gh4jmvNC7SsJIBkUCGrPDwTRU-4MoXuoJ6RtrZM=s64",
      "userId": "03151481835436749126"
     },
     "user_tz": 420
    },
    "id": "cqjprCyYuyAG",
    "scrolled": true
   },
   "outputs": [
    {
     "data": {
      "text/plain": [
       "(['\\ufeffBOOK', 'ONE:', '1805'],\n",
       " ['CHAPTER', 'I'],\n",
       " ['“Well,',\n",
       "  'Prince,',\n",
       "  'so',\n",
       "  'Genoa',\n",
       "  'and',\n",
       "  'Lucca',\n",
       "  'are',\n",
       "  'now',\n",
       "  'just',\n",
       "  'family',\n",
       "  'estates',\n",
       "  'of',\n",
       "  'the'],\n",
       " ['Buonapartes.',\n",
       "  'But',\n",
       "  'I',\n",
       "  'warn',\n",
       "  'you,',\n",
       "  'if',\n",
       "  'you',\n",
       "  'don’t',\n",
       "  'tell',\n",
       "  'me',\n",
       "  'that',\n",
       "  'this',\n",
       "  'means',\n",
       "  'war,'],\n",
       " ['if',\n",
       "  'you',\n",
       "  'still',\n",
       "  'try',\n",
       "  'to',\n",
       "  'defend',\n",
       "  'the',\n",
       "  'infamies',\n",
       "  'and',\n",
       "  'horrors',\n",
       "  'perpetrated',\n",
       "  'by',\n",
       "  'that'],\n",
       " ['Antichrist—I',\n",
       "  'really',\n",
       "  'believe',\n",
       "  'he',\n",
       "  'is',\n",
       "  'Antichrist—I',\n",
       "  'will',\n",
       "  'have',\n",
       "  'nothing'],\n",
       " ['more',\n",
       "  'to',\n",
       "  'do',\n",
       "  'with',\n",
       "  'you',\n",
       "  'and',\n",
       "  'you',\n",
       "  'are',\n",
       "  'no',\n",
       "  'longer',\n",
       "  'my',\n",
       "  'friend,',\n",
       "  'no',\n",
       "  'longer',\n",
       "  'my'],\n",
       " ['‘faithful',\n",
       "  'slave,’',\n",
       "  'as',\n",
       "  'you',\n",
       "  'call',\n",
       "  'yourself!',\n",
       "  'But',\n",
       "  'how',\n",
       "  'do',\n",
       "  'you',\n",
       "  'do?',\n",
       "  'I',\n",
       "  'see',\n",
       "  'I'],\n",
       " ['have',\n",
       "  'frightened',\n",
       "  'you—sit',\n",
       "  'down',\n",
       "  'and',\n",
       "  'tell',\n",
       "  'me',\n",
       "  'all',\n",
       "  'the',\n",
       "  'news.”'],\n",
       " ['It',\n",
       "  'was',\n",
       "  'in',\n",
       "  'July,',\n",
       "  '1805,',\n",
       "  'and',\n",
       "  'the',\n",
       "  'speaker',\n",
       "  'was',\n",
       "  'the',\n",
       "  'well-known',\n",
       "  'Anna',\n",
       "  'Pávlovna'])"
      ]
     },
     "execution_count": 15,
     "metadata": {},
     "output_type": "execute_result"
    },
    {
     "data": {
      "application/javascript": [
       "\n",
       "            setTimeout(function() {\n",
       "                var nbb_cell_id = 15;\n",
       "                var nbb_unformatted_code = \"# Answer below:\\nsplit = mapped.map(lambda line: line.split(\\\" \\\"))\\nsplit.take(10)\";\n",
       "                var nbb_formatted_code = \"# Answer below:\\nsplit = mapped.map(lambda line: line.split(\\\" \\\"))\\nsplit.take(10)\";\n",
       "                var nbb_cells = Jupyter.notebook.get_cells();\n",
       "                for (var i = 0; i < nbb_cells.length; ++i) {\n",
       "                    if (nbb_cells[i].input_prompt_number == nbb_cell_id) {\n",
       "                        if (nbb_cells[i].get_text() == nbb_unformatted_code) {\n",
       "                             nbb_cells[i].set_text(nbb_formatted_code);\n",
       "                        }\n",
       "                        break;\n",
       "                    }\n",
       "                }\n",
       "            }, 500);\n",
       "            "
      ],
      "text/plain": [
       "<IPython.core.display.Javascript object>"
      ]
     },
     "metadata": {},
     "output_type": "display_data"
    }
   ],
   "source": [
    "# Answer below:\n",
    "split = mapped.map(lambda line: line.split(\" \"))\n",
    "split.take(10)"
   ]
  },
  {
   "cell_type": "code",
   "execution_count": 18,
   "metadata": {},
   "outputs": [
    {
     "data": {
      "text/plain": [
       "('\\ufeffBOOK',\n",
       " 'ONE:',\n",
       " '1805',\n",
       " 'CHAPTER',\n",
       " 'I',\n",
       " '“Well,',\n",
       " 'Prince,',\n",
       " 'so',\n",
       " 'Genoa',\n",
       " 'and')"
      ]
     },
     "execution_count": 18,
     "metadata": {},
     "output_type": "execute_result"
    },
    {
     "data": {
      "application/javascript": [
       "\n",
       "            setTimeout(function() {\n",
       "                var nbb_cell_id = 18;\n",
       "                var nbb_unformatted_code = \"flat = split.flatten()\\nflat.take(10)\";\n",
       "                var nbb_formatted_code = \"flat = split.flatten()\\nflat.take(10)\";\n",
       "                var nbb_cells = Jupyter.notebook.get_cells();\n",
       "                for (var i = 0; i < nbb_cells.length; ++i) {\n",
       "                    if (nbb_cells[i].input_prompt_number == nbb_cell_id) {\n",
       "                        if (nbb_cells[i].get_text() == nbb_unformatted_code) {\n",
       "                             nbb_cells[i].set_text(nbb_formatted_code);\n",
       "                        }\n",
       "                        break;\n",
       "                    }\n",
       "                }\n",
       "            }, 500);\n",
       "            "
      ],
      "text/plain": [
       "<IPython.core.display.Javascript object>"
      ]
     },
     "metadata": {},
     "output_type": "display_data"
    }
   ],
   "source": [
    "flat = split.flatten()\n",
    "flat.take(10)"
   ]
  },
  {
   "cell_type": "markdown",
   "metadata": {
    "colab_type": "text",
    "id": "iK5V5L12uyAI"
   },
   "source": [
    "Using the frequencies function, return the top 10 words in the novel and their frequency"
   ]
  },
  {
   "cell_type": "code",
   "execution_count": 21,
   "metadata": {
    "colab": {},
    "colab_type": "code",
    "executionInfo": {
     "elapsed": 134852,
     "status": "aborted",
     "timestamp": 1597071921434,
     "user": {
      "displayName": "Dennis Tran",
      "photoUrl": "https://lh3.googleusercontent.com/a-/AOh14Gh4jmvNC7SsJIBkUCGrPDwTRU-4MoXuoJ6RtrZM=s64",
      "userId": "03151481835436749126"
     },
     "user_tz": 420
    },
    "id": "PdEjFqKSuyAI"
   },
   "outputs": [
    {
     "data": {
      "application/javascript": [
       "\n",
       "            setTimeout(function() {\n",
       "                var nbb_cell_id = 21;\n",
       "                var nbb_unformatted_code = \"# Answer below:\\n\\nfreqs = dict(flat.frequencies())\";\n",
       "                var nbb_formatted_code = \"# Answer below:\\n\\nfreqs = dict(flat.frequencies())\";\n",
       "                var nbb_cells = Jupyter.notebook.get_cells();\n",
       "                for (var i = 0; i < nbb_cells.length; ++i) {\n",
       "                    if (nbb_cells[i].input_prompt_number == nbb_cell_id) {\n",
       "                        if (nbb_cells[i].get_text() == nbb_unformatted_code) {\n",
       "                             nbb_cells[i].set_text(nbb_formatted_code);\n",
       "                        }\n",
       "                        break;\n",
       "                    }\n",
       "                }\n",
       "            }, 500);\n",
       "            "
      ],
      "text/plain": [
       "<IPython.core.display.Javascript object>"
      ]
     },
     "metadata": {},
     "output_type": "display_data"
    }
   ],
   "source": [
    "# Answer below:\n",
    "\n",
    "freqs = dict(flat.frequencies())"
   ]
  },
  {
   "cell_type": "code",
   "execution_count": 23,
   "metadata": {
    "colab": {},
    "colab_type": "code",
    "executionInfo": {
     "elapsed": 134850,
     "status": "aborted",
     "timestamp": 1597071921435,
     "user": {
      "displayName": "Dennis Tran",
      "photoUrl": "https://lh3.googleusercontent.com/a-/AOh14Gh4jmvNC7SsJIBkUCGrPDwTRU-4MoXuoJ6RtrZM=s64",
      "userId": "03151481835436749126"
     },
     "user_tz": 420
    },
    "id": "SORSao6muyAK"
   },
   "outputs": [
    {
     "name": "stdout",
     "output_type": "stream",
     "text": [
      "the 31701\n",
      "and 20559\n",
      "to 16320\n",
      "of 14852\n",
      "a 10018\n",
      "in 8228\n",
      "he 7631\n",
      "his 7630\n",
      "that 7230\n",
      "was 7189\n"
     ]
    },
    {
     "data": {
      "application/javascript": [
       "\n",
       "            setTimeout(function() {\n",
       "                var nbb_cell_id = 23;\n",
       "                var nbb_unformatted_code = \"sort_vals = sorted(freqs.items(), key=lambda x: x[1], reverse=True)\\n\\nfor i in sort_vals[:10]:\\n    print(i[0], i[1])\";\n",
       "                var nbb_formatted_code = \"sort_vals = sorted(freqs.items(), key=lambda x: x[1], reverse=True)\\n\\nfor i in sort_vals[:10]:\\n    print(i[0], i[1])\";\n",
       "                var nbb_cells = Jupyter.notebook.get_cells();\n",
       "                for (var i = 0; i < nbb_cells.length; ++i) {\n",
       "                    if (nbb_cells[i].input_prompt_number == nbb_cell_id) {\n",
       "                        if (nbb_cells[i].get_text() == nbb_unformatted_code) {\n",
       "                             nbb_cells[i].set_text(nbb_formatted_code);\n",
       "                        }\n",
       "                        break;\n",
       "                    }\n",
       "                }\n",
       "            }, 500);\n",
       "            "
      ],
      "text/plain": [
       "<IPython.core.display.Javascript object>"
      ]
     },
     "metadata": {},
     "output_type": "display_data"
    }
   ],
   "source": [
    "sort_vals = sorted(freqs.items(), key=lambda x: x[1], reverse=True)\n",
    "\n",
    "for i in sort_vals[:10]:\n",
    "    print(i[0], i[1])"
   ]
  },
  {
   "cell_type": "code",
   "execution_count": null,
   "metadata": {
    "colab": {},
    "colab_type": "code",
    "executionInfo": {
     "elapsed": 134848,
     "status": "aborted",
     "timestamp": 1597071921435,
     "user": {
      "displayName": "Dennis Tran",
      "photoUrl": "https://lh3.googleusercontent.com/a-/AOh14Gh4jmvNC7SsJIBkUCGrPDwTRU-4MoXuoJ6RtrZM=s64",
      "userId": "03151481835436749126"
     },
     "user_tz": 420
    },
    "id": "zKNw9y7ouyAL"
   },
   "outputs": [],
   "source": []
  }
 ],
 "metadata": {
  "colab": {
   "collapsed_sections": [],
   "name": "Day 81 Lecture 1 Assignment.ipynb",
   "provenance": []
  },
  "kernelspec": {
   "display_name": "Python 3",
   "language": "python",
   "name": "python3"
  },
  "language_info": {
   "codemirror_mode": {
    "name": "ipython",
    "version": 3
   },
   "file_extension": ".py",
   "mimetype": "text/x-python",
   "name": "python",
   "nbconvert_exporter": "python",
   "pygments_lexer": "ipython3",
   "version": "3.7.9"
  }
 },
 "nbformat": 4,
 "nbformat_minor": 1
}
