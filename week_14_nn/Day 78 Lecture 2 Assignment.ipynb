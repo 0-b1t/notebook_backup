{
 "cells": [
  {
   "cell_type": "code",
   "execution_count": 1,
   "metadata": {},
   "outputs": [
    {
     "data": {
      "application/javascript": [
       "\n",
       "            setTimeout(function() {\n",
       "                var nbb_cell_id = 1;\n",
       "                var nbb_unformatted_code = \"%reload_ext nb_black\";\n",
       "                var nbb_formatted_code = \"%reload_ext nb_black\";\n",
       "                var nbb_cells = Jupyter.notebook.get_cells();\n",
       "                for (var i = 0; i < nbb_cells.length; ++i) {\n",
       "                    if (nbb_cells[i].input_prompt_number == nbb_cell_id) {\n",
       "                        if (nbb_cells[i].get_text() == nbb_unformatted_code) {\n",
       "                             nbb_cells[i].set_text(nbb_formatted_code);\n",
       "                        }\n",
       "                        break;\n",
       "                    }\n",
       "                }\n",
       "            }, 500);\n",
       "            "
      ],
      "text/plain": [
       "<IPython.core.display.Javascript object>"
      ]
     },
     "metadata": {},
     "output_type": "display_data"
    }
   ],
   "source": [
    "%reload_ext nb_black"
   ]
  },
  {
   "cell_type": "markdown",
   "metadata": {
    "colab_type": "text",
    "id": "3vEszfzSgGvb"
   },
   "source": [
    "## Day 83 Lecture 2 Assignment\n",
    "\n",
    "In this assignment, we will learn about other optimization algorithms. We will create a neural network and try out the different optimization algorithms and compare their performance."
   ]
  },
  {
   "cell_type": "code",
   "execution_count": 2,
   "metadata": {
    "colab": {},
    "colab_type": "code",
    "id": "grVMFvpMgGvd",
    "outputId": "0a318000-5dd3-440b-c2f1-28887a23f488"
   },
   "outputs": [
    {
     "data": {
      "application/javascript": [
       "\n",
       "            setTimeout(function() {\n",
       "                var nbb_cell_id = 2;\n",
       "                var nbb_unformatted_code = \"import numpy as np\\nimport pandas as pd\\nimport matplotlib\\nimport tensorflow as tf\\n\\ntf.debugging.set_log_device_placement(True)\\n\\nfrom tensorflow.keras.models import Sequential\\nfrom tensorflow.keras.layers import Dense\\n\\nfrom sklearn.model_selection import train_test_split\\nfrom sklearn.metrics import confusion_matrix\\nfrom sklearn.preprocessing import MinMaxScaler, StandardScaler\";\n",
       "                var nbb_formatted_code = \"import numpy as np\\nimport pandas as pd\\nimport matplotlib\\nimport tensorflow as tf\\n\\ntf.debugging.set_log_device_placement(True)\\n\\nfrom tensorflow.keras.models import Sequential\\nfrom tensorflow.keras.layers import Dense\\n\\nfrom sklearn.model_selection import train_test_split\\nfrom sklearn.metrics import confusion_matrix\\nfrom sklearn.preprocessing import MinMaxScaler, StandardScaler\";\n",
       "                var nbb_cells = Jupyter.notebook.get_cells();\n",
       "                for (var i = 0; i < nbb_cells.length; ++i) {\n",
       "                    if (nbb_cells[i].input_prompt_number == nbb_cell_id) {\n",
       "                        if (nbb_cells[i].get_text() == nbb_unformatted_code) {\n",
       "                             nbb_cells[i].set_text(nbb_formatted_code);\n",
       "                        }\n",
       "                        break;\n",
       "                    }\n",
       "                }\n",
       "            }, 500);\n",
       "            "
      ],
      "text/plain": [
       "<IPython.core.display.Javascript object>"
      ]
     },
     "metadata": {},
     "output_type": "display_data"
    }
   ],
   "source": [
    "import numpy as np\n",
    "import pandas as pd\n",
    "import matplotlib\n",
    "import tensorflow as tf\n",
    "\n",
    "tf.debugging.set_log_device_placement(True)\n",
    "\n",
    "from tensorflow.keras.models import Sequential\n",
    "from tensorflow.keras.layers import Dense\n",
    "\n",
    "from sklearn.model_selection import train_test_split\n",
    "from sklearn.metrics import confusion_matrix\n",
    "from sklearn.preprocessing import MinMaxScaler, StandardScaler"
   ]
  },
  {
   "cell_type": "code",
   "execution_count": 3,
   "metadata": {},
   "outputs": [
    {
     "name": "stdout",
     "output_type": "stream",
     "text": [
      "Device mapping:\n",
      "/job:localhost/replica:0/task:0/device:XLA_CPU:0 -> device: XLA_CPU device\n",
      "/job:localhost/replica:0/task:0/device:XLA_GPU:0 -> device: XLA_GPU device\n",
      "\n",
      "[[ 8.  5.]\n",
      " [20. 13.]]\n"
     ]
    },
    {
     "data": {
      "application/javascript": [
       "\n",
       "            setTimeout(function() {\n",
       "                var nbb_cell_id = 3;\n",
       "                var nbb_unformatted_code = \"import os\\n\\ntf.compat.v1.disable_eager_execution()\\n\\nhello = tf.constant(\\\"Hello, TensorFlow!\\\")\\n\\n# sess = tf.compat.v1.Session()\\n\\nos.environ[\\\"CUDA_VISIBLE_DEVICES\\\"] = \\\"0\\\"  # You need to tell CUDA\\n# which GPU you'd like to use. if you have one GPU probably your GPU is '0'\\nwith tf.device(\\\"/device:XLA_GPU:0\\\"):\\n    a = tf.constant([1.0, 2.0, 3.0, 4.0], shape=[2, 2], name=\\\"a\\\")\\n    b = tf.constant([4.0, 3.0, 2.0, 1.0], shape=[2, 2], name=\\\"b\\\")\\n    c = tf.matmul(a, b)\\n# with tf.compat.v1.Session() as sess:\\n#     print(sess.run(c))\\n\\nsess = tf.compat.v1.Session(config=tf.compat.v1.ConfigProto(log_device_placement=True))\\n# Runs the op.\\nprint(sess.run(c))\";\n",
       "                var nbb_formatted_code = \"import os\\n\\ntf.compat.v1.disable_eager_execution()\\n\\nhello = tf.constant(\\\"Hello, TensorFlow!\\\")\\n\\n# sess = tf.compat.v1.Session()\\n\\nos.environ[\\\"CUDA_VISIBLE_DEVICES\\\"] = \\\"0\\\"  # You need to tell CUDA\\n# which GPU you'd like to use. if you have one GPU probably your GPU is '0'\\nwith tf.device(\\\"/device:XLA_GPU:0\\\"):\\n    a = tf.constant([1.0, 2.0, 3.0, 4.0], shape=[2, 2], name=\\\"a\\\")\\n    b = tf.constant([4.0, 3.0, 2.0, 1.0], shape=[2, 2], name=\\\"b\\\")\\n    c = tf.matmul(a, b)\\n# with tf.compat.v1.Session() as sess:\\n#     print(sess.run(c))\\n\\nsess = tf.compat.v1.Session(config=tf.compat.v1.ConfigProto(log_device_placement=True))\\n# Runs the op.\\nprint(sess.run(c))\";\n",
       "                var nbb_cells = Jupyter.notebook.get_cells();\n",
       "                for (var i = 0; i < nbb_cells.length; ++i) {\n",
       "                    if (nbb_cells[i].input_prompt_number == nbb_cell_id) {\n",
       "                        if (nbb_cells[i].get_text() == nbb_unformatted_code) {\n",
       "                             nbb_cells[i].set_text(nbb_formatted_code);\n",
       "                        }\n",
       "                        break;\n",
       "                    }\n",
       "                }\n",
       "            }, 500);\n",
       "            "
      ],
      "text/plain": [
       "<IPython.core.display.Javascript object>"
      ]
     },
     "metadata": {},
     "output_type": "display_data"
    }
   ],
   "source": [
    "import os\n",
    "\n",
    "tf.compat.v1.disable_eager_execution()\n",
    "\n",
    "hello = tf.constant(\"Hello, TensorFlow!\")\n",
    "\n",
    "# sess = tf.compat.v1.Session()\n",
    "\n",
    "os.environ[\"CUDA_VISIBLE_DEVICES\"] = \"0\"  # You need to tell CUDA\n",
    "# which GPU you'd like to use. if you have one GPU probably your GPU is '0'\n",
    "with tf.device(\"/device:XLA_GPU:0\"):\n",
    "    a = tf.constant([1.0, 2.0, 3.0, 4.0], shape=[2, 2], name=\"a\")\n",
    "    b = tf.constant([4.0, 3.0, 2.0, 1.0], shape=[2, 2], name=\"b\")\n",
    "    c = tf.matmul(a, b)\n",
    "# with tf.compat.v1.Session() as sess:\n",
    "#     print(sess.run(c))\n",
    "\n",
    "sess = tf.compat.v1.Session(config=tf.compat.v1.ConfigProto(log_device_placement=True))\n",
    "# Runs the op.\n",
    "print(sess.run(c))"
   ]
  },
  {
   "cell_type": "code",
   "execution_count": 4,
   "metadata": {},
   "outputs": [
    {
     "data": {
      "application/javascript": [
       "\n",
       "            setTimeout(function() {\n",
       "                var nbb_cell_id = 4;\n",
       "                var nbb_unformatted_code = \"def build_model(\\n    input_dim,\\n    output_dim=1,\\n    layer_nodes=[64, 32, 32],\\n    activation_function=\\\"relu\\\",\\n    output_function=\\\"sigmoid\\\",\\n):\\n    model = Sequential()\\n    model.add(\\n        Dense(layer_nodes[0], input_dim=input_dim, activation=activation_function)\\n    )\\n    for i in range(1, len(layer_nodes)):\\n        model.add(Dense(layer_nodes[i], activation=activation_function))\\n\\n    model.add(Dense(output_dim, activation=output_function))\\n\\n    return model\";\n",
       "                var nbb_formatted_code = \"def build_model(\\n    input_dim,\\n    output_dim=1,\\n    layer_nodes=[64, 32, 32],\\n    activation_function=\\\"relu\\\",\\n    output_function=\\\"sigmoid\\\",\\n):\\n    model = Sequential()\\n    model.add(\\n        Dense(layer_nodes[0], input_dim=input_dim, activation=activation_function)\\n    )\\n    for i in range(1, len(layer_nodes)):\\n        model.add(Dense(layer_nodes[i], activation=activation_function))\\n\\n    model.add(Dense(output_dim, activation=output_function))\\n\\n    return model\";\n",
       "                var nbb_cells = Jupyter.notebook.get_cells();\n",
       "                for (var i = 0; i < nbb_cells.length; ++i) {\n",
       "                    if (nbb_cells[i].input_prompt_number == nbb_cell_id) {\n",
       "                        if (nbb_cells[i].get_text() == nbb_unformatted_code) {\n",
       "                             nbb_cells[i].set_text(nbb_formatted_code);\n",
       "                        }\n",
       "                        break;\n",
       "                    }\n",
       "                }\n",
       "            }, 500);\n",
       "            "
      ],
      "text/plain": [
       "<IPython.core.display.Javascript object>"
      ]
     },
     "metadata": {},
     "output_type": "display_data"
    }
   ],
   "source": [
    "def build_model(\n",
    "    input_dim,\n",
    "    output_dim=1,\n",
    "    layer_nodes=[64, 32, 32],\n",
    "    activation_function=\"relu\",\n",
    "    output_function=\"sigmoid\",\n",
    "):\n",
    "    model = Sequential()\n",
    "    model.add(\n",
    "        Dense(layer_nodes[0], input_dim=input_dim, activation=activation_function)\n",
    "    )\n",
    "    for i in range(1, len(layer_nodes)):\n",
    "        model.add(Dense(layer_nodes[i], activation=activation_function))\n",
    "\n",
    "    model.add(Dense(output_dim, activation=output_function))\n",
    "\n",
    "    return model"
   ]
  },
  {
   "cell_type": "markdown",
   "metadata": {
    "colab_type": "text",
    "id": "uJfwGXExgGvf"
   },
   "source": [
    "In this assignment, we will be using the cancer data that we have worked with in previous lessons. The pre-processed data is loaded below."
   ]
  },
  {
   "cell_type": "code",
   "execution_count": 5,
   "metadata": {
    "colab": {},
    "colab_type": "code",
    "id": "itA0U381gGvg"
   },
   "outputs": [
    {
     "data": {
      "application/javascript": [
       "\n",
       "            setTimeout(function() {\n",
       "                var nbb_cell_id = 5;\n",
       "                var nbb_unformatted_code = \"cancer = pd.read_csv(\\\"data/cancer_processed.csv\\\")\";\n",
       "                var nbb_formatted_code = \"cancer = pd.read_csv(\\\"data/cancer_processed.csv\\\")\";\n",
       "                var nbb_cells = Jupyter.notebook.get_cells();\n",
       "                for (var i = 0; i < nbb_cells.length; ++i) {\n",
       "                    if (nbb_cells[i].input_prompt_number == nbb_cell_id) {\n",
       "                        if (nbb_cells[i].get_text() == nbb_unformatted_code) {\n",
       "                             nbb_cells[i].set_text(nbb_formatted_code);\n",
       "                        }\n",
       "                        break;\n",
       "                    }\n",
       "                }\n",
       "            }, 500);\n",
       "            "
      ],
      "text/plain": [
       "<IPython.core.display.Javascript object>"
      ]
     },
     "metadata": {},
     "output_type": "display_data"
    }
   ],
   "source": [
    "cancer = pd.read_csv(\"data/cancer_processed.csv\")"
   ]
  },
  {
   "cell_type": "code",
   "execution_count": 6,
   "metadata": {
    "colab": {},
    "colab_type": "code",
    "id": "ocNzndc-gGvi",
    "outputId": "247913e1-774f-4e7c-8bdf-5f4bd201edfe"
   },
   "outputs": [
    {
     "data": {
      "text/html": [
       "<div>\n",
       "<style scoped>\n",
       "    .dataframe tbody tr th:only-of-type {\n",
       "        vertical-align: middle;\n",
       "    }\n",
       "\n",
       "    .dataframe tbody tr th {\n",
       "        vertical-align: top;\n",
       "    }\n",
       "\n",
       "    .dataframe thead th {\n",
       "        text-align: right;\n",
       "    }\n",
       "</style>\n",
       "<table border=\"1\" class=\"dataframe\">\n",
       "  <thead>\n",
       "    <tr style=\"text-align: right;\">\n",
       "      <th></th>\n",
       "      <th>radius_mean</th>\n",
       "      <th>texture_mean</th>\n",
       "      <th>perimeter_mean</th>\n",
       "      <th>area_mean</th>\n",
       "      <th>smoothness_mean</th>\n",
       "      <th>compactness_mean</th>\n",
       "      <th>concavity_mean</th>\n",
       "      <th>concave points_mean</th>\n",
       "      <th>symmetry_mean</th>\n",
       "      <th>fractal_dimension_mean</th>\n",
       "      <th>diagnosis</th>\n",
       "    </tr>\n",
       "  </thead>\n",
       "  <tbody>\n",
       "    <tr>\n",
       "      <th>0</th>\n",
       "      <td>17.99</td>\n",
       "      <td>10.38</td>\n",
       "      <td>122.80</td>\n",
       "      <td>1001.0</td>\n",
       "      <td>0.11840</td>\n",
       "      <td>0.27760</td>\n",
       "      <td>0.3001</td>\n",
       "      <td>0.14710</td>\n",
       "      <td>0.2419</td>\n",
       "      <td>0.07871</td>\n",
       "      <td>M</td>\n",
       "    </tr>\n",
       "    <tr>\n",
       "      <th>1</th>\n",
       "      <td>20.57</td>\n",
       "      <td>17.77</td>\n",
       "      <td>132.90</td>\n",
       "      <td>1326.0</td>\n",
       "      <td>0.08474</td>\n",
       "      <td>0.07864</td>\n",
       "      <td>0.0869</td>\n",
       "      <td>0.07017</td>\n",
       "      <td>0.1812</td>\n",
       "      <td>0.05667</td>\n",
       "      <td>M</td>\n",
       "    </tr>\n",
       "    <tr>\n",
       "      <th>2</th>\n",
       "      <td>19.69</td>\n",
       "      <td>21.25</td>\n",
       "      <td>130.00</td>\n",
       "      <td>1203.0</td>\n",
       "      <td>0.10960</td>\n",
       "      <td>0.15990</td>\n",
       "      <td>0.1974</td>\n",
       "      <td>0.12790</td>\n",
       "      <td>0.2069</td>\n",
       "      <td>0.05999</td>\n",
       "      <td>M</td>\n",
       "    </tr>\n",
       "    <tr>\n",
       "      <th>3</th>\n",
       "      <td>11.42</td>\n",
       "      <td>20.38</td>\n",
       "      <td>77.58</td>\n",
       "      <td>386.1</td>\n",
       "      <td>0.14250</td>\n",
       "      <td>0.28390</td>\n",
       "      <td>0.2414</td>\n",
       "      <td>0.10520</td>\n",
       "      <td>0.2597</td>\n",
       "      <td>0.09744</td>\n",
       "      <td>M</td>\n",
       "    </tr>\n",
       "    <tr>\n",
       "      <th>4</th>\n",
       "      <td>20.29</td>\n",
       "      <td>14.34</td>\n",
       "      <td>135.10</td>\n",
       "      <td>1297.0</td>\n",
       "      <td>0.10030</td>\n",
       "      <td>0.13280</td>\n",
       "      <td>0.1980</td>\n",
       "      <td>0.10430</td>\n",
       "      <td>0.1809</td>\n",
       "      <td>0.05883</td>\n",
       "      <td>M</td>\n",
       "    </tr>\n",
       "  </tbody>\n",
       "</table>\n",
       "</div>"
      ],
      "text/plain": [
       "   radius_mean  texture_mean  perimeter_mean  area_mean  smoothness_mean  \\\n",
       "0        17.99         10.38          122.80     1001.0          0.11840   \n",
       "1        20.57         17.77          132.90     1326.0          0.08474   \n",
       "2        19.69         21.25          130.00     1203.0          0.10960   \n",
       "3        11.42         20.38           77.58      386.1          0.14250   \n",
       "4        20.29         14.34          135.10     1297.0          0.10030   \n",
       "\n",
       "   compactness_mean  concavity_mean  concave points_mean  symmetry_mean  \\\n",
       "0           0.27760          0.3001              0.14710         0.2419   \n",
       "1           0.07864          0.0869              0.07017         0.1812   \n",
       "2           0.15990          0.1974              0.12790         0.2069   \n",
       "3           0.28390          0.2414              0.10520         0.2597   \n",
       "4           0.13280          0.1980              0.10430         0.1809   \n",
       "\n",
       "   fractal_dimension_mean diagnosis  \n",
       "0                 0.07871         M  \n",
       "1                 0.05667         M  \n",
       "2                 0.05999         M  \n",
       "3                 0.09744         M  \n",
       "4                 0.05883         M  "
      ]
     },
     "execution_count": 6,
     "metadata": {},
     "output_type": "execute_result"
    },
    {
     "data": {
      "application/javascript": [
       "\n",
       "            setTimeout(function() {\n",
       "                var nbb_cell_id = 6;\n",
       "                var nbb_unformatted_code = \"cancer.head()\";\n",
       "                var nbb_formatted_code = \"cancer.head()\";\n",
       "                var nbb_cells = Jupyter.notebook.get_cells();\n",
       "                for (var i = 0; i < nbb_cells.length; ++i) {\n",
       "                    if (nbb_cells[i].input_prompt_number == nbb_cell_id) {\n",
       "                        if (nbb_cells[i].get_text() == nbb_unformatted_code) {\n",
       "                             nbb_cells[i].set_text(nbb_formatted_code);\n",
       "                        }\n",
       "                        break;\n",
       "                    }\n",
       "                }\n",
       "            }, 500);\n",
       "            "
      ],
      "text/plain": [
       "<IPython.core.display.Javascript object>"
      ]
     },
     "metadata": {},
     "output_type": "display_data"
    }
   ],
   "source": [
    "cancer.head()"
   ]
  },
  {
   "cell_type": "markdown",
   "metadata": {
    "colab_type": "text",
    "id": "UMyeFkQTgGvm"
   },
   "source": [
    "As you may recall, diagnosis is the target variable. One hot encode the diagnosis column."
   ]
  },
  {
   "cell_type": "code",
   "execution_count": 7,
   "metadata": {
    "colab": {},
    "colab_type": "code",
    "id": "2tCQR6LjgGvn"
   },
   "outputs": [
    {
     "data": {
      "application/javascript": [
       "\n",
       "            setTimeout(function() {\n",
       "                var nbb_cell_id = 7;\n",
       "                var nbb_unformatted_code = \"# Answer below:\\ncancer['target'] = (cancer['diagnosis']=='M').astype(int)\";\n",
       "                var nbb_formatted_code = \"# Answer below:\\ncancer[\\\"target\\\"] = (cancer[\\\"diagnosis\\\"] == \\\"M\\\").astype(int)\";\n",
       "                var nbb_cells = Jupyter.notebook.get_cells();\n",
       "                for (var i = 0; i < nbb_cells.length; ++i) {\n",
       "                    if (nbb_cells[i].input_prompt_number == nbb_cell_id) {\n",
       "                        if (nbb_cells[i].get_text() == nbb_unformatted_code) {\n",
       "                             nbb_cells[i].set_text(nbb_formatted_code);\n",
       "                        }\n",
       "                        break;\n",
       "                    }\n",
       "                }\n",
       "            }, 500);\n",
       "            "
      ],
      "text/plain": [
       "<IPython.core.display.Javascript object>"
      ]
     },
     "metadata": {},
     "output_type": "display_data"
    }
   ],
   "source": [
    "# Answer below:\n",
    "cancer['target'] = (cancer['diagnosis']=='M').astype(int)\n"
   ]
  },
  {
   "cell_type": "markdown",
   "metadata": {
    "colab_type": "text",
    "id": "LcJDxAb7gGvp"
   },
   "source": [
    "Split the data into train and test with 20% of the data in test."
   ]
  },
  {
   "cell_type": "code",
   "execution_count": 8,
   "metadata": {
    "colab": {},
    "colab_type": "code",
    "id": "o9DgU09lgGvq"
   },
   "outputs": [
    {
     "data": {
      "application/javascript": [
       "\n",
       "            setTimeout(function() {\n",
       "                var nbb_cell_id = 8;\n",
       "                var nbb_unformatted_code = \"# Answer below\\nX = cancer.drop(['diagnosis','target'],1)\\ny = cancer[['target']]\\nX_train, X_test, y_train, y_test = train_test_split(X, y, test_size=0.2, random_state=34)\";\n",
       "                var nbb_formatted_code = \"# Answer below\\nX = cancer.drop([\\\"diagnosis\\\", \\\"target\\\"], 1)\\ny = cancer[[\\\"target\\\"]]\\nX_train, X_test, y_train, y_test = train_test_split(\\n    X, y, test_size=0.2, random_state=34\\n)\";\n",
       "                var nbb_cells = Jupyter.notebook.get_cells();\n",
       "                for (var i = 0; i < nbb_cells.length; ++i) {\n",
       "                    if (nbb_cells[i].input_prompt_number == nbb_cell_id) {\n",
       "                        if (nbb_cells[i].get_text() == nbb_unformatted_code) {\n",
       "                             nbb_cells[i].set_text(nbb_formatted_code);\n",
       "                        }\n",
       "                        break;\n",
       "                    }\n",
       "                }\n",
       "            }, 500);\n",
       "            "
      ],
      "text/plain": [
       "<IPython.core.display.Javascript object>"
      ]
     },
     "metadata": {},
     "output_type": "display_data"
    }
   ],
   "source": [
    "# Answer below\n",
    "X = cancer.drop(['diagnosis','target'],1)\n",
    "y = cancer[['target']]\n",
    "X_train, X_test, y_train, y_test = train_test_split(X, y, test_size=0.2, random_state=34)\n"
   ]
  },
  {
   "cell_type": "markdown",
   "metadata": {
    "colab_type": "text",
    "id": "9eghtF43gGvk"
   },
   "source": [
    "Scale all other variables using the standard scaler."
   ]
  },
  {
   "cell_type": "code",
   "execution_count": 9,
   "metadata": {
    "colab": {},
    "colab_type": "code",
    "id": "e7cjZatEgGvk"
   },
   "outputs": [
    {
     "data": {
      "application/javascript": [
       "\n",
       "            setTimeout(function() {\n",
       "                var nbb_cell_id = 9;\n",
       "                var nbb_unformatted_code = \"# Answer below:\\nscaler = StandardScaler()\\nX_train = scaler.fit_transform(X_train)\\nX_test = scaler.transform(X_test)\";\n",
       "                var nbb_formatted_code = \"# Answer below:\\nscaler = StandardScaler()\\nX_train = scaler.fit_transform(X_train)\\nX_test = scaler.transform(X_test)\";\n",
       "                var nbb_cells = Jupyter.notebook.get_cells();\n",
       "                for (var i = 0; i < nbb_cells.length; ++i) {\n",
       "                    if (nbb_cells[i].input_prompt_number == nbb_cell_id) {\n",
       "                        if (nbb_cells[i].get_text() == nbb_unformatted_code) {\n",
       "                             nbb_cells[i].set_text(nbb_formatted_code);\n",
       "                        }\n",
       "                        break;\n",
       "                    }\n",
       "                }\n",
       "            }, 500);\n",
       "            "
      ],
      "text/plain": [
       "<IPython.core.display.Javascript object>"
      ]
     },
     "metadata": {},
     "output_type": "display_data"
    }
   ],
   "source": [
    "# Answer below:\n",
    "scaler = StandardScaler()\n",
    "X_train = scaler.fit_transform(X_train)\n",
    "X_test = scaler.transform(X_test)"
   ]
  },
  {
   "cell_type": "code",
   "execution_count": 10,
   "metadata": {},
   "outputs": [
    {
     "data": {
      "text/plain": [
       "10"
      ]
     },
     "execution_count": 10,
     "metadata": {},
     "output_type": "execute_result"
    },
    {
     "data": {
      "application/javascript": [
       "\n",
       "            setTimeout(function() {\n",
       "                var nbb_cell_id = 10;\n",
       "                var nbb_unformatted_code = \"X.shape[1]\";\n",
       "                var nbb_formatted_code = \"X.shape[1]\";\n",
       "                var nbb_cells = Jupyter.notebook.get_cells();\n",
       "                for (var i = 0; i < nbb_cells.length; ++i) {\n",
       "                    if (nbb_cells[i].input_prompt_number == nbb_cell_id) {\n",
       "                        if (nbb_cells[i].get_text() == nbb_unformatted_code) {\n",
       "                             nbb_cells[i].set_text(nbb_formatted_code);\n",
       "                        }\n",
       "                        break;\n",
       "                    }\n",
       "                }\n",
       "            }, 500);\n",
       "            "
      ],
      "text/plain": [
       "<IPython.core.display.Javascript object>"
      ]
     },
     "metadata": {},
     "output_type": "display_data"
    }
   ],
   "source": [
    "X.shape[1]"
   ]
  },
  {
   "cell_type": "markdown",
   "metadata": {
    "colab_type": "text",
    "id": "GTOKHMqrgGvr"
   },
   "source": [
    "Generate a sequential model consisting of 5 layers. The layers should be of size 128, 64, 32, 32, 1. Use the appropriate activation for the output layer based on the type of prediction algorithm we are producing."
   ]
  },
  {
   "cell_type": "code",
   "execution_count": 11,
   "metadata": {},
   "outputs": [
    {
     "data": {
      "application/javascript": [
       "\n",
       "            setTimeout(function() {\n",
       "                var nbb_cell_id = 11;\n",
       "                var nbb_unformatted_code = \"from tensorflow.keras.optimizers import SGD, RMSprop, Adam\";\n",
       "                var nbb_formatted_code = \"from tensorflow.keras.optimizers import SGD, RMSprop, Adam\";\n",
       "                var nbb_cells = Jupyter.notebook.get_cells();\n",
       "                for (var i = 0; i < nbb_cells.length; ++i) {\n",
       "                    if (nbb_cells[i].input_prompt_number == nbb_cell_id) {\n",
       "                        if (nbb_cells[i].get_text() == nbb_unformatted_code) {\n",
       "                             nbb_cells[i].set_text(nbb_formatted_code);\n",
       "                        }\n",
       "                        break;\n",
       "                    }\n",
       "                }\n",
       "            }, 500);\n",
       "            "
      ],
      "text/plain": [
       "<IPython.core.display.Javascript object>"
      ]
     },
     "metadata": {},
     "output_type": "display_data"
    }
   ],
   "source": [
    "from tensorflow.keras.optimizers import SGD, RMSprop, Adam"
   ]
  },
  {
   "cell_type": "code",
   "execution_count": 12,
   "metadata": {
    "colab": {},
    "colab_type": "code",
    "id": "SuLbt7X2gGvs"
   },
   "outputs": [
    {
     "data": {
      "application/javascript": [
       "\n",
       "            setTimeout(function() {\n",
       "                var nbb_cell_id = 12;\n",
       "                var nbb_unformatted_code = \"# Answer below\";\n",
       "                var nbb_formatted_code = \"# Answer below\";\n",
       "                var nbb_cells = Jupyter.notebook.get_cells();\n",
       "                for (var i = 0; i < nbb_cells.length; ++i) {\n",
       "                    if (nbb_cells[i].input_prompt_number == nbb_cell_id) {\n",
       "                        if (nbb_cells[i].get_text() == nbb_unformatted_code) {\n",
       "                             nbb_cells[i].set_text(nbb_formatted_code);\n",
       "                        }\n",
       "                        break;\n",
       "                    }\n",
       "                }\n",
       "            }, 500);\n",
       "            "
      ],
      "text/plain": [
       "<IPython.core.display.Javascript object>"
      ]
     },
     "metadata": {},
     "output_type": "display_data"
    }
   ],
   "source": [
    "# Answer below\n",
    "\n"
   ]
  },
  {
   "cell_type": "markdown",
   "metadata": {
    "colab_type": "text",
    "id": "LLyq5KXtgGvt"
   },
   "source": [
    "Initialize a SGD optimizer with learning rate 0.05 and momentum 0.9."
   ]
  },
  {
   "cell_type": "code",
   "execution_count": 13,
   "metadata": {
    "colab": {},
    "colab_type": "code",
    "id": "jlNXLxoUgGvu"
   },
   "outputs": [
    {
     "data": {
      "application/javascript": [
       "\n",
       "            setTimeout(function() {\n",
       "                var nbb_cell_id = 13;\n",
       "                var nbb_unformatted_code = \"# Answer below:\";\n",
       "                var nbb_formatted_code = \"# Answer below:\";\n",
       "                var nbb_cells = Jupyter.notebook.get_cells();\n",
       "                for (var i = 0; i < nbb_cells.length; ++i) {\n",
       "                    if (nbb_cells[i].input_prompt_number == nbb_cell_id) {\n",
       "                        if (nbb_cells[i].get_text() == nbb_unformatted_code) {\n",
       "                             nbb_cells[i].set_text(nbb_formatted_code);\n",
       "                        }\n",
       "                        break;\n",
       "                    }\n",
       "                }\n",
       "            }, 500);\n",
       "            "
      ],
      "text/plain": [
       "<IPython.core.display.Javascript object>"
      ]
     },
     "metadata": {},
     "output_type": "display_data"
    }
   ],
   "source": [
    "# Answer below:\n",
    "\n"
   ]
  },
  {
   "cell_type": "markdown",
   "metadata": {
    "colab_type": "text",
    "id": "X-O0YHk_gGvv"
   },
   "source": [
    "Compile and fit the model using the appropriate loss function and metric and use the optimizers defined above.\n",
    "\n",
    "batch size = 100, epochs = 200"
   ]
  },
  {
   "cell_type": "code",
   "execution_count": 14,
   "metadata": {
    "colab": {},
    "colab_type": "code",
    "id": "SD9IZdHMgGvw"
   },
   "outputs": [
    {
     "name": "stdout",
     "output_type": "stream",
     "text": [
      "Train on 455 samples, validate on 114 samples\n",
      "Device mapping:\n",
      "/job:localhost/replica:0/task:0/device:XLA_CPU:0 -> device: XLA_CPU device\n",
      "\n",
      "Epoch 1/200\n",
      "100/455 [=====>........................] - ETA: 0s - loss: 0.6912 - accuracy: 0.5400WARNING:tensorflow:From C:\\Users\\b1t\\AppData\\Roaming\\Python\\Python38\\site-packages\\tensorflow\\python\\keras\\engine\\training_v1.py:2048: Model.state_updates (from tensorflow.python.keras.engine.training) is deprecated and will be removed in a future version.\n",
      "Instructions for updating:\n",
      "This property should not be used in TensorFlow 2.0, as updates are applied automatically.\n",
      "455/455 [==============================] - 3s 6ms/sample - loss: 0.6656 - accuracy: 0.6505 - val_loss: 0.5436 - val_accuracy: 0.8860\n",
      "Epoch 2/200\n",
      "455/455 [==============================] - 0s 15us/sample - loss: 0.4619 - accuracy: 0.9033 - val_loss: 0.2801 - val_accuracy: 0.9386\n",
      "Epoch 3/200\n",
      "455/455 [==============================] - 0s 13us/sample - loss: 0.2331 - accuracy: 0.9385 - val_loss: 0.1424 - val_accuracy: 0.9298\n",
      "Epoch 4/200\n",
      "455/455 [==============================] - 0s 15us/sample - loss: 0.1712 - accuracy: 0.9363 - val_loss: 0.1259 - val_accuracy: 0.9561\n",
      "Epoch 5/200\n",
      "455/455 [==============================] - 0s 13us/sample - loss: 0.1621 - accuracy: 0.9363 - val_loss: 0.1190 - val_accuracy: 0.9561\n",
      "Epoch 6/200\n",
      "455/455 [==============================] - 0s 18us/sample - loss: 0.1535 - accuracy: 0.9451 - val_loss: 0.1107 - val_accuracy: 0.9474\n",
      "Epoch 7/200\n",
      "455/455 [==============================] - 0s 13us/sample - loss: 0.1382 - accuracy: 0.9429 - val_loss: 0.0989 - val_accuracy: 0.9474\n",
      "Epoch 8/200\n",
      "455/455 [==============================] - 0s 20us/sample - loss: 0.1244 - accuracy: 0.9451 - val_loss: 0.1097 - val_accuracy: 0.9561\n",
      "Epoch 9/200\n",
      "455/455 [==============================] - 0s 18us/sample - loss: 0.1208 - accuracy: 0.9495 - val_loss: 0.0937 - val_accuracy: 0.9737\n",
      "Epoch 10/200\n",
      "455/455 [==============================] - 0s 13us/sample - loss: 0.1143 - accuracy: 0.9538 - val_loss: 0.0811 - val_accuracy: 0.9649\n",
      "Epoch 11/200\n",
      "455/455 [==============================] - 0s 15us/sample - loss: 0.1131 - accuracy: 0.9560 - val_loss: 0.0863 - val_accuracy: 0.9825\n",
      "Epoch 12/200\n",
      "455/455 [==============================] - 0s 11us/sample - loss: 0.1043 - accuracy: 0.9626 - val_loss: 0.0871 - val_accuracy: 0.9649\n",
      "Epoch 13/200\n",
      "455/455 [==============================] - 0s 15us/sample - loss: 0.1031 - accuracy: 0.9626 - val_loss: 0.0756 - val_accuracy: 0.9737\n",
      "Epoch 14/200\n",
      "455/455 [==============================] - 0s 18us/sample - loss: 0.0989 - accuracy: 0.9604 - val_loss: 0.0891 - val_accuracy: 0.9912\n",
      "Epoch 15/200\n",
      "455/455 [==============================] - 0s 15us/sample - loss: 0.0967 - accuracy: 0.9538 - val_loss: 0.0854 - val_accuracy: 0.9825\n",
      "Epoch 16/200\n",
      "455/455 [==============================] - 0s 13us/sample - loss: 0.0920 - accuracy: 0.9670 - val_loss: 0.0808 - val_accuracy: 0.9737\n",
      "Epoch 17/200\n",
      "455/455 [==============================] - 0s 13us/sample - loss: 0.0888 - accuracy: 0.9648 - val_loss: 0.0741 - val_accuracy: 0.9825\n",
      "Epoch 18/200\n",
      "455/455 [==============================] - 0s 18us/sample - loss: 0.0849 - accuracy: 0.9670 - val_loss: 0.0779 - val_accuracy: 0.9737\n",
      "Epoch 19/200\n",
      "455/455 [==============================] - 0s 11us/sample - loss: 0.0823 - accuracy: 0.9692 - val_loss: 0.0885 - val_accuracy: 0.9825\n",
      "Epoch 20/200\n",
      "455/455 [==============================] - 0s 18us/sample - loss: 0.0805 - accuracy: 0.9692 - val_loss: 0.0757 - val_accuracy: 0.9825\n",
      "Epoch 21/200\n",
      "455/455 [==============================] - 0s 11us/sample - loss: 0.0795 - accuracy: 0.9692 - val_loss: 0.0802 - val_accuracy: 0.9737\n",
      "Epoch 22/200\n",
      "455/455 [==============================] - 0s 11us/sample - loss: 0.0759 - accuracy: 0.9714 - val_loss: 0.0817 - val_accuracy: 0.9912\n",
      "Epoch 23/200\n",
      "455/455 [==============================] - 0s 18us/sample - loss: 0.0716 - accuracy: 0.9736 - val_loss: 0.0807 - val_accuracy: 0.9912\n",
      "Epoch 24/200\n",
      "455/455 [==============================] - 0s 13us/sample - loss: 0.0707 - accuracy: 0.9692 - val_loss: 0.0930 - val_accuracy: 0.9825\n",
      "Epoch 25/200\n",
      "455/455 [==============================] - 0s 20us/sample - loss: 0.0685 - accuracy: 0.9758 - val_loss: 0.0785 - val_accuracy: 0.9825\n",
      "Epoch 26/200\n",
      "455/455 [==============================] - 0s 15us/sample - loss: 0.0676 - accuracy: 0.9780 - val_loss: 0.0676 - val_accuracy: 0.9912\n",
      "Epoch 27/200\n",
      "455/455 [==============================] - 0s 11us/sample - loss: 0.0642 - accuracy: 0.9780 - val_loss: 0.0864 - val_accuracy: 0.9825\n",
      "Epoch 28/200\n",
      "455/455 [==============================] - 0s 22us/sample - loss: 0.0606 - accuracy: 0.9824 - val_loss: 0.0828 - val_accuracy: 0.9912\n",
      "Epoch 29/200\n",
      "455/455 [==============================] - 0s 15us/sample - loss: 0.0589 - accuracy: 0.9802 - val_loss: 0.0632 - val_accuracy: 0.9912\n",
      "Epoch 30/200\n",
      "455/455 [==============================] - 0s 13us/sample - loss: 0.0575 - accuracy: 0.9802 - val_loss: 0.0692 - val_accuracy: 0.9825\n",
      "Epoch 31/200\n",
      "455/455 [==============================] - 0s 15us/sample - loss: 0.0557 - accuracy: 0.9780 - val_loss: 0.0805 - val_accuracy: 0.9737\n",
      "Epoch 32/200\n",
      "455/455 [==============================] - 0s 13us/sample - loss: 0.0525 - accuracy: 0.9802 - val_loss: 0.0649 - val_accuracy: 0.9737\n",
      "Epoch 33/200\n",
      "455/455 [==============================] - 0s 15us/sample - loss: 0.0528 - accuracy: 0.9824 - val_loss: 0.0631 - val_accuracy: 0.9912\n",
      "Epoch 34/200\n",
      "455/455 [==============================] - 0s 11us/sample - loss: 0.0510 - accuracy: 0.9758 - val_loss: 0.0865 - val_accuracy: 0.9825\n",
      "Epoch 35/200\n",
      "455/455 [==============================] - 0s 15us/sample - loss: 0.0520 - accuracy: 0.9780 - val_loss: 0.0778 - val_accuracy: 0.9825\n",
      "Epoch 36/200\n",
      "455/455 [==============================] - 0s 13us/sample - loss: 0.0661 - accuracy: 0.9714 - val_loss: 0.0554 - val_accuracy: 0.9825\n",
      "Epoch 37/200\n",
      "455/455 [==============================] - 0s 11us/sample - loss: 0.0579 - accuracy: 0.9714 - val_loss: 0.0849 - val_accuracy: 0.9825\n",
      "Epoch 38/200\n",
      "455/455 [==============================] - 0s 13us/sample - loss: 0.0537 - accuracy: 0.9758 - val_loss: 0.0820 - val_accuracy: 0.9825\n",
      "Epoch 39/200\n",
      "455/455 [==============================] - 0s 11us/sample - loss: 0.0399 - accuracy: 0.9890 - val_loss: 0.0562 - val_accuracy: 0.9825\n",
      "Epoch 40/200\n",
      "455/455 [==============================] - 0s 13us/sample - loss: 0.0500 - accuracy: 0.9780 - val_loss: 0.0958 - val_accuracy: 0.9561\n",
      "Epoch 41/200\n",
      "455/455 [==============================] - 0s 11us/sample - loss: 0.0563 - accuracy: 0.9736 - val_loss: 0.0719 - val_accuracy: 0.9825\n",
      "Epoch 42/200\n",
      "455/455 [==============================] - 0s 18us/sample - loss: 0.0887 - accuracy: 0.9692 - val_loss: 0.0504 - val_accuracy: 0.9825\n",
      "Epoch 43/200\n",
      "455/455 [==============================] - 0s 13us/sample - loss: 0.0549 - accuracy: 0.9714 - val_loss: 0.0889 - val_accuracy: 0.9649\n",
      "Epoch 44/200\n",
      "455/455 [==============================] - 0s 13us/sample - loss: 0.0770 - accuracy: 0.9670 - val_loss: 0.0624 - val_accuracy: 0.9737\n",
      "Epoch 45/200\n",
      "455/455 [==============================] - 0s 15us/sample - loss: 0.0554 - accuracy: 0.9824 - val_loss: 0.1421 - val_accuracy: 0.9474\n",
      "Epoch 46/200\n",
      "455/455 [==============================] - 0s 13us/sample - loss: 0.0520 - accuracy: 0.9846 - val_loss: 0.0417 - val_accuracy: 0.9912\n",
      "Epoch 47/200\n",
      "455/455 [==============================] - 0s 15us/sample - loss: 0.0434 - accuracy: 0.9846 - val_loss: 0.0711 - val_accuracy: 0.9649\n",
      "Epoch 48/200\n",
      "455/455 [==============================] - 0s 13us/sample - loss: 0.0417 - accuracy: 0.9868 - val_loss: 0.0691 - val_accuracy: 0.9649\n",
      "Epoch 49/200\n",
      "455/455 [==============================] - 0s 13us/sample - loss: 0.0374 - accuracy: 0.9846 - val_loss: 0.0577 - val_accuracy: 0.9825\n",
      "Epoch 50/200\n",
      "455/455 [==============================] - 0s 13us/sample - loss: 0.0328 - accuracy: 0.9868 - val_loss: 0.0924 - val_accuracy: 0.9561\n",
      "Epoch 51/200\n",
      "455/455 [==============================] - 0s 13us/sample - loss: 0.0300 - accuracy: 0.9912 - val_loss: 0.0620 - val_accuracy: 0.9737\n",
      "Epoch 52/200\n",
      "455/455 [==============================] - 0s 15us/sample - loss: 0.0278 - accuracy: 0.9912 - val_loss: 0.0942 - val_accuracy: 0.9561\n"
     ]
    },
    {
     "name": "stdout",
     "output_type": "stream",
     "text": [
      "Epoch 53/200\n",
      "455/455 [==============================] - 0s 13us/sample - loss: 0.0281 - accuracy: 0.9912 - val_loss: 0.0500 - val_accuracy: 0.9825\n",
      "Epoch 54/200\n",
      "455/455 [==============================] - 0s 15us/sample - loss: 0.0435 - accuracy: 0.9802 - val_loss: 0.0809 - val_accuracy: 0.9561\n",
      "Epoch 55/200\n",
      "455/455 [==============================] - 0s 13us/sample - loss: 0.0411 - accuracy: 0.9824 - val_loss: 0.0608 - val_accuracy: 0.9737\n",
      "Epoch 56/200\n",
      "455/455 [==============================] - 0s 13us/sample - loss: 0.0433 - accuracy: 0.9824 - val_loss: 0.0969 - val_accuracy: 0.9737\n",
      "Epoch 57/200\n",
      "455/455 [==============================] - 0s 15us/sample - loss: 0.0416 - accuracy: 0.9890 - val_loss: 0.0434 - val_accuracy: 0.9912\n",
      "Epoch 58/200\n",
      "455/455 [==============================] - 0s 13us/sample - loss: 0.0567 - accuracy: 0.9824 - val_loss: 0.0792 - val_accuracy: 0.9737\n",
      "Epoch 59/200\n",
      "455/455 [==============================] - 0s 15us/sample - loss: 0.0626 - accuracy: 0.9780 - val_loss: 0.1874 - val_accuracy: 0.9561\n",
      "Epoch 60/200\n",
      "455/455 [==============================] - 0s 13us/sample - loss: 0.0301 - accuracy: 0.9868 - val_loss: 0.1366 - val_accuracy: 0.9649\n",
      "Epoch 61/200\n",
      "455/455 [==============================] - 0s 15us/sample - loss: 0.0362 - accuracy: 0.9868 - val_loss: 0.1415 - val_accuracy: 0.9737\n",
      "Epoch 62/200\n",
      "455/455 [==============================] - 0s 13us/sample - loss: 0.0258 - accuracy: 0.9912 - val_loss: 0.0702 - val_accuracy: 0.9825\n",
      "Epoch 63/200\n",
      "455/455 [==============================] - 0s 15us/sample - loss: 0.0260 - accuracy: 0.9868 - val_loss: 0.0363 - val_accuracy: 0.9737\n",
      "Epoch 64/200\n",
      "455/455 [==============================] - 0s 15us/sample - loss: 0.0216 - accuracy: 0.9934 - val_loss: 0.0527 - val_accuracy: 0.9825\n",
      "Epoch 65/200\n",
      "455/455 [==============================] - 0s 13us/sample - loss: 0.0194 - accuracy: 0.9934 - val_loss: 0.0450 - val_accuracy: 0.9737\n",
      "Epoch 66/200\n",
      "455/455 [==============================] - 0s 15us/sample - loss: 0.0171 - accuracy: 0.9956 - val_loss: 0.0466 - val_accuracy: 0.9737\n",
      "Epoch 67/200\n",
      "455/455 [==============================] - 0s 13us/sample - loss: 0.0154 - accuracy: 0.9934 - val_loss: 0.0447 - val_accuracy: 0.9737\n",
      "Epoch 68/200\n",
      "455/455 [==============================] - 0s 20us/sample - loss: 0.0168 - accuracy: 0.9956 - val_loss: 0.0486 - val_accuracy: 0.9737\n",
      "Epoch 69/200\n",
      "455/455 [==============================] - 0s 13us/sample - loss: 0.0222 - accuracy: 0.9956 - val_loss: 0.0501 - val_accuracy: 0.9649\n",
      "Epoch 70/200\n",
      "455/455 [==============================] - 0s 13us/sample - loss: 0.0241 - accuracy: 0.9912 - val_loss: 0.0502 - val_accuracy: 0.9737\n",
      "Epoch 71/200\n",
      "455/455 [==============================] - 0s 15us/sample - loss: 0.0259 - accuracy: 0.9868 - val_loss: 0.0395 - val_accuracy: 0.9825\n",
      "Epoch 72/200\n",
      "455/455 [==============================] - 0s 13us/sample - loss: 0.0336 - accuracy: 0.9890 - val_loss: 0.0534 - val_accuracy: 0.9825\n",
      "Epoch 73/200\n",
      "455/455 [==============================] - 0s 15us/sample - loss: 0.0194 - accuracy: 0.9912 - val_loss: 0.0445 - val_accuracy: 0.9737\n",
      "Epoch 74/200\n",
      "455/455 [==============================] - 0s 13us/sample - loss: 0.0100 - accuracy: 1.0000 - val_loss: 0.0646 - val_accuracy: 0.9649\n",
      "Epoch 75/200\n",
      "455/455 [==============================] - 0s 15us/sample - loss: 0.0148 - accuracy: 0.9978 - val_loss: 0.0379 - val_accuracy: 0.9825\n",
      "Epoch 76/200\n",
      "455/455 [==============================] - 0s 11us/sample - loss: 0.0133 - accuracy: 0.9956 - val_loss: 0.0435 - val_accuracy: 0.9825\n",
      "Epoch 77/200\n",
      "455/455 [==============================] - 0s 13us/sample - loss: 0.0111 - accuracy: 0.9956 - val_loss: 0.0573 - val_accuracy: 0.9737\n",
      "Epoch 78/200\n",
      "455/455 [==============================] - 0s 18us/sample - loss: 0.0090 - accuracy: 1.0000 - val_loss: 0.0389 - val_accuracy: 0.9825\n",
      "Epoch 79/200\n",
      "455/455 [==============================] - 0s 13us/sample - loss: 0.0101 - accuracy: 0.9956 - val_loss: 0.0651 - val_accuracy: 0.9649\n",
      "Epoch 80/200\n",
      "455/455 [==============================] - 0s 13us/sample - loss: 0.0093 - accuracy: 1.0000 - val_loss: 0.0463 - val_accuracy: 0.9825\n",
      "Epoch 81/200\n",
      "455/455 [==============================] - 0s 13us/sample - loss: 0.0142 - accuracy: 0.9956 - val_loss: 0.0550 - val_accuracy: 0.9825\n",
      "Epoch 82/200\n",
      "455/455 [==============================] - 0s 15us/sample - loss: 0.0064 - accuracy: 1.0000 - val_loss: 0.0588 - val_accuracy: 0.9737\n",
      "Epoch 83/200\n",
      "455/455 [==============================] - 0s 13us/sample - loss: 0.0079 - accuracy: 0.9978 - val_loss: 0.0447 - val_accuracy: 0.9737\n",
      "Epoch 84/200\n",
      "455/455 [==============================] - 0s 15us/sample - loss: 0.0106 - accuracy: 0.9956 - val_loss: 0.0657 - val_accuracy: 0.9737\n",
      "Epoch 85/200\n",
      "455/455 [==============================] - 0s 11us/sample - loss: 0.0072 - accuracy: 0.9978 - val_loss: 0.0510 - val_accuracy: 0.9825\n",
      "Epoch 86/200\n",
      "455/455 [==============================] - 0s 15us/sample - loss: 0.0074 - accuracy: 0.9956 - val_loss: 0.0545 - val_accuracy: 0.9825\n",
      "Epoch 87/200\n",
      "455/455 [==============================] - 0s 11us/sample - loss: 0.0059 - accuracy: 0.9978 - val_loss: 0.0560 - val_accuracy: 0.9825\n",
      "Epoch 88/200\n",
      "455/455 [==============================] - 0s 13us/sample - loss: 0.0154 - accuracy: 0.9978 - val_loss: 0.0533 - val_accuracy: 0.9825\n",
      "Epoch 89/200\n",
      "455/455 [==============================] - 0s 13us/sample - loss: 0.0105 - accuracy: 0.9978 - val_loss: 0.0628 - val_accuracy: 0.9737\n",
      "Epoch 90/200\n",
      "455/455 [==============================] - 0s 13us/sample - loss: 0.0163 - accuracy: 0.9912 - val_loss: 0.0517 - val_accuracy: 0.9825\n",
      "Epoch 91/200\n",
      "455/455 [==============================] - 0s 13us/sample - loss: 0.0056 - accuracy: 0.9978 - val_loss: 0.0580 - val_accuracy: 0.9737\n",
      "Epoch 92/200\n",
      "455/455 [==============================] - 0s 13us/sample - loss: 0.0082 - accuracy: 0.9978 - val_loss: 0.0508 - val_accuracy: 0.9737\n",
      "Epoch 93/200\n",
      "455/455 [==============================] - 0s 15us/sample - loss: 0.0098 - accuracy: 0.9956 - val_loss: 0.0619 - val_accuracy: 0.9737\n",
      "Epoch 94/200\n",
      "455/455 [==============================] - 0s 13us/sample - loss: 0.0076 - accuracy: 0.9956 - val_loss: 0.0463 - val_accuracy: 0.9825\n",
      "Epoch 95/200\n",
      "455/455 [==============================] - 0s 15us/sample - loss: 0.0134 - accuracy: 0.9956 - val_loss: 0.0756 - val_accuracy: 0.9649\n",
      "Epoch 96/200\n",
      "455/455 [==============================] - 0s 11us/sample - loss: 0.0068 - accuracy: 1.0000 - val_loss: 0.0647 - val_accuracy: 0.9825\n",
      "Epoch 97/200\n",
      "455/455 [==============================] - 0s 18us/sample - loss: 0.0115 - accuracy: 0.9978 - val_loss: 0.0579 - val_accuracy: 0.9825\n",
      "Epoch 98/200\n",
      "455/455 [==============================] - 0s 15us/sample - loss: 0.0054 - accuracy: 1.0000 - val_loss: 0.0676 - val_accuracy: 0.9737\n",
      "Epoch 99/200\n",
      "455/455 [==============================] - 0s 15us/sample - loss: 0.0079 - accuracy: 0.9956 - val_loss: 0.0496 - val_accuracy: 0.9737\n",
      "Epoch 100/200\n",
      "455/455 [==============================] - 0s 15us/sample - loss: 0.0032 - accuracy: 1.0000 - val_loss: 0.0597 - val_accuracy: 0.9825\n",
      "Epoch 101/200\n",
      "455/455 [==============================] - 0s 13us/sample - loss: 0.0034 - accuracy: 1.0000 - val_loss: 0.0683 - val_accuracy: 0.9737\n",
      "Epoch 102/200\n",
      "455/455 [==============================] - 0s 15us/sample - loss: 0.0036 - accuracy: 1.0000 - val_loss: 0.0643 - val_accuracy: 0.9737\n",
      "Epoch 103/200\n",
      "455/455 [==============================] - 0s 13us/sample - loss: 0.0030 - accuracy: 1.0000 - val_loss: 0.0626 - val_accuracy: 0.9737\n",
      "Epoch 104/200\n",
      "455/455 [==============================] - 0s 11us/sample - loss: 0.0024 - accuracy: 1.0000 - val_loss: 0.0654 - val_accuracy: 0.9649\n",
      "Epoch 105/200\n",
      "455/455 [==============================] - 0s 13us/sample - loss: 0.0027 - accuracy: 1.0000 - val_loss: 0.0630 - val_accuracy: 0.9737\n",
      "Epoch 106/200\n",
      "455/455 [==============================] - 0s 11us/sample - loss: 0.0024 - accuracy: 1.0000 - val_loss: 0.0637 - val_accuracy: 0.9825\n",
      "Epoch 107/200\n",
      "455/455 [==============================] - 0s 15us/sample - loss: 0.0038 - accuracy: 0.9978 - val_loss: 0.0663 - val_accuracy: 0.9825\n",
      "Epoch 108/200\n",
      "455/455 [==============================] - 0s 13us/sample - loss: 0.0023 - accuracy: 1.0000 - val_loss: 0.0691 - val_accuracy: 0.9649\n"
     ]
    },
    {
     "name": "stdout",
     "output_type": "stream",
     "text": [
      "Epoch 109/200\n",
      "455/455 [==============================] - 0s 15us/sample - loss: 0.0026 - accuracy: 1.0000 - val_loss: 0.0616 - val_accuracy: 0.9737\n",
      "Epoch 110/200\n",
      "455/455 [==============================] - 0s 11us/sample - loss: 0.0022 - accuracy: 1.0000 - val_loss: 0.0647 - val_accuracy: 0.9737\n",
      "Epoch 111/200\n",
      "455/455 [==============================] - 0s 13us/sample - loss: 0.0022 - accuracy: 1.0000 - val_loss: 0.0766 - val_accuracy: 0.9649\n",
      "Epoch 112/200\n",
      "455/455 [==============================] - 0s 13us/sample - loss: 0.0031 - accuracy: 1.0000 - val_loss: 0.0623 - val_accuracy: 0.9737\n",
      "Epoch 113/200\n",
      "455/455 [==============================] - 0s 13us/sample - loss: 0.0038 - accuracy: 1.0000 - val_loss: 0.0686 - val_accuracy: 0.9737\n",
      "Epoch 114/200\n",
      "455/455 [==============================] - 0s 13us/sample - loss: 0.0058 - accuracy: 0.9978 - val_loss: 0.0685 - val_accuracy: 0.9825\n",
      "Epoch 115/200\n",
      "455/455 [==============================] - 0s 11us/sample - loss: 0.0030 - accuracy: 1.0000 - val_loss: 0.0685 - val_accuracy: 0.9825\n",
      "Epoch 116/200\n",
      "455/455 [==============================] - 0s 13us/sample - loss: 0.0015 - accuracy: 1.0000 - val_loss: 0.0805 - val_accuracy: 0.9737\n",
      "Epoch 117/200\n",
      "455/455 [==============================] - 0s 11us/sample - loss: 0.0026 - accuracy: 1.0000 - val_loss: 0.0688 - val_accuracy: 0.9737\n",
      "Epoch 118/200\n",
      "455/455 [==============================] - 0s 13us/sample - loss: 0.0014 - accuracy: 1.0000 - val_loss: 0.0646 - val_accuracy: 0.9737\n",
      "Epoch 119/200\n",
      "455/455 [==============================] - 0s 13us/sample - loss: 0.0021 - accuracy: 1.0000 - val_loss: 0.0706 - val_accuracy: 0.9737\n",
      "Epoch 120/200\n",
      "455/455 [==============================] - 0s 15us/sample - loss: 0.0017 - accuracy: 1.0000 - val_loss: 0.0758 - val_accuracy: 0.9737\n",
      "Epoch 121/200\n",
      "455/455 [==============================] - 0s 13us/sample - loss: 0.0014 - accuracy: 1.0000 - val_loss: 0.0706 - val_accuracy: 0.9737\n",
      "Epoch 122/200\n",
      "455/455 [==============================] - 0s 15us/sample - loss: 0.0035 - accuracy: 0.9978 - val_loss: 0.0742 - val_accuracy: 0.9737\n",
      "Epoch 123/200\n",
      "455/455 [==============================] - 0s 11us/sample - loss: 0.0152 - accuracy: 0.9978 - val_loss: 0.0702 - val_accuracy: 0.9737\n",
      "Epoch 124/200\n",
      "455/455 [==============================] - 0s 13us/sample - loss: 0.0121 - accuracy: 0.9956 - val_loss: 0.0740 - val_accuracy: 0.9825\n",
      "Epoch 125/200\n",
      "455/455 [==============================] - 0s 13us/sample - loss: 0.0206 - accuracy: 0.9934 - val_loss: 0.1393 - val_accuracy: 0.9561\n",
      "Epoch 126/200\n",
      "455/455 [==============================] - 0s 13us/sample - loss: 0.0410 - accuracy: 0.9890 - val_loss: 0.1026 - val_accuracy: 0.9737\n",
      "Epoch 127/200\n",
      "455/455 [==============================] - 0s 13us/sample - loss: 0.0288 - accuracy: 0.9912 - val_loss: 0.0879 - val_accuracy: 0.9737\n",
      "Epoch 128/200\n",
      "455/455 [==============================] - 0s 11us/sample - loss: 0.0060 - accuracy: 0.9978 - val_loss: 0.0782 - val_accuracy: 0.9737\n",
      "Epoch 129/200\n",
      "455/455 [==============================] - 0s 18us/sample - loss: 0.0213 - accuracy: 0.9934 - val_loss: 0.0872 - val_accuracy: 0.9737\n",
      "Epoch 130/200\n",
      "455/455 [==============================] - 0s 13us/sample - loss: 0.0742 - accuracy: 0.9780 - val_loss: 0.1164 - val_accuracy: 0.9737\n",
      "Epoch 131/200\n",
      "455/455 [==============================] - 0s 15us/sample - loss: 0.1198 - accuracy: 0.9714 - val_loss: 0.2231 - val_accuracy: 0.9737\n",
      "Epoch 132/200\n",
      "455/455 [==============================] - 0s 11us/sample - loss: 0.0703 - accuracy: 0.9846 - val_loss: 0.2347 - val_accuracy: 0.9298\n",
      "Epoch 133/200\n",
      "455/455 [==============================] - 0s 15us/sample - loss: 0.1226 - accuracy: 0.9670 - val_loss: 0.2237 - val_accuracy: 0.9737\n",
      "Epoch 134/200\n",
      "455/455 [==============================] - 0s 15us/sample - loss: 0.0689 - accuracy: 0.9714 - val_loss: 0.1654 - val_accuracy: 0.9649\n",
      "Epoch 135/200\n",
      "455/455 [==============================] - 0s 15us/sample - loss: 0.0523 - accuracy: 0.9780 - val_loss: 0.1739 - val_accuracy: 0.9474\n",
      "Epoch 136/200\n",
      "455/455 [==============================] - 0s 15us/sample - loss: 0.0392 - accuracy: 0.9868 - val_loss: 0.1624 - val_accuracy: 0.9737\n",
      "Epoch 137/200\n",
      "455/455 [==============================] - 0s 13us/sample - loss: 0.0322 - accuracy: 0.9890 - val_loss: 0.1732 - val_accuracy: 0.9737\n",
      "Epoch 138/200\n",
      "455/455 [==============================] - 0s 15us/sample - loss: 0.0199 - accuracy: 0.9956 - val_loss: 0.1764 - val_accuracy: 0.9737\n",
      "Epoch 139/200\n",
      "455/455 [==============================] - 0s 15us/sample - loss: 0.0214 - accuracy: 0.9934 - val_loss: 0.1371 - val_accuracy: 0.9737\n",
      "Epoch 140/200\n",
      "455/455 [==============================] - 0s 13us/sample - loss: 0.0159 - accuracy: 0.9956 - val_loss: 0.1563 - val_accuracy: 0.9737\n",
      "Epoch 141/200\n",
      "455/455 [==============================] - 0s 15us/sample - loss: 0.0143 - accuracy: 0.9934 - val_loss: 0.1987 - val_accuracy: 0.9649\n",
      "Epoch 142/200\n",
      "455/455 [==============================] - 0s 18us/sample - loss: 0.0114 - accuracy: 0.9978 - val_loss: 0.1791 - val_accuracy: 0.9737\n",
      "Epoch 143/200\n",
      "455/455 [==============================] - 0s 11us/sample - loss: 0.0094 - accuracy: 0.9956 - val_loss: 0.1232 - val_accuracy: 0.9737\n",
      "Epoch 144/200\n",
      "455/455 [==============================] - 0s 20us/sample - loss: 0.0071 - accuracy: 0.9978 - val_loss: 0.1188 - val_accuracy: 0.9737\n",
      "Epoch 145/200\n",
      "455/455 [==============================] - 0s 20us/sample - loss: 0.0064 - accuracy: 1.0000 - val_loss: 0.1192 - val_accuracy: 0.9737\n",
      "Epoch 146/200\n",
      "455/455 [==============================] - 0s 15us/sample - loss: 0.0062 - accuracy: 1.0000 - val_loss: 0.1041 - val_accuracy: 0.9737\n",
      "Epoch 147/200\n",
      "455/455 [==============================] - 0s 20us/sample - loss: 0.0059 - accuracy: 1.0000 - val_loss: 0.1047 - val_accuracy: 0.9737\n",
      "Epoch 148/200\n",
      "455/455 [==============================] - 0s 18us/sample - loss: 0.0041 - accuracy: 1.0000 - val_loss: 0.1049 - val_accuracy: 0.9737\n",
      "Epoch 149/200\n",
      "455/455 [==============================] - 0s 13us/sample - loss: 0.0052 - accuracy: 0.9978 - val_loss: 0.1071 - val_accuracy: 0.9737\n",
      "Epoch 150/200\n",
      "455/455 [==============================] - 0s 20us/sample - loss: 0.0040 - accuracy: 1.0000 - val_loss: 0.1127 - val_accuracy: 0.9737\n",
      "Epoch 151/200\n",
      "455/455 [==============================] - 0s 18us/sample - loss: 0.0044 - accuracy: 1.0000 - val_loss: 0.1213 - val_accuracy: 0.9737\n",
      "Epoch 152/200\n",
      "455/455 [==============================] - 0s 13us/sample - loss: 0.0029 - accuracy: 1.0000 - val_loss: 0.1235 - val_accuracy: 0.9737\n",
      "Epoch 153/200\n",
      "455/455 [==============================] - 0s 18us/sample - loss: 0.0028 - accuracy: 1.0000 - val_loss: 0.1279 - val_accuracy: 0.9737\n",
      "Epoch 154/200\n",
      "455/455 [==============================] - 0s 18us/sample - loss: 0.0027 - accuracy: 1.0000 - val_loss: 0.1338 - val_accuracy: 0.9737\n",
      "Epoch 155/200\n",
      "455/455 [==============================] - 0s 15us/sample - loss: 0.0024 - accuracy: 1.0000 - val_loss: 0.1354 - val_accuracy: 0.9737\n",
      "Epoch 156/200\n",
      "455/455 [==============================] - 0s 15us/sample - loss: 0.0022 - accuracy: 1.0000 - val_loss: 0.1382 - val_accuracy: 0.9737\n",
      "Epoch 157/200\n",
      "455/455 [==============================] - 0s 18us/sample - loss: 0.0024 - accuracy: 1.0000 - val_loss: 0.1415 - val_accuracy: 0.9737\n",
      "Epoch 158/200\n",
      "455/455 [==============================] - 0s 13us/sample - loss: 0.0029 - accuracy: 1.0000 - val_loss: 0.1430 - val_accuracy: 0.9737\n",
      "Epoch 159/200\n",
      "455/455 [==============================] - 0s 15us/sample - loss: 0.0022 - accuracy: 1.0000 - val_loss: 0.1367 - val_accuracy: 0.9737\n",
      "Epoch 160/200\n",
      "455/455 [==============================] - 0s 18us/sample - loss: 0.0020 - accuracy: 1.0000 - val_loss: 0.1367 - val_accuracy: 0.9737\n",
      "Epoch 161/200\n",
      "455/455 [==============================] - 0s 15us/sample - loss: 0.0024 - accuracy: 1.0000 - val_loss: 0.1370 - val_accuracy: 0.9737\n",
      "Epoch 162/200\n",
      "455/455 [==============================] - 0s 18us/sample - loss: 0.0021 - accuracy: 1.0000 - val_loss: 0.1382 - val_accuracy: 0.9737\n",
      "Epoch 163/200\n",
      "455/455 [==============================] - 0s 13us/sample - loss: 0.0018 - accuracy: 1.0000 - val_loss: 0.1410 - val_accuracy: 0.9737\n",
      "Epoch 164/200\n"
     ]
    },
    {
     "name": "stdout",
     "output_type": "stream",
     "text": [
      "455/455 [==============================] - 0s 15us/sample - loss: 0.0016 - accuracy: 1.0000 - val_loss: 0.1432 - val_accuracy: 0.9737\n",
      "Epoch 165/200\n",
      "455/455 [==============================] - 0s 18us/sample - loss: 0.0017 - accuracy: 1.0000 - val_loss: 0.1418 - val_accuracy: 0.9737\n",
      "Epoch 166/200\n",
      "455/455 [==============================] - 0s 15us/sample - loss: 0.0017 - accuracy: 1.0000 - val_loss: 0.1396 - val_accuracy: 0.9737\n",
      "Epoch 167/200\n",
      "455/455 [==============================] - 0s 13us/sample - loss: 0.0015 - accuracy: 1.0000 - val_loss: 0.1395 - val_accuracy: 0.9737\n",
      "Epoch 168/200\n",
      "455/455 [==============================] - 0s 15us/sample - loss: 0.0014 - accuracy: 1.0000 - val_loss: 0.1382 - val_accuracy: 0.9737\n",
      "Epoch 169/200\n",
      "455/455 [==============================] - 0s 13us/sample - loss: 0.0013 - accuracy: 1.0000 - val_loss: 0.1371 - val_accuracy: 0.9737\n",
      "Epoch 170/200\n",
      "455/455 [==============================] - 0s 15us/sample - loss: 0.0013 - accuracy: 1.0000 - val_loss: 0.1366 - val_accuracy: 0.9737\n",
      "Epoch 171/200\n",
      "455/455 [==============================] - 0s 18us/sample - loss: 0.0013 - accuracy: 1.0000 - val_loss: 0.1351 - val_accuracy: 0.9737\n",
      "Epoch 172/200\n",
      "455/455 [==============================] - 0s 13us/sample - loss: 0.0012 - accuracy: 1.0000 - val_loss: 0.1355 - val_accuracy: 0.9737\n",
      "Epoch 173/200\n",
      "455/455 [==============================] - 0s 18us/sample - loss: 0.0012 - accuracy: 1.0000 - val_loss: 0.1376 - val_accuracy: 0.9737\n",
      "Epoch 174/200\n",
      "455/455 [==============================] - 0s 13us/sample - loss: 0.0012 - accuracy: 1.0000 - val_loss: 0.1387 - val_accuracy: 0.9737\n",
      "Epoch 175/200\n",
      "455/455 [==============================] - 0s 13us/sample - loss: 0.0012 - accuracy: 1.0000 - val_loss: 0.1387 - val_accuracy: 0.9737\n",
      "Epoch 176/200\n",
      "455/455 [==============================] - 0s 15us/sample - loss: 0.0011 - accuracy: 1.0000 - val_loss: 0.1390 - val_accuracy: 0.9737\n",
      "Epoch 177/200\n",
      "455/455 [==============================] - 0s 11us/sample - loss: 0.0011 - accuracy: 1.0000 - val_loss: 0.1393 - val_accuracy: 0.9737\n",
      "Epoch 178/200\n",
      "455/455 [==============================] - 0s 15us/sample - loss: 0.0012 - accuracy: 1.0000 - val_loss: 0.1395 - val_accuracy: 0.9737\n",
      "Epoch 179/200\n",
      "455/455 [==============================] - 0s 11us/sample - loss: 0.0011 - accuracy: 1.0000 - val_loss: 0.1387 - val_accuracy: 0.9737\n",
      "Epoch 180/200\n",
      "455/455 [==============================] - 0s 15us/sample - loss: 9.6031e-04 - accuracy: 1.0000 - val_loss: 0.1389 - val_accuracy: 0.9737\n",
      "Epoch 181/200\n",
      "455/455 [==============================] - 0s 13us/sample - loss: 9.7614e-04 - accuracy: 1.0000 - val_loss: 0.1383 - val_accuracy: 0.9737\n",
      "Epoch 182/200\n",
      "455/455 [==============================] - 0s 15us/sample - loss: 9.5584e-04 - accuracy: 1.0000 - val_loss: 0.1393 - val_accuracy: 0.9737\n",
      "Epoch 183/200\n",
      "455/455 [==============================] - 0s 13us/sample - loss: 9.0848e-04 - accuracy: 1.0000 - val_loss: 0.1401 - val_accuracy: 0.9737\n",
      "Epoch 184/200\n",
      "455/455 [==============================] - 0s 13us/sample - loss: 9.0494e-04 - accuracy: 1.0000 - val_loss: 0.1403 - val_accuracy: 0.9737\n",
      "Epoch 185/200\n",
      "455/455 [==============================] - 0s 15us/sample - loss: 9.2326e-04 - accuracy: 1.0000 - val_loss: 0.1406 - val_accuracy: 0.9737\n",
      "Epoch 186/200\n",
      "455/455 [==============================] - 0s 13us/sample - loss: 8.9652e-04 - accuracy: 1.0000 - val_loss: 0.1415 - val_accuracy: 0.9737\n",
      "Epoch 187/200\n",
      "455/455 [==============================] - 0s 18us/sample - loss: 8.7905e-04 - accuracy: 1.0000 - val_loss: 0.1422 - val_accuracy: 0.9737\n",
      "Epoch 188/200\n",
      "455/455 [==============================] - 0s 11us/sample - loss: 9.4812e-04 - accuracy: 1.0000 - val_loss: 0.1423 - val_accuracy: 0.9737\n",
      "Epoch 189/200\n",
      "455/455 [==============================] - 0s 13us/sample - loss: 8.9652e-04 - accuracy: 1.0000 - val_loss: 0.1424 - val_accuracy: 0.9737\n",
      "Epoch 190/200\n",
      "455/455 [==============================] - 0s 15us/sample - loss: 8.8139e-04 - accuracy: 1.0000 - val_loss: 0.1422 - val_accuracy: 0.9737\n",
      "Epoch 191/200\n",
      "455/455 [==============================] - 0s 13us/sample - loss: 8.9766e-04 - accuracy: 1.0000 - val_loss: 0.1408 - val_accuracy: 0.9737\n",
      "Epoch 192/200\n",
      "455/455 [==============================] - 0s 18us/sample - loss: 9.8702e-04 - accuracy: 1.0000 - val_loss: 0.1403 - val_accuracy: 0.9737\n",
      "Epoch 193/200\n",
      "455/455 [==============================] - 0s 13us/sample - loss: 7.7563e-04 - accuracy: 1.0000 - val_loss: 0.1417 - val_accuracy: 0.9737\n",
      "Epoch 194/200\n",
      "455/455 [==============================] - 0s 13us/sample - loss: 8.1789e-04 - accuracy: 1.0000 - val_loss: 0.1431 - val_accuracy: 0.9737\n",
      "Epoch 195/200\n",
      "455/455 [==============================] - 0s 18us/sample - loss: 6.7379e-04 - accuracy: 1.0000 - val_loss: 0.1422 - val_accuracy: 0.9737\n",
      "Epoch 196/200\n",
      "455/455 [==============================] - 0s 13us/sample - loss: 7.4090e-04 - accuracy: 1.0000 - val_loss: 0.1421 - val_accuracy: 0.9737\n",
      "Epoch 197/200\n",
      "455/455 [==============================] - 0s 15us/sample - loss: 7.4163e-04 - accuracy: 1.0000 - val_loss: 0.1422 - val_accuracy: 0.9737\n",
      "Epoch 198/200\n",
      "455/455 [==============================] - 0s 18us/sample - loss: 7.2369e-04 - accuracy: 1.0000 - val_loss: 0.1422 - val_accuracy: 0.9737\n",
      "Epoch 199/200\n",
      "455/455 [==============================] - 0s 29us/sample - loss: 6.8827e-04 - accuracy: 1.0000 - val_loss: 0.1429 - val_accuracy: 0.9737\n",
      "Epoch 200/200\n",
      "455/455 [==============================] - 0s 20us/sample - loss: 6.8739e-04 - accuracy: 1.0000 - val_loss: 0.1450 - val_accuracy: 0.9737\n"
     ]
    },
    {
     "data": {
      "application/javascript": [
       "\n",
       "            setTimeout(function() {\n",
       "                var nbb_cell_id = 14;\n",
       "                var nbb_unformatted_code = \"# Answer below:\\n# with tf.device(\\\"/device:XLA_GPU:0\\\"):\\nsgd = SGD(learning_rate=0.05, momentum=0.9)\\nmodel = build_model(\\n    X.shape[1],\\n    output_dim=y.shape[1],\\n    layer_nodes=[128, 64, 32, 32],\\n    activation_function=\\\"relu\\\",\\n    output_function=\\\"sigmoid\\\",\\n)\\nmodel.compile(loss=\\\"binary_crossentropy\\\", optimizer=sgd, metrics=[\\\"accuracy\\\"])\\nhistory = model.fit(\\n    X_train, y_train, validation_data=(X_test, y_test), batch_size=100, epochs=200\\n)\";\n",
       "                var nbb_formatted_code = \"# Answer below:\\n# with tf.device(\\\"/device:XLA_GPU:0\\\"):\\nsgd = SGD(learning_rate=0.05, momentum=0.9)\\nmodel = build_model(\\n    X.shape[1],\\n    output_dim=y.shape[1],\\n    layer_nodes=[128, 64, 32, 32],\\n    activation_function=\\\"relu\\\",\\n    output_function=\\\"sigmoid\\\",\\n)\\nmodel.compile(loss=\\\"binary_crossentropy\\\", optimizer=sgd, metrics=[\\\"accuracy\\\"])\\nhistory = model.fit(\\n    X_train, y_train, validation_data=(X_test, y_test), batch_size=100, epochs=200\\n)\";\n",
       "                var nbb_cells = Jupyter.notebook.get_cells();\n",
       "                for (var i = 0; i < nbb_cells.length; ++i) {\n",
       "                    if (nbb_cells[i].input_prompt_number == nbb_cell_id) {\n",
       "                        if (nbb_cells[i].get_text() == nbb_unformatted_code) {\n",
       "                             nbb_cells[i].set_text(nbb_formatted_code);\n",
       "                        }\n",
       "                        break;\n",
       "                    }\n",
       "                }\n",
       "            }, 500);\n",
       "            "
      ],
      "text/plain": [
       "<IPython.core.display.Javascript object>"
      ]
     },
     "metadata": {},
     "output_type": "display_data"
    }
   ],
   "source": [
    "# Answer below:\n",
    "# with tf.device(\"/device:XLA_GPU:0\"):\n",
    "sgd = SGD(learning_rate=0.05, momentum=0.9)\n",
    "model = build_model(\n",
    "    X.shape[1],\n",
    "    output_dim=y.shape[1],\n",
    "    layer_nodes=[128, 64, 32, 32],\n",
    "    activation_function=\"relu\",\n",
    "    output_function=\"sigmoid\",\n",
    ")\n",
    "model.compile(loss=\"binary_crossentropy\", optimizer=sgd, metrics=[\"accuracy\"])\n",
    "history = model.fit(\n",
    "    X_train, y_train, validation_data=(X_test, y_test), batch_size=100, epochs=200\n",
    ")\n"
   ]
  },
  {
   "cell_type": "code",
   "execution_count": 15,
   "metadata": {},
   "outputs": [
    {
     "data": {
      "text/plain": [
       "<AxesSubplot:>"
      ]
     },
     "execution_count": 15,
     "metadata": {},
     "output_type": "execute_result"
    },
    {
     "data": {
      "image/png": "[encoded data removed]",
      "text/plain": [
       "<Figure size 432x288 with 1 Axes>"
      ]
     },
     "metadata": {
      "needs_background": "light"
     },
     "output_type": "display_data"
    },
    {
     "data": {
      "application/javascript": [
       "\n",
       "            setTimeout(function() {\n",
       "                var nbb_cell_id = 15;\n",
       "                var nbb_unformatted_code = \"pd.DataFrame(history.history)[[\\\"accuracy\\\", \\\"val_accuracy\\\"]].plot()\";\n",
       "                var nbb_formatted_code = \"pd.DataFrame(history.history)[[\\\"accuracy\\\", \\\"val_accuracy\\\"]].plot()\";\n",
       "                var nbb_cells = Jupyter.notebook.get_cells();\n",
       "                for (var i = 0; i < nbb_cells.length; ++i) {\n",
       "                    if (nbb_cells[i].input_prompt_number == nbb_cell_id) {\n",
       "                        if (nbb_cells[i].get_text() == nbb_unformatted_code) {\n",
       "                             nbb_cells[i].set_text(nbb_formatted_code);\n",
       "                        }\n",
       "                        break;\n",
       "                    }\n",
       "                }\n",
       "            }, 500);\n",
       "            "
      ],
      "text/plain": [
       "<IPython.core.display.Javascript object>"
      ]
     },
     "metadata": {},
     "output_type": "display_data"
    }
   ],
   "source": [
    "pd.DataFrame(history.history)[[\"accuracy\", \"val_accuracy\"]].plot()"
   ]
  },
  {
   "cell_type": "markdown",
   "metadata": {
    "colab_type": "text",
    "id": "9sRBwGzsgGvx"
   },
   "source": [
    "Define the RMSprop optimizer with a learning rate of 0.05."
   ]
  },
  {
   "cell_type": "code",
   "execution_count": 16,
   "metadata": {
    "colab": {},
    "colab_type": "code",
    "id": "odyJo-kugGvy"
   },
   "outputs": [
    {
     "data": {
      "application/javascript": [
       "\n",
       "            setTimeout(function() {\n",
       "                var nbb_cell_id = 16;\n",
       "                var nbb_unformatted_code = \"# Answer below:\\nrms = RMSprop(learning_rate=0.05)\";\n",
       "                var nbb_formatted_code = \"# Answer below:\\nrms = RMSprop(learning_rate=0.05)\";\n",
       "                var nbb_cells = Jupyter.notebook.get_cells();\n",
       "                for (var i = 0; i < nbb_cells.length; ++i) {\n",
       "                    if (nbb_cells[i].input_prompt_number == nbb_cell_id) {\n",
       "                        if (nbb_cells[i].get_text() == nbb_unformatted_code) {\n",
       "                             nbb_cells[i].set_text(nbb_formatted_code);\n",
       "                        }\n",
       "                        break;\n",
       "                    }\n",
       "                }\n",
       "            }, 500);\n",
       "            "
      ],
      "text/plain": [
       "<IPython.core.display.Javascript object>"
      ]
     },
     "metadata": {},
     "output_type": "display_data"
    }
   ],
   "source": [
    "# Answer below:\n",
    "rms = RMSprop(learning_rate=0.05)\n"
   ]
  },
  {
   "cell_type": "markdown",
   "metadata": {
    "colab_type": "text",
    "id": "o7GaEJGugGvz"
   },
   "source": [
    "Compile and fit the model using the optimizer defined above. What do you notice about the accuracy?"
   ]
  },
  {
   "cell_type": "code",
   "execution_count": 17,
   "metadata": {
    "colab": {},
    "colab_type": "code",
    "id": "477zsxjvgGv0"
   },
   "outputs": [
    {
     "name": "stdout",
     "output_type": "stream",
     "text": [
      "Train on 455 samples, validate on 114 samples\n",
      "Epoch 1/200\n",
      "455/455 [==============================] - 6s 13ms/sample - loss: 7.5331 - accuracy: 0.3890 - val_loss: 10.1662 - val_accuracy: 0.3333\n",
      "Epoch 2/200\n",
      "455/455 [==============================] - 0s 18us/sample - loss: 9.4695 - accuracy: 0.3824 - val_loss: 10.1662 - val_accuracy: 0.3333\n",
      "Epoch 3/200\n",
      "455/455 [==============================] - 0s 13us/sample - loss: 9.4695 - accuracy: 0.3824 - val_loss: 10.1662 - val_accuracy: 0.3333\n",
      "Epoch 4/200\n",
      "455/455 [==============================] - 0s 13us/sample - loss: 9.4695 - accuracy: 0.3824 - val_loss: 10.1662 - val_accuracy: 0.3333\n",
      "Epoch 5/200\n",
      "455/455 [==============================] - 0s 18us/sample - loss: 9.4695 - accuracy: 0.3824 - val_loss: 10.1662 - val_accuracy: 0.3333\n",
      "Epoch 6/200\n",
      "455/455 [==============================] - 0s 13us/sample - loss: 9.4695 - accuracy: 0.3824 - val_loss: 10.1662 - val_accuracy: 0.3333\n",
      "Epoch 7/200\n",
      "455/455 [==============================] - 0s 18us/sample - loss: 9.4695 - accuracy: 0.3824 - val_loss: 10.1662 - val_accuracy: 0.3333\n",
      "Epoch 8/200\n",
      "455/455 [==============================] - 0s 15us/sample - loss: 9.4695 - accuracy: 0.3824 - val_loss: 10.1662 - val_accuracy: 0.3333\n",
      "Epoch 9/200\n",
      "455/455 [==============================] - 0s 18us/sample - loss: 9.4695 - accuracy: 0.3824 - val_loss: 10.1662 - val_accuracy: 0.3333\n",
      "Epoch 10/200\n",
      "455/455 [==============================] - 0s 20us/sample - loss: 9.4695 - accuracy: 0.3824 - val_loss: 10.1662 - val_accuracy: 0.3333\n",
      "Epoch 11/200\n",
      "455/455 [==============================] - 0s 15us/sample - loss: 9.4695 - accuracy: 0.3824 - val_loss: 10.1662 - val_accuracy: 0.3333\n",
      "Epoch 12/200\n",
      "455/455 [==============================] - 0s 13us/sample - loss: 9.4695 - accuracy: 0.3824 - val_loss: 10.1662 - val_accuracy: 0.3333\n",
      "Epoch 13/200\n",
      "455/455 [==============================] - 0s 15us/sample - loss: 9.4695 - accuracy: 0.3824 - val_loss: 10.1662 - val_accuracy: 0.3333\n",
      "Epoch 14/200\n",
      "455/455 [==============================] - 0s 13us/sample - loss: 9.4695 - accuracy: 0.3824 - val_loss: 10.1662 - val_accuracy: 0.3333\n",
      "Epoch 15/200\n",
      "455/455 [==============================] - 0s 20us/sample - loss: 9.4695 - accuracy: 0.3824 - val_loss: 10.1662 - val_accuracy: 0.3333\n",
      "Epoch 16/200\n",
      "455/455 [==============================] - 0s 22us/sample - loss: 9.4695 - accuracy: 0.3824 - val_loss: 10.1662 - val_accuracy: 0.3333\n",
      "Epoch 17/200\n",
      "455/455 [==============================] - 0s 18us/sample - loss: 9.4695 - accuracy: 0.3824 - val_loss: 10.1662 - val_accuracy: 0.3333\n",
      "Epoch 18/200\n",
      "455/455 [==============================] - 0s 15us/sample - loss: 9.4695 - accuracy: 0.3824 - val_loss: 10.1662 - val_accuracy: 0.3333\n",
      "Epoch 19/200\n",
      "455/455 [==============================] - 0s 20us/sample - loss: 9.4695 - accuracy: 0.3824 - val_loss: 10.1662 - val_accuracy: 0.3333\n",
      "Epoch 20/200\n",
      "455/455 [==============================] - 0s 15us/sample - loss: 9.4695 - accuracy: 0.3824 - val_loss: 10.1662 - val_accuracy: 0.3333\n",
      "Epoch 21/200\n",
      "455/455 [==============================] - 0s 15us/sample - loss: 9.4695 - accuracy: 0.3824 - val_loss: 10.1662 - val_accuracy: 0.3333\n",
      "Epoch 22/200\n",
      "455/455 [==============================] - 0s 15us/sample - loss: 9.4695 - accuracy: 0.3824 - val_loss: 10.1662 - val_accuracy: 0.3333\n",
      "Epoch 23/200\n",
      "455/455 [==============================] - 0s 15us/sample - loss: 9.4695 - accuracy: 0.3824 - val_loss: 10.1662 - val_accuracy: 0.3333\n",
      "Epoch 24/200\n",
      "455/455 [==============================] - 0s 13us/sample - loss: 9.4695 - accuracy: 0.3824 - val_loss: 10.1662 - val_accuracy: 0.3333\n",
      "Epoch 25/200\n",
      "455/455 [==============================] - 0s 15us/sample - loss: 9.4695 - accuracy: 0.3824 - val_loss: 10.1662 - val_accuracy: 0.3333\n",
      "Epoch 26/200\n",
      "455/455 [==============================] - 0s 13us/sample - loss: 9.4695 - accuracy: 0.3824 - val_loss: 10.1662 - val_accuracy: 0.3333\n",
      "Epoch 27/200\n",
      "455/455 [==============================] - 0s 17us/sample - loss: 9.4695 - accuracy: 0.3824 - val_loss: 10.1662 - val_accuracy: 0.3333\n",
      "Epoch 28/200\n",
      "455/455 [==============================] - 0s 15us/sample - loss: 9.4695 - accuracy: 0.3824 - val_loss: 10.1662 - val_accuracy: 0.3333\n",
      "Epoch 29/200\n",
      "455/455 [==============================] - 0s 11us/sample - loss: 9.4695 - accuracy: 0.3824 - val_loss: 10.1662 - val_accuracy: 0.3333\n",
      "Epoch 30/200\n",
      "455/455 [==============================] - 0s 18us/sample - loss: 9.4695 - accuracy: 0.3824 - val_loss: 10.1662 - val_accuracy: 0.3333\n",
      "Epoch 31/200\n",
      "455/455 [==============================] - 0s 15us/sample - loss: 9.4695 - accuracy: 0.3824 - val_loss: 10.1662 - val_accuracy: 0.3333\n",
      "Epoch 32/200\n",
      "455/455 [==============================] - 0s 15us/sample - loss: 9.4695 - accuracy: 0.3824 - val_loss: 10.1662 - val_accuracy: 0.3333\n",
      "Epoch 33/200\n",
      "455/455 [==============================] - 0s 15us/sample - loss: 9.4695 - accuracy: 0.3824 - val_loss: 10.1662 - val_accuracy: 0.3333\n",
      "Epoch 34/200\n",
      "455/455 [==============================] - 0s 13us/sample - loss: 9.4695 - accuracy: 0.3824 - val_loss: 10.1662 - val_accuracy: 0.3333\n",
      "Epoch 35/200\n",
      "455/455 [==============================] - 0s 18us/sample - loss: 9.4695 - accuracy: 0.3824 - val_loss: 10.1662 - val_accuracy: 0.3333\n",
      "Epoch 36/200\n",
      "455/455 [==============================] - 0s 18us/sample - loss: 9.4695 - accuracy: 0.3824 - val_loss: 10.1662 - val_accuracy: 0.3333\n",
      "Epoch 37/200\n",
      "455/455 [==============================] - 0s 20us/sample - loss: 9.4695 - accuracy: 0.3824 - val_loss: 10.1662 - val_accuracy: 0.3333\n",
      "Epoch 38/200\n",
      "455/455 [==============================] - 0s 16us/sample - loss: 9.4695 - accuracy: 0.3824 - val_loss: 10.1662 - val_accuracy: 0.3333\n",
      "Epoch 39/200\n",
      "455/455 [==============================] - 0s 13us/sample - loss: 9.4695 - accuracy: 0.3824 - val_loss: 10.1662 - val_accuracy: 0.3333\n",
      "Epoch 40/200\n",
      "455/455 [==============================] - 0s 18us/sample - loss: 9.4695 - accuracy: 0.3824 - val_loss: 10.1662 - val_accuracy: 0.3333\n",
      "Epoch 41/200\n",
      "455/455 [==============================] - 0s 18us/sample - loss: 9.4695 - accuracy: 0.3824 - val_loss: 10.1662 - val_accuracy: 0.3333\n",
      "Epoch 42/200\n",
      "455/455 [==============================] - 0s 13us/sample - loss: 9.4695 - accuracy: 0.3824 - val_loss: 10.1662 - val_accuracy: 0.3333\n",
      "Epoch 43/200\n",
      "455/455 [==============================] - 0s 15us/sample - loss: 9.4695 - accuracy: 0.3824 - val_loss: 10.1662 - val_accuracy: 0.3333\n",
      "Epoch 44/200\n",
      "455/455 [==============================] - 0s 15us/sample - loss: 9.4695 - accuracy: 0.3824 - val_loss: 10.1662 - val_accuracy: 0.3333\n",
      "Epoch 45/200\n",
      "455/455 [==============================] - 0s 15us/sample - loss: 9.4695 - accuracy: 0.3824 - val_loss: 10.1662 - val_accuracy: 0.3333\n",
      "Epoch 46/200\n",
      "455/455 [==============================] - 0s 15us/sample - loss: 9.4695 - accuracy: 0.3824 - val_loss: 10.1662 - val_accuracy: 0.3333\n",
      "Epoch 47/200\n",
      "455/455 [==============================] - 0s 15us/sample - loss: 9.4695 - accuracy: 0.3824 - val_loss: 10.1662 - val_accuracy: 0.3333\n",
      "Epoch 48/200\n",
      "455/455 [==============================] - 0s 18us/sample - loss: 9.4695 - accuracy: 0.3824 - val_loss: 10.1662 - val_accuracy: 0.3333\n",
      "Epoch 49/200\n",
      "455/455 [==============================] - 0s 15us/sample - loss: 9.4695 - accuracy: 0.3824 - val_loss: 10.1662 - val_accuracy: 0.3333\n",
      "Epoch 50/200\n",
      "455/455 [==============================] - 0s 13us/sample - loss: 9.4695 - accuracy: 0.3824 - val_loss: 10.1662 - val_accuracy: 0.3333\n",
      "Epoch 51/200\n",
      "455/455 [==============================] - 0s 18us/sample - loss: 9.4695 - accuracy: 0.3824 - val_loss: 10.1662 - val_accuracy: 0.3333\n",
      "Epoch 52/200\n",
      "455/455 [==============================] - 0s 22us/sample - loss: 9.4695 - accuracy: 0.3824 - val_loss: 10.1662 - val_accuracy: 0.3333\n",
      "Epoch 53/200\n",
      "455/455 [==============================] - 0s 15us/sample - loss: 9.4695 - accuracy: 0.3824 - val_loss: 10.1662 - val_accuracy: 0.3333\n",
      "Epoch 54/200\n",
      "455/455 [==============================] - 0s 18us/sample - loss: 9.4695 - accuracy: 0.3824 - val_loss: 10.1662 - val_accuracy: 0.3333\n",
      "Epoch 55/200\n",
      "455/455 [==============================] - 0s 20us/sample - loss: 9.4695 - accuracy: 0.3824 - val_loss: 10.1662 - val_accuracy: 0.3333\n",
      "Epoch 56/200\n",
      "455/455 [==============================] - 0s 18us/sample - loss: 9.4695 - accuracy: 0.3824 - val_loss: 10.1662 - val_accuracy: 0.3333\n",
      "Epoch 57/200\n",
      "455/455 [==============================] - 0s 13us/sample - loss: 9.4695 - accuracy: 0.3824 - val_loss: 10.1662 - val_accuracy: 0.3333\n",
      "Epoch 58/200\n",
      "455/455 [==============================] - 0s 18us/sample - loss: 9.4695 - accuracy: 0.3824 - val_loss: 10.1662 - val_accuracy: 0.3333\n",
      "Epoch 59/200\n",
      "455/455 [==============================] - 0s 13us/sample - loss: 9.4695 - accuracy: 0.3824 - val_loss: 10.1662 - val_accuracy: 0.3333\n",
      "Epoch 60/200\n",
      "455/455 [==============================] - 0s 13us/sample - loss: 9.4695 - accuracy: 0.3824 - val_loss: 10.1662 - val_accuracy: 0.3333\n",
      "Epoch 61/200\n",
      "455/455 [==============================] - 0s 15us/sample - loss: 9.4695 - accuracy: 0.3824 - val_loss: 10.1662 - val_accuracy: 0.3333\n",
      "Epoch 62/200\n",
      "455/455 [==============================] - 0s 15us/sample - loss: 9.4695 - accuracy: 0.3824 - val_loss: 10.1662 - val_accuracy: 0.3333\n",
      "Epoch 63/200\n",
      "455/455 [==============================] - 0s 15us/sample - loss: 9.4695 - accuracy: 0.3824 - val_loss: 10.1662 - val_accuracy: 0.3333\n",
      "Epoch 64/200\n",
      "455/455 [==============================] - 0s 15us/sample - loss: 9.4695 - accuracy: 0.3824 - val_loss: 10.1662 - val_accuracy: 0.3333\n",
      "Epoch 65/200\n",
      "455/455 [==============================] - 0s 13us/sample - loss: 9.4695 - accuracy: 0.3824 - val_loss: 10.1662 - val_accuracy: 0.3333\n",
      "Epoch 66/200\n",
      "455/455 [==============================] - 0s 15us/sample - loss: 9.4695 - accuracy: 0.3824 - val_loss: 10.1662 - val_accuracy: 0.3333\n",
      "Epoch 67/200\n",
      "455/455 [==============================] - 0s 13us/sample - loss: 9.4695 - accuracy: 0.3824 - val_loss: 10.1662 - val_accuracy: 0.3333\n",
      "Epoch 68/200\n",
      "455/455 [==============================] - 0s 15us/sample - loss: 9.4695 - accuracy: 0.3824 - val_loss: 10.1662 - val_accuracy: 0.3333\n",
      "Epoch 69/200\n",
      "455/455 [==============================] - 0s 13us/sample - loss: 9.4695 - accuracy: 0.3824 - val_loss: 10.1662 - val_accuracy: 0.3333\n",
      "Epoch 70/200\n",
      "455/455 [==============================] - 0s 13us/sample - loss: 9.4695 - accuracy: 0.3824 - val_loss: 10.1662 - val_accuracy: 0.3333\n",
      "Epoch 71/200\n",
      "455/455 [==============================] - 0s 13us/sample - loss: 9.4695 - accuracy: 0.3824 - val_loss: 10.1662 - val_accuracy: 0.3333\n",
      "Epoch 72/200\n",
      "455/455 [==============================] - 0s 13us/sample - loss: 9.4695 - accuracy: 0.3824 - val_loss: 10.1662 - val_accuracy: 0.3333\n",
      "Epoch 73/200\n",
      "455/455 [==============================] - 0s 13us/sample - loss: 9.4695 - accuracy: 0.3824 - val_loss: 10.1662 - val_accuracy: 0.3333\n",
      "Epoch 74/200\n",
      "455/455 [==============================] - 0s 11us/sample - loss: 9.4695 - accuracy: 0.3824 - val_loss: 10.1662 - val_accuracy: 0.3333\n",
      "Epoch 75/200\n",
      "455/455 [==============================] - 0s 15us/sample - loss: 9.4695 - accuracy: 0.3824 - val_loss: 10.1662 - val_accuracy: 0.3333\n",
      "Epoch 76/200\n",
      "455/455 [==============================] - 0s 11us/sample - loss: 9.4695 - accuracy: 0.3824 - val_loss: 10.1662 - val_accuracy: 0.3333\n",
      "Epoch 77/200\n",
      "455/455 [==============================] - 0s 18us/sample - loss: 9.4695 - accuracy: 0.3824 - val_loss: 10.1662 - val_accuracy: 0.3333\n",
      "Epoch 78/200\n",
      "455/455 [==============================] - 0s 13us/sample - loss: 9.4695 - accuracy: 0.3824 - val_loss: 10.1662 - val_accuracy: 0.3333\n",
      "Epoch 79/200\n",
      "455/455 [==============================] - 0s 15us/sample - loss: 9.4695 - accuracy: 0.3824 - val_loss: 10.1662 - val_accuracy: 0.3333\n",
      "Epoch 80/200\n",
      "455/455 [==============================] - 0s 13us/sample - loss: 9.4695 - accuracy: 0.3824 - val_loss: 10.1662 - val_accuracy: 0.3333\n",
      "Epoch 81/200\n",
      "455/455 [==============================] - 0s 15us/sample - loss: 9.4695 - accuracy: 0.3824 - val_loss: 10.1662 - val_accuracy: 0.3333\n",
      "Epoch 82/200\n",
      "455/455 [==============================] - 0s 13us/sample - loss: 9.4695 - accuracy: 0.3824 - val_loss: 10.1662 - val_accuracy: 0.3333\n",
      "Epoch 83/200\n",
      "455/455 [==============================] - 0s 15us/sample - loss: 9.4695 - accuracy: 0.3824 - val_loss: 10.1662 - val_accuracy: 0.3333\n",
      "Epoch 84/200\n",
      "455/455 [==============================] - 0s 15us/sample - loss: 9.4695 - accuracy: 0.3824 - val_loss: 10.1662 - val_accuracy: 0.3333\n",
      "Epoch 85/200\n",
      "455/455 [==============================] - 0s 13us/sample - loss: 9.4695 - accuracy: 0.3824 - val_loss: 10.1662 - val_accuracy: 0.3333\n",
      "Epoch 86/200\n",
      "455/455 [==============================] - 0s 13us/sample - loss: 9.4695 - accuracy: 0.3824 - val_loss: 10.1662 - val_accuracy: 0.3333\n",
      "Epoch 87/200\n",
      "455/455 [==============================] - 0s 13us/sample - loss: 9.4695 - accuracy: 0.3824 - val_loss: 10.1662 - val_accuracy: 0.3333\n",
      "Epoch 88/200\n",
      "455/455 [==============================] - 0s 13us/sample - loss: 9.4695 - accuracy: 0.3824 - val_loss: 10.1662 - val_accuracy: 0.3333\n",
      "Epoch 89/200\n",
      "455/455 [==============================] - 0s 11us/sample - loss: 9.4695 - accuracy: 0.3824 - val_loss: 10.1662 - val_accuracy: 0.3333\n",
      "Epoch 90/200\n",
      "455/455 [==============================] - 0s 15us/sample - loss: 9.4695 - accuracy: 0.3824 - val_loss: 10.1662 - val_accuracy: 0.3333\n",
      "Epoch 91/200\n",
      "455/455 [==============================] - 0s 11us/sample - loss: 9.4695 - accuracy: 0.3824 - val_loss: 10.1662 - val_accuracy: 0.3333\n",
      "Epoch 92/200\n",
      "455/455 [==============================] - 0s 13us/sample - loss: 9.4695 - accuracy: 0.3824 - val_loss: 10.1662 - val_accuracy: 0.3333\n",
      "Epoch 93/200\n",
      "455/455 [==============================] - 0s 13us/sample - loss: 9.4695 - accuracy: 0.3824 - val_loss: 10.1662 - val_accuracy: 0.3333\n",
      "Epoch 94/200\n",
      "455/455 [==============================] - 0s 13us/sample - loss: 9.4695 - accuracy: 0.3824 - val_loss: 10.1662 - val_accuracy: 0.3333\n",
      "Epoch 95/200\n",
      "455/455 [==============================] - 0s 11us/sample - loss: 9.4695 - accuracy: 0.3824 - val_loss: 10.1662 - val_accuracy: 0.3333\n",
      "Epoch 96/200\n",
      "455/455 [==============================] - 0s 11us/sample - loss: 9.4695 - accuracy: 0.3824 - val_loss: 10.1662 - val_accuracy: 0.3333\n",
      "Epoch 97/200\n",
      "455/455 [==============================] - 0s 13us/sample - loss: 9.4695 - accuracy: 0.3824 - val_loss: 10.1662 - val_accuracy: 0.3333\n",
      "Epoch 98/200\n",
      "455/455 [==============================] - 0s 13us/sample - loss: 9.4695 - accuracy: 0.3824 - val_loss: 10.1662 - val_accuracy: 0.3333\n",
      "Epoch 99/200\n",
      "455/455 [==============================] - 0s 13us/sample - loss: 9.4695 - accuracy: 0.3824 - val_loss: 10.1662 - val_accuracy: 0.3333\n",
      "Epoch 100/200\n",
      "455/455 [==============================] - 0s 13us/sample - loss: 9.4695 - accuracy: 0.3824 - val_loss: 10.1662 - val_accuracy: 0.3333\n",
      "Epoch 101/200\n",
      "455/455 [==============================] - 0s 13us/sample - loss: 9.4695 - accuracy: 0.3824 - val_loss: 10.1662 - val_accuracy: 0.3333\n",
      "Epoch 102/200\n",
      "455/455 [==============================] - 0s 13us/sample - loss: 9.4695 - accuracy: 0.3824 - val_loss: 10.1662 - val_accuracy: 0.3333\n",
      "Epoch 103/200\n",
      "455/455 [==============================] - 0s 13us/sample - loss: 9.4695 - accuracy: 0.3824 - val_loss: 10.1662 - val_accuracy: 0.3333\n",
      "Epoch 104/200\n",
      "455/455 [==============================] - 0s 13us/sample - loss: 9.4695 - accuracy: 0.3824 - val_loss: 10.1662 - val_accuracy: 0.3333\n",
      "Epoch 105/200\n",
      "455/455 [==============================] - 0s 11us/sample - loss: 9.4695 - accuracy: 0.3824 - val_loss: 10.1662 - val_accuracy: 0.3333\n",
      "Epoch 106/200\n",
      "455/455 [==============================] - 0s 13us/sample - loss: 9.4695 - accuracy: 0.3824 - val_loss: 10.1662 - val_accuracy: 0.3333\n",
      "Epoch 107/200\n",
      "455/455 [==============================] - 0s 11us/sample - loss: 9.4695 - accuracy: 0.3824 - val_loss: 10.1662 - val_accuracy: 0.3333\n",
      "Epoch 108/200\n",
      "455/455 [==============================] - 0s 11us/sample - loss: 9.4695 - accuracy: 0.3824 - val_loss: 10.1662 - val_accuracy: 0.3333\n",
      "Epoch 109/200\n",
      "455/455 [==============================] - 0s 13us/sample - loss: 9.4695 - accuracy: 0.3824 - val_loss: 10.1662 - val_accuracy: 0.3333\n",
      "Epoch 110/200\n",
      "455/455 [==============================] - 0s 13us/sample - loss: 9.4695 - accuracy: 0.3824 - val_loss: 10.1662 - val_accuracy: 0.3333\n",
      "Epoch 111/200\n"
     ]
    },
    {
     "name": "stdout",
     "output_type": "stream",
     "text": [
      "455/455 [==============================] - 0s 11us/sample - loss: 9.4695 - accuracy: 0.3824 - val_loss: 10.1662 - val_accuracy: 0.3333\n",
      "Epoch 112/200\n",
      "455/455 [==============================] - 0s 13us/sample - loss: 9.4695 - accuracy: 0.3824 - val_loss: 10.1662 - val_accuracy: 0.3333\n",
      "Epoch 113/200\n",
      "455/455 [==============================] - 0s 13us/sample - loss: 9.4695 - accuracy: 0.3824 - val_loss: 10.1662 - val_accuracy: 0.3333\n",
      "Epoch 114/200\n",
      "455/455 [==============================] - 0s 15us/sample - loss: 9.4695 - accuracy: 0.3824 - val_loss: 10.1662 - val_accuracy: 0.3333\n",
      "Epoch 115/200\n",
      "455/455 [==============================] - 0s 15us/sample - loss: 9.4695 - accuracy: 0.3824 - val_loss: 10.1662 - val_accuracy: 0.3333\n",
      "Epoch 116/200\n",
      "455/455 [==============================] - 0s 13us/sample - loss: 9.4695 - accuracy: 0.3824 - val_loss: 10.1662 - val_accuracy: 0.3333\n",
      "Epoch 117/200\n",
      "455/455 [==============================] - 0s 15us/sample - loss: 9.4695 - accuracy: 0.3824 - val_loss: 10.1662 - val_accuracy: 0.3333\n",
      "Epoch 118/200\n",
      "455/455 [==============================] - 0s 15us/sample - loss: 9.4695 - accuracy: 0.3824 - val_loss: 10.1662 - val_accuracy: 0.3333\n",
      "Epoch 119/200\n",
      "455/455 [==============================] - 0s 15us/sample - loss: 9.4695 - accuracy: 0.3824 - val_loss: 10.1662 - val_accuracy: 0.3333\n",
      "Epoch 120/200\n",
      "455/455 [==============================] - 0s 20us/sample - loss: 9.4695 - accuracy: 0.3824 - val_loss: 10.1662 - val_accuracy: 0.3333\n",
      "Epoch 121/200\n",
      "455/455 [==============================] - 0s 18us/sample - loss: 9.4695 - accuracy: 0.3824 - val_loss: 10.1662 - val_accuracy: 0.3333\n",
      "Epoch 122/200\n",
      "455/455 [==============================] - 0s 13us/sample - loss: 9.4695 - accuracy: 0.3824 - val_loss: 10.1662 - val_accuracy: 0.3333\n",
      "Epoch 123/200\n",
      "455/455 [==============================] - 0s 15us/sample - loss: 9.4695 - accuracy: 0.3824 - val_loss: 10.1662 - val_accuracy: 0.3333\n",
      "Epoch 124/200\n",
      "455/455 [==============================] - 0s 15us/sample - loss: 9.4695 - accuracy: 0.3824 - val_loss: 10.1662 - val_accuracy: 0.3333\n",
      "Epoch 125/200\n",
      "455/455 [==============================] - 0s 13us/sample - loss: 9.4695 - accuracy: 0.3824 - val_loss: 10.1662 - val_accuracy: 0.3333\n",
      "Epoch 126/200\n",
      "455/455 [==============================] - 0s 13us/sample - loss: 9.4695 - accuracy: 0.3824 - val_loss: 10.1662 - val_accuracy: 0.3333\n",
      "Epoch 127/200\n",
      "455/455 [==============================] - 0s 13us/sample - loss: 9.4695 - accuracy: 0.3824 - val_loss: 10.1662 - val_accuracy: 0.3333\n",
      "Epoch 128/200\n",
      "455/455 [==============================] - 0s 13us/sample - loss: 9.4695 - accuracy: 0.3824 - val_loss: 10.1662 - val_accuracy: 0.3333\n",
      "Epoch 129/200\n",
      "455/455 [==============================] - 0s 11us/sample - loss: 9.4695 - accuracy: 0.3824 - val_loss: 10.1662 - val_accuracy: 0.3333\n",
      "Epoch 130/200\n",
      "455/455 [==============================] - 0s 15us/sample - loss: 9.4695 - accuracy: 0.3824 - val_loss: 10.1662 - val_accuracy: 0.3333\n",
      "Epoch 131/200\n",
      "455/455 [==============================] - 0s 13us/sample - loss: 9.4695 - accuracy: 0.3824 - val_loss: 10.1662 - val_accuracy: 0.3333\n",
      "Epoch 132/200\n",
      "455/455 [==============================] - 0s 13us/sample - loss: 9.4695 - accuracy: 0.3824 - val_loss: 10.1662 - val_accuracy: 0.3333\n",
      "Epoch 133/200\n",
      "455/455 [==============================] - 0s 13us/sample - loss: 9.4695 - accuracy: 0.3824 - val_loss: 10.1662 - val_accuracy: 0.3333\n",
      "Epoch 134/200\n",
      "455/455 [==============================] - 0s 13us/sample - loss: 9.4695 - accuracy: 0.3824 - val_loss: 10.1662 - val_accuracy: 0.3333\n",
      "Epoch 135/200\n",
      "455/455 [==============================] - 0s 13us/sample - loss: 9.4695 - accuracy: 0.3824 - val_loss: 10.1662 - val_accuracy: 0.3333\n",
      "Epoch 136/200\n",
      "455/455 [==============================] - 0s 13us/sample - loss: 9.4695 - accuracy: 0.3824 - val_loss: 10.1662 - val_accuracy: 0.3333\n",
      "Epoch 137/200\n",
      "455/455 [==============================] - 0s 11us/sample - loss: 9.4695 - accuracy: 0.3824 - val_loss: 10.1662 - val_accuracy: 0.3333\n",
      "Epoch 138/200\n",
      "455/455 [==============================] - 0s 13us/sample - loss: 9.4695 - accuracy: 0.3824 - val_loss: 10.1662 - val_accuracy: 0.3333\n",
      "Epoch 139/200\n",
      "455/455 [==============================] - 0s 11us/sample - loss: 9.4695 - accuracy: 0.3824 - val_loss: 10.1662 - val_accuracy: 0.3333\n",
      "Epoch 140/200\n",
      "455/455 [==============================] - 0s 11us/sample - loss: 9.4695 - accuracy: 0.3824 - val_loss: 10.1662 - val_accuracy: 0.3333\n",
      "Epoch 141/200\n",
      "455/455 [==============================] - 0s 13us/sample - loss: 9.4695 - accuracy: 0.3824 - val_loss: 10.1662 - val_accuracy: 0.3333\n",
      "Epoch 142/200\n",
      "455/455 [==============================] - 0s 13us/sample - loss: 9.4695 - accuracy: 0.3824 - val_loss: 10.1662 - val_accuracy: 0.3333\n",
      "Epoch 143/200\n",
      "455/455 [==============================] - 0s 13us/sample - loss: 9.4695 - accuracy: 0.3824 - val_loss: 10.1662 - val_accuracy: 0.3333\n",
      "Epoch 144/200\n",
      "455/455 [==============================] - 0s 11us/sample - loss: 9.4695 - accuracy: 0.3824 - val_loss: 10.1662 - val_accuracy: 0.3333\n",
      "Epoch 145/200\n",
      "455/455 [==============================] - 0s 13us/sample - loss: 9.4695 - accuracy: 0.3824 - val_loss: 10.1662 - val_accuracy: 0.3333\n",
      "Epoch 146/200\n",
      "455/455 [==============================] - 0s 13us/sample - loss: 9.4695 - accuracy: 0.3824 - val_loss: 10.1662 - val_accuracy: 0.3333\n",
      "Epoch 147/200\n",
      "455/455 [==============================] - 0s 13us/sample - loss: 9.4695 - accuracy: 0.3824 - val_loss: 10.1662 - val_accuracy: 0.3333\n",
      "Epoch 148/200\n",
      "455/455 [==============================] - 0s 11us/sample - loss: 9.4695 - accuracy: 0.3824 - val_loss: 10.1662 - val_accuracy: 0.3333\n",
      "Epoch 149/200\n",
      "455/455 [==============================] - 0s 13us/sample - loss: 9.4695 - accuracy: 0.3824 - val_loss: 10.1662 - val_accuracy: 0.3333\n",
      "Epoch 150/200\n",
      "455/455 [==============================] - 0s 13us/sample - loss: 9.4695 - accuracy: 0.3824 - val_loss: 10.1662 - val_accuracy: 0.3333\n",
      "Epoch 151/200\n",
      "455/455 [==============================] - 0s 13us/sample - loss: 9.4695 - accuracy: 0.3824 - val_loss: 10.1662 - val_accuracy: 0.3333\n",
      "Epoch 152/200\n",
      "455/455 [==============================] - 0s 13us/sample - loss: 9.4695 - accuracy: 0.3824 - val_loss: 10.1662 - val_accuracy: 0.3333\n",
      "Epoch 153/200\n",
      "455/455 [==============================] - 0s 13us/sample - loss: 9.4695 - accuracy: 0.3824 - val_loss: 10.1662 - val_accuracy: 0.3333\n",
      "Epoch 154/200\n",
      "455/455 [==============================] - 0s 13us/sample - loss: 9.4695 - accuracy: 0.3824 - val_loss: 10.1662 - val_accuracy: 0.3333\n",
      "Epoch 155/200\n",
      "455/455 [==============================] - 0s 13us/sample - loss: 9.4695 - accuracy: 0.3824 - val_loss: 10.1662 - val_accuracy: 0.3333\n",
      "Epoch 156/200\n",
      "455/455 [==============================] - 0s 13us/sample - loss: 9.4695 - accuracy: 0.3824 - val_loss: 10.1662 - val_accuracy: 0.3333\n",
      "Epoch 157/200\n",
      "455/455 [==============================] - 0s 15us/sample - loss: 9.4695 - accuracy: 0.3824 - val_loss: 10.1662 - val_accuracy: 0.3333\n",
      "Epoch 158/200\n",
      "455/455 [==============================] - 0s 13us/sample - loss: 9.4695 - accuracy: 0.3824 - val_loss: 10.1662 - val_accuracy: 0.3333\n",
      "Epoch 159/200\n",
      "455/455 [==============================] - 0s 15us/sample - loss: 9.4695 - accuracy: 0.3824 - val_loss: 10.1662 - val_accuracy: 0.3333\n",
      "Epoch 160/200\n",
      "455/455 [==============================] - 0s 13us/sample - loss: 9.4695 - accuracy: 0.3824 - val_loss: 10.1662 - val_accuracy: 0.3333\n",
      "Epoch 161/200\n",
      "455/455 [==============================] - 0s 15us/sample - loss: 9.4695 - accuracy: 0.3824 - val_loss: 10.1662 - val_accuracy: 0.3333\n",
      "Epoch 162/200\n",
      "455/455 [==============================] - 0s 18us/sample - loss: 9.4695 - accuracy: 0.3824 - val_loss: 10.1662 - val_accuracy: 0.3333\n",
      "Epoch 163/200\n",
      "455/455 [==============================] - 0s 13us/sample - loss: 9.4695 - accuracy: 0.3824 - val_loss: 10.1662 - val_accuracy: 0.3333\n",
      "Epoch 164/200\n",
      "455/455 [==============================] - 0s 24us/sample - loss: 9.4695 - accuracy: 0.3824 - val_loss: 10.1662 - val_accuracy: 0.3333\n",
      "Epoch 165/200\n",
      "455/455 [==============================] - 0s 15us/sample - loss: 9.4695 - accuracy: 0.3824 - val_loss: 10.1662 - val_accuracy: 0.3333\n",
      "Epoch 166/200\n"
     ]
    },
    {
     "name": "stdout",
     "output_type": "stream",
     "text": [
      "455/455 [==============================] - 0s 13us/sample - loss: 9.4695 - accuracy: 0.3824 - val_loss: 10.1662 - val_accuracy: 0.3333\n",
      "Epoch 167/200\n",
      "455/455 [==============================] - 0s 18us/sample - loss: 9.4695 - accuracy: 0.3824 - val_loss: 10.1662 - val_accuracy: 0.3333\n",
      "Epoch 168/200\n",
      "455/455 [==============================] - 0s 13us/sample - loss: 9.4695 - accuracy: 0.3824 - val_loss: 10.1662 - val_accuracy: 0.3333\n",
      "Epoch 169/200\n",
      "455/455 [==============================] - 0s 13us/sample - loss: 9.4695 - accuracy: 0.3824 - val_loss: 10.1662 - val_accuracy: 0.3333\n",
      "Epoch 170/200\n",
      "455/455 [==============================] - 0s 15us/sample - loss: 9.4695 - accuracy: 0.3824 - val_loss: 10.1662 - val_accuracy: 0.3333\n",
      "Epoch 171/200\n",
      "455/455 [==============================] - 0s 15us/sample - loss: 9.4695 - accuracy: 0.3824 - val_loss: 10.1662 - val_accuracy: 0.3333\n",
      "Epoch 172/200\n",
      "455/455 [==============================] - 0s 20us/sample - loss: 9.4695 - accuracy: 0.3824 - val_loss: 10.1662 - val_accuracy: 0.3333\n",
      "Epoch 173/200\n",
      "455/455 [==============================] - 0s 20us/sample - loss: 9.4695 - accuracy: 0.3824 - val_loss: 10.1662 - val_accuracy: 0.3333\n",
      "Epoch 174/200\n",
      "455/455 [==============================] - 0s 18us/sample - loss: 9.4695 - accuracy: 0.3824 - val_loss: 10.1662 - val_accuracy: 0.3333\n",
      "Epoch 175/200\n",
      "455/455 [==============================] - 0s 15us/sample - loss: 9.4695 - accuracy: 0.3824 - val_loss: 10.1662 - val_accuracy: 0.3333\n",
      "Epoch 176/200\n",
      "455/455 [==============================] - 0s 15us/sample - loss: 9.4695 - accuracy: 0.3824 - val_loss: 10.1662 - val_accuracy: 0.3333\n",
      "Epoch 177/200\n",
      "455/455 [==============================] - 0s 15us/sample - loss: 9.4695 - accuracy: 0.3824 - val_loss: 10.1662 - val_accuracy: 0.3333\n",
      "Epoch 178/200\n",
      "455/455 [==============================] - 0s 13us/sample - loss: 9.4695 - accuracy: 0.3824 - val_loss: 10.1662 - val_accuracy: 0.3333\n",
      "Epoch 179/200\n",
      "455/455 [==============================] - 0s 13us/sample - loss: 9.4695 - accuracy: 0.3824 - val_loss: 10.1662 - val_accuracy: 0.3333\n",
      "Epoch 180/200\n",
      "455/455 [==============================] - 0s 11us/sample - loss: 9.4695 - accuracy: 0.3824 - val_loss: 10.1662 - val_accuracy: 0.3333\n",
      "Epoch 181/200\n",
      "455/455 [==============================] - 0s 13us/sample - loss: 9.4695 - accuracy: 0.3824 - val_loss: 10.1662 - val_accuracy: 0.3333\n",
      "Epoch 182/200\n",
      "455/455 [==============================] - 0s 13us/sample - loss: 9.4695 - accuracy: 0.3824 - val_loss: 10.1662 - val_accuracy: 0.3333\n",
      "Epoch 183/200\n",
      "455/455 [==============================] - 0s 13us/sample - loss: 9.4695 - accuracy: 0.3824 - val_loss: 10.1662 - val_accuracy: 0.3333\n",
      "Epoch 184/200\n",
      "455/455 [==============================] - 0s 13us/sample - loss: 9.4695 - accuracy: 0.3824 - val_loss: 10.1662 - val_accuracy: 0.3333\n",
      "Epoch 185/200\n",
      "455/455 [==============================] - 0s 15us/sample - loss: 9.4695 - accuracy: 0.3824 - val_loss: 10.1662 - val_accuracy: 0.3333\n",
      "Epoch 186/200\n",
      "455/455 [==============================] - 0s 13us/sample - loss: 9.4695 - accuracy: 0.3824 - val_loss: 10.1662 - val_accuracy: 0.3333\n",
      "Epoch 187/200\n",
      "455/455 [==============================] - 0s 18us/sample - loss: 9.4695 - accuracy: 0.3824 - val_loss: 10.1662 - val_accuracy: 0.3333\n",
      "Epoch 188/200\n",
      "455/455 [==============================] - 0s 15us/sample - loss: 9.4695 - accuracy: 0.3824 - val_loss: 10.1662 - val_accuracy: 0.3333\n",
      "Epoch 189/200\n",
      "455/455 [==============================] - 0s 15us/sample - loss: 9.4695 - accuracy: 0.3824 - val_loss: 10.1662 - val_accuracy: 0.3333\n",
      "Epoch 190/200\n",
      "455/455 [==============================] - 0s 20us/sample - loss: 9.4695 - accuracy: 0.3824 - val_loss: 10.1662 - val_accuracy: 0.3333\n",
      "Epoch 191/200\n",
      "455/455 [==============================] - 0s 15us/sample - loss: 9.4695 - accuracy: 0.3824 - val_loss: 10.1662 - val_accuracy: 0.3333\n",
      "Epoch 192/200\n",
      "455/455 [==============================] - 0s 13us/sample - loss: 9.4695 - accuracy: 0.3824 - val_loss: 10.1662 - val_accuracy: 0.3333\n",
      "Epoch 193/200\n",
      "455/455 [==============================] - 0s 18us/sample - loss: 9.4695 - accuracy: 0.3824 - val_loss: 10.1662 - val_accuracy: 0.3333\n",
      "Epoch 194/200\n",
      "455/455 [==============================] - 0s 13us/sample - loss: 9.4695 - accuracy: 0.3824 - val_loss: 10.1662 - val_accuracy: 0.3333\n",
      "Epoch 195/200\n",
      "455/455 [==============================] - 0s 13us/sample - loss: 9.4695 - accuracy: 0.3824 - val_loss: 10.1662 - val_accuracy: 0.3333\n",
      "Epoch 196/200\n",
      "455/455 [==============================] - 0s 15us/sample - loss: 9.4695 - accuracy: 0.3824 - val_loss: 10.1662 - val_accuracy: 0.3333\n",
      "Epoch 197/200\n",
      "455/455 [==============================] - 0s 13us/sample - loss: 9.4695 - accuracy: 0.3824 - val_loss: 10.1662 - val_accuracy: 0.3333\n",
      "Epoch 198/200\n",
      "455/455 [==============================] - 0s 15us/sample - loss: 9.4695 - accuracy: 0.3824 - val_loss: 10.1662 - val_accuracy: 0.3333\n",
      "Epoch 199/200\n",
      "455/455 [==============================] - 0s 11us/sample - loss: 9.4695 - accuracy: 0.3824 - val_loss: 10.1662 - val_accuracy: 0.3333\n",
      "Epoch 200/200\n",
      "455/455 [==============================] - 0s 13us/sample - loss: 9.4695 - accuracy: 0.3824 - val_loss: 10.1662 - val_accuracy: 0.3333\n"
     ]
    },
    {
     "data": {
      "application/javascript": [
       "\n",
       "            setTimeout(function() {\n",
       "                var nbb_cell_id = 17;\n",
       "                var nbb_unformatted_code = \"# Answer below:\\nmodel = build_model(X.shape[1], output_dim=y.shape[1], layer_nodes=[128,64,32,32], activation_function='relu', output_function='sigmoid')\\nmodel.compile(loss='binary_crossentropy',optimizer=rms, metrics=['accuracy'] )\\nhistory = model.fit(X_train, y_train, validation_data=(X_test, y_test), batch_size=100, epochs=200)\";\n",
       "                var nbb_formatted_code = \"# Answer below:\\nmodel = build_model(\\n    X.shape[1],\\n    output_dim=y.shape[1],\\n    layer_nodes=[128, 64, 32, 32],\\n    activation_function=\\\"relu\\\",\\n    output_function=\\\"sigmoid\\\",\\n)\\nmodel.compile(loss=\\\"binary_crossentropy\\\", optimizer=rms, metrics=[\\\"accuracy\\\"])\\nhistory = model.fit(\\n    X_train, y_train, validation_data=(X_test, y_test), batch_size=100, epochs=200\\n)\";\n",
       "                var nbb_cells = Jupyter.notebook.get_cells();\n",
       "                for (var i = 0; i < nbb_cells.length; ++i) {\n",
       "                    if (nbb_cells[i].input_prompt_number == nbb_cell_id) {\n",
       "                        if (nbb_cells[i].get_text() == nbb_unformatted_code) {\n",
       "                             nbb_cells[i].set_text(nbb_formatted_code);\n",
       "                        }\n",
       "                        break;\n",
       "                    }\n",
       "                }\n",
       "            }, 500);\n",
       "            "
      ],
      "text/plain": [
       "<IPython.core.display.Javascript object>"
      ]
     },
     "metadata": {},
     "output_type": "display_data"
    }
   ],
   "source": [
    "# Answer below:\n",
    "model = build_model(X.shape[1], output_dim=y.shape[1], layer_nodes=[128,64,32,32], activation_function='relu', output_function='sigmoid')\n",
    "model.compile(loss='binary_crossentropy',optimizer=rms, metrics=['accuracy'] )\n",
    "history = model.fit(X_train, y_train, validation_data=(X_test, y_test), batch_size=100, epochs=200)\n"
   ]
  },
  {
   "cell_type": "code",
   "execution_count": 18,
   "metadata": {},
   "outputs": [
    {
     "data": {
      "text/plain": [
       "<AxesSubplot:>"
      ]
     },
     "execution_count": 18,
     "metadata": {},
     "output_type": "execute_result"
    },
    {
     "data": {
      "image/png": "[encoded data removed]",
      "text/plain": [
       "<Figure size 432x288 with 1 Axes>"
      ]
     },
     "metadata": {
      "needs_background": "light"
     },
     "output_type": "display_data"
    },
    {
     "data": {
      "application/javascript": [
       "\n",
       "            setTimeout(function() {\n",
       "                var nbb_cell_id = 18;\n",
       "                var nbb_unformatted_code = \"pd.DataFrame(history.history)[[\\\"accuracy\\\", \\\"val_accuracy\\\"]].plot()\";\n",
       "                var nbb_formatted_code = \"pd.DataFrame(history.history)[[\\\"accuracy\\\", \\\"val_accuracy\\\"]].plot()\";\n",
       "                var nbb_cells = Jupyter.notebook.get_cells();\n",
       "                for (var i = 0; i < nbb_cells.length; ++i) {\n",
       "                    if (nbb_cells[i].input_prompt_number == nbb_cell_id) {\n",
       "                        if (nbb_cells[i].get_text() == nbb_unformatted_code) {\n",
       "                             nbb_cells[i].set_text(nbb_formatted_code);\n",
       "                        }\n",
       "                        break;\n",
       "                    }\n",
       "                }\n",
       "            }, 500);\n",
       "            "
      ],
      "text/plain": [
       "<IPython.core.display.Javascript object>"
      ]
     },
     "metadata": {},
     "output_type": "display_data"
    }
   ],
   "source": [
    "pd.DataFrame(history.history)[[\"accuracy\", \"val_accuracy\"]].plot()"
   ]
  },
  {
   "cell_type": "markdown",
   "metadata": {
    "colab_type": "text",
    "id": "E3KhWb3igGv1"
   },
   "source": [
    "Define the Adam optimizer with learning rate 0.01"
   ]
  },
  {
   "cell_type": "code",
   "execution_count": 19,
   "metadata": {
    "colab": {},
    "colab_type": "code",
    "id": "ewtmWJI3gGv1"
   },
   "outputs": [
    {
     "data": {
      "application/javascript": [
       "\n",
       "            setTimeout(function() {\n",
       "                var nbb_cell_id = 19;\n",
       "                var nbb_unformatted_code = \"# Answer below:\\nadam = Adam(learning_rate=0.01)\";\n",
       "                var nbb_formatted_code = \"# Answer below:\\nadam = Adam(learning_rate=0.01)\";\n",
       "                var nbb_cells = Jupyter.notebook.get_cells();\n",
       "                for (var i = 0; i < nbb_cells.length; ++i) {\n",
       "                    if (nbb_cells[i].input_prompt_number == nbb_cell_id) {\n",
       "                        if (nbb_cells[i].get_text() == nbb_unformatted_code) {\n",
       "                             nbb_cells[i].set_text(nbb_formatted_code);\n",
       "                        }\n",
       "                        break;\n",
       "                    }\n",
       "                }\n",
       "            }, 500);\n",
       "            "
      ],
      "text/plain": [
       "<IPython.core.display.Javascript object>"
      ]
     },
     "metadata": {},
     "output_type": "display_data"
    }
   ],
   "source": [
    "# Answer below:\n",
    "adam = Adam(learning_rate=0.01)\n"
   ]
  },
  {
   "cell_type": "markdown",
   "metadata": {
    "colab_type": "text",
    "id": "lnxqbb7CgGv3"
   },
   "source": [
    "Compile and fit the model using the optimizer defined above. How does the peformance differ with this optimizer?"
   ]
  },
  {
   "cell_type": "code",
   "execution_count": 20,
   "metadata": {
    "colab": {},
    "colab_type": "code",
    "id": "rG9-9Nk4gGv3"
   },
   "outputs": [
    {
     "name": "stdout",
     "output_type": "stream",
     "text": [
      "Train on 455 samples, validate on 114 samples\n"
     ]
    },
    {
     "ename": "KeyboardInterrupt",
     "evalue": "",
     "output_type": "error",
     "traceback": [
      "\u001b[1;31m---------------------------------------------------------------------------\u001b[0m",
      "\u001b[1;31mKeyboardInterrupt\u001b[0m                         Traceback (most recent call last)",
      "\u001b[1;32m<ipython-input-20-55f1b82830b4>\u001b[0m in \u001b[0;36m<module>\u001b[1;34m\u001b[0m\n\u001b[0;32m      9\u001b[0m \u001b[1;33m\u001b[0m\u001b[0m\n\u001b[0;32m     10\u001b[0m \u001b[0mmodel\u001b[0m\u001b[1;33m.\u001b[0m\u001b[0mcompile\u001b[0m\u001b[1;33m(\u001b[0m\u001b[0mloss\u001b[0m\u001b[1;33m=\u001b[0m\u001b[1;34m\"binary_crossentropy\"\u001b[0m\u001b[1;33m,\u001b[0m \u001b[0moptimizer\u001b[0m\u001b[1;33m=\u001b[0m\u001b[0madam\u001b[0m\u001b[1;33m,\u001b[0m \u001b[0mmetrics\u001b[0m\u001b[1;33m=\u001b[0m\u001b[1;33m[\u001b[0m\u001b[1;34m\"accuracy\"\u001b[0m\u001b[1;33m]\u001b[0m\u001b[1;33m)\u001b[0m\u001b[1;33m\u001b[0m\u001b[1;33m\u001b[0m\u001b[0m\n\u001b[1;32m---> 11\u001b[1;33m history = model.fit(\n\u001b[0m\u001b[0;32m     12\u001b[0m     \u001b[0mX_train\u001b[0m\u001b[1;33m,\u001b[0m \u001b[0my_train\u001b[0m\u001b[1;33m,\u001b[0m \u001b[0mvalidation_data\u001b[0m\u001b[1;33m=\u001b[0m\u001b[1;33m(\u001b[0m\u001b[0mX_test\u001b[0m\u001b[1;33m,\u001b[0m \u001b[0my_test\u001b[0m\u001b[1;33m)\u001b[0m\u001b[1;33m,\u001b[0m \u001b[0mbatch_size\u001b[0m\u001b[1;33m=\u001b[0m\u001b[1;36m100\u001b[0m\u001b[1;33m,\u001b[0m \u001b[0mepochs\u001b[0m\u001b[1;33m=\u001b[0m\u001b[1;36m200\u001b[0m\u001b[1;33m\u001b[0m\u001b[1;33m\u001b[0m\u001b[0m\n\u001b[0;32m     13\u001b[0m )\n",
      "\u001b[1;32m~\\AppData\\Roaming\\Python\\Python38\\site-packages\\tensorflow\\python\\keras\\engine\\training_v1.py\u001b[0m in \u001b[0;36mfit\u001b[1;34m(self, x, y, batch_size, epochs, verbose, callbacks, validation_split, validation_data, shuffle, class_weight, sample_weight, initial_epoch, steps_per_epoch, validation_steps, validation_freq, max_queue_size, workers, use_multiprocessing, **kwargs)\u001b[0m\n\u001b[0;32m    788\u001b[0m \u001b[1;33m\u001b[0m\u001b[0m\n\u001b[0;32m    789\u001b[0m     \u001b[0mfunc\u001b[0m \u001b[1;33m=\u001b[0m \u001b[0mself\u001b[0m\u001b[1;33m.\u001b[0m\u001b[0m_select_training_loop\u001b[0m\u001b[1;33m(\u001b[0m\u001b[0mx\u001b[0m\u001b[1;33m)\u001b[0m\u001b[1;33m\u001b[0m\u001b[1;33m\u001b[0m\u001b[0m\n\u001b[1;32m--> 790\u001b[1;33m     return func.fit(\n\u001b[0m\u001b[0;32m    791\u001b[0m         \u001b[0mself\u001b[0m\u001b[1;33m,\u001b[0m\u001b[1;33m\u001b[0m\u001b[1;33m\u001b[0m\u001b[0m\n\u001b[0;32m    792\u001b[0m         \u001b[0mx\u001b[0m\u001b[1;33m=\u001b[0m\u001b[0mx\u001b[0m\u001b[1;33m,\u001b[0m\u001b[1;33m\u001b[0m\u001b[1;33m\u001b[0m\u001b[0m\n",
      "\u001b[1;32m~\\AppData\\Roaming\\Python\\Python38\\site-packages\\tensorflow\\python\\keras\\engine\\training_arrays.py\u001b[0m in \u001b[0;36mfit\u001b[1;34m(self, model, x, y, batch_size, epochs, verbose, callbacks, validation_split, validation_data, shuffle, class_weight, sample_weight, initial_epoch, steps_per_epoch, validation_steps, validation_freq, **kwargs)\u001b[0m\n\u001b[0;32m    647\u001b[0m       \u001b[0mval_x\u001b[0m\u001b[1;33m,\u001b[0m \u001b[0mval_y\u001b[0m\u001b[1;33m,\u001b[0m \u001b[0mval_sample_weights\u001b[0m \u001b[1;33m=\u001b[0m \u001b[1;32mNone\u001b[0m\u001b[1;33m,\u001b[0m \u001b[1;32mNone\u001b[0m\u001b[1;33m,\u001b[0m \u001b[1;32mNone\u001b[0m\u001b[1;33m\u001b[0m\u001b[1;33m\u001b[0m\u001b[0m\n\u001b[0;32m    648\u001b[0m \u001b[1;33m\u001b[0m\u001b[0m\n\u001b[1;32m--> 649\u001b[1;33m     return fit_loop(\n\u001b[0m\u001b[0;32m    650\u001b[0m         \u001b[0mmodel\u001b[0m\u001b[1;33m,\u001b[0m\u001b[1;33m\u001b[0m\u001b[1;33m\u001b[0m\u001b[0m\n\u001b[0;32m    651\u001b[0m         \u001b[0minputs\u001b[0m\u001b[1;33m=\u001b[0m\u001b[0mx\u001b[0m\u001b[1;33m,\u001b[0m\u001b[1;33m\u001b[0m\u001b[1;33m\u001b[0m\u001b[0m\n",
      "\u001b[1;32m~\\AppData\\Roaming\\Python\\Python38\\site-packages\\tensorflow\\python\\keras\\engine\\training_arrays.py\u001b[0m in \u001b[0;36mmodel_iteration\u001b[1;34m(model, inputs, targets, sample_weights, batch_size, epochs, verbose, callbacks, val_inputs, val_targets, val_sample_weights, shuffle, initial_epoch, steps_per_epoch, validation_steps, validation_freq, mode, validation_in_fit, prepared_feed_values_from_dataset, steps_name, **kwargs)\u001b[0m\n\u001b[0;32m    268\u001b[0m       \u001b[1;31m# Collecting and resetting metrics has non-zero cost and will needlessly\u001b[0m\u001b[1;33m\u001b[0m\u001b[1;33m\u001b[0m\u001b[1;33m\u001b[0m\u001b[0m\n\u001b[0;32m    269\u001b[0m       \u001b[1;31m# slow down model.predict.\u001b[0m\u001b[1;33m\u001b[0m\u001b[1;33m\u001b[0m\u001b[1;33m\u001b[0m\u001b[0m\n\u001b[1;32m--> 270\u001b[1;33m       \u001b[0mmodel\u001b[0m\u001b[1;33m.\u001b[0m\u001b[0mreset_metrics\u001b[0m\u001b[1;33m(\u001b[0m\u001b[1;33m)\u001b[0m\u001b[1;33m\u001b[0m\u001b[1;33m\u001b[0m\u001b[0m\n\u001b[0m\u001b[0;32m    271\u001b[0m     \u001b[1;32mif\u001b[0m \u001b[0mmode\u001b[0m \u001b[1;33m==\u001b[0m \u001b[0mModeKeys\u001b[0m\u001b[1;33m.\u001b[0m\u001b[0mTRAIN\u001b[0m\u001b[1;33m:\u001b[0m\u001b[1;33m\u001b[0m\u001b[1;33m\u001b[0m\u001b[0m\n\u001b[0;32m    272\u001b[0m       \u001b[0mcallbacks\u001b[0m\u001b[1;33m.\u001b[0m\u001b[0mon_epoch_begin\u001b[0m\u001b[1;33m(\u001b[0m\u001b[0mepoch\u001b[0m\u001b[1;33m,\u001b[0m \u001b[0mepoch_logs\u001b[0m\u001b[1;33m)\u001b[0m\u001b[1;33m\u001b[0m\u001b[1;33m\u001b[0m\u001b[0m\n",
      "\u001b[1;32m~\\AppData\\Roaming\\Python\\Python38\\site-packages\\tensorflow\\python\\keras\\engine\\training_v1.py\u001b[0m in \u001b[0;36mreset_metrics\u001b[1;34m(self)\u001b[0m\n\u001b[0;32m    996\u001b[0m     \u001b[0mmetrics\u001b[0m \u001b[1;33m=\u001b[0m \u001b[0mself\u001b[0m\u001b[1;33m.\u001b[0m\u001b[0m_get_training_eval_metrics\u001b[0m\u001b[1;33m(\u001b[0m\u001b[1;33m)\u001b[0m\u001b[1;33m\u001b[0m\u001b[1;33m\u001b[0m\u001b[0m\n\u001b[0;32m    997\u001b[0m     \u001b[1;32mfor\u001b[0m \u001b[0mm\u001b[0m \u001b[1;32min\u001b[0m \u001b[0mmetrics\u001b[0m\u001b[1;33m:\u001b[0m\u001b[1;33m\u001b[0m\u001b[1;33m\u001b[0m\u001b[0m\n\u001b[1;32m--> 998\u001b[1;33m       \u001b[0mm\u001b[0m\u001b[1;33m.\u001b[0m\u001b[0mreset_states\u001b[0m\u001b[1;33m(\u001b[0m\u001b[1;33m)\u001b[0m\u001b[1;33m\u001b[0m\u001b[1;33m\u001b[0m\u001b[0m\n\u001b[0m\u001b[0;32m    999\u001b[0m \u001b[1;33m\u001b[0m\u001b[0m\n\u001b[0;32m   1000\u001b[0m     \u001b[1;31m# Reset metrics on all the distributed (cloned) models.\u001b[0m\u001b[1;33m\u001b[0m\u001b[1;33m\u001b[0m\u001b[1;33m\u001b[0m\u001b[0m\n",
      "\u001b[1;32m~\\AppData\\Roaming\\Python\\Python38\\site-packages\\tensorflow\\python\\keras\\metrics.py\u001b[0m in \u001b[0;36mreset_states\u001b[1;34m(self)\u001b[0m\n\u001b[0;32m    245\u001b[0m     \u001b[0mwhen\u001b[0m \u001b[0ma\u001b[0m \u001b[0mmetric\u001b[0m \u001b[1;32mis\u001b[0m \u001b[0mevaluated\u001b[0m \u001b[0mduring\u001b[0m \u001b[0mtraining\u001b[0m\u001b[1;33m.\u001b[0m\u001b[1;33m\u001b[0m\u001b[1;33m\u001b[0m\u001b[0m\n\u001b[0;32m    246\u001b[0m     \"\"\"\n\u001b[1;32m--> 247\u001b[1;33m     \u001b[0mK\u001b[0m\u001b[1;33m.\u001b[0m\u001b[0mbatch_set_value\u001b[0m\u001b[1;33m(\u001b[0m\u001b[1;33m[\u001b[0m\u001b[1;33m(\u001b[0m\u001b[0mv\u001b[0m\u001b[1;33m,\u001b[0m \u001b[1;36m0\u001b[0m\u001b[1;33m)\u001b[0m \u001b[1;32mfor\u001b[0m \u001b[0mv\u001b[0m \u001b[1;32min\u001b[0m \u001b[0mself\u001b[0m\u001b[1;33m.\u001b[0m\u001b[0mvariables\u001b[0m\u001b[1;33m]\u001b[0m\u001b[1;33m)\u001b[0m\u001b[1;33m\u001b[0m\u001b[1;33m\u001b[0m\u001b[0m\n\u001b[0m\u001b[0;32m    248\u001b[0m \u001b[1;33m\u001b[0m\u001b[0m\n\u001b[0;32m    249\u001b[0m   \u001b[1;33m@\u001b[0m\u001b[0mabc\u001b[0m\u001b[1;33m.\u001b[0m\u001b[0mabstractmethod\u001b[0m\u001b[1;33m\u001b[0m\u001b[1;33m\u001b[0m\u001b[0m\n",
      "\u001b[1;32m~\\AppData\\Roaming\\Python\\Python38\\site-packages\\tensorflow\\python\\util\\dispatch.py\u001b[0m in \u001b[0;36mwrapper\u001b[1;34m(*args, **kwargs)\u001b[0m\n\u001b[0;32m    199\u001b[0m     \u001b[1;34m\"\"\"Call target, and fall back on dispatchers if there is a TypeError.\"\"\"\u001b[0m\u001b[1;33m\u001b[0m\u001b[1;33m\u001b[0m\u001b[0m\n\u001b[0;32m    200\u001b[0m     \u001b[1;32mtry\u001b[0m\u001b[1;33m:\u001b[0m\u001b[1;33m\u001b[0m\u001b[1;33m\u001b[0m\u001b[0m\n\u001b[1;32m--> 201\u001b[1;33m       \u001b[1;32mreturn\u001b[0m \u001b[0mtarget\u001b[0m\u001b[1;33m(\u001b[0m\u001b[1;33m*\u001b[0m\u001b[0margs\u001b[0m\u001b[1;33m,\u001b[0m \u001b[1;33m**\u001b[0m\u001b[0mkwargs\u001b[0m\u001b[1;33m)\u001b[0m\u001b[1;33m\u001b[0m\u001b[1;33m\u001b[0m\u001b[0m\n\u001b[0m\u001b[0;32m    202\u001b[0m     \u001b[1;32mexcept\u001b[0m \u001b[1;33m(\u001b[0m\u001b[0mTypeError\u001b[0m\u001b[1;33m,\u001b[0m \u001b[0mValueError\u001b[0m\u001b[1;33m)\u001b[0m\u001b[1;33m:\u001b[0m\u001b[1;33m\u001b[0m\u001b[1;33m\u001b[0m\u001b[0m\n\u001b[0;32m    203\u001b[0m       \u001b[1;31m# Note: convert_to_eager_tensor currently raises a ValueError, not a\u001b[0m\u001b[1;33m\u001b[0m\u001b[1;33m\u001b[0m\u001b[1;33m\u001b[0m\u001b[0m\n",
      "\u001b[1;32m~\\AppData\\Roaming\\Python\\Python38\\site-packages\\tensorflow\\python\\keras\\backend.py\u001b[0m in \u001b[0;36mbatch_set_value\u001b[1;34m(tuples)\u001b[0m\n\u001b[0;32m   3599\u001b[0m           \u001b[0massign_ops\u001b[0m\u001b[1;33m.\u001b[0m\u001b[0mappend\u001b[0m\u001b[1;33m(\u001b[0m\u001b[0massign_op\u001b[0m\u001b[1;33m)\u001b[0m\u001b[1;33m\u001b[0m\u001b[1;33m\u001b[0m\u001b[0m\n\u001b[0;32m   3600\u001b[0m           \u001b[0mfeed_dict\u001b[0m\u001b[1;33m[\u001b[0m\u001b[0massign_placeholder\u001b[0m\u001b[1;33m]\u001b[0m \u001b[1;33m=\u001b[0m \u001b[0mvalue\u001b[0m\u001b[1;33m\u001b[0m\u001b[1;33m\u001b[0m\u001b[0m\n\u001b[1;32m-> 3601\u001b[1;33m         \u001b[0mget_session\u001b[0m\u001b[1;33m(\u001b[0m\u001b[1;33m)\u001b[0m\u001b[1;33m.\u001b[0m\u001b[0mrun\u001b[0m\u001b[1;33m(\u001b[0m\u001b[0massign_ops\u001b[0m\u001b[1;33m,\u001b[0m \u001b[0mfeed_dict\u001b[0m\u001b[1;33m=\u001b[0m\u001b[0mfeed_dict\u001b[0m\u001b[1;33m)\u001b[0m\u001b[1;33m\u001b[0m\u001b[1;33m\u001b[0m\u001b[0m\n\u001b[0m\u001b[0;32m   3602\u001b[0m \u001b[1;33m\u001b[0m\u001b[0m\n\u001b[0;32m   3603\u001b[0m \u001b[1;33m\u001b[0m\u001b[0m\n",
      "\u001b[1;32m~\\AppData\\Roaming\\Python\\Python38\\site-packages\\tensorflow\\python\\keras\\backend.py\u001b[0m in \u001b[0;36mget_session\u001b[1;34m(op_input_list)\u001b[0m\n\u001b[0;32m    628\u001b[0m   \u001b[1;32mif\u001b[0m \u001b[1;32mnot\u001b[0m \u001b[0m_MANUAL_VAR_INIT\u001b[0m\u001b[1;33m:\u001b[0m\u001b[1;33m\u001b[0m\u001b[1;33m\u001b[0m\u001b[0m\n\u001b[0;32m    629\u001b[0m     \u001b[1;32mwith\u001b[0m \u001b[0msession\u001b[0m\u001b[1;33m.\u001b[0m\u001b[0mgraph\u001b[0m\u001b[1;33m.\u001b[0m\u001b[0mas_default\u001b[0m\u001b[1;33m(\u001b[0m\u001b[1;33m)\u001b[0m\u001b[1;33m:\u001b[0m\u001b[1;33m\u001b[0m\u001b[1;33m\u001b[0m\u001b[0m\n\u001b[1;32m--> 630\u001b[1;33m       \u001b[0m_initialize_variables\u001b[0m\u001b[1;33m(\u001b[0m\u001b[0msession\u001b[0m\u001b[1;33m)\u001b[0m\u001b[1;33m\u001b[0m\u001b[1;33m\u001b[0m\u001b[0m\n\u001b[0m\u001b[0;32m    631\u001b[0m   \u001b[1;32mreturn\u001b[0m \u001b[0msession\u001b[0m\u001b[1;33m\u001b[0m\u001b[1;33m\u001b[0m\u001b[0m\n\u001b[0;32m    632\u001b[0m \u001b[1;33m\u001b[0m\u001b[0m\n",
      "\u001b[1;32m~\\AppData\\Roaming\\Python\\Python38\\site-packages\\tensorflow\\python\\keras\\backend.py\u001b[0m in \u001b[0;36m_initialize_variables\u001b[1;34m(session)\u001b[0m\n\u001b[0;32m   1050\u001b[0m     \u001b[1;31m# This step is expensive, so we only run it on variables not already\u001b[0m\u001b[1;33m\u001b[0m\u001b[1;33m\u001b[0m\u001b[1;33m\u001b[0m\u001b[0m\n\u001b[0;32m   1051\u001b[0m     \u001b[1;31m# marked as initialized.\u001b[0m\u001b[1;33m\u001b[0m\u001b[1;33m\u001b[0m\u001b[1;33m\u001b[0m\u001b[0m\n\u001b[1;32m-> 1052\u001b[1;33m     is_initialized = session.run(\n\u001b[0m\u001b[0;32m   1053\u001b[0m         [variables_module.is_variable_initialized(v) for v in candidate_vars])\n\u001b[0;32m   1054\u001b[0m     \u001b[1;31m# TODO(kathywu): Some metric variables loaded from SavedModel are never\u001b[0m\u001b[1;33m\u001b[0m\u001b[1;33m\u001b[0m\u001b[1;33m\u001b[0m\u001b[0m\n",
      "\u001b[1;32m~\\AppData\\Roaming\\Python\\Python38\\site-packages\\tensorflow\\python\\client\\session.py\u001b[0m in \u001b[0;36mrun\u001b[1;34m(self, fetches, feed_dict, options, run_metadata)\u001b[0m\n\u001b[0;32m    955\u001b[0m \u001b[1;33m\u001b[0m\u001b[0m\n\u001b[0;32m    956\u001b[0m     \u001b[1;32mtry\u001b[0m\u001b[1;33m:\u001b[0m\u001b[1;33m\u001b[0m\u001b[1;33m\u001b[0m\u001b[0m\n\u001b[1;32m--> 957\u001b[1;33m       result = self._run(None, fetches, feed_dict, options_ptr,\n\u001b[0m\u001b[0;32m    958\u001b[0m                          run_metadata_ptr)\n\u001b[0;32m    959\u001b[0m       \u001b[1;32mif\u001b[0m \u001b[0mrun_metadata\u001b[0m\u001b[1;33m:\u001b[0m\u001b[1;33m\u001b[0m\u001b[1;33m\u001b[0m\u001b[0m\n",
      "\u001b[1;32m~\\AppData\\Roaming\\Python\\Python38\\site-packages\\tensorflow\\python\\client\\session.py\u001b[0m in \u001b[0;36m_run\u001b[1;34m(self, handle, fetches, feed_dict, options, run_metadata)\u001b[0m\n\u001b[0;32m   1178\u001b[0m     \u001b[1;31m# or if the call is a partial run that specifies feeds.\u001b[0m\u001b[1;33m\u001b[0m\u001b[1;33m\u001b[0m\u001b[1;33m\u001b[0m\u001b[0m\n\u001b[0;32m   1179\u001b[0m     \u001b[1;32mif\u001b[0m \u001b[0mfinal_fetches\u001b[0m \u001b[1;32mor\u001b[0m \u001b[0mfinal_targets\u001b[0m \u001b[1;32mor\u001b[0m \u001b[1;33m(\u001b[0m\u001b[0mhandle\u001b[0m \u001b[1;32mand\u001b[0m \u001b[0mfeed_dict_tensor\u001b[0m\u001b[1;33m)\u001b[0m\u001b[1;33m:\u001b[0m\u001b[1;33m\u001b[0m\u001b[1;33m\u001b[0m\u001b[0m\n\u001b[1;32m-> 1180\u001b[1;33m       results = self._do_run(handle, final_targets, final_fetches,\n\u001b[0m\u001b[0;32m   1181\u001b[0m                              feed_dict_tensor, options, run_metadata)\n\u001b[0;32m   1182\u001b[0m     \u001b[1;32melse\u001b[0m\u001b[1;33m:\u001b[0m\u001b[1;33m\u001b[0m\u001b[1;33m\u001b[0m\u001b[0m\n",
      "\u001b[1;32m~\\AppData\\Roaming\\Python\\Python38\\site-packages\\tensorflow\\python\\client\\session.py\u001b[0m in \u001b[0;36m_do_run\u001b[1;34m(self, handle, target_list, fetch_list, feed_dict, options, run_metadata)\u001b[0m\n\u001b[0;32m   1356\u001b[0m \u001b[1;33m\u001b[0m\u001b[0m\n\u001b[0;32m   1357\u001b[0m     \u001b[1;32mif\u001b[0m \u001b[0mhandle\u001b[0m \u001b[1;32mis\u001b[0m \u001b[1;32mNone\u001b[0m\u001b[1;33m:\u001b[0m\u001b[1;33m\u001b[0m\u001b[1;33m\u001b[0m\u001b[0m\n\u001b[1;32m-> 1358\u001b[1;33m       return self._do_call(_run_fn, feeds, fetches, targets, options,\n\u001b[0m\u001b[0;32m   1359\u001b[0m                            run_metadata)\n\u001b[0;32m   1360\u001b[0m     \u001b[1;32melse\u001b[0m\u001b[1;33m:\u001b[0m\u001b[1;33m\u001b[0m\u001b[1;33m\u001b[0m\u001b[0m\n",
      "\u001b[1;32m~\\AppData\\Roaming\\Python\\Python38\\site-packages\\tensorflow\\python\\client\\session.py\u001b[0m in \u001b[0;36m_do_call\u001b[1;34m(self, fn, *args)\u001b[0m\n\u001b[0;32m   1363\u001b[0m   \u001b[1;32mdef\u001b[0m \u001b[0m_do_call\u001b[0m\u001b[1;33m(\u001b[0m\u001b[0mself\u001b[0m\u001b[1;33m,\u001b[0m \u001b[0mfn\u001b[0m\u001b[1;33m,\u001b[0m \u001b[1;33m*\u001b[0m\u001b[0margs\u001b[0m\u001b[1;33m)\u001b[0m\u001b[1;33m:\u001b[0m\u001b[1;33m\u001b[0m\u001b[1;33m\u001b[0m\u001b[0m\n\u001b[0;32m   1364\u001b[0m     \u001b[1;32mtry\u001b[0m\u001b[1;33m:\u001b[0m\u001b[1;33m\u001b[0m\u001b[1;33m\u001b[0m\u001b[0m\n\u001b[1;32m-> 1365\u001b[1;33m       \u001b[1;32mreturn\u001b[0m \u001b[0mfn\u001b[0m\u001b[1;33m(\u001b[0m\u001b[1;33m*\u001b[0m\u001b[0margs\u001b[0m\u001b[1;33m)\u001b[0m\u001b[1;33m\u001b[0m\u001b[1;33m\u001b[0m\u001b[0m\n\u001b[0m\u001b[0;32m   1366\u001b[0m     \u001b[1;32mexcept\u001b[0m \u001b[0merrors\u001b[0m\u001b[1;33m.\u001b[0m\u001b[0mOpError\u001b[0m \u001b[1;32mas\u001b[0m \u001b[0me\u001b[0m\u001b[1;33m:\u001b[0m\u001b[1;33m\u001b[0m\u001b[1;33m\u001b[0m\u001b[0m\n\u001b[0;32m   1367\u001b[0m       \u001b[0mmessage\u001b[0m \u001b[1;33m=\u001b[0m \u001b[0mcompat\u001b[0m\u001b[1;33m.\u001b[0m\u001b[0mas_text\u001b[0m\u001b[1;33m(\u001b[0m\u001b[0me\u001b[0m\u001b[1;33m.\u001b[0m\u001b[0mmessage\u001b[0m\u001b[1;33m)\u001b[0m\u001b[1;33m\u001b[0m\u001b[1;33m\u001b[0m\u001b[0m\n",
      "\u001b[1;32m~\\AppData\\Roaming\\Python\\Python38\\site-packages\\tensorflow\\python\\client\\session.py\u001b[0m in \u001b[0;36m_run_fn\u001b[1;34m(feed_dict, fetch_list, target_list, options, run_metadata)\u001b[0m\n\u001b[0;32m   1346\u001b[0m     \u001b[1;32mdef\u001b[0m \u001b[0m_run_fn\u001b[0m\u001b[1;33m(\u001b[0m\u001b[0mfeed_dict\u001b[0m\u001b[1;33m,\u001b[0m \u001b[0mfetch_list\u001b[0m\u001b[1;33m,\u001b[0m \u001b[0mtarget_list\u001b[0m\u001b[1;33m,\u001b[0m \u001b[0moptions\u001b[0m\u001b[1;33m,\u001b[0m \u001b[0mrun_metadata\u001b[0m\u001b[1;33m)\u001b[0m\u001b[1;33m:\u001b[0m\u001b[1;33m\u001b[0m\u001b[1;33m\u001b[0m\u001b[0m\n\u001b[0;32m   1347\u001b[0m       \u001b[1;31m# Ensure any changes to the graph are reflected in the runtime.\u001b[0m\u001b[1;33m\u001b[0m\u001b[1;33m\u001b[0m\u001b[1;33m\u001b[0m\u001b[0m\n\u001b[1;32m-> 1348\u001b[1;33m       \u001b[0mself\u001b[0m\u001b[1;33m.\u001b[0m\u001b[0m_extend_graph\u001b[0m\u001b[1;33m(\u001b[0m\u001b[1;33m)\u001b[0m\u001b[1;33m\u001b[0m\u001b[1;33m\u001b[0m\u001b[0m\n\u001b[0m\u001b[0;32m   1349\u001b[0m       return self._call_tf_sessionrun(options, feed_dict, fetch_list,\n\u001b[0;32m   1350\u001b[0m                                       target_list, run_metadata)\n",
      "\u001b[1;32m~\\AppData\\Roaming\\Python\\Python38\\site-packages\\tensorflow\\python\\client\\session.py\u001b[0m in \u001b[0;36m_extend_graph\u001b[1;34m(self)\u001b[0m\n\u001b[0;32m   1386\u001b[0m   \u001b[1;32mdef\u001b[0m \u001b[0m_extend_graph\u001b[0m\u001b[1;33m(\u001b[0m\u001b[0mself\u001b[0m\u001b[1;33m)\u001b[0m\u001b[1;33m:\u001b[0m\u001b[1;33m\u001b[0m\u001b[1;33m\u001b[0m\u001b[0m\n\u001b[0;32m   1387\u001b[0m     \u001b[1;32mwith\u001b[0m \u001b[0mself\u001b[0m\u001b[1;33m.\u001b[0m\u001b[0m_graph\u001b[0m\u001b[1;33m.\u001b[0m\u001b[0m_session_run_lock\u001b[0m\u001b[1;33m(\u001b[0m\u001b[1;33m)\u001b[0m\u001b[1;33m:\u001b[0m  \u001b[1;31m# pylint: disable=protected-access\u001b[0m\u001b[1;33m\u001b[0m\u001b[1;33m\u001b[0m\u001b[0m\n\u001b[1;32m-> 1388\u001b[1;33m       \u001b[0mtf_session\u001b[0m\u001b[1;33m.\u001b[0m\u001b[0mExtendSession\u001b[0m\u001b[1;33m(\u001b[0m\u001b[0mself\u001b[0m\u001b[1;33m.\u001b[0m\u001b[0m_session\u001b[0m\u001b[1;33m)\u001b[0m\u001b[1;33m\u001b[0m\u001b[1;33m\u001b[0m\u001b[0m\n\u001b[0m\u001b[0;32m   1389\u001b[0m \u001b[1;33m\u001b[0m\u001b[0m\n\u001b[0;32m   1390\u001b[0m   \u001b[1;31m# The threshold to run garbage collection to delete dead tensors.\u001b[0m\u001b[1;33m\u001b[0m\u001b[1;33m\u001b[0m\u001b[1;33m\u001b[0m\u001b[0m\n",
      "\u001b[1;31mKeyboardInterrupt\u001b[0m: "
     ]
    },
    {
     "data": {
      "application/javascript": [
       "\n",
       "            setTimeout(function() {\n",
       "                var nbb_cell_id = 20;\n",
       "                var nbb_unformatted_code = \"# Answer below:\\nmodel = build_model(\\n    X.shape[1],\\n    output_dim=y.shape[1],\\n    layer_nodes=[128, 64, 32, 32],\\n    activation_function=\\\"relu\\\",\\n    output_function=\\\"sigmoid\\\",\\n)\\n\\nmodel.compile(loss=\\\"binary_crossentropy\\\", optimizer=adam, metrics=[\\\"accuracy\\\"])\\nhistory = model.fit(\\n    X_train, y_train, validation_data=(X_test, y_test), batch_size=100, epochs=200\\n)\";\n",
       "                var nbb_formatted_code = \"# Answer below:\\nmodel = build_model(\\n    X.shape[1],\\n    output_dim=y.shape[1],\\n    layer_nodes=[128, 64, 32, 32],\\n    activation_function=\\\"relu\\\",\\n    output_function=\\\"sigmoid\\\",\\n)\\n\\nmodel.compile(loss=\\\"binary_crossentropy\\\", optimizer=adam, metrics=[\\\"accuracy\\\"])\\nhistory = model.fit(\\n    X_train, y_train, validation_data=(X_test, y_test), batch_size=100, epochs=200\\n)\";\n",
       "                var nbb_cells = Jupyter.notebook.get_cells();\n",
       "                for (var i = 0; i < nbb_cells.length; ++i) {\n",
       "                    if (nbb_cells[i].input_prompt_number == nbb_cell_id) {\n",
       "                        if (nbb_cells[i].get_text() == nbb_unformatted_code) {\n",
       "                             nbb_cells[i].set_text(nbb_formatted_code);\n",
       "                        }\n",
       "                        break;\n",
       "                    }\n",
       "                }\n",
       "            }, 500);\n",
       "            "
      ],
      "text/plain": [
       "<IPython.core.display.Javascript object>"
      ]
     },
     "metadata": {},
     "output_type": "display_data"
    }
   ],
   "source": [
    "# Answer below:\n",
    "model = build_model(\n",
    "    X.shape[1],\n",
    "    output_dim=y.shape[1],\n",
    "    layer_nodes=[128, 64, 32, 32],\n",
    "    activation_function=\"relu\",\n",
    "    output_function=\"sigmoid\",\n",
    ")\n",
    "\n",
    "model.compile(loss=\"binary_crossentropy\", optimizer=adam, metrics=[\"accuracy\"])\n",
    "history = model.fit(\n",
    "    X_train, y_train, validation_data=(X_test, y_test), batch_size=100, epochs=200\n",
    ")"
   ]
  },
  {
   "cell_type": "code",
   "execution_count": null,
   "metadata": {},
   "outputs": [],
   "source": [
    "pd.DataFrame(history.history)[[\"accuracy\", \"val_accuracy\"]].plot()"
   ]
  },
  {
   "cell_type": "markdown",
   "metadata": {
    "colab_type": "text",
    "id": "1opnI2qCgGv5"
   },
   "source": [
    "Now change the learning rate to 0.1 in your Adam optimizer and compare the results (both speed and accuracy)."
   ]
  },
  {
   "cell_type": "code",
   "execution_count": null,
   "metadata": {
    "colab": {},
    "colab_type": "code",
    "id": "aIGTzU1DgGv6"
   },
   "outputs": [],
   "source": [
    "# Answer below:\n",
    "\n",
    "adam = Adam(learning_rate=0.1)"
   ]
  },
  {
   "cell_type": "code",
   "execution_count": null,
   "metadata": {
    "colab": {},
    "colab_type": "code",
    "id": "e91KQiHqgGv7"
   },
   "outputs": [],
   "source": [
    "model = build_model(\n",
    "    X.shape[1],\n",
    "    output_dim=y.shape[1],\n",
    "    layer_nodes=[128, 64, 32, 32],\n",
    "    activation_function=\"relu\",\n",
    "    output_function=\"sigmoid\",\n",
    ")\n",
    "\n",
    "model.compile(loss=\"binary_crossentropy\", optimizer=adam, metrics=[\"accuracy\"])\n",
    "history = model.fit(\n",
    "    X_train, y_train, validation_data=(X_test, y_test), batch_size=100, epochs=200\n",
    ")"
   ]
  },
  {
   "cell_type": "code",
   "execution_count": null,
   "metadata": {},
   "outputs": [],
   "source": [
    "pd.DataFrame(history.history)[[\"accuracy\", \"val_accuracy\"]].plot()"
   ]
  },
  {
   "cell_type": "code",
   "execution_count": null,
   "metadata": {},
   "outputs": [],
   "source": []
  }
 ],
 "metadata": {
  "colab": {
   "collapsed_sections": [],
   "name": "Day 78 Lecture 2 Assignment.ipynb",
   "provenance": []
  },
  "kernelspec": {
   "display_name": "Python 3",
   "language": "python",
   "name": "python3"
  },
  "language_info": {
   "codemirror_mode": {
    "name": "ipython",
    "version": 3
   },
   "file_extension": ".py",
   "mimetype": "text/x-python",
   "name": "python",
   "nbconvert_exporter": "python",
   "pygments_lexer": "ipython3",
   "version": "3.8.5"
  }
 },
 "nbformat": 4,
 "nbformat_minor": 1
}
