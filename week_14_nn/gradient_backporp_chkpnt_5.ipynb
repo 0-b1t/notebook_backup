{
 "cells": [
  {
   "cell_type": "code",
   "execution_count": 1,
   "metadata": {},
   "outputs": [
    {
     "data": {
      "application/javascript": [
       "\n",
       "            setTimeout(function() {\n",
       "                var nbb_cell_id = 1;\n",
       "                var nbb_unformatted_code = \"%reload_ext nb_black\";\n",
       "                var nbb_formatted_code = \"%reload_ext nb_black\";\n",
       "                var nbb_cells = Jupyter.notebook.get_cells();\n",
       "                for (var i = 0; i < nbb_cells.length; ++i) {\n",
       "                    if (nbb_cells[i].input_prompt_number == nbb_cell_id) {\n",
       "                        if (nbb_cells[i].get_text() == nbb_unformatted_code) {\n",
       "                             nbb_cells[i].set_text(nbb_formatted_code);\n",
       "                        }\n",
       "                        break;\n",
       "                    }\n",
       "                }\n",
       "            }, 500);\n",
       "            "
      ],
      "text/plain": [
       "<IPython.core.display.Javascript object>"
      ]
     },
     "metadata": {},
     "output_type": "display_data"
    }
   ],
   "source": [
    "%reload_ext nb_black"
   ]
  },
  {
   "cell_type": "code",
   "execution_count": 2,
   "metadata": {},
   "outputs": [
    {
     "data": {
      "application/javascript": [
       "\n",
       "            setTimeout(function() {\n",
       "                var nbb_cell_id = 2;\n",
       "                var nbb_unformatted_code = \"import numpy as np\\nimport pandas as pd\\nimport matplotlib\\nimport tensorflow as tf\\n\\ntf.debugging.set_log_device_placement(True)\\n\\nfrom tensorflow.keras.models import Sequential\\nfrom tensorflow.keras.layers import Dense\\n\\nfrom sklearn.model_selection import train_test_split\\nfrom tensorflow.keras.datasets import mnist\\nfrom tensorflow.keras.utils import to_categorical\\nfrom tensorflow.keras.optimizers import SGD, RMSprop, Adam\";\n",
       "                var nbb_formatted_code = \"import numpy as np\\nimport pandas as pd\\nimport matplotlib\\nimport tensorflow as tf\\n\\ntf.debugging.set_log_device_placement(True)\\n\\nfrom tensorflow.keras.models import Sequential\\nfrom tensorflow.keras.layers import Dense\\n\\nfrom sklearn.model_selection import train_test_split\\nfrom tensorflow.keras.datasets import mnist\\nfrom tensorflow.keras.utils import to_categorical\\nfrom tensorflow.keras.optimizers import SGD, RMSprop, Adam\";\n",
       "                var nbb_cells = Jupyter.notebook.get_cells();\n",
       "                for (var i = 0; i < nbb_cells.length; ++i) {\n",
       "                    if (nbb_cells[i].input_prompt_number == nbb_cell_id) {\n",
       "                        if (nbb_cells[i].get_text() == nbb_unformatted_code) {\n",
       "                             nbb_cells[i].set_text(nbb_formatted_code);\n",
       "                        }\n",
       "                        break;\n",
       "                    }\n",
       "                }\n",
       "            }, 500);\n",
       "            "
      ],
      "text/plain": [
       "<IPython.core.display.Javascript object>"
      ]
     },
     "metadata": {},
     "output_type": "display_data"
    }
   ],
   "source": [
    "import numpy as np\n",
    "import pandas as pd\n",
    "import matplotlib\n",
    "import tensorflow as tf\n",
    "\n",
    "tf.debugging.set_log_device_placement(True)\n",
    "\n",
    "from tensorflow.keras.models import Sequential\n",
    "from tensorflow.keras.layers import Dense\n",
    "\n",
    "from sklearn.model_selection import train_test_split\n",
    "from tensorflow.keras.datasets import mnist\n",
    "from tensorflow.keras.utils import to_categorical\n",
    "from tensorflow.keras.optimizers import SGD, RMSprop, Adam"
   ]
  },
  {
   "cell_type": "code",
   "execution_count": 3,
   "metadata": {},
   "outputs": [
    {
     "name": "stdout",
     "output_type": "stream",
     "text": [
      "Device mapping:\n",
      "/job:localhost/replica:0/task:0/device:XLA_CPU:0 -> device: XLA_CPU device\n",
      "/job:localhost/replica:0/task:0/device:XLA_GPU:0 -> device: XLA_GPU device\n",
      "\n",
      "[[ 8.  5.]\n",
      " [20. 13.]]\n"
     ]
    },
    {
     "data": {
      "application/javascript": [
       "\n",
       "            setTimeout(function() {\n",
       "                var nbb_cell_id = 3;\n",
       "                var nbb_unformatted_code = \"import os\\n\\ntf.compat.v1.disable_eager_execution()\\n\\nhello = tf.constant(\\\"Hello, TensorFlow!\\\")\\n\\n# sess = tf.compat.v1.Session()\\n\\nos.environ[\\\"CUDA_VISIBLE_DEVICES\\\"] = \\\"0\\\"  # You need to tell CUDA\\n# which GPU you'd like to use. if you have one GPU probably your GPU is '0'with tf.device('/gpu:0'):\\na = tf.constant([1.0, 2.0, 3.0, 4.0], shape=[2, 2], name=\\\"a\\\")\\nb = tf.constant([4.0, 3.0, 2.0, 1.0], shape=[2, 2], name=\\\"b\\\")\\nc = tf.matmul(a, b)\\n# with tf.compat.v1.Session() as sess:\\n#     print(sess.run(c))\\n\\nsess = tf.compat.v1.Session(config=tf.compat.v1.ConfigProto(log_device_placement=True))\\n# Runs the op.\\nprint(sess.run(c))\";\n",
       "                var nbb_formatted_code = \"import os\\n\\ntf.compat.v1.disable_eager_execution()\\n\\nhello = tf.constant(\\\"Hello, TensorFlow!\\\")\\n\\n# sess = tf.compat.v1.Session()\\n\\nos.environ[\\\"CUDA_VISIBLE_DEVICES\\\"] = \\\"0\\\"  # You need to tell CUDA\\n# which GPU you'd like to use. if you have one GPU probably your GPU is '0'with tf.device('/gpu:0'):\\na = tf.constant([1.0, 2.0, 3.0, 4.0], shape=[2, 2], name=\\\"a\\\")\\nb = tf.constant([4.0, 3.0, 2.0, 1.0], shape=[2, 2], name=\\\"b\\\")\\nc = tf.matmul(a, b)\\n# with tf.compat.v1.Session() as sess:\\n#     print(sess.run(c))\\n\\nsess = tf.compat.v1.Session(config=tf.compat.v1.ConfigProto(log_device_placement=True))\\n# Runs the op.\\nprint(sess.run(c))\";\n",
       "                var nbb_cells = Jupyter.notebook.get_cells();\n",
       "                for (var i = 0; i < nbb_cells.length; ++i) {\n",
       "                    if (nbb_cells[i].input_prompt_number == nbb_cell_id) {\n",
       "                        if (nbb_cells[i].get_text() == nbb_unformatted_code) {\n",
       "                             nbb_cells[i].set_text(nbb_formatted_code);\n",
       "                        }\n",
       "                        break;\n",
       "                    }\n",
       "                }\n",
       "            }, 500);\n",
       "            "
      ],
      "text/plain": [
       "<IPython.core.display.Javascript object>"
      ]
     },
     "metadata": {},
     "output_type": "display_data"
    }
   ],
   "source": [
    "import os\n",
    "\n",
    "tf.compat.v1.disable_eager_execution()\n",
    "\n",
    "hello = tf.constant(\"Hello, TensorFlow!\")\n",
    "\n",
    "# sess = tf.compat.v1.Session()\n",
    "\n",
    "os.environ[\"CUDA_VISIBLE_DEVICES\"] = \"0\"  # You need to tell CUDA\n",
    "# which GPU you'd like to use. if you have one GPU probably your GPU is '0'with tf.device('/gpu:0'):\n",
    "a = tf.constant([1.0, 2.0, 3.0, 4.0], shape=[2, 2], name=\"a\")\n",
    "b = tf.constant([4.0, 3.0, 2.0, 1.0], shape=[2, 2], name=\"b\")\n",
    "c = tf.matmul(a, b)\n",
    "# with tf.compat.v1.Session() as sess:\n",
    "#     print(sess.run(c))\n",
    "\n",
    "sess = tf.compat.v1.Session(config=tf.compat.v1.ConfigProto(log_device_placement=True))\n",
    "# Runs the op.\n",
    "print(sess.run(c))"
   ]
  },
  {
   "cell_type": "code",
   "execution_count": 4,
   "metadata": {},
   "outputs": [
    {
     "data": {
      "application/javascript": [
       "\n",
       "            setTimeout(function() {\n",
       "                var nbb_cell_id = 4;\n",
       "                var nbb_unformatted_code = \"def build_model(\\n    input_dim,\\n    output_dim=1,\\n    layer_nodes=[64, 32, 32],\\n    activation_function=\\\"relu\\\",\\n    output_function=\\\"sigmoid\\\",\\n):\\n    model = Sequential()\\n    model.add(\\n        Dense(layer_nodes[0], input_dim=input_dim, activation=activation_function)\\n    )\\n    for i in range(1, len(layer_nodes)):\\n        model.add(Dense(layer_nodes[i], activation=activation_function))\\n\\n    model.add(Dense(output_dim, activation=output_function))\\n\\n    return model\";\n",
       "                var nbb_formatted_code = \"def build_model(\\n    input_dim,\\n    output_dim=1,\\n    layer_nodes=[64, 32, 32],\\n    activation_function=\\\"relu\\\",\\n    output_function=\\\"sigmoid\\\",\\n):\\n    model = Sequential()\\n    model.add(\\n        Dense(layer_nodes[0], input_dim=input_dim, activation=activation_function)\\n    )\\n    for i in range(1, len(layer_nodes)):\\n        model.add(Dense(layer_nodes[i], activation=activation_function))\\n\\n    model.add(Dense(output_dim, activation=output_function))\\n\\n    return model\";\n",
       "                var nbb_cells = Jupyter.notebook.get_cells();\n",
       "                for (var i = 0; i < nbb_cells.length; ++i) {\n",
       "                    if (nbb_cells[i].input_prompt_number == nbb_cell_id) {\n",
       "                        if (nbb_cells[i].get_text() == nbb_unformatted_code) {\n",
       "                             nbb_cells[i].set_text(nbb_formatted_code);\n",
       "                        }\n",
       "                        break;\n",
       "                    }\n",
       "                }\n",
       "            }, 500);\n",
       "            "
      ],
      "text/plain": [
       "<IPython.core.display.Javascript object>"
      ]
     },
     "metadata": {},
     "output_type": "display_data"
    }
   ],
   "source": [
    "def build_model(\n",
    "    input_dim,\n",
    "    output_dim=1,\n",
    "    layer_nodes=[64, 32, 32],\n",
    "    activation_function=\"relu\",\n",
    "    output_function=\"sigmoid\",\n",
    "):\n",
    "    model = Sequential()\n",
    "    model.add(\n",
    "        Dense(layer_nodes[0], input_dim=input_dim, activation=activation_function)\n",
    "    )\n",
    "    for i in range(1, len(layer_nodes)):\n",
    "        model.add(Dense(layer_nodes[i], activation=activation_function))\n",
    "\n",
    "    model.add(Dense(output_dim, activation=output_function))\n",
    "\n",
    "    return model"
   ]
  },
  {
   "cell_type": "code",
   "execution_count": 6,
   "metadata": {},
   "outputs": [
    {
     "data": {
      "application/javascript": [
       "\n",
       "            setTimeout(function() {\n",
       "                var nbb_cell_id = 6;\n",
       "                var nbb_unformatted_code = \"(X_train, y_train), (X_test, y_test) = mnist.load_data()\\n\\ninput_dim = 784  # 28*28\\noutput_dim = nb_classes = 10\\nbatch_size = 128\\nnb_epoch = 20\\n\\nX_train = X_train.reshape(60000, input_dim)\\nX_test = X_test.reshape(10000, input_dim)\\nX_train = X_train.astype(\\\"float32\\\")\\nX_test = X_test.astype(\\\"float32\\\")\\nX_train /= 255\\nX_test /= 255\\n\\n\\ny_train = to_categorical(y_train, nb_classes)\\ny_test = to_categorical(y_test, nb_classes)\";\n",
       "                var nbb_formatted_code = \"(X_train, y_train), (X_test, y_test) = mnist.load_data()\\n\\ninput_dim = 784  # 28*28\\noutput_dim = nb_classes = 10\\nbatch_size = 128\\nnb_epoch = 20\\n\\nX_train = X_train.reshape(60000, input_dim)\\nX_test = X_test.reshape(10000, input_dim)\\nX_train = X_train.astype(\\\"float32\\\")\\nX_test = X_test.astype(\\\"float32\\\")\\nX_train /= 255\\nX_test /= 255\\n\\n\\ny_train = to_categorical(y_train, nb_classes)\\ny_test = to_categorical(y_test, nb_classes)\";\n",
       "                var nbb_cells = Jupyter.notebook.get_cells();\n",
       "                for (var i = 0; i < nbb_cells.length; ++i) {\n",
       "                    if (nbb_cells[i].input_prompt_number == nbb_cell_id) {\n",
       "                        if (nbb_cells[i].get_text() == nbb_unformatted_code) {\n",
       "                             nbb_cells[i].set_text(nbb_formatted_code);\n",
       "                        }\n",
       "                        break;\n",
       "                    }\n",
       "                }\n",
       "            }, 500);\n",
       "            "
      ],
      "text/plain": [
       "<IPython.core.display.Javascript object>"
      ]
     },
     "metadata": {},
     "output_type": "display_data"
    }
   ],
   "source": [
    "(X_train, y_train), (X_test, y_test) = mnist.load_data()\n",
    "\n",
    "input_dim = 784  # 28*28\n",
    "output_dim = nb_classes = 10\n",
    "batch_size = 128\n",
    "nb_epoch = 20\n",
    "\n",
    "X_train = X_train.reshape(60000, input_dim)\n",
    "X_test = X_test.reshape(10000, input_dim)\n",
    "X_train = X_train.astype(\"float32\")\n",
    "X_test = X_test.astype(\"float32\")\n",
    "X_train /= 255\n",
    "X_test /= 255\n",
    "\n",
    "\n",
    "y_train = to_categorical(y_train, nb_classes)\n",
    "y_test = to_categorical(y_test, nb_classes)"
   ]
  },
  {
   "cell_type": "code",
   "execution_count": 7,
   "metadata": {},
   "outputs": [
    {
     "name": "stdout",
     "output_type": "stream",
     "text": [
      "Train on 60000 samples, validate on 10000 samples\n",
      "Device mapping:\n",
      "/job:localhost/replica:0/task:0/device:XLA_CPU:0 -> device: XLA_CPU device\n",
      "\n",
      "Epoch 1/20\n",
      "59808/60000 [============================>.] - ETA: 0s - loss: 0.1706 - accuracy: 0.9188WARNING:tensorflow:From C:\\Users\\b1t\\AppData\\Roaming\\Python\\Python38\\site-packages\\tensorflow\\python\\keras\\engine\\training_v1.py:2048: Model.state_updates (from tensorflow.python.keras.engine.training) is deprecated and will be removed in a future version.\n",
      "Instructions for updating:\n",
      "This property should not be used in TensorFlow 2.0, as updates are applied automatically.\n",
      "60000/60000 [==============================] - 6s 103us/sample - loss: 0.1704 - accuracy: 0.9189 - val_loss: 0.1064 - val_accuracy: 0.9473\n",
      "Epoch 2/20\n",
      "60000/60000 [==============================] - 5s 77us/sample - loss: 0.0971 - accuracy: 0.9520 - val_loss: 0.0939 - val_accuracy: 0.9528\n",
      "Epoch 3/20\n",
      "60000/60000 [==============================] - 5s 78us/sample - loss: 0.0820 - accuracy: 0.9590 - val_loss: 0.0815 - val_accuracy: 0.9597\n",
      "Epoch 4/20\n",
      "57912/60000 [===========================>..] - ETA: 0s - loss: 0.0756 - accuracy: 0.9624"
     ]
    },
    {
     "ename": "KeyboardInterrupt",
     "evalue": "",
     "output_type": "error",
     "traceback": [
      "\u001b[1;31m---------------------------------------------------------------------------\u001b[0m",
      "\u001b[1;31mKeyboardInterrupt\u001b[0m                         Traceback (most recent call last)",
      "\u001b[1;32m<ipython-input-7-bf6e19e3ed49>\u001b[0m in \u001b[0;36m<module>\u001b[1;34m\u001b[0m\n\u001b[0;32m      9\u001b[0m \u001b[0mmodel\u001b[0m\u001b[1;33m.\u001b[0m\u001b[0mcompile\u001b[0m\u001b[1;33m(\u001b[0m\u001b[0moptimizer\u001b[0m\u001b[1;33m=\u001b[0m\u001b[1;34m\"adam\"\u001b[0m\u001b[1;33m,\u001b[0m \u001b[0mloss\u001b[0m\u001b[1;33m=\u001b[0m\u001b[1;34m\"categorical_hinge\"\u001b[0m\u001b[1;33m,\u001b[0m \u001b[0mmetrics\u001b[0m\u001b[1;33m=\u001b[0m\u001b[1;33m[\u001b[0m\u001b[1;34m\"accuracy\"\u001b[0m\u001b[1;33m]\u001b[0m\u001b[1;33m)\u001b[0m\u001b[1;33m\u001b[0m\u001b[1;33m\u001b[0m\u001b[0m\n\u001b[0;32m     10\u001b[0m \u001b[1;33m\u001b[0m\u001b[0m\n\u001b[1;32m---> 11\u001b[1;33m model.fit(\n\u001b[0m\u001b[0;32m     12\u001b[0m     \u001b[0mX_train\u001b[0m\u001b[1;33m,\u001b[0m\u001b[1;33m\u001b[0m\u001b[1;33m\u001b[0m\u001b[0m\n\u001b[0;32m     13\u001b[0m     \u001b[0my_train\u001b[0m\u001b[1;33m,\u001b[0m\u001b[1;33m\u001b[0m\u001b[1;33m\u001b[0m\u001b[0m\n",
      "\u001b[1;32m~\\AppData\\Roaming\\Python\\Python38\\site-packages\\tensorflow\\python\\keras\\engine\\training_v1.py\u001b[0m in \u001b[0;36mfit\u001b[1;34m(self, x, y, batch_size, epochs, verbose, callbacks, validation_split, validation_data, shuffle, class_weight, sample_weight, initial_epoch, steps_per_epoch, validation_steps, validation_freq, max_queue_size, workers, use_multiprocessing, **kwargs)\u001b[0m\n\u001b[0;32m    788\u001b[0m \u001b[1;33m\u001b[0m\u001b[0m\n\u001b[0;32m    789\u001b[0m     \u001b[0mfunc\u001b[0m \u001b[1;33m=\u001b[0m \u001b[0mself\u001b[0m\u001b[1;33m.\u001b[0m\u001b[0m_select_training_loop\u001b[0m\u001b[1;33m(\u001b[0m\u001b[0mx\u001b[0m\u001b[1;33m)\u001b[0m\u001b[1;33m\u001b[0m\u001b[1;33m\u001b[0m\u001b[0m\n\u001b[1;32m--> 790\u001b[1;33m     return func.fit(\n\u001b[0m\u001b[0;32m    791\u001b[0m         \u001b[0mself\u001b[0m\u001b[1;33m,\u001b[0m\u001b[1;33m\u001b[0m\u001b[1;33m\u001b[0m\u001b[0m\n\u001b[0;32m    792\u001b[0m         \u001b[0mx\u001b[0m\u001b[1;33m=\u001b[0m\u001b[0mx\u001b[0m\u001b[1;33m,\u001b[0m\u001b[1;33m\u001b[0m\u001b[1;33m\u001b[0m\u001b[0m\n",
      "\u001b[1;32m~\\AppData\\Roaming\\Python\\Python38\\site-packages\\tensorflow\\python\\keras\\engine\\training_arrays.py\u001b[0m in \u001b[0;36mfit\u001b[1;34m(self, model, x, y, batch_size, epochs, verbose, callbacks, validation_split, validation_data, shuffle, class_weight, sample_weight, initial_epoch, steps_per_epoch, validation_steps, validation_freq, **kwargs)\u001b[0m\n\u001b[0;32m    647\u001b[0m       \u001b[0mval_x\u001b[0m\u001b[1;33m,\u001b[0m \u001b[0mval_y\u001b[0m\u001b[1;33m,\u001b[0m \u001b[0mval_sample_weights\u001b[0m \u001b[1;33m=\u001b[0m \u001b[1;32mNone\u001b[0m\u001b[1;33m,\u001b[0m \u001b[1;32mNone\u001b[0m\u001b[1;33m,\u001b[0m \u001b[1;32mNone\u001b[0m\u001b[1;33m\u001b[0m\u001b[1;33m\u001b[0m\u001b[0m\n\u001b[0;32m    648\u001b[0m \u001b[1;33m\u001b[0m\u001b[0m\n\u001b[1;32m--> 649\u001b[1;33m     return fit_loop(\n\u001b[0m\u001b[0;32m    650\u001b[0m         \u001b[0mmodel\u001b[0m\u001b[1;33m,\u001b[0m\u001b[1;33m\u001b[0m\u001b[1;33m\u001b[0m\u001b[0m\n\u001b[0;32m    651\u001b[0m         \u001b[0minputs\u001b[0m\u001b[1;33m=\u001b[0m\u001b[0mx\u001b[0m\u001b[1;33m,\u001b[0m\u001b[1;33m\u001b[0m\u001b[1;33m\u001b[0m\u001b[0m\n",
      "\u001b[1;32m~\\AppData\\Roaming\\Python\\Python38\\site-packages\\tensorflow\\python\\keras\\engine\\training_arrays.py\u001b[0m in \u001b[0;36mmodel_iteration\u001b[1;34m(model, inputs, targets, sample_weights, batch_size, epochs, verbose, callbacks, val_inputs, val_targets, val_sample_weights, shuffle, initial_epoch, steps_per_epoch, validation_steps, validation_freq, mode, validation_in_fit, prepared_feed_values_from_dataset, steps_name, **kwargs)\u001b[0m\n\u001b[0;32m    384\u001b[0m \u001b[1;33m\u001b[0m\u001b[0m\n\u001b[0;32m    385\u001b[0m         \u001b[1;31m# Get outputs.\u001b[0m\u001b[1;33m\u001b[0m\u001b[1;33m\u001b[0m\u001b[1;33m\u001b[0m\u001b[0m\n\u001b[1;32m--> 386\u001b[1;33m         \u001b[0mbatch_outs\u001b[0m \u001b[1;33m=\u001b[0m \u001b[0mf\u001b[0m\u001b[1;33m(\u001b[0m\u001b[0mins_batch\u001b[0m\u001b[1;33m)\u001b[0m\u001b[1;33m\u001b[0m\u001b[1;33m\u001b[0m\u001b[0m\n\u001b[0m\u001b[0;32m    387\u001b[0m         \u001b[1;32mif\u001b[0m \u001b[1;32mnot\u001b[0m \u001b[0misinstance\u001b[0m\u001b[1;33m(\u001b[0m\u001b[0mbatch_outs\u001b[0m\u001b[1;33m,\u001b[0m \u001b[0mlist\u001b[0m\u001b[1;33m)\u001b[0m\u001b[1;33m:\u001b[0m\u001b[1;33m\u001b[0m\u001b[1;33m\u001b[0m\u001b[0m\n\u001b[0;32m    388\u001b[0m           \u001b[0mbatch_outs\u001b[0m \u001b[1;33m=\u001b[0m \u001b[1;33m[\u001b[0m\u001b[0mbatch_outs\u001b[0m\u001b[1;33m]\u001b[0m\u001b[1;33m\u001b[0m\u001b[1;33m\u001b[0m\u001b[0m\n",
      "\u001b[1;32m~\\AppData\\Roaming\\Python\\Python38\\site-packages\\tensorflow\\python\\keras\\backend.py\u001b[0m in \u001b[0;36m__call__\u001b[1;34m(self, inputs)\u001b[0m\n\u001b[0;32m   3822\u001b[0m       \u001b[0mself\u001b[0m\u001b[1;33m.\u001b[0m\u001b[0m_make_callable\u001b[0m\u001b[1;33m(\u001b[0m\u001b[0mfeed_arrays\u001b[0m\u001b[1;33m,\u001b[0m \u001b[0mfeed_symbols\u001b[0m\u001b[1;33m,\u001b[0m \u001b[0msymbol_vals\u001b[0m\u001b[1;33m,\u001b[0m \u001b[0msession\u001b[0m\u001b[1;33m)\u001b[0m\u001b[1;33m\u001b[0m\u001b[1;33m\u001b[0m\u001b[0m\n\u001b[0;32m   3823\u001b[0m \u001b[1;33m\u001b[0m\u001b[0m\n\u001b[1;32m-> 3824\u001b[1;33m     fetched = self._callable_fn(*array_vals,\n\u001b[0m\u001b[0;32m   3825\u001b[0m                                 run_metadata=self.run_metadata)\n\u001b[0;32m   3826\u001b[0m     \u001b[0mself\u001b[0m\u001b[1;33m.\u001b[0m\u001b[0m_call_fetch_callbacks\u001b[0m\u001b[1;33m(\u001b[0m\u001b[0mfetched\u001b[0m\u001b[1;33m[\u001b[0m\u001b[1;33m-\u001b[0m\u001b[0mlen\u001b[0m\u001b[1;33m(\u001b[0m\u001b[0mself\u001b[0m\u001b[1;33m.\u001b[0m\u001b[0m_fetches\u001b[0m\u001b[1;33m)\u001b[0m\u001b[1;33m:\u001b[0m\u001b[1;33m]\u001b[0m\u001b[1;33m)\u001b[0m\u001b[1;33m\u001b[0m\u001b[1;33m\u001b[0m\u001b[0m\n",
      "\u001b[1;32m~\\AppData\\Roaming\\Python\\Python38\\site-packages\\tensorflow\\python\\client\\session.py\u001b[0m in \u001b[0;36m__call__\u001b[1;34m(self, *args, **kwargs)\u001b[0m\n\u001b[0;32m   1468\u001b[0m       \u001b[1;32mtry\u001b[0m\u001b[1;33m:\u001b[0m\u001b[1;33m\u001b[0m\u001b[1;33m\u001b[0m\u001b[0m\n\u001b[0;32m   1469\u001b[0m         \u001b[0mrun_metadata_ptr\u001b[0m \u001b[1;33m=\u001b[0m \u001b[0mtf_session\u001b[0m\u001b[1;33m.\u001b[0m\u001b[0mTF_NewBuffer\u001b[0m\u001b[1;33m(\u001b[0m\u001b[1;33m)\u001b[0m \u001b[1;32mif\u001b[0m \u001b[0mrun_metadata\u001b[0m \u001b[1;32melse\u001b[0m \u001b[1;32mNone\u001b[0m\u001b[1;33m\u001b[0m\u001b[1;33m\u001b[0m\u001b[0m\n\u001b[1;32m-> 1470\u001b[1;33m         ret = tf_session.TF_SessionRunCallable(self._session._session,\n\u001b[0m\u001b[0;32m   1471\u001b[0m                                                \u001b[0mself\u001b[0m\u001b[1;33m.\u001b[0m\u001b[0m_handle\u001b[0m\u001b[1;33m,\u001b[0m \u001b[0margs\u001b[0m\u001b[1;33m,\u001b[0m\u001b[1;33m\u001b[0m\u001b[1;33m\u001b[0m\u001b[0m\n\u001b[0;32m   1472\u001b[0m                                                run_metadata_ptr)\n",
      "\u001b[1;31mKeyboardInterrupt\u001b[0m: "
     ]
    },
    {
     "data": {
      "application/javascript": [
       "\n",
       "            setTimeout(function() {\n",
       "                var nbb_cell_id = 7;\n",
       "                var nbb_unformatted_code = \"model = build_model(\\n    input_dim=X_train.shape[1],\\n    output_dim=y_train.shape[1],\\n    layer_nodes=[128, 64],\\n    activation_function=\\\"relu\\\",\\n    output_function=\\\"softmax\\\",\\n)\\n\\nmodel.compile(optimizer=\\\"adam\\\", loss=\\\"categorical_hinge\\\", metrics=[\\\"accuracy\\\"])\\n\\nmodel.fit(\\n    X_train,\\n    y_train,\\n    validation_data=(X_test, y_test),\\n    batch_size=8,\\n    epochs=20,\\n    verbose=1,\\n)\";\n",
       "                var nbb_formatted_code = \"model = build_model(\\n    input_dim=X_train.shape[1],\\n    output_dim=y_train.shape[1],\\n    layer_nodes=[128, 64],\\n    activation_function=\\\"relu\\\",\\n    output_function=\\\"softmax\\\",\\n)\\n\\nmodel.compile(optimizer=\\\"adam\\\", loss=\\\"categorical_hinge\\\", metrics=[\\\"accuracy\\\"])\\n\\nmodel.fit(\\n    X_train,\\n    y_train,\\n    validation_data=(X_test, y_test),\\n    batch_size=8,\\n    epochs=20,\\n    verbose=1,\\n)\";\n",
       "                var nbb_cells = Jupyter.notebook.get_cells();\n",
       "                for (var i = 0; i < nbb_cells.length; ++i) {\n",
       "                    if (nbb_cells[i].input_prompt_number == nbb_cell_id) {\n",
       "                        if (nbb_cells[i].get_text() == nbb_unformatted_code) {\n",
       "                             nbb_cells[i].set_text(nbb_formatted_code);\n",
       "                        }\n",
       "                        break;\n",
       "                    }\n",
       "                }\n",
       "            }, 500);\n",
       "            "
      ],
      "text/plain": [
       "<IPython.core.display.Javascript object>"
      ]
     },
     "metadata": {},
     "output_type": "display_data"
    }
   ],
   "source": [
    "model = build_model(\n",
    "    input_dim=X_train.shape[1],\n",
    "    output_dim=y_train.shape[1],\n",
    "    layer_nodes=[128, 64],\n",
    "    activation_function=\"relu\",\n",
    "    output_function=\"softmax\",\n",
    ")\n",
    "\n",
    "model.compile(optimizer=\"adam\", loss=\"categorical_hinge\", metrics=[\"accuracy\"])\n",
    "\n",
    "model.fit(\n",
    "    X_train,\n",
    "    y_train,\n",
    "    validation_data=(X_test, y_test),\n",
    "    batch_size=8,\n",
    "    epochs=20,\n",
    "    verbose=1,\n",
    ")"
   ]
  },
  {
   "cell_type": "code",
   "execution_count": null,
   "metadata": {},
   "outputs": [],
   "source": [
    "model = build_model(\n",
    "    input_dim=X_train.shape[1],\n",
    "    output_dim=y_train.shape[1],\n",
    "    layer_nodes=[128, 64],\n",
    "    activation_function=\"relu\",\n",
    "    output_function=\"softmax\",\n",
    ")\n",
    "\n",
    "model.compile(optimizer=\"adam\", loss=\"categorical_hinge\", metrics=[\"accuracy\"])\n",
    "\n",
    "model.fit(\n",
    "    X_train,\n",
    "    y_train,\n",
    "    validation_data=(X_test, y_test),\n",
    "    batch_size=128,\n",
    "    epochs=20,\n",
    "    verbose=1,\n",
    ")"
   ]
  },
  {
   "cell_type": "code",
   "execution_count": null,
   "metadata": {
    "scrolled": true
   },
   "outputs": [],
   "source": [
    "model = build_model(\n",
    "    input_dim=X_train.shape[1],\n",
    "    output_dim=y_train.shape[1],\n",
    "    layer_nodes=[128, 64],\n",
    "    activation_function=\"relu\",\n",
    "    output_function=\"softmax\",\n",
    ")\n",
    "\n",
    "model.compile(optimizer=\"adam\", loss=\"categorical_hinge\", metrics=[\"accuracy\"])\n",
    "\n",
    "model.fit(\n",
    "    X_train,\n",
    "    y_train,\n",
    "    validation_data=(X_test, y_test),\n",
    "    #     batch_size=128,\n",
    "    epochs=20,\n",
    "    verbose=1,\n",
    ")"
   ]
  },
  {
   "cell_type": "markdown",
   "metadata": {},
   "source": [
    "They're all nearly identical again. Weirdly enough the first onee took longer than the second"
   ]
  },
  {
   "cell_type": "code",
   "execution_count": null,
   "metadata": {},
   "outputs": [],
   "source": [
    "sgd = SGD(learning_rate=0.01)\n",
    "\n",
    "model = build_model(\n",
    "    input_dim=X_train.shape[1],\n",
    "    output_dim=y_train.shape[1],\n",
    "    layer_nodes=[128, 64],\n",
    "    activation_function=\"relu\",\n",
    "    output_function=\"softmax\",\n",
    ")\n",
    "\n",
    "model.compile(optimizer=sgd, loss=\"categorical_hinge\", metrics=[\"accuracy\"])\n",
    "\n",
    "model.fit(\n",
    "    X_train,\n",
    "    y_train,\n",
    "    validation_data=(X_test, y_test),\n",
    "    batch_size=128,\n",
    "    epochs=20,\n",
    "    verbose=1,\n",
    ")"
   ]
  },
  {
   "cell_type": "code",
   "execution_count": null,
   "metadata": {},
   "outputs": [],
   "source": [
    "sgd = SGD(learning_rate=100)\n",
    "\n",
    "model = build_model(\n",
    "    input_dim=X_train.shape[1],\n",
    "    output_dim=y_train.shape[1],\n",
    "    layer_nodes=[128, 64],\n",
    "    activation_function=\"relu\",\n",
    "    output_function=\"softmax\",\n",
    ")\n",
    "\n",
    "model.compile(optimizer=sgd, loss=\"categorical_hinge\", metrics=[\"accuracy\"])\n",
    "\n",
    "model.fit(\n",
    "    X_train,\n",
    "    y_train,\n",
    "    validation_data=(X_test, y_test),\n",
    "    batch_size=128,\n",
    "    epochs=20,\n",
    "    verbose=1,\n",
    ")"
   ]
  },
  {
   "cell_type": "code",
   "execution_count": 11,
   "metadata": {},
   "outputs": [
    {
     "name": "stdout",
     "output_type": "stream",
     "text": [
      "Train on 60000 samples, validate on 10000 samples\n",
      "Epoch 1/20\n",
      "60000/60000 [==============================] - 2s 27us/sample - loss: 1.0787 - accuracy: 0.1179 - val_loss: 1.0809 - val_accuracy: 0.1168\n",
      "Epoch 2/20\n",
      "60000/60000 [==============================] - 1s 9us/sample - loss: 1.0787 - accuracy: 0.1179 - val_loss: 1.0809 - val_accuracy: 0.1168\n",
      "Epoch 3/20\n",
      "60000/60000 [==============================] - 1s 10us/sample - loss: 1.0787 - accuracy: 0.1179 - val_loss: 1.0809 - val_accuracy: 0.1168\n",
      "Epoch 4/20\n",
      "60000/60000 [==============================] - 1s 9us/sample - loss: 1.0786 - accuracy: 0.1179 - val_loss: 1.0809 - val_accuracy: 0.1168\n",
      "Epoch 5/20\n",
      "60000/60000 [==============================] - 1s 9us/sample - loss: 1.0786 - accuracy: 0.1179 - val_loss: 1.0809 - val_accuracy: 0.1168\n",
      "Epoch 6/20\n",
      "60000/60000 [==============================] - 1s 9us/sample - loss: 1.0786 - accuracy: 0.1179 - val_loss: 1.0809 - val_accuracy: 0.1168\n",
      "Epoch 7/20\n",
      "60000/60000 [==============================] - 1s 10us/sample - loss: 1.0786 - accuracy: 0.1179 - val_loss: 1.0809 - val_accuracy: 0.1168\n",
      "Epoch 8/20\n",
      "60000/60000 [==============================] - 1s 9us/sample - loss: 1.0786 - accuracy: 0.1179 - val_loss: 1.0809 - val_accuracy: 0.1168\n",
      "Epoch 9/20\n",
      "60000/60000 [==============================] - 1s 9us/sample - loss: 1.0786 - accuracy: 0.1179 - val_loss: 1.0809 - val_accuracy: 0.1169\n",
      "Epoch 10/20\n",
      "60000/60000 [==============================] - 1s 9us/sample - loss: 1.0786 - accuracy: 0.1179 - val_loss: 1.0809 - val_accuracy: 0.1169\n",
      "Epoch 11/20\n",
      "60000/60000 [==============================] - 1s 9us/sample - loss: 1.0786 - accuracy: 0.1179 - val_loss: 1.0809 - val_accuracy: 0.1169\n",
      "Epoch 12/20\n",
      "60000/60000 [==============================] - 1s 9us/sample - loss: 1.0786 - accuracy: 0.1179 - val_loss: 1.0809 - val_accuracy: 0.1169\n",
      "Epoch 13/20\n",
      "60000/60000 [==============================] - 1s 9us/sample - loss: 1.0786 - accuracy: 0.1179 - val_loss: 1.0809 - val_accuracy: 0.1169\n",
      "Epoch 14/20\n",
      "60000/60000 [==============================] - 1s 10us/sample - loss: 1.0786 - accuracy: 0.1179 - val_loss: 1.0808 - val_accuracy: 0.1169\n",
      "Epoch 15/20\n",
      "60000/60000 [==============================] - 1s 9us/sample - loss: 1.0786 - accuracy: 0.1179 - val_loss: 1.0808 - val_accuracy: 0.1170\n",
      "Epoch 16/20\n",
      "60000/60000 [==============================] - 1s 9us/sample - loss: 1.0786 - accuracy: 0.1179 - val_loss: 1.0808 - val_accuracy: 0.1170\n",
      "Epoch 17/20\n",
      "60000/60000 [==============================] - 1s 9us/sample - loss: 1.0786 - accuracy: 0.1179 - val_loss: 1.0808 - val_accuracy: 0.1170\n",
      "Epoch 18/20\n",
      "60000/60000 [==============================] - 1s 10us/sample - loss: 1.0786 - accuracy: 0.1179 - val_loss: 1.0808 - val_accuracy: 0.1170\n",
      "Epoch 19/20\n",
      "60000/60000 [==============================] - 1s 10us/sample - loss: 1.0786 - accuracy: 0.1179 - val_loss: 1.0808 - val_accuracy: 0.1170\n",
      "Epoch 20/20\n",
      "60000/60000 [==============================] - 1s 9us/sample - loss: 1.0785 - accuracy: 0.1179 - val_loss: 1.0808 - val_accuracy: 0.1170\n"
     ]
    },
    {
     "data": {
      "text/plain": [
       "<tensorflow.python.keras.callbacks.History at 0x25ca17c4af0>"
      ]
     },
     "execution_count": 11,
     "metadata": {},
     "output_type": "execute_result"
    },
    {
     "data": {
      "application/javascript": [
       "\n",
       "            setTimeout(function() {\n",
       "                var nbb_cell_id = 11;\n",
       "                var nbb_unformatted_code = \"sgd = SGD(learning_rate=0.0000001)\\n\\nmodel = build_model(\\n    input_dim=X_train.shape[1],\\n    output_dim=y_train.shape[1],\\n    layer_nodes=[128, 64],\\n    activation_function=\\\"relu\\\",\\n    output_function=\\\"softmax\\\",\\n)\\n\\nmodel.compile(optimizer=sgd, loss=\\\"categorical_hinge\\\", metrics=[\\\"accuracy\\\"])\\n\\nmodel.fit(\\n    X_train,\\n    y_train,\\n    validation_data=(X_test, y_test),\\n    batch_size=128,\\n    epochs=20,\\n    verbose=1,\\n)\";\n",
       "                var nbb_formatted_code = \"sgd = SGD(learning_rate=0.0000001)\\n\\nmodel = build_model(\\n    input_dim=X_train.shape[1],\\n    output_dim=y_train.shape[1],\\n    layer_nodes=[128, 64],\\n    activation_function=\\\"relu\\\",\\n    output_function=\\\"softmax\\\",\\n)\\n\\nmodel.compile(optimizer=sgd, loss=\\\"categorical_hinge\\\", metrics=[\\\"accuracy\\\"])\\n\\nmodel.fit(\\n    X_train,\\n    y_train,\\n    validation_data=(X_test, y_test),\\n    batch_size=128,\\n    epochs=20,\\n    verbose=1,\\n)\";\n",
       "                var nbb_cells = Jupyter.notebook.get_cells();\n",
       "                for (var i = 0; i < nbb_cells.length; ++i) {\n",
       "                    if (nbb_cells[i].input_prompt_number == nbb_cell_id) {\n",
       "                        if (nbb_cells[i].get_text() == nbb_unformatted_code) {\n",
       "                             nbb_cells[i].set_text(nbb_formatted_code);\n",
       "                        }\n",
       "                        break;\n",
       "                    }\n",
       "                }\n",
       "            }, 500);\n",
       "            "
      ],
      "text/plain": [
       "<IPython.core.display.Javascript object>"
      ]
     },
     "metadata": {},
     "output_type": "display_data"
    }
   ],
   "source": [
    "sgd = SGD(learning_rate=0.0000001)\n",
    "\n",
    "model = build_model(\n",
    "    input_dim=X_train.shape[1],\n",
    "    output_dim=y_train.shape[1],\n",
    "    layer_nodes=[128, 64],\n",
    "    activation_function=\"relu\",\n",
    "    output_function=\"softmax\",\n",
    ")\n",
    "\n",
    "model.compile(optimizer=sgd, loss=\"categorical_hinge\", metrics=[\"accuracy\"])\n",
    "\n",
    "model.fit(\n",
    "    X_train,\n",
    "    y_train,\n",
    "    validation_data=(X_test, y_test),\n",
    "    batch_size=128,\n",
    "    epochs=20,\n",
    "    verbose=1,\n",
    ")"
   ]
  },
  {
   "cell_type": "markdown",
   "metadata": {},
   "source": [
    "0.01 was the best learning rate. 100 is way to high and actually diverges. .0000001 fails to converge in only 20 epochs. Would probably take many thousands to reach any type of a good result"
   ]
  }
 ],
 "metadata": {
  "kernelspec": {
   "display_name": "Python 3",
   "language": "python",
   "name": "python3"
  },
  "language_info": {
   "codemirror_mode": {
    "name": "ipython",
    "version": 3
   },
   "file_extension": ".py",
   "mimetype": "text/x-python",
   "name": "python",
   "nbconvert_exporter": "python",
   "pygments_lexer": "ipython3",
   "version": "3.8.5"
  }
 },
 "nbformat": 4,
 "nbformat_minor": 4
}
