{
 "cells": [
  {
   "cell_type": "markdown",
   "metadata": {
    "colab_type": "text",
    "id": "T-xOZ1mZ51O8"
   },
   "source": [
    "## Introduction to Deep Learning\n",
    "\n",
    "In this assignment, we will learn about deep learning and neural networks. Answer the questions below:"
   ]
  },
  {
   "cell_type": "markdown",
   "metadata": {
    "colab_type": "text",
    "id": "TUBtirr_51O-"
   },
   "source": [
    "#### 1. How do neural networks differ from linear models?"
   ]
  },
  {
   "cell_type": "markdown",
   "metadata": {
    "colab_type": "text",
    "id": "fGwHenMJ51O-"
   },
   "source": [
    "Neural Networks have multiple layers that generate different outputs\n",
    "\n"
   ]
  },
  {
   "cell_type": "markdown",
   "metadata": {
    "colab_type": "text",
    "id": "tJF-uwtC51O_"
   },
   "source": [
    "#### 2. Why do deep networks outperform shallow networks?"
   ]
  },
  {
   "cell_type": "markdown",
   "metadata": {
    "colab_type": "text",
    "id": "JMwwlwBH51PA"
   },
   "source": [
    "Greater likelihood of finding intricacies of large data sets\n",
    "\n"
   ]
  },
  {
   "cell_type": "markdown",
   "metadata": {
    "colab_type": "text",
    "id": "8asF2DFW51PA"
   },
   "source": [
    "#### 3. Why are dense layers called this way? What is a different name for them? Could we have a layer that is not dense?"
   ]
  },
  {
   "cell_type": "markdown",
   "metadata": {
    "colab_type": "text",
    "id": "05hZS0ea51PB"
   },
   "source": [
    "They recieve every output from the previous layer. They are under the umbrella of hidden layers. Yes there are multiple types of layers including recurrent and convolutional\n",
    "\n"
   ]
  },
  {
   "cell_type": "markdown",
   "metadata": {
    "colab_type": "text",
    "id": "FAPTWoY251PB"
   },
   "source": [
    "#### 4. Do neural networks tend to overfit less than other models? If so, how?"
   ]
  },
  {
   "cell_type": "markdown",
   "metadata": {
    "colab": {},
    "colab_type": "code",
    "id": "-qxTVXyc51PC"
   },
   "source": [
    "Not sure. My argument for yes would be that it's a combination of simple functions that allow the errors to be worked out naturally throughout the entire process. Overfitting in one chain of neurons would offset the overfitting of another chain. My answer for no would be more computational functions would fit to the specific shape of the data.\n",
    "\n"
   ]
  },
  {
   "cell_type": "markdown",
   "metadata": {
    "colab_type": "text",
    "id": "S0CALsKQ51PE"
   },
   "source": [
    "#### 5. Will a model with more hidden layers always have a more accurate prediction? Why or why not?"
   ]
  },
  {
   "cell_type": "markdown",
   "metadata": {
    "colab": {},
    "colab_type": "code",
    "id": "DzhstMjg51PF"
   },
   "source": [
    "Again, not sure. My gut is to say no. More hidden layers may just end up in more overfitting. Also, there may be a threshold as to what is considered \"more accurate.\" Like if the model is 0.5% more accurate do we really consider the accuracy to be higher?\n",
    "\n"
   ]
  },
  {
   "cell_type": "markdown",
   "metadata": {
    "colab_type": "text",
    "id": "2qxJk3Km51PG"
   },
   "source": [
    "#### 6. We generate a neural network for a dataset 10 features. If we have three layers, the first with 64 nodes and the second and third with 32 nodes, how many parameters do we need to estimate?"
   ]
  },
  {
   "cell_type": "code",
   "execution_count": 5,
   "metadata": {
    "colab": {},
    "colab_type": "code",
    "id": "kKbl9Xq251PH"
   },
   "outputs": [
    {
     "data": {
      "text/plain": [
       "3840"
      ]
     },
     "execution_count": 5,
     "metadata": {},
     "output_type": "execute_result"
    }
   ],
   "source": [
    "((10+1)*64)+((64+1)*32)+((32+1)*32)"
   ]
  },
  {
   "cell_type": "code",
   "execution_count": 6,
   "metadata": {},
   "outputs": [
    {
     "data": {
      "text/plain": [
       "3840"
      ]
     },
     "execution_count": 6,
     "metadata": {},
     "output_type": "execute_result"
    }
   ],
   "source": [
    "num_features = 10\n",
    "\n",
    "layer_1_nodes = 64\n",
    "\n",
    "layer_2_nodes = 32\n",
    "\n",
    "layer_3_nodes = 32\n",
    "\n",
    "layer_1_params = (num_features + 1) * layer_1_nodes\n",
    "\n",
    "layer_2_params = (layer_1_nodes + 1 ) * layer_2_nodes\n",
    "\n",
    "layer_3_params = (layer_2_nodes + 1 ) * layer_3_nodes\n",
    "\n",
    "layer_1_params + layer_2_params+layer_3_params\n"
   ]
  }
 ],
 "metadata": {
  "colab": {
   "collapsed_sections": [],
   "name": "Day 81 Lecture 1 Assignment.ipynb",
   "provenance": []
  },
  "kernelspec": {
   "display_name": "Python 3",
   "language": "python",
   "name": "python3"
  },
  "language_info": {
   "codemirror_mode": {
    "name": "ipython",
    "version": 3
   },
   "file_extension": ".py",
   "mimetype": "text/x-python",
   "name": "python",
   "nbconvert_exporter": "python",
   "pygments_lexer": "ipython3",
   "version": "3.8.5"
  }
 },
 "nbformat": 4,
 "nbformat_minor": 1
}
