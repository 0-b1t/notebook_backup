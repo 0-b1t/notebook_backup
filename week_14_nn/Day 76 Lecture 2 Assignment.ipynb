{
 "cells": [
  {
   "cell_type": "code",
   "execution_count": 1,
   "metadata": {},
   "outputs": [
    {
     "name": "stdout",
     "output_type": "stream",
     "text": [
      "Requirement already satisfied: tensorflow in c:\\programdata\\anaconda3\\lib\\site-packages (2.3.1)\n",
      "Requirement already satisfied: gast==0.3.3 in c:\\programdata\\anaconda3\\lib\\site-packages (from tensorflow) (0.3.3)\n",
      "Requirement already satisfied: protobuf>=3.9.2 in c:\\programdata\\anaconda3\\lib\\site-packages (from tensorflow) (3.13.0)\n",
      "Requirement already satisfied: absl-py>=0.7.0 in c:\\programdata\\anaconda3\\lib\\site-packages (from tensorflow) (0.10.0)\n",
      "Requirement already satisfied: grpcio>=1.8.6 in c:\\programdata\\anaconda3\\lib\\site-packages (from tensorflow) (1.32.0)\n",
      "Requirement already satisfied: termcolor>=1.1.0 in c:\\programdata\\anaconda3\\lib\\site-packages (from tensorflow) (1.1.0)\n",
      "Requirement already satisfied: tensorflow-estimator<2.4.0,>=2.3.0 in c:\\programdata\\anaconda3\\lib\\site-packages (from tensorflow) (2.3.0)\n",
      "Requirement already satisfied: google-pasta>=0.1.8 in c:\\programdata\\anaconda3\\lib\\site-packages (from tensorflow) (0.2.0)\n",
      "Requirement already satisfied: keras-preprocessing<1.2,>=1.1.1 in c:\\programdata\\anaconda3\\lib\\site-packages (from tensorflow) (1.1.2)\n",
      "Requirement already satisfied: wheel>=0.26 in c:\\programdata\\anaconda3\\lib\\site-packages (from tensorflow) (0.34.2)\n",
      "Requirement already satisfied: six>=1.12.0 in c:\\programdata\\anaconda3\\lib\\site-packages (from tensorflow) (1.14.0)\n",
      "Requirement already satisfied: astunparse==1.6.3 in c:\\programdata\\anaconda3\\lib\\site-packages (from tensorflow) (1.6.3)\n",
      "Requirement already satisfied: h5py<2.11.0,>=2.10.0 in c:\\programdata\\anaconda3\\lib\\site-packages (from tensorflow) (2.10.0)\n",
      "Requirement already satisfied: numpy<1.19.0,>=1.16.0 in c:\\programdata\\anaconda3\\lib\\site-packages (from tensorflow) (1.18.1)\n",
      "Requirement already satisfied: wrapt>=1.11.1 in c:\\programdata\\anaconda3\\lib\\site-packages (from tensorflow) (1.11.2)\n",
      "Requirement already satisfied: tensorboard<3,>=2.3.0 in c:\\programdata\\anaconda3\\lib\\site-packages (from tensorflow) (2.3.0)\n",
      "Requirement already satisfied: opt-einsum>=2.3.2 in c:\\programdata\\anaconda3\\lib\\site-packages (from tensorflow) (3.3.0)\n",
      "Requirement already satisfied: setuptools in c:\\programdata\\anaconda3\\lib\\site-packages (from protobuf>=3.9.2->tensorflow) (45.2.0.post20200210)\n",
      "Requirement already satisfied: google-auth-oauthlib<0.5,>=0.4.1 in c:\\programdata\\anaconda3\\lib\\site-packages (from tensorboard<3,>=2.3.0->tensorflow) (0.4.1)\n",
      "Requirement already satisfied: markdown>=2.6.8 in c:\\programdata\\anaconda3\\lib\\site-packages (from tensorboard<3,>=2.3.0->tensorflow) (3.3)\n",
      "Requirement already satisfied: google-auth<2,>=1.6.3 in c:\\programdata\\anaconda3\\lib\\site-packages (from tensorboard<3,>=2.3.0->tensorflow) (1.22.1)\n",
      "Requirement already satisfied: werkzeug>=0.11.15 in c:\\programdata\\anaconda3\\lib\\site-packages (from tensorboard<3,>=2.3.0->tensorflow) (1.0.0)\n",
      "Requirement already satisfied: tensorboard-plugin-wit>=1.6.0 in c:\\programdata\\anaconda3\\lib\\site-packages (from tensorboard<3,>=2.3.0->tensorflow) (1.7.0)\n",
      "Requirement already satisfied: requests<3,>=2.21.0 in c:\\programdata\\anaconda3\\lib\\site-packages (from tensorboard<3,>=2.3.0->tensorflow) (2.22.0)\n",
      "Requirement already satisfied: requests-oauthlib>=0.7.0 in c:\\programdata\\anaconda3\\lib\\site-packages (from google-auth-oauthlib<0.5,>=0.4.1->tensorboard<3,>=2.3.0->tensorflow) (1.3.0)\n",
      "Requirement already satisfied: importlib-metadata; python_version < \"3.8\" in c:\\programdata\\anaconda3\\lib\\site-packages (from markdown>=2.6.8->tensorboard<3,>=2.3.0->tensorflow) (1.5.0)\n",
      "Requirement already satisfied: pyasn1-modules>=0.2.1 in c:\\programdata\\anaconda3\\lib\\site-packages (from google-auth<2,>=1.6.3->tensorboard<3,>=2.3.0->tensorflow) (0.2.8)\n",
      "Requirement already satisfied: cachetools<5.0,>=2.0.0 in c:\\programdata\\anaconda3\\lib\\site-packages (from google-auth<2,>=1.6.3->tensorboard<3,>=2.3.0->tensorflow) (4.1.1)\n",
      "Requirement already satisfied: rsa<5,>=3.1.4; python_version >= \"3.5\" in c:\\programdata\\anaconda3\\lib\\site-packages (from google-auth<2,>=1.6.3->tensorboard<3,>=2.3.0->tensorflow) (4.6)\n",
      "Requirement already satisfied: idna<2.9,>=2.5 in c:\\programdata\\anaconda3\\lib\\site-packages (from requests<3,>=2.21.0->tensorboard<3,>=2.3.0->tensorflow) (2.8)\n",
      "Requirement already satisfied: urllib3!=1.25.0,!=1.25.1,<1.26,>=1.21.1 in c:\\programdata\\anaconda3\\lib\\site-packages (from requests<3,>=2.21.0->tensorboard<3,>=2.3.0->tensorflow) (1.25.8)\n",
      "Requirement already satisfied: chardet<3.1.0,>=3.0.2 in c:\\programdata\\anaconda3\\lib\\site-packages (from requests<3,>=2.21.0->tensorboard<3,>=2.3.0->tensorflow) (3.0.4)\n",
      "Requirement already satisfied: certifi>=2017.4.17 in c:\\programdata\\anaconda3\\lib\\site-packages (from requests<3,>=2.21.0->tensorboard<3,>=2.3.0->tensorflow) (2019.11.28)\n",
      "Requirement already satisfied: oauthlib>=3.0.0 in c:\\programdata\\anaconda3\\lib\\site-packages (from requests-oauthlib>=0.7.0->google-auth-oauthlib<0.5,>=0.4.1->tensorboard<3,>=2.3.0->tensorflow) (3.1.0)\n",
      "Requirement already satisfied: zipp>=0.5 in c:\\programdata\\anaconda3\\lib\\site-packages (from importlib-metadata; python_version < \"3.8\"->markdown>=2.6.8->tensorboard<3,>=2.3.0->tensorflow) (2.2.0)\n",
      "Requirement already satisfied: pyasn1<0.5.0,>=0.4.6 in c:\\programdata\\anaconda3\\lib\\site-packages (from pyasn1-modules>=0.2.1->google-auth<2,>=1.6.3->tensorboard<3,>=2.3.0->tensorflow) (0.4.8)\n",
      "Note: you may need to restart the kernel to use updated packages.\n"
     ]
    }
   ],
   "source": [
    "pip install tensorflow"
   ]
  },
  {
   "cell_type": "markdown",
   "metadata": {
    "colab_type": "text",
    "id": "z95-VM4TlJ5g"
   },
   "source": [
    "## Keras and TensorFlow\n",
    "\n",
    "In this assignment, we will learn about Keras and TensorFlow. We will create a neural network and measure the model's performance."
   ]
  },
  {
   "cell_type": "code",
   "execution_count": 16,
   "metadata": {
    "colab": {},
    "colab_type": "code",
    "id": "3B-HR0FKlJ5i"
   },
   "outputs": [],
   "source": [
    "import numpy as np\n",
    "import pandas as pd\n",
    "\n",
    "from sklearn.model_selection import train_test_split\n",
    "from sklearn.preprocessing import MinMaxScaler"
   ]
  },
  {
   "cell_type": "code",
   "execution_count": 3,
   "metadata": {
    "colab": {},
    "colab_type": "code",
    "id": "s3XUEm8JlJ5l"
   },
   "outputs": [],
   "source": [
    "cancer = pd.read_csv('data/breast_cancer.csv')"
   ]
  },
  {
   "cell_type": "code",
   "execution_count": 4,
   "metadata": {
    "colab": {},
    "colab_type": "code",
    "id": "UlUp5jhulJ5n",
    "outputId": "1451780f-a569-465b-8a8e-aef55230a209"
   },
   "outputs": [
    {
     "data": {
      "text/html": [
       "<div>\n",
       "<style scoped>\n",
       "    .dataframe tbody tr th:only-of-type {\n",
       "        vertical-align: middle;\n",
       "    }\n",
       "\n",
       "    .dataframe tbody tr th {\n",
       "        vertical-align: top;\n",
       "    }\n",
       "\n",
       "    .dataframe thead th {\n",
       "        text-align: right;\n",
       "    }\n",
       "</style>\n",
       "<table border=\"1\" class=\"dataframe\">\n",
       "  <thead>\n",
       "    <tr style=\"text-align: right;\">\n",
       "      <th></th>\n",
       "      <th>id</th>\n",
       "      <th>diagnosis</th>\n",
       "      <th>radius_mean</th>\n",
       "      <th>texture_mean</th>\n",
       "      <th>perimeter_mean</th>\n",
       "      <th>area_mean</th>\n",
       "      <th>smoothness_mean</th>\n",
       "      <th>compactness_mean</th>\n",
       "      <th>concavity_mean</th>\n",
       "      <th>concave points_mean</th>\n",
       "      <th>...</th>\n",
       "      <th>radius_worst</th>\n",
       "      <th>texture_worst</th>\n",
       "      <th>perimeter_worst</th>\n",
       "      <th>area_worst</th>\n",
       "      <th>smoothness_worst</th>\n",
       "      <th>compactness_worst</th>\n",
       "      <th>concavity_worst</th>\n",
       "      <th>concave points_worst</th>\n",
       "      <th>symmetry_worst</th>\n",
       "      <th>fractal_dimension_worst</th>\n",
       "    </tr>\n",
       "  </thead>\n",
       "  <tbody>\n",
       "    <tr>\n",
       "      <th>0</th>\n",
       "      <td>842302</td>\n",
       "      <td>M</td>\n",
       "      <td>17.99</td>\n",
       "      <td>10.38</td>\n",
       "      <td>122.80</td>\n",
       "      <td>1001.0</td>\n",
       "      <td>0.11840</td>\n",
       "      <td>0.27760</td>\n",
       "      <td>0.3001</td>\n",
       "      <td>0.14710</td>\n",
       "      <td>...</td>\n",
       "      <td>25.38</td>\n",
       "      <td>17.33</td>\n",
       "      <td>184.60</td>\n",
       "      <td>2019.0</td>\n",
       "      <td>0.1622</td>\n",
       "      <td>0.6656</td>\n",
       "      <td>0.7119</td>\n",
       "      <td>0.2654</td>\n",
       "      <td>0.4601</td>\n",
       "      <td>0.11890</td>\n",
       "    </tr>\n",
       "    <tr>\n",
       "      <th>1</th>\n",
       "      <td>842517</td>\n",
       "      <td>M</td>\n",
       "      <td>20.57</td>\n",
       "      <td>17.77</td>\n",
       "      <td>132.90</td>\n",
       "      <td>1326.0</td>\n",
       "      <td>0.08474</td>\n",
       "      <td>0.07864</td>\n",
       "      <td>0.0869</td>\n",
       "      <td>0.07017</td>\n",
       "      <td>...</td>\n",
       "      <td>24.99</td>\n",
       "      <td>23.41</td>\n",
       "      <td>158.80</td>\n",
       "      <td>1956.0</td>\n",
       "      <td>0.1238</td>\n",
       "      <td>0.1866</td>\n",
       "      <td>0.2416</td>\n",
       "      <td>0.1860</td>\n",
       "      <td>0.2750</td>\n",
       "      <td>0.08902</td>\n",
       "    </tr>\n",
       "    <tr>\n",
       "      <th>2</th>\n",
       "      <td>84300903</td>\n",
       "      <td>M</td>\n",
       "      <td>19.69</td>\n",
       "      <td>21.25</td>\n",
       "      <td>130.00</td>\n",
       "      <td>1203.0</td>\n",
       "      <td>0.10960</td>\n",
       "      <td>0.15990</td>\n",
       "      <td>0.1974</td>\n",
       "      <td>0.12790</td>\n",
       "      <td>...</td>\n",
       "      <td>23.57</td>\n",
       "      <td>25.53</td>\n",
       "      <td>152.50</td>\n",
       "      <td>1709.0</td>\n",
       "      <td>0.1444</td>\n",
       "      <td>0.4245</td>\n",
       "      <td>0.4504</td>\n",
       "      <td>0.2430</td>\n",
       "      <td>0.3613</td>\n",
       "      <td>0.08758</td>\n",
       "    </tr>\n",
       "    <tr>\n",
       "      <th>3</th>\n",
       "      <td>84348301</td>\n",
       "      <td>M</td>\n",
       "      <td>11.42</td>\n",
       "      <td>20.38</td>\n",
       "      <td>77.58</td>\n",
       "      <td>386.1</td>\n",
       "      <td>0.14250</td>\n",
       "      <td>0.28390</td>\n",
       "      <td>0.2414</td>\n",
       "      <td>0.10520</td>\n",
       "      <td>...</td>\n",
       "      <td>14.91</td>\n",
       "      <td>26.50</td>\n",
       "      <td>98.87</td>\n",
       "      <td>567.7</td>\n",
       "      <td>0.2098</td>\n",
       "      <td>0.8663</td>\n",
       "      <td>0.6869</td>\n",
       "      <td>0.2575</td>\n",
       "      <td>0.6638</td>\n",
       "      <td>0.17300</td>\n",
       "    </tr>\n",
       "    <tr>\n",
       "      <th>4</th>\n",
       "      <td>84358402</td>\n",
       "      <td>M</td>\n",
       "      <td>20.29</td>\n",
       "      <td>14.34</td>\n",
       "      <td>135.10</td>\n",
       "      <td>1297.0</td>\n",
       "      <td>0.10030</td>\n",
       "      <td>0.13280</td>\n",
       "      <td>0.1980</td>\n",
       "      <td>0.10430</td>\n",
       "      <td>...</td>\n",
       "      <td>22.54</td>\n",
       "      <td>16.67</td>\n",
       "      <td>152.20</td>\n",
       "      <td>1575.0</td>\n",
       "      <td>0.1374</td>\n",
       "      <td>0.2050</td>\n",
       "      <td>0.4000</td>\n",
       "      <td>0.1625</td>\n",
       "      <td>0.2364</td>\n",
       "      <td>0.07678</td>\n",
       "    </tr>\n",
       "  </tbody>\n",
       "</table>\n",
       "<p>5 rows × 32 columns</p>\n",
       "</div>"
      ],
      "text/plain": [
       "         id diagnosis  radius_mean  texture_mean  perimeter_mean  area_mean  \\\n",
       "0    842302         M        17.99         10.38          122.80     1001.0   \n",
       "1    842517         M        20.57         17.77          132.90     1326.0   \n",
       "2  84300903         M        19.69         21.25          130.00     1203.0   \n",
       "3  84348301         M        11.42         20.38           77.58      386.1   \n",
       "4  84358402         M        20.29         14.34          135.10     1297.0   \n",
       "\n",
       "   smoothness_mean  compactness_mean  concavity_mean  concave points_mean  \\\n",
       "0          0.11840           0.27760          0.3001              0.14710   \n",
       "1          0.08474           0.07864          0.0869              0.07017   \n",
       "2          0.10960           0.15990          0.1974              0.12790   \n",
       "3          0.14250           0.28390          0.2414              0.10520   \n",
       "4          0.10030           0.13280          0.1980              0.10430   \n",
       "\n",
       "   ...  radius_worst  texture_worst  perimeter_worst  area_worst  \\\n",
       "0  ...         25.38          17.33           184.60      2019.0   \n",
       "1  ...         24.99          23.41           158.80      1956.0   \n",
       "2  ...         23.57          25.53           152.50      1709.0   \n",
       "3  ...         14.91          26.50            98.87       567.7   \n",
       "4  ...         22.54          16.67           152.20      1575.0   \n",
       "\n",
       "   smoothness_worst  compactness_worst  concavity_worst  concave points_worst  \\\n",
       "0            0.1622             0.6656           0.7119                0.2654   \n",
       "1            0.1238             0.1866           0.2416                0.1860   \n",
       "2            0.1444             0.4245           0.4504                0.2430   \n",
       "3            0.2098             0.8663           0.6869                0.2575   \n",
       "4            0.1374             0.2050           0.4000                0.1625   \n",
       "\n",
       "   symmetry_worst  fractal_dimension_worst  \n",
       "0          0.4601                  0.11890  \n",
       "1          0.2750                  0.08902  \n",
       "2          0.3613                  0.08758  \n",
       "3          0.6638                  0.17300  \n",
       "4          0.2364                  0.07678  \n",
       "\n",
       "[5 rows x 32 columns]"
      ]
     },
     "execution_count": 4,
     "metadata": {},
     "output_type": "execute_result"
    }
   ],
   "source": [
    "cancer.head()"
   ]
  },
  {
   "cell_type": "markdown",
   "metadata": {
    "colab_type": "text",
    "id": "wYZLhYV8lJ5q"
   },
   "source": [
    "We'll start with some data cleaning. First remove the id column since we have no use for it. Then check for missing data and remove all rows containing missing data."
   ]
  },
  {
   "cell_type": "code",
   "execution_count": 5,
   "metadata": {
    "colab": {},
    "colab_type": "code",
    "id": "Dc4wwsNOlJ5q"
   },
   "outputs": [],
   "source": [
    "# Answer below:\n",
    "cancer = cancer.drop('id',1)\n"
   ]
  },
  {
   "cell_type": "code",
   "execution_count": 7,
   "metadata": {},
   "outputs": [
    {
     "data": {
      "text/plain": [
       "diagnosis                  0.0\n",
       "radius_mean                0.0\n",
       "texture_mean               0.0\n",
       "perimeter_mean             0.0\n",
       "area_mean                  0.0\n",
       "smoothness_mean            0.0\n",
       "compactness_mean           0.0\n",
       "concavity_mean             0.0\n",
       "concave points_mean        0.0\n",
       "symmetry_mean              0.0\n",
       "fractal_dimension_mean     0.0\n",
       "radius_se                  0.0\n",
       "texture_se                 0.0\n",
       "perimeter_se               0.0\n",
       "area_se                    0.0\n",
       "smoothness_se              0.0\n",
       "compactness_se             0.0\n",
       "concavity_se               0.0\n",
       "concave points_se          0.0\n",
       "symmetry_se                0.0\n",
       "fractal_dimension_se       0.0\n",
       "radius_worst               0.0\n",
       "texture_worst              0.0\n",
       "perimeter_worst            0.0\n",
       "area_worst                 0.0\n",
       "smoothness_worst           0.0\n",
       "compactness_worst          0.0\n",
       "concavity_worst            0.0\n",
       "concave points_worst       0.0\n",
       "symmetry_worst             0.0\n",
       "fractal_dimension_worst    0.0\n",
       "dtype: float64"
      ]
     },
     "execution_count": 7,
     "metadata": {},
     "output_type": "execute_result"
    }
   ],
   "source": [
    "cancer.isna().mean()"
   ]
  },
  {
   "cell_type": "markdown",
   "metadata": {
    "colab_type": "text",
    "id": "vS4Ez5PblJ5s"
   },
   "source": [
    "The diagnosis columnn is our target variable. How many possible values are in this variable?"
   ]
  },
  {
   "cell_type": "code",
   "execution_count": 8,
   "metadata": {
    "colab": {},
    "colab_type": "code",
    "id": "z9Y8CrdblJ5t"
   },
   "outputs": [
    {
     "data": {
      "text/plain": [
       "B    357\n",
       "M    212\n",
       "Name: diagnosis, dtype: int64"
      ]
     },
     "execution_count": 8,
     "metadata": {},
     "output_type": "execute_result"
    }
   ],
   "source": [
    "# Answer below:\n",
    "cancer['diagnosis'].value_counts()\n"
   ]
  },
  {
   "cell_type": "markdown",
   "metadata": {
    "colab_type": "text",
    "id": "4HIxH-KzlJ5u"
   },
   "source": [
    "Create one or multiple dummy variables for this column and store this encoded data in a numpy array called `target`"
   ]
  },
  {
   "cell_type": "code",
   "execution_count": null,
   "metadata": {},
   "outputs": [],
   "source": [
    "from tensorflow.keras.utils import to_categorical"
   ]
  },
  {
   "cell_type": "code",
   "execution_count": 10,
   "metadata": {
    "colab": {},
    "colab_type": "code",
    "id": "jcPTpi5glJ5v"
   },
   "outputs": [],
   "source": [
    "# Answer below:\n",
    "cancer['target'] = (cancer['diagnosis']=='M').astype(int)"
   ]
  },
  {
   "cell_type": "code",
   "execution_count": 78,
   "metadata": {},
   "outputs": [],
   "source": [
    "# target = to_categorical(cancer['target'],2) performs worse. probs because of metrics"
   ]
  },
  {
   "cell_type": "code",
   "execution_count": 91,
   "metadata": {},
   "outputs": [],
   "source": [
    "target = cancer[['target']]"
   ]
  },
  {
   "cell_type": "markdown",
   "metadata": {
    "colab_type": "text",
    "id": "nTeGX95alJ5x"
   },
   "source": [
    "When looking at the columm names, you may have noticed that for each attribute we have a mean of the attribute, a standard error, and a worst value. Let's create a list of column names for only the means columns. Use this list to create a new dataframe containing only the means columns."
   ]
  },
  {
   "cell_type": "code",
   "execution_count": 92,
   "metadata": {
    "colab": {},
    "colab_type": "code",
    "id": "bPO8gG35lJ5x"
   },
   "outputs": [],
   "source": [
    "# Answer below:\n",
    "\n",
    "mean_cols = cancer.filter(like='mean').columns"
   ]
  },
  {
   "cell_type": "markdown",
   "metadata": {
    "colab_type": "text",
    "id": "oBuO5BOIlJ51"
   },
   "source": [
    "Split the data into train and test samples. The test sample should contain 20% of the data."
   ]
  },
  {
   "cell_type": "code",
   "execution_count": 93,
   "metadata": {
    "colab": {},
    "colab_type": "code",
    "id": "mv0hKnzklJ51"
   },
   "outputs": [],
   "source": [
    "# Answer below\n",
    "X = cancer[mean_cols]\n",
    "y = target\n",
    "\n",
    "X_train, X_test, y_train, y_test = train_test_split(X,y, test_size=0.2, random_state=34)"
   ]
  },
  {
   "cell_type": "markdown",
   "metadata": {
    "colab_type": "text",
    "id": "h0X26vkklJ5z"
   },
   "source": [
    "Now we'll use the minmax scaler to ensure that all columns have values between zero and 1. Apply this transformations for all columns to be used in the prediction."
   ]
  },
  {
   "cell_type": "code",
   "execution_count": 94,
   "metadata": {
    "colab": {},
    "colab_type": "code",
    "id": "febZFy_tlJ5z"
   },
   "outputs": [],
   "source": [
    "# Answer below:\n",
    "scaler = MinMaxScaler()\n",
    "\n",
    "scaled_X_train = scaler.fit_transform(X_train)\n",
    "scaled_X_test = scaler.transform(X_test)"
   ]
  },
  {
   "cell_type": "markdown",
   "metadata": {
    "colab_type": "text",
    "id": "Z4gNH9_slJ53"
   },
   "source": [
    "Now we can proceed with our model. In the cell below, import the `Sequential`, and `Dense` functions."
   ]
  },
  {
   "cell_type": "code",
   "execution_count": 95,
   "metadata": {
    "colab": {},
    "colab_type": "code",
    "id": "0EFVNpW3lJ53"
   },
   "outputs": [],
   "source": [
    "# Answer below:\n",
    "from tensorflow.keras.models import Sequential\n",
    "from tensorflow.keras.layers import Dense"
   ]
  },
  {
   "cell_type": "markdown",
   "metadata": {
    "colab_type": "text",
    "id": "AhrP-ICtlJ55"
   },
   "source": [
    "create a model that takes the training data and predicts the target variable. The model will have 3 layers. The input layer should be of unit size 12 and the hidden layer will be of size 10. The output layer size will be determined by the size of the target variable. Use the sigmoid activation function for the last layer"
   ]
  },
  {
   "cell_type": "code",
   "execution_count": 96,
   "metadata": {},
   "outputs": [
    {
     "data": {
      "text/plain": [
       "10"
      ]
     },
     "execution_count": 96,
     "metadata": {},
     "output_type": "execute_result"
    }
   ],
   "source": [
    " X.shape[1]"
   ]
  },
  {
   "cell_type": "code",
   "execution_count": 97,
   "metadata": {
    "colab": {},
    "colab_type": "code",
    "id": "ni5BKZqYlJ55"
   },
   "outputs": [],
   "source": [
    "# Answer below\n",
    "input_dim = X.shape[1]\n",
    "output_dim = y.shape[1]"
   ]
  },
  {
   "cell_type": "code",
   "execution_count": 98,
   "metadata": {},
   "outputs": [],
   "source": [
    "model=Sequential()\n",
    "model.add(Dense(12, input_dim = input_dim, activation='relu'))\n",
    "model.add(Dense(10, activation='relu'))\n",
    "model.add(Dense(output_dim, activation='sigmoid'))"
   ]
  },
  {
   "cell_type": "code",
   "execution_count": 99,
   "metadata": {},
   "outputs": [
    {
     "name": "stdout",
     "output_type": "stream",
     "text": [
      "Model: \"sequential_4\"\n",
      "_________________________________________________________________\n",
      "Layer (type)                 Output Shape              Param #   \n",
      "=================================================================\n",
      "dense_12 (Dense)             (None, 12)                132       \n",
      "_________________________________________________________________\n",
      "dense_13 (Dense)             (None, 10)                130       \n",
      "_________________________________________________________________\n",
      "dense_14 (Dense)             (None, 1)                 11        \n",
      "=================================================================\n",
      "Total params: 273\n",
      "Trainable params: 273\n",
      "Non-trainable params: 0\n",
      "_________________________________________________________________\n"
     ]
    }
   ],
   "source": [
    "model.summary()"
   ]
  },
  {
   "cell_type": "markdown",
   "metadata": {
    "colab_type": "text",
    "id": "VH4UZYIqlJ57"
   },
   "source": [
    "Compile and fit the model. Use the adam optimizer and the binary crossentropy loss function. Train the model for 200 epochs with a batch size of 80. Make sure touse the test data into the model as well."
   ]
  },
  {
   "cell_type": "code",
   "execution_count": 100,
   "metadata": {
    "colab": {},
    "colab_type": "code",
    "id": "Qy3HSNm6lJ58"
   },
   "outputs": [],
   "source": [
    "# Answer below:\n",
    "model.compile(optimizer='sgd', loss='binary_crossentropy', metrics=['accuracy'])\n"
   ]
  },
  {
   "cell_type": "code",
   "execution_count": 101,
   "metadata": {},
   "outputs": [
    {
     "name": "stdout",
     "output_type": "stream",
     "text": [
      "Epoch 1/200\n",
      "6/6 [==============================] - 0s 665us/step - loss: 0.7194 - accuracy: 0.3824\n",
      "Epoch 2/200\n",
      "6/6 [==============================] - 0s 661us/step - loss: 0.7145 - accuracy: 0.3824\n",
      "Epoch 3/200\n",
      "6/6 [==============================] - 0s 725us/step - loss: 0.7101 - accuracy: 0.3824\n",
      "Epoch 4/200\n",
      "6/6 [==============================] - 0s 831us/step - loss: 0.7060 - accuracy: 0.3824\n",
      "Epoch 5/200\n",
      "6/6 [==============================] - 0s 721us/step - loss: 0.7023 - accuracy: 0.3824\n",
      "Epoch 6/200\n",
      "6/6 [==============================] - 0s 499us/step - loss: 0.6990 - accuracy: 0.3824\n",
      "Epoch 7/200\n",
      "6/6 [==============================] - 0s 997us/step - loss: 0.6958 - accuracy: 0.3890\n",
      "Epoch 8/200\n",
      "6/6 [==============================] - 0s 658us/step - loss: 0.6929 - accuracy: 0.4000\n",
      "Epoch 9/200\n",
      "6/6 [==============================] - 0s 662us/step - loss: 0.6901 - accuracy: 0.4176\n",
      "Epoch 10/200\n",
      "6/6 [==============================] - 0s 665us/step - loss: 0.6875 - accuracy: 0.4593\n",
      "Epoch 11/200\n",
      "6/6 [==============================] - 0s 665us/step - loss: 0.6849 - accuracy: 0.5275\n",
      "Epoch 12/200\n",
      "6/6 [==============================] - 0s 831us/step - loss: 0.6826 - accuracy: 0.6066\n",
      "Epoch 13/200\n",
      "6/6 [==============================] - 0s 673us/step - loss: 0.6805 - accuracy: 0.6879\n",
      "Epoch 14/200\n",
      "6/6 [==============================] - 0s 1ms/step - loss: 0.6784 - accuracy: 0.7516\n",
      "Epoch 15/200\n",
      "6/6 [==============================] - 0s 686us/step - loss: 0.6765 - accuracy: 0.7934\n",
      "Epoch 16/200\n",
      "6/6 [==============================] - 0s 831us/step - loss: 0.6746 - accuracy: 0.7978\n",
      "Epoch 17/200\n",
      "6/6 [==============================] - 0s 499us/step - loss: 0.6730 - accuracy: 0.8132\n",
      "Epoch 18/200\n",
      "6/6 [==============================] - 0s 1ms/step - loss: 0.6714 - accuracy: 0.8066\n",
      "Epoch 19/200\n",
      "6/6 [==============================] - 0s 831us/step - loss: 0.6698 - accuracy: 0.7934\n",
      "Epoch 20/200\n",
      "6/6 [==============================] - 0s 1ms/step - loss: 0.6684 - accuracy: 0.7846\n",
      "Epoch 21/200\n",
      "6/6 [==============================] - 0s 1ms/step - loss: 0.6670 - accuracy: 0.7714\n",
      "Epoch 22/200\n",
      "6/6 [==============================] - 0s 665us/step - loss: 0.6657 - accuracy: 0.7648\n",
      "Epoch 23/200\n",
      "6/6 [==============================] - 0s 831us/step - loss: 0.6645 - accuracy: 0.7451\n",
      "Epoch 24/200\n",
      "6/6 [==============================] - 0s 1ms/step - loss: 0.6633 - accuracy: 0.7385\n",
      "Epoch 25/200\n",
      "6/6 [==============================] - 0s 831us/step - loss: 0.6621 - accuracy: 0.7363\n",
      "Epoch 26/200\n",
      "6/6 [==============================] - 0s 665us/step - loss: 0.6610 - accuracy: 0.7209\n",
      "Epoch 27/200\n",
      "6/6 [==============================] - 0s 907us/step - loss: 0.6600 - accuracy: 0.7099\n",
      "Epoch 28/200\n",
      "6/6 [==============================] - 0s 662us/step - loss: 0.6590 - accuracy: 0.7055\n",
      "Epoch 29/200\n",
      "6/6 [==============================] - 0s 665us/step - loss: 0.6580 - accuracy: 0.6945\n",
      "Epoch 30/200\n",
      "6/6 [==============================] - 0s 997us/step - loss: 0.6571 - accuracy: 0.6901\n",
      "Epoch 31/200\n",
      "6/6 [==============================] - 0s 553us/step - loss: 0.6561 - accuracy: 0.6835\n",
      "Epoch 32/200\n",
      "6/6 [==============================] - 0s 997us/step - loss: 0.6552 - accuracy: 0.6879\n",
      "Epoch 33/200\n",
      "6/6 [==============================] - 0s 623us/step - loss: 0.6543 - accuracy: 0.6791\n",
      "Epoch 34/200\n",
      "6/6 [==============================] - 0s 665us/step - loss: 0.6534 - accuracy: 0.6725\n",
      "Epoch 35/200\n",
      "6/6 [==============================] - 0s 665us/step - loss: 0.6525 - accuracy: 0.6769\n",
      "Epoch 36/200\n",
      "6/6 [==============================] - 0s 499us/step - loss: 0.6516 - accuracy: 0.6769\n",
      "Epoch 37/200\n",
      "6/6 [==============================] - 0s 732us/step - loss: 0.6508 - accuracy: 0.6769\n",
      "Epoch 38/200\n",
      "6/6 [==============================] - 0s 499us/step - loss: 0.6499 - accuracy: 0.6659\n",
      "Epoch 39/200\n",
      "6/6 [==============================] - 0s 997us/step - loss: 0.6491 - accuracy: 0.6681\n",
      "Epoch 40/200\n",
      "6/6 [==============================] - 0s 694us/step - loss: 0.6482 - accuracy: 0.6681\n",
      "Epoch 41/200\n",
      "6/6 [==============================] - 0s 665us/step - loss: 0.6474 - accuracy: 0.6659\n",
      "Epoch 42/200\n",
      "6/6 [==============================] - 0s 665us/step - loss: 0.6465 - accuracy: 0.6659\n",
      "Epoch 43/200\n",
      "6/6 [==============================] - 0s 665us/step - loss: 0.6457 - accuracy: 0.6681\n",
      "Epoch 44/200\n",
      "6/6 [==============================] - 0s 855us/step - loss: 0.6449 - accuracy: 0.6659\n",
      "Epoch 45/200\n",
      "6/6 [==============================] - 0s 519us/step - loss: 0.6441 - accuracy: 0.6659\n",
      "Epoch 46/200\n",
      "6/6 [==============================] - 0s 997us/step - loss: 0.6433 - accuracy: 0.6659\n",
      "Epoch 47/200\n",
      "6/6 [==============================] - 0s 665us/step - loss: 0.6425 - accuracy: 0.6659\n",
      "Epoch 48/200\n",
      "6/6 [==============================] - 0s 734us/step - loss: 0.6416 - accuracy: 0.6681\n",
      "Epoch 49/200\n",
      "6/6 [==============================] - 0s 665us/step - loss: 0.6408 - accuracy: 0.6659\n",
      "Epoch 50/200\n",
      "6/6 [==============================] - 0s 665us/step - loss: 0.6400 - accuracy: 0.6659\n",
      "Epoch 51/200\n",
      "6/6 [==============================] - 0s 821us/step - loss: 0.6392 - accuracy: 0.6659\n",
      "Epoch 52/200\n",
      "6/6 [==============================] - 0s 665us/step - loss: 0.6384 - accuracy: 0.6659\n",
      "Epoch 53/200\n",
      "6/6 [==============================] - 0s 831us/step - loss: 0.6376 - accuracy: 0.6681\n",
      "Epoch 54/200\n",
      "6/6 [==============================] - 0s 1ms/step - loss: 0.6368 - accuracy: 0.6681\n",
      "Epoch 55/200\n",
      "6/6 [==============================] - 0s 1ms/step - loss: 0.6360 - accuracy: 0.6681\n",
      "Epoch 56/200\n",
      "6/6 [==============================] - 0s 997us/step - loss: 0.6352 - accuracy: 0.6681\n",
      "Epoch 57/200\n",
      "6/6 [==============================] - 0s 499us/step - loss: 0.6343 - accuracy: 0.6725\n",
      "Epoch 58/200\n",
      "6/6 [==============================] - 0s 665us/step - loss: 0.6335 - accuracy: 0.6703\n",
      "Epoch 59/200\n",
      "6/6 [==============================] - 0s 729us/step - loss: 0.6327 - accuracy: 0.6725\n",
      "Epoch 60/200\n",
      "6/6 [==============================] - 0s 672us/step - loss: 0.6319 - accuracy: 0.6725\n",
      "Epoch 61/200\n",
      "6/6 [==============================] - 0s 831us/step - loss: 0.6310 - accuracy: 0.6725\n",
      "Epoch 62/200\n",
      "6/6 [==============================] - 0s 838us/step - loss: 0.6302 - accuracy: 0.6747\n",
      "Epoch 63/200\n",
      "6/6 [==============================] - 0s 2ms/step - loss: 0.6293 - accuracy: 0.6769\n",
      "Epoch 64/200\n",
      "6/6 [==============================] - 0s 1ms/step - loss: 0.6284 - accuracy: 0.6769\n",
      "Epoch 65/200\n",
      "6/6 [==============================] - 0s 665us/step - loss: 0.6276 - accuracy: 0.6813\n",
      "Epoch 66/200\n",
      "6/6 [==============================] - 0s 831us/step - loss: 0.6267 - accuracy: 0.6879\n",
      "Epoch 67/200\n",
      "6/6 [==============================] - 0s 2ms/step - loss: 0.6258 - accuracy: 0.6901\n",
      "Epoch 68/200\n",
      "6/6 [==============================] - 0s 664us/step - loss: 0.6249 - accuracy: 0.6901\n",
      "Epoch 69/200\n",
      "6/6 [==============================] - 0s 997us/step - loss: 0.6240 - accuracy: 0.6923\n",
      "Epoch 70/200\n",
      "6/6 [==============================] - 0s 1ms/step - loss: 0.6231 - accuracy: 0.6967\n",
      "Epoch 71/200\n",
      "6/6 [==============================] - 0s 869us/step - loss: 0.6221 - accuracy: 0.6989\n",
      "Epoch 72/200\n",
      "6/6 [==============================] - 0s 997us/step - loss: 0.6212 - accuracy: 0.7033\n",
      "Epoch 73/200\n",
      "6/6 [==============================] - 0s 831us/step - loss: 0.6203 - accuracy: 0.7033\n",
      "Epoch 74/200\n",
      "6/6 [==============================] - 0s 665us/step - loss: 0.6193 - accuracy: 0.7055\n",
      "Epoch 75/200\n",
      "6/6 [==============================] - 0s 672us/step - loss: 0.6184 - accuracy: 0.7099\n",
      "Epoch 76/200\n",
      "6/6 [==============================] - 0s 499us/step - loss: 0.6174 - accuracy: 0.7165\n",
      "Epoch 77/200\n",
      "6/6 [==============================] - 0s 831us/step - loss: 0.6164 - accuracy: 0.7165\n",
      "Epoch 78/200\n",
      "6/6 [==============================] - 0s 665us/step - loss: 0.6155 - accuracy: 0.7165\n",
      "Epoch 79/200\n",
      "6/6 [==============================] - 0s 1ms/step - loss: 0.6146 - accuracy: 0.7187\n",
      "Epoch 80/200\n",
      "6/6 [==============================] - 0s 664us/step - loss: 0.6135 - accuracy: 0.7253\n",
      "Epoch 81/200\n",
      "6/6 [==============================] - 0s 686us/step - loss: 0.6125 - accuracy: 0.7253\n",
      "Epoch 82/200\n",
      "6/6 [==============================] - 0s 665us/step - loss: 0.6115 - accuracy: 0.7297\n",
      "Epoch 83/200\n",
      "6/6 [==============================] - 0s 1ms/step - loss: 0.6104 - accuracy: 0.7319\n",
      "Epoch 84/200\n",
      "6/6 [==============================] - 0s 832us/step - loss: 0.6094 - accuracy: 0.7385\n",
      "Epoch 85/200\n",
      "6/6 [==============================] - 0s 931us/step - loss: 0.6083 - accuracy: 0.7429\n",
      "Epoch 86/200\n",
      "6/6 [==============================] - 0s 665us/step - loss: 0.6073 - accuracy: 0.7451\n",
      "Epoch 87/200\n",
      "6/6 [==============================] - 0s 1ms/step - loss: 0.6062 - accuracy: 0.7473\n",
      "Epoch 88/200\n",
      "6/6 [==============================] - 0s 831us/step - loss: 0.6052 - accuracy: 0.7538\n",
      "Epoch 89/200\n",
      "6/6 [==============================] - 0s 665us/step - loss: 0.6041 - accuracy: 0.7626\n",
      "Epoch 90/200\n",
      "6/6 [==============================] - 0s 665us/step - loss: 0.6030 - accuracy: 0.7670\n",
      "Epoch 91/200\n",
      "6/6 [==============================] - 0s 2ms/step - loss: 0.6019 - accuracy: 0.7692\n",
      "Epoch 92/200\n",
      "6/6 [==============================] - 0s 831us/step - loss: 0.6008 - accuracy: 0.7692\n",
      "Epoch 93/200\n",
      "6/6 [==============================] - 0s 665us/step - loss: 0.5997 - accuracy: 0.7758\n",
      "Epoch 94/200\n",
      "6/6 [==============================] - 0s 499us/step - loss: 0.5986 - accuracy: 0.7736\n",
      "Epoch 95/200\n",
      "6/6 [==============================] - 0s 2ms/step - loss: 0.5974 - accuracy: 0.7758\n",
      "Epoch 96/200\n",
      "6/6 [==============================] - 0s 831us/step - loss: 0.5963 - accuracy: 0.7758\n",
      "Epoch 97/200\n",
      "6/6 [==============================] - 0s 499us/step - loss: 0.5951 - accuracy: 0.7868\n",
      "Epoch 98/200\n",
      "6/6 [==============================] - 0s 665us/step - loss: 0.5939 - accuracy: 0.7824\n",
      "Epoch 99/200\n",
      "6/6 [==============================] - 0s 1ms/step - loss: 0.5927 - accuracy: 0.7934\n",
      "Epoch 100/200\n",
      "6/6 [==============================] - 0s 665us/step - loss: 0.5915 - accuracy: 0.7934\n",
      "Epoch 101/200\n",
      "6/6 [==============================] - 0s 499us/step - loss: 0.5903 - accuracy: 0.7934\n",
      "Epoch 102/200\n",
      "6/6 [==============================] - 0s 665us/step - loss: 0.5890 - accuracy: 0.7978\n",
      "Epoch 103/200\n",
      "6/6 [==============================] - 0s 998us/step - loss: 0.5878 - accuracy: 0.8000\n",
      "Epoch 104/200\n",
      "6/6 [==============================] - 0s 997us/step - loss: 0.5866 - accuracy: 0.8000\n",
      "Epoch 105/200\n",
      "6/6 [==============================] - 0s 665us/step - loss: 0.5853 - accuracy: 0.8022\n",
      "Epoch 106/200\n",
      "6/6 [==============================] - 0s 2ms/step - loss: 0.5840 - accuracy: 0.8044\n",
      "Epoch 107/200\n",
      "6/6 [==============================] - 0s 665us/step - loss: 0.5828 - accuracy: 0.8044\n",
      "Epoch 108/200\n",
      "6/6 [==============================] - 0s 831us/step - loss: 0.5814 - accuracy: 0.8088\n",
      "Epoch 109/200\n",
      "6/6 [==============================] - 0s 831us/step - loss: 0.5801 - accuracy: 0.8132\n",
      "Epoch 110/200\n",
      "6/6 [==============================] - 0s 1ms/step - loss: 0.5788 - accuracy: 0.8176\n",
      "Epoch 111/200\n",
      "6/6 [==============================] - 0s 499us/step - loss: 0.5774 - accuracy: 0.8176\n",
      "Epoch 112/200\n",
      "6/6 [==============================] - 0s 499us/step - loss: 0.5761 - accuracy: 0.8220\n",
      "Epoch 113/200\n",
      "6/6 [==============================] - 0s 831us/step - loss: 0.5748 - accuracy: 0.8330\n",
      "Epoch 114/200\n",
      "6/6 [==============================] - 0s 1ms/step - loss: 0.5734 - accuracy: 0.8374\n",
      "Epoch 115/200\n",
      "6/6 [==============================] - 0s 773us/step - loss: 0.5720 - accuracy: 0.8352\n",
      "Epoch 116/200\n",
      "6/6 [==============================] - 0s 499us/step - loss: 0.5706 - accuracy: 0.8374\n",
      "Epoch 117/200\n",
      "6/6 [==============================] - 0s 831us/step - loss: 0.5692 - accuracy: 0.8418\n",
      "Epoch 118/200\n",
      "6/6 [==============================] - 0s 749us/step - loss: 0.5677 - accuracy: 0.8505\n",
      "Epoch 119/200\n",
      "6/6 [==============================] - 0s 775us/step - loss: 0.5663 - accuracy: 0.8527\n",
      "Epoch 120/200\n",
      "6/6 [==============================] - 0s 667us/step - loss: 0.5648 - accuracy: 0.8571\n",
      "Epoch 121/200\n",
      "6/6 [==============================] - 0s 831us/step - loss: 0.5634 - accuracy: 0.8571\n",
      "Epoch 122/200\n",
      "6/6 [==============================] - 0s 665us/step - loss: 0.5619 - accuracy: 0.8615\n",
      "Epoch 123/200\n",
      "6/6 [==============================] - 0s 499us/step - loss: 0.5604 - accuracy: 0.8659\n",
      "Epoch 124/200\n",
      "6/6 [==============================] - 0s 667us/step - loss: 0.5589 - accuracy: 0.8659\n",
      "Epoch 125/200\n",
      "6/6 [==============================] - 0s 536us/step - loss: 0.5574 - accuracy: 0.8659\n",
      "Epoch 126/200\n",
      "6/6 [==============================] - 0s 831us/step - loss: 0.5559 - accuracy: 0.8659\n",
      "Epoch 127/200\n",
      "6/6 [==============================] - 0s 499us/step - loss: 0.5543 - accuracy: 0.8659\n",
      "Epoch 128/200\n",
      "6/6 [==============================] - 0s 1ms/step - loss: 0.5529 - accuracy: 0.8703\n",
      "Epoch 129/200\n",
      "6/6 [==============================] - 0s 831us/step - loss: 0.5513 - accuracy: 0.8681\n",
      "Epoch 130/200\n",
      "6/6 [==============================] - 0s 997us/step - loss: 0.5497 - accuracy: 0.8725\n",
      "Epoch 131/200\n",
      "6/6 [==============================] - 0s 665us/step - loss: 0.5481 - accuracy: 0.8747\n",
      "Epoch 132/200\n",
      "6/6 [==============================] - 0s 665us/step - loss: 0.5465 - accuracy: 0.8747\n",
      "Epoch 133/200\n",
      "6/6 [==============================] - 0s 750us/step - loss: 0.5449 - accuracy: 0.8769\n",
      "Epoch 134/200\n",
      "6/6 [==============================] - 0s 497us/step - loss: 0.5433 - accuracy: 0.8813\n",
      "Epoch 135/200\n",
      "6/6 [==============================] - 0s 831us/step - loss: 0.5417 - accuracy: 0.8879\n",
      "Epoch 136/200\n",
      "6/6 [==============================] - 0s 665us/step - loss: 0.5401 - accuracy: 0.8857\n",
      "Epoch 137/200\n",
      "6/6 [==============================] - 0s 665us/step - loss: 0.5385 - accuracy: 0.8945\n",
      "Epoch 138/200\n",
      "6/6 [==============================] - 0s 1ms/step - loss: 0.5368 - accuracy: 0.8945\n",
      "Epoch 139/200\n",
      "6/6 [==============================] - 0s 919us/step - loss: 0.5352 - accuracy: 0.8945\n",
      "Epoch 140/200\n",
      "6/6 [==============================] - 0s 831us/step - loss: 0.5335 - accuracy: 0.8967\n",
      "Epoch 141/200\n",
      "6/6 [==============================] - 0s 831us/step - loss: 0.5318 - accuracy: 0.8945\n",
      "Epoch 142/200\n",
      "6/6 [==============================] - 0s 1ms/step - loss: 0.5302 - accuracy: 0.9011\n",
      "Epoch 143/200\n",
      "6/6 [==============================] - 0s 665us/step - loss: 0.5285 - accuracy: 0.9011\n",
      "Epoch 144/200\n",
      "6/6 [==============================] - 0s 499us/step - loss: 0.5268 - accuracy: 0.9011\n",
      "Epoch 145/200\n",
      "6/6 [==============================] - 0s 665us/step - loss: 0.5251 - accuracy: 0.9033\n",
      "Epoch 146/200\n",
      "6/6 [==============================] - 0s 2ms/step - loss: 0.5235 - accuracy: 0.9055\n",
      "Epoch 147/200\n",
      "6/6 [==============================] - 0s 693us/step - loss: 0.5218 - accuracy: 0.9055\n",
      "Epoch 148/200\n",
      "6/6 [==============================] - 0s 499us/step - loss: 0.5200 - accuracy: 0.9055\n",
      "Epoch 149/200\n",
      "6/6 [==============================] - 0s 665us/step - loss: 0.5182 - accuracy: 0.9055\n",
      "Epoch 150/200\n",
      "6/6 [==============================] - 0s 1ms/step - loss: 0.5165 - accuracy: 0.9055\n",
      "Epoch 151/200\n",
      "6/6 [==============================] - 0s 663us/step - loss: 0.5148 - accuracy: 0.9055\n",
      "Epoch 152/200\n",
      "6/6 [==============================] - 0s 586us/step - loss: 0.5130 - accuracy: 0.9033\n",
      "Epoch 153/200\n",
      "6/6 [==============================] - 0s 665us/step - loss: 0.5113 - accuracy: 0.9033\n",
      "Epoch 154/200\n",
      "6/6 [==============================] - 0s 665us/step - loss: 0.5096 - accuracy: 0.9077\n",
      "Epoch 155/200\n",
      "6/6 [==============================] - 0s 2ms/step - loss: 0.5079 - accuracy: 0.9099\n",
      "Epoch 156/200\n",
      "6/6 [==============================] - 0s 997us/step - loss: 0.5061 - accuracy: 0.9099\n",
      "Epoch 157/200\n",
      "6/6 [==============================] - 0s 831us/step - loss: 0.5043 - accuracy: 0.9099\n",
      "Epoch 158/200\n",
      "6/6 [==============================] - 0s 1ms/step - loss: 0.5026 - accuracy: 0.9099\n",
      "Epoch 159/200\n",
      "6/6 [==============================] - 0s 997us/step - loss: 0.5008 - accuracy: 0.9099\n",
      "Epoch 160/200\n",
      "6/6 [==============================] - 0s 997us/step - loss: 0.4990 - accuracy: 0.9099\n",
      "Epoch 161/200\n",
      "6/6 [==============================] - 0s 2ms/step - loss: 0.4973 - accuracy: 0.9099\n",
      "Epoch 162/200\n",
      "6/6 [==============================] - 0s 1ms/step - loss: 0.4955 - accuracy: 0.9099\n",
      "Epoch 163/200\n",
      "6/6 [==============================] - 0s 2ms/step - loss: 0.4938 - accuracy: 0.9077\n",
      "Epoch 164/200\n"
     ]
    },
    {
     "name": "stdout",
     "output_type": "stream",
     "text": [
      "6/6 [==============================] - 0s 1ms/step - loss: 0.4919 - accuracy: 0.9077\n",
      "Epoch 165/200\n",
      "6/6 [==============================] - 0s 1ms/step - loss: 0.4902 - accuracy: 0.9099\n",
      "Epoch 166/200\n",
      "6/6 [==============================] - 0s 997us/step - loss: 0.4883 - accuracy: 0.9099\n",
      "Epoch 167/200\n",
      "6/6 [==============================] - 0s 1ms/step - loss: 0.4866 - accuracy: 0.9099\n",
      "Epoch 168/200\n",
      "6/6 [==============================] - 0s 665us/step - loss: 0.4848 - accuracy: 0.9121\n",
      "Epoch 169/200\n",
      "6/6 [==============================] - 0s 830us/step - loss: 0.4830 - accuracy: 0.9121\n",
      "Epoch 170/200\n",
      "6/6 [==============================] - 0s 1ms/step - loss: 0.4812 - accuracy: 0.9143\n",
      "Epoch 171/200\n",
      "6/6 [==============================] - 0s 2ms/step - loss: 0.4795 - accuracy: 0.9143\n",
      "Epoch 172/200\n",
      "6/6 [==============================] - 0s 665us/step - loss: 0.4777 - accuracy: 0.9121\n",
      "Epoch 173/200\n",
      "6/6 [==============================] - 0s 2ms/step - loss: 0.4759 - accuracy: 0.9165\n",
      "Epoch 174/200\n",
      "6/6 [==============================] - 0s 1ms/step - loss: 0.4742 - accuracy: 0.9143\n",
      "Epoch 175/200\n",
      "6/6 [==============================] - 0s 872us/step - loss: 0.4723 - accuracy: 0.9143\n",
      "Epoch 176/200\n",
      "6/6 [==============================] - 0s 1ms/step - loss: 0.4705 - accuracy: 0.9165\n",
      "Epoch 177/200\n",
      "6/6 [==============================] - 0s 665us/step - loss: 0.4687 - accuracy: 0.9209\n",
      "Epoch 178/200\n",
      "6/6 [==============================] - 0s 1ms/step - loss: 0.4670 - accuracy: 0.9187\n",
      "Epoch 179/200\n",
      "6/6 [==============================] - 0s 665us/step - loss: 0.4652 - accuracy: 0.9209\n",
      "Epoch 180/200\n",
      "6/6 [==============================] - 0s 665us/step - loss: 0.4635 - accuracy: 0.9209\n",
      "Epoch 181/200\n",
      "6/6 [==============================] - 0s 999us/step - loss: 0.4617 - accuracy: 0.9209\n",
      "Epoch 182/200\n",
      "6/6 [==============================] - 0s 665us/step - loss: 0.4599 - accuracy: 0.9209\n",
      "Epoch 183/200\n",
      "6/6 [==============================] - 0s 667us/step - loss: 0.4583 - accuracy: 0.9209\n",
      "Epoch 184/200\n",
      "6/6 [==============================] - 0s 499us/step - loss: 0.4565 - accuracy: 0.9209\n",
      "Epoch 185/200\n",
      "6/6 [==============================] - 0s 831us/step - loss: 0.4547 - accuracy: 0.9209\n",
      "Epoch 186/200\n",
      "6/6 [==============================] - 0s 997us/step - loss: 0.4530 - accuracy: 0.9209\n",
      "Epoch 187/200\n",
      "6/6 [==============================] - 0s 831us/step - loss: 0.4512 - accuracy: 0.9209\n",
      "Epoch 188/200\n",
      "6/6 [==============================] - 0s 665us/step - loss: 0.4495 - accuracy: 0.9209\n",
      "Epoch 189/200\n",
      "6/6 [==============================] - 0s 1ms/step - loss: 0.4478 - accuracy: 0.9187\n",
      "Epoch 190/200\n",
      "6/6 [==============================] - 0s 499us/step - loss: 0.4461 - accuracy: 0.9187\n",
      "Epoch 191/200\n",
      "6/6 [==============================] - 0s 1ms/step - loss: 0.4443 - accuracy: 0.9187\n",
      "Epoch 192/200\n",
      "6/6 [==============================] - 0s 499us/step - loss: 0.4426 - accuracy: 0.9187\n",
      "Epoch 193/200\n",
      "6/6 [==============================] - 0s 831us/step - loss: 0.4410 - accuracy: 0.9187\n",
      "Epoch 194/200\n",
      "6/6 [==============================] - 0s 499us/step - loss: 0.4393 - accuracy: 0.9209\n",
      "Epoch 195/200\n",
      "6/6 [==============================] - 0s 831us/step - loss: 0.4376 - accuracy: 0.9209\n",
      "Epoch 196/200\n",
      "6/6 [==============================] - 0s 1ms/step - loss: 0.4359 - accuracy: 0.9187\n",
      "Epoch 197/200\n",
      "6/6 [==============================] - 0s 1ms/step - loss: 0.4342 - accuracy: 0.9165\n",
      "Epoch 198/200\n",
      "6/6 [==============================] - 0s 499us/step - loss: 0.4326 - accuracy: 0.9187\n",
      "Epoch 199/200\n",
      "6/6 [==============================] - 0s 831us/step - loss: 0.4311 - accuracy: 0.9165\n",
      "Epoch 200/200\n",
      "6/6 [==============================] - 0s 665us/step - loss: 0.4292 - accuracy: 0.9187\n"
     ]
    },
    {
     "data": {
      "text/plain": [
       "<tensorflow.python.keras.callbacks.History at 0x264ba0cee08>"
      ]
     },
     "execution_count": 101,
     "metadata": {},
     "output_type": "execute_result"
    }
   ],
   "source": [
    "model.fit(scaled_X_train, y_train, batch_size = 80, epochs=200, verbose=1)"
   ]
  },
  {
   "cell_type": "markdown",
   "metadata": {
    "colab_type": "text",
    "id": "ccJ-FDiAlJ5-"
   },
   "source": [
    "Report the accuracy of the test sample."
   ]
  },
  {
   "cell_type": "code",
   "execution_count": 102,
   "metadata": {},
   "outputs": [
    {
     "name": "stdout",
     "output_type": "stream",
     "text": [
      "1/4 [======>.......................] - ETA: 0s - loss: 0.4269 - accuracy: 0.9375WARNING:tensorflow:Callbacks method `on_test_batch_end` is slow compared to the batch time (batch time: 0.0000s vs `on_test_batch_end` time: 0.0010s). Check your callbacks.\n",
      "4/4 [==============================] - 0s 748us/step - loss: 0.4403 - accuracy: 0.9211\n"
     ]
    },
    {
     "data": {
      "text/plain": [
       "[0.4403423070907593, 0.9210526347160339]"
      ]
     },
     "execution_count": 102,
     "metadata": {},
     "output_type": "execute_result"
    }
   ],
   "source": [
    "model.evaluate(scaled_X_test, y_test)"
   ]
  }
 ],
 "metadata": {
  "colab": {
   "collapsed_sections": [],
   "name": "Day 81 Lecture 2 Assignment.ipynb",
   "provenance": []
  },
  "kernelspec": {
   "display_name": "Python 3",
   "language": "python",
   "name": "python3"
  },
  "language_info": {
   "codemirror_mode": {
    "name": "ipython",
    "version": 3
   },
   "file_extension": ".py",
   "mimetype": "text/x-python",
   "name": "python",
   "nbconvert_exporter": "python",
   "pygments_lexer": "ipython3",
   "version": "3.7.9"
  }
 },
 "nbformat": 4,
 "nbformat_minor": 1
}
