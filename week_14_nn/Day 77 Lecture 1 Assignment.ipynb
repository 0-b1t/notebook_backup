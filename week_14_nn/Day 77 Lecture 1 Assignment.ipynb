{
 "cells": [
  {
   "cell_type": "code",
   "execution_count": 1,
   "metadata": {},
   "outputs": [
    {
     "data": {
      "application/javascript": [
       "\n",
       "            setTimeout(function() {\n",
       "                var nbb_cell_id = 1;\n",
       "                var nbb_unformatted_code = \"%reload_ext nb_black\";\n",
       "                var nbb_formatted_code = \"%reload_ext nb_black\";\n",
       "                var nbb_cells = Jupyter.notebook.get_cells();\n",
       "                for (var i = 0; i < nbb_cells.length; ++i) {\n",
       "                    if (nbb_cells[i].input_prompt_number == nbb_cell_id) {\n",
       "                        if (nbb_cells[i].get_text() == nbb_unformatted_code) {\n",
       "                             nbb_cells[i].set_text(nbb_formatted_code);\n",
       "                        }\n",
       "                        break;\n",
       "                    }\n",
       "                }\n",
       "            }, 500);\n",
       "            "
      ],
      "text/plain": [
       "<IPython.core.display.Javascript object>"
      ]
     },
     "metadata": {},
     "output_type": "display_data"
    }
   ],
   "source": [
    "%reload_ext nb_black"
   ]
  },
  {
   "cell_type": "markdown",
   "metadata": {
    "colab_type": "text",
    "id": "tEyRSqh_0jS7"
   },
   "source": [
    "## Day 82 Lecture 1 Assignment\n",
    "\n",
    "In this assignment, we will learn about activation functions. We will create a neural network and measure the model's performance using different activations."
   ]
  },
  {
   "cell_type": "code",
   "execution_count": 2,
   "metadata": {
    "colab": {},
    "colab_type": "code",
    "id": "DgLFu1Hs0jS-"
   },
   "outputs": [
    {
     "data": {
      "application/javascript": [
       "\n",
       "            setTimeout(function() {\n",
       "                var nbb_cell_id = 2;\n",
       "                var nbb_unformatted_code = \"import numpy as np\\nimport pandas as pd\\n\\nimport tensorflow as tf\\n\\ntf.debugging.set_log_device_placement(True)\\n\\nimport warnings\\n\\nwarnings.filterwarnings(\\\"ignore\\\")\";\n",
       "                var nbb_formatted_code = \"import numpy as np\\nimport pandas as pd\\n\\nimport tensorflow as tf\\n\\ntf.debugging.set_log_device_placement(True)\\n\\nimport warnings\\n\\nwarnings.filterwarnings(\\\"ignore\\\")\";\n",
       "                var nbb_cells = Jupyter.notebook.get_cells();\n",
       "                for (var i = 0; i < nbb_cells.length; ++i) {\n",
       "                    if (nbb_cells[i].input_prompt_number == nbb_cell_id) {\n",
       "                        if (nbb_cells[i].get_text() == nbb_unformatted_code) {\n",
       "                             nbb_cells[i].set_text(nbb_formatted_code);\n",
       "                        }\n",
       "                        break;\n",
       "                    }\n",
       "                }\n",
       "            }, 500);\n",
       "            "
      ],
      "text/plain": [
       "<IPython.core.display.Javascript object>"
      ]
     },
     "metadata": {},
     "output_type": "display_data"
    }
   ],
   "source": [
    "import numpy as np\n",
    "import pandas as pd\n",
    "\n",
    "import tensorflow as tf\n",
    "\n",
    "tf.debugging.set_log_device_placement(True)\n",
    "\n",
    "import warnings\n",
    "\n",
    "warnings.filterwarnings(\"ignore\")"
   ]
  },
  {
   "cell_type": "markdown",
   "metadata": {
    "colab_type": "text",
    "id": "BTzJti900jTA"
   },
   "source": [
    "We will import the famous titanic dataset below and produce a neural network that will predict the chance of survival for a passenger."
   ]
  },
  {
   "cell_type": "code",
   "execution_count": 3,
   "metadata": {
    "colab": {},
    "colab_type": "code",
    "id": "CDlLGz270jTB"
   },
   "outputs": [
    {
     "data": {
      "application/javascript": [
       "\n",
       "            setTimeout(function() {\n",
       "                var nbb_cell_id = 3;\n",
       "                var nbb_unformatted_code = \"titanic = pd.read_csv(\\\"data/titanic.csv\\\")\";\n",
       "                var nbb_formatted_code = \"titanic = pd.read_csv(\\\"data/titanic.csv\\\")\";\n",
       "                var nbb_cells = Jupyter.notebook.get_cells();\n",
       "                for (var i = 0; i < nbb_cells.length; ++i) {\n",
       "                    if (nbb_cells[i].input_prompt_number == nbb_cell_id) {\n",
       "                        if (nbb_cells[i].get_text() == nbb_unformatted_code) {\n",
       "                             nbb_cells[i].set_text(nbb_formatted_code);\n",
       "                        }\n",
       "                        break;\n",
       "                    }\n",
       "                }\n",
       "            }, 500);\n",
       "            "
      ],
      "text/plain": [
       "<IPython.core.display.Javascript object>"
      ]
     },
     "metadata": {},
     "output_type": "display_data"
    }
   ],
   "source": [
    "titanic = pd.read_csv(\"data/titanic.csv\")"
   ]
  },
  {
   "cell_type": "code",
   "execution_count": 4,
   "metadata": {
    "colab": {},
    "colab_type": "code",
    "id": "z01i6-rV0jTD",
    "outputId": "3002a433-b5e6-4fbb-85cb-214d4981ec19"
   },
   "outputs": [
    {
     "data": {
      "text/html": [
       "<div>\n",
       "<style scoped>\n",
       "    .dataframe tbody tr th:only-of-type {\n",
       "        vertical-align: middle;\n",
       "    }\n",
       "\n",
       "    .dataframe tbody tr th {\n",
       "        vertical-align: top;\n",
       "    }\n",
       "\n",
       "    .dataframe thead th {\n",
       "        text-align: right;\n",
       "    }\n",
       "</style>\n",
       "<table border=\"1\" class=\"dataframe\">\n",
       "  <thead>\n",
       "    <tr style=\"text-align: right;\">\n",
       "      <th></th>\n",
       "      <th>PassengerId</th>\n",
       "      <th>Survived</th>\n",
       "      <th>Pclass</th>\n",
       "      <th>Name</th>\n",
       "      <th>Sex</th>\n",
       "      <th>Age</th>\n",
       "      <th>SibSp</th>\n",
       "      <th>Parch</th>\n",
       "      <th>Ticket</th>\n",
       "      <th>Fare</th>\n",
       "      <th>Cabin</th>\n",
       "      <th>Embarked</th>\n",
       "    </tr>\n",
       "  </thead>\n",
       "  <tbody>\n",
       "    <tr>\n",
       "      <th>0</th>\n",
       "      <td>1</td>\n",
       "      <td>0</td>\n",
       "      <td>3</td>\n",
       "      <td>Braund, Mr. Owen Harris</td>\n",
       "      <td>male</td>\n",
       "      <td>22.0</td>\n",
       "      <td>1</td>\n",
       "      <td>0</td>\n",
       "      <td>A/5 21171</td>\n",
       "      <td>7.2500</td>\n",
       "      <td>NaN</td>\n",
       "      <td>S</td>\n",
       "    </tr>\n",
       "    <tr>\n",
       "      <th>1</th>\n",
       "      <td>2</td>\n",
       "      <td>1</td>\n",
       "      <td>1</td>\n",
       "      <td>Cumings, Mrs. John Bradley (Florence Briggs Th...</td>\n",
       "      <td>female</td>\n",
       "      <td>38.0</td>\n",
       "      <td>1</td>\n",
       "      <td>0</td>\n",
       "      <td>PC 17599</td>\n",
       "      <td>71.2833</td>\n",
       "      <td>C85</td>\n",
       "      <td>C</td>\n",
       "    </tr>\n",
       "    <tr>\n",
       "      <th>2</th>\n",
       "      <td>3</td>\n",
       "      <td>1</td>\n",
       "      <td>3</td>\n",
       "      <td>Heikkinen, Miss. Laina</td>\n",
       "      <td>female</td>\n",
       "      <td>26.0</td>\n",
       "      <td>0</td>\n",
       "      <td>0</td>\n",
       "      <td>STON/O2. 3101282</td>\n",
       "      <td>7.9250</td>\n",
       "      <td>NaN</td>\n",
       "      <td>S</td>\n",
       "    </tr>\n",
       "    <tr>\n",
       "      <th>3</th>\n",
       "      <td>4</td>\n",
       "      <td>1</td>\n",
       "      <td>1</td>\n",
       "      <td>Futrelle, Mrs. Jacques Heath (Lily May Peel)</td>\n",
       "      <td>female</td>\n",
       "      <td>35.0</td>\n",
       "      <td>1</td>\n",
       "      <td>0</td>\n",
       "      <td>113803</td>\n",
       "      <td>53.1000</td>\n",
       "      <td>C123</td>\n",
       "      <td>S</td>\n",
       "    </tr>\n",
       "    <tr>\n",
       "      <th>4</th>\n",
       "      <td>5</td>\n",
       "      <td>0</td>\n",
       "      <td>3</td>\n",
       "      <td>Allen, Mr. William Henry</td>\n",
       "      <td>male</td>\n",
       "      <td>35.0</td>\n",
       "      <td>0</td>\n",
       "      <td>0</td>\n",
       "      <td>373450</td>\n",
       "      <td>8.0500</td>\n",
       "      <td>NaN</td>\n",
       "      <td>S</td>\n",
       "    </tr>\n",
       "  </tbody>\n",
       "</table>\n",
       "</div>"
      ],
      "text/plain": [
       "   PassengerId  Survived  Pclass  \\\n",
       "0            1         0       3   \n",
       "1            2         1       1   \n",
       "2            3         1       3   \n",
       "3            4         1       1   \n",
       "4            5         0       3   \n",
       "\n",
       "                                                Name     Sex   Age  SibSp  \\\n",
       "0                            Braund, Mr. Owen Harris    male  22.0      1   \n",
       "1  Cumings, Mrs. John Bradley (Florence Briggs Th...  female  38.0      1   \n",
       "2                             Heikkinen, Miss. Laina  female  26.0      0   \n",
       "3       Futrelle, Mrs. Jacques Heath (Lily May Peel)  female  35.0      1   \n",
       "4                           Allen, Mr. William Henry    male  35.0      0   \n",
       "\n",
       "   Parch            Ticket     Fare Cabin Embarked  \n",
       "0      0         A/5 21171   7.2500   NaN        S  \n",
       "1      0          PC 17599  71.2833   C85        C  \n",
       "2      0  STON/O2. 3101282   7.9250   NaN        S  \n",
       "3      0            113803  53.1000  C123        S  \n",
       "4      0            373450   8.0500   NaN        S  "
      ]
     },
     "execution_count": 4,
     "metadata": {},
     "output_type": "execute_result"
    },
    {
     "data": {
      "application/javascript": [
       "\n",
       "            setTimeout(function() {\n",
       "                var nbb_cell_id = 4;\n",
       "                var nbb_unformatted_code = \"titanic.head()\";\n",
       "                var nbb_formatted_code = \"titanic.head()\";\n",
       "                var nbb_cells = Jupyter.notebook.get_cells();\n",
       "                for (var i = 0; i < nbb_cells.length; ++i) {\n",
       "                    if (nbb_cells[i].input_prompt_number == nbb_cell_id) {\n",
       "                        if (nbb_cells[i].get_text() == nbb_unformatted_code) {\n",
       "                             nbb_cells[i].set_text(nbb_formatted_code);\n",
       "                        }\n",
       "                        break;\n",
       "                    }\n",
       "                }\n",
       "            }, 500);\n",
       "            "
      ],
      "text/plain": [
       "<IPython.core.display.Javascript object>"
      ]
     },
     "metadata": {},
     "output_type": "display_data"
    }
   ],
   "source": [
    "titanic.head()"
   ]
  },
  {
   "cell_type": "code",
   "execution_count": 5,
   "metadata": {},
   "outputs": [
    {
     "data": {
      "text/plain": [
       "0    608\n",
       "1    209\n",
       "2     28\n",
       "4     18\n",
       "3     16\n",
       "8      7\n",
       "5      5\n",
       "Name: SibSp, dtype: int64"
      ]
     },
     "execution_count": 5,
     "metadata": {},
     "output_type": "execute_result"
    },
    {
     "data": {
      "application/javascript": [
       "\n",
       "            setTimeout(function() {\n",
       "                var nbb_cell_id = 5;\n",
       "                var nbb_unformatted_code = \"titanic[\\\"SibSp\\\"].value_counts()\";\n",
       "                var nbb_formatted_code = \"titanic[\\\"SibSp\\\"].value_counts()\";\n",
       "                var nbb_cells = Jupyter.notebook.get_cells();\n",
       "                for (var i = 0; i < nbb_cells.length; ++i) {\n",
       "                    if (nbb_cells[i].input_prompt_number == nbb_cell_id) {\n",
       "                        if (nbb_cells[i].get_text() == nbb_unformatted_code) {\n",
       "                             nbb_cells[i].set_text(nbb_formatted_code);\n",
       "                        }\n",
       "                        break;\n",
       "                    }\n",
       "                }\n",
       "            }, 500);\n",
       "            "
      ],
      "text/plain": [
       "<IPython.core.display.Javascript object>"
      ]
     },
     "metadata": {},
     "output_type": "display_data"
    }
   ],
   "source": [
    "titanic[\"SibSp\"].value_counts()"
   ]
  },
  {
   "cell_type": "markdown",
   "metadata": {
    "colab_type": "text",
    "id": "xyD_6NR00jTG"
   },
   "source": [
    "We'll perform some feature engineering\n",
    "\n",
    "Let's start by keeping only the columns we'd like to use for our analysis. Keep only the columns: Survived, Pclass, Sex, SibSp, Parch, and Embarked"
   ]
  },
  {
   "cell_type": "code",
   "execution_count": 6,
   "metadata": {
    "colab": {},
    "colab_type": "code",
    "id": "Lfp0XlLk0jTG"
   },
   "outputs": [
    {
     "data": {
      "application/javascript": [
       "\n",
       "            setTimeout(function() {\n",
       "                var nbb_cell_id = 6;\n",
       "                var nbb_unformatted_code = \"# Answer below:\\nkeep_cols = ['Survived', 'Pclass','Sex', 'SibSp', 'Parch','Embarked']\\ntitanic = titanic[keep_cols]\";\n",
       "                var nbb_formatted_code = \"# Answer below:\\nkeep_cols = [\\\"Survived\\\", \\\"Pclass\\\", \\\"Sex\\\", \\\"SibSp\\\", \\\"Parch\\\", \\\"Embarked\\\"]\\ntitanic = titanic[keep_cols]\";\n",
       "                var nbb_cells = Jupyter.notebook.get_cells();\n",
       "                for (var i = 0; i < nbb_cells.length; ++i) {\n",
       "                    if (nbb_cells[i].input_prompt_number == nbb_cell_id) {\n",
       "                        if (nbb_cells[i].get_text() == nbb_unformatted_code) {\n",
       "                             nbb_cells[i].set_text(nbb_formatted_code);\n",
       "                        }\n",
       "                        break;\n",
       "                    }\n",
       "                }\n",
       "            }, 500);\n",
       "            "
      ],
      "text/plain": [
       "<IPython.core.display.Javascript object>"
      ]
     },
     "metadata": {},
     "output_type": "display_data"
    }
   ],
   "source": [
    "# Answer below:\n",
    "keep_cols = ['Survived', 'Pclass','Sex', 'SibSp', 'Parch','Embarked']\n",
    "titanic = titanic[keep_cols]\n"
   ]
  },
  {
   "cell_type": "markdown",
   "metadata": {
    "colab_type": "text",
    "id": "uvBUzjzG0jTI"
   },
   "source": [
    "Now examine how many rows contain missing data. Given how much missing data we have, should we remove the column with the most missing data, or remove all rows containing missing data? Do what you think is best."
   ]
  },
  {
   "cell_type": "code",
   "execution_count": 7,
   "metadata": {
    "colab": {},
    "colab_type": "code",
    "id": "PwnHzNjP0jTJ"
   },
   "outputs": [
    {
     "data": {
      "text/plain": [
       "Survived    0.000000\n",
       "Pclass      0.000000\n",
       "Sex         0.000000\n",
       "SibSp       0.000000\n",
       "Parch       0.000000\n",
       "Embarked    0.002245\n",
       "dtype: float64"
      ]
     },
     "execution_count": 7,
     "metadata": {},
     "output_type": "execute_result"
    },
    {
     "data": {
      "application/javascript": [
       "\n",
       "            setTimeout(function() {\n",
       "                var nbb_cell_id = 7;\n",
       "                var nbb_unformatted_code = \"# Answer below:\\ntitanic.isna().mean()\";\n",
       "                var nbb_formatted_code = \"# Answer below:\\ntitanic.isna().mean()\";\n",
       "                var nbb_cells = Jupyter.notebook.get_cells();\n",
       "                for (var i = 0; i < nbb_cells.length; ++i) {\n",
       "                    if (nbb_cells[i].input_prompt_number == nbb_cell_id) {\n",
       "                        if (nbb_cells[i].get_text() == nbb_unformatted_code) {\n",
       "                             nbb_cells[i].set_text(nbb_formatted_code);\n",
       "                        }\n",
       "                        break;\n",
       "                    }\n",
       "                }\n",
       "            }, 500);\n",
       "            "
      ],
      "text/plain": [
       "<IPython.core.display.Javascript object>"
      ]
     },
     "metadata": {},
     "output_type": "display_data"
    }
   ],
   "source": [
    "# Answer below:\n",
    "titanic.isna().mean()\n"
   ]
  },
  {
   "cell_type": "code",
   "execution_count": 8,
   "metadata": {},
   "outputs": [
    {
     "data": {
      "application/javascript": [
       "\n",
       "            setTimeout(function() {\n",
       "                var nbb_cell_id = 8;\n",
       "                var nbb_unformatted_code = \"titanic = titanic.dropna()\";\n",
       "                var nbb_formatted_code = \"titanic = titanic.dropna()\";\n",
       "                var nbb_cells = Jupyter.notebook.get_cells();\n",
       "                for (var i = 0; i < nbb_cells.length; ++i) {\n",
       "                    if (nbb_cells[i].input_prompt_number == nbb_cell_id) {\n",
       "                        if (nbb_cells[i].get_text() == nbb_unformatted_code) {\n",
       "                             nbb_cells[i].set_text(nbb_formatted_code);\n",
       "                        }\n",
       "                        break;\n",
       "                    }\n",
       "                }\n",
       "            }, 500);\n",
       "            "
      ],
      "text/plain": [
       "<IPython.core.display.Javascript object>"
      ]
     },
     "metadata": {},
     "output_type": "display_data"
    }
   ],
   "source": [
    "titanic = titanic.dropna()"
   ]
  },
  {
   "cell_type": "code",
   "execution_count": 9,
   "metadata": {},
   "outputs": [
    {
     "data": {
      "text/plain": [
       "Survived    0.0\n",
       "Pclass      0.0\n",
       "Sex         0.0\n",
       "SibSp       0.0\n",
       "Parch       0.0\n",
       "Embarked    0.0\n",
       "dtype: float64"
      ]
     },
     "execution_count": 9,
     "metadata": {},
     "output_type": "execute_result"
    },
    {
     "data": {
      "application/javascript": [
       "\n",
       "            setTimeout(function() {\n",
       "                var nbb_cell_id = 9;\n",
       "                var nbb_unformatted_code = \"titanic.isna().mean()\";\n",
       "                var nbb_formatted_code = \"titanic.isna().mean()\";\n",
       "                var nbb_cells = Jupyter.notebook.get_cells();\n",
       "                for (var i = 0; i < nbb_cells.length; ++i) {\n",
       "                    if (nbb_cells[i].input_prompt_number == nbb_cell_id) {\n",
       "                        if (nbb_cells[i].get_text() == nbb_unformatted_code) {\n",
       "                             nbb_cells[i].set_text(nbb_formatted_code);\n",
       "                        }\n",
       "                        break;\n",
       "                    }\n",
       "                }\n",
       "            }, 500);\n",
       "            "
      ],
      "text/plain": [
       "<IPython.core.display.Javascript object>"
      ]
     },
     "metadata": {},
     "output_type": "display_data"
    }
   ],
   "source": [
    "titanic.isna().mean()"
   ]
  },
  {
   "cell_type": "markdown",
   "metadata": {
    "colab_type": "text",
    "id": "imTrmBpL0jTK"
   },
   "source": [
    "Now we'll create a one hot encoding of the variables Pclass, sex, and Embarked"
   ]
  },
  {
   "cell_type": "code",
   "execution_count": 10,
   "metadata": {},
   "outputs": [
    {
     "data": {
      "text/plain": [
       "Survived     int64\n",
       "Pclass       int64\n",
       "Sex         object\n",
       "SibSp        int64\n",
       "Parch        int64\n",
       "Embarked    object\n",
       "dtype: object"
      ]
     },
     "execution_count": 10,
     "metadata": {},
     "output_type": "execute_result"
    },
    {
     "data": {
      "application/javascript": [
       "\n",
       "            setTimeout(function() {\n",
       "                var nbb_cell_id = 10;\n",
       "                var nbb_unformatted_code = \"titanic.dtypes\";\n",
       "                var nbb_formatted_code = \"titanic.dtypes\";\n",
       "                var nbb_cells = Jupyter.notebook.get_cells();\n",
       "                for (var i = 0; i < nbb_cells.length; ++i) {\n",
       "                    if (nbb_cells[i].input_prompt_number == nbb_cell_id) {\n",
       "                        if (nbb_cells[i].get_text() == nbb_unformatted_code) {\n",
       "                             nbb_cells[i].set_text(nbb_formatted_code);\n",
       "                        }\n",
       "                        break;\n",
       "                    }\n",
       "                }\n",
       "            }, 500);\n",
       "            "
      ],
      "text/plain": [
       "<IPython.core.display.Javascript object>"
      ]
     },
     "metadata": {},
     "output_type": "display_data"
    }
   ],
   "source": [
    "titanic.dtypes"
   ]
  },
  {
   "cell_type": "code",
   "execution_count": 11,
   "metadata": {},
   "outputs": [
    {
     "data": {
      "application/javascript": [
       "\n",
       "            setTimeout(function() {\n",
       "                var nbb_cell_id = 11;\n",
       "                var nbb_unformatted_code = \"# t_dummy = pd.get_dummies(titanic, columns=cat_cols, drop_first=True)\";\n",
       "                var nbb_formatted_code = \"# t_dummy = pd.get_dummies(titanic, columns=cat_cols, drop_first=True)\";\n",
       "                var nbb_cells = Jupyter.notebook.get_cells();\n",
       "                for (var i = 0; i < nbb_cells.length; ++i) {\n",
       "                    if (nbb_cells[i].input_prompt_number == nbb_cell_id) {\n",
       "                        if (nbb_cells[i].get_text() == nbb_unformatted_code) {\n",
       "                             nbb_cells[i].set_text(nbb_formatted_code);\n",
       "                        }\n",
       "                        break;\n",
       "                    }\n",
       "                }\n",
       "            }, 500);\n",
       "            "
      ],
      "text/plain": [
       "<IPython.core.display.Javascript object>"
      ]
     },
     "metadata": {},
     "output_type": "display_data"
    }
   ],
   "source": [
    "# t_dummy = pd.get_dummies(titanic, columns=cat_cols, drop_first=True)"
   ]
  },
  {
   "cell_type": "code",
   "execution_count": 12,
   "metadata": {},
   "outputs": [
    {
     "data": {
      "application/javascript": [
       "\n",
       "            setTimeout(function() {\n",
       "                var nbb_cell_id = 12;\n",
       "                var nbb_unformatted_code = \"num_cols = [\\\"SibSp\\\", \\\"Parch\\\"]\\ncat_cols = [\\\"Pclass\\\", \\\"Sex\\\", \\\"Embarked\\\"]\";\n",
       "                var nbb_formatted_code = \"num_cols = [\\\"SibSp\\\", \\\"Parch\\\"]\\ncat_cols = [\\\"Pclass\\\", \\\"Sex\\\", \\\"Embarked\\\"]\";\n",
       "                var nbb_cells = Jupyter.notebook.get_cells();\n",
       "                for (var i = 0; i < nbb_cells.length; ++i) {\n",
       "                    if (nbb_cells[i].input_prompt_number == nbb_cell_id) {\n",
       "                        if (nbb_cells[i].get_text() == nbb_unformatted_code) {\n",
       "                             nbb_cells[i].set_text(nbb_formatted_code);\n",
       "                        }\n",
       "                        break;\n",
       "                    }\n",
       "                }\n",
       "            }, 500);\n",
       "            "
      ],
      "text/plain": [
       "<IPython.core.display.Javascript object>"
      ]
     },
     "metadata": {},
     "output_type": "display_data"
    }
   ],
   "source": [
    "num_cols = [\"SibSp\", \"Parch\"]\n",
    "cat_cols = [\"Pclass\", \"Sex\", \"Embarked\"]"
   ]
  },
  {
   "cell_type": "code",
   "execution_count": 13,
   "metadata": {},
   "outputs": [
    {
     "data": {
      "application/javascript": [
       "\n",
       "            setTimeout(function() {\n",
       "                var nbb_cell_id = 13;\n",
       "                var nbb_unformatted_code = \"from sklearn.preprocessing import StandardScaler, OneHotEncoder, MinMaxScaler\\nfrom sklearn.compose import ColumnTransformer\\n\\npreprocessing = ColumnTransformer(\\n    [\\n        # Should only use one of these\\n        # Comment out or delete one of the below 2 lines\\n        # Should use leave one out for tree based\\n        (\\\"OneHotEncoder\\\", OneHotEncoder(drop=\\\"first\\\"), cat_cols),\\n        #     ('leaveoneoutencoder', LeaveOneOutEncoder(), cat_cols),\\n        # Scale numeric columns (not needed for all models but can't hurt)\\n        (\\\"scaler\\\", MinMaxScaler(), num_cols)\\n        # bin_cols we'll leave untouch\\n    ],\\n    remainder=\\\"passthrough\\\",\\n)\";\n",
       "                var nbb_formatted_code = \"from sklearn.preprocessing import StandardScaler, OneHotEncoder, MinMaxScaler\\nfrom sklearn.compose import ColumnTransformer\\n\\npreprocessing = ColumnTransformer(\\n    [\\n        # Should only use one of these\\n        # Comment out or delete one of the below 2 lines\\n        # Should use leave one out for tree based\\n        (\\\"OneHotEncoder\\\", OneHotEncoder(drop=\\\"first\\\"), cat_cols),\\n        #     ('leaveoneoutencoder', LeaveOneOutEncoder(), cat_cols),\\n        # Scale numeric columns (not needed for all models but can't hurt)\\n        (\\\"scaler\\\", MinMaxScaler(), num_cols)\\n        # bin_cols we'll leave untouch\\n    ],\\n    remainder=\\\"passthrough\\\",\\n)\";\n",
       "                var nbb_cells = Jupyter.notebook.get_cells();\n",
       "                for (var i = 0; i < nbb_cells.length; ++i) {\n",
       "                    if (nbb_cells[i].input_prompt_number == nbb_cell_id) {\n",
       "                        if (nbb_cells[i].get_text() == nbb_unformatted_code) {\n",
       "                             nbb_cells[i].set_text(nbb_formatted_code);\n",
       "                        }\n",
       "                        break;\n",
       "                    }\n",
       "                }\n",
       "            }, 500);\n",
       "            "
      ],
      "text/plain": [
       "<IPython.core.display.Javascript object>"
      ]
     },
     "metadata": {},
     "output_type": "display_data"
    }
   ],
   "source": [
    "from sklearn.preprocessing import StandardScaler, OneHotEncoder, MinMaxScaler\n",
    "from sklearn.compose import ColumnTransformer\n",
    "\n",
    "preprocessing = ColumnTransformer(\n",
    "    [\n",
    "        # Should only use one of these\n",
    "        # Comment out or delete one of the below 2 lines\n",
    "        # Should use leave one out for tree based\n",
    "        (\"OneHotEncoder\", OneHotEncoder(drop=\"first\"), cat_cols),\n",
    "        #     ('leaveoneoutencoder', LeaveOneOutEncoder(), cat_cols),\n",
    "        # Scale numeric columns (not needed for all models but can't hurt)\n",
    "        (\"scaler\", MinMaxScaler(), num_cols)\n",
    "        # bin_cols we'll leave untouch\n",
    "    ],\n",
    "    remainder=\"passthrough\",\n",
    ")"
   ]
  },
  {
   "cell_type": "code",
   "execution_count": 14,
   "metadata": {},
   "outputs": [
    {
     "data": {
      "application/javascript": [
       "\n",
       "            setTimeout(function() {\n",
       "                var nbb_cell_id = 14;\n",
       "                var nbb_unformatted_code = \"from sklearn.model_selection import train_test_split\\n\\nX = titanic.drop(\\\"Survived\\\", 1)\\ny = titanic[[\\\"Survived\\\"]]\\n\\nX_train, X_test, y_train, y_test = train_test_split(\\n    X, y, test_size=0.2, random_state=34, stratify=y\\n)\";\n",
       "                var nbb_formatted_code = \"from sklearn.model_selection import train_test_split\\n\\nX = titanic.drop(\\\"Survived\\\", 1)\\ny = titanic[[\\\"Survived\\\"]]\\n\\nX_train, X_test, y_train, y_test = train_test_split(\\n    X, y, test_size=0.2, random_state=34, stratify=y\\n)\";\n",
       "                var nbb_cells = Jupyter.notebook.get_cells();\n",
       "                for (var i = 0; i < nbb_cells.length; ++i) {\n",
       "                    if (nbb_cells[i].input_prompt_number == nbb_cell_id) {\n",
       "                        if (nbb_cells[i].get_text() == nbb_unformatted_code) {\n",
       "                             nbb_cells[i].set_text(nbb_formatted_code);\n",
       "                        }\n",
       "                        break;\n",
       "                    }\n",
       "                }\n",
       "            }, 500);\n",
       "            "
      ],
      "text/plain": [
       "<IPython.core.display.Javascript object>"
      ]
     },
     "metadata": {},
     "output_type": "display_data"
    }
   ],
   "source": [
    "from sklearn.model_selection import train_test_split\n",
    "\n",
    "X = titanic.drop(\"Survived\", 1)\n",
    "y = titanic[[\"Survived\"]]\n",
    "\n",
    "X_train, X_test, y_train, y_test = train_test_split(\n",
    "    X, y, test_size=0.2, random_state=34, stratify=y\n",
    ")"
   ]
  },
  {
   "cell_type": "code",
   "execution_count": 15,
   "metadata": {},
   "outputs": [
    {
     "data": {
      "application/javascript": [
       "\n",
       "            setTimeout(function() {\n",
       "                var nbb_cell_id = 15;\n",
       "                var nbb_unformatted_code = \"X_train = pd.DataFrame(preprocessing.fit_transform(X_train))\\nX_test = pd.DataFrame(preprocessing.transform(X_test))\";\n",
       "                var nbb_formatted_code = \"X_train = pd.DataFrame(preprocessing.fit_transform(X_train))\\nX_test = pd.DataFrame(preprocessing.transform(X_test))\";\n",
       "                var nbb_cells = Jupyter.notebook.get_cells();\n",
       "                for (var i = 0; i < nbb_cells.length; ++i) {\n",
       "                    if (nbb_cells[i].input_prompt_number == nbb_cell_id) {\n",
       "                        if (nbb_cells[i].get_text() == nbb_unformatted_code) {\n",
       "                             nbb_cells[i].set_text(nbb_formatted_code);\n",
       "                        }\n",
       "                        break;\n",
       "                    }\n",
       "                }\n",
       "            }, 500);\n",
       "            "
      ],
      "text/plain": [
       "<IPython.core.display.Javascript object>"
      ]
     },
     "metadata": {},
     "output_type": "display_data"
    }
   ],
   "source": [
    "X_train = pd.DataFrame(preprocessing.fit_transform(X_train))\n",
    "X_test = pd.DataFrame(preprocessing.transform(X_test))"
   ]
  },
  {
   "cell_type": "markdown",
   "metadata": {
    "colab_type": "text",
    "id": "5vv2pncX0jTM"
   },
   "source": [
    "Split the data into train and test. 20% of the data should be set aside for testing. Use Survived as your target variable."
   ]
  },
  {
   "cell_type": "code",
   "execution_count": 16,
   "metadata": {
    "colab": {},
    "colab_type": "code",
    "id": "4DzzK0j-0jTN"
   },
   "outputs": [
    {
     "data": {
      "application/javascript": [
       "\n",
       "            setTimeout(function() {\n",
       "                var nbb_cell_id = 16;\n",
       "                var nbb_unformatted_code = \"# X = t_dummy.drop(\\\"Survived\\\", 1)\\n# y = t_dummy[[\\\"Survived\\\"]]\\n\\n\\n# X_train, X_test, y_train, y_test = train_test_split(X, y, test_size=0.2)\";\n",
       "                var nbb_formatted_code = \"# X = t_dummy.drop(\\\"Survived\\\", 1)\\n# y = t_dummy[[\\\"Survived\\\"]]\\n\\n\\n# X_train, X_test, y_train, y_test = train_test_split(X, y, test_size=0.2)\";\n",
       "                var nbb_cells = Jupyter.notebook.get_cells();\n",
       "                for (var i = 0; i < nbb_cells.length; ++i) {\n",
       "                    if (nbb_cells[i].input_prompt_number == nbb_cell_id) {\n",
       "                        if (nbb_cells[i].get_text() == nbb_unformatted_code) {\n",
       "                             nbb_cells[i].set_text(nbb_formatted_code);\n",
       "                        }\n",
       "                        break;\n",
       "                    }\n",
       "                }\n",
       "            }, 500);\n",
       "            "
      ],
      "text/plain": [
       "<IPython.core.display.Javascript object>"
      ]
     },
     "metadata": {},
     "output_type": "display_data"
    }
   ],
   "source": [
    "# X = t_dummy.drop(\"Survived\", 1)\n",
    "# y = t_dummy[[\"Survived\"]]\n",
    "\n",
    "\n",
    "# X_train, X_test, y_train, y_test = train_test_split(X, y, test_size=0.2)"
   ]
  },
  {
   "cell_type": "markdown",
   "metadata": {
    "colab_type": "text",
    "id": "H-27Xq4M0jTP"
   },
   "source": [
    "At this point, we are ready to create a model. Import `Sequential` and `Dense` from Keras"
   ]
  },
  {
   "cell_type": "code",
   "execution_count": 17,
   "metadata": {
    "colab": {},
    "colab_type": "code",
    "id": "PDcPIuoD0jTP"
   },
   "outputs": [
    {
     "data": {
      "application/javascript": [
       "\n",
       "            setTimeout(function() {\n",
       "                var nbb_cell_id = 17;\n",
       "                var nbb_unformatted_code = \"# Answer below:\\nfrom tensorflow.keras.models import Sequential\\nfrom tensorflow.keras.layers import Dense\";\n",
       "                var nbb_formatted_code = \"# Answer below:\\nfrom tensorflow.keras.models import Sequential\\nfrom tensorflow.keras.layers import Dense\";\n",
       "                var nbb_cells = Jupyter.notebook.get_cells();\n",
       "                for (var i = 0; i < nbb_cells.length; ++i) {\n",
       "                    if (nbb_cells[i].input_prompt_number == nbb_cell_id) {\n",
       "                        if (nbb_cells[i].get_text() == nbb_unformatted_code) {\n",
       "                             nbb_cells[i].set_text(nbb_formatted_code);\n",
       "                        }\n",
       "                        break;\n",
       "                    }\n",
       "                }\n",
       "            }, 500);\n",
       "            "
      ],
      "text/plain": [
       "<IPython.core.display.Javascript object>"
      ]
     },
     "metadata": {},
     "output_type": "display_data"
    }
   ],
   "source": [
    "# Answer below:\n",
    "from tensorflow.keras.models import Sequential\n",
    "from tensorflow.keras.layers import Dense\n",
    "\n"
   ]
  },
  {
   "cell_type": "markdown",
   "metadata": {
    "colab_type": "text",
    "id": "ub0uCwyH0jTR"
   },
   "source": [
    "Create a model with 5 layers. The first layer should be a dense layer that receives the input, the last layer should be of size 1. You determine the remaining layer sizes.\n",
    "\n",
    "Use a tanh activation for the output layer."
   ]
  },
  {
   "cell_type": "code",
   "execution_count": 18,
   "metadata": {
    "colab": {},
    "colab_type": "code",
    "id": "wSiTyR7D0jTR"
   },
   "outputs": [
    {
     "name": "stdout",
     "output_type": "stream",
     "text": [
      "Executing op RandomUniform in device /job:localhost/replica:0/task:0/device:GPU:0\n",
      "Executing op Sub in device /job:localhost/replica:0/task:0/device:GPU:0\n",
      "Executing op Mul in device /job:localhost/replica:0/task:0/device:GPU:0\n",
      "Executing op Add in device /job:localhost/replica:0/task:0/device:GPU:0\n",
      "Executing op VarHandleOp in device /job:localhost/replica:0/task:0/device:GPU:0\n",
      "Executing op VarIsInitializedOp in device /job:localhost/replica:0/task:0/device:GPU:0\n",
      "Executing op LogicalNot in device /job:localhost/replica:0/task:0/device:GPU:0\n",
      "Executing op Assert in device /job:localhost/replica:0/task:0/device:GPU:0\n",
      "Executing op AssignVariableOp in device /job:localhost/replica:0/task:0/device:GPU:0\n",
      "Executing op Fill in device /job:localhost/replica:0/task:0/device:GPU:0\n",
      "Executing op VarHandleOp in device /job:localhost/replica:0/task:0/device:GPU:0\n",
      "Executing op VarHandleOp in device /job:localhost/replica:0/task:0/device:GPU:0\n",
      "Executing op VarHandleOp in device /job:localhost/replica:0/task:0/device:GPU:0\n",
      "Executing op VarHandleOp in device /job:localhost/replica:0/task:0/device:GPU:0\n",
      "Executing op VarHandleOp in device /job:localhost/replica:0/task:0/device:GPU:0\n",
      "Executing op VarHandleOp in device /job:localhost/replica:0/task:0/device:GPU:0\n",
      "Executing op VarHandleOp in device /job:localhost/replica:0/task:0/device:GPU:0\n",
      "Executing op VarHandleOp in device /job:localhost/replica:0/task:0/device:GPU:0\n",
      "Executing op Reshape in device /job:localhost/replica:0/task:0/device:GPU:0\n",
      "Executing op VarHandleOp in device /job:localhost/replica:0/task:0/device:GPU:0\n"
     ]
    },
    {
     "data": {
      "application/javascript": [
       "\n",
       "            setTimeout(function() {\n",
       "                var nbb_cell_id = 18;\n",
       "                var nbb_unformatted_code = \"# Answer below\\nmodel = Sequential()\\n\\nmodel.add(Dense(64, input_dim = X_train.shape[1], activation='relu'))\\n\\nmodel.add(Dense(32, activation='relu'))\\n\\nmodel.add(Dense(16, activation='relu'))\\n\\nmodel.add(Dense(8, activation='relu'))\\n\\nmodel.add(Dense(y.shape[1], activation='tanh'))\";\n",
       "                var nbb_formatted_code = \"# Answer below\\nmodel = Sequential()\\n\\nmodel.add(Dense(64, input_dim=X_train.shape[1], activation=\\\"relu\\\"))\\n\\nmodel.add(Dense(32, activation=\\\"relu\\\"))\\n\\nmodel.add(Dense(16, activation=\\\"relu\\\"))\\n\\nmodel.add(Dense(8, activation=\\\"relu\\\"))\\n\\nmodel.add(Dense(y.shape[1], activation=\\\"tanh\\\"))\";\n",
       "                var nbb_cells = Jupyter.notebook.get_cells();\n",
       "                for (var i = 0; i < nbb_cells.length; ++i) {\n",
       "                    if (nbb_cells[i].input_prompt_number == nbb_cell_id) {\n",
       "                        if (nbb_cells[i].get_text() == nbb_unformatted_code) {\n",
       "                             nbb_cells[i].set_text(nbb_formatted_code);\n",
       "                        }\n",
       "                        break;\n",
       "                    }\n",
       "                }\n",
       "            }, 500);\n",
       "            "
      ],
      "text/plain": [
       "<IPython.core.display.Javascript object>"
      ]
     },
     "metadata": {},
     "output_type": "display_data"
    }
   ],
   "source": [
    "# Answer below\n",
    "model = Sequential()\n",
    "\n",
    "model.add(Dense(64, input_dim = X_train.shape[1], activation='relu'))\n",
    "\n",
    "model.add(Dense(32, activation='relu'))\n",
    "\n",
    "model.add(Dense(16, activation='relu'))\n",
    "\n",
    "model.add(Dense(8, activation='relu'))\n",
    "\n",
    "model.add(Dense(y.shape[1], activation='tanh'))\n",
    "\n",
    "\n"
   ]
  },
  {
   "cell_type": "markdown",
   "metadata": {
    "colab_type": "text",
    "id": "yh-Ely-K0jTT"
   },
   "source": [
    "Compile the model using the adam optimizer, binary crossentropy loss, and the accuracy metric.\n",
    "\n",
    "Fit the model using a batch size of 80 over 200 epochs."
   ]
  },
  {
   "cell_type": "code",
   "execution_count": 19,
   "metadata": {
    "colab": {},
    "colab_type": "code",
    "id": "lT-9MGP30jTT"
   },
   "outputs": [
    {
     "name": "stdout",
     "output_type": "stream",
     "text": [
      "Executing op VarHandleOp in device /job:localhost/replica:0/task:0/device:GPU:0\n"
     ]
    },
    {
     "data": {
      "application/javascript": [
       "\n",
       "            setTimeout(function() {\n",
       "                var nbb_cell_id = 19;\n",
       "                var nbb_unformatted_code = \"# Answer below:\\nmodel.compile(loss='binary_crossentropy', optimizer='adam', metrics=['accuracy'])\";\n",
       "                var nbb_formatted_code = \"# Answer below:\\nmodel.compile(loss=\\\"binary_crossentropy\\\", optimizer=\\\"adam\\\", metrics=[\\\"accuracy\\\"])\";\n",
       "                var nbb_cells = Jupyter.notebook.get_cells();\n",
       "                for (var i = 0; i < nbb_cells.length; ++i) {\n",
       "                    if (nbb_cells[i].input_prompt_number == nbb_cell_id) {\n",
       "                        if (nbb_cells[i].get_text() == nbb_unformatted_code) {\n",
       "                             nbb_cells[i].set_text(nbb_formatted_code);\n",
       "                        }\n",
       "                        break;\n",
       "                    }\n",
       "                }\n",
       "            }, 500);\n",
       "            "
      ],
      "text/plain": [
       "<IPython.core.display.Javascript object>"
      ]
     },
     "metadata": {},
     "output_type": "display_data"
    }
   ],
   "source": [
    "# Answer below:\n",
    "model.compile(loss='binary_crossentropy', optimizer='adam', metrics=['accuracy'])\n"
   ]
  },
  {
   "cell_type": "code",
   "execution_count": 20,
   "metadata": {
    "scrolled": true
   },
   "outputs": [
    {
     "name": "stdout",
     "output_type": "stream",
     "text": [
      "WARNING:tensorflow:Falling back from v2 loop because of error: Failed to find data adapter that can handle input: <class 'pandas.core.frame.DataFrame'>, <class 'NoneType'>\n",
      "WARNING:tensorflow:From C:\\ProgramData\\Anaconda3\\lib\\site-packages\\tensorflow_core\\python\\ops\\math_grad.py:1424: where (from tensorflow.python.ops.array_ops) is deprecated and will be removed in a future version.\n",
      "Instructions for updating:\n",
      "Use tf.where in 2.0, which has the same broadcast rule as np.where\n",
      "Executing op VarHandleOp in device /job:localhost/replica:0/task:0/device:GPU:0\n",
      "Executing op AssignVariableOp in device /job:localhost/replica:0/task:0/device:GPU:0\n",
      "Executing op Fill in device /job:localhost/replica:0/task:0/device:GPU:0\n",
      "Executing op VarHandleOp in device /job:localhost/replica:0/task:0/device:GPU:0\n",
      "Executing op LogicalNot in device /job:localhost/replica:0/task:0/device:GPU:0\n",
      "Executing op Assert in device /job:localhost/replica:0/task:0/device:GPU:0\n",
      "Executing op VarHandleOp in device /job:localhost/replica:0/task:0/device:GPU:0\n",
      "Executing op VarHandleOp in device /job:localhost/replica:0/task:0/device:GPU:0\n",
      "Executing op VarHandleOp in device /job:localhost/replica:0/task:0/device:GPU:0\n",
      "Executing op VarHandleOp in device /job:localhost/replica:0/task:0/device:GPU:0\n",
      "Executing op VarHandleOp in device /job:localhost/replica:0/task:0/device:GPU:0\n",
      "Executing op VarHandleOp in device /job:localhost/replica:0/task:0/device:GPU:0\n",
      "Executing op VarHandleOp in device /job:localhost/replica:0/task:0/device:GPU:0\n",
      "Executing op VarHandleOp in device /job:localhost/replica:0/task:0/device:GPU:0\n",
      "Executing op Reshape in device /job:localhost/replica:0/task:0/device:GPU:0\n",
      "Executing op VarHandleOp in device /job:localhost/replica:0/task:0/device:GPU:0\n",
      "Train on 711 samples, validate on 178 samples\n",
      "Epoch 1/200\n",
      "Executing op __inference_keras_scratch_graph_960 in device /job:localhost/replica:0/task:0/device:GPU:0\n",
      " 80/711 [==>...........................] - ETA: 8s - loss: 6.1700 - accuracy: 0.6000Executing op __inference_keras_scratch_graph_1105 in device /job:localhost/replica:0/task:0/device:GPU:0\n",
      "711/711 [==============================] - 1s 2ms/sample - loss: 5.9010 - accuracy: 0.6174 - val_loss: 5.8927 - val_accuracy: 0.6180\n",
      "Epoch 2/200\n",
      "711/711 [==============================] - 0s 39us/sample - loss: 5.9010 - accuracy: 0.6174 - val_loss: 5.8927 - val_accuracy: 0.6180\n",
      "Epoch 3/200\n",
      "711/711 [==============================] - 0s 34us/sample - loss: 5.9010 - accuracy: 0.6174 - val_loss: 5.8927 - val_accuracy: 0.6180\n",
      "Epoch 4/200\n",
      "711/711 [==============================] - 0s 38us/sample - loss: 5.9010 - accuracy: 0.6174 - val_loss: 5.8927 - val_accuracy: 0.6180\n",
      "Epoch 5/200\n",
      "711/711 [==============================] - 0s 35us/sample - loss: 5.9010 - accuracy: 0.6174 - val_loss: 5.8927 - val_accuracy: 0.6180\n",
      "Epoch 6/200\n",
      "711/711 [==============================] - 0s 35us/sample - loss: 5.9010 - accuracy: 0.6174 - val_loss: 5.8927 - val_accuracy: 0.6180\n",
      "Epoch 7/200\n",
      "711/711 [==============================] - 0s 38us/sample - loss: 5.9010 - accuracy: 0.6174 - val_loss: 5.8927 - val_accuracy: 0.6180\n",
      "Epoch 8/200\n",
      "711/711 [==============================] - 0s 35us/sample - loss: 5.9010 - accuracy: 0.6174 - val_loss: 5.8927 - val_accuracy: 0.6180\n",
      "Epoch 9/200\n",
      "711/711 [==============================] - 0s 38us/sample - loss: 5.9010 - accuracy: 0.6174 - val_loss: 5.8927 - val_accuracy: 0.6180\n",
      "Epoch 10/200\n",
      "711/711 [==============================] - 0s 36us/sample - loss: 5.9010 - accuracy: 0.6174 - val_loss: 5.8927 - val_accuracy: 0.6180\n",
      "Epoch 11/200\n",
      "711/711 [==============================] - 0s 35us/sample - loss: 5.9010 - accuracy: 0.6174 - val_loss: 5.8927 - val_accuracy: 0.6180\n",
      "Epoch 12/200\n",
      "711/711 [==============================] - 0s 38us/sample - loss: 5.9010 - accuracy: 0.6174 - val_loss: 5.8927 - val_accuracy: 0.6180\n",
      "Epoch 13/200\n",
      "711/711 [==============================] - 0s 35us/sample - loss: 5.9010 - accuracy: 0.6174 - val_loss: 5.8927 - val_accuracy: 0.6180\n",
      "Epoch 14/200\n",
      "711/711 [==============================] - 0s 35us/sample - loss: 5.9010 - accuracy: 0.6174 - val_loss: 5.8927 - val_accuracy: 0.6180\n",
      "Epoch 15/200\n",
      "711/711 [==============================] - 0s 35us/sample - loss: 5.9010 - accuracy: 0.6174 - val_loss: 5.8927 - val_accuracy: 0.6180\n",
      "Epoch 16/200\n",
      "711/711 [==============================] - 0s 35us/sample - loss: 5.9010 - accuracy: 0.6174 - val_loss: 5.8927 - val_accuracy: 0.6180\n",
      "Epoch 17/200\n",
      "711/711 [==============================] - 0s 38us/sample - loss: 5.9010 - accuracy: 0.6174 - val_loss: 5.8927 - val_accuracy: 0.6180\n",
      "Epoch 18/200\n",
      "711/711 [==============================] - 0s 34us/sample - loss: 5.9010 - accuracy: 0.6174 - val_loss: 5.8927 - val_accuracy: 0.6180\n",
      "Epoch 19/200\n",
      "711/711 [==============================] - 0s 38us/sample - loss: 5.9010 - accuracy: 0.6174 - val_loss: 5.8927 - val_accuracy: 0.6180\n",
      "Epoch 20/200\n",
      "711/711 [==============================] - 0s 36us/sample - loss: 5.9010 - accuracy: 0.6174 - val_loss: 5.8927 - val_accuracy: 0.6180\n",
      "Epoch 21/200\n",
      "711/711 [==============================] - 0s 38us/sample - loss: 5.9010 - accuracy: 0.6174 - val_loss: 5.8927 - val_accuracy: 0.6180\n",
      "Epoch 22/200\n",
      "711/711 [==============================] - 0s 36us/sample - loss: 5.9010 - accuracy: 0.6174 - val_loss: 5.8927 - val_accuracy: 0.6180\n",
      "Epoch 23/200\n",
      "711/711 [==============================] - 0s 39us/sample - loss: 5.9010 - accuracy: 0.6174 - val_loss: 5.8927 - val_accuracy: 0.6180\n",
      "Epoch 24/200\n",
      "711/711 [==============================] - 0s 38us/sample - loss: 5.9010 - accuracy: 0.6174 - val_loss: 5.8927 - val_accuracy: 0.6180\n",
      "Epoch 25/200\n",
      "711/711 [==============================] - 0s 34us/sample - loss: 5.9010 - accuracy: 0.6174 - val_loss: 5.8927 - val_accuracy: 0.6180\n",
      "Epoch 26/200\n",
      "711/711 [==============================] - 0s 39us/sample - loss: 5.9010 - accuracy: 0.6174 - val_loss: 5.8927 - val_accuracy: 0.6180\n",
      "Epoch 27/200\n",
      "711/711 [==============================] - 0s 35us/sample - loss: 5.9010 - accuracy: 0.6174 - val_loss: 5.8927 - val_accuracy: 0.6180\n",
      "Epoch 28/200\n",
      "711/711 [==============================] - 0s 34us/sample - loss: 5.9010 - accuracy: 0.6174 - val_loss: 5.8927 - val_accuracy: 0.6180\n",
      "Epoch 29/200\n",
      "711/711 [==============================] - 0s 38us/sample - loss: 5.9010 - accuracy: 0.6174 - val_loss: 5.8927 - val_accuracy: 0.6180\n",
      "Epoch 30/200\n",
      "711/711 [==============================] - 0s 36us/sample - loss: 5.9010 - accuracy: 0.6174 - val_loss: 5.8927 - val_accuracy: 0.6180\n",
      "Epoch 31/200\n",
      "711/711 [==============================] - 0s 35us/sample - loss: 5.9010 - accuracy: 0.6174 - val_loss: 5.8927 - val_accuracy: 0.6180\n",
      "Epoch 32/200\n",
      "711/711 [==============================] - 0s 38us/sample - loss: 5.9010 - accuracy: 0.6174 - val_loss: 5.8927 - val_accuracy: 0.6180\n",
      "Epoch 33/200\n",
      "711/711 [==============================] - 0s 34us/sample - loss: 5.9010 - accuracy: 0.6174 - val_loss: 5.8927 - val_accuracy: 0.6180\n",
      "Epoch 34/200\n",
      "711/711 [==============================] - 0s 35us/sample - loss: 5.9010 - accuracy: 0.6174 - val_loss: 5.8927 - val_accuracy: 0.6180\n",
      "Epoch 35/200\n",
      "711/711 [==============================] - 0s 35us/sample - loss: 5.9010 - accuracy: 0.6174 - val_loss: 5.8927 - val_accuracy: 0.6180\n",
      "Epoch 36/200\n",
      "711/711 [==============================] - 0s 35us/sample - loss: 5.9010 - accuracy: 0.6174 - val_loss: 5.8927 - val_accuracy: 0.6180\n",
      "Epoch 37/200\n",
      "711/711 [==============================] - 0s 36us/sample - loss: 5.9010 - accuracy: 0.6174 - val_loss: 5.8927 - val_accuracy: 0.6180\n",
      "Epoch 38/200\n",
      "711/711 [==============================] - 0s 36us/sample - loss: 5.9010 - accuracy: 0.6174 - val_loss: 5.8927 - val_accuracy: 0.6180\n",
      "Epoch 39/200\n",
      "711/711 [==============================] - 0s 34us/sample - loss: 5.9010 - accuracy: 0.6174 - val_loss: 5.8927 - val_accuracy: 0.6180\n",
      "Epoch 40/200\n",
      "711/711 [==============================] - 0s 36us/sample - loss: 5.9010 - accuracy: 0.6174 - val_loss: 5.8927 - val_accuracy: 0.6180\n",
      "Epoch 41/200\n",
      "711/711 [==============================] - 0s 35us/sample - loss: 5.9010 - accuracy: 0.6174 - val_loss: 5.8927 - val_accuracy: 0.6180\n",
      "Epoch 42/200\n",
      "711/711 [==============================] - 0s 35us/sample - loss: 5.9010 - accuracy: 0.6174 - val_loss: 5.8927 - val_accuracy: 0.6180\n",
      "Epoch 43/200\n",
      "711/711 [==============================] - 0s 38us/sample - loss: 5.9010 - accuracy: 0.6174 - val_loss: 5.8927 - val_accuracy: 0.6180\n",
      "Epoch 44/200\n",
      "711/711 [==============================] - 0s 35us/sample - loss: 5.9010 - accuracy: 0.6174 - val_loss: 5.8927 - val_accuracy: 0.6180\n",
      "Epoch 45/200\n",
      "711/711 [==============================] - 0s 36us/sample - loss: 5.9010 - accuracy: 0.6174 - val_loss: 5.8927 - val_accuracy: 0.6180\n",
      "Epoch 46/200\n",
      "711/711 [==============================] - 0s 35us/sample - loss: 5.9010 - accuracy: 0.6174 - val_loss: 5.8927 - val_accuracy: 0.6180\n",
      "Epoch 47/200\n",
      "711/711 [==============================] - 0s 35us/sample - loss: 5.9010 - accuracy: 0.6174 - val_loss: 5.8927 - val_accuracy: 0.6180\n",
      "Epoch 48/200\n",
      "711/711 [==============================] - 0s 39us/sample - loss: 5.9010 - accuracy: 0.6174 - val_loss: 5.8927 - val_accuracy: 0.6180\n",
      "Epoch 49/200\n",
      "711/711 [==============================] - 0s 36us/sample - loss: 5.9010 - accuracy: 0.6174 - val_loss: 5.8927 - val_accuracy: 0.6180\n",
      "Epoch 50/200\n",
      "711/711 [==============================] - 0s 34us/sample - loss: 5.9010 - accuracy: 0.6174 - val_loss: 5.8927 - val_accuracy: 0.6180\n",
      "Epoch 51/200\n",
      "711/711 [==============================] - 0s 36us/sample - loss: 5.9010 - accuracy: 0.6174 - val_loss: 5.8927 - val_accuracy: 0.6180\n",
      "Epoch 52/200\n",
      "711/711 [==============================] - 0s 34us/sample - loss: 5.9010 - accuracy: 0.6174 - val_loss: 5.8927 - val_accuracy: 0.6180\n",
      "Epoch 53/200\n",
      "711/711 [==============================] - 0s 34us/sample - loss: 5.9010 - accuracy: 0.6174 - val_loss: 5.8927 - val_accuracy: 0.6180\n",
      "Epoch 54/200\n",
      "711/711 [==============================] - 0s 35us/sample - loss: 5.9010 - accuracy: 0.6174 - val_loss: 5.8927 - val_accuracy: 0.6180\n",
      "Epoch 55/200\n",
      "711/711 [==============================] - 0s 39us/sample - loss: 5.9010 - accuracy: 0.6174 - val_loss: 5.8927 - val_accuracy: 0.6180\n",
      "Epoch 56/200\n",
      "711/711 [==============================] - 0s 38us/sample - loss: 5.9010 - accuracy: 0.6174 - val_loss: 5.8927 - val_accuracy: 0.6180\n",
      "Epoch 57/200\n",
      "711/711 [==============================] - 0s 38us/sample - loss: 5.9010 - accuracy: 0.6174 - val_loss: 5.8927 - val_accuracy: 0.6180\n",
      "Epoch 58/200\n",
      "711/711 [==============================] - 0s 38us/sample - loss: 5.9010 - accuracy: 0.6174 - val_loss: 5.8927 - val_accuracy: 0.6180\n",
      "Epoch 59/200\n",
      "711/711 [==============================] - 0s 36us/sample - loss: 5.9010 - accuracy: 0.6174 - val_loss: 5.8927 - val_accuracy: 0.6180\n",
      "Epoch 60/200\n",
      "711/711 [==============================] - 0s 38us/sample - loss: 5.9010 - accuracy: 0.6174 - val_loss: 5.8927 - val_accuracy: 0.6180\n",
      "Epoch 61/200\n",
      "711/711 [==============================] - 0s 38us/sample - loss: 5.9010 - accuracy: 0.6174 - val_loss: 5.8927 - val_accuracy: 0.6180\n",
      "Epoch 62/200\n",
      "711/711 [==============================] - 0s 36us/sample - loss: 5.9010 - accuracy: 0.6174 - val_loss: 5.8927 - val_accuracy: 0.6180\n",
      "Epoch 63/200\n",
      "711/711 [==============================] - 0s 36us/sample - loss: 5.9010 - accuracy: 0.6174 - val_loss: 5.8927 - val_accuracy: 0.6180\n",
      "Epoch 64/200\n",
      "711/711 [==============================] - 0s 36us/sample - loss: 5.9010 - accuracy: 0.6174 - val_loss: 5.8927 - val_accuracy: 0.6180\n",
      "Epoch 65/200\n",
      "711/711 [==============================] - 0s 35us/sample - loss: 5.9010 - accuracy: 0.6174 - val_loss: 5.8927 - val_accuracy: 0.6180\n",
      "Epoch 66/200\n",
      "711/711 [==============================] - 0s 36us/sample - loss: 5.9010 - accuracy: 0.6174 - val_loss: 5.8927 - val_accuracy: 0.6180\n",
      "Epoch 67/200\n",
      "711/711 [==============================] - 0s 39us/sample - loss: 5.9010 - accuracy: 0.6174 - val_loss: 5.8927 - val_accuracy: 0.6180\n",
      "Epoch 68/200\n",
      "711/711 [==============================] - 0s 34us/sample - loss: 5.9010 - accuracy: 0.6174 - val_loss: 5.8927 - val_accuracy: 0.6180\n",
      "Epoch 69/200\n",
      "711/711 [==============================] - 0s 36us/sample - loss: 5.9010 - accuracy: 0.6174 - val_loss: 5.8927 - val_accuracy: 0.6180\n",
      "Epoch 70/200\n",
      "711/711 [==============================] - 0s 35us/sample - loss: 5.9010 - accuracy: 0.6174 - val_loss: 5.8927 - val_accuracy: 0.6180\n",
      "Epoch 71/200\n",
      "711/711 [==============================] - 0s 35us/sample - loss: 5.9010 - accuracy: 0.6174 - val_loss: 5.8927 - val_accuracy: 0.6180\n",
      "Epoch 72/200\n",
      "711/711 [==============================] - 0s 36us/sample - loss: 5.9010 - accuracy: 0.6174 - val_loss: 5.8927 - val_accuracy: 0.6180\n",
      "Epoch 73/200\n",
      "711/711 [==============================] - 0s 34us/sample - loss: 5.9010 - accuracy: 0.6174 - val_loss: 5.8927 - val_accuracy: 0.6180\n",
      "Epoch 74/200\n",
      "711/711 [==============================] - 0s 36us/sample - loss: 5.9010 - accuracy: 0.6174 - val_loss: 5.8927 - val_accuracy: 0.6180\n",
      "Epoch 75/200\n",
      "711/711 [==============================] - 0s 36us/sample - loss: 5.9010 - accuracy: 0.6174 - val_loss: 5.8927 - val_accuracy: 0.6180\n",
      "Epoch 76/200\n",
      "711/711 [==============================] - 0s 34us/sample - loss: 5.9010 - accuracy: 0.6174 - val_loss: 5.8927 - val_accuracy: 0.6180\n",
      "Epoch 77/200\n",
      "711/711 [==============================] - 0s 35us/sample - loss: 5.9010 - accuracy: 0.6174 - val_loss: 5.8927 - val_accuracy: 0.6180\n",
      "Epoch 78/200\n",
      "711/711 [==============================] - 0s 36us/sample - loss: 5.9010 - accuracy: 0.6174 - val_loss: 5.8927 - val_accuracy: 0.6180\n",
      "Epoch 79/200\n",
      "711/711 [==============================] - 0s 36us/sample - loss: 5.9010 - accuracy: 0.6174 - val_loss: 5.8927 - val_accuracy: 0.6180\n",
      "Epoch 80/200\n",
      "711/711 [==============================] - 0s 38us/sample - loss: 5.9010 - accuracy: 0.6174 - val_loss: 5.8927 - val_accuracy: 0.6180\n",
      "Epoch 81/200\n",
      "711/711 [==============================] - 0s 34us/sample - loss: 5.9010 - accuracy: 0.6174 - val_loss: 5.8927 - val_accuracy: 0.6180\n",
      "Epoch 82/200\n",
      "711/711 [==============================] - 0s 35us/sample - loss: 5.9010 - accuracy: 0.6174 - val_loss: 5.8927 - val_accuracy: 0.6180\n",
      "Epoch 83/200\n",
      "711/711 [==============================] - 0s 38us/sample - loss: 5.9010 - accuracy: 0.6174 - val_loss: 5.8927 - val_accuracy: 0.6180\n",
      "Epoch 84/200\n",
      "711/711 [==============================] - 0s 35us/sample - loss: 5.9010 - accuracy: 0.6174 - val_loss: 5.8927 - val_accuracy: 0.6180\n",
      "Epoch 85/200\n",
      "711/711 [==============================] - 0s 37us/sample - loss: 5.9010 - accuracy: 0.6174 - val_loss: 5.8927 - val_accuracy: 0.6180\n",
      "Epoch 86/200\n",
      "711/711 [==============================] - 0s 36us/sample - loss: 5.9010 - accuracy: 0.6174 - val_loss: 5.8927 - val_accuracy: 0.6180\n",
      "Epoch 87/200\n",
      "711/711 [==============================] - 0s 34us/sample - loss: 5.9010 - accuracy: 0.6174 - val_loss: 5.8927 - val_accuracy: 0.6180\n",
      "Epoch 88/200\n",
      "711/711 [==============================] - 0s 36us/sample - loss: 5.9010 - accuracy: 0.6174 - val_loss: 5.8927 - val_accuracy: 0.6180\n",
      "Epoch 89/200\n",
      "711/711 [==============================] - 0s 38us/sample - loss: 5.9010 - accuracy: 0.6174 - val_loss: 5.8927 - val_accuracy: 0.6180\n",
      "Epoch 90/200\n",
      "711/711 [==============================] - 0s 35us/sample - loss: 5.9010 - accuracy: 0.6174 - val_loss: 5.8927 - val_accuracy: 0.6180\n",
      "Epoch 91/200\n",
      "711/711 [==============================] - 0s 36us/sample - loss: 5.9010 - accuracy: 0.6174 - val_loss: 5.8927 - val_accuracy: 0.6180\n",
      "Epoch 92/200\n",
      "711/711 [==============================] - 0s 40us/sample - loss: 5.9010 - accuracy: 0.6174 - val_loss: 5.8927 - val_accuracy: 0.6180\n",
      "Epoch 93/200\n",
      "711/711 [==============================] - 0s 34us/sample - loss: 5.9010 - accuracy: 0.6174 - val_loss: 5.8927 - val_accuracy: 0.6180\n",
      "Epoch 94/200\n",
      "711/711 [==============================] - 0s 38us/sample - loss: 5.9010 - accuracy: 0.6174 - val_loss: 5.8927 - val_accuracy: 0.6180\n",
      "Epoch 95/200\n",
      "711/711 [==============================] - 0s 39us/sample - loss: 5.9010 - accuracy: 0.6174 - val_loss: 5.8927 - val_accuracy: 0.6180\n",
      "Epoch 96/200\n",
      "711/711 [==============================] - 0s 43us/sample - loss: 5.9010 - accuracy: 0.6174 - val_loss: 5.8927 - val_accuracy: 0.6180\n",
      "Epoch 97/200\n",
      "711/711 [==============================] - 0s 38us/sample - loss: 5.9010 - accuracy: 0.6174 - val_loss: 5.8927 - val_accuracy: 0.6180\n"
     ]
    },
    {
     "name": "stdout",
     "output_type": "stream",
     "text": [
      "Epoch 98/200\n",
      "711/711 [==============================] - 0s 39us/sample - loss: 5.9010 - accuracy: 0.6174 - val_loss: 5.8927 - val_accuracy: 0.6180\n",
      "Epoch 99/200\n",
      "711/711 [==============================] - 0s 42us/sample - loss: 5.9010 - accuracy: 0.6174 - val_loss: 5.8927 - val_accuracy: 0.6180\n",
      "Epoch 100/200\n",
      "711/711 [==============================] - 0s 42us/sample - loss: 5.9010 - accuracy: 0.6174 - val_loss: 5.8927 - val_accuracy: 0.6180\n",
      "Epoch 101/200\n",
      "711/711 [==============================] - 0s 45us/sample - loss: 5.9010 - accuracy: 0.6174 - val_loss: 5.8927 - val_accuracy: 0.6180\n",
      "Epoch 102/200\n",
      "711/711 [==============================] - 0s 46us/sample - loss: 5.9010 - accuracy: 0.6174 - val_loss: 5.8927 - val_accuracy: 0.6180\n",
      "Epoch 103/200\n",
      "711/711 [==============================] - 0s 42us/sample - loss: 5.9010 - accuracy: 0.6174 - val_loss: 5.8927 - val_accuracy: 0.6180\n",
      "Epoch 104/200\n",
      "711/711 [==============================] - 0s 42us/sample - loss: 5.9010 - accuracy: 0.6174 - val_loss: 5.8927 - val_accuracy: 0.6180\n",
      "Epoch 105/200\n",
      "711/711 [==============================] - 0s 39us/sample - loss: 5.9010 - accuracy: 0.6174 - val_loss: 5.8927 - val_accuracy: 0.6180\n",
      "Epoch 106/200\n",
      "711/711 [==============================] - 0s 34us/sample - loss: 5.9010 - accuracy: 0.6174 - val_loss: 5.8927 - val_accuracy: 0.6180\n",
      "Epoch 107/200\n",
      "711/711 [==============================] - 0s 34us/sample - loss: 5.9010 - accuracy: 0.6174 - val_loss: 5.8927 - val_accuracy: 0.6180\n",
      "Epoch 108/200\n",
      "711/711 [==============================] - 0s 42us/sample - loss: 5.9010 - accuracy: 0.6174 - val_loss: 5.8927 - val_accuracy: 0.6180\n",
      "Epoch 109/200\n",
      "711/711 [==============================] - 0s 45us/sample - loss: 5.9010 - accuracy: 0.6174 - val_loss: 5.8927 - val_accuracy: 0.6180\n",
      "Epoch 110/200\n",
      "711/711 [==============================] - 0s 45us/sample - loss: 5.9010 - accuracy: 0.6174 - val_loss: 5.8927 - val_accuracy: 0.6180\n",
      "Epoch 111/200\n",
      "711/711 [==============================] - 0s 42us/sample - loss: 5.9010 - accuracy: 0.6174 - val_loss: 5.8927 - val_accuracy: 0.6180\n",
      "Epoch 112/200\n",
      "711/711 [==============================] - 0s 41us/sample - loss: 5.9010 - accuracy: 0.6174 - val_loss: 5.8927 - val_accuracy: 0.6180\n",
      "Epoch 113/200\n",
      "711/711 [==============================] - 0s 41us/sample - loss: 5.9010 - accuracy: 0.6174 - val_loss: 5.8927 - val_accuracy: 0.6180\n",
      "Epoch 114/200\n",
      "711/711 [==============================] - 0s 35us/sample - loss: 5.9010 - accuracy: 0.6174 - val_loss: 5.8927 - val_accuracy: 0.6180\n",
      "Epoch 115/200\n",
      "711/711 [==============================] - 0s 36us/sample - loss: 5.9010 - accuracy: 0.6174 - val_loss: 5.8927 - val_accuracy: 0.6180\n",
      "Epoch 116/200\n",
      "711/711 [==============================] - 0s 56us/sample - loss: 5.9010 - accuracy: 0.6174 - val_loss: 5.8927 - val_accuracy: 0.6180\n",
      "Epoch 117/200\n",
      "711/711 [==============================] - 0s 52us/sample - loss: 5.9010 - accuracy: 0.6174 - val_loss: 5.8927 - val_accuracy: 0.6180\n",
      "Epoch 118/200\n",
      "711/711 [==============================] - 0s 35us/sample - loss: 5.9010 - accuracy: 0.6174 - val_loss: 5.8927 - val_accuracy: 0.6180\n",
      "Epoch 119/200\n",
      "711/711 [==============================] - 0s 36us/sample - loss: 5.9010 - accuracy: 0.6174 - val_loss: 5.8927 - val_accuracy: 0.6180\n",
      "Epoch 120/200\n",
      "711/711 [==============================] - 0s 39us/sample - loss: 5.9010 - accuracy: 0.6174 - val_loss: 5.8927 - val_accuracy: 0.6180\n",
      "Epoch 121/200\n",
      "711/711 [==============================] - 0s 39us/sample - loss: 5.9010 - accuracy: 0.6174 - val_loss: 5.8927 - val_accuracy: 0.6180\n",
      "Epoch 122/200\n",
      "711/711 [==============================] - 0s 45us/sample - loss: 5.9010 - accuracy: 0.6174 - val_loss: 5.8927 - val_accuracy: 0.6180\n",
      "Epoch 123/200\n",
      "711/711 [==============================] - 0s 39us/sample - loss: 5.9010 - accuracy: 0.6174 - val_loss: 5.8927 - val_accuracy: 0.6180\n",
      "Epoch 124/200\n",
      "711/711 [==============================] - 0s 39us/sample - loss: 5.9010 - accuracy: 0.6174 - val_loss: 5.8927 - val_accuracy: 0.6180\n",
      "Epoch 125/200\n",
      "711/711 [==============================] - 0s 42us/sample - loss: 5.9010 - accuracy: 0.6174 - val_loss: 5.8927 - val_accuracy: 0.6180\n",
      "Epoch 126/200\n",
      "711/711 [==============================] - 0s 41us/sample - loss: 5.9010 - accuracy: 0.6174 - val_loss: 5.8927 - val_accuracy: 0.6180\n",
      "Epoch 127/200\n",
      "711/711 [==============================] - 0s 42us/sample - loss: 5.9010 - accuracy: 0.6174 - val_loss: 5.8927 - val_accuracy: 0.6180\n",
      "Epoch 128/200\n",
      "711/711 [==============================] - 0s 36us/sample - loss: 5.9010 - accuracy: 0.6174 - val_loss: 5.8927 - val_accuracy: 0.6180\n",
      "Epoch 129/200\n",
      "711/711 [==============================] - 0s 35us/sample - loss: 5.9010 - accuracy: 0.6174 - val_loss: 5.8927 - val_accuracy: 0.6180\n",
      "Epoch 130/200\n",
      "711/711 [==============================] - 0s 35us/sample - loss: 5.9010 - accuracy: 0.6174 - val_loss: 5.8927 - val_accuracy: 0.6180\n",
      "Epoch 131/200\n",
      "711/711 [==============================] - 0s 35us/sample - loss: 5.9010 - accuracy: 0.6174 - val_loss: 5.8927 - val_accuracy: 0.6180\n",
      "Epoch 132/200\n",
      "711/711 [==============================] - 0s 39us/sample - loss: 5.9010 - accuracy: 0.6174 - val_loss: 5.8927 - val_accuracy: 0.6180\n",
      "Epoch 133/200\n",
      "711/711 [==============================] - 0s 38us/sample - loss: 5.9010 - accuracy: 0.6174 - val_loss: 5.8927 - val_accuracy: 0.6180\n",
      "Epoch 134/200\n",
      "711/711 [==============================] - 0s 43us/sample - loss: 5.9010 - accuracy: 0.6174 - val_loss: 5.8927 - val_accuracy: 0.6180\n",
      "Epoch 135/200\n",
      "711/711 [==============================] - 0s 42us/sample - loss: 5.9010 - accuracy: 0.6174 - val_loss: 5.8927 - val_accuracy: 0.6180\n",
      "Epoch 136/200\n",
      "711/711 [==============================] - 0s 39us/sample - loss: 5.9010 - accuracy: 0.6174 - val_loss: 5.8927 - val_accuracy: 0.6180\n",
      "Epoch 137/200\n",
      "711/711 [==============================] - 0s 38us/sample - loss: 5.9010 - accuracy: 0.6174 - val_loss: 5.8927 - val_accuracy: 0.6180\n",
      "Epoch 138/200\n",
      "711/711 [==============================] - 0s 35us/sample - loss: 5.9010 - accuracy: 0.6174 - val_loss: 5.8927 - val_accuracy: 0.6180\n",
      "Epoch 139/200\n",
      "711/711 [==============================] - 0s 38us/sample - loss: 5.9010 - accuracy: 0.6174 - val_loss: 5.8927 - val_accuracy: 0.6180\n",
      "Epoch 140/200\n",
      "711/711 [==============================] - 0s 37us/sample - loss: 5.9010 - accuracy: 0.6174 - val_loss: 5.8927 - val_accuracy: 0.6180\n",
      "Epoch 141/200\n",
      "711/711 [==============================] - 0s 35us/sample - loss: 5.9010 - accuracy: 0.6174 - val_loss: 5.8927 - val_accuracy: 0.6180\n",
      "Epoch 142/200\n",
      "711/711 [==============================] - 0s 38us/sample - loss: 5.9010 - accuracy: 0.6174 - val_loss: 5.8927 - val_accuracy: 0.6180\n",
      "Epoch 143/200\n",
      "711/711 [==============================] - 0s 36us/sample - loss: 5.9010 - accuracy: 0.6174 - val_loss: 5.8927 - val_accuracy: 0.6180\n",
      "Epoch 144/200\n",
      "711/711 [==============================] - 0s 36us/sample - loss: 5.9010 - accuracy: 0.6174 - val_loss: 5.8927 - val_accuracy: 0.6180\n",
      "Epoch 145/200\n",
      "711/711 [==============================] - 0s 38us/sample - loss: 5.9010 - accuracy: 0.6174 - val_loss: 5.8927 - val_accuracy: 0.6180\n",
      "Epoch 146/200\n",
      "711/711 [==============================] - 0s 35us/sample - loss: 5.9010 - accuracy: 0.6174 - val_loss: 5.8927 - val_accuracy: 0.6180\n",
      "Epoch 147/200\n",
      "711/711 [==============================] - 0s 38us/sample - loss: 5.9010 - accuracy: 0.6174 - val_loss: 5.8927 - val_accuracy: 0.6180\n",
      "Epoch 148/200\n",
      "711/711 [==============================] - 0s 36us/sample - loss: 5.9010 - accuracy: 0.6174 - val_loss: 5.8927 - val_accuracy: 0.6180\n",
      "Epoch 149/200\n",
      "711/711 [==============================] - 0s 38us/sample - loss: 5.9010 - accuracy: 0.6174 - val_loss: 5.8927 - val_accuracy: 0.6180\n",
      "Epoch 150/200\n",
      "711/711 [==============================] - 0s 35us/sample - loss: 5.9010 - accuracy: 0.6174 - val_loss: 5.8927 - val_accuracy: 0.6180\n",
      "Epoch 151/200\n",
      "711/711 [==============================] - 0s 36us/sample - loss: 5.9010 - accuracy: 0.6174 - val_loss: 5.8927 - val_accuracy: 0.6180\n",
      "Epoch 152/200\n",
      "711/711 [==============================] - 0s 36us/sample - loss: 5.9010 - accuracy: 0.6174 - val_loss: 5.8927 - val_accuracy: 0.6180\n",
      "Epoch 153/200\n",
      "711/711 [==============================] - 0s 34us/sample - loss: 5.9010 - accuracy: 0.6174 - val_loss: 5.8927 - val_accuracy: 0.6180\n",
      "Epoch 154/200\n",
      "711/711 [==============================] - 0s 36us/sample - loss: 5.9010 - accuracy: 0.6174 - val_loss: 5.8927 - val_accuracy: 0.6180\n",
      "Epoch 155/200\n",
      "711/711 [==============================] - 0s 34us/sample - loss: 5.9010 - accuracy: 0.6174 - val_loss: 5.8927 - val_accuracy: 0.6180\n",
      "Epoch 156/200\n",
      "711/711 [==============================] - 0s 38us/sample - loss: 5.9010 - accuracy: 0.6174 - val_loss: 5.8927 - val_accuracy: 0.6180\n",
      "Epoch 157/200\n",
      "711/711 [==============================] - 0s 36us/sample - loss: 5.9010 - accuracy: 0.6174 - val_loss: 5.8927 - val_accuracy: 0.6180\n",
      "Epoch 158/200\n",
      "711/711 [==============================] - 0s 34us/sample - loss: 5.9010 - accuracy: 0.6174 - val_loss: 5.8927 - val_accuracy: 0.6180\n",
      "Epoch 159/200\n",
      "711/711 [==============================] - 0s 36us/sample - loss: 5.9010 - accuracy: 0.6174 - val_loss: 5.8927 - val_accuracy: 0.6180\n",
      "Epoch 160/200\n",
      "711/711 [==============================] - 0s 44us/sample - loss: 5.9010 - accuracy: 0.6174 - val_loss: 5.8927 - val_accuracy: 0.6180\n",
      "Epoch 161/200\n",
      "711/711 [==============================] - 0s 39us/sample - loss: 5.9010 - accuracy: 0.6174 - val_loss: 5.8927 - val_accuracy: 0.6180\n",
      "Epoch 162/200\n",
      "711/711 [==============================] - 0s 35us/sample - loss: 5.9010 - accuracy: 0.6174 - val_loss: 5.8927 - val_accuracy: 0.6180\n",
      "Epoch 163/200\n",
      "711/711 [==============================] - 0s 36us/sample - loss: 5.9010 - accuracy: 0.6174 - val_loss: 5.8927 - val_accuracy: 0.6180\n",
      "Epoch 164/200\n",
      "711/711 [==============================] - 0s 35us/sample - loss: 5.9010 - accuracy: 0.6174 - val_loss: 5.8927 - val_accuracy: 0.6180\n",
      "Epoch 165/200\n",
      "711/711 [==============================] - 0s 36us/sample - loss: 5.9010 - accuracy: 0.6174 - val_loss: 5.8927 - val_accuracy: 0.6180\n",
      "Epoch 166/200\n",
      "711/711 [==============================] - 0s 36us/sample - loss: 5.9010 - accuracy: 0.6174 - val_loss: 5.8927 - val_accuracy: 0.6180\n",
      "Epoch 167/200\n",
      "711/711 [==============================] - 0s 34us/sample - loss: 5.9010 - accuracy: 0.6174 - val_loss: 5.8927 - val_accuracy: 0.6180\n",
      "Epoch 168/200\n",
      "711/711 [==============================] - 0s 38us/sample - loss: 5.9010 - accuracy: 0.6174 - val_loss: 5.8927 - val_accuracy: 0.6180\n",
      "Epoch 169/200\n",
      "711/711 [==============================] - 0s 41us/sample - loss: 5.9010 - accuracy: 0.6174 - val_loss: 5.8927 - val_accuracy: 0.6180\n",
      "Epoch 170/200\n",
      "711/711 [==============================] - 0s 42us/sample - loss: 5.9010 - accuracy: 0.6174 - val_loss: 5.8927 - val_accuracy: 0.6180\n",
      "Epoch 171/200\n",
      "711/711 [==============================] - 0s 38us/sample - loss: 5.9010 - accuracy: 0.6174 - val_loss: 5.8927 - val_accuracy: 0.6180\n",
      "Epoch 172/200\n",
      "711/711 [==============================] - 0s 41us/sample - loss: 5.9010 - accuracy: 0.6174 - val_loss: 5.8927 - val_accuracy: 0.6180\n",
      "Epoch 173/200\n",
      "711/711 [==============================] - 0s 43us/sample - loss: 5.9010 - accuracy: 0.6174 - val_loss: 5.8927 - val_accuracy: 0.6180\n",
      "Epoch 174/200\n",
      "711/711 [==============================] - 0s 46us/sample - loss: 5.9010 - accuracy: 0.6174 - val_loss: 5.8927 - val_accuracy: 0.6180\n",
      "Epoch 175/200\n",
      "711/711 [==============================] - 0s 43us/sample - loss: 5.9010 - accuracy: 0.6174 - val_loss: 5.8927 - val_accuracy: 0.6180\n",
      "Epoch 176/200\n",
      "711/711 [==============================] - 0s 41us/sample - loss: 5.9010 - accuracy: 0.6174 - val_loss: 5.8927 - val_accuracy: 0.6180\n",
      "Epoch 177/200\n",
      "711/711 [==============================] - 0s 43us/sample - loss: 5.9010 - accuracy: 0.6174 - val_loss: 5.8927 - val_accuracy: 0.6180\n",
      "Epoch 178/200\n",
      "711/711 [==============================] - 0s 39us/sample - loss: 5.9010 - accuracy: 0.6174 - val_loss: 5.8927 - val_accuracy: 0.6180\n",
      "Epoch 179/200\n",
      "711/711 [==============================] - 0s 36us/sample - loss: 5.9010 - accuracy: 0.6174 - val_loss: 5.8927 - val_accuracy: 0.6180\n",
      "Epoch 180/200\n",
      "711/711 [==============================] - 0s 35us/sample - loss: 5.9010 - accuracy: 0.6174 - val_loss: 5.8927 - val_accuracy: 0.6180\n",
      "Epoch 181/200\n",
      "711/711 [==============================] - 0s 39us/sample - loss: 5.9010 - accuracy: 0.6174 - val_loss: 5.8927 - val_accuracy: 0.6180\n",
      "Epoch 182/200\n",
      "711/711 [==============================] - 0s 38us/sample - loss: 5.9010 - accuracy: 0.6174 - val_loss: 5.8927 - val_accuracy: 0.6180\n",
      "Epoch 183/200\n",
      "711/711 [==============================] - 0s 35us/sample - loss: 5.9010 - accuracy: 0.6174 - val_loss: 5.8927 - val_accuracy: 0.6180\n",
      "Epoch 184/200\n",
      "711/711 [==============================] - 0s 38us/sample - loss: 5.9010 - accuracy: 0.6174 - val_loss: 5.8927 - val_accuracy: 0.6180\n",
      "Epoch 185/200\n",
      "711/711 [==============================] - 0s 39us/sample - loss: 5.9010 - accuracy: 0.6174 - val_loss: 5.8927 - val_accuracy: 0.6180\n",
      "Epoch 186/200\n",
      "711/711 [==============================] - 0s 41us/sample - loss: 5.9010 - accuracy: 0.6174 - val_loss: 5.8927 - val_accuracy: 0.6180\n",
      "Epoch 187/200\n",
      "711/711 [==============================] - 0s 39us/sample - loss: 5.9010 - accuracy: 0.6174 - val_loss: 5.8927 - val_accuracy: 0.6180\n",
      "Epoch 188/200\n",
      "711/711 [==============================] - 0s 35us/sample - loss: 5.9010 - accuracy: 0.6174 - val_loss: 5.8927 - val_accuracy: 0.6180\n",
      "Epoch 189/200\n",
      "711/711 [==============================] - 0s 38us/sample - loss: 5.9010 - accuracy: 0.6174 - val_loss: 5.8927 - val_accuracy: 0.6180\n",
      "Epoch 190/200\n",
      "711/711 [==============================] - 0s 36us/sample - loss: 5.9010 - accuracy: 0.6174 - val_loss: 5.8927 - val_accuracy: 0.6180\n",
      "Epoch 191/200\n",
      "711/711 [==============================] - 0s 41us/sample - loss: 5.9010 - accuracy: 0.6174 - val_loss: 5.8927 - val_accuracy: 0.6180\n",
      "Epoch 192/200\n",
      "711/711 [==============================] - 0s 38us/sample - loss: 5.9010 - accuracy: 0.6174 - val_loss: 5.8927 - val_accuracy: 0.6180\n",
      "Epoch 193/200\n",
      "711/711 [==============================] - 0s 38us/sample - loss: 5.9010 - accuracy: 0.6174 - val_loss: 5.8927 - val_accuracy: 0.6180\n",
      "Epoch 194/200\n",
      "711/711 [==============================] - 0s 41us/sample - loss: 5.9010 - accuracy: 0.6174 - val_loss: 5.8927 - val_accuracy: 0.6180\n",
      "Epoch 195/200\n",
      "711/711 [==============================] - 0s 38us/sample - loss: 5.9010 - accuracy: 0.6174 - val_loss: 5.8927 - val_accuracy: 0.6180\n",
      "Epoch 196/200\n",
      "711/711 [==============================] - 0s 43us/sample - loss: 5.9010 - accuracy: 0.6174 - val_loss: 5.8927 - val_accuracy: 0.6180\n",
      "Epoch 197/200\n",
      "711/711 [==============================] - 0s 45us/sample - loss: 5.9010 - accuracy: 0.6174 - val_loss: 5.8927 - val_accuracy: 0.6180\n",
      "Epoch 198/200\n",
      "711/711 [==============================] - 0s 44us/sample - loss: 5.9010 - accuracy: 0.6174 - val_loss: 5.8927 - val_accuracy: 0.6180\n",
      "Epoch 199/200\n",
      "711/711 [==============================] - 0s 42us/sample - loss: 5.9010 - accuracy: 0.6174 - val_loss: 5.8927 - val_accuracy: 0.6180\n",
      "Epoch 200/200\n",
      "711/711 [==============================] - 0s 38us/sample - loss: 5.9010 - accuracy: 0.6174 - val_loss: 5.8927 - val_accuracy: 0.6180\n"
     ]
    },
    {
     "data": {
      "text/plain": [
       "<tensorflow.python.keras.callbacks.History at 0x1786a891b88>"
      ]
     },
     "execution_count": 20,
     "metadata": {},
     "output_type": "execute_result"
    },
    {
     "data": {
      "application/javascript": [
       "\n",
       "            setTimeout(function() {\n",
       "                var nbb_cell_id = 20;\n",
       "                var nbb_unformatted_code = \"model.fit(X_train, y_train, validation_data=(X_test, y_test), batch_size=80, epochs=200)\";\n",
       "                var nbb_formatted_code = \"model.fit(X_train, y_train, validation_data=(X_test, y_test), batch_size=80, epochs=200)\";\n",
       "                var nbb_cells = Jupyter.notebook.get_cells();\n",
       "                for (var i = 0; i < nbb_cells.length; ++i) {\n",
       "                    if (nbb_cells[i].input_prompt_number == nbb_cell_id) {\n",
       "                        if (nbb_cells[i].get_text() == nbb_unformatted_code) {\n",
       "                             nbb_cells[i].set_text(nbb_formatted_code);\n",
       "                        }\n",
       "                        break;\n",
       "                    }\n",
       "                }\n",
       "            }, 500);\n",
       "            "
      ],
      "text/plain": [
       "<IPython.core.display.Javascript object>"
      ]
     },
     "metadata": {},
     "output_type": "display_data"
    }
   ],
   "source": [
    "model.fit(X_train, y_train, validation_data=(X_test, y_test), batch_size=80, epochs=200)"
   ]
  },
  {
   "cell_type": "code",
   "execution_count": 21,
   "metadata": {},
   "outputs": [
    {
     "name": "stdout",
     "output_type": "stream",
     "text": [
      "WARNING:tensorflow:Falling back from v2 loop because of error: Failed to find data adapter that can handle input: <class 'pandas.core.frame.DataFrame'>, <class 'NoneType'>\n",
      "178/178 [==============================] - 0s 50us/sample - loss: 5.8927 - accuracy: 0.6180\n"
     ]
    },
    {
     "data": {
      "text/plain": [
       "[5.892676985665654, 0.6179775]"
      ]
     },
     "execution_count": 21,
     "metadata": {},
     "output_type": "execute_result"
    },
    {
     "data": {
      "application/javascript": [
       "\n",
       "            setTimeout(function() {\n",
       "                var nbb_cell_id = 21;\n",
       "                var nbb_unformatted_code = \"model.evaluate(X_test, y_test)\";\n",
       "                var nbb_formatted_code = \"model.evaluate(X_test, y_test)\";\n",
       "                var nbb_cells = Jupyter.notebook.get_cells();\n",
       "                for (var i = 0; i < nbb_cells.length; ++i) {\n",
       "                    if (nbb_cells[i].input_prompt_number == nbb_cell_id) {\n",
       "                        if (nbb_cells[i].get_text() == nbb_unformatted_code) {\n",
       "                             nbb_cells[i].set_text(nbb_formatted_code);\n",
       "                        }\n",
       "                        break;\n",
       "                    }\n",
       "                }\n",
       "            }, 500);\n",
       "            "
      ],
      "text/plain": [
       "<IPython.core.display.Javascript object>"
      ]
     },
     "metadata": {},
     "output_type": "display_data"
    }
   ],
   "source": [
    "model.evaluate(X_test, y_test)"
   ]
  },
  {
   "cell_type": "markdown",
   "metadata": {
    "colab_type": "text",
    "id": "zsDsEJ0b0jTV"
   },
   "source": [
    "Redefine the model using a sigmoid activation for the last layer. What is the difference in accuracy."
   ]
  },
  {
   "cell_type": "code",
   "execution_count": 22,
   "metadata": {
    "colab": {},
    "colab_type": "code",
    "id": "RsbGU_gM0jTV"
   },
   "outputs": [
    {
     "data": {
      "application/javascript": [
       "\n",
       "            setTimeout(function() {\n",
       "                var nbb_cell_id = 22;\n",
       "                var nbb_unformatted_code = \"# Answer below\\n\\n# Answer below\\nmodel = Sequential()\\n\\nmodel.add(Dense(64, input_dim = X_train.shape[1], activation='relu'))\\n\\nmodel.add(Dense(32, activation='relu'))\\n\\nmodel.add(Dense(16, activation='relu'))\\n\\nmodel.add(Dense(8, activation='relu'))\\n\\nmodel.add(Dense(y.shape[1], activation='sigmoid'))\";\n",
       "                var nbb_formatted_code = \"# Answer below\\n\\n# Answer below\\nmodel = Sequential()\\n\\nmodel.add(Dense(64, input_dim=X_train.shape[1], activation=\\\"relu\\\"))\\n\\nmodel.add(Dense(32, activation=\\\"relu\\\"))\\n\\nmodel.add(Dense(16, activation=\\\"relu\\\"))\\n\\nmodel.add(Dense(8, activation=\\\"relu\\\"))\\n\\nmodel.add(Dense(y.shape[1], activation=\\\"sigmoid\\\"))\";\n",
       "                var nbb_cells = Jupyter.notebook.get_cells();\n",
       "                for (var i = 0; i < nbb_cells.length; ++i) {\n",
       "                    if (nbb_cells[i].input_prompt_number == nbb_cell_id) {\n",
       "                        if (nbb_cells[i].get_text() == nbb_unformatted_code) {\n",
       "                             nbb_cells[i].set_text(nbb_formatted_code);\n",
       "                        }\n",
       "                        break;\n",
       "                    }\n",
       "                }\n",
       "            }, 500);\n",
       "            "
      ],
      "text/plain": [
       "<IPython.core.display.Javascript object>"
      ]
     },
     "metadata": {},
     "output_type": "display_data"
    }
   ],
   "source": [
    "# Answer below\n",
    "\n",
    "# Answer below\n",
    "model = Sequential()\n",
    "\n",
    "model.add(Dense(64, input_dim = X_train.shape[1], activation='relu'))\n",
    "\n",
    "model.add(Dense(32, activation='relu'))\n",
    "\n",
    "model.add(Dense(16, activation='relu'))\n",
    "\n",
    "model.add(Dense(8, activation='relu'))\n",
    "\n",
    "model.add(Dense(y.shape[1], activation='sigmoid'))\n",
    "\n",
    "\n"
   ]
  },
  {
   "cell_type": "code",
   "execution_count": 23,
   "metadata": {
    "colab": {},
    "colab_type": "code",
    "id": "m8BpyzL40jTX"
   },
   "outputs": [
    {
     "data": {
      "application/javascript": [
       "\n",
       "            setTimeout(function() {\n",
       "                var nbb_cell_id = 23;\n",
       "                var nbb_unformatted_code = \"# Answer below:\\nmodel.compile(loss='binary_crossentropy', optimizer='adam', metrics=['accuracy'])\";\n",
       "                var nbb_formatted_code = \"# Answer below:\\nmodel.compile(loss=\\\"binary_crossentropy\\\", optimizer=\\\"adam\\\", metrics=[\\\"accuracy\\\"])\";\n",
       "                var nbb_cells = Jupyter.notebook.get_cells();\n",
       "                for (var i = 0; i < nbb_cells.length; ++i) {\n",
       "                    if (nbb_cells[i].input_prompt_number == nbb_cell_id) {\n",
       "                        if (nbb_cells[i].get_text() == nbb_unformatted_code) {\n",
       "                             nbb_cells[i].set_text(nbb_formatted_code);\n",
       "                        }\n",
       "                        break;\n",
       "                    }\n",
       "                }\n",
       "            }, 500);\n",
       "            "
      ],
      "text/plain": [
       "<IPython.core.display.Javascript object>"
      ]
     },
     "metadata": {},
     "output_type": "display_data"
    }
   ],
   "source": [
    "# Answer below:\n",
    "model.compile(loss='binary_crossentropy', optimizer='adam', metrics=['accuracy'])\n"
   ]
  },
  {
   "cell_type": "code",
   "execution_count": 24,
   "metadata": {},
   "outputs": [
    {
     "name": "stdout",
     "output_type": "stream",
     "text": [
      "WARNING:tensorflow:Falling back from v2 loop because of error: Failed to find data adapter that can handle input: <class 'pandas.core.frame.DataFrame'>, <class 'NoneType'>\n",
      "Train on 711 samples, validate on 178 samples\n",
      "Epoch 1/200\n",
      "Executing op __inference_keras_scratch_graph_14241 in device /job:localhost/replica:0/task:0/device:GPU:0\n",
      " 80/711 [==>...........................] - ETA: 6s - loss: 0.6847 - accuracy: 0.5750Executing op __inference_keras_scratch_graph_14386 in device /job:localhost/replica:0/task:0/device:GPU:0\n",
      "711/711 [==============================] - 1s 2ms/sample - loss: 0.6712 - accuracy: 0.6484 - val_loss: 0.6565 - val_accuracy: 0.6180\n",
      "Epoch 2/200\n",
      "711/711 [==============================] - 0s 39us/sample - loss: 0.6372 - accuracy: 0.6174 - val_loss: 0.6275 - val_accuracy: 0.6180\n",
      "Epoch 3/200\n",
      "711/711 [==============================] - 0s 36us/sample - loss: 0.6070 - accuracy: 0.6174 - val_loss: 0.6033 - val_accuracy: 0.6180\n",
      "Epoch 4/200\n",
      "711/711 [==============================] - 0s 36us/sample - loss: 0.5837 - accuracy: 0.6174 - val_loss: 0.5844 - val_accuracy: 0.6180\n",
      "Epoch 5/200\n",
      "711/711 [==============================] - 0s 39us/sample - loss: 0.5576 - accuracy: 0.7117 - val_loss: 0.5669 - val_accuracy: 0.7247\n",
      "Epoch 6/200\n",
      "711/711 [==============================] - 0s 35us/sample - loss: 0.5354 - accuracy: 0.7778 - val_loss: 0.5553 - val_accuracy: 0.7697\n",
      "Epoch 7/200\n",
      "711/711 [==============================] - 0s 36us/sample - loss: 0.5167 - accuracy: 0.7975 - val_loss: 0.5448 - val_accuracy: 0.7753\n",
      "Epoch 8/200\n",
      "711/711 [==============================] - 0s 39us/sample - loss: 0.4985 - accuracy: 0.8087 - val_loss: 0.5386 - val_accuracy: 0.7584\n",
      "Epoch 9/200\n",
      "711/711 [==============================] - 0s 37us/sample - loss: 0.4866 - accuracy: 0.8200 - val_loss: 0.5314 - val_accuracy: 0.7584\n",
      "Epoch 10/200\n",
      "711/711 [==============================] - 0s 42us/sample - loss: 0.4712 - accuracy: 0.8242 - val_loss: 0.5239 - val_accuracy: 0.7584\n",
      "Epoch 11/200\n",
      "711/711 [==============================] - 0s 53us/sample - loss: 0.4606 - accuracy: 0.8186 - val_loss: 0.5221 - val_accuracy: 0.7584\n",
      "Epoch 12/200\n",
      "711/711 [==============================] - 0s 43us/sample - loss: 0.4500 - accuracy: 0.8200 - val_loss: 0.5157 - val_accuracy: 0.7584\n",
      "Epoch 13/200\n",
      "711/711 [==============================] - 0s 45us/sample - loss: 0.4424 - accuracy: 0.8200 - val_loss: 0.5127 - val_accuracy: 0.7584\n",
      "Epoch 14/200\n",
      "711/711 [==============================] - 0s 42us/sample - loss: 0.4385 - accuracy: 0.8242 - val_loss: 0.5164 - val_accuracy: 0.7584\n",
      "Epoch 15/200\n",
      "711/711 [==============================] - 0s 34us/sample - loss: 0.4313 - accuracy: 0.8172 - val_loss: 0.5164 - val_accuracy: 0.7584\n",
      "Epoch 16/200\n",
      "711/711 [==============================] - 0s 39us/sample - loss: 0.4308 - accuracy: 0.8242 - val_loss: 0.5172 - val_accuracy: 0.7584\n",
      "Epoch 17/200\n",
      "711/711 [==============================] - 0s 41us/sample - loss: 0.4243 - accuracy: 0.8242 - val_loss: 0.5172 - val_accuracy: 0.7584\n",
      "Epoch 18/200\n",
      "711/711 [==============================] - 0s 40us/sample - loss: 0.4228 - accuracy: 0.8242 - val_loss: 0.5222 - val_accuracy: 0.7584\n",
      "Epoch 19/200\n",
      "711/711 [==============================] - 0s 41us/sample - loss: 0.4204 - accuracy: 0.8256 - val_loss: 0.5185 - val_accuracy: 0.7584\n",
      "Epoch 20/200\n",
      "711/711 [==============================] - 0s 36us/sample - loss: 0.4172 - accuracy: 0.8270 - val_loss: 0.5185 - val_accuracy: 0.7584\n",
      "Epoch 21/200\n",
      "711/711 [==============================] - 0s 38us/sample - loss: 0.4170 - accuracy: 0.8242 - val_loss: 0.5190 - val_accuracy: 0.7584\n",
      "Epoch 22/200\n",
      "711/711 [==============================] - 0s 39us/sample - loss: 0.4166 - accuracy: 0.8214 - val_loss: 0.5232 - val_accuracy: 0.7584\n",
      "Epoch 23/200\n",
      "711/711 [==============================] - 0s 35us/sample - loss: 0.4134 - accuracy: 0.8228 - val_loss: 0.5255 - val_accuracy: 0.7584\n",
      "Epoch 24/200\n",
      "711/711 [==============================] - 0s 35us/sample - loss: 0.4128 - accuracy: 0.8242 - val_loss: 0.5258 - val_accuracy: 0.7584\n",
      "Epoch 25/200\n",
      "711/711 [==============================] - 0s 39us/sample - loss: 0.4109 - accuracy: 0.8200 - val_loss: 0.5259 - val_accuracy: 0.7584\n",
      "Epoch 26/200\n",
      "711/711 [==============================] - 0s 38us/sample - loss: 0.4096 - accuracy: 0.8256 - val_loss: 0.5234 - val_accuracy: 0.7584\n",
      "Epoch 27/200\n",
      "711/711 [==============================] - 0s 35us/sample - loss: 0.4094 - accuracy: 0.8242 - val_loss: 0.5240 - val_accuracy: 0.7584\n",
      "Epoch 28/200\n",
      "711/711 [==============================] - 0s 39us/sample - loss: 0.4081 - accuracy: 0.8242 - val_loss: 0.5241 - val_accuracy: 0.7584\n",
      "Epoch 29/200\n",
      "711/711 [==============================] - 0s 39us/sample - loss: 0.4084 - accuracy: 0.8242 - val_loss: 0.5257 - val_accuracy: 0.7584\n",
      "Epoch 30/200\n",
      "711/711 [==============================] - 0s 36us/sample - loss: 0.4071 - accuracy: 0.8242 - val_loss: 0.5251 - val_accuracy: 0.7584\n",
      "Epoch 31/200\n",
      "711/711 [==============================] - 0s 39us/sample - loss: 0.4053 - accuracy: 0.8242 - val_loss: 0.5255 - val_accuracy: 0.7584\n",
      "Epoch 32/200\n",
      "711/711 [==============================] - 0s 41us/sample - loss: 0.4079 - accuracy: 0.8242 - val_loss: 0.5281 - val_accuracy: 0.7584\n",
      "Epoch 33/200\n",
      "711/711 [==============================] - 0s 39us/sample - loss: 0.4048 - accuracy: 0.8242 - val_loss: 0.5267 - val_accuracy: 0.7584\n",
      "Epoch 34/200\n",
      "711/711 [==============================] - 0s 36us/sample - loss: 0.4044 - accuracy: 0.8242 - val_loss: 0.5261 - val_accuracy: 0.7528\n",
      "Epoch 35/200\n",
      "711/711 [==============================] - 0s 36us/sample - loss: 0.4046 - accuracy: 0.8242 - val_loss: 0.5296 - val_accuracy: 0.7584\n",
      "Epoch 36/200\n",
      "711/711 [==============================] - 0s 36us/sample - loss: 0.4028 - accuracy: 0.8186 - val_loss: 0.5272 - val_accuracy: 0.7584\n",
      "Epoch 37/200\n",
      "711/711 [==============================] - 0s 34us/sample - loss: 0.4038 - accuracy: 0.8242 - val_loss: 0.5250 - val_accuracy: 0.7528\n",
      "Epoch 38/200\n",
      "711/711 [==============================] - 0s 36us/sample - loss: 0.4064 - accuracy: 0.8242 - val_loss: 0.5256 - val_accuracy: 0.7528\n",
      "Epoch 39/200\n",
      "711/711 [==============================] - 0s 35us/sample - loss: 0.4044 - accuracy: 0.8242 - val_loss: 0.5276 - val_accuracy: 0.7584\n",
      "Epoch 40/200\n",
      "711/711 [==============================] - 0s 35us/sample - loss: 0.4005 - accuracy: 0.8228 - val_loss: 0.5313 - val_accuracy: 0.7640\n",
      "Epoch 41/200\n",
      "711/711 [==============================] - 0s 36us/sample - loss: 0.4023 - accuracy: 0.8228 - val_loss: 0.5297 - val_accuracy: 0.7528\n",
      "Epoch 42/200\n",
      "711/711 [==============================] - 0s 35us/sample - loss: 0.4012 - accuracy: 0.8242 - val_loss: 0.5260 - val_accuracy: 0.7528\n",
      "Epoch 43/200\n",
      "711/711 [==============================] - 0s 34us/sample - loss: 0.3993 - accuracy: 0.8256 - val_loss: 0.5262 - val_accuracy: 0.7528\n",
      "Epoch 44/200\n",
      "711/711 [==============================] - 0s 39us/sample - loss: 0.3996 - accuracy: 0.8242 - val_loss: 0.5269 - val_accuracy: 0.7528\n",
      "Epoch 45/200\n",
      "711/711 [==============================] - 0s 35us/sample - loss: 0.3994 - accuracy: 0.8242 - val_loss: 0.5257 - val_accuracy: 0.7528\n",
      "Epoch 46/200\n",
      "711/711 [==============================] - 0s 36us/sample - loss: 0.3990 - accuracy: 0.8200 - val_loss: 0.5275 - val_accuracy: 0.7528\n",
      "Epoch 47/200\n",
      "711/711 [==============================] - 0s 36us/sample - loss: 0.3985 - accuracy: 0.8242 - val_loss: 0.5268 - val_accuracy: 0.7528\n",
      "Epoch 48/200\n",
      "711/711 [==============================] - 0s 38us/sample - loss: 0.3994 - accuracy: 0.8242 - val_loss: 0.5253 - val_accuracy: 0.7528\n",
      "Epoch 49/200\n",
      "711/711 [==============================] - 0s 34us/sample - loss: 0.3979 - accuracy: 0.8298 - val_loss: 0.5266 - val_accuracy: 0.7528\n",
      "Epoch 50/200\n",
      "711/711 [==============================] - 0s 42us/sample - loss: 0.3967 - accuracy: 0.8214 - val_loss: 0.5266 - val_accuracy: 0.7528\n",
      "Epoch 51/200\n",
      "711/711 [==============================] - 0s 38us/sample - loss: 0.3990 - accuracy: 0.8214 - val_loss: 0.5258 - val_accuracy: 0.7528\n",
      "Epoch 52/200\n",
      "711/711 [==============================] - 0s 36us/sample - loss: 0.3960 - accuracy: 0.8270 - val_loss: 0.5280 - val_accuracy: 0.7640\n",
      "Epoch 53/200\n",
      "711/711 [==============================] - 0s 34us/sample - loss: 0.3982 - accuracy: 0.8298 - val_loss: 0.5292 - val_accuracy: 0.7584\n",
      "Epoch 54/200\n",
      "711/711 [==============================] - 0s 36us/sample - loss: 0.4073 - accuracy: 0.8242 - val_loss: 0.5268 - val_accuracy: 0.7584\n",
      "Epoch 55/200\n",
      "711/711 [==============================] - 0s 35us/sample - loss: 0.4048 - accuracy: 0.8200 - val_loss: 0.5285 - val_accuracy: 0.7640\n",
      "Epoch 56/200\n",
      "711/711 [==============================] - 0s 35us/sample - loss: 0.3998 - accuracy: 0.8270 - val_loss: 0.5274 - val_accuracy: 0.7640\n",
      "Epoch 57/200\n",
      "711/711 [==============================] - 0s 36us/sample - loss: 0.4037 - accuracy: 0.8284 - val_loss: 0.5288 - val_accuracy: 0.7640\n",
      "Epoch 58/200\n",
      "711/711 [==============================] - 0s 34us/sample - loss: 0.3992 - accuracy: 0.8256 - val_loss: 0.5293 - val_accuracy: 0.7640\n",
      "Epoch 59/200\n",
      "711/711 [==============================] - 0s 36us/sample - loss: 0.3940 - accuracy: 0.8200 - val_loss: 0.5267 - val_accuracy: 0.7697\n",
      "Epoch 60/200\n",
      "711/711 [==============================] - 0s 34us/sample - loss: 0.3954 - accuracy: 0.8312 - val_loss: 0.5239 - val_accuracy: 0.7584\n",
      "Epoch 61/200\n",
      "711/711 [==============================] - 0s 35us/sample - loss: 0.3979 - accuracy: 0.8228 - val_loss: 0.5270 - val_accuracy: 0.7584\n",
      "Epoch 62/200\n",
      "711/711 [==============================] - 0s 36us/sample - loss: 0.3963 - accuracy: 0.8298 - val_loss: 0.5243 - val_accuracy: 0.7697\n",
      "Epoch 63/200\n",
      "711/711 [==============================] - 0s 34us/sample - loss: 0.3925 - accuracy: 0.8256 - val_loss: 0.5276 - val_accuracy: 0.7584\n",
      "Epoch 64/200\n",
      "711/711 [==============================] - 0s 36us/sample - loss: 0.3922 - accuracy: 0.8270 - val_loss: 0.5261 - val_accuracy: 0.7697\n",
      "Epoch 65/200\n",
      "711/711 [==============================] - 0s 35us/sample - loss: 0.3932 - accuracy: 0.8242 - val_loss: 0.5249 - val_accuracy: 0.7640\n",
      "Epoch 66/200\n",
      "711/711 [==============================] - 0s 35us/sample - loss: 0.3928 - accuracy: 0.8256 - val_loss: 0.5260 - val_accuracy: 0.7584\n",
      "Epoch 67/200\n",
      "711/711 [==============================] - 0s 38us/sample - loss: 0.3898 - accuracy: 0.8256 - val_loss: 0.5263 - val_accuracy: 0.7640\n",
      "Epoch 68/200\n",
      "711/711 [==============================] - 0s 34us/sample - loss: 0.3918 - accuracy: 0.8284 - val_loss: 0.5252 - val_accuracy: 0.7584\n",
      "Epoch 69/200\n",
      "711/711 [==============================] - 0s 39us/sample - loss: 0.3900 - accuracy: 0.8270 - val_loss: 0.5241 - val_accuracy: 0.7640\n",
      "Epoch 70/200\n",
      "711/711 [==============================] - 0s 36us/sample - loss: 0.3923 - accuracy: 0.8326 - val_loss: 0.5274 - val_accuracy: 0.7640\n",
      "Epoch 71/200\n",
      "711/711 [==============================] - 0s 34us/sample - loss: 0.3925 - accuracy: 0.8284 - val_loss: 0.5249 - val_accuracy: 0.7584\n",
      "Epoch 72/200\n",
      "711/711 [==============================] - 0s 36us/sample - loss: 0.3886 - accuracy: 0.8298 - val_loss: 0.5250 - val_accuracy: 0.7640\n",
      "Epoch 73/200\n",
      "711/711 [==============================] - 0s 38us/sample - loss: 0.3902 - accuracy: 0.8326 - val_loss: 0.5258 - val_accuracy: 0.7584\n",
      "Epoch 74/200\n",
      "711/711 [==============================] - 0s 35us/sample - loss: 0.3898 - accuracy: 0.8242 - val_loss: 0.5277 - val_accuracy: 0.7584\n",
      "Epoch 75/200\n",
      "711/711 [==============================] - 0s 38us/sample - loss: 0.3887 - accuracy: 0.8312 - val_loss: 0.5296 - val_accuracy: 0.7640\n",
      "Epoch 76/200\n",
      "711/711 [==============================] - 0s 35us/sample - loss: 0.3907 - accuracy: 0.8270 - val_loss: 0.5278 - val_accuracy: 0.7528\n",
      "Epoch 77/200\n",
      "711/711 [==============================] - 0s 35us/sample - loss: 0.3923 - accuracy: 0.8284 - val_loss: 0.5235 - val_accuracy: 0.7640\n",
      "Epoch 78/200\n",
      "711/711 [==============================] - 0s 35us/sample - loss: 0.3855 - accuracy: 0.8368 - val_loss: 0.5261 - val_accuracy: 0.7584\n",
      "Epoch 79/200\n",
      "711/711 [==============================] - 0s 34us/sample - loss: 0.3874 - accuracy: 0.8340 - val_loss: 0.5225 - val_accuracy: 0.7640\n",
      "Epoch 80/200\n",
      "711/711 [==============================] - 0s 36us/sample - loss: 0.3855 - accuracy: 0.8312 - val_loss: 0.5264 - val_accuracy: 0.7640\n",
      "Epoch 81/200\n",
      "711/711 [==============================] - 0s 36us/sample - loss: 0.3883 - accuracy: 0.8298 - val_loss: 0.5291 - val_accuracy: 0.7584\n",
      "Epoch 82/200\n",
      "711/711 [==============================] - 0s 34us/sample - loss: 0.3860 - accuracy: 0.8340 - val_loss: 0.5264 - val_accuracy: 0.7584\n",
      "Epoch 83/200\n",
      "711/711 [==============================] - 0s 41us/sample - loss: 0.3850 - accuracy: 0.8354 - val_loss: 0.5275 - val_accuracy: 0.7640\n",
      "Epoch 84/200\n",
      "711/711 [==============================] - 0s 37us/sample - loss: 0.3861 - accuracy: 0.8354 - val_loss: 0.5239 - val_accuracy: 0.7640\n",
      "Epoch 85/200\n",
      "711/711 [==============================] - 0s 35us/sample - loss: 0.3853 - accuracy: 0.8354 - val_loss: 0.5273 - val_accuracy: 0.7640\n",
      "Epoch 86/200\n",
      "711/711 [==============================] - 0s 36us/sample - loss: 0.3858 - accuracy: 0.8312 - val_loss: 0.5263 - val_accuracy: 0.7640\n",
      "Epoch 87/200\n",
      "711/711 [==============================] - 0s 36us/sample - loss: 0.3854 - accuracy: 0.8368 - val_loss: 0.5284 - val_accuracy: 0.7584\n",
      "Epoch 88/200\n",
      "711/711 [==============================] - 0s 35us/sample - loss: 0.3848 - accuracy: 0.8340 - val_loss: 0.5256 - val_accuracy: 0.7640\n",
      "Epoch 89/200\n",
      "711/711 [==============================] - 0s 38us/sample - loss: 0.3858 - accuracy: 0.8354 - val_loss: 0.5285 - val_accuracy: 0.7640\n",
      "Epoch 90/200\n",
      "711/711 [==============================] - 0s 35us/sample - loss: 0.3853 - accuracy: 0.8284 - val_loss: 0.5302 - val_accuracy: 0.7584\n",
      "Epoch 91/200\n",
      "711/711 [==============================] - 0s 35us/sample - loss: 0.3823 - accuracy: 0.8354 - val_loss: 0.5249 - val_accuracy: 0.7640\n",
      "Epoch 92/200\n",
      "711/711 [==============================] - 0s 38us/sample - loss: 0.3837 - accuracy: 0.8383 - val_loss: 0.5273 - val_accuracy: 0.7640\n",
      "Epoch 93/200\n",
      "711/711 [==============================] - 0s 36us/sample - loss: 0.3935 - accuracy: 0.8312 - val_loss: 0.5280 - val_accuracy: 0.7640\n",
      "Epoch 94/200\n",
      "711/711 [==============================] - 0s 38us/sample - loss: 0.3888 - accuracy: 0.8298 - val_loss: 0.5321 - val_accuracy: 0.7640\n",
      "Epoch 95/200\n",
      "711/711 [==============================] - 0s 38us/sample - loss: 0.3836 - accuracy: 0.8312 - val_loss: 0.5261 - val_accuracy: 0.7584\n",
      "Epoch 96/200\n",
      "711/711 [==============================] - 0s 36us/sample - loss: 0.3823 - accuracy: 0.8312 - val_loss: 0.5273 - val_accuracy: 0.7640\n",
      "Epoch 97/200\n",
      "711/711 [==============================] - 0s 35us/sample - loss: 0.3831 - accuracy: 0.8340 - val_loss: 0.5289 - val_accuracy: 0.7640\n",
      "Epoch 98/200\n",
      "711/711 [==============================] - 0s 35us/sample - loss: 0.3815 - accuracy: 0.8383 - val_loss: 0.5291 - val_accuracy: 0.7584\n",
      "Epoch 99/200\n",
      "711/711 [==============================] - 0s 34us/sample - loss: 0.3817 - accuracy: 0.8383 - val_loss: 0.5312 - val_accuracy: 0.7640\n",
      "Epoch 100/200\n",
      "711/711 [==============================] - 0s 36us/sample - loss: 0.3820 - accuracy: 0.8368 - val_loss: 0.5323 - val_accuracy: 0.7640\n",
      "Epoch 101/200\n",
      "711/711 [==============================] - 0s 35us/sample - loss: 0.3828 - accuracy: 0.8340 - val_loss: 0.5297 - val_accuracy: 0.7640\n",
      "Epoch 102/200\n",
      "711/711 [==============================] - 0s 34us/sample - loss: 0.3810 - accuracy: 0.8354 - val_loss: 0.5317 - val_accuracy: 0.7640\n",
      "Epoch 103/200\n",
      "711/711 [==============================] - 0s 35us/sample - loss: 0.3818 - accuracy: 0.8354 - val_loss: 0.5323 - val_accuracy: 0.7640\n",
      "Epoch 104/200\n",
      "711/711 [==============================] - 0s 35us/sample - loss: 0.3806 - accuracy: 0.8397 - val_loss: 0.5285 - val_accuracy: 0.7640\n",
      "Epoch 105/200\n",
      "711/711 [==============================] - 0s 38us/sample - loss: 0.3814 - accuracy: 0.8368 - val_loss: 0.5307 - val_accuracy: 0.7640\n",
      "Epoch 106/200\n",
      "711/711 [==============================] - 0s 36us/sample - loss: 0.3812 - accuracy: 0.8383 - val_loss: 0.5293 - val_accuracy: 0.7640\n",
      "Epoch 107/200\n",
      "711/711 [==============================] - 0s 35us/sample - loss: 0.3812 - accuracy: 0.8411 - val_loss: 0.5341 - val_accuracy: 0.7584\n",
      "Epoch 108/200\n",
      "711/711 [==============================] - 0s 36us/sample - loss: 0.3853 - accuracy: 0.8340 - val_loss: 0.5322 - val_accuracy: 0.7640\n"
     ]
    },
    {
     "name": "stdout",
     "output_type": "stream",
     "text": [
      "Epoch 109/200\n",
      "711/711 [==============================] - 0s 35us/sample - loss: 0.3826 - accuracy: 0.8397 - val_loss: 0.5343 - val_accuracy: 0.7640\n",
      "Epoch 110/200\n",
      "711/711 [==============================] - 0s 35us/sample - loss: 0.3791 - accuracy: 0.8397 - val_loss: 0.5342 - val_accuracy: 0.7584\n",
      "Epoch 111/200\n",
      "711/711 [==============================] - 0s 35us/sample - loss: 0.3811 - accuracy: 0.8354 - val_loss: 0.5312 - val_accuracy: 0.7640\n",
      "Epoch 112/200\n",
      "711/711 [==============================] - 0s 35us/sample - loss: 0.3790 - accuracy: 0.8411 - val_loss: 0.5316 - val_accuracy: 0.7640\n",
      "Epoch 113/200\n",
      "711/711 [==============================] - 0s 36us/sample - loss: 0.3794 - accuracy: 0.8368 - val_loss: 0.5345 - val_accuracy: 0.7640\n",
      "Epoch 114/200\n",
      "711/711 [==============================] - 0s 35us/sample - loss: 0.3799 - accuracy: 0.8411 - val_loss: 0.5336 - val_accuracy: 0.7584\n",
      "Epoch 115/200\n",
      "711/711 [==============================] - 0s 36us/sample - loss: 0.3807 - accuracy: 0.8354 - val_loss: 0.5375 - val_accuracy: 0.7584\n",
      "Epoch 116/200\n",
      "711/711 [==============================] - 0s 35us/sample - loss: 0.3794 - accuracy: 0.8383 - val_loss: 0.5355 - val_accuracy: 0.7640\n",
      "Epoch 117/200\n",
      "711/711 [==============================] - 0s 34us/sample - loss: 0.3790 - accuracy: 0.8397 - val_loss: 0.5346 - val_accuracy: 0.7640\n",
      "Epoch 118/200\n",
      "711/711 [==============================] - 0s 36us/sample - loss: 0.3819 - accuracy: 0.8383 - val_loss: 0.5379 - val_accuracy: 0.7640\n",
      "Epoch 119/200\n",
      "711/711 [==============================] - 0s 34us/sample - loss: 0.3811 - accuracy: 0.8354 - val_loss: 0.5321 - val_accuracy: 0.7640\n",
      "Epoch 120/200\n",
      "711/711 [==============================] - 0s 48us/sample - loss: 0.3802 - accuracy: 0.8368 - val_loss: 0.5354 - val_accuracy: 0.7584\n",
      "Epoch 121/200\n",
      "711/711 [==============================] - 0s 39us/sample - loss: 0.3790 - accuracy: 0.8383 - val_loss: 0.5429 - val_accuracy: 0.7584\n",
      "Epoch 122/200\n",
      "711/711 [==============================] - 0s 43us/sample - loss: 0.3782 - accuracy: 0.8383 - val_loss: 0.5374 - val_accuracy: 0.7640\n",
      "Epoch 123/200\n",
      "711/711 [==============================] - 0s 41us/sample - loss: 0.3774 - accuracy: 0.8425 - val_loss: 0.5319 - val_accuracy: 0.7584\n",
      "Epoch 124/200\n",
      "711/711 [==============================] - 0s 39us/sample - loss: 0.3772 - accuracy: 0.8425 - val_loss: 0.5357 - val_accuracy: 0.7584\n",
      "Epoch 125/200\n",
      "711/711 [==============================] - 0s 36us/sample - loss: 0.3781 - accuracy: 0.8383 - val_loss: 0.5385 - val_accuracy: 0.7584\n",
      "Epoch 126/200\n",
      "711/711 [==============================] - 0s 35us/sample - loss: 0.3767 - accuracy: 0.8425 - val_loss: 0.5394 - val_accuracy: 0.7640\n",
      "Epoch 127/200\n",
      "711/711 [==============================] - 0s 38us/sample - loss: 0.3798 - accuracy: 0.8411 - val_loss: 0.5348 - val_accuracy: 0.7584\n",
      "Epoch 128/200\n",
      "711/711 [==============================] - 0s 35us/sample - loss: 0.3795 - accuracy: 0.8354 - val_loss: 0.5368 - val_accuracy: 0.7640\n",
      "Epoch 129/200\n",
      "711/711 [==============================] - 0s 35us/sample - loss: 0.3821 - accuracy: 0.8354 - val_loss: 0.5372 - val_accuracy: 0.7584\n",
      "Epoch 130/200\n",
      "711/711 [==============================] - 0s 35us/sample - loss: 0.3794 - accuracy: 0.8368 - val_loss: 0.5400 - val_accuracy: 0.7640\n",
      "Epoch 131/200\n",
      "711/711 [==============================] - 0s 34us/sample - loss: 0.3759 - accuracy: 0.8411 - val_loss: 0.5386 - val_accuracy: 0.7584\n",
      "Epoch 132/200\n",
      "711/711 [==============================] - 0s 41us/sample - loss: 0.3768 - accuracy: 0.8411 - val_loss: 0.5391 - val_accuracy: 0.7584\n",
      "Epoch 133/200\n",
      "711/711 [==============================] - 0s 41us/sample - loss: 0.3767 - accuracy: 0.8411 - val_loss: 0.5404 - val_accuracy: 0.7584\n",
      "Epoch 134/200\n",
      "711/711 [==============================] - 0s 36us/sample - loss: 0.3795 - accuracy: 0.8411 - val_loss: 0.5391 - val_accuracy: 0.7640\n",
      "Epoch 135/200\n",
      "711/711 [==============================] - 0s 35us/sample - loss: 0.3778 - accuracy: 0.8368 - val_loss: 0.5377 - val_accuracy: 0.7584\n",
      "Epoch 136/200\n",
      "711/711 [==============================] - 0s 43us/sample - loss: 0.3754 - accuracy: 0.8411 - val_loss: 0.5361 - val_accuracy: 0.7584\n",
      "Epoch 137/200\n",
      "711/711 [==============================] - 0s 39us/sample - loss: 0.3764 - accuracy: 0.8425 - val_loss: 0.5417 - val_accuracy: 0.7584\n",
      "Epoch 138/200\n",
      "711/711 [==============================] - 0s 36us/sample - loss: 0.3777 - accuracy: 0.8397 - val_loss: 0.5405 - val_accuracy: 0.7584\n",
      "Epoch 139/200\n",
      "711/711 [==============================] - 0s 35us/sample - loss: 0.3795 - accuracy: 0.8397 - val_loss: 0.5351 - val_accuracy: 0.7584\n",
      "Epoch 140/200\n",
      "711/711 [==============================] - 0s 36us/sample - loss: 0.3783 - accuracy: 0.8411 - val_loss: 0.5367 - val_accuracy: 0.7584\n",
      "Epoch 141/200\n",
      "711/711 [==============================] - 0s 38us/sample - loss: 0.3766 - accuracy: 0.8439 - val_loss: 0.5405 - val_accuracy: 0.7584\n",
      "Epoch 142/200\n",
      "711/711 [==============================] - 0s 36us/sample - loss: 0.3766 - accuracy: 0.8425 - val_loss: 0.5439 - val_accuracy: 0.7584\n",
      "Epoch 143/200\n",
      "711/711 [==============================] - 0s 38us/sample - loss: 0.3778 - accuracy: 0.8411 - val_loss: 0.5394 - val_accuracy: 0.7584\n",
      "Epoch 144/200\n",
      "711/711 [==============================] - 0s 38us/sample - loss: 0.3767 - accuracy: 0.8425 - val_loss: 0.5443 - val_accuracy: 0.7584\n",
      "Epoch 145/200\n",
      "711/711 [==============================] - 0s 35us/sample - loss: 0.3742 - accuracy: 0.8439 - val_loss: 0.5413 - val_accuracy: 0.7584\n",
      "Epoch 146/200\n",
      "711/711 [==============================] - 0s 38us/sample - loss: 0.3752 - accuracy: 0.8425 - val_loss: 0.5380 - val_accuracy: 0.7584\n",
      "Epoch 147/200\n",
      "711/711 [==============================] - 0s 35us/sample - loss: 0.3784 - accuracy: 0.8411 - val_loss: 0.5450 - val_accuracy: 0.7584\n",
      "Epoch 148/200\n",
      "711/711 [==============================] - 0s 36us/sample - loss: 0.3746 - accuracy: 0.8383 - val_loss: 0.5470 - val_accuracy: 0.7640\n",
      "Epoch 149/200\n",
      "711/711 [==============================] - 0s 36us/sample - loss: 0.3774 - accuracy: 0.8397 - val_loss: 0.5385 - val_accuracy: 0.7640\n",
      "Epoch 150/200\n",
      "711/711 [==============================] - 0s 36us/sample - loss: 0.3761 - accuracy: 0.8411 - val_loss: 0.5396 - val_accuracy: 0.7584\n",
      "Epoch 151/200\n",
      "711/711 [==============================] - 0s 35us/sample - loss: 0.3772 - accuracy: 0.8397 - val_loss: 0.5432 - val_accuracy: 0.7584\n",
      "Epoch 152/200\n",
      "711/711 [==============================] - 0s 41us/sample - loss: 0.3769 - accuracy: 0.8383 - val_loss: 0.5450 - val_accuracy: 0.7584\n",
      "Epoch 153/200\n",
      "711/711 [==============================] - 0s 58us/sample - loss: 0.3804 - accuracy: 0.8340 - val_loss: 0.5446 - val_accuracy: 0.7640\n",
      "Epoch 154/200\n",
      "711/711 [==============================] - 0s 39us/sample - loss: 0.3778 - accuracy: 0.8383 - val_loss: 0.5397 - val_accuracy: 0.7584\n",
      "Epoch 155/200\n",
      "711/711 [==============================] - 0s 39us/sample - loss: 0.3759 - accuracy: 0.8425 - val_loss: 0.5447 - val_accuracy: 0.7584\n",
      "Epoch 156/200\n",
      "711/711 [==============================] - 0s 45us/sample - loss: 0.3767 - accuracy: 0.8354 - val_loss: 0.5504 - val_accuracy: 0.7584\n",
      "Epoch 157/200\n",
      "711/711 [==============================] - 0s 45us/sample - loss: 0.3753 - accuracy: 0.8397 - val_loss: 0.5453 - val_accuracy: 0.7584\n",
      "Epoch 158/200\n",
      "711/711 [==============================] - 0s 63us/sample - loss: 0.3755 - accuracy: 0.8397 - val_loss: 0.5386 - val_accuracy: 0.7584\n",
      "Epoch 159/200\n",
      "711/711 [==============================] - 0s 45us/sample - loss: 0.3752 - accuracy: 0.8425 - val_loss: 0.5450 - val_accuracy: 0.7640\n",
      "Epoch 160/200\n",
      "711/711 [==============================] - 0s 42us/sample - loss: 0.3736 - accuracy: 0.8383 - val_loss: 0.5448 - val_accuracy: 0.7584\n",
      "Epoch 161/200\n",
      "711/711 [==============================] - 0s 43us/sample - loss: 0.3755 - accuracy: 0.8397 - val_loss: 0.5478 - val_accuracy: 0.7584\n",
      "Epoch 162/200\n",
      "711/711 [==============================] - 0s 41us/sample - loss: 0.3750 - accuracy: 0.8383 - val_loss: 0.5420 - val_accuracy: 0.7584\n",
      "Epoch 163/200\n",
      "711/711 [==============================] - 0s 42us/sample - loss: 0.3780 - accuracy: 0.8383 - val_loss: 0.5446 - val_accuracy: 0.7640\n",
      "Epoch 164/200\n",
      "711/711 [==============================] - 0s 41us/sample - loss: 0.3814 - accuracy: 0.8284 - val_loss: 0.5461 - val_accuracy: 0.7584\n",
      "Epoch 165/200\n",
      "711/711 [==============================] - 0s 39us/sample - loss: 0.3779 - accuracy: 0.8397 - val_loss: 0.5446 - val_accuracy: 0.7584\n",
      "Epoch 166/200\n",
      "711/711 [==============================] - 0s 39us/sample - loss: 0.3754 - accuracy: 0.8368 - val_loss: 0.5445 - val_accuracy: 0.7584\n",
      "Epoch 167/200\n",
      "711/711 [==============================] - 0s 39us/sample - loss: 0.3771 - accuracy: 0.8425 - val_loss: 0.5489 - val_accuracy: 0.7584\n",
      "Epoch 168/200\n",
      "711/711 [==============================] - 0s 38us/sample - loss: 0.3789 - accuracy: 0.8368 - val_loss: 0.5444 - val_accuracy: 0.7584\n",
      "Epoch 169/200\n",
      "711/711 [==============================] - 0s 35us/sample - loss: 0.3748 - accuracy: 0.8383 - val_loss: 0.5479 - val_accuracy: 0.7640\n",
      "Epoch 170/200\n",
      "711/711 [==============================] - 0s 35us/sample - loss: 0.3751 - accuracy: 0.8397 - val_loss: 0.5468 - val_accuracy: 0.7584\n",
      "Epoch 171/200\n",
      "711/711 [==============================] - 0s 35us/sample - loss: 0.3769 - accuracy: 0.8411 - val_loss: 0.5458 - val_accuracy: 0.7584\n",
      "Epoch 172/200\n",
      "711/711 [==============================] - 0s 32us/sample - loss: 0.3771 - accuracy: 0.8312 - val_loss: 0.5449 - val_accuracy: 0.7584\n",
      "Epoch 173/200\n",
      "711/711 [==============================] - 0s 35us/sample - loss: 0.3739 - accuracy: 0.8425 - val_loss: 0.5441 - val_accuracy: 0.7584\n",
      "Epoch 174/200\n",
      "711/711 [==============================] - 0s 35us/sample - loss: 0.3770 - accuracy: 0.8411 - val_loss: 0.5459 - val_accuracy: 0.7584\n",
      "Epoch 175/200\n",
      "711/711 [==============================] - 0s 38us/sample - loss: 0.3774 - accuracy: 0.8383 - val_loss: 0.5480 - val_accuracy: 0.7584\n",
      "Epoch 176/200\n",
      "711/711 [==============================] - 0s 35us/sample - loss: 0.3725 - accuracy: 0.8383 - val_loss: 0.5504 - val_accuracy: 0.7584\n",
      "Epoch 177/200\n",
      "711/711 [==============================] - 0s 36us/sample - loss: 0.3774 - accuracy: 0.8383 - val_loss: 0.5471 - val_accuracy: 0.7584\n",
      "Epoch 178/200\n",
      "711/711 [==============================] - 0s 39us/sample - loss: 0.3791 - accuracy: 0.8326 - val_loss: 0.5476 - val_accuracy: 0.7584\n",
      "Epoch 179/200\n",
      "711/711 [==============================] - 0s 38us/sample - loss: 0.3748 - accuracy: 0.8425 - val_loss: 0.5436 - val_accuracy: 0.7584\n",
      "Epoch 180/200\n",
      "711/711 [==============================] - 0s 32us/sample - loss: 0.3727 - accuracy: 0.8397 - val_loss: 0.5494 - val_accuracy: 0.7584\n",
      "Epoch 181/200\n",
      "711/711 [==============================] - 0s 35us/sample - loss: 0.3728 - accuracy: 0.8425 - val_loss: 0.5458 - val_accuracy: 0.7584\n",
      "Epoch 182/200\n",
      "711/711 [==============================] - 0s 34us/sample - loss: 0.3730 - accuracy: 0.8425 - val_loss: 0.5483 - val_accuracy: 0.7584\n",
      "Epoch 183/200\n",
      "711/711 [==============================] - 0s 34us/sample - loss: 0.3731 - accuracy: 0.8425 - val_loss: 0.5469 - val_accuracy: 0.7584\n",
      "Epoch 184/200\n",
      "711/711 [==============================] - 0s 36us/sample - loss: 0.3728 - accuracy: 0.8425 - val_loss: 0.5485 - val_accuracy: 0.7584\n",
      "Epoch 185/200\n",
      "711/711 [==============================] - 0s 35us/sample - loss: 0.3752 - accuracy: 0.8411 - val_loss: 0.5493 - val_accuracy: 0.7584\n",
      "Epoch 186/200\n",
      "711/711 [==============================] - 0s 38us/sample - loss: 0.3742 - accuracy: 0.8397 - val_loss: 0.5468 - val_accuracy: 0.7584\n",
      "Epoch 187/200\n",
      "711/711 [==============================] - 0s 34us/sample - loss: 0.3733 - accuracy: 0.8411 - val_loss: 0.5499 - val_accuracy: 0.7584\n",
      "Epoch 188/200\n",
      "711/711 [==============================] - 0s 34us/sample - loss: 0.3722 - accuracy: 0.8425 - val_loss: 0.5480 - val_accuracy: 0.7584\n",
      "Epoch 189/200\n",
      "711/711 [==============================] - 0s 42us/sample - loss: 0.3758 - accuracy: 0.8312 - val_loss: 0.5460 - val_accuracy: 0.7584\n",
      "Epoch 190/200\n",
      "711/711 [==============================] - 0s 35us/sample - loss: 0.3746 - accuracy: 0.8411 - val_loss: 0.5520 - val_accuracy: 0.7584\n",
      "Epoch 191/200\n",
      "711/711 [==============================] - 0s 36us/sample - loss: 0.3727 - accuracy: 0.8425 - val_loss: 0.5526 - val_accuracy: 0.7584\n",
      "Epoch 192/200\n",
      "711/711 [==============================] - 0s 45us/sample - loss: 0.3721 - accuracy: 0.8425 - val_loss: 0.5467 - val_accuracy: 0.7584\n",
      "Epoch 193/200\n",
      "711/711 [==============================] - 0s 45us/sample - loss: 0.3741 - accuracy: 0.8354 - val_loss: 0.5524 - val_accuracy: 0.7584\n",
      "Epoch 194/200\n",
      "711/711 [==============================] - 0s 45us/sample - loss: 0.3718 - accuracy: 0.8425 - val_loss: 0.5507 - val_accuracy: 0.7584\n",
      "Epoch 195/200\n",
      "711/711 [==============================] - 0s 43us/sample - loss: 0.3722 - accuracy: 0.8397 - val_loss: 0.5492 - val_accuracy: 0.7584\n",
      "Epoch 196/200\n",
      "711/711 [==============================] - 0s 43us/sample - loss: 0.3723 - accuracy: 0.8411 - val_loss: 0.5498 - val_accuracy: 0.7584\n",
      "Epoch 197/200\n",
      "711/711 [==============================] - 0s 43us/sample - loss: 0.3713 - accuracy: 0.8425 - val_loss: 0.5516 - val_accuracy: 0.7584\n",
      "Epoch 198/200\n",
      "711/711 [==============================] - 0s 48us/sample - loss: 0.3736 - accuracy: 0.8368 - val_loss: 0.5501 - val_accuracy: 0.7584\n",
      "Epoch 199/200\n",
      "711/711 [==============================] - 0s 49us/sample - loss: 0.3714 - accuracy: 0.8411 - val_loss: 0.5470 - val_accuracy: 0.7584\n",
      "Epoch 200/200\n",
      "711/711 [==============================] - 0s 39us/sample - loss: 0.3764 - accuracy: 0.8425 - val_loss: 0.5501 - val_accuracy: 0.7584\n"
     ]
    },
    {
     "data": {
      "text/plain": [
       "<tensorflow.python.keras.callbacks.History at 0x179cdc45b08>"
      ]
     },
     "execution_count": 24,
     "metadata": {},
     "output_type": "execute_result"
    },
    {
     "data": {
      "application/javascript": [
       "\n",
       "            setTimeout(function() {\n",
       "                var nbb_cell_id = 24;\n",
       "                var nbb_unformatted_code = \"model.fit(X_train, y_train, validation_data=(X_test, y_test), batch_size=80, epochs=200)\";\n",
       "                var nbb_formatted_code = \"model.fit(X_train, y_train, validation_data=(X_test, y_test), batch_size=80, epochs=200)\";\n",
       "                var nbb_cells = Jupyter.notebook.get_cells();\n",
       "                for (var i = 0; i < nbb_cells.length; ++i) {\n",
       "                    if (nbb_cells[i].input_prompt_number == nbb_cell_id) {\n",
       "                        if (nbb_cells[i].get_text() == nbb_unformatted_code) {\n",
       "                             nbb_cells[i].set_text(nbb_formatted_code);\n",
       "                        }\n",
       "                        break;\n",
       "                    }\n",
       "                }\n",
       "            }, 500);\n",
       "            "
      ],
      "text/plain": [
       "<IPython.core.display.Javascript object>"
      ]
     },
     "metadata": {},
     "output_type": "display_data"
    }
   ],
   "source": [
    "model.fit(X_train, y_train, validation_data=(X_test, y_test), batch_size=80, epochs=200)"
   ]
  },
  {
   "cell_type": "code",
   "execution_count": 25,
   "metadata": {},
   "outputs": [
    {
     "name": "stdout",
     "output_type": "stream",
     "text": [
      "WARNING:tensorflow:Falling back from v2 loop because of error: Failed to find data adapter that can handle input: <class 'pandas.core.frame.DataFrame'>, <class 'NoneType'>\n",
      "178/178 [==============================] - 0s 62us/sample - loss: 0.5501 - accuracy: 0.7584\n"
     ]
    },
    {
     "data": {
      "text/plain": [
       "[0.5501133772764313, 0.75842696]"
      ]
     },
     "execution_count": 25,
     "metadata": {},
     "output_type": "execute_result"
    },
    {
     "data": {
      "application/javascript": [
       "\n",
       "            setTimeout(function() {\n",
       "                var nbb_cell_id = 25;\n",
       "                var nbb_unformatted_code = \"model.evaluate(X_test, y_test)\";\n",
       "                var nbb_formatted_code = \"model.evaluate(X_test, y_test)\";\n",
       "                var nbb_cells = Jupyter.notebook.get_cells();\n",
       "                for (var i = 0; i < nbb_cells.length; ++i) {\n",
       "                    if (nbb_cells[i].input_prompt_number == nbb_cell_id) {\n",
       "                        if (nbb_cells[i].get_text() == nbb_unformatted_code) {\n",
       "                             nbb_cells[i].set_text(nbb_formatted_code);\n",
       "                        }\n",
       "                        break;\n",
       "                    }\n",
       "                }\n",
       "            }, 500);\n",
       "            "
      ],
      "text/plain": [
       "<IPython.core.display.Javascript object>"
      ]
     },
     "metadata": {},
     "output_type": "display_data"
    }
   ],
   "source": [
    "model.evaluate(X_test, y_test)"
   ]
  },
  {
   "cell_type": "code",
   "execution_count": null,
   "metadata": {},
   "outputs": [],
   "source": []
  },
  {
   "cell_type": "code",
   "execution_count": 26,
   "metadata": {},
   "outputs": [
    {
     "data": {
      "application/javascript": [
       "\n",
       "            setTimeout(function() {\n",
       "                var nbb_cell_id = 26;\n",
       "                var nbb_unformatted_code = \"# model = Sequential()\\n# model.add(Dense(64, input_dim=X_train.shape[1], activation=\\\"relu\\\"))\\n# model.add(Dense(32, activation=\\\"relu\\\"))\\n# model.add(Dense(16, activation=\\\"relu\\\"))\\n# model.add(Dense(8, activation=\\\"relu\\\"))\\n# model.add(Dense(1, activation=\\\"softmax\\\"))\\n# model2 = Sequential() model2.add(Dense(64, input_dim=X_train.shape[1], activation=\\\"relu\\\"))\\n# model2.add(Dense(32, activation=\\\"relu\\\"))\\n# model2.add(Dense(16, activation=\\\"relu\\\"))\\n# model2.add(Dense(8, activation=\\\"relu\\\"))\\n# model2.add(Dense(1, activation=\\\"sigmoid\\\"))\";\n",
       "                var nbb_formatted_code = \"# model = Sequential()\\n# model.add(Dense(64, input_dim=X_train.shape[1], activation=\\\"relu\\\"))\\n# model.add(Dense(32, activation=\\\"relu\\\"))\\n# model.add(Dense(16, activation=\\\"relu\\\"))\\n# model.add(Dense(8, activation=\\\"relu\\\"))\\n# model.add(Dense(1, activation=\\\"softmax\\\"))\\n# model2 = Sequential() model2.add(Dense(64, input_dim=X_train.shape[1], activation=\\\"relu\\\"))\\n# model2.add(Dense(32, activation=\\\"relu\\\"))\\n# model2.add(Dense(16, activation=\\\"relu\\\"))\\n# model2.add(Dense(8, activation=\\\"relu\\\"))\\n# model2.add(Dense(1, activation=\\\"sigmoid\\\"))\";\n",
       "                var nbb_cells = Jupyter.notebook.get_cells();\n",
       "                for (var i = 0; i < nbb_cells.length; ++i) {\n",
       "                    if (nbb_cells[i].input_prompt_number == nbb_cell_id) {\n",
       "                        if (nbb_cells[i].get_text() == nbb_unformatted_code) {\n",
       "                             nbb_cells[i].set_text(nbb_formatted_code);\n",
       "                        }\n",
       "                        break;\n",
       "                    }\n",
       "                }\n",
       "            }, 500);\n",
       "            "
      ],
      "text/plain": [
       "<IPython.core.display.Javascript object>"
      ]
     },
     "metadata": {},
     "output_type": "display_data"
    }
   ],
   "source": [
    "# model = Sequential()\n",
    "# model.add(Dense(64, input_dim=X_train.shape[1], activation=\"relu\"))\n",
    "# model.add(Dense(32, activation=\"relu\"))\n",
    "# model.add(Dense(16, activation=\"relu\"))\n",
    "# model.add(Dense(8, activation=\"relu\"))\n",
    "# model.add(Dense(1, activation=\"softmax\"))\n",
    "# model2 = Sequential() model2.add(Dense(64, input_dim=X_train.shape[1], activation=\"relu\"))\n",
    "# model2.add(Dense(32, activation=\"relu\"))\n",
    "# model2.add(Dense(16, activation=\"relu\"))\n",
    "# model2.add(Dense(8, activation=\"relu\"))\n",
    "# model2.add(Dense(1, activation=\"sigmoid\"))"
   ]
  }
 ],
 "metadata": {
  "colab": {
   "collapsed_sections": [],
   "name": "Day 82 Lecture 1 Assignment.ipynb",
   "provenance": []
  },
  "kernelspec": {
   "display_name": "Python 3",
   "language": "python",
   "name": "python3"
  },
  "language_info": {
   "codemirror_mode": {
    "name": "ipython",
    "version": 3
   },
   "file_extension": ".py",
   "mimetype": "text/x-python",
   "name": "python",
   "nbconvert_exporter": "python",
   "pygments_lexer": "ipython3",
   "version": "3.7.9"
  }
 },
 "nbformat": 4,
 "nbformat_minor": 1
}
